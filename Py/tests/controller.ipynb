{
 "cells": [
  {
   "cell_type": "code",
   "execution_count": 1,
   "metadata": {},
   "outputs": [],
   "source": [
    "import vgamepad as vg\n",
    "import time\n",
    "\n",
    "gamepad = vg.VDS4Gamepad()"
   ]
  },
  {
   "cell_type": "code",
   "execution_count": 9,
   "metadata": {},
   "outputs": [
    {
     "ename": "KeyboardInterrupt",
     "evalue": "",
     "output_type": "error",
     "traceback": [
      "\u001b[1;31m---------------------------------------------------------------------------\u001b[0m",
      "\u001b[1;31mKeyboardInterrupt\u001b[0m                         Traceback (most recent call last)",
      "\u001b[1;32mj:\\git\\TensorFlowPSX\\Py\\tests\\controller.ipynb Cell 2\u001b[0m line \u001b[0;36m1\n\u001b[0;32m      <a href='vscode-notebook-cell:/j%3A/git/TensorFlowPSX/Py/tests/controller.ipynb#W1sZmlsZQ%3D%3D?line=7'>8</a>\u001b[0m gamepad\u001b[39m.\u001b[39mright_joystick_float(x_value_float\u001b[39m=\u001b[39m\u001b[39m0.2\u001b[39m, y_value_float\u001b[39m=\u001b[39m\u001b[39m-\u001b[39m\u001b[39m1.0\u001b[39m)   \n\u001b[0;32m      <a href='vscode-notebook-cell:/j%3A/git/TensorFlowPSX/Py/tests/controller.ipynb#W1sZmlsZQ%3D%3D?line=8'>9</a>\u001b[0m gamepad\u001b[39m.\u001b[39mupdate()\n\u001b[1;32m---> <a href='vscode-notebook-cell:/j%3A/git/TensorFlowPSX/Py/tests/controller.ipynb#W1sZmlsZQ%3D%3D?line=9'>10</a>\u001b[0m time\u001b[39m.\u001b[39;49msleep(\u001b[39m0.05\u001b[39;49m)\n",
      "\u001b[1;31mKeyboardInterrupt\u001b[0m: "
     ]
    }
   ],
   "source": [
    "\n",
    "time.sleep(1.0)\n",
    "while True:\n",
    "    \n",
    "    gamepad.right_joystick_float(x_value_float=0.5, y_value_float=1.0)   \n",
    "    gamepad.update()  \n",
    "    time.sleep(0.300)\n",
    "    # (...)\n",
    "    gamepad.right_joystick_float(x_value_float=0.2, y_value_float=-1.0)   \n",
    "    gamepad.update()\n",
    "    time.sleep(0.05)"
   ]
  }
 ],
 "metadata": {
  "kernelspec": {
   "display_name": "Python 3.9.9 ('GTAI2')",
   "language": "python",
   "name": "python3"
  },
  "language_info": {
   "codemirror_mode": {
    "name": "ipython",
    "version": 3
   },
   "file_extension": ".py",
   "mimetype": "text/x-python",
   "name": "python",
   "nbconvert_exporter": "python",
   "pygments_lexer": "ipython3",
   "version": "3.10.9"
  },
  "orig_nbformat": 4,
  "vscode": {
   "interpreter": {
    "hash": "dcc65f9b7d515ed427f6a959a8b908e35cc53d933b40bc021105556ab53999de"
   }
  }
 },
 "nbformat": 4,
 "nbformat_minor": 2
}

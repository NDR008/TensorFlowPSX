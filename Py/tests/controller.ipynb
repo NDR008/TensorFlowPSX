{
 "cells": [
  {
   "cell_type": "code",
   "execution_count": 1,
   "metadata": {},
   "outputs": [],
   "source": [
    "import vgamepad as vg\n",
    "import time\n",
    "\n",
    "gamepad = vg.VDS4Gamepad()"
   ]
  },
  {
   "cell_type": "code",
   "execution_count": 4,
   "metadata": {},
   "outputs": [],
   "source": [
    "\n",
    "time.sleep(5.0)\n",
    "while True:\n",
    "    \n",
    "    gamepad.press_button(button=vg.DS4_BUTTONS.DS4_BUTTON_CROSS )\n",
    "    gamepad.update()\n",
    "    time.sleep(0.300)\n",
    "    # (...)\n",
    "    gamepad.release_button(button=vg.DS4_BUTTONS.DS4_BUTTON_CROSS )\n",
    "    gamepad.update()\n",
    "    time.sleep(0.05)"
   ]
  }
 ],
 "metadata": {
  "kernelspec": {
   "display_name": "Python 3.9.9 ('GTAI2')",
   "language": "python",
   "name": "python3"
  },
  "language_info": {
   "codemirror_mode": {
    "name": "ipython",
    "version": 3
   },
   "file_extension": ".py",
   "mimetype": "text/x-python",
   "name": "python",
   "nbconvert_exporter": "python",
   "pygments_lexer": "ipython3",
   "version": "3.9.9"
  },
  "orig_nbformat": 4,
  "vscode": {
   "interpreter": {
    "hash": "dcc65f9b7d515ed427f6a959a8b908e35cc53d933b40bc021105556ab53999de"
   }
  }
 },
 "nbformat": 4,
 "nbformat_minor": 2
}

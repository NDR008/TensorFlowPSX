{
 "cells": [
  {
   "cell_type": "code",
   "execution_count": 19,
   "metadata": {},
   "outputs": [
    {
     "name": "stdout",
     "output_type": "stream",
     "text": [
      "[[[1 1 1]\n",
      "  [2 2 2]]\n",
      "\n",
      " [[3 3 3]\n",
      "  [4 4 4]]]\n",
      "(2, 2, 3)\n"
     ]
    },
    {
     "ename": "TypeError",
     "evalue": "dstack() takes 1 positional argument but 3 were given",
     "output_type": "error",
     "traceback": [
      "\u001b[1;31m---------------------------------------------------------------------------\u001b[0m",
      "\u001b[1;31mTypeError\u001b[0m                                 Traceback (most recent call last)",
      "\u001b[1;32mj:\\git\\TensorFlowPSX\\Py\\tests\\numpy.ipynb Cell 1\u001b[0m line \u001b[0;36m2\n\u001b[0;32m     <a href='vscode-notebook-cell:/j%3A/git/TensorFlowPSX/Py/tests/numpy.ipynb#W0sZmlsZQ%3D%3D?line=22'>23</a>\u001b[0m \u001b[39mprint\u001b[39m (j)\n\u001b[0;32m     <a href='vscode-notebook-cell:/j%3A/git/TensorFlowPSX/Py/tests/numpy.ipynb#W0sZmlsZQ%3D%3D?line=23'>24</a>\u001b[0m \u001b[39mprint\u001b[39m (np\u001b[39m.\u001b[39mshape(j))\n\u001b[1;32m---> <a href='vscode-notebook-cell:/j%3A/git/TensorFlowPSX/Py/tests/numpy.ipynb#W0sZmlsZQ%3D%3D?line=25'>26</a>\u001b[0m rgb \u001b[39m=\u001b[39m np\u001b[39m.\u001b[39;49mdstack(a,b,c)\n\u001b[0;32m     <a href='vscode-notebook-cell:/j%3A/git/TensorFlowPSX/Py/tests/numpy.ipynb#W0sZmlsZQ%3D%3D?line=27'>28</a>\u001b[0m j\u001b[39m.\u001b[39mreshape(\u001b[39m3\u001b[39m,\u001b[39m2\u001b[39m,\u001b[39m2\u001b[39m)\n",
      "\u001b[1;31mTypeError\u001b[0m: dstack() takes 1 positional argument but 3 were given"
     ]
    }
   ],
   "source": [
    "import numpy as np\n",
    "\n",
    "a = np.array([1,1,1])\n",
    "b = np.array([2,2,2])\n",
    "\n",
    "c = []\n",
    "c.append(a)\n",
    "c.append(b)\n",
    "\n",
    "\n",
    "d = np.array([3,3,3])\n",
    "e = np.array([4,4,4])\n",
    "\n",
    "f = []\n",
    "f.append(d)\n",
    "f.append(e)\n",
    "\n",
    "j = []\n",
    "j.append(c)\n",
    "j.append(f)\n",
    "j = np.array(j)\n",
    "\n",
    "print (j)\n",
    "print (np.shape(j))\n",
    "\n",
    "rgb = np.dstack((a,b,c)()\n",
    "\n",
    "j.reshape(3,2,2)"
   ]
  },
  {
   "cell_type": "code",
   "execution_count": null,
   "metadata": {},
   "outputs": [],
   "source": []
  }
 ],
 "metadata": {
  "kernelspec": {
   "display_name": "GTRay2.6.3_torch_tb",
   "language": "python",
   "name": "python3"
  },
  "language_info": {
   "codemirror_mode": {
    "name": "ipython",
    "version": 3
   },
   "file_extension": ".py",
   "mimetype": "text/x-python",
   "name": "python",
   "nbconvert_exporter": "python",
   "pygments_lexer": "ipython3",
   "version": "3.10.13"
  }
 },
 "nbformat": 4,
 "nbformat_minor": 2
}

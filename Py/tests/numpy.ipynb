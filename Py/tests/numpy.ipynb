{
 "cells": [
  {
   "cell_type": "code",
   "execution_count": 23,
   "metadata": {},
   "outputs": [
    {
     "name": "stdout",
     "output_type": "stream",
     "text": [
      "[[[1 1 1]\n",
      "  [2 2 2]]\n",
      "\n",
      " [[3 3 3]\n",
      "  [4 4 4]]]\n",
      "(2, 2, 3)\n"
     ]
    },
    {
     "ename": "ValueError",
     "evalue": "all the input array dimensions except for the concatenation axis must match exactly, but along dimension 0, the array at index 0 has size 1 and the array at index 2 has size 2",
     "output_type": "error",
     "traceback": [
      "\u001b[1;31m---------------------------------------------------------------------------\u001b[0m",
      "\u001b[1;31mValueError\u001b[0m                                Traceback (most recent call last)",
      "\u001b[1;32mj:\\git\\TensorFlowPSX\\Py\\tests\\numpy.ipynb Cell 1\u001b[0m line \u001b[0;36m2\n\u001b[0;32m     <a href='vscode-notebook-cell:/j%3A/git/TensorFlowPSX/Py/tests/numpy.ipynb#W0sZmlsZQ%3D%3D?line=22'>23</a>\u001b[0m \u001b[39mprint\u001b[39m (j)\n\u001b[0;32m     <a href='vscode-notebook-cell:/j%3A/git/TensorFlowPSX/Py/tests/numpy.ipynb#W0sZmlsZQ%3D%3D?line=23'>24</a>\u001b[0m \u001b[39mprint\u001b[39m (np\u001b[39m.\u001b[39mshape(j))\n\u001b[1;32m---> <a href='vscode-notebook-cell:/j%3A/git/TensorFlowPSX/Py/tests/numpy.ipynb#W0sZmlsZQ%3D%3D?line=25'>26</a>\u001b[0m rgb \u001b[39m=\u001b[39m np\u001b[39m.\u001b[39;49mdstack((a,b,c))\n\u001b[0;32m     <a href='vscode-notebook-cell:/j%3A/git/TensorFlowPSX/Py/tests/numpy.ipynb#W0sZmlsZQ%3D%3D?line=27'>28</a>\u001b[0m j\u001b[39m.\u001b[39mreshape(\u001b[39m3\u001b[39m,\u001b[39m2\u001b[39m,\u001b[39m2\u001b[39m)\n",
      "File \u001b[1;32mc:\\Users\\nadir\\anaconda3\\envs\\GTRay2.6.3_torch_tb\\lib\\site-packages\\numpy\\lib\\shape_base.py:715\u001b[0m, in \u001b[0;36mdstack\u001b[1;34m(tup)\u001b[0m\n\u001b[0;32m    713\u001b[0m \u001b[39mif\u001b[39;00m \u001b[39mnot\u001b[39;00m \u001b[39misinstance\u001b[39m(arrs, \u001b[39mlist\u001b[39m):\n\u001b[0;32m    714\u001b[0m     arrs \u001b[39m=\u001b[39m [arrs]\n\u001b[1;32m--> 715\u001b[0m \u001b[39mreturn\u001b[39;00m _nx\u001b[39m.\u001b[39;49mconcatenate(arrs, \u001b[39m2\u001b[39;49m)\n",
      "\u001b[1;31mValueError\u001b[0m: all the input array dimensions except for the concatenation axis must match exactly, but along dimension 0, the array at index 0 has size 1 and the array at index 2 has size 2"
     ]
    }
   ],
   "source": [
    "import numpy as np\n",
    "import opencv as cv\n",
    "\n",
    "a = np.array([1,1,1])\n",
    "b = np.array([2,2,2])\n",
    "\n",
    "c = []\n",
    "c.append(a)\n",
    "c.append(b)\n",
    "\n",
    "\n",
    "d = np.array([3,3,3])\n",
    "e = np.array([4,4,4])\n",
    "\n",
    "f = []\n",
    "f.append(d)\n",
    "f.append(e)\n",
    "\n",
    "j = []\n",
    "j.append(c)\n",
    "j.append(f)\n",
    "j = np.array(j)\n",
    "\n",
    "print (j)\n",
    "print (np.shape(j))\n",
    "\n",
    "rgb = np.dstack((a,b,c))\n",
    "\n",
    "j.reshape(3,2,2)"
   ]
  },
  {
   "cell_type": "code",
   "execution_count": 22,
   "metadata": {},
   "outputs": [
    {
     "ename": "NameError",
     "evalue": "name 'r' is not defined",
     "output_type": "error",
     "traceback": [
      "\u001b[1;31m---------------------------------------------------------------------------\u001b[0m",
      "\u001b[1;31mNameError\u001b[0m                                 Traceback (most recent call last)",
      "\u001b[1;32mj:\\git\\TensorFlowPSX\\Py\\tests\\numpy.ipynb Cell 2\u001b[0m line \u001b[0;36m4\n\u001b[0;32m      <a href='vscode-notebook-cell:/j%3A/git/TensorFlowPSX/Py/tests/numpy.ipynb#W1sZmlsZQ%3D%3D?line=1'>2</a>\u001b[0m \u001b[39mimport\u001b[39;00m \u001b[39mnumpy\u001b[39;00m \u001b[39mas\u001b[39;00m \u001b[39mnp\u001b[39;00m\n\u001b[0;32m      <a href='vscode-notebook-cell:/j%3A/git/TensorFlowPSX/Py/tests/numpy.ipynb#W1sZmlsZQ%3D%3D?line=2'>3</a>\u001b[0m rgbArray \u001b[39m=\u001b[39m np\u001b[39m.\u001b[39mzeros((\u001b[39m512\u001b[39m,\u001b[39m512\u001b[39m,\u001b[39m3\u001b[39m), \u001b[39m'\u001b[39m\u001b[39muint8\u001b[39m\u001b[39m'\u001b[39m)\n\u001b[1;32m----> <a href='vscode-notebook-cell:/j%3A/git/TensorFlowPSX/Py/tests/numpy.ipynb#W1sZmlsZQ%3D%3D?line=3'>4</a>\u001b[0m rgbArray[\u001b[39m.\u001b[39m\u001b[39m.\u001b[39m\u001b[39m.\u001b[39m, \u001b[39m0\u001b[39m] \u001b[39m=\u001b[39m r\u001b[39m*\u001b[39m\u001b[39m256\u001b[39m\n\u001b[0;32m      <a href='vscode-notebook-cell:/j%3A/git/TensorFlowPSX/Py/tests/numpy.ipynb#W1sZmlsZQ%3D%3D?line=4'>5</a>\u001b[0m rgbArray[\u001b[39m.\u001b[39m\u001b[39m.\u001b[39m\u001b[39m.\u001b[39m, \u001b[39m1\u001b[39m] \u001b[39m=\u001b[39m g\u001b[39m*\u001b[39m\u001b[39m256\u001b[39m\n\u001b[0;32m      <a href='vscode-notebook-cell:/j%3A/git/TensorFlowPSX/Py/tests/numpy.ipynb#W1sZmlsZQ%3D%3D?line=5'>6</a>\u001b[0m rgbArray[\u001b[39m.\u001b[39m\u001b[39m.\u001b[39m\u001b[39m.\u001b[39m, \u001b[39m2\u001b[39m] \u001b[39m=\u001b[39m b\u001b[39m*\u001b[39m\u001b[39m256\u001b[39m\n",
      "\u001b[1;31mNameError\u001b[0m: name 'r' is not defined"
     ]
    }
   ],
   "source": [
    "from PIL import Image\n",
    "import numpy as np\n",
    "rgbArray = np.zeros((512,512,3), 'uint8')\n",
    "rgbArray[..., 0] = a*256\n",
    "rgbArray[..., 1] = g*256\n",
    "rgbArray[..., 2] = b*256\n",
    "img = Image.fromarray(rgbArray)\n",
    "img.save('myimg.jpeg')"
   ]
  }
 ],
 "metadata": {
  "kernelspec": {
   "display_name": "GTRay2.6.3_torch_tb",
   "language": "python",
   "name": "python3"
  },
  "language_info": {
   "codemirror_mode": {
    "name": "ipython",
    "version": 3
   },
   "file_extension": ".py",
   "mimetype": "text/x-python",
   "name": "python",
   "nbconvert_exporter": "python",
   "pygments_lexer": "ipython3",
   "version": "3.10.13"
  }
 },
 "nbformat": 4,
 "nbformat_minor": 2
}

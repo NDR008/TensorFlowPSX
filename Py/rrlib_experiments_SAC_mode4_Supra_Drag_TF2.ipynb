{
 "cells": [
  {
   "attachments": {},
   "cell_type": "markdown",
   "metadata": {},
   "source": [
    "# Setup Gym Environment\n",
    "\n",
    "```py\n",
    "my_config[\"interface\"] = MyGranTurismoRTGYM\n",
    "my_config[\"time_step_duration\"] = 0.05 # when to give up\n",
    "my_config[\"start_obs_capture\"] = 0.05 # when to capture \n",
    "my_config[\"time_step_timeout_factor\"] = 1.0 # how late is OK\n",
    "my_config[\"act_buf_len\"] = 3 # how many past actions\n",
    "my_config[\"reset_act_buf\"] = True # resect action buffer on reset\n",
    "my_config[\"benchmark\"] = True\n",
    "my_config[\"benchmark_polyak\"] = 0.2\n",
    "```\n",
    "\n",
    "This section needs to be setup for any method"
   ]
  },
  {
   "cell_type": "code",
   "execution_count": 2,
   "metadata": {},
   "outputs": [],
   "source": [
    "import tensorflow as tf\n",
    "\n",
    "gpus = tf.config.experimental.list_physical_devices('GPU')\n",
    "tf.config.experimental.set_memory_growth(gpus[0], True)"
   ]
  },
  {
   "cell_type": "code",
   "execution_count": 3,
   "metadata": {},
   "outputs": [],
   "source": [
    "debugAsGym = False\n",
    "testResult = False\n",
    "\n",
    "from myRTClass import MyGranTurismoRTGYM, DEFAULT_CONFIG_DICT\n",
    "import gymnasium\n",
    "\n",
    "my_config = DEFAULT_CONFIG_DICT\n",
    "my_config[\"interface\"] = MyGranTurismoRTGYM\n",
    "my_config[\"time_step_duration\"] = 0.1\n",
    "my_config[\"start_obs_capture\"] = 0.1\n",
    "my_config[\"time_step_timeout_factor\"] = 1.0\n",
    "my_config[\"ep_max_length\"] = 224\n",
    "my_config[\"act_buf_len\"] = 3\n",
    "my_config[\"reset_act_buf\"] = False\n",
    "my_config[\"benchmark\"] = True\n",
    "my_config[\"benchmark_polyak\"] = 0.2\n",
    "\n",
    "my_config[\"interface_kwargs\"] = {\n",
    "  'debugFlag': False, # do not use render() while True\n",
    "  'img_hist_len': 3,\n",
    "  'modelMode': 4,\n",
    "  'agent' : 'SAC',\n",
    "  #  [42, 42, K], [84, 84, K], [10, 10, K], [240, 320, K] and  [480, 640, K]\n",
    "  'imageWidth' : 42, # there is a default Cov layer for PPO with 240 x 320\n",
    "  'imageHeight' : 42,\n",
    "  'trackChoice' : 3, # 1 is High Speed Ring, 2 is 0-400m in MR2, #3 is 0-400m in Supra, #4 is test ring\n",
    "}"
   ]
  },
  {
   "cell_type": "code",
   "execution_count": 4,
   "metadata": {},
   "outputs": [],
   "source": [
    "if debugAsGym:\n",
    "    env = gymnasium.make(\"real-time-gym-v1\", config=my_config)"
   ]
  },
  {
   "cell_type": "code",
   "execution_count": 5,
   "metadata": {},
   "outputs": [],
   "source": [
    "if debugAsGym:\n",
    "    env.reset()"
   ]
  },
  {
   "attachments": {},
   "cell_type": "markdown",
   "metadata": {},
   "source": [
    "# Register the environment in a way that RLlib is happy"
   ]
  },
  {
   "cell_type": "code",
   "execution_count": 6,
   "metadata": {},
   "outputs": [],
   "source": [
    "if not debugAsGym and not testResult:\n",
    "    def env_creator(env_config):\n",
    "        env = gymnasium.make(\"real-time-gym-v1\", config=env_config)\n",
    "        return env  # return an env instance\n",
    "\n",
    "    from ray.tune.registry import register_env\n",
    "    register_env(\"gt-rtgym-env-v1\", lambda config: env_creator(my_config)) # better way"
   ]
  },
  {
   "cell_type": "code",
   "execution_count": 7,
   "metadata": {},
   "outputs": [
    {
     "name": "stderr",
     "output_type": "stream",
     "text": [
      "2023-05-23 22:21:42,145\tINFO worker.py:1616 -- Started a local Ray instance. View the dashboard at \u001b[1m\u001b[32m127.0.0.1:8265 \u001b[39m\u001b[22m\n"
     ]
    }
   ],
   "source": [
    "if not debugAsGym and not testResult:\n",
    "    import ray\n",
    "    ray.shutdown()\n",
    "    ray.init()"
   ]
  },
  {
   "cell_type": "code",
   "execution_count": 8,
   "metadata": {},
   "outputs": [
    {
     "name": "stderr",
     "output_type": "stream",
     "text": [
      "2023-05-23 22:21:46,886\tINFO algorithm_config.py:3307 -- Executing eagerly (framework='tf2'), with eager_tracing=False. For production workloads, make sure to set eager_tracing=True  in order to match the speed of tf-static-graph (framework='tf'). For debugging purposes, `eager_tracing=False` is the best choice.\n",
      "2023-05-23 22:21:46,913\tINFO algorithm.py:527 -- Current log_level is WARN. For more information, set 'log_level': 'INFO' / 'DEBUG' or use the -v and -vv flags.\n"
     ]
    },
    {
     "name": "stdout",
     "output_type": "stream",
     "text": [
      "GT Real Time instantiated\n",
      "GT AI Server instantiated for rtgym\n",
      "still simple reward system\n",
      "starting up on localhost port 9999\n",
      "Waiting for a connection\n",
      "Connection from ('127.0.0.1', 57041)\n"
     ]
    }
   ],
   "source": [
    "if not debugAsGym and not testResult:\n",
    "    from ray.rllib.algorithms.sac import SACConfig\n",
    "    from ray.rllib.algorithms.ppo import PPOConfig\n",
    "    from ray.rllib.algorithms.a2c import A2CConfig\n",
    "\n",
    "    algo = (\n",
    "        SACConfig()\n",
    "        .resources(\n",
    "            num_gpus=1,\n",
    "            num_gpus_per_learner_worker=1,\n",
    "            #num_cpus_for_local_worker=1,\n",
    "            num_cpus_per_learner_worker=16,\n",
    "            num_learner_workers=1\n",
    "            )\n",
    "        .rollouts(\n",
    "            #num_rollout_workers=1,\n",
    "            enable_connectors=True,\n",
    "            batch_mode=\"truncate_episodes\",\n",
    "            #num_envs_per_worker=1\n",
    "            #rollout_fragment_length=256\n",
    "            )\n",
    "        .framework(\n",
    "            framework=\"tf2\",\n",
    "            #eager_tracing=True,\n",
    "            )\n",
    "        .environment(\n",
    "            env=\"gt-rtgym-env-v1\",\n",
    "            disable_env_checking=True,\n",
    "            render_env=False,\n",
    "            )\n",
    "        .training(\n",
    "            #lr=tune.grid_search([0.01, 0.001, 0.0001])\n",
    "            #lambda_=0.95,\n",
    "            #gamma=0.99,\n",
    "            #sgd_minibatch_size=128,\n",
    "            train_batch_size=155,\n",
    "            #num_sgd_iter=8,\n",
    "            #clip_param=0.2,\n",
    "            #model={\"fcnet_hiddens\": [1, 8]},\n",
    "        )\n",
    "        .build()\n",
    "    )"
   ]
  },
  {
   "cell_type": "code",
   "execution_count": 9,
   "metadata": {},
   "outputs": [
    {
     "name": "stdout",
     "output_type": "stream",
     "text": [
      "reset triggered\n",
      "reload save for track : 4\n"
     ]
    },
    {
     "name": "stderr",
     "output_type": "stream",
     "text": [
      "c:\\Users\\nadir\\anaconda3\\envs\\GTAI2\\lib\\site-packages\\rtgym\\envs\\real_time_env.py:376: UserWarning: Time-step timed out. Elapsed since last time-step: 0.19265539999999248\n",
      "  warnings.warn(f\"Time-step timed out. Elapsed since last time-step: {now - self.__t_end}\")\n",
      "2023-05-23 22:22:06,787\tWARNING policy.py:134 -- Can not figure out a durable policy name for <class 'ray.rllib.policy.eager_tf_policy.SACTFPolicy_eager'>. You are probably trying to checkpoint a custom policy. Raw policy class may cause problems when the checkpoint needs to be loaded in the future. To fix this, make sure you add your custom policy in rllib.algorithms.registry.POLICIES.\n"
     ]
    },
    {
     "name": "stdout",
     "output_type": "stream",
     "text": [
      "Loop:  0\n",
      "Saved 0\n"
     ]
    },
    {
     "name": "stderr",
     "output_type": "stream",
     "text": [
      "c:\\Users\\nadir\\anaconda3\\envs\\GTAI2\\lib\\site-packages\\rtgym\\envs\\real_time_env.py:376: UserWarning: Time-step timed out. Elapsed since last time-step: 0.15051689999992846\n",
      "  warnings.warn(f\"Time-step timed out. Elapsed since last time-step: {now - self.__t_end}\")\n"
     ]
    },
    {
     "name": "stdout",
     "output_type": "stream",
     "text": [
      "Loop:  1\n",
      "reset triggered\n",
      "reload save for track : 4\n"
     ]
    },
    {
     "name": "stderr",
     "output_type": "stream",
     "text": [
      "c:\\Users\\nadir\\anaconda3\\envs\\GTAI2\\lib\\site-packages\\rtgym\\envs\\real_time_env.py:376: UserWarning: Time-step timed out. Elapsed since last time-step: 0.1288151000006934\n",
      "  warnings.warn(f\"Time-step timed out. Elapsed since last time-step: {now - self.__t_end}\")\n"
     ]
    },
    {
     "name": "stdout",
     "output_type": "stream",
     "text": [
      "Loop:  2\n",
      "Loop:  3\n",
      "reset triggered\n",
      "reload save for track : 4\n"
     ]
    },
    {
     "name": "stderr",
     "output_type": "stream",
     "text": [
      "c:\\Users\\nadir\\anaconda3\\envs\\GTAI2\\lib\\site-packages\\rtgym\\envs\\real_time_env.py:376: UserWarning: Time-step timed out. Elapsed since last time-step: 0.14136940000128106\n",
      "  warnings.warn(f\"Time-step timed out. Elapsed since last time-step: {now - self.__t_end}\")\n"
     ]
    },
    {
     "name": "stdout",
     "output_type": "stream",
     "text": [
      "Loop:  4\n",
      "Loop:  5\n",
      "reset triggered\n",
      "reload save for track : 4\n"
     ]
    },
    {
     "name": "stderr",
     "output_type": "stream",
     "text": [
      "c:\\Users\\nadir\\anaconda3\\envs\\GTAI2\\lib\\site-packages\\rtgym\\envs\\real_time_env.py:376: UserWarning: Time-step timed out. Elapsed since last time-step: 0.1491127000012682\n",
      "  warnings.warn(f\"Time-step timed out. Elapsed since last time-step: {now - self.__t_end}\")\n"
     ]
    },
    {
     "name": "stdout",
     "output_type": "stream",
     "text": [
      "Loop:  6\n",
      "Loop:  7\n",
      "reset triggered\n",
      "reload save for track : 4\n"
     ]
    },
    {
     "name": "stderr",
     "output_type": "stream",
     "text": [
      "c:\\Users\\nadir\\anaconda3\\envs\\GTAI2\\lib\\site-packages\\rtgym\\envs\\real_time_env.py:376: UserWarning: Time-step timed out. Elapsed since last time-step: 0.1502334000012695\n",
      "  warnings.warn(f\"Time-step timed out. Elapsed since last time-step: {now - self.__t_end}\")\n"
     ]
    },
    {
     "name": "stdout",
     "output_type": "stream",
     "text": [
      "Loop:  8\n",
      "Loop:  9\n"
     ]
    },
    {
     "name": "stderr",
     "output_type": "stream",
     "text": [
      "2023-05-23 22:23:47,496\tWARNING policy.py:134 -- Can not figure out a durable policy name for <class 'ray.rllib.policy.eager_tf_policy.SACTFPolicy_eager'>. You are probably trying to checkpoint a custom policy. Raw policy class may cause problems when the checkpoint needs to be loaded in the future. To fix this, make sure you add your custom policy in rllib.algorithms.registry.POLICIES.\n"
     ]
    },
    {
     "name": "stdout",
     "output_type": "stream",
     "text": [
      "Loop:  10\n",
      "Saved 10\n"
     ]
    },
    {
     "name": "stderr",
     "output_type": "stream",
     "text": [
      "c:\\Users\\nadir\\anaconda3\\envs\\GTAI2\\lib\\site-packages\\rtgym\\envs\\real_time_env.py:376: UserWarning: Time-step timed out. Elapsed since last time-step: 0.11059550000118179\n",
      "  warnings.warn(f\"Time-step timed out. Elapsed since last time-step: {now - self.__t_end}\")\n"
     ]
    },
    {
     "name": "stdout",
     "output_type": "stream",
     "text": [
      "reset triggered\n",
      "reload save for track : 4\n"
     ]
    },
    {
     "name": "stderr",
     "output_type": "stream",
     "text": [
      "c:\\Users\\nadir\\anaconda3\\envs\\GTAI2\\lib\\site-packages\\rtgym\\envs\\real_time_env.py:376: UserWarning: Time-step timed out. Elapsed since last time-step: 0.1420709000001068\n",
      "  warnings.warn(f\"Time-step timed out. Elapsed since last time-step: {now - self.__t_end}\")\n"
     ]
    },
    {
     "name": "stdout",
     "output_type": "stream",
     "text": [
      "Loop:  11\n",
      "Loop:  12\n",
      "reset triggered\n",
      "reload save for track : 4\n"
     ]
    },
    {
     "name": "stderr",
     "output_type": "stream",
     "text": [
      "c:\\Users\\nadir\\anaconda3\\envs\\GTAI2\\lib\\site-packages\\rtgym\\envs\\real_time_env.py:376: UserWarning: Time-step timed out. Elapsed since last time-step: 0.13550250000125175\n",
      "  warnings.warn(f\"Time-step timed out. Elapsed since last time-step: {now - self.__t_end}\")\n"
     ]
    },
    {
     "name": "stdout",
     "output_type": "stream",
     "text": [
      "Loop:  13\n",
      "Loop:  14\n"
     ]
    },
    {
     "name": "stderr",
     "output_type": "stream",
     "text": [
      "c:\\Users\\nadir\\anaconda3\\envs\\GTAI2\\lib\\site-packages\\rtgym\\envs\\real_time_env.py:376: UserWarning: Time-step timed out. Elapsed since last time-step: 1.1593271000009224\n",
      "  warnings.warn(f\"Time-step timed out. Elapsed since last time-step: {now - self.__t_end}\")\n",
      "c:\\Users\\nadir\\anaconda3\\envs\\GTAI2\\lib\\site-packages\\rtgym\\envs\\real_time_env.py:376: UserWarning: Time-step timed out. Elapsed since last time-step: 0.9738504999999975\n",
      "  warnings.warn(f\"Time-step timed out. Elapsed since last time-step: {now - self.__t_end}\")\n",
      "c:\\Users\\nadir\\anaconda3\\envs\\GTAI2\\lib\\site-packages\\rtgym\\envs\\real_time_env.py:376: UserWarning: Time-step timed out. Elapsed since last time-step: 0.9358687000000145\n",
      "  warnings.warn(f\"Time-step timed out. Elapsed since last time-step: {now - self.__t_end}\")\n",
      "c:\\Users\\nadir\\anaconda3\\envs\\GTAI2\\lib\\site-packages\\rtgym\\envs\\real_time_env.py:376: UserWarning: Time-step timed out. Elapsed since last time-step: 0.9937914999999862\n",
      "  warnings.warn(f\"Time-step timed out. Elapsed since last time-step: {now - self.__t_end}\")\n",
      "c:\\Users\\nadir\\anaconda3\\envs\\GTAI2\\lib\\site-packages\\rtgym\\envs\\real_time_env.py:376: UserWarning: Time-step timed out. Elapsed since last time-step: 1.0546948000000214\n",
      "  warnings.warn(f\"Time-step timed out. Elapsed since last time-step: {now - self.__t_end}\")\n",
      "c:\\Users\\nadir\\anaconda3\\envs\\GTAI2\\lib\\site-packages\\rtgym\\envs\\real_time_env.py:376: UserWarning: Time-step timed out. Elapsed since last time-step: 0.908970399999987\n",
      "  warnings.warn(f\"Time-step timed out. Elapsed since last time-step: {now - self.__t_end}\")\n",
      "c:\\Users\\nadir\\anaconda3\\envs\\GTAI2\\lib\\site-packages\\rtgym\\envs\\real_time_env.py:376: UserWarning: Time-step timed out. Elapsed since last time-step: 0.9831706000000224\n",
      "  warnings.warn(f\"Time-step timed out. Elapsed since last time-step: {now - self.__t_end}\")\n",
      "c:\\Users\\nadir\\anaconda3\\envs\\GTAI2\\lib\\site-packages\\rtgym\\envs\\real_time_env.py:376: UserWarning: Time-step timed out. Elapsed since last time-step: 0.977963399999993\n",
      "  warnings.warn(f\"Time-step timed out. Elapsed since last time-step: {now - self.__t_end}\")\n",
      "c:\\Users\\nadir\\anaconda3\\envs\\GTAI2\\lib\\site-packages\\rtgym\\envs\\real_time_env.py:376: UserWarning: Time-step timed out. Elapsed since last time-step: 0.9845936000000108\n",
      "  warnings.warn(f\"Time-step timed out. Elapsed since last time-step: {now - self.__t_end}\")\n",
      "c:\\Users\\nadir\\anaconda3\\envs\\GTAI2\\lib\\site-packages\\rtgym\\envs\\real_time_env.py:376: UserWarning: Time-step timed out. Elapsed since last time-step: 0.9700445000000002\n",
      "  warnings.warn(f\"Time-step timed out. Elapsed since last time-step: {now - self.__t_end}\")\n",
      "c:\\Users\\nadir\\anaconda3\\envs\\GTAI2\\lib\\site-packages\\rtgym\\envs\\real_time_env.py:376: UserWarning: Time-step timed out. Elapsed since last time-step: 0.9810583000000008\n",
      "  warnings.warn(f\"Time-step timed out. Elapsed since last time-step: {now - self.__t_end}\")\n",
      "c:\\Users\\nadir\\anaconda3\\envs\\GTAI2\\lib\\site-packages\\rtgym\\envs\\real_time_env.py:376: UserWarning: Time-step timed out. Elapsed since last time-step: 0.9959248000000116\n",
      "  warnings.warn(f\"Time-step timed out. Elapsed since last time-step: {now - self.__t_end}\")\n",
      "c:\\Users\\nadir\\anaconda3\\envs\\GTAI2\\lib\\site-packages\\rtgym\\envs\\real_time_env.py:376: UserWarning: Time-step timed out. Elapsed since last time-step: 1.008869400000009\n",
      "  warnings.warn(f\"Time-step timed out. Elapsed since last time-step: {now - self.__t_end}\")\n",
      "c:\\Users\\nadir\\anaconda3\\envs\\GTAI2\\lib\\site-packages\\rtgym\\envs\\real_time_env.py:376: UserWarning: Time-step timed out. Elapsed since last time-step: 0.9561144000000183\n",
      "  warnings.warn(f\"Time-step timed out. Elapsed since last time-step: {now - self.__t_end}\")\n",
      "c:\\Users\\nadir\\anaconda3\\envs\\GTAI2\\lib\\site-packages\\rtgym\\envs\\real_time_env.py:376: UserWarning: Time-step timed out. Elapsed since last time-step: 1.0002213999999867\n",
      "  warnings.warn(f\"Time-step timed out. Elapsed since last time-step: {now - self.__t_end}\")\n",
      "c:\\Users\\nadir\\anaconda3\\envs\\GTAI2\\lib\\site-packages\\rtgym\\envs\\real_time_env.py:376: UserWarning: Time-step timed out. Elapsed since last time-step: 0.9770966000000101\n",
      "  warnings.warn(f\"Time-step timed out. Elapsed since last time-step: {now - self.__t_end}\")\n",
      "c:\\Users\\nadir\\anaconda3\\envs\\GTAI2\\lib\\site-packages\\rtgym\\envs\\real_time_env.py:376: UserWarning: Time-step timed out. Elapsed since last time-step: 0.9389066000000241\n",
      "  warnings.warn(f\"Time-step timed out. Elapsed since last time-step: {now - self.__t_end}\")\n",
      "c:\\Users\\nadir\\anaconda3\\envs\\GTAI2\\lib\\site-packages\\rtgym\\envs\\real_time_env.py:376: UserWarning: Time-step timed out. Elapsed since last time-step: 0.932832899999994\n",
      "  warnings.warn(f\"Time-step timed out. Elapsed since last time-step: {now - self.__t_end}\")\n",
      "c:\\Users\\nadir\\anaconda3\\envs\\GTAI2\\lib\\site-packages\\rtgym\\envs\\real_time_env.py:376: UserWarning: Time-step timed out. Elapsed since last time-step: 0.9650396000000114\n",
      "  warnings.warn(f\"Time-step timed out. Elapsed since last time-step: {now - self.__t_end}\")\n",
      "c:\\Users\\nadir\\anaconda3\\envs\\GTAI2\\lib\\site-packages\\rtgym\\envs\\real_time_env.py:376: UserWarning: Time-step timed out. Elapsed since last time-step: 1.0461118000000056\n",
      "  warnings.warn(f\"Time-step timed out. Elapsed since last time-step: {now - self.__t_end}\")\n",
      "c:\\Users\\nadir\\anaconda3\\envs\\GTAI2\\lib\\site-packages\\rtgym\\envs\\real_time_env.py:376: UserWarning: Time-step timed out. Elapsed since last time-step: 0.9793071999999938\n",
      "  warnings.warn(f\"Time-step timed out. Elapsed since last time-step: {now - self.__t_end}\")\n",
      "c:\\Users\\nadir\\anaconda3\\envs\\GTAI2\\lib\\site-packages\\rtgym\\envs\\real_time_env.py:376: UserWarning: Time-step timed out. Elapsed since last time-step: 1.151169600000003\n",
      "  warnings.warn(f\"Time-step timed out. Elapsed since last time-step: {now - self.__t_end}\")\n",
      "c:\\Users\\nadir\\anaconda3\\envs\\GTAI2\\lib\\site-packages\\rtgym\\envs\\real_time_env.py:376: UserWarning: Time-step timed out. Elapsed since last time-step: 0.9627280000000269\n",
      "  warnings.warn(f\"Time-step timed out. Elapsed since last time-step: {now - self.__t_end}\")\n",
      "c:\\Users\\nadir\\anaconda3\\envs\\GTAI2\\lib\\site-packages\\rtgym\\envs\\real_time_env.py:376: UserWarning: Time-step timed out. Elapsed since last time-step: 0.9940902999999821\n",
      "  warnings.warn(f\"Time-step timed out. Elapsed since last time-step: {now - self.__t_end}\")\n",
      "c:\\Users\\nadir\\anaconda3\\envs\\GTAI2\\lib\\site-packages\\rtgym\\envs\\real_time_env.py:376: UserWarning: Time-step timed out. Elapsed since last time-step: 1.004104300000023\n",
      "  warnings.warn(f\"Time-step timed out. Elapsed since last time-step: {now - self.__t_end}\")\n",
      "c:\\Users\\nadir\\anaconda3\\envs\\GTAI2\\lib\\site-packages\\rtgym\\envs\\real_time_env.py:376: UserWarning: Time-step timed out. Elapsed since last time-step: 0.9673133999999948\n",
      "  warnings.warn(f\"Time-step timed out. Elapsed since last time-step: {now - self.__t_end}\")\n",
      "c:\\Users\\nadir\\anaconda3\\envs\\GTAI2\\lib\\site-packages\\rtgym\\envs\\real_time_env.py:376: UserWarning: Time-step timed out. Elapsed since last time-step: 0.9737114000000133\n",
      "  warnings.warn(f\"Time-step timed out. Elapsed since last time-step: {now - self.__t_end}\")\n",
      "c:\\Users\\nadir\\anaconda3\\envs\\GTAI2\\lib\\site-packages\\rtgym\\envs\\real_time_env.py:376: UserWarning: Time-step timed out. Elapsed since last time-step: 1.0441589000000135\n",
      "  warnings.warn(f\"Time-step timed out. Elapsed since last time-step: {now - self.__t_end}\")\n",
      "c:\\Users\\nadir\\anaconda3\\envs\\GTAI2\\lib\\site-packages\\rtgym\\envs\\real_time_env.py:376: UserWarning: Time-step timed out. Elapsed since last time-step: 0.9665316999999902\n",
      "  warnings.warn(f\"Time-step timed out. Elapsed since last time-step: {now - self.__t_end}\")\n",
      "c:\\Users\\nadir\\anaconda3\\envs\\GTAI2\\lib\\site-packages\\rtgym\\envs\\real_time_env.py:376: UserWarning: Time-step timed out. Elapsed since last time-step: 0.9594465000000127\n",
      "  warnings.warn(f\"Time-step timed out. Elapsed since last time-step: {now - self.__t_end}\")\n",
      "c:\\Users\\nadir\\anaconda3\\envs\\GTAI2\\lib\\site-packages\\rtgym\\envs\\real_time_env.py:376: UserWarning: Time-step timed out. Elapsed since last time-step: 0.9742932999999994\n",
      "  warnings.warn(f\"Time-step timed out. Elapsed since last time-step: {now - self.__t_end}\")\n",
      "c:\\Users\\nadir\\anaconda3\\envs\\GTAI2\\lib\\site-packages\\rtgym\\envs\\real_time_env.py:376: UserWarning: Time-step timed out. Elapsed since last time-step: 0.9840392000000122\n",
      "  warnings.warn(f\"Time-step timed out. Elapsed since last time-step: {now - self.__t_end}\")\n",
      "c:\\Users\\nadir\\anaconda3\\envs\\GTAI2\\lib\\site-packages\\rtgym\\envs\\real_time_env.py:376: UserWarning: Time-step timed out. Elapsed since last time-step: 0.929204900000002\n",
      "  warnings.warn(f\"Time-step timed out. Elapsed since last time-step: {now - self.__t_end}\")\n",
      "c:\\Users\\nadir\\anaconda3\\envs\\GTAI2\\lib\\site-packages\\rtgym\\envs\\real_time_env.py:376: UserWarning: Time-step timed out. Elapsed since last time-step: 0.9831536000000085\n",
      "  warnings.warn(f\"Time-step timed out. Elapsed since last time-step: {now - self.__t_end}\")\n",
      "c:\\Users\\nadir\\anaconda3\\envs\\GTAI2\\lib\\site-packages\\rtgym\\envs\\real_time_env.py:376: UserWarning: Time-step timed out. Elapsed since last time-step: 1.013594299999994\n",
      "  warnings.warn(f\"Time-step timed out. Elapsed since last time-step: {now - self.__t_end}\")\n",
      "c:\\Users\\nadir\\anaconda3\\envs\\GTAI2\\lib\\site-packages\\rtgym\\envs\\real_time_env.py:376: UserWarning: Time-step timed out. Elapsed since last time-step: 0.9950559000000112\n",
      "  warnings.warn(f\"Time-step timed out. Elapsed since last time-step: {now - self.__t_end}\")\n",
      "c:\\Users\\nadir\\anaconda3\\envs\\GTAI2\\lib\\site-packages\\rtgym\\envs\\real_time_env.py:376: UserWarning: Time-step timed out. Elapsed since last time-step: 0.991649300000006\n",
      "  warnings.warn(f\"Time-step timed out. Elapsed since last time-step: {now - self.__t_end}\")\n",
      "c:\\Users\\nadir\\anaconda3\\envs\\GTAI2\\lib\\site-packages\\rtgym\\envs\\real_time_env.py:376: UserWarning: Time-step timed out. Elapsed since last time-step: 0.9823516000000154\n",
      "  warnings.warn(f\"Time-step timed out. Elapsed since last time-step: {now - self.__t_end}\")\n",
      "c:\\Users\\nadir\\anaconda3\\envs\\GTAI2\\lib\\site-packages\\rtgym\\envs\\real_time_env.py:376: UserWarning: Time-step timed out. Elapsed since last time-step: 0.9819506000000047\n",
      "  warnings.warn(f\"Time-step timed out. Elapsed since last time-step: {now - self.__t_end}\")\n",
      "c:\\Users\\nadir\\anaconda3\\envs\\GTAI2\\lib\\site-packages\\rtgym\\envs\\real_time_env.py:376: UserWarning: Time-step timed out. Elapsed since last time-step: 0.9685575999999969\n",
      "  warnings.warn(f\"Time-step timed out. Elapsed since last time-step: {now - self.__t_end}\")\n",
      "c:\\Users\\nadir\\anaconda3\\envs\\GTAI2\\lib\\site-packages\\rtgym\\envs\\real_time_env.py:376: UserWarning: Time-step timed out. Elapsed since last time-step: 1.1308303000000137\n",
      "  warnings.warn(f\"Time-step timed out. Elapsed since last time-step: {now - self.__t_end}\")\n",
      "c:\\Users\\nadir\\anaconda3\\envs\\GTAI2\\lib\\site-packages\\rtgym\\envs\\real_time_env.py:376: UserWarning: Time-step timed out. Elapsed since last time-step: 1.006543100000016\n",
      "  warnings.warn(f\"Time-step timed out. Elapsed since last time-step: {now - self.__t_end}\")\n",
      "c:\\Users\\nadir\\anaconda3\\envs\\GTAI2\\lib\\site-packages\\rtgym\\envs\\real_time_env.py:376: UserWarning: Time-step timed out. Elapsed since last time-step: 0.9905135999999857\n",
      "  warnings.warn(f\"Time-step timed out. Elapsed since last time-step: {now - self.__t_end}\")\n",
      "c:\\Users\\nadir\\anaconda3\\envs\\GTAI2\\lib\\site-packages\\rtgym\\envs\\real_time_env.py:376: UserWarning: Time-step timed out. Elapsed since last time-step: 0.9751152000000047\n",
      "  warnings.warn(f\"Time-step timed out. Elapsed since last time-step: {now - self.__t_end}\")\n",
      "c:\\Users\\nadir\\anaconda3\\envs\\GTAI2\\lib\\site-packages\\rtgym\\envs\\real_time_env.py:376: UserWarning: Time-step timed out. Elapsed since last time-step: 1.0120679000000052\n",
      "  warnings.warn(f\"Time-step timed out. Elapsed since last time-step: {now - self.__t_end}\")\n",
      "c:\\Users\\nadir\\anaconda3\\envs\\GTAI2\\lib\\site-packages\\rtgym\\envs\\real_time_env.py:376: UserWarning: Time-step timed out. Elapsed since last time-step: 0.9804665000000057\n",
      "  warnings.warn(f\"Time-step timed out. Elapsed since last time-step: {now - self.__t_end}\")\n",
      "c:\\Users\\nadir\\anaconda3\\envs\\GTAI2\\lib\\site-packages\\rtgym\\envs\\real_time_env.py:376: UserWarning: Time-step timed out. Elapsed since last time-step: 1.026912799999991\n",
      "  warnings.warn(f\"Time-step timed out. Elapsed since last time-step: {now - self.__t_end}\")\n",
      "c:\\Users\\nadir\\anaconda3\\envs\\GTAI2\\lib\\site-packages\\rtgym\\envs\\real_time_env.py:376: UserWarning: Time-step timed out. Elapsed since last time-step: 1.0063327999999956\n",
      "  warnings.warn(f\"Time-step timed out. Elapsed since last time-step: {now - self.__t_end}\")\n",
      "c:\\Users\\nadir\\anaconda3\\envs\\GTAI2\\lib\\site-packages\\rtgym\\envs\\real_time_env.py:376: UserWarning: Time-step timed out. Elapsed since last time-step: 0.972343599999931\n",
      "  warnings.warn(f\"Time-step timed out. Elapsed since last time-step: {now - self.__t_end}\")\n",
      "c:\\Users\\nadir\\anaconda3\\envs\\GTAI2\\lib\\site-packages\\rtgym\\envs\\real_time_env.py:376: UserWarning: Time-step timed out. Elapsed since last time-step: 0.9858280000000263\n",
      "  warnings.warn(f\"Time-step timed out. Elapsed since last time-step: {now - self.__t_end}\")\n",
      "c:\\Users\\nadir\\anaconda3\\envs\\GTAI2\\lib\\site-packages\\rtgym\\envs\\real_time_env.py:376: UserWarning: Time-step timed out. Elapsed since last time-step: 0.985328999999922\n",
      "  warnings.warn(f\"Time-step timed out. Elapsed since last time-step: {now - self.__t_end}\")\n",
      "c:\\Users\\nadir\\anaconda3\\envs\\GTAI2\\lib\\site-packages\\rtgym\\envs\\real_time_env.py:376: UserWarning: Time-step timed out. Elapsed since last time-step: 0.9958303000000228\n",
      "  warnings.warn(f\"Time-step timed out. Elapsed since last time-step: {now - self.__t_end}\")\n",
      "c:\\Users\\nadir\\anaconda3\\envs\\GTAI2\\lib\\site-packages\\rtgym\\envs\\real_time_env.py:376: UserWarning: Time-step timed out. Elapsed since last time-step: 1.0022095999999578\n",
      "  warnings.warn(f\"Time-step timed out. Elapsed since last time-step: {now - self.__t_end}\")\n",
      "c:\\Users\\nadir\\anaconda3\\envs\\GTAI2\\lib\\site-packages\\rtgym\\envs\\real_time_env.py:376: UserWarning: Time-step timed out. Elapsed since last time-step: 0.973632499999951\n",
      "  warnings.warn(f\"Time-step timed out. Elapsed since last time-step: {now - self.__t_end}\")\n",
      "c:\\Users\\nadir\\anaconda3\\envs\\GTAI2\\lib\\site-packages\\rtgym\\envs\\real_time_env.py:376: UserWarning: Time-step timed out. Elapsed since last time-step: 0.9751504999999838\n",
      "  warnings.warn(f\"Time-step timed out. Elapsed since last time-step: {now - self.__t_end}\")\n",
      "c:\\Users\\nadir\\anaconda3\\envs\\GTAI2\\lib\\site-packages\\rtgym\\envs\\real_time_env.py:376: UserWarning: Time-step timed out. Elapsed since last time-step: 0.9874851000000149\n",
      "  warnings.warn(f\"Time-step timed out. Elapsed since last time-step: {now - self.__t_end}\")\n",
      "c:\\Users\\nadir\\anaconda3\\envs\\GTAI2\\lib\\site-packages\\rtgym\\envs\\real_time_env.py:376: UserWarning: Time-step timed out. Elapsed since last time-step: 0.9835615999999732\n",
      "  warnings.warn(f\"Time-step timed out. Elapsed since last time-step: {now - self.__t_end}\")\n",
      "c:\\Users\\nadir\\anaconda3\\envs\\GTAI2\\lib\\site-packages\\rtgym\\envs\\real_time_env.py:376: UserWarning: Time-step timed out. Elapsed since last time-step: 0.9860988999999449\n",
      "  warnings.warn(f\"Time-step timed out. Elapsed since last time-step: {now - self.__t_end}\")\n",
      "c:\\Users\\nadir\\anaconda3\\envs\\GTAI2\\lib\\site-packages\\rtgym\\envs\\real_time_env.py:376: UserWarning: Time-step timed out. Elapsed since last time-step: 1.1444450999999844\n",
      "  warnings.warn(f\"Time-step timed out. Elapsed since last time-step: {now - self.__t_end}\")\n",
      "c:\\Users\\nadir\\anaconda3\\envs\\GTAI2\\lib\\site-packages\\rtgym\\envs\\real_time_env.py:376: UserWarning: Time-step timed out. Elapsed since last time-step: 0.9567102999999975\n",
      "  warnings.warn(f\"Time-step timed out. Elapsed since last time-step: {now - self.__t_end}\")\n",
      "c:\\Users\\nadir\\anaconda3\\envs\\GTAI2\\lib\\site-packages\\rtgym\\envs\\real_time_env.py:376: UserWarning: Time-step timed out. Elapsed since last time-step: 0.9296149999999557\n",
      "  warnings.warn(f\"Time-step timed out. Elapsed since last time-step: {now - self.__t_end}\")\n",
      "c:\\Users\\nadir\\anaconda3\\envs\\GTAI2\\lib\\site-packages\\rtgym\\envs\\real_time_env.py:376: UserWarning: Time-step timed out. Elapsed since last time-step: 0.9281988000000183\n",
      "  warnings.warn(f\"Time-step timed out. Elapsed since last time-step: {now - self.__t_end}\")\n",
      "c:\\Users\\nadir\\anaconda3\\envs\\GTAI2\\lib\\site-packages\\rtgym\\envs\\real_time_env.py:376: UserWarning: Time-step timed out. Elapsed since last time-step: 1.039283199999943\n",
      "  warnings.warn(f\"Time-step timed out. Elapsed since last time-step: {now - self.__t_end}\")\n",
      "c:\\Users\\nadir\\anaconda3\\envs\\GTAI2\\lib\\site-packages\\rtgym\\envs\\real_time_env.py:376: UserWarning: Time-step timed out. Elapsed since last time-step: 0.9779408999999646\n",
      "  warnings.warn(f\"Time-step timed out. Elapsed since last time-step: {now - self.__t_end}\")\n",
      "c:\\Users\\nadir\\anaconda3\\envs\\GTAI2\\lib\\site-packages\\rtgym\\envs\\real_time_env.py:376: UserWarning: Time-step timed out. Elapsed since last time-step: 1.0012138000000164\n",
      "  warnings.warn(f\"Time-step timed out. Elapsed since last time-step: {now - self.__t_end}\")\n"
     ]
    },
    {
     "name": "stdout",
     "output_type": "stream",
     "text": [
      "reset triggered\n",
      "reload save for track : 4\n"
     ]
    },
    {
     "name": "stderr",
     "output_type": "stream",
     "text": [
      "c:\\Users\\nadir\\anaconda3\\envs\\GTAI2\\lib\\site-packages\\rtgym\\envs\\real_time_env.py:376: UserWarning: Time-step timed out. Elapsed since last time-step: 2.0785235999999827\n",
      "  warnings.warn(f\"Time-step timed out. Elapsed since last time-step: {now - self.__t_end}\")\n",
      "c:\\Users\\nadir\\anaconda3\\envs\\GTAI2\\lib\\site-packages\\rtgym\\envs\\real_time_env.py:376: UserWarning: Time-step timed out. Elapsed since last time-step: 1.0326522999999384\n",
      "  warnings.warn(f\"Time-step timed out. Elapsed since last time-step: {now - self.__t_end}\")\n",
      "c:\\Users\\nadir\\anaconda3\\envs\\GTAI2\\lib\\site-packages\\rtgym\\envs\\real_time_env.py:376: UserWarning: Time-step timed out. Elapsed since last time-step: 1.053528999999969\n",
      "  warnings.warn(f\"Time-step timed out. Elapsed since last time-step: {now - self.__t_end}\")\n",
      "c:\\Users\\nadir\\anaconda3\\envs\\GTAI2\\lib\\site-packages\\rtgym\\envs\\real_time_env.py:376: UserWarning: Time-step timed out. Elapsed since last time-step: 0.9437184999999886\n",
      "  warnings.warn(f\"Time-step timed out. Elapsed since last time-step: {now - self.__t_end}\")\n",
      "c:\\Users\\nadir\\anaconda3\\envs\\GTAI2\\lib\\site-packages\\rtgym\\envs\\real_time_env.py:376: UserWarning: Time-step timed out. Elapsed since last time-step: 0.9508087999999475\n",
      "  warnings.warn(f\"Time-step timed out. Elapsed since last time-step: {now - self.__t_end}\")\n",
      "c:\\Users\\nadir\\anaconda3\\envs\\GTAI2\\lib\\site-packages\\rtgym\\envs\\real_time_env.py:376: UserWarning: Time-step timed out. Elapsed since last time-step: 0.9582402999999999\n",
      "  warnings.warn(f\"Time-step timed out. Elapsed since last time-step: {now - self.__t_end}\")\n",
      "c:\\Users\\nadir\\anaconda3\\envs\\GTAI2\\lib\\site-packages\\rtgym\\envs\\real_time_env.py:376: UserWarning: Time-step timed out. Elapsed since last time-step: 0.9867920999999455\n",
      "  warnings.warn(f\"Time-step timed out. Elapsed since last time-step: {now - self.__t_end}\")\n",
      "c:\\Users\\nadir\\anaconda3\\envs\\GTAI2\\lib\\site-packages\\rtgym\\envs\\real_time_env.py:376: UserWarning: Time-step timed out. Elapsed since last time-step: 1.0441015000000107\n",
      "  warnings.warn(f\"Time-step timed out. Elapsed since last time-step: {now - self.__t_end}\")\n",
      "c:\\Users\\nadir\\anaconda3\\envs\\GTAI2\\lib\\site-packages\\rtgym\\envs\\real_time_env.py:376: UserWarning: Time-step timed out. Elapsed since last time-step: 0.971865399999956\n",
      "  warnings.warn(f\"Time-step timed out. Elapsed since last time-step: {now - self.__t_end}\")\n",
      "c:\\Users\\nadir\\anaconda3\\envs\\GTAI2\\lib\\site-packages\\rtgym\\envs\\real_time_env.py:376: UserWarning: Time-step timed out. Elapsed since last time-step: 0.9840508999999997\n",
      "  warnings.warn(f\"Time-step timed out. Elapsed since last time-step: {now - self.__t_end}\")\n",
      "c:\\Users\\nadir\\anaconda3\\envs\\GTAI2\\lib\\site-packages\\rtgym\\envs\\real_time_env.py:376: UserWarning: Time-step timed out. Elapsed since last time-step: 0.9984034999999949\n",
      "  warnings.warn(f\"Time-step timed out. Elapsed since last time-step: {now - self.__t_end}\")\n",
      "c:\\Users\\nadir\\anaconda3\\envs\\GTAI2\\lib\\site-packages\\rtgym\\envs\\real_time_env.py:376: UserWarning: Time-step timed out. Elapsed since last time-step: 1.060989799999959\n",
      "  warnings.warn(f\"Time-step timed out. Elapsed since last time-step: {now - self.__t_end}\")\n",
      "c:\\Users\\nadir\\anaconda3\\envs\\GTAI2\\lib\\site-packages\\rtgym\\envs\\real_time_env.py:376: UserWarning: Time-step timed out. Elapsed since last time-step: 0.9470818999999437\n",
      "  warnings.warn(f\"Time-step timed out. Elapsed since last time-step: {now - self.__t_end}\")\n",
      "c:\\Users\\nadir\\anaconda3\\envs\\GTAI2\\lib\\site-packages\\rtgym\\envs\\real_time_env.py:376: UserWarning: Time-step timed out. Elapsed since last time-step: 0.9847621999999774\n",
      "  warnings.warn(f\"Time-step timed out. Elapsed since last time-step: {now - self.__t_end}\")\n",
      "c:\\Users\\nadir\\anaconda3\\envs\\GTAI2\\lib\\site-packages\\rtgym\\envs\\real_time_env.py:376: UserWarning: Time-step timed out. Elapsed since last time-step: 1.050652800000023\n",
      "  warnings.warn(f\"Time-step timed out. Elapsed since last time-step: {now - self.__t_end}\")\n",
      "c:\\Users\\nadir\\anaconda3\\envs\\GTAI2\\lib\\site-packages\\rtgym\\envs\\real_time_env.py:376: UserWarning: Time-step timed out. Elapsed since last time-step: 0.9560400999999388\n",
      "  warnings.warn(f\"Time-step timed out. Elapsed since last time-step: {now - self.__t_end}\")\n",
      "c:\\Users\\nadir\\anaconda3\\envs\\GTAI2\\lib\\site-packages\\rtgym\\envs\\real_time_env.py:376: UserWarning: Time-step timed out. Elapsed since last time-step: 0.9646096999999827\n",
      "  warnings.warn(f\"Time-step timed out. Elapsed since last time-step: {now - self.__t_end}\")\n",
      "c:\\Users\\nadir\\anaconda3\\envs\\GTAI2\\lib\\site-packages\\rtgym\\envs\\real_time_env.py:376: UserWarning: Time-step timed out. Elapsed since last time-step: 0.9389204999999947\n",
      "  warnings.warn(f\"Time-step timed out. Elapsed since last time-step: {now - self.__t_end}\")\n",
      "c:\\Users\\nadir\\anaconda3\\envs\\GTAI2\\lib\\site-packages\\rtgym\\envs\\real_time_env.py:376: UserWarning: Time-step timed out. Elapsed since last time-step: 0.9739628999999468\n",
      "  warnings.warn(f\"Time-step timed out. Elapsed since last time-step: {now - self.__t_end}\")\n",
      "c:\\Users\\nadir\\anaconda3\\envs\\GTAI2\\lib\\site-packages\\rtgym\\envs\\real_time_env.py:376: UserWarning: Time-step timed out. Elapsed since last time-step: 0.9716528000000153\n",
      "  warnings.warn(f\"Time-step timed out. Elapsed since last time-step: {now - self.__t_end}\")\n",
      "c:\\Users\\nadir\\anaconda3\\envs\\GTAI2\\lib\\site-packages\\rtgym\\envs\\real_time_env.py:376: UserWarning: Time-step timed out. Elapsed since last time-step: 0.9404153999999494\n",
      "  warnings.warn(f\"Time-step timed out. Elapsed since last time-step: {now - self.__t_end}\")\n",
      "c:\\Users\\nadir\\anaconda3\\envs\\GTAI2\\lib\\site-packages\\rtgym\\envs\\real_time_env.py:376: UserWarning: Time-step timed out. Elapsed since last time-step: 0.9163641999999754\n",
      "  warnings.warn(f\"Time-step timed out. Elapsed since last time-step: {now - self.__t_end}\")\n",
      "c:\\Users\\nadir\\anaconda3\\envs\\GTAI2\\lib\\site-packages\\rtgym\\envs\\real_time_env.py:376: UserWarning: Time-step timed out. Elapsed since last time-step: 0.899957900000004\n",
      "  warnings.warn(f\"Time-step timed out. Elapsed since last time-step: {now - self.__t_end}\")\n",
      "c:\\Users\\nadir\\anaconda3\\envs\\GTAI2\\lib\\site-packages\\rtgym\\envs\\real_time_env.py:376: UserWarning: Time-step timed out. Elapsed since last time-step: 0.9745120999999699\n",
      "  warnings.warn(f\"Time-step timed out. Elapsed since last time-step: {now - self.__t_end}\")\n",
      "c:\\Users\\nadir\\anaconda3\\envs\\GTAI2\\lib\\site-packages\\rtgym\\envs\\real_time_env.py:376: UserWarning: Time-step timed out. Elapsed since last time-step: 0.934317999999962\n",
      "  warnings.warn(f\"Time-step timed out. Elapsed since last time-step: {now - self.__t_end}\")\n",
      "c:\\Users\\nadir\\anaconda3\\envs\\GTAI2\\lib\\site-packages\\rtgym\\envs\\real_time_env.py:376: UserWarning: Time-step timed out. Elapsed since last time-step: 0.9687845999999922\n",
      "  warnings.warn(f\"Time-step timed out. Elapsed since last time-step: {now - self.__t_end}\")\n",
      "c:\\Users\\nadir\\anaconda3\\envs\\GTAI2\\lib\\site-packages\\rtgym\\envs\\real_time_env.py:376: UserWarning: Time-step timed out. Elapsed since last time-step: 0.9507132999999612\n",
      "  warnings.warn(f\"Time-step timed out. Elapsed since last time-step: {now - self.__t_end}\")\n",
      "c:\\Users\\nadir\\anaconda3\\envs\\GTAI2\\lib\\site-packages\\rtgym\\envs\\real_time_env.py:376: UserWarning: Time-step timed out. Elapsed since last time-step: 0.9438159999999698\n",
      "  warnings.warn(f\"Time-step timed out. Elapsed since last time-step: {now - self.__t_end}\")\n",
      "c:\\Users\\nadir\\anaconda3\\envs\\GTAI2\\lib\\site-packages\\rtgym\\envs\\real_time_env.py:376: UserWarning: Time-step timed out. Elapsed since last time-step: 0.9761414999999829\n",
      "  warnings.warn(f\"Time-step timed out. Elapsed since last time-step: {now - self.__t_end}\")\n",
      "c:\\Users\\nadir\\anaconda3\\envs\\GTAI2\\lib\\site-packages\\rtgym\\envs\\real_time_env.py:376: UserWarning: Time-step timed out. Elapsed since last time-step: 1.1445974000000092\n",
      "  warnings.warn(f\"Time-step timed out. Elapsed since last time-step: {now - self.__t_end}\")\n",
      "c:\\Users\\nadir\\anaconda3\\envs\\GTAI2\\lib\\site-packages\\rtgym\\envs\\real_time_env.py:376: UserWarning: Time-step timed out. Elapsed since last time-step: 0.9531815999999367\n",
      "  warnings.warn(f\"Time-step timed out. Elapsed since last time-step: {now - self.__t_end}\")\n",
      "c:\\Users\\nadir\\anaconda3\\envs\\GTAI2\\lib\\site-packages\\rtgym\\envs\\real_time_env.py:376: UserWarning: Time-step timed out. Elapsed since last time-step: 0.9656942999999956\n",
      "  warnings.warn(f\"Time-step timed out. Elapsed since last time-step: {now - self.__t_end}\")\n",
      "c:\\Users\\nadir\\anaconda3\\envs\\GTAI2\\lib\\site-packages\\rtgym\\envs\\real_time_env.py:376: UserWarning: Time-step timed out. Elapsed since last time-step: 0.9722200999999586\n",
      "  warnings.warn(f\"Time-step timed out. Elapsed since last time-step: {now - self.__t_end}\")\n"
     ]
    },
    {
     "name": "stdout",
     "output_type": "stream",
     "text": [
      "Loop:  15\n"
     ]
    },
    {
     "name": "stderr",
     "output_type": "stream",
     "text": [
      "c:\\Users\\nadir\\anaconda3\\envs\\GTAI2\\lib\\site-packages\\rtgym\\envs\\real_time_env.py:376: UserWarning: Time-step timed out. Elapsed since last time-step: 0.9744339000000082\n",
      "  warnings.warn(f\"Time-step timed out. Elapsed since last time-step: {now - self.__t_end}\")\n",
      "c:\\Users\\nadir\\anaconda3\\envs\\GTAI2\\lib\\site-packages\\rtgym\\envs\\real_time_env.py:376: UserWarning: Time-step timed out. Elapsed since last time-step: 0.9737451999999962\n",
      "  warnings.warn(f\"Time-step timed out. Elapsed since last time-step: {now - self.__t_end}\")\n",
      "c:\\Users\\nadir\\anaconda3\\envs\\GTAI2\\lib\\site-packages\\rtgym\\envs\\real_time_env.py:376: UserWarning: Time-step timed out. Elapsed since last time-step: 0.9295179999999732\n",
      "  warnings.warn(f\"Time-step timed out. Elapsed since last time-step: {now - self.__t_end}\")\n",
      "c:\\Users\\nadir\\anaconda3\\envs\\GTAI2\\lib\\site-packages\\rtgym\\envs\\real_time_env.py:376: UserWarning: Time-step timed out. Elapsed since last time-step: 0.9872745999999779\n",
      "  warnings.warn(f\"Time-step timed out. Elapsed since last time-step: {now - self.__t_end}\")\n",
      "c:\\Users\\nadir\\anaconda3\\envs\\GTAI2\\lib\\site-packages\\rtgym\\envs\\real_time_env.py:376: UserWarning: Time-step timed out. Elapsed since last time-step: 0.994369499999948\n",
      "  warnings.warn(f\"Time-step timed out. Elapsed since last time-step: {now - self.__t_end}\")\n",
      "c:\\Users\\nadir\\anaconda3\\envs\\GTAI2\\lib\\site-packages\\rtgym\\envs\\real_time_env.py:376: UserWarning: Time-step timed out. Elapsed since last time-step: 0.9739040000000045\n",
      "  warnings.warn(f\"Time-step timed out. Elapsed since last time-step: {now - self.__t_end}\")\n",
      "c:\\Users\\nadir\\anaconda3\\envs\\GTAI2\\lib\\site-packages\\rtgym\\envs\\real_time_env.py:376: UserWarning: Time-step timed out. Elapsed since last time-step: 0.9289096999999629\n",
      "  warnings.warn(f\"Time-step timed out. Elapsed since last time-step: {now - self.__t_end}\")\n",
      "c:\\Users\\nadir\\anaconda3\\envs\\GTAI2\\lib\\site-packages\\rtgym\\envs\\real_time_env.py:376: UserWarning: Time-step timed out. Elapsed since last time-step: 0.9530090999999743\n",
      "  warnings.warn(f\"Time-step timed out. Elapsed since last time-step: {now - self.__t_end}\")\n",
      "c:\\Users\\nadir\\anaconda3\\envs\\GTAI2\\lib\\site-packages\\rtgym\\envs\\real_time_env.py:376: UserWarning: Time-step timed out. Elapsed since last time-step: 0.997936100000004\n",
      "  warnings.warn(f\"Time-step timed out. Elapsed since last time-step: {now - self.__t_end}\")\n",
      "c:\\Users\\nadir\\anaconda3\\envs\\GTAI2\\lib\\site-packages\\rtgym\\envs\\real_time_env.py:376: UserWarning: Time-step timed out. Elapsed since last time-step: 1.0120480999999586\n",
      "  warnings.warn(f\"Time-step timed out. Elapsed since last time-step: {now - self.__t_end}\")\n",
      "c:\\Users\\nadir\\anaconda3\\envs\\GTAI2\\lib\\site-packages\\rtgym\\envs\\real_time_env.py:376: UserWarning: Time-step timed out. Elapsed since last time-step: 0.971292099999971\n",
      "  warnings.warn(f\"Time-step timed out. Elapsed since last time-step: {now - self.__t_end}\")\n",
      "c:\\Users\\nadir\\anaconda3\\envs\\GTAI2\\lib\\site-packages\\rtgym\\envs\\real_time_env.py:376: UserWarning: Time-step timed out. Elapsed since last time-step: 0.9703256999999894\n",
      "  warnings.warn(f\"Time-step timed out. Elapsed since last time-step: {now - self.__t_end}\")\n",
      "c:\\Users\\nadir\\anaconda3\\envs\\GTAI2\\lib\\site-packages\\rtgym\\envs\\real_time_env.py:376: UserWarning: Time-step timed out. Elapsed since last time-step: 0.8991015999999377\n",
      "  warnings.warn(f\"Time-step timed out. Elapsed since last time-step: {now - self.__t_end}\")\n",
      "c:\\Users\\nadir\\anaconda3\\envs\\GTAI2\\lib\\site-packages\\rtgym\\envs\\real_time_env.py:376: UserWarning: Time-step timed out. Elapsed since last time-step: 1.0340439999999944\n",
      "  warnings.warn(f\"Time-step timed out. Elapsed since last time-step: {now - self.__t_end}\")\n",
      "c:\\Users\\nadir\\anaconda3\\envs\\GTAI2\\lib\\site-packages\\rtgym\\envs\\real_time_env.py:376: UserWarning: Time-step timed out. Elapsed since last time-step: 0.8696403999999802\n",
      "  warnings.warn(f\"Time-step timed out. Elapsed since last time-step: {now - self.__t_end}\")\n",
      "c:\\Users\\nadir\\anaconda3\\envs\\GTAI2\\lib\\site-packages\\rtgym\\envs\\real_time_env.py:376: UserWarning: Time-step timed out. Elapsed since last time-step: 0.9475138999999899\n",
      "  warnings.warn(f\"Time-step timed out. Elapsed since last time-step: {now - self.__t_end}\")\n",
      "c:\\Users\\nadir\\anaconda3\\envs\\GTAI2\\lib\\site-packages\\rtgym\\envs\\real_time_env.py:376: UserWarning: Time-step timed out. Elapsed since last time-step: 0.9374384999999847\n",
      "  warnings.warn(f\"Time-step timed out. Elapsed since last time-step: {now - self.__t_end}\")\n",
      "c:\\Users\\nadir\\anaconda3\\envs\\GTAI2\\lib\\site-packages\\rtgym\\envs\\real_time_env.py:376: UserWarning: Time-step timed out. Elapsed since last time-step: 0.9592208999999343\n",
      "  warnings.warn(f\"Time-step timed out. Elapsed since last time-step: {now - self.__t_end}\")\n",
      "c:\\Users\\nadir\\anaconda3\\envs\\GTAI2\\lib\\site-packages\\rtgym\\envs\\real_time_env.py:376: UserWarning: Time-step timed out. Elapsed since last time-step: 0.9821352999999817\n",
      "  warnings.warn(f\"Time-step timed out. Elapsed since last time-step: {now - self.__t_end}\")\n",
      "c:\\Users\\nadir\\anaconda3\\envs\\GTAI2\\lib\\site-packages\\rtgym\\envs\\real_time_env.py:376: UserWarning: Time-step timed out. Elapsed since last time-step: 0.9282036000000176\n",
      "  warnings.warn(f\"Time-step timed out. Elapsed since last time-step: {now - self.__t_end}\")\n",
      "c:\\Users\\nadir\\anaconda3\\envs\\GTAI2\\lib\\site-packages\\rtgym\\envs\\real_time_env.py:376: UserWarning: Time-step timed out. Elapsed since last time-step: 0.9599851999999487\n",
      "  warnings.warn(f\"Time-step timed out. Elapsed since last time-step: {now - self.__t_end}\")\n",
      "c:\\Users\\nadir\\anaconda3\\envs\\GTAI2\\lib\\site-packages\\rtgym\\envs\\real_time_env.py:376: UserWarning: Time-step timed out. Elapsed since last time-step: 0.9450570999999854\n",
      "  warnings.warn(f\"Time-step timed out. Elapsed since last time-step: {now - self.__t_end}\")\n",
      "c:\\Users\\nadir\\anaconda3\\envs\\GTAI2\\lib\\site-packages\\rtgym\\envs\\real_time_env.py:376: UserWarning: Time-step timed out. Elapsed since last time-step: 0.9421664999999848\n",
      "  warnings.warn(f\"Time-step timed out. Elapsed since last time-step: {now - self.__t_end}\")\n",
      "c:\\Users\\nadir\\anaconda3\\envs\\GTAI2\\lib\\site-packages\\rtgym\\envs\\real_time_env.py:376: UserWarning: Time-step timed out. Elapsed since last time-step: 0.9283739999999625\n",
      "  warnings.warn(f\"Time-step timed out. Elapsed since last time-step: {now - self.__t_end}\")\n",
      "c:\\Users\\nadir\\anaconda3\\envs\\GTAI2\\lib\\site-packages\\rtgym\\envs\\real_time_env.py:376: UserWarning: Time-step timed out. Elapsed since last time-step: 0.9848499999999945\n",
      "  warnings.warn(f\"Time-step timed out. Elapsed since last time-step: {now - self.__t_end}\")\n",
      "c:\\Users\\nadir\\anaconda3\\envs\\GTAI2\\lib\\site-packages\\rtgym\\envs\\real_time_env.py:376: UserWarning: Time-step timed out. Elapsed since last time-step: 0.9768925999999851\n",
      "  warnings.warn(f\"Time-step timed out. Elapsed since last time-step: {now - self.__t_end}\")\n",
      "c:\\Users\\nadir\\anaconda3\\envs\\GTAI2\\lib\\site-packages\\rtgym\\envs\\real_time_env.py:376: UserWarning: Time-step timed out. Elapsed since last time-step: 0.9279388999999583\n",
      "  warnings.warn(f\"Time-step timed out. Elapsed since last time-step: {now - self.__t_end}\")\n",
      "c:\\Users\\nadir\\anaconda3\\envs\\GTAI2\\lib\\site-packages\\rtgym\\envs\\real_time_env.py:376: UserWarning: Time-step timed out. Elapsed since last time-step: 0.9729997999999682\n",
      "  warnings.warn(f\"Time-step timed out. Elapsed since last time-step: {now - self.__t_end}\")\n",
      "c:\\Users\\nadir\\anaconda3\\envs\\GTAI2\\lib\\site-packages\\rtgym\\envs\\real_time_env.py:376: UserWarning: Time-step timed out. Elapsed since last time-step: 0.9261753000000112\n",
      "  warnings.warn(f\"Time-step timed out. Elapsed since last time-step: {now - self.__t_end}\")\n",
      "c:\\Users\\nadir\\anaconda3\\envs\\GTAI2\\lib\\site-packages\\rtgym\\envs\\real_time_env.py:376: UserWarning: Time-step timed out. Elapsed since last time-step: 0.9516795999999772\n",
      "  warnings.warn(f\"Time-step timed out. Elapsed since last time-step: {now - self.__t_end}\")\n",
      "c:\\Users\\nadir\\anaconda3\\envs\\GTAI2\\lib\\site-packages\\rtgym\\envs\\real_time_env.py:376: UserWarning: Time-step timed out. Elapsed since last time-step: 0.9679029999999784\n",
      "  warnings.warn(f\"Time-step timed out. Elapsed since last time-step: {now - self.__t_end}\")\n",
      "c:\\Users\\nadir\\anaconda3\\envs\\GTAI2\\lib\\site-packages\\rtgym\\envs\\real_time_env.py:376: UserWarning: Time-step timed out. Elapsed since last time-step: 0.961176499999965\n",
      "  warnings.warn(f\"Time-step timed out. Elapsed since last time-step: {now - self.__t_end}\")\n",
      "c:\\Users\\nadir\\anaconda3\\envs\\GTAI2\\lib\\site-packages\\rtgym\\envs\\real_time_env.py:376: UserWarning: Time-step timed out. Elapsed since last time-step: 1.1144232999999417\n",
      "  warnings.warn(f\"Time-step timed out. Elapsed since last time-step: {now - self.__t_end}\")\n",
      "c:\\Users\\nadir\\anaconda3\\envs\\GTAI2\\lib\\site-packages\\rtgym\\envs\\real_time_env.py:376: UserWarning: Time-step timed out. Elapsed since last time-step: 1.0169235999999842\n",
      "  warnings.warn(f\"Time-step timed out. Elapsed since last time-step: {now - self.__t_end}\")\n",
      "c:\\Users\\nadir\\anaconda3\\envs\\GTAI2\\lib\\site-packages\\rtgym\\envs\\real_time_env.py:376: UserWarning: Time-step timed out. Elapsed since last time-step: 0.9738796999999977\n",
      "  warnings.warn(f\"Time-step timed out. Elapsed since last time-step: {now - self.__t_end}\")\n",
      "c:\\Users\\nadir\\anaconda3\\envs\\GTAI2\\lib\\site-packages\\rtgym\\envs\\real_time_env.py:376: UserWarning: Time-step timed out. Elapsed since last time-step: 0.943053999999961\n",
      "  warnings.warn(f\"Time-step timed out. Elapsed since last time-step: {now - self.__t_end}\")\n",
      "c:\\Users\\nadir\\anaconda3\\envs\\GTAI2\\lib\\site-packages\\rtgym\\envs\\real_time_env.py:376: UserWarning: Time-step timed out. Elapsed since last time-step: 0.9881459000000063\n",
      "  warnings.warn(f\"Time-step timed out. Elapsed since last time-step: {now - self.__t_end}\")\n",
      "c:\\Users\\nadir\\anaconda3\\envs\\GTAI2\\lib\\site-packages\\rtgym\\envs\\real_time_env.py:376: UserWarning: Time-step timed out. Elapsed since last time-step: 0.9584520999999881\n",
      "  warnings.warn(f\"Time-step timed out. Elapsed since last time-step: {now - self.__t_end}\")\n",
      "c:\\Users\\nadir\\anaconda3\\envs\\GTAI2\\lib\\site-packages\\rtgym\\envs\\real_time_env.py:376: UserWarning: Time-step timed out. Elapsed since last time-step: 0.9749546999999552\n",
      "  warnings.warn(f\"Time-step timed out. Elapsed since last time-step: {now - self.__t_end}\")\n"
     ]
    },
    {
     "ename": "KeyboardInterrupt",
     "evalue": "",
     "output_type": "error",
     "traceback": [
      "\u001b[1;31m---------------------------------------------------------------------------\u001b[0m",
      "\u001b[1;31mKeyboardInterrupt\u001b[0m                         Traceback (most recent call last)",
      "\u001b[1;32mj:\\git\\TensorFlowPSX\\Py\\rrlib_experiments_SAC_mode4_Supra_Drag_TF2.ipynb Cell 10\u001b[0m in \u001b[0;36m5\n\u001b[0;32m      <a href='vscode-notebook-cell:/j%3A/git/TensorFlowPSX/Py/rrlib_experiments_SAC_mode4_Supra_Drag_TF2.ipynb#X11sZmlsZQ%3D%3D?line=1'>2</a>\u001b[0m N \u001b[39m=\u001b[39m \u001b[39m1000\u001b[39m\n\u001b[0;32m      <a href='vscode-notebook-cell:/j%3A/git/TensorFlowPSX/Py/rrlib_experiments_SAC_mode4_Supra_Drag_TF2.ipynb#X11sZmlsZQ%3D%3D?line=3'>4</a>\u001b[0m \u001b[39mfor\u001b[39;00m n \u001b[39min\u001b[39;00m \u001b[39mrange\u001b[39m(N):\n\u001b[1;32m----> <a href='vscode-notebook-cell:/j%3A/git/TensorFlowPSX/Py/rrlib_experiments_SAC_mode4_Supra_Drag_TF2.ipynb#X11sZmlsZQ%3D%3D?line=4'>5</a>\u001b[0m     result \u001b[39m=\u001b[39m algo\u001b[39m.\u001b[39;49mtrain()\n\u001b[0;32m      <a href='vscode-notebook-cell:/j%3A/git/TensorFlowPSX/Py/rrlib_experiments_SAC_mode4_Supra_Drag_TF2.ipynb#X11sZmlsZQ%3D%3D?line=5'>6</a>\u001b[0m     \u001b[39mprint\u001b[39m(\u001b[39m\"\u001b[39m\u001b[39mLoop: \u001b[39m\u001b[39m\"\u001b[39m, n)\n\u001b[0;32m      <a href='vscode-notebook-cell:/j%3A/git/TensorFlowPSX/Py/rrlib_experiments_SAC_mode4_Supra_Drag_TF2.ipynb#X11sZmlsZQ%3D%3D?line=6'>7</a>\u001b[0m     \u001b[39mif\u001b[39;00m n \u001b[39m%\u001b[39m \u001b[39m10\u001b[39m \u001b[39m==\u001b[39m \u001b[39m0\u001b[39m:\n",
      "File \u001b[1;32mc:\\Users\\nadir\\anaconda3\\envs\\GTAI2\\lib\\site-packages\\ray\\tune\\trainable\\trainable.py:381\u001b[0m, in \u001b[0;36mTrainable.train\u001b[1;34m(self)\u001b[0m\n\u001b[0;32m    379\u001b[0m start \u001b[39m=\u001b[39m time\u001b[39m.\u001b[39mtime()\n\u001b[0;32m    380\u001b[0m \u001b[39mtry\u001b[39;00m:\n\u001b[1;32m--> 381\u001b[0m     result \u001b[39m=\u001b[39m \u001b[39mself\u001b[39;49m\u001b[39m.\u001b[39;49mstep()\n\u001b[0;32m    382\u001b[0m \u001b[39mexcept\u001b[39;00m \u001b[39mException\u001b[39;00m \u001b[39mas\u001b[39;00m e:\n\u001b[0;32m    383\u001b[0m     skipped \u001b[39m=\u001b[39m skip_exceptions(e)\n",
      "File \u001b[1;32mc:\\Users\\nadir\\anaconda3\\envs\\GTAI2\\lib\\site-packages\\ray\\rllib\\algorithms\\algorithm.py:792\u001b[0m, in \u001b[0;36mAlgorithm.step\u001b[1;34m(self)\u001b[0m\n\u001b[0;32m    784\u001b[0m     (\n\u001b[0;32m    785\u001b[0m         results,\n\u001b[0;32m    786\u001b[0m         train_iter_ctx,\n\u001b[0;32m    787\u001b[0m     ) \u001b[39m=\u001b[39m \u001b[39mself\u001b[39m\u001b[39m.\u001b[39m_run_one_training_iteration_and_evaluation_in_parallel()\n\u001b[0;32m    788\u001b[0m \u001b[39m# - No evaluation necessary, just run the next training iteration.\u001b[39;00m\n\u001b[0;32m    789\u001b[0m \u001b[39m# - We have to evaluate in this training iteration, but no parallelism ->\u001b[39;00m\n\u001b[0;32m    790\u001b[0m \u001b[39m#   evaluate after the training iteration is entirely done.\u001b[39;00m\n\u001b[0;32m    791\u001b[0m \u001b[39melse\u001b[39;00m:\n\u001b[1;32m--> 792\u001b[0m     results, train_iter_ctx \u001b[39m=\u001b[39m \u001b[39mself\u001b[39;49m\u001b[39m.\u001b[39;49m_run_one_training_iteration()\n\u001b[0;32m    794\u001b[0m \u001b[39m# Sequential: Train (already done above), then evaluate.\u001b[39;00m\n\u001b[0;32m    795\u001b[0m \u001b[39mif\u001b[39;00m evaluate_this_iter \u001b[39mand\u001b[39;00m \u001b[39mnot\u001b[39;00m \u001b[39mself\u001b[39m\u001b[39m.\u001b[39mconfig\u001b[39m.\u001b[39mevaluation_parallel_to_training:\n",
      "File \u001b[1;32mc:\\Users\\nadir\\anaconda3\\envs\\GTAI2\\lib\\site-packages\\ray\\rllib\\algorithms\\algorithm.py:2811\u001b[0m, in \u001b[0;36mAlgorithm._run_one_training_iteration\u001b[1;34m(self)\u001b[0m\n\u001b[0;32m   2809\u001b[0m \u001b[39mwith\u001b[39;00m \u001b[39mself\u001b[39m\u001b[39m.\u001b[39m_timers[TRAINING_ITERATION_TIMER]:\n\u001b[0;32m   2810\u001b[0m     \u001b[39mif\u001b[39;00m \u001b[39mself\u001b[39m\u001b[39m.\u001b[39mconfig\u001b[39m.\u001b[39m_disable_execution_plan_api:\n\u001b[1;32m-> 2811\u001b[0m         results \u001b[39m=\u001b[39m \u001b[39mself\u001b[39;49m\u001b[39m.\u001b[39;49mtraining_step()\n\u001b[0;32m   2812\u001b[0m     \u001b[39melse\u001b[39;00m:\n\u001b[0;32m   2813\u001b[0m         results \u001b[39m=\u001b[39m \u001b[39mnext\u001b[39m(\u001b[39mself\u001b[39m\u001b[39m.\u001b[39mtrain_exec_impl)\n",
      "File \u001b[1;32mc:\\Users\\nadir\\anaconda3\\envs\\GTAI2\\lib\\site-packages\\ray\\rllib\\algorithms\\dqn\\dqn.py:465\u001b[0m, in \u001b[0;36mDQN.training_step\u001b[1;34m(self)\u001b[0m\n\u001b[0;32m    463\u001b[0m \u001b[39mif\u001b[39;00m cur_ts \u001b[39m-\u001b[39m last_update \u001b[39m>\u001b[39m\u001b[39m=\u001b[39m \u001b[39mself\u001b[39m\u001b[39m.\u001b[39mconfig\u001b[39m.\u001b[39mtarget_network_update_freq:\n\u001b[0;32m    464\u001b[0m     to_update \u001b[39m=\u001b[39m \u001b[39mself\u001b[39m\u001b[39m.\u001b[39mworkers\u001b[39m.\u001b[39mlocal_worker()\u001b[39m.\u001b[39mget_policies_to_train()\n\u001b[1;32m--> 465\u001b[0m     \u001b[39mself\u001b[39;49m\u001b[39m.\u001b[39;49mworkers\u001b[39m.\u001b[39;49mlocal_worker()\u001b[39m.\u001b[39;49mforeach_policy_to_train(\n\u001b[0;32m    466\u001b[0m         \u001b[39mlambda\u001b[39;49;00m p, pid: pid \u001b[39min\u001b[39;49;00m to_update \u001b[39mand\u001b[39;49;00m p\u001b[39m.\u001b[39;49mupdate_target()\n\u001b[0;32m    467\u001b[0m     )\n\u001b[0;32m    468\u001b[0m     \u001b[39mself\u001b[39m\u001b[39m.\u001b[39m_counters[NUM_TARGET_UPDATES] \u001b[39m+\u001b[39m\u001b[39m=\u001b[39m \u001b[39m1\u001b[39m\n\u001b[0;32m    469\u001b[0m     \u001b[39mself\u001b[39m\u001b[39m.\u001b[39m_counters[LAST_TARGET_UPDATE_TS] \u001b[39m=\u001b[39m cur_ts\n",
      "File \u001b[1;32mc:\\Users\\nadir\\anaconda3\\envs\\GTAI2\\lib\\site-packages\\ray\\rllib\\evaluation\\rollout_worker.py:1573\u001b[0m, in \u001b[0;36mRolloutWorker.foreach_policy_to_train\u001b[1;34m(self, func, **kwargs)\u001b[0m\n\u001b[0;32m   1551\u001b[0m \u001b[39m@DeveloperAPI\u001b[39m\n\u001b[0;32m   1552\u001b[0m \u001b[39mdef\u001b[39;00m \u001b[39mforeach_policy_to_train\u001b[39m(\n\u001b[0;32m   1553\u001b[0m     \u001b[39mself\u001b[39m, func: Callable[[Policy, PolicyID, Optional[Any]], T], \u001b[39m*\u001b[39m\u001b[39m*\u001b[39mkwargs\n\u001b[0;32m   1554\u001b[0m ) \u001b[39m-\u001b[39m\u001b[39m>\u001b[39m List[T]:\n\u001b[0;32m   1555\u001b[0m     \u001b[39m\"\"\"\u001b[39;00m\n\u001b[0;32m   1556\u001b[0m \u001b[39m    Calls the given function with each (policy, policy_id) tuple.\u001b[39;00m\n\u001b[0;32m   1557\u001b[0m \n\u001b[1;32m   (...)\u001b[0m\n\u001b[0;32m   1571\u001b[0m \u001b[39m        `func([policy, pid, **kwargs])`.\u001b[39;00m\n\u001b[0;32m   1572\u001b[0m \u001b[39m    \"\"\"\u001b[39;00m\n\u001b[1;32m-> 1573\u001b[0m     \u001b[39mreturn\u001b[39;00m [\n\u001b[0;32m   1574\u001b[0m         \u001b[39m# Make sure to only iterate over keys() and not items(). Iterating over\u001b[39;00m\n\u001b[0;32m   1575\u001b[0m         \u001b[39m# items will access policy_map elements even for pids that we do not need,\u001b[39;00m\n\u001b[0;32m   1576\u001b[0m         \u001b[39m# i.e. those that are not in policy_to_train. Access to policy_map elements\u001b[39;00m\n\u001b[0;32m   1577\u001b[0m         \u001b[39m# can cause disk access for policies that were offloaded to disk. Since\u001b[39;00m\n\u001b[0;32m   1578\u001b[0m         \u001b[39m# these policies will be skipped in the for-loop accessing them is\u001b[39;00m\n\u001b[0;32m   1579\u001b[0m         \u001b[39m# unnecessary, making subsequent disk access unnecessary.\u001b[39;00m\n\u001b[0;32m   1580\u001b[0m         func(\u001b[39mself\u001b[39m\u001b[39m.\u001b[39mpolicy_map[pid], pid, \u001b[39m*\u001b[39m\u001b[39m*\u001b[39mkwargs)\n\u001b[0;32m   1581\u001b[0m         \u001b[39mfor\u001b[39;00m pid \u001b[39min\u001b[39;00m \u001b[39mself\u001b[39m\u001b[39m.\u001b[39mpolicy_map\u001b[39m.\u001b[39mkeys()\n\u001b[0;32m   1582\u001b[0m         \u001b[39mif\u001b[39;00m \u001b[39mself\u001b[39m\u001b[39m.\u001b[39mis_policy_to_train \u001b[39mis\u001b[39;00m \u001b[39mNone\u001b[39;00m \u001b[39mor\u001b[39;00m \u001b[39mself\u001b[39m\u001b[39m.\u001b[39mis_policy_to_train(pid, \u001b[39mNone\u001b[39;00m)\n\u001b[0;32m   1583\u001b[0m     ]\n",
      "File \u001b[1;32mc:\\Users\\nadir\\anaconda3\\envs\\GTAI2\\lib\\site-packages\\ray\\rllib\\evaluation\\rollout_worker.py:1580\u001b[0m, in \u001b[0;36m<listcomp>\u001b[1;34m(.0)\u001b[0m\n\u001b[0;32m   1551\u001b[0m \u001b[39m@DeveloperAPI\u001b[39m\n\u001b[0;32m   1552\u001b[0m \u001b[39mdef\u001b[39;00m \u001b[39mforeach_policy_to_train\u001b[39m(\n\u001b[0;32m   1553\u001b[0m     \u001b[39mself\u001b[39m, func: Callable[[Policy, PolicyID, Optional[Any]], T], \u001b[39m*\u001b[39m\u001b[39m*\u001b[39mkwargs\n\u001b[0;32m   1554\u001b[0m ) \u001b[39m-\u001b[39m\u001b[39m>\u001b[39m List[T]:\n\u001b[0;32m   1555\u001b[0m     \u001b[39m\"\"\"\u001b[39;00m\n\u001b[0;32m   1556\u001b[0m \u001b[39m    Calls the given function with each (policy, policy_id) tuple.\u001b[39;00m\n\u001b[0;32m   1557\u001b[0m \n\u001b[1;32m   (...)\u001b[0m\n\u001b[0;32m   1571\u001b[0m \u001b[39m        `func([policy, pid, **kwargs])`.\u001b[39;00m\n\u001b[0;32m   1572\u001b[0m \u001b[39m    \"\"\"\u001b[39;00m\n\u001b[0;32m   1573\u001b[0m     \u001b[39mreturn\u001b[39;00m [\n\u001b[0;32m   1574\u001b[0m         \u001b[39m# Make sure to only iterate over keys() and not items(). Iterating over\u001b[39;00m\n\u001b[0;32m   1575\u001b[0m         \u001b[39m# items will access policy_map elements even for pids that we do not need,\u001b[39;00m\n\u001b[0;32m   1576\u001b[0m         \u001b[39m# i.e. those that are not in policy_to_train. Access to policy_map elements\u001b[39;00m\n\u001b[0;32m   1577\u001b[0m         \u001b[39m# can cause disk access for policies that were offloaded to disk. Since\u001b[39;00m\n\u001b[0;32m   1578\u001b[0m         \u001b[39m# these policies will be skipped in the for-loop accessing them is\u001b[39;00m\n\u001b[0;32m   1579\u001b[0m         \u001b[39m# unnecessary, making subsequent disk access unnecessary.\u001b[39;00m\n\u001b[1;32m-> 1580\u001b[0m         func(\u001b[39mself\u001b[39m\u001b[39m.\u001b[39mpolicy_map[pid], pid, \u001b[39m*\u001b[39m\u001b[39m*\u001b[39mkwargs)\n\u001b[0;32m   1581\u001b[0m         \u001b[39mfor\u001b[39;00m pid \u001b[39min\u001b[39;00m \u001b[39mself\u001b[39m\u001b[39m.\u001b[39mpolicy_map\u001b[39m.\u001b[39mkeys()\n\u001b[0;32m   1582\u001b[0m         \u001b[39mif\u001b[39;00m \u001b[39mself\u001b[39m\u001b[39m.\u001b[39mis_policy_to_train \u001b[39mis\u001b[39;00m \u001b[39mNone\u001b[39;00m \u001b[39mor\u001b[39;00m \u001b[39mself\u001b[39m\u001b[39m.\u001b[39mis_policy_to_train(pid, \u001b[39mNone\u001b[39;00m)\n\u001b[0;32m   1583\u001b[0m     ]\n",
      "File \u001b[1;32mc:\\Users\\nadir\\anaconda3\\envs\\GTAI2\\lib\\site-packages\\ray\\rllib\\algorithms\\dqn\\dqn.py:466\u001b[0m, in \u001b[0;36mDQN.training_step.<locals>.<lambda>\u001b[1;34m(p, pid)\u001b[0m\n\u001b[0;32m    463\u001b[0m \u001b[39mif\u001b[39;00m cur_ts \u001b[39m-\u001b[39m last_update \u001b[39m>\u001b[39m\u001b[39m=\u001b[39m \u001b[39mself\u001b[39m\u001b[39m.\u001b[39mconfig\u001b[39m.\u001b[39mtarget_network_update_freq:\n\u001b[0;32m    464\u001b[0m     to_update \u001b[39m=\u001b[39m \u001b[39mself\u001b[39m\u001b[39m.\u001b[39mworkers\u001b[39m.\u001b[39mlocal_worker()\u001b[39m.\u001b[39mget_policies_to_train()\n\u001b[0;32m    465\u001b[0m     \u001b[39mself\u001b[39m\u001b[39m.\u001b[39mworkers\u001b[39m.\u001b[39mlocal_worker()\u001b[39m.\u001b[39mforeach_policy_to_train(\n\u001b[1;32m--> 466\u001b[0m         \u001b[39mlambda\u001b[39;00m p, pid: pid \u001b[39min\u001b[39;00m to_update \u001b[39mand\u001b[39;00m p\u001b[39m.\u001b[39;49mupdate_target()\n\u001b[0;32m    467\u001b[0m     )\n\u001b[0;32m    468\u001b[0m     \u001b[39mself\u001b[39m\u001b[39m.\u001b[39m_counters[NUM_TARGET_UPDATES] \u001b[39m+\u001b[39m\u001b[39m=\u001b[39m \u001b[39m1\u001b[39m\n\u001b[0;32m    469\u001b[0m     \u001b[39mself\u001b[39m\u001b[39m.\u001b[39m_counters[LAST_TARGET_UPDATE_TS] \u001b[39m=\u001b[39m cur_ts\n",
      "File \u001b[1;32mc:\\Users\\nadir\\anaconda3\\envs\\GTAI2\\lib\\site-packages\\ray\\rllib\\policy\\tf_mixins.py:263\u001b[0m, in \u001b[0;36mTargetNetworkMixin.update_target\u001b[1;34m(self, tau)\u001b[0m\n\u001b[0;32m    262\u001b[0m \u001b[39mdef\u001b[39;00m \u001b[39mupdate_target\u001b[39m(\u001b[39mself\u001b[39m, tau: \u001b[39mint\u001b[39m \u001b[39m=\u001b[39m \u001b[39mNone\u001b[39;00m) \u001b[39m-\u001b[39m\u001b[39m>\u001b[39m \u001b[39mNone\u001b[39;00m:\n\u001b[1;32m--> 263\u001b[0m     \u001b[39mself\u001b[39;49m\u001b[39m.\u001b[39;49m_do_update(np\u001b[39m.\u001b[39;49mfloat32(tau \u001b[39mor\u001b[39;49;00m \u001b[39mself\u001b[39;49m\u001b[39m.\u001b[39;49mconfig\u001b[39m.\u001b[39;49mget(\u001b[39m\"\u001b[39;49m\u001b[39mtau\u001b[39;49m\u001b[39m\"\u001b[39;49m, \u001b[39m1.0\u001b[39;49m)))\n",
      "File \u001b[1;32mc:\\Users\\nadir\\anaconda3\\envs\\GTAI2\\lib\\site-packages\\ray\\rllib\\policy\\tf_mixins.py:230\u001b[0m, in \u001b[0;36mTargetNetworkMixin.__init__.<locals>.update_target_fn\u001b[1;34m(tau)\u001b[0m\n\u001b[0;32m    224\u001b[0m \u001b[39massert\u001b[39;00m \u001b[39mlen\u001b[39m(model_vars) \u001b[39m==\u001b[39m \u001b[39mlen\u001b[39m(target_model_vars), (\n\u001b[0;32m    225\u001b[0m     model_vars,\n\u001b[0;32m    226\u001b[0m     target_model_vars,\n\u001b[0;32m    227\u001b[0m )\n\u001b[0;32m    228\u001b[0m \u001b[39mfor\u001b[39;00m var, var_target \u001b[39min\u001b[39;00m \u001b[39mzip\u001b[39m(model_vars, target_model_vars):\n\u001b[0;32m    229\u001b[0m     update_target_expr\u001b[39m.\u001b[39mappend(\n\u001b[1;32m--> 230\u001b[0m         var_target\u001b[39m.\u001b[39massign(tau \u001b[39m*\u001b[39;49m var \u001b[39m+\u001b[39m (\u001b[39m1.0\u001b[39m \u001b[39m-\u001b[39m tau) \u001b[39m*\u001b[39m var_target)\n\u001b[0;32m    231\u001b[0m     )\n\u001b[0;32m    232\u001b[0m     logger\u001b[39m.\u001b[39mdebug(\u001b[39m\"\u001b[39m\u001b[39mUpdate target op \u001b[39m\u001b[39m{}\u001b[39;00m\u001b[39m\"\u001b[39m\u001b[39m.\u001b[39mformat(var_target))\n\u001b[0;32m    233\u001b[0m \u001b[39mreturn\u001b[39;00m tf\u001b[39m.\u001b[39mgroup(\u001b[39m*\u001b[39mupdate_target_expr)\n",
      "File \u001b[1;32mc:\\Users\\nadir\\anaconda3\\envs\\GTAI2\\lib\\site-packages\\tensorflow\\python\\ops\\math_ops.py:1367\u001b[0m, in \u001b[0;36m_OverrideBinaryOperatorHelper.<locals>.binary_op_wrapper\u001b[1;34m(x, y)\u001b[0m\n\u001b[0;32m   1362\u001b[0m \u001b[39mtry\u001b[39;00m:\n\u001b[0;32m   1363\u001b[0m   \u001b[39m# force_same_dtype=False to preserve existing TF behavior\u001b[39;00m\n\u001b[0;32m   1364\u001b[0m   \u001b[39m# TODO(b/178860388): Figure out why binary_op_wrapper and\u001b[39;00m\n\u001b[0;32m   1365\u001b[0m   \u001b[39m#   r_binary_op_wrapper use different force_same_dtype values.\u001b[39;00m\n\u001b[0;32m   1366\u001b[0m   x, y \u001b[39m=\u001b[39m maybe_promote_tensors(x, y, force_same_dtype\u001b[39m=\u001b[39m\u001b[39mFalse\u001b[39;00m)\n\u001b[1;32m-> 1367\u001b[0m   \u001b[39mreturn\u001b[39;00m func(x, y, name\u001b[39m=\u001b[39;49mname)\n\u001b[0;32m   1368\u001b[0m \u001b[39mexcept\u001b[39;00m (\u001b[39mTypeError\u001b[39;00m, \u001b[39mValueError\u001b[39;00m) \u001b[39mas\u001b[39;00m e:\n\u001b[0;32m   1369\u001b[0m   \u001b[39m# Even if dispatching the op failed, the RHS may be a tensor aware\u001b[39;00m\n\u001b[0;32m   1370\u001b[0m   \u001b[39m# object that can implement the operator with knowledge of itself\u001b[39;00m\n\u001b[1;32m   (...)\u001b[0m\n\u001b[0;32m   1373\u001b[0m   \u001b[39m# original error from the LHS, because it may be more\u001b[39;00m\n\u001b[0;32m   1374\u001b[0m   \u001b[39m# informative.\u001b[39;00m\n\u001b[0;32m   1375\u001b[0m   \u001b[39mif\u001b[39;00m \u001b[39mhasattr\u001b[39m(\u001b[39mtype\u001b[39m(y), \u001b[39m\"\u001b[39m\u001b[39m__r\u001b[39m\u001b[39m%s\u001b[39;00m\u001b[39m__\u001b[39m\u001b[39m\"\u001b[39m \u001b[39m%\u001b[39m op_name):\n",
      "File \u001b[1;32mc:\\Users\\nadir\\anaconda3\\envs\\GTAI2\\lib\\site-packages\\tensorflow\\python\\ops\\math_ops.py:1710\u001b[0m, in \u001b[0;36m_mul_dispatch\u001b[1;34m(x, y, name)\u001b[0m\n\u001b[0;32m   1708\u001b[0m   \u001b[39mreturn\u001b[39;00m sparse_tensor\u001b[39m.\u001b[39mSparseTensor(y\u001b[39m.\u001b[39mindices, new_vals, y\u001b[39m.\u001b[39mdense_shape)\n\u001b[0;32m   1709\u001b[0m \u001b[39melse\u001b[39;00m:\n\u001b[1;32m-> 1710\u001b[0m   \u001b[39mreturn\u001b[39;00m multiply(x, y, name\u001b[39m=\u001b[39;49mname)\n",
      "File \u001b[1;32mc:\\Users\\nadir\\anaconda3\\envs\\GTAI2\\lib\\site-packages\\tensorflow\\python\\util\\dispatch.py:206\u001b[0m, in \u001b[0;36madd_dispatch_support.<locals>.wrapper\u001b[1;34m(*args, **kwargs)\u001b[0m\n\u001b[0;32m    204\u001b[0m \u001b[39m\"\"\"Call target, and fall back on dispatchers if there is a TypeError.\"\"\"\u001b[39;00m\n\u001b[0;32m    205\u001b[0m \u001b[39mtry\u001b[39;00m:\n\u001b[1;32m--> 206\u001b[0m   \u001b[39mreturn\u001b[39;00m target(\u001b[39m*\u001b[39margs, \u001b[39m*\u001b[39m\u001b[39m*\u001b[39mkwargs)\n\u001b[0;32m    207\u001b[0m \u001b[39mexcept\u001b[39;00m (\u001b[39mTypeError\u001b[39;00m, \u001b[39mValueError\u001b[39;00m):\n\u001b[0;32m    208\u001b[0m   \u001b[39m# Note: convert_to_eager_tensor currently raises a ValueError, not a\u001b[39;00m\n\u001b[0;32m    209\u001b[0m   \u001b[39m# TypeError, when given unexpected types.  So we need to catch both.\u001b[39;00m\n\u001b[0;32m    210\u001b[0m   result \u001b[39m=\u001b[39m dispatch(wrapper, args, kwargs)\n",
      "File \u001b[1;32mc:\\Users\\nadir\\anaconda3\\envs\\GTAI2\\lib\\site-packages\\tensorflow\\python\\ops\\math_ops.py:530\u001b[0m, in \u001b[0;36mmultiply\u001b[1;34m(x, y, name)\u001b[0m\n\u001b[0;32m    482\u001b[0m \u001b[39m@tf_export\u001b[39m(\u001b[39m\"\u001b[39m\u001b[39mmath.multiply\u001b[39m\u001b[39m\"\u001b[39m, \u001b[39m\"\u001b[39m\u001b[39mmultiply\u001b[39m\u001b[39m\"\u001b[39m)\n\u001b[0;32m    483\u001b[0m \u001b[39m@dispatch\u001b[39m\u001b[39m.\u001b[39madd_dispatch_support\n\u001b[0;32m    484\u001b[0m \u001b[39mdef\u001b[39;00m \u001b[39mmultiply\u001b[39m(x, y, name\u001b[39m=\u001b[39m\u001b[39mNone\u001b[39;00m):\n\u001b[0;32m    485\u001b[0m   \u001b[39m\"\"\"Returns an element-wise x * y.\u001b[39;00m\n\u001b[0;32m    486\u001b[0m \n\u001b[0;32m    487\u001b[0m \u001b[39m  For example:\u001b[39;00m\n\u001b[1;32m   (...)\u001b[0m\n\u001b[0;32m    527\u001b[0m \u001b[39m   * InvalidArgumentError: When `x` and `y` have incompatible shapes or types.\u001b[39;00m\n\u001b[0;32m    528\u001b[0m \u001b[39m  \"\"\"\u001b[39;00m\n\u001b[1;32m--> 530\u001b[0m   \u001b[39mreturn\u001b[39;00m gen_math_ops\u001b[39m.\u001b[39;49mmul(x, y, name)\n",
      "File \u001b[1;32mc:\\Users\\nadir\\anaconda3\\envs\\GTAI2\\lib\\site-packages\\tensorflow\\python\\ops\\gen_math_ops.py:6231\u001b[0m, in \u001b[0;36mmul\u001b[1;34m(x, y, name)\u001b[0m\n\u001b[0;32m   6229\u001b[0m \u001b[39mif\u001b[39;00m tld\u001b[39m.\u001b[39mis_eager:\n\u001b[0;32m   6230\u001b[0m   \u001b[39mtry\u001b[39;00m:\n\u001b[1;32m-> 6231\u001b[0m     _result \u001b[39m=\u001b[39m pywrap_tfe\u001b[39m.\u001b[39;49mTFE_Py_FastPathExecute(\n\u001b[0;32m   6232\u001b[0m       _ctx, \u001b[39m\"\u001b[39;49m\u001b[39mMul\u001b[39;49m\u001b[39m\"\u001b[39;49m, name, x, y)\n\u001b[0;32m   6233\u001b[0m     \u001b[39mreturn\u001b[39;00m _result\n\u001b[0;32m   6234\u001b[0m   \u001b[39mexcept\u001b[39;00m _core\u001b[39m.\u001b[39m_NotOkStatusException \u001b[39mas\u001b[39;00m e:\n",
      "\u001b[1;31mKeyboardInterrupt\u001b[0m: "
     ]
    }
   ],
   "source": [
    "if not debugAsGym and not testResult:\n",
    "    N = 1000\n",
    "\n",
    "    for n in range(N):\n",
    "        result = algo.train()\n",
    "        print(\"Loop: \", n)\n",
    "        if n % 10 == 0:\n",
    "            print(\"Saved\", n)\n",
    "            algo.save()\n",
    "            \n",
    "    algo.save()\n"
   ]
  },
  {
   "cell_type": "code",
   "execution_count": null,
   "metadata": {},
   "outputs": [],
   "source": [
    "if not debugAsGym and not testResult:\n",
    "    N = 1000\n",
    "\n",
    "    for n in range(N):\n",
    "        result = algo.train()\n",
    "        print(\"Loop: \", n)\n",
    "        if n % 50 == 0:\n",
    "            print(\"Saved\", n)\n",
    "            algo.save()\n",
    "            \n",
    "    algo.save()"
   ]
  },
  {
   "cell_type": "code",
   "execution_count": null,
   "metadata": {},
   "outputs": [],
   "source": [
    "from myRTClass import MyGranTurismoRTGYM, DEFAULT_CONFIG_DICT\n",
    "import gymnasium\n",
    "\n",
    "my_config = DEFAULT_CONFIG_DICT\n",
    "my_config[\"interface\"] = MyGranTurismoRTGYM\n",
    "my_config[\"time_step_duration\"] = 0.1\n",
    "my_config[\"start_obs_capture\"] = 0.1\n",
    "my_config[\"time_step_timeout_factor\"] = 1.0\n",
    "#my_config[\"ep_max_length\"] = 224\n",
    "my_config[\"act_buf_len\"] = 3\n",
    "my_config[\"reset_act_buf\"] = False\n",
    "my_config[\"benchmark\"] = True\n",
    "my_config[\"benchmark_polyak\"] = 0.2\n",
    "\n",
    "my_config[\"interface_kwargs\"] = {\n",
    "  'debugFlag': False, # do not use render() while True\n",
    "  'img_hist_len': 3,\n",
    "  'modelMode': 4,\n",
    "  'agent' : 'PPO',\n",
    "  #  [42, 42, K], [84, 84, K], [10, 10, K], [240, 320, K] and  [480, 640, K]\n",
    "  'imageWidth' : 42, # there is a default Cov layer for PPO with 240 x 320\n",
    "  'imageHeight' : 42,\n",
    "  'trackChoice' : 3, # 1 is High Speed Ring, 2 is 0-400m, \n",
    "}"
   ]
  },
  {
   "cell_type": "code",
   "execution_count": null,
   "metadata": {},
   "outputs": [],
   "source": [
    "if not debugAsGym and testResult:\n",
    "    def env_creator(env_config):\n",
    "        env = gymnasium.make(\"real-time-gym-v1\", config=env_config)\n",
    "        return env  # return an env instance\n",
    "\n",
    "    from ray.tune.registry import register_env\n",
    "    register_env(\"gt-rtgym-env-v1\", lambda config: env_creator(my_config)) "
   ]
  },
  {
   "cell_type": "code",
   "execution_count": null,
   "metadata": {},
   "outputs": [],
   "source": [
    "if not debugAsGym and testResult:\n",
    "    from ray.rllib.algorithms.algorithm import Algorithm\n",
    "    algo = Algorithm.from_checkpoint(\"C:/Users/nadir/ray_results/PPO_gt-rtgym-env-v1_2023-05-19_07-37-37z3d6v2w2/checkpoint_000061\")\n",
    "    #algo = Algorithm.from_checkpoint(\"C:/Users/nadir/ray_results/PPO_gt-rtgym-env-v1_2023-05-19_07-37-37z3d6v2w2/checkpoint_002000\")"
   ]
  },
  {
   "cell_type": "code",
   "execution_count": null,
   "metadata": {},
   "outputs": [],
   "source": [
    "if not debugAsGym and testResult:\n",
    "    result = algo.train()"
   ]
  },
  {
   "cell_type": "code",
   "execution_count": null,
   "metadata": {},
   "outputs": [],
   "source": [
    "if not debugAsGym and testResult:\n",
    "\n",
    "    policy = algo.get_policy()\n",
    "    #print(policy.model)\n",
    "    model = policy.model\n",
    "    print(model)"
   ]
  }
 ],
 "metadata": {
  "kernelspec": {
   "display_name": "GTAI2",
   "language": "python",
   "name": "python3"
  },
  "language_info": {
   "codemirror_mode": {
    "name": "ipython",
    "version": 3
   },
   "file_extension": ".py",
   "mimetype": "text/x-python",
   "name": "python",
   "nbconvert_exporter": "python",
   "pygments_lexer": "ipython3",
   "version": "3.9.9"
  },
  "orig_nbformat": 4
 },
 "nbformat": 4,
 "nbformat_minor": 2
}

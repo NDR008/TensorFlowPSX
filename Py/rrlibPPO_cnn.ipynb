{
 "cells": [
  {
   "attachments": {},
   "cell_type": "markdown",
   "metadata": {},
   "source": [
    "# Initial AI Agent PPO w CNN (working) Supra Drag Cont Act"
   ]
  },
  {
   "cell_type": "code",
   "execution_count": 1,
   "metadata": {},
   "outputs": [
    {
     "name": "stdout",
     "output_type": "stream",
     "text": [
      "GPU is available\n"
     ]
    }
   ],
   "source": [
    "import torch\n",
    "\n",
    "if torch.cuda.is_available():\n",
    "    print(\"GPU is available\")\n",
    "else:\n",
    "    print(\"GPU is not available\")"
   ]
  },
  {
   "cell_type": "code",
   "execution_count": 2,
   "metadata": {},
   "outputs": [
    {
     "name": "stdout",
     "output_type": "stream",
     "text": [
      "j:\\git\\TensorFlowPSX\\Py\n"
     ]
    }
   ],
   "source": [
    "%cd \"J:\\git\\TensorFlowPSX\\Py\"\n",
    "\n",
    "from myRTClass import MyGranTurismoRTGYM, DEFAULT_CONFIG_DICT\n",
    "import numpy as np\n",
    "import gymnasium\n",
    "from time import sleep\n",
    "\n",
    "my_config = DEFAULT_CONFIG_DICT\n",
    "my_config[\"interface\"] = MyGranTurismoRTGYM\n",
    "my_config[\"time_step_duration\"] = 0.05\n",
    "my_config[\"start_obs_capture\"] = 0.05\n",
    "my_config[\"time_step_timeout_factor\"] = 1.0\n",
    "my_config[\"ep_max_length\"] = 2000\n",
    "my_config[\"act_buf_len\"] = 4\n",
    "my_config[\"reset_act_buf\"] = False\n",
    "my_config[\"benchmark\"] = True\n",
    "my_config[\"benchmark_polyak\"] = 0.2\n",
    "\n",
    "my_config[\"interface_kwargs\"] = {\n",
    "  'debugFlag': False, # do not use render() while True\n",
    "  'img_hist_len': 3,\n",
    "  'discreteAccel' : False,\n",
    "  'accelAndBrake' : False,\n",
    "  'discSteer' : False,\n",
    "  'contAccelOnly' : True,\n",
    "  'discAccelOnly' : False,\n",
    "  'modelMode': 1,\n",
    "  'agent' : 'PPO',\n",
    "  #  [42, 42, K], [84, 84, K], [10, 10, K], [240, 320, K] and  [480, 640, K]\n",
    "  'imageWidth' : 42, # there is a default Cov layer for PPO with 240 x 320\n",
    "  'imageHeight' : 42,\n",
    "  'trackChoice' : 4, # 1 is High Speed Ring x MR2, 2 is 0-400m x MR2, 3 is 0-400 Supra disc, 4 is 0-400 Supra cont, \n",
    "}"
   ]
  },
  {
   "cell_type": "code",
   "execution_count": 3,
   "metadata": {},
   "outputs": [],
   "source": [
    "def env_creator(env_config):\n",
    "    env = gymnasium.make(\"real-time-gym-v1\", config=env_config)\n",
    "    return env  # return an env instance\n",
    "\n",
    "from ray.tune.registry import register_env\n",
    "register_env(\"gt-rtgym-env-v1\", lambda config: env_creator(my_config)) # better way"
   ]
  },
  {
   "cell_type": "code",
   "execution_count": 4,
   "metadata": {},
   "outputs": [
    {
     "name": "stderr",
     "output_type": "stream",
     "text": [
      "2023-10-05 22:03:51,759\tINFO worker.py:1612 -- Started a local Ray instance. View the dashboard at \u001b[1m\u001b[32m127.0.0.1:8266 \u001b[39m\u001b[22m\n"
     ]
    },
    {
     "data": {
      "application/vnd.jupyter.widget-view+json": {
       "model_id": "8cb98f8c4f3045269c984fd0680c35b1",
       "version_major": 2,
       "version_minor": 0
      },
      "text/html": [
       "<div class=\"lm-Widget p-Widget lm-Panel p-Panel jp-Cell-outputWrapper\">\n",
       "    <div style=\"margin-left: 50px;display: flex;flex-direction: row;align-items: center\">\n",
       "        <div class=\"jp-RenderedHTMLCommon\" style=\"display: flex; flex-direction: row;\">\n",
       "  <svg viewBox=\"0 0 567 224\" fill=\"none\" xmlns=\"http://www.w3.org/2000/svg\" style=\"height: 3em;\">\n",
       "    <g clip-path=\"url(#clip0_4338_178347)\">\n",
       "        <path d=\"M341.29 165.561H355.29L330.13 129.051C345.63 123.991 354.21 112.051 354.21 94.2307C354.21 71.3707 338.72 58.1807 311.88 58.1807H271V165.561H283.27V131.661H311.8C314.25 131.661 316.71 131.501 319.01 131.351L341.25 165.561H341.29ZM283.29 119.851V70.0007H311.82C331.3 70.0007 342.34 78.2907 342.34 94.5507C342.34 111.271 331.34 119.861 311.82 119.861L283.29 119.851ZM451.4 138.411L463.4 165.561H476.74L428.74 58.1807H416L367.83 165.561H380.83L392.83 138.411H451.4ZM446.19 126.601H398L422 72.1407L446.24 126.601H446.19ZM526.11 128.741L566.91 58.1807H554.35L519.99 114.181L485.17 58.1807H472.44L514.01 129.181V165.541H526.13V128.741H526.11Z\" fill=\"var(--jp-ui-font-color0)\"/>\n",
       "        <path d=\"M82.35 104.44C84.0187 97.8827 87.8248 92.0678 93.1671 87.9146C98.5094 83.7614 105.083 81.5067 111.85 81.5067C118.617 81.5067 125.191 83.7614 130.533 87.9146C135.875 92.0678 139.681 97.8827 141.35 104.44H163.75C164.476 101.562 165.622 98.8057 167.15 96.2605L127.45 56.5605C121.071 60.3522 113.526 61.6823 106.235 60.3005C98.9443 58.9187 92.4094 54.9203 87.8602 49.0574C83.3109 43.1946 81.0609 35.8714 81.5332 28.4656C82.0056 21.0599 85.1679 14.0819 90.4252 8.8446C95.6824 3.60726 102.672 0.471508 110.08 0.0272655C117.487 -0.416977 124.802 1.86091 130.647 6.4324C136.493 11.0039 140.467 17.5539 141.821 24.8501C143.175 32.1463 141.816 39.6859 138 46.0505L177.69 85.7505C182.31 82.9877 187.58 81.4995 192.962 81.4375C198.345 81.3755 203.648 82.742 208.33 85.3976C213.012 88.0532 216.907 91.9029 219.616 96.5544C222.326 101.206 223.753 106.492 223.753 111.875C223.753 117.258 222.326 122.545 219.616 127.197C216.907 131.848 213.012 135.698 208.33 138.353C203.648 141.009 198.345 142.375 192.962 142.313C187.58 142.251 182.31 140.763 177.69 138L138 177.7C141.808 184.071 143.155 191.614 141.79 198.91C140.424 206.205 136.44 212.75 130.585 217.313C124.731 221.875 117.412 224.141 110.004 223.683C102.596 223.226 95.6103 220.077 90.3621 214.828C85.1139 209.58 81.9647 202.595 81.5072 195.187C81.0497 187.779 83.3154 180.459 87.878 174.605C92.4405 168.751 98.9853 164.766 106.281 163.401C113.576 162.035 121.119 163.383 127.49 167.19L167.19 127.49C165.664 124.941 164.518 122.182 163.79 119.3H141.39C139.721 125.858 135.915 131.673 130.573 135.826C125.231 139.98 118.657 142.234 111.89 142.234C105.123 142.234 98.5494 139.98 93.2071 135.826C87.8648 131.673 84.0587 125.858 82.39 119.3H60C58.1878 126.495 53.8086 132.78 47.6863 136.971C41.5641 141.163 34.1211 142.972 26.7579 142.059C19.3947 141.146 12.6191 137.574 7.70605 132.014C2.79302 126.454 0.0813599 119.29 0.0813599 111.87C0.0813599 104.451 2.79302 97.2871 7.70605 91.7272C12.6191 86.1673 19.3947 82.5947 26.7579 81.6817C34.1211 80.7686 41.5641 82.5781 47.6863 86.7696C53.8086 90.9611 58.1878 97.2456 60 104.44H82.35ZM100.86 204.32C103.407 206.868 106.759 208.453 110.345 208.806C113.93 209.159 117.527 208.258 120.522 206.256C123.517 204.254 125.725 201.276 126.771 197.828C127.816 194.38 127.633 190.677 126.253 187.349C124.874 184.021 122.383 181.274 119.205 179.577C116.027 177.88 112.359 177.337 108.826 178.042C105.293 178.746 102.113 180.654 99.8291 183.44C97.5451 186.226 96.2979 189.718 96.3 193.32C96.2985 195.364 96.7006 197.388 97.4831 199.275C98.2656 201.163 99.4132 202.877 100.86 204.32ZM204.32 122.88C206.868 120.333 208.453 116.981 208.806 113.396C209.159 109.811 208.258 106.214 206.256 103.219C204.254 100.223 201.275 98.0151 197.827 96.97C194.38 95.9249 190.676 96.1077 187.348 97.4873C184.02 98.8669 181.274 101.358 179.577 104.536C177.879 107.714 177.337 111.382 178.041 114.915C178.746 118.448 180.653 121.627 183.439 123.911C186.226 126.195 189.717 127.443 193.32 127.44C195.364 127.443 197.388 127.042 199.275 126.259C201.163 125.476 202.878 124.328 204.32 122.88ZM122.88 19.4205C120.333 16.8729 116.981 15.2876 113.395 14.9347C109.81 14.5817 106.213 15.483 103.218 17.4849C100.223 19.4868 98.0146 22.4654 96.9696 25.9131C95.9245 29.3608 96.1073 33.0642 97.4869 36.3922C98.8665 39.7202 101.358 42.4668 104.535 44.1639C107.713 45.861 111.381 46.4036 114.914 45.6992C118.447 44.9949 121.627 43.0871 123.911 40.301C126.195 37.515 127.442 34.0231 127.44 30.4205C127.44 28.3772 127.038 26.3539 126.255 24.4664C125.473 22.5788 124.326 20.8642 122.88 19.4205ZM19.42 100.86C16.8725 103.408 15.2872 106.76 14.9342 110.345C14.5813 113.93 15.4826 117.527 17.4844 120.522C19.4863 123.518 22.4649 125.726 25.9127 126.771C29.3604 127.816 33.0638 127.633 36.3918 126.254C39.7198 124.874 42.4664 122.383 44.1635 119.205C45.8606 116.027 46.4032 112.359 45.6988 108.826C44.9944 105.293 43.0866 102.114 40.3006 99.8296C37.5145 97.5455 34.0227 96.2983 30.42 96.3005C26.2938 96.3018 22.337 97.9421 19.42 100.86ZM100.86 100.86C98.3125 103.408 96.7272 106.76 96.3742 110.345C96.0213 113.93 96.9226 117.527 98.9244 120.522C100.926 123.518 103.905 125.726 107.353 126.771C110.8 127.816 114.504 127.633 117.832 126.254C121.16 124.874 123.906 122.383 125.604 119.205C127.301 116.027 127.843 112.359 127.139 108.826C126.434 105.293 124.527 102.114 121.741 99.8296C118.955 97.5455 115.463 96.2983 111.86 96.3005C109.817 96.299 107.793 96.701 105.905 97.4835C104.018 98.2661 102.303 99.4136 100.86 100.86Z\" fill=\"#00AEEF\"/>\n",
       "    </g>\n",
       "    <defs>\n",
       "        <clipPath id=\"clip0_4338_178347\">\n",
       "            <rect width=\"566.93\" height=\"223.75\" fill=\"white\"/>\n",
       "        </clipPath>\n",
       "    </defs>\n",
       "  </svg>\n",
       "</div>\n",
       "\n",
       "        <table class=\"jp-RenderedHTMLCommon\" style=\"border-collapse: collapse;color: var(--jp-ui-font-color1);font-size: var(--jp-ui-font-size1);\">\n",
       "    <tr>\n",
       "        <td style=\"text-align: left\"><b>Python version:</b></td>\n",
       "        <td style=\"text-align: left\"><b>3.10.13</b></td>\n",
       "    </tr>\n",
       "    <tr>\n",
       "        <td style=\"text-align: left\"><b>Ray version:</b></td>\n",
       "        <td style=\"text-align: left\"><b>2.6.3</b></td>\n",
       "    </tr>\n",
       "    <tr>\n",
       "    <td style=\"text-align: left\"><b>Dashboard:</b></td>\n",
       "    <td style=\"text-align: left\"><b><a href=\"http://127.0.0.1:8266\" target=\"_blank\">http://127.0.0.1:8266</a></b></td>\n",
       "</tr>\n",
       "\n",
       "</table>\n",
       "\n",
       "    </div>\n",
       "</div>\n"
      ],
      "text/plain": [
       "RayContext(dashboard_url='127.0.0.1:8266', python_version='3.10.13', ray_version='2.6.3', ray_commit='{{RAY_COMMIT_SHA}}', protocol_version=None)"
      ]
     },
     "execution_count": 4,
     "metadata": {},
     "output_type": "execute_result"
    }
   ],
   "source": [
    "import ray\n",
    "ray.shutdown()\n",
    "ray.init()"
   ]
  },
  {
   "cell_type": "code",
   "execution_count": 5,
   "metadata": {},
   "outputs": [
    {
     "name": "stderr",
     "output_type": "stream",
     "text": [
      "2023-10-05 22:03:54,131\tWARNING deprecation.py:50 -- DeprecationWarning: `DirectStepOptimizer` has been deprecated. This will raise an error in the future!\n",
      "2023-10-05 22:03:54,707\tWARNING algorithm_config.py:2558 -- Setting `exploration_config={}` because you set `_enable_rl_module_api=True`. When RLModule API are enabled, exploration_config can not be set. If you want to implement custom exploration behaviour, please modify the `forward_exploration` method of the RLModule at hand. On configs that have a default exploration config, this must be done with `config.exploration_config={}`.\n",
      "2023-10-05 22:03:54,708\tWARNING algorithm_config.py:2558 -- Setting `exploration_config={}` because you set `_enable_rl_module_api=True`. When RLModule API are enabled, exploration_config can not be set. If you want to implement custom exploration behaviour, please modify the `forward_exploration` method of the RLModule at hand. On configs that have a default exploration config, this must be done with `config.exploration_config={}`.\n",
      "c:\\Users\\nadir\\anaconda3\\envs\\GTRay2.6.3_torch\\lib\\site-packages\\ray\\rllib\\algorithms\\algorithm.py:484: RayDeprecationWarning: This API is deprecated and may be removed in future Ray releases. You could suppress this warning by setting env variable PYTHONWARNINGS=\"ignore::DeprecationWarning\"\n",
      "`UnifiedLogger` will be removed in Ray 2.7.\n",
      "  return UnifiedLogger(config, logdir, loggers=None)\n",
      "c:\\Users\\nadir\\anaconda3\\envs\\GTRay2.6.3_torch\\lib\\site-packages\\ray\\tune\\logger\\unified.py:53: RayDeprecationWarning: This API is deprecated and may be removed in future Ray releases. You could suppress this warning by setting env variable PYTHONWARNINGS=\"ignore::DeprecationWarning\"\n",
      "The `JsonLogger interface is deprecated in favor of the `ray.tune.json.JsonLoggerCallback` interface and will be removed in Ray 2.7.\n",
      "  self._loggers.append(cls(self.config, self.logdir, self.trial))\n",
      "c:\\Users\\nadir\\anaconda3\\envs\\GTRay2.6.3_torch\\lib\\site-packages\\ray\\tune\\logger\\unified.py:53: RayDeprecationWarning: This API is deprecated and may be removed in future Ray releases. You could suppress this warning by setting env variable PYTHONWARNINGS=\"ignore::DeprecationWarning\"\n",
      "The `CSVLogger interface is deprecated in favor of the `ray.tune.csv.CSVLoggerCallback` interface and will be removed in Ray 2.7.\n",
      "  self._loggers.append(cls(self.config, self.logdir, self.trial))\n",
      "c:\\Users\\nadir\\anaconda3\\envs\\GTRay2.6.3_torch\\lib\\site-packages\\ray\\tune\\logger\\unified.py:53: RayDeprecationWarning: This API is deprecated and may be removed in future Ray releases. You could suppress this warning by setting env variable PYTHONWARNINGS=\"ignore::DeprecationWarning\"\n",
      "The `TBXLogger interface is deprecated in favor of the `ray.tune.tensorboardx.TBXLoggerCallback` interface and will be removed in Ray 2.7.\n",
      "  self._loggers.append(cls(self.config, self.logdir, self.trial))\n",
      "\u001b[2m\u001b[36m(pid=14668)\u001b[0m DeprecationWarning: `DirectStepOptimizer` has been deprecated. This will raise an error in the future!\n"
     ]
    },
    {
     "name": "stdout",
     "output_type": "stream",
     "text": [
      "\u001b[2m\u001b[36m(RolloutWorker pid=14668)\u001b[0m GT Real Time instantiated\n",
      "\u001b[2m\u001b[36m(RolloutWorker pid=14668)\u001b[0m GT AI Server instantiated for rtgym\n",
      "\u001b[2m\u001b[36m(RolloutWorker pid=14668)\u001b[0m starting up on localhost port 9999\n",
      "\u001b[2m\u001b[36m(RolloutWorker pid=14668)\u001b[0m Waiting for a connection\n"
     ]
    },
    {
     "name": "stderr",
     "output_type": "stream",
     "text": [
      "\u001b[2m\u001b[36m(RolloutWorker pid=14668)\u001b[0m c:\\Users\\nadir\\anaconda3\\envs\\GTRay2.6.3_torch\\lib\\site-packages\\gymnasium\\spaces\\box.py:127: UserWarning: \u001b[33mWARN: Box bound precision lowered by casting to float64\u001b[0m\n",
      "\u001b[2m\u001b[36m(RolloutWorker pid=14668)\u001b[0m   logger.warn(f\"Box bound precision lowered by casting to {self.dtype}\")\n",
      "\u001b[2m\u001b[36m(RolloutWorker pid=14668)\u001b[0m c:\\Users\\nadir\\anaconda3\\envs\\GTRay2.6.3_torch\\lib\\site-packages\\gymnasium\\utils\\passive_env_checker.py:31: UserWarning: \u001b[33mWARN: A Box observation space has an unconventional shape (neither an image, nor a 1D vector). We recommend flattening the observation to have only a 1D vector or use a custom policy to properly process the data. Actual observation shape: (42, 42)\u001b[0m\n",
      "\u001b[2m\u001b[36m(RolloutWorker pid=14668)\u001b[0m   logger.warn(\n",
      "2023-10-05 22:04:05,319\tWARNING algorithm_config.py:2558 -- Setting `exploration_config={}` because you set `_enable_rl_module_api=True`. When RLModule API are enabled, exploration_config can not be set. If you want to implement custom exploration behaviour, please modify the `forward_exploration` method of the RLModule at hand. On configs that have a default exploration config, this must be done with `config.exploration_config={}`.\n",
      "2023-10-05 22:04:05,339\tWARNING deprecation.py:50 -- DeprecationWarning: `ValueNetworkMixin` has been deprecated. This will raise an error in the future!\n",
      "2023-10-05 22:04:05,339\tWARNING deprecation.py:50 -- DeprecationWarning: `LearningRateSchedule` has been deprecated. This will raise an error in the future!\n",
      "2023-10-05 22:04:05,339\tWARNING deprecation.py:50 -- DeprecationWarning: `EntropyCoeffSchedule` has been deprecated. This will raise an error in the future!\n",
      "2023-10-05 22:04:05,339\tWARNING deprecation.py:50 -- DeprecationWarning: `KLCoeffMixin` has been deprecated. This will raise an error in the future!\n",
      "\u001b[2m\u001b[36m(RolloutWorker pid=14668)\u001b[0m 2023-10-05 22:04:05,269\tWARNING algorithm_config.py:2558 -- Setting `exploration_config={}` because you set `_enable_rl_module_api=True`. When RLModule API are enabled, exploration_config can not be set. If you want to implement custom exploration behaviour, please modify the `forward_exploration` method of the RLModule at hand. On configs that have a default exploration config, this must be done with `config.exploration_config={}`.\n",
      "\u001b[2m\u001b[36m(RolloutWorker pid=14668)\u001b[0m 2023-10-05 22:04:05,289\tWARNING deprecation.py:50 -- DeprecationWarning: `ValueNetworkMixin` has been deprecated. This will raise an error in the future!\n",
      "\u001b[2m\u001b[36m(RolloutWorker pid=14668)\u001b[0m 2023-10-05 22:04:05,289\tWARNING deprecation.py:50 -- DeprecationWarning: `LearningRateSchedule` has been deprecated. This will raise an error in the future!\n",
      "\u001b[2m\u001b[36m(RolloutWorker pid=14668)\u001b[0m 2023-10-05 22:04:05,289\tWARNING deprecation.py:50 -- DeprecationWarning: `EntropyCoeffSchedule` has been deprecated. This will raise an error in the future!\n",
      "\u001b[2m\u001b[36m(RolloutWorker pid=14668)\u001b[0m 2023-10-05 22:04:05,289\tWARNING deprecation.py:50 -- DeprecationWarning: `KLCoeffMixin` has been deprecated. This will raise an error in the future!\n",
      "\u001b[2m\u001b[36m(RolloutWorker pid=14668)\u001b[0m 2023-10-05 22:04:05,309\tWARNING env_runner_v2.py:297 -- Could not import gymnasium.envs.classic_control.rendering! Try `pip install gymnasium[all]`.\n"
     ]
    },
    {
     "name": "stdout",
     "output_type": "stream",
     "text": [
      "\u001b[2m\u001b[36m(RolloutWorker pid=14668)\u001b[0m Connection from ('127.0.0.1', 53550)\n",
      "\u001b[2m\u001b[36m(RolloutWorker pid=14668)\u001b[0m 6\n"
     ]
    },
    {
     "name": "stderr",
     "output_type": "stream",
     "text": [
      "2023-10-05 22:04:05,473\tINFO trainable.py:172 -- Trainable.setup took 10.734 seconds. If your trainable is slow to initialize, consider setting reuse_actors=True to reduce actor creation overheads.\n"
     ]
    }
   ],
   "source": [
    "from ray.rllib.algorithms.ppo import PPOConfig\n",
    "\n",
    "algo = (\n",
    "    PPOConfig()\n",
    "    .resources(\n",
    "        num_gpus=1\n",
    "        )\n",
    "    .rollouts(\n",
    "        num_rollout_workers=1,\n",
    "        enable_connectors=True,\n",
    "        batch_mode=\"truncate_episodes\",\n",
    "        )\n",
    "    .framework(\n",
    "        framework=\"torch\",\n",
    "        )\n",
    "    .environment(\n",
    "        env=\"gt-rtgym-env-v1\",\n",
    "        disable_env_checking=True,\n",
    "        render_env=True,\n",
    "        )\n",
    "    .training(\n",
    "        train_batch_size=128,\n",
    "    )\n",
    "    .build()\n",
    ")\n",
    "\n",
    "#PPOConfig.framework(\"\")"
   ]
  },
  {
   "cell_type": "code",
   "execution_count": 6,
   "metadata": {},
   "outputs": [
    {
     "name": "stderr",
     "output_type": "stream",
     "text": [
      "2023-10-05 22:04:05,631\tERROR actor_manager.py:500 -- Ray error, taking actor 1 out of service. \u001b[36mray::RolloutWorker.apply()\u001b[39m (pid=14668, ip=127.0.0.1, actor_id=b2c774546d01669b9774db2e01000000, repr=<ray.rllib.evaluation.rollout_worker.RolloutWorker object at 0x000001B0001F07C0>)\n",
      "  File \"python\\ray\\_raylet.pyx\", line 1424, in ray._raylet.execute_task\n",
      "  File \"python\\ray\\_raylet.pyx\", line 1364, in ray._raylet.execute_task.function_executor\n",
      "  File \"c:\\Users\\nadir\\anaconda3\\envs\\GTRay2.6.3_torch\\lib\\site-packages\\ray\\_private\\function_manager.py\", line 726, in actor_method_executor\n",
      "    return method(__ray_actor, *args, **kwargs)\n",
      "  File \"c:\\Users\\nadir\\anaconda3\\envs\\GTRay2.6.3_torch\\lib\\site-packages\\ray\\util\\tracing\\tracing_helper.py\", line 464, in _resume_span\n",
      "    return method(self, *_args, **_kwargs)\n",
      "  File \"c:\\Users\\nadir\\anaconda3\\envs\\GTRay2.6.3_torch\\lib\\site-packages\\ray\\rllib\\utils\\actor_manager.py\", line 185, in apply\n",
      "    raise e\n",
      "  File \"c:\\Users\\nadir\\anaconda3\\envs\\GTRay2.6.3_torch\\lib\\site-packages\\ray\\rllib\\utils\\actor_manager.py\", line 176, in apply\n",
      "    return func(self, *args, **kwargs)\n",
      "  File \"c:\\Users\\nadir\\anaconda3\\envs\\GTRay2.6.3_torch\\lib\\site-packages\\ray\\rllib\\execution\\rollout_ops.py\", line 86, in <lambda>\n",
      "    lambda w: w.sample(), local_worker=False, healthy_only=True\n",
      "  File \"c:\\Users\\nadir\\anaconda3\\envs\\GTRay2.6.3_torch\\lib\\site-packages\\ray\\util\\tracing\\tracing_helper.py\", line 464, in _resume_span\n",
      "    return method(self, *_args, **_kwargs)\n",
      "  File \"c:\\Users\\nadir\\anaconda3\\envs\\GTRay2.6.3_torch\\lib\\site-packages\\ray\\rllib\\evaluation\\rollout_worker.py\", line 696, in sample\n",
      "    batches = [self.input_reader.next()]\n",
      "  File \"c:\\Users\\nadir\\anaconda3\\envs\\GTRay2.6.3_torch\\lib\\site-packages\\ray\\rllib\\evaluation\\sampler.py\", line 92, in next\n",
      "    batches = [self.get_data()]\n",
      "  File \"c:\\Users\\nadir\\anaconda3\\envs\\GTRay2.6.3_torch\\lib\\site-packages\\ray\\rllib\\evaluation\\sampler.py\", line 277, in get_data\n",
      "    item = next(self._env_runner)\n",
      "  File \"c:\\Users\\nadir\\anaconda3\\envs\\GTRay2.6.3_torch\\lib\\site-packages\\ray\\rllib\\evaluation\\env_runner_v2.py\", line 344, in run\n",
      "    outputs = self.step()\n",
      "  File \"c:\\Users\\nadir\\anaconda3\\envs\\GTRay2.6.3_torch\\lib\\site-packages\\ray\\rllib\\evaluation\\env_runner_v2.py\", line 370, in step\n",
      "    active_envs, to_eval, outputs = self._process_observations(\n",
      "  File \"c:\\Users\\nadir\\anaconda3\\envs\\GTRay2.6.3_torch\\lib\\site-packages\\ray\\rllib\\evaluation\\env_runner_v2.py\", line 637, in _process_observations\n",
      "    processed = policy.agent_connectors(acd_list)\n",
      "  File \"c:\\Users\\nadir\\anaconda3\\envs\\GTRay2.6.3_torch\\lib\\site-packages\\ray\\rllib\\connectors\\agent\\pipeline.py\", line 41, in __call__\n",
      "    ret = c(ret)\n",
      "  File \"c:\\Users\\nadir\\anaconda3\\envs\\GTRay2.6.3_torch\\lib\\site-packages\\ray\\rllib\\connectors\\connector.py\", line 254, in __call__\n",
      "    return [self.transform(d) for d in acd_list]\n",
      "  File \"c:\\Users\\nadir\\anaconda3\\envs\\GTRay2.6.3_torch\\lib\\site-packages\\ray\\rllib\\connectors\\connector.py\", line 254, in <listcomp>\n",
      "    return [self.transform(d) for d in acd_list]\n",
      "  File \"c:\\Users\\nadir\\anaconda3\\envs\\GTRay2.6.3_torch\\lib\\site-packages\\ray\\rllib\\connectors\\agent\\obs_preproc.py\", line 58, in transform\n",
      "    d[SampleBatch.NEXT_OBS] = self._preprocessor.transform(\n",
      "  File \"c:\\Users\\nadir\\anaconda3\\envs\\GTRay2.6.3_torch\\lib\\site-packages\\ray\\rllib\\models\\preprocessors.py\", line 278, in transform\n",
      "    self.check_shape(observation)\n",
      "  File \"c:\\Users\\nadir\\anaconda3\\envs\\GTRay2.6.3_torch\\lib\\site-packages\\ray\\rllib\\models\\preprocessors.py\", line 74, in check_shape\n",
      "    raise ValueError(\n",
      "ValueError: Observation ((array([1], dtype=int64), array([0], dtype=int64), array([0], dtype=int64), array([0], dtype=int64), array([0], dtype=int64), array([0], dtype=int64), array([0.], dtype=float32), array([2436945., 1841917.], dtype=float32), array([0], dtype=int64), array([[[172, 156, 131],\n",
      "        [172, 156, 131],\n",
      "        [172, 156, 131],\n",
      "        ...,\n",
      "        [ 24,  41,  32],\n",
      "        [ 24,  41,  32],\n",
      "        [ 16,  24,  16]],\n",
      "\n",
      "       [[172, 156, 131],\n",
      "        [172, 156, 131],\n",
      "        [172, 156, 131],\n",
      "        ...,\n",
      "        [ 24,  41,  32],\n",
      "        [ 24,  41,  32],\n",
      "        [ 16,  24,  16]],\n",
      "\n",
      "       [[172, 156, 131],\n",
      "        [172, 156, 131],\n",
      "        [172, 156, 131],\n",
      "        ...,\n",
      "        [ 16,  32,  24],\n",
      "        [ 16,  32,  24],\n",
      "        [  8,  16,   8]],\n",
      "\n",
      "       ...,\n",
      "\n",
      "       [[ 16,  32,  24],\n",
      "        [ 16,  32,  24],\n",
      "        [ 16,  32,  24],\n",
      "        ...,\n",
      "        [ 74,  74,  74],\n",
      "        [ 74,  74,  74],\n",
      "        [ 90,  90,  90]],\n",
      "\n",
      "       [[ 16,  24,  16],\n",
      "        [ 16,  24,  16],\n",
      "        [ 16,  32,  24],\n",
      "        ...,\n",
      "        [ 74,  74,  74],\n",
      "        [ 82,  82,  82],\n",
      "        [ 82,  82,  82]],\n",
      "\n",
      "       [[ 16,  24,  16],\n",
      "        [ 16,  24,  16],\n",
      "        [ 16,  24,  16],\n",
      "        ...,\n",
      "        [ 82,  82,  82],\n",
      "        [ 82,  82,  82],\n",
      "        [ 90,  90,  90]]], dtype=uint8), array([[[172, 156, 131],\n",
      "        [172, 156, 131],\n",
      "        [172, 156, 131],\n",
      "        ...,\n",
      "        [ 24,  41,  32],\n",
      "        [ 24,  41,  32],\n",
      "        [ 16,  24,  16]],\n",
      "\n",
      "       [[172, 156, 131],\n",
      "        [172, 156, 131],\n",
      "        [172, 156, 131],\n",
      "        ...,\n",
      "        [ 24,  41,  32],\n",
      "        [ 24,  41,  32],\n",
      "        [ 16,  24,  16]],\n",
      "\n",
      "       [[172, 156, 131],\n",
      "        [172, 156, 131],\n",
      "        [172, 156, 131],\n",
      "        ...,\n",
      "        [ 16,  32,  24],\n",
      "        [ 16,  32,  24],\n",
      "        [  8,  16,   8]],\n",
      "\n",
      "       ...,\n",
      "\n",
      "       [[ 16,  32,  24],\n",
      "        [ 16,  32,  24],\n",
      "        [ 16,  32,  24],\n",
      "        ...,\n",
      "        [ 74,  74,  74],\n",
      "        [ 74,  74,  74],\n",
      "        [ 90,  90,  90]],\n",
      "\n",
      "       [[ 16,  24,  16],\n",
      "        [ 16,  24,  16],\n",
      "        [ 16,  32,  24],\n",
      "        ...,\n",
      "        [ 74,  74,  74],\n",
      "        [ 82,  82,  82],\n",
      "        [ 82,  82,  82]],\n",
      "\n",
      "       [[ 16,  24,  16],\n",
      "        [ 16,  24,  16],\n",
      "        [ 16,  24,  16],\n",
      "        ...,\n",
      "        [ 82,  82,  82],\n",
      "        [ 82,  82,  82],\n",
      "        [ 90,  90,  90]]], dtype=uint8), array([[[172, 156, 131],\n",
      "        [172, 156, 131],\n",
      "        [172, 156, 131],\n",
      "        ...,\n",
      "        [ 24,  41,  32],\n",
      "        [ 24,  41,  32],\n",
      "        [ 16,  24,  16]],\n",
      "\n",
      "       [[172, 156, 131],\n",
      "        [172, 156, 131],\n",
      "        [172, 156, 131],\n",
      "        ...,\n",
      "        [ 24,  41,  32],\n",
      "        [ 24,  41,  32],\n",
      "        [ 16,  24,  16]],\n",
      "\n",
      "       [[172, 156, 131],\n",
      "        [172, 156, 131],\n",
      "        [172, 156, 131],\n",
      "        ...,\n",
      "        [ 16,  32,  24],\n",
      "        [ 16,  32,  24],\n",
      "        [  8,  16,   8]],\n",
      "\n",
      "       ...,\n",
      "\n",
      "       [[ 16,  32,  24],\n",
      "        [ 16,  32,  24],\n",
      "        [ 16,  32,  24],\n",
      "        ...,\n",
      "        [ 74,  74,  74],\n",
      "        [ 74,  74,  74],\n",
      "        [ 90,  90,  90]],\n",
      "\n",
      "       [[ 16,  24,  16],\n",
      "        [ 16,  24,  16],\n",
      "        [ 16,  32,  24],\n",
      "        ...,\n",
      "        [ 74,  74,  74],\n",
      "        [ 82,  82,  82],\n",
      "        [ 82,  82,  82]],\n",
      "\n",
      "       [[ 16,  24,  16],\n",
      "        [ 16,  24,  16],\n",
      "        [ 16,  24,  16],\n",
      "        ...,\n",
      "        [ 82,  82,  82],\n",
      "        [ 82,  82,  82],\n",
      "        [ 90,  90,  90]]], dtype=uint8), array([0., 0.]), array([0., 0.]), array([0., 0.]), array([0., 0.])) dtype=None) outside given space (Tuple(Box(0, 5, (1,), int64), Box(0, 3, (1,), int64), Box(0, 10000, (1,), int64), Box(0, 10000, (1,), int64), Box(0, 6, (1,), int64), Box(0, 500, (1,), int64), Box(-1024.0, 1024.0, (1,), float32), Box(-3000000.0, 3000000.0, (2,), float32), Box(0, 3, (1,), int64), Box(0, 255, (42, 42), uint8), Box(0, 255, (42, 42), uint8), Box(0, 255, (42, 42), uint8), Box(0.0, 1.0, (1,), float64), Box(0.0, 1.0, (1,), float64), Box(0.0, 1.0, (1,), float64), Box(0.0, 1.0, (1,), float64)))!\n"
     ]
    },
    {
     "name": "stdout",
     "output_type": "stream",
     "text": [
      "\u001b[2m\u001b[36m(RolloutWorker pid=14668)\u001b[0m reset triggered\n",
      "\u001b[2m\u001b[36m(RolloutWorker pid=14668)\u001b[0m reload save for track : 5\n",
      "\u001b[2m\u001b[36m(RolloutWorker pid=14668)\u001b[0m 0 0.0 False\n"
     ]
    },
    {
     "name": "stderr",
     "output_type": "stream",
     "text": [
      "\u001b[2m\u001b[36m(RolloutWorker pid=14668)\u001b[0m c:\\Users\\nadir\\anaconda3\\envs\\GTRay2.6.3_torch\\lib\\site-packages\\gymnasium\\utils\\passive_env_checker.py:141: UserWarning: \u001b[33mWARN: The obs returned by the `reset()` method was expecting numpy array dtype to be float32, actual type: int64\u001b[0m\n",
      "\u001b[2m\u001b[36m(RolloutWorker pid=14668)\u001b[0m   logger.warn(\n",
      "\u001b[2m\u001b[36m(RolloutWorker pid=14668)\u001b[0m c:\\Users\\nadir\\anaconda3\\envs\\GTRay2.6.3_torch\\lib\\site-packages\\gymnasium\\utils\\passive_env_checker.py:165: UserWarning: \u001b[33mWARN: The obs returned by the `reset()` method is not within the observation space.\u001b[0m\n",
      "\u001b[2m\u001b[36m(RolloutWorker pid=14668)\u001b[0m   logger.warn(f\"{pre} is not within the observation space.\")\n"
     ]
    },
    {
     "ename": "RayTaskError(ValueError)",
     "evalue": "\u001b[36mray::RolloutWorker.apply()\u001b[39m (pid=14668, ip=127.0.0.1, actor_id=b2c774546d01669b9774db2e01000000, repr=<ray.rllib.evaluation.rollout_worker.RolloutWorker object at 0x000001B0001F07C0>)\n  File \"python\\ray\\_raylet.pyx\", line 1424, in ray._raylet.execute_task\n  File \"python\\ray\\_raylet.pyx\", line 1364, in ray._raylet.execute_task.function_executor\n  File \"c:\\Users\\nadir\\anaconda3\\envs\\GTRay2.6.3_torch\\lib\\site-packages\\ray\\_private\\function_manager.py\", line 726, in actor_method_executor\n    return method(__ray_actor, *args, **kwargs)\n  File \"c:\\Users\\nadir\\anaconda3\\envs\\GTRay2.6.3_torch\\lib\\site-packages\\ray\\util\\tracing\\tracing_helper.py\", line 464, in _resume_span\n    return method(self, *_args, **_kwargs)\n  File \"c:\\Users\\nadir\\anaconda3\\envs\\GTRay2.6.3_torch\\lib\\site-packages\\ray\\rllib\\utils\\actor_manager.py\", line 185, in apply\n    raise e\n  File \"c:\\Users\\nadir\\anaconda3\\envs\\GTRay2.6.3_torch\\lib\\site-packages\\ray\\rllib\\utils\\actor_manager.py\", line 176, in apply\n    return func(self, *args, **kwargs)\n  File \"c:\\Users\\nadir\\anaconda3\\envs\\GTRay2.6.3_torch\\lib\\site-packages\\ray\\rllib\\execution\\rollout_ops.py\", line 86, in <lambda>\n    lambda w: w.sample(), local_worker=False, healthy_only=True\n  File \"c:\\Users\\nadir\\anaconda3\\envs\\GTRay2.6.3_torch\\lib\\site-packages\\ray\\util\\tracing\\tracing_helper.py\", line 464, in _resume_span\n    return method(self, *_args, **_kwargs)\n  File \"c:\\Users\\nadir\\anaconda3\\envs\\GTRay2.6.3_torch\\lib\\site-packages\\ray\\rllib\\evaluation\\rollout_worker.py\", line 696, in sample\n    batches = [self.input_reader.next()]\n  File \"c:\\Users\\nadir\\anaconda3\\envs\\GTRay2.6.3_torch\\lib\\site-packages\\ray\\rllib\\evaluation\\sampler.py\", line 92, in next\n    batches = [self.get_data()]\n  File \"c:\\Users\\nadir\\anaconda3\\envs\\GTRay2.6.3_torch\\lib\\site-packages\\ray\\rllib\\evaluation\\sampler.py\", line 277, in get_data\n    item = next(self._env_runner)\n  File \"c:\\Users\\nadir\\anaconda3\\envs\\GTRay2.6.3_torch\\lib\\site-packages\\ray\\rllib\\evaluation\\env_runner_v2.py\", line 344, in run\n    outputs = self.step()\n  File \"c:\\Users\\nadir\\anaconda3\\envs\\GTRay2.6.3_torch\\lib\\site-packages\\ray\\rllib\\evaluation\\env_runner_v2.py\", line 370, in step\n    active_envs, to_eval, outputs = self._process_observations(\n  File \"c:\\Users\\nadir\\anaconda3\\envs\\GTRay2.6.3_torch\\lib\\site-packages\\ray\\rllib\\evaluation\\env_runner_v2.py\", line 637, in _process_observations\n    processed = policy.agent_connectors(acd_list)\n  File \"c:\\Users\\nadir\\anaconda3\\envs\\GTRay2.6.3_torch\\lib\\site-packages\\ray\\rllib\\connectors\\agent\\pipeline.py\", line 41, in __call__\n    ret = c(ret)\n  File \"c:\\Users\\nadir\\anaconda3\\envs\\GTRay2.6.3_torch\\lib\\site-packages\\ray\\rllib\\connectors\\connector.py\", line 254, in __call__\n    return [self.transform(d) for d in acd_list]\n  File \"c:\\Users\\nadir\\anaconda3\\envs\\GTRay2.6.3_torch\\lib\\site-packages\\ray\\rllib\\connectors\\connector.py\", line 254, in <listcomp>\n    return [self.transform(d) for d in acd_list]\n  File \"c:\\Users\\nadir\\anaconda3\\envs\\GTRay2.6.3_torch\\lib\\site-packages\\ray\\rllib\\connectors\\agent\\obs_preproc.py\", line 58, in transform\n    d[SampleBatch.NEXT_OBS] = self._preprocessor.transform(\n  File \"c:\\Users\\nadir\\anaconda3\\envs\\GTRay2.6.3_torch\\lib\\site-packages\\ray\\rllib\\models\\preprocessors.py\", line 278, in transform\n    self.check_shape(observation)\n  File \"c:\\Users\\nadir\\anaconda3\\envs\\GTRay2.6.3_torch\\lib\\site-packages\\ray\\rllib\\models\\preprocessors.py\", line 74, in check_shape\n    raise ValueError(\nValueError: Observation ((array([1], dtype=int64), array([0], dtype=int64), array([0], dtype=int64), array([0], dtype=int64), array([0], dtype=int64), array([0], dtype=int64), array([0.], dtype=float32), array([2436945., 1841917.], dtype=float32), array([0], dtype=int64), array([[[172, 156, 131],\n        [172, 156, 131],\n        [172, 156, 131],\n        ...,\n        [ 24,  41,  32],\n        [ 24,  41,  32],\n        [ 16,  24,  16]],\n\n       [[172, 156, 131],\n        [172, 156, 131],\n        [172, 156, 131],\n        ...,\n        [ 24,  41,  32],\n        [ 24,  41,  32],\n        [ 16,  24,  16]],\n\n       [[172, 156, 131],\n        [172, 156, 131],\n        [172, 156, 131],\n        ...,\n        [ 16,  32,  24],\n        [ 16,  32,  24],\n        [  8,  16,   8]],\n\n       ...,\n\n       [[ 16,  32,  24],\n        [ 16,  32,  24],\n        [ 16,  32,  24],\n        ...,\n        [ 74,  74,  74],\n        [ 74,  74,  74],\n        [ 90,  90,  90]],\n\n       [[ 16,  24,  16],\n        [ 16,  24,  16],\n        [ 16,  32,  24],\n        ...,\n        [ 74,  74,  74],\n        [ 82,  82,  82],\n        [ 82,  82,  82]],\n\n       [[ 16,  24,  16],\n        [ 16,  24,  16],\n        [ 16,  24,  16],\n        ...,\n        [ 82,  82,  82],\n        [ 82,  82,  82],\n        [ 90,  90,  90]]], dtype=uint8), array([[[172, 156, 131],\n        [172, 156, 131],\n        [172, 156, 131],\n        ...,\n        [ 24,  41,  32],\n        [ 24,  41,  32],\n        [ 16,  24,  16]],\n\n       [[172, 156, 131],\n        [172, 156, 131],\n        [172, 156, 131],\n        ...,\n        [ 24,  41,  32],\n        [ 24,  41,  32],\n        [ 16,  24,  16]],\n\n       [[172, 156, 131],\n        [172, 156, 131],\n        [172, 156, 131],\n        ...,\n        [ 16,  32,  24],\n        [ 16,  32,  24],\n        [  8,  16,   8]],\n\n       ...,\n\n       [[ 16,  32,  24],\n        [ 16,  32,  24],\n        [ 16,  32,  24],\n        ...,\n        [ 74,  74,  74],\n        [ 74,  74,  74],\n        [ 90,  90,  90]],\n\n       [[ 16,  24,  16],\n        [ 16,  24,  16],\n        [ 16,  32,  24],\n        ...,\n        [ 74,  74,  74],\n        [ 82,  82,  82],\n        [ 82,  82,  82]],\n\n       [[ 16,  24,  16],\n        [ 16,  24,  16],\n        [ 16,  24,  16],\n        ...,\n        [ 82,  82,  82],\n        [ 82,  82,  82],\n        [ 90,  90,  90]]], dtype=uint8), array([[[172, 156, 131],\n        [172, 156, 131],\n        [172, 156, 131],\n        ...,\n        [ 24,  41,  32],\n        [ 24,  41,  32],\n        [ 16,  24,  16]],\n\n       [[172, 156, 131],\n        [172, 156, 131],\n        [172, 156, 131],\n        ...,\n        [ 24,  41,  32],\n        [ 24,  41,  32],\n        [ 16,  24,  16]],\n\n       [[172, 156, 131],\n        [172, 156, 131],\n        [172, 156, 131],\n        ...,\n        [ 16,  32,  24],\n        [ 16,  32,  24],\n        [  8,  16,   8]],\n\n       ...,\n\n       [[ 16,  32,  24],\n        [ 16,  32,  24],\n        [ 16,  32,  24],\n        ...,\n        [ 74,  74,  74],\n        [ 74,  74,  74],\n        [ 90,  90,  90]],\n\n       [[ 16,  24,  16],\n        [ 16,  24,  16],\n        [ 16,  32,  24],\n        ...,\n        [ 74,  74,  74],\n        [ 82,  82,  82],\n        [ 82,  82,  82]],\n\n       [[ 16,  24,  16],\n        [ 16,  24,  16],\n        [ 16,  24,  16],\n        ...,\n        [ 82,  82,  82],\n        [ 82,  82,  82],\n        [ 90,  90,  90]]], dtype=uint8), array([0., 0.]), array([0., 0.]), array([0., 0.]), array([0., 0.])) dtype=None) outside given space (Tuple(Box(0, 5, (1,), int64), Box(0, 3, (1,), int64), Box(0, 10000, (1,), int64), Box(0, 10000, (1,), int64), Box(0, 6, (1,), int64), Box(0, 500, (1,), int64), Box(-1024.0, 1024.0, (1,), float32), Box(-3000000.0, 3000000.0, (2,), float32), Box(0, 3, (1,), int64), Box(0, 255, (42, 42), uint8), Box(0, 255, (42, 42), uint8), Box(0, 255, (42, 42), uint8), Box(0.0, 1.0, (1,), float64), Box(0.0, 1.0, (1,), float64), Box(0.0, 1.0, (1,), float64), Box(0.0, 1.0, (1,), float64)))!",
     "output_type": "error",
     "traceback": [
      "\u001b[1;31m---------------------------------------------------------------------------\u001b[0m",
      "\u001b[1;31mRayTaskError(ValueError)\u001b[0m                  Traceback (most recent call last)",
      "\u001b[1;32mj:\\git\\TensorFlowPSX\\Py\\rrlibPPO_cnn.ipynb Cell 7\u001b[0m line \u001b[0;36m4\n\u001b[0;32m      <a href='vscode-notebook-cell:/j%3A/git/TensorFlowPSX/Py/rrlibPPO_cnn.ipynb#W6sZmlsZQ%3D%3D?line=0'>1</a>\u001b[0m N \u001b[39m=\u001b[39m \u001b[39m1000\u001b[39m\n\u001b[0;32m      <a href='vscode-notebook-cell:/j%3A/git/TensorFlowPSX/Py/rrlibPPO_cnn.ipynb#W6sZmlsZQ%3D%3D?line=2'>3</a>\u001b[0m \u001b[39mfor\u001b[39;00m n \u001b[39min\u001b[39;00m \u001b[39mrange\u001b[39m(N):\n\u001b[1;32m----> <a href='vscode-notebook-cell:/j%3A/git/TensorFlowPSX/Py/rrlibPPO_cnn.ipynb#W6sZmlsZQ%3D%3D?line=3'>4</a>\u001b[0m     result \u001b[39m=\u001b[39m algo\u001b[39m.\u001b[39;49mtrain()\n\u001b[0;32m      <a href='vscode-notebook-cell:/j%3A/git/TensorFlowPSX/Py/rrlibPPO_cnn.ipynb#W6sZmlsZQ%3D%3D?line=4'>5</a>\u001b[0m     \u001b[39mprint\u001b[39m(\u001b[39m\"\u001b[39m\u001b[39mLoop: \u001b[39m\u001b[39m\"\u001b[39m, n)\n\u001b[0;32m      <a href='vscode-notebook-cell:/j%3A/git/TensorFlowPSX/Py/rrlibPPO_cnn.ipynb#W6sZmlsZQ%3D%3D?line=5'>6</a>\u001b[0m     \u001b[39mif\u001b[39;00m n \u001b[39m%\u001b[39m \u001b[39m10\u001b[39m \u001b[39m==\u001b[39m \u001b[39m0\u001b[39m:\n",
      "File \u001b[1;32mc:\\Users\\nadir\\anaconda3\\envs\\GTRay2.6.3_torch\\lib\\site-packages\\ray\\tune\\trainable\\trainable.py:375\u001b[0m, in \u001b[0;36mTrainable.train\u001b[1;34m(self)\u001b[0m\n\u001b[0;32m    373\u001b[0m \u001b[39mexcept\u001b[39;00m \u001b[39mException\u001b[39;00m \u001b[39mas\u001b[39;00m e:\n\u001b[0;32m    374\u001b[0m     skipped \u001b[39m=\u001b[39m skip_exceptions(e)\n\u001b[1;32m--> 375\u001b[0m     \u001b[39mraise\u001b[39;00m skipped \u001b[39mfrom\u001b[39;00m \u001b[39mexception_cause\u001b[39;00m(skipped)\n\u001b[0;32m    377\u001b[0m \u001b[39massert\u001b[39;00m \u001b[39misinstance\u001b[39m(result, \u001b[39mdict\u001b[39m), \u001b[39m\"\u001b[39m\u001b[39mstep() needs to return a dict.\u001b[39m\u001b[39m\"\u001b[39m\n\u001b[0;32m    379\u001b[0m \u001b[39m# We do not modify internal state nor update this result if duplicate.\u001b[39;00m\n",
      "File \u001b[1;32mc:\\Users\\nadir\\anaconda3\\envs\\GTRay2.6.3_torch\\lib\\site-packages\\ray\\tune\\trainable\\trainable.py:372\u001b[0m, in \u001b[0;36mTrainable.train\u001b[1;34m(self)\u001b[0m\n\u001b[0;32m    370\u001b[0m start \u001b[39m=\u001b[39m time\u001b[39m.\u001b[39mtime()\n\u001b[0;32m    371\u001b[0m \u001b[39mtry\u001b[39;00m:\n\u001b[1;32m--> 372\u001b[0m     result \u001b[39m=\u001b[39m \u001b[39mself\u001b[39;49m\u001b[39m.\u001b[39;49mstep()\n\u001b[0;32m    373\u001b[0m \u001b[39mexcept\u001b[39;00m \u001b[39mException\u001b[39;00m \u001b[39mas\u001b[39;00m e:\n\u001b[0;32m    374\u001b[0m     skipped \u001b[39m=\u001b[39m skip_exceptions(e)\n",
      "File \u001b[1;32mc:\\Users\\nadir\\anaconda3\\envs\\GTRay2.6.3_torch\\lib\\site-packages\\ray\\rllib\\algorithms\\algorithm.py:853\u001b[0m, in \u001b[0;36mAlgorithm.step\u001b[1;34m(self)\u001b[0m\n\u001b[0;32m    845\u001b[0m     (\n\u001b[0;32m    846\u001b[0m         results,\n\u001b[0;32m    847\u001b[0m         train_iter_ctx,\n\u001b[0;32m    848\u001b[0m     ) \u001b[39m=\u001b[39m \u001b[39mself\u001b[39m\u001b[39m.\u001b[39m_run_one_training_iteration_and_evaluation_in_parallel()\n\u001b[0;32m    849\u001b[0m \u001b[39m# - No evaluation necessary, just run the next training iteration.\u001b[39;00m\n\u001b[0;32m    850\u001b[0m \u001b[39m# - We have to evaluate in this training iteration, but no parallelism ->\u001b[39;00m\n\u001b[0;32m    851\u001b[0m \u001b[39m#   evaluate after the training iteration is entirely done.\u001b[39;00m\n\u001b[0;32m    852\u001b[0m \u001b[39melse\u001b[39;00m:\n\u001b[1;32m--> 853\u001b[0m     results, train_iter_ctx \u001b[39m=\u001b[39m \u001b[39mself\u001b[39;49m\u001b[39m.\u001b[39;49m_run_one_training_iteration()\n\u001b[0;32m    855\u001b[0m \u001b[39m# Sequential: Train (already done above), then evaluate.\u001b[39;00m\n\u001b[0;32m    856\u001b[0m \u001b[39mif\u001b[39;00m evaluate_this_iter \u001b[39mand\u001b[39;00m \u001b[39mnot\u001b[39;00m \u001b[39mself\u001b[39m\u001b[39m.\u001b[39mconfig\u001b[39m.\u001b[39mevaluation_parallel_to_training:\n",
      "File \u001b[1;32mc:\\Users\\nadir\\anaconda3\\envs\\GTRay2.6.3_torch\\lib\\site-packages\\ray\\rllib\\algorithms\\algorithm.py:2837\u001b[0m, in \u001b[0;36mAlgorithm._run_one_training_iteration\u001b[1;34m(self)\u001b[0m\n\u001b[0;32m   2835\u001b[0m \u001b[39mwith\u001b[39;00m \u001b[39mself\u001b[39m\u001b[39m.\u001b[39m_timers[TRAINING_ITERATION_TIMER]:\n\u001b[0;32m   2836\u001b[0m     \u001b[39mif\u001b[39;00m \u001b[39mself\u001b[39m\u001b[39m.\u001b[39mconfig\u001b[39m.\u001b[39m_disable_execution_plan_api:\n\u001b[1;32m-> 2837\u001b[0m         results \u001b[39m=\u001b[39m \u001b[39mself\u001b[39;49m\u001b[39m.\u001b[39;49mtraining_step()\n\u001b[0;32m   2838\u001b[0m     \u001b[39melse\u001b[39;00m:\n\u001b[0;32m   2839\u001b[0m         results \u001b[39m=\u001b[39m \u001b[39mnext\u001b[39m(\u001b[39mself\u001b[39m\u001b[39m.\u001b[39mtrain_exec_impl)\n",
      "File \u001b[1;32mc:\\Users\\nadir\\anaconda3\\envs\\GTRay2.6.3_torch\\lib\\site-packages\\ray\\rllib\\algorithms\\ppo\\ppo.py:429\u001b[0m, in \u001b[0;36mPPO.training_step\u001b[1;34m(self)\u001b[0m\n\u001b[0;32m    424\u001b[0m         train_batch \u001b[39m=\u001b[39m synchronous_parallel_sample(\n\u001b[0;32m    425\u001b[0m             worker_set\u001b[39m=\u001b[39m\u001b[39mself\u001b[39m\u001b[39m.\u001b[39mworkers,\n\u001b[0;32m    426\u001b[0m             max_agent_steps\u001b[39m=\u001b[39m\u001b[39mself\u001b[39m\u001b[39m.\u001b[39mconfig\u001b[39m.\u001b[39mtrain_batch_size,\n\u001b[0;32m    427\u001b[0m         )\n\u001b[0;32m    428\u001b[0m     \u001b[39melse\u001b[39;00m:\n\u001b[1;32m--> 429\u001b[0m         train_batch \u001b[39m=\u001b[39m synchronous_parallel_sample(\n\u001b[0;32m    430\u001b[0m             worker_set\u001b[39m=\u001b[39;49m\u001b[39mself\u001b[39;49m\u001b[39m.\u001b[39;49mworkers, max_env_steps\u001b[39m=\u001b[39;49m\u001b[39mself\u001b[39;49m\u001b[39m.\u001b[39;49mconfig\u001b[39m.\u001b[39;49mtrain_batch_size\n\u001b[0;32m    431\u001b[0m         )\n\u001b[0;32m    433\u001b[0m train_batch \u001b[39m=\u001b[39m train_batch\u001b[39m.\u001b[39mas_multi_agent()\n\u001b[0;32m    434\u001b[0m \u001b[39mself\u001b[39m\u001b[39m.\u001b[39m_counters[NUM_AGENT_STEPS_SAMPLED] \u001b[39m+\u001b[39m\u001b[39m=\u001b[39m train_batch\u001b[39m.\u001b[39magent_steps()\n",
      "File \u001b[1;32mc:\\Users\\nadir\\anaconda3\\envs\\GTRay2.6.3_torch\\lib\\site-packages\\ray\\rllib\\execution\\rollout_ops.py:85\u001b[0m, in \u001b[0;36msynchronous_parallel_sample\u001b[1;34m(worker_set, max_agent_steps, max_env_steps, concat)\u001b[0m\n\u001b[0;32m     82\u001b[0m     sample_batches \u001b[39m=\u001b[39m [worker_set\u001b[39m.\u001b[39mlocal_worker()\u001b[39m.\u001b[39msample()]\n\u001b[0;32m     83\u001b[0m \u001b[39m# Loop over remote workers' `sample()` method in parallel.\u001b[39;00m\n\u001b[0;32m     84\u001b[0m \u001b[39melse\u001b[39;00m:\n\u001b[1;32m---> 85\u001b[0m     sample_batches \u001b[39m=\u001b[39m worker_set\u001b[39m.\u001b[39;49mforeach_worker(\n\u001b[0;32m     86\u001b[0m         \u001b[39mlambda\u001b[39;49;00m w: w\u001b[39m.\u001b[39;49msample(), local_worker\u001b[39m=\u001b[39;49m\u001b[39mFalse\u001b[39;49;00m, healthy_only\u001b[39m=\u001b[39;49m\u001b[39mTrue\u001b[39;49;00m\n\u001b[0;32m     87\u001b[0m     )\n\u001b[0;32m     88\u001b[0m     \u001b[39mif\u001b[39;00m worker_set\u001b[39m.\u001b[39mnum_healthy_remote_workers() \u001b[39m<\u001b[39m\u001b[39m=\u001b[39m \u001b[39m0\u001b[39m:\n\u001b[0;32m     89\u001b[0m         \u001b[39m# There is no point staying in this loop, since we will not be able to\u001b[39;00m\n\u001b[0;32m     90\u001b[0m         \u001b[39m# get any new samples if we don't have any healthy remote workers left.\u001b[39;00m\n\u001b[0;32m     91\u001b[0m         \u001b[39mbreak\u001b[39;00m\n",
      "File \u001b[1;32mc:\\Users\\nadir\\anaconda3\\envs\\GTRay2.6.3_torch\\lib\\site-packages\\ray\\rllib\\evaluation\\worker_set.py:680\u001b[0m, in \u001b[0;36mWorkerSet.foreach_worker\u001b[1;34m(self, func, local_worker, healthy_only, remote_worker_ids, timeout_seconds, return_obj_refs, mark_healthy)\u001b[0m\n\u001b[0;32m    669\u001b[0m     local_result \u001b[39m=\u001b[39m [func(\u001b[39mself\u001b[39m\u001b[39m.\u001b[39mlocal_worker())]\n\u001b[0;32m    671\u001b[0m remote_results \u001b[39m=\u001b[39m \u001b[39mself\u001b[39m\u001b[39m.\u001b[39m__worker_manager\u001b[39m.\u001b[39mforeach_actor(\n\u001b[0;32m    672\u001b[0m     func,\n\u001b[0;32m    673\u001b[0m     healthy_only\u001b[39m=\u001b[39mhealthy_only,\n\u001b[1;32m   (...)\u001b[0m\n\u001b[0;32m    677\u001b[0m     mark_healthy\u001b[39m=\u001b[39mmark_healthy,\n\u001b[0;32m    678\u001b[0m )\n\u001b[1;32m--> 680\u001b[0m handle_remote_call_result_errors(remote_results, \u001b[39mself\u001b[39;49m\u001b[39m.\u001b[39;49m_ignore_worker_failures)\n\u001b[0;32m    682\u001b[0m \u001b[39m# With application errors handled, return good results.\u001b[39;00m\n\u001b[0;32m    683\u001b[0m remote_results \u001b[39m=\u001b[39m [r\u001b[39m.\u001b[39mget() \u001b[39mfor\u001b[39;00m r \u001b[39min\u001b[39;00m remote_results\u001b[39m.\u001b[39mignore_errors()]\n",
      "File \u001b[1;32mc:\\Users\\nadir\\anaconda3\\envs\\GTRay2.6.3_torch\\lib\\site-packages\\ray\\rllib\\evaluation\\worker_set.py:76\u001b[0m, in \u001b[0;36mhandle_remote_call_result_errors\u001b[1;34m(results, ignore_worker_failures)\u001b[0m\n\u001b[0;32m     74\u001b[0m     logger\u001b[39m.\u001b[39mexception(r\u001b[39m.\u001b[39mget())\n\u001b[0;32m     75\u001b[0m \u001b[39melse\u001b[39;00m:\n\u001b[1;32m---> 76\u001b[0m     \u001b[39mraise\u001b[39;00m r\u001b[39m.\u001b[39mget()\n",
      "\u001b[1;31mRayTaskError(ValueError)\u001b[0m: \u001b[36mray::RolloutWorker.apply()\u001b[39m (pid=14668, ip=127.0.0.1, actor_id=b2c774546d01669b9774db2e01000000, repr=<ray.rllib.evaluation.rollout_worker.RolloutWorker object at 0x000001B0001F07C0>)\n  File \"python\\ray\\_raylet.pyx\", line 1424, in ray._raylet.execute_task\n  File \"python\\ray\\_raylet.pyx\", line 1364, in ray._raylet.execute_task.function_executor\n  File \"c:\\Users\\nadir\\anaconda3\\envs\\GTRay2.6.3_torch\\lib\\site-packages\\ray\\_private\\function_manager.py\", line 726, in actor_method_executor\n    return method(__ray_actor, *args, **kwargs)\n  File \"c:\\Users\\nadir\\anaconda3\\envs\\GTRay2.6.3_torch\\lib\\site-packages\\ray\\util\\tracing\\tracing_helper.py\", line 464, in _resume_span\n    return method(self, *_args, **_kwargs)\n  File \"c:\\Users\\nadir\\anaconda3\\envs\\GTRay2.6.3_torch\\lib\\site-packages\\ray\\rllib\\utils\\actor_manager.py\", line 185, in apply\n    raise e\n  File \"c:\\Users\\nadir\\anaconda3\\envs\\GTRay2.6.3_torch\\lib\\site-packages\\ray\\rllib\\utils\\actor_manager.py\", line 176, in apply\n    return func(self, *args, **kwargs)\n  File \"c:\\Users\\nadir\\anaconda3\\envs\\GTRay2.6.3_torch\\lib\\site-packages\\ray\\rllib\\execution\\rollout_ops.py\", line 86, in <lambda>\n    lambda w: w.sample(), local_worker=False, healthy_only=True\n  File \"c:\\Users\\nadir\\anaconda3\\envs\\GTRay2.6.3_torch\\lib\\site-packages\\ray\\util\\tracing\\tracing_helper.py\", line 464, in _resume_span\n    return method(self, *_args, **_kwargs)\n  File \"c:\\Users\\nadir\\anaconda3\\envs\\GTRay2.6.3_torch\\lib\\site-packages\\ray\\rllib\\evaluation\\rollout_worker.py\", line 696, in sample\n    batches = [self.input_reader.next()]\n  File \"c:\\Users\\nadir\\anaconda3\\envs\\GTRay2.6.3_torch\\lib\\site-packages\\ray\\rllib\\evaluation\\sampler.py\", line 92, in next\n    batches = [self.get_data()]\n  File \"c:\\Users\\nadir\\anaconda3\\envs\\GTRay2.6.3_torch\\lib\\site-packages\\ray\\rllib\\evaluation\\sampler.py\", line 277, in get_data\n    item = next(self._env_runner)\n  File \"c:\\Users\\nadir\\anaconda3\\envs\\GTRay2.6.3_torch\\lib\\site-packages\\ray\\rllib\\evaluation\\env_runner_v2.py\", line 344, in run\n    outputs = self.step()\n  File \"c:\\Users\\nadir\\anaconda3\\envs\\GTRay2.6.3_torch\\lib\\site-packages\\ray\\rllib\\evaluation\\env_runner_v2.py\", line 370, in step\n    active_envs, to_eval, outputs = self._process_observations(\n  File \"c:\\Users\\nadir\\anaconda3\\envs\\GTRay2.6.3_torch\\lib\\site-packages\\ray\\rllib\\evaluation\\env_runner_v2.py\", line 637, in _process_observations\n    processed = policy.agent_connectors(acd_list)\n  File \"c:\\Users\\nadir\\anaconda3\\envs\\GTRay2.6.3_torch\\lib\\site-packages\\ray\\rllib\\connectors\\agent\\pipeline.py\", line 41, in __call__\n    ret = c(ret)\n  File \"c:\\Users\\nadir\\anaconda3\\envs\\GTRay2.6.3_torch\\lib\\site-packages\\ray\\rllib\\connectors\\connector.py\", line 254, in __call__\n    return [self.transform(d) for d in acd_list]\n  File \"c:\\Users\\nadir\\anaconda3\\envs\\GTRay2.6.3_torch\\lib\\site-packages\\ray\\rllib\\connectors\\connector.py\", line 254, in <listcomp>\n    return [self.transform(d) for d in acd_list]\n  File \"c:\\Users\\nadir\\anaconda3\\envs\\GTRay2.6.3_torch\\lib\\site-packages\\ray\\rllib\\connectors\\agent\\obs_preproc.py\", line 58, in transform\n    d[SampleBatch.NEXT_OBS] = self._preprocessor.transform(\n  File \"c:\\Users\\nadir\\anaconda3\\envs\\GTRay2.6.3_torch\\lib\\site-packages\\ray\\rllib\\models\\preprocessors.py\", line 278, in transform\n    self.check_shape(observation)\n  File \"c:\\Users\\nadir\\anaconda3\\envs\\GTRay2.6.3_torch\\lib\\site-packages\\ray\\rllib\\models\\preprocessors.py\", line 74, in check_shape\n    raise ValueError(\nValueError: Observation ((array([1], dtype=int64), array([0], dtype=int64), array([0], dtype=int64), array([0], dtype=int64), array([0], dtype=int64), array([0], dtype=int64), array([0.], dtype=float32), array([2436945., 1841917.], dtype=float32), array([0], dtype=int64), array([[[172, 156, 131],\n        [172, 156, 131],\n        [172, 156, 131],\n        ...,\n        [ 24,  41,  32],\n        [ 24,  41,  32],\n        [ 16,  24,  16]],\n\n       [[172, 156, 131],\n        [172, 156, 131],\n        [172, 156, 131],\n        ...,\n        [ 24,  41,  32],\n        [ 24,  41,  32],\n        [ 16,  24,  16]],\n\n       [[172, 156, 131],\n        [172, 156, 131],\n        [172, 156, 131],\n        ...,\n        [ 16,  32,  24],\n        [ 16,  32,  24],\n        [  8,  16,   8]],\n\n       ...,\n\n       [[ 16,  32,  24],\n        [ 16,  32,  24],\n        [ 16,  32,  24],\n        ...,\n        [ 74,  74,  74],\n        [ 74,  74,  74],\n        [ 90,  90,  90]],\n\n       [[ 16,  24,  16],\n        [ 16,  24,  16],\n        [ 16,  32,  24],\n        ...,\n        [ 74,  74,  74],\n        [ 82,  82,  82],\n        [ 82,  82,  82]],\n\n       [[ 16,  24,  16],\n        [ 16,  24,  16],\n        [ 16,  24,  16],\n        ...,\n        [ 82,  82,  82],\n        [ 82,  82,  82],\n        [ 90,  90,  90]]], dtype=uint8), array([[[172, 156, 131],\n        [172, 156, 131],\n        [172, 156, 131],\n        ...,\n        [ 24,  41,  32],\n        [ 24,  41,  32],\n        [ 16,  24,  16]],\n\n       [[172, 156, 131],\n        [172, 156, 131],\n        [172, 156, 131],\n        ...,\n        [ 24,  41,  32],\n        [ 24,  41,  32],\n        [ 16,  24,  16]],\n\n       [[172, 156, 131],\n        [172, 156, 131],\n        [172, 156, 131],\n        ...,\n        [ 16,  32,  24],\n        [ 16,  32,  24],\n        [  8,  16,   8]],\n\n       ...,\n\n       [[ 16,  32,  24],\n        [ 16,  32,  24],\n        [ 16,  32,  24],\n        ...,\n        [ 74,  74,  74],\n        [ 74,  74,  74],\n        [ 90,  90,  90]],\n\n       [[ 16,  24,  16],\n        [ 16,  24,  16],\n        [ 16,  32,  24],\n        ...,\n        [ 74,  74,  74],\n        [ 82,  82,  82],\n        [ 82,  82,  82]],\n\n       [[ 16,  24,  16],\n        [ 16,  24,  16],\n        [ 16,  24,  16],\n        ...,\n        [ 82,  82,  82],\n        [ 82,  82,  82],\n        [ 90,  90,  90]]], dtype=uint8), array([[[172, 156, 131],\n        [172, 156, 131],\n        [172, 156, 131],\n        ...,\n        [ 24,  41,  32],\n        [ 24,  41,  32],\n        [ 16,  24,  16]],\n\n       [[172, 156, 131],\n        [172, 156, 131],\n        [172, 156, 131],\n        ...,\n        [ 24,  41,  32],\n        [ 24,  41,  32],\n        [ 16,  24,  16]],\n\n       [[172, 156, 131],\n        [172, 156, 131],\n        [172, 156, 131],\n        ...,\n        [ 16,  32,  24],\n        [ 16,  32,  24],\n        [  8,  16,   8]],\n\n       ...,\n\n       [[ 16,  32,  24],\n        [ 16,  32,  24],\n        [ 16,  32,  24],\n        ...,\n        [ 74,  74,  74],\n        [ 74,  74,  74],\n        [ 90,  90,  90]],\n\n       [[ 16,  24,  16],\n        [ 16,  24,  16],\n        [ 16,  32,  24],\n        ...,\n        [ 74,  74,  74],\n        [ 82,  82,  82],\n        [ 82,  82,  82]],\n\n       [[ 16,  24,  16],\n        [ 16,  24,  16],\n        [ 16,  24,  16],\n        ...,\n        [ 82,  82,  82],\n        [ 82,  82,  82],\n        [ 90,  90,  90]]], dtype=uint8), array([0., 0.]), array([0., 0.]), array([0., 0.]), array([0., 0.])) dtype=None) outside given space (Tuple(Box(0, 5, (1,), int64), Box(0, 3, (1,), int64), Box(0, 10000, (1,), int64), Box(0, 10000, (1,), int64), Box(0, 6, (1,), int64), Box(0, 500, (1,), int64), Box(-1024.0, 1024.0, (1,), float32), Box(-3000000.0, 3000000.0, (2,), float32), Box(0, 3, (1,), int64), Box(0, 255, (42, 42), uint8), Box(0, 255, (42, 42), uint8), Box(0, 255, (42, 42), uint8), Box(0.0, 1.0, (1,), float64), Box(0.0, 1.0, (1,), float64), Box(0.0, 1.0, (1,), float64), Box(0.0, 1.0, (1,), float64)))!"
     ]
    }
   ],
   "source": [
    "N = 1000\n",
    "\n",
    "for n in range(N):\n",
    "    result = algo.train()\n",
    "    print(\"Loop: \", n)\n",
    "    if n % 10 == 0:\n",
    "        print(\"Saved\", n)\n",
    "        algo.save()\n",
    "        \n",
    "algo.save()\n"
   ]
  }
 ],
 "metadata": {
  "kernelspec": {
   "display_name": "GTAI2",
   "language": "python",
   "name": "python3"
  },
  "language_info": {
   "codemirror_mode": {
    "name": "ipython",
    "version": 3
   },
   "file_extension": ".py",
   "mimetype": "text/x-python",
   "name": "python",
   "nbconvert_exporter": "python",
   "pygments_lexer": "ipython3",
   "version": "3.10.13"
  },
  "orig_nbformat": 4
 },
 "nbformat": 4,
 "nbformat_minor": 2
}

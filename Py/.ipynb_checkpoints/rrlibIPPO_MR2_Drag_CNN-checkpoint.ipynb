{
 "cells": [
  {
   "cell_type": "markdown",
   "metadata": {},
   "source": [
    "# Initial AI Agent PPO w/o\n",
    "NN (working) MR2 Drag Disc"
   ]
  },
  {
   "cell_type": "code",
   "execution_count": 1,
   "metadata": {},
   "outputs": [
    {
     "name": "stdout",
     "output_type": "stream",
     "text": [
      "GPU is available\n"
     ]
    }
   ],
   "source": [
    "import torch\n",
    "\n",
    "if torch.cuda.is_available():\n",
    "    print(\"GPU is available\")\n",
    "else:\n",
    "    print(\"GPU is not available\")"
   ]
  },
  {
   "cell_type": "code",
   "execution_count": 2,
   "metadata": {},
   "outputs": [],
   "source": [
    "from myRTClass import MyGranTurismoRTGYM, DEFAULT_CONFIG_DICT\n",
    "import numpy as np\n",
    "import gymnasium\n",
    "from time import sleep\n",
    "\n",
    "my_config = DEFAULT_CONFIG_DICT\n",
    "my_config[\"interface\"] = MyGranTurismoRTGYM\n",
    "my_config[\"time_step_duration\"] = 0.05\n",
    "my_config[\"start_obs_capture\"] = 0.05\n",
    "my_config[\"time_step_timeout_factor\"] = 1.0\n",
    "my_config[\"ep_max_length\"] = 384\n",
    "my_config[\"act_buf_len\"] = 4\n",
    "my_config[\"reset_act_buf\"] = True\n",
    "my_config[\"benchmark\"] = False\n",
    "my_config[\"benchmark_polyak\"] = 0.2\n",
    "\n",
    "my_config[\"interface_kwargs\"] = {\n",
    "  'debugFlag': False, # do not use render() while True\n",
    "  'discreteAccel' : True,\n",
    "  'accelAndBrake' : False,\n",
    "  'discSteer' : True,\n",
    "  'contAccelOnly' : False,\n",
    "  'discAccelOnly' : False,\n",
    "  'modelMode': 3,\n",
    "  #  [42, 42, K], [84, 84, K], [10, 10, K], [240, 320, K] and  [480, 640, K]\n",
    "  'imageWidth' : 42, # there is a default Cov layer for PPO with 240 x 320\n",
    "  'imageHeight' : 42,\n",
    "  'trackChoice' : 1, # 0 is HS, 1 is 400m\n",
    "  'carChoice' : 0, # 0 is MR2, 1 is Supra, 2 is Civic\n",
    "  'rewardMode' : \"complex\"\n",
    "}"
   ]
  },
  {
   "cell_type": "code",
   "execution_count": 3,
   "metadata": {},
   "outputs": [],
   "source": [
    "def env_creator(env_config):\n",
    "    env = gymnasium.make(\"real-time-gym-v1\", config=env_config)\n",
    "    return env  # return an env instance\n",
    "\n",
    "from ray.tune.registry import register_env\n",
    "register_env(\"gt-rtgym-env-v1\", lambda config: env_creator(my_config)) # better way"
   ]
  },
  {
   "cell_type": "code",
   "execution_count": 4,
   "metadata": {},
   "outputs": [
    {
     "name": "stderr",
     "output_type": "stream",
     "text": [
      "2023-10-21 10:51:01,541\tINFO worker.py:1616 -- Started a local Ray instance. View the dashboard at \u001b[1m\u001b[32m127.0.0.1:8265 \u001b[39m\u001b[22m\n"
     ]
    },
    {
     "data": {
      "text/html": [
       "<div>\n",
       "    <div style=\"margin-left: 50px;display: flex;flex-direction: row;align-items: center\">\n",
       "        <h3 style=\"color: var(--jp-ui-font-color0)\">Ray</h3>\n",
       "        <svg version=\"1.1\" id=\"ray\" width=\"3em\" viewBox=\"0 0 144.5 144.6\" style=\"margin-left: 3em;margin-right: 3em\">\n",
       "            <g id=\"layer-1\">\n",
       "                <path fill=\"#00a2e9\" class=\"st0\" d=\"M97.3,77.2c-3.8-1.1-6.2,0.9-8.3,5.1c-3.5,6.8-9.9,9.9-17.4,9.6S58,88.1,54.8,81.2c-1.4-3-3-4-6.3-4.1\n",
       "                    c-5.6-0.1-9.9,0.1-13.1,6.4c-3.8,7.6-13.6,10.2-21.8,7.6C5.2,88.4-0.4,80.5,0,71.7c0.1-8.4,5.7-15.8,13.8-18.2\n",
       "                    c8.4-2.6,17.5,0.7,22.3,8c1.3,1.9,1.3,5.2,3.6,5.6c3.9,0.6,8,0.2,12,0.2c1.8,0,1.9-1.6,2.4-2.8c3.5-7.8,9.7-11.8,18-11.9\n",
       "                    c8.2-0.1,14.4,3.9,17.8,11.4c1.3,2.8,2.9,3.6,5.7,3.3c1-0.1,2,0.1,3,0c2.8-0.5,6.4,1.7,8.1-2.7s-2.3-5.5-4.1-7.5\n",
       "                    c-5.1-5.7-10.9-10.8-16.1-16.3C84,38,81.9,37.1,78,38.3C66.7,42,56.2,35.7,53,24.1C50.3,14,57.3,2.8,67.7,0.5\n",
       "                    C78.4-2,89,4.7,91.5,15.3c0.1,0.3,0.1,0.5,0.2,0.8c0.7,3.4,0.7,6.9-0.8,9.8c-1.7,3.2-0.8,5,1.5,7.2c6.7,6.5,13.3,13,19.8,19.7\n",
       "                    c1.8,1.8,3,2.1,5.5,1.2c9.1-3.4,17.9-0.6,23.4,7c4.8,6.9,4.6,16.1-0.4,22.9c-5.4,7.2-14.2,9.9-23.1,6.5c-2.3-0.9-3.5-0.6-5.1,1.1\n",
       "                    c-6.7,6.9-13.6,13.7-20.5,20.4c-1.8,1.8-2.5,3.2-1.4,5.9c3.5,8.7,0.3,18.6-7.7,23.6c-7.9,5-18.2,3.8-24.8-2.9\n",
       "                    c-6.4-6.4-7.4-16.2-2.5-24.3c4.9-7.8,14.5-11,23.1-7.8c3,1.1,4.7,0.5,6.9-1.7C91.7,98.4,98,92.3,104.2,86c1.6-1.6,4.1-2.7,2.6-6.2\n",
       "                    c-1.4-3.3-3.8-2.5-6.2-2.6C99.8,77.2,98.9,77.2,97.3,77.2z M72.1,29.7c5.5,0.1,9.9-4.3,10-9.8c0-0.1,0-0.2,0-0.3\n",
       "                    C81.8,14,77,9.8,71.5,10.2c-5,0.3-9,4.2-9.3,9.2c-0.2,5.5,4,10.1,9.5,10.3C71.8,29.7,72,29.7,72.1,29.7z M72.3,62.3\n",
       "                    c-5.4-0.1-9.9,4.2-10.1,9.7c0,0.2,0,0.3,0,0.5c0.2,5.4,4.5,9.7,9.9,10c5.1,0.1,9.9-4.7,10.1-9.8c0.2-5.5-4-10-9.5-10.3\n",
       "                    C72.6,62.3,72.4,62.3,72.3,62.3z M115,72.5c0.1,5.4,4.5,9.7,9.8,9.9c5.6-0.2,10-4.8,10-10.4c-0.2-5.4-4.6-9.7-10-9.7\n",
       "                    c-5.3-0.1-9.8,4.2-9.9,9.5C115,72.1,115,72.3,115,72.5z M19.5,62.3c-5.4,0.1-9.8,4.4-10,9.8c-0.1,5.1,5.2,10.4,10.2,10.3\n",
       "                    c5.6-0.2,10-4.9,9.8-10.5c-0.1-5.4-4.5-9.7-9.9-9.6C19.6,62.3,19.5,62.3,19.5,62.3z M71.8,134.6c5.9,0.2,10.3-3.9,10.4-9.6\n",
       "                    c0.5-5.5-3.6-10.4-9.1-10.8c-5.5-0.5-10.4,3.6-10.8,9.1c0,0.5,0,0.9,0,1.4c-0.2,5.3,4,9.8,9.3,10\n",
       "                    C71.6,134.6,71.7,134.6,71.8,134.6z\"/>\n",
       "            </g>\n",
       "        </svg>\n",
       "        <table>\n",
       "            <tr>\n",
       "                <td style=\"text-align: left\"><b>Python version:</b></td>\n",
       "                <td style=\"text-align: left\"><b>3.9.9</b></td>\n",
       "            </tr>\n",
       "            <tr>\n",
       "                <td style=\"text-align: left\"><b>Ray version:</b></td>\n",
       "                <td style=\"text-align: left\"><b> 2.4.0</b></td>\n",
       "            </tr>\n",
       "            <tr>\n",
       "    <td style=\"text-align: left\"><b>Dashboard:</b></td>\n",
       "    <td style=\"text-align: left\"><b><a href=\"http://127.0.0.1:8265\" target=\"_blank\">http://127.0.0.1:8265</a></b></td>\n",
       "</tr>\n",
       "\n",
       "        </table>\n",
       "    </div>\n",
       "</div>\n"
      ],
      "text/plain": [
       "RayContext(dashboard_url='127.0.0.1:8265', python_version='3.9.9', ray_version='2.4.0', ray_commit='4479f66d4db967d3c9dd0af2572061276ba926ba', address_info={'node_ip_address': '127.0.0.1', 'raylet_ip_address': '127.0.0.1', 'redis_address': None, 'object_store_address': 'tcp://127.0.0.1:53552', 'raylet_socket_name': 'tcp://127.0.0.1:64412', 'webui_url': '127.0.0.1:8265', 'session_dir': 'C:\\\\Users\\\\nadir\\\\AppData\\\\Local\\\\Temp\\\\ray\\\\session_2023-10-21_10-50-58_811270_9400', 'metrics_export_port': 59645, 'gcs_address': '127.0.0.1:63901', 'address': '127.0.0.1:63901', 'dashboard_agent_listen_port': 52365, 'node_id': '6c7f005d730c0dbe3908f2f6ecbaa5e1b14ed13df226b9b5652e64ca'})"
      ]
     },
     "execution_count": 4,
     "metadata": {},
     "output_type": "execute_result"
    }
   ],
   "source": [
    "import ray\n",
    "ray.shutdown()\n",
    "ray.init()"
   ]
  },
  {
   "cell_type": "code",
   "execution_count": 5,
   "metadata": {},
   "outputs": [],
   "source": [
    "from ray.rllib.algorithms.ppo import PPOConfig\n",
    "config = (\n",
    "    PPOConfig()\n",
    "    .resources(\n",
    "        num_gpus=1\n",
    "        )\n",
    "    .rollouts(\n",
    "        num_rollout_workers=1,\n",
    "        enable_connectors=True,\n",
    "        batch_mode=\"truncate_episodes\",\n",
    "        #batch_mode=\"completed_episodes\",\n",
    "        )\n",
    "    .framework(\n",
    "        framework=\"torch\",\n",
    "        )\n",
    "    .environment(\n",
    "        env=\"gt-rtgym-env-v1\",\n",
    "        disable_env_checking=True,\n",
    "        render_env=False,\n",
    "        )\n",
    "    .training(\n",
    "        train_batch_size=384,\n",
    "        model={\n",
    "            \"custom_model\": \"GTCustomNet.GTCustomNet\",\n",
    "            \"custom_model_config\": {\n",
    "                \"fcnet_hiddens\":[256,256],\n",
    "                }\n",
    "        },\n",
    "        _enable_learner_api=False\n",
    "        )\n",
    "    .rl_module( _enable_rl_module_api=False)\n",
    ")"
   ]
  },
  {
   "cell_type": "code",
   "execution_count": 6,
   "metadata": {},
   "outputs": [],
   "source": [
    "# import json\n",
    "\n",
    "# class CustomEncoder(json.JSONEncoder):\n",
    "#     def default(self, obj):\n",
    "#         try:\n",
    "#             json.dumps(obj)\n",
    "#         except TypeError:\n",
    "#             return \"Not serializable object!\"\n",
    "\n",
    "#         return obj\n",
    "\n",
    "# config_dict = config.to_dict()\n",
    "\n",
    "# print(json.dumps(config_dict, sort_keys=True, indent=4, cls=CustomEncoder))"
   ]
  },
  {
   "cell_type": "code",
   "execution_count": 7,
   "metadata": {},
   "outputs": [
    {
     "name": "stderr",
     "output_type": "stream",
     "text": [
      "2023-10-21 10:51:07,286\tINFO algorithm.py:527 -- Current log_level is WARN. For more information, set 'log_level': 'INFO' / 'DEBUG' or use the -v and -vv flags.\n"
     ]
    },
    {
     "name": "stdout",
     "output_type": "stream",
     "text": [
      "\u001b[2m\u001b[36m(RolloutWorker pid=1736)\u001b[0m GT Real Time instantiated\n",
      "\u001b[2m\u001b[36m(RolloutWorker pid=1736)\u001b[0m GT AI Server instantiated for rtgym\n",
      "\u001b[2m\u001b[36m(RolloutWorker pid=1736)\u001b[0m starting up on localhost port 9999\n",
      "\u001b[2m\u001b[36m(RolloutWorker pid=1736)\u001b[0m Waiting for a connection\n"
     ]
    },
    {
     "name": "stderr",
     "output_type": "stream",
     "text": [
      "\u001b[2m\u001b[36m(RolloutWorker pid=1736)\u001b[0m 2023-10-21 10:51:16,310\tWARNING deprecation.py:50 -- DeprecationWarning: `ray.rllib.models.torch.complex_input_net.ComplexInputNetwork` has been deprecated. This will raise an error in the future!\n",
      "2023-10-21 10:51:16,461\tWARNING deprecation.py:50 -- DeprecationWarning: `ray.rllib.models.torch.complex_input_net.ComplexInputNetwork` has been deprecated. This will raise an error in the future!\n"
     ]
    },
    {
     "name": "stdout",
     "output_type": "stream",
     "text": [
      "\u001b[2m\u001b[36m(RolloutWorker pid=1736)\u001b[0m Connection from ('127.0.0.1', 52257)\n",
      "\u001b[2m\u001b[36m(RolloutWorker pid=1736)\u001b[0m J:\\git\\TensorFlowPSX\\Py\\dragSpaced.csv\n",
      "\u001b[2m\u001b[36m(RolloutWorker pid=1736)\u001b[0m Discrete Accel or Brake (cannot left foot) and Discrete Steering 2\n",
      "\u001b[2m\u001b[36m(RolloutWorker pid=1736)\u001b[0m I found a BOX\n",
      "\u001b[2m\u001b[36m(RolloutWorker pid=1736)\u001b[0m Box(0.0, 3.0, (1,), float64)\n",
      "\u001b[2m\u001b[36m(RolloutWorker pid=1736)\u001b[0m I found a BOX\n",
      "\u001b[2m\u001b[36m(RolloutWorker pid=1736)\u001b[0m Box(0.0, 1.0, (1,), float64)\n",
      "\u001b[2m\u001b[36m(RolloutWorker pid=1736)\u001b[0m I found a BOX\n",
      "\u001b[2m\u001b[36m(RolloutWorker pid=1736)\u001b[0m Box(0.0, 1.0, (1,), float64)\n",
      "\u001b[2m\u001b[36m(RolloutWorker pid=1736)\u001b[0m I found a BOX\n",
      "\u001b[2m\u001b[36m(RolloutWorker pid=1736)\u001b[0m Box(0.0, 1.0, (1,), float64)\n",
      "\u001b[2m\u001b[36m(RolloutWorker pid=1736)\u001b[0m I found Cov2d layers\n",
      "\u001b[2m\u001b[36m(RolloutWorker pid=1736)\u001b[0m Box(0, 255, (42, 42, 1), uint8)\n",
      "\u001b[2m\u001b[36m(RolloutWorker pid=1736)\u001b[0m I found Cov2d layers\n",
      "\u001b[2m\u001b[36m(RolloutWorker pid=1736)\u001b[0m Box(0, 255, (42, 42, 1), uint8)\n",
      "I found a BOX\n",
      "Box(0.0, 3.0, (1,), float64)\n",
      "\u001b[2m\u001b[36m(RolloutWorker pid=1736)\u001b[0m I found Cov2d layers\n",
      "\u001b[2m\u001b[36m(RolloutWorker pid=1736)\u001b[0m Box(0, 255, (42, 42, 1), uint8)\n",
      "\u001b[2m\u001b[36m(RolloutWorker pid=1736)\u001b[0m I found a BOX\n",
      "\u001b[2m\u001b[36m(RolloutWorker pid=1736)\u001b[0m Box([ 0. -1.], 1.0, (2,), float64)\n",
      "\u001b[2m\u001b[36m(RolloutWorker pid=1736)\u001b[0m I found a BOX\n",
      "\u001b[2m\u001b[36m(RolloutWorker pid=1736)\u001b[0m Box([ 0. -1.], 1.0, (2,), float64)\n",
      "\u001b[2m\u001b[36m(RolloutWorker pid=1736)\u001b[0m I found a BOX\n",
      "\u001b[2m\u001b[36m(RolloutWorker pid=1736)\u001b[0m Box([ 0. -1.], 1.0, (2,), float64)\n",
      "\u001b[2m\u001b[36m(RolloutWorker pid=1736)\u001b[0m I found a BOX\n",
      "\u001b[2m\u001b[36m(RolloutWorker pid=1736)\u001b[0m Box([ 0. -1.], 1.0, (2,), float64)\n",
      "I found a BOX\n",
      "Box(0.0, 1.0, (1,), float64)\n",
      "I found a BOX\n",
      "Box(0.0, 1.0, (1,), float64)\n",
      "I found a BOX\n",
      "Box(0.0, 1.0, (1,), float64)\n",
      "I found Cov2d layers\n",
      "Box(0, 255, (42, 42, 1), uint8)\n",
      "I found Cov2d layers\n",
      "Box(0, 255, (42, 42, 1), uint8)\n",
      "I found Cov2d layers\n",
      "Box(0, 255, (42, 42, 1), uint8)\n",
      "I found a BOX\n",
      "Box([ 0. -1.], 1.0, (2,), float64)\n",
      "I found a BOX\n",
      "Box([ 0. -1.], 1.0, (2,), float64)\n",
      "I found a BOX\n",
      "Box([ 0. -1.], 1.0, (2,), float64)\n",
      "I found a BOX\n",
      "Box([ 0. -1.], 1.0, (2,), float64)\n"
     ]
    },
    {
     "name": "stderr",
     "output_type": "stream",
     "text": [
      "2023-10-21 10:51:19,151\tINFO trainable.py:172 -- Trainable.setup took 11.865 seconds. If your trainable is slow to initialize, consider setting reuse_actors=True to reduce actor creation overheads.\n"
     ]
    }
   ],
   "source": [
    "algo = config.build()"
   ]
  },
  {
   "cell_type": "code",
   "execution_count": 8,
   "metadata": {},
   "outputs": [
    {
     "data": {
      "text/plain": [
       "GTCustomNet(\n",
       "  (cnns): ModuleDict(\n",
       "    (4): VisionNetwork(\n",
       "      (_convs): Sequential(\n",
       "        (0): SlimConv2d(\n",
       "          (_model): Sequential(\n",
       "            (0): ZeroPad2d((1, 1, 1, 1))\n",
       "            (1): Conv2d(1, 16, kernel_size=(4, 4), stride=(2, 2))\n",
       "          )\n",
       "        )\n",
       "        (1): SlimConv2d(\n",
       "          (_model): Sequential(\n",
       "            (0): ZeroPad2d((1, 2, 1, 2))\n",
       "            (1): Conv2d(16, 32, kernel_size=(4, 4), stride=(2, 2))\n",
       "          )\n",
       "        )\n",
       "        (2): SlimConv2d(\n",
       "          (_model): Sequential(\n",
       "            (0): Conv2d(32, 256, kernel_size=(11, 11), stride=(1, 1))\n",
       "          )\n",
       "        )\n",
       "        (3): Flatten(start_dim=1, end_dim=-1)\n",
       "      )\n",
       "      (_value_branch_separate): Sequential(\n",
       "        (0): SlimConv2d(\n",
       "          (_model): Sequential(\n",
       "            (0): ZeroPad2d((1, 1, 1, 1))\n",
       "            (1): Conv2d(1, 16, kernel_size=(4, 4), stride=(2, 2))\n",
       "          )\n",
       "        )\n",
       "        (1): SlimConv2d(\n",
       "          (_model): Sequential(\n",
       "            (0): ZeroPad2d((1, 2, 1, 2))\n",
       "            (1): Conv2d(16, 32, kernel_size=(4, 4), stride=(2, 2))\n",
       "          )\n",
       "        )\n",
       "        (2): SlimConv2d(\n",
       "          (_model): Sequential(\n",
       "            (0): Conv2d(32, 256, kernel_size=(11, 11), stride=(1, 1))\n",
       "          )\n",
       "        )\n",
       "        (3): SlimConv2d(\n",
       "          (_model): Sequential(\n",
       "            (0): Conv2d(256, 1, kernel_size=(1, 1), stride=(1, 1))\n",
       "          )\n",
       "        )\n",
       "      )\n",
       "    )\n",
       "    (5): VisionNetwork(\n",
       "      (_convs): Sequential(\n",
       "        (0): SlimConv2d(\n",
       "          (_model): Sequential(\n",
       "            (0): ZeroPad2d((1, 1, 1, 1))\n",
       "            (1): Conv2d(1, 16, kernel_size=(4, 4), stride=(2, 2))\n",
       "          )\n",
       "        )\n",
       "        (1): SlimConv2d(\n",
       "          (_model): Sequential(\n",
       "            (0): ZeroPad2d((1, 2, 1, 2))\n",
       "            (1): Conv2d(16, 32, kernel_size=(4, 4), stride=(2, 2))\n",
       "          )\n",
       "        )\n",
       "        (2): SlimConv2d(\n",
       "          (_model): Sequential(\n",
       "            (0): Conv2d(32, 256, kernel_size=(11, 11), stride=(1, 1))\n",
       "          )\n",
       "        )\n",
       "        (3): Flatten(start_dim=1, end_dim=-1)\n",
       "      )\n",
       "      (_value_branch_separate): Sequential(\n",
       "        (0): SlimConv2d(\n",
       "          (_model): Sequential(\n",
       "            (0): ZeroPad2d((1, 1, 1, 1))\n",
       "            (1): Conv2d(1, 16, kernel_size=(4, 4), stride=(2, 2))\n",
       "          )\n",
       "        )\n",
       "        (1): SlimConv2d(\n",
       "          (_model): Sequential(\n",
       "            (0): ZeroPad2d((1, 2, 1, 2))\n",
       "            (1): Conv2d(16, 32, kernel_size=(4, 4), stride=(2, 2))\n",
       "          )\n",
       "        )\n",
       "        (2): SlimConv2d(\n",
       "          (_model): Sequential(\n",
       "            (0): Conv2d(32, 256, kernel_size=(11, 11), stride=(1, 1))\n",
       "          )\n",
       "        )\n",
       "        (3): SlimConv2d(\n",
       "          (_model): Sequential(\n",
       "            (0): Conv2d(256, 1, kernel_size=(1, 1), stride=(1, 1))\n",
       "          )\n",
       "        )\n",
       "      )\n",
       "    )\n",
       "    (6): VisionNetwork(\n",
       "      (_convs): Sequential(\n",
       "        (0): SlimConv2d(\n",
       "          (_model): Sequential(\n",
       "            (0): ZeroPad2d((1, 1, 1, 1))\n",
       "            (1): Conv2d(1, 16, kernel_size=(4, 4), stride=(2, 2))\n",
       "          )\n",
       "        )\n",
       "        (1): SlimConv2d(\n",
       "          (_model): Sequential(\n",
       "            (0): ZeroPad2d((1, 2, 1, 2))\n",
       "            (1): Conv2d(16, 32, kernel_size=(4, 4), stride=(2, 2))\n",
       "          )\n",
       "        )\n",
       "        (2): SlimConv2d(\n",
       "          (_model): Sequential(\n",
       "            (0): Conv2d(32, 256, kernel_size=(11, 11), stride=(1, 1))\n",
       "          )\n",
       "        )\n",
       "        (3): Flatten(start_dim=1, end_dim=-1)\n",
       "      )\n",
       "      (_value_branch_separate): Sequential(\n",
       "        (0): SlimConv2d(\n",
       "          (_model): Sequential(\n",
       "            (0): ZeroPad2d((1, 1, 1, 1))\n",
       "            (1): Conv2d(1, 16, kernel_size=(4, 4), stride=(2, 2))\n",
       "          )\n",
       "        )\n",
       "        (1): SlimConv2d(\n",
       "          (_model): Sequential(\n",
       "            (0): ZeroPad2d((1, 2, 1, 2))\n",
       "            (1): Conv2d(16, 32, kernel_size=(4, 4), stride=(2, 2))\n",
       "          )\n",
       "        )\n",
       "        (2): SlimConv2d(\n",
       "          (_model): Sequential(\n",
       "            (0): Conv2d(32, 256, kernel_size=(11, 11), stride=(1, 1))\n",
       "          )\n",
       "        )\n",
       "        (3): SlimConv2d(\n",
       "          (_model): Sequential(\n",
       "            (0): Conv2d(256, 1, kernel_size=(1, 1), stride=(1, 1))\n",
       "          )\n",
       "        )\n",
       "      )\n",
       "    )\n",
       "  )\n",
       "  (one_hot): ModuleDict()\n",
       "  (flatten): ModuleDict(\n",
       "    (0): FullyConnectedNetwork(\n",
       "      (_hidden_layers): Sequential(\n",
       "        (0): SlimFC(\n",
       "          (_model): Sequential(\n",
       "            (0): Linear(in_features=1, out_features=256, bias=True)\n",
       "          )\n",
       "        )\n",
       "        (1): SlimFC(\n",
       "          (_model): Sequential(\n",
       "            (0): Linear(in_features=256, out_features=256, bias=True)\n",
       "          )\n",
       "        )\n",
       "      )\n",
       "      (_value_branch_separate): Sequential(\n",
       "        (0): SlimFC(\n",
       "          (_model): Sequential(\n",
       "            (0): Linear(in_features=1, out_features=256, bias=True)\n",
       "          )\n",
       "        )\n",
       "        (1): SlimFC(\n",
       "          (_model): Sequential(\n",
       "            (0): Linear(in_features=256, out_features=256, bias=True)\n",
       "          )\n",
       "        )\n",
       "      )\n",
       "      (_value_branch): SlimFC(\n",
       "        (_model): Sequential(\n",
       "          (0): Linear(in_features=256, out_features=1, bias=True)\n",
       "        )\n",
       "      )\n",
       "    )\n",
       "    (1): FullyConnectedNetwork(\n",
       "      (_hidden_layers): Sequential(\n",
       "        (0): SlimFC(\n",
       "          (_model): Sequential(\n",
       "            (0): Linear(in_features=1, out_features=256, bias=True)\n",
       "          )\n",
       "        )\n",
       "        (1): SlimFC(\n",
       "          (_model): Sequential(\n",
       "            (0): Linear(in_features=256, out_features=256, bias=True)\n",
       "          )\n",
       "        )\n",
       "      )\n",
       "      (_value_branch_separate): Sequential(\n",
       "        (0): SlimFC(\n",
       "          (_model): Sequential(\n",
       "            (0): Linear(in_features=1, out_features=256, bias=True)\n",
       "          )\n",
       "        )\n",
       "        (1): SlimFC(\n",
       "          (_model): Sequential(\n",
       "            (0): Linear(in_features=256, out_features=256, bias=True)\n",
       "          )\n",
       "        )\n",
       "      )\n",
       "      (_value_branch): SlimFC(\n",
       "        (_model): Sequential(\n",
       "          (0): Linear(in_features=256, out_features=1, bias=True)\n",
       "        )\n",
       "      )\n",
       "    )\n",
       "    (2): FullyConnectedNetwork(\n",
       "      (_hidden_layers): Sequential(\n",
       "        (0): SlimFC(\n",
       "          (_model): Sequential(\n",
       "            (0): Linear(in_features=1, out_features=256, bias=True)\n",
       "          )\n",
       "        )\n",
       "        (1): SlimFC(\n",
       "          (_model): Sequential(\n",
       "            (0): Linear(in_features=256, out_features=256, bias=True)\n",
       "          )\n",
       "        )\n",
       "      )\n",
       "      (_value_branch_separate): Sequential(\n",
       "        (0): SlimFC(\n",
       "          (_model): Sequential(\n",
       "            (0): Linear(in_features=1, out_features=256, bias=True)\n",
       "          )\n",
       "        )\n",
       "        (1): SlimFC(\n",
       "          (_model): Sequential(\n",
       "            (0): Linear(in_features=256, out_features=256, bias=True)\n",
       "          )\n",
       "        )\n",
       "      )\n",
       "      (_value_branch): SlimFC(\n",
       "        (_model): Sequential(\n",
       "          (0): Linear(in_features=256, out_features=1, bias=True)\n",
       "        )\n",
       "      )\n",
       "    )\n",
       "    (3): FullyConnectedNetwork(\n",
       "      (_hidden_layers): Sequential(\n",
       "        (0): SlimFC(\n",
       "          (_model): Sequential(\n",
       "            (0): Linear(in_features=1, out_features=256, bias=True)\n",
       "          )\n",
       "        )\n",
       "        (1): SlimFC(\n",
       "          (_model): Sequential(\n",
       "            (0): Linear(in_features=256, out_features=256, bias=True)\n",
       "          )\n",
       "        )\n",
       "      )\n",
       "      (_value_branch_separate): Sequential(\n",
       "        (0): SlimFC(\n",
       "          (_model): Sequential(\n",
       "            (0): Linear(in_features=1, out_features=256, bias=True)\n",
       "          )\n",
       "        )\n",
       "        (1): SlimFC(\n",
       "          (_model): Sequential(\n",
       "            (0): Linear(in_features=256, out_features=256, bias=True)\n",
       "          )\n",
       "        )\n",
       "      )\n",
       "      (_value_branch): SlimFC(\n",
       "        (_model): Sequential(\n",
       "          (0): Linear(in_features=256, out_features=1, bias=True)\n",
       "        )\n",
       "      )\n",
       "    )\n",
       "    (7): FullyConnectedNetwork(\n",
       "      (_hidden_layers): Sequential(\n",
       "        (0): SlimFC(\n",
       "          (_model): Sequential(\n",
       "            (0): Linear(in_features=2, out_features=256, bias=True)\n",
       "          )\n",
       "        )\n",
       "        (1): SlimFC(\n",
       "          (_model): Sequential(\n",
       "            (0): Linear(in_features=256, out_features=256, bias=True)\n",
       "          )\n",
       "        )\n",
       "      )\n",
       "      (_value_branch_separate): Sequential(\n",
       "        (0): SlimFC(\n",
       "          (_model): Sequential(\n",
       "            (0): Linear(in_features=2, out_features=256, bias=True)\n",
       "          )\n",
       "        )\n",
       "        (1): SlimFC(\n",
       "          (_model): Sequential(\n",
       "            (0): Linear(in_features=256, out_features=256, bias=True)\n",
       "          )\n",
       "        )\n",
       "      )\n",
       "      (_value_branch): SlimFC(\n",
       "        (_model): Sequential(\n",
       "          (0): Linear(in_features=256, out_features=1, bias=True)\n",
       "        )\n",
       "      )\n",
       "    )\n",
       "    (8): FullyConnectedNetwork(\n",
       "      (_hidden_layers): Sequential(\n",
       "        (0): SlimFC(\n",
       "          (_model): Sequential(\n",
       "            (0): Linear(in_features=2, out_features=256, bias=True)\n",
       "          )\n",
       "        )\n",
       "        (1): SlimFC(\n",
       "          (_model): Sequential(\n",
       "            (0): Linear(in_features=256, out_features=256, bias=True)\n",
       "          )\n",
       "        )\n",
       "      )\n",
       "      (_value_branch_separate): Sequential(\n",
       "        (0): SlimFC(\n",
       "          (_model): Sequential(\n",
       "            (0): Linear(in_features=2, out_features=256, bias=True)\n",
       "          )\n",
       "        )\n",
       "        (1): SlimFC(\n",
       "          (_model): Sequential(\n",
       "            (0): Linear(in_features=256, out_features=256, bias=True)\n",
       "          )\n",
       "        )\n",
       "      )\n",
       "      (_value_branch): SlimFC(\n",
       "        (_model): Sequential(\n",
       "          (0): Linear(in_features=256, out_features=1, bias=True)\n",
       "        )\n",
       "      )\n",
       "    )\n",
       "    (9): FullyConnectedNetwork(\n",
       "      (_hidden_layers): Sequential(\n",
       "        (0): SlimFC(\n",
       "          (_model): Sequential(\n",
       "            (0): Linear(in_features=2, out_features=256, bias=True)\n",
       "          )\n",
       "        )\n",
       "        (1): SlimFC(\n",
       "          (_model): Sequential(\n",
       "            (0): Linear(in_features=256, out_features=256, bias=True)\n",
       "          )\n",
       "        )\n",
       "      )\n",
       "      (_value_branch_separate): Sequential(\n",
       "        (0): SlimFC(\n",
       "          (_model): Sequential(\n",
       "            (0): Linear(in_features=2, out_features=256, bias=True)\n",
       "          )\n",
       "        )\n",
       "        (1): SlimFC(\n",
       "          (_model): Sequential(\n",
       "            (0): Linear(in_features=256, out_features=256, bias=True)\n",
       "          )\n",
       "        )\n",
       "      )\n",
       "      (_value_branch): SlimFC(\n",
       "        (_model): Sequential(\n",
       "          (0): Linear(in_features=256, out_features=1, bias=True)\n",
       "        )\n",
       "      )\n",
       "    )\n",
       "    (10): FullyConnectedNetwork(\n",
       "      (_hidden_layers): Sequential(\n",
       "        (0): SlimFC(\n",
       "          (_model): Sequential(\n",
       "            (0): Linear(in_features=2, out_features=256, bias=True)\n",
       "          )\n",
       "        )\n",
       "        (1): SlimFC(\n",
       "          (_model): Sequential(\n",
       "            (0): Linear(in_features=256, out_features=256, bias=True)\n",
       "          )\n",
       "        )\n",
       "      )\n",
       "      (_value_branch_separate): Sequential(\n",
       "        (0): SlimFC(\n",
       "          (_model): Sequential(\n",
       "            (0): Linear(in_features=2, out_features=256, bias=True)\n",
       "          )\n",
       "        )\n",
       "        (1): SlimFC(\n",
       "          (_model): Sequential(\n",
       "            (0): Linear(in_features=256, out_features=256, bias=True)\n",
       "          )\n",
       "        )\n",
       "      )\n",
       "      (_value_branch): SlimFC(\n",
       "        (_model): Sequential(\n",
       "          (0): Linear(in_features=256, out_features=1, bias=True)\n",
       "        )\n",
       "      )\n",
       "    )\n",
       "  )\n",
       "  (flatten_0): FullyConnectedNetwork(\n",
       "    (_hidden_layers): Sequential(\n",
       "      (0): SlimFC(\n",
       "        (_model): Sequential(\n",
       "          (0): Linear(in_features=1, out_features=256, bias=True)\n",
       "        )\n",
       "      )\n",
       "      (1): SlimFC(\n",
       "        (_model): Sequential(\n",
       "          (0): Linear(in_features=256, out_features=256, bias=True)\n",
       "        )\n",
       "      )\n",
       "    )\n",
       "    (_value_branch_separate): Sequential(\n",
       "      (0): SlimFC(\n",
       "        (_model): Sequential(\n",
       "          (0): Linear(in_features=1, out_features=256, bias=True)\n",
       "        )\n",
       "      )\n",
       "      (1): SlimFC(\n",
       "        (_model): Sequential(\n",
       "          (0): Linear(in_features=256, out_features=256, bias=True)\n",
       "        )\n",
       "      )\n",
       "    )\n",
       "    (_value_branch): SlimFC(\n",
       "      (_model): Sequential(\n",
       "        (0): Linear(in_features=256, out_features=1, bias=True)\n",
       "      )\n",
       "    )\n",
       "  )\n",
       "  (flatten_1): FullyConnectedNetwork(\n",
       "    (_hidden_layers): Sequential(\n",
       "      (0): SlimFC(\n",
       "        (_model): Sequential(\n",
       "          (0): Linear(in_features=1, out_features=256, bias=True)\n",
       "        )\n",
       "      )\n",
       "      (1): SlimFC(\n",
       "        (_model): Sequential(\n",
       "          (0): Linear(in_features=256, out_features=256, bias=True)\n",
       "        )\n",
       "      )\n",
       "    )\n",
       "    (_value_branch_separate): Sequential(\n",
       "      (0): SlimFC(\n",
       "        (_model): Sequential(\n",
       "          (0): Linear(in_features=1, out_features=256, bias=True)\n",
       "        )\n",
       "      )\n",
       "      (1): SlimFC(\n",
       "        (_model): Sequential(\n",
       "          (0): Linear(in_features=256, out_features=256, bias=True)\n",
       "        )\n",
       "      )\n",
       "    )\n",
       "    (_value_branch): SlimFC(\n",
       "      (_model): Sequential(\n",
       "        (0): Linear(in_features=256, out_features=1, bias=True)\n",
       "      )\n",
       "    )\n",
       "  )\n",
       "  (flatten_2): FullyConnectedNetwork(\n",
       "    (_hidden_layers): Sequential(\n",
       "      (0): SlimFC(\n",
       "        (_model): Sequential(\n",
       "          (0): Linear(in_features=1, out_features=256, bias=True)\n",
       "        )\n",
       "      )\n",
       "      (1): SlimFC(\n",
       "        (_model): Sequential(\n",
       "          (0): Linear(in_features=256, out_features=256, bias=True)\n",
       "        )\n",
       "      )\n",
       "    )\n",
       "    (_value_branch_separate): Sequential(\n",
       "      (0): SlimFC(\n",
       "        (_model): Sequential(\n",
       "          (0): Linear(in_features=1, out_features=256, bias=True)\n",
       "        )\n",
       "      )\n",
       "      (1): SlimFC(\n",
       "        (_model): Sequential(\n",
       "          (0): Linear(in_features=256, out_features=256, bias=True)\n",
       "        )\n",
       "      )\n",
       "    )\n",
       "    (_value_branch): SlimFC(\n",
       "      (_model): Sequential(\n",
       "        (0): Linear(in_features=256, out_features=1, bias=True)\n",
       "      )\n",
       "    )\n",
       "  )\n",
       "  (flatten_3): FullyConnectedNetwork(\n",
       "    (_hidden_layers): Sequential(\n",
       "      (0): SlimFC(\n",
       "        (_model): Sequential(\n",
       "          (0): Linear(in_features=1, out_features=256, bias=True)\n",
       "        )\n",
       "      )\n",
       "      (1): SlimFC(\n",
       "        (_model): Sequential(\n",
       "          (0): Linear(in_features=256, out_features=256, bias=True)\n",
       "        )\n",
       "      )\n",
       "    )\n",
       "    (_value_branch_separate): Sequential(\n",
       "      (0): SlimFC(\n",
       "        (_model): Sequential(\n",
       "          (0): Linear(in_features=1, out_features=256, bias=True)\n",
       "        )\n",
       "      )\n",
       "      (1): SlimFC(\n",
       "        (_model): Sequential(\n",
       "          (0): Linear(in_features=256, out_features=256, bias=True)\n",
       "        )\n",
       "      )\n",
       "    )\n",
       "    (_value_branch): SlimFC(\n",
       "      (_model): Sequential(\n",
       "        (0): Linear(in_features=256, out_features=1, bias=True)\n",
       "      )\n",
       "    )\n",
       "  )\n",
       "  (cnn_4): VisionNetwork(\n",
       "    (_convs): Sequential(\n",
       "      (0): SlimConv2d(\n",
       "        (_model): Sequential(\n",
       "          (0): ZeroPad2d((1, 1, 1, 1))\n",
       "          (1): Conv2d(1, 16, kernel_size=(4, 4), stride=(2, 2))\n",
       "        )\n",
       "      )\n",
       "      (1): SlimConv2d(\n",
       "        (_model): Sequential(\n",
       "          (0): ZeroPad2d((1, 2, 1, 2))\n",
       "          (1): Conv2d(16, 32, kernel_size=(4, 4), stride=(2, 2))\n",
       "        )\n",
       "      )\n",
       "      (2): SlimConv2d(\n",
       "        (_model): Sequential(\n",
       "          (0): Conv2d(32, 256, kernel_size=(11, 11), stride=(1, 1))\n",
       "        )\n",
       "      )\n",
       "      (3): Flatten(start_dim=1, end_dim=-1)\n",
       "    )\n",
       "    (_value_branch_separate): Sequential(\n",
       "      (0): SlimConv2d(\n",
       "        (_model): Sequential(\n",
       "          (0): ZeroPad2d((1, 1, 1, 1))\n",
       "          (1): Conv2d(1, 16, kernel_size=(4, 4), stride=(2, 2))\n",
       "        )\n",
       "      )\n",
       "      (1): SlimConv2d(\n",
       "        (_model): Sequential(\n",
       "          (0): ZeroPad2d((1, 2, 1, 2))\n",
       "          (1): Conv2d(16, 32, kernel_size=(4, 4), stride=(2, 2))\n",
       "        )\n",
       "      )\n",
       "      (2): SlimConv2d(\n",
       "        (_model): Sequential(\n",
       "          (0): Conv2d(32, 256, kernel_size=(11, 11), stride=(1, 1))\n",
       "        )\n",
       "      )\n",
       "      (3): SlimConv2d(\n",
       "        (_model): Sequential(\n",
       "          (0): Conv2d(256, 1, kernel_size=(1, 1), stride=(1, 1))\n",
       "        )\n",
       "      )\n",
       "    )\n",
       "  )\n",
       "  (cnn_5): VisionNetwork(\n",
       "    (_convs): Sequential(\n",
       "      (0): SlimConv2d(\n",
       "        (_model): Sequential(\n",
       "          (0): ZeroPad2d((1, 1, 1, 1))\n",
       "          (1): Conv2d(1, 16, kernel_size=(4, 4), stride=(2, 2))\n",
       "        )\n",
       "      )\n",
       "      (1): SlimConv2d(\n",
       "        (_model): Sequential(\n",
       "          (0): ZeroPad2d((1, 2, 1, 2))\n",
       "          (1): Conv2d(16, 32, kernel_size=(4, 4), stride=(2, 2))\n",
       "        )\n",
       "      )\n",
       "      (2): SlimConv2d(\n",
       "        (_model): Sequential(\n",
       "          (0): Conv2d(32, 256, kernel_size=(11, 11), stride=(1, 1))\n",
       "        )\n",
       "      )\n",
       "      (3): Flatten(start_dim=1, end_dim=-1)\n",
       "    )\n",
       "    (_value_branch_separate): Sequential(\n",
       "      (0): SlimConv2d(\n",
       "        (_model): Sequential(\n",
       "          (0): ZeroPad2d((1, 1, 1, 1))\n",
       "          (1): Conv2d(1, 16, kernel_size=(4, 4), stride=(2, 2))\n",
       "        )\n",
       "      )\n",
       "      (1): SlimConv2d(\n",
       "        (_model): Sequential(\n",
       "          (0): ZeroPad2d((1, 2, 1, 2))\n",
       "          (1): Conv2d(16, 32, kernel_size=(4, 4), stride=(2, 2))\n",
       "        )\n",
       "      )\n",
       "      (2): SlimConv2d(\n",
       "        (_model): Sequential(\n",
       "          (0): Conv2d(32, 256, kernel_size=(11, 11), stride=(1, 1))\n",
       "        )\n",
       "      )\n",
       "      (3): SlimConv2d(\n",
       "        (_model): Sequential(\n",
       "          (0): Conv2d(256, 1, kernel_size=(1, 1), stride=(1, 1))\n",
       "        )\n",
       "      )\n",
       "    )\n",
       "  )\n",
       "  (cnn_6): VisionNetwork(\n",
       "    (_convs): Sequential(\n",
       "      (0): SlimConv2d(\n",
       "        (_model): Sequential(\n",
       "          (0): ZeroPad2d((1, 1, 1, 1))\n",
       "          (1): Conv2d(1, 16, kernel_size=(4, 4), stride=(2, 2))\n",
       "        )\n",
       "      )\n",
       "      (1): SlimConv2d(\n",
       "        (_model): Sequential(\n",
       "          (0): ZeroPad2d((1, 2, 1, 2))\n",
       "          (1): Conv2d(16, 32, kernel_size=(4, 4), stride=(2, 2))\n",
       "        )\n",
       "      )\n",
       "      (2): SlimConv2d(\n",
       "        (_model): Sequential(\n",
       "          (0): Conv2d(32, 256, kernel_size=(11, 11), stride=(1, 1))\n",
       "        )\n",
       "      )\n",
       "      (3): Flatten(start_dim=1, end_dim=-1)\n",
       "    )\n",
       "    (_value_branch_separate): Sequential(\n",
       "      (0): SlimConv2d(\n",
       "        (_model): Sequential(\n",
       "          (0): ZeroPad2d((1, 1, 1, 1))\n",
       "          (1): Conv2d(1, 16, kernel_size=(4, 4), stride=(2, 2))\n",
       "        )\n",
       "      )\n",
       "      (1): SlimConv2d(\n",
       "        (_model): Sequential(\n",
       "          (0): ZeroPad2d((1, 2, 1, 2))\n",
       "          (1): Conv2d(16, 32, kernel_size=(4, 4), stride=(2, 2))\n",
       "        )\n",
       "      )\n",
       "      (2): SlimConv2d(\n",
       "        (_model): Sequential(\n",
       "          (0): Conv2d(32, 256, kernel_size=(11, 11), stride=(1, 1))\n",
       "        )\n",
       "      )\n",
       "      (3): SlimConv2d(\n",
       "        (_model): Sequential(\n",
       "          (0): Conv2d(256, 1, kernel_size=(1, 1), stride=(1, 1))\n",
       "        )\n",
       "      )\n",
       "    )\n",
       "  )\n",
       "  (flatten_7): FullyConnectedNetwork(\n",
       "    (_hidden_layers): Sequential(\n",
       "      (0): SlimFC(\n",
       "        (_model): Sequential(\n",
       "          (0): Linear(in_features=2, out_features=256, bias=True)\n",
       "        )\n",
       "      )\n",
       "      (1): SlimFC(\n",
       "        (_model): Sequential(\n",
       "          (0): Linear(in_features=256, out_features=256, bias=True)\n",
       "        )\n",
       "      )\n",
       "    )\n",
       "    (_value_branch_separate): Sequential(\n",
       "      (0): SlimFC(\n",
       "        (_model): Sequential(\n",
       "          (0): Linear(in_features=2, out_features=256, bias=True)\n",
       "        )\n",
       "      )\n",
       "      (1): SlimFC(\n",
       "        (_model): Sequential(\n",
       "          (0): Linear(in_features=256, out_features=256, bias=True)\n",
       "        )\n",
       "      )\n",
       "    )\n",
       "    (_value_branch): SlimFC(\n",
       "      (_model): Sequential(\n",
       "        (0): Linear(in_features=256, out_features=1, bias=True)\n",
       "      )\n",
       "    )\n",
       "  )\n",
       "  (flatten_8): FullyConnectedNetwork(\n",
       "    (_hidden_layers): Sequential(\n",
       "      (0): SlimFC(\n",
       "        (_model): Sequential(\n",
       "          (0): Linear(in_features=2, out_features=256, bias=True)\n",
       "        )\n",
       "      )\n",
       "      (1): SlimFC(\n",
       "        (_model): Sequential(\n",
       "          (0): Linear(in_features=256, out_features=256, bias=True)\n",
       "        )\n",
       "      )\n",
       "    )\n",
       "    (_value_branch_separate): Sequential(\n",
       "      (0): SlimFC(\n",
       "        (_model): Sequential(\n",
       "          (0): Linear(in_features=2, out_features=256, bias=True)\n",
       "        )\n",
       "      )\n",
       "      (1): SlimFC(\n",
       "        (_model): Sequential(\n",
       "          (0): Linear(in_features=256, out_features=256, bias=True)\n",
       "        )\n",
       "      )\n",
       "    )\n",
       "    (_value_branch): SlimFC(\n",
       "      (_model): Sequential(\n",
       "        (0): Linear(in_features=256, out_features=1, bias=True)\n",
       "      )\n",
       "    )\n",
       "  )\n",
       "  (flatten_9): FullyConnectedNetwork(\n",
       "    (_hidden_layers): Sequential(\n",
       "      (0): SlimFC(\n",
       "        (_model): Sequential(\n",
       "          (0): Linear(in_features=2, out_features=256, bias=True)\n",
       "        )\n",
       "      )\n",
       "      (1): SlimFC(\n",
       "        (_model): Sequential(\n",
       "          (0): Linear(in_features=256, out_features=256, bias=True)\n",
       "        )\n",
       "      )\n",
       "    )\n",
       "    (_value_branch_separate): Sequential(\n",
       "      (0): SlimFC(\n",
       "        (_model): Sequential(\n",
       "          (0): Linear(in_features=2, out_features=256, bias=True)\n",
       "        )\n",
       "      )\n",
       "      (1): SlimFC(\n",
       "        (_model): Sequential(\n",
       "          (0): Linear(in_features=256, out_features=256, bias=True)\n",
       "        )\n",
       "      )\n",
       "    )\n",
       "    (_value_branch): SlimFC(\n",
       "      (_model): Sequential(\n",
       "        (0): Linear(in_features=256, out_features=1, bias=True)\n",
       "      )\n",
       "    )\n",
       "  )\n",
       "  (flatten_10): FullyConnectedNetwork(\n",
       "    (_hidden_layers): Sequential(\n",
       "      (0): SlimFC(\n",
       "        (_model): Sequential(\n",
       "          (0): Linear(in_features=2, out_features=256, bias=True)\n",
       "        )\n",
       "      )\n",
       "      (1): SlimFC(\n",
       "        (_model): Sequential(\n",
       "          (0): Linear(in_features=256, out_features=256, bias=True)\n",
       "        )\n",
       "      )\n",
       "    )\n",
       "    (_value_branch_separate): Sequential(\n",
       "      (0): SlimFC(\n",
       "        (_model): Sequential(\n",
       "          (0): Linear(in_features=2, out_features=256, bias=True)\n",
       "        )\n",
       "      )\n",
       "      (1): SlimFC(\n",
       "        (_model): Sequential(\n",
       "          (0): Linear(in_features=256, out_features=256, bias=True)\n",
       "        )\n",
       "      )\n",
       "    )\n",
       "    (_value_branch): SlimFC(\n",
       "      (_model): Sequential(\n",
       "        (0): Linear(in_features=256, out_features=1, bias=True)\n",
       "      )\n",
       "    )\n",
       "  )\n",
       "  (post_fc_stack): FullyConnectedNetwork(\n",
       "    (_hidden_layers): Sequential()\n",
       "    (_value_branch_separate): Sequential()\n",
       "    (_value_branch): SlimFC(\n",
       "      (_model): Sequential(\n",
       "        (0): Linear(in_features=2816, out_features=1, bias=True)\n",
       "      )\n",
       "    )\n",
       "  )\n",
       "  (logits_layer): SlimFC(\n",
       "    (_model): Sequential(\n",
       "      (0): Linear(in_features=2816, out_features=4, bias=True)\n",
       "    )\n",
       "  )\n",
       "  (value_layer): SlimFC(\n",
       "    (_model): Sequential(\n",
       "      (0): Linear(in_features=2816, out_features=1, bias=True)\n",
       "    )\n",
       "  )\n",
       ")"
      ]
     },
     "execution_count": 8,
     "metadata": {},
     "output_type": "execute_result"
    }
   ],
   "source": [
    "algo.get_policy().model"
   ]
  },
  {
   "cell_type": "code",
   "execution_count": 9,
   "metadata": {},
   "outputs": [
    {
     "name": "stdout",
     "output_type": "stream",
     "text": [
      "\u001b[2m\u001b[36m(RolloutWorker pid=1736)\u001b[0m reset triggered\n",
      "\u001b[2m\u001b[36m(RolloutWorker pid=1736)\u001b[0m reload save for track : 72\n",
      "\u001b[2m\u001b[36m(RolloutWorker pid=1736)\u001b[0m reset triggered\n",
      "\u001b[2m\u001b[36m(RolloutWorker pid=1736)\u001b[0m reload save for track : 72\n"
     ]
    },
    {
     "name": "stderr",
     "output_type": "stream",
     "text": [
      "\u001b[2m\u001b[36m(RolloutWorker pid=1736)\u001b[0m C:\\Users\\nadir\\anaconda3\\envs\\GTRay2.4.0\\lib\\site-packages\\rtgym\\envs\\real_time_env.py:376: UserWarning: Time-step timed out. Elapsed since last time-step: 0.1767124999997307\n",
      "\u001b[2m\u001b[36m(RolloutWorker pid=1736)\u001b[0m   warnings.warn(f\"Time-step timed out. Elapsed since last time-step: {now - self.__t_end}\")\n"
     ]
    },
    {
     "name": "stdout",
     "output_type": "stream",
     "text": [
      "Loop:  0\n",
      "Saved 0\n"
     ]
    },
    {
     "name": "stderr",
     "output_type": "stream",
     "text": [
      "\u001b[2m\u001b[36m(RolloutWorker pid=1736)\u001b[0m C:\\Users\\nadir\\anaconda3\\envs\\GTRay2.4.0\\lib\\site-packages\\rtgym\\envs\\real_time_env.py:376: UserWarning: Time-step timed out. Elapsed since last time-step: 3.389690999999999\n",
      "\u001b[2m\u001b[36m(RolloutWorker pid=1736)\u001b[0m   warnings.warn(f\"Time-step timed out. Elapsed since last time-step: {now - self.__t_end}\")\n"
     ]
    },
    {
     "name": "stdout",
     "output_type": "stream",
     "text": [
      "\u001b[2m\u001b[36m(RolloutWorker pid=1736)\u001b[0m reset triggered\n",
      "\u001b[2m\u001b[36m(RolloutWorker pid=1736)\u001b[0m reload save for track : 72\n"
     ]
    },
    {
     "name": "stderr",
     "output_type": "stream",
     "text": [
      "\u001b[2m\u001b[36m(RolloutWorker pid=1736)\u001b[0m C:\\Users\\nadir\\anaconda3\\envs\\GTRay2.4.0\\lib\\site-packages\\rtgym\\envs\\real_time_env.py:376: UserWarning: Time-step timed out. Elapsed since last time-step: 0.1536766000010772\n",
      "\u001b[2m\u001b[36m(RolloutWorker pid=1736)\u001b[0m   warnings.warn(f\"Time-step timed out. Elapsed since last time-step: {now - self.__t_end}\")\n"
     ]
    },
    {
     "name": "stdout",
     "output_type": "stream",
     "text": [
      "Loop:  1\n"
     ]
    },
    {
     "name": "stderr",
     "output_type": "stream",
     "text": [
      "\u001b[2m\u001b[36m(RolloutWorker pid=1736)\u001b[0m C:\\Users\\nadir\\anaconda3\\envs\\GTRay2.4.0\\lib\\site-packages\\rtgym\\envs\\real_time_env.py:376: UserWarning: Time-step timed out. Elapsed since last time-step: 3.062108500000015\n",
      "\u001b[2m\u001b[36m(RolloutWorker pid=1736)\u001b[0m   warnings.warn(f\"Time-step timed out. Elapsed since last time-step: {now - self.__t_end}\")\n",
      "\u001b[2m\u001b[36m(RolloutWorker pid=1736)\u001b[0m C:\\Users\\nadir\\anaconda3\\envs\\GTRay2.4.0\\lib\\site-packages\\rtgym\\envs\\real_time_env.py:376: UserWarning: Time-step timed out. Elapsed since last time-step: 0.14830730000105063\n",
      "\u001b[2m\u001b[36m(RolloutWorker pid=1736)\u001b[0m   warnings.warn(f\"Time-step timed out. Elapsed since last time-step: {now - self.__t_end}\")\n"
     ]
    },
    {
     "name": "stdout",
     "output_type": "stream",
     "text": [
      "\u001b[2m\u001b[36m(RolloutWorker pid=1736)\u001b[0m reset triggered\n",
      "\u001b[2m\u001b[36m(RolloutWorker pid=1736)\u001b[0m reload save for track : 72\n",
      "Loop:  2\n"
     ]
    },
    {
     "name": "stderr",
     "output_type": "stream",
     "text": [
      "\u001b[2m\u001b[36m(RolloutWorker pid=1736)\u001b[0m C:\\Users\\nadir\\anaconda3\\envs\\GTRay2.4.0\\lib\\site-packages\\rtgym\\envs\\real_time_env.py:376: UserWarning: Time-step timed out. Elapsed since last time-step: 3.1223081000000263\n",
      "\u001b[2m\u001b[36m(RolloutWorker pid=1736)\u001b[0m   warnings.warn(f\"Time-step timed out. Elapsed since last time-step: {now - self.__t_end}\")\n"
     ]
    },
    {
     "name": "stdout",
     "output_type": "stream",
     "text": [
      "\u001b[2m\u001b[36m(RolloutWorker pid=1736)\u001b[0m reset triggered\n",
      "\u001b[2m\u001b[36m(RolloutWorker pid=1736)\u001b[0m reload save for track : 72\n"
     ]
    },
    {
     "name": "stderr",
     "output_type": "stream",
     "text": [
      "\u001b[2m\u001b[36m(RolloutWorker pid=1736)\u001b[0m C:\\Users\\nadir\\anaconda3\\envs\\GTRay2.4.0\\lib\\site-packages\\rtgym\\envs\\real_time_env.py:376: UserWarning: Time-step timed out. Elapsed since last time-step: 0.16748590000106844\n",
      "\u001b[2m\u001b[36m(RolloutWorker pid=1736)\u001b[0m   warnings.warn(f\"Time-step timed out. Elapsed since last time-step: {now - self.__t_end}\")\n"
     ]
    },
    {
     "name": "stdout",
     "output_type": "stream",
     "text": [
      "Loop:  3\n"
     ]
    },
    {
     "name": "stderr",
     "output_type": "stream",
     "text": [
      "\u001b[2m\u001b[36m(RolloutWorker pid=1736)\u001b[0m C:\\Users\\nadir\\anaconda3\\envs\\GTRay2.4.0\\lib\\site-packages\\rtgym\\envs\\real_time_env.py:376: UserWarning: Time-step timed out. Elapsed since last time-step: 2.946309100000022\n",
      "\u001b[2m\u001b[36m(RolloutWorker pid=1736)\u001b[0m   warnings.warn(f\"Time-step timed out. Elapsed since last time-step: {now - self.__t_end}\")\n"
     ]
    },
    {
     "name": "stdout",
     "output_type": "stream",
     "text": [
      "\u001b[2m\u001b[36m(RolloutWorker pid=1736)\u001b[0m reset triggered\n",
      "\u001b[2m\u001b[36m(RolloutWorker pid=1736)\u001b[0m reload save for track : 72\n"
     ]
    },
    {
     "name": "stderr",
     "output_type": "stream",
     "text": [
      "\u001b[2m\u001b[36m(RolloutWorker pid=1736)\u001b[0m C:\\Users\\nadir\\anaconda3\\envs\\GTRay2.4.0\\lib\\site-packages\\rtgym\\envs\\real_time_env.py:376: UserWarning: Time-step timed out. Elapsed since last time-step: 0.1607109000010638\n",
      "\u001b[2m\u001b[36m(RolloutWorker pid=1736)\u001b[0m   warnings.warn(f\"Time-step timed out. Elapsed since last time-step: {now - self.__t_end}\")\n"
     ]
    },
    {
     "name": "stdout",
     "output_type": "stream",
     "text": [
      "Loop:  4\n"
     ]
    },
    {
     "name": "stderr",
     "output_type": "stream",
     "text": [
      "\u001b[2m\u001b[36m(RolloutWorker pid=1736)\u001b[0m C:\\Users\\nadir\\anaconda3\\envs\\GTRay2.4.0\\lib\\site-packages\\rtgym\\envs\\real_time_env.py:376: UserWarning: Time-step timed out. Elapsed since last time-step: 3.042466600000026\n",
      "\u001b[2m\u001b[36m(RolloutWorker pid=1736)\u001b[0m   warnings.warn(f\"Time-step timed out. Elapsed since last time-step: {now - self.__t_end}\")\n"
     ]
    },
    {
     "name": "stdout",
     "output_type": "stream",
     "text": [
      "\u001b[2m\u001b[36m(RolloutWorker pid=1736)\u001b[0m reset triggered\n",
      "\u001b[2m\u001b[36m(RolloutWorker pid=1736)\u001b[0m reload save for track : 72\n"
     ]
    },
    {
     "name": "stderr",
     "output_type": "stream",
     "text": [
      "\u001b[2m\u001b[36m(RolloutWorker pid=1736)\u001b[0m C:\\Users\\nadir\\anaconda3\\envs\\GTRay2.4.0\\lib\\site-packages\\rtgym\\envs\\real_time_env.py:376: UserWarning: Time-step timed out. Elapsed since last time-step: 0.15114189999709993\n",
      "\u001b[2m\u001b[36m(RolloutWorker pid=1736)\u001b[0m   warnings.warn(f\"Time-step timed out. Elapsed since last time-step: {now - self.__t_end}\")\n"
     ]
    },
    {
     "name": "stdout",
     "output_type": "stream",
     "text": [
      "Loop:  5\n"
     ]
    },
    {
     "name": "stderr",
     "output_type": "stream",
     "text": [
      "\u001b[2m\u001b[36m(RolloutWorker pid=1736)\u001b[0m C:\\Users\\nadir\\anaconda3\\envs\\GTRay2.4.0\\lib\\site-packages\\rtgym\\envs\\real_time_env.py:376: UserWarning: Time-step timed out. Elapsed since last time-step: 3.026896699999554\n",
      "\u001b[2m\u001b[36m(RolloutWorker pid=1736)\u001b[0m   warnings.warn(f\"Time-step timed out. Elapsed since last time-step: {now - self.__t_end}\")\n",
      "\u001b[2m\u001b[36m(RolloutWorker pid=1736)\u001b[0m C:\\Users\\nadir\\anaconda3\\envs\\GTRay2.4.0\\lib\\site-packages\\rtgym\\envs\\real_time_env.py:376: UserWarning: Time-step timed out. Elapsed since last time-step: 0.16263599999609823\n",
      "\u001b[2m\u001b[36m(RolloutWorker pid=1736)\u001b[0m   warnings.warn(f\"Time-step timed out. Elapsed since last time-step: {now - self.__t_end}\")\n"
     ]
    },
    {
     "name": "stdout",
     "output_type": "stream",
     "text": [
      "\u001b[2m\u001b[36m(RolloutWorker pid=1736)\u001b[0m reset triggered\n",
      "\u001b[2m\u001b[36m(RolloutWorker pid=1736)\u001b[0m reload save for track : 72\n",
      "Loop:  6\n"
     ]
    },
    {
     "name": "stderr",
     "output_type": "stream",
     "text": [
      "\u001b[2m\u001b[36m(RolloutWorker pid=1736)\u001b[0m C:\\Users\\nadir\\anaconda3\\envs\\GTRay2.4.0\\lib\\site-packages\\rtgym\\envs\\real_time_env.py:376: UserWarning: Time-step timed out. Elapsed since last time-step: 3.0451803999995377\n",
      "\u001b[2m\u001b[36m(RolloutWorker pid=1736)\u001b[0m   warnings.warn(f\"Time-step timed out. Elapsed since last time-step: {now - self.__t_end}\")\n"
     ]
    },
    {
     "name": "stdout",
     "output_type": "stream",
     "text": [
      "\u001b[2m\u001b[36m(RolloutWorker pid=1736)\u001b[0m reset triggered\n",
      "\u001b[2m\u001b[36m(RolloutWorker pid=1736)\u001b[0m reload save for track : 72\n"
     ]
    },
    {
     "name": "stderr",
     "output_type": "stream",
     "text": [
      "\u001b[2m\u001b[36m(RolloutWorker pid=1736)\u001b[0m C:\\Users\\nadir\\anaconda3\\envs\\GTRay2.4.0\\lib\\site-packages\\rtgym\\envs\\real_time_env.py:376: UserWarning: Time-step timed out. Elapsed since last time-step: 0.12529019999777802\n",
      "\u001b[2m\u001b[36m(RolloutWorker pid=1736)\u001b[0m   warnings.warn(f\"Time-step timed out. Elapsed since last time-step: {now - self.__t_end}\")\n"
     ]
    },
    {
     "name": "stdout",
     "output_type": "stream",
     "text": [
      "Loop:  7\n"
     ]
    },
    {
     "name": "stderr",
     "output_type": "stream",
     "text": [
      "\u001b[2m\u001b[36m(RolloutWorker pid=1736)\u001b[0m C:\\Users\\nadir\\anaconda3\\envs\\GTRay2.4.0\\lib\\site-packages\\rtgym\\envs\\real_time_env.py:376: UserWarning: Time-step timed out. Elapsed since last time-step: 3.076841099997864\n",
      "\u001b[2m\u001b[36m(RolloutWorker pid=1736)\u001b[0m   warnings.warn(f\"Time-step timed out. Elapsed since last time-step: {now - self.__t_end}\")\n"
     ]
    },
    {
     "name": "stdout",
     "output_type": "stream",
     "text": [
      "\u001b[2m\u001b[36m(RolloutWorker pid=1736)\u001b[0m reset triggered\n",
      "\u001b[2m\u001b[36m(RolloutWorker pid=1736)\u001b[0m reload save for track : 72\n"
     ]
    },
    {
     "name": "stderr",
     "output_type": "stream",
     "text": [
      "\u001b[2m\u001b[36m(RolloutWorker pid=1736)\u001b[0m C:\\Users\\nadir\\anaconda3\\envs\\GTRay2.4.0\\lib\\site-packages\\rtgym\\envs\\real_time_env.py:376: UserWarning: Time-step timed out. Elapsed since last time-step: 0.12268679999789356\n",
      "\u001b[2m\u001b[36m(RolloutWorker pid=1736)\u001b[0m   warnings.warn(f\"Time-step timed out. Elapsed since last time-step: {now - self.__t_end}\")\n"
     ]
    },
    {
     "name": "stdout",
     "output_type": "stream",
     "text": [
      "Loop:  8\n"
     ]
    },
    {
     "name": "stderr",
     "output_type": "stream",
     "text": [
      "\u001b[2m\u001b[36m(RolloutWorker pid=1736)\u001b[0m C:\\Users\\nadir\\anaconda3\\envs\\GTRay2.4.0\\lib\\site-packages\\rtgym\\envs\\real_time_env.py:376: UserWarning: Time-step timed out. Elapsed since last time-step: 3.0579855999977212\n",
      "\u001b[2m\u001b[36m(RolloutWorker pid=1736)\u001b[0m   warnings.warn(f\"Time-step timed out. Elapsed since last time-step: {now - self.__t_end}\")\n"
     ]
    },
    {
     "name": "stdout",
     "output_type": "stream",
     "text": [
      "\u001b[2m\u001b[36m(RolloutWorker pid=1736)\u001b[0m reset triggered\n",
      "\u001b[2m\u001b[36m(RolloutWorker pid=1736)\u001b[0m reload save for track : 72\n"
     ]
    },
    {
     "name": "stderr",
     "output_type": "stream",
     "text": [
      "\u001b[2m\u001b[36m(RolloutWorker pid=1736)\u001b[0m C:\\Users\\nadir\\anaconda3\\envs\\GTRay2.4.0\\lib\\site-packages\\rtgym\\envs\\real_time_env.py:376: UserWarning: Time-step timed out. Elapsed since last time-step: 0.12835509999788997\n",
      "\u001b[2m\u001b[36m(RolloutWorker pid=1736)\u001b[0m   warnings.warn(f\"Time-step timed out. Elapsed since last time-step: {now - self.__t_end}\")\n"
     ]
    },
    {
     "name": "stdout",
     "output_type": "stream",
     "text": [
      "Loop:  9\n"
     ]
    },
    {
     "name": "stderr",
     "output_type": "stream",
     "text": [
      "\u001b[2m\u001b[36m(RolloutWorker pid=1736)\u001b[0m C:\\Users\\nadir\\anaconda3\\envs\\GTRay2.4.0\\lib\\site-packages\\rtgym\\envs\\real_time_env.py:376: UserWarning: Time-step timed out. Elapsed since last time-step: 3.068887299997755\n",
      "\u001b[2m\u001b[36m(RolloutWorker pid=1736)\u001b[0m   warnings.warn(f\"Time-step timed out. Elapsed since last time-step: {now - self.__t_end}\")\n"
     ]
    },
    {
     "name": "stdout",
     "output_type": "stream",
     "text": [
      "\u001b[2m\u001b[36m(RolloutWorker pid=1736)\u001b[0m reset triggered\n",
      "\u001b[2m\u001b[36m(RolloutWorker pid=1736)\u001b[0m reload save for track : 72\n"
     ]
    },
    {
     "name": "stderr",
     "output_type": "stream",
     "text": [
      "\u001b[2m\u001b[36m(RolloutWorker pid=1736)\u001b[0m C:\\Users\\nadir\\anaconda3\\envs\\GTRay2.4.0\\lib\\site-packages\\rtgym\\envs\\real_time_env.py:376: UserWarning: Time-step timed out. Elapsed since last time-step: 0.14521579999788514\n",
      "\u001b[2m\u001b[36m(RolloutWorker pid=1736)\u001b[0m   warnings.warn(f\"Time-step timed out. Elapsed since last time-step: {now - self.__t_end}\")\n"
     ]
    },
    {
     "name": "stdout",
     "output_type": "stream",
     "text": [
      "Loop:  10\n",
      "Saved 10\n"
     ]
    },
    {
     "name": "stderr",
     "output_type": "stream",
     "text": [
      "\u001b[2m\u001b[36m(RolloutWorker pid=1736)\u001b[0m C:\\Users\\nadir\\anaconda3\\envs\\GTRay2.4.0\\lib\\site-packages\\rtgym\\envs\\real_time_env.py:376: UserWarning: Time-step timed out. Elapsed since last time-step: 3.0977285999977653\n",
      "\u001b[2m\u001b[36m(RolloutWorker pid=1736)\u001b[0m   warnings.warn(f\"Time-step timed out. Elapsed since last time-step: {now - self.__t_end}\")\n"
     ]
    },
    {
     "name": "stdout",
     "output_type": "stream",
     "text": [
      "\u001b[2m\u001b[36m(RolloutWorker pid=1736)\u001b[0m reset triggered\n",
      "\u001b[2m\u001b[36m(RolloutWorker pid=1736)\u001b[0m reload save for track : 72\n"
     ]
    },
    {
     "name": "stderr",
     "output_type": "stream",
     "text": [
      "\u001b[2m\u001b[36m(RolloutWorker pid=1736)\u001b[0m C:\\Users\\nadir\\anaconda3\\envs\\GTRay2.4.0\\lib\\site-packages\\rtgym\\envs\\real_time_env.py:376: UserWarning: Time-step timed out. Elapsed since last time-step: 0.12230479999840327\n",
      "\u001b[2m\u001b[36m(RolloutWorker pid=1736)\u001b[0m   warnings.warn(f\"Time-step timed out. Elapsed since last time-step: {now - self.__t_end}\")\n"
     ]
    },
    {
     "name": "stdout",
     "output_type": "stream",
     "text": [
      "Loop:  11\n"
     ]
    },
    {
     "name": "stderr",
     "output_type": "stream",
     "text": [
      "\u001b[2m\u001b[36m(RolloutWorker pid=1736)\u001b[0m C:\\Users\\nadir\\anaconda3\\envs\\GTRay2.4.0\\lib\\site-packages\\rtgym\\envs\\real_time_env.py:376: UserWarning: Time-step timed out. Elapsed since last time-step: 3.003896899997187\n",
      "\u001b[2m\u001b[36m(RolloutWorker pid=1736)\u001b[0m   warnings.warn(f\"Time-step timed out. Elapsed since last time-step: {now - self.__t_end}\")\n"
     ]
    },
    {
     "name": "stdout",
     "output_type": "stream",
     "text": [
      "\u001b[2m\u001b[36m(RolloutWorker pid=1736)\u001b[0m reset triggered\n",
      "\u001b[2m\u001b[36m(RolloutWorker pid=1736)\u001b[0m reload save for track : 72\n"
     ]
    },
    {
     "name": "stderr",
     "output_type": "stream",
     "text": [
      "\u001b[2m\u001b[36m(RolloutWorker pid=1736)\u001b[0m C:\\Users\\nadir\\anaconda3\\envs\\GTRay2.4.0\\lib\\site-packages\\rtgym\\envs\\real_time_env.py:376: UserWarning: Time-step timed out. Elapsed since last time-step: 0.12699089999841817\n",
      "\u001b[2m\u001b[36m(RolloutWorker pid=1736)\u001b[0m   warnings.warn(f\"Time-step timed out. Elapsed since last time-step: {now - self.__t_end}\")\n"
     ]
    },
    {
     "name": "stdout",
     "output_type": "stream",
     "text": [
      "Loop:  12\n"
     ]
    },
    {
     "name": "stderr",
     "output_type": "stream",
     "text": [
      "\u001b[2m\u001b[36m(RolloutWorker pid=1736)\u001b[0m C:\\Users\\nadir\\anaconda3\\envs\\GTRay2.4.0\\lib\\site-packages\\rtgym\\envs\\real_time_env.py:376: UserWarning: Time-step timed out. Elapsed since last time-step: 3.0408216999972524\n",
      "\u001b[2m\u001b[36m(RolloutWorker pid=1736)\u001b[0m   warnings.warn(f\"Time-step timed out. Elapsed since last time-step: {now - self.__t_end}\")\n"
     ]
    },
    {
     "name": "stdout",
     "output_type": "stream",
     "text": [
      "\u001b[2m\u001b[36m(RolloutWorker pid=1736)\u001b[0m reset triggered\n",
      "\u001b[2m\u001b[36m(RolloutWorker pid=1736)\u001b[0m reload save for track : 72\n"
     ]
    },
    {
     "name": "stderr",
     "output_type": "stream",
     "text": [
      "\u001b[2m\u001b[36m(RolloutWorker pid=1736)\u001b[0m C:\\Users\\nadir\\anaconda3\\envs\\GTRay2.4.0\\lib\\site-packages\\rtgym\\envs\\real_time_env.py:376: UserWarning: Time-step timed out. Elapsed since last time-step: 0.1286392999983832\n",
      "\u001b[2m\u001b[36m(RolloutWorker pid=1736)\u001b[0m   warnings.warn(f\"Time-step timed out. Elapsed since last time-step: {now - self.__t_end}\")\n"
     ]
    },
    {
     "name": "stdout",
     "output_type": "stream",
     "text": [
      "Loop:  13\n"
     ]
    },
    {
     "name": "stderr",
     "output_type": "stream",
     "text": [
      "\u001b[2m\u001b[36m(RolloutWorker pid=1736)\u001b[0m C:\\Users\\nadir\\anaconda3\\envs\\GTRay2.4.0\\lib\\site-packages\\rtgym\\envs\\real_time_env.py:376: UserWarning: Time-step timed out. Elapsed since last time-step: 2.8734029999972677\n",
      "\u001b[2m\u001b[36m(RolloutWorker pid=1736)\u001b[0m   warnings.warn(f\"Time-step timed out. Elapsed since last time-step: {now - self.__t_end}\")\n"
     ]
    },
    {
     "name": "stdout",
     "output_type": "stream",
     "text": [
      "\u001b[2m\u001b[36m(RolloutWorker pid=1736)\u001b[0m reset triggered\n",
      "\u001b[2m\u001b[36m(RolloutWorker pid=1736)\u001b[0m reload save for track : 72\n"
     ]
    },
    {
     "name": "stderr",
     "output_type": "stream",
     "text": [
      "\u001b[2m\u001b[36m(RolloutWorker pid=1736)\u001b[0m C:\\Users\\nadir\\anaconda3\\envs\\GTRay2.4.0\\lib\\site-packages\\rtgym\\envs\\real_time_env.py:376: UserWarning: Time-step timed out. Elapsed since last time-step: 0.14630419999838296\n",
      "\u001b[2m\u001b[36m(RolloutWorker pid=1736)\u001b[0m   warnings.warn(f\"Time-step timed out. Elapsed since last time-step: {now - self.__t_end}\")\n"
     ]
    },
    {
     "name": "stdout",
     "output_type": "stream",
     "text": [
      "Loop:  14\n"
     ]
    },
    {
     "name": "stderr",
     "output_type": "stream",
     "text": [
      "\u001b[2m\u001b[36m(RolloutWorker pid=1736)\u001b[0m C:\\Users\\nadir\\anaconda3\\envs\\GTRay2.4.0\\lib\\site-packages\\rtgym\\envs\\real_time_env.py:376: UserWarning: Time-step timed out. Elapsed since last time-step: 3.0685336999972037\n",
      "\u001b[2m\u001b[36m(RolloutWorker pid=1736)\u001b[0m   warnings.warn(f\"Time-step timed out. Elapsed since last time-step: {now - self.__t_end}\")\n"
     ]
    },
    {
     "name": "stdout",
     "output_type": "stream",
     "text": [
      "\u001b[2m\u001b[36m(RolloutWorker pid=1736)\u001b[0m reset triggered\n",
      "\u001b[2m\u001b[36m(RolloutWorker pid=1736)\u001b[0m reload save for track : 72\n"
     ]
    },
    {
     "name": "stderr",
     "output_type": "stream",
     "text": [
      "\u001b[2m\u001b[36m(RolloutWorker pid=1736)\u001b[0m C:\\Users\\nadir\\anaconda3\\envs\\GTRay2.4.0\\lib\\site-packages\\rtgym\\envs\\real_time_env.py:376: UserWarning: Time-step timed out. Elapsed since last time-step: 0.12120569999842701\n",
      "\u001b[2m\u001b[36m(RolloutWorker pid=1736)\u001b[0m   warnings.warn(f\"Time-step timed out. Elapsed since last time-step: {now - self.__t_end}\")\n"
     ]
    },
    {
     "name": "stdout",
     "output_type": "stream",
     "text": [
      "Loop:  15\n"
     ]
    },
    {
     "name": "stderr",
     "output_type": "stream",
     "text": [
      "\u001b[2m\u001b[36m(RolloutWorker pid=1736)\u001b[0m C:\\Users\\nadir\\anaconda3\\envs\\GTRay2.4.0\\lib\\site-packages\\rtgym\\envs\\real_time_env.py:376: UserWarning: Time-step timed out. Elapsed since last time-step: 3.072088299997233\n",
      "\u001b[2m\u001b[36m(RolloutWorker pid=1736)\u001b[0m   warnings.warn(f\"Time-step timed out. Elapsed since last time-step: {now - self.__t_end}\")\n",
      "\u001b[2m\u001b[36m(RolloutWorker pid=1736)\u001b[0m C:\\Users\\nadir\\anaconda3\\envs\\GTRay2.4.0\\lib\\site-packages\\rtgym\\envs\\real_time_env.py:376: UserWarning: Time-step timed out. Elapsed since last time-step: 0.13190549999836776\n",
      "\u001b[2m\u001b[36m(RolloutWorker pid=1736)\u001b[0m   warnings.warn(f\"Time-step timed out. Elapsed since last time-step: {now - self.__t_end}\")\n"
     ]
    },
    {
     "name": "stdout",
     "output_type": "stream",
     "text": [
      "\u001b[2m\u001b[36m(RolloutWorker pid=1736)\u001b[0m reset triggered\n",
      "\u001b[2m\u001b[36m(RolloutWorker pid=1736)\u001b[0m reload save for track : 72\n",
      "Loop:  16\n"
     ]
    },
    {
     "name": "stderr",
     "output_type": "stream",
     "text": [
      "\u001b[2m\u001b[36m(RolloutWorker pid=1736)\u001b[0m C:\\Users\\nadir\\anaconda3\\envs\\GTRay2.4.0\\lib\\site-packages\\rtgym\\envs\\real_time_env.py:376: UserWarning: Time-step timed out. Elapsed since last time-step: 3.042991399997277\n",
      "\u001b[2m\u001b[36m(RolloutWorker pid=1736)\u001b[0m   warnings.warn(f\"Time-step timed out. Elapsed since last time-step: {now - self.__t_end}\")\n"
     ]
    },
    {
     "name": "stdout",
     "output_type": "stream",
     "text": [
      "\u001b[2m\u001b[36m(RolloutWorker pid=1736)\u001b[0m reset triggered\n",
      "\u001b[2m\u001b[36m(RolloutWorker pid=1736)\u001b[0m reload save for track : 72\n"
     ]
    },
    {
     "name": "stderr",
     "output_type": "stream",
     "text": [
      "\u001b[2m\u001b[36m(RolloutWorker pid=1736)\u001b[0m C:\\Users\\nadir\\anaconda3\\envs\\GTRay2.4.0\\lib\\site-packages\\rtgym\\envs\\real_time_env.py:376: UserWarning: Time-step timed out. Elapsed since last time-step: 0.12952909999836493\n",
      "\u001b[2m\u001b[36m(RolloutWorker pid=1736)\u001b[0m   warnings.warn(f\"Time-step timed out. Elapsed since last time-step: {now - self.__t_end}\")\n"
     ]
    },
    {
     "name": "stdout",
     "output_type": "stream",
     "text": [
      "Loop:  17\n"
     ]
    },
    {
     "name": "stderr",
     "output_type": "stream",
     "text": [
      "\u001b[2m\u001b[36m(RolloutWorker pid=1736)\u001b[0m C:\\Users\\nadir\\anaconda3\\envs\\GTRay2.4.0\\lib\\site-packages\\rtgym\\envs\\real_time_env.py:376: UserWarning: Time-step timed out. Elapsed since last time-step: 3.0594331999972724\n",
      "\u001b[2m\u001b[36m(RolloutWorker pid=1736)\u001b[0m   warnings.warn(f\"Time-step timed out. Elapsed since last time-step: {now - self.__t_end}\")\n"
     ]
    },
    {
     "name": "stdout",
     "output_type": "stream",
     "text": [
      "\u001b[2m\u001b[36m(RolloutWorker pid=1736)\u001b[0m reset triggered\n",
      "\u001b[2m\u001b[36m(RolloutWorker pid=1736)\u001b[0m reload save for track : 72\n"
     ]
    },
    {
     "name": "stderr",
     "output_type": "stream",
     "text": [
      "\u001b[2m\u001b[36m(RolloutWorker pid=1736)\u001b[0m C:\\Users\\nadir\\anaconda3\\envs\\GTRay2.4.0\\lib\\site-packages\\rtgym\\envs\\real_time_env.py:376: UserWarning: Time-step timed out. Elapsed since last time-step: 0.15441369999837207\n",
      "\u001b[2m\u001b[36m(RolloutWorker pid=1736)\u001b[0m   warnings.warn(f\"Time-step timed out. Elapsed since last time-step: {now - self.__t_end}\")\n"
     ]
    },
    {
     "name": "stdout",
     "output_type": "stream",
     "text": [
      "Loop:  18\n"
     ]
    },
    {
     "name": "stderr",
     "output_type": "stream",
     "text": [
      "\u001b[2m\u001b[36m(RolloutWorker pid=1736)\u001b[0m C:\\Users\\nadir\\anaconda3\\envs\\GTRay2.4.0\\lib\\site-packages\\rtgym\\envs\\real_time_env.py:376: UserWarning: Time-step timed out. Elapsed since last time-step: 3.0610592999972255\n",
      "\u001b[2m\u001b[36m(RolloutWorker pid=1736)\u001b[0m   warnings.warn(f\"Time-step timed out. Elapsed since last time-step: {now - self.__t_end}\")\n",
      "\u001b[2m\u001b[36m(RolloutWorker pid=1736)\u001b[0m C:\\Users\\nadir\\anaconda3\\envs\\GTRay2.4.0\\lib\\site-packages\\rtgym\\envs\\real_time_env.py:376: UserWarning: Time-step timed out. Elapsed since last time-step: 0.1253853999984358\n",
      "\u001b[2m\u001b[36m(RolloutWorker pid=1736)\u001b[0m   warnings.warn(f\"Time-step timed out. Elapsed since last time-step: {now - self.__t_end}\")\n"
     ]
    },
    {
     "name": "stdout",
     "output_type": "stream",
     "text": [
      "\u001b[2m\u001b[36m(RolloutWorker pid=1736)\u001b[0m reset triggered\n",
      "\u001b[2m\u001b[36m(RolloutWorker pid=1736)\u001b[0m reload save for track : 72\n",
      "Loop:  19\n"
     ]
    },
    {
     "name": "stderr",
     "output_type": "stream",
     "text": [
      "\u001b[2m\u001b[36m(RolloutWorker pid=1736)\u001b[0m C:\\Users\\nadir\\anaconda3\\envs\\GTRay2.4.0\\lib\\site-packages\\rtgym\\envs\\real_time_env.py:376: UserWarning: Time-step timed out. Elapsed since last time-step: 3.060787499997218\n",
      "\u001b[2m\u001b[36m(RolloutWorker pid=1736)\u001b[0m   warnings.warn(f\"Time-step timed out. Elapsed since last time-step: {now - self.__t_end}\")\n"
     ]
    },
    {
     "name": "stdout",
     "output_type": "stream",
     "text": [
      "\u001b[2m\u001b[36m(RolloutWorker pid=1736)\u001b[0m reset triggered\n",
      "\u001b[2m\u001b[36m(RolloutWorker pid=1736)\u001b[0m reload save for track : 72\n"
     ]
    },
    {
     "name": "stderr",
     "output_type": "stream",
     "text": [
      "\u001b[2m\u001b[36m(RolloutWorker pid=1736)\u001b[0m C:\\Users\\nadir\\anaconda3\\envs\\GTRay2.4.0\\lib\\site-packages\\rtgym\\envs\\real_time_env.py:376: UserWarning: Time-step timed out. Elapsed since last time-step: 0.12386489999840933\n",
      "\u001b[2m\u001b[36m(RolloutWorker pid=1736)\u001b[0m   warnings.warn(f\"Time-step timed out. Elapsed since last time-step: {now - self.__t_end}\")\n"
     ]
    },
    {
     "name": "stdout",
     "output_type": "stream",
     "text": [
      "Loop:  20\n",
      "Saved 20\n"
     ]
    },
    {
     "name": "stderr",
     "output_type": "stream",
     "text": [
      "\u001b[2m\u001b[36m(RolloutWorker pid=1736)\u001b[0m C:\\Users\\nadir\\anaconda3\\envs\\GTRay2.4.0\\lib\\site-packages\\rtgym\\envs\\real_time_env.py:376: UserWarning: Time-step timed out. Elapsed since last time-step: 3.1184046999971997\n",
      "\u001b[2m\u001b[36m(RolloutWorker pid=1736)\u001b[0m   warnings.warn(f\"Time-step timed out. Elapsed since last time-step: {now - self.__t_end}\")\n"
     ]
    },
    {
     "name": "stdout",
     "output_type": "stream",
     "text": [
      "\u001b[2m\u001b[36m(RolloutWorker pid=1736)\u001b[0m reset triggered\n",
      "\u001b[2m\u001b[36m(RolloutWorker pid=1736)\u001b[0m reload save for track : 72\n"
     ]
    },
    {
     "name": "stderr",
     "output_type": "stream",
     "text": [
      "\u001b[2m\u001b[36m(RolloutWorker pid=1736)\u001b[0m C:\\Users\\nadir\\anaconda3\\envs\\GTRay2.4.0\\lib\\site-packages\\rtgym\\envs\\real_time_env.py:376: UserWarning: Time-step timed out. Elapsed since last time-step: 0.14094599999839375\n",
      "\u001b[2m\u001b[36m(RolloutWorker pid=1736)\u001b[0m   warnings.warn(f\"Time-step timed out. Elapsed since last time-step: {now - self.__t_end}\")\n"
     ]
    },
    {
     "name": "stdout",
     "output_type": "stream",
     "text": [
      "Loop:  21\n"
     ]
    },
    {
     "name": "stderr",
     "output_type": "stream",
     "text": [
      "\u001b[2m\u001b[36m(RolloutWorker pid=1736)\u001b[0m C:\\Users\\nadir\\anaconda3\\envs\\GTRay2.4.0\\lib\\site-packages\\rtgym\\envs\\real_time_env.py:376: UserWarning: Time-step timed out. Elapsed since last time-step: 2.9814327999972647\n",
      "\u001b[2m\u001b[36m(RolloutWorker pid=1736)\u001b[0m   warnings.warn(f\"Time-step timed out. Elapsed since last time-step: {now - self.__t_end}\")\n"
     ]
    },
    {
     "name": "stdout",
     "output_type": "stream",
     "text": [
      "\u001b[2m\u001b[36m(RolloutWorker pid=1736)\u001b[0m reset triggered\n",
      "\u001b[2m\u001b[36m(RolloutWorker pid=1736)\u001b[0m reload save for track : 72\n"
     ]
    },
    {
     "name": "stderr",
     "output_type": "stream",
     "text": [
      "\u001b[2m\u001b[36m(RolloutWorker pid=1736)\u001b[0m C:\\Users\\nadir\\anaconda3\\envs\\GTRay2.4.0\\lib\\site-packages\\rtgym\\envs\\real_time_env.py:376: UserWarning: Time-step timed out. Elapsed since last time-step: 0.12873449999835884\n",
      "\u001b[2m\u001b[36m(RolloutWorker pid=1736)\u001b[0m   warnings.warn(f\"Time-step timed out. Elapsed since last time-step: {now - self.__t_end}\")\n"
     ]
    },
    {
     "name": "stdout",
     "output_type": "stream",
     "text": [
      "Loop:  22\n"
     ]
    },
    {
     "name": "stderr",
     "output_type": "stream",
     "text": [
      "\u001b[2m\u001b[36m(RolloutWorker pid=1736)\u001b[0m C:\\Users\\nadir\\anaconda3\\envs\\GTRay2.4.0\\lib\\site-packages\\rtgym\\envs\\real_time_env.py:376: UserWarning: Time-step timed out. Elapsed since last time-step: 3.069060300011074\n",
      "\u001b[2m\u001b[36m(RolloutWorker pid=1736)\u001b[0m   warnings.warn(f\"Time-step timed out. Elapsed since last time-step: {now - self.__t_end}\")\n"
     ]
    },
    {
     "name": "stdout",
     "output_type": "stream",
     "text": [
      "\u001b[2m\u001b[36m(RolloutWorker pid=1736)\u001b[0m reset triggered\n",
      "\u001b[2m\u001b[36m(RolloutWorker pid=1736)\u001b[0m reload save for track : 72\n"
     ]
    },
    {
     "name": "stderr",
     "output_type": "stream",
     "text": [
      "\u001b[2m\u001b[36m(RolloutWorker pid=1736)\u001b[0m C:\\Users\\nadir\\anaconda3\\envs\\GTRay2.4.0\\lib\\site-packages\\rtgym\\envs\\real_time_env.py:376: UserWarning: Time-step timed out. Elapsed since last time-step: 0.12269650000644106\n",
      "\u001b[2m\u001b[36m(RolloutWorker pid=1736)\u001b[0m   warnings.warn(f\"Time-step timed out. Elapsed since last time-step: {now - self.__t_end}\")\n"
     ]
    },
    {
     "name": "stdout",
     "output_type": "stream",
     "text": [
      "Loop:  23\n"
     ]
    },
    {
     "name": "stderr",
     "output_type": "stream",
     "text": [
      "\u001b[2m\u001b[36m(RolloutWorker pid=1736)\u001b[0m C:\\Users\\nadir\\anaconda3\\envs\\GTRay2.4.0\\lib\\site-packages\\rtgym\\envs\\real_time_env.py:376: UserWarning: Time-step timed out. Elapsed since last time-step: 2.8772740000110844\n",
      "\u001b[2m\u001b[36m(RolloutWorker pid=1736)\u001b[0m   warnings.warn(f\"Time-step timed out. Elapsed since last time-step: {now - self.__t_end}\")\n",
      "\u001b[2m\u001b[36m(RolloutWorker pid=1736)\u001b[0m C:\\Users\\nadir\\anaconda3\\envs\\GTRay2.4.0\\lib\\site-packages\\rtgym\\envs\\real_time_env.py:376: UserWarning: Time-step timed out. Elapsed since last time-step: 0.13075670000637274\n",
      "\u001b[2m\u001b[36m(RolloutWorker pid=1736)\u001b[0m   warnings.warn(f\"Time-step timed out. Elapsed since last time-step: {now - self.__t_end}\")\n"
     ]
    },
    {
     "name": "stdout",
     "output_type": "stream",
     "text": [
      "\u001b[2m\u001b[36m(RolloutWorker pid=1736)\u001b[0m reset triggered\n",
      "\u001b[2m\u001b[36m(RolloutWorker pid=1736)\u001b[0m reload save for track : 72\n",
      "Loop:  24\n"
     ]
    },
    {
     "name": "stderr",
     "output_type": "stream",
     "text": [
      "\u001b[2m\u001b[36m(RolloutWorker pid=1736)\u001b[0m C:\\Users\\nadir\\anaconda3\\envs\\GTRay2.4.0\\lib\\site-packages\\rtgym\\envs\\real_time_env.py:376: UserWarning: Time-step timed out. Elapsed since last time-step: 3.0806349000110913\n",
      "\u001b[2m\u001b[36m(RolloutWorker pid=1736)\u001b[0m   warnings.warn(f\"Time-step timed out. Elapsed since last time-step: {now - self.__t_end}\")\n"
     ]
    },
    {
     "name": "stdout",
     "output_type": "stream",
     "text": [
      "\u001b[2m\u001b[36m(RolloutWorker pid=1736)\u001b[0m reset triggered\n",
      "\u001b[2m\u001b[36m(RolloutWorker pid=1736)\u001b[0m reload save for track : 72\n"
     ]
    },
    {
     "name": "stderr",
     "output_type": "stream",
     "text": [
      "\u001b[2m\u001b[36m(RolloutWorker pid=1736)\u001b[0m C:\\Users\\nadir\\anaconda3\\envs\\GTRay2.4.0\\lib\\site-packages\\rtgym\\envs\\real_time_env.py:376: UserWarning: Time-step timed out. Elapsed since last time-step: 0.11931070000639465\n",
      "\u001b[2m\u001b[36m(RolloutWorker pid=1736)\u001b[0m   warnings.warn(f\"Time-step timed out. Elapsed since last time-step: {now - self.__t_end}\")\n"
     ]
    },
    {
     "name": "stdout",
     "output_type": "stream",
     "text": [
      "Loop:  25\n"
     ]
    },
    {
     "name": "stderr",
     "output_type": "stream",
     "text": [
      "\u001b[2m\u001b[36m(RolloutWorker pid=1736)\u001b[0m C:\\Users\\nadir\\anaconda3\\envs\\GTRay2.4.0\\lib\\site-packages\\rtgym\\envs\\real_time_env.py:376: UserWarning: Time-step timed out. Elapsed since last time-step: 3.221173100011015\n",
      "\u001b[2m\u001b[36m(RolloutWorker pid=1736)\u001b[0m   warnings.warn(f\"Time-step timed out. Elapsed since last time-step: {now - self.__t_end}\")\n"
     ]
    },
    {
     "name": "stdout",
     "output_type": "stream",
     "text": [
      "\u001b[2m\u001b[36m(RolloutWorker pid=1736)\u001b[0m reset triggered\n",
      "\u001b[2m\u001b[36m(RolloutWorker pid=1736)\u001b[0m reload save for track : 72\n"
     ]
    },
    {
     "name": "stderr",
     "output_type": "stream",
     "text": [
      "\u001b[2m\u001b[36m(RolloutWorker pid=1736)\u001b[0m C:\\Users\\nadir\\anaconda3\\envs\\GTRay2.4.0\\lib\\site-packages\\rtgym\\envs\\real_time_env.py:376: UserWarning: Time-step timed out. Elapsed since last time-step: 0.11527780000574239\n",
      "\u001b[2m\u001b[36m(RolloutWorker pid=1736)\u001b[0m   warnings.warn(f\"Time-step timed out. Elapsed since last time-step: {now - self.__t_end}\")\n",
      "\u001b[2m\u001b[36m(RolloutWorker pid=1736)\u001b[0m C:\\Users\\nadir\\anaconda3\\envs\\GTRay2.4.0\\lib\\site-packages\\rtgym\\envs\\real_time_env.py:376: UserWarning: Time-step timed out. Elapsed since last time-step: 0.05284140001162996\n",
      "\u001b[2m\u001b[36m(RolloutWorker pid=1736)\u001b[0m   warnings.warn(f\"Time-step timed out. Elapsed since last time-step: {now - self.__t_end}\")\n"
     ]
    },
    {
     "name": "stdout",
     "output_type": "stream",
     "text": [
      "Loop:  26\n"
     ]
    },
    {
     "name": "stderr",
     "output_type": "stream",
     "text": [
      "\u001b[2m\u001b[36m(RolloutWorker pid=1736)\u001b[0m C:\\Users\\nadir\\anaconda3\\envs\\GTRay2.4.0\\lib\\site-packages\\rtgym\\envs\\real_time_env.py:376: UserWarning: Time-step timed out. Elapsed since last time-step: 2.865471100000036\n",
      "\u001b[2m\u001b[36m(RolloutWorker pid=1736)\u001b[0m   warnings.warn(f\"Time-step timed out. Elapsed since last time-step: {now - self.__t_end}\")\n"
     ]
    },
    {
     "name": "stdout",
     "output_type": "stream",
     "text": [
      "\u001b[2m\u001b[36m(RolloutWorker pid=1736)\u001b[0m reset triggered\n",
      "\u001b[2m\u001b[36m(RolloutWorker pid=1736)\u001b[0m reload save for track : 72\n"
     ]
    },
    {
     "name": "stderr",
     "output_type": "stream",
     "text": [
      "\u001b[2m\u001b[36m(RolloutWorker pid=1736)\u001b[0m C:\\Users\\nadir\\anaconda3\\envs\\GTRay2.4.0\\lib\\site-packages\\rtgym\\envs\\real_time_env.py:376: UserWarning: Time-step timed out. Elapsed since last time-step: 0.13543510000579317\n",
      "\u001b[2m\u001b[36m(RolloutWorker pid=1736)\u001b[0m   warnings.warn(f\"Time-step timed out. Elapsed since last time-step: {now - self.__t_end}\")\n"
     ]
    },
    {
     "name": "stdout",
     "output_type": "stream",
     "text": [
      "Loop:  27\n"
     ]
    },
    {
     "name": "stderr",
     "output_type": "stream",
     "text": [
      "\u001b[2m\u001b[36m(RolloutWorker pid=1736)\u001b[0m C:\\Users\\nadir\\anaconda3\\envs\\GTRay2.4.0\\lib\\site-packages\\rtgym\\envs\\real_time_env.py:376: UserWarning: Time-step timed out. Elapsed since last time-step: 3.072435700011738\n",
      "\u001b[2m\u001b[36m(RolloutWorker pid=1736)\u001b[0m   warnings.warn(f\"Time-step timed out. Elapsed since last time-step: {now - self.__t_end}\")\n",
      "\u001b[2m\u001b[36m(RolloutWorker pid=1736)\u001b[0m C:\\Users\\nadir\\anaconda3\\envs\\GTRay2.4.0\\lib\\site-packages\\rtgym\\envs\\real_time_env.py:376: UserWarning: Time-step timed out. Elapsed since last time-step: 0.14795080000578764\n",
      "\u001b[2m\u001b[36m(RolloutWorker pid=1736)\u001b[0m   warnings.warn(f\"Time-step timed out. Elapsed since last time-step: {now - self.__t_end}\")\n"
     ]
    },
    {
     "name": "stdout",
     "output_type": "stream",
     "text": [
      "\u001b[2m\u001b[36m(RolloutWorker pid=1736)\u001b[0m reset triggered\n",
      "\u001b[2m\u001b[36m(RolloutWorker pid=1736)\u001b[0m reload save for track : 72\n",
      "Loop:  28\n"
     ]
    },
    {
     "name": "stderr",
     "output_type": "stream",
     "text": [
      "\u001b[2m\u001b[36m(RolloutWorker pid=1736)\u001b[0m C:\\Users\\nadir\\anaconda3\\envs\\GTRay2.4.0\\lib\\site-packages\\rtgym\\envs\\real_time_env.py:376: UserWarning: Time-step timed out. Elapsed since last time-step: 3.0293062000116606\n",
      "\u001b[2m\u001b[36m(RolloutWorker pid=1736)\u001b[0m   warnings.warn(f\"Time-step timed out. Elapsed since last time-step: {now - self.__t_end}\")\n",
      "\u001b[2m\u001b[36m(RolloutWorker pid=1736)\u001b[0m C:\\Users\\nadir\\anaconda3\\envs\\GTRay2.4.0\\lib\\site-packages\\rtgym\\envs\\real_time_env.py:376: UserWarning: Time-step timed out. Elapsed since last time-step: 0.09850260000530398\n",
      "\u001b[2m\u001b[36m(RolloutWorker pid=1736)\u001b[0m   warnings.warn(f\"Time-step timed out. Elapsed since last time-step: {now - self.__t_end}\")\n"
     ]
    },
    {
     "name": "stdout",
     "output_type": "stream",
     "text": [
      "\u001b[2m\u001b[36m(RolloutWorker pid=1736)\u001b[0m reset triggered\n",
      "\u001b[2m\u001b[36m(RolloutWorker pid=1736)\u001b[0m reload save for track : 72\n",
      "Loop:  29\n"
     ]
    },
    {
     "name": "stderr",
     "output_type": "stream",
     "text": [
      "\u001b[2m\u001b[36m(RolloutWorker pid=1736)\u001b[0m C:\\Users\\nadir\\anaconda3\\envs\\GTRay2.4.0\\lib\\site-packages\\rtgym\\envs\\real_time_env.py:376: UserWarning: Time-step timed out. Elapsed since last time-step: 2.882273700012206\n",
      "\u001b[2m\u001b[36m(RolloutWorker pid=1736)\u001b[0m   warnings.warn(f\"Time-step timed out. Elapsed since last time-step: {now - self.__t_end}\")\n"
     ]
    },
    {
     "name": "stdout",
     "output_type": "stream",
     "text": [
      "\u001b[2m\u001b[36m(RolloutWorker pid=1736)\u001b[0m reset triggered\n",
      "\u001b[2m\u001b[36m(RolloutWorker pid=1736)\u001b[0m reload save for track : 72\n"
     ]
    },
    {
     "name": "stderr",
     "output_type": "stream",
     "text": [
      "\u001b[2m\u001b[36m(RolloutWorker pid=1736)\u001b[0m C:\\Users\\nadir\\anaconda3\\envs\\GTRay2.4.0\\lib\\site-packages\\rtgym\\envs\\real_time_env.py:376: UserWarning: Time-step timed out. Elapsed since last time-step: 0.10984960000530464\n",
      "\u001b[2m\u001b[36m(RolloutWorker pid=1736)\u001b[0m   warnings.warn(f\"Time-step timed out. Elapsed since last time-step: {now - self.__t_end}\")\n"
     ]
    },
    {
     "name": "stdout",
     "output_type": "stream",
     "text": [
      "Loop:  30\n",
      "Saved 30\n"
     ]
    },
    {
     "name": "stderr",
     "output_type": "stream",
     "text": [
      "\u001b[2m\u001b[36m(RolloutWorker pid=1736)\u001b[0m C:\\Users\\nadir\\anaconda3\\envs\\GTRay2.4.0\\lib\\site-packages\\rtgym\\envs\\real_time_env.py:376: UserWarning: Time-step timed out. Elapsed since last time-step: 3.028908400012142\n",
      "\u001b[2m\u001b[36m(RolloutWorker pid=1736)\u001b[0m   warnings.warn(f\"Time-step timed out. Elapsed since last time-step: {now - self.__t_end}\")\n"
     ]
    },
    {
     "name": "stdout",
     "output_type": "stream",
     "text": [
      "\u001b[2m\u001b[36m(RolloutWorker pid=1736)\u001b[0m reset triggered\n",
      "\u001b[2m\u001b[36m(RolloutWorker pid=1736)\u001b[0m reload save for track : 72\n"
     ]
    },
    {
     "name": "stderr",
     "output_type": "stream",
     "text": [
      "\u001b[2m\u001b[36m(RolloutWorker pid=1736)\u001b[0m C:\\Users\\nadir\\anaconda3\\envs\\GTRay2.4.0\\lib\\site-packages\\rtgym\\envs\\real_time_env.py:376: UserWarning: Time-step timed out. Elapsed since last time-step: 0.10110060000465637\n",
      "\u001b[2m\u001b[36m(RolloutWorker pid=1736)\u001b[0m   warnings.warn(f\"Time-step timed out. Elapsed since last time-step: {now - self.__t_end}\")\n",
      "\u001b[2m\u001b[36m(RolloutWorker pid=1736)\u001b[0m C:\\Users\\nadir\\anaconda3\\envs\\GTRay2.4.0\\lib\\site-packages\\rtgym\\envs\\real_time_env.py:376: UserWarning: Time-step timed out. Elapsed since last time-step: 0.05036560001269663\n",
      "\u001b[2m\u001b[36m(RolloutWorker pid=1736)\u001b[0m   warnings.warn(f\"Time-step timed out. Elapsed since last time-step: {now - self.__t_end}\")\n"
     ]
    },
    {
     "name": "stdout",
     "output_type": "stream",
     "text": [
      "Loop:  31\n"
     ]
    },
    {
     "name": "stderr",
     "output_type": "stream",
     "text": [
      "\u001b[2m\u001b[36m(RolloutWorker pid=1736)\u001b[0m C:\\Users\\nadir\\anaconda3\\envs\\GTRay2.4.0\\lib\\site-packages\\rtgym\\envs\\real_time_env.py:376: UserWarning: Time-step timed out. Elapsed since last time-step: 2.9103777000000264\n",
      "\u001b[2m\u001b[36m(RolloutWorker pid=1736)\u001b[0m   warnings.warn(f\"Time-step timed out. Elapsed since last time-step: {now - self.__t_end}\")\n"
     ]
    },
    {
     "name": "stdout",
     "output_type": "stream",
     "text": [
      "\u001b[2m\u001b[36m(RolloutWorker pid=1736)\u001b[0m reset triggered\n",
      "\u001b[2m\u001b[36m(RolloutWorker pid=1736)\u001b[0m reload save for track : 72\n"
     ]
    },
    {
     "name": "stderr",
     "output_type": "stream",
     "text": [
      "\u001b[2m\u001b[36m(RolloutWorker pid=1736)\u001b[0m C:\\Users\\nadir\\anaconda3\\envs\\GTRay2.4.0\\lib\\site-packages\\rtgym\\envs\\real_time_env.py:376: UserWarning: Time-step timed out. Elapsed since last time-step: 0.14956130000473422\n",
      "\u001b[2m\u001b[36m(RolloutWorker pid=1736)\u001b[0m   warnings.warn(f\"Time-step timed out. Elapsed since last time-step: {now - self.__t_end}\")\n"
     ]
    },
    {
     "name": "stdout",
     "output_type": "stream",
     "text": [
      "Loop:  32\n"
     ]
    },
    {
     "name": "stderr",
     "output_type": "stream",
     "text": [
      "\u001b[2m\u001b[36m(RolloutWorker pid=1736)\u001b[0m C:\\Users\\nadir\\anaconda3\\envs\\GTRay2.4.0\\lib\\site-packages\\rtgym\\envs\\real_time_env.py:376: UserWarning: Time-step timed out. Elapsed since last time-step: 3.0398177000128044\n",
      "\u001b[2m\u001b[36m(RolloutWorker pid=1736)\u001b[0m   warnings.warn(f\"Time-step timed out. Elapsed since last time-step: {now - self.__t_end}\")\n"
     ]
    },
    {
     "name": "stdout",
     "output_type": "stream",
     "text": [
      "\u001b[2m\u001b[36m(RolloutWorker pid=1736)\u001b[0m reset triggered\n",
      "\u001b[2m\u001b[36m(RolloutWorker pid=1736)\u001b[0m reload save for track : 72\n"
     ]
    },
    {
     "name": "stderr",
     "output_type": "stream",
     "text": [
      "\u001b[2m\u001b[36m(RolloutWorker pid=1736)\u001b[0m C:\\Users\\nadir\\anaconda3\\envs\\GTRay2.4.0\\lib\\site-packages\\rtgym\\envs\\real_time_env.py:376: UserWarning: Time-step timed out. Elapsed since last time-step: 0.13607700000466139\n",
      "\u001b[2m\u001b[36m(RolloutWorker pid=1736)\u001b[0m   warnings.warn(f\"Time-step timed out. Elapsed since last time-step: {now - self.__t_end}\")\n"
     ]
    },
    {
     "name": "stdout",
     "output_type": "stream",
     "text": [
      "Loop:  33\n"
     ]
    },
    {
     "name": "stderr",
     "output_type": "stream",
     "text": [
      "\u001b[2m\u001b[36m(RolloutWorker pid=1736)\u001b[0m C:\\Users\\nadir\\anaconda3\\envs\\GTRay2.4.0\\lib\\site-packages\\rtgym\\envs\\real_time_env.py:376: UserWarning: Time-step timed out. Elapsed since last time-step: 3.0834255000128223\n",
      "\u001b[2m\u001b[36m(RolloutWorker pid=1736)\u001b[0m   warnings.warn(f\"Time-step timed out. Elapsed since last time-step: {now - self.__t_end}\")\n"
     ]
    },
    {
     "name": "stdout",
     "output_type": "stream",
     "text": [
      "\u001b[2m\u001b[36m(RolloutWorker pid=1736)\u001b[0m reset triggered\n",
      "\u001b[2m\u001b[36m(RolloutWorker pid=1736)\u001b[0m reload save for track : 72\n"
     ]
    },
    {
     "name": "stderr",
     "output_type": "stream",
     "text": [
      "\u001b[2m\u001b[36m(RolloutWorker pid=1736)\u001b[0m C:\\Users\\nadir\\anaconda3\\envs\\GTRay2.4.0\\lib\\site-packages\\rtgym\\envs\\real_time_env.py:376: UserWarning: Time-step timed out. Elapsed since last time-step: 0.14043330000470178\n",
      "\u001b[2m\u001b[36m(RolloutWorker pid=1736)\u001b[0m   warnings.warn(f\"Time-step timed out. Elapsed since last time-step: {now - self.__t_end}\")\n"
     ]
    },
    {
     "name": "stdout",
     "output_type": "stream",
     "text": [
      "Loop:  34\n"
     ]
    },
    {
     "name": "stderr",
     "output_type": "stream",
     "text": [
      "\u001b[2m\u001b[36m(RolloutWorker pid=1736)\u001b[0m C:\\Users\\nadir\\anaconda3\\envs\\GTRay2.4.0\\lib\\site-packages\\rtgym\\envs\\real_time_env.py:376: UserWarning: Time-step timed out. Elapsed since last time-step: 3.037991800012719\n",
      "\u001b[2m\u001b[36m(RolloutWorker pid=1736)\u001b[0m   warnings.warn(f\"Time-step timed out. Elapsed since last time-step: {now - self.__t_end}\")\n",
      "\u001b[2m\u001b[36m(RolloutWorker pid=1736)\u001b[0m C:\\Users\\nadir\\anaconda3\\envs\\GTRay2.4.0\\lib\\site-packages\\rtgym\\envs\\real_time_env.py:376: UserWarning: Time-step timed out. Elapsed since last time-step: 0.11230270000476139\n",
      "\u001b[2m\u001b[36m(RolloutWorker pid=1736)\u001b[0m   warnings.warn(f\"Time-step timed out. Elapsed since last time-step: {now - self.__t_end}\")\n"
     ]
    },
    {
     "name": "stdout",
     "output_type": "stream",
     "text": [
      "\u001b[2m\u001b[36m(RolloutWorker pid=1736)\u001b[0m reset triggered\n",
      "\u001b[2m\u001b[36m(RolloutWorker pid=1736)\u001b[0m reload save for track : 72\n",
      "Loop:  35\n"
     ]
    },
    {
     "name": "stderr",
     "output_type": "stream",
     "text": [
      "\u001b[2m\u001b[36m(RolloutWorker pid=1736)\u001b[0m C:\\Users\\nadir\\anaconda3\\envs\\GTRay2.4.0\\lib\\site-packages\\rtgym\\envs\\real_time_env.py:376: UserWarning: Time-step timed out. Elapsed since last time-step: 3.0906356000126607\n",
      "\u001b[2m\u001b[36m(RolloutWorker pid=1736)\u001b[0m   warnings.warn(f\"Time-step timed out. Elapsed since last time-step: {now - self.__t_end}\")\n"
     ]
    },
    {
     "name": "stdout",
     "output_type": "stream",
     "text": [
      "\u001b[2m\u001b[36m(RolloutWorker pid=1736)\u001b[0m reset triggered\n",
      "\u001b[2m\u001b[36m(RolloutWorker pid=1736)\u001b[0m reload save for track : 72\n"
     ]
    },
    {
     "name": "stderr",
     "output_type": "stream",
     "text": [
      "\u001b[2m\u001b[36m(RolloutWorker pid=1736)\u001b[0m C:\\Users\\nadir\\anaconda3\\envs\\GTRay2.4.0\\lib\\site-packages\\rtgym\\envs\\real_time_env.py:376: UserWarning: Time-step timed out. Elapsed since last time-step: 0.10966110000481422\n",
      "\u001b[2m\u001b[36m(RolloutWorker pid=1736)\u001b[0m   warnings.warn(f\"Time-step timed out. Elapsed since last time-step: {now - self.__t_end}\")\n"
     ]
    },
    {
     "name": "stdout",
     "output_type": "stream",
     "text": [
      "Loop:  36\n"
     ]
    },
    {
     "name": "stderr",
     "output_type": "stream",
     "text": [
      "\u001b[2m\u001b[36m(RolloutWorker pid=1736)\u001b[0m C:\\Users\\nadir\\anaconda3\\envs\\GTRay2.4.0\\lib\\site-packages\\rtgym\\envs\\real_time_env.py:376: UserWarning: Time-step timed out. Elapsed since last time-step: 3.0620087000127114\n",
      "\u001b[2m\u001b[36m(RolloutWorker pid=1736)\u001b[0m   warnings.warn(f\"Time-step timed out. Elapsed since last time-step: {now - self.__t_end}\")\n"
     ]
    },
    {
     "name": "stdout",
     "output_type": "stream",
     "text": [
      "\u001b[2m\u001b[36m(RolloutWorker pid=1736)\u001b[0m reset triggered\n",
      "\u001b[2m\u001b[36m(RolloutWorker pid=1736)\u001b[0m reload save for track : 72\n"
     ]
    },
    {
     "name": "stderr",
     "output_type": "stream",
     "text": [
      "\u001b[2m\u001b[36m(RolloutWorker pid=1736)\u001b[0m C:\\Users\\nadir\\anaconda3\\envs\\GTRay2.4.0\\lib\\site-packages\\rtgym\\envs\\real_time_env.py:376: UserWarning: Time-step timed out. Elapsed since last time-step: 0.1639973000046666\n",
      "\u001b[2m\u001b[36m(RolloutWorker pid=1736)\u001b[0m   warnings.warn(f\"Time-step timed out. Elapsed since last time-step: {now - self.__t_end}\")\n"
     ]
    },
    {
     "name": "stdout",
     "output_type": "stream",
     "text": [
      "Loop:  37\n"
     ]
    },
    {
     "name": "stderr",
     "output_type": "stream",
     "text": [
      "\u001b[2m\u001b[36m(RolloutWorker pid=1736)\u001b[0m C:\\Users\\nadir\\anaconda3\\envs\\GTRay2.4.0\\lib\\site-packages\\rtgym\\envs\\real_time_env.py:376: UserWarning: Time-step timed out. Elapsed since last time-step: 3.0261057000127494\n",
      "\u001b[2m\u001b[36m(RolloutWorker pid=1736)\u001b[0m   warnings.warn(f\"Time-step timed out. Elapsed since last time-step: {now - self.__t_end}\")\n"
     ]
    },
    {
     "name": "stdout",
     "output_type": "stream",
     "text": [
      "\u001b[2m\u001b[36m(RolloutWorker pid=1736)\u001b[0m reset triggered\n",
      "\u001b[2m\u001b[36m(RolloutWorker pid=1736)\u001b[0m reload save for track : 72\n"
     ]
    },
    {
     "name": "stderr",
     "output_type": "stream",
     "text": [
      "\u001b[2m\u001b[36m(RolloutWorker pid=1736)\u001b[0m C:\\Users\\nadir\\anaconda3\\envs\\GTRay2.4.0\\lib\\site-packages\\rtgym\\envs\\real_time_env.py:376: UserWarning: Time-step timed out. Elapsed since last time-step: 0.1296912000047996\n",
      "\u001b[2m\u001b[36m(RolloutWorker pid=1736)\u001b[0m   warnings.warn(f\"Time-step timed out. Elapsed since last time-step: {now - self.__t_end}\")\n"
     ]
    },
    {
     "name": "stdout",
     "output_type": "stream",
     "text": [
      "Loop:  38\n"
     ]
    },
    {
     "name": "stderr",
     "output_type": "stream",
     "text": [
      "\u001b[2m\u001b[36m(RolloutWorker pid=1736)\u001b[0m C:\\Users\\nadir\\anaconda3\\envs\\GTRay2.4.0\\lib\\site-packages\\rtgym\\envs\\real_time_env.py:376: UserWarning: Time-step timed out. Elapsed since last time-step: 3.09192530001269\n",
      "\u001b[2m\u001b[36m(RolloutWorker pid=1736)\u001b[0m   warnings.warn(f\"Time-step timed out. Elapsed since last time-step: {now - self.__t_end}\")\n"
     ]
    },
    {
     "name": "stdout",
     "output_type": "stream",
     "text": [
      "\u001b[2m\u001b[36m(RolloutWorker pid=1736)\u001b[0m reset triggered\n",
      "\u001b[2m\u001b[36m(RolloutWorker pid=1736)\u001b[0m reload save for track : 72\n"
     ]
    },
    {
     "name": "stderr",
     "output_type": "stream",
     "text": [
      "\u001b[2m\u001b[36m(RolloutWorker pid=1736)\u001b[0m C:\\Users\\nadir\\anaconda3\\envs\\GTRay2.4.0\\lib\\site-packages\\rtgym\\envs\\real_time_env.py:376: UserWarning: Time-step timed out. Elapsed since last time-step: 0.1425192000046991\n",
      "\u001b[2m\u001b[36m(RolloutWorker pid=1736)\u001b[0m   warnings.warn(f\"Time-step timed out. Elapsed since last time-step: {now - self.__t_end}\")\n"
     ]
    },
    {
     "name": "stdout",
     "output_type": "stream",
     "text": [
      "Loop:  39\n"
     ]
    },
    {
     "name": "stderr",
     "output_type": "stream",
     "text": [
      "\u001b[2m\u001b[36m(RolloutWorker pid=1736)\u001b[0m C:\\Users\\nadir\\anaconda3\\envs\\GTRay2.4.0\\lib\\site-packages\\rtgym\\envs\\real_time_env.py:376: UserWarning: Time-step timed out. Elapsed since last time-step: 3.030147500012731\n",
      "\u001b[2m\u001b[36m(RolloutWorker pid=1736)\u001b[0m   warnings.warn(f\"Time-step timed out. Elapsed since last time-step: {now - self.__t_end}\")\n"
     ]
    },
    {
     "name": "stdout",
     "output_type": "stream",
     "text": [
      "\u001b[2m\u001b[36m(RolloutWorker pid=1736)\u001b[0m reset triggered\n",
      "\u001b[2m\u001b[36m(RolloutWorker pid=1736)\u001b[0m reload save for track : 72\n"
     ]
    },
    {
     "name": "stderr",
     "output_type": "stream",
     "text": [
      "\u001b[2m\u001b[36m(RolloutWorker pid=1736)\u001b[0m C:\\Users\\nadir\\anaconda3\\envs\\GTRay2.4.0\\lib\\site-packages\\rtgym\\envs\\real_time_env.py:376: UserWarning: Time-step timed out. Elapsed since last time-step: 0.1334018000047763\n",
      "\u001b[2m\u001b[36m(RolloutWorker pid=1736)\u001b[0m   warnings.warn(f\"Time-step timed out. Elapsed since last time-step: {now - self.__t_end}\")\n"
     ]
    },
    {
     "name": "stdout",
     "output_type": "stream",
     "text": [
      "Loop:  40\n",
      "Saved 40\n"
     ]
    },
    {
     "name": "stderr",
     "output_type": "stream",
     "text": [
      "\u001b[2m\u001b[36m(RolloutWorker pid=1736)\u001b[0m C:\\Users\\nadir\\anaconda3\\envs\\GTRay2.4.0\\lib\\site-packages\\rtgym\\envs\\real_time_env.py:376: UserWarning: Time-step timed out. Elapsed since last time-step: 3.114719700012756\n",
      "\u001b[2m\u001b[36m(RolloutWorker pid=1736)\u001b[0m   warnings.warn(f\"Time-step timed out. Elapsed since last time-step: {now - self.__t_end}\")\n"
     ]
    },
    {
     "name": "stdout",
     "output_type": "stream",
     "text": [
      "\u001b[2m\u001b[36m(RolloutWorker pid=1736)\u001b[0m reset triggered\n",
      "\u001b[2m\u001b[36m(RolloutWorker pid=1736)\u001b[0m reload save for track : 72\n"
     ]
    },
    {
     "name": "stderr",
     "output_type": "stream",
     "text": [
      "\u001b[2m\u001b[36m(RolloutWorker pid=1736)\u001b[0m C:\\Users\\nadir\\anaconda3\\envs\\GTRay2.4.0\\lib\\site-packages\\rtgym\\envs\\real_time_env.py:376: UserWarning: Time-step timed out. Elapsed since last time-step: 0.12195390000340467\n",
      "\u001b[2m\u001b[36m(RolloutWorker pid=1736)\u001b[0m   warnings.warn(f\"Time-step timed out. Elapsed since last time-step: {now - self.__t_end}\")\n"
     ]
    },
    {
     "name": "stdout",
     "output_type": "stream",
     "text": [
      "Loop:  41\n"
     ]
    },
    {
     "name": "stderr",
     "output_type": "stream",
     "text": [
      "\u001b[2m\u001b[36m(RolloutWorker pid=1736)\u001b[0m C:\\Users\\nadir\\anaconda3\\envs\\GTRay2.4.0\\lib\\site-packages\\rtgym\\envs\\real_time_env.py:376: UserWarning: Time-step timed out. Elapsed since last time-step: 3.022412400013991\n",
      "\u001b[2m\u001b[36m(RolloutWorker pid=1736)\u001b[0m   warnings.warn(f\"Time-step timed out. Elapsed since last time-step: {now - self.__t_end}\")\n"
     ]
    },
    {
     "name": "stdout",
     "output_type": "stream",
     "text": [
      "\u001b[2m\u001b[36m(RolloutWorker pid=1736)\u001b[0m reset triggered\n",
      "\u001b[2m\u001b[36m(RolloutWorker pid=1736)\u001b[0m reload save for track : 72\n"
     ]
    },
    {
     "name": "stderr",
     "output_type": "stream",
     "text": [
      "\u001b[2m\u001b[36m(RolloutWorker pid=1736)\u001b[0m C:\\Users\\nadir\\anaconda3\\envs\\GTRay2.4.0\\lib\\site-packages\\rtgym\\envs\\real_time_env.py:376: UserWarning: Time-step timed out. Elapsed since last time-step: 0.1418713000034586\n",
      "\u001b[2m\u001b[36m(RolloutWorker pid=1736)\u001b[0m   warnings.warn(f\"Time-step timed out. Elapsed since last time-step: {now - self.__t_end}\")\n"
     ]
    },
    {
     "name": "stdout",
     "output_type": "stream",
     "text": [
      "Loop:  42\n"
     ]
    },
    {
     "name": "stderr",
     "output_type": "stream",
     "text": [
      "\u001b[2m\u001b[36m(RolloutWorker pid=1736)\u001b[0m C:\\Users\\nadir\\anaconda3\\envs\\GTRay2.4.0\\lib\\site-packages\\rtgym\\envs\\real_time_env.py:376: UserWarning: Time-step timed out. Elapsed since last time-step: 3.0505605000140577\n",
      "\u001b[2m\u001b[36m(RolloutWorker pid=1736)\u001b[0m   warnings.warn(f\"Time-step timed out. Elapsed since last time-step: {now - self.__t_end}\")\n"
     ]
    },
    {
     "name": "stdout",
     "output_type": "stream",
     "text": [
      "\u001b[2m\u001b[36m(RolloutWorker pid=1736)\u001b[0m reset triggered\n",
      "\u001b[2m\u001b[36m(RolloutWorker pid=1736)\u001b[0m reload save for track : 72\n"
     ]
    },
    {
     "name": "stderr",
     "output_type": "stream",
     "text": [
      "\u001b[2m\u001b[36m(RolloutWorker pid=1736)\u001b[0m C:\\Users\\nadir\\anaconda3\\envs\\GTRay2.4.0\\lib\\site-packages\\rtgym\\envs\\real_time_env.py:376: UserWarning: Time-step timed out. Elapsed since last time-step: 0.1488546000033466\n",
      "\u001b[2m\u001b[36m(RolloutWorker pid=1736)\u001b[0m   warnings.warn(f\"Time-step timed out. Elapsed since last time-step: {now - self.__t_end}\")\n"
     ]
    },
    {
     "name": "stdout",
     "output_type": "stream",
     "text": [
      "Loop:  43\n"
     ]
    },
    {
     "name": "stderr",
     "output_type": "stream",
     "text": [
      "\u001b[2m\u001b[36m(RolloutWorker pid=1736)\u001b[0m C:\\Users\\nadir\\anaconda3\\envs\\GTRay2.4.0\\lib\\site-packages\\rtgym\\envs\\real_time_env.py:376: UserWarning: Time-step timed out. Elapsed since last time-step: 3.0450370000140765\n",
      "\u001b[2m\u001b[36m(RolloutWorker pid=1736)\u001b[0m   warnings.warn(f\"Time-step timed out. Elapsed since last time-step: {now - self.__t_end}\")\n"
     ]
    },
    {
     "name": "stdout",
     "output_type": "stream",
     "text": [
      "\u001b[2m\u001b[36m(RolloutWorker pid=1736)\u001b[0m reset triggered\n",
      "\u001b[2m\u001b[36m(RolloutWorker pid=1736)\u001b[0m reload save for track : 72\n"
     ]
    },
    {
     "name": "stderr",
     "output_type": "stream",
     "text": [
      "\u001b[2m\u001b[36m(RolloutWorker pid=1736)\u001b[0m C:\\Users\\nadir\\anaconda3\\envs\\GTRay2.4.0\\lib\\site-packages\\rtgym\\envs\\real_time_env.py:376: UserWarning: Time-step timed out. Elapsed since last time-step: 0.12498910000340402\n",
      "\u001b[2m\u001b[36m(RolloutWorker pid=1736)\u001b[0m   warnings.warn(f\"Time-step timed out. Elapsed since last time-step: {now - self.__t_end}\")\n"
     ]
    },
    {
     "name": "stdout",
     "output_type": "stream",
     "text": [
      "Loop:  44\n"
     ]
    },
    {
     "name": "stderr",
     "output_type": "stream",
     "text": [
      "\u001b[2m\u001b[36m(RolloutWorker pid=1736)\u001b[0m C:\\Users\\nadir\\anaconda3\\envs\\GTRay2.4.0\\lib\\site-packages\\rtgym\\envs\\real_time_env.py:376: UserWarning: Time-step timed out. Elapsed since last time-step: 3.0442303000140782\n",
      "\u001b[2m\u001b[36m(RolloutWorker pid=1736)\u001b[0m   warnings.warn(f\"Time-step timed out. Elapsed since last time-step: {now - self.__t_end}\")\n",
      "\u001b[2m\u001b[36m(RolloutWorker pid=1736)\u001b[0m C:\\Users\\nadir\\anaconda3\\envs\\GTRay2.4.0\\lib\\site-packages\\rtgym\\envs\\real_time_env.py:376: UserWarning: Time-step timed out. Elapsed since last time-step: 0.10601250000308937\n",
      "\u001b[2m\u001b[36m(RolloutWorker pid=1736)\u001b[0m   warnings.warn(f\"Time-step timed out. Elapsed since last time-step: {now - self.__t_end}\")\n"
     ]
    },
    {
     "name": "stdout",
     "output_type": "stream",
     "text": [
      "\u001b[2m\u001b[36m(RolloutWorker pid=1736)\u001b[0m reset triggered\n",
      "\u001b[2m\u001b[36m(RolloutWorker pid=1736)\u001b[0m reload save for track : 72\n",
      "\u001b[2m\u001b[36m(RolloutWorker pid=1736)\u001b[0m reset triggered\n",
      "\u001b[2m\u001b[36m(RolloutWorker pid=1736)\u001b[0m reload save for track : 72\n"
     ]
    },
    {
     "name": "stderr",
     "output_type": "stream",
     "text": [
      "\u001b[2m\u001b[36m(RolloutWorker pid=1736)\u001b[0m C:\\Users\\nadir\\anaconda3\\envs\\GTRay2.4.0\\lib\\site-packages\\rtgym\\envs\\real_time_env.py:376: UserWarning: Time-step timed out. Elapsed since last time-step: 0.12989060001200414\n",
      "\u001b[2m\u001b[36m(RolloutWorker pid=1736)\u001b[0m   warnings.warn(f\"Time-step timed out. Elapsed since last time-step: {now - self.__t_end}\")\n"
     ]
    },
    {
     "name": "stdout",
     "output_type": "stream",
     "text": [
      "Loop:  45\n"
     ]
    },
    {
     "name": "stderr",
     "output_type": "stream",
     "text": [
      "\u001b[2m\u001b[36m(RolloutWorker pid=1736)\u001b[0m C:\\Users\\nadir\\anaconda3\\envs\\GTRay2.4.0\\lib\\site-packages\\rtgym\\envs\\real_time_env.py:376: UserWarning: Time-step timed out. Elapsed since last time-step: 2.969532700002219\n",
      "\u001b[2m\u001b[36m(RolloutWorker pid=1736)\u001b[0m   warnings.warn(f\"Time-step timed out. Elapsed since last time-step: {now - self.__t_end}\")\n"
     ]
    },
    {
     "name": "stdout",
     "output_type": "stream",
     "text": [
      "\u001b[2m\u001b[36m(RolloutWorker pid=1736)\u001b[0m reset triggered\n",
      "\u001b[2m\u001b[36m(RolloutWorker pid=1736)\u001b[0m reload save for track : 72\n"
     ]
    },
    {
     "name": "stderr",
     "output_type": "stream",
     "text": [
      "\u001b[2m\u001b[36m(RolloutWorker pid=1736)\u001b[0m C:\\Users\\nadir\\anaconda3\\envs\\GTRay2.4.0\\lib\\site-packages\\rtgym\\envs\\real_time_env.py:376: UserWarning: Time-step timed out. Elapsed since last time-step: 0.14073470001517308\n",
      "\u001b[2m\u001b[36m(RolloutWorker pid=1736)\u001b[0m   warnings.warn(f\"Time-step timed out. Elapsed since last time-step: {now - self.__t_end}\")\n"
     ]
    },
    {
     "name": "stdout",
     "output_type": "stream",
     "text": [
      "Loop:  46\n"
     ]
    },
    {
     "name": "stderr",
     "output_type": "stream",
     "text": [
      "\u001b[2m\u001b[36m(RolloutWorker pid=1736)\u001b[0m C:\\Users\\nadir\\anaconda3\\envs\\GTRay2.4.0\\lib\\site-packages\\rtgym\\envs\\real_time_env.py:376: UserWarning: Time-step timed out. Elapsed since last time-step: 3.0430823000021974\n",
      "\u001b[2m\u001b[36m(RolloutWorker pid=1736)\u001b[0m   warnings.warn(f\"Time-step timed out. Elapsed since last time-step: {now - self.__t_end}\")\n",
      "\u001b[2m\u001b[36m(RolloutWorker pid=1736)\u001b[0m C:\\Users\\nadir\\anaconda3\\envs\\GTRay2.4.0\\lib\\site-packages\\rtgym\\envs\\real_time_env.py:376: UserWarning: Time-step timed out. Elapsed since last time-step: 0.13654470000756191\n",
      "\u001b[2m\u001b[36m(RolloutWorker pid=1736)\u001b[0m   warnings.warn(f\"Time-step timed out. Elapsed since last time-step: {now - self.__t_end}\")\n"
     ]
    },
    {
     "name": "stdout",
     "output_type": "stream",
     "text": [
      "\u001b[2m\u001b[36m(RolloutWorker pid=1736)\u001b[0m reset triggered\n",
      "\u001b[2m\u001b[36m(RolloutWorker pid=1736)\u001b[0m reload save for track : 72\n",
      "Loop:  47\n"
     ]
    },
    {
     "name": "stderr",
     "output_type": "stream",
     "text": [
      "\u001b[2m\u001b[36m(RolloutWorker pid=1736)\u001b[0m C:\\Users\\nadir\\anaconda3\\envs\\GTRay2.4.0\\lib\\site-packages\\rtgym\\envs\\real_time_env.py:376: UserWarning: Time-step timed out. Elapsed since last time-step: 3.0623157000100036\n",
      "\u001b[2m\u001b[36m(RolloutWorker pid=1736)\u001b[0m   warnings.warn(f\"Time-step timed out. Elapsed since last time-step: {now - self.__t_end}\")\n"
     ]
    },
    {
     "name": "stdout",
     "output_type": "stream",
     "text": [
      "\u001b[2m\u001b[36m(RolloutWorker pid=1736)\u001b[0m reset triggered\n",
      "\u001b[2m\u001b[36m(RolloutWorker pid=1736)\u001b[0m reload save for track : 72\n"
     ]
    },
    {
     "name": "stderr",
     "output_type": "stream",
     "text": [
      "\u001b[2m\u001b[36m(RolloutWorker pid=1736)\u001b[0m C:\\Users\\nadir\\anaconda3\\envs\\GTRay2.4.0\\lib\\site-packages\\rtgym\\envs\\real_time_env.py:376: UserWarning: Time-step timed out. Elapsed since last time-step: 0.16639420000728933\n",
      "\u001b[2m\u001b[36m(RolloutWorker pid=1736)\u001b[0m   warnings.warn(f\"Time-step timed out. Elapsed since last time-step: {now - self.__t_end}\")\n"
     ]
    },
    {
     "name": "stdout",
     "output_type": "stream",
     "text": [
      "Loop:  48\n"
     ]
    },
    {
     "name": "stderr",
     "output_type": "stream",
     "text": [
      "\u001b[2m\u001b[36m(RolloutWorker pid=1736)\u001b[0m C:\\Users\\nadir\\anaconda3\\envs\\GTRay2.4.0\\lib\\site-packages\\rtgym\\envs\\real_time_env.py:376: UserWarning: Time-step timed out. Elapsed since last time-step: 3.0373567000101502\n",
      "\u001b[2m\u001b[36m(RolloutWorker pid=1736)\u001b[0m   warnings.warn(f\"Time-step timed out. Elapsed since last time-step: {now - self.__t_end}\")\n"
     ]
    },
    {
     "name": "stdout",
     "output_type": "stream",
     "text": [
      "\u001b[2m\u001b[36m(RolloutWorker pid=1736)\u001b[0m reset triggered\n",
      "\u001b[2m\u001b[36m(RolloutWorker pid=1736)\u001b[0m reload save for track : 72\n"
     ]
    },
    {
     "name": "stderr",
     "output_type": "stream",
     "text": [
      "\u001b[2m\u001b[36m(RolloutWorker pid=1736)\u001b[0m C:\\Users\\nadir\\anaconda3\\envs\\GTRay2.4.0\\lib\\site-packages\\rtgym\\envs\\real_time_env.py:376: UserWarning: Time-step timed out. Elapsed since last time-step: 0.12407640000742504\n",
      "\u001b[2m\u001b[36m(RolloutWorker pid=1736)\u001b[0m   warnings.warn(f\"Time-step timed out. Elapsed since last time-step: {now - self.__t_end}\")\n"
     ]
    },
    {
     "name": "stdout",
     "output_type": "stream",
     "text": [
      "Loop:  49\n"
     ]
    },
    {
     "name": "stderr",
     "output_type": "stream",
     "text": [
      "\u001b[2m\u001b[36m(RolloutWorker pid=1736)\u001b[0m C:\\Users\\nadir\\anaconda3\\envs\\GTRay2.4.0\\lib\\site-packages\\rtgym\\envs\\real_time_env.py:376: UserWarning: Time-step timed out. Elapsed since last time-step: 3.0767432000100143\n",
      "\u001b[2m\u001b[36m(RolloutWorker pid=1736)\u001b[0m   warnings.warn(f\"Time-step timed out. Elapsed since last time-step: {now - self.__t_end}\")\n"
     ]
    },
    {
     "name": "stdout",
     "output_type": "stream",
     "text": [
      "\u001b[2m\u001b[36m(RolloutWorker pid=1736)\u001b[0m reset triggered\n",
      "\u001b[2m\u001b[36m(RolloutWorker pid=1736)\u001b[0m reload save for track : 72\n"
     ]
    },
    {
     "name": "stderr",
     "output_type": "stream",
     "text": [
      "\u001b[2m\u001b[36m(RolloutWorker pid=1736)\u001b[0m C:\\Users\\nadir\\anaconda3\\envs\\GTRay2.4.0\\lib\\site-packages\\rtgym\\envs\\real_time_env.py:376: UserWarning: Time-step timed out. Elapsed since last time-step: 0.14923490000751372\n",
      "\u001b[2m\u001b[36m(RolloutWorker pid=1736)\u001b[0m   warnings.warn(f\"Time-step timed out. Elapsed since last time-step: {now - self.__t_end}\")\n"
     ]
    },
    {
     "name": "stdout",
     "output_type": "stream",
     "text": [
      "Loop:  50\n",
      "Saved 50\n"
     ]
    },
    {
     "name": "stderr",
     "output_type": "stream",
     "text": [
      "\u001b[2m\u001b[36m(RolloutWorker pid=1736)\u001b[0m C:\\Users\\nadir\\anaconda3\\envs\\GTRay2.4.0\\lib\\site-packages\\rtgym\\envs\\real_time_env.py:376: UserWarning: Time-step timed out. Elapsed since last time-step: 3.112821700010045\n",
      "\u001b[2m\u001b[36m(RolloutWorker pid=1736)\u001b[0m   warnings.warn(f\"Time-step timed out. Elapsed since last time-step: {now - self.__t_end}\")\n"
     ]
    },
    {
     "name": "stdout",
     "output_type": "stream",
     "text": [
      "\u001b[2m\u001b[36m(RolloutWorker pid=1736)\u001b[0m reset triggered\n",
      "\u001b[2m\u001b[36m(RolloutWorker pid=1736)\u001b[0m reload save for track : 72\n"
     ]
    },
    {
     "name": "stderr",
     "output_type": "stream",
     "text": [
      "\u001b[2m\u001b[36m(RolloutWorker pid=1736)\u001b[0m C:\\Users\\nadir\\anaconda3\\envs\\GTRay2.4.0\\lib\\site-packages\\rtgym\\envs\\real_time_env.py:376: UserWarning: Time-step timed out. Elapsed since last time-step: 0.12195720000727306\n",
      "\u001b[2m\u001b[36m(RolloutWorker pid=1736)\u001b[0m   warnings.warn(f\"Time-step timed out. Elapsed since last time-step: {now - self.__t_end}\")\n"
     ]
    },
    {
     "name": "stdout",
     "output_type": "stream",
     "text": [
      "Loop:  51\n"
     ]
    },
    {
     "name": "stderr",
     "output_type": "stream",
     "text": [
      "\u001b[2m\u001b[36m(RolloutWorker pid=1736)\u001b[0m C:\\Users\\nadir\\anaconda3\\envs\\GTRay2.4.0\\lib\\site-packages\\rtgym\\envs\\real_time_env.py:376: UserWarning: Time-step timed out. Elapsed since last time-step: 3.0011542000102054\n",
      "\u001b[2m\u001b[36m(RolloutWorker pid=1736)\u001b[0m   warnings.warn(f\"Time-step timed out. Elapsed since last time-step: {now - self.__t_end}\")\n",
      "\u001b[2m\u001b[36m(RolloutWorker pid=1736)\u001b[0m C:\\Users\\nadir\\anaconda3\\envs\\GTRay2.4.0\\lib\\site-packages\\rtgym\\envs\\real_time_env.py:376: UserWarning: Time-step timed out. Elapsed since last time-step: 0.11879540000722955\n",
      "\u001b[2m\u001b[36m(RolloutWorker pid=1736)\u001b[0m   warnings.warn(f\"Time-step timed out. Elapsed since last time-step: {now - self.__t_end}\")\n"
     ]
    },
    {
     "name": "stdout",
     "output_type": "stream",
     "text": [
      "\u001b[2m\u001b[36m(RolloutWorker pid=1736)\u001b[0m reset triggered\n",
      "\u001b[2m\u001b[36m(RolloutWorker pid=1736)\u001b[0m reload save for track : 72\n"
     ]
    },
    {
     "name": "stderr",
     "output_type": "stream",
     "text": [
      "\u001b[2m\u001b[36m(RolloutWorker pid=1736)\u001b[0m C:\\Users\\nadir\\anaconda3\\envs\\GTRay2.4.0\\lib\\site-packages\\rtgym\\envs\\real_time_env.py:376: UserWarning: Time-step timed out. Elapsed since last time-step: 0.15766990000906844\n",
      "\u001b[2m\u001b[36m(RolloutWorker pid=1736)\u001b[0m   warnings.warn(f\"Time-step timed out. Elapsed since last time-step: {now - self.__t_end}\")\n"
     ]
    },
    {
     "name": "stdout",
     "output_type": "stream",
     "text": [
      "Loop:  52\n"
     ]
    },
    {
     "name": "stderr",
     "output_type": "stream",
     "text": [
      "\u001b[2m\u001b[36m(RolloutWorker pid=1736)\u001b[0m C:\\Users\\nadir\\anaconda3\\envs\\GTRay2.4.0\\lib\\site-packages\\rtgym\\envs\\real_time_env.py:376: UserWarning: Time-step timed out. Elapsed since last time-step: 2.8994880000011563\n",
      "\u001b[2m\u001b[36m(RolloutWorker pid=1736)\u001b[0m   warnings.warn(f\"Time-step timed out. Elapsed since last time-step: {now - self.__t_end}\")\n"
     ]
    },
    {
     "name": "stdout",
     "output_type": "stream",
     "text": [
      "\u001b[2m\u001b[36m(RolloutWorker pid=1736)\u001b[0m reset triggered\n",
      "\u001b[2m\u001b[36m(RolloutWorker pid=1736)\u001b[0m reload save for track : 72\n"
     ]
    },
    {
     "name": "stderr",
     "output_type": "stream",
     "text": [
      "\u001b[2m\u001b[36m(RolloutWorker pid=1736)\u001b[0m C:\\Users\\nadir\\anaconda3\\envs\\GTRay2.4.0\\lib\\site-packages\\rtgym\\envs\\real_time_env.py:376: UserWarning: Time-step timed out. Elapsed since last time-step: 0.12253680000731038\n",
      "\u001b[2m\u001b[36m(RolloutWorker pid=1736)\u001b[0m   warnings.warn(f\"Time-step timed out. Elapsed since last time-step: {now - self.__t_end}\")\n"
     ]
    },
    {
     "name": "stdout",
     "output_type": "stream",
     "text": [
      "Loop:  53\n"
     ]
    },
    {
     "name": "stderr",
     "output_type": "stream",
     "text": [
      "\u001b[2m\u001b[36m(RolloutWorker pid=1736)\u001b[0m C:\\Users\\nadir\\anaconda3\\envs\\GTRay2.4.0\\lib\\site-packages\\rtgym\\envs\\real_time_env.py:376: UserWarning: Time-step timed out. Elapsed since last time-step: 3.0834706000100596\n",
      "\u001b[2m\u001b[36m(RolloutWorker pid=1736)\u001b[0m   warnings.warn(f\"Time-step timed out. Elapsed since last time-step: {now - self.__t_end}\")\n",
      "\u001b[2m\u001b[36m(RolloutWorker pid=1736)\u001b[0m C:\\Users\\nadir\\anaconda3\\envs\\GTRay2.4.0\\lib\\site-packages\\rtgym\\envs\\real_time_env.py:376: UserWarning: Time-step timed out. Elapsed since last time-step: 0.1268924000073639\n",
      "\u001b[2m\u001b[36m(RolloutWorker pid=1736)\u001b[0m   warnings.warn(f\"Time-step timed out. Elapsed since last time-step: {now - self.__t_end}\")\n"
     ]
    },
    {
     "name": "stdout",
     "output_type": "stream",
     "text": [
      "\u001b[2m\u001b[36m(RolloutWorker pid=1736)\u001b[0m reset triggered\n",
      "\u001b[2m\u001b[36m(RolloutWorker pid=1736)\u001b[0m reload save for track : 72\n",
      "Loop:  54\n"
     ]
    },
    {
     "name": "stderr",
     "output_type": "stream",
     "text": [
      "\u001b[2m\u001b[36m(RolloutWorker pid=1736)\u001b[0m C:\\Users\\nadir\\anaconda3\\envs\\GTRay2.4.0\\lib\\site-packages\\rtgym\\envs\\real_time_env.py:376: UserWarning: Time-step timed out. Elapsed since last time-step: 3.0662605000102303\n",
      "\u001b[2m\u001b[36m(RolloutWorker pid=1736)\u001b[0m   warnings.warn(f\"Time-step timed out. Elapsed since last time-step: {now - self.__t_end}\")\n",
      "\u001b[2m\u001b[36m(RolloutWorker pid=1736)\u001b[0m C:\\Users\\nadir\\anaconda3\\envs\\GTRay2.4.0\\lib\\site-packages\\rtgym\\envs\\real_time_env.py:376: UserWarning: Time-step timed out. Elapsed since last time-step: 0.1335866000072201\n",
      "\u001b[2m\u001b[36m(RolloutWorker pid=1736)\u001b[0m   warnings.warn(f\"Time-step timed out. Elapsed since last time-step: {now - self.__t_end}\")\n"
     ]
    },
    {
     "name": "stdout",
     "output_type": "stream",
     "text": [
      "\u001b[2m\u001b[36m(RolloutWorker pid=1736)\u001b[0m reset triggered\n",
      "\u001b[2m\u001b[36m(RolloutWorker pid=1736)\u001b[0m reload save for track : 72\n",
      "Loop:  55\n"
     ]
    },
    {
     "name": "stderr",
     "output_type": "stream",
     "text": [
      "\u001b[2m\u001b[36m(RolloutWorker pid=1736)\u001b[0m C:\\Users\\nadir\\anaconda3\\envs\\GTRay2.4.0\\lib\\site-packages\\rtgym\\envs\\real_time_env.py:376: UserWarning: Time-step timed out. Elapsed since last time-step: 3.0788306000101784\n",
      "\u001b[2m\u001b[36m(RolloutWorker pid=1736)\u001b[0m   warnings.warn(f\"Time-step timed out. Elapsed since last time-step: {now - self.__t_end}\")\n",
      "\u001b[2m\u001b[36m(RolloutWorker pid=1736)\u001b[0m C:\\Users\\nadir\\anaconda3\\envs\\GTRay2.4.0\\lib\\site-packages\\rtgym\\envs\\real_time_env.py:376: UserWarning: Time-step timed out. Elapsed since last time-step: 0.13114240000732025\n",
      "\u001b[2m\u001b[36m(RolloutWorker pid=1736)\u001b[0m   warnings.warn(f\"Time-step timed out. Elapsed since last time-step: {now - self.__t_end}\")\n"
     ]
    },
    {
     "name": "stdout",
     "output_type": "stream",
     "text": [
      "\u001b[2m\u001b[36m(RolloutWorker pid=1736)\u001b[0m reset triggered\n",
      "\u001b[2m\u001b[36m(RolloutWorker pid=1736)\u001b[0m reload save for track : 72\n",
      "Loop:  56\n"
     ]
    },
    {
     "name": "stderr",
     "output_type": "stream",
     "text": [
      "\u001b[2m\u001b[36m(RolloutWorker pid=1736)\u001b[0m C:\\Users\\nadir\\anaconda3\\envs\\GTRay2.4.0\\lib\\site-packages\\rtgym\\envs\\real_time_env.py:376: UserWarning: Time-step timed out. Elapsed since last time-step: 3.0203993000100127\n",
      "\u001b[2m\u001b[36m(RolloutWorker pid=1736)\u001b[0m   warnings.warn(f\"Time-step timed out. Elapsed since last time-step: {now - self.__t_end}\")\n"
     ]
    },
    {
     "name": "stdout",
     "output_type": "stream",
     "text": [
      "\u001b[2m\u001b[36m(RolloutWorker pid=1736)\u001b[0m reset triggered\n",
      "\u001b[2m\u001b[36m(RolloutWorker pid=1736)\u001b[0m reload save for track : 72\n"
     ]
    },
    {
     "name": "stderr",
     "output_type": "stream",
     "text": [
      "\u001b[2m\u001b[36m(RolloutWorker pid=1736)\u001b[0m C:\\Users\\nadir\\anaconda3\\envs\\GTRay2.4.0\\lib\\site-packages\\rtgym\\envs\\real_time_env.py:376: UserWarning: Time-step timed out. Elapsed since last time-step: 0.1296629000073608\n",
      "\u001b[2m\u001b[36m(RolloutWorker pid=1736)\u001b[0m   warnings.warn(f\"Time-step timed out. Elapsed since last time-step: {now - self.__t_end}\")\n"
     ]
    },
    {
     "name": "stdout",
     "output_type": "stream",
     "text": [
      "Loop:  57\n"
     ]
    },
    {
     "name": "stderr",
     "output_type": "stream",
     "text": [
      "\u001b[2m\u001b[36m(RolloutWorker pid=1736)\u001b[0m C:\\Users\\nadir\\anaconda3\\envs\\GTRay2.4.0\\lib\\site-packages\\rtgym\\envs\\real_time_env.py:376: UserWarning: Time-step timed out. Elapsed since last time-step: 3.0830798000101822\n",
      "\u001b[2m\u001b[36m(RolloutWorker pid=1736)\u001b[0m   warnings.warn(f\"Time-step timed out. Elapsed since last time-step: {now - self.__t_end}\")\n"
     ]
    },
    {
     "name": "stdout",
     "output_type": "stream",
     "text": [
      "\u001b[2m\u001b[36m(RolloutWorker pid=1736)\u001b[0m reset triggered\n",
      "\u001b[2m\u001b[36m(RolloutWorker pid=1736)\u001b[0m reload save for track : 72\n"
     ]
    },
    {
     "name": "stderr",
     "output_type": "stream",
     "text": [
      "\u001b[2m\u001b[36m(RolloutWorker pid=1736)\u001b[0m C:\\Users\\nadir\\anaconda3\\envs\\GTRay2.4.0\\lib\\site-packages\\rtgym\\envs\\real_time_env.py:376: UserWarning: Time-step timed out. Elapsed since last time-step: 0.13330720000749352\n",
      "\u001b[2m\u001b[36m(RolloutWorker pid=1736)\u001b[0m   warnings.warn(f\"Time-step timed out. Elapsed since last time-step: {now - self.__t_end}\")\n"
     ]
    },
    {
     "name": "stdout",
     "output_type": "stream",
     "text": [
      "Loop:  58\n"
     ]
    },
    {
     "name": "stderr",
     "output_type": "stream",
     "text": [
      "\u001b[2m\u001b[36m(RolloutWorker pid=1736)\u001b[0m C:\\Users\\nadir\\anaconda3\\envs\\GTRay2.4.0\\lib\\site-packages\\rtgym\\envs\\real_time_env.py:376: UserWarning: Time-step timed out. Elapsed since last time-step: 3.0521929000099135\n",
      "\u001b[2m\u001b[36m(RolloutWorker pid=1736)\u001b[0m   warnings.warn(f\"Time-step timed out. Elapsed since last time-step: {now - self.__t_end}\")\n",
      "\u001b[2m\u001b[36m(RolloutWorker pid=1736)\u001b[0m C:\\Users\\nadir\\anaconda3\\envs\\GTRay2.4.0\\lib\\site-packages\\rtgym\\envs\\real_time_env.py:376: UserWarning: Time-step timed out. Elapsed since last time-step: 0.13150730000734256\n",
      "\u001b[2m\u001b[36m(RolloutWorker pid=1736)\u001b[0m   warnings.warn(f\"Time-step timed out. Elapsed since last time-step: {now - self.__t_end}\")\n"
     ]
    },
    {
     "name": "stdout",
     "output_type": "stream",
     "text": [
      "\u001b[2m\u001b[36m(RolloutWorker pid=1736)\u001b[0m reset triggered\n",
      "\u001b[2m\u001b[36m(RolloutWorker pid=1736)\u001b[0m reload save for track : 72\n",
      "Loop:  59\n"
     ]
    },
    {
     "name": "stderr",
     "output_type": "stream",
     "text": [
      "\u001b[2m\u001b[36m(RolloutWorker pid=1736)\u001b[0m C:\\Users\\nadir\\anaconda3\\envs\\GTRay2.4.0\\lib\\site-packages\\rtgym\\envs\\real_time_env.py:376: UserWarning: Time-step timed out. Elapsed since last time-step: 3.0798611000102483\n",
      "\u001b[2m\u001b[36m(RolloutWorker pid=1736)\u001b[0m   warnings.warn(f\"Time-step timed out. Elapsed since last time-step: {now - self.__t_end}\")\n",
      "\u001b[2m\u001b[36m(RolloutWorker pid=1736)\u001b[0m C:\\Users\\nadir\\anaconda3\\envs\\GTRay2.4.0\\lib\\site-packages\\rtgym\\envs\\real_time_env.py:376: UserWarning: Time-step timed out. Elapsed since last time-step: 0.1204051000072468\n",
      "\u001b[2m\u001b[36m(RolloutWorker pid=1736)\u001b[0m   warnings.warn(f\"Time-step timed out. Elapsed since last time-step: {now - self.__t_end}\")\n"
     ]
    },
    {
     "name": "stdout",
     "output_type": "stream",
     "text": [
      "\u001b[2m\u001b[36m(RolloutWorker pid=1736)\u001b[0m reset triggered\n",
      "\u001b[2m\u001b[36m(RolloutWorker pid=1736)\u001b[0m reload save for track : 72\n",
      "Loop:  60\n",
      "Saved 60\n"
     ]
    },
    {
     "name": "stderr",
     "output_type": "stream",
     "text": [
      "\u001b[2m\u001b[36m(RolloutWorker pid=1736)\u001b[0m C:\\Users\\nadir\\anaconda3\\envs\\GTRay2.4.0\\lib\\site-packages\\rtgym\\envs\\real_time_env.py:376: UserWarning: Time-step timed out. Elapsed since last time-step: 3.1206581000101323\n",
      "\u001b[2m\u001b[36m(RolloutWorker pid=1736)\u001b[0m   warnings.warn(f\"Time-step timed out. Elapsed since last time-step: {now - self.__t_end}\")\n"
     ]
    },
    {
     "name": "stdout",
     "output_type": "stream",
     "text": [
      "\u001b[2m\u001b[36m(RolloutWorker pid=1736)\u001b[0m reset triggered\n",
      "\u001b[2m\u001b[36m(RolloutWorker pid=1736)\u001b[0m reload save for track : 72\n"
     ]
    },
    {
     "name": "stderr",
     "output_type": "stream",
     "text": [
      "\u001b[2m\u001b[36m(RolloutWorker pid=1736)\u001b[0m C:\\Users\\nadir\\anaconda3\\envs\\GTRay2.4.0\\lib\\site-packages\\rtgym\\envs\\real_time_env.py:376: UserWarning: Time-step timed out. Elapsed since last time-step: 0.12923910000586147\n",
      "\u001b[2m\u001b[36m(RolloutWorker pid=1736)\u001b[0m   warnings.warn(f\"Time-step timed out. Elapsed since last time-step: {now - self.__t_end}\")\n"
     ]
    },
    {
     "name": "stdout",
     "output_type": "stream",
     "text": [
      "Loop:  61\n"
     ]
    },
    {
     "name": "stderr",
     "output_type": "stream",
     "text": [
      "\u001b[2m\u001b[36m(RolloutWorker pid=1736)\u001b[0m C:\\Users\\nadir\\anaconda3\\envs\\GTRay2.4.0\\lib\\site-packages\\rtgym\\envs\\real_time_env.py:376: UserWarning: Time-step timed out. Elapsed since last time-step: 2.998465600011741\n",
      "\u001b[2m\u001b[36m(RolloutWorker pid=1736)\u001b[0m   warnings.warn(f\"Time-step timed out. Elapsed since last time-step: {now - self.__t_end}\")\n"
     ]
    },
    {
     "name": "stdout",
     "output_type": "stream",
     "text": [
      "\u001b[2m\u001b[36m(RolloutWorker pid=1736)\u001b[0m reset triggered\n",
      "\u001b[2m\u001b[36m(RolloutWorker pid=1736)\u001b[0m reload save for track : 72\n"
     ]
    },
    {
     "name": "stderr",
     "output_type": "stream",
     "text": [
      "\u001b[2m\u001b[36m(RolloutWorker pid=1736)\u001b[0m C:\\Users\\nadir\\anaconda3\\envs\\GTRay2.4.0\\lib\\site-packages\\rtgym\\envs\\real_time_env.py:376: UserWarning: Time-step timed out. Elapsed since last time-step: 0.13793780000582956\n",
      "\u001b[2m\u001b[36m(RolloutWorker pid=1736)\u001b[0m   warnings.warn(f\"Time-step timed out. Elapsed since last time-step: {now - self.__t_end}\")\n"
     ]
    },
    {
     "name": "stdout",
     "output_type": "stream",
     "text": [
      "Loop:  62\n"
     ]
    },
    {
     "name": "stderr",
     "output_type": "stream",
     "text": [
      "\u001b[2m\u001b[36m(RolloutWorker pid=1736)\u001b[0m C:\\Users\\nadir\\anaconda3\\envs\\GTRay2.4.0\\lib\\site-packages\\rtgym\\envs\\real_time_env.py:376: UserWarning: Time-step timed out. Elapsed since last time-step: 3.3347643000115568\n",
      "\u001b[2m\u001b[36m(RolloutWorker pid=1736)\u001b[0m   warnings.warn(f\"Time-step timed out. Elapsed since last time-step: {now - self.__t_end}\")\n"
     ]
    },
    {
     "name": "stdout",
     "output_type": "stream",
     "text": [
      "\u001b[2m\u001b[36m(RolloutWorker pid=1736)\u001b[0m reset triggered\n",
      "\u001b[2m\u001b[36m(RolloutWorker pid=1736)\u001b[0m reload save for track : 72\n"
     ]
    },
    {
     "name": "stderr",
     "output_type": "stream",
     "text": [
      "\u001b[2m\u001b[36m(RolloutWorker pid=1736)\u001b[0m C:\\Users\\nadir\\anaconda3\\envs\\GTRay2.4.0\\lib\\site-packages\\rtgym\\envs\\real_time_env.py:376: UserWarning: Time-step timed out. Elapsed since last time-step: 0.13897120000592622\n",
      "\u001b[2m\u001b[36m(RolloutWorker pid=1736)\u001b[0m   warnings.warn(f\"Time-step timed out. Elapsed since last time-step: {now - self.__t_end}\")\n"
     ]
    },
    {
     "name": "stdout",
     "output_type": "stream",
     "text": [
      "Loop:  63\n"
     ]
    },
    {
     "name": "stderr",
     "output_type": "stream",
     "text": [
      "\u001b[2m\u001b[36m(RolloutWorker pid=1736)\u001b[0m C:\\Users\\nadir\\anaconda3\\envs\\GTRay2.4.0\\lib\\site-packages\\rtgym\\envs\\real_time_env.py:376: UserWarning: Time-step timed out. Elapsed since last time-step: 2.9578417000116133\n",
      "\u001b[2m\u001b[36m(RolloutWorker pid=1736)\u001b[0m   warnings.warn(f\"Time-step timed out. Elapsed since last time-step: {now - self.__t_end}\")\n"
     ]
    },
    {
     "name": "stdout",
     "output_type": "stream",
     "text": [
      "\u001b[2m\u001b[36m(RolloutWorker pid=1736)\u001b[0m reset triggered\n",
      "\u001b[2m\u001b[36m(RolloutWorker pid=1736)\u001b[0m reload save for track : 72\n"
     ]
    },
    {
     "name": "stderr",
     "output_type": "stream",
     "text": [
      "\u001b[2m\u001b[36m(RolloutWorker pid=1736)\u001b[0m C:\\Users\\nadir\\anaconda3\\envs\\GTRay2.4.0\\lib\\site-packages\\rtgym\\envs\\real_time_env.py:376: UserWarning: Time-step timed out. Elapsed since last time-step: 0.13856230000578762\n",
      "\u001b[2m\u001b[36m(RolloutWorker pid=1736)\u001b[0m   warnings.warn(f\"Time-step timed out. Elapsed since last time-step: {now - self.__t_end}\")\n"
     ]
    },
    {
     "name": "stdout",
     "output_type": "stream",
     "text": [
      "Loop:  64\n"
     ]
    },
    {
     "name": "stderr",
     "output_type": "stream",
     "text": [
      "\u001b[2m\u001b[36m(RolloutWorker pid=1736)\u001b[0m C:\\Users\\nadir\\anaconda3\\envs\\GTRay2.4.0\\lib\\site-packages\\rtgym\\envs\\real_time_env.py:376: UserWarning: Time-step timed out. Elapsed since last time-step: 3.062846500011574\n",
      "\u001b[2m\u001b[36m(RolloutWorker pid=1736)\u001b[0m   warnings.warn(f\"Time-step timed out. Elapsed since last time-step: {now - self.__t_end}\")\n",
      "\u001b[2m\u001b[36m(RolloutWorker pid=1736)\u001b[0m C:\\Users\\nadir\\anaconda3\\envs\\GTRay2.4.0\\lib\\site-packages\\rtgym\\envs\\real_time_env.py:376: UserWarning: Time-step timed out. Elapsed since last time-step: 0.12125330000594658\n",
      "\u001b[2m\u001b[36m(RolloutWorker pid=1736)\u001b[0m   warnings.warn(f\"Time-step timed out. Elapsed since last time-step: {now - self.__t_end}\")\n"
     ]
    },
    {
     "name": "stdout",
     "output_type": "stream",
     "text": [
      "\u001b[2m\u001b[36m(RolloutWorker pid=1736)\u001b[0m reset triggered\n",
      "\u001b[2m\u001b[36m(RolloutWorker pid=1736)\u001b[0m reload save for track : 72\n",
      "Loop:  65\n"
     ]
    },
    {
     "name": "stderr",
     "output_type": "stream",
     "text": [
      "\u001b[2m\u001b[36m(RolloutWorker pid=1736)\u001b[0m C:\\Users\\nadir\\anaconda3\\envs\\GTRay2.4.0\\lib\\site-packages\\rtgym\\envs\\real_time_env.py:376: UserWarning: Time-step timed out. Elapsed since last time-step: 3.1294088000115607\n",
      "\u001b[2m\u001b[36m(RolloutWorker pid=1736)\u001b[0m   warnings.warn(f\"Time-step timed out. Elapsed since last time-step: {now - self.__t_end}\")\n"
     ]
    },
    {
     "name": "stdout",
     "output_type": "stream",
     "text": [
      "\u001b[2m\u001b[36m(RolloutWorker pid=1736)\u001b[0m reset triggered\n",
      "\u001b[2m\u001b[36m(RolloutWorker pid=1736)\u001b[0m reload save for track : 72\n"
     ]
    },
    {
     "name": "stderr",
     "output_type": "stream",
     "text": [
      "\u001b[2m\u001b[36m(RolloutWorker pid=1736)\u001b[0m C:\\Users\\nadir\\anaconda3\\envs\\GTRay2.4.0\\lib\\site-packages\\rtgym\\envs\\real_time_env.py:376: UserWarning: Time-step timed out. Elapsed since last time-step: 0.12260180000589571\n",
      "\u001b[2m\u001b[36m(RolloutWorker pid=1736)\u001b[0m   warnings.warn(f\"Time-step timed out. Elapsed since last time-step: {now - self.__t_end}\")\n"
     ]
    },
    {
     "name": "stdout",
     "output_type": "stream",
     "text": [
      "Loop:  66\n"
     ]
    },
    {
     "name": "stderr",
     "output_type": "stream",
     "text": [
      "\u001b[2m\u001b[36m(RolloutWorker pid=1736)\u001b[0m C:\\Users\\nadir\\anaconda3\\envs\\GTRay2.4.0\\lib\\site-packages\\rtgym\\envs\\real_time_env.py:376: UserWarning: Time-step timed out. Elapsed since last time-step: 3.0206310000114627\n",
      "\u001b[2m\u001b[36m(RolloutWorker pid=1736)\u001b[0m   warnings.warn(f\"Time-step timed out. Elapsed since last time-step: {now - self.__t_end}\")\n",
      "\u001b[2m\u001b[36m(RolloutWorker pid=1736)\u001b[0m C:\\Users\\nadir\\anaconda3\\envs\\GTRay2.4.0\\lib\\site-packages\\rtgym\\envs\\real_time_env.py:376: UserWarning: Time-step timed out. Elapsed since last time-step: 0.11960930000486769\n",
      "\u001b[2m\u001b[36m(RolloutWorker pid=1736)\u001b[0m   warnings.warn(f\"Time-step timed out. Elapsed since last time-step: {now - self.__t_end}\")\n"
     ]
    },
    {
     "name": "stdout",
     "output_type": "stream",
     "text": [
      "\u001b[2m\u001b[36m(RolloutWorker pid=1736)\u001b[0m reset triggered\n",
      "\u001b[2m\u001b[36m(RolloutWorker pid=1736)\u001b[0m reload save for track : 72\n",
      "Loop:  67\n"
     ]
    },
    {
     "name": "stderr",
     "output_type": "stream",
     "text": [
      "\u001b[2m\u001b[36m(RolloutWorker pid=1736)\u001b[0m C:\\Users\\nadir\\anaconda3\\envs\\GTRay2.4.0\\lib\\site-packages\\rtgym\\envs\\real_time_env.py:376: UserWarning: Time-step timed out. Elapsed since last time-step: 3.0658095000126195\n",
      "\u001b[2m\u001b[36m(RolloutWorker pid=1736)\u001b[0m   warnings.warn(f\"Time-step timed out. Elapsed since last time-step: {now - self.__t_end}\")\n",
      "\u001b[2m\u001b[36m(RolloutWorker pid=1736)\u001b[0m C:\\Users\\nadir\\anaconda3\\envs\\GTRay2.4.0\\lib\\site-packages\\rtgym\\envs\\real_time_env.py:376: UserWarning: Time-step timed out. Elapsed since last time-step: 0.15178430000491971\n",
      "\u001b[2m\u001b[36m(RolloutWorker pid=1736)\u001b[0m   warnings.warn(f\"Time-step timed out. Elapsed since last time-step: {now - self.__t_end}\")\n"
     ]
    },
    {
     "name": "stdout",
     "output_type": "stream",
     "text": [
      "\u001b[2m\u001b[36m(RolloutWorker pid=1736)\u001b[0m reset triggered\n",
      "\u001b[2m\u001b[36m(RolloutWorker pid=1736)\u001b[0m reload save for track : 72\n",
      "Loop:  68\n"
     ]
    },
    {
     "name": "stderr",
     "output_type": "stream",
     "text": [
      "\u001b[2m\u001b[36m(RolloutWorker pid=1736)\u001b[0m C:\\Users\\nadir\\anaconda3\\envs\\GTRay2.4.0\\lib\\site-packages\\rtgym\\envs\\real_time_env.py:376: UserWarning: Time-step timed out. Elapsed since last time-step: 3.0787733000124717\n",
      "\u001b[2m\u001b[36m(RolloutWorker pid=1736)\u001b[0m   warnings.warn(f\"Time-step timed out. Elapsed since last time-step: {now - self.__t_end}\")\n"
     ]
    },
    {
     "name": "stdout",
     "output_type": "stream",
     "text": [
      "\u001b[2m\u001b[36m(RolloutWorker pid=1736)\u001b[0m reset triggered\n",
      "\u001b[2m\u001b[36m(RolloutWorker pid=1736)\u001b[0m reload save for track : 72\n"
     ]
    },
    {
     "name": "stderr",
     "output_type": "stream",
     "text": [
      "\u001b[2m\u001b[36m(RolloutWorker pid=1736)\u001b[0m C:\\Users\\nadir\\anaconda3\\envs\\GTRay2.4.0\\lib\\site-packages\\rtgym\\envs\\real_time_env.py:376: UserWarning: Time-step timed out. Elapsed since last time-step: 0.12126450000505429\n",
      "\u001b[2m\u001b[36m(RolloutWorker pid=1736)\u001b[0m   warnings.warn(f\"Time-step timed out. Elapsed since last time-step: {now - self.__t_end}\")\n"
     ]
    },
    {
     "name": "stdout",
     "output_type": "stream",
     "text": [
      "Loop:  69\n"
     ]
    },
    {
     "name": "stderr",
     "output_type": "stream",
     "text": [
      "\u001b[2m\u001b[36m(RolloutWorker pid=1736)\u001b[0m C:\\Users\\nadir\\anaconda3\\envs\\GTRay2.4.0\\lib\\site-packages\\rtgym\\envs\\real_time_env.py:376: UserWarning: Time-step timed out. Elapsed since last time-step: 3.045789500012461\n",
      "\u001b[2m\u001b[36m(RolloutWorker pid=1736)\u001b[0m   warnings.warn(f\"Time-step timed out. Elapsed since last time-step: {now - self.__t_end}\")\n"
     ]
    },
    {
     "name": "stdout",
     "output_type": "stream",
     "text": [
      "\u001b[2m\u001b[36m(RolloutWorker pid=1736)\u001b[0m reset triggered\n",
      "\u001b[2m\u001b[36m(RolloutWorker pid=1736)\u001b[0m reload save for track : 72\n"
     ]
    },
    {
     "name": "stderr",
     "output_type": "stream",
     "text": [
      "\u001b[2m\u001b[36m(RolloutWorker pid=1736)\u001b[0m C:\\Users\\nadir\\anaconda3\\envs\\GTRay2.4.0\\lib\\site-packages\\rtgym\\envs\\real_time_env.py:376: UserWarning: Time-step timed out. Elapsed since last time-step: 0.15445240000485683\n",
      "\u001b[2m\u001b[36m(RolloutWorker pid=1736)\u001b[0m   warnings.warn(f\"Time-step timed out. Elapsed since last time-step: {now - self.__t_end}\")\n"
     ]
    },
    {
     "name": "stdout",
     "output_type": "stream",
     "text": [
      "Loop:  70\n",
      "Saved 70\n"
     ]
    },
    {
     "name": "stderr",
     "output_type": "stream",
     "text": [
      "\u001b[2m\u001b[36m(RolloutWorker pid=1736)\u001b[0m C:\\Users\\nadir\\anaconda3\\envs\\GTRay2.4.0\\lib\\site-packages\\rtgym\\envs\\real_time_env.py:376: UserWarning: Time-step timed out. Elapsed since last time-step: 3.0851757000125417\n",
      "\u001b[2m\u001b[36m(RolloutWorker pid=1736)\u001b[0m   warnings.warn(f\"Time-step timed out. Elapsed since last time-step: {now - self.__t_end}\")\n",
      "\u001b[2m\u001b[36m(RolloutWorker pid=1736)\u001b[0m C:\\Users\\nadir\\anaconda3\\envs\\GTRay2.4.0\\lib\\site-packages\\rtgym\\envs\\real_time_env.py:376: UserWarning: Time-step timed out. Elapsed since last time-step: 0.13472520000505028\n",
      "\u001b[2m\u001b[36m(RolloutWorker pid=1736)\u001b[0m   warnings.warn(f\"Time-step timed out. Elapsed since last time-step: {now - self.__t_end}\")\n"
     ]
    },
    {
     "name": "stdout",
     "output_type": "stream",
     "text": [
      "\u001b[2m\u001b[36m(RolloutWorker pid=1736)\u001b[0m reset triggered\n",
      "\u001b[2m\u001b[36m(RolloutWorker pid=1736)\u001b[0m reload save for track : 72\n",
      "Loop:  71\n"
     ]
    },
    {
     "name": "stderr",
     "output_type": "stream",
     "text": [
      "\u001b[2m\u001b[36m(RolloutWorker pid=1736)\u001b[0m C:\\Users\\nadir\\anaconda3\\envs\\GTRay2.4.0\\lib\\site-packages\\rtgym\\envs\\real_time_env.py:376: UserWarning: Time-step timed out. Elapsed since last time-step: 3.00145680001242\n",
      "\u001b[2m\u001b[36m(RolloutWorker pid=1736)\u001b[0m   warnings.warn(f\"Time-step timed out. Elapsed since last time-step: {now - self.__t_end}\")\n"
     ]
    },
    {
     "name": "stdout",
     "output_type": "stream",
     "text": [
      "\u001b[2m\u001b[36m(RolloutWorker pid=1736)\u001b[0m reset triggered\n",
      "\u001b[2m\u001b[36m(RolloutWorker pid=1736)\u001b[0m reload save for track : 72\n"
     ]
    },
    {
     "name": "stderr",
     "output_type": "stream",
     "text": [
      "\u001b[2m\u001b[36m(RolloutWorker pid=1736)\u001b[0m C:\\Users\\nadir\\anaconda3\\envs\\GTRay2.4.0\\lib\\site-packages\\rtgym\\envs\\real_time_env.py:376: UserWarning: Time-step timed out. Elapsed since last time-step: 0.12883460000489322\n",
      "\u001b[2m\u001b[36m(RolloutWorker pid=1736)\u001b[0m   warnings.warn(f\"Time-step timed out. Elapsed since last time-step: {now - self.__t_end}\")\n"
     ]
    },
    {
     "name": "stdout",
     "output_type": "stream",
     "text": [
      "Loop:  72\n"
     ]
    },
    {
     "name": "stderr",
     "output_type": "stream",
     "text": [
      "\u001b[2m\u001b[36m(RolloutWorker pid=1736)\u001b[0m C:\\Users\\nadir\\anaconda3\\envs\\GTRay2.4.0\\lib\\site-packages\\rtgym\\envs\\real_time_env.py:376: UserWarning: Time-step timed out. Elapsed since last time-step: 3.156533000012587\n",
      "\u001b[2m\u001b[36m(RolloutWorker pid=1736)\u001b[0m   warnings.warn(f\"Time-step timed out. Elapsed since last time-step: {now - self.__t_end}\")\n"
     ]
    },
    {
     "name": "stdout",
     "output_type": "stream",
     "text": [
      "\u001b[2m\u001b[36m(RolloutWorker pid=1736)\u001b[0m reset triggered\n",
      "\u001b[2m\u001b[36m(RolloutWorker pid=1736)\u001b[0m reload save for track : 72\n"
     ]
    },
    {
     "name": "stderr",
     "output_type": "stream",
     "text": [
      "\u001b[2m\u001b[36m(RolloutWorker pid=1736)\u001b[0m C:\\Users\\nadir\\anaconda3\\envs\\GTRay2.4.0\\lib\\site-packages\\rtgym\\envs\\real_time_env.py:376: UserWarning: Time-step timed out. Elapsed since last time-step: 0.10321680000470224\n",
      "\u001b[2m\u001b[36m(RolloutWorker pid=1736)\u001b[0m   warnings.warn(f\"Time-step timed out. Elapsed since last time-step: {now - self.__t_end}\")\n"
     ]
    },
    {
     "name": "stdout",
     "output_type": "stream",
     "text": [
      "Loop:  73\n"
     ]
    },
    {
     "name": "stderr",
     "output_type": "stream",
     "text": [
      "\u001b[2m\u001b[36m(RolloutWorker pid=1736)\u001b[0m C:\\Users\\nadir\\anaconda3\\envs\\GTRay2.4.0\\lib\\site-packages\\rtgym\\envs\\real_time_env.py:376: UserWarning: Time-step timed out. Elapsed since last time-step: 2.9736248000128853\n",
      "\u001b[2m\u001b[36m(RolloutWorker pid=1736)\u001b[0m   warnings.warn(f\"Time-step timed out. Elapsed since last time-step: {now - self.__t_end}\")\n",
      "\u001b[2m\u001b[36m(RolloutWorker pid=1736)\u001b[0m C:\\Users\\nadir\\anaconda3\\envs\\GTRay2.4.0\\lib\\site-packages\\rtgym\\envs\\real_time_env.py:376: UserWarning: Time-step timed out. Elapsed since last time-step: 0.13660900000445508\n",
      "\u001b[2m\u001b[36m(RolloutWorker pid=1736)\u001b[0m   warnings.warn(f\"Time-step timed out. Elapsed since last time-step: {now - self.__t_end}\")\n"
     ]
    },
    {
     "name": "stdout",
     "output_type": "stream",
     "text": [
      "\u001b[2m\u001b[36m(RolloutWorker pid=1736)\u001b[0m reset triggered\n",
      "\u001b[2m\u001b[36m(RolloutWorker pid=1736)\u001b[0m reload save for track : 72\n",
      "Loop:  74\n"
     ]
    },
    {
     "name": "stderr",
     "output_type": "stream",
     "text": [
      "\u001b[2m\u001b[36m(RolloutWorker pid=1736)\u001b[0m C:\\Users\\nadir\\anaconda3\\envs\\GTRay2.4.0\\lib\\site-packages\\rtgym\\envs\\real_time_env.py:376: UserWarning: Time-step timed out. Elapsed since last time-step: 3.095895400012978\n",
      "\u001b[2m\u001b[36m(RolloutWorker pid=1736)\u001b[0m   warnings.warn(f\"Time-step timed out. Elapsed since last time-step: {now - self.__t_end}\")\n"
     ]
    },
    {
     "name": "stdout",
     "output_type": "stream",
     "text": [
      "\u001b[2m\u001b[36m(RolloutWorker pid=1736)\u001b[0m reset triggered\n",
      "\u001b[2m\u001b[36m(RolloutWorker pid=1736)\u001b[0m reload save for track : 72\n"
     ]
    },
    {
     "name": "stderr",
     "output_type": "stream",
     "text": [
      "\u001b[2m\u001b[36m(RolloutWorker pid=1736)\u001b[0m C:\\Users\\nadir\\anaconda3\\envs\\GTRay2.4.0\\lib\\site-packages\\rtgym\\envs\\real_time_env.py:376: UserWarning: Time-step timed out. Elapsed since last time-step: 0.1206291000037254\n",
      "\u001b[2m\u001b[36m(RolloutWorker pid=1736)\u001b[0m   warnings.warn(f\"Time-step timed out. Elapsed since last time-step: {now - self.__t_end}\")\n"
     ]
    },
    {
     "name": "stdout",
     "output_type": "stream",
     "text": [
      "Loop:  75\n"
     ]
    },
    {
     "name": "stderr",
     "output_type": "stream",
     "text": [
      "\u001b[2m\u001b[36m(RolloutWorker pid=1736)\u001b[0m C:\\Users\\nadir\\anaconda3\\envs\\GTRay2.4.0\\lib\\site-packages\\rtgym\\envs\\real_time_env.py:376: UserWarning: Time-step timed out. Elapsed since last time-step: 3.0676128000136487\n",
      "\u001b[2m\u001b[36m(RolloutWorker pid=1736)\u001b[0m   warnings.warn(f\"Time-step timed out. Elapsed since last time-step: {now - self.__t_end}\")\n"
     ]
    },
    {
     "name": "stdout",
     "output_type": "stream",
     "text": [
      "\u001b[2m\u001b[36m(RolloutWorker pid=1736)\u001b[0m reset triggered\n",
      "\u001b[2m\u001b[36m(RolloutWorker pid=1736)\u001b[0m reload save for track : 72\n"
     ]
    },
    {
     "name": "stderr",
     "output_type": "stream",
     "text": [
      "\u001b[2m\u001b[36m(RolloutWorker pid=1736)\u001b[0m C:\\Users\\nadir\\anaconda3\\envs\\GTRay2.4.0\\lib\\site-packages\\rtgym\\envs\\real_time_env.py:376: UserWarning: Time-step timed out. Elapsed since last time-step: 0.14597410000374111\n",
      "\u001b[2m\u001b[36m(RolloutWorker pid=1736)\u001b[0m   warnings.warn(f\"Time-step timed out. Elapsed since last time-step: {now - self.__t_end}\")\n",
      "\u001b[2m\u001b[36m(RolloutWorker pid=1736)\u001b[0m C:\\Users\\nadir\\anaconda3\\envs\\GTRay2.4.0\\lib\\site-packages\\rtgym\\envs\\real_time_env.py:376: UserWarning: Time-step timed out. Elapsed since last time-step: 0.0521610000137116\n",
      "\u001b[2m\u001b[36m(RolloutWorker pid=1736)\u001b[0m   warnings.warn(f\"Time-step timed out. Elapsed since last time-step: {now - self.__t_end}\")\n"
     ]
    },
    {
     "name": "stdout",
     "output_type": "stream",
     "text": [
      "Loop:  76\n"
     ]
    },
    {
     "name": "stderr",
     "output_type": "stream",
     "text": [
      "\u001b[2m\u001b[36m(RolloutWorker pid=1736)\u001b[0m C:\\Users\\nadir\\anaconda3\\envs\\GTRay2.4.0\\lib\\site-packages\\rtgym\\envs\\real_time_env.py:376: UserWarning: Time-step timed out. Elapsed since last time-step: 2.995279900000014\n",
      "\u001b[2m\u001b[36m(RolloutWorker pid=1736)\u001b[0m   warnings.warn(f\"Time-step timed out. Elapsed since last time-step: {now - self.__t_end}\")\n"
     ]
    },
    {
     "name": "stdout",
     "output_type": "stream",
     "text": [
      "\u001b[2m\u001b[36m(RolloutWorker pid=1736)\u001b[0m reset triggered\n",
      "\u001b[2m\u001b[36m(RolloutWorker pid=1736)\u001b[0m reload save for track : 72\n"
     ]
    },
    {
     "name": "stderr",
     "output_type": "stream",
     "text": [
      "\u001b[2m\u001b[36m(RolloutWorker pid=1736)\u001b[0m C:\\Users\\nadir\\anaconda3\\envs\\GTRay2.4.0\\lib\\site-packages\\rtgym\\envs\\real_time_env.py:376: UserWarning: Time-step timed out. Elapsed since last time-step: 0.12260250000372253\n",
      "\u001b[2m\u001b[36m(RolloutWorker pid=1736)\u001b[0m   warnings.warn(f\"Time-step timed out. Elapsed since last time-step: {now - self.__t_end}\")\n",
      "\u001b[2m\u001b[36m(RolloutWorker pid=1736)\u001b[0m C:\\Users\\nadir\\anaconda3\\envs\\GTRay2.4.0\\lib\\site-packages\\rtgym\\envs\\real_time_env.py:376: UserWarning: Time-step timed out. Elapsed since last time-step: 0.05076700001382051\n",
      "\u001b[2m\u001b[36m(RolloutWorker pid=1736)\u001b[0m   warnings.warn(f\"Time-step timed out. Elapsed since last time-step: {now - self.__t_end}\")\n"
     ]
    },
    {
     "name": "stdout",
     "output_type": "stream",
     "text": [
      "Loop:  77\n"
     ]
    },
    {
     "name": "stderr",
     "output_type": "stream",
     "text": [
      "\u001b[2m\u001b[36m(RolloutWorker pid=1736)\u001b[0m C:\\Users\\nadir\\anaconda3\\envs\\GTRay2.4.0\\lib\\site-packages\\rtgym\\envs\\real_time_env.py:376: UserWarning: Time-step timed out. Elapsed since last time-step: 3.013880400000062\n",
      "\u001b[2m\u001b[36m(RolloutWorker pid=1736)\u001b[0m   warnings.warn(f\"Time-step timed out. Elapsed since last time-step: {now - self.__t_end}\")\n"
     ]
    },
    {
     "name": "stdout",
     "output_type": "stream",
     "text": [
      "\u001b[2m\u001b[36m(RolloutWorker pid=1736)\u001b[0m reset triggered\n",
      "\u001b[2m\u001b[36m(RolloutWorker pid=1736)\u001b[0m reload save for track : 72\n"
     ]
    },
    {
     "name": "stderr",
     "output_type": "stream",
     "text": [
      "\u001b[2m\u001b[36m(RolloutWorker pid=1736)\u001b[0m C:\\Users\\nadir\\anaconda3\\envs\\GTRay2.4.0\\lib\\site-packages\\rtgym\\envs\\real_time_env.py:376: UserWarning: Time-step timed out. Elapsed since last time-step: 0.12559600000372484\n",
      "\u001b[2m\u001b[36m(RolloutWorker pid=1736)\u001b[0m   warnings.warn(f\"Time-step timed out. Elapsed since last time-step: {now - self.__t_end}\")\n"
     ]
    },
    {
     "name": "stdout",
     "output_type": "stream",
     "text": [
      "Loop:  78\n"
     ]
    },
    {
     "name": "stderr",
     "output_type": "stream",
     "text": [
      "\u001b[2m\u001b[36m(RolloutWorker pid=1736)\u001b[0m C:\\Users\\nadir\\anaconda3\\envs\\GTRay2.4.0\\lib\\site-packages\\rtgym\\envs\\real_time_env.py:376: UserWarning: Time-step timed out. Elapsed since last time-step: 3.088254800013601\n",
      "\u001b[2m\u001b[36m(RolloutWorker pid=1736)\u001b[0m   warnings.warn(f\"Time-step timed out. Elapsed since last time-step: {now - self.__t_end}\")\n"
     ]
    },
    {
     "name": "stdout",
     "output_type": "stream",
     "text": [
      "\u001b[2m\u001b[36m(RolloutWorker pid=1736)\u001b[0m reset triggered\n",
      "\u001b[2m\u001b[36m(RolloutWorker pid=1736)\u001b[0m reload save for track : 72\n"
     ]
    },
    {
     "name": "stderr",
     "output_type": "stream",
     "text": [
      "\u001b[2m\u001b[36m(RolloutWorker pid=1736)\u001b[0m C:\\Users\\nadir\\anaconda3\\envs\\GTRay2.4.0\\lib\\site-packages\\rtgym\\envs\\real_time_env.py:376: UserWarning: Time-step timed out. Elapsed since last time-step: 0.1567176000037307\n",
      "\u001b[2m\u001b[36m(RolloutWorker pid=1736)\u001b[0m   warnings.warn(f\"Time-step timed out. Elapsed since last time-step: {now - self.__t_end}\")\n",
      "\u001b[2m\u001b[36m(RolloutWorker pid=1736)\u001b[0m C:\\Users\\nadir\\anaconda3\\envs\\GTRay2.4.0\\lib\\site-packages\\rtgym\\envs\\real_time_env.py:376: UserWarning: Time-step timed out. Elapsed since last time-step: 0.1622275000083846\n",
      "\u001b[2m\u001b[36m(RolloutWorker pid=1736)\u001b[0m   warnings.warn(f\"Time-step timed out. Elapsed since last time-step: {now - self.__t_end}\")\n",
      "\u001b[2m\u001b[36m(RolloutWorker pid=1736)\u001b[0m C:\\Users\\nadir\\anaconda3\\envs\\GTRay2.4.0\\lib\\site-packages\\rtgym\\envs\\real_time_env.py:376: UserWarning: Time-step timed out. Elapsed since last time-step: 0.05160030000547522\n",
      "\u001b[2m\u001b[36m(RolloutWorker pid=1736)\u001b[0m   warnings.warn(f\"Time-step timed out. Elapsed since last time-step: {now - self.__t_end}\")\n"
     ]
    },
    {
     "name": "stdout",
     "output_type": "stream",
     "text": [
      "Loop:  79\n"
     ]
    },
    {
     "name": "stderr",
     "output_type": "stream",
     "text": [
      "\u001b[2m\u001b[36m(RolloutWorker pid=1736)\u001b[0m C:\\Users\\nadir\\anaconda3\\envs\\GTRay2.4.0\\lib\\site-packages\\rtgym\\envs\\real_time_env.py:376: UserWarning: Time-step timed out. Elapsed since last time-step: 2.993681400000014\n",
      "\u001b[2m\u001b[36m(RolloutWorker pid=1736)\u001b[0m   warnings.warn(f\"Time-step timed out. Elapsed since last time-step: {now - self.__t_end}\")\n"
     ]
    },
    {
     "name": "stdout",
     "output_type": "stream",
     "text": [
      "\u001b[2m\u001b[36m(RolloutWorker pid=1736)\u001b[0m reset triggered\n",
      "\u001b[2m\u001b[36m(RolloutWorker pid=1736)\u001b[0m reload save for track : 72\n"
     ]
    },
    {
     "name": "stderr",
     "output_type": "stream",
     "text": [
      "\u001b[2m\u001b[36m(RolloutWorker pid=1736)\u001b[0m C:\\Users\\nadir\\anaconda3\\envs\\GTRay2.4.0\\lib\\site-packages\\rtgym\\envs\\real_time_env.py:376: UserWarning: Time-step timed out. Elapsed since last time-step: 0.1282207000035669\n",
      "\u001b[2m\u001b[36m(RolloutWorker pid=1736)\u001b[0m   warnings.warn(f\"Time-step timed out. Elapsed since last time-step: {now - self.__t_end}\")\n"
     ]
    },
    {
     "name": "stdout",
     "output_type": "stream",
     "text": [
      "Loop:  80\n",
      "Saved 80\n"
     ]
    },
    {
     "name": "stderr",
     "output_type": "stream",
     "text": [
      "\u001b[2m\u001b[36m(RolloutWorker pid=1736)\u001b[0m C:\\Users\\nadir\\anaconda3\\envs\\GTRay2.4.0\\lib\\site-packages\\rtgym\\envs\\real_time_env.py:376: UserWarning: Time-step timed out. Elapsed since last time-step: 3.153229900013912\n",
      "\u001b[2m\u001b[36m(RolloutWorker pid=1736)\u001b[0m   warnings.warn(f\"Time-step timed out. Elapsed since last time-step: {now - self.__t_end}\")\n"
     ]
    },
    {
     "name": "stdout",
     "output_type": "stream",
     "text": [
      "\u001b[2m\u001b[36m(RolloutWorker pid=1736)\u001b[0m reset triggered\n",
      "\u001b[2m\u001b[36m(RolloutWorker pid=1736)\u001b[0m reload save for track : 72\n"
     ]
    },
    {
     "name": "stderr",
     "output_type": "stream",
     "text": [
      "\u001b[2m\u001b[36m(RolloutWorker pid=1736)\u001b[0m C:\\Users\\nadir\\anaconda3\\envs\\GTRay2.4.0\\lib\\site-packages\\rtgym\\envs\\real_time_env.py:376: UserWarning: Time-step timed out. Elapsed since last time-step: 0.12608010000371905\n",
      "\u001b[2m\u001b[36m(RolloutWorker pid=1736)\u001b[0m   warnings.warn(f\"Time-step timed out. Elapsed since last time-step: {now - self.__t_end}\")\n"
     ]
    },
    {
     "name": "stdout",
     "output_type": "stream",
     "text": [
      "Loop:  81\n"
     ]
    },
    {
     "name": "stderr",
     "output_type": "stream",
     "text": [
      "\u001b[2m\u001b[36m(RolloutWorker pid=1736)\u001b[0m C:\\Users\\nadir\\anaconda3\\envs\\GTRay2.4.0\\lib\\site-packages\\rtgym\\envs\\real_time_env.py:376: UserWarning: Time-step timed out. Elapsed since last time-step: 3.0314755000135847\n",
      "\u001b[2m\u001b[36m(RolloutWorker pid=1736)\u001b[0m   warnings.warn(f\"Time-step timed out. Elapsed since last time-step: {now - self.__t_end}\")\n"
     ]
    },
    {
     "name": "stdout",
     "output_type": "stream",
     "text": [
      "\u001b[2m\u001b[36m(RolloutWorker pid=1736)\u001b[0m reset triggered\n",
      "\u001b[2m\u001b[36m(RolloutWorker pid=1736)\u001b[0m reload save for track : 72\n"
     ]
    },
    {
     "name": "stderr",
     "output_type": "stream",
     "text": [
      "\u001b[2m\u001b[36m(RolloutWorker pid=1736)\u001b[0m C:\\Users\\nadir\\anaconda3\\envs\\GTRay2.4.0\\lib\\site-packages\\rtgym\\envs\\real_time_env.py:376: UserWarning: Time-step timed out. Elapsed since last time-step: 0.14898430000380358\n",
      "\u001b[2m\u001b[36m(RolloutWorker pid=1736)\u001b[0m   warnings.warn(f\"Time-step timed out. Elapsed since last time-step: {now - self.__t_end}\")\n"
     ]
    },
    {
     "name": "stdout",
     "output_type": "stream",
     "text": [
      "Loop:  82\n"
     ]
    },
    {
     "name": "stderr",
     "output_type": "stream",
     "text": [
      "\u001b[2m\u001b[36m(RolloutWorker pid=1736)\u001b[0m C:\\Users\\nadir\\anaconda3\\envs\\GTRay2.4.0\\lib\\site-packages\\rtgym\\envs\\real_time_env.py:376: UserWarning: Time-step timed out. Elapsed since last time-step: 3.013856400013765\n",
      "\u001b[2m\u001b[36m(RolloutWorker pid=1736)\u001b[0m   warnings.warn(f\"Time-step timed out. Elapsed since last time-step: {now - self.__t_end}\")\n"
     ]
    },
    {
     "name": "stdout",
     "output_type": "stream",
     "text": [
      "\u001b[2m\u001b[36m(RolloutWorker pid=1736)\u001b[0m reset triggered\n",
      "\u001b[2m\u001b[36m(RolloutWorker pid=1736)\u001b[0m reload save for track : 72\n"
     ]
    },
    {
     "name": "stderr",
     "output_type": "stream",
     "text": [
      "\u001b[2m\u001b[36m(RolloutWorker pid=1736)\u001b[0m C:\\Users\\nadir\\anaconda3\\envs\\GTRay2.4.0\\lib\\site-packages\\rtgym\\envs\\real_time_env.py:376: UserWarning: Time-step timed out. Elapsed since last time-step: 0.12595440000359304\n",
      "\u001b[2m\u001b[36m(RolloutWorker pid=1736)\u001b[0m   warnings.warn(f\"Time-step timed out. Elapsed since last time-step: {now - self.__t_end}\")\n"
     ]
    },
    {
     "name": "stdout",
     "output_type": "stream",
     "text": [
      "Loop:  83\n"
     ]
    },
    {
     "name": "stderr",
     "output_type": "stream",
     "text": [
      "\u001b[2m\u001b[36m(RolloutWorker pid=1736)\u001b[0m C:\\Users\\nadir\\anaconda3\\envs\\GTRay2.4.0\\lib\\site-packages\\rtgym\\envs\\real_time_env.py:376: UserWarning: Time-step timed out. Elapsed since last time-step: 3.057680000013761\n",
      "\u001b[2m\u001b[36m(RolloutWorker pid=1736)\u001b[0m   warnings.warn(f\"Time-step timed out. Elapsed since last time-step: {now - self.__t_end}\")\n"
     ]
    },
    {
     "name": "stdout",
     "output_type": "stream",
     "text": [
      "\u001b[2m\u001b[36m(RolloutWorker pid=1736)\u001b[0m reset triggered\n",
      "\u001b[2m\u001b[36m(RolloutWorker pid=1736)\u001b[0m reload save for track : 72\n"
     ]
    },
    {
     "name": "stderr",
     "output_type": "stream",
     "text": [
      "\u001b[2m\u001b[36m(RolloutWorker pid=1736)\u001b[0m C:\\Users\\nadir\\anaconda3\\envs\\GTRay2.4.0\\lib\\site-packages\\rtgym\\envs\\real_time_env.py:376: UserWarning: Time-step timed out. Elapsed since last time-step: 0.11234570000374333\n",
      "\u001b[2m\u001b[36m(RolloutWorker pid=1736)\u001b[0m   warnings.warn(f\"Time-step timed out. Elapsed since last time-step: {now - self.__t_end}\")\n"
     ]
    },
    {
     "name": "stdout",
     "output_type": "stream",
     "text": [
      "Loop:  84\n"
     ]
    },
    {
     "name": "stderr",
     "output_type": "stream",
     "text": [
      "\u001b[2m\u001b[36m(RolloutWorker pid=1736)\u001b[0m C:\\Users\\nadir\\anaconda3\\envs\\GTRay2.4.0\\lib\\site-packages\\rtgym\\envs\\real_time_env.py:376: UserWarning: Time-step timed out. Elapsed since last time-step: 3.085937300013711\n",
      "\u001b[2m\u001b[36m(RolloutWorker pid=1736)\u001b[0m   warnings.warn(f\"Time-step timed out. Elapsed since last time-step: {now - self.__t_end}\")\n"
     ]
    },
    {
     "name": "stdout",
     "output_type": "stream",
     "text": [
      "\u001b[2m\u001b[36m(RolloutWorker pid=1736)\u001b[0m reset triggered\n",
      "\u001b[2m\u001b[36m(RolloutWorker pid=1736)\u001b[0m reload save for track : 72\n"
     ]
    },
    {
     "name": "stderr",
     "output_type": "stream",
     "text": [
      "\u001b[2m\u001b[36m(RolloutWorker pid=1736)\u001b[0m C:\\Users\\nadir\\anaconda3\\envs\\GTRay2.4.0\\lib\\site-packages\\rtgym\\envs\\real_time_env.py:376: UserWarning: Time-step timed out. Elapsed since last time-step: 0.15422420000390957\n",
      "\u001b[2m\u001b[36m(RolloutWorker pid=1736)\u001b[0m   warnings.warn(f\"Time-step timed out. Elapsed since last time-step: {now - self.__t_end}\")\n"
     ]
    },
    {
     "name": "stdout",
     "output_type": "stream",
     "text": [
      "Loop:  85\n"
     ]
    },
    {
     "name": "stderr",
     "output_type": "stream",
     "text": [
      "\u001b[2m\u001b[36m(RolloutWorker pid=1736)\u001b[0m C:\\Users\\nadir\\anaconda3\\envs\\GTRay2.4.0\\lib\\site-packages\\rtgym\\envs\\real_time_env.py:376: UserWarning: Time-step timed out. Elapsed since last time-step: 3.023386600013737\n",
      "\u001b[2m\u001b[36m(RolloutWorker pid=1736)\u001b[0m   warnings.warn(f\"Time-step timed out. Elapsed since last time-step: {now - self.__t_end}\")\n"
     ]
    },
    {
     "name": "stdout",
     "output_type": "stream",
     "text": [
      "\u001b[2m\u001b[36m(RolloutWorker pid=1736)\u001b[0m reset triggered\n",
      "\u001b[2m\u001b[36m(RolloutWorker pid=1736)\u001b[0m reload save for track : 72\n"
     ]
    },
    {
     "name": "stderr",
     "output_type": "stream",
     "text": [
      "\u001b[2m\u001b[36m(RolloutWorker pid=1736)\u001b[0m C:\\Users\\nadir\\anaconda3\\envs\\GTRay2.4.0\\lib\\site-packages\\rtgym\\envs\\real_time_env.py:376: UserWarning: Time-step timed out. Elapsed since last time-step: 0.12680220000356712\n",
      "\u001b[2m\u001b[36m(RolloutWorker pid=1736)\u001b[0m   warnings.warn(f\"Time-step timed out. Elapsed since last time-step: {now - self.__t_end}\")\n",
      "\u001b[2m\u001b[36m(RolloutWorker pid=1736)\u001b[0m C:\\Users\\nadir\\anaconda3\\envs\\GTRay2.4.0\\lib\\site-packages\\rtgym\\envs\\real_time_env.py:376: UserWarning: Time-step timed out. Elapsed since last time-step: 0.05067120001376679\n",
      "\u001b[2m\u001b[36m(RolloutWorker pid=1736)\u001b[0m   warnings.warn(f\"Time-step timed out. Elapsed since last time-step: {now - self.__t_end}\")\n"
     ]
    },
    {
     "name": "stdout",
     "output_type": "stream",
     "text": [
      "Loop:  86\n"
     ]
    },
    {
     "name": "stderr",
     "output_type": "stream",
     "text": [
      "\u001b[2m\u001b[36m(RolloutWorker pid=1736)\u001b[0m C:\\Users\\nadir\\anaconda3\\envs\\GTRay2.4.0\\lib\\site-packages\\rtgym\\envs\\real_time_env.py:376: UserWarning: Time-step timed out. Elapsed since last time-step: 3.0161224000000857\n",
      "\u001b[2m\u001b[36m(RolloutWorker pid=1736)\u001b[0m   warnings.warn(f\"Time-step timed out. Elapsed since last time-step: {now - self.__t_end}\")\n"
     ]
    },
    {
     "name": "stdout",
     "output_type": "stream",
     "text": [
      "\u001b[2m\u001b[36m(RolloutWorker pid=1736)\u001b[0m reset triggered\n",
      "\u001b[2m\u001b[36m(RolloutWorker pid=1736)\u001b[0m reload save for track : 72\n"
     ]
    },
    {
     "name": "stderr",
     "output_type": "stream",
     "text": [
      "\u001b[2m\u001b[36m(RolloutWorker pid=1736)\u001b[0m C:\\Users\\nadir\\anaconda3\\envs\\GTRay2.4.0\\lib\\site-packages\\rtgym\\envs\\real_time_env.py:376: UserWarning: Time-step timed out. Elapsed since last time-step: 0.12299960000359533\n",
      "\u001b[2m\u001b[36m(RolloutWorker pid=1736)\u001b[0m   warnings.warn(f\"Time-step timed out. Elapsed since last time-step: {now - self.__t_end}\")\n"
     ]
    },
    {
     "name": "stdout",
     "output_type": "stream",
     "text": [
      "Loop:  87\n"
     ]
    },
    {
     "name": "stderr",
     "output_type": "stream",
     "text": [
      "\u001b[2m\u001b[36m(RolloutWorker pid=1736)\u001b[0m C:\\Users\\nadir\\anaconda3\\envs\\GTRay2.4.0\\lib\\site-packages\\rtgym\\envs\\real_time_env.py:376: UserWarning: Time-step timed out. Elapsed since last time-step: 3.0988029000138795\n",
      "\u001b[2m\u001b[36m(RolloutWorker pid=1736)\u001b[0m   warnings.warn(f\"Time-step timed out. Elapsed since last time-step: {now - self.__t_end}\")\n"
     ]
    },
    {
     "name": "stdout",
     "output_type": "stream",
     "text": [
      "\u001b[2m\u001b[36m(RolloutWorker pid=1736)\u001b[0m reset triggered\n",
      "\u001b[2m\u001b[36m(RolloutWorker pid=1736)\u001b[0m reload save for track : 72\n"
     ]
    },
    {
     "name": "stderr",
     "output_type": "stream",
     "text": [
      "\u001b[2m\u001b[36m(RolloutWorker pid=1736)\u001b[0m C:\\Users\\nadir\\anaconda3\\envs\\GTRay2.4.0\\lib\\site-packages\\rtgym\\envs\\real_time_env.py:376: UserWarning: Time-step timed out. Elapsed since last time-step: 0.15629880000369667\n",
      "\u001b[2m\u001b[36m(RolloutWorker pid=1736)\u001b[0m   warnings.warn(f\"Time-step timed out. Elapsed since last time-step: {now - self.__t_end}\")\n",
      "\u001b[2m\u001b[36m(RolloutWorker pid=1736)\u001b[0m C:\\Users\\nadir\\anaconda3\\envs\\GTRay2.4.0\\lib\\site-packages\\rtgym\\envs\\real_time_env.py:376: UserWarning: Time-step timed out. Elapsed since last time-step: 0.051884900013646984\n",
      "\u001b[2m\u001b[36m(RolloutWorker pid=1736)\u001b[0m   warnings.warn(f\"Time-step timed out. Elapsed since last time-step: {now - self.__t_end}\")\n"
     ]
    },
    {
     "name": "stdout",
     "output_type": "stream",
     "text": [
      "Loop:  88\n"
     ]
    },
    {
     "name": "stderr",
     "output_type": "stream",
     "text": [
      "\u001b[2m\u001b[36m(RolloutWorker pid=1736)\u001b[0m C:\\Users\\nadir\\anaconda3\\envs\\GTRay2.4.0\\lib\\site-packages\\rtgym\\envs\\real_time_env.py:376: UserWarning: Time-step timed out. Elapsed since last time-step: 2.9582405999999537\n",
      "\u001b[2m\u001b[36m(RolloutWorker pid=1736)\u001b[0m   warnings.warn(f\"Time-step timed out. Elapsed since last time-step: {now - self.__t_end}\")\n"
     ]
    },
    {
     "name": "stdout",
     "output_type": "stream",
     "text": [
      "\u001b[2m\u001b[36m(RolloutWorker pid=1736)\u001b[0m reset triggered\n",
      "\u001b[2m\u001b[36m(RolloutWorker pid=1736)\u001b[0m reload save for track : 72\n"
     ]
    },
    {
     "name": "stderr",
     "output_type": "stream",
     "text": [
      "\u001b[2m\u001b[36m(RolloutWorker pid=1736)\u001b[0m C:\\Users\\nadir\\anaconda3\\envs\\GTRay2.4.0\\lib\\site-packages\\rtgym\\envs\\real_time_env.py:376: UserWarning: Time-step timed out. Elapsed since last time-step: 0.1311238000037065\n",
      "\u001b[2m\u001b[36m(RolloutWorker pid=1736)\u001b[0m   warnings.warn(f\"Time-step timed out. Elapsed since last time-step: {now - self.__t_end}\")\n",
      "\u001b[2m\u001b[36m(RolloutWorker pid=1736)\u001b[0m C:\\Users\\nadir\\anaconda3\\envs\\GTRay2.4.0\\lib\\site-packages\\rtgym\\envs\\real_time_env.py:376: UserWarning: Time-step timed out. Elapsed since last time-step: 0.051275600008466427\n",
      "\u001b[2m\u001b[36m(RolloutWorker pid=1736)\u001b[0m   warnings.warn(f\"Time-step timed out. Elapsed since last time-step: {now - self.__t_end}\")\n",
      "\u001b[2m\u001b[36m(RolloutWorker pid=1736)\u001b[0m C:\\Users\\nadir\\anaconda3\\envs\\GTRay2.4.0\\lib\\site-packages\\rtgym\\envs\\real_time_env.py:376: UserWarning: Time-step timed out. Elapsed since last time-step: 0.05053590000534314\n",
      "\u001b[2m\u001b[36m(RolloutWorker pid=1736)\u001b[0m   warnings.warn(f\"Time-step timed out. Elapsed since last time-step: {now - self.__t_end}\")\n"
     ]
    },
    {
     "name": "stdout",
     "output_type": "stream",
     "text": [
      "Loop:  89\n"
     ]
    },
    {
     "name": "stderr",
     "output_type": "stream",
     "text": [
      "\u001b[2m\u001b[36m(RolloutWorker pid=1736)\u001b[0m C:\\Users\\nadir\\anaconda3\\envs\\GTRay2.4.0\\lib\\site-packages\\rtgym\\envs\\real_time_env.py:376: UserWarning: Time-step timed out. Elapsed since last time-step: 2.9934931000000233\n",
      "\u001b[2m\u001b[36m(RolloutWorker pid=1736)\u001b[0m   warnings.warn(f\"Time-step timed out. Elapsed since last time-step: {now - self.__t_end}\")\n",
      "\u001b[2m\u001b[36m(RolloutWorker pid=1736)\u001b[0m C:\\Users\\nadir\\anaconda3\\envs\\GTRay2.4.0\\lib\\site-packages\\rtgym\\envs\\real_time_env.py:376: UserWarning: Time-step timed out. Elapsed since last time-step: 0.1287798000037128\n",
      "\u001b[2m\u001b[36m(RolloutWorker pid=1736)\u001b[0m   warnings.warn(f\"Time-step timed out. Elapsed since last time-step: {now - self.__t_end}\")\n"
     ]
    },
    {
     "name": "stdout",
     "output_type": "stream",
     "text": [
      "\u001b[2m\u001b[36m(RolloutWorker pid=1736)\u001b[0m reset triggered\n",
      "\u001b[2m\u001b[36m(RolloutWorker pid=1736)\u001b[0m reload save for track : 72\n",
      "Loop:  90\n",
      "Saved 90\n"
     ]
    },
    {
     "name": "stderr",
     "output_type": "stream",
     "text": [
      "\u001b[2m\u001b[36m(RolloutWorker pid=1736)\u001b[0m C:\\Users\\nadir\\anaconda3\\envs\\GTRay2.4.0\\lib\\site-packages\\rtgym\\envs\\real_time_env.py:376: UserWarning: Time-step timed out. Elapsed since last time-step: 3.1080486000139445\n",
      "\u001b[2m\u001b[36m(RolloutWorker pid=1736)\u001b[0m   warnings.warn(f\"Time-step timed out. Elapsed since last time-step: {now - self.__t_end}\")\n"
     ]
    },
    {
     "name": "stdout",
     "output_type": "stream",
     "text": [
      "\u001b[2m\u001b[36m(RolloutWorker pid=1736)\u001b[0m reset triggered\n",
      "\u001b[2m\u001b[36m(RolloutWorker pid=1736)\u001b[0m reload save for track : 72\n"
     ]
    },
    {
     "name": "stderr",
     "output_type": "stream",
     "text": [
      "\u001b[2m\u001b[36m(RolloutWorker pid=1736)\u001b[0m C:\\Users\\nadir\\anaconda3\\envs\\GTRay2.4.0\\lib\\site-packages\\rtgym\\envs\\real_time_env.py:376: UserWarning: Time-step timed out. Elapsed since last time-step: 0.15833039998506138\n",
      "\u001b[2m\u001b[36m(RolloutWorker pid=1736)\u001b[0m   warnings.warn(f\"Time-step timed out. Elapsed since last time-step: {now - self.__t_end}\")\n"
     ]
    },
    {
     "name": "stdout",
     "output_type": "stream",
     "text": [
      "Loop:  91\n"
     ]
    },
    {
     "name": "stderr",
     "output_type": "stream",
     "text": [
      "\u001b[2m\u001b[36m(RolloutWorker pid=1736)\u001b[0m C:\\Users\\nadir\\anaconda3\\envs\\GTRay2.4.0\\lib\\site-packages\\rtgym\\envs\\real_time_env.py:376: UserWarning: Time-step timed out. Elapsed since last time-step: 2.9380343999450815\n",
      "\u001b[2m\u001b[36m(RolloutWorker pid=1736)\u001b[0m   warnings.warn(f\"Time-step timed out. Elapsed since last time-step: {now - self.__t_end}\")\n"
     ]
    },
    {
     "name": "stdout",
     "output_type": "stream",
     "text": [
      "\u001b[2m\u001b[36m(RolloutWorker pid=1736)\u001b[0m reset triggered\n",
      "\u001b[2m\u001b[36m(RolloutWorker pid=1736)\u001b[0m reload save for track : 72\n"
     ]
    },
    {
     "name": "stderr",
     "output_type": "stream",
     "text": [
      "\u001b[2m\u001b[36m(RolloutWorker pid=1736)\u001b[0m C:\\Users\\nadir\\anaconda3\\envs\\GTRay2.4.0\\lib\\site-packages\\rtgym\\envs\\real_time_env.py:376: UserWarning: Time-step timed out. Elapsed since last time-step: 0.16208859998505432\n",
      "\u001b[2m\u001b[36m(RolloutWorker pid=1736)\u001b[0m   warnings.warn(f\"Time-step timed out. Elapsed since last time-step: {now - self.__t_end}\")\n"
     ]
    },
    {
     "name": "stdout",
     "output_type": "stream",
     "text": [
      "Loop:  92\n"
     ]
    },
    {
     "name": "stderr",
     "output_type": "stream",
     "text": [
      "\u001b[2m\u001b[36m(RolloutWorker pid=1736)\u001b[0m C:\\Users\\nadir\\anaconda3\\envs\\GTRay2.4.0\\lib\\site-packages\\rtgym\\envs\\real_time_env.py:376: UserWarning: Time-step timed out. Elapsed since last time-step: 3.077820499945119\n",
      "\u001b[2m\u001b[36m(RolloutWorker pid=1736)\u001b[0m   warnings.warn(f\"Time-step timed out. Elapsed since last time-step: {now - self.__t_end}\")\n"
     ]
    },
    {
     "name": "stdout",
     "output_type": "stream",
     "text": [
      "\u001b[2m\u001b[36m(RolloutWorker pid=1736)\u001b[0m reset triggered\n",
      "\u001b[2m\u001b[36m(RolloutWorker pid=1736)\u001b[0m reload save for track : 72\n"
     ]
    },
    {
     "name": "stderr",
     "output_type": "stream",
     "text": [
      "\u001b[2m\u001b[36m(RolloutWorker pid=1736)\u001b[0m C:\\Users\\nadir\\anaconda3\\envs\\GTRay2.4.0\\lib\\site-packages\\rtgym\\envs\\real_time_env.py:376: UserWarning: Time-step timed out. Elapsed since last time-step: 0.13185879998491146\n",
      "\u001b[2m\u001b[36m(RolloutWorker pid=1736)\u001b[0m   warnings.warn(f\"Time-step timed out. Elapsed since last time-step: {now - self.__t_end}\")\n"
     ]
    },
    {
     "name": "stdout",
     "output_type": "stream",
     "text": [
      "Loop:  93\n"
     ]
    },
    {
     "name": "stderr",
     "output_type": "stream",
     "text": [
      "\u001b[2m\u001b[36m(RolloutWorker pid=1736)\u001b[0m C:\\Users\\nadir\\anaconda3\\envs\\GTRay2.4.0\\lib\\site-packages\\rtgym\\envs\\real_time_env.py:376: UserWarning: Time-step timed out. Elapsed since last time-step: 3.039446199944905\n",
      "\u001b[2m\u001b[36m(RolloutWorker pid=1736)\u001b[0m   warnings.warn(f\"Time-step timed out. Elapsed since last time-step: {now - self.__t_end}\")\n"
     ]
    },
    {
     "name": "stdout",
     "output_type": "stream",
     "text": [
      "\u001b[2m\u001b[36m(RolloutWorker pid=1736)\u001b[0m reset triggered\n",
      "\u001b[2m\u001b[36m(RolloutWorker pid=1736)\u001b[0m reload save for track : 72\n"
     ]
    },
    {
     "name": "stderr",
     "output_type": "stream",
     "text": [
      "\u001b[2m\u001b[36m(RolloutWorker pid=1736)\u001b[0m C:\\Users\\nadir\\anaconda3\\envs\\GTRay2.4.0\\lib\\site-packages\\rtgym\\envs\\real_time_env.py:376: UserWarning: Time-step timed out. Elapsed since last time-step: 0.13537129998530872\n",
      "\u001b[2m\u001b[36m(RolloutWorker pid=1736)\u001b[0m   warnings.warn(f\"Time-step timed out. Elapsed since last time-step: {now - self.__t_end}\")\n"
     ]
    },
    {
     "name": "stdout",
     "output_type": "stream",
     "text": [
      "Loop:  94\n"
     ]
    },
    {
     "name": "stderr",
     "output_type": "stream",
     "text": [
      "\u001b[2m\u001b[36m(RolloutWorker pid=1736)\u001b[0m C:\\Users\\nadir\\anaconda3\\envs\\GTRay2.4.0\\lib\\site-packages\\rtgym\\envs\\real_time_env.py:376: UserWarning: Time-step timed out. Elapsed since last time-step: 3.055574399944817\n",
      "\u001b[2m\u001b[36m(RolloutWorker pid=1736)\u001b[0m   warnings.warn(f\"Time-step timed out. Elapsed since last time-step: {now - self.__t_end}\")\n"
     ]
    },
    {
     "name": "stdout",
     "output_type": "stream",
     "text": [
      "\u001b[2m\u001b[36m(RolloutWorker pid=1736)\u001b[0m reset triggered\n",
      "\u001b[2m\u001b[36m(RolloutWorker pid=1736)\u001b[0m reload save for track : 72\n"
     ]
    },
    {
     "name": "stderr",
     "output_type": "stream",
     "text": [
      "\u001b[2m\u001b[36m(RolloutWorker pid=1736)\u001b[0m C:\\Users\\nadir\\anaconda3\\envs\\GTRay2.4.0\\lib\\site-packages\\rtgym\\envs\\real_time_env.py:376: UserWarning: Time-step timed out. Elapsed since last time-step: 0.13445789998513646\n",
      "\u001b[2m\u001b[36m(RolloutWorker pid=1736)\u001b[0m   warnings.warn(f\"Time-step timed out. Elapsed since last time-step: {now - self.__t_end}\")\n",
      "\u001b[2m\u001b[36m(RolloutWorker pid=1736)\u001b[0m C:\\Users\\nadir\\anaconda3\\envs\\GTRay2.4.0\\lib\\site-packages\\rtgym\\envs\\real_time_env.py:376: UserWarning: Time-step timed out. Elapsed since last time-step: 0.05173409994540634\n",
      "\u001b[2m\u001b[36m(RolloutWorker pid=1736)\u001b[0m   warnings.warn(f\"Time-step timed out. Elapsed since last time-step: {now - self.__t_end}\")\n"
     ]
    },
    {
     "name": "stdout",
     "output_type": "stream",
     "text": [
      "Loop:  95\n"
     ]
    },
    {
     "name": "stderr",
     "output_type": "stream",
     "text": [
      "\u001b[2m\u001b[36m(RolloutWorker pid=1736)\u001b[0m C:\\Users\\nadir\\anaconda3\\envs\\GTRay2.4.0\\lib\\site-packages\\rtgym\\envs\\real_time_env.py:376: UserWarning: Time-step timed out. Elapsed since last time-step: 3.001523299999917\n",
      "\u001b[2m\u001b[36m(RolloutWorker pid=1736)\u001b[0m   warnings.warn(f\"Time-step timed out. Elapsed since last time-step: {now - self.__t_end}\")\n"
     ]
    },
    {
     "name": "stdout",
     "output_type": "stream",
     "text": [
      "\u001b[2m\u001b[36m(RolloutWorker pid=1736)\u001b[0m reset triggered\n",
      "\u001b[2m\u001b[36m(RolloutWorker pid=1736)\u001b[0m reload save for track : 72\n"
     ]
    },
    {
     "name": "stderr",
     "output_type": "stream",
     "text": [
      "\u001b[2m\u001b[36m(RolloutWorker pid=1736)\u001b[0m C:\\Users\\nadir\\anaconda3\\envs\\GTRay2.4.0\\lib\\site-packages\\rtgym\\envs\\real_time_env.py:376: UserWarning: Time-step timed out. Elapsed since last time-step: 0.11645699998507553\n",
      "\u001b[2m\u001b[36m(RolloutWorker pid=1736)\u001b[0m   warnings.warn(f\"Time-step timed out. Elapsed since last time-step: {now - self.__t_end}\")\n",
      "\u001b[2m\u001b[36m(RolloutWorker pid=1736)\u001b[0m C:\\Users\\nadir\\anaconda3\\envs\\GTRay2.4.0\\lib\\site-packages\\rtgym\\envs\\real_time_env.py:376: UserWarning: Time-step timed out. Elapsed since last time-step: 0.05405589994506954\n",
      "\u001b[2m\u001b[36m(RolloutWorker pid=1736)\u001b[0m   warnings.warn(f\"Time-step timed out. Elapsed since last time-step: {now - self.__t_end}\")\n"
     ]
    },
    {
     "name": "stdout",
     "output_type": "stream",
     "text": [
      "Loop:  96\n"
     ]
    },
    {
     "name": "stderr",
     "output_type": "stream",
     "text": [
      "\u001b[2m\u001b[36m(RolloutWorker pid=1736)\u001b[0m C:\\Users\\nadir\\anaconda3\\envs\\GTRay2.4.0\\lib\\site-packages\\rtgym\\envs\\real_time_env.py:376: UserWarning: Time-step timed out. Elapsed since last time-step: 3.0878913999999895\n",
      "\u001b[2m\u001b[36m(RolloutWorker pid=1736)\u001b[0m   warnings.warn(f\"Time-step timed out. Elapsed since last time-step: {now - self.__t_end}\")\n"
     ]
    },
    {
     "name": "stdout",
     "output_type": "stream",
     "text": [
      "\u001b[2m\u001b[36m(RolloutWorker pid=1736)\u001b[0m reset triggered\n",
      "\u001b[2m\u001b[36m(RolloutWorker pid=1736)\u001b[0m reload save for track : 72\n"
     ]
    },
    {
     "name": "stderr",
     "output_type": "stream",
     "text": [
      "\u001b[2m\u001b[36m(RolloutWorker pid=1736)\u001b[0m C:\\Users\\nadir\\anaconda3\\envs\\GTRay2.4.0\\lib\\site-packages\\rtgym\\envs\\real_time_env.py:376: UserWarning: Time-step timed out. Elapsed since last time-step: 0.09753109998473519\n",
      "\u001b[2m\u001b[36m(RolloutWorker pid=1736)\u001b[0m   warnings.warn(f\"Time-step timed out. Elapsed since last time-step: {now - self.__t_end}\")\n"
     ]
    },
    {
     "name": "stdout",
     "output_type": "stream",
     "text": [
      "Loop:  97\n"
     ]
    },
    {
     "name": "stderr",
     "output_type": "stream",
     "text": [
      "\u001b[2m\u001b[36m(RolloutWorker pid=1736)\u001b[0m C:\\Users\\nadir\\anaconda3\\envs\\GTRay2.4.0\\lib\\site-packages\\rtgym\\envs\\real_time_env.py:376: UserWarning: Time-step timed out. Elapsed since last time-step: 3.0301418999451926\n",
      "\u001b[2m\u001b[36m(RolloutWorker pid=1736)\u001b[0m   warnings.warn(f\"Time-step timed out. Elapsed since last time-step: {now - self.__t_end}\")\n"
     ]
    },
    {
     "name": "stdout",
     "output_type": "stream",
     "text": [
      "\u001b[2m\u001b[36m(RolloutWorker pid=1736)\u001b[0m reset triggered\n",
      "\u001b[2m\u001b[36m(RolloutWorker pid=1736)\u001b[0m reload save for track : 72\n"
     ]
    },
    {
     "name": "stderr",
     "output_type": "stream",
     "text": [
      "\u001b[2m\u001b[36m(RolloutWorker pid=1736)\u001b[0m C:\\Users\\nadir\\anaconda3\\envs\\GTRay2.4.0\\lib\\site-packages\\rtgym\\envs\\real_time_env.py:376: UserWarning: Time-step timed out. Elapsed since last time-step: 0.15016709998508304\n",
      "\u001b[2m\u001b[36m(RolloutWorker pid=1736)\u001b[0m   warnings.warn(f\"Time-step timed out. Elapsed since last time-step: {now - self.__t_end}\")\n"
     ]
    },
    {
     "name": "stdout",
     "output_type": "stream",
     "text": [
      "Loop:  98\n"
     ]
    },
    {
     "name": "stderr",
     "output_type": "stream",
     "text": [
      "\u001b[2m\u001b[36m(RolloutWorker pid=1736)\u001b[0m C:\\Users\\nadir\\anaconda3\\envs\\GTRay2.4.0\\lib\\site-packages\\rtgym\\envs\\real_time_env.py:376: UserWarning: Time-step timed out. Elapsed since last time-step: 3.0664625999452255\n",
      "\u001b[2m\u001b[36m(RolloutWorker pid=1736)\u001b[0m   warnings.warn(f\"Time-step timed out. Elapsed since last time-step: {now - self.__t_end}\")\n"
     ]
    },
    {
     "name": "stdout",
     "output_type": "stream",
     "text": [
      "\u001b[2m\u001b[36m(RolloutWorker pid=1736)\u001b[0m reset triggered\n",
      "\u001b[2m\u001b[36m(RolloutWorker pid=1736)\u001b[0m reload save for track : 72\n"
     ]
    },
    {
     "name": "stderr",
     "output_type": "stream",
     "text": [
      "\u001b[2m\u001b[36m(RolloutWorker pid=1736)\u001b[0m C:\\Users\\nadir\\anaconda3\\envs\\GTRay2.4.0\\lib\\site-packages\\rtgym\\envs\\real_time_env.py:376: UserWarning: Time-step timed out. Elapsed since last time-step: 0.12302279998493759\n",
      "\u001b[2m\u001b[36m(RolloutWorker pid=1736)\u001b[0m   warnings.warn(f\"Time-step timed out. Elapsed since last time-step: {now - self.__t_end}\")\n"
     ]
    },
    {
     "name": "stdout",
     "output_type": "stream",
     "text": [
      "Loop:  99\n"
     ]
    },
    {
     "name": "stderr",
     "output_type": "stream",
     "text": [
      "\u001b[2m\u001b[36m(RolloutWorker pid=1736)\u001b[0m C:\\Users\\nadir\\anaconda3\\envs\\GTRay2.4.0\\lib\\site-packages\\rtgym\\envs\\real_time_env.py:376: UserWarning: Time-step timed out. Elapsed since last time-step: 3.056881299944962\n",
      "\u001b[2m\u001b[36m(RolloutWorker pid=1736)\u001b[0m   warnings.warn(f\"Time-step timed out. Elapsed since last time-step: {now - self.__t_end}\")\n"
     ]
    },
    {
     "name": "stdout",
     "output_type": "stream",
     "text": [
      "\u001b[2m\u001b[36m(RolloutWorker pid=1736)\u001b[0m reset triggered\n",
      "\u001b[2m\u001b[36m(RolloutWorker pid=1736)\u001b[0m reload save for track : 72\n"
     ]
    },
    {
     "name": "stderr",
     "output_type": "stream",
     "text": [
      "\u001b[2m\u001b[36m(RolloutWorker pid=1736)\u001b[0m C:\\Users\\nadir\\anaconda3\\envs\\GTRay2.4.0\\lib\\site-packages\\rtgym\\envs\\real_time_env.py:376: UserWarning: Time-step timed out. Elapsed since last time-step: 0.13342719998536268\n",
      "\u001b[2m\u001b[36m(RolloutWorker pid=1736)\u001b[0m   warnings.warn(f\"Time-step timed out. Elapsed since last time-step: {now - self.__t_end}\")\n",
      "\u001b[2m\u001b[36m(RolloutWorker pid=1736)\u001b[0m C:\\Users\\nadir\\anaconda3\\envs\\GTRay2.4.0\\lib\\site-packages\\rtgym\\envs\\real_time_env.py:376: UserWarning: Time-step timed out. Elapsed since last time-step: 0.05009139994535872\n",
      "\u001b[2m\u001b[36m(RolloutWorker pid=1736)\u001b[0m   warnings.warn(f\"Time-step timed out. Elapsed since last time-step: {now - self.__t_end}\")\n"
     ]
    },
    {
     "name": "stdout",
     "output_type": "stream",
     "text": [
      "Loop:  100\n",
      "Saved 100\n"
     ]
    },
    {
     "name": "stderr",
     "output_type": "stream",
     "text": [
      "\u001b[2m\u001b[36m(RolloutWorker pid=1736)\u001b[0m C:\\Users\\nadir\\anaconda3\\envs\\GTRay2.4.0\\lib\\site-packages\\rtgym\\envs\\real_time_env.py:376: UserWarning: Time-step timed out. Elapsed since last time-step: 3.1425077999997484\n",
      "\u001b[2m\u001b[36m(RolloutWorker pid=1736)\u001b[0m   warnings.warn(f\"Time-step timed out. Elapsed since last time-step: {now - self.__t_end}\")\n",
      "\u001b[2m\u001b[36m(RolloutWorker pid=1736)\u001b[0m C:\\Users\\nadir\\anaconda3\\envs\\GTRay2.4.0\\lib\\site-packages\\rtgym\\envs\\real_time_env.py:376: UserWarning: Time-step timed out. Elapsed since last time-step: 0.15401519998476942\n",
      "\u001b[2m\u001b[36m(RolloutWorker pid=1736)\u001b[0m   warnings.warn(f\"Time-step timed out. Elapsed since last time-step: {now - self.__t_end}\")\n"
     ]
    },
    {
     "name": "stdout",
     "output_type": "stream",
     "text": [
      "\u001b[2m\u001b[36m(RolloutWorker pid=1736)\u001b[0m reset triggered\n",
      "\u001b[2m\u001b[36m(RolloutWorker pid=1736)\u001b[0m reload save for track : 72\n"
     ]
    },
    {
     "name": "stderr",
     "output_type": "stream",
     "text": [
      "\u001b[2m\u001b[36m(RolloutWorker pid=1736)\u001b[0m C:\\Users\\nadir\\anaconda3\\envs\\GTRay2.4.0\\lib\\site-packages\\rtgym\\envs\\real_time_env.py:376: UserWarning: Time-step timed out. Elapsed since last time-step: 0.054609199962214916\n",
      "\u001b[2m\u001b[36m(RolloutWorker pid=1736)\u001b[0m   warnings.warn(f\"Time-step timed out. Elapsed since last time-step: {now - self.__t_end}\")\n"
     ]
    },
    {
     "name": "stdout",
     "output_type": "stream",
     "text": [
      "Loop:  101\n"
     ]
    },
    {
     "name": "stderr",
     "output_type": "stream",
     "text": [
      "\u001b[2m\u001b[36m(RolloutWorker pid=1736)\u001b[0m C:\\Users\\nadir\\anaconda3\\envs\\GTRay2.4.0\\lib\\site-packages\\rtgym\\envs\\real_time_env.py:376: UserWarning: Time-step timed out. Elapsed since last time-step: 3.0709886999829905\n",
      "\u001b[2m\u001b[36m(RolloutWorker pid=1736)\u001b[0m   warnings.warn(f\"Time-step timed out. Elapsed since last time-step: {now - self.__t_end}\")\n",
      "\u001b[2m\u001b[36m(RolloutWorker pid=1736)\u001b[0m C:\\Users\\nadir\\anaconda3\\envs\\GTRay2.4.0\\lib\\site-packages\\rtgym\\envs\\real_time_env.py:376: UserWarning: Time-step timed out. Elapsed since last time-step: 0.1278362999851197\n",
      "\u001b[2m\u001b[36m(RolloutWorker pid=1736)\u001b[0m   warnings.warn(f\"Time-step timed out. Elapsed since last time-step: {now - self.__t_end}\")\n"
     ]
    },
    {
     "name": "stdout",
     "output_type": "stream",
     "text": [
      "\u001b[2m\u001b[36m(RolloutWorker pid=1736)\u001b[0m reset triggered\n",
      "\u001b[2m\u001b[36m(RolloutWorker pid=1736)\u001b[0m reload save for track : 72\n",
      "Loop:  102\n"
     ]
    },
    {
     "name": "stderr",
     "output_type": "stream",
     "text": [
      "\u001b[2m\u001b[36m(RolloutWorker pid=1736)\u001b[0m C:\\Users\\nadir\\anaconda3\\envs\\GTRay2.4.0\\lib\\site-packages\\rtgym\\envs\\real_time_env.py:376: UserWarning: Time-step timed out. Elapsed since last time-step: 3.0677357999452397\n",
      "\u001b[2m\u001b[36m(RolloutWorker pid=1736)\u001b[0m   warnings.warn(f\"Time-step timed out. Elapsed since last time-step: {now - self.__t_end}\")\n"
     ]
    },
    {
     "name": "stdout",
     "output_type": "stream",
     "text": [
      "\u001b[2m\u001b[36m(RolloutWorker pid=1736)\u001b[0m reset triggered\n",
      "\u001b[2m\u001b[36m(RolloutWorker pid=1736)\u001b[0m reload save for track : 72\n"
     ]
    },
    {
     "name": "stderr",
     "output_type": "stream",
     "text": [
      "\u001b[2m\u001b[36m(RolloutWorker pid=1736)\u001b[0m C:\\Users\\nadir\\anaconda3\\envs\\GTRay2.4.0\\lib\\site-packages\\rtgym\\envs\\real_time_env.py:376: UserWarning: Time-step timed out. Elapsed since last time-step: 0.1324109999850407\n",
      "\u001b[2m\u001b[36m(RolloutWorker pid=1736)\u001b[0m   warnings.warn(f\"Time-step timed out. Elapsed since last time-step: {now - self.__t_end}\")\n"
     ]
    },
    {
     "name": "stdout",
     "output_type": "stream",
     "text": [
      "Loop:  103\n"
     ]
    },
    {
     "name": "stderr",
     "output_type": "stream",
     "text": [
      "\u001b[2m\u001b[36m(RolloutWorker pid=1736)\u001b[0m C:\\Users\\nadir\\anaconda3\\envs\\GTRay2.4.0\\lib\\site-packages\\rtgym\\envs\\real_time_env.py:376: UserWarning: Time-step timed out. Elapsed since last time-step: 3.0596054999450644\n",
      "\u001b[2m\u001b[36m(RolloutWorker pid=1736)\u001b[0m   warnings.warn(f\"Time-step timed out. Elapsed since last time-step: {now - self.__t_end}\")\n"
     ]
    },
    {
     "name": "stdout",
     "output_type": "stream",
     "text": [
      "\u001b[2m\u001b[36m(RolloutWorker pid=1736)\u001b[0m reset triggered\n",
      "\u001b[2m\u001b[36m(RolloutWorker pid=1736)\u001b[0m reload save for track : 72\n"
     ]
    },
    {
     "name": "stderr",
     "output_type": "stream",
     "text": [
      "\u001b[2m\u001b[36m(RolloutWorker pid=1736)\u001b[0m C:\\Users\\nadir\\anaconda3\\envs\\GTRay2.4.0\\lib\\site-packages\\rtgym\\envs\\real_time_env.py:376: UserWarning: Time-step timed out. Elapsed since last time-step: 0.1306182999851444\n",
      "\u001b[2m\u001b[36m(RolloutWorker pid=1736)\u001b[0m   warnings.warn(f\"Time-step timed out. Elapsed since last time-step: {now - self.__t_end}\")\n"
     ]
    },
    {
     "name": "stdout",
     "output_type": "stream",
     "text": [
      "Loop:  104\n"
     ]
    },
    {
     "name": "stderr",
     "output_type": "stream",
     "text": [
      "\u001b[2m\u001b[36m(RolloutWorker pid=1736)\u001b[0m C:\\Users\\nadir\\anaconda3\\envs\\GTRay2.4.0\\lib\\site-packages\\rtgym\\envs\\real_time_env.py:376: UserWarning: Time-step timed out. Elapsed since last time-step: 3.0333475999450457\n",
      "\u001b[2m\u001b[36m(RolloutWorker pid=1736)\u001b[0m   warnings.warn(f\"Time-step timed out. Elapsed since last time-step: {now - self.__t_end}\")\n"
     ]
    },
    {
     "name": "stdout",
     "output_type": "stream",
     "text": [
      "\u001b[2m\u001b[36m(RolloutWorker pid=1736)\u001b[0m reset triggered\n",
      "\u001b[2m\u001b[36m(RolloutWorker pid=1736)\u001b[0m reload save for track : 72\n"
     ]
    },
    {
     "name": "stderr",
     "output_type": "stream",
     "text": [
      "\u001b[2m\u001b[36m(RolloutWorker pid=1736)\u001b[0m C:\\Users\\nadir\\anaconda3\\envs\\GTRay2.4.0\\lib\\site-packages\\rtgym\\envs\\real_time_env.py:376: UserWarning: Time-step timed out. Elapsed since last time-step: 0.13290719998485656\n",
      "\u001b[2m\u001b[36m(RolloutWorker pid=1736)\u001b[0m   warnings.warn(f\"Time-step timed out. Elapsed since last time-step: {now - self.__t_end}\")\n"
     ]
    },
    {
     "name": "stdout",
     "output_type": "stream",
     "text": [
      "Loop:  105\n"
     ]
    },
    {
     "name": "stderr",
     "output_type": "stream",
     "text": [
      "\u001b[2m\u001b[36m(RolloutWorker pid=1736)\u001b[0m C:\\Users\\nadir\\anaconda3\\envs\\GTRay2.4.0\\lib\\site-packages\\rtgym\\envs\\real_time_env.py:376: UserWarning: Time-step timed out. Elapsed since last time-step: 3.065734299945234\n",
      "\u001b[2m\u001b[36m(RolloutWorker pid=1736)\u001b[0m   warnings.warn(f\"Time-step timed out. Elapsed since last time-step: {now - self.__t_end}\")\n"
     ]
    },
    {
     "name": "stdout",
     "output_type": "stream",
     "text": [
      "\u001b[2m\u001b[36m(RolloutWorker pid=1736)\u001b[0m reset triggered\n",
      "\u001b[2m\u001b[36m(RolloutWorker pid=1736)\u001b[0m reload save for track :\n",
      "\u001b[2m\u001b[36m(RolloutWorker pid=1736)\u001b[0m  72\n",
      "\u001b[2m\u001b[36m(RolloutWorker pid=1736)\u001b[0m \n"
     ]
    },
    {
     "name": "stderr",
     "output_type": "stream",
     "text": [
      "\u001b[2m\u001b[36m(RolloutWorker pid=1736)\u001b[0m C:\\Users\\nadir\\anaconda3\\envs\\GTRay2.4.0\\lib\\site-packages\\rtgym\\envs\\real_time_env.py:376: UserWarning: Time-step timed out. Elapsed since last time-step: 0.12424609998515734\n",
      "\u001b[2m\u001b[36m(RolloutWorker pid=1736)\u001b[0m   warnings.warn(f\"Time-step timed out. Elapsed since last time-step: {now - self.__t_end}\")\n",
      "\u001b[2m\u001b[36m(RolloutWorker pid=1736)\u001b[0m C:\\Users\\nadir\\anaconda3\\envs\\GTRay2.4.0\\lib\\site-packages\\rtgym\\envs\\real_time_env.py:376: UserWarning: Time-step timed out. Elapsed since last time-step: 0.12216859998443397\n",
      "\u001b[2m\u001b[36m(RolloutWorker pid=1736)\u001b[0m   warnings.warn(f\"Time-step timed out. Elapsed since last time-step: {now - self.__t_end}\")\n"
     ]
    },
    {
     "name": "stdout",
     "output_type": "stream",
     "text": [
      "Loop:  106\n"
     ]
    },
    {
     "name": "stderr",
     "output_type": "stream",
     "text": [
      "\u001b[2m\u001b[36m(RolloutWorker pid=1736)\u001b[0m C:\\Users\\nadir\\anaconda3\\envs\\GTRay2.4.0\\lib\\site-packages\\rtgym\\envs\\real_time_env.py:376: UserWarning: Time-step timed out. Elapsed since last time-step: 2.9292806999606\n",
      "\u001b[2m\u001b[36m(RolloutWorker pid=1736)\u001b[0m   warnings.warn(f\"Time-step timed out. Elapsed since last time-step: {now - self.__t_end}\")\n"
     ]
    },
    {
     "name": "stdout",
     "output_type": "stream",
     "text": [
      "\u001b[2m\u001b[36m(RolloutWorker pid=1736)\u001b[0m reset triggered\n",
      "\u001b[2m\u001b[36m(RolloutWorker pid=1736)\u001b[0m reload save for track : 72\n"
     ]
    },
    {
     "name": "stderr",
     "output_type": "stream",
     "text": [
      "\u001b[2m\u001b[36m(RolloutWorker pid=1736)\u001b[0m C:\\Users\\nadir\\anaconda3\\envs\\GTRay2.4.0\\lib\\site-packages\\rtgym\\envs\\real_time_env.py:376: UserWarning: Time-step timed out. Elapsed since last time-step: 0.14857229998506227\n",
      "\u001b[2m\u001b[36m(RolloutWorker pid=1736)\u001b[0m   warnings.warn(f\"Time-step timed out. Elapsed since last time-step: {now - self.__t_end}\")\n"
     ]
    },
    {
     "name": "stdout",
     "output_type": "stream",
     "text": [
      "Loop:  107\n"
     ]
    },
    {
     "name": "stderr",
     "output_type": "stream",
     "text": [
      "\u001b[2m\u001b[36m(RolloutWorker pid=1736)\u001b[0m C:\\Users\\nadir\\anaconda3\\envs\\GTRay2.4.0\\lib\\site-packages\\rtgym\\envs\\real_time_env.py:376: UserWarning: Time-step timed out. Elapsed since last time-step: 3.0574677999447886\n",
      "\u001b[2m\u001b[36m(RolloutWorker pid=1736)\u001b[0m   warnings.warn(f\"Time-step timed out. Elapsed since last time-step: {now - self.__t_end}\")\n",
      "\u001b[2m\u001b[36m(RolloutWorker pid=1736)\u001b[0m C:\\Users\\nadir\\anaconda3\\envs\\GTRay2.4.0\\lib\\site-packages\\rtgym\\envs\\real_time_env.py:376: UserWarning: Time-step timed out. Elapsed since last time-step: 0.1426158999852305\n",
      "\u001b[2m\u001b[36m(RolloutWorker pid=1736)\u001b[0m   warnings.warn(f\"Time-step timed out. Elapsed since last time-step: {now - self.__t_end}\")\n"
     ]
    },
    {
     "name": "stdout",
     "output_type": "stream",
     "text": [
      "\u001b[2m\u001b[36m(RolloutWorker pid=1736)\u001b[0m reset triggered\n",
      "\u001b[2m\u001b[36m(RolloutWorker pid=1736)\u001b[0m reload save for track : 72\n",
      "Loop:  108\n"
     ]
    },
    {
     "name": "stderr",
     "output_type": "stream",
     "text": [
      "\u001b[2m\u001b[36m(RolloutWorker pid=1736)\u001b[0m C:\\Users\\nadir\\anaconda3\\envs\\GTRay2.4.0\\lib\\site-packages\\rtgym\\envs\\real_time_env.py:376: UserWarning: Time-step timed out. Elapsed since last time-step: 3.0450829999449525\n",
      "\u001b[2m\u001b[36m(RolloutWorker pid=1736)\u001b[0m   warnings.warn(f\"Time-step timed out. Elapsed since last time-step: {now - self.__t_end}\")\n"
     ]
    },
    {
     "name": "stdout",
     "output_type": "stream",
     "text": [
      "\u001b[2m\u001b[36m(RolloutWorker pid=1736)\u001b[0m reset triggered\n",
      "\u001b[2m\u001b[36m(RolloutWorker pid=1736)\u001b[0m reload save for track : 72\n"
     ]
    },
    {
     "name": "stderr",
     "output_type": "stream",
     "text": [
      "\u001b[2m\u001b[36m(RolloutWorker pid=1736)\u001b[0m C:\\Users\\nadir\\anaconda3\\envs\\GTRay2.4.0\\lib\\site-packages\\rtgym\\envs\\real_time_env.py:376: UserWarning: Time-step timed out. Elapsed since last time-step: 0.1387689999851318\n",
      "\u001b[2m\u001b[36m(RolloutWorker pid=1736)\u001b[0m   warnings.warn(f\"Time-step timed out. Elapsed since last time-step: {now - self.__t_end}\")\n"
     ]
    },
    {
     "name": "stdout",
     "output_type": "stream",
     "text": [
      "Loop:  109\n"
     ]
    },
    {
     "name": "stderr",
     "output_type": "stream",
     "text": [
      "\u001b[2m\u001b[36m(RolloutWorker pid=1736)\u001b[0m C:\\Users\\nadir\\anaconda3\\envs\\GTRay2.4.0\\lib\\site-packages\\rtgym\\envs\\real_time_env.py:376: UserWarning: Time-step timed out. Elapsed since last time-step: 3.0810335999449308\n",
      "\u001b[2m\u001b[36m(RolloutWorker pid=1736)\u001b[0m   warnings.warn(f\"Time-step timed out. Elapsed since last time-step: {now - self.__t_end}\")\n",
      "\u001b[2m\u001b[36m(RolloutWorker pid=1736)\u001b[0m C:\\Users\\nadir\\anaconda3\\envs\\GTRay2.4.0\\lib\\site-packages\\rtgym\\envs\\real_time_env.py:376: UserWarning: Time-step timed out. Elapsed since last time-step: 0.14538869998523296\n",
      "\u001b[2m\u001b[36m(RolloutWorker pid=1736)\u001b[0m   warnings.warn(f\"Time-step timed out. Elapsed since last time-step: {now - self.__t_end}\")\n"
     ]
    },
    {
     "name": "stdout",
     "output_type": "stream",
     "text": [
      "\u001b[2m\u001b[36m(RolloutWorker pid=1736)\u001b[0m reset triggered\n",
      "\u001b[2m\u001b[36m(RolloutWorker pid=1736)\u001b[0m reload save for track : 72\n",
      "Loop:  110\n",
      "Saved 110\n"
     ]
    },
    {
     "name": "stderr",
     "output_type": "stream",
     "text": [
      "\u001b[2m\u001b[36m(RolloutWorker pid=1736)\u001b[0m C:\\Users\\nadir\\anaconda3\\envs\\GTRay2.4.0\\lib\\site-packages\\rtgym\\envs\\real_time_env.py:376: UserWarning: Time-step timed out. Elapsed since last time-step: 3.09768079994501\n",
      "\u001b[2m\u001b[36m(RolloutWorker pid=1736)\u001b[0m   warnings.warn(f\"Time-step timed out. Elapsed since last time-step: {now - self.__t_end}\")\n",
      "\u001b[2m\u001b[36m(RolloutWorker pid=1736)\u001b[0m C:\\Users\\nadir\\anaconda3\\envs\\GTRay2.4.0\\lib\\site-packages\\rtgym\\envs\\real_time_env.py:376: UserWarning: Time-step timed out. Elapsed since last time-step: 0.13186449998511307\n",
      "\u001b[2m\u001b[36m(RolloutWorker pid=1736)\u001b[0m   warnings.warn(f\"Time-step timed out. Elapsed since last time-step: {now - self.__t_end}\")\n"
     ]
    },
    {
     "name": "stdout",
     "output_type": "stream",
     "text": [
      "\u001b[2m\u001b[36m(RolloutWorker pid=1736)\u001b[0m reset triggered\n",
      "\u001b[2m\u001b[36m(RolloutWorker pid=1736)\u001b[0m reload save for track : 72\n",
      "Loop:  111\n"
     ]
    },
    {
     "name": "stderr",
     "output_type": "stream",
     "text": [
      "\u001b[2m\u001b[36m(RolloutWorker pid=1736)\u001b[0m C:\\Users\\nadir\\anaconda3\\envs\\GTRay2.4.0\\lib\\site-packages\\rtgym\\envs\\real_time_env.py:376: UserWarning: Time-step timed out. Elapsed since last time-step: 2.9977878999452514\n",
      "\u001b[2m\u001b[36m(RolloutWorker pid=1736)\u001b[0m   warnings.warn(f\"Time-step timed out. Elapsed since last time-step: {now - self.__t_end}\")\n"
     ]
    },
    {
     "name": "stdout",
     "output_type": "stream",
     "text": [
      "\u001b[2m\u001b[36m(RolloutWorker pid=1736)\u001b[0m reset triggered\n",
      "\u001b[2m\u001b[36m(RolloutWorker pid=1736)\u001b[0m reload save for track : 72\n"
     ]
    },
    {
     "name": "stderr",
     "output_type": "stream",
     "text": [
      "\u001b[2m\u001b[36m(RolloutWorker pid=1736)\u001b[0m C:\\Users\\nadir\\anaconda3\\envs\\GTRay2.4.0\\lib\\site-packages\\rtgym\\envs\\real_time_env.py:376: UserWarning: Time-step timed out. Elapsed since last time-step: 0.13677139998480925\n",
      "\u001b[2m\u001b[36m(RolloutWorker pid=1736)\u001b[0m   warnings.warn(f\"Time-step timed out. Elapsed since last time-step: {now - self.__t_end}\")\n",
      "\u001b[2m\u001b[36m(RolloutWorker pid=1736)\u001b[0m C:\\Users\\nadir\\anaconda3\\envs\\GTRay2.4.0\\lib\\site-packages\\rtgym\\envs\\real_time_env.py:376: UserWarning: Time-step timed out. Elapsed since last time-step: 0.051106999945204734\n",
      "\u001b[2m\u001b[36m(RolloutWorker pid=1736)\u001b[0m   warnings.warn(f\"Time-step timed out. Elapsed since last time-step: {now - self.__t_end}\")\n"
     ]
    },
    {
     "name": "stdout",
     "output_type": "stream",
     "text": [
      "Loop:  112\n"
     ]
    },
    {
     "name": "stderr",
     "output_type": "stream",
     "text": [
      "\u001b[2m\u001b[36m(RolloutWorker pid=1736)\u001b[0m C:\\Users\\nadir\\anaconda3\\envs\\GTRay2.4.0\\lib\\site-packages\\rtgym\\envs\\real_time_env.py:376: UserWarning: Time-step timed out. Elapsed since last time-step: 3.011975700000221\n",
      "\u001b[2m\u001b[36m(RolloutWorker pid=1736)\u001b[0m   warnings.warn(f\"Time-step timed out. Elapsed since last time-step: {now - self.__t_end}\")\n"
     ]
    },
    {
     "name": "stdout",
     "output_type": "stream",
     "text": [
      "\u001b[2m\u001b[36m(RolloutWorker pid=1736)\u001b[0m reset triggered\n",
      "\u001b[2m\u001b[36m(RolloutWorker pid=1736)\u001b[0m reload save for track : 72\n"
     ]
    },
    {
     "name": "stderr",
     "output_type": "stream",
     "text": [
      "\u001b[2m\u001b[36m(RolloutWorker pid=1736)\u001b[0m C:\\Users\\nadir\\anaconda3\\envs\\GTRay2.4.0\\lib\\site-packages\\rtgym\\envs\\real_time_env.py:376: UserWarning: Time-step timed out. Elapsed since last time-step: 0.1630862999850251\n",
      "\u001b[2m\u001b[36m(RolloutWorker pid=1736)\u001b[0m   warnings.warn(f\"Time-step timed out. Elapsed since last time-step: {now - self.__t_end}\")\n"
     ]
    },
    {
     "name": "stdout",
     "output_type": "stream",
     "text": [
      "Loop:  113\n"
     ]
    },
    {
     "name": "stderr",
     "output_type": "stream",
     "text": [
      "\u001b[2m\u001b[36m(RolloutWorker pid=1736)\u001b[0m C:\\Users\\nadir\\anaconda3\\envs\\GTRay2.4.0\\lib\\site-packages\\rtgym\\envs\\real_time_env.py:376: UserWarning: Time-step timed out. Elapsed since last time-step: 3.0050414999450368\n",
      "\u001b[2m\u001b[36m(RolloutWorker pid=1736)\u001b[0m   warnings.warn(f\"Time-step timed out. Elapsed since last time-step: {now - self.__t_end}\")\n"
     ]
    },
    {
     "name": "stdout",
     "output_type": "stream",
     "text": [
      "\u001b[2m\u001b[36m(RolloutWorker pid=1736)\u001b[0m reset triggered\n",
      "\u001b[2m\u001b[36m(RolloutWorker pid=1736)\u001b[0m reload save for track : 72\n"
     ]
    },
    {
     "name": "stderr",
     "output_type": "stream",
     "text": [
      "\u001b[2m\u001b[36m(RolloutWorker pid=1736)\u001b[0m C:\\Users\\nadir\\anaconda3\\envs\\GTRay2.4.0\\lib\\site-packages\\rtgym\\envs\\real_time_env.py:376: UserWarning: Time-step timed out. Elapsed since last time-step: 0.11971949998496711\n",
      "\u001b[2m\u001b[36m(RolloutWorker pid=1736)\u001b[0m   warnings.warn(f\"Time-step timed out. Elapsed since last time-step: {now - self.__t_end}\")\n"
     ]
    },
    {
     "name": "stdout",
     "output_type": "stream",
     "text": [
      "Loop:  114\n"
     ]
    },
    {
     "name": "stderr",
     "output_type": "stream",
     "text": [
      "\u001b[2m\u001b[36m(RolloutWorker pid=1736)\u001b[0m C:\\Users\\nadir\\anaconda3\\envs\\GTRay2.4.0\\lib\\site-packages\\rtgym\\envs\\real_time_env.py:376: UserWarning: Time-step timed out. Elapsed since last time-step: 3.0879153999449045\n",
      "\u001b[2m\u001b[36m(RolloutWorker pid=1736)\u001b[0m   warnings.warn(f\"Time-step timed out. Elapsed since last time-step: {now - self.__t_end}\")\n"
     ]
    },
    {
     "name": "stdout",
     "output_type": "stream",
     "text": [
      "\u001b[2m\u001b[36m(RolloutWorker pid=1736)\u001b[0m reset triggered\n",
      "\u001b[2m\u001b[36m(RolloutWorker pid=1736)\u001b[0m reload save for track : 72\n"
     ]
    },
    {
     "name": "stderr",
     "output_type": "stream",
     "text": [
      "\u001b[2m\u001b[36m(RolloutWorker pid=1736)\u001b[0m C:\\Users\\nadir\\anaconda3\\envs\\GTRay2.4.0\\lib\\site-packages\\rtgym\\envs\\real_time_env.py:376: UserWarning: Time-step timed out. Elapsed since last time-step: 0.13131109998539614\n",
      "\u001b[2m\u001b[36m(RolloutWorker pid=1736)\u001b[0m   warnings.warn(f\"Time-step timed out. Elapsed since last time-step: {now - self.__t_end}\")\n",
      "\u001b[2m\u001b[36m(RolloutWorker pid=1736)\u001b[0m C:\\Users\\nadir\\anaconda3\\envs\\GTRay2.4.0\\lib\\site-packages\\rtgym\\envs\\real_time_env.py:376: UserWarning: Time-step timed out. Elapsed since last time-step: 0.054792599944903486\n",
      "\u001b[2m\u001b[36m(RolloutWorker pid=1736)\u001b[0m   warnings.warn(f\"Time-step timed out. Elapsed since last time-step: {now - self.__t_end}\")\n"
     ]
    },
    {
     "name": "stdout",
     "output_type": "stream",
     "text": [
      "Loop:  115\n"
     ]
    },
    {
     "name": "stderr",
     "output_type": "stream",
     "text": [
      "\u001b[2m\u001b[36m(RolloutWorker pid=1736)\u001b[0m C:\\Users\\nadir\\anaconda3\\envs\\GTRay2.4.0\\lib\\site-packages\\rtgym\\envs\\real_time_env.py:376: UserWarning: Time-step timed out. Elapsed since last time-step: 3.034118800000215\n",
      "\u001b[2m\u001b[36m(RolloutWorker pid=1736)\u001b[0m   warnings.warn(f\"Time-step timed out. Elapsed since last time-step: {now - self.__t_end}\")\n"
     ]
    },
    {
     "name": "stdout",
     "output_type": "stream",
     "text": [
      "\u001b[2m\u001b[36m(RolloutWorker pid=1736)\u001b[0m reset triggered\n",
      "\u001b[2m\u001b[36m(RolloutWorker pid=1736)\u001b[0m reload save for track : 72\n"
     ]
    },
    {
     "name": "stderr",
     "output_type": "stream",
     "text": [
      "\u001b[2m\u001b[36m(RolloutWorker pid=1736)\u001b[0m C:\\Users\\nadir\\anaconda3\\envs\\GTRay2.4.0\\lib\\site-packages\\rtgym\\envs\\real_time_env.py:376: UserWarning: Time-step timed out. Elapsed since last time-step: 0.12074129998472927\n",
      "\u001b[2m\u001b[36m(RolloutWorker pid=1736)\u001b[0m   warnings.warn(f\"Time-step timed out. Elapsed since last time-step: {now - self.__t_end}\")\n"
     ]
    },
    {
     "name": "stdout",
     "output_type": "stream",
     "text": [
      "Loop:  116\n"
     ]
    },
    {
     "name": "stderr",
     "output_type": "stream",
     "text": [
      "\u001b[2m\u001b[36m(RolloutWorker pid=1736)\u001b[0m C:\\Users\\nadir\\anaconda3\\envs\\GTRay2.4.0\\lib\\site-packages\\rtgym\\envs\\real_time_env.py:376: UserWarning: Time-step timed out. Elapsed since last time-step: 3.0348584999451305\n",
      "\u001b[2m\u001b[36m(RolloutWorker pid=1736)\u001b[0m   warnings.warn(f\"Time-step timed out. Elapsed since last time-step: {now - self.__t_end}\")\n"
     ]
    },
    {
     "name": "stdout",
     "output_type": "stream",
     "text": [
      "\u001b[2m\u001b[36m(RolloutWorker pid=1736)\u001b[0m reset triggered\n",
      "\u001b[2m\u001b[36m(RolloutWorker pid=1736)\u001b[0m reload save for track : 72\n"
     ]
    },
    {
     "name": "stderr",
     "output_type": "stream",
     "text": [
      "\u001b[2m\u001b[36m(RolloutWorker pid=1736)\u001b[0m C:\\Users\\nadir\\anaconda3\\envs\\GTRay2.4.0\\lib\\site-packages\\rtgym\\envs\\real_time_env.py:376: UserWarning: Time-step timed out. Elapsed since last time-step: 0.13534419998541125\n",
      "\u001b[2m\u001b[36m(RolloutWorker pid=1736)\u001b[0m   warnings.warn(f\"Time-step timed out. Elapsed since last time-step: {now - self.__t_end}\")\n"
     ]
    },
    {
     "name": "stdout",
     "output_type": "stream",
     "text": [
      "Loop:  117\n"
     ]
    },
    {
     "name": "stderr",
     "output_type": "stream",
     "text": [
      "\u001b[2m\u001b[36m(RolloutWorker pid=1736)\u001b[0m C:\\Users\\nadir\\anaconda3\\envs\\GTRay2.4.0\\lib\\site-packages\\rtgym\\envs\\real_time_env.py:376: UserWarning: Time-step timed out. Elapsed since last time-step: 3.0468063999446713\n",
      "\u001b[2m\u001b[36m(RolloutWorker pid=1736)\u001b[0m   warnings.warn(f\"Time-step timed out. Elapsed since last time-step: {now - self.__t_end}\")\n"
     ]
    },
    {
     "name": "stdout",
     "output_type": "stream",
     "text": [
      "\u001b[2m\u001b[36m(RolloutWorker pid=1736)\u001b[0m reset triggered\n",
      "\u001b[2m\u001b[36m(RolloutWorker pid=1736)\u001b[0m reload save for track : 72\n"
     ]
    },
    {
     "name": "stderr",
     "output_type": "stream",
     "text": [
      "\u001b[2m\u001b[36m(RolloutWorker pid=1736)\u001b[0m C:\\Users\\nadir\\anaconda3\\envs\\GTRay2.4.0\\lib\\site-packages\\rtgym\\envs\\real_time_env.py:376: UserWarning: Time-step timed out. Elapsed since last time-step: 0.13970219998509492\n",
      "\u001b[2m\u001b[36m(RolloutWorker pid=1736)\u001b[0m   warnings.warn(f\"Time-step timed out. Elapsed since last time-step: {now - self.__t_end}\")\n"
     ]
    },
    {
     "name": "stdout",
     "output_type": "stream",
     "text": [
      "Loop:  118\n"
     ]
    },
    {
     "name": "stderr",
     "output_type": "stream",
     "text": [
      "\u001b[2m\u001b[36m(RolloutWorker pid=1736)\u001b[0m C:\\Users\\nadir\\anaconda3\\envs\\GTRay2.4.0\\lib\\site-packages\\rtgym\\envs\\real_time_env.py:376: UserWarning: Time-step timed out. Elapsed since last time-step: 3.075894499945207\n",
      "\u001b[2m\u001b[36m(RolloutWorker pid=1736)\u001b[0m   warnings.warn(f\"Time-step timed out. Elapsed since last time-step: {now - self.__t_end}\")\n"
     ]
    },
    {
     "name": "stdout",
     "output_type": "stream",
     "text": [
      "\u001b[2m\u001b[36m(RolloutWorker pid=1736)\u001b[0m reset triggered\n",
      "\u001b[2m\u001b[36m(RolloutWorker pid=1736)\u001b[0m reload save for track : 72\n"
     ]
    },
    {
     "name": "stderr",
     "output_type": "stream",
     "text": [
      "\u001b[2m\u001b[36m(RolloutWorker pid=1736)\u001b[0m C:\\Users\\nadir\\anaconda3\\envs\\GTRay2.4.0\\lib\\site-packages\\rtgym\\envs\\real_time_env.py:376: UserWarning: Time-step timed out. Elapsed since last time-step: 0.13790939998534668\n",
      "\u001b[2m\u001b[36m(RolloutWorker pid=1736)\u001b[0m   warnings.warn(f\"Time-step timed out. Elapsed since last time-step: {now - self.__t_end}\")\n"
     ]
    },
    {
     "name": "stdout",
     "output_type": "stream",
     "text": [
      "Loop:  119\n"
     ]
    },
    {
     "name": "stderr",
     "output_type": "stream",
     "text": [
      "\u001b[2m\u001b[36m(RolloutWorker pid=1736)\u001b[0m C:\\Users\\nadir\\anaconda3\\envs\\GTRay2.4.0\\lib\\site-packages\\rtgym\\envs\\real_time_env.py:376: UserWarning: Time-step timed out. Elapsed since last time-step: 3.051332799944703\n",
      "\u001b[2m\u001b[36m(RolloutWorker pid=1736)\u001b[0m   warnings.warn(f\"Time-step timed out. Elapsed since last time-step: {now - self.__t_end}\")\n"
     ]
    },
    {
     "name": "stdout",
     "output_type": "stream",
     "text": [
      "\u001b[2m\u001b[36m(RolloutWorker pid=1736)\u001b[0m reset triggered\n",
      "\u001b[2m\u001b[36m(RolloutWorker pid=1736)\u001b[0m reload save for track : 72\n"
     ]
    },
    {
     "name": "stderr",
     "output_type": "stream",
     "text": [
      "\u001b[2m\u001b[36m(RolloutWorker pid=1736)\u001b[0m C:\\Users\\nadir\\anaconda3\\envs\\GTRay2.4.0\\lib\\site-packages\\rtgym\\envs\\real_time_env.py:376: UserWarning: Time-step timed out. Elapsed since last time-step: 0.1350697999851036\n",
      "\u001b[2m\u001b[36m(RolloutWorker pid=1736)\u001b[0m   warnings.warn(f\"Time-step timed out. Elapsed since last time-step: {now - self.__t_end}\")\n"
     ]
    },
    {
     "name": "stdout",
     "output_type": "stream",
     "text": [
      "Loop:  120\n",
      "Saved 120\n"
     ]
    },
    {
     "name": "stderr",
     "output_type": "stream",
     "text": [
      "\u001b[2m\u001b[36m(RolloutWorker pid=1736)\u001b[0m C:\\Users\\nadir\\anaconda3\\envs\\GTRay2.4.0\\lib\\site-packages\\rtgym\\envs\\real_time_env.py:376: UserWarning: Time-step timed out. Elapsed since last time-step: 3.1123064999451344\n",
      "\u001b[2m\u001b[36m(RolloutWorker pid=1736)\u001b[0m   warnings.warn(f\"Time-step timed out. Elapsed since last time-step: {now - self.__t_end}\")\n",
      "\u001b[2m\u001b[36m(RolloutWorker pid=1736)\u001b[0m C:\\Users\\nadir\\anaconda3\\envs\\GTRay2.4.0\\lib\\site-packages\\rtgym\\envs\\real_time_env.py:376: UserWarning: Time-step timed out. Elapsed since last time-step: 0.12166259998502937\n",
      "\u001b[2m\u001b[36m(RolloutWorker pid=1736)\u001b[0m   warnings.warn(f\"Time-step timed out. Elapsed since last time-step: {now - self.__t_end}\")\n"
     ]
    },
    {
     "name": "stdout",
     "output_type": "stream",
     "text": [
      "\u001b[2m\u001b[36m(RolloutWorker pid=1736)\u001b[0m reset triggered\n",
      "\u001b[2m\u001b[36m(RolloutWorker pid=1736)\u001b[0m reload save for track : 72\n",
      "Loop:  121\n"
     ]
    },
    {
     "name": "stderr",
     "output_type": "stream",
     "text": [
      "\u001b[2m\u001b[36m(RolloutWorker pid=1736)\u001b[0m C:\\Users\\nadir\\anaconda3\\envs\\GTRay2.4.0\\lib\\site-packages\\rtgym\\envs\\real_time_env.py:376: UserWarning: Time-step timed out. Elapsed since last time-step: 2.993393099945024\n",
      "\u001b[2m\u001b[36m(RolloutWorker pid=1736)\u001b[0m   warnings.warn(f\"Time-step timed out. Elapsed since last time-step: {now - self.__t_end}\")\n"
     ]
    },
    {
     "name": "stdout",
     "output_type": "stream",
     "text": [
      "\u001b[2m\u001b[36m(RolloutWorker pid=1736)\u001b[0m reset triggered\n",
      "\u001b[2m\u001b[36m(RolloutWorker pid=1736)\u001b[0m reload save for track : 72\n"
     ]
    },
    {
     "name": "stderr",
     "output_type": "stream",
     "text": [
      "\u001b[2m\u001b[36m(RolloutWorker pid=1736)\u001b[0m C:\\Users\\nadir\\anaconda3\\envs\\GTRay2.4.0\\lib\\site-packages\\rtgym\\envs\\real_time_env.py:376: UserWarning: Time-step timed out. Elapsed since last time-step: 0.1365700999854198\n",
      "\u001b[2m\u001b[36m(RolloutWorker pid=1736)\u001b[0m   warnings.warn(f\"Time-step timed out. Elapsed since last time-step: {now - self.__t_end}\")\n"
     ]
    },
    {
     "name": "stdout",
     "output_type": "stream",
     "text": [
      "Loop:  122\n"
     ]
    },
    {
     "name": "stderr",
     "output_type": "stream",
     "text": [
      "\u001b[2m\u001b[36m(RolloutWorker pid=1736)\u001b[0m C:\\Users\\nadir\\anaconda3\\envs\\GTRay2.4.0\\lib\\site-packages\\rtgym\\envs\\real_time_env.py:376: UserWarning: Time-step timed out. Elapsed since last time-step: 3.0622727999448216\n",
      "\u001b[2m\u001b[36m(RolloutWorker pid=1736)\u001b[0m   warnings.warn(f\"Time-step timed out. Elapsed since last time-step: {now - self.__t_end}\")\n"
     ]
    },
    {
     "name": "stdout",
     "output_type": "stream",
     "text": [
      "\u001b[2m\u001b[36m(RolloutWorker pid=1736)\u001b[0m reset triggered\n",
      "\u001b[2m\u001b[36m(RolloutWorker pid=1736)\u001b[0m reload save for track : 72\n"
     ]
    },
    {
     "name": "stderr",
     "output_type": "stream",
     "text": [
      "\u001b[2m\u001b[36m(RolloutWorker pid=1736)\u001b[0m C:\\Users\\nadir\\anaconda3\\envs\\GTRay2.4.0\\lib\\site-packages\\rtgym\\envs\\real_time_env.py:376: UserWarning: Time-step timed out. Elapsed since last time-step: 0.13746039998522974\n",
      "\u001b[2m\u001b[36m(RolloutWorker pid=1736)\u001b[0m   warnings.warn(f\"Time-step timed out. Elapsed since last time-step: {now - self.__t_end}\")\n"
     ]
    },
    {
     "name": "stdout",
     "output_type": "stream",
     "text": [
      "Loop:  123\n"
     ]
    },
    {
     "name": "stderr",
     "output_type": "stream",
     "text": [
      "\u001b[2m\u001b[36m(RolloutWorker pid=1736)\u001b[0m C:\\Users\\nadir\\anaconda3\\envs\\GTRay2.4.0\\lib\\site-packages\\rtgym\\envs\\real_time_env.py:376: UserWarning: Time-step timed out. Elapsed since last time-step: 3.0805093999451856\n",
      "\u001b[2m\u001b[36m(RolloutWorker pid=1736)\u001b[0m   warnings.warn(f\"Time-step timed out. Elapsed since last time-step: {now - self.__t_end}\")\n"
     ]
    },
    {
     "name": "stdout",
     "output_type": "stream",
     "text": [
      "\u001b[2m\u001b[36m(RolloutWorker pid=1736)\u001b[0m reset triggered\n",
      "\u001b[2m\u001b[36m(RolloutWorker pid=1736)\u001b[0m reload save for track : 72\n"
     ]
    },
    {
     "name": "stderr",
     "output_type": "stream",
     "text": [
      "\u001b[2m\u001b[36m(RolloutWorker pid=1736)\u001b[0m C:\\Users\\nadir\\anaconda3\\envs\\GTRay2.4.0\\lib\\site-packages\\rtgym\\envs\\real_time_env.py:376: UserWarning: Time-step timed out. Elapsed since last time-step: 0.14017819998480263\n",
      "\u001b[2m\u001b[36m(RolloutWorker pid=1736)\u001b[0m   warnings.warn(f\"Time-step timed out. Elapsed since last time-step: {now - self.__t_end}\")\n",
      "\u001b[2m\u001b[36m(RolloutWorker pid=1736)\u001b[0m C:\\Users\\nadir\\anaconda3\\envs\\GTRay2.4.0\\lib\\site-packages\\rtgym\\envs\\real_time_env.py:376: UserWarning: Time-step timed out. Elapsed since last time-step: 0.052283599945440073\n",
      "\u001b[2m\u001b[36m(RolloutWorker pid=1736)\u001b[0m   warnings.warn(f\"Time-step timed out. Elapsed since last time-step: {now - self.__t_end}\")\n"
     ]
    },
    {
     "name": "stdout",
     "output_type": "stream",
     "text": [
      "Loop:  124\n"
     ]
    },
    {
     "name": "stderr",
     "output_type": "stream",
     "text": [
      "\u001b[2m\u001b[36m(RolloutWorker pid=1736)\u001b[0m C:\\Users\\nadir\\anaconda3\\envs\\GTRay2.4.0\\lib\\site-packages\\rtgym\\envs\\real_time_env.py:376: UserWarning: Time-step timed out. Elapsed since last time-step: 2.9867906999998013\n",
      "\u001b[2m\u001b[36m(RolloutWorker pid=1736)\u001b[0m   warnings.warn(f\"Time-step timed out. Elapsed since last time-step: {now - self.__t_end}\")\n"
     ]
    },
    {
     "name": "stdout",
     "output_type": "stream",
     "text": [
      "\u001b[2m\u001b[36m(RolloutWorker pid=1736)\u001b[0m reset triggered\n",
      "\u001b[2m\u001b[36m(RolloutWorker pid=1736)\u001b[0m reload save for track : 72\n"
     ]
    },
    {
     "name": "stderr",
     "output_type": "stream",
     "text": [
      "\u001b[2m\u001b[36m(RolloutWorker pid=1736)\u001b[0m C:\\Users\\nadir\\anaconda3\\envs\\GTRay2.4.0\\lib\\site-packages\\rtgym\\envs\\real_time_env.py:376: UserWarning: Time-step timed out. Elapsed since last time-step: 0.13060829998494228\n",
      "\u001b[2m\u001b[36m(RolloutWorker pid=1736)\u001b[0m   warnings.warn(f\"Time-step timed out. Elapsed since last time-step: {now - self.__t_end}\")\n"
     ]
    },
    {
     "name": "stdout",
     "output_type": "stream",
     "text": [
      "Loop:  125\n"
     ]
    },
    {
     "name": "stderr",
     "output_type": "stream",
     "text": [
      "\u001b[2m\u001b[36m(RolloutWorker pid=1736)\u001b[0m C:\\Users\\nadir\\anaconda3\\envs\\GTRay2.4.0\\lib\\site-packages\\rtgym\\envs\\real_time_env.py:376: UserWarning: Time-step timed out. Elapsed since last time-step: 3.0730761999452625\n",
      "\u001b[2m\u001b[36m(RolloutWorker pid=1736)\u001b[0m   warnings.warn(f\"Time-step timed out. Elapsed since last time-step: {now - self.__t_end}\")\n"
     ]
    },
    {
     "name": "stdout",
     "output_type": "stream",
     "text": [
      "\u001b[2m\u001b[36m(RolloutWorker pid=1736)\u001b[0m reset triggered\n",
      "\u001b[2m\u001b[36m(RolloutWorker pid=1736)\u001b[0m reload save for track : 72\n"
     ]
    },
    {
     "name": "stderr",
     "output_type": "stream",
     "text": [
      "\u001b[2m\u001b[36m(RolloutWorker pid=1736)\u001b[0m C:\\Users\\nadir\\anaconda3\\envs\\GTRay2.4.0\\lib\\site-packages\\rtgym\\envs\\real_time_env.py:376: UserWarning: Time-step timed out. Elapsed since last time-step: 0.13709129998505887\n",
      "\u001b[2m\u001b[36m(RolloutWorker pid=1736)\u001b[0m   warnings.warn(f\"Time-step timed out. Elapsed since last time-step: {now - self.__t_end}\")\n"
     ]
    },
    {
     "name": "stdout",
     "output_type": "stream",
     "text": [
      "Loop:  126\n"
     ]
    },
    {
     "name": "stderr",
     "output_type": "stream",
     "text": [
      "\u001b[2m\u001b[36m(RolloutWorker pid=1736)\u001b[0m C:\\Users\\nadir\\anaconda3\\envs\\GTRay2.4.0\\lib\\site-packages\\rtgym\\envs\\real_time_env.py:376: UserWarning: Time-step timed out. Elapsed since last time-step: 3.0653226999447725\n",
      "\u001b[2m\u001b[36m(RolloutWorker pid=1736)\u001b[0m   warnings.warn(f\"Time-step timed out. Elapsed since last time-step: {now - self.__t_end}\")\n"
     ]
    },
    {
     "name": "stdout",
     "output_type": "stream",
     "text": [
      "\u001b[2m\u001b[36m(RolloutWorker pid=1736)\u001b[0m reset triggered\n",
      "\u001b[2m\u001b[36m(RolloutWorker pid=1736)\u001b[0m reload save for track : 72\n"
     ]
    },
    {
     "name": "stderr",
     "output_type": "stream",
     "text": [
      "\u001b[2m\u001b[36m(RolloutWorker pid=1736)\u001b[0m C:\\Users\\nadir\\anaconda3\\envs\\GTRay2.4.0\\lib\\site-packages\\rtgym\\envs\\real_time_env.py:376: UserWarning: Time-step timed out. Elapsed since last time-step: 0.10422559998505676\n",
      "\u001b[2m\u001b[36m(RolloutWorker pid=1736)\u001b[0m   warnings.warn(f\"Time-step timed out. Elapsed since last time-step: {now - self.__t_end}\")\n"
     ]
    },
    {
     "name": "stdout",
     "output_type": "stream",
     "text": [
      "Loop:  127\n"
     ]
    },
    {
     "name": "stderr",
     "output_type": "stream",
     "text": [
      "\u001b[2m\u001b[36m(RolloutWorker pid=1736)\u001b[0m C:\\Users\\nadir\\anaconda3\\envs\\GTRay2.4.0\\lib\\site-packages\\rtgym\\envs\\real_time_env.py:376: UserWarning: Time-step timed out. Elapsed since last time-step: 3.0583923999452054\n",
      "\u001b[2m\u001b[36m(RolloutWorker pid=1736)\u001b[0m   warnings.warn(f\"Time-step timed out. Elapsed since last time-step: {now - self.__t_end}\")\n"
     ]
    },
    {
     "name": "stdout",
     "output_type": "stream",
     "text": [
      "\u001b[2m\u001b[36m(RolloutWorker pid=1736)\u001b[0m reset triggered\n",
      "\u001b[2m\u001b[36m(RolloutWorker pid=1736)\u001b[0m reload save for track : 72\n"
     ]
    },
    {
     "name": "stderr",
     "output_type": "stream",
     "text": [
      "\u001b[2m\u001b[36m(RolloutWorker pid=1736)\u001b[0m C:\\Users\\nadir\\anaconda3\\envs\\GTRay2.4.0\\lib\\site-packages\\rtgym\\envs\\real_time_env.py:376: UserWarning: Time-step timed out. Elapsed since last time-step: 0.11822449998498996\n",
      "\u001b[2m\u001b[36m(RolloutWorker pid=1736)\u001b[0m   warnings.warn(f\"Time-step timed out. Elapsed since last time-step: {now - self.__t_end}\")\n"
     ]
    },
    {
     "name": "stdout",
     "output_type": "stream",
     "text": [
      "Loop:  128\n"
     ]
    },
    {
     "name": "stderr",
     "output_type": "stream",
     "text": [
      "\u001b[2m\u001b[36m(RolloutWorker pid=1736)\u001b[0m C:\\Users\\nadir\\anaconda3\\envs\\GTRay2.4.0\\lib\\site-packages\\rtgym\\envs\\real_time_env.py:376: UserWarning: Time-step timed out. Elapsed since last time-step: 3.1021640999451847\n",
      "\u001b[2m\u001b[36m(RolloutWorker pid=1736)\u001b[0m   warnings.warn(f\"Time-step timed out. Elapsed since last time-step: {now - self.__t_end}\")\n",
      "\u001b[2m\u001b[36m(RolloutWorker pid=1736)\u001b[0m C:\\Users\\nadir\\anaconda3\\envs\\GTRay2.4.0\\lib\\site-packages\\rtgym\\envs\\real_time_env.py:376: UserWarning: Time-step timed out. Elapsed since last time-step: 0.13205189998507194\n",
      "\u001b[2m\u001b[36m(RolloutWorker pid=1736)\u001b[0m   warnings.warn(f\"Time-step timed out. Elapsed since last time-step: {now - self.__t_end}\")\n"
     ]
    },
    {
     "name": "stdout",
     "output_type": "stream",
     "text": [
      "\u001b[2m\u001b[36m(RolloutWorker pid=1736)\u001b[0m reset triggered\n",
      "\u001b[2m\u001b[36m(RolloutWorker pid=1736)\u001b[0m reload save for track : 72\n",
      "Loop:  129\n"
     ]
    },
    {
     "name": "stderr",
     "output_type": "stream",
     "text": [
      "\u001b[2m\u001b[36m(RolloutWorker pid=1736)\u001b[0m C:\\Users\\nadir\\anaconda3\\envs\\GTRay2.4.0\\lib\\site-packages\\rtgym\\envs\\real_time_env.py:376: UserWarning: Time-step timed out. Elapsed since last time-step: 3.0426699999452467\n",
      "\u001b[2m\u001b[36m(RolloutWorker pid=1736)\u001b[0m   warnings.warn(f\"Time-step timed out. Elapsed since last time-step: {now - self.__t_end}\")\n"
     ]
    },
    {
     "name": "stdout",
     "output_type": "stream",
     "text": [
      "\u001b[2m\u001b[36m(RolloutWorker pid=1736)\u001b[0m reset triggered\n",
      "\u001b[2m\u001b[36m(RolloutWorker pid=1736)\u001b[0m reload save for track : 72\n"
     ]
    },
    {
     "name": "stderr",
     "output_type": "stream",
     "text": [
      "\u001b[2m\u001b[36m(RolloutWorker pid=1736)\u001b[0m C:\\Users\\nadir\\anaconda3\\envs\\GTRay2.4.0\\lib\\site-packages\\rtgym\\envs\\real_time_env.py:376: UserWarning: Time-step timed out. Elapsed since last time-step: 0.13329489998477584\n",
      "\u001b[2m\u001b[36m(RolloutWorker pid=1736)\u001b[0m   warnings.warn(f\"Time-step timed out. Elapsed since last time-step: {now - self.__t_end}\")\n"
     ]
    },
    {
     "name": "stdout",
     "output_type": "stream",
     "text": [
      "Loop:  130\n",
      "Saved 130\n"
     ]
    },
    {
     "name": "stderr",
     "output_type": "stream",
     "text": [
      "\u001b[2m\u001b[36m(RolloutWorker pid=1736)\u001b[0m C:\\Users\\nadir\\anaconda3\\envs\\GTRay2.4.0\\lib\\site-packages\\rtgym\\envs\\real_time_env.py:376: UserWarning: Time-step timed out. Elapsed since last time-step: 3.142901699945014\n",
      "\u001b[2m\u001b[36m(RolloutWorker pid=1736)\u001b[0m   warnings.warn(f\"Time-step timed out. Elapsed since last time-step: {now - self.__t_end}\")\n",
      "\u001b[2m\u001b[36m(RolloutWorker pid=1736)\u001b[0m C:\\Users\\nadir\\anaconda3\\envs\\GTRay2.4.0\\lib\\site-packages\\rtgym\\envs\\real_time_env.py:376: UserWarning: Time-step timed out. Elapsed since last time-step: 0.12070199998515818\n",
      "\u001b[2m\u001b[36m(RolloutWorker pid=1736)\u001b[0m   warnings.warn(f\"Time-step timed out. Elapsed since last time-step: {now - self.__t_end}\")\n"
     ]
    },
    {
     "name": "stdout",
     "output_type": "stream",
     "text": [
      "\u001b[2m\u001b[36m(RolloutWorker pid=1736)\u001b[0m reset triggered\n",
      "\u001b[2m\u001b[36m(RolloutWorker pid=1736)\u001b[0m reload save for track : 72\n"
     ]
    },
    {
     "name": "stderr",
     "output_type": "stream",
     "text": [
      "\u001b[2m\u001b[36m(RolloutWorker pid=1736)\u001b[0m C:\\Users\\nadir\\anaconda3\\envs\\GTRay2.4.0\\lib\\site-packages\\rtgym\\envs\\real_time_env.py:376: UserWarning: Time-step timed out. Elapsed since last time-step: 0.054136899945206096\n",
      "\u001b[2m\u001b[36m(RolloutWorker pid=1736)\u001b[0m   warnings.warn(f\"Time-step timed out. Elapsed since last time-step: {now - self.__t_end}\")\n"
     ]
    },
    {
     "name": "stdout",
     "output_type": "stream",
     "text": [
      "Loop:  131\n"
     ]
    },
    {
     "name": "stderr",
     "output_type": "stream",
     "text": [
      "\u001b[2m\u001b[36m(RolloutWorker pid=1736)\u001b[0m C:\\Users\\nadir\\anaconda3\\envs\\GTRay2.4.0\\lib\\site-packages\\rtgym\\envs\\real_time_env.py:376: UserWarning: Time-step timed out. Elapsed since last time-step: 2.93536690000019\n",
      "\u001b[2m\u001b[36m(RolloutWorker pid=1736)\u001b[0m   warnings.warn(f\"Time-step timed out. Elapsed since last time-step: {now - self.__t_end}\")\n",
      "\u001b[2m\u001b[36m(RolloutWorker pid=1736)\u001b[0m C:\\Users\\nadir\\anaconda3\\envs\\GTRay2.4.0\\lib\\site-packages\\rtgym\\envs\\real_time_env.py:376: UserWarning: Time-step timed out. Elapsed since last time-step: 0.15086889998474362\n",
      "\u001b[2m\u001b[36m(RolloutWorker pid=1736)\u001b[0m   warnings.warn(f\"Time-step timed out. Elapsed since last time-step: {now - self.__t_end}\")\n"
     ]
    },
    {
     "name": "stdout",
     "output_type": "stream",
     "text": [
      "\u001b[2m\u001b[36m(RolloutWorker pid=1736)\u001b[0m reset triggered\n",
      "\u001b[2m\u001b[36m(RolloutWorker pid=1736)\u001b[0m reload save for track : 72\n",
      "Loop:  132\n"
     ]
    },
    {
     "name": "stderr",
     "output_type": "stream",
     "text": [
      "\u001b[2m\u001b[36m(RolloutWorker pid=1736)\u001b[0m C:\\Users\\nadir\\anaconda3\\envs\\GTRay2.4.0\\lib\\site-packages\\rtgym\\envs\\real_time_env.py:376: UserWarning: Time-step timed out. Elapsed since last time-step: 3.0648720999452053\n",
      "\u001b[2m\u001b[36m(RolloutWorker pid=1736)\u001b[0m   warnings.warn(f\"Time-step timed out. Elapsed since last time-step: {now - self.__t_end}\")\n",
      "\u001b[2m\u001b[36m(RolloutWorker pid=1736)\u001b[0m C:\\Users\\nadir\\anaconda3\\envs\\GTRay2.4.0\\lib\\site-packages\\rtgym\\envs\\real_time_env.py:376: UserWarning: Time-step timed out. Elapsed since last time-step: 0.15292939998607835\n",
      "\u001b[2m\u001b[36m(RolloutWorker pid=1736)\u001b[0m   warnings.warn(f\"Time-step timed out. Elapsed since last time-step: {now - self.__t_end}\")\n"
     ]
    },
    {
     "name": "stdout",
     "output_type": "stream",
     "text": [
      "\u001b[2m\u001b[36m(RolloutWorker pid=1736)\u001b[0m reset triggered\n",
      "\u001b[2m\u001b[36m(RolloutWorker pid=1736)\u001b[0m reload save for track : 72\n"
     ]
    },
    {
     "name": "stderr",
     "output_type": "stream",
     "text": [
      "\u001b[2m\u001b[36m(RolloutWorker pid=1736)\u001b[0m C:\\Users\\nadir\\anaconda3\\envs\\GTRay2.4.0\\lib\\site-packages\\rtgym\\envs\\real_time_env.py:376: UserWarning: Time-step timed out. Elapsed since last time-step: 0.14820029999918916\n",
      "\u001b[2m\u001b[36m(RolloutWorker pid=1736)\u001b[0m   warnings.warn(f\"Time-step timed out. Elapsed since last time-step: {now - self.__t_end}\")\n"
     ]
    },
    {
     "name": "stdout",
     "output_type": "stream",
     "text": [
      "Loop:  133\n"
     ]
    },
    {
     "name": "stderr",
     "output_type": "stream",
     "text": [
      "\u001b[2m\u001b[36m(RolloutWorker pid=1736)\u001b[0m C:\\Users\\nadir\\anaconda3\\envs\\GTRay2.4.0\\lib\\site-packages\\rtgym\\envs\\real_time_env.py:376: UserWarning: Time-step timed out. Elapsed since last time-step: 3.0735982999449334\n",
      "\u001b[2m\u001b[36m(RolloutWorker pid=1736)\u001b[0m   warnings.warn(f\"Time-step timed out. Elapsed since last time-step: {now - self.__t_end}\")\n"
     ]
    },
    {
     "name": "stdout",
     "output_type": "stream",
     "text": [
      "\u001b[2m\u001b[36m(RolloutWorker pid=1736)\u001b[0m reset triggered\n",
      "\u001b[2m\u001b[36m(RolloutWorker pid=1736)\u001b[0m reload save for track : 72\n"
     ]
    },
    {
     "name": "stderr",
     "output_type": "stream",
     "text": [
      "\u001b[2m\u001b[36m(RolloutWorker pid=1736)\u001b[0m C:\\Users\\nadir\\anaconda3\\envs\\GTRay2.4.0\\lib\\site-packages\\rtgym\\envs\\real_time_env.py:376: UserWarning: Time-step timed out. Elapsed since last time-step: 0.1365782999851035\n",
      "\u001b[2m\u001b[36m(RolloutWorker pid=1736)\u001b[0m   warnings.warn(f\"Time-step timed out. Elapsed since last time-step: {now - self.__t_end}\")\n"
     ]
    },
    {
     "name": "stdout",
     "output_type": "stream",
     "text": [
      "Loop:  134\n"
     ]
    },
    {
     "name": "stderr",
     "output_type": "stream",
     "text": [
      "\u001b[2m\u001b[36m(RolloutWorker pid=1736)\u001b[0m C:\\Users\\nadir\\anaconda3\\envs\\GTRay2.4.0\\lib\\site-packages\\rtgym\\envs\\real_time_env.py:376: UserWarning: Time-step timed out. Elapsed since last time-step: 3.050633399945127\n",
      "\u001b[2m\u001b[36m(RolloutWorker pid=1736)\u001b[0m   warnings.warn(f\"Time-step timed out. Elapsed since last time-step: {now - self.__t_end}\")\n",
      "\u001b[2m\u001b[36m(RolloutWorker pid=1736)\u001b[0m C:\\Users\\nadir\\anaconda3\\envs\\GTRay2.4.0\\lib\\site-packages\\rtgym\\envs\\real_time_env.py:376: UserWarning: Time-step timed out. Elapsed since last time-step: 0.1233622999848194\n",
      "\u001b[2m\u001b[36m(RolloutWorker pid=1736)\u001b[0m   warnings.warn(f\"Time-step timed out. Elapsed since last time-step: {now - self.__t_end}\")\n"
     ]
    },
    {
     "name": "stdout",
     "output_type": "stream",
     "text": [
      "\u001b[2m\u001b[36m(RolloutWorker pid=1736)\u001b[0m reset triggered\n",
      "\u001b[2m\u001b[36m(RolloutWorker pid=1736)\u001b[0m reload save for track : 72\n",
      "Loop:  135\n"
     ]
    },
    {
     "name": "stderr",
     "output_type": "stream",
     "text": [
      "\u001b[2m\u001b[36m(RolloutWorker pid=1736)\u001b[0m C:\\Users\\nadir\\anaconda3\\envs\\GTRay2.4.0\\lib\\site-packages\\rtgym\\envs\\real_time_env.py:376: UserWarning: Time-step timed out. Elapsed since last time-step: 3.073154199945293\n",
      "\u001b[2m\u001b[36m(RolloutWorker pid=1736)\u001b[0m   warnings.warn(f\"Time-step timed out. Elapsed since last time-step: {now - self.__t_end}\")\n"
     ]
    },
    {
     "name": "stdout",
     "output_type": "stream",
     "text": [
      "\u001b[2m\u001b[36m(RolloutWorker pid=1736)\u001b[0m reset triggered\n",
      "\u001b[2m\u001b[36m(RolloutWorker pid=1736)\u001b[0m reload save for track : 72\n"
     ]
    },
    {
     "name": "stderr",
     "output_type": "stream",
     "text": [
      "\u001b[2m\u001b[36m(RolloutWorker pid=1736)\u001b[0m C:\\Users\\nadir\\anaconda3\\envs\\GTRay2.4.0\\lib\\site-packages\\rtgym\\envs\\real_time_env.py:376: UserWarning: Time-step timed out. Elapsed since last time-step: 0.14306969998506247\n",
      "\u001b[2m\u001b[36m(RolloutWorker pid=1736)\u001b[0m   warnings.warn(f\"Time-step timed out. Elapsed since last time-step: {now - self.__t_end}\")\n"
     ]
    },
    {
     "name": "stdout",
     "output_type": "stream",
     "text": [
      "Loop:  136\n"
     ]
    },
    {
     "name": "stderr",
     "output_type": "stream",
     "text": [
      "\u001b[2m\u001b[36m(RolloutWorker pid=1736)\u001b[0m C:\\Users\\nadir\\anaconda3\\envs\\GTRay2.4.0\\lib\\site-packages\\rtgym\\envs\\real_time_env.py:376: UserWarning: Time-step timed out. Elapsed since last time-step: 3.0304022999448534\n",
      "\u001b[2m\u001b[36m(RolloutWorker pid=1736)\u001b[0m   warnings.warn(f\"Time-step timed out. Elapsed since last time-step: {now - self.__t_end}\")\n",
      "\u001b[2m\u001b[36m(RolloutWorker pid=1736)\u001b[0m C:\\Users\\nadir\\anaconda3\\envs\\GTRay2.4.0\\lib\\site-packages\\rtgym\\envs\\real_time_env.py:376: UserWarning: Time-step timed out. Elapsed since last time-step: 0.1336981999852469\n",
      "\u001b[2m\u001b[36m(RolloutWorker pid=1736)\u001b[0m   warnings.warn(f\"Time-step timed out. Elapsed since last time-step: {now - self.__t_end}\")\n"
     ]
    },
    {
     "name": "stdout",
     "output_type": "stream",
     "text": [
      "\u001b[2m\u001b[36m(RolloutWorker pid=1736)\u001b[0m reset triggered\n",
      "\u001b[2m\u001b[36m(RolloutWorker pid=1736)\u001b[0m reload save for track : 72\n"
     ]
    },
    {
     "name": "stderr",
     "output_type": "stream",
     "text": [
      "\u001b[2m\u001b[36m(RolloutWorker pid=1736)\u001b[0m C:\\Users\\nadir\\anaconda3\\envs\\GTRay2.4.0\\lib\\site-packages\\rtgym\\envs\\real_time_env.py:376: UserWarning: Time-step timed out. Elapsed since last time-step: 0.05045969994534971\n",
      "\u001b[2m\u001b[36m(RolloutWorker pid=1736)\u001b[0m   warnings.warn(f\"Time-step timed out. Elapsed since last time-step: {now - self.__t_end}\")\n"
     ]
    },
    {
     "name": "stdout",
     "output_type": "stream",
     "text": [
      "Loop:  137\n"
     ]
    },
    {
     "name": "stderr",
     "output_type": "stream",
     "text": [
      "\u001b[2m\u001b[36m(RolloutWorker pid=1736)\u001b[0m C:\\Users\\nadir\\anaconda3\\envs\\GTRay2.4.0\\lib\\site-packages\\rtgym\\envs\\real_time_env.py:376: UserWarning: Time-step timed out. Elapsed since last time-step: 3.0315652999997837\n",
      "\u001b[2m\u001b[36m(RolloutWorker pid=1736)\u001b[0m   warnings.warn(f\"Time-step timed out. Elapsed since last time-step: {now - self.__t_end}\")\n",
      "\u001b[2m\u001b[36m(RolloutWorker pid=1736)\u001b[0m C:\\Users\\nadir\\anaconda3\\envs\\GTRay2.4.0\\lib\\site-packages\\rtgym\\envs\\real_time_env.py:376: UserWarning: Time-step timed out. Elapsed since last time-step: 0.12804739998500736\n",
      "\u001b[2m\u001b[36m(RolloutWorker pid=1736)\u001b[0m   warnings.warn(f\"Time-step timed out. Elapsed since last time-step: {now - self.__t_end}\")\n"
     ]
    },
    {
     "name": "stdout",
     "output_type": "stream",
     "text": [
      "\u001b[2m\u001b[36m(RolloutWorker pid=1736)\u001b[0m reset triggered\n",
      "\u001b[2m\u001b[36m(RolloutWorker pid=1736)\u001b[0m reload save for track : 72\n"
     ]
    },
    {
     "name": "stderr",
     "output_type": "stream",
     "text": [
      "\u001b[2m\u001b[36m(RolloutWorker pid=1736)\u001b[0m C:\\Users\\nadir\\anaconda3\\envs\\GTRay2.4.0\\lib\\site-packages\\rtgym\\envs\\real_time_env.py:376: UserWarning: Time-step timed out. Elapsed since last time-step: 0.05307989994525997\n",
      "\u001b[2m\u001b[36m(RolloutWorker pid=1736)\u001b[0m   warnings.warn(f\"Time-step timed out. Elapsed since last time-step: {now - self.__t_end}\")\n"
     ]
    },
    {
     "name": "stdout",
     "output_type": "stream",
     "text": [
      "Loop:  138\n"
     ]
    },
    {
     "name": "stderr",
     "output_type": "stream",
     "text": [
      "\u001b[2m\u001b[36m(RolloutWorker pid=1736)\u001b[0m C:\\Users\\nadir\\anaconda3\\envs\\GTRay2.4.0\\lib\\site-packages\\rtgym\\envs\\real_time_env.py:376: UserWarning: Time-step timed out. Elapsed since last time-step: 3.092056799999682\n",
      "\u001b[2m\u001b[36m(RolloutWorker pid=1736)\u001b[0m   warnings.warn(f\"Time-step timed out. Elapsed since last time-step: {now - self.__t_end}\")\n"
     ]
    },
    {
     "name": "stdout",
     "output_type": "stream",
     "text": [
      "\u001b[2m\u001b[36m(RolloutWorker pid=1736)\u001b[0m reset triggered\n",
      "\u001b[2m\u001b[36m(RolloutWorker pid=1736)\u001b[0m reload save for track : 72\n"
     ]
    },
    {
     "name": "stderr",
     "output_type": "stream",
     "text": [
      "\u001b[2m\u001b[36m(RolloutWorker pid=1736)\u001b[0m C:\\Users\\nadir\\anaconda3\\envs\\GTRay2.4.0\\lib\\site-packages\\rtgym\\envs\\real_time_env.py:376: UserWarning: Time-step timed out. Elapsed since last time-step: 0.1354277999853366\n",
      "\u001b[2m\u001b[36m(RolloutWorker pid=1736)\u001b[0m   warnings.warn(f\"Time-step timed out. Elapsed since last time-step: {now - self.__t_end}\")\n"
     ]
    },
    {
     "name": "stdout",
     "output_type": "stream",
     "text": [
      "Loop:  139\n"
     ]
    },
    {
     "name": "stderr",
     "output_type": "stream",
     "text": [
      "\u001b[2m\u001b[36m(RolloutWorker pid=1736)\u001b[0m C:\\Users\\nadir\\anaconda3\\envs\\GTRay2.4.0\\lib\\site-packages\\rtgym\\envs\\real_time_env.py:376: UserWarning: Time-step timed out. Elapsed since last time-step: 2.959452499944746\n",
      "\u001b[2m\u001b[36m(RolloutWorker pid=1736)\u001b[0m   warnings.warn(f\"Time-step timed out. Elapsed since last time-step: {now - self.__t_end}\")\n"
     ]
    },
    {
     "name": "stdout",
     "output_type": "stream",
     "text": [
      "\u001b[2m\u001b[36m(RolloutWorker pid=1736)\u001b[0m reset triggered\n",
      "\u001b[2m\u001b[36m(RolloutWorker pid=1736)\u001b[0m reload save for track : 72\n"
     ]
    },
    {
     "name": "stderr",
     "output_type": "stream",
     "text": [
      "\u001b[2m\u001b[36m(RolloutWorker pid=1736)\u001b[0m C:\\Users\\nadir\\anaconda3\\envs\\GTRay2.4.0\\lib\\site-packages\\rtgym\\envs\\real_time_env.py:376: UserWarning: Time-step timed out. Elapsed since last time-step: 0.12046879998524673\n",
      "\u001b[2m\u001b[36m(RolloutWorker pid=1736)\u001b[0m   warnings.warn(f\"Time-step timed out. Elapsed since last time-step: {now - self.__t_end}\")\n"
     ]
    },
    {
     "name": "stdout",
     "output_type": "stream",
     "text": [
      "Loop:  140\n",
      "Saved 140\n"
     ]
    },
    {
     "name": "stderr",
     "output_type": "stream",
     "text": [
      "\u001b[2m\u001b[36m(RolloutWorker pid=1736)\u001b[0m C:\\Users\\nadir\\anaconda3\\envs\\GTRay2.4.0\\lib\\site-packages\\rtgym\\envs\\real_time_env.py:376: UserWarning: Time-step timed out. Elapsed since last time-step: 2.9684147999450943\n",
      "\u001b[2m\u001b[36m(RolloutWorker pid=1736)\u001b[0m   warnings.warn(f\"Time-step timed out. Elapsed since last time-step: {now - self.__t_end}\")\n"
     ]
    },
    {
     "name": "stdout",
     "output_type": "stream",
     "text": [
      "\u001b[2m\u001b[36m(RolloutWorker pid=1736)\u001b[0m reset triggered\n",
      "\u001b[2m\u001b[36m(RolloutWorker pid=1736)\u001b[0m reload save for track : 72\n"
     ]
    },
    {
     "name": "stderr",
     "output_type": "stream",
     "text": [
      "\u001b[2m\u001b[36m(RolloutWorker pid=1736)\u001b[0m C:\\Users\\nadir\\anaconda3\\envs\\GTRay2.4.0\\lib\\site-packages\\rtgym\\envs\\real_time_env.py:376: UserWarning: Time-step timed out. Elapsed since last time-step: 0.13098869998520968\n",
      "\u001b[2m\u001b[36m(RolloutWorker pid=1736)\u001b[0m   warnings.warn(f\"Time-step timed out. Elapsed since last time-step: {now - self.__t_end}\")\n"
     ]
    },
    {
     "name": "stdout",
     "output_type": "stream",
     "text": [
      "Loop:  141\n"
     ]
    },
    {
     "name": "stderr",
     "output_type": "stream",
     "text": [
      "\u001b[2m\u001b[36m(RolloutWorker pid=1736)\u001b[0m C:\\Users\\nadir\\anaconda3\\envs\\GTRay2.4.0\\lib\\site-packages\\rtgym\\envs\\real_time_env.py:376: UserWarning: Time-step timed out. Elapsed since last time-step: 3.02367619994493\n",
      "\u001b[2m\u001b[36m(RolloutWorker pid=1736)\u001b[0m   warnings.warn(f\"Time-step timed out. Elapsed since last time-step: {now - self.__t_end}\")\n"
     ]
    },
    {
     "name": "stdout",
     "output_type": "stream",
     "text": [
      "\u001b[2m\u001b[36m(RolloutWorker pid=1736)\u001b[0m reset triggered\n",
      "\u001b[2m\u001b[36m(RolloutWorker pid=1736)\u001b[0m reload save for track : 72\n"
     ]
    },
    {
     "name": "stderr",
     "output_type": "stream",
     "text": [
      "\u001b[2m\u001b[36m(RolloutWorker pid=1736)\u001b[0m C:\\Users\\nadir\\anaconda3\\envs\\GTRay2.4.0\\lib\\site-packages\\rtgym\\envs\\real_time_env.py:376: UserWarning: Time-step timed out. Elapsed since last time-step: 0.136551299985058\n",
      "\u001b[2m\u001b[36m(RolloutWorker pid=1736)\u001b[0m   warnings.warn(f\"Time-step timed out. Elapsed since last time-step: {now - self.__t_end}\")\n"
     ]
    },
    {
     "name": "stdout",
     "output_type": "stream",
     "text": [
      "Loop:  142\n"
     ]
    },
    {
     "name": "stderr",
     "output_type": "stream",
     "text": [
      "\u001b[2m\u001b[36m(RolloutWorker pid=1736)\u001b[0m C:\\Users\\nadir\\anaconda3\\envs\\GTRay2.4.0\\lib\\site-packages\\rtgym\\envs\\real_time_env.py:376: UserWarning: Time-step timed out. Elapsed since last time-step: 2.9988505999449444\n",
      "\u001b[2m\u001b[36m(RolloutWorker pid=1736)\u001b[0m   warnings.warn(f\"Time-step timed out. Elapsed since last time-step: {now - self.__t_end}\")\n"
     ]
    },
    {
     "name": "stdout",
     "output_type": "stream",
     "text": [
      "\u001b[2m\u001b[36m(RolloutWorker pid=1736)\u001b[0m reset triggered\n",
      "\u001b[2m\u001b[36m(RolloutWorker pid=1736)\u001b[0m reload save for track : 72\n"
     ]
    },
    {
     "name": "stderr",
     "output_type": "stream",
     "text": [
      "\u001b[2m\u001b[36m(RolloutWorker pid=1736)\u001b[0m C:\\Users\\nadir\\anaconda3\\envs\\GTRay2.4.0\\lib\\site-packages\\rtgym\\envs\\real_time_env.py:376: UserWarning: Time-step timed out. Elapsed since last time-step: 0.1371652999850994\n",
      "\u001b[2m\u001b[36m(RolloutWorker pid=1736)\u001b[0m   warnings.warn(f\"Time-step timed out. Elapsed since last time-step: {now - self.__t_end}\")\n"
     ]
    },
    {
     "name": "stdout",
     "output_type": "stream",
     "text": [
      "Loop:  143\n"
     ]
    },
    {
     "name": "stderr",
     "output_type": "stream",
     "text": [
      "\u001b[2m\u001b[36m(RolloutWorker pid=1736)\u001b[0m C:\\Users\\nadir\\anaconda3\\envs\\GTRay2.4.0\\lib\\site-packages\\rtgym\\envs\\real_time_env.py:376: UserWarning: Time-step timed out. Elapsed since last time-step: 3.0796049999453317\n",
      "\u001b[2m\u001b[36m(RolloutWorker pid=1736)\u001b[0m   warnings.warn(f\"Time-step timed out. Elapsed since last time-step: {now - self.__t_end}\")\n"
     ]
    },
    {
     "name": "stdout",
     "output_type": "stream",
     "text": [
      "\u001b[2m\u001b[36m(RolloutWorker pid=1736)\u001b[0m reset triggered\n",
      "\u001b[2m\u001b[36m(RolloutWorker pid=1736)\u001b[0m reload save for track : 72\n"
     ]
    },
    {
     "name": "stderr",
     "output_type": "stream",
     "text": [
      "\u001b[2m\u001b[36m(RolloutWorker pid=1736)\u001b[0m C:\\Users\\nadir\\anaconda3\\envs\\GTRay2.4.0\\lib\\site-packages\\rtgym\\envs\\real_time_env.py:376: UserWarning: Time-step timed out. Elapsed since last time-step: 0.13051009998480367\n",
      "\u001b[2m\u001b[36m(RolloutWorker pid=1736)\u001b[0m   warnings.warn(f\"Time-step timed out. Elapsed since last time-step: {now - self.__t_end}\")\n"
     ]
    },
    {
     "name": "stdout",
     "output_type": "stream",
     "text": [
      "Loop:  144\n"
     ]
    },
    {
     "name": "stderr",
     "output_type": "stream",
     "text": [
      "\u001b[2m\u001b[36m(RolloutWorker pid=1736)\u001b[0m C:\\Users\\nadir\\anaconda3\\envs\\GTRay2.4.0\\lib\\site-packages\\rtgym\\envs\\real_time_env.py:376: UserWarning: Time-step timed out. Elapsed since last time-step: 3.065279099945201\n",
      "\u001b[2m\u001b[36m(RolloutWorker pid=1736)\u001b[0m   warnings.warn(f\"Time-step timed out. Elapsed since last time-step: {now - self.__t_end}\")\n"
     ]
    },
    {
     "name": "stdout",
     "output_type": "stream",
     "text": [
      "\u001b[2m\u001b[36m(RolloutWorker pid=1736)\u001b[0m reset triggered\n",
      "\u001b[2m\u001b[36m(RolloutWorker pid=1736)\u001b[0m reload save for track : 72\n"
     ]
    },
    {
     "name": "stderr",
     "output_type": "stream",
     "text": [
      "\u001b[2m\u001b[36m(RolloutWorker pid=1736)\u001b[0m C:\\Users\\nadir\\anaconda3\\envs\\GTRay2.4.0\\lib\\site-packages\\rtgym\\envs\\real_time_env.py:376: UserWarning: Time-step timed out. Elapsed since last time-step: 0.1482696999851214\n",
      "\u001b[2m\u001b[36m(RolloutWorker pid=1736)\u001b[0m   warnings.warn(f\"Time-step timed out. Elapsed since last time-step: {now - self.__t_end}\")\n"
     ]
    },
    {
     "name": "stdout",
     "output_type": "stream",
     "text": [
      "Loop:  145\n"
     ]
    },
    {
     "name": "stderr",
     "output_type": "stream",
     "text": [
      "\u001b[2m\u001b[36m(RolloutWorker pid=1736)\u001b[0m C:\\Users\\nadir\\anaconda3\\envs\\GTRay2.4.0\\lib\\site-packages\\rtgym\\envs\\real_time_env.py:376: UserWarning: Time-step timed out. Elapsed since last time-step: 3.0394384999449358\n",
      "\u001b[2m\u001b[36m(RolloutWorker pid=1736)\u001b[0m   warnings.warn(f\"Time-step timed out. Elapsed since last time-step: {now - self.__t_end}\")\n",
      "\u001b[2m\u001b[36m(RolloutWorker pid=1736)\u001b[0m C:\\Users\\nadir\\anaconda3\\envs\\GTRay2.4.0\\lib\\site-packages\\rtgym\\envs\\real_time_env.py:376: UserWarning: Time-step timed out. Elapsed since last time-step: 0.050243999996837374\n",
      "\u001b[2m\u001b[36m(RolloutWorker pid=1736)\u001b[0m   warnings.warn(f\"Time-step timed out. Elapsed since last time-step: {now - self.__t_end}\")\n"
     ]
    },
    {
     "name": "stdout",
     "output_type": "stream",
     "text": [
      "\u001b[2m\u001b[36m(RolloutWorker pid=1736)\u001b[0m reset triggered\n",
      "\u001b[2m\u001b[36m(RolloutWorker pid=1736)\u001b[0m reload save for track : 72\n"
     ]
    },
    {
     "name": "stderr",
     "output_type": "stream",
     "text": [
      "\u001b[2m\u001b[36m(RolloutWorker pid=1736)\u001b[0m C:\\Users\\nadir\\anaconda3\\envs\\GTRay2.4.0\\lib\\site-packages\\rtgym\\envs\\real_time_env.py:376: UserWarning: Time-step timed out. Elapsed since last time-step: 0.1316961999882551\n",
      "\u001b[2m\u001b[36m(RolloutWorker pid=1736)\u001b[0m   warnings.warn(f\"Time-step timed out. Elapsed since last time-step: {now - self.__t_end}\")\n"
     ]
    },
    {
     "name": "stdout",
     "output_type": "stream",
     "text": [
      "Loop:  146\n"
     ]
    },
    {
     "name": "stderr",
     "output_type": "stream",
     "text": [
      "\u001b[2m\u001b[36m(RolloutWorker pid=1736)\u001b[0m C:\\Users\\nadir\\anaconda3\\envs\\GTRay2.4.0\\lib\\site-packages\\rtgym\\envs\\real_time_env.py:376: UserWarning: Time-step timed out. Elapsed since last time-step: 3.0015185999450296\n",
      "\u001b[2m\u001b[36m(RolloutWorker pid=1736)\u001b[0m   warnings.warn(f\"Time-step timed out. Elapsed since last time-step: {now - self.__t_end}\")\n",
      "\u001b[2m\u001b[36m(RolloutWorker pid=1736)\u001b[0m C:\\Users\\nadir\\anaconda3\\envs\\GTRay2.4.0\\lib\\site-packages\\rtgym\\envs\\real_time_env.py:376: UserWarning: Time-step timed out. Elapsed since last time-step: 0.12784399998508889\n",
      "\u001b[2m\u001b[36m(RolloutWorker pid=1736)\u001b[0m   warnings.warn(f\"Time-step timed out. Elapsed since last time-step: {now - self.__t_end}\")\n"
     ]
    },
    {
     "name": "stdout",
     "output_type": "stream",
     "text": [
      "\u001b[2m\u001b[36m(RolloutWorker pid=1736)\u001b[0m reset triggered\n",
      "\u001b[2m\u001b[36m(RolloutWorker pid=1736)\u001b[0m reload save for track : 72\n",
      "Loop:  147\n"
     ]
    },
    {
     "name": "stderr",
     "output_type": "stream",
     "text": [
      "\u001b[2m\u001b[36m(RolloutWorker pid=1736)\u001b[0m C:\\Users\\nadir\\anaconda3\\envs\\GTRay2.4.0\\lib\\site-packages\\rtgym\\envs\\real_time_env.py:376: UserWarning: Time-step timed out. Elapsed since last time-step: 3.072592499945131\n",
      "\u001b[2m\u001b[36m(RolloutWorker pid=1736)\u001b[0m   warnings.warn(f\"Time-step timed out. Elapsed since last time-step: {now - self.__t_end}\")\n"
     ]
    },
    {
     "name": "stdout",
     "output_type": "stream",
     "text": [
      "\u001b[2m\u001b[36m(RolloutWorker pid=1736)\u001b[0m reset triggered\n",
      "\u001b[2m\u001b[36m(RolloutWorker pid=1736)\u001b[0m reload save for track : 72\n"
     ]
    },
    {
     "name": "stderr",
     "output_type": "stream",
     "text": [
      "\u001b[2m\u001b[36m(RolloutWorker pid=1736)\u001b[0m C:\\Users\\nadir\\anaconda3\\envs\\GTRay2.4.0\\lib\\site-packages\\rtgym\\envs\\real_time_env.py:376: UserWarning: Time-step timed out. Elapsed since last time-step: 0.13715549998505594\n",
      "\u001b[2m\u001b[36m(RolloutWorker pid=1736)\u001b[0m   warnings.warn(f\"Time-step timed out. Elapsed since last time-step: {now - self.__t_end}\")\n"
     ]
    },
    {
     "name": "stdout",
     "output_type": "stream",
     "text": [
      "Loop:  148\n"
     ]
    },
    {
     "name": "stderr",
     "output_type": "stream",
     "text": [
      "\u001b[2m\u001b[36m(RolloutWorker pid=1736)\u001b[0m C:\\Users\\nadir\\anaconda3\\envs\\GTRay2.4.0\\lib\\site-packages\\rtgym\\envs\\real_time_env.py:376: UserWarning: Time-step timed out. Elapsed since last time-step: 3.0698971999449896\n",
      "\u001b[2m\u001b[36m(RolloutWorker pid=1736)\u001b[0m   warnings.warn(f\"Time-step timed out. Elapsed since last time-step: {now - self.__t_end}\")\n"
     ]
    },
    {
     "name": "stdout",
     "output_type": "stream",
     "text": [
      "\u001b[2m\u001b[36m(RolloutWorker pid=1736)\u001b[0m reset triggered\n",
      "\u001b[2m\u001b[36m(RolloutWorker pid=1736)\u001b[0m reload save for track : 72\n"
     ]
    },
    {
     "name": "stderr",
     "output_type": "stream",
     "text": [
      "\u001b[2m\u001b[36m(RolloutWorker pid=1736)\u001b[0m C:\\Users\\nadir\\anaconda3\\envs\\GTRay2.4.0\\lib\\site-packages\\rtgym\\envs\\real_time_env.py:376: UserWarning: Time-step timed out. Elapsed since last time-step: 0.12053259998538124\n",
      "\u001b[2m\u001b[36m(RolloutWorker pid=1736)\u001b[0m   warnings.warn(f\"Time-step timed out. Elapsed since last time-step: {now - self.__t_end}\")\n"
     ]
    },
    {
     "name": "stdout",
     "output_type": "stream",
     "text": [
      "Loop:  149\n"
     ]
    },
    {
     "name": "stderr",
     "output_type": "stream",
     "text": [
      "\u001b[2m\u001b[36m(RolloutWorker pid=1736)\u001b[0m C:\\Users\\nadir\\anaconda3\\envs\\GTRay2.4.0\\lib\\site-packages\\rtgym\\envs\\real_time_env.py:376: UserWarning: Time-step timed out. Elapsed since last time-step: 3.0532394999449934\n",
      "\u001b[2m\u001b[36m(RolloutWorker pid=1736)\u001b[0m   warnings.warn(f\"Time-step timed out. Elapsed since last time-step: {now - self.__t_end}\")\n"
     ]
    },
    {
     "name": "stdout",
     "output_type": "stream",
     "text": [
      "\u001b[2m\u001b[36m(RolloutWorker pid=1736)\u001b[0m reset triggered\n",
      "\u001b[2m\u001b[36m(RolloutWorker pid=1736)\u001b[0m reload save for track : 72\n"
     ]
    },
    {
     "name": "stderr",
     "output_type": "stream",
     "text": [
      "\u001b[2m\u001b[36m(RolloutWorker pid=1736)\u001b[0m C:\\Users\\nadir\\anaconda3\\envs\\GTRay2.4.0\\lib\\site-packages\\rtgym\\envs\\real_time_env.py:376: UserWarning: Time-step timed out. Elapsed since last time-step: 0.1369518999849788\n",
      "\u001b[2m\u001b[36m(RolloutWorker pid=1736)\u001b[0m   warnings.warn(f\"Time-step timed out. Elapsed since last time-step: {now - self.__t_end}\")\n",
      "\u001b[2m\u001b[36m(RolloutWorker pid=1736)\u001b[0m C:\\Users\\nadir\\anaconda3\\envs\\GTRay2.4.0\\lib\\site-packages\\rtgym\\envs\\real_time_env.py:376: UserWarning: Time-step timed out. Elapsed since last time-step: 0.0503281999453975\n",
      "\u001b[2m\u001b[36m(RolloutWorker pid=1736)\u001b[0m   warnings.warn(f\"Time-step timed out. Elapsed since last time-step: {now - self.__t_end}\")\n"
     ]
    },
    {
     "name": "stdout",
     "output_type": "stream",
     "text": [
      "Loop:  150\n",
      "Saved 150\n"
     ]
    },
    {
     "name": "stderr",
     "output_type": "stream",
     "text": [
      "\u001b[2m\u001b[36m(RolloutWorker pid=1736)\u001b[0m C:\\Users\\nadir\\anaconda3\\envs\\GTRay2.4.0\\lib\\site-packages\\rtgym\\envs\\real_time_env.py:376: UserWarning: Time-step timed out. Elapsed since last time-step: 3.071447999999691\n",
      "\u001b[2m\u001b[36m(RolloutWorker pid=1736)\u001b[0m   warnings.warn(f\"Time-step timed out. Elapsed since last time-step: {now - self.__t_end}\")\n"
     ]
    },
    {
     "name": "stdout",
     "output_type": "stream",
     "text": [
      "\u001b[2m\u001b[36m(RolloutWorker pid=1736)\u001b[0m reset triggered\n",
      "\u001b[2m\u001b[36m(RolloutWorker pid=1736)\u001b[0m reload save for track : 72\n"
     ]
    },
    {
     "name": "stderr",
     "output_type": "stream",
     "text": [
      "\u001b[2m\u001b[36m(RolloutWorker pid=1736)\u001b[0m C:\\Users\\nadir\\anaconda3\\envs\\GTRay2.4.0\\lib\\site-packages\\rtgym\\envs\\real_time_env.py:376: UserWarning: Time-step timed out. Elapsed since last time-step: 0.1438429999852815\n",
      "\u001b[2m\u001b[36m(RolloutWorker pid=1736)\u001b[0m   warnings.warn(f\"Time-step timed out. Elapsed since last time-step: {now - self.__t_end}\")\n",
      "\u001b[2m\u001b[36m(RolloutWorker pid=1736)\u001b[0m C:\\Users\\nadir\\anaconda3\\envs\\GTRay2.4.0\\lib\\site-packages\\rtgym\\envs\\real_time_env.py:376: UserWarning: Time-step timed out. Elapsed since last time-step: 0.05348049994518078\n",
      "\u001b[2m\u001b[36m(RolloutWorker pid=1736)\u001b[0m   warnings.warn(f\"Time-step timed out. Elapsed since last time-step: {now - self.__t_end}\")\n"
     ]
    },
    {
     "name": "stdout",
     "output_type": "stream",
     "text": [
      "Loop:  151\n"
     ]
    },
    {
     "name": "stderr",
     "output_type": "stream",
     "text": [
      "\u001b[2m\u001b[36m(RolloutWorker pid=1736)\u001b[0m C:\\Users\\nadir\\anaconda3\\envs\\GTRay2.4.0\\lib\\site-packages\\rtgym\\envs\\real_time_env.py:376: UserWarning: Time-step timed out. Elapsed since last time-step: 2.9291010999995706\n",
      "\u001b[2m\u001b[36m(RolloutWorker pid=1736)\u001b[0m   warnings.warn(f\"Time-step timed out. Elapsed since last time-step: {now - self.__t_end}\")\n",
      "\u001b[2m\u001b[36m(RolloutWorker pid=1736)\u001b[0m C:\\Users\\nadir\\anaconda3\\envs\\GTRay2.4.0\\lib\\site-packages\\rtgym\\envs\\real_time_env.py:376: UserWarning: Time-step timed out. Elapsed since last time-step: 0.12174799998547314\n",
      "\u001b[2m\u001b[36m(RolloutWorker pid=1736)\u001b[0m   warnings.warn(f\"Time-step timed out. Elapsed since last time-step: {now - self.__t_end}\")\n"
     ]
    },
    {
     "name": "stdout",
     "output_type": "stream",
     "text": [
      "\u001b[2m\u001b[36m(RolloutWorker pid=1736)\u001b[0m reset triggered\n",
      "\u001b[2m\u001b[36m(RolloutWorker pid=1736)\u001b[0m reload save for track : 72\n",
      "Loop:  152\n"
     ]
    },
    {
     "name": "stderr",
     "output_type": "stream",
     "text": [
      "\u001b[2m\u001b[36m(RolloutWorker pid=1736)\u001b[0m C:\\Users\\nadir\\anaconda3\\envs\\GTRay2.4.0\\lib\\site-packages\\rtgym\\envs\\real_time_env.py:376: UserWarning: Time-step timed out. Elapsed since last time-step: 3.075823199944807\n",
      "\u001b[2m\u001b[36m(RolloutWorker pid=1736)\u001b[0m   warnings.warn(f\"Time-step timed out. Elapsed since last time-step: {now - self.__t_end}\")\n"
     ]
    },
    {
     "name": "stdout",
     "output_type": "stream",
     "text": [
      "\u001b[2m\u001b[36m(RolloutWorker pid=1736)\u001b[0m reset triggered\n",
      "\u001b[2m\u001b[36m(RolloutWorker pid=1736)\u001b[0m reload save for track : 72\n"
     ]
    },
    {
     "name": "stderr",
     "output_type": "stream",
     "text": [
      "\u001b[2m\u001b[36m(RolloutWorker pid=1736)\u001b[0m C:\\Users\\nadir\\anaconda3\\envs\\GTRay2.4.0\\lib\\site-packages\\rtgym\\envs\\real_time_env.py:376: UserWarning: Time-step timed out. Elapsed since last time-step: 0.13400079998518777\n",
      "\u001b[2m\u001b[36m(RolloutWorker pid=1736)\u001b[0m   warnings.warn(f\"Time-step timed out. Elapsed since last time-step: {now - self.__t_end}\")\n"
     ]
    },
    {
     "name": "stdout",
     "output_type": "stream",
     "text": [
      "Loop:  153\n"
     ]
    },
    {
     "name": "stderr",
     "output_type": "stream",
     "text": [
      "\u001b[2m\u001b[36m(RolloutWorker pid=1736)\u001b[0m C:\\Users\\nadir\\anaconda3\\envs\\GTRay2.4.0\\lib\\site-packages\\rtgym\\envs\\real_time_env.py:376: UserWarning: Time-step timed out. Elapsed since last time-step: 3.038104799944904\n",
      "\u001b[2m\u001b[36m(RolloutWorker pid=1736)\u001b[0m   warnings.warn(f\"Time-step timed out. Elapsed since last time-step: {now - self.__t_end}\")\n"
     ]
    },
    {
     "name": "stdout",
     "output_type": "stream",
     "text": [
      "\u001b[2m\u001b[36m(RolloutWorker pid=1736)\u001b[0m reset triggered\n",
      "\u001b[2m\u001b[36m(RolloutWorker pid=1736)\u001b[0m reload save for track : 72\n"
     ]
    },
    {
     "name": "stderr",
     "output_type": "stream",
     "text": [
      "\u001b[2m\u001b[36m(RolloutWorker pid=1736)\u001b[0m C:\\Users\\nadir\\anaconda3\\envs\\GTRay2.4.0\\lib\\site-packages\\rtgym\\envs\\real_time_env.py:376: UserWarning: Time-step timed out. Elapsed since last time-step: 0.13810029998512618\n",
      "\u001b[2m\u001b[36m(RolloutWorker pid=1736)\u001b[0m   warnings.warn(f\"Time-step timed out. Elapsed since last time-step: {now - self.__t_end}\")\n"
     ]
    },
    {
     "name": "stdout",
     "output_type": "stream",
     "text": [
      "Loop:  154\n"
     ]
    },
    {
     "name": "stderr",
     "output_type": "stream",
     "text": [
      "\u001b[2m\u001b[36m(RolloutWorker pid=1736)\u001b[0m C:\\Users\\nadir\\anaconda3\\envs\\GTRay2.4.0\\lib\\site-packages\\rtgym\\envs\\real_time_env.py:376: UserWarning: Time-step timed out. Elapsed since last time-step: 3.0681308999451176\n",
      "\u001b[2m\u001b[36m(RolloutWorker pid=1736)\u001b[0m   warnings.warn(f\"Time-step timed out. Elapsed since last time-step: {now - self.__t_end}\")\n",
      "\u001b[2m\u001b[36m(RolloutWorker pid=1736)\u001b[0m C:\\Users\\nadir\\anaconda3\\envs\\GTRay2.4.0\\lib\\site-packages\\rtgym\\envs\\real_time_env.py:376: UserWarning: Time-step timed out. Elapsed since last time-step: 0.15095569998493374\n",
      "\u001b[2m\u001b[36m(RolloutWorker pid=1736)\u001b[0m   warnings.warn(f\"Time-step timed out. Elapsed since last time-step: {now - self.__t_end}\")\n"
     ]
    },
    {
     "name": "stdout",
     "output_type": "stream",
     "text": [
      "\u001b[2m\u001b[36m(RolloutWorker pid=1736)\u001b[0m reset triggered\n",
      "\u001b[2m\u001b[36m(RolloutWorker pid=1736)\u001b[0m reload save for track : 72\n",
      "Loop:  155\n"
     ]
    },
    {
     "name": "stderr",
     "output_type": "stream",
     "text": [
      "\u001b[2m\u001b[36m(RolloutWorker pid=1736)\u001b[0m C:\\Users\\nadir\\anaconda3\\envs\\GTRay2.4.0\\lib\\site-packages\\rtgym\\envs\\real_time_env.py:376: UserWarning: Time-step timed out. Elapsed since last time-step: 3.0392576999452103\n",
      "\u001b[2m\u001b[36m(RolloutWorker pid=1736)\u001b[0m   warnings.warn(f\"Time-step timed out. Elapsed since last time-step: {now - self.__t_end}\")\n"
     ]
    },
    {
     "name": "stdout",
     "output_type": "stream",
     "text": [
      "\u001b[2m\u001b[36m(RolloutWorker pid=1736)\u001b[0m reset triggered\n",
      "\u001b[2m\u001b[36m(RolloutWorker pid=1736)\u001b[0m reload save for track : 72\n"
     ]
    },
    {
     "name": "stderr",
     "output_type": "stream",
     "text": [
      "\u001b[2m\u001b[36m(RolloutWorker pid=1736)\u001b[0m C:\\Users\\nadir\\anaconda3\\envs\\GTRay2.4.0\\lib\\site-packages\\rtgym\\envs\\real_time_env.py:376: UserWarning: Time-step timed out. Elapsed since last time-step: 0.11586419998502606\n",
      "\u001b[2m\u001b[36m(RolloutWorker pid=1736)\u001b[0m   warnings.warn(f\"Time-step timed out. Elapsed since last time-step: {now - self.__t_end}\")\n"
     ]
    },
    {
     "name": "stdout",
     "output_type": "stream",
     "text": [
      "Loop:  156\n"
     ]
    },
    {
     "name": "stderr",
     "output_type": "stream",
     "text": [
      "\u001b[2m\u001b[36m(RolloutWorker pid=1736)\u001b[0m C:\\Users\\nadir\\anaconda3\\envs\\GTRay2.4.0\\lib\\site-packages\\rtgym\\envs\\real_time_env.py:376: UserWarning: Time-step timed out. Elapsed since last time-step: 3.10301649994517\n",
      "\u001b[2m\u001b[36m(RolloutWorker pid=1736)\u001b[0m   warnings.warn(f\"Time-step timed out. Elapsed since last time-step: {now - self.__t_end}\")\n"
     ]
    },
    {
     "name": "stdout",
     "output_type": "stream",
     "text": [
      "\u001b[2m\u001b[36m(RolloutWorker pid=1736)\u001b[0m reset triggered\n",
      "\u001b[2m\u001b[36m(RolloutWorker pid=1736)\u001b[0m reload save for track : 72\n"
     ]
    },
    {
     "name": "stderr",
     "output_type": "stream",
     "text": [
      "\u001b[2m\u001b[36m(RolloutWorker pid=1736)\u001b[0m C:\\Users\\nadir\\anaconda3\\envs\\GTRay2.4.0\\lib\\site-packages\\rtgym\\envs\\real_time_env.py:376: UserWarning: Time-step timed out. Elapsed since last time-step: 0.1275007999852278\n",
      "\u001b[2m\u001b[36m(RolloutWorker pid=1736)\u001b[0m   warnings.warn(f\"Time-step timed out. Elapsed since last time-step: {now - self.__t_end}\")\n"
     ]
    },
    {
     "name": "stdout",
     "output_type": "stream",
     "text": [
      "Loop:  157\n"
     ]
    },
    {
     "name": "stderr",
     "output_type": "stream",
     "text": [
      "\u001b[2m\u001b[36m(RolloutWorker pid=1736)\u001b[0m C:\\Users\\nadir\\anaconda3\\envs\\GTRay2.4.0\\lib\\site-packages\\rtgym\\envs\\real_time_env.py:376: UserWarning: Time-step timed out. Elapsed since last time-step: 3.037500599944906\n",
      "\u001b[2m\u001b[36m(RolloutWorker pid=1736)\u001b[0m   warnings.warn(f\"Time-step timed out. Elapsed since last time-step: {now - self.__t_end}\")\n"
     ]
    },
    {
     "name": "stdout",
     "output_type": "stream",
     "text": [
      "\u001b[2m\u001b[36m(RolloutWorker pid=1736)\u001b[0m reset triggered\n",
      "\u001b[2m\u001b[36m(RolloutWorker pid=1736)\u001b[0m reload save for track : 72\n"
     ]
    },
    {
     "name": "stderr",
     "output_type": "stream",
     "text": [
      "\u001b[2m\u001b[36m(RolloutWorker pid=1736)\u001b[0m C:\\Users\\nadir\\anaconda3\\envs\\GTRay2.4.0\\lib\\site-packages\\rtgym\\envs\\real_time_env.py:376: UserWarning: Time-step timed out. Elapsed since last time-step: 0.13166319998526888\n",
      "\u001b[2m\u001b[36m(RolloutWorker pid=1736)\u001b[0m   warnings.warn(f\"Time-step timed out. Elapsed since last time-step: {now - self.__t_end}\")\n"
     ]
    },
    {
     "name": "stdout",
     "output_type": "stream",
     "text": [
      "Loop:  158\n"
     ]
    },
    {
     "name": "stderr",
     "output_type": "stream",
     "text": [
      "\u001b[2m\u001b[36m(RolloutWorker pid=1736)\u001b[0m C:\\Users\\nadir\\anaconda3\\envs\\GTRay2.4.0\\lib\\site-packages\\rtgym\\envs\\real_time_env.py:376: UserWarning: Time-step timed out. Elapsed since last time-step: 3.0864022999448935\n",
      "\u001b[2m\u001b[36m(RolloutWorker pid=1736)\u001b[0m   warnings.warn(f\"Time-step timed out. Elapsed since last time-step: {now - self.__t_end}\")\n",
      "\u001b[2m\u001b[36m(RolloutWorker pid=1736)\u001b[0m C:\\Users\\nadir\\anaconda3\\envs\\GTRay2.4.0\\lib\\site-packages\\rtgym\\envs\\real_time_env.py:376: UserWarning: Time-step timed out. Elapsed since last time-step: 0.1300162999850727\n",
      "\u001b[2m\u001b[36m(RolloutWorker pid=1736)\u001b[0m   warnings.warn(f\"Time-step timed out. Elapsed since last time-step: {now - self.__t_end}\")\n"
     ]
    },
    {
     "name": "stdout",
     "output_type": "stream",
     "text": [
      "\u001b[2m\u001b[36m(RolloutWorker pid=1736)\u001b[0m reset triggered\n",
      "\u001b[2m\u001b[36m(RolloutWorker pid=1736)\u001b[0m reload save for track : 72\n",
      "Loop:  159\n"
     ]
    },
    {
     "name": "stderr",
     "output_type": "stream",
     "text": [
      "\u001b[2m\u001b[36m(RolloutWorker pid=1736)\u001b[0m C:\\Users\\nadir\\anaconda3\\envs\\GTRay2.4.0\\lib\\site-packages\\rtgym\\envs\\real_time_env.py:376: UserWarning: Time-step timed out. Elapsed since last time-step: 3.183538599945223\n",
      "\u001b[2m\u001b[36m(RolloutWorker pid=1736)\u001b[0m   warnings.warn(f\"Time-step timed out. Elapsed since last time-step: {now - self.__t_end}\")\n",
      "\u001b[2m\u001b[36m(RolloutWorker pid=1736)\u001b[0m C:\\Users\\nadir\\anaconda3\\envs\\GTRay2.4.0\\lib\\site-packages\\rtgym\\envs\\real_time_env.py:376: UserWarning: Time-step timed out. Elapsed since last time-step: 0.133100399984869\n",
      "\u001b[2m\u001b[36m(RolloutWorker pid=1736)\u001b[0m   warnings.warn(f\"Time-step timed out. Elapsed since last time-step: {now - self.__t_end}\")\n"
     ]
    },
    {
     "name": "stdout",
     "output_type": "stream",
     "text": [
      "\u001b[2m\u001b[36m(RolloutWorker pid=1736)\u001b[0m reset triggered\n",
      "\u001b[2m\u001b[36m(RolloutWorker pid=1736)\u001b[0m reload save for track : 72\n",
      "Loop:  160\n",
      "Saved 160\n"
     ]
    },
    {
     "name": "stderr",
     "output_type": "stream",
     "text": [
      "\u001b[2m\u001b[36m(RolloutWorker pid=1736)\u001b[0m C:\\Users\\nadir\\anaconda3\\envs\\GTRay2.4.0\\lib\\site-packages\\rtgym\\envs\\real_time_env.py:376: UserWarning: Time-step timed out. Elapsed since last time-step: 3.0278380999452565\n",
      "\u001b[2m\u001b[36m(RolloutWorker pid=1736)\u001b[0m   warnings.warn(f\"Time-step timed out. Elapsed since last time-step: {now - self.__t_end}\")\n"
     ]
    },
    {
     "name": "stdout",
     "output_type": "stream",
     "text": [
      "\u001b[2m\u001b[36m(RolloutWorker pid=1736)\u001b[0m reset triggered\n",
      "\u001b[2m\u001b[36m(RolloutWorker pid=1736)\u001b[0m reload save for track : 72\n"
     ]
    },
    {
     "name": "stderr",
     "output_type": "stream",
     "text": [
      "\u001b[2m\u001b[36m(RolloutWorker pid=1736)\u001b[0m C:\\Users\\nadir\\anaconda3\\envs\\GTRay2.4.0\\lib\\site-packages\\rtgym\\envs\\real_time_env.py:376: UserWarning: Time-step timed out. Elapsed since last time-step: 0.10045089998493495\n",
      "\u001b[2m\u001b[36m(RolloutWorker pid=1736)\u001b[0m   warnings.warn(f\"Time-step timed out. Elapsed since last time-step: {now - self.__t_end}\")\n"
     ]
    },
    {
     "name": "stdout",
     "output_type": "stream",
     "text": [
      "Loop:  161\n"
     ]
    },
    {
     "name": "stderr",
     "output_type": "stream",
     "text": [
      "\u001b[2m\u001b[36m(RolloutWorker pid=1736)\u001b[0m C:\\Users\\nadir\\anaconda3\\envs\\GTRay2.4.0\\lib\\site-packages\\rtgym\\envs\\real_time_env.py:376: UserWarning: Time-step timed out. Elapsed since last time-step: 2.9861825999450957\n",
      "\u001b[2m\u001b[36m(RolloutWorker pid=1736)\u001b[0m   warnings.warn(f\"Time-step timed out. Elapsed since last time-step: {now - self.__t_end}\")\n",
      "\u001b[2m\u001b[36m(RolloutWorker pid=1736)\u001b[0m C:\\Users\\nadir\\anaconda3\\envs\\GTRay2.4.0\\lib\\site-packages\\rtgym\\envs\\real_time_env.py:376: UserWarning: Time-step timed out. Elapsed since last time-step: 0.10311559998490338\n",
      "\u001b[2m\u001b[36m(RolloutWorker pid=1736)\u001b[0m   warnings.warn(f\"Time-step timed out. Elapsed since last time-step: {now - self.__t_end}\")\n"
     ]
    },
    {
     "name": "stdout",
     "output_type": "stream",
     "text": [
      "\u001b[2m\u001b[36m(RolloutWorker pid=1736)\u001b[0m reset triggered\n",
      "\u001b[2m\u001b[36m(RolloutWorker pid=1736)\u001b[0m reload save for track : 72\n",
      "Loop:  162\n"
     ]
    },
    {
     "name": "stderr",
     "output_type": "stream",
     "text": [
      "\u001b[2m\u001b[36m(RolloutWorker pid=1736)\u001b[0m C:\\Users\\nadir\\anaconda3\\envs\\GTRay2.4.0\\lib\\site-packages\\rtgym\\envs\\real_time_env.py:376: UserWarning: Time-step timed out. Elapsed since last time-step: 2.883591599945248\n",
      "\u001b[2m\u001b[36m(RolloutWorker pid=1736)\u001b[0m   warnings.warn(f\"Time-step timed out. Elapsed since last time-step: {now - self.__t_end}\")\n"
     ]
    },
    {
     "name": "stdout",
     "output_type": "stream",
     "text": [
      "\u001b[2m\u001b[36m(RolloutWorker pid=1736)\u001b[0m reset triggered\n",
      "\u001b[2m\u001b[36m(RolloutWorker pid=1736)\u001b[0m reload save for track : 72\n"
     ]
    },
    {
     "name": "stderr",
     "output_type": "stream",
     "text": [
      "\u001b[2m\u001b[36m(RolloutWorker pid=1736)\u001b[0m C:\\Users\\nadir\\anaconda3\\envs\\GTRay2.4.0\\lib\\site-packages\\rtgym\\envs\\real_time_env.py:376: UserWarning: Time-step timed out. Elapsed since last time-step: 0.12662189998491158\n",
      "\u001b[2m\u001b[36m(RolloutWorker pid=1736)\u001b[0m   warnings.warn(f\"Time-step timed out. Elapsed since last time-step: {now - self.__t_end}\")\n"
     ]
    },
    {
     "name": "stdout",
     "output_type": "stream",
     "text": [
      "Loop:  163\n"
     ]
    },
    {
     "name": "stderr",
     "output_type": "stream",
     "text": [
      "\u001b[2m\u001b[36m(RolloutWorker pid=1736)\u001b[0m C:\\Users\\nadir\\anaconda3\\envs\\GTRay2.4.0\\lib\\site-packages\\rtgym\\envs\\real_time_env.py:376: UserWarning: Time-step timed out. Elapsed since last time-step: 3.06877379994512\n",
      "\u001b[2m\u001b[36m(RolloutWorker pid=1736)\u001b[0m   warnings.warn(f\"Time-step timed out. Elapsed since last time-step: {now - self.__t_end}\")\n"
     ]
    },
    {
     "name": "stdout",
     "output_type": "stream",
     "text": [
      "\u001b[2m\u001b[36m(RolloutWorker pid=1736)\u001b[0m reset triggered\n",
      "\u001b[2m\u001b[36m(RolloutWorker pid=1736)\u001b[0m reload save for track : 72\n"
     ]
    },
    {
     "name": "stderr",
     "output_type": "stream",
     "text": [
      "\u001b[2m\u001b[36m(RolloutWorker pid=1736)\u001b[0m C:\\Users\\nadir\\anaconda3\\envs\\GTRay2.4.0\\lib\\site-packages\\rtgym\\envs\\real_time_env.py:376: UserWarning: Time-step timed out. Elapsed since last time-step: 0.1072549999853436\n",
      "\u001b[2m\u001b[36m(RolloutWorker pid=1736)\u001b[0m   warnings.warn(f\"Time-step timed out. Elapsed since last time-step: {now - self.__t_end}\")\n"
     ]
    },
    {
     "name": "stdout",
     "output_type": "stream",
     "text": [
      "Loop:  164\n"
     ]
    },
    {
     "name": "stderr",
     "output_type": "stream",
     "text": [
      "\u001b[2m\u001b[36m(RolloutWorker pid=1736)\u001b[0m C:\\Users\\nadir\\anaconda3\\envs\\GTRay2.4.0\\lib\\site-packages\\rtgym\\envs\\real_time_env.py:376: UserWarning: Time-step timed out. Elapsed since last time-step: 3.1128031999451196\n",
      "\u001b[2m\u001b[36m(RolloutWorker pid=1736)\u001b[0m   warnings.warn(f\"Time-step timed out. Elapsed since last time-step: {now - self.__t_end}\")\n"
     ]
    },
    {
     "name": "stdout",
     "output_type": "stream",
     "text": [
      "\u001b[2m\u001b[36m(RolloutWorker pid=1736)\u001b[0m reset triggered\n",
      "\u001b[2m\u001b[36m(RolloutWorker pid=1736)\u001b[0m reload save for track : 72\n"
     ]
    },
    {
     "name": "stderr",
     "output_type": "stream",
     "text": [
      "\u001b[2m\u001b[36m(RolloutWorker pid=1736)\u001b[0m C:\\Users\\nadir\\anaconda3\\envs\\GTRay2.4.0\\lib\\site-packages\\rtgym\\envs\\real_time_env.py:376: UserWarning: Time-step timed out. Elapsed since last time-step: 0.1317854999847441\n",
      "\u001b[2m\u001b[36m(RolloutWorker pid=1736)\u001b[0m   warnings.warn(f\"Time-step timed out. Elapsed since last time-step: {now - self.__t_end}\")\n",
      "\u001b[2m\u001b[36m(RolloutWorker pid=1736)\u001b[0m C:\\Users\\nadir\\anaconda3\\envs\\GTRay2.4.0\\lib\\site-packages\\rtgym\\envs\\real_time_env.py:376: UserWarning: Time-step timed out. Elapsed since last time-step: 0.051919999945312156\n",
      "\u001b[2m\u001b[36m(RolloutWorker pid=1736)\u001b[0m   warnings.warn(f\"Time-step timed out. Elapsed since last time-step: {now - self.__t_end}\")\n"
     ]
    },
    {
     "name": "stdout",
     "output_type": "stream",
     "text": [
      "Loop:  165\n"
     ]
    },
    {
     "name": "stderr",
     "output_type": "stream",
     "text": [
      "\u001b[2m\u001b[36m(RolloutWorker pid=1736)\u001b[0m C:\\Users\\nadir\\anaconda3\\envs\\GTRay2.4.0\\lib\\site-packages\\rtgym\\envs\\real_time_env.py:376: UserWarning: Time-step timed out. Elapsed since last time-step: 3.0001414999996996\n",
      "\u001b[2m\u001b[36m(RolloutWorker pid=1736)\u001b[0m   warnings.warn(f\"Time-step timed out. Elapsed since last time-step: {now - self.__t_end}\")\n"
     ]
    },
    {
     "name": "stdout",
     "output_type": "stream",
     "text": [
      "\u001b[2m\u001b[36m(RolloutWorker pid=1736)\u001b[0m reset triggered\n",
      "\u001b[2m\u001b[36m(RolloutWorker pid=1736)\u001b[0m reload save for track : 72\n"
     ]
    },
    {
     "name": "stderr",
     "output_type": "stream",
     "text": [
      "\u001b[2m\u001b[36m(RolloutWorker pid=1736)\u001b[0m C:\\Users\\nadir\\anaconda3\\envs\\GTRay2.4.0\\lib\\site-packages\\rtgym\\envs\\real_time_env.py:376: UserWarning: Time-step timed out. Elapsed since last time-step: 0.1273258999854079\n",
      "\u001b[2m\u001b[36m(RolloutWorker pid=1736)\u001b[0m   warnings.warn(f\"Time-step timed out. Elapsed since last time-step: {now - self.__t_end}\")\n"
     ]
    },
    {
     "name": "stdout",
     "output_type": "stream",
     "text": [
      "Loop:  166\n"
     ]
    },
    {
     "name": "stderr",
     "output_type": "stream",
     "text": [
      "\u001b[2m\u001b[36m(RolloutWorker pid=1736)\u001b[0m C:\\Users\\nadir\\anaconda3\\envs\\GTRay2.4.0\\lib\\site-packages\\rtgym\\envs\\real_time_env.py:376: UserWarning: Time-step timed out. Elapsed since last time-step: 3.073450599944863\n",
      "\u001b[2m\u001b[36m(RolloutWorker pid=1736)\u001b[0m   warnings.warn(f\"Time-step timed out. Elapsed since last time-step: {now - self.__t_end}\")\n"
     ]
    },
    {
     "name": "stdout",
     "output_type": "stream",
     "text": [
      "\u001b[2m\u001b[36m(RolloutWorker pid=1736)\u001b[0m reset triggered\n",
      "\u001b[2m\u001b[36m(RolloutWorker pid=1736)\u001b[0m reload save for track : 72\n"
     ]
    },
    {
     "name": "stderr",
     "output_type": "stream",
     "text": [
      "\u001b[2m\u001b[36m(RolloutWorker pid=1736)\u001b[0m C:\\Users\\nadir\\anaconda3\\envs\\GTRay2.4.0\\lib\\site-packages\\rtgym\\envs\\real_time_env.py:376: UserWarning: Time-step timed out. Elapsed since last time-step: 0.1462666999850626\n",
      "\u001b[2m\u001b[36m(RolloutWorker pid=1736)\u001b[0m   warnings.warn(f\"Time-step timed out. Elapsed since last time-step: {now - self.__t_end}\")\n"
     ]
    },
    {
     "name": "stdout",
     "output_type": "stream",
     "text": [
      "Loop:  167\n"
     ]
    },
    {
     "name": "stderr",
     "output_type": "stream",
     "text": [
      "\u001b[2m\u001b[36m(RolloutWorker pid=1736)\u001b[0m C:\\Users\\nadir\\anaconda3\\envs\\GTRay2.4.0\\lib\\site-packages\\rtgym\\envs\\real_time_env.py:376: UserWarning: Time-step timed out. Elapsed since last time-step: 3.0395998999451876\n",
      "\u001b[2m\u001b[36m(RolloutWorker pid=1736)\u001b[0m   warnings.warn(f\"Time-step timed out. Elapsed since last time-step: {now - self.__t_end}\")\n"
     ]
    },
    {
     "name": "stdout",
     "output_type": "stream",
     "text": [
      "\u001b[2m\u001b[36m(RolloutWorker pid=1736)\u001b[0m reset triggered\n",
      "\u001b[2m\u001b[36m(RolloutWorker pid=1736)\u001b[0m reload save for track : 72\n"
     ]
    },
    {
     "name": "stderr",
     "output_type": "stream",
     "text": [
      "\u001b[2m\u001b[36m(RolloutWorker pid=1736)\u001b[0m C:\\Users\\nadir\\anaconda3\\envs\\GTRay2.4.0\\lib\\site-packages\\rtgym\\envs\\real_time_env.py:376: UserWarning: Time-step timed out. Elapsed since last time-step: 0.13071539998509252\n",
      "\u001b[2m\u001b[36m(RolloutWorker pid=1736)\u001b[0m   warnings.warn(f\"Time-step timed out. Elapsed since last time-step: {now - self.__t_end}\")\n"
     ]
    },
    {
     "name": "stdout",
     "output_type": "stream",
     "text": [
      "Loop:  168\n"
     ]
    },
    {
     "name": "stderr",
     "output_type": "stream",
     "text": [
      "\u001b[2m\u001b[36m(RolloutWorker pid=1736)\u001b[0m C:\\Users\\nadir\\anaconda3\\envs\\GTRay2.4.0\\lib\\site-packages\\rtgym\\envs\\real_time_env.py:376: UserWarning: Time-step timed out. Elapsed since last time-step: 3.051888099945245\n",
      "\u001b[2m\u001b[36m(RolloutWorker pid=1736)\u001b[0m   warnings.warn(f\"Time-step timed out. Elapsed since last time-step: {now - self.__t_end}\")\n",
      "\u001b[2m\u001b[36m(RolloutWorker pid=1736)\u001b[0m C:\\Users\\nadir\\anaconda3\\envs\\GTRay2.4.0\\lib\\site-packages\\rtgym\\envs\\real_time_env.py:376: UserWarning: Time-step timed out. Elapsed since last time-step: 0.13453249998474348\n",
      "\u001b[2m\u001b[36m(RolloutWorker pid=1736)\u001b[0m   warnings.warn(f\"Time-step timed out. Elapsed since last time-step: {now - self.__t_end}\")\n"
     ]
    },
    {
     "name": "stdout",
     "output_type": "stream",
     "text": [
      "\u001b[2m\u001b[36m(RolloutWorker pid=1736)\u001b[0m reset triggered\n",
      "\u001b[2m\u001b[36m(RolloutWorker pid=1736)\u001b[0m reload save for track : 72\n",
      "Loop:  169\n"
     ]
    },
    {
     "name": "stderr",
     "output_type": "stream",
     "text": [
      "\u001b[2m\u001b[36m(RolloutWorker pid=1736)\u001b[0m C:\\Users\\nadir\\anaconda3\\envs\\GTRay2.4.0\\lib\\site-packages\\rtgym\\envs\\real_time_env.py:376: UserWarning: Time-step timed out. Elapsed since last time-step: 3.0445877999450204\n",
      "\u001b[2m\u001b[36m(RolloutWorker pid=1736)\u001b[0m   warnings.warn(f\"Time-step timed out. Elapsed since last time-step: {now - self.__t_end}\")\n"
     ]
    },
    {
     "name": "stdout",
     "output_type": "stream",
     "text": [
      "\u001b[2m\u001b[36m(RolloutWorker pid=1736)\u001b[0m reset triggered\n",
      "\u001b[2m\u001b[36m(RolloutWorker pid=1736)\u001b[0m reload save for track : 72\n"
     ]
    },
    {
     "name": "stderr",
     "output_type": "stream",
     "text": [
      "\u001b[2m\u001b[36m(RolloutWorker pid=1736)\u001b[0m C:\\Users\\nadir\\anaconda3\\envs\\GTRay2.4.0\\lib\\site-packages\\rtgym\\envs\\real_time_env.py:376: UserWarning: Time-step timed out. Elapsed since last time-step: 0.13975429998527034\n",
      "\u001b[2m\u001b[36m(RolloutWorker pid=1736)\u001b[0m   warnings.warn(f\"Time-step timed out. Elapsed since last time-step: {now - self.__t_end}\")\n",
      "\u001b[2m\u001b[36m(RolloutWorker pid=1736)\u001b[0m C:\\Users\\nadir\\anaconda3\\envs\\GTRay2.4.0\\lib\\site-packages\\rtgym\\envs\\real_time_env.py:376: UserWarning: Time-step timed out. Elapsed since last time-step: 0.05135629994538249\n",
      "\u001b[2m\u001b[36m(RolloutWorker pid=1736)\u001b[0m   warnings.warn(f\"Time-step timed out. Elapsed since last time-step: {now - self.__t_end}\")\n"
     ]
    },
    {
     "name": "stdout",
     "output_type": "stream",
     "text": [
      "Loop:  170\n",
      "Saved 170\n"
     ]
    },
    {
     "name": "stderr",
     "output_type": "stream",
     "text": [
      "\u001b[2m\u001b[36m(RolloutWorker pid=1736)\u001b[0m C:\\Users\\nadir\\anaconda3\\envs\\GTRay2.4.0\\lib\\site-packages\\rtgym\\envs\\real_time_env.py:376: UserWarning: Time-step timed out. Elapsed since last time-step: 3.0863956999996844\n",
      "\u001b[2m\u001b[36m(RolloutWorker pid=1736)\u001b[0m   warnings.warn(f\"Time-step timed out. Elapsed since last time-step: {now - self.__t_end}\")\n",
      "\u001b[2m\u001b[36m(RolloutWorker pid=1736)\u001b[0m C:\\Users\\nadir\\anaconda3\\envs\\GTRay2.4.0\\lib\\site-packages\\rtgym\\envs\\real_time_env.py:376: UserWarning: Time-step timed out. Elapsed since last time-step: 0.11224429998492269\n",
      "\u001b[2m\u001b[36m(RolloutWorker pid=1736)\u001b[0m   warnings.warn(f\"Time-step timed out. Elapsed since last time-step: {now - self.__t_end}\")\n"
     ]
    },
    {
     "name": "stdout",
     "output_type": "stream",
     "text": [
      "\u001b[2m\u001b[36m(RolloutWorker pid=1736)\u001b[0m reset triggered\n",
      "\u001b[2m\u001b[36m(RolloutWorker pid=1736)\u001b[0m reload save for track : 72\n",
      "Loop:  171\n"
     ]
    },
    {
     "name": "stderr",
     "output_type": "stream",
     "text": [
      "\u001b[2m\u001b[36m(RolloutWorker pid=1736)\u001b[0m C:\\Users\\nadir\\anaconda3\\envs\\GTRay2.4.0\\lib\\site-packages\\rtgym\\envs\\real_time_env.py:376: UserWarning: Time-step timed out. Elapsed since last time-step: 3.0099861999451605\n",
      "\u001b[2m\u001b[36m(RolloutWorker pid=1736)\u001b[0m   warnings.warn(f\"Time-step timed out. Elapsed since last time-step: {now - self.__t_end}\")\n"
     ]
    },
    {
     "name": "stdout",
     "output_type": "stream",
     "text": [
      "\u001b[2m\u001b[36m(RolloutWorker pid=1736)\u001b[0m reset triggered\n",
      "\u001b[2m\u001b[36m(RolloutWorker pid=1736)\u001b[0m reload save for track : 72\n"
     ]
    },
    {
     "name": "stderr",
     "output_type": "stream",
     "text": [
      "\u001b[2m\u001b[36m(RolloutWorker pid=1736)\u001b[0m C:\\Users\\nadir\\anaconda3\\envs\\GTRay2.4.0\\lib\\site-packages\\rtgym\\envs\\real_time_env.py:376: UserWarning: Time-step timed out. Elapsed since last time-step: 0.11962149998498717\n",
      "\u001b[2m\u001b[36m(RolloutWorker pid=1736)\u001b[0m   warnings.warn(f\"Time-step timed out. Elapsed since last time-step: {now - self.__t_end}\")\n"
     ]
    },
    {
     "name": "stdout",
     "output_type": "stream",
     "text": [
      "Loop:  172\n"
     ]
    },
    {
     "name": "stderr",
     "output_type": "stream",
     "text": [
      "\u001b[2m\u001b[36m(RolloutWorker pid=1736)\u001b[0m C:\\Users\\nadir\\anaconda3\\envs\\GTRay2.4.0\\lib\\site-packages\\rtgym\\envs\\real_time_env.py:376: UserWarning: Time-step timed out. Elapsed since last time-step: 3.0716595999451783\n",
      "\u001b[2m\u001b[36m(RolloutWorker pid=1736)\u001b[0m   warnings.warn(f\"Time-step timed out. Elapsed since last time-step: {now - self.__t_end}\")\n"
     ]
    },
    {
     "name": "stdout",
     "output_type": "stream",
     "text": [
      "\u001b[2m\u001b[36m(RolloutWorker pid=1736)\u001b[0m reset triggered\n",
      "\u001b[2m\u001b[36m(RolloutWorker pid=1736)\u001b[0m reload save for track : 72\n"
     ]
    },
    {
     "name": "stderr",
     "output_type": "stream",
     "text": [
      "\u001b[2m\u001b[36m(RolloutWorker pid=1736)\u001b[0m C:\\Users\\nadir\\anaconda3\\envs\\GTRay2.4.0\\lib\\site-packages\\rtgym\\envs\\real_time_env.py:376: UserWarning: Time-step timed out. Elapsed since last time-step: 0.09900409998499526\n",
      "\u001b[2m\u001b[36m(RolloutWorker pid=1736)\u001b[0m   warnings.warn(f\"Time-step timed out. Elapsed since last time-step: {now - self.__t_end}\")\n"
     ]
    },
    {
     "name": "stdout",
     "output_type": "stream",
     "text": [
      "Loop:  173\n"
     ]
    },
    {
     "name": "stderr",
     "output_type": "stream",
     "text": [
      "\u001b[2m\u001b[36m(RolloutWorker pid=1736)\u001b[0m C:\\Users\\nadir\\anaconda3\\envs\\GTRay2.4.0\\lib\\site-packages\\rtgym\\envs\\real_time_env.py:376: UserWarning: Time-step timed out. Elapsed since last time-step: 3.069855899945196\n",
      "\u001b[2m\u001b[36m(RolloutWorker pid=1736)\u001b[0m   warnings.warn(f\"Time-step timed out. Elapsed since last time-step: {now - self.__t_end}\")\n"
     ]
    },
    {
     "name": "stdout",
     "output_type": "stream",
     "text": [
      "\u001b[2m\u001b[36m(RolloutWorker pid=1736)\u001b[0m reset triggered\n",
      "\u001b[2m\u001b[36m(RolloutWorker pid=1736)\u001b[0m reload save for track : 72\n"
     ]
    },
    {
     "name": "stderr",
     "output_type": "stream",
     "text": [
      "\u001b[2m\u001b[36m(RolloutWorker pid=1736)\u001b[0m C:\\Users\\nadir\\anaconda3\\envs\\GTRay2.4.0\\lib\\site-packages\\rtgym\\envs\\real_time_env.py:376: UserWarning: Time-step timed out. Elapsed since last time-step: 0.1059983999848555\n",
      "\u001b[2m\u001b[36m(RolloutWorker pid=1736)\u001b[0m   warnings.warn(f\"Time-step timed out. Elapsed since last time-step: {now - self.__t_end}\")\n"
     ]
    },
    {
     "name": "stdout",
     "output_type": "stream",
     "text": [
      "Loop:  174\n"
     ]
    },
    {
     "name": "stderr",
     "output_type": "stream",
     "text": [
      "\u001b[2m\u001b[36m(RolloutWorker pid=1736)\u001b[0m C:\\Users\\nadir\\anaconda3\\envs\\GTRay2.4.0\\lib\\site-packages\\rtgym\\envs\\real_time_env.py:376: UserWarning: Time-step timed out. Elapsed since last time-step: 2.9487006999452205\n",
      "\u001b[2m\u001b[36m(RolloutWorker pid=1736)\u001b[0m   warnings.warn(f\"Time-step timed out. Elapsed since last time-step: {now - self.__t_end}\")\n"
     ]
    },
    {
     "name": "stdout",
     "output_type": "stream",
     "text": [
      "\u001b[2m\u001b[36m(RolloutWorker pid=1736)\u001b[0m reset triggered\n",
      "\u001b[2m\u001b[36m(RolloutWorker pid=1736)\u001b[0m reload save for track : 72\n"
     ]
    },
    {
     "name": "stderr",
     "output_type": "stream",
     "text": [
      "\u001b[2m\u001b[36m(RolloutWorker pid=1736)\u001b[0m C:\\Users\\nadir\\anaconda3\\envs\\GTRay2.4.0\\lib\\site-packages\\rtgym\\envs\\real_time_env.py:376: UserWarning: Time-step timed out. Elapsed since last time-step: 0.1256349999853228\n",
      "\u001b[2m\u001b[36m(RolloutWorker pid=1736)\u001b[0m   warnings.warn(f\"Time-step timed out. Elapsed since last time-step: {now - self.__t_end}\")\n"
     ]
    },
    {
     "name": "stdout",
     "output_type": "stream",
     "text": [
      "Loop:  175\n"
     ]
    },
    {
     "name": "stderr",
     "output_type": "stream",
     "text": [
      "\u001b[2m\u001b[36m(RolloutWorker pid=1736)\u001b[0m C:\\Users\\nadir\\anaconda3\\envs\\GTRay2.4.0\\lib\\site-packages\\rtgym\\envs\\real_time_env.py:376: UserWarning: Time-step timed out. Elapsed since last time-step: 3.0263550999447943\n",
      "\u001b[2m\u001b[36m(RolloutWorker pid=1736)\u001b[0m   warnings.warn(f\"Time-step timed out. Elapsed since last time-step: {now - self.__t_end}\")\n",
      "\u001b[2m\u001b[36m(RolloutWorker pid=1736)\u001b[0m C:\\Users\\nadir\\anaconda3\\envs\\GTRay2.4.0\\lib\\site-packages\\rtgym\\envs\\real_time_env.py:376: UserWarning: Time-step timed out. Elapsed since last time-step: 0.10314619998507624\n",
      "\u001b[2m\u001b[36m(RolloutWorker pid=1736)\u001b[0m   warnings.warn(f\"Time-step timed out. Elapsed since last time-step: {now - self.__t_end}\")\n"
     ]
    },
    {
     "name": "stdout",
     "output_type": "stream",
     "text": [
      "\u001b[2m\u001b[36m(RolloutWorker pid=1736)\u001b[0m reset triggered\n",
      "\u001b[2m\u001b[36m(RolloutWorker pid=1736)\u001b[0m reload save for track : 72\n",
      "Loop:  176\n"
     ]
    },
    {
     "name": "stderr",
     "output_type": "stream",
     "text": [
      "\u001b[2m\u001b[36m(RolloutWorker pid=1736)\u001b[0m C:\\Users\\nadir\\anaconda3\\envs\\GTRay2.4.0\\lib\\site-packages\\rtgym\\envs\\real_time_env.py:376: UserWarning: Time-step timed out. Elapsed since last time-step: 2.8734513999452247\n",
      "\u001b[2m\u001b[36m(RolloutWorker pid=1736)\u001b[0m   warnings.warn(f\"Time-step timed out. Elapsed since last time-step: {now - self.__t_end}\")\n"
     ]
    },
    {
     "name": "stdout",
     "output_type": "stream",
     "text": [
      "\u001b[2m\u001b[36m(RolloutWorker pid=1736)\u001b[0m reset triggered\n",
      "\u001b[2m\u001b[36m(RolloutWorker pid=1736)\u001b[0m reload save for track : 72\n"
     ]
    },
    {
     "name": "stderr",
     "output_type": "stream",
     "text": [
      "\u001b[2m\u001b[36m(RolloutWorker pid=1736)\u001b[0m C:\\Users\\nadir\\anaconda3\\envs\\GTRay2.4.0\\lib\\site-packages\\rtgym\\envs\\real_time_env.py:376: UserWarning: Time-step timed out. Elapsed since last time-step: 0.14693539998506822\n",
      "\u001b[2m\u001b[36m(RolloutWorker pid=1736)\u001b[0m   warnings.warn(f\"Time-step timed out. Elapsed since last time-step: {now - self.__t_end}\")\n"
     ]
    },
    {
     "name": "stdout",
     "output_type": "stream",
     "text": [
      "Loop:  177\n"
     ]
    },
    {
     "name": "stderr",
     "output_type": "stream",
     "text": [
      "\u001b[2m\u001b[36m(RolloutWorker pid=1736)\u001b[0m C:\\Users\\nadir\\anaconda3\\envs\\GTRay2.4.0\\lib\\site-packages\\rtgym\\envs\\real_time_env.py:376: UserWarning: Time-step timed out. Elapsed since last time-step: 3.059634199944867\n",
      "\u001b[2m\u001b[36m(RolloutWorker pid=1736)\u001b[0m   warnings.warn(f\"Time-step timed out. Elapsed since last time-step: {now - self.__t_end}\")\n",
      "\u001b[2m\u001b[36m(RolloutWorker pid=1736)\u001b[0m C:\\Users\\nadir\\anaconda3\\envs\\GTRay2.4.0\\lib\\site-packages\\rtgym\\envs\\real_time_env.py:376: UserWarning: Time-step timed out. Elapsed since last time-step: 0.13033699998504744\n",
      "\u001b[2m\u001b[36m(RolloutWorker pid=1736)\u001b[0m   warnings.warn(f\"Time-step timed out. Elapsed since last time-step: {now - self.__t_end}\")\n"
     ]
    },
    {
     "name": "stdout",
     "output_type": "stream",
     "text": [
      "\u001b[2m\u001b[36m(RolloutWorker pid=1736)\u001b[0m reset triggered\n",
      "\u001b[2m\u001b[36m(RolloutWorker pid=1736)\u001b[0m reload save for track : 72\n",
      "Loop:  178\n"
     ]
    },
    {
     "name": "stderr",
     "output_type": "stream",
     "text": [
      "\u001b[2m\u001b[36m(RolloutWorker pid=1736)\u001b[0m C:\\Users\\nadir\\anaconda3\\envs\\GTRay2.4.0\\lib\\site-packages\\rtgym\\envs\\real_time_env.py:376: UserWarning: Time-step timed out. Elapsed since last time-step: 3.0686489999452533\n",
      "\u001b[2m\u001b[36m(RolloutWorker pid=1736)\u001b[0m   warnings.warn(f\"Time-step timed out. Elapsed since last time-step: {now - self.__t_end}\")\n",
      "\u001b[2m\u001b[36m(RolloutWorker pid=1736)\u001b[0m C:\\Users\\nadir\\anaconda3\\envs\\GTRay2.4.0\\lib\\site-packages\\rtgym\\envs\\real_time_env.py:376: UserWarning: Time-step timed out. Elapsed since last time-step: 0.14090409998516407\n",
      "\u001b[2m\u001b[36m(RolloutWorker pid=1736)\u001b[0m   warnings.warn(f\"Time-step timed out. Elapsed since last time-step: {now - self.__t_end}\")\n"
     ]
    },
    {
     "name": "stdout",
     "output_type": "stream",
     "text": [
      "\u001b[2m\u001b[36m(RolloutWorker pid=1736)\u001b[0m reset triggered\n",
      "\u001b[2m\u001b[36m(RolloutWorker pid=1736)\u001b[0m reload save for track : 72\n",
      "Loop:  179\n"
     ]
    },
    {
     "name": "stderr",
     "output_type": "stream",
     "text": [
      "\u001b[2m\u001b[36m(RolloutWorker pid=1736)\u001b[0m C:\\Users\\nadir\\anaconda3\\envs\\GTRay2.4.0\\lib\\site-packages\\rtgym\\envs\\real_time_env.py:376: UserWarning: Time-step timed out. Elapsed since last time-step: 3.0343610999448174\n",
      "\u001b[2m\u001b[36m(RolloutWorker pid=1736)\u001b[0m   warnings.warn(f\"Time-step timed out. Elapsed since last time-step: {now - self.__t_end}\")\n"
     ]
    },
    {
     "name": "stdout",
     "output_type": "stream",
     "text": [
      "\u001b[2m\u001b[36m(RolloutWorker pid=1736)\u001b[0m reset triggered\n",
      "\u001b[2m\u001b[36m(RolloutWorker pid=1736)\u001b[0m reload save for track : 72\n"
     ]
    },
    {
     "name": "stderr",
     "output_type": "stream",
     "text": [
      "\u001b[2m\u001b[36m(RolloutWorker pid=1736)\u001b[0m C:\\Users\\nadir\\anaconda3\\envs\\GTRay2.4.0\\lib\\site-packages\\rtgym\\envs\\real_time_env.py:376: UserWarning: Time-step timed out. Elapsed since last time-step: 0.1266082999854916\n",
      "\u001b[2m\u001b[36m(RolloutWorker pid=1736)\u001b[0m   warnings.warn(f\"Time-step timed out. Elapsed since last time-step: {now - self.__t_end}\")\n"
     ]
    },
    {
     "name": "stdout",
     "output_type": "stream",
     "text": [
      "Loop:  180\n",
      "Saved 180\n"
     ]
    },
    {
     "name": "stderr",
     "output_type": "stream",
     "text": [
      "\u001b[2m\u001b[36m(RolloutWorker pid=1736)\u001b[0m C:\\Users\\nadir\\anaconda3\\envs\\GTRay2.4.0\\lib\\site-packages\\rtgym\\envs\\real_time_env.py:376: UserWarning: Time-step timed out. Elapsed since last time-step: 3.14143569994485\n",
      "\u001b[2m\u001b[36m(RolloutWorker pid=1736)\u001b[0m   warnings.warn(f\"Time-step timed out. Elapsed since last time-step: {now - self.__t_end}\")\n"
     ]
    },
    {
     "name": "stdout",
     "output_type": "stream",
     "text": [
      "\u001b[2m\u001b[36m(RolloutWorker pid=1736)\u001b[0m reset triggered\n",
      "\u001b[2m\u001b[36m(RolloutWorker pid=1736)\u001b[0m reload save for track : 72\n"
     ]
    },
    {
     "name": "stderr",
     "output_type": "stream",
     "text": [
      "\u001b[2m\u001b[36m(RolloutWorker pid=1736)\u001b[0m C:\\Users\\nadir\\anaconda3\\envs\\GTRay2.4.0\\lib\\site-packages\\rtgym\\envs\\real_time_env.py:376: UserWarning: Time-step timed out. Elapsed since last time-step: 0.11424929998520383\n",
      "\u001b[2m\u001b[36m(RolloutWorker pid=1736)\u001b[0m   warnings.warn(f\"Time-step timed out. Elapsed since last time-step: {now - self.__t_end}\")\n"
     ]
    },
    {
     "name": "stdout",
     "output_type": "stream",
     "text": [
      "Loop:  181\n"
     ]
    },
    {
     "name": "stderr",
     "output_type": "stream",
     "text": [
      "\u001b[2m\u001b[36m(RolloutWorker pid=1736)\u001b[0m C:\\Users\\nadir\\anaconda3\\envs\\GTRay2.4.0\\lib\\site-packages\\rtgym\\envs\\real_time_env.py:376: UserWarning: Time-step timed out. Elapsed since last time-step: 3.0311918999450427\n",
      "\u001b[2m\u001b[36m(RolloutWorker pid=1736)\u001b[0m   warnings.warn(f\"Time-step timed out. Elapsed since last time-step: {now - self.__t_end}\")\n"
     ]
    },
    {
     "name": "stdout",
     "output_type": "stream",
     "text": [
      "\u001b[2m\u001b[36m(RolloutWorker pid=1736)\u001b[0m reset triggered\n",
      "\u001b[2m\u001b[36m(RolloutWorker pid=1736)\u001b[0m reload save for track : 72\n"
     ]
    },
    {
     "name": "stderr",
     "output_type": "stream",
     "text": [
      "\u001b[2m\u001b[36m(RolloutWorker pid=1736)\u001b[0m C:\\Users\\nadir\\anaconda3\\envs\\GTRay2.4.0\\lib\\site-packages\\rtgym\\envs\\real_time_env.py:376: UserWarning: Time-step timed out. Elapsed since last time-step: 0.13337659998478557\n",
      "\u001b[2m\u001b[36m(RolloutWorker pid=1736)\u001b[0m   warnings.warn(f\"Time-step timed out. Elapsed since last time-step: {now - self.__t_end}\")\n"
     ]
    },
    {
     "name": "stdout",
     "output_type": "stream",
     "text": [
      "Loop:  182\n"
     ]
    },
    {
     "name": "stderr",
     "output_type": "stream",
     "text": [
      "\u001b[2m\u001b[36m(RolloutWorker pid=1736)\u001b[0m C:\\Users\\nadir\\anaconda3\\envs\\GTRay2.4.0\\lib\\site-packages\\rtgym\\envs\\real_time_env.py:376: UserWarning: Time-step timed out. Elapsed since last time-step: 3.0314630999455403\n",
      "\u001b[2m\u001b[36m(RolloutWorker pid=1736)\u001b[0m   warnings.warn(f\"Time-step timed out. Elapsed since last time-step: {now - self.__t_end}\")\n",
      "\u001b[2m\u001b[36m(RolloutWorker pid=1736)\u001b[0m C:\\Users\\nadir\\anaconda3\\envs\\GTRay2.4.0\\lib\\site-packages\\rtgym\\envs\\real_time_env.py:376: UserWarning: Time-step timed out. Elapsed since last time-step: 0.138649099984832\n",
      "\u001b[2m\u001b[36m(RolloutWorker pid=1736)\u001b[0m   warnings.warn(f\"Time-step timed out. Elapsed since last time-step: {now - self.__t_end}\")\n"
     ]
    },
    {
     "name": "stdout",
     "output_type": "stream",
     "text": [
      "\u001b[2m\u001b[36m(RolloutWorker pid=1736)\u001b[0m reset triggered\n",
      "\u001b[2m\u001b[36m(RolloutWorker pid=1736)\u001b[0m reload save for track : 72\n",
      "Loop:  183\n"
     ]
    },
    {
     "name": "stderr",
     "output_type": "stream",
     "text": [
      "\u001b[2m\u001b[36m(RolloutWorker pid=1736)\u001b[0m C:\\Users\\nadir\\anaconda3\\envs\\GTRay2.4.0\\lib\\site-packages\\rtgym\\envs\\real_time_env.py:376: UserWarning: Time-step timed out. Elapsed since last time-step: 3.0882288999446246\n",
      "\u001b[2m\u001b[36m(RolloutWorker pid=1736)\u001b[0m   warnings.warn(f\"Time-step timed out. Elapsed since last time-step: {now - self.__t_end}\")\n"
     ]
    },
    {
     "name": "stdout",
     "output_type": "stream",
     "text": [
      "\u001b[2m\u001b[36m(RolloutWorker pid=1736)\u001b[0m reset triggered\n",
      "\u001b[2m\u001b[36m(RolloutWorker pid=1736)\u001b[0m reload save for track : 72\n"
     ]
    },
    {
     "name": "stderr",
     "output_type": "stream",
     "text": [
      "\u001b[2m\u001b[36m(RolloutWorker pid=1736)\u001b[0m C:\\Users\\nadir\\anaconda3\\envs\\GTRay2.4.0\\lib\\site-packages\\rtgym\\envs\\real_time_env.py:376: UserWarning: Time-step timed out. Elapsed since last time-step: 0.13093559998560522\n",
      "\u001b[2m\u001b[36m(RolloutWorker pid=1736)\u001b[0m   warnings.warn(f\"Time-step timed out. Elapsed since last time-step: {now - self.__t_end}\")\n"
     ]
    },
    {
     "name": "stdout",
     "output_type": "stream",
     "text": [
      "Loop:  184\n"
     ]
    },
    {
     "name": "stderr",
     "output_type": "stream",
     "text": [
      "\u001b[2m\u001b[36m(RolloutWorker pid=1736)\u001b[0m C:\\Users\\nadir\\anaconda3\\envs\\GTRay2.4.0\\lib\\site-packages\\rtgym\\envs\\real_time_env.py:376: UserWarning: Time-step timed out. Elapsed since last time-step: 3.0476462999449723\n",
      "\u001b[2m\u001b[36m(RolloutWorker pid=1736)\u001b[0m   warnings.warn(f\"Time-step timed out. Elapsed since last time-step: {now - self.__t_end}\")\n"
     ]
    },
    {
     "name": "stdout",
     "output_type": "stream",
     "text": [
      "\u001b[2m\u001b[36m(RolloutWorker pid=1736)\u001b[0m reset triggered\n",
      "\u001b[2m\u001b[36m(RolloutWorker pid=1736)\u001b[0m reload save for track : 72\n"
     ]
    },
    {
     "name": "stderr",
     "output_type": "stream",
     "text": [
      "\u001b[2m\u001b[36m(RolloutWorker pid=1736)\u001b[0m C:\\Users\\nadir\\anaconda3\\envs\\GTRay2.4.0\\lib\\site-packages\\rtgym\\envs\\real_time_env.py:376: UserWarning: Time-step timed out. Elapsed since last time-step: 0.12257259998477821\n",
      "\u001b[2m\u001b[36m(RolloutWorker pid=1736)\u001b[0m   warnings.warn(f\"Time-step timed out. Elapsed since last time-step: {now - self.__t_end}\")\n"
     ]
    },
    {
     "name": "stdout",
     "output_type": "stream",
     "text": [
      "Loop:  185\n"
     ]
    },
    {
     "name": "stderr",
     "output_type": "stream",
     "text": [
      "\u001b[2m\u001b[36m(RolloutWorker pid=1736)\u001b[0m C:\\Users\\nadir\\anaconda3\\envs\\GTRay2.4.0\\lib\\site-packages\\rtgym\\envs\\real_time_env.py:376: UserWarning: Time-step timed out. Elapsed since last time-step: 3.05804789994545\n",
      "\u001b[2m\u001b[36m(RolloutWorker pid=1736)\u001b[0m   warnings.warn(f\"Time-step timed out. Elapsed since last time-step: {now - self.__t_end}\")\n"
     ]
    },
    {
     "name": "stdout",
     "output_type": "stream",
     "text": [
      "\u001b[2m\u001b[36m(RolloutWorker pid=1736)\u001b[0m reset triggered\n",
      "\u001b[2m\u001b[36m(RolloutWorker pid=1736)\u001b[0m reload save for track : 72\n"
     ]
    },
    {
     "name": "stderr",
     "output_type": "stream",
     "text": [
      "\u001b[2m\u001b[36m(RolloutWorker pid=1736)\u001b[0m C:\\Users\\nadir\\anaconda3\\envs\\GTRay2.4.0\\lib\\site-packages\\rtgym\\envs\\real_time_env.py:376: UserWarning: Time-step timed out. Elapsed since last time-step: 0.11181519998535805\n",
      "\u001b[2m\u001b[36m(RolloutWorker pid=1736)\u001b[0m   warnings.warn(f\"Time-step timed out. Elapsed since last time-step: {now - self.__t_end}\")\n",
      "\u001b[2m\u001b[36m(RolloutWorker pid=1736)\u001b[0m C:\\Users\\nadir\\anaconda3\\envs\\GTRay2.4.0\\lib\\site-packages\\rtgym\\envs\\real_time_env.py:376: UserWarning: Time-step timed out. Elapsed since last time-step: 0.14389429995026148\n",
      "\u001b[2m\u001b[36m(RolloutWorker pid=1736)\u001b[0m   warnings.warn(f\"Time-step timed out. Elapsed since last time-step: {now - self.__t_end}\")\n"
     ]
    },
    {
     "name": "stdout",
     "output_type": "stream",
     "text": [
      "Loop:  186\n"
     ]
    },
    {
     "name": "stderr",
     "output_type": "stream",
     "text": [
      "\u001b[2m\u001b[36m(RolloutWorker pid=1736)\u001b[0m C:\\Users\\nadir\\anaconda3\\envs\\GTRay2.4.0\\lib\\site-packages\\rtgym\\envs\\real_time_env.py:376: UserWarning: Time-step timed out. Elapsed since last time-step: 2.9466168999942965\n",
      "\u001b[2m\u001b[36m(RolloutWorker pid=1736)\u001b[0m   warnings.warn(f\"Time-step timed out. Elapsed since last time-step: {now - self.__t_end}\")\n"
     ]
    },
    {
     "name": "stdout",
     "output_type": "stream",
     "text": [
      "\u001b[2m\u001b[36m(RolloutWorker pid=1736)\u001b[0m reset triggered\n",
      "\u001b[2m\u001b[36m(RolloutWorker pid=1736)\u001b[0m reload save for track : 72\n"
     ]
    },
    {
     "name": "stderr",
     "output_type": "stream",
     "text": [
      "\u001b[2m\u001b[36m(RolloutWorker pid=1736)\u001b[0m C:\\Users\\nadir\\anaconda3\\envs\\GTRay2.4.0\\lib\\site-packages\\rtgym\\envs\\real_time_env.py:376: UserWarning: Time-step timed out. Elapsed since last time-step: 0.12604379998538207\n",
      "\u001b[2m\u001b[36m(RolloutWorker pid=1736)\u001b[0m   warnings.warn(f\"Time-step timed out. Elapsed since last time-step: {now - self.__t_end}\")\n"
     ]
    },
    {
     "name": "stdout",
     "output_type": "stream",
     "text": [
      "Loop:  187\n"
     ]
    },
    {
     "name": "stderr",
     "output_type": "stream",
     "text": [
      "\u001b[2m\u001b[36m(RolloutWorker pid=1736)\u001b[0m C:\\Users\\nadir\\anaconda3\\envs\\GTRay2.4.0\\lib\\site-packages\\rtgym\\envs\\real_time_env.py:376: UserWarning: Time-step timed out. Elapsed since last time-step: 3.05007089994524\n",
      "\u001b[2m\u001b[36m(RolloutWorker pid=1736)\u001b[0m   warnings.warn(f\"Time-step timed out. Elapsed since last time-step: {now - self.__t_end}\")\n"
     ]
    },
    {
     "name": "stdout",
     "output_type": "stream",
     "text": [
      "\u001b[2m\u001b[36m(RolloutWorker pid=1736)\u001b[0m reset triggered\n",
      "\u001b[2m\u001b[36m(RolloutWorker pid=1736)\u001b[0m reload save for track : 72\n"
     ]
    },
    {
     "name": "stderr",
     "output_type": "stream",
     "text": [
      "\u001b[2m\u001b[36m(RolloutWorker pid=1736)\u001b[0m C:\\Users\\nadir\\anaconda3\\envs\\GTRay2.4.0\\lib\\site-packages\\rtgym\\envs\\real_time_env.py:376: UserWarning: Time-step timed out. Elapsed since last time-step: 0.1347744999848146\n",
      "\u001b[2m\u001b[36m(RolloutWorker pid=1736)\u001b[0m   warnings.warn(f\"Time-step timed out. Elapsed since last time-step: {now - self.__t_end}\")\n"
     ]
    },
    {
     "name": "stdout",
     "output_type": "stream",
     "text": [
      "Loop:  188\n"
     ]
    },
    {
     "name": "stderr",
     "output_type": "stream",
     "text": [
      "\u001b[2m\u001b[36m(RolloutWorker pid=1736)\u001b[0m C:\\Users\\nadir\\anaconda3\\envs\\GTRay2.4.0\\lib\\site-packages\\rtgym\\envs\\real_time_env.py:376: UserWarning: Time-step timed out. Elapsed since last time-step: 3.094858399945224\n",
      "\u001b[2m\u001b[36m(RolloutWorker pid=1736)\u001b[0m   warnings.warn(f\"Time-step timed out. Elapsed since last time-step: {now - self.__t_end}\")\n"
     ]
    },
    {
     "name": "stdout",
     "output_type": "stream",
     "text": [
      "\u001b[2m\u001b[36m(RolloutWorker pid=1736)\u001b[0m reset triggered\n",
      "\u001b[2m\u001b[36m(RolloutWorker pid=1736)\u001b[0m reload save for track : 72\n"
     ]
    },
    {
     "name": "stderr",
     "output_type": "stream",
     "text": [
      "\u001b[2m\u001b[36m(RolloutWorker pid=1736)\u001b[0m C:\\Users\\nadir\\anaconda3\\envs\\GTRay2.4.0\\lib\\site-packages\\rtgym\\envs\\real_time_env.py:376: UserWarning: Time-step timed out. Elapsed since last time-step: 0.13016309998511133\n",
      "\u001b[2m\u001b[36m(RolloutWorker pid=1736)\u001b[0m   warnings.warn(f\"Time-step timed out. Elapsed since last time-step: {now - self.__t_end}\")\n"
     ]
    },
    {
     "name": "stdout",
     "output_type": "stream",
     "text": [
      "Loop:  189\n"
     ]
    },
    {
     "name": "stderr",
     "output_type": "stream",
     "text": [
      "\u001b[2m\u001b[36m(RolloutWorker pid=1736)\u001b[0m C:\\Users\\nadir\\anaconda3\\envs\\GTRay2.4.0\\lib\\site-packages\\rtgym\\envs\\real_time_env.py:376: UserWarning: Time-step timed out. Elapsed since last time-step: 3.042312699944887\n",
      "\u001b[2m\u001b[36m(RolloutWorker pid=1736)\u001b[0m   warnings.warn(f\"Time-step timed out. Elapsed since last time-step: {now - self.__t_end}\")\n"
     ]
    },
    {
     "name": "stdout",
     "output_type": "stream",
     "text": [
      "\u001b[2m\u001b[36m(RolloutWorker pid=1736)\u001b[0m reset triggered\n",
      "\u001b[2m\u001b[36m(RolloutWorker pid=1736)\u001b[0m reload save for track : 72\n"
     ]
    },
    {
     "name": "stderr",
     "output_type": "stream",
     "text": [
      "\u001b[2m\u001b[36m(RolloutWorker pid=1736)\u001b[0m C:\\Users\\nadir\\anaconda3\\envs\\GTRay2.4.0\\lib\\site-packages\\rtgym\\envs\\real_time_env.py:376: UserWarning: Time-step timed out. Elapsed since last time-step: 0.12939209998512524\n",
      "\u001b[2m\u001b[36m(RolloutWorker pid=1736)\u001b[0m   warnings.warn(f\"Time-step timed out. Elapsed since last time-step: {now - self.__t_end}\")\n"
     ]
    },
    {
     "name": "stdout",
     "output_type": "stream",
     "text": [
      "Loop:  190\n",
      "Saved 190\n"
     ]
    },
    {
     "name": "stderr",
     "output_type": "stream",
     "text": [
      "\u001b[2m\u001b[36m(RolloutWorker pid=1736)\u001b[0m C:\\Users\\nadir\\anaconda3\\envs\\GTRay2.4.0\\lib\\site-packages\\rtgym\\envs\\real_time_env.py:376: UserWarning: Time-step timed out. Elapsed since last time-step: 3.123661999945398\n",
      "\u001b[2m\u001b[36m(RolloutWorker pid=1736)\u001b[0m   warnings.warn(f\"Time-step timed out. Elapsed since last time-step: {now - self.__t_end}\")\n"
     ]
    },
    {
     "name": "stdout",
     "output_type": "stream",
     "text": [
      "\u001b[2m\u001b[36m(RolloutWorker pid=1736)\u001b[0m reset triggered\n",
      "\u001b[2m\u001b[36m(RolloutWorker pid=1736)\u001b[0m reload save for track : 72\n"
     ]
    },
    {
     "name": "stderr",
     "output_type": "stream",
     "text": [
      "\u001b[2m\u001b[36m(RolloutWorker pid=1736)\u001b[0m C:\\Users\\nadir\\anaconda3\\envs\\GTRay2.4.0\\lib\\site-packages\\rtgym\\envs\\real_time_env.py:376: UserWarning: Time-step timed out. Elapsed since last time-step: 0.11841979998462193\n",
      "\u001b[2m\u001b[36m(RolloutWorker pid=1736)\u001b[0m   warnings.warn(f\"Time-step timed out. Elapsed since last time-step: {now - self.__t_end}\")\n"
     ]
    },
    {
     "name": "stdout",
     "output_type": "stream",
     "text": [
      "Loop:  191\n"
     ]
    },
    {
     "name": "stderr",
     "output_type": "stream",
     "text": [
      "\u001b[2m\u001b[36m(RolloutWorker pid=1736)\u001b[0m C:\\Users\\nadir\\anaconda3\\envs\\GTRay2.4.0\\lib\\site-packages\\rtgym\\envs\\real_time_env.py:376: UserWarning: Time-step timed out. Elapsed since last time-step: 3.0211258999452184\n",
      "\u001b[2m\u001b[36m(RolloutWorker pid=1736)\u001b[0m   warnings.warn(f\"Time-step timed out. Elapsed since last time-step: {now - self.__t_end}\")\n",
      "\u001b[2m\u001b[36m(RolloutWorker pid=1736)\u001b[0m C:\\Users\\nadir\\anaconda3\\envs\\GTRay2.4.0\\lib\\site-packages\\rtgym\\envs\\real_time_env.py:376: UserWarning: Time-step timed out. Elapsed since last time-step: 0.12882619998526934\n",
      "\u001b[2m\u001b[36m(RolloutWorker pid=1736)\u001b[0m   warnings.warn(f\"Time-step timed out. Elapsed since last time-step: {now - self.__t_end}\")\n"
     ]
    },
    {
     "name": "stdout",
     "output_type": "stream",
     "text": [
      "\u001b[2m\u001b[36m(RolloutWorker pid=1736)\u001b[0m reset triggered\n",
      "\u001b[2m\u001b[36m(RolloutWorker pid=1736)\u001b[0m reload save for track : 72\n",
      "Loop:  192\n"
     ]
    },
    {
     "name": "stderr",
     "output_type": "stream",
     "text": [
      "\u001b[2m\u001b[36m(RolloutWorker pid=1736)\u001b[0m C:\\Users\\nadir\\anaconda3\\envs\\GTRay2.4.0\\lib\\site-packages\\rtgym\\envs\\real_time_env.py:376: UserWarning: Time-step timed out. Elapsed since last time-step: 3.054029699945204\n",
      "\u001b[2m\u001b[36m(RolloutWorker pid=1736)\u001b[0m   warnings.warn(f\"Time-step timed out. Elapsed since last time-step: {now - self.__t_end}\")\n"
     ]
    },
    {
     "name": "stdout",
     "output_type": "stream",
     "text": [
      "\u001b[2m\u001b[36m(RolloutWorker pid=1736)\u001b[0m reset triggered\n",
      "\u001b[2m\u001b[36m(RolloutWorker pid=1736)\u001b[0m reload save for track : 72\n"
     ]
    },
    {
     "name": "stderr",
     "output_type": "stream",
     "text": [
      "\u001b[2m\u001b[36m(RolloutWorker pid=1736)\u001b[0m C:\\Users\\nadir\\anaconda3\\envs\\GTRay2.4.0\\lib\\site-packages\\rtgym\\envs\\real_time_env.py:376: UserWarning: Time-step timed out. Elapsed since last time-step: 0.12640589998500218\n",
      "\u001b[2m\u001b[36m(RolloutWorker pid=1736)\u001b[0m   warnings.warn(f\"Time-step timed out. Elapsed since last time-step: {now - self.__t_end}\")\n",
      "\u001b[2m\u001b[36m(RolloutWorker pid=1736)\u001b[0m C:\\Users\\nadir\\anaconda3\\envs\\GTRay2.4.0\\lib\\site-packages\\rtgym\\envs\\real_time_env.py:376: UserWarning: Time-step timed out. Elapsed since last time-step: 0.0526274999447196\n",
      "\u001b[2m\u001b[36m(RolloutWorker pid=1736)\u001b[0m   warnings.warn(f\"Time-step timed out. Elapsed since last time-step: {now - self.__t_end}\")\n"
     ]
    },
    {
     "name": "stdout",
     "output_type": "stream",
     "text": [
      "Loop:  193\n"
     ]
    },
    {
     "name": "stderr",
     "output_type": "stream",
     "text": [
      "\u001b[2m\u001b[36m(RolloutWorker pid=1736)\u001b[0m C:\\Users\\nadir\\anaconda3\\envs\\GTRay2.4.0\\lib\\site-packages\\rtgym\\envs\\real_time_env.py:376: UserWarning: Time-step timed out. Elapsed since last time-step: 3.024663399999554\n",
      "\u001b[2m\u001b[36m(RolloutWorker pid=1736)\u001b[0m   warnings.warn(f\"Time-step timed out. Elapsed since last time-step: {now - self.__t_end}\")\n"
     ]
    },
    {
     "name": "stdout",
     "output_type": "stream",
     "text": [
      "\u001b[2m\u001b[36m(RolloutWorker pid=1736)\u001b[0m reset triggered\n",
      "\u001b[2m\u001b[36m(RolloutWorker pid=1736)\u001b[0m reload save for track : 72\n"
     ]
    },
    {
     "name": "stderr",
     "output_type": "stream",
     "text": [
      "\u001b[2m\u001b[36m(RolloutWorker pid=1736)\u001b[0m C:\\Users\\nadir\\anaconda3\\envs\\GTRay2.4.0\\lib\\site-packages\\rtgym\\envs\\real_time_env.py:376: UserWarning: Time-step timed out. Elapsed since last time-step: 0.1328046999851722\n",
      "\u001b[2m\u001b[36m(RolloutWorker pid=1736)\u001b[0m   warnings.warn(f\"Time-step timed out. Elapsed since last time-step: {now - self.__t_end}\")\n"
     ]
    },
    {
     "name": "stdout",
     "output_type": "stream",
     "text": [
      "Loop:  194\n"
     ]
    },
    {
     "name": "stderr",
     "output_type": "stream",
     "text": [
      "\u001b[2m\u001b[36m(RolloutWorker pid=1736)\u001b[0m C:\\Users\\nadir\\anaconda3\\envs\\GTRay2.4.0\\lib\\site-packages\\rtgym\\envs\\real_time_env.py:376: UserWarning: Time-step timed out. Elapsed since last time-step: 3.0762928999456562\n",
      "\u001b[2m\u001b[36m(RolloutWorker pid=1736)\u001b[0m   warnings.warn(f\"Time-step timed out. Elapsed since last time-step: {now - self.__t_end}\")\n"
     ]
    },
    {
     "name": "stdout",
     "output_type": "stream",
     "text": [
      "\u001b[2m\u001b[36m(RolloutWorker pid=1736)\u001b[0m reset triggered\n",
      "\u001b[2m\u001b[36m(RolloutWorker pid=1736)\u001b[0m reload save for track : 72\n"
     ]
    },
    {
     "name": "stderr",
     "output_type": "stream",
     "text": [
      "\u001b[2m\u001b[36m(RolloutWorker pid=1736)\u001b[0m C:\\Users\\nadir\\anaconda3\\envs\\GTRay2.4.0\\lib\\site-packages\\rtgym\\envs\\real_time_env.py:376: UserWarning: Time-step timed out. Elapsed since last time-step: 0.1446210999847608\n",
      "\u001b[2m\u001b[36m(RolloutWorker pid=1736)\u001b[0m   warnings.warn(f\"Time-step timed out. Elapsed since last time-step: {now - self.__t_end}\")\n"
     ]
    },
    {
     "name": "stdout",
     "output_type": "stream",
     "text": [
      "Loop:  195\n"
     ]
    },
    {
     "name": "stderr",
     "output_type": "stream",
     "text": [
      "\u001b[2m\u001b[36m(RolloutWorker pid=1736)\u001b[0m C:\\Users\\nadir\\anaconda3\\envs\\GTRay2.4.0\\lib\\site-packages\\rtgym\\envs\\real_time_env.py:376: UserWarning: Time-step timed out. Elapsed since last time-step: 3.016514999944775\n",
      "\u001b[2m\u001b[36m(RolloutWorker pid=1736)\u001b[0m   warnings.warn(f\"Time-step timed out. Elapsed since last time-step: {now - self.__t_end}\")\n"
     ]
    },
    {
     "name": "stdout",
     "output_type": "stream",
     "text": [
      "\u001b[2m\u001b[36m(RolloutWorker pid=1736)\u001b[0m reset triggered\n",
      "\u001b[2m\u001b[36m(RolloutWorker pid=1736)\u001b[0m reload save for track : 72\n"
     ]
    },
    {
     "name": "stderr",
     "output_type": "stream",
     "text": [
      "\u001b[2m\u001b[36m(RolloutWorker pid=1736)\u001b[0m C:\\Users\\nadir\\anaconda3\\envs\\GTRay2.4.0\\lib\\site-packages\\rtgym\\envs\\real_time_env.py:376: UserWarning: Time-step timed out. Elapsed since last time-step: 0.13263579998510977\n",
      "\u001b[2m\u001b[36m(RolloutWorker pid=1736)\u001b[0m   warnings.warn(f\"Time-step timed out. Elapsed since last time-step: {now - self.__t_end}\")\n"
     ]
    },
    {
     "name": "stdout",
     "output_type": "stream",
     "text": [
      "Loop:  196\n"
     ]
    },
    {
     "name": "stderr",
     "output_type": "stream",
     "text": [
      "\u001b[2m\u001b[36m(RolloutWorker pid=1736)\u001b[0m C:\\Users\\nadir\\anaconda3\\envs\\GTRay2.4.0\\lib\\site-packages\\rtgym\\envs\\real_time_env.py:376: UserWarning: Time-step timed out. Elapsed since last time-step: 3.064401399945382\n",
      "\u001b[2m\u001b[36m(RolloutWorker pid=1736)\u001b[0m   warnings.warn(f\"Time-step timed out. Elapsed since last time-step: {now - self.__t_end}\")\n"
     ]
    },
    {
     "name": "stdout",
     "output_type": "stream",
     "text": [
      "\u001b[2m\u001b[36m(RolloutWorker pid=1736)\u001b[0m reset triggered\n",
      "\u001b[2m\u001b[36m(RolloutWorker pid=1736)\u001b[0m reload save for track : 72\n"
     ]
    },
    {
     "name": "stderr",
     "output_type": "stream",
     "text": [
      "\u001b[2m\u001b[36m(RolloutWorker pid=1736)\u001b[0m C:\\Users\\nadir\\anaconda3\\envs\\GTRay2.4.0\\lib\\site-packages\\rtgym\\envs\\real_time_env.py:376: UserWarning: Time-step timed out. Elapsed since last time-step: 0.13603389998479543\n",
      "\u001b[2m\u001b[36m(RolloutWorker pid=1736)\u001b[0m   warnings.warn(f\"Time-step timed out. Elapsed since last time-step: {now - self.__t_end}\")\n"
     ]
    },
    {
     "name": "stdout",
     "output_type": "stream",
     "text": [
      "Loop:  197\n"
     ]
    },
    {
     "name": "stderr",
     "output_type": "stream",
     "text": [
      "\u001b[2m\u001b[36m(RolloutWorker pid=1736)\u001b[0m C:\\Users\\nadir\\anaconda3\\envs\\GTRay2.4.0\\lib\\site-packages\\rtgym\\envs\\real_time_env.py:376: UserWarning: Time-step timed out. Elapsed since last time-step: 3.0512119999457354\n",
      "\u001b[2m\u001b[36m(RolloutWorker pid=1736)\u001b[0m   warnings.warn(f\"Time-step timed out. Elapsed since last time-step: {now - self.__t_end}\")\n"
     ]
    },
    {
     "name": "stdout",
     "output_type": "stream",
     "text": [
      "\u001b[2m\u001b[36m(RolloutWorker pid=1736)\u001b[0m reset triggered\n",
      "\u001b[2m\u001b[36m(RolloutWorker pid=1736)\u001b[0m reload save for track : 72\n"
     ]
    },
    {
     "name": "stderr",
     "output_type": "stream",
     "text": [
      "\u001b[2m\u001b[36m(RolloutWorker pid=1736)\u001b[0m C:\\Users\\nadir\\anaconda3\\envs\\GTRay2.4.0\\lib\\site-packages\\rtgym\\envs\\real_time_env.py:376: UserWarning: Time-step timed out. Elapsed since last time-step: 0.12527539998518478\n",
      "\u001b[2m\u001b[36m(RolloutWorker pid=1736)\u001b[0m   warnings.warn(f\"Time-step timed out. Elapsed since last time-step: {now - self.__t_end}\")\n"
     ]
    },
    {
     "name": "stdout",
     "output_type": "stream",
     "text": [
      "Loop:  198\n"
     ]
    },
    {
     "name": "stderr",
     "output_type": "stream",
     "text": [
      "\u001b[2m\u001b[36m(RolloutWorker pid=1736)\u001b[0m C:\\Users\\nadir\\anaconda3\\envs\\GTRay2.4.0\\lib\\site-packages\\rtgym\\envs\\real_time_env.py:376: UserWarning: Time-step timed out. Elapsed since last time-step: 3.069603899944923\n",
      "\u001b[2m\u001b[36m(RolloutWorker pid=1736)\u001b[0m   warnings.warn(f\"Time-step timed out. Elapsed since last time-step: {now - self.__t_end}\")\n"
     ]
    },
    {
     "name": "stdout",
     "output_type": "stream",
     "text": [
      "\u001b[2m\u001b[36m(RolloutWorker pid=1736)\u001b[0m reset triggered\n",
      "\u001b[2m\u001b[36m(RolloutWorker pid=1736)\u001b[0m reload save for track : 72\n"
     ]
    },
    {
     "name": "stderr",
     "output_type": "stream",
     "text": [
      "\u001b[2m\u001b[36m(RolloutWorker pid=1736)\u001b[0m C:\\Users\\nadir\\anaconda3\\envs\\GTRay2.4.0\\lib\\site-packages\\rtgym\\envs\\real_time_env.py:376: UserWarning: Time-step timed out. Elapsed since last time-step: 0.134524899985081\n",
      "\u001b[2m\u001b[36m(RolloutWorker pid=1736)\u001b[0m   warnings.warn(f\"Time-step timed out. Elapsed since last time-step: {now - self.__t_end}\")\n"
     ]
    },
    {
     "name": "stdout",
     "output_type": "stream",
     "text": [
      "Loop:  199\n"
     ]
    },
    {
     "name": "stderr",
     "output_type": "stream",
     "text": [
      "\u001b[2m\u001b[36m(RolloutWorker pid=1736)\u001b[0m C:\\Users\\nadir\\anaconda3\\envs\\GTRay2.4.0\\lib\\site-packages\\rtgym\\envs\\real_time_env.py:376: UserWarning: Time-step timed out. Elapsed since last time-step: 3.0682692999444043\n",
      "\u001b[2m\u001b[36m(RolloutWorker pid=1736)\u001b[0m   warnings.warn(f\"Time-step timed out. Elapsed since last time-step: {now - self.__t_end}\")\n"
     ]
    },
    {
     "name": "stdout",
     "output_type": "stream",
     "text": [
      "\u001b[2m\u001b[36m(RolloutWorker pid=1736)\u001b[0m reset triggered\n",
      "\u001b[2m\u001b[36m(RolloutWorker pid=1736)\u001b[0m reload save for track : 72\n"
     ]
    },
    {
     "name": "stderr",
     "output_type": "stream",
     "text": [
      "\u001b[2m\u001b[36m(RolloutWorker pid=1736)\u001b[0m C:\\Users\\nadir\\anaconda3\\envs\\GTRay2.4.0\\lib\\site-packages\\rtgym\\envs\\real_time_env.py:376: UserWarning: Time-step timed out. Elapsed since last time-step: 0.10126539998509543\n",
      "\u001b[2m\u001b[36m(RolloutWorker pid=1736)\u001b[0m   warnings.warn(f\"Time-step timed out. Elapsed since last time-step: {now - self.__t_end}\")\n"
     ]
    },
    {
     "name": "stdout",
     "output_type": "stream",
     "text": [
      "Loop:  200\n",
      "Saved 200\n"
     ]
    },
    {
     "name": "stderr",
     "output_type": "stream",
     "text": [
      "\u001b[2m\u001b[36m(RolloutWorker pid=1736)\u001b[0m C:\\Users\\nadir\\anaconda3\\envs\\GTRay2.4.0\\lib\\site-packages\\rtgym\\envs\\real_time_env.py:376: UserWarning: Time-step timed out. Elapsed since last time-step: 3.143903899945144\n",
      "\u001b[2m\u001b[36m(RolloutWorker pid=1736)\u001b[0m   warnings.warn(f\"Time-step timed out. Elapsed since last time-step: {now - self.__t_end}\")\n",
      "\u001b[2m\u001b[36m(RolloutWorker pid=1736)\u001b[0m C:\\Users\\nadir\\anaconda3\\envs\\GTRay2.4.0\\lib\\site-packages\\rtgym\\envs\\real_time_env.py:376: UserWarning: Time-step timed out. Elapsed since last time-step: 0.10570969998570945\n",
      "\u001b[2m\u001b[36m(RolloutWorker pid=1736)\u001b[0m   warnings.warn(f\"Time-step timed out. Elapsed since last time-step: {now - self.__t_end}\")\n"
     ]
    },
    {
     "name": "stdout",
     "output_type": "stream",
     "text": [
      "\u001b[2m\u001b[36m(RolloutWorker pid=1736)\u001b[0m reset triggered\n",
      "\u001b[2m\u001b[36m(RolloutWorker pid=1736)\u001b[0m reload save for track : 72\n",
      "Loop:  201\n"
     ]
    },
    {
     "name": "stderr",
     "output_type": "stream",
     "text": [
      "\u001b[2m\u001b[36m(RolloutWorker pid=1736)\u001b[0m C:\\Users\\nadir\\anaconda3\\envs\\GTRay2.4.0\\lib\\site-packages\\rtgym\\envs\\real_time_env.py:376: UserWarning: Time-step timed out. Elapsed since last time-step: 3.045119499945031\n",
      "\u001b[2m\u001b[36m(RolloutWorker pid=1736)\u001b[0m   warnings.warn(f\"Time-step timed out. Elapsed since last time-step: {now - self.__t_end}\")\n",
      "\u001b[2m\u001b[36m(RolloutWorker pid=1736)\u001b[0m C:\\Users\\nadir\\anaconda3\\envs\\GTRay2.4.0\\lib\\site-packages\\rtgym\\envs\\real_time_env.py:376: UserWarning: Time-step timed out. Elapsed since last time-step: 0.1315084999851024\n",
      "\u001b[2m\u001b[36m(RolloutWorker pid=1736)\u001b[0m   warnings.warn(f\"Time-step timed out. Elapsed since last time-step: {now - self.__t_end}\")\n"
     ]
    },
    {
     "name": "stdout",
     "output_type": "stream",
     "text": [
      "\u001b[2m\u001b[36m(RolloutWorker pid=1736)\u001b[0m reset triggered\n",
      "\u001b[2m\u001b[36m(RolloutWorker pid=1736)\u001b[0m reload save for track : 72\n",
      "Loop:  202\n"
     ]
    },
    {
     "name": "stderr",
     "output_type": "stream",
     "text": [
      "\u001b[2m\u001b[36m(RolloutWorker pid=1736)\u001b[0m C:\\Users\\nadir\\anaconda3\\envs\\GTRay2.4.0\\lib\\site-packages\\rtgym\\envs\\real_time_env.py:376: UserWarning: Time-step timed out. Elapsed since last time-step: 3.0344453999450707\n",
      "\u001b[2m\u001b[36m(RolloutWorker pid=1736)\u001b[0m   warnings.warn(f\"Time-step timed out. Elapsed since last time-step: {now - self.__t_end}\")\n"
     ]
    },
    {
     "name": "stdout",
     "output_type": "stream",
     "text": [
      "\u001b[2m\u001b[36m(RolloutWorker pid=1736)\u001b[0m reset triggered\n",
      "\u001b[2m\u001b[36m(RolloutWorker pid=1736)\u001b[0m reload save for track : 72\n"
     ]
    },
    {
     "name": "stderr",
     "output_type": "stream",
     "text": [
      "\u001b[2m\u001b[36m(RolloutWorker pid=1736)\u001b[0m C:\\Users\\nadir\\anaconda3\\envs\\GTRay2.4.0\\lib\\site-packages\\rtgym\\envs\\real_time_env.py:376: UserWarning: Time-step timed out. Elapsed since last time-step: 0.1298470999845449\n",
      "\u001b[2m\u001b[36m(RolloutWorker pid=1736)\u001b[0m   warnings.warn(f\"Time-step timed out. Elapsed since last time-step: {now - self.__t_end}\")\n"
     ]
    },
    {
     "name": "stdout",
     "output_type": "stream",
     "text": [
      "Loop:  203\n"
     ]
    },
    {
     "name": "stderr",
     "output_type": "stream",
     "text": [
      "\u001b[2m\u001b[36m(RolloutWorker pid=1736)\u001b[0m C:\\Users\\nadir\\anaconda3\\envs\\GTRay2.4.0\\lib\\site-packages\\rtgym\\envs\\real_time_env.py:376: UserWarning: Time-step timed out. Elapsed since last time-step: 3.056210999945506\n",
      "\u001b[2m\u001b[36m(RolloutWorker pid=1736)\u001b[0m   warnings.warn(f\"Time-step timed out. Elapsed since last time-step: {now - self.__t_end}\")\n"
     ]
    },
    {
     "name": "stdout",
     "output_type": "stream",
     "text": [
      "\u001b[2m\u001b[36m(RolloutWorker pid=1736)\u001b[0m reset triggered\n",
      "\u001b[2m\u001b[36m(RolloutWorker pid=1736)\u001b[0m reload save for track : 72\n"
     ]
    },
    {
     "name": "stderr",
     "output_type": "stream",
     "text": [
      "\u001b[2m\u001b[36m(RolloutWorker pid=1736)\u001b[0m C:\\Users\\nadir\\anaconda3\\envs\\GTRay2.4.0\\lib\\site-packages\\rtgym\\envs\\real_time_env.py:376: UserWarning: Time-step timed out. Elapsed since last time-step: 0.12367019998509932\n",
      "\u001b[2m\u001b[36m(RolloutWorker pid=1736)\u001b[0m   warnings.warn(f\"Time-step timed out. Elapsed since last time-step: {now - self.__t_end}\")\n"
     ]
    },
    {
     "name": "stdout",
     "output_type": "stream",
     "text": [
      "Loop:  204\n"
     ]
    },
    {
     "name": "stderr",
     "output_type": "stream",
     "text": [
      "\u001b[2m\u001b[36m(RolloutWorker pid=1736)\u001b[0m C:\\Users\\nadir\\anaconda3\\envs\\GTRay2.4.0\\lib\\site-packages\\rtgym\\envs\\real_time_env.py:376: UserWarning: Time-step timed out. Elapsed since last time-step: 2.875369399945157\n",
      "\u001b[2m\u001b[36m(RolloutWorker pid=1736)\u001b[0m   warnings.warn(f\"Time-step timed out. Elapsed since last time-step: {now - self.__t_end}\")\n"
     ]
    },
    {
     "name": "stdout",
     "output_type": "stream",
     "text": [
      "\u001b[2m\u001b[36m(RolloutWorker pid=1736)\u001b[0m reset triggered\n",
      "\u001b[2m\u001b[36m(RolloutWorker pid=1736)\u001b[0m reload save for track : 72\n"
     ]
    },
    {
     "name": "stderr",
     "output_type": "stream",
     "text": [
      "\u001b[2m\u001b[36m(RolloutWorker pid=1736)\u001b[0m C:\\Users\\nadir\\anaconda3\\envs\\GTRay2.4.0\\lib\\site-packages\\rtgym\\envs\\real_time_env.py:376: UserWarning: Time-step timed out. Elapsed since last time-step: 0.1346892999845295\n",
      "\u001b[2m\u001b[36m(RolloutWorker pid=1736)\u001b[0m   warnings.warn(f\"Time-step timed out. Elapsed since last time-step: {now - self.__t_end}\")\n",
      "\u001b[2m\u001b[36m(RolloutWorker pid=1736)\u001b[0m C:\\Users\\nadir\\anaconda3\\envs\\GTRay2.4.0\\lib\\site-packages\\rtgym\\envs\\real_time_env.py:376: UserWarning: Time-step timed out. Elapsed since last time-step: 0.052084899945839425\n",
      "\u001b[2m\u001b[36m(RolloutWorker pid=1736)\u001b[0m   warnings.warn(f\"Time-step timed out. Elapsed since last time-step: {now - self.__t_end}\")\n"
     ]
    },
    {
     "name": "stdout",
     "output_type": "stream",
     "text": [
      "Loop:  205\n"
     ]
    },
    {
     "name": "stderr",
     "output_type": "stream",
     "text": [
      "\u001b[2m\u001b[36m(RolloutWorker pid=1736)\u001b[0m C:\\Users\\nadir\\anaconda3\\envs\\GTRay2.4.0\\lib\\site-packages\\rtgym\\envs\\real_time_env.py:376: UserWarning: Time-step timed out. Elapsed since last time-step: 3.0355956999992486\n",
      "\u001b[2m\u001b[36m(RolloutWorker pid=1736)\u001b[0m   warnings.warn(f\"Time-step timed out. Elapsed since last time-step: {now - self.__t_end}\")\n"
     ]
    },
    {
     "name": "stdout",
     "output_type": "stream",
     "text": [
      "\u001b[2m\u001b[36m(RolloutWorker pid=1736)\u001b[0m reset triggered\n",
      "\u001b[2m\u001b[36m(RolloutWorker pid=1736)\u001b[0m reload save for track : 72\n"
     ]
    },
    {
     "name": "stderr",
     "output_type": "stream",
     "text": [
      "\u001b[2m\u001b[36m(RolloutWorker pid=1736)\u001b[0m C:\\Users\\nadir\\anaconda3\\envs\\GTRay2.4.0\\lib\\site-packages\\rtgym\\envs\\real_time_env.py:376: UserWarning: Time-step timed out. Elapsed since last time-step: 0.12198949998492026\n",
      "\u001b[2m\u001b[36m(RolloutWorker pid=1736)\u001b[0m   warnings.warn(f\"Time-step timed out. Elapsed since last time-step: {now - self.__t_end}\")\n"
     ]
    },
    {
     "name": "stdout",
     "output_type": "stream",
     "text": [
      "Loop:  206\n"
     ]
    },
    {
     "name": "stderr",
     "output_type": "stream",
     "text": [
      "\u001b[2m\u001b[36m(RolloutWorker pid=1736)\u001b[0m C:\\Users\\nadir\\anaconda3\\envs\\GTRay2.4.0\\lib\\site-packages\\rtgym\\envs\\real_time_env.py:376: UserWarning: Time-step timed out. Elapsed since last time-step: 3.0614198999455766\n",
      "\u001b[2m\u001b[36m(RolloutWorker pid=1736)\u001b[0m   warnings.warn(f\"Time-step timed out. Elapsed since last time-step: {now - self.__t_end}\")\n"
     ]
    },
    {
     "name": "stdout",
     "output_type": "stream",
     "text": [
      "\u001b[2m\u001b[36m(RolloutWorker pid=1736)\u001b[0m reset triggered\n",
      "\u001b[2m\u001b[36m(RolloutWorker pid=1736)\u001b[0m reload save for track : 72\n"
     ]
    },
    {
     "name": "stderr",
     "output_type": "stream",
     "text": [
      "\u001b[2m\u001b[36m(RolloutWorker pid=1736)\u001b[0m C:\\Users\\nadir\\anaconda3\\envs\\GTRay2.4.0\\lib\\site-packages\\rtgym\\envs\\real_time_env.py:376: UserWarning: Time-step timed out. Elapsed since last time-step: 0.11898559998462588\n",
      "\u001b[2m\u001b[36m(RolloutWorker pid=1736)\u001b[0m   warnings.warn(f\"Time-step timed out. Elapsed since last time-step: {now - self.__t_end}\")\n"
     ]
    },
    {
     "name": "stdout",
     "output_type": "stream",
     "text": [
      "Loop:  207\n"
     ]
    },
    {
     "name": "stderr",
     "output_type": "stream",
     "text": [
      "\u001b[2m\u001b[36m(RolloutWorker pid=1736)\u001b[0m C:\\Users\\nadir\\anaconda3\\envs\\GTRay2.4.0\\lib\\site-packages\\rtgym\\envs\\real_time_env.py:376: UserWarning: Time-step timed out. Elapsed since last time-step: 3.0769557999456083\n",
      "\u001b[2m\u001b[36m(RolloutWorker pid=1736)\u001b[0m   warnings.warn(f\"Time-step timed out. Elapsed since last time-step: {now - self.__t_end}\")\n"
     ]
    },
    {
     "name": "stdout",
     "output_type": "stream",
     "text": [
      "\u001b[2m\u001b[36m(RolloutWorker pid=1736)\u001b[0m reset triggered\n",
      "\u001b[2m\u001b[36m(RolloutWorker pid=1736)\u001b[0m reload save for track : 72\n"
     ]
    },
    {
     "name": "stderr",
     "output_type": "stream",
     "text": [
      "\u001b[2m\u001b[36m(RolloutWorker pid=1736)\u001b[0m C:\\Users\\nadir\\anaconda3\\envs\\GTRay2.4.0\\lib\\site-packages\\rtgym\\envs\\real_time_env.py:376: UserWarning: Time-step timed out. Elapsed since last time-step: 0.14251419998527126\n",
      "\u001b[2m\u001b[36m(RolloutWorker pid=1736)\u001b[0m   warnings.warn(f\"Time-step timed out. Elapsed since last time-step: {now - self.__t_end}\")\n"
     ]
    },
    {
     "name": "stdout",
     "output_type": "stream",
     "text": [
      "Loop:  208\n"
     ]
    },
    {
     "name": "stderr",
     "output_type": "stream",
     "text": [
      "\u001b[2m\u001b[36m(RolloutWorker pid=1736)\u001b[0m C:\\Users\\nadir\\anaconda3\\envs\\GTRay2.4.0\\lib\\site-packages\\rtgym\\envs\\real_time_env.py:376: UserWarning: Time-step timed out. Elapsed since last time-step: 3.0565660999445754\n",
      "\u001b[2m\u001b[36m(RolloutWorker pid=1736)\u001b[0m   warnings.warn(f\"Time-step timed out. Elapsed since last time-step: {now - self.__t_end}\")\n"
     ]
    },
    {
     "name": "stdout",
     "output_type": "stream",
     "text": [
      "\u001b[2m\u001b[36m(RolloutWorker pid=1736)\u001b[0m reset triggered\n",
      "\u001b[2m\u001b[36m(RolloutWorker pid=1736)\u001b[0m reload save for track : 72\n"
     ]
    },
    {
     "name": "stderr",
     "output_type": "stream",
     "text": [
      "\u001b[2m\u001b[36m(RolloutWorker pid=1736)\u001b[0m C:\\Users\\nadir\\anaconda3\\envs\\GTRay2.4.0\\lib\\site-packages\\rtgym\\envs\\real_time_env.py:376: UserWarning: Time-step timed out. Elapsed since last time-step: 0.12430909998511197\n",
      "\u001b[2m\u001b[36m(RolloutWorker pid=1736)\u001b[0m   warnings.warn(f\"Time-step timed out. Elapsed since last time-step: {now - self.__t_end}\")\n"
     ]
    },
    {
     "name": "stdout",
     "output_type": "stream",
     "text": [
      "Loop:  209\n"
     ]
    },
    {
     "name": "stderr",
     "output_type": "stream",
     "text": [
      "\u001b[2m\u001b[36m(RolloutWorker pid=1736)\u001b[0m C:\\Users\\nadir\\anaconda3\\envs\\GTRay2.4.0\\lib\\site-packages\\rtgym\\envs\\real_time_env.py:376: UserWarning: Time-step timed out. Elapsed since last time-step: 3.0526711999455074\n",
      "\u001b[2m\u001b[36m(RolloutWorker pid=1736)\u001b[0m   warnings.warn(f\"Time-step timed out. Elapsed since last time-step: {now - self.__t_end}\")\n"
     ]
    },
    {
     "name": "stdout",
     "output_type": "stream",
     "text": [
      "\u001b[2m\u001b[36m(RolloutWorker pid=1736)\u001b[0m reset triggered\n",
      "\u001b[2m\u001b[36m(RolloutWorker pid=1736)\u001b[0m reload save for track : 72\n"
     ]
    },
    {
     "name": "stderr",
     "output_type": "stream",
     "text": [
      "\u001b[2m\u001b[36m(RolloutWorker pid=1736)\u001b[0m C:\\Users\\nadir\\anaconda3\\envs\\GTRay2.4.0\\lib\\site-packages\\rtgym\\envs\\real_time_env.py:376: UserWarning: Time-step timed out. Elapsed since last time-step: 0.13703149998491426\n",
      "\u001b[2m\u001b[36m(RolloutWorker pid=1736)\u001b[0m   warnings.warn(f\"Time-step timed out. Elapsed since last time-step: {now - self.__t_end}\")\n"
     ]
    },
    {
     "name": "stdout",
     "output_type": "stream",
     "text": [
      "Loop:  210\n",
      "Saved 210\n"
     ]
    },
    {
     "name": "stderr",
     "output_type": "stream",
     "text": [
      "\u001b[2m\u001b[36m(RolloutWorker pid=1736)\u001b[0m C:\\Users\\nadir\\anaconda3\\envs\\GTRay2.4.0\\lib\\site-packages\\rtgym\\envs\\real_time_env.py:376: UserWarning: Time-step timed out. Elapsed since last time-step: 3.1212929999446715\n",
      "\u001b[2m\u001b[36m(RolloutWorker pid=1736)\u001b[0m   warnings.warn(f\"Time-step timed out. Elapsed since last time-step: {now - self.__t_end}\")\n",
      "\u001b[2m\u001b[36m(RolloutWorker pid=1736)\u001b[0m C:\\Users\\nadir\\anaconda3\\envs\\GTRay2.4.0\\lib\\site-packages\\rtgym\\envs\\real_time_env.py:376: UserWarning: Time-step timed out. Elapsed since last time-step: 0.1294862999848192\n",
      "\u001b[2m\u001b[36m(RolloutWorker pid=1736)\u001b[0m   warnings.warn(f\"Time-step timed out. Elapsed since last time-step: {now - self.__t_end}\")\n"
     ]
    },
    {
     "name": "stdout",
     "output_type": "stream",
     "text": [
      "\u001b[2m\u001b[36m(RolloutWorker pid=1736)\u001b[0m reset triggered\n",
      "\u001b[2m\u001b[36m(RolloutWorker pid=1736)\u001b[0m reload save for track : 72\n",
      "Loop:  211\n"
     ]
    },
    {
     "name": "stderr",
     "output_type": "stream",
     "text": [
      "\u001b[2m\u001b[36m(RolloutWorker pid=1736)\u001b[0m C:\\Users\\nadir\\anaconda3\\envs\\GTRay2.4.0\\lib\\site-packages\\rtgym\\envs\\real_time_env.py:376: UserWarning: Time-step timed out. Elapsed since last time-step: 2.994247699945845\n",
      "\u001b[2m\u001b[36m(RolloutWorker pid=1736)\u001b[0m   warnings.warn(f\"Time-step timed out. Elapsed since last time-step: {now - self.__t_end}\")\n"
     ]
    },
    {
     "name": "stdout",
     "output_type": "stream",
     "text": [
      "\u001b[2m\u001b[36m(RolloutWorker pid=1736)\u001b[0m reset triggered\n",
      "\u001b[2m\u001b[36m(RolloutWorker pid=1736)\u001b[0m reload save for track : 72\n"
     ]
    },
    {
     "name": "stderr",
     "output_type": "stream",
     "text": [
      "\u001b[2m\u001b[36m(RolloutWorker pid=1736)\u001b[0m C:\\Users\\nadir\\anaconda3\\envs\\GTRay2.4.0\\lib\\site-packages\\rtgym\\envs\\real_time_env.py:376: UserWarning: Time-step timed out. Elapsed since last time-step: 0.1253858999843942\n",
      "\u001b[2m\u001b[36m(RolloutWorker pid=1736)\u001b[0m   warnings.warn(f\"Time-step timed out. Elapsed since last time-step: {now - self.__t_end}\")\n"
     ]
    },
    {
     "name": "stdout",
     "output_type": "stream",
     "text": [
      "Loop:  212\n"
     ]
    },
    {
     "name": "stderr",
     "output_type": "stream",
     "text": [
      "\u001b[2m\u001b[36m(RolloutWorker pid=1736)\u001b[0m C:\\Users\\nadir\\anaconda3\\envs\\GTRay2.4.0\\lib\\site-packages\\rtgym\\envs\\real_time_env.py:376: UserWarning: Time-step timed out. Elapsed since last time-step: 3.094707799945354\n",
      "\u001b[2m\u001b[36m(RolloutWorker pid=1736)\u001b[0m   warnings.warn(f\"Time-step timed out. Elapsed since last time-step: {now - self.__t_end}\")\n"
     ]
    },
    {
     "name": "stdout",
     "output_type": "stream",
     "text": [
      "\u001b[2m\u001b[36m(RolloutWorker pid=1736)\u001b[0m reset triggered\n",
      "\u001b[2m\u001b[36m(RolloutWorker pid=1736)\u001b[0m reload save for track : 72\n"
     ]
    },
    {
     "name": "stderr",
     "output_type": "stream",
     "text": [
      "\u001b[2m\u001b[36m(RolloutWorker pid=1736)\u001b[0m C:\\Users\\nadir\\anaconda3\\envs\\GTRay2.4.0\\lib\\site-packages\\rtgym\\envs\\real_time_env.py:376: UserWarning: Time-step timed out. Elapsed since last time-step: 0.12128889998530212\n",
      "\u001b[2m\u001b[36m(RolloutWorker pid=1736)\u001b[0m   warnings.warn(f\"Time-step timed out. Elapsed since last time-step: {now - self.__t_end}\")\n",
      "\u001b[2m\u001b[36m(RolloutWorker pid=1736)\u001b[0m C:\\Users\\nadir\\anaconda3\\envs\\GTRay2.4.0\\lib\\site-packages\\rtgym\\envs\\real_time_env.py:376: UserWarning: Time-step timed out. Elapsed since last time-step: 0.13132079996648827\n",
      "\u001b[2m\u001b[36m(RolloutWorker pid=1736)\u001b[0m   warnings.warn(f\"Time-step timed out. Elapsed since last time-step: {now - self.__t_end}\")\n"
     ]
    },
    {
     "name": "stdout",
     "output_type": "stream",
     "text": [
      "Loop:  213\n"
     ]
    },
    {
     "name": "stderr",
     "output_type": "stream",
     "text": [
      "\u001b[2m\u001b[36m(RolloutWorker pid=1736)\u001b[0m C:\\Users\\nadir\\anaconda3\\envs\\GTRay2.4.0\\lib\\site-packages\\rtgym\\envs\\real_time_env.py:376: UserWarning: Time-step timed out. Elapsed since last time-step: 2.926925499978097\n",
      "\u001b[2m\u001b[36m(RolloutWorker pid=1736)\u001b[0m   warnings.warn(f\"Time-step timed out. Elapsed since last time-step: {now - self.__t_end}\")\n"
     ]
    },
    {
     "name": "stdout",
     "output_type": "stream",
     "text": [
      "\u001b[2m\u001b[36m(RolloutWorker pid=1736)\u001b[0m reset triggered\n",
      "\u001b[2m\u001b[36m(RolloutWorker pid=1736)\u001b[0m reload save for track : 72\n"
     ]
    },
    {
     "name": "stderr",
     "output_type": "stream",
     "text": [
      "\u001b[2m\u001b[36m(RolloutWorker pid=1736)\u001b[0m C:\\Users\\nadir\\anaconda3\\envs\\GTRay2.4.0\\lib\\site-packages\\rtgym\\envs\\real_time_env.py:376: UserWarning: Time-step timed out. Elapsed since last time-step: 0.10526479998497962\n",
      "\u001b[2m\u001b[36m(RolloutWorker pid=1736)\u001b[0m   warnings.warn(f\"Time-step timed out. Elapsed since last time-step: {now - self.__t_end}\")\n"
     ]
    },
    {
     "name": "stdout",
     "output_type": "stream",
     "text": [
      "Loop:  214\n"
     ]
    },
    {
     "name": "stderr",
     "output_type": "stream",
     "text": [
      "\u001b[2m\u001b[36m(RolloutWorker pid=1736)\u001b[0m C:\\Users\\nadir\\anaconda3\\envs\\GTRay2.4.0\\lib\\site-packages\\rtgym\\envs\\real_time_env.py:376: UserWarning: Time-step timed out. Elapsed since last time-step: 3.070026599945777\n",
      "\u001b[2m\u001b[36m(RolloutWorker pid=1736)\u001b[0m   warnings.warn(f\"Time-step timed out. Elapsed since last time-step: {now - self.__t_end}\")\n"
     ]
    },
    {
     "name": "stdout",
     "output_type": "stream",
     "text": [
      "\u001b[2m\u001b[36m(RolloutWorker pid=1736)\u001b[0m reset triggered\n",
      "\u001b[2m\u001b[36m(RolloutWorker pid=1736)\u001b[0m reload save for track : 72\n"
     ]
    },
    {
     "name": "stderr",
     "output_type": "stream",
     "text": [
      "\u001b[2m\u001b[36m(RolloutWorker pid=1736)\u001b[0m C:\\Users\\nadir\\anaconda3\\envs\\GTRay2.4.0\\lib\\site-packages\\rtgym\\envs\\real_time_env.py:376: UserWarning: Time-step timed out. Elapsed since last time-step: 0.15036659998440882\n",
      "\u001b[2m\u001b[36m(RolloutWorker pid=1736)\u001b[0m   warnings.warn(f\"Time-step timed out. Elapsed since last time-step: {now - self.__t_end}\")\n"
     ]
    },
    {
     "name": "stdout",
     "output_type": "stream",
     "text": [
      "Loop:  215\n"
     ]
    },
    {
     "name": "stderr",
     "output_type": "stream",
     "text": [
      "\u001b[2m\u001b[36m(RolloutWorker pid=1736)\u001b[0m C:\\Users\\nadir\\anaconda3\\envs\\GTRay2.4.0\\lib\\site-packages\\rtgym\\envs\\real_time_env.py:376: UserWarning: Time-step timed out. Elapsed since last time-step: 3.0693070999450356\n",
      "\u001b[2m\u001b[36m(RolloutWorker pid=1736)\u001b[0m   warnings.warn(f\"Time-step timed out. Elapsed since last time-step: {now - self.__t_end}\")\n"
     ]
    },
    {
     "name": "stdout",
     "output_type": "stream",
     "text": [
      "\u001b[2m\u001b[36m(RolloutWorker pid=1736)\u001b[0m reset triggered\n",
      "\u001b[2m\u001b[36m(RolloutWorker pid=1736)\u001b[0m reload save for track : 72\n"
     ]
    },
    {
     "name": "stderr",
     "output_type": "stream",
     "text": [
      "\u001b[2m\u001b[36m(RolloutWorker pid=1736)\u001b[0m C:\\Users\\nadir\\anaconda3\\envs\\GTRay2.4.0\\lib\\site-packages\\rtgym\\envs\\real_time_env.py:376: UserWarning: Time-step timed out. Elapsed since last time-step: 0.13628559998505807\n",
      "\u001b[2m\u001b[36m(RolloutWorker pid=1736)\u001b[0m   warnings.warn(f\"Time-step timed out. Elapsed since last time-step: {now - self.__t_end}\")\n",
      "\u001b[2m\u001b[36m(RolloutWorker pid=1736)\u001b[0m C:\\Users\\nadir\\anaconda3\\envs\\GTRay2.4.0\\lib\\site-packages\\rtgym\\envs\\real_time_env.py:376: UserWarning: Time-step timed out. Elapsed since last time-step: 0.053290699946046516\n",
      "\u001b[2m\u001b[36m(RolloutWorker pid=1736)\u001b[0m   warnings.warn(f\"Time-step timed out. Elapsed since last time-step: {now - self.__t_end}\")\n"
     ]
    },
    {
     "name": "stdout",
     "output_type": "stream",
     "text": [
      "Loop:  216\n"
     ]
    },
    {
     "name": "stderr",
     "output_type": "stream",
     "text": [
      "\u001b[2m\u001b[36m(RolloutWorker pid=1736)\u001b[0m C:\\Users\\nadir\\anaconda3\\envs\\GTRay2.4.0\\lib\\site-packages\\rtgym\\envs\\real_time_env.py:376: UserWarning: Time-step timed out. Elapsed since last time-step: 2.988510999999562\n",
      "\u001b[2m\u001b[36m(RolloutWorker pid=1736)\u001b[0m   warnings.warn(f\"Time-step timed out. Elapsed since last time-step: {now - self.__t_end}\")\n"
     ]
    },
    {
     "name": "stdout",
     "output_type": "stream",
     "text": [
      "\u001b[2m\u001b[36m(RolloutWorker pid=1736)\u001b[0m reset triggered\n",
      "\u001b[2m\u001b[36m(RolloutWorker pid=1736)\u001b[0m reload save for track : 72\n"
     ]
    },
    {
     "name": "stderr",
     "output_type": "stream",
     "text": [
      "\u001b[2m\u001b[36m(RolloutWorker pid=1736)\u001b[0m C:\\Users\\nadir\\anaconda3\\envs\\GTRay2.4.0\\lib\\site-packages\\rtgym\\envs\\real_time_env.py:376: UserWarning: Time-step timed out. Elapsed since last time-step: 0.1324918999853253\n",
      "\u001b[2m\u001b[36m(RolloutWorker pid=1736)\u001b[0m   warnings.warn(f\"Time-step timed out. Elapsed since last time-step: {now - self.__t_end}\")\n"
     ]
    },
    {
     "name": "stdout",
     "output_type": "stream",
     "text": [
      "Loop:  217\n"
     ]
    },
    {
     "name": "stderr",
     "output_type": "stream",
     "text": [
      "\u001b[2m\u001b[36m(RolloutWorker pid=1736)\u001b[0m C:\\Users\\nadir\\anaconda3\\envs\\GTRay2.4.0\\lib\\site-packages\\rtgym\\envs\\real_time_env.py:376: UserWarning: Time-step timed out. Elapsed since last time-step: 3.062604799944893\n",
      "\u001b[2m\u001b[36m(RolloutWorker pid=1736)\u001b[0m   warnings.warn(f\"Time-step timed out. Elapsed since last time-step: {now - self.__t_end}\")\n"
     ]
    },
    {
     "name": "stdout",
     "output_type": "stream",
     "text": [
      "\u001b[2m\u001b[36m(RolloutWorker pid=1736)\u001b[0m reset triggered\n",
      "\u001b[2m\u001b[36m(RolloutWorker pid=1736)\u001b[0m reload save for track : 72\n"
     ]
    },
    {
     "name": "stderr",
     "output_type": "stream",
     "text": [
      "\u001b[2m\u001b[36m(RolloutWorker pid=1736)\u001b[0m C:\\Users\\nadir\\anaconda3\\envs\\GTRay2.4.0\\lib\\site-packages\\rtgym\\envs\\real_time_env.py:376: UserWarning: Time-step timed out. Elapsed since last time-step: 0.1273059999848556\n",
      "\u001b[2m\u001b[36m(RolloutWorker pid=1736)\u001b[0m   warnings.warn(f\"Time-step timed out. Elapsed since last time-step: {now - self.__t_end}\")\n"
     ]
    },
    {
     "name": "stdout",
     "output_type": "stream",
     "text": [
      "Loop:  218\n"
     ]
    },
    {
     "name": "stderr",
     "output_type": "stream",
     "text": [
      "\u001b[2m\u001b[36m(RolloutWorker pid=1736)\u001b[0m C:\\Users\\nadir\\anaconda3\\envs\\GTRay2.4.0\\lib\\site-packages\\rtgym\\envs\\real_time_env.py:376: UserWarning: Time-step timed out. Elapsed since last time-step: 3.067803099945195\n",
      "\u001b[2m\u001b[36m(RolloutWorker pid=1736)\u001b[0m   warnings.warn(f\"Time-step timed out. Elapsed since last time-step: {now - self.__t_end}\")\n",
      "\u001b[2m\u001b[36m(RolloutWorker pid=1736)\u001b[0m C:\\Users\\nadir\\anaconda3\\envs\\GTRay2.4.0\\lib\\site-packages\\rtgym\\envs\\real_time_env.py:376: UserWarning: Time-step timed out. Elapsed since last time-step: 0.10260029998516984\n",
      "\u001b[2m\u001b[36m(RolloutWorker pid=1736)\u001b[0m   warnings.warn(f\"Time-step timed out. Elapsed since last time-step: {now - self.__t_end}\")\n"
     ]
    },
    {
     "name": "stdout",
     "output_type": "stream",
     "text": [
      "\u001b[2m\u001b[36m(RolloutWorker pid=1736)\u001b[0m reset triggered\n",
      "\u001b[2m\u001b[36m(RolloutWorker pid=1736)\u001b[0m reload save for track : 72\n",
      "Loop:  219\n"
     ]
    },
    {
     "name": "stderr",
     "output_type": "stream",
     "text": [
      "\u001b[2m\u001b[36m(RolloutWorker pid=1736)\u001b[0m C:\\Users\\nadir\\anaconda3\\envs\\GTRay2.4.0\\lib\\site-packages\\rtgym\\envs\\real_time_env.py:376: UserWarning: Time-step timed out. Elapsed since last time-step: 3.0462238999452893\n",
      "\u001b[2m\u001b[36m(RolloutWorker pid=1736)\u001b[0m   warnings.warn(f\"Time-step timed out. Elapsed since last time-step: {now - self.__t_end}\")\n"
     ]
    },
    {
     "name": "stdout",
     "output_type": "stream",
     "text": [
      "\u001b[2m\u001b[36m(RolloutWorker pid=1736)\u001b[0m reset triggered\n",
      "\u001b[2m\u001b[36m(RolloutWorker pid=1736)\u001b[0m reload save for track : 72\n"
     ]
    },
    {
     "name": "stderr",
     "output_type": "stream",
     "text": [
      "\u001b[2m\u001b[36m(RolloutWorker pid=1736)\u001b[0m C:\\Users\\nadir\\anaconda3\\envs\\GTRay2.4.0\\lib\\site-packages\\rtgym\\envs\\real_time_env.py:376: UserWarning: Time-step timed out. Elapsed since last time-step: 0.13993909998498566\n",
      "\u001b[2m\u001b[36m(RolloutWorker pid=1736)\u001b[0m   warnings.warn(f\"Time-step timed out. Elapsed since last time-step: {now - self.__t_end}\")\n"
     ]
    },
    {
     "name": "stdout",
     "output_type": "stream",
     "text": [
      "Loop:  220\n",
      "Saved 220\n"
     ]
    },
    {
     "name": "stderr",
     "output_type": "stream",
     "text": [
      "\u001b[2m\u001b[36m(RolloutWorker pid=1736)\u001b[0m C:\\Users\\nadir\\anaconda3\\envs\\GTRay2.4.0\\lib\\site-packages\\rtgym\\envs\\real_time_env.py:376: UserWarning: Time-step timed out. Elapsed since last time-step: 3.1510925999446044\n",
      "\u001b[2m\u001b[36m(RolloutWorker pid=1736)\u001b[0m   warnings.warn(f\"Time-step timed out. Elapsed since last time-step: {now - self.__t_end}\")\n"
     ]
    },
    {
     "name": "stdout",
     "output_type": "stream",
     "text": [
      "\u001b[2m\u001b[36m(RolloutWorker pid=1736)\u001b[0m reset triggered\n",
      "\u001b[2m\u001b[36m(RolloutWorker pid=1736)\u001b[0m reload save for track : 72\n"
     ]
    },
    {
     "name": "stderr",
     "output_type": "stream",
     "text": [
      "\u001b[2m\u001b[36m(RolloutWorker pid=1736)\u001b[0m C:\\Users\\nadir\\anaconda3\\envs\\GTRay2.4.0\\lib\\site-packages\\rtgym\\envs\\real_time_env.py:376: UserWarning: Time-step timed out. Elapsed since last time-step: 0.13884429998506675\n",
      "\u001b[2m\u001b[36m(RolloutWorker pid=1736)\u001b[0m   warnings.warn(f\"Time-step timed out. Elapsed since last time-step: {now - self.__t_end}\")\n"
     ]
    },
    {
     "name": "stdout",
     "output_type": "stream",
     "text": [
      "Loop:  221\n"
     ]
    },
    {
     "name": "stderr",
     "output_type": "stream",
     "text": [
      "\u001b[2m\u001b[36m(RolloutWorker pid=1736)\u001b[0m C:\\Users\\nadir\\anaconda3\\envs\\GTRay2.4.0\\lib\\site-packages\\rtgym\\envs\\real_time_env.py:376: UserWarning: Time-step timed out. Elapsed since last time-step: 3.0202582999454535\n",
      "\u001b[2m\u001b[36m(RolloutWorker pid=1736)\u001b[0m   warnings.warn(f\"Time-step timed out. Elapsed since last time-step: {now - self.__t_end}\")\n",
      "\u001b[2m\u001b[36m(RolloutWorker pid=1736)\u001b[0m C:\\Users\\nadir\\anaconda3\\envs\\GTRay2.4.0\\lib\\site-packages\\rtgym\\envs\\real_time_env.py:376: UserWarning: Time-step timed out. Elapsed since last time-step: 0.10469949998514494\n",
      "\u001b[2m\u001b[36m(RolloutWorker pid=1736)\u001b[0m   warnings.warn(f\"Time-step timed out. Elapsed since last time-step: {now - self.__t_end}\")\n"
     ]
    },
    {
     "name": "stdout",
     "output_type": "stream",
     "text": [
      "\u001b[2m\u001b[36m(RolloutWorker pid=1736)\u001b[0m reset triggered\n",
      "\u001b[2m\u001b[36m(RolloutWorker pid=1736)\u001b[0m reload save for track : 72\n",
      "Loop:  222\n"
     ]
    },
    {
     "name": "stderr",
     "output_type": "stream",
     "text": [
      "\u001b[2m\u001b[36m(RolloutWorker pid=1736)\u001b[0m C:\\Users\\nadir\\anaconda3\\envs\\GTRay2.4.0\\lib\\site-packages\\rtgym\\envs\\real_time_env.py:376: UserWarning: Time-step timed out. Elapsed since last time-step: 3.0905561999452402\n",
      "\u001b[2m\u001b[36m(RolloutWorker pid=1736)\u001b[0m   warnings.warn(f\"Time-step timed out. Elapsed since last time-step: {now - self.__t_end}\")\n"
     ]
    },
    {
     "name": "stdout",
     "output_type": "stream",
     "text": [
      "\u001b[2m\u001b[36m(RolloutWorker pid=1736)\u001b[0m reset triggered\n",
      "\u001b[2m\u001b[36m(RolloutWorker pid=1736)\u001b[0m reload save for track : 72\n"
     ]
    },
    {
     "name": "stderr",
     "output_type": "stream",
     "text": [
      "\u001b[2m\u001b[36m(RolloutWorker pid=1736)\u001b[0m C:\\Users\\nadir\\anaconda3\\envs\\GTRay2.4.0\\lib\\site-packages\\rtgym\\envs\\real_time_env.py:376: UserWarning: Time-step timed out. Elapsed since last time-step: 0.12082909998480318\n",
      "\u001b[2m\u001b[36m(RolloutWorker pid=1736)\u001b[0m   warnings.warn(f\"Time-step timed out. Elapsed since last time-step: {now - self.__t_end}\")\n"
     ]
    },
    {
     "name": "stdout",
     "output_type": "stream",
     "text": [
      "Loop:  223\n"
     ]
    },
    {
     "name": "stderr",
     "output_type": "stream",
     "text": [
      "\u001b[2m\u001b[36m(RolloutWorker pid=1736)\u001b[0m C:\\Users\\nadir\\anaconda3\\envs\\GTRay2.4.0\\lib\\site-packages\\rtgym\\envs\\real_time_env.py:376: UserWarning: Time-step timed out. Elapsed since last time-step: 3.0536502999448203\n",
      "\u001b[2m\u001b[36m(RolloutWorker pid=1736)\u001b[0m   warnings.warn(f\"Time-step timed out. Elapsed since last time-step: {now - self.__t_end}\")\n"
     ]
    },
    {
     "name": "stdout",
     "output_type": "stream",
     "text": [
      "\u001b[2m\u001b[36m(RolloutWorker pid=1736)\u001b[0m reset triggered\n",
      "\u001b[2m\u001b[36m(RolloutWorker pid=1736)\u001b[0m reload save for track : 72\n"
     ]
    },
    {
     "name": "stderr",
     "output_type": "stream",
     "text": [
      "\u001b[2m\u001b[36m(RolloutWorker pid=1736)\u001b[0m C:\\Users\\nadir\\anaconda3\\envs\\GTRay2.4.0\\lib\\site-packages\\rtgym\\envs\\real_time_env.py:376: UserWarning: Time-step timed out. Elapsed since last time-step: 0.12035079998531728\n",
      "\u001b[2m\u001b[36m(RolloutWorker pid=1736)\u001b[0m   warnings.warn(f\"Time-step timed out. Elapsed since last time-step: {now - self.__t_end}\")\n"
     ]
    },
    {
     "name": "stdout",
     "output_type": "stream",
     "text": [
      "Loop:  224\n"
     ]
    },
    {
     "name": "stderr",
     "output_type": "stream",
     "text": [
      "\u001b[2m\u001b[36m(RolloutWorker pid=1736)\u001b[0m C:\\Users\\nadir\\anaconda3\\envs\\GTRay2.4.0\\lib\\site-packages\\rtgym\\envs\\real_time_env.py:376: UserWarning: Time-step timed out. Elapsed since last time-step: 3.049420099944655\n",
      "\u001b[2m\u001b[36m(RolloutWorker pid=1736)\u001b[0m   warnings.warn(f\"Time-step timed out. Elapsed since last time-step: {now - self.__t_end}\")\n"
     ]
    },
    {
     "name": "stdout",
     "output_type": "stream",
     "text": [
      "\u001b[2m\u001b[36m(RolloutWorker pid=1736)\u001b[0m reset triggered\n",
      "\u001b[2m\u001b[36m(RolloutWorker pid=1736)\u001b[0m reload save for track : 72\n"
     ]
    },
    {
     "name": "stderr",
     "output_type": "stream",
     "text": [
      "\u001b[2m\u001b[36m(RolloutWorker pid=1736)\u001b[0m C:\\Users\\nadir\\anaconda3\\envs\\GTRay2.4.0\\lib\\site-packages\\rtgym\\envs\\real_time_env.py:376: UserWarning: Time-step timed out. Elapsed since last time-step: 0.13538449998577562\n",
      "\u001b[2m\u001b[36m(RolloutWorker pid=1736)\u001b[0m   warnings.warn(f\"Time-step timed out. Elapsed since last time-step: {now - self.__t_end}\")\n"
     ]
    },
    {
     "name": "stdout",
     "output_type": "stream",
     "text": [
      "Loop:  225\n"
     ]
    },
    {
     "name": "stderr",
     "output_type": "stream",
     "text": [
      "\u001b[2m\u001b[36m(RolloutWorker pid=1736)\u001b[0m C:\\Users\\nadir\\anaconda3\\envs\\GTRay2.4.0\\lib\\site-packages\\rtgym\\envs\\real_time_env.py:376: UserWarning: Time-step timed out. Elapsed since last time-step: 3.090351399944666\n",
      "\u001b[2m\u001b[36m(RolloutWorker pid=1736)\u001b[0m   warnings.warn(f\"Time-step timed out. Elapsed since last time-step: {now - self.__t_end}\")\n"
     ]
    },
    {
     "name": "stdout",
     "output_type": "stream",
     "text": [
      "\u001b[2m\u001b[36m(RolloutWorker pid=1736)\u001b[0m reset triggered\n",
      "\u001b[2m\u001b[36m(RolloutWorker pid=1736)\u001b[0m reload save for track : 72\n"
     ]
    },
    {
     "name": "stderr",
     "output_type": "stream",
     "text": [
      "\u001b[2m\u001b[36m(RolloutWorker pid=1736)\u001b[0m C:\\Users\\nadir\\anaconda3\\envs\\GTRay2.4.0\\lib\\site-packages\\rtgym\\envs\\real_time_env.py:376: UserWarning: Time-step timed out. Elapsed since last time-step: 0.13435729998491297\n",
      "\u001b[2m\u001b[36m(RolloutWorker pid=1736)\u001b[0m   warnings.warn(f\"Time-step timed out. Elapsed since last time-step: {now - self.__t_end}\")\n"
     ]
    },
    {
     "name": "stdout",
     "output_type": "stream",
     "text": [
      "Loop:  226\n"
     ]
    },
    {
     "name": "stderr",
     "output_type": "stream",
     "text": [
      "\u001b[2m\u001b[36m(RolloutWorker pid=1736)\u001b[0m C:\\Users\\nadir\\anaconda3\\envs\\GTRay2.4.0\\lib\\site-packages\\rtgym\\envs\\real_time_env.py:376: UserWarning: Time-step timed out. Elapsed since last time-step: 3.0608260999451886\n",
      "\u001b[2m\u001b[36m(RolloutWorker pid=1736)\u001b[0m   warnings.warn(f\"Time-step timed out. Elapsed since last time-step: {now - self.__t_end}\")\n"
     ]
    },
    {
     "name": "stdout",
     "output_type": "stream",
     "text": [
      "\u001b[2m\u001b[36m(RolloutWorker pid=1736)\u001b[0m reset triggered\n",
      "\u001b[2m\u001b[36m(RolloutWorker pid=1736)\u001b[0m reload save for track : 72\n"
     ]
    },
    {
     "name": "stderr",
     "output_type": "stream",
     "text": [
      "\u001b[2m\u001b[36m(RolloutWorker pid=1736)\u001b[0m C:\\Users\\nadir\\anaconda3\\envs\\GTRay2.4.0\\lib\\site-packages\\rtgym\\envs\\real_time_env.py:376: UserWarning: Time-step timed out. Elapsed since last time-step: 0.13180189998547576\n",
      "\u001b[2m\u001b[36m(RolloutWorker pid=1736)\u001b[0m   warnings.warn(f\"Time-step timed out. Elapsed since last time-step: {now - self.__t_end}\")\n"
     ]
    },
    {
     "name": "stdout",
     "output_type": "stream",
     "text": [
      "Loop:  227\n"
     ]
    },
    {
     "name": "stderr",
     "output_type": "stream",
     "text": [
      "\u001b[2m\u001b[36m(RolloutWorker pid=1736)\u001b[0m C:\\Users\\nadir\\anaconda3\\envs\\GTRay2.4.0\\lib\\site-packages\\rtgym\\envs\\real_time_env.py:376: UserWarning: Time-step timed out. Elapsed since last time-step: 3.0397183999448316\n",
      "\u001b[2m\u001b[36m(RolloutWorker pid=1736)\u001b[0m   warnings.warn(f\"Time-step timed out. Elapsed since last time-step: {now - self.__t_end}\")\n"
     ]
    },
    {
     "name": "stdout",
     "output_type": "stream",
     "text": [
      "\u001b[2m\u001b[36m(RolloutWorker pid=1736)\u001b[0m reset triggered\n",
      "\u001b[2m\u001b[36m(RolloutWorker pid=1736)\u001b[0m reload save for track : 72\n"
     ]
    },
    {
     "name": "stderr",
     "output_type": "stream",
     "text": [
      "\u001b[2m\u001b[36m(RolloutWorker pid=1736)\u001b[0m C:\\Users\\nadir\\anaconda3\\envs\\GTRay2.4.0\\lib\\site-packages\\rtgym\\envs\\real_time_env.py:376: UserWarning: Time-step timed out. Elapsed since last time-step: 0.12266989998533973\n",
      "\u001b[2m\u001b[36m(RolloutWorker pid=1736)\u001b[0m   warnings.warn(f\"Time-step timed out. Elapsed since last time-step: {now - self.__t_end}\")\n"
     ]
    },
    {
     "name": "stdout",
     "output_type": "stream",
     "text": [
      "Loop:  228\n"
     ]
    },
    {
     "name": "stderr",
     "output_type": "stream",
     "text": [
      "\u001b[2m\u001b[36m(RolloutWorker pid=1736)\u001b[0m C:\\Users\\nadir\\anaconda3\\envs\\GTRay2.4.0\\lib\\site-packages\\rtgym\\envs\\real_time_env.py:376: UserWarning: Time-step timed out. Elapsed since last time-step: 3.0817358999447606\n",
      "\u001b[2m\u001b[36m(RolloutWorker pid=1736)\u001b[0m   warnings.warn(f\"Time-step timed out. Elapsed since last time-step: {now - self.__t_end}\")\n"
     ]
    },
    {
     "name": "stdout",
     "output_type": "stream",
     "text": [
      "\u001b[2m\u001b[36m(RolloutWorker pid=1736)\u001b[0m reset triggered\n",
      "\u001b[2m\u001b[36m(RolloutWorker pid=1736)\u001b[0m reload save for track : 72\n"
     ]
    },
    {
     "name": "stderr",
     "output_type": "stream",
     "text": [
      "\u001b[2m\u001b[36m(RolloutWorker pid=1736)\u001b[0m C:\\Users\\nadir\\anaconda3\\envs\\GTRay2.4.0\\lib\\site-packages\\rtgym\\envs\\real_time_env.py:376: UserWarning: Time-step timed out. Elapsed since last time-step: 0.13975869998466806\n",
      "\u001b[2m\u001b[36m(RolloutWorker pid=1736)\u001b[0m   warnings.warn(f\"Time-step timed out. Elapsed since last time-step: {now - self.__t_end}\")\n"
     ]
    },
    {
     "name": "stdout",
     "output_type": "stream",
     "text": [
      "Loop:  229\n"
     ]
    },
    {
     "name": "stderr",
     "output_type": "stream",
     "text": [
      "\u001b[2m\u001b[36m(RolloutWorker pid=1736)\u001b[0m C:\\Users\\nadir\\anaconda3\\envs\\GTRay2.4.0\\lib\\site-packages\\rtgym\\envs\\real_time_env.py:376: UserWarning: Time-step timed out. Elapsed since last time-step: 3.0376627999457924\n",
      "\u001b[2m\u001b[36m(RolloutWorker pid=1736)\u001b[0m   warnings.warn(f\"Time-step timed out. Elapsed since last time-step: {now - self.__t_end}\")\n"
     ]
    },
    {
     "name": "stdout",
     "output_type": "stream",
     "text": [
      "\u001b[2m\u001b[36m(RolloutWorker pid=1736)\u001b[0m reset triggered\n",
      "\u001b[2m\u001b[36m(RolloutWorker pid=1736)\u001b[0m reload save for track : 72\n"
     ]
    },
    {
     "name": "stderr",
     "output_type": "stream",
     "text": [
      "\u001b[2m\u001b[36m(RolloutWorker pid=1736)\u001b[0m C:\\Users\\nadir\\anaconda3\\envs\\GTRay2.4.0\\lib\\site-packages\\rtgym\\envs\\real_time_env.py:376: UserWarning: Time-step timed out. Elapsed since last time-step: 0.1305395999843313\n",
      "\u001b[2m\u001b[36m(RolloutWorker pid=1736)\u001b[0m   warnings.warn(f\"Time-step timed out. Elapsed since last time-step: {now - self.__t_end}\")\n"
     ]
    },
    {
     "name": "stdout",
     "output_type": "stream",
     "text": [
      "Loop:  230\n",
      "Saved 230\n"
     ]
    },
    {
     "name": "stderr",
     "output_type": "stream",
     "text": [
      "\u001b[2m\u001b[36m(RolloutWorker pid=1736)\u001b[0m C:\\Users\\nadir\\anaconda3\\envs\\GTRay2.4.0\\lib\\site-packages\\rtgym\\envs\\real_time_env.py:376: UserWarning: Time-step timed out. Elapsed since last time-step: 3.1356810999450317\n",
      "\u001b[2m\u001b[36m(RolloutWorker pid=1736)\u001b[0m   warnings.warn(f\"Time-step timed out. Elapsed since last time-step: {now - self.__t_end}\")\n"
     ]
    },
    {
     "name": "stdout",
     "output_type": "stream",
     "text": [
      "\u001b[2m\u001b[36m(RolloutWorker pid=1736)\u001b[0m reset triggered\n",
      "\u001b[2m\u001b[36m(RolloutWorker pid=1736)\u001b[0m reload save for track : 72\n"
     ]
    },
    {
     "name": "stderr",
     "output_type": "stream",
     "text": [
      "\u001b[2m\u001b[36m(RolloutWorker pid=1736)\u001b[0m C:\\Users\\nadir\\anaconda3\\envs\\GTRay2.4.0\\lib\\site-packages\\rtgym\\envs\\real_time_env.py:376: UserWarning: Time-step timed out. Elapsed since last time-step: 0.13476859998536384\n",
      "\u001b[2m\u001b[36m(RolloutWorker pid=1736)\u001b[0m   warnings.warn(f\"Time-step timed out. Elapsed since last time-step: {now - self.__t_end}\")\n"
     ]
    },
    {
     "name": "stdout",
     "output_type": "stream",
     "text": [
      "Loop:  231\n"
     ]
    },
    {
     "name": "stderr",
     "output_type": "stream",
     "text": [
      "\u001b[2m\u001b[36m(RolloutWorker pid=1736)\u001b[0m C:\\Users\\nadir\\anaconda3\\envs\\GTRay2.4.0\\lib\\site-packages\\rtgym\\envs\\real_time_env.py:376: UserWarning: Time-step timed out. Elapsed since last time-step: 2.9704007999453097\n",
      "\u001b[2m\u001b[36m(RolloutWorker pid=1736)\u001b[0m   warnings.warn(f\"Time-step timed out. Elapsed since last time-step: {now - self.__t_end}\")\n"
     ]
    },
    {
     "name": "stdout",
     "output_type": "stream",
     "text": [
      "\u001b[2m\u001b[36m(RolloutWorker pid=1736)\u001b[0m reset triggered\n",
      "\u001b[2m\u001b[36m(RolloutWorker pid=1736)\u001b[0m reload save for track : 72\n"
     ]
    },
    {
     "name": "stderr",
     "output_type": "stream",
     "text": [
      "\u001b[2m\u001b[36m(RolloutWorker pid=1736)\u001b[0m C:\\Users\\nadir\\anaconda3\\envs\\GTRay2.4.0\\lib\\site-packages\\rtgym\\envs\\real_time_env.py:376: UserWarning: Time-step timed out. Elapsed since last time-step: 0.12549389998457627\n",
      "\u001b[2m\u001b[36m(RolloutWorker pid=1736)\u001b[0m   warnings.warn(f\"Time-step timed out. Elapsed since last time-step: {now - self.__t_end}\")\n"
     ]
    },
    {
     "name": "stdout",
     "output_type": "stream",
     "text": [
      "Loop:  232\n"
     ]
    },
    {
     "name": "stderr",
     "output_type": "stream",
     "text": [
      "\u001b[2m\u001b[36m(RolloutWorker pid=1736)\u001b[0m C:\\Users\\nadir\\anaconda3\\envs\\GTRay2.4.0\\lib\\site-packages\\rtgym\\envs\\real_time_env.py:376: UserWarning: Time-step timed out. Elapsed since last time-step: 3.0639689999452457\n",
      "\u001b[2m\u001b[36m(RolloutWorker pid=1736)\u001b[0m   warnings.warn(f\"Time-step timed out. Elapsed since last time-step: {now - self.__t_end}\")\n"
     ]
    },
    {
     "name": "stdout",
     "output_type": "stream",
     "text": [
      "\u001b[2m\u001b[36m(RolloutWorker pid=1736)\u001b[0m reset triggered\n",
      "\u001b[2m\u001b[36m(RolloutWorker pid=1736)\u001b[0m reload save for track : 72\n"
     ]
    },
    {
     "name": "stderr",
     "output_type": "stream",
     "text": [
      "\u001b[2m\u001b[36m(RolloutWorker pid=1736)\u001b[0m C:\\Users\\nadir\\anaconda3\\envs\\GTRay2.4.0\\lib\\site-packages\\rtgym\\envs\\real_time_env.py:376: UserWarning: Time-step timed out. Elapsed since last time-step: 0.13599169998542493\n",
      "\u001b[2m\u001b[36m(RolloutWorker pid=1736)\u001b[0m   warnings.warn(f\"Time-step timed out. Elapsed since last time-step: {now - self.__t_end}\")\n"
     ]
    },
    {
     "name": "stdout",
     "output_type": "stream",
     "text": [
      "Loop:  233\n"
     ]
    },
    {
     "name": "stderr",
     "output_type": "stream",
     "text": [
      "\u001b[2m\u001b[36m(RolloutWorker pid=1736)\u001b[0m C:\\Users\\nadir\\anaconda3\\envs\\GTRay2.4.0\\lib\\site-packages\\rtgym\\envs\\real_time_env.py:376: UserWarning: Time-step timed out. Elapsed since last time-step: 3.0941498999445685\n",
      "\u001b[2m\u001b[36m(RolloutWorker pid=1736)\u001b[0m   warnings.warn(f\"Time-step timed out. Elapsed since last time-step: {now - self.__t_end}\")\n",
      "\u001b[2m\u001b[36m(RolloutWorker pid=1736)\u001b[0m C:\\Users\\nadir\\anaconda3\\envs\\GTRay2.4.0\\lib\\site-packages\\rtgym\\envs\\real_time_env.py:376: UserWarning: Time-step timed out. Elapsed since last time-step: 0.11983859998508706\n",
      "\u001b[2m\u001b[36m(RolloutWorker pid=1736)\u001b[0m   warnings.warn(f\"Time-step timed out. Elapsed since last time-step: {now - self.__t_end}\")\n"
     ]
    },
    {
     "name": "stdout",
     "output_type": "stream",
     "text": [
      "\u001b[2m\u001b[36m(RolloutWorker pid=1736)\u001b[0m reset triggered\n",
      "\u001b[2m\u001b[36m(RolloutWorker pid=1736)\u001b[0m reload save for track : 72\n",
      "Loop:  234\n"
     ]
    },
    {
     "name": "stderr",
     "output_type": "stream",
     "text": [
      "\u001b[2m\u001b[36m(RolloutWorker pid=1736)\u001b[0m C:\\Users\\nadir\\anaconda3\\envs\\GTRay2.4.0\\lib\\site-packages\\rtgym\\envs\\real_time_env.py:376: UserWarning: Time-step timed out. Elapsed since last time-step: 3.0596044999456353\n",
      "\u001b[2m\u001b[36m(RolloutWorker pid=1736)\u001b[0m   warnings.warn(f\"Time-step timed out. Elapsed since last time-step: {now - self.__t_end}\")\n"
     ]
    },
    {
     "name": "stdout",
     "output_type": "stream",
     "text": [
      "\u001b[2m\u001b[36m(RolloutWorker pid=1736)\u001b[0m reset triggered\n",
      "\u001b[2m\u001b[36m(RolloutWorker pid=1736)\u001b[0m reload save for track : 72\n"
     ]
    },
    {
     "name": "stderr",
     "output_type": "stream",
     "text": [
      "\u001b[2m\u001b[36m(RolloutWorker pid=1736)\u001b[0m C:\\Users\\nadir\\anaconda3\\envs\\GTRay2.4.0\\lib\\site-packages\\rtgym\\envs\\real_time_env.py:376: UserWarning: Time-step timed out. Elapsed since last time-step: 0.10095089998503681\n",
      "\u001b[2m\u001b[36m(RolloutWorker pid=1736)\u001b[0m   warnings.warn(f\"Time-step timed out. Elapsed since last time-step: {now - self.__t_end}\")\n"
     ]
    },
    {
     "name": "stdout",
     "output_type": "stream",
     "text": [
      "Loop:  235\n"
     ]
    },
    {
     "name": "stderr",
     "output_type": "stream",
     "text": [
      "\u001b[2m\u001b[36m(RolloutWorker pid=1736)\u001b[0m C:\\Users\\nadir\\anaconda3\\envs\\GTRay2.4.0\\lib\\site-packages\\rtgym\\envs\\real_time_env.py:376: UserWarning: Time-step timed out. Elapsed since last time-step: 3.0913908999445994\n",
      "\u001b[2m\u001b[36m(RolloutWorker pid=1736)\u001b[0m   warnings.warn(f\"Time-step timed out. Elapsed since last time-step: {now - self.__t_end}\")\n",
      "\u001b[2m\u001b[36m(RolloutWorker pid=1736)\u001b[0m C:\\Users\\nadir\\anaconda3\\envs\\GTRay2.4.0\\lib\\site-packages\\rtgym\\envs\\real_time_env.py:376: UserWarning: Time-step timed out. Elapsed since last time-step: 0.13439749998542538\n",
      "\u001b[2m\u001b[36m(RolloutWorker pid=1736)\u001b[0m   warnings.warn(f\"Time-step timed out. Elapsed since last time-step: {now - self.__t_end}\")\n"
     ]
    },
    {
     "name": "stdout",
     "output_type": "stream",
     "text": [
      "\u001b[2m\u001b[36m(RolloutWorker pid=1736)\u001b[0m reset triggered\n",
      "\u001b[2m\u001b[36m(RolloutWorker pid=1736)\u001b[0m reload save for track : 72\n"
     ]
    },
    {
     "name": "stderr",
     "output_type": "stream",
     "text": [
      "\u001b[2m\u001b[36m(RolloutWorker pid=1736)\u001b[0m C:\\Users\\nadir\\anaconda3\\envs\\GTRay2.4.0\\lib\\site-packages\\rtgym\\envs\\real_time_env.py:376: UserWarning: Time-step timed out. Elapsed since last time-step: 0.05087489999641548\n",
      "\u001b[2m\u001b[36m(RolloutWorker pid=1736)\u001b[0m   warnings.warn(f\"Time-step timed out. Elapsed since last time-step: {now - self.__t_end}\")\n"
     ]
    },
    {
     "name": "stdout",
     "output_type": "stream",
     "text": [
      "Loop:  236\n"
     ]
    },
    {
     "name": "stderr",
     "output_type": "stream",
     "text": [
      "\u001b[2m\u001b[36m(RolloutWorker pid=1736)\u001b[0m C:\\Users\\nadir\\anaconda3\\envs\\GTRay2.4.0\\lib\\site-packages\\rtgym\\envs\\real_time_env.py:376: UserWarning: Time-step timed out. Elapsed since last time-step: 3.011654099948828\n",
      "\u001b[2m\u001b[36m(RolloutWorker pid=1736)\u001b[0m   warnings.warn(f\"Time-step timed out. Elapsed since last time-step: {now - self.__t_end}\")\n",
      "\u001b[2m\u001b[36m(RolloutWorker pid=1736)\u001b[0m C:\\Users\\nadir\\anaconda3\\envs\\GTRay2.4.0\\lib\\site-packages\\rtgym\\envs\\real_time_env.py:376: UserWarning: Time-step timed out. Elapsed since last time-step: 0.13734039998507797\n",
      "\u001b[2m\u001b[36m(RolloutWorker pid=1736)\u001b[0m   warnings.warn(f\"Time-step timed out. Elapsed since last time-step: {now - self.__t_end}\")\n"
     ]
    },
    {
     "name": "stdout",
     "output_type": "stream",
     "text": [
      "\u001b[2m\u001b[36m(RolloutWorker pid=1736)\u001b[0m reset triggered\n",
      "\u001b[2m\u001b[36m(RolloutWorker pid=1736)\u001b[0m reload save for track : 72\n",
      "Loop:  237\n"
     ]
    },
    {
     "name": "stderr",
     "output_type": "stream",
     "text": [
      "\u001b[2m\u001b[36m(RolloutWorker pid=1736)\u001b[0m C:\\Users\\nadir\\anaconda3\\envs\\GTRay2.4.0\\lib\\site-packages\\rtgym\\envs\\real_time_env.py:376: UserWarning: Time-step timed out. Elapsed since last time-step: 3.0500823999445856\n",
      "\u001b[2m\u001b[36m(RolloutWorker pid=1736)\u001b[0m   warnings.warn(f\"Time-step timed out. Elapsed since last time-step: {now - self.__t_end}\")\n",
      "\u001b[2m\u001b[36m(RolloutWorker pid=1736)\u001b[0m C:\\Users\\nadir\\anaconda3\\envs\\GTRay2.4.0\\lib\\site-packages\\rtgym\\envs\\real_time_env.py:376: UserWarning: Time-step timed out. Elapsed since last time-step: 0.14015779998499056\n",
      "\u001b[2m\u001b[36m(RolloutWorker pid=1736)\u001b[0m   warnings.warn(f\"Time-step timed out. Elapsed since last time-step: {now - self.__t_end}\")\n"
     ]
    },
    {
     "name": "stdout",
     "output_type": "stream",
     "text": [
      "\u001b[2m\u001b[36m(RolloutWorker pid=1736)\u001b[0m reset triggered\n",
      "\u001b[2m\u001b[36m(RolloutWorker pid=1736)\u001b[0m reload save for track : 72\n",
      "Loop:  238\n"
     ]
    },
    {
     "name": "stderr",
     "output_type": "stream",
     "text": [
      "\u001b[2m\u001b[36m(RolloutWorker pid=1736)\u001b[0m C:\\Users\\nadir\\anaconda3\\envs\\GTRay2.4.0\\lib\\site-packages\\rtgym\\envs\\real_time_env.py:376: UserWarning: Time-step timed out. Elapsed since last time-step: 3.031741499945383\n",
      "\u001b[2m\u001b[36m(RolloutWorker pid=1736)\u001b[0m   warnings.warn(f\"Time-step timed out. Elapsed since last time-step: {now - self.__t_end}\")\n",
      "\u001b[2m\u001b[36m(RolloutWorker pid=1736)\u001b[0m C:\\Users\\nadir\\anaconda3\\envs\\GTRay2.4.0\\lib\\site-packages\\rtgym\\envs\\real_time_env.py:376: UserWarning: Time-step timed out. Elapsed since last time-step: 0.1319021999852339\n",
      "\u001b[2m\u001b[36m(RolloutWorker pid=1736)\u001b[0m   warnings.warn(f\"Time-step timed out. Elapsed since last time-step: {now - self.__t_end}\")\n"
     ]
    },
    {
     "name": "stdout",
     "output_type": "stream",
     "text": [
      "\u001b[2m\u001b[36m(RolloutWorker pid=1736)\u001b[0m reset triggered\n",
      "\u001b[2m\u001b[36m(RolloutWorker pid=1736)\u001b[0m reload save for track : 72\n",
      "Loop:  239\n"
     ]
    },
    {
     "name": "stderr",
     "output_type": "stream",
     "text": [
      "\u001b[2m\u001b[36m(RolloutWorker pid=1736)\u001b[0m C:\\Users\\nadir\\anaconda3\\envs\\GTRay2.4.0\\lib\\site-packages\\rtgym\\envs\\real_time_env.py:376: UserWarning: Time-step timed out. Elapsed since last time-step: 3.0790676999449715\n",
      "\u001b[2m\u001b[36m(RolloutWorker pid=1736)\u001b[0m   warnings.warn(f\"Time-step timed out. Elapsed since last time-step: {now - self.__t_end}\")\n"
     ]
    },
    {
     "name": "stdout",
     "output_type": "stream",
     "text": [
      "\u001b[2m\u001b[36m(RolloutWorker pid=1736)\u001b[0m reset triggered\n",
      "\u001b[2m\u001b[36m(RolloutWorker pid=1736)\u001b[0m reload save for track : 72\n"
     ]
    },
    {
     "name": "stderr",
     "output_type": "stream",
     "text": [
      "\u001b[2m\u001b[36m(RolloutWorker pid=1736)\u001b[0m C:\\Users\\nadir\\anaconda3\\envs\\GTRay2.4.0\\lib\\site-packages\\rtgym\\envs\\real_time_env.py:376: UserWarning: Time-step timed out. Elapsed since last time-step: 0.12119499998516403\n",
      "\u001b[2m\u001b[36m(RolloutWorker pid=1736)\u001b[0m   warnings.warn(f\"Time-step timed out. Elapsed since last time-step: {now - self.__t_end}\")\n",
      "\u001b[2m\u001b[36m(RolloutWorker pid=1736)\u001b[0m C:\\Users\\nadir\\anaconda3\\envs\\GTRay2.4.0\\lib\\site-packages\\rtgym\\envs\\real_time_env.py:376: UserWarning: Time-step timed out. Elapsed since last time-step: 0.153068099983102\n",
      "\u001b[2m\u001b[36m(RolloutWorker pid=1736)\u001b[0m   warnings.warn(f\"Time-step timed out. Elapsed since last time-step: {now - self.__t_end}\")\n"
     ]
    },
    {
     "name": "stdout",
     "output_type": "stream",
     "text": [
      "Loop:  240\n",
      "Saved 240\n"
     ]
    },
    {
     "name": "stderr",
     "output_type": "stream",
     "text": [
      "\u001b[2m\u001b[36m(RolloutWorker pid=1736)\u001b[0m C:\\Users\\nadir\\anaconda3\\envs\\GTRay2.4.0\\lib\\site-packages\\rtgym\\envs\\real_time_env.py:376: UserWarning: Time-step timed out. Elapsed since last time-step: 2.9830474999616854\n",
      "\u001b[2m\u001b[36m(RolloutWorker pid=1736)\u001b[0m   warnings.warn(f\"Time-step timed out. Elapsed since last time-step: {now - self.__t_end}\")\n"
     ]
    },
    {
     "name": "stdout",
     "output_type": "stream",
     "text": [
      "\u001b[2m\u001b[36m(RolloutWorker pid=1736)\u001b[0m reset triggered\n",
      "\u001b[2m\u001b[36m(RolloutWorker pid=1736)\u001b[0m reload save for track : 72\n"
     ]
    },
    {
     "name": "stderr",
     "output_type": "stream",
     "text": [
      "\u001b[2m\u001b[36m(RolloutWorker pid=1736)\u001b[0m C:\\Users\\nadir\\anaconda3\\envs\\GTRay2.4.0\\lib\\site-packages\\rtgym\\envs\\real_time_env.py:376: UserWarning: Time-step timed out. Elapsed since last time-step: 0.12416059998486162\n",
      "\u001b[2m\u001b[36m(RolloutWorker pid=1736)\u001b[0m   warnings.warn(f\"Time-step timed out. Elapsed since last time-step: {now - self.__t_end}\")\n"
     ]
    },
    {
     "name": "stdout",
     "output_type": "stream",
     "text": [
      "Loop:  241\n"
     ]
    },
    {
     "name": "stderr",
     "output_type": "stream",
     "text": [
      "\u001b[2m\u001b[36m(RolloutWorker pid=1736)\u001b[0m C:\\Users\\nadir\\anaconda3\\envs\\GTRay2.4.0\\lib\\site-packages\\rtgym\\envs\\real_time_env.py:376: UserWarning: Time-step timed out. Elapsed since last time-step: 3.0022468999459306\n",
      "\u001b[2m\u001b[36m(RolloutWorker pid=1736)\u001b[0m   warnings.warn(f\"Time-step timed out. Elapsed since last time-step: {now - self.__t_end}\")\n",
      "\u001b[2m\u001b[36m(RolloutWorker pid=1736)\u001b[0m C:\\Users\\nadir\\anaconda3\\envs\\GTRay2.4.0\\lib\\site-packages\\rtgym\\envs\\real_time_env.py:376: UserWarning: Time-step timed out. Elapsed since last time-step: 0.13773329998457484\n",
      "\u001b[2m\u001b[36m(RolloutWorker pid=1736)\u001b[0m   warnings.warn(f\"Time-step timed out. Elapsed since last time-step: {now - self.__t_end}\")\n"
     ]
    },
    {
     "name": "stdout",
     "output_type": "stream",
     "text": [
      "\u001b[2m\u001b[36m(RolloutWorker pid=1736)\u001b[0m reset triggered\n",
      "\u001b[2m\u001b[36m(RolloutWorker pid=1736)\u001b[0m reload save for track : 72\n",
      "Loop:  242\n"
     ]
    },
    {
     "name": "stderr",
     "output_type": "stream",
     "text": [
      "\u001b[2m\u001b[36m(RolloutWorker pid=1736)\u001b[0m C:\\Users\\nadir\\anaconda3\\envs\\GTRay2.4.0\\lib\\site-packages\\rtgym\\envs\\real_time_env.py:376: UserWarning: Time-step timed out. Elapsed since last time-step: 3.0628830999448837\n",
      "\u001b[2m\u001b[36m(RolloutWorker pid=1736)\u001b[0m   warnings.warn(f\"Time-step timed out. Elapsed since last time-step: {now - self.__t_end}\")\n"
     ]
    },
    {
     "name": "stdout",
     "output_type": "stream",
     "text": [
      "\u001b[2m\u001b[36m(RolloutWorker pid=1736)\u001b[0m reset triggered\n",
      "\u001b[2m\u001b[36m(RolloutWorker pid=1736)\u001b[0m reload save for track : 72\n"
     ]
    },
    {
     "name": "stderr",
     "output_type": "stream",
     "text": [
      "\u001b[2m\u001b[36m(RolloutWorker pid=1736)\u001b[0m C:\\Users\\nadir\\anaconda3\\envs\\GTRay2.4.0\\lib\\site-packages\\rtgym\\envs\\real_time_env.py:376: UserWarning: Time-step timed out. Elapsed since last time-step: 0.1078831999857357\n",
      "\u001b[2m\u001b[36m(RolloutWorker pid=1736)\u001b[0m   warnings.warn(f\"Time-step timed out. Elapsed since last time-step: {now - self.__t_end}\")\n"
     ]
    },
    {
     "name": "stdout",
     "output_type": "stream",
     "text": [
      "Loop:  243\n"
     ]
    },
    {
     "name": "stderr",
     "output_type": "stream",
     "text": [
      "\u001b[2m\u001b[36m(RolloutWorker pid=1736)\u001b[0m C:\\Users\\nadir\\anaconda3\\envs\\GTRay2.4.0\\lib\\site-packages\\rtgym\\envs\\real_time_env.py:376: UserWarning: Time-step timed out. Elapsed since last time-step: 3.0907228999449217\n",
      "\u001b[2m\u001b[36m(RolloutWorker pid=1736)\u001b[0m   warnings.warn(f\"Time-step timed out. Elapsed since last time-step: {now - self.__t_end}\")\n",
      "\u001b[2m\u001b[36m(RolloutWorker pid=1736)\u001b[0m C:\\Users\\nadir\\anaconda3\\envs\\GTRay2.4.0\\lib\\site-packages\\rtgym\\envs\\real_time_env.py:376: UserWarning: Time-step timed out. Elapsed since last time-step: 0.11862809998456214\n",
      "\u001b[2m\u001b[36m(RolloutWorker pid=1736)\u001b[0m   warnings.warn(f\"Time-step timed out. Elapsed since last time-step: {now - self.__t_end}\")\n"
     ]
    },
    {
     "name": "stdout",
     "output_type": "stream",
     "text": [
      "\u001b[2m\u001b[36m(RolloutWorker pid=1736)\u001b[0m reset triggered\n",
      "\u001b[2m\u001b[36m(RolloutWorker pid=1736)\u001b[0m reload save for track : 72\n",
      "Loop:  244\n"
     ]
    },
    {
     "name": "stderr",
     "output_type": "stream",
     "text": [
      "\u001b[2m\u001b[36m(RolloutWorker pid=1736)\u001b[0m C:\\Users\\nadir\\anaconda3\\envs\\GTRay2.4.0\\lib\\site-packages\\rtgym\\envs\\real_time_env.py:376: UserWarning: Time-step timed out. Elapsed since last time-step: 3.054296799945405\n",
      "\u001b[2m\u001b[36m(RolloutWorker pid=1736)\u001b[0m   warnings.warn(f\"Time-step timed out. Elapsed since last time-step: {now - self.__t_end}\")\n"
     ]
    },
    {
     "name": "stdout",
     "output_type": "stream",
     "text": [
      "\u001b[2m\u001b[36m(RolloutWorker pid=1736)\u001b[0m reset triggered\n",
      "\u001b[2m\u001b[36m(RolloutWorker pid=1736)\u001b[0m reload save for track : 72\n"
     ]
    },
    {
     "name": "stderr",
     "output_type": "stream",
     "text": [
      "\u001b[2m\u001b[36m(RolloutWorker pid=1736)\u001b[0m C:\\Users\\nadir\\anaconda3\\envs\\GTRay2.4.0\\lib\\site-packages\\rtgym\\envs\\real_time_env.py:376: UserWarning: Time-step timed out. Elapsed since last time-step: 0.14655619998484326\n",
      "\u001b[2m\u001b[36m(RolloutWorker pid=1736)\u001b[0m   warnings.warn(f\"Time-step timed out. Elapsed since last time-step: {now - self.__t_end}\")\n"
     ]
    },
    {
     "name": "stdout",
     "output_type": "stream",
     "text": [
      "Loop:  245\n"
     ]
    },
    {
     "name": "stderr",
     "output_type": "stream",
     "text": [
      "\u001b[2m\u001b[36m(RolloutWorker pid=1736)\u001b[0m C:\\Users\\nadir\\anaconda3\\envs\\GTRay2.4.0\\lib\\site-packages\\rtgym\\envs\\real_time_env.py:376: UserWarning: Time-step timed out. Elapsed since last time-step: 3.0396806999451655\n",
      "\u001b[2m\u001b[36m(RolloutWorker pid=1736)\u001b[0m   warnings.warn(f\"Time-step timed out. Elapsed since last time-step: {now - self.__t_end}\")\n"
     ]
    },
    {
     "name": "stdout",
     "output_type": "stream",
     "text": [
      "\u001b[2m\u001b[36m(RolloutWorker pid=1736)\u001b[0m reset triggered\n",
      "\u001b[2m\u001b[36m(RolloutWorker pid=1736)\u001b[0m reload save for track : 72\n"
     ]
    },
    {
     "name": "stderr",
     "output_type": "stream",
     "text": [
      "\u001b[2m\u001b[36m(RolloutWorker pid=1736)\u001b[0m C:\\Users\\nadir\\anaconda3\\envs\\GTRay2.4.0\\lib\\site-packages\\rtgym\\envs\\real_time_env.py:376: UserWarning: Time-step timed out. Elapsed since last time-step: 0.12546759998531343\n",
      "\u001b[2m\u001b[36m(RolloutWorker pid=1736)\u001b[0m   warnings.warn(f\"Time-step timed out. Elapsed since last time-step: {now - self.__t_end}\")\n"
     ]
    },
    {
     "name": "stdout",
     "output_type": "stream",
     "text": [
      "Loop:  246\n"
     ]
    },
    {
     "name": "stderr",
     "output_type": "stream",
     "text": [
      "\u001b[2m\u001b[36m(RolloutWorker pid=1736)\u001b[0m C:\\Users\\nadir\\anaconda3\\envs\\GTRay2.4.0\\lib\\site-packages\\rtgym\\envs\\real_time_env.py:376: UserWarning: Time-step timed out. Elapsed since last time-step: 3.0747243999448983\n",
      "\u001b[2m\u001b[36m(RolloutWorker pid=1736)\u001b[0m   warnings.warn(f\"Time-step timed out. Elapsed since last time-step: {now - self.__t_end}\")\n"
     ]
    },
    {
     "name": "stdout",
     "output_type": "stream",
     "text": [
      "\u001b[2m\u001b[36m(RolloutWorker pid=1736)\u001b[0m reset triggered\n",
      "\u001b[2m\u001b[36m(RolloutWorker pid=1736)\u001b[0m reload save for track : 72\n"
     ]
    },
    {
     "name": "stderr",
     "output_type": "stream",
     "text": [
      "\u001b[2m\u001b[36m(RolloutWorker pid=1736)\u001b[0m C:\\Users\\nadir\\anaconda3\\envs\\GTRay2.4.0\\lib\\site-packages\\rtgym\\envs\\real_time_env.py:376: UserWarning: Time-step timed out. Elapsed since last time-step: 0.1396222999846941\n",
      "\u001b[2m\u001b[36m(RolloutWorker pid=1736)\u001b[0m   warnings.warn(f\"Time-step timed out. Elapsed since last time-step: {now - self.__t_end}\")\n"
     ]
    },
    {
     "name": "stdout",
     "output_type": "stream",
     "text": [
      "Loop:  247\n"
     ]
    },
    {
     "name": "stderr",
     "output_type": "stream",
     "text": [
      "\u001b[2m\u001b[36m(RolloutWorker pid=1736)\u001b[0m C:\\Users\\nadir\\anaconda3\\envs\\GTRay2.4.0\\lib\\site-packages\\rtgym\\envs\\real_time_env.py:376: UserWarning: Time-step timed out. Elapsed since last time-step: 3.051869899945814\n",
      "\u001b[2m\u001b[36m(RolloutWorker pid=1736)\u001b[0m   warnings.warn(f\"Time-step timed out. Elapsed since last time-step: {now - self.__t_end}\")\n"
     ]
    },
    {
     "name": "stdout",
     "output_type": "stream",
     "text": [
      "\u001b[2m\u001b[36m(RolloutWorker pid=1736)\u001b[0m reset triggered\n",
      "\u001b[2m\u001b[36m(RolloutWorker pid=1736)\u001b[0m reload save for track : 72\n"
     ]
    },
    {
     "name": "stderr",
     "output_type": "stream",
     "text": [
      "\u001b[2m\u001b[36m(RolloutWorker pid=1736)\u001b[0m C:\\Users\\nadir\\anaconda3\\envs\\GTRay2.4.0\\lib\\site-packages\\rtgym\\envs\\real_time_env.py:376: UserWarning: Time-step timed out. Elapsed since last time-step: 0.11786699998447148\n",
      "\u001b[2m\u001b[36m(RolloutWorker pid=1736)\u001b[0m   warnings.warn(f\"Time-step timed out. Elapsed since last time-step: {now - self.__t_end}\")\n"
     ]
    },
    {
     "name": "stdout",
     "output_type": "stream",
     "text": [
      "Loop:  248\n"
     ]
    },
    {
     "name": "stderr",
     "output_type": "stream",
     "text": [
      "\u001b[2m\u001b[36m(RolloutWorker pid=1736)\u001b[0m C:\\Users\\nadir\\anaconda3\\envs\\GTRay2.4.0\\lib\\site-packages\\rtgym\\envs\\real_time_env.py:376: UserWarning: Time-step timed out. Elapsed since last time-step: 3.0833781999454004\n",
      "\u001b[2m\u001b[36m(RolloutWorker pid=1736)\u001b[0m   warnings.warn(f\"Time-step timed out. Elapsed since last time-step: {now - self.__t_end}\")\n"
     ]
    },
    {
     "name": "stdout",
     "output_type": "stream",
     "text": [
      "\u001b[2m\u001b[36m(RolloutWorker pid=1736)\u001b[0m reset triggered\n",
      "\u001b[2m\u001b[36m(RolloutWorker pid=1736)\u001b[0m reload save for track : 72\n"
     ]
    },
    {
     "name": "stderr",
     "output_type": "stream",
     "text": [
      "\u001b[2m\u001b[36m(RolloutWorker pid=1736)\u001b[0m C:\\Users\\nadir\\anaconda3\\envs\\GTRay2.4.0\\lib\\site-packages\\rtgym\\envs\\real_time_env.py:376: UserWarning: Time-step timed out. Elapsed since last time-step: 0.1327730999846608\n",
      "\u001b[2m\u001b[36m(RolloutWorker pid=1736)\u001b[0m   warnings.warn(f\"Time-step timed out. Elapsed since last time-step: {now - self.__t_end}\")\n"
     ]
    },
    {
     "name": "stdout",
     "output_type": "stream",
     "text": [
      "Loop:  249\n"
     ]
    },
    {
     "name": "stderr",
     "output_type": "stream",
     "text": [
      "\u001b[2m\u001b[36m(RolloutWorker pid=1736)\u001b[0m C:\\Users\\nadir\\anaconda3\\envs\\GTRay2.4.0\\lib\\site-packages\\rtgym\\envs\\real_time_env.py:376: UserWarning: Time-step timed out. Elapsed since last time-step: 3.1001500999454947\n",
      "\u001b[2m\u001b[36m(RolloutWorker pid=1736)\u001b[0m   warnings.warn(f\"Time-step timed out. Elapsed since last time-step: {now - self.__t_end}\")\n"
     ]
    },
    {
     "name": "stdout",
     "output_type": "stream",
     "text": [
      "\u001b[2m\u001b[36m(RolloutWorker pid=1736)\u001b[0m reset triggered\n",
      "\u001b[2m\u001b[36m(RolloutWorker pid=1736)\u001b[0m reload save for track : 72\n"
     ]
    },
    {
     "name": "stderr",
     "output_type": "stream",
     "text": [
      "\u001b[2m\u001b[36m(RolloutWorker pid=1736)\u001b[0m C:\\Users\\nadir\\anaconda3\\envs\\GTRay2.4.0\\lib\\site-packages\\rtgym\\envs\\real_time_env.py:376: UserWarning: Time-step timed out. Elapsed since last time-step: 0.11003839998465992\n",
      "\u001b[2m\u001b[36m(RolloutWorker pid=1736)\u001b[0m   warnings.warn(f\"Time-step timed out. Elapsed since last time-step: {now - self.__t_end}\")\n"
     ]
    },
    {
     "name": "stdout",
     "output_type": "stream",
     "text": [
      "Loop:  250\n",
      "Saved 250\n"
     ]
    },
    {
     "name": "stderr",
     "output_type": "stream",
     "text": [
      "\u001b[2m\u001b[36m(RolloutWorker pid=1736)\u001b[0m C:\\Users\\nadir\\anaconda3\\envs\\GTRay2.4.0\\lib\\site-packages\\rtgym\\envs\\real_time_env.py:376: UserWarning: Time-step timed out. Elapsed since last time-step: 3.1020771999455974\n",
      "\u001b[2m\u001b[36m(RolloutWorker pid=1736)\u001b[0m   warnings.warn(f\"Time-step timed out. Elapsed since last time-step: {now - self.__t_end}\")\n"
     ]
    },
    {
     "name": "stdout",
     "output_type": "stream",
     "text": [
      "\u001b[2m\u001b[36m(RolloutWorker pid=1736)\u001b[0m reset triggered\n",
      "\u001b[2m\u001b[36m(RolloutWorker pid=1736)\u001b[0m reload save for track : 72\n"
     ]
    },
    {
     "name": "stderr",
     "output_type": "stream",
     "text": [
      "\u001b[2m\u001b[36m(RolloutWorker pid=1736)\u001b[0m C:\\Users\\nadir\\anaconda3\\envs\\GTRay2.4.0\\lib\\site-packages\\rtgym\\envs\\real_time_env.py:376: UserWarning: Time-step timed out. Elapsed since last time-step: 0.13222749998476502\n",
      "\u001b[2m\u001b[36m(RolloutWorker pid=1736)\u001b[0m   warnings.warn(f\"Time-step timed out. Elapsed since last time-step: {now - self.__t_end}\")\n"
     ]
    },
    {
     "name": "stdout",
     "output_type": "stream",
     "text": [
      "Loop:  251\n"
     ]
    },
    {
     "name": "stderr",
     "output_type": "stream",
     "text": [
      "\u001b[2m\u001b[36m(RolloutWorker pid=1736)\u001b[0m C:\\Users\\nadir\\anaconda3\\envs\\GTRay2.4.0\\lib\\site-packages\\rtgym\\envs\\real_time_env.py:376: UserWarning: Time-step timed out. Elapsed since last time-step: 3.006404799944903\n",
      "\u001b[2m\u001b[36m(RolloutWorker pid=1736)\u001b[0m   warnings.warn(f\"Time-step timed out. Elapsed since last time-step: {now - self.__t_end}\")\n"
     ]
    },
    {
     "name": "stdout",
     "output_type": "stream",
     "text": [
      "\u001b[2m\u001b[36m(RolloutWorker pid=1736)\u001b[0m reset triggered\n",
      "\u001b[2m\u001b[36m(RolloutWorker pid=1736)\u001b[0m reload save for track : 72\n"
     ]
    },
    {
     "name": "stderr",
     "output_type": "stream",
     "text": [
      "\u001b[2m\u001b[36m(RolloutWorker pid=1736)\u001b[0m C:\\Users\\nadir\\anaconda3\\envs\\GTRay2.4.0\\lib\\site-packages\\rtgym\\envs\\real_time_env.py:376: UserWarning: Time-step timed out. Elapsed since last time-step: 0.12330389998533064\n",
      "\u001b[2m\u001b[36m(RolloutWorker pid=1736)\u001b[0m   warnings.warn(f\"Time-step timed out. Elapsed since last time-step: {now - self.__t_end}\")\n",
      "\u001b[2m\u001b[36m(RolloutWorker pid=1736)\u001b[0m C:\\Users\\nadir\\anaconda3\\envs\\GTRay2.4.0\\lib\\site-packages\\rtgym\\envs\\real_time_env.py:376: UserWarning: Time-step timed out. Elapsed since last time-step: 0.050176099945019814\n",
      "\u001b[2m\u001b[36m(RolloutWorker pid=1736)\u001b[0m   warnings.warn(f\"Time-step timed out. Elapsed since last time-step: {now - self.__t_end}\")\n"
     ]
    },
    {
     "name": "stdout",
     "output_type": "stream",
     "text": [
      "Loop:  252\n"
     ]
    },
    {
     "name": "stderr",
     "output_type": "stream",
     "text": [
      "\u001b[2m\u001b[36m(RolloutWorker pid=1736)\u001b[0m C:\\Users\\nadir\\anaconda3\\envs\\GTRay2.4.0\\lib\\site-packages\\rtgym\\envs\\real_time_env.py:376: UserWarning: Time-step timed out. Elapsed since last time-step: 3.032734800000071\n",
      "\u001b[2m\u001b[36m(RolloutWorker pid=1736)\u001b[0m   warnings.warn(f\"Time-step timed out. Elapsed since last time-step: {now - self.__t_end}\")\n"
     ]
    },
    {
     "name": "stdout",
     "output_type": "stream",
     "text": [
      "\u001b[2m\u001b[36m(RolloutWorker pid=1736)\u001b[0m reset triggered\n",
      "\u001b[2m\u001b[36m(RolloutWorker pid=1736)\u001b[0m reload save for track : 72\n"
     ]
    },
    {
     "name": "stderr",
     "output_type": "stream",
     "text": [
      "\u001b[2m\u001b[36m(RolloutWorker pid=1736)\u001b[0m C:\\Users\\nadir\\anaconda3\\envs\\GTRay2.4.0\\lib\\site-packages\\rtgym\\envs\\real_time_env.py:376: UserWarning: Time-step timed out. Elapsed since last time-step: 0.1269630999850051\n",
      "\u001b[2m\u001b[36m(RolloutWorker pid=1736)\u001b[0m   warnings.warn(f\"Time-step timed out. Elapsed since last time-step: {now - self.__t_end}\")\n"
     ]
    },
    {
     "name": "stdout",
     "output_type": "stream",
     "text": [
      "Loop:  253\n"
     ]
    },
    {
     "name": "stderr",
     "output_type": "stream",
     "text": [
      "\u001b[2m\u001b[36m(RolloutWorker pid=1736)\u001b[0m C:\\Users\\nadir\\anaconda3\\envs\\GTRay2.4.0\\lib\\site-packages\\rtgym\\envs\\real_time_env.py:376: UserWarning: Time-step timed out. Elapsed since last time-step: 3.081284799945024\n",
      "\u001b[2m\u001b[36m(RolloutWorker pid=1736)\u001b[0m   warnings.warn(f\"Time-step timed out. Elapsed since last time-step: {now - self.__t_end}\")\n"
     ]
    },
    {
     "name": "stdout",
     "output_type": "stream",
     "text": [
      "\u001b[2m\u001b[36m(RolloutWorker pid=1736)\u001b[0m reset triggered\n",
      "\u001b[2m\u001b[36m(RolloutWorker pid=1736)\u001b[0m reload save for track : 72\n"
     ]
    },
    {
     "name": "stderr",
     "output_type": "stream",
     "text": [
      "\u001b[2m\u001b[36m(RolloutWorker pid=1736)\u001b[0m C:\\Users\\nadir\\anaconda3\\envs\\GTRay2.4.0\\lib\\site-packages\\rtgym\\envs\\real_time_env.py:376: UserWarning: Time-step timed out. Elapsed since last time-step: 0.13508889998502127\n",
      "\u001b[2m\u001b[36m(RolloutWorker pid=1736)\u001b[0m   warnings.warn(f\"Time-step timed out. Elapsed since last time-step: {now - self.__t_end}\")\n",
      "\u001b[2m\u001b[36m(RolloutWorker pid=1736)\u001b[0m C:\\Users\\nadir\\anaconda3\\envs\\GTRay2.4.0\\lib\\site-packages\\rtgym\\envs\\real_time_env.py:376: UserWarning: Time-step timed out. Elapsed since last time-step: 0.05081369994513807\n",
      "\u001b[2m\u001b[36m(RolloutWorker pid=1736)\u001b[0m   warnings.warn(f\"Time-step timed out. Elapsed since last time-step: {now - self.__t_end}\")\n"
     ]
    },
    {
     "name": "stdout",
     "output_type": "stream",
     "text": [
      "Loop:  254\n"
     ]
    },
    {
     "name": "stderr",
     "output_type": "stream",
     "text": [
      "\u001b[2m\u001b[36m(RolloutWorker pid=1736)\u001b[0m C:\\Users\\nadir\\anaconda3\\envs\\GTRay2.4.0\\lib\\site-packages\\rtgym\\envs\\real_time_env.py:376: UserWarning: Time-step timed out. Elapsed since last time-step: 2.979170300000078\n",
      "\u001b[2m\u001b[36m(RolloutWorker pid=1736)\u001b[0m   warnings.warn(f\"Time-step timed out. Elapsed since last time-step: {now - self.__t_end}\")\n"
     ]
    },
    {
     "name": "stdout",
     "output_type": "stream",
     "text": [
      "\u001b[2m\u001b[36m(RolloutWorker pid=1736)\u001b[0m reset triggered\n",
      "\u001b[2m\u001b[36m(RolloutWorker pid=1736)\u001b[0m reload save for track : 72\n"
     ]
    },
    {
     "name": "stderr",
     "output_type": "stream",
     "text": [
      "\u001b[2m\u001b[36m(RolloutWorker pid=1736)\u001b[0m C:\\Users\\nadir\\anaconda3\\envs\\GTRay2.4.0\\lib\\site-packages\\rtgym\\envs\\real_time_env.py:376: UserWarning: Time-step timed out. Elapsed since last time-step: 0.13520659998539486\n",
      "\u001b[2m\u001b[36m(RolloutWorker pid=1736)\u001b[0m   warnings.warn(f\"Time-step timed out. Elapsed since last time-step: {now - self.__t_end}\")\n",
      "\u001b[2m\u001b[36m(RolloutWorker pid=1736)\u001b[0m C:\\Users\\nadir\\anaconda3\\envs\\GTRay2.4.0\\lib\\site-packages\\rtgym\\envs\\real_time_env.py:376: UserWarning: Time-step timed out. Elapsed since last time-step: 0.0507322999446842\n",
      "\u001b[2m\u001b[36m(RolloutWorker pid=1736)\u001b[0m   warnings.warn(f\"Time-step timed out. Elapsed since last time-step: {now - self.__t_end}\")\n"
     ]
    },
    {
     "name": "stdout",
     "output_type": "stream",
     "text": [
      "Loop:  255\n"
     ]
    },
    {
     "name": "stderr",
     "output_type": "stream",
     "text": [
      "\u001b[2m\u001b[36m(RolloutWorker pid=1736)\u001b[0m C:\\Users\\nadir\\anaconda3\\envs\\GTRay2.4.0\\lib\\site-packages\\rtgym\\envs\\real_time_env.py:376: UserWarning: Time-step timed out. Elapsed since last time-step: 3.044218600000022\n",
      "\u001b[2m\u001b[36m(RolloutWorker pid=1736)\u001b[0m   warnings.warn(f\"Time-step timed out. Elapsed since last time-step: {now - self.__t_end}\")\n"
     ]
    },
    {
     "name": "stdout",
     "output_type": "stream",
     "text": [
      "\u001b[2m\u001b[36m(RolloutWorker pid=1736)\u001b[0m reset triggered\n",
      "\u001b[2m\u001b[36m(RolloutWorker pid=1736)\u001b[0m reload save for track : 72\n"
     ]
    },
    {
     "name": "stderr",
     "output_type": "stream",
     "text": [
      "\u001b[2m\u001b[36m(RolloutWorker pid=1736)\u001b[0m C:\\Users\\nadir\\anaconda3\\envs\\GTRay2.4.0\\lib\\site-packages\\rtgym\\envs\\real_time_env.py:376: UserWarning: Time-step timed out. Elapsed since last time-step: 0.12465889998566126\n",
      "\u001b[2m\u001b[36m(RolloutWorker pid=1736)\u001b[0m   warnings.warn(f\"Time-step timed out. Elapsed since last time-step: {now - self.__t_end}\")\n"
     ]
    },
    {
     "name": "stdout",
     "output_type": "stream",
     "text": [
      "Loop:  256\n"
     ]
    },
    {
     "name": "stderr",
     "output_type": "stream",
     "text": [
      "\u001b[2m\u001b[36m(RolloutWorker pid=1736)\u001b[0m C:\\Users\\nadir\\anaconda3\\envs\\GTRay2.4.0\\lib\\site-packages\\rtgym\\envs\\real_time_env.py:376: UserWarning: Time-step timed out. Elapsed since last time-step: 3.03208579994498\n",
      "\u001b[2m\u001b[36m(RolloutWorker pid=1736)\u001b[0m   warnings.warn(f\"Time-step timed out. Elapsed since last time-step: {now - self.__t_end}\")\n"
     ]
    },
    {
     "name": "stdout",
     "output_type": "stream",
     "text": [
      "\u001b[2m\u001b[36m(RolloutWorker pid=1736)\u001b[0m reset triggered\n",
      "\u001b[2m\u001b[36m(RolloutWorker pid=1736)\u001b[0m reload save for track : 72\n"
     ]
    },
    {
     "name": "stderr",
     "output_type": "stream",
     "text": [
      "\u001b[2m\u001b[36m(RolloutWorker pid=1736)\u001b[0m C:\\Users\\nadir\\anaconda3\\envs\\GTRay2.4.0\\lib\\site-packages\\rtgym\\envs\\real_time_env.py:376: UserWarning: Time-step timed out. Elapsed since last time-step: 0.13726749998477317\n",
      "\u001b[2m\u001b[36m(RolloutWorker pid=1736)\u001b[0m   warnings.warn(f\"Time-step timed out. Elapsed since last time-step: {now - self.__t_end}\")\n"
     ]
    },
    {
     "name": "stdout",
     "output_type": "stream",
     "text": [
      "Loop:  257\n"
     ]
    },
    {
     "name": "stderr",
     "output_type": "stream",
     "text": [
      "\u001b[2m\u001b[36m(RolloutWorker pid=1736)\u001b[0m C:\\Users\\nadir\\anaconda3\\envs\\GTRay2.4.0\\lib\\site-packages\\rtgym\\envs\\real_time_env.py:376: UserWarning: Time-step timed out. Elapsed since last time-step: 3.0709440999453363\n",
      "\u001b[2m\u001b[36m(RolloutWorker pid=1736)\u001b[0m   warnings.warn(f\"Time-step timed out. Elapsed since last time-step: {now - self.__t_end}\")\n",
      "\u001b[2m\u001b[36m(RolloutWorker pid=1736)\u001b[0m C:\\Users\\nadir\\anaconda3\\envs\\GTRay2.4.0\\lib\\site-packages\\rtgym\\envs\\real_time_env.py:376: UserWarning: Time-step timed out. Elapsed since last time-step: 0.09957959998519073\n",
      "\u001b[2m\u001b[36m(RolloutWorker pid=1736)\u001b[0m   warnings.warn(f\"Time-step timed out. Elapsed since last time-step: {now - self.__t_end}\")\n"
     ]
    },
    {
     "name": "stdout",
     "output_type": "stream",
     "text": [
      "\u001b[2m\u001b[36m(RolloutWorker pid=1736)\u001b[0m reset triggered\n",
      "\u001b[2m\u001b[36m(RolloutWorker pid=1736)\u001b[0m reload save for track : 72\n",
      "Loop:  258\n"
     ]
    },
    {
     "name": "stderr",
     "output_type": "stream",
     "text": [
      "\u001b[2m\u001b[36m(RolloutWorker pid=1736)\u001b[0m C:\\Users\\nadir\\anaconda3\\envs\\GTRay2.4.0\\lib\\site-packages\\rtgym\\envs\\real_time_env.py:376: UserWarning: Time-step timed out. Elapsed since last time-step: 3.0914618999449885\n",
      "\u001b[2m\u001b[36m(RolloutWorker pid=1736)\u001b[0m   warnings.warn(f\"Time-step timed out. Elapsed since last time-step: {now - self.__t_end}\")\n"
     ]
    },
    {
     "name": "stdout",
     "output_type": "stream",
     "text": [
      "\u001b[2m\u001b[36m(RolloutWorker pid=1736)\u001b[0m reset triggered\n",
      "\u001b[2m\u001b[36m(RolloutWorker pid=1736)\u001b[0m reload save for track : 72\n"
     ]
    },
    {
     "name": "stderr",
     "output_type": "stream",
     "text": [
      "\u001b[2m\u001b[36m(RolloutWorker pid=1736)\u001b[0m C:\\Users\\nadir\\anaconda3\\envs\\GTRay2.4.0\\lib\\site-packages\\rtgym\\envs\\real_time_env.py:376: UserWarning: Time-step timed out. Elapsed since last time-step: 0.1282363999844165\n",
      "\u001b[2m\u001b[36m(RolloutWorker pid=1736)\u001b[0m   warnings.warn(f\"Time-step timed out. Elapsed since last time-step: {now - self.__t_end}\")\n"
     ]
    },
    {
     "name": "stdout",
     "output_type": "stream",
     "text": [
      "Loop:  259\n"
     ]
    },
    {
     "name": "stderr",
     "output_type": "stream",
     "text": [
      "\u001b[2m\u001b[36m(RolloutWorker pid=1736)\u001b[0m C:\\Users\\nadir\\anaconda3\\envs\\GTRay2.4.0\\lib\\site-packages\\rtgym\\envs\\real_time_env.py:376: UserWarning: Time-step timed out. Elapsed since last time-step: 3.04845799994564\n",
      "\u001b[2m\u001b[36m(RolloutWorker pid=1736)\u001b[0m   warnings.warn(f\"Time-step timed out. Elapsed since last time-step: {now - self.__t_end}\")\n"
     ]
    },
    {
     "name": "stdout",
     "output_type": "stream",
     "text": [
      "\u001b[2m\u001b[36m(RolloutWorker pid=1736)\u001b[0m reset triggered\n",
      "\u001b[2m\u001b[36m(RolloutWorker pid=1736)\u001b[0m reload save for track : 72\n"
     ]
    },
    {
     "name": "stderr",
     "output_type": "stream",
     "text": [
      "\u001b[2m\u001b[36m(RolloutWorker pid=1736)\u001b[0m C:\\Users\\nadir\\anaconda3\\envs\\GTRay2.4.0\\lib\\site-packages\\rtgym\\envs\\real_time_env.py:376: UserWarning: Time-step timed out. Elapsed since last time-step: 0.11985649998496228\n",
      "\u001b[2m\u001b[36m(RolloutWorker pid=1736)\u001b[0m   warnings.warn(f\"Time-step timed out. Elapsed since last time-step: {now - self.__t_end}\")\n"
     ]
    },
    {
     "name": "stdout",
     "output_type": "stream",
     "text": [
      "Loop:  260\n",
      "Saved 260\n"
     ]
    },
    {
     "name": "stderr",
     "output_type": "stream",
     "text": [
      "\u001b[2m\u001b[36m(RolloutWorker pid=1736)\u001b[0m C:\\Users\\nadir\\anaconda3\\envs\\GTRay2.4.0\\lib\\site-packages\\rtgym\\envs\\real_time_env.py:376: UserWarning: Time-step timed out. Elapsed since last time-step: 3.1246968999448654\n",
      "\u001b[2m\u001b[36m(RolloutWorker pid=1736)\u001b[0m   warnings.warn(f\"Time-step timed out. Elapsed since last time-step: {now - self.__t_end}\")\n"
     ]
    },
    {
     "name": "stdout",
     "output_type": "stream",
     "text": [
      "\u001b[2m\u001b[36m(RolloutWorker pid=1736)\u001b[0m reset triggered\n",
      "\u001b[2m\u001b[36m(RolloutWorker pid=1736)\u001b[0m reload save for track : 72\n"
     ]
    },
    {
     "name": "stderr",
     "output_type": "stream",
     "text": [
      "\u001b[2m\u001b[36m(RolloutWorker pid=1736)\u001b[0m C:\\Users\\nadir\\anaconda3\\envs\\GTRay2.4.0\\lib\\site-packages\\rtgym\\envs\\real_time_env.py:376: UserWarning: Time-step timed out. Elapsed since last time-step: 0.11767469998540037\n",
      "\u001b[2m\u001b[36m(RolloutWorker pid=1736)\u001b[0m   warnings.warn(f\"Time-step timed out. Elapsed since last time-step: {now - self.__t_end}\")\n"
     ]
    },
    {
     "name": "stdout",
     "output_type": "stream",
     "text": [
      "Loop:  261\n"
     ]
    },
    {
     "name": "stderr",
     "output_type": "stream",
     "text": [
      "\u001b[2m\u001b[36m(RolloutWorker pid=1736)\u001b[0m C:\\Users\\nadir\\anaconda3\\envs\\GTRay2.4.0\\lib\\site-packages\\rtgym\\envs\\real_time_env.py:376: UserWarning: Time-step timed out. Elapsed since last time-step: 3.0221602999445167\n",
      "\u001b[2m\u001b[36m(RolloutWorker pid=1736)\u001b[0m   warnings.warn(f\"Time-step timed out. Elapsed since last time-step: {now - self.__t_end}\")\n"
     ]
    },
    {
     "name": "stdout",
     "output_type": "stream",
     "text": [
      "\u001b[2m\u001b[36m(RolloutWorker pid=1736)\u001b[0m reset triggered\n",
      "\u001b[2m\u001b[36m(RolloutWorker pid=1736)\u001b[0m reload save for track : 72\n"
     ]
    },
    {
     "name": "stderr",
     "output_type": "stream",
     "text": [
      "\u001b[2m\u001b[36m(RolloutWorker pid=1736)\u001b[0m C:\\Users\\nadir\\anaconda3\\envs\\GTRay2.4.0\\lib\\site-packages\\rtgym\\envs\\real_time_env.py:376: UserWarning: Time-step timed out. Elapsed since last time-step: 0.15809609998541418\n",
      "\u001b[2m\u001b[36m(RolloutWorker pid=1736)\u001b[0m   warnings.warn(f\"Time-step timed out. Elapsed since last time-step: {now - self.__t_end}\")\n",
      "\u001b[2m\u001b[36m(RolloutWorker pid=1736)\u001b[0m C:\\Users\\nadir\\anaconda3\\envs\\GTRay2.4.0\\lib\\site-packages\\rtgym\\envs\\real_time_env.py:376: UserWarning: Time-step timed out. Elapsed since last time-step: 0.05611629994564282\n",
      "\u001b[2m\u001b[36m(RolloutWorker pid=1736)\u001b[0m   warnings.warn(f\"Time-step timed out. Elapsed since last time-step: {now - self.__t_end}\")\n"
     ]
    },
    {
     "name": "stdout",
     "output_type": "stream",
     "text": [
      "Loop:  262\n"
     ]
    },
    {
     "name": "stderr",
     "output_type": "stream",
     "text": [
      "\u001b[2m\u001b[36m(RolloutWorker pid=1736)\u001b[0m C:\\Users\\nadir\\anaconda3\\envs\\GTRay2.4.0\\lib\\site-packages\\rtgym\\envs\\real_time_env.py:376: UserWarning: Time-step timed out. Elapsed since last time-step: 2.986915899999076\n",
      "\u001b[2m\u001b[36m(RolloutWorker pid=1736)\u001b[0m   warnings.warn(f\"Time-step timed out. Elapsed since last time-step: {now - self.__t_end}\")\n",
      "\u001b[2m\u001b[36m(RolloutWorker pid=1736)\u001b[0m C:\\Users\\nadir\\anaconda3\\envs\\GTRay2.4.0\\lib\\site-packages\\rtgym\\envs\\real_time_env.py:376: UserWarning: Time-step timed out. Elapsed since last time-step: 0.13667699998495664\n",
      "\u001b[2m\u001b[36m(RolloutWorker pid=1736)\u001b[0m   warnings.warn(f\"Time-step timed out. Elapsed since last time-step: {now - self.__t_end}\")\n"
     ]
    },
    {
     "name": "stdout",
     "output_type": "stream",
     "text": [
      "\u001b[2m\u001b[36m(RolloutWorker pid=1736)\u001b[0m reset triggered\n",
      "\u001b[2m\u001b[36m(RolloutWorker pid=1736)\u001b[0m reload save for track : 72\n",
      "Loop:  263\n"
     ]
    },
    {
     "name": "stderr",
     "output_type": "stream",
     "text": [
      "\u001b[2m\u001b[36m(RolloutWorker pid=1736)\u001b[0m C:\\Users\\nadir\\anaconda3\\envs\\GTRay2.4.0\\lib\\site-packages\\rtgym\\envs\\real_time_env.py:376: UserWarning: Time-step timed out. Elapsed since last time-step: 3.0294590999455977\n",
      "\u001b[2m\u001b[36m(RolloutWorker pid=1736)\u001b[0m   warnings.warn(f\"Time-step timed out. Elapsed since last time-step: {now - self.__t_end}\")\n",
      "\u001b[2m\u001b[36m(RolloutWorker pid=1736)\u001b[0m C:\\Users\\nadir\\anaconda3\\envs\\GTRay2.4.0\\lib\\site-packages\\rtgym\\envs\\real_time_env.py:376: UserWarning: Time-step timed out. Elapsed since last time-step: 0.12084789998516499\n",
      "\u001b[2m\u001b[36m(RolloutWorker pid=1736)\u001b[0m   warnings.warn(f\"Time-step timed out. Elapsed since last time-step: {now - self.__t_end}\")\n"
     ]
    },
    {
     "name": "stdout",
     "output_type": "stream",
     "text": [
      "\u001b[2m\u001b[36m(RolloutWorker pid=1736)\u001b[0m reset triggered\n",
      "\u001b[2m\u001b[36m(RolloutWorker pid=1736)\u001b[0m reload save for track : 72\n",
      "Loop:  264\n"
     ]
    },
    {
     "name": "stderr",
     "output_type": "stream",
     "text": [
      "\u001b[2m\u001b[36m(RolloutWorker pid=1736)\u001b[0m C:\\Users\\nadir\\anaconda3\\envs\\GTRay2.4.0\\lib\\site-packages\\rtgym\\envs\\real_time_env.py:376: UserWarning: Time-step timed out. Elapsed since last time-step: 2.921632699944894\n",
      "\u001b[2m\u001b[36m(RolloutWorker pid=1736)\u001b[0m   warnings.warn(f\"Time-step timed out. Elapsed since last time-step: {now - self.__t_end}\")\n"
     ]
    },
    {
     "name": "stdout",
     "output_type": "stream",
     "text": [
      "\u001b[2m\u001b[36m(RolloutWorker pid=1736)\u001b[0m reset triggered\n",
      "\u001b[2m\u001b[36m(RolloutWorker pid=1736)\u001b[0m reload save for track : 72\n"
     ]
    },
    {
     "name": "stderr",
     "output_type": "stream",
     "text": [
      "\u001b[2m\u001b[36m(RolloutWorker pid=1736)\u001b[0m C:\\Users\\nadir\\anaconda3\\envs\\GTRay2.4.0\\lib\\site-packages\\rtgym\\envs\\real_time_env.py:376: UserWarning: Time-step timed out. Elapsed since last time-step: 0.1335745999849678\n",
      "\u001b[2m\u001b[36m(RolloutWorker pid=1736)\u001b[0m   warnings.warn(f\"Time-step timed out. Elapsed since last time-step: {now - self.__t_end}\")\n"
     ]
    },
    {
     "name": "stdout",
     "output_type": "stream",
     "text": [
      "Loop:  265\n"
     ]
    },
    {
     "name": "stderr",
     "output_type": "stream",
     "text": [
      "\u001b[2m\u001b[36m(RolloutWorker pid=1736)\u001b[0m C:\\Users\\nadir\\anaconda3\\envs\\GTRay2.4.0\\lib\\site-packages\\rtgym\\envs\\real_time_env.py:376: UserWarning: Time-step timed out. Elapsed since last time-step: 3.0473993999448794\n",
      "\u001b[2m\u001b[36m(RolloutWorker pid=1736)\u001b[0m   warnings.warn(f\"Time-step timed out. Elapsed since last time-step: {now - self.__t_end}\")\n"
     ]
    },
    {
     "name": "stdout",
     "output_type": "stream",
     "text": [
      "\u001b[2m\u001b[36m(RolloutWorker pid=1736)\u001b[0m reset triggered\n",
      "\u001b[2m\u001b[36m(RolloutWorker pid=1736)\u001b[0m reload save for track : 72\n"
     ]
    },
    {
     "name": "stderr",
     "output_type": "stream",
     "text": [
      "\u001b[2m\u001b[36m(RolloutWorker pid=1736)\u001b[0m C:\\Users\\nadir\\anaconda3\\envs\\GTRay2.4.0\\lib\\site-packages\\rtgym\\envs\\real_time_env.py:376: UserWarning: Time-step timed out. Elapsed since last time-step: 0.1364561999853322\n",
      "\u001b[2m\u001b[36m(RolloutWorker pid=1736)\u001b[0m   warnings.warn(f\"Time-step timed out. Elapsed since last time-step: {now - self.__t_end}\")\n"
     ]
    },
    {
     "name": "stdout",
     "output_type": "stream",
     "text": [
      "Loop:  266\n"
     ]
    },
    {
     "name": "stderr",
     "output_type": "stream",
     "text": [
      "\u001b[2m\u001b[36m(RolloutWorker pid=1736)\u001b[0m C:\\Users\\nadir\\anaconda3\\envs\\GTRay2.4.0\\lib\\site-packages\\rtgym\\envs\\real_time_env.py:376: UserWarning: Time-step timed out. Elapsed since last time-step: 3.05236529994545\n",
      "\u001b[2m\u001b[36m(RolloutWorker pid=1736)\u001b[0m   warnings.warn(f\"Time-step timed out. Elapsed since last time-step: {now - self.__t_end}\")\n"
     ]
    },
    {
     "name": "stdout",
     "output_type": "stream",
     "text": [
      "\u001b[2m\u001b[36m(RolloutWorker pid=1736)\u001b[0m reset triggered\n",
      "\u001b[2m\u001b[36m(RolloutWorker pid=1736)\u001b[0m reload save for track : 72\n"
     ]
    },
    {
     "name": "stderr",
     "output_type": "stream",
     "text": [
      "\u001b[2m\u001b[36m(RolloutWorker pid=1736)\u001b[0m C:\\Users\\nadir\\anaconda3\\envs\\GTRay2.4.0\\lib\\site-packages\\rtgym\\envs\\real_time_env.py:376: UserWarning: Time-step timed out. Elapsed since last time-step: 0.14912479998474737\n",
      "\u001b[2m\u001b[36m(RolloutWorker pid=1736)\u001b[0m   warnings.warn(f\"Time-step timed out. Elapsed since last time-step: {now - self.__t_end}\")\n",
      "\u001b[2m\u001b[36m(RolloutWorker pid=1736)\u001b[0m C:\\Users\\nadir\\anaconda3\\envs\\GTRay2.4.0\\lib\\site-packages\\rtgym\\envs\\real_time_env.py:376: UserWarning: Time-step timed out. Elapsed since last time-step: 0.135117399999217\n",
      "\u001b[2m\u001b[36m(RolloutWorker pid=1736)\u001b[0m   warnings.warn(f\"Time-step timed out. Elapsed since last time-step: {now - self.__t_end}\")\n",
      "\u001b[2m\u001b[36m(RolloutWorker pid=1736)\u001b[0m C:\\Users\\nadir\\anaconda3\\envs\\GTRay2.4.0\\lib\\site-packages\\rtgym\\envs\\real_time_env.py:376: UserWarning: Time-step timed out. Elapsed since last time-step: 0.05768679994616832\n",
      "\u001b[2m\u001b[36m(RolloutWorker pid=1736)\u001b[0m   warnings.warn(f\"Time-step timed out. Elapsed since last time-step: {now - self.__t_end}\")\n"
     ]
    },
    {
     "name": "stdout",
     "output_type": "stream",
     "text": [
      "Loop:  267\n"
     ]
    },
    {
     "name": "stderr",
     "output_type": "stream",
     "text": [
      "\u001b[2m\u001b[36m(RolloutWorker pid=1736)\u001b[0m C:\\Users\\nadir\\anaconda3\\envs\\GTRay2.4.0\\lib\\site-packages\\rtgym\\envs\\real_time_env.py:376: UserWarning: Time-step timed out. Elapsed since last time-step: 3.0364112999995996\n",
      "\u001b[2m\u001b[36m(RolloutWorker pid=1736)\u001b[0m   warnings.warn(f\"Time-step timed out. Elapsed since last time-step: {now - self.__t_end}\")\n"
     ]
    },
    {
     "name": "stdout",
     "output_type": "stream",
     "text": [
      "\u001b[2m\u001b[36m(RolloutWorker pid=1736)\u001b[0m reset triggered\n",
      "\u001b[2m\u001b[36m(RolloutWorker pid=1736)\u001b[0m reload save for track : 72\n"
     ]
    },
    {
     "name": "stderr",
     "output_type": "stream",
     "text": [
      "\u001b[2m\u001b[36m(RolloutWorker pid=1736)\u001b[0m C:\\Users\\nadir\\anaconda3\\envs\\GTRay2.4.0\\lib\\site-packages\\rtgym\\envs\\real_time_env.py:376: UserWarning: Time-step timed out. Elapsed since last time-step: 0.1452464999847507\n",
      "\u001b[2m\u001b[36m(RolloutWorker pid=1736)\u001b[0m   warnings.warn(f\"Time-step timed out. Elapsed since last time-step: {now - self.__t_end}\")\n",
      "\u001b[2m\u001b[36m(RolloutWorker pid=1736)\u001b[0m C:\\Users\\nadir\\anaconda3\\envs\\GTRay2.4.0\\lib\\site-packages\\rtgym\\envs\\real_time_env.py:376: UserWarning: Time-step timed out. Elapsed since last time-step: 0.05940789994565421\n",
      "\u001b[2m\u001b[36m(RolloutWorker pid=1736)\u001b[0m   warnings.warn(f\"Time-step timed out. Elapsed since last time-step: {now - self.__t_end}\")\n"
     ]
    },
    {
     "name": "stdout",
     "output_type": "stream",
     "text": [
      "Loop:  268\n"
     ]
    },
    {
     "name": "stderr",
     "output_type": "stream",
     "text": [
      "\u001b[2m\u001b[36m(RolloutWorker pid=1736)\u001b[0m C:\\Users\\nadir\\anaconda3\\envs\\GTRay2.4.0\\lib\\site-packages\\rtgym\\envs\\real_time_env.py:376: UserWarning: Time-step timed out. Elapsed since last time-step: 2.978845999999976\n",
      "\u001b[2m\u001b[36m(RolloutWorker pid=1736)\u001b[0m   warnings.warn(f\"Time-step timed out. Elapsed since last time-step: {now - self.__t_end}\")\n"
     ]
    },
    {
     "name": "stdout",
     "output_type": "stream",
     "text": [
      "\u001b[2m\u001b[36m(RolloutWorker pid=1736)\u001b[0m reset triggered\n",
      "\u001b[2m\u001b[36m(RolloutWorker pid=1736)\u001b[0m reload save for track : 72\n"
     ]
    },
    {
     "name": "stderr",
     "output_type": "stream",
     "text": [
      "\u001b[2m\u001b[36m(RolloutWorker pid=1736)\u001b[0m C:\\Users\\nadir\\anaconda3\\envs\\GTRay2.4.0\\lib\\site-packages\\rtgym\\envs\\real_time_env.py:376: UserWarning: Time-step timed out. Elapsed since last time-step: 0.1476119999852017\n",
      "\u001b[2m\u001b[36m(RolloutWorker pid=1736)\u001b[0m   warnings.warn(f\"Time-step timed out. Elapsed since last time-step: {now - self.__t_end}\")\n"
     ]
    },
    {
     "name": "stdout",
     "output_type": "stream",
     "text": [
      "Loop:  269\n"
     ]
    },
    {
     "name": "stderr",
     "output_type": "stream",
     "text": [
      "\u001b[2m\u001b[36m(RolloutWorker pid=1736)\u001b[0m C:\\Users\\nadir\\anaconda3\\envs\\GTRay2.4.0\\lib\\site-packages\\rtgym\\envs\\real_time_env.py:376: UserWarning: Time-step timed out. Elapsed since last time-step: 3.0546516999447704\n",
      "\u001b[2m\u001b[36m(RolloutWorker pid=1736)\u001b[0m   warnings.warn(f\"Time-step timed out. Elapsed since last time-step: {now - self.__t_end}\")\n",
      "\u001b[2m\u001b[36m(RolloutWorker pid=1736)\u001b[0m C:\\Users\\nadir\\anaconda3\\envs\\GTRay2.4.0\\lib\\site-packages\\rtgym\\envs\\real_time_env.py:376: UserWarning: Time-step timed out. Elapsed since last time-step: 0.13624359998539148\n",
      "\u001b[2m\u001b[36m(RolloutWorker pid=1736)\u001b[0m   warnings.warn(f\"Time-step timed out. Elapsed since last time-step: {now - self.__t_end}\")\n"
     ]
    },
    {
     "name": "stdout",
     "output_type": "stream",
     "text": [
      "\u001b[2m\u001b[36m(RolloutWorker pid=1736)\u001b[0m reset triggered\n",
      "\u001b[2m\u001b[36m(RolloutWorker pid=1736)\u001b[0m reload save for track : 72\n"
     ]
    },
    {
     "name": "stderr",
     "output_type": "stream",
     "text": [
      "\u001b[2m\u001b[36m(RolloutWorker pid=1736)\u001b[0m C:\\Users\\nadir\\anaconda3\\envs\\GTRay2.4.0\\lib\\site-packages\\rtgym\\envs\\real_time_env.py:376: UserWarning: Time-step timed out. Elapsed since last time-step: 0.05036999994536018\n",
      "\u001b[2m\u001b[36m(RolloutWorker pid=1736)\u001b[0m   warnings.warn(f\"Time-step timed out. Elapsed since last time-step: {now - self.__t_end}\")\n"
     ]
    },
    {
     "name": "stdout",
     "output_type": "stream",
     "text": [
      "Loop:  270\n",
      "Saved 270\n"
     ]
    },
    {
     "name": "stderr",
     "output_type": "stream",
     "text": [
      "\u001b[2m\u001b[36m(RolloutWorker pid=1736)\u001b[0m C:\\Users\\nadir\\anaconda3\\envs\\GTRay2.4.0\\lib\\site-packages\\rtgym\\envs\\real_time_env.py:376: UserWarning: Time-step timed out. Elapsed since last time-step: 3.140117299999474\n",
      "\u001b[2m\u001b[36m(RolloutWorker pid=1736)\u001b[0m   warnings.warn(f\"Time-step timed out. Elapsed since last time-step: {now - self.__t_end}\")\n"
     ]
    },
    {
     "name": "stdout",
     "output_type": "stream",
     "text": [
      "\u001b[2m\u001b[36m(RolloutWorker pid=1736)\u001b[0m reset triggered\n",
      "\u001b[2m\u001b[36m(RolloutWorker pid=1736)\u001b[0m reload save for track : 72\n"
     ]
    },
    {
     "name": "stderr",
     "output_type": "stream",
     "text": [
      "\u001b[2m\u001b[36m(RolloutWorker pid=1736)\u001b[0m C:\\Users\\nadir\\anaconda3\\envs\\GTRay2.4.0\\lib\\site-packages\\rtgym\\envs\\real_time_env.py:376: UserWarning: Time-step timed out. Elapsed since last time-step: 0.1382966999854034\n",
      "\u001b[2m\u001b[36m(RolloutWorker pid=1736)\u001b[0m   warnings.warn(f\"Time-step timed out. Elapsed since last time-step: {now - self.__t_end}\")\n",
      "\u001b[2m\u001b[36m(RolloutWorker pid=1736)\u001b[0m C:\\Users\\nadir\\anaconda3\\envs\\GTRay2.4.0\\lib\\site-packages\\rtgym\\envs\\real_time_env.py:376: UserWarning: Time-step timed out. Elapsed since last time-step: 0.05349939994448505\n",
      "\u001b[2m\u001b[36m(RolloutWorker pid=1736)\u001b[0m   warnings.warn(f\"Time-step timed out. Elapsed since last time-step: {now - self.__t_end}\")\n"
     ]
    },
    {
     "name": "stdout",
     "output_type": "stream",
     "text": [
      "Loop:  271\n"
     ]
    },
    {
     "name": "stderr",
     "output_type": "stream",
     "text": [
      "\u001b[2m\u001b[36m(RolloutWorker pid=1736)\u001b[0m C:\\Users\\nadir\\anaconda3\\envs\\GTRay2.4.0\\lib\\site-packages\\rtgym\\envs\\real_time_env.py:376: UserWarning: Time-step timed out. Elapsed since last time-step: 3.072266500000296\n",
      "\u001b[2m\u001b[36m(RolloutWorker pid=1736)\u001b[0m   warnings.warn(f\"Time-step timed out. Elapsed since last time-step: {now - self.__t_end}\")\n"
     ]
    },
    {
     "name": "stdout",
     "output_type": "stream",
     "text": [
      "\u001b[2m\u001b[36m(RolloutWorker pid=1736)\u001b[0m reset triggered\n",
      "\u001b[2m\u001b[36m(RolloutWorker pid=1736)\u001b[0m reload save for track : 72\n"
     ]
    },
    {
     "name": "stderr",
     "output_type": "stream",
     "text": [
      "\u001b[2m\u001b[36m(RolloutWorker pid=1736)\u001b[0m C:\\Users\\nadir\\anaconda3\\envs\\GTRay2.4.0\\lib\\site-packages\\rtgym\\envs\\real_time_env.py:376: UserWarning: Time-step timed out. Elapsed since last time-step: 0.15485519998492236\n",
      "\u001b[2m\u001b[36m(RolloutWorker pid=1736)\u001b[0m   warnings.warn(f\"Time-step timed out. Elapsed since last time-step: {now - self.__t_end}\")\n"
     ]
    },
    {
     "name": "stdout",
     "output_type": "stream",
     "text": [
      "Loop:  272\n"
     ]
    },
    {
     "name": "stderr",
     "output_type": "stream",
     "text": [
      "\u001b[2m\u001b[36m(RolloutWorker pid=1736)\u001b[0m C:\\Users\\nadir\\anaconda3\\envs\\GTRay2.4.0\\lib\\site-packages\\rtgym\\envs\\real_time_env.py:376: UserWarning: Time-step timed out. Elapsed since last time-step: 3.0314784999454787\n",
      "\u001b[2m\u001b[36m(RolloutWorker pid=1736)\u001b[0m   warnings.warn(f\"Time-step timed out. Elapsed since last time-step: {now - self.__t_end}\")\n"
     ]
    },
    {
     "name": "stdout",
     "output_type": "stream",
     "text": [
      "\u001b[2m\u001b[36m(RolloutWorker pid=1736)\u001b[0m reset triggered\n",
      "\u001b[2m\u001b[36m(RolloutWorker pid=1736)\u001b[0m reload save for track : 72\n"
     ]
    },
    {
     "name": "stderr",
     "output_type": "stream",
     "text": [
      "\u001b[2m\u001b[36m(RolloutWorker pid=1736)\u001b[0m C:\\Users\\nadir\\anaconda3\\envs\\GTRay2.4.0\\lib\\site-packages\\rtgym\\envs\\real_time_env.py:376: UserWarning: Time-step timed out. Elapsed since last time-step: 0.1285876999845641\n",
      "\u001b[2m\u001b[36m(RolloutWorker pid=1736)\u001b[0m   warnings.warn(f\"Time-step timed out. Elapsed since last time-step: {now - self.__t_end}\")\n"
     ]
    },
    {
     "name": "stdout",
     "output_type": "stream",
     "text": [
      "Loop:  273\n"
     ]
    },
    {
     "name": "stderr",
     "output_type": "stream",
     "text": [
      "\u001b[2m\u001b[36m(RolloutWorker pid=1736)\u001b[0m C:\\Users\\nadir\\anaconda3\\envs\\GTRay2.4.0\\lib\\site-packages\\rtgym\\envs\\real_time_env.py:376: UserWarning: Time-step timed out. Elapsed since last time-step: 3.1007677999450607\n",
      "\u001b[2m\u001b[36m(RolloutWorker pid=1736)\u001b[0m   warnings.warn(f\"Time-step timed out. Elapsed since last time-step: {now - self.__t_end}\")\n"
     ]
    },
    {
     "name": "stdout",
     "output_type": "stream",
     "text": [
      "\u001b[2m\u001b[36m(RolloutWorker pid=1736)\u001b[0m reset triggered\n",
      "\u001b[2m\u001b[36m(RolloutWorker pid=1736)\u001b[0m reload save for track : 72\n"
     ]
    },
    {
     "name": "stderr",
     "output_type": "stream",
     "text": [
      "\u001b[2m\u001b[36m(RolloutWorker pid=1736)\u001b[0m C:\\Users\\nadir\\anaconda3\\envs\\GTRay2.4.0\\lib\\site-packages\\rtgym\\envs\\real_time_env.py:376: UserWarning: Time-step timed out. Elapsed since last time-step: 0.15285999998559419\n",
      "\u001b[2m\u001b[36m(RolloutWorker pid=1736)\u001b[0m   warnings.warn(f\"Time-step timed out. Elapsed since last time-step: {now - self.__t_end}\")\n",
      "\u001b[2m\u001b[36m(RolloutWorker pid=1736)\u001b[0m C:\\Users\\nadir\\anaconda3\\envs\\GTRay2.4.0\\lib\\site-packages\\rtgym\\envs\\real_time_env.py:376: UserWarning: Time-step timed out. Elapsed since last time-step: 0.05782149994502106\n",
      "\u001b[2m\u001b[36m(RolloutWorker pid=1736)\u001b[0m   warnings.warn(f\"Time-step timed out. Elapsed since last time-step: {now - self.__t_end}\")\n"
     ]
    },
    {
     "name": "stdout",
     "output_type": "stream",
     "text": [
      "Loop:  274\n"
     ]
    },
    {
     "name": "stderr",
     "output_type": "stream",
     "text": [
      "\u001b[2m\u001b[36m(RolloutWorker pid=1736)\u001b[0m C:\\Users\\nadir\\anaconda3\\envs\\GTRay2.4.0\\lib\\site-packages\\rtgym\\envs\\real_time_env.py:376: UserWarning: Time-step timed out. Elapsed since last time-step: 2.975798099999338\n",
      "\u001b[2m\u001b[36m(RolloutWorker pid=1736)\u001b[0m   warnings.warn(f\"Time-step timed out. Elapsed since last time-step: {now - self.__t_end}\")\n",
      "\u001b[2m\u001b[36m(RolloutWorker pid=1736)\u001b[0m C:\\Users\\nadir\\anaconda3\\envs\\GTRay2.4.0\\lib\\site-packages\\rtgym\\envs\\real_time_env.py:376: UserWarning: Time-step timed out. Elapsed since last time-step: 0.12267399998563633\n",
      "\u001b[2m\u001b[36m(RolloutWorker pid=1736)\u001b[0m   warnings.warn(f\"Time-step timed out. Elapsed since last time-step: {now - self.__t_end}\")\n"
     ]
    },
    {
     "name": "stdout",
     "output_type": "stream",
     "text": [
      "\u001b[2m\u001b[36m(RolloutWorker pid=1736)\u001b[0m reset triggered\n",
      "\u001b[2m\u001b[36m(RolloutWorker pid=1736)\u001b[0m reload save for track : 72\n",
      "Loop:  275\n"
     ]
    },
    {
     "name": "stderr",
     "output_type": "stream",
     "text": [
      "\u001b[2m\u001b[36m(RolloutWorker pid=1736)\u001b[0m C:\\Users\\nadir\\anaconda3\\envs\\GTRay2.4.0\\lib\\site-packages\\rtgym\\envs\\real_time_env.py:376: UserWarning: Time-step timed out. Elapsed since last time-step: 3.025534199944559\n",
      "\u001b[2m\u001b[36m(RolloutWorker pid=1736)\u001b[0m   warnings.warn(f\"Time-step timed out. Elapsed since last time-step: {now - self.__t_end}\")\n"
     ]
    },
    {
     "name": "stdout",
     "output_type": "stream",
     "text": [
      "\u001b[2m\u001b[36m(RolloutWorker pid=1736)\u001b[0m reset triggered\n",
      "\u001b[2m\u001b[36m(RolloutWorker pid=1736)\u001b[0m reload save for track : 72\n"
     ]
    },
    {
     "name": "stderr",
     "output_type": "stream",
     "text": [
      "\u001b[2m\u001b[36m(RolloutWorker pid=1736)\u001b[0m C:\\Users\\nadir\\anaconda3\\envs\\GTRay2.4.0\\lib\\site-packages\\rtgym\\envs\\real_time_env.py:376: UserWarning: Time-step timed out. Elapsed since last time-step: 0.13920009998582827\n",
      "\u001b[2m\u001b[36m(RolloutWorker pid=1736)\u001b[0m   warnings.warn(f\"Time-step timed out. Elapsed since last time-step: {now - self.__t_end}\")\n"
     ]
    },
    {
     "name": "stdout",
     "output_type": "stream",
     "text": [
      "Loop:  276\n"
     ]
    },
    {
     "name": "stderr",
     "output_type": "stream",
     "text": [
      "\u001b[2m\u001b[36m(RolloutWorker pid=1736)\u001b[0m C:\\Users\\nadir\\anaconda3\\envs\\GTRay2.4.0\\lib\\site-packages\\rtgym\\envs\\real_time_env.py:376: UserWarning: Time-step timed out. Elapsed since last time-step: 3.0741821999445165\n",
      "\u001b[2m\u001b[36m(RolloutWorker pid=1736)\u001b[0m   warnings.warn(f\"Time-step timed out. Elapsed since last time-step: {now - self.__t_end}\")\n"
     ]
    },
    {
     "name": "stdout",
     "output_type": "stream",
     "text": [
      "\u001b[2m\u001b[36m(RolloutWorker pid=1736)\u001b[0m reset triggered\n",
      "\u001b[2m\u001b[36m(RolloutWorker pid=1736)\u001b[0m reload save for track : 72\n"
     ]
    },
    {
     "name": "stderr",
     "output_type": "stream",
     "text": [
      "\u001b[2m\u001b[36m(RolloutWorker pid=1736)\u001b[0m C:\\Users\\nadir\\anaconda3\\envs\\GTRay2.4.0\\lib\\site-packages\\rtgym\\envs\\real_time_env.py:376: UserWarning: Time-step timed out. Elapsed since last time-step: 0.13605479998568626\n",
      "\u001b[2m\u001b[36m(RolloutWorker pid=1736)\u001b[0m   warnings.warn(f\"Time-step timed out. Elapsed since last time-step: {now - self.__t_end}\")\n",
      "\u001b[2m\u001b[36m(RolloutWorker pid=1736)\u001b[0m C:\\Users\\nadir\\anaconda3\\envs\\GTRay2.4.0\\lib\\site-packages\\rtgym\\envs\\real_time_env.py:376: UserWarning: Time-step timed out. Elapsed since last time-step: 0.050401099944792804\n",
      "\u001b[2m\u001b[36m(RolloutWorker pid=1736)\u001b[0m   warnings.warn(f\"Time-step timed out. Elapsed since last time-step: {now - self.__t_end}\")\n"
     ]
    },
    {
     "name": "stdout",
     "output_type": "stream",
     "text": [
      "Loop:  277\n"
     ]
    },
    {
     "name": "stderr",
     "output_type": "stream",
     "text": [
      "\u001b[2m\u001b[36m(RolloutWorker pid=1736)\u001b[0m C:\\Users\\nadir\\anaconda3\\envs\\GTRay2.4.0\\lib\\site-packages\\rtgym\\envs\\real_time_env.py:376: UserWarning: Time-step timed out. Elapsed since last time-step: 3.0308258999993996\n",
      "\u001b[2m\u001b[36m(RolloutWorker pid=1736)\u001b[0m   warnings.warn(f\"Time-step timed out. Elapsed since last time-step: {now - self.__t_end}\")\n",
      "\u001b[2m\u001b[36m(RolloutWorker pid=1736)\u001b[0m C:\\Users\\nadir\\anaconda3\\envs\\GTRay2.4.0\\lib\\site-packages\\rtgym\\envs\\real_time_env.py:376: UserWarning: Time-step timed out. Elapsed since last time-step: 0.12387409998518706\n",
      "\u001b[2m\u001b[36m(RolloutWorker pid=1736)\u001b[0m   warnings.warn(f\"Time-step timed out. Elapsed since last time-step: {now - self.__t_end}\")\n"
     ]
    },
    {
     "name": "stdout",
     "output_type": "stream",
     "text": [
      "\u001b[2m\u001b[36m(RolloutWorker pid=1736)\u001b[0m reset triggered\n",
      "\u001b[2m\u001b[36m(RolloutWorker pid=1736)\u001b[0m reload save for track : 72\n",
      "Loop:  278\n"
     ]
    },
    {
     "name": "stderr",
     "output_type": "stream",
     "text": [
      "\u001b[2m\u001b[36m(RolloutWorker pid=1736)\u001b[0m C:\\Users\\nadir\\anaconda3\\envs\\GTRay2.4.0\\lib\\site-packages\\rtgym\\envs\\real_time_env.py:376: UserWarning: Time-step timed out. Elapsed since last time-step: 3.0328647999458553\n",
      "\u001b[2m\u001b[36m(RolloutWorker pid=1736)\u001b[0m   warnings.warn(f\"Time-step timed out. Elapsed since last time-step: {now - self.__t_end}\")\n"
     ]
    },
    {
     "name": "stdout",
     "output_type": "stream",
     "text": [
      "\u001b[2m\u001b[36m(RolloutWorker pid=1736)\u001b[0m reset triggered\n",
      "\u001b[2m\u001b[36m(RolloutWorker pid=1736)\u001b[0m reload save for track : 72\n"
     ]
    },
    {
     "name": "stderr",
     "output_type": "stream",
     "text": [
      "\u001b[2m\u001b[36m(RolloutWorker pid=1736)\u001b[0m C:\\Users\\nadir\\anaconda3\\envs\\GTRay2.4.0\\lib\\site-packages\\rtgym\\envs\\real_time_env.py:376: UserWarning: Time-step timed out. Elapsed since last time-step: 0.13713729998471536\n",
      "\u001b[2m\u001b[36m(RolloutWorker pid=1736)\u001b[0m   warnings.warn(f\"Time-step timed out. Elapsed since last time-step: {now - self.__t_end}\")\n",
      "\u001b[2m\u001b[36m(RolloutWorker pid=1736)\u001b[0m C:\\Users\\nadir\\anaconda3\\envs\\GTRay2.4.0\\lib\\site-packages\\rtgym\\envs\\real_time_env.py:376: UserWarning: Time-step timed out. Elapsed since last time-step: 0.05406219994529238\n",
      "\u001b[2m\u001b[36m(RolloutWorker pid=1736)\u001b[0m   warnings.warn(f\"Time-step timed out. Elapsed since last time-step: {now - self.__t_end}\")\n"
     ]
    },
    {
     "name": "stdout",
     "output_type": "stream",
     "text": [
      "Loop:  279\n"
     ]
    },
    {
     "name": "stderr",
     "output_type": "stream",
     "text": [
      "\u001b[2m\u001b[36m(RolloutWorker pid=1736)\u001b[0m C:\\Users\\nadir\\anaconda3\\envs\\GTRay2.4.0\\lib\\site-packages\\rtgym\\envs\\real_time_env.py:376: UserWarning: Time-step timed out. Elapsed since last time-step: 3.024242699999377\n",
      "\u001b[2m\u001b[36m(RolloutWorker pid=1736)\u001b[0m   warnings.warn(f\"Time-step timed out. Elapsed since last time-step: {now - self.__t_end}\")\n"
     ]
    },
    {
     "name": "stdout",
     "output_type": "stream",
     "text": [
      "\u001b[2m\u001b[36m(RolloutWorker pid=1736)\u001b[0m reset triggered\n",
      "\u001b[2m\u001b[36m(RolloutWorker pid=1736)\u001b[0m reload save for track : 72\n"
     ]
    },
    {
     "name": "stderr",
     "output_type": "stream",
     "text": [
      "\u001b[2m\u001b[36m(RolloutWorker pid=1736)\u001b[0m C:\\Users\\nadir\\anaconda3\\envs\\GTRay2.4.0\\lib\\site-packages\\rtgym\\envs\\real_time_env.py:376: UserWarning: Time-step timed out. Elapsed since last time-step: 0.1467055999855802\n",
      "\u001b[2m\u001b[36m(RolloutWorker pid=1736)\u001b[0m   warnings.warn(f\"Time-step timed out. Elapsed since last time-step: {now - self.__t_end}\")\n"
     ]
    },
    {
     "name": "stdout",
     "output_type": "stream",
     "text": [
      "Loop:  280\n",
      "Saved 280\n"
     ]
    },
    {
     "name": "stderr",
     "output_type": "stream",
     "text": [
      "\u001b[2m\u001b[36m(RolloutWorker pid=1736)\u001b[0m C:\\Users\\nadir\\anaconda3\\envs\\GTRay2.4.0\\lib\\site-packages\\rtgym\\envs\\real_time_env.py:376: UserWarning: Time-step timed out. Elapsed since last time-step: 3.124574099944766\n",
      "\u001b[2m\u001b[36m(RolloutWorker pid=1736)\u001b[0m   warnings.warn(f\"Time-step timed out. Elapsed since last time-step: {now - self.__t_end}\")\n"
     ]
    },
    {
     "name": "stdout",
     "output_type": "stream",
     "text": [
      "\u001b[2m\u001b[36m(RolloutWorker pid=1736)\u001b[0m reset triggered\n",
      "\u001b[2m\u001b[36m(RolloutWorker pid=1736)\u001b[0m reload save for track : 72\n"
     ]
    },
    {
     "name": "stderr",
     "output_type": "stream",
     "text": [
      "\u001b[2m\u001b[36m(RolloutWorker pid=1736)\u001b[0m C:\\Users\\nadir\\anaconda3\\envs\\GTRay2.4.0\\lib\\site-packages\\rtgym\\envs\\real_time_env.py:376: UserWarning: Time-step timed out. Elapsed since last time-step: 0.12059289998524036\n",
      "\u001b[2m\u001b[36m(RolloutWorker pid=1736)\u001b[0m   warnings.warn(f\"Time-step timed out. Elapsed since last time-step: {now - self.__t_end}\")\n"
     ]
    },
    {
     "name": "stdout",
     "output_type": "stream",
     "text": [
      "Loop:  281\n"
     ]
    },
    {
     "name": "stderr",
     "output_type": "stream",
     "text": [
      "\u001b[2m\u001b[36m(RolloutWorker pid=1736)\u001b[0m C:\\Users\\nadir\\anaconda3\\envs\\GTRay2.4.0\\lib\\site-packages\\rtgym\\envs\\real_time_env.py:376: UserWarning: Time-step timed out. Elapsed since last time-step: 2.9775786999452976\n",
      "\u001b[2m\u001b[36m(RolloutWorker pid=1736)\u001b[0m   warnings.warn(f\"Time-step timed out. Elapsed since last time-step: {now - self.__t_end}\")\n"
     ]
    },
    {
     "name": "stdout",
     "output_type": "stream",
     "text": [
      "\u001b[2m\u001b[36m(RolloutWorker pid=1736)\u001b[0m reset triggered\n",
      "\u001b[2m\u001b[36m(RolloutWorker pid=1736)\u001b[0m reload save for track : 72\n"
     ]
    },
    {
     "name": "stderr",
     "output_type": "stream",
     "text": [
      "\u001b[2m\u001b[36m(RolloutWorker pid=1736)\u001b[0m C:\\Users\\nadir\\anaconda3\\envs\\GTRay2.4.0\\lib\\site-packages\\rtgym\\envs\\real_time_env.py:376: UserWarning: Time-step timed out. Elapsed since last time-step: 0.13115549998474307\n",
      "\u001b[2m\u001b[36m(RolloutWorker pid=1736)\u001b[0m   warnings.warn(f\"Time-step timed out. Elapsed since last time-step: {now - self.__t_end}\")\n",
      "\u001b[2m\u001b[36m(RolloutWorker pid=1736)\u001b[0m C:\\Users\\nadir\\anaconda3\\envs\\GTRay2.4.0\\lib\\site-packages\\rtgym\\envs\\real_time_env.py:376: UserWarning: Time-step timed out. Elapsed since last time-step: 0.06575509994490858\n",
      "\u001b[2m\u001b[36m(RolloutWorker pid=1736)\u001b[0m   warnings.warn(f\"Time-step timed out. Elapsed since last time-step: {now - self.__t_end}\")\n"
     ]
    },
    {
     "name": "stdout",
     "output_type": "stream",
     "text": [
      "Loop:  282\n"
     ]
    },
    {
     "name": "stderr",
     "output_type": "stream",
     "text": [
      "\u001b[2m\u001b[36m(RolloutWorker pid=1736)\u001b[0m C:\\Users\\nadir\\anaconda3\\envs\\GTRay2.4.0\\lib\\site-packages\\rtgym\\envs\\real_time_env.py:376: UserWarning: Time-step timed out. Elapsed since last time-step: 3.060643499999969\n",
      "\u001b[2m\u001b[36m(RolloutWorker pid=1736)\u001b[0m   warnings.warn(f\"Time-step timed out. Elapsed since last time-step: {now - self.__t_end}\")\n"
     ]
    },
    {
     "name": "stdout",
     "output_type": "stream",
     "text": [
      "\u001b[2m\u001b[36m(RolloutWorker pid=1736)\u001b[0m reset triggered\n",
      "\u001b[2m\u001b[36m(RolloutWorker pid=1736)\u001b[0m reload save for track : 72\n"
     ]
    },
    {
     "name": "stderr",
     "output_type": "stream",
     "text": [
      "\u001b[2m\u001b[36m(RolloutWorker pid=1736)\u001b[0m C:\\Users\\nadir\\anaconda3\\envs\\GTRay2.4.0\\lib\\site-packages\\rtgym\\envs\\real_time_env.py:376: UserWarning: Time-step timed out. Elapsed since last time-step: 0.12498009998489579\n",
      "\u001b[2m\u001b[36m(RolloutWorker pid=1736)\u001b[0m   warnings.warn(f\"Time-step timed out. Elapsed since last time-step: {now - self.__t_end}\")\n",
      "\u001b[2m\u001b[36m(RolloutWorker pid=1736)\u001b[0m C:\\Users\\nadir\\anaconda3\\envs\\GTRay2.4.0\\lib\\site-packages\\rtgym\\envs\\real_time_env.py:376: UserWarning: Time-step timed out. Elapsed since last time-step: 0.057483799945657665\n",
      "\u001b[2m\u001b[36m(RolloutWorker pid=1736)\u001b[0m   warnings.warn(f\"Time-step timed out. Elapsed since last time-step: {now - self.__t_end}\")\n"
     ]
    },
    {
     "name": "stdout",
     "output_type": "stream",
     "text": [
      "Loop:  283\n"
     ]
    },
    {
     "name": "stderr",
     "output_type": "stream",
     "text": [
      "\u001b[2m\u001b[36m(RolloutWorker pid=1736)\u001b[0m C:\\Users\\nadir\\anaconda3\\envs\\GTRay2.4.0\\lib\\site-packages\\rtgym\\envs\\real_time_env.py:376: UserWarning: Time-step timed out. Elapsed since last time-step: 2.9395167000002402\n",
      "\u001b[2m\u001b[36m(RolloutWorker pid=1736)\u001b[0m   warnings.warn(f\"Time-step timed out. Elapsed since last time-step: {now - self.__t_end}\")\n"
     ]
    },
    {
     "name": "stdout",
     "output_type": "stream",
     "text": [
      "\u001b[2m\u001b[36m(RolloutWorker pid=1736)\u001b[0m reset triggered\n",
      "\u001b[2m\u001b[36m(RolloutWorker pid=1736)\u001b[0m reload save for track : 72\n"
     ]
    },
    {
     "name": "stderr",
     "output_type": "stream",
     "text": [
      "\u001b[2m\u001b[36m(RolloutWorker pid=1736)\u001b[0m C:\\Users\\nadir\\anaconda3\\envs\\GTRay2.4.0\\lib\\site-packages\\rtgym\\envs\\real_time_env.py:376: UserWarning: Time-step timed out. Elapsed since last time-step: 0.13328529998489103\n",
      "\u001b[2m\u001b[36m(RolloutWorker pid=1736)\u001b[0m   warnings.warn(f\"Time-step timed out. Elapsed since last time-step: {now - self.__t_end}\")\n"
     ]
    },
    {
     "name": "stdout",
     "output_type": "stream",
     "text": [
      "Loop:  284\n"
     ]
    },
    {
     "name": "stderr",
     "output_type": "stream",
     "text": [
      "\u001b[2m\u001b[36m(RolloutWorker pid=1736)\u001b[0m C:\\Users\\nadir\\anaconda3\\envs\\GTRay2.4.0\\lib\\site-packages\\rtgym\\envs\\real_time_env.py:376: UserWarning: Time-step timed out. Elapsed since last time-step: 3.0615343999452307\n",
      "\u001b[2m\u001b[36m(RolloutWorker pid=1736)\u001b[0m   warnings.warn(f\"Time-step timed out. Elapsed since last time-step: {now - self.__t_end}\")\n",
      "\u001b[2m\u001b[36m(RolloutWorker pid=1736)\u001b[0m C:\\Users\\nadir\\anaconda3\\envs\\GTRay2.4.0\\lib\\site-packages\\rtgym\\envs\\real_time_env.py:376: UserWarning: Time-step timed out. Elapsed since last time-step: 0.12856989998454083\n",
      "\u001b[2m\u001b[36m(RolloutWorker pid=1736)\u001b[0m   warnings.warn(f\"Time-step timed out. Elapsed since last time-step: {now - self.__t_end}\")\n"
     ]
    },
    {
     "name": "stdout",
     "output_type": "stream",
     "text": [
      "\u001b[2m\u001b[36m(RolloutWorker pid=1736)\u001b[0m reset triggered\n",
      "\u001b[2m\u001b[36m(RolloutWorker pid=1736)\u001b[0m reload save for track : 72\n"
     ]
    },
    {
     "name": "stderr",
     "output_type": "stream",
     "text": [
      "\u001b[2m\u001b[36m(RolloutWorker pid=1736)\u001b[0m C:\\Users\\nadir\\anaconda3\\envs\\GTRay2.4.0\\lib\\site-packages\\rtgym\\envs\\real_time_env.py:376: UserWarning: Time-step timed out. Elapsed since last time-step: 0.06081079994510219\n",
      "\u001b[2m\u001b[36m(RolloutWorker pid=1736)\u001b[0m   warnings.warn(f\"Time-step timed out. Elapsed since last time-step: {now - self.__t_end}\")\n"
     ]
    },
    {
     "name": "stdout",
     "output_type": "stream",
     "text": [
      "Loop:  285\n"
     ]
    },
    {
     "name": "stderr",
     "output_type": "stream",
     "text": [
      "\u001b[2m\u001b[36m(RolloutWorker pid=1736)\u001b[0m C:\\Users\\nadir\\anaconda3\\envs\\GTRay2.4.0\\lib\\site-packages\\rtgym\\envs\\real_time_env.py:376: UserWarning: Time-step timed out. Elapsed since last time-step: 3.006780599999729\n",
      "\u001b[2m\u001b[36m(RolloutWorker pid=1736)\u001b[0m   warnings.warn(f\"Time-step timed out. Elapsed since last time-step: {now - self.__t_end}\")\n"
     ]
    },
    {
     "name": "stdout",
     "output_type": "stream",
     "text": [
      "\u001b[2m\u001b[36m(RolloutWorker pid=1736)\u001b[0m reset triggered\n",
      "\u001b[2m\u001b[36m(RolloutWorker pid=1736)\u001b[0m reload save for track : 72\n"
     ]
    },
    {
     "name": "stderr",
     "output_type": "stream",
     "text": [
      "\u001b[2m\u001b[36m(RolloutWorker pid=1736)\u001b[0m C:\\Users\\nadir\\anaconda3\\envs\\GTRay2.4.0\\lib\\site-packages\\rtgym\\envs\\real_time_env.py:376: UserWarning: Time-step timed out. Elapsed since last time-step: 0.15245409998533432\n",
      "\u001b[2m\u001b[36m(RolloutWorker pid=1736)\u001b[0m   warnings.warn(f\"Time-step timed out. Elapsed since last time-step: {now - self.__t_end}\")\n"
     ]
    },
    {
     "name": "stdout",
     "output_type": "stream",
     "text": [
      "Loop:  286\n"
     ]
    },
    {
     "name": "stderr",
     "output_type": "stream",
     "text": [
      "\u001b[2m\u001b[36m(RolloutWorker pid=1736)\u001b[0m C:\\Users\\nadir\\anaconda3\\envs\\GTRay2.4.0\\lib\\site-packages\\rtgym\\envs\\real_time_env.py:376: UserWarning: Time-step timed out. Elapsed since last time-step: 3.1803989999452824\n",
      "\u001b[2m\u001b[36m(RolloutWorker pid=1736)\u001b[0m   warnings.warn(f\"Time-step timed out. Elapsed since last time-step: {now - self.__t_end}\")\n"
     ]
    },
    {
     "name": "stdout",
     "output_type": "stream",
     "text": [
      "\u001b[2m\u001b[36m(RolloutWorker pid=1736)\u001b[0m reset triggered\n",
      "\u001b[2m\u001b[36m(RolloutWorker pid=1736)\u001b[0m reload save for track : 72\n"
     ]
    },
    {
     "name": "stderr",
     "output_type": "stream",
     "text": [
      "\u001b[2m\u001b[36m(RolloutWorker pid=1736)\u001b[0m C:\\Users\\nadir\\anaconda3\\envs\\GTRay2.4.0\\lib\\site-packages\\rtgym\\envs\\real_time_env.py:376: UserWarning: Time-step timed out. Elapsed since last time-step: 0.1199085999851377\n",
      "\u001b[2m\u001b[36m(RolloutWorker pid=1736)\u001b[0m   warnings.warn(f\"Time-step timed out. Elapsed since last time-step: {now - self.__t_end}\")\n",
      "\u001b[2m\u001b[36m(RolloutWorker pid=1736)\u001b[0m C:\\Users\\nadir\\anaconda3\\envs\\GTRay2.4.0\\lib\\site-packages\\rtgym\\envs\\real_time_env.py:376: UserWarning: Time-step timed out. Elapsed since last time-step: 0.05464349994508666\n",
      "\u001b[2m\u001b[36m(RolloutWorker pid=1736)\u001b[0m   warnings.warn(f\"Time-step timed out. Elapsed since last time-step: {now - self.__t_end}\")\n"
     ]
    },
    {
     "name": "stdout",
     "output_type": "stream",
     "text": [
      "Loop:  287\n"
     ]
    },
    {
     "name": "stderr",
     "output_type": "stream",
     "text": [
      "\u001b[2m\u001b[36m(RolloutWorker pid=1736)\u001b[0m C:\\Users\\nadir\\anaconda3\\envs\\GTRay2.4.0\\lib\\site-packages\\rtgym\\envs\\real_time_env.py:376: UserWarning: Time-step timed out. Elapsed since last time-step: 2.8867694000000483\n",
      "\u001b[2m\u001b[36m(RolloutWorker pid=1736)\u001b[0m   warnings.warn(f\"Time-step timed out. Elapsed since last time-step: {now - self.__t_end}\")\n"
     ]
    },
    {
     "name": "stdout",
     "output_type": "stream",
     "text": [
      "\u001b[2m\u001b[36m(RolloutWorker pid=1736)\u001b[0m reset triggered\n",
      "\u001b[2m\u001b[36m(RolloutWorker pid=1736)\u001b[0m reload save for track : 72\n"
     ]
    },
    {
     "name": "stderr",
     "output_type": "stream",
     "text": [
      "\u001b[2m\u001b[36m(RolloutWorker pid=1736)\u001b[0m C:\\Users\\nadir\\anaconda3\\envs\\GTRay2.4.0\\lib\\site-packages\\rtgym\\envs\\real_time_env.py:376: UserWarning: Time-step timed out. Elapsed since last time-step: 0.17291879998447257\n",
      "\u001b[2m\u001b[36m(RolloutWorker pid=1736)\u001b[0m   warnings.warn(f\"Time-step timed out. Elapsed since last time-step: {now - self.__t_end}\")\n",
      "\u001b[2m\u001b[36m(RolloutWorker pid=1736)\u001b[0m C:\\Users\\nadir\\anaconda3\\envs\\GTRay2.4.0\\lib\\site-packages\\rtgym\\envs\\real_time_env.py:376: UserWarning: Time-step timed out. Elapsed since last time-step: 0.05806969994591782\n",
      "\u001b[2m\u001b[36m(RolloutWorker pid=1736)\u001b[0m   warnings.warn(f\"Time-step timed out. Elapsed since last time-step: {now - self.__t_end}\")\n"
     ]
    },
    {
     "name": "stdout",
     "output_type": "stream",
     "text": [
      "Loop:  288\n"
     ]
    },
    {
     "name": "stderr",
     "output_type": "stream",
     "text": [
      "\u001b[2m\u001b[36m(RolloutWorker pid=1736)\u001b[0m C:\\Users\\nadir\\anaconda3\\envs\\GTRay2.4.0\\lib\\site-packages\\rtgym\\envs\\real_time_env.py:376: UserWarning: Time-step timed out. Elapsed since last time-step: 2.9629470999998375\n",
      "\u001b[2m\u001b[36m(RolloutWorker pid=1736)\u001b[0m   warnings.warn(f\"Time-step timed out. Elapsed since last time-step: {now - self.__t_end}\")\n"
     ]
    },
    {
     "name": "stdout",
     "output_type": "stream",
     "text": [
      "\u001b[2m\u001b[36m(RolloutWorker pid=1736)\u001b[0m reset triggered\n",
      "\u001b[2m\u001b[36m(RolloutWorker pid=1736)\u001b[0m reload save for track : 72\n"
     ]
    },
    {
     "name": "stderr",
     "output_type": "stream",
     "text": [
      "\u001b[2m\u001b[36m(RolloutWorker pid=1736)\u001b[0m C:\\Users\\nadir\\anaconda3\\envs\\GTRay2.4.0\\lib\\site-packages\\rtgym\\envs\\real_time_env.py:376: UserWarning: Time-step timed out. Elapsed since last time-step: 0.12433539998528431\n",
      "\u001b[2m\u001b[36m(RolloutWorker pid=1736)\u001b[0m   warnings.warn(f\"Time-step timed out. Elapsed since last time-step: {now - self.__t_end}\")\n",
      "\u001b[2m\u001b[36m(RolloutWorker pid=1736)\u001b[0m C:\\Users\\nadir\\anaconda3\\envs\\GTRay2.4.0\\lib\\site-packages\\rtgym\\envs\\real_time_env.py:376: UserWarning: Time-step timed out. Elapsed since last time-step: 0.06095819994516205\n",
      "\u001b[2m\u001b[36m(RolloutWorker pid=1736)\u001b[0m   warnings.warn(f\"Time-step timed out. Elapsed since last time-step: {now - self.__t_end}\")\n"
     ]
    },
    {
     "name": "stdout",
     "output_type": "stream",
     "text": [
      "Loop:  289\n"
     ]
    },
    {
     "name": "stderr",
     "output_type": "stream",
     "text": [
      "\u001b[2m\u001b[36m(RolloutWorker pid=1736)\u001b[0m C:\\Users\\nadir\\anaconda3\\envs\\GTRay2.4.0\\lib\\site-packages\\rtgym\\envs\\real_time_env.py:376: UserWarning: Time-step timed out. Elapsed since last time-step: 3.0209111999993183\n",
      "\u001b[2m\u001b[36m(RolloutWorker pid=1736)\u001b[0m   warnings.warn(f\"Time-step timed out. Elapsed since last time-step: {now - self.__t_end}\")\n"
     ]
    },
    {
     "name": "stdout",
     "output_type": "stream",
     "text": [
      "\u001b[2m\u001b[36m(RolloutWorker pid=1736)\u001b[0m reset triggered\n",
      "\u001b[2m\u001b[36m(RolloutWorker pid=1736)\u001b[0m reload save for track : 72\n"
     ]
    },
    {
     "name": "stderr",
     "output_type": "stream",
     "text": [
      "\u001b[2m\u001b[36m(RolloutWorker pid=1736)\u001b[0m C:\\Users\\nadir\\anaconda3\\envs\\GTRay2.4.0\\lib\\site-packages\\rtgym\\envs\\real_time_env.py:376: UserWarning: Time-step timed out. Elapsed since last time-step: 0.12879259998499037\n",
      "\u001b[2m\u001b[36m(RolloutWorker pid=1736)\u001b[0m   warnings.warn(f\"Time-step timed out. Elapsed since last time-step: {now - self.__t_end}\")\n",
      "\u001b[2m\u001b[36m(RolloutWorker pid=1736)\u001b[0m C:\\Users\\nadir\\anaconda3\\envs\\GTRay2.4.0\\lib\\site-packages\\rtgym\\envs\\real_time_env.py:376: UserWarning: Time-step timed out. Elapsed since last time-step: 0.05387449994577764\n",
      "\u001b[2m\u001b[36m(RolloutWorker pid=1736)\u001b[0m   warnings.warn(f\"Time-step timed out. Elapsed since last time-step: {now - self.__t_end}\")\n"
     ]
    },
    {
     "name": "stdout",
     "output_type": "stream",
     "text": [
      "Loop:  290\n",
      "Saved 290\n"
     ]
    },
    {
     "name": "stderr",
     "output_type": "stream",
     "text": [
      "\u001b[2m\u001b[36m(RolloutWorker pid=1736)\u001b[0m C:\\Users\\nadir\\anaconda3\\envs\\GTRay2.4.0\\lib\\site-packages\\rtgym\\envs\\real_time_env.py:376: UserWarning: Time-step timed out. Elapsed since last time-step: 3.06174959999953\n",
      "\u001b[2m\u001b[36m(RolloutWorker pid=1736)\u001b[0m   warnings.warn(f\"Time-step timed out. Elapsed since last time-step: {now - self.__t_end}\")\n"
     ]
    },
    {
     "name": "stdout",
     "output_type": "stream",
     "text": [
      "\u001b[2m\u001b[36m(RolloutWorker pid=1736)\u001b[0m reset triggered\n",
      "\u001b[2m\u001b[36m(RolloutWorker pid=1736)\u001b[0m reload save for track : 72\n"
     ]
    },
    {
     "name": "stderr",
     "output_type": "stream",
     "text": [
      "\u001b[2m\u001b[36m(RolloutWorker pid=1736)\u001b[0m C:\\Users\\nadir\\anaconda3\\envs\\GTRay2.4.0\\lib\\site-packages\\rtgym\\envs\\real_time_env.py:376: UserWarning: Time-step timed out. Elapsed since last time-step: 0.12338519998502306\n",
      "\u001b[2m\u001b[36m(RolloutWorker pid=1736)\u001b[0m   warnings.warn(f\"Time-step timed out. Elapsed since last time-step: {now - self.__t_end}\")\n"
     ]
    },
    {
     "name": "stdout",
     "output_type": "stream",
     "text": [
      "Loop:  291\n"
     ]
    },
    {
     "name": "stderr",
     "output_type": "stream",
     "text": [
      "\u001b[2m\u001b[36m(RolloutWorker pid=1736)\u001b[0m C:\\Users\\nadir\\anaconda3\\envs\\GTRay2.4.0\\lib\\site-packages\\rtgym\\envs\\real_time_env.py:376: UserWarning: Time-step timed out. Elapsed since last time-step: 2.996879199945397\n",
      "\u001b[2m\u001b[36m(RolloutWorker pid=1736)\u001b[0m   warnings.warn(f\"Time-step timed out. Elapsed since last time-step: {now - self.__t_end}\")\n"
     ]
    },
    {
     "name": "stdout",
     "output_type": "stream",
     "text": [
      "\u001b[2m\u001b[36m(RolloutWorker pid=1736)\u001b[0m reset triggered\n",
      "\u001b[2m\u001b[36m(RolloutWorker pid=1736)\u001b[0m reload save for track : 72\n"
     ]
    },
    {
     "name": "stderr",
     "output_type": "stream",
     "text": [
      "\u001b[2m\u001b[36m(RolloutWorker pid=1736)\u001b[0m C:\\Users\\nadir\\anaconda3\\envs\\GTRay2.4.0\\lib\\site-packages\\rtgym\\envs\\real_time_env.py:376: UserWarning: Time-step timed out. Elapsed since last time-step: 0.13881859998491564\n",
      "\u001b[2m\u001b[36m(RolloutWorker pid=1736)\u001b[0m   warnings.warn(f\"Time-step timed out. Elapsed since last time-step: {now - self.__t_end}\")\n"
     ]
    },
    {
     "name": "stdout",
     "output_type": "stream",
     "text": [
      "Loop:  292\n"
     ]
    },
    {
     "name": "stderr",
     "output_type": "stream",
     "text": [
      "\u001b[2m\u001b[36m(RolloutWorker pid=1736)\u001b[0m C:\\Users\\nadir\\anaconda3\\envs\\GTRay2.4.0\\lib\\site-packages\\rtgym\\envs\\real_time_env.py:376: UserWarning: Time-step timed out. Elapsed since last time-step: 3.1277972999450867\n",
      "\u001b[2m\u001b[36m(RolloutWorker pid=1736)\u001b[0m   warnings.warn(f\"Time-step timed out. Elapsed since last time-step: {now - self.__t_end}\")\n",
      "\u001b[2m\u001b[36m(RolloutWorker pid=1736)\u001b[0m C:\\Users\\nadir\\anaconda3\\envs\\GTRay2.4.0\\lib\\site-packages\\rtgym\\envs\\real_time_env.py:376: UserWarning: Time-step timed out. Elapsed since last time-step: 0.12383979998503492\n",
      "\u001b[2m\u001b[36m(RolloutWorker pid=1736)\u001b[0m   warnings.warn(f\"Time-step timed out. Elapsed since last time-step: {now - self.__t_end}\")\n"
     ]
    },
    {
     "name": "stdout",
     "output_type": "stream",
     "text": [
      "\u001b[2m\u001b[36m(RolloutWorker pid=1736)\u001b[0m reset triggered\n",
      "\u001b[2m\u001b[36m(RolloutWorker pid=1736)\u001b[0m reload save for track : 72\n",
      "Loop:  293\n"
     ]
    },
    {
     "name": "stderr",
     "output_type": "stream",
     "text": [
      "\u001b[2m\u001b[36m(RolloutWorker pid=1736)\u001b[0m C:\\Users\\nadir\\anaconda3\\envs\\GTRay2.4.0\\lib\\site-packages\\rtgym\\envs\\real_time_env.py:376: UserWarning: Time-step timed out. Elapsed since last time-step: 3.14707609994457\n",
      "\u001b[2m\u001b[36m(RolloutWorker pid=1736)\u001b[0m   warnings.warn(f\"Time-step timed out. Elapsed since last time-step: {now - self.__t_end}\")\n"
     ]
    },
    {
     "name": "stdout",
     "output_type": "stream",
     "text": [
      "\u001b[2m\u001b[36m(RolloutWorker pid=1736)\u001b[0m reset triggered\n",
      "\u001b[2m\u001b[36m(RolloutWorker pid=1736)\u001b[0m reload save for track : 72\n"
     ]
    },
    {
     "name": "stderr",
     "output_type": "stream",
     "text": [
      "\u001b[2m\u001b[36m(RolloutWorker pid=1736)\u001b[0m C:\\Users\\nadir\\anaconda3\\envs\\GTRay2.4.0\\lib\\site-packages\\rtgym\\envs\\real_time_env.py:376: UserWarning: Time-step timed out. Elapsed since last time-step: 0.12728549998519156\n",
      "\u001b[2m\u001b[36m(RolloutWorker pid=1736)\u001b[0m   warnings.warn(f\"Time-step timed out. Elapsed since last time-step: {now - self.__t_end}\")\n"
     ]
    },
    {
     "name": "stdout",
     "output_type": "stream",
     "text": [
      "Loop:  294\n"
     ]
    },
    {
     "name": "stderr",
     "output_type": "stream",
     "text": [
      "\u001b[2m\u001b[36m(RolloutWorker pid=1736)\u001b[0m C:\\Users\\nadir\\anaconda3\\envs\\GTRay2.4.0\\lib\\site-packages\\rtgym\\envs\\real_time_env.py:376: UserWarning: Time-step timed out. Elapsed since last time-step: 3.1205213999455736\n",
      "\u001b[2m\u001b[36m(RolloutWorker pid=1736)\u001b[0m   warnings.warn(f\"Time-step timed out. Elapsed since last time-step: {now - self.__t_end}\")\n",
      "\u001b[2m\u001b[36m(RolloutWorker pid=1736)\u001b[0m C:\\Users\\nadir\\anaconda3\\envs\\GTRay2.4.0\\lib\\site-packages\\rtgym\\envs\\real_time_env.py:376: UserWarning: Time-step timed out. Elapsed since last time-step: 0.1587300999844956\n",
      "\u001b[2m\u001b[36m(RolloutWorker pid=1736)\u001b[0m   warnings.warn(f\"Time-step timed out. Elapsed since last time-step: {now - self.__t_end}\")\n"
     ]
    },
    {
     "name": "stdout",
     "output_type": "stream",
     "text": [
      "\u001b[2m\u001b[36m(RolloutWorker pid=1736)\u001b[0m reset triggered\n",
      "\u001b[2m\u001b[36m(RolloutWorker pid=1736)\u001b[0m reload save for track : 72\n",
      "Loop:  295\n"
     ]
    },
    {
     "name": "stderr",
     "output_type": "stream",
     "text": [
      "\u001b[2m\u001b[36m(RolloutWorker pid=1736)\u001b[0m C:\\Users\\nadir\\anaconda3\\envs\\GTRay2.4.0\\lib\\site-packages\\rtgym\\envs\\real_time_env.py:376: UserWarning: Time-step timed out. Elapsed since last time-step: 3.047408899945367\n",
      "\u001b[2m\u001b[36m(RolloutWorker pid=1736)\u001b[0m   warnings.warn(f\"Time-step timed out. Elapsed since last time-step: {now - self.__t_end}\")\n"
     ]
    },
    {
     "name": "stdout",
     "output_type": "stream",
     "text": [
      "\u001b[2m\u001b[36m(RolloutWorker pid=1736)\u001b[0m reset triggered\n",
      "\u001b[2m\u001b[36m(RolloutWorker pid=1736)\u001b[0m reload save for track : 72\n"
     ]
    },
    {
     "name": "stderr",
     "output_type": "stream",
     "text": [
      "\u001b[2m\u001b[36m(RolloutWorker pid=1736)\u001b[0m C:\\Users\\nadir\\anaconda3\\envs\\GTRay2.4.0\\lib\\site-packages\\rtgym\\envs\\real_time_env.py:376: UserWarning: Time-step timed out. Elapsed since last time-step: 0.13733549998505623\n",
      "\u001b[2m\u001b[36m(RolloutWorker pid=1736)\u001b[0m   warnings.warn(f\"Time-step timed out. Elapsed since last time-step: {now - self.__t_end}\")\n"
     ]
    },
    {
     "name": "stdout",
     "output_type": "stream",
     "text": [
      "Loop:  296\n"
     ]
    },
    {
     "name": "stderr",
     "output_type": "stream",
     "text": [
      "\u001b[2m\u001b[36m(RolloutWorker pid=1736)\u001b[0m C:\\Users\\nadir\\anaconda3\\envs\\GTRay2.4.0\\lib\\site-packages\\rtgym\\envs\\real_time_env.py:376: UserWarning: Time-step timed out. Elapsed since last time-step: 3.022958899945479\n",
      "\u001b[2m\u001b[36m(RolloutWorker pid=1736)\u001b[0m   warnings.warn(f\"Time-step timed out. Elapsed since last time-step: {now - self.__t_end}\")\n",
      "\u001b[2m\u001b[36m(RolloutWorker pid=1736)\u001b[0m C:\\Users\\nadir\\anaconda3\\envs\\GTRay2.4.0\\lib\\site-packages\\rtgym\\envs\\real_time_env.py:376: UserWarning: Time-step timed out. Elapsed since last time-step: 0.12207449998459197\n",
      "\u001b[2m\u001b[36m(RolloutWorker pid=1736)\u001b[0m   warnings.warn(f\"Time-step timed out. Elapsed since last time-step: {now - self.__t_end}\")\n"
     ]
    },
    {
     "name": "stdout",
     "output_type": "stream",
     "text": [
      "\u001b[2m\u001b[36m(RolloutWorker pid=1736)\u001b[0m reset triggered\n",
      "\u001b[2m\u001b[36m(RolloutWorker pid=1736)\u001b[0m reload save for track : 72\n"
     ]
    },
    {
     "name": "stderr",
     "output_type": "stream",
     "text": [
      "\u001b[2m\u001b[36m(RolloutWorker pid=1736)\u001b[0m C:\\Users\\nadir\\anaconda3\\envs\\GTRay2.4.0\\lib\\site-packages\\rtgym\\envs\\real_time_env.py:376: UserWarning: Time-step timed out. Elapsed since last time-step: 0.05024239999966085\n",
      "\u001b[2m\u001b[36m(RolloutWorker pid=1736)\u001b[0m   warnings.warn(f\"Time-step timed out. Elapsed since last time-step: {now - self.__t_end}\")\n"
     ]
    },
    {
     "name": "stdout",
     "output_type": "stream",
     "text": [
      "Loop:  297\n"
     ]
    },
    {
     "name": "stderr",
     "output_type": "stream",
     "text": [
      "\u001b[2m\u001b[36m(RolloutWorker pid=1736)\u001b[0m C:\\Users\\nadir\\anaconda3\\envs\\GTRay2.4.0\\lib\\site-packages\\rtgym\\envs\\real_time_env.py:376: UserWarning: Time-step timed out. Elapsed since last time-step: 3.05506989994592\n",
      "\u001b[2m\u001b[36m(RolloutWorker pid=1736)\u001b[0m   warnings.warn(f\"Time-step timed out. Elapsed since last time-step: {now - self.__t_end}\")\n"
     ]
    },
    {
     "name": "stdout",
     "output_type": "stream",
     "text": [
      "\u001b[2m\u001b[36m(RolloutWorker pid=1736)\u001b[0m reset triggered\n",
      "\u001b[2m\u001b[36m(RolloutWorker pid=1736)\u001b[0m reload save for track : 72\n"
     ]
    },
    {
     "name": "stderr",
     "output_type": "stream",
     "text": [
      "\u001b[2m\u001b[36m(RolloutWorker pid=1736)\u001b[0m C:\\Users\\nadir\\anaconda3\\envs\\GTRay2.4.0\\lib\\site-packages\\rtgym\\envs\\real_time_env.py:376: UserWarning: Time-step timed out. Elapsed since last time-step: 0.1597924999850875\n",
      "\u001b[2m\u001b[36m(RolloutWorker pid=1736)\u001b[0m   warnings.warn(f\"Time-step timed out. Elapsed since last time-step: {now - self.__t_end}\")\n"
     ]
    },
    {
     "name": "stdout",
     "output_type": "stream",
     "text": [
      "Loop:  298\n"
     ]
    },
    {
     "name": "stderr",
     "output_type": "stream",
     "text": [
      "\u001b[2m\u001b[36m(RolloutWorker pid=1736)\u001b[0m C:\\Users\\nadir\\anaconda3\\envs\\GTRay2.4.0\\lib\\site-packages\\rtgym\\envs\\real_time_env.py:376: UserWarning: Time-step timed out. Elapsed since last time-step: 2.997109899944917\n",
      "\u001b[2m\u001b[36m(RolloutWorker pid=1736)\u001b[0m   warnings.warn(f\"Time-step timed out. Elapsed since last time-step: {now - self.__t_end}\")\n"
     ]
    },
    {
     "name": "stdout",
     "output_type": "stream",
     "text": [
      "\u001b[2m\u001b[36m(RolloutWorker pid=1736)\u001b[0m reset triggered\n",
      "\u001b[2m\u001b[36m(RolloutWorker pid=1736)\u001b[0m reload save for track : 72\n"
     ]
    },
    {
     "name": "stderr",
     "output_type": "stream",
     "text": [
      "\u001b[2m\u001b[36m(RolloutWorker pid=1736)\u001b[0m C:\\Users\\nadir\\anaconda3\\envs\\GTRay2.4.0\\lib\\site-packages\\rtgym\\envs\\real_time_env.py:376: UserWarning: Time-step timed out. Elapsed since last time-step: 0.12769949998528318\n",
      "\u001b[2m\u001b[36m(RolloutWorker pid=1736)\u001b[0m   warnings.warn(f\"Time-step timed out. Elapsed since last time-step: {now - self.__t_end}\")\n"
     ]
    },
    {
     "name": "stdout",
     "output_type": "stream",
     "text": [
      "Loop:  299\n"
     ]
    },
    {
     "name": "stderr",
     "output_type": "stream",
     "text": [
      "\u001b[2m\u001b[36m(RolloutWorker pid=1736)\u001b[0m C:\\Users\\nadir\\anaconda3\\envs\\GTRay2.4.0\\lib\\site-packages\\rtgym\\envs\\real_time_env.py:376: UserWarning: Time-step timed out. Elapsed since last time-step: 3.09324739994463\n",
      "\u001b[2m\u001b[36m(RolloutWorker pid=1736)\u001b[0m   warnings.warn(f\"Time-step timed out. Elapsed since last time-step: {now - self.__t_end}\")\n"
     ]
    },
    {
     "name": "stdout",
     "output_type": "stream",
     "text": [
      "\u001b[2m\u001b[36m(RolloutWorker pid=1736)\u001b[0m reset triggered\n",
      "\u001b[2m\u001b[36m(RolloutWorker pid=1736)\u001b[0m reload save for track : 72\n"
     ]
    },
    {
     "name": "stderr",
     "output_type": "stream",
     "text": [
      "\u001b[2m\u001b[36m(RolloutWorker pid=1736)\u001b[0m C:\\Users\\nadir\\anaconda3\\envs\\GTRay2.4.0\\lib\\site-packages\\rtgym\\envs\\real_time_env.py:376: UserWarning: Time-step timed out. Elapsed since last time-step: 0.14591809998546523\n",
      "\u001b[2m\u001b[36m(RolloutWorker pid=1736)\u001b[0m   warnings.warn(f\"Time-step timed out. Elapsed since last time-step: {now - self.__t_end}\")\n",
      "\u001b[2m\u001b[36m(RolloutWorker pid=1736)\u001b[0m C:\\Users\\nadir\\anaconda3\\envs\\GTRay2.4.0\\lib\\site-packages\\rtgym\\envs\\real_time_env.py:376: UserWarning: Time-step timed out. Elapsed since last time-step: 0.059083299945086765\n",
      "\u001b[2m\u001b[36m(RolloutWorker pid=1736)\u001b[0m   warnings.warn(f\"Time-step timed out. Elapsed since last time-step: {now - self.__t_end}\")\n"
     ]
    },
    {
     "name": "stdout",
     "output_type": "stream",
     "text": [
      "Loop:  300\n",
      "Saved 300\n"
     ]
    },
    {
     "name": "stderr",
     "output_type": "stream",
     "text": [
      "\u001b[2m\u001b[36m(RolloutWorker pid=1736)\u001b[0m C:\\Users\\nadir\\anaconda3\\envs\\GTRay2.4.0\\lib\\site-packages\\rtgym\\envs\\real_time_env.py:376: UserWarning: Time-step timed out. Elapsed since last time-step: 3.05273809999926\n",
      "\u001b[2m\u001b[36m(RolloutWorker pid=1736)\u001b[0m   warnings.warn(f\"Time-step timed out. Elapsed since last time-step: {now - self.__t_end}\")\n"
     ]
    },
    {
     "name": "stdout",
     "output_type": "stream",
     "text": [
      "\u001b[2m\u001b[36m(RolloutWorker pid=1736)\u001b[0m reset triggered\n",
      "\u001b[2m\u001b[36m(RolloutWorker pid=1736)\u001b[0m reload save for track : 72\n"
     ]
    },
    {
     "name": "stderr",
     "output_type": "stream",
     "text": [
      "\u001b[2m\u001b[36m(RolloutWorker pid=1736)\u001b[0m C:\\Users\\nadir\\anaconda3\\envs\\GTRay2.4.0\\lib\\site-packages\\rtgym\\envs\\real_time_env.py:376: UserWarning: Time-step timed out. Elapsed since last time-step: 0.12664969998513698\n",
      "\u001b[2m\u001b[36m(RolloutWorker pid=1736)\u001b[0m   warnings.warn(f\"Time-step timed out. Elapsed since last time-step: {now - self.__t_end}\")\n"
     ]
    },
    {
     "name": "stdout",
     "output_type": "stream",
     "text": [
      "Loop:  301\n"
     ]
    },
    {
     "name": "stderr",
     "output_type": "stream",
     "text": [
      "\u001b[2m\u001b[36m(RolloutWorker pid=1736)\u001b[0m C:\\Users\\nadir\\anaconda3\\envs\\GTRay2.4.0\\lib\\site-packages\\rtgym\\envs\\real_time_env.py:376: UserWarning: Time-step timed out. Elapsed since last time-step: 2.991287499945429\n",
      "\u001b[2m\u001b[36m(RolloutWorker pid=1736)\u001b[0m   warnings.warn(f\"Time-step timed out. Elapsed since last time-step: {now - self.__t_end}\")\n"
     ]
    },
    {
     "name": "stdout",
     "output_type": "stream",
     "text": [
      "\u001b[2m\u001b[36m(RolloutWorker pid=1736)\u001b[0m reset triggered\n",
      "\u001b[2m\u001b[36m(RolloutWorker pid=1736)\u001b[0m reload save for track : 72\n"
     ]
    },
    {
     "name": "stderr",
     "output_type": "stream",
     "text": [
      "\u001b[2m\u001b[36m(RolloutWorker pid=1736)\u001b[0m C:\\Users\\nadir\\anaconda3\\envs\\GTRay2.4.0\\lib\\site-packages\\rtgym\\envs\\real_time_env.py:376: UserWarning: Time-step timed out. Elapsed since last time-step: 0.13208399998529785\n",
      "\u001b[2m\u001b[36m(RolloutWorker pid=1736)\u001b[0m   warnings.warn(f\"Time-step timed out. Elapsed since last time-step: {now - self.__t_end}\")\n"
     ]
    },
    {
     "name": "stdout",
     "output_type": "stream",
     "text": [
      "Loop:  302\n"
     ]
    },
    {
     "name": "stderr",
     "output_type": "stream",
     "text": [
      "\u001b[2m\u001b[36m(RolloutWorker pid=1736)\u001b[0m C:\\Users\\nadir\\anaconda3\\envs\\GTRay2.4.0\\lib\\site-packages\\rtgym\\envs\\real_time_env.py:376: UserWarning: Time-step timed out. Elapsed since last time-step: 3.055346199945234\n",
      "\u001b[2m\u001b[36m(RolloutWorker pid=1736)\u001b[0m   warnings.warn(f\"Time-step timed out. Elapsed since last time-step: {now - self.__t_end}\")\n",
      "\u001b[2m\u001b[36m(RolloutWorker pid=1736)\u001b[0m C:\\Users\\nadir\\anaconda3\\envs\\GTRay2.4.0\\lib\\site-packages\\rtgym\\envs\\real_time_env.py:376: UserWarning: Time-step timed out. Elapsed since last time-step: 0.1293605999844658\n",
      "\u001b[2m\u001b[36m(RolloutWorker pid=1736)\u001b[0m   warnings.warn(f\"Time-step timed out. Elapsed since last time-step: {now - self.__t_end}\")\n"
     ]
    },
    {
     "name": "stdout",
     "output_type": "stream",
     "text": [
      "\u001b[2m\u001b[36m(RolloutWorker pid=1736)\u001b[0m reset triggered\n",
      "\u001b[2m\u001b[36m(RolloutWorker pid=1736)\u001b[0m reload save for track : 72\n",
      "Loop:  303\n"
     ]
    },
    {
     "name": "stderr",
     "output_type": "stream",
     "text": [
      "\u001b[2m\u001b[36m(RolloutWorker pid=1736)\u001b[0m C:\\Users\\nadir\\anaconda3\\envs\\GTRay2.4.0\\lib\\site-packages\\rtgym\\envs\\real_time_env.py:376: UserWarning: Time-step timed out. Elapsed since last time-step: 3.0705942999456965\n",
      "\u001b[2m\u001b[36m(RolloutWorker pid=1736)\u001b[0m   warnings.warn(f\"Time-step timed out. Elapsed since last time-step: {now - self.__t_end}\")\n"
     ]
    },
    {
     "name": "stdout",
     "output_type": "stream",
     "text": [
      "\u001b[2m\u001b[36m(RolloutWorker pid=1736)\u001b[0m reset triggered\n",
      "\u001b[2m\u001b[36m(RolloutWorker pid=1736)\u001b[0m reload save for track : 72\n"
     ]
    },
    {
     "name": "stderr",
     "output_type": "stream",
     "text": [
      "\u001b[2m\u001b[36m(RolloutWorker pid=1736)\u001b[0m C:\\Users\\nadir\\anaconda3\\envs\\GTRay2.4.0\\lib\\site-packages\\rtgym\\envs\\real_time_env.py:376: UserWarning: Time-step timed out. Elapsed since last time-step: 0.1438576999844372\n",
      "\u001b[2m\u001b[36m(RolloutWorker pid=1736)\u001b[0m   warnings.warn(f\"Time-step timed out. Elapsed since last time-step: {now - self.__t_end}\")\n",
      "\u001b[2m\u001b[36m(RolloutWorker pid=1736)\u001b[0m C:\\Users\\nadir\\anaconda3\\envs\\GTRay2.4.0\\lib\\site-packages\\rtgym\\envs\\real_time_env.py:376: UserWarning: Time-step timed out. Elapsed since last time-step: 0.05712019994552975\n",
      "\u001b[2m\u001b[36m(RolloutWorker pid=1736)\u001b[0m   warnings.warn(f\"Time-step timed out. Elapsed since last time-step: {now - self.__t_end}\")\n"
     ]
    },
    {
     "name": "stdout",
     "output_type": "stream",
     "text": [
      "Loop:  304\n"
     ]
    },
    {
     "name": "stderr",
     "output_type": "stream",
     "text": [
      "\u001b[2m\u001b[36m(RolloutWorker pid=1736)\u001b[0m C:\\Users\\nadir\\anaconda3\\envs\\GTRay2.4.0\\lib\\site-packages\\rtgym\\envs\\real_time_env.py:376: UserWarning: Time-step timed out. Elapsed since last time-step: 2.979048999999577\n",
      "\u001b[2m\u001b[36m(RolloutWorker pid=1736)\u001b[0m   warnings.warn(f\"Time-step timed out. Elapsed since last time-step: {now - self.__t_end}\")\n"
     ]
    },
    {
     "name": "stdout",
     "output_type": "stream",
     "text": [
      "\u001b[2m\u001b[36m(RolloutWorker pid=1736)\u001b[0m reset triggered\n",
      "\u001b[2m\u001b[36m(RolloutWorker pid=1736)\u001b[0m reload save for track : 72\n"
     ]
    },
    {
     "name": "stderr",
     "output_type": "stream",
     "text": [
      "\u001b[2m\u001b[36m(RolloutWorker pid=1736)\u001b[0m C:\\Users\\nadir\\anaconda3\\envs\\GTRay2.4.0\\lib\\site-packages\\rtgym\\envs\\real_time_env.py:376: UserWarning: Time-step timed out. Elapsed since last time-step: 0.13948759998493188\n",
      "\u001b[2m\u001b[36m(RolloutWorker pid=1736)\u001b[0m   warnings.warn(f\"Time-step timed out. Elapsed since last time-step: {now - self.__t_end}\")\n",
      "\u001b[2m\u001b[36m(RolloutWorker pid=1736)\u001b[0m C:\\Users\\nadir\\anaconda3\\envs\\GTRay2.4.0\\lib\\site-packages\\rtgym\\envs\\real_time_env.py:376: UserWarning: Time-step timed out. Elapsed since last time-step: 0.052359499945850985\n",
      "\u001b[2m\u001b[36m(RolloutWorker pid=1736)\u001b[0m   warnings.warn(f\"Time-step timed out. Elapsed since last time-step: {now - self.__t_end}\")\n"
     ]
    },
    {
     "name": "stdout",
     "output_type": "stream",
     "text": [
      "Loop:  305\n"
     ]
    },
    {
     "name": "stderr",
     "output_type": "stream",
     "text": [
      "\u001b[2m\u001b[36m(RolloutWorker pid=1736)\u001b[0m C:\\Users\\nadir\\anaconda3\\envs\\GTRay2.4.0\\lib\\site-packages\\rtgym\\envs\\real_time_env.py:376: UserWarning: Time-step timed out. Elapsed since last time-step: 3.033335599999191\n",
      "\u001b[2m\u001b[36m(RolloutWorker pid=1736)\u001b[0m   warnings.warn(f\"Time-step timed out. Elapsed since last time-step: {now - self.__t_end}\")\n"
     ]
    },
    {
     "name": "stdout",
     "output_type": "stream",
     "text": [
      "\u001b[2m\u001b[36m(RolloutWorker pid=1736)\u001b[0m reset triggered\n",
      "\u001b[2m\u001b[36m(RolloutWorker pid=1736)\u001b[0m reload save for track : 72\n"
     ]
    },
    {
     "name": "stderr",
     "output_type": "stream",
     "text": [
      "\u001b[2m\u001b[36m(RolloutWorker pid=1736)\u001b[0m C:\\Users\\nadir\\anaconda3\\envs\\GTRay2.4.0\\lib\\site-packages\\rtgym\\envs\\real_time_env.py:376: UserWarning: Time-step timed out. Elapsed since last time-step: 0.12903129998539953\n",
      "\u001b[2m\u001b[36m(RolloutWorker pid=1736)\u001b[0m   warnings.warn(f\"Time-step timed out. Elapsed since last time-step: {now - self.__t_end}\")\n"
     ]
    },
    {
     "name": "stdout",
     "output_type": "stream",
     "text": [
      "Loop:  306\n"
     ]
    },
    {
     "name": "stderr",
     "output_type": "stream",
     "text": [
      "\u001b[2m\u001b[36m(RolloutWorker pid=1736)\u001b[0m C:\\Users\\nadir\\anaconda3\\envs\\GTRay2.4.0\\lib\\site-packages\\rtgym\\envs\\real_time_env.py:376: UserWarning: Time-step timed out. Elapsed since last time-step: 3.0340833999453025\n",
      "\u001b[2m\u001b[36m(RolloutWorker pid=1736)\u001b[0m   warnings.warn(f\"Time-step timed out. Elapsed since last time-step: {now - self.__t_end}\")\n"
     ]
    },
    {
     "name": "stdout",
     "output_type": "stream",
     "text": [
      "\u001b[2m\u001b[36m(RolloutWorker pid=1736)\u001b[0m reset triggered\n",
      "\u001b[2m\u001b[36m(RolloutWorker pid=1736)\u001b[0m reload save for track : 72\n"
     ]
    },
    {
     "name": "stderr",
     "output_type": "stream",
     "text": [
      "\u001b[2m\u001b[36m(RolloutWorker pid=1736)\u001b[0m C:\\Users\\nadir\\anaconda3\\envs\\GTRay2.4.0\\lib\\site-packages\\rtgym\\envs\\real_time_env.py:376: UserWarning: Time-step timed out. Elapsed since last time-step: 0.15090999998483312\n",
      "\u001b[2m\u001b[36m(RolloutWorker pid=1736)\u001b[0m   warnings.warn(f\"Time-step timed out. Elapsed since last time-step: {now - self.__t_end}\")\n"
     ]
    },
    {
     "name": "stdout",
     "output_type": "stream",
     "text": [
      "Loop:  307\n"
     ]
    },
    {
     "name": "stderr",
     "output_type": "stream",
     "text": [
      "\u001b[2m\u001b[36m(RolloutWorker pid=1736)\u001b[0m C:\\Users\\nadir\\anaconda3\\envs\\GTRay2.4.0\\lib\\site-packages\\rtgym\\envs\\real_time_env.py:376: UserWarning: Time-step timed out. Elapsed since last time-step: 3.054886999944756\n",
      "\u001b[2m\u001b[36m(RolloutWorker pid=1736)\u001b[0m   warnings.warn(f\"Time-step timed out. Elapsed since last time-step: {now - self.__t_end}\")\n"
     ]
    },
    {
     "name": "stdout",
     "output_type": "stream",
     "text": [
      "\u001b[2m\u001b[36m(RolloutWorker pid=1736)\u001b[0m reset triggered\n",
      "\u001b[2m\u001b[36m(RolloutWorker pid=1736)\u001b[0m reload save for track : 72\n"
     ]
    },
    {
     "name": "stderr",
     "output_type": "stream",
     "text": [
      "\u001b[2m\u001b[36m(RolloutWorker pid=1736)\u001b[0m C:\\Users\\nadir\\anaconda3\\envs\\GTRay2.4.0\\lib\\site-packages\\rtgym\\envs\\real_time_env.py:376: UserWarning: Time-step timed out. Elapsed since last time-step: 0.14556979998542374\n",
      "\u001b[2m\u001b[36m(RolloutWorker pid=1736)\u001b[0m   warnings.warn(f\"Time-step timed out. Elapsed since last time-step: {now - self.__t_end}\")\n"
     ]
    },
    {
     "name": "stdout",
     "output_type": "stream",
     "text": [
      "Loop:  308\n"
     ]
    },
    {
     "name": "stderr",
     "output_type": "stream",
     "text": [
      "\u001b[2m\u001b[36m(RolloutWorker pid=1736)\u001b[0m C:\\Users\\nadir\\anaconda3\\envs\\GTRay2.4.0\\lib\\site-packages\\rtgym\\envs\\real_time_env.py:376: UserWarning: Time-step timed out. Elapsed since last time-step: 3.0391023999454774\n",
      "\u001b[2m\u001b[36m(RolloutWorker pid=1736)\u001b[0m   warnings.warn(f\"Time-step timed out. Elapsed since last time-step: {now - self.__t_end}\")\n"
     ]
    },
    {
     "name": "stdout",
     "output_type": "stream",
     "text": [
      "\u001b[2m\u001b[36m(RolloutWorker pid=1736)\u001b[0m reset triggered\n",
      "\u001b[2m\u001b[36m(RolloutWorker pid=1736)\u001b[0m reload save for track : 72\n"
     ]
    },
    {
     "name": "stderr",
     "output_type": "stream",
     "text": [
      "\u001b[2m\u001b[36m(RolloutWorker pid=1736)\u001b[0m C:\\Users\\nadir\\anaconda3\\envs\\GTRay2.4.0\\lib\\site-packages\\rtgym\\envs\\real_time_env.py:376: UserWarning: Time-step timed out. Elapsed since last time-step: 0.1266411999849879\n",
      "\u001b[2m\u001b[36m(RolloutWorker pid=1736)\u001b[0m   warnings.warn(f\"Time-step timed out. Elapsed since last time-step: {now - self.__t_end}\")\n",
      "\u001b[2m\u001b[36m(RolloutWorker pid=1736)\u001b[0m C:\\Users\\nadir\\anaconda3\\envs\\GTRay2.4.0\\lib\\site-packages\\rtgym\\envs\\real_time_env.py:376: UserWarning: Time-step timed out. Elapsed since last time-step: 0.054923199944823864\n",
      "\u001b[2m\u001b[36m(RolloutWorker pid=1736)\u001b[0m   warnings.warn(f\"Time-step timed out. Elapsed since last time-step: {now - self.__t_end}\")\n"
     ]
    },
    {
     "name": "stdout",
     "output_type": "stream",
     "text": [
      "Loop:  309\n"
     ]
    },
    {
     "name": "stderr",
     "output_type": "stream",
     "text": [
      "\u001b[2m\u001b[36m(RolloutWorker pid=1736)\u001b[0m C:\\Users\\nadir\\anaconda3\\envs\\GTRay2.4.0\\lib\\site-packages\\rtgym\\envs\\real_time_env.py:376: UserWarning: Time-step timed out. Elapsed since last time-step: 3.024230400000306\n",
      "\u001b[2m\u001b[36m(RolloutWorker pid=1736)\u001b[0m   warnings.warn(f\"Time-step timed out. Elapsed since last time-step: {now - self.__t_end}\")\n"
     ]
    },
    {
     "name": "stdout",
     "output_type": "stream",
     "text": [
      "\u001b[2m\u001b[36m(RolloutWorker pid=1736)\u001b[0m reset triggered\n",
      "\u001b[2m\u001b[36m(RolloutWorker pid=1736)\u001b[0m reload save for track : 72\n"
     ]
    },
    {
     "name": "stderr",
     "output_type": "stream",
     "text": [
      "\u001b[2m\u001b[36m(RolloutWorker pid=1736)\u001b[0m C:\\Users\\nadir\\anaconda3\\envs\\GTRay2.4.0\\lib\\site-packages\\rtgym\\envs\\real_time_env.py:376: UserWarning: Time-step timed out. Elapsed since last time-step: 0.14024529998459911\n",
      "\u001b[2m\u001b[36m(RolloutWorker pid=1736)\u001b[0m   warnings.warn(f\"Time-step timed out. Elapsed since last time-step: {now - self.__t_end}\")\n"
     ]
    },
    {
     "name": "stdout",
     "output_type": "stream",
     "text": [
      "Loop:  310\n",
      "Saved 310\n"
     ]
    },
    {
     "name": "stderr",
     "output_type": "stream",
     "text": [
      "\u001b[2m\u001b[36m(RolloutWorker pid=1736)\u001b[0m C:\\Users\\nadir\\anaconda3\\envs\\GTRay2.4.0\\lib\\site-packages\\rtgym\\envs\\real_time_env.py:376: UserWarning: Time-step timed out. Elapsed since last time-step: 3.1095017999450647\n",
      "\u001b[2m\u001b[36m(RolloutWorker pid=1736)\u001b[0m   warnings.warn(f\"Time-step timed out. Elapsed since last time-step: {now - self.__t_end}\")\n"
     ]
    },
    {
     "name": "stdout",
     "output_type": "stream",
     "text": [
      "\u001b[2m\u001b[36m(RolloutWorker pid=1736)\u001b[0m reset triggered\n",
      "\u001b[2m\u001b[36m(RolloutWorker pid=1736)\u001b[0m reload save for track : 72\n"
     ]
    },
    {
     "name": "stderr",
     "output_type": "stream",
     "text": [
      "\u001b[2m\u001b[36m(RolloutWorker pid=1736)\u001b[0m C:\\Users\\nadir\\anaconda3\\envs\\GTRay2.4.0\\lib\\site-packages\\rtgym\\envs\\real_time_env.py:376: UserWarning: Time-step timed out. Elapsed since last time-step: 0.11917839998568525\n",
      "\u001b[2m\u001b[36m(RolloutWorker pid=1736)\u001b[0m   warnings.warn(f\"Time-step timed out. Elapsed since last time-step: {now - self.__t_end}\")\n",
      "\u001b[2m\u001b[36m(RolloutWorker pid=1736)\u001b[0m C:\\Users\\nadir\\anaconda3\\envs\\GTRay2.4.0\\lib\\site-packages\\rtgym\\envs\\real_time_env.py:376: UserWarning: Time-step timed out. Elapsed since last time-step: 0.05338149994440755\n",
      "\u001b[2m\u001b[36m(RolloutWorker pid=1736)\u001b[0m   warnings.warn(f\"Time-step timed out. Elapsed since last time-step: {now - self.__t_end}\")\n"
     ]
    },
    {
     "name": "stdout",
     "output_type": "stream",
     "text": [
      "Loop:  311\n"
     ]
    },
    {
     "name": "stderr",
     "output_type": "stream",
     "text": [
      "\u001b[2m\u001b[36m(RolloutWorker pid=1736)\u001b[0m C:\\Users\\nadir\\anaconda3\\envs\\GTRay2.4.0\\lib\\site-packages\\rtgym\\envs\\real_time_env.py:376: UserWarning: Time-step timed out. Elapsed since last time-step: 2.9388785999999527\n",
      "\u001b[2m\u001b[36m(RolloutWorker pid=1736)\u001b[0m   warnings.warn(f\"Time-step timed out. Elapsed since last time-step: {now - self.__t_end}\")\n",
      "\u001b[2m\u001b[36m(RolloutWorker pid=1736)\u001b[0m C:\\Users\\nadir\\anaconda3\\envs\\GTRay2.4.0\\lib\\site-packages\\rtgym\\envs\\real_time_env.py:376: UserWarning: Time-step timed out. Elapsed since last time-step: 0.14961939998556772\n",
      "\u001b[2m\u001b[36m(RolloutWorker pid=1736)\u001b[0m   warnings.warn(f\"Time-step timed out. Elapsed since last time-step: {now - self.__t_end}\")\n"
     ]
    },
    {
     "name": "stdout",
     "output_type": "stream",
     "text": [
      "\u001b[2m\u001b[36m(RolloutWorker pid=1736)\u001b[0m reset triggered\n",
      "\u001b[2m\u001b[36m(RolloutWorker pid=1736)\u001b[0m reload save for track : 72\n",
      "Loop:  312\n"
     ]
    },
    {
     "name": "stderr",
     "output_type": "stream",
     "text": [
      "\u001b[2m\u001b[36m(RolloutWorker pid=1736)\u001b[0m C:\\Users\\nadir\\anaconda3\\envs\\GTRay2.4.0\\lib\\site-packages\\rtgym\\envs\\real_time_env.py:376: UserWarning: Time-step timed out. Elapsed since last time-step: 3.057526199944732\n",
      "\u001b[2m\u001b[36m(RolloutWorker pid=1736)\u001b[0m   warnings.warn(f\"Time-step timed out. Elapsed since last time-step: {now - self.__t_end}\")\n",
      "\u001b[2m\u001b[36m(RolloutWorker pid=1736)\u001b[0m C:\\Users\\nadir\\anaconda3\\envs\\GTRay2.4.0\\lib\\site-packages\\rtgym\\envs\\real_time_env.py:376: UserWarning: Time-step timed out. Elapsed since last time-step: 0.12262119998558774\n",
      "\u001b[2m\u001b[36m(RolloutWorker pid=1736)\u001b[0m   warnings.warn(f\"Time-step timed out. Elapsed since last time-step: {now - self.__t_end}\")\n"
     ]
    },
    {
     "name": "stdout",
     "output_type": "stream",
     "text": [
      "\u001b[2m\u001b[36m(RolloutWorker pid=1736)\u001b[0m reset triggered\n",
      "\u001b[2m\u001b[36m(RolloutWorker pid=1736)\u001b[0m reload save for track : 72\n"
     ]
    },
    {
     "name": "stderr",
     "output_type": "stream",
     "text": [
      "\u001b[2m\u001b[36m(RolloutWorker pid=1736)\u001b[0m C:\\Users\\nadir\\anaconda3\\envs\\GTRay2.4.0\\lib\\site-packages\\rtgym\\envs\\real_time_env.py:376: UserWarning: Time-step timed out. Elapsed since last time-step: 0.055376099944624\n",
      "\u001b[2m\u001b[36m(RolloutWorker pid=1736)\u001b[0m   warnings.warn(f\"Time-step timed out. Elapsed since last time-step: {now - self.__t_end}\")\n"
     ]
    },
    {
     "name": "stdout",
     "output_type": "stream",
     "text": [
      "Loop:  313\n"
     ]
    },
    {
     "name": "stderr",
     "output_type": "stream",
     "text": [
      "\u001b[2m\u001b[36m(RolloutWorker pid=1736)\u001b[0m C:\\Users\\nadir\\anaconda3\\envs\\GTRay2.4.0\\lib\\site-packages\\rtgym\\envs\\real_time_env.py:376: UserWarning: Time-step timed out. Elapsed since last time-step: 3.0226863999996567\n",
      "\u001b[2m\u001b[36m(RolloutWorker pid=1736)\u001b[0m   warnings.warn(f\"Time-step timed out. Elapsed since last time-step: {now - self.__t_end}\")\n"
     ]
    },
    {
     "name": "stdout",
     "output_type": "stream",
     "text": [
      "\u001b[2m\u001b[36m(RolloutWorker pid=1736)\u001b[0m reset triggered\n",
      "\u001b[2m\u001b[36m(RolloutWorker pid=1736)\u001b[0m reload save for track : 72\n"
     ]
    },
    {
     "name": "stderr",
     "output_type": "stream",
     "text": [
      "\u001b[2m\u001b[36m(RolloutWorker pid=1736)\u001b[0m C:\\Users\\nadir\\anaconda3\\envs\\GTRay2.4.0\\lib\\site-packages\\rtgym\\envs\\real_time_env.py:376: UserWarning: Time-step timed out. Elapsed since last time-step: 0.13002519998553907\n",
      "\u001b[2m\u001b[36m(RolloutWorker pid=1736)\u001b[0m   warnings.warn(f\"Time-step timed out. Elapsed since last time-step: {now - self.__t_end}\")\n"
     ]
    },
    {
     "name": "stdout",
     "output_type": "stream",
     "text": [
      "Loop:  314\n"
     ]
    },
    {
     "name": "stderr",
     "output_type": "stream",
     "text": [
      "\u001b[2m\u001b[36m(RolloutWorker pid=1736)\u001b[0m C:\\Users\\nadir\\anaconda3\\envs\\GTRay2.4.0\\lib\\site-packages\\rtgym\\envs\\real_time_env.py:376: UserWarning: Time-step timed out. Elapsed since last time-step: 3.0622909999447074\n",
      "\u001b[2m\u001b[36m(RolloutWorker pid=1736)\u001b[0m   warnings.warn(f\"Time-step timed out. Elapsed since last time-step: {now - self.__t_end}\")\n",
      "\u001b[2m\u001b[36m(RolloutWorker pid=1736)\u001b[0m C:\\Users\\nadir\\anaconda3\\envs\\GTRay2.4.0\\lib\\site-packages\\rtgym\\envs\\real_time_env.py:376: UserWarning: Time-step timed out. Elapsed since last time-step: 0.13949179998508043\n",
      "\u001b[2m\u001b[36m(RolloutWorker pid=1736)\u001b[0m   warnings.warn(f\"Time-step timed out. Elapsed since last time-step: {now - self.__t_end}\")\n"
     ]
    },
    {
     "name": "stdout",
     "output_type": "stream",
     "text": [
      "\u001b[2m\u001b[36m(RolloutWorker pid=1736)\u001b[0m reset triggered\n",
      "\u001b[2m\u001b[36m(RolloutWorker pid=1736)\u001b[0m reload save for track : 72\n",
      "Loop:  315\n"
     ]
    },
    {
     "name": "stderr",
     "output_type": "stream",
     "text": [
      "\u001b[2m\u001b[36m(RolloutWorker pid=1736)\u001b[0m C:\\Users\\nadir\\anaconda3\\envs\\GTRay2.4.0\\lib\\site-packages\\rtgym\\envs\\real_time_env.py:376: UserWarning: Time-step timed out. Elapsed since last time-step: 3.0456038999454904\n",
      "\u001b[2m\u001b[36m(RolloutWorker pid=1736)\u001b[0m   warnings.warn(f\"Time-step timed out. Elapsed since last time-step: {now - self.__t_end}\")\n"
     ]
    },
    {
     "name": "stdout",
     "output_type": "stream",
     "text": [
      "\u001b[2m\u001b[36m(RolloutWorker pid=1736)\u001b[0m reset triggered\n",
      "\u001b[2m\u001b[36m(RolloutWorker pid=1736)\u001b[0m reload save for track : 72\n"
     ]
    },
    {
     "name": "stderr",
     "output_type": "stream",
     "text": [
      "\u001b[2m\u001b[36m(RolloutWorker pid=1736)\u001b[0m C:\\Users\\nadir\\anaconda3\\envs\\GTRay2.4.0\\lib\\site-packages\\rtgym\\envs\\real_time_env.py:376: UserWarning: Time-step timed out. Elapsed since last time-step: 0.13504049998482515\n",
      "\u001b[2m\u001b[36m(RolloutWorker pid=1736)\u001b[0m   warnings.warn(f\"Time-step timed out. Elapsed since last time-step: {now - self.__t_end}\")\n"
     ]
    },
    {
     "name": "stdout",
     "output_type": "stream",
     "text": [
      "Loop:  316\n"
     ]
    },
    {
     "name": "stderr",
     "output_type": "stream",
     "text": [
      "\u001b[2m\u001b[36m(RolloutWorker pid=1736)\u001b[0m C:\\Users\\nadir\\anaconda3\\envs\\GTRay2.4.0\\lib\\site-packages\\rtgym\\envs\\real_time_env.py:376: UserWarning: Time-step timed out. Elapsed since last time-step: 3.0668865999450645\n",
      "\u001b[2m\u001b[36m(RolloutWorker pid=1736)\u001b[0m   warnings.warn(f\"Time-step timed out. Elapsed since last time-step: {now - self.__t_end}\")\n",
      "\u001b[2m\u001b[36m(RolloutWorker pid=1736)\u001b[0m C:\\Users\\nadir\\anaconda3\\envs\\GTRay2.4.0\\lib\\site-packages\\rtgym\\envs\\real_time_env.py:376: UserWarning: Time-step timed out. Elapsed since last time-step: 0.15275999998539191\n",
      "\u001b[2m\u001b[36m(RolloutWorker pid=1736)\u001b[0m   warnings.warn(f\"Time-step timed out. Elapsed since last time-step: {now - self.__t_end}\")\n"
     ]
    },
    {
     "name": "stdout",
     "output_type": "stream",
     "text": [
      "\u001b[2m\u001b[36m(RolloutWorker pid=1736)\u001b[0m reset triggered\n",
      "\u001b[2m\u001b[36m(RolloutWorker pid=1736)\u001b[0m reload save for track : 72\n",
      "Loop:  317\n"
     ]
    },
    {
     "name": "stderr",
     "output_type": "stream",
     "text": [
      "\u001b[2m\u001b[36m(RolloutWorker pid=1736)\u001b[0m C:\\Users\\nadir\\anaconda3\\envs\\GTRay2.4.0\\lib\\site-packages\\rtgym\\envs\\real_time_env.py:376: UserWarning: Time-step timed out. Elapsed since last time-step: 3.030190299944479\n",
      "\u001b[2m\u001b[36m(RolloutWorker pid=1736)\u001b[0m   warnings.warn(f\"Time-step timed out. Elapsed since last time-step: {now - self.__t_end}\")\n"
     ]
    },
    {
     "name": "stdout",
     "output_type": "stream",
     "text": [
      "\u001b[2m\u001b[36m(RolloutWorker pid=1736)\u001b[0m reset triggered\n",
      "\u001b[2m\u001b[36m(RolloutWorker pid=1736)\u001b[0m reload save for track : 72\n"
     ]
    },
    {
     "name": "stderr",
     "output_type": "stream",
     "text": [
      "\u001b[2m\u001b[36m(RolloutWorker pid=1736)\u001b[0m C:\\Users\\nadir\\anaconda3\\envs\\GTRay2.4.0\\lib\\site-packages\\rtgym\\envs\\real_time_env.py:376: UserWarning: Time-step timed out. Elapsed since last time-step: 0.13429069998528576\n",
      "\u001b[2m\u001b[36m(RolloutWorker pid=1736)\u001b[0m   warnings.warn(f\"Time-step timed out. Elapsed since last time-step: {now - self.__t_end}\")\n"
     ]
    },
    {
     "name": "stdout",
     "output_type": "stream",
     "text": [
      "Loop:  318\n"
     ]
    },
    {
     "name": "stderr",
     "output_type": "stream",
     "text": [
      "\u001b[2m\u001b[36m(RolloutWorker pid=1736)\u001b[0m C:\\Users\\nadir\\anaconda3\\envs\\GTRay2.4.0\\lib\\site-packages\\rtgym\\envs\\real_time_env.py:376: UserWarning: Time-step timed out. Elapsed since last time-step: 3.0956155999456314\n",
      "\u001b[2m\u001b[36m(RolloutWorker pid=1736)\u001b[0m   warnings.warn(f\"Time-step timed out. Elapsed since last time-step: {now - self.__t_end}\")\n"
     ]
    },
    {
     "name": "stdout",
     "output_type": "stream",
     "text": [
      "\u001b[2m\u001b[36m(RolloutWorker pid=1736)\u001b[0m reset triggered\n",
      "\u001b[2m\u001b[36m(RolloutWorker pid=1736)\u001b[0m reload save for track : 72\n"
     ]
    },
    {
     "name": "stderr",
     "output_type": "stream",
     "text": [
      "\u001b[2m\u001b[36m(RolloutWorker pid=1736)\u001b[0m C:\\Users\\nadir\\anaconda3\\envs\\GTRay2.4.0\\lib\\site-packages\\rtgym\\envs\\real_time_env.py:376: UserWarning: Time-step timed out. Elapsed since last time-step: 0.13063229998442694\n",
      "\u001b[2m\u001b[36m(RolloutWorker pid=1736)\u001b[0m   warnings.warn(f\"Time-step timed out. Elapsed since last time-step: {now - self.__t_end}\")\n"
     ]
    },
    {
     "name": "stdout",
     "output_type": "stream",
     "text": [
      "Loop:  319\n"
     ]
    },
    {
     "name": "stderr",
     "output_type": "stream",
     "text": [
      "\u001b[2m\u001b[36m(RolloutWorker pid=1736)\u001b[0m C:\\Users\\nadir\\anaconda3\\envs\\GTRay2.4.0\\lib\\site-packages\\rtgym\\envs\\real_time_env.py:376: UserWarning: Time-step timed out. Elapsed since last time-step: 3.0047249999452106\n",
      "\u001b[2m\u001b[36m(RolloutWorker pid=1736)\u001b[0m   warnings.warn(f\"Time-step timed out. Elapsed since last time-step: {now - self.__t_end}\")\n"
     ]
    },
    {
     "name": "stdout",
     "output_type": "stream",
     "text": [
      "\u001b[2m\u001b[36m(RolloutWorker pid=1736)\u001b[0m reset triggered\n",
      "\u001b[2m\u001b[36m(RolloutWorker pid=1736)\u001b[0m reload save for track : 72\n"
     ]
    },
    {
     "name": "stderr",
     "output_type": "stream",
     "text": [
      "\u001b[2m\u001b[36m(RolloutWorker pid=1736)\u001b[0m C:\\Users\\nadir\\anaconda3\\envs\\GTRay2.4.0\\lib\\site-packages\\rtgym\\envs\\real_time_env.py:376: UserWarning: Time-step timed out. Elapsed since last time-step: 0.1245363999851179\n",
      "\u001b[2m\u001b[36m(RolloutWorker pid=1736)\u001b[0m   warnings.warn(f\"Time-step timed out. Elapsed since last time-step: {now - self.__t_end}\")\n",
      "\u001b[2m\u001b[36m(RolloutWorker pid=1736)\u001b[0m C:\\Users\\nadir\\anaconda3\\envs\\GTRay2.4.0\\lib\\site-packages\\rtgym\\envs\\real_time_env.py:376: UserWarning: Time-step timed out. Elapsed since last time-step: 0.14990969995324122\n",
      "\u001b[2m\u001b[36m(RolloutWorker pid=1736)\u001b[0m   warnings.warn(f\"Time-step timed out. Elapsed since last time-step: {now - self.__t_end}\")\n"
     ]
    },
    {
     "name": "stdout",
     "output_type": "stream",
     "text": [
      "Loop:  320\n",
      "Saved 320\n"
     ]
    },
    {
     "name": "stderr",
     "output_type": "stream",
     "text": [
      "\u001b[2m\u001b[36m(RolloutWorker pid=1736)\u001b[0m C:\\Users\\nadir\\anaconda3\\envs\\GTRay2.4.0\\lib\\site-packages\\rtgym\\envs\\real_time_env.py:376: UserWarning: Time-step timed out. Elapsed since last time-step: 3.010578999991594\n",
      "\u001b[2m\u001b[36m(RolloutWorker pid=1736)\u001b[0m   warnings.warn(f\"Time-step timed out. Elapsed since last time-step: {now - self.__t_end}\")\n",
      "\u001b[2m\u001b[36m(RolloutWorker pid=1736)\u001b[0m C:\\Users\\nadir\\anaconda3\\envs\\GTRay2.4.0\\lib\\site-packages\\rtgym\\envs\\real_time_env.py:376: UserWarning: Time-step timed out. Elapsed since last time-step: 0.12793729998520575\n",
      "\u001b[2m\u001b[36m(RolloutWorker pid=1736)\u001b[0m   warnings.warn(f\"Time-step timed out. Elapsed since last time-step: {now - self.__t_end}\")\n"
     ]
    },
    {
     "name": "stdout",
     "output_type": "stream",
     "text": [
      "\u001b[2m\u001b[36m(RolloutWorker pid=1736)\u001b[0m reset triggered\n",
      "\u001b[2m\u001b[36m(RolloutWorker pid=1736)\u001b[0m reload save for track : 72\n",
      "Loop:  321\n"
     ]
    },
    {
     "name": "stderr",
     "output_type": "stream",
     "text": [
      "\u001b[2m\u001b[36m(RolloutWorker pid=1736)\u001b[0m C:\\Users\\nadir\\anaconda3\\envs\\GTRay2.4.0\\lib\\site-packages\\rtgym\\envs\\real_time_env.py:376: UserWarning: Time-step timed out. Elapsed since last time-step: 3.0082957999456994\n",
      "\u001b[2m\u001b[36m(RolloutWorker pid=1736)\u001b[0m   warnings.warn(f\"Time-step timed out. Elapsed since last time-step: {now - self.__t_end}\")\n"
     ]
    },
    {
     "name": "stdout",
     "output_type": "stream",
     "text": [
      "\u001b[2m\u001b[36m(RolloutWorker pid=1736)\u001b[0m reset triggered\n",
      "\u001b[2m\u001b[36m(RolloutWorker pid=1736)\u001b[0m reload save for track : 72\n"
     ]
    },
    {
     "name": "stderr",
     "output_type": "stream",
     "text": [
      "\u001b[2m\u001b[36m(RolloutWorker pid=1736)\u001b[0m C:\\Users\\nadir\\anaconda3\\envs\\GTRay2.4.0\\lib\\site-packages\\rtgym\\envs\\real_time_env.py:376: UserWarning: Time-step timed out. Elapsed since last time-step: 0.1219097999846781\n",
      "\u001b[2m\u001b[36m(RolloutWorker pid=1736)\u001b[0m   warnings.warn(f\"Time-step timed out. Elapsed since last time-step: {now - self.__t_end}\")\n"
     ]
    },
    {
     "name": "stdout",
     "output_type": "stream",
     "text": [
      "Loop:  322\n"
     ]
    },
    {
     "name": "stderr",
     "output_type": "stream",
     "text": [
      "\u001b[2m\u001b[36m(RolloutWorker pid=1736)\u001b[0m C:\\Users\\nadir\\anaconda3\\envs\\GTRay2.4.0\\lib\\site-packages\\rtgym\\envs\\real_time_env.py:376: UserWarning: Time-step timed out. Elapsed since last time-step: 3.0439946999449603\n",
      "\u001b[2m\u001b[36m(RolloutWorker pid=1736)\u001b[0m   warnings.warn(f\"Time-step timed out. Elapsed since last time-step: {now - self.__t_end}\")\n"
     ]
    },
    {
     "name": "stdout",
     "output_type": "stream",
     "text": [
      "\u001b[2m\u001b[36m(RolloutWorker pid=1736)\u001b[0m reset triggered\n",
      "\u001b[2m\u001b[36m(RolloutWorker pid=1736)\u001b[0m reload save for track : 72\n"
     ]
    },
    {
     "name": "stderr",
     "output_type": "stream",
     "text": [
      "\u001b[2m\u001b[36m(RolloutWorker pid=1736)\u001b[0m C:\\Users\\nadir\\anaconda3\\envs\\GTRay2.4.0\\lib\\site-packages\\rtgym\\envs\\real_time_env.py:376: UserWarning: Time-step timed out. Elapsed since last time-step: 0.15679609998551314\n",
      "\u001b[2m\u001b[36m(RolloutWorker pid=1736)\u001b[0m   warnings.warn(f\"Time-step timed out. Elapsed since last time-step: {now - self.__t_end}\")\n"
     ]
    },
    {
     "name": "stdout",
     "output_type": "stream",
     "text": [
      "Loop:  323\n"
     ]
    },
    {
     "name": "stderr",
     "output_type": "stream",
     "text": [
      "\u001b[2m\u001b[36m(RolloutWorker pid=1736)\u001b[0m C:\\Users\\nadir\\anaconda3\\envs\\GTRay2.4.0\\lib\\site-packages\\rtgym\\envs\\real_time_env.py:376: UserWarning: Time-step timed out. Elapsed since last time-step: 3.0941382999444613\n",
      "\u001b[2m\u001b[36m(RolloutWorker pid=1736)\u001b[0m   warnings.warn(f\"Time-step timed out. Elapsed since last time-step: {now - self.__t_end}\")\n"
     ]
    },
    {
     "name": "stdout",
     "output_type": "stream",
     "text": [
      "\u001b[2m\u001b[36m(RolloutWorker pid=1736)\u001b[0m reset triggered\n",
      "\u001b[2m\u001b[36m(RolloutWorker pid=1736)\u001b[0m reload save for track : 72\n"
     ]
    },
    {
     "name": "stderr",
     "output_type": "stream",
     "text": [
      "\u001b[2m\u001b[36m(RolloutWorker pid=1736)\u001b[0m C:\\Users\\nadir\\anaconda3\\envs\\GTRay2.4.0\\lib\\site-packages\\rtgym\\envs\\real_time_env.py:376: UserWarning: Time-step timed out. Elapsed since last time-step: 0.1313022999856912\n",
      "\u001b[2m\u001b[36m(RolloutWorker pid=1736)\u001b[0m   warnings.warn(f\"Time-step timed out. Elapsed since last time-step: {now - self.__t_end}\")\n"
     ]
    },
    {
     "name": "stdout",
     "output_type": "stream",
     "text": [
      "Loop:  324\n"
     ]
    },
    {
     "name": "stderr",
     "output_type": "stream",
     "text": [
      "\u001b[2m\u001b[36m(RolloutWorker pid=1736)\u001b[0m C:\\Users\\nadir\\anaconda3\\envs\\GTRay2.4.0\\lib\\site-packages\\rtgym\\envs\\real_time_env.py:376: UserWarning: Time-step timed out. Elapsed since last time-step: 3.0542856999445576\n",
      "\u001b[2m\u001b[36m(RolloutWorker pid=1736)\u001b[0m   warnings.warn(f\"Time-step timed out. Elapsed since last time-step: {now - self.__t_end}\")\n",
      "\u001b[2m\u001b[36m(RolloutWorker pid=1736)\u001b[0m C:\\Users\\nadir\\anaconda3\\envs\\GTRay2.4.0\\lib\\site-packages\\rtgym\\envs\\real_time_env.py:376: UserWarning: Time-step timed out. Elapsed since last time-step: 0.14611549998517148\n",
      "\u001b[2m\u001b[36m(RolloutWorker pid=1736)\u001b[0m   warnings.warn(f\"Time-step timed out. Elapsed since last time-step: {now - self.__t_end}\")\n"
     ]
    },
    {
     "name": "stdout",
     "output_type": "stream",
     "text": [
      "\u001b[2m\u001b[36m(RolloutWorker pid=1736)\u001b[0m reset triggered\n",
      "\u001b[2m\u001b[36m(RolloutWorker pid=1736)\u001b[0m reload save for track : 72\n",
      "Loop:  325\n"
     ]
    },
    {
     "name": "stderr",
     "output_type": "stream",
     "text": [
      "\u001b[2m\u001b[36m(RolloutWorker pid=1736)\u001b[0m C:\\Users\\nadir\\anaconda3\\envs\\GTRay2.4.0\\lib\\site-packages\\rtgym\\envs\\real_time_env.py:376: UserWarning: Time-step timed out. Elapsed since last time-step: 3.0101168999453876\n",
      "\u001b[2m\u001b[36m(RolloutWorker pid=1736)\u001b[0m   warnings.warn(f\"Time-step timed out. Elapsed since last time-step: {now - self.__t_end}\")\n",
      "\u001b[2m\u001b[36m(RolloutWorker pid=1736)\u001b[0m C:\\Users\\nadir\\anaconda3\\envs\\GTRay2.4.0\\lib\\site-packages\\rtgym\\envs\\real_time_env.py:376: UserWarning: Time-step timed out. Elapsed since last time-step: 0.12450669998452213\n",
      "\u001b[2m\u001b[36m(RolloutWorker pid=1736)\u001b[0m   warnings.warn(f\"Time-step timed out. Elapsed since last time-step: {now - self.__t_end}\")\n"
     ]
    },
    {
     "name": "stdout",
     "output_type": "stream",
     "text": [
      "\u001b[2m\u001b[36m(RolloutWorker pid=1736)\u001b[0m reset triggered\n",
      "\u001b[2m\u001b[36m(RolloutWorker pid=1736)\u001b[0m reload save for track : 72\n",
      "Loop:  326\n"
     ]
    },
    {
     "name": "stderr",
     "output_type": "stream",
     "text": [
      "\u001b[2m\u001b[36m(RolloutWorker pid=1736)\u001b[0m C:\\Users\\nadir\\anaconda3\\envs\\GTRay2.4.0\\lib\\site-packages\\rtgym\\envs\\real_time_env.py:376: UserWarning: Time-step timed out. Elapsed since last time-step: 3.058525799945528\n",
      "\u001b[2m\u001b[36m(RolloutWorker pid=1736)\u001b[0m   warnings.warn(f\"Time-step timed out. Elapsed since last time-step: {now - self.__t_end}\")\n"
     ]
    },
    {
     "name": "stdout",
     "output_type": "stream",
     "text": [
      "\u001b[2m\u001b[36m(RolloutWorker pid=1736)\u001b[0m reset triggered\n",
      "\u001b[2m\u001b[36m(RolloutWorker pid=1736)\u001b[0m reload save for track : 72\n"
     ]
    },
    {
     "name": "stderr",
     "output_type": "stream",
     "text": [
      "\u001b[2m\u001b[36m(RolloutWorker pid=1736)\u001b[0m C:\\Users\\nadir\\anaconda3\\envs\\GTRay2.4.0\\lib\\site-packages\\rtgym\\envs\\real_time_env.py:376: UserWarning: Time-step timed out. Elapsed since last time-step: 0.13202359998467728\n",
      "\u001b[2m\u001b[36m(RolloutWorker pid=1736)\u001b[0m   warnings.warn(f\"Time-step timed out. Elapsed since last time-step: {now - self.__t_end}\")\n"
     ]
    },
    {
     "name": "stdout",
     "output_type": "stream",
     "text": [
      "Loop:  327\n"
     ]
    },
    {
     "name": "stderr",
     "output_type": "stream",
     "text": [
      "\u001b[2m\u001b[36m(RolloutWorker pid=1736)\u001b[0m C:\\Users\\nadir\\anaconda3\\envs\\GTRay2.4.0\\lib\\site-packages\\rtgym\\envs\\real_time_env.py:376: UserWarning: Time-step timed out. Elapsed since last time-step: 3.0821454999449998\n",
      "\u001b[2m\u001b[36m(RolloutWorker pid=1736)\u001b[0m   warnings.warn(f\"Time-step timed out. Elapsed since last time-step: {now - self.__t_end}\")\n",
      "\u001b[2m\u001b[36m(RolloutWorker pid=1736)\u001b[0m C:\\Users\\nadir\\anaconda3\\envs\\GTRay2.4.0\\lib\\site-packages\\rtgym\\envs\\real_time_env.py:376: UserWarning: Time-step timed out. Elapsed since last time-step: 0.15736399998513662\n",
      "\u001b[2m\u001b[36m(RolloutWorker pid=1736)\u001b[0m   warnings.warn(f\"Time-step timed out. Elapsed since last time-step: {now - self.__t_end}\")\n"
     ]
    },
    {
     "name": "stdout",
     "output_type": "stream",
     "text": [
      "\u001b[2m\u001b[36m(RolloutWorker pid=1736)\u001b[0m reset triggered\n",
      "\u001b[2m\u001b[36m(RolloutWorker pid=1736)\u001b[0m reload save for track : 72\n",
      "Loop:  328\n"
     ]
    },
    {
     "name": "stderr",
     "output_type": "stream",
     "text": [
      "\u001b[2m\u001b[36m(RolloutWorker pid=1736)\u001b[0m C:\\Users\\nadir\\anaconda3\\envs\\GTRay2.4.0\\lib\\site-packages\\rtgym\\envs\\real_time_env.py:376: UserWarning: Time-step timed out. Elapsed since last time-step: 3.060724899944944\n",
      "\u001b[2m\u001b[36m(RolloutWorker pid=1736)\u001b[0m   warnings.warn(f\"Time-step timed out. Elapsed since last time-step: {now - self.__t_end}\")\n"
     ]
    },
    {
     "name": "stdout",
     "output_type": "stream",
     "text": [
      "\u001b[2m\u001b[36m(RolloutWorker pid=1736)\u001b[0m reset triggered\n",
      "\u001b[2m\u001b[36m(RolloutWorker pid=1736)\u001b[0m reload save for track : 72\n"
     ]
    },
    {
     "name": "stderr",
     "output_type": "stream",
     "text": [
      "\u001b[2m\u001b[36m(RolloutWorker pid=1736)\u001b[0m C:\\Users\\nadir\\anaconda3\\envs\\GTRay2.4.0\\lib\\site-packages\\rtgym\\envs\\real_time_env.py:376: UserWarning: Time-step timed out. Elapsed since last time-step: 0.11994419998518424\n",
      "\u001b[2m\u001b[36m(RolloutWorker pid=1736)\u001b[0m   warnings.warn(f\"Time-step timed out. Elapsed since last time-step: {now - self.__t_end}\")\n",
      "\u001b[2m\u001b[36m(RolloutWorker pid=1736)\u001b[0m C:\\Users\\nadir\\anaconda3\\envs\\GTRay2.4.0\\lib\\site-packages\\rtgym\\envs\\real_time_env.py:376: UserWarning: Time-step timed out. Elapsed since last time-step: 0.0606720999458048\n",
      "\u001b[2m\u001b[36m(RolloutWorker pid=1736)\u001b[0m   warnings.warn(f\"Time-step timed out. Elapsed since last time-step: {now - self.__t_end}\")\n"
     ]
    },
    {
     "name": "stdout",
     "output_type": "stream",
     "text": [
      "Loop:  329\n"
     ]
    },
    {
     "name": "stderr",
     "output_type": "stream",
     "text": [
      "\u001b[2m\u001b[36m(RolloutWorker pid=1736)\u001b[0m C:\\Users\\nadir\\anaconda3\\envs\\GTRay2.4.0\\lib\\site-packages\\rtgym\\envs\\real_time_env.py:376: UserWarning: Time-step timed out. Elapsed since last time-step: 2.968469399999776\n",
      "\u001b[2m\u001b[36m(RolloutWorker pid=1736)\u001b[0m   warnings.warn(f\"Time-step timed out. Elapsed since last time-step: {now - self.__t_end}\")\n"
     ]
    },
    {
     "name": "stdout",
     "output_type": "stream",
     "text": [
      "\u001b[2m\u001b[36m(RolloutWorker pid=1736)\u001b[0m reset triggered\n",
      "\u001b[2m\u001b[36m(RolloutWorker pid=1736)\u001b[0m reload save for track : 72\n"
     ]
    },
    {
     "name": "stderr",
     "output_type": "stream",
     "text": [
      "\u001b[2m\u001b[36m(RolloutWorker pid=1736)\u001b[0m C:\\Users\\nadir\\anaconda3\\envs\\GTRay2.4.0\\lib\\site-packages\\rtgym\\envs\\real_time_env.py:376: UserWarning: Time-step timed out. Elapsed since last time-step: 0.12540569998509454\n",
      "\u001b[2m\u001b[36m(RolloutWorker pid=1736)\u001b[0m   warnings.warn(f\"Time-step timed out. Elapsed since last time-step: {now - self.__t_end}\")\n"
     ]
    },
    {
     "name": "stdout",
     "output_type": "stream",
     "text": [
      "Loop:  330\n",
      "Saved 330\n"
     ]
    },
    {
     "name": "stderr",
     "output_type": "stream",
     "text": [
      "\u001b[2m\u001b[36m(RolloutWorker pid=1736)\u001b[0m C:\\Users\\nadir\\anaconda3\\envs\\GTRay2.4.0\\lib\\site-packages\\rtgym\\envs\\real_time_env.py:376: UserWarning: Time-step timed out. Elapsed since last time-step: 3.1226152999452097\n",
      "\u001b[2m\u001b[36m(RolloutWorker pid=1736)\u001b[0m   warnings.warn(f\"Time-step timed out. Elapsed since last time-step: {now - self.__t_end}\")\n"
     ]
    },
    {
     "name": "stdout",
     "output_type": "stream",
     "text": [
      "\u001b[2m\u001b[36m(RolloutWorker pid=1736)\u001b[0m reset triggered\n",
      "\u001b[2m\u001b[36m(RolloutWorker pid=1736)\u001b[0m reload save for track : 72\n"
     ]
    },
    {
     "name": "stderr",
     "output_type": "stream",
     "text": [
      "\u001b[2m\u001b[36m(RolloutWorker pid=1736)\u001b[0m C:\\Users\\nadir\\anaconda3\\envs\\GTRay2.4.0\\lib\\site-packages\\rtgym\\envs\\real_time_env.py:376: UserWarning: Time-step timed out. Elapsed since last time-step: 0.13686869998491602\n",
      "\u001b[2m\u001b[36m(RolloutWorker pid=1736)\u001b[0m   warnings.warn(f\"Time-step timed out. Elapsed since last time-step: {now - self.__t_end}\")\n",
      "\u001b[2m\u001b[36m(RolloutWorker pid=1736)\u001b[0m C:\\Users\\nadir\\anaconda3\\envs\\GTRay2.4.0\\lib\\site-packages\\rtgym\\envs\\real_time_env.py:376: UserWarning: Time-step timed out. Elapsed since last time-step: 0.052289399945038895\n",
      "\u001b[2m\u001b[36m(RolloutWorker pid=1736)\u001b[0m   warnings.warn(f\"Time-step timed out. Elapsed since last time-step: {now - self.__t_end}\")\n"
     ]
    },
    {
     "name": "stdout",
     "output_type": "stream",
     "text": [
      "Loop:  331\n"
     ]
    },
    {
     "name": "stderr",
     "output_type": "stream",
     "text": [
      "\u001b[2m\u001b[36m(RolloutWorker pid=1736)\u001b[0m C:\\Users\\nadir\\anaconda3\\envs\\GTRay2.4.0\\lib\\site-packages\\rtgym\\envs\\real_time_env.py:376: UserWarning: Time-step timed out. Elapsed since last time-step: 2.9781487000000197\n",
      "\u001b[2m\u001b[36m(RolloutWorker pid=1736)\u001b[0m   warnings.warn(f\"Time-step timed out. Elapsed since last time-step: {now - self.__t_end}\")\n"
     ]
    },
    {
     "name": "stdout",
     "output_type": "stream",
     "text": [
      "\u001b[2m\u001b[36m(RolloutWorker pid=1736)\u001b[0m reset triggered\n",
      "\u001b[2m\u001b[36m(RolloutWorker pid=1736)\u001b[0m reload save for track : 72\n"
     ]
    },
    {
     "name": "stderr",
     "output_type": "stream",
     "text": [
      "\u001b[2m\u001b[36m(RolloutWorker pid=1736)\u001b[0m C:\\Users\\nadir\\anaconda3\\envs\\GTRay2.4.0\\lib\\site-packages\\rtgym\\envs\\real_time_env.py:376: UserWarning: Time-step timed out. Elapsed since last time-step: 0.12593299998843577\n",
      "\u001b[2m\u001b[36m(RolloutWorker pid=1736)\u001b[0m   warnings.warn(f\"Time-step timed out. Elapsed since last time-step: {now - self.__t_end}\")\n"
     ]
    },
    {
     "name": "stdout",
     "output_type": "stream",
     "text": [
      "Loop:  332\n"
     ]
    },
    {
     "name": "stderr",
     "output_type": "stream",
     "text": [
      "\u001b[2m\u001b[36m(RolloutWorker pid=1736)\u001b[0m C:\\Users\\nadir\\anaconda3\\envs\\GTRay2.4.0\\lib\\site-packages\\rtgym\\envs\\real_time_env.py:376: UserWarning: Time-step timed out. Elapsed since last time-step: 3.0419108999412856\n",
      "\u001b[2m\u001b[36m(RolloutWorker pid=1736)\u001b[0m   warnings.warn(f\"Time-step timed out. Elapsed since last time-step: {now - self.__t_end}\")\n",
      "\u001b[2m\u001b[36m(RolloutWorker pid=1736)\u001b[0m C:\\Users\\nadir\\anaconda3\\envs\\GTRay2.4.0\\lib\\site-packages\\rtgym\\envs\\real_time_env.py:376: UserWarning: Time-step timed out. Elapsed since last time-step: 0.1475348999892958\n",
      "\u001b[2m\u001b[36m(RolloutWorker pid=1736)\u001b[0m   warnings.warn(f\"Time-step timed out. Elapsed since last time-step: {now - self.__t_end}\")\n"
     ]
    },
    {
     "name": "stdout",
     "output_type": "stream",
     "text": [
      "\u001b[2m\u001b[36m(RolloutWorker pid=1736)\u001b[0m reset triggered\n",
      "\u001b[2m\u001b[36m(RolloutWorker pid=1736)\u001b[0m reload save for track : 72\n",
      "Loop:  333\n"
     ]
    },
    {
     "name": "stderr",
     "output_type": "stream",
     "text": [
      "\u001b[2m\u001b[36m(RolloutWorker pid=1736)\u001b[0m C:\\Users\\nadir\\anaconda3\\envs\\GTRay2.4.0\\lib\\site-packages\\rtgym\\envs\\real_time_env.py:376: UserWarning: Time-step timed out. Elapsed since last time-step: 3.0513525999413105\n",
      "\u001b[2m\u001b[36m(RolloutWorker pid=1736)\u001b[0m   warnings.warn(f\"Time-step timed out. Elapsed since last time-step: {now - self.__t_end}\")\n"
     ]
    },
    {
     "name": "stdout",
     "output_type": "stream",
     "text": [
      "\u001b[2m\u001b[36m(RolloutWorker pid=1736)\u001b[0m reset triggered\n",
      "\u001b[2m\u001b[36m(RolloutWorker pid=1736)\u001b[0m reload save for track : 72\n"
     ]
    },
    {
     "name": "stderr",
     "output_type": "stream",
     "text": [
      "\u001b[2m\u001b[36m(RolloutWorker pid=1736)\u001b[0m C:\\Users\\nadir\\anaconda3\\envs\\GTRay2.4.0\\lib\\site-packages\\rtgym\\envs\\real_time_env.py:376: UserWarning: Time-step timed out. Elapsed since last time-step: 0.11394869998912327\n",
      "\u001b[2m\u001b[36m(RolloutWorker pid=1736)\u001b[0m   warnings.warn(f\"Time-step timed out. Elapsed since last time-step: {now - self.__t_end}\")\n",
      "\u001b[2m\u001b[36m(RolloutWorker pid=1736)\u001b[0m C:\\Users\\nadir\\anaconda3\\envs\\GTRay2.4.0\\lib\\site-packages\\rtgym\\envs\\real_time_env.py:376: UserWarning: Time-step timed out. Elapsed since last time-step: 0.06483289994139341\n",
      "\u001b[2m\u001b[36m(RolloutWorker pid=1736)\u001b[0m   warnings.warn(f\"Time-step timed out. Elapsed since last time-step: {now - self.__t_end}\")\n"
     ]
    },
    {
     "name": "stdout",
     "output_type": "stream",
     "text": [
      "Loop:  334\n"
     ]
    },
    {
     "name": "stderr",
     "output_type": "stream",
     "text": [
      "\u001b[2m\u001b[36m(RolloutWorker pid=1736)\u001b[0m C:\\Users\\nadir\\anaconda3\\envs\\GTRay2.4.0\\lib\\site-packages\\rtgym\\envs\\real_time_env.py:376: UserWarning: Time-step timed out. Elapsed since last time-step: 3.0044177999998283\n",
      "\u001b[2m\u001b[36m(RolloutWorker pid=1736)\u001b[0m   warnings.warn(f\"Time-step timed out. Elapsed since last time-step: {now - self.__t_end}\")\n"
     ]
    },
    {
     "name": "stdout",
     "output_type": "stream",
     "text": [
      "\u001b[2m\u001b[36m(RolloutWorker pid=1736)\u001b[0m reset triggered\n",
      "\u001b[2m\u001b[36m(RolloutWorker pid=1736)\u001b[0m reload save for track : 72\n"
     ]
    },
    {
     "name": "stderr",
     "output_type": "stream",
     "text": [
      "\u001b[2m\u001b[36m(RolloutWorker pid=1736)\u001b[0m C:\\Users\\nadir\\anaconda3\\envs\\GTRay2.4.0\\lib\\site-packages\\rtgym\\envs\\real_time_env.py:376: UserWarning: Time-step timed out. Elapsed since last time-step: 0.1353602999888608\n",
      "\u001b[2m\u001b[36m(RolloutWorker pid=1736)\u001b[0m   warnings.warn(f\"Time-step timed out. Elapsed since last time-step: {now - self.__t_end}\")\n"
     ]
    },
    {
     "name": "stdout",
     "output_type": "stream",
     "text": [
      "Loop:  335\n"
     ]
    },
    {
     "name": "stderr",
     "output_type": "stream",
     "text": [
      "\u001b[2m\u001b[36m(RolloutWorker pid=1736)\u001b[0m C:\\Users\\nadir\\anaconda3\\envs\\GTRay2.4.0\\lib\\site-packages\\rtgym\\envs\\real_time_env.py:376: UserWarning: Time-step timed out. Elapsed since last time-step: 3.0448321999410837\n",
      "\u001b[2m\u001b[36m(RolloutWorker pid=1736)\u001b[0m   warnings.warn(f\"Time-step timed out. Elapsed since last time-step: {now - self.__t_end}\")\n"
     ]
    },
    {
     "name": "stdout",
     "output_type": "stream",
     "text": [
      "\u001b[2m\u001b[36m(RolloutWorker pid=1736)\u001b[0m reset triggered\n",
      "\u001b[2m\u001b[36m(RolloutWorker pid=1736)\u001b[0m reload save for track : 72\n"
     ]
    },
    {
     "name": "stderr",
     "output_type": "stream",
     "text": [
      "\u001b[2m\u001b[36m(RolloutWorker pid=1736)\u001b[0m C:\\Users\\nadir\\anaconda3\\envs\\GTRay2.4.0\\lib\\site-packages\\rtgym\\envs\\real_time_env.py:376: UserWarning: Time-step timed out. Elapsed since last time-step: 0.11610749999817926\n",
      "\u001b[2m\u001b[36m(RolloutWorker pid=1736)\u001b[0m   warnings.warn(f\"Time-step timed out. Elapsed since last time-step: {now - self.__t_end}\")\n"
     ]
    },
    {
     "name": "stdout",
     "output_type": "stream",
     "text": [
      "Loop:  336\n"
     ]
    },
    {
     "name": "stderr",
     "output_type": "stream",
     "text": [
      "\u001b[2m\u001b[36m(RolloutWorker pid=1736)\u001b[0m C:\\Users\\nadir\\anaconda3\\envs\\GTRay2.4.0\\lib\\site-packages\\rtgym\\envs\\real_time_env.py:376: UserWarning: Time-step timed out. Elapsed since last time-step: 3.100854499932211\n",
      "\u001b[2m\u001b[36m(RolloutWorker pid=1736)\u001b[0m   warnings.warn(f\"Time-step timed out. Elapsed since last time-step: {now - self.__t_end}\")\n"
     ]
    },
    {
     "name": "stdout",
     "output_type": "stream",
     "text": [
      "\u001b[2m\u001b[36m(RolloutWorker pid=1736)\u001b[0m reset triggered\n",
      "\u001b[2m\u001b[36m(RolloutWorker pid=1736)\u001b[0m reload save for track : 72\n"
     ]
    },
    {
     "name": "stderr",
     "output_type": "stream",
     "text": [
      "\u001b[2m\u001b[36m(RolloutWorker pid=1736)\u001b[0m C:\\Users\\nadir\\anaconda3\\envs\\GTRay2.4.0\\lib\\site-packages\\rtgym\\envs\\real_time_env.py:376: UserWarning: Time-step timed out. Elapsed since last time-step: 0.15212849999716127\n",
      "\u001b[2m\u001b[36m(RolloutWorker pid=1736)\u001b[0m   warnings.warn(f\"Time-step timed out. Elapsed since last time-step: {now - self.__t_end}\")\n"
     ]
    },
    {
     "name": "stdout",
     "output_type": "stream",
     "text": [
      "Loop:  337\n"
     ]
    },
    {
     "name": "stderr",
     "output_type": "stream",
     "text": [
      "\u001b[2m\u001b[36m(RolloutWorker pid=1736)\u001b[0m C:\\Users\\nadir\\anaconda3\\envs\\GTRay2.4.0\\lib\\site-packages\\rtgym\\envs\\real_time_env.py:376: UserWarning: Time-step timed out. Elapsed since last time-step: 3.0133872999322193\n",
      "\u001b[2m\u001b[36m(RolloutWorker pid=1736)\u001b[0m   warnings.warn(f\"Time-step timed out. Elapsed since last time-step: {now - self.__t_end}\")\n",
      "\u001b[2m\u001b[36m(RolloutWorker pid=1736)\u001b[0m C:\\Users\\nadir\\anaconda3\\envs\\GTRay2.4.0\\lib\\site-packages\\rtgym\\envs\\real_time_env.py:376: UserWarning: Time-step timed out. Elapsed since last time-step: 0.11316359999818815\n",
      "\u001b[2m\u001b[36m(RolloutWorker pid=1736)\u001b[0m   warnings.warn(f\"Time-step timed out. Elapsed since last time-step: {now - self.__t_end}\")\n"
     ]
    },
    {
     "name": "stdout",
     "output_type": "stream",
     "text": [
      "\u001b[2m\u001b[36m(RolloutWorker pid=1736)\u001b[0m reset triggered\n",
      "\u001b[2m\u001b[36m(RolloutWorker pid=1736)\u001b[0m reload save for track : 72\n",
      "Loop:  338\n"
     ]
    },
    {
     "name": "stderr",
     "output_type": "stream",
     "text": [
      "\u001b[2m\u001b[36m(RolloutWorker pid=1736)\u001b[0m C:\\Users\\nadir\\anaconda3\\envs\\GTRay2.4.0\\lib\\site-packages\\rtgym\\envs\\real_time_env.py:376: UserWarning: Time-step timed out. Elapsed since last time-step: 3.1253442999322942\n",
      "\u001b[2m\u001b[36m(RolloutWorker pid=1736)\u001b[0m   warnings.warn(f\"Time-step timed out. Elapsed since last time-step: {now - self.__t_end}\")\n"
     ]
    },
    {
     "name": "stdout",
     "output_type": "stream",
     "text": [
      "\u001b[2m\u001b[36m(RolloutWorker pid=1736)\u001b[0m reset triggered\n",
      "\u001b[2m\u001b[36m(RolloutWorker pid=1736)\u001b[0m reload save for track : 72\n"
     ]
    },
    {
     "name": "stderr",
     "output_type": "stream",
     "text": [
      "\u001b[2m\u001b[36m(RolloutWorker pid=1736)\u001b[0m C:\\Users\\nadir\\anaconda3\\envs\\GTRay2.4.0\\lib\\site-packages\\rtgym\\envs\\real_time_env.py:376: UserWarning: Time-step timed out. Elapsed since last time-step: 0.10559899999771005\n",
      "\u001b[2m\u001b[36m(RolloutWorker pid=1736)\u001b[0m   warnings.warn(f\"Time-step timed out. Elapsed since last time-step: {now - self.__t_end}\")\n",
      "\u001b[2m\u001b[36m(RolloutWorker pid=1736)\u001b[0m C:\\Users\\nadir\\anaconda3\\envs\\GTRay2.4.0\\lib\\site-packages\\rtgym\\envs\\real_time_env.py:376: UserWarning: Time-step timed out. Elapsed since last time-step: 0.07155829993280349\n",
      "\u001b[2m\u001b[36m(RolloutWorker pid=1736)\u001b[0m   warnings.warn(f\"Time-step timed out. Elapsed since last time-step: {now - self.__t_end}\")\n"
     ]
    },
    {
     "name": "stdout",
     "output_type": "stream",
     "text": [
      "Loop:  339\n"
     ]
    },
    {
     "name": "stderr",
     "output_type": "stream",
     "text": [
      "\u001b[2m\u001b[36m(RolloutWorker pid=1736)\u001b[0m C:\\Users\\nadir\\anaconda3\\envs\\GTRay2.4.0\\lib\\site-packages\\rtgym\\envs\\real_time_env.py:376: UserWarning: Time-step timed out. Elapsed since last time-step: 2.986486299999342\n",
      "\u001b[2m\u001b[36m(RolloutWorker pid=1736)\u001b[0m   warnings.warn(f\"Time-step timed out. Elapsed since last time-step: {now - self.__t_end}\")\n"
     ]
    },
    {
     "name": "stdout",
     "output_type": "stream",
     "text": [
      "\u001b[2m\u001b[36m(RolloutWorker pid=1736)\u001b[0m reset triggered\n",
      "\u001b[2m\u001b[36m(RolloutWorker pid=1736)\u001b[0m reload save for track : 72\n"
     ]
    },
    {
     "name": "stderr",
     "output_type": "stream",
     "text": [
      "\u001b[2m\u001b[36m(RolloutWorker pid=1736)\u001b[0m C:\\Users\\nadir\\anaconda3\\envs\\GTRay2.4.0\\lib\\site-packages\\rtgym\\envs\\real_time_env.py:376: UserWarning: Time-step timed out. Elapsed since last time-step: 0.12447139999858337\n",
      "\u001b[2m\u001b[36m(RolloutWorker pid=1736)\u001b[0m   warnings.warn(f\"Time-step timed out. Elapsed since last time-step: {now - self.__t_end}\")\n"
     ]
    },
    {
     "name": "stdout",
     "output_type": "stream",
     "text": [
      "Loop:  340\n",
      "Saved 340\n"
     ]
    },
    {
     "name": "stderr",
     "output_type": "stream",
     "text": [
      "\u001b[2m\u001b[36m(RolloutWorker pid=1736)\u001b[0m C:\\Users\\nadir\\anaconda3\\envs\\GTRay2.4.0\\lib\\site-packages\\rtgym\\envs\\real_time_env.py:376: UserWarning: Time-step timed out. Elapsed since last time-step: 3.1628492999316222\n",
      "\u001b[2m\u001b[36m(RolloutWorker pid=1736)\u001b[0m   warnings.warn(f\"Time-step timed out. Elapsed since last time-step: {now - self.__t_end}\")\n",
      "\u001b[2m\u001b[36m(RolloutWorker pid=1736)\u001b[0m C:\\Users\\nadir\\anaconda3\\envs\\GTRay2.4.0\\lib\\site-packages\\rtgym\\envs\\real_time_env.py:376: UserWarning: Time-step timed out. Elapsed since last time-step: 0.11432299999796669\n",
      "\u001b[2m\u001b[36m(RolloutWorker pid=1736)\u001b[0m   warnings.warn(f\"Time-step timed out. Elapsed since last time-step: {now - self.__t_end}\")\n"
     ]
    },
    {
     "name": "stdout",
     "output_type": "stream",
     "text": [
      "\u001b[2m\u001b[36m(RolloutWorker pid=1736)\u001b[0m reset triggered\n",
      "\u001b[2m\u001b[36m(RolloutWorker pid=1736)\u001b[0m reload save for track : 72\n"
     ]
    },
    {
     "name": "stderr",
     "output_type": "stream",
     "text": [
      "\u001b[2m\u001b[36m(RolloutWorker pid=1736)\u001b[0m C:\\Users\\nadir\\anaconda3\\envs\\GTRay2.4.0\\lib\\site-packages\\rtgym\\envs\\real_time_env.py:376: UserWarning: Time-step timed out. Elapsed since last time-step: 0.07139349993303767\n",
      "\u001b[2m\u001b[36m(RolloutWorker pid=1736)\u001b[0m   warnings.warn(f\"Time-step timed out. Elapsed since last time-step: {now - self.__t_end}\")\n"
     ]
    },
    {
     "name": "stdout",
     "output_type": "stream",
     "text": [
      "Loop:  341\n"
     ]
    },
    {
     "name": "stderr",
     "output_type": "stream",
     "text": [
      "\u001b[2m\u001b[36m(RolloutWorker pid=1736)\u001b[0m C:\\Users\\nadir\\anaconda3\\envs\\GTRay2.4.0\\lib\\site-packages\\rtgym\\envs\\real_time_env.py:376: UserWarning: Time-step timed out. Elapsed since last time-step: 2.9393326999997953\n",
      "\u001b[2m\u001b[36m(RolloutWorker pid=1736)\u001b[0m   warnings.warn(f\"Time-step timed out. Elapsed since last time-step: {now - self.__t_end}\")\n",
      "\u001b[2m\u001b[36m(RolloutWorker pid=1736)\u001b[0m C:\\Users\\nadir\\anaconda3\\envs\\GTRay2.4.0\\lib\\site-packages\\rtgym\\envs\\real_time_env.py:376: UserWarning: Time-step timed out. Elapsed since last time-step: 0.11922619999768358\n",
      "\u001b[2m\u001b[36m(RolloutWorker pid=1736)\u001b[0m   warnings.warn(f\"Time-step timed out. Elapsed since last time-step: {now - self.__t_end}\")\n"
     ]
    },
    {
     "name": "stdout",
     "output_type": "stream",
     "text": [
      "\u001b[2m\u001b[36m(RolloutWorker pid=1736)\u001b[0m reset triggered\n",
      "\u001b[2m\u001b[36m(RolloutWorker pid=1736)\u001b[0m reload save for track : 72\n"
     ]
    },
    {
     "name": "stderr",
     "output_type": "stream",
     "text": [
      "\u001b[2m\u001b[36m(RolloutWorker pid=1736)\u001b[0m C:\\Users\\nadir\\anaconda3\\envs\\GTRay2.4.0\\lib\\site-packages\\rtgym\\envs\\real_time_env.py:376: UserWarning: Time-step timed out. Elapsed since last time-step: 0.06871829993269785\n",
      "\u001b[2m\u001b[36m(RolloutWorker pid=1736)\u001b[0m   warnings.warn(f\"Time-step timed out. Elapsed since last time-step: {now - self.__t_end}\")\n"
     ]
    },
    {
     "name": "stdout",
     "output_type": "stream",
     "text": [
      "Loop:  342\n"
     ]
    },
    {
     "name": "stderr",
     "output_type": "stream",
     "text": [
      "\u001b[2m\u001b[36m(RolloutWorker pid=1736)\u001b[0m C:\\Users\\nadir\\anaconda3\\envs\\GTRay2.4.0\\lib\\site-packages\\rtgym\\envs\\real_time_env.py:376: UserWarning: Time-step timed out. Elapsed since last time-step: 3.0235136999990573\n",
      "\u001b[2m\u001b[36m(RolloutWorker pid=1736)\u001b[0m   warnings.warn(f\"Time-step timed out. Elapsed since last time-step: {now - self.__t_end}\")\n"
     ]
    },
    {
     "name": "stdout",
     "output_type": "stream",
     "text": [
      "\u001b[2m\u001b[36m(RolloutWorker pid=1736)\u001b[0m reset triggered\n",
      "\u001b[2m\u001b[36m(RolloutWorker pid=1736)\u001b[0m reload save for track : 72\n"
     ]
    },
    {
     "name": "stderr",
     "output_type": "stream",
     "text": [
      "\u001b[2m\u001b[36m(RolloutWorker pid=1736)\u001b[0m C:\\Users\\nadir\\anaconda3\\envs\\GTRay2.4.0\\lib\\site-packages\\rtgym\\envs\\real_time_env.py:376: UserWarning: Time-step timed out. Elapsed since last time-step: 0.11786679999840999\n",
      "\u001b[2m\u001b[36m(RolloutWorker pid=1736)\u001b[0m   warnings.warn(f\"Time-step timed out. Elapsed since last time-step: {now - self.__t_end}\")\n",
      "\u001b[2m\u001b[36m(RolloutWorker pid=1736)\u001b[0m C:\\Users\\nadir\\anaconda3\\envs\\GTRay2.4.0\\lib\\site-packages\\rtgym\\envs\\real_time_env.py:376: UserWarning: Time-step timed out. Elapsed since last time-step: 0.06112259993187763\n",
      "\u001b[2m\u001b[36m(RolloutWorker pid=1736)\u001b[0m   warnings.warn(f\"Time-step timed out. Elapsed since last time-step: {now - self.__t_end}\")\n"
     ]
    },
    {
     "name": "stdout",
     "output_type": "stream",
     "text": [
      "Loop:  343\n"
     ]
    },
    {
     "name": "stderr",
     "output_type": "stream",
     "text": [
      "\u001b[2m\u001b[36m(RolloutWorker pid=1736)\u001b[0m C:\\Users\\nadir\\anaconda3\\envs\\GTRay2.4.0\\lib\\site-packages\\rtgym\\envs\\real_time_env.py:376: UserWarning: Time-step timed out. Elapsed since last time-step: 2.95945329999995\n",
      "\u001b[2m\u001b[36m(RolloutWorker pid=1736)\u001b[0m   warnings.warn(f\"Time-step timed out. Elapsed since last time-step: {now - self.__t_end}\")\n"
     ]
    },
    {
     "name": "stdout",
     "output_type": "stream",
     "text": [
      "\u001b[2m\u001b[36m(RolloutWorker pid=1736)\u001b[0m reset triggered\n",
      "\u001b[2m\u001b[36m(RolloutWorker pid=1736)\u001b[0m reload save for track : 72\n"
     ]
    },
    {
     "name": "stderr",
     "output_type": "stream",
     "text": [
      "\u001b[2m\u001b[36m(RolloutWorker pid=1736)\u001b[0m C:\\Users\\nadir\\anaconda3\\envs\\GTRay2.4.0\\lib\\site-packages\\rtgym\\envs\\real_time_env.py:376: UserWarning: Time-step timed out. Elapsed since last time-step: 0.11090249999870139\n",
      "\u001b[2m\u001b[36m(RolloutWorker pid=1736)\u001b[0m   warnings.warn(f\"Time-step timed out. Elapsed since last time-step: {now - self.__t_end}\")\n",
      "\u001b[2m\u001b[36m(RolloutWorker pid=1736)\u001b[0m C:\\Users\\nadir\\anaconda3\\envs\\GTRay2.4.0\\lib\\site-packages\\rtgym\\envs\\real_time_env.py:376: UserWarning: Time-step timed out. Elapsed since last time-step: 0.06260369993196946\n",
      "\u001b[2m\u001b[36m(RolloutWorker pid=1736)\u001b[0m   warnings.warn(f\"Time-step timed out. Elapsed since last time-step: {now - self.__t_end}\")\n"
     ]
    },
    {
     "name": "stdout",
     "output_type": "stream",
     "text": [
      "Loop:  344\n"
     ]
    },
    {
     "name": "stderr",
     "output_type": "stream",
     "text": [
      "\u001b[2m\u001b[36m(RolloutWorker pid=1736)\u001b[0m C:\\Users\\nadir\\anaconda3\\envs\\GTRay2.4.0\\lib\\site-packages\\rtgym\\envs\\real_time_env.py:376: UserWarning: Time-step timed out. Elapsed since last time-step: 3.05002659999991\n",
      "\u001b[2m\u001b[36m(RolloutWorker pid=1736)\u001b[0m   warnings.warn(f\"Time-step timed out. Elapsed since last time-step: {now - self.__t_end}\")\n"
     ]
    },
    {
     "name": "stdout",
     "output_type": "stream",
     "text": [
      "\u001b[2m\u001b[36m(RolloutWorker pid=1736)\u001b[0m reset triggered\n",
      "\u001b[2m\u001b[36m(RolloutWorker pid=1736)\u001b[0m reload save for track : 72\n"
     ]
    },
    {
     "name": "stderr",
     "output_type": "stream",
     "text": [
      "\u001b[2m\u001b[36m(RolloutWorker pid=1736)\u001b[0m C:\\Users\\nadir\\anaconda3\\envs\\GTRay2.4.0\\lib\\site-packages\\rtgym\\envs\\real_time_env.py:376: UserWarning: Time-step timed out. Elapsed since last time-step: 0.12586699999792472\n",
      "\u001b[2m\u001b[36m(RolloutWorker pid=1736)\u001b[0m   warnings.warn(f\"Time-step timed out. Elapsed since last time-step: {now - self.__t_end}\")\n"
     ]
    },
    {
     "name": "stdout",
     "output_type": "stream",
     "text": [
      "Loop:  345\n"
     ]
    },
    {
     "name": "stderr",
     "output_type": "stream",
     "text": [
      "\u001b[2m\u001b[36m(RolloutWorker pid=1736)\u001b[0m C:\\Users\\nadir\\anaconda3\\envs\\GTRay2.4.0\\lib\\site-packages\\rtgym\\envs\\real_time_env.py:376: UserWarning: Time-step timed out. Elapsed since last time-step: 3.0476752999320524\n",
      "\u001b[2m\u001b[36m(RolloutWorker pid=1736)\u001b[0m   warnings.warn(f\"Time-step timed out. Elapsed since last time-step: {now - self.__t_end}\")\n"
     ]
    },
    {
     "name": "stdout",
     "output_type": "stream",
     "text": [
      "\u001b[2m\u001b[36m(RolloutWorker pid=1736)\u001b[0m reset triggered\n",
      "\u001b[2m\u001b[36m(RolloutWorker pid=1736)\u001b[0m reload save for track : 72\n"
     ]
    },
    {
     "name": "stderr",
     "output_type": "stream",
     "text": [
      "\u001b[2m\u001b[36m(RolloutWorker pid=1736)\u001b[0m C:\\Users\\nadir\\anaconda3\\envs\\GTRay2.4.0\\lib\\site-packages\\rtgym\\envs\\real_time_env.py:376: UserWarning: Time-step timed out. Elapsed since last time-step: 0.10286749999795575\n",
      "\u001b[2m\u001b[36m(RolloutWorker pid=1736)\u001b[0m   warnings.warn(f\"Time-step timed out. Elapsed since last time-step: {now - self.__t_end}\")\n",
      "\u001b[2m\u001b[36m(RolloutWorker pid=1736)\u001b[0m C:\\Users\\nadir\\anaconda3\\envs\\GTRay2.4.0\\lib\\site-packages\\rtgym\\envs\\real_time_env.py:376: UserWarning: Time-step timed out. Elapsed since last time-step: 0.06959589993221016\n",
      "\u001b[2m\u001b[36m(RolloutWorker pid=1736)\u001b[0m   warnings.warn(f\"Time-step timed out. Elapsed since last time-step: {now - self.__t_end}\")\n"
     ]
    },
    {
     "name": "stdout",
     "output_type": "stream",
     "text": [
      "Loop:  346\n"
     ]
    },
    {
     "name": "stderr",
     "output_type": "stream",
     "text": [
      "\u001b[2m\u001b[36m(RolloutWorker pid=1736)\u001b[0m C:\\Users\\nadir\\anaconda3\\envs\\GTRay2.4.0\\lib\\site-packages\\rtgym\\envs\\real_time_env.py:376: UserWarning: Time-step timed out. Elapsed since last time-step: 3.061680400000114\n",
      "\u001b[2m\u001b[36m(RolloutWorker pid=1736)\u001b[0m   warnings.warn(f\"Time-step timed out. Elapsed since last time-step: {now - self.__t_end}\")\n"
     ]
    },
    {
     "name": "stdout",
     "output_type": "stream",
     "text": [
      "\u001b[2m\u001b[36m(RolloutWorker pid=1736)\u001b[0m reset triggered\n",
      "\u001b[2m\u001b[36m(RolloutWorker pid=1736)\u001b[0m reload save for track : 72\n"
     ]
    },
    {
     "name": "stderr",
     "output_type": "stream",
     "text": [
      "\u001b[2m\u001b[36m(RolloutWorker pid=1736)\u001b[0m C:\\Users\\nadir\\anaconda3\\envs\\GTRay2.4.0\\lib\\site-packages\\rtgym\\envs\\real_time_env.py:376: UserWarning: Time-step timed out. Elapsed since last time-step: 0.11674019999827578\n",
      "\u001b[2m\u001b[36m(RolloutWorker pid=1736)\u001b[0m   warnings.warn(f\"Time-step timed out. Elapsed since last time-step: {now - self.__t_end}\")\n",
      "\u001b[2m\u001b[36m(RolloutWorker pid=1736)\u001b[0m C:\\Users\\nadir\\anaconda3\\envs\\GTRay2.4.0\\lib\\site-packages\\rtgym\\envs\\real_time_env.py:376: UserWarning: Time-step timed out. Elapsed since last time-step: 0.13025429995650484\n",
      "\u001b[2m\u001b[36m(RolloutWorker pid=1736)\u001b[0m   warnings.warn(f\"Time-step timed out. Elapsed since last time-step: {now - self.__t_end}\")\n",
      "\u001b[2m\u001b[36m(RolloutWorker pid=1736)\u001b[0m C:\\Users\\nadir\\anaconda3\\envs\\GTRay2.4.0\\lib\\site-packages\\rtgym\\envs\\real_time_env.py:376: UserWarning: Time-step timed out. Elapsed since last time-step: 0.050339299975348695\n",
      "\u001b[2m\u001b[36m(RolloutWorker pid=1736)\u001b[0m   warnings.warn(f\"Time-step timed out. Elapsed since last time-step: {now - self.__t_end}\")\n"
     ]
    },
    {
     "name": "stdout",
     "output_type": "stream",
     "text": [
      "Loop:  347\n"
     ]
    },
    {
     "name": "stderr",
     "output_type": "stream",
     "text": [
      "\u001b[2m\u001b[36m(RolloutWorker pid=1736)\u001b[0m C:\\Users\\nadir\\anaconda3\\envs\\GTRay2.4.0\\lib\\site-packages\\rtgym\\envs\\real_time_env.py:376: UserWarning: Time-step timed out. Elapsed since last time-step: 3.100857399999768\n",
      "\u001b[2m\u001b[36m(RolloutWorker pid=1736)\u001b[0m   warnings.warn(f\"Time-step timed out. Elapsed since last time-step: {now - self.__t_end}\")\n"
     ]
    },
    {
     "name": "stdout",
     "output_type": "stream",
     "text": [
      "\u001b[2m\u001b[36m(RolloutWorker pid=1736)\u001b[0m reset triggered\n",
      "\u001b[2m\u001b[36m(RolloutWorker pid=1736)\u001b[0m reload save for track : 72\n"
     ]
    },
    {
     "name": "stderr",
     "output_type": "stream",
     "text": [
      "\u001b[2m\u001b[36m(RolloutWorker pid=1736)\u001b[0m C:\\Users\\nadir\\anaconda3\\envs\\GTRay2.4.0\\lib\\site-packages\\rtgym\\envs\\real_time_env.py:376: UserWarning: Time-step timed out. Elapsed since last time-step: 0.109588099998291\n",
      "\u001b[2m\u001b[36m(RolloutWorker pid=1736)\u001b[0m   warnings.warn(f\"Time-step timed out. Elapsed since last time-step: {now - self.__t_end}\")\n"
     ]
    },
    {
     "name": "stdout",
     "output_type": "stream",
     "text": [
      "Loop:  348\n"
     ]
    },
    {
     "name": "stderr",
     "output_type": "stream",
     "text": [
      "\u001b[2m\u001b[36m(RolloutWorker pid=1736)\u001b[0m C:\\Users\\nadir\\anaconda3\\envs\\GTRay2.4.0\\lib\\site-packages\\rtgym\\envs\\real_time_env.py:376: UserWarning: Time-step timed out. Elapsed since last time-step: 3.0341066999317263\n",
      "\u001b[2m\u001b[36m(RolloutWorker pid=1736)\u001b[0m   warnings.warn(f\"Time-step timed out. Elapsed since last time-step: {now - self.__t_end}\")\n"
     ]
    },
    {
     "name": "stdout",
     "output_type": "stream",
     "text": [
      "\u001b[2m\u001b[36m(RolloutWorker pid=1736)\u001b[0m reset triggered\n",
      "\u001b[2m\u001b[36m(RolloutWorker pid=1736)\u001b[0m reload save for track : 72\n"
     ]
    },
    {
     "name": "stderr",
     "output_type": "stream",
     "text": [
      "\u001b[2m\u001b[36m(RolloutWorker pid=1736)\u001b[0m C:\\Users\\nadir\\anaconda3\\envs\\GTRay2.4.0\\lib\\site-packages\\rtgym\\envs\\real_time_env.py:376: UserWarning: Time-step timed out. Elapsed since last time-step: 0.11612869999862596\n",
      "\u001b[2m\u001b[36m(RolloutWorker pid=1736)\u001b[0m   warnings.warn(f\"Time-step timed out. Elapsed since last time-step: {now - self.__t_end}\")\n"
     ]
    },
    {
     "name": "stdout",
     "output_type": "stream",
     "text": [
      "Loop:  349\n"
     ]
    },
    {
     "name": "stderr",
     "output_type": "stream",
     "text": [
      "\u001b[2m\u001b[36m(RolloutWorker pid=1736)\u001b[0m C:\\Users\\nadir\\anaconda3\\envs\\GTRay2.4.0\\lib\\site-packages\\rtgym\\envs\\real_time_env.py:376: UserWarning: Time-step timed out. Elapsed since last time-step: 3.0725985999315526\n",
      "\u001b[2m\u001b[36m(RolloutWorker pid=1736)\u001b[0m   warnings.warn(f\"Time-step timed out. Elapsed since last time-step: {now - self.__t_end}\")\n"
     ]
    },
    {
     "name": "stdout",
     "output_type": "stream",
     "text": [
      "\u001b[2m\u001b[36m(RolloutWorker pid=1736)\u001b[0m reset triggered\n",
      "\u001b[2m\u001b[36m(RolloutWorker pid=1736)\u001b[0m reload save for track : 72\n"
     ]
    },
    {
     "name": "stderr",
     "output_type": "stream",
     "text": [
      "\u001b[2m\u001b[36m(RolloutWorker pid=1736)\u001b[0m C:\\Users\\nadir\\anaconda3\\envs\\GTRay2.4.0\\lib\\site-packages\\rtgym\\envs\\real_time_env.py:376: UserWarning: Time-step timed out. Elapsed since last time-step: 0.1287049999982628\n",
      "\u001b[2m\u001b[36m(RolloutWorker pid=1736)\u001b[0m   warnings.warn(f\"Time-step timed out. Elapsed since last time-step: {now - self.__t_end}\")\n",
      "\u001b[2m\u001b[36m(RolloutWorker pid=1736)\u001b[0m C:\\Users\\nadir\\anaconda3\\envs\\GTRay2.4.0\\lib\\site-packages\\rtgym\\envs\\real_time_env.py:376: UserWarning: Time-step timed out. Elapsed since last time-step: 0.06474939993222506\n",
      "\u001b[2m\u001b[36m(RolloutWorker pid=1736)\u001b[0m   warnings.warn(f\"Time-step timed out. Elapsed since last time-step: {now - self.__t_end}\")\n"
     ]
    },
    {
     "name": "stdout",
     "output_type": "stream",
     "text": [
      "Loop:  350\n",
      "Saved 350\n"
     ]
    },
    {
     "name": "stderr",
     "output_type": "stream",
     "text": [
      "\u001b[2m\u001b[36m(RolloutWorker pid=1736)\u001b[0m C:\\Users\\nadir\\anaconda3\\envs\\GTRay2.4.0\\lib\\site-packages\\rtgym\\envs\\real_time_env.py:376: UserWarning: Time-step timed out. Elapsed since last time-step: 3.0713292000000365\n",
      "\u001b[2m\u001b[36m(RolloutWorker pid=1736)\u001b[0m   warnings.warn(f\"Time-step timed out. Elapsed since last time-step: {now - self.__t_end}\")\n"
     ]
    },
    {
     "name": "stdout",
     "output_type": "stream",
     "text": [
      "\u001b[2m\u001b[36m(RolloutWorker pid=1736)\u001b[0m reset triggered\n",
      "\u001b[2m\u001b[36m(RolloutWorker pid=1736)\u001b[0m reload save for track : 72\n"
     ]
    },
    {
     "name": "stderr",
     "output_type": "stream",
     "text": [
      "\u001b[2m\u001b[36m(RolloutWorker pid=1736)\u001b[0m C:\\Users\\nadir\\anaconda3\\envs\\GTRay2.4.0\\lib\\site-packages\\rtgym\\envs\\real_time_env.py:376: UserWarning: Time-step timed out. Elapsed since last time-step: 0.1230846999978894\n",
      "\u001b[2m\u001b[36m(RolloutWorker pid=1736)\u001b[0m   warnings.warn(f\"Time-step timed out. Elapsed since last time-step: {now - self.__t_end}\")\n",
      "\u001b[2m\u001b[36m(RolloutWorker pid=1736)\u001b[0m C:\\Users\\nadir\\anaconda3\\envs\\GTRay2.4.0\\lib\\site-packages\\rtgym\\envs\\real_time_env.py:376: UserWarning: Time-step timed out. Elapsed since last time-step: 0.0683129999324592\n",
      "\u001b[2m\u001b[36m(RolloutWorker pid=1736)\u001b[0m   warnings.warn(f\"Time-step timed out. Elapsed since last time-step: {now - self.__t_end}\")\n"
     ]
    },
    {
     "name": "stdout",
     "output_type": "stream",
     "text": [
      "Loop:  351\n"
     ]
    },
    {
     "name": "stderr",
     "output_type": "stream",
     "text": [
      "\u001b[2m\u001b[36m(RolloutWorker pid=1736)\u001b[0m C:\\Users\\nadir\\anaconda3\\envs\\GTRay2.4.0\\lib\\site-packages\\rtgym\\envs\\real_time_env.py:376: UserWarning: Time-step timed out. Elapsed since last time-step: 2.9296018999993976\n",
      "\u001b[2m\u001b[36m(RolloutWorker pid=1736)\u001b[0m   warnings.warn(f\"Time-step timed out. Elapsed since last time-step: {now - self.__t_end}\")\n"
     ]
    },
    {
     "name": "stdout",
     "output_type": "stream",
     "text": [
      "\u001b[2m\u001b[36m(RolloutWorker pid=1736)\u001b[0m reset triggered\n",
      "\u001b[2m\u001b[36m(RolloutWorker pid=1736)\u001b[0m reload save for track : 72\n"
     ]
    },
    {
     "name": "stderr",
     "output_type": "stream",
     "text": [
      "\u001b[2m\u001b[36m(RolloutWorker pid=1736)\u001b[0m C:\\Users\\nadir\\anaconda3\\envs\\GTRay2.4.0\\lib\\site-packages\\rtgym\\envs\\real_time_env.py:376: UserWarning: Time-step timed out. Elapsed since last time-step: 0.11255269999855955\n",
      "\u001b[2m\u001b[36m(RolloutWorker pid=1736)\u001b[0m   warnings.warn(f\"Time-step timed out. Elapsed since last time-step: {now - self.__t_end}\")\n",
      "\u001b[2m\u001b[36m(RolloutWorker pid=1736)\u001b[0m C:\\Users\\nadir\\anaconda3\\envs\\GTRay2.4.0\\lib\\site-packages\\rtgym\\envs\\real_time_env.py:376: UserWarning: Time-step timed out. Elapsed since last time-step: 0.06157339993205824\n",
      "\u001b[2m\u001b[36m(RolloutWorker pid=1736)\u001b[0m   warnings.warn(f\"Time-step timed out. Elapsed since last time-step: {now - self.__t_end}\")\n"
     ]
    },
    {
     "name": "stdout",
     "output_type": "stream",
     "text": [
      "Loop:  352\n"
     ]
    },
    {
     "name": "stderr",
     "output_type": "stream",
     "text": [
      "\u001b[2m\u001b[36m(RolloutWorker pid=1736)\u001b[0m C:\\Users\\nadir\\anaconda3\\envs\\GTRay2.4.0\\lib\\site-packages\\rtgym\\envs\\real_time_env.py:376: UserWarning: Time-step timed out. Elapsed since last time-step: 3.0230485000001863\n",
      "\u001b[2m\u001b[36m(RolloutWorker pid=1736)\u001b[0m   warnings.warn(f\"Time-step timed out. Elapsed since last time-step: {now - self.__t_end}\")\n"
     ]
    },
    {
     "name": "stdout",
     "output_type": "stream",
     "text": [
      "\u001b[2m\u001b[36m(RolloutWorker pid=1736)\u001b[0m reset triggered\n",
      "\u001b[2m\u001b[36m(RolloutWorker pid=1736)\u001b[0m reload save for track : 72\n"
     ]
    },
    {
     "name": "stderr",
     "output_type": "stream",
     "text": [
      "\u001b[2m\u001b[36m(RolloutWorker pid=1736)\u001b[0m C:\\Users\\nadir\\anaconda3\\envs\\GTRay2.4.0\\lib\\site-packages\\rtgym\\envs\\real_time_env.py:376: UserWarning: Time-step timed out. Elapsed since last time-step: 0.10413089999747172\n",
      "\u001b[2m\u001b[36m(RolloutWorker pid=1736)\u001b[0m   warnings.warn(f\"Time-step timed out. Elapsed since last time-step: {now - self.__t_end}\")\n"
     ]
    },
    {
     "name": "stdout",
     "output_type": "stream",
     "text": [
      "Loop:  353\n"
     ]
    },
    {
     "name": "stderr",
     "output_type": "stream",
     "text": [
      "\u001b[2m\u001b[36m(RolloutWorker pid=1736)\u001b[0m C:\\Users\\nadir\\anaconda3\\envs\\GTRay2.4.0\\lib\\site-packages\\rtgym\\envs\\real_time_env.py:376: UserWarning: Time-step timed out. Elapsed since last time-step: 3.1009928999319527\n",
      "\u001b[2m\u001b[36m(RolloutWorker pid=1736)\u001b[0m   warnings.warn(f\"Time-step timed out. Elapsed since last time-step: {now - self.__t_end}\")\n"
     ]
    },
    {
     "name": "stdout",
     "output_type": "stream",
     "text": [
      "\u001b[2m\u001b[36m(RolloutWorker pid=1736)\u001b[0m reset triggered\n",
      "\u001b[2m\u001b[36m(RolloutWorker pid=1736)\u001b[0m reload save for track : 72\n"
     ]
    },
    {
     "name": "stderr",
     "output_type": "stream",
     "text": [
      "\u001b[2m\u001b[36m(RolloutWorker pid=1736)\u001b[0m C:\\Users\\nadir\\anaconda3\\envs\\GTRay2.4.0\\lib\\site-packages\\rtgym\\envs\\real_time_env.py:376: UserWarning: Time-step timed out. Elapsed since last time-step: 0.12050689999796305\n",
      "\u001b[2m\u001b[36m(RolloutWorker pid=1736)\u001b[0m   warnings.warn(f\"Time-step timed out. Elapsed since last time-step: {now - self.__t_end}\")\n",
      "\u001b[2m\u001b[36m(RolloutWorker pid=1736)\u001b[0m C:\\Users\\nadir\\anaconda3\\envs\\GTRay2.4.0\\lib\\site-packages\\rtgym\\envs\\real_time_env.py:376: UserWarning: Time-step timed out. Elapsed since last time-step: 0.05648629994448129\n",
      "\u001b[2m\u001b[36m(RolloutWorker pid=1736)\u001b[0m   warnings.warn(f\"Time-step timed out. Elapsed since last time-step: {now - self.__t_end}\")\n"
     ]
    },
    {
     "name": "stdout",
     "output_type": "stream",
     "text": [
      "Loop:  354\n"
     ]
    },
    {
     "name": "stderr",
     "output_type": "stream",
     "text": [
      "\u001b[2m\u001b[36m(RolloutWorker pid=1736)\u001b[0m C:\\Users\\nadir\\anaconda3\\envs\\GTRay2.4.0\\lib\\site-packages\\rtgym\\envs\\real_time_env.py:376: UserWarning: Time-step timed out. Elapsed since last time-step: 3.0097464999880685\n",
      "\u001b[2m\u001b[36m(RolloutWorker pid=1736)\u001b[0m   warnings.warn(f\"Time-step timed out. Elapsed since last time-step: {now - self.__t_end}\")\n",
      "\u001b[2m\u001b[36m(RolloutWorker pid=1736)\u001b[0m C:\\Users\\nadir\\anaconda3\\envs\\GTRay2.4.0\\lib\\site-packages\\rtgym\\envs\\real_time_env.py:376: UserWarning: Time-step timed out. Elapsed since last time-step: 0.11365749999822583\n",
      "\u001b[2m\u001b[36m(RolloutWorker pid=1736)\u001b[0m   warnings.warn(f\"Time-step timed out. Elapsed since last time-step: {now - self.__t_end}\")\n"
     ]
    },
    {
     "name": "stdout",
     "output_type": "stream",
     "text": [
      "\u001b[2m\u001b[36m(RolloutWorker pid=1736)\u001b[0m reset triggered\n",
      "\u001b[2m\u001b[36m(RolloutWorker pid=1736)\u001b[0m reload save for track : 72\n"
     ]
    },
    {
     "name": "stderr",
     "output_type": "stream",
     "text": [
      "\u001b[2m\u001b[36m(RolloutWorker pid=1736)\u001b[0m C:\\Users\\nadir\\anaconda3\\envs\\GTRay2.4.0\\lib\\site-packages\\rtgym\\envs\\real_time_env.py:376: UserWarning: Time-step timed out. Elapsed since last time-step: 0.06453279993183969\n",
      "\u001b[2m\u001b[36m(RolloutWorker pid=1736)\u001b[0m   warnings.warn(f\"Time-step timed out. Elapsed since last time-step: {now - self.__t_end}\")\n"
     ]
    },
    {
     "name": "stdout",
     "output_type": "stream",
     "text": [
      "Loop:  355\n"
     ]
    },
    {
     "name": "stderr",
     "output_type": "stream",
     "text": [
      "\u001b[2m\u001b[36m(RolloutWorker pid=1736)\u001b[0m C:\\Users\\nadir\\anaconda3\\envs\\GTRay2.4.0\\lib\\site-packages\\rtgym\\envs\\real_time_env.py:376: UserWarning: Time-step timed out. Elapsed since last time-step: 3.009521699999823\n",
      "\u001b[2m\u001b[36m(RolloutWorker pid=1736)\u001b[0m   warnings.warn(f\"Time-step timed out. Elapsed since last time-step: {now - self.__t_end}\")\n"
     ]
    },
    {
     "name": "stdout",
     "output_type": "stream",
     "text": [
      "\u001b[2m\u001b[36m(RolloutWorker pid=1736)\u001b[0m reset triggered\n",
      "\u001b[2m\u001b[36m(RolloutWorker pid=1736)\u001b[0m reload save for track : 72\n"
     ]
    },
    {
     "name": "stderr",
     "output_type": "stream",
     "text": [
      "\u001b[2m\u001b[36m(RolloutWorker pid=1736)\u001b[0m C:\\Users\\nadir\\anaconda3\\envs\\GTRay2.4.0\\lib\\site-packages\\rtgym\\envs\\real_time_env.py:376: UserWarning: Time-step timed out. Elapsed since last time-step: 0.12648259999787115\n",
      "\u001b[2m\u001b[36m(RolloutWorker pid=1736)\u001b[0m   warnings.warn(f\"Time-step timed out. Elapsed since last time-step: {now - self.__t_end}\")\n",
      "\u001b[2m\u001b[36m(RolloutWorker pid=1736)\u001b[0m C:\\Users\\nadir\\anaconda3\\envs\\GTRay2.4.0\\lib\\site-packages\\rtgym\\envs\\real_time_env.py:376: UserWarning: Time-step timed out. Elapsed since last time-step: 0.050755399932313594\n",
      "\u001b[2m\u001b[36m(RolloutWorker pid=1736)\u001b[0m   warnings.warn(f\"Time-step timed out. Elapsed since last time-step: {now - self.__t_end}\")\n"
     ]
    },
    {
     "name": "stdout",
     "output_type": "stream",
     "text": [
      "Loop:  356\n"
     ]
    },
    {
     "name": "stderr",
     "output_type": "stream",
     "text": [
      "\u001b[2m\u001b[36m(RolloutWorker pid=1736)\u001b[0m C:\\Users\\nadir\\anaconda3\\envs\\GTRay2.4.0\\lib\\site-packages\\rtgym\\envs\\real_time_env.py:376: UserWarning: Time-step timed out. Elapsed since last time-step: 3.036962900000617\n",
      "\u001b[2m\u001b[36m(RolloutWorker pid=1736)\u001b[0m   warnings.warn(f\"Time-step timed out. Elapsed since last time-step: {now - self.__t_end}\")\n"
     ]
    },
    {
     "name": "stdout",
     "output_type": "stream",
     "text": [
      "\u001b[2m\u001b[36m(RolloutWorker pid=1736)\u001b[0m reset triggered\n",
      "\u001b[2m\u001b[36m(RolloutWorker pid=1736)\u001b[0m reload save for track : 72\n"
     ]
    },
    {
     "name": "stderr",
     "output_type": "stream",
     "text": [
      "\u001b[2m\u001b[36m(RolloutWorker pid=1736)\u001b[0m C:\\Users\\nadir\\anaconda3\\envs\\GTRay2.4.0\\lib\\site-packages\\rtgym\\envs\\real_time_env.py:376: UserWarning: Time-step timed out. Elapsed since last time-step: 0.10159449999719072\n",
      "\u001b[2m\u001b[36m(RolloutWorker pid=1736)\u001b[0m   warnings.warn(f\"Time-step timed out. Elapsed since last time-step: {now - self.__t_end}\")\n"
     ]
    },
    {
     "name": "stdout",
     "output_type": "stream",
     "text": [
      "Loop:  357\n"
     ]
    },
    {
     "name": "stderr",
     "output_type": "stream",
     "text": [
      "\u001b[2m\u001b[36m(RolloutWorker pid=1736)\u001b[0m C:\\Users\\nadir\\anaconda3\\envs\\GTRay2.4.0\\lib\\site-packages\\rtgym\\envs\\real_time_env.py:376: UserWarning: Time-step timed out. Elapsed since last time-step: 3.0955456999327\n",
      "\u001b[2m\u001b[36m(RolloutWorker pid=1736)\u001b[0m   warnings.warn(f\"Time-step timed out. Elapsed since last time-step: {now - self.__t_end}\")\n"
     ]
    },
    {
     "name": "stdout",
     "output_type": "stream",
     "text": [
      "\u001b[2m\u001b[36m(RolloutWorker pid=1736)\u001b[0m reset triggered\n",
      "\u001b[2m\u001b[36m(RolloutWorker pid=1736)\u001b[0m reload save for track : 72\n"
     ]
    },
    {
     "name": "stderr",
     "output_type": "stream",
     "text": [
      "\u001b[2m\u001b[36m(RolloutWorker pid=1736)\u001b[0m C:\\Users\\nadir\\anaconda3\\envs\\GTRay2.4.0\\lib\\site-packages\\rtgym\\envs\\real_time_env.py:376: UserWarning: Time-step timed out. Elapsed since last time-step: 0.11757219999799418\n",
      "\u001b[2m\u001b[36m(RolloutWorker pid=1736)\u001b[0m   warnings.warn(f\"Time-step timed out. Elapsed since last time-step: {now - self.__t_end}\")\n"
     ]
    },
    {
     "name": "stdout",
     "output_type": "stream",
     "text": [
      "Loop:  358\n"
     ]
    },
    {
     "name": "stderr",
     "output_type": "stream",
     "text": [
      "\u001b[2m\u001b[36m(RolloutWorker pid=1736)\u001b[0m C:\\Users\\nadir\\anaconda3\\envs\\GTRay2.4.0\\lib\\site-packages\\rtgym\\envs\\real_time_env.py:376: UserWarning: Time-step timed out. Elapsed since last time-step: 3.058481299932282\n",
      "\u001b[2m\u001b[36m(RolloutWorker pid=1736)\u001b[0m   warnings.warn(f\"Time-step timed out. Elapsed since last time-step: {now - self.__t_end}\")\n"
     ]
    },
    {
     "name": "stdout",
     "output_type": "stream",
     "text": [
      "\u001b[2m\u001b[36m(RolloutWorker pid=1736)\u001b[0m reset triggered\n",
      "\u001b[2m\u001b[36m(RolloutWorker pid=1736)\u001b[0m reload save for track : 72\n"
     ]
    },
    {
     "name": "stderr",
     "output_type": "stream",
     "text": [
      "\u001b[2m\u001b[36m(RolloutWorker pid=1736)\u001b[0m C:\\Users\\nadir\\anaconda3\\envs\\GTRay2.4.0\\lib\\site-packages\\rtgym\\envs\\real_time_env.py:376: UserWarning: Time-step timed out. Elapsed since last time-step: 0.12869469999805006\n",
      "\u001b[2m\u001b[36m(RolloutWorker pid=1736)\u001b[0m   warnings.warn(f\"Time-step timed out. Elapsed since last time-step: {now - self.__t_end}\")\n"
     ]
    },
    {
     "name": "stdout",
     "output_type": "stream",
     "text": [
      "Loop:  359\n"
     ]
    },
    {
     "name": "stderr",
     "output_type": "stream",
     "text": [
      "\u001b[2m\u001b[36m(RolloutWorker pid=1736)\u001b[0m C:\\Users\\nadir\\anaconda3\\envs\\GTRay2.4.0\\lib\\site-packages\\rtgym\\envs\\real_time_env.py:376: UserWarning: Time-step timed out. Elapsed since last time-step: 3.052583399931791\n",
      "\u001b[2m\u001b[36m(RolloutWorker pid=1736)\u001b[0m   warnings.warn(f\"Time-step timed out. Elapsed since last time-step: {now - self.__t_end}\")\n",
      "\u001b[2m\u001b[36m(RolloutWorker pid=1736)\u001b[0m C:\\Users\\nadir\\anaconda3\\envs\\GTRay2.4.0\\lib\\site-packages\\rtgym\\envs\\real_time_env.py:376: UserWarning: Time-step timed out. Elapsed since last time-step: 0.13296889999764971\n",
      "\u001b[2m\u001b[36m(RolloutWorker pid=1736)\u001b[0m   warnings.warn(f\"Time-step timed out. Elapsed since last time-step: {now - self.__t_end}\")\n"
     ]
    },
    {
     "name": "stdout",
     "output_type": "stream",
     "text": [
      "\u001b[2m\u001b[36m(RolloutWorker pid=1736)\u001b[0m reset triggered\n",
      "\u001b[2m\u001b[36m(RolloutWorker pid=1736)\u001b[0m reload save for track : 72\n"
     ]
    },
    {
     "name": "stderr",
     "output_type": "stream",
     "text": [
      "\u001b[2m\u001b[36m(RolloutWorker pid=1736)\u001b[0m C:\\Users\\nadir\\anaconda3\\envs\\GTRay2.4.0\\lib\\site-packages\\rtgym\\envs\\real_time_env.py:376: UserWarning: Time-step timed out. Elapsed since last time-step: 0.05106799993245659\n",
      "\u001b[2m\u001b[36m(RolloutWorker pid=1736)\u001b[0m   warnings.warn(f\"Time-step timed out. Elapsed since last time-step: {now - self.__t_end}\")\n"
     ]
    },
    {
     "name": "stdout",
     "output_type": "stream",
     "text": [
      "Loop:  360\n",
      "Saved 360\n"
     ]
    },
    {
     "name": "stderr",
     "output_type": "stream",
     "text": [
      "\u001b[2m\u001b[36m(RolloutWorker pid=1736)\u001b[0m C:\\Users\\nadir\\anaconda3\\envs\\GTRay2.4.0\\lib\\site-packages\\rtgym\\envs\\real_time_env.py:376: UserWarning: Time-step timed out. Elapsed since last time-step: 3.0907703000002584\n",
      "\u001b[2m\u001b[36m(RolloutWorker pid=1736)\u001b[0m   warnings.warn(f\"Time-step timed out. Elapsed since last time-step: {now - self.__t_end}\")\n"
     ]
    },
    {
     "name": "stdout",
     "output_type": "stream",
     "text": [
      "\u001b[2m\u001b[36m(RolloutWorker pid=1736)\u001b[0m reset triggered\n",
      "\u001b[2m\u001b[36m(RolloutWorker pid=1736)\u001b[0m reload save for track : 72\n"
     ]
    },
    {
     "name": "stderr",
     "output_type": "stream",
     "text": [
      "\u001b[2m\u001b[36m(RolloutWorker pid=1736)\u001b[0m C:\\Users\\nadir\\anaconda3\\envs\\GTRay2.4.0\\lib\\site-packages\\rtgym\\envs\\real_time_env.py:376: UserWarning: Time-step timed out. Elapsed since last time-step: 0.13508829999773297\n",
      "\u001b[2m\u001b[36m(RolloutWorker pid=1736)\u001b[0m   warnings.warn(f\"Time-step timed out. Elapsed since last time-step: {now - self.__t_end}\")\n",
      "\u001b[2m\u001b[36m(RolloutWorker pid=1736)\u001b[0m C:\\Users\\nadir\\anaconda3\\envs\\GTRay2.4.0\\lib\\site-packages\\rtgym\\envs\\real_time_env.py:376: UserWarning: Time-step timed out. Elapsed since last time-step: 0.05520499993235717\n",
      "\u001b[2m\u001b[36m(RolloutWorker pid=1736)\u001b[0m   warnings.warn(f\"Time-step timed out. Elapsed since last time-step: {now - self.__t_end}\")\n"
     ]
    },
    {
     "name": "stdout",
     "output_type": "stream",
     "text": [
      "Loop:  361\n"
     ]
    },
    {
     "name": "stderr",
     "output_type": "stream",
     "text": [
      "\u001b[2m\u001b[36m(RolloutWorker pid=1736)\u001b[0m C:\\Users\\nadir\\anaconda3\\envs\\GTRay2.4.0\\lib\\site-packages\\rtgym\\envs\\real_time_env.py:376: UserWarning: Time-step timed out. Elapsed since last time-step: 2.940103199999612\n",
      "\u001b[2m\u001b[36m(RolloutWorker pid=1736)\u001b[0m   warnings.warn(f\"Time-step timed out. Elapsed since last time-step: {now - self.__t_end}\")\n",
      "\u001b[2m\u001b[36m(RolloutWorker pid=1736)\u001b[0m C:\\Users\\nadir\\anaconda3\\envs\\GTRay2.4.0\\lib\\site-packages\\rtgym\\envs\\real_time_env.py:376: UserWarning: Time-step timed out. Elapsed since last time-step: 0.1272350999979608\n",
      "\u001b[2m\u001b[36m(RolloutWorker pid=1736)\u001b[0m   warnings.warn(f\"Time-step timed out. Elapsed since last time-step: {now - self.__t_end}\")\n"
     ]
    },
    {
     "name": "stdout",
     "output_type": "stream",
     "text": [
      "\u001b[2m\u001b[36m(RolloutWorker pid=1736)\u001b[0m reset triggered\n",
      "\u001b[2m\u001b[36m(RolloutWorker pid=1736)\u001b[0m reload save for track : 72\n"
     ]
    },
    {
     "name": "stderr",
     "output_type": "stream",
     "text": [
      "\u001b[2m\u001b[36m(RolloutWorker pid=1736)\u001b[0m C:\\Users\\nadir\\anaconda3\\envs\\GTRay2.4.0\\lib\\site-packages\\rtgym\\envs\\real_time_env.py:376: UserWarning: Time-step timed out. Elapsed since last time-step: 0.06232069993257028\n",
      "\u001b[2m\u001b[36m(RolloutWorker pid=1736)\u001b[0m   warnings.warn(f\"Time-step timed out. Elapsed since last time-step: {now - self.__t_end}\")\n"
     ]
    },
    {
     "name": "stdout",
     "output_type": "stream",
     "text": [
      "Loop:  362\n"
     ]
    },
    {
     "name": "stderr",
     "output_type": "stream",
     "text": [
      "\u001b[2m\u001b[36m(RolloutWorker pid=1736)\u001b[0m C:\\Users\\nadir\\anaconda3\\envs\\GTRay2.4.0\\lib\\site-packages\\rtgym\\envs\\real_time_env.py:376: UserWarning: Time-step timed out. Elapsed since last time-step: 3.057142300000123\n",
      "\u001b[2m\u001b[36m(RolloutWorker pid=1736)\u001b[0m   warnings.warn(f\"Time-step timed out. Elapsed since last time-step: {now - self.__t_end}\")\n"
     ]
    },
    {
     "name": "stdout",
     "output_type": "stream",
     "text": [
      "\u001b[2m\u001b[36m(RolloutWorker pid=1736)\u001b[0m reset triggered\n",
      "\u001b[2m\u001b[36m(RolloutWorker pid=1736)\u001b[0m reload save for track : 72\n"
     ]
    },
    {
     "name": "stderr",
     "output_type": "stream",
     "text": [
      "\u001b[2m\u001b[36m(RolloutWorker pid=1736)\u001b[0m C:\\Users\\nadir\\anaconda3\\envs\\GTRay2.4.0\\lib\\site-packages\\rtgym\\envs\\real_time_env.py:376: UserWarning: Time-step timed out. Elapsed since last time-step: 0.13592079999762063\n",
      "\u001b[2m\u001b[36m(RolloutWorker pid=1736)\u001b[0m   warnings.warn(f\"Time-step timed out. Elapsed since last time-step: {now - self.__t_end}\")\n"
     ]
    },
    {
     "name": "stdout",
     "output_type": "stream",
     "text": [
      "Loop:  363\n"
     ]
    },
    {
     "name": "stderr",
     "output_type": "stream",
     "text": [
      "\u001b[2m\u001b[36m(RolloutWorker pid=1736)\u001b[0m C:\\Users\\nadir\\anaconda3\\envs\\GTRay2.4.0\\lib\\site-packages\\rtgym\\envs\\real_time_env.py:376: UserWarning: Time-step timed out. Elapsed since last time-step: 2.9851130999322777\n",
      "\u001b[2m\u001b[36m(RolloutWorker pid=1736)\u001b[0m   warnings.warn(f\"Time-step timed out. Elapsed since last time-step: {now - self.__t_end}\")\n"
     ]
    },
    {
     "name": "stdout",
     "output_type": "stream",
     "text": [
      "\u001b[2m\u001b[36m(RolloutWorker pid=1736)\u001b[0m reset triggered\n",
      "\u001b[2m\u001b[36m(RolloutWorker pid=1736)\u001b[0m reload save for track : 72\n"
     ]
    },
    {
     "name": "stderr",
     "output_type": "stream",
     "text": [
      "\u001b[2m\u001b[36m(RolloutWorker pid=1736)\u001b[0m C:\\Users\\nadir\\anaconda3\\envs\\GTRay2.4.0\\lib\\site-packages\\rtgym\\envs\\real_time_env.py:376: UserWarning: Time-step timed out. Elapsed since last time-step: 0.13505179999810935\n",
      "\u001b[2m\u001b[36m(RolloutWorker pid=1736)\u001b[0m   warnings.warn(f\"Time-step timed out. Elapsed since last time-step: {now - self.__t_end}\")\n",
      "\u001b[2m\u001b[36m(RolloutWorker pid=1736)\u001b[0m C:\\Users\\nadir\\anaconda3\\envs\\GTRay2.4.0\\lib\\site-packages\\rtgym\\envs\\real_time_env.py:376: UserWarning: Time-step timed out. Elapsed since last time-step: 0.07159439993210981\n",
      "\u001b[2m\u001b[36m(RolloutWorker pid=1736)\u001b[0m   warnings.warn(f\"Time-step timed out. Elapsed since last time-step: {now - self.__t_end}\")\n"
     ]
    },
    {
     "name": "stdout",
     "output_type": "stream",
     "text": [
      "Loop:  364\n"
     ]
    },
    {
     "name": "stderr",
     "output_type": "stream",
     "text": [
      "\u001b[2m\u001b[36m(RolloutWorker pid=1736)\u001b[0m C:\\Users\\nadir\\anaconda3\\envs\\GTRay2.4.0\\lib\\site-packages\\rtgym\\envs\\real_time_env.py:376: UserWarning: Time-step timed out. Elapsed since last time-step: 3.002750699999524\n",
      "\u001b[2m\u001b[36m(RolloutWorker pid=1736)\u001b[0m   warnings.warn(f\"Time-step timed out. Elapsed since last time-step: {now - self.__t_end}\")\n"
     ]
    },
    {
     "name": "stdout",
     "output_type": "stream",
     "text": [
      "\u001b[2m\u001b[36m(RolloutWorker pid=1736)\u001b[0m reset triggered\n",
      "\u001b[2m\u001b[36m(RolloutWorker pid=1736)\u001b[0m reload save for track : 72\n"
     ]
    },
    {
     "name": "stderr",
     "output_type": "stream",
     "text": [
      "\u001b[2m\u001b[36m(RolloutWorker pid=1736)\u001b[0m C:\\Users\\nadir\\anaconda3\\envs\\GTRay2.4.0\\lib\\site-packages\\rtgym\\envs\\real_time_env.py:376: UserWarning: Time-step timed out. Elapsed since last time-step: 0.10546959999828687\n",
      "\u001b[2m\u001b[36m(RolloutWorker pid=1736)\u001b[0m   warnings.warn(f\"Time-step timed out. Elapsed since last time-step: {now - self.__t_end}\")\n"
     ]
    },
    {
     "name": "stdout",
     "output_type": "stream",
     "text": [
      "Loop:  365\n"
     ]
    },
    {
     "name": "stderr",
     "output_type": "stream",
     "text": [
      "\u001b[2m\u001b[36m(RolloutWorker pid=1736)\u001b[0m C:\\Users\\nadir\\anaconda3\\envs\\GTRay2.4.0\\lib\\site-packages\\rtgym\\envs\\real_time_env.py:376: UserWarning: Time-step timed out. Elapsed since last time-step: 3.098495800164528\n",
      "\u001b[2m\u001b[36m(RolloutWorker pid=1736)\u001b[0m   warnings.warn(f\"Time-step timed out. Elapsed since last time-step: {now - self.__t_end}\")\n"
     ]
    },
    {
     "name": "stdout",
     "output_type": "stream",
     "text": [
      "\u001b[2m\u001b[36m(RolloutWorker pid=1736)\u001b[0m reset triggered\n",
      "\u001b[2m\u001b[36m(RolloutWorker pid=1736)\u001b[0m reload save for track : 72\n"
     ]
    },
    {
     "name": "stderr",
     "output_type": "stream",
     "text": [
      "\u001b[2m\u001b[36m(RolloutWorker pid=1736)\u001b[0m C:\\Users\\nadir\\anaconda3\\envs\\GTRay2.4.0\\lib\\site-packages\\rtgym\\envs\\real_time_env.py:376: UserWarning: Time-step timed out. Elapsed since last time-step: 0.12138500000764907\n",
      "\u001b[2m\u001b[36m(RolloutWorker pid=1736)\u001b[0m   warnings.warn(f\"Time-step timed out. Elapsed since last time-step: {now - self.__t_end}\")\n",
      "\u001b[2m\u001b[36m(RolloutWorker pid=1736)\u001b[0m C:\\Users\\nadir\\anaconda3\\envs\\GTRay2.4.0\\lib\\site-packages\\rtgym\\envs\\real_time_env.py:376: UserWarning: Time-step timed out. Elapsed since last time-step: 0.07194300027003919\n",
      "\u001b[2m\u001b[36m(RolloutWorker pid=1736)\u001b[0m   warnings.warn(f\"Time-step timed out. Elapsed since last time-step: {now - self.__t_end}\")\n"
     ]
    },
    {
     "name": "stdout",
     "output_type": "stream",
     "text": [
      "Loop:  366\n"
     ]
    },
    {
     "name": "stderr",
     "output_type": "stream",
     "text": [
      "\u001b[2m\u001b[36m(RolloutWorker pid=1736)\u001b[0m C:\\Users\\nadir\\anaconda3\\envs\\GTRay2.4.0\\lib\\site-packages\\rtgym\\envs\\real_time_env.py:376: UserWarning: Time-step timed out. Elapsed since last time-step: 3.0122212000005675\n",
      "\u001b[2m\u001b[36m(RolloutWorker pid=1736)\u001b[0m   warnings.warn(f\"Time-step timed out. Elapsed since last time-step: {now - self.__t_end}\")\n"
     ]
    },
    {
     "name": "stdout",
     "output_type": "stream",
     "text": [
      "\u001b[2m\u001b[36m(RolloutWorker pid=1736)\u001b[0m reset triggered\n",
      "\u001b[2m\u001b[36m(RolloutWorker pid=1736)\u001b[0m reload save for track : 72\n"
     ]
    },
    {
     "name": "stderr",
     "output_type": "stream",
     "text": [
      "\u001b[2m\u001b[36m(RolloutWorker pid=1736)\u001b[0m C:\\Users\\nadir\\anaconda3\\envs\\GTRay2.4.0\\lib\\site-packages\\rtgym\\envs\\real_time_env.py:376: UserWarning: Time-step timed out. Elapsed since last time-step: 0.11627390000830928\n",
      "\u001b[2m\u001b[36m(RolloutWorker pid=1736)\u001b[0m   warnings.warn(f\"Time-step timed out. Elapsed since last time-step: {now - self.__t_end}\")\n",
      "\u001b[2m\u001b[36m(RolloutWorker pid=1736)\u001b[0m C:\\Users\\nadir\\anaconda3\\envs\\GTRay2.4.0\\lib\\site-packages\\rtgym\\envs\\real_time_env.py:376: UserWarning: Time-step timed out. Elapsed since last time-step: 0.07824500027163594\n",
      "\u001b[2m\u001b[36m(RolloutWorker pid=1736)\u001b[0m   warnings.warn(f\"Time-step timed out. Elapsed since last time-step: {now - self.__t_end}\")\n"
     ]
    },
    {
     "name": "stdout",
     "output_type": "stream",
     "text": [
      "Loop:  367\n"
     ]
    },
    {
     "name": "stderr",
     "output_type": "stream",
     "text": [
      "\u001b[2m\u001b[36m(RolloutWorker pid=1736)\u001b[0m C:\\Users\\nadir\\anaconda3\\envs\\GTRay2.4.0\\lib\\site-packages\\rtgym\\envs\\real_time_env.py:376: UserWarning: Time-step timed out. Elapsed since last time-step: 2.958314800000153\n",
      "\u001b[2m\u001b[36m(RolloutWorker pid=1736)\u001b[0m   warnings.warn(f\"Time-step timed out. Elapsed since last time-step: {now - self.__t_end}\")\n"
     ]
    },
    {
     "name": "stdout",
     "output_type": "stream",
     "text": [
      "\u001b[2m\u001b[36m(RolloutWorker pid=1736)\u001b[0m reset triggered\n",
      "\u001b[2m\u001b[36m(RolloutWorker pid=1736)\u001b[0m reload save for track : 72\n"
     ]
    },
    {
     "name": "stderr",
     "output_type": "stream",
     "text": [
      "\u001b[2m\u001b[36m(RolloutWorker pid=1736)\u001b[0m C:\\Users\\nadir\\anaconda3\\envs\\GTRay2.4.0\\lib\\site-packages\\rtgym\\envs\\real_time_env.py:376: UserWarning: Time-step timed out. Elapsed since last time-step: 0.12394870000753144\n",
      "\u001b[2m\u001b[36m(RolloutWorker pid=1736)\u001b[0m   warnings.warn(f\"Time-step timed out. Elapsed since last time-step: {now - self.__t_end}\")\n",
      "\u001b[2m\u001b[36m(RolloutWorker pid=1736)\u001b[0m C:\\Users\\nadir\\anaconda3\\envs\\GTRay2.4.0\\lib\\site-packages\\rtgym\\envs\\real_time_env.py:376: UserWarning: Time-step timed out. Elapsed since last time-step: 0.07119720027185394\n",
      "\u001b[2m\u001b[36m(RolloutWorker pid=1736)\u001b[0m   warnings.warn(f\"Time-step timed out. Elapsed since last time-step: {now - self.__t_end}\")\n"
     ]
    },
    {
     "name": "stdout",
     "output_type": "stream",
     "text": [
      "Loop:  368\n"
     ]
    },
    {
     "name": "stderr",
     "output_type": "stream",
     "text": [
      "\u001b[2m\u001b[36m(RolloutWorker pid=1736)\u001b[0m C:\\Users\\nadir\\anaconda3\\envs\\GTRay2.4.0\\lib\\site-packages\\rtgym\\envs\\real_time_env.py:376: UserWarning: Time-step timed out. Elapsed since last time-step: 3.014863800000967\n",
      "\u001b[2m\u001b[36m(RolloutWorker pid=1736)\u001b[0m   warnings.warn(f\"Time-step timed out. Elapsed since last time-step: {now - self.__t_end}\")\n"
     ]
    },
    {
     "name": "stdout",
     "output_type": "stream",
     "text": [
      "\u001b[2m\u001b[36m(RolloutWorker pid=1736)\u001b[0m reset triggered\n",
      "\u001b[2m\u001b[36m(RolloutWorker pid=1736)\u001b[0m reload save for track : 72\n"
     ]
    },
    {
     "name": "stderr",
     "output_type": "stream",
     "text": [
      "\u001b[2m\u001b[36m(RolloutWorker pid=1736)\u001b[0m C:\\Users\\nadir\\anaconda3\\envs\\GTRay2.4.0\\lib\\site-packages\\rtgym\\envs\\real_time_env.py:376: UserWarning: Time-step timed out. Elapsed since last time-step: 0.10330500000782195\n",
      "\u001b[2m\u001b[36m(RolloutWorker pid=1736)\u001b[0m   warnings.warn(f\"Time-step timed out. Elapsed since last time-step: {now - self.__t_end}\")\n"
     ]
    },
    {
     "name": "stdout",
     "output_type": "stream",
     "text": [
      "Loop:  369\n"
     ]
    },
    {
     "name": "stderr",
     "output_type": "stream",
     "text": [
      "\u001b[2m\u001b[36m(RolloutWorker pid=1736)\u001b[0m C:\\Users\\nadir\\anaconda3\\envs\\GTRay2.4.0\\lib\\site-packages\\rtgym\\envs\\real_time_env.py:376: UserWarning: Time-step timed out. Elapsed since last time-step: 3.0774610002699774\n",
      "\u001b[2m\u001b[36m(RolloutWorker pid=1736)\u001b[0m   warnings.warn(f\"Time-step timed out. Elapsed since last time-step: {now - self.__t_end}\")\n",
      "\u001b[2m\u001b[36m(RolloutWorker pid=1736)\u001b[0m C:\\Users\\nadir\\anaconda3\\envs\\GTRay2.4.0\\lib\\site-packages\\rtgym\\envs\\real_time_env.py:376: UserWarning: Time-step timed out. Elapsed since last time-step: 0.10744730000806157\n",
      "\u001b[2m\u001b[36m(RolloutWorker pid=1736)\u001b[0m   warnings.warn(f\"Time-step timed out. Elapsed since last time-step: {now - self.__t_end}\")\n"
     ]
    },
    {
     "name": "stdout",
     "output_type": "stream",
     "text": [
      "\u001b[2m\u001b[36m(RolloutWorker pid=1736)\u001b[0m reset triggered\n",
      "\u001b[2m\u001b[36m(RolloutWorker pid=1736)\u001b[0m reload save for track : 72\n"
     ]
    },
    {
     "name": "stderr",
     "output_type": "stream",
     "text": [
      "\u001b[2m\u001b[36m(RolloutWorker pid=1736)\u001b[0m C:\\Users\\nadir\\anaconda3\\envs\\GTRay2.4.0\\lib\\site-packages\\rtgym\\envs\\real_time_env.py:376: UserWarning: Time-step timed out. Elapsed since last time-step: 0.06193410027117352\n",
      "\u001b[2m\u001b[36m(RolloutWorker pid=1736)\u001b[0m   warnings.warn(f\"Time-step timed out. Elapsed since last time-step: {now - self.__t_end}\")\n"
     ]
    },
    {
     "name": "stdout",
     "output_type": "stream",
     "text": [
      "Loop:  370\n",
      "Saved 370\n"
     ]
    },
    {
     "name": "stderr",
     "output_type": "stream",
     "text": [
      "\u001b[2m\u001b[36m(RolloutWorker pid=1736)\u001b[0m C:\\Users\\nadir\\anaconda3\\envs\\GTRay2.4.0\\lib\\site-packages\\rtgym\\envs\\real_time_env.py:376: UserWarning: Time-step timed out. Elapsed since last time-step: 3.1013973000008264\n",
      "\u001b[2m\u001b[36m(RolloutWorker pid=1736)\u001b[0m   warnings.warn(f\"Time-step timed out. Elapsed since last time-step: {now - self.__t_end}\")\n"
     ]
    },
    {
     "name": "stdout",
     "output_type": "stream",
     "text": [
      "\u001b[2m\u001b[36m(RolloutWorker pid=1736)\u001b[0m reset triggered\n",
      "\u001b[2m\u001b[36m(RolloutWorker pid=1736)\u001b[0m reload save for track : 72\n"
     ]
    },
    {
     "name": "stderr",
     "output_type": "stream",
     "text": [
      "\u001b[2m\u001b[36m(RolloutWorker pid=1736)\u001b[0m C:\\Users\\nadir\\anaconda3\\envs\\GTRay2.4.0\\lib\\site-packages\\rtgym\\envs\\real_time_env.py:376: UserWarning: Time-step timed out. Elapsed since last time-step: 0.10154360000888119\n",
      "\u001b[2m\u001b[36m(RolloutWorker pid=1736)\u001b[0m   warnings.warn(f\"Time-step timed out. Elapsed since last time-step: {now - self.__t_end}\")\n"
     ]
    },
    {
     "name": "stdout",
     "output_type": "stream",
     "text": [
      "Loop:  371\n"
     ]
    },
    {
     "name": "stderr",
     "output_type": "stream",
     "text": [
      "\u001b[2m\u001b[36m(RolloutWorker pid=1736)\u001b[0m C:\\Users\\nadir\\anaconda3\\envs\\GTRay2.4.0\\lib\\site-packages\\rtgym\\envs\\real_time_env.py:376: UserWarning: Time-step timed out. Elapsed since last time-step: 3.0313562002702383\n",
      "\u001b[2m\u001b[36m(RolloutWorker pid=1736)\u001b[0m   warnings.warn(f\"Time-step timed out. Elapsed since last time-step: {now - self.__t_end}\")\n"
     ]
    },
    {
     "name": "stdout",
     "output_type": "stream",
     "text": [
      "\u001b[2m\u001b[36m(RolloutWorker pid=1736)\u001b[0m reset triggered\n",
      "\u001b[2m\u001b[36m(RolloutWorker pid=1736)\u001b[0m reload save for track : 72\n"
     ]
    },
    {
     "name": "stderr",
     "output_type": "stream",
     "text": [
      "\u001b[2m\u001b[36m(RolloutWorker pid=1736)\u001b[0m C:\\Users\\nadir\\anaconda3\\envs\\GTRay2.4.0\\lib\\site-packages\\rtgym\\envs\\real_time_env.py:376: UserWarning: Time-step timed out. Elapsed since last time-step: 0.12938400000894035\n",
      "\u001b[2m\u001b[36m(RolloutWorker pid=1736)\u001b[0m   warnings.warn(f\"Time-step timed out. Elapsed since last time-step: {now - self.__t_end}\")\n"
     ]
    },
    {
     "name": "stdout",
     "output_type": "stream",
     "text": [
      "Loop:  372\n"
     ]
    },
    {
     "name": "stderr",
     "output_type": "stream",
     "text": [
      "\u001b[2m\u001b[36m(RolloutWorker pid=1736)\u001b[0m C:\\Users\\nadir\\anaconda3\\envs\\GTRay2.4.0\\lib\\site-packages\\rtgym\\envs\\real_time_env.py:376: UserWarning: Time-step timed out. Elapsed since last time-step: 3.0616589002711407\n",
      "\u001b[2m\u001b[36m(RolloutWorker pid=1736)\u001b[0m   warnings.warn(f\"Time-step timed out. Elapsed since last time-step: {now - self.__t_end}\")\n"
     ]
    },
    {
     "name": "stdout",
     "output_type": "stream",
     "text": [
      "\u001b[2m\u001b[36m(RolloutWorker pid=1736)\u001b[0m reset triggered\n",
      "\u001b[2m\u001b[36m(RolloutWorker pid=1736)\u001b[0m reload save for track : 72\n"
     ]
    },
    {
     "name": "stderr",
     "output_type": "stream",
     "text": [
      "\u001b[2m\u001b[36m(RolloutWorker pid=1736)\u001b[0m C:\\Users\\nadir\\anaconda3\\envs\\GTRay2.4.0\\lib\\site-packages\\rtgym\\envs\\real_time_env.py:376: UserWarning: Time-step timed out. Elapsed since last time-step: 0.12321510000765556\n",
      "\u001b[2m\u001b[36m(RolloutWorker pid=1736)\u001b[0m   warnings.warn(f\"Time-step timed out. Elapsed since last time-step: {now - self.__t_end}\")\n",
      "\u001b[2m\u001b[36m(RolloutWorker pid=1736)\u001b[0m C:\\Users\\nadir\\anaconda3\\envs\\GTRay2.4.0\\lib\\site-packages\\rtgym\\envs\\real_time_env.py:376: UserWarning: Time-step timed out. Elapsed since last time-step: 0.05412590027117403\n",
      "\u001b[2m\u001b[36m(RolloutWorker pid=1736)\u001b[0m   warnings.warn(f\"Time-step timed out. Elapsed since last time-step: {now - self.__t_end}\")\n"
     ]
    },
    {
     "name": "stdout",
     "output_type": "stream",
     "text": [
      "Loop:  373\n"
     ]
    },
    {
     "name": "stderr",
     "output_type": "stream",
     "text": [
      "\u001b[2m\u001b[36m(RolloutWorker pid=1736)\u001b[0m C:\\Users\\nadir\\anaconda3\\envs\\GTRay2.4.0\\lib\\site-packages\\rtgym\\envs\\real_time_env.py:376: UserWarning: Time-step timed out. Elapsed since last time-step: 3.002076599999782\n",
      "\u001b[2m\u001b[36m(RolloutWorker pid=1736)\u001b[0m   warnings.warn(f\"Time-step timed out. Elapsed since last time-step: {now - self.__t_end}\")\n"
     ]
    },
    {
     "name": "stdout",
     "output_type": "stream",
     "text": [
      "\u001b[2m\u001b[36m(RolloutWorker pid=1736)\u001b[0m reset triggered\n",
      "\u001b[2m\u001b[36m(RolloutWorker pid=1736)\u001b[0m reload save for track : 72\n"
     ]
    },
    {
     "name": "stderr",
     "output_type": "stream",
     "text": [
      "\u001b[2m\u001b[36m(RolloutWorker pid=1736)\u001b[0m C:\\Users\\nadir\\anaconda3\\envs\\GTRay2.4.0\\lib\\site-packages\\rtgym\\envs\\real_time_env.py:376: UserWarning: Time-step timed out. Elapsed since last time-step: 0.1438267000085034\n",
      "\u001b[2m\u001b[36m(RolloutWorker pid=1736)\u001b[0m   warnings.warn(f\"Time-step timed out. Elapsed since last time-step: {now - self.__t_end}\")\n",
      "\u001b[2m\u001b[36m(RolloutWorker pid=1736)\u001b[0m C:\\Users\\nadir\\anaconda3\\envs\\GTRay2.4.0\\lib\\site-packages\\rtgym\\envs\\real_time_env.py:376: UserWarning: Time-step timed out. Elapsed since last time-step: 0.1222782001041196\n",
      "\u001b[2m\u001b[36m(RolloutWorker pid=1736)\u001b[0m   warnings.warn(f\"Time-step timed out. Elapsed since last time-step: {now - self.__t_end}\")\n"
     ]
    },
    {
     "name": "stdout",
     "output_type": "stream",
     "text": [
      "Loop:  374\n"
     ]
    },
    {
     "name": "stderr",
     "output_type": "stream",
     "text": [
      "\u001b[2m\u001b[36m(RolloutWorker pid=1736)\u001b[0m C:\\Users\\nadir\\anaconda3\\envs\\GTRay2.4.0\\lib\\site-packages\\rtgym\\envs\\real_time_env.py:376: UserWarning: Time-step timed out. Elapsed since last time-step: 2.953566200167188\n",
      "\u001b[2m\u001b[36m(RolloutWorker pid=1736)\u001b[0m   warnings.warn(f\"Time-step timed out. Elapsed since last time-step: {now - self.__t_end}\")\n"
     ]
    },
    {
     "name": "stdout",
     "output_type": "stream",
     "text": [
      "\u001b[2m\u001b[36m(RolloutWorker pid=1736)\u001b[0m reset triggered\n",
      "\u001b[2m\u001b[36m(RolloutWorker pid=1736)\u001b[0m reload save for track : 72\n"
     ]
    },
    {
     "name": "stderr",
     "output_type": "stream",
     "text": [
      "\u001b[2m\u001b[36m(RolloutWorker pid=1736)\u001b[0m C:\\Users\\nadir\\anaconda3\\envs\\GTRay2.4.0\\lib\\site-packages\\rtgym\\envs\\real_time_env.py:376: UserWarning: Time-step timed out. Elapsed since last time-step: 0.12411360000805871\n",
      "\u001b[2m\u001b[36m(RolloutWorker pid=1736)\u001b[0m   warnings.warn(f\"Time-step timed out. Elapsed since last time-step: {now - self.__t_end}\")\n",
      "\u001b[2m\u001b[36m(RolloutWorker pid=1736)\u001b[0m C:\\Users\\nadir\\anaconda3\\envs\\GTRay2.4.0\\lib\\site-packages\\rtgym\\envs\\real_time_env.py:376: UserWarning: Time-step timed out. Elapsed since last time-step: 0.065095700270831\n",
      "\u001b[2m\u001b[36m(RolloutWorker pid=1736)\u001b[0m   warnings.warn(f\"Time-step timed out. Elapsed since last time-step: {now - self.__t_end}\")\n"
     ]
    },
    {
     "name": "stdout",
     "output_type": "stream",
     "text": [
      "Loop:  375\n"
     ]
    },
    {
     "name": "stderr",
     "output_type": "stream",
     "text": [
      "\u001b[2m\u001b[36m(RolloutWorker pid=1736)\u001b[0m C:\\Users\\nadir\\anaconda3\\envs\\GTRay2.4.0\\lib\\site-packages\\rtgym\\envs\\real_time_env.py:376: UserWarning: Time-step timed out. Elapsed since last time-step: 2.9764081000012084\n",
      "\u001b[2m\u001b[36m(RolloutWorker pid=1736)\u001b[0m   warnings.warn(f\"Time-step timed out. Elapsed since last time-step: {now - self.__t_end}\")\n",
      "\u001b[2m\u001b[36m(RolloutWorker pid=1736)\u001b[0m C:\\Users\\nadir\\anaconda3\\envs\\GTRay2.4.0\\lib\\site-packages\\rtgym\\envs\\real_time_env.py:376: UserWarning: Time-step timed out. Elapsed since last time-step: 0.11445500000809261\n",
      "\u001b[2m\u001b[36m(RolloutWorker pid=1736)\u001b[0m   warnings.warn(f\"Time-step timed out. Elapsed since last time-step: {now - self.__t_end}\")\n"
     ]
    },
    {
     "name": "stdout",
     "output_type": "stream",
     "text": [
      "\u001b[2m\u001b[36m(RolloutWorker pid=1736)\u001b[0m reset triggered\n",
      "\u001b[2m\u001b[36m(RolloutWorker pid=1736)\u001b[0m reload save for track : 72\n"
     ]
    },
    {
     "name": "stderr",
     "output_type": "stream",
     "text": [
      "\u001b[2m\u001b[36m(RolloutWorker pid=1736)\u001b[0m C:\\Users\\nadir\\anaconda3\\envs\\GTRay2.4.0\\lib\\site-packages\\rtgym\\envs\\real_time_env.py:376: UserWarning: Time-step timed out. Elapsed since last time-step: 0.07239290027064271\n",
      "\u001b[2m\u001b[36m(RolloutWorker pid=1736)\u001b[0m   warnings.warn(f\"Time-step timed out. Elapsed since last time-step: {now - self.__t_end}\")\n"
     ]
    },
    {
     "name": "stdout",
     "output_type": "stream",
     "text": [
      "Loop:  376\n"
     ]
    },
    {
     "name": "stderr",
     "output_type": "stream",
     "text": [
      "\u001b[2m\u001b[36m(RolloutWorker pid=1736)\u001b[0m C:\\Users\\nadir\\anaconda3\\envs\\GTRay2.4.0\\lib\\site-packages\\rtgym\\envs\\real_time_env.py:376: UserWarning: Time-step timed out. Elapsed since last time-step: 3.0142207000008057\n",
      "\u001b[2m\u001b[36m(RolloutWorker pid=1736)\u001b[0m   warnings.warn(f\"Time-step timed out. Elapsed since last time-step: {now - self.__t_end}\")\n",
      "\u001b[2m\u001b[36m(RolloutWorker pid=1736)\u001b[0m C:\\Users\\nadir\\anaconda3\\envs\\GTRay2.4.0\\lib\\site-packages\\rtgym\\envs\\real_time_env.py:376: UserWarning: Time-step timed out. Elapsed since last time-step: 0.11330200000702462\n",
      "\u001b[2m\u001b[36m(RolloutWorker pid=1736)\u001b[0m   warnings.warn(f\"Time-step timed out. Elapsed since last time-step: {now - self.__t_end}\")\n"
     ]
    },
    {
     "name": "stdout",
     "output_type": "stream",
     "text": [
      "\u001b[2m\u001b[36m(RolloutWorker pid=1736)\u001b[0m reset triggered\n",
      "\u001b[2m\u001b[36m(RolloutWorker pid=1736)\u001b[0m reload save for track : 72\n"
     ]
    },
    {
     "name": "stderr",
     "output_type": "stream",
     "text": [
      "\u001b[2m\u001b[36m(RolloutWorker pid=1736)\u001b[0m C:\\Users\\nadir\\anaconda3\\envs\\GTRay2.4.0\\lib\\site-packages\\rtgym\\envs\\real_time_env.py:376: UserWarning: Time-step timed out. Elapsed since last time-step: 0.06659250027041708\n",
      "\u001b[2m\u001b[36m(RolloutWorker pid=1736)\u001b[0m   warnings.warn(f\"Time-step timed out. Elapsed since last time-step: {now - self.__t_end}\")\n"
     ]
    },
    {
     "name": "stdout",
     "output_type": "stream",
     "text": [
      "Loop:  377\n"
     ]
    },
    {
     "name": "stderr",
     "output_type": "stream",
     "text": [
      "\u001b[2m\u001b[36m(RolloutWorker pid=1736)\u001b[0m C:\\Users\\nadir\\anaconda3\\envs\\GTRay2.4.0\\lib\\site-packages\\rtgym\\envs\\real_time_env.py:376: UserWarning: Time-step timed out. Elapsed since last time-step: 3.0026422000009916\n",
      "\u001b[2m\u001b[36m(RolloutWorker pid=1736)\u001b[0m   warnings.warn(f\"Time-step timed out. Elapsed since last time-step: {now - self.__t_end}\")\n"
     ]
    },
    {
     "name": "stdout",
     "output_type": "stream",
     "text": [
      "\u001b[2m\u001b[36m(RolloutWorker pid=1736)\u001b[0m reset triggered\n",
      "\u001b[2m\u001b[36m(RolloutWorker pid=1736)\u001b[0m reload save for track : 72\n"
     ]
    },
    {
     "name": "stderr",
     "output_type": "stream",
     "text": [
      "\u001b[2m\u001b[36m(RolloutWorker pid=1736)\u001b[0m C:\\Users\\nadir\\anaconda3\\envs\\GTRay2.4.0\\lib\\site-packages\\rtgym\\envs\\real_time_env.py:376: UserWarning: Time-step timed out. Elapsed since last time-step: 0.10072970000874193\n",
      "\u001b[2m\u001b[36m(RolloutWorker pid=1736)\u001b[0m   warnings.warn(f\"Time-step timed out. Elapsed since last time-step: {now - self.__t_end}\")\n"
     ]
    },
    {
     "name": "stdout",
     "output_type": "stream",
     "text": [
      "Loop:  378\n"
     ]
    },
    {
     "name": "stderr",
     "output_type": "stream",
     "text": [
      "\u001b[2m\u001b[36m(RolloutWorker pid=1736)\u001b[0m C:\\Users\\nadir\\anaconda3\\envs\\GTRay2.4.0\\lib\\site-packages\\rtgym\\envs\\real_time_env.py:376: UserWarning: Time-step timed out. Elapsed since last time-step: 3.074115200270171\n",
      "\u001b[2m\u001b[36m(RolloutWorker pid=1736)\u001b[0m   warnings.warn(f\"Time-step timed out. Elapsed since last time-step: {now - self.__t_end}\")\n"
     ]
    },
    {
     "name": "stdout",
     "output_type": "stream",
     "text": [
      "\u001b[2m\u001b[36m(RolloutWorker pid=1736)\u001b[0m reset triggered\n",
      "\u001b[2m\u001b[36m(RolloutWorker pid=1736)\u001b[0m reload save for track : 72\n"
     ]
    },
    {
     "name": "stderr",
     "output_type": "stream",
     "text": [
      "\u001b[2m\u001b[36m(RolloutWorker pid=1736)\u001b[0m C:\\Users\\nadir\\anaconda3\\envs\\GTRay2.4.0\\lib\\site-packages\\rtgym\\envs\\real_time_env.py:376: UserWarning: Time-step timed out. Elapsed since last time-step: 0.10571280000840488\n",
      "\u001b[2m\u001b[36m(RolloutWorker pid=1736)\u001b[0m   warnings.warn(f\"Time-step timed out. Elapsed since last time-step: {now - self.__t_end}\")\n",
      "\u001b[2m\u001b[36m(RolloutWorker pid=1736)\u001b[0m C:\\Users\\nadir\\anaconda3\\envs\\GTRay2.4.0\\lib\\site-packages\\rtgym\\envs\\real_time_env.py:376: UserWarning: Time-step timed out. Elapsed since last time-step: 0.08168500027022674\n",
      "\u001b[2m\u001b[36m(RolloutWorker pid=1736)\u001b[0m   warnings.warn(f\"Time-step timed out. Elapsed since last time-step: {now - self.__t_end}\")\n"
     ]
    },
    {
     "name": "stdout",
     "output_type": "stream",
     "text": [
      "Loop:  379\n"
     ]
    },
    {
     "name": "stderr",
     "output_type": "stream",
     "text": [
      "\u001b[2m\u001b[36m(RolloutWorker pid=1736)\u001b[0m C:\\Users\\nadir\\anaconda3\\envs\\GTRay2.4.0\\lib\\site-packages\\rtgym\\envs\\real_time_env.py:376: UserWarning: Time-step timed out. Elapsed since last time-step: 3.0542892000012216\n",
      "\u001b[2m\u001b[36m(RolloutWorker pid=1736)\u001b[0m   warnings.warn(f\"Time-step timed out. Elapsed since last time-step: {now - self.__t_end}\")\n"
     ]
    },
    {
     "name": "stdout",
     "output_type": "stream",
     "text": [
      "\u001b[2m\u001b[36m(RolloutWorker pid=1736)\u001b[0m reset triggered\n",
      "\u001b[2m\u001b[36m(RolloutWorker pid=1736)\u001b[0m reload save for track : 72\n"
     ]
    },
    {
     "name": "stderr",
     "output_type": "stream",
     "text": [
      "\u001b[2m\u001b[36m(RolloutWorker pid=1736)\u001b[0m C:\\Users\\nadir\\anaconda3\\envs\\GTRay2.4.0\\lib\\site-packages\\rtgym\\envs\\real_time_env.py:376: UserWarning: Time-step timed out. Elapsed since last time-step: 0.12365940000745468\n",
      "\u001b[2m\u001b[36m(RolloutWorker pid=1736)\u001b[0m   warnings.warn(f\"Time-step timed out. Elapsed since last time-step: {now - self.__t_end}\")\n",
      "\u001b[2m\u001b[36m(RolloutWorker pid=1736)\u001b[0m C:\\Users\\nadir\\anaconda3\\envs\\GTRay2.4.0\\lib\\site-packages\\rtgym\\envs\\real_time_env.py:376: UserWarning: Time-step timed out. Elapsed since last time-step: 0.07312380027178733\n",
      "\u001b[2m\u001b[36m(RolloutWorker pid=1736)\u001b[0m   warnings.warn(f\"Time-step timed out. Elapsed since last time-step: {now - self.__t_end}\")\n"
     ]
    },
    {
     "name": "stdout",
     "output_type": "stream",
     "text": [
      "Loop:  380\n",
      "Saved 380\n"
     ]
    },
    {
     "name": "stderr",
     "output_type": "stream",
     "text": [
      "\u001b[2m\u001b[36m(RolloutWorker pid=1736)\u001b[0m C:\\Users\\nadir\\anaconda3\\envs\\GTRay2.4.0\\lib\\site-packages\\rtgym\\envs\\real_time_env.py:376: UserWarning: Time-step timed out. Elapsed since last time-step: 3.0780401000010897\n",
      "\u001b[2m\u001b[36m(RolloutWorker pid=1736)\u001b[0m   warnings.warn(f\"Time-step timed out. Elapsed since last time-step: {now - self.__t_end}\")\n"
     ]
    },
    {
     "name": "stdout",
     "output_type": "stream",
     "text": [
      "\u001b[2m\u001b[36m(RolloutWorker pid=1736)\u001b[0m reset triggered\n",
      "\u001b[2m\u001b[36m(RolloutWorker pid=1736)\u001b[0m reload save for track : 72\n"
     ]
    },
    {
     "name": "stderr",
     "output_type": "stream",
     "text": [
      "\u001b[2m\u001b[36m(RolloutWorker pid=1736)\u001b[0m C:\\Users\\nadir\\anaconda3\\envs\\GTRay2.4.0\\lib\\site-packages\\rtgym\\envs\\real_time_env.py:376: UserWarning: Time-step timed out. Elapsed since last time-step: 0.12929340000664524\n",
      "\u001b[2m\u001b[36m(RolloutWorker pid=1736)\u001b[0m   warnings.warn(f\"Time-step timed out. Elapsed since last time-step: {now - self.__t_end}\")\n"
     ]
    },
    {
     "name": "stdout",
     "output_type": "stream",
     "text": [
      "Loop:  381\n"
     ]
    },
    {
     "name": "stderr",
     "output_type": "stream",
     "text": [
      "\u001b[2m\u001b[36m(RolloutWorker pid=1736)\u001b[0m C:\\Users\\nadir\\anaconda3\\envs\\GTRay2.4.0\\lib\\site-packages\\rtgym\\envs\\real_time_env.py:376: UserWarning: Time-step timed out. Elapsed since last time-step: 2.9538115002724226\n",
      "\u001b[2m\u001b[36m(RolloutWorker pid=1736)\u001b[0m   warnings.warn(f\"Time-step timed out. Elapsed since last time-step: {now - self.__t_end}\")\n"
     ]
    },
    {
     "name": "stdout",
     "output_type": "stream",
     "text": [
      "\u001b[2m\u001b[36m(RolloutWorker pid=1736)\u001b[0m reset triggered\n",
      "\u001b[2m\u001b[36m(RolloutWorker pid=1736)\u001b[0m reload save for track : 72\n"
     ]
    },
    {
     "name": "stderr",
     "output_type": "stream",
     "text": [
      "\u001b[2m\u001b[36m(RolloutWorker pid=1736)\u001b[0m C:\\Users\\nadir\\anaconda3\\envs\\GTRay2.4.0\\lib\\site-packages\\rtgym\\envs\\real_time_env.py:376: UserWarning: Time-step timed out. Elapsed since last time-step: 0.12648490000719903\n",
      "\u001b[2m\u001b[36m(RolloutWorker pid=1736)\u001b[0m   warnings.warn(f\"Time-step timed out. Elapsed since last time-step: {now - self.__t_end}\")\n",
      "\u001b[2m\u001b[36m(RolloutWorker pid=1736)\u001b[0m C:\\Users\\nadir\\anaconda3\\envs\\GTRay2.4.0\\lib\\site-packages\\rtgym\\envs\\real_time_env.py:376: UserWarning: Time-step timed out. Elapsed since last time-step: 0.06177000027128088\n",
      "\u001b[2m\u001b[36m(RolloutWorker pid=1736)\u001b[0m   warnings.warn(f\"Time-step timed out. Elapsed since last time-step: {now - self.__t_end}\")\n"
     ]
    },
    {
     "name": "stdout",
     "output_type": "stream",
     "text": [
      "Loop:  382\n"
     ]
    },
    {
     "name": "stderr",
     "output_type": "stream",
     "text": [
      "\u001b[2m\u001b[36m(RolloutWorker pid=1736)\u001b[0m C:\\Users\\nadir\\anaconda3\\envs\\GTRay2.4.0\\lib\\site-packages\\rtgym\\envs\\real_time_env.py:376: UserWarning: Time-step timed out. Elapsed since last time-step: 3.0126553999998578\n",
      "\u001b[2m\u001b[36m(RolloutWorker pid=1736)\u001b[0m   warnings.warn(f\"Time-step timed out. Elapsed since last time-step: {now - self.__t_end}\")\n"
     ]
    },
    {
     "name": "stdout",
     "output_type": "stream",
     "text": [
      "\u001b[2m\u001b[36m(RolloutWorker pid=1736)\u001b[0m reset triggered\n",
      "\u001b[2m\u001b[36m(RolloutWorker pid=1736)\u001b[0m reload save for track : 72\n"
     ]
    },
    {
     "name": "stderr",
     "output_type": "stream",
     "text": [
      "\u001b[2m\u001b[36m(RolloutWorker pid=1736)\u001b[0m C:\\Users\\nadir\\anaconda3\\envs\\GTRay2.4.0\\lib\\site-packages\\rtgym\\envs\\real_time_env.py:376: UserWarning: Time-step timed out. Elapsed since last time-step: 0.115827800009356\n",
      "\u001b[2m\u001b[36m(RolloutWorker pid=1736)\u001b[0m   warnings.warn(f\"Time-step timed out. Elapsed since last time-step: {now - self.__t_end}\")\n",
      "\u001b[2m\u001b[36m(RolloutWorker pid=1736)\u001b[0m C:\\Users\\nadir\\anaconda3\\envs\\GTRay2.4.0\\lib\\site-packages\\rtgym\\envs\\real_time_env.py:376: UserWarning: Time-step timed out. Elapsed since last time-step: 0.05500960026984103\n",
      "\u001b[2m\u001b[36m(RolloutWorker pid=1736)\u001b[0m   warnings.warn(f\"Time-step timed out. Elapsed since last time-step: {now - self.__t_end}\")\n"
     ]
    },
    {
     "name": "stdout",
     "output_type": "stream",
     "text": [
      "Loop:  383\n"
     ]
    },
    {
     "name": "stderr",
     "output_type": "stream",
     "text": [
      "\u001b[2m\u001b[36m(RolloutWorker pid=1736)\u001b[0m C:\\Users\\nadir\\anaconda3\\envs\\GTRay2.4.0\\lib\\site-packages\\rtgym\\envs\\real_time_env.py:376: UserWarning: Time-step timed out. Elapsed since last time-step: 3.0138198000004195\n",
      "\u001b[2m\u001b[36m(RolloutWorker pid=1736)\u001b[0m   warnings.warn(f\"Time-step timed out. Elapsed since last time-step: {now - self.__t_end}\")\n"
     ]
    },
    {
     "name": "stdout",
     "output_type": "stream",
     "text": [
      "\u001b[2m\u001b[36m(RolloutWorker pid=1736)\u001b[0m reset triggered\n",
      "\u001b[2m\u001b[36m(RolloutWorker pid=1736)\u001b[0m reload save for track : 72\n"
     ]
    },
    {
     "name": "stderr",
     "output_type": "stream",
     "text": [
      "\u001b[2m\u001b[36m(RolloutWorker pid=1736)\u001b[0m C:\\Users\\nadir\\anaconda3\\envs\\GTRay2.4.0\\lib\\site-packages\\rtgym\\envs\\real_time_env.py:376: UserWarning: Time-step timed out. Elapsed since last time-step: 0.11529070000869979\n",
      "\u001b[2m\u001b[36m(RolloutWorker pid=1736)\u001b[0m   warnings.warn(f\"Time-step timed out. Elapsed since last time-step: {now - self.__t_end}\")\n",
      "\u001b[2m\u001b[36m(RolloutWorker pid=1736)\u001b[0m C:\\Users\\nadir\\anaconda3\\envs\\GTRay2.4.0\\lib\\site-packages\\rtgym\\envs\\real_time_env.py:376: UserWarning: Time-step timed out. Elapsed since last time-step: 0.08422690026964119\n",
      "\u001b[2m\u001b[36m(RolloutWorker pid=1736)\u001b[0m   warnings.warn(f\"Time-step timed out. Elapsed since last time-step: {now - self.__t_end}\")\n"
     ]
    },
    {
     "name": "stdout",
     "output_type": "stream",
     "text": [
      "Loop:  384\n"
     ]
    },
    {
     "name": "stderr",
     "output_type": "stream",
     "text": [
      "\u001b[2m\u001b[36m(RolloutWorker pid=1736)\u001b[0m C:\\Users\\nadir\\anaconda3\\envs\\GTRay2.4.0\\lib\\site-packages\\rtgym\\envs\\real_time_env.py:376: UserWarning: Time-step timed out. Elapsed since last time-step: 2.9939250000006723\n",
      "\u001b[2m\u001b[36m(RolloutWorker pid=1736)\u001b[0m   warnings.warn(f\"Time-step timed out. Elapsed since last time-step: {now - self.__t_end}\")\n",
      "\u001b[2m\u001b[36m(RolloutWorker pid=1736)\u001b[0m C:\\Users\\nadir\\anaconda3\\envs\\GTRay2.4.0\\lib\\site-packages\\rtgym\\envs\\real_time_env.py:376: UserWarning: Time-step timed out. Elapsed since last time-step: 0.13723150000805617\n",
      "\u001b[2m\u001b[36m(RolloutWorker pid=1736)\u001b[0m   warnings.warn(f\"Time-step timed out. Elapsed since last time-step: {now - self.__t_end}\")\n"
     ]
    },
    {
     "name": "stdout",
     "output_type": "stream",
     "text": [
      "\u001b[2m\u001b[36m(RolloutWorker pid=1736)\u001b[0m reset triggered\n",
      "\u001b[2m\u001b[36m(RolloutWorker pid=1736)\u001b[0m reload save for track : 72\n"
     ]
    },
    {
     "name": "stderr",
     "output_type": "stream",
     "text": [
      "\u001b[2m\u001b[36m(RolloutWorker pid=1736)\u001b[0m C:\\Users\\nadir\\anaconda3\\envs\\GTRay2.4.0\\lib\\site-packages\\rtgym\\envs\\real_time_env.py:376: UserWarning: Time-step timed out. Elapsed since last time-step: 0.07076220027192903\n",
      "\u001b[2m\u001b[36m(RolloutWorker pid=1736)\u001b[0m   warnings.warn(f\"Time-step timed out. Elapsed since last time-step: {now - self.__t_end}\")\n"
     ]
    },
    {
     "name": "stdout",
     "output_type": "stream",
     "text": [
      "Loop:  385\n"
     ]
    },
    {
     "name": "stderr",
     "output_type": "stream",
     "text": [
      "\u001b[2m\u001b[36m(RolloutWorker pid=1736)\u001b[0m C:\\Users\\nadir\\anaconda3\\envs\\GTRay2.4.0\\lib\\site-packages\\rtgym\\envs\\real_time_env.py:376: UserWarning: Time-step timed out. Elapsed since last time-step: 2.9770845000002737\n",
      "\u001b[2m\u001b[36m(RolloutWorker pid=1736)\u001b[0m   warnings.warn(f\"Time-step timed out. Elapsed since last time-step: {now - self.__t_end}\")\n"
     ]
    },
    {
     "name": "stdout",
     "output_type": "stream",
     "text": [
      "\u001b[2m\u001b[36m(RolloutWorker pid=1736)\u001b[0m reset triggered\n",
      "\u001b[2m\u001b[36m(RolloutWorker pid=1736)\u001b[0m reload save for track : 72\n"
     ]
    },
    {
     "name": "stderr",
     "output_type": "stream",
     "text": [
      "\u001b[2m\u001b[36m(RolloutWorker pid=1736)\u001b[0m C:\\Users\\nadir\\anaconda3\\envs\\GTRay2.4.0\\lib\\site-packages\\rtgym\\envs\\real_time_env.py:376: UserWarning: Time-step timed out. Elapsed since last time-step: 0.11287960000845487\n",
      "\u001b[2m\u001b[36m(RolloutWorker pid=1736)\u001b[0m   warnings.warn(f\"Time-step timed out. Elapsed since last time-step: {now - self.__t_end}\")\n",
      "\u001b[2m\u001b[36m(RolloutWorker pid=1736)\u001b[0m C:\\Users\\nadir\\anaconda3\\envs\\GTRay2.4.0\\lib\\site-packages\\rtgym\\envs\\real_time_env.py:376: UserWarning: Time-step timed out. Elapsed since last time-step: 0.06534390027081827\n",
      "\u001b[2m\u001b[36m(RolloutWorker pid=1736)\u001b[0m   warnings.warn(f\"Time-step timed out. Elapsed since last time-step: {now - self.__t_end}\")\n"
     ]
    },
    {
     "name": "stdout",
     "output_type": "stream",
     "text": [
      "Loop:  386\n"
     ]
    },
    {
     "name": "stderr",
     "output_type": "stream",
     "text": [
      "\u001b[2m\u001b[36m(RolloutWorker pid=1736)\u001b[0m C:\\Users\\nadir\\anaconda3\\envs\\GTRay2.4.0\\lib\\site-packages\\rtgym\\envs\\real_time_env.py:376: UserWarning: Time-step timed out. Elapsed since last time-step: 3.006471299999248\n",
      "\u001b[2m\u001b[36m(RolloutWorker pid=1736)\u001b[0m   warnings.warn(f\"Time-step timed out. Elapsed since last time-step: {now - self.__t_end}\")\n"
     ]
    },
    {
     "name": "stdout",
     "output_type": "stream",
     "text": [
      "\u001b[2m\u001b[36m(RolloutWorker pid=1736)\u001b[0m reset triggered\n",
      "\u001b[2m\u001b[36m(RolloutWorker pid=1736)\u001b[0m reload save for track : 72\n"
     ]
    },
    {
     "name": "stderr",
     "output_type": "stream",
     "text": [
      "\u001b[2m\u001b[36m(RolloutWorker pid=1736)\u001b[0m C:\\Users\\nadir\\anaconda3\\envs\\GTRay2.4.0\\lib\\site-packages\\rtgym\\envs\\real_time_env.py:376: UserWarning: Time-step timed out. Elapsed since last time-step: 0.11793880000914214\n",
      "\u001b[2m\u001b[36m(RolloutWorker pid=1736)\u001b[0m   warnings.warn(f\"Time-step timed out. Elapsed since last time-step: {now - self.__t_end}\")\n",
      "\u001b[2m\u001b[36m(RolloutWorker pid=1736)\u001b[0m C:\\Users\\nadir\\anaconda3\\envs\\GTRay2.4.0\\lib\\site-packages\\rtgym\\envs\\real_time_env.py:376: UserWarning: Time-step timed out. Elapsed since last time-step: 0.07461720027094998\n",
      "\u001b[2m\u001b[36m(RolloutWorker pid=1736)\u001b[0m   warnings.warn(f\"Time-step timed out. Elapsed since last time-step: {now - self.__t_end}\")\n"
     ]
    },
    {
     "name": "stdout",
     "output_type": "stream",
     "text": [
      "Loop:  387\n"
     ]
    },
    {
     "name": "stderr",
     "output_type": "stream",
     "text": [
      "\u001b[2m\u001b[36m(RolloutWorker pid=1736)\u001b[0m C:\\Users\\nadir\\anaconda3\\envs\\GTRay2.4.0\\lib\\site-packages\\rtgym\\envs\\real_time_env.py:376: UserWarning: Time-step timed out. Elapsed since last time-step: 3.0110827000007703\n",
      "\u001b[2m\u001b[36m(RolloutWorker pid=1736)\u001b[0m   warnings.warn(f\"Time-step timed out. Elapsed since last time-step: {now - self.__t_end}\")\n",
      "\u001b[2m\u001b[36m(RolloutWorker pid=1736)\u001b[0m C:\\Users\\nadir\\anaconda3\\envs\\GTRay2.4.0\\lib\\site-packages\\rtgym\\envs\\real_time_env.py:376: UserWarning: Time-step timed out. Elapsed since last time-step: 0.10411490000660706\n",
      "\u001b[2m\u001b[36m(RolloutWorker pid=1736)\u001b[0m   warnings.warn(f\"Time-step timed out. Elapsed since last time-step: {now - self.__t_end}\")\n"
     ]
    },
    {
     "name": "stdout",
     "output_type": "stream",
     "text": [
      "\u001b[2m\u001b[36m(RolloutWorker pid=1736)\u001b[0m reset triggered\n",
      "\u001b[2m\u001b[36m(RolloutWorker pid=1736)\u001b[0m reload save for track : 72\n",
      "Loop:  388\n"
     ]
    },
    {
     "name": "stderr",
     "output_type": "stream",
     "text": [
      "\u001b[2m\u001b[36m(RolloutWorker pid=1736)\u001b[0m C:\\Users\\nadir\\anaconda3\\envs\\GTRay2.4.0\\lib\\site-packages\\rtgym\\envs\\real_time_env.py:376: UserWarning: Time-step timed out. Elapsed since last time-step: 3.0914174002718937\n",
      "\u001b[2m\u001b[36m(RolloutWorker pid=1736)\u001b[0m   warnings.warn(f\"Time-step timed out. Elapsed since last time-step: {now - self.__t_end}\")\n"
     ]
    },
    {
     "name": "stdout",
     "output_type": "stream",
     "text": [
      "\u001b[2m\u001b[36m(RolloutWorker pid=1736)\u001b[0m reset triggered\n",
      "\u001b[2m\u001b[36m(RolloutWorker pid=1736)\u001b[0m reload save for track : 72\n"
     ]
    },
    {
     "name": "stderr",
     "output_type": "stream",
     "text": [
      "\u001b[2m\u001b[36m(RolloutWorker pid=1736)\u001b[0m C:\\Users\\nadir\\anaconda3\\envs\\GTRay2.4.0\\lib\\site-packages\\rtgym\\envs\\real_time_env.py:376: UserWarning: Time-step timed out. Elapsed since last time-step: 0.12894170000799932\n",
      "\u001b[2m\u001b[36m(RolloutWorker pid=1736)\u001b[0m   warnings.warn(f\"Time-step timed out. Elapsed since last time-step: {now - self.__t_end}\")\n"
     ]
    },
    {
     "name": "stdout",
     "output_type": "stream",
     "text": [
      "Loop:  389\n"
     ]
    },
    {
     "name": "stderr",
     "output_type": "stream",
     "text": [
      "\u001b[2m\u001b[36m(RolloutWorker pid=1736)\u001b[0m C:\\Users\\nadir\\anaconda3\\envs\\GTRay2.4.0\\lib\\site-packages\\rtgym\\envs\\real_time_env.py:376: UserWarning: Time-step timed out. Elapsed since last time-step: 3.063051500272195\n",
      "\u001b[2m\u001b[36m(RolloutWorker pid=1736)\u001b[0m   warnings.warn(f\"Time-step timed out. Elapsed since last time-step: {now - self.__t_end}\")\n"
     ]
    },
    {
     "name": "stdout",
     "output_type": "stream",
     "text": [
      "\u001b[2m\u001b[36m(RolloutWorker pid=1736)\u001b[0m reset triggered\n",
      "\u001b[2m\u001b[36m(RolloutWorker pid=1736)\u001b[0m reload save for track : 72\n"
     ]
    },
    {
     "name": "stderr",
     "output_type": "stream",
     "text": [
      "\u001b[2m\u001b[36m(RolloutWorker pid=1736)\u001b[0m C:\\Users\\nadir\\anaconda3\\envs\\GTRay2.4.0\\lib\\site-packages\\rtgym\\envs\\real_time_env.py:376: UserWarning: Time-step timed out. Elapsed since last time-step: 0.10673530000713072\n",
      "\u001b[2m\u001b[36m(RolloutWorker pid=1736)\u001b[0m   warnings.warn(f\"Time-step timed out. Elapsed since last time-step: {now - self.__t_end}\")\n"
     ]
    },
    {
     "name": "stdout",
     "output_type": "stream",
     "text": [
      "Loop:  390\n",
      "Saved 390\n"
     ]
    },
    {
     "name": "stderr",
     "output_type": "stream",
     "text": [
      "\u001b[2m\u001b[36m(RolloutWorker pid=1736)\u001b[0m C:\\Users\\nadir\\anaconda3\\envs\\GTRay2.4.0\\lib\\site-packages\\rtgym\\envs\\real_time_env.py:376: UserWarning: Time-step timed out. Elapsed since last time-step: 3.169914000271092\n",
      "\u001b[2m\u001b[36m(RolloutWorker pid=1736)\u001b[0m   warnings.warn(f\"Time-step timed out. Elapsed since last time-step: {now - self.__t_end}\")\n"
     ]
    },
    {
     "name": "stdout",
     "output_type": "stream",
     "text": [
      "\u001b[2m\u001b[36m(RolloutWorker pid=1736)\u001b[0m reset triggered\n",
      "\u001b[2m\u001b[36m(RolloutWorker pid=1736)\u001b[0m reload save for track : 72\n"
     ]
    },
    {
     "name": "stderr",
     "output_type": "stream",
     "text": [
      "\u001b[2m\u001b[36m(RolloutWorker pid=1736)\u001b[0m C:\\Users\\nadir\\anaconda3\\envs\\GTRay2.4.0\\lib\\site-packages\\rtgym\\envs\\real_time_env.py:376: UserWarning: Time-step timed out. Elapsed since last time-step: 0.10016900000846363\n",
      "\u001b[2m\u001b[36m(RolloutWorker pid=1736)\u001b[0m   warnings.warn(f\"Time-step timed out. Elapsed since last time-step: {now - self.__t_end}\")\n",
      "\u001b[2m\u001b[36m(RolloutWorker pid=1736)\u001b[0m C:\\Users\\nadir\\anaconda3\\envs\\GTRay2.4.0\\lib\\site-packages\\rtgym\\envs\\real_time_env.py:376: UserWarning: Time-step timed out. Elapsed since last time-step: 0.06939170026998909\n",
      "\u001b[2m\u001b[36m(RolloutWorker pid=1736)\u001b[0m   warnings.warn(f\"Time-step timed out. Elapsed since last time-step: {now - self.__t_end}\")\n"
     ]
    },
    {
     "name": "stdout",
     "output_type": "stream",
     "text": [
      "Loop:  391\n"
     ]
    },
    {
     "name": "stderr",
     "output_type": "stream",
     "text": [
      "\u001b[2m\u001b[36m(RolloutWorker pid=1736)\u001b[0m C:\\Users\\nadir\\anaconda3\\envs\\GTRay2.4.0\\lib\\site-packages\\rtgym\\envs\\real_time_env.py:376: UserWarning: Time-step timed out. Elapsed since last time-step: 2.937486100001479\n",
      "\u001b[2m\u001b[36m(RolloutWorker pid=1736)\u001b[0m   warnings.warn(f\"Time-step timed out. Elapsed since last time-step: {now - self.__t_end}\")\n"
     ]
    },
    {
     "name": "stdout",
     "output_type": "stream",
     "text": [
      "\u001b[2m\u001b[36m(RolloutWorker pid=1736)\u001b[0m reset triggered\n",
      "\u001b[2m\u001b[36m(RolloutWorker pid=1736)\u001b[0m reload save for track : 72\n"
     ]
    },
    {
     "name": "stderr",
     "output_type": "stream",
     "text": [
      "\u001b[2m\u001b[36m(RolloutWorker pid=1736)\u001b[0m C:\\Users\\nadir\\anaconda3\\envs\\GTRay2.4.0\\lib\\site-packages\\rtgym\\envs\\real_time_env.py:376: UserWarning: Time-step timed out. Elapsed since last time-step: 0.10314110000763321\n",
      "\u001b[2m\u001b[36m(RolloutWorker pid=1736)\u001b[0m   warnings.warn(f\"Time-step timed out. Elapsed since last time-step: {now - self.__t_end}\")\n"
     ]
    },
    {
     "name": "stdout",
     "output_type": "stream",
     "text": [
      "Loop:  392\n"
     ]
    },
    {
     "name": "stderr",
     "output_type": "stream",
     "text": [
      "\u001b[2m\u001b[36m(RolloutWorker pid=1736)\u001b[0m C:\\Users\\nadir\\anaconda3\\envs\\GTRay2.4.0\\lib\\site-packages\\rtgym\\envs\\real_time_env.py:376: UserWarning: Time-step timed out. Elapsed since last time-step: 3.091059800271978\n",
      "\u001b[2m\u001b[36m(RolloutWorker pid=1736)\u001b[0m   warnings.warn(f\"Time-step timed out. Elapsed since last time-step: {now - self.__t_end}\")\n"
     ]
    },
    {
     "name": "stdout",
     "output_type": "stream",
     "text": [
      "\u001b[2m\u001b[36m(RolloutWorker pid=1736)\u001b[0m reset triggered\n",
      "\u001b[2m\u001b[36m(RolloutWorker pid=1736)\u001b[0m reload save for track : 72\n"
     ]
    },
    {
     "name": "stderr",
     "output_type": "stream",
     "text": [
      "\u001b[2m\u001b[36m(RolloutWorker pid=1736)\u001b[0m C:\\Users\\nadir\\anaconda3\\envs\\GTRay2.4.0\\lib\\site-packages\\rtgym\\envs\\real_time_env.py:376: UserWarning: Time-step timed out. Elapsed since last time-step: 0.11837440000817878\n",
      "\u001b[2m\u001b[36m(RolloutWorker pid=1736)\u001b[0m   warnings.warn(f\"Time-step timed out. Elapsed since last time-step: {now - self.__t_end}\")\n",
      "\u001b[2m\u001b[36m(RolloutWorker pid=1736)\u001b[0m C:\\Users\\nadir\\anaconda3\\envs\\GTRay2.4.0\\lib\\site-packages\\rtgym\\envs\\real_time_env.py:376: UserWarning: Time-step timed out. Elapsed since last time-step: 0.07384520026971586\n",
      "\u001b[2m\u001b[36m(RolloutWorker pid=1736)\u001b[0m   warnings.warn(f\"Time-step timed out. Elapsed since last time-step: {now - self.__t_end}\")\n"
     ]
    },
    {
     "name": "stdout",
     "output_type": "stream",
     "text": [
      "Loop:  393\n"
     ]
    },
    {
     "name": "stderr",
     "output_type": "stream",
     "text": [
      "\u001b[2m\u001b[36m(RolloutWorker pid=1736)\u001b[0m C:\\Users\\nadir\\anaconda3\\envs\\GTRay2.4.0\\lib\\site-packages\\rtgym\\envs\\real_time_env.py:376: UserWarning: Time-step timed out. Elapsed since last time-step: 3.090669600002002\n",
      "\u001b[2m\u001b[36m(RolloutWorker pid=1736)\u001b[0m   warnings.warn(f\"Time-step timed out. Elapsed since last time-step: {now - self.__t_end}\")\n",
      "\u001b[2m\u001b[36m(RolloutWorker pid=1736)\u001b[0m C:\\Users\\nadir\\anaconda3\\envs\\GTRay2.4.0\\lib\\site-packages\\rtgym\\envs\\real_time_env.py:376: UserWarning: Time-step timed out. Elapsed since last time-step: 0.10692120000749128\n",
      "\u001b[2m\u001b[36m(RolloutWorker pid=1736)\u001b[0m   warnings.warn(f\"Time-step timed out. Elapsed since last time-step: {now - self.__t_end}\")\n"
     ]
    },
    {
     "name": "stdout",
     "output_type": "stream",
     "text": [
      "\u001b[2m\u001b[36m(RolloutWorker pid=1736)\u001b[0m reset triggered\n",
      "\u001b[2m\u001b[36m(RolloutWorker pid=1736)\u001b[0m reload save for track : 72\n"
     ]
    },
    {
     "name": "stderr",
     "output_type": "stream",
     "text": [
      "\u001b[2m\u001b[36m(RolloutWorker pid=1736)\u001b[0m C:\\Users\\nadir\\anaconda3\\envs\\GTRay2.4.0\\lib\\site-packages\\rtgym\\envs\\real_time_env.py:376: UserWarning: Time-step timed out. Elapsed since last time-step: 0.065332600270267\n",
      "\u001b[2m\u001b[36m(RolloutWorker pid=1736)\u001b[0m   warnings.warn(f\"Time-step timed out. Elapsed since last time-step: {now - self.__t_end}\")\n"
     ]
    },
    {
     "name": "stdout",
     "output_type": "stream",
     "text": [
      "Loop:  394\n"
     ]
    },
    {
     "name": "stderr",
     "output_type": "stream",
     "text": [
      "\u001b[2m\u001b[36m(RolloutWorker pid=1736)\u001b[0m C:\\Users\\nadir\\anaconda3\\envs\\GTRay2.4.0\\lib\\site-packages\\rtgym\\envs\\real_time_env.py:376: UserWarning: Time-step timed out. Elapsed since last time-step: 2.909255700000358\n",
      "\u001b[2m\u001b[36m(RolloutWorker pid=1736)\u001b[0m   warnings.warn(f\"Time-step timed out. Elapsed since last time-step: {now - self.__t_end}\")\n"
     ]
    },
    {
     "name": "stdout",
     "output_type": "stream",
     "text": [
      "\u001b[2m\u001b[36m(RolloutWorker pid=1736)\u001b[0m reset triggered\n",
      "\u001b[2m\u001b[36m(RolloutWorker pid=1736)\u001b[0m reload save for track : 72\n"
     ]
    },
    {
     "name": "stderr",
     "output_type": "stream",
     "text": [
      "\u001b[2m\u001b[36m(RolloutWorker pid=1736)\u001b[0m C:\\Users\\nadir\\anaconda3\\envs\\GTRay2.4.0\\lib\\site-packages\\rtgym\\envs\\real_time_env.py:376: UserWarning: Time-step timed out. Elapsed since last time-step: 0.11945170000944927\n",
      "\u001b[2m\u001b[36m(RolloutWorker pid=1736)\u001b[0m   warnings.warn(f\"Time-step timed out. Elapsed since last time-step: {now - self.__t_end}\")\n",
      "\u001b[2m\u001b[36m(RolloutWorker pid=1736)\u001b[0m C:\\Users\\nadir\\anaconda3\\envs\\GTRay2.4.0\\lib\\site-packages\\rtgym\\envs\\real_time_env.py:376: UserWarning: Time-step timed out. Elapsed since last time-step: 0.06333670027015614\n",
      "\u001b[2m\u001b[36m(RolloutWorker pid=1736)\u001b[0m   warnings.warn(f\"Time-step timed out. Elapsed since last time-step: {now - self.__t_end}\")\n"
     ]
    },
    {
     "name": "stdout",
     "output_type": "stream",
     "text": [
      "Loop:  395\n"
     ]
    },
    {
     "name": "stderr",
     "output_type": "stream",
     "text": [
      "\u001b[2m\u001b[36m(RolloutWorker pid=1736)\u001b[0m C:\\Users\\nadir\\anaconda3\\envs\\GTRay2.4.0\\lib\\site-packages\\rtgym\\envs\\real_time_env.py:376: UserWarning: Time-step timed out. Elapsed since last time-step: 2.7752211000006355\n",
      "\u001b[2m\u001b[36m(RolloutWorker pid=1736)\u001b[0m   warnings.warn(f\"Time-step timed out. Elapsed since last time-step: {now - self.__t_end}\")\n"
     ]
    },
    {
     "name": "stdout",
     "output_type": "stream",
     "text": [
      "\u001b[2m\u001b[36m(RolloutWorker pid=1736)\u001b[0m reset triggered\n",
      "\u001b[2m\u001b[36m(RolloutWorker pid=1736)\u001b[0m reload save for track : 72\n"
     ]
    },
    {
     "name": "stderr",
     "output_type": "stream",
     "text": [
      "\u001b[2m\u001b[36m(RolloutWorker pid=1736)\u001b[0m C:\\Users\\nadir\\anaconda3\\envs\\GTRay2.4.0\\lib\\site-packages\\rtgym\\envs\\real_time_env.py:376: UserWarning: Time-step timed out. Elapsed since last time-step: 0.12690820000716485\n",
      "\u001b[2m\u001b[36m(RolloutWorker pid=1736)\u001b[0m   warnings.warn(f\"Time-step timed out. Elapsed since last time-step: {now - self.__t_end}\")\n",
      "\u001b[2m\u001b[36m(RolloutWorker pid=1736)\u001b[0m C:\\Users\\nadir\\anaconda3\\envs\\GTRay2.4.0\\lib\\site-packages\\rtgym\\envs\\real_time_env.py:376: UserWarning: Time-step timed out. Elapsed since last time-step: 0.06282680027106835\n",
      "\u001b[2m\u001b[36m(RolloutWorker pid=1736)\u001b[0m   warnings.warn(f\"Time-step timed out. Elapsed since last time-step: {now - self.__t_end}\")\n"
     ]
    },
    {
     "name": "stdout",
     "output_type": "stream",
     "text": [
      "Loop:  396\n"
     ]
    },
    {
     "name": "stderr",
     "output_type": "stream",
     "text": [
      "\u001b[2m\u001b[36m(RolloutWorker pid=1736)\u001b[0m C:\\Users\\nadir\\anaconda3\\envs\\GTRay2.4.0\\lib\\site-packages\\rtgym\\envs\\real_time_env.py:376: UserWarning: Time-step timed out. Elapsed since last time-step: 3.078046100001302\n",
      "\u001b[2m\u001b[36m(RolloutWorker pid=1736)\u001b[0m   warnings.warn(f\"Time-step timed out. Elapsed since last time-step: {now - self.__t_end}\")\n",
      "\u001b[2m\u001b[36m(RolloutWorker pid=1736)\u001b[0m C:\\Users\\nadir\\anaconda3\\envs\\GTRay2.4.0\\lib\\site-packages\\rtgym\\envs\\real_time_env.py:376: UserWarning: Time-step timed out. Elapsed since last time-step: 0.08770590000858647\n",
      "\u001b[2m\u001b[36m(RolloutWorker pid=1736)\u001b[0m   warnings.warn(f\"Time-step timed out. Elapsed since last time-step: {now - self.__t_end}\")\n"
     ]
    },
    {
     "name": "stdout",
     "output_type": "stream",
     "text": [
      "\u001b[2m\u001b[36m(RolloutWorker pid=1736)\u001b[0m reset triggered\n",
      "\u001b[2m\u001b[36m(RolloutWorker pid=1736)\u001b[0m reload save for track : 72\n"
     ]
    },
    {
     "name": "stderr",
     "output_type": "stream",
     "text": [
      "\u001b[2m\u001b[36m(RolloutWorker pid=1736)\u001b[0m C:\\Users\\nadir\\anaconda3\\envs\\GTRay2.4.0\\lib\\site-packages\\rtgym\\envs\\real_time_env.py:376: UserWarning: Time-step timed out. Elapsed since last time-step: 0.06849670026895183\n",
      "\u001b[2m\u001b[36m(RolloutWorker pid=1736)\u001b[0m   warnings.warn(f\"Time-step timed out. Elapsed since last time-step: {now - self.__t_end}\")\n"
     ]
    },
    {
     "name": "stdout",
     "output_type": "stream",
     "text": [
      "Loop:  397\n"
     ]
    },
    {
     "name": "stderr",
     "output_type": "stream",
     "text": [
      "\u001b[2m\u001b[36m(RolloutWorker pid=1736)\u001b[0m C:\\Users\\nadir\\anaconda3\\envs\\GTRay2.4.0\\lib\\site-packages\\rtgym\\envs\\real_time_env.py:376: UserWarning: Time-step timed out. Elapsed since last time-step: 3.0567318000012165\n",
      "\u001b[2m\u001b[36m(RolloutWorker pid=1736)\u001b[0m   warnings.warn(f\"Time-step timed out. Elapsed since last time-step: {now - self.__t_end}\")\n"
     ]
    },
    {
     "name": "stdout",
     "output_type": "stream",
     "text": [
      "\u001b[2m\u001b[36m(RolloutWorker pid=1736)\u001b[0m reset triggered\n",
      "\u001b[2m\u001b[36m(RolloutWorker pid=1736)\u001b[0m reload save for track : 72\n"
     ]
    },
    {
     "name": "stderr",
     "output_type": "stream",
     "text": [
      "\u001b[2m\u001b[36m(RolloutWorker pid=1736)\u001b[0m C:\\Users\\nadir\\anaconda3\\envs\\GTRay2.4.0\\lib\\site-packages\\rtgym\\envs\\real_time_env.py:376: UserWarning: Time-step timed out. Elapsed since last time-step: 0.08461600000919134\n",
      "\u001b[2m\u001b[36m(RolloutWorker pid=1736)\u001b[0m   warnings.warn(f\"Time-step timed out. Elapsed since last time-step: {now - self.__t_end}\")\n",
      "\u001b[2m\u001b[36m(RolloutWorker pid=1736)\u001b[0m C:\\Users\\nadir\\anaconda3\\envs\\GTRay2.4.0\\lib\\site-packages\\rtgym\\envs\\real_time_env.py:376: UserWarning: Time-step timed out. Elapsed since last time-step: 0.07605300026989426\n",
      "\u001b[2m\u001b[36m(RolloutWorker pid=1736)\u001b[0m   warnings.warn(f\"Time-step timed out. Elapsed since last time-step: {now - self.__t_end}\")\n"
     ]
    },
    {
     "name": "stdout",
     "output_type": "stream",
     "text": [
      "Loop:  398\n"
     ]
    },
    {
     "name": "stderr",
     "output_type": "stream",
     "text": [
      "\u001b[2m\u001b[36m(RolloutWorker pid=1736)\u001b[0m C:\\Users\\nadir\\anaconda3\\envs\\GTRay2.4.0\\lib\\site-packages\\rtgym\\envs\\real_time_env.py:376: UserWarning: Time-step timed out. Elapsed since last time-step: 3.006691000000501\n",
      "\u001b[2m\u001b[36m(RolloutWorker pid=1736)\u001b[0m   warnings.warn(f\"Time-step timed out. Elapsed since last time-step: {now - self.__t_end}\")\n"
     ]
    },
    {
     "name": "stdout",
     "output_type": "stream",
     "text": [
      "\u001b[2m\u001b[36m(RolloutWorker pid=1736)\u001b[0m reset triggered\n",
      "\u001b[2m\u001b[36m(RolloutWorker pid=1736)\u001b[0m reload save for track : 72\n"
     ]
    },
    {
     "name": "stderr",
     "output_type": "stream",
     "text": [
      "\u001b[2m\u001b[36m(RolloutWorker pid=1736)\u001b[0m C:\\Users\\nadir\\anaconda3\\envs\\GTRay2.4.0\\lib\\site-packages\\rtgym\\envs\\real_time_env.py:376: UserWarning: Time-step timed out. Elapsed since last time-step: 0.11904560000766651\n",
      "\u001b[2m\u001b[36m(RolloutWorker pid=1736)\u001b[0m   warnings.warn(f\"Time-step timed out. Elapsed since last time-step: {now - self.__t_end}\")\n",
      "\u001b[2m\u001b[36m(RolloutWorker pid=1736)\u001b[0m C:\\Users\\nadir\\anaconda3\\envs\\GTRay2.4.0\\lib\\site-packages\\rtgym\\envs\\real_time_env.py:376: UserWarning: Time-step timed out. Elapsed since last time-step: 0.06173140027203772\n",
      "\u001b[2m\u001b[36m(RolloutWorker pid=1736)\u001b[0m   warnings.warn(f\"Time-step timed out. Elapsed since last time-step: {now - self.__t_end}\")\n"
     ]
    },
    {
     "name": "stdout",
     "output_type": "stream",
     "text": [
      "Loop:  399\n"
     ]
    },
    {
     "name": "stderr",
     "output_type": "stream",
     "text": [
      "\u001b[2m\u001b[36m(RolloutWorker pid=1736)\u001b[0m C:\\Users\\nadir\\anaconda3\\envs\\GTRay2.4.0\\lib\\site-packages\\rtgym\\envs\\real_time_env.py:376: UserWarning: Time-step timed out. Elapsed since last time-step: 3.0368541999996523\n",
      "\u001b[2m\u001b[36m(RolloutWorker pid=1736)\u001b[0m   warnings.warn(f\"Time-step timed out. Elapsed since last time-step: {now - self.__t_end}\")\n"
     ]
    },
    {
     "name": "stdout",
     "output_type": "stream",
     "text": [
      "\u001b[2m\u001b[36m(RolloutWorker pid=1736)\u001b[0m reset triggered\n",
      "\u001b[2m\u001b[36m(RolloutWorker pid=1736)\u001b[0m reload save for track : 72\n"
     ]
    },
    {
     "name": "stderr",
     "output_type": "stream",
     "text": [
      "\u001b[2m\u001b[36m(RolloutWorker pid=1736)\u001b[0m C:\\Users\\nadir\\anaconda3\\envs\\GTRay2.4.0\\lib\\site-packages\\rtgym\\envs\\real_time_env.py:376: UserWarning: Time-step timed out. Elapsed since last time-step: 0.11622760000864218\n",
      "\u001b[2m\u001b[36m(RolloutWorker pid=1736)\u001b[0m   warnings.warn(f\"Time-step timed out. Elapsed since last time-step: {now - self.__t_end}\")\n",
      "\u001b[2m\u001b[36m(RolloutWorker pid=1736)\u001b[0m C:\\Users\\nadir\\anaconda3\\envs\\GTRay2.4.0\\lib\\site-packages\\rtgym\\envs\\real_time_env.py:376: UserWarning: Time-step timed out. Elapsed since last time-step: 0.07035110027027258\n",
      "\u001b[2m\u001b[36m(RolloutWorker pid=1736)\u001b[0m   warnings.warn(f\"Time-step timed out. Elapsed since last time-step: {now - self.__t_end}\")\n"
     ]
    },
    {
     "name": "stdout",
     "output_type": "stream",
     "text": [
      "Loop:  400\n",
      "Saved 400\n"
     ]
    },
    {
     "name": "stderr",
     "output_type": "stream",
     "text": [
      "\u001b[2m\u001b[36m(RolloutWorker pid=1736)\u001b[0m C:\\Users\\nadir\\anaconda3\\envs\\GTRay2.4.0\\lib\\site-packages\\rtgym\\envs\\real_time_env.py:376: UserWarning: Time-step timed out. Elapsed since last time-step: 2.864093900001535\n",
      "\u001b[2m\u001b[36m(RolloutWorker pid=1736)\u001b[0m   warnings.warn(f\"Time-step timed out. Elapsed since last time-step: {now - self.__t_end}\")\n"
     ]
    },
    {
     "name": "stdout",
     "output_type": "stream",
     "text": [
      "\u001b[2m\u001b[36m(RolloutWorker pid=1736)\u001b[0m reset triggered\n",
      "\u001b[2m\u001b[36m(RolloutWorker pid=1736)\u001b[0m reload save for track : 72\n"
     ]
    },
    {
     "name": "stderr",
     "output_type": "stream",
     "text": [
      "\u001b[2m\u001b[36m(RolloutWorker pid=1736)\u001b[0m C:\\Users\\nadir\\anaconda3\\envs\\GTRay2.4.0\\lib\\site-packages\\rtgym\\envs\\real_time_env.py:376: UserWarning: Time-step timed out. Elapsed since last time-step: 0.12440380000771256\n",
      "\u001b[2m\u001b[36m(RolloutWorker pid=1736)\u001b[0m   warnings.warn(f\"Time-step timed out. Elapsed since last time-step: {now - self.__t_end}\")\n",
      "\u001b[2m\u001b[36m(RolloutWorker pid=1736)\u001b[0m C:\\Users\\nadir\\anaconda3\\envs\\GTRay2.4.0\\lib\\site-packages\\rtgym\\envs\\real_time_env.py:376: UserWarning: Time-step timed out. Elapsed since last time-step: 0.14363020004202554\n",
      "\u001b[2m\u001b[36m(RolloutWorker pid=1736)\u001b[0m   warnings.warn(f\"Time-step timed out. Elapsed since last time-step: {now - self.__t_end}\")\n",
      "\u001b[2m\u001b[36m(RolloutWorker pid=1736)\u001b[0m C:\\Users\\nadir\\anaconda3\\envs\\GTRay2.4.0\\lib\\site-packages\\rtgym\\envs\\real_time_env.py:376: UserWarning: Time-step timed out. Elapsed since last time-step: 0.061070200228641625\n",
      "\u001b[2m\u001b[36m(RolloutWorker pid=1736)\u001b[0m   warnings.warn(f\"Time-step timed out. Elapsed since last time-step: {now - self.__t_end}\")\n"
     ]
    },
    {
     "name": "stdout",
     "output_type": "stream",
     "text": [
      "Loop:  401\n"
     ]
    },
    {
     "name": "stderr",
     "output_type": "stream",
     "text": [
      "\u001b[2m\u001b[36m(RolloutWorker pid=1736)\u001b[0m C:\\Users\\nadir\\anaconda3\\envs\\GTRay2.4.0\\lib\\site-packages\\rtgym\\envs\\real_time_env.py:376: UserWarning: Time-step timed out. Elapsed since last time-step: 3.045123699999749\n",
      "\u001b[2m\u001b[36m(RolloutWorker pid=1736)\u001b[0m   warnings.warn(f\"Time-step timed out. Elapsed since last time-step: {now - self.__t_end}\")\n"
     ]
    },
    {
     "name": "stdout",
     "output_type": "stream",
     "text": [
      "\u001b[2m\u001b[36m(RolloutWorker pid=1736)\u001b[0m reset triggered\n",
      "\u001b[2m\u001b[36m(RolloutWorker pid=1736)\u001b[0m reload save for track : 72\n"
     ]
    },
    {
     "name": "stderr",
     "output_type": "stream",
     "text": [
      "\u001b[2m\u001b[36m(RolloutWorker pid=1736)\u001b[0m C:\\Users\\nadir\\anaconda3\\envs\\GTRay2.4.0\\lib\\site-packages\\rtgym\\envs\\real_time_env.py:376: UserWarning: Time-step timed out. Elapsed since last time-step: 0.10593380000864272\n",
      "\u001b[2m\u001b[36m(RolloutWorker pid=1736)\u001b[0m   warnings.warn(f\"Time-step timed out. Elapsed since last time-step: {now - self.__t_end}\")\n",
      "\u001b[2m\u001b[36m(RolloutWorker pid=1736)\u001b[0m C:\\Users\\nadir\\anaconda3\\envs\\GTRay2.4.0\\lib\\site-packages\\rtgym\\envs\\real_time_env.py:376: UserWarning: Time-step timed out. Elapsed since last time-step: 0.0696415002712456\n",
      "\u001b[2m\u001b[36m(RolloutWorker pid=1736)\u001b[0m   warnings.warn(f\"Time-step timed out. Elapsed since last time-step: {now - self.__t_end}\")\n"
     ]
    },
    {
     "name": "stdout",
     "output_type": "stream",
     "text": [
      "Loop:  402\n"
     ]
    },
    {
     "name": "stderr",
     "output_type": "stream",
     "text": [
      "\u001b[2m\u001b[36m(RolloutWorker pid=1736)\u001b[0m C:\\Users\\nadir\\anaconda3\\envs\\GTRay2.4.0\\lib\\site-packages\\rtgym\\envs\\real_time_env.py:376: UserWarning: Time-step timed out. Elapsed since last time-step: 2.7215202000006684\n",
      "\u001b[2m\u001b[36m(RolloutWorker pid=1736)\u001b[0m   warnings.warn(f\"Time-step timed out. Elapsed since last time-step: {now - self.__t_end}\")\n"
     ]
    },
    {
     "name": "stdout",
     "output_type": "stream",
     "text": [
      "\u001b[2m\u001b[36m(RolloutWorker pid=1736)\u001b[0m reset triggered\n",
      "\u001b[2m\u001b[36m(RolloutWorker pid=1736)\u001b[0m reload save for track : 72\n"
     ]
    },
    {
     "name": "stderr",
     "output_type": "stream",
     "text": [
      "\u001b[2m\u001b[36m(RolloutWorker pid=1736)\u001b[0m C:\\Users\\nadir\\anaconda3\\envs\\GTRay2.4.0\\lib\\site-packages\\rtgym\\envs\\real_time_env.py:376: UserWarning: Time-step timed out. Elapsed since last time-step: 0.10934870000710362\n",
      "\u001b[2m\u001b[36m(RolloutWorker pid=1736)\u001b[0m   warnings.warn(f\"Time-step timed out. Elapsed since last time-step: {now - self.__t_end}\")\n",
      "\u001b[2m\u001b[36m(RolloutWorker pid=1736)\u001b[0m C:\\Users\\nadir\\anaconda3\\envs\\GTRay2.4.0\\lib\\site-packages\\rtgym\\envs\\real_time_env.py:376: UserWarning: Time-step timed out. Elapsed since last time-step: 0.06476210026994522\n",
      "\u001b[2m\u001b[36m(RolloutWorker pid=1736)\u001b[0m   warnings.warn(f\"Time-step timed out. Elapsed since last time-step: {now - self.__t_end}\")\n"
     ]
    },
    {
     "name": "stdout",
     "output_type": "stream",
     "text": [
      "Loop:  403\n"
     ]
    },
    {
     "name": "stderr",
     "output_type": "stream",
     "text": [
      "\u001b[2m\u001b[36m(RolloutWorker pid=1736)\u001b[0m C:\\Users\\nadir\\anaconda3\\envs\\GTRay2.4.0\\lib\\site-packages\\rtgym\\envs\\real_time_env.py:376: UserWarning: Time-step timed out. Elapsed since last time-step: 2.8795835000018997\n",
      "\u001b[2m\u001b[36m(RolloutWorker pid=1736)\u001b[0m   warnings.warn(f\"Time-step timed out. Elapsed since last time-step: {now - self.__t_end}\")\n",
      "\u001b[2m\u001b[36m(RolloutWorker pid=1736)\u001b[0m C:\\Users\\nadir\\anaconda3\\envs\\GTRay2.4.0\\lib\\site-packages\\rtgym\\envs\\real_time_env.py:376: UserWarning: Time-step timed out. Elapsed since last time-step: 0.11541160000706441\n",
      "\u001b[2m\u001b[36m(RolloutWorker pid=1736)\u001b[0m   warnings.warn(f\"Time-step timed out. Elapsed since last time-step: {now - self.__t_end}\")\n"
     ]
    },
    {
     "name": "stdout",
     "output_type": "stream",
     "text": [
      "\u001b[2m\u001b[36m(RolloutWorker pid=1736)\u001b[0m reset triggered\n",
      "\u001b[2m\u001b[36m(RolloutWorker pid=1736)\u001b[0m reload save for track : 72\n"
     ]
    },
    {
     "name": "stderr",
     "output_type": "stream",
     "text": [
      "\u001b[2m\u001b[36m(RolloutWorker pid=1736)\u001b[0m C:\\Users\\nadir\\anaconda3\\envs\\GTRay2.4.0\\lib\\site-packages\\rtgym\\envs\\real_time_env.py:376: UserWarning: Time-step timed out. Elapsed since last time-step: 0.06835190027049975\n",
      "\u001b[2m\u001b[36m(RolloutWorker pid=1736)\u001b[0m   warnings.warn(f\"Time-step timed out. Elapsed since last time-step: {now - self.__t_end}\")\n"
     ]
    },
    {
     "name": "stdout",
     "output_type": "stream",
     "text": [
      "Loop:  404\n"
     ]
    },
    {
     "name": "stderr",
     "output_type": "stream",
     "text": [
      "\u001b[2m\u001b[36m(RolloutWorker pid=1736)\u001b[0m C:\\Users\\nadir\\anaconda3\\envs\\GTRay2.4.0\\lib\\site-packages\\rtgym\\envs\\real_time_env.py:376: UserWarning: Time-step timed out. Elapsed since last time-step: 2.8125806000007287\n",
      "\u001b[2m\u001b[36m(RolloutWorker pid=1736)\u001b[0m   warnings.warn(f\"Time-step timed out. Elapsed since last time-step: {now - self.__t_end}\")\n",
      "\u001b[2m\u001b[36m(RolloutWorker pid=1736)\u001b[0m C:\\Users\\nadir\\anaconda3\\envs\\GTRay2.4.0\\lib\\site-packages\\rtgym\\envs\\real_time_env.py:376: UserWarning: Time-step timed out. Elapsed since last time-step: 0.11460420000912563\n",
      "\u001b[2m\u001b[36m(RolloutWorker pid=1736)\u001b[0m   warnings.warn(f\"Time-step timed out. Elapsed since last time-step: {now - self.__t_end}\")\n"
     ]
    },
    {
     "name": "stdout",
     "output_type": "stream",
     "text": [
      "\u001b[2m\u001b[36m(RolloutWorker pid=1736)\u001b[0m reset triggered\n",
      "\u001b[2m\u001b[36m(RolloutWorker pid=1736)\u001b[0m reload save for track : 72\n"
     ]
    },
    {
     "name": "stderr",
     "output_type": "stream",
     "text": [
      "\u001b[2m\u001b[36m(RolloutWorker pid=1736)\u001b[0m C:\\Users\\nadir\\anaconda3\\envs\\GTRay2.4.0\\lib\\site-packages\\rtgym\\envs\\real_time_env.py:376: UserWarning: Time-step timed out. Elapsed since last time-step: 0.05643880026946135\n",
      "\u001b[2m\u001b[36m(RolloutWorker pid=1736)\u001b[0m   warnings.warn(f\"Time-step timed out. Elapsed since last time-step: {now - self.__t_end}\")\n"
     ]
    },
    {
     "name": "stdout",
     "output_type": "stream",
     "text": [
      "Loop:  405\n"
     ]
    },
    {
     "name": "stderr",
     "output_type": "stream",
     "text": [
      "\u001b[2m\u001b[36m(RolloutWorker pid=1736)\u001b[0m C:\\Users\\nadir\\anaconda3\\envs\\GTRay2.4.0\\lib\\site-packages\\rtgym\\envs\\real_time_env.py:376: UserWarning: Time-step timed out. Elapsed since last time-step: 3.0838991000018723\n",
      "\u001b[2m\u001b[36m(RolloutWorker pid=1736)\u001b[0m   warnings.warn(f\"Time-step timed out. Elapsed since last time-step: {now - self.__t_end}\")\n"
     ]
    },
    {
     "name": "stdout",
     "output_type": "stream",
     "text": [
      "\u001b[2m\u001b[36m(RolloutWorker pid=1736)\u001b[0m reset triggered\n",
      "\u001b[2m\u001b[36m(RolloutWorker pid=1736)\u001b[0m reload save for track : 72\n"
     ]
    },
    {
     "name": "stderr",
     "output_type": "stream",
     "text": [
      "\u001b[2m\u001b[36m(RolloutWorker pid=1736)\u001b[0m C:\\Users\\nadir\\anaconda3\\envs\\GTRay2.4.0\\lib\\site-packages\\rtgym\\envs\\real_time_env.py:376: UserWarning: Time-step timed out. Elapsed since last time-step: 0.10477200000786979\n",
      "\u001b[2m\u001b[36m(RolloutWorker pid=1736)\u001b[0m   warnings.warn(f\"Time-step timed out. Elapsed since last time-step: {now - self.__t_end}\")\n",
      "\u001b[2m\u001b[36m(RolloutWorker pid=1736)\u001b[0m C:\\Users\\nadir\\anaconda3\\envs\\GTRay2.4.0\\lib\\site-packages\\rtgym\\envs\\real_time_env.py:376: UserWarning: Time-step timed out. Elapsed since last time-step: 0.09847990027083142\n",
      "\u001b[2m\u001b[36m(RolloutWorker pid=1736)\u001b[0m   warnings.warn(f\"Time-step timed out. Elapsed since last time-step: {now - self.__t_end}\")\n"
     ]
    },
    {
     "name": "stdout",
     "output_type": "stream",
     "text": [
      "Loop:  406\n"
     ]
    },
    {
     "name": "stderr",
     "output_type": "stream",
     "text": [
      "\u001b[2m\u001b[36m(RolloutWorker pid=1736)\u001b[0m C:\\Users\\nadir\\anaconda3\\envs\\GTRay2.4.0\\lib\\site-packages\\rtgym\\envs\\real_time_env.py:376: UserWarning: Time-step timed out. Elapsed since last time-step: 2.6413816000003862\n",
      "\u001b[2m\u001b[36m(RolloutWorker pid=1736)\u001b[0m   warnings.warn(f\"Time-step timed out. Elapsed since last time-step: {now - self.__t_end}\")\n",
      "\u001b[2m\u001b[36m(RolloutWorker pid=1736)\u001b[0m C:\\Users\\nadir\\anaconda3\\envs\\GTRay2.4.0\\lib\\site-packages\\rtgym\\envs\\real_time_env.py:376: UserWarning: Time-step timed out. Elapsed since last time-step: 0.09656770000765391\n",
      "\u001b[2m\u001b[36m(RolloutWorker pid=1736)\u001b[0m   warnings.warn(f\"Time-step timed out. Elapsed since last time-step: {now - self.__t_end}\")\n"
     ]
    },
    {
     "name": "stdout",
     "output_type": "stream",
     "text": [
      "\u001b[2m\u001b[36m(RolloutWorker pid=1736)\u001b[0m reset triggered\n",
      "\u001b[2m\u001b[36m(RolloutWorker pid=1736)\u001b[0m reload save for track : 72\n"
     ]
    },
    {
     "name": "stderr",
     "output_type": "stream",
     "text": [
      "\u001b[2m\u001b[36m(RolloutWorker pid=1736)\u001b[0m C:\\Users\\nadir\\anaconda3\\envs\\GTRay2.4.0\\lib\\site-packages\\rtgym\\envs\\real_time_env.py:376: UserWarning: Time-step timed out. Elapsed since last time-step: 0.07374900011018326\n",
      "\u001b[2m\u001b[36m(RolloutWorker pid=1736)\u001b[0m   warnings.warn(f\"Time-step timed out. Elapsed since last time-step: {now - self.__t_end}\")\n"
     ]
    },
    {
     "name": "stdout",
     "output_type": "stream",
     "text": [
      "Loop:  407\n"
     ]
    },
    {
     "name": "stderr",
     "output_type": "stream",
     "text": [
      "\u001b[2m\u001b[36m(RolloutWorker pid=1736)\u001b[0m C:\\Users\\nadir\\anaconda3\\envs\\GTRay2.4.0\\lib\\site-packages\\rtgym\\envs\\real_time_env.py:376: UserWarning: Time-step timed out. Elapsed since last time-step: 3.06606230016223\n",
      "\u001b[2m\u001b[36m(RolloutWorker pid=1736)\u001b[0m   warnings.warn(f\"Time-step timed out. Elapsed since last time-step: {now - self.__t_end}\")\n"
     ]
    },
    {
     "name": "stdout",
     "output_type": "stream",
     "text": [
      "\u001b[2m\u001b[36m(RolloutWorker pid=1736)\u001b[0m reset triggered\n",
      "\u001b[2m\u001b[36m(RolloutWorker pid=1736)\u001b[0m reload save for track : 72\n"
     ]
    },
    {
     "name": "stderr",
     "output_type": "stream",
     "text": [
      "\u001b[2m\u001b[36m(RolloutWorker pid=1736)\u001b[0m C:\\Users\\nadir\\anaconda3\\envs\\GTRay2.4.0\\lib\\site-packages\\rtgym\\envs\\real_time_env.py:376: UserWarning: Time-step timed out. Elapsed since last time-step: 0.11366080000698275\n",
      "\u001b[2m\u001b[36m(RolloutWorker pid=1736)\u001b[0m   warnings.warn(f\"Time-step timed out. Elapsed since last time-step: {now - self.__t_end}\")\n"
     ]
    },
    {
     "name": "stdout",
     "output_type": "stream",
     "text": [
      "Loop:  408\n"
     ]
    },
    {
     "name": "stderr",
     "output_type": "stream",
     "text": [
      "\u001b[2m\u001b[36m(RolloutWorker pid=1736)\u001b[0m C:\\Users\\nadir\\anaconda3\\envs\\GTRay2.4.0\\lib\\site-packages\\rtgym\\envs\\real_time_env.py:376: UserWarning: Time-step timed out. Elapsed since last time-step: 3.104260900272493\n",
      "\u001b[2m\u001b[36m(RolloutWorker pid=1736)\u001b[0m   warnings.warn(f\"Time-step timed out. Elapsed since last time-step: {now - self.__t_end}\")\n"
     ]
    },
    {
     "name": "stdout",
     "output_type": "stream",
     "text": [
      "\u001b[2m\u001b[36m(RolloutWorker pid=1736)\u001b[0m reset triggered\n",
      "\u001b[2m\u001b[36m(RolloutWorker pid=1736)\u001b[0m reload save for track : 72\n"
     ]
    },
    {
     "name": "stderr",
     "output_type": "stream",
     "text": [
      "\u001b[2m\u001b[36m(RolloutWorker pid=1736)\u001b[0m C:\\Users\\nadir\\anaconda3\\envs\\GTRay2.4.0\\lib\\site-packages\\rtgym\\envs\\real_time_env.py:376: UserWarning: Time-step timed out. Elapsed since last time-step: 0.09128520000740536\n",
      "\u001b[2m\u001b[36m(RolloutWorker pid=1736)\u001b[0m   warnings.warn(f\"Time-step timed out. Elapsed since last time-step: {now - self.__t_end}\")\n",
      "\u001b[2m\u001b[36m(RolloutWorker pid=1736)\u001b[0m C:\\Users\\nadir\\anaconda3\\envs\\GTRay2.4.0\\lib\\site-packages\\rtgym\\envs\\real_time_env.py:376: UserWarning: Time-step timed out. Elapsed since last time-step: 0.07881670027018117\n",
      "\u001b[2m\u001b[36m(RolloutWorker pid=1736)\u001b[0m   warnings.warn(f\"Time-step timed out. Elapsed since last time-step: {now - self.__t_end}\")\n"
     ]
    },
    {
     "name": "stdout",
     "output_type": "stream",
     "text": [
      "Loop:  409\n"
     ]
    },
    {
     "name": "stderr",
     "output_type": "stream",
     "text": [
      "\u001b[2m\u001b[36m(RolloutWorker pid=1736)\u001b[0m C:\\Users\\nadir\\anaconda3\\envs\\GTRay2.4.0\\lib\\site-packages\\rtgym\\envs\\real_time_env.py:376: UserWarning: Time-step timed out. Elapsed since last time-step: 2.7718970000005356\n",
      "\u001b[2m\u001b[36m(RolloutWorker pid=1736)\u001b[0m   warnings.warn(f\"Time-step timed out. Elapsed since last time-step: {now - self.__t_end}\")\n"
     ]
    },
    {
     "name": "stdout",
     "output_type": "stream",
     "text": [
      "\u001b[2m\u001b[36m(RolloutWorker pid=1736)\u001b[0m reset triggered\n",
      "\u001b[2m\u001b[36m(RolloutWorker pid=1736)\u001b[0m reload save for track : 72\n"
     ]
    },
    {
     "name": "stderr",
     "output_type": "stream",
     "text": [
      "\u001b[2m\u001b[36m(RolloutWorker pid=1736)\u001b[0m C:\\Users\\nadir\\anaconda3\\envs\\GTRay2.4.0\\lib\\site-packages\\rtgym\\envs\\real_time_env.py:376: UserWarning: Time-step timed out. Elapsed since last time-step: 0.11278310000852798\n",
      "\u001b[2m\u001b[36m(RolloutWorker pid=1736)\u001b[0m   warnings.warn(f\"Time-step timed out. Elapsed since last time-step: {now - self.__t_end}\")\n",
      "\u001b[2m\u001b[36m(RolloutWorker pid=1736)\u001b[0m C:\\Users\\nadir\\anaconda3\\envs\\GTRay2.4.0\\lib\\site-packages\\rtgym\\envs\\real_time_env.py:376: UserWarning: Time-step timed out. Elapsed since last time-step: 0.05878320027113659\n",
      "\u001b[2m\u001b[36m(RolloutWorker pid=1736)\u001b[0m   warnings.warn(f\"Time-step timed out. Elapsed since last time-step: {now - self.__t_end}\")\n"
     ]
    },
    {
     "name": "stdout",
     "output_type": "stream",
     "text": [
      "Loop:  410\n",
      "Saved 410\n"
     ]
    },
    {
     "name": "stderr",
     "output_type": "stream",
     "text": [
      "\u001b[2m\u001b[36m(RolloutWorker pid=1736)\u001b[0m C:\\Users\\nadir\\anaconda3\\envs\\GTRay2.4.0\\lib\\site-packages\\rtgym\\envs\\real_time_env.py:376: UserWarning: Time-step timed out. Elapsed since last time-step: 3.1812448000000586\n",
      "\u001b[2m\u001b[36m(RolloutWorker pid=1736)\u001b[0m   warnings.warn(f\"Time-step timed out. Elapsed since last time-step: {now - self.__t_end}\")\n"
     ]
    },
    {
     "name": "stdout",
     "output_type": "stream",
     "text": [
      "\u001b[2m\u001b[36m(RolloutWorker pid=1736)\u001b[0m reset triggered\n",
      "\u001b[2m\u001b[36m(RolloutWorker pid=1736)\u001b[0m reload save for track : 72\n"
     ]
    },
    {
     "name": "stderr",
     "output_type": "stream",
     "text": [
      "\u001b[2m\u001b[36m(RolloutWorker pid=1736)\u001b[0m C:\\Users\\nadir\\anaconda3\\envs\\GTRay2.4.0\\lib\\site-packages\\rtgym\\envs\\real_time_env.py:376: UserWarning: Time-step timed out. Elapsed since last time-step: 0.11009570000896929\n",
      "\u001b[2m\u001b[36m(RolloutWorker pid=1736)\u001b[0m   warnings.warn(f\"Time-step timed out. Elapsed since last time-step: {now - self.__t_end}\")\n",
      "\u001b[2m\u001b[36m(RolloutWorker pid=1736)\u001b[0m C:\\Users\\nadir\\anaconda3\\envs\\GTRay2.4.0\\lib\\site-packages\\rtgym\\envs\\real_time_env.py:376: UserWarning: Time-step timed out. Elapsed since last time-step: 0.06672720027017931\n",
      "\u001b[2m\u001b[36m(RolloutWorker pid=1736)\u001b[0m   warnings.warn(f\"Time-step timed out. Elapsed since last time-step: {now - self.__t_end}\")\n"
     ]
    },
    {
     "name": "stdout",
     "output_type": "stream",
     "text": [
      "Loop:  411\n"
     ]
    },
    {
     "name": "stderr",
     "output_type": "stream",
     "text": [
      "\u001b[2m\u001b[36m(RolloutWorker pid=1736)\u001b[0m C:\\Users\\nadir\\anaconda3\\envs\\GTRay2.4.0\\lib\\site-packages\\rtgym\\envs\\real_time_env.py:376: UserWarning: Time-step timed out. Elapsed since last time-step: 2.990421200000128\n",
      "\u001b[2m\u001b[36m(RolloutWorker pid=1736)\u001b[0m   warnings.warn(f\"Time-step timed out. Elapsed since last time-step: {now - self.__t_end}\")\n",
      "\u001b[2m\u001b[36m(RolloutWorker pid=1736)\u001b[0m C:\\Users\\nadir\\anaconda3\\envs\\GTRay2.4.0\\lib\\site-packages\\rtgym\\envs\\real_time_env.py:376: UserWarning: Time-step timed out. Elapsed since last time-step: 0.09289640000861255\n",
      "\u001b[2m\u001b[36m(RolloutWorker pid=1736)\u001b[0m   warnings.warn(f\"Time-step timed out. Elapsed since last time-step: {now - self.__t_end}\")\n"
     ]
    },
    {
     "name": "stdout",
     "output_type": "stream",
     "text": [
      "\u001b[2m\u001b[36m(RolloutWorker pid=1736)\u001b[0m reset triggered\n",
      "\u001b[2m\u001b[36m(RolloutWorker pid=1736)\u001b[0m reload save for track : 72\n",
      "Loop:  412\n"
     ]
    },
    {
     "name": "stderr",
     "output_type": "stream",
     "text": [
      "\u001b[2m\u001b[36m(RolloutWorker pid=1736)\u001b[0m C:\\Users\\nadir\\anaconda3\\envs\\GTRay2.4.0\\lib\\site-packages\\rtgym\\envs\\real_time_env.py:376: UserWarning: Time-step timed out. Elapsed since last time-step: 3.0850567002707976\n",
      "\u001b[2m\u001b[36m(RolloutWorker pid=1736)\u001b[0m   warnings.warn(f\"Time-step timed out. Elapsed since last time-step: {now - self.__t_end}\")\n",
      "\u001b[2m\u001b[36m(RolloutWorker pid=1736)\u001b[0m C:\\Users\\nadir\\anaconda3\\envs\\GTRay2.4.0\\lib\\site-packages\\rtgym\\envs\\real_time_env.py:376: UserWarning: Time-step timed out. Elapsed since last time-step: 0.11948730000767682\n",
      "\u001b[2m\u001b[36m(RolloutWorker pid=1736)\u001b[0m   warnings.warn(f\"Time-step timed out. Elapsed since last time-step: {now - self.__t_end}\")\n"
     ]
    },
    {
     "name": "stdout",
     "output_type": "stream",
     "text": [
      "\u001b[2m\u001b[36m(RolloutWorker pid=1736)\u001b[0m reset triggered\n",
      "\u001b[2m\u001b[36m(RolloutWorker pid=1736)\u001b[0m reload save for track : 72\n"
     ]
    },
    {
     "name": "stderr",
     "output_type": "stream",
     "text": [
      "\u001b[2m\u001b[36m(RolloutWorker pid=1736)\u001b[0m C:\\Users\\nadir\\anaconda3\\envs\\GTRay2.4.0\\lib\\site-packages\\rtgym\\envs\\real_time_env.py:376: UserWarning: Time-step timed out. Elapsed since last time-step: 0.06245600027068576\n",
      "\u001b[2m\u001b[36m(RolloutWorker pid=1736)\u001b[0m   warnings.warn(f\"Time-step timed out. Elapsed since last time-step: {now - self.__t_end}\")\n"
     ]
    },
    {
     "name": "stdout",
     "output_type": "stream",
     "text": [
      "Loop:  413\n"
     ]
    },
    {
     "name": "stderr",
     "output_type": "stream",
     "text": [
      "\u001b[2m\u001b[36m(RolloutWorker pid=1736)\u001b[0m C:\\Users\\nadir\\anaconda3\\envs\\GTRay2.4.0\\lib\\site-packages\\rtgym\\envs\\real_time_env.py:376: UserWarning: Time-step timed out. Elapsed since last time-step: 3.0276016000007075\n",
      "\u001b[2m\u001b[36m(RolloutWorker pid=1736)\u001b[0m   warnings.warn(f\"Time-step timed out. Elapsed since last time-step: {now - self.__t_end}\")\n",
      "\u001b[2m\u001b[36m(RolloutWorker pid=1736)\u001b[0m C:\\Users\\nadir\\anaconda3\\envs\\GTRay2.4.0\\lib\\site-packages\\rtgym\\envs\\real_time_env.py:376: UserWarning: Time-step timed out. Elapsed since last time-step: 0.1326326000089466\n",
      "\u001b[2m\u001b[36m(RolloutWorker pid=1736)\u001b[0m   warnings.warn(f\"Time-step timed out. Elapsed since last time-step: {now - self.__t_end}\")\n"
     ]
    },
    {
     "name": "stdout",
     "output_type": "stream",
     "text": [
      "\u001b[2m\u001b[36m(RolloutWorker pid=1736)\u001b[0m reset triggered\n",
      "\u001b[2m\u001b[36m(RolloutWorker pid=1736)\u001b[0m reload save for track : 72\n"
     ]
    },
    {
     "name": "stderr",
     "output_type": "stream",
     "text": [
      "\u001b[2m\u001b[36m(RolloutWorker pid=1736)\u001b[0m C:\\Users\\nadir\\anaconda3\\envs\\GTRay2.4.0\\lib\\site-packages\\rtgym\\envs\\real_time_env.py:376: UserWarning: Time-step timed out. Elapsed since last time-step: 0.06413570026961679\n",
      "\u001b[2m\u001b[36m(RolloutWorker pid=1736)\u001b[0m   warnings.warn(f\"Time-step timed out. Elapsed since last time-step: {now - self.__t_end}\")\n"
     ]
    },
    {
     "name": "stdout",
     "output_type": "stream",
     "text": [
      "Loop:  414\n"
     ]
    },
    {
     "name": "stderr",
     "output_type": "stream",
     "text": [
      "\u001b[2m\u001b[36m(RolloutWorker pid=1736)\u001b[0m C:\\Users\\nadir\\anaconda3\\envs\\GTRay2.4.0\\lib\\site-packages\\rtgym\\envs\\real_time_env.py:376: UserWarning: Time-step timed out. Elapsed since last time-step: 2.8853820000022097\n",
      "\u001b[2m\u001b[36m(RolloutWorker pid=1736)\u001b[0m   warnings.warn(f\"Time-step timed out. Elapsed since last time-step: {now - self.__t_end}\")\n",
      "\u001b[2m\u001b[36m(RolloutWorker pid=1736)\u001b[0m C:\\Users\\nadir\\anaconda3\\envs\\GTRay2.4.0\\lib\\site-packages\\rtgym\\envs\\real_time_env.py:376: UserWarning: Time-step timed out. Elapsed since last time-step: 0.12502600000698294\n",
      "\u001b[2m\u001b[36m(RolloutWorker pid=1736)\u001b[0m   warnings.warn(f\"Time-step timed out. Elapsed since last time-step: {now - self.__t_end}\")\n"
     ]
    },
    {
     "name": "stdout",
     "output_type": "stream",
     "text": [
      "\u001b[2m\u001b[36m(RolloutWorker pid=1736)\u001b[0m reset triggered\n",
      "\u001b[2m\u001b[36m(RolloutWorker pid=1736)\u001b[0m reload save for track : 72\n",
      "Loop:  415\n"
     ]
    },
    {
     "name": "stderr",
     "output_type": "stream",
     "text": [
      "\u001b[2m\u001b[36m(RolloutWorker pid=1736)\u001b[0m C:\\Users\\nadir\\anaconda3\\envs\\GTRay2.4.0\\lib\\site-packages\\rtgym\\envs\\real_time_env.py:376: UserWarning: Time-step timed out. Elapsed since last time-step: 3.1967864002708666\n",
      "\u001b[2m\u001b[36m(RolloutWorker pid=1736)\u001b[0m   warnings.warn(f\"Time-step timed out. Elapsed since last time-step: {now - self.__t_end}\")\n"
     ]
    },
    {
     "name": "stdout",
     "output_type": "stream",
     "text": [
      "\u001b[2m\u001b[36m(RolloutWorker pid=1736)\u001b[0m reset triggered\n",
      "\u001b[2m\u001b[36m(RolloutWorker pid=1736)\u001b[0m reload save for track : 72\n"
     ]
    },
    {
     "name": "stderr",
     "output_type": "stream",
     "text": [
      "\u001b[2m\u001b[36m(RolloutWorker pid=1736)\u001b[0m C:\\Users\\nadir\\anaconda3\\envs\\GTRay2.4.0\\lib\\site-packages\\rtgym\\envs\\real_time_env.py:376: UserWarning: Time-step timed out. Elapsed since last time-step: 0.10215110000899585\n",
      "\u001b[2m\u001b[36m(RolloutWorker pid=1736)\u001b[0m   warnings.warn(f\"Time-step timed out. Elapsed since last time-step: {now - self.__t_end}\")\n",
      "\u001b[2m\u001b[36m(RolloutWorker pid=1736)\u001b[0m C:\\Users\\nadir\\anaconda3\\envs\\GTRay2.4.0\\lib\\site-packages\\rtgym\\envs\\real_time_env.py:376: UserWarning: Time-step timed out. Elapsed since last time-step: 0.0661425002708711\n",
      "\u001b[2m\u001b[36m(RolloutWorker pid=1736)\u001b[0m   warnings.warn(f\"Time-step timed out. Elapsed since last time-step: {now - self.__t_end}\")\n"
     ]
    },
    {
     "name": "stdout",
     "output_type": "stream",
     "text": [
      "Loop:  416\n"
     ]
    },
    {
     "name": "stderr",
     "output_type": "stream",
     "text": [
      "\u001b[2m\u001b[36m(RolloutWorker pid=1736)\u001b[0m C:\\Users\\nadir\\anaconda3\\envs\\GTRay2.4.0\\lib\\site-packages\\rtgym\\envs\\real_time_env.py:376: UserWarning: Time-step timed out. Elapsed since last time-step: 2.9377495999997336\n",
      "\u001b[2m\u001b[36m(RolloutWorker pid=1736)\u001b[0m   warnings.warn(f\"Time-step timed out. Elapsed since last time-step: {now - self.__t_end}\")\n"
     ]
    },
    {
     "name": "stdout",
     "output_type": "stream",
     "text": [
      "\u001b[2m\u001b[36m(RolloutWorker pid=1736)\u001b[0m reset triggered\n",
      "\u001b[2m\u001b[36m(RolloutWorker pid=1736)\u001b[0m reload save for track : 72\n"
     ]
    },
    {
     "name": "stderr",
     "output_type": "stream",
     "text": [
      "\u001b[2m\u001b[36m(RolloutWorker pid=1736)\u001b[0m C:\\Users\\nadir\\anaconda3\\envs\\GTRay2.4.0\\lib\\site-packages\\rtgym\\envs\\real_time_env.py:376: UserWarning: Time-step timed out. Elapsed since last time-step: 0.11985030000869301\n",
      "\u001b[2m\u001b[36m(RolloutWorker pid=1736)\u001b[0m   warnings.warn(f\"Time-step timed out. Elapsed since last time-step: {now - self.__t_end}\")\n"
     ]
    },
    {
     "name": "stdout",
     "output_type": "stream",
     "text": [
      "Loop:  417\n"
     ]
    },
    {
     "name": "stderr",
     "output_type": "stream",
     "text": [
      "\u001b[2m\u001b[36m(RolloutWorker pid=1736)\u001b[0m C:\\Users\\nadir\\anaconda3\\envs\\GTRay2.4.0\\lib\\site-packages\\rtgym\\envs\\real_time_env.py:376: UserWarning: Time-step timed out. Elapsed since last time-step: 3.019812900271063\n",
      "\u001b[2m\u001b[36m(RolloutWorker pid=1736)\u001b[0m   warnings.warn(f\"Time-step timed out. Elapsed since last time-step: {now - self.__t_end}\")\n",
      "\u001b[2m\u001b[36m(RolloutWorker pid=1736)\u001b[0m C:\\Users\\nadir\\anaconda3\\envs\\GTRay2.4.0\\lib\\site-packages\\rtgym\\envs\\real_time_env.py:376: UserWarning: Time-step timed out. Elapsed since last time-step: 0.1161698000087199\n",
      "\u001b[2m\u001b[36m(RolloutWorker pid=1736)\u001b[0m   warnings.warn(f\"Time-step timed out. Elapsed since last time-step: {now - self.__t_end}\")\n"
     ]
    },
    {
     "name": "stdout",
     "output_type": "stream",
     "text": [
      "\u001b[2m\u001b[36m(RolloutWorker pid=1736)\u001b[0m reset triggered\n",
      "\u001b[2m\u001b[36m(RolloutWorker pid=1736)\u001b[0m reload save for track : 72\n",
      "Loop:  418\n"
     ]
    },
    {
     "name": "stderr",
     "output_type": "stream",
     "text": [
      "\u001b[2m\u001b[36m(RolloutWorker pid=1736)\u001b[0m C:\\Users\\nadir\\anaconda3\\envs\\GTRay2.4.0\\lib\\site-packages\\rtgym\\envs\\real_time_env.py:376: UserWarning: Time-step timed out. Elapsed since last time-step: 3.121384000271064\n",
      "\u001b[2m\u001b[36m(RolloutWorker pid=1736)\u001b[0m   warnings.warn(f\"Time-step timed out. Elapsed since last time-step: {now - self.__t_end}\")\n"
     ]
    },
    {
     "name": "stdout",
     "output_type": "stream",
     "text": [
      "\u001b[2m\u001b[36m(RolloutWorker pid=1736)\u001b[0m reset triggered\n",
      "\u001b[2m\u001b[36m(RolloutWorker pid=1736)\u001b[0m reload save for track : 72\n"
     ]
    },
    {
     "name": "stderr",
     "output_type": "stream",
     "text": [
      "\u001b[2m\u001b[36m(RolloutWorker pid=1736)\u001b[0m C:\\Users\\nadir\\anaconda3\\envs\\GTRay2.4.0\\lib\\site-packages\\rtgym\\envs\\real_time_env.py:376: UserWarning: Time-step timed out. Elapsed since last time-step: 0.12041610000778746\n",
      "\u001b[2m\u001b[36m(RolloutWorker pid=1736)\u001b[0m   warnings.warn(f\"Time-step timed out. Elapsed since last time-step: {now - self.__t_end}\")\n",
      "\u001b[2m\u001b[36m(RolloutWorker pid=1736)\u001b[0m C:\\Users\\nadir\\anaconda3\\envs\\GTRay2.4.0\\lib\\site-packages\\rtgym\\envs\\real_time_env.py:376: UserWarning: Time-step timed out. Elapsed since last time-step: 0.06233030027033237\n",
      "\u001b[2m\u001b[36m(RolloutWorker pid=1736)\u001b[0m   warnings.warn(f\"Time-step timed out. Elapsed since last time-step: {now - self.__t_end}\")\n"
     ]
    },
    {
     "name": "stdout",
     "output_type": "stream",
     "text": [
      "Loop:  419\n"
     ]
    },
    {
     "name": "stderr",
     "output_type": "stream",
     "text": [
      "\u001b[2m\u001b[36m(RolloutWorker pid=1736)\u001b[0m C:\\Users\\nadir\\anaconda3\\envs\\GTRay2.4.0\\lib\\site-packages\\rtgym\\envs\\real_time_env.py:376: UserWarning: Time-step timed out. Elapsed since last time-step: 3.017775900001652\n",
      "\u001b[2m\u001b[36m(RolloutWorker pid=1736)\u001b[0m   warnings.warn(f\"Time-step timed out. Elapsed since last time-step: {now - self.__t_end}\")\n"
     ]
    },
    {
     "name": "stdout",
     "output_type": "stream",
     "text": [
      "\u001b[2m\u001b[36m(RolloutWorker pid=1736)\u001b[0m reset triggered\n",
      "\u001b[2m\u001b[36m(RolloutWorker pid=1736)\u001b[0m reload save for track : 72\n"
     ]
    },
    {
     "name": "stderr",
     "output_type": "stream",
     "text": [
      "\u001b[2m\u001b[36m(RolloutWorker pid=1736)\u001b[0m C:\\Users\\nadir\\anaconda3\\envs\\GTRay2.4.0\\lib\\site-packages\\rtgym\\envs\\real_time_env.py:376: UserWarning: Time-step timed out. Elapsed since last time-step: 0.08841150000807829\n",
      "\u001b[2m\u001b[36m(RolloutWorker pid=1736)\u001b[0m   warnings.warn(f\"Time-step timed out. Elapsed since last time-step: {now - self.__t_end}\")\n",
      "\u001b[2m\u001b[36m(RolloutWorker pid=1736)\u001b[0m C:\\Users\\nadir\\anaconda3\\envs\\GTRay2.4.0\\lib\\site-packages\\rtgym\\envs\\real_time_env.py:376: UserWarning: Time-step timed out. Elapsed since last time-step: 0.06951630026924249\n",
      "\u001b[2m\u001b[36m(RolloutWorker pid=1736)\u001b[0m   warnings.warn(f\"Time-step timed out. Elapsed since last time-step: {now - self.__t_end}\")\n"
     ]
    },
    {
     "name": "stdout",
     "output_type": "stream",
     "text": [
      "Loop:  420\n",
      "Saved 420\n"
     ]
    },
    {
     "name": "stderr",
     "output_type": "stream",
     "text": [
      "\u001b[2m\u001b[36m(RolloutWorker pid=1736)\u001b[0m C:\\Users\\nadir\\anaconda3\\envs\\GTRay2.4.0\\lib\\site-packages\\rtgym\\envs\\real_time_env.py:376: UserWarning: Time-step timed out. Elapsed since last time-step: 3.1388712000007217\n",
      "\u001b[2m\u001b[36m(RolloutWorker pid=1736)\u001b[0m   warnings.warn(f\"Time-step timed out. Elapsed since last time-step: {now - self.__t_end}\")\n"
     ]
    },
    {
     "name": "stdout",
     "output_type": "stream",
     "text": [
      "\u001b[2m\u001b[36m(RolloutWorker pid=1736)\u001b[0m reset triggered\n",
      "\u001b[2m\u001b[36m(RolloutWorker pid=1736)\u001b[0m reload save for track : 72\n"
     ]
    },
    {
     "name": "stderr",
     "output_type": "stream",
     "text": [
      "\u001b[2m\u001b[36m(RolloutWorker pid=1736)\u001b[0m C:\\Users\\nadir\\anaconda3\\envs\\GTRay2.4.0\\lib\\site-packages\\rtgym\\envs\\real_time_env.py:376: UserWarning: Time-step timed out. Elapsed since last time-step: 0.10289090000878787\n",
      "\u001b[2m\u001b[36m(RolloutWorker pid=1736)\u001b[0m   warnings.warn(f\"Time-step timed out. Elapsed since last time-step: {now - self.__t_end}\")\n"
     ]
    },
    {
     "name": "stdout",
     "output_type": "stream",
     "text": [
      "\u001b[2m\u001b[36m(RolloutWorker pid=1736)\u001b[0m reset triggered\n",
      "\u001b[2m\u001b[36m(RolloutWorker pid=1736)\u001b[0m reload save for track : 72\n"
     ]
    },
    {
     "name": "stderr",
     "output_type": "stream",
     "text": [
      "\u001b[2m\u001b[36m(RolloutWorker pid=1736)\u001b[0m C:\\Users\\nadir\\anaconda3\\envs\\GTRay2.4.0\\lib\\site-packages\\rtgym\\envs\\real_time_env.py:376: UserWarning: Time-step timed out. Elapsed since last time-step: 0.17021490023944352\n",
      "\u001b[2m\u001b[36m(RolloutWorker pid=1736)\u001b[0m   warnings.warn(f\"Time-step timed out. Elapsed since last time-step: {now - self.__t_end}\")\n"
     ]
    },
    {
     "name": "stdout",
     "output_type": "stream",
     "text": [
      "Loop:  421\n"
     ]
    },
    {
     "name": "stderr",
     "output_type": "stream",
     "text": [
      "\u001b[2m\u001b[36m(RolloutWorker pid=1736)\u001b[0m C:\\Users\\nadir\\anaconda3\\envs\\GTRay2.4.0\\lib\\site-packages\\rtgym\\envs\\real_time_env.py:376: UserWarning: Time-step timed out. Elapsed since last time-step: 2.9419618000320042\n",
      "\u001b[2m\u001b[36m(RolloutWorker pid=1736)\u001b[0m   warnings.warn(f\"Time-step timed out. Elapsed since last time-step: {now - self.__t_end}\")\n"
     ]
    },
    {
     "name": "stdout",
     "output_type": "stream",
     "text": [
      "\u001b[2m\u001b[36m(RolloutWorker pid=1736)\u001b[0m reset triggered\n",
      "\u001b[2m\u001b[36m(RolloutWorker pid=1736)\u001b[0m reload save for track : 72\n"
     ]
    },
    {
     "name": "stderr",
     "output_type": "stream",
     "text": [
      "\u001b[2m\u001b[36m(RolloutWorker pid=1736)\u001b[0m C:\\Users\\nadir\\anaconda3\\envs\\GTRay2.4.0\\lib\\site-packages\\rtgym\\envs\\real_time_env.py:376: UserWarning: Time-step timed out. Elapsed since last time-step: 0.14646140024888155\n",
      "\u001b[2m\u001b[36m(RolloutWorker pid=1736)\u001b[0m   warnings.warn(f\"Time-step timed out. Elapsed since last time-step: {now - self.__t_end}\")\n"
     ]
    },
    {
     "name": "stdout",
     "output_type": "stream",
     "text": [
      "Loop:  422\n"
     ]
    },
    {
     "name": "stderr",
     "output_type": "stream",
     "text": [
      "\u001b[2m\u001b[36m(RolloutWorker pid=1736)\u001b[0m C:\\Users\\nadir\\anaconda3\\envs\\GTRay2.4.0\\lib\\site-packages\\rtgym\\envs\\real_time_env.py:376: UserWarning: Time-step timed out. Elapsed since last time-step: 3.060042600031011\n",
      "\u001b[2m\u001b[36m(RolloutWorker pid=1736)\u001b[0m   warnings.warn(f\"Time-step timed out. Elapsed since last time-step: {now - self.__t_end}\")\n"
     ]
    },
    {
     "name": "stdout",
     "output_type": "stream",
     "text": [
      "\u001b[2m\u001b[36m(RolloutWorker pid=1736)\u001b[0m reset triggered\n",
      "\u001b[2m\u001b[36m(RolloutWorker pid=1736)\u001b[0m reload save for track : 72\n"
     ]
    },
    {
     "name": "stderr",
     "output_type": "stream",
     "text": [
      "\u001b[2m\u001b[36m(RolloutWorker pid=1736)\u001b[0m C:\\Users\\nadir\\anaconda3\\envs\\GTRay2.4.0\\lib\\site-packages\\rtgym\\envs\\real_time_env.py:376: UserWarning: Time-step timed out. Elapsed since last time-step: 0.130533700246815\n",
      "\u001b[2m\u001b[36m(RolloutWorker pid=1736)\u001b[0m   warnings.warn(f\"Time-step timed out. Elapsed since last time-step: {now - self.__t_end}\")\n"
     ]
    },
    {
     "name": "stdout",
     "output_type": "stream",
     "text": [
      "Loop:  423\n"
     ]
    },
    {
     "name": "stderr",
     "output_type": "stream",
     "text": [
      "\u001b[2m\u001b[36m(RolloutWorker pid=1736)\u001b[0m C:\\Users\\nadir\\anaconda3\\envs\\GTRay2.4.0\\lib\\site-packages\\rtgym\\envs\\real_time_env.py:376: UserWarning: Time-step timed out. Elapsed since last time-step: 3.1674608000321314\n",
      "\u001b[2m\u001b[36m(RolloutWorker pid=1736)\u001b[0m   warnings.warn(f\"Time-step timed out. Elapsed since last time-step: {now - self.__t_end}\")\n"
     ]
    },
    {
     "name": "stdout",
     "output_type": "stream",
     "text": [
      "\u001b[2m\u001b[36m(RolloutWorker pid=1736)\u001b[0m reset triggered\n",
      "\u001b[2m\u001b[36m(RolloutWorker pid=1736)\u001b[0m reload save for track : 72\n"
     ]
    },
    {
     "name": "stderr",
     "output_type": "stream",
     "text": [
      "\u001b[2m\u001b[36m(RolloutWorker pid=1736)\u001b[0m C:\\Users\\nadir\\anaconda3\\envs\\GTRay2.4.0\\lib\\site-packages\\rtgym\\envs\\real_time_env.py:376: UserWarning: Time-step timed out. Elapsed since last time-step: 0.13218060024883016\n",
      "\u001b[2m\u001b[36m(RolloutWorker pid=1736)\u001b[0m   warnings.warn(f\"Time-step timed out. Elapsed since last time-step: {now - self.__t_end}\")\n"
     ]
    },
    {
     "name": "stdout",
     "output_type": "stream",
     "text": [
      "Loop:  424\n"
     ]
    },
    {
     "name": "stderr",
     "output_type": "stream",
     "text": [
      "\u001b[2m\u001b[36m(RolloutWorker pid=1736)\u001b[0m C:\\Users\\nadir\\anaconda3\\envs\\GTRay2.4.0\\lib\\site-packages\\rtgym\\envs\\real_time_env.py:376: UserWarning: Time-step timed out. Elapsed since last time-step: 3.037078900029883\n",
      "\u001b[2m\u001b[36m(RolloutWorker pid=1736)\u001b[0m   warnings.warn(f\"Time-step timed out. Elapsed since last time-step: {now - self.__t_end}\")\n",
      "\u001b[2m\u001b[36m(RolloutWorker pid=1736)\u001b[0m C:\\Users\\nadir\\anaconda3\\envs\\GTRay2.4.0\\lib\\site-packages\\rtgym\\envs\\real_time_env.py:376: UserWarning: Time-step timed out. Elapsed since last time-step: 0.05027200018412259\n",
      "\u001b[2m\u001b[36m(RolloutWorker pid=1736)\u001b[0m   warnings.warn(f\"Time-step timed out. Elapsed since last time-step: {now - self.__t_end}\")\n"
     ]
    },
    {
     "name": "stdout",
     "output_type": "stream",
     "text": [
      "\u001b[2m\u001b[36m(RolloutWorker pid=1736)\u001b[0m reset triggered\n",
      "\u001b[2m\u001b[36m(RolloutWorker pid=1736)\u001b[0m reload save for track : 72\n"
     ]
    },
    {
     "name": "stderr",
     "output_type": "stream",
     "text": [
      "\u001b[2m\u001b[36m(RolloutWorker pid=1736)\u001b[0m C:\\Users\\nadir\\anaconda3\\envs\\GTRay2.4.0\\lib\\site-packages\\rtgym\\envs\\real_time_env.py:376: UserWarning: Time-step timed out. Elapsed since last time-step: 0.14896370006499637\n",
      "\u001b[2m\u001b[36m(RolloutWorker pid=1736)\u001b[0m   warnings.warn(f\"Time-step timed out. Elapsed since last time-step: {now - self.__t_end}\")\n"
     ]
    },
    {
     "name": "stdout",
     "output_type": "stream",
     "text": [
      "Loop:  425\n"
     ]
    },
    {
     "name": "stderr",
     "output_type": "stream",
     "text": [
      "\u001b[2m\u001b[36m(RolloutWorker pid=1736)\u001b[0m C:\\Users\\nadir\\anaconda3\\envs\\GTRay2.4.0\\lib\\site-packages\\rtgym\\envs\\real_time_env.py:376: UserWarning: Time-step timed out. Elapsed since last time-step: 2.9872869000300852\n",
      "\u001b[2m\u001b[36m(RolloutWorker pid=1736)\u001b[0m   warnings.warn(f\"Time-step timed out. Elapsed since last time-step: {now - self.__t_end}\")\n",
      "\u001b[2m\u001b[36m(RolloutWorker pid=1736)\u001b[0m C:\\Users\\nadir\\anaconda3\\envs\\GTRay2.4.0\\lib\\site-packages\\rtgym\\envs\\real_time_env.py:376: UserWarning: Time-step timed out. Elapsed since last time-step: 0.09064900019620836\n",
      "\u001b[2m\u001b[36m(RolloutWorker pid=1736)\u001b[0m   warnings.warn(f\"Time-step timed out. Elapsed since last time-step: {now - self.__t_end}\")\n"
     ]
    },
    {
     "name": "stdout",
     "output_type": "stream",
     "text": [
      "\u001b[2m\u001b[36m(RolloutWorker pid=1736)\u001b[0m reset triggered\n",
      "\u001b[2m\u001b[36m(RolloutWorker pid=1736)\u001b[0m reload save for track : 72\n"
     ]
    },
    {
     "name": "stderr",
     "output_type": "stream",
     "text": [
      "\u001b[2m\u001b[36m(RolloutWorker pid=1736)\u001b[0m C:\\Users\\nadir\\anaconda3\\envs\\GTRay2.4.0\\lib\\site-packages\\rtgym\\envs\\real_time_env.py:376: UserWarning: Time-step timed out. Elapsed since last time-step: 0.14557070005321293\n",
      "\u001b[2m\u001b[36m(RolloutWorker pid=1736)\u001b[0m   warnings.warn(f\"Time-step timed out. Elapsed since last time-step: {now - self.__t_end}\")\n"
     ]
    },
    {
     "name": "stdout",
     "output_type": "stream",
     "text": [
      "Loop:  426\n"
     ]
    },
    {
     "name": "stderr",
     "output_type": "stream",
     "text": [
      "\u001b[2m\u001b[36m(RolloutWorker pid=1736)\u001b[0m C:\\Users\\nadir\\anaconda3\\envs\\GTRay2.4.0\\lib\\site-packages\\rtgym\\envs\\real_time_env.py:376: UserWarning: Time-step timed out. Elapsed since last time-step: 3.153024200031723\n",
      "\u001b[2m\u001b[36m(RolloutWorker pid=1736)\u001b[0m   warnings.warn(f\"Time-step timed out. Elapsed since last time-step: {now - self.__t_end}\")\n"
     ]
    },
    {
     "name": "stdout",
     "output_type": "stream",
     "text": [
      "\u001b[2m\u001b[36m(RolloutWorker pid=1736)\u001b[0m reset triggered\n",
      "\u001b[2m\u001b[36m(RolloutWorker pid=1736)\u001b[0m reload save for track : 72\n"
     ]
    },
    {
     "name": "stderr",
     "output_type": "stream",
     "text": [
      "\u001b[2m\u001b[36m(RolloutWorker pid=1736)\u001b[0m C:\\Users\\nadir\\anaconda3\\envs\\GTRay2.4.0\\lib\\site-packages\\rtgym\\envs\\real_time_env.py:376: UserWarning: Time-step timed out. Elapsed since last time-step: 0.1535255002181657\n",
      "\u001b[2m\u001b[36m(RolloutWorker pid=1736)\u001b[0m   warnings.warn(f\"Time-step timed out. Elapsed since last time-step: {now - self.__t_end}\")\n"
     ]
    },
    {
     "name": "stdout",
     "output_type": "stream",
     "text": [
      "Loop:  427\n"
     ]
    },
    {
     "name": "stderr",
     "output_type": "stream",
     "text": [
      "\u001b[2m\u001b[36m(RolloutWorker pid=1736)\u001b[0m C:\\Users\\nadir\\anaconda3\\envs\\GTRay2.4.0\\lib\\site-packages\\rtgym\\envs\\real_time_env.py:376: UserWarning: Time-step timed out. Elapsed since last time-step: 3.1235667000601097\n",
      "\u001b[2m\u001b[36m(RolloutWorker pid=1736)\u001b[0m   warnings.warn(f\"Time-step timed out. Elapsed since last time-step: {now - self.__t_end}\")\n"
     ]
    },
    {
     "name": "stdout",
     "output_type": "stream",
     "text": [
      "\u001b[2m\u001b[36m(RolloutWorker pid=1736)\u001b[0m reset triggered\n",
      "\u001b[2m\u001b[36m(RolloutWorker pid=1736)\u001b[0m reload save for track : 72\n"
     ]
    },
    {
     "name": "stderr",
     "output_type": "stream",
     "text": [
      "\u001b[2m\u001b[36m(RolloutWorker pid=1736)\u001b[0m C:\\Users\\nadir\\anaconda3\\envs\\GTRay2.4.0\\lib\\site-packages\\rtgym\\envs\\real_time_env.py:376: UserWarning: Time-step timed out. Elapsed since last time-step: 0.17682100021920633\n",
      "\u001b[2m\u001b[36m(RolloutWorker pid=1736)\u001b[0m   warnings.warn(f\"Time-step timed out. Elapsed since last time-step: {now - self.__t_end}\")\n"
     ]
    },
    {
     "name": "stdout",
     "output_type": "stream",
     "text": [
      "Loop:  428\n"
     ]
    },
    {
     "name": "stderr",
     "output_type": "stream",
     "text": [
      "\u001b[2m\u001b[36m(RolloutWorker pid=1736)\u001b[0m C:\\Users\\nadir\\anaconda3\\envs\\GTRay2.4.0\\lib\\site-packages\\rtgym\\envs\\real_time_env.py:376: UserWarning: Time-step timed out. Elapsed since last time-step: 3.046282300059829\n",
      "\u001b[2m\u001b[36m(RolloutWorker pid=1736)\u001b[0m   warnings.warn(f\"Time-step timed out. Elapsed since last time-step: {now - self.__t_end}\")\n",
      "\u001b[2m\u001b[36m(RolloutWorker pid=1736)\u001b[0m C:\\Users\\nadir\\anaconda3\\envs\\GTRay2.4.0\\lib\\site-packages\\rtgym\\envs\\real_time_env.py:376: UserWarning: Time-step timed out. Elapsed since last time-step: 0.12765010021939815\n",
      "\u001b[2m\u001b[36m(RolloutWorker pid=1736)\u001b[0m   warnings.warn(f\"Time-step timed out. Elapsed since last time-step: {now - self.__t_end}\")\n"
     ]
    },
    {
     "name": "stdout",
     "output_type": "stream",
     "text": [
      "\u001b[2m\u001b[36m(RolloutWorker pid=1736)\u001b[0m reset triggered\n",
      "\u001b[2m\u001b[36m(RolloutWorker pid=1736)\u001b[0m reload save for track : 72\n",
      "Loop:  429\n"
     ]
    },
    {
     "name": "stderr",
     "output_type": "stream",
     "text": [
      "\u001b[2m\u001b[36m(RolloutWorker pid=1736)\u001b[0m C:\\Users\\nadir\\anaconda3\\envs\\GTRay2.4.0\\lib\\site-packages\\rtgym\\envs\\real_time_env.py:376: UserWarning: Time-step timed out. Elapsed since last time-step: 2.9678669000604714\n",
      "\u001b[2m\u001b[36m(RolloutWorker pid=1736)\u001b[0m   warnings.warn(f\"Time-step timed out. Elapsed since last time-step: {now - self.__t_end}\")\n"
     ]
    },
    {
     "name": "stdout",
     "output_type": "stream",
     "text": [
      "\u001b[2m\u001b[36m(RolloutWorker pid=1736)\u001b[0m reset triggered\n",
      "\u001b[2m\u001b[36m(RolloutWorker pid=1736)\u001b[0m reload save for track : 72\n"
     ]
    },
    {
     "name": "stderr",
     "output_type": "stream",
     "text": [
      "\u001b[2m\u001b[36m(RolloutWorker pid=1736)\u001b[0m C:\\Users\\nadir\\anaconda3\\envs\\GTRay2.4.0\\lib\\site-packages\\rtgym\\envs\\real_time_env.py:376: UserWarning: Time-step timed out. Elapsed since last time-step: 0.16779940021842776\n",
      "\u001b[2m\u001b[36m(RolloutWorker pid=1736)\u001b[0m   warnings.warn(f\"Time-step timed out. Elapsed since last time-step: {now - self.__t_end}\")\n"
     ]
    },
    {
     "name": "stdout",
     "output_type": "stream",
     "text": [
      "Loop:  430\n",
      "Saved 430\n"
     ]
    },
    {
     "name": "stderr",
     "output_type": "stream",
     "text": [
      "\u001b[2m\u001b[36m(RolloutWorker pid=1736)\u001b[0m C:\\Users\\nadir\\anaconda3\\envs\\GTRay2.4.0\\lib\\site-packages\\rtgym\\envs\\real_time_env.py:376: UserWarning: Time-step timed out. Elapsed since last time-step: 2.872115400061375\n",
      "\u001b[2m\u001b[36m(RolloutWorker pid=1736)\u001b[0m   warnings.warn(f\"Time-step timed out. Elapsed since last time-step: {now - self.__t_end}\")\n"
     ]
    },
    {
     "name": "stdout",
     "output_type": "stream",
     "text": [
      "\u001b[2m\u001b[36m(RolloutWorker pid=1736)\u001b[0m reset triggered\n",
      "\u001b[2m\u001b[36m(RolloutWorker pid=1736)\u001b[0m reload save for track : 72\n"
     ]
    },
    {
     "name": "stderr",
     "output_type": "stream",
     "text": [
      "\u001b[2m\u001b[36m(RolloutWorker pid=1736)\u001b[0m C:\\Users\\nadir\\anaconda3\\envs\\GTRay2.4.0\\lib\\site-packages\\rtgym\\envs\\real_time_env.py:376: UserWarning: Time-step timed out. Elapsed since last time-step: 0.16364990021793346\n",
      "\u001b[2m\u001b[36m(RolloutWorker pid=1736)\u001b[0m   warnings.warn(f\"Time-step timed out. Elapsed since last time-step: {now - self.__t_end}\")\n"
     ]
    },
    {
     "name": "stdout",
     "output_type": "stream",
     "text": [
      "Loop:  431\n"
     ]
    },
    {
     "name": "stderr",
     "output_type": "stream",
     "text": [
      "\u001b[2m\u001b[36m(RolloutWorker pid=1736)\u001b[0m C:\\Users\\nadir\\anaconda3\\envs\\GTRay2.4.0\\lib\\site-packages\\rtgym\\envs\\real_time_env.py:376: UserWarning: Time-step timed out. Elapsed since last time-step: 2.8114102000618004\n",
      "\u001b[2m\u001b[36m(RolloutWorker pid=1736)\u001b[0m   warnings.warn(f\"Time-step timed out. Elapsed since last time-step: {now - self.__t_end}\")\n"
     ]
    },
    {
     "name": "stdout",
     "output_type": "stream",
     "text": [
      "\u001b[2m\u001b[36m(RolloutWorker pid=1736)\u001b[0m reset triggered\n",
      "\u001b[2m\u001b[36m(RolloutWorker pid=1736)\u001b[0m reload save for track : 72\n"
     ]
    },
    {
     "name": "stderr",
     "output_type": "stream",
     "text": [
      "\u001b[2m\u001b[36m(RolloutWorker pid=1736)\u001b[0m C:\\Users\\nadir\\anaconda3\\envs\\GTRay2.4.0\\lib\\site-packages\\rtgym\\envs\\real_time_env.py:376: UserWarning: Time-step timed out. Elapsed since last time-step: 0.15852270021787263\n",
      "\u001b[2m\u001b[36m(RolloutWorker pid=1736)\u001b[0m   warnings.warn(f\"Time-step timed out. Elapsed since last time-step: {now - self.__t_end}\")\n"
     ]
    },
    {
     "name": "stdout",
     "output_type": "stream",
     "text": [
      "Loop:  432\n"
     ]
    },
    {
     "name": "stderr",
     "output_type": "stream",
     "text": [
      "\u001b[2m\u001b[36m(RolloutWorker pid=1736)\u001b[0m C:\\Users\\nadir\\anaconda3\\envs\\GTRay2.4.0\\lib\\site-packages\\rtgym\\envs\\real_time_env.py:376: UserWarning: Time-step timed out. Elapsed since last time-step: 3.3736070000613836\n",
      "\u001b[2m\u001b[36m(RolloutWorker pid=1736)\u001b[0m   warnings.warn(f\"Time-step timed out. Elapsed since last time-step: {now - self.__t_end}\")\n"
     ]
    },
    {
     "name": "stdout",
     "output_type": "stream",
     "text": [
      "\u001b[2m\u001b[36m(RolloutWorker pid=1736)\u001b[0m reset triggered\n",
      "\u001b[2m\u001b[36m(RolloutWorker pid=1736)\u001b[0m reload save for track : 72\n"
     ]
    },
    {
     "name": "stderr",
     "output_type": "stream",
     "text": [
      "\u001b[2m\u001b[36m(RolloutWorker pid=1736)\u001b[0m C:\\Users\\nadir\\anaconda3\\envs\\GTRay2.4.0\\lib\\site-packages\\rtgym\\envs\\real_time_env.py:376: UserWarning: Time-step timed out. Elapsed since last time-step: 0.16520940021837305\n",
      "\u001b[2m\u001b[36m(RolloutWorker pid=1736)\u001b[0m   warnings.warn(f\"Time-step timed out. Elapsed since last time-step: {now - self.__t_end}\")\n"
     ]
    },
    {
     "name": "stdout",
     "output_type": "stream",
     "text": [
      "Loop:  433\n"
     ]
    },
    {
     "name": "stderr",
     "output_type": "stream",
     "text": [
      "\u001b[2m\u001b[36m(RolloutWorker pid=1736)\u001b[0m C:\\Users\\nadir\\anaconda3\\envs\\GTRay2.4.0\\lib\\site-packages\\rtgym\\envs\\real_time_env.py:376: UserWarning: Time-step timed out. Elapsed since last time-step: 2.905770300059885\n",
      "\u001b[2m\u001b[36m(RolloutWorker pid=1736)\u001b[0m   warnings.warn(f\"Time-step timed out. Elapsed since last time-step: {now - self.__t_end}\")\n"
     ]
    },
    {
     "name": "stdout",
     "output_type": "stream",
     "text": [
      "\u001b[2m\u001b[36m(RolloutWorker pid=1736)\u001b[0m reset triggered\n",
      "\u001b[2m\u001b[36m(RolloutWorker pid=1736)\u001b[0m reload save for track : 72\n"
     ]
    },
    {
     "name": "stderr",
     "output_type": "stream",
     "text": [
      "\u001b[2m\u001b[36m(RolloutWorker pid=1736)\u001b[0m C:\\Users\\nadir\\anaconda3\\envs\\GTRay2.4.0\\lib\\site-packages\\rtgym\\envs\\real_time_env.py:376: UserWarning: Time-step timed out. Elapsed since last time-step: 0.17466640021848434\n",
      "\u001b[2m\u001b[36m(RolloutWorker pid=1736)\u001b[0m   warnings.warn(f\"Time-step timed out. Elapsed since last time-step: {now - self.__t_end}\")\n"
     ]
    },
    {
     "name": "stdout",
     "output_type": "stream",
     "text": [
      "Loop:  434\n"
     ]
    },
    {
     "name": "stderr",
     "output_type": "stream",
     "text": [
      "\u001b[2m\u001b[36m(RolloutWorker pid=1736)\u001b[0m C:\\Users\\nadir\\anaconda3\\envs\\GTRay2.4.0\\lib\\site-packages\\rtgym\\envs\\real_time_env.py:376: UserWarning: Time-step timed out. Elapsed since last time-step: 2.806740800062471\n",
      "\u001b[2m\u001b[36m(RolloutWorker pid=1736)\u001b[0m   warnings.warn(f\"Time-step timed out. Elapsed since last time-step: {now - self.__t_end}\")\n"
     ]
    },
    {
     "name": "stdout",
     "output_type": "stream",
     "text": [
      "\u001b[2m\u001b[36m(RolloutWorker pid=1736)\u001b[0m reset triggered\n",
      "\u001b[2m\u001b[36m(RolloutWorker pid=1736)\u001b[0m reload save for track : 72\n"
     ]
    },
    {
     "name": "stderr",
     "output_type": "stream",
     "text": [
      "\u001b[2m\u001b[36m(RolloutWorker pid=1736)\u001b[0m C:\\Users\\nadir\\anaconda3\\envs\\GTRay2.4.0\\lib\\site-packages\\rtgym\\envs\\real_time_env.py:376: UserWarning: Time-step timed out. Elapsed since last time-step: 0.15244870011338207\n",
      "\u001b[2m\u001b[36m(RolloutWorker pid=1736)\u001b[0m   warnings.warn(f\"Time-step timed out. Elapsed since last time-step: {now - self.__t_end}\")\n"
     ]
    },
    {
     "name": "stdout",
     "output_type": "stream",
     "text": [
      "Loop:  435\n"
     ]
    },
    {
     "name": "stderr",
     "output_type": "stream",
     "text": [
      "\u001b[2m\u001b[36m(RolloutWorker pid=1736)\u001b[0m C:\\Users\\nadir\\anaconda3\\envs\\GTRay2.4.0\\lib\\site-packages\\rtgym\\envs\\real_time_env.py:376: UserWarning: Time-step timed out. Elapsed since last time-step: 2.878340900164403\n",
      "\u001b[2m\u001b[36m(RolloutWorker pid=1736)\u001b[0m   warnings.warn(f\"Time-step timed out. Elapsed since last time-step: {now - self.__t_end}\")\n",
      "\u001b[2m\u001b[36m(RolloutWorker pid=1736)\u001b[0m C:\\Users\\nadir\\anaconda3\\envs\\GTRay2.4.0\\lib\\site-packages\\rtgym\\envs\\real_time_env.py:376: UserWarning: Time-step timed out. Elapsed since last time-step: 0.08269440007643425\n",
      "\u001b[2m\u001b[36m(RolloutWorker pid=1736)\u001b[0m   warnings.warn(f\"Time-step timed out. Elapsed since last time-step: {now - self.__t_end}\")\n",
      "\u001b[2m\u001b[36m(RolloutWorker pid=1736)\u001b[0m C:\\Users\\nadir\\anaconda3\\envs\\GTRay2.4.0\\lib\\site-packages\\rtgym\\envs\\real_time_env.py:376: UserWarning: Time-step timed out. Elapsed since last time-step: 0.13045350003812928\n",
      "\u001b[2m\u001b[36m(RolloutWorker pid=1736)\u001b[0m   warnings.warn(f\"Time-step timed out. Elapsed since last time-step: {now - self.__t_end}\")\n"
     ]
    },
    {
     "name": "stdout",
     "output_type": "stream",
     "text": [
      "\u001b[2m\u001b[36m(RolloutWorker pid=1736)\u001b[0m reset triggered\n",
      "\u001b[2m\u001b[36m(RolloutWorker pid=1736)\u001b[0m reload save for track : 72\n"
     ]
    },
    {
     "name": "stderr",
     "output_type": "stream",
     "text": [
      "\u001b[2m\u001b[36m(RolloutWorker pid=1736)\u001b[0m C:\\Users\\nadir\\anaconda3\\envs\\GTRay2.4.0\\lib\\site-packages\\rtgym\\envs\\real_time_env.py:376: UserWarning: Time-step timed out. Elapsed since last time-step: 0.05465960016408644\n",
      "\u001b[2m\u001b[36m(RolloutWorker pid=1736)\u001b[0m   warnings.warn(f\"Time-step timed out. Elapsed since last time-step: {now - self.__t_end}\")\n"
     ]
    },
    {
     "name": "stdout",
     "output_type": "stream",
     "text": [
      "Loop:  436\n"
     ]
    },
    {
     "name": "stderr",
     "output_type": "stream",
     "text": [
      "\u001b[2m\u001b[36m(RolloutWorker pid=1736)\u001b[0m C:\\Users\\nadir\\anaconda3\\envs\\GTRay2.4.0\\lib\\site-packages\\rtgym\\envs\\real_time_env.py:376: UserWarning: Time-step timed out. Elapsed since last time-step: 2.904182000002038\n",
      "\u001b[2m\u001b[36m(RolloutWorker pid=1736)\u001b[0m   warnings.warn(f\"Time-step timed out. Elapsed since last time-step: {now - self.__t_end}\")\n"
     ]
    },
    {
     "name": "stdout",
     "output_type": "stream",
     "text": [
      "\u001b[2m\u001b[36m(RolloutWorker pid=1736)\u001b[0m reset triggered\n",
      "\u001b[2m\u001b[36m(RolloutWorker pid=1736)\u001b[0m reload save for track : 72\n"
     ]
    },
    {
     "name": "stderr",
     "output_type": "stream",
     "text": [
      "\u001b[2m\u001b[36m(RolloutWorker pid=1736)\u001b[0m C:\\Users\\nadir\\anaconda3\\envs\\GTRay2.4.0\\lib\\site-packages\\rtgym\\envs\\real_time_env.py:376: UserWarning: Time-step timed out. Elapsed since last time-step: 0.14507020011296845\n",
      "\u001b[2m\u001b[36m(RolloutWorker pid=1736)\u001b[0m   warnings.warn(f\"Time-step timed out. Elapsed since last time-step: {now - self.__t_end}\")\n"
     ]
    },
    {
     "name": "stdout",
     "output_type": "stream",
     "text": [
      "Loop:  437\n"
     ]
    },
    {
     "name": "stderr",
     "output_type": "stream",
     "text": [
      "\u001b[2m\u001b[36m(RolloutWorker pid=1736)\u001b[0m C:\\Users\\nadir\\anaconda3\\envs\\GTRay2.4.0\\lib\\site-packages\\rtgym\\envs\\real_time_env.py:376: UserWarning: Time-step timed out. Elapsed since last time-step: 2.818384200165383\n",
      "\u001b[2m\u001b[36m(RolloutWorker pid=1736)\u001b[0m   warnings.warn(f\"Time-step timed out. Elapsed since last time-step: {now - self.__t_end}\")\n"
     ]
    },
    {
     "name": "stdout",
     "output_type": "stream",
     "text": [
      "\u001b[2m\u001b[36m(RolloutWorker pid=1736)\u001b[0m reset triggered\n",
      "\u001b[2m\u001b[36m(RolloutWorker pid=1736)\u001b[0m reload save for track : 72\n"
     ]
    },
    {
     "name": "stderr",
     "output_type": "stream",
     "text": [
      "\u001b[2m\u001b[36m(RolloutWorker pid=1736)\u001b[0m C:\\Users\\nadir\\anaconda3\\envs\\GTRay2.4.0\\lib\\site-packages\\rtgym\\envs\\real_time_env.py:376: UserWarning: Time-step timed out. Elapsed since last time-step: 0.13801920011428592\n",
      "\u001b[2m\u001b[36m(RolloutWorker pid=1736)\u001b[0m   warnings.warn(f\"Time-step timed out. Elapsed since last time-step: {now - self.__t_end}\")\n"
     ]
    },
    {
     "name": "stdout",
     "output_type": "stream",
     "text": [
      "Loop:  438\n"
     ]
    },
    {
     "name": "stderr",
     "output_type": "stream",
     "text": [
      "\u001b[2m\u001b[36m(RolloutWorker pid=1736)\u001b[0m C:\\Users\\nadir\\anaconda3\\envs\\GTRay2.4.0\\lib\\site-packages\\rtgym\\envs\\real_time_env.py:376: UserWarning: Time-step timed out. Elapsed since last time-step: 2.873802300166062\n",
      "\u001b[2m\u001b[36m(RolloutWorker pid=1736)\u001b[0m   warnings.warn(f\"Time-step timed out. Elapsed since last time-step: {now - self.__t_end}\")\n"
     ]
    },
    {
     "name": "stdout",
     "output_type": "stream",
     "text": [
      "\u001b[2m\u001b[36m(RolloutWorker pid=1736)\u001b[0m reset triggered\n",
      "\u001b[2m\u001b[36m(RolloutWorker pid=1736)\u001b[0m reload save for track : 72\n"
     ]
    },
    {
     "name": "stderr",
     "output_type": "stream",
     "text": [
      "\u001b[2m\u001b[36m(RolloutWorker pid=1736)\u001b[0m C:\\Users\\nadir\\anaconda3\\envs\\GTRay2.4.0\\lib\\site-packages\\rtgym\\envs\\real_time_env.py:376: UserWarning: Time-step timed out. Elapsed since last time-step: 0.1311684000720561\n",
      "\u001b[2m\u001b[36m(RolloutWorker pid=1736)\u001b[0m   warnings.warn(f\"Time-step timed out. Elapsed since last time-step: {now - self.__t_end}\")\n"
     ]
    },
    {
     "name": "stdout",
     "output_type": "stream",
     "text": [
      "Loop:  439\n"
     ]
    },
    {
     "name": "stderr",
     "output_type": "stream",
     "text": [
      "\u001b[2m\u001b[36m(RolloutWorker pid=1736)\u001b[0m C:\\Users\\nadir\\anaconda3\\envs\\GTRay2.4.0\\lib\\site-packages\\rtgym\\envs\\real_time_env.py:376: UserWarning: Time-step timed out. Elapsed since last time-step: 2.8217872002060176\n",
      "\u001b[2m\u001b[36m(RolloutWorker pid=1736)\u001b[0m   warnings.warn(f\"Time-step timed out. Elapsed since last time-step: {now - self.__t_end}\")\n"
     ]
    },
    {
     "name": "stdout",
     "output_type": "stream",
     "text": [
      "\u001b[2m\u001b[36m(RolloutWorker pid=1736)\u001b[0m reset triggered\n",
      "\u001b[2m\u001b[36m(RolloutWorker pid=1736)\u001b[0m reload save for track : 72\n"
     ]
    },
    {
     "name": "stderr",
     "output_type": "stream",
     "text": [
      "\u001b[2m\u001b[36m(RolloutWorker pid=1736)\u001b[0m C:\\Users\\nadir\\anaconda3\\envs\\GTRay2.4.0\\lib\\site-packages\\rtgym\\envs\\real_time_env.py:376: UserWarning: Time-step timed out. Elapsed since last time-step: 0.15351740007281478\n",
      "\u001b[2m\u001b[36m(RolloutWorker pid=1736)\u001b[0m   warnings.warn(f\"Time-step timed out. Elapsed since last time-step: {now - self.__t_end}\")\n"
     ]
    },
    {
     "name": "stdout",
     "output_type": "stream",
     "text": [
      "Loop:  440\n",
      "Saved 440\n"
     ]
    },
    {
     "name": "stderr",
     "output_type": "stream",
     "text": [
      "\u001b[2m\u001b[36m(RolloutWorker pid=1736)\u001b[0m C:\\Users\\nadir\\anaconda3\\envs\\GTRay2.4.0\\lib\\site-packages\\rtgym\\envs\\real_time_env.py:376: UserWarning: Time-step timed out. Elapsed since last time-step: 3.0260956002075545\n",
      "\u001b[2m\u001b[36m(RolloutWorker pid=1736)\u001b[0m   warnings.warn(f\"Time-step timed out. Elapsed since last time-step: {now - self.__t_end}\")\n"
     ]
    },
    {
     "name": "stdout",
     "output_type": "stream",
     "text": [
      "\u001b[2m\u001b[36m(RolloutWorker pid=1736)\u001b[0m reset triggered\n",
      "\u001b[2m\u001b[36m(RolloutWorker pid=1736)\u001b[0m reload save for track : 72\n"
     ]
    },
    {
     "name": "stderr",
     "output_type": "stream",
     "text": [
      "\u001b[2m\u001b[36m(RolloutWorker pid=1736)\u001b[0m C:\\Users\\nadir\\anaconda3\\envs\\GTRay2.4.0\\lib\\site-packages\\rtgym\\envs\\real_time_env.py:376: UserWarning: Time-step timed out. Elapsed since last time-step: 0.1332157000724692\n",
      "\u001b[2m\u001b[36m(RolloutWorker pid=1736)\u001b[0m   warnings.warn(f\"Time-step timed out. Elapsed since last time-step: {now - self.__t_end}\")\n",
      "\u001b[2m\u001b[36m(RolloutWorker pid=1736)\u001b[0m C:\\Users\\nadir\\anaconda3\\envs\\GTRay2.4.0\\lib\\site-packages\\rtgym\\envs\\real_time_env.py:376: UserWarning: Time-step timed out. Elapsed since last time-step: 0.053467800205908134\n",
      "\u001b[2m\u001b[36m(RolloutWorker pid=1736)\u001b[0m   warnings.warn(f\"Time-step timed out. Elapsed since last time-step: {now - self.__t_end}\")\n"
     ]
    },
    {
     "name": "stdout",
     "output_type": "stream",
     "text": [
      "Loop:  441\n"
     ]
    },
    {
     "name": "stderr",
     "output_type": "stream",
     "text": [
      "\u001b[2m\u001b[36m(RolloutWorker pid=1736)\u001b[0m C:\\Users\\nadir\\anaconda3\\envs\\GTRay2.4.0\\lib\\site-packages\\rtgym\\envs\\real_time_env.py:376: UserWarning: Time-step timed out. Elapsed since last time-step: 2.847580600000583\n",
      "\u001b[2m\u001b[36m(RolloutWorker pid=1736)\u001b[0m   warnings.warn(f\"Time-step timed out. Elapsed since last time-step: {now - self.__t_end}\")\n",
      "\u001b[2m\u001b[36m(RolloutWorker pid=1736)\u001b[0m C:\\Users\\nadir\\anaconda3\\envs\\GTRay2.4.0\\lib\\site-packages\\rtgym\\envs\\real_time_env.py:376: UserWarning: Time-step timed out. Elapsed since last time-step: 0.1391503000722878\n",
      "\u001b[2m\u001b[36m(RolloutWorker pid=1736)\u001b[0m   warnings.warn(f\"Time-step timed out. Elapsed since last time-step: {now - self.__t_end}\")\n"
     ]
    },
    {
     "name": "stdout",
     "output_type": "stream",
     "text": [
      "\u001b[2m\u001b[36m(RolloutWorker pid=1736)\u001b[0m reset triggered\n",
      "\u001b[2m\u001b[36m(RolloutWorker pid=1736)\u001b[0m reload save for track : 72\n",
      "Loop:  442\n"
     ]
    },
    {
     "name": "stderr",
     "output_type": "stream",
     "text": [
      "\u001b[2m\u001b[36m(RolloutWorker pid=1736)\u001b[0m C:\\Users\\nadir\\anaconda3\\envs\\GTRay2.4.0\\lib\\site-packages\\rtgym\\envs\\real_time_env.py:376: UserWarning: Time-step timed out. Elapsed since last time-step: 2.9948930002083216\n",
      "\u001b[2m\u001b[36m(RolloutWorker pid=1736)\u001b[0m   warnings.warn(f\"Time-step timed out. Elapsed since last time-step: {now - self.__t_end}\")\n"
     ]
    },
    {
     "name": "stdout",
     "output_type": "stream",
     "text": [
      "\u001b[2m\u001b[36m(RolloutWorker pid=1736)\u001b[0m reset triggered\n",
      "\u001b[2m\u001b[36m(RolloutWorker pid=1736)\u001b[0m reload save for track : 72\n"
     ]
    },
    {
     "name": "stderr",
     "output_type": "stream",
     "text": [
      "\u001b[2m\u001b[36m(RolloutWorker pid=1736)\u001b[0m C:\\Users\\nadir\\anaconda3\\envs\\GTRay2.4.0\\lib\\site-packages\\rtgym\\envs\\real_time_env.py:376: UserWarning: Time-step timed out. Elapsed since last time-step: 0.13501130007171014\n",
      "\u001b[2m\u001b[36m(RolloutWorker pid=1736)\u001b[0m   warnings.warn(f\"Time-step timed out. Elapsed since last time-step: {now - self.__t_end}\")\n"
     ]
    },
    {
     "ename": "KeyboardInterrupt",
     "evalue": "",
     "output_type": "error",
     "traceback": [
      "\u001b[1;31m---------------------------------------------------------------------------\u001b[0m",
      "\u001b[1;31mKeyboardInterrupt\u001b[0m                         Traceback (most recent call last)",
      "Cell \u001b[1;32mIn [9], line 4\u001b[0m\n\u001b[0;32m      1\u001b[0m N \u001b[38;5;241m=\u001b[39m \u001b[38;5;241m50000\u001b[39m\n\u001b[0;32m      3\u001b[0m \u001b[38;5;28;01mfor\u001b[39;00m n \u001b[38;5;129;01min\u001b[39;00m \u001b[38;5;28mrange\u001b[39m(N):\n\u001b[1;32m----> 4\u001b[0m     result \u001b[38;5;241m=\u001b[39m \u001b[43malgo\u001b[49m\u001b[38;5;241;43m.\u001b[39;49m\u001b[43mtrain\u001b[49m\u001b[43m(\u001b[49m\u001b[43m)\u001b[49m\n\u001b[0;32m      5\u001b[0m     \u001b[38;5;28mprint\u001b[39m(\u001b[38;5;124m\"\u001b[39m\u001b[38;5;124mLoop: \u001b[39m\u001b[38;5;124m\"\u001b[39m, n)\n\u001b[0;32m      6\u001b[0m     \u001b[38;5;28;01mif\u001b[39;00m n \u001b[38;5;241m%\u001b[39m \u001b[38;5;241m10\u001b[39m \u001b[38;5;241m==\u001b[39m \u001b[38;5;241m0\u001b[39m:\n",
      "File \u001b[1;32m~\\anaconda3\\envs\\GTRay2.4.0\\lib\\site-packages\\ray\\tune\\trainable\\trainable.py:381\u001b[0m, in \u001b[0;36mTrainable.train\u001b[1;34m(self)\u001b[0m\n\u001b[0;32m    379\u001b[0m start \u001b[38;5;241m=\u001b[39m time\u001b[38;5;241m.\u001b[39mtime()\n\u001b[0;32m    380\u001b[0m \u001b[38;5;28;01mtry\u001b[39;00m:\n\u001b[1;32m--> 381\u001b[0m     result \u001b[38;5;241m=\u001b[39m \u001b[38;5;28;43mself\u001b[39;49m\u001b[38;5;241;43m.\u001b[39;49m\u001b[43mstep\u001b[49m\u001b[43m(\u001b[49m\u001b[43m)\u001b[49m\n\u001b[0;32m    382\u001b[0m \u001b[38;5;28;01mexcept\u001b[39;00m \u001b[38;5;167;01mException\u001b[39;00m \u001b[38;5;28;01mas\u001b[39;00m e:\n\u001b[0;32m    383\u001b[0m     skipped \u001b[38;5;241m=\u001b[39m skip_exceptions(e)\n",
      "File \u001b[1;32m~\\anaconda3\\envs\\GTRay2.4.0\\lib\\site-packages\\ray\\rllib\\algorithms\\algorithm.py:792\u001b[0m, in \u001b[0;36mAlgorithm.step\u001b[1;34m(self)\u001b[0m\n\u001b[0;32m    784\u001b[0m     (\n\u001b[0;32m    785\u001b[0m         results,\n\u001b[0;32m    786\u001b[0m         train_iter_ctx,\n\u001b[0;32m    787\u001b[0m     ) \u001b[38;5;241m=\u001b[39m \u001b[38;5;28mself\u001b[39m\u001b[38;5;241m.\u001b[39m_run_one_training_iteration_and_evaluation_in_parallel()\n\u001b[0;32m    788\u001b[0m \u001b[38;5;66;03m# - No evaluation necessary, just run the next training iteration.\u001b[39;00m\n\u001b[0;32m    789\u001b[0m \u001b[38;5;66;03m# - We have to evaluate in this training iteration, but no parallelism ->\u001b[39;00m\n\u001b[0;32m    790\u001b[0m \u001b[38;5;66;03m#   evaluate after the training iteration is entirely done.\u001b[39;00m\n\u001b[0;32m    791\u001b[0m \u001b[38;5;28;01melse\u001b[39;00m:\n\u001b[1;32m--> 792\u001b[0m     results, train_iter_ctx \u001b[38;5;241m=\u001b[39m \u001b[38;5;28;43mself\u001b[39;49m\u001b[38;5;241;43m.\u001b[39;49m\u001b[43m_run_one_training_iteration\u001b[49m\u001b[43m(\u001b[49m\u001b[43m)\u001b[49m\n\u001b[0;32m    794\u001b[0m \u001b[38;5;66;03m# Sequential: Train (already done above), then evaluate.\u001b[39;00m\n\u001b[0;32m    795\u001b[0m \u001b[38;5;28;01mif\u001b[39;00m evaluate_this_iter \u001b[38;5;129;01mand\u001b[39;00m \u001b[38;5;129;01mnot\u001b[39;00m \u001b[38;5;28mself\u001b[39m\u001b[38;5;241m.\u001b[39mconfig\u001b[38;5;241m.\u001b[39mevaluation_parallel_to_training:\n",
      "File \u001b[1;32m~\\anaconda3\\envs\\GTRay2.4.0\\lib\\site-packages\\ray\\rllib\\algorithms\\algorithm.py:2811\u001b[0m, in \u001b[0;36mAlgorithm._run_one_training_iteration\u001b[1;34m(self)\u001b[0m\n\u001b[0;32m   2809\u001b[0m \u001b[38;5;28;01mwith\u001b[39;00m \u001b[38;5;28mself\u001b[39m\u001b[38;5;241m.\u001b[39m_timers[TRAINING_ITERATION_TIMER]:\n\u001b[0;32m   2810\u001b[0m     \u001b[38;5;28;01mif\u001b[39;00m \u001b[38;5;28mself\u001b[39m\u001b[38;5;241m.\u001b[39mconfig\u001b[38;5;241m.\u001b[39m_disable_execution_plan_api:\n\u001b[1;32m-> 2811\u001b[0m         results \u001b[38;5;241m=\u001b[39m \u001b[38;5;28;43mself\u001b[39;49m\u001b[38;5;241;43m.\u001b[39;49m\u001b[43mtraining_step\u001b[49m\u001b[43m(\u001b[49m\u001b[43m)\u001b[49m\n\u001b[0;32m   2812\u001b[0m     \u001b[38;5;28;01melse\u001b[39;00m:\n\u001b[0;32m   2813\u001b[0m         results \u001b[38;5;241m=\u001b[39m \u001b[38;5;28mnext\u001b[39m(\u001b[38;5;28mself\u001b[39m\u001b[38;5;241m.\u001b[39mtrain_exec_impl)\n",
      "File \u001b[1;32m~\\anaconda3\\envs\\GTRay2.4.0\\lib\\site-packages\\ray\\rllib\\algorithms\\ppo\\ppo.py:432\u001b[0m, in \u001b[0;36mPPO.training_step\u001b[1;34m(self)\u001b[0m\n\u001b[0;32m    430\u001b[0m     train_results \u001b[38;5;241m=\u001b[39m train_one_step(\u001b[38;5;28mself\u001b[39m, train_batch)\n\u001b[0;32m    431\u001b[0m \u001b[38;5;28;01melse\u001b[39;00m:\n\u001b[1;32m--> 432\u001b[0m     train_results \u001b[38;5;241m=\u001b[39m \u001b[43mmulti_gpu_train_one_step\u001b[49m\u001b[43m(\u001b[49m\u001b[38;5;28;43mself\u001b[39;49m\u001b[43m,\u001b[49m\u001b[43m \u001b[49m\u001b[43mtrain_batch\u001b[49m\u001b[43m)\u001b[49m\n\u001b[0;32m    434\u001b[0m \u001b[38;5;28;01mif\u001b[39;00m \u001b[38;5;28mself\u001b[39m\u001b[38;5;241m.\u001b[39mconfig\u001b[38;5;241m.\u001b[39m_enable_learner_api:\n\u001b[0;32m    435\u001b[0m     \u001b[38;5;66;03m# the train results's loss keys are pids to their loss values. But we also\u001b[39;00m\n\u001b[0;32m    436\u001b[0m     \u001b[38;5;66;03m# return a total_loss key at the same level as the pid keys. So we need to\u001b[39;00m\n\u001b[1;32m   (...)\u001b[0m\n\u001b[0;32m    439\u001b[0m     \u001b[38;5;66;03m# passing medium to infer whcih policies to update. We could use\u001b[39;00m\n\u001b[0;32m    440\u001b[0m     \u001b[38;5;66;03m# policies_to_train variable that is given by the user to infer this.\u001b[39;00m\n\u001b[0;32m    441\u001b[0m     policies_to_update \u001b[38;5;241m=\u001b[39m \u001b[38;5;28mset\u001b[39m(train_results\u001b[38;5;241m.\u001b[39mkeys()) \u001b[38;5;241m-\u001b[39m {ALL_MODULES}\n",
      "File \u001b[1;32m~\\anaconda3\\envs\\GTRay2.4.0\\lib\\site-packages\\ray\\rllib\\execution\\train_ops.py:163\u001b[0m, in \u001b[0;36mmulti_gpu_train_one_step\u001b[1;34m(algorithm, train_batch)\u001b[0m\n\u001b[0;32m    158\u001b[0m         permutation \u001b[38;5;241m=\u001b[39m np\u001b[38;5;241m.\u001b[39mrandom\u001b[38;5;241m.\u001b[39mpermutation(num_batches)\n\u001b[0;32m    159\u001b[0m         \u001b[38;5;28;01mfor\u001b[39;00m batch_index \u001b[38;5;129;01min\u001b[39;00m \u001b[38;5;28mrange\u001b[39m(num_batches):\n\u001b[0;32m    160\u001b[0m             \u001b[38;5;66;03m# Learn on the pre-loaded data in the buffer.\u001b[39;00m\n\u001b[0;32m    161\u001b[0m             \u001b[38;5;66;03m# Note: For minibatch SGD, the data is an offset into\u001b[39;00m\n\u001b[0;32m    162\u001b[0m             \u001b[38;5;66;03m# the pre-loaded entire train batch.\u001b[39;00m\n\u001b[1;32m--> 163\u001b[0m             results \u001b[38;5;241m=\u001b[39m \u001b[43mpolicy\u001b[49m\u001b[38;5;241;43m.\u001b[39;49m\u001b[43mlearn_on_loaded_batch\u001b[49m\u001b[43m(\u001b[49m\n\u001b[0;32m    164\u001b[0m \u001b[43m                \u001b[49m\u001b[43mpermutation\u001b[49m\u001b[43m[\u001b[49m\u001b[43mbatch_index\u001b[49m\u001b[43m]\u001b[49m\u001b[43m \u001b[49m\u001b[38;5;241;43m*\u001b[39;49m\u001b[43m \u001b[49m\u001b[43mper_device_batch_size\u001b[49m\u001b[43m,\u001b[49m\u001b[43m \u001b[49m\u001b[43mbuffer_index\u001b[49m\u001b[38;5;241;43m=\u001b[39;49m\u001b[38;5;241;43m0\u001b[39;49m\n\u001b[0;32m    165\u001b[0m \u001b[43m            \u001b[49m\u001b[43m)\u001b[49m\n\u001b[0;32m    167\u001b[0m             learner_info_builder\u001b[38;5;241m.\u001b[39madd_learn_on_batch_results(results, policy_id)\n\u001b[0;32m    169\u001b[0m \u001b[38;5;66;03m# Tower reduce and finalize results.\u001b[39;00m\n",
      "File \u001b[1;32m~\\anaconda3\\envs\\GTRay2.4.0\\lib\\site-packages\\ray\\rllib\\policy\\torch_policy_v2.py:807\u001b[0m, in \u001b[0;36mTorchPolicyV2.learn_on_loaded_batch\u001b[1;34m(self, offset, buffer_index)\u001b[0m\n\u001b[0;32m    804\u001b[0m     batch_fetches[\u001b[38;5;124mf\u001b[39m\u001b[38;5;124m\"\u001b[39m\u001b[38;5;124mtower_\u001b[39m\u001b[38;5;132;01m{\u001b[39;00mi\u001b[38;5;132;01m}\u001b[39;00m\u001b[38;5;124m\"\u001b[39m] \u001b[38;5;241m=\u001b[39m {\u001b[38;5;124m\"\u001b[39m\u001b[38;5;124mcustom_metrics\u001b[39m\u001b[38;5;124m\"\u001b[39m: custom_metrics}\n\u001b[0;32m    806\u001b[0m \u001b[38;5;66;03m# Do the (maybe parallelized) gradient calculation step.\u001b[39;00m\n\u001b[1;32m--> 807\u001b[0m tower_outputs \u001b[38;5;241m=\u001b[39m \u001b[38;5;28;43mself\u001b[39;49m\u001b[38;5;241;43m.\u001b[39;49m\u001b[43m_multi_gpu_parallel_grad_calc\u001b[49m\u001b[43m(\u001b[49m\u001b[43mdevice_batches\u001b[49m\u001b[43m)\u001b[49m\n\u001b[0;32m    809\u001b[0m \u001b[38;5;66;03m# Mean-reduce gradients over GPU-towers (do this on CPU: self.device).\u001b[39;00m\n\u001b[0;32m    810\u001b[0m all_grads \u001b[38;5;241m=\u001b[39m []\n",
      "File \u001b[1;32m~\\anaconda3\\envs\\GTRay2.4.0\\lib\\site-packages\\ray\\rllib\\policy\\torch_policy_v2.py:1299\u001b[0m, in \u001b[0;36mTorchPolicyV2._multi_gpu_parallel_grad_calc\u001b[1;34m(self, sample_batches)\u001b[0m\n\u001b[0;32m   1295\u001b[0m \u001b[38;5;28;01mif\u001b[39;00m \u001b[38;5;28mlen\u001b[39m(\u001b[38;5;28mself\u001b[39m\u001b[38;5;241m.\u001b[39mdevices) \u001b[38;5;241m==\u001b[39m \u001b[38;5;241m1\u001b[39m \u001b[38;5;129;01mor\u001b[39;00m \u001b[38;5;28mself\u001b[39m\u001b[38;5;241m.\u001b[39mconfig[\u001b[38;5;124m\"\u001b[39m\u001b[38;5;124m_fake_gpus\u001b[39m\u001b[38;5;124m\"\u001b[39m]:\n\u001b[0;32m   1296\u001b[0m     \u001b[38;5;28;01mfor\u001b[39;00m shard_idx, (model, sample_batch, device) \u001b[38;5;129;01min\u001b[39;00m \u001b[38;5;28menumerate\u001b[39m(\n\u001b[0;32m   1297\u001b[0m         \u001b[38;5;28mzip\u001b[39m(\u001b[38;5;28mself\u001b[39m\u001b[38;5;241m.\u001b[39mmodel_gpu_towers, sample_batches, \u001b[38;5;28mself\u001b[39m\u001b[38;5;241m.\u001b[39mdevices)\n\u001b[0;32m   1298\u001b[0m     ):\n\u001b[1;32m-> 1299\u001b[0m         \u001b[43m_worker\u001b[49m\u001b[43m(\u001b[49m\u001b[43mshard_idx\u001b[49m\u001b[43m,\u001b[49m\u001b[43m \u001b[49m\u001b[43mmodel\u001b[49m\u001b[43m,\u001b[49m\u001b[43m \u001b[49m\u001b[43msample_batch\u001b[49m\u001b[43m,\u001b[49m\u001b[43m \u001b[49m\u001b[43mdevice\u001b[49m\u001b[43m)\u001b[49m\n\u001b[0;32m   1300\u001b[0m         \u001b[38;5;66;03m# Raise errors right away for better debugging.\u001b[39;00m\n\u001b[0;32m   1301\u001b[0m         last_result \u001b[38;5;241m=\u001b[39m results[\u001b[38;5;28mlen\u001b[39m(results) \u001b[38;5;241m-\u001b[39m \u001b[38;5;241m1\u001b[39m]\n",
      "File \u001b[1;32m~\\anaconda3\\envs\\GTRay2.4.0\\lib\\site-packages\\ray\\rllib\\policy\\torch_policy_v2.py:1218\u001b[0m, in \u001b[0;36mTorchPolicyV2._multi_gpu_parallel_grad_calc.<locals>._worker\u001b[1;34m(shard_idx, model, sample_batch, device)\u001b[0m\n\u001b[0;32m   1213\u001b[0m \u001b[38;5;28;01mtry\u001b[39;00m:\n\u001b[0;32m   1214\u001b[0m     \u001b[38;5;28;01mwith\u001b[39;00m NullContextManager() \u001b[38;5;28;01mif\u001b[39;00m device\u001b[38;5;241m.\u001b[39mtype \u001b[38;5;241m==\u001b[39m \u001b[38;5;124m\"\u001b[39m\u001b[38;5;124mcpu\u001b[39m\u001b[38;5;124m\"\u001b[39m \u001b[38;5;28;01melse\u001b[39;00m torch\u001b[38;5;241m.\u001b[39mcuda\u001b[38;5;241m.\u001b[39mdevice(  \u001b[38;5;66;03m# noqa: E501\u001b[39;00m\n\u001b[0;32m   1215\u001b[0m         device\n\u001b[0;32m   1216\u001b[0m     ):\n\u001b[0;32m   1217\u001b[0m         loss_out \u001b[38;5;241m=\u001b[39m force_list(\n\u001b[1;32m-> 1218\u001b[0m             \u001b[38;5;28;43mself\u001b[39;49m\u001b[38;5;241;43m.\u001b[39;49m\u001b[43mloss\u001b[49m\u001b[43m(\u001b[49m\u001b[43mmodel\u001b[49m\u001b[43m,\u001b[49m\u001b[43m \u001b[49m\u001b[38;5;28;43mself\u001b[39;49m\u001b[38;5;241;43m.\u001b[39;49m\u001b[43mdist_class\u001b[49m\u001b[43m,\u001b[49m\u001b[43m \u001b[49m\u001b[43msample_batch\u001b[49m\u001b[43m)\u001b[49m\n\u001b[0;32m   1219\u001b[0m         )\n\u001b[0;32m   1221\u001b[0m         \u001b[38;5;66;03m# Call Model's custom-loss with Policy loss outputs and\u001b[39;00m\n\u001b[0;32m   1222\u001b[0m         \u001b[38;5;66;03m# train_batch.\u001b[39;00m\n\u001b[0;32m   1223\u001b[0m         \u001b[38;5;28;01mif\u001b[39;00m \u001b[38;5;28mhasattr\u001b[39m(model, \u001b[38;5;124m\"\u001b[39m\u001b[38;5;124mcustom_loss\u001b[39m\u001b[38;5;124m\"\u001b[39m):\n",
      "File \u001b[1;32m~\\anaconda3\\envs\\GTRay2.4.0\\lib\\site-packages\\ray\\rllib\\algorithms\\ppo\\ppo_torch_policy.py:87\u001b[0m, in \u001b[0;36mPPOTorchPolicy.loss\u001b[1;34m(self, model, dist_class, train_batch)\u001b[0m\n\u001b[0;32m     69\u001b[0m \u001b[38;5;129m@override\u001b[39m(TorchPolicyV2)\n\u001b[0;32m     70\u001b[0m \u001b[38;5;28;01mdef\u001b[39;00m \u001b[38;5;21mloss\u001b[39m(\n\u001b[0;32m     71\u001b[0m     \u001b[38;5;28mself\u001b[39m,\n\u001b[1;32m   (...)\u001b[0m\n\u001b[0;32m     74\u001b[0m     train_batch: SampleBatch,\n\u001b[0;32m     75\u001b[0m ) \u001b[38;5;241m-\u001b[39m\u001b[38;5;241m>\u001b[39m Union[TensorType, List[TensorType]]:\n\u001b[0;32m     76\u001b[0m     \u001b[38;5;124;03m\"\"\"Compute loss for Proximal Policy Objective.\u001b[39;00m\n\u001b[0;32m     77\u001b[0m \n\u001b[0;32m     78\u001b[0m \u001b[38;5;124;03m    Args:\u001b[39;00m\n\u001b[1;32m   (...)\u001b[0m\n\u001b[0;32m     84\u001b[0m \u001b[38;5;124;03m        The PPO loss tensor given the input batch.\u001b[39;00m\n\u001b[0;32m     85\u001b[0m \u001b[38;5;124;03m    \"\"\"\u001b[39;00m\n\u001b[1;32m---> 87\u001b[0m     logits, state \u001b[38;5;241m=\u001b[39m \u001b[43mmodel\u001b[49m\u001b[43m(\u001b[49m\u001b[43mtrain_batch\u001b[49m\u001b[43m)\u001b[49m\n\u001b[0;32m     88\u001b[0m     curr_action_dist \u001b[38;5;241m=\u001b[39m dist_class(logits, model)\n\u001b[0;32m     90\u001b[0m     \u001b[38;5;66;03m# RNN case: Mask away 0-padded chunks at end of time axis.\u001b[39;00m\n",
      "File \u001b[1;32m~\\anaconda3\\envs\\GTRay2.4.0\\lib\\site-packages\\ray\\rllib\\models\\modelv2.py:247\u001b[0m, in \u001b[0;36mModelV2.__call__\u001b[1;34m(self, input_dict, state, seq_lens)\u001b[0m\n\u001b[0;32m    242\u001b[0m     restored[\u001b[38;5;124m\"\u001b[39m\u001b[38;5;124mobs_flat\u001b[39m\u001b[38;5;124m\"\u001b[39m] \u001b[38;5;241m=\u001b[39m input_dict[\u001b[38;5;124m\"\u001b[39m\u001b[38;5;124mobs\u001b[39m\u001b[38;5;124m\"\u001b[39m]\n\u001b[0;32m    243\u001b[0m \u001b[38;5;66;03m# Input to this Model went through a Preprocessor.\u001b[39;00m\n\u001b[0;32m    244\u001b[0m \u001b[38;5;66;03m# Generate extra keys: \"obs_flat\" (vs \"obs\", which will hold the\u001b[39;00m\n\u001b[0;32m    245\u001b[0m \u001b[38;5;66;03m# original obs).\u001b[39;00m\n\u001b[0;32m    246\u001b[0m \u001b[38;5;28;01melse\u001b[39;00m:\n\u001b[1;32m--> 247\u001b[0m     restored[\u001b[38;5;124m\"\u001b[39m\u001b[38;5;124mobs\u001b[39m\u001b[38;5;124m\"\u001b[39m] \u001b[38;5;241m=\u001b[39m \u001b[43mrestore_original_dimensions\u001b[49m\u001b[43m(\u001b[49m\n\u001b[0;32m    248\u001b[0m \u001b[43m        \u001b[49m\u001b[43minput_dict\u001b[49m\u001b[43m[\u001b[49m\u001b[38;5;124;43m\"\u001b[39;49m\u001b[38;5;124;43mobs\u001b[39;49m\u001b[38;5;124;43m\"\u001b[39;49m\u001b[43m]\u001b[49m\u001b[43m,\u001b[49m\u001b[43m \u001b[49m\u001b[38;5;28;43mself\u001b[39;49m\u001b[38;5;241;43m.\u001b[39;49m\u001b[43mobs_space\u001b[49m\u001b[43m,\u001b[49m\u001b[43m \u001b[49m\u001b[38;5;28;43mself\u001b[39;49m\u001b[38;5;241;43m.\u001b[39;49m\u001b[43mframework\u001b[49m\n\u001b[0;32m    249\u001b[0m \u001b[43m    \u001b[49m\u001b[43m)\u001b[49m\n\u001b[0;32m    250\u001b[0m     \u001b[38;5;28;01mtry\u001b[39;00m:\n\u001b[0;32m    251\u001b[0m         \u001b[38;5;28;01mif\u001b[39;00m \u001b[38;5;28mlen\u001b[39m(input_dict[\u001b[38;5;124m\"\u001b[39m\u001b[38;5;124mobs\u001b[39m\u001b[38;5;124m\"\u001b[39m]\u001b[38;5;241m.\u001b[39mshape) \u001b[38;5;241m>\u001b[39m \u001b[38;5;241m2\u001b[39m:\n",
      "File \u001b[1;32m~\\anaconda3\\envs\\GTRay2.4.0\\lib\\site-packages\\ray\\rllib\\models\\modelv2.py:411\u001b[0m, in \u001b[0;36mrestore_original_dimensions\u001b[1;34m(obs, obs_space, tensorlib)\u001b[0m\n\u001b[0;32m    409\u001b[0m     tensorlib \u001b[38;5;241m=\u001b[39m np\n\u001b[0;32m    410\u001b[0m original_space \u001b[38;5;241m=\u001b[39m \u001b[38;5;28mgetattr\u001b[39m(obs_space, \u001b[38;5;124m\"\u001b[39m\u001b[38;5;124moriginal_space\u001b[39m\u001b[38;5;124m\"\u001b[39m, obs_space)\n\u001b[1;32m--> 411\u001b[0m \u001b[38;5;28;01mreturn\u001b[39;00m \u001b[43m_unpack_obs\u001b[49m\u001b[43m(\u001b[49m\u001b[43mobs\u001b[49m\u001b[43m,\u001b[49m\u001b[43m \u001b[49m\u001b[43moriginal_space\u001b[49m\u001b[43m,\u001b[49m\u001b[43m \u001b[49m\u001b[43mtensorlib\u001b[49m\u001b[38;5;241;43m=\u001b[39;49m\u001b[43mtensorlib\u001b[49m\u001b[43m)\u001b[49m\n",
      "File \u001b[1;32m~\\anaconda3\\envs\\GTRay2.4.0\\lib\\site-packages\\ray\\rllib\\models\\modelv2.py:476\u001b[0m, in \u001b[0;36m_unpack_obs\u001b[1;34m(obs, space, tensorlib)\u001b[0m\n\u001b[0;32m    472\u001b[0m         obs_slice \u001b[38;5;241m=\u001b[39m obs[\u001b[38;5;241m.\u001b[39m\u001b[38;5;241m.\u001b[39m\u001b[38;5;241m.\u001b[39m, offset : offset \u001b[38;5;241m+\u001b[39m p\u001b[38;5;241m.\u001b[39msize]\n\u001b[0;32m    473\u001b[0m         offset \u001b[38;5;241m+\u001b[39m\u001b[38;5;241m=\u001b[39m p\u001b[38;5;241m.\u001b[39msize\n\u001b[0;32m    474\u001b[0m         u\u001b[38;5;241m.\u001b[39mappend(\n\u001b[0;32m    475\u001b[0m             _unpack_obs(\n\u001b[1;32m--> 476\u001b[0m                 \u001b[43mtensorlib\u001b[49m\u001b[38;5;241;43m.\u001b[39;49m\u001b[43mreshape\u001b[49m\u001b[43m(\u001b[49m\u001b[43mobs_slice\u001b[49m\u001b[43m,\u001b[49m\u001b[43m \u001b[49m\u001b[43mbatch_dims\u001b[49m\u001b[43m \u001b[49m\u001b[38;5;241;43m+\u001b[39;49m\u001b[43m \u001b[49m\u001b[38;5;28;43mlist\u001b[39;49m\u001b[43m(\u001b[49m\u001b[43mp\u001b[49m\u001b[38;5;241;43m.\u001b[39;49m\u001b[43mshape\u001b[49m\u001b[43m)\u001b[49m\u001b[43m)\u001b[49m,\n\u001b[0;32m    477\u001b[0m                 v,\n\u001b[0;32m    478\u001b[0m                 tensorlib\u001b[38;5;241m=\u001b[39mtensorlib,\n\u001b[0;32m    479\u001b[0m             )\n\u001b[0;32m    480\u001b[0m         )\n\u001b[0;32m    481\u001b[0m \u001b[38;5;28;01melif\u001b[39;00m \u001b[38;5;28misinstance\u001b[39m(space, gym\u001b[38;5;241m.\u001b[39mspaces\u001b[38;5;241m.\u001b[39mDict):\n\u001b[0;32m    482\u001b[0m     \u001b[38;5;28;01massert\u001b[39;00m \u001b[38;5;28mlen\u001b[39m(prep\u001b[38;5;241m.\u001b[39mpreprocessors) \u001b[38;5;241m==\u001b[39m \u001b[38;5;28mlen\u001b[39m(space\u001b[38;5;241m.\u001b[39mspaces), \u001b[38;5;28mlen\u001b[39m(\n\u001b[0;32m    483\u001b[0m         prep\u001b[38;5;241m.\u001b[39mpreprocessors\n\u001b[0;32m    484\u001b[0m     ) \u001b[38;5;241m==\u001b[39m \u001b[38;5;28mlen\u001b[39m(space\u001b[38;5;241m.\u001b[39mspaces)\n",
      "\u001b[1;31mKeyboardInterrupt\u001b[0m: "
     ]
    }
   ],
   "source": [
    "N = 50000\n",
    "\n",
    "for n in range(N):\n",
    "    result = algo.train()\n",
    "    print(\"Loop: \", n)\n",
    "    if n % 10 == 0:\n",
    "        print(\"Saved\", n)\n",
    "        algo.save()\n",
    "        \n",
    "algo.save()\n"
   ]
  },
  {
   "cell_type": "markdown",
   "metadata": {},
   "source": [
    "#Works!"
   ]
  },
  {
   "cell_type": "code",
   "execution_count": null,
   "metadata": {},
   "outputs": [],
   "source": [
    "from ray.rllib.algorithms.algorithm import Algorithm\n",
    "algo = Algorithm.from_checkpoint(\"C:/Users/nadir/ray_results/PPO_gt-rtgym-env-v1_2023-10-15_16-55-415yyb54u3/checkpoint_001221\")"
   ]
  },
  {
   "cell_type": "code",
   "execution_count": null,
   "metadata": {},
   "outputs": [],
   "source": [
    "result = algo.train() #single try"
   ]
  },
  {
   "cell_type": "code",
   "execution_count": null,
   "metadata": {},
   "outputs": [],
   "source": [
    "N = 50000\n",
    "\n",
    "for n in range(N):\n",
    "    result = algo.train()\n",
    "    print(\"Loop: \", n)\n",
    "    if n % 10 == 0:\n",
    "        print(\"Saved\", n)\n",
    "        algo.save()\n",
    "        \n",
    "algo.save()\n"
   ]
  }
 ],
 "metadata": {
  "kernelspec": {
   "display_name": "Python 3",
   "language": "python",
   "name": "python3"
  },
  "language_info": {
   "codemirror_mode": {
    "name": "ipython",
    "version": 3
   },
   "file_extension": ".py",
   "mimetype": "text/x-python",
   "name": "python",
   "nbconvert_exporter": "python",
   "pygments_lexer": "ipython3",
   "version": "3.9.9"
  }
 },
 "nbformat": 4,
 "nbformat_minor": 2
}

{
 "cells": [
  {
   "attachments": {},
   "cell_type": "markdown",
   "metadata": {},
   "source": [
    "# Initial AI Agent ImpalaC w CNN (working) MR2 HS Disc"
   ]
  },
  {
   "cell_type": "code",
   "execution_count": 1,
   "metadata": {},
   "outputs": [
    {
     "name": "stdout",
     "output_type": "stream",
     "text": [
      "GPU is available\n"
     ]
    }
   ],
   "source": [
    "import torch\n",
    "\n",
    "if torch.cuda.is_available():\n",
    "    print(\"GPU is available\")\n",
    "else:\n",
    "    print(\"GPU is not available\")"
   ]
  },
  {
   "cell_type": "code",
   "execution_count": 2,
   "metadata": {},
   "outputs": [],
   "source": [
    "from myRTClass import MyGranTurismoRTGYM, DEFAULT_CONFIG_DICT\n",
    "import numpy as np\n",
    "import gymnasium\n",
    "from time import sleep\n",
    "\n",
    "my_config = DEFAULT_CONFIG_DICT\n",
    "my_config[\"interface\"] = MyGranTurismoRTGYM\n",
    "my_config[\"time_step_duration\"] = 0.1\n",
    "my_config[\"start_obs_capture\"] = 0.1\n",
    "my_config[\"time_step_timeout_factor\"] = 4.0\n",
    "my_config[\"ep_max_length\"] = 2000\n",
    "my_config[\"act_buf_len\"] = 4\n",
    "my_config[\"reset_act_buf\"] = False\n",
    "my_config[\"benchmark\"] = False\n",
    "my_config[\"benchmark_polyak\"] = 0.2\n",
    "\n",
    "my_config[\"interface_kwargs\"] = {\n",
    "  'debugFlag': False, # do not use render() while True\n",
    "  'discreteAccel' : True,\n",
    "  'accelAndBrake' : False,\n",
    "  'discSteer' : True,\n",
    "  'contAccelOnly' : False,\n",
    "  'discAccelOnly' : False,\n",
    "  'modelMode': 2,\n",
    "  'agent' : 'APPO',\n",
    "  #  [42, 42, K], [84, 84, K], [10, 10, K], [240, 320, K] and  [480, 640, K]\n",
    "  'imageWidth' : 42, # there is a default Cov layer for APPO with 240 x 320\n",
    "  'imageHeight' : 42,\n",
    "  'trackChoice' : 1, # 1 is High Speed Ring, 2 is 0-400m, \n",
    "}"
   ]
  },
  {
   "cell_type": "code",
   "execution_count": 3,
   "metadata": {},
   "outputs": [],
   "source": [
    "def env_creator(env_config):\n",
    "    env = gymnasium.make(\"real-time-gym-v1\", config=env_config)\n",
    "    return env  # return an env instance\n",
    "\n",
    "from ray.tune.registry import register_env\n",
    "register_env(\"gt-rtgym-env-v1\", lambda config: env_creator(my_config)) # better way"
   ]
  },
  {
   "cell_type": "code",
   "execution_count": 4,
   "metadata": {},
   "outputs": [
    {
     "name": "stderr",
     "output_type": "stream",
     "text": [
      "2023-10-07 16:39:01,517\tINFO worker.py:1612 -- Started a local Ray instance. View the dashboard at \u001b[1m\u001b[32m127.0.0.1:8265 \u001b[39m\u001b[22m\n"
     ]
    },
    {
     "data": {
      "application/vnd.jupyter.widget-view+json": {
       "model_id": "943af4aec4c64111bddc53b46fe254b5",
       "version_major": 2,
       "version_minor": 0
      },
      "text/html": [
       "<div class=\"lm-Widget p-Widget lm-Panel p-Panel jp-Cell-outputWrapper\">\n",
       "    <div style=\"margin-left: 50px;display: flex;flex-direction: row;align-items: center\">\n",
       "        <div class=\"jp-RenderedHTMLCommon\" style=\"display: flex; flex-direction: row;\">\n",
       "  <svg viewBox=\"0 0 567 224\" fill=\"none\" xmlns=\"http://www.w3.org/2000/svg\" style=\"height: 3em;\">\n",
       "    <g clip-path=\"url(#clip0_4338_178347)\">\n",
       "        <path d=\"M341.29 165.561H355.29L330.13 129.051C345.63 123.991 354.21 112.051 354.21 94.2307C354.21 71.3707 338.72 58.1807 311.88 58.1807H271V165.561H283.27V131.661H311.8C314.25 131.661 316.71 131.501 319.01 131.351L341.25 165.561H341.29ZM283.29 119.851V70.0007H311.82C331.3 70.0007 342.34 78.2907 342.34 94.5507C342.34 111.271 331.34 119.861 311.82 119.861L283.29 119.851ZM451.4 138.411L463.4 165.561H476.74L428.74 58.1807H416L367.83 165.561H380.83L392.83 138.411H451.4ZM446.19 126.601H398L422 72.1407L446.24 126.601H446.19ZM526.11 128.741L566.91 58.1807H554.35L519.99 114.181L485.17 58.1807H472.44L514.01 129.181V165.541H526.13V128.741H526.11Z\" fill=\"var(--jp-ui-font-color0)\"/>\n",
       "        <path d=\"M82.35 104.44C84.0187 97.8827 87.8248 92.0678 93.1671 87.9146C98.5094 83.7614 105.083 81.5067 111.85 81.5067C118.617 81.5067 125.191 83.7614 130.533 87.9146C135.875 92.0678 139.681 97.8827 141.35 104.44H163.75C164.476 101.562 165.622 98.8057 167.15 96.2605L127.45 56.5605C121.071 60.3522 113.526 61.6823 106.235 60.3005C98.9443 58.9187 92.4094 54.9203 87.8602 49.0574C83.3109 43.1946 81.0609 35.8714 81.5332 28.4656C82.0056 21.0599 85.1679 14.0819 90.4252 8.8446C95.6824 3.60726 102.672 0.471508 110.08 0.0272655C117.487 -0.416977 124.802 1.86091 130.647 6.4324C136.493 11.0039 140.467 17.5539 141.821 24.8501C143.175 32.1463 141.816 39.6859 138 46.0505L177.69 85.7505C182.31 82.9877 187.58 81.4995 192.962 81.4375C198.345 81.3755 203.648 82.742 208.33 85.3976C213.012 88.0532 216.907 91.9029 219.616 96.5544C222.326 101.206 223.753 106.492 223.753 111.875C223.753 117.258 222.326 122.545 219.616 127.197C216.907 131.848 213.012 135.698 208.33 138.353C203.648 141.009 198.345 142.375 192.962 142.313C187.58 142.251 182.31 140.763 177.69 138L138 177.7C141.808 184.071 143.155 191.614 141.79 198.91C140.424 206.205 136.44 212.75 130.585 217.313C124.731 221.875 117.412 224.141 110.004 223.683C102.596 223.226 95.6103 220.077 90.3621 214.828C85.1139 209.58 81.9647 202.595 81.5072 195.187C81.0497 187.779 83.3154 180.459 87.878 174.605C92.4405 168.751 98.9853 164.766 106.281 163.401C113.576 162.035 121.119 163.383 127.49 167.19L167.19 127.49C165.664 124.941 164.518 122.182 163.79 119.3H141.39C139.721 125.858 135.915 131.673 130.573 135.826C125.231 139.98 118.657 142.234 111.89 142.234C105.123 142.234 98.5494 139.98 93.2071 135.826C87.8648 131.673 84.0587 125.858 82.39 119.3H60C58.1878 126.495 53.8086 132.78 47.6863 136.971C41.5641 141.163 34.1211 142.972 26.7579 142.059C19.3947 141.146 12.6191 137.574 7.70605 132.014C2.79302 126.454 0.0813599 119.29 0.0813599 111.87C0.0813599 104.451 2.79302 97.2871 7.70605 91.7272C12.6191 86.1673 19.3947 82.5947 26.7579 81.6817C34.1211 80.7686 41.5641 82.5781 47.6863 86.7696C53.8086 90.9611 58.1878 97.2456 60 104.44H82.35ZM100.86 204.32C103.407 206.868 106.759 208.453 110.345 208.806C113.93 209.159 117.527 208.258 120.522 206.256C123.517 204.254 125.725 201.276 126.771 197.828C127.816 194.38 127.633 190.677 126.253 187.349C124.874 184.021 122.383 181.274 119.205 179.577C116.027 177.88 112.359 177.337 108.826 178.042C105.293 178.746 102.113 180.654 99.8291 183.44C97.5451 186.226 96.2979 189.718 96.3 193.32C96.2985 195.364 96.7006 197.388 97.4831 199.275C98.2656 201.163 99.4132 202.877 100.86 204.32ZM204.32 122.88C206.868 120.333 208.453 116.981 208.806 113.396C209.159 109.811 208.258 106.214 206.256 103.219C204.254 100.223 201.275 98.0151 197.827 96.97C194.38 95.9249 190.676 96.1077 187.348 97.4873C184.02 98.8669 181.274 101.358 179.577 104.536C177.879 107.714 177.337 111.382 178.041 114.915C178.746 118.448 180.653 121.627 183.439 123.911C186.226 126.195 189.717 127.443 193.32 127.44C195.364 127.443 197.388 127.042 199.275 126.259C201.163 125.476 202.878 124.328 204.32 122.88ZM122.88 19.4205C120.333 16.8729 116.981 15.2876 113.395 14.9347C109.81 14.5817 106.213 15.483 103.218 17.4849C100.223 19.4868 98.0146 22.4654 96.9696 25.9131C95.9245 29.3608 96.1073 33.0642 97.4869 36.3922C98.8665 39.7202 101.358 42.4668 104.535 44.1639C107.713 45.861 111.381 46.4036 114.914 45.6992C118.447 44.9949 121.627 43.0871 123.911 40.301C126.195 37.515 127.442 34.0231 127.44 30.4205C127.44 28.3772 127.038 26.3539 126.255 24.4664C125.473 22.5788 124.326 20.8642 122.88 19.4205ZM19.42 100.86C16.8725 103.408 15.2872 106.76 14.9342 110.345C14.5813 113.93 15.4826 117.527 17.4844 120.522C19.4863 123.518 22.4649 125.726 25.9127 126.771C29.3604 127.816 33.0638 127.633 36.3918 126.254C39.7198 124.874 42.4664 122.383 44.1635 119.205C45.8606 116.027 46.4032 112.359 45.6988 108.826C44.9944 105.293 43.0866 102.114 40.3006 99.8296C37.5145 97.5455 34.0227 96.2983 30.42 96.3005C26.2938 96.3018 22.337 97.9421 19.42 100.86ZM100.86 100.86C98.3125 103.408 96.7272 106.76 96.3742 110.345C96.0213 113.93 96.9226 117.527 98.9244 120.522C100.926 123.518 103.905 125.726 107.353 126.771C110.8 127.816 114.504 127.633 117.832 126.254C121.16 124.874 123.906 122.383 125.604 119.205C127.301 116.027 127.843 112.359 127.139 108.826C126.434 105.293 124.527 102.114 121.741 99.8296C118.955 97.5455 115.463 96.2983 111.86 96.3005C109.817 96.299 107.793 96.701 105.905 97.4835C104.018 98.2661 102.303 99.4136 100.86 100.86Z\" fill=\"#00AEEF\"/>\n",
       "    </g>\n",
       "    <defs>\n",
       "        <clipPath id=\"clip0_4338_178347\">\n",
       "            <rect width=\"566.93\" height=\"223.75\" fill=\"white\"/>\n",
       "        </clipPath>\n",
       "    </defs>\n",
       "  </svg>\n",
       "</div>\n",
       "\n",
       "        <table class=\"jp-RenderedHTMLCommon\" style=\"border-collapse: collapse;color: var(--jp-ui-font-color1);font-size: var(--jp-ui-font-size1);\">\n",
       "    <tr>\n",
       "        <td style=\"text-align: left\"><b>Python version:</b></td>\n",
       "        <td style=\"text-align: left\"><b>3.10.13</b></td>\n",
       "    </tr>\n",
       "    <tr>\n",
       "        <td style=\"text-align: left\"><b>Ray version:</b></td>\n",
       "        <td style=\"text-align: left\"><b>2.6.3</b></td>\n",
       "    </tr>\n",
       "    <tr>\n",
       "    <td style=\"text-align: left\"><b>Dashboard:</b></td>\n",
       "    <td style=\"text-align: left\"><b><a href=\"http://127.0.0.1:8265\" target=\"_blank\">http://127.0.0.1:8265</a></b></td>\n",
       "</tr>\n",
       "\n",
       "</table>\n",
       "\n",
       "    </div>\n",
       "</div>\n"
      ],
      "text/plain": [
       "RayContext(dashboard_url='127.0.0.1:8265', python_version='3.10.13', ray_version='2.6.3', ray_commit='{{RAY_COMMIT_SHA}}', protocol_version=None)"
      ]
     },
     "execution_count": 4,
     "metadata": {},
     "output_type": "execute_result"
    }
   ],
   "source": [
    "import ray\n",
    "ray.shutdown()\n",
    "ray.init()"
   ]
  },
  {
   "cell_type": "code",
   "execution_count": 5,
   "metadata": {},
   "outputs": [
    {
     "name": "stderr",
     "output_type": "stream",
     "text": [
      "2023-10-07 16:39:04,531\tWARNING deprecation.py:50 -- DeprecationWarning: `DirectStepOptimizer` has been deprecated. This will raise an error in the future!\n",
      "c:\\Users\\nadir\\anaconda3\\envs\\GTRay2.6.3_torch_tb\\lib\\site-packages\\ray\\rllib\\algorithms\\algorithm.py:484: RayDeprecationWarning: This API is deprecated and may be removed in future Ray releases. You could suppress this warning by setting env variable PYTHONWARNINGS=\"ignore::DeprecationWarning\"\n",
      "`UnifiedLogger` will be removed in Ray 2.7.\n",
      "  return UnifiedLogger(config, logdir, loggers=None)\n",
      "c:\\Users\\nadir\\anaconda3\\envs\\GTRay2.6.3_torch_tb\\lib\\site-packages\\ray\\tune\\logger\\unified.py:53: RayDeprecationWarning: This API is deprecated and may be removed in future Ray releases. You could suppress this warning by setting env variable PYTHONWARNINGS=\"ignore::DeprecationWarning\"\n",
      "The `JsonLogger interface is deprecated in favor of the `ray.tune.json.JsonLoggerCallback` interface and will be removed in Ray 2.7.\n",
      "  self._loggers.append(cls(self.config, self.logdir, self.trial))\n",
      "c:\\Users\\nadir\\anaconda3\\envs\\GTRay2.6.3_torch_tb\\lib\\site-packages\\ray\\tune\\logger\\unified.py:53: RayDeprecationWarning: This API is deprecated and may be removed in future Ray releases. You could suppress this warning by setting env variable PYTHONWARNINGS=\"ignore::DeprecationWarning\"\n",
      "The `CSVLogger interface is deprecated in favor of the `ray.tune.csv.CSVLoggerCallback` interface and will be removed in Ray 2.7.\n",
      "  self._loggers.append(cls(self.config, self.logdir, self.trial))\n",
      "c:\\Users\\nadir\\anaconda3\\envs\\GTRay2.6.3_torch_tb\\lib\\site-packages\\ray\\tune\\logger\\unified.py:53: RayDeprecationWarning: This API is deprecated and may be removed in future Ray releases. You could suppress this warning by setting env variable PYTHONWARNINGS=\"ignore::DeprecationWarning\"\n",
      "The `TBXLogger interface is deprecated in favor of the `ray.tune.tensorboardx.TBXLoggerCallback` interface and will be removed in Ray 2.7.\n",
      "  self._loggers.append(cls(self.config, self.logdir, self.trial))\n",
      "\u001b[2m\u001b[36m(pid=11544)\u001b[0m DeprecationWarning: `DirectStepOptimizer` has been deprecated. This will raise an error in the future!\n"
     ]
    },
    {
     "name": "stdout",
     "output_type": "stream",
     "text": [
      "\u001b[2m\u001b[36m(RolloutWorker pid=11544)\u001b[0m GT Real Time instantiated\n",
      "\u001b[2m\u001b[36m(RolloutWorker pid=11544)\u001b[0m GT AI Server instantiated for rtgym\n",
      "\u001b[2m\u001b[36m(RolloutWorker pid=11544)\u001b[0m starting up on localhost port 9999\n",
      "\u001b[2m\u001b[36m(RolloutWorker pid=11544)\u001b[0m Waiting for a connection\n"
     ]
    },
    {
     "name": "stderr",
     "output_type": "stream",
     "text": [
      "\u001b[2m\u001b[36m(RolloutWorker pid=11544)\u001b[0m 2023-10-07 16:39:10,255\tWARNING deprecation.py:50 -- DeprecationWarning: `LearningRateSchedule` has been deprecated. This will raise an error in the future!\n",
      "\u001b[2m\u001b[36m(RolloutWorker pid=11544)\u001b[0m 2023-10-07 16:39:10,255\tWARNING deprecation.py:50 -- DeprecationWarning: `EntropyCoeffSchedule` has been deprecated. This will raise an error in the future!\n",
      "\u001b[2m\u001b[36m(RolloutWorker pid=11544)\u001b[0m 2023-10-07 16:39:10,259\tWARNING deprecation.py:50 -- DeprecationWarning: `ray.rllib.models.torch.complex_input_net.ComplexInputNetwork` has been deprecated. This will raise an error in the future!\n",
      "\u001b[2m\u001b[36m(RolloutWorker pid=11544)\u001b[0m 2023-10-07 16:39:10,259\tWARNING deprecation.py:50 -- DeprecationWarning: `ray.rllib.models.torch.torch_modelv2.TorchModelV2` has been deprecated. Use `ray.rllib.core.rl_module.rl_module.RLModule` instead. This will raise an error in the future!\n",
      "\u001b[2m\u001b[36m(RolloutWorker pid=11544)\u001b[0m 2023-10-07 16:39:10,260\tWARNING deprecation.py:50 -- DeprecationWarning: `ray.rllib.models.torch.fcnet.FullyConnectedNetwork` has been deprecated. This will raise an error in the future!\n",
      "\u001b[2m\u001b[36m(RolloutWorker pid=11544)\u001b[0m 2023-10-07 16:39:10,398\tWARNING deprecation.py:50 -- DeprecationWarning: `ray.rllib.models.torch.visionnet.VisionNetwork` has been deprecated. This will raise an error in the future!\n",
      "\u001b[2m\u001b[36m(RolloutWorker pid=11544)\u001b[0m 2023-10-07 16:39:10,398\tWARNING deprecation.py:50 -- DeprecationWarning: `get_filter_config` has been deprecated. This will raise an error in the future!\n",
      "2023-10-07 16:39:10,455\tERROR actor_manager.py:500 -- Ray error, taking actor 1 out of service. The actor died because of an error raised in its creation task, \u001b[36mray::RolloutWorker.__init__()\u001b[39m (pid=11544, ip=127.0.0.1, actor_id=4d5ae73b4af76f1020ac47d601000000, repr=<ray.rllib.evaluation.rollout_worker.RolloutWorker object at 0x000002BAC86DCB80>)\n",
      "  File \"python\\ray\\_raylet.pyx\", line 1424, in ray._raylet.execute_task\n",
      "  File \"python\\ray\\_raylet.pyx\", line 1364, in ray._raylet.execute_task.function_executor\n",
      "  File \"c:\\Users\\nadir\\anaconda3\\envs\\GTRay2.6.3_torch_tb\\lib\\site-packages\\ray\\_private\\function_manager.py\", line 726, in actor_method_executor\n",
      "    return method(__ray_actor, *args, **kwargs)\n",
      "  File \"c:\\Users\\nadir\\anaconda3\\envs\\GTRay2.6.3_torch_tb\\lib\\site-packages\\ray\\util\\tracing\\tracing_helper.py\", line 464, in _resume_span\n",
      "    return method(self, *_args, **_kwargs)\n",
      "  File \"c:\\Users\\nadir\\anaconda3\\envs\\GTRay2.6.3_torch_tb\\lib\\site-packages\\ray\\rllib\\evaluation\\rollout_worker.py\", line 525, in __init__\n",
      "    self._update_policy_map(policy_dict=self.policy_dict)\n",
      "  File \"c:\\Users\\nadir\\anaconda3\\envs\\GTRay2.6.3_torch_tb\\lib\\site-packages\\ray\\util\\tracing\\tracing_helper.py\", line 464, in _resume_span\n",
      "    return method(self, *_args, **_kwargs)\n",
      "  File \"c:\\Users\\nadir\\anaconda3\\envs\\GTRay2.6.3_torch_tb\\lib\\site-packages\\ray\\rllib\\evaluation\\rollout_worker.py\", line 1727, in _update_policy_map\n",
      "    self._build_policy_map(\n",
      "  File \"c:\\Users\\nadir\\anaconda3\\envs\\GTRay2.6.3_torch_tb\\lib\\site-packages\\ray\\util\\tracing\\tracing_helper.py\", line 464, in _resume_span\n",
      "    return method(self, *_args, **_kwargs)\n",
      "  File \"c:\\Users\\nadir\\anaconda3\\envs\\GTRay2.6.3_torch_tb\\lib\\site-packages\\ray\\rllib\\evaluation\\rollout_worker.py\", line 1838, in _build_policy_map\n",
      "    new_policy = create_policy_for_framework(\n",
      "  File \"c:\\Users\\nadir\\anaconda3\\envs\\GTRay2.6.3_torch_tb\\lib\\site-packages\\ray\\rllib\\utils\\policy.py\", line 142, in create_policy_for_framework\n",
      "    return policy_class(observation_space, action_space, merged_config)\n",
      "  File \"c:\\Users\\nadir\\anaconda3\\envs\\GTRay2.6.3_torch_tb\\lib\\site-packages\\ray\\rllib\\algorithms\\impala\\impala_torch_policy.py\", line 217, in __init__\n",
      "    TorchPolicyV2.__init__(\n",
      "  File \"c:\\Users\\nadir\\anaconda3\\envs\\GTRay2.6.3_torch_tb\\lib\\site-packages\\ray\\rllib\\policy\\torch_policy_v2.py\", line 96, in __init__\n",
      "    model, dist_class = self._init_model_and_dist_class()\n",
      "  File \"c:\\Users\\nadir\\anaconda3\\envs\\GTRay2.6.3_torch_tb\\lib\\site-packages\\ray\\rllib\\policy\\torch_policy_v2.py\", line 526, in _init_model_and_dist_class\n",
      "    model = ModelCatalog.get_model_v2(\n",
      "  File \"c:\\Users\\nadir\\anaconda3\\envs\\GTRay2.6.3_torch_tb\\lib\\site-packages\\ray\\rllib\\models\\catalog.py\", line 726, in get_model_v2\n",
      "    return wrapper(\n",
      "  File \"c:\\Users\\nadir\\anaconda3\\envs\\GTRay2.6.3_torch_tb\\lib\\site-packages\\ray\\rllib\\models\\torch\\complex_input_net.py\", line 86, in __init__\n",
      "    self.cnns[i] = ModelCatalog.get_model_v2(\n",
      "  File \"c:\\Users\\nadir\\anaconda3\\envs\\GTRay2.6.3_torch_tb\\lib\\site-packages\\ray\\rllib\\models\\catalog.py\", line 726, in get_model_v2\n",
      "    return wrapper(\n",
      "  File \"c:\\Users\\nadir\\anaconda3\\envs\\GTRay2.6.3_torch_tb\\lib\\site-packages\\ray\\rllib\\models\\torch\\visionnet.py\", line 184, in __init__\n",
      "    dummy_out = self._convs(dummy_in)\n",
      "  File \"c:\\Users\\nadir\\anaconda3\\envs\\GTRay2.6.3_torch_tb\\lib\\site-packages\\torch\\nn\\modules\\module.py\", line 1501, in _call_impl\n",
      "    return forward_call(*args, **kwargs)\n",
      "  File \"c:\\Users\\nadir\\anaconda3\\envs\\GTRay2.6.3_torch_tb\\lib\\site-packages\\torch\\nn\\modules\\container.py\", line 217, in forward\n",
      "    input = module(input)\n",
      "  File \"c:\\Users\\nadir\\anaconda3\\envs\\GTRay2.6.3_torch_tb\\lib\\site-packages\\torch\\nn\\modules\\module.py\", line 1501, in _call_impl\n",
      "    return forward_call(*args, **kwargs)\n",
      "  File \"c:\\Users\\nadir\\anaconda3\\envs\\GTRay2.6.3_torch_tb\\lib\\site-packages\\ray\\rllib\\models\\torch\\misc.py\", line 252, in forward\n",
      "    return self._model(x)\n",
      "  File \"c:\\Users\\nadir\\anaconda3\\envs\\GTRay2.6.3_torch_tb\\lib\\site-packages\\torch\\nn\\modules\\module.py\", line 1501, in _call_impl\n",
      "    return forward_call(*args, **kwargs)\n",
      "  File \"c:\\Users\\nadir\\anaconda3\\envs\\GTRay2.6.3_torch_tb\\lib\\site-packages\\torch\\nn\\modules\\container.py\", line 217, in forward\n",
      "    input = module(input)\n",
      "  File \"c:\\Users\\nadir\\anaconda3\\envs\\GTRay2.6.3_torch_tb\\lib\\site-packages\\torch\\nn\\modules\\module.py\", line 1501, in _call_impl\n",
      "    return forward_call(*args, **kwargs)\n",
      "  File \"c:\\Users\\nadir\\anaconda3\\envs\\GTRay2.6.3_torch_tb\\lib\\site-packages\\torch\\nn\\modules\\conv.py\", line 463, in forward\n",
      "    return self._conv_forward(input, self.weight, self.bias)\n",
      "  File \"c:\\Users\\nadir\\anaconda3\\envs\\GTRay2.6.3_torch_tb\\lib\\site-packages\\torch\\nn\\modules\\conv.py\", line 459, in _conv_forward\n",
      "    return F.conv2d(input, weight, bias, self.stride,\n",
      "RuntimeError: Calculated padded input size per channel: (1 x 11). Kernel size: (11 x 11). Kernel size can't be greater than actual input size\n"
     ]
    },
    {
     "name": "stdout",
     "output_type": "stream",
     "text": [
      "\u001b[2m\u001b[36m(RolloutWorker pid=11544)\u001b[0m Connection from ('127.0.0.1', 55309)\n",
      "\u001b[2m\u001b[36m(RolloutWorker pid=11544)\u001b[0m Discrete Accel or Brake (cannot left foot) and Discrete Steering 2\n"
     ]
    },
    {
     "name": "stderr",
     "output_type": "stream",
     "text": [
      "\u001b[2m\u001b[36m(RolloutWorker pid=11544)\u001b[0m Exception raised in creation task: The actor died because of an error raised in its creation task, \u001b[36mray::RolloutWorker.__init__()\u001b[39m (pid=11544, ip=127.0.0.1, actor_id=4d5ae73b4af76f1020ac47d601000000, repr=<ray.rllib.evaluation.rollout_worker.RolloutWorker object at 0x000002BAC86DCB80>)\n",
      "\u001b[2m\u001b[36m(RolloutWorker pid=11544)\u001b[0m   File \"python\\ray\\_raylet.pyx\", line 1424, in ray._raylet.execute_task\n",
      "\u001b[2m\u001b[36m(RolloutWorker pid=11544)\u001b[0m   File \"python\\ray\\_raylet.pyx\", line 1364, in ray._raylet.execute_task.function_executor\n",
      "\u001b[2m\u001b[36m(RolloutWorker pid=11544)\u001b[0m   File \"c:\\Users\\nadir\\anaconda3\\envs\\GTRay2.6.3_torch_tb\\lib\\site-packages\\ray\\_private\\function_manager.py\", line 726, in actor_method_executor\n",
      "\u001b[2m\u001b[36m(RolloutWorker pid=11544)\u001b[0m     return method(__ray_actor, *args, **kwargs)\n",
      "\u001b[2m\u001b[36m(RolloutWorker pid=11544)\u001b[0m   File \"c:\\Users\\nadir\\anaconda3\\envs\\GTRay2.6.3_torch_tb\\lib\\site-packages\\ray\\util\\tracing\\tracing_helper.py\", line 464, in _resume_span\n",
      "\u001b[2m\u001b[36m(RolloutWorker pid=11544)\u001b[0m     return method(self, *_args, **_kwargs)\n",
      "\u001b[2m\u001b[36m(RolloutWorker pid=11544)\u001b[0m   File \"c:\\Users\\nadir\\anaconda3\\envs\\GTRay2.6.3_torch_tb\\lib\\site-packages\\ray\\rllib\\evaluation\\rollout_worker.py\", line 525, in __init__\n",
      "\u001b[2m\u001b[36m(RolloutWorker pid=11544)\u001b[0m     self._update_policy_map(policy_dict=self.policy_dict)\n",
      "\u001b[2m\u001b[36m(RolloutWorker pid=11544)\u001b[0m   File \"c:\\Users\\nadir\\anaconda3\\envs\\GTRay2.6.3_torch_tb\\lib\\site-packages\\ray\\util\\tracing\\tracing_helper.py\", line 464, in _resume_span\n",
      "\u001b[2m\u001b[36m(RolloutWorker pid=11544)\u001b[0m     return method(self, *_args, **_kwargs)\n",
      "\u001b[2m\u001b[36m(RolloutWorker pid=11544)\u001b[0m   File \"c:\\Users\\nadir\\anaconda3\\envs\\GTRay2.6.3_torch_tb\\lib\\site-packages\\ray\\rllib\\evaluation\\rollout_worker.py\", line 1727, in _update_policy_map\n",
      "\u001b[2m\u001b[36m(RolloutWorker pid=11544)\u001b[0m     self._build_policy_map(\n",
      "\u001b[2m\u001b[36m(RolloutWorker pid=11544)\u001b[0m   File \"c:\\Users\\nadir\\anaconda3\\envs\\GTRay2.6.3_torch_tb\\lib\\site-packages\\ray\\util\\tracing\\tracing_helper.py\", line 464, in _resume_span\n",
      "\u001b[2m\u001b[36m(RolloutWorker pid=11544)\u001b[0m     return method(self, *_args, **_kwargs)\n",
      "\u001b[2m\u001b[36m(RolloutWorker pid=11544)\u001b[0m   File \"c:\\Users\\nadir\\anaconda3\\envs\\GTRay2.6.3_torch_tb\\lib\\site-packages\\ray\\rllib\\evaluation\\rollout_worker.py\", line 1838, in _build_policy_map\n",
      "\u001b[2m\u001b[36m(RolloutWorker pid=11544)\u001b[0m     new_policy = create_policy_for_framework(\n",
      "\u001b[2m\u001b[36m(RolloutWorker pid=11544)\u001b[0m   File \"c:\\Users\\nadir\\anaconda3\\envs\\GTRay2.6.3_torch_tb\\lib\\site-packages\\ray\\rllib\\utils\\policy.py\", line 142, in create_policy_for_framework\n",
      "\u001b[2m\u001b[36m(RolloutWorker pid=11544)\u001b[0m     return policy_class(observation_space, action_space, merged_config)\n",
      "\u001b[2m\u001b[36m(RolloutWorker pid=11544)\u001b[0m   File \"c:\\Users\\nadir\\anaconda3\\envs\\GTRay2.6.3_torch_tb\\lib\\site-packages\\ray\\rllib\\algorithms\\impala\\impala_torch_policy.py\", line 217, in __init__\n",
      "\u001b[2m\u001b[36m(RolloutWorker pid=11544)\u001b[0m     TorchPolicyV2.__init__(\n",
      "\u001b[2m\u001b[36m(RolloutWorker pid=11544)\u001b[0m   File \"c:\\Users\\nadir\\anaconda3\\envs\\GTRay2.6.3_torch_tb\\lib\\site-packages\\ray\\rllib\\policy\\torch_policy_v2.py\", line 96, in __init__\n",
      "\u001b[2m\u001b[36m(RolloutWorker pid=11544)\u001b[0m     model, dist_class = self._init_model_and_dist_class()\n",
      "\u001b[2m\u001b[36m(RolloutWorker pid=11544)\u001b[0m   File \"c:\\Users\\nadir\\anaconda3\\envs\\GTRay2.6.3_torch_tb\\lib\\site-packages\\ray\\rllib\\policy\\torch_policy_v2.py\", line 526, in _init_model_and_dist_class\n",
      "\u001b[2m\u001b[36m(RolloutWorker pid=11544)\u001b[0m     model = ModelCatalog.get_model_v2(\n",
      "\u001b[2m\u001b[36m(RolloutWorker pid=11544)\u001b[0m   File \"c:\\Users\\nadir\\anaconda3\\envs\\GTRay2.6.3_torch_tb\\lib\\site-packages\\ray\\rllib\\models\\catalog.py\", line 726, in get_model_v2\n",
      "\u001b[2m\u001b[36m(RolloutWorker pid=11544)\u001b[0m     return wrapper(\n",
      "\u001b[2m\u001b[36m(RolloutWorker pid=11544)\u001b[0m   File \"c:\\Users\\nadir\\anaconda3\\envs\\GTRay2.6.3_torch_tb\\lib\\site-packages\\ray\\rllib\\models\\torch\\complex_input_net.py\", line 86, in __init__\n",
      "\u001b[2m\u001b[36m(RolloutWorker pid=11544)\u001b[0m     self.cnns[i] = ModelCatalog.get_model_v2(\n",
      "\u001b[2m\u001b[36m(RolloutWorker pid=11544)\u001b[0m   File \"c:\\Users\\nadir\\anaconda3\\envs\\GTRay2.6.3_torch_tb\\lib\\site-packages\\ray\\rllib\\models\\catalog.py\", line 726, in get_model_v2\n",
      "\u001b[2m\u001b[36m(RolloutWorker pid=11544)\u001b[0m     return wrapper(\n",
      "\u001b[2m\u001b[36m(RolloutWorker pid=11544)\u001b[0m   File \"c:\\Users\\nadir\\anaconda3\\envs\\GTRay2.6.3_torch_tb\\lib\\site-packages\\ray\\rllib\\models\\torch\\visionnet.py\", line 184, in __init__\n",
      "\u001b[2m\u001b[36m(RolloutWorker pid=11544)\u001b[0m     dummy_out = self._convs(dummy_in)\n",
      "\u001b[2m\u001b[36m(RolloutWorker pid=11544)\u001b[0m   File \"c:\\Users\\nadir\\anaconda3\\envs\\GTRay2.6.3_torch_tb\\lib\\site-packages\\torch\\nn\\modules\\module.py\", line 1501, in _call_impl\n",
      "\u001b[2m\u001b[36m(RolloutWorker pid=11544)\u001b[0m     return forward_call(*args, **kwargs)\n",
      "\u001b[2m\u001b[36m(RolloutWorker pid=11544)\u001b[0m   File \"c:\\Users\\nadir\\anaconda3\\envs\\GTRay2.6.3_torch_tb\\lib\\site-packages\\torch\\nn\\modules\\container.py\", line 217, in forward\n",
      "\u001b[2m\u001b[36m(RolloutWorker pid=11544)\u001b[0m     input = module(input)\n",
      "\u001b[2m\u001b[36m(RolloutWorker pid=11544)\u001b[0m   File \"c:\\Users\\nadir\\anaconda3\\envs\\GTRay2.6.3_torch_tb\\lib\\site-packages\\torch\\nn\\modules\\module.py\", line 1501, in _call_impl\n",
      "\u001b[2m\u001b[36m(RolloutWorker pid=11544)\u001b[0m     return forward_call(*args, **kwargs)\n",
      "\u001b[2m\u001b[36m(RolloutWorker pid=11544)\u001b[0m   File \"c:\\Users\\nadir\\anaconda3\\envs\\GTRay2.6.3_torch_tb\\lib\\site-packages\\ray\\rllib\\models\\torch\\misc.py\", line 252, in forward\n",
      "\u001b[2m\u001b[36m(RolloutWorker pid=11544)\u001b[0m     return self._model(x)\n",
      "\u001b[2m\u001b[36m(RolloutWorker pid=11544)\u001b[0m   File \"c:\\Users\\nadir\\anaconda3\\envs\\GTRay2.6.3_torch_tb\\lib\\site-packages\\torch\\nn\\modules\\module.py\", line 1501, in _call_impl\n",
      "\u001b[2m\u001b[36m(RolloutWorker pid=11544)\u001b[0m     return forward_call(*args, **kwargs)\n",
      "\u001b[2m\u001b[36m(RolloutWorker pid=11544)\u001b[0m   File \"c:\\Users\\nadir\\anaconda3\\envs\\GTRay2.6.3_torch_tb\\lib\\site-packages\\torch\\nn\\modules\\container.py\", line 217, in forward\n",
      "\u001b[2m\u001b[36m(RolloutWorker pid=11544)\u001b[0m     input = module(input)\n",
      "\u001b[2m\u001b[36m(RolloutWorker pid=11544)\u001b[0m   File \"c:\\Users\\nadir\\anaconda3\\envs\\GTRay2.6.3_torch_tb\\lib\\site-packages\\torch\\nn\\modules\\module.py\", line 1501, in _call_impl\n",
      "\u001b[2m\u001b[36m(RolloutWorker pid=11544)\u001b[0m     return forward_call(*args, **kwargs)\n",
      "\u001b[2m\u001b[36m(RolloutWorker pid=11544)\u001b[0m   File \"c:\\Users\\nadir\\anaconda3\\envs\\GTRay2.6.3_torch_tb\\lib\\site-packages\\torch\\nn\\modules\\conv.py\", line 463, in forward\n",
      "\u001b[2m\u001b[36m(RolloutWorker pid=11544)\u001b[0m     return self._conv_forward(input, self.weight, self.bias)\n",
      "\u001b[2m\u001b[36m(RolloutWorker pid=11544)\u001b[0m   File \"c:\\Users\\nadir\\anaconda3\\envs\\GTRay2.6.3_torch_tb\\lib\\site-packages\\torch\\nn\\modules\\conv.py\", line 459, in _conv_forward\n",
      "\u001b[2m\u001b[36m(RolloutWorker pid=11544)\u001b[0m     return F.conv2d(input, weight, bias, self.stride,\n",
      "\u001b[2m\u001b[36m(RolloutWorker pid=11544)\u001b[0m RuntimeError: Calculated padded input size per channel: (1 x 11). Kernel size: (11 x 11). Kernel size can't be greater than actual input size\n"
     ]
    },
    {
     "ename": "RuntimeError",
     "evalue": "Calculated padded input size per channel: (1 x 11). Kernel size: (11 x 11). Kernel size can't be greater than actual input size",
     "output_type": "error",
     "traceback": [
      "\u001b[1;31m---------------------------------------------------------------------------\u001b[0m",
      "\u001b[1;31mRayActorError\u001b[0m                             Traceback (most recent call last)",
      "File \u001b[1;32mc:\\Users\\nadir\\anaconda3\\envs\\GTRay2.6.3_torch_tb\\lib\\site-packages\\ray\\rllib\\evaluation\\worker_set.py:157\u001b[0m, in \u001b[0;36mWorkerSet.__init__\u001b[1;34m(self, env_creator, validate_env, default_policy_class, config, num_workers, local_worker, logdir, _setup)\u001b[0m\n\u001b[0;32m    156\u001b[0m \u001b[39mtry\u001b[39;00m:\n\u001b[1;32m--> 157\u001b[0m     \u001b[39mself\u001b[39;49m\u001b[39m.\u001b[39;49m_setup(\n\u001b[0;32m    158\u001b[0m         validate_env\u001b[39m=\u001b[39;49mvalidate_env,\n\u001b[0;32m    159\u001b[0m         config\u001b[39m=\u001b[39;49mconfig,\n\u001b[0;32m    160\u001b[0m         num_workers\u001b[39m=\u001b[39;49mnum_workers,\n\u001b[0;32m    161\u001b[0m         local_worker\u001b[39m=\u001b[39;49mlocal_worker,\n\u001b[0;32m    162\u001b[0m     )\n\u001b[0;32m    163\u001b[0m \u001b[39m# WorkerSet creation possibly fails, if some (remote) workers cannot\u001b[39;00m\n\u001b[0;32m    164\u001b[0m \u001b[39m# be initialized properly (due to some errors in the RolloutWorker's\u001b[39;00m\n\u001b[0;32m    165\u001b[0m \u001b[39m# constructor).\u001b[39;00m\n",
      "File \u001b[1;32mc:\\Users\\nadir\\anaconda3\\envs\\GTRay2.6.3_torch_tb\\lib\\site-packages\\ray\\rllib\\evaluation\\worker_set.py:227\u001b[0m, in \u001b[0;36mWorkerSet._setup\u001b[1;34m(self, validate_env, config, num_workers, local_worker)\u001b[0m\n\u001b[0;32m    226\u001b[0m \u001b[39m# Create a number of @ray.remote workers.\u001b[39;00m\n\u001b[1;32m--> 227\u001b[0m \u001b[39mself\u001b[39;49m\u001b[39m.\u001b[39;49madd_workers(\n\u001b[0;32m    228\u001b[0m     num_workers,\n\u001b[0;32m    229\u001b[0m     validate\u001b[39m=\u001b[39;49mconfig\u001b[39m.\u001b[39;49mvalidate_workers_after_construction,\n\u001b[0;32m    230\u001b[0m )\n\u001b[0;32m    232\u001b[0m \u001b[39m# If num_workers > 0 and we don't have an env on the local worker,\u001b[39;00m\n\u001b[0;32m    233\u001b[0m \u001b[39m# get the observation- and action spaces for each policy from\u001b[39;00m\n\u001b[0;32m    234\u001b[0m \u001b[39m# the first remote worker (which does have an env).\u001b[39;00m\n",
      "File \u001b[1;32mc:\\Users\\nadir\\anaconda3\\envs\\GTRay2.6.3_torch_tb\\lib\\site-packages\\ray\\rllib\\evaluation\\worker_set.py:593\u001b[0m, in \u001b[0;36mWorkerSet.add_workers\u001b[1;34m(self, num_workers, validate)\u001b[0m\n\u001b[0;32m    592\u001b[0m \u001b[39mif\u001b[39;00m \u001b[39mnot\u001b[39;00m result\u001b[39m.\u001b[39mok:\n\u001b[1;32m--> 593\u001b[0m     \u001b[39mraise\u001b[39;00m result\u001b[39m.\u001b[39mget()\n",
      "File \u001b[1;32mc:\\Users\\nadir\\anaconda3\\envs\\GTRay2.6.3_torch_tb\\lib\\site-packages\\ray\\rllib\\utils\\actor_manager.py:481\u001b[0m, in \u001b[0;36mFaultTolerantActorManager.__fetch_result\u001b[1;34m(self, remote_actor_ids, remote_calls, tags, timeout_seconds, return_obj_refs, mark_healthy)\u001b[0m\n\u001b[0;32m    480\u001b[0m \u001b[39mtry\u001b[39;00m:\n\u001b[1;32m--> 481\u001b[0m     result \u001b[39m=\u001b[39m ray\u001b[39m.\u001b[39;49mget(r)\n\u001b[0;32m    482\u001b[0m     remote_results\u001b[39m.\u001b[39madd_result(actor_id, ResultOrError(result\u001b[39m=\u001b[39mresult), tag)\n",
      "File \u001b[1;32mc:\\Users\\nadir\\anaconda3\\envs\\GTRay2.6.3_torch_tb\\lib\\site-packages\\ray\\_private\\auto_init_hook.py:24\u001b[0m, in \u001b[0;36mwrap_auto_init.<locals>.auto_init_wrapper\u001b[1;34m(*args, **kwargs)\u001b[0m\n\u001b[0;32m     23\u001b[0m auto_init_ray()\n\u001b[1;32m---> 24\u001b[0m \u001b[39mreturn\u001b[39;00m fn(\u001b[39m*\u001b[39margs, \u001b[39m*\u001b[39m\u001b[39m*\u001b[39mkwargs)\n",
      "File \u001b[1;32mc:\\Users\\nadir\\anaconda3\\envs\\GTRay2.6.3_torch_tb\\lib\\site-packages\\ray\\_private\\client_mode_hook.py:103\u001b[0m, in \u001b[0;36mclient_mode_hook.<locals>.wrapper\u001b[1;34m(*args, **kwargs)\u001b[0m\n\u001b[0;32m    102\u001b[0m         \u001b[39mreturn\u001b[39;00m \u001b[39mgetattr\u001b[39m(ray, func\u001b[39m.\u001b[39m\u001b[39m__name__\u001b[39m)(\u001b[39m*\u001b[39margs, \u001b[39m*\u001b[39m\u001b[39m*\u001b[39mkwargs)\n\u001b[1;32m--> 103\u001b[0m \u001b[39mreturn\u001b[39;00m func(\u001b[39m*\u001b[39margs, \u001b[39m*\u001b[39m\u001b[39m*\u001b[39mkwargs)\n",
      "File \u001b[1;32mc:\\Users\\nadir\\anaconda3\\envs\\GTRay2.6.3_torch_tb\\lib\\site-packages\\ray\\_private\\worker.py:2526\u001b[0m, in \u001b[0;36mget\u001b[1;34m(object_refs, timeout)\u001b[0m\n\u001b[0;32m   2525\u001b[0m         \u001b[39melse\u001b[39;00m:\n\u001b[1;32m-> 2526\u001b[0m             \u001b[39mraise\u001b[39;00m value\n\u001b[0;32m   2528\u001b[0m \u001b[39mif\u001b[39;00m is_individual_id:\n",
      "\u001b[1;31mRayActorError\u001b[0m: The actor died because of an error raised in its creation task, \u001b[36mray::RolloutWorker.__init__()\u001b[39m (pid=11544, ip=127.0.0.1, actor_id=4d5ae73b4af76f1020ac47d601000000, repr=<ray.rllib.evaluation.rollout_worker.RolloutWorker object at 0x000002BAC86DCB80>)\n  File \"python\\ray\\_raylet.pyx\", line 1424, in ray._raylet.execute_task\n  File \"python\\ray\\_raylet.pyx\", line 1364, in ray._raylet.execute_task.function_executor\n  File \"c:\\Users\\nadir\\anaconda3\\envs\\GTRay2.6.3_torch_tb\\lib\\site-packages\\ray\\_private\\function_manager.py\", line 726, in actor_method_executor\n    return method(__ray_actor, *args, **kwargs)\n  File \"c:\\Users\\nadir\\anaconda3\\envs\\GTRay2.6.3_torch_tb\\lib\\site-packages\\ray\\util\\tracing\\tracing_helper.py\", line 464, in _resume_span\n    return method(self, *_args, **_kwargs)\n  File \"c:\\Users\\nadir\\anaconda3\\envs\\GTRay2.6.3_torch_tb\\lib\\site-packages\\ray\\rllib\\evaluation\\rollout_worker.py\", line 525, in __init__\n    self._update_policy_map(policy_dict=self.policy_dict)\n  File \"c:\\Users\\nadir\\anaconda3\\envs\\GTRay2.6.3_torch_tb\\lib\\site-packages\\ray\\util\\tracing\\tracing_helper.py\", line 464, in _resume_span\n    return method(self, *_args, **_kwargs)\n  File \"c:\\Users\\nadir\\anaconda3\\envs\\GTRay2.6.3_torch_tb\\lib\\site-packages\\ray\\rllib\\evaluation\\rollout_worker.py\", line 1727, in _update_policy_map\n    self._build_policy_map(\n  File \"c:\\Users\\nadir\\anaconda3\\envs\\GTRay2.6.3_torch_tb\\lib\\site-packages\\ray\\util\\tracing\\tracing_helper.py\", line 464, in _resume_span\n    return method(self, *_args, **_kwargs)\n  File \"c:\\Users\\nadir\\anaconda3\\envs\\GTRay2.6.3_torch_tb\\lib\\site-packages\\ray\\rllib\\evaluation\\rollout_worker.py\", line 1838, in _build_policy_map\n    new_policy = create_policy_for_framework(\n  File \"c:\\Users\\nadir\\anaconda3\\envs\\GTRay2.6.3_torch_tb\\lib\\site-packages\\ray\\rllib\\utils\\policy.py\", line 142, in create_policy_for_framework\n    return policy_class(observation_space, action_space, merged_config)\n  File \"c:\\Users\\nadir\\anaconda3\\envs\\GTRay2.6.3_torch_tb\\lib\\site-packages\\ray\\rllib\\algorithms\\impala\\impala_torch_policy.py\", line 217, in __init__\n    TorchPolicyV2.__init__(\n  File \"c:\\Users\\nadir\\anaconda3\\envs\\GTRay2.6.3_torch_tb\\lib\\site-packages\\ray\\rllib\\policy\\torch_policy_v2.py\", line 96, in __init__\n    model, dist_class = self._init_model_and_dist_class()\n  File \"c:\\Users\\nadir\\anaconda3\\envs\\GTRay2.6.3_torch_tb\\lib\\site-packages\\ray\\rllib\\policy\\torch_policy_v2.py\", line 526, in _init_model_and_dist_class\n    model = ModelCatalog.get_model_v2(\n  File \"c:\\Users\\nadir\\anaconda3\\envs\\GTRay2.6.3_torch_tb\\lib\\site-packages\\ray\\rllib\\models\\catalog.py\", line 726, in get_model_v2\n    return wrapper(\n  File \"c:\\Users\\nadir\\anaconda3\\envs\\GTRay2.6.3_torch_tb\\lib\\site-packages\\ray\\rllib\\models\\torch\\complex_input_net.py\", line 86, in __init__\n    self.cnns[i] = ModelCatalog.get_model_v2(\n  File \"c:\\Users\\nadir\\anaconda3\\envs\\GTRay2.6.3_torch_tb\\lib\\site-packages\\ray\\rllib\\models\\catalog.py\", line 726, in get_model_v2\n    return wrapper(\n  File \"c:\\Users\\nadir\\anaconda3\\envs\\GTRay2.6.3_torch_tb\\lib\\site-packages\\ray\\rllib\\models\\torch\\visionnet.py\", line 184, in __init__\n    dummy_out = self._convs(dummy_in)\n  File \"c:\\Users\\nadir\\anaconda3\\envs\\GTRay2.6.3_torch_tb\\lib\\site-packages\\torch\\nn\\modules\\module.py\", line 1501, in _call_impl\n    return forward_call(*args, **kwargs)\n  File \"c:\\Users\\nadir\\anaconda3\\envs\\GTRay2.6.3_torch_tb\\lib\\site-packages\\torch\\nn\\modules\\container.py\", line 217, in forward\n    input = module(input)\n  File \"c:\\Users\\nadir\\anaconda3\\envs\\GTRay2.6.3_torch_tb\\lib\\site-packages\\torch\\nn\\modules\\module.py\", line 1501, in _call_impl\n    return forward_call(*args, **kwargs)\n  File \"c:\\Users\\nadir\\anaconda3\\envs\\GTRay2.6.3_torch_tb\\lib\\site-packages\\ray\\rllib\\models\\torch\\misc.py\", line 252, in forward\n    return self._model(x)\n  File \"c:\\Users\\nadir\\anaconda3\\envs\\GTRay2.6.3_torch_tb\\lib\\site-packages\\torch\\nn\\modules\\module.py\", line 1501, in _call_impl\n    return forward_call(*args, **kwargs)\n  File \"c:\\Users\\nadir\\anaconda3\\envs\\GTRay2.6.3_torch_tb\\lib\\site-packages\\torch\\nn\\modules\\container.py\", line 217, in forward\n    input = module(input)\n  File \"c:\\Users\\nadir\\anaconda3\\envs\\GTRay2.6.3_torch_tb\\lib\\site-packages\\torch\\nn\\modules\\module.py\", line 1501, in _call_impl\n    return forward_call(*args, **kwargs)\n  File \"c:\\Users\\nadir\\anaconda3\\envs\\GTRay2.6.3_torch_tb\\lib\\site-packages\\torch\\nn\\modules\\conv.py\", line 463, in forward\n    return self._conv_forward(input, self.weight, self.bias)\n  File \"c:\\Users\\nadir\\anaconda3\\envs\\GTRay2.6.3_torch_tb\\lib\\site-packages\\torch\\nn\\modules\\conv.py\", line 459, in _conv_forward\n    return F.conv2d(input, weight, bias, self.stride,\nRuntimeError: Calculated padded input size per channel: (1 x 11). Kernel size: (11 x 11). Kernel size can't be greater than actual input size",
      "\nDuring handling of the above exception, another exception occurred:\n",
      "\u001b[1;31mRuntimeError\u001b[0m                              Traceback (most recent call last)",
      "\u001b[1;32mj:\\git\\TensorFlowPSX\\Py\\rrlibAPPO_cnn_MR2_HS_.ipynb Cell 6\u001b[0m line \u001b[0;36m2\n\u001b[0;32m      <a href='vscode-notebook-cell:/j%3A/git/TensorFlowPSX/Py/rrlibAPPO_cnn_MR2_HS_.ipynb#W5sZmlsZQ%3D%3D?line=0'>1</a>\u001b[0m \u001b[39mfrom\u001b[39;00m \u001b[39mray\u001b[39;00m\u001b[39m.\u001b[39;00m\u001b[39mrllib\u001b[39;00m\u001b[39m.\u001b[39;00m\u001b[39malgorithms\u001b[39;00m\u001b[39m.\u001b[39;00m\u001b[39mimpala\u001b[39;00m\u001b[39m.\u001b[39;00m\u001b[39mimpala\u001b[39;00m \u001b[39mimport\u001b[39;00m ImpalaConfig\n\u001b[0;32m      <a href='vscode-notebook-cell:/j%3A/git/TensorFlowPSX/Py/rrlibAPPO_cnn_MR2_HS_.ipynb#W5sZmlsZQ%3D%3D?line=1'>2</a>\u001b[0m algo \u001b[39m=\u001b[39m (\n\u001b[0;32m      <a href='vscode-notebook-cell:/j%3A/git/TensorFlowPSX/Py/rrlibAPPO_cnn_MR2_HS_.ipynb#W5sZmlsZQ%3D%3D?line=2'>3</a>\u001b[0m     ImpalaConfig()\n\u001b[0;32m      <a href='vscode-notebook-cell:/j%3A/git/TensorFlowPSX/Py/rrlibAPPO_cnn_MR2_HS_.ipynb#W5sZmlsZQ%3D%3D?line=3'>4</a>\u001b[0m     \u001b[39m.\u001b[39;49mresources(\n\u001b[0;32m      <a href='vscode-notebook-cell:/j%3A/git/TensorFlowPSX/Py/rrlibAPPO_cnn_MR2_HS_.ipynb#W5sZmlsZQ%3D%3D?line=4'>5</a>\u001b[0m         num_gpus\u001b[39m=\u001b[39;49m\u001b[39m1\u001b[39;49m\n\u001b[0;32m      <a href='vscode-notebook-cell:/j%3A/git/TensorFlowPSX/Py/rrlibAPPO_cnn_MR2_HS_.ipynb#W5sZmlsZQ%3D%3D?line=5'>6</a>\u001b[0m         )\n\u001b[0;32m      <a href='vscode-notebook-cell:/j%3A/git/TensorFlowPSX/Py/rrlibAPPO_cnn_MR2_HS_.ipynb#W5sZmlsZQ%3D%3D?line=6'>7</a>\u001b[0m     \u001b[39m.\u001b[39;49mrollouts(\n\u001b[0;32m      <a href='vscode-notebook-cell:/j%3A/git/TensorFlowPSX/Py/rrlibAPPO_cnn_MR2_HS_.ipynb#W5sZmlsZQ%3D%3D?line=7'>8</a>\u001b[0m         num_rollout_workers\u001b[39m=\u001b[39;49m\u001b[39m1\u001b[39;49m,\n\u001b[0;32m      <a href='vscode-notebook-cell:/j%3A/git/TensorFlowPSX/Py/rrlibAPPO_cnn_MR2_HS_.ipynb#W5sZmlsZQ%3D%3D?line=8'>9</a>\u001b[0m         enable_connectors\u001b[39m=\u001b[39;49m\u001b[39mTrue\u001b[39;49;00m,\n\u001b[0;32m     <a href='vscode-notebook-cell:/j%3A/git/TensorFlowPSX/Py/rrlibAPPO_cnn_MR2_HS_.ipynb#W5sZmlsZQ%3D%3D?line=9'>10</a>\u001b[0m         batch_mode\u001b[39m=\u001b[39;49m\u001b[39m\"\u001b[39;49m\u001b[39mtruncate_episodes\u001b[39;49m\u001b[39m\"\u001b[39;49m,\n\u001b[0;32m     <a href='vscode-notebook-cell:/j%3A/git/TensorFlowPSX/Py/rrlibAPPO_cnn_MR2_HS_.ipynb#W5sZmlsZQ%3D%3D?line=10'>11</a>\u001b[0m         )\n\u001b[0;32m     <a href='vscode-notebook-cell:/j%3A/git/TensorFlowPSX/Py/rrlibAPPO_cnn_MR2_HS_.ipynb#W5sZmlsZQ%3D%3D?line=11'>12</a>\u001b[0m     \u001b[39m.\u001b[39;49mframework(\n\u001b[0;32m     <a href='vscode-notebook-cell:/j%3A/git/TensorFlowPSX/Py/rrlibAPPO_cnn_MR2_HS_.ipynb#W5sZmlsZQ%3D%3D?line=12'>13</a>\u001b[0m         framework\u001b[39m=\u001b[39;49m\u001b[39m\"\u001b[39;49m\u001b[39mtorch\u001b[39;49m\u001b[39m\"\u001b[39;49m,\n\u001b[0;32m     <a href='vscode-notebook-cell:/j%3A/git/TensorFlowPSX/Py/rrlibAPPO_cnn_MR2_HS_.ipynb#W5sZmlsZQ%3D%3D?line=13'>14</a>\u001b[0m         )\n\u001b[0;32m     <a href='vscode-notebook-cell:/j%3A/git/TensorFlowPSX/Py/rrlibAPPO_cnn_MR2_HS_.ipynb#W5sZmlsZQ%3D%3D?line=14'>15</a>\u001b[0m     \u001b[39m.\u001b[39;49menvironment(\n\u001b[0;32m     <a href='vscode-notebook-cell:/j%3A/git/TensorFlowPSX/Py/rrlibAPPO_cnn_MR2_HS_.ipynb#W5sZmlsZQ%3D%3D?line=15'>16</a>\u001b[0m         env\u001b[39m=\u001b[39;49m\u001b[39m\"\u001b[39;49m\u001b[39mgt-rtgym-env-v1\u001b[39;49m\u001b[39m\"\u001b[39;49m,\n\u001b[0;32m     <a href='vscode-notebook-cell:/j%3A/git/TensorFlowPSX/Py/rrlibAPPO_cnn_MR2_HS_.ipynb#W5sZmlsZQ%3D%3D?line=16'>17</a>\u001b[0m         disable_env_checking\u001b[39m=\u001b[39;49m\u001b[39mTrue\u001b[39;49;00m,\n\u001b[0;32m     <a href='vscode-notebook-cell:/j%3A/git/TensorFlowPSX/Py/rrlibAPPO_cnn_MR2_HS_.ipynb#W5sZmlsZQ%3D%3D?line=17'>18</a>\u001b[0m         render_env\u001b[39m=\u001b[39;49m\u001b[39mFalse\u001b[39;49;00m,\n\u001b[0;32m     <a href='vscode-notebook-cell:/j%3A/git/TensorFlowPSX/Py/rrlibAPPO_cnn_MR2_HS_.ipynb#W5sZmlsZQ%3D%3D?line=18'>19</a>\u001b[0m         )\n\u001b[0;32m     <a href='vscode-notebook-cell:/j%3A/git/TensorFlowPSX/Py/rrlibAPPO_cnn_MR2_HS_.ipynb#W5sZmlsZQ%3D%3D?line=19'>20</a>\u001b[0m     \u001b[39m.\u001b[39;49mtraining(\n\u001b[0;32m     <a href='vscode-notebook-cell:/j%3A/git/TensorFlowPSX/Py/rrlibAPPO_cnn_MR2_HS_.ipynb#W5sZmlsZQ%3D%3D?line=20'>21</a>\u001b[0m         train_batch_size\u001b[39m=\u001b[39;49m\u001b[39m128\u001b[39;49m,\n\u001b[0;32m     <a href='vscode-notebook-cell:/j%3A/git/TensorFlowPSX/Py/rrlibAPPO_cnn_MR2_HS_.ipynb#W5sZmlsZQ%3D%3D?line=21'>22</a>\u001b[0m         )\n\u001b[0;32m     <a href='vscode-notebook-cell:/j%3A/git/TensorFlowPSX/Py/rrlibAPPO_cnn_MR2_HS_.ipynb#W5sZmlsZQ%3D%3D?line=22'>23</a>\u001b[0m     \u001b[39m# .model(\u001b[39;49;00m\n\u001b[0;32m     <a href='vscode-notebook-cell:/j%3A/git/TensorFlowPSX/Py/rrlibAPPO_cnn_MR2_HS_.ipynb#W5sZmlsZQ%3D%3D?line=23'>24</a>\u001b[0m     \u001b[39m#     post_fcnet_hiddens = [24,24],\u001b[39;49;00m\n\u001b[0;32m     <a href='vscode-notebook-cell:/j%3A/git/TensorFlowPSX/Py/rrlibAPPO_cnn_MR2_HS_.ipynb#W5sZmlsZQ%3D%3D?line=24'>25</a>\u001b[0m     \u001b[39m#     fcnet_activation = \"relu\",\u001b[39;49;00m\n\u001b[0;32m     <a href='vscode-notebook-cell:/j%3A/git/TensorFlowPSX/Py/rrlibAPPO_cnn_MR2_HS_.ipynb#W5sZmlsZQ%3D%3D?line=25'>26</a>\u001b[0m     \u001b[39m#     )\u001b[39;49;00m\n\u001b[1;32m---> <a href='vscode-notebook-cell:/j%3A/git/TensorFlowPSX/Py/rrlibAPPO_cnn_MR2_HS_.ipynb#W5sZmlsZQ%3D%3D?line=26'>27</a>\u001b[0m     \u001b[39m.\u001b[39;49mbuild()\n\u001b[0;32m     <a href='vscode-notebook-cell:/j%3A/git/TensorFlowPSX/Py/rrlibAPPO_cnn_MR2_HS_.ipynb#W5sZmlsZQ%3D%3D?line=27'>28</a>\u001b[0m )\n",
      "File \u001b[1;32mc:\\Users\\nadir\\anaconda3\\envs\\GTRay2.6.3_torch_tb\\lib\\site-packages\\ray\\rllib\\algorithms\\algorithm_config.py:1092\u001b[0m, in \u001b[0;36mAlgorithmConfig.build\u001b[1;34m(self, env, logger_creator, use_copy)\u001b[0m\n\u001b[0;32m   1089\u001b[0m \u001b[39mif\u001b[39;00m \u001b[39misinstance\u001b[39m(\u001b[39mself\u001b[39m\u001b[39m.\u001b[39malgo_class, \u001b[39mstr\u001b[39m):\n\u001b[0;32m   1090\u001b[0m     algo_class \u001b[39m=\u001b[39m get_trainable_cls(\u001b[39mself\u001b[39m\u001b[39m.\u001b[39malgo_class)\n\u001b[1;32m-> 1092\u001b[0m \u001b[39mreturn\u001b[39;00m algo_class(\n\u001b[0;32m   1093\u001b[0m     config\u001b[39m=\u001b[39;49m\u001b[39mself\u001b[39;49m \u001b[39mif\u001b[39;49;00m \u001b[39mnot\u001b[39;49;00m use_copy \u001b[39melse\u001b[39;49;00m copy\u001b[39m.\u001b[39;49mdeepcopy(\u001b[39mself\u001b[39;49m),\n\u001b[0;32m   1094\u001b[0m     logger_creator\u001b[39m=\u001b[39;49m\u001b[39mself\u001b[39;49m\u001b[39m.\u001b[39;49mlogger_creator,\n\u001b[0;32m   1095\u001b[0m )\n",
      "File \u001b[1;32mc:\\Users\\nadir\\anaconda3\\envs\\GTRay2.6.3_torch_tb\\lib\\site-packages\\ray\\rllib\\algorithms\\algorithm.py:517\u001b[0m, in \u001b[0;36mAlgorithm.__init__\u001b[1;34m(self, config, env, logger_creator, **kwargs)\u001b[0m\n\u001b[0;32m    499\u001b[0m \u001b[39m# Initialize common evaluation_metrics to nan, before they become\u001b[39;00m\n\u001b[0;32m    500\u001b[0m \u001b[39m# available. We want to make sure the metrics are always present\u001b[39;00m\n\u001b[0;32m    501\u001b[0m \u001b[39m# (although their values may be nan), so that Tune does not complain\u001b[39;00m\n\u001b[0;32m    502\u001b[0m \u001b[39m# when we use these as stopping criteria.\u001b[39;00m\n\u001b[0;32m    503\u001b[0m \u001b[39mself\u001b[39m\u001b[39m.\u001b[39mevaluation_metrics \u001b[39m=\u001b[39m {\n\u001b[0;32m    504\u001b[0m     \u001b[39m# TODO: Don't dump sampler results into top-level.\u001b[39;00m\n\u001b[0;32m    505\u001b[0m     \u001b[39m\"\u001b[39m\u001b[39mevaluation\u001b[39m\u001b[39m\"\u001b[39m: {\n\u001b[1;32m   (...)\u001b[0m\n\u001b[0;32m    514\u001b[0m     },\n\u001b[0;32m    515\u001b[0m }\n\u001b[1;32m--> 517\u001b[0m \u001b[39msuper\u001b[39m()\u001b[39m.\u001b[39m\u001b[39m__init__\u001b[39m(\n\u001b[0;32m    518\u001b[0m     config\u001b[39m=\u001b[39mconfig,\n\u001b[0;32m    519\u001b[0m     logger_creator\u001b[39m=\u001b[39mlogger_creator,\n\u001b[0;32m    520\u001b[0m     \u001b[39m*\u001b[39m\u001b[39m*\u001b[39mkwargs,\n\u001b[0;32m    521\u001b[0m )\n\u001b[0;32m    523\u001b[0m \u001b[39m# Check, whether `training_iteration` is still a tune.Trainable property\u001b[39;00m\n\u001b[0;32m    524\u001b[0m \u001b[39m# and has not been overridden by the user in the attempt to implement the\u001b[39;00m\n\u001b[0;32m    525\u001b[0m \u001b[39m# algos logic (this should be done now inside `training_step`).\u001b[39;00m\n\u001b[0;32m    526\u001b[0m \u001b[39mtry\u001b[39;00m:\n",
      "File \u001b[1;32mc:\\Users\\nadir\\anaconda3\\envs\\GTRay2.6.3_torch_tb\\lib\\site-packages\\ray\\tune\\trainable\\trainable.py:169\u001b[0m, in \u001b[0;36mTrainable.__init__\u001b[1;34m(self, config, logger_creator, remote_checkpoint_dir, sync_config)\u001b[0m\n\u001b[0;32m    167\u001b[0m \u001b[39mself\u001b[39m\u001b[39m.\u001b[39m_start_time \u001b[39m=\u001b[39m time\u001b[39m.\u001b[39mtime()\n\u001b[0;32m    168\u001b[0m \u001b[39mself\u001b[39m\u001b[39m.\u001b[39m_local_ip \u001b[39m=\u001b[39m ray\u001b[39m.\u001b[39mutil\u001b[39m.\u001b[39mget_node_ip_address()\n\u001b[1;32m--> 169\u001b[0m \u001b[39mself\u001b[39;49m\u001b[39m.\u001b[39;49msetup(copy\u001b[39m.\u001b[39;49mdeepcopy(\u001b[39mself\u001b[39;49m\u001b[39m.\u001b[39;49mconfig))\n\u001b[0;32m    170\u001b[0m setup_time \u001b[39m=\u001b[39m time\u001b[39m.\u001b[39mtime() \u001b[39m-\u001b[39m \u001b[39mself\u001b[39m\u001b[39m.\u001b[39m_start_time\n\u001b[0;32m    171\u001b[0m \u001b[39mif\u001b[39;00m setup_time \u001b[39m>\u001b[39m SETUP_TIME_THRESHOLD:\n",
      "File \u001b[1;32mc:\\Users\\nadir\\anaconda3\\envs\\GTRay2.6.3_torch_tb\\lib\\site-packages\\ray\\rllib\\algorithms\\impala\\impala.py:615\u001b[0m, in \u001b[0;36mImpala.setup\u001b[1;34m(self, config)\u001b[0m\n\u001b[0;32m    613\u001b[0m \u001b[39m@override\u001b[39m(Algorithm)\n\u001b[0;32m    614\u001b[0m \u001b[39mdef\u001b[39;00m \u001b[39msetup\u001b[39m(\u001b[39mself\u001b[39m, config: AlgorithmConfig):\n\u001b[1;32m--> 615\u001b[0m     \u001b[39msuper\u001b[39;49m()\u001b[39m.\u001b[39;49msetup(config)\n\u001b[0;32m    617\u001b[0m     \u001b[39m# Queue of batches to be sent to the Learner.\u001b[39;00m\n\u001b[0;32m    618\u001b[0m     \u001b[39mself\u001b[39m\u001b[39m.\u001b[39mbatches_to_place_on_learner \u001b[39m=\u001b[39m []\n",
      "File \u001b[1;32mc:\\Users\\nadir\\anaconda3\\envs\\GTRay2.6.3_torch_tb\\lib\\site-packages\\ray\\rllib\\algorithms\\algorithm.py:639\u001b[0m, in \u001b[0;36mAlgorithm.setup\u001b[1;34m(self, config)\u001b[0m\n\u001b[0;32m    636\u001b[0m \u001b[39m# Only if user did not override `_init()`:\u001b[39;00m\n\u001b[0;32m    637\u001b[0m \u001b[39mif\u001b[39;00m _init \u001b[39mis\u001b[39;00m \u001b[39mFalse\u001b[39;00m:\n\u001b[0;32m    638\u001b[0m     \u001b[39m# Create a set of env runner actors via a WorkerSet.\u001b[39;00m\n\u001b[1;32m--> 639\u001b[0m     \u001b[39mself\u001b[39m\u001b[39m.\u001b[39mworkers \u001b[39m=\u001b[39m WorkerSet(\n\u001b[0;32m    640\u001b[0m         env_creator\u001b[39m=\u001b[39;49m\u001b[39mself\u001b[39;49m\u001b[39m.\u001b[39;49menv_creator,\n\u001b[0;32m    641\u001b[0m         validate_env\u001b[39m=\u001b[39;49m\u001b[39mself\u001b[39;49m\u001b[39m.\u001b[39;49mvalidate_env,\n\u001b[0;32m    642\u001b[0m         default_policy_class\u001b[39m=\u001b[39;49m\u001b[39mself\u001b[39;49m\u001b[39m.\u001b[39;49mget_default_policy_class(\u001b[39mself\u001b[39;49m\u001b[39m.\u001b[39;49mconfig),\n\u001b[0;32m    643\u001b[0m         config\u001b[39m=\u001b[39;49m\u001b[39mself\u001b[39;49m\u001b[39m.\u001b[39;49mconfig,\n\u001b[0;32m    644\u001b[0m         num_workers\u001b[39m=\u001b[39;49m\u001b[39mself\u001b[39;49m\u001b[39m.\u001b[39;49mconfig\u001b[39m.\u001b[39;49mnum_rollout_workers,\n\u001b[0;32m    645\u001b[0m         local_worker\u001b[39m=\u001b[39;49m\u001b[39mTrue\u001b[39;49;00m,\n\u001b[0;32m    646\u001b[0m         logdir\u001b[39m=\u001b[39;49m\u001b[39mself\u001b[39;49m\u001b[39m.\u001b[39;49mlogdir,\n\u001b[0;32m    647\u001b[0m     )\n\u001b[0;32m    649\u001b[0m     \u001b[39m# TODO (avnishn): Remove the execution plan API by q1 2023\u001b[39;00m\n\u001b[0;32m    650\u001b[0m     \u001b[39m# Function defining one single training iteration's behavior.\u001b[39;00m\n\u001b[0;32m    651\u001b[0m     \u001b[39mif\u001b[39;00m \u001b[39mself\u001b[39m\u001b[39m.\u001b[39mconfig\u001b[39m.\u001b[39m_disable_execution_plan_api:\n\u001b[0;32m    652\u001b[0m         \u001b[39m# Ensure remote workers are initially in sync with the local worker.\u001b[39;00m\n",
      "File \u001b[1;32mc:\\Users\\nadir\\anaconda3\\envs\\GTRay2.6.3_torch_tb\\lib\\site-packages\\ray\\rllib\\evaluation\\worker_set.py:179\u001b[0m, in \u001b[0;36mWorkerSet.__init__\u001b[1;34m(self, env_creator, validate_env, default_policy_class, config, num_workers, local_worker, logdir, _setup)\u001b[0m\n\u001b[0;32m    166\u001b[0m \u001b[39mexcept\u001b[39;00m RayActorError \u001b[39mas\u001b[39;00m e:\n\u001b[0;32m    167\u001b[0m     \u001b[39m# In case of an actor (remote worker) init failure, the remote worker\u001b[39;00m\n\u001b[0;32m    168\u001b[0m     \u001b[39m# may still exist and will be accessible, however, e.g. calling\u001b[39;00m\n\u001b[0;32m    169\u001b[0m     \u001b[39m# its `sample.remote()` would result in strange \"property not found\"\u001b[39;00m\n\u001b[0;32m    170\u001b[0m     \u001b[39m# errors.\u001b[39;00m\n\u001b[0;32m    171\u001b[0m     \u001b[39mif\u001b[39;00m e\u001b[39m.\u001b[39mactor_init_failed:\n\u001b[0;32m    172\u001b[0m         \u001b[39m# Raise the original error here that the RolloutWorker raised\u001b[39;00m\n\u001b[0;32m    173\u001b[0m         \u001b[39m# during its construction process. This is to enforce transparency\u001b[39;00m\n\u001b[1;32m   (...)\u001b[0m\n\u001b[0;32m    177\u001b[0m         \u001b[39m# - e.args[0].args[2]: The original Exception (e.g. a ValueError due\u001b[39;00m\n\u001b[0;32m    178\u001b[0m         \u001b[39m# to a config mismatch) thrown inside the actor.\u001b[39;00m\n\u001b[1;32m--> 179\u001b[0m         \u001b[39mraise\u001b[39;00m e\u001b[39m.\u001b[39margs[\u001b[39m0\u001b[39m]\u001b[39m.\u001b[39margs[\u001b[39m2\u001b[39m]\n\u001b[0;32m    180\u001b[0m     \u001b[39m# In any other case, raise the RayActorError as-is.\u001b[39;00m\n\u001b[0;32m    181\u001b[0m     \u001b[39melse\u001b[39;00m:\n\u001b[0;32m    182\u001b[0m         \u001b[39mraise\u001b[39;00m e\n",
      "\u001b[1;31mRuntimeError\u001b[0m: Calculated padded input size per channel: (1 x 11). Kernel size: (11 x 11). Kernel size can't be greater than actual input size"
     ]
    }
   ],
   "source": [
    "from ray.rllib.algorithms.impala.impala import ImpalaConfig\n",
    "algo = (\n",
    "    ImpalaConfig()\n",
    "    .resources(\n",
    "        num_gpus=1\n",
    "        )\n",
    "    .rollouts(\n",
    "        num_rollout_workers=1,\n",
    "        enable_connectors=True,\n",
    "        batch_mode=\"truncate_episodes\",\n",
    "        )\n",
    "    .framework(\n",
    "        framework=\"torch\",\n",
    "        )\n",
    "    .environment(\n",
    "        env=\"gt-rtgym-env-v1\",\n",
    "        disable_env_checking=True,\n",
    "        render_env=False,\n",
    "        )\n",
    "    .training(\n",
    "        train_batch_size=128,\n",
    "        )\n",
    "    # .model(\n",
    "    #     post_fcnet_hiddens = [24,24],\n",
    "    #     fcnet_activation = \"relu\",\n",
    "    #     )\n",
    "    .build()\n",
    ")\n",
    "\n",
    "#APPOConfig.framework(\"\")"
   ]
  },
  {
   "cell_type": "code",
   "execution_count": null,
   "metadata": {},
   "outputs": [
    {
     "name": "stdout",
     "output_type": "stream",
     "text": [
      "\u001b[2m\u001b[36m(RolloutWorker pid=7720)\u001b[0m reset triggered\n",
      "\u001b[2m\u001b[36m(RolloutWorker pid=7720)\u001b[0m reload save for track : 2\n"
     ]
    },
    {
     "name": "stderr",
     "output_type": "stream",
     "text": [
      "\u001b[2m\u001b[36m(RolloutWorker pid=7720)\u001b[0m c:\\Users\\nadir\\anaconda3\\envs\\GTRay2.6.3_torch_tb\\lib\\site-packages\\gymnasium\\utils\\passive_env_checker.py:233: DeprecationWarning: `np.bool8` is a deprecated alias for `np.bool_`.  (Deprecated NumPy 1.24)\n",
      "\u001b[2m\u001b[36m(RolloutWorker pid=7720)\u001b[0m   if not isinstance(terminated, (bool, np.bool8)):\n"
     ]
    },
    {
     "name": "stdout",
     "output_type": "stream",
     "text": [
      "Loop:  0\n",
      "Saved 0\n"
     ]
    },
    {
     "name": "stderr",
     "output_type": "stream",
     "text": [
      "\u001b[2m\u001b[36m(RolloutWorker pid=7720)\u001b[0m c:\\Users\\nadir\\anaconda3\\envs\\GTRay2.6.3_torch_tb\\lib\\site-packages\\rtgym\\envs\\real_time_env.py:376: UserWarning: Time-step timed out. Elapsed since last time-step: 4.227984499952072\n",
      "\u001b[2m\u001b[36m(RolloutWorker pid=7720)\u001b[0m   warnings.warn(f\"Time-step timed out. Elapsed since last time-step: {now - self.__t_end}\")\n"
     ]
    },
    {
     "name": "stdout",
     "output_type": "stream",
     "text": [
      "Loop:  1\n"
     ]
    },
    {
     "name": "stderr",
     "output_type": "stream",
     "text": [
      "\u001b[2m\u001b[36m(RolloutWorker pid=7720)\u001b[0m c:\\Users\\nadir\\anaconda3\\envs\\GTRay2.6.3_torch_tb\\lib\\site-packages\\rtgym\\envs\\real_time_env.py:376: UserWarning: Time-step timed out. Elapsed since last time-step: 4.067704499953834\n",
      "\u001b[2m\u001b[36m(RolloutWorker pid=7720)\u001b[0m   warnings.warn(f\"Time-step timed out. Elapsed since last time-step: {now - self.__t_end}\")\n"
     ]
    },
    {
     "name": "stdout",
     "output_type": "stream",
     "text": [
      "Loop:  2\n"
     ]
    },
    {
     "name": "stderr",
     "output_type": "stream",
     "text": [
      "\u001b[2m\u001b[36m(RolloutWorker pid=7720)\u001b[0m c:\\Users\\nadir\\anaconda3\\envs\\GTRay2.6.3_torch_tb\\lib\\site-packages\\rtgym\\envs\\real_time_env.py:376: UserWarning: Time-step timed out. Elapsed since last time-step: 3.994853499953024\n",
      "\u001b[2m\u001b[36m(RolloutWorker pid=7720)\u001b[0m   warnings.warn(f\"Time-step timed out. Elapsed since last time-step: {now - self.__t_end}\")\n"
     ]
    },
    {
     "name": "stdout",
     "output_type": "stream",
     "text": [
      "Loop:  3\n"
     ]
    },
    {
     "name": "stderr",
     "output_type": "stream",
     "text": [
      "\u001b[2m\u001b[36m(RolloutWorker pid=7720)\u001b[0m c:\\Users\\nadir\\anaconda3\\envs\\GTRay2.6.3_torch_tb\\lib\\site-packages\\rtgym\\envs\\real_time_env.py:376: UserWarning: Time-step timed out. Elapsed since last time-step: 3.959455899954264\n",
      "\u001b[2m\u001b[36m(RolloutWorker pid=7720)\u001b[0m   warnings.warn(f\"Time-step timed out. Elapsed since last time-step: {now - self.__t_end}\")\n"
     ]
    },
    {
     "name": "stdout",
     "output_type": "stream",
     "text": [
      "Loop:  4\n"
     ]
    },
    {
     "name": "stderr",
     "output_type": "stream",
     "text": [
      "\u001b[2m\u001b[36m(RolloutWorker pid=7720)\u001b[0m c:\\Users\\nadir\\anaconda3\\envs\\GTRay2.6.3_torch_tb\\lib\\site-packages\\rtgym\\envs\\real_time_env.py:376: UserWarning: Time-step timed out. Elapsed since last time-step: 3.9471903999528877\n",
      "\u001b[2m\u001b[36m(RolloutWorker pid=7720)\u001b[0m   warnings.warn(f\"Time-step timed out. Elapsed since last time-step: {now - self.__t_end}\")\n"
     ]
    },
    {
     "name": "stdout",
     "output_type": "stream",
     "text": [
      "Loop:  5\n"
     ]
    },
    {
     "name": "stderr",
     "output_type": "stream",
     "text": [
      "\u001b[2m\u001b[36m(RolloutWorker pid=7720)\u001b[0m c:\\Users\\nadir\\anaconda3\\envs\\GTRay2.6.3_torch_tb\\lib\\site-packages\\rtgym\\envs\\real_time_env.py:376: UserWarning: Time-step timed out. Elapsed since last time-step: 4.082409399953576\n",
      "\u001b[2m\u001b[36m(RolloutWorker pid=7720)\u001b[0m   warnings.warn(f\"Time-step timed out. Elapsed since last time-step: {now - self.__t_end}\")\n"
     ]
    },
    {
     "name": "stdout",
     "output_type": "stream",
     "text": [
      "Loop:  6\n"
     ]
    },
    {
     "name": "stderr",
     "output_type": "stream",
     "text": [
      "\u001b[2m\u001b[36m(RolloutWorker pid=7720)\u001b[0m c:\\Users\\nadir\\anaconda3\\envs\\GTRay2.6.3_torch_tb\\lib\\site-packages\\rtgym\\envs\\real_time_env.py:376: UserWarning: Time-step timed out. Elapsed since last time-step: 4.055033599953276\n",
      "\u001b[2m\u001b[36m(RolloutWorker pid=7720)\u001b[0m   warnings.warn(f\"Time-step timed out. Elapsed since last time-step: {now - self.__t_end}\")\n"
     ]
    },
    {
     "name": "stdout",
     "output_type": "stream",
     "text": [
      "Loop:  7\n"
     ]
    },
    {
     "name": "stderr",
     "output_type": "stream",
     "text": [
      "\u001b[2m\u001b[36m(RolloutWorker pid=7720)\u001b[0m c:\\Users\\nadir\\anaconda3\\envs\\GTRay2.6.3_torch_tb\\lib\\site-packages\\rtgym\\envs\\real_time_env.py:376: UserWarning: Time-step timed out. Elapsed since last time-step: 3.9896126999537955\n",
      "\u001b[2m\u001b[36m(RolloutWorker pid=7720)\u001b[0m   warnings.warn(f\"Time-step timed out. Elapsed since last time-step: {now - self.__t_end}\")\n"
     ]
    },
    {
     "name": "stdout",
     "output_type": "stream",
     "text": [
      "Loop:  8\n"
     ]
    },
    {
     "name": "stderr",
     "output_type": "stream",
     "text": [
      "\u001b[2m\u001b[36m(RolloutWorker pid=7720)\u001b[0m c:\\Users\\nadir\\anaconda3\\envs\\GTRay2.6.3_torch_tb\\lib\\site-packages\\rtgym\\envs\\real_time_env.py:376: UserWarning: Time-step timed out. Elapsed since last time-step: 3.9647210999528397\n",
      "\u001b[2m\u001b[36m(RolloutWorker pid=7720)\u001b[0m   warnings.warn(f\"Time-step timed out. Elapsed since last time-step: {now - self.__t_end}\")\n"
     ]
    },
    {
     "name": "stdout",
     "output_type": "stream",
     "text": [
      "Loop:  9\n"
     ]
    },
    {
     "name": "stderr",
     "output_type": "stream",
     "text": [
      "\u001b[2m\u001b[36m(RolloutWorker pid=7720)\u001b[0m c:\\Users\\nadir\\anaconda3\\envs\\GTRay2.6.3_torch_tb\\lib\\site-packages\\rtgym\\envs\\real_time_env.py:376: UserWarning: Time-step timed out. Elapsed since last time-step: 3.935330599953886\n",
      "\u001b[2m\u001b[36m(RolloutWorker pid=7720)\u001b[0m   warnings.warn(f\"Time-step timed out. Elapsed since last time-step: {now - self.__t_end}\")\n"
     ]
    },
    {
     "name": "stdout",
     "output_type": "stream",
     "text": [
      "Loop:  10\n",
      "Saved 10\n"
     ]
    },
    {
     "name": "stderr",
     "output_type": "stream",
     "text": [
      "\u001b[2m\u001b[36m(RolloutWorker pid=7720)\u001b[0m c:\\Users\\nadir\\anaconda3\\envs\\GTRay2.6.3_torch_tb\\lib\\site-packages\\rtgym\\envs\\real_time_env.py:376: UserWarning: Time-step timed out. Elapsed since last time-step: 4.224289899952964\n",
      "\u001b[2m\u001b[36m(RolloutWorker pid=7720)\u001b[0m   warnings.warn(f\"Time-step timed out. Elapsed since last time-step: {now - self.__t_end}\")\n"
     ]
    },
    {
     "name": "stdout",
     "output_type": "stream",
     "text": [
      "Loop:  11\n"
     ]
    },
    {
     "name": "stderr",
     "output_type": "stream",
     "text": [
      "\u001b[2m\u001b[36m(RolloutWorker pid=7720)\u001b[0m c:\\Users\\nadir\\anaconda3\\envs\\GTRay2.6.3_torch_tb\\lib\\site-packages\\rtgym\\envs\\real_time_env.py:376: UserWarning: Time-step timed out. Elapsed since last time-step: 3.9575601999540595\n",
      "\u001b[2m\u001b[36m(RolloutWorker pid=7720)\u001b[0m   warnings.warn(f\"Time-step timed out. Elapsed since last time-step: {now - self.__t_end}\")\n"
     ]
    },
    {
     "name": "stdout",
     "output_type": "stream",
     "text": [
      "Loop:  12\n"
     ]
    },
    {
     "name": "stderr",
     "output_type": "stream",
     "text": [
      "\u001b[2m\u001b[36m(RolloutWorker pid=7720)\u001b[0m c:\\Users\\nadir\\anaconda3\\envs\\GTRay2.6.3_torch_tb\\lib\\site-packages\\rtgym\\envs\\real_time_env.py:376: UserWarning: Time-step timed out. Elapsed since last time-step: 3.9102639999528037\n",
      "\u001b[2m\u001b[36m(RolloutWorker pid=7720)\u001b[0m   warnings.warn(f\"Time-step timed out. Elapsed since last time-step: {now - self.__t_end}\")\n"
     ]
    },
    {
     "name": "stdout",
     "output_type": "stream",
     "text": [
      "Loop:  13\n"
     ]
    },
    {
     "name": "stderr",
     "output_type": "stream",
     "text": [
      "\u001b[2m\u001b[36m(RolloutWorker pid=7720)\u001b[0m c:\\Users\\nadir\\anaconda3\\envs\\GTRay2.6.3_torch_tb\\lib\\site-packages\\rtgym\\envs\\real_time_env.py:376: UserWarning: Time-step timed out. Elapsed since last time-step: 4.001217699953486\n",
      "\u001b[2m\u001b[36m(RolloutWorker pid=7720)\u001b[0m   warnings.warn(f\"Time-step timed out. Elapsed since last time-step: {now - self.__t_end}\")\n"
     ]
    },
    {
     "name": "stdout",
     "output_type": "stream",
     "text": [
      "Loop:  14\n"
     ]
    },
    {
     "name": "stderr",
     "output_type": "stream",
     "text": [
      "\u001b[2m\u001b[36m(RolloutWorker pid=7720)\u001b[0m c:\\Users\\nadir\\anaconda3\\envs\\GTRay2.6.3_torch_tb\\lib\\site-packages\\rtgym\\envs\\real_time_env.py:376: UserWarning: Time-step timed out. Elapsed since last time-step: 4.047490299954006\n",
      "\u001b[2m\u001b[36m(RolloutWorker pid=7720)\u001b[0m   warnings.warn(f\"Time-step timed out. Elapsed since last time-step: {now - self.__t_end}\")\n"
     ]
    },
    {
     "name": "stdout",
     "output_type": "stream",
     "text": [
      "\u001b[2m\u001b[36m(RolloutWorker pid=7720)\u001b[0m reset triggered\n",
      "\u001b[2m\u001b[36m(RolloutWorker pid=7720)\u001b[0m reload save for track : 2\n"
     ]
    },
    {
     "name": "stderr",
     "output_type": "stream",
     "text": [
      "2023-10-07 16:20:19,454\tWARNING tensorboardx.py:88 -- You are trying to log an invalid value (ray/tune/hist_stats/episode_reward=[52.5]) via TBXLogger!\n",
      "\u001b[2m\u001b[36m(RolloutWorker pid=7720)\u001b[0m c:\\Users\\nadir\\anaconda3\\envs\\GTRay2.6.3_torch_tb\\lib\\site-packages\\rtgym\\envs\\real_time_env.py:376: UserWarning: Time-step timed out. Elapsed since last time-step: 3.982721099952869\n",
      "\u001b[2m\u001b[36m(RolloutWorker pid=7720)\u001b[0m   warnings.warn(f\"Time-step timed out. Elapsed since last time-step: {now - self.__t_end}\")\n"
     ]
    },
    {
     "name": "stdout",
     "output_type": "stream",
     "text": [
      "Loop:  15\n",
      "Loop:  16\n"
     ]
    },
    {
     "name": "stderr",
     "output_type": "stream",
     "text": [
      "\u001b[2m\u001b[36m(RolloutWorker pid=7720)\u001b[0m c:\\Users\\nadir\\anaconda3\\envs\\GTRay2.6.3_torch_tb\\lib\\site-packages\\rtgym\\envs\\real_time_env.py:376: UserWarning: Time-step timed out. Elapsed since last time-step: 3.9609422999537856\n",
      "\u001b[2m\u001b[36m(RolloutWorker pid=7720)\u001b[0m   warnings.warn(f\"Time-step timed out. Elapsed since last time-step: {now - self.__t_end}\")\n"
     ]
    },
    {
     "name": "stdout",
     "output_type": "stream",
     "text": [
      "Loop:  17\n"
     ]
    },
    {
     "name": "stderr",
     "output_type": "stream",
     "text": [
      "\u001b[2m\u001b[36m(RolloutWorker pid=7720)\u001b[0m c:\\Users\\nadir\\anaconda3\\envs\\GTRay2.6.3_torch_tb\\lib\\site-packages\\rtgym\\envs\\real_time_env.py:376: UserWarning: Time-step timed out. Elapsed since last time-step: 4.027697799953785\n",
      "\u001b[2m\u001b[36m(RolloutWorker pid=7720)\u001b[0m   warnings.warn(f\"Time-step timed out. Elapsed since last time-step: {now - self.__t_end}\")\n"
     ]
    },
    {
     "name": "stdout",
     "output_type": "stream",
     "text": [
      "Loop:  18\n"
     ]
    },
    {
     "name": "stderr",
     "output_type": "stream",
     "text": [
      "\u001b[2m\u001b[36m(RolloutWorker pid=7720)\u001b[0m c:\\Users\\nadir\\anaconda3\\envs\\GTRay2.6.3_torch_tb\\lib\\site-packages\\rtgym\\envs\\real_time_env.py:376: UserWarning: Time-step timed out. Elapsed since last time-step: 3.9748899999531204\n",
      "\u001b[2m\u001b[36m(RolloutWorker pid=7720)\u001b[0m   warnings.warn(f\"Time-step timed out. Elapsed since last time-step: {now - self.__t_end}\")\n"
     ]
    },
    {
     "name": "stdout",
     "output_type": "stream",
     "text": [
      "Loop:  19\n"
     ]
    },
    {
     "name": "stderr",
     "output_type": "stream",
     "text": [
      "\u001b[2m\u001b[36m(RolloutWorker pid=7720)\u001b[0m c:\\Users\\nadir\\anaconda3\\envs\\GTRay2.6.3_torch_tb\\lib\\site-packages\\rtgym\\envs\\real_time_env.py:376: UserWarning: Time-step timed out. Elapsed since last time-step: 3.9558240999531336\n",
      "\u001b[2m\u001b[36m(RolloutWorker pid=7720)\u001b[0m   warnings.warn(f\"Time-step timed out. Elapsed since last time-step: {now - self.__t_end}\")\n"
     ]
    },
    {
     "name": "stdout",
     "output_type": "stream",
     "text": [
      "Loop:  20\n",
      "Saved 20\n"
     ]
    },
    {
     "name": "stderr",
     "output_type": "stream",
     "text": [
      "\u001b[2m\u001b[36m(RolloutWorker pid=7720)\u001b[0m c:\\Users\\nadir\\anaconda3\\envs\\GTRay2.6.3_torch_tb\\lib\\site-packages\\rtgym\\envs\\real_time_env.py:376: UserWarning: Time-step timed out. Elapsed since last time-step: 4.166309499953968\n",
      "\u001b[2m\u001b[36m(RolloutWorker pid=7720)\u001b[0m   warnings.warn(f\"Time-step timed out. Elapsed since last time-step: {now - self.__t_end}\")\n"
     ]
    },
    {
     "name": "stdout",
     "output_type": "stream",
     "text": [
      "Loop:  21\n"
     ]
    },
    {
     "name": "stderr",
     "output_type": "stream",
     "text": [
      "\u001b[2m\u001b[36m(RolloutWorker pid=7720)\u001b[0m c:\\Users\\nadir\\anaconda3\\envs\\GTRay2.6.3_torch_tb\\lib\\site-packages\\rtgym\\envs\\real_time_env.py:376: UserWarning: Time-step timed out. Elapsed since last time-step: 3.9759281999531595\n",
      "\u001b[2m\u001b[36m(RolloutWorker pid=7720)\u001b[0m   warnings.warn(f\"Time-step timed out. Elapsed since last time-step: {now - self.__t_end}\")\n"
     ]
    },
    {
     "name": "stdout",
     "output_type": "stream",
     "text": [
      "Loop:  22\n"
     ]
    },
    {
     "name": "stderr",
     "output_type": "stream",
     "text": [
      "\u001b[2m\u001b[36m(RolloutWorker pid=7720)\u001b[0m c:\\Users\\nadir\\anaconda3\\envs\\GTRay2.6.3_torch_tb\\lib\\site-packages\\rtgym\\envs\\real_time_env.py:376: UserWarning: Time-step timed out. Elapsed since last time-step: 4.031620199953068\n",
      "\u001b[2m\u001b[36m(RolloutWorker pid=7720)\u001b[0m   warnings.warn(f\"Time-step timed out. Elapsed since last time-step: {now - self.__t_end}\")\n"
     ]
    },
    {
     "name": "stdout",
     "output_type": "stream",
     "text": [
      "Loop:  23\n"
     ]
    },
    {
     "name": "stderr",
     "output_type": "stream",
     "text": [
      "\u001b[2m\u001b[36m(RolloutWorker pid=7720)\u001b[0m c:\\Users\\nadir\\anaconda3\\envs\\GTRay2.6.3_torch_tb\\lib\\site-packages\\rtgym\\envs\\real_time_env.py:376: UserWarning: Time-step timed out. Elapsed since last time-step: 3.977492199954213\n",
      "\u001b[2m\u001b[36m(RolloutWorker pid=7720)\u001b[0m   warnings.warn(f\"Time-step timed out. Elapsed since last time-step: {now - self.__t_end}\")\n"
     ]
    },
    {
     "name": "stdout",
     "output_type": "stream",
     "text": [
      "Loop:  24\n"
     ]
    },
    {
     "name": "stderr",
     "output_type": "stream",
     "text": [
      "\u001b[2m\u001b[36m(RolloutWorker pid=7720)\u001b[0m c:\\Users\\nadir\\anaconda3\\envs\\GTRay2.6.3_torch_tb\\lib\\site-packages\\rtgym\\envs\\real_time_env.py:376: UserWarning: Time-step timed out. Elapsed since last time-step: 4.003856899952552\n",
      "\u001b[2m\u001b[36m(RolloutWorker pid=7720)\u001b[0m   warnings.warn(f\"Time-step timed out. Elapsed since last time-step: {now - self.__t_end}\")\n"
     ]
    },
    {
     "name": "stdout",
     "output_type": "stream",
     "text": [
      "Loop:  25\n"
     ]
    },
    {
     "name": "stderr",
     "output_type": "stream",
     "text": [
      "\u001b[2m\u001b[36m(RolloutWorker pid=7720)\u001b[0m c:\\Users\\nadir\\anaconda3\\envs\\GTRay2.6.3_torch_tb\\lib\\site-packages\\rtgym\\envs\\real_time_env.py:376: UserWarning: Time-step timed out. Elapsed since last time-step: 3.9816601999536942\n",
      "\u001b[2m\u001b[36m(RolloutWorker pid=7720)\u001b[0m   warnings.warn(f\"Time-step timed out. Elapsed since last time-step: {now - self.__t_end}\")\n"
     ]
    },
    {
     "name": "stdout",
     "output_type": "stream",
     "text": [
      "Loop:  26\n"
     ]
    },
    {
     "name": "stderr",
     "output_type": "stream",
     "text": [
      "\u001b[2m\u001b[36m(RolloutWorker pid=7720)\u001b[0m c:\\Users\\nadir\\anaconda3\\envs\\GTRay2.6.3_torch_tb\\lib\\site-packages\\rtgym\\envs\\real_time_env.py:376: UserWarning: Time-step timed out. Elapsed since last time-step: 3.9559314999532944\n",
      "\u001b[2m\u001b[36m(RolloutWorker pid=7720)\u001b[0m   warnings.warn(f\"Time-step timed out. Elapsed since last time-step: {now - self.__t_end}\")\n"
     ]
    },
    {
     "name": "stdout",
     "output_type": "stream",
     "text": [
      "Loop:  27\n"
     ]
    },
    {
     "name": "stderr",
     "output_type": "stream",
     "text": [
      "\u001b[2m\u001b[36m(RolloutWorker pid=7720)\u001b[0m c:\\Users\\nadir\\anaconda3\\envs\\GTRay2.6.3_torch_tb\\lib\\site-packages\\rtgym\\envs\\real_time_env.py:376: UserWarning: Time-step timed out. Elapsed since last time-step: 3.856289999953333\n",
      "\u001b[2m\u001b[36m(RolloutWorker pid=7720)\u001b[0m   warnings.warn(f\"Time-step timed out. Elapsed since last time-step: {now - self.__t_end}\")\n"
     ]
    },
    {
     "name": "stdout",
     "output_type": "stream",
     "text": [
      "Loop:  28\n"
     ]
    },
    {
     "name": "stderr",
     "output_type": "stream",
     "text": [
      "\u001b[2m\u001b[36m(RolloutWorker pid=7720)\u001b[0m c:\\Users\\nadir\\anaconda3\\envs\\GTRay2.6.3_torch_tb\\lib\\site-packages\\rtgym\\envs\\real_time_env.py:376: UserWarning: Time-step timed out. Elapsed since last time-step: 3.918502799953785\n",
      "\u001b[2m\u001b[36m(RolloutWorker pid=7720)\u001b[0m   warnings.warn(f\"Time-step timed out. Elapsed since last time-step: {now - self.__t_end}\")\n"
     ]
    },
    {
     "name": "stdout",
     "output_type": "stream",
     "text": [
      "Loop:  29\n"
     ]
    },
    {
     "name": "stderr",
     "output_type": "stream",
     "text": [
      "\u001b[2m\u001b[36m(RolloutWorker pid=7720)\u001b[0m c:\\Users\\nadir\\anaconda3\\envs\\GTRay2.6.3_torch_tb\\lib\\site-packages\\rtgym\\envs\\real_time_env.py:376: UserWarning: Time-step timed out. Elapsed since last time-step: 3.9050493999538958\n",
      "\u001b[2m\u001b[36m(RolloutWorker pid=7720)\u001b[0m   warnings.warn(f\"Time-step timed out. Elapsed since last time-step: {now - self.__t_end}\")\n"
     ]
    },
    {
     "name": "stdout",
     "output_type": "stream",
     "text": [
      "Loop:  30\n",
      "Saved 30\n"
     ]
    },
    {
     "name": "stderr",
     "output_type": "stream",
     "text": [
      "\u001b[2m\u001b[36m(RolloutWorker pid=7720)\u001b[0m c:\\Users\\nadir\\anaconda3\\envs\\GTRay2.6.3_torch_tb\\lib\\site-packages\\rtgym\\envs\\real_time_env.py:376: UserWarning: Time-step timed out. Elapsed since last time-step: 4.114108999952805\n",
      "\u001b[2m\u001b[36m(RolloutWorker pid=7720)\u001b[0m   warnings.warn(f\"Time-step timed out. Elapsed since last time-step: {now - self.__t_end}\")\n"
     ]
    },
    {
     "name": "stdout",
     "output_type": "stream",
     "text": [
      "\u001b[2m\u001b[36m(RolloutWorker pid=7720)\u001b[0m reset triggered\n",
      "\u001b[2m\u001b[36m(RolloutWorker pid=7720)\u001b[0m reload save for track : 2\n",
      "Loop:  31\n"
     ]
    },
    {
     "name": "stderr",
     "output_type": "stream",
     "text": [
      "\u001b[2m\u001b[36m(RolloutWorker pid=7720)\u001b[0m c:\\Users\\nadir\\anaconda3\\envs\\GTRay2.6.3_torch_tb\\lib\\site-packages\\rtgym\\envs\\real_time_env.py:376: UserWarning: Time-step timed out. Elapsed since last time-step: 3.918847799953255\n",
      "\u001b[2m\u001b[36m(RolloutWorker pid=7720)\u001b[0m   warnings.warn(f\"Time-step timed out. Elapsed since last time-step: {now - self.__t_end}\")\n"
     ]
    },
    {
     "name": "stdout",
     "output_type": "stream",
     "text": [
      "Loop:  32\n"
     ]
    },
    {
     "name": "stderr",
     "output_type": "stream",
     "text": [
      "\u001b[2m\u001b[36m(RolloutWorker pid=7720)\u001b[0m c:\\Users\\nadir\\anaconda3\\envs\\GTRay2.6.3_torch_tb\\lib\\site-packages\\rtgym\\envs\\real_time_env.py:376: UserWarning: Time-step timed out. Elapsed since last time-step: 3.915259799953674\n",
      "\u001b[2m\u001b[36m(RolloutWorker pid=7720)\u001b[0m   warnings.warn(f\"Time-step timed out. Elapsed since last time-step: {now - self.__t_end}\")\n"
     ]
    },
    {
     "name": "stdout",
     "output_type": "stream",
     "text": [
      "Loop:  33\n"
     ]
    },
    {
     "name": "stderr",
     "output_type": "stream",
     "text": [
      "\u001b[2m\u001b[36m(RolloutWorker pid=7720)\u001b[0m c:\\Users\\nadir\\anaconda3\\envs\\GTRay2.6.3_torch_tb\\lib\\site-packages\\rtgym\\envs\\real_time_env.py:376: UserWarning: Time-step timed out. Elapsed since last time-step: 3.875921999953789\n",
      "\u001b[2m\u001b[36m(RolloutWorker pid=7720)\u001b[0m   warnings.warn(f\"Time-step timed out. Elapsed since last time-step: {now - self.__t_end}\")\n"
     ]
    },
    {
     "name": "stdout",
     "output_type": "stream",
     "text": [
      "Loop:  34\n"
     ]
    },
    {
     "name": "stderr",
     "output_type": "stream",
     "text": [
      "\u001b[2m\u001b[36m(RolloutWorker pid=7720)\u001b[0m c:\\Users\\nadir\\anaconda3\\envs\\GTRay2.6.3_torch_tb\\lib\\site-packages\\rtgym\\envs\\real_time_env.py:376: UserWarning: Time-step timed out. Elapsed since last time-step: 3.8857557999535857\n",
      "\u001b[2m\u001b[36m(RolloutWorker pid=7720)\u001b[0m   warnings.warn(f\"Time-step timed out. Elapsed since last time-step: {now - self.__t_end}\")\n"
     ]
    },
    {
     "name": "stdout",
     "output_type": "stream",
     "text": [
      "Loop:  35\n"
     ]
    },
    {
     "name": "stderr",
     "output_type": "stream",
     "text": [
      "\u001b[2m\u001b[36m(RolloutWorker pid=7720)\u001b[0m c:\\Users\\nadir\\anaconda3\\envs\\GTRay2.6.3_torch_tb\\lib\\site-packages\\rtgym\\envs\\real_time_env.py:376: UserWarning: Time-step timed out. Elapsed since last time-step: 3.900430299952859\n",
      "\u001b[2m\u001b[36m(RolloutWorker pid=7720)\u001b[0m   warnings.warn(f\"Time-step timed out. Elapsed since last time-step: {now - self.__t_end}\")\n"
     ]
    },
    {
     "name": "stdout",
     "output_type": "stream",
     "text": [
      "Loop:  36\n"
     ]
    },
    {
     "name": "stderr",
     "output_type": "stream",
     "text": [
      "\u001b[2m\u001b[36m(RolloutWorker pid=7720)\u001b[0m c:\\Users\\nadir\\anaconda3\\envs\\GTRay2.6.3_torch_tb\\lib\\site-packages\\rtgym\\envs\\real_time_env.py:376: UserWarning: Time-step timed out. Elapsed since last time-step: 3.8356321999535794\n",
      "\u001b[2m\u001b[36m(RolloutWorker pid=7720)\u001b[0m   warnings.warn(f\"Time-step timed out. Elapsed since last time-step: {now - self.__t_end}\")\n"
     ]
    },
    {
     "name": "stdout",
     "output_type": "stream",
     "text": [
      "Loop:  37\n"
     ]
    },
    {
     "name": "stderr",
     "output_type": "stream",
     "text": [
      "\u001b[2m\u001b[36m(RolloutWorker pid=7720)\u001b[0m c:\\Users\\nadir\\anaconda3\\envs\\GTRay2.6.3_torch_tb\\lib\\site-packages\\rtgym\\envs\\real_time_env.py:376: UserWarning: Time-step timed out. Elapsed since last time-step: 3.880387099953623\n",
      "\u001b[2m\u001b[36m(RolloutWorker pid=7720)\u001b[0m   warnings.warn(f\"Time-step timed out. Elapsed since last time-step: {now - self.__t_end}\")\n"
     ]
    },
    {
     "name": "stdout",
     "output_type": "stream",
     "text": [
      "Loop:  38\n"
     ]
    },
    {
     "name": "stderr",
     "output_type": "stream",
     "text": [
      "\u001b[2m\u001b[36m(RolloutWorker pid=7720)\u001b[0m c:\\Users\\nadir\\anaconda3\\envs\\GTRay2.6.3_torch_tb\\lib\\site-packages\\rtgym\\envs\\real_time_env.py:376: UserWarning: Time-step timed out. Elapsed since last time-step: 3.90071289995376\n",
      "\u001b[2m\u001b[36m(RolloutWorker pid=7720)\u001b[0m   warnings.warn(f\"Time-step timed out. Elapsed since last time-step: {now - self.__t_end}\")\n"
     ]
    },
    {
     "name": "stdout",
     "output_type": "stream",
     "text": [
      "Loop:  39\n"
     ]
    },
    {
     "name": "stderr",
     "output_type": "stream",
     "text": [
      "\u001b[2m\u001b[36m(RolloutWorker pid=7720)\u001b[0m c:\\Users\\nadir\\anaconda3\\envs\\GTRay2.6.3_torch_tb\\lib\\site-packages\\rtgym\\envs\\real_time_env.py:376: UserWarning: Time-step timed out. Elapsed since last time-step: 3.86192489995301\n",
      "\u001b[2m\u001b[36m(RolloutWorker pid=7720)\u001b[0m   warnings.warn(f\"Time-step timed out. Elapsed since last time-step: {now - self.__t_end}\")\n"
     ]
    },
    {
     "name": "stdout",
     "output_type": "stream",
     "text": [
      "Loop:  40\n",
      "Saved 40\n"
     ]
    },
    {
     "name": "stderr",
     "output_type": "stream",
     "text": [
      "\u001b[2m\u001b[36m(RolloutWorker pid=7720)\u001b[0m c:\\Users\\nadir\\anaconda3\\envs\\GTRay2.6.3_torch_tb\\lib\\site-packages\\rtgym\\envs\\real_time_env.py:376: UserWarning: Time-step timed out. Elapsed since last time-step: 4.0784434999532095\n",
      "\u001b[2m\u001b[36m(RolloutWorker pid=7720)\u001b[0m   warnings.warn(f\"Time-step timed out. Elapsed since last time-step: {now - self.__t_end}\")\n"
     ]
    },
    {
     "name": "stdout",
     "output_type": "stream",
     "text": [
      "Loop:  41\n"
     ]
    },
    {
     "name": "stderr",
     "output_type": "stream",
     "text": [
      "\u001b[2m\u001b[36m(RolloutWorker pid=7720)\u001b[0m c:\\Users\\nadir\\anaconda3\\envs\\GTRay2.6.3_torch_tb\\lib\\site-packages\\rtgym\\envs\\real_time_env.py:376: UserWarning: Time-step timed out. Elapsed since last time-step: 3.876012099954096\n",
      "\u001b[2m\u001b[36m(RolloutWorker pid=7720)\u001b[0m   warnings.warn(f\"Time-step timed out. Elapsed since last time-step: {now - self.__t_end}\")\n"
     ]
    },
    {
     "name": "stdout",
     "output_type": "stream",
     "text": [
      "Loop:  42\n"
     ]
    },
    {
     "name": "stderr",
     "output_type": "stream",
     "text": [
      "\u001b[2m\u001b[36m(RolloutWorker pid=7720)\u001b[0m c:\\Users\\nadir\\anaconda3\\envs\\GTRay2.6.3_torch_tb\\lib\\site-packages\\rtgym\\envs\\real_time_env.py:376: UserWarning: Time-step timed out. Elapsed since last time-step: 3.8783808999532994\n",
      "\u001b[2m\u001b[36m(RolloutWorker pid=7720)\u001b[0m   warnings.warn(f\"Time-step timed out. Elapsed since last time-step: {now - self.__t_end}\")\n"
     ]
    },
    {
     "name": "stdout",
     "output_type": "stream",
     "text": [
      "Loop:  43\n"
     ]
    },
    {
     "name": "stderr",
     "output_type": "stream",
     "text": [
      "\u001b[2m\u001b[36m(RolloutWorker pid=7720)\u001b[0m c:\\Users\\nadir\\anaconda3\\envs\\GTRay2.6.3_torch_tb\\lib\\site-packages\\rtgym\\envs\\real_time_env.py:376: UserWarning: Time-step timed out. Elapsed since last time-step: 3.876164699952824\n",
      "\u001b[2m\u001b[36m(RolloutWorker pid=7720)\u001b[0m   warnings.warn(f\"Time-step timed out. Elapsed since last time-step: {now - self.__t_end}\")\n"
     ]
    },
    {
     "name": "stdout",
     "output_type": "stream",
     "text": [
      "Loop:  44\n"
     ]
    },
    {
     "name": "stderr",
     "output_type": "stream",
     "text": [
      "\u001b[2m\u001b[36m(RolloutWorker pid=7720)\u001b[0m c:\\Users\\nadir\\anaconda3\\envs\\GTRay2.6.3_torch_tb\\lib\\site-packages\\rtgym\\envs\\real_time_env.py:376: UserWarning: Time-step timed out. Elapsed since last time-step: 3.9671837999540003\n",
      "\u001b[2m\u001b[36m(RolloutWorker pid=7720)\u001b[0m   warnings.warn(f\"Time-step timed out. Elapsed since last time-step: {now - self.__t_end}\")\n"
     ]
    },
    {
     "name": "stdout",
     "output_type": "stream",
     "text": [
      "Loop:  45\n"
     ]
    },
    {
     "name": "stderr",
     "output_type": "stream",
     "text": [
      "\u001b[2m\u001b[36m(RolloutWorker pid=7720)\u001b[0m c:\\Users\\nadir\\anaconda3\\envs\\GTRay2.6.3_torch_tb\\lib\\site-packages\\rtgym\\envs\\real_time_env.py:376: UserWarning: Time-step timed out. Elapsed since last time-step: 4.0471934999532095\n",
      "\u001b[2m\u001b[36m(RolloutWorker pid=7720)\u001b[0m   warnings.warn(f\"Time-step timed out. Elapsed since last time-step: {now - self.__t_end}\")\n"
     ]
    },
    {
     "name": "stdout",
     "output_type": "stream",
     "text": [
      "\u001b[2m\u001b[36m(RolloutWorker pid=7720)\u001b[0m reset triggered\n",
      "\u001b[2m\u001b[36m(RolloutWorker pid=7720)\u001b[0m reload save for track : 2\n",
      "Loop:  46\n"
     ]
    },
    {
     "name": "stderr",
     "output_type": "stream",
     "text": [
      "\u001b[2m\u001b[36m(RolloutWorker pid=7720)\u001b[0m c:\\Users\\nadir\\anaconda3\\envs\\GTRay2.6.3_torch_tb\\lib\\site-packages\\rtgym\\envs\\real_time_env.py:376: UserWarning: Time-step timed out. Elapsed since last time-step: 3.895091599953048\n",
      "\u001b[2m\u001b[36m(RolloutWorker pid=7720)\u001b[0m   warnings.warn(f\"Time-step timed out. Elapsed since last time-step: {now - self.__t_end}\")\n"
     ]
    },
    {
     "name": "stdout",
     "output_type": "stream",
     "text": [
      "Loop:  47\n"
     ]
    },
    {
     "name": "stderr",
     "output_type": "stream",
     "text": [
      "\u001b[2m\u001b[36m(RolloutWorker pid=7720)\u001b[0m c:\\Users\\nadir\\anaconda3\\envs\\GTRay2.6.3_torch_tb\\lib\\site-packages\\rtgym\\envs\\real_time_env.py:376: UserWarning: Time-step timed out. Elapsed since last time-step: 3.928594099953443\n",
      "\u001b[2m\u001b[36m(RolloutWorker pid=7720)\u001b[0m   warnings.warn(f\"Time-step timed out. Elapsed since last time-step: {now - self.__t_end}\")\n"
     ]
    },
    {
     "name": "stdout",
     "output_type": "stream",
     "text": [
      "Loop:  48\n"
     ]
    },
    {
     "name": "stderr",
     "output_type": "stream",
     "text": [
      "\u001b[2m\u001b[36m(RolloutWorker pid=7720)\u001b[0m c:\\Users\\nadir\\anaconda3\\envs\\GTRay2.6.3_torch_tb\\lib\\site-packages\\rtgym\\envs\\real_time_env.py:376: UserWarning: Time-step timed out. Elapsed since last time-step: 3.850111899953845\n",
      "\u001b[2m\u001b[36m(RolloutWorker pid=7720)\u001b[0m   warnings.warn(f\"Time-step timed out. Elapsed since last time-step: {now - self.__t_end}\")\n"
     ]
    },
    {
     "name": "stdout",
     "output_type": "stream",
     "text": [
      "Loop:  49\n"
     ]
    },
    {
     "name": "stderr",
     "output_type": "stream",
     "text": [
      "\u001b[2m\u001b[36m(RolloutWorker pid=7720)\u001b[0m c:\\Users\\nadir\\anaconda3\\envs\\GTRay2.6.3_torch_tb\\lib\\site-packages\\rtgym\\envs\\real_time_env.py:376: UserWarning: Time-step timed out. Elapsed since last time-step: 3.9465977999534516\n",
      "\u001b[2m\u001b[36m(RolloutWorker pid=7720)\u001b[0m   warnings.warn(f\"Time-step timed out. Elapsed since last time-step: {now - self.__t_end}\")\n"
     ]
    },
    {
     "name": "stdout",
     "output_type": "stream",
     "text": [
      "Loop:  50\n",
      "Saved 50\n"
     ]
    },
    {
     "name": "stderr",
     "output_type": "stream",
     "text": [
      "\u001b[2m\u001b[36m(RolloutWorker pid=7720)\u001b[0m c:\\Users\\nadir\\anaconda3\\envs\\GTRay2.6.3_torch_tb\\lib\\site-packages\\rtgym\\envs\\real_time_env.py:376: UserWarning: Time-step timed out. Elapsed since last time-step: 4.17083859995364\n",
      "\u001b[2m\u001b[36m(RolloutWorker pid=7720)\u001b[0m   warnings.warn(f\"Time-step timed out. Elapsed since last time-step: {now - self.__t_end}\")\n"
     ]
    },
    {
     "name": "stdout",
     "output_type": "stream",
     "text": [
      "Loop:  51\n"
     ]
    },
    {
     "name": "stderr",
     "output_type": "stream",
     "text": [
      "\u001b[2m\u001b[36m(RolloutWorker pid=7720)\u001b[0m c:\\Users\\nadir\\anaconda3\\envs\\GTRay2.6.3_torch_tb\\lib\\site-packages\\rtgym\\envs\\real_time_env.py:376: UserWarning: Time-step timed out. Elapsed since last time-step: 3.846586599953298\n",
      "\u001b[2m\u001b[36m(RolloutWorker pid=7720)\u001b[0m   warnings.warn(f\"Time-step timed out. Elapsed since last time-step: {now - self.__t_end}\")\n"
     ]
    },
    {
     "name": "stdout",
     "output_type": "stream",
     "text": [
      "Loop:  52\n"
     ]
    },
    {
     "name": "stderr",
     "output_type": "stream",
     "text": [
      "\u001b[2m\u001b[36m(RolloutWorker pid=7720)\u001b[0m c:\\Users\\nadir\\anaconda3\\envs\\GTRay2.6.3_torch_tb\\lib\\site-packages\\rtgym\\envs\\real_time_env.py:376: UserWarning: Time-step timed out. Elapsed since last time-step: 4.1064509999532675\n",
      "\u001b[2m\u001b[36m(RolloutWorker pid=7720)\u001b[0m   warnings.warn(f\"Time-step timed out. Elapsed since last time-step: {now - self.__t_end}\")\n"
     ]
    },
    {
     "name": "stdout",
     "output_type": "stream",
     "text": [
      "Loop:  53\n"
     ]
    },
    {
     "name": "stderr",
     "output_type": "stream",
     "text": [
      "\u001b[2m\u001b[36m(RolloutWorker pid=7720)\u001b[0m c:\\Users\\nadir\\anaconda3\\envs\\GTRay2.6.3_torch_tb\\lib\\site-packages\\rtgym\\envs\\real_time_env.py:376: UserWarning: Time-step timed out. Elapsed since last time-step: 3.9984181999534485\n",
      "\u001b[2m\u001b[36m(RolloutWorker pid=7720)\u001b[0m   warnings.warn(f\"Time-step timed out. Elapsed since last time-step: {now - self.__t_end}\")\n"
     ]
    },
    {
     "name": "stdout",
     "output_type": "stream",
     "text": [
      "Loop:  54\n"
     ]
    },
    {
     "name": "stderr",
     "output_type": "stream",
     "text": [
      "\u001b[2m\u001b[36m(RolloutWorker pid=7720)\u001b[0m c:\\Users\\nadir\\anaconda3\\envs\\GTRay2.6.3_torch_tb\\lib\\site-packages\\rtgym\\envs\\real_time_env.py:376: UserWarning: Time-step timed out. Elapsed since last time-step: 3.97625669995341\n",
      "\u001b[2m\u001b[36m(RolloutWorker pid=7720)\u001b[0m   warnings.warn(f\"Time-step timed out. Elapsed since last time-step: {now - self.__t_end}\")\n"
     ]
    },
    {
     "name": "stdout",
     "output_type": "stream",
     "text": [
      "Loop:  55\n"
     ]
    },
    {
     "name": "stderr",
     "output_type": "stream",
     "text": [
      "\u001b[2m\u001b[36m(RolloutWorker pid=7720)\u001b[0m c:\\Users\\nadir\\anaconda3\\envs\\GTRay2.6.3_torch_tb\\lib\\site-packages\\rtgym\\envs\\real_time_env.py:376: UserWarning: Time-step timed out. Elapsed since last time-step: 3.9738883999534664\n",
      "\u001b[2m\u001b[36m(RolloutWorker pid=7720)\u001b[0m   warnings.warn(f\"Time-step timed out. Elapsed since last time-step: {now - self.__t_end}\")\n"
     ]
    },
    {
     "name": "stdout",
     "output_type": "stream",
     "text": [
      "Loop:  56\n"
     ]
    },
    {
     "name": "stderr",
     "output_type": "stream",
     "text": [
      "\u001b[2m\u001b[36m(RolloutWorker pid=7720)\u001b[0m c:\\Users\\nadir\\anaconda3\\envs\\GTRay2.6.3_torch_tb\\lib\\site-packages\\rtgym\\envs\\real_time_env.py:376: UserWarning: Time-step timed out. Elapsed since last time-step: 4.271436699953483\n",
      "\u001b[2m\u001b[36m(RolloutWorker pid=7720)\u001b[0m   warnings.warn(f\"Time-step timed out. Elapsed since last time-step: {now - self.__t_end}\")\n"
     ]
    },
    {
     "name": "stdout",
     "output_type": "stream",
     "text": [
      "Loop:  57\n"
     ]
    },
    {
     "name": "stderr",
     "output_type": "stream",
     "text": [
      "\u001b[2m\u001b[36m(RolloutWorker pid=7720)\u001b[0m c:\\Users\\nadir\\anaconda3\\envs\\GTRay2.6.3_torch_tb\\lib\\site-packages\\rtgym\\envs\\real_time_env.py:376: UserWarning: Time-step timed out. Elapsed since last time-step: 4.01109779995295\n",
      "\u001b[2m\u001b[36m(RolloutWorker pid=7720)\u001b[0m   warnings.warn(f\"Time-step timed out. Elapsed since last time-step: {now - self.__t_end}\")\n"
     ]
    },
    {
     "name": "stdout",
     "output_type": "stream",
     "text": [
      "Loop:  58\n"
     ]
    },
    {
     "name": "stderr",
     "output_type": "stream",
     "text": [
      "\u001b[2m\u001b[36m(RolloutWorker pid=7720)\u001b[0m c:\\Users\\nadir\\anaconda3\\envs\\GTRay2.6.3_torch_tb\\lib\\site-packages\\rtgym\\envs\\real_time_env.py:376: UserWarning: Time-step timed out. Elapsed since last time-step: 3.9811324999536737\n",
      "\u001b[2m\u001b[36m(RolloutWorker pid=7720)\u001b[0m   warnings.warn(f\"Time-step timed out. Elapsed since last time-step: {now - self.__t_end}\")\n"
     ]
    },
    {
     "name": "stdout",
     "output_type": "stream",
     "text": [
      "Loop:  59\n"
     ]
    },
    {
     "name": "stderr",
     "output_type": "stream",
     "text": [
      "\u001b[2m\u001b[36m(RolloutWorker pid=7720)\u001b[0m c:\\Users\\nadir\\anaconda3\\envs\\GTRay2.6.3_torch_tb\\lib\\site-packages\\rtgym\\envs\\real_time_env.py:376: UserWarning: Time-step timed out. Elapsed since last time-step: 4.088555299953441\n",
      "\u001b[2m\u001b[36m(RolloutWorker pid=7720)\u001b[0m   warnings.warn(f\"Time-step timed out. Elapsed since last time-step: {now - self.__t_end}\")\n"
     ]
    },
    {
     "name": "stdout",
     "output_type": "stream",
     "text": [
      "Loop:  60\n",
      "Saved 60\n"
     ]
    },
    {
     "name": "stderr",
     "output_type": "stream",
     "text": [
      "\u001b[2m\u001b[36m(RolloutWorker pid=7720)\u001b[0m c:\\Users\\nadir\\anaconda3\\envs\\GTRay2.6.3_torch_tb\\lib\\site-packages\\rtgym\\envs\\real_time_env.py:376: UserWarning: Time-step timed out. Elapsed since last time-step: 4.207489599953988\n",
      "\u001b[2m\u001b[36m(RolloutWorker pid=7720)\u001b[0m   warnings.warn(f\"Time-step timed out. Elapsed since last time-step: {now - self.__t_end}\")\n"
     ]
    },
    {
     "name": "stdout",
     "output_type": "stream",
     "text": [
      "Loop:  61\n"
     ]
    },
    {
     "name": "stderr",
     "output_type": "stream",
     "text": [
      "\u001b[2m\u001b[36m(RolloutWorker pid=7720)\u001b[0m c:\\Users\\nadir\\anaconda3\\envs\\GTRay2.6.3_torch_tb\\lib\\site-packages\\rtgym\\envs\\real_time_env.py:376: UserWarning: Time-step timed out. Elapsed since last time-step: 3.97916899995289\n",
      "\u001b[2m\u001b[36m(RolloutWorker pid=7720)\u001b[0m   warnings.warn(f\"Time-step timed out. Elapsed since last time-step: {now - self.__t_end}\")\n"
     ]
    },
    {
     "name": "stdout",
     "output_type": "stream",
     "text": [
      "\u001b[2m\u001b[36m(RolloutWorker pid=7720)\u001b[0m reset triggered\n",
      "\u001b[2m\u001b[36m(RolloutWorker pid=7720)\u001b[0m reload save for track : 2\n",
      "Loop:  62\n"
     ]
    },
    {
     "name": "stderr",
     "output_type": "stream",
     "text": [
      "\u001b[2m\u001b[36m(RolloutWorker pid=7720)\u001b[0m c:\\Users\\nadir\\anaconda3\\envs\\GTRay2.6.3_torch_tb\\lib\\site-packages\\rtgym\\envs\\real_time_env.py:376: UserWarning: Time-step timed out. Elapsed since last time-step: 4.102186099953542\n",
      "\u001b[2m\u001b[36m(RolloutWorker pid=7720)\u001b[0m   warnings.warn(f\"Time-step timed out. Elapsed since last time-step: {now - self.__t_end}\")\n"
     ]
    },
    {
     "name": "stdout",
     "output_type": "stream",
     "text": [
      "Loop:  63\n"
     ]
    },
    {
     "name": "stderr",
     "output_type": "stream",
     "text": [
      "\u001b[2m\u001b[36m(RolloutWorker pid=7720)\u001b[0m c:\\Users\\nadir\\anaconda3\\envs\\GTRay2.6.3_torch_tb\\lib\\site-packages\\rtgym\\envs\\real_time_env.py:376: UserWarning: Time-step timed out. Elapsed since last time-step: 4.049533999953383\n",
      "\u001b[2m\u001b[36m(RolloutWorker pid=7720)\u001b[0m   warnings.warn(f\"Time-step timed out. Elapsed since last time-step: {now - self.__t_end}\")\n"
     ]
    },
    {
     "name": "stdout",
     "output_type": "stream",
     "text": [
      "Loop:  64\n"
     ]
    },
    {
     "name": "stderr",
     "output_type": "stream",
     "text": [
      "\u001b[2m\u001b[36m(RolloutWorker pid=7720)\u001b[0m c:\\Users\\nadir\\anaconda3\\envs\\GTRay2.6.3_torch_tb\\lib\\site-packages\\rtgym\\envs\\real_time_env.py:376: UserWarning: Time-step timed out. Elapsed since last time-step: 3.997176799953195\n",
      "\u001b[2m\u001b[36m(RolloutWorker pid=7720)\u001b[0m   warnings.warn(f\"Time-step timed out. Elapsed since last time-step: {now - self.__t_end}\")\n"
     ]
    },
    {
     "name": "stdout",
     "output_type": "stream",
     "text": [
      "Loop:  65\n"
     ]
    },
    {
     "name": "stderr",
     "output_type": "stream",
     "text": [
      "\u001b[2m\u001b[36m(RolloutWorker pid=7720)\u001b[0m c:\\Users\\nadir\\anaconda3\\envs\\GTRay2.6.3_torch_tb\\lib\\site-packages\\rtgym\\envs\\real_time_env.py:376: UserWarning: Time-step timed out. Elapsed since last time-step: 4.023114299953704\n",
      "\u001b[2m\u001b[36m(RolloutWorker pid=7720)\u001b[0m   warnings.warn(f\"Time-step timed out. Elapsed since last time-step: {now - self.__t_end}\")\n"
     ]
    },
    {
     "name": "stdout",
     "output_type": "stream",
     "text": [
      "Loop:  66\n"
     ]
    },
    {
     "name": "stderr",
     "output_type": "stream",
     "text": [
      "\u001b[2m\u001b[36m(RolloutWorker pid=7720)\u001b[0m c:\\Users\\nadir\\anaconda3\\envs\\GTRay2.6.3_torch_tb\\lib\\site-packages\\rtgym\\envs\\real_time_env.py:376: UserWarning: Time-step timed out. Elapsed since last time-step: 3.9904543999537054\n",
      "\u001b[2m\u001b[36m(RolloutWorker pid=7720)\u001b[0m   warnings.warn(f\"Time-step timed out. Elapsed since last time-step: {now - self.__t_end}\")\n"
     ]
    },
    {
     "name": "stdout",
     "output_type": "stream",
     "text": [
      "Loop:  67\n"
     ]
    },
    {
     "name": "stderr",
     "output_type": "stream",
     "text": [
      "\u001b[2m\u001b[36m(RolloutWorker pid=7720)\u001b[0m c:\\Users\\nadir\\anaconda3\\envs\\GTRay2.6.3_torch_tb\\lib\\site-packages\\rtgym\\envs\\real_time_env.py:376: UserWarning: Time-step timed out. Elapsed since last time-step: 4.003686599953653\n",
      "\u001b[2m\u001b[36m(RolloutWorker pid=7720)\u001b[0m   warnings.warn(f\"Time-step timed out. Elapsed since last time-step: {now - self.__t_end}\")\n"
     ]
    },
    {
     "name": "stdout",
     "output_type": "stream",
     "text": [
      "Loop:  68\n"
     ]
    },
    {
     "name": "stderr",
     "output_type": "stream",
     "text": [
      "\u001b[2m\u001b[36m(RolloutWorker pid=7720)\u001b[0m c:\\Users\\nadir\\anaconda3\\envs\\GTRay2.6.3_torch_tb\\lib\\site-packages\\rtgym\\envs\\real_time_env.py:376: UserWarning: Time-step timed out. Elapsed since last time-step: 4.042914199952975\n",
      "\u001b[2m\u001b[36m(RolloutWorker pid=7720)\u001b[0m   warnings.warn(f\"Time-step timed out. Elapsed since last time-step: {now - self.__t_end}\")\n"
     ]
    },
    {
     "name": "stdout",
     "output_type": "stream",
     "text": [
      "Loop:  69\n"
     ]
    },
    {
     "name": "stderr",
     "output_type": "stream",
     "text": [
      "\u001b[2m\u001b[36m(RolloutWorker pid=7720)\u001b[0m c:\\Users\\nadir\\anaconda3\\envs\\GTRay2.6.3_torch_tb\\lib\\site-packages\\rtgym\\envs\\real_time_env.py:376: UserWarning: Time-step timed out. Elapsed since last time-step: 3.959777499953816\n",
      "\u001b[2m\u001b[36m(RolloutWorker pid=7720)\u001b[0m   warnings.warn(f\"Time-step timed out. Elapsed since last time-step: {now - self.__t_end}\")\n"
     ]
    },
    {
     "name": "stdout",
     "output_type": "stream",
     "text": [
      "Loop:  70\n",
      "Saved 70\n"
     ]
    },
    {
     "name": "stderr",
     "output_type": "stream",
     "text": [
      "\u001b[2m\u001b[36m(RolloutWorker pid=7720)\u001b[0m c:\\Users\\nadir\\anaconda3\\envs\\GTRay2.6.3_torch_tb\\lib\\site-packages\\rtgym\\envs\\real_time_env.py:376: UserWarning: Time-step timed out. Elapsed since last time-step: 4.371977699953277\n",
      "\u001b[2m\u001b[36m(RolloutWorker pid=7720)\u001b[0m   warnings.warn(f\"Time-step timed out. Elapsed since last time-step: {now - self.__t_end}\")\n"
     ]
    },
    {
     "name": "stdout",
     "output_type": "stream",
     "text": [
      "Loop:  71\n"
     ]
    },
    {
     "name": "stderr",
     "output_type": "stream",
     "text": [
      "\u001b[2m\u001b[36m(RolloutWorker pid=7720)\u001b[0m c:\\Users\\nadir\\anaconda3\\envs\\GTRay2.6.3_torch_tb\\lib\\site-packages\\rtgym\\envs\\real_time_env.py:376: UserWarning: Time-step timed out. Elapsed since last time-step: 3.985004199953437\n",
      "\u001b[2m\u001b[36m(RolloutWorker pid=7720)\u001b[0m   warnings.warn(f\"Time-step timed out. Elapsed since last time-step: {now - self.__t_end}\")\n"
     ]
    },
    {
     "name": "stdout",
     "output_type": "stream",
     "text": [
      "Loop:  72\n"
     ]
    },
    {
     "name": "stderr",
     "output_type": "stream",
     "text": [
      "\u001b[2m\u001b[36m(RolloutWorker pid=7720)\u001b[0m c:\\Users\\nadir\\anaconda3\\envs\\GTRay2.6.3_torch_tb\\lib\\site-packages\\rtgym\\envs\\real_time_env.py:376: UserWarning: Time-step timed out. Elapsed since last time-step: 3.936252499953298\n",
      "\u001b[2m\u001b[36m(RolloutWorker pid=7720)\u001b[0m   warnings.warn(f\"Time-step timed out. Elapsed since last time-step: {now - self.__t_end}\")\n"
     ]
    },
    {
     "name": "stdout",
     "output_type": "stream",
     "text": [
      "Loop:  73\n"
     ]
    },
    {
     "name": "stderr",
     "output_type": "stream",
     "text": [
      "\u001b[2m\u001b[36m(RolloutWorker pid=7720)\u001b[0m c:\\Users\\nadir\\anaconda3\\envs\\GTRay2.6.3_torch_tb\\lib\\site-packages\\rtgym\\envs\\real_time_env.py:376: UserWarning: Time-step timed out. Elapsed since last time-step: 4.1083025999532765\n",
      "\u001b[2m\u001b[36m(RolloutWorker pid=7720)\u001b[0m   warnings.warn(f\"Time-step timed out. Elapsed since last time-step: {now - self.__t_end}\")\n"
     ]
    }
   ],
   "source": [
    "N = 50000\n",
    "\n",
    "for n in range(N):\n",
    "    result = algo.train()\n",
    "    print(\"Loop: \", n)\n",
    "    if n % 10 == 0:\n",
    "        print(\"Saved\", n)\n",
    "        algo.save()\n",
    "        \n",
    "algo.save()\n"
   ]
  }
 ],
 "metadata": {
  "kernelspec": {
   "display_name": "GTAI2",
   "language": "python",
   "name": "python3"
  },
  "language_info": {
   "codemirror_mode": {
    "name": "ipython",
    "version": 3
   },
   "file_extension": ".py",
   "mimetype": "text/x-python",
   "name": "python",
   "nbconvert_exporter": "python",
   "pygments_lexer": "ipython3",
   "version": "3.10.13"
  },
  "orig_nbformat": 4
 },
 "nbformat": 4,
 "nbformat_minor": 2
}

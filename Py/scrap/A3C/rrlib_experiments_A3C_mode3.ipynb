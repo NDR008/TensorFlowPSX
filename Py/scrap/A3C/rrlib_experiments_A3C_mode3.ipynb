{
 "cells": [
  {
   "attachments": {},
   "cell_type": "markdown",
   "metadata": {},
   "source": [
    "# Setup Gym Environment\n",
    "\n",
    "```py\n",
    "my_config[\"interface\"] = MyGranTurismoRTGYM\n",
    "my_config[\"time_step_duration\"] = 0.05 # when to give up\n",
    "my_config[\"start_obs_capture\"] = 0.05 # when to capture \n",
    "my_config[\"time_step_timeout_factor\"] = 1.0 # how late is OK\n",
    "my_config[\"act_buf_len\"] = 3 # how many past actions\n",
    "my_config[\"reset_act_buf\"] = True # resect action buffer on reset\n",
    "my_config[\"benchmark\"] = True\n",
    "my_config[\"benchmark_polyak\"] = 0.2\n",
    "```\n",
    "\n",
    "This section needs to be setup for any method"
   ]
  },
  {
   "cell_type": "code",
   "execution_count": 1,
   "metadata": {},
   "outputs": [],
   "source": [
    "debugAsGym = False\n",
    "\n",
    "from myRTClass import MyGranTurismoRTGYM, DEFAULT_CONFIG_DICT\n",
    "import gymnasium\n",
    "\n",
    "my_config = DEFAULT_CONFIG_DICT\n",
    "my_config[\"interface\"] = MyGranTurismoRTGYM\n",
    "my_config[\"time_step_duration\"] = 0.1\n",
    "my_config[\"start_obs_capture\"] = 0.1\n",
    "my_config[\"time_step_timeout_factor\"] = 1.0\n",
    "my_config[\"ep_max_length\"] = 312\n",
    "my_config[\"act_buf_len\"] = 3\n",
    "my_config[\"reset_act_buf\"] = False\n",
    "my_config[\"benchmark\"] = True\n",
    "my_config[\"benchmark_polyak\"] = 0.2\n",
    "\n",
    "my_config[\"interface_kwargs\"] = {\n",
    "  'debugFlag': False, # do not use render() while True\n",
    "  'img_hist_len': 3,\n",
    "  'modelMode': 3,\n",
    "  'agent' : 'A3C',\n",
    "  #  [42, 42, K], [84, 84, K], [10, 10, K], [240, 320, K] and  [480, 640, K]\n",
    "  'imageWidth' : 42, # there is a default Cov layer for PPO with 240 x 320\n",
    "  'imageHeight' : 42,\n",
    "  'trackChoice' : 2, # 1 is High Speed Ring, 2 is 0-400m, \n",
    "}"
   ]
  },
  {
   "cell_type": "code",
   "execution_count": 2,
   "metadata": {},
   "outputs": [],
   "source": [
    "if debugAsGym:\n",
    "    env = gymnasium.make(\"real-time-gym-v1\", config=my_config)"
   ]
  },
  {
   "cell_type": "code",
   "execution_count": 3,
   "metadata": {},
   "outputs": [],
   "source": [
    "if debugAsGym:\n",
    "    obs,info = env.reset()"
   ]
  },
  {
   "cell_type": "code",
   "execution_count": 4,
   "metadata": {},
   "outputs": [],
   "source": [
    "if debugAsGym:\n",
    "    obs, info = env.reset()\n",
    "    env.render()\n",
    "    print(\"Obs_actual (shape)\")\n",
    "    [print(o.shape) for o in obs]"
   ]
  },
  {
   "cell_type": "code",
   "execution_count": 5,
   "metadata": {},
   "outputs": [],
   "source": [
    "if debugAsGym:\n",
    "    print(\"Obs_space (shape)\")\n",
    "    [print(o.shape) for o in env.observation_space]"
   ]
  },
  {
   "cell_type": "code",
   "execution_count": 6,
   "metadata": {},
   "outputs": [],
   "source": [
    "if debugAsGym:\n",
    "    import pprint\n",
    "    obs, info = env.reset()\n",
    "    obs, rew, terminated, truncated, info = env.step(env.action_space.sample())\n",
    "    obs_space = env.observation_space\n",
    "    while not (terminated or truncated):\n",
    "        act = env.action_space.sample()\n",
    "        obs, rew, terminated, truncated, info = env.step(act)\n",
    "        env.render()\n"
   ]
  },
  {
   "attachments": {},
   "cell_type": "markdown",
   "metadata": {},
   "source": [
    "# Register the environment in a way that RLlib is happy"
   ]
  },
  {
   "cell_type": "code",
   "execution_count": 7,
   "metadata": {},
   "outputs": [],
   "source": [
    "if not debugAsGym:\n",
    "    def env_creator(env_config):\n",
    "        env = gymnasium.make(\"real-time-gym-v1\", config=env_config)\n",
    "        return env  # return an env instance\n",
    "\n",
    "    from ray.tune.registry import register_env\n",
    "    register_env(\"gt-rtgym-env-v1\", lambda config: env_creator(my_config)) # better way"
   ]
  },
  {
   "cell_type": "code",
   "execution_count": 8,
   "metadata": {},
   "outputs": [
    {
     "name": "stderr",
     "output_type": "stream",
     "text": [
      "2023-05-16 00:43:09,409\tINFO worker.py:1616 -- Started a local Ray instance. View the dashboard at \u001b[1m\u001b[32m127.0.0.1:8265 \u001b[39m\u001b[22m\n"
     ]
    },
    {
     "name": "stdout",
     "output_type": "stream",
     "text": [
      "\u001b[2m\u001b[36m(RolloutWorker pid=12500)\u001b[0m GT Real Time instantiated\n",
      "\u001b[2m\u001b[36m(RolloutWorker pid=12500)\u001b[0m GT AI Server instantiated for rtgym\n",
      "\u001b[2m\u001b[36m(RolloutWorker pid=12500)\u001b[0m simple reward system\n",
      "\u001b[2m\u001b[36m(RolloutWorker pid=12500)\u001b[0m starting up on localhost port 9999\n",
      "\u001b[2m\u001b[36m(RolloutWorker pid=12500)\u001b[0m Waiting for a connection\n",
      "\u001b[2m\u001b[36m(RolloutWorker pid=12500)\u001b[0m Connection from ('127.0.0.1', 61728)\n",
      "\u001b[2m\u001b[36m(RolloutWorker pid=12500)\u001b[0m reset triggered\n",
      "\u001b[2m\u001b[36m(RolloutWorker pid=12500)\u001b[0m reload save for track : 3\n"
     ]
    },
    {
     "name": "stderr",
     "output_type": "stream",
     "text": [
      "2023-05-16 00:43:25,299\tINFO trainable.py:172 -- Trainable.setup took 18.544 seconds. If your trainable is slow to initialize, consider setting reuse_actors=True to reduce actor creation overheads.\n"
     ]
    }
   ],
   "source": [
    "if not debugAsGym:\n",
    "    from ray.rllib.algorithms.a3c import A3CConfig\n",
    "\n",
    "    algo = (\n",
    "        A3CConfig()\n",
    "        .resources(\n",
    "            num_gpus=1\n",
    "            )\n",
    "        .rollouts(\n",
    "            num_rollout_workers=1,\n",
    "            enable_connectors=True,\n",
    "            batch_mode=\"complete_episodes\",\n",
    "            )\n",
    "        .framework(\"torch\")\n",
    "        .environment(\n",
    "            env=\"gt-rtgym-env-v1\",\n",
    "            disable_env_checking=True,\n",
    "            render_env=False,\n",
    "            )\n",
    "        .training(\n",
    "            #lr=tune.grid_search([0.01, 0.001, 0.0001])\n",
    "            #lambda_=0.95,\n",
    "            #gamma=0.99,\n",
    "            #sgd_minibatch_size=128,\n",
    "            train_batch_size=512,\n",
    "            #num_sgd_iter=8,\n",
    "            #clip_param=0.2,\n",
    "            model={\"fcnet_hiddens\": [16, 16]},\n",
    "        )\n",
    "        .build()\n",
    "    )"
   ]
  },
  {
   "cell_type": "code",
   "execution_count": 9,
   "metadata": {},
   "outputs": [
    {
     "name": "stdout",
     "output_type": "stream",
     "text": [
      "\u001b[2m\u001b[36m(RolloutWorker pid=12500)\u001b[0m reset triggered\n",
      "\u001b[2m\u001b[36m(RolloutWorker pid=12500)\u001b[0m reload save for track : 3\n"
     ]
    },
    {
     "name": "stderr",
     "output_type": "stream",
     "text": [
      "\u001b[2m\u001b[36m(RolloutWorker pid=12500)\u001b[0m c:\\Users\\nadir\\anaconda3\\envs\\GTAI2\\lib\\site-packages\\rtgym\\envs\\real_time_env.py:376: UserWarning: Time-step timed out. Elapsed since last time-step: 0.15394309999964406\n",
      "\u001b[2m\u001b[36m(RolloutWorker pid=12500)\u001b[0m   warnings.warn(f\"Time-step timed out. Elapsed since last time-step: {now - self.__t_end}\")\n"
     ]
    },
    {
     "name": "stdout",
     "output_type": "stream",
     "text": [
      "\u001b[2m\u001b[36m(RolloutWorker pid=12500)\u001b[0m reset triggered\n",
      "\u001b[2m\u001b[36m(RolloutWorker pid=12500)\u001b[0m reload save for track : 3\n"
     ]
    },
    {
     "name": "stderr",
     "output_type": "stream",
     "text": [
      "\u001b[2m\u001b[36m(RolloutWorker pid=12500)\u001b[0m c:\\Users\\nadir\\anaconda3\\envs\\GTAI2\\lib\\site-packages\\rtgym\\envs\\real_time_env.py:376: UserWarning: Time-step timed out. Elapsed since last time-step: 0.14840790000025095\n",
      "\u001b[2m\u001b[36m(RolloutWorker pid=12500)\u001b[0m   warnings.warn(f\"Time-step timed out. Elapsed since last time-step: {now - self.__t_end}\")\n"
     ]
    }
   ],
   "source": [
    "if not debugAsGym:\n",
    "    result = algo.train()"
   ]
  },
  {
   "cell_type": "code",
   "execution_count": 10,
   "metadata": {},
   "outputs": [
    {
     "data": {
      "text/plain": [
       "'C:\\\\Users\\\\nadir/ray_results\\\\A3C_gt-rtgym-env-v1_2023-05-16_00-43-06lvgo_2s3\\\\checkpoint_000001'"
      ]
     },
     "execution_count": 10,
     "metadata": {},
     "output_type": "execute_result"
    }
   ],
   "source": [
    "algo.save()"
   ]
  },
  {
   "cell_type": "code",
   "execution_count": 11,
   "metadata": {},
   "outputs": [
    {
     "name": "stdout",
     "output_type": "stream",
     "text": [
      "\u001b[2m\u001b[36m(RolloutWorker pid=12500)\u001b[0m reset triggered\n",
      "\u001b[2m\u001b[36m(RolloutWorker pid=12500)\u001b[0m reload save for track : 3\n"
     ]
    },
    {
     "name": "stderr",
     "output_type": "stream",
     "text": [
      "\u001b[2m\u001b[36m(RolloutWorker pid=12500)\u001b[0m c:\\Users\\nadir\\anaconda3\\envs\\GTAI2\\lib\\site-packages\\rtgym\\envs\\real_time_env.py:376: UserWarning: Time-step timed out. Elapsed since last time-step: 0.16112930000177528\n",
      "\u001b[2m\u001b[36m(RolloutWorker pid=12500)\u001b[0m   warnings.warn(f\"Time-step timed out. Elapsed since last time-step: {now - self.__t_end}\")\n"
     ]
    },
    {
     "name": "stdout",
     "output_type": "stream",
     "text": [
      "\u001b[2m\u001b[36m(RolloutWorker pid=12500)\u001b[0m reset triggered\n",
      "\u001b[2m\u001b[36m(RolloutWorker pid=12500)\u001b[0m reload save for track : 3\n"
     ]
    },
    {
     "name": "stderr",
     "output_type": "stream",
     "text": [
      "\u001b[2m\u001b[36m(RolloutWorker pid=12500)\u001b[0m c:\\Users\\nadir\\anaconda3\\envs\\GTAI2\\lib\\site-packages\\rtgym\\envs\\real_time_env.py:376: UserWarning: Time-step timed out. Elapsed since last time-step: 0.13678250000177172\n",
      "\u001b[2m\u001b[36m(RolloutWorker pid=12500)\u001b[0m   warnings.warn(f\"Time-step timed out. Elapsed since last time-step: {now - self.__t_end}\")\n"
     ]
    },
    {
     "name": "stdout",
     "output_type": "stream",
     "text": [
      "Loop:  0\n",
      "Saved 0\n",
      "\u001b[2m\u001b[36m(RolloutWorker pid=12500)\u001b[0m reset triggered\n",
      "\u001b[2m\u001b[36m(RolloutWorker pid=12500)\u001b[0m reload save for track : 3\n"
     ]
    },
    {
     "name": "stderr",
     "output_type": "stream",
     "text": [
      "\u001b[2m\u001b[36m(RolloutWorker pid=12500)\u001b[0m c:\\Users\\nadir\\anaconda3\\envs\\GTAI2\\lib\\site-packages\\rtgym\\envs\\real_time_env.py:376: UserWarning: Time-step timed out. Elapsed since last time-step: 0.12861090000177455\n",
      "\u001b[2m\u001b[36m(RolloutWorker pid=12500)\u001b[0m   warnings.warn(f\"Time-step timed out. Elapsed since last time-step: {now - self.__t_end}\")\n"
     ]
    },
    {
     "name": "stdout",
     "output_type": "stream",
     "text": [
      "\u001b[2m\u001b[36m(RolloutWorker pid=12500)\u001b[0m reset triggered\n",
      "\u001b[2m\u001b[36m(RolloutWorker pid=12500)\u001b[0m reload save for track : 3\n"
     ]
    },
    {
     "name": "stderr",
     "output_type": "stream",
     "text": [
      "\u001b[2m\u001b[36m(RolloutWorker pid=12500)\u001b[0m c:\\Users\\nadir\\anaconda3\\envs\\GTAI2\\lib\\site-packages\\rtgym\\envs\\real_time_env.py:376: UserWarning: Time-step timed out. Elapsed since last time-step: 0.14874880000178337\n",
      "\u001b[2m\u001b[36m(RolloutWorker pid=12500)\u001b[0m   warnings.warn(f\"Time-step timed out. Elapsed since last time-step: {now - self.__t_end}\")\n"
     ]
    },
    {
     "name": "stdout",
     "output_type": "stream",
     "text": [
      "Loop:  1\n",
      "\u001b[2m\u001b[36m(RolloutWorker pid=12500)\u001b[0m reset triggered\n",
      "\u001b[2m\u001b[36m(RolloutWorker pid=12500)\u001b[0m reload save for track : 3\n"
     ]
    },
    {
     "name": "stderr",
     "output_type": "stream",
     "text": [
      "\u001b[2m\u001b[36m(RolloutWorker pid=12500)\u001b[0m c:\\Users\\nadir\\anaconda3\\envs\\GTAI2\\lib\\site-packages\\rtgym\\envs\\real_time_env.py:376: UserWarning: Time-step timed out. Elapsed since last time-step: 0.15059650000176816\n",
      "\u001b[2m\u001b[36m(RolloutWorker pid=12500)\u001b[0m   warnings.warn(f\"Time-step timed out. Elapsed since last time-step: {now - self.__t_end}\")\n",
      "\u001b[2m\u001b[36m(RolloutWorker pid=12500)\u001b[0m c:\\Users\\nadir\\anaconda3\\envs\\GTAI2\\lib\\site-packages\\rtgym\\envs\\real_time_env.py:376: UserWarning: Time-step timed out. Elapsed since last time-step: 0.13455250000009755\n",
      "\u001b[2m\u001b[36m(RolloutWorker pid=12500)\u001b[0m   warnings.warn(f\"Time-step timed out. Elapsed since last time-step: {now - self.__t_end}\")\n"
     ]
    },
    {
     "name": "stdout",
     "output_type": "stream",
     "text": [
      "\u001b[2m\u001b[36m(RolloutWorker pid=12500)\u001b[0m reset triggered\n",
      "\u001b[2m\u001b[36m(RolloutWorker pid=12500)\u001b[0m reload save for track : 3\n",
      "Loop:  2\n"
     ]
    },
    {
     "name": "stderr",
     "output_type": "stream",
     "text": [
      "\u001b[2m\u001b[36m(RolloutWorker pid=12500)\u001b[0m c:\\Users\\nadir\\anaconda3\\envs\\GTAI2\\lib\\site-packages\\rtgym\\envs\\real_time_env.py:376: UserWarning: Time-step timed out. Elapsed since last time-step: 0.14145499999290223\n",
      "\u001b[2m\u001b[36m(RolloutWorker pid=12500)\u001b[0m   warnings.warn(f\"Time-step timed out. Elapsed since last time-step: {now - self.__t_end}\")\n"
     ]
    },
    {
     "name": "stdout",
     "output_type": "stream",
     "text": [
      "\u001b[2m\u001b[36m(RolloutWorker pid=12500)\u001b[0m reset triggered\n",
      "\u001b[2m\u001b[36m(RolloutWorker pid=12500)\u001b[0m reload save for track : 3\n"
     ]
    },
    {
     "name": "stderr",
     "output_type": "stream",
     "text": [
      "\u001b[2m\u001b[36m(RolloutWorker pid=12500)\u001b[0m c:\\Users\\nadir\\anaconda3\\envs\\GTAI2\\lib\\site-packages\\rtgym\\envs\\real_time_env.py:376: UserWarning: Time-step timed out. Elapsed since last time-step: 0.12749739999293297\n",
      "\u001b[2m\u001b[36m(RolloutWorker pid=12500)\u001b[0m   warnings.warn(f\"Time-step timed out. Elapsed since last time-step: {now - self.__t_end}\")\n"
     ]
    },
    {
     "name": "stdout",
     "output_type": "stream",
     "text": [
      "\u001b[2m\u001b[36m(RolloutWorker pid=12500)\u001b[0m reset triggered\n",
      "\u001b[2m\u001b[36m(RolloutWorker pid=12500)\u001b[0m reload save for track : 3\n",
      "Loop:  3\n"
     ]
    },
    {
     "name": "stderr",
     "output_type": "stream",
     "text": [
      "\u001b[2m\u001b[36m(RolloutWorker pid=12500)\u001b[0m c:\\Users\\nadir\\anaconda3\\envs\\GTAI2\\lib\\site-packages\\rtgym\\envs\\real_time_env.py:376: UserWarning: Time-step timed out. Elapsed since last time-step: 0.10241409999849793\n",
      "\u001b[2m\u001b[36m(RolloutWorker pid=12500)\u001b[0m   warnings.warn(f\"Time-step timed out. Elapsed since last time-step: {now - self.__t_end}\")\n"
     ]
    },
    {
     "name": "stdout",
     "output_type": "stream",
     "text": [
      "\u001b[2m\u001b[36m(RolloutWorker pid=12500)\u001b[0m reset triggered\n",
      "\u001b[2m\u001b[36m(RolloutWorker pid=12500)\u001b[0m reload save for track : 3\n"
     ]
    },
    {
     "name": "stderr",
     "output_type": "stream",
     "text": [
      "\u001b[2m\u001b[36m(RolloutWorker pid=12500)\u001b[0m c:\\Users\\nadir\\anaconda3\\envs\\GTAI2\\lib\\site-packages\\rtgym\\envs\\real_time_env.py:376: UserWarning: Time-step timed out. Elapsed since last time-step: 0.15143429999437785\n",
      "\u001b[2m\u001b[36m(RolloutWorker pid=12500)\u001b[0m   warnings.warn(f\"Time-step timed out. Elapsed since last time-step: {now - self.__t_end}\")\n"
     ]
    },
    {
     "name": "stdout",
     "output_type": "stream",
     "text": [
      "\u001b[2m\u001b[36m(RolloutWorker pid=12500)\u001b[0m reset triggered\n",
      "\u001b[2m\u001b[36m(RolloutWorker pid=12500)\u001b[0m reload save for track : 3\n"
     ]
    },
    {
     "name": "stderr",
     "output_type": "stream",
     "text": [
      "\u001b[2m\u001b[36m(RolloutWorker pid=12500)\u001b[0m c:\\Users\\nadir\\anaconda3\\envs\\GTAI2\\lib\\site-packages\\rtgym\\envs\\real_time_env.py:376: UserWarning: Time-step timed out. Elapsed since last time-step: 0.15861759999290825\n",
      "\u001b[2m\u001b[36m(RolloutWorker pid=12500)\u001b[0m   warnings.warn(f\"Time-step timed out. Elapsed since last time-step: {now - self.__t_end}\")\n"
     ]
    },
    {
     "name": "stdout",
     "output_type": "stream",
     "text": [
      "Loop:  4\n",
      "\u001b[2m\u001b[36m(RolloutWorker pid=12500)\u001b[0m reset triggered\n",
      "\u001b[2m\u001b[36m(RolloutWorker pid=12500)\u001b[0m reload save for track : 3\n"
     ]
    },
    {
     "name": "stderr",
     "output_type": "stream",
     "text": [
      "\u001b[2m\u001b[36m(RolloutWorker pid=12500)\u001b[0m c:\\Users\\nadir\\anaconda3\\envs\\GTAI2\\lib\\site-packages\\rtgym\\envs\\real_time_env.py:376: UserWarning: Time-step timed out. Elapsed since last time-step: 0.1537418999929514\n",
      "\u001b[2m\u001b[36m(RolloutWorker pid=12500)\u001b[0m   warnings.warn(f\"Time-step timed out. Elapsed since last time-step: {now - self.__t_end}\")\n"
     ]
    },
    {
     "name": "stdout",
     "output_type": "stream",
     "text": [
      "\u001b[2m\u001b[36m(RolloutWorker pid=12500)\u001b[0m reset triggered\n",
      "\u001b[2m\u001b[36m(RolloutWorker pid=12500)\u001b[0m reload save for track : 3\n"
     ]
    },
    {
     "name": "stderr",
     "output_type": "stream",
     "text": [
      "\u001b[2m\u001b[36m(RolloutWorker pid=12500)\u001b[0m c:\\Users\\nadir\\anaconda3\\envs\\GTAI2\\lib\\site-packages\\rtgym\\envs\\real_time_env.py:376: UserWarning: Time-step timed out. Elapsed since last time-step: 0.14868469999288436\n",
      "\u001b[2m\u001b[36m(RolloutWorker pid=12500)\u001b[0m   warnings.warn(f\"Time-step timed out. Elapsed since last time-step: {now - self.__t_end}\")\n",
      "\u001b[2m\u001b[36m(RolloutWorker pid=12500)\u001b[0m c:\\Users\\nadir\\anaconda3\\envs\\GTAI2\\lib\\site-packages\\rtgym\\envs\\real_time_env.py:376: UserWarning: Time-step timed out. Elapsed since last time-step: 0.15348979999993162\n",
      "\u001b[2m\u001b[36m(RolloutWorker pid=12500)\u001b[0m   warnings.warn(f\"Time-step timed out. Elapsed since last time-step: {now - self.__t_end}\")\n",
      "\u001b[2m\u001b[36m(RolloutWorker pid=12500)\u001b[0m c:\\Users\\nadir\\anaconda3\\envs\\GTAI2\\lib\\site-packages\\rtgym\\envs\\real_time_env.py:376: UserWarning: Time-step timed out. Elapsed since last time-step: 0.10380679999951781\n",
      "\u001b[2m\u001b[36m(RolloutWorker pid=12500)\u001b[0m   warnings.warn(f\"Time-step timed out. Elapsed since last time-step: {now - self.__t_end}\")\n"
     ]
    },
    {
     "name": "stdout",
     "output_type": "stream",
     "text": [
      "Loop:  5\n",
      "\u001b[2m\u001b[36m(RolloutWorker pid=12500)\u001b[0m reset triggered\n",
      "\u001b[2m\u001b[36m(RolloutWorker pid=12500)\u001b[0m reload save for track : 3\n"
     ]
    },
    {
     "name": "stderr",
     "output_type": "stream",
     "text": [
      "\u001b[2m\u001b[36m(RolloutWorker pid=12500)\u001b[0m c:\\Users\\nadir\\anaconda3\\envs\\GTAI2\\lib\\site-packages\\rtgym\\envs\\real_time_env.py:376: UserWarning: Time-step timed out. Elapsed since last time-step: 0.14247599999345084\n",
      "\u001b[2m\u001b[36m(RolloutWorker pid=12500)\u001b[0m   warnings.warn(f\"Time-step timed out. Elapsed since last time-step: {now - self.__t_end}\")\n"
     ]
    },
    {
     "name": "stdout",
     "output_type": "stream",
     "text": [
      "\u001b[2m\u001b[36m(RolloutWorker pid=12500)\u001b[0m reset triggered\n",
      "\u001b[2m\u001b[36m(RolloutWorker pid=12500)\u001b[0m reload save for track : 3\n"
     ]
    },
    {
     "name": "stderr",
     "output_type": "stream",
     "text": [
      "\u001b[2m\u001b[36m(RolloutWorker pid=12500)\u001b[0m c:\\Users\\nadir\\anaconda3\\envs\\GTAI2\\lib\\site-packages\\rtgym\\envs\\real_time_env.py:376: UserWarning: Time-step timed out. Elapsed since last time-step: 0.13581569999291787\n",
      "\u001b[2m\u001b[36m(RolloutWorker pid=12500)\u001b[0m   warnings.warn(f\"Time-step timed out. Elapsed since last time-step: {now - self.__t_end}\")\n"
     ]
    },
    {
     "name": "stdout",
     "output_type": "stream",
     "text": [
      "Loop:  6\n",
      "\u001b[2m\u001b[36m(RolloutWorker pid=12500)\u001b[0m reset triggered\n",
      "\u001b[2m\u001b[36m(RolloutWorker pid=12500)\u001b[0m reload save for track : 3\n"
     ]
    },
    {
     "name": "stderr",
     "output_type": "stream",
     "text": [
      "\u001b[2m\u001b[36m(RolloutWorker pid=12500)\u001b[0m c:\\Users\\nadir\\anaconda3\\envs\\GTAI2\\lib\\site-packages\\rtgym\\envs\\real_time_env.py:376: UserWarning: Time-step timed out. Elapsed since last time-step: 0.14791689999287883\n",
      "\u001b[2m\u001b[36m(RolloutWorker pid=12500)\u001b[0m   warnings.warn(f\"Time-step timed out. Elapsed since last time-step: {now - self.__t_end}\")\n",
      "\u001b[2m\u001b[36m(RolloutWorker pid=12500)\u001b[0m c:\\Users\\nadir\\anaconda3\\envs\\GTAI2\\lib\\site-packages\\rtgym\\envs\\real_time_env.py:376: UserWarning: Time-step timed out. Elapsed since last time-step: 1.4073586999943473\n",
      "\u001b[2m\u001b[36m(RolloutWorker pid=12500)\u001b[0m   warnings.warn(f\"Time-step timed out. Elapsed since last time-step: {now - self.__t_end}\")\n",
      "\u001b[2m\u001b[36m(RolloutWorker pid=12500)\u001b[0m c:\\Users\\nadir\\anaconda3\\envs\\GTAI2\\lib\\site-packages\\rtgym\\envs\\real_time_env.py:376: UserWarning: Time-step timed out. Elapsed since last time-step: 0.9171985999994376\n",
      "\u001b[2m\u001b[36m(RolloutWorker pid=12500)\u001b[0m   warnings.warn(f\"Time-step timed out. Elapsed since last time-step: {now - self.__t_end}\")\n",
      "\u001b[2m\u001b[36m(RolloutWorker pid=12500)\u001b[0m c:\\Users\\nadir\\anaconda3\\envs\\GTAI2\\lib\\site-packages\\rtgym\\envs\\real_time_env.py:376: UserWarning: Time-step timed out. Elapsed since last time-step: 1.005479799999307\n",
      "\u001b[2m\u001b[36m(RolloutWorker pid=12500)\u001b[0m   warnings.warn(f\"Time-step timed out. Elapsed since last time-step: {now - self.__t_end}\")\n"
     ]
    },
    {
     "name": "stdout",
     "output_type": "stream",
     "text": [
      "\u001b[2m\u001b[36m(RolloutWorker pid=12500)\u001b[0m reset triggered\n",
      "\u001b[2m\u001b[36m(RolloutWorker pid=12500)\u001b[0m reload save for track : 3\n"
     ]
    },
    {
     "name": "stderr",
     "output_type": "stream",
     "text": [
      "\u001b[2m\u001b[36m(RolloutWorker pid=12500)\u001b[0m c:\\Users\\nadir\\anaconda3\\envs\\GTAI2\\lib\\site-packages\\rtgym\\envs\\real_time_env.py:376: UserWarning: Time-step timed out. Elapsed since last time-step: 0.1395311999998512\n",
      "\u001b[2m\u001b[36m(RolloutWorker pid=12500)\u001b[0m   warnings.warn(f\"Time-step timed out. Elapsed since last time-step: {now - self.__t_end}\")\n"
     ]
    },
    {
     "name": "stdout",
     "output_type": "stream",
     "text": [
      "Loop:  7\n",
      "\u001b[2m\u001b[36m(RolloutWorker pid=12500)\u001b[0m reset triggered\n",
      "\u001b[2m\u001b[36m(RolloutWorker pid=12500)\u001b[0m reload save for track : 3\n"
     ]
    },
    {
     "name": "stderr",
     "output_type": "stream",
     "text": [
      "\u001b[2m\u001b[36m(RolloutWorker pid=12500)\u001b[0m c:\\Users\\nadir\\anaconda3\\envs\\GTAI2\\lib\\site-packages\\rtgym\\envs\\real_time_env.py:376: UserWarning: Time-step timed out. Elapsed since last time-step: 0.1528422999929262\n",
      "\u001b[2m\u001b[36m(RolloutWorker pid=12500)\u001b[0m   warnings.warn(f\"Time-step timed out. Elapsed since last time-step: {now - self.__t_end}\")\n"
     ]
    },
    {
     "name": "stdout",
     "output_type": "stream",
     "text": [
      "\u001b[2m\u001b[36m(RolloutWorker pid=12500)\u001b[0m reset triggered\n",
      "\u001b[2m\u001b[36m(RolloutWorker pid=12500)\u001b[0m reload save for track : 3\n"
     ]
    },
    {
     "name": "stderr",
     "output_type": "stream",
     "text": [
      "\u001b[2m\u001b[36m(RolloutWorker pid=12500)\u001b[0m c:\\Users\\nadir\\anaconda3\\envs\\GTAI2\\lib\\site-packages\\rtgym\\envs\\real_time_env.py:376: UserWarning: Time-step timed out. Elapsed since last time-step: 0.16405009999289177\n",
      "\u001b[2m\u001b[36m(RolloutWorker pid=12500)\u001b[0m   warnings.warn(f\"Time-step timed out. Elapsed since last time-step: {now - self.__t_end}\")\n"
     ]
    },
    {
     "name": "stdout",
     "output_type": "stream",
     "text": [
      "Loop:  8\n"
     ]
    },
    {
     "name": "stderr",
     "output_type": "stream",
     "text": [
      "\u001b[2m\u001b[36m(RolloutWorker pid=12500)\u001b[0m c:\\Users\\nadir\\anaconda3\\envs\\GTAI2\\lib\\site-packages\\rtgym\\envs\\real_time_env.py:376: UserWarning: Time-step timed out. Elapsed since last time-step: 0.10641399999826717\n",
      "\u001b[2m\u001b[36m(RolloutWorker pid=12500)\u001b[0m   warnings.warn(f\"Time-step timed out. Elapsed since last time-step: {now - self.__t_end}\")\n"
     ]
    },
    {
     "name": "stdout",
     "output_type": "stream",
     "text": [
      "\u001b[2m\u001b[36m(RolloutWorker pid=12500)\u001b[0m reset triggered\n",
      "\u001b[2m\u001b[36m(RolloutWorker pid=12500)\u001b[0m reload save for track : 3\n"
     ]
    },
    {
     "name": "stderr",
     "output_type": "stream",
     "text": [
      "\u001b[2m\u001b[36m(RolloutWorker pid=12500)\u001b[0m c:\\Users\\nadir\\anaconda3\\envs\\GTAI2\\lib\\site-packages\\rtgym\\envs\\real_time_env.py:376: UserWarning: Time-step timed out. Elapsed since last time-step: 0.16781859999457538\n",
      "\u001b[2m\u001b[36m(RolloutWorker pid=12500)\u001b[0m   warnings.warn(f\"Time-step timed out. Elapsed since last time-step: {now - self.__t_end}\")\n",
      "\u001b[2m\u001b[36m(RolloutWorker pid=12500)\u001b[0m c:\\Users\\nadir\\anaconda3\\envs\\GTAI2\\lib\\site-packages\\rtgym\\envs\\real_time_env.py:376: UserWarning: Time-step timed out. Elapsed since last time-step: 0.1512457999929211\n",
      "\u001b[2m\u001b[36m(RolloutWorker pid=12500)\u001b[0m   warnings.warn(f\"Time-step timed out. Elapsed since last time-step: {now - self.__t_end}\")\n"
     ]
    },
    {
     "name": "stdout",
     "output_type": "stream",
     "text": [
      "\u001b[2m\u001b[36m(RolloutWorker pid=12500)\u001b[0m reset triggered\n",
      "\u001b[2m\u001b[36m(RolloutWorker pid=12500)\u001b[0m reload save for track : 3\n",
      "Loop:  9\n",
      "\u001b[2m\u001b[36m(RolloutWorker pid=12500)\u001b[0m reset triggered\n",
      "\u001b[2m\u001b[36m(RolloutWorker pid=12500)\u001b[0m reload save for track : 3\n"
     ]
    },
    {
     "name": "stderr",
     "output_type": "stream",
     "text": [
      "\u001b[2m\u001b[36m(RolloutWorker pid=12500)\u001b[0m c:\\Users\\nadir\\anaconda3\\envs\\GTAI2\\lib\\site-packages\\rtgym\\envs\\real_time_env.py:376: UserWarning: Time-step timed out. Elapsed since last time-step: 0.14787879999289544\n",
      "\u001b[2m\u001b[36m(RolloutWorker pid=12500)\u001b[0m   warnings.warn(f\"Time-step timed out. Elapsed since last time-step: {now - self.__t_end}\")\n",
      "\u001b[2m\u001b[36m(RolloutWorker pid=12500)\u001b[0m c:\\Users\\nadir\\anaconda3\\envs\\GTAI2\\lib\\site-packages\\rtgym\\envs\\real_time_env.py:376: UserWarning: Time-step timed out. Elapsed since last time-step: 0.14154869999299535\n",
      "\u001b[2m\u001b[36m(RolloutWorker pid=12500)\u001b[0m   warnings.warn(f\"Time-step timed out. Elapsed since last time-step: {now - self.__t_end}\")\n"
     ]
    },
    {
     "name": "stdout",
     "output_type": "stream",
     "text": [
      "\u001b[2m\u001b[36m(RolloutWorker pid=12500)\u001b[0m reset triggered\n",
      "\u001b[2m\u001b[36m(RolloutWorker pid=12500)\u001b[0m reload save for track : 3\n",
      "Loop:  10\n",
      "\u001b[2m\u001b[36m(RolloutWorker pid=12500)\u001b[0m reset triggered\n",
      "\u001b[2m\u001b[36m(RolloutWorker pid=12500)\u001b[0m reload save for track : 3\n"
     ]
    },
    {
     "name": "stderr",
     "output_type": "stream",
     "text": [
      "\u001b[2m\u001b[36m(RolloutWorker pid=12500)\u001b[0m c:\\Users\\nadir\\anaconda3\\envs\\GTAI2\\lib\\site-packages\\rtgym\\envs\\real_time_env.py:376: UserWarning: Time-step timed out. Elapsed since last time-step: 0.1414364999928921\n",
      "\u001b[2m\u001b[36m(RolloutWorker pid=12500)\u001b[0m   warnings.warn(f\"Time-step timed out. Elapsed since last time-step: {now - self.__t_end}\")\n"
     ]
    },
    {
     "name": "stdout",
     "output_type": "stream",
     "text": [
      "\u001b[2m\u001b[36m(RolloutWorker pid=12500)\u001b[0m reset triggered\n",
      "\u001b[2m\u001b[36m(RolloutWorker pid=12500)\u001b[0m reload save for track : 3\n"
     ]
    },
    {
     "name": "stderr",
     "output_type": "stream",
     "text": [
      "\u001b[2m\u001b[36m(RolloutWorker pid=12500)\u001b[0m c:\\Users\\nadir\\anaconda3\\envs\\GTAI2\\lib\\site-packages\\rtgym\\envs\\real_time_env.py:376: UserWarning: Time-step timed out. Elapsed since last time-step: 0.1310617999928354\n",
      "\u001b[2m\u001b[36m(RolloutWorker pid=12500)\u001b[0m   warnings.warn(f\"Time-step timed out. Elapsed since last time-step: {now - self.__t_end}\")\n"
     ]
    },
    {
     "name": "stdout",
     "output_type": "stream",
     "text": [
      "Loop:  11\n",
      "\u001b[2m\u001b[36m(RolloutWorker pid=12500)\u001b[0m reset triggered\n",
      "\u001b[2m\u001b[36m(RolloutWorker pid=12500)\u001b[0m reload save for track : 3\n"
     ]
    },
    {
     "name": "stderr",
     "output_type": "stream",
     "text": [
      "\u001b[2m\u001b[36m(RolloutWorker pid=12500)\u001b[0m c:\\Users\\nadir\\anaconda3\\envs\\GTAI2\\lib\\site-packages\\rtgym\\envs\\real_time_env.py:376: UserWarning: Time-step timed out. Elapsed since last time-step: 0.14410949999296463\n",
      "\u001b[2m\u001b[36m(RolloutWorker pid=12500)\u001b[0m   warnings.warn(f\"Time-step timed out. Elapsed since last time-step: {now - self.__t_end}\")\n"
     ]
    },
    {
     "name": "stdout",
     "output_type": "stream",
     "text": [
      "\u001b[2m\u001b[36m(RolloutWorker pid=12500)\u001b[0m reset triggered\n",
      "\u001b[2m\u001b[36m(RolloutWorker pid=12500)\u001b[0m reload save for track : 3\n"
     ]
    },
    {
     "name": "stderr",
     "output_type": "stream",
     "text": [
      "\u001b[2m\u001b[36m(RolloutWorker pid=12500)\u001b[0m c:\\Users\\nadir\\anaconda3\\envs\\GTAI2\\lib\\site-packages\\rtgym\\envs\\real_time_env.py:376: UserWarning: Time-step timed out. Elapsed since last time-step: 0.15510129999290712\n",
      "\u001b[2m\u001b[36m(RolloutWorker pid=12500)\u001b[0m   warnings.warn(f\"Time-step timed out. Elapsed since last time-step: {now - self.__t_end}\")\n"
     ]
    },
    {
     "name": "stdout",
     "output_type": "stream",
     "text": [
      "Loop:  12\n",
      "\u001b[2m\u001b[36m(RolloutWorker pid=12500)\u001b[0m reset triggered\n",
      "\u001b[2m\u001b[36m(RolloutWorker pid=12500)\u001b[0m reload save for track : 3\n"
     ]
    },
    {
     "name": "stderr",
     "output_type": "stream",
     "text": [
      "\u001b[2m\u001b[36m(RolloutWorker pid=12500)\u001b[0m c:\\Users\\nadir\\anaconda3\\envs\\GTAI2\\lib\\site-packages\\rtgym\\envs\\real_time_env.py:376: UserWarning: Time-step timed out. Elapsed since last time-step: 0.1540349999928594\n",
      "\u001b[2m\u001b[36m(RolloutWorker pid=12500)\u001b[0m   warnings.warn(f\"Time-step timed out. Elapsed since last time-step: {now - self.__t_end}\")\n"
     ]
    },
    {
     "name": "stdout",
     "output_type": "stream",
     "text": [
      "\u001b[2m\u001b[36m(RolloutWorker pid=12500)\u001b[0m reset triggered\n",
      "\u001b[2m\u001b[36m(RolloutWorker pid=12500)\u001b[0m reload save for track : 3\n"
     ]
    },
    {
     "name": "stderr",
     "output_type": "stream",
     "text": [
      "\u001b[2m\u001b[36m(RolloutWorker pid=12500)\u001b[0m c:\\Users\\nadir\\anaconda3\\envs\\GTAI2\\lib\\site-packages\\rtgym\\envs\\real_time_env.py:376: UserWarning: Time-step timed out. Elapsed since last time-step: 0.151651199992898\n",
      "\u001b[2m\u001b[36m(RolloutWorker pid=12500)\u001b[0m   warnings.warn(f\"Time-step timed out. Elapsed since last time-step: {now - self.__t_end}\")\n"
     ]
    },
    {
     "name": "stdout",
     "output_type": "stream",
     "text": [
      "Loop:  13\n",
      "\u001b[2m\u001b[36m(RolloutWorker pid=12500)\u001b[0m reset triggered\n",
      "\u001b[2m\u001b[36m(RolloutWorker pid=12500)\u001b[0m reload save for track : 3\n"
     ]
    },
    {
     "name": "stderr",
     "output_type": "stream",
     "text": [
      "\u001b[2m\u001b[36m(RolloutWorker pid=12500)\u001b[0m c:\\Users\\nadir\\anaconda3\\envs\\GTAI2\\lib\\site-packages\\rtgym\\envs\\real_time_env.py:376: UserWarning: Time-step timed out. Elapsed since last time-step: 0.14776949999293265\n",
      "\u001b[2m\u001b[36m(RolloutWorker pid=12500)\u001b[0m   warnings.warn(f\"Time-step timed out. Elapsed since last time-step: {now - self.__t_end}\")\n"
     ]
    },
    {
     "name": "stdout",
     "output_type": "stream",
     "text": [
      "\u001b[2m\u001b[36m(RolloutWorker pid=12500)\u001b[0m reset triggered\n",
      "\u001b[2m\u001b[36m(RolloutWorker pid=12500)\u001b[0m reload save for track : 3\n"
     ]
    },
    {
     "name": "stderr",
     "output_type": "stream",
     "text": [
      "\u001b[2m\u001b[36m(RolloutWorker pid=12500)\u001b[0m c:\\Users\\nadir\\anaconda3\\envs\\GTAI2\\lib\\site-packages\\rtgym\\envs\\real_time_env.py:376: UserWarning: Time-step timed out. Elapsed since last time-step: 0.1442584999929295\n",
      "\u001b[2m\u001b[36m(RolloutWorker pid=12500)\u001b[0m   warnings.warn(f\"Time-step timed out. Elapsed since last time-step: {now - self.__t_end}\")\n"
     ]
    },
    {
     "name": "stdout",
     "output_type": "stream",
     "text": [
      "Loop:  14\n",
      "\u001b[2m\u001b[36m(RolloutWorker pid=12500)\u001b[0m reset triggered\n",
      "\u001b[2m\u001b[36m(RolloutWorker pid=12500)\u001b[0m reload save for track : 3\n"
     ]
    },
    {
     "name": "stderr",
     "output_type": "stream",
     "text": [
      "\u001b[2m\u001b[36m(RolloutWorker pid=12500)\u001b[0m c:\\Users\\nadir\\anaconda3\\envs\\GTAI2\\lib\\site-packages\\rtgym\\envs\\real_time_env.py:376: UserWarning: Time-step timed out. Elapsed since last time-step: 0.16147140002158267\n",
      "\u001b[2m\u001b[36m(RolloutWorker pid=12500)\u001b[0m   warnings.warn(f\"Time-step timed out. Elapsed since last time-step: {now - self.__t_end}\")\n"
     ]
    },
    {
     "name": "stdout",
     "output_type": "stream",
     "text": [
      "\u001b[2m\u001b[36m(RolloutWorker pid=12500)\u001b[0m reset triggered\n",
      "\u001b[2m\u001b[36m(RolloutWorker pid=12500)\u001b[0m reload save for track : 3\n"
     ]
    },
    {
     "name": "stderr",
     "output_type": "stream",
     "text": [
      "\u001b[2m\u001b[36m(RolloutWorker pid=12500)\u001b[0m c:\\Users\\nadir\\anaconda3\\envs\\GTAI2\\lib\\site-packages\\rtgym\\envs\\real_time_env.py:376: UserWarning: Time-step timed out. Elapsed since last time-step: 0.14389300002835625\n",
      "\u001b[2m\u001b[36m(RolloutWorker pid=12500)\u001b[0m   warnings.warn(f\"Time-step timed out. Elapsed since last time-step: {now - self.__t_end}\")\n"
     ]
    },
    {
     "name": "stdout",
     "output_type": "stream",
     "text": [
      "Loop:  15\n"
     ]
    },
    {
     "name": "stderr",
     "output_type": "stream",
     "text": [
      "\u001b[2m\u001b[36m(RolloutWorker pid=12500)\u001b[0m c:\\Users\\nadir\\anaconda3\\envs\\GTAI2\\lib\\site-packages\\rtgym\\envs\\real_time_env.py:376: UserWarning: Time-step timed out. Elapsed since last time-step: 0.1512109000284454\n",
      "\u001b[2m\u001b[36m(RolloutWorker pid=12500)\u001b[0m   warnings.warn(f\"Time-step timed out. Elapsed since last time-step: {now - self.__t_end}\")\n"
     ]
    },
    {
     "name": "stdout",
     "output_type": "stream",
     "text": [
      "\u001b[2m\u001b[36m(RolloutWorker pid=12500)\u001b[0m reset triggered\n",
      "\u001b[2m\u001b[36m(RolloutWorker pid=12500)\u001b[0m reload save for track : 3\n",
      "\u001b[2m\u001b[36m(RolloutWorker pid=12500)\u001b[0m reset triggered\n",
      "\u001b[2m\u001b[36m(RolloutWorker pid=12500)\u001b[0m reload save for track : 3\n"
     ]
    },
    {
     "name": "stderr",
     "output_type": "stream",
     "text": [
      "\u001b[2m\u001b[36m(RolloutWorker pid=12500)\u001b[0m c:\\Users\\nadir\\anaconda3\\envs\\GTAI2\\lib\\site-packages\\rtgym\\envs\\real_time_env.py:376: UserWarning: Time-step timed out. Elapsed since last time-step: 0.150951100028351\n",
      "\u001b[2m\u001b[36m(RolloutWorker pid=12500)\u001b[0m   warnings.warn(f\"Time-step timed out. Elapsed since last time-step: {now - self.__t_end}\")\n"
     ]
    },
    {
     "name": "stdout",
     "output_type": "stream",
     "text": [
      "Loop:  16\n",
      "\u001b[2m\u001b[36m(RolloutWorker pid=12500)\u001b[0m reset triggered\n",
      "\u001b[2m\u001b[36m(RolloutWorker pid=12500)\u001b[0m reload save for track : 3\n"
     ]
    },
    {
     "name": "stderr",
     "output_type": "stream",
     "text": [
      "\u001b[2m\u001b[36m(RolloutWorker pid=12500)\u001b[0m c:\\Users\\nadir\\anaconda3\\envs\\GTAI2\\lib\\site-packages\\rtgym\\envs\\real_time_env.py:376: UserWarning: Time-step timed out. Elapsed since last time-step: 0.1579787000282522\n",
      "\u001b[2m\u001b[36m(RolloutWorker pid=12500)\u001b[0m   warnings.warn(f\"Time-step timed out. Elapsed since last time-step: {now - self.__t_end}\")\n",
      "\u001b[2m\u001b[36m(RolloutWorker pid=12500)\u001b[0m c:\\Users\\nadir\\anaconda3\\envs\\GTAI2\\lib\\site-packages\\rtgym\\envs\\real_time_env.py:376: UserWarning: Time-step timed out. Elapsed since last time-step: 0.12982420002049366\n",
      "\u001b[2m\u001b[36m(RolloutWorker pid=12500)\u001b[0m   warnings.warn(f\"Time-step timed out. Elapsed since last time-step: {now - self.__t_end}\")\n"
     ]
    },
    {
     "name": "stdout",
     "output_type": "stream",
     "text": [
      "\u001b[2m\u001b[36m(RolloutWorker pid=12500)\u001b[0m reset triggered\n",
      "\u001b[2m\u001b[36m(RolloutWorker pid=12500)\u001b[0m reload save for track : 3\n"
     ]
    },
    {
     "name": "stderr",
     "output_type": "stream",
     "text": [
      "\u001b[2m\u001b[36m(RolloutWorker pid=12500)\u001b[0m c:\\Users\\nadir\\anaconda3\\envs\\GTAI2\\lib\\site-packages\\rtgym\\envs\\real_time_env.py:376: UserWarning: Time-step timed out. Elapsed since last time-step: 0.15192880000790865\n",
      "\u001b[2m\u001b[36m(RolloutWorker pid=12500)\u001b[0m   warnings.warn(f\"Time-step timed out. Elapsed since last time-step: {now - self.__t_end}\")\n"
     ]
    },
    {
     "name": "stdout",
     "output_type": "stream",
     "text": [
      "Loop:  17\n",
      "\u001b[2m\u001b[36m(RolloutWorker pid=12500)\u001b[0m reset triggered\n",
      "\u001b[2m\u001b[36m(RolloutWorker pid=12500)\u001b[0m reload save for track : 3\n"
     ]
    },
    {
     "name": "stderr",
     "output_type": "stream",
     "text": [
      "\u001b[2m\u001b[36m(RolloutWorker pid=12500)\u001b[0m c:\\Users\\nadir\\anaconda3\\envs\\GTAI2\\lib\\site-packages\\rtgym\\envs\\real_time_env.py:376: UserWarning: Time-step timed out. Elapsed since last time-step: 0.1307034000283238\n",
      "\u001b[2m\u001b[36m(RolloutWorker pid=12500)\u001b[0m   warnings.warn(f\"Time-step timed out. Elapsed since last time-step: {now - self.__t_end}\")\n"
     ]
    },
    {
     "name": "stdout",
     "output_type": "stream",
     "text": [
      "\u001b[2m\u001b[36m(RolloutWorker pid=12500)\u001b[0m reset triggered\n",
      "\u001b[2m\u001b[36m(RolloutWorker pid=12500)\u001b[0m reload save for track : 3\n"
     ]
    },
    {
     "name": "stderr",
     "output_type": "stream",
     "text": [
      "\u001b[2m\u001b[36m(RolloutWorker pid=12500)\u001b[0m c:\\Users\\nadir\\anaconda3\\envs\\GTAI2\\lib\\site-packages\\rtgym\\envs\\real_time_env.py:376: UserWarning: Time-step timed out. Elapsed since last time-step: 0.13873790002844544\n",
      "\u001b[2m\u001b[36m(RolloutWorker pid=12500)\u001b[0m   warnings.warn(f\"Time-step timed out. Elapsed since last time-step: {now - self.__t_end}\")\n"
     ]
    },
    {
     "name": "stdout",
     "output_type": "stream",
     "text": [
      "Loop:  18\n"
     ]
    },
    {
     "name": "stderr",
     "output_type": "stream",
     "text": [
      "\u001b[2m\u001b[36m(RolloutWorker pid=12500)\u001b[0m c:\\Users\\nadir\\anaconda3\\envs\\GTAI2\\lib\\site-packages\\rtgym\\envs\\real_time_env.py:376: UserWarning: Time-step timed out. Elapsed since last time-step: 0.15364850002833919\n",
      "\u001b[2m\u001b[36m(RolloutWorker pid=12500)\u001b[0m   warnings.warn(f\"Time-step timed out. Elapsed since last time-step: {now - self.__t_end}\")\n"
     ]
    },
    {
     "name": "stdout",
     "output_type": "stream",
     "text": [
      "\u001b[2m\u001b[36m(RolloutWorker pid=12500)\u001b[0m reset triggered\n",
      "\u001b[2m\u001b[36m(RolloutWorker pid=12500)\u001b[0m reload save for track : 3\n",
      "\u001b[2m\u001b[36m(RolloutWorker pid=12500)\u001b[0m reset triggered\n",
      "\u001b[2m\u001b[36m(RolloutWorker pid=12500)\u001b[0m reload save for track : 3\n"
     ]
    },
    {
     "name": "stderr",
     "output_type": "stream",
     "text": [
      "\u001b[2m\u001b[36m(RolloutWorker pid=12500)\u001b[0m c:\\Users\\nadir\\anaconda3\\envs\\GTAI2\\lib\\site-packages\\rtgym\\envs\\real_time_env.py:376: UserWarning: Time-step timed out. Elapsed since last time-step: 0.14437090002843433\n",
      "\u001b[2m\u001b[36m(RolloutWorker pid=12500)\u001b[0m   warnings.warn(f\"Time-step timed out. Elapsed since last time-step: {now - self.__t_end}\")\n"
     ]
    },
    {
     "name": "stdout",
     "output_type": "stream",
     "text": [
      "Loop:  19\n"
     ]
    },
    {
     "name": "stderr",
     "output_type": "stream",
     "text": [
      "\u001b[2m\u001b[36m(RolloutWorker pid=12500)\u001b[0m c:\\Users\\nadir\\anaconda3\\envs\\GTAI2\\lib\\site-packages\\rtgym\\envs\\real_time_env.py:376: UserWarning: Time-step timed out. Elapsed since last time-step: 0.14123710002832013\n",
      "\u001b[2m\u001b[36m(RolloutWorker pid=12500)\u001b[0m   warnings.warn(f\"Time-step timed out. Elapsed since last time-step: {now - self.__t_end}\")\n"
     ]
    },
    {
     "name": "stdout",
     "output_type": "stream",
     "text": [
      "\u001b[2m\u001b[36m(RolloutWorker pid=12500)\u001b[0m reset triggered\n",
      "\u001b[2m\u001b[36m(RolloutWorker pid=12500)\u001b[0m reload save for track : 3\n"
     ]
    },
    {
     "name": "stderr",
     "output_type": "stream",
     "text": [
      "\u001b[2m\u001b[36m(RolloutWorker pid=12500)\u001b[0m c:\\Users\\nadir\\anaconda3\\envs\\GTAI2\\lib\\site-packages\\rtgym\\envs\\real_time_env.py:376: UserWarning: Time-step timed out. Elapsed since last time-step: 0.14109030002850886\n",
      "\u001b[2m\u001b[36m(RolloutWorker pid=12500)\u001b[0m   warnings.warn(f\"Time-step timed out. Elapsed since last time-step: {now - self.__t_end}\")\n"
     ]
    },
    {
     "name": "stdout",
     "output_type": "stream",
     "text": [
      "\u001b[2m\u001b[36m(RolloutWorker pid=12500)\u001b[0m reset triggered\n",
      "\u001b[2m\u001b[36m(RolloutWorker pid=12500)\u001b[0m reload save for track : 3\n",
      "Loop:  20\n",
      "Saved 20\n",
      "\u001b[2m\u001b[36m(RolloutWorker pid=12500)\u001b[0m reset triggered\n",
      "\u001b[2m\u001b[36m(RolloutWorker pid=12500)\u001b[0m reload save for track : 3\n"
     ]
    },
    {
     "name": "stderr",
     "output_type": "stream",
     "text": [
      "\u001b[2m\u001b[36m(RolloutWorker pid=12500)\u001b[0m c:\\Users\\nadir\\anaconda3\\envs\\GTAI2\\lib\\site-packages\\rtgym\\envs\\real_time_env.py:376: UserWarning: Time-step timed out. Elapsed since last time-step: 0.15864370002827854\n",
      "\u001b[2m\u001b[36m(RolloutWorker pid=12500)\u001b[0m   warnings.warn(f\"Time-step timed out. Elapsed since last time-step: {now - self.__t_end}\")\n"
     ]
    },
    {
     "name": "stdout",
     "output_type": "stream",
     "text": [
      "\u001b[2m\u001b[36m(RolloutWorker pid=12500)\u001b[0m reset triggered\n",
      "\u001b[2m\u001b[36m(RolloutWorker pid=12500)\u001b[0m reload save for track : 3\n"
     ]
    },
    {
     "name": "stderr",
     "output_type": "stream",
     "text": [
      "\u001b[2m\u001b[36m(RolloutWorker pid=12500)\u001b[0m c:\\Users\\nadir\\anaconda3\\envs\\GTAI2\\lib\\site-packages\\rtgym\\envs\\real_time_env.py:376: UserWarning: Time-step timed out. Elapsed since last time-step: 0.17380250002838693\n",
      "\u001b[2m\u001b[36m(RolloutWorker pid=12500)\u001b[0m   warnings.warn(f\"Time-step timed out. Elapsed since last time-step: {now - self.__t_end}\")\n"
     ]
    },
    {
     "name": "stdout",
     "output_type": "stream",
     "text": [
      "Loop:  21\n",
      "\u001b[2m\u001b[36m(RolloutWorker pid=12500)\u001b[0m reset triggered\n",
      "\u001b[2m\u001b[36m(RolloutWorker pid=12500)\u001b[0m reload save for track : 3\n"
     ]
    },
    {
     "name": "stderr",
     "output_type": "stream",
     "text": [
      "\u001b[2m\u001b[36m(RolloutWorker pid=12500)\u001b[0m c:\\Users\\nadir\\anaconda3\\envs\\GTAI2\\lib\\site-packages\\rtgym\\envs\\real_time_env.py:376: UserWarning: Time-step timed out. Elapsed since last time-step: 0.15853780002839812\n",
      "\u001b[2m\u001b[36m(RolloutWorker pid=12500)\u001b[0m   warnings.warn(f\"Time-step timed out. Elapsed since last time-step: {now - self.__t_end}\")\n",
      "\u001b[2m\u001b[36m(RolloutWorker pid=12500)\u001b[0m c:\\Users\\nadir\\anaconda3\\envs\\GTAI2\\lib\\site-packages\\rtgym\\envs\\real_time_env.py:376: UserWarning: Time-step timed out. Elapsed since last time-step: 0.15371540002843176\n",
      "\u001b[2m\u001b[36m(RolloutWorker pid=12500)\u001b[0m   warnings.warn(f\"Time-step timed out. Elapsed since last time-step: {now - self.__t_end}\")\n"
     ]
    },
    {
     "name": "stdout",
     "output_type": "stream",
     "text": [
      "\u001b[2m\u001b[36m(RolloutWorker pid=12500)\u001b[0m reset triggered\n",
      "\u001b[2m\u001b[36m(RolloutWorker pid=12500)\u001b[0m reload save for track : 3\n",
      "Loop:  22\n",
      "\u001b[2m\u001b[36m(RolloutWorker pid=12500)\u001b[0m reset triggered\n",
      "\u001b[2m\u001b[36m(RolloutWorker pid=12500)\u001b[0m reload save for track : 3\n"
     ]
    },
    {
     "name": "stderr",
     "output_type": "stream",
     "text": [
      "\u001b[2m\u001b[36m(RolloutWorker pid=12500)\u001b[0m c:\\Users\\nadir\\anaconda3\\envs\\GTAI2\\lib\\site-packages\\rtgym\\envs\\real_time_env.py:376: UserWarning: Time-step timed out. Elapsed since last time-step: 0.1613522000282046\n",
      "\u001b[2m\u001b[36m(RolloutWorker pid=12500)\u001b[0m   warnings.warn(f\"Time-step timed out. Elapsed since last time-step: {now - self.__t_end}\")\n"
     ]
    },
    {
     "name": "stdout",
     "output_type": "stream",
     "text": [
      "\u001b[2m\u001b[36m(RolloutWorker pid=12500)\u001b[0m reset triggered\n",
      "\u001b[2m\u001b[36m(RolloutWorker pid=12500)\u001b[0m reload save for track : 3\n"
     ]
    },
    {
     "name": "stderr",
     "output_type": "stream",
     "text": [
      "\u001b[2m\u001b[36m(RolloutWorker pid=12500)\u001b[0m c:\\Users\\nadir\\anaconda3\\envs\\GTAI2\\lib\\site-packages\\rtgym\\envs\\real_time_env.py:376: UserWarning: Time-step timed out. Elapsed since last time-step: 0.1551205000284881\n",
      "\u001b[2m\u001b[36m(RolloutWorker pid=12500)\u001b[0m   warnings.warn(f\"Time-step timed out. Elapsed since last time-step: {now - self.__t_end}\")\n"
     ]
    },
    {
     "name": "stdout",
     "output_type": "stream",
     "text": [
      "Loop:  23\n",
      "\u001b[2m\u001b[36m(RolloutWorker pid=12500)\u001b[0m reset triggered\n",
      "\u001b[2m\u001b[36m(RolloutWorker pid=12500)\u001b[0m reload save for track : 3\n"
     ]
    },
    {
     "name": "stderr",
     "output_type": "stream",
     "text": [
      "\u001b[2m\u001b[36m(RolloutWorker pid=12500)\u001b[0m c:\\Users\\nadir\\anaconda3\\envs\\GTAI2\\lib\\site-packages\\rtgym\\envs\\real_time_env.py:376: UserWarning: Time-step timed out. Elapsed since last time-step: 0.14115070002844732\n",
      "\u001b[2m\u001b[36m(RolloutWorker pid=12500)\u001b[0m   warnings.warn(f\"Time-step timed out. Elapsed since last time-step: {now - self.__t_end}\")\n"
     ]
    },
    {
     "name": "stdout",
     "output_type": "stream",
     "text": [
      "\u001b[2m\u001b[36m(RolloutWorker pid=12500)\u001b[0m reset triggered\n",
      "\u001b[2m\u001b[36m(RolloutWorker pid=12500)\u001b[0m reload save for track : 3\n"
     ]
    },
    {
     "name": "stderr",
     "output_type": "stream",
     "text": [
      "\u001b[2m\u001b[36m(RolloutWorker pid=12500)\u001b[0m c:\\Users\\nadir\\anaconda3\\envs\\GTAI2\\lib\\site-packages\\rtgym\\envs\\real_time_env.py:376: UserWarning: Time-step timed out. Elapsed since last time-step: 0.13723520002827172\n",
      "\u001b[2m\u001b[36m(RolloutWorker pid=12500)\u001b[0m   warnings.warn(f\"Time-step timed out. Elapsed since last time-step: {now - self.__t_end}\")\n"
     ]
    },
    {
     "name": "stdout",
     "output_type": "stream",
     "text": [
      "Loop:  24\n",
      "\u001b[2m\u001b[36m(RolloutWorker pid=12500)\u001b[0m reset triggered\n",
      "\u001b[2m\u001b[36m(RolloutWorker pid=12500)\u001b[0m reload save for track : 3\n"
     ]
    },
    {
     "name": "stderr",
     "output_type": "stream",
     "text": [
      "\u001b[2m\u001b[36m(RolloutWorker pid=12500)\u001b[0m c:\\Users\\nadir\\anaconda3\\envs\\GTAI2\\lib\\site-packages\\rtgym\\envs\\real_time_env.py:376: UserWarning: Time-step timed out. Elapsed since last time-step: 0.12109270002838457\n",
      "\u001b[2m\u001b[36m(RolloutWorker pid=12500)\u001b[0m   warnings.warn(f\"Time-step timed out. Elapsed since last time-step: {now - self.__t_end}\")\n"
     ]
    },
    {
     "name": "stdout",
     "output_type": "stream",
     "text": [
      "\u001b[2m\u001b[36m(RolloutWorker pid=12500)\u001b[0m reset triggered\n",
      "\u001b[2m\u001b[36m(RolloutWorker pid=12500)\u001b[0m reload save for track : 3\n"
     ]
    },
    {
     "name": "stderr",
     "output_type": "stream",
     "text": [
      "\u001b[2m\u001b[36m(RolloutWorker pid=12500)\u001b[0m c:\\Users\\nadir\\anaconda3\\envs\\GTAI2\\lib\\site-packages\\rtgym\\envs\\real_time_env.py:376: UserWarning: Time-step timed out. Elapsed since last time-step: 0.17122550002841308\n",
      "\u001b[2m\u001b[36m(RolloutWorker pid=12500)\u001b[0m   warnings.warn(f\"Time-step timed out. Elapsed since last time-step: {now - self.__t_end}\")\n",
      "\u001b[2m\u001b[36m(RolloutWorker pid=12500)\u001b[0m c:\\Users\\nadir\\anaconda3\\envs\\GTAI2\\lib\\site-packages\\rtgym\\envs\\real_time_env.py:376: UserWarning: Time-step timed out. Elapsed since last time-step: 0.11920170000553298\n",
      "\u001b[2m\u001b[36m(RolloutWorker pid=12500)\u001b[0m   warnings.warn(f\"Time-step timed out. Elapsed since last time-step: {now - self.__t_end}\")\n"
     ]
    },
    {
     "name": "stdout",
     "output_type": "stream",
     "text": [
      "Loop:  25\n",
      "\u001b[2m\u001b[36m(RolloutWorker pid=12500)\u001b[0m reset triggered\n",
      "\u001b[2m\u001b[36m(RolloutWorker pid=12500)\u001b[0m reload save for track : 3\n"
     ]
    },
    {
     "name": "stderr",
     "output_type": "stream",
     "text": [
      "\u001b[2m\u001b[36m(RolloutWorker pid=12500)\u001b[0m c:\\Users\\nadir\\anaconda3\\envs\\GTAI2\\lib\\site-packages\\rtgym\\envs\\real_time_env.py:376: UserWarning: Time-step timed out. Elapsed since last time-step: 0.151972200022783\n",
      "\u001b[2m\u001b[36m(RolloutWorker pid=12500)\u001b[0m   warnings.warn(f\"Time-step timed out. Elapsed since last time-step: {now - self.__t_end}\")\n"
     ]
    },
    {
     "name": "stdout",
     "output_type": "stream",
     "text": [
      "\u001b[2m\u001b[36m(RolloutWorker pid=12500)\u001b[0m reset triggered\n",
      "\u001b[2m\u001b[36m(RolloutWorker pid=12500)\u001b[0m reload save for track : 3\n"
     ]
    },
    {
     "name": "stderr",
     "output_type": "stream",
     "text": [
      "\u001b[2m\u001b[36m(RolloutWorker pid=12500)\u001b[0m c:\\Users\\nadir\\anaconda3\\envs\\GTAI2\\lib\\site-packages\\rtgym\\envs\\real_time_env.py:376: UserWarning: Time-step timed out. Elapsed since last time-step: 0.14061360002847323\n",
      "\u001b[2m\u001b[36m(RolloutWorker pid=12500)\u001b[0m   warnings.warn(f\"Time-step timed out. Elapsed since last time-step: {now - self.__t_end}\")\n"
     ]
    },
    {
     "name": "stdout",
     "output_type": "stream",
     "text": [
      "Loop:  26\n"
     ]
    },
    {
     "name": "stderr",
     "output_type": "stream",
     "text": [
      "\u001b[2m\u001b[36m(RolloutWorker pid=12500)\u001b[0m c:\\Users\\nadir\\anaconda3\\envs\\GTAI2\\lib\\site-packages\\rtgym\\envs\\real_time_env.py:376: UserWarning: Time-step timed out. Elapsed since last time-step: 0.12896810002416714\n",
      "\u001b[2m\u001b[36m(RolloutWorker pid=12500)\u001b[0m   warnings.warn(f\"Time-step timed out. Elapsed since last time-step: {now - self.__t_end}\")\n"
     ]
    },
    {
     "name": "stdout",
     "output_type": "stream",
     "text": [
      "\u001b[2m\u001b[36m(RolloutWorker pid=12500)\u001b[0m reset triggered\n",
      "\u001b[2m\u001b[36m(RolloutWorker pid=12500)\u001b[0m reload save for track : 3\n"
     ]
    },
    {
     "name": "stderr",
     "output_type": "stream",
     "text": [
      "\u001b[2m\u001b[36m(RolloutWorker pid=12500)\u001b[0m c:\\Users\\nadir\\anaconda3\\envs\\GTAI2\\lib\\site-packages\\rtgym\\envs\\real_time_env.py:376: UserWarning: Time-step timed out. Elapsed since last time-step: 0.14264620000403738\n",
      "\u001b[2m\u001b[36m(RolloutWorker pid=12500)\u001b[0m   warnings.warn(f\"Time-step timed out. Elapsed since last time-step: {now - self.__t_end}\")\n"
     ]
    },
    {
     "name": "stdout",
     "output_type": "stream",
     "text": [
      "\u001b[2m\u001b[36m(RolloutWorker pid=12500)\u001b[0m reset triggered\n",
      "\u001b[2m\u001b[36m(RolloutWorker pid=12500)\u001b[0m reload save for track : 3\n"
     ]
    },
    {
     "name": "stderr",
     "output_type": "stream",
     "text": [
      "\u001b[2m\u001b[36m(RolloutWorker pid=12500)\u001b[0m c:\\Users\\nadir\\anaconda3\\envs\\GTAI2\\lib\\site-packages\\rtgym\\envs\\real_time_env.py:376: UserWarning: Time-step timed out. Elapsed since last time-step: 0.15853180002841327\n",
      "\u001b[2m\u001b[36m(RolloutWorker pid=12500)\u001b[0m   warnings.warn(f\"Time-step timed out. Elapsed since last time-step: {now - self.__t_end}\")\n"
     ]
    },
    {
     "name": "stdout",
     "output_type": "stream",
     "text": [
      "Loop:  27\n",
      "\u001b[2m\u001b[36m(RolloutWorker pid=12500)\u001b[0m reset triggered\n",
      "\u001b[2m\u001b[36m(RolloutWorker pid=12500)\u001b[0m reload save for track : 3\n"
     ]
    },
    {
     "name": "stderr",
     "output_type": "stream",
     "text": [
      "\u001b[2m\u001b[36m(RolloutWorker pid=12500)\u001b[0m c:\\Users\\nadir\\anaconda3\\envs\\GTAI2\\lib\\site-packages\\rtgym\\envs\\real_time_env.py:376: UserWarning: Time-step timed out. Elapsed since last time-step: 0.13401470002850147\n",
      "\u001b[2m\u001b[36m(RolloutWorker pid=12500)\u001b[0m   warnings.warn(f\"Time-step timed out. Elapsed since last time-step: {now - self.__t_end}\")\n"
     ]
    },
    {
     "name": "stdout",
     "output_type": "stream",
     "text": [
      "\u001b[2m\u001b[36m(RolloutWorker pid=12500)\u001b[0m reset triggered\n",
      "\u001b[2m\u001b[36m(RolloutWorker pid=12500)\u001b[0m reload save for track : 3\n"
     ]
    },
    {
     "name": "stderr",
     "output_type": "stream",
     "text": [
      "\u001b[2m\u001b[36m(RolloutWorker pid=12500)\u001b[0m c:\\Users\\nadir\\anaconda3\\envs\\GTAI2\\lib\\site-packages\\rtgym\\envs\\real_time_env.py:376: UserWarning: Time-step timed out. Elapsed since last time-step: 0.15507930002831927\n",
      "\u001b[2m\u001b[36m(RolloutWorker pid=12500)\u001b[0m   warnings.warn(f\"Time-step timed out. Elapsed since last time-step: {now - self.__t_end}\")\n"
     ]
    },
    {
     "name": "stdout",
     "output_type": "stream",
     "text": [
      "Loop:  28\n",
      "\u001b[2m\u001b[36m(RolloutWorker pid=12500)\u001b[0m reset triggered\n",
      "\u001b[2m\u001b[36m(RolloutWorker pid=12500)\u001b[0m reload save for track : 3\n"
     ]
    },
    {
     "name": "stderr",
     "output_type": "stream",
     "text": [
      "\u001b[2m\u001b[36m(RolloutWorker pid=12500)\u001b[0m c:\\Users\\nadir\\anaconda3\\envs\\GTAI2\\lib\\site-packages\\rtgym\\envs\\real_time_env.py:376: UserWarning: Time-step timed out. Elapsed since last time-step: 0.15110860002846493\n",
      "\u001b[2m\u001b[36m(RolloutWorker pid=12500)\u001b[0m   warnings.warn(f\"Time-step timed out. Elapsed since last time-step: {now - self.__t_end}\")\n"
     ]
    },
    {
     "name": "stdout",
     "output_type": "stream",
     "text": [
      "\u001b[2m\u001b[36m(RolloutWorker pid=12500)\u001b[0m reset triggered\n",
      "\u001b[2m\u001b[36m(RolloutWorker pid=12500)\u001b[0m reload save for track : 3\n"
     ]
    },
    {
     "name": "stderr",
     "output_type": "stream",
     "text": [
      "\u001b[2m\u001b[36m(RolloutWorker pid=12500)\u001b[0m c:\\Users\\nadir\\anaconda3\\envs\\GTAI2\\lib\\site-packages\\rtgym\\envs\\real_time_env.py:376: UserWarning: Time-step timed out. Elapsed since last time-step: 0.16400080002836148\n",
      "\u001b[2m\u001b[36m(RolloutWorker pid=12500)\u001b[0m   warnings.warn(f\"Time-step timed out. Elapsed since last time-step: {now - self.__t_end}\")\n"
     ]
    },
    {
     "name": "stdout",
     "output_type": "stream",
     "text": [
      "Loop:  29\n",
      "\u001b[2m\u001b[36m(RolloutWorker pid=12500)\u001b[0m reset triggered\n",
      "\u001b[2m\u001b[36m(RolloutWorker pid=12500)\u001b[0m reload save for track : 3\n"
     ]
    },
    {
     "name": "stderr",
     "output_type": "stream",
     "text": [
      "\u001b[2m\u001b[36m(RolloutWorker pid=12500)\u001b[0m c:\\Users\\nadir\\anaconda3\\envs\\GTAI2\\lib\\site-packages\\rtgym\\envs\\real_time_env.py:376: UserWarning: Time-step timed out. Elapsed since last time-step: 0.1583313000282942\n",
      "\u001b[2m\u001b[36m(RolloutWorker pid=12500)\u001b[0m   warnings.warn(f\"Time-step timed out. Elapsed since last time-step: {now - self.__t_end}\")\n"
     ]
    },
    {
     "name": "stdout",
     "output_type": "stream",
     "text": [
      "\u001b[2m\u001b[36m(RolloutWorker pid=12500)\u001b[0m reset triggered\n",
      "\u001b[2m\u001b[36m(RolloutWorker pid=12500)\u001b[0m reload save for track : 3\n"
     ]
    },
    {
     "name": "stderr",
     "output_type": "stream",
     "text": [
      "\u001b[2m\u001b[36m(RolloutWorker pid=12500)\u001b[0m c:\\Users\\nadir\\anaconda3\\envs\\GTAI2\\lib\\site-packages\\rtgym\\envs\\real_time_env.py:376: UserWarning: Time-step timed out. Elapsed since last time-step: 0.16183200002842568\n",
      "\u001b[2m\u001b[36m(RolloutWorker pid=12500)\u001b[0m   warnings.warn(f\"Time-step timed out. Elapsed since last time-step: {now - self.__t_end}\")\n"
     ]
    },
    {
     "name": "stdout",
     "output_type": "stream",
     "text": [
      "Loop:  30\n",
      "\u001b[2m\u001b[36m(RolloutWorker pid=12500)\u001b[0m reset triggered\n",
      "\u001b[2m\u001b[36m(RolloutWorker pid=12500)\u001b[0m reload save for track : 3\n"
     ]
    },
    {
     "name": "stderr",
     "output_type": "stream",
     "text": [
      "\u001b[2m\u001b[36m(RolloutWorker pid=12500)\u001b[0m c:\\Users\\nadir\\anaconda3\\envs\\GTAI2\\lib\\site-packages\\rtgym\\envs\\real_time_env.py:376: UserWarning: Time-step timed out. Elapsed since last time-step: 0.16065680002839144\n",
      "\u001b[2m\u001b[36m(RolloutWorker pid=12500)\u001b[0m   warnings.warn(f\"Time-step timed out. Elapsed since last time-step: {now - self.__t_end}\")\n"
     ]
    },
    {
     "name": "stdout",
     "output_type": "stream",
     "text": [
      "\u001b[2m\u001b[36m(RolloutWorker pid=12500)\u001b[0m reset triggered\n",
      "\u001b[2m\u001b[36m(RolloutWorker pid=12500)\u001b[0m reload save for track : 3\n"
     ]
    },
    {
     "name": "stderr",
     "output_type": "stream",
     "text": [
      "\u001b[2m\u001b[36m(RolloutWorker pid=12500)\u001b[0m c:\\Users\\nadir\\anaconda3\\envs\\GTAI2\\lib\\site-packages\\rtgym\\envs\\real_time_env.py:376: UserWarning: Time-step timed out. Elapsed since last time-step: 0.1411240000284124\n",
      "\u001b[2m\u001b[36m(RolloutWorker pid=12500)\u001b[0m   warnings.warn(f\"Time-step timed out. Elapsed since last time-step: {now - self.__t_end}\")\n"
     ]
    },
    {
     "name": "stdout",
     "output_type": "stream",
     "text": [
      "Loop:  31\n",
      "\u001b[2m\u001b[36m(RolloutWorker pid=12500)\u001b[0m reset triggered\n",
      "\u001b[2m\u001b[36m(RolloutWorker pid=12500)\u001b[0m reload save for track : 3\n"
     ]
    },
    {
     "name": "stderr",
     "output_type": "stream",
     "text": [
      "\u001b[2m\u001b[36m(RolloutWorker pid=12500)\u001b[0m c:\\Users\\nadir\\anaconda3\\envs\\GTAI2\\lib\\site-packages\\rtgym\\envs\\real_time_env.py:376: UserWarning: Time-step timed out. Elapsed since last time-step: 0.1345924000283958\n",
      "\u001b[2m\u001b[36m(RolloutWorker pid=12500)\u001b[0m   warnings.warn(f\"Time-step timed out. Elapsed since last time-step: {now - self.__t_end}\")\n"
     ]
    },
    {
     "name": "stdout",
     "output_type": "stream",
     "text": [
      "\u001b[2m\u001b[36m(RolloutWorker pid=12500)\u001b[0m reset triggered\n",
      "\u001b[2m\u001b[36m(RolloutWorker pid=12500)\u001b[0m reload save for track : 3\n"
     ]
    },
    {
     "name": "stderr",
     "output_type": "stream",
     "text": [
      "\u001b[2m\u001b[36m(RolloutWorker pid=12500)\u001b[0m c:\\Users\\nadir\\anaconda3\\envs\\GTAI2\\lib\\site-packages\\rtgym\\envs\\real_time_env.py:376: UserWarning: Time-step timed out. Elapsed since last time-step: 0.1640971000283571\n",
      "\u001b[2m\u001b[36m(RolloutWorker pid=12500)\u001b[0m   warnings.warn(f\"Time-step timed out. Elapsed since last time-step: {now - self.__t_end}\")\n"
     ]
    },
    {
     "name": "stdout",
     "output_type": "stream",
     "text": [
      "Loop:  32\n"
     ]
    },
    {
     "name": "stderr",
     "output_type": "stream",
     "text": [
      "\u001b[2m\u001b[36m(RolloutWorker pid=12500)\u001b[0m c:\\Users\\nadir\\anaconda3\\envs\\GTAI2\\lib\\site-packages\\rtgym\\envs\\real_time_env.py:376: UserWarning: Time-step timed out. Elapsed since last time-step: 0.13831320002827852\n",
      "\u001b[2m\u001b[36m(RolloutWorker pid=12500)\u001b[0m   warnings.warn(f\"Time-step timed out. Elapsed since last time-step: {now - self.__t_end}\")\n"
     ]
    },
    {
     "name": "stdout",
     "output_type": "stream",
     "text": [
      "\u001b[2m\u001b[36m(RolloutWorker pid=12500)\u001b[0m reset triggered\n",
      "\u001b[2m\u001b[36m(RolloutWorker pid=12500)\u001b[0m reload save for track : 3\n",
      "\u001b[2m\u001b[36m(RolloutWorker pid=12500)\u001b[0m reset triggered\n",
      "\u001b[2m\u001b[36m(RolloutWorker pid=12500)\u001b[0m reload save for track : 3\n"
     ]
    },
    {
     "name": "stderr",
     "output_type": "stream",
     "text": [
      "\u001b[2m\u001b[36m(RolloutWorker pid=12500)\u001b[0m c:\\Users\\nadir\\anaconda3\\envs\\GTAI2\\lib\\site-packages\\rtgym\\envs\\real_time_env.py:376: UserWarning: Time-step timed out. Elapsed since last time-step: 0.13030760002857278\n",
      "\u001b[2m\u001b[36m(RolloutWorker pid=12500)\u001b[0m   warnings.warn(f\"Time-step timed out. Elapsed since last time-step: {now - self.__t_end}\")\n"
     ]
    },
    {
     "name": "stdout",
     "output_type": "stream",
     "text": [
      "Loop:  33\n"
     ]
    },
    {
     "name": "stderr",
     "output_type": "stream",
     "text": [
      "\u001b[2m\u001b[36m(RolloutWorker pid=12500)\u001b[0m c:\\Users\\nadir\\anaconda3\\envs\\GTAI2\\lib\\site-packages\\rtgym\\envs\\real_time_env.py:376: UserWarning: Time-step timed out. Elapsed since last time-step: 0.15123260002837924\n",
      "\u001b[2m\u001b[36m(RolloutWorker pid=12500)\u001b[0m   warnings.warn(f\"Time-step timed out. Elapsed since last time-step: {now - self.__t_end}\")\n"
     ]
    },
    {
     "name": "stdout",
     "output_type": "stream",
     "text": [
      "\u001b[2m\u001b[36m(RolloutWorker pid=12500)\u001b[0m reset triggered\n",
      "\u001b[2m\u001b[36m(RolloutWorker pid=12500)\u001b[0m reload save for track : 3\n"
     ]
    },
    {
     "name": "stderr",
     "output_type": "stream",
     "text": [
      "\u001b[2m\u001b[36m(RolloutWorker pid=12500)\u001b[0m c:\\Users\\nadir\\anaconda3\\envs\\GTAI2\\lib\\site-packages\\rtgym\\envs\\real_time_env.py:376: UserWarning: Time-step timed out. Elapsed since last time-step: 0.14467150002838025\n",
      "\u001b[2m\u001b[36m(RolloutWorker pid=12500)\u001b[0m   warnings.warn(f\"Time-step timed out. Elapsed since last time-step: {now - self.__t_end}\")\n"
     ]
    },
    {
     "name": "stdout",
     "output_type": "stream",
     "text": [
      "\u001b[2m\u001b[36m(RolloutWorker pid=12500)\u001b[0m reset triggered\n",
      "\u001b[2m\u001b[36m(RolloutWorker pid=12500)\u001b[0m reload save for track : 3\n",
      "Loop:  34\n",
      "\u001b[2m\u001b[36m(RolloutWorker pid=12500)\u001b[0m reset triggered\n",
      "\u001b[2m\u001b[36m(RolloutWorker pid=12500)\u001b[0m reload save for track : 3\n"
     ]
    },
    {
     "name": "stderr",
     "output_type": "stream",
     "text": [
      "\u001b[2m\u001b[36m(RolloutWorker pid=12500)\u001b[0m c:\\Users\\nadir\\anaconda3\\envs\\GTAI2\\lib\\site-packages\\rtgym\\envs\\real_time_env.py:376: UserWarning: Time-step timed out. Elapsed since last time-step: 0.1484276000282989\n",
      "\u001b[2m\u001b[36m(RolloutWorker pid=12500)\u001b[0m   warnings.warn(f\"Time-step timed out. Elapsed since last time-step: {now - self.__t_end}\")\n"
     ]
    },
    {
     "name": "stdout",
     "output_type": "stream",
     "text": [
      "\u001b[2m\u001b[36m(RolloutWorker pid=12500)\u001b[0m reset triggered\n",
      "\u001b[2m\u001b[36m(RolloutWorker pid=12500)\u001b[0m reload save for track : 3\n"
     ]
    },
    {
     "name": "stderr",
     "output_type": "stream",
     "text": [
      "\u001b[2m\u001b[36m(RolloutWorker pid=12500)\u001b[0m c:\\Users\\nadir\\anaconda3\\envs\\GTAI2\\lib\\site-packages\\rtgym\\envs\\real_time_env.py:376: UserWarning: Time-step timed out. Elapsed since last time-step: 0.1639742000284059\n",
      "\u001b[2m\u001b[36m(RolloutWorker pid=12500)\u001b[0m   warnings.warn(f\"Time-step timed out. Elapsed since last time-step: {now - self.__t_end}\")\n"
     ]
    },
    {
     "name": "stdout",
     "output_type": "stream",
     "text": [
      "Loop:  35\n",
      "\u001b[2m\u001b[36m(RolloutWorker pid=12500)\u001b[0m reset triggered\n",
      "\u001b[2m\u001b[36m(RolloutWorker pid=12500)\u001b[0m reload save for track : 3\n"
     ]
    },
    {
     "name": "stderr",
     "output_type": "stream",
     "text": [
      "\u001b[2m\u001b[36m(RolloutWorker pid=12500)\u001b[0m c:\\Users\\nadir\\anaconda3\\envs\\GTAI2\\lib\\site-packages\\rtgym\\envs\\real_time_env.py:376: UserWarning: Time-step timed out. Elapsed since last time-step: 0.15110060002825776\n",
      "\u001b[2m\u001b[36m(RolloutWorker pid=12500)\u001b[0m   warnings.warn(f\"Time-step timed out. Elapsed since last time-step: {now - self.__t_end}\")\n",
      "\u001b[2m\u001b[36m(RolloutWorker pid=12500)\u001b[0m c:\\Users\\nadir\\anaconda3\\envs\\GTAI2\\lib\\site-packages\\rtgym\\envs\\real_time_env.py:376: UserWarning: Time-step timed out. Elapsed since last time-step: 0.10642490002828708\n",
      "\u001b[2m\u001b[36m(RolloutWorker pid=12500)\u001b[0m   warnings.warn(f\"Time-step timed out. Elapsed since last time-step: {now - self.__t_end}\")\n"
     ]
    },
    {
     "name": "stdout",
     "output_type": "stream",
     "text": [
      "\u001b[2m\u001b[36m(RolloutWorker pid=12500)\u001b[0m reset triggered\n",
      "\u001b[2m\u001b[36m(RolloutWorker pid=12500)\u001b[0m reload save for track : 3\n"
     ]
    },
    {
     "name": "stderr",
     "output_type": "stream",
     "text": [
      "\u001b[2m\u001b[36m(RolloutWorker pid=12500)\u001b[0m c:\\Users\\nadir\\anaconda3\\envs\\GTAI2\\lib\\site-packages\\rtgym\\envs\\real_time_env.py:376: UserWarning: Time-step timed out. Elapsed since last time-step: 0.14462719999983165\n",
      "\u001b[2m\u001b[36m(RolloutWorker pid=12500)\u001b[0m   warnings.warn(f\"Time-step timed out. Elapsed since last time-step: {now - self.__t_end}\")\n"
     ]
    },
    {
     "name": "stdout",
     "output_type": "stream",
     "text": [
      "Loop:  36\n"
     ]
    },
    {
     "name": "stderr",
     "output_type": "stream",
     "text": [
      "\u001b[2m\u001b[36m(RolloutWorker pid=12500)\u001b[0m c:\\Users\\nadir\\anaconda3\\envs\\GTAI2\\lib\\site-packages\\rtgym\\envs\\real_time_env.py:376: UserWarning: Time-step timed out. Elapsed since last time-step: 0.15850260002844152\n",
      "\u001b[2m\u001b[36m(RolloutWorker pid=12500)\u001b[0m   warnings.warn(f\"Time-step timed out. Elapsed since last time-step: {now - self.__t_end}\")\n"
     ]
    },
    {
     "name": "stdout",
     "output_type": "stream",
     "text": [
      "\u001b[2m\u001b[36m(RolloutWorker pid=12500)\u001b[0m reset triggered\n",
      "\u001b[2m\u001b[36m(RolloutWorker pid=12500)\u001b[0m reload save for track : 3\n"
     ]
    },
    {
     "name": "stderr",
     "output_type": "stream",
     "text": [
      "\u001b[2m\u001b[36m(RolloutWorker pid=12500)\u001b[0m c:\\Users\\nadir\\anaconda3\\envs\\GTAI2\\lib\\site-packages\\rtgym\\envs\\real_time_env.py:376: UserWarning: Time-step timed out. Elapsed since last time-step: 0.13053510002873736\n",
      "\u001b[2m\u001b[36m(RolloutWorker pid=12500)\u001b[0m   warnings.warn(f\"Time-step timed out. Elapsed since last time-step: {now - self.__t_end}\")\n"
     ]
    },
    {
     "name": "stdout",
     "output_type": "stream",
     "text": [
      "\u001b[2m\u001b[36m(RolloutWorker pid=12500)\u001b[0m reset triggered\n",
      "\u001b[2m\u001b[36m(RolloutWorker pid=12500)\u001b[0m reload save for track : 3\n",
      "Loop:  37\n",
      "\u001b[2m\u001b[36m(RolloutWorker pid=12500)\u001b[0m reset triggered\n",
      "\u001b[2m\u001b[36m(RolloutWorker pid=12500)\u001b[0m reload save for track : 3\n"
     ]
    },
    {
     "name": "stderr",
     "output_type": "stream",
     "text": [
      "\u001b[2m\u001b[36m(RolloutWorker pid=12500)\u001b[0m c:\\Users\\nadir\\anaconda3\\envs\\GTAI2\\lib\\site-packages\\rtgym\\envs\\real_time_env.py:376: UserWarning: Time-step timed out. Elapsed since last time-step: 0.1513479000282132\n",
      "\u001b[2m\u001b[36m(RolloutWorker pid=12500)\u001b[0m   warnings.warn(f\"Time-step timed out. Elapsed since last time-step: {now - self.__t_end}\")\n"
     ]
    },
    {
     "name": "stdout",
     "output_type": "stream",
     "text": [
      "\u001b[2m\u001b[36m(RolloutWorker pid=12500)\u001b[0m reset triggered\n",
      "\u001b[2m\u001b[36m(RolloutWorker pid=12500)\u001b[0m reload save for track : 3\n"
     ]
    },
    {
     "name": "stderr",
     "output_type": "stream",
     "text": [
      "\u001b[2m\u001b[36m(RolloutWorker pid=12500)\u001b[0m c:\\Users\\nadir\\anaconda3\\envs\\GTAI2\\lib\\site-packages\\rtgym\\envs\\real_time_env.py:376: UserWarning: Time-step timed out. Elapsed since last time-step: 0.14824160002854114\n",
      "\u001b[2m\u001b[36m(RolloutWorker pid=12500)\u001b[0m   warnings.warn(f\"Time-step timed out. Elapsed since last time-step: {now - self.__t_end}\")\n"
     ]
    },
    {
     "name": "stdout",
     "output_type": "stream",
     "text": [
      "Loop:  38\n",
      "\u001b[2m\u001b[36m(RolloutWorker pid=12500)\u001b[0m reset triggered\n",
      "\u001b[2m\u001b[36m(RolloutWorker pid=12500)\u001b[0m reload save for track : 3\n"
     ]
    },
    {
     "name": "stderr",
     "output_type": "stream",
     "text": [
      "\u001b[2m\u001b[36m(RolloutWorker pid=12500)\u001b[0m c:\\Users\\nadir\\anaconda3\\envs\\GTAI2\\lib\\site-packages\\rtgym\\envs\\real_time_env.py:376: UserWarning: Time-step timed out. Elapsed since last time-step: 0.14711920002810075\n",
      "\u001b[2m\u001b[36m(RolloutWorker pid=12500)\u001b[0m   warnings.warn(f\"Time-step timed out. Elapsed since last time-step: {now - self.__t_end}\")\n"
     ]
    },
    {
     "name": "stdout",
     "output_type": "stream",
     "text": [
      "\u001b[2m\u001b[36m(RolloutWorker pid=12500)\u001b[0m reset triggered\n",
      "\u001b[2m\u001b[36m(RolloutWorker pid=12500)\u001b[0m reload save for track : 3\n"
     ]
    },
    {
     "name": "stderr",
     "output_type": "stream",
     "text": [
      "\u001b[2m\u001b[36m(RolloutWorker pid=12500)\u001b[0m c:\\Users\\nadir\\anaconda3\\envs\\GTAI2\\lib\\site-packages\\rtgym\\envs\\real_time_env.py:376: UserWarning: Time-step timed out. Elapsed since last time-step: 0.15867870002830387\n",
      "\u001b[2m\u001b[36m(RolloutWorker pid=12500)\u001b[0m   warnings.warn(f\"Time-step timed out. Elapsed since last time-step: {now - self.__t_end}\")\n"
     ]
    },
    {
     "name": "stdout",
     "output_type": "stream",
     "text": [
      "Loop:  39\n",
      "\u001b[2m\u001b[36m(RolloutWorker pid=12500)\u001b[0m reset triggered\n",
      "\u001b[2m\u001b[36m(RolloutWorker pid=12500)\u001b[0m reload save for track : 3\n"
     ]
    },
    {
     "name": "stderr",
     "output_type": "stream",
     "text": [
      "\u001b[2m\u001b[36m(RolloutWorker pid=12500)\u001b[0m c:\\Users\\nadir\\anaconda3\\envs\\GTAI2\\lib\\site-packages\\rtgym\\envs\\real_time_env.py:376: UserWarning: Time-step timed out. Elapsed since last time-step: 0.15369000002829125\n",
      "\u001b[2m\u001b[36m(RolloutWorker pid=12500)\u001b[0m   warnings.warn(f\"Time-step timed out. Elapsed since last time-step: {now - self.__t_end}\")\n"
     ]
    },
    {
     "name": "stdout",
     "output_type": "stream",
     "text": [
      "\u001b[2m\u001b[36m(RolloutWorker pid=12500)\u001b[0m reset triggered\n",
      "\u001b[2m\u001b[36m(RolloutWorker pid=12500)\u001b[0m reload save for track : 3\n"
     ]
    },
    {
     "name": "stderr",
     "output_type": "stream",
     "text": [
      "\u001b[2m\u001b[36m(RolloutWorker pid=12500)\u001b[0m c:\\Users\\nadir\\anaconda3\\envs\\GTAI2\\lib\\site-packages\\rtgym\\envs\\real_time_env.py:376: UserWarning: Time-step timed out. Elapsed since last time-step: 0.17121140002882385\n",
      "\u001b[2m\u001b[36m(RolloutWorker pid=12500)\u001b[0m   warnings.warn(f\"Time-step timed out. Elapsed since last time-step: {now - self.__t_end}\")\n"
     ]
    },
    {
     "name": "stdout",
     "output_type": "stream",
     "text": [
      "Loop:  40\n",
      "Saved 40\n",
      "\u001b[2m\u001b[36m(RolloutWorker pid=12500)\u001b[0m reset triggered\n",
      "\u001b[2m\u001b[36m(RolloutWorker pid=12500)\u001b[0m reload save for track : 3\n"
     ]
    },
    {
     "name": "stderr",
     "output_type": "stream",
     "text": [
      "\u001b[2m\u001b[36m(RolloutWorker pid=12500)\u001b[0m c:\\Users\\nadir\\anaconda3\\envs\\GTAI2\\lib\\site-packages\\rtgym\\envs\\real_time_env.py:376: UserWarning: Time-step timed out. Elapsed since last time-step: 0.1384772000283192\n",
      "\u001b[2m\u001b[36m(RolloutWorker pid=12500)\u001b[0m   warnings.warn(f\"Time-step timed out. Elapsed since last time-step: {now - self.__t_end}\")\n"
     ]
    },
    {
     "name": "stdout",
     "output_type": "stream",
     "text": [
      "\u001b[2m\u001b[36m(RolloutWorker pid=12500)\u001b[0m reset triggered\n",
      "\u001b[2m\u001b[36m(RolloutWorker pid=12500)\u001b[0m reload save for track : 3\n"
     ]
    },
    {
     "name": "stderr",
     "output_type": "stream",
     "text": [
      "\u001b[2m\u001b[36m(RolloutWorker pid=12500)\u001b[0m c:\\Users\\nadir\\anaconda3\\envs\\GTAI2\\lib\\site-packages\\rtgym\\envs\\real_time_env.py:376: UserWarning: Time-step timed out. Elapsed since last time-step: 0.14392610002823858\n",
      "\u001b[2m\u001b[36m(RolloutWorker pid=12500)\u001b[0m   warnings.warn(f\"Time-step timed out. Elapsed since last time-step: {now - self.__t_end}\")\n"
     ]
    },
    {
     "name": "stdout",
     "output_type": "stream",
     "text": [
      "Loop:  41\n",
      "\u001b[2m\u001b[36m(RolloutWorker pid=12500)\u001b[0m reset triggered\n",
      "\u001b[2m\u001b[36m(RolloutWorker pid=12500)\u001b[0m reload save for track : 3\n"
     ]
    },
    {
     "name": "stderr",
     "output_type": "stream",
     "text": [
      "\u001b[2m\u001b[36m(RolloutWorker pid=12500)\u001b[0m c:\\Users\\nadir\\anaconda3\\envs\\GTAI2\\lib\\site-packages\\rtgym\\envs\\real_time_env.py:376: UserWarning: Time-step timed out. Elapsed since last time-step: 0.14521580002838164\n",
      "\u001b[2m\u001b[36m(RolloutWorker pid=12500)\u001b[0m   warnings.warn(f\"Time-step timed out. Elapsed since last time-step: {now - self.__t_end}\")\n"
     ]
    },
    {
     "name": "stdout",
     "output_type": "stream",
     "text": [
      "\u001b[2m\u001b[36m(RolloutWorker pid=12500)\u001b[0m reset triggered\n",
      "\u001b[2m\u001b[36m(RolloutWorker pid=12500)\u001b[0m reload save for track : 3\n"
     ]
    },
    {
     "name": "stderr",
     "output_type": "stream",
     "text": [
      "\u001b[2m\u001b[36m(RolloutWorker pid=12500)\u001b[0m c:\\Users\\nadir\\anaconda3\\envs\\GTAI2\\lib\\site-packages\\rtgym\\envs\\real_time_env.py:376: UserWarning: Time-step timed out. Elapsed since last time-step: 0.15395910002825985\n",
      "\u001b[2m\u001b[36m(RolloutWorker pid=12500)\u001b[0m   warnings.warn(f\"Time-step timed out. Elapsed since last time-step: {now - self.__t_end}\")\n"
     ]
    },
    {
     "name": "stdout",
     "output_type": "stream",
     "text": [
      "Loop:  42\n",
      "\u001b[2m\u001b[36m(RolloutWorker pid=12500)\u001b[0m reset triggered\n",
      "\u001b[2m\u001b[36m(RolloutWorker pid=12500)\u001b[0m reload save for track : 3\n"
     ]
    },
    {
     "name": "stderr",
     "output_type": "stream",
     "text": [
      "\u001b[2m\u001b[36m(RolloutWorker pid=12500)\u001b[0m c:\\Users\\nadir\\anaconda3\\envs\\GTAI2\\lib\\site-packages\\rtgym\\envs\\real_time_env.py:376: UserWarning: Time-step timed out. Elapsed since last time-step: 0.15089670002862476\n",
      "\u001b[2m\u001b[36m(RolloutWorker pid=12500)\u001b[0m   warnings.warn(f\"Time-step timed out. Elapsed since last time-step: {now - self.__t_end}\")\n"
     ]
    },
    {
     "name": "stdout",
     "output_type": "stream",
     "text": [
      "\u001b[2m\u001b[36m(RolloutWorker pid=12500)\u001b[0m reset triggered\n",
      "\u001b[2m\u001b[36m(RolloutWorker pid=12500)\u001b[0m reload save for track : 3\n"
     ]
    },
    {
     "name": "stderr",
     "output_type": "stream",
     "text": [
      "\u001b[2m\u001b[36m(RolloutWorker pid=12500)\u001b[0m c:\\Users\\nadir\\anaconda3\\envs\\GTAI2\\lib\\site-packages\\rtgym\\envs\\real_time_env.py:376: UserWarning: Time-step timed out. Elapsed since last time-step: 0.15855570002804598\n",
      "\u001b[2m\u001b[36m(RolloutWorker pid=12500)\u001b[0m   warnings.warn(f\"Time-step timed out. Elapsed since last time-step: {now - self.__t_end}\")\n"
     ]
    },
    {
     "name": "stdout",
     "output_type": "stream",
     "text": [
      "Loop:  43\n",
      "\u001b[2m\u001b[36m(RolloutWorker pid=12500)\u001b[0m reset triggered\n",
      "\u001b[2m\u001b[36m(RolloutWorker pid=12500)\u001b[0m reload save for track : 3\n"
     ]
    },
    {
     "name": "stderr",
     "output_type": "stream",
     "text": [
      "\u001b[2m\u001b[36m(RolloutWorker pid=12500)\u001b[0m c:\\Users\\nadir\\anaconda3\\envs\\GTAI2\\lib\\site-packages\\rtgym\\envs\\real_time_env.py:376: UserWarning: Time-step timed out. Elapsed since last time-step: 0.16131490002862847\n",
      "\u001b[2m\u001b[36m(RolloutWorker pid=12500)\u001b[0m   warnings.warn(f\"Time-step timed out. Elapsed since last time-step: {now - self.__t_end}\")\n"
     ]
    },
    {
     "name": "stdout",
     "output_type": "stream",
     "text": [
      "\u001b[2m\u001b[36m(RolloutWorker pid=12500)\u001b[0m reset triggered\n",
      "\u001b[2m\u001b[36m(RolloutWorker pid=12500)\u001b[0m reload save for track : 3\n"
     ]
    },
    {
     "name": "stderr",
     "output_type": "stream",
     "text": [
      "\u001b[2m\u001b[36m(RolloutWorker pid=12500)\u001b[0m c:\\Users\\nadir\\anaconda3\\envs\\GTAI2\\lib\\site-packages\\rtgym\\envs\\real_time_env.py:376: UserWarning: Time-step timed out. Elapsed since last time-step: 0.17116070002839479\n",
      "\u001b[2m\u001b[36m(RolloutWorker pid=12500)\u001b[0m   warnings.warn(f\"Time-step timed out. Elapsed since last time-step: {now - self.__t_end}\")\n"
     ]
    },
    {
     "name": "stdout",
     "output_type": "stream",
     "text": [
      "Loop:  44\n",
      "\u001b[2m\u001b[36m(RolloutWorker pid=12500)\u001b[0m reset triggered\n",
      "\u001b[2m\u001b[36m(RolloutWorker pid=12500)\u001b[0m reload save for track : 3\n"
     ]
    },
    {
     "name": "stderr",
     "output_type": "stream",
     "text": [
      "\u001b[2m\u001b[36m(RolloutWorker pid=12500)\u001b[0m c:\\Users\\nadir\\anaconda3\\envs\\GTAI2\\lib\\site-packages\\rtgym\\envs\\real_time_env.py:376: UserWarning: Time-step timed out. Elapsed since last time-step: 0.15397290002829322\n",
      "\u001b[2m\u001b[36m(RolloutWorker pid=12500)\u001b[0m   warnings.warn(f\"Time-step timed out. Elapsed since last time-step: {now - self.__t_end}\")\n"
     ]
    },
    {
     "name": "stdout",
     "output_type": "stream",
     "text": [
      "\u001b[2m\u001b[36m(RolloutWorker pid=12500)\u001b[0m reset triggered\n",
      "\u001b[2m\u001b[36m(RolloutWorker pid=12500)\u001b[0m reload save for track : 3\n"
     ]
    },
    {
     "name": "stderr",
     "output_type": "stream",
     "text": [
      "\u001b[2m\u001b[36m(RolloutWorker pid=12500)\u001b[0m c:\\Users\\nadir\\anaconda3\\envs\\GTAI2\\lib\\site-packages\\rtgym\\envs\\real_time_env.py:376: UserWarning: Time-step timed out. Elapsed since last time-step: 0.1415899000285208\n",
      "\u001b[2m\u001b[36m(RolloutWorker pid=12500)\u001b[0m   warnings.warn(f\"Time-step timed out. Elapsed since last time-step: {now - self.__t_end}\")\n"
     ]
    },
    {
     "name": "stdout",
     "output_type": "stream",
     "text": [
      "Loop:  45\n",
      "\u001b[2m\u001b[36m(RolloutWorker pid=12500)\u001b[0m reset triggered\n",
      "\u001b[2m\u001b[36m(RolloutWorker pid=12500)\u001b[0m reload save for track : 3\n"
     ]
    },
    {
     "name": "stderr",
     "output_type": "stream",
     "text": [
      "\u001b[2m\u001b[36m(RolloutWorker pid=12500)\u001b[0m c:\\Users\\nadir\\anaconda3\\envs\\GTAI2\\lib\\site-packages\\rtgym\\envs\\real_time_env.py:376: UserWarning: Time-step timed out. Elapsed since last time-step: 0.1438446000283875\n",
      "\u001b[2m\u001b[36m(RolloutWorker pid=12500)\u001b[0m   warnings.warn(f\"Time-step timed out. Elapsed since last time-step: {now - self.__t_end}\")\n",
      "\u001b[2m\u001b[36m(RolloutWorker pid=12500)\u001b[0m c:\\Users\\nadir\\anaconda3\\envs\\GTAI2\\lib\\site-packages\\rtgym\\envs\\real_time_env.py:376: UserWarning: Time-step timed out. Elapsed since last time-step: 0.13748840000334894\n",
      "\u001b[2m\u001b[36m(RolloutWorker pid=12500)\u001b[0m   warnings.warn(f\"Time-step timed out. Elapsed since last time-step: {now - self.__t_end}\")\n"
     ]
    },
    {
     "name": "stdout",
     "output_type": "stream",
     "text": [
      "\u001b[2m\u001b[36m(RolloutWorker pid=12500)\u001b[0m reset triggered\n",
      "\u001b[2m\u001b[36m(RolloutWorker pid=12500)\u001b[0m reload save for track : 3\n"
     ]
    },
    {
     "name": "stderr",
     "output_type": "stream",
     "text": [
      "\u001b[2m\u001b[36m(RolloutWorker pid=12500)\u001b[0m c:\\Users\\nadir\\anaconda3\\envs\\GTAI2\\lib\\site-packages\\rtgym\\envs\\real_time_env.py:376: UserWarning: Time-step timed out. Elapsed since last time-step: 0.17039090002481316\n",
      "\u001b[2m\u001b[36m(RolloutWorker pid=12500)\u001b[0m   warnings.warn(f\"Time-step timed out. Elapsed since last time-step: {now - self.__t_end}\")\n"
     ]
    },
    {
     "name": "stdout",
     "output_type": "stream",
     "text": [
      "Loop:  46\n",
      "\u001b[2m\u001b[36m(RolloutWorker pid=12500)\u001b[0m reset triggered\n",
      "\u001b[2m\u001b[36m(RolloutWorker pid=12500)\u001b[0m reload save for track : 3\n"
     ]
    },
    {
     "name": "stderr",
     "output_type": "stream",
     "text": [
      "\u001b[2m\u001b[36m(RolloutWorker pid=12500)\u001b[0m c:\\Users\\nadir\\anaconda3\\envs\\GTAI2\\lib\\site-packages\\rtgym\\envs\\real_time_env.py:376: UserWarning: Time-step timed out. Elapsed since last time-step: 0.15184160002854696\n",
      "\u001b[2m\u001b[36m(RolloutWorker pid=12500)\u001b[0m   warnings.warn(f\"Time-step timed out. Elapsed since last time-step: {now - self.__t_end}\")\n"
     ]
    },
    {
     "name": "stdout",
     "output_type": "stream",
     "text": [
      "\u001b[2m\u001b[36m(RolloutWorker pid=12500)\u001b[0m reset triggered\n",
      "\u001b[2m\u001b[36m(RolloutWorker pid=12500)\u001b[0m reload save for track : 3\n"
     ]
    },
    {
     "name": "stderr",
     "output_type": "stream",
     "text": [
      "\u001b[2m\u001b[36m(RolloutWorker pid=12500)\u001b[0m c:\\Users\\nadir\\anaconda3\\envs\\GTAI2\\lib\\site-packages\\rtgym\\envs\\real_time_env.py:376: UserWarning: Time-step timed out. Elapsed since last time-step: 0.15097250002827423\n",
      "\u001b[2m\u001b[36m(RolloutWorker pid=12500)\u001b[0m   warnings.warn(f\"Time-step timed out. Elapsed since last time-step: {now - self.__t_end}\")\n"
     ]
    },
    {
     "name": "stdout",
     "output_type": "stream",
     "text": [
      "Loop:  47\n",
      "\u001b[2m\u001b[36m(RolloutWorker pid=12500)\u001b[0m reset triggered\n",
      "\u001b[2m\u001b[36m(RolloutWorker pid=12500)\u001b[0m reload save for track : 3\n"
     ]
    },
    {
     "name": "stderr",
     "output_type": "stream",
     "text": [
      "\u001b[2m\u001b[36m(RolloutWorker pid=12500)\u001b[0m c:\\Users\\nadir\\anaconda3\\envs\\GTAI2\\lib\\site-packages\\rtgym\\envs\\real_time_env.py:376: UserWarning: Time-step timed out. Elapsed since last time-step: 0.16090920002852727\n",
      "\u001b[2m\u001b[36m(RolloutWorker pid=12500)\u001b[0m   warnings.warn(f\"Time-step timed out. Elapsed since last time-step: {now - self.__t_end}\")\n"
     ]
    },
    {
     "name": "stdout",
     "output_type": "stream",
     "text": [
      "\u001b[2m\u001b[36m(RolloutWorker pid=12500)\u001b[0m reset triggered\n",
      "\u001b[2m\u001b[36m(RolloutWorker pid=12500)\u001b[0m reload save for track : 3\n"
     ]
    },
    {
     "name": "stderr",
     "output_type": "stream",
     "text": [
      "\u001b[2m\u001b[36m(RolloutWorker pid=12500)\u001b[0m c:\\Users\\nadir\\anaconda3\\envs\\GTAI2\\lib\\site-packages\\rtgym\\envs\\real_time_env.py:376: UserWarning: Time-step timed out. Elapsed since last time-step: 0.14553720002822956\n",
      "\u001b[2m\u001b[36m(RolloutWorker pid=12500)\u001b[0m   warnings.warn(f\"Time-step timed out. Elapsed since last time-step: {now - self.__t_end}\")\n"
     ]
    },
    {
     "name": "stdout",
     "output_type": "stream",
     "text": [
      "Loop:  48\n",
      "\u001b[2m\u001b[36m(RolloutWorker pid=12500)\u001b[0m reset triggered\n",
      "\u001b[2m\u001b[36m(RolloutWorker pid=12500)\u001b[0m reload save for track : 3\n"
     ]
    },
    {
     "name": "stderr",
     "output_type": "stream",
     "text": [
      "\u001b[2m\u001b[36m(RolloutWorker pid=12500)\u001b[0m c:\\Users\\nadir\\anaconda3\\envs\\GTAI2\\lib\\site-packages\\rtgym\\envs\\real_time_env.py:376: UserWarning: Time-step timed out. Elapsed since last time-step: 0.17675950002831087\n",
      "\u001b[2m\u001b[36m(RolloutWorker pid=12500)\u001b[0m   warnings.warn(f\"Time-step timed out. Elapsed since last time-step: {now - self.__t_end}\")\n"
     ]
    },
    {
     "name": "stdout",
     "output_type": "stream",
     "text": [
      "\u001b[2m\u001b[36m(RolloutWorker pid=12500)\u001b[0m reset triggered\n",
      "\u001b[2m\u001b[36m(RolloutWorker pid=12500)\u001b[0m reload save for track : 3\n"
     ]
    },
    {
     "name": "stderr",
     "output_type": "stream",
     "text": [
      "\u001b[2m\u001b[36m(RolloutWorker pid=12500)\u001b[0m c:\\Users\\nadir\\anaconda3\\envs\\GTAI2\\lib\\site-packages\\rtgym\\envs\\real_time_env.py:376: UserWarning: Time-step timed out. Elapsed since last time-step: 0.1584659000282045\n",
      "\u001b[2m\u001b[36m(RolloutWorker pid=12500)\u001b[0m   warnings.warn(f\"Time-step timed out. Elapsed since last time-step: {now - self.__t_end}\")\n"
     ]
    },
    {
     "name": "stdout",
     "output_type": "stream",
     "text": [
      "Loop:  49\n",
      "\u001b[2m\u001b[36m(RolloutWorker pid=12500)\u001b[0m reset triggered\n",
      "\u001b[2m\u001b[36m(RolloutWorker pid=12500)\u001b[0m reload save for track : 3\n"
     ]
    },
    {
     "name": "stderr",
     "output_type": "stream",
     "text": [
      "\u001b[2m\u001b[36m(RolloutWorker pid=12500)\u001b[0m c:\\Users\\nadir\\anaconda3\\envs\\GTAI2\\lib\\site-packages\\rtgym\\envs\\real_time_env.py:376: UserWarning: Time-step timed out. Elapsed since last time-step: 0.14729610002859772\n",
      "\u001b[2m\u001b[36m(RolloutWorker pid=12500)\u001b[0m   warnings.warn(f\"Time-step timed out. Elapsed since last time-step: {now - self.__t_end}\")\n"
     ]
    },
    {
     "name": "stdout",
     "output_type": "stream",
     "text": [
      "\u001b[2m\u001b[36m(RolloutWorker pid=12500)\u001b[0m reset triggered\n",
      "\u001b[2m\u001b[36m(RolloutWorker pid=12500)\u001b[0m reload save for track : 3\n"
     ]
    },
    {
     "name": "stderr",
     "output_type": "stream",
     "text": [
      "\u001b[2m\u001b[36m(RolloutWorker pid=12500)\u001b[0m c:\\Users\\nadir\\anaconda3\\envs\\GTAI2\\lib\\site-packages\\rtgym\\envs\\real_time_env.py:376: UserWarning: Time-step timed out. Elapsed since last time-step: 0.16144610002857007\n",
      "\u001b[2m\u001b[36m(RolloutWorker pid=12500)\u001b[0m   warnings.warn(f\"Time-step timed out. Elapsed since last time-step: {now - self.__t_end}\")\n"
     ]
    },
    {
     "name": "stdout",
     "output_type": "stream",
     "text": [
      "Loop:  50\n",
      "\u001b[2m\u001b[36m(RolloutWorker pid=12500)\u001b[0m reset triggered\n",
      "\u001b[2m\u001b[36m(RolloutWorker pid=12500)\u001b[0m reload save for track : 3\n"
     ]
    },
    {
     "name": "stderr",
     "output_type": "stream",
     "text": [
      "\u001b[2m\u001b[36m(RolloutWorker pid=12500)\u001b[0m c:\\Users\\nadir\\anaconda3\\envs\\GTAI2\\lib\\site-packages\\rtgym\\envs\\real_time_env.py:376: UserWarning: Time-step timed out. Elapsed since last time-step: 0.1478322000280059\n",
      "\u001b[2m\u001b[36m(RolloutWorker pid=12500)\u001b[0m   warnings.warn(f\"Time-step timed out. Elapsed since last time-step: {now - self.__t_end}\")\n"
     ]
    },
    {
     "name": "stdout",
     "output_type": "stream",
     "text": [
      "\u001b[2m\u001b[36m(RolloutWorker pid=12500)\u001b[0m reset triggered\n",
      "\u001b[2m\u001b[36m(RolloutWorker pid=12500)\u001b[0m reload save for track : 3\n"
     ]
    },
    {
     "name": "stderr",
     "output_type": "stream",
     "text": [
      "\u001b[2m\u001b[36m(RolloutWorker pid=12500)\u001b[0m c:\\Users\\nadir\\anaconda3\\envs\\GTAI2\\lib\\site-packages\\rtgym\\envs\\real_time_env.py:376: UserWarning: Time-step timed out. Elapsed since last time-step: 0.16431170002852014\n",
      "\u001b[2m\u001b[36m(RolloutWorker pid=12500)\u001b[0m   warnings.warn(f\"Time-step timed out. Elapsed since last time-step: {now - self.__t_end}\")\n"
     ]
    },
    {
     "name": "stdout",
     "output_type": "stream",
     "text": [
      "Loop:  51\n",
      "\u001b[2m\u001b[36m(RolloutWorker pid=12500)\u001b[0m reset triggered\n",
      "\u001b[2m\u001b[36m(RolloutWorker pid=12500)\u001b[0m reload save for track : 3\n"
     ]
    },
    {
     "name": "stderr",
     "output_type": "stream",
     "text": [
      "\u001b[2m\u001b[36m(RolloutWorker pid=12500)\u001b[0m c:\\Users\\nadir\\anaconda3\\envs\\GTAI2\\lib\\site-packages\\rtgym\\envs\\real_time_env.py:376: UserWarning: Time-step timed out. Elapsed since last time-step: 0.14829090002831435\n",
      "\u001b[2m\u001b[36m(RolloutWorker pid=12500)\u001b[0m   warnings.warn(f\"Time-step timed out. Elapsed since last time-step: {now - self.__t_end}\")\n"
     ]
    },
    {
     "name": "stdout",
     "output_type": "stream",
     "text": [
      "\u001b[2m\u001b[36m(RolloutWorker pid=12500)\u001b[0m reset triggered\n",
      "\u001b[2m\u001b[36m(RolloutWorker pid=12500)\u001b[0m reload save for track : 3\n"
     ]
    },
    {
     "name": "stderr",
     "output_type": "stream",
     "text": [
      "\u001b[2m\u001b[36m(RolloutWorker pid=12500)\u001b[0m c:\\Users\\nadir\\anaconda3\\envs\\GTAI2\\lib\\site-packages\\rtgym\\envs\\real_time_env.py:376: UserWarning: Time-step timed out. Elapsed since last time-step: 0.14108790002865135\n",
      "\u001b[2m\u001b[36m(RolloutWorker pid=12500)\u001b[0m   warnings.warn(f\"Time-step timed out. Elapsed since last time-step: {now - self.__t_end}\")\n"
     ]
    },
    {
     "name": "stdout",
     "output_type": "stream",
     "text": [
      "Loop:  52\n",
      "\u001b[2m\u001b[36m(RolloutWorker pid=12500)\u001b[0m reset triggered\n",
      "\u001b[2m\u001b[36m(RolloutWorker pid=12500)\u001b[0m reload save for track : 3\n"
     ]
    },
    {
     "name": "stderr",
     "output_type": "stream",
     "text": [
      "\u001b[2m\u001b[36m(RolloutWorker pid=12500)\u001b[0m c:\\Users\\nadir\\anaconda3\\envs\\GTAI2\\lib\\site-packages\\rtgym\\envs\\real_time_env.py:376: UserWarning: Time-step timed out. Elapsed since last time-step: 0.13069170002836472\n",
      "\u001b[2m\u001b[36m(RolloutWorker pid=12500)\u001b[0m   warnings.warn(f\"Time-step timed out. Elapsed since last time-step: {now - self.__t_end}\")\n",
      "\u001b[2m\u001b[36m(RolloutWorker pid=12500)\u001b[0m c:\\Users\\nadir\\anaconda3\\envs\\GTAI2\\lib\\site-packages\\rtgym\\envs\\real_time_env.py:376: UserWarning: Time-step timed out. Elapsed since last time-step: 0.13439810002819286\n",
      "\u001b[2m\u001b[36m(RolloutWorker pid=12500)\u001b[0m   warnings.warn(f\"Time-step timed out. Elapsed since last time-step: {now - self.__t_end}\")\n"
     ]
    },
    {
     "name": "stdout",
     "output_type": "stream",
     "text": [
      "\u001b[2m\u001b[36m(RolloutWorker pid=12500)\u001b[0m reset triggered\n",
      "\u001b[2m\u001b[36m(RolloutWorker pid=12500)\u001b[0m reload save for track : 3\n",
      "Loop:  53\n",
      "\u001b[2m\u001b[36m(RolloutWorker pid=12500)\u001b[0m reset triggered\n",
      "\u001b[2m\u001b[36m(RolloutWorker pid=12500)\u001b[0m reload save for track : 3\n"
     ]
    },
    {
     "name": "stderr",
     "output_type": "stream",
     "text": [
      "\u001b[2m\u001b[36m(RolloutWorker pid=12500)\u001b[0m c:\\Users\\nadir\\anaconda3\\envs\\GTAI2\\lib\\site-packages\\rtgym\\envs\\real_time_env.py:376: UserWarning: Time-step timed out. Elapsed since last time-step: 0.14140430002817084\n",
      "\u001b[2m\u001b[36m(RolloutWorker pid=12500)\u001b[0m   warnings.warn(f\"Time-step timed out. Elapsed since last time-step: {now - self.__t_end}\")\n"
     ]
    },
    {
     "name": "stdout",
     "output_type": "stream",
     "text": [
      "\u001b[2m\u001b[36m(RolloutWorker pid=12500)\u001b[0m reset triggered\n",
      "\u001b[2m\u001b[36m(RolloutWorker pid=12500)\u001b[0m reload save for track : 3\n"
     ]
    },
    {
     "name": "stderr",
     "output_type": "stream",
     "text": [
      "\u001b[2m\u001b[36m(RolloutWorker pid=12500)\u001b[0m c:\\Users\\nadir\\anaconda3\\envs\\GTAI2\\lib\\site-packages\\rtgym\\envs\\real_time_env.py:376: UserWarning: Time-step timed out. Elapsed since last time-step: 0.15856000002850124\n",
      "\u001b[2m\u001b[36m(RolloutWorker pid=12500)\u001b[0m   warnings.warn(f\"Time-step timed out. Elapsed since last time-step: {now - self.__t_end}\")\n"
     ]
    },
    {
     "name": "stdout",
     "output_type": "stream",
     "text": [
      "Loop:  54\n",
      "\u001b[2m\u001b[36m(RolloutWorker pid=12500)\u001b[0m reset triggered\n",
      "\u001b[2m\u001b[36m(RolloutWorker pid=12500)\u001b[0m reload save for track : 3\n"
     ]
    },
    {
     "name": "stderr",
     "output_type": "stream",
     "text": [
      "\u001b[2m\u001b[36m(RolloutWorker pid=12500)\u001b[0m c:\\Users\\nadir\\anaconda3\\envs\\GTAI2\\lib\\site-packages\\rtgym\\envs\\real_time_env.py:376: UserWarning: Time-step timed out. Elapsed since last time-step: 0.12754700002824393\n",
      "\u001b[2m\u001b[36m(RolloutWorker pid=12500)\u001b[0m   warnings.warn(f\"Time-step timed out. Elapsed since last time-step: {now - self.__t_end}\")\n",
      "\u001b[2m\u001b[36m(RolloutWorker pid=12500)\u001b[0m c:\\Users\\nadir\\anaconda3\\envs\\GTAI2\\lib\\site-packages\\rtgym\\envs\\real_time_env.py:376: UserWarning: Time-step timed out. Elapsed since last time-step: 0.13734900002873474\n",
      "\u001b[2m\u001b[36m(RolloutWorker pid=12500)\u001b[0m   warnings.warn(f\"Time-step timed out. Elapsed since last time-step: {now - self.__t_end}\")\n"
     ]
    },
    {
     "name": "stdout",
     "output_type": "stream",
     "text": [
      "\u001b[2m\u001b[36m(RolloutWorker pid=12500)\u001b[0m reset triggered\n",
      "\u001b[2m\u001b[36m(RolloutWorker pid=12500)\u001b[0m reload save for track : 3\n",
      "Loop:  55\n"
     ]
    },
    {
     "name": "stderr",
     "output_type": "stream",
     "text": [
      "\u001b[2m\u001b[36m(RolloutWorker pid=12500)\u001b[0m c:\\Users\\nadir\\anaconda3\\envs\\GTAI2\\lib\\site-packages\\rtgym\\envs\\real_time_env.py:376: UserWarning: Time-step timed out. Elapsed since last time-step: 0.15706730000692914\n",
      "\u001b[2m\u001b[36m(RolloutWorker pid=12500)\u001b[0m   warnings.warn(f\"Time-step timed out. Elapsed since last time-step: {now - self.__t_end}\")\n"
     ]
    },
    {
     "name": "stdout",
     "output_type": "stream",
     "text": [
      "\u001b[2m\u001b[36m(RolloutWorker pid=12500)\u001b[0m reset triggered\n",
      "\u001b[2m\u001b[36m(RolloutWorker pid=12500)\u001b[0m reload save for track : 3\n"
     ]
    },
    {
     "name": "stderr",
     "output_type": "stream",
     "text": [
      "\u001b[2m\u001b[36m(RolloutWorker pid=12500)\u001b[0m c:\\Users\\nadir\\anaconda3\\envs\\GTAI2\\lib\\site-packages\\rtgym\\envs\\real_time_env.py:376: UserWarning: Time-step timed out. Elapsed since last time-step: 0.13081740002144215\n",
      "\u001b[2m\u001b[36m(RolloutWorker pid=12500)\u001b[0m   warnings.warn(f\"Time-step timed out. Elapsed since last time-step: {now - self.__t_end}\")\n",
      "\u001b[2m\u001b[36m(RolloutWorker pid=12500)\u001b[0m c:\\Users\\nadir\\anaconda3\\envs\\GTAI2\\lib\\site-packages\\rtgym\\envs\\real_time_env.py:376: UserWarning: Time-step timed out. Elapsed since last time-step: 0.14832290002823356\n",
      "\u001b[2m\u001b[36m(RolloutWorker pid=12500)\u001b[0m   warnings.warn(f\"Time-step timed out. Elapsed since last time-step: {now - self.__t_end}\")\n"
     ]
    },
    {
     "name": "stdout",
     "output_type": "stream",
     "text": [
      "\u001b[2m\u001b[36m(RolloutWorker pid=12500)\u001b[0m reset triggered\n",
      "\u001b[2m\u001b[36m(RolloutWorker pid=12500)\u001b[0m reload save for track : 3\n",
      "Loop:  56\n",
      "\u001b[2m\u001b[36m(RolloutWorker pid=12500)\u001b[0m reset triggered\n",
      "\u001b[2m\u001b[36m(RolloutWorker pid=12500)\u001b[0m reload save for track : 3\n"
     ]
    },
    {
     "name": "stderr",
     "output_type": "stream",
     "text": [
      "\u001b[2m\u001b[36m(RolloutWorker pid=12500)\u001b[0m c:\\Users\\nadir\\anaconda3\\envs\\GTAI2\\lib\\site-packages\\rtgym\\envs\\real_time_env.py:376: UserWarning: Time-step timed out. Elapsed since last time-step: 0.13433480002822762\n",
      "\u001b[2m\u001b[36m(RolloutWorker pid=12500)\u001b[0m   warnings.warn(f\"Time-step timed out. Elapsed since last time-step: {now - self.__t_end}\")\n"
     ]
    },
    {
     "name": "stdout",
     "output_type": "stream",
     "text": [
      "\u001b[2m\u001b[36m(RolloutWorker pid=12500)\u001b[0m reset triggered\n",
      "\u001b[2m\u001b[36m(RolloutWorker pid=12500)\u001b[0m reload save for track : 3\n"
     ]
    },
    {
     "name": "stderr",
     "output_type": "stream",
     "text": [
      "\u001b[2m\u001b[36m(RolloutWorker pid=12500)\u001b[0m c:\\Users\\nadir\\anaconda3\\envs\\GTAI2\\lib\\site-packages\\rtgym\\envs\\real_time_env.py:376: UserWarning: Time-step timed out. Elapsed since last time-step: 0.12126980002858545\n",
      "\u001b[2m\u001b[36m(RolloutWorker pid=12500)\u001b[0m   warnings.warn(f\"Time-step timed out. Elapsed since last time-step: {now - self.__t_end}\")\n"
     ]
    },
    {
     "name": "stdout",
     "output_type": "stream",
     "text": [
      "Loop:  57\n",
      "\u001b[2m\u001b[36m(RolloutWorker pid=12500)\u001b[0m reset triggered\n",
      "\u001b[2m\u001b[36m(RolloutWorker pid=12500)\u001b[0m reload save for track : 3\n"
     ]
    },
    {
     "name": "stderr",
     "output_type": "stream",
     "text": [
      "\u001b[2m\u001b[36m(RolloutWorker pid=12500)\u001b[0m c:\\Users\\nadir\\anaconda3\\envs\\GTAI2\\lib\\site-packages\\rtgym\\envs\\real_time_env.py:376: UserWarning: Time-step timed out. Elapsed since last time-step: 0.14790730002823693\n",
      "\u001b[2m\u001b[36m(RolloutWorker pid=12500)\u001b[0m   warnings.warn(f\"Time-step timed out. Elapsed since last time-step: {now - self.__t_end}\")\n"
     ]
    },
    {
     "name": "stdout",
     "output_type": "stream",
     "text": [
      "\u001b[2m\u001b[36m(RolloutWorker pid=12500)\u001b[0m reset triggered\n",
      "\u001b[2m\u001b[36m(RolloutWorker pid=12500)\u001b[0m reload save for track : 3\n"
     ]
    },
    {
     "name": "stderr",
     "output_type": "stream",
     "text": [
      "\u001b[2m\u001b[36m(RolloutWorker pid=12500)\u001b[0m c:\\Users\\nadir\\anaconda3\\envs\\GTAI2\\lib\\site-packages\\rtgym\\envs\\real_time_env.py:376: UserWarning: Time-step timed out. Elapsed since last time-step: 0.15414360002841931\n",
      "\u001b[2m\u001b[36m(RolloutWorker pid=12500)\u001b[0m   warnings.warn(f\"Time-step timed out. Elapsed since last time-step: {now - self.__t_end}\")\n"
     ]
    },
    {
     "name": "stdout",
     "output_type": "stream",
     "text": [
      "Loop:  58\n",
      "\u001b[2m\u001b[36m(RolloutWorker pid=12500)\u001b[0m reset triggered\n",
      "\u001b[2m\u001b[36m(RolloutWorker pid=12500)\u001b[0m reload save for track : 3\n"
     ]
    },
    {
     "name": "stderr",
     "output_type": "stream",
     "text": [
      "\u001b[2m\u001b[36m(RolloutWorker pid=12500)\u001b[0m c:\\Users\\nadir\\anaconda3\\envs\\GTAI2\\lib\\site-packages\\rtgym\\envs\\real_time_env.py:376: UserWarning: Time-step timed out. Elapsed since last time-step: 0.14828890002854678\n",
      "\u001b[2m\u001b[36m(RolloutWorker pid=12500)\u001b[0m   warnings.warn(f\"Time-step timed out. Elapsed since last time-step: {now - self.__t_end}\")\n",
      "\u001b[2m\u001b[36m(RolloutWorker pid=12500)\u001b[0m c:\\Users\\nadir\\anaconda3\\envs\\GTAI2\\lib\\site-packages\\rtgym\\envs\\real_time_env.py:376: UserWarning: Time-step timed out. Elapsed since last time-step: 0.14703850002842955\n",
      "\u001b[2m\u001b[36m(RolloutWorker pid=12500)\u001b[0m   warnings.warn(f\"Time-step timed out. Elapsed since last time-step: {now - self.__t_end}\")\n"
     ]
    },
    {
     "name": "stdout",
     "output_type": "stream",
     "text": [
      "\u001b[2m\u001b[36m(RolloutWorker pid=12500)\u001b[0m reset triggered\n",
      "\u001b[2m\u001b[36m(RolloutWorker pid=12500)\u001b[0m reload save for track : 3\n",
      "Loop:  59\n",
      "\u001b[2m\u001b[36m(RolloutWorker pid=12500)\u001b[0m reset triggered\n",
      "\u001b[2m\u001b[36m(RolloutWorker pid=12500)\u001b[0m reload save for track : 3\n"
     ]
    },
    {
     "name": "stderr",
     "output_type": "stream",
     "text": [
      "\u001b[2m\u001b[36m(RolloutWorker pid=12500)\u001b[0m c:\\Users\\nadir\\anaconda3\\envs\\GTAI2\\lib\\site-packages\\rtgym\\envs\\real_time_env.py:376: UserWarning: Time-step timed out. Elapsed since last time-step: 0.14132080002809744\n",
      "\u001b[2m\u001b[36m(RolloutWorker pid=12500)\u001b[0m   warnings.warn(f\"Time-step timed out. Elapsed since last time-step: {now - self.__t_end}\")\n"
     ]
    },
    {
     "name": "stdout",
     "output_type": "stream",
     "text": [
      "\u001b[2m\u001b[36m(RolloutWorker pid=12500)\u001b[0m reset triggered\n",
      "\u001b[2m\u001b[36m(RolloutWorker pid=12500)\u001b[0m reload save for track : 3\n"
     ]
    },
    {
     "name": "stderr",
     "output_type": "stream",
     "text": [
      "\u001b[2m\u001b[36m(RolloutWorker pid=12500)\u001b[0m c:\\Users\\nadir\\anaconda3\\envs\\GTAI2\\lib\\site-packages\\rtgym\\envs\\real_time_env.py:376: UserWarning: Time-step timed out. Elapsed since last time-step: 0.15101380002852238\n",
      "\u001b[2m\u001b[36m(RolloutWorker pid=12500)\u001b[0m   warnings.warn(f\"Time-step timed out. Elapsed since last time-step: {now - self.__t_end}\")\n"
     ]
    },
    {
     "name": "stdout",
     "output_type": "stream",
     "text": [
      "Loop:  60\n",
      "Saved 60\n",
      "\u001b[2m\u001b[36m(RolloutWorker pid=12500)\u001b[0m reset triggered\n",
      "\u001b[2m\u001b[36m(RolloutWorker pid=12500)\u001b[0m reload save for track : 3\n"
     ]
    },
    {
     "name": "stderr",
     "output_type": "stream",
     "text": [
      "\u001b[2m\u001b[36m(RolloutWorker pid=12500)\u001b[0m c:\\Users\\nadir\\anaconda3\\envs\\GTAI2\\lib\\site-packages\\rtgym\\envs\\real_time_env.py:376: UserWarning: Time-step timed out. Elapsed since last time-step: 0.12797610002826332\n",
      "\u001b[2m\u001b[36m(RolloutWorker pid=12500)\u001b[0m   warnings.warn(f\"Time-step timed out. Elapsed since last time-step: {now - self.__t_end}\")\n"
     ]
    },
    {
     "name": "stdout",
     "output_type": "stream",
     "text": [
      "\u001b[2m\u001b[36m(RolloutWorker pid=12500)\u001b[0m reset triggered\n",
      "\u001b[2m\u001b[36m(RolloutWorker pid=12500)\u001b[0m reload save for track : 3\n"
     ]
    },
    {
     "name": "stderr",
     "output_type": "stream",
     "text": [
      "\u001b[2m\u001b[36m(RolloutWorker pid=12500)\u001b[0m c:\\Users\\nadir\\anaconda3\\envs\\GTAI2\\lib\\site-packages\\rtgym\\envs\\real_time_env.py:376: UserWarning: Time-step timed out. Elapsed since last time-step: 0.14858640002830725\n",
      "\u001b[2m\u001b[36m(RolloutWorker pid=12500)\u001b[0m   warnings.warn(f\"Time-step timed out. Elapsed since last time-step: {now - self.__t_end}\")\n"
     ]
    },
    {
     "name": "stdout",
     "output_type": "stream",
     "text": [
      "Loop:  61\n",
      "\u001b[2m\u001b[36m(RolloutWorker pid=12500)\u001b[0m reset triggered\n",
      "\u001b[2m\u001b[36m(RolloutWorker pid=12500)\u001b[0m reload save for track : 3\n",
      "\u001b[2m\u001b[36m(RolloutWorker pid=12500)\u001b[0m \n"
     ]
    },
    {
     "name": "stderr",
     "output_type": "stream",
     "text": [
      "\u001b[2m\u001b[36m(RolloutWorker pid=12500)\u001b[0m c:\\Users\\nadir\\anaconda3\\envs\\GTAI2\\lib\\site-packages\\rtgym\\envs\\real_time_env.py:376: UserWarning: Time-step timed out. Elapsed since last time-step: 0.14442000002827626\n",
      "\u001b[2m\u001b[36m(RolloutWorker pid=12500)\u001b[0m   warnings.warn(f\"Time-step timed out. Elapsed since last time-step: {now - self.__t_end}\")\n"
     ]
    },
    {
     "name": "stdout",
     "output_type": "stream",
     "text": [
      "\u001b[2m\u001b[36m(RolloutWorker pid=12500)\u001b[0m reset triggered\n",
      "\u001b[2m\u001b[36m(RolloutWorker pid=12500)\u001b[0m reload save for track : 3\n"
     ]
    },
    {
     "name": "stderr",
     "output_type": "stream",
     "text": [
      "\u001b[2m\u001b[36m(RolloutWorker pid=12500)\u001b[0m c:\\Users\\nadir\\anaconda3\\envs\\GTAI2\\lib\\site-packages\\rtgym\\envs\\real_time_env.py:376: UserWarning: Time-step timed out. Elapsed since last time-step: 0.1611582000286944\n",
      "\u001b[2m\u001b[36m(RolloutWorker pid=12500)\u001b[0m   warnings.warn(f\"Time-step timed out. Elapsed since last time-step: {now - self.__t_end}\")\n"
     ]
    },
    {
     "name": "stdout",
     "output_type": "stream",
     "text": [
      "Loop:  62\n",
      "\u001b[2m\u001b[36m(RolloutWorker pid=12500)\u001b[0m reset triggered\n",
      "\u001b[2m\u001b[36m(RolloutWorker pid=12500)\u001b[0m reload save for track : 3\n"
     ]
    },
    {
     "name": "stderr",
     "output_type": "stream",
     "text": [
      "\u001b[2m\u001b[36m(RolloutWorker pid=12500)\u001b[0m c:\\Users\\nadir\\anaconda3\\envs\\GTAI2\\lib\\site-packages\\rtgym\\envs\\real_time_env.py:376: UserWarning: Time-step timed out. Elapsed since last time-step: 0.14122730002827666\n",
      "\u001b[2m\u001b[36m(RolloutWorker pid=12500)\u001b[0m   warnings.warn(f\"Time-step timed out. Elapsed since last time-step: {now - self.__t_end}\")\n"
     ]
    },
    {
     "name": "stdout",
     "output_type": "stream",
     "text": [
      "\u001b[2m\u001b[36m(RolloutWorker pid=12500)\u001b[0m reset triggered\n",
      "\u001b[2m\u001b[36m(RolloutWorker pid=12500)\u001b[0m reload save for track : 3\n"
     ]
    },
    {
     "name": "stderr",
     "output_type": "stream",
     "text": [
      "\u001b[2m\u001b[36m(RolloutWorker pid=12500)\u001b[0m c:\\Users\\nadir\\anaconda3\\envs\\GTAI2\\lib\\site-packages\\rtgym\\envs\\real_time_env.py:376: UserWarning: Time-step timed out. Elapsed since last time-step: 0.14374490002819584\n",
      "\u001b[2m\u001b[36m(RolloutWorker pid=12500)\u001b[0m   warnings.warn(f\"Time-step timed out. Elapsed since last time-step: {now - self.__t_end}\")\n"
     ]
    },
    {
     "name": "stdout",
     "output_type": "stream",
     "text": [
      "Loop:  63\n",
      "\u001b[2m\u001b[36m(RolloutWorker pid=12500)\u001b[0m reset triggered\n",
      "\u001b[2m\u001b[36m(RolloutWorker pid=12500)\u001b[0m reload save for track : 3\n"
     ]
    },
    {
     "name": "stderr",
     "output_type": "stream",
     "text": [
      "\u001b[2m\u001b[36m(RolloutWorker pid=12500)\u001b[0m c:\\Users\\nadir\\anaconda3\\envs\\GTAI2\\lib\\site-packages\\rtgym\\envs\\real_time_env.py:376: UserWarning: Time-step timed out. Elapsed since last time-step: 0.14518609990955156\n",
      "\u001b[2m\u001b[36m(RolloutWorker pid=12500)\u001b[0m   warnings.warn(f\"Time-step timed out. Elapsed since last time-step: {now - self.__t_end}\")\n"
     ]
    },
    {
     "name": "stdout",
     "output_type": "stream",
     "text": [
      "\u001b[2m\u001b[36m(RolloutWorker pid=12500)\u001b[0m reset triggered\n",
      "\u001b[2m\u001b[36m(RolloutWorker pid=12500)\u001b[0m reload save for track : 3\n"
     ]
    },
    {
     "name": "stderr",
     "output_type": "stream",
     "text": [
      "\u001b[2m\u001b[36m(RolloutWorker pid=12500)\u001b[0m c:\\Users\\nadir\\anaconda3\\envs\\GTAI2\\lib\\site-packages\\rtgym\\envs\\real_time_env.py:376: UserWarning: Time-step timed out. Elapsed since last time-step: 0.1638144998860298\n",
      "\u001b[2m\u001b[36m(RolloutWorker pid=12500)\u001b[0m   warnings.warn(f\"Time-step timed out. Elapsed since last time-step: {now - self.__t_end}\")\n"
     ]
    },
    {
     "name": "stdout",
     "output_type": "stream",
     "text": [
      "Loop:  64\n"
     ]
    },
    {
     "name": "stderr",
     "output_type": "stream",
     "text": [
      "\u001b[2m\u001b[36m(RolloutWorker pid=12500)\u001b[0m c:\\Users\\nadir\\anaconda3\\envs\\GTAI2\\lib\\site-packages\\rtgym\\envs\\real_time_env.py:376: UserWarning: Time-step timed out. Elapsed since last time-step: 0.14126949988713022\n",
      "\u001b[2m\u001b[36m(RolloutWorker pid=12500)\u001b[0m   warnings.warn(f\"Time-step timed out. Elapsed since last time-step: {now - self.__t_end}\")\n"
     ]
    },
    {
     "name": "stdout",
     "output_type": "stream",
     "text": [
      "\u001b[2m\u001b[36m(RolloutWorker pid=12500)\u001b[0m reset triggered\n",
      "\u001b[2m\u001b[36m(RolloutWorker pid=12500)\u001b[0m reload save for track : 3\n"
     ]
    },
    {
     "name": "stderr",
     "output_type": "stream",
     "text": [
      "\u001b[2m\u001b[36m(RolloutWorker pid=12500)\u001b[0m c:\\Users\\nadir\\anaconda3\\envs\\GTAI2\\lib\\site-packages\\rtgym\\envs\\real_time_env.py:376: UserWarning: Time-step timed out. Elapsed since last time-step: 0.13888969995514344\n",
      "\u001b[2m\u001b[36m(RolloutWorker pid=12500)\u001b[0m   warnings.warn(f\"Time-step timed out. Elapsed since last time-step: {now - self.__t_end}\")\n"
     ]
    },
    {
     "name": "stdout",
     "output_type": "stream",
     "text": [
      "\u001b[2m\u001b[36m(RolloutWorker pid=12500)\u001b[0m reset triggered\n",
      "\u001b[2m\u001b[36m(RolloutWorker pid=12500)\u001b[0m reload save for track : 3\n"
     ]
    },
    {
     "name": "stderr",
     "output_type": "stream",
     "text": [
      "\u001b[2m\u001b[36m(RolloutWorker pid=12500)\u001b[0m c:\\Users\\nadir\\anaconda3\\envs\\GTAI2\\lib\\site-packages\\rtgym\\envs\\real_time_env.py:376: UserWarning: Time-step timed out. Elapsed since last time-step: 0.14548499993088626\n",
      "\u001b[2m\u001b[36m(RolloutWorker pid=12500)\u001b[0m   warnings.warn(f\"Time-step timed out. Elapsed since last time-step: {now - self.__t_end}\")\n"
     ]
    },
    {
     "name": "stdout",
     "output_type": "stream",
     "text": [
      "Loop:  65\n",
      "\u001b[2m\u001b[36m(RolloutWorker pid=12500)\u001b[0m reset triggered\n",
      "\u001b[2m\u001b[36m(RolloutWorker pid=12500)\u001b[0m reload save for track : 3\n"
     ]
    },
    {
     "name": "stderr",
     "output_type": "stream",
     "text": [
      "\u001b[2m\u001b[36m(RolloutWorker pid=12500)\u001b[0m c:\\Users\\nadir\\anaconda3\\envs\\GTAI2\\lib\\site-packages\\rtgym\\envs\\real_time_env.py:376: UserWarning: Time-step timed out. Elapsed since last time-step: 0.15863369988710474\n",
      "\u001b[2m\u001b[36m(RolloutWorker pid=12500)\u001b[0m   warnings.warn(f\"Time-step timed out. Elapsed since last time-step: {now - self.__t_end}\")\n"
     ]
    },
    {
     "name": "stdout",
     "output_type": "stream",
     "text": [
      "\u001b[2m\u001b[36m(RolloutWorker pid=12500)\u001b[0m reset triggered\n",
      "\u001b[2m\u001b[36m(RolloutWorker pid=12500)\u001b[0m reload save for track : 3\n"
     ]
    },
    {
     "name": "stderr",
     "output_type": "stream",
     "text": [
      "\u001b[2m\u001b[36m(RolloutWorker pid=12500)\u001b[0m c:\\Users\\nadir\\anaconda3\\envs\\GTAI2\\lib\\site-packages\\rtgym\\envs\\real_time_env.py:376: UserWarning: Time-step timed out. Elapsed since last time-step: 0.1576304998861815\n",
      "\u001b[2m\u001b[36m(RolloutWorker pid=12500)\u001b[0m   warnings.warn(f\"Time-step timed out. Elapsed since last time-step: {now - self.__t_end}\")\n"
     ]
    },
    {
     "name": "stdout",
     "output_type": "stream",
     "text": [
      "Loop:  66\n",
      "\u001b[2m\u001b[36m(RolloutWorker pid=12500)\u001b[0m reset triggered\n",
      "\u001b[2m\u001b[36m(RolloutWorker pid=12500)\u001b[0m reload save for track : 3\n"
     ]
    },
    {
     "name": "stderr",
     "output_type": "stream",
     "text": [
      "\u001b[2m\u001b[36m(RolloutWorker pid=12500)\u001b[0m c:\\Users\\nadir\\anaconda3\\envs\\GTAI2\\lib\\site-packages\\rtgym\\envs\\real_time_env.py:376: UserWarning: Time-step timed out. Elapsed since last time-step: 0.15122359988617973\n",
      "\u001b[2m\u001b[36m(RolloutWorker pid=12500)\u001b[0m   warnings.warn(f\"Time-step timed out. Elapsed since last time-step: {now - self.__t_end}\")\n"
     ]
    },
    {
     "name": "stdout",
     "output_type": "stream",
     "text": [
      "\u001b[2m\u001b[36m(RolloutWorker pid=12500)\u001b[0m reset triggered\n",
      "\u001b[2m\u001b[36m(RolloutWorker pid=12500)\u001b[0m reload save for track : 3\n"
     ]
    },
    {
     "name": "stderr",
     "output_type": "stream",
     "text": [
      "\u001b[2m\u001b[36m(RolloutWorker pid=12500)\u001b[0m c:\\Users\\nadir\\anaconda3\\envs\\GTAI2\\lib\\site-packages\\rtgym\\envs\\real_time_env.py:376: UserWarning: Time-step timed out. Elapsed since last time-step: 0.1612847998867437\n",
      "\u001b[2m\u001b[36m(RolloutWorker pid=12500)\u001b[0m   warnings.warn(f\"Time-step timed out. Elapsed since last time-step: {now - self.__t_end}\")\n"
     ]
    },
    {
     "name": "stdout",
     "output_type": "stream",
     "text": [
      "Loop:  67\n",
      "\u001b[2m\u001b[36m(RolloutWorker pid=12500)\u001b[0m reset triggered\n",
      "\u001b[2m\u001b[36m(RolloutWorker pid=12500)\u001b[0m reload save for track : 3\n"
     ]
    },
    {
     "name": "stderr",
     "output_type": "stream",
     "text": [
      "\u001b[2m\u001b[36m(RolloutWorker pid=12500)\u001b[0m c:\\Users\\nadir\\anaconda3\\envs\\GTAI2\\lib\\site-packages\\rtgym\\envs\\real_time_env.py:376: UserWarning: Time-step timed out. Elapsed since last time-step: 0.1510769998867545\n",
      "\u001b[2m\u001b[36m(RolloutWorker pid=12500)\u001b[0m   warnings.warn(f\"Time-step timed out. Elapsed since last time-step: {now - self.__t_end}\")\n"
     ]
    },
    {
     "name": "stdout",
     "output_type": "stream",
     "text": [
      "\u001b[2m\u001b[36m(RolloutWorker pid=12500)\u001b[0m reset triggered\n",
      "\u001b[2m\u001b[36m(RolloutWorker pid=12500)\u001b[0m reload save for track : 3\n"
     ]
    },
    {
     "name": "stderr",
     "output_type": "stream",
     "text": [
      "\u001b[2m\u001b[36m(RolloutWorker pid=12500)\u001b[0m c:\\Users\\nadir\\anaconda3\\envs\\GTAI2\\lib\\site-packages\\rtgym\\envs\\real_time_env.py:376: UserWarning: Time-step timed out. Elapsed since last time-step: 0.15391089988588647\n",
      "\u001b[2m\u001b[36m(RolloutWorker pid=12500)\u001b[0m   warnings.warn(f\"Time-step timed out. Elapsed since last time-step: {now - self.__t_end}\")\n"
     ]
    },
    {
     "name": "stdout",
     "output_type": "stream",
     "text": [
      "Loop:  68\n",
      "\u001b[2m\u001b[36m(RolloutWorker pid=12500)\u001b[0m reset triggered\n",
      "\u001b[2m\u001b[36m(RolloutWorker pid=12500)\u001b[0m reload save for track : 3\n"
     ]
    },
    {
     "name": "stderr",
     "output_type": "stream",
     "text": [
      "\u001b[2m\u001b[36m(RolloutWorker pid=12500)\u001b[0m c:\\Users\\nadir\\anaconda3\\envs\\GTAI2\\lib\\site-packages\\rtgym\\envs\\real_time_env.py:376: UserWarning: Time-step timed out. Elapsed since last time-step: 0.16129379988706205\n",
      "\u001b[2m\u001b[36m(RolloutWorker pid=12500)\u001b[0m   warnings.warn(f\"Time-step timed out. Elapsed since last time-step: {now - self.__t_end}\")\n",
      "\u001b[2m\u001b[36m(RolloutWorker pid=12500)\u001b[0m c:\\Users\\nadir\\anaconda3\\envs\\GTAI2\\lib\\site-packages\\rtgym\\envs\\real_time_env.py:376: UserWarning: Time-step timed out. Elapsed since last time-step: 0.14185519988586748\n",
      "\u001b[2m\u001b[36m(RolloutWorker pid=12500)\u001b[0m   warnings.warn(f\"Time-step timed out. Elapsed since last time-step: {now - self.__t_end}\")\n"
     ]
    },
    {
     "name": "stdout",
     "output_type": "stream",
     "text": [
      "\u001b[2m\u001b[36m(RolloutWorker pid=12500)\u001b[0m reset triggered\n",
      "\u001b[2m\u001b[36m(RolloutWorker pid=12500)\u001b[0m reload save for track : 3\n",
      "Loop:  69\n",
      "\u001b[2m\u001b[36m(RolloutWorker pid=12500)\u001b[0m reset triggered\n",
      "\u001b[2m\u001b[36m(RolloutWorker pid=12500)\u001b[0m reload save for track : 3\n"
     ]
    },
    {
     "name": "stderr",
     "output_type": "stream",
     "text": [
      "\u001b[2m\u001b[36m(RolloutWorker pid=12500)\u001b[0m c:\\Users\\nadir\\anaconda3\\envs\\GTAI2\\lib\\site-packages\\rtgym\\envs\\real_time_env.py:376: UserWarning: Time-step timed out. Elapsed since last time-step: 0.14387099988653063\n",
      "\u001b[2m\u001b[36m(RolloutWorker pid=12500)\u001b[0m   warnings.warn(f\"Time-step timed out. Elapsed since last time-step: {now - self.__t_end}\")\n"
     ]
    },
    {
     "name": "stdout",
     "output_type": "stream",
     "text": [
      "\u001b[2m\u001b[36m(RolloutWorker pid=12500)\u001b[0m reset triggered\n",
      "\u001b[2m\u001b[36m(RolloutWorker pid=12500)\u001b[0m reload save for track : 3\n"
     ]
    },
    {
     "name": "stderr",
     "output_type": "stream",
     "text": [
      "\u001b[2m\u001b[36m(RolloutWorker pid=12500)\u001b[0m c:\\Users\\nadir\\anaconda3\\envs\\GTAI2\\lib\\site-packages\\rtgym\\envs\\real_time_env.py:376: UserWarning: Time-step timed out. Elapsed since last time-step: 0.13849589988694788\n",
      "\u001b[2m\u001b[36m(RolloutWorker pid=12500)\u001b[0m   warnings.warn(f\"Time-step timed out. Elapsed since last time-step: {now - self.__t_end}\")\n"
     ]
    },
    {
     "name": "stdout",
     "output_type": "stream",
     "text": [
      "Loop:  70\n",
      "\u001b[2m\u001b[36m(RolloutWorker pid=12500)\u001b[0m reset triggered\n",
      "\u001b[2m\u001b[36m(RolloutWorker pid=12500)\u001b[0m reload save for track : 3\n"
     ]
    },
    {
     "name": "stderr",
     "output_type": "stream",
     "text": [
      "\u001b[2m\u001b[36m(RolloutWorker pid=12500)\u001b[0m c:\\Users\\nadir\\anaconda3\\envs\\GTAI2\\lib\\site-packages\\rtgym\\envs\\real_time_env.py:376: UserWarning: Time-step timed out. Elapsed since last time-step: 0.1605687998862777\n",
      "\u001b[2m\u001b[36m(RolloutWorker pid=12500)\u001b[0m   warnings.warn(f\"Time-step timed out. Elapsed since last time-step: {now - self.__t_end}\")\n",
      "\u001b[2m\u001b[36m(RolloutWorker pid=12500)\u001b[0m c:\\Users\\nadir\\anaconda3\\envs\\GTAI2\\lib\\site-packages\\rtgym\\envs\\real_time_env.py:376: UserWarning: Time-step timed out. Elapsed since last time-step: 0.15102209988617687\n",
      "\u001b[2m\u001b[36m(RolloutWorker pid=12500)\u001b[0m   warnings.warn(f\"Time-step timed out. Elapsed since last time-step: {now - self.__t_end}\")\n"
     ]
    },
    {
     "name": "stdout",
     "output_type": "stream",
     "text": [
      "\u001b[2m\u001b[36m(RolloutWorker pid=12500)\u001b[0m reset triggered\n",
      "\u001b[2m\u001b[36m(RolloutWorker pid=12500)\u001b[0m reload save for track : 3\n",
      "Loop:  71\n"
     ]
    },
    {
     "name": "stderr",
     "output_type": "stream",
     "text": [
      "\u001b[2m\u001b[36m(RolloutWorker pid=12500)\u001b[0m c:\\Users\\nadir\\anaconda3\\envs\\GTAI2\\lib\\site-packages\\rtgym\\envs\\real_time_env.py:376: UserWarning: Time-step timed out. Elapsed since last time-step: 0.1512242998869624\n",
      "\u001b[2m\u001b[36m(RolloutWorker pid=12500)\u001b[0m   warnings.warn(f\"Time-step timed out. Elapsed since last time-step: {now - self.__t_end}\")\n"
     ]
    },
    {
     "name": "stdout",
     "output_type": "stream",
     "text": [
      "\u001b[2m\u001b[36m(RolloutWorker pid=12500)\u001b[0m reset triggered\n",
      "\u001b[2m\u001b[36m(RolloutWorker pid=12500)\u001b[0m reload save for track : 3\n",
      "\u001b[2m\u001b[36m(RolloutWorker pid=12500)\u001b[0m reset triggered\n",
      "\u001b[2m\u001b[36m(RolloutWorker pid=12500)\u001b[0m reload save for track : 3\n"
     ]
    },
    {
     "name": "stderr",
     "output_type": "stream",
     "text": [
      "\u001b[2m\u001b[36m(RolloutWorker pid=12500)\u001b[0m c:\\Users\\nadir\\anaconda3\\envs\\GTAI2\\lib\\site-packages\\rtgym\\envs\\real_time_env.py:376: UserWarning: Time-step timed out. Elapsed since last time-step: 0.17133029988599446\n",
      "\u001b[2m\u001b[36m(RolloutWorker pid=12500)\u001b[0m   warnings.warn(f\"Time-step timed out. Elapsed since last time-step: {now - self.__t_end}\")\n"
     ]
    },
    {
     "name": "stdout",
     "output_type": "stream",
     "text": [
      "Loop:  72\n",
      "\u001b[2m\u001b[36m(RolloutWorker pid=12500)\u001b[0m reset triggered\n",
      "\u001b[2m\u001b[36m(RolloutWorker pid=12500)\u001b[0m reload save for track : 3\n"
     ]
    },
    {
     "name": "stderr",
     "output_type": "stream",
     "text": [
      "\u001b[2m\u001b[36m(RolloutWorker pid=12500)\u001b[0m c:\\Users\\nadir\\anaconda3\\envs\\GTAI2\\lib\\site-packages\\rtgym\\envs\\real_time_env.py:376: UserWarning: Time-step timed out. Elapsed since last time-step: 0.1484317998865663\n",
      "\u001b[2m\u001b[36m(RolloutWorker pid=12500)\u001b[0m   warnings.warn(f\"Time-step timed out. Elapsed since last time-step: {now - self.__t_end}\")\n"
     ]
    },
    {
     "name": "stdout",
     "output_type": "stream",
     "text": [
      "\u001b[2m\u001b[36m(RolloutWorker pid=12500)\u001b[0m reset triggered\n",
      "\u001b[2m\u001b[36m(RolloutWorker pid=12500)\u001b[0m reload save for track : 3\n"
     ]
    },
    {
     "name": "stderr",
     "output_type": "stream",
     "text": [
      "\u001b[2m\u001b[36m(RolloutWorker pid=12500)\u001b[0m c:\\Users\\nadir\\anaconda3\\envs\\GTAI2\\lib\\site-packages\\rtgym\\envs\\real_time_env.py:376: UserWarning: Time-step timed out. Elapsed since last time-step: 0.1614156998866747\n",
      "\u001b[2m\u001b[36m(RolloutWorker pid=12500)\u001b[0m   warnings.warn(f\"Time-step timed out. Elapsed since last time-step: {now - self.__t_end}\")\n"
     ]
    },
    {
     "name": "stdout",
     "output_type": "stream",
     "text": [
      "Loop:  73\n",
      "\u001b[2m\u001b[36m(RolloutWorker pid=12500)\u001b[0m reset triggered\n",
      "\u001b[2m\u001b[36m(RolloutWorker pid=12500)\u001b[0m reload save for track : 3\n"
     ]
    },
    {
     "name": "stderr",
     "output_type": "stream",
     "text": [
      "\u001b[2m\u001b[36m(RolloutWorker pid=12500)\u001b[0m c:\\Users\\nadir\\anaconda3\\envs\\GTAI2\\lib\\site-packages\\rtgym\\envs\\real_time_env.py:376: UserWarning: Time-step timed out. Elapsed since last time-step: 0.13727549988652754\n",
      "\u001b[2m\u001b[36m(RolloutWorker pid=12500)\u001b[0m   warnings.warn(f\"Time-step timed out. Elapsed since last time-step: {now - self.__t_end}\")\n"
     ]
    },
    {
     "name": "stdout",
     "output_type": "stream",
     "text": [
      "\u001b[2m\u001b[36m(RolloutWorker pid=12500)\u001b[0m reset triggered\n",
      "\u001b[2m\u001b[36m(RolloutWorker pid=12500)\u001b[0m reload save for track : 3\n"
     ]
    },
    {
     "name": "stderr",
     "output_type": "stream",
     "text": [
      "\u001b[2m\u001b[36m(RolloutWorker pid=12500)\u001b[0m c:\\Users\\nadir\\anaconda3\\envs\\GTAI2\\lib\\site-packages\\rtgym\\envs\\real_time_env.py:376: UserWarning: Time-step timed out. Elapsed since last time-step: 0.17477249988678523\n",
      "\u001b[2m\u001b[36m(RolloutWorker pid=12500)\u001b[0m   warnings.warn(f\"Time-step timed out. Elapsed since last time-step: {now - self.__t_end}\")\n"
     ]
    },
    {
     "name": "stdout",
     "output_type": "stream",
     "text": [
      "Loop:  74\n"
     ]
    },
    {
     "name": "stderr",
     "output_type": "stream",
     "text": [
      "\u001b[2m\u001b[36m(RolloutWorker pid=12500)\u001b[0m c:\\Users\\nadir\\anaconda3\\envs\\GTAI2\\lib\\site-packages\\rtgym\\envs\\real_time_env.py:376: UserWarning: Time-step timed out. Elapsed since last time-step: 0.10245339993980451\n",
      "\u001b[2m\u001b[36m(RolloutWorker pid=12500)\u001b[0m   warnings.warn(f\"Time-step timed out. Elapsed since last time-step: {now - self.__t_end}\")\n"
     ]
    },
    {
     "name": "stdout",
     "output_type": "stream",
     "text": [
      "\u001b[2m\u001b[36m(RolloutWorker pid=12500)\u001b[0m reset triggered\n",
      "\u001b[2m\u001b[36m(RolloutWorker pid=12500)\u001b[0m reload save for track : 3\n"
     ]
    },
    {
     "name": "stderr",
     "output_type": "stream",
     "text": [
      "\u001b[2m\u001b[36m(RolloutWorker pid=12500)\u001b[0m c:\\Users\\nadir\\anaconda3\\envs\\GTAI2\\lib\\site-packages\\rtgym\\envs\\real_time_env.py:376: UserWarning: Time-step timed out. Elapsed since last time-step: 0.13457809994633863\n",
      "\u001b[2m\u001b[36m(RolloutWorker pid=12500)\u001b[0m   warnings.warn(f\"Time-step timed out. Elapsed since last time-step: {now - self.__t_end}\")\n"
     ]
    },
    {
     "name": "stdout",
     "output_type": "stream",
     "text": [
      "\u001b[2m\u001b[36m(RolloutWorker pid=12500)\u001b[0m reset triggered\n",
      "\u001b[2m\u001b[36m(RolloutWorker pid=12500)\u001b[0m reload save for track : 3\n"
     ]
    },
    {
     "name": "stderr",
     "output_type": "stream",
     "text": [
      "\u001b[2m\u001b[36m(RolloutWorker pid=12500)\u001b[0m c:\\Users\\nadir\\anaconda3\\envs\\GTAI2\\lib\\site-packages\\rtgym\\envs\\real_time_env.py:376: UserWarning: Time-step timed out. Elapsed since last time-step: 0.14108079988636746\n",
      "\u001b[2m\u001b[36m(RolloutWorker pid=12500)\u001b[0m   warnings.warn(f\"Time-step timed out. Elapsed since last time-step: {now - self.__t_end}\")\n"
     ]
    },
    {
     "name": "stdout",
     "output_type": "stream",
     "text": [
      "Loop:  75\n",
      "\u001b[2m\u001b[36m(RolloutWorker pid=12500)\u001b[0m reset triggered\n",
      "\u001b[2m\u001b[36m(RolloutWorker pid=12500)\u001b[0m reload save for track : 3\n"
     ]
    },
    {
     "name": "stderr",
     "output_type": "stream",
     "text": [
      "\u001b[2m\u001b[36m(RolloutWorker pid=12500)\u001b[0m c:\\Users\\nadir\\anaconda3\\envs\\GTAI2\\lib\\site-packages\\rtgym\\envs\\real_time_env.py:376: UserWarning: Time-step timed out. Elapsed since last time-step: 0.15876979988661333\n",
      "\u001b[2m\u001b[36m(RolloutWorker pid=12500)\u001b[0m   warnings.warn(f\"Time-step timed out. Elapsed since last time-step: {now - self.__t_end}\")\n"
     ]
    },
    {
     "name": "stdout",
     "output_type": "stream",
     "text": [
      "\u001b[2m\u001b[36m(RolloutWorker pid=12500)\u001b[0m reset triggered\n",
      "\u001b[2m\u001b[36m(RolloutWorker pid=12500)\u001b[0m reload save for track : 3\n"
     ]
    },
    {
     "name": "stderr",
     "output_type": "stream",
     "text": [
      "\u001b[2m\u001b[36m(RolloutWorker pid=12500)\u001b[0m c:\\Users\\nadir\\anaconda3\\envs\\GTAI2\\lib\\site-packages\\rtgym\\envs\\real_time_env.py:376: UserWarning: Time-step timed out. Elapsed since last time-step: 0.17114619988660706\n",
      "\u001b[2m\u001b[36m(RolloutWorker pid=12500)\u001b[0m   warnings.warn(f\"Time-step timed out. Elapsed since last time-step: {now - self.__t_end}\")\n"
     ]
    },
    {
     "name": "stdout",
     "output_type": "stream",
     "text": [
      "Loop:  76\n",
      "\u001b[2m\u001b[36m(RolloutWorker pid=12500)\u001b[0m reset triggered\n",
      "\u001b[2m\u001b[36m(RolloutWorker pid=12500)\u001b[0m reload save for track : 3\n"
     ]
    },
    {
     "name": "stderr",
     "output_type": "stream",
     "text": [
      "\u001b[2m\u001b[36m(RolloutWorker pid=12500)\u001b[0m c:\\Users\\nadir\\anaconda3\\envs\\GTAI2\\lib\\site-packages\\rtgym\\envs\\real_time_env.py:376: UserWarning: Time-step timed out. Elapsed since last time-step: 0.14397239988647925\n",
      "\u001b[2m\u001b[36m(RolloutWorker pid=12500)\u001b[0m   warnings.warn(f\"Time-step timed out. Elapsed since last time-step: {now - self.__t_end}\")\n"
     ]
    },
    {
     "name": "stdout",
     "output_type": "stream",
     "text": [
      "\u001b[2m\u001b[36m(RolloutWorker pid=12500)\u001b[0m reset triggered\n",
      "\u001b[2m\u001b[36m(RolloutWorker pid=12500)\u001b[0m reload save for track : 3\n"
     ]
    },
    {
     "name": "stderr",
     "output_type": "stream",
     "text": [
      "\u001b[2m\u001b[36m(RolloutWorker pid=12500)\u001b[0m c:\\Users\\nadir\\anaconda3\\envs\\GTAI2\\lib\\site-packages\\rtgym\\envs\\real_time_env.py:376: UserWarning: Time-step timed out. Elapsed since last time-step: 0.1510282998870025\n",
      "\u001b[2m\u001b[36m(RolloutWorker pid=12500)\u001b[0m   warnings.warn(f\"Time-step timed out. Elapsed since last time-step: {now - self.__t_end}\")\n"
     ]
    },
    {
     "name": "stdout",
     "output_type": "stream",
     "text": [
      "Loop:  77\n",
      "\u001b[2m\u001b[36m(RolloutWorker pid=12500)\u001b[0m reset triggered\n",
      "\u001b[2m\u001b[36m(RolloutWorker pid=12500)\u001b[0m reload save for track : 3\n"
     ]
    },
    {
     "name": "stderr",
     "output_type": "stream",
     "text": [
      "\u001b[2m\u001b[36m(RolloutWorker pid=12500)\u001b[0m c:\\Users\\nadir\\anaconda3\\envs\\GTAI2\\lib\\site-packages\\rtgym\\envs\\real_time_env.py:376: UserWarning: Time-step timed out. Elapsed since last time-step: 0.1584068998863586\n",
      "\u001b[2m\u001b[36m(RolloutWorker pid=12500)\u001b[0m   warnings.warn(f\"Time-step timed out. Elapsed since last time-step: {now - self.__t_end}\")\n"
     ]
    },
    {
     "name": "stdout",
     "output_type": "stream",
     "text": [
      "\u001b[2m\u001b[36m(RolloutWorker pid=12500)\u001b[0m reset triggered\n",
      "\u001b[2m\u001b[36m(RolloutWorker pid=12500)\u001b[0m reload save for track : 3\n"
     ]
    },
    {
     "name": "stderr",
     "output_type": "stream",
     "text": [
      "\u001b[2m\u001b[36m(RolloutWorker pid=12500)\u001b[0m c:\\Users\\nadir\\anaconda3\\envs\\GTAI2\\lib\\site-packages\\rtgym\\envs\\real_time_env.py:376: UserWarning: Time-step timed out. Elapsed since last time-step: 0.15069099988613743\n",
      "\u001b[2m\u001b[36m(RolloutWorker pid=12500)\u001b[0m   warnings.warn(f\"Time-step timed out. Elapsed since last time-step: {now - self.__t_end}\")\n"
     ]
    },
    {
     "name": "stdout",
     "output_type": "stream",
     "text": [
      "Loop:  78\n"
     ]
    },
    {
     "name": "stderr",
     "output_type": "stream",
     "text": [
      "\u001b[2m\u001b[36m(RolloutWorker pid=12500)\u001b[0m c:\\Users\\nadir\\anaconda3\\envs\\GTAI2\\lib\\site-packages\\rtgym\\envs\\real_time_env.py:376: UserWarning: Time-step timed out. Elapsed since last time-step: 0.1384702999757792\n",
      "\u001b[2m\u001b[36m(RolloutWorker pid=12500)\u001b[0m   warnings.warn(f\"Time-step timed out. Elapsed since last time-step: {now - self.__t_end}\")\n"
     ]
    },
    {
     "name": "stdout",
     "output_type": "stream",
     "text": [
      "\u001b[2m\u001b[36m(RolloutWorker pid=12500)\u001b[0m reset triggered\n",
      "\u001b[2m\u001b[36m(RolloutWorker pid=12500)\u001b[0m reload save for track : 3\n"
     ]
    },
    {
     "name": "stderr",
     "output_type": "stream",
     "text": [
      "\u001b[2m\u001b[36m(RolloutWorker pid=12500)\u001b[0m c:\\Users\\nadir\\anaconda3\\envs\\GTAI2\\lib\\site-packages\\rtgym\\envs\\real_time_env.py:376: UserWarning: Time-step timed out. Elapsed since last time-step: 0.14590099991073657\n",
      "\u001b[2m\u001b[36m(RolloutWorker pid=12500)\u001b[0m   warnings.warn(f\"Time-step timed out. Elapsed since last time-step: {now - self.__t_end}\")\n"
     ]
    },
    {
     "name": "stdout",
     "output_type": "stream",
     "text": [
      "\u001b[2m\u001b[36m(RolloutWorker pid=12500)\u001b[0m reset triggered\n",
      "\u001b[2m\u001b[36m(RolloutWorker pid=12500)\u001b[0m reload save for track : 3\n"
     ]
    },
    {
     "name": "stderr",
     "output_type": "stream",
     "text": [
      "\u001b[2m\u001b[36m(RolloutWorker pid=12500)\u001b[0m c:\\Users\\nadir\\anaconda3\\envs\\GTAI2\\lib\\site-packages\\rtgym\\envs\\real_time_env.py:376: UserWarning: Time-step timed out. Elapsed since last time-step: 0.15849659988634812\n",
      "\u001b[2m\u001b[36m(RolloutWorker pid=12500)\u001b[0m   warnings.warn(f\"Time-step timed out. Elapsed since last time-step: {now - self.__t_end}\")\n"
     ]
    },
    {
     "name": "stdout",
     "output_type": "stream",
     "text": [
      "Loop:  79\n",
      "\u001b[2m\u001b[36m(RolloutWorker pid=12500)\u001b[0m reset triggered\n",
      "\u001b[2m\u001b[36m(RolloutWorker pid=12500)\u001b[0m reload save for track : 3\n"
     ]
    },
    {
     "name": "stderr",
     "output_type": "stream",
     "text": [
      "\u001b[2m\u001b[36m(RolloutWorker pid=12500)\u001b[0m c:\\Users\\nadir\\anaconda3\\envs\\GTAI2\\lib\\site-packages\\rtgym\\envs\\real_time_env.py:376: UserWarning: Time-step timed out. Elapsed since last time-step: 0.14395159988634987\n",
      "\u001b[2m\u001b[36m(RolloutWorker pid=12500)\u001b[0m   warnings.warn(f\"Time-step timed out. Elapsed since last time-step: {now - self.__t_end}\")\n"
     ]
    },
    {
     "name": "stdout",
     "output_type": "stream",
     "text": [
      "\u001b[2m\u001b[36m(RolloutWorker pid=12500)\u001b[0m reset triggered\n",
      "\u001b[2m\u001b[36m(RolloutWorker pid=12500)\u001b[0m reload save for track : 3\n"
     ]
    },
    {
     "name": "stderr",
     "output_type": "stream",
     "text": [
      "\u001b[2m\u001b[36m(RolloutWorker pid=12500)\u001b[0m c:\\Users\\nadir\\anaconda3\\envs\\GTAI2\\lib\\site-packages\\rtgym\\envs\\real_time_env.py:376: UserWarning: Time-step timed out. Elapsed since last time-step: 0.15787889988678216\n",
      "\u001b[2m\u001b[36m(RolloutWorker pid=12500)\u001b[0m   warnings.warn(f\"Time-step timed out. Elapsed since last time-step: {now - self.__t_end}\")\n"
     ]
    },
    {
     "name": "stdout",
     "output_type": "stream",
     "text": [
      "Loop:  80\n",
      "Saved 80\n",
      "\u001b[2m\u001b[36m(RolloutWorker pid=12500)\u001b[0m reset triggered\n",
      "\u001b[2m\u001b[36m(RolloutWorker pid=12500)\u001b[0m reload save for track : 3\n"
     ]
    },
    {
     "name": "stderr",
     "output_type": "stream",
     "text": [
      "\u001b[2m\u001b[36m(RolloutWorker pid=12500)\u001b[0m c:\\Users\\nadir\\anaconda3\\envs\\GTAI2\\lib\\site-packages\\rtgym\\envs\\real_time_env.py:376: UserWarning: Time-step timed out. Elapsed since last time-step: 0.14141269988613203\n",
      "\u001b[2m\u001b[36m(RolloutWorker pid=12500)\u001b[0m   warnings.warn(f\"Time-step timed out. Elapsed since last time-step: {now - self.__t_end}\")\n"
     ]
    },
    {
     "name": "stdout",
     "output_type": "stream",
     "text": [
      "\u001b[2m\u001b[36m(RolloutWorker pid=12500)\u001b[0m reset triggered\n",
      "\u001b[2m\u001b[36m(RolloutWorker pid=12500)\u001b[0m reload save for track : 3\n"
     ]
    },
    {
     "name": "stderr",
     "output_type": "stream",
     "text": [
      "\u001b[2m\u001b[36m(RolloutWorker pid=12500)\u001b[0m c:\\Users\\nadir\\anaconda3\\envs\\GTAI2\\lib\\site-packages\\rtgym\\envs\\real_time_env.py:376: UserWarning: Time-step timed out. Elapsed since last time-step: 0.1482238998869434\n",
      "\u001b[2m\u001b[36m(RolloutWorker pid=12500)\u001b[0m   warnings.warn(f\"Time-step timed out. Elapsed since last time-step: {now - self.__t_end}\")\n"
     ]
    },
    {
     "name": "stdout",
     "output_type": "stream",
     "text": [
      "Loop:  81\n",
      "\u001b[2m\u001b[36m(RolloutWorker pid=12500)\u001b[0m reset triggered\n",
      "\u001b[2m\u001b[36m(RolloutWorker pid=12500)\u001b[0m reload save for track : 3\n"
     ]
    },
    {
     "name": "stderr",
     "output_type": "stream",
     "text": [
      "\u001b[2m\u001b[36m(RolloutWorker pid=12500)\u001b[0m c:\\Users\\nadir\\anaconda3\\envs\\GTAI2\\lib\\site-packages\\rtgym\\envs\\real_time_env.py:376: UserWarning: Time-step timed out. Elapsed since last time-step: 0.14728109988664073\n",
      "\u001b[2m\u001b[36m(RolloutWorker pid=12500)\u001b[0m   warnings.warn(f\"Time-step timed out. Elapsed since last time-step: {now - self.__t_end}\")\n"
     ]
    },
    {
     "name": "stdout",
     "output_type": "stream",
     "text": [
      "\u001b[2m\u001b[36m(RolloutWorker pid=12500)\u001b[0m reset triggered\n",
      "\u001b[2m\u001b[36m(RolloutWorker pid=12500)\u001b[0m reload save for track : 3\n"
     ]
    },
    {
     "name": "stderr",
     "output_type": "stream",
     "text": [
      "\u001b[2m\u001b[36m(RolloutWorker pid=12500)\u001b[0m c:\\Users\\nadir\\anaconda3\\envs\\GTAI2\\lib\\site-packages\\rtgym\\envs\\real_time_env.py:376: UserWarning: Time-step timed out. Elapsed since last time-step: 0.1612551998859999\n",
      "\u001b[2m\u001b[36m(RolloutWorker pid=12500)\u001b[0m   warnings.warn(f\"Time-step timed out. Elapsed since last time-step: {now - self.__t_end}\")\n"
     ]
    },
    {
     "name": "stdout",
     "output_type": "stream",
     "text": [
      "Loop:  82\n",
      "\u001b[2m\u001b[36m(RolloutWorker pid=12500)\u001b[0m reset triggered\n",
      "\u001b[2m\u001b[36m(RolloutWorker pid=12500)\u001b[0m reload save for track : 3\n"
     ]
    },
    {
     "name": "stderr",
     "output_type": "stream",
     "text": [
      "\u001b[2m\u001b[36m(RolloutWorker pid=12500)\u001b[0m c:\\Users\\nadir\\anaconda3\\envs\\GTAI2\\lib\\site-packages\\rtgym\\envs\\real_time_env.py:376: UserWarning: Time-step timed out. Elapsed since last time-step: 0.1212875998871823\n",
      "\u001b[2m\u001b[36m(RolloutWorker pid=12500)\u001b[0m   warnings.warn(f\"Time-step timed out. Elapsed since last time-step: {now - self.__t_end}\")\n"
     ]
    },
    {
     "name": "stdout",
     "output_type": "stream",
     "text": [
      "\u001b[2m\u001b[36m(RolloutWorker pid=12500)\u001b[0m reset triggered\n",
      "\u001b[2m\u001b[36m(RolloutWorker pid=12500)\u001b[0m reload save for track : 3\n"
     ]
    },
    {
     "name": "stderr",
     "output_type": "stream",
     "text": [
      "\u001b[2m\u001b[36m(RolloutWorker pid=12500)\u001b[0m c:\\Users\\nadir\\anaconda3\\envs\\GTAI2\\lib\\site-packages\\rtgym\\envs\\real_time_env.py:376: UserWarning: Time-step timed out. Elapsed since last time-step: 0.1546419998858255\n",
      "\u001b[2m\u001b[36m(RolloutWorker pid=12500)\u001b[0m   warnings.warn(f\"Time-step timed out. Elapsed since last time-step: {now - self.__t_end}\")\n"
     ]
    },
    {
     "name": "stdout",
     "output_type": "stream",
     "text": [
      "Loop:  83\n"
     ]
    },
    {
     "name": "stderr",
     "output_type": "stream",
     "text": [
      "\u001b[2m\u001b[36m(RolloutWorker pid=12500)\u001b[0m c:\\Users\\nadir\\anaconda3\\envs\\GTAI2\\lib\\site-packages\\rtgym\\envs\\real_time_env.py:376: UserWarning: Time-step timed out. Elapsed since last time-step: 0.10209289997237647\n",
      "\u001b[2m\u001b[36m(RolloutWorker pid=12500)\u001b[0m   warnings.warn(f\"Time-step timed out. Elapsed since last time-step: {now - self.__t_end}\")\n"
     ]
    },
    {
     "name": "stdout",
     "output_type": "stream",
     "text": [
      "\u001b[2m\u001b[36m(RolloutWorker pid=12500)\u001b[0m reset triggered\n",
      "\u001b[2m\u001b[36m(RolloutWorker pid=12500)\u001b[0m reload save for track : 3\n"
     ]
    },
    {
     "name": "stderr",
     "output_type": "stream",
     "text": [
      "\u001b[2m\u001b[36m(RolloutWorker pid=12500)\u001b[0m c:\\Users\\nadir\\anaconda3\\envs\\GTAI2\\lib\\site-packages\\rtgym\\envs\\real_time_env.py:376: UserWarning: Time-step timed out. Elapsed since last time-step: 0.15241799991417793\n",
      "\u001b[2m\u001b[36m(RolloutWorker pid=12500)\u001b[0m   warnings.warn(f\"Time-step timed out. Elapsed since last time-step: {now - self.__t_end}\")\n",
      "\u001b[2m\u001b[36m(RolloutWorker pid=12500)\u001b[0m c:\\Users\\nadir\\anaconda3\\envs\\GTAI2\\lib\\site-packages\\rtgym\\envs\\real_time_env.py:376: UserWarning: Time-step timed out. Elapsed since last time-step: 0.14125509992572916\n",
      "\u001b[2m\u001b[36m(RolloutWorker pid=12500)\u001b[0m   warnings.warn(f\"Time-step timed out. Elapsed since last time-step: {now - self.__t_end}\")\n"
     ]
    },
    {
     "name": "stdout",
     "output_type": "stream",
     "text": [
      "\u001b[2m\u001b[36m(RolloutWorker pid=12500)\u001b[0m reset triggered\n",
      "\u001b[2m\u001b[36m(RolloutWorker pid=12500)\u001b[0m reload save for track : 3\n"
     ]
    },
    {
     "name": "stderr",
     "output_type": "stream",
     "text": [
      "\u001b[2m\u001b[36m(RolloutWorker pid=12500)\u001b[0m c:\\Users\\nadir\\anaconda3\\envs\\GTAI2\\lib\\site-packages\\rtgym\\envs\\real_time_env.py:376: UserWarning: Time-step timed out. Elapsed since last time-step: 0.16679869996096386\n",
      "\u001b[2m\u001b[36m(RolloutWorker pid=12500)\u001b[0m   warnings.warn(f\"Time-step timed out. Elapsed since last time-step: {now - self.__t_end}\")\n"
     ]
    },
    {
     "name": "stdout",
     "output_type": "stream",
     "text": [
      "Loop:  84\n",
      "\u001b[2m\u001b[36m(RolloutWorker pid=12500)\u001b[0m reset triggered\n",
      "\u001b[2m\u001b[36m(RolloutWorker pid=12500)\u001b[0m reload save for track : 3\n"
     ]
    },
    {
     "name": "stderr",
     "output_type": "stream",
     "text": [
      "\u001b[2m\u001b[36m(RolloutWorker pid=12500)\u001b[0m c:\\Users\\nadir\\anaconda3\\envs\\GTAI2\\lib\\site-packages\\rtgym\\envs\\real_time_env.py:376: UserWarning: Time-step timed out. Elapsed since last time-step: 0.1445394998863776\n",
      "\u001b[2m\u001b[36m(RolloutWorker pid=12500)\u001b[0m   warnings.warn(f\"Time-step timed out. Elapsed since last time-step: {now - self.__t_end}\")\n"
     ]
    },
    {
     "name": "stdout",
     "output_type": "stream",
     "text": [
      "\u001b[2m\u001b[36m(RolloutWorker pid=12500)\u001b[0m reset triggered\n",
      "\u001b[2m\u001b[36m(RolloutWorker pid=12500)\u001b[0m reload save for track : 3\n"
     ]
    },
    {
     "name": "stderr",
     "output_type": "stream",
     "text": [
      "\u001b[2m\u001b[36m(RolloutWorker pid=12500)\u001b[0m c:\\Users\\nadir\\anaconda3\\envs\\GTAI2\\lib\\site-packages\\rtgym\\envs\\real_time_env.py:376: UserWarning: Time-step timed out. Elapsed since last time-step: 0.12408869988666993\n",
      "\u001b[2m\u001b[36m(RolloutWorker pid=12500)\u001b[0m   warnings.warn(f\"Time-step timed out. Elapsed since last time-step: {now - self.__t_end}\")\n"
     ]
    },
    {
     "name": "stdout",
     "output_type": "stream",
     "text": [
      "Loop:  85\n",
      "\u001b[2m\u001b[36m(RolloutWorker pid=12500)\u001b[0m reset triggered\n",
      "\u001b[2m\u001b[36m(RolloutWorker pid=12500)\u001b[0m reload save for track : 3\n"
     ]
    },
    {
     "name": "stderr",
     "output_type": "stream",
     "text": [
      "\u001b[2m\u001b[36m(RolloutWorker pid=12500)\u001b[0m c:\\Users\\nadir\\anaconda3\\envs\\GTAI2\\lib\\site-packages\\rtgym\\envs\\real_time_env.py:376: UserWarning: Time-step timed out. Elapsed since last time-step: 0.1581379998860939\n",
      "\u001b[2m\u001b[36m(RolloutWorker pid=12500)\u001b[0m   warnings.warn(f\"Time-step timed out. Elapsed since last time-step: {now - self.__t_end}\")\n"
     ]
    },
    {
     "name": "stdout",
     "output_type": "stream",
     "text": [
      "\u001b[2m\u001b[36m(RolloutWorker pid=12500)\u001b[0m reset triggered\n",
      "\u001b[2m\u001b[36m(RolloutWorker pid=12500)\u001b[0m reload save for track : 3\n"
     ]
    },
    {
     "name": "stderr",
     "output_type": "stream",
     "text": [
      "\u001b[2m\u001b[36m(RolloutWorker pid=12500)\u001b[0m c:\\Users\\nadir\\anaconda3\\envs\\GTAI2\\lib\\site-packages\\rtgym\\envs\\real_time_env.py:376: UserWarning: Time-step timed out. Elapsed since last time-step: 0.14791309988686407\n",
      "\u001b[2m\u001b[36m(RolloutWorker pid=12500)\u001b[0m   warnings.warn(f\"Time-step timed out. Elapsed since last time-step: {now - self.__t_end}\")\n"
     ]
    },
    {
     "name": "stdout",
     "output_type": "stream",
     "text": [
      "Loop:  86\n",
      "\u001b[2m\u001b[36m(RolloutWorker pid=12500)\u001b[0m reset triggered\n",
      "\u001b[2m\u001b[36m(RolloutWorker pid=12500)\u001b[0m reload save for track : 3\n"
     ]
    },
    {
     "name": "stderr",
     "output_type": "stream",
     "text": [
      "\u001b[2m\u001b[36m(RolloutWorker pid=12500)\u001b[0m c:\\Users\\nadir\\anaconda3\\envs\\GTAI2\\lib\\site-packages\\rtgym\\envs\\real_time_env.py:376: UserWarning: Time-step timed out. Elapsed since last time-step: 0.1439895998864813\n",
      "\u001b[2m\u001b[36m(RolloutWorker pid=12500)\u001b[0m   warnings.warn(f\"Time-step timed out. Elapsed since last time-step: {now - self.__t_end}\")\n"
     ]
    },
    {
     "name": "stdout",
     "output_type": "stream",
     "text": [
      "\u001b[2m\u001b[36m(RolloutWorker pid=12500)\u001b[0m reset triggered\n",
      "\u001b[2m\u001b[36m(RolloutWorker pid=12500)\u001b[0m reload save for track : 3\n"
     ]
    },
    {
     "name": "stderr",
     "output_type": "stream",
     "text": [
      "\u001b[2m\u001b[36m(RolloutWorker pid=12500)\u001b[0m c:\\Users\\nadir\\anaconda3\\envs\\GTAI2\\lib\\site-packages\\rtgym\\envs\\real_time_env.py:376: UserWarning: Time-step timed out. Elapsed since last time-step: 0.1444864998866251\n",
      "\u001b[2m\u001b[36m(RolloutWorker pid=12500)\u001b[0m   warnings.warn(f\"Time-step timed out. Elapsed since last time-step: {now - self.__t_end}\")\n"
     ]
    },
    {
     "name": "stdout",
     "output_type": "stream",
     "text": [
      "Loop:  87\n",
      "\u001b[2m\u001b[36m(RolloutWorker pid=12500)\u001b[0m reset triggered\n",
      "\u001b[2m\u001b[36m(RolloutWorker pid=12500)\u001b[0m reload save for track : 3\n"
     ]
    },
    {
     "name": "stderr",
     "output_type": "stream",
     "text": [
      "\u001b[2m\u001b[36m(RolloutWorker pid=12500)\u001b[0m c:\\Users\\nadir\\anaconda3\\envs\\GTAI2\\lib\\site-packages\\rtgym\\envs\\real_time_env.py:376: UserWarning: Time-step timed out. Elapsed since last time-step: 0.14850529988598282\n",
      "\u001b[2m\u001b[36m(RolloutWorker pid=12500)\u001b[0m   warnings.warn(f\"Time-step timed out. Elapsed since last time-step: {now - self.__t_end}\")\n"
     ]
    },
    {
     "name": "stdout",
     "output_type": "stream",
     "text": [
      "\u001b[2m\u001b[36m(RolloutWorker pid=12500)\u001b[0m reset triggered\n",
      "\u001b[2m\u001b[36m(RolloutWorker pid=12500)\u001b[0m reload save for track : 3\n"
     ]
    },
    {
     "name": "stderr",
     "output_type": "stream",
     "text": [
      "\u001b[2m\u001b[36m(RolloutWorker pid=12500)\u001b[0m c:\\Users\\nadir\\anaconda3\\envs\\GTAI2\\lib\\site-packages\\rtgym\\envs\\real_time_env.py:376: UserWarning: Time-step timed out. Elapsed since last time-step: 0.13035719988693018\n",
      "\u001b[2m\u001b[36m(RolloutWorker pid=12500)\u001b[0m   warnings.warn(f\"Time-step timed out. Elapsed since last time-step: {now - self.__t_end}\")\n"
     ]
    },
    {
     "name": "stdout",
     "output_type": "stream",
     "text": [
      "Loop:  88\n",
      "\u001b[2m\u001b[36m(RolloutWorker pid=12500)\u001b[0m reset triggered\n",
      "\u001b[2m\u001b[36m(RolloutWorker pid=12500)\u001b[0m reload save for track : 3\n"
     ]
    },
    {
     "name": "stderr",
     "output_type": "stream",
     "text": [
      "\u001b[2m\u001b[36m(RolloutWorker pid=12500)\u001b[0m c:\\Users\\nadir\\anaconda3\\envs\\GTAI2\\lib\\site-packages\\rtgym\\envs\\real_time_env.py:376: UserWarning: Time-step timed out. Elapsed since last time-step: 0.14841959988643794\n",
      "\u001b[2m\u001b[36m(RolloutWorker pid=12500)\u001b[0m   warnings.warn(f\"Time-step timed out. Elapsed since last time-step: {now - self.__t_end}\")\n"
     ]
    },
    {
     "name": "stdout",
     "output_type": "stream",
     "text": [
      "\u001b[2m\u001b[36m(RolloutWorker pid=12500)\u001b[0m reset triggered\n",
      "\u001b[2m\u001b[36m(RolloutWorker pid=12500)\u001b[0m reload save for track : 3\n"
     ]
    },
    {
     "name": "stderr",
     "output_type": "stream",
     "text": [
      "\u001b[2m\u001b[36m(RolloutWorker pid=12500)\u001b[0m c:\\Users\\nadir\\anaconda3\\envs\\GTAI2\\lib\\site-packages\\rtgym\\envs\\real_time_env.py:376: UserWarning: Time-step timed out. Elapsed since last time-step: 0.1612246998865885\n",
      "\u001b[2m\u001b[36m(RolloutWorker pid=12500)\u001b[0m   warnings.warn(f\"Time-step timed out. Elapsed since last time-step: {now - self.__t_end}\")\n"
     ]
    },
    {
     "name": "stdout",
     "output_type": "stream",
     "text": [
      "Loop:  89\n",
      "\u001b[2m\u001b[36m(RolloutWorker pid=12500)\u001b[0m reset triggered\n",
      "\u001b[2m\u001b[36m(RolloutWorker pid=12500)\u001b[0m reload save for track : 3\n"
     ]
    },
    {
     "name": "stderr",
     "output_type": "stream",
     "text": [
      "\u001b[2m\u001b[36m(RolloutWorker pid=12500)\u001b[0m c:\\Users\\nadir\\anaconda3\\envs\\GTAI2\\lib\\site-packages\\rtgym\\envs\\real_time_env.py:376: UserWarning: Time-step timed out. Elapsed since last time-step: 0.15394209988608054\n",
      "\u001b[2m\u001b[36m(RolloutWorker pid=12500)\u001b[0m   warnings.warn(f\"Time-step timed out. Elapsed since last time-step: {now - self.__t_end}\")\n"
     ]
    },
    {
     "name": "stdout",
     "output_type": "stream",
     "text": [
      "\u001b[2m\u001b[36m(RolloutWorker pid=12500)\u001b[0m reset triggered\n",
      "\u001b[2m\u001b[36m(RolloutWorker pid=12500)\u001b[0m reload save for track : 3\n"
     ]
    },
    {
     "name": "stderr",
     "output_type": "stream",
     "text": [
      "\u001b[2m\u001b[36m(RolloutWorker pid=12500)\u001b[0m c:\\Users\\nadir\\anaconda3\\envs\\GTAI2\\lib\\site-packages\\rtgym\\envs\\real_time_env.py:376: UserWarning: Time-step timed out. Elapsed since last time-step: 0.15132109988644515\n",
      "\u001b[2m\u001b[36m(RolloutWorker pid=12500)\u001b[0m   warnings.warn(f\"Time-step timed out. Elapsed since last time-step: {now - self.__t_end}\")\n"
     ]
    },
    {
     "name": "stdout",
     "output_type": "stream",
     "text": [
      "Loop:  90\n",
      "\u001b[2m\u001b[36m(RolloutWorker pid=12500)\u001b[0m reset triggered\n",
      "\u001b[2m\u001b[36m(RolloutWorker pid=12500)\u001b[0m reload save for track : 3\n"
     ]
    },
    {
     "name": "stderr",
     "output_type": "stream",
     "text": [
      "\u001b[2m\u001b[36m(RolloutWorker pid=12500)\u001b[0m c:\\Users\\nadir\\anaconda3\\envs\\GTAI2\\lib\\site-packages\\rtgym\\envs\\real_time_env.py:376: UserWarning: Time-step timed out. Elapsed since last time-step: 0.14168189988686208\n",
      "\u001b[2m\u001b[36m(RolloutWorker pid=12500)\u001b[0m   warnings.warn(f\"Time-step timed out. Elapsed since last time-step: {now - self.__t_end}\")\n",
      "\u001b[2m\u001b[36m(RolloutWorker pid=12500)\u001b[0m c:\\Users\\nadir\\anaconda3\\envs\\GTAI2\\lib\\site-packages\\rtgym\\envs\\real_time_env.py:376: UserWarning: Time-step timed out. Elapsed since last time-step: 0.14393569988624222\n",
      "\u001b[2m\u001b[36m(RolloutWorker pid=12500)\u001b[0m   warnings.warn(f\"Time-step timed out. Elapsed since last time-step: {now - self.__t_end}\")\n"
     ]
    },
    {
     "name": "stdout",
     "output_type": "stream",
     "text": [
      "\u001b[2m\u001b[36m(RolloutWorker pid=12500)\u001b[0m reset triggered\n",
      "\u001b[2m\u001b[36m(RolloutWorker pid=12500)\u001b[0m reload save for track : 3\n",
      "Loop:  91\n",
      "\u001b[2m\u001b[36m(RolloutWorker pid=12500)\u001b[0m reset triggered\n",
      "\u001b[2m\u001b[36m(RolloutWorker pid=12500)\u001b[0m reload save for track : 3\n"
     ]
    },
    {
     "name": "stderr",
     "output_type": "stream",
     "text": [
      "\u001b[2m\u001b[36m(RolloutWorker pid=12500)\u001b[0m c:\\Users\\nadir\\anaconda3\\envs\\GTAI2\\lib\\site-packages\\rtgym\\envs\\real_time_env.py:376: UserWarning: Time-step timed out. Elapsed since last time-step: 0.16840909988695785\n",
      "\u001b[2m\u001b[36m(RolloutWorker pid=12500)\u001b[0m   warnings.warn(f\"Time-step timed out. Elapsed since last time-step: {now - self.__t_end}\")\n"
     ]
    },
    {
     "name": "stdout",
     "output_type": "stream",
     "text": [
      "\u001b[2m\u001b[36m(RolloutWorker pid=12500)\u001b[0m reset triggered\n",
      "\u001b[2m\u001b[36m(RolloutWorker pid=12500)\u001b[0m reload save for track : 3\n"
     ]
    },
    {
     "name": "stderr",
     "output_type": "stream",
     "text": [
      "\u001b[2m\u001b[36m(RolloutWorker pid=12500)\u001b[0m c:\\Users\\nadir\\anaconda3\\envs\\GTAI2\\lib\\site-packages\\rtgym\\envs\\real_time_env.py:376: UserWarning: Time-step timed out. Elapsed since last time-step: 0.16385399988666904\n",
      "\u001b[2m\u001b[36m(RolloutWorker pid=12500)\u001b[0m   warnings.warn(f\"Time-step timed out. Elapsed since last time-step: {now - self.__t_end}\")\n"
     ]
    },
    {
     "name": "stdout",
     "output_type": "stream",
     "text": [
      "Loop:  92\n",
      "\u001b[2m\u001b[36m(RolloutWorker pid=12500)\u001b[0m reset triggered\n",
      "\u001b[2m\u001b[36m(RolloutWorker pid=12500)\u001b[0m reload save for track : 3\n"
     ]
    },
    {
     "name": "stderr",
     "output_type": "stream",
     "text": [
      "\u001b[2m\u001b[36m(RolloutWorker pid=12500)\u001b[0m c:\\Users\\nadir\\anaconda3\\envs\\GTAI2\\lib\\site-packages\\rtgym\\envs\\real_time_env.py:376: UserWarning: Time-step timed out. Elapsed since last time-step: 0.12788409988661442\n",
      "\u001b[2m\u001b[36m(RolloutWorker pid=12500)\u001b[0m   warnings.warn(f\"Time-step timed out. Elapsed since last time-step: {now - self.__t_end}\")\n"
     ]
    },
    {
     "name": "stdout",
     "output_type": "stream",
     "text": [
      "\u001b[2m\u001b[36m(RolloutWorker pid=12500)\u001b[0m reset triggered\n",
      "\u001b[2m\u001b[36m(RolloutWorker pid=12500)\u001b[0m reload save for track : 3\n"
     ]
    },
    {
     "name": "stderr",
     "output_type": "stream",
     "text": [
      "\u001b[2m\u001b[36m(RolloutWorker pid=12500)\u001b[0m c:\\Users\\nadir\\anaconda3\\envs\\GTAI2\\lib\\site-packages\\rtgym\\envs\\real_time_env.py:376: UserWarning: Time-step timed out. Elapsed since last time-step: 0.14849359988602373\n",
      "\u001b[2m\u001b[36m(RolloutWorker pid=12500)\u001b[0m   warnings.warn(f\"Time-step timed out. Elapsed since last time-step: {now - self.__t_end}\")\n"
     ]
    },
    {
     "name": "stdout",
     "output_type": "stream",
     "text": [
      "Loop:  93\n"
     ]
    },
    {
     "name": "stderr",
     "output_type": "stream",
     "text": [
      "2023-05-16 02:22:52,686\tERROR actor_manager.py:507 -- Ray error, taking actor 1 out of service. \u001b[36mray::RolloutWorker.apply()\u001b[39m (pid=12500, ip=127.0.0.1, repr=<ray.rllib.evaluation.rollout_worker.RolloutWorker object at 0x000001D603F55D00>)\n",
      "  File \"python\\ray\\_raylet.pyx\", line 877, in ray._raylet.execute_task\n",
      "  File \"python\\ray\\_raylet.pyx\", line 881, in ray._raylet.execute_task\n",
      "  File \"python\\ray\\_raylet.pyx\", line 821, in ray._raylet.execute_task.function_executor\n",
      "  File \"c:\\Users\\nadir\\anaconda3\\envs\\GTAI2\\lib\\site-packages\\ray\\_private\\function_manager.py\", line 670, in actor_method_executor\n",
      "    return method(__ray_actor, *args, **kwargs)\n",
      "  File \"c:\\Users\\nadir\\anaconda3\\envs\\GTAI2\\lib\\site-packages\\ray\\util\\tracing\\tracing_helper.py\", line 460, in _resume_span\n",
      "    return method(self, *_args, **_kwargs)\n",
      "  File \"c:\\Users\\nadir\\anaconda3\\envs\\GTAI2\\lib\\site-packages\\ray\\rllib\\utils\\actor_manager.py\", line 185, in apply\n",
      "    raise e\n",
      "  File \"c:\\Users\\nadir\\anaconda3\\envs\\GTAI2\\lib\\site-packages\\ray\\rllib\\utils\\actor_manager.py\", line 176, in apply\n",
      "    return func(self, *args, **kwargs)\n",
      "  File \"c:\\Users\\nadir\\anaconda3\\envs\\GTAI2\\lib\\site-packages\\ray\\rllib\\algorithms\\a3c\\a3c.py\", line 204, in sample_and_compute_grads\n",
      "    samples = worker.sample()\n",
      "  File \"c:\\Users\\nadir\\anaconda3\\envs\\GTAI2\\lib\\site-packages\\ray\\util\\tracing\\tracing_helper.py\", line 460, in _resume_span\n",
      "    return method(self, *_args, **_kwargs)\n",
      "  File \"c:\\Users\\nadir\\anaconda3\\envs\\GTAI2\\lib\\site-packages\\ray\\rllib\\evaluation\\rollout_worker.py\", line 915, in sample\n",
      "    batches = [self.input_reader.next()]\n",
      "  File \"c:\\Users\\nadir\\anaconda3\\envs\\GTAI2\\lib\\site-packages\\ray\\rllib\\evaluation\\sampler.py\", line 92, in next\n",
      "    batches = [self.get_data()]\n",
      "  File \"c:\\Users\\nadir\\anaconda3\\envs\\GTAI2\\lib\\site-packages\\ray\\rllib\\evaluation\\sampler.py\", line 500, in get_data\n",
      "    raise rollout\n",
      "  File \"c:\\Users\\nadir\\anaconda3\\envs\\GTAI2\\lib\\threading.py\", line 973, in _bootstrap_inner\n",
      "    self.run()\n",
      "  File \"c:\\Users\\nadir\\anaconda3\\envs\\GTAI2\\lib\\site-packages\\ray\\rllib\\evaluation\\sampler.py\", line 440, in run\n",
      "    raise e\n",
      "  File \"c:\\Users\\nadir\\anaconda3\\envs\\GTAI2\\lib\\site-packages\\ray\\rllib\\evaluation\\sampler.py\", line 437, in run\n",
      "    self._run()\n",
      "  File \"c:\\Users\\nadir\\anaconda3\\envs\\GTAI2\\lib\\site-packages\\ray\\rllib\\evaluation\\sampler.py\", line 486, in _run\n",
      "    item = next(env_runner)\n",
      "  File \"c:\\Users\\nadir\\anaconda3\\envs\\GTAI2\\lib\\site-packages\\ray\\rllib\\evaluation\\env_runner_v2.py\", line 323, in run\n",
      "    outputs = self.step()\n",
      "  File \"c:\\Users\\nadir\\anaconda3\\envs\\GTAI2\\lib\\site-packages\\ray\\rllib\\evaluation\\env_runner_v2.py\", line 361, in step\n",
      "    eval_results = self._do_policy_eval(to_eval=to_eval)\n",
      "  File \"c:\\Users\\nadir\\anaconda3\\envs\\GTAI2\\lib\\site-packages\\ray\\rllib\\evaluation\\env_runner_v2.py\", line 1049, in _do_policy_eval\n",
      "    eval_results[policy_id] = policy.compute_actions_from_input_dict(\n",
      "  File \"c:\\Users\\nadir\\anaconda3\\envs\\GTAI2\\lib\\site-packages\\ray\\rllib\\policy\\torch_policy_v2.py\", line 522, in compute_actions_from_input_dict\n",
      "    return self._compute_action_helper(\n",
      "  File \"c:\\Users\\nadir\\anaconda3\\envs\\GTAI2\\lib\\site-packages\\ray\\rllib\\utils\\threading.py\", line 24, in wrapper\n",
      "    return func(self, *a, **k)\n",
      "  File \"c:\\Users\\nadir\\anaconda3\\envs\\GTAI2\\lib\\site-packages\\ray\\rllib\\policy\\torch_policy_v2.py\", line 1153, in _compute_action_helper\n",
      "    action_dist = dist_class(dist_inputs, self.model)\n",
      "  File \"c:\\Users\\nadir\\anaconda3\\envs\\GTAI2\\lib\\site-packages\\ray\\rllib\\models\\torch\\torch_action_dist.py\", line 250, in __init__\n",
      "    self.dist = torch.distributions.normal.Normal(mean, torch.exp(log_std))\n",
      "  File \"c:\\Users\\nadir\\anaconda3\\envs\\GTAI2\\lib\\site-packages\\torch\\distributions\\normal.py\", line 54, in __init__\n",
      "    super(Normal, self).__init__(batch_shape, validate_args=validate_args)\n",
      "  File \"c:\\Users\\nadir\\anaconda3\\envs\\GTAI2\\lib\\site-packages\\torch\\distributions\\distribution.py\", line 55, in __init__\n",
      "    raise ValueError(\n",
      "ValueError: Expected parameter loc (Tensor of shape (1, 3)) of distribution Normal(loc: torch.Size([1, 3]), scale: torch.Size([1, 3])) to satisfy the constraint Real(), but found invalid values:\n",
      "tensor([[nan, nan, nan]])\n",
      "\u001b[2m\u001b[36m(RolloutWorker pid=12500)\u001b[0m Exception in thread Thread-3:\n",
      "\u001b[2m\u001b[36m(RolloutWorker pid=12500)\u001b[0m Traceback (most recent call last):\n",
      "\u001b[2m\u001b[36m(RolloutWorker pid=12500)\u001b[0m   File \"python\\ray\\_raylet.pyx\", line 921, in ray._raylet.execute_task\n",
      "\u001b[2m\u001b[36m(RolloutWorker pid=12500)\u001b[0m   File \"python\\ray\\_raylet.pyx\", line 877, in ray._raylet.execute_task\n",
      "\u001b[2m\u001b[36m(RolloutWorker pid=12500)\u001b[0m   File \"python\\ray\\_raylet.pyx\", line 881, in ray._raylet.execute_task\n",
      "\u001b[2m\u001b[36m(RolloutWorker pid=12500)\u001b[0m   File \"python\\ray\\_raylet.pyx\", line 821, in ray._raylet.execute_task.function_executor\n",
      "\u001b[2m\u001b[36m(RolloutWorker pid=12500)\u001b[0m   File \"c:\\Users\\nadir\\anaconda3\\envs\\GTAI2\\lib\\site-packages\\ray\\_private\\function_manager.py\", line 670, in actor_method_executor\n",
      "\u001b[2m\u001b[36m(RolloutWorker pid=12500)\u001b[0m     return method(__ray_actor, *args, **kwargs)\n",
      "\u001b[2m\u001b[36m(RolloutWorker pid=12500)\u001b[0m   File \"c:\\Users\\nadir\\anaconda3\\envs\\GTAI2\\lib\\site-packages\\ray\\util\\tracing\\tracing_helper.py\", line 460, in _resume_span\n",
      "\u001b[2m\u001b[36m(RolloutWorker pid=12500)\u001b[0m     return method(self, *_args, **_kwargs)\n",
      "\u001b[2m\u001b[36m(RolloutWorker pid=12500)\u001b[0m   File \"c:\\Users\\nadir\\anaconda3\\envs\\GTAI2\\lib\\site-packages\\ray\\rllib\\utils\\actor_manager.py\", line 185, in apply\n",
      "\u001b[2m\u001b[36m(RolloutWorker pid=12500)\u001b[0m     raise e\n",
      "\u001b[2m\u001b[36m(RolloutWorker pid=12500)\u001b[0m   File \"c:\\Users\\nadir\\anaconda3\\envs\\GTAI2\\lib\\site-packages\\ray\\rllib\\utils\\actor_manager.py\", line 176, in apply\n",
      "\u001b[2m\u001b[36m(RolloutWorker pid=12500)\u001b[0m     return func(self, *args, **kwargs)\n",
      "\u001b[2m\u001b[36m(RolloutWorker pid=12500)\u001b[0m   File \"c:\\Users\\nadir\\anaconda3\\envs\\GTAI2\\lib\\site-packages\\ray\\rllib\\algorithms\\a3c\\a3c.py\", line 204, in sample_and_compute_grads\n",
      "\u001b[2m\u001b[36m(RolloutWorker pid=12500)\u001b[0m     samples = worker.sample()\n",
      "\u001b[2m\u001b[36m(RolloutWorker pid=12500)\u001b[0m   File \"c:\\Users\\nadir\\anaconda3\\envs\\GTAI2\\lib\\site-packages\\ray\\util\\tracing\\tracing_helper.py\", line 460, in _resume_span\n",
      "\u001b[2m\u001b[36m(RolloutWorker pid=12500)\u001b[0m     return method(self, *_args, **_kwargs)\n",
      "\u001b[2m\u001b[36m(RolloutWorker pid=12500)\u001b[0m   File \"c:\\Users\\nadir\\anaconda3\\envs\\GTAI2\\lib\\site-packages\\ray\\rllib\\evaluation\\rollout_worker.py\", line 915, in sample\n",
      "\u001b[2m\u001b[36m(RolloutWorker pid=12500)\u001b[0m     batches = [self.input_reader.next()]\n",
      "\u001b[2m\u001b[36m(RolloutWorker pid=12500)\u001b[0m   File \"c:\\Users\\nadir\\anaconda3\\envs\\GTAI2\\lib\\site-packages\\ray\\rllib\\evaluation\\sampler.py\", line 92, in next\n",
      "\u001b[2m\u001b[36m(RolloutWorker pid=12500)\u001b[0m     batches = [self.get_data()]\n",
      "\u001b[2m\u001b[36m(RolloutWorker pid=12500)\u001b[0m   File \"c:\\Users\\nadir\\anaconda3\\envs\\GTAI2\\lib\\site-packages\\ray\\rllib\\evaluation\\sampler.py\", line 500, in get_data\n",
      "\u001b[2m\u001b[36m(RolloutWorker pid=12500)\u001b[0m     raise rollout\n",
      "\u001b[2m\u001b[36m(RolloutWorker pid=12500)\u001b[0m   File \"c:\\Users\\nadir\\anaconda3\\envs\\GTAI2\\lib\\threading.py\", line 973, in _bootstrap_inner\n",
      "\u001b[2m\u001b[36m(RolloutWorker pid=12500)\u001b[0m     self.run()\n",
      "\u001b[2m\u001b[36m(RolloutWorker pid=12500)\u001b[0m   File \"c:\\Users\\nadir\\anaconda3\\envs\\GTAI2\\lib\\site-packages\\ray\\rllib\\evaluation\\sampler.py\", line 440, in run\n",
      "\u001b[2m\u001b[36m(RolloutWorker pid=12500)\u001b[0m     raise e\n",
      "\u001b[2m\u001b[36m(RolloutWorker pid=12500)\u001b[0m   File \"c:\\Users\\nadir\\anaconda3\\envs\\GTAI2\\lib\\site-packages\\ray\\rllib\\evaluation\\sampler.py\", line 437, in run\n",
      "\u001b[2m\u001b[36m(RolloutWorker pid=12500)\u001b[0m     self._run()\n",
      "\u001b[2m\u001b[36m(RolloutWorker pid=12500)\u001b[0m   File \"c:\\Users\\nadir\\anaconda3\\envs\\GTAI2\\lib\\site-packages\\ray\\rllib\\evaluation\\sampler.py\", line 486, in _run\n",
      "\u001b[2m\u001b[36m(RolloutWorker pid=12500)\u001b[0m     item = next(env_runner)\n",
      "\u001b[2m\u001b[36m(RolloutWorker pid=12500)\u001b[0m   File \"c:\\Users\\nadir\\anaconda3\\envs\\GTAI2\\lib\\site-packages\\ray\\rllib\\evaluation\\env_runner_v2.py\", line 323, in run\n",
      "\u001b[2m\u001b[36m(RolloutWorker pid=12500)\u001b[0m     outputs = self.step()\n",
      "\u001b[2m\u001b[36m(RolloutWorker pid=12500)\u001b[0m   File \"c:\\Users\\nadir\\anaconda3\\envs\\GTAI2\\lib\\site-packages\\ray\\rllib\\evaluation\\env_runner_v2.py\", line 361, in step\n",
      "\u001b[2m\u001b[36m(RolloutWorker pid=12500)\u001b[0m     eval_results = self._do_policy_eval(to_eval=to_eval)\n",
      "\u001b[2m\u001b[36m(RolloutWorker pid=12500)\u001b[0m   File \"c:\\Users\\nadir\\anaconda3\\envs\\GTAI2\\lib\\site-packages\\ray\\rllib\\evaluation\\env_runner_v2.py\", line 1049, in _do_policy_eval\n",
      "\u001b[2m\u001b[36m(RolloutWorker pid=12500)\u001b[0m     eval_results[policy_id] = policy.compute_actions_from_input_dict(\n",
      "\u001b[2m\u001b[36m(RolloutWorker pid=12500)\u001b[0m   File \"c:\\Users\\nadir\\anaconda3\\envs\\GTAI2\\lib\\site-packages\\ray\\rllib\\policy\\torch_policy_v2.py\", line 522, in compute_actions_from_input_dict\n",
      "\u001b[2m\u001b[36m(RolloutWorker pid=12500)\u001b[0m     return self._compute_action_helper(\n",
      "\u001b[2m\u001b[36m(RolloutWorker pid=12500)\u001b[0m   File \"c:\\Users\\nadir\\anaconda3\\envs\\GTAI2\\lib\\site-packages\\ray\\rllib\\utils\\threading.py\", line 24, in wrapper\n",
      "\u001b[2m\u001b[36m(RolloutWorker pid=12500)\u001b[0m     return func(self, *a, **k)\n",
      "\u001b[2m\u001b[36m(RolloutWorker pid=12500)\u001b[0m   File \"c:\\Users\\nadir\\anaconda3\\envs\\GTAI2\\lib\\site-packages\\ray\\rllib\\policy\\torch_policy_v2.py\", line 1153, in _compute_action_helper\n",
      "\u001b[2m\u001b[36m(RolloutWorker pid=12500)\u001b[0m     action_dist = dist_class(dist_inputs, self.model)\n",
      "\u001b[2m\u001b[36m(RolloutWorker pid=12500)\u001b[0m   File \"c:\\Users\\nadir\\anaconda3\\envs\\GTAI2\\lib\\site-packages\\ray\\rllib\\models\\torch\\torch_action_dist.py\", line 250, in __init__\n",
      "\u001b[2m\u001b[36m(RolloutWorker pid=12500)\u001b[0m     self.dist = torch.distributions.normal.Normal(mean, torch.exp(log_std))\n",
      "\u001b[2m\u001b[36m(RolloutWorker pid=12500)\u001b[0m   File \"c:\\Users\\nadir\\anaconda3\\envs\\GTAI2\\lib\\site-packages\\torch\\distributions\\normal.py\", line 54, in __init__\n",
      "\u001b[2m\u001b[36m(RolloutWorker pid=12500)\u001b[0m     super(Normal, self).__init__(batch_shape, validate_args=validate_args)\n",
      "\u001b[2m\u001b[36m(RolloutWorker pid=12500)\u001b[0m   File \"c:\\Users\\nadir\\anaconda3\\envs\\GTAI2\\lib\\site-packages\\torch\\distributions\\distribution.py\", line 55, in __init__\n",
      "\u001b[2m\u001b[36m(RolloutWorker pid=12500)\u001b[0m     raise ValueError(\n",
      "\u001b[2m\u001b[36m(RolloutWorker pid=12500)\u001b[0m ValueError: Expected parameter loc (Tensor of shape (1, 3)) of distribution Normal(loc: torch.Size([1, 3]), scale: torch.Size([1, 3])) to satisfy the constraint Real(), but found invalid values:\n",
      "\u001b[2m\u001b[36m(RolloutWorker pid=12500)\u001b[0m tensor([[nan, nan, nan]])\n"
     ]
    },
    {
     "ename": "RayTaskError(ValueError)",
     "evalue": "\u001b[36mray::RolloutWorker.apply()\u001b[39m (pid=12500, ip=127.0.0.1, repr=<ray.rllib.evaluation.rollout_worker.RolloutWorker object at 0x000001D603F55D00>)\n  File \"python\\ray\\_raylet.pyx\", line 877, in ray._raylet.execute_task\n  File \"python\\ray\\_raylet.pyx\", line 881, in ray._raylet.execute_task\n  File \"python\\ray\\_raylet.pyx\", line 821, in ray._raylet.execute_task.function_executor\n  File \"c:\\Users\\nadir\\anaconda3\\envs\\GTAI2\\lib\\site-packages\\ray\\_private\\function_manager.py\", line 670, in actor_method_executor\n    return method(__ray_actor, *args, **kwargs)\n  File \"c:\\Users\\nadir\\anaconda3\\envs\\GTAI2\\lib\\site-packages\\ray\\util\\tracing\\tracing_helper.py\", line 460, in _resume_span\n    return method(self, *_args, **_kwargs)\n  File \"c:\\Users\\nadir\\anaconda3\\envs\\GTAI2\\lib\\site-packages\\ray\\rllib\\utils\\actor_manager.py\", line 185, in apply\n    raise e\n  File \"c:\\Users\\nadir\\anaconda3\\envs\\GTAI2\\lib\\site-packages\\ray\\rllib\\utils\\actor_manager.py\", line 176, in apply\n    return func(self, *args, **kwargs)\n  File \"c:\\Users\\nadir\\anaconda3\\envs\\GTAI2\\lib\\site-packages\\ray\\rllib\\algorithms\\a3c\\a3c.py\", line 204, in sample_and_compute_grads\n    samples = worker.sample()\n  File \"c:\\Users\\nadir\\anaconda3\\envs\\GTAI2\\lib\\site-packages\\ray\\util\\tracing\\tracing_helper.py\", line 460, in _resume_span\n    return method(self, *_args, **_kwargs)\n  File \"c:\\Users\\nadir\\anaconda3\\envs\\GTAI2\\lib\\site-packages\\ray\\rllib\\evaluation\\rollout_worker.py\", line 915, in sample\n    batches = [self.input_reader.next()]\n  File \"c:\\Users\\nadir\\anaconda3\\envs\\GTAI2\\lib\\site-packages\\ray\\rllib\\evaluation\\sampler.py\", line 92, in next\n    batches = [self.get_data()]\n  File \"c:\\Users\\nadir\\anaconda3\\envs\\GTAI2\\lib\\site-packages\\ray\\rllib\\evaluation\\sampler.py\", line 500, in get_data\n    raise rollout\n  File \"c:\\Users\\nadir\\anaconda3\\envs\\GTAI2\\lib\\threading.py\", line 973, in _bootstrap_inner\n    self.run()\n  File \"c:\\Users\\nadir\\anaconda3\\envs\\GTAI2\\lib\\site-packages\\ray\\rllib\\evaluation\\sampler.py\", line 440, in run\n    raise e\n  File \"c:\\Users\\nadir\\anaconda3\\envs\\GTAI2\\lib\\site-packages\\ray\\rllib\\evaluation\\sampler.py\", line 437, in run\n    self._run()\n  File \"c:\\Users\\nadir\\anaconda3\\envs\\GTAI2\\lib\\site-packages\\ray\\rllib\\evaluation\\sampler.py\", line 486, in _run\n    item = next(env_runner)\n  File \"c:\\Users\\nadir\\anaconda3\\envs\\GTAI2\\lib\\site-packages\\ray\\rllib\\evaluation\\env_runner_v2.py\", line 323, in run\n    outputs = self.step()\n  File \"c:\\Users\\nadir\\anaconda3\\envs\\GTAI2\\lib\\site-packages\\ray\\rllib\\evaluation\\env_runner_v2.py\", line 361, in step\n    eval_results = self._do_policy_eval(to_eval=to_eval)\n  File \"c:\\Users\\nadir\\anaconda3\\envs\\GTAI2\\lib\\site-packages\\ray\\rllib\\evaluation\\env_runner_v2.py\", line 1049, in _do_policy_eval\n    eval_results[policy_id] = policy.compute_actions_from_input_dict(\n  File \"c:\\Users\\nadir\\anaconda3\\envs\\GTAI2\\lib\\site-packages\\ray\\rllib\\policy\\torch_policy_v2.py\", line 522, in compute_actions_from_input_dict\n    return self._compute_action_helper(\n  File \"c:\\Users\\nadir\\anaconda3\\envs\\GTAI2\\lib\\site-packages\\ray\\rllib\\utils\\threading.py\", line 24, in wrapper\n    return func(self, *a, **k)\n  File \"c:\\Users\\nadir\\anaconda3\\envs\\GTAI2\\lib\\site-packages\\ray\\rllib\\policy\\torch_policy_v2.py\", line 1153, in _compute_action_helper\n    action_dist = dist_class(dist_inputs, self.model)\n  File \"c:\\Users\\nadir\\anaconda3\\envs\\GTAI2\\lib\\site-packages\\ray\\rllib\\models\\torch\\torch_action_dist.py\", line 250, in __init__\n    self.dist = torch.distributions.normal.Normal(mean, torch.exp(log_std))\n  File \"c:\\Users\\nadir\\anaconda3\\envs\\GTAI2\\lib\\site-packages\\torch\\distributions\\normal.py\", line 54, in __init__\n    super(Normal, self).__init__(batch_shape, validate_args=validate_args)\n  File \"c:\\Users\\nadir\\anaconda3\\envs\\GTAI2\\lib\\site-packages\\torch\\distributions\\distribution.py\", line 55, in __init__\n    raise ValueError(\nValueError: Expected parameter loc (Tensor of shape (1, 3)) of distribution Normal(loc: torch.Size([1, 3]), scale: torch.Size([1, 3])) to satisfy the constraint Real(), but found invalid values:\ntensor([[nan, nan, nan]])",
     "output_type": "error",
     "traceback": [
      "\u001b[1;31m---------------------------------------------------------------------------\u001b[0m",
      "\u001b[1;31mRayTaskError(ValueError)\u001b[0m                  Traceback (most recent call last)",
      "\u001b[1;32mj:\\git\\TensorFlowPSX\\Py\\rrlib_experiments_A3C.ipynb Cell 13\u001b[0m in \u001b[0;36m5\n\u001b[0;32m      <a href='vscode-notebook-cell:/j%3A/git/TensorFlowPSX/Py/rrlib_experiments_A3C.ipynb#X14sZmlsZQ%3D%3D?line=1'>2</a>\u001b[0m N \u001b[39m=\u001b[39m \u001b[39m2000\u001b[39m\n\u001b[0;32m      <a href='vscode-notebook-cell:/j%3A/git/TensorFlowPSX/Py/rrlib_experiments_A3C.ipynb#X14sZmlsZQ%3D%3D?line=3'>4</a>\u001b[0m \u001b[39mfor\u001b[39;00m n \u001b[39min\u001b[39;00m \u001b[39mrange\u001b[39m(N):\n\u001b[1;32m----> <a href='vscode-notebook-cell:/j%3A/git/TensorFlowPSX/Py/rrlib_experiments_A3C.ipynb#X14sZmlsZQ%3D%3D?line=4'>5</a>\u001b[0m     result \u001b[39m=\u001b[39m algo\u001b[39m.\u001b[39;49mtrain()\n\u001b[0;32m      <a href='vscode-notebook-cell:/j%3A/git/TensorFlowPSX/Py/rrlib_experiments_A3C.ipynb#X14sZmlsZQ%3D%3D?line=5'>6</a>\u001b[0m     \u001b[39mprint\u001b[39m(\u001b[39m\"\u001b[39m\u001b[39mLoop: \u001b[39m\u001b[39m\"\u001b[39m, n)\n\u001b[0;32m      <a href='vscode-notebook-cell:/j%3A/git/TensorFlowPSX/Py/rrlib_experiments_A3C.ipynb#X14sZmlsZQ%3D%3D?line=6'>7</a>\u001b[0m     \u001b[39mif\u001b[39;00m n \u001b[39m%\u001b[39m \u001b[39m20\u001b[39m \u001b[39m==\u001b[39m \u001b[39m0\u001b[39m:\n",
      "File \u001b[1;32mc:\\Users\\nadir\\anaconda3\\envs\\GTAI2\\lib\\site-packages\\ray\\tune\\trainable\\trainable.py:384\u001b[0m, in \u001b[0;36mTrainable.train\u001b[1;34m(self)\u001b[0m\n\u001b[0;32m    382\u001b[0m \u001b[39mexcept\u001b[39;00m \u001b[39mException\u001b[39;00m \u001b[39mas\u001b[39;00m e:\n\u001b[0;32m    383\u001b[0m     skipped \u001b[39m=\u001b[39m skip_exceptions(e)\n\u001b[1;32m--> 384\u001b[0m     \u001b[39mraise\u001b[39;00m skipped \u001b[39mfrom\u001b[39;00m \u001b[39mexception_cause\u001b[39;00m(skipped)\n\u001b[0;32m    386\u001b[0m \u001b[39massert\u001b[39;00m \u001b[39misinstance\u001b[39m(result, \u001b[39mdict\u001b[39m), \u001b[39m\"\u001b[39m\u001b[39mstep() needs to return a dict.\u001b[39m\u001b[39m\"\u001b[39m\n\u001b[0;32m    388\u001b[0m \u001b[39m# We do not modify internal state nor update this result if duplicate.\u001b[39;00m\n",
      "File \u001b[1;32mc:\\Users\\nadir\\anaconda3\\envs\\GTAI2\\lib\\site-packages\\ray\\tune\\trainable\\trainable.py:381\u001b[0m, in \u001b[0;36mTrainable.train\u001b[1;34m(self)\u001b[0m\n\u001b[0;32m    379\u001b[0m start \u001b[39m=\u001b[39m time\u001b[39m.\u001b[39mtime()\n\u001b[0;32m    380\u001b[0m \u001b[39mtry\u001b[39;00m:\n\u001b[1;32m--> 381\u001b[0m     result \u001b[39m=\u001b[39m \u001b[39mself\u001b[39;49m\u001b[39m.\u001b[39;49mstep()\n\u001b[0;32m    382\u001b[0m \u001b[39mexcept\u001b[39;00m \u001b[39mException\u001b[39;00m \u001b[39mas\u001b[39;00m e:\n\u001b[0;32m    383\u001b[0m     skipped \u001b[39m=\u001b[39m skip_exceptions(e)\n",
      "File \u001b[1;32mc:\\Users\\nadir\\anaconda3\\envs\\GTAI2\\lib\\site-packages\\ray\\rllib\\algorithms\\algorithm.py:792\u001b[0m, in \u001b[0;36mAlgorithm.step\u001b[1;34m(self)\u001b[0m\n\u001b[0;32m    784\u001b[0m     (\n\u001b[0;32m    785\u001b[0m         results,\n\u001b[0;32m    786\u001b[0m         train_iter_ctx,\n\u001b[0;32m    787\u001b[0m     ) \u001b[39m=\u001b[39m \u001b[39mself\u001b[39m\u001b[39m.\u001b[39m_run_one_training_iteration_and_evaluation_in_parallel()\n\u001b[0;32m    788\u001b[0m \u001b[39m# - No evaluation necessary, just run the next training iteration.\u001b[39;00m\n\u001b[0;32m    789\u001b[0m \u001b[39m# - We have to evaluate in this training iteration, but no parallelism ->\u001b[39;00m\n\u001b[0;32m    790\u001b[0m \u001b[39m#   evaluate after the training iteration is entirely done.\u001b[39;00m\n\u001b[0;32m    791\u001b[0m \u001b[39melse\u001b[39;00m:\n\u001b[1;32m--> 792\u001b[0m     results, train_iter_ctx \u001b[39m=\u001b[39m \u001b[39mself\u001b[39;49m\u001b[39m.\u001b[39;49m_run_one_training_iteration()\n\u001b[0;32m    794\u001b[0m \u001b[39m# Sequential: Train (already done above), then evaluate.\u001b[39;00m\n\u001b[0;32m    795\u001b[0m \u001b[39mif\u001b[39;00m evaluate_this_iter \u001b[39mand\u001b[39;00m \u001b[39mnot\u001b[39;00m \u001b[39mself\u001b[39m\u001b[39m.\u001b[39mconfig\u001b[39m.\u001b[39mevaluation_parallel_to_training:\n",
      "File \u001b[1;32mc:\\Users\\nadir\\anaconda3\\envs\\GTAI2\\lib\\site-packages\\ray\\rllib\\algorithms\\algorithm.py:2811\u001b[0m, in \u001b[0;36mAlgorithm._run_one_training_iteration\u001b[1;34m(self)\u001b[0m\n\u001b[0;32m   2809\u001b[0m \u001b[39mwith\u001b[39;00m \u001b[39mself\u001b[39m\u001b[39m.\u001b[39m_timers[TRAINING_ITERATION_TIMER]:\n\u001b[0;32m   2810\u001b[0m     \u001b[39mif\u001b[39;00m \u001b[39mself\u001b[39m\u001b[39m.\u001b[39mconfig\u001b[39m.\u001b[39m_disable_execution_plan_api:\n\u001b[1;32m-> 2811\u001b[0m         results \u001b[39m=\u001b[39m \u001b[39mself\u001b[39;49m\u001b[39m.\u001b[39;49mtraining_step()\n\u001b[0;32m   2812\u001b[0m     \u001b[39melse\u001b[39;00m:\n\u001b[0;32m   2813\u001b[0m         results \u001b[39m=\u001b[39m \u001b[39mnext\u001b[39m(\u001b[39mself\u001b[39m\u001b[39m.\u001b[39mtrain_exec_impl)\n",
      "File \u001b[1;32mc:\\Users\\nadir\\anaconda3\\envs\\GTAI2\\lib\\site-packages\\ray\\rllib\\algorithms\\a3c\\a3c.py:221\u001b[0m, in \u001b[0;36mA3C.training_step\u001b[1;34m(self)\u001b[0m\n\u001b[0;32m    214\u001b[0m \u001b[39mwith\u001b[39;00m \u001b[39mself\u001b[39m\u001b[39m.\u001b[39m_timers[GRAD_WAIT_TIMER]:\n\u001b[0;32m    215\u001b[0m     \u001b[39m# Results are a mapping from ActorHandle (RolloutWorker) to their\u001b[39;00m\n\u001b[0;32m    216\u001b[0m     \u001b[39m# returned gradient calculation results.\u001b[39;00m\n\u001b[0;32m    217\u001b[0m     \u001b[39mself\u001b[39m\u001b[39m.\u001b[39mworkers\u001b[39m.\u001b[39mforeach_worker_async(\n\u001b[0;32m    218\u001b[0m         func\u001b[39m=\u001b[39msample_and_compute_grads,\n\u001b[0;32m    219\u001b[0m         healthy_only\u001b[39m=\u001b[39m\u001b[39mTrue\u001b[39;00m,\n\u001b[0;32m    220\u001b[0m     )\n\u001b[1;32m--> 221\u001b[0m     async_results \u001b[39m=\u001b[39m \u001b[39mself\u001b[39;49m\u001b[39m.\u001b[39;49mworkers\u001b[39m.\u001b[39;49mfetch_ready_async_reqs()\n\u001b[0;32m    223\u001b[0m \u001b[39m# Loop through all fetched worker-computed gradients (if any)\u001b[39;00m\n\u001b[0;32m    224\u001b[0m \u001b[39m# and apply them - one by one - to the local worker's model.\u001b[39;00m\n\u001b[0;32m    225\u001b[0m \u001b[39m# After each apply step (one step per worker that returned some gradients),\u001b[39;00m\n\u001b[0;32m    226\u001b[0m \u001b[39m# update that particular worker's weights.\u001b[39;00m\n\u001b[0;32m    227\u001b[0m global_vars \u001b[39m=\u001b[39m \u001b[39mNone\u001b[39;00m\n",
      "File \u001b[1;32mc:\\Users\\nadir\\anaconda3\\envs\\GTAI2\\lib\\site-packages\\ray\\rllib\\evaluation\\worker_set.py:830\u001b[0m, in \u001b[0;36mWorkerSet.fetch_ready_async_reqs\u001b[1;34m(self, timeout_seconds, return_obj_refs, mark_healthy)\u001b[0m\n\u001b[0;32m    813\u001b[0m \u001b[39m\"\"\"Get esults from outstanding asynchronous requests that are ready.\u001b[39;00m\n\u001b[0;32m    814\u001b[0m \n\u001b[0;32m    815\u001b[0m \u001b[39mArgs:\u001b[39;00m\n\u001b[1;32m   (...)\u001b[0m\n\u001b[0;32m    822\u001b[0m \u001b[39m    paired with the indices of the callee workers.\u001b[39;00m\n\u001b[0;32m    823\u001b[0m \u001b[39m\"\"\"\u001b[39;00m\n\u001b[0;32m    824\u001b[0m remote_results \u001b[39m=\u001b[39m \u001b[39mself\u001b[39m\u001b[39m.\u001b[39m__worker_manager\u001b[39m.\u001b[39mfetch_ready_async_reqs(\n\u001b[0;32m    825\u001b[0m     timeout_seconds\u001b[39m=\u001b[39mtimeout_seconds,\n\u001b[0;32m    826\u001b[0m     return_obj_refs\u001b[39m=\u001b[39mreturn_obj_refs,\n\u001b[0;32m    827\u001b[0m     mark_healthy\u001b[39m=\u001b[39mmark_healthy,\n\u001b[0;32m    828\u001b[0m )\n\u001b[1;32m--> 830\u001b[0m handle_remote_call_result_errors(remote_results, \u001b[39mself\u001b[39;49m\u001b[39m.\u001b[39;49m_ignore_worker_failures)\n\u001b[0;32m    832\u001b[0m \u001b[39mreturn\u001b[39;00m [(r\u001b[39m.\u001b[39mactor_id, r\u001b[39m.\u001b[39mget()) \u001b[39mfor\u001b[39;00m r \u001b[39min\u001b[39;00m remote_results\u001b[39m.\u001b[39mignore_errors()]\n",
      "File \u001b[1;32mc:\\Users\\nadir\\anaconda3\\envs\\GTAI2\\lib\\site-packages\\ray\\rllib\\evaluation\\worker_set.py:75\u001b[0m, in \u001b[0;36mhandle_remote_call_result_errors\u001b[1;34m(results, ignore_worker_failures)\u001b[0m\n\u001b[0;32m     73\u001b[0m     logger\u001b[39m.\u001b[39mexception(r\u001b[39m.\u001b[39mget())\n\u001b[0;32m     74\u001b[0m \u001b[39melse\u001b[39;00m:\n\u001b[1;32m---> 75\u001b[0m     \u001b[39mraise\u001b[39;00m r\u001b[39m.\u001b[39mget()\n",
      "\u001b[1;31mRayTaskError(ValueError)\u001b[0m: \u001b[36mray::RolloutWorker.apply()\u001b[39m (pid=12500, ip=127.0.0.1, repr=<ray.rllib.evaluation.rollout_worker.RolloutWorker object at 0x000001D603F55D00>)\n  File \"python\\ray\\_raylet.pyx\", line 877, in ray._raylet.execute_task\n  File \"python\\ray\\_raylet.pyx\", line 881, in ray._raylet.execute_task\n  File \"python\\ray\\_raylet.pyx\", line 821, in ray._raylet.execute_task.function_executor\n  File \"c:\\Users\\nadir\\anaconda3\\envs\\GTAI2\\lib\\site-packages\\ray\\_private\\function_manager.py\", line 670, in actor_method_executor\n    return method(__ray_actor, *args, **kwargs)\n  File \"c:\\Users\\nadir\\anaconda3\\envs\\GTAI2\\lib\\site-packages\\ray\\util\\tracing\\tracing_helper.py\", line 460, in _resume_span\n    return method(self, *_args, **_kwargs)\n  File \"c:\\Users\\nadir\\anaconda3\\envs\\GTAI2\\lib\\site-packages\\ray\\rllib\\utils\\actor_manager.py\", line 185, in apply\n    raise e\n  File \"c:\\Users\\nadir\\anaconda3\\envs\\GTAI2\\lib\\site-packages\\ray\\rllib\\utils\\actor_manager.py\", line 176, in apply\n    return func(self, *args, **kwargs)\n  File \"c:\\Users\\nadir\\anaconda3\\envs\\GTAI2\\lib\\site-packages\\ray\\rllib\\algorithms\\a3c\\a3c.py\", line 204, in sample_and_compute_grads\n    samples = worker.sample()\n  File \"c:\\Users\\nadir\\anaconda3\\envs\\GTAI2\\lib\\site-packages\\ray\\util\\tracing\\tracing_helper.py\", line 460, in _resume_span\n    return method(self, *_args, **_kwargs)\n  File \"c:\\Users\\nadir\\anaconda3\\envs\\GTAI2\\lib\\site-packages\\ray\\rllib\\evaluation\\rollout_worker.py\", line 915, in sample\n    batches = [self.input_reader.next()]\n  File \"c:\\Users\\nadir\\anaconda3\\envs\\GTAI2\\lib\\site-packages\\ray\\rllib\\evaluation\\sampler.py\", line 92, in next\n    batches = [self.get_data()]\n  File \"c:\\Users\\nadir\\anaconda3\\envs\\GTAI2\\lib\\site-packages\\ray\\rllib\\evaluation\\sampler.py\", line 500, in get_data\n    raise rollout\n  File \"c:\\Users\\nadir\\anaconda3\\envs\\GTAI2\\lib\\threading.py\", line 973, in _bootstrap_inner\n    self.run()\n  File \"c:\\Users\\nadir\\anaconda3\\envs\\GTAI2\\lib\\site-packages\\ray\\rllib\\evaluation\\sampler.py\", line 440, in run\n    raise e\n  File \"c:\\Users\\nadir\\anaconda3\\envs\\GTAI2\\lib\\site-packages\\ray\\rllib\\evaluation\\sampler.py\", line 437, in run\n    self._run()\n  File \"c:\\Users\\nadir\\anaconda3\\envs\\GTAI2\\lib\\site-packages\\ray\\rllib\\evaluation\\sampler.py\", line 486, in _run\n    item = next(env_runner)\n  File \"c:\\Users\\nadir\\anaconda3\\envs\\GTAI2\\lib\\site-packages\\ray\\rllib\\evaluation\\env_runner_v2.py\", line 323, in run\n    outputs = self.step()\n  File \"c:\\Users\\nadir\\anaconda3\\envs\\GTAI2\\lib\\site-packages\\ray\\rllib\\evaluation\\env_runner_v2.py\", line 361, in step\n    eval_results = self._do_policy_eval(to_eval=to_eval)\n  File \"c:\\Users\\nadir\\anaconda3\\envs\\GTAI2\\lib\\site-packages\\ray\\rllib\\evaluation\\env_runner_v2.py\", line 1049, in _do_policy_eval\n    eval_results[policy_id] = policy.compute_actions_from_input_dict(\n  File \"c:\\Users\\nadir\\anaconda3\\envs\\GTAI2\\lib\\site-packages\\ray\\rllib\\policy\\torch_policy_v2.py\", line 522, in compute_actions_from_input_dict\n    return self._compute_action_helper(\n  File \"c:\\Users\\nadir\\anaconda3\\envs\\GTAI2\\lib\\site-packages\\ray\\rllib\\utils\\threading.py\", line 24, in wrapper\n    return func(self, *a, **k)\n  File \"c:\\Users\\nadir\\anaconda3\\envs\\GTAI2\\lib\\site-packages\\ray\\rllib\\policy\\torch_policy_v2.py\", line 1153, in _compute_action_helper\n    action_dist = dist_class(dist_inputs, self.model)\n  File \"c:\\Users\\nadir\\anaconda3\\envs\\GTAI2\\lib\\site-packages\\ray\\rllib\\models\\torch\\torch_action_dist.py\", line 250, in __init__\n    self.dist = torch.distributions.normal.Normal(mean, torch.exp(log_std))\n  File \"c:\\Users\\nadir\\anaconda3\\envs\\GTAI2\\lib\\site-packages\\torch\\distributions\\normal.py\", line 54, in __init__\n    super(Normal, self).__init__(batch_shape, validate_args=validate_args)\n  File \"c:\\Users\\nadir\\anaconda3\\envs\\GTAI2\\lib\\site-packages\\torch\\distributions\\distribution.py\", line 55, in __init__\n    raise ValueError(\nValueError: Expected parameter loc (Tensor of shape (1, 3)) of distribution Normal(loc: torch.Size([1, 3]), scale: torch.Size([1, 3])) to satisfy the constraint Real(), but found invalid values:\ntensor([[nan, nan, nan]])"
     ]
    },
    {
     "name": "stderr",
     "output_type": "stream",
     "text": [
      "2023-05-16 02:22:58,084\tERROR worker.py:408 -- Unhandled error (suppress with 'RAY_IGNORE_UNHANDLED_ERRORS=1'): \u001b[36mray::RolloutWorker.apply()\u001b[39m (pid=12500, ip=127.0.0.1, repr=<ray.rllib.evaluation.rollout_worker.RolloutWorker object at 0x000001D603F55D00>)\n",
      "  File \"python\\ray\\_raylet.pyx\", line 877, in ray._raylet.execute_task\n",
      "  File \"python\\ray\\_raylet.pyx\", line 881, in ray._raylet.execute_task\n",
      "  File \"python\\ray\\_raylet.pyx\", line 821, in ray._raylet.execute_task.function_executor\n",
      "  File \"c:\\Users\\nadir\\anaconda3\\envs\\GTAI2\\lib\\site-packages\\ray\\_private\\function_manager.py\", line 670, in actor_method_executor\n",
      "    return method(__ray_actor, *args, **kwargs)\n",
      "  File \"c:\\Users\\nadir\\anaconda3\\envs\\GTAI2\\lib\\site-packages\\ray\\util\\tracing\\tracing_helper.py\", line 460, in _resume_span\n",
      "    return method(self, *_args, **_kwargs)\n",
      "  File \"c:\\Users\\nadir\\anaconda3\\envs\\GTAI2\\lib\\site-packages\\ray\\rllib\\utils\\actor_manager.py\", line 185, in apply\n",
      "    raise e\n",
      "  File \"c:\\Users\\nadir\\anaconda3\\envs\\GTAI2\\lib\\site-packages\\ray\\rllib\\utils\\actor_manager.py\", line 176, in apply\n",
      "    return func(self, *args, **kwargs)\n",
      "  File \"c:\\Users\\nadir\\anaconda3\\envs\\GTAI2\\lib\\site-packages\\ray\\rllib\\algorithms\\a3c\\a3c.py\", line 204, in sample_and_compute_grads\n",
      "    samples = worker.sample()\n",
      "  File \"c:\\Users\\nadir\\anaconda3\\envs\\GTAI2\\lib\\site-packages\\ray\\util\\tracing\\tracing_helper.py\", line 460, in _resume_span\n",
      "    return method(self, *_args, **_kwargs)\n",
      "  File \"c:\\Users\\nadir\\anaconda3\\envs\\GTAI2\\lib\\site-packages\\ray\\rllib\\evaluation\\rollout_worker.py\", line 915, in sample\n",
      "    batches = [self.input_reader.next()]\n",
      "  File \"c:\\Users\\nadir\\anaconda3\\envs\\GTAI2\\lib\\site-packages\\ray\\rllib\\evaluation\\sampler.py\", line 92, in next\n",
      "    batches = [self.get_data()]\n",
      "  File \"c:\\Users\\nadir\\anaconda3\\envs\\GTAI2\\lib\\site-packages\\ray\\rllib\\evaluation\\sampler.py\", line 495, in get_data\n",
      "    raise RuntimeError(\"Sampling thread has died\")\n",
      "RuntimeError: Sampling thread has died\n"
     ]
    }
   ],
   "source": [
    "if not debugAsGym:\n",
    "    N = 2000\n",
    "\n",
    "    for n in range(N):\n",
    "        result = algo.train()\n",
    "        print(\"Loop: \", n)\n",
    "        if n % 20 == 0:\n",
    "            print(\"Saved\", n)\n",
    "            algo.save()\n",
    "    algo.save()"
   ]
  },
  {
   "cell_type": "code",
   "execution_count": 1,
   "metadata": {},
   "outputs": [
    {
     "name": "stderr",
     "output_type": "stream",
     "text": [
      "2023-05-16 07:25:32,316\tWARNING checkpoints.py:109 -- No `rllib_checkpoint.json` file found in checkpoint directory C:/Users/nadir/ray_results/A3C_gt-rtgym-env-v1_2023-05-16_00-43-06lvgo_2s3/checkpoint_000082! Trying to extract checkpoint info from other files found in that dir.\n",
      "2023-05-16 07:25:34,916\tINFO worker.py:1616 -- Started a local Ray instance. View the dashboard at \u001b[1m\u001b[32m127.0.0.1:8265 \u001b[39m\u001b[22m\n"
     ]
    },
    {
     "name": "stdout",
     "output_type": "stream",
     "text": [
      "\u001b[2m\u001b[36m(RolloutWorker pid=8384)\u001b[0m GT Real Time instantiated\n",
      "\u001b[2m\u001b[36m(RolloutWorker pid=8384)\u001b[0m GT AI Server instantiated for rtgym\n",
      "\u001b[2m\u001b[36m(RolloutWorker pid=8384)\u001b[0m simple reward system\n",
      "\u001b[2m\u001b[36m(RolloutWorker pid=8384)\u001b[0m starting up on localhost port 9999\n",
      "\u001b[2m\u001b[36m(RolloutWorker pid=8384)\u001b[0m Waiting for a connection\n",
      "\u001b[2m\u001b[36m(RolloutWorker pid=8384)\u001b[0m Connection from ('127.0.0.1', 50589)\n",
      "\u001b[2m\u001b[36m(RolloutWorker pid=8384)\u001b[0m reset triggered\n",
      "\u001b[2m\u001b[36m(RolloutWorker pid=8384)\u001b[0m reload save for track : 3\n"
     ]
    },
    {
     "name": "stderr",
     "output_type": "stream",
     "text": [
      "2023-05-16 07:25:52,179\tINFO trainable.py:172 -- Trainable.setup took 19.824 seconds. If your trainable is slow to initialize, consider setting reuse_actors=True to reduce actor creation overheads.\n"
     ]
    }
   ],
   "source": [
    "debugAsGym = False\n",
    "\n",
    "from myRTClass import MyGranTurismoRTGYM, DEFAULT_CONFIG_DICT\n",
    "import gymnasium\n",
    "\n",
    "my_config = DEFAULT_CONFIG_DICT\n",
    "my_config[\"interface\"] = MyGranTurismoRTGYM\n",
    "my_config[\"time_step_duration\"] = 0.1\n",
    "my_config[\"start_obs_capture\"] = 0.1\n",
    "my_config[\"time_step_timeout_factor\"] = 1.0\n",
    "my_config[\"ep_max_length\"] = 312\n",
    "my_config[\"act_buf_len\"] = 3\n",
    "my_config[\"reset_act_buf\"] = False\n",
    "my_config[\"benchmark\"] = True\n",
    "my_config[\"benchmark_polyak\"] = 0.2\n",
    "\n",
    "my_config[\"interface_kwargs\"] = {\n",
    "  'debugFlag': False, # do not use render() while True\n",
    "  'img_hist_len': 3,\n",
    "  'modelMode': 3,\n",
    "  'agent' : 'A3C',\n",
    "  #  [42, 42, K], [84, 84, K], [10, 10, K], [240, 320, K] and  [480, 640, K]\n",
    "  'imageWidth' : 42, # there is a default Cov layer for PPO with 240 x 320\n",
    "  'imageHeight' : 42,\n",
    "  'trackChoice' : 2, # 1 is High Speed Ring, 2 is 0-400m, \n",
    "}\n",
    "\n",
    "if not debugAsGym:\n",
    "    def env_creator(env_config):\n",
    "        env = gymnasium.make(\"real-time-gym-v1\", config=env_config)\n",
    "        return env  # return an env instance\n",
    "\n",
    "    from ray.tune.registry import register_env\n",
    "    register_env(\"gt-rtgym-env-v1\", lambda config: env_creator(my_config)) # better way\n",
    "\n",
    "from ray.rllib.algorithms.algorithm import Algorithm\n",
    "algo = Algorithm.from_checkpoint(\"C:/Users/nadir/ray_results/A3C_gt-rtgym-env-v1_2023-05-16_00-43-06lvgo_2s3/checkpoint_000082\")"
   ]
  },
  {
   "cell_type": "code",
   "execution_count": 2,
   "metadata": {},
   "outputs": [
    {
     "name": "stderr",
     "output_type": "stream",
     "text": [
      "\u001b[2m\u001b[36m(RolloutWorker pid=8384)\u001b[0m Exception in thread Thread-3:\n",
      "\u001b[2m\u001b[36m(RolloutWorker pid=8384)\u001b[0m Traceback (most recent call last):\n",
      "\u001b[2m\u001b[36m(RolloutWorker pid=8384)\u001b[0m   File \"python\\ray\\_raylet.pyx\", line 921, in ray._raylet.execute_task\n",
      "\u001b[2m\u001b[36m(RolloutWorker pid=8384)\u001b[0m   File \"python\\ray\\_raylet.pyx\", line 877, in ray._raylet.execute_task\n",
      "\u001b[2m\u001b[36m(RolloutWorker pid=8384)\u001b[0m   File \"python\\ray\\_raylet.pyx\", line 881, in ray._raylet.execute_task\n",
      "\u001b[2m\u001b[36m(RolloutWorker pid=8384)\u001b[0m   File \"python\\ray\\_raylet.pyx\", line 821, in ray._raylet.execute_task.function_executor\n",
      "\u001b[2m\u001b[36m(RolloutWorker pid=8384)\u001b[0m   File \"c:\\Users\\nadir\\anaconda3\\envs\\GTAI2\\lib\\site-packages\\ray\\_private\\function_manager.py\", line 670, in actor_method_executor\n",
      "\u001b[2m\u001b[36m(RolloutWorker pid=8384)\u001b[0m     return method(__ray_actor, *args, **kwargs)\n",
      "\u001b[2m\u001b[36m(RolloutWorker pid=8384)\u001b[0m   File \"c:\\Users\\nadir\\anaconda3\\envs\\GTAI2\\lib\\site-packages\\ray\\util\\tracing\\tracing_helper.py\", line 460, in _resume_span\n",
      "\u001b[2m\u001b[36m(RolloutWorker pid=8384)\u001b[0m     return method(self, *_args, **_kwargs)\n",
      "\u001b[2m\u001b[36m(RolloutWorker pid=8384)\u001b[0m   File \"c:\\Users\\nadir\\anaconda3\\envs\\GTAI2\\lib\\site-packages\\ray\\rllib\\utils\\actor_manager.py\", line 185, in apply\n",
      "\u001b[2m\u001b[36m(RolloutWorker pid=8384)\u001b[0m     raise e\n",
      "\u001b[2m\u001b[36m(RolloutWorker pid=8384)\u001b[0m   File \"c:\\Users\\nadir\\anaconda3\\envs\\GTAI2\\lib\\site-packages\\ray\\rllib\\utils\\actor_manager.py\", line 176, in apply\n",
      "\u001b[2m\u001b[36m(RolloutWorker pid=8384)\u001b[0m     return func(self, *args, **kwargs)\n",
      "\u001b[2m\u001b[36m(RolloutWorker pid=8384)\u001b[0m   File \"c:\\Users\\nadir\\anaconda3\\envs\\GTAI2\\lib\\site-packages\\ray\\rllib\\algorithms\\a3c\\a3c.py\", line 204, in sample_and_compute_grads\n",
      "\u001b[2m\u001b[36m(RolloutWorker pid=8384)\u001b[0m     samples = worker.sample()\n",
      "\u001b[2m\u001b[36m(RolloutWorker pid=8384)\u001b[0m   File \"c:\\Users\\nadir\\anaconda3\\envs\\GTAI2\\lib\\site-packages\\ray\\util\\tracing\\tracing_helper.py\", line 460, in _resume_span\n",
      "\u001b[2m\u001b[36m(RolloutWorker pid=8384)\u001b[0m     return method(self, *_args, **_kwargs)\n",
      "\u001b[2m\u001b[36m(RolloutWorker pid=8384)\u001b[0m   File \"c:\\Users\\nadir\\anaconda3\\envs\\GTAI2\\lib\\site-packages\\ray\\rllib\\evaluation\\rollout_worker.py\", line 915, in sample\n",
      "\u001b[2m\u001b[36m(RolloutWorker pid=8384)\u001b[0m     batches = [self.input_reader.next()]\n",
      "\u001b[2m\u001b[36m(RolloutWorker pid=8384)\u001b[0m   File \"c:\\Users\\nadir\\anaconda3\\envs\\GTAI2\\lib\\site-packages\\ray\\rllib\\evaluation\\sampler.py\", line 92, in next\n",
      "\u001b[2m\u001b[36m(RolloutWorker pid=8384)\u001b[0m     batches = [self.get_data()]\n",
      "\u001b[2m\u001b[36m(RolloutWorker pid=8384)\u001b[0m   File \"c:\\Users\\nadir\\anaconda3\\envs\\GTAI2\\lib\\site-packages\\ray\\rllib\\evaluation\\sampler.py\", line 500, in get_data\n",
      "\u001b[2m\u001b[36m(RolloutWorker pid=8384)\u001b[0m     raise rollout\n",
      "\u001b[2m\u001b[36m(RolloutWorker pid=8384)\u001b[0m   File \"c:\\Users\\nadir\\anaconda3\\envs\\GTAI2\\lib\\threading.py\", line 973, in _bootstrap_inner\n",
      "\u001b[2m\u001b[36m(RolloutWorker pid=8384)\u001b[0m     self.run()\n",
      "\u001b[2m\u001b[36m(RolloutWorker pid=8384)\u001b[0m   File \"c:\\Users\\nadir\\anaconda3\\envs\\GTAI2\\lib\\site-packages\\ray\\rllib\\evaluation\\sampler.py\", line 440, in run\n",
      "\u001b[2m\u001b[36m(RolloutWorker pid=8384)\u001b[0m     raise e\n",
      "\u001b[2m\u001b[36m(RolloutWorker pid=8384)\u001b[0m   File \"c:\\Users\\nadir\\anaconda3\\envs\\GTAI2\\lib\\site-packages\\ray\\rllib\\evaluation\\sampler.py\", line 437, in run\n",
      "\u001b[2m\u001b[36m(RolloutWorker pid=8384)\u001b[0m     self._run()\n",
      "\u001b[2m\u001b[36m(RolloutWorker pid=8384)\u001b[0m   File \"c:\\Users\\nadir\\anaconda3\\envs\\GTAI2\\lib\\site-packages\\ray\\rllib\\evaluation\\sampler.py\", line 486, in _run\n",
      "\u001b[2m\u001b[36m(RolloutWorker pid=8384)\u001b[0m     item = next(env_runner)\n",
      "\u001b[2m\u001b[36m(RolloutWorker pid=8384)\u001b[0m   File \"c:\\Users\\nadir\\anaconda3\\envs\\GTAI2\\lib\\site-packages\\ray\\rllib\\evaluation\\env_runner_v2.py\", line 323, in run\n",
      "\u001b[2m\u001b[36m(RolloutWorker pid=8384)\u001b[0m     outputs = self.step()\n",
      "\u001b[2m\u001b[36m(RolloutWorker pid=8384)\u001b[0m   File \"c:\\Users\\nadir\\anaconda3\\envs\\GTAI2\\lib\\site-packages\\ray\\rllib\\evaluation\\env_runner_v2.py\", line 349, in step\n",
      "\u001b[2m\u001b[36m(RolloutWorker pid=8384)\u001b[0m     active_envs, to_eval, outputs = self._process_observations(\n",
      "\u001b[2m\u001b[36m(RolloutWorker pid=8384)\u001b[0m   File \"c:\\Users\\nadir\\anaconda3\\envs\\GTAI2\\lib\\site-packages\\ray\\rllib\\evaluation\\env_runner_v2.py\", line 667, in _process_observations\n",
      "\u001b[2m\u001b[36m(RolloutWorker pid=8384)\u001b[0m     self._handle_done_episode(\n",
      "\u001b[2m\u001b[36m(RolloutWorker pid=8384)\u001b[0m   File \"c:\\Users\\nadir\\anaconda3\\envs\\GTAI2\\lib\\site-packages\\ray\\rllib\\evaluation\\env_runner_v2.py\", line 816, in _handle_done_episode\n",
      "\u001b[2m\u001b[36m(RolloutWorker pid=8384)\u001b[0m     self._build_done_episode(env_id, is_done, outputs)\n",
      "\u001b[2m\u001b[36m(RolloutWorker pid=8384)\u001b[0m   File \"c:\\Users\\nadir\\anaconda3\\envs\\GTAI2\\lib\\site-packages\\ray\\rllib\\evaluation\\env_runner_v2.py\", line 706, in _build_done_episode\n",
      "\u001b[2m\u001b[36m(RolloutWorker pid=8384)\u001b[0m     episode.postprocess_episode(\n",
      "\u001b[2m\u001b[36m(RolloutWorker pid=8384)\u001b[0m   File \"c:\\Users\\nadir\\anaconda3\\envs\\GTAI2\\lib\\site-packages\\ray\\rllib\\evaluation\\episode_v2.py\", line 320, in postprocess_episode\n",
      "\u001b[2m\u001b[36m(RolloutWorker pid=8384)\u001b[0m     post_batch = policy.postprocess_trajectory(post_batch, other_batches, self)\n",
      "\u001b[2m\u001b[36m(RolloutWorker pid=8384)\u001b[0m   File \"c:\\Users\\nadir\\anaconda3\\envs\\GTAI2\\lib\\site-packages\\ray\\rllib\\algorithms\\a3c\\a3c_torch_policy.py\", line 144, in postprocess_trajectory\n",
      "\u001b[2m\u001b[36m(RolloutWorker pid=8384)\u001b[0m     return compute_gae_for_sample_batch(\n",
      "\u001b[2m\u001b[36m(RolloutWorker pid=8384)\u001b[0m   File \"c:\\Users\\nadir\\anaconda3\\envs\\GTAI2\\lib\\site-packages\\ray\\rllib\\evaluation\\postprocessing.py\", line 216, in compute_gae_for_sample_batch\n",
      "\u001b[2m\u001b[36m(RolloutWorker pid=8384)\u001b[0m     batch = compute_advantages(\n",
      "\u001b[2m\u001b[36m(RolloutWorker pid=8384)\u001b[0m   File \"c:\\Users\\nadir\\anaconda3\\envs\\GTAI2\\lib\\site-packages\\ray\\rllib\\evaluation\\postprocessing.py\", line 117, in compute_advantages\n",
      "\u001b[2m\u001b[36m(RolloutWorker pid=8384)\u001b[0m     delta_t = rollout[SampleBatch.REWARDS] + gamma * vpred_t[1:] - vpred_t[:-1]\n",
      "\u001b[2m\u001b[36m(RolloutWorker pid=8384)\u001b[0m ValueError: operands could not be broadcast together with shapes (312,) (311,) \n",
      "2023-05-16 07:26:26,994\tERROR worker.py:408 -- Unhandled error (suppress with 'RAY_IGNORE_UNHANDLED_ERRORS=1'): \u001b[36mray::RolloutWorker.apply()\u001b[39m (pid=8384, ip=127.0.0.1, repr=<ray.rllib.evaluation.rollout_worker.RolloutWorker object at 0x000002293FBC3D90>)\n",
      "  File \"python\\ray\\_raylet.pyx\", line 877, in ray._raylet.execute_task\n",
      "  File \"python\\ray\\_raylet.pyx\", line 881, in ray._raylet.execute_task\n",
      "  File \"python\\ray\\_raylet.pyx\", line 821, in ray._raylet.execute_task.function_executor\n",
      "  File \"c:\\Users\\nadir\\anaconda3\\envs\\GTAI2\\lib\\site-packages\\ray\\_private\\function_manager.py\", line 670, in actor_method_executor\n",
      "    return method(__ray_actor, *args, **kwargs)\n",
      "  File \"c:\\Users\\nadir\\anaconda3\\envs\\GTAI2\\lib\\site-packages\\ray\\util\\tracing\\tracing_helper.py\", line 460, in _resume_span\n",
      "    return method(self, *_args, **_kwargs)\n",
      "  File \"c:\\Users\\nadir\\anaconda3\\envs\\GTAI2\\lib\\site-packages\\ray\\rllib\\utils\\actor_manager.py\", line 185, in apply\n",
      "    raise e\n",
      "  File \"c:\\Users\\nadir\\anaconda3\\envs\\GTAI2\\lib\\site-packages\\ray\\rllib\\utils\\actor_manager.py\", line 176, in apply\n",
      "    return func(self, *args, **kwargs)\n",
      "  File \"c:\\Users\\nadir\\anaconda3\\envs\\GTAI2\\lib\\site-packages\\ray\\rllib\\algorithms\\a3c\\a3c.py\", line 204, in sample_and_compute_grads\n",
      "    samples = worker.sample()\n",
      "  File \"c:\\Users\\nadir\\anaconda3\\envs\\GTAI2\\lib\\site-packages\\ray\\util\\tracing\\tracing_helper.py\", line 460, in _resume_span\n",
      "    return method(self, *_args, **_kwargs)\n",
      "  File \"c:\\Users\\nadir\\anaconda3\\envs\\GTAI2\\lib\\site-packages\\ray\\rllib\\evaluation\\rollout_worker.py\", line 915, in sample\n",
      "    batches = [self.input_reader.next()]\n",
      "  File \"c:\\Users\\nadir\\anaconda3\\envs\\GTAI2\\lib\\site-packages\\ray\\rllib\\evaluation\\sampler.py\", line 92, in next\n",
      "    batches = [self.get_data()]\n",
      "  File \"c:\\Users\\nadir\\anaconda3\\envs\\GTAI2\\lib\\site-packages\\ray\\rllib\\evaluation\\sampler.py\", line 500, in get_data\n",
      "    raise rollout\n",
      "  File \"c:\\Users\\nadir\\anaconda3\\envs\\GTAI2\\lib\\threading.py\", line 973, in _bootstrap_inner\n",
      "    self.run()\n",
      "  File \"c:\\Users\\nadir\\anaconda3\\envs\\GTAI2\\lib\\site-packages\\ray\\rllib\\evaluation\\sampler.py\", line 440, in run\n",
      "    raise e\n",
      "  File \"c:\\Users\\nadir\\anaconda3\\envs\\GTAI2\\lib\\site-packages\\ray\\rllib\\evaluation\\sampler.py\", line 437, in run\n",
      "    self._run()\n",
      "  File \"c:\\Users\\nadir\\anaconda3\\envs\\GTAI2\\lib\\site-packages\\ray\\rllib\\evaluation\\sampler.py\", line 486, in _run\n",
      "    item = next(env_runner)\n",
      "  File \"c:\\Users\\nadir\\anaconda3\\envs\\GTAI2\\lib\\site-packages\\ray\\rllib\\evaluation\\env_runner_v2.py\", line 323, in run\n",
      "    outputs = self.step()\n",
      "  File \"c:\\Users\\nadir\\anaconda3\\envs\\GTAI2\\lib\\site-packages\\ray\\rllib\\evaluation\\env_runner_v2.py\", line 349, in step\n",
      "    active_envs, to_eval, outputs = self._process_observations(\n",
      "  File \"c:\\Users\\nadir\\anaconda3\\envs\\GTAI2\\lib\\site-packages\\ray\\rllib\\evaluation\\env_runner_v2.py\", line 667, in _process_observations\n",
      "    self._handle_done_episode(\n",
      "  File \"c:\\Users\\nadir\\anaconda3\\envs\\GTAI2\\lib\\site-packages\\ray\\rllib\\evaluation\\env_runner_v2.py\", line 816, in _handle_done_episode\n",
      "    self._build_done_episode(env_id, is_done, outputs)\n",
      "  File \"c:\\Users\\nadir\\anaconda3\\envs\\GTAI2\\lib\\site-packages\\ray\\rllib\\evaluation\\env_runner_v2.py\", line 706, in _build_done_episode\n",
      "    episode.postprocess_episode(\n",
      "  File \"c:\\Users\\nadir\\anaconda3\\envs\\GTAI2\\lib\\site-packages\\ray\\rllib\\evaluation\\episode_v2.py\", line 320, in postprocess_episode\n",
      "    post_batch = policy.postprocess_trajectory(post_batch, other_batches, self)\n",
      "  File \"c:\\Users\\nadir\\anaconda3\\envs\\GTAI2\\lib\\site-packages\\ray\\rllib\\algorithms\\a3c\\a3c_torch_policy.py\", line 144, in postprocess_trajectory\n",
      "    return compute_gae_for_sample_batch(\n",
      "  File \"c:\\Users\\nadir\\anaconda3\\envs\\GTAI2\\lib\\site-packages\\ray\\rllib\\evaluation\\postprocessing.py\", line 216, in compute_gae_for_sample_batch\n",
      "    batch = compute_advantages(\n",
      "  File \"c:\\Users\\nadir\\anaconda3\\envs\\GTAI2\\lib\\site-packages\\ray\\rllib\\evaluation\\postprocessing.py\", line 117, in compute_advantages\n",
      "    delta_t = rollout[SampleBatch.REWARDS] + gamma * vpred_t[1:] - vpred_t[:-1]\n",
      "ValueError: operands could not be broadcast together with shapes (312,) (311,)\n",
      "2023-05-16 07:26:26,996\tERROR worker.py:408 -- Unhandled error (suppress with 'RAY_IGNORE_UNHANDLED_ERRORS=1'): \u001b[36mray::RolloutWorker.apply()\u001b[39m (pid=8384, ip=127.0.0.1, repr=<ray.rllib.evaluation.rollout_worker.RolloutWorker object at 0x000002293FBC3D90>)\n",
      "  File \"python\\ray\\_raylet.pyx\", line 877, in ray._raylet.execute_task\n",
      "  File \"python\\ray\\_raylet.pyx\", line 881, in ray._raylet.execute_task\n",
      "  File \"python\\ray\\_raylet.pyx\", line 821, in ray._raylet.execute_task.function_executor\n",
      "  File \"c:\\Users\\nadir\\anaconda3\\envs\\GTAI2\\lib\\site-packages\\ray\\_private\\function_manager.py\", line 670, in actor_method_executor\n",
      "    return method(__ray_actor, *args, **kwargs)\n",
      "  File \"c:\\Users\\nadir\\anaconda3\\envs\\GTAI2\\lib\\site-packages\\ray\\util\\tracing\\tracing_helper.py\", line 460, in _resume_span\n",
      "    return method(self, *_args, **_kwargs)\n",
      "  File \"c:\\Users\\nadir\\anaconda3\\envs\\GTAI2\\lib\\site-packages\\ray\\rllib\\utils\\actor_manager.py\", line 185, in apply\n",
      "    raise e\n",
      "  File \"c:\\Users\\nadir\\anaconda3\\envs\\GTAI2\\lib\\site-packages\\ray\\rllib\\utils\\actor_manager.py\", line 176, in apply\n",
      "    return func(self, *args, **kwargs)\n",
      "  File \"c:\\Users\\nadir\\anaconda3\\envs\\GTAI2\\lib\\site-packages\\ray\\rllib\\algorithms\\a3c\\a3c.py\", line 204, in sample_and_compute_grads\n",
      "    samples = worker.sample()\n",
      "  File \"c:\\Users\\nadir\\anaconda3\\envs\\GTAI2\\lib\\site-packages\\ray\\util\\tracing\\tracing_helper.py\", line 460, in _resume_span\n",
      "    return method(self, *_args, **_kwargs)\n",
      "  File \"c:\\Users\\nadir\\anaconda3\\envs\\GTAI2\\lib\\site-packages\\ray\\rllib\\evaluation\\rollout_worker.py\", line 915, in sample\n",
      "    batches = [self.input_reader.next()]\n",
      "  File \"c:\\Users\\nadir\\anaconda3\\envs\\GTAI2\\lib\\site-packages\\ray\\rllib\\evaluation\\sampler.py\", line 92, in next\n",
      "    batches = [self.get_data()]\n",
      "  File \"c:\\Users\\nadir\\anaconda3\\envs\\GTAI2\\lib\\site-packages\\ray\\rllib\\evaluation\\sampler.py\", line 495, in get_data\n",
      "    raise RuntimeError(\"Sampling thread has died\")\n",
      "RuntimeError: Sampling thread has died\n"
     ]
    },
    {
     "data": {
      "text/plain": [
       "{'custom_metrics': {},\n",
       " 'episode_media': {},\n",
       " 'info': {'learner': {},\n",
       "  'num_env_steps_sampled': 50544,\n",
       "  'num_env_steps_trained': 50544,\n",
       "  'num_agent_steps_sampled': 50544,\n",
       "  'num_agent_steps_trained': 50544},\n",
       " 'sampler_results': {'episode_reward_max': nan,\n",
       "  'episode_reward_min': nan,\n",
       "  'episode_reward_mean': nan,\n",
       "  'episode_len_mean': nan,\n",
       "  'episode_media': {},\n",
       "  'episodes_this_iter': 0,\n",
       "  'policy_reward_min': {},\n",
       "  'policy_reward_max': {},\n",
       "  'policy_reward_mean': {},\n",
       "  'custom_metrics': {},\n",
       "  'hist_stats': {'episode_reward': [], 'episode_lengths': []},\n",
       "  'sampler_perf': {},\n",
       "  'num_faulty_episodes': 0,\n",
       "  'connector_metrics': {}},\n",
       " 'episode_reward_max': nan,\n",
       " 'episode_reward_min': nan,\n",
       " 'episode_reward_mean': nan,\n",
       " 'episode_len_mean': nan,\n",
       " 'episodes_this_iter': 0,\n",
       " 'policy_reward_min': {},\n",
       " 'policy_reward_max': {},\n",
       " 'policy_reward_mean': {},\n",
       " 'hist_stats': {'episode_reward': [], 'episode_lengths': []},\n",
       " 'sampler_perf': {},\n",
       " 'num_faulty_episodes': 0,\n",
       " 'connector_metrics': {},\n",
       " 'num_healthy_workers': 1,\n",
       " 'num_in_flight_async_reqs': 2,\n",
       " 'num_remote_worker_restarts': 0,\n",
       " 'num_agent_steps_sampled': 50544,\n",
       " 'num_agent_steps_trained': 50544,\n",
       " 'num_env_steps_sampled': 50544,\n",
       " 'num_env_steps_trained': 50544,\n",
       " 'num_env_steps_sampled_this_iter': 0,\n",
       " 'num_env_steps_trained_this_iter': 0,\n",
       " 'timesteps_total': 50544,\n",
       " 'num_steps_trained_this_iter': 0,\n",
       " 'agent_timesteps_total': 50544,\n",
       " 'timers': {'training_iteration_time_ms': 28.881,\n",
       "  'grad_wait_time_ms': 0.1,\n",
       "  'synch_weights_time_ms': 28.781},\n",
       " 'counters': {'num_env_steps_sampled': 50544,\n",
       "  'num_env_steps_trained': 50544,\n",
       "  'num_agent_steps_sampled': 50544,\n",
       "  'num_agent_steps_trained': 50544},\n",
       " 'done': False,\n",
       " 'episodes_total': 0,\n",
       " 'training_iteration': 1,\n",
       " 'trial_id': 'default',\n",
       " 'date': '2023-05-16_07-26-27',\n",
       " 'timestamp': 1684214787,\n",
       " 'time_this_iter_s': 18.936533212661743,\n",
       " 'time_total_s': 18.936533212661743,\n",
       " 'pid': 19712,\n",
       " 'hostname': 'GT86TC',\n",
       " 'node_ip': '127.0.0.1',\n",
       " 'config': {'extra_python_environs_for_driver': {},\n",
       "  'extra_python_environs_for_worker': {},\n",
       "  'num_gpus': 1,\n",
       "  'num_cpus_per_worker': 1,\n",
       "  'num_gpus_per_worker': 0,\n",
       "  '_fake_gpus': False,\n",
       "  'num_learner_workers': 0,\n",
       "  'num_gpus_per_learner_worker': 0,\n",
       "  'num_cpus_per_learner_worker': 1,\n",
       "  'local_gpu_idx': 0,\n",
       "  'custom_resources_per_worker': {},\n",
       "  'placement_strategy': 'PACK',\n",
       "  'eager_tracing': False,\n",
       "  'eager_max_retraces': 20,\n",
       "  'tf_session_args': {'intra_op_parallelism_threads': 2,\n",
       "   'inter_op_parallelism_threads': 2,\n",
       "   'gpu_options': {'allow_growth': True},\n",
       "   'log_device_placement': False,\n",
       "   'device_count': {'CPU': 1},\n",
       "   'allow_soft_placement': True},\n",
       "  'local_tf_session_args': {'intra_op_parallelism_threads': 8,\n",
       "   'inter_op_parallelism_threads': 8},\n",
       "  'env': 'gt-rtgym-env-v1',\n",
       "  'env_config': {},\n",
       "  'observation_space': None,\n",
       "  'action_space': None,\n",
       "  'env_task_fn': None,\n",
       "  'render_env': False,\n",
       "  'clip_rewards': None,\n",
       "  'normalize_actions': True,\n",
       "  'clip_actions': False,\n",
       "  'disable_env_checking': True,\n",
       "  'is_atari': False,\n",
       "  'auto_wrap_old_gym_envs': True,\n",
       "  'num_envs_per_worker': 1,\n",
       "  'sample_collector': ray.rllib.evaluation.collectors.simple_list_collector.SimpleListCollector,\n",
       "  'sample_async': True,\n",
       "  'enable_connectors': True,\n",
       "  'rollout_fragment_length': 10,\n",
       "  'batch_mode': 'complete_episodes',\n",
       "  'remote_worker_envs': False,\n",
       "  'remote_env_batch_wait_ms': 0,\n",
       "  'validate_workers_after_construction': True,\n",
       "  'preprocessor_pref': 'deepmind',\n",
       "  'observation_filter': 'NoFilter',\n",
       "  'synchronize_filters': True,\n",
       "  'compress_observations': False,\n",
       "  'enable_tf1_exec_eagerly': False,\n",
       "  'sampler_perf_stats_ema_coef': None,\n",
       "  'gamma': 0.99,\n",
       "  'lr': 0.0001,\n",
       "  'train_batch_size': 512,\n",
       "  'model': {'_disable_preprocessor_api': False,\n",
       "   '_disable_action_flattening': False,\n",
       "   'fcnet_hiddens': [16, 16],\n",
       "   'fcnet_activation': 'tanh',\n",
       "   'conv_filters': None,\n",
       "   'conv_activation': 'relu',\n",
       "   'post_fcnet_hiddens': [],\n",
       "   'post_fcnet_activation': 'relu',\n",
       "   'free_log_std': False,\n",
       "   'no_final_linear': False,\n",
       "   'vf_share_layers': True,\n",
       "   'use_lstm': False,\n",
       "   'max_seq_len': 20,\n",
       "   'lstm_cell_size': 256,\n",
       "   'lstm_use_prev_action': False,\n",
       "   'lstm_use_prev_reward': False,\n",
       "   '_time_major': False,\n",
       "   'use_attention': False,\n",
       "   'attention_num_transformer_units': 1,\n",
       "   'attention_dim': 64,\n",
       "   'attention_num_heads': 1,\n",
       "   'attention_head_dim': 32,\n",
       "   'attention_memory_inference': 50,\n",
       "   'attention_memory_training': 50,\n",
       "   'attention_position_wise_mlp_dim': 32,\n",
       "   'attention_init_gru_gate_bias': 2.0,\n",
       "   'attention_use_n_prev_actions': 0,\n",
       "   'attention_use_n_prev_rewards': 0,\n",
       "   'framestack': True,\n",
       "   'dim': 84,\n",
       "   'grayscale': False,\n",
       "   'zero_mean': True,\n",
       "   'custom_model': None,\n",
       "   'custom_model_config': {},\n",
       "   'custom_action_dist': None,\n",
       "   'custom_preprocessor': None,\n",
       "   'encoder_latent_dim': None,\n",
       "   'lstm_use_prev_action_reward': -1,\n",
       "   '_use_default_native_models': -1},\n",
       "  'optimizer': {},\n",
       "  'max_requests_in_flight_per_sampler_worker': 2,\n",
       "  'learner_class': None,\n",
       "  '_enable_learner_api': False,\n",
       "  '_learner_hps': LearnerHPs(),\n",
       "  'explore': True,\n",
       "  'exploration_config': {'type': 'StochasticSampling'},\n",
       "  'policy_states_are_swappable': False,\n",
       "  'input_config': {},\n",
       "  'actions_in_input_normalized': False,\n",
       "  'postprocess_inputs': False,\n",
       "  'shuffle_buffer_size': 0,\n",
       "  'output': None,\n",
       "  'output_config': {},\n",
       "  'output_compress_columns': ['obs', 'new_obs'],\n",
       "  'output_max_file_size': 67108864,\n",
       "  'offline_sampling': False,\n",
       "  'evaluation_interval': None,\n",
       "  'evaluation_duration': 10,\n",
       "  'evaluation_duration_unit': 'episodes',\n",
       "  'evaluation_sample_timeout_s': 180.0,\n",
       "  'evaluation_parallel_to_training': False,\n",
       "  'evaluation_config': None,\n",
       "  'off_policy_estimation_methods': {},\n",
       "  'ope_split_batch_by_episode': True,\n",
       "  'evaluation_num_workers': 0,\n",
       "  'always_attach_evaluation_results': False,\n",
       "  'enable_async_evaluation': False,\n",
       "  'in_evaluation': False,\n",
       "  'sync_filters_on_rollout_workers_timeout_s': 60.0,\n",
       "  'keep_per_episode_custom_metrics': False,\n",
       "  'metrics_episode_collection_timeout_s': 60.0,\n",
       "  'metrics_num_episodes_for_smoothing': 100,\n",
       "  'min_time_s_per_iteration': 5,\n",
       "  'min_train_timesteps_per_iteration': 0,\n",
       "  'min_sample_timesteps_per_iteration': 0,\n",
       "  'export_native_model_files': False,\n",
       "  'checkpoint_trainable_policies_only': False,\n",
       "  'logger_creator': None,\n",
       "  'logger_config': None,\n",
       "  'log_level': 'WARN',\n",
       "  'log_sys_usage': True,\n",
       "  'fake_sampler': False,\n",
       "  'seed': None,\n",
       "  'worker_cls': None,\n",
       "  'ignore_worker_failures': False,\n",
       "  'recreate_failed_workers': False,\n",
       "  'max_num_worker_restarts': 1000,\n",
       "  'delay_between_worker_restarts_s': 60.0,\n",
       "  'restart_failed_sub_environments': False,\n",
       "  'num_consecutive_worker_failures_tolerance': 100,\n",
       "  'worker_health_probe_timeout_s': 60,\n",
       "  'worker_restore_timeout_s': 1800,\n",
       "  'rl_module_spec': None,\n",
       "  '_enable_rl_module_api': False,\n",
       "  '_validate_exploration_conf_and_rl_modules': True,\n",
       "  '_tf_policy_handles_more_than_one_loss': False,\n",
       "  '_disable_preprocessor_api': False,\n",
       "  '_disable_action_flattening': False,\n",
       "  '_disable_execution_plan_api': True,\n",
       "  'simple_optimizer': False,\n",
       "  'replay_sequence_length': None,\n",
       "  'horizon': -1,\n",
       "  'soft_horizon': -1,\n",
       "  'no_done_at_end': -1,\n",
       "  'use_critic': True,\n",
       "  'use_gae': True,\n",
       "  'grad_clip': 40.0,\n",
       "  'lr_schedule': None,\n",
       "  'vf_loss_coeff': 0.5,\n",
       "  'entropy_coeff': 0.01,\n",
       "  'entropy_coeff_schedule': None,\n",
       "  'lambda': 1.0,\n",
       "  'input': 'sampler',\n",
       "  'multiagent': {'policies': {'default_policy': (None, None, None, None)},\n",
       "   'policy_mapping_fn': <function ray.rllib.algorithms.algorithm_config.AlgorithmConfig.DEFAULT_POLICY_MAPPING_FN(aid, episode, worker, **kwargs)>,\n",
       "   'policies_to_train': None,\n",
       "   'policy_map_capacity': 100,\n",
       "   'policy_map_cache': -1,\n",
       "   'count_steps_by': 'env_steps',\n",
       "   'observation_fn': None},\n",
       "  'callbacks': ray.rllib.algorithms.callbacks.DefaultCallbacks,\n",
       "  'create_env_on_driver': False,\n",
       "  'custom_eval_function': None,\n",
       "  'framework': 'torch',\n",
       "  'num_cpus_for_driver': 1,\n",
       "  'num_workers': 1},\n",
       " 'time_since_restore': 18.936533212661743,\n",
       " 'iterations_since_restore': 1,\n",
       " 'perf': {'cpu_util_percent': 13.07872340425532,\n",
       "  'ram_util_percent': 47.06595744680852,\n",
       "  'gpu_util_percent0': 0.2227659574468085,\n",
       "  'vram_util_percent0': 0.40496696309840424}}"
      ]
     },
     "execution_count": 2,
     "metadata": {},
     "output_type": "execute_result"
    }
   ],
   "source": [
    "algo.train()"
   ]
  }
 ],
 "metadata": {
  "kernelspec": {
   "display_name": "GTAI2",
   "language": "python",
   "name": "python3"
  },
  "language_info": {
   "codemirror_mode": {
    "name": "ipython",
    "version": 3
   },
   "file_extension": ".py",
   "mimetype": "text/x-python",
   "name": "python",
   "nbconvert_exporter": "python",
   "pygments_lexer": "ipython3",
   "version": "3.9.9"
  },
  "orig_nbformat": 4
 },
 "nbformat": 4,
 "nbformat_minor": 2
}

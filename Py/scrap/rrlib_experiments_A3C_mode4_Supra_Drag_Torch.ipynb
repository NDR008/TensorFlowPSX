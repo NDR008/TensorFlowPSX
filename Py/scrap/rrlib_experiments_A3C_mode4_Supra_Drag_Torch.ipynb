{
 "cells": [
  {
   "attachments": {},
   "cell_type": "markdown",
   "metadata": {},
   "source": [
    "# Setup Gym Environment\n",
    "\n",
    "```py\n",
    "my_config[\"interface\"] = MyGranTurismoRTGYM\n",
    "my_config[\"time_step_duration\"] = 0.05 # when to give up\n",
    "my_config[\"start_obs_capture\"] = 0.05 # when to capture \n",
    "my_config[\"time_step_timeout_factor\"] = 1.0 # how late is OK\n",
    "my_config[\"act_buf_len\"] = 3 # how many past actions\n",
    "my_config[\"reset_act_buf\"] = True # resect action buffer on reset\n",
    "my_config[\"benchmark\"] = True\n",
    "my_config[\"benchmark_polyak\"] = 0.2\n",
    "```\n",
    "\n",
    "This section needs to be setup for any method"
   ]
  },
  {
   "cell_type": "code",
   "execution_count": 1,
   "metadata": {},
   "outputs": [],
   "source": [
    "debugAsGym = False\n",
    "testResult = False\n",
    "\n",
    "from myRTClass import MyGranTurismoRTGYM, DEFAULT_CONFIG_DICT\n",
    "import gymnasium\n",
    "\n",
    "my_config = DEFAULT_CONFIG_DICT\n",
    "my_config[\"interface\"] = MyGranTurismoRTGYM\n",
    "my_config[\"time_step_duration\"] = 0.1\n",
    "my_config[\"start_obs_capture\"] = 0.1\n",
    "my_config[\"time_step_timeout_factor\"] = 1.0\n",
    "my_config[\"ep_max_length\"] = 224\n",
    "my_config[\"act_buf_len\"] = 3\n",
    "my_config[\"reset_act_buf\"] = False\n",
    "my_config[\"benchmark\"] = True\n",
    "my_config[\"benchmark_polyak\"] = 0.2\n",
    "\n",
    "my_config[\"interface_kwargs\"] = {\n",
    "  'debugFlag': False, # do not use render() while True\n",
    "  'img_hist_len': 3,\n",
    "  'modelMode': 4,\n",
    "  'agent' : 'A3C',\n",
    "  #  [42, 42, K], [84, 84, K], [10, 10, K], [240, 320, K] and  [480, 640, K]\n",
    "  'imageWidth' : 42, # there is a default Cov layer for PPO with 240 x 320\n",
    "  'imageHeight' : 42,\n",
    "  'trackChoice' : 3, # 1 is High Speed Ring, 2 is 0-400m in MR2, #3 is 0-400m in Supra, #4 is test ring\n",
    "}"
   ]
  },
  {
   "cell_type": "code",
   "execution_count": 2,
   "metadata": {},
   "outputs": [],
   "source": [
    "if debugAsGym:\n",
    "    env = gymnasium.make(\"real-time-gym-v1\", config=my_config)"
   ]
  },
  {
   "cell_type": "code",
   "execution_count": 3,
   "metadata": {},
   "outputs": [],
   "source": [
    "if debugAsGym:\n",
    "    env.reset()"
   ]
  },
  {
   "attachments": {},
   "cell_type": "markdown",
   "metadata": {},
   "source": [
    "# Register the environment in a way that RLlib is happy"
   ]
  },
  {
   "cell_type": "code",
   "execution_count": 4,
   "metadata": {},
   "outputs": [],
   "source": [
    "if not debugAsGym and not testResult:\n",
    "    def env_creator(env_config):\n",
    "        env = gymnasium.make(\"real-time-gym-v1\", config=env_config)\n",
    "        return env  # return an env instance\n",
    "\n",
    "    from ray.tune.registry import register_env\n",
    "    register_env(\"gt-rtgym-env-v1\", lambda config: env_creator(my_config)) # better way"
   ]
  },
  {
   "cell_type": "code",
   "execution_count": 5,
   "metadata": {},
   "outputs": [
    {
     "name": "stderr",
     "output_type": "stream",
     "text": [
      "2023-05-23 22:37:19,034\tINFO worker.py:1616 -- Started a local Ray instance. View the dashboard at \u001b[1m\u001b[32m127.0.0.1:8265 \u001b[39m\u001b[22m\n"
     ]
    }
   ],
   "source": [
    "if not debugAsGym and not testResult:\n",
    "    import ray\n",
    "    ray.shutdown()\n",
    "    ray.init()"
   ]
  },
  {
   "cell_type": "code",
   "execution_count": 6,
   "metadata": {},
   "outputs": [
    {
     "name": "stderr",
     "output_type": "stream",
     "text": [
      "2023-05-23 22:37:27,647\tINFO algorithm.py:527 -- Current log_level is WARN. For more information, set 'log_level': 'INFO' / 'DEBUG' or use the -v and -vv flags.\n"
     ]
    },
    {
     "name": "stdout",
     "output_type": "stream",
     "text": [
      "\u001b[2m\u001b[36m(RolloutWorker pid=14456)\u001b[0m GT Real Time instantiated\n",
      "\u001b[2m\u001b[36m(RolloutWorker pid=14456)\u001b[0m GT AI Server instantiated for rtgym\n",
      "\u001b[2m\u001b[36m(RolloutWorker pid=14456)\u001b[0m still simple reward system\n",
      "\u001b[2m\u001b[36m(RolloutWorker pid=14456)\u001b[0m starting up on localhost port 9999\n",
      "\u001b[2m\u001b[36m(RolloutWorker pid=14456)\u001b[0m Waiting for a connection\n",
      "\u001b[2m\u001b[36m(RolloutWorker pid=14456)\u001b[0m Connection from ('127.0.0.1', 59505)\n",
      "\u001b[2m\u001b[36m(RolloutWorker pid=14456)\u001b[0m reset triggered\n",
      "\u001b[2m\u001b[36m(RolloutWorker pid=14456)\u001b[0m reload save for track : 4\n"
     ]
    },
    {
     "name": "stderr",
     "output_type": "stream",
     "text": [
      "2023-05-23 22:37:39,402\tINFO trainable.py:172 -- Trainable.setup took 11.756 seconds. If your trainable is slow to initialize, consider setting reuse_actors=True to reduce actor creation overheads.\n"
     ]
    }
   ],
   "source": [
    "if not debugAsGym and not testResult:\n",
    "    from ray.rllib.algorithms.sac import SACConfig\n",
    "    from ray.rllib.algorithms.ppo import PPOConfig\n",
    "    from ray.rllib.algorithms.a2c import A2CConfig\n",
    "    from ray.rllib.algorithms.a3c import A3CConfig\n",
    "\n",
    "    algo = (\n",
    "        A3CConfig()\n",
    "        .resources(\n",
    "            num_gpus_per_learner_worker=1,\n",
    "            num_cpus_for_local_worker=1,\n",
    "            num_cpus_per_learner_worker=1,\n",
    "            num_gpus=1\n",
    "            )\n",
    "        .rollouts(\n",
    "            num_rollout_workers=1,\n",
    "            enable_connectors=True,\n",
    "            batch_mode=\"truncate_episodes\",\n",
    "            #rollout_fragment_length=256\n",
    "            )\n",
    "        .framework(\n",
    "            framework=\"torch\",\n",
    "            #eager_tracing=True,\n",
    "            )\n",
    "        .environment(\n",
    "            env=\"gt-rtgym-env-v1\",\n",
    "            disable_env_checking=True,\n",
    "            render_env=False,\n",
    "            )\n",
    "        .training(\n",
    "            #lr=tune.grid_search([0.01, 0.001, 0.0001])\n",
    "            #lambda_=0.95,\n",
    "            #gamma=0.99,\n",
    "            #sgd_minibatch_size=128,\n",
    "            train_batch_size=155,\n",
    "            #num_sgd_iter=8,\n",
    "            #clip_param=0.2,\n",
    "            #model={\"fcnet_hiddens\": [1, 8]},\n",
    "        )\n",
    "        .build()\n",
    "    )"
   ]
  },
  {
   "cell_type": "code",
   "execution_count": 7,
   "metadata": {},
   "outputs": [
    {
     "name": "stdout",
     "output_type": "stream",
     "text": [
      "Loop:  0\n",
      "Saved 0\n",
      "Loop:  1\n",
      "\u001b[2m\u001b[36m(RolloutWorker pid=14456)\u001b[0m reset triggered\n",
      "\u001b[2m\u001b[36m(RolloutWorker pid=14456)\u001b[0m reload save for track : 4\n"
     ]
    },
    {
     "name": "stderr",
     "output_type": "stream",
     "text": [
      "\u001b[2m\u001b[36m(RolloutWorker pid=14456)\u001b[0m c:\\Users\\nadir\\anaconda3\\envs\\GTAI2\\lib\\site-packages\\rtgym\\envs\\real_time_env.py:376: UserWarning: Time-step timed out. Elapsed since last time-step: 0.14791849999980755\n",
      "\u001b[2m\u001b[36m(RolloutWorker pid=14456)\u001b[0m   warnings.warn(f\"Time-step timed out. Elapsed since last time-step: {now - self.__t_end}\")\n"
     ]
    },
    {
     "name": "stdout",
     "output_type": "stream",
     "text": [
      "Loop:  2\n",
      "Loop:  3\n"
     ]
    },
    {
     "name": "stderr",
     "output_type": "stream",
     "text": [
      "\u001b[2m\u001b[36m(RolloutWorker pid=14456)\u001b[0m c:\\Users\\nadir\\anaconda3\\envs\\GTAI2\\lib\\site-packages\\rtgym\\envs\\real_time_env.py:376: UserWarning: Time-step timed out. Elapsed since last time-step: 123.85188089999994\n",
      "\u001b[2m\u001b[36m(RolloutWorker pid=14456)\u001b[0m   warnings.warn(f\"Time-step timed out. Elapsed since last time-step: {now - self.__t_end}\")\n"
     ]
    },
    {
     "name": "stdout",
     "output_type": "stream",
     "text": [
      "Loop:  4\n",
      "Loop:  5\n",
      "Loop:  6\n",
      "\u001b[2m\u001b[36m(RolloutWorker pid=14456)\u001b[0m reset triggered\n",
      "\u001b[2m\u001b[36m(RolloutWorker pid=14456)\u001b[0m reload save for track : 4\n"
     ]
    },
    {
     "name": "stderr",
     "output_type": "stream",
     "text": [
      "\u001b[2m\u001b[36m(RolloutWorker pid=14456)\u001b[0m c:\\Users\\nadir\\anaconda3\\envs\\GTAI2\\lib\\site-packages\\rtgym\\envs\\real_time_env.py:376: UserWarning: Time-step timed out. Elapsed since last time-step: 0.15979650000099355\n",
      "\u001b[2m\u001b[36m(RolloutWorker pid=14456)\u001b[0m   warnings.warn(f\"Time-step timed out. Elapsed since last time-step: {now - self.__t_end}\")\n"
     ]
    },
    {
     "name": "stdout",
     "output_type": "stream",
     "text": [
      "Loop:  7\n",
      "Loop:  8\n",
      "Loop:  9\n",
      "\u001b[2m\u001b[36m(RolloutWorker pid=14456)\u001b[0m reset triggered\n",
      "\u001b[2m\u001b[36m(RolloutWorker pid=14456)\u001b[0m reload save for track : 4\n"
     ]
    },
    {
     "name": "stderr",
     "output_type": "stream",
     "text": [
      "\u001b[2m\u001b[36m(RolloutWorker pid=14456)\u001b[0m c:\\Users\\nadir\\anaconda3\\envs\\GTAI2\\lib\\site-packages\\rtgym\\envs\\real_time_env.py:376: UserWarning: Time-step timed out. Elapsed since last time-step: 0.15812880000126484\n",
      "\u001b[2m\u001b[36m(RolloutWorker pid=14456)\u001b[0m   warnings.warn(f\"Time-step timed out. Elapsed since last time-step: {now - self.__t_end}\")\n"
     ]
    },
    {
     "name": "stdout",
     "output_type": "stream",
     "text": [
      "Loop:  10\n",
      "Saved 10\n",
      "Loop:  11\n",
      "Loop:  12\n",
      "\u001b[2m\u001b[36m(RolloutWorker pid=14456)\u001b[0m reset triggered\n",
      "\u001b[2m\u001b[36m(RolloutWorker pid=14456)\u001b[0m reload save for track : 4\n"
     ]
    },
    {
     "name": "stderr",
     "output_type": "stream",
     "text": [
      "\u001b[2m\u001b[36m(RolloutWorker pid=14456)\u001b[0m c:\\Users\\nadir\\anaconda3\\envs\\GTAI2\\lib\\site-packages\\rtgym\\envs\\real_time_env.py:376: UserWarning: Time-step timed out. Elapsed since last time-step: 0.17130020000126933\n",
      "\u001b[2m\u001b[36m(RolloutWorker pid=14456)\u001b[0m   warnings.warn(f\"Time-step timed out. Elapsed since last time-step: {now - self.__t_end}\")\n"
     ]
    },
    {
     "name": "stdout",
     "output_type": "stream",
     "text": [
      "Loop:  13\n",
      "Loop:  14\n",
      "Loop:  15\n",
      "\u001b[2m\u001b[36m(RolloutWorker pid=14456)\u001b[0m reset triggered\n",
      "\u001b[2m\u001b[36m(RolloutWorker pid=14456)\u001b[0m reload save for track : 4\n"
     ]
    },
    {
     "name": "stderr",
     "output_type": "stream",
     "text": [
      "\u001b[2m\u001b[36m(RolloutWorker pid=14456)\u001b[0m c:\\Users\\nadir\\anaconda3\\envs\\GTAI2\\lib\\site-packages\\rtgym\\envs\\real_time_env.py:376: UserWarning: Time-step timed out. Elapsed since last time-step: 0.15799310000127775\n",
      "\u001b[2m\u001b[36m(RolloutWorker pid=14456)\u001b[0m   warnings.warn(f\"Time-step timed out. Elapsed since last time-step: {now - self.__t_end}\")\n"
     ]
    },
    {
     "name": "stdout",
     "output_type": "stream",
     "text": [
      "Loop:  16\n",
      "Loop:  17\n",
      "Loop:  18\n",
      "Loop:  19\n",
      "\u001b[2m\u001b[36m(RolloutWorker pid=14456)\u001b[0m reset triggered\n",
      "\u001b[2m\u001b[36m(RolloutWorker pid=14456)\u001b[0m reload save for track : 4\n"
     ]
    },
    {
     "name": "stderr",
     "output_type": "stream",
     "text": [
      "\u001b[2m\u001b[36m(RolloutWorker pid=14456)\u001b[0m c:\\Users\\nadir\\anaconda3\\envs\\GTAI2\\lib\\site-packages\\rtgym\\envs\\real_time_env.py:376: UserWarning: Time-step timed out. Elapsed since last time-step: 0.14340909999782525\n",
      "\u001b[2m\u001b[36m(RolloutWorker pid=14456)\u001b[0m   warnings.warn(f\"Time-step timed out. Elapsed since last time-step: {now - self.__t_end}\")\n"
     ]
    },
    {
     "name": "stdout",
     "output_type": "stream",
     "text": [
      "Loop:  20\n",
      "Saved 20\n",
      "Loop:  21\n",
      "Loop:  22\n",
      "\u001b[2m\u001b[36m(RolloutWorker pid=14456)\u001b[0m reset triggered\n",
      "\u001b[2m\u001b[36m(RolloutWorker pid=14456)\u001b[0m reload save for track : 4\n"
     ]
    },
    {
     "name": "stderr",
     "output_type": "stream",
     "text": [
      "\u001b[2m\u001b[36m(RolloutWorker pid=14456)\u001b[0m c:\\Users\\nadir\\anaconda3\\envs\\GTAI2\\lib\\site-packages\\rtgym\\envs\\real_time_env.py:376: UserWarning: Time-step timed out. Elapsed since last time-step: 0.15709929999491123\n",
      "\u001b[2m\u001b[36m(RolloutWorker pid=14456)\u001b[0m   warnings.warn(f\"Time-step timed out. Elapsed since last time-step: {now - self.__t_end}\")\n"
     ]
    },
    {
     "name": "stdout",
     "output_type": "stream",
     "text": [
      "Loop:  23\n",
      "Loop:  24\n",
      "Loop:  25\n",
      "\u001b[2m\u001b[36m(RolloutWorker pid=14456)\u001b[0m reset triggered\n",
      "\u001b[2m\u001b[36m(RolloutWorker pid=14456)\u001b[0m reload save for track : 4\n"
     ]
    },
    {
     "name": "stderr",
     "output_type": "stream",
     "text": [
      "\u001b[2m\u001b[36m(RolloutWorker pid=14456)\u001b[0m c:\\Users\\nadir\\anaconda3\\envs\\GTAI2\\lib\\site-packages\\rtgym\\envs\\real_time_env.py:376: UserWarning: Time-step timed out. Elapsed since last time-step: 0.16131099999489606\n",
      "\u001b[2m\u001b[36m(RolloutWorker pid=14456)\u001b[0m   warnings.warn(f\"Time-step timed out. Elapsed since last time-step: {now - self.__t_end}\")\n"
     ]
    },
    {
     "name": "stdout",
     "output_type": "stream",
     "text": [
      "Loop:  26\n",
      "Loop:  27\n",
      "Loop:  28\n",
      "\u001b[2m\u001b[36m(RolloutWorker pid=14456)\u001b[0m reset triggered\n",
      "\u001b[2m\u001b[36m(RolloutWorker pid=14456)\u001b[0m reload save for track : 4\n"
     ]
    },
    {
     "name": "stderr",
     "output_type": "stream",
     "text": [
      "\u001b[2m\u001b[36m(RolloutWorker pid=14456)\u001b[0m c:\\Users\\nadir\\anaconda3\\envs\\GTAI2\\lib\\site-packages\\rtgym\\envs\\real_time_env.py:376: UserWarning: Time-step timed out. Elapsed since last time-step: 0.13151829999492293\n",
      "\u001b[2m\u001b[36m(RolloutWorker pid=14456)\u001b[0m   warnings.warn(f\"Time-step timed out. Elapsed since last time-step: {now - self.__t_end}\")\n"
     ]
    },
    {
     "name": "stdout",
     "output_type": "stream",
     "text": [
      "Loop:  29\n",
      "Loop:  30\n",
      "Saved 30\n",
      "Loop:  31\n",
      "Loop:  32\n",
      "\u001b[2m\u001b[36m(RolloutWorker pid=14456)\u001b[0m reset triggered\n",
      "\u001b[2m\u001b[36m(RolloutWorker pid=14456)\u001b[0m reload save for track : 4\n"
     ]
    },
    {
     "name": "stderr",
     "output_type": "stream",
     "text": [
      "\u001b[2m\u001b[36m(RolloutWorker pid=14456)\u001b[0m c:\\Users\\nadir\\anaconda3\\envs\\GTAI2\\lib\\site-packages\\rtgym\\envs\\real_time_env.py:376: UserWarning: Time-step timed out. Elapsed since last time-step: 0.14776149999488553\n",
      "\u001b[2m\u001b[36m(RolloutWorker pid=14456)\u001b[0m   warnings.warn(f\"Time-step timed out. Elapsed since last time-step: {now - self.__t_end}\")\n"
     ]
    },
    {
     "name": "stdout",
     "output_type": "stream",
     "text": [
      "Loop:  33\n",
      "Loop:  34\n",
      "Loop:  35\n",
      "\u001b[2m\u001b[36m(RolloutWorker pid=14456)\u001b[0m reset triggered\n",
      "\u001b[2m\u001b[36m(RolloutWorker pid=14456)\u001b[0m reload save for track : 4\n"
     ]
    },
    {
     "name": "stderr",
     "output_type": "stream",
     "text": [
      "\u001b[2m\u001b[36m(RolloutWorker pid=14456)\u001b[0m c:\\Users\\nadir\\anaconda3\\envs\\GTAI2\\lib\\site-packages\\rtgym\\envs\\real_time_env.py:376: UserWarning: Time-step timed out. Elapsed since last time-step: 0.14478689999492644\n",
      "\u001b[2m\u001b[36m(RolloutWorker pid=14456)\u001b[0m   warnings.warn(f\"Time-step timed out. Elapsed since last time-step: {now - self.__t_end}\")\n"
     ]
    },
    {
     "name": "stdout",
     "output_type": "stream",
     "text": [
      "Loop:  36\n",
      "Loop:  37\n",
      "Loop:  38\n",
      "\u001b[2m\u001b[36m(RolloutWorker pid=14456)\u001b[0m reset triggered\n",
      "\u001b[2m\u001b[36m(RolloutWorker pid=14456)\u001b[0m reload save for track : 4\n"
     ]
    },
    {
     "name": "stderr",
     "output_type": "stream",
     "text": [
      "\u001b[2m\u001b[36m(RolloutWorker pid=14456)\u001b[0m c:\\Users\\nadir\\anaconda3\\envs\\GTAI2\\lib\\site-packages\\rtgym\\envs\\real_time_env.py:376: UserWarning: Time-step timed out. Elapsed since last time-step: 0.14604569999488604\n",
      "\u001b[2m\u001b[36m(RolloutWorker pid=14456)\u001b[0m   warnings.warn(f\"Time-step timed out. Elapsed since last time-step: {now - self.__t_end}\")\n"
     ]
    },
    {
     "name": "stdout",
     "output_type": "stream",
     "text": [
      "Loop:  39\n",
      "Loop:  40\n",
      "Saved 40\n",
      "Loop:  41\n",
      "\u001b[2m\u001b[36m(RolloutWorker pid=14456)\u001b[0m reset triggered\n",
      "\u001b[2m\u001b[36m(RolloutWorker pid=14456)\u001b[0m reload save for track : 4\n"
     ]
    },
    {
     "name": "stderr",
     "output_type": "stream",
     "text": [
      "\u001b[2m\u001b[36m(RolloutWorker pid=14456)\u001b[0m c:\\Users\\nadir\\anaconda3\\envs\\GTAI2\\lib\\site-packages\\rtgym\\envs\\real_time_env.py:376: UserWarning: Time-step timed out. Elapsed since last time-step: 0.15984749999495307\n",
      "\u001b[2m\u001b[36m(RolloutWorker pid=14456)\u001b[0m   warnings.warn(f\"Time-step timed out. Elapsed since last time-step: {now - self.__t_end}\")\n"
     ]
    },
    {
     "name": "stdout",
     "output_type": "stream",
     "text": [
      "Loop:  42\n",
      "Loop:  43\n",
      "Loop:  44\n",
      "Loop:  45\n",
      "\u001b[2m\u001b[36m(RolloutWorker pid=14456)\u001b[0m reset triggered\n",
      "\u001b[2m\u001b[36m(RolloutWorker pid=14456)\u001b[0m reload save for track : 4\n"
     ]
    },
    {
     "name": "stderr",
     "output_type": "stream",
     "text": [
      "\u001b[2m\u001b[36m(RolloutWorker pid=14456)\u001b[0m c:\\Users\\nadir\\anaconda3\\envs\\GTAI2\\lib\\site-packages\\rtgym\\envs\\real_time_env.py:376: UserWarning: Time-step timed out. Elapsed since last time-step: 0.15217699999487877\n",
      "\u001b[2m\u001b[36m(RolloutWorker pid=14456)\u001b[0m   warnings.warn(f\"Time-step timed out. Elapsed since last time-step: {now - self.__t_end}\")\n"
     ]
    },
    {
     "name": "stdout",
     "output_type": "stream",
     "text": [
      "Loop:  46\n",
      "Loop:  47\n",
      "Loop:  48\n",
      "\u001b[2m\u001b[36m(RolloutWorker pid=14456)\u001b[0m reset triggered\n",
      "\u001b[2m\u001b[36m(RolloutWorker pid=14456)\u001b[0m reload save for track : 4\n"
     ]
    },
    {
     "name": "stderr",
     "output_type": "stream",
     "text": [
      "\u001b[2m\u001b[36m(RolloutWorker pid=14456)\u001b[0m c:\\Users\\nadir\\anaconda3\\envs\\GTAI2\\lib\\site-packages\\rtgym\\envs\\real_time_env.py:376: UserWarning: Time-step timed out. Elapsed since last time-step: 0.14695609999489534\n",
      "\u001b[2m\u001b[36m(RolloutWorker pid=14456)\u001b[0m   warnings.warn(f\"Time-step timed out. Elapsed since last time-step: {now - self.__t_end}\")\n"
     ]
    },
    {
     "name": "stdout",
     "output_type": "stream",
     "text": [
      "Loop:  49\n",
      "Loop:  50\n",
      "Saved 50\n",
      "Loop:  51\n",
      "\u001b[2m\u001b[36m(RolloutWorker pid=14456)\u001b[0m reset triggered\n",
      "\u001b[2m\u001b[36m(RolloutWorker pid=14456)\u001b[0m reload save for track : 4\n"
     ]
    },
    {
     "name": "stderr",
     "output_type": "stream",
     "text": [
      "\u001b[2m\u001b[36m(RolloutWorker pid=14456)\u001b[0m c:\\Users\\nadir\\anaconda3\\envs\\GTAI2\\lib\\site-packages\\rtgym\\envs\\real_time_env.py:376: UserWarning: Time-step timed out. Elapsed since last time-step: 0.17060489999494166\n",
      "\u001b[2m\u001b[36m(RolloutWorker pid=14456)\u001b[0m   warnings.warn(f\"Time-step timed out. Elapsed since last time-step: {now - self.__t_end}\")\n"
     ]
    },
    {
     "name": "stdout",
     "output_type": "stream",
     "text": [
      "Loop:  52\n",
      "Loop:  53\n",
      "Loop:  54\n",
      "Loop:  55\n",
      "\u001b[2m\u001b[36m(RolloutWorker pid=14456)\u001b[0m reset triggered\n",
      "\u001b[2m\u001b[36m(RolloutWorker pid=14456)\u001b[0m reload save for track : 4\n"
     ]
    },
    {
     "name": "stderr",
     "output_type": "stream",
     "text": [
      "\u001b[2m\u001b[36m(RolloutWorker pid=14456)\u001b[0m c:\\Users\\nadir\\anaconda3\\envs\\GTAI2\\lib\\site-packages\\rtgym\\envs\\real_time_env.py:376: UserWarning: Time-step timed out. Elapsed since last time-step: 0.13281619999486338\n",
      "\u001b[2m\u001b[36m(RolloutWorker pid=14456)\u001b[0m   warnings.warn(f\"Time-step timed out. Elapsed since last time-step: {now - self.__t_end}\")\n"
     ]
    },
    {
     "name": "stdout",
     "output_type": "stream",
     "text": [
      "Loop:  56\n",
      "Loop:  57\n",
      "Loop:  58\n",
      "\u001b[2m\u001b[36m(RolloutWorker pid=14456)\u001b[0m reset triggered\n",
      "\u001b[2m\u001b[36m(RolloutWorker pid=14456)\u001b[0m reload save for track : 4\n"
     ]
    },
    {
     "name": "stderr",
     "output_type": "stream",
     "text": [
      "\u001b[2m\u001b[36m(RolloutWorker pid=14456)\u001b[0m c:\\Users\\nadir\\anaconda3\\envs\\GTAI2\\lib\\site-packages\\rtgym\\envs\\real_time_env.py:376: UserWarning: Time-step timed out. Elapsed since last time-step: 0.15959249999491476\n",
      "\u001b[2m\u001b[36m(RolloutWorker pid=14456)\u001b[0m   warnings.warn(f\"Time-step timed out. Elapsed since last time-step: {now - self.__t_end}\")\n"
     ]
    },
    {
     "name": "stdout",
     "output_type": "stream",
     "text": [
      "Loop:  59\n",
      "Loop:  60\n",
      "Saved 60\n",
      "Loop:  61\n",
      "\u001b[2m\u001b[36m(RolloutWorker pid=14456)\u001b[0m reset triggered\n",
      "\u001b[2m\u001b[36m(RolloutWorker pid=14456)\u001b[0m reload save for track : 4\n"
     ]
    },
    {
     "name": "stderr",
     "output_type": "stream",
     "text": [
      "\u001b[2m\u001b[36m(RolloutWorker pid=14456)\u001b[0m c:\\Users\\nadir\\anaconda3\\envs\\GTAI2\\lib\\site-packages\\rtgym\\envs\\real_time_env.py:376: UserWarning: Time-step timed out. Elapsed since last time-step: 0.17386129999488276\n",
      "\u001b[2m\u001b[36m(RolloutWorker pid=14456)\u001b[0m   warnings.warn(f\"Time-step timed out. Elapsed since last time-step: {now - self.__t_end}\")\n"
     ]
    },
    {
     "name": "stdout",
     "output_type": "stream",
     "text": [
      "Loop:  62\n",
      "Loop:  63\n",
      "Loop:  64\n",
      "\u001b[2m\u001b[36m(RolloutWorker pid=14456)\u001b[0m reset triggered\n",
      "\u001b[2m\u001b[36m(RolloutWorker pid=14456)\u001b[0m reload save for track : 4\n"
     ]
    },
    {
     "name": "stderr",
     "output_type": "stream",
     "text": [
      "\u001b[2m\u001b[36m(RolloutWorker pid=14456)\u001b[0m c:\\Users\\nadir\\anaconda3\\envs\\GTAI2\\lib\\site-packages\\rtgym\\envs\\real_time_env.py:376: UserWarning: Time-step timed out. Elapsed since last time-step: 0.11718449999500535\n",
      "\u001b[2m\u001b[36m(RolloutWorker pid=14456)\u001b[0m   warnings.warn(f\"Time-step timed out. Elapsed since last time-step: {now - self.__t_end}\")\n"
     ]
    },
    {
     "name": "stdout",
     "output_type": "stream",
     "text": [
      "Loop:  65\n",
      "Loop:  66\n",
      "Loop:  67\n",
      "Loop:  68\n",
      "\u001b[2m\u001b[36m(RolloutWorker pid=14456)\u001b[0m reset triggered\n",
      "\u001b[2m\u001b[36m(RolloutWorker pid=14456)\u001b[0m reload save for track : 4\n"
     ]
    },
    {
     "name": "stderr",
     "output_type": "stream",
     "text": [
      "\u001b[2m\u001b[36m(RolloutWorker pid=14456)\u001b[0m c:\\Users\\nadir\\anaconda3\\envs\\GTAI2\\lib\\site-packages\\rtgym\\envs\\real_time_env.py:376: UserWarning: Time-step timed out. Elapsed since last time-step: 0.15644459999487026\n",
      "\u001b[2m\u001b[36m(RolloutWorker pid=14456)\u001b[0m   warnings.warn(f\"Time-step timed out. Elapsed since last time-step: {now - self.__t_end}\")\n"
     ]
    },
    {
     "name": "stdout",
     "output_type": "stream",
     "text": [
      "Loop:  69\n",
      "Loop:  70\n",
      "Saved 70\n",
      "Loop:  71\n",
      "\u001b[2m\u001b[36m(RolloutWorker pid=14456)\u001b[0m reset triggered\n",
      "\u001b[2m\u001b[36m(RolloutWorker pid=14456)\u001b[0m reload save for track : 4\n"
     ]
    },
    {
     "name": "stderr",
     "output_type": "stream",
     "text": [
      "\u001b[2m\u001b[36m(RolloutWorker pid=14456)\u001b[0m c:\\Users\\nadir\\anaconda3\\envs\\GTAI2\\lib\\site-packages\\rtgym\\envs\\real_time_env.py:376: UserWarning: Time-step timed out. Elapsed since last time-step: 0.1229986999949233\n",
      "\u001b[2m\u001b[36m(RolloutWorker pid=14456)\u001b[0m   warnings.warn(f\"Time-step timed out. Elapsed since last time-step: {now - self.__t_end}\")\n"
     ]
    },
    {
     "name": "stdout",
     "output_type": "stream",
     "text": [
      "Loop:  72\n",
      "Loop:  73\n",
      "Loop:  74\n",
      "\u001b[2m\u001b[36m(RolloutWorker pid=14456)\u001b[0m reset triggered\n",
      "\u001b[2m\u001b[36m(RolloutWorker pid=14456)\u001b[0m reload save for track : 4\n"
     ]
    },
    {
     "name": "stderr",
     "output_type": "stream",
     "text": [
      "\u001b[2m\u001b[36m(RolloutWorker pid=14456)\u001b[0m c:\\Users\\nadir\\anaconda3\\envs\\GTAI2\\lib\\site-packages\\rtgym\\envs\\real_time_env.py:376: UserWarning: Time-step timed out. Elapsed since last time-step: 0.15782269999488108\n",
      "\u001b[2m\u001b[36m(RolloutWorker pid=14456)\u001b[0m   warnings.warn(f\"Time-step timed out. Elapsed since last time-step: {now - self.__t_end}\")\n"
     ]
    },
    {
     "name": "stdout",
     "output_type": "stream",
     "text": [
      "Loop:  75\n",
      "Loop:  76\n",
      "Loop:  77\n",
      "Loop:  78\n",
      "\u001b[2m\u001b[36m(RolloutWorker pid=14456)\u001b[0m reset triggered\n",
      "\u001b[2m\u001b[36m(RolloutWorker pid=14456)\u001b[0m reload save for track : 4\n"
     ]
    },
    {
     "name": "stderr",
     "output_type": "stream",
     "text": [
      "\u001b[2m\u001b[36m(RolloutWorker pid=14456)\u001b[0m c:\\Users\\nadir\\anaconda3\\envs\\GTAI2\\lib\\site-packages\\rtgym\\envs\\real_time_env.py:376: UserWarning: Time-step timed out. Elapsed since last time-step: 0.14258249999488726\n",
      "\u001b[2m\u001b[36m(RolloutWorker pid=14456)\u001b[0m   warnings.warn(f\"Time-step timed out. Elapsed since last time-step: {now - self.__t_end}\")\n"
     ]
    },
    {
     "name": "stdout",
     "output_type": "stream",
     "text": [
      "Loop:  79\n",
      "Loop:  80\n",
      "Saved 80\n",
      "Loop:  81\n",
      "\u001b[2m\u001b[36m(RolloutWorker pid=14456)\u001b[0m reset triggered\n",
      "\u001b[2m\u001b[36m(RolloutWorker pid=14456)\u001b[0m reload save for track : 4\n"
     ]
    },
    {
     "name": "stderr",
     "output_type": "stream",
     "text": [
      "\u001b[2m\u001b[36m(RolloutWorker pid=14456)\u001b[0m c:\\Users\\nadir\\anaconda3\\envs\\GTAI2\\lib\\site-packages\\rtgym\\envs\\real_time_env.py:376: UserWarning: Time-step timed out. Elapsed since last time-step: 0.137378999994894\n",
      "\u001b[2m\u001b[36m(RolloutWorker pid=14456)\u001b[0m   warnings.warn(f\"Time-step timed out. Elapsed since last time-step: {now - self.__t_end}\")\n"
     ]
    },
    {
     "name": "stdout",
     "output_type": "stream",
     "text": [
      "Loop:  82\n",
      "Loop:  83\n",
      "Loop:  84\n",
      "\u001b[2m\u001b[36m(RolloutWorker pid=14456)\u001b[0m reset triggered\n",
      "\u001b[2m\u001b[36m(RolloutWorker pid=14456)\u001b[0m reload save for track : 4\n"
     ]
    },
    {
     "name": "stderr",
     "output_type": "stream",
     "text": [
      "\u001b[2m\u001b[36m(RolloutWorker pid=14456)\u001b[0m c:\\Users\\nadir\\anaconda3\\envs\\GTAI2\\lib\\site-packages\\rtgym\\envs\\real_time_env.py:376: UserWarning: Time-step timed out. Elapsed since last time-step: 0.1496515999949679\n",
      "\u001b[2m\u001b[36m(RolloutWorker pid=14456)\u001b[0m   warnings.warn(f\"Time-step timed out. Elapsed since last time-step: {now - self.__t_end}\")\n"
     ]
    },
    {
     "name": "stdout",
     "output_type": "stream",
     "text": [
      "Loop:  85\n",
      "Loop:  86\n",
      "Loop:  87\n",
      "\u001b[2m\u001b[36m(RolloutWorker pid=14456)\u001b[0m reset triggered\n",
      "\u001b[2m\u001b[36m(RolloutWorker pid=14456)\u001b[0m reload save for track : 4\n"
     ]
    },
    {
     "name": "stderr",
     "output_type": "stream",
     "text": [
      "\u001b[2m\u001b[36m(RolloutWorker pid=14456)\u001b[0m c:\\Users\\nadir\\anaconda3\\envs\\GTAI2\\lib\\site-packages\\rtgym\\envs\\real_time_env.py:376: UserWarning: Time-step timed out. Elapsed since last time-step: 0.15290179999487918\n",
      "\u001b[2m\u001b[36m(RolloutWorker pid=14456)\u001b[0m   warnings.warn(f\"Time-step timed out. Elapsed since last time-step: {now - self.__t_end}\")\n"
     ]
    },
    {
     "name": "stdout",
     "output_type": "stream",
     "text": [
      "Loop:  88\n",
      "Loop:  89\n",
      "Loop:  90\n",
      "Saved 90\n",
      "Loop:  91\n",
      "\u001b[2m\u001b[36m(RolloutWorker pid=14456)\u001b[0m reset triggered\n",
      "\u001b[2m\u001b[36m(RolloutWorker pid=14456)\u001b[0m reload save for track : 4\n"
     ]
    },
    {
     "name": "stderr",
     "output_type": "stream",
     "text": [
      "\u001b[2m\u001b[36m(RolloutWorker pid=14456)\u001b[0m c:\\Users\\nadir\\anaconda3\\envs\\GTAI2\\lib\\site-packages\\rtgym\\envs\\real_time_env.py:376: UserWarning: Time-step timed out. Elapsed since last time-step: 0.16064349999487604\n",
      "\u001b[2m\u001b[36m(RolloutWorker pid=14456)\u001b[0m   warnings.warn(f\"Time-step timed out. Elapsed since last time-step: {now - self.__t_end}\")\n"
     ]
    },
    {
     "name": "stdout",
     "output_type": "stream",
     "text": [
      "Loop:  92\n",
      "Loop:  93\n",
      "Loop:  94\n",
      "\u001b[2m\u001b[36m(RolloutWorker pid=14456)\u001b[0m reset triggered\n",
      "\u001b[2m\u001b[36m(RolloutWorker pid=14456)\u001b[0m reload save for track : 4\n"
     ]
    },
    {
     "name": "stderr",
     "output_type": "stream",
     "text": [
      "\u001b[2m\u001b[36m(RolloutWorker pid=14456)\u001b[0m c:\\Users\\nadir\\anaconda3\\envs\\GTAI2\\lib\\site-packages\\rtgym\\envs\\real_time_env.py:376: UserWarning: Time-step timed out. Elapsed since last time-step: 0.1631866999949807\n",
      "\u001b[2m\u001b[36m(RolloutWorker pid=14456)\u001b[0m   warnings.warn(f\"Time-step timed out. Elapsed since last time-step: {now - self.__t_end}\")\n"
     ]
    },
    {
     "name": "stdout",
     "output_type": "stream",
     "text": [
      "Loop:  95\n",
      "Loop:  96\n",
      "Loop:  97\n",
      "\u001b[2m\u001b[36m(RolloutWorker pid=14456)\u001b[0m reset triggered\n",
      "\u001b[2m\u001b[36m(RolloutWorker pid=14456)\u001b[0m reload save for track : 4\n"
     ]
    },
    {
     "name": "stderr",
     "output_type": "stream",
     "text": [
      "\u001b[2m\u001b[36m(RolloutWorker pid=14456)\u001b[0m c:\\Users\\nadir\\anaconda3\\envs\\GTAI2\\lib\\site-packages\\rtgym\\envs\\real_time_env.py:376: UserWarning: Time-step timed out. Elapsed since last time-step: 0.13584379999485918\n",
      "\u001b[2m\u001b[36m(RolloutWorker pid=14456)\u001b[0m   warnings.warn(f\"Time-step timed out. Elapsed since last time-step: {now - self.__t_end}\")\n"
     ]
    },
    {
     "name": "stdout",
     "output_type": "stream",
     "text": [
      "Loop:  98\n",
      "Loop:  99\n",
      "Loop:  100\n",
      "Saved 100\n",
      "Loop:  101\n",
      "\u001b[2m\u001b[36m(RolloutWorker pid=14456)\u001b[0m reset triggered\n",
      "\u001b[2m\u001b[36m(RolloutWorker pid=14456)\u001b[0m reload save for track : 4\n"
     ]
    },
    {
     "name": "stderr",
     "output_type": "stream",
     "text": [
      "\u001b[2m\u001b[36m(RolloutWorker pid=14456)\u001b[0m c:\\Users\\nadir\\anaconda3\\envs\\GTAI2\\lib\\site-packages\\rtgym\\envs\\real_time_env.py:376: UserWarning: Time-step timed out. Elapsed since last time-step: 0.14745329999493606\n",
      "\u001b[2m\u001b[36m(RolloutWorker pid=14456)\u001b[0m   warnings.warn(f\"Time-step timed out. Elapsed since last time-step: {now - self.__t_end}\")\n"
     ]
    },
    {
     "name": "stdout",
     "output_type": "stream",
     "text": [
      "Loop:  102\n",
      "Loop:  103\n",
      "Loop:  104\n",
      "\u001b[2m\u001b[36m(RolloutWorker pid=14456)\u001b[0m reset triggered\n",
      "\u001b[2m\u001b[36m(RolloutWorker pid=14456)\u001b[0m reload save for track : 4\n"
     ]
    },
    {
     "name": "stderr",
     "output_type": "stream",
     "text": [
      "\u001b[2m\u001b[36m(RolloutWorker pid=14456)\u001b[0m c:\\Users\\nadir\\anaconda3\\envs\\GTAI2\\lib\\site-packages\\rtgym\\envs\\real_time_env.py:376: UserWarning: Time-step timed out. Elapsed since last time-step: 0.16100009999490794\n",
      "\u001b[2m\u001b[36m(RolloutWorker pid=14456)\u001b[0m   warnings.warn(f\"Time-step timed out. Elapsed since last time-step: {now - self.__t_end}\")\n"
     ]
    },
    {
     "name": "stdout",
     "output_type": "stream",
     "text": [
      "Loop:  105\n",
      "Loop:  106\n",
      "Loop:  107\n",
      "\u001b[2m\u001b[36m(RolloutWorker pid=14456)\u001b[0m reset triggered\n",
      "\u001b[2m\u001b[36m(RolloutWorker pid=14456)\u001b[0m reload save for track : 4\n"
     ]
    },
    {
     "name": "stderr",
     "output_type": "stream",
     "text": [
      "\u001b[2m\u001b[36m(RolloutWorker pid=14456)\u001b[0m c:\\Users\\nadir\\anaconda3\\envs\\GTAI2\\lib\\site-packages\\rtgym\\envs\\real_time_env.py:376: UserWarning: Time-step timed out. Elapsed since last time-step: 0.14293789999487672\n",
      "\u001b[2m\u001b[36m(RolloutWorker pid=14456)\u001b[0m   warnings.warn(f\"Time-step timed out. Elapsed since last time-step: {now - self.__t_end}\")\n"
     ]
    },
    {
     "name": "stdout",
     "output_type": "stream",
     "text": [
      "Loop:  108\n",
      "Loop:  109\n",
      "Loop:  110\n",
      "Saved 110\n",
      "\u001b[2m\u001b[36m(RolloutWorker pid=14456)\u001b[0m reset triggered\n",
      "\u001b[2m\u001b[36m(RolloutWorker pid=14456)\u001b[0m reload save for track : 4\n"
     ]
    },
    {
     "name": "stderr",
     "output_type": "stream",
     "text": [
      "\u001b[2m\u001b[36m(RolloutWorker pid=14456)\u001b[0m c:\\Users\\nadir\\anaconda3\\envs\\GTAI2\\lib\\site-packages\\rtgym\\envs\\real_time_env.py:376: UserWarning: Time-step timed out. Elapsed since last time-step: 0.15685869999492752\n",
      "\u001b[2m\u001b[36m(RolloutWorker pid=14456)\u001b[0m   warnings.warn(f\"Time-step timed out. Elapsed since last time-step: {now - self.__t_end}\")\n"
     ]
    },
    {
     "name": "stdout",
     "output_type": "stream",
     "text": [
      "Loop:  111\n",
      "Loop:  112\n",
      "Loop:  113\n",
      "Loop:  114\n",
      "\u001b[2m\u001b[36m(RolloutWorker pid=14456)\u001b[0m reset triggered\n",
      "\u001b[2m\u001b[36m(RolloutWorker pid=14456)\u001b[0m reload save for track : 4\n"
     ]
    },
    {
     "name": "stderr",
     "output_type": "stream",
     "text": [
      "\u001b[2m\u001b[36m(RolloutWorker pid=14456)\u001b[0m c:\\Users\\nadir\\anaconda3\\envs\\GTAI2\\lib\\site-packages\\rtgym\\envs\\real_time_env.py:376: UserWarning: Time-step timed out. Elapsed since last time-step: 0.1693599999948674\n",
      "\u001b[2m\u001b[36m(RolloutWorker pid=14456)\u001b[0m   warnings.warn(f\"Time-step timed out. Elapsed since last time-step: {now - self.__t_end}\")\n"
     ]
    },
    {
     "name": "stdout",
     "output_type": "stream",
     "text": [
      "Loop:  115\n",
      "Loop:  116\n",
      "Loop:  117\n",
      "\u001b[2m\u001b[36m(RolloutWorker pid=14456)\u001b[0m reset triggered\n",
      "\u001b[2m\u001b[36m(RolloutWorker pid=14456)\u001b[0m reload save for track : 4\n"
     ]
    },
    {
     "name": "stderr",
     "output_type": "stream",
     "text": [
      "\u001b[2m\u001b[36m(RolloutWorker pid=14456)\u001b[0m c:\\Users\\nadir\\anaconda3\\envs\\GTAI2\\lib\\site-packages\\rtgym\\envs\\real_time_env.py:376: UserWarning: Time-step timed out. Elapsed since last time-step: 0.13497989999495985\n",
      "\u001b[2m\u001b[36m(RolloutWorker pid=14456)\u001b[0m   warnings.warn(f\"Time-step timed out. Elapsed since last time-step: {now - self.__t_end}\")\n"
     ]
    },
    {
     "name": "stdout",
     "output_type": "stream",
     "text": [
      "Loop:  118\n",
      "Loop:  119\n",
      "Loop:  120\n",
      "Saved 120\n",
      "\u001b[2m\u001b[36m(RolloutWorker pid=14456)\u001b[0m reset triggered\n",
      "\u001b[2m\u001b[36m(RolloutWorker pid=14456)\u001b[0m reload save for track : 4\n"
     ]
    },
    {
     "name": "stderr",
     "output_type": "stream",
     "text": [
      "\u001b[2m\u001b[36m(RolloutWorker pid=14456)\u001b[0m c:\\Users\\nadir\\anaconda3\\envs\\GTAI2\\lib\\site-packages\\rtgym\\envs\\real_time_env.py:376: UserWarning: Time-step timed out. Elapsed since last time-step: 0.16817189999483162\n",
      "\u001b[2m\u001b[36m(RolloutWorker pid=14456)\u001b[0m   warnings.warn(f\"Time-step timed out. Elapsed since last time-step: {now - self.__t_end}\")\n"
     ]
    },
    {
     "name": "stdout",
     "output_type": "stream",
     "text": [
      "Loop:  121\n",
      "Loop:  122\n",
      "Loop:  123\n",
      "\u001b[2m\u001b[36m(RolloutWorker pid=14456)\u001b[0m reset triggered\n",
      "\u001b[2m\u001b[36m(RolloutWorker pid=14456)\u001b[0m reload save for track : 4\n",
      "Loop:  124\n"
     ]
    },
    {
     "name": "stderr",
     "output_type": "stream",
     "text": [
      "\u001b[2m\u001b[36m(RolloutWorker pid=14456)\u001b[0m c:\\Users\\nadir\\anaconda3\\envs\\GTAI2\\lib\\site-packages\\rtgym\\envs\\real_time_env.py:376: UserWarning: Time-step timed out. Elapsed since last time-step: 0.14706329999489753\n",
      "\u001b[2m\u001b[36m(RolloutWorker pid=14456)\u001b[0m   warnings.warn(f\"Time-step timed out. Elapsed since last time-step: {now - self.__t_end}\")\n"
     ]
    },
    {
     "name": "stdout",
     "output_type": "stream",
     "text": [
      "Loop:  125\n",
      "Loop:  126\n",
      "Loop:  127\n",
      "\u001b[2m\u001b[36m(RolloutWorker pid=14456)\u001b[0m reset triggered\n",
      "\u001b[2m\u001b[36m(RolloutWorker pid=14456)\u001b[0m reload save for track : 4\n"
     ]
    },
    {
     "name": "stderr",
     "output_type": "stream",
     "text": [
      "\u001b[2m\u001b[36m(RolloutWorker pid=14456)\u001b[0m c:\\Users\\nadir\\anaconda3\\envs\\GTAI2\\lib\\site-packages\\rtgym\\envs\\real_time_env.py:376: UserWarning: Time-step timed out. Elapsed since last time-step: 0.17080259999499958\n",
      "\u001b[2m\u001b[36m(RolloutWorker pid=14456)\u001b[0m   warnings.warn(f\"Time-step timed out. Elapsed since last time-step: {now - self.__t_end}\")\n"
     ]
    },
    {
     "name": "stdout",
     "output_type": "stream",
     "text": [
      "Loop:  128\n",
      "Loop:  129\n",
      "Loop:  130\n",
      "Saved 130\n",
      "\u001b[2m\u001b[36m(RolloutWorker pid=14456)\u001b[0m reset triggered\n",
      "\u001b[2m\u001b[36m(RolloutWorker pid=14456)\u001b[0m reload save for track : 4\n"
     ]
    },
    {
     "name": "stderr",
     "output_type": "stream",
     "text": [
      "\u001b[2m\u001b[36m(RolloutWorker pid=14456)\u001b[0m c:\\Users\\nadir\\anaconda3\\envs\\GTAI2\\lib\\site-packages\\rtgym\\envs\\real_time_env.py:376: UserWarning: Time-step timed out. Elapsed since last time-step: 0.16293450000716803\n",
      "\u001b[2m\u001b[36m(RolloutWorker pid=14456)\u001b[0m   warnings.warn(f\"Time-step timed out. Elapsed since last time-step: {now - self.__t_end}\")\n"
     ]
    },
    {
     "name": "stdout",
     "output_type": "stream",
     "text": [
      "Loop:  131\n",
      "Loop:  132\n",
      "Loop:  133\n",
      "\u001b[2m\u001b[36m(RolloutWorker pid=14456)\u001b[0m reset triggered\n",
      "\u001b[2m\u001b[36m(RolloutWorker pid=14456)\u001b[0m reload save for track : 4\n"
     ]
    },
    {
     "name": "stderr",
     "output_type": "stream",
     "text": [
      "\u001b[2m\u001b[36m(RolloutWorker pid=14456)\u001b[0m c:\\Users\\nadir\\anaconda3\\envs\\GTAI2\\lib\\site-packages\\rtgym\\envs\\real_time_env.py:376: UserWarning: Time-step timed out. Elapsed since last time-step: 0.15042770002037287\n",
      "\u001b[2m\u001b[36m(RolloutWorker pid=14456)\u001b[0m   warnings.warn(f\"Time-step timed out. Elapsed since last time-step: {now - self.__t_end}\")\n"
     ]
    },
    {
     "name": "stdout",
     "output_type": "stream",
     "text": [
      "Loop:  134\n",
      "Loop:  135\n",
      "Loop:  136\n",
      "Loop:  137\n",
      "\u001b[2m\u001b[36m(RolloutWorker pid=14456)\u001b[0m reset triggered\n",
      "\u001b[2m\u001b[36m(RolloutWorker pid=14456)\u001b[0m reload save for track : 4\n"
     ]
    },
    {
     "name": "stderr",
     "output_type": "stream",
     "text": [
      "\u001b[2m\u001b[36m(RolloutWorker pid=14456)\u001b[0m c:\\Users\\nadir\\anaconda3\\envs\\GTAI2\\lib\\site-packages\\rtgym\\envs\\real_time_env.py:376: UserWarning: Time-step timed out. Elapsed since last time-step: 0.15658260002032875\n",
      "\u001b[2m\u001b[36m(RolloutWorker pid=14456)\u001b[0m   warnings.warn(f\"Time-step timed out. Elapsed since last time-step: {now - self.__t_end}\")\n"
     ]
    },
    {
     "name": "stdout",
     "output_type": "stream",
     "text": [
      "Loop:  138\n",
      "Loop:  139\n",
      "Loop:  140\n",
      "Saved 140\n",
      "\u001b[2m\u001b[36m(RolloutWorker pid=14456)\u001b[0m reset triggered\n",
      "\u001b[2m\u001b[36m(RolloutWorker pid=14456)\u001b[0m reload save for track : 4\n"
     ]
    },
    {
     "name": "stderr",
     "output_type": "stream",
     "text": [
      "\u001b[2m\u001b[36m(RolloutWorker pid=14456)\u001b[0m c:\\Users\\nadir\\anaconda3\\envs\\GTAI2\\lib\\site-packages\\rtgym\\envs\\real_time_env.py:376: UserWarning: Time-step timed out. Elapsed since last time-step: 0.18992830002048322\n",
      "\u001b[2m\u001b[36m(RolloutWorker pid=14456)\u001b[0m   warnings.warn(f\"Time-step timed out. Elapsed since last time-step: {now - self.__t_end}\")\n"
     ]
    },
    {
     "name": "stdout",
     "output_type": "stream",
     "text": [
      "Loop:  141\n",
      "Loop:  142\n",
      "Loop:  143\n",
      "\u001b[2m\u001b[36m(RolloutWorker pid=14456)\u001b[0m reset triggered\n",
      "\u001b[2m\u001b[36m(RolloutWorker pid=14456)\u001b[0m reload save for track : 4\n"
     ]
    },
    {
     "name": "stderr",
     "output_type": "stream",
     "text": [
      "\u001b[2m\u001b[36m(RolloutWorker pid=14456)\u001b[0m c:\\Users\\nadir\\anaconda3\\envs\\GTAI2\\lib\\site-packages\\rtgym\\envs\\real_time_env.py:376: UserWarning: Time-step timed out. Elapsed since last time-step: 0.14359120002018244\n",
      "\u001b[2m\u001b[36m(RolloutWorker pid=14456)\u001b[0m   warnings.warn(f\"Time-step timed out. Elapsed since last time-step: {now - self.__t_end}\")\n"
     ]
    },
    {
     "name": "stdout",
     "output_type": "stream",
     "text": [
      "Loop:  144\n",
      "Loop:  145\n",
      "Loop:  146\n",
      "Loop:  147\n",
      "\u001b[2m\u001b[36m(RolloutWorker pid=14456)\u001b[0m reset triggered\n",
      "\u001b[2m\u001b[36m(RolloutWorker pid=14456)\u001b[0m reload save for track : 4\n"
     ]
    },
    {
     "name": "stderr",
     "output_type": "stream",
     "text": [
      "\u001b[2m\u001b[36m(RolloutWorker pid=14456)\u001b[0m c:\\Users\\nadir\\anaconda3\\envs\\GTAI2\\lib\\site-packages\\rtgym\\envs\\real_time_env.py:376: UserWarning: Time-step timed out. Elapsed since last time-step: 0.14591240002050654\n",
      "\u001b[2m\u001b[36m(RolloutWorker pid=14456)\u001b[0m   warnings.warn(f\"Time-step timed out. Elapsed since last time-step: {now - self.__t_end}\")\n"
     ]
    },
    {
     "name": "stdout",
     "output_type": "stream",
     "text": [
      "Loop:  148\n",
      "Loop:  149\n",
      "Loop:  150\n",
      "Saved 150\n",
      "\u001b[2m\u001b[36m(RolloutWorker pid=14456)\u001b[0m reset triggered\n",
      "\u001b[2m\u001b[36m(RolloutWorker pid=14456)\u001b[0m reload save for track : 4\n"
     ]
    },
    {
     "name": "stderr",
     "output_type": "stream",
     "text": [
      "\u001b[2m\u001b[36m(RolloutWorker pid=14456)\u001b[0m c:\\Users\\nadir\\anaconda3\\envs\\GTAI2\\lib\\site-packages\\rtgym\\envs\\real_time_env.py:376: UserWarning: Time-step timed out. Elapsed since last time-step: 0.1332692000203224\n",
      "\u001b[2m\u001b[36m(RolloutWorker pid=14456)\u001b[0m   warnings.warn(f\"Time-step timed out. Elapsed since last time-step: {now - self.__t_end}\")\n"
     ]
    },
    {
     "name": "stdout",
     "output_type": "stream",
     "text": [
      "Loop:  151\n",
      "Loop:  152\n",
      "Loop:  153\n"
     ]
    },
    {
     "name": "stderr",
     "output_type": "stream",
     "text": [
      "\u001b[2m\u001b[36m(RolloutWorker pid=14456)\u001b[0m c:\\Users\\nadir\\anaconda3\\envs\\GTAI2\\lib\\site-packages\\rtgym\\envs\\real_time_env.py:376: UserWarning: Time-step timed out. Elapsed since last time-step: 0.15486320001900822\n",
      "\u001b[2m\u001b[36m(RolloutWorker pid=14456)\u001b[0m   warnings.warn(f\"Time-step timed out. Elapsed since last time-step: {now - self.__t_end}\")\n"
     ]
    },
    {
     "name": "stdout",
     "output_type": "stream",
     "text": [
      "\u001b[2m\u001b[36m(RolloutWorker pid=14456)\u001b[0m reset triggered\n",
      "\u001b[2m\u001b[36m(RolloutWorker pid=14456)\u001b[0m reload save for track : 4\n"
     ]
    },
    {
     "name": "stderr",
     "output_type": "stream",
     "text": [
      "\u001b[2m\u001b[36m(RolloutWorker pid=14456)\u001b[0m c:\\Users\\nadir\\anaconda3\\envs\\GTAI2\\lib\\site-packages\\rtgym\\envs\\real_time_env.py:376: UserWarning: Time-step timed out. Elapsed since last time-step: 0.1527140000014242\n",
      "\u001b[2m\u001b[36m(RolloutWorker pid=14456)\u001b[0m   warnings.warn(f\"Time-step timed out. Elapsed since last time-step: {now - self.__t_end}\")\n"
     ]
    },
    {
     "name": "stdout",
     "output_type": "stream",
     "text": [
      "Loop:  154\n",
      "Loop:  155\n",
      "Loop:  156\n",
      "Loop:  157\n",
      "\u001b[2m\u001b[36m(RolloutWorker pid=14456)\u001b[0m reset triggered\n",
      "\u001b[2m\u001b[36m(RolloutWorker pid=14456)\u001b[0m reload save for track : 4\n"
     ]
    },
    {
     "name": "stderr",
     "output_type": "stream",
     "text": [
      "\u001b[2m\u001b[36m(RolloutWorker pid=14456)\u001b[0m c:\\Users\\nadir\\anaconda3\\envs\\GTAI2\\lib\\site-packages\\rtgym\\envs\\real_time_env.py:376: UserWarning: Time-step timed out. Elapsed since last time-step: 0.12307760002022405\n",
      "\u001b[2m\u001b[36m(RolloutWorker pid=14456)\u001b[0m   warnings.warn(f\"Time-step timed out. Elapsed since last time-step: {now - self.__t_end}\")\n"
     ]
    },
    {
     "name": "stdout",
     "output_type": "stream",
     "text": [
      "Loop:  158\n",
      "Loop:  159\n",
      "Loop:  160\n",
      "Saved 160\n",
      "\u001b[2m\u001b[36m(RolloutWorker pid=14456)\u001b[0m reset triggered\n",
      "\u001b[2m\u001b[36m(RolloutWorker pid=14456)\u001b[0m reload save for track : 4\n"
     ]
    },
    {
     "name": "stderr",
     "output_type": "stream",
     "text": [
      "\u001b[2m\u001b[36m(RolloutWorker pid=14456)\u001b[0m c:\\Users\\nadir\\anaconda3\\envs\\GTAI2\\lib\\site-packages\\rtgym\\envs\\real_time_env.py:376: UserWarning: Time-step timed out. Elapsed since last time-step: 0.15729470002042945\n",
      "\u001b[2m\u001b[36m(RolloutWorker pid=14456)\u001b[0m   warnings.warn(f\"Time-step timed out. Elapsed since last time-step: {now - self.__t_end}\")\n"
     ]
    },
    {
     "name": "stdout",
     "output_type": "stream",
     "text": [
      "Loop:  161\n",
      "Loop:  162\n",
      "Loop:  163\n",
      "\u001b[2m\u001b[36m(RolloutWorker pid=14456)\u001b[0m reset triggered\n",
      "\u001b[2m\u001b[36m(RolloutWorker pid=14456)\u001b[0m reload save for track : 4\n"
     ]
    },
    {
     "name": "stderr",
     "output_type": "stream",
     "text": [
      "\u001b[2m\u001b[36m(RolloutWorker pid=14456)\u001b[0m c:\\Users\\nadir\\anaconda3\\envs\\GTAI2\\lib\\site-packages\\rtgym\\envs\\real_time_env.py:376: UserWarning: Time-step timed out. Elapsed since last time-step: 0.12252560002048085\n",
      "\u001b[2m\u001b[36m(RolloutWorker pid=14456)\u001b[0m   warnings.warn(f\"Time-step timed out. Elapsed since last time-step: {now - self.__t_end}\")\n"
     ]
    },
    {
     "name": "stdout",
     "output_type": "stream",
     "text": [
      "Loop:  164\n",
      "Loop:  165\n",
      "Loop:  166\n",
      "\u001b[2m\u001b[36m(RolloutWorker pid=14456)\u001b[0m reset triggered\n",
      "\u001b[2m\u001b[36m(RolloutWorker pid=14456)\u001b[0m reload save for track : 4\n",
      "Loop:  167\n"
     ]
    },
    {
     "name": "stderr",
     "output_type": "stream",
     "text": [
      "\u001b[2m\u001b[36m(RolloutWorker pid=14456)\u001b[0m c:\\Users\\nadir\\anaconda3\\envs\\GTAI2\\lib\\site-packages\\rtgym\\envs\\real_time_env.py:376: UserWarning: Time-step timed out. Elapsed since last time-step: 0.15747980002038275\n",
      "\u001b[2m\u001b[36m(RolloutWorker pid=14456)\u001b[0m   warnings.warn(f\"Time-step timed out. Elapsed since last time-step: {now - self.__t_end}\")\n"
     ]
    },
    {
     "name": "stdout",
     "output_type": "stream",
     "text": [
      "Loop:  168\n",
      "Loop:  169\n",
      "Loop:  170\n",
      "Saved 170\n",
      "\u001b[2m\u001b[36m(RolloutWorker pid=14456)\u001b[0m reset triggered\n",
      "\u001b[2m\u001b[36m(RolloutWorker pid=14456)\u001b[0m reload save for track : 4\n"
     ]
    },
    {
     "name": "stderr",
     "output_type": "stream",
     "text": [
      "\u001b[2m\u001b[36m(RolloutWorker pid=14456)\u001b[0m c:\\Users\\nadir\\anaconda3\\envs\\GTAI2\\lib\\site-packages\\rtgym\\envs\\real_time_env.py:376: UserWarning: Time-step timed out. Elapsed since last time-step: 0.1452756000203408\n",
      "\u001b[2m\u001b[36m(RolloutWorker pid=14456)\u001b[0m   warnings.warn(f\"Time-step timed out. Elapsed since last time-step: {now - self.__t_end}\")\n"
     ]
    },
    {
     "name": "stdout",
     "output_type": "stream",
     "text": [
      "Loop:  171\n",
      "Loop:  172\n",
      "Loop:  173\n",
      "\u001b[2m\u001b[36m(RolloutWorker pid=14456)\u001b[0m reset triggered\n",
      "\u001b[2m\u001b[36m(RolloutWorker pid=14456)\u001b[0m reload save for track : 4\n"
     ]
    },
    {
     "name": "stderr",
     "output_type": "stream",
     "text": [
      "\u001b[2m\u001b[36m(RolloutWorker pid=14456)\u001b[0m c:\\Users\\nadir\\anaconda3\\envs\\GTAI2\\lib\\site-packages\\rtgym\\envs\\real_time_env.py:376: UserWarning: Time-step timed out. Elapsed since last time-step: 0.1344019000202934\n",
      "\u001b[2m\u001b[36m(RolloutWorker pid=14456)\u001b[0m   warnings.warn(f\"Time-step timed out. Elapsed since last time-step: {now - self.__t_end}\")\n"
     ]
    },
    {
     "name": "stdout",
     "output_type": "stream",
     "text": [
      "Loop:  174\n",
      "Loop:  175\n",
      "Loop:  176\n",
      "\u001b[2m\u001b[36m(RolloutWorker pid=14456)\u001b[0m reset triggered\n",
      "\u001b[2m\u001b[36m(RolloutWorker pid=14456)\u001b[0m reload save for track : 4\n"
     ]
    },
    {
     "name": "stderr",
     "output_type": "stream",
     "text": [
      "\u001b[2m\u001b[36m(RolloutWorker pid=14456)\u001b[0m c:\\Users\\nadir\\anaconda3\\envs\\GTAI2\\lib\\site-packages\\rtgym\\envs\\real_time_env.py:376: UserWarning: Time-step timed out. Elapsed since last time-step: 0.17029080002043884\n",
      "\u001b[2m\u001b[36m(RolloutWorker pid=14456)\u001b[0m   warnings.warn(f\"Time-step timed out. Elapsed since last time-step: {now - self.__t_end}\")\n"
     ]
    },
    {
     "name": "stdout",
     "output_type": "stream",
     "text": [
      "Loop:  177\n",
      "Loop:  178\n",
      "Loop:  179\n",
      "\u001b[2m\u001b[36m(RolloutWorker pid=14456)\u001b[0m reset triggered\n",
      "\u001b[2m\u001b[36m(RolloutWorker pid=14456)\u001b[0m reload save for track : 4\n"
     ]
    },
    {
     "name": "stderr",
     "output_type": "stream",
     "text": [
      "\u001b[2m\u001b[36m(RolloutWorker pid=14456)\u001b[0m c:\\Users\\nadir\\anaconda3\\envs\\GTAI2\\lib\\site-packages\\rtgym\\envs\\real_time_env.py:376: UserWarning: Time-step timed out. Elapsed since last time-step: 0.16943940002033742\n",
      "\u001b[2m\u001b[36m(RolloutWorker pid=14456)\u001b[0m   warnings.warn(f\"Time-step timed out. Elapsed since last time-step: {now - self.__t_end}\")\n"
     ]
    },
    {
     "name": "stdout",
     "output_type": "stream",
     "text": [
      "Loop:  180\n",
      "Saved 180\n",
      "Loop:  181\n",
      "Loop:  182\n",
      "Loop:  183\n",
      "\u001b[2m\u001b[36m(RolloutWorker pid=14456)\u001b[0m reset triggered\n",
      "\u001b[2m\u001b[36m(RolloutWorker pid=14456)\u001b[0m reload save for track : 4\n"
     ]
    },
    {
     "name": "stderr",
     "output_type": "stream",
     "text": [
      "\u001b[2m\u001b[36m(RolloutWorker pid=14456)\u001b[0m c:\\Users\\nadir\\anaconda3\\envs\\GTAI2\\lib\\site-packages\\rtgym\\envs\\real_time_env.py:376: UserWarning: Time-step timed out. Elapsed since last time-step: 0.1625227000204177\n",
      "\u001b[2m\u001b[36m(RolloutWorker pid=14456)\u001b[0m   warnings.warn(f\"Time-step timed out. Elapsed since last time-step: {now - self.__t_end}\")\n"
     ]
    },
    {
     "name": "stdout",
     "output_type": "stream",
     "text": [
      "Loop:  184\n",
      "Loop:  185\n",
      "Loop:  186\n",
      "\u001b[2m\u001b[36m(RolloutWorker pid=14456)\u001b[0m reset triggered\n",
      "\u001b[2m\u001b[36m(RolloutWorker pid=14456)\u001b[0m reload save for track : 4\n"
     ]
    },
    {
     "name": "stderr",
     "output_type": "stream",
     "text": [
      "\u001b[2m\u001b[36m(RolloutWorker pid=14456)\u001b[0m c:\\Users\\nadir\\anaconda3\\envs\\GTAI2\\lib\\site-packages\\rtgym\\envs\\real_time_env.py:376: UserWarning: Time-step timed out. Elapsed since last time-step: 0.16505830002029143\n",
      "\u001b[2m\u001b[36m(RolloutWorker pid=14456)\u001b[0m   warnings.warn(f\"Time-step timed out. Elapsed since last time-step: {now - self.__t_end}\")\n"
     ]
    },
    {
     "name": "stdout",
     "output_type": "stream",
     "text": [
      "Loop:  187\n",
      "Loop:  188\n",
      "Loop:  189\n",
      "\u001b[2m\u001b[36m(RolloutWorker pid=14456)\u001b[0m reset triggered\n",
      "\u001b[2m\u001b[36m(RolloutWorker pid=14456)\u001b[0m reload save for track : 4\n"
     ]
    },
    {
     "name": "stderr",
     "output_type": "stream",
     "text": [
      "\u001b[2m\u001b[36m(RolloutWorker pid=14456)\u001b[0m c:\\Users\\nadir\\anaconda3\\envs\\GTAI2\\lib\\site-packages\\rtgym\\envs\\real_time_env.py:376: UserWarning: Time-step timed out. Elapsed since last time-step: 0.15376230002038938\n",
      "\u001b[2m\u001b[36m(RolloutWorker pid=14456)\u001b[0m   warnings.warn(f\"Time-step timed out. Elapsed since last time-step: {now - self.__t_end}\")\n"
     ]
    },
    {
     "name": "stdout",
     "output_type": "stream",
     "text": [
      "Loop:  190\n",
      "Saved 190\n",
      "Loop:  191\n",
      "Loop:  192\n",
      "\u001b[2m\u001b[36m(RolloutWorker pid=14456)\u001b[0m reset triggered\n",
      "\u001b[2m\u001b[36m(RolloutWorker pid=14456)\u001b[0m reload save for track : 4\n"
     ]
    },
    {
     "name": "stderr",
     "output_type": "stream",
     "text": [
      "\u001b[2m\u001b[36m(RolloutWorker pid=14456)\u001b[0m c:\\Users\\nadir\\anaconda3\\envs\\GTAI2\\lib\\site-packages\\rtgym\\envs\\real_time_env.py:376: UserWarning: Time-step timed out. Elapsed since last time-step: 0.14971530002048894\n",
      "\u001b[2m\u001b[36m(RolloutWorker pid=14456)\u001b[0m   warnings.warn(f\"Time-step timed out. Elapsed since last time-step: {now - self.__t_end}\")\n"
     ]
    },
    {
     "name": "stdout",
     "output_type": "stream",
     "text": [
      "Loop:  193\n",
      "Loop:  194\n",
      "Loop:  195\n",
      "Loop:  196\n",
      "\u001b[2m\u001b[36m(RolloutWorker pid=14456)\u001b[0m reset triggered\n",
      "\u001b[2m\u001b[36m(RolloutWorker pid=14456)\u001b[0m reload save for track : 4\n"
     ]
    },
    {
     "name": "stderr",
     "output_type": "stream",
     "text": [
      "\u001b[2m\u001b[36m(RolloutWorker pid=14456)\u001b[0m c:\\Users\\nadir\\anaconda3\\envs\\GTAI2\\lib\\site-packages\\rtgym\\envs\\real_time_env.py:376: UserWarning: Time-step timed out. Elapsed since last time-step: 0.14236760002017945\n",
      "\u001b[2m\u001b[36m(RolloutWorker pid=14456)\u001b[0m   warnings.warn(f\"Time-step timed out. Elapsed since last time-step: {now - self.__t_end}\")\n"
     ]
    },
    {
     "name": "stdout",
     "output_type": "stream",
     "text": [
      "Loop:  197\n",
      "Loop:  198\n",
      "Loop:  199\n",
      "\u001b[2m\u001b[36m(RolloutWorker pid=14456)\u001b[0m reset triggered\n",
      "\u001b[2m\u001b[36m(RolloutWorker pid=14456)\u001b[0m reload save for track : 4\n"
     ]
    },
    {
     "name": "stderr",
     "output_type": "stream",
     "text": [
      "\u001b[2m\u001b[36m(RolloutWorker pid=14456)\u001b[0m c:\\Users\\nadir\\anaconda3\\envs\\GTAI2\\lib\\site-packages\\rtgym\\envs\\real_time_env.py:376: UserWarning: Time-step timed out. Elapsed since last time-step: 0.1375333000205501\n",
      "\u001b[2m\u001b[36m(RolloutWorker pid=14456)\u001b[0m   warnings.warn(f\"Time-step timed out. Elapsed since last time-step: {now - self.__t_end}\")\n"
     ]
    },
    {
     "name": "stdout",
     "output_type": "stream",
     "text": [
      "Loop:  200\n",
      "Saved 200\n",
      "Loop:  201\n",
      "Loop:  202\n",
      "\u001b[2m\u001b[36m(RolloutWorker pid=14456)\u001b[0m reset triggered\n",
      "\u001b[2m\u001b[36m(RolloutWorker pid=14456)\u001b[0m reload save for track : 4\n"
     ]
    },
    {
     "name": "stderr",
     "output_type": "stream",
     "text": [
      "\u001b[2m\u001b[36m(RolloutWorker pid=14456)\u001b[0m c:\\Users\\nadir\\anaconda3\\envs\\GTAI2\\lib\\site-packages\\rtgym\\envs\\real_time_env.py:376: UserWarning: Time-step timed out. Elapsed since last time-step: 0.14483400002018243\n",
      "\u001b[2m\u001b[36m(RolloutWorker pid=14456)\u001b[0m   warnings.warn(f\"Time-step timed out. Elapsed since last time-step: {now - self.__t_end}\")\n"
     ]
    },
    {
     "name": "stdout",
     "output_type": "stream",
     "text": [
      "Loop:  203\n",
      "Loop:  204\n",
      "Loop:  205\n",
      "\u001b[2m\u001b[36m(RolloutWorker pid=14456)\u001b[0m reset triggered\n",
      "\u001b[2m\u001b[36m(RolloutWorker pid=14456)\u001b[0m reload save for track : 4\n",
      "Loop:  206\n"
     ]
    },
    {
     "name": "stderr",
     "output_type": "stream",
     "text": [
      "\u001b[2m\u001b[36m(RolloutWorker pid=14456)\u001b[0m c:\\Users\\nadir\\anaconda3\\envs\\GTAI2\\lib\\site-packages\\rtgym\\envs\\real_time_env.py:376: UserWarning: Time-step timed out. Elapsed since last time-step: 0.14479340002048957\n",
      "\u001b[2m\u001b[36m(RolloutWorker pid=14456)\u001b[0m   warnings.warn(f\"Time-step timed out. Elapsed since last time-step: {now - self.__t_end}\")\n"
     ]
    },
    {
     "name": "stdout",
     "output_type": "stream",
     "text": [
      "Loop:  207\n",
      "Loop:  208\n",
      "Loop:  209\n",
      "\u001b[2m\u001b[36m(RolloutWorker pid=14456)\u001b[0m reset triggered\n",
      "\u001b[2m\u001b[36m(RolloutWorker pid=14456)\u001b[0m reload save for track : 4\n"
     ]
    },
    {
     "name": "stderr",
     "output_type": "stream",
     "text": [
      "\u001b[2m\u001b[36m(RolloutWorker pid=14456)\u001b[0m c:\\Users\\nadir\\anaconda3\\envs\\GTAI2\\lib\\site-packages\\rtgym\\envs\\real_time_env.py:376: UserWarning: Time-step timed out. Elapsed since last time-step: 0.17089880002026803\n",
      "\u001b[2m\u001b[36m(RolloutWorker pid=14456)\u001b[0m   warnings.warn(f\"Time-step timed out. Elapsed since last time-step: {now - self.__t_end}\")\n"
     ]
    },
    {
     "name": "stdout",
     "output_type": "stream",
     "text": [
      "Loop:  210\n",
      "Saved 210\n",
      "Loop:  211\n",
      "Loop:  212\n",
      "\u001b[2m\u001b[36m(RolloutWorker pid=14456)\u001b[0m reset triggered\n",
      "\u001b[2m\u001b[36m(RolloutWorker pid=14456)\u001b[0m reload save for track : 4\n"
     ]
    },
    {
     "name": "stderr",
     "output_type": "stream",
     "text": [
      "\u001b[2m\u001b[36m(RolloutWorker pid=14456)\u001b[0m c:\\Users\\nadir\\anaconda3\\envs\\GTAI2\\lib\\site-packages\\rtgym\\envs\\real_time_env.py:376: UserWarning: Time-step timed out. Elapsed since last time-step: 0.1522617000205173\n",
      "\u001b[2m\u001b[36m(RolloutWorker pid=14456)\u001b[0m   warnings.warn(f\"Time-step timed out. Elapsed since last time-step: {now - self.__t_end}\")\n"
     ]
    },
    {
     "name": "stdout",
     "output_type": "stream",
     "text": [
      "Loop:  213\n",
      "Loop:  214\n",
      "Loop:  215\n",
      "\u001b[2m\u001b[36m(RolloutWorker pid=14456)\u001b[0m reset triggered\n",
      "\u001b[2m\u001b[36m(RolloutWorker pid=14456)\u001b[0m reload save for track : 4\n"
     ]
    },
    {
     "name": "stderr",
     "output_type": "stream",
     "text": [
      "\u001b[2m\u001b[36m(RolloutWorker pid=14456)\u001b[0m c:\\Users\\nadir\\anaconda3\\envs\\GTAI2\\lib\\site-packages\\rtgym\\envs\\real_time_env.py:376: UserWarning: Time-step timed out. Elapsed since last time-step: 0.1499589000202377\n",
      "\u001b[2m\u001b[36m(RolloutWorker pid=14456)\u001b[0m   warnings.warn(f\"Time-step timed out. Elapsed since last time-step: {now - self.__t_end}\")\n"
     ]
    },
    {
     "name": "stdout",
     "output_type": "stream",
     "text": [
      "Loop:  216\n",
      "Loop:  217\n",
      "Loop:  218\n",
      "\u001b[2m\u001b[36m(RolloutWorker pid=14456)\u001b[0m reset triggered\n",
      "\u001b[2m\u001b[36m(RolloutWorker pid=14456)\u001b[0m reload save for track : 4\n"
     ]
    },
    {
     "name": "stderr",
     "output_type": "stream",
     "text": [
      "\u001b[2m\u001b[36m(RolloutWorker pid=14456)\u001b[0m c:\\Users\\nadir\\anaconda3\\envs\\GTAI2\\lib\\site-packages\\rtgym\\envs\\real_time_env.py:376: UserWarning: Time-step timed out. Elapsed since last time-step: 0.15686640002036256\n",
      "\u001b[2m\u001b[36m(RolloutWorker pid=14456)\u001b[0m   warnings.warn(f\"Time-step timed out. Elapsed since last time-step: {now - self.__t_end}\")\n"
     ]
    },
    {
     "name": "stdout",
     "output_type": "stream",
     "text": [
      "Loop:  219\n",
      "Loop:  220\n",
      "Saved 220\n",
      "Loop:  221\n",
      "Loop:  222\n",
      "\u001b[2m\u001b[36m(RolloutWorker pid=14456)\u001b[0m reset triggered\n",
      "\u001b[2m\u001b[36m(RolloutWorker pid=14456)\u001b[0m reload save for track : 4\n"
     ]
    },
    {
     "name": "stderr",
     "output_type": "stream",
     "text": [
      "\u001b[2m\u001b[36m(RolloutWorker pid=14456)\u001b[0m c:\\Users\\nadir\\anaconda3\\envs\\GTAI2\\lib\\site-packages\\rtgym\\envs\\real_time_env.py:376: UserWarning: Time-step timed out. Elapsed since last time-step: 0.15312160002054043\n",
      "\u001b[2m\u001b[36m(RolloutWorker pid=14456)\u001b[0m   warnings.warn(f\"Time-step timed out. Elapsed since last time-step: {now - self.__t_end}\")\n"
     ]
    },
    {
     "name": "stdout",
     "output_type": "stream",
     "text": [
      "Loop:  223\n",
      "Loop:  224\n",
      "Loop:  225\n",
      "\u001b[2m\u001b[36m(RolloutWorker pid=14456)\u001b[0m reset triggered\n",
      "\u001b[2m\u001b[36m(RolloutWorker pid=14456)\u001b[0m reload save for track : 4\n"
     ]
    },
    {
     "name": "stderr",
     "output_type": "stream",
     "text": [
      "\u001b[2m\u001b[36m(RolloutWorker pid=14456)\u001b[0m c:\\Users\\nadir\\anaconda3\\envs\\GTAI2\\lib\\site-packages\\rtgym\\envs\\real_time_env.py:376: UserWarning: Time-step timed out. Elapsed since last time-step: 0.14770010002030176\n",
      "\u001b[2m\u001b[36m(RolloutWorker pid=14456)\u001b[0m   warnings.warn(f\"Time-step timed out. Elapsed since last time-step: {now - self.__t_end}\")\n"
     ]
    },
    {
     "name": "stdout",
     "output_type": "stream",
     "text": [
      "Loop:  226\n",
      "Loop:  227\n",
      "Loop:  228\n",
      "\u001b[2m\u001b[36m(RolloutWorker pid=14456)\u001b[0m reset triggered\n",
      "\u001b[2m\u001b[36m(RolloutWorker pid=14456)\u001b[0m reload save for track : 4\n"
     ]
    },
    {
     "name": "stderr",
     "output_type": "stream",
     "text": [
      "\u001b[2m\u001b[36m(RolloutWorker pid=14456)\u001b[0m c:\\Users\\nadir\\anaconda3\\envs\\GTAI2\\lib\\site-packages\\rtgym\\envs\\real_time_env.py:376: UserWarning: Time-step timed out. Elapsed since last time-step: 0.1701984000203538\n",
      "\u001b[2m\u001b[36m(RolloutWorker pid=14456)\u001b[0m   warnings.warn(f\"Time-step timed out. Elapsed since last time-step: {now - self.__t_end}\")\n"
     ]
    },
    {
     "name": "stdout",
     "output_type": "stream",
     "text": [
      "Loop:  229\n",
      "Loop:  230\n",
      "Saved 230\n",
      "Loop:  231\n",
      "Loop:  232\n",
      "\u001b[2m\u001b[36m(RolloutWorker pid=14456)\u001b[0m reset triggered\n",
      "\u001b[2m\u001b[36m(RolloutWorker pid=14456)\u001b[0m reload save for track : 4\n"
     ]
    },
    {
     "name": "stderr",
     "output_type": "stream",
     "text": [
      "\u001b[2m\u001b[36m(RolloutWorker pid=14456)\u001b[0m c:\\Users\\nadir\\anaconda3\\envs\\GTAI2\\lib\\site-packages\\rtgym\\envs\\real_time_env.py:376: UserWarning: Time-step timed out. Elapsed since last time-step: 0.1420283000204563\n",
      "\u001b[2m\u001b[36m(RolloutWorker pid=14456)\u001b[0m   warnings.warn(f\"Time-step timed out. Elapsed since last time-step: {now - self.__t_end}\")\n"
     ]
    },
    {
     "name": "stdout",
     "output_type": "stream",
     "text": [
      "Loop:  233\n",
      "Loop:  234\n",
      "Loop:  235\n",
      "\u001b[2m\u001b[36m(RolloutWorker pid=14456)\u001b[0m reset triggered\n",
      "\u001b[2m\u001b[36m(RolloutWorker pid=14456)\u001b[0m reload save for track : 4\n"
     ]
    },
    {
     "name": "stderr",
     "output_type": "stream",
     "text": [
      "\u001b[2m\u001b[36m(RolloutWorker pid=14456)\u001b[0m c:\\Users\\nadir\\anaconda3\\envs\\GTAI2\\lib\\site-packages\\rtgym\\envs\\real_time_env.py:376: UserWarning: Time-step timed out. Elapsed since last time-step: 0.15116060002037557\n",
      "\u001b[2m\u001b[36m(RolloutWorker pid=14456)\u001b[0m   warnings.warn(f\"Time-step timed out. Elapsed since last time-step: {now - self.__t_end}\")\n"
     ]
    },
    {
     "name": "stdout",
     "output_type": "stream",
     "text": [
      "Loop:  236\n",
      "Loop:  237\n",
      "Loop:  238\n",
      "\u001b[2m\u001b[36m(RolloutWorker pid=14456)\u001b[0m reset triggered\n",
      "\u001b[2m\u001b[36m(RolloutWorker pid=14456)\u001b[0m reload save for track : 4\n"
     ]
    },
    {
     "name": "stderr",
     "output_type": "stream",
     "text": [
      "\u001b[2m\u001b[36m(RolloutWorker pid=14456)\u001b[0m c:\\Users\\nadir\\anaconda3\\envs\\GTAI2\\lib\\site-packages\\rtgym\\envs\\real_time_env.py:376: UserWarning: Time-step timed out. Elapsed since last time-step: 0.12040890002026572\n",
      "\u001b[2m\u001b[36m(RolloutWorker pid=14456)\u001b[0m   warnings.warn(f\"Time-step timed out. Elapsed since last time-step: {now - self.__t_end}\")\n"
     ]
    },
    {
     "name": "stdout",
     "output_type": "stream",
     "text": [
      "Loop:  239\n",
      "Loop:  240\n",
      "Saved 240\n"
     ]
    },
    {
     "name": "stderr",
     "output_type": "stream",
     "text": [
      "\u001b[2m\u001b[36m(RolloutWorker pid=14456)\u001b[0m c:\\Users\\nadir\\anaconda3\\envs\\GTAI2\\lib\\site-packages\\rtgym\\envs\\real_time_env.py:376: UserWarning: Time-step timed out. Elapsed since last time-step: 0.14958190001084404\n",
      "\u001b[2m\u001b[36m(RolloutWorker pid=14456)\u001b[0m   warnings.warn(f\"Time-step timed out. Elapsed since last time-step: {now - self.__t_end}\")\n"
     ]
    },
    {
     "name": "stdout",
     "output_type": "stream",
     "text": [
      "Loop:  241\n",
      "\u001b[2m\u001b[36m(RolloutWorker pid=14456)\u001b[0m reset triggered\n",
      "\u001b[2m\u001b[36m(RolloutWorker pid=14456)\u001b[0m reload save for track : 4\n",
      "Loop:  242\n"
     ]
    },
    {
     "name": "stderr",
     "output_type": "stream",
     "text": [
      "\u001b[2m\u001b[36m(RolloutWorker pid=14456)\u001b[0m c:\\Users\\nadir\\anaconda3\\envs\\GTAI2\\lib\\site-packages\\rtgym\\envs\\real_time_env.py:376: UserWarning: Time-step timed out. Elapsed since last time-step: 0.11939440000946888\n",
      "\u001b[2m\u001b[36m(RolloutWorker pid=14456)\u001b[0m   warnings.warn(f\"Time-step timed out. Elapsed since last time-step: {now - self.__t_end}\")\n"
     ]
    },
    {
     "name": "stdout",
     "output_type": "stream",
     "text": [
      "Loop:  243\n",
      "Loop:  244\n",
      "Loop:  245\n",
      "\u001b[2m\u001b[36m(RolloutWorker pid=14456)\u001b[0m reset triggered\n",
      "\u001b[2m\u001b[36m(RolloutWorker pid=14456)\u001b[0m reload save for track : 4\n"
     ]
    },
    {
     "name": "stderr",
     "output_type": "stream",
     "text": [
      "\u001b[2m\u001b[36m(RolloutWorker pid=14456)\u001b[0m c:\\Users\\nadir\\anaconda3\\envs\\GTAI2\\lib\\site-packages\\rtgym\\envs\\real_time_env.py:376: UserWarning: Time-step timed out. Elapsed since last time-step: 0.15017220002050635\n",
      "\u001b[2m\u001b[36m(RolloutWorker pid=14456)\u001b[0m   warnings.warn(f\"Time-step timed out. Elapsed since last time-step: {now - self.__t_end}\")\n"
     ]
    },
    {
     "name": "stdout",
     "output_type": "stream",
     "text": [
      "Loop:  246\n",
      "Loop:  247\n",
      "Loop:  248\n",
      "\u001b[2m\u001b[36m(RolloutWorker pid=14456)\u001b[0m reset triggered\n",
      "\u001b[2m\u001b[36m(RolloutWorker pid=14456)\u001b[0m reload save for track : 4\n"
     ]
    },
    {
     "name": "stderr",
     "output_type": "stream",
     "text": [
      "\u001b[2m\u001b[36m(RolloutWorker pid=14456)\u001b[0m c:\\Users\\nadir\\anaconda3\\envs\\GTAI2\\lib\\site-packages\\rtgym\\envs\\real_time_env.py:376: UserWarning: Time-step timed out. Elapsed since last time-step: 0.14140190002035524\n",
      "\u001b[2m\u001b[36m(RolloutWorker pid=14456)\u001b[0m   warnings.warn(f\"Time-step timed out. Elapsed since last time-step: {now - self.__t_end}\")\n",
      "2023-05-23 23:08:17,254\tERROR actor_manager.py:507 -- Ray error, taking actor 1 out of service. \u001b[36mray::RolloutWorker.apply()\u001b[39m (pid=14456, ip=127.0.0.1, repr=<ray.rllib.evaluation.rollout_worker.RolloutWorker object at 0x00000148FDDD3220>)\n",
      "  File \"python\\ray\\_raylet.pyx\", line 877, in ray._raylet.execute_task\n",
      "  File \"python\\ray\\_raylet.pyx\", line 881, in ray._raylet.execute_task\n",
      "  File \"python\\ray\\_raylet.pyx\", line 821, in ray._raylet.execute_task.function_executor\n",
      "  File \"c:\\Users\\nadir\\anaconda3\\envs\\GTAI2\\lib\\site-packages\\ray\\_private\\function_manager.py\", line 670, in actor_method_executor\n",
      "    return method(__ray_actor, *args, **kwargs)\n",
      "  File \"c:\\Users\\nadir\\anaconda3\\envs\\GTAI2\\lib\\site-packages\\ray\\util\\tracing\\tracing_helper.py\", line 460, in _resume_span\n",
      "    return method(self, *_args, **_kwargs)\n",
      "  File \"c:\\Users\\nadir\\anaconda3\\envs\\GTAI2\\lib\\site-packages\\ray\\rllib\\utils\\actor_manager.py\", line 185, in apply\n",
      "    raise e\n",
      "  File \"c:\\Users\\nadir\\anaconda3\\envs\\GTAI2\\lib\\site-packages\\ray\\rllib\\utils\\actor_manager.py\", line 176, in apply\n",
      "    return func(self, *args, **kwargs)\n",
      "  File \"c:\\Users\\nadir\\anaconda3\\envs\\GTAI2\\lib\\site-packages\\ray\\rllib\\algorithms\\a3c\\a3c.py\", line 204, in sample_and_compute_grads\n",
      "    samples = worker.sample()\n",
      "  File \"c:\\Users\\nadir\\anaconda3\\envs\\GTAI2\\lib\\site-packages\\ray\\util\\tracing\\tracing_helper.py\", line 460, in _resume_span\n",
      "    return method(self, *_args, **_kwargs)\n",
      "  File \"c:\\Users\\nadir\\anaconda3\\envs\\GTAI2\\lib\\site-packages\\ray\\rllib\\evaluation\\rollout_worker.py\", line 915, in sample\n",
      "    batches = [self.input_reader.next()]\n",
      "  File \"c:\\Users\\nadir\\anaconda3\\envs\\GTAI2\\lib\\site-packages\\ray\\rllib\\evaluation\\sampler.py\", line 92, in next\n",
      "    batches = [self.get_data()]\n",
      "  File \"c:\\Users\\nadir\\anaconda3\\envs\\GTAI2\\lib\\site-packages\\ray\\rllib\\evaluation\\sampler.py\", line 500, in get_data\n",
      "    raise rollout\n",
      "  File \"c:\\Users\\nadir\\anaconda3\\envs\\GTAI2\\lib\\threading.py\", line 973, in _bootstrap_inner\n",
      "    self.run()\n",
      "  File \"c:\\Users\\nadir\\anaconda3\\envs\\GTAI2\\lib\\site-packages\\ray\\rllib\\evaluation\\sampler.py\", line 440, in run\n",
      "    raise e\n",
      "  File \"c:\\Users\\nadir\\anaconda3\\envs\\GTAI2\\lib\\site-packages\\ray\\rllib\\evaluation\\sampler.py\", line 437, in run\n",
      "    self._run()\n",
      "  File \"c:\\Users\\nadir\\anaconda3\\envs\\GTAI2\\lib\\site-packages\\ray\\rllib\\evaluation\\sampler.py\", line 486, in _run\n",
      "    item = next(env_runner)\n",
      "  File \"c:\\Users\\nadir\\anaconda3\\envs\\GTAI2\\lib\\site-packages\\ray\\rllib\\evaluation\\env_runner_v2.py\", line 323, in run\n",
      "    outputs = self.step()\n",
      "  File \"c:\\Users\\nadir\\anaconda3\\envs\\GTAI2\\lib\\site-packages\\ray\\rllib\\evaluation\\env_runner_v2.py\", line 361, in step\n",
      "    eval_results = self._do_policy_eval(to_eval=to_eval)\n",
      "  File \"c:\\Users\\nadir\\anaconda3\\envs\\GTAI2\\lib\\site-packages\\ray\\rllib\\evaluation\\env_runner_v2.py\", line 1049, in _do_policy_eval\n",
      "    eval_results[policy_id] = policy.compute_actions_from_input_dict(\n",
      "  File \"c:\\Users\\nadir\\anaconda3\\envs\\GTAI2\\lib\\site-packages\\ray\\rllib\\policy\\torch_policy_v2.py\", line 522, in compute_actions_from_input_dict\n",
      "    return self._compute_action_helper(\n",
      "  File \"c:\\Users\\nadir\\anaconda3\\envs\\GTAI2\\lib\\site-packages\\ray\\rllib\\utils\\threading.py\", line 24, in wrapper\n",
      "    return func(self, *a, **k)\n",
      "  File \"c:\\Users\\nadir\\anaconda3\\envs\\GTAI2\\lib\\site-packages\\ray\\rllib\\policy\\torch_policy_v2.py\", line 1153, in _compute_action_helper\n",
      "    action_dist = dist_class(dist_inputs, self.model)\n",
      "  File \"c:\\Users\\nadir\\anaconda3\\envs\\GTAI2\\lib\\site-packages\\ray\\rllib\\models\\torch\\torch_action_dist.py\", line 250, in __init__\n",
      "    self.dist = torch.distributions.normal.Normal(mean, torch.exp(log_std))\n",
      "  File \"c:\\Users\\nadir\\anaconda3\\envs\\GTAI2\\lib\\site-packages\\torch\\distributions\\normal.py\", line 54, in __init__\n",
      "    super(Normal, self).__init__(batch_shape, validate_args=validate_args)\n",
      "  File \"c:\\Users\\nadir\\anaconda3\\envs\\GTAI2\\lib\\site-packages\\torch\\distributions\\distribution.py\", line 55, in __init__\n",
      "    raise ValueError(\n",
      "ValueError: Expected parameter loc (Tensor of shape (1, 3)) of distribution Normal(loc: torch.Size([1, 3]), scale: torch.Size([1, 3])) to satisfy the constraint Real(), but found invalid values:\n",
      "tensor([[nan, nan, nan]])\n"
     ]
    },
    {
     "name": "stdout",
     "output_type": "stream",
     "text": [
      "Loop:  249\n"
     ]
    },
    {
     "name": "stderr",
     "output_type": "stream",
     "text": [
      "\u001b[2m\u001b[36m(RolloutWorker pid=14456)\u001b[0m Exception in thread Thread-3:\n",
      "\u001b[2m\u001b[36m(RolloutWorker pid=14456)\u001b[0m Traceback (most recent call last):\n",
      "\u001b[2m\u001b[36m(RolloutWorker pid=14456)\u001b[0m   File \"python\\ray\\_raylet.pyx\", line 921, in ray._raylet.execute_task\n",
      "\u001b[2m\u001b[36m(RolloutWorker pid=14456)\u001b[0m   File \"python\\ray\\_raylet.pyx\", line 877, in ray._raylet.execute_task\n",
      "\u001b[2m\u001b[36m(RolloutWorker pid=14456)\u001b[0m   File \"python\\ray\\_raylet.pyx\", line 881, in ray._raylet.execute_task\n",
      "\u001b[2m\u001b[36m(RolloutWorker pid=14456)\u001b[0m   File \"python\\ray\\_raylet.pyx\", line 821, in ray._raylet.execute_task.function_executor\n",
      "\u001b[2m\u001b[36m(RolloutWorker pid=14456)\u001b[0m   File \"c:\\Users\\nadir\\anaconda3\\envs\\GTAI2\\lib\\site-packages\\ray\\_private\\function_manager.py\", line 670, in actor_method_executor\n",
      "\u001b[2m\u001b[36m(RolloutWorker pid=14456)\u001b[0m     return method(__ray_actor, *args, **kwargs)\n",
      "\u001b[2m\u001b[36m(RolloutWorker pid=14456)\u001b[0m   File \"c:\\Users\\nadir\\anaconda3\\envs\\GTAI2\\lib\\site-packages\\ray\\util\\tracing\\tracing_helper.py\", line 460, in _resume_span\n",
      "\u001b[2m\u001b[36m(RolloutWorker pid=14456)\u001b[0m     return method(self, *_args, **_kwargs)\n",
      "\u001b[2m\u001b[36m(RolloutWorker pid=14456)\u001b[0m   File \"c:\\Users\\nadir\\anaconda3\\envs\\GTAI2\\lib\\site-packages\\ray\\rllib\\utils\\actor_manager.py\", line 185, in apply\n",
      "\u001b[2m\u001b[36m(RolloutWorker pid=14456)\u001b[0m     raise e\n",
      "\u001b[2m\u001b[36m(RolloutWorker pid=14456)\u001b[0m   File \"c:\\Users\\nadir\\anaconda3\\envs\\GTAI2\\lib\\site-packages\\ray\\rllib\\utils\\actor_manager.py\", line 176, in apply\n",
      "\u001b[2m\u001b[36m(RolloutWorker pid=14456)\u001b[0m     return func(self, *args, **kwargs)\n",
      "\u001b[2m\u001b[36m(RolloutWorker pid=14456)\u001b[0m   File \"c:\\Users\\nadir\\anaconda3\\envs\\GTAI2\\lib\\site-packages\\ray\\rllib\\algorithms\\a3c\\a3c.py\", line 204, in sample_and_compute_grads\n",
      "\u001b[2m\u001b[36m(RolloutWorker pid=14456)\u001b[0m     samples = worker.sample()\n",
      "\u001b[2m\u001b[36m(RolloutWorker pid=14456)\u001b[0m   File \"c:\\Users\\nadir\\anaconda3\\envs\\GTAI2\\lib\\site-packages\\ray\\util\\tracing\\tracing_helper.py\", line 460, in _resume_span\n",
      "\u001b[2m\u001b[36m(RolloutWorker pid=14456)\u001b[0m     return method(self, *_args, **_kwargs)\n",
      "\u001b[2m\u001b[36m(RolloutWorker pid=14456)\u001b[0m   File \"c:\\Users\\nadir\\anaconda3\\envs\\GTAI2\\lib\\site-packages\\ray\\rllib\\evaluation\\rollout_worker.py\", line 915, in sample\n",
      "\u001b[2m\u001b[36m(RolloutWorker pid=14456)\u001b[0m     batches = [self.input_reader.next()]\n",
      "\u001b[2m\u001b[36m(RolloutWorker pid=14456)\u001b[0m   File \"c:\\Users\\nadir\\anaconda3\\envs\\GTAI2\\lib\\site-packages\\ray\\rllib\\evaluation\\sampler.py\", line 92, in next\n",
      "\u001b[2m\u001b[36m(RolloutWorker pid=14456)\u001b[0m     batches = [self.get_data()]\n",
      "\u001b[2m\u001b[36m(RolloutWorker pid=14456)\u001b[0m   File \"c:\\Users\\nadir\\anaconda3\\envs\\GTAI2\\lib\\site-packages\\ray\\rllib\\evaluation\\sampler.py\", line 500, in get_data\n",
      "\u001b[2m\u001b[36m(RolloutWorker pid=14456)\u001b[0m     raise rollout\n",
      "\u001b[2m\u001b[36m(RolloutWorker pid=14456)\u001b[0m   File \"c:\\Users\\nadir\\anaconda3\\envs\\GTAI2\\lib\\threading.py\", line 973, in _bootstrap_inner\n",
      "\u001b[2m\u001b[36m(RolloutWorker pid=14456)\u001b[0m     self.run()\n",
      "\u001b[2m\u001b[36m(RolloutWorker pid=14456)\u001b[0m   File \"c:\\Users\\nadir\\anaconda3\\envs\\GTAI2\\lib\\site-packages\\ray\\rllib\\evaluation\\sampler.py\", line 440, in run\n",
      "\u001b[2m\u001b[36m(RolloutWorker pid=14456)\u001b[0m     raise e\n",
      "\u001b[2m\u001b[36m(RolloutWorker pid=14456)\u001b[0m   File \"c:\\Users\\nadir\\anaconda3\\envs\\GTAI2\\lib\\site-packages\\ray\\rllib\\evaluation\\sampler.py\", line 437, in run\n",
      "\u001b[2m\u001b[36m(RolloutWorker pid=14456)\u001b[0m     self._run()\n",
      "\u001b[2m\u001b[36m(RolloutWorker pid=14456)\u001b[0m   File \"c:\\Users\\nadir\\anaconda3\\envs\\GTAI2\\lib\\site-packages\\ray\\rllib\\evaluation\\sampler.py\", line 486, in _run\n",
      "\u001b[2m\u001b[36m(RolloutWorker pid=14456)\u001b[0m     item = next(env_runner)\n",
      "\u001b[2m\u001b[36m(RolloutWorker pid=14456)\u001b[0m   File \"c:\\Users\\nadir\\anaconda3\\envs\\GTAI2\\lib\\site-packages\\ray\\rllib\\evaluation\\env_runner_v2.py\", line 323, in run\n",
      "\u001b[2m\u001b[36m(RolloutWorker pid=14456)\u001b[0m     outputs = self.step()\n",
      "\u001b[2m\u001b[36m(RolloutWorker pid=14456)\u001b[0m   File \"c:\\Users\\nadir\\anaconda3\\envs\\GTAI2\\lib\\site-packages\\ray\\rllib\\evaluation\\env_runner_v2.py\", line 361, in step\n",
      "\u001b[2m\u001b[36m(RolloutWorker pid=14456)\u001b[0m     eval_results = self._do_policy_eval(to_eval=to_eval)\n",
      "\u001b[2m\u001b[36m(RolloutWorker pid=14456)\u001b[0m   File \"c:\\Users\\nadir\\anaconda3\\envs\\GTAI2\\lib\\site-packages\\ray\\rllib\\evaluation\\env_runner_v2.py\", line 1049, in _do_policy_eval\n",
      "\u001b[2m\u001b[36m(RolloutWorker pid=14456)\u001b[0m     eval_results[policy_id] = policy.compute_actions_from_input_dict(\n",
      "\u001b[2m\u001b[36m(RolloutWorker pid=14456)\u001b[0m   File \"c:\\Users\\nadir\\anaconda3\\envs\\GTAI2\\lib\\site-packages\\ray\\rllib\\policy\\torch_policy_v2.py\", line 522, in compute_actions_from_input_dict\n",
      "\u001b[2m\u001b[36m(RolloutWorker pid=14456)\u001b[0m     return self._compute_action_helper(\n",
      "\u001b[2m\u001b[36m(RolloutWorker pid=14456)\u001b[0m   File \"c:\\Users\\nadir\\anaconda3\\envs\\GTAI2\\lib\\site-packages\\ray\\rllib\\utils\\threading.py\", line 24, in wrapper\n",
      "\u001b[2m\u001b[36m(RolloutWorker pid=14456)\u001b[0m     return func(self, *a, **k)\n",
      "\u001b[2m\u001b[36m(RolloutWorker pid=14456)\u001b[0m   File \"c:\\Users\\nadir\\anaconda3\\envs\\GTAI2\\lib\\site-packages\\ray\\rllib\\policy\\torch_policy_v2.py\", line 1153, in _compute_action_helper\n",
      "\u001b[2m\u001b[36m(RolloutWorker pid=14456)\u001b[0m     action_dist = dist_class(dist_inputs, self.model)\n",
      "\u001b[2m\u001b[36m(RolloutWorker pid=14456)\u001b[0m   File \"c:\\Users\\nadir\\anaconda3\\envs\\GTAI2\\lib\\site-packages\\ray\\rllib\\models\\torch\\torch_action_dist.py\", line 250, in __init__\n",
      "\u001b[2m\u001b[36m(RolloutWorker pid=14456)\u001b[0m     self.dist = torch.distributions.normal.Normal(mean, torch.exp(log_std))\n",
      "\u001b[2m\u001b[36m(RolloutWorker pid=14456)\u001b[0m   File \"c:\\Users\\nadir\\anaconda3\\envs\\GTAI2\\lib\\site-packages\\torch\\distributions\\normal.py\", line 54, in __init__\n",
      "\u001b[2m\u001b[36m(RolloutWorker pid=14456)\u001b[0m     super(Normal, self).__init__(batch_shape, validate_args=validate_args)\n",
      "\u001b[2m\u001b[36m(RolloutWorker pid=14456)\u001b[0m   File \"c:\\Users\\nadir\\anaconda3\\envs\\GTAI2\\lib\\site-packages\\torch\\distributions\\distribution.py\", line 55, in __init__\n",
      "\u001b[2m\u001b[36m(RolloutWorker pid=14456)\u001b[0m     raise ValueError(\n",
      "\u001b[2m\u001b[36m(RolloutWorker pid=14456)\u001b[0m ValueError: Expected parameter loc (Tensor of shape (1, 3)) of distribution Normal(loc: torch.Size([1, 3]), scale: torch.Size([1, 3])) to satisfy the constraint Real(), but found invalid values:\n",
      "\u001b[2m\u001b[36m(RolloutWorker pid=14456)\u001b[0m tensor([[nan, nan, nan]])\n"
     ]
    },
    {
     "ename": "RayTaskError(ValueError)",
     "evalue": "\u001b[36mray::RolloutWorker.apply()\u001b[39m (pid=14456, ip=127.0.0.1, repr=<ray.rllib.evaluation.rollout_worker.RolloutWorker object at 0x00000148FDDD3220>)\n  File \"python\\ray\\_raylet.pyx\", line 877, in ray._raylet.execute_task\n  File \"python\\ray\\_raylet.pyx\", line 881, in ray._raylet.execute_task\n  File \"python\\ray\\_raylet.pyx\", line 821, in ray._raylet.execute_task.function_executor\n  File \"c:\\Users\\nadir\\anaconda3\\envs\\GTAI2\\lib\\site-packages\\ray\\_private\\function_manager.py\", line 670, in actor_method_executor\n    return method(__ray_actor, *args, **kwargs)\n  File \"c:\\Users\\nadir\\anaconda3\\envs\\GTAI2\\lib\\site-packages\\ray\\util\\tracing\\tracing_helper.py\", line 460, in _resume_span\n    return method(self, *_args, **_kwargs)\n  File \"c:\\Users\\nadir\\anaconda3\\envs\\GTAI2\\lib\\site-packages\\ray\\rllib\\utils\\actor_manager.py\", line 185, in apply\n    raise e\n  File \"c:\\Users\\nadir\\anaconda3\\envs\\GTAI2\\lib\\site-packages\\ray\\rllib\\utils\\actor_manager.py\", line 176, in apply\n    return func(self, *args, **kwargs)\n  File \"c:\\Users\\nadir\\anaconda3\\envs\\GTAI2\\lib\\site-packages\\ray\\rllib\\algorithms\\a3c\\a3c.py\", line 204, in sample_and_compute_grads\n    samples = worker.sample()\n  File \"c:\\Users\\nadir\\anaconda3\\envs\\GTAI2\\lib\\site-packages\\ray\\util\\tracing\\tracing_helper.py\", line 460, in _resume_span\n    return method(self, *_args, **_kwargs)\n  File \"c:\\Users\\nadir\\anaconda3\\envs\\GTAI2\\lib\\site-packages\\ray\\rllib\\evaluation\\rollout_worker.py\", line 915, in sample\n    batches = [self.input_reader.next()]\n  File \"c:\\Users\\nadir\\anaconda3\\envs\\GTAI2\\lib\\site-packages\\ray\\rllib\\evaluation\\sampler.py\", line 92, in next\n    batches = [self.get_data()]\n  File \"c:\\Users\\nadir\\anaconda3\\envs\\GTAI2\\lib\\site-packages\\ray\\rllib\\evaluation\\sampler.py\", line 500, in get_data\n    raise rollout\n  File \"c:\\Users\\nadir\\anaconda3\\envs\\GTAI2\\lib\\threading.py\", line 973, in _bootstrap_inner\n    self.run()\n  File \"c:\\Users\\nadir\\anaconda3\\envs\\GTAI2\\lib\\site-packages\\ray\\rllib\\evaluation\\sampler.py\", line 440, in run\n    raise e\n  File \"c:\\Users\\nadir\\anaconda3\\envs\\GTAI2\\lib\\site-packages\\ray\\rllib\\evaluation\\sampler.py\", line 437, in run\n    self._run()\n  File \"c:\\Users\\nadir\\anaconda3\\envs\\GTAI2\\lib\\site-packages\\ray\\rllib\\evaluation\\sampler.py\", line 486, in _run\n    item = next(env_runner)\n  File \"c:\\Users\\nadir\\anaconda3\\envs\\GTAI2\\lib\\site-packages\\ray\\rllib\\evaluation\\env_runner_v2.py\", line 323, in run\n    outputs = self.step()\n  File \"c:\\Users\\nadir\\anaconda3\\envs\\GTAI2\\lib\\site-packages\\ray\\rllib\\evaluation\\env_runner_v2.py\", line 361, in step\n    eval_results = self._do_policy_eval(to_eval=to_eval)\n  File \"c:\\Users\\nadir\\anaconda3\\envs\\GTAI2\\lib\\site-packages\\ray\\rllib\\evaluation\\env_runner_v2.py\", line 1049, in _do_policy_eval\n    eval_results[policy_id] = policy.compute_actions_from_input_dict(\n  File \"c:\\Users\\nadir\\anaconda3\\envs\\GTAI2\\lib\\site-packages\\ray\\rllib\\policy\\torch_policy_v2.py\", line 522, in compute_actions_from_input_dict\n    return self._compute_action_helper(\n  File \"c:\\Users\\nadir\\anaconda3\\envs\\GTAI2\\lib\\site-packages\\ray\\rllib\\utils\\threading.py\", line 24, in wrapper\n    return func(self, *a, **k)\n  File \"c:\\Users\\nadir\\anaconda3\\envs\\GTAI2\\lib\\site-packages\\ray\\rllib\\policy\\torch_policy_v2.py\", line 1153, in _compute_action_helper\n    action_dist = dist_class(dist_inputs, self.model)\n  File \"c:\\Users\\nadir\\anaconda3\\envs\\GTAI2\\lib\\site-packages\\ray\\rllib\\models\\torch\\torch_action_dist.py\", line 250, in __init__\n    self.dist = torch.distributions.normal.Normal(mean, torch.exp(log_std))\n  File \"c:\\Users\\nadir\\anaconda3\\envs\\GTAI2\\lib\\site-packages\\torch\\distributions\\normal.py\", line 54, in __init__\n    super(Normal, self).__init__(batch_shape, validate_args=validate_args)\n  File \"c:\\Users\\nadir\\anaconda3\\envs\\GTAI2\\lib\\site-packages\\torch\\distributions\\distribution.py\", line 55, in __init__\n    raise ValueError(\nValueError: Expected parameter loc (Tensor of shape (1, 3)) of distribution Normal(loc: torch.Size([1, 3]), scale: torch.Size([1, 3])) to satisfy the constraint Real(), but found invalid values:\ntensor([[nan, nan, nan]])",
     "output_type": "error",
     "traceback": [
      "\u001b[1;31m---------------------------------------------------------------------------\u001b[0m",
      "\u001b[1;31mRayTaskError(ValueError)\u001b[0m                  Traceback (most recent call last)",
      "\u001b[1;32mj:\\git\\TensorFlowPSX\\Py\\rrlib_experiments_A3C_mode4_Supra_Drag_Torch.ipynb Cell 9\u001b[0m in \u001b[0;36m5\n\u001b[0;32m      <a href='vscode-notebook-cell:/j%3A/git/TensorFlowPSX/Py/rrlib_experiments_A3C_mode4_Supra_Drag_Torch.ipynb#X11sZmlsZQ%3D%3D?line=1'>2</a>\u001b[0m N \u001b[39m=\u001b[39m \u001b[39m1000\u001b[39m\n\u001b[0;32m      <a href='vscode-notebook-cell:/j%3A/git/TensorFlowPSX/Py/rrlib_experiments_A3C_mode4_Supra_Drag_Torch.ipynb#X11sZmlsZQ%3D%3D?line=3'>4</a>\u001b[0m \u001b[39mfor\u001b[39;00m n \u001b[39min\u001b[39;00m \u001b[39mrange\u001b[39m(N):\n\u001b[1;32m----> <a href='vscode-notebook-cell:/j%3A/git/TensorFlowPSX/Py/rrlib_experiments_A3C_mode4_Supra_Drag_Torch.ipynb#X11sZmlsZQ%3D%3D?line=4'>5</a>\u001b[0m     result \u001b[39m=\u001b[39m algo\u001b[39m.\u001b[39;49mtrain()\n\u001b[0;32m      <a href='vscode-notebook-cell:/j%3A/git/TensorFlowPSX/Py/rrlib_experiments_A3C_mode4_Supra_Drag_Torch.ipynb#X11sZmlsZQ%3D%3D?line=5'>6</a>\u001b[0m     \u001b[39mprint\u001b[39m(\u001b[39m\"\u001b[39m\u001b[39mLoop: \u001b[39m\u001b[39m\"\u001b[39m, n)\n\u001b[0;32m      <a href='vscode-notebook-cell:/j%3A/git/TensorFlowPSX/Py/rrlib_experiments_A3C_mode4_Supra_Drag_Torch.ipynb#X11sZmlsZQ%3D%3D?line=6'>7</a>\u001b[0m     \u001b[39mif\u001b[39;00m n \u001b[39m%\u001b[39m \u001b[39m10\u001b[39m \u001b[39m==\u001b[39m \u001b[39m0\u001b[39m:\n",
      "File \u001b[1;32mc:\\Users\\nadir\\anaconda3\\envs\\GTAI2\\lib\\site-packages\\ray\\tune\\trainable\\trainable.py:384\u001b[0m, in \u001b[0;36mTrainable.train\u001b[1;34m(self)\u001b[0m\n\u001b[0;32m    382\u001b[0m \u001b[39mexcept\u001b[39;00m \u001b[39mException\u001b[39;00m \u001b[39mas\u001b[39;00m e:\n\u001b[0;32m    383\u001b[0m     skipped \u001b[39m=\u001b[39m skip_exceptions(e)\n\u001b[1;32m--> 384\u001b[0m     \u001b[39mraise\u001b[39;00m skipped \u001b[39mfrom\u001b[39;00m \u001b[39mexception_cause\u001b[39;00m(skipped)\n\u001b[0;32m    386\u001b[0m \u001b[39massert\u001b[39;00m \u001b[39misinstance\u001b[39m(result, \u001b[39mdict\u001b[39m), \u001b[39m\"\u001b[39m\u001b[39mstep() needs to return a dict.\u001b[39m\u001b[39m\"\u001b[39m\n\u001b[0;32m    388\u001b[0m \u001b[39m# We do not modify internal state nor update this result if duplicate.\u001b[39;00m\n",
      "File \u001b[1;32mc:\\Users\\nadir\\anaconda3\\envs\\GTAI2\\lib\\site-packages\\ray\\tune\\trainable\\trainable.py:381\u001b[0m, in \u001b[0;36mTrainable.train\u001b[1;34m(self)\u001b[0m\n\u001b[0;32m    379\u001b[0m start \u001b[39m=\u001b[39m time\u001b[39m.\u001b[39mtime()\n\u001b[0;32m    380\u001b[0m \u001b[39mtry\u001b[39;00m:\n\u001b[1;32m--> 381\u001b[0m     result \u001b[39m=\u001b[39m \u001b[39mself\u001b[39;49m\u001b[39m.\u001b[39;49mstep()\n\u001b[0;32m    382\u001b[0m \u001b[39mexcept\u001b[39;00m \u001b[39mException\u001b[39;00m \u001b[39mas\u001b[39;00m e:\n\u001b[0;32m    383\u001b[0m     skipped \u001b[39m=\u001b[39m skip_exceptions(e)\n",
      "File \u001b[1;32mc:\\Users\\nadir\\anaconda3\\envs\\GTAI2\\lib\\site-packages\\ray\\rllib\\algorithms\\algorithm.py:792\u001b[0m, in \u001b[0;36mAlgorithm.step\u001b[1;34m(self)\u001b[0m\n\u001b[0;32m    784\u001b[0m     (\n\u001b[0;32m    785\u001b[0m         results,\n\u001b[0;32m    786\u001b[0m         train_iter_ctx,\n\u001b[0;32m    787\u001b[0m     ) \u001b[39m=\u001b[39m \u001b[39mself\u001b[39m\u001b[39m.\u001b[39m_run_one_training_iteration_and_evaluation_in_parallel()\n\u001b[0;32m    788\u001b[0m \u001b[39m# - No evaluation necessary, just run the next training iteration.\u001b[39;00m\n\u001b[0;32m    789\u001b[0m \u001b[39m# - We have to evaluate in this training iteration, but no parallelism ->\u001b[39;00m\n\u001b[0;32m    790\u001b[0m \u001b[39m#   evaluate after the training iteration is entirely done.\u001b[39;00m\n\u001b[0;32m    791\u001b[0m \u001b[39melse\u001b[39;00m:\n\u001b[1;32m--> 792\u001b[0m     results, train_iter_ctx \u001b[39m=\u001b[39m \u001b[39mself\u001b[39;49m\u001b[39m.\u001b[39;49m_run_one_training_iteration()\n\u001b[0;32m    794\u001b[0m \u001b[39m# Sequential: Train (already done above), then evaluate.\u001b[39;00m\n\u001b[0;32m    795\u001b[0m \u001b[39mif\u001b[39;00m evaluate_this_iter \u001b[39mand\u001b[39;00m \u001b[39mnot\u001b[39;00m \u001b[39mself\u001b[39m\u001b[39m.\u001b[39mconfig\u001b[39m.\u001b[39mevaluation_parallel_to_training:\n",
      "File \u001b[1;32mc:\\Users\\nadir\\anaconda3\\envs\\GTAI2\\lib\\site-packages\\ray\\rllib\\algorithms\\algorithm.py:2811\u001b[0m, in \u001b[0;36mAlgorithm._run_one_training_iteration\u001b[1;34m(self)\u001b[0m\n\u001b[0;32m   2809\u001b[0m \u001b[39mwith\u001b[39;00m \u001b[39mself\u001b[39m\u001b[39m.\u001b[39m_timers[TRAINING_ITERATION_TIMER]:\n\u001b[0;32m   2810\u001b[0m     \u001b[39mif\u001b[39;00m \u001b[39mself\u001b[39m\u001b[39m.\u001b[39mconfig\u001b[39m.\u001b[39m_disable_execution_plan_api:\n\u001b[1;32m-> 2811\u001b[0m         results \u001b[39m=\u001b[39m \u001b[39mself\u001b[39;49m\u001b[39m.\u001b[39;49mtraining_step()\n\u001b[0;32m   2812\u001b[0m     \u001b[39melse\u001b[39;00m:\n\u001b[0;32m   2813\u001b[0m         results \u001b[39m=\u001b[39m \u001b[39mnext\u001b[39m(\u001b[39mself\u001b[39m\u001b[39m.\u001b[39mtrain_exec_impl)\n",
      "File \u001b[1;32mc:\\Users\\nadir\\anaconda3\\envs\\GTAI2\\lib\\site-packages\\ray\\rllib\\algorithms\\a3c\\a3c.py:221\u001b[0m, in \u001b[0;36mA3C.training_step\u001b[1;34m(self)\u001b[0m\n\u001b[0;32m    214\u001b[0m \u001b[39mwith\u001b[39;00m \u001b[39mself\u001b[39m\u001b[39m.\u001b[39m_timers[GRAD_WAIT_TIMER]:\n\u001b[0;32m    215\u001b[0m     \u001b[39m# Results are a mapping from ActorHandle (RolloutWorker) to their\u001b[39;00m\n\u001b[0;32m    216\u001b[0m     \u001b[39m# returned gradient calculation results.\u001b[39;00m\n\u001b[0;32m    217\u001b[0m     \u001b[39mself\u001b[39m\u001b[39m.\u001b[39mworkers\u001b[39m.\u001b[39mforeach_worker_async(\n\u001b[0;32m    218\u001b[0m         func\u001b[39m=\u001b[39msample_and_compute_grads,\n\u001b[0;32m    219\u001b[0m         healthy_only\u001b[39m=\u001b[39m\u001b[39mTrue\u001b[39;00m,\n\u001b[0;32m    220\u001b[0m     )\n\u001b[1;32m--> 221\u001b[0m     async_results \u001b[39m=\u001b[39m \u001b[39mself\u001b[39;49m\u001b[39m.\u001b[39;49mworkers\u001b[39m.\u001b[39;49mfetch_ready_async_reqs()\n\u001b[0;32m    223\u001b[0m \u001b[39m# Loop through all fetched worker-computed gradients (if any)\u001b[39;00m\n\u001b[0;32m    224\u001b[0m \u001b[39m# and apply them - one by one - to the local worker's model.\u001b[39;00m\n\u001b[0;32m    225\u001b[0m \u001b[39m# After each apply step (one step per worker that returned some gradients),\u001b[39;00m\n\u001b[0;32m    226\u001b[0m \u001b[39m# update that particular worker's weights.\u001b[39;00m\n\u001b[0;32m    227\u001b[0m global_vars \u001b[39m=\u001b[39m \u001b[39mNone\u001b[39;00m\n",
      "File \u001b[1;32mc:\\Users\\nadir\\anaconda3\\envs\\GTAI2\\lib\\site-packages\\ray\\rllib\\evaluation\\worker_set.py:830\u001b[0m, in \u001b[0;36mWorkerSet.fetch_ready_async_reqs\u001b[1;34m(self, timeout_seconds, return_obj_refs, mark_healthy)\u001b[0m\n\u001b[0;32m    813\u001b[0m \u001b[39m\"\"\"Get esults from outstanding asynchronous requests that are ready.\u001b[39;00m\n\u001b[0;32m    814\u001b[0m \n\u001b[0;32m    815\u001b[0m \u001b[39mArgs:\u001b[39;00m\n\u001b[1;32m   (...)\u001b[0m\n\u001b[0;32m    822\u001b[0m \u001b[39m    paired with the indices of the callee workers.\u001b[39;00m\n\u001b[0;32m    823\u001b[0m \u001b[39m\"\"\"\u001b[39;00m\n\u001b[0;32m    824\u001b[0m remote_results \u001b[39m=\u001b[39m \u001b[39mself\u001b[39m\u001b[39m.\u001b[39m__worker_manager\u001b[39m.\u001b[39mfetch_ready_async_reqs(\n\u001b[0;32m    825\u001b[0m     timeout_seconds\u001b[39m=\u001b[39mtimeout_seconds,\n\u001b[0;32m    826\u001b[0m     return_obj_refs\u001b[39m=\u001b[39mreturn_obj_refs,\n\u001b[0;32m    827\u001b[0m     mark_healthy\u001b[39m=\u001b[39mmark_healthy,\n\u001b[0;32m    828\u001b[0m )\n\u001b[1;32m--> 830\u001b[0m handle_remote_call_result_errors(remote_results, \u001b[39mself\u001b[39;49m\u001b[39m.\u001b[39;49m_ignore_worker_failures)\n\u001b[0;32m    832\u001b[0m \u001b[39mreturn\u001b[39;00m [(r\u001b[39m.\u001b[39mactor_id, r\u001b[39m.\u001b[39mget()) \u001b[39mfor\u001b[39;00m r \u001b[39min\u001b[39;00m remote_results\u001b[39m.\u001b[39mignore_errors()]\n",
      "File \u001b[1;32mc:\\Users\\nadir\\anaconda3\\envs\\GTAI2\\lib\\site-packages\\ray\\rllib\\evaluation\\worker_set.py:75\u001b[0m, in \u001b[0;36mhandle_remote_call_result_errors\u001b[1;34m(results, ignore_worker_failures)\u001b[0m\n\u001b[0;32m     73\u001b[0m     logger\u001b[39m.\u001b[39mexception(r\u001b[39m.\u001b[39mget())\n\u001b[0;32m     74\u001b[0m \u001b[39melse\u001b[39;00m:\n\u001b[1;32m---> 75\u001b[0m     \u001b[39mraise\u001b[39;00m r\u001b[39m.\u001b[39mget()\n",
      "\u001b[1;31mRayTaskError(ValueError)\u001b[0m: \u001b[36mray::RolloutWorker.apply()\u001b[39m (pid=14456, ip=127.0.0.1, repr=<ray.rllib.evaluation.rollout_worker.RolloutWorker object at 0x00000148FDDD3220>)\n  File \"python\\ray\\_raylet.pyx\", line 877, in ray._raylet.execute_task\n  File \"python\\ray\\_raylet.pyx\", line 881, in ray._raylet.execute_task\n  File \"python\\ray\\_raylet.pyx\", line 821, in ray._raylet.execute_task.function_executor\n  File \"c:\\Users\\nadir\\anaconda3\\envs\\GTAI2\\lib\\site-packages\\ray\\_private\\function_manager.py\", line 670, in actor_method_executor\n    return method(__ray_actor, *args, **kwargs)\n  File \"c:\\Users\\nadir\\anaconda3\\envs\\GTAI2\\lib\\site-packages\\ray\\util\\tracing\\tracing_helper.py\", line 460, in _resume_span\n    return method(self, *_args, **_kwargs)\n  File \"c:\\Users\\nadir\\anaconda3\\envs\\GTAI2\\lib\\site-packages\\ray\\rllib\\utils\\actor_manager.py\", line 185, in apply\n    raise e\n  File \"c:\\Users\\nadir\\anaconda3\\envs\\GTAI2\\lib\\site-packages\\ray\\rllib\\utils\\actor_manager.py\", line 176, in apply\n    return func(self, *args, **kwargs)\n  File \"c:\\Users\\nadir\\anaconda3\\envs\\GTAI2\\lib\\site-packages\\ray\\rllib\\algorithms\\a3c\\a3c.py\", line 204, in sample_and_compute_grads\n    samples = worker.sample()\n  File \"c:\\Users\\nadir\\anaconda3\\envs\\GTAI2\\lib\\site-packages\\ray\\util\\tracing\\tracing_helper.py\", line 460, in _resume_span\n    return method(self, *_args, **_kwargs)\n  File \"c:\\Users\\nadir\\anaconda3\\envs\\GTAI2\\lib\\site-packages\\ray\\rllib\\evaluation\\rollout_worker.py\", line 915, in sample\n    batches = [self.input_reader.next()]\n  File \"c:\\Users\\nadir\\anaconda3\\envs\\GTAI2\\lib\\site-packages\\ray\\rllib\\evaluation\\sampler.py\", line 92, in next\n    batches = [self.get_data()]\n  File \"c:\\Users\\nadir\\anaconda3\\envs\\GTAI2\\lib\\site-packages\\ray\\rllib\\evaluation\\sampler.py\", line 500, in get_data\n    raise rollout\n  File \"c:\\Users\\nadir\\anaconda3\\envs\\GTAI2\\lib\\threading.py\", line 973, in _bootstrap_inner\n    self.run()\n  File \"c:\\Users\\nadir\\anaconda3\\envs\\GTAI2\\lib\\site-packages\\ray\\rllib\\evaluation\\sampler.py\", line 440, in run\n    raise e\n  File \"c:\\Users\\nadir\\anaconda3\\envs\\GTAI2\\lib\\site-packages\\ray\\rllib\\evaluation\\sampler.py\", line 437, in run\n    self._run()\n  File \"c:\\Users\\nadir\\anaconda3\\envs\\GTAI2\\lib\\site-packages\\ray\\rllib\\evaluation\\sampler.py\", line 486, in _run\n    item = next(env_runner)\n  File \"c:\\Users\\nadir\\anaconda3\\envs\\GTAI2\\lib\\site-packages\\ray\\rllib\\evaluation\\env_runner_v2.py\", line 323, in run\n    outputs = self.step()\n  File \"c:\\Users\\nadir\\anaconda3\\envs\\GTAI2\\lib\\site-packages\\ray\\rllib\\evaluation\\env_runner_v2.py\", line 361, in step\n    eval_results = self._do_policy_eval(to_eval=to_eval)\n  File \"c:\\Users\\nadir\\anaconda3\\envs\\GTAI2\\lib\\site-packages\\ray\\rllib\\evaluation\\env_runner_v2.py\", line 1049, in _do_policy_eval\n    eval_results[policy_id] = policy.compute_actions_from_input_dict(\n  File \"c:\\Users\\nadir\\anaconda3\\envs\\GTAI2\\lib\\site-packages\\ray\\rllib\\policy\\torch_policy_v2.py\", line 522, in compute_actions_from_input_dict\n    return self._compute_action_helper(\n  File \"c:\\Users\\nadir\\anaconda3\\envs\\GTAI2\\lib\\site-packages\\ray\\rllib\\utils\\threading.py\", line 24, in wrapper\n    return func(self, *a, **k)\n  File \"c:\\Users\\nadir\\anaconda3\\envs\\GTAI2\\lib\\site-packages\\ray\\rllib\\policy\\torch_policy_v2.py\", line 1153, in _compute_action_helper\n    action_dist = dist_class(dist_inputs, self.model)\n  File \"c:\\Users\\nadir\\anaconda3\\envs\\GTAI2\\lib\\site-packages\\ray\\rllib\\models\\torch\\torch_action_dist.py\", line 250, in __init__\n    self.dist = torch.distributions.normal.Normal(mean, torch.exp(log_std))\n  File \"c:\\Users\\nadir\\anaconda3\\envs\\GTAI2\\lib\\site-packages\\torch\\distributions\\normal.py\", line 54, in __init__\n    super(Normal, self).__init__(batch_shape, validate_args=validate_args)\n  File \"c:\\Users\\nadir\\anaconda3\\envs\\GTAI2\\lib\\site-packages\\torch\\distributions\\distribution.py\", line 55, in __init__\n    raise ValueError(\nValueError: Expected parameter loc (Tensor of shape (1, 3)) of distribution Normal(loc: torch.Size([1, 3]), scale: torch.Size([1, 3])) to satisfy the constraint Real(), but found invalid values:\ntensor([[nan, nan, nan]])"
     ]
    },
    {
     "name": "stderr",
     "output_type": "stream",
     "text": [
      "2023-05-23 23:08:22,869\tERROR worker.py:408 -- Unhandled error (suppress with 'RAY_IGNORE_UNHANDLED_ERRORS=1'): \u001b[36mray::RolloutWorker.apply()\u001b[39m (pid=14456, ip=127.0.0.1, repr=<ray.rllib.evaluation.rollout_worker.RolloutWorker object at 0x00000148FDDD3220>)\n",
      "  File \"python\\ray\\_raylet.pyx\", line 877, in ray._raylet.execute_task\n",
      "  File \"python\\ray\\_raylet.pyx\", line 881, in ray._raylet.execute_task\n",
      "  File \"python\\ray\\_raylet.pyx\", line 821, in ray._raylet.execute_task.function_executor\n",
      "  File \"c:\\Users\\nadir\\anaconda3\\envs\\GTAI2\\lib\\site-packages\\ray\\_private\\function_manager.py\", line 670, in actor_method_executor\n",
      "    return method(__ray_actor, *args, **kwargs)\n",
      "  File \"c:\\Users\\nadir\\anaconda3\\envs\\GTAI2\\lib\\site-packages\\ray\\util\\tracing\\tracing_helper.py\", line 460, in _resume_span\n",
      "    return method(self, *_args, **_kwargs)\n",
      "  File \"c:\\Users\\nadir\\anaconda3\\envs\\GTAI2\\lib\\site-packages\\ray\\rllib\\utils\\actor_manager.py\", line 185, in apply\n",
      "    raise e\n",
      "  File \"c:\\Users\\nadir\\anaconda3\\envs\\GTAI2\\lib\\site-packages\\ray\\rllib\\utils\\actor_manager.py\", line 176, in apply\n",
      "    return func(self, *args, **kwargs)\n",
      "  File \"c:\\Users\\nadir\\anaconda3\\envs\\GTAI2\\lib\\site-packages\\ray\\rllib\\algorithms\\a3c\\a3c.py\", line 204, in sample_and_compute_grads\n",
      "    samples = worker.sample()\n",
      "  File \"c:\\Users\\nadir\\anaconda3\\envs\\GTAI2\\lib\\site-packages\\ray\\util\\tracing\\tracing_helper.py\", line 460, in _resume_span\n",
      "    return method(self, *_args, **_kwargs)\n",
      "  File \"c:\\Users\\nadir\\anaconda3\\envs\\GTAI2\\lib\\site-packages\\ray\\rllib\\evaluation\\rollout_worker.py\", line 915, in sample\n",
      "    batches = [self.input_reader.next()]\n",
      "  File \"c:\\Users\\nadir\\anaconda3\\envs\\GTAI2\\lib\\site-packages\\ray\\rllib\\evaluation\\sampler.py\", line 92, in next\n",
      "    batches = [self.get_data()]\n",
      "  File \"c:\\Users\\nadir\\anaconda3\\envs\\GTAI2\\lib\\site-packages\\ray\\rllib\\evaluation\\sampler.py\", line 495, in get_data\n",
      "    raise RuntimeError(\"Sampling thread has died\")\n",
      "RuntimeError: Sampling thread has died\n"
     ]
    }
   ],
   "source": [
    "if not debugAsGym and not testResult:\n",
    "    N = 1000\n",
    "\n",
    "    for n in range(N):\n",
    "        result = algo.train()\n",
    "        print(\"Loop: \", n)\n",
    "        if n % 10 == 0:\n",
    "            print(\"Saved\", n)\n",
    "            algo.save()\n",
    "            \n",
    "    algo.save()\n"
   ]
  },
  {
   "cell_type": "code",
   "execution_count": null,
   "metadata": {},
   "outputs": [],
   "source": [
    "if not debugAsGym and not testResult:\n",
    "    N = 1000\n",
    "\n",
    "    for n in range(N):\n",
    "        result = algo.train()\n",
    "        print(\"Loop: \", n)\n",
    "        if n % 50 == 0:\n",
    "            print(\"Saved\", n)\n",
    "            algo.save()\n",
    "            \n",
    "    algo.save()"
   ]
  },
  {
   "cell_type": "code",
   "execution_count": null,
   "metadata": {},
   "outputs": [],
   "source": [
    "from myRTClass import MyGranTurismoRTGYM, DEFAULT_CONFIG_DICT\n",
    "import gymnasium\n",
    "\n",
    "my_config = DEFAULT_CONFIG_DICT\n",
    "my_config[\"interface\"] = MyGranTurismoRTGYM\n",
    "my_config[\"time_step_duration\"] = 0.1\n",
    "my_config[\"start_obs_capture\"] = 0.1\n",
    "my_config[\"time_step_timeout_factor\"] = 1.0\n",
    "#my_config[\"ep_max_length\"] = 224\n",
    "my_config[\"act_buf_len\"] = 3\n",
    "my_config[\"reset_act_buf\"] = False\n",
    "my_config[\"benchmark\"] = True\n",
    "my_config[\"benchmark_polyak\"] = 0.2\n",
    "\n",
    "my_config[\"interface_kwargs\"] = {\n",
    "  'debugFlag': False, # do not use render() while True\n",
    "  'img_hist_len': 3,\n",
    "  'modelMode': 4,\n",
    "  'agent' : 'PPO',\n",
    "  #  [42, 42, K], [84, 84, K], [10, 10, K], [240, 320, K] and  [480, 640, K]\n",
    "  'imageWidth' : 42, # there is a default Cov layer for PPO with 240 x 320\n",
    "  'imageHeight' : 42,\n",
    "  'trackChoice' : 3, # 1 is High Speed Ring, 2 is 0-400m, \n",
    "}"
   ]
  },
  {
   "cell_type": "code",
   "execution_count": null,
   "metadata": {},
   "outputs": [],
   "source": [
    "if not debugAsGym and testResult:\n",
    "    def env_creator(env_config):\n",
    "        env = gymnasium.make(\"real-time-gym-v1\", config=env_config)\n",
    "        return env  # return an env instance\n",
    "\n",
    "    from ray.tune.registry import register_env\n",
    "    register_env(\"gt-rtgym-env-v1\", lambda config: env_creator(my_config)) "
   ]
  },
  {
   "cell_type": "code",
   "execution_count": null,
   "metadata": {},
   "outputs": [],
   "source": [
    "if not debugAsGym and testResult:\n",
    "    from ray.rllib.algorithms.algorithm import Algorithm\n",
    "    algo = Algorithm.from_checkpoint(\"C:/Users/nadir/ray_results/PPO_gt-rtgym-env-v1_2023-05-19_07-37-37z3d6v2w2/checkpoint_000061\")\n",
    "    #algo = Algorithm.from_checkpoint(\"C:/Users/nadir/ray_results/PPO_gt-rtgym-env-v1_2023-05-19_07-37-37z3d6v2w2/checkpoint_002000\")"
   ]
  },
  {
   "cell_type": "code",
   "execution_count": null,
   "metadata": {},
   "outputs": [],
   "source": [
    "if not debugAsGym and testResult:\n",
    "    result = algo.train()"
   ]
  },
  {
   "cell_type": "code",
   "execution_count": null,
   "metadata": {},
   "outputs": [],
   "source": [
    "if not debugAsGym and testResult:\n",
    "\n",
    "    policy = algo.get_policy()\n",
    "    #print(policy.model)\n",
    "    model = policy.model\n",
    "    print(model)"
   ]
  }
 ],
 "metadata": {
  "kernelspec": {
   "display_name": "GTAI2",
   "language": "python",
   "name": "python3"
  },
  "language_info": {
   "codemirror_mode": {
    "name": "ipython",
    "version": 3
   },
   "file_extension": ".py",
   "mimetype": "text/x-python",
   "name": "python",
   "nbconvert_exporter": "python",
   "pygments_lexer": "ipython3",
   "version": "3.9.9"
  },
  "orig_nbformat": 4
 },
 "nbformat": 4,
 "nbformat_minor": 2
}

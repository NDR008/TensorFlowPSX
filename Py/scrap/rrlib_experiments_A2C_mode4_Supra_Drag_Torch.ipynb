{
 "cells": [
  {
   "attachments": {},
   "cell_type": "markdown",
   "metadata": {},
   "source": [
    "# Setup Gym Environment\n",
    "\n",
    "```py\n",
    "my_config[\"interface\"] = MyGranTurismoRTGYM\n",
    "my_config[\"time_step_duration\"] = 0.05 # when to give up\n",
    "my_config[\"start_obs_capture\"] = 0.05 # when to capture \n",
    "my_config[\"time_step_timeout_factor\"] = 1.0 # how late is OK\n",
    "my_config[\"act_buf_len\"] = 3 # how many past actions\n",
    "my_config[\"reset_act_buf\"] = True # resect action buffer on reset\n",
    "my_config[\"benchmark\"] = True\n",
    "my_config[\"benchmark_polyak\"] = 0.2\n",
    "```\n",
    "\n",
    "This section needs to be setup for any method"
   ]
  },
  {
   "cell_type": "code",
   "execution_count": 1,
   "metadata": {},
   "outputs": [],
   "source": [
    "debugAsGym = False\n",
    "testResult = False\n",
    "\n",
    "from myRTClass import MyGranTurismoRTGYM, DEFAULT_CONFIG_DICT\n",
    "import gymnasium\n",
    "\n",
    "my_config = DEFAULT_CONFIG_DICT\n",
    "my_config[\"interface\"] = MyGranTurismoRTGYM\n",
    "my_config[\"time_step_duration\"] = 0.1\n",
    "my_config[\"start_obs_capture\"] = 0.1\n",
    "my_config[\"time_step_timeout_factor\"] = 1.0\n",
    "my_config[\"ep_max_length\"] = 224\n",
    "my_config[\"act_buf_len\"] = 3\n",
    "my_config[\"reset_act_buf\"] = False\n",
    "my_config[\"benchmark\"] = True\n",
    "my_config[\"benchmark_polyak\"] = 0.2\n",
    "\n",
    "my_config[\"interface_kwargs\"] = {\n",
    "  'debugFlag': False, # do not use render() while True\n",
    "  'img_hist_len': 3,\n",
    "  'modelMode': 4,\n",
    "  'agent' : 'A3C',\n",
    "  #  [42, 42, K], [84, 84, K], [10, 10, K], [240, 320, K] and  [480, 640, K]\n",
    "  'imageWidth' : 42, # there is a default Cov layer for PPO with 240 x 320\n",
    "  'imageHeight' : 42,\n",
    "  'trackChoice' : 3, # 1 is High Speed Ring, 2 is 0-400m in MR2, #3 is 0-400m in Supra, #4 is test ring\n",
    "}"
   ]
  },
  {
   "cell_type": "code",
   "execution_count": 2,
   "metadata": {},
   "outputs": [],
   "source": [
    "if debugAsGym:\n",
    "    env = gymnasium.make(\"real-time-gym-v1\", config=my_config)"
   ]
  },
  {
   "cell_type": "code",
   "execution_count": 3,
   "metadata": {},
   "outputs": [],
   "source": [
    "if debugAsGym:\n",
    "    env.reset()"
   ]
  },
  {
   "attachments": {},
   "cell_type": "markdown",
   "metadata": {},
   "source": [
    "# Register the environment in a way that RLlib is happy"
   ]
  },
  {
   "cell_type": "code",
   "execution_count": 4,
   "metadata": {},
   "outputs": [],
   "source": [
    "if not debugAsGym and not testResult:\n",
    "    def env_creator(env_config):\n",
    "        env = gymnasium.make(\"real-time-gym-v1\", config=env_config)\n",
    "        return env  # return an env instance\n",
    "\n",
    "    from ray.tune.registry import register_env\n",
    "    register_env(\"gt-rtgym-env-v1\", lambda config: env_creator(my_config)) # better way"
   ]
  },
  {
   "cell_type": "code",
   "execution_count": 5,
   "metadata": {},
   "outputs": [
    {
     "name": "stderr",
     "output_type": "stream",
     "text": [
      "2023-05-24 08:28:10,106\tINFO worker.py:1616 -- Started a local Ray instance. View the dashboard at \u001b[1m\u001b[32m127.0.0.1:8265 \u001b[39m\u001b[22m\n"
     ]
    }
   ],
   "source": [
    "if not debugAsGym and not testResult:\n",
    "    import ray\n",
    "    ray.shutdown()\n",
    "    ray.init()"
   ]
  },
  {
   "cell_type": "code",
   "execution_count": 6,
   "metadata": {},
   "outputs": [
    {
     "name": "stderr",
     "output_type": "stream",
     "text": [
      "2023-05-24 08:28:19,216\tINFO algorithm.py:527 -- Current log_level is WARN. For more information, set 'log_level': 'INFO' / 'DEBUG' or use the -v and -vv flags.\n"
     ]
    },
    {
     "name": "stdout",
     "output_type": "stream",
     "text": [
      "\u001b[2m\u001b[36m(RolloutWorker pid=15280)\u001b[0m GT Real Time instantiated\n",
      "\u001b[2m\u001b[36m(RolloutWorker pid=15280)\u001b[0m GT AI Server instantiated for rtgym\n",
      "\u001b[2m\u001b[36m(RolloutWorker pid=15280)\u001b[0m still simple reward system\n",
      "\u001b[2m\u001b[36m(RolloutWorker pid=15280)\u001b[0m starting up on localhost port 9999\n",
      "\u001b[2m\u001b[36m(RolloutWorker pid=15280)\u001b[0m Waiting for a connection\n"
     ]
    },
    {
     "name": "stderr",
     "output_type": "stream",
     "text": [
      "2023-05-24 08:29:54,772\tINFO trainable.py:172 -- Trainable.setup took 95.556 seconds. If your trainable is slow to initialize, consider setting reuse_actors=True to reduce actor creation overheads.\n"
     ]
    },
    {
     "name": "stdout",
     "output_type": "stream",
     "text": [
      "\u001b[2m\u001b[36m(RolloutWorker pid=15280)\u001b[0m Connection from ('127.0.0.1', 50186)\n"
     ]
    }
   ],
   "source": [
    "if not debugAsGym and not testResult:\n",
    "    from ray.rllib.algorithms.sac import SACConfig\n",
    "    from ray.rllib.algorithms.ppo import PPOConfig\n",
    "    from ray.rllib.algorithms.a2c import A2CConfig\n",
    "\n",
    "    algo = (\n",
    "        A2CConfig()\n",
    "        .resources(\n",
    "            num_gpus_per_learner_worker=1,\n",
    "            #num_cpus_for_local_worker=1,\n",
    "            num_cpus_per_learner_worker=16\n",
    "            )\n",
    "        .rollouts(\n",
    "            num_rollout_workers=1,\n",
    "            enable_connectors=True,\n",
    "            batch_mode=\"truncate_episodes\",\n",
    "            #rollout_fragment_length=256\n",
    "            )\n",
    "        .framework(\n",
    "            framework=\"torch\",\n",
    "            #eager_tracing=True,\n",
    "            )\n",
    "        .environment(\n",
    "            env=\"gt-rtgym-env-v1\",\n",
    "            disable_env_checking=True,\n",
    "            render_env=False,\n",
    "            )\n",
    "        .training(\n",
    "            #lr=tune.grid_search([0.01, 0.001, 0.0001])\n",
    "            #lambda_=0.95,\n",
    "            #gamma=0.99,\n",
    "            #sgd_minibatch_size=128,\n",
    "            train_batch_size=155,\n",
    "            #num_sgd_iter=8,\n",
    "            #clip_param=0.2,\n",
    "            #model={\"fcnet_hiddens\": [1, 8]},\n",
    "        )\n",
    "        .build()\n",
    "    )"
   ]
  },
  {
   "cell_type": "code",
   "execution_count": 7,
   "metadata": {},
   "outputs": [
    {
     "name": "stdout",
     "output_type": "stream",
     "text": [
      "\u001b[2m\u001b[36m(RolloutWorker pid=15280)\u001b[0m reset triggered\n",
      "\u001b[2m\u001b[36m(RolloutWorker pid=15280)\u001b[0m reload save for track : 4\n",
      "Loop:  0\n",
      "Saved 0\n",
      "\u001b[2m\u001b[36m(RolloutWorker pid=15280)\u001b[0m reset triggered\n",
      "\u001b[2m\u001b[36m(RolloutWorker pid=15280)\u001b[0m reload save for track : 4\n"
     ]
    },
    {
     "name": "stderr",
     "output_type": "stream",
     "text": [
      "\u001b[2m\u001b[36m(RolloutWorker pid=15280)\u001b[0m c:\\Users\\nadir\\anaconda3\\envs\\GTAI2\\lib\\site-packages\\rtgym\\envs\\real_time_env.py:376: UserWarning: Time-step timed out. Elapsed since last time-step: 0.12976800000127753\n",
      "\u001b[2m\u001b[36m(RolloutWorker pid=15280)\u001b[0m   warnings.warn(f\"Time-step timed out. Elapsed since last time-step: {now - self.__t_end}\")\n"
     ]
    },
    {
     "name": "stdout",
     "output_type": "stream",
     "text": [
      "Loop:  1\n",
      "\u001b[2m\u001b[36m(RolloutWorker pid=15280)\u001b[0m reset triggered\n",
      "\u001b[2m\u001b[36m(RolloutWorker pid=15280)\u001b[0m reload save for track : 4\n"
     ]
    },
    {
     "name": "stderr",
     "output_type": "stream",
     "text": [
      "\u001b[2m\u001b[36m(RolloutWorker pid=15280)\u001b[0m c:\\Users\\nadir\\anaconda3\\envs\\GTAI2\\lib\\site-packages\\rtgym\\envs\\real_time_env.py:376: UserWarning: Time-step timed out. Elapsed since last time-step: 0.12279960000128654\n",
      "\u001b[2m\u001b[36m(RolloutWorker pid=15280)\u001b[0m   warnings.warn(f\"Time-step timed out. Elapsed since last time-step: {now - self.__t_end}\")\n"
     ]
    },
    {
     "name": "stdout",
     "output_type": "stream",
     "text": [
      "Loop:  2\n",
      "Loop:  3\n",
      "\u001b[2m\u001b[36m(RolloutWorker pid=15280)\u001b[0m reset triggered\n",
      "\u001b[2m\u001b[36m(RolloutWorker pid=15280)\u001b[0m reload save for track : 4\n"
     ]
    },
    {
     "name": "stderr",
     "output_type": "stream",
     "text": [
      "\u001b[2m\u001b[36m(RolloutWorker pid=15280)\u001b[0m c:\\Users\\nadir\\anaconda3\\envs\\GTAI2\\lib\\site-packages\\rtgym\\envs\\real_time_env.py:376: UserWarning: Time-step timed out. Elapsed since last time-step: 0.13730200000125592\n",
      "\u001b[2m\u001b[36m(RolloutWorker pid=15280)\u001b[0m   warnings.warn(f\"Time-step timed out. Elapsed since last time-step: {now - self.__t_end}\")\n"
     ]
    },
    {
     "name": "stdout",
     "output_type": "stream",
     "text": [
      "Loop:  4\n",
      "\u001b[2m\u001b[36m(RolloutWorker pid=15280)\u001b[0m reset triggered\n",
      "\u001b[2m\u001b[36m(RolloutWorker pid=15280)\u001b[0m reload save for track : 4\n"
     ]
    },
    {
     "name": "stderr",
     "output_type": "stream",
     "text": [
      "\u001b[2m\u001b[36m(RolloutWorker pid=15280)\u001b[0m c:\\Users\\nadir\\anaconda3\\envs\\GTAI2\\lib\\site-packages\\rtgym\\envs\\real_time_env.py:376: UserWarning: Time-step timed out. Elapsed since last time-step: 0.16972880000128043\n",
      "\u001b[2m\u001b[36m(RolloutWorker pid=15280)\u001b[0m   warnings.warn(f\"Time-step timed out. Elapsed since last time-step: {now - self.__t_end}\")\n"
     ]
    },
    {
     "name": "stdout",
     "output_type": "stream",
     "text": [
      "Loop:  5\n",
      "Loop:  6\n",
      "\u001b[2m\u001b[36m(RolloutWorker pid=15280)\u001b[0m reset triggered\n",
      "\u001b[2m\u001b[36m(RolloutWorker pid=15280)\u001b[0m reload save for track : 4\n"
     ]
    },
    {
     "name": "stderr",
     "output_type": "stream",
     "text": [
      "\u001b[2m\u001b[36m(RolloutWorker pid=15280)\u001b[0m c:\\Users\\nadir\\anaconda3\\envs\\GTAI2\\lib\\site-packages\\rtgym\\envs\\real_time_env.py:376: UserWarning: Time-step timed out. Elapsed since last time-step: 0.14240650000127175\n",
      "\u001b[2m\u001b[36m(RolloutWorker pid=15280)\u001b[0m   warnings.warn(f\"Time-step timed out. Elapsed since last time-step: {now - self.__t_end}\")\n"
     ]
    },
    {
     "name": "stdout",
     "output_type": "stream",
     "text": [
      "Loop:  7\n",
      "\u001b[2m\u001b[36m(RolloutWorker pid=15280)\u001b[0m reset triggered\n",
      "\u001b[2m\u001b[36m(RolloutWorker pid=15280)\u001b[0m reload save for track : 4\n"
     ]
    },
    {
     "name": "stderr",
     "output_type": "stream",
     "text": [
      "\u001b[2m\u001b[36m(RolloutWorker pid=15280)\u001b[0m c:\\Users\\nadir\\anaconda3\\envs\\GTAI2\\lib\\site-packages\\rtgym\\envs\\real_time_env.py:376: UserWarning: Time-step timed out. Elapsed since last time-step: 0.157959500001283\n",
      "\u001b[2m\u001b[36m(RolloutWorker pid=15280)\u001b[0m   warnings.warn(f\"Time-step timed out. Elapsed since last time-step: {now - self.__t_end}\")\n"
     ]
    },
    {
     "name": "stdout",
     "output_type": "stream",
     "text": [
      "Loop:  8\n",
      "Loop:  9\n",
      "\u001b[2m\u001b[36m(RolloutWorker pid=15280)\u001b[0m reset triggered\n",
      "\u001b[2m\u001b[36m(RolloutWorker pid=15280)\u001b[0m reload save for track : 4\n"
     ]
    },
    {
     "name": "stderr",
     "output_type": "stream",
     "text": [
      "\u001b[2m\u001b[36m(RolloutWorker pid=15280)\u001b[0m c:\\Users\\nadir\\anaconda3\\envs\\GTAI2\\lib\\site-packages\\rtgym\\envs\\real_time_env.py:376: UserWarning: Time-step timed out. Elapsed since last time-step: 0.13246640000124899\n",
      "\u001b[2m\u001b[36m(RolloutWorker pid=15280)\u001b[0m   warnings.warn(f\"Time-step timed out. Elapsed since last time-step: {now - self.__t_end}\")\n"
     ]
    },
    {
     "name": "stdout",
     "output_type": "stream",
     "text": [
      "Loop:  10\n",
      "Saved 10\n",
      "\u001b[2m\u001b[36m(RolloutWorker pid=15280)\u001b[0m reset triggered\n",
      "\u001b[2m\u001b[36m(RolloutWorker pid=15280)\u001b[0m reload save for track : 4\n"
     ]
    },
    {
     "name": "stderr",
     "output_type": "stream",
     "text": [
      "\u001b[2m\u001b[36m(RolloutWorker pid=15280)\u001b[0m c:\\Users\\nadir\\anaconda3\\envs\\GTAI2\\lib\\site-packages\\rtgym\\envs\\real_time_env.py:376: UserWarning: Time-step timed out. Elapsed since last time-step: 0.13737249999559253\n",
      "\u001b[2m\u001b[36m(RolloutWorker pid=15280)\u001b[0m   warnings.warn(f\"Time-step timed out. Elapsed since last time-step: {now - self.__t_end}\")\n"
     ]
    },
    {
     "name": "stdout",
     "output_type": "stream",
     "text": [
      "Loop:  11\n",
      "Loop:  12\n",
      "\u001b[2m\u001b[36m(RolloutWorker pid=15280)\u001b[0m reset triggered\n",
      "\u001b[2m\u001b[36m(RolloutWorker pid=15280)\u001b[0m reload save for track : 4\n"
     ]
    },
    {
     "name": "stderr",
     "output_type": "stream",
     "text": [
      "\u001b[2m\u001b[36m(RolloutWorker pid=15280)\u001b[0m c:\\Users\\nadir\\anaconda3\\envs\\GTAI2\\lib\\site-packages\\rtgym\\envs\\real_time_env.py:376: UserWarning: Time-step timed out. Elapsed since last time-step: 0.12481899999488633\n",
      "\u001b[2m\u001b[36m(RolloutWorker pid=15280)\u001b[0m   warnings.warn(f\"Time-step timed out. Elapsed since last time-step: {now - self.__t_end}\")\n"
     ]
    },
    {
     "name": "stdout",
     "output_type": "stream",
     "text": [
      "Loop:  13\n",
      "\u001b[2m\u001b[36m(RolloutWorker pid=15280)\u001b[0m reset triggered\n",
      "\u001b[2m\u001b[36m(RolloutWorker pid=15280)\u001b[0m reload save for track : 4\n"
     ]
    },
    {
     "name": "stderr",
     "output_type": "stream",
     "text": [
      "\u001b[2m\u001b[36m(RolloutWorker pid=15280)\u001b[0m c:\\Users\\nadir\\anaconda3\\envs\\GTAI2\\lib\\site-packages\\rtgym\\envs\\real_time_env.py:376: UserWarning: Time-step timed out. Elapsed since last time-step: 0.15473679999490741\n",
      "\u001b[2m\u001b[36m(RolloutWorker pid=15280)\u001b[0m   warnings.warn(f\"Time-step timed out. Elapsed since last time-step: {now - self.__t_end}\")\n"
     ]
    },
    {
     "name": "stdout",
     "output_type": "stream",
     "text": [
      "Loop:  14\n",
      "\u001b[2m\u001b[36m(RolloutWorker pid=15280)\u001b[0m reset triggered\n",
      "\u001b[2m\u001b[36m(RolloutWorker pid=15280)\u001b[0m reload save for track : 4\n"
     ]
    },
    {
     "name": "stderr",
     "output_type": "stream",
     "text": [
      "\u001b[2m\u001b[36m(RolloutWorker pid=15280)\u001b[0m c:\\Users\\nadir\\anaconda3\\envs\\GTAI2\\lib\\site-packages\\rtgym\\envs\\real_time_env.py:376: UserWarning: Time-step timed out. Elapsed since last time-step: 0.15082679999488846\n",
      "\u001b[2m\u001b[36m(RolloutWorker pid=15280)\u001b[0m   warnings.warn(f\"Time-step timed out. Elapsed since last time-step: {now - self.__t_end}\")\n"
     ]
    },
    {
     "name": "stdout",
     "output_type": "stream",
     "text": [
      "Loop:  15\n",
      "Loop:  16\n",
      "\u001b[2m\u001b[36m(RolloutWorker pid=15280)\u001b[0m reset triggered\n",
      "\u001b[2m\u001b[36m(RolloutWorker pid=15280)\u001b[0m reload save for track : 4\n"
     ]
    },
    {
     "name": "stderr",
     "output_type": "stream",
     "text": [
      "\u001b[2m\u001b[36m(RolloutWorker pid=15280)\u001b[0m c:\\Users\\nadir\\anaconda3\\envs\\GTAI2\\lib\\site-packages\\rtgym\\envs\\real_time_env.py:376: UserWarning: Time-step timed out. Elapsed since last time-step: 0.1431390999949258\n",
      "\u001b[2m\u001b[36m(RolloutWorker pid=15280)\u001b[0m   warnings.warn(f\"Time-step timed out. Elapsed since last time-step: {now - self.__t_end}\")\n"
     ]
    },
    {
     "name": "stdout",
     "output_type": "stream",
     "text": [
      "Loop:  17\n",
      "\u001b[2m\u001b[36m(RolloutWorker pid=15280)\u001b[0m reset triggered\n",
      "\u001b[2m\u001b[36m(RolloutWorker pid=15280)\u001b[0m reload save for track : 4\n"
     ]
    },
    {
     "name": "stderr",
     "output_type": "stream",
     "text": [
      "\u001b[2m\u001b[36m(RolloutWorker pid=15280)\u001b[0m c:\\Users\\nadir\\anaconda3\\envs\\GTAI2\\lib\\site-packages\\rtgym\\envs\\real_time_env.py:376: UserWarning: Time-step timed out. Elapsed since last time-step: 0.156836099994905\n",
      "\u001b[2m\u001b[36m(RolloutWorker pid=15280)\u001b[0m   warnings.warn(f\"Time-step timed out. Elapsed since last time-step: {now - self.__t_end}\")\n"
     ]
    },
    {
     "name": "stdout",
     "output_type": "stream",
     "text": [
      "Loop:  18\n",
      "Loop:  19\n",
      "\u001b[2m\u001b[36m(RolloutWorker pid=15280)\u001b[0m reset triggered\n",
      "\u001b[2m\u001b[36m(RolloutWorker pid=15280)\u001b[0m reload save for track : 4\n"
     ]
    },
    {
     "name": "stderr",
     "output_type": "stream",
     "text": [
      "\u001b[2m\u001b[36m(RolloutWorker pid=15280)\u001b[0m c:\\Users\\nadir\\anaconda3\\envs\\GTAI2\\lib\\site-packages\\rtgym\\envs\\real_time_env.py:376: UserWarning: Time-step timed out. Elapsed since last time-step: 0.1319711999948936\n",
      "\u001b[2m\u001b[36m(RolloutWorker pid=15280)\u001b[0m   warnings.warn(f\"Time-step timed out. Elapsed since last time-step: {now - self.__t_end}\")\n"
     ]
    },
    {
     "name": "stdout",
     "output_type": "stream",
     "text": [
      "Loop:  20\n",
      "Saved 20\n",
      "\u001b[2m\u001b[36m(RolloutWorker pid=15280)\u001b[0m reset triggered\n",
      "\u001b[2m\u001b[36m(RolloutWorker pid=15280)\u001b[0m reload save for track : 4\n"
     ]
    },
    {
     "name": "stderr",
     "output_type": "stream",
     "text": [
      "\u001b[2m\u001b[36m(RolloutWorker pid=15280)\u001b[0m c:\\Users\\nadir\\anaconda3\\envs\\GTAI2\\lib\\site-packages\\rtgym\\envs\\real_time_env.py:376: UserWarning: Time-step timed out. Elapsed since last time-step: 0.15082779999494278\n",
      "\u001b[2m\u001b[36m(RolloutWorker pid=15280)\u001b[0m   warnings.warn(f\"Time-step timed out. Elapsed since last time-step: {now - self.__t_end}\")\n"
     ]
    },
    {
     "name": "stdout",
     "output_type": "stream",
     "text": [
      "Loop:  21\n",
      "Loop:  22\n",
      "\u001b[2m\u001b[36m(RolloutWorker pid=15280)\u001b[0m reset triggered\n",
      "\u001b[2m\u001b[36m(RolloutWorker pid=15280)\u001b[0m reload save for track : 4\n"
     ]
    },
    {
     "name": "stderr",
     "output_type": "stream",
     "text": [
      "\u001b[2m\u001b[36m(RolloutWorker pid=15280)\u001b[0m c:\\Users\\nadir\\anaconda3\\envs\\GTAI2\\lib\\site-packages\\rtgym\\envs\\real_time_env.py:376: UserWarning: Time-step timed out. Elapsed since last time-step: 0.13040039999486908\n",
      "\u001b[2m\u001b[36m(RolloutWorker pid=15280)\u001b[0m   warnings.warn(f\"Time-step timed out. Elapsed since last time-step: {now - self.__t_end}\")\n"
     ]
    },
    {
     "name": "stdout",
     "output_type": "stream",
     "text": [
      "Loop:  23\n",
      "\u001b[2m\u001b[36m(RolloutWorker pid=15280)\u001b[0m reset triggered\n",
      "\u001b[2m\u001b[36m(RolloutWorker pid=15280)\u001b[0m reload save for track : 4\n"
     ]
    },
    {
     "name": "stderr",
     "output_type": "stream",
     "text": [
      "\u001b[2m\u001b[36m(RolloutWorker pid=15280)\u001b[0m c:\\Users\\nadir\\anaconda3\\envs\\GTAI2\\lib\\site-packages\\rtgym\\envs\\real_time_env.py:376: UserWarning: Time-step timed out. Elapsed since last time-step: 0.14968569999490455\n",
      "\u001b[2m\u001b[36m(RolloutWorker pid=15280)\u001b[0m   warnings.warn(f\"Time-step timed out. Elapsed since last time-step: {now - self.__t_end}\")\n"
     ]
    },
    {
     "name": "stdout",
     "output_type": "stream",
     "text": [
      "Loop:  24\n",
      "Loop:  25\n",
      "\u001b[2m\u001b[36m(RolloutWorker pid=15280)\u001b[0m reset triggered\n",
      "\u001b[2m\u001b[36m(RolloutWorker pid=15280)\u001b[0m reload save for track : 4\n"
     ]
    },
    {
     "name": "stderr",
     "output_type": "stream",
     "text": [
      "\u001b[2m\u001b[36m(RolloutWorker pid=15280)\u001b[0m c:\\Users\\nadir\\anaconda3\\envs\\GTAI2\\lib\\site-packages\\rtgym\\envs\\real_time_env.py:376: UserWarning: Time-step timed out. Elapsed since last time-step: 0.14728969999492847\n",
      "\u001b[2m\u001b[36m(RolloutWorker pid=15280)\u001b[0m   warnings.warn(f\"Time-step timed out. Elapsed since last time-step: {now - self.__t_end}\")\n"
     ]
    },
    {
     "name": "stdout",
     "output_type": "stream",
     "text": [
      "Loop:  26\n",
      "\u001b[2m\u001b[36m(RolloutWorker pid=15280)\u001b[0m reset triggered\n",
      "\u001b[2m\u001b[36m(RolloutWorker pid=15280)\u001b[0m reload save for track : 4\n"
     ]
    },
    {
     "name": "stderr",
     "output_type": "stream",
     "text": [
      "\u001b[2m\u001b[36m(RolloutWorker pid=15280)\u001b[0m c:\\Users\\nadir\\anaconda3\\envs\\GTAI2\\lib\\site-packages\\rtgym\\envs\\real_time_env.py:376: UserWarning: Time-step timed out. Elapsed since last time-step: 0.168876799994905\n",
      "\u001b[2m\u001b[36m(RolloutWorker pid=15280)\u001b[0m   warnings.warn(f\"Time-step timed out. Elapsed since last time-step: {now - self.__t_end}\")\n"
     ]
    },
    {
     "name": "stdout",
     "output_type": "stream",
     "text": [
      "Loop:  27\n",
      "\u001b[2m\u001b[36m(RolloutWorker pid=15280)\u001b[0m reset triggered\n",
      "\u001b[2m\u001b[36m(RolloutWorker pid=15280)\u001b[0m reload save for track : 4\n"
     ]
    },
    {
     "name": "stderr",
     "output_type": "stream",
     "text": [
      "\u001b[2m\u001b[36m(RolloutWorker pid=15280)\u001b[0m c:\\Users\\nadir\\anaconda3\\envs\\GTAI2\\lib\\site-packages\\rtgym\\envs\\real_time_env.py:376: UserWarning: Time-step timed out. Elapsed since last time-step: 0.16441149999491245\n",
      "\u001b[2m\u001b[36m(RolloutWorker pid=15280)\u001b[0m   warnings.warn(f\"Time-step timed out. Elapsed since last time-step: {now - self.__t_end}\")\n"
     ]
    },
    {
     "name": "stdout",
     "output_type": "stream",
     "text": [
      "Loop:  28\n",
      "Loop:  29\n",
      "\u001b[2m\u001b[36m(RolloutWorker pid=15280)\u001b[0m reset triggered\n",
      "\u001b[2m\u001b[36m(RolloutWorker pid=15280)\u001b[0m reload save for track : 4\n"
     ]
    },
    {
     "name": "stderr",
     "output_type": "stream",
     "text": [
      "\u001b[2m\u001b[36m(RolloutWorker pid=15280)\u001b[0m c:\\Users\\nadir\\anaconda3\\envs\\GTAI2\\lib\\site-packages\\rtgym\\envs\\real_time_env.py:376: UserWarning: Time-step timed out. Elapsed since last time-step: 0.13618859999485267\n",
      "\u001b[2m\u001b[36m(RolloutWorker pid=15280)\u001b[0m   warnings.warn(f\"Time-step timed out. Elapsed since last time-step: {now - self.__t_end}\")\n"
     ]
    },
    {
     "name": "stdout",
     "output_type": "stream",
     "text": [
      "Loop:  30\n",
      "Saved 30\n",
      "\u001b[2m\u001b[36m(RolloutWorker pid=15280)\u001b[0m reset triggered\n",
      "\u001b[2m\u001b[36m(RolloutWorker pid=15280)\u001b[0m reload save for track : 4\n"
     ]
    },
    {
     "name": "stderr",
     "output_type": "stream",
     "text": [
      "\u001b[2m\u001b[36m(RolloutWorker pid=15280)\u001b[0m c:\\Users\\nadir\\anaconda3\\envs\\GTAI2\\lib\\site-packages\\rtgym\\envs\\real_time_env.py:376: UserWarning: Time-step timed out. Elapsed since last time-step: 0.12363009999501173\n",
      "\u001b[2m\u001b[36m(RolloutWorker pid=15280)\u001b[0m   warnings.warn(f\"Time-step timed out. Elapsed since last time-step: {now - self.__t_end}\")\n"
     ]
    },
    {
     "name": "stdout",
     "output_type": "stream",
     "text": [
      "Loop:  31\n",
      "Loop:  32\n",
      "\u001b[2m\u001b[36m(RolloutWorker pid=15280)\u001b[0m reset triggered\n",
      "\u001b[2m\u001b[36m(RolloutWorker pid=15280)\u001b[0m reload save for track : 4\n"
     ]
    },
    {
     "name": "stderr",
     "output_type": "stream",
     "text": [
      "\u001b[2m\u001b[36m(RolloutWorker pid=15280)\u001b[0m c:\\Users\\nadir\\anaconda3\\envs\\GTAI2\\lib\\site-packages\\rtgym\\envs\\real_time_env.py:376: UserWarning: Time-step timed out. Elapsed since last time-step: 0.14714869999488656\n",
      "\u001b[2m\u001b[36m(RolloutWorker pid=15280)\u001b[0m   warnings.warn(f\"Time-step timed out. Elapsed since last time-step: {now - self.__t_end}\")\n"
     ]
    },
    {
     "name": "stdout",
     "output_type": "stream",
     "text": [
      "Loop:  33\n",
      "\u001b[2m\u001b[36m(RolloutWorker pid=15280)\u001b[0m reset triggered\n",
      "\u001b[2m\u001b[36m(RolloutWorker pid=15280)\u001b[0m reload save for track : 4\n"
     ]
    },
    {
     "name": "stderr",
     "output_type": "stream",
     "text": [
      "\u001b[2m\u001b[36m(RolloutWorker pid=15280)\u001b[0m c:\\Users\\nadir\\anaconda3\\envs\\GTAI2\\lib\\site-packages\\rtgym\\envs\\real_time_env.py:376: UserWarning: Time-step timed out. Elapsed since last time-step: 0.17066539999484576\n",
      "\u001b[2m\u001b[36m(RolloutWorker pid=15280)\u001b[0m   warnings.warn(f\"Time-step timed out. Elapsed since last time-step: {now - self.__t_end}\")\n"
     ]
    },
    {
     "name": "stdout",
     "output_type": "stream",
     "text": [
      "Loop:  34\n",
      "Loop:  35\n",
      "\u001b[2m\u001b[36m(RolloutWorker pid=15280)\u001b[0m reset triggered\n",
      "\u001b[2m\u001b[36m(RolloutWorker pid=15280)\u001b[0m reload save for track : 4\n"
     ]
    },
    {
     "name": "stderr",
     "output_type": "stream",
     "text": [
      "\u001b[2m\u001b[36m(RolloutWorker pid=15280)\u001b[0m c:\\Users\\nadir\\anaconda3\\envs\\GTAI2\\lib\\site-packages\\rtgym\\envs\\real_time_env.py:376: UserWarning: Time-step timed out. Elapsed since last time-step: 0.14199919999498434\n",
      "\u001b[2m\u001b[36m(RolloutWorker pid=15280)\u001b[0m   warnings.warn(f\"Time-step timed out. Elapsed since last time-step: {now - self.__t_end}\")\n"
     ]
    },
    {
     "name": "stdout",
     "output_type": "stream",
     "text": [
      "Loop:  36\n",
      "\u001b[2m\u001b[36m(RolloutWorker pid=15280)\u001b[0m reset triggered\n",
      "\u001b[2m\u001b[36m(RolloutWorker pid=15280)\u001b[0m reload save for track : 4\n"
     ]
    },
    {
     "name": "stderr",
     "output_type": "stream",
     "text": [
      "\u001b[2m\u001b[36m(RolloutWorker pid=15280)\u001b[0m c:\\Users\\nadir\\anaconda3\\envs\\GTAI2\\lib\\site-packages\\rtgym\\envs\\real_time_env.py:376: UserWarning: Time-step timed out. Elapsed since last time-step: 0.14694539999482004\n",
      "\u001b[2m\u001b[36m(RolloutWorker pid=15280)\u001b[0m   warnings.warn(f\"Time-step timed out. Elapsed since last time-step: {now - self.__t_end}\")\n"
     ]
    },
    {
     "name": "stdout",
     "output_type": "stream",
     "text": [
      "Loop:  37\n",
      "Loop:  38\n",
      "\u001b[2m\u001b[36m(RolloutWorker pid=15280)\u001b[0m reset triggered\n",
      "\u001b[2m\u001b[36m(RolloutWorker pid=15280)\u001b[0m reload save for track : 4\n"
     ]
    },
    {
     "name": "stderr",
     "output_type": "stream",
     "text": [
      "\u001b[2m\u001b[36m(RolloutWorker pid=15280)\u001b[0m c:\\Users\\nadir\\anaconda3\\envs\\GTAI2\\lib\\site-packages\\rtgym\\envs\\real_time_env.py:376: UserWarning: Time-step timed out. Elapsed since last time-step: 0.14263469999491463\n",
      "\u001b[2m\u001b[36m(RolloutWorker pid=15280)\u001b[0m   warnings.warn(f\"Time-step timed out. Elapsed since last time-step: {now - self.__t_end}\")\n"
     ]
    },
    {
     "name": "stdout",
     "output_type": "stream",
     "text": [
      "Loop:  39\n",
      "\u001b[2m\u001b[36m(RolloutWorker pid=15280)\u001b[0m reset triggered\n",
      "\u001b[2m\u001b[36m(RolloutWorker pid=15280)\u001b[0m reload save for track : 4\n"
     ]
    },
    {
     "name": "stderr",
     "output_type": "stream",
     "text": [
      "\u001b[2m\u001b[36m(RolloutWorker pid=15280)\u001b[0m c:\\Users\\nadir\\anaconda3\\envs\\GTAI2\\lib\\site-packages\\rtgym\\envs\\real_time_env.py:376: UserWarning: Time-step timed out. Elapsed since last time-step: 0.13776049999489715\n",
      "\u001b[2m\u001b[36m(RolloutWorker pid=15280)\u001b[0m   warnings.warn(f\"Time-step timed out. Elapsed since last time-step: {now - self.__t_end}\")\n"
     ]
    },
    {
     "name": "stdout",
     "output_type": "stream",
     "text": [
      "Loop:  40\n",
      "Saved 40\n",
      "\u001b[2m\u001b[36m(RolloutWorker pid=15280)\u001b[0m reset triggered\n",
      "\u001b[2m\u001b[36m(RolloutWorker pid=15280)\u001b[0m reload save for track : 4\n"
     ]
    },
    {
     "name": "stderr",
     "output_type": "stream",
     "text": [
      "\u001b[2m\u001b[36m(RolloutWorker pid=15280)\u001b[0m c:\\Users\\nadir\\anaconda3\\envs\\GTAI2\\lib\\site-packages\\rtgym\\envs\\real_time_env.py:376: UserWarning: Time-step timed out. Elapsed since last time-step: 0.16965279999499217\n",
      "\u001b[2m\u001b[36m(RolloutWorker pid=15280)\u001b[0m   warnings.warn(f\"Time-step timed out. Elapsed since last time-step: {now - self.__t_end}\")\n"
     ]
    },
    {
     "name": "stdout",
     "output_type": "stream",
     "text": [
      "Loop:  41\n",
      "Loop:  42\n",
      "\u001b[2m\u001b[36m(RolloutWorker pid=15280)\u001b[0m reset triggered\n",
      "\u001b[2m\u001b[36m(RolloutWorker pid=15280)\u001b[0m reload save for track : 4\n"
     ]
    },
    {
     "name": "stderr",
     "output_type": "stream",
     "text": [
      "\u001b[2m\u001b[36m(RolloutWorker pid=15280)\u001b[0m c:\\Users\\nadir\\anaconda3\\envs\\GTAI2\\lib\\site-packages\\rtgym\\envs\\real_time_env.py:376: UserWarning: Time-step timed out. Elapsed since last time-step: 0.16992029999482838\n",
      "\u001b[2m\u001b[36m(RolloutWorker pid=15280)\u001b[0m   warnings.warn(f\"Time-step timed out. Elapsed since last time-step: {now - self.__t_end}\")\n"
     ]
    },
    {
     "name": "stdout",
     "output_type": "stream",
     "text": [
      "Loop:  43\n",
      "\u001b[2m\u001b[36m(RolloutWorker pid=15280)\u001b[0m reset triggered\n",
      "\u001b[2m\u001b[36m(RolloutWorker pid=15280)\u001b[0m reload save for track : 4\n"
     ]
    },
    {
     "name": "stderr",
     "output_type": "stream",
     "text": [
      "\u001b[2m\u001b[36m(RolloutWorker pid=15280)\u001b[0m c:\\Users\\nadir\\anaconda3\\envs\\GTAI2\\lib\\site-packages\\rtgym\\envs\\real_time_env.py:376: UserWarning: Time-step timed out. Elapsed since last time-step: 0.1333170999948834\n",
      "\u001b[2m\u001b[36m(RolloutWorker pid=15280)\u001b[0m   warnings.warn(f\"Time-step timed out. Elapsed since last time-step: {now - self.__t_end}\")\n"
     ]
    },
    {
     "name": "stdout",
     "output_type": "stream",
     "text": [
      "Loop:  44\n",
      "Loop:  45\n",
      "\u001b[2m\u001b[36m(RolloutWorker pid=15280)\u001b[0m reset triggered\n",
      "\u001b[2m\u001b[36m(RolloutWorker pid=15280)\u001b[0m reload save for track : 4\n"
     ]
    },
    {
     "name": "stderr",
     "output_type": "stream",
     "text": [
      "\u001b[2m\u001b[36m(RolloutWorker pid=15280)\u001b[0m c:\\Users\\nadir\\anaconda3\\envs\\GTAI2\\lib\\site-packages\\rtgym\\envs\\real_time_env.py:376: UserWarning: Time-step timed out. Elapsed since last time-step: 0.14801609999494758\n",
      "\u001b[2m\u001b[36m(RolloutWorker pid=15280)\u001b[0m   warnings.warn(f\"Time-step timed out. Elapsed since last time-step: {now - self.__t_end}\")\n"
     ]
    },
    {
     "name": "stdout",
     "output_type": "stream",
     "text": [
      "Loop:  46\n",
      "\u001b[2m\u001b[36m(RolloutWorker pid=15280)\u001b[0m reset triggered\n",
      "\u001b[2m\u001b[36m(RolloutWorker pid=15280)\u001b[0m reload save for track : 4\n"
     ]
    },
    {
     "name": "stderr",
     "output_type": "stream",
     "text": [
      "\u001b[2m\u001b[36m(RolloutWorker pid=15280)\u001b[0m c:\\Users\\nadir\\anaconda3\\envs\\GTAI2\\lib\\site-packages\\rtgym\\envs\\real_time_env.py:376: UserWarning: Time-step timed out. Elapsed since last time-step: 0.16151139999487896\n",
      "\u001b[2m\u001b[36m(RolloutWorker pid=15280)\u001b[0m   warnings.warn(f\"Time-step timed out. Elapsed since last time-step: {now - self.__t_end}\")\n"
     ]
    },
    {
     "name": "stdout",
     "output_type": "stream",
     "text": [
      "Loop:  47\n",
      "Loop:  48\n",
      "\u001b[2m\u001b[36m(RolloutWorker pid=15280)\u001b[0m reset triggered\n",
      "\u001b[2m\u001b[36m(RolloutWorker pid=15280)\u001b[0m reload save for track : 4\n"
     ]
    },
    {
     "name": "stderr",
     "output_type": "stream",
     "text": [
      "\u001b[2m\u001b[36m(RolloutWorker pid=15280)\u001b[0m c:\\Users\\nadir\\anaconda3\\envs\\GTAI2\\lib\\site-packages\\rtgym\\envs\\real_time_env.py:376: UserWarning: Time-step timed out. Elapsed since last time-step: 0.1373904999949218\n",
      "\u001b[2m\u001b[36m(RolloutWorker pid=15280)\u001b[0m   warnings.warn(f\"Time-step timed out. Elapsed since last time-step: {now - self.__t_end}\")\n"
     ]
    },
    {
     "name": "stdout",
     "output_type": "stream",
     "text": [
      "Loop:  49\n",
      "\u001b[2m\u001b[36m(RolloutWorker pid=15280)\u001b[0m reset triggered\n",
      "\u001b[2m\u001b[36m(RolloutWorker pid=15280)\u001b[0m reload save for track : 4\n"
     ]
    },
    {
     "name": "stderr",
     "output_type": "stream",
     "text": [
      "\u001b[2m\u001b[36m(RolloutWorker pid=15280)\u001b[0m c:\\Users\\nadir\\anaconda3\\envs\\GTAI2\\lib\\site-packages\\rtgym\\envs\\real_time_env.py:376: UserWarning: Time-step timed out. Elapsed since last time-step: 0.15060749999497602\n",
      "\u001b[2m\u001b[36m(RolloutWorker pid=15280)\u001b[0m   warnings.warn(f\"Time-step timed out. Elapsed since last time-step: {now - self.__t_end}\")\n"
     ]
    },
    {
     "name": "stdout",
     "output_type": "stream",
     "text": [
      "Loop:  50\n",
      "Saved 50\n",
      "Loop:  51\n",
      "\u001b[2m\u001b[36m(RolloutWorker pid=15280)\u001b[0m reset triggered\n",
      "\u001b[2m\u001b[36m(RolloutWorker pid=15280)\u001b[0m reload save for track : 4\n"
     ]
    },
    {
     "name": "stderr",
     "output_type": "stream",
     "text": [
      "\u001b[2m\u001b[36m(RolloutWorker pid=15280)\u001b[0m c:\\Users\\nadir\\anaconda3\\envs\\GTAI2\\lib\\site-packages\\rtgym\\envs\\real_time_env.py:376: UserWarning: Time-step timed out. Elapsed since last time-step: 0.1667934999948102\n",
      "\u001b[2m\u001b[36m(RolloutWorker pid=15280)\u001b[0m   warnings.warn(f\"Time-step timed out. Elapsed since last time-step: {now - self.__t_end}\")\n"
     ]
    },
    {
     "name": "stdout",
     "output_type": "stream",
     "text": [
      "Loop:  52\n",
      "\u001b[2m\u001b[36m(RolloutWorker pid=15280)\u001b[0m reset triggered\n",
      "\u001b[2m\u001b[36m(RolloutWorker pid=15280)\u001b[0m reload save for track : 4\n"
     ]
    },
    {
     "name": "stderr",
     "output_type": "stream",
     "text": [
      "\u001b[2m\u001b[36m(RolloutWorker pid=15280)\u001b[0m c:\\Users\\nadir\\anaconda3\\envs\\GTAI2\\lib\\site-packages\\rtgym\\envs\\real_time_env.py:376: UserWarning: Time-step timed out. Elapsed since last time-step: 0.14366129999496025\n",
      "\u001b[2m\u001b[36m(RolloutWorker pid=15280)\u001b[0m   warnings.warn(f\"Time-step timed out. Elapsed since last time-step: {now - self.__t_end}\")\n"
     ]
    },
    {
     "name": "stdout",
     "output_type": "stream",
     "text": [
      "Loop:  53\n",
      "\u001b[2m\u001b[36m(RolloutWorker pid=15280)\u001b[0m reset triggered\n",
      "\u001b[2m\u001b[36m(RolloutWorker pid=15280)\u001b[0m reload save for track : 4\n"
     ]
    },
    {
     "name": "stderr",
     "output_type": "stream",
     "text": [
      "\u001b[2m\u001b[36m(RolloutWorker pid=15280)\u001b[0m c:\\Users\\nadir\\anaconda3\\envs\\GTAI2\\lib\\site-packages\\rtgym\\envs\\real_time_env.py:376: UserWarning: Time-step timed out. Elapsed since last time-step: 0.12188169999490128\n",
      "\u001b[2m\u001b[36m(RolloutWorker pid=15280)\u001b[0m   warnings.warn(f\"Time-step timed out. Elapsed since last time-step: {now - self.__t_end}\")\n"
     ]
    },
    {
     "name": "stdout",
     "output_type": "stream",
     "text": [
      "Loop:  54\n",
      "Loop:  55\n",
      "\u001b[2m\u001b[36m(RolloutWorker pid=15280)\u001b[0m reset triggered\n",
      "\u001b[2m\u001b[36m(RolloutWorker pid=15280)\u001b[0m reload save for track : 4\n"
     ]
    },
    {
     "name": "stderr",
     "output_type": "stream",
     "text": [
      "\u001b[2m\u001b[36m(RolloutWorker pid=15280)\u001b[0m c:\\Users\\nadir\\anaconda3\\envs\\GTAI2\\lib\\site-packages\\rtgym\\envs\\real_time_env.py:376: UserWarning: Time-step timed out. Elapsed since last time-step: 0.13787229999491046\n",
      "\u001b[2m\u001b[36m(RolloutWorker pid=15280)\u001b[0m   warnings.warn(f\"Time-step timed out. Elapsed since last time-step: {now - self.__t_end}\")\n"
     ]
    },
    {
     "name": "stdout",
     "output_type": "stream",
     "text": [
      "Loop:  56\n",
      "\u001b[2m\u001b[36m(RolloutWorker pid=15280)\u001b[0m reset triggered\n",
      "\u001b[2m\u001b[36m(RolloutWorker pid=15280)\u001b[0m reload save for track : 4\n"
     ]
    },
    {
     "name": "stderr",
     "output_type": "stream",
     "text": [
      "\u001b[2m\u001b[36m(RolloutWorker pid=15280)\u001b[0m c:\\Users\\nadir\\anaconda3\\envs\\GTAI2\\lib\\site-packages\\rtgym\\envs\\real_time_env.py:376: UserWarning: Time-step timed out. Elapsed since last time-step: 0.17065999999488213\n",
      "\u001b[2m\u001b[36m(RolloutWorker pid=15280)\u001b[0m   warnings.warn(f\"Time-step timed out. Elapsed since last time-step: {now - self.__t_end}\")\n"
     ]
    },
    {
     "name": "stdout",
     "output_type": "stream",
     "text": [
      "Loop:  57\n",
      "Loop:  58\n",
      "\u001b[2m\u001b[36m(RolloutWorker pid=15280)\u001b[0m reset triggered\n",
      "\u001b[2m\u001b[36m(RolloutWorker pid=15280)\u001b[0m reload save for track : 4\n"
     ]
    },
    {
     "name": "stderr",
     "output_type": "stream",
     "text": [
      "\u001b[2m\u001b[36m(RolloutWorker pid=15280)\u001b[0m c:\\Users\\nadir\\anaconda3\\envs\\GTAI2\\lib\\site-packages\\rtgym\\envs\\real_time_env.py:376: UserWarning: Time-step timed out. Elapsed since last time-step: 0.1389186999949743\n",
      "\u001b[2m\u001b[36m(RolloutWorker pid=15280)\u001b[0m   warnings.warn(f\"Time-step timed out. Elapsed since last time-step: {now - self.__t_end}\")\n"
     ]
    },
    {
     "name": "stdout",
     "output_type": "stream",
     "text": [
      "Loop:  59\n",
      "\u001b[2m\u001b[36m(RolloutWorker pid=15280)\u001b[0m reset triggered\n",
      "\u001b[2m\u001b[36m(RolloutWorker pid=15280)\u001b[0m reload save for track : 4\n"
     ]
    },
    {
     "name": "stderr",
     "output_type": "stream",
     "text": [
      "\u001b[2m\u001b[36m(RolloutWorker pid=15280)\u001b[0m c:\\Users\\nadir\\anaconda3\\envs\\GTAI2\\lib\\site-packages\\rtgym\\envs\\real_time_env.py:376: UserWarning: Time-step timed out. Elapsed since last time-step: 0.1400933000159057\n",
      "\u001b[2m\u001b[36m(RolloutWorker pid=15280)\u001b[0m   warnings.warn(f\"Time-step timed out. Elapsed since last time-step: {now - self.__t_end}\")\n"
     ]
    },
    {
     "name": "stdout",
     "output_type": "stream",
     "text": [
      "Loop:  60\n",
      "Saved 60\n",
      "Loop:  61\n",
      "\u001b[2m\u001b[36m(RolloutWorker pid=15280)\u001b[0m reset triggered\n",
      "\u001b[2m\u001b[36m(RolloutWorker pid=15280)\u001b[0m reload save for track : 4\n"
     ]
    },
    {
     "name": "stderr",
     "output_type": "stream",
     "text": [
      "\u001b[2m\u001b[36m(RolloutWorker pid=15280)\u001b[0m c:\\Users\\nadir\\anaconda3\\envs\\GTAI2\\lib\\site-packages\\rtgym\\envs\\real_time_env.py:376: UserWarning: Time-step timed out. Elapsed since last time-step: 0.12363570002048618\n",
      "\u001b[2m\u001b[36m(RolloutWorker pid=15280)\u001b[0m   warnings.warn(f\"Time-step timed out. Elapsed since last time-step: {now - self.__t_end}\")\n"
     ]
    },
    {
     "name": "stdout",
     "output_type": "stream",
     "text": [
      "Loop:  62\n",
      "\u001b[2m\u001b[36m(RolloutWorker pid=15280)\u001b[0m reset triggered\n",
      "\u001b[2m\u001b[36m(RolloutWorker pid=15280)\u001b[0m reload save for track : 4\n"
     ]
    },
    {
     "name": "stderr",
     "output_type": "stream",
     "text": [
      "\u001b[2m\u001b[36m(RolloutWorker pid=15280)\u001b[0m c:\\Users\\nadir\\anaconda3\\envs\\GTAI2\\lib\\site-packages\\rtgym\\envs\\real_time_env.py:376: UserWarning: Time-step timed out. Elapsed since last time-step: 0.13718960002029235\n",
      "\u001b[2m\u001b[36m(RolloutWorker pid=15280)\u001b[0m   warnings.warn(f\"Time-step timed out. Elapsed since last time-step: {now - self.__t_end}\")\n"
     ]
    },
    {
     "name": "stdout",
     "output_type": "stream",
     "text": [
      "Loop:  63\n",
      "Loop:  64\n",
      "\u001b[2m\u001b[36m(RolloutWorker pid=15280)\u001b[0m reset triggered\n",
      "\u001b[2m\u001b[36m(RolloutWorker pid=15280)\u001b[0m reload save for track : 4\n"
     ]
    },
    {
     "name": "stderr",
     "output_type": "stream",
     "text": [
      "\u001b[2m\u001b[36m(RolloutWorker pid=15280)\u001b[0m c:\\Users\\nadir\\anaconda3\\envs\\GTAI2\\lib\\site-packages\\rtgym\\envs\\real_time_env.py:376: UserWarning: Time-step timed out. Elapsed since last time-step: 0.12980060002041682\n",
      "\u001b[2m\u001b[36m(RolloutWorker pid=15280)\u001b[0m   warnings.warn(f\"Time-step timed out. Elapsed since last time-step: {now - self.__t_end}\")\n"
     ]
    },
    {
     "name": "stdout",
     "output_type": "stream",
     "text": [
      "Loop:  65\n",
      "\u001b[2m\u001b[36m(RolloutWorker pid=15280)\u001b[0m reset triggered\n",
      "\u001b[2m\u001b[36m(RolloutWorker pid=15280)\u001b[0m reload save for track : 4\n"
     ]
    },
    {
     "name": "stderr",
     "output_type": "stream",
     "text": [
      "\u001b[2m\u001b[36m(RolloutWorker pid=15280)\u001b[0m c:\\Users\\nadir\\anaconda3\\envs\\GTAI2\\lib\\site-packages\\rtgym\\envs\\real_time_env.py:376: UserWarning: Time-step timed out. Elapsed since last time-step: 0.12221260002047529\n",
      "\u001b[2m\u001b[36m(RolloutWorker pid=15280)\u001b[0m   warnings.warn(f\"Time-step timed out. Elapsed since last time-step: {now - self.__t_end}\")\n"
     ]
    },
    {
     "name": "stdout",
     "output_type": "stream",
     "text": [
      "Loop:  66\n",
      "\u001b[2m\u001b[36m(RolloutWorker pid=15280)\u001b[0m reset triggered\n",
      "\u001b[2m\u001b[36m(RolloutWorker pid=15280)\u001b[0m reload save for track : 4\n"
     ]
    },
    {
     "name": "stderr",
     "output_type": "stream",
     "text": [
      "\u001b[2m\u001b[36m(RolloutWorker pid=15280)\u001b[0m c:\\Users\\nadir\\anaconda3\\envs\\GTAI2\\lib\\site-packages\\rtgym\\envs\\real_time_env.py:376: UserWarning: Time-step timed out. Elapsed since last time-step: 0.15109500002040477\n",
      "\u001b[2m\u001b[36m(RolloutWorker pid=15280)\u001b[0m   warnings.warn(f\"Time-step timed out. Elapsed since last time-step: {now - self.__t_end}\")\n"
     ]
    },
    {
     "name": "stdout",
     "output_type": "stream",
     "text": [
      "Loop:  67\n",
      "Loop:  68\n",
      "\u001b[2m\u001b[36m(RolloutWorker pid=15280)\u001b[0m reset triggered\n",
      "\u001b[2m\u001b[36m(RolloutWorker pid=15280)\u001b[0m reload save for track : 4\n"
     ]
    },
    {
     "name": "stderr",
     "output_type": "stream",
     "text": [
      "\u001b[2m\u001b[36m(RolloutWorker pid=15280)\u001b[0m c:\\Users\\nadir\\anaconda3\\envs\\GTAI2\\lib\\site-packages\\rtgym\\envs\\real_time_env.py:376: UserWarning: Time-step timed out. Elapsed since last time-step: 0.1570652000202699\n",
      "\u001b[2m\u001b[36m(RolloutWorker pid=15280)\u001b[0m   warnings.warn(f\"Time-step timed out. Elapsed since last time-step: {now - self.__t_end}\")\n"
     ]
    },
    {
     "name": "stdout",
     "output_type": "stream",
     "text": [
      "Loop:  69\n",
      "\u001b[2m\u001b[36m(RolloutWorker pid=15280)\u001b[0m reset triggered\n",
      "\u001b[2m\u001b[36m(RolloutWorker pid=15280)\u001b[0m reload save for track : 4\n"
     ]
    },
    {
     "name": "stderr",
     "output_type": "stream",
     "text": [
      "\u001b[2m\u001b[36m(RolloutWorker pid=15280)\u001b[0m c:\\Users\\nadir\\anaconda3\\envs\\GTAI2\\lib\\site-packages\\rtgym\\envs\\real_time_env.py:376: UserWarning: Time-step timed out. Elapsed since last time-step: 0.1524091000203498\n",
      "\u001b[2m\u001b[36m(RolloutWorker pid=15280)\u001b[0m   warnings.warn(f\"Time-step timed out. Elapsed since last time-step: {now - self.__t_end}\")\n"
     ]
    },
    {
     "name": "stdout",
     "output_type": "stream",
     "text": [
      "Loop:  70\n",
      "Saved 70\n",
      "Loop:  71\n",
      "\u001b[2m\u001b[36m(RolloutWorker pid=15280)\u001b[0m reset triggered\n",
      "\u001b[2m\u001b[36m(RolloutWorker pid=15280)\u001b[0m reload save for track : 4\n"
     ]
    },
    {
     "name": "stderr",
     "output_type": "stream",
     "text": [
      "\u001b[2m\u001b[36m(RolloutWorker pid=15280)\u001b[0m c:\\Users\\nadir\\anaconda3\\envs\\GTAI2\\lib\\site-packages\\rtgym\\envs\\real_time_env.py:376: UserWarning: Time-step timed out. Elapsed since last time-step: 0.13736460002041895\n",
      "\u001b[2m\u001b[36m(RolloutWorker pid=15280)\u001b[0m   warnings.warn(f\"Time-step timed out. Elapsed since last time-step: {now - self.__t_end}\")\n"
     ]
    },
    {
     "name": "stdout",
     "output_type": "stream",
     "text": [
      "Loop:  72\n",
      "\u001b[2m\u001b[36m(RolloutWorker pid=15280)\u001b[0m reset triggered\n",
      "\u001b[2m\u001b[36m(RolloutWorker pid=15280)\u001b[0m reload save for track : 4\n"
     ]
    },
    {
     "name": "stderr",
     "output_type": "stream",
     "text": [
      "\u001b[2m\u001b[36m(RolloutWorker pid=15280)\u001b[0m c:\\Users\\nadir\\anaconda3\\envs\\GTAI2\\lib\\site-packages\\rtgym\\envs\\real_time_env.py:376: UserWarning: Time-step timed out. Elapsed since last time-step: 0.1430732000203534\n",
      "\u001b[2m\u001b[36m(RolloutWorker pid=15280)\u001b[0m   warnings.warn(f\"Time-step timed out. Elapsed since last time-step: {now - self.__t_end}\")\n"
     ]
    },
    {
     "name": "stdout",
     "output_type": "stream",
     "text": [
      "Loop:  73\n",
      "Loop:  74\n",
      "\u001b[2m\u001b[36m(RolloutWorker pid=15280)\u001b[0m reset triggered\n",
      "\u001b[2m\u001b[36m(RolloutWorker pid=15280)\u001b[0m reload save for track : 4\n"
     ]
    },
    {
     "name": "stderr",
     "output_type": "stream",
     "text": [
      "\u001b[2m\u001b[36m(RolloutWorker pid=15280)\u001b[0m c:\\Users\\nadir\\anaconda3\\envs\\GTAI2\\lib\\site-packages\\rtgym\\envs\\real_time_env.py:376: UserWarning: Time-step timed out. Elapsed since last time-step: 0.15008590002025812\n",
      "\u001b[2m\u001b[36m(RolloutWorker pid=15280)\u001b[0m   warnings.warn(f\"Time-step timed out. Elapsed since last time-step: {now - self.__t_end}\")\n"
     ]
    },
    {
     "name": "stdout",
     "output_type": "stream",
     "text": [
      "Loop:  75\n",
      "\u001b[2m\u001b[36m(RolloutWorker pid=15280)\u001b[0m reset triggered\n",
      "\u001b[2m\u001b[36m(RolloutWorker pid=15280)\u001b[0m reload save for track : 4\n"
     ]
    },
    {
     "name": "stderr",
     "output_type": "stream",
     "text": [
      "\u001b[2m\u001b[36m(RolloutWorker pid=15280)\u001b[0m c:\\Users\\nadir\\anaconda3\\envs\\GTAI2\\lib\\site-packages\\rtgym\\envs\\real_time_env.py:376: UserWarning: Time-step timed out. Elapsed since last time-step: 0.14705070002037246\n",
      "\u001b[2m\u001b[36m(RolloutWorker pid=15280)\u001b[0m   warnings.warn(f\"Time-step timed out. Elapsed since last time-step: {now - self.__t_end}\")\n"
     ]
    },
    {
     "name": "stdout",
     "output_type": "stream",
     "text": [
      "Loop:  76\n",
      "Loop:  77\n",
      "\u001b[2m\u001b[36m(RolloutWorker pid=15280)\u001b[0m reset triggered\n",
      "\u001b[2m\u001b[36m(RolloutWorker pid=15280)\u001b[0m reload save for track : 4\n"
     ]
    },
    {
     "name": "stderr",
     "output_type": "stream",
     "text": [
      "\u001b[2m\u001b[36m(RolloutWorker pid=15280)\u001b[0m c:\\Users\\nadir\\anaconda3\\envs\\GTAI2\\lib\\site-packages\\rtgym\\envs\\real_time_env.py:376: UserWarning: Time-step timed out. Elapsed since last time-step: 0.12202080002043658\n",
      "\u001b[2m\u001b[36m(RolloutWorker pid=15280)\u001b[0m   warnings.warn(f\"Time-step timed out. Elapsed since last time-step: {now - self.__t_end}\")\n"
     ]
    },
    {
     "name": "stdout",
     "output_type": "stream",
     "text": [
      "Loop:  78\n",
      "\u001b[2m\u001b[36m(RolloutWorker pid=15280)\u001b[0m reset triggered\n",
      "\u001b[2m\u001b[36m(RolloutWorker pid=15280)\u001b[0m reload save for track : 4\n"
     ]
    },
    {
     "name": "stderr",
     "output_type": "stream",
     "text": [
      "\u001b[2m\u001b[36m(RolloutWorker pid=15280)\u001b[0m c:\\Users\\nadir\\anaconda3\\envs\\GTAI2\\lib\\site-packages\\rtgym\\envs\\real_time_env.py:376: UserWarning: Time-step timed out. Elapsed since last time-step: 0.14744920002044637\n",
      "\u001b[2m\u001b[36m(RolloutWorker pid=15280)\u001b[0m   warnings.warn(f\"Time-step timed out. Elapsed since last time-step: {now - self.__t_end}\")\n"
     ]
    },
    {
     "name": "stdout",
     "output_type": "stream",
     "text": [
      "Loop:  79\n",
      "\u001b[2m\u001b[36m(RolloutWorker pid=15280)\u001b[0m reset triggered\n",
      "\u001b[2m\u001b[36m(RolloutWorker pid=15280)\u001b[0m reload save for track : 4\n"
     ]
    },
    {
     "name": "stderr",
     "output_type": "stream",
     "text": [
      "\u001b[2m\u001b[36m(RolloutWorker pid=15280)\u001b[0m c:\\Users\\nadir\\anaconda3\\envs\\GTAI2\\lib\\site-packages\\rtgym\\envs\\real_time_env.py:376: UserWarning: Time-step timed out. Elapsed since last time-step: 0.13303180002026238\n",
      "\u001b[2m\u001b[36m(RolloutWorker pid=15280)\u001b[0m   warnings.warn(f\"Time-step timed out. Elapsed since last time-step: {now - self.__t_end}\")\n"
     ]
    },
    {
     "name": "stdout",
     "output_type": "stream",
     "text": [
      "Loop:  80\n",
      "Saved 80\n",
      "Loop:  81\n",
      "\u001b[2m\u001b[36m(RolloutWorker pid=15280)\u001b[0m reset triggered\n",
      "\u001b[2m\u001b[36m(RolloutWorker pid=15280)\u001b[0m reload save for track : 4\n"
     ]
    },
    {
     "name": "stderr",
     "output_type": "stream",
     "text": [
      "\u001b[2m\u001b[36m(RolloutWorker pid=15280)\u001b[0m c:\\Users\\nadir\\anaconda3\\envs\\GTAI2\\lib\\site-packages\\rtgym\\envs\\real_time_env.py:376: UserWarning: Time-step timed out. Elapsed since last time-step: 0.13767460002054577\n",
      "\u001b[2m\u001b[36m(RolloutWorker pid=15280)\u001b[0m   warnings.warn(f\"Time-step timed out. Elapsed since last time-step: {now - self.__t_end}\")\n"
     ]
    },
    {
     "name": "stdout",
     "output_type": "stream",
     "text": [
      "Loop:  82\n",
      "\u001b[2m\u001b[36m(RolloutWorker pid=15280)\u001b[0m reset triggered\n",
      "\u001b[2m\u001b[36m(RolloutWorker pid=15280)\u001b[0m reload save for track : 4\n"
     ]
    },
    {
     "name": "stderr",
     "output_type": "stream",
     "text": [
      "\u001b[2m\u001b[36m(RolloutWorker pid=15280)\u001b[0m c:\\Users\\nadir\\anaconda3\\envs\\GTAI2\\lib\\site-packages\\rtgym\\envs\\real_time_env.py:376: UserWarning: Time-step timed out. Elapsed since last time-step: 0.13251980002019081\n",
      "\u001b[2m\u001b[36m(RolloutWorker pid=15280)\u001b[0m   warnings.warn(f\"Time-step timed out. Elapsed since last time-step: {now - self.__t_end}\")\n"
     ]
    },
    {
     "name": "stdout",
     "output_type": "stream",
     "text": [
      "Loop:  83\n",
      "Loop:  84\n",
      "\u001b[2m\u001b[36m(RolloutWorker pid=15280)\u001b[0m reset triggered\n",
      "\u001b[2m\u001b[36m(RolloutWorker pid=15280)\u001b[0m reload save for track : 4\n"
     ]
    },
    {
     "name": "stderr",
     "output_type": "stream",
     "text": [
      "\u001b[2m\u001b[36m(RolloutWorker pid=15280)\u001b[0m c:\\Users\\nadir\\anaconda3\\envs\\GTAI2\\lib\\site-packages\\rtgym\\envs\\real_time_env.py:376: UserWarning: Time-step timed out. Elapsed since last time-step: 0.14768190002041592\n",
      "\u001b[2m\u001b[36m(RolloutWorker pid=15280)\u001b[0m   warnings.warn(f\"Time-step timed out. Elapsed since last time-step: {now - self.__t_end}\")\n"
     ]
    },
    {
     "name": "stdout",
     "output_type": "stream",
     "text": [
      "Loop:  85\n",
      "\u001b[2m\u001b[36m(RolloutWorker pid=15280)\u001b[0m reset triggered\n",
      "\u001b[2m\u001b[36m(RolloutWorker pid=15280)\u001b[0m reload save for track : 4\n"
     ]
    },
    {
     "name": "stderr",
     "output_type": "stream",
     "text": [
      "\u001b[2m\u001b[36m(RolloutWorker pid=15280)\u001b[0m c:\\Users\\nadir\\anaconda3\\envs\\GTAI2\\lib\\site-packages\\rtgym\\envs\\real_time_env.py:376: UserWarning: Time-step timed out. Elapsed since last time-step: 0.14205610002045432\n",
      "\u001b[2m\u001b[36m(RolloutWorker pid=15280)\u001b[0m   warnings.warn(f\"Time-step timed out. Elapsed since last time-step: {now - self.__t_end}\")\n"
     ]
    },
    {
     "name": "stdout",
     "output_type": "stream",
     "text": [
      "Loop:  86\n",
      "Loop:  87\n",
      "\u001b[2m\u001b[36m(RolloutWorker pid=15280)\u001b[0m reset triggered\n",
      "\u001b[2m\u001b[36m(RolloutWorker pid=15280)\u001b[0m reload save for track : 4\n"
     ]
    },
    {
     "name": "stderr",
     "output_type": "stream",
     "text": [
      "\u001b[2m\u001b[36m(RolloutWorker pid=15280)\u001b[0m c:\\Users\\nadir\\anaconda3\\envs\\GTAI2\\lib\\site-packages\\rtgym\\envs\\real_time_env.py:376: UserWarning: Time-step timed out. Elapsed since last time-step: 0.1579576000203815\n",
      "\u001b[2m\u001b[36m(RolloutWorker pid=15280)\u001b[0m   warnings.warn(f\"Time-step timed out. Elapsed since last time-step: {now - self.__t_end}\")\n"
     ]
    },
    {
     "name": "stdout",
     "output_type": "stream",
     "text": [
      "Loop:  88\n",
      "\u001b[2m\u001b[36m(RolloutWorker pid=15280)\u001b[0m reset triggered\n",
      "\u001b[2m\u001b[36m(RolloutWorker pid=15280)\u001b[0m reload save for track : 4\n"
     ]
    },
    {
     "name": "stderr",
     "output_type": "stream",
     "text": [
      "\u001b[2m\u001b[36m(RolloutWorker pid=15280)\u001b[0m c:\\Users\\nadir\\anaconda3\\envs\\GTAI2\\lib\\site-packages\\rtgym\\envs\\real_time_env.py:376: UserWarning: Time-step timed out. Elapsed since last time-step: 0.1698690000202987\n",
      "\u001b[2m\u001b[36m(RolloutWorker pid=15280)\u001b[0m   warnings.warn(f\"Time-step timed out. Elapsed since last time-step: {now - self.__t_end}\")\n"
     ]
    },
    {
     "name": "stdout",
     "output_type": "stream",
     "text": [
      "Loop:  89\n",
      "Loop:  90\n",
      "Saved 90\n",
      "\u001b[2m\u001b[36m(RolloutWorker pid=15280)\u001b[0m reset triggered\n",
      "\u001b[2m\u001b[36m(RolloutWorker pid=15280)\u001b[0m reload save for track : 4\n"
     ]
    },
    {
     "name": "stderr",
     "output_type": "stream",
     "text": [
      "\u001b[2m\u001b[36m(RolloutWorker pid=15280)\u001b[0m c:\\Users\\nadir\\anaconda3\\envs\\GTAI2\\lib\\site-packages\\rtgym\\envs\\real_time_env.py:376: UserWarning: Time-step timed out. Elapsed since last time-step: 0.12201620002042546\n",
      "\u001b[2m\u001b[36m(RolloutWorker pid=15280)\u001b[0m   warnings.warn(f\"Time-step timed out. Elapsed since last time-step: {now - self.__t_end}\")\n"
     ]
    },
    {
     "name": "stdout",
     "output_type": "stream",
     "text": [
      "Loop:  91\n",
      "\u001b[2m\u001b[36m(RolloutWorker pid=15280)\u001b[0m reset triggered\n",
      "\u001b[2m\u001b[36m(RolloutWorker pid=15280)\u001b[0m reload save for track : 4\n"
     ]
    },
    {
     "name": "stderr",
     "output_type": "stream",
     "text": [
      "\u001b[2m\u001b[36m(RolloutWorker pid=15280)\u001b[0m c:\\Users\\nadir\\anaconda3\\envs\\GTAI2\\lib\\site-packages\\rtgym\\envs\\real_time_env.py:376: UserWarning: Time-step timed out. Elapsed since last time-step: 0.1486115000202517\n",
      "\u001b[2m\u001b[36m(RolloutWorker pid=15280)\u001b[0m   warnings.warn(f\"Time-step timed out. Elapsed since last time-step: {now - self.__t_end}\")\n"
     ]
    },
    {
     "name": "stdout",
     "output_type": "stream",
     "text": [
      "Loop:  92\n",
      "\u001b[2m\u001b[36m(RolloutWorker pid=15280)\u001b[0m reset triggered\n",
      "\u001b[2m\u001b[36m(RolloutWorker pid=15280)\u001b[0m reload save for track : 4\n"
     ]
    },
    {
     "name": "stderr",
     "output_type": "stream",
     "text": [
      "\u001b[2m\u001b[36m(RolloutWorker pid=15280)\u001b[0m c:\\Users\\nadir\\anaconda3\\envs\\GTAI2\\lib\\site-packages\\rtgym\\envs\\real_time_env.py:376: UserWarning: Time-step timed out. Elapsed since last time-step: 0.1427172000205701\n",
      "\u001b[2m\u001b[36m(RolloutWorker pid=15280)\u001b[0m   warnings.warn(f\"Time-step timed out. Elapsed since last time-step: {now - self.__t_end}\")\n"
     ]
    },
    {
     "name": "stdout",
     "output_type": "stream",
     "text": [
      "Loop:  93\n",
      "Loop:  94\n",
      "\u001b[2m\u001b[36m(RolloutWorker pid=15280)\u001b[0m reset triggered\n",
      "\u001b[2m\u001b[36m(RolloutWorker pid=15280)\u001b[0m reload save for track : 4\n"
     ]
    },
    {
     "name": "stderr",
     "output_type": "stream",
     "text": [
      "\u001b[2m\u001b[36m(RolloutWorker pid=15280)\u001b[0m c:\\Users\\nadir\\anaconda3\\envs\\GTAI2\\lib\\site-packages\\rtgym\\envs\\real_time_env.py:376: UserWarning: Time-step timed out. Elapsed since last time-step: 0.14873230002035598\n",
      "\u001b[2m\u001b[36m(RolloutWorker pid=15280)\u001b[0m   warnings.warn(f\"Time-step timed out. Elapsed since last time-step: {now - self.__t_end}\")\n"
     ]
    },
    {
     "name": "stdout",
     "output_type": "stream",
     "text": [
      "Loop:  95\n",
      "\u001b[2m\u001b[36m(RolloutWorker pid=15280)\u001b[0m reset triggered\n",
      "\u001b[2m\u001b[36m(RolloutWorker pid=15280)\u001b[0m reload save for track : 4\n"
     ]
    },
    {
     "name": "stderr",
     "output_type": "stream",
     "text": [
      "\u001b[2m\u001b[36m(RolloutWorker pid=15280)\u001b[0m c:\\Users\\nadir\\anaconda3\\envs\\GTAI2\\lib\\site-packages\\rtgym\\envs\\real_time_env.py:376: UserWarning: Time-step timed out. Elapsed since last time-step: 0.15826490002018545\n",
      "\u001b[2m\u001b[36m(RolloutWorker pid=15280)\u001b[0m   warnings.warn(f\"Time-step timed out. Elapsed since last time-step: {now - self.__t_end}\")\n"
     ]
    },
    {
     "name": "stdout",
     "output_type": "stream",
     "text": [
      "Loop:  96\n",
      "Loop:  97\n",
      "\u001b[2m\u001b[36m(RolloutWorker pid=15280)\u001b[0m reset triggered\n",
      "\u001b[2m\u001b[36m(RolloutWorker pid=15280)\u001b[0m reload save for track : 4\n"
     ]
    },
    {
     "name": "stderr",
     "output_type": "stream",
     "text": [
      "\u001b[2m\u001b[36m(RolloutWorker pid=15280)\u001b[0m c:\\Users\\nadir\\anaconda3\\envs\\GTAI2\\lib\\site-packages\\rtgym\\envs\\real_time_env.py:376: UserWarning: Time-step timed out. Elapsed since last time-step: 0.1531383000203732\n",
      "\u001b[2m\u001b[36m(RolloutWorker pid=15280)\u001b[0m   warnings.warn(f\"Time-step timed out. Elapsed since last time-step: {now - self.__t_end}\")\n"
     ]
    },
    {
     "name": "stdout",
     "output_type": "stream",
     "text": [
      "Loop:  98\n",
      "\u001b[2m\u001b[36m(RolloutWorker pid=15280)\u001b[0m reset triggered\n",
      "\u001b[2m\u001b[36m(RolloutWorker pid=15280)\u001b[0m reload save for track : 4\n"
     ]
    },
    {
     "name": "stderr",
     "output_type": "stream",
     "text": [
      "\u001b[2m\u001b[36m(RolloutWorker pid=15280)\u001b[0m c:\\Users\\nadir\\anaconda3\\envs\\GTAI2\\lib\\site-packages\\rtgym\\envs\\real_time_env.py:376: UserWarning: Time-step timed out. Elapsed since last time-step: 0.14694490002057137\n",
      "\u001b[2m\u001b[36m(RolloutWorker pid=15280)\u001b[0m   warnings.warn(f\"Time-step timed out. Elapsed since last time-step: {now - self.__t_end}\")\n"
     ]
    },
    {
     "name": "stdout",
     "output_type": "stream",
     "text": [
      "Loop:  99\n",
      "Loop:  100\n",
      "Saved 100\n",
      "\u001b[2m\u001b[36m(RolloutWorker pid=15280)\u001b[0m reset triggered\n",
      "\u001b[2m\u001b[36m(RolloutWorker pid=15280)\u001b[0m reload save for track : 4\n"
     ]
    },
    {
     "name": "stderr",
     "output_type": "stream",
     "text": [
      "\u001b[2m\u001b[36m(RolloutWorker pid=15280)\u001b[0m c:\\Users\\nadir\\anaconda3\\envs\\GTAI2\\lib\\site-packages\\rtgym\\envs\\real_time_env.py:376: UserWarning: Time-step timed out. Elapsed since last time-step: 0.12471570002026056\n",
      "\u001b[2m\u001b[36m(RolloutWorker pid=15280)\u001b[0m   warnings.warn(f\"Time-step timed out. Elapsed since last time-step: {now - self.__t_end}\")\n"
     ]
    },
    {
     "name": "stdout",
     "output_type": "stream",
     "text": [
      "Loop:  101\n",
      "\u001b[2m\u001b[36m(RolloutWorker pid=15280)\u001b[0m reset triggered\n",
      "\u001b[2m\u001b[36m(RolloutWorker pid=15280)\u001b[0m reload save for track : 4\n"
     ]
    },
    {
     "name": "stderr",
     "output_type": "stream",
     "text": [
      "\u001b[2m\u001b[36m(RolloutWorker pid=15280)\u001b[0m c:\\Users\\nadir\\anaconda3\\envs\\GTAI2\\lib\\site-packages\\rtgym\\envs\\real_time_env.py:376: UserWarning: Time-step timed out. Elapsed since last time-step: 0.14466580002044793\n",
      "\u001b[2m\u001b[36m(RolloutWorker pid=15280)\u001b[0m   warnings.warn(f\"Time-step timed out. Elapsed since last time-step: {now - self.__t_end}\")\n"
     ]
    },
    {
     "name": "stdout",
     "output_type": "stream",
     "text": [
      "Loop:  102\n",
      "Loop:  103\n",
      "\u001b[2m\u001b[36m(RolloutWorker pid=15280)\u001b[0m reset triggered\n",
      "\u001b[2m\u001b[36m(RolloutWorker pid=15280)\u001b[0m reload save for track : 4\n"
     ]
    },
    {
     "name": "stderr",
     "output_type": "stream",
     "text": [
      "\u001b[2m\u001b[36m(RolloutWorker pid=15280)\u001b[0m c:\\Users\\nadir\\anaconda3\\envs\\GTAI2\\lib\\site-packages\\rtgym\\envs\\real_time_env.py:376: UserWarning: Time-step timed out. Elapsed since last time-step: 0.14308670002037616\n",
      "\u001b[2m\u001b[36m(RolloutWorker pid=15280)\u001b[0m   warnings.warn(f\"Time-step timed out. Elapsed since last time-step: {now - self.__t_end}\")\n"
     ]
    },
    {
     "name": "stdout",
     "output_type": "stream",
     "text": [
      "Loop:  104\n",
      "\u001b[2m\u001b[36m(RolloutWorker pid=15280)\u001b[0m reset triggered\n",
      "\u001b[2m\u001b[36m(RolloutWorker pid=15280)\u001b[0m reload save for track : 4\n"
     ]
    },
    {
     "name": "stderr",
     "output_type": "stream",
     "text": [
      "\u001b[2m\u001b[36m(RolloutWorker pid=15280)\u001b[0m c:\\Users\\nadir\\anaconda3\\envs\\GTAI2\\lib\\site-packages\\rtgym\\envs\\real_time_env.py:376: UserWarning: Time-step timed out. Elapsed since last time-step: 0.13778630002025238\n",
      "\u001b[2m\u001b[36m(RolloutWorker pid=15280)\u001b[0m   warnings.warn(f\"Time-step timed out. Elapsed since last time-step: {now - self.__t_end}\")\n"
     ]
    },
    {
     "name": "stdout",
     "output_type": "stream",
     "text": [
      "Loop:  105\n",
      "\u001b[2m\u001b[36m(RolloutWorker pid=15280)\u001b[0m reset triggered\n",
      "\u001b[2m\u001b[36m(RolloutWorker pid=15280)\u001b[0m reload save for track : 4\n"
     ]
    },
    {
     "name": "stderr",
     "output_type": "stream",
     "text": [
      "\u001b[2m\u001b[36m(RolloutWorker pid=15280)\u001b[0m c:\\Users\\nadir\\anaconda3\\envs\\GTAI2\\lib\\site-packages\\rtgym\\envs\\real_time_env.py:376: UserWarning: Time-step timed out. Elapsed since last time-step: 0.13255460002051223\n",
      "\u001b[2m\u001b[36m(RolloutWorker pid=15280)\u001b[0m   warnings.warn(f\"Time-step timed out. Elapsed since last time-step: {now - self.__t_end}\")\n"
     ]
    },
    {
     "name": "stdout",
     "output_type": "stream",
     "text": [
      "Loop:  106\n",
      "Loop:  107\n",
      "\u001b[2m\u001b[36m(RolloutWorker pid=15280)\u001b[0m reset triggered\n",
      "\u001b[2m\u001b[36m(RolloutWorker pid=15280)\u001b[0m reload save for track : 4\n"
     ]
    },
    {
     "name": "stderr",
     "output_type": "stream",
     "text": [
      "\u001b[2m\u001b[36m(RolloutWorker pid=15280)\u001b[0m c:\\Users\\nadir\\anaconda3\\envs\\GTAI2\\lib\\site-packages\\rtgym\\envs\\real_time_env.py:376: UserWarning: Time-step timed out. Elapsed since last time-step: 0.139519900020332\n",
      "\u001b[2m\u001b[36m(RolloutWorker pid=15280)\u001b[0m   warnings.warn(f\"Time-step timed out. Elapsed since last time-step: {now - self.__t_end}\")\n",
      "\u001b[2m\u001b[36m(RolloutWorker pid=15280)\u001b[0m c:\\Users\\nadir\\anaconda3\\envs\\GTAI2\\lib\\site-packages\\rtgym\\envs\\real_time_env.py:376: UserWarning: Time-step timed out. Elapsed since last time-step: 0.13890420000370796\n",
      "\u001b[2m\u001b[36m(RolloutWorker pid=15280)\u001b[0m   warnings.warn(f\"Time-step timed out. Elapsed since last time-step: {now - self.__t_end}\")\n"
     ]
    },
    {
     "name": "stdout",
     "output_type": "stream",
     "text": [
      "Loop:  108\n",
      "\u001b[2m\u001b[36m(RolloutWorker pid=15280)\u001b[0m reset triggered\n",
      "\u001b[2m\u001b[36m(RolloutWorker pid=15280)\u001b[0m reload save for track : 4\n"
     ]
    },
    {
     "name": "stderr",
     "output_type": "stream",
     "text": [
      "\u001b[2m\u001b[36m(RolloutWorker pid=15280)\u001b[0m c:\\Users\\nadir\\anaconda3\\envs\\GTAI2\\lib\\site-packages\\rtgym\\envs\\real_time_env.py:376: UserWarning: Time-step timed out. Elapsed since last time-step: 0.1419775000165373\n",
      "\u001b[2m\u001b[36m(RolloutWorker pid=15280)\u001b[0m   warnings.warn(f\"Time-step timed out. Elapsed since last time-step: {now - self.__t_end}\")\n"
     ]
    },
    {
     "name": "stdout",
     "output_type": "stream",
     "text": [
      "Loop:  109\n",
      "Loop:  110\n",
      "Saved 110\n",
      "\u001b[2m\u001b[36m(RolloutWorker pid=15280)\u001b[0m reset triggered\n",
      "\u001b[2m\u001b[36m(RolloutWorker pid=15280)\u001b[0m reload save for track : 4\n"
     ]
    },
    {
     "name": "stderr",
     "output_type": "stream",
     "text": [
      "\u001b[2m\u001b[36m(RolloutWorker pid=15280)\u001b[0m c:\\Users\\nadir\\anaconda3\\envs\\GTAI2\\lib\\site-packages\\rtgym\\envs\\real_time_env.py:376: UserWarning: Time-step timed out. Elapsed since last time-step: 0.14727980002044205\n",
      "\u001b[2m\u001b[36m(RolloutWorker pid=15280)\u001b[0m   warnings.warn(f\"Time-step timed out. Elapsed since last time-step: {now - self.__t_end}\")\n"
     ]
    },
    {
     "name": "stdout",
     "output_type": "stream",
     "text": [
      "Loop:  111\n",
      "\u001b[2m\u001b[36m(RolloutWorker pid=15280)\u001b[0m reset triggered\n",
      "\u001b[2m\u001b[36m(RolloutWorker pid=15280)\u001b[0m reload save for track : 4\n"
     ]
    },
    {
     "name": "stderr",
     "output_type": "stream",
     "text": [
      "\u001b[2m\u001b[36m(RolloutWorker pid=15280)\u001b[0m c:\\Users\\nadir\\anaconda3\\envs\\GTAI2\\lib\\site-packages\\rtgym\\envs\\real_time_env.py:376: UserWarning: Time-step timed out. Elapsed since last time-step: 0.13255460002028485\n",
      "\u001b[2m\u001b[36m(RolloutWorker pid=15280)\u001b[0m   warnings.warn(f\"Time-step timed out. Elapsed since last time-step: {now - self.__t_end}\")\n"
     ]
    },
    {
     "name": "stdout",
     "output_type": "stream",
     "text": [
      "Loop:  112\n",
      "Loop:  113\n",
      "\u001b[2m\u001b[36m(RolloutWorker pid=15280)\u001b[0m reset triggered\n",
      "\u001b[2m\u001b[36m(RolloutWorker pid=15280)\u001b[0m reload save for track : 4\n"
     ]
    },
    {
     "name": "stderr",
     "output_type": "stream",
     "text": [
      "\u001b[2m\u001b[36m(RolloutWorker pid=15280)\u001b[0m c:\\Users\\nadir\\anaconda3\\envs\\GTAI2\\lib\\site-packages\\rtgym\\envs\\real_time_env.py:376: UserWarning: Time-step timed out. Elapsed since last time-step: 0.14752670002053492\n",
      "\u001b[2m\u001b[36m(RolloutWorker pid=15280)\u001b[0m   warnings.warn(f\"Time-step timed out. Elapsed since last time-step: {now - self.__t_end}\")\n"
     ]
    },
    {
     "name": "stdout",
     "output_type": "stream",
     "text": [
      "Loop:  114\n",
      "\u001b[2m\u001b[36m(RolloutWorker pid=15280)\u001b[0m reset triggered\n",
      "\u001b[2m\u001b[36m(RolloutWorker pid=15280)\u001b[0m reload save for track : 4\n"
     ]
    },
    {
     "name": "stderr",
     "output_type": "stream",
     "text": [
      "\u001b[2m\u001b[36m(RolloutWorker pid=15280)\u001b[0m c:\\Users\\nadir\\anaconda3\\envs\\GTAI2\\lib\\site-packages\\rtgym\\envs\\real_time_env.py:376: UserWarning: Time-step timed out. Elapsed since last time-step: 0.1329209000202809\n",
      "\u001b[2m\u001b[36m(RolloutWorker pid=15280)\u001b[0m   warnings.warn(f\"Time-step timed out. Elapsed since last time-step: {now - self.__t_end}\")\n"
     ]
    },
    {
     "name": "stdout",
     "output_type": "stream",
     "text": [
      "Loop:  115\n",
      "Loop:  116\n",
      "\u001b[2m\u001b[36m(RolloutWorker pid=15280)\u001b[0m reset triggered\n",
      "\u001b[2m\u001b[36m(RolloutWorker pid=15280)\u001b[0m reload save for track : 4\n"
     ]
    },
    {
     "name": "stderr",
     "output_type": "stream",
     "text": [
      "\u001b[2m\u001b[36m(RolloutWorker pid=15280)\u001b[0m c:\\Users\\nadir\\anaconda3\\envs\\GTAI2\\lib\\site-packages\\rtgym\\envs\\real_time_env.py:376: UserWarning: Time-step timed out. Elapsed since last time-step: 0.14695820002043547\n",
      "\u001b[2m\u001b[36m(RolloutWorker pid=15280)\u001b[0m   warnings.warn(f\"Time-step timed out. Elapsed since last time-step: {now - self.__t_end}\")\n"
     ]
    },
    {
     "name": "stdout",
     "output_type": "stream",
     "text": [
      "Loop:  117\n",
      "\u001b[2m\u001b[36m(RolloutWorker pid=15280)\u001b[0m reset triggered\n",
      "\u001b[2m\u001b[36m(RolloutWorker pid=15280)\u001b[0m reload save for track : 4\n"
     ]
    },
    {
     "name": "stderr",
     "output_type": "stream",
     "text": [
      "\u001b[2m\u001b[36m(RolloutWorker pid=15280)\u001b[0m c:\\Users\\nadir\\anaconda3\\envs\\GTAI2\\lib\\site-packages\\rtgym\\envs\\real_time_env.py:376: UserWarning: Time-step timed out. Elapsed since last time-step: 0.14212820002035187\n",
      "\u001b[2m\u001b[36m(RolloutWorker pid=15280)\u001b[0m   warnings.warn(f\"Time-step timed out. Elapsed since last time-step: {now - self.__t_end}\")\n"
     ]
    },
    {
     "name": "stdout",
     "output_type": "stream",
     "text": [
      "Loop:  118\n",
      "\u001b[2m\u001b[36m(RolloutWorker pid=15280)\u001b[0m reset triggered\n",
      "\u001b[2m\u001b[36m(RolloutWorker pid=15280)\u001b[0m reload save for track : 4\n"
     ]
    },
    {
     "name": "stderr",
     "output_type": "stream",
     "text": [
      "\u001b[2m\u001b[36m(RolloutWorker pid=15280)\u001b[0m c:\\Users\\nadir\\anaconda3\\envs\\GTAI2\\lib\\site-packages\\rtgym\\envs\\real_time_env.py:376: UserWarning: Time-step timed out. Elapsed since last time-step: 0.13819190002027426\n",
      "\u001b[2m\u001b[36m(RolloutWorker pid=15280)\u001b[0m   warnings.warn(f\"Time-step timed out. Elapsed since last time-step: {now - self.__t_end}\")\n"
     ]
    },
    {
     "name": "stdout",
     "output_type": "stream",
     "text": [
      "Loop:  119\n",
      "Loop:  120\n",
      "Saved 120\n",
      "\u001b[2m\u001b[36m(RolloutWorker pid=15280)\u001b[0m reset triggered\n",
      "\u001b[2m\u001b[36m(RolloutWorker pid=15280)\u001b[0m reload save for track : 4\n"
     ]
    },
    {
     "name": "stderr",
     "output_type": "stream",
     "text": [
      "\u001b[2m\u001b[36m(RolloutWorker pid=15280)\u001b[0m c:\\Users\\nadir\\anaconda3\\envs\\GTAI2\\lib\\site-packages\\rtgym\\envs\\real_time_env.py:376: UserWarning: Time-step timed out. Elapsed since last time-step: 0.15229170002044157\n",
      "\u001b[2m\u001b[36m(RolloutWorker pid=15280)\u001b[0m   warnings.warn(f\"Time-step timed out. Elapsed since last time-step: {now - self.__t_end}\")\n"
     ]
    },
    {
     "name": "stdout",
     "output_type": "stream",
     "text": [
      "Loop:  121\n",
      "\u001b[2m\u001b[36m(RolloutWorker pid=15280)\u001b[0m reset triggered\n",
      "\u001b[2m\u001b[36m(RolloutWorker pid=15280)\u001b[0m reload save for track : 4\n"
     ]
    },
    {
     "name": "stderr",
     "output_type": "stream",
     "text": [
      "\u001b[2m\u001b[36m(RolloutWorker pid=15280)\u001b[0m c:\\Users\\nadir\\anaconda3\\envs\\GTAI2\\lib\\site-packages\\rtgym\\envs\\real_time_env.py:376: UserWarning: Time-step timed out. Elapsed since last time-step: 0.13751530002036816\n",
      "\u001b[2m\u001b[36m(RolloutWorker pid=15280)\u001b[0m   warnings.warn(f\"Time-step timed out. Elapsed since last time-step: {now - self.__t_end}\")\n"
     ]
    },
    {
     "name": "stdout",
     "output_type": "stream",
     "text": [
      "Loop:  122\n",
      "Loop:  123\n",
      "\u001b[2m\u001b[36m(RolloutWorker pid=15280)\u001b[0m reset triggered\n",
      "\u001b[2m\u001b[36m(RolloutWorker pid=15280)\u001b[0m reload save for track : 4\n"
     ]
    },
    {
     "name": "stderr",
     "output_type": "stream",
     "text": [
      "\u001b[2m\u001b[36m(RolloutWorker pid=15280)\u001b[0m c:\\Users\\nadir\\anaconda3\\envs\\GTAI2\\lib\\site-packages\\rtgym\\envs\\real_time_env.py:376: UserWarning: Time-step timed out. Elapsed since last time-step: 0.17010790002041176\n",
      "\u001b[2m\u001b[36m(RolloutWorker pid=15280)\u001b[0m   warnings.warn(f\"Time-step timed out. Elapsed since last time-step: {now - self.__t_end}\")\n"
     ]
    },
    {
     "name": "stdout",
     "output_type": "stream",
     "text": [
      "Loop:  124\n",
      "\u001b[2m\u001b[36m(RolloutWorker pid=15280)\u001b[0m reset triggered\n",
      "\u001b[2m\u001b[36m(RolloutWorker pid=15280)\u001b[0m reload save for track : 4\n"
     ]
    },
    {
     "name": "stderr",
     "output_type": "stream",
     "text": [
      "\u001b[2m\u001b[36m(RolloutWorker pid=15280)\u001b[0m c:\\Users\\nadir\\anaconda3\\envs\\GTAI2\\lib\\site-packages\\rtgym\\envs\\real_time_env.py:376: UserWarning: Time-step timed out. Elapsed since last time-step: 0.12262860002056186\n",
      "\u001b[2m\u001b[36m(RolloutWorker pid=15280)\u001b[0m   warnings.warn(f\"Time-step timed out. Elapsed since last time-step: {now - self.__t_end}\")\n"
     ]
    },
    {
     "name": "stdout",
     "output_type": "stream",
     "text": [
      "Loop:  125\n",
      "Loop:  126\n",
      "\u001b[2m\u001b[36m(RolloutWorker pid=15280)\u001b[0m reset triggered\n",
      "\u001b[2m\u001b[36m(RolloutWorker pid=15280)\u001b[0m reload save for track : 4\n"
     ]
    },
    {
     "name": "stderr",
     "output_type": "stream",
     "text": [
      "\u001b[2m\u001b[36m(RolloutWorker pid=15280)\u001b[0m c:\\Users\\nadir\\anaconda3\\envs\\GTAI2\\lib\\site-packages\\rtgym\\envs\\real_time_env.py:376: UserWarning: Time-step timed out. Elapsed since last time-step: 0.14720530002023224\n",
      "\u001b[2m\u001b[36m(RolloutWorker pid=15280)\u001b[0m   warnings.warn(f\"Time-step timed out. Elapsed since last time-step: {now - self.__t_end}\")\n"
     ]
    },
    {
     "name": "stdout",
     "output_type": "stream",
     "text": [
      "Loop:  127\n",
      "\u001b[2m\u001b[36m(RolloutWorker pid=15280)\u001b[0m reset triggered\n",
      "\u001b[2m\u001b[36m(RolloutWorker pid=15280)\u001b[0m reload save for track : 4\n"
     ]
    },
    {
     "name": "stderr",
     "output_type": "stream",
     "text": [
      "\u001b[2m\u001b[36m(RolloutWorker pid=15280)\u001b[0m c:\\Users\\nadir\\anaconda3\\envs\\GTAI2\\lib\\site-packages\\rtgym\\envs\\real_time_env.py:376: UserWarning: Time-step timed out. Elapsed since last time-step: 0.15284670002029088\n",
      "\u001b[2m\u001b[36m(RolloutWorker pid=15280)\u001b[0m   warnings.warn(f\"Time-step timed out. Elapsed since last time-step: {now - self.__t_end}\")\n"
     ]
    },
    {
     "name": "stdout",
     "output_type": "stream",
     "text": [
      "Loop:  128\n",
      "Loop:  129\n",
      "\u001b[2m\u001b[36m(RolloutWorker pid=15280)\u001b[0m reset triggered\n",
      "\u001b[2m\u001b[36m(RolloutWorker pid=15280)\u001b[0m reload save for track : 4\n"
     ]
    },
    {
     "name": "stderr",
     "output_type": "stream",
     "text": [
      "\u001b[2m\u001b[36m(RolloutWorker pid=15280)\u001b[0m c:\\Users\\nadir\\anaconda3\\envs\\GTAI2\\lib\\site-packages\\rtgym\\envs\\real_time_env.py:376: UserWarning: Time-step timed out. Elapsed since last time-step: 0.13760940002021016\n",
      "\u001b[2m\u001b[36m(RolloutWorker pid=15280)\u001b[0m   warnings.warn(f\"Time-step timed out. Elapsed since last time-step: {now - self.__t_end}\")\n"
     ]
    },
    {
     "name": "stdout",
     "output_type": "stream",
     "text": [
      "Loop:  130\n",
      "Saved 130\n",
      "\u001b[2m\u001b[36m(RolloutWorker pid=15280)\u001b[0m reset triggered\n",
      "\u001b[2m\u001b[36m(RolloutWorker pid=15280)\u001b[0m reload save for track : 4\n"
     ]
    },
    {
     "name": "stderr",
     "output_type": "stream",
     "text": [
      "\u001b[2m\u001b[36m(RolloutWorker pid=15280)\u001b[0m c:\\Users\\nadir\\anaconda3\\envs\\GTAI2\\lib\\site-packages\\rtgym\\envs\\real_time_env.py:376: UserWarning: Time-step timed out. Elapsed since last time-step: 0.14986590002035882\n",
      "\u001b[2m\u001b[36m(RolloutWorker pid=15280)\u001b[0m   warnings.warn(f\"Time-step timed out. Elapsed since last time-step: {now - self.__t_end}\")\n"
     ]
    },
    {
     "name": "stdout",
     "output_type": "stream",
     "text": [
      "Loop:  131\n",
      "\u001b[2m\u001b[36m(RolloutWorker pid=15280)\u001b[0m reset triggered\n",
      "\u001b[2m\u001b[36m(RolloutWorker pid=15280)\u001b[0m reload save for track : 4\n"
     ]
    },
    {
     "name": "stderr",
     "output_type": "stream",
     "text": [
      "\u001b[2m\u001b[36m(RolloutWorker pid=15280)\u001b[0m c:\\Users\\nadir\\anaconda3\\envs\\GTAI2\\lib\\site-packages\\rtgym\\envs\\real_time_env.py:376: UserWarning: Time-step timed out. Elapsed since last time-step: 0.16915950002066893\n",
      "\u001b[2m\u001b[36m(RolloutWorker pid=15280)\u001b[0m   warnings.warn(f\"Time-step timed out. Elapsed since last time-step: {now - self.__t_end}\")\n"
     ]
    },
    {
     "name": "stdout",
     "output_type": "stream",
     "text": [
      "Loop:  132\n",
      "Loop:  133\n",
      "\u001b[2m\u001b[36m(RolloutWorker pid=15280)\u001b[0m reset triggered\n",
      "\u001b[2m\u001b[36m(RolloutWorker pid=15280)\u001b[0m reload save for track : 4\n"
     ]
    },
    {
     "name": "stderr",
     "output_type": "stream",
     "text": [
      "\u001b[2m\u001b[36m(RolloutWorker pid=15280)\u001b[0m c:\\Users\\nadir\\anaconda3\\envs\\GTAI2\\lib\\site-packages\\rtgym\\envs\\real_time_env.py:376: UserWarning: Time-step timed out. Elapsed since last time-step: 0.14092160002019227\n",
      "\u001b[2m\u001b[36m(RolloutWorker pid=15280)\u001b[0m   warnings.warn(f\"Time-step timed out. Elapsed since last time-step: {now - self.__t_end}\")\n"
     ]
    },
    {
     "name": "stdout",
     "output_type": "stream",
     "text": [
      "Loop:  134\n",
      "\u001b[2m\u001b[36m(RolloutWorker pid=15280)\u001b[0m reset triggered\n",
      "\u001b[2m\u001b[36m(RolloutWorker pid=15280)\u001b[0m reload save for track : 4\n"
     ]
    },
    {
     "name": "stderr",
     "output_type": "stream",
     "text": [
      "\u001b[2m\u001b[36m(RolloutWorker pid=15280)\u001b[0m c:\\Users\\nadir\\anaconda3\\envs\\GTAI2\\lib\\site-packages\\rtgym\\envs\\real_time_env.py:376: UserWarning: Time-step timed out. Elapsed since last time-step: 0.12716120002050957\n",
      "\u001b[2m\u001b[36m(RolloutWorker pid=15280)\u001b[0m   warnings.warn(f\"Time-step timed out. Elapsed since last time-step: {now - self.__t_end}\")\n"
     ]
    },
    {
     "name": "stdout",
     "output_type": "stream",
     "text": [
      "Loop:  135\n",
      "Loop:  136\n",
      "\u001b[2m\u001b[36m(RolloutWorker pid=15280)\u001b[0m reset triggered\n",
      "\u001b[2m\u001b[36m(RolloutWorker pid=15280)\u001b[0m reload save for track : 4\n"
     ]
    },
    {
     "name": "stderr",
     "output_type": "stream",
     "text": [
      "\u001b[2m\u001b[36m(RolloutWorker pid=15280)\u001b[0m c:\\Users\\nadir\\anaconda3\\envs\\GTAI2\\lib\\site-packages\\rtgym\\envs\\real_time_env.py:376: UserWarning: Time-step timed out. Elapsed since last time-step: 0.13228850002042236\n",
      "\u001b[2m\u001b[36m(RolloutWorker pid=15280)\u001b[0m   warnings.warn(f\"Time-step timed out. Elapsed since last time-step: {now - self.__t_end}\")\n"
     ]
    },
    {
     "name": "stdout",
     "output_type": "stream",
     "text": [
      "Loop:  137\n",
      "\u001b[2m\u001b[36m(RolloutWorker pid=15280)\u001b[0m reset triggered\n",
      "\u001b[2m\u001b[36m(RolloutWorker pid=15280)\u001b[0m reload save for track : 4\n"
     ]
    },
    {
     "name": "stderr",
     "output_type": "stream",
     "text": [
      "\u001b[2m\u001b[36m(RolloutWorker pid=15280)\u001b[0m c:\\Users\\nadir\\anaconda3\\envs\\GTAI2\\lib\\site-packages\\rtgym\\envs\\real_time_env.py:376: UserWarning: Time-step timed out. Elapsed since last time-step: 0.1435820000201602\n",
      "\u001b[2m\u001b[36m(RolloutWorker pid=15280)\u001b[0m   warnings.warn(f\"Time-step timed out. Elapsed since last time-step: {now - self.__t_end}\")\n"
     ]
    },
    {
     "name": "stdout",
     "output_type": "stream",
     "text": [
      "Loop:  138\n",
      "Loop:  139\n",
      "\u001b[2m\u001b[36m(RolloutWorker pid=15280)\u001b[0m reset triggered\n",
      "\u001b[2m\u001b[36m(RolloutWorker pid=15280)\u001b[0m reload save for track : 4\n"
     ]
    },
    {
     "name": "stderr",
     "output_type": "stream",
     "text": [
      "\u001b[2m\u001b[36m(RolloutWorker pid=15280)\u001b[0m c:\\Users\\nadir\\anaconda3\\envs\\GTAI2\\lib\\site-packages\\rtgym\\envs\\real_time_env.py:376: UserWarning: Time-step timed out. Elapsed since last time-step: 0.13648750002039378\n",
      "\u001b[2m\u001b[36m(RolloutWorker pid=15280)\u001b[0m   warnings.warn(f\"Time-step timed out. Elapsed since last time-step: {now - self.__t_end}\")\n"
     ]
    },
    {
     "name": "stdout",
     "output_type": "stream",
     "text": [
      "Loop:  140\n",
      "Saved 140\n",
      "\u001b[2m\u001b[36m(RolloutWorker pid=15280)\u001b[0m reset triggered\n",
      "\u001b[2m\u001b[36m(RolloutWorker pid=15280)\u001b[0m reload save for track : 4\n"
     ]
    },
    {
     "name": "stderr",
     "output_type": "stream",
     "text": [
      "\u001b[2m\u001b[36m(RolloutWorker pid=15280)\u001b[0m c:\\Users\\nadir\\anaconda3\\envs\\GTAI2\\lib\\site-packages\\rtgym\\envs\\real_time_env.py:376: UserWarning: Time-step timed out. Elapsed since last time-step: 0.14349430002039298\n",
      "\u001b[2m\u001b[36m(RolloutWorker pid=15280)\u001b[0m   warnings.warn(f\"Time-step timed out. Elapsed since last time-step: {now - self.__t_end}\")\n"
     ]
    },
    {
     "name": "stdout",
     "output_type": "stream",
     "text": [
      "Loop:  141\n",
      "Loop:  142\n",
      "\u001b[2m\u001b[36m(RolloutWorker pid=15280)\u001b[0m reset triggered\n",
      "\u001b[2m\u001b[36m(RolloutWorker pid=15280)\u001b[0m reload save for track : 4\n"
     ]
    },
    {
     "name": "stderr",
     "output_type": "stream",
     "text": [
      "\u001b[2m\u001b[36m(RolloutWorker pid=15280)\u001b[0m c:\\Users\\nadir\\anaconda3\\envs\\GTAI2\\lib\\site-packages\\rtgym\\envs\\real_time_env.py:376: UserWarning: Time-step timed out. Elapsed since last time-step: 0.1499902000205111\n",
      "\u001b[2m\u001b[36m(RolloutWorker pid=15280)\u001b[0m   warnings.warn(f\"Time-step timed out. Elapsed since last time-step: {now - self.__t_end}\")\n"
     ]
    },
    {
     "name": "stdout",
     "output_type": "stream",
     "text": [
      "Loop:  143\n",
      "\u001b[2m\u001b[36m(RolloutWorker pid=15280)\u001b[0m reset triggered\n",
      "\u001b[2m\u001b[36m(RolloutWorker pid=15280)\u001b[0m reload save for track : 4\n"
     ]
    },
    {
     "name": "stderr",
     "output_type": "stream",
     "text": [
      "\u001b[2m\u001b[36m(RolloutWorker pid=15280)\u001b[0m c:\\Users\\nadir\\anaconda3\\envs\\GTAI2\\lib\\site-packages\\rtgym\\envs\\real_time_env.py:376: UserWarning: Time-step timed out. Elapsed since last time-step: 0.1377376000205004\n",
      "\u001b[2m\u001b[36m(RolloutWorker pid=15280)\u001b[0m   warnings.warn(f\"Time-step timed out. Elapsed since last time-step: {now - self.__t_end}\")\n"
     ]
    },
    {
     "name": "stdout",
     "output_type": "stream",
     "text": [
      "Loop:  144\n",
      "\u001b[2m\u001b[36m(RolloutWorker pid=15280)\u001b[0m reset triggered\n",
      "\u001b[2m\u001b[36m(RolloutWorker pid=15280)\u001b[0m reload save for track : 4\n"
     ]
    },
    {
     "name": "stderr",
     "output_type": "stream",
     "text": [
      "\u001b[2m\u001b[36m(RolloutWorker pid=15280)\u001b[0m c:\\Users\\nadir\\anaconda3\\envs\\GTAI2\\lib\\site-packages\\rtgym\\envs\\real_time_env.py:376: UserWarning: Time-step timed out. Elapsed since last time-step: 0.16783660002010947\n",
      "\u001b[2m\u001b[36m(RolloutWorker pid=15280)\u001b[0m   warnings.warn(f\"Time-step timed out. Elapsed since last time-step: {now - self.__t_end}\")\n"
     ]
    },
    {
     "name": "stdout",
     "output_type": "stream",
     "text": [
      "Loop:  145\n",
      "Loop:  146\n"
     ]
    },
    {
     "name": "stderr",
     "output_type": "stream",
     "text": [
      "\u001b[2m\u001b[36m(RolloutWorker pid=15280)\u001b[0m c:\\Users\\nadir\\anaconda3\\envs\\GTAI2\\lib\\site-packages\\rtgym\\envs\\real_time_env.py:376: UserWarning: Time-step timed out. Elapsed since last time-step: 0.13439410001637953\n",
      "\u001b[2m\u001b[36m(RolloutWorker pid=15280)\u001b[0m   warnings.warn(f\"Time-step timed out. Elapsed since last time-step: {now - self.__t_end}\")\n"
     ]
    },
    {
     "name": "stdout",
     "output_type": "stream",
     "text": [
      "\u001b[2m\u001b[36m(RolloutWorker pid=15280)\u001b[0m reset triggered\n",
      "\u001b[2m\u001b[36m(RolloutWorker pid=15280)\u001b[0m reload save for track : 4\n"
     ]
    },
    {
     "name": "stderr",
     "output_type": "stream",
     "text": [
      "\u001b[2m\u001b[36m(RolloutWorker pid=15280)\u001b[0m c:\\Users\\nadir\\anaconda3\\envs\\GTAI2\\lib\\site-packages\\rtgym\\envs\\real_time_env.py:376: UserWarning: Time-step timed out. Elapsed since last time-step: 0.13980130000391\n",
      "\u001b[2m\u001b[36m(RolloutWorker pid=15280)\u001b[0m   warnings.warn(f\"Time-step timed out. Elapsed since last time-step: {now - self.__t_end}\")\n"
     ]
    },
    {
     "name": "stdout",
     "output_type": "stream",
     "text": [
      "Loop:  147\n",
      "\u001b[2m\u001b[36m(RolloutWorker pid=15280)\u001b[0m reset triggered\n",
      "\u001b[2m\u001b[36m(RolloutWorker pid=15280)\u001b[0m reload save for track : 4\n"
     ]
    },
    {
     "name": "stderr",
     "output_type": "stream",
     "text": [
      "\u001b[2m\u001b[36m(RolloutWorker pid=15280)\u001b[0m c:\\Users\\nadir\\anaconda3\\envs\\GTAI2\\lib\\site-packages\\rtgym\\envs\\real_time_env.py:376: UserWarning: Time-step timed out. Elapsed since last time-step: 0.15153230002033524\n",
      "\u001b[2m\u001b[36m(RolloutWorker pid=15280)\u001b[0m   warnings.warn(f\"Time-step timed out. Elapsed since last time-step: {now - self.__t_end}\")\n"
     ]
    },
    {
     "name": "stdout",
     "output_type": "stream",
     "text": [
      "Loop:  148\n",
      "Loop:  149\n",
      "\u001b[2m\u001b[36m(RolloutWorker pid=15280)\u001b[0m reset triggered\n",
      "\u001b[2m\u001b[36m(RolloutWorker pid=15280)\u001b[0m reload save for track : 4\n"
     ]
    },
    {
     "name": "stderr",
     "output_type": "stream",
     "text": [
      "\u001b[2m\u001b[36m(RolloutWorker pid=15280)\u001b[0m c:\\Users\\nadir\\anaconda3\\envs\\GTAI2\\lib\\site-packages\\rtgym\\envs\\real_time_env.py:376: UserWarning: Time-step timed out. Elapsed since last time-step: 0.14598630002046775\n",
      "\u001b[2m\u001b[36m(RolloutWorker pid=15280)\u001b[0m   warnings.warn(f\"Time-step timed out. Elapsed since last time-step: {now - self.__t_end}\")\n"
     ]
    },
    {
     "name": "stdout",
     "output_type": "stream",
     "text": [
      "Loop:  150\n",
      "Saved 150\n",
      "\u001b[2m\u001b[36m(RolloutWorker pid=15280)\u001b[0m reset triggered\n",
      "\u001b[2m\u001b[36m(RolloutWorker pid=15280)\u001b[0m reload save for track : 4\n"
     ]
    },
    {
     "name": "stderr",
     "output_type": "stream",
     "text": [
      "\u001b[2m\u001b[36m(RolloutWorker pid=15280)\u001b[0m c:\\Users\\nadir\\anaconda3\\envs\\GTAI2\\lib\\site-packages\\rtgym\\envs\\real_time_env.py:376: UserWarning: Time-step timed out. Elapsed since last time-step: 0.1527638000202387\n",
      "\u001b[2m\u001b[36m(RolloutWorker pid=15280)\u001b[0m   warnings.warn(f\"Time-step timed out. Elapsed since last time-step: {now - self.__t_end}\")\n"
     ]
    },
    {
     "name": "stdout",
     "output_type": "stream",
     "text": [
      "Loop:  151\n",
      "Loop:  152\n",
      "\u001b[2m\u001b[36m(RolloutWorker pid=15280)\u001b[0m reset triggered\n",
      "\u001b[2m\u001b[36m(RolloutWorker pid=15280)\u001b[0m reload save for track : 4\n"
     ]
    },
    {
     "name": "stderr",
     "output_type": "stream",
     "text": [
      "\u001b[2m\u001b[36m(RolloutWorker pid=15280)\u001b[0m c:\\Users\\nadir\\anaconda3\\envs\\GTAI2\\lib\\site-packages\\rtgym\\envs\\real_time_env.py:376: UserWarning: Time-step timed out. Elapsed since last time-step: 0.14939740002046165\n",
      "\u001b[2m\u001b[36m(RolloutWorker pid=15280)\u001b[0m   warnings.warn(f\"Time-step timed out. Elapsed since last time-step: {now - self.__t_end}\")\n"
     ]
    },
    {
     "name": "stdout",
     "output_type": "stream",
     "text": [
      "Loop:  153\n",
      "\u001b[2m\u001b[36m(RolloutWorker pid=15280)\u001b[0m reset triggered\n",
      "\u001b[2m\u001b[36m(RolloutWorker pid=15280)\u001b[0m reload save for track : 4\n"
     ]
    },
    {
     "name": "stderr",
     "output_type": "stream",
     "text": [
      "\u001b[2m\u001b[36m(RolloutWorker pid=15280)\u001b[0m c:\\Users\\nadir\\anaconda3\\envs\\GTAI2\\lib\\site-packages\\rtgym\\envs\\real_time_env.py:376: UserWarning: Time-step timed out. Elapsed since last time-step: 0.130211500020323\n",
      "\u001b[2m\u001b[36m(RolloutWorker pid=15280)\u001b[0m   warnings.warn(f\"Time-step timed out. Elapsed since last time-step: {now - self.__t_end}\")\n"
     ]
    },
    {
     "name": "stdout",
     "output_type": "stream",
     "text": [
      "Loop:  154\n",
      "Loop:  155\n",
      "\u001b[2m\u001b[36m(RolloutWorker pid=15280)\u001b[0m reset triggered\n",
      "\u001b[2m\u001b[36m(RolloutWorker pid=15280)\u001b[0m reload save for track : 4\n"
     ]
    },
    {
     "name": "stderr",
     "output_type": "stream",
     "text": [
      "\u001b[2m\u001b[36m(RolloutWorker pid=15280)\u001b[0m c:\\Users\\nadir\\anaconda3\\envs\\GTAI2\\lib\\site-packages\\rtgym\\envs\\real_time_env.py:376: UserWarning: Time-step timed out. Elapsed since last time-step: 0.14076510002041687\n",
      "\u001b[2m\u001b[36m(RolloutWorker pid=15280)\u001b[0m   warnings.warn(f\"Time-step timed out. Elapsed since last time-step: {now - self.__t_end}\")\n"
     ]
    },
    {
     "name": "stdout",
     "output_type": "stream",
     "text": [
      "Loop:  156\n",
      "\u001b[2m\u001b[36m(RolloutWorker pid=15280)\u001b[0m reset triggered\n",
      "\u001b[2m\u001b[36m(RolloutWorker pid=15280)\u001b[0m reload save for track : 4\n"
     ]
    },
    {
     "name": "stderr",
     "output_type": "stream",
     "text": [
      "\u001b[2m\u001b[36m(RolloutWorker pid=15280)\u001b[0m c:\\Users\\nadir\\anaconda3\\envs\\GTAI2\\lib\\site-packages\\rtgym\\envs\\real_time_env.py:376: UserWarning: Time-step timed out. Elapsed since last time-step: 0.15659520002054705\n",
      "\u001b[2m\u001b[36m(RolloutWorker pid=15280)\u001b[0m   warnings.warn(f\"Time-step timed out. Elapsed since last time-step: {now - self.__t_end}\")\n"
     ]
    },
    {
     "name": "stdout",
     "output_type": "stream",
     "text": [
      "Loop:  157\n",
      "\u001b[2m\u001b[36m(RolloutWorker pid=15280)\u001b[0m reset triggered\n",
      "\u001b[2m\u001b[36m(RolloutWorker pid=15280)\u001b[0m reload save for track : 4\n"
     ]
    },
    {
     "name": "stderr",
     "output_type": "stream",
     "text": [
      "\u001b[2m\u001b[36m(RolloutWorker pid=15280)\u001b[0m c:\\Users\\nadir\\anaconda3\\envs\\GTAI2\\lib\\site-packages\\rtgym\\envs\\real_time_env.py:376: UserWarning: Time-step timed out. Elapsed since last time-step: 0.163386800020362\n",
      "\u001b[2m\u001b[36m(RolloutWorker pid=15280)\u001b[0m   warnings.warn(f\"Time-step timed out. Elapsed since last time-step: {now - self.__t_end}\")\n"
     ]
    },
    {
     "name": "stdout",
     "output_type": "stream",
     "text": [
      "Loop:  158\n",
      "Loop:  159\n",
      "\u001b[2m\u001b[36m(RolloutWorker pid=15280)\u001b[0m reset triggered\n",
      "\u001b[2m\u001b[36m(RolloutWorker pid=15280)\u001b[0m reload save for track : 4\n"
     ]
    },
    {
     "name": "stderr",
     "output_type": "stream",
     "text": [
      "\u001b[2m\u001b[36m(RolloutWorker pid=15280)\u001b[0m c:\\Users\\nadir\\anaconda3\\envs\\GTAI2\\lib\\site-packages\\rtgym\\envs\\real_time_env.py:376: UserWarning: Time-step timed out. Elapsed since last time-step: 0.13748200002055455\n",
      "\u001b[2m\u001b[36m(RolloutWorker pid=15280)\u001b[0m   warnings.warn(f\"Time-step timed out. Elapsed since last time-step: {now - self.__t_end}\")\n"
     ]
    },
    {
     "name": "stdout",
     "output_type": "stream",
     "text": [
      "Loop:  160\n",
      "Saved 160\n",
      "\u001b[2m\u001b[36m(RolloutWorker pid=15280)\u001b[0m reset triggered\n",
      "\u001b[2m\u001b[36m(RolloutWorker pid=15280)\u001b[0m reload save for track : 4\n"
     ]
    },
    {
     "name": "stderr",
     "output_type": "stream",
     "text": [
      "\u001b[2m\u001b[36m(RolloutWorker pid=15280)\u001b[0m c:\\Users\\nadir\\anaconda3\\envs\\GTAI2\\lib\\site-packages\\rtgym\\envs\\real_time_env.py:376: UserWarning: Time-step timed out. Elapsed since last time-step: 0.17047910002020217\n",
      "\u001b[2m\u001b[36m(RolloutWorker pid=15280)\u001b[0m   warnings.warn(f\"Time-step timed out. Elapsed since last time-step: {now - self.__t_end}\")\n"
     ]
    },
    {
     "name": "stdout",
     "output_type": "stream",
     "text": [
      "Loop:  161\n",
      "Loop:  162\n",
      "\u001b[2m\u001b[36m(RolloutWorker pid=15280)\u001b[0m reset triggered\n",
      "\u001b[2m\u001b[36m(RolloutWorker pid=15280)\u001b[0m reload save for track : 4\n"
     ]
    },
    {
     "name": "stderr",
     "output_type": "stream",
     "text": [
      "\u001b[2m\u001b[36m(RolloutWorker pid=15280)\u001b[0m c:\\Users\\nadir\\anaconda3\\envs\\GTAI2\\lib\\site-packages\\rtgym\\envs\\real_time_env.py:376: UserWarning: Time-step timed out. Elapsed since last time-step: 0.16895760002034876\n",
      "\u001b[2m\u001b[36m(RolloutWorker pid=15280)\u001b[0m   warnings.warn(f\"Time-step timed out. Elapsed since last time-step: {now - self.__t_end}\")\n"
     ]
    },
    {
     "name": "stdout",
     "output_type": "stream",
     "text": [
      "Loop:  163\n",
      "\u001b[2m\u001b[36m(RolloutWorker pid=15280)\u001b[0m reset triggered\n",
      "\u001b[2m\u001b[36m(RolloutWorker pid=15280)\u001b[0m reload save for track : 4\n"
     ]
    },
    {
     "name": "stderr",
     "output_type": "stream",
     "text": [
      "\u001b[2m\u001b[36m(RolloutWorker pid=15280)\u001b[0m c:\\Users\\nadir\\anaconda3\\envs\\GTAI2\\lib\\site-packages\\rtgym\\envs\\real_time_env.py:376: UserWarning: Time-step timed out. Elapsed since last time-step: 0.14312080002036964\n",
      "\u001b[2m\u001b[36m(RolloutWorker pid=15280)\u001b[0m   warnings.warn(f\"Time-step timed out. Elapsed since last time-step: {now - self.__t_end}\")\n"
     ]
    },
    {
     "name": "stdout",
     "output_type": "stream",
     "text": [
      "Loop:  164\n",
      "Loop:  165\n",
      "\u001b[2m\u001b[36m(RolloutWorker pid=15280)\u001b[0m reset triggered\n",
      "\u001b[2m\u001b[36m(RolloutWorker pid=15280)\u001b[0m reload save for track : 4\n"
     ]
    },
    {
     "name": "stderr",
     "output_type": "stream",
     "text": [
      "\u001b[2m\u001b[36m(RolloutWorker pid=15280)\u001b[0m c:\\Users\\nadir\\anaconda3\\envs\\GTAI2\\lib\\site-packages\\rtgym\\envs\\real_time_env.py:376: UserWarning: Time-step timed out. Elapsed since last time-step: 0.13674040002024412\n",
      "\u001b[2m\u001b[36m(RolloutWorker pid=15280)\u001b[0m   warnings.warn(f\"Time-step timed out. Elapsed since last time-step: {now - self.__t_end}\")\n"
     ]
    },
    {
     "name": "stdout",
     "output_type": "stream",
     "text": [
      "Loop:  166\n",
      "\u001b[2m\u001b[36m(RolloutWorker pid=15280)\u001b[0m reset triggered\n",
      "\u001b[2m\u001b[36m(RolloutWorker pid=15280)\u001b[0m reload save for track : 4\n"
     ]
    },
    {
     "name": "stderr",
     "output_type": "stream",
     "text": [
      "\u001b[2m\u001b[36m(RolloutWorker pid=15280)\u001b[0m c:\\Users\\nadir\\anaconda3\\envs\\GTAI2\\lib\\site-packages\\rtgym\\envs\\real_time_env.py:376: UserWarning: Time-step timed out. Elapsed since last time-step: 0.1238729000206149\n",
      "\u001b[2m\u001b[36m(RolloutWorker pid=15280)\u001b[0m   warnings.warn(f\"Time-step timed out. Elapsed since last time-step: {now - self.__t_end}\")\n"
     ]
    },
    {
     "name": "stdout",
     "output_type": "stream",
     "text": [
      "Loop:  167\n",
      "Loop:  168\n",
      "\u001b[2m\u001b[36m(RolloutWorker pid=15280)\u001b[0m reset triggered\n",
      "\u001b[2m\u001b[36m(RolloutWorker pid=15280)\u001b[0m reload save for track : 4\n"
     ]
    },
    {
     "name": "stderr",
     "output_type": "stream",
     "text": [
      "\u001b[2m\u001b[36m(RolloutWorker pid=15280)\u001b[0m c:\\Users\\nadir\\anaconda3\\envs\\GTAI2\\lib\\site-packages\\rtgym\\envs\\real_time_env.py:376: UserWarning: Time-step timed out. Elapsed since last time-step: 0.14694900002041322\n",
      "\u001b[2m\u001b[36m(RolloutWorker pid=15280)\u001b[0m   warnings.warn(f\"Time-step timed out. Elapsed since last time-step: {now - self.__t_end}\")\n"
     ]
    },
    {
     "name": "stdout",
     "output_type": "stream",
     "text": [
      "Loop:  169\n",
      "\u001b[2m\u001b[36m(RolloutWorker pid=15280)\u001b[0m reset triggered\n",
      "\u001b[2m\u001b[36m(RolloutWorker pid=15280)\u001b[0m reload save for track : 4\n"
     ]
    },
    {
     "name": "stderr",
     "output_type": "stream",
     "text": [
      "\u001b[2m\u001b[36m(RolloutWorker pid=15280)\u001b[0m c:\\Users\\nadir\\anaconda3\\envs\\GTAI2\\lib\\site-packages\\rtgym\\envs\\real_time_env.py:376: UserWarning: Time-step timed out. Elapsed since last time-step: 0.15337430002000474\n",
      "\u001b[2m\u001b[36m(RolloutWorker pid=15280)\u001b[0m   warnings.warn(f\"Time-step timed out. Elapsed since last time-step: {now - self.__t_end}\")\n"
     ]
    },
    {
     "name": "stdout",
     "output_type": "stream",
     "text": [
      "Loop:  170\n",
      "Saved 170\n",
      "\u001b[2m\u001b[36m(RolloutWorker pid=15280)\u001b[0m reset triggered\n",
      "\u001b[2m\u001b[36m(RolloutWorker pid=15280)\u001b[0m reload save for track : 4\n"
     ]
    },
    {
     "name": "stderr",
     "output_type": "stream",
     "text": [
      "\u001b[2m\u001b[36m(RolloutWorker pid=15280)\u001b[0m c:\\Users\\nadir\\anaconda3\\envs\\GTAI2\\lib\\site-packages\\rtgym\\envs\\real_time_env.py:376: UserWarning: Time-step timed out. Elapsed since last time-step: 0.1469151000205784\n",
      "\u001b[2m\u001b[36m(RolloutWorker pid=15280)\u001b[0m   warnings.warn(f\"Time-step timed out. Elapsed since last time-step: {now - self.__t_end}\")\n"
     ]
    },
    {
     "name": "stdout",
     "output_type": "stream",
     "text": [
      "Loop:  171\n",
      "Loop:  172\n",
      "\u001b[2m\u001b[36m(RolloutWorker pid=15280)\u001b[0m reset triggered\n",
      "\u001b[2m\u001b[36m(RolloutWorker pid=15280)\u001b[0m reload save for track : 4\n"
     ]
    },
    {
     "name": "stderr",
     "output_type": "stream",
     "text": [
      "\u001b[2m\u001b[36m(RolloutWorker pid=15280)\u001b[0m c:\\Users\\nadir\\anaconda3\\envs\\GTAI2\\lib\\site-packages\\rtgym\\envs\\real_time_env.py:376: UserWarning: Time-step timed out. Elapsed since last time-step: 0.17015040002024762\n",
      "\u001b[2m\u001b[36m(RolloutWorker pid=15280)\u001b[0m   warnings.warn(f\"Time-step timed out. Elapsed since last time-step: {now - self.__t_end}\")\n"
     ]
    },
    {
     "name": "stdout",
     "output_type": "stream",
     "text": [
      "Loop:  173\n",
      "\u001b[2m\u001b[36m(RolloutWorker pid=15280)\u001b[0m reset triggered\n",
      "\u001b[2m\u001b[36m(RolloutWorker pid=15280)\u001b[0m reload save for track : 4\n"
     ]
    },
    {
     "name": "stderr",
     "output_type": "stream",
     "text": [
      "\u001b[2m\u001b[36m(RolloutWorker pid=15280)\u001b[0m c:\\Users\\nadir\\anaconda3\\envs\\GTAI2\\lib\\site-packages\\rtgym\\envs\\real_time_env.py:376: UserWarning: Time-step timed out. Elapsed since last time-step: 0.16983620002065436\n",
      "\u001b[2m\u001b[36m(RolloutWorker pid=15280)\u001b[0m   warnings.warn(f\"Time-step timed out. Elapsed since last time-step: {now - self.__t_end}\")\n"
     ]
    },
    {
     "name": "stdout",
     "output_type": "stream",
     "text": [
      "Loop:  174\n",
      "Loop:  175\n",
      "\u001b[2m\u001b[36m(RolloutWorker pid=15280)\u001b[0m reset triggered\n",
      "\u001b[2m\u001b[36m(RolloutWorker pid=15280)\u001b[0m reload save for track : 4\n"
     ]
    },
    {
     "name": "stderr",
     "output_type": "stream",
     "text": [
      "\u001b[2m\u001b[36m(RolloutWorker pid=15280)\u001b[0m c:\\Users\\nadir\\anaconda3\\envs\\GTAI2\\lib\\site-packages\\rtgym\\envs\\real_time_env.py:376: UserWarning: Time-step timed out. Elapsed since last time-step: 0.15439240002024235\n",
      "\u001b[2m\u001b[36m(RolloutWorker pid=15280)\u001b[0m   warnings.warn(f\"Time-step timed out. Elapsed since last time-step: {now - self.__t_end}\")\n"
     ]
    },
    {
     "name": "stdout",
     "output_type": "stream",
     "text": [
      "Loop:  176\n",
      "\u001b[2m\u001b[36m(RolloutWorker pid=15280)\u001b[0m reset triggered\n",
      "\u001b[2m\u001b[36m(RolloutWorker pid=15280)\u001b[0m reload save for track : 4\n"
     ]
    },
    {
     "name": "stderr",
     "output_type": "stream",
     "text": [
      "\u001b[2m\u001b[36m(RolloutWorker pid=15280)\u001b[0m c:\\Users\\nadir\\anaconda3\\envs\\GTAI2\\lib\\site-packages\\rtgym\\envs\\real_time_env.py:376: UserWarning: Time-step timed out. Elapsed since last time-step: 0.14519500002052155\n",
      "\u001b[2m\u001b[36m(RolloutWorker pid=15280)\u001b[0m   warnings.warn(f\"Time-step timed out. Elapsed since last time-step: {now - self.__t_end}\")\n"
     ]
    },
    {
     "name": "stdout",
     "output_type": "stream",
     "text": [
      "Loop:  177\n",
      "Loop:  178\n",
      "\u001b[2m\u001b[36m(RolloutWorker pid=15280)\u001b[0m reset triggered\n",
      "\u001b[2m\u001b[36m(RolloutWorker pid=15280)\u001b[0m reload save for track : 4\n"
     ]
    },
    {
     "name": "stderr",
     "output_type": "stream",
     "text": [
      "\u001b[2m\u001b[36m(RolloutWorker pid=15280)\u001b[0m c:\\Users\\nadir\\anaconda3\\envs\\GTAI2\\lib\\site-packages\\rtgym\\envs\\real_time_env.py:376: UserWarning: Time-step timed out. Elapsed since last time-step: 0.12333310002031794\n",
      "\u001b[2m\u001b[36m(RolloutWorker pid=15280)\u001b[0m   warnings.warn(f\"Time-step timed out. Elapsed since last time-step: {now - self.__t_end}\")\n"
     ]
    },
    {
     "name": "stdout",
     "output_type": "stream",
     "text": [
      "Loop:  179\n",
      "\u001b[2m\u001b[36m(RolloutWorker pid=15280)\u001b[0m reset triggered\n",
      "\u001b[2m\u001b[36m(RolloutWorker pid=15280)\u001b[0m reload save for track : 4\n"
     ]
    },
    {
     "name": "stderr",
     "output_type": "stream",
     "text": [
      "\u001b[2m\u001b[36m(RolloutWorker pid=15280)\u001b[0m c:\\Users\\nadir\\anaconda3\\envs\\GTAI2\\lib\\site-packages\\rtgym\\envs\\real_time_env.py:376: UserWarning: Time-step timed out. Elapsed since last time-step: 0.14982740002005812\n",
      "\u001b[2m\u001b[36m(RolloutWorker pid=15280)\u001b[0m   warnings.warn(f\"Time-step timed out. Elapsed since last time-step: {now - self.__t_end}\")\n"
     ]
    },
    {
     "name": "stdout",
     "output_type": "stream",
     "text": [
      "Loop:  180\n",
      "Saved 180\n",
      "Loop:  181\n",
      "\u001b[2m\u001b[36m(RolloutWorker pid=15280)\u001b[0m reset triggered\n",
      "\u001b[2m\u001b[36m(RolloutWorker pid=15280)\u001b[0m reload save for track : 4\n"
     ]
    },
    {
     "name": "stderr",
     "output_type": "stream",
     "text": [
      "\u001b[2m\u001b[36m(RolloutWorker pid=15280)\u001b[0m c:\\Users\\nadir\\anaconda3\\envs\\GTAI2\\lib\\site-packages\\rtgym\\envs\\real_time_env.py:376: UserWarning: Time-step timed out. Elapsed since last time-step: 0.1305081000205064\n",
      "\u001b[2m\u001b[36m(RolloutWorker pid=15280)\u001b[0m   warnings.warn(f\"Time-step timed out. Elapsed since last time-step: {now - self.__t_end}\")\n"
     ]
    },
    {
     "name": "stdout",
     "output_type": "stream",
     "text": [
      "Loop:  182\n",
      "\u001b[2m\u001b[36m(RolloutWorker pid=15280)\u001b[0m reset triggered\n",
      "\u001b[2m\u001b[36m(RolloutWorker pid=15280)\u001b[0m reload save for track : 4\n"
     ]
    },
    {
     "name": "stderr",
     "output_type": "stream",
     "text": [
      "\u001b[2m\u001b[36m(RolloutWorker pid=15280)\u001b[0m c:\\Users\\nadir\\anaconda3\\envs\\GTAI2\\lib\\site-packages\\rtgym\\envs\\real_time_env.py:376: UserWarning: Time-step timed out. Elapsed since last time-step: 0.14640450002025318\n",
      "\u001b[2m\u001b[36m(RolloutWorker pid=15280)\u001b[0m   warnings.warn(f\"Time-step timed out. Elapsed since last time-step: {now - self.__t_end}\")\n"
     ]
    },
    {
     "name": "stdout",
     "output_type": "stream",
     "text": [
      "Loop:  183\n",
      "\u001b[2m\u001b[36m(RolloutWorker pid=15280)\u001b[0m reset triggered\n",
      "\u001b[2m\u001b[36m(RolloutWorker pid=15280)\u001b[0m reload save for track : 4\n"
     ]
    },
    {
     "name": "stderr",
     "output_type": "stream",
     "text": [
      "\u001b[2m\u001b[36m(RolloutWorker pid=15280)\u001b[0m c:\\Users\\nadir\\anaconda3\\envs\\GTAI2\\lib\\site-packages\\rtgym\\envs\\real_time_env.py:376: UserWarning: Time-step timed out. Elapsed since last time-step: 0.13345270002037068\n",
      "\u001b[2m\u001b[36m(RolloutWorker pid=15280)\u001b[0m   warnings.warn(f\"Time-step timed out. Elapsed since last time-step: {now - self.__t_end}\")\n"
     ]
    },
    {
     "name": "stdout",
     "output_type": "stream",
     "text": [
      "Loop:  184\n"
     ]
    },
    {
     "name": "stderr",
     "output_type": "stream",
     "text": [
      "\u001b[2m\u001b[36m(RolloutWorker pid=15280)\u001b[0m c:\\Users\\nadir\\anaconda3\\envs\\GTAI2\\lib\\site-packages\\rtgym\\envs\\real_time_env.py:376: UserWarning: Time-step timed out. Elapsed since last time-step: 0.1585387000081937\n",
      "\u001b[2m\u001b[36m(RolloutWorker pid=15280)\u001b[0m   warnings.warn(f\"Time-step timed out. Elapsed since last time-step: {now - self.__t_end}\")\n"
     ]
    },
    {
     "name": "stdout",
     "output_type": "stream",
     "text": [
      "Loop:  185\n",
      "\u001b[2m\u001b[36m(RolloutWorker pid=15280)\u001b[0m reset triggered\n",
      "\u001b[2m\u001b[36m(RolloutWorker pid=15280)\u001b[0m reload save for track : 4\n"
     ]
    },
    {
     "name": "stderr",
     "output_type": "stream",
     "text": [
      "\u001b[2m\u001b[36m(RolloutWorker pid=15280)\u001b[0m c:\\Users\\nadir\\anaconda3\\envs\\GTAI2\\lib\\site-packages\\rtgym\\envs\\real_time_env.py:376: UserWarning: Time-step timed out. Elapsed since last time-step: 0.13854260001244256\n",
      "\u001b[2m\u001b[36m(RolloutWorker pid=15280)\u001b[0m   warnings.warn(f\"Time-step timed out. Elapsed since last time-step: {now - self.__t_end}\")\n"
     ]
    },
    {
     "name": "stdout",
     "output_type": "stream",
     "text": [
      "Loop:  186\n",
      "\u001b[2m\u001b[36m(RolloutWorker pid=15280)\u001b[0m reset triggered\n",
      "\u001b[2m\u001b[36m(RolloutWorker pid=15280)\u001b[0m reload save for track : 4\n"
     ]
    },
    {
     "name": "stderr",
     "output_type": "stream",
     "text": [
      "\u001b[2m\u001b[36m(RolloutWorker pid=15280)\u001b[0m c:\\Users\\nadir\\anaconda3\\envs\\GTAI2\\lib\\site-packages\\rtgym\\envs\\real_time_env.py:376: UserWarning: Time-step timed out. Elapsed since last time-step: 0.14299410002013246\n",
      "\u001b[2m\u001b[36m(RolloutWorker pid=15280)\u001b[0m   warnings.warn(f\"Time-step timed out. Elapsed since last time-step: {now - self.__t_end}\")\n"
     ]
    },
    {
     "name": "stdout",
     "output_type": "stream",
     "text": [
      "Loop:  187\n",
      "Loop:  188\n",
      "\u001b[2m\u001b[36m(RolloutWorker pid=15280)\u001b[0m reset triggered\n",
      "\u001b[2m\u001b[36m(RolloutWorker pid=15280)\u001b[0m reload save for track : 4\n"
     ]
    },
    {
     "name": "stderr",
     "output_type": "stream",
     "text": [
      "\u001b[2m\u001b[36m(RolloutWorker pid=15280)\u001b[0m c:\\Users\\nadir\\anaconda3\\envs\\GTAI2\\lib\\site-packages\\rtgym\\envs\\real_time_env.py:376: UserWarning: Time-step timed out. Elapsed since last time-step: 0.1468170000207465\n",
      "\u001b[2m\u001b[36m(RolloutWorker pid=15280)\u001b[0m   warnings.warn(f\"Time-step timed out. Elapsed since last time-step: {now - self.__t_end}\")\n"
     ]
    },
    {
     "name": "stdout",
     "output_type": "stream",
     "text": [
      "Loop:  189\n",
      "\u001b[2m\u001b[36m(RolloutWorker pid=15280)\u001b[0m reset triggered\n",
      "\u001b[2m\u001b[36m(RolloutWorker pid=15280)\u001b[0m reload save for track : 4\n"
     ]
    },
    {
     "name": "stderr",
     "output_type": "stream",
     "text": [
      "\u001b[2m\u001b[36m(RolloutWorker pid=15280)\u001b[0m c:\\Users\\nadir\\anaconda3\\envs\\GTAI2\\lib\\site-packages\\rtgym\\envs\\real_time_env.py:376: UserWarning: Time-step timed out. Elapsed since last time-step: 0.14345280001998617\n",
      "\u001b[2m\u001b[36m(RolloutWorker pid=15280)\u001b[0m   warnings.warn(f\"Time-step timed out. Elapsed since last time-step: {now - self.__t_end}\")\n"
     ]
    },
    {
     "name": "stdout",
     "output_type": "stream",
     "text": [
      "Loop:  190\n",
      "Saved 190\n",
      "Loop:  191\n",
      "\u001b[2m\u001b[36m(RolloutWorker pid=15280)\u001b[0m reset triggered\n",
      "\u001b[2m\u001b[36m(RolloutWorker pid=15280)\u001b[0m reload save for track : 4\n"
     ]
    },
    {
     "name": "stderr",
     "output_type": "stream",
     "text": [
      "\u001b[2m\u001b[36m(RolloutWorker pid=15280)\u001b[0m c:\\Users\\nadir\\anaconda3\\envs\\GTAI2\\lib\\site-packages\\rtgym\\envs\\real_time_env.py:376: UserWarning: Time-step timed out. Elapsed since last time-step: 0.14974490002032326\n",
      "\u001b[2m\u001b[36m(RolloutWorker pid=15280)\u001b[0m   warnings.warn(f\"Time-step timed out. Elapsed since last time-step: {now - self.__t_end}\")\n"
     ]
    },
    {
     "name": "stdout",
     "output_type": "stream",
     "text": [
      "Loop:  192\n",
      "\u001b[2m\u001b[36m(RolloutWorker pid=15280)\u001b[0m reset triggered\n",
      "\u001b[2m\u001b[36m(RolloutWorker pid=15280)\u001b[0m reload save for track : 4\n"
     ]
    },
    {
     "name": "stderr",
     "output_type": "stream",
     "text": [
      "\u001b[2m\u001b[36m(RolloutWorker pid=15280)\u001b[0m c:\\Users\\nadir\\anaconda3\\envs\\GTAI2\\lib\\site-packages\\rtgym\\envs\\real_time_env.py:376: UserWarning: Time-step timed out. Elapsed since last time-step: 0.13720680002052177\n",
      "\u001b[2m\u001b[36m(RolloutWorker pid=15280)\u001b[0m   warnings.warn(f\"Time-step timed out. Elapsed since last time-step: {now - self.__t_end}\")\n"
     ]
    },
    {
     "name": "stdout",
     "output_type": "stream",
     "text": [
      "Loop:  193\n",
      "Loop:  194\n",
      "\u001b[2m\u001b[36m(RolloutWorker pid=15280)\u001b[0m reset triggered\n",
      "\u001b[2m\u001b[36m(RolloutWorker pid=15280)\u001b[0m reload save for track : 4\n"
     ]
    },
    {
     "name": "stderr",
     "output_type": "stream",
     "text": [
      "\u001b[2m\u001b[36m(RolloutWorker pid=15280)\u001b[0m c:\\Users\\nadir\\anaconda3\\envs\\GTAI2\\lib\\site-packages\\rtgym\\envs\\real_time_env.py:376: UserWarning: Time-step timed out. Elapsed since last time-step: 0.14125000002059096\n",
      "\u001b[2m\u001b[36m(RolloutWorker pid=15280)\u001b[0m   warnings.warn(f\"Time-step timed out. Elapsed since last time-step: {now - self.__t_end}\")\n"
     ]
    },
    {
     "name": "stdout",
     "output_type": "stream",
     "text": [
      "Loop:  195\n",
      "\u001b[2m\u001b[36m(RolloutWorker pid=15280)\u001b[0m reset triggered\n",
      "\u001b[2m\u001b[36m(RolloutWorker pid=15280)\u001b[0m reload save for track : 4\n"
     ]
    },
    {
     "name": "stderr",
     "output_type": "stream",
     "text": [
      "\u001b[2m\u001b[36m(RolloutWorker pid=15280)\u001b[0m c:\\Users\\nadir\\anaconda3\\envs\\GTAI2\\lib\\site-packages\\rtgym\\envs\\real_time_env.py:376: UserWarning: Time-step timed out. Elapsed since last time-step: 0.12186910002037621\n",
      "\u001b[2m\u001b[36m(RolloutWorker pid=15280)\u001b[0m   warnings.warn(f\"Time-step timed out. Elapsed since last time-step: {now - self.__t_end}\")\n"
     ]
    },
    {
     "name": "stdout",
     "output_type": "stream",
     "text": [
      "Loop:  196\n",
      "\u001b[2m\u001b[36m(RolloutWorker pid=15280)\u001b[0m reset triggered\n",
      "\u001b[2m\u001b[36m(RolloutWorker pid=15280)\u001b[0m reload save for track : 4\n"
     ]
    },
    {
     "name": "stderr",
     "output_type": "stream",
     "text": [
      "\u001b[2m\u001b[36m(RolloutWorker pid=15280)\u001b[0m c:\\Users\\nadir\\anaconda3\\envs\\GTAI2\\lib\\site-packages\\rtgym\\envs\\real_time_env.py:376: UserWarning: Time-step timed out. Elapsed since last time-step: 0.139484700020148\n",
      "\u001b[2m\u001b[36m(RolloutWorker pid=15280)\u001b[0m   warnings.warn(f\"Time-step timed out. Elapsed since last time-step: {now - self.__t_end}\")\n"
     ]
    },
    {
     "name": "stdout",
     "output_type": "stream",
     "text": [
      "Loop:  197\n",
      "Loop:  198\n",
      "\u001b[2m\u001b[36m(RolloutWorker pid=15280)\u001b[0m reset triggered\n",
      "\u001b[2m\u001b[36m(RolloutWorker pid=15280)\u001b[0m reload save for track : 4\n"
     ]
    },
    {
     "name": "stderr",
     "output_type": "stream",
     "text": [
      "\u001b[2m\u001b[36m(RolloutWorker pid=15280)\u001b[0m c:\\Users\\nadir\\anaconda3\\envs\\GTAI2\\lib\\site-packages\\rtgym\\envs\\real_time_env.py:376: UserWarning: Time-step timed out. Elapsed since last time-step: 0.14694030002056024\n",
      "\u001b[2m\u001b[36m(RolloutWorker pid=15280)\u001b[0m   warnings.warn(f\"Time-step timed out. Elapsed since last time-step: {now - self.__t_end}\")\n"
     ]
    },
    {
     "name": "stdout",
     "output_type": "stream",
     "text": [
      "Loop:  199\n",
      "\u001b[2m\u001b[36m(RolloutWorker pid=15280)\u001b[0m reset triggered\n",
      "\u001b[2m\u001b[36m(RolloutWorker pid=15280)\u001b[0m reload save for track : 4\n"
     ]
    },
    {
     "name": "stderr",
     "output_type": "stream",
     "text": [
      "\u001b[2m\u001b[36m(RolloutWorker pid=15280)\u001b[0m c:\\Users\\nadir\\anaconda3\\envs\\GTAI2\\lib\\site-packages\\rtgym\\envs\\real_time_env.py:376: UserWarning: Time-step timed out. Elapsed since last time-step: 0.15332030002036845\n",
      "\u001b[2m\u001b[36m(RolloutWorker pid=15280)\u001b[0m   warnings.warn(f\"Time-step timed out. Elapsed since last time-step: {now - self.__t_end}\")\n"
     ]
    },
    {
     "name": "stdout",
     "output_type": "stream",
     "text": [
      "Loop:  200\n",
      "Saved 200\n",
      "Loop:  201\n",
      "\u001b[2m\u001b[36m(RolloutWorker pid=15280)\u001b[0m reset triggered\n",
      "\u001b[2m\u001b[36m(RolloutWorker pid=15280)\u001b[0m reload save for track : 4\n"
     ]
    },
    {
     "name": "stderr",
     "output_type": "stream",
     "text": [
      "\u001b[2m\u001b[36m(RolloutWorker pid=15280)\u001b[0m c:\\Users\\nadir\\anaconda3\\envs\\GTAI2\\lib\\site-packages\\rtgym\\envs\\real_time_env.py:376: UserWarning: Time-step timed out. Elapsed since last time-step: 0.14782110002033733\n",
      "\u001b[2m\u001b[36m(RolloutWorker pid=15280)\u001b[0m   warnings.warn(f\"Time-step timed out. Elapsed since last time-step: {now - self.__t_end}\")\n"
     ]
    },
    {
     "name": "stdout",
     "output_type": "stream",
     "text": [
      "Loop:  202\n",
      "\u001b[2m\u001b[36m(RolloutWorker pid=15280)\u001b[0m reset triggered\n",
      "\u001b[2m\u001b[36m(RolloutWorker pid=15280)\u001b[0m reload save for track : 4\n"
     ]
    },
    {
     "name": "stderr",
     "output_type": "stream",
     "text": [
      "\u001b[2m\u001b[36m(RolloutWorker pid=15280)\u001b[0m c:\\Users\\nadir\\anaconda3\\envs\\GTAI2\\lib\\site-packages\\rtgym\\envs\\real_time_env.py:376: UserWarning: Time-step timed out. Elapsed since last time-step: 0.13417750002008688\n",
      "\u001b[2m\u001b[36m(RolloutWorker pid=15280)\u001b[0m   warnings.warn(f\"Time-step timed out. Elapsed since last time-step: {now - self.__t_end}\")\n"
     ]
    },
    {
     "name": "stdout",
     "output_type": "stream",
     "text": [
      "Loop:  203\n",
      "Loop:  204\n",
      "\u001b[2m\u001b[36m(RolloutWorker pid=15280)\u001b[0m reset triggered\n",
      "\u001b[2m\u001b[36m(RolloutWorker pid=15280)\u001b[0m reload save for track : 4\n"
     ]
    },
    {
     "name": "stderr",
     "output_type": "stream",
     "text": [
      "\u001b[2m\u001b[36m(RolloutWorker pid=15280)\u001b[0m c:\\Users\\nadir\\anaconda3\\envs\\GTAI2\\lib\\site-packages\\rtgym\\envs\\real_time_env.py:376: UserWarning: Time-step timed out. Elapsed since last time-step: 0.1455725000205348\n",
      "\u001b[2m\u001b[36m(RolloutWorker pid=15280)\u001b[0m   warnings.warn(f\"Time-step timed out. Elapsed since last time-step: {now - self.__t_end}\")\n"
     ]
    },
    {
     "name": "stdout",
     "output_type": "stream",
     "text": [
      "Loop:  205\n",
      "\u001b[2m\u001b[36m(RolloutWorker pid=15280)\u001b[0m reset triggered\n",
      "\u001b[2m\u001b[36m(RolloutWorker pid=15280)\u001b[0m reload save for track : 4\n"
     ]
    },
    {
     "name": "stderr",
     "output_type": "stream",
     "text": [
      "\u001b[2m\u001b[36m(RolloutWorker pid=15280)\u001b[0m c:\\Users\\nadir\\anaconda3\\envs\\GTAI2\\lib\\site-packages\\rtgym\\envs\\real_time_env.py:376: UserWarning: Time-step timed out. Elapsed since last time-step: 0.17013320002024557\n",
      "\u001b[2m\u001b[36m(RolloutWorker pid=15280)\u001b[0m   warnings.warn(f\"Time-step timed out. Elapsed since last time-step: {now - self.__t_end}\")\n"
     ]
    },
    {
     "name": "stdout",
     "output_type": "stream",
     "text": [
      "Loop:  206\n",
      "Loop:  207\n",
      "\u001b[2m\u001b[36m(RolloutWorker pid=15280)\u001b[0m reset triggered\n",
      "\u001b[2m\u001b[36m(RolloutWorker pid=15280)\u001b[0m reload save for track : 4\n"
     ]
    },
    {
     "name": "stderr",
     "output_type": "stream",
     "text": [
      "\u001b[2m\u001b[36m(RolloutWorker pid=15280)\u001b[0m c:\\Users\\nadir\\anaconda3\\envs\\GTAI2\\lib\\site-packages\\rtgym\\envs\\real_time_env.py:376: UserWarning: Time-step timed out. Elapsed since last time-step: 0.12214810002069498\n",
      "\u001b[2m\u001b[36m(RolloutWorker pid=15280)\u001b[0m   warnings.warn(f\"Time-step timed out. Elapsed since last time-step: {now - self.__t_end}\")\n"
     ]
    },
    {
     "name": "stdout",
     "output_type": "stream",
     "text": [
      "Loop:  208\n",
      "\u001b[2m\u001b[36m(RolloutWorker pid=15280)\u001b[0m reset triggered\n",
      "\u001b[2m\u001b[36m(RolloutWorker pid=15280)\u001b[0m reload save for track : 4\n"
     ]
    },
    {
     "name": "stderr",
     "output_type": "stream",
     "text": [
      "\u001b[2m\u001b[36m(RolloutWorker pid=15280)\u001b[0m c:\\Users\\nadir\\anaconda3\\envs\\GTAI2\\lib\\site-packages\\rtgym\\envs\\real_time_env.py:376: UserWarning: Time-step timed out. Elapsed since last time-step: 0.14797420002014405\n",
      "\u001b[2m\u001b[36m(RolloutWorker pid=15280)\u001b[0m   warnings.warn(f\"Time-step timed out. Elapsed since last time-step: {now - self.__t_end}\")\n"
     ]
    },
    {
     "name": "stdout",
     "output_type": "stream",
     "text": [
      "Loop:  209\n",
      "\u001b[2m\u001b[36m(RolloutWorker pid=15280)\u001b[0m reset triggered\n",
      "\u001b[2m\u001b[36m(RolloutWorker pid=15280)\u001b[0m reload save for track : 4\n"
     ]
    },
    {
     "name": "stderr",
     "output_type": "stream",
     "text": [
      "\u001b[2m\u001b[36m(RolloutWorker pid=15280)\u001b[0m c:\\Users\\nadir\\anaconda3\\envs\\GTAI2\\lib\\site-packages\\rtgym\\envs\\real_time_env.py:376: UserWarning: Time-step timed out. Elapsed since last time-step: 0.12250400002039896\n",
      "\u001b[2m\u001b[36m(RolloutWorker pid=15280)\u001b[0m   warnings.warn(f\"Time-step timed out. Elapsed since last time-step: {now - self.__t_end}\")\n"
     ]
    },
    {
     "name": "stdout",
     "output_type": "stream",
     "text": [
      "Loop:  210\n",
      "Saved 210\n",
      "Loop:  211\n",
      "\u001b[2m\u001b[36m(RolloutWorker pid=15280)\u001b[0m reset triggered\n",
      "\u001b[2m\u001b[36m(RolloutWorker pid=15280)\u001b[0m reload save for track : 4\n"
     ]
    },
    {
     "name": "stderr",
     "output_type": "stream",
     "text": [
      "\u001b[2m\u001b[36m(RolloutWorker pid=15280)\u001b[0m c:\\Users\\nadir\\anaconda3\\envs\\GTAI2\\lib\\site-packages\\rtgym\\envs\\real_time_env.py:376: UserWarning: Time-step timed out. Elapsed since last time-step: 0.13791990002027887\n",
      "\u001b[2m\u001b[36m(RolloutWorker pid=15280)\u001b[0m   warnings.warn(f\"Time-step timed out. Elapsed since last time-step: {now - self.__t_end}\")\n"
     ]
    },
    {
     "name": "stdout",
     "output_type": "stream",
     "text": [
      "Loop:  212\n",
      "\u001b[2m\u001b[36m(RolloutWorker pid=15280)\u001b[0m reset triggered\n",
      "\u001b[2m\u001b[36m(RolloutWorker pid=15280)\u001b[0m reload save for track : 4\n"
     ]
    },
    {
     "name": "stderr",
     "output_type": "stream",
     "text": [
      "\u001b[2m\u001b[36m(RolloutWorker pid=15280)\u001b[0m c:\\Users\\nadir\\anaconda3\\envs\\GTAI2\\lib\\site-packages\\rtgym\\envs\\real_time_env.py:376: UserWarning: Time-step timed out. Elapsed since last time-step: 0.15258270002050267\n",
      "\u001b[2m\u001b[36m(RolloutWorker pid=15280)\u001b[0m   warnings.warn(f\"Time-step timed out. Elapsed since last time-step: {now - self.__t_end}\")\n"
     ]
    },
    {
     "name": "stdout",
     "output_type": "stream",
     "text": [
      "Loop:  213\n",
      "Loop:  214\n",
      "\u001b[2m\u001b[36m(RolloutWorker pid=15280)\u001b[0m reset triggered\n",
      "\u001b[2m\u001b[36m(RolloutWorker pid=15280)\u001b[0m reload save for track : 4\n"
     ]
    },
    {
     "name": "stderr",
     "output_type": "stream",
     "text": [
      "\u001b[2m\u001b[36m(RolloutWorker pid=15280)\u001b[0m c:\\Users\\nadir\\anaconda3\\envs\\GTAI2\\lib\\site-packages\\rtgym\\envs\\real_time_env.py:376: UserWarning: Time-step timed out. Elapsed since last time-step: 0.1364817000203402\n",
      "\u001b[2m\u001b[36m(RolloutWorker pid=15280)\u001b[0m   warnings.warn(f\"Time-step timed out. Elapsed since last time-step: {now - self.__t_end}\")\n"
     ]
    },
    {
     "name": "stdout",
     "output_type": "stream",
     "text": [
      "Loop:  215\n",
      "\u001b[2m\u001b[36m(RolloutWorker pid=15280)\u001b[0m reset triggered\n",
      "\u001b[2m\u001b[36m(RolloutWorker pid=15280)\u001b[0m reload save for track : 4\n"
     ]
    },
    {
     "name": "stderr",
     "output_type": "stream",
     "text": [
      "\u001b[2m\u001b[36m(RolloutWorker pid=15280)\u001b[0m c:\\Users\\nadir\\anaconda3\\envs\\GTAI2\\lib\\site-packages\\rtgym\\envs\\real_time_env.py:376: UserWarning: Time-step timed out. Elapsed since last time-step: 0.14325760002020616\n",
      "\u001b[2m\u001b[36m(RolloutWorker pid=15280)\u001b[0m   warnings.warn(f\"Time-step timed out. Elapsed since last time-step: {now - self.__t_end}\")\n"
     ]
    },
    {
     "name": "stdout",
     "output_type": "stream",
     "text": [
      "Loop:  216\n",
      "Loop:  217\n",
      "\u001b[2m\u001b[36m(RolloutWorker pid=15280)\u001b[0m reset triggered\n",
      "\u001b[2m\u001b[36m(RolloutWorker pid=15280)\u001b[0m reload save for track : 4\n"
     ]
    },
    {
     "name": "stderr",
     "output_type": "stream",
     "text": [
      "\u001b[2m\u001b[36m(RolloutWorker pid=15280)\u001b[0m c:\\Users\\nadir\\anaconda3\\envs\\GTAI2\\lib\\site-packages\\rtgym\\envs\\real_time_env.py:376: UserWarning: Time-step timed out. Elapsed since last time-step: 0.14745550002044183\n",
      "\u001b[2m\u001b[36m(RolloutWorker pid=15280)\u001b[0m   warnings.warn(f\"Time-step timed out. Elapsed since last time-step: {now - self.__t_end}\")\n"
     ]
    },
    {
     "name": "stdout",
     "output_type": "stream",
     "text": [
      "Loop:  218\n",
      "\u001b[2m\u001b[36m(RolloutWorker pid=15280)\u001b[0m reset triggered\n",
      "\u001b[2m\u001b[36m(RolloutWorker pid=15280)\u001b[0m reload save for track : 4\n"
     ]
    },
    {
     "name": "stderr",
     "output_type": "stream",
     "text": [
      "\u001b[2m\u001b[36m(RolloutWorker pid=15280)\u001b[0m c:\\Users\\nadir\\anaconda3\\envs\\GTAI2\\lib\\site-packages\\rtgym\\envs\\real_time_env.py:376: UserWarning: Time-step timed out. Elapsed since last time-step: 0.12290730002041528\n",
      "\u001b[2m\u001b[36m(RolloutWorker pid=15280)\u001b[0m   warnings.warn(f\"Time-step timed out. Elapsed since last time-step: {now - self.__t_end}\")\n"
     ]
    },
    {
     "name": "stdout",
     "output_type": "stream",
     "text": [
      "Loop:  219\n",
      "Loop:  220\n",
      "Saved 220\n",
      "\u001b[2m\u001b[36m(RolloutWorker pid=15280)\u001b[0m reset triggered\n",
      "\u001b[2m\u001b[36m(RolloutWorker pid=15280)\u001b[0m reload save for track : 4\n"
     ]
    },
    {
     "name": "stderr",
     "output_type": "stream",
     "text": [
      "\u001b[2m\u001b[36m(RolloutWorker pid=15280)\u001b[0m c:\\Users\\nadir\\anaconda3\\envs\\GTAI2\\lib\\site-packages\\rtgym\\envs\\real_time_env.py:376: UserWarning: Time-step timed out. Elapsed since last time-step: 0.14703910002026532\n",
      "\u001b[2m\u001b[36m(RolloutWorker pid=15280)\u001b[0m   warnings.warn(f\"Time-step timed out. Elapsed since last time-step: {now - self.__t_end}\")\n"
     ]
    },
    {
     "name": "stdout",
     "output_type": "stream",
     "text": [
      "Loop:  221\n",
      "\u001b[2m\u001b[36m(RolloutWorker pid=15280)\u001b[0m reset triggered\n",
      "\u001b[2m\u001b[36m(RolloutWorker pid=15280)\u001b[0m reload save for track : 4\n"
     ]
    },
    {
     "name": "stderr",
     "output_type": "stream",
     "text": [
      "\u001b[2m\u001b[36m(RolloutWorker pid=15280)\u001b[0m c:\\Users\\nadir\\anaconda3\\envs\\GTAI2\\lib\\site-packages\\rtgym\\envs\\real_time_env.py:376: UserWarning: Time-step timed out. Elapsed since last time-step: 0.12264860002051137\n",
      "\u001b[2m\u001b[36m(RolloutWorker pid=15280)\u001b[0m   warnings.warn(f\"Time-step timed out. Elapsed since last time-step: {now - self.__t_end}\")\n"
     ]
    },
    {
     "name": "stdout",
     "output_type": "stream",
     "text": [
      "Loop:  222\n",
      "\u001b[2m\u001b[36m(RolloutWorker pid=15280)\u001b[0m reset triggered\n",
      "\u001b[2m\u001b[36m(RolloutWorker pid=15280)\u001b[0m reload save for track : 4\n"
     ]
    },
    {
     "name": "stderr",
     "output_type": "stream",
     "text": [
      "\u001b[2m\u001b[36m(RolloutWorker pid=15280)\u001b[0m c:\\Users\\nadir\\anaconda3\\envs\\GTAI2\\lib\\site-packages\\rtgym\\envs\\real_time_env.py:376: UserWarning: Time-step timed out. Elapsed since last time-step: 0.13776150002058785\n",
      "\u001b[2m\u001b[36m(RolloutWorker pid=15280)\u001b[0m   warnings.warn(f\"Time-step timed out. Elapsed since last time-step: {now - self.__t_end}\")\n"
     ]
    },
    {
     "name": "stdout",
     "output_type": "stream",
     "text": [
      "Loop:  223\n",
      "Loop:  224\n",
      "\u001b[2m\u001b[36m(RolloutWorker pid=15280)\u001b[0m reset triggered\n",
      "\u001b[2m\u001b[36m(RolloutWorker pid=15280)\u001b[0m reload save for track : 4\n"
     ]
    },
    {
     "name": "stderr",
     "output_type": "stream",
     "text": [
      "\u001b[2m\u001b[36m(RolloutWorker pid=15280)\u001b[0m c:\\Users\\nadir\\anaconda3\\envs\\GTAI2\\lib\\site-packages\\rtgym\\envs\\real_time_env.py:376: UserWarning: Time-step timed out. Elapsed since last time-step: 0.14358420002008643\n",
      "\u001b[2m\u001b[36m(RolloutWorker pid=15280)\u001b[0m   warnings.warn(f\"Time-step timed out. Elapsed since last time-step: {now - self.__t_end}\")\n"
     ]
    },
    {
     "name": "stdout",
     "output_type": "stream",
     "text": [
      "Loop:  225\n",
      "\u001b[2m\u001b[36m(RolloutWorker pid=15280)\u001b[0m reset triggered\n",
      "\u001b[2m\u001b[36m(RolloutWorker pid=15280)\u001b[0m reload save for track : 4\n"
     ]
    },
    {
     "name": "stderr",
     "output_type": "stream",
     "text": [
      "\u001b[2m\u001b[36m(RolloutWorker pid=15280)\u001b[0m c:\\Users\\nadir\\anaconda3\\envs\\GTAI2\\lib\\site-packages\\rtgym\\envs\\real_time_env.py:376: UserWarning: Time-step timed out. Elapsed since last time-step: 0.14810230002058233\n",
      "\u001b[2m\u001b[36m(RolloutWorker pid=15280)\u001b[0m   warnings.warn(f\"Time-step timed out. Elapsed since last time-step: {now - self.__t_end}\")\n"
     ]
    },
    {
     "name": "stdout",
     "output_type": "stream",
     "text": [
      "Loop:  226\n",
      "Loop:  227\n",
      "\u001b[2m\u001b[36m(RolloutWorker pid=15280)\u001b[0m reset triggered\n",
      "\u001b[2m\u001b[36m(RolloutWorker pid=15280)\u001b[0m reload save for track : 4\n"
     ]
    },
    {
     "name": "stderr",
     "output_type": "stream",
     "text": [
      "\u001b[2m\u001b[36m(RolloutWorker pid=15280)\u001b[0m c:\\Users\\nadir\\anaconda3\\envs\\GTAI2\\lib\\site-packages\\rtgym\\envs\\real_time_env.py:376: UserWarning: Time-step timed out. Elapsed since last time-step: 0.14413260002038442\n",
      "\u001b[2m\u001b[36m(RolloutWorker pid=15280)\u001b[0m   warnings.warn(f\"Time-step timed out. Elapsed since last time-step: {now - self.__t_end}\")\n"
     ]
    },
    {
     "name": "stdout",
     "output_type": "stream",
     "text": [
      "Loop:  228\n",
      "\u001b[2m\u001b[36m(RolloutWorker pid=15280)\u001b[0m reset triggered\n",
      "\u001b[2m\u001b[36m(RolloutWorker pid=15280)\u001b[0m reload save for track : 4\n"
     ]
    },
    {
     "name": "stderr",
     "output_type": "stream",
     "text": [
      "\u001b[2m\u001b[36m(RolloutWorker pid=15280)\u001b[0m c:\\Users\\nadir\\anaconda3\\envs\\GTAI2\\lib\\site-packages\\rtgym\\envs\\real_time_env.py:376: UserWarning: Time-step timed out. Elapsed since last time-step: 0.1341438000204107\n",
      "\u001b[2m\u001b[36m(RolloutWorker pid=15280)\u001b[0m   warnings.warn(f\"Time-step timed out. Elapsed since last time-step: {now - self.__t_end}\")\n"
     ]
    },
    {
     "name": "stdout",
     "output_type": "stream",
     "text": [
      "Loop:  229\n",
      "Loop:  230\n",
      "Saved 230\n",
      "\u001b[2m\u001b[36m(RolloutWorker pid=15280)\u001b[0m reset triggered\n",
      "\u001b[2m\u001b[36m(RolloutWorker pid=15280)\u001b[0m reload save for track : 4\n"
     ]
    },
    {
     "name": "stderr",
     "output_type": "stream",
     "text": [
      "\u001b[2m\u001b[36m(RolloutWorker pid=15280)\u001b[0m c:\\Users\\nadir\\anaconda3\\envs\\GTAI2\\lib\\site-packages\\rtgym\\envs\\real_time_env.py:376: UserWarning: Time-step timed out. Elapsed since last time-step: 0.13306180002018664\n",
      "\u001b[2m\u001b[36m(RolloutWorker pid=15280)\u001b[0m   warnings.warn(f\"Time-step timed out. Elapsed since last time-step: {now - self.__t_end}\")\n"
     ]
    },
    {
     "name": "stdout",
     "output_type": "stream",
     "text": [
      "Loop:  231\n",
      "\u001b[2m\u001b[36m(RolloutWorker pid=15280)\u001b[0m reset triggered\n",
      "\u001b[2m\u001b[36m(RolloutWorker pid=15280)\u001b[0m reload save for track : 4\n"
     ]
    },
    {
     "name": "stderr",
     "output_type": "stream",
     "text": [
      "\u001b[2m\u001b[36m(RolloutWorker pid=15280)\u001b[0m c:\\Users\\nadir\\anaconda3\\envs\\GTAI2\\lib\\site-packages\\rtgym\\envs\\real_time_env.py:376: UserWarning: Time-step timed out. Elapsed since last time-step: 0.1491669000206457\n",
      "\u001b[2m\u001b[36m(RolloutWorker pid=15280)\u001b[0m   warnings.warn(f\"Time-step timed out. Elapsed since last time-step: {now - self.__t_end}\")\n"
     ]
    },
    {
     "name": "stdout",
     "output_type": "stream",
     "text": [
      "Loop:  232\n",
      "Loop:  233\n",
      "\u001b[2m\u001b[36m(RolloutWorker pid=15280)\u001b[0m reset triggered\n",
      "\u001b[2m\u001b[36m(RolloutWorker pid=15280)\u001b[0m reload save for track : 4\n"
     ]
    },
    {
     "name": "stderr",
     "output_type": "stream",
     "text": [
      "\u001b[2m\u001b[36m(RolloutWorker pid=15280)\u001b[0m c:\\Users\\nadir\\anaconda3\\envs\\GTAI2\\lib\\site-packages\\rtgym\\envs\\real_time_env.py:376: UserWarning: Time-step timed out. Elapsed since last time-step: 0.13001820002000386\n",
      "\u001b[2m\u001b[36m(RolloutWorker pid=15280)\u001b[0m   warnings.warn(f\"Time-step timed out. Elapsed since last time-step: {now - self.__t_end}\")\n"
     ]
    },
    {
     "name": "stdout",
     "output_type": "stream",
     "text": [
      "Loop:  234\n",
      "\u001b[2m\u001b[36m(RolloutWorker pid=15280)\u001b[0m reset triggered\n",
      "\u001b[2m\u001b[36m(RolloutWorker pid=15280)\u001b[0m reload save for track : 4\n"
     ]
    },
    {
     "name": "stderr",
     "output_type": "stream",
     "text": [
      "\u001b[2m\u001b[36m(RolloutWorker pid=15280)\u001b[0m c:\\Users\\nadir\\anaconda3\\envs\\GTAI2\\lib\\site-packages\\rtgym\\envs\\real_time_env.py:376: UserWarning: Time-step timed out. Elapsed since last time-step: 0.14011670002037135\n",
      "\u001b[2m\u001b[36m(RolloutWorker pid=15280)\u001b[0m   warnings.warn(f\"Time-step timed out. Elapsed since last time-step: {now - self.__t_end}\")\n"
     ]
    },
    {
     "name": "stdout",
     "output_type": "stream",
     "text": [
      "Loop:  235\n",
      "Loop:  236\n",
      "\u001b[2m\u001b[36m(RolloutWorker pid=15280)\u001b[0m reset triggered\n",
      "\u001b[2m\u001b[36m(RolloutWorker pid=15280)\u001b[0m reload save for track : 4\n"
     ]
    },
    {
     "name": "stderr",
     "output_type": "stream",
     "text": [
      "\u001b[2m\u001b[36m(RolloutWorker pid=15280)\u001b[0m c:\\Users\\nadir\\anaconda3\\envs\\GTAI2\\lib\\site-packages\\rtgym\\envs\\real_time_env.py:376: UserWarning: Time-step timed out. Elapsed since last time-step: 0.14796370002068215\n",
      "\u001b[2m\u001b[36m(RolloutWorker pid=15280)\u001b[0m   warnings.warn(f\"Time-step timed out. Elapsed since last time-step: {now - self.__t_end}\")\n"
     ]
    },
    {
     "name": "stdout",
     "output_type": "stream",
     "text": [
      "Loop:  237\n",
      "\u001b[2m\u001b[36m(RolloutWorker pid=15280)\u001b[0m reset triggered\n",
      "\u001b[2m\u001b[36m(RolloutWorker pid=15280)\u001b[0m reload save for track : 4\n"
     ]
    },
    {
     "name": "stderr",
     "output_type": "stream",
     "text": [
      "\u001b[2m\u001b[36m(RolloutWorker pid=15280)\u001b[0m c:\\Users\\nadir\\anaconda3\\envs\\GTAI2\\lib\\site-packages\\rtgym\\envs\\real_time_env.py:376: UserWarning: Time-step timed out. Elapsed since last time-step: 0.1528102000202125\n",
      "\u001b[2m\u001b[36m(RolloutWorker pid=15280)\u001b[0m   warnings.warn(f\"Time-step timed out. Elapsed since last time-step: {now - self.__t_end}\")\n"
     ]
    },
    {
     "name": "stdout",
     "output_type": "stream",
     "text": [
      "Loop:  238\n",
      "\u001b[2m\u001b[36m(RolloutWorker pid=15280)\u001b[0m reset triggered\n",
      "\u001b[2m\u001b[36m(RolloutWorker pid=15280)\u001b[0m reload save for track : 4\n"
     ]
    },
    {
     "name": "stderr",
     "output_type": "stream",
     "text": [
      "\u001b[2m\u001b[36m(RolloutWorker pid=15280)\u001b[0m c:\\Users\\nadir\\anaconda3\\envs\\GTAI2\\lib\\site-packages\\rtgym\\envs\\real_time_env.py:376: UserWarning: Time-step timed out. Elapsed since last time-step: 0.1471117000205595\n",
      "\u001b[2m\u001b[36m(RolloutWorker pid=15280)\u001b[0m   warnings.warn(f\"Time-step timed out. Elapsed since last time-step: {now - self.__t_end}\")\n"
     ]
    },
    {
     "name": "stdout",
     "output_type": "stream",
     "text": [
      "Loop:  239\n",
      "Loop:  240\n",
      "Saved 240\n",
      "\u001b[2m\u001b[36m(RolloutWorker pid=15280)\u001b[0m reset triggered\n",
      "\u001b[2m\u001b[36m(RolloutWorker pid=15280)\u001b[0m reload save for track : 4\n"
     ]
    },
    {
     "name": "stderr",
     "output_type": "stream",
     "text": [
      "\u001b[2m\u001b[36m(RolloutWorker pid=15280)\u001b[0m c:\\Users\\nadir\\anaconda3\\envs\\GTAI2\\lib\\site-packages\\rtgym\\envs\\real_time_env.py:376: UserWarning: Time-step timed out. Elapsed since last time-step: 0.13277700002026904\n",
      "\u001b[2m\u001b[36m(RolloutWorker pid=15280)\u001b[0m   warnings.warn(f\"Time-step timed out. Elapsed since last time-step: {now - self.__t_end}\")\n"
     ]
    },
    {
     "name": "stdout",
     "output_type": "stream",
     "text": [
      "Loop:  241\n",
      "\u001b[2m\u001b[36m(RolloutWorker pid=15280)\u001b[0m reset triggered\n",
      "\u001b[2m\u001b[36m(RolloutWorker pid=15280)\u001b[0m reload save for track : 4\n"
     ]
    },
    {
     "name": "stderr",
     "output_type": "stream",
     "text": [
      "\u001b[2m\u001b[36m(RolloutWorker pid=15280)\u001b[0m c:\\Users\\nadir\\anaconda3\\envs\\GTAI2\\lib\\site-packages\\rtgym\\envs\\real_time_env.py:376: UserWarning: Time-step timed out. Elapsed since last time-step: 0.14706510002042705\n",
      "\u001b[2m\u001b[36m(RolloutWorker pid=15280)\u001b[0m   warnings.warn(f\"Time-step timed out. Elapsed since last time-step: {now - self.__t_end}\")\n"
     ]
    },
    {
     "name": "stdout",
     "output_type": "stream",
     "text": [
      "Loop:  242\n",
      "Loop:  243\n",
      "\u001b[2m\u001b[36m(RolloutWorker pid=15280)\u001b[0m reset triggered\n",
      "\u001b[2m\u001b[36m(RolloutWorker pid=15280)\u001b[0m reload save for track : 4\n"
     ]
    },
    {
     "name": "stderr",
     "output_type": "stream",
     "text": [
      "\u001b[2m\u001b[36m(RolloutWorker pid=15280)\u001b[0m c:\\Users\\nadir\\anaconda3\\envs\\GTAI2\\lib\\site-packages\\rtgym\\envs\\real_time_env.py:376: UserWarning: Time-step timed out. Elapsed since last time-step: 0.12236810002013954\n",
      "\u001b[2m\u001b[36m(RolloutWorker pid=15280)\u001b[0m   warnings.warn(f\"Time-step timed out. Elapsed since last time-step: {now - self.__t_end}\")\n"
     ]
    },
    {
     "name": "stdout",
     "output_type": "stream",
     "text": [
      "Loop:  244\n",
      "\u001b[2m\u001b[36m(RolloutWorker pid=15280)\u001b[0m reset triggered\n",
      "\u001b[2m\u001b[36m(RolloutWorker pid=15280)\u001b[0m reload save for track : 4\n"
     ]
    },
    {
     "name": "stderr",
     "output_type": "stream",
     "text": [
      "\u001b[2m\u001b[36m(RolloutWorker pid=15280)\u001b[0m c:\\Users\\nadir\\anaconda3\\envs\\GTAI2\\lib\\site-packages\\rtgym\\envs\\real_time_env.py:376: UserWarning: Time-step timed out. Elapsed since last time-step: 0.15053570002055494\n",
      "\u001b[2m\u001b[36m(RolloutWorker pid=15280)\u001b[0m   warnings.warn(f\"Time-step timed out. Elapsed since last time-step: {now - self.__t_end}\")\n"
     ]
    },
    {
     "name": "stdout",
     "output_type": "stream",
     "text": [
      "Loop:  245\n",
      "Loop:  246\n",
      "\u001b[2m\u001b[36m(RolloutWorker pid=15280)\u001b[0m reset triggered\n",
      "\u001b[2m\u001b[36m(RolloutWorker pid=15280)\u001b[0m reload save for track : 4\n"
     ]
    },
    {
     "name": "stderr",
     "output_type": "stream",
     "text": [
      "\u001b[2m\u001b[36m(RolloutWorker pid=15280)\u001b[0m c:\\Users\\nadir\\anaconda3\\envs\\GTAI2\\lib\\site-packages\\rtgym\\envs\\real_time_env.py:376: UserWarning: Time-step timed out. Elapsed since last time-step: 0.13960820002012042\n",
      "\u001b[2m\u001b[36m(RolloutWorker pid=15280)\u001b[0m   warnings.warn(f\"Time-step timed out. Elapsed since last time-step: {now - self.__t_end}\")\n"
     ]
    },
    {
     "name": "stdout",
     "output_type": "stream",
     "text": [
      "Loop:  247\n",
      "\u001b[2m\u001b[36m(RolloutWorker pid=15280)\u001b[0m reset triggered\n",
      "\u001b[2m\u001b[36m(RolloutWorker pid=15280)\u001b[0m reload save for track : 4\n"
     ]
    },
    {
     "name": "stderr",
     "output_type": "stream",
     "text": [
      "\u001b[2m\u001b[36m(RolloutWorker pid=15280)\u001b[0m c:\\Users\\nadir\\anaconda3\\envs\\GTAI2\\lib\\site-packages\\rtgym\\envs\\real_time_env.py:376: UserWarning: Time-step timed out. Elapsed since last time-step: 0.13832610002054935\n",
      "\u001b[2m\u001b[36m(RolloutWorker pid=15280)\u001b[0m   warnings.warn(f\"Time-step timed out. Elapsed since last time-step: {now - self.__t_end}\")\n"
     ]
    },
    {
     "name": "stdout",
     "output_type": "stream",
     "text": [
      "Loop:  248\n",
      "Loop:  249\n",
      "\u001b[2m\u001b[36m(RolloutWorker pid=15280)\u001b[0m reset triggered\n",
      "\u001b[2m\u001b[36m(RolloutWorker pid=15280)\u001b[0m reload save for track : 4\n"
     ]
    },
    {
     "name": "stderr",
     "output_type": "stream",
     "text": [
      "\u001b[2m\u001b[36m(RolloutWorker pid=15280)\u001b[0m c:\\Users\\nadir\\anaconda3\\envs\\GTAI2\\lib\\site-packages\\rtgym\\envs\\real_time_env.py:376: UserWarning: Time-step timed out. Elapsed since last time-step: 0.1491137000202798\n",
      "\u001b[2m\u001b[36m(RolloutWorker pid=15280)\u001b[0m   warnings.warn(f\"Time-step timed out. Elapsed since last time-step: {now - self.__t_end}\")\n"
     ]
    },
    {
     "name": "stdout",
     "output_type": "stream",
     "text": [
      "Loop:  250\n",
      "Saved 250\n",
      "\u001b[2m\u001b[36m(RolloutWorker pid=15280)\u001b[0m reset triggered\n",
      "\u001b[2m\u001b[36m(RolloutWorker pid=15280)\u001b[0m reload save for track : 4\n"
     ]
    },
    {
     "name": "stderr",
     "output_type": "stream",
     "text": [
      "\u001b[2m\u001b[36m(RolloutWorker pid=15280)\u001b[0m c:\\Users\\nadir\\anaconda3\\envs\\GTAI2\\lib\\site-packages\\rtgym\\envs\\real_time_env.py:376: UserWarning: Time-step timed out. Elapsed since last time-step: 0.1332954000204154\n",
      "\u001b[2m\u001b[36m(RolloutWorker pid=15280)\u001b[0m   warnings.warn(f\"Time-step timed out. Elapsed since last time-step: {now - self.__t_end}\")\n"
     ]
    },
    {
     "name": "stdout",
     "output_type": "stream",
     "text": [
      "Loop:  251\n",
      "\u001b[2m\u001b[36m(RolloutWorker pid=15280)\u001b[0m reset triggered\n",
      "\u001b[2m\u001b[36m(RolloutWorker pid=15280)\u001b[0m reload save for track : 4\n"
     ]
    },
    {
     "name": "stderr",
     "output_type": "stream",
     "text": [
      "\u001b[2m\u001b[36m(RolloutWorker pid=15280)\u001b[0m c:\\Users\\nadir\\anaconda3\\envs\\GTAI2\\lib\\site-packages\\rtgym\\envs\\real_time_env.py:376: UserWarning: Time-step timed out. Elapsed since last time-step: 0.1575413000205117\n",
      "\u001b[2m\u001b[36m(RolloutWorker pid=15280)\u001b[0m   warnings.warn(f\"Time-step timed out. Elapsed since last time-step: {now - self.__t_end}\")\n"
     ]
    },
    {
     "name": "stdout",
     "output_type": "stream",
     "text": [
      "Loop:  252\n",
      "Loop:  253\n",
      "\u001b[2m\u001b[36m(RolloutWorker pid=15280)\u001b[0m reset triggered\n",
      "\u001b[2m\u001b[36m(RolloutWorker pid=15280)\u001b[0m reload save for track : 4\n"
     ]
    },
    {
     "name": "stderr",
     "output_type": "stream",
     "text": [
      "\u001b[2m\u001b[36m(RolloutWorker pid=15280)\u001b[0m c:\\Users\\nadir\\anaconda3\\envs\\GTAI2\\lib\\site-packages\\rtgym\\envs\\real_time_env.py:376: UserWarning: Time-step timed out. Elapsed since last time-step: 0.12867010002037205\n",
      "\u001b[2m\u001b[36m(RolloutWorker pid=15280)\u001b[0m   warnings.warn(f\"Time-step timed out. Elapsed since last time-step: {now - self.__t_end}\")\n"
     ]
    },
    {
     "name": "stdout",
     "output_type": "stream",
     "text": [
      "Loop:  254\n",
      "\u001b[2m\u001b[36m(RolloutWorker pid=15280)\u001b[0m reset triggered\n",
      "\u001b[2m\u001b[36m(RolloutWorker pid=15280)\u001b[0m reload save for track : 4\n"
     ]
    },
    {
     "name": "stderr",
     "output_type": "stream",
     "text": [
      "\u001b[2m\u001b[36m(RolloutWorker pid=15280)\u001b[0m c:\\Users\\nadir\\anaconda3\\envs\\GTAI2\\lib\\site-packages\\rtgym\\envs\\real_time_env.py:376: UserWarning: Time-step timed out. Elapsed since last time-step: 0.16335520002030535\n",
      "\u001b[2m\u001b[36m(RolloutWorker pid=15280)\u001b[0m   warnings.warn(f\"Time-step timed out. Elapsed since last time-step: {now - self.__t_end}\")\n"
     ]
    },
    {
     "name": "stdout",
     "output_type": "stream",
     "text": [
      "Loop:  255\n",
      "Loop:  256\n",
      "\u001b[2m\u001b[36m(RolloutWorker pid=15280)\u001b[0m reset triggered\n",
      "\u001b[2m\u001b[36m(RolloutWorker pid=15280)\u001b[0m reload save for track : 4\n"
     ]
    },
    {
     "name": "stderr",
     "output_type": "stream",
     "text": [
      "\u001b[2m\u001b[36m(RolloutWorker pid=15280)\u001b[0m c:\\Users\\nadir\\anaconda3\\envs\\GTAI2\\lib\\site-packages\\rtgym\\envs\\real_time_env.py:376: UserWarning: Time-step timed out. Elapsed since last time-step: 0.15724149996185588\n",
      "\u001b[2m\u001b[36m(RolloutWorker pid=15280)\u001b[0m   warnings.warn(f\"Time-step timed out. Elapsed since last time-step: {now - self.__t_end}\")\n"
     ]
    },
    {
     "name": "stdout",
     "output_type": "stream",
     "text": [
      "Loop:  257\n",
      "\u001b[2m\u001b[36m(RolloutWorker pid=15280)\u001b[0m reset triggered\n",
      "\u001b[2m\u001b[36m(RolloutWorker pid=15280)\u001b[0m reload save for track : 4\n"
     ]
    },
    {
     "name": "stderr",
     "output_type": "stream",
     "text": [
      "\u001b[2m\u001b[36m(RolloutWorker pid=15280)\u001b[0m c:\\Users\\nadir\\anaconda3\\envs\\GTAI2\\lib\\site-packages\\rtgym\\envs\\real_time_env.py:376: UserWarning: Time-step timed out. Elapsed since last time-step: 0.1709001999179236\n",
      "\u001b[2m\u001b[36m(RolloutWorker pid=15280)\u001b[0m   warnings.warn(f\"Time-step timed out. Elapsed since last time-step: {now - self.__t_end}\")\n"
     ]
    },
    {
     "name": "stdout",
     "output_type": "stream",
     "text": [
      "Loop:  258\n",
      "Loop:  259\n",
      "\u001b[2m\u001b[36m(RolloutWorker pid=15280)\u001b[0m reset triggered\n",
      "\u001b[2m\u001b[36m(RolloutWorker pid=15280)\u001b[0m reload save for track : 4\n"
     ]
    },
    {
     "name": "stderr",
     "output_type": "stream",
     "text": [
      "\u001b[2m\u001b[36m(RolloutWorker pid=15280)\u001b[0m c:\\Users\\nadir\\anaconda3\\envs\\GTAI2\\lib\\site-packages\\rtgym\\envs\\real_time_env.py:376: UserWarning: Time-step timed out. Elapsed since last time-step: 0.1298403999189759\n",
      "\u001b[2m\u001b[36m(RolloutWorker pid=15280)\u001b[0m   warnings.warn(f\"Time-step timed out. Elapsed since last time-step: {now - self.__t_end}\")\n"
     ]
    },
    {
     "name": "stdout",
     "output_type": "stream",
     "text": [
      "Loop:  260\n",
      "Saved 260\n",
      "\u001b[2m\u001b[36m(RolloutWorker pid=15280)\u001b[0m reset triggered\n",
      "\u001b[2m\u001b[36m(RolloutWorker pid=15280)\u001b[0m reload save for track : 4\n"
     ]
    },
    {
     "name": "stderr",
     "output_type": "stream",
     "text": [
      "\u001b[2m\u001b[36m(RolloutWorker pid=15280)\u001b[0m c:\\Users\\nadir\\anaconda3\\envs\\GTAI2\\lib\\site-packages\\rtgym\\envs\\real_time_env.py:376: UserWarning: Time-step timed out. Elapsed since last time-step: 0.12291839991848974\n",
      "\u001b[2m\u001b[36m(RolloutWorker pid=15280)\u001b[0m   warnings.warn(f\"Time-step timed out. Elapsed since last time-step: {now - self.__t_end}\")\n"
     ]
    },
    {
     "name": "stdout",
     "output_type": "stream",
     "text": [
      "Loop:  261\n"
     ]
    },
    {
     "name": "stderr",
     "output_type": "stream",
     "text": [
      "\u001b[2m\u001b[36m(RolloutWorker pid=15280)\u001b[0m c:\\Users\\nadir\\anaconda3\\envs\\GTAI2\\lib\\site-packages\\rtgym\\envs\\real_time_env.py:376: UserWarning: Time-step timed out. Elapsed since last time-step: 0.14743489994816628\n",
      "\u001b[2m\u001b[36m(RolloutWorker pid=15280)\u001b[0m   warnings.warn(f\"Time-step timed out. Elapsed since last time-step: {now - self.__t_end}\")\n"
     ]
    },
    {
     "name": "stdout",
     "output_type": "stream",
     "text": [
      "Loop:  262\n",
      "\u001b[2m\u001b[36m(RolloutWorker pid=15280)\u001b[0m reset triggered\n",
      "\u001b[2m\u001b[36m(RolloutWorker pid=15280)\u001b[0m reload save for track : 4\n"
     ]
    },
    {
     "name": "stderr",
     "output_type": "stream",
     "text": [
      "\u001b[2m\u001b[36m(RolloutWorker pid=15280)\u001b[0m c:\\Users\\nadir\\anaconda3\\envs\\GTAI2\\lib\\site-packages\\rtgym\\envs\\real_time_env.py:376: UserWarning: Time-step timed out. Elapsed since last time-step: 0.12264129997038253\n",
      "\u001b[2m\u001b[36m(RolloutWorker pid=15280)\u001b[0m   warnings.warn(f\"Time-step timed out. Elapsed since last time-step: {now - self.__t_end}\")\n"
     ]
    },
    {
     "name": "stdout",
     "output_type": "stream",
     "text": [
      "Loop:  263\n",
      "\u001b[2m\u001b[36m(RolloutWorker pid=15280)\u001b[0m reset triggered\n",
      "\u001b[2m\u001b[36m(RolloutWorker pid=15280)\u001b[0m reload save for track : 4\n"
     ]
    },
    {
     "name": "stderr",
     "output_type": "stream",
     "text": [
      "\u001b[2m\u001b[36m(RolloutWorker pid=15280)\u001b[0m c:\\Users\\nadir\\anaconda3\\envs\\GTAI2\\lib\\site-packages\\rtgym\\envs\\real_time_env.py:376: UserWarning: Time-step timed out. Elapsed since last time-step: 0.14865519991872134\n",
      "\u001b[2m\u001b[36m(RolloutWorker pid=15280)\u001b[0m   warnings.warn(f\"Time-step timed out. Elapsed since last time-step: {now - self.__t_end}\")\n"
     ]
    },
    {
     "name": "stdout",
     "output_type": "stream",
     "text": [
      "Loop:  264\n",
      "\u001b[2m\u001b[36m(RolloutWorker pid=15280)\u001b[0m reset triggered\n",
      "\u001b[2m\u001b[36m(RolloutWorker pid=15280)\u001b[0m reload save for track : 4\n"
     ]
    },
    {
     "name": "stderr",
     "output_type": "stream",
     "text": [
      "\u001b[2m\u001b[36m(RolloutWorker pid=15280)\u001b[0m c:\\Users\\nadir\\anaconda3\\envs\\GTAI2\\lib\\site-packages\\rtgym\\envs\\real_time_env.py:376: UserWarning: Time-step timed out. Elapsed since last time-step: 0.14356939991830586\n",
      "\u001b[2m\u001b[36m(RolloutWorker pid=15280)\u001b[0m   warnings.warn(f\"Time-step timed out. Elapsed since last time-step: {now - self.__t_end}\")\n"
     ]
    },
    {
     "name": "stdout",
     "output_type": "stream",
     "text": [
      "Loop:  265\n",
      "Loop:  266\n",
      "\u001b[2m\u001b[36m(RolloutWorker pid=15280)\u001b[0m reset triggered\n",
      "\u001b[2m\u001b[36m(RolloutWorker pid=15280)\u001b[0m reload save for track : 4\n"
     ]
    },
    {
     "name": "stderr",
     "output_type": "stream",
     "text": [
      "\u001b[2m\u001b[36m(RolloutWorker pid=15280)\u001b[0m c:\\Users\\nadir\\anaconda3\\envs\\GTAI2\\lib\\site-packages\\rtgym\\envs\\real_time_env.py:376: UserWarning: Time-step timed out. Elapsed since last time-step: 0.14714739991813985\n",
      "\u001b[2m\u001b[36m(RolloutWorker pid=15280)\u001b[0m   warnings.warn(f\"Time-step timed out. Elapsed since last time-step: {now - self.__t_end}\")\n"
     ]
    },
    {
     "name": "stdout",
     "output_type": "stream",
     "text": [
      "Loop:  267\n",
      "\u001b[2m\u001b[36m(RolloutWorker pid=15280)\u001b[0m reset triggered\n",
      "\u001b[2m\u001b[36m(RolloutWorker pid=15280)\u001b[0m reload save for track : 4\n"
     ]
    },
    {
     "name": "stderr",
     "output_type": "stream",
     "text": [
      "\u001b[2m\u001b[36m(RolloutWorker pid=15280)\u001b[0m c:\\Users\\nadir\\anaconda3\\envs\\GTAI2\\lib\\site-packages\\rtgym\\envs\\real_time_env.py:376: UserWarning: Time-step timed out. Elapsed since last time-step: 0.1477330999186961\n",
      "\u001b[2m\u001b[36m(RolloutWorker pid=15280)\u001b[0m   warnings.warn(f\"Time-step timed out. Elapsed since last time-step: {now - self.__t_end}\")\n"
     ]
    },
    {
     "name": "stdout",
     "output_type": "stream",
     "text": [
      "Loop:  268\n",
      "Loop:  269\n",
      "\u001b[2m\u001b[36m(RolloutWorker pid=15280)\u001b[0m reset triggered\n",
      "\u001b[2m\u001b[36m(RolloutWorker pid=15280)\u001b[0m reload save for track : 4\n"
     ]
    },
    {
     "name": "stderr",
     "output_type": "stream",
     "text": [
      "\u001b[2m\u001b[36m(RolloutWorker pid=15280)\u001b[0m c:\\Users\\nadir\\anaconda3\\envs\\GTAI2\\lib\\site-packages\\rtgym\\envs\\real_time_env.py:376: UserWarning: Time-step timed out. Elapsed since last time-step: 0.17040279991852003\n",
      "\u001b[2m\u001b[36m(RolloutWorker pid=15280)\u001b[0m   warnings.warn(f\"Time-step timed out. Elapsed since last time-step: {now - self.__t_end}\")\n"
     ]
    },
    {
     "name": "stdout",
     "output_type": "stream",
     "text": [
      "Loop:  270\n",
      "Saved 270\n",
      "\u001b[2m\u001b[36m(RolloutWorker pid=15280)\u001b[0m reset triggered\n",
      "\u001b[2m\u001b[36m(RolloutWorker pid=15280)\u001b[0m reload save for track : 4\n"
     ]
    },
    {
     "name": "stderr",
     "output_type": "stream",
     "text": [
      "\u001b[2m\u001b[36m(RolloutWorker pid=15280)\u001b[0m c:\\Users\\nadir\\anaconda3\\envs\\GTAI2\\lib\\site-packages\\rtgym\\envs\\real_time_env.py:376: UserWarning: Time-step timed out. Elapsed since last time-step: 0.16317409991825116\n",
      "\u001b[2m\u001b[36m(RolloutWorker pid=15280)\u001b[0m   warnings.warn(f\"Time-step timed out. Elapsed since last time-step: {now - self.__t_end}\")\n"
     ]
    },
    {
     "name": "stdout",
     "output_type": "stream",
     "text": [
      "Loop:  271\n",
      "Loop:  272\n",
      "\u001b[2m\u001b[36m(RolloutWorker pid=15280)\u001b[0m reset triggered\n",
      "\u001b[2m\u001b[36m(RolloutWorker pid=15280)\u001b[0m reload save for track : 4\n"
     ]
    },
    {
     "name": "stderr",
     "output_type": "stream",
     "text": [
      "\u001b[2m\u001b[36m(RolloutWorker pid=15280)\u001b[0m c:\\Users\\nadir\\anaconda3\\envs\\GTAI2\\lib\\site-packages\\rtgym\\envs\\real_time_env.py:376: UserWarning: Time-step timed out. Elapsed since last time-step: 0.1373326999191704\n",
      "\u001b[2m\u001b[36m(RolloutWorker pid=15280)\u001b[0m   warnings.warn(f\"Time-step timed out. Elapsed since last time-step: {now - self.__t_end}\")\n"
     ]
    },
    {
     "name": "stdout",
     "output_type": "stream",
     "text": [
      "Loop:  273\n",
      "\u001b[2m\u001b[36m(RolloutWorker pid=15280)\u001b[0m reset triggered\n",
      "\u001b[2m\u001b[36m(RolloutWorker pid=15280)\u001b[0m reload save for track : 4\n"
     ]
    },
    {
     "name": "stderr",
     "output_type": "stream",
     "text": [
      "\u001b[2m\u001b[36m(RolloutWorker pid=15280)\u001b[0m c:\\Users\\nadir\\anaconda3\\envs\\GTAI2\\lib\\site-packages\\rtgym\\envs\\real_time_env.py:376: UserWarning: Time-step timed out. Elapsed since last time-step: 0.16969369991784333\n",
      "\u001b[2m\u001b[36m(RolloutWorker pid=15280)\u001b[0m   warnings.warn(f\"Time-step timed out. Elapsed since last time-step: {now - self.__t_end}\")\n"
     ]
    },
    {
     "name": "stdout",
     "output_type": "stream",
     "text": [
      "Loop:  274\n",
      "Loop:  275\n",
      "\u001b[2m\u001b[36m(RolloutWorker pid=15280)\u001b[0m reset triggered\n",
      "\u001b[2m\u001b[36m(RolloutWorker pid=15280)\u001b[0m reload save for track : 4\n"
     ]
    },
    {
     "name": "stderr",
     "output_type": "stream",
     "text": [
      "\u001b[2m\u001b[36m(RolloutWorker pid=15280)\u001b[0m c:\\Users\\nadir\\anaconda3\\envs\\GTAI2\\lib\\site-packages\\rtgym\\envs\\real_time_env.py:376: UserWarning: Time-step timed out. Elapsed since last time-step: 0.12255659991842549\n",
      "\u001b[2m\u001b[36m(RolloutWorker pid=15280)\u001b[0m   warnings.warn(f\"Time-step timed out. Elapsed since last time-step: {now - self.__t_end}\")\n"
     ]
    },
    {
     "name": "stdout",
     "output_type": "stream",
     "text": [
      "Loop:  276\n",
      "\u001b[2m\u001b[36m(RolloutWorker pid=15280)\u001b[0m reset triggered\n",
      "\u001b[2m\u001b[36m(RolloutWorker pid=15280)\u001b[0m reload save for track : 4\n"
     ]
    },
    {
     "name": "stderr",
     "output_type": "stream",
     "text": [
      "\u001b[2m\u001b[36m(RolloutWorker pid=15280)\u001b[0m c:\\Users\\nadir\\anaconda3\\envs\\GTAI2\\lib\\site-packages\\rtgym\\envs\\real_time_env.py:376: UserWarning: Time-step timed out. Elapsed since last time-step: 0.16851509991920466\n",
      "\u001b[2m\u001b[36m(RolloutWorker pid=15280)\u001b[0m   warnings.warn(f\"Time-step timed out. Elapsed since last time-step: {now - self.__t_end}\")\n"
     ]
    },
    {
     "name": "stdout",
     "output_type": "stream",
     "text": [
      "Loop:  277\n",
      "\u001b[2m\u001b[36m(RolloutWorker pid=15280)\u001b[0m reset triggered\n",
      "\u001b[2m\u001b[36m(RolloutWorker pid=15280)\u001b[0m reload save for track : 4\n"
     ]
    },
    {
     "name": "stderr",
     "output_type": "stream",
     "text": [
      "\u001b[2m\u001b[36m(RolloutWorker pid=15280)\u001b[0m c:\\Users\\nadir\\anaconda3\\envs\\GTAI2\\lib\\site-packages\\rtgym\\envs\\real_time_env.py:376: UserWarning: Time-step timed out. Elapsed since last time-step: 0.12124969991782564\n",
      "\u001b[2m\u001b[36m(RolloutWorker pid=15280)\u001b[0m   warnings.warn(f\"Time-step timed out. Elapsed since last time-step: {now - self.__t_end}\")\n"
     ]
    },
    {
     "name": "stdout",
     "output_type": "stream",
     "text": [
      "Loop:  278\n",
      "Loop:  279\n",
      "\u001b[2m\u001b[36m(RolloutWorker pid=15280)\u001b[0m reset triggered\n",
      "\u001b[2m\u001b[36m(RolloutWorker pid=15280)\u001b[0m reload save for track : 4\n"
     ]
    },
    {
     "name": "stderr",
     "output_type": "stream",
     "text": [
      "\u001b[2m\u001b[36m(RolloutWorker pid=15280)\u001b[0m c:\\Users\\nadir\\anaconda3\\envs\\GTAI2\\lib\\site-packages\\rtgym\\envs\\real_time_env.py:376: UserWarning: Time-step timed out. Elapsed since last time-step: 0.15733229991928965\n",
      "\u001b[2m\u001b[36m(RolloutWorker pid=15280)\u001b[0m   warnings.warn(f\"Time-step timed out. Elapsed since last time-step: {now - self.__t_end}\")\n"
     ]
    },
    {
     "name": "stdout",
     "output_type": "stream",
     "text": [
      "Loop:  280\n",
      "Saved 280\n",
      "\u001b[2m\u001b[36m(RolloutWorker pid=15280)\u001b[0m reset triggered\n",
      "\u001b[2m\u001b[36m(RolloutWorker pid=15280)\u001b[0m reload save for track : 4\n"
     ]
    },
    {
     "name": "stderr",
     "output_type": "stream",
     "text": [
      "\u001b[2m\u001b[36m(RolloutWorker pid=15280)\u001b[0m c:\\Users\\nadir\\anaconda3\\envs\\GTAI2\\lib\\site-packages\\rtgym\\envs\\real_time_env.py:376: UserWarning: Time-step timed out. Elapsed since last time-step: 0.16989399991780374\n",
      "\u001b[2m\u001b[36m(RolloutWorker pid=15280)\u001b[0m   warnings.warn(f\"Time-step timed out. Elapsed since last time-step: {now - self.__t_end}\")\n"
     ]
    },
    {
     "name": "stdout",
     "output_type": "stream",
     "text": [
      "Loop:  281\n",
      "Loop:  282\n",
      "\u001b[2m\u001b[36m(RolloutWorker pid=15280)\u001b[0m reset triggered\n",
      "\u001b[2m\u001b[36m(RolloutWorker pid=15280)\u001b[0m reload save for track : 4\n"
     ]
    },
    {
     "name": "stderr",
     "output_type": "stream",
     "text": [
      "\u001b[2m\u001b[36m(RolloutWorker pid=15280)\u001b[0m c:\\Users\\nadir\\anaconda3\\envs\\GTAI2\\lib\\site-packages\\rtgym\\envs\\real_time_env.py:376: UserWarning: Time-step timed out. Elapsed since last time-step: 0.13381239991849725\n",
      "\u001b[2m\u001b[36m(RolloutWorker pid=15280)\u001b[0m   warnings.warn(f\"Time-step timed out. Elapsed since last time-step: {now - self.__t_end}\")\n"
     ]
    },
    {
     "name": "stdout",
     "output_type": "stream",
     "text": [
      "Loop:  283\n",
      "\u001b[2m\u001b[36m(RolloutWorker pid=15280)\u001b[0m reset triggered\n",
      "\u001b[2m\u001b[36m(RolloutWorker pid=15280)\u001b[0m reload save for track : 4\n"
     ]
    },
    {
     "name": "stderr",
     "output_type": "stream",
     "text": [
      "\u001b[2m\u001b[36m(RolloutWorker pid=15280)\u001b[0m c:\\Users\\nadir\\anaconda3\\envs\\GTAI2\\lib\\site-packages\\rtgym\\envs\\real_time_env.py:376: UserWarning: Time-step timed out. Elapsed since last time-step: 0.14633509991926985\n",
      "\u001b[2m\u001b[36m(RolloutWorker pid=15280)\u001b[0m   warnings.warn(f\"Time-step timed out. Elapsed since last time-step: {now - self.__t_end}\")\n"
     ]
    },
    {
     "name": "stdout",
     "output_type": "stream",
     "text": [
      "Loop:  284\n",
      "Loop:  285\n",
      "\u001b[2m\u001b[36m(RolloutWorker pid=15280)\u001b[0m reset triggered\n",
      "\u001b[2m\u001b[36m(RolloutWorker pid=15280)\u001b[0m reload save for track : 4\n"
     ]
    },
    {
     "name": "stderr",
     "output_type": "stream",
     "text": [
      "\u001b[2m\u001b[36m(RolloutWorker pid=15280)\u001b[0m c:\\Users\\nadir\\anaconda3\\envs\\GTAI2\\lib\\site-packages\\rtgym\\envs\\real_time_env.py:376: UserWarning: Time-step timed out. Elapsed since last time-step: 0.12343259991848754\n",
      "\u001b[2m\u001b[36m(RolloutWorker pid=15280)\u001b[0m   warnings.warn(f\"Time-step timed out. Elapsed since last time-step: {now - self.__t_end}\")\n"
     ]
    },
    {
     "name": "stdout",
     "output_type": "stream",
     "text": [
      "Loop:  286\n",
      "\u001b[2m\u001b[36m(RolloutWorker pid=15280)\u001b[0m reset triggered\n",
      "\u001b[2m\u001b[36m(RolloutWorker pid=15280)\u001b[0m reload save for track : 4\n"
     ]
    },
    {
     "name": "stderr",
     "output_type": "stream",
     "text": [
      "\u001b[2m\u001b[36m(RolloutWorker pid=15280)\u001b[0m c:\\Users\\nadir\\anaconda3\\envs\\GTAI2\\lib\\site-packages\\rtgym\\envs\\real_time_env.py:376: UserWarning: Time-step timed out. Elapsed since last time-step: 0.15679499991802004\n",
      "\u001b[2m\u001b[36m(RolloutWorker pid=15280)\u001b[0m   warnings.warn(f\"Time-step timed out. Elapsed since last time-step: {now - self.__t_end}\")\n"
     ]
    },
    {
     "name": "stdout",
     "output_type": "stream",
     "text": [
      "Loop:  287\n",
      "Loop:  288\n",
      "\u001b[2m\u001b[36m(RolloutWorker pid=15280)\u001b[0m reset triggered\n",
      "\u001b[2m\u001b[36m(RolloutWorker pid=15280)\u001b[0m reload save for track : 4\n"
     ]
    },
    {
     "name": "stderr",
     "output_type": "stream",
     "text": [
      "\u001b[2m\u001b[36m(RolloutWorker pid=15280)\u001b[0m c:\\Users\\nadir\\anaconda3\\envs\\GTAI2\\lib\\site-packages\\rtgym\\envs\\real_time_env.py:376: UserWarning: Time-step timed out. Elapsed since last time-step: 0.1702572999183758\n",
      "\u001b[2m\u001b[36m(RolloutWorker pid=15280)\u001b[0m   warnings.warn(f\"Time-step timed out. Elapsed since last time-step: {now - self.__t_end}\")\n"
     ]
    },
    {
     "name": "stdout",
     "output_type": "stream",
     "text": [
      "Loop:  289\n",
      "\u001b[2m\u001b[36m(RolloutWorker pid=15280)\u001b[0m reset triggered\n",
      "\u001b[2m\u001b[36m(RolloutWorker pid=15280)\u001b[0m reload save for track : 4\n"
     ]
    },
    {
     "name": "stderr",
     "output_type": "stream",
     "text": [
      "\u001b[2m\u001b[36m(RolloutWorker pid=15280)\u001b[0m c:\\Users\\nadir\\anaconda3\\envs\\GTAI2\\lib\\site-packages\\rtgym\\envs\\real_time_env.py:376: UserWarning: Time-step timed out. Elapsed since last time-step: 0.17054339991864254\n",
      "\u001b[2m\u001b[36m(RolloutWorker pid=15280)\u001b[0m   warnings.warn(f\"Time-step timed out. Elapsed since last time-step: {now - self.__t_end}\")\n"
     ]
    },
    {
     "name": "stdout",
     "output_type": "stream",
     "text": [
      "Loop:  290\n",
      "Saved 290\n",
      "\u001b[2m\u001b[36m(RolloutWorker pid=15280)\u001b[0m reset triggered\n",
      "\u001b[2m\u001b[36m(RolloutWorker pid=15280)\u001b[0m reload save for track : 4\n"
     ]
    },
    {
     "name": "stderr",
     "output_type": "stream",
     "text": [
      "\u001b[2m\u001b[36m(RolloutWorker pid=15280)\u001b[0m c:\\Users\\nadir\\anaconda3\\envs\\GTAI2\\lib\\site-packages\\rtgym\\envs\\real_time_env.py:376: UserWarning: Time-step timed out. Elapsed since last time-step: 0.12187139991874574\n",
      "\u001b[2m\u001b[36m(RolloutWorker pid=15280)\u001b[0m   warnings.warn(f\"Time-step timed out. Elapsed since last time-step: {now - self.__t_end}\")\n"
     ]
    },
    {
     "name": "stdout",
     "output_type": "stream",
     "text": [
      "Loop:  291\n",
      "Loop:  292\n",
      "\u001b[2m\u001b[36m(RolloutWorker pid=15280)\u001b[0m reset triggered\n",
      "\u001b[2m\u001b[36m(RolloutWorker pid=15280)\u001b[0m reload save for track : 4\n"
     ]
    },
    {
     "name": "stderr",
     "output_type": "stream",
     "text": [
      "\u001b[2m\u001b[36m(RolloutWorker pid=15280)\u001b[0m c:\\Users\\nadir\\anaconda3\\envs\\GTAI2\\lib\\site-packages\\rtgym\\envs\\real_time_env.py:376: UserWarning: Time-step timed out. Elapsed since last time-step: 0.15747809991808026\n",
      "\u001b[2m\u001b[36m(RolloutWorker pid=15280)\u001b[0m   warnings.warn(f\"Time-step timed out. Elapsed since last time-step: {now - self.__t_end}\")\n"
     ]
    },
    {
     "name": "stdout",
     "output_type": "stream",
     "text": [
      "Loop:  293\n",
      "\u001b[2m\u001b[36m(RolloutWorker pid=15280)\u001b[0m reset triggered\n",
      "\u001b[2m\u001b[36m(RolloutWorker pid=15280)\u001b[0m reload save for track : 4\n"
     ]
    },
    {
     "name": "stderr",
     "output_type": "stream",
     "text": [
      "\u001b[2m\u001b[36m(RolloutWorker pid=15280)\u001b[0m c:\\Users\\nadir\\anaconda3\\envs\\GTAI2\\lib\\site-packages\\rtgym\\envs\\real_time_env.py:376: UserWarning: Time-step timed out. Elapsed since last time-step: 0.1327202999191286\n",
      "\u001b[2m\u001b[36m(RolloutWorker pid=15280)\u001b[0m   warnings.warn(f\"Time-step timed out. Elapsed since last time-step: {now - self.__t_end}\")\n"
     ]
    },
    {
     "name": "stdout",
     "output_type": "stream",
     "text": [
      "Loop:  294\n",
      "Loop:  295\n",
      "\u001b[2m\u001b[36m(RolloutWorker pid=15280)\u001b[0m reset triggered\n",
      "\u001b[2m\u001b[36m(RolloutWorker pid=15280)\u001b[0m reload save for track : 4\n"
     ]
    },
    {
     "name": "stderr",
     "output_type": "stream",
     "text": [
      "\u001b[2m\u001b[36m(RolloutWorker pid=15280)\u001b[0m c:\\Users\\nadir\\anaconda3\\envs\\GTAI2\\lib\\site-packages\\rtgym\\envs\\real_time_env.py:376: UserWarning: Time-step timed out. Elapsed since last time-step: 0.1473194999180123\n",
      "\u001b[2m\u001b[36m(RolloutWorker pid=15280)\u001b[0m   warnings.warn(f\"Time-step timed out. Elapsed since last time-step: {now - self.__t_end}\")\n"
     ]
    },
    {
     "name": "stdout",
     "output_type": "stream",
     "text": [
      "Loop:  296\n",
      "\u001b[2m\u001b[36m(RolloutWorker pid=15280)\u001b[0m reset triggered\n",
      "\u001b[2m\u001b[36m(RolloutWorker pid=15280)\u001b[0m reload save for track : 4\n"
     ]
    },
    {
     "name": "stderr",
     "output_type": "stream",
     "text": [
      "\u001b[2m\u001b[36m(RolloutWorker pid=15280)\u001b[0m c:\\Users\\nadir\\anaconda3\\envs\\GTAI2\\lib\\site-packages\\rtgym\\envs\\real_time_env.py:376: UserWarning: Time-step timed out. Elapsed since last time-step: 0.12349869991885498\n",
      "\u001b[2m\u001b[36m(RolloutWorker pid=15280)\u001b[0m   warnings.warn(f\"Time-step timed out. Elapsed since last time-step: {now - self.__t_end}\")\n"
     ]
    },
    {
     "name": "stdout",
     "output_type": "stream",
     "text": [
      "Loop:  297\n",
      "Loop:  298\n",
      "\u001b[2m\u001b[36m(RolloutWorker pid=15280)\u001b[0m reset triggered\n",
      "\u001b[2m\u001b[36m(RolloutWorker pid=15280)\u001b[0m reload save for track : 4\n"
     ]
    },
    {
     "name": "stderr",
     "output_type": "stream",
     "text": [
      "\u001b[2m\u001b[36m(RolloutWorker pid=15280)\u001b[0m c:\\Users\\nadir\\anaconda3\\envs\\GTAI2\\lib\\site-packages\\rtgym\\envs\\real_time_env.py:376: UserWarning: Time-step timed out. Elapsed since last time-step: 0.13737849991866824\n",
      "\u001b[2m\u001b[36m(RolloutWorker pid=15280)\u001b[0m   warnings.warn(f\"Time-step timed out. Elapsed since last time-step: {now - self.__t_end}\")\n"
     ]
    },
    {
     "name": "stdout",
     "output_type": "stream",
     "text": [
      "Loop:  299\n",
      "\u001b[2m\u001b[36m(RolloutWorker pid=15280)\u001b[0m reset triggered\n",
      "\u001b[2m\u001b[36m(RolloutWorker pid=15280)\u001b[0m reload save for track : 4\n"
     ]
    },
    {
     "name": "stderr",
     "output_type": "stream",
     "text": [
      "\u001b[2m\u001b[36m(RolloutWorker pid=15280)\u001b[0m c:\\Users\\nadir\\anaconda3\\envs\\GTAI2\\lib\\site-packages\\rtgym\\envs\\real_time_env.py:376: UserWarning: Time-step timed out. Elapsed since last time-step: 0.16226709991860844\n",
      "\u001b[2m\u001b[36m(RolloutWorker pid=15280)\u001b[0m   warnings.warn(f\"Time-step timed out. Elapsed since last time-step: {now - self.__t_end}\")\n",
      "\u001b[2m\u001b[36m(RolloutWorker pid=15280)\u001b[0m c:\\Users\\nadir\\anaconda3\\envs\\GTAI2\\lib\\site-packages\\rtgym\\envs\\real_time_env.py:376: UserWarning: Time-step timed out. Elapsed since last time-step: 0.13645459997951548\n",
      "\u001b[2m\u001b[36m(RolloutWorker pid=15280)\u001b[0m   warnings.warn(f\"Time-step timed out. Elapsed since last time-step: {now - self.__t_end}\")\n"
     ]
    },
    {
     "name": "stdout",
     "output_type": "stream",
     "text": [
      "Loop:  300\n",
      "Saved 300\n",
      "Loop:  301\n",
      "\u001b[2m\u001b[36m(RolloutWorker pid=15280)\u001b[0m reset triggered\n",
      "\u001b[2m\u001b[36m(RolloutWorker pid=15280)\u001b[0m reload save for track : 4\n"
     ]
    },
    {
     "name": "stderr",
     "output_type": "stream",
     "text": [
      "\u001b[2m\u001b[36m(RolloutWorker pid=15280)\u001b[0m c:\\Users\\nadir\\anaconda3\\envs\\GTAI2\\lib\\site-packages\\rtgym\\envs\\real_time_env.py:376: UserWarning: Time-step timed out. Elapsed since last time-step: 0.14381549993868248\n",
      "\u001b[2m\u001b[36m(RolloutWorker pid=15280)\u001b[0m   warnings.warn(f\"Time-step timed out. Elapsed since last time-step: {now - self.__t_end}\")\n"
     ]
    },
    {
     "name": "stdout",
     "output_type": "stream",
     "text": [
      "Loop:  302\n",
      "\u001b[2m\u001b[36m(RolloutWorker pid=15280)\u001b[0m reset triggered\n",
      "\u001b[2m\u001b[36m(RolloutWorker pid=15280)\u001b[0m reload save for track : 4\n"
     ]
    },
    {
     "name": "stderr",
     "output_type": "stream",
     "text": [
      "\u001b[2m\u001b[36m(RolloutWorker pid=15280)\u001b[0m c:\\Users\\nadir\\anaconda3\\envs\\GTAI2\\lib\\site-packages\\rtgym\\envs\\real_time_env.py:376: UserWarning: Time-step timed out. Elapsed since last time-step: 0.13940599991838099\n",
      "\u001b[2m\u001b[36m(RolloutWorker pid=15280)\u001b[0m   warnings.warn(f\"Time-step timed out. Elapsed since last time-step: {now - self.__t_end}\")\n"
     ]
    },
    {
     "name": "stdout",
     "output_type": "stream",
     "text": [
      "Loop:  303\n",
      "\u001b[2m\u001b[36m(RolloutWorker pid=15280)\u001b[0m reset triggered\n",
      "\u001b[2m\u001b[36m(RolloutWorker pid=15280)\u001b[0m reload save for track : 4\n"
     ]
    },
    {
     "name": "stderr",
     "output_type": "stream",
     "text": [
      "\u001b[2m\u001b[36m(RolloutWorker pid=15280)\u001b[0m c:\\Users\\nadir\\anaconda3\\envs\\GTAI2\\lib\\site-packages\\rtgym\\envs\\real_time_env.py:376: UserWarning: Time-step timed out. Elapsed since last time-step: 0.1482907999188683\n",
      "\u001b[2m\u001b[36m(RolloutWorker pid=15280)\u001b[0m   warnings.warn(f\"Time-step timed out. Elapsed since last time-step: {now - self.__t_end}\")\n"
     ]
    },
    {
     "name": "stdout",
     "output_type": "stream",
     "text": [
      "Loop:  304\n",
      "Loop:  305\n",
      "\u001b[2m\u001b[36m(RolloutWorker pid=15280)\u001b[0m reset triggered\n",
      "\u001b[2m\u001b[36m(RolloutWorker pid=15280)\u001b[0m reload save for track : 4\n"
     ]
    },
    {
     "name": "stderr",
     "output_type": "stream",
     "text": [
      "\u001b[2m\u001b[36m(RolloutWorker pid=15280)\u001b[0m c:\\Users\\nadir\\anaconda3\\envs\\GTAI2\\lib\\site-packages\\rtgym\\envs\\real_time_env.py:376: UserWarning: Time-step timed out. Elapsed since last time-step: 0.16275049991781998\n",
      "\u001b[2m\u001b[36m(RolloutWorker pid=15280)\u001b[0m   warnings.warn(f\"Time-step timed out. Elapsed since last time-step: {now - self.__t_end}\")\n"
     ]
    },
    {
     "name": "stdout",
     "output_type": "stream",
     "text": [
      "Loop:  306\n",
      "\u001b[2m\u001b[36m(RolloutWorker pid=15280)\u001b[0m reset triggered\n",
      "\u001b[2m\u001b[36m(RolloutWorker pid=15280)\u001b[0m reload save for track : 4\n"
     ]
    },
    {
     "name": "stderr",
     "output_type": "stream",
     "text": [
      "\u001b[2m\u001b[36m(RolloutWorker pid=15280)\u001b[0m c:\\Users\\nadir\\anaconda3\\envs\\GTAI2\\lib\\site-packages\\rtgym\\envs\\real_time_env.py:376: UserWarning: Time-step timed out. Elapsed since last time-step: 0.1374689999192924\n",
      "\u001b[2m\u001b[36m(RolloutWorker pid=15280)\u001b[0m   warnings.warn(f\"Time-step timed out. Elapsed since last time-step: {now - self.__t_end}\")\n"
     ]
    },
    {
     "name": "stdout",
     "output_type": "stream",
     "text": [
      "Loop:  307\n",
      "Loop:  308\n",
      "\u001b[2m\u001b[36m(RolloutWorker pid=15280)\u001b[0m reset triggered\n",
      "\u001b[2m\u001b[36m(RolloutWorker pid=15280)\u001b[0m reload save for track : 4\n"
     ]
    },
    {
     "name": "stderr",
     "output_type": "stream",
     "text": [
      "\u001b[2m\u001b[36m(RolloutWorker pid=15280)\u001b[0m c:\\Users\\nadir\\anaconda3\\envs\\GTAI2\\lib\\site-packages\\rtgym\\envs\\real_time_env.py:376: UserWarning: Time-step timed out. Elapsed since last time-step: 0.15670069991847413\n",
      "\u001b[2m\u001b[36m(RolloutWorker pid=15280)\u001b[0m   warnings.warn(f\"Time-step timed out. Elapsed since last time-step: {now - self.__t_end}\")\n"
     ]
    },
    {
     "name": "stdout",
     "output_type": "stream",
     "text": [
      "Loop:  309\n",
      "\u001b[2m\u001b[36m(RolloutWorker pid=15280)\u001b[0m reset triggered\n",
      "\u001b[2m\u001b[36m(RolloutWorker pid=15280)\u001b[0m reload save for track : 4\n"
     ]
    },
    {
     "name": "stderr",
     "output_type": "stream",
     "text": [
      "\u001b[2m\u001b[36m(RolloutWorker pid=15280)\u001b[0m c:\\Users\\nadir\\anaconda3\\envs\\GTAI2\\lib\\site-packages\\rtgym\\envs\\real_time_env.py:376: UserWarning: Time-step timed out. Elapsed since last time-step: 0.1458194999177067\n",
      "\u001b[2m\u001b[36m(RolloutWorker pid=15280)\u001b[0m   warnings.warn(f\"Time-step timed out. Elapsed since last time-step: {now - self.__t_end}\")\n"
     ]
    },
    {
     "name": "stdout",
     "output_type": "stream",
     "text": [
      "Loop:  310\n",
      "Saved 310\n",
      "Loop:  311\n",
      "\u001b[2m\u001b[36m(RolloutWorker pid=15280)\u001b[0m reset triggered\n",
      "\u001b[2m\u001b[36m(RolloutWorker pid=15280)\u001b[0m reload save for track : 4\n"
     ]
    },
    {
     "name": "stderr",
     "output_type": "stream",
     "text": [
      "\u001b[2m\u001b[36m(RolloutWorker pid=15280)\u001b[0m c:\\Users\\nadir\\anaconda3\\envs\\GTAI2\\lib\\site-packages\\rtgym\\envs\\real_time_env.py:376: UserWarning: Time-step timed out. Elapsed since last time-step: 0.1571547999192262\n",
      "\u001b[2m\u001b[36m(RolloutWorker pid=15280)\u001b[0m   warnings.warn(f\"Time-step timed out. Elapsed since last time-step: {now - self.__t_end}\")\n"
     ]
    },
    {
     "name": "stdout",
     "output_type": "stream",
     "text": [
      "Loop:  312\n",
      "\u001b[2m\u001b[36m(RolloutWorker pid=15280)\u001b[0m reset triggered\n",
      "\u001b[2m\u001b[36m(RolloutWorker pid=15280)\u001b[0m reload save for track : 4\n"
     ]
    },
    {
     "name": "stderr",
     "output_type": "stream",
     "text": [
      "\u001b[2m\u001b[36m(RolloutWorker pid=15280)\u001b[0m c:\\Users\\nadir\\anaconda3\\envs\\GTAI2\\lib\\site-packages\\rtgym\\envs\\real_time_env.py:376: UserWarning: Time-step timed out. Elapsed since last time-step: 0.1426715999177759\n",
      "\u001b[2m\u001b[36m(RolloutWorker pid=15280)\u001b[0m   warnings.warn(f\"Time-step timed out. Elapsed since last time-step: {now - self.__t_end}\")\n"
     ]
    },
    {
     "name": "stdout",
     "output_type": "stream",
     "text": [
      "Loop:  313\n",
      "Loop:  314\n",
      "\u001b[2m\u001b[36m(RolloutWorker pid=15280)\u001b[0m reset triggered\n",
      "\u001b[2m\u001b[36m(RolloutWorker pid=15280)\u001b[0m reload save for track : 4\n"
     ]
    },
    {
     "name": "stderr",
     "output_type": "stream",
     "text": [
      "\u001b[2m\u001b[36m(RolloutWorker pid=15280)\u001b[0m c:\\Users\\nadir\\anaconda3\\envs\\GTAI2\\lib\\site-packages\\rtgym\\envs\\real_time_env.py:376: UserWarning: Time-step timed out. Elapsed since last time-step: 0.14067439991868014\n",
      "\u001b[2m\u001b[36m(RolloutWorker pid=15280)\u001b[0m   warnings.warn(f\"Time-step timed out. Elapsed since last time-step: {now - self.__t_end}\")\n"
     ]
    },
    {
     "name": "stdout",
     "output_type": "stream",
     "text": [
      "Loop:  315\n",
      "\u001b[2m\u001b[36m(RolloutWorker pid=15280)\u001b[0m reset triggered\n",
      "\u001b[2m\u001b[36m(RolloutWorker pid=15280)\u001b[0m reload save for track : 4\n"
     ]
    },
    {
     "name": "stderr",
     "output_type": "stream",
     "text": [
      "\u001b[2m\u001b[36m(RolloutWorker pid=15280)\u001b[0m c:\\Users\\nadir\\anaconda3\\envs\\GTAI2\\lib\\site-packages\\rtgym\\envs\\real_time_env.py:376: UserWarning: Time-step timed out. Elapsed since last time-step: 0.1464370999183302\n",
      "\u001b[2m\u001b[36m(RolloutWorker pid=15280)\u001b[0m   warnings.warn(f\"Time-step timed out. Elapsed since last time-step: {now - self.__t_end}\")\n"
     ]
    },
    {
     "name": "stdout",
     "output_type": "stream",
     "text": [
      "Loop:  316\n",
      "\u001b[2m\u001b[36m(RolloutWorker pid=15280)\u001b[0m reset triggered\n",
      "\u001b[2m\u001b[36m(RolloutWorker pid=15280)\u001b[0m reload save for track : 4\n"
     ]
    },
    {
     "name": "stderr",
     "output_type": "stream",
     "text": [
      "\u001b[2m\u001b[36m(RolloutWorker pid=15280)\u001b[0m c:\\Users\\nadir\\anaconda3\\envs\\GTAI2\\lib\\site-packages\\rtgym\\envs\\real_time_env.py:376: UserWarning: Time-step timed out. Elapsed since last time-step: 0.14378959991881857\n",
      "\u001b[2m\u001b[36m(RolloutWorker pid=15280)\u001b[0m   warnings.warn(f\"Time-step timed out. Elapsed since last time-step: {now - self.__t_end}\")\n"
     ]
    },
    {
     "name": "stdout",
     "output_type": "stream",
     "text": [
      "Loop:  317\n",
      "Loop:  318\n",
      "\u001b[2m\u001b[36m(RolloutWorker pid=15280)\u001b[0m reset triggered\n",
      "\u001b[2m\u001b[36m(RolloutWorker pid=15280)\u001b[0m reload save for track : 4\n"
     ]
    },
    {
     "name": "stderr",
     "output_type": "stream",
     "text": [
      "\u001b[2m\u001b[36m(RolloutWorker pid=15280)\u001b[0m c:\\Users\\nadir\\anaconda3\\envs\\GTAI2\\lib\\site-packages\\rtgym\\envs\\real_time_env.py:376: UserWarning: Time-step timed out. Elapsed since last time-step: 0.15629619991887012\n",
      "\u001b[2m\u001b[36m(RolloutWorker pid=15280)\u001b[0m   warnings.warn(f\"Time-step timed out. Elapsed since last time-step: {now - self.__t_end}\")\n"
     ]
    },
    {
     "name": "stdout",
     "output_type": "stream",
     "text": [
      "Loop:  319\n",
      "\u001b[2m\u001b[36m(RolloutWorker pid=15280)\u001b[0m reset triggered\n",
      "\u001b[2m\u001b[36m(RolloutWorker pid=15280)\u001b[0m reload save for track : 4\n"
     ]
    },
    {
     "name": "stderr",
     "output_type": "stream",
     "text": [
      "\u001b[2m\u001b[36m(RolloutWorker pid=15280)\u001b[0m c:\\Users\\nadir\\anaconda3\\envs\\GTAI2\\lib\\site-packages\\rtgym\\envs\\real_time_env.py:376: UserWarning: Time-step timed out. Elapsed since last time-step: 0.1474014999184874\n",
      "\u001b[2m\u001b[36m(RolloutWorker pid=15280)\u001b[0m   warnings.warn(f\"Time-step timed out. Elapsed since last time-step: {now - self.__t_end}\")\n"
     ]
    },
    {
     "name": "stdout",
     "output_type": "stream",
     "text": [
      "Loop:  320\n",
      "Saved 320\n",
      "Loop:  321\n",
      "\u001b[2m\u001b[36m(RolloutWorker pid=15280)\u001b[0m reset triggered\n",
      "\u001b[2m\u001b[36m(RolloutWorker pid=15280)\u001b[0m reload save for track : 4\n"
     ]
    },
    {
     "name": "stderr",
     "output_type": "stream",
     "text": [
      "\u001b[2m\u001b[36m(RolloutWorker pid=15280)\u001b[0m c:\\Users\\nadir\\anaconda3\\envs\\GTAI2\\lib\\site-packages\\rtgym\\envs\\real_time_env.py:376: UserWarning: Time-step timed out. Elapsed since last time-step: 0.14574609991814214\n",
      "\u001b[2m\u001b[36m(RolloutWorker pid=15280)\u001b[0m   warnings.warn(f\"Time-step timed out. Elapsed since last time-step: {now - self.__t_end}\")\n"
     ]
    },
    {
     "name": "stdout",
     "output_type": "stream",
     "text": [
      "Loop:  322\n",
      "\u001b[2m\u001b[36m(RolloutWorker pid=15280)\u001b[0m reset triggered\n",
      "\u001b[2m\u001b[36m(RolloutWorker pid=15280)\u001b[0m reload save for track : 4\n"
     ]
    },
    {
     "name": "stderr",
     "output_type": "stream",
     "text": [
      "\u001b[2m\u001b[36m(RolloutWorker pid=15280)\u001b[0m c:\\Users\\nadir\\anaconda3\\envs\\GTAI2\\lib\\site-packages\\rtgym\\envs\\real_time_env.py:376: UserWarning: Time-step timed out. Elapsed since last time-step: 0.14734339991900924\n",
      "\u001b[2m\u001b[36m(RolloutWorker pid=15280)\u001b[0m   warnings.warn(f\"Time-step timed out. Elapsed since last time-step: {now - self.__t_end}\")\n"
     ]
    },
    {
     "name": "stdout",
     "output_type": "stream",
     "text": [
      "Loop:  323\n",
      "Loop:  324\n",
      "\u001b[2m\u001b[36m(RolloutWorker pid=15280)\u001b[0m reset triggered\n",
      "\u001b[2m\u001b[36m(RolloutWorker pid=15280)\u001b[0m reload save for track : 4\n"
     ]
    },
    {
     "name": "stderr",
     "output_type": "stream",
     "text": [
      "\u001b[2m\u001b[36m(RolloutWorker pid=15280)\u001b[0m c:\\Users\\nadir\\anaconda3\\envs\\GTAI2\\lib\\site-packages\\rtgym\\envs\\real_time_env.py:376: UserWarning: Time-step timed out. Elapsed since last time-step: 0.14100919991778937\n",
      "\u001b[2m\u001b[36m(RolloutWorker pid=15280)\u001b[0m   warnings.warn(f\"Time-step timed out. Elapsed since last time-step: {now - self.__t_end}\")\n"
     ]
    },
    {
     "name": "stdout",
     "output_type": "stream",
     "text": [
      "Loop:  325\n",
      "\u001b[2m\u001b[36m(RolloutWorker pid=15280)\u001b[0m reset triggered\n",
      "\u001b[2m\u001b[36m(RolloutWorker pid=15280)\u001b[0m reload save for track : 4\n"
     ]
    },
    {
     "name": "stderr",
     "output_type": "stream",
     "text": [
      "\u001b[2m\u001b[36m(RolloutWorker pid=15280)\u001b[0m c:\\Users\\nadir\\anaconda3\\envs\\GTAI2\\lib\\site-packages\\rtgym\\envs\\real_time_env.py:376: UserWarning: Time-step timed out. Elapsed since last time-step: 0.12949929991918907\n",
      "\u001b[2m\u001b[36m(RolloutWorker pid=15280)\u001b[0m   warnings.warn(f\"Time-step timed out. Elapsed since last time-step: {now - self.__t_end}\")\n"
     ]
    },
    {
     "name": "stdout",
     "output_type": "stream",
     "text": [
      "Loop:  326\n",
      "Loop:  327\n",
      "\u001b[2m\u001b[36m(RolloutWorker pid=15280)\u001b[0m reset triggered\n",
      "\u001b[2m\u001b[36m(RolloutWorker pid=15280)\u001b[0m reload save for track : 4\n"
     ]
    },
    {
     "name": "stderr",
     "output_type": "stream",
     "text": [
      "\u001b[2m\u001b[36m(RolloutWorker pid=15280)\u001b[0m c:\\Users\\nadir\\anaconda3\\envs\\GTAI2\\lib\\site-packages\\rtgym\\envs\\real_time_env.py:376: UserWarning: Time-step timed out. Elapsed since last time-step: 0.13181229991823784\n",
      "\u001b[2m\u001b[36m(RolloutWorker pid=15280)\u001b[0m   warnings.warn(f\"Time-step timed out. Elapsed since last time-step: {now - self.__t_end}\")\n"
     ]
    },
    {
     "name": "stdout",
     "output_type": "stream",
     "text": [
      "Loop:  328\n",
      "\u001b[2m\u001b[36m(RolloutWorker pid=15280)\u001b[0m reset triggered\n",
      "\u001b[2m\u001b[36m(RolloutWorker pid=15280)\u001b[0m reload save for track : 4\n"
     ]
    },
    {
     "name": "stderr",
     "output_type": "stream",
     "text": [
      "\u001b[2m\u001b[36m(RolloutWorker pid=15280)\u001b[0m c:\\Users\\nadir\\anaconda3\\envs\\GTAI2\\lib\\site-packages\\rtgym\\envs\\real_time_env.py:376: UserWarning: Time-step timed out. Elapsed since last time-step: 0.14854349991855997\n",
      "\u001b[2m\u001b[36m(RolloutWorker pid=15280)\u001b[0m   warnings.warn(f\"Time-step timed out. Elapsed since last time-step: {now - self.__t_end}\")\n"
     ]
    },
    {
     "name": "stdout",
     "output_type": "stream",
     "text": [
      "Loop:  329\n",
      "\u001b[2m\u001b[36m(RolloutWorker pid=15280)\u001b[0m reset triggered\n",
      "\u001b[2m\u001b[36m(RolloutWorker pid=15280)\u001b[0m reload save for track : 4\n"
     ]
    },
    {
     "name": "stderr",
     "output_type": "stream",
     "text": [
      "\u001b[2m\u001b[36m(RolloutWorker pid=15280)\u001b[0m c:\\Users\\nadir\\anaconda3\\envs\\GTAI2\\lib\\site-packages\\rtgym\\envs\\real_time_env.py:376: UserWarning: Time-step timed out. Elapsed since last time-step: 0.1701536999180462\n",
      "\u001b[2m\u001b[36m(RolloutWorker pid=15280)\u001b[0m   warnings.warn(f\"Time-step timed out. Elapsed since last time-step: {now - self.__t_end}\")\n"
     ]
    },
    {
     "name": "stdout",
     "output_type": "stream",
     "text": [
      "Loop:  330\n",
      "Saved 330\n",
      "Loop:  331\n",
      "\u001b[2m\u001b[36m(RolloutWorker pid=15280)\u001b[0m reset triggered\n",
      "\u001b[2m\u001b[36m(RolloutWorker pid=15280)\u001b[0m reload save for track : 4\n"
     ]
    },
    {
     "name": "stderr",
     "output_type": "stream",
     "text": [
      "\u001b[2m\u001b[36m(RolloutWorker pid=15280)\u001b[0m c:\\Users\\nadir\\anaconda3\\envs\\GTAI2\\lib\\site-packages\\rtgym\\envs\\real_time_env.py:376: UserWarning: Time-step timed out. Elapsed since last time-step: 0.13239769991923822\n",
      "\u001b[2m\u001b[36m(RolloutWorker pid=15280)\u001b[0m   warnings.warn(f\"Time-step timed out. Elapsed since last time-step: {now - self.__t_end}\")\n"
     ]
    },
    {
     "name": "stdout",
     "output_type": "stream",
     "text": [
      "Loop:  332\n",
      "\u001b[2m\u001b[36m(RolloutWorker pid=15280)\u001b[0m reset triggered\n",
      "\u001b[2m\u001b[36m(RolloutWorker pid=15280)\u001b[0m reload save for track : 4\n"
     ]
    },
    {
     "name": "stderr",
     "output_type": "stream",
     "text": [
      "\u001b[2m\u001b[36m(RolloutWorker pid=15280)\u001b[0m c:\\Users\\nadir\\anaconda3\\envs\\GTAI2\\lib\\site-packages\\rtgym\\envs\\real_time_env.py:376: UserWarning: Time-step timed out. Elapsed since last time-step: 0.1299368999179933\n",
      "\u001b[2m\u001b[36m(RolloutWorker pid=15280)\u001b[0m   warnings.warn(f\"Time-step timed out. Elapsed since last time-step: {now - self.__t_end}\")\n"
     ]
    },
    {
     "name": "stdout",
     "output_type": "stream",
     "text": [
      "Loop:  333\n",
      "Loop:  334\n",
      "\u001b[2m\u001b[36m(RolloutWorker pid=15280)\u001b[0m reset triggered\n",
      "\u001b[2m\u001b[36m(RolloutWorker pid=15280)\u001b[0m reload save for track : 4\n"
     ]
    },
    {
     "name": "stderr",
     "output_type": "stream",
     "text": [
      "\u001b[2m\u001b[36m(RolloutWorker pid=15280)\u001b[0m c:\\Users\\nadir\\anaconda3\\envs\\GTAI2\\lib\\site-packages\\rtgym\\envs\\real_time_env.py:376: UserWarning: Time-step timed out. Elapsed since last time-step: 0.13795109991860954\n",
      "\u001b[2m\u001b[36m(RolloutWorker pid=15280)\u001b[0m   warnings.warn(f\"Time-step timed out. Elapsed since last time-step: {now - self.__t_end}\")\n"
     ]
    },
    {
     "name": "stdout",
     "output_type": "stream",
     "text": [
      "Loop:  335\n",
      "\u001b[2m\u001b[36m(RolloutWorker pid=15280)\u001b[0m reset triggered\n",
      "\u001b[2m\u001b[36m(RolloutWorker pid=15280)\u001b[0m reload save for track : 4\n"
     ]
    },
    {
     "name": "stderr",
     "output_type": "stream",
     "text": [
      "\u001b[2m\u001b[36m(RolloutWorker pid=15280)\u001b[0m c:\\Users\\nadir\\anaconda3\\envs\\GTAI2\\lib\\site-packages\\rtgym\\envs\\real_time_env.py:376: UserWarning: Time-step timed out. Elapsed since last time-step: 0.16958379991865513\n",
      "\u001b[2m\u001b[36m(RolloutWorker pid=15280)\u001b[0m   warnings.warn(f\"Time-step timed out. Elapsed since last time-step: {now - self.__t_end}\")\n"
     ]
    },
    {
     "name": "stdout",
     "output_type": "stream",
     "text": [
      "Loop:  336\n",
      "Loop:  337\n",
      "\u001b[2m\u001b[36m(RolloutWorker pid=15280)\u001b[0m reset triggered\n",
      "\u001b[2m\u001b[36m(RolloutWorker pid=15280)\u001b[0m reload save for track : 4\n"
     ]
    },
    {
     "name": "stderr",
     "output_type": "stream",
     "text": [
      "\u001b[2m\u001b[36m(RolloutWorker pid=15280)\u001b[0m c:\\Users\\nadir\\anaconda3\\envs\\GTAI2\\lib\\site-packages\\rtgym\\envs\\real_time_env.py:376: UserWarning: Time-step timed out. Elapsed since last time-step: 0.1599027999181999\n",
      "\u001b[2m\u001b[36m(RolloutWorker pid=15280)\u001b[0m   warnings.warn(f\"Time-step timed out. Elapsed since last time-step: {now - self.__t_end}\")\n"
     ]
    },
    {
     "name": "stdout",
     "output_type": "stream",
     "text": [
      "Loop:  338\n"
     ]
    },
    {
     "name": "stderr",
     "output_type": "stream",
     "text": [
      "\u001b[2m\u001b[36m(RolloutWorker pid=15280)\u001b[0m c:\\Users\\nadir\\anaconda3\\envs\\GTAI2\\lib\\site-packages\\rtgym\\envs\\real_time_env.py:376: UserWarning: Time-step timed out. Elapsed since last time-step: 0.16384109993032325\n",
      "\u001b[2m\u001b[36m(RolloutWorker pid=15280)\u001b[0m   warnings.warn(f\"Time-step timed out. Elapsed since last time-step: {now - self.__t_end}\")\n"
     ]
    },
    {
     "name": "stdout",
     "output_type": "stream",
     "text": [
      "\u001b[2m\u001b[36m(RolloutWorker pid=15280)\u001b[0m reset triggered\n",
      "\u001b[2m\u001b[36m(RolloutWorker pid=15280)\u001b[0m reload save for track : 4\n"
     ]
    },
    {
     "name": "stderr",
     "output_type": "stream",
     "text": [
      "\u001b[2m\u001b[36m(RolloutWorker pid=15280)\u001b[0m c:\\Users\\nadir\\anaconda3\\envs\\GTAI2\\lib\\site-packages\\rtgym\\envs\\real_time_env.py:376: UserWarning: Time-step timed out. Elapsed since last time-step: 0.14883559998816054\n",
      "\u001b[2m\u001b[36m(RolloutWorker pid=15280)\u001b[0m   warnings.warn(f\"Time-step timed out. Elapsed since last time-step: {now - self.__t_end}\")\n"
     ]
    },
    {
     "name": "stdout",
     "output_type": "stream",
     "text": [
      "Loop:  339\n",
      "Loop:  340\n",
      "Saved 340\n",
      "\u001b[2m\u001b[36m(RolloutWorker pid=15280)\u001b[0m reset triggered\n",
      "\u001b[2m\u001b[36m(RolloutWorker pid=15280)\u001b[0m reload save for track : 4\n"
     ]
    },
    {
     "name": "stderr",
     "output_type": "stream",
     "text": [
      "\u001b[2m\u001b[36m(RolloutWorker pid=15280)\u001b[0m c:\\Users\\nadir\\anaconda3\\envs\\GTAI2\\lib\\site-packages\\rtgym\\envs\\real_time_env.py:376: UserWarning: Time-step timed out. Elapsed since last time-step: 0.13046239991854236\n",
      "\u001b[2m\u001b[36m(RolloutWorker pid=15280)\u001b[0m   warnings.warn(f\"Time-step timed out. Elapsed since last time-step: {now - self.__t_end}\")\n"
     ]
    },
    {
     "name": "stdout",
     "output_type": "stream",
     "text": [
      "Loop:  341\n",
      "\u001b[2m\u001b[36m(RolloutWorker pid=15280)\u001b[0m reset triggered\n",
      "\u001b[2m\u001b[36m(RolloutWorker pid=15280)\u001b[0m reload save for track : 4\n"
     ]
    },
    {
     "name": "stderr",
     "output_type": "stream",
     "text": [
      "\u001b[2m\u001b[36m(RolloutWorker pid=15280)\u001b[0m c:\\Users\\nadir\\anaconda3\\envs\\GTAI2\\lib\\site-packages\\rtgym\\envs\\real_time_env.py:376: UserWarning: Time-step timed out. Elapsed since last time-step: 0.13901259991871484\n",
      "\u001b[2m\u001b[36m(RolloutWorker pid=15280)\u001b[0m   warnings.warn(f\"Time-step timed out. Elapsed since last time-step: {now - self.__t_end}\")\n"
     ]
    },
    {
     "name": "stdout",
     "output_type": "stream",
     "text": [
      "Loop:  342\n",
      "\u001b[2m\u001b[36m(RolloutWorker pid=15280)\u001b[0m reset triggered\n",
      "\u001b[2m\u001b[36m(RolloutWorker pid=15280)\u001b[0m reload save for track : 4\n"
     ]
    },
    {
     "name": "stderr",
     "output_type": "stream",
     "text": [
      "\u001b[2m\u001b[36m(RolloutWorker pid=15280)\u001b[0m c:\\Users\\nadir\\anaconda3\\envs\\GTAI2\\lib\\site-packages\\rtgym\\envs\\real_time_env.py:376: UserWarning: Time-step timed out. Elapsed since last time-step: 0.13001699991855276\n",
      "\u001b[2m\u001b[36m(RolloutWorker pid=15280)\u001b[0m   warnings.warn(f\"Time-step timed out. Elapsed since last time-step: {now - self.__t_end}\")\n"
     ]
    },
    {
     "name": "stdout",
     "output_type": "stream",
     "text": [
      "Loop:  343\n",
      "Loop:  344\n",
      "\u001b[2m\u001b[36m(RolloutWorker pid=15280)\u001b[0m reset triggered\n",
      "\u001b[2m\u001b[36m(RolloutWorker pid=15280)\u001b[0m reload save for track : 4\n"
     ]
    },
    {
     "name": "stderr",
     "output_type": "stream",
     "text": [
      "\u001b[2m\u001b[36m(RolloutWorker pid=15280)\u001b[0m c:\\Users\\nadir\\anaconda3\\envs\\GTAI2\\lib\\site-packages\\rtgym\\envs\\real_time_env.py:376: UserWarning: Time-step timed out. Elapsed since last time-step: 0.1506715999184962\n",
      "\u001b[2m\u001b[36m(RolloutWorker pid=15280)\u001b[0m   warnings.warn(f\"Time-step timed out. Elapsed since last time-step: {now - self.__t_end}\")\n"
     ]
    },
    {
     "name": "stdout",
     "output_type": "stream",
     "text": [
      "Loop:  345\n",
      "\u001b[2m\u001b[36m(RolloutWorker pid=15280)\u001b[0m reset triggered\n",
      "\u001b[2m\u001b[36m(RolloutWorker pid=15280)\u001b[0m reload save for track : 4\n"
     ]
    },
    {
     "name": "stderr",
     "output_type": "stream",
     "text": [
      "\u001b[2m\u001b[36m(RolloutWorker pid=15280)\u001b[0m c:\\Users\\nadir\\anaconda3\\envs\\GTAI2\\lib\\site-packages\\rtgym\\envs\\real_time_env.py:376: UserWarning: Time-step timed out. Elapsed since last time-step: 0.12976909991812136\n",
      "\u001b[2m\u001b[36m(RolloutWorker pid=15280)\u001b[0m   warnings.warn(f\"Time-step timed out. Elapsed since last time-step: {now - self.__t_end}\")\n"
     ]
    },
    {
     "name": "stdout",
     "output_type": "stream",
     "text": [
      "Loop:  346\n",
      "Loop:  347\n",
      "\u001b[2m\u001b[36m(RolloutWorker pid=15280)\u001b[0m reset triggered\n",
      "\u001b[2m\u001b[36m(RolloutWorker pid=15280)\u001b[0m reload save for track : 4\n"
     ]
    },
    {
     "name": "stderr",
     "output_type": "stream",
     "text": [
      "\u001b[2m\u001b[36m(RolloutWorker pid=15280)\u001b[0m c:\\Users\\nadir\\anaconda3\\envs\\GTAI2\\lib\\site-packages\\rtgym\\envs\\real_time_env.py:376: UserWarning: Time-step timed out. Elapsed since last time-step: 0.13977829991927138\n",
      "\u001b[2m\u001b[36m(RolloutWorker pid=15280)\u001b[0m   warnings.warn(f\"Time-step timed out. Elapsed since last time-step: {now - self.__t_end}\")\n"
     ]
    },
    {
     "name": "stdout",
     "output_type": "stream",
     "text": [
      "Loop:  348\n",
      "\u001b[2m\u001b[36m(RolloutWorker pid=15280)\u001b[0m reset triggered\n",
      "\u001b[2m\u001b[36m(RolloutWorker pid=15280)\u001b[0m reload save for track : 4\n"
     ]
    },
    {
     "name": "stderr",
     "output_type": "stream",
     "text": [
      "\u001b[2m\u001b[36m(RolloutWorker pid=15280)\u001b[0m c:\\Users\\nadir\\anaconda3\\envs\\GTAI2\\lib\\site-packages\\rtgym\\envs\\real_time_env.py:376: UserWarning: Time-step timed out. Elapsed since last time-step: 0.1474455999177735\n",
      "\u001b[2m\u001b[36m(RolloutWorker pid=15280)\u001b[0m   warnings.warn(f\"Time-step timed out. Elapsed since last time-step: {now - self.__t_end}\")\n"
     ]
    },
    {
     "name": "stdout",
     "output_type": "stream",
     "text": [
      "Loop:  349\n",
      "Loop:  350\n",
      "Saved 350\n",
      "\u001b[2m\u001b[36m(RolloutWorker pid=15280)\u001b[0m reset triggered\n",
      "\u001b[2m\u001b[36m(RolloutWorker pid=15280)\u001b[0m reload save for track : 4\n"
     ]
    },
    {
     "name": "stderr",
     "output_type": "stream",
     "text": [
      "\u001b[2m\u001b[36m(RolloutWorker pid=15280)\u001b[0m c:\\Users\\nadir\\anaconda3\\envs\\GTAI2\\lib\\site-packages\\rtgym\\envs\\real_time_env.py:376: UserWarning: Time-step timed out. Elapsed since last time-step: 0.13404169991918025\n",
      "\u001b[2m\u001b[36m(RolloutWorker pid=15280)\u001b[0m   warnings.warn(f\"Time-step timed out. Elapsed since last time-step: {now - self.__t_end}\")\n"
     ]
    },
    {
     "name": "stdout",
     "output_type": "stream",
     "text": [
      "Loop:  351\n",
      "\u001b[2m\u001b[36m(RolloutWorker pid=15280)\u001b[0m reset triggered\n",
      "\u001b[2m\u001b[36m(RolloutWorker pid=15280)\u001b[0m reload save for track : 4\n"
     ]
    },
    {
     "name": "stderr",
     "output_type": "stream",
     "text": [
      "\u001b[2m\u001b[36m(RolloutWorker pid=15280)\u001b[0m c:\\Users\\nadir\\anaconda3\\envs\\GTAI2\\lib\\site-packages\\rtgym\\envs\\real_time_env.py:376: UserWarning: Time-step timed out. Elapsed since last time-step: 0.15643429991814628\n",
      "\u001b[2m\u001b[36m(RolloutWorker pid=15280)\u001b[0m   warnings.warn(f\"Time-step timed out. Elapsed since last time-step: {now - self.__t_end}\")\n"
     ]
    },
    {
     "name": "stdout",
     "output_type": "stream",
     "text": [
      "Loop:  352\n",
      "Loop:  353\n",
      "\u001b[2m\u001b[36m(RolloutWorker pid=15280)\u001b[0m reset triggered\n",
      "\u001b[2m\u001b[36m(RolloutWorker pid=15280)\u001b[0m reload save for track : 4\n"
     ]
    },
    {
     "name": "stderr",
     "output_type": "stream",
     "text": [
      "\u001b[2m\u001b[36m(RolloutWorker pid=15280)\u001b[0m c:\\Users\\nadir\\anaconda3\\envs\\GTAI2\\lib\\site-packages\\rtgym\\envs\\real_time_env.py:376: UserWarning: Time-step timed out. Elapsed since last time-step: 0.17056269991826412\n",
      "\u001b[2m\u001b[36m(RolloutWorker pid=15280)\u001b[0m   warnings.warn(f\"Time-step timed out. Elapsed since last time-step: {now - self.__t_end}\")\n"
     ]
    },
    {
     "name": "stdout",
     "output_type": "stream",
     "text": [
      "Loop:  354\n",
      "\u001b[2m\u001b[36m(RolloutWorker pid=15280)\u001b[0m reset triggered\n",
      "\u001b[2m\u001b[36m(RolloutWorker pid=15280)\u001b[0m reload save for track : 4\n"
     ]
    },
    {
     "name": "stderr",
     "output_type": "stream",
     "text": [
      "\u001b[2m\u001b[36m(RolloutWorker pid=15280)\u001b[0m c:\\Users\\nadir\\anaconda3\\envs\\GTAI2\\lib\\site-packages\\rtgym\\envs\\real_time_env.py:376: UserWarning: Time-step timed out. Elapsed since last time-step: 0.13153229991894477\n",
      "\u001b[2m\u001b[36m(RolloutWorker pid=15280)\u001b[0m   warnings.warn(f\"Time-step timed out. Elapsed since last time-step: {now - self.__t_end}\")\n"
     ]
    },
    {
     "name": "stdout",
     "output_type": "stream",
     "text": [
      "Loop:  355\n",
      "\u001b[2m\u001b[36m(RolloutWorker pid=15280)\u001b[0m reset triggered\n",
      "\u001b[2m\u001b[36m(RolloutWorker pid=15280)\u001b[0m reload save for track : 4\n"
     ]
    },
    {
     "name": "stderr",
     "output_type": "stream",
     "text": [
      "\u001b[2m\u001b[36m(RolloutWorker pid=15280)\u001b[0m c:\\Users\\nadir\\anaconda3\\envs\\GTAI2\\lib\\site-packages\\rtgym\\envs\\real_time_env.py:376: UserWarning: Time-step timed out. Elapsed since last time-step: 0.13021899991872488\n",
      "\u001b[2m\u001b[36m(RolloutWorker pid=15280)\u001b[0m   warnings.warn(f\"Time-step timed out. Elapsed since last time-step: {now - self.__t_end}\")\n"
     ]
    },
    {
     "name": "stdout",
     "output_type": "stream",
     "text": [
      "Loop:  356\n",
      "Loop:  357\n",
      "\u001b[2m\u001b[36m(RolloutWorker pid=15280)\u001b[0m reset triggered\n",
      "\u001b[2m\u001b[36m(RolloutWorker pid=15280)\u001b[0m reload save for track : 4\n"
     ]
    },
    {
     "name": "stderr",
     "output_type": "stream",
     "text": [
      "\u001b[2m\u001b[36m(RolloutWorker pid=15280)\u001b[0m c:\\Users\\nadir\\anaconda3\\envs\\GTAI2\\lib\\site-packages\\rtgym\\envs\\real_time_env.py:376: UserWarning: Time-step timed out. Elapsed since last time-step: 0.13784579991806822\n",
      "\u001b[2m\u001b[36m(RolloutWorker pid=15280)\u001b[0m   warnings.warn(f\"Time-step timed out. Elapsed since last time-step: {now - self.__t_end}\")\n"
     ]
    },
    {
     "name": "stdout",
     "output_type": "stream",
     "text": [
      "Loop:  358\n",
      "\u001b[2m\u001b[36m(RolloutWorker pid=15280)\u001b[0m reset triggered\n",
      "\u001b[2m\u001b[36m(RolloutWorker pid=15280)\u001b[0m reload save for track : 4\n"
     ]
    },
    {
     "name": "stderr",
     "output_type": "stream",
     "text": [
      "\u001b[2m\u001b[36m(RolloutWorker pid=15280)\u001b[0m c:\\Users\\nadir\\anaconda3\\envs\\GTAI2\\lib\\site-packages\\rtgym\\envs\\real_time_env.py:376: UserWarning: Time-step timed out. Elapsed since last time-step: 0.13295049991847918\n",
      "\u001b[2m\u001b[36m(RolloutWorker pid=15280)\u001b[0m   warnings.warn(f\"Time-step timed out. Elapsed since last time-step: {now - self.__t_end}\")\n"
     ]
    },
    {
     "name": "stdout",
     "output_type": "stream",
     "text": [
      "Loop:  359\n",
      "Loop:  360\n",
      "Saved 360\n",
      "\u001b[2m\u001b[36m(RolloutWorker pid=15280)\u001b[0m reset triggered\n",
      "\u001b[2m\u001b[36m(RolloutWorker pid=15280)\u001b[0m reload save for track : 4\n"
     ]
    },
    {
     "name": "stderr",
     "output_type": "stream",
     "text": [
      "\u001b[2m\u001b[36m(RolloutWorker pid=15280)\u001b[0m c:\\Users\\nadir\\anaconda3\\envs\\GTAI2\\lib\\site-packages\\rtgym\\envs\\real_time_env.py:376: UserWarning: Time-step timed out. Elapsed since last time-step: 0.13706869991892745\n",
      "\u001b[2m\u001b[36m(RolloutWorker pid=15280)\u001b[0m   warnings.warn(f\"Time-step timed out. Elapsed since last time-step: {now - self.__t_end}\")\n"
     ]
    },
    {
     "name": "stdout",
     "output_type": "stream",
     "text": [
      "Loop:  361\n",
      "\u001b[2m\u001b[36m(RolloutWorker pid=15280)\u001b[0m reset triggered\n",
      "\u001b[2m\u001b[36m(RolloutWorker pid=15280)\u001b[0m reload save for track : 4\n"
     ]
    },
    {
     "name": "stderr",
     "output_type": "stream",
     "text": [
      "\u001b[2m\u001b[36m(RolloutWorker pid=15280)\u001b[0m c:\\Users\\nadir\\anaconda3\\envs\\GTAI2\\lib\\site-packages\\rtgym\\envs\\real_time_env.py:376: UserWarning: Time-step timed out. Elapsed since last time-step: 0.15047119991777436\n",
      "\u001b[2m\u001b[36m(RolloutWorker pid=15280)\u001b[0m   warnings.warn(f\"Time-step timed out. Elapsed since last time-step: {now - self.__t_end}\")\n"
     ]
    },
    {
     "name": "stdout",
     "output_type": "stream",
     "text": [
      "Loop:  362\n",
      "Loop:  363\n",
      "\u001b[2m\u001b[36m(RolloutWorker pid=15280)\u001b[0m reset triggered\n",
      "\u001b[2m\u001b[36m(RolloutWorker pid=15280)\u001b[0m reload save for track : 4\n"
     ]
    },
    {
     "name": "stderr",
     "output_type": "stream",
     "text": [
      "\u001b[2m\u001b[36m(RolloutWorker pid=15280)\u001b[0m c:\\Users\\nadir\\anaconda3\\envs\\GTAI2\\lib\\site-packages\\rtgym\\envs\\real_time_env.py:376: UserWarning: Time-step timed out. Elapsed since last time-step: 0.16230899991933256\n",
      "\u001b[2m\u001b[36m(RolloutWorker pid=15280)\u001b[0m   warnings.warn(f\"Time-step timed out. Elapsed since last time-step: {now - self.__t_end}\")\n"
     ]
    },
    {
     "name": "stdout",
     "output_type": "stream",
     "text": [
      "Loop:  364\n",
      "\u001b[2m\u001b[36m(RolloutWorker pid=15280)\u001b[0m reset triggered\n",
      "\u001b[2m\u001b[36m(RolloutWorker pid=15280)\u001b[0m reload save for track : 4\n"
     ]
    },
    {
     "name": "stderr",
     "output_type": "stream",
     "text": [
      "\u001b[2m\u001b[36m(RolloutWorker pid=15280)\u001b[0m c:\\Users\\nadir\\anaconda3\\envs\\GTAI2\\lib\\site-packages\\rtgym\\envs\\real_time_env.py:376: UserWarning: Time-step timed out. Elapsed since last time-step: 0.14765039991834783\n",
      "\u001b[2m\u001b[36m(RolloutWorker pid=15280)\u001b[0m   warnings.warn(f\"Time-step timed out. Elapsed since last time-step: {now - self.__t_end}\")\n"
     ]
    },
    {
     "name": "stdout",
     "output_type": "stream",
     "text": [
      "Loop:  365\n",
      "Loop:  366\n",
      "\u001b[2m\u001b[36m(RolloutWorker pid=15280)\u001b[0m reset triggered\n",
      "\u001b[2m\u001b[36m(RolloutWorker pid=15280)\u001b[0m reload save for track : 4\n"
     ]
    },
    {
     "name": "stderr",
     "output_type": "stream",
     "text": [
      "\u001b[2m\u001b[36m(RolloutWorker pid=15280)\u001b[0m c:\\Users\\nadir\\anaconda3\\envs\\GTAI2\\lib\\site-packages\\rtgym\\envs\\real_time_env.py:376: UserWarning: Time-step timed out. Elapsed since last time-step: 0.12276689991813328\n",
      "\u001b[2m\u001b[36m(RolloutWorker pid=15280)\u001b[0m   warnings.warn(f\"Time-step timed out. Elapsed since last time-step: {now - self.__t_end}\")\n"
     ]
    },
    {
     "name": "stdout",
     "output_type": "stream",
     "text": [
      "Loop:  367\n",
      "\u001b[2m\u001b[36m(RolloutWorker pid=15280)\u001b[0m reset triggered\n",
      "\u001b[2m\u001b[36m(RolloutWorker pid=15280)\u001b[0m reload save for track : 4\n"
     ]
    },
    {
     "name": "stderr",
     "output_type": "stream",
     "text": [
      "\u001b[2m\u001b[36m(RolloutWorker pid=15280)\u001b[0m c:\\Users\\nadir\\anaconda3\\envs\\GTAI2\\lib\\site-packages\\rtgym\\envs\\real_time_env.py:376: UserWarning: Time-step timed out. Elapsed since last time-step: 0.1367905999186405\n",
      "\u001b[2m\u001b[36m(RolloutWorker pid=15280)\u001b[0m   warnings.warn(f\"Time-step timed out. Elapsed since last time-step: {now - self.__t_end}\")\n"
     ]
    },
    {
     "name": "stdout",
     "output_type": "stream",
     "text": [
      "Loop:  368\n",
      "\u001b[2m\u001b[36m(RolloutWorker pid=15280)\u001b[0m reset triggered\n",
      "\u001b[2m\u001b[36m(RolloutWorker pid=15280)\u001b[0m reload save for track : 4\n"
     ]
    },
    {
     "name": "stderr",
     "output_type": "stream",
     "text": [
      "\u001b[2m\u001b[36m(RolloutWorker pid=15280)\u001b[0m c:\\Users\\nadir\\anaconda3\\envs\\GTAI2\\lib\\site-packages\\rtgym\\envs\\real_time_env.py:376: UserWarning: Time-step timed out. Elapsed since last time-step: 0.1710740999187692\n",
      "\u001b[2m\u001b[36m(RolloutWorker pid=15280)\u001b[0m   warnings.warn(f\"Time-step timed out. Elapsed since last time-step: {now - self.__t_end}\")\n"
     ]
    },
    {
     "name": "stdout",
     "output_type": "stream",
     "text": [
      "Loop:  369\n",
      "Loop:  370\n",
      "Saved 370\n",
      "\u001b[2m\u001b[36m(RolloutWorker pid=15280)\u001b[0m reset triggered\n",
      "\u001b[2m\u001b[36m(RolloutWorker pid=15280)\u001b[0m reload save for track : 4\n"
     ]
    },
    {
     "name": "stderr",
     "output_type": "stream",
     "text": [
      "\u001b[2m\u001b[36m(RolloutWorker pid=15280)\u001b[0m c:\\Users\\nadir\\anaconda3\\envs\\GTAI2\\lib\\site-packages\\rtgym\\envs\\real_time_env.py:376: UserWarning: Time-step timed out. Elapsed since last time-step: 0.1417106999178941\n",
      "\u001b[2m\u001b[36m(RolloutWorker pid=15280)\u001b[0m   warnings.warn(f\"Time-step timed out. Elapsed since last time-step: {now - self.__t_end}\")\n"
     ]
    },
    {
     "name": "stdout",
     "output_type": "stream",
     "text": [
      "Loop:  371\n",
      "\u001b[2m\u001b[36m(RolloutWorker pid=15280)\u001b[0m reset triggered\n",
      "\u001b[2m\u001b[36m(RolloutWorker pid=15280)\u001b[0m reload save for track : 4\n"
     ]
    },
    {
     "name": "stderr",
     "output_type": "stream",
     "text": [
      "\u001b[2m\u001b[36m(RolloutWorker pid=15280)\u001b[0m c:\\Users\\nadir\\anaconda3\\envs\\GTAI2\\lib\\site-packages\\rtgym\\envs\\real_time_env.py:376: UserWarning: Time-step timed out. Elapsed since last time-step: 0.1379779999188031\n",
      "\u001b[2m\u001b[36m(RolloutWorker pid=15280)\u001b[0m   warnings.warn(f\"Time-step timed out. Elapsed since last time-step: {now - self.__t_end}\")\n"
     ]
    },
    {
     "name": "stdout",
     "output_type": "stream",
     "text": [
      "Loop:  372\n",
      "Loop:  373\n",
      "\u001b[2m\u001b[36m(RolloutWorker pid=15280)\u001b[0m reset triggered\n",
      "\u001b[2m\u001b[36m(RolloutWorker pid=15280)\u001b[0m reload save for track : 4\n"
     ]
    },
    {
     "name": "stderr",
     "output_type": "stream",
     "text": [
      "\u001b[2m\u001b[36m(RolloutWorker pid=15280)\u001b[0m c:\\Users\\nadir\\anaconda3\\envs\\GTAI2\\lib\\site-packages\\rtgym\\envs\\real_time_env.py:376: UserWarning: Time-step timed out. Elapsed since last time-step: 0.13274639991868753\n",
      "\u001b[2m\u001b[36m(RolloutWorker pid=15280)\u001b[0m   warnings.warn(f\"Time-step timed out. Elapsed since last time-step: {now - self.__t_end}\")\n"
     ]
    },
    {
     "name": "stdout",
     "output_type": "stream",
     "text": [
      "Loop:  374\n",
      "\u001b[2m\u001b[36m(RolloutWorker pid=15280)\u001b[0m reset triggered\n",
      "\u001b[2m\u001b[36m(RolloutWorker pid=15280)\u001b[0m reload save for track : 4\n"
     ]
    },
    {
     "name": "stderr",
     "output_type": "stream",
     "text": [
      "\u001b[2m\u001b[36m(RolloutWorker pid=15280)\u001b[0m c:\\Users\\nadir\\anaconda3\\envs\\GTAI2\\lib\\site-packages\\rtgym\\envs\\real_time_env.py:376: UserWarning: Time-step timed out. Elapsed since last time-step: 0.1469724999187747\n",
      "\u001b[2m\u001b[36m(RolloutWorker pid=15280)\u001b[0m   warnings.warn(f\"Time-step timed out. Elapsed since last time-step: {now - self.__t_end}\")\n"
     ]
    },
    {
     "name": "stdout",
     "output_type": "stream",
     "text": [
      "Loop:  375\n",
      "Loop:  376\n",
      "\u001b[2m\u001b[36m(RolloutWorker pid=15280)\u001b[0m reset triggered\n",
      "\u001b[2m\u001b[36m(RolloutWorker pid=15280)\u001b[0m reload save for track : 4\n"
     ]
    },
    {
     "name": "stderr",
     "output_type": "stream",
     "text": [
      "\u001b[2m\u001b[36m(RolloutWorker pid=15280)\u001b[0m c:\\Users\\nadir\\anaconda3\\envs\\GTAI2\\lib\\site-packages\\rtgym\\envs\\real_time_env.py:376: UserWarning: Time-step timed out. Elapsed since last time-step: 0.12223049991825974\n",
      "\u001b[2m\u001b[36m(RolloutWorker pid=15280)\u001b[0m   warnings.warn(f\"Time-step timed out. Elapsed since last time-step: {now - self.__t_end}\")\n",
      "\u001b[2m\u001b[36m(RolloutWorker pid=15280)\u001b[0m c:\\Users\\nadir\\anaconda3\\envs\\GTAI2\\lib\\site-packages\\rtgym\\envs\\real_time_env.py:376: UserWarning: Time-step timed out. Elapsed since last time-step: 0.11211149996142922\n",
      "\u001b[2m\u001b[36m(RolloutWorker pid=15280)\u001b[0m   warnings.warn(f\"Time-step timed out. Elapsed since last time-step: {now - self.__t_end}\")\n"
     ]
    },
    {
     "name": "stdout",
     "output_type": "stream",
     "text": [
      "Loop:  377\n",
      "\u001b[2m\u001b[36m(RolloutWorker pid=15280)\u001b[0m reset triggered\n",
      "\u001b[2m\u001b[36m(RolloutWorker pid=15280)\u001b[0m reload save for track : 4\n"
     ]
    },
    {
     "name": "stderr",
     "output_type": "stream",
     "text": [
      "\u001b[2m\u001b[36m(RolloutWorker pid=15280)\u001b[0m c:\\Users\\nadir\\anaconda3\\envs\\GTAI2\\lib\\site-packages\\rtgym\\envs\\real_time_env.py:376: UserWarning: Time-step timed out. Elapsed since last time-step: 0.1482264999567633\n",
      "\u001b[2m\u001b[36m(RolloutWorker pid=15280)\u001b[0m   warnings.warn(f\"Time-step timed out. Elapsed since last time-step: {now - self.__t_end}\")\n"
     ]
    },
    {
     "name": "stdout",
     "output_type": "stream",
     "text": [
      "Loop:  378\n",
      "Loop:  379\n",
      "\u001b[2m\u001b[36m(RolloutWorker pid=15280)\u001b[0m reset triggered\n",
      "\u001b[2m\u001b[36m(RolloutWorker pid=15280)\u001b[0m reload save for track : 4\n"
     ]
    },
    {
     "name": "stderr",
     "output_type": "stream",
     "text": [
      "\u001b[2m\u001b[36m(RolloutWorker pid=15280)\u001b[0m c:\\Users\\nadir\\anaconda3\\envs\\GTAI2\\lib\\site-packages\\rtgym\\envs\\real_time_env.py:376: UserWarning: Time-step timed out. Elapsed since last time-step: 0.1478126999190863\n",
      "\u001b[2m\u001b[36m(RolloutWorker pid=15280)\u001b[0m   warnings.warn(f\"Time-step timed out. Elapsed since last time-step: {now - self.__t_end}\")\n"
     ]
    },
    {
     "name": "stdout",
     "output_type": "stream",
     "text": [
      "Loop:  380\n",
      "Saved 380\n",
      "\u001b[2m\u001b[36m(RolloutWorker pid=15280)\u001b[0m reset triggered\n",
      "\u001b[2m\u001b[36m(RolloutWorker pid=15280)\u001b[0m reload save for track : 4\n"
     ]
    },
    {
     "name": "stderr",
     "output_type": "stream",
     "text": [
      "\u001b[2m\u001b[36m(RolloutWorker pid=15280)\u001b[0m c:\\Users\\nadir\\anaconda3\\envs\\GTAI2\\lib\\site-packages\\rtgym\\envs\\real_time_env.py:376: UserWarning: Time-step timed out. Elapsed since last time-step: 0.15320059991790913\n",
      "\u001b[2m\u001b[36m(RolloutWorker pid=15280)\u001b[0m   warnings.warn(f\"Time-step timed out. Elapsed since last time-step: {now - self.__t_end}\")\n"
     ]
    },
    {
     "name": "stdout",
     "output_type": "stream",
     "text": [
      "Loop:  381\n",
      "\u001b[2m\u001b[36m(RolloutWorker pid=15280)\u001b[0m reset triggered\n",
      "\u001b[2m\u001b[36m(RolloutWorker pid=15280)\u001b[0m reload save for track : 4\n"
     ]
    },
    {
     "name": "stderr",
     "output_type": "stream",
     "text": [
      "\u001b[2m\u001b[36m(RolloutWorker pid=15280)\u001b[0m c:\\Users\\nadir\\anaconda3\\envs\\GTAI2\\lib\\site-packages\\rtgym\\envs\\real_time_env.py:376: UserWarning: Time-step timed out. Elapsed since last time-step: 0.14785779991871095\n",
      "\u001b[2m\u001b[36m(RolloutWorker pid=15280)\u001b[0m   warnings.warn(f\"Time-step timed out. Elapsed since last time-step: {now - self.__t_end}\")\n"
     ]
    },
    {
     "name": "stdout",
     "output_type": "stream",
     "text": [
      "Loop:  382\n",
      "Loop:  383\n",
      "\u001b[2m\u001b[36m(RolloutWorker pid=15280)\u001b[0m reset triggered\n",
      "\u001b[2m\u001b[36m(RolloutWorker pid=15280)\u001b[0m reload save for track : 4\n"
     ]
    },
    {
     "name": "stderr",
     "output_type": "stream",
     "text": [
      "\u001b[2m\u001b[36m(RolloutWorker pid=15280)\u001b[0m c:\\Users\\nadir\\anaconda3\\envs\\GTAI2\\lib\\site-packages\\rtgym\\envs\\real_time_env.py:376: UserWarning: Time-step timed out. Elapsed since last time-step: 0.14128209991849872\n",
      "\u001b[2m\u001b[36m(RolloutWorker pid=15280)\u001b[0m   warnings.warn(f\"Time-step timed out. Elapsed since last time-step: {now - self.__t_end}\")\n"
     ]
    },
    {
     "name": "stdout",
     "output_type": "stream",
     "text": [
      "Loop:  384\n",
      "\u001b[2m\u001b[36m(RolloutWorker pid=15280)\u001b[0m reset triggered\n",
      "\u001b[2m\u001b[36m(RolloutWorker pid=15280)\u001b[0m reload save for track : 4\n"
     ]
    },
    {
     "name": "stderr",
     "output_type": "stream",
     "text": [
      "\u001b[2m\u001b[36m(RolloutWorker pid=15280)\u001b[0m c:\\Users\\nadir\\anaconda3\\envs\\GTAI2\\lib\\site-packages\\rtgym\\envs\\real_time_env.py:376: UserWarning: Time-step timed out. Elapsed since last time-step: 0.1406244999188857\n",
      "\u001b[2m\u001b[36m(RolloutWorker pid=15280)\u001b[0m   warnings.warn(f\"Time-step timed out. Elapsed since last time-step: {now - self.__t_end}\")\n"
     ]
    },
    {
     "name": "stdout",
     "output_type": "stream",
     "text": [
      "Loop:  385\n",
      "Loop:  386\n",
      "\u001b[2m\u001b[36m(RolloutWorker pid=15280)\u001b[0m reset triggered\n",
      "\u001b[2m\u001b[36m(RolloutWorker pid=15280)\u001b[0m reload save for track : 4\n"
     ]
    },
    {
     "name": "stderr",
     "output_type": "stream",
     "text": [
      "\u001b[2m\u001b[36m(RolloutWorker pid=15280)\u001b[0m c:\\Users\\nadir\\anaconda3\\envs\\GTAI2\\lib\\site-packages\\rtgym\\envs\\real_time_env.py:376: UserWarning: Time-step timed out. Elapsed since last time-step: 0.13033959991844313\n",
      "\u001b[2m\u001b[36m(RolloutWorker pid=15280)\u001b[0m   warnings.warn(f\"Time-step timed out. Elapsed since last time-step: {now - self.__t_end}\")\n"
     ]
    },
    {
     "name": "stdout",
     "output_type": "stream",
     "text": [
      "Loop:  387\n",
      "\u001b[2m\u001b[36m(RolloutWorker pid=15280)\u001b[0m reset triggered\n",
      "\u001b[2m\u001b[36m(RolloutWorker pid=15280)\u001b[0m reload save for track : 4\n"
     ]
    },
    {
     "name": "stderr",
     "output_type": "stream",
     "text": [
      "\u001b[2m\u001b[36m(RolloutWorker pid=15280)\u001b[0m c:\\Users\\nadir\\anaconda3\\envs\\GTAI2\\lib\\site-packages\\rtgym\\envs\\real_time_env.py:376: UserWarning: Time-step timed out. Elapsed since last time-step: 0.1363916999180219\n",
      "\u001b[2m\u001b[36m(RolloutWorker pid=15280)\u001b[0m   warnings.warn(f\"Time-step timed out. Elapsed since last time-step: {now - self.__t_end}\")\n"
     ]
    },
    {
     "name": "stdout",
     "output_type": "stream",
     "text": [
      "Loop:  388\n",
      "Loop:  389\n",
      "\u001b[2m\u001b[36m(RolloutWorker pid=15280)\u001b[0m reset triggered\n",
      "\u001b[2m\u001b[36m(RolloutWorker pid=15280)\u001b[0m reload save for track : 4\n"
     ]
    },
    {
     "name": "stderr",
     "output_type": "stream",
     "text": [
      "\u001b[2m\u001b[36m(RolloutWorker pid=15280)\u001b[0m c:\\Users\\nadir\\anaconda3\\envs\\GTAI2\\lib\\site-packages\\rtgym\\envs\\real_time_env.py:376: UserWarning: Time-step timed out. Elapsed since last time-step: 0.14330749991859193\n",
      "\u001b[2m\u001b[36m(RolloutWorker pid=15280)\u001b[0m   warnings.warn(f\"Time-step timed out. Elapsed since last time-step: {now - self.__t_end}\")\n"
     ]
    },
    {
     "name": "stdout",
     "output_type": "stream",
     "text": [
      "Loop:  390\n",
      "Saved 390\n",
      "\u001b[2m\u001b[36m(RolloutWorker pid=15280)\u001b[0m reset triggered\n",
      "\u001b[2m\u001b[36m(RolloutWorker pid=15280)\u001b[0m reload save for track : 4\n"
     ]
    },
    {
     "name": "stderr",
     "output_type": "stream",
     "text": [
      "\u001b[2m\u001b[36m(RolloutWorker pid=15280)\u001b[0m c:\\Users\\nadir\\anaconda3\\envs\\GTAI2\\lib\\site-packages\\rtgym\\envs\\real_time_env.py:376: UserWarning: Time-step timed out. Elapsed since last time-step: 0.13677449991882895\n",
      "\u001b[2m\u001b[36m(RolloutWorker pid=15280)\u001b[0m   warnings.warn(f\"Time-step timed out. Elapsed since last time-step: {now - self.__t_end}\")\n"
     ]
    },
    {
     "name": "stdout",
     "output_type": "stream",
     "text": [
      "Loop:  391\n",
      "Loop:  392\n",
      "\u001b[2m\u001b[36m(RolloutWorker pid=15280)\u001b[0m reset triggered\n",
      "\u001b[2m\u001b[36m(RolloutWorker pid=15280)\u001b[0m reload save for track : 4\n"
     ]
    },
    {
     "name": "stderr",
     "output_type": "stream",
     "text": [
      "\u001b[2m\u001b[36m(RolloutWorker pid=15280)\u001b[0m c:\\Users\\nadir\\anaconda3\\envs\\GTAI2\\lib\\site-packages\\rtgym\\envs\\real_time_env.py:376: UserWarning: Time-step timed out. Elapsed since last time-step: 0.17121309991853195\n",
      "\u001b[2m\u001b[36m(RolloutWorker pid=15280)\u001b[0m   warnings.warn(f\"Time-step timed out. Elapsed since last time-step: {now - self.__t_end}\")\n"
     ]
    },
    {
     "name": "stdout",
     "output_type": "stream",
     "text": [
      "Loop:  393\n",
      "\u001b[2m\u001b[36m(RolloutWorker pid=15280)\u001b[0m reset triggered\n",
      "\u001b[2m\u001b[36m(RolloutWorker pid=15280)\u001b[0m reload save for track : 4\n"
     ]
    },
    {
     "name": "stderr",
     "output_type": "stream",
     "text": [
      "\u001b[2m\u001b[36m(RolloutWorker pid=15280)\u001b[0m c:\\Users\\nadir\\anaconda3\\envs\\GTAI2\\lib\\site-packages\\rtgym\\envs\\real_time_env.py:376: UserWarning: Time-step timed out. Elapsed since last time-step: 0.16962249991865974\n",
      "\u001b[2m\u001b[36m(RolloutWorker pid=15280)\u001b[0m   warnings.warn(f\"Time-step timed out. Elapsed since last time-step: {now - self.__t_end}\")\n"
     ]
    },
    {
     "name": "stdout",
     "output_type": "stream",
     "text": [
      "Loop:  394\n",
      "\u001b[2m\u001b[36m(RolloutWorker pid=15280)\u001b[0m reset triggered\n",
      "\u001b[2m\u001b[36m(RolloutWorker pid=15280)\u001b[0m reload save for track : 4\n"
     ]
    },
    {
     "name": "stderr",
     "output_type": "stream",
     "text": [
      "\u001b[2m\u001b[36m(RolloutWorker pid=15280)\u001b[0m c:\\Users\\nadir\\anaconda3\\envs\\GTAI2\\lib\\site-packages\\rtgym\\envs\\real_time_env.py:376: UserWarning: Time-step timed out. Elapsed since last time-step: 0.15677049991791137\n",
      "\u001b[2m\u001b[36m(RolloutWorker pid=15280)\u001b[0m   warnings.warn(f\"Time-step timed out. Elapsed since last time-step: {now - self.__t_end}\")\n"
     ]
    },
    {
     "name": "stdout",
     "output_type": "stream",
     "text": [
      "Loop:  395\n",
      "Loop:  396\n",
      "\u001b[2m\u001b[36m(RolloutWorker pid=15280)\u001b[0m reset triggered\n",
      "\u001b[2m\u001b[36m(RolloutWorker pid=15280)\u001b[0m reload save for track : 4\n"
     ]
    },
    {
     "name": "stderr",
     "output_type": "stream",
     "text": [
      "\u001b[2m\u001b[36m(RolloutWorker pid=15280)\u001b[0m c:\\Users\\nadir\\anaconda3\\envs\\GTAI2\\lib\\site-packages\\rtgym\\envs\\real_time_env.py:376: UserWarning: Time-step timed out. Elapsed since last time-step: 0.13265959991895215\n",
      "\u001b[2m\u001b[36m(RolloutWorker pid=15280)\u001b[0m   warnings.warn(f\"Time-step timed out. Elapsed since last time-step: {now - self.__t_end}\")\n"
     ]
    },
    {
     "name": "stdout",
     "output_type": "stream",
     "text": [
      "Loop:  397\n",
      "\u001b[2m\u001b[36m(RolloutWorker pid=15280)\u001b[0m reset triggered\n",
      "\u001b[2m\u001b[36m(RolloutWorker pid=15280)\u001b[0m reload save for track : 4\n"
     ]
    },
    {
     "name": "stderr",
     "output_type": "stream",
     "text": [
      "\u001b[2m\u001b[36m(RolloutWorker pid=15280)\u001b[0m c:\\Users\\nadir\\anaconda3\\envs\\GTAI2\\lib\\site-packages\\rtgym\\envs\\real_time_env.py:376: UserWarning: Time-step timed out. Elapsed since last time-step: 0.1440531999187442\n",
      "\u001b[2m\u001b[36m(RolloutWorker pid=15280)\u001b[0m   warnings.warn(f\"Time-step timed out. Elapsed since last time-step: {now - self.__t_end}\")\n"
     ]
    },
    {
     "name": "stdout",
     "output_type": "stream",
     "text": [
      "Loop:  398\n",
      "Loop:  399\n",
      "\u001b[2m\u001b[36m(RolloutWorker pid=15280)\u001b[0m reset triggered\n",
      "\u001b[2m\u001b[36m(RolloutWorker pid=15280)\u001b[0m reload save for track : 4\n"
     ]
    },
    {
     "name": "stderr",
     "output_type": "stream",
     "text": [
      "\u001b[2m\u001b[36m(RolloutWorker pid=15280)\u001b[0m c:\\Users\\nadir\\anaconda3\\envs\\GTAI2\\lib\\site-packages\\rtgym\\envs\\real_time_env.py:376: UserWarning: Time-step timed out. Elapsed since last time-step: 0.1485295999182199\n",
      "\u001b[2m\u001b[36m(RolloutWorker pid=15280)\u001b[0m   warnings.warn(f\"Time-step timed out. Elapsed since last time-step: {now - self.__t_end}\")\n"
     ]
    },
    {
     "name": "stdout",
     "output_type": "stream",
     "text": [
      "Loop:  400\n",
      "Saved 400\n"
     ]
    },
    {
     "name": "stderr",
     "output_type": "stream",
     "text": [
      "\u001b[2m\u001b[36m(RolloutWorker pid=15280)\u001b[0m c:\\Users\\nadir\\anaconda3\\envs\\GTAI2\\lib\\site-packages\\rtgym\\envs\\real_time_env.py:376: UserWarning: Time-step timed out. Elapsed since last time-step: 0.13089639991812874\n",
      "\u001b[2m\u001b[36m(RolloutWorker pid=15280)\u001b[0m   warnings.warn(f\"Time-step timed out. Elapsed since last time-step: {now - self.__t_end}\")\n"
     ]
    },
    {
     "name": "stdout",
     "output_type": "stream",
     "text": [
      "\u001b[2m\u001b[36m(RolloutWorker pid=15280)\u001b[0m reset triggered\n",
      "\u001b[2m\u001b[36m(RolloutWorker pid=15280)\u001b[0m reload save for track : 4\n",
      "Loop:  401\n",
      "Loop:  402\n",
      "\u001b[2m\u001b[36m(RolloutWorker pid=15280)\u001b[0m reset triggered\n",
      "\u001b[2m\u001b[36m(RolloutWorker pid=15280)\u001b[0m reload save for track : 4\n"
     ]
    },
    {
     "name": "stderr",
     "output_type": "stream",
     "text": [
      "\u001b[2m\u001b[36m(RolloutWorker pid=15280)\u001b[0m c:\\Users\\nadir\\anaconda3\\envs\\GTAI2\\lib\\site-packages\\rtgym\\envs\\real_time_env.py:376: UserWarning: Time-step timed out. Elapsed since last time-step: 0.13661099991895753\n",
      "\u001b[2m\u001b[36m(RolloutWorker pid=15280)\u001b[0m   warnings.warn(f\"Time-step timed out. Elapsed since last time-step: {now - self.__t_end}\")\n"
     ]
    },
    {
     "name": "stdout",
     "output_type": "stream",
     "text": [
      "Loop:  403\n",
      "\u001b[2m\u001b[36m(RolloutWorker pid=15280)\u001b[0m reset triggered\n",
      "\u001b[2m\u001b[36m(RolloutWorker pid=15280)\u001b[0m reload save for track : 4\n"
     ]
    },
    {
     "name": "stderr",
     "output_type": "stream",
     "text": [
      "\u001b[2m\u001b[36m(RolloutWorker pid=15280)\u001b[0m c:\\Users\\nadir\\anaconda3\\envs\\GTAI2\\lib\\site-packages\\rtgym\\envs\\real_time_env.py:376: UserWarning: Time-step timed out. Elapsed since last time-step: 0.12371359991811914\n",
      "\u001b[2m\u001b[36m(RolloutWorker pid=15280)\u001b[0m   warnings.warn(f\"Time-step timed out. Elapsed since last time-step: {now - self.__t_end}\")\n"
     ]
    },
    {
     "name": "stdout",
     "output_type": "stream",
     "text": [
      "Loop:  404\n",
      "Loop:  405\n",
      "\u001b[2m\u001b[36m(RolloutWorker pid=15280)\u001b[0m reset triggered\n",
      "\u001b[2m\u001b[36m(RolloutWorker pid=15280)\u001b[0m reload save for track : 4\n"
     ]
    },
    {
     "name": "stderr",
     "output_type": "stream",
     "text": [
      "\u001b[2m\u001b[36m(RolloutWorker pid=15280)\u001b[0m c:\\Users\\nadir\\anaconda3\\envs\\GTAI2\\lib\\site-packages\\rtgym\\envs\\real_time_env.py:376: UserWarning: Time-step timed out. Elapsed since last time-step: 0.14942549991883425\n",
      "\u001b[2m\u001b[36m(RolloutWorker pid=15280)\u001b[0m   warnings.warn(f\"Time-step timed out. Elapsed since last time-step: {now - self.__t_end}\")\n"
     ]
    },
    {
     "name": "stdout",
     "output_type": "stream",
     "text": [
      "Loop:  406\n",
      "\u001b[2m\u001b[36m(RolloutWorker pid=15280)\u001b[0m reset triggered\n",
      "\u001b[2m\u001b[36m(RolloutWorker pid=15280)\u001b[0m reload save for track : 4\n"
     ]
    },
    {
     "name": "stderr",
     "output_type": "stream",
     "text": [
      "\u001b[2m\u001b[36m(RolloutWorker pid=15280)\u001b[0m c:\\Users\\nadir\\anaconda3\\envs\\GTAI2\\lib\\site-packages\\rtgym\\envs\\real_time_env.py:376: UserWarning: Time-step timed out. Elapsed since last time-step: 0.14025619991843996\n",
      "\u001b[2m\u001b[36m(RolloutWorker pid=15280)\u001b[0m   warnings.warn(f\"Time-step timed out. Elapsed since last time-step: {now - self.__t_end}\")\n"
     ]
    },
    {
     "name": "stdout",
     "output_type": "stream",
     "text": [
      "Loop:  407\n",
      "\u001b[2m\u001b[36m(RolloutWorker pid=15280)\u001b[0m reset triggered\n",
      "\u001b[2m\u001b[36m(RolloutWorker pid=15280)\u001b[0m reload save for track : 4\n"
     ]
    },
    {
     "name": "stderr",
     "output_type": "stream",
     "text": [
      "\u001b[2m\u001b[36m(RolloutWorker pid=15280)\u001b[0m c:\\Users\\nadir\\anaconda3\\envs\\GTAI2\\lib\\site-packages\\rtgym\\envs\\real_time_env.py:376: UserWarning: Time-step timed out. Elapsed since last time-step: 0.1392590999184904\n",
      "\u001b[2m\u001b[36m(RolloutWorker pid=15280)\u001b[0m   warnings.warn(f\"Time-step timed out. Elapsed since last time-step: {now - self.__t_end}\")\n"
     ]
    },
    {
     "name": "stdout",
     "output_type": "stream",
     "text": [
      "Loop:  408\n",
      "Loop:  409\n",
      "\u001b[2m\u001b[36m(RolloutWorker pid=15280)\u001b[0m reset triggered\n",
      "\u001b[2m\u001b[36m(RolloutWorker pid=15280)\u001b[0m reload save for track : 4\n"
     ]
    },
    {
     "name": "stderr",
     "output_type": "stream",
     "text": [
      "\u001b[2m\u001b[36m(RolloutWorker pid=15280)\u001b[0m c:\\Users\\nadir\\anaconda3\\envs\\GTAI2\\lib\\site-packages\\rtgym\\envs\\real_time_env.py:376: UserWarning: Time-step timed out. Elapsed since last time-step: 0.15883699991809408\n",
      "\u001b[2m\u001b[36m(RolloutWorker pid=15280)\u001b[0m   warnings.warn(f\"Time-step timed out. Elapsed since last time-step: {now - self.__t_end}\")\n"
     ]
    },
    {
     "name": "stdout",
     "output_type": "stream",
     "text": [
      "Loop:  410\n",
      "Saved 410\n",
      "\u001b[2m\u001b[36m(RolloutWorker pid=15280)\u001b[0m reset triggered\n",
      "\u001b[2m\u001b[36m(RolloutWorker pid=15280)\u001b[0m reload save for track : 4\n"
     ]
    },
    {
     "name": "stderr",
     "output_type": "stream",
     "text": [
      "\u001b[2m\u001b[36m(RolloutWorker pid=15280)\u001b[0m c:\\Users\\nadir\\anaconda3\\envs\\GTAI2\\lib\\site-packages\\rtgym\\envs\\real_time_env.py:376: UserWarning: Time-step timed out. Elapsed since last time-step: 0.1650215999188731\n",
      "\u001b[2m\u001b[36m(RolloutWorker pid=15280)\u001b[0m   warnings.warn(f\"Time-step timed out. Elapsed since last time-step: {now - self.__t_end}\")\n"
     ]
    },
    {
     "name": "stdout",
     "output_type": "stream",
     "text": [
      "Loop:  411\n",
      "Loop:  412\n",
      "\u001b[2m\u001b[36m(RolloutWorker pid=15280)\u001b[0m reset triggered\n",
      "\u001b[2m\u001b[36m(RolloutWorker pid=15280)\u001b[0m reload save for track : 4\n"
     ]
    },
    {
     "name": "stderr",
     "output_type": "stream",
     "text": [
      "\u001b[2m\u001b[36m(RolloutWorker pid=15280)\u001b[0m c:\\Users\\nadir\\anaconda3\\envs\\GTAI2\\lib\\site-packages\\rtgym\\envs\\real_time_env.py:376: UserWarning: Time-step timed out. Elapsed since last time-step: 0.12720819991864118\n",
      "\u001b[2m\u001b[36m(RolloutWorker pid=15280)\u001b[0m   warnings.warn(f\"Time-step timed out. Elapsed since last time-step: {now - self.__t_end}\")\n"
     ]
    },
    {
     "name": "stdout",
     "output_type": "stream",
     "text": [
      "Loop:  413\n",
      "\u001b[2m\u001b[36m(RolloutWorker pid=15280)\u001b[0m reset triggered\n",
      "\u001b[2m\u001b[36m(RolloutWorker pid=15280)\u001b[0m reload save for track : 4\n"
     ]
    },
    {
     "name": "stderr",
     "output_type": "stream",
     "text": [
      "\u001b[2m\u001b[36m(RolloutWorker pid=15280)\u001b[0m c:\\Users\\nadir\\anaconda3\\envs\\GTAI2\\lib\\site-packages\\rtgym\\envs\\real_time_env.py:376: UserWarning: Time-step timed out. Elapsed since last time-step: 0.12945279991799907\n",
      "\u001b[2m\u001b[36m(RolloutWorker pid=15280)\u001b[0m   warnings.warn(f\"Time-step timed out. Elapsed since last time-step: {now - self.__t_end}\")\n"
     ]
    },
    {
     "name": "stdout",
     "output_type": "stream",
     "text": [
      "Loop:  414\n",
      "Loop:  415\n",
      "\u001b[2m\u001b[36m(RolloutWorker pid=15280)\u001b[0m reset triggered\n",
      "\u001b[2m\u001b[36m(RolloutWorker pid=15280)\u001b[0m reload save for track : 4\n"
     ]
    },
    {
     "name": "stderr",
     "output_type": "stream",
     "text": [
      "\u001b[2m\u001b[36m(RolloutWorker pid=15280)\u001b[0m c:\\Users\\nadir\\anaconda3\\envs\\GTAI2\\lib\\site-packages\\rtgym\\envs\\real_time_env.py:376: UserWarning: Time-step timed out. Elapsed since last time-step: 0.13768819991855707\n",
      "\u001b[2m\u001b[36m(RolloutWorker pid=15280)\u001b[0m   warnings.warn(f\"Time-step timed out. Elapsed since last time-step: {now - self.__t_end}\")\n",
      "\u001b[2m\u001b[36m(RolloutWorker pid=15280)\u001b[0m c:\\Users\\nadir\\anaconda3\\envs\\GTAI2\\lib\\site-packages\\rtgym\\envs\\real_time_env.py:376: UserWarning: Time-step timed out. Elapsed since last time-step: 0.1324075999937122\n",
      "\u001b[2m\u001b[36m(RolloutWorker pid=15280)\u001b[0m   warnings.warn(f\"Time-step timed out. Elapsed since last time-step: {now - self.__t_end}\")\n"
     ]
    },
    {
     "name": "stdout",
     "output_type": "stream",
     "text": [
      "Loop:  416\n",
      "\u001b[2m\u001b[36m(RolloutWorker pid=15280)\u001b[0m reset triggered\n",
      "\u001b[2m\u001b[36m(RolloutWorker pid=15280)\u001b[0m reload save for track : 4\n"
     ]
    },
    {
     "name": "stderr",
     "output_type": "stream",
     "text": [
      "\u001b[2m\u001b[36m(RolloutWorker pid=15280)\u001b[0m c:\\Users\\nadir\\anaconda3\\envs\\GTAI2\\lib\\site-packages\\rtgym\\envs\\real_time_env.py:376: UserWarning: Time-step timed out. Elapsed since last time-step: 0.1478361999252229\n",
      "\u001b[2m\u001b[36m(RolloutWorker pid=15280)\u001b[0m   warnings.warn(f\"Time-step timed out. Elapsed since last time-step: {now - self.__t_end}\")\n"
     ]
    },
    {
     "name": "stdout",
     "output_type": "stream",
     "text": [
      "Loop:  417\n",
      "Loop:  418\n",
      "\u001b[2m\u001b[36m(RolloutWorker pid=15280)\u001b[0m reset triggered\n",
      "\u001b[2m\u001b[36m(RolloutWorker pid=15280)\u001b[0m reload save for track : 4\n"
     ]
    },
    {
     "name": "stderr",
     "output_type": "stream",
     "text": [
      "\u001b[2m\u001b[36m(RolloutWorker pid=15280)\u001b[0m c:\\Users\\nadir\\anaconda3\\envs\\GTAI2\\lib\\site-packages\\rtgym\\envs\\real_time_env.py:376: UserWarning: Time-step timed out. Elapsed since last time-step: 0.1702613999186724\n",
      "\u001b[2m\u001b[36m(RolloutWorker pid=15280)\u001b[0m   warnings.warn(f\"Time-step timed out. Elapsed since last time-step: {now - self.__t_end}\")\n"
     ]
    },
    {
     "name": "stdout",
     "output_type": "stream",
     "text": [
      "Loop:  419\n",
      "\u001b[2m\u001b[36m(RolloutWorker pid=15280)\u001b[0m reset triggered\n",
      "\u001b[2m\u001b[36m(RolloutWorker pid=15280)\u001b[0m reload save for track : 4\n"
     ]
    },
    {
     "name": "stderr",
     "output_type": "stream",
     "text": [
      "\u001b[2m\u001b[36m(RolloutWorker pid=15280)\u001b[0m c:\\Users\\nadir\\anaconda3\\envs\\GTAI2\\lib\\site-packages\\rtgym\\envs\\real_time_env.py:376: UserWarning: Time-step timed out. Elapsed since last time-step: 0.15221439991819352\n",
      "\u001b[2m\u001b[36m(RolloutWorker pid=15280)\u001b[0m   warnings.warn(f\"Time-step timed out. Elapsed since last time-step: {now - self.__t_end}\")\n"
     ]
    },
    {
     "name": "stdout",
     "output_type": "stream",
     "text": [
      "Loop:  420\n",
      "Saved 420\n",
      "\u001b[2m\u001b[36m(RolloutWorker pid=15280)\u001b[0m reset triggered\n",
      "\u001b[2m\u001b[36m(RolloutWorker pid=15280)\u001b[0m reload save for track : 4\n"
     ]
    },
    {
     "name": "stderr",
     "output_type": "stream",
     "text": [
      "\u001b[2m\u001b[36m(RolloutWorker pid=15280)\u001b[0m c:\\Users\\nadir\\anaconda3\\envs\\GTAI2\\lib\\site-packages\\rtgym\\envs\\real_time_env.py:376: UserWarning: Time-step timed out. Elapsed since last time-step: 0.15072669991877774\n",
      "\u001b[2m\u001b[36m(RolloutWorker pid=15280)\u001b[0m   warnings.warn(f\"Time-step timed out. Elapsed since last time-step: {now - self.__t_end}\")\n"
     ]
    },
    {
     "name": "stdout",
     "output_type": "stream",
     "text": [
      "Loop:  421\n",
      "Loop:  422\n",
      "\u001b[2m\u001b[36m(RolloutWorker pid=15280)\u001b[0m reset triggered\n",
      "\u001b[2m\u001b[36m(RolloutWorker pid=15280)\u001b[0m reload save for track : 4\n"
     ]
    },
    {
     "name": "stderr",
     "output_type": "stream",
     "text": [
      "\u001b[2m\u001b[36m(RolloutWorker pid=15280)\u001b[0m c:\\Users\\nadir\\anaconda3\\envs\\GTAI2\\lib\\site-packages\\rtgym\\envs\\real_time_env.py:376: UserWarning: Time-step timed out. Elapsed since last time-step: 0.1470163999183569\n",
      "\u001b[2m\u001b[36m(RolloutWorker pid=15280)\u001b[0m   warnings.warn(f\"Time-step timed out. Elapsed since last time-step: {now - self.__t_end}\")\n"
     ]
    },
    {
     "name": "stdout",
     "output_type": "stream",
     "text": [
      "Loop:  423\n",
      "\u001b[2m\u001b[36m(RolloutWorker pid=15280)\u001b[0m reset triggered\n",
      "\u001b[2m\u001b[36m(RolloutWorker pid=15280)\u001b[0m reload save for track : 4\n"
     ]
    },
    {
     "name": "stderr",
     "output_type": "stream",
     "text": [
      "\u001b[2m\u001b[36m(RolloutWorker pid=15280)\u001b[0m c:\\Users\\nadir\\anaconda3\\envs\\GTAI2\\lib\\site-packages\\rtgym\\envs\\real_time_env.py:376: UserWarning: Time-step timed out. Elapsed since last time-step: 0.1521075999180539\n",
      "\u001b[2m\u001b[36m(RolloutWorker pid=15280)\u001b[0m   warnings.warn(f\"Time-step timed out. Elapsed since last time-step: {now - self.__t_end}\")\n"
     ]
    },
    {
     "name": "stdout",
     "output_type": "stream",
     "text": [
      "Loop:  424\n",
      "Loop:  425\n",
      "\u001b[2m\u001b[36m(RolloutWorker pid=15280)\u001b[0m reset triggered\n",
      "\u001b[2m\u001b[36m(RolloutWorker pid=15280)\u001b[0m reload save for track : 4\n"
     ]
    },
    {
     "name": "stderr",
     "output_type": "stream",
     "text": [
      "\u001b[2m\u001b[36m(RolloutWorker pid=15280)\u001b[0m c:\\Users\\nadir\\anaconda3\\envs\\GTAI2\\lib\\site-packages\\rtgym\\envs\\real_time_env.py:376: UserWarning: Time-step timed out. Elapsed since last time-step: 0.15059729991844506\n",
      "\u001b[2m\u001b[36m(RolloutWorker pid=15280)\u001b[0m   warnings.warn(f\"Time-step timed out. Elapsed since last time-step: {now - self.__t_end}\")\n"
     ]
    },
    {
     "name": "stdout",
     "output_type": "stream",
     "text": [
      "Loop:  426\n",
      "\u001b[2m\u001b[36m(RolloutWorker pid=15280)\u001b[0m reset triggered\n",
      "\u001b[2m\u001b[36m(RolloutWorker pid=15280)\u001b[0m reload save for track : 4\n"
     ]
    },
    {
     "name": "stderr",
     "output_type": "stream",
     "text": [
      "\u001b[2m\u001b[36m(RolloutWorker pid=15280)\u001b[0m c:\\Users\\nadir\\anaconda3\\envs\\GTAI2\\lib\\site-packages\\rtgym\\envs\\real_time_env.py:376: UserWarning: Time-step timed out. Elapsed since last time-step: 0.14780119991883112\n",
      "\u001b[2m\u001b[36m(RolloutWorker pid=15280)\u001b[0m   warnings.warn(f\"Time-step timed out. Elapsed since last time-step: {now - self.__t_end}\")\n"
     ]
    },
    {
     "name": "stdout",
     "output_type": "stream",
     "text": [
      "Loop:  427\n",
      "Loop:  428\n",
      "\u001b[2m\u001b[36m(RolloutWorker pid=15280)\u001b[0m reset triggered\n",
      "\u001b[2m\u001b[36m(RolloutWorker pid=15280)\u001b[0m reload save for track : 4\n"
     ]
    },
    {
     "name": "stderr",
     "output_type": "stream",
     "text": [
      "\u001b[2m\u001b[36m(RolloutWorker pid=15280)\u001b[0m c:\\Users\\nadir\\anaconda3\\envs\\GTAI2\\lib\\site-packages\\rtgym\\envs\\real_time_env.py:376: UserWarning: Time-step timed out. Elapsed since last time-step: 0.15165969991903694\n",
      "\u001b[2m\u001b[36m(RolloutWorker pid=15280)\u001b[0m   warnings.warn(f\"Time-step timed out. Elapsed since last time-step: {now - self.__t_end}\")\n"
     ]
    },
    {
     "name": "stdout",
     "output_type": "stream",
     "text": [
      "Loop:  429\n",
      "\u001b[2m\u001b[36m(RolloutWorker pid=15280)\u001b[0m reset triggered\n",
      "\u001b[2m\u001b[36m(RolloutWorker pid=15280)\u001b[0m reload save for track : 4\n"
     ]
    },
    {
     "name": "stderr",
     "output_type": "stream",
     "text": [
      "\u001b[2m\u001b[36m(RolloutWorker pid=15280)\u001b[0m c:\\Users\\nadir\\anaconda3\\envs\\GTAI2\\lib\\site-packages\\rtgym\\envs\\real_time_env.py:376: UserWarning: Time-step timed out. Elapsed since last time-step: 0.13738079991799168\n",
      "\u001b[2m\u001b[36m(RolloutWorker pid=15280)\u001b[0m   warnings.warn(f\"Time-step timed out. Elapsed since last time-step: {now - self.__t_end}\")\n"
     ]
    },
    {
     "name": "stdout",
     "output_type": "stream",
     "text": [
      "Loop:  430\n",
      "Saved 430\n",
      "Loop:  431\n",
      "\u001b[2m\u001b[36m(RolloutWorker pid=15280)\u001b[0m reset triggered\n",
      "\u001b[2m\u001b[36m(RolloutWorker pid=15280)\u001b[0m reload save for track : 4\n"
     ]
    },
    {
     "name": "stderr",
     "output_type": "stream",
     "text": [
      "\u001b[2m\u001b[36m(RolloutWorker pid=15280)\u001b[0m c:\\Users\\nadir\\anaconda3\\envs\\GTAI2\\lib\\site-packages\\rtgym\\envs\\real_time_env.py:376: UserWarning: Time-step timed out. Elapsed since last time-step: 0.14323309991868882\n",
      "\u001b[2m\u001b[36m(RolloutWorker pid=15280)\u001b[0m   warnings.warn(f\"Time-step timed out. Elapsed since last time-step: {now - self.__t_end}\")\n"
     ]
    },
    {
     "name": "stdout",
     "output_type": "stream",
     "text": [
      "Loop:  432\n",
      "\u001b[2m\u001b[36m(RolloutWorker pid=15280)\u001b[0m reset triggered\n",
      "\u001b[2m\u001b[36m(RolloutWorker pid=15280)\u001b[0m reload save for track : 4\n"
     ]
    },
    {
     "name": "stderr",
     "output_type": "stream",
     "text": [
      "\u001b[2m\u001b[36m(RolloutWorker pid=15280)\u001b[0m c:\\Users\\nadir\\anaconda3\\envs\\GTAI2\\lib\\site-packages\\rtgym\\envs\\real_time_env.py:376: UserWarning: Time-step timed out. Elapsed since last time-step: 0.15997749991856836\n",
      "\u001b[2m\u001b[36m(RolloutWorker pid=15280)\u001b[0m   warnings.warn(f\"Time-step timed out. Elapsed since last time-step: {now - self.__t_end}\")\n"
     ]
    },
    {
     "name": "stdout",
     "output_type": "stream",
     "text": [
      "Loop:  433\n",
      "\u001b[2m\u001b[36m(RolloutWorker pid=15280)\u001b[0m reset triggered\n",
      "\u001b[2m\u001b[36m(RolloutWorker pid=15280)\u001b[0m reload save for track : 4\n"
     ]
    },
    {
     "name": "stderr",
     "output_type": "stream",
     "text": [
      "\u001b[2m\u001b[36m(RolloutWorker pid=15280)\u001b[0m c:\\Users\\nadir\\anaconda3\\envs\\GTAI2\\lib\\site-packages\\rtgym\\envs\\real_time_env.py:376: UserWarning: Time-step timed out. Elapsed since last time-step: 0.15760769991811685\n",
      "\u001b[2m\u001b[36m(RolloutWorker pid=15280)\u001b[0m   warnings.warn(f\"Time-step timed out. Elapsed since last time-step: {now - self.__t_end}\")\n"
     ]
    },
    {
     "name": "stdout",
     "output_type": "stream",
     "text": [
      "Loop:  434\n",
      "Loop:  435\n",
      "\u001b[2m\u001b[36m(RolloutWorker pid=15280)\u001b[0m reset triggered\n",
      "\u001b[2m\u001b[36m(RolloutWorker pid=15280)\u001b[0m reload save for track : 4\n"
     ]
    },
    {
     "name": "stderr",
     "output_type": "stream",
     "text": [
      "\u001b[2m\u001b[36m(RolloutWorker pid=15280)\u001b[0m c:\\Users\\nadir\\anaconda3\\envs\\GTAI2\\lib\\site-packages\\rtgym\\envs\\real_time_env.py:376: UserWarning: Time-step timed out. Elapsed since last time-step: 0.12253199991846486\n",
      "\u001b[2m\u001b[36m(RolloutWorker pid=15280)\u001b[0m   warnings.warn(f\"Time-step timed out. Elapsed since last time-step: {now - self.__t_end}\")\n"
     ]
    },
    {
     "name": "stdout",
     "output_type": "stream",
     "text": [
      "Loop:  436\n",
      "\u001b[2m\u001b[36m(RolloutWorker pid=15280)\u001b[0m reset triggered\n",
      "\u001b[2m\u001b[36m(RolloutWorker pid=15280)\u001b[0m reload save for track : 4\n"
     ]
    },
    {
     "name": "stderr",
     "output_type": "stream",
     "text": [
      "\u001b[2m\u001b[36m(RolloutWorker pid=15280)\u001b[0m c:\\Users\\nadir\\anaconda3\\envs\\GTAI2\\lib\\site-packages\\rtgym\\envs\\real_time_env.py:376: UserWarning: Time-step timed out. Elapsed since last time-step: 0.15756919991872564\n",
      "\u001b[2m\u001b[36m(RolloutWorker pid=15280)\u001b[0m   warnings.warn(f\"Time-step timed out. Elapsed since last time-step: {now - self.__t_end}\")\n"
     ]
    },
    {
     "name": "stdout",
     "output_type": "stream",
     "text": [
      "Loop:  437\n",
      "Loop:  438\n",
      "\u001b[2m\u001b[36m(RolloutWorker pid=15280)\u001b[0m reset triggered\n",
      "\u001b[2m\u001b[36m(RolloutWorker pid=15280)\u001b[0m reload save for track : 4\n"
     ]
    },
    {
     "name": "stderr",
     "output_type": "stream",
     "text": [
      "\u001b[2m\u001b[36m(RolloutWorker pid=15280)\u001b[0m c:\\Users\\nadir\\anaconda3\\envs\\GTAI2\\lib\\site-packages\\rtgym\\envs\\real_time_env.py:376: UserWarning: Time-step timed out. Elapsed since last time-step: 0.14303439991817868\n",
      "\u001b[2m\u001b[36m(RolloutWorker pid=15280)\u001b[0m   warnings.warn(f\"Time-step timed out. Elapsed since last time-step: {now - self.__t_end}\")\n"
     ]
    },
    {
     "name": "stdout",
     "output_type": "stream",
     "text": [
      "Loop:  439\n",
      "\u001b[2m\u001b[36m(RolloutWorker pid=15280)\u001b[0m reset triggered\n",
      "\u001b[2m\u001b[36m(RolloutWorker pid=15280)\u001b[0m reload save for track : 4\n"
     ]
    },
    {
     "name": "stderr",
     "output_type": "stream",
     "text": [
      "\u001b[2m\u001b[36m(RolloutWorker pid=15280)\u001b[0m c:\\Users\\nadir\\anaconda3\\envs\\GTAI2\\lib\\site-packages\\rtgym\\envs\\real_time_env.py:376: UserWarning: Time-step timed out. Elapsed since last time-step: 0.1371851999192586\n",
      "\u001b[2m\u001b[36m(RolloutWorker pid=15280)\u001b[0m   warnings.warn(f\"Time-step timed out. Elapsed since last time-step: {now - self.__t_end}\")\n"
     ]
    },
    {
     "name": "stdout",
     "output_type": "stream",
     "text": [
      "Loop:  440\n",
      "Saved 440\n",
      "Loop:  441\n",
      "\u001b[2m\u001b[36m(RolloutWorker pid=15280)\u001b[0m reset triggered\n",
      "\u001b[2m\u001b[36m(RolloutWorker pid=15280)\u001b[0m reload save for track : 4\n"
     ]
    },
    {
     "name": "stderr",
     "output_type": "stream",
     "text": [
      "\u001b[2m\u001b[36m(RolloutWorker pid=15280)\u001b[0m c:\\Users\\nadir\\anaconda3\\envs\\GTAI2\\lib\\site-packages\\rtgym\\envs\\real_time_env.py:376: UserWarning: Time-step timed out. Elapsed since last time-step: 0.14983809991827002\n",
      "\u001b[2m\u001b[36m(RolloutWorker pid=15280)\u001b[0m   warnings.warn(f\"Time-step timed out. Elapsed since last time-step: {now - self.__t_end}\")\n"
     ]
    },
    {
     "name": "stdout",
     "output_type": "stream",
     "text": [
      "Loop:  442\n",
      "\u001b[2m\u001b[36m(RolloutWorker pid=15280)\u001b[0m reset triggered\n",
      "\u001b[2m\u001b[36m(RolloutWorker pid=15280)\u001b[0m reload save for track : 4\n"
     ]
    },
    {
     "name": "stderr",
     "output_type": "stream",
     "text": [
      "\u001b[2m\u001b[36m(RolloutWorker pid=15280)\u001b[0m c:\\Users\\nadir\\anaconda3\\envs\\GTAI2\\lib\\site-packages\\rtgym\\envs\\real_time_env.py:376: UserWarning: Time-step timed out. Elapsed since last time-step: 0.14224859991827543\n",
      "\u001b[2m\u001b[36m(RolloutWorker pid=15280)\u001b[0m   warnings.warn(f\"Time-step timed out. Elapsed since last time-step: {now - self.__t_end}\")\n"
     ]
    },
    {
     "name": "stdout",
     "output_type": "stream",
     "text": [
      "Loop:  443\n",
      "Loop:  444\n",
      "\u001b[2m\u001b[36m(RolloutWorker pid=15280)\u001b[0m reset triggered\n",
      "\u001b[2m\u001b[36m(RolloutWorker pid=15280)\u001b[0m reload save for track : 4\n"
     ]
    },
    {
     "name": "stderr",
     "output_type": "stream",
     "text": [
      "\u001b[2m\u001b[36m(RolloutWorker pid=15280)\u001b[0m c:\\Users\\nadir\\anaconda3\\envs\\GTAI2\\lib\\site-packages\\rtgym\\envs\\real_time_env.py:376: UserWarning: Time-step timed out. Elapsed since last time-step: 0.13887059991884598\n",
      "\u001b[2m\u001b[36m(RolloutWorker pid=15280)\u001b[0m   warnings.warn(f\"Time-step timed out. Elapsed since last time-step: {now - self.__t_end}\")\n"
     ]
    },
    {
     "name": "stdout",
     "output_type": "stream",
     "text": [
      "Loop:  445\n",
      "\u001b[2m\u001b[36m(RolloutWorker pid=15280)\u001b[0m reset triggered\n",
      "\u001b[2m\u001b[36m(RolloutWorker pid=15280)\u001b[0m reload save for track : 4\n"
     ]
    },
    {
     "name": "stderr",
     "output_type": "stream",
     "text": [
      "\u001b[2m\u001b[36m(RolloutWorker pid=15280)\u001b[0m c:\\Users\\nadir\\anaconda3\\envs\\GTAI2\\lib\\site-packages\\rtgym\\envs\\real_time_env.py:376: UserWarning: Time-step timed out. Elapsed since last time-step: 0.15110029991865304\n",
      "\u001b[2m\u001b[36m(RolloutWorker pid=15280)\u001b[0m   warnings.warn(f\"Time-step timed out. Elapsed since last time-step: {now - self.__t_end}\")\n"
     ]
    },
    {
     "name": "stdout",
     "output_type": "stream",
     "text": [
      "Loop:  446\n",
      "\u001b[2m\u001b[36m(RolloutWorker pid=15280)\u001b[0m reset triggered\n",
      "\u001b[2m\u001b[36m(RolloutWorker pid=15280)\u001b[0m reload save for track : 4\n"
     ]
    },
    {
     "name": "stderr",
     "output_type": "stream",
     "text": [
      "\u001b[2m\u001b[36m(RolloutWorker pid=15280)\u001b[0m c:\\Users\\nadir\\anaconda3\\envs\\GTAI2\\lib\\site-packages\\rtgym\\envs\\real_time_env.py:376: UserWarning: Time-step timed out. Elapsed since last time-step: 0.14818599991849624\n",
      "\u001b[2m\u001b[36m(RolloutWorker pid=15280)\u001b[0m   warnings.warn(f\"Time-step timed out. Elapsed since last time-step: {now - self.__t_end}\")\n"
     ]
    },
    {
     "name": "stdout",
     "output_type": "stream",
     "text": [
      "Loop:  447\n",
      "Loop:  448\n",
      "\u001b[2m\u001b[36m(RolloutWorker pid=15280)\u001b[0m reset triggered\n",
      "\u001b[2m\u001b[36m(RolloutWorker pid=15280)\u001b[0m reload save for track : 4\n"
     ]
    },
    {
     "name": "stderr",
     "output_type": "stream",
     "text": [
      "\u001b[2m\u001b[36m(RolloutWorker pid=15280)\u001b[0m c:\\Users\\nadir\\anaconda3\\envs\\GTAI2\\lib\\site-packages\\rtgym\\envs\\real_time_env.py:376: UserWarning: Time-step timed out. Elapsed since last time-step: 0.13204289991790574\n",
      "\u001b[2m\u001b[36m(RolloutWorker pid=15280)\u001b[0m   warnings.warn(f\"Time-step timed out. Elapsed since last time-step: {now - self.__t_end}\")\n"
     ]
    },
    {
     "name": "stdout",
     "output_type": "stream",
     "text": [
      "Loop:  449\n",
      "\u001b[2m\u001b[36m(RolloutWorker pid=15280)\u001b[0m reset triggered\n",
      "\u001b[2m\u001b[36m(RolloutWorker pid=15280)\u001b[0m reload save for track : 4\n"
     ]
    },
    {
     "name": "stderr",
     "output_type": "stream",
     "text": [
      "\u001b[2m\u001b[36m(RolloutWorker pid=15280)\u001b[0m c:\\Users\\nadir\\anaconda3\\envs\\GTAI2\\lib\\site-packages\\rtgym\\envs\\real_time_env.py:376: UserWarning: Time-step timed out. Elapsed since last time-step: 0.14765059991896123\n",
      "\u001b[2m\u001b[36m(RolloutWorker pid=15280)\u001b[0m   warnings.warn(f\"Time-step timed out. Elapsed since last time-step: {now - self.__t_end}\")\n"
     ]
    },
    {
     "name": "stdout",
     "output_type": "stream",
     "text": [
      "Loop:  450\n",
      "Saved 450\n",
      "Loop:  451\n",
      "\u001b[2m\u001b[36m(RolloutWorker pid=15280)\u001b[0m reset triggered\n",
      "\u001b[2m\u001b[36m(RolloutWorker pid=15280)\u001b[0m reload save for track : 4\n"
     ]
    },
    {
     "name": "stderr",
     "output_type": "stream",
     "text": [
      "\u001b[2m\u001b[36m(RolloutWorker pid=15280)\u001b[0m c:\\Users\\nadir\\anaconda3\\envs\\GTAI2\\lib\\site-packages\\rtgym\\envs\\real_time_env.py:376: UserWarning: Time-step timed out. Elapsed since last time-step: 0.17027399991820857\n",
      "\u001b[2m\u001b[36m(RolloutWorker pid=15280)\u001b[0m   warnings.warn(f\"Time-step timed out. Elapsed since last time-step: {now - self.__t_end}\")\n"
     ]
    },
    {
     "name": "stdout",
     "output_type": "stream",
     "text": [
      "Loop:  452\n",
      "\u001b[2m\u001b[36m(RolloutWorker pid=15280)\u001b[0m reset triggered\n",
      "\u001b[2m\u001b[36m(RolloutWorker pid=15280)\u001b[0m reload save for track : 4\n"
     ]
    },
    {
     "name": "stderr",
     "output_type": "stream",
     "text": [
      "\u001b[2m\u001b[36m(RolloutWorker pid=15280)\u001b[0m c:\\Users\\nadir\\anaconda3\\envs\\GTAI2\\lib\\site-packages\\rtgym\\envs\\real_time_env.py:376: UserWarning: Time-step timed out. Elapsed since last time-step: 0.1593653999188973\n",
      "\u001b[2m\u001b[36m(RolloutWorker pid=15280)\u001b[0m   warnings.warn(f\"Time-step timed out. Elapsed since last time-step: {now - self.__t_end}\")\n"
     ]
    },
    {
     "name": "stdout",
     "output_type": "stream",
     "text": [
      "Loop:  453\n"
     ]
    },
    {
     "name": "stderr",
     "output_type": "stream",
     "text": [
      "\u001b[2m\u001b[36m(RolloutWorker pid=15280)\u001b[0m c:\\Users\\nadir\\anaconda3\\envs\\GTAI2\\lib\\site-packages\\rtgym\\envs\\real_time_env.py:376: UserWarning: Time-step timed out. Elapsed since last time-step: 0.141936599944529\n",
      "\u001b[2m\u001b[36m(RolloutWorker pid=15280)\u001b[0m   warnings.warn(f\"Time-step timed out. Elapsed since last time-step: {now - self.__t_end}\")\n"
     ]
    },
    {
     "name": "stdout",
     "output_type": "stream",
     "text": [
      "Loop:  454\n",
      "\u001b[2m\u001b[36m(RolloutWorker pid=15280)\u001b[0m reset triggered\n",
      "\u001b[2m\u001b[36m(RolloutWorker pid=15280)\u001b[0m reload save for track : 4\n"
     ]
    },
    {
     "name": "stderr",
     "output_type": "stream",
     "text": [
      "\u001b[2m\u001b[36m(RolloutWorker pid=15280)\u001b[0m c:\\Users\\nadir\\anaconda3\\envs\\GTAI2\\lib\\site-packages\\rtgym\\envs\\real_time_env.py:376: UserWarning: Time-step timed out. Elapsed since last time-step: 0.12126349997379293\n",
      "\u001b[2m\u001b[36m(RolloutWorker pid=15280)\u001b[0m   warnings.warn(f\"Time-step timed out. Elapsed since last time-step: {now - self.__t_end}\")\n"
     ]
    },
    {
     "name": "stdout",
     "output_type": "stream",
     "text": [
      "Loop:  455\n",
      "\u001b[2m\u001b[36m(RolloutWorker pid=15280)\u001b[0m reset triggered\n",
      "\u001b[2m\u001b[36m(RolloutWorker pid=15280)\u001b[0m reload save for track : 4\n"
     ]
    },
    {
     "name": "stderr",
     "output_type": "stream",
     "text": [
      "\u001b[2m\u001b[36m(RolloutWorker pid=15280)\u001b[0m c:\\Users\\nadir\\anaconda3\\envs\\GTAI2\\lib\\site-packages\\rtgym\\envs\\real_time_env.py:376: UserWarning: Time-step timed out. Elapsed since last time-step: 0.1379909999186566\n",
      "\u001b[2m\u001b[36m(RolloutWorker pid=15280)\u001b[0m   warnings.warn(f\"Time-step timed out. Elapsed since last time-step: {now - self.__t_end}\")\n"
     ]
    },
    {
     "name": "stdout",
     "output_type": "stream",
     "text": [
      "Loop:  456\n",
      "Loop:  457\n",
      "\u001b[2m\u001b[36m(RolloutWorker pid=15280)\u001b[0m reset triggered\n",
      "\u001b[2m\u001b[36m(RolloutWorker pid=15280)\u001b[0m reload save for track : 4\n"
     ]
    },
    {
     "name": "stderr",
     "output_type": "stream",
     "text": [
      "\u001b[2m\u001b[36m(RolloutWorker pid=15280)\u001b[0m c:\\Users\\nadir\\anaconda3\\envs\\GTAI2\\lib\\site-packages\\rtgym\\envs\\real_time_env.py:376: UserWarning: Time-step timed out. Elapsed since last time-step: 0.1216051999181218\n",
      "\u001b[2m\u001b[36m(RolloutWorker pid=15280)\u001b[0m   warnings.warn(f\"Time-step timed out. Elapsed since last time-step: {now - self.__t_end}\")\n"
     ]
    },
    {
     "name": "stdout",
     "output_type": "stream",
     "text": [
      "Loop:  458\n",
      "\u001b[2m\u001b[36m(RolloutWorker pid=15280)\u001b[0m reset triggered\n",
      "\u001b[2m\u001b[36m(RolloutWorker pid=15280)\u001b[0m reload save for track : 4\n"
     ]
    },
    {
     "name": "stderr",
     "output_type": "stream",
     "text": [
      "\u001b[2m\u001b[36m(RolloutWorker pid=15280)\u001b[0m c:\\Users\\nadir\\anaconda3\\envs\\GTAI2\\lib\\site-packages\\rtgym\\envs\\real_time_env.py:376: UserWarning: Time-step timed out. Elapsed since last time-step: 0.14811939991886902\n",
      "\u001b[2m\u001b[36m(RolloutWorker pid=15280)\u001b[0m   warnings.warn(f\"Time-step timed out. Elapsed since last time-step: {now - self.__t_end}\")\n"
     ]
    },
    {
     "name": "stdout",
     "output_type": "stream",
     "text": [
      "Loop:  459\n",
      "Loop:  460\n",
      "Saved 460\n",
      "\u001b[2m\u001b[36m(RolloutWorker pid=15280)\u001b[0m reset triggered\n",
      "\u001b[2m\u001b[36m(RolloutWorker pid=15280)\u001b[0m reload save for track : 4\n"
     ]
    },
    {
     "name": "stderr",
     "output_type": "stream",
     "text": [
      "\u001b[2m\u001b[36m(RolloutWorker pid=15280)\u001b[0m c:\\Users\\nadir\\anaconda3\\envs\\GTAI2\\lib\\site-packages\\rtgym\\envs\\real_time_env.py:376: UserWarning: Time-step timed out. Elapsed since last time-step: 0.13882529991860793\n",
      "\u001b[2m\u001b[36m(RolloutWorker pid=15280)\u001b[0m   warnings.warn(f\"Time-step timed out. Elapsed since last time-step: {now - self.__t_end}\")\n"
     ]
    },
    {
     "name": "stdout",
     "output_type": "stream",
     "text": [
      "Loop:  461\n",
      "\u001b[2m\u001b[36m(RolloutWorker pid=15280)\u001b[0m reset triggered\n",
      "\u001b[2m\u001b[36m(RolloutWorker pid=15280)\u001b[0m reload save for track : 4\n"
     ]
    },
    {
     "name": "stderr",
     "output_type": "stream",
     "text": [
      "\u001b[2m\u001b[36m(RolloutWorker pid=15280)\u001b[0m c:\\Users\\nadir\\anaconda3\\envs\\GTAI2\\lib\\site-packages\\rtgym\\envs\\real_time_env.py:376: UserWarning: Time-step timed out. Elapsed since last time-step: 0.1409541999182693\n",
      "\u001b[2m\u001b[36m(RolloutWorker pid=15280)\u001b[0m   warnings.warn(f\"Time-step timed out. Elapsed since last time-step: {now - self.__t_end}\")\n"
     ]
    },
    {
     "name": "stdout",
     "output_type": "stream",
     "text": [
      "Loop:  462\n",
      "\u001b[2m\u001b[36m(RolloutWorker pid=15280)\u001b[0m reset triggered\n",
      "\u001b[2m\u001b[36m(RolloutWorker pid=15280)\u001b[0m reload save for track : 4\n"
     ]
    },
    {
     "name": "stderr",
     "output_type": "stream",
     "text": [
      "\u001b[2m\u001b[36m(RolloutWorker pid=15280)\u001b[0m c:\\Users\\nadir\\anaconda3\\envs\\GTAI2\\lib\\site-packages\\rtgym\\envs\\real_time_env.py:376: UserWarning: Time-step timed out. Elapsed since last time-step: 0.15047039991804922\n",
      "\u001b[2m\u001b[36m(RolloutWorker pid=15280)\u001b[0m   warnings.warn(f\"Time-step timed out. Elapsed since last time-step: {now - self.__t_end}\")\n"
     ]
    },
    {
     "name": "stdout",
     "output_type": "stream",
     "text": [
      "Loop:  463\n",
      "Loop:  464\n",
      "\u001b[2m\u001b[36m(RolloutWorker pid=15280)\u001b[0m reset triggered\n",
      "\u001b[2m\u001b[36m(RolloutWorker pid=15280)\u001b[0m reload save for track : 4\n"
     ]
    },
    {
     "name": "stderr",
     "output_type": "stream",
     "text": [
      "\u001b[2m\u001b[36m(RolloutWorker pid=15280)\u001b[0m c:\\Users\\nadir\\anaconda3\\envs\\GTAI2\\lib\\site-packages\\rtgym\\envs\\real_time_env.py:376: UserWarning: Time-step timed out. Elapsed since last time-step: 0.1521873999190575\n",
      "\u001b[2m\u001b[36m(RolloutWorker pid=15280)\u001b[0m   warnings.warn(f\"Time-step timed out. Elapsed since last time-step: {now - self.__t_end}\")\n"
     ]
    },
    {
     "name": "stdout",
     "output_type": "stream",
     "text": [
      "Loop:  465\n",
      "\u001b[2m\u001b[36m(RolloutWorker pid=15280)\u001b[0m reset triggered\n",
      "\u001b[2m\u001b[36m(RolloutWorker pid=15280)\u001b[0m reload save for track : 4\n"
     ]
    },
    {
     "name": "stderr",
     "output_type": "stream",
     "text": [
      "\u001b[2m\u001b[36m(RolloutWorker pid=15280)\u001b[0m c:\\Users\\nadir\\anaconda3\\envs\\GTAI2\\lib\\site-packages\\rtgym\\envs\\real_time_env.py:376: UserWarning: Time-step timed out. Elapsed since last time-step: 0.1508219999186622\n",
      "\u001b[2m\u001b[36m(RolloutWorker pid=15280)\u001b[0m   warnings.warn(f\"Time-step timed out. Elapsed since last time-step: {now - self.__t_end}\")\n"
     ]
    },
    {
     "name": "stdout",
     "output_type": "stream",
     "text": [
      "Loop:  466\n",
      "Loop:  467\n",
      "\u001b[2m\u001b[36m(RolloutWorker pid=15280)\u001b[0m reset triggered\n",
      "\u001b[2m\u001b[36m(RolloutWorker pid=15280)\u001b[0m reload save for track : 4\n"
     ]
    },
    {
     "name": "stderr",
     "output_type": "stream",
     "text": [
      "\u001b[2m\u001b[36m(RolloutWorker pid=15280)\u001b[0m c:\\Users\\nadir\\anaconda3\\envs\\GTAI2\\lib\\site-packages\\rtgym\\envs\\real_time_env.py:376: UserWarning: Time-step timed out. Elapsed since last time-step: 0.13931819991830707\n",
      "\u001b[2m\u001b[36m(RolloutWorker pid=15280)\u001b[0m   warnings.warn(f\"Time-step timed out. Elapsed since last time-step: {now - self.__t_end}\")\n"
     ]
    },
    {
     "name": "stdout",
     "output_type": "stream",
     "text": [
      "Loop:  468\n",
      "\u001b[2m\u001b[36m(RolloutWorker pid=15280)\u001b[0m reset triggered\n",
      "\u001b[2m\u001b[36m(RolloutWorker pid=15280)\u001b[0m reload save for track : 4\n"
     ]
    },
    {
     "name": "stderr",
     "output_type": "stream",
     "text": [
      "\u001b[2m\u001b[36m(RolloutWorker pid=15280)\u001b[0m c:\\Users\\nadir\\anaconda3\\envs\\GTAI2\\lib\\site-packages\\rtgym\\envs\\real_time_env.py:376: UserWarning: Time-step timed out. Elapsed since last time-step: 0.14020899991828628\n",
      "\u001b[2m\u001b[36m(RolloutWorker pid=15280)\u001b[0m   warnings.warn(f\"Time-step timed out. Elapsed since last time-step: {now - self.__t_end}\")\n"
     ]
    },
    {
     "name": "stdout",
     "output_type": "stream",
     "text": [
      "Loop:  469\n",
      "Loop:  470\n",
      "Saved 470\n",
      "\u001b[2m\u001b[36m(RolloutWorker pid=15280)\u001b[0m reset triggered\n",
      "\u001b[2m\u001b[36m(RolloutWorker pid=15280)\u001b[0m reload save for track : 4\n"
     ]
    },
    {
     "name": "stderr",
     "output_type": "stream",
     "text": [
      "\u001b[2m\u001b[36m(RolloutWorker pid=15280)\u001b[0m c:\\Users\\nadir\\anaconda3\\envs\\GTAI2\\lib\\site-packages\\rtgym\\envs\\real_time_env.py:376: UserWarning: Time-step timed out. Elapsed since last time-step: 0.1474468999185774\n",
      "\u001b[2m\u001b[36m(RolloutWorker pid=15280)\u001b[0m   warnings.warn(f\"Time-step timed out. Elapsed since last time-step: {now - self.__t_end}\")\n"
     ]
    },
    {
     "name": "stdout",
     "output_type": "stream",
     "text": [
      "Loop:  471\n",
      "\u001b[2m\u001b[36m(RolloutWorker pid=15280)\u001b[0m reset triggered\n",
      "\u001b[2m\u001b[36m(RolloutWorker pid=15280)\u001b[0m reload save for track : 4\n"
     ]
    },
    {
     "name": "stderr",
     "output_type": "stream",
     "text": [
      "\u001b[2m\u001b[36m(RolloutWorker pid=15280)\u001b[0m c:\\Users\\nadir\\anaconda3\\envs\\GTAI2\\lib\\site-packages\\rtgym\\envs\\real_time_env.py:376: UserWarning: Time-step timed out. Elapsed since last time-step: 0.14212759991823987\n",
      "\u001b[2m\u001b[36m(RolloutWorker pid=15280)\u001b[0m   warnings.warn(f\"Time-step timed out. Elapsed since last time-step: {now - self.__t_end}\")\n"
     ]
    },
    {
     "name": "stdout",
     "output_type": "stream",
     "text": [
      "Loop:  472\n",
      "Loop:  473\n",
      "\u001b[2m\u001b[36m(RolloutWorker pid=15280)\u001b[0m reset triggered\n",
      "\u001b[2m\u001b[36m(RolloutWorker pid=15280)\u001b[0m reload save for track : 4\n"
     ]
    },
    {
     "name": "stderr",
     "output_type": "stream",
     "text": [
      "\u001b[2m\u001b[36m(RolloutWorker pid=15280)\u001b[0m c:\\Users\\nadir\\anaconda3\\envs\\GTAI2\\lib\\site-packages\\rtgym\\envs\\real_time_env.py:376: UserWarning: Time-step timed out. Elapsed since last time-step: 0.15776739991906652\n",
      "\u001b[2m\u001b[36m(RolloutWorker pid=15280)\u001b[0m   warnings.warn(f\"Time-step timed out. Elapsed since last time-step: {now - self.__t_end}\")\n"
     ]
    },
    {
     "name": "stdout",
     "output_type": "stream",
     "text": [
      "Loop:  474\n",
      "\u001b[2m\u001b[36m(RolloutWorker pid=15280)\u001b[0m reset triggered\n",
      "\u001b[2m\u001b[36m(RolloutWorker pid=15280)\u001b[0m reload save for track : 4\n"
     ]
    },
    {
     "name": "stderr",
     "output_type": "stream",
     "text": [
      "\u001b[2m\u001b[36m(RolloutWorker pid=15280)\u001b[0m c:\\Users\\nadir\\anaconda3\\envs\\GTAI2\\lib\\site-packages\\rtgym\\envs\\real_time_env.py:376: UserWarning: Time-step timed out. Elapsed since last time-step: 0.12257009991844825\n",
      "\u001b[2m\u001b[36m(RolloutWorker pid=15280)\u001b[0m   warnings.warn(f\"Time-step timed out. Elapsed since last time-step: {now - self.__t_end}\")\n"
     ]
    },
    {
     "name": "stdout",
     "output_type": "stream",
     "text": [
      "Loop:  475\n",
      "\u001b[2m\u001b[36m(RolloutWorker pid=15280)\u001b[0m reset triggered\n",
      "\u001b[2m\u001b[36m(RolloutWorker pid=15280)\u001b[0m reload save for track : 4\n"
     ]
    },
    {
     "name": "stderr",
     "output_type": "stream",
     "text": [
      "\u001b[2m\u001b[36m(RolloutWorker pid=15280)\u001b[0m c:\\Users\\nadir\\anaconda3\\envs\\GTAI2\\lib\\site-packages\\rtgym\\envs\\real_time_env.py:376: UserWarning: Time-step timed out. Elapsed since last time-step: 0.1378185999183188\n",
      "\u001b[2m\u001b[36m(RolloutWorker pid=15280)\u001b[0m   warnings.warn(f\"Time-step timed out. Elapsed since last time-step: {now - self.__t_end}\")\n"
     ]
    },
    {
     "name": "stdout",
     "output_type": "stream",
     "text": [
      "Loop:  476\n",
      "Loop:  477\n",
      "\u001b[2m\u001b[36m(RolloutWorker pid=15280)\u001b[0m reset triggered\n",
      "\u001b[2m\u001b[36m(RolloutWorker pid=15280)\u001b[0m reload save for track : 4\n"
     ]
    },
    {
     "name": "stderr",
     "output_type": "stream",
     "text": [
      "\u001b[2m\u001b[36m(RolloutWorker pid=15280)\u001b[0m c:\\Users\\nadir\\anaconda3\\envs\\GTAI2\\lib\\site-packages\\rtgym\\envs\\real_time_env.py:376: UserWarning: Time-step timed out. Elapsed since last time-step: 0.14187199991829402\n",
      "\u001b[2m\u001b[36m(RolloutWorker pid=15280)\u001b[0m   warnings.warn(f\"Time-step timed out. Elapsed since last time-step: {now - self.__t_end}\")\n"
     ]
    },
    {
     "name": "stdout",
     "output_type": "stream",
     "text": [
      "Loop:  478\n",
      "\u001b[2m\u001b[36m(RolloutWorker pid=15280)\u001b[0m reset triggered\n",
      "\u001b[2m\u001b[36m(RolloutWorker pid=15280)\u001b[0m reload save for track : 4\n"
     ]
    },
    {
     "name": "stderr",
     "output_type": "stream",
     "text": [
      "\u001b[2m\u001b[36m(RolloutWorker pid=15280)\u001b[0m c:\\Users\\nadir\\anaconda3\\envs\\GTAI2\\lib\\site-packages\\rtgym\\envs\\real_time_env.py:376: UserWarning: Time-step timed out. Elapsed since last time-step: 0.15102929991917335\n",
      "\u001b[2m\u001b[36m(RolloutWorker pid=15280)\u001b[0m   warnings.warn(f\"Time-step timed out. Elapsed since last time-step: {now - self.__t_end}\")\n"
     ]
    },
    {
     "name": "stdout",
     "output_type": "stream",
     "text": [
      "Loop:  479\n",
      "Loop:  480\n",
      "Saved 480\n",
      "\u001b[2m\u001b[36m(RolloutWorker pid=15280)\u001b[0m reset triggered\n",
      "\u001b[2m\u001b[36m(RolloutWorker pid=15280)\u001b[0m reload save for track : 4\n"
     ]
    },
    {
     "name": "stderr",
     "output_type": "stream",
     "text": [
      "\u001b[2m\u001b[36m(RolloutWorker pid=15280)\u001b[0m c:\\Users\\nadir\\anaconda3\\envs\\GTAI2\\lib\\site-packages\\rtgym\\envs\\real_time_env.py:376: UserWarning: Time-step timed out. Elapsed since last time-step: 0.15646609991836158\n",
      "\u001b[2m\u001b[36m(RolloutWorker pid=15280)\u001b[0m   warnings.warn(f\"Time-step timed out. Elapsed since last time-step: {now - self.__t_end}\")\n"
     ]
    },
    {
     "name": "stdout",
     "output_type": "stream",
     "text": [
      "Loop:  481\n",
      "\u001b[2m\u001b[36m(RolloutWorker pid=15280)\u001b[0m reset triggered\n",
      "\u001b[2m\u001b[36m(RolloutWorker pid=15280)\u001b[0m reload save for track : 4\n"
     ]
    },
    {
     "name": "stderr",
     "output_type": "stream",
     "text": [
      "\u001b[2m\u001b[36m(RolloutWorker pid=15280)\u001b[0m c:\\Users\\nadir\\anaconda3\\envs\\GTAI2\\lib\\site-packages\\rtgym\\envs\\real_time_env.py:376: UserWarning: Time-step timed out. Elapsed since last time-step: 0.13292529991849733\n",
      "\u001b[2m\u001b[36m(RolloutWorker pid=15280)\u001b[0m   warnings.warn(f\"Time-step timed out. Elapsed since last time-step: {now - self.__t_end}\")\n"
     ]
    },
    {
     "name": "stdout",
     "output_type": "stream",
     "text": [
      "Loop:  482\n",
      "Loop:  483\n",
      "\u001b[2m\u001b[36m(RolloutWorker pid=15280)\u001b[0m reset triggered\n",
      "\u001b[2m\u001b[36m(RolloutWorker pid=15280)\u001b[0m reload save for track : 4\n"
     ]
    },
    {
     "name": "stderr",
     "output_type": "stream",
     "text": [
      "\u001b[2m\u001b[36m(RolloutWorker pid=15280)\u001b[0m c:\\Users\\nadir\\anaconda3\\envs\\GTAI2\\lib\\site-packages\\rtgym\\envs\\real_time_env.py:376: UserWarning: Time-step timed out. Elapsed since last time-step: 0.14709049991779466\n",
      "\u001b[2m\u001b[36m(RolloutWorker pid=15280)\u001b[0m   warnings.warn(f\"Time-step timed out. Elapsed since last time-step: {now - self.__t_end}\")\n"
     ]
    },
    {
     "name": "stdout",
     "output_type": "stream",
     "text": [
      "Loop:  484\n",
      "\u001b[2m\u001b[36m(RolloutWorker pid=15280)\u001b[0m reset triggered\n",
      "\u001b[2m\u001b[36m(RolloutWorker pid=15280)\u001b[0m reload save for track : 4\n"
     ]
    },
    {
     "name": "stderr",
     "output_type": "stream",
     "text": [
      "\u001b[2m\u001b[36m(RolloutWorker pid=15280)\u001b[0m c:\\Users\\nadir\\anaconda3\\envs\\GTAI2\\lib\\site-packages\\rtgym\\envs\\real_time_env.py:376: UserWarning: Time-step timed out. Elapsed since last time-step: 0.14300769991859852\n",
      "\u001b[2m\u001b[36m(RolloutWorker pid=15280)\u001b[0m   warnings.warn(f\"Time-step timed out. Elapsed since last time-step: {now - self.__t_end}\")\n"
     ]
    },
    {
     "name": "stdout",
     "output_type": "stream",
     "text": [
      "Loop:  485\n",
      "Loop:  486\n",
      "\u001b[2m\u001b[36m(RolloutWorker pid=15280)\u001b[0m reset triggered\n",
      "\u001b[2m\u001b[36m(RolloutWorker pid=15280)\u001b[0m reload save for track : 4\n"
     ]
    },
    {
     "name": "stderr",
     "output_type": "stream",
     "text": [
      "\u001b[2m\u001b[36m(RolloutWorker pid=15280)\u001b[0m c:\\Users\\nadir\\anaconda3\\envs\\GTAI2\\lib\\site-packages\\rtgym\\envs\\real_time_env.py:376: UserWarning: Time-step timed out. Elapsed since last time-step: 0.137761899918587\n",
      "\u001b[2m\u001b[36m(RolloutWorker pid=15280)\u001b[0m   warnings.warn(f\"Time-step timed out. Elapsed since last time-step: {now - self.__t_end}\")\n"
     ]
    },
    {
     "name": "stdout",
     "output_type": "stream",
     "text": [
      "Loop:  487\n",
      "\u001b[2m\u001b[36m(RolloutWorker pid=15280)\u001b[0m reset triggered\n",
      "\u001b[2m\u001b[36m(RolloutWorker pid=15280)\u001b[0m reload save for track : 4\n"
     ]
    },
    {
     "name": "stderr",
     "output_type": "stream",
     "text": [
      "\u001b[2m\u001b[36m(RolloutWorker pid=15280)\u001b[0m c:\\Users\\nadir\\anaconda3\\envs\\GTAI2\\lib\\site-packages\\rtgym\\envs\\real_time_env.py:376: UserWarning: Time-step timed out. Elapsed since last time-step: 0.14249789991845319\n",
      "\u001b[2m\u001b[36m(RolloutWorker pid=15280)\u001b[0m   warnings.warn(f\"Time-step timed out. Elapsed since last time-step: {now - self.__t_end}\")\n"
     ]
    },
    {
     "name": "stdout",
     "output_type": "stream",
     "text": [
      "Loop:  488\n",
      "\u001b[2m\u001b[36m(RolloutWorker pid=15280)\u001b[0m reset triggered\n",
      "\u001b[2m\u001b[36m(RolloutWorker pid=15280)\u001b[0m reload save for track : 4\n"
     ]
    },
    {
     "name": "stderr",
     "output_type": "stream",
     "text": [
      "\u001b[2m\u001b[36m(RolloutWorker pid=15280)\u001b[0m c:\\Users\\nadir\\anaconda3\\envs\\GTAI2\\lib\\site-packages\\rtgym\\envs\\real_time_env.py:376: UserWarning: Time-step timed out. Elapsed since last time-step: 0.14760519991887122\n",
      "\u001b[2m\u001b[36m(RolloutWorker pid=15280)\u001b[0m   warnings.warn(f\"Time-step timed out. Elapsed since last time-step: {now - self.__t_end}\")\n"
     ]
    },
    {
     "name": "stdout",
     "output_type": "stream",
     "text": [
      "Loop:  489\n",
      "Loop:  490\n",
      "Saved 490\n",
      "\u001b[2m\u001b[36m(RolloutWorker pid=15280)\u001b[0m reset triggered\n",
      "\u001b[2m\u001b[36m(RolloutWorker pid=15280)\u001b[0m reload save for track : 4\n"
     ]
    },
    {
     "name": "stderr",
     "output_type": "stream",
     "text": [
      "\u001b[2m\u001b[36m(RolloutWorker pid=15280)\u001b[0m c:\\Users\\nadir\\anaconda3\\envs\\GTAI2\\lib\\site-packages\\rtgym\\envs\\real_time_env.py:376: UserWarning: Time-step timed out. Elapsed since last time-step: 0.16988149991811952\n",
      "\u001b[2m\u001b[36m(RolloutWorker pid=15280)\u001b[0m   warnings.warn(f\"Time-step timed out. Elapsed since last time-step: {now - self.__t_end}\")\n"
     ]
    },
    {
     "name": "stdout",
     "output_type": "stream",
     "text": [
      "Loop:  491\n",
      "\u001b[2m\u001b[36m(RolloutWorker pid=15280)\u001b[0m reset triggered\n",
      "\u001b[2m\u001b[36m(RolloutWorker pid=15280)\u001b[0m reload save for track : 4\n"
     ]
    },
    {
     "name": "stderr",
     "output_type": "stream",
     "text": [
      "\u001b[2m\u001b[36m(RolloutWorker pid=15280)\u001b[0m c:\\Users\\nadir\\anaconda3\\envs\\GTAI2\\lib\\site-packages\\rtgym\\envs\\real_time_env.py:376: UserWarning: Time-step timed out. Elapsed since last time-step: 0.13233749991923105\n",
      "\u001b[2m\u001b[36m(RolloutWorker pid=15280)\u001b[0m   warnings.warn(f\"Time-step timed out. Elapsed since last time-step: {now - self.__t_end}\")\n"
     ]
    },
    {
     "name": "stdout",
     "output_type": "stream",
     "text": [
      "Loop:  492\n",
      "Loop:  493\n",
      "\u001b[2m\u001b[36m(RolloutWorker pid=15280)\u001b[0m reset triggered\n",
      "\u001b[2m\u001b[36m(RolloutWorker pid=15280)\u001b[0m reload save for track : 4\n"
     ]
    },
    {
     "name": "stderr",
     "output_type": "stream",
     "text": [
      "\u001b[2m\u001b[36m(RolloutWorker pid=15280)\u001b[0m c:\\Users\\nadir\\anaconda3\\envs\\GTAI2\\lib\\site-packages\\rtgym\\envs\\real_time_env.py:376: UserWarning: Time-step timed out. Elapsed since last time-step: 0.14741449991834088\n",
      "\u001b[2m\u001b[36m(RolloutWorker pid=15280)\u001b[0m   warnings.warn(f\"Time-step timed out. Elapsed since last time-step: {now - self.__t_end}\")\n"
     ]
    },
    {
     "name": "stdout",
     "output_type": "stream",
     "text": [
      "Loop:  494\n",
      "\u001b[2m\u001b[36m(RolloutWorker pid=15280)\u001b[0m reset triggered\n",
      "\u001b[2m\u001b[36m(RolloutWorker pid=15280)\u001b[0m reload save for track : 4\n"
     ]
    },
    {
     "name": "stderr",
     "output_type": "stream",
     "text": [
      "\u001b[2m\u001b[36m(RolloutWorker pid=15280)\u001b[0m c:\\Users\\nadir\\anaconda3\\envs\\GTAI2\\lib\\site-packages\\rtgym\\envs\\real_time_env.py:376: UserWarning: Time-step timed out. Elapsed since last time-step: 0.1706416999186331\n",
      "\u001b[2m\u001b[36m(RolloutWorker pid=15280)\u001b[0m   warnings.warn(f\"Time-step timed out. Elapsed since last time-step: {now - self.__t_end}\")\n"
     ]
    },
    {
     "name": "stdout",
     "output_type": "stream",
     "text": [
      "Loop:  495\n",
      "Loop:  496\n",
      "\u001b[2m\u001b[36m(RolloutWorker pid=15280)\u001b[0m reset triggered\n",
      "\u001b[2m\u001b[36m(RolloutWorker pid=15280)\u001b[0m reload save for track : 4\n"
     ]
    },
    {
     "name": "stderr",
     "output_type": "stream",
     "text": [
      "\u001b[2m\u001b[36m(RolloutWorker pid=15280)\u001b[0m c:\\Users\\nadir\\anaconda3\\envs\\GTAI2\\lib\\site-packages\\rtgym\\envs\\real_time_env.py:376: UserWarning: Time-step timed out. Elapsed since last time-step: 0.13321209991863725\n",
      "\u001b[2m\u001b[36m(RolloutWorker pid=15280)\u001b[0m   warnings.warn(f\"Time-step timed out. Elapsed since last time-step: {now - self.__t_end}\")\n"
     ]
    },
    {
     "name": "stdout",
     "output_type": "stream",
     "text": [
      "Loop:  497\n",
      "\u001b[2m\u001b[36m(RolloutWorker pid=15280)\u001b[0m reset triggered\n",
      "\u001b[2m\u001b[36m(RolloutWorker pid=15280)\u001b[0m reload save for track : 4\n"
     ]
    },
    {
     "name": "stderr",
     "output_type": "stream",
     "text": [
      "\u001b[2m\u001b[36m(RolloutWorker pid=15280)\u001b[0m c:\\Users\\nadir\\anaconda3\\envs\\GTAI2\\lib\\site-packages\\rtgym\\envs\\real_time_env.py:376: UserWarning: Time-step timed out. Elapsed since last time-step: 0.1469696999183725\n",
      "\u001b[2m\u001b[36m(RolloutWorker pid=15280)\u001b[0m   warnings.warn(f\"Time-step timed out. Elapsed since last time-step: {now - self.__t_end}\")\n"
     ]
    },
    {
     "name": "stdout",
     "output_type": "stream",
     "text": [
      "Loop:  498\n",
      "Loop:  499\n",
      "\u001b[2m\u001b[36m(RolloutWorker pid=15280)\u001b[0m reset triggered\n",
      "\u001b[2m\u001b[36m(RolloutWorker pid=15280)\u001b[0m reload save for track : 4\n"
     ]
    },
    {
     "name": "stderr",
     "output_type": "stream",
     "text": [
      "\u001b[2m\u001b[36m(RolloutWorker pid=15280)\u001b[0m c:\\Users\\nadir\\anaconda3\\envs\\GTAI2\\lib\\site-packages\\rtgym\\envs\\real_time_env.py:376: UserWarning: Time-step timed out. Elapsed since last time-step: 0.14230019991828158\n",
      "\u001b[2m\u001b[36m(RolloutWorker pid=15280)\u001b[0m   warnings.warn(f\"Time-step timed out. Elapsed since last time-step: {now - self.__t_end}\")\n"
     ]
    },
    {
     "name": "stdout",
     "output_type": "stream",
     "text": [
      "Loop:  500\n",
      "Saved 500\n",
      "\u001b[2m\u001b[36m(RolloutWorker pid=15280)\u001b[0m reset triggered\n",
      "\u001b[2m\u001b[36m(RolloutWorker pid=15280)\u001b[0m reload save for track : 4\n"
     ]
    },
    {
     "name": "stderr",
     "output_type": "stream",
     "text": [
      "\u001b[2m\u001b[36m(RolloutWorker pid=15280)\u001b[0m c:\\Users\\nadir\\anaconda3\\envs\\GTAI2\\lib\\site-packages\\rtgym\\envs\\real_time_env.py:376: UserWarning: Time-step timed out. Elapsed since last time-step: 0.13757009991877567\n",
      "\u001b[2m\u001b[36m(RolloutWorker pid=15280)\u001b[0m   warnings.warn(f\"Time-step timed out. Elapsed since last time-step: {now - self.__t_end}\")\n"
     ]
    },
    {
     "name": "stdout",
     "output_type": "stream",
     "text": [
      "Loop:  501\n",
      "\u001b[2m\u001b[36m(RolloutWorker pid=15280)\u001b[0m reset triggered\n",
      "\u001b[2m\u001b[36m(RolloutWorker pid=15280)\u001b[0m reload save for track : 4\n"
     ]
    },
    {
     "name": "stderr",
     "output_type": "stream",
     "text": [
      "\u001b[2m\u001b[36m(RolloutWorker pid=15280)\u001b[0m c:\\Users\\nadir\\anaconda3\\envs\\GTAI2\\lib\\site-packages\\rtgym\\envs\\real_time_env.py:376: UserWarning: Time-step timed out. Elapsed since last time-step: 0.1432508999178026\n",
      "\u001b[2m\u001b[36m(RolloutWorker pid=15280)\u001b[0m   warnings.warn(f\"Time-step timed out. Elapsed since last time-step: {now - self.__t_end}\")\n"
     ]
    },
    {
     "name": "stdout",
     "output_type": "stream",
     "text": [
      "Loop:  502\n",
      "Loop:  503\n",
      "\u001b[2m\u001b[36m(RolloutWorker pid=15280)\u001b[0m reset triggered\n",
      "\u001b[2m\u001b[36m(RolloutWorker pid=15280)\u001b[0m reload save for track : 4\n"
     ]
    },
    {
     "name": "stderr",
     "output_type": "stream",
     "text": [
      "\u001b[2m\u001b[36m(RolloutWorker pid=15280)\u001b[0m c:\\Users\\nadir\\anaconda3\\envs\\GTAI2\\lib\\site-packages\\rtgym\\envs\\real_time_env.py:376: UserWarning: Time-step timed out. Elapsed since last time-step: 0.13933659991926106\n",
      "\u001b[2m\u001b[36m(RolloutWorker pid=15280)\u001b[0m   warnings.warn(f\"Time-step timed out. Elapsed since last time-step: {now - self.__t_end}\")\n"
     ]
    },
    {
     "name": "stdout",
     "output_type": "stream",
     "text": [
      "Loop:  504\n",
      "\u001b[2m\u001b[36m(RolloutWorker pid=15280)\u001b[0m reset triggered\n",
      "\u001b[2m\u001b[36m(RolloutWorker pid=15280)\u001b[0m reload save for track : 4\n"
     ]
    },
    {
     "name": "stderr",
     "output_type": "stream",
     "text": [
      "\u001b[2m\u001b[36m(RolloutWorker pid=15280)\u001b[0m c:\\Users\\nadir\\anaconda3\\envs\\GTAI2\\lib\\site-packages\\rtgym\\envs\\real_time_env.py:376: UserWarning: Time-step timed out. Elapsed since last time-step: 0.16773849991841416\n",
      "\u001b[2m\u001b[36m(RolloutWorker pid=15280)\u001b[0m   warnings.warn(f\"Time-step timed out. Elapsed since last time-step: {now - self.__t_end}\")\n"
     ]
    },
    {
     "name": "stdout",
     "output_type": "stream",
     "text": [
      "Loop:  505\n",
      "Loop:  506\n",
      "\u001b[2m\u001b[36m(RolloutWorker pid=15280)\u001b[0m reset triggered\n",
      "\u001b[2m\u001b[36m(RolloutWorker pid=15280)\u001b[0m reload save for track : 4\n"
     ]
    },
    {
     "name": "stderr",
     "output_type": "stream",
     "text": [
      "\u001b[2m\u001b[36m(RolloutWorker pid=15280)\u001b[0m c:\\Users\\nadir\\anaconda3\\envs\\GTAI2\\lib\\site-packages\\rtgym\\envs\\real_time_env.py:376: UserWarning: Time-step timed out. Elapsed since last time-step: 0.14243199991778965\n",
      "\u001b[2m\u001b[36m(RolloutWorker pid=15280)\u001b[0m   warnings.warn(f\"Time-step timed out. Elapsed since last time-step: {now - self.__t_end}\")\n"
     ]
    },
    {
     "name": "stdout",
     "output_type": "stream",
     "text": [
      "Loop:  507\n",
      "\u001b[2m\u001b[36m(RolloutWorker pid=15280)\u001b[0m reset triggered\n",
      "\u001b[2m\u001b[36m(RolloutWorker pid=15280)\u001b[0m reload save for track : 4\n"
     ]
    },
    {
     "name": "stderr",
     "output_type": "stream",
     "text": [
      "\u001b[2m\u001b[36m(RolloutWorker pid=15280)\u001b[0m c:\\Users\\nadir\\anaconda3\\envs\\GTAI2\\lib\\site-packages\\rtgym\\envs\\real_time_env.py:376: UserWarning: Time-step timed out. Elapsed since last time-step: 0.1478699999188393\n",
      "\u001b[2m\u001b[36m(RolloutWorker pid=15280)\u001b[0m   warnings.warn(f\"Time-step timed out. Elapsed since last time-step: {now - self.__t_end}\")\n"
     ]
    },
    {
     "name": "stdout",
     "output_type": "stream",
     "text": [
      "Loop:  508\n",
      "Loop:  509\n",
      "\u001b[2m\u001b[36m(RolloutWorker pid=15280)\u001b[0m reset triggered\n",
      "\u001b[2m\u001b[36m(RolloutWorker pid=15280)\u001b[0m reload save for track : 4\n"
     ]
    },
    {
     "name": "stderr",
     "output_type": "stream",
     "text": [
      "\u001b[2m\u001b[36m(RolloutWorker pid=15280)\u001b[0m c:\\Users\\nadir\\anaconda3\\envs\\GTAI2\\lib\\site-packages\\rtgym\\envs\\real_time_env.py:376: UserWarning: Time-step timed out. Elapsed since last time-step: 0.16979509991870145\n",
      "\u001b[2m\u001b[36m(RolloutWorker pid=15280)\u001b[0m   warnings.warn(f\"Time-step timed out. Elapsed since last time-step: {now - self.__t_end}\")\n"
     ]
    },
    {
     "name": "stdout",
     "output_type": "stream",
     "text": [
      "Loop:  510\n",
      "Saved 510\n",
      "\u001b[2m\u001b[36m(RolloutWorker pid=15280)\u001b[0m reset triggered\n",
      "\u001b[2m\u001b[36m(RolloutWorker pid=15280)\u001b[0m reload save for track : 4\n"
     ]
    },
    {
     "name": "stderr",
     "output_type": "stream",
     "text": [
      "\u001b[2m\u001b[36m(RolloutWorker pid=15280)\u001b[0m c:\\Users\\nadir\\anaconda3\\envs\\GTAI2\\lib\\site-packages\\rtgym\\envs\\real_time_env.py:376: UserWarning: Time-step timed out. Elapsed since last time-step: 0.1701034999186959\n",
      "\u001b[2m\u001b[36m(RolloutWorker pid=15280)\u001b[0m   warnings.warn(f\"Time-step timed out. Elapsed since last time-step: {now - self.__t_end}\")\n"
     ]
    },
    {
     "name": "stdout",
     "output_type": "stream",
     "text": [
      "Loop:  511\n",
      "Loop:  512\n",
      "\u001b[2m\u001b[36m(RolloutWorker pid=15280)\u001b[0m reset triggered\n",
      "\u001b[2m\u001b[36m(RolloutWorker pid=15280)\u001b[0m reload save for track : 4\n"
     ]
    },
    {
     "name": "stderr",
     "output_type": "stream",
     "text": [
      "\u001b[2m\u001b[36m(RolloutWorker pid=15280)\u001b[0m c:\\Users\\nadir\\anaconda3\\envs\\GTAI2\\lib\\site-packages\\rtgym\\envs\\real_time_env.py:376: UserWarning: Time-step timed out. Elapsed since last time-step: 0.15242639991811302\n",
      "\u001b[2m\u001b[36m(RolloutWorker pid=15280)\u001b[0m   warnings.warn(f\"Time-step timed out. Elapsed since last time-step: {now - self.__t_end}\")\n"
     ]
    },
    {
     "name": "stdout",
     "output_type": "stream",
     "text": [
      "Loop:  513\n",
      "\u001b[2m\u001b[36m(RolloutWorker pid=15280)\u001b[0m reset triggered\n",
      "\u001b[2m\u001b[36m(RolloutWorker pid=15280)\u001b[0m reload save for track : 4\n"
     ]
    },
    {
     "name": "stderr",
     "output_type": "stream",
     "text": [
      "\u001b[2m\u001b[36m(RolloutWorker pid=15280)\u001b[0m c:\\Users\\nadir\\anaconda3\\envs\\GTAI2\\lib\\site-packages\\rtgym\\envs\\real_time_env.py:376: UserWarning: Time-step timed out. Elapsed since last time-step: 0.150489299918263\n",
      "\u001b[2m\u001b[36m(RolloutWorker pid=15280)\u001b[0m   warnings.warn(f\"Time-step timed out. Elapsed since last time-step: {now - self.__t_end}\")\n"
     ]
    },
    {
     "name": "stdout",
     "output_type": "stream",
     "text": [
      "Loop:  514\n",
      "\u001b[2m\u001b[36m(RolloutWorker pid=15280)\u001b[0m reset triggered\n",
      "\u001b[2m\u001b[36m(RolloutWorker pid=15280)\u001b[0m reload save for track : 4\n"
     ]
    },
    {
     "name": "stderr",
     "output_type": "stream",
     "text": [
      "\u001b[2m\u001b[36m(RolloutWorker pid=15280)\u001b[0m c:\\Users\\nadir\\anaconda3\\envs\\GTAI2\\lib\\site-packages\\rtgym\\envs\\real_time_env.py:376: UserWarning: Time-step timed out. Elapsed since last time-step: 0.14651349991891038\n",
      "\u001b[2m\u001b[36m(RolloutWorker pid=15280)\u001b[0m   warnings.warn(f\"Time-step timed out. Elapsed since last time-step: {now - self.__t_end}\")\n"
     ]
    },
    {
     "name": "stdout",
     "output_type": "stream",
     "text": [
      "Loop:  515\n",
      "Loop:  516\n",
      "\u001b[2m\u001b[36m(RolloutWorker pid=15280)\u001b[0m reset triggered\n",
      "\u001b[2m\u001b[36m(RolloutWorker pid=15280)\u001b[0m reload save for track : 4\n"
     ]
    },
    {
     "name": "stderr",
     "output_type": "stream",
     "text": [
      "\u001b[2m\u001b[36m(RolloutWorker pid=15280)\u001b[0m c:\\Users\\nadir\\anaconda3\\envs\\GTAI2\\lib\\site-packages\\rtgym\\envs\\real_time_env.py:376: UserWarning: Time-step timed out. Elapsed since last time-step: 0.1429077999182482\n",
      "\u001b[2m\u001b[36m(RolloutWorker pid=15280)\u001b[0m   warnings.warn(f\"Time-step timed out. Elapsed since last time-step: {now - self.__t_end}\")\n"
     ]
    },
    {
     "name": "stdout",
     "output_type": "stream",
     "text": [
      "Loop:  517\n",
      "\u001b[2m\u001b[36m(RolloutWorker pid=15280)\u001b[0m reset triggered\n",
      "\u001b[2m\u001b[36m(RolloutWorker pid=15280)\u001b[0m reload save for track : 4\n"
     ]
    },
    {
     "name": "stderr",
     "output_type": "stream",
     "text": [
      "\u001b[2m\u001b[36m(RolloutWorker pid=15280)\u001b[0m c:\\Users\\nadir\\anaconda3\\envs\\GTAI2\\lib\\site-packages\\rtgym\\envs\\real_time_env.py:376: UserWarning: Time-step timed out. Elapsed since last time-step: 0.15758819991879136\n",
      "\u001b[2m\u001b[36m(RolloutWorker pid=15280)\u001b[0m   warnings.warn(f\"Time-step timed out. Elapsed since last time-step: {now - self.__t_end}\")\n"
     ]
    },
    {
     "name": "stdout",
     "output_type": "stream",
     "text": [
      "Loop:  518\n",
      "Loop:  519\n",
      "\u001b[2m\u001b[36m(RolloutWorker pid=15280)\u001b[0m reset triggered\n",
      "\u001b[2m\u001b[36m(RolloutWorker pid=15280)\u001b[0m reload save for track : 4\n"
     ]
    },
    {
     "name": "stderr",
     "output_type": "stream",
     "text": [
      "\u001b[2m\u001b[36m(RolloutWorker pid=15280)\u001b[0m c:\\Users\\nadir\\anaconda3\\envs\\GTAI2\\lib\\site-packages\\rtgym\\envs\\real_time_env.py:376: UserWarning: Time-step timed out. Elapsed since last time-step: 0.13238659991839086\n",
      "\u001b[2m\u001b[36m(RolloutWorker pid=15280)\u001b[0m   warnings.warn(f\"Time-step timed out. Elapsed since last time-step: {now - self.__t_end}\")\n"
     ]
    },
    {
     "name": "stdout",
     "output_type": "stream",
     "text": [
      "Loop:  520\n",
      "Saved 520\n",
      "\u001b[2m\u001b[36m(RolloutWorker pid=15280)\u001b[0m reset triggered\n",
      "\u001b[2m\u001b[36m(RolloutWorker pid=15280)\u001b[0m reload save for track : 4\n"
     ]
    },
    {
     "name": "stderr",
     "output_type": "stream",
     "text": [
      "\u001b[2m\u001b[36m(RolloutWorker pid=15280)\u001b[0m c:\\Users\\nadir\\anaconda3\\envs\\GTAI2\\lib\\site-packages\\rtgym\\envs\\real_time_env.py:376: UserWarning: Time-step timed out. Elapsed since last time-step: 0.14968629991926719\n",
      "\u001b[2m\u001b[36m(RolloutWorker pid=15280)\u001b[0m   warnings.warn(f\"Time-step timed out. Elapsed since last time-step: {now - self.__t_end}\")\n"
     ]
    },
    {
     "name": "stdout",
     "output_type": "stream",
     "text": [
      "Loop:  521\n",
      "Loop:  522\n",
      "\u001b[2m\u001b[36m(RolloutWorker pid=15280)\u001b[0m reset triggered\n",
      "\u001b[2m\u001b[36m(RolloutWorker pid=15280)\u001b[0m reload save for track : 4\n"
     ]
    },
    {
     "name": "stderr",
     "output_type": "stream",
     "text": [
      "\u001b[2m\u001b[36m(RolloutWorker pid=15280)\u001b[0m c:\\Users\\nadir\\anaconda3\\envs\\GTAI2\\lib\\site-packages\\rtgym\\envs\\real_time_env.py:376: UserWarning: Time-step timed out. Elapsed since last time-step: 0.15814129991849768\n",
      "\u001b[2m\u001b[36m(RolloutWorker pid=15280)\u001b[0m   warnings.warn(f\"Time-step timed out. Elapsed since last time-step: {now - self.__t_end}\")\n"
     ]
    },
    {
     "name": "stdout",
     "output_type": "stream",
     "text": [
      "Loop:  523\n",
      "\u001b[2m\u001b[36m(RolloutWorker pid=15280)\u001b[0m reset triggered\n",
      "\u001b[2m\u001b[36m(RolloutWorker pid=15280)\u001b[0m reload save for track : 4\n"
     ]
    },
    {
     "name": "stderr",
     "output_type": "stream",
     "text": [
      "\u001b[2m\u001b[36m(RolloutWorker pid=15280)\u001b[0m c:\\Users\\nadir\\anaconda3\\envs\\GTAI2\\lib\\site-packages\\rtgym\\envs\\real_time_env.py:376: UserWarning: Time-step timed out. Elapsed since last time-step: 0.15249939991736028\n",
      "\u001b[2m\u001b[36m(RolloutWorker pid=15280)\u001b[0m   warnings.warn(f\"Time-step timed out. Elapsed since last time-step: {now - self.__t_end}\")\n"
     ]
    },
    {
     "name": "stdout",
     "output_type": "stream",
     "text": [
      "Loop:  524\n",
      "Loop:  525\n",
      "\u001b[2m\u001b[36m(RolloutWorker pid=15280)\u001b[0m reset triggered\n",
      "\u001b[2m\u001b[36m(RolloutWorker pid=15280)\u001b[0m reload save for track : 4\n"
     ]
    },
    {
     "name": "stderr",
     "output_type": "stream",
     "text": [
      "\u001b[2m\u001b[36m(RolloutWorker pid=15280)\u001b[0m c:\\Users\\nadir\\anaconda3\\envs\\GTAI2\\lib\\site-packages\\rtgym\\envs\\real_time_env.py:376: UserWarning: Time-step timed out. Elapsed since last time-step: 0.14805979991979257\n",
      "\u001b[2m\u001b[36m(RolloutWorker pid=15280)\u001b[0m   warnings.warn(f\"Time-step timed out. Elapsed since last time-step: {now - self.__t_end}\")\n"
     ]
    },
    {
     "name": "stdout",
     "output_type": "stream",
     "text": [
      "Loop:  526\n",
      "\u001b[2m\u001b[36m(RolloutWorker pid=15280)\u001b[0m reset triggered\n",
      "\u001b[2m\u001b[36m(RolloutWorker pid=15280)\u001b[0m reload save for track : 4\n"
     ]
    },
    {
     "name": "stderr",
     "output_type": "stream",
     "text": [
      "\u001b[2m\u001b[36m(RolloutWorker pid=15280)\u001b[0m c:\\Users\\nadir\\anaconda3\\envs\\GTAI2\\lib\\site-packages\\rtgym\\envs\\real_time_env.py:376: UserWarning: Time-step timed out. Elapsed since last time-step: 0.15963969991753402\n",
      "\u001b[2m\u001b[36m(RolloutWorker pid=15280)\u001b[0m   warnings.warn(f\"Time-step timed out. Elapsed since last time-step: {now - self.__t_end}\")\n"
     ]
    },
    {
     "name": "stdout",
     "output_type": "stream",
     "text": [
      "Loop:  527\n",
      "\u001b[2m\u001b[36m(RolloutWorker pid=15280)\u001b[0m reset triggered\n",
      "\u001b[2m\u001b[36m(RolloutWorker pid=15280)\u001b[0m reload save for track : 4\n"
     ]
    },
    {
     "name": "stderr",
     "output_type": "stream",
     "text": [
      "\u001b[2m\u001b[36m(RolloutWorker pid=15280)\u001b[0m c:\\Users\\nadir\\anaconda3\\envs\\GTAI2\\lib\\site-packages\\rtgym\\envs\\real_time_env.py:376: UserWarning: Time-step timed out. Elapsed since last time-step: 0.16950969991921738\n",
      "\u001b[2m\u001b[36m(RolloutWorker pid=15280)\u001b[0m   warnings.warn(f\"Time-step timed out. Elapsed since last time-step: {now - self.__t_end}\")\n"
     ]
    },
    {
     "name": "stdout",
     "output_type": "stream",
     "text": [
      "Loop:  528\n",
      "Loop:  529\n",
      "\u001b[2m\u001b[36m(RolloutWorker pid=15280)\u001b[0m reset triggered\n",
      "\u001b[2m\u001b[36m(RolloutWorker pid=15280)\u001b[0m reload save for track : 4\n"
     ]
    },
    {
     "name": "stderr",
     "output_type": "stream",
     "text": [
      "\u001b[2m\u001b[36m(RolloutWorker pid=15280)\u001b[0m c:\\Users\\nadir\\anaconda3\\envs\\GTAI2\\lib\\site-packages\\rtgym\\envs\\real_time_env.py:376: UserWarning: Time-step timed out. Elapsed since last time-step: 0.15610129991728172\n",
      "\u001b[2m\u001b[36m(RolloutWorker pid=15280)\u001b[0m   warnings.warn(f\"Time-step timed out. Elapsed since last time-step: {now - self.__t_end}\")\n"
     ]
    },
    {
     "name": "stdout",
     "output_type": "stream",
     "text": [
      "Loop:  530\n",
      "Saved 530\n"
     ]
    },
    {
     "name": "stderr",
     "output_type": "stream",
     "text": [
      "\u001b[2m\u001b[36m(RolloutWorker pid=15280)\u001b[0m c:\\Users\\nadir\\anaconda3\\envs\\GTAI2\\lib\\site-packages\\rtgym\\envs\\real_time_env.py:376: UserWarning: Time-step timed out. Elapsed since last time-step: 0.11598049992608139\n",
      "\u001b[2m\u001b[36m(RolloutWorker pid=15280)\u001b[0m   warnings.warn(f\"Time-step timed out. Elapsed since last time-step: {now - self.__t_end}\")\n"
     ]
    },
    {
     "name": "stdout",
     "output_type": "stream",
     "text": [
      "\u001b[2m\u001b[36m(RolloutWorker pid=15280)\u001b[0m reset triggered\n",
      "\u001b[2m\u001b[36m(RolloutWorker pid=15280)\u001b[0m reload save for track : 4\n"
     ]
    },
    {
     "name": "stderr",
     "output_type": "stream",
     "text": [
      "\u001b[2m\u001b[36m(RolloutWorker pid=15280)\u001b[0m c:\\Users\\nadir\\anaconda3\\envs\\GTAI2\\lib\\site-packages\\rtgym\\envs\\real_time_env.py:376: UserWarning: Time-step timed out. Elapsed since last time-step: 0.1407773999926576\n",
      "\u001b[2m\u001b[36m(RolloutWorker pid=15280)\u001b[0m   warnings.warn(f\"Time-step timed out. Elapsed since last time-step: {now - self.__t_end}\")\n"
     ]
    },
    {
     "name": "stdout",
     "output_type": "stream",
     "text": [
      "Loop:  531\n",
      "Loop:  532\n",
      "\u001b[2m\u001b[36m(RolloutWorker pid=15280)\u001b[0m reset triggered\n",
      "\u001b[2m\u001b[36m(RolloutWorker pid=15280)\u001b[0m reload save for track : 4\n"
     ]
    },
    {
     "name": "stderr",
     "output_type": "stream",
     "text": [
      "\u001b[2m\u001b[36m(RolloutWorker pid=15280)\u001b[0m c:\\Users\\nadir\\anaconda3\\envs\\GTAI2\\lib\\site-packages\\rtgym\\envs\\real_time_env.py:376: UserWarning: Time-step timed out. Elapsed since last time-step: 0.1379431999193912\n",
      "\u001b[2m\u001b[36m(RolloutWorker pid=15280)\u001b[0m   warnings.warn(f\"Time-step timed out. Elapsed since last time-step: {now - self.__t_end}\")\n"
     ]
    },
    {
     "name": "stdout",
     "output_type": "stream",
     "text": [
      "Loop:  533\n",
      "\u001b[2m\u001b[36m(RolloutWorker pid=15280)\u001b[0m reset triggered\n",
      "\u001b[2m\u001b[36m(RolloutWorker pid=15280)\u001b[0m reload save for track : 4\n"
     ]
    },
    {
     "name": "stderr",
     "output_type": "stream",
     "text": [
      "\u001b[2m\u001b[36m(RolloutWorker pid=15280)\u001b[0m c:\\Users\\nadir\\anaconda3\\envs\\GTAI2\\lib\\site-packages\\rtgym\\envs\\real_time_env.py:376: UserWarning: Time-step timed out. Elapsed since last time-step: 0.16236619991832413\n",
      "\u001b[2m\u001b[36m(RolloutWorker pid=15280)\u001b[0m   warnings.warn(f\"Time-step timed out. Elapsed since last time-step: {now - self.__t_end}\")\n"
     ]
    },
    {
     "name": "stdout",
     "output_type": "stream",
     "text": [
      "Loop:  534\n",
      "Loop:  535\n",
      "\u001b[2m\u001b[36m(RolloutWorker pid=15280)\u001b[0m reset triggered\n",
      "\u001b[2m\u001b[36m(RolloutWorker pid=15280)\u001b[0m reload save for track : 4\n"
     ]
    },
    {
     "name": "stderr",
     "output_type": "stream",
     "text": [
      "\u001b[2m\u001b[36m(RolloutWorker pid=15280)\u001b[0m c:\\Users\\nadir\\anaconda3\\envs\\GTAI2\\lib\\site-packages\\rtgym\\envs\\real_time_env.py:376: UserWarning: Time-step timed out. Elapsed since last time-step: 0.14763299991864187\n",
      "\u001b[2m\u001b[36m(RolloutWorker pid=15280)\u001b[0m   warnings.warn(f\"Time-step timed out. Elapsed since last time-step: {now - self.__t_end}\")\n"
     ]
    },
    {
     "name": "stdout",
     "output_type": "stream",
     "text": [
      "Loop:  536\n",
      "\u001b[2m\u001b[36m(RolloutWorker pid=15280)\u001b[0m reset triggered\n",
      "\u001b[2m\u001b[36m(RolloutWorker pid=15280)\u001b[0m reload save for track : 4\n"
     ]
    },
    {
     "name": "stderr",
     "output_type": "stream",
     "text": [
      "\u001b[2m\u001b[36m(RolloutWorker pid=15280)\u001b[0m c:\\Users\\nadir\\anaconda3\\envs\\GTAI2\\lib\\site-packages\\rtgym\\envs\\real_time_env.py:376: UserWarning: Time-step timed out. Elapsed since last time-step: 0.14992159991743392\n",
      "\u001b[2m\u001b[36m(RolloutWorker pid=15280)\u001b[0m   warnings.warn(f\"Time-step timed out. Elapsed since last time-step: {now - self.__t_end}\")\n"
     ]
    },
    {
     "name": "stdout",
     "output_type": "stream",
     "text": [
      "Loop:  537\n",
      "Loop:  538\n",
      "\u001b[2m\u001b[36m(RolloutWorker pid=15280)\u001b[0m reset triggered\n",
      "\u001b[2m\u001b[36m(RolloutWorker pid=15280)\u001b[0m reload save for track : 4\n"
     ]
    },
    {
     "name": "stderr",
     "output_type": "stream",
     "text": [
      "\u001b[2m\u001b[36m(RolloutWorker pid=15280)\u001b[0m c:\\Users\\nadir\\anaconda3\\envs\\GTAI2\\lib\\site-packages\\rtgym\\envs\\real_time_env.py:376: UserWarning: Time-step timed out. Elapsed since last time-step: 0.15222519991948502\n",
      "\u001b[2m\u001b[36m(RolloutWorker pid=15280)\u001b[0m   warnings.warn(f\"Time-step timed out. Elapsed since last time-step: {now - self.__t_end}\")\n"
     ]
    },
    {
     "name": "stdout",
     "output_type": "stream",
     "text": [
      "Loop:  539\n",
      "\u001b[2m\u001b[36m(RolloutWorker pid=15280)\u001b[0m reset triggered\n",
      "\u001b[2m\u001b[36m(RolloutWorker pid=15280)\u001b[0m reload save for track : 4\n"
     ]
    },
    {
     "name": "stderr",
     "output_type": "stream",
     "text": [
      "\u001b[2m\u001b[36m(RolloutWorker pid=15280)\u001b[0m c:\\Users\\nadir\\anaconda3\\envs\\GTAI2\\lib\\site-packages\\rtgym\\envs\\real_time_env.py:376: UserWarning: Time-step timed out. Elapsed since last time-step: 0.13803979991826054\n",
      "\u001b[2m\u001b[36m(RolloutWorker pid=15280)\u001b[0m   warnings.warn(f\"Time-step timed out. Elapsed since last time-step: {now - self.__t_end}\")\n"
     ]
    },
    {
     "name": "stdout",
     "output_type": "stream",
     "text": [
      "Loop:  540\n",
      "Saved 540\n",
      "\u001b[2m\u001b[36m(RolloutWorker pid=15280)\u001b[0m reset triggered\n",
      "\u001b[2m\u001b[36m(RolloutWorker pid=15280)\u001b[0m reload save for track : 4\n"
     ]
    },
    {
     "name": "stderr",
     "output_type": "stream",
     "text": [
      "\u001b[2m\u001b[36m(RolloutWorker pid=15280)\u001b[0m c:\\Users\\nadir\\anaconda3\\envs\\GTAI2\\lib\\site-packages\\rtgym\\envs\\real_time_env.py:376: UserWarning: Time-step timed out. Elapsed since last time-step: 0.13205319991902797\n",
      "\u001b[2m\u001b[36m(RolloutWorker pid=15280)\u001b[0m   warnings.warn(f\"Time-step timed out. Elapsed since last time-step: {now - self.__t_end}\")\n"
     ]
    },
    {
     "name": "stdout",
     "output_type": "stream",
     "text": [
      "Loop:  541\n",
      "Loop:  542\n",
      "\u001b[2m\u001b[36m(RolloutWorker pid=15280)\u001b[0m reset triggered\n",
      "\u001b[2m\u001b[36m(RolloutWorker pid=15280)\u001b[0m reload save for track : 4\n"
     ]
    },
    {
     "name": "stderr",
     "output_type": "stream",
     "text": [
      "\u001b[2m\u001b[36m(RolloutWorker pid=15280)\u001b[0m c:\\Users\\nadir\\anaconda3\\envs\\GTAI2\\lib\\site-packages\\rtgym\\envs\\real_time_env.py:376: UserWarning: Time-step timed out. Elapsed since last time-step: 0.14832249991741264\n",
      "\u001b[2m\u001b[36m(RolloutWorker pid=15280)\u001b[0m   warnings.warn(f\"Time-step timed out. Elapsed since last time-step: {now - self.__t_end}\")\n"
     ]
    },
    {
     "name": "stdout",
     "output_type": "stream",
     "text": [
      "Loop:  543\n",
      "\u001b[2m\u001b[36m(RolloutWorker pid=15280)\u001b[0m reset triggered\n",
      "\u001b[2m\u001b[36m(RolloutWorker pid=15280)\u001b[0m reload save for track : 4\n"
     ]
    },
    {
     "name": "stderr",
     "output_type": "stream",
     "text": [
      "\u001b[2m\u001b[36m(RolloutWorker pid=15280)\u001b[0m c:\\Users\\nadir\\anaconda3\\envs\\GTAI2\\lib\\site-packages\\rtgym\\envs\\real_time_env.py:376: UserWarning: Time-step timed out. Elapsed since last time-step: 0.15975699991940928\n",
      "\u001b[2m\u001b[36m(RolloutWorker pid=15280)\u001b[0m   warnings.warn(f\"Time-step timed out. Elapsed since last time-step: {now - self.__t_end}\")\n"
     ]
    },
    {
     "name": "stdout",
     "output_type": "stream",
     "text": [
      "Loop:  544\n",
      "Loop:  545\n",
      "\u001b[2m\u001b[36m(RolloutWorker pid=15280)\u001b[0m reset triggered\n",
      "\u001b[2m\u001b[36m(RolloutWorker pid=15280)\u001b[0m reload save for track : 4\n"
     ]
    },
    {
     "name": "stderr",
     "output_type": "stream",
     "text": [
      "\u001b[2m\u001b[36m(RolloutWorker pid=15280)\u001b[0m c:\\Users\\nadir\\anaconda3\\envs\\GTAI2\\lib\\site-packages\\rtgym\\envs\\real_time_env.py:376: UserWarning: Time-step timed out. Elapsed since last time-step: 0.14275839991751127\n",
      "\u001b[2m\u001b[36m(RolloutWorker pid=15280)\u001b[0m   warnings.warn(f\"Time-step timed out. Elapsed since last time-step: {now - self.__t_end}\")\n"
     ]
    },
    {
     "name": "stdout",
     "output_type": "stream",
     "text": [
      "Loop:  546\n",
      "\u001b[2m\u001b[36m(RolloutWorker pid=15280)\u001b[0m reset triggered\n",
      "\u001b[2m\u001b[36m(RolloutWorker pid=15280)\u001b[0m reload save for track : 4\n"
     ]
    },
    {
     "name": "stderr",
     "output_type": "stream",
     "text": [
      "\u001b[2m\u001b[36m(RolloutWorker pid=15280)\u001b[0m c:\\Users\\nadir\\anaconda3\\envs\\GTAI2\\lib\\site-packages\\rtgym\\envs\\real_time_env.py:376: UserWarning: Time-step timed out. Elapsed since last time-step: 0.13667479992000153\n",
      "\u001b[2m\u001b[36m(RolloutWorker pid=15280)\u001b[0m   warnings.warn(f\"Time-step timed out. Elapsed since last time-step: {now - self.__t_end}\")\n"
     ]
    },
    {
     "name": "stdout",
     "output_type": "stream",
     "text": [
      "Loop:  547\n",
      "Loop:  548\n",
      "\u001b[2m\u001b[36m(RolloutWorker pid=15280)\u001b[0m reset triggered\n",
      "\u001b[2m\u001b[36m(RolloutWorker pid=15280)\u001b[0m reload save for track : 4\n"
     ]
    },
    {
     "name": "stderr",
     "output_type": "stream",
     "text": [
      "\u001b[2m\u001b[36m(RolloutWorker pid=15280)\u001b[0m c:\\Users\\nadir\\anaconda3\\envs\\GTAI2\\lib\\site-packages\\rtgym\\envs\\real_time_env.py:376: UserWarning: Time-step timed out. Elapsed since last time-step: 0.14283499991688586\n",
      "\u001b[2m\u001b[36m(RolloutWorker pid=15280)\u001b[0m   warnings.warn(f\"Time-step timed out. Elapsed since last time-step: {now - self.__t_end}\")\n"
     ]
    },
    {
     "name": "stdout",
     "output_type": "stream",
     "text": [
      "Loop:  549\n",
      "\u001b[2m\u001b[36m(RolloutWorker pid=15280)\u001b[0m reset triggered\n",
      "\u001b[2m\u001b[36m(RolloutWorker pid=15280)\u001b[0m reload save for track : 4\n"
     ]
    },
    {
     "name": "stderr",
     "output_type": "stream",
     "text": [
      "\u001b[2m\u001b[36m(RolloutWorker pid=15280)\u001b[0m c:\\Users\\nadir\\anaconda3\\envs\\GTAI2\\lib\\site-packages\\rtgym\\envs\\real_time_env.py:376: UserWarning: Time-step timed out. Elapsed since last time-step: 0.1572183999196568\n",
      "\u001b[2m\u001b[36m(RolloutWorker pid=15280)\u001b[0m   warnings.warn(f\"Time-step timed out. Elapsed since last time-step: {now - self.__t_end}\")\n"
     ]
    },
    {
     "name": "stdout",
     "output_type": "stream",
     "text": [
      "Loop:  550\n",
      "Saved 550\n",
      "Loop:  551\n",
      "\u001b[2m\u001b[36m(RolloutWorker pid=15280)\u001b[0m reset triggered\n",
      "\u001b[2m\u001b[36m(RolloutWorker pid=15280)\u001b[0m reload save for track : 4\n"
     ]
    },
    {
     "name": "stderr",
     "output_type": "stream",
     "text": [
      "\u001b[2m\u001b[36m(RolloutWorker pid=15280)\u001b[0m c:\\Users\\nadir\\anaconda3\\envs\\GTAI2\\lib\\site-packages\\rtgym\\envs\\real_time_env.py:376: UserWarning: Time-step timed out. Elapsed since last time-step: 0.1506657999179879\n",
      "\u001b[2m\u001b[36m(RolloutWorker pid=15280)\u001b[0m   warnings.warn(f\"Time-step timed out. Elapsed since last time-step: {now - self.__t_end}\")\n"
     ]
    },
    {
     "name": "stdout",
     "output_type": "stream",
     "text": [
      "Loop:  552\n",
      "\u001b[2m\u001b[36m(RolloutWorker pid=15280)\u001b[0m reset triggered\n",
      "\u001b[2m\u001b[36m(RolloutWorker pid=15280)\u001b[0m reload save for track : 4\n"
     ]
    },
    {
     "name": "stderr",
     "output_type": "stream",
     "text": [
      "\u001b[2m\u001b[36m(RolloutWorker pid=15280)\u001b[0m c:\\Users\\nadir\\anaconda3\\envs\\GTAI2\\lib\\site-packages\\rtgym\\envs\\real_time_env.py:376: UserWarning: Time-step timed out. Elapsed since last time-step: 0.16193689991814608\n",
      "\u001b[2m\u001b[36m(RolloutWorker pid=15280)\u001b[0m   warnings.warn(f\"Time-step timed out. Elapsed since last time-step: {now - self.__t_end}\")\n"
     ]
    },
    {
     "name": "stdout",
     "output_type": "stream",
     "text": [
      "Loop:  553\n",
      "\u001b[2m\u001b[36m(RolloutWorker pid=15280)\u001b[0m reset triggered\n",
      "\u001b[2m\u001b[36m(RolloutWorker pid=15280)\u001b[0m reload save for track : 4\n"
     ]
    },
    {
     "name": "stderr",
     "output_type": "stream",
     "text": [
      "\u001b[2m\u001b[36m(RolloutWorker pid=15280)\u001b[0m c:\\Users\\nadir\\anaconda3\\envs\\GTAI2\\lib\\site-packages\\rtgym\\envs\\real_time_env.py:376: UserWarning: Time-step timed out. Elapsed since last time-step: 0.13853859991831996\n",
      "\u001b[2m\u001b[36m(RolloutWorker pid=15280)\u001b[0m   warnings.warn(f\"Time-step timed out. Elapsed since last time-step: {now - self.__t_end}\")\n"
     ]
    },
    {
     "name": "stdout",
     "output_type": "stream",
     "text": [
      "Loop:  554\n",
      "Loop:  555\n",
      "\u001b[2m\u001b[36m(RolloutWorker pid=15280)\u001b[0m reset triggered\n",
      "\u001b[2m\u001b[36m(RolloutWorker pid=15280)\u001b[0m reload save for track : 4\n"
     ]
    },
    {
     "name": "stderr",
     "output_type": "stream",
     "text": [
      "\u001b[2m\u001b[36m(RolloutWorker pid=15280)\u001b[0m c:\\Users\\nadir\\anaconda3\\envs\\GTAI2\\lib\\site-packages\\rtgym\\envs\\real_time_env.py:376: UserWarning: Time-step timed out. Elapsed since last time-step: 0.16977039991979836\n",
      "\u001b[2m\u001b[36m(RolloutWorker pid=15280)\u001b[0m   warnings.warn(f\"Time-step timed out. Elapsed since last time-step: {now - self.__t_end}\")\n"
     ]
    },
    {
     "name": "stdout",
     "output_type": "stream",
     "text": [
      "Loop:  556\n",
      "\u001b[2m\u001b[36m(RolloutWorker pid=15280)\u001b[0m reset triggered\n",
      "\u001b[2m\u001b[36m(RolloutWorker pid=15280)\u001b[0m reload save for track : 4\n"
     ]
    },
    {
     "name": "stderr",
     "output_type": "stream",
     "text": [
      "\u001b[2m\u001b[36m(RolloutWorker pid=15280)\u001b[0m c:\\Users\\nadir\\anaconda3\\envs\\GTAI2\\lib\\site-packages\\rtgym\\envs\\real_time_env.py:376: UserWarning: Time-step timed out. Elapsed since last time-step: 0.1363105999171239\n",
      "\u001b[2m\u001b[36m(RolloutWorker pid=15280)\u001b[0m   warnings.warn(f\"Time-step timed out. Elapsed since last time-step: {now - self.__t_end}\")\n"
     ]
    },
    {
     "name": "stdout",
     "output_type": "stream",
     "text": [
      "Loop:  557\n",
      "Loop:  558\n",
      "\u001b[2m\u001b[36m(RolloutWorker pid=15280)\u001b[0m reset triggered\n",
      "\u001b[2m\u001b[36m(RolloutWorker pid=15280)\u001b[0m reload save for track : 4\n"
     ]
    },
    {
     "name": "stderr",
     "output_type": "stream",
     "text": [
      "\u001b[2m\u001b[36m(RolloutWorker pid=15280)\u001b[0m c:\\Users\\nadir\\anaconda3\\envs\\GTAI2\\lib\\site-packages\\rtgym\\envs\\real_time_env.py:376: UserWarning: Time-step timed out. Elapsed since last time-step: 0.14373949991932022\n",
      "\u001b[2m\u001b[36m(RolloutWorker pid=15280)\u001b[0m   warnings.warn(f\"Time-step timed out. Elapsed since last time-step: {now - self.__t_end}\")\n"
     ]
    },
    {
     "name": "stdout",
     "output_type": "stream",
     "text": [
      "Loop:  559\n",
      "\u001b[2m\u001b[36m(RolloutWorker pid=15280)\u001b[0m reset triggered\n",
      "\u001b[2m\u001b[36m(RolloutWorker pid=15280)\u001b[0m reload save for track : 4\n"
     ]
    },
    {
     "name": "stderr",
     "output_type": "stream",
     "text": [
      "\u001b[2m\u001b[36m(RolloutWorker pid=15280)\u001b[0m c:\\Users\\nadir\\anaconda3\\envs\\GTAI2\\lib\\site-packages\\rtgym\\envs\\real_time_env.py:376: UserWarning: Time-step timed out. Elapsed since last time-step: 0.13295839991769753\n",
      "\u001b[2m\u001b[36m(RolloutWorker pid=15280)\u001b[0m   warnings.warn(f\"Time-step timed out. Elapsed since last time-step: {now - self.__t_end}\")\n"
     ]
    },
    {
     "name": "stdout",
     "output_type": "stream",
     "text": [
      "Loop:  560\n",
      "Saved 560\n",
      "Loop:  561\n",
      "\u001b[2m\u001b[36m(RolloutWorker pid=15280)\u001b[0m reset triggered\n",
      "\u001b[2m\u001b[36m(RolloutWorker pid=15280)\u001b[0m reload save for track : 4\n"
     ]
    },
    {
     "name": "stderr",
     "output_type": "stream",
     "text": [
      "\u001b[2m\u001b[36m(RolloutWorker pid=15280)\u001b[0m c:\\Users\\nadir\\anaconda3\\envs\\GTAI2\\lib\\site-packages\\rtgym\\envs\\real_time_env.py:376: UserWarning: Time-step timed out. Elapsed since last time-step: 0.13702519991966255\n",
      "\u001b[2m\u001b[36m(RolloutWorker pid=15280)\u001b[0m   warnings.warn(f\"Time-step timed out. Elapsed since last time-step: {now - self.__t_end}\")\n"
     ]
    },
    {
     "name": "stdout",
     "output_type": "stream",
     "text": [
      "Loop:  562\n",
      "\u001b[2m\u001b[36m(RolloutWorker pid=15280)\u001b[0m reset triggered\n",
      "\u001b[2m\u001b[36m(RolloutWorker pid=15280)\u001b[0m reload save for track : 4\n"
     ]
    },
    {
     "name": "stderr",
     "output_type": "stream",
     "text": [
      "\u001b[2m\u001b[36m(RolloutWorker pid=15280)\u001b[0m c:\\Users\\nadir\\anaconda3\\envs\\GTAI2\\lib\\site-packages\\rtgym\\envs\\real_time_env.py:376: UserWarning: Time-step timed out. Elapsed since last time-step: 0.15282139991904842\n",
      "\u001b[2m\u001b[36m(RolloutWorker pid=15280)\u001b[0m   warnings.warn(f\"Time-step timed out. Elapsed since last time-step: {now - self.__t_end}\")\n"
     ]
    },
    {
     "name": "stdout",
     "output_type": "stream",
     "text": [
      "Loop:  563\n",
      "Loop:  564\n",
      "\u001b[2m\u001b[36m(RolloutWorker pid=15280)\u001b[0m reset triggered\n",
      "\u001b[2m\u001b[36m(RolloutWorker pid=15280)\u001b[0m reload save for track : 4\n"
     ]
    },
    {
     "name": "stderr",
     "output_type": "stream",
     "text": [
      "\u001b[2m\u001b[36m(RolloutWorker pid=15280)\u001b[0m c:\\Users\\nadir\\anaconda3\\envs\\GTAI2\\lib\\site-packages\\rtgym\\envs\\real_time_env.py:376: UserWarning: Time-step timed out. Elapsed since last time-step: 0.13906989991846785\n",
      "\u001b[2m\u001b[36m(RolloutWorker pid=15280)\u001b[0m   warnings.warn(f\"Time-step timed out. Elapsed since last time-step: {now - self.__t_end}\")\n"
     ]
    },
    {
     "name": "stdout",
     "output_type": "stream",
     "text": [
      "Loop:  565\n",
      "\u001b[2m\u001b[36m(RolloutWorker pid=15280)\u001b[0m reset triggered\n",
      "\u001b[2m\u001b[36m(RolloutWorker pid=15280)\u001b[0m reload save for track : 4\n"
     ]
    },
    {
     "name": "stderr",
     "output_type": "stream",
     "text": [
      "\u001b[2m\u001b[36m(RolloutWorker pid=15280)\u001b[0m c:\\Users\\nadir\\anaconda3\\envs\\GTAI2\\lib\\site-packages\\rtgym\\envs\\real_time_env.py:376: UserWarning: Time-step timed out. Elapsed since last time-step: 0.1486874999172869\n",
      "\u001b[2m\u001b[36m(RolloutWorker pid=15280)\u001b[0m   warnings.warn(f\"Time-step timed out. Elapsed since last time-step: {now - self.__t_end}\")\n"
     ]
    },
    {
     "name": "stdout",
     "output_type": "stream",
     "text": [
      "Loop:  566\n",
      "\u001b[2m\u001b[36m(RolloutWorker pid=15280)\u001b[0m reset triggered\n",
      "\u001b[2m\u001b[36m(RolloutWorker pid=15280)\u001b[0m reload save for track : 4\n"
     ]
    },
    {
     "name": "stderr",
     "output_type": "stream",
     "text": [
      "\u001b[2m\u001b[36m(RolloutWorker pid=15280)\u001b[0m c:\\Users\\nadir\\anaconda3\\envs\\GTAI2\\lib\\site-packages\\rtgym\\envs\\real_time_env.py:376: UserWarning: Time-step timed out. Elapsed since last time-step: 0.1289508999179816\n",
      "\u001b[2m\u001b[36m(RolloutWorker pid=15280)\u001b[0m   warnings.warn(f\"Time-step timed out. Elapsed since last time-step: {now - self.__t_end}\")\n"
     ]
    },
    {
     "name": "stdout",
     "output_type": "stream",
     "text": [
      "Loop:  567\n",
      "Loop:  568\n",
      "\u001b[2m\u001b[36m(RolloutWorker pid=15280)\u001b[0m reset triggered\n",
      "\u001b[2m\u001b[36m(RolloutWorker pid=15280)\u001b[0m reload save for track : 4\n"
     ]
    },
    {
     "name": "stderr",
     "output_type": "stream",
     "text": [
      "\u001b[2m\u001b[36m(RolloutWorker pid=15280)\u001b[0m c:\\Users\\nadir\\anaconda3\\envs\\GTAI2\\lib\\site-packages\\rtgym\\envs\\real_time_env.py:376: UserWarning: Time-step timed out. Elapsed since last time-step: 0.13388899991878134\n",
      "\u001b[2m\u001b[36m(RolloutWorker pid=15280)\u001b[0m   warnings.warn(f\"Time-step timed out. Elapsed since last time-step: {now - self.__t_end}\")\n"
     ]
    },
    {
     "name": "stdout",
     "output_type": "stream",
     "text": [
      "Loop:  569\n",
      "\u001b[2m\u001b[36m(RolloutWorker pid=15280)\u001b[0m reset triggered\n",
      "\u001b[2m\u001b[36m(RolloutWorker pid=15280)\u001b[0m reload save for track : 4\n"
     ]
    },
    {
     "name": "stderr",
     "output_type": "stream",
     "text": [
      "\u001b[2m\u001b[36m(RolloutWorker pid=15280)\u001b[0m c:\\Users\\nadir\\anaconda3\\envs\\GTAI2\\lib\\site-packages\\rtgym\\envs\\real_time_env.py:376: UserWarning: Time-step timed out. Elapsed since last time-step: 0.13959019991852983\n",
      "\u001b[2m\u001b[36m(RolloutWorker pid=15280)\u001b[0m   warnings.warn(f\"Time-step timed out. Elapsed since last time-step: {now - self.__t_end}\")\n"
     ]
    },
    {
     "name": "stdout",
     "output_type": "stream",
     "text": [
      "Loop:  570\n",
      "Saved 570\n",
      "Loop:  571\n",
      "\u001b[2m\u001b[36m(RolloutWorker pid=15280)\u001b[0m reset triggered\n",
      "\u001b[2m\u001b[36m(RolloutWorker pid=15280)\u001b[0m reload save for track : 4\n"
     ]
    },
    {
     "name": "stderr",
     "output_type": "stream",
     "text": [
      "\u001b[2m\u001b[36m(RolloutWorker pid=15280)\u001b[0m c:\\Users\\nadir\\anaconda3\\envs\\GTAI2\\lib\\site-packages\\rtgym\\envs\\real_time_env.py:376: UserWarning: Time-step timed out. Elapsed since last time-step: 0.14760469991961145\n",
      "\u001b[2m\u001b[36m(RolloutWorker pid=15280)\u001b[0m   warnings.warn(f\"Time-step timed out. Elapsed since last time-step: {now - self.__t_end}\")\n"
     ]
    },
    {
     "name": "stdout",
     "output_type": "stream",
     "text": [
      "Loop:  572\n",
      "\u001b[2m\u001b[36m(RolloutWorker pid=15280)\u001b[0m reset triggered\n",
      "\u001b[2m\u001b[36m(RolloutWorker pid=15280)\u001b[0m reload save for track : 4\n"
     ]
    },
    {
     "name": "stderr",
     "output_type": "stream",
     "text": [
      "\u001b[2m\u001b[36m(RolloutWorker pid=15280)\u001b[0m c:\\Users\\nadir\\anaconda3\\envs\\GTAI2\\lib\\site-packages\\rtgym\\envs\\real_time_env.py:376: UserWarning: Time-step timed out. Elapsed since last time-step: 0.16256129991779744\n",
      "\u001b[2m\u001b[36m(RolloutWorker pid=15280)\u001b[0m   warnings.warn(f\"Time-step timed out. Elapsed since last time-step: {now - self.__t_end}\")\n"
     ]
    },
    {
     "name": "stdout",
     "output_type": "stream",
     "text": [
      "Loop:  573\n",
      "Loop:  574\n",
      "\u001b[2m\u001b[36m(RolloutWorker pid=15280)\u001b[0m reset triggered\n",
      "\u001b[2m\u001b[36m(RolloutWorker pid=15280)\u001b[0m reload save for track : 4\n"
     ]
    },
    {
     "name": "stderr",
     "output_type": "stream",
     "text": [
      "\u001b[2m\u001b[36m(RolloutWorker pid=15280)\u001b[0m c:\\Users\\nadir\\anaconda3\\envs\\GTAI2\\lib\\site-packages\\rtgym\\envs\\real_time_env.py:376: UserWarning: Time-step timed out. Elapsed since last time-step: 0.14729039991834725\n",
      "\u001b[2m\u001b[36m(RolloutWorker pid=15280)\u001b[0m   warnings.warn(f\"Time-step timed out. Elapsed since last time-step: {now - self.__t_end}\")\n"
     ]
    },
    {
     "name": "stdout",
     "output_type": "stream",
     "text": [
      "Loop:  575\n",
      "\u001b[2m\u001b[36m(RolloutWorker pid=15280)\u001b[0m reset triggered\n",
      "\u001b[2m\u001b[36m(RolloutWorker pid=15280)\u001b[0m reload save for track : 4\n"
     ]
    },
    {
     "name": "stderr",
     "output_type": "stream",
     "text": [
      "\u001b[2m\u001b[36m(RolloutWorker pid=15280)\u001b[0m c:\\Users\\nadir\\anaconda3\\envs\\GTAI2\\lib\\site-packages\\rtgym\\envs\\real_time_env.py:376: UserWarning: Time-step timed out. Elapsed since last time-step: 0.12290229991958768\n",
      "\u001b[2m\u001b[36m(RolloutWorker pid=15280)\u001b[0m   warnings.warn(f\"Time-step timed out. Elapsed since last time-step: {now - self.__t_end}\")\n"
     ]
    },
    {
     "name": "stdout",
     "output_type": "stream",
     "text": [
      "Loop:  576\n",
      "Loop:  577\n",
      "\u001b[2m\u001b[36m(RolloutWorker pid=15280)\u001b[0m reset triggered\n",
      "\u001b[2m\u001b[36m(RolloutWorker pid=15280)\u001b[0m reload save for track : 4\n"
     ]
    },
    {
     "name": "stderr",
     "output_type": "stream",
     "text": [
      "\u001b[2m\u001b[36m(RolloutWorker pid=15280)\u001b[0m c:\\Users\\nadir\\anaconda3\\envs\\GTAI2\\lib\\site-packages\\rtgym\\envs\\real_time_env.py:376: UserWarning: Time-step timed out. Elapsed since last time-step: 0.13755199991828704\n",
      "\u001b[2m\u001b[36m(RolloutWorker pid=15280)\u001b[0m   warnings.warn(f\"Time-step timed out. Elapsed since last time-step: {now - self.__t_end}\")\n"
     ]
    },
    {
     "name": "stdout",
     "output_type": "stream",
     "text": [
      "Loop:  578\n",
      "\u001b[2m\u001b[36m(RolloutWorker pid=15280)\u001b[0m reset triggered\n",
      "\u001b[2m\u001b[36m(RolloutWorker pid=15280)\u001b[0m reload save for track : 4\n"
     ]
    },
    {
     "name": "stderr",
     "output_type": "stream",
     "text": [
      "\u001b[2m\u001b[36m(RolloutWorker pid=15280)\u001b[0m c:\\Users\\nadir\\anaconda3\\envs\\GTAI2\\lib\\site-packages\\rtgym\\envs\\real_time_env.py:376: UserWarning: Time-step timed out. Elapsed since last time-step: 0.14223299991863314\n",
      "\u001b[2m\u001b[36m(RolloutWorker pid=15280)\u001b[0m   warnings.warn(f\"Time-step timed out. Elapsed since last time-step: {now - self.__t_end}\")\n"
     ]
    },
    {
     "name": "stdout",
     "output_type": "stream",
     "text": [
      "Loop:  579\n",
      "\u001b[2m\u001b[36m(RolloutWorker pid=15280)\u001b[0m reset triggered\n",
      "\u001b[2m\u001b[36m(RolloutWorker pid=15280)\u001b[0m reload save for track : 4\n"
     ]
    },
    {
     "name": "stderr",
     "output_type": "stream",
     "text": [
      "\u001b[2m\u001b[36m(RolloutWorker pid=15280)\u001b[0m c:\\Users\\nadir\\anaconda3\\envs\\GTAI2\\lib\\site-packages\\rtgym\\envs\\real_time_env.py:376: UserWarning: Time-step timed out. Elapsed since last time-step: 0.13745809991814895\n",
      "\u001b[2m\u001b[36m(RolloutWorker pid=15280)\u001b[0m   warnings.warn(f\"Time-step timed out. Elapsed since last time-step: {now - self.__t_end}\")\n"
     ]
    },
    {
     "name": "stdout",
     "output_type": "stream",
     "text": [
      "Loop:  580\n",
      "Saved 580\n",
      "Loop:  581\n",
      "\u001b[2m\u001b[36m(RolloutWorker pid=15280)\u001b[0m reset triggered\n",
      "\u001b[2m\u001b[36m(RolloutWorker pid=15280)\u001b[0m reload save for track : 4\n"
     ]
    },
    {
     "name": "stderr",
     "output_type": "stream",
     "text": [
      "\u001b[2m\u001b[36m(RolloutWorker pid=15280)\u001b[0m c:\\Users\\nadir\\anaconda3\\envs\\GTAI2\\lib\\site-packages\\rtgym\\envs\\real_time_env.py:376: UserWarning: Time-step timed out. Elapsed since last time-step: 0.17009469991899095\n",
      "\u001b[2m\u001b[36m(RolloutWorker pid=15280)\u001b[0m   warnings.warn(f\"Time-step timed out. Elapsed since last time-step: {now - self.__t_end}\")\n"
     ]
    },
    {
     "name": "stdout",
     "output_type": "stream",
     "text": [
      "Loop:  582\n",
      "\u001b[2m\u001b[36m(RolloutWorker pid=15280)\u001b[0m reset triggered\n",
      "\u001b[2m\u001b[36m(RolloutWorker pid=15280)\u001b[0m reload save for track : 4\n"
     ]
    },
    {
     "name": "stderr",
     "output_type": "stream",
     "text": [
      "\u001b[2m\u001b[36m(RolloutWorker pid=15280)\u001b[0m c:\\Users\\nadir\\anaconda3\\envs\\GTAI2\\lib\\site-packages\\rtgym\\envs\\real_time_env.py:376: UserWarning: Time-step timed out. Elapsed since last time-step: 0.1433079999169422\n",
      "\u001b[2m\u001b[36m(RolloutWorker pid=15280)\u001b[0m   warnings.warn(f\"Time-step timed out. Elapsed since last time-step: {now - self.__t_end}\")\n"
     ]
    },
    {
     "name": "stdout",
     "output_type": "stream",
     "text": [
      "Loop:  583\n",
      "Loop:  584\n",
      "\u001b[2m\u001b[36m(RolloutWorker pid=15280)\u001b[0m reset triggered\n",
      "\u001b[2m\u001b[36m(RolloutWorker pid=15280)\u001b[0m reload save for track : 4\n"
     ]
    },
    {
     "name": "stderr",
     "output_type": "stream",
     "text": [
      "\u001b[2m\u001b[36m(RolloutWorker pid=15280)\u001b[0m c:\\Users\\nadir\\anaconda3\\envs\\GTAI2\\lib\\site-packages\\rtgym\\envs\\real_time_env.py:376: UserWarning: Time-step timed out. Elapsed since last time-step: 0.15935549991991138\n",
      "\u001b[2m\u001b[36m(RolloutWorker pid=15280)\u001b[0m   warnings.warn(f\"Time-step timed out. Elapsed since last time-step: {now - self.__t_end}\")\n"
     ]
    },
    {
     "name": "stdout",
     "output_type": "stream",
     "text": [
      "Loop:  585\n",
      "\u001b[2m\u001b[36m(RolloutWorker pid=15280)\u001b[0m reset triggered\n",
      "\u001b[2m\u001b[36m(RolloutWorker pid=15280)\u001b[0m reload save for track : 4\n"
     ]
    },
    {
     "name": "stderr",
     "output_type": "stream",
     "text": [
      "\u001b[2m\u001b[36m(RolloutWorker pid=15280)\u001b[0m c:\\Users\\nadir\\anaconda3\\envs\\GTAI2\\lib\\site-packages\\rtgym\\envs\\real_time_env.py:376: UserWarning: Time-step timed out. Elapsed since last time-step: 0.1472859999175853\n",
      "\u001b[2m\u001b[36m(RolloutWorker pid=15280)\u001b[0m   warnings.warn(f\"Time-step timed out. Elapsed since last time-step: {now - self.__t_end}\")\n"
     ]
    },
    {
     "name": "stdout",
     "output_type": "stream",
     "text": [
      "Loop:  586\n",
      "Loop:  587\n",
      "\u001b[2m\u001b[36m(RolloutWorker pid=15280)\u001b[0m reset triggered\n",
      "\u001b[2m\u001b[36m(RolloutWorker pid=15280)\u001b[0m reload save for track : 4\n"
     ]
    },
    {
     "name": "stderr",
     "output_type": "stream",
     "text": [
      "\u001b[2m\u001b[36m(RolloutWorker pid=15280)\u001b[0m c:\\Users\\nadir\\anaconda3\\envs\\GTAI2\\lib\\site-packages\\rtgym\\envs\\real_time_env.py:376: UserWarning: Time-step timed out. Elapsed since last time-step: 0.12267569991854543\n",
      "\u001b[2m\u001b[36m(RolloutWorker pid=15280)\u001b[0m   warnings.warn(f\"Time-step timed out. Elapsed since last time-step: {now - self.__t_end}\")\n"
     ]
    },
    {
     "name": "stdout",
     "output_type": "stream",
     "text": [
      "Loop:  588\n",
      "\u001b[2m\u001b[36m(RolloutWorker pid=15280)\u001b[0m reset triggered\n",
      "\u001b[2m\u001b[36m(RolloutWorker pid=15280)\u001b[0m reload save for track : 4\n"
     ]
    },
    {
     "name": "stderr",
     "output_type": "stream",
     "text": [
      "\u001b[2m\u001b[36m(RolloutWorker pid=15280)\u001b[0m c:\\Users\\nadir\\anaconda3\\envs\\GTAI2\\lib\\site-packages\\rtgym\\envs\\real_time_env.py:376: UserWarning: Time-step timed out. Elapsed since last time-step: 0.1473503999186505\n",
      "\u001b[2m\u001b[36m(RolloutWorker pid=15280)\u001b[0m   warnings.warn(f\"Time-step timed out. Elapsed since last time-step: {now - self.__t_end}\")\n"
     ]
    },
    {
     "name": "stdout",
     "output_type": "stream",
     "text": [
      "Loop:  589\n",
      "Loop:  590\n",
      "Saved 590\n",
      "\u001b[2m\u001b[36m(RolloutWorker pid=15280)\u001b[0m reset triggered\n",
      "\u001b[2m\u001b[36m(RolloutWorker pid=15280)\u001b[0m reload save for track : 4\n"
     ]
    },
    {
     "name": "stderr",
     "output_type": "stream",
     "text": [
      "\u001b[2m\u001b[36m(RolloutWorker pid=15280)\u001b[0m c:\\Users\\nadir\\anaconda3\\envs\\GTAI2\\lib\\site-packages\\rtgym\\envs\\real_time_env.py:376: UserWarning: Time-step timed out. Elapsed since last time-step: 0.13254539991794445\n",
      "\u001b[2m\u001b[36m(RolloutWorker pid=15280)\u001b[0m   warnings.warn(f\"Time-step timed out. Elapsed since last time-step: {now - self.__t_end}\")\n"
     ]
    },
    {
     "name": "stdout",
     "output_type": "stream",
     "text": [
      "Loop:  591\n",
      "\u001b[2m\u001b[36m(RolloutWorker pid=15280)\u001b[0m reset triggered\n",
      "\u001b[2m\u001b[36m(RolloutWorker pid=15280)\u001b[0m reload save for track : 4\n"
     ]
    },
    {
     "name": "stderr",
     "output_type": "stream",
     "text": [
      "\u001b[2m\u001b[36m(RolloutWorker pid=15280)\u001b[0m c:\\Users\\nadir\\anaconda3\\envs\\GTAI2\\lib\\site-packages\\rtgym\\envs\\real_time_env.py:376: UserWarning: Time-step timed out. Elapsed since last time-step: 0.1478658999185427\n",
      "\u001b[2m\u001b[36m(RolloutWorker pid=15280)\u001b[0m   warnings.warn(f\"Time-step timed out. Elapsed since last time-step: {now - self.__t_end}\")\n"
     ]
    },
    {
     "name": "stdout",
     "output_type": "stream",
     "text": [
      "Loop:  592\n",
      "\u001b[2m\u001b[36m(RolloutWorker pid=15280)\u001b[0m reset triggered\n",
      "\u001b[2m\u001b[36m(RolloutWorker pid=15280)\u001b[0m reload save for track : 4\n"
     ]
    },
    {
     "name": "stderr",
     "output_type": "stream",
     "text": [
      "\u001b[2m\u001b[36m(RolloutWorker pid=15280)\u001b[0m c:\\Users\\nadir\\anaconda3\\envs\\GTAI2\\lib\\site-packages\\rtgym\\envs\\real_time_env.py:376: UserWarning: Time-step timed out. Elapsed since last time-step: 0.1626134999187343\n",
      "\u001b[2m\u001b[36m(RolloutWorker pid=15280)\u001b[0m   warnings.warn(f\"Time-step timed out. Elapsed since last time-step: {now - self.__t_end}\")\n"
     ]
    },
    {
     "name": "stdout",
     "output_type": "stream",
     "text": [
      "Loop:  593\n",
      "Loop:  594\n",
      "\u001b[2m\u001b[36m(RolloutWorker pid=15280)\u001b[0m reset triggered\n",
      "\u001b[2m\u001b[36m(RolloutWorker pid=15280)\u001b[0m reload save for track : 4\n"
     ]
    },
    {
     "name": "stderr",
     "output_type": "stream",
     "text": [
      "\u001b[2m\u001b[36m(RolloutWorker pid=15280)\u001b[0m c:\\Users\\nadir\\anaconda3\\envs\\GTAI2\\lib\\site-packages\\rtgym\\envs\\real_time_env.py:376: UserWarning: Time-step timed out. Elapsed since last time-step: 0.13971559991841787\n",
      "\u001b[2m\u001b[36m(RolloutWorker pid=15280)\u001b[0m   warnings.warn(f\"Time-step timed out. Elapsed since last time-step: {now - self.__t_end}\")\n"
     ]
    },
    {
     "name": "stdout",
     "output_type": "stream",
     "text": [
      "Loop:  595\n",
      "\u001b[2m\u001b[36m(RolloutWorker pid=15280)\u001b[0m reset triggered\n",
      "\u001b[2m\u001b[36m(RolloutWorker pid=15280)\u001b[0m reload save for track : 4\n"
     ]
    },
    {
     "name": "stderr",
     "output_type": "stream",
     "text": [
      "\u001b[2m\u001b[36m(RolloutWorker pid=15280)\u001b[0m c:\\Users\\nadir\\anaconda3\\envs\\GTAI2\\lib\\site-packages\\rtgym\\envs\\real_time_env.py:376: UserWarning: Time-step timed out. Elapsed since last time-step: 0.14770289991975005\n",
      "\u001b[2m\u001b[36m(RolloutWorker pid=15280)\u001b[0m   warnings.warn(f\"Time-step timed out. Elapsed since last time-step: {now - self.__t_end}\")\n"
     ]
    },
    {
     "name": "stdout",
     "output_type": "stream",
     "text": [
      "Loop:  596\n",
      "Loop:  597\n",
      "\u001b[2m\u001b[36m(RolloutWorker pid=15280)\u001b[0m reset triggered\n",
      "\u001b[2m\u001b[36m(RolloutWorker pid=15280)\u001b[0m reload save for track : 4\n"
     ]
    },
    {
     "name": "stderr",
     "output_type": "stream",
     "text": [
      "\u001b[2m\u001b[36m(RolloutWorker pid=15280)\u001b[0m c:\\Users\\nadir\\anaconda3\\envs\\GTAI2\\lib\\site-packages\\rtgym\\envs\\real_time_env.py:376: UserWarning: Time-step timed out. Elapsed since last time-step: 0.1228457999186503\n",
      "\u001b[2m\u001b[36m(RolloutWorker pid=15280)\u001b[0m   warnings.warn(f\"Time-step timed out. Elapsed since last time-step: {now - self.__t_end}\")\n"
     ]
    },
    {
     "name": "stdout",
     "output_type": "stream",
     "text": [
      "Loop:  598\n",
      "\u001b[2m\u001b[36m(RolloutWorker pid=15280)\u001b[0m reset triggered\n",
      "\u001b[2m\u001b[36m(RolloutWorker pid=15280)\u001b[0m reload save for track : 4\n"
     ]
    },
    {
     "name": "stderr",
     "output_type": "stream",
     "text": [
      "\u001b[2m\u001b[36m(RolloutWorker pid=15280)\u001b[0m c:\\Users\\nadir\\anaconda3\\envs\\GTAI2\\lib\\site-packages\\rtgym\\envs\\real_time_env.py:376: UserWarning: Time-step timed out. Elapsed since last time-step: 0.13979239991749637\n",
      "\u001b[2m\u001b[36m(RolloutWorker pid=15280)\u001b[0m   warnings.warn(f\"Time-step timed out. Elapsed since last time-step: {now - self.__t_end}\")\n"
     ]
    },
    {
     "name": "stdout",
     "output_type": "stream",
     "text": [
      "Loop:  599\n",
      "Loop:  600\n",
      "Saved 600\n",
      "\u001b[2m\u001b[36m(RolloutWorker pid=15280)\u001b[0m reset triggered\n",
      "\u001b[2m\u001b[36m(RolloutWorker pid=15280)\u001b[0m reload save for track : 4\n"
     ]
    },
    {
     "name": "stderr",
     "output_type": "stream",
     "text": [
      "\u001b[2m\u001b[36m(RolloutWorker pid=15280)\u001b[0m c:\\Users\\nadir\\anaconda3\\envs\\GTAI2\\lib\\site-packages\\rtgym\\envs\\real_time_env.py:376: UserWarning: Time-step timed out. Elapsed since last time-step: 0.1505067999187304\n",
      "\u001b[2m\u001b[36m(RolloutWorker pid=15280)\u001b[0m   warnings.warn(f\"Time-step timed out. Elapsed since last time-step: {now - self.__t_end}\")\n"
     ]
    },
    {
     "name": "stdout",
     "output_type": "stream",
     "text": [
      "Loop:  601\n",
      "\u001b[2m\u001b[36m(RolloutWorker pid=15280)\u001b[0m reset triggered\n",
      "\u001b[2m\u001b[36m(RolloutWorker pid=15280)\u001b[0m reload save for track : 4\n"
     ]
    },
    {
     "name": "stderr",
     "output_type": "stream",
     "text": [
      "\u001b[2m\u001b[36m(RolloutWorker pid=15280)\u001b[0m c:\\Users\\nadir\\anaconda3\\envs\\GTAI2\\lib\\site-packages\\rtgym\\envs\\real_time_env.py:376: UserWarning: Time-step timed out. Elapsed since last time-step: 0.1470109999190754\n",
      "\u001b[2m\u001b[36m(RolloutWorker pid=15280)\u001b[0m   warnings.warn(f\"Time-step timed out. Elapsed since last time-step: {now - self.__t_end}\")\n"
     ]
    },
    {
     "name": "stdout",
     "output_type": "stream",
     "text": [
      "Loop:  602\n",
      "Loop:  603\n",
      "\u001b[2m\u001b[36m(RolloutWorker pid=15280)\u001b[0m reset triggered\n",
      "\u001b[2m\u001b[36m(RolloutWorker pid=15280)\u001b[0m reload save for track : 4\n"
     ]
    },
    {
     "name": "stderr",
     "output_type": "stream",
     "text": [
      "\u001b[2m\u001b[36m(RolloutWorker pid=15280)\u001b[0m c:\\Users\\nadir\\anaconda3\\envs\\GTAI2\\lib\\site-packages\\rtgym\\envs\\real_time_env.py:376: UserWarning: Time-step timed out. Elapsed since last time-step: 0.1699857999174128\n",
      "\u001b[2m\u001b[36m(RolloutWorker pid=15280)\u001b[0m   warnings.warn(f\"Time-step timed out. Elapsed since last time-step: {now - self.__t_end}\")\n"
     ]
    },
    {
     "name": "stdout",
     "output_type": "stream",
     "text": [
      "Loop:  604\n",
      "\u001b[2m\u001b[36m(RolloutWorker pid=15280)\u001b[0m reset triggered\n",
      "\u001b[2m\u001b[36m(RolloutWorker pid=15280)\u001b[0m reload save for track : 4\n"
     ]
    },
    {
     "name": "stderr",
     "output_type": "stream",
     "text": [
      "\u001b[2m\u001b[36m(RolloutWorker pid=15280)\u001b[0m c:\\Users\\nadir\\anaconda3\\envs\\GTAI2\\lib\\site-packages\\rtgym\\envs\\real_time_env.py:376: UserWarning: Time-step timed out. Elapsed since last time-step: 0.13255269991896057\n",
      "\u001b[2m\u001b[36m(RolloutWorker pid=15280)\u001b[0m   warnings.warn(f\"Time-step timed out. Elapsed since last time-step: {now - self.__t_end}\")\n"
     ]
    },
    {
     "name": "stdout",
     "output_type": "stream",
     "text": [
      "Loop:  605\n",
      "\u001b[2m\u001b[36m(RolloutWorker pid=15280)\u001b[0m reset triggered\n",
      "\u001b[2m\u001b[36m(RolloutWorker pid=15280)\u001b[0m reload save for track : 4\n"
     ]
    },
    {
     "name": "stderr",
     "output_type": "stream",
     "text": [
      "\u001b[2m\u001b[36m(RolloutWorker pid=15280)\u001b[0m c:\\Users\\nadir\\anaconda3\\envs\\GTAI2\\lib\\site-packages\\rtgym\\envs\\real_time_env.py:376: UserWarning: Time-step timed out. Elapsed since last time-step: 0.15718759991796105\n",
      "\u001b[2m\u001b[36m(RolloutWorker pid=15280)\u001b[0m   warnings.warn(f\"Time-step timed out. Elapsed since last time-step: {now - self.__t_end}\")\n"
     ]
    },
    {
     "name": "stdout",
     "output_type": "stream",
     "text": [
      "Loop:  606\n",
      "Loop:  607\n",
      "\u001b[2m\u001b[36m(RolloutWorker pid=15280)\u001b[0m reset triggered\n",
      "\u001b[2m\u001b[36m(RolloutWorker pid=15280)\u001b[0m reload save for track : 4\n"
     ]
    },
    {
     "name": "stderr",
     "output_type": "stream",
     "text": [
      "\u001b[2m\u001b[36m(RolloutWorker pid=15280)\u001b[0m c:\\Users\\nadir\\anaconda3\\envs\\GTAI2\\lib\\site-packages\\rtgym\\envs\\real_time_env.py:376: UserWarning: Time-step timed out. Elapsed since last time-step: 0.14299759991990868\n",
      "\u001b[2m\u001b[36m(RolloutWorker pid=15280)\u001b[0m   warnings.warn(f\"Time-step timed out. Elapsed since last time-step: {now - self.__t_end}\")\n"
     ]
    },
    {
     "name": "stdout",
     "output_type": "stream",
     "text": [
      "Loop:  608\n",
      "\u001b[2m\u001b[36m(RolloutWorker pid=15280)\u001b[0m reset triggered\n",
      "\u001b[2m\u001b[36m(RolloutWorker pid=15280)\u001b[0m reload save for track : 4\n"
     ]
    },
    {
     "name": "stderr",
     "output_type": "stream",
     "text": [
      "\u001b[2m\u001b[36m(RolloutWorker pid=15280)\u001b[0m c:\\Users\\nadir\\anaconda3\\envs\\GTAI2\\lib\\site-packages\\rtgym\\envs\\real_time_env.py:376: UserWarning: Time-step timed out. Elapsed since last time-step: 0.1502322999185708\n",
      "\u001b[2m\u001b[36m(RolloutWorker pid=15280)\u001b[0m   warnings.warn(f\"Time-step timed out. Elapsed since last time-step: {now - self.__t_end}\")\n"
     ]
    },
    {
     "name": "stdout",
     "output_type": "stream",
     "text": [
      "Loop:  609\n",
      "Loop:  610\n",
      "Saved 610\n",
      "\u001b[2m\u001b[36m(RolloutWorker pid=15280)\u001b[0m reset triggered\n",
      "\u001b[2m\u001b[36m(RolloutWorker pid=15280)\u001b[0m reload save for track : 4\n"
     ]
    },
    {
     "name": "stderr",
     "output_type": "stream",
     "text": [
      "\u001b[2m\u001b[36m(RolloutWorker pid=15280)\u001b[0m c:\\Users\\nadir\\anaconda3\\envs\\GTAI2\\lib\\site-packages\\rtgym\\envs\\real_time_env.py:376: UserWarning: Time-step timed out. Elapsed since last time-step: 0.1466453999182704\n",
      "\u001b[2m\u001b[36m(RolloutWorker pid=15280)\u001b[0m   warnings.warn(f\"Time-step timed out. Elapsed since last time-step: {now - self.__t_end}\")\n"
     ]
    },
    {
     "name": "stdout",
     "output_type": "stream",
     "text": [
      "Loop:  611\n"
     ]
    },
    {
     "name": "stderr",
     "output_type": "stream",
     "text": [
      "\u001b[2m\u001b[36m(RolloutWorker pid=15280)\u001b[0m c:\\Users\\nadir\\anaconda3\\envs\\GTAI2\\lib\\site-packages\\rtgym\\envs\\real_time_env.py:376: UserWarning: Time-step timed out. Elapsed since last time-step: 0.13097319991720724\n",
      "\u001b[2m\u001b[36m(RolloutWorker pid=15280)\u001b[0m   warnings.warn(f\"Time-step timed out. Elapsed since last time-step: {now - self.__t_end}\")\n"
     ]
    },
    {
     "name": "stdout",
     "output_type": "stream",
     "text": [
      "\u001b[2m\u001b[36m(RolloutWorker pid=15280)\u001b[0m reset triggered\n",
      "\u001b[2m\u001b[36m(RolloutWorker pid=15280)\u001b[0m reload save for track : 4\n",
      "Loop:  612\n",
      "Loop:  613\n",
      "\u001b[2m\u001b[36m(RolloutWorker pid=15280)\u001b[0m reset triggered\n",
      "\u001b[2m\u001b[36m(RolloutWorker pid=15280)\u001b[0m reload save for track : 4\n"
     ]
    },
    {
     "name": "stderr",
     "output_type": "stream",
     "text": [
      "\u001b[2m\u001b[36m(RolloutWorker pid=15280)\u001b[0m c:\\Users\\nadir\\anaconda3\\envs\\GTAI2\\lib\\site-packages\\rtgym\\envs\\real_time_env.py:376: UserWarning: Time-step timed out. Elapsed since last time-step: 0.15905059991928283\n",
      "\u001b[2m\u001b[36m(RolloutWorker pid=15280)\u001b[0m   warnings.warn(f\"Time-step timed out. Elapsed since last time-step: {now - self.__t_end}\")\n"
     ]
    },
    {
     "name": "stdout",
     "output_type": "stream",
     "text": [
      "Loop:  614\n",
      "\u001b[2m\u001b[36m(RolloutWorker pid=15280)\u001b[0m reset triggered\n",
      "\u001b[2m\u001b[36m(RolloutWorker pid=15280)\u001b[0m reload save for track : 4\n"
     ]
    },
    {
     "name": "stderr",
     "output_type": "stream",
     "text": [
      "\u001b[2m\u001b[36m(RolloutWorker pid=15280)\u001b[0m c:\\Users\\nadir\\anaconda3\\envs\\GTAI2\\lib\\site-packages\\rtgym\\envs\\real_time_env.py:376: UserWarning: Time-step timed out. Elapsed since last time-step: 0.13248409991865628\n",
      "\u001b[2m\u001b[36m(RolloutWorker pid=15280)\u001b[0m   warnings.warn(f\"Time-step timed out. Elapsed since last time-step: {now - self.__t_end}\")\n"
     ]
    },
    {
     "name": "stdout",
     "output_type": "stream",
     "text": [
      "Loop:  615\n",
      "Loop:  616\n",
      "\u001b[2m\u001b[36m(RolloutWorker pid=15280)\u001b[0m reset triggered\n",
      "\u001b[2m\u001b[36m(RolloutWorker pid=15280)\u001b[0m reload save for track : 4\n"
     ]
    },
    {
     "name": "stderr",
     "output_type": "stream",
     "text": [
      "\u001b[2m\u001b[36m(RolloutWorker pid=15280)\u001b[0m c:\\Users\\nadir\\anaconda3\\envs\\GTAI2\\lib\\site-packages\\rtgym\\envs\\real_time_env.py:376: UserWarning: Time-step timed out. Elapsed since last time-step: 0.1376435999191017\n",
      "\u001b[2m\u001b[36m(RolloutWorker pid=15280)\u001b[0m   warnings.warn(f\"Time-step timed out. Elapsed since last time-step: {now - self.__t_end}\")\n"
     ]
    },
    {
     "name": "stdout",
     "output_type": "stream",
     "text": [
      "Loop:  617\n",
      "\u001b[2m\u001b[36m(RolloutWorker pid=15280)\u001b[0m reset triggered\n",
      "\u001b[2m\u001b[36m(RolloutWorker pid=15280)\u001b[0m reload save for track : 4\n"
     ]
    },
    {
     "name": "stderr",
     "output_type": "stream",
     "text": [
      "\u001b[2m\u001b[36m(RolloutWorker pid=15280)\u001b[0m c:\\Users\\nadir\\anaconda3\\envs\\GTAI2\\lib\\site-packages\\rtgym\\envs\\real_time_env.py:376: UserWarning: Time-step timed out. Elapsed since last time-step: 0.15397719991779013\n",
      "\u001b[2m\u001b[36m(RolloutWorker pid=15280)\u001b[0m   warnings.warn(f\"Time-step timed out. Elapsed since last time-step: {now - self.__t_end}\")\n"
     ]
    },
    {
     "name": "stdout",
     "output_type": "stream",
     "text": [
      "Loop:  618\n",
      "\u001b[2m\u001b[36m(RolloutWorker pid=15280)\u001b[0m reset triggered\n",
      "\u001b[2m\u001b[36m(RolloutWorker pid=15280)\u001b[0m reload save for track : 4\n"
     ]
    },
    {
     "name": "stderr",
     "output_type": "stream",
     "text": [
      "\u001b[2m\u001b[36m(RolloutWorker pid=15280)\u001b[0m c:\\Users\\nadir\\anaconda3\\envs\\GTAI2\\lib\\site-packages\\rtgym\\envs\\real_time_env.py:376: UserWarning: Time-step timed out. Elapsed since last time-step: 0.146888599918384\n",
      "\u001b[2m\u001b[36m(RolloutWorker pid=15280)\u001b[0m   warnings.warn(f\"Time-step timed out. Elapsed since last time-step: {now - self.__t_end}\")\n"
     ]
    },
    {
     "name": "stdout",
     "output_type": "stream",
     "text": [
      "Loop:  619\n",
      "Loop:  620\n",
      "Saved 620\n",
      "\u001b[2m\u001b[36m(RolloutWorker pid=15280)\u001b[0m reset triggered\n",
      "\u001b[2m\u001b[36m(RolloutWorker pid=15280)\u001b[0m reload save for track : 4\n"
     ]
    },
    {
     "name": "stderr",
     "output_type": "stream",
     "text": [
      "\u001b[2m\u001b[36m(RolloutWorker pid=15280)\u001b[0m c:\\Users\\nadir\\anaconda3\\envs\\GTAI2\\lib\\site-packages\\rtgym\\envs\\real_time_env.py:376: UserWarning: Time-step timed out. Elapsed since last time-step: 0.15924129991799418\n",
      "\u001b[2m\u001b[36m(RolloutWorker pid=15280)\u001b[0m   warnings.warn(f\"Time-step timed out. Elapsed since last time-step: {now - self.__t_end}\")\n"
     ]
    },
    {
     "name": "stdout",
     "output_type": "stream",
     "text": [
      "Loop:  621\n",
      "\u001b[2m\u001b[36m(RolloutWorker pid=15280)\u001b[0m reset triggered\n",
      "\u001b[2m\u001b[36m(RolloutWorker pid=15280)\u001b[0m reload save for track : 4\n"
     ]
    },
    {
     "name": "stderr",
     "output_type": "stream",
     "text": [
      "\u001b[2m\u001b[36m(RolloutWorker pid=15280)\u001b[0m c:\\Users\\nadir\\anaconda3\\envs\\GTAI2\\lib\\site-packages\\rtgym\\envs\\real_time_env.py:376: UserWarning: Time-step timed out. Elapsed since last time-step: 0.14346729991848406\n",
      "\u001b[2m\u001b[36m(RolloutWorker pid=15280)\u001b[0m   warnings.warn(f\"Time-step timed out. Elapsed since last time-step: {now - self.__t_end}\")\n"
     ]
    },
    {
     "name": "stdout",
     "output_type": "stream",
     "text": [
      "Loop:  622\n",
      "Loop:  623\n",
      "\u001b[2m\u001b[36m(RolloutWorker pid=15280)\u001b[0m reset triggered\n",
      "\u001b[2m\u001b[36m(RolloutWorker pid=15280)\u001b[0m reload save for track : 4\n"
     ]
    },
    {
     "name": "stderr",
     "output_type": "stream",
     "text": [
      "\u001b[2m\u001b[36m(RolloutWorker pid=15280)\u001b[0m c:\\Users\\nadir\\anaconda3\\envs\\GTAI2\\lib\\site-packages\\rtgym\\envs\\real_time_env.py:376: UserWarning: Time-step timed out. Elapsed since last time-step: 0.14710579991879058\n",
      "\u001b[2m\u001b[36m(RolloutWorker pid=15280)\u001b[0m   warnings.warn(f\"Time-step timed out. Elapsed since last time-step: {now - self.__t_end}\")\n"
     ]
    },
    {
     "name": "stdout",
     "output_type": "stream",
     "text": [
      "Loop:  624\n",
      "\u001b[2m\u001b[36m(RolloutWorker pid=15280)\u001b[0m reset triggered\n",
      "\u001b[2m\u001b[36m(RolloutWorker pid=15280)\u001b[0m reload save for track : 4\n"
     ]
    },
    {
     "name": "stderr",
     "output_type": "stream",
     "text": [
      "\u001b[2m\u001b[36m(RolloutWorker pid=15280)\u001b[0m c:\\Users\\nadir\\anaconda3\\envs\\GTAI2\\lib\\site-packages\\rtgym\\envs\\real_time_env.py:376: UserWarning: Time-step timed out. Elapsed since last time-step: 0.14213819991891796\n",
      "\u001b[2m\u001b[36m(RolloutWorker pid=15280)\u001b[0m   warnings.warn(f\"Time-step timed out. Elapsed since last time-step: {now - self.__t_end}\")\n"
     ]
    },
    {
     "name": "stdout",
     "output_type": "stream",
     "text": [
      "Loop:  625\n",
      "Loop:  626\n",
      "\u001b[2m\u001b[36m(RolloutWorker pid=15280)\u001b[0m reset triggered\n",
      "\u001b[2m\u001b[36m(RolloutWorker pid=15280)\u001b[0m reload save for track : 4\n"
     ]
    },
    {
     "name": "stderr",
     "output_type": "stream",
     "text": [
      "\u001b[2m\u001b[36m(RolloutWorker pid=15280)\u001b[0m c:\\Users\\nadir\\anaconda3\\envs\\GTAI2\\lib\\site-packages\\rtgym\\envs\\real_time_env.py:376: UserWarning: Time-step timed out. Elapsed since last time-step: 0.14059069991890283\n",
      "\u001b[2m\u001b[36m(RolloutWorker pid=15280)\u001b[0m   warnings.warn(f\"Time-step timed out. Elapsed since last time-step: {now - self.__t_end}\")\n"
     ]
    },
    {
     "name": "stdout",
     "output_type": "stream",
     "text": [
      "Loop:  627\n",
      "\u001b[2m\u001b[36m(RolloutWorker pid=15280)\u001b[0m reset triggered\n",
      "\u001b[2m\u001b[36m(RolloutWorker pid=15280)\u001b[0m reload save for track : 4\n"
     ]
    },
    {
     "name": "stderr",
     "output_type": "stream",
     "text": [
      "\u001b[2m\u001b[36m(RolloutWorker pid=15280)\u001b[0m c:\\Users\\nadir\\anaconda3\\envs\\GTAI2\\lib\\site-packages\\rtgym\\envs\\real_time_env.py:376: UserWarning: Time-step timed out. Elapsed since last time-step: 0.14670069991734636\n",
      "\u001b[2m\u001b[36m(RolloutWorker pid=15280)\u001b[0m   warnings.warn(f\"Time-step timed out. Elapsed since last time-step: {now - self.__t_end}\")\n"
     ]
    },
    {
     "name": "stdout",
     "output_type": "stream",
     "text": [
      "Loop:  628\n",
      "Loop:  629\n",
      "\u001b[2m\u001b[36m(RolloutWorker pid=15280)\u001b[0m reset triggered\n",
      "\u001b[2m\u001b[36m(RolloutWorker pid=15280)\u001b[0m reload save for track : 4\n"
     ]
    },
    {
     "name": "stderr",
     "output_type": "stream",
     "text": [
      "\u001b[2m\u001b[36m(RolloutWorker pid=15280)\u001b[0m c:\\Users\\nadir\\anaconda3\\envs\\GTAI2\\lib\\site-packages\\rtgym\\envs\\real_time_env.py:376: UserWarning: Time-step timed out. Elapsed since last time-step: 0.15400159991986584\n",
      "\u001b[2m\u001b[36m(RolloutWorker pid=15280)\u001b[0m   warnings.warn(f\"Time-step timed out. Elapsed since last time-step: {now - self.__t_end}\")\n"
     ]
    },
    {
     "name": "stdout",
     "output_type": "stream",
     "text": [
      "Loop:  630\n",
      "Saved 630\n",
      "\u001b[2m\u001b[36m(RolloutWorker pid=15280)\u001b[0m reset triggered\n",
      "\u001b[2m\u001b[36m(RolloutWorker pid=15280)\u001b[0m reload save for track : 4\n"
     ]
    },
    {
     "name": "stderr",
     "output_type": "stream",
     "text": [
      "\u001b[2m\u001b[36m(RolloutWorker pid=15280)\u001b[0m c:\\Users\\nadir\\anaconda3\\envs\\GTAI2\\lib\\site-packages\\rtgym\\envs\\real_time_env.py:376: UserWarning: Time-step timed out. Elapsed since last time-step: 0.15700659991853172\n",
      "\u001b[2m\u001b[36m(RolloutWorker pid=15280)\u001b[0m   warnings.warn(f\"Time-step timed out. Elapsed since last time-step: {now - self.__t_end}\")\n"
     ]
    },
    {
     "name": "stdout",
     "output_type": "stream",
     "text": [
      "Loop:  631\n",
      "\u001b[2m\u001b[36m(RolloutWorker pid=15280)\u001b[0m reset triggered\n",
      "\u001b[2m\u001b[36m(RolloutWorker pid=15280)\u001b[0m reload save for track : 4\n"
     ]
    },
    {
     "name": "stderr",
     "output_type": "stream",
     "text": [
      "\u001b[2m\u001b[36m(RolloutWorker pid=15280)\u001b[0m c:\\Users\\nadir\\anaconda3\\envs\\GTAI2\\lib\\site-packages\\rtgym\\envs\\real_time_env.py:376: UserWarning: Time-step timed out. Elapsed since last time-step: 0.13243469991721213\n",
      "\u001b[2m\u001b[36m(RolloutWorker pid=15280)\u001b[0m   warnings.warn(f\"Time-step timed out. Elapsed since last time-step: {now - self.__t_end}\")\n"
     ]
    },
    {
     "name": "stdout",
     "output_type": "stream",
     "text": [
      "Loop:  632\n",
      "Loop:  633\n",
      "\u001b[2m\u001b[36m(RolloutWorker pid=15280)\u001b[0m reset triggered\n",
      "\u001b[2m\u001b[36m(RolloutWorker pid=15280)\u001b[0m reload save for track : 4\n"
     ]
    },
    {
     "name": "stderr",
     "output_type": "stream",
     "text": [
      "\u001b[2m\u001b[36m(RolloutWorker pid=15280)\u001b[0m c:\\Users\\nadir\\anaconda3\\envs\\GTAI2\\lib\\site-packages\\rtgym\\envs\\real_time_env.py:376: UserWarning: Time-step timed out. Elapsed since last time-step: 0.1369770999190223\n",
      "\u001b[2m\u001b[36m(RolloutWorker pid=15280)\u001b[0m   warnings.warn(f\"Time-step timed out. Elapsed since last time-step: {now - self.__t_end}\")\n"
     ]
    },
    {
     "name": "stdout",
     "output_type": "stream",
     "text": [
      "Loop:  634\n",
      "\u001b[2m\u001b[36m(RolloutWorker pid=15280)\u001b[0m reset triggered\n",
      "\u001b[2m\u001b[36m(RolloutWorker pid=15280)\u001b[0m reload save for track : 4\n"
     ]
    },
    {
     "name": "stderr",
     "output_type": "stream",
     "text": [
      "\u001b[2m\u001b[36m(RolloutWorker pid=15280)\u001b[0m c:\\Users\\nadir\\anaconda3\\envs\\GTAI2\\lib\\site-packages\\rtgym\\envs\\real_time_env.py:376: UserWarning: Time-step timed out. Elapsed since last time-step: 0.13362229991798813\n",
      "\u001b[2m\u001b[36m(RolloutWorker pid=15280)\u001b[0m   warnings.warn(f\"Time-step timed out. Elapsed since last time-step: {now - self.__t_end}\")\n"
     ]
    },
    {
     "name": "stdout",
     "output_type": "stream",
     "text": [
      "Loop:  635\n",
      "Loop:  636\n",
      "\u001b[2m\u001b[36m(RolloutWorker pid=15280)\u001b[0m reset triggered\n",
      "\u001b[2m\u001b[36m(RolloutWorker pid=15280)\u001b[0m reload save for track : 4\n"
     ]
    },
    {
     "name": "stderr",
     "output_type": "stream",
     "text": [
      "\u001b[2m\u001b[36m(RolloutWorker pid=15280)\u001b[0m c:\\Users\\nadir\\anaconda3\\envs\\GTAI2\\lib\\site-packages\\rtgym\\envs\\real_time_env.py:376: UserWarning: Time-step timed out. Elapsed since last time-step: 0.1497383999194426\n",
      "\u001b[2m\u001b[36m(RolloutWorker pid=15280)\u001b[0m   warnings.warn(f\"Time-step timed out. Elapsed since last time-step: {now - self.__t_end}\")\n"
     ]
    },
    {
     "name": "stdout",
     "output_type": "stream",
     "text": [
      "Loop:  637\n",
      "\u001b[2m\u001b[36m(RolloutWorker pid=15280)\u001b[0m reset triggered\n",
      "\u001b[2m\u001b[36m(RolloutWorker pid=15280)\u001b[0m reload save for track : 4\n"
     ]
    },
    {
     "name": "stderr",
     "output_type": "stream",
     "text": [
      "\u001b[2m\u001b[36m(RolloutWorker pid=15280)\u001b[0m c:\\Users\\nadir\\anaconda3\\envs\\GTAI2\\lib\\site-packages\\rtgym\\envs\\real_time_env.py:376: UserWarning: Time-step timed out. Elapsed since last time-step: 0.14673619991845044\n",
      "\u001b[2m\u001b[36m(RolloutWorker pid=15280)\u001b[0m   warnings.warn(f\"Time-step timed out. Elapsed since last time-step: {now - self.__t_end}\")\n"
     ]
    },
    {
     "name": "stdout",
     "output_type": "stream",
     "text": [
      "Loop:  638\n",
      "Loop:  639\n",
      "\u001b[2m\u001b[36m(RolloutWorker pid=15280)\u001b[0m reset triggered\n",
      "\u001b[2m\u001b[36m(RolloutWorker pid=15280)\u001b[0m reload save for track : 4\n"
     ]
    },
    {
     "name": "stderr",
     "output_type": "stream",
     "text": [
      "\u001b[2m\u001b[36m(RolloutWorker pid=15280)\u001b[0m c:\\Users\\nadir\\anaconda3\\envs\\GTAI2\\lib\\site-packages\\rtgym\\envs\\real_time_env.py:376: UserWarning: Time-step timed out. Elapsed since last time-step: 0.12342959991838143\n",
      "\u001b[2m\u001b[36m(RolloutWorker pid=15280)\u001b[0m   warnings.warn(f\"Time-step timed out. Elapsed since last time-step: {now - self.__t_end}\")\n"
     ]
    },
    {
     "name": "stdout",
     "output_type": "stream",
     "text": [
      "Loop:  640\n",
      "Saved 640\n",
      "\u001b[2m\u001b[36m(RolloutWorker pid=15280)\u001b[0m reset triggered\n",
      "\u001b[2m\u001b[36m(RolloutWorker pid=15280)\u001b[0m reload save for track : 4\n"
     ]
    },
    {
     "name": "stderr",
     "output_type": "stream",
     "text": [
      "\u001b[2m\u001b[36m(RolloutWorker pid=15280)\u001b[0m c:\\Users\\nadir\\anaconda3\\envs\\GTAI2\\lib\\site-packages\\rtgym\\envs\\real_time_env.py:376: UserWarning: Time-step timed out. Elapsed since last time-step: 0.15771669991772796\n",
      "\u001b[2m\u001b[36m(RolloutWorker pid=15280)\u001b[0m   warnings.warn(f\"Time-step timed out. Elapsed since last time-step: {now - self.__t_end}\")\n"
     ]
    },
    {
     "name": "stdout",
     "output_type": "stream",
     "text": [
      "Loop:  641\n",
      "Loop:  642\n",
      "\u001b[2m\u001b[36m(RolloutWorker pid=15280)\u001b[0m reset triggered\n",
      "\u001b[2m\u001b[36m(RolloutWorker pid=15280)\u001b[0m reload save for track : 4\n"
     ]
    },
    {
     "name": "stderr",
     "output_type": "stream",
     "text": [
      "\u001b[2m\u001b[36m(RolloutWorker pid=15280)\u001b[0m c:\\Users\\nadir\\anaconda3\\envs\\GTAI2\\lib\\site-packages\\rtgym\\envs\\real_time_env.py:376: UserWarning: Time-step timed out. Elapsed since last time-step: 0.14125449991843197\n",
      "\u001b[2m\u001b[36m(RolloutWorker pid=15280)\u001b[0m   warnings.warn(f\"Time-step timed out. Elapsed since last time-step: {now - self.__t_end}\")\n"
     ]
    },
    {
     "name": "stdout",
     "output_type": "stream",
     "text": [
      "Loop:  643\n",
      "\u001b[2m\u001b[36m(RolloutWorker pid=15280)\u001b[0m reset triggered\n",
      "\u001b[2m\u001b[36m(RolloutWorker pid=15280)\u001b[0m reload save for track : 4\n"
     ]
    },
    {
     "name": "stderr",
     "output_type": "stream",
     "text": [
      "\u001b[2m\u001b[36m(RolloutWorker pid=15280)\u001b[0m c:\\Users\\nadir\\anaconda3\\envs\\GTAI2\\lib\\site-packages\\rtgym\\envs\\real_time_env.py:376: UserWarning: Time-step timed out. Elapsed since last time-step: 0.1477860999184486\n",
      "\u001b[2m\u001b[36m(RolloutWorker pid=15280)\u001b[0m   warnings.warn(f\"Time-step timed out. Elapsed since last time-step: {now - self.__t_end}\")\n"
     ]
    },
    {
     "name": "stdout",
     "output_type": "stream",
     "text": [
      "Loop:  644\n",
      "\u001b[2m\u001b[36m(RolloutWorker pid=15280)\u001b[0m reset triggered\n",
      "\u001b[2m\u001b[36m(RolloutWorker pid=15280)\u001b[0m reload save for track : 4\n"
     ]
    },
    {
     "name": "stderr",
     "output_type": "stream",
     "text": [
      "\u001b[2m\u001b[36m(RolloutWorker pid=15280)\u001b[0m c:\\Users\\nadir\\anaconda3\\envs\\GTAI2\\lib\\site-packages\\rtgym\\envs\\real_time_env.py:376: UserWarning: Time-step timed out. Elapsed since last time-step: 0.16012649991898797\n",
      "\u001b[2m\u001b[36m(RolloutWorker pid=15280)\u001b[0m   warnings.warn(f\"Time-step timed out. Elapsed since last time-step: {now - self.__t_end}\")\n"
     ]
    },
    {
     "name": "stdout",
     "output_type": "stream",
     "text": [
      "Loop:  645\n",
      "Loop:  646\n"
     ]
    },
    {
     "name": "stderr",
     "output_type": "stream",
     "text": [
      "\u001b[2m\u001b[36m(RolloutWorker pid=15280)\u001b[0m c:\\Users\\nadir\\anaconda3\\envs\\GTAI2\\lib\\site-packages\\rtgym\\envs\\real_time_env.py:376: UserWarning: Time-step timed out. Elapsed since last time-step: 0.12111779993938399\n",
      "\u001b[2m\u001b[36m(RolloutWorker pid=15280)\u001b[0m   warnings.warn(f\"Time-step timed out. Elapsed since last time-step: {now - self.__t_end}\")\n"
     ]
    },
    {
     "name": "stdout",
     "output_type": "stream",
     "text": [
      "\u001b[2m\u001b[36m(RolloutWorker pid=15280)\u001b[0m reset triggered\n",
      "\u001b[2m\u001b[36m(RolloutWorker pid=15280)\u001b[0m reload save for track : 4\n"
     ]
    },
    {
     "name": "stderr",
     "output_type": "stream",
     "text": [
      "\u001b[2m\u001b[36m(RolloutWorker pid=15280)\u001b[0m c:\\Users\\nadir\\anaconda3\\envs\\GTAI2\\lib\\site-packages\\rtgym\\envs\\real_time_env.py:376: UserWarning: Time-step timed out. Elapsed since last time-step: 0.12264949997916119\n",
      "\u001b[2m\u001b[36m(RolloutWorker pid=15280)\u001b[0m   warnings.warn(f\"Time-step timed out. Elapsed since last time-step: {now - self.__t_end}\")\n"
     ]
    },
    {
     "name": "stdout",
     "output_type": "stream",
     "text": [
      "Loop:  647\n",
      "\u001b[2m\u001b[36m(RolloutWorker pid=15280)\u001b[0m reset triggered\n",
      "\u001b[2m\u001b[36m(RolloutWorker pid=15280)\u001b[0m reload save for track : 4\n"
     ]
    },
    {
     "name": "stderr",
     "output_type": "stream",
     "text": [
      "\u001b[2m\u001b[36m(RolloutWorker pid=15280)\u001b[0m c:\\Users\\nadir\\anaconda3\\envs\\GTAI2\\lib\\site-packages\\rtgym\\envs\\real_time_env.py:376: UserWarning: Time-step timed out. Elapsed since last time-step: 0.14869819991872646\n",
      "\u001b[2m\u001b[36m(RolloutWorker pid=15280)\u001b[0m   warnings.warn(f\"Time-step timed out. Elapsed since last time-step: {now - self.__t_end}\")\n"
     ]
    },
    {
     "name": "stdout",
     "output_type": "stream",
     "text": [
      "Loop:  648\n",
      "Loop:  649\n",
      "\u001b[2m\u001b[36m(RolloutWorker pid=15280)\u001b[0m reset triggered\n",
      "\u001b[2m\u001b[36m(RolloutWorker pid=15280)\u001b[0m reload save for track : 4\n"
     ]
    },
    {
     "name": "stderr",
     "output_type": "stream",
     "text": [
      "\u001b[2m\u001b[36m(RolloutWorker pid=15280)\u001b[0m c:\\Users\\nadir\\anaconda3\\envs\\GTAI2\\lib\\site-packages\\rtgym\\envs\\real_time_env.py:376: UserWarning: Time-step timed out. Elapsed since last time-step: 0.14119009991918574\n",
      "\u001b[2m\u001b[36m(RolloutWorker pid=15280)\u001b[0m   warnings.warn(f\"Time-step timed out. Elapsed since last time-step: {now - self.__t_end}\")\n"
     ]
    },
    {
     "name": "stdout",
     "output_type": "stream",
     "text": [
      "Loop:  650\n",
      "Saved 650\n",
      "\u001b[2m\u001b[36m(RolloutWorker pid=15280)\u001b[0m reset triggered\n",
      "\u001b[2m\u001b[36m(RolloutWorker pid=15280)\u001b[0m reload save for track : 4\n"
     ]
    },
    {
     "name": "stderr",
     "output_type": "stream",
     "text": [
      "\u001b[2m\u001b[36m(RolloutWorker pid=15280)\u001b[0m c:\\Users\\nadir\\anaconda3\\envs\\GTAI2\\lib\\site-packages\\rtgym\\envs\\real_time_env.py:376: UserWarning: Time-step timed out. Elapsed since last time-step: 0.1445247999181447\n",
      "\u001b[2m\u001b[36m(RolloutWorker pid=15280)\u001b[0m   warnings.warn(f\"Time-step timed out. Elapsed since last time-step: {now - self.__t_end}\")\n"
     ]
    },
    {
     "name": "stdout",
     "output_type": "stream",
     "text": [
      "Loop:  651\n",
      "Loop:  652\n",
      "\u001b[2m\u001b[36m(RolloutWorker pid=15280)\u001b[0m reset triggered\n",
      "\u001b[2m\u001b[36m(RolloutWorker pid=15280)\u001b[0m reload save for track : 4\n"
     ]
    },
    {
     "name": "stderr",
     "output_type": "stream",
     "text": [
      "\u001b[2m\u001b[36m(RolloutWorker pid=15280)\u001b[0m c:\\Users\\nadir\\anaconda3\\envs\\GTAI2\\lib\\site-packages\\rtgym\\envs\\real_time_env.py:376: UserWarning: Time-step timed out. Elapsed since last time-step: 0.15282889991794946\n",
      "\u001b[2m\u001b[36m(RolloutWorker pid=15280)\u001b[0m   warnings.warn(f\"Time-step timed out. Elapsed since last time-step: {now - self.__t_end}\")\n"
     ]
    },
    {
     "name": "stdout",
     "output_type": "stream",
     "text": [
      "Loop:  653\n",
      "\u001b[2m\u001b[36m(RolloutWorker pid=15280)\u001b[0m reset triggered\n",
      "\u001b[2m\u001b[36m(RolloutWorker pid=15280)\u001b[0m reload save for track : 4\n"
     ]
    },
    {
     "name": "stderr",
     "output_type": "stream",
     "text": [
      "\u001b[2m\u001b[36m(RolloutWorker pid=15280)\u001b[0m c:\\Users\\nadir\\anaconda3\\envs\\GTAI2\\lib\\site-packages\\rtgym\\envs\\real_time_env.py:376: UserWarning: Time-step timed out. Elapsed since last time-step: 0.132945499919515\n",
      "\u001b[2m\u001b[36m(RolloutWorker pid=15280)\u001b[0m   warnings.warn(f\"Time-step timed out. Elapsed since last time-step: {now - self.__t_end}\")\n"
     ]
    },
    {
     "name": "stdout",
     "output_type": "stream",
     "text": [
      "Loop:  654\n",
      "Loop:  655\n",
      "\u001b[2m\u001b[36m(RolloutWorker pid=15280)\u001b[0m reset triggered\n",
      "\u001b[2m\u001b[36m(RolloutWorker pid=15280)\u001b[0m reload save for track : 4\n"
     ]
    },
    {
     "name": "stderr",
     "output_type": "stream",
     "text": [
      "\u001b[2m\u001b[36m(RolloutWorker pid=15280)\u001b[0m c:\\Users\\nadir\\anaconda3\\envs\\GTAI2\\lib\\site-packages\\rtgym\\envs\\real_time_env.py:376: UserWarning: Time-step timed out. Elapsed since last time-step: 0.14644439991752733\n",
      "\u001b[2m\u001b[36m(RolloutWorker pid=15280)\u001b[0m   warnings.warn(f\"Time-step timed out. Elapsed since last time-step: {now - self.__t_end}\")\n"
     ]
    },
    {
     "name": "stdout",
     "output_type": "stream",
     "text": [
      "Loop:  656\n",
      "\u001b[2m\u001b[36m(RolloutWorker pid=15280)\u001b[0m reset triggered\n",
      "\u001b[2m\u001b[36m(RolloutWorker pid=15280)\u001b[0m reload save for track : 4\n"
     ]
    },
    {
     "name": "stderr",
     "output_type": "stream",
     "text": [
      "\u001b[2m\u001b[36m(RolloutWorker pid=15280)\u001b[0m c:\\Users\\nadir\\anaconda3\\envs\\GTAI2\\lib\\site-packages\\rtgym\\envs\\real_time_env.py:376: UserWarning: Time-step timed out. Elapsed since last time-step: 0.1701131999179779\n",
      "\u001b[2m\u001b[36m(RolloutWorker pid=15280)\u001b[0m   warnings.warn(f\"Time-step timed out. Elapsed since last time-step: {now - self.__t_end}\")\n"
     ]
    },
    {
     "name": "stdout",
     "output_type": "stream",
     "text": [
      "Loop:  657\n",
      "\u001b[2m\u001b[36m(RolloutWorker pid=15280)\u001b[0m reset triggered\n",
      "\u001b[2m\u001b[36m(RolloutWorker pid=15280)\u001b[0m reload save for track : 4\n"
     ]
    },
    {
     "name": "stderr",
     "output_type": "stream",
     "text": [
      "\u001b[2m\u001b[36m(RolloutWorker pid=15280)\u001b[0m c:\\Users\\nadir\\anaconda3\\envs\\GTAI2\\lib\\site-packages\\rtgym\\envs\\real_time_env.py:376: UserWarning: Time-step timed out. Elapsed since last time-step: 0.12329709991900017\n",
      "\u001b[2m\u001b[36m(RolloutWorker pid=15280)\u001b[0m   warnings.warn(f\"Time-step timed out. Elapsed since last time-step: {now - self.__t_end}\")\n"
     ]
    },
    {
     "name": "stdout",
     "output_type": "stream",
     "text": [
      "Loop:  658\n",
      "Loop:  659\n",
      "\u001b[2m\u001b[36m(RolloutWorker pid=15280)\u001b[0m reset triggered\n",
      "\u001b[2m\u001b[36m(RolloutWorker pid=15280)\u001b[0m reload save for track : 4\n"
     ]
    },
    {
     "name": "stderr",
     "output_type": "stream",
     "text": [
      "\u001b[2m\u001b[36m(RolloutWorker pid=15280)\u001b[0m c:\\Users\\nadir\\anaconda3\\envs\\GTAI2\\lib\\site-packages\\rtgym\\envs\\real_time_env.py:376: UserWarning: Time-step timed out. Elapsed since last time-step: 0.1675802999179723\n",
      "\u001b[2m\u001b[36m(RolloutWorker pid=15280)\u001b[0m   warnings.warn(f\"Time-step timed out. Elapsed since last time-step: {now - self.__t_end}\")\n"
     ]
    },
    {
     "name": "stdout",
     "output_type": "stream",
     "text": [
      "Loop:  660\n",
      "Saved 660\n",
      "\u001b[2m\u001b[36m(RolloutWorker pid=15280)\u001b[0m reset triggered\n",
      "\u001b[2m\u001b[36m(RolloutWorker pid=15280)\u001b[0m reload save for track : 4\n"
     ]
    },
    {
     "name": "stderr",
     "output_type": "stream",
     "text": [
      "\u001b[2m\u001b[36m(RolloutWorker pid=15280)\u001b[0m c:\\Users\\nadir\\anaconda3\\envs\\GTAI2\\lib\\site-packages\\rtgym\\envs\\real_time_env.py:376: UserWarning: Time-step timed out. Elapsed since last time-step: 0.12223169991921168\n",
      "\u001b[2m\u001b[36m(RolloutWorker pid=15280)\u001b[0m   warnings.warn(f\"Time-step timed out. Elapsed since last time-step: {now - self.__t_end}\")\n"
     ]
    },
    {
     "name": "stdout",
     "output_type": "stream",
     "text": [
      "Loop:  661\n",
      "Loop:  662\n",
      "\u001b[2m\u001b[36m(RolloutWorker pid=15280)\u001b[0m reset triggered\n",
      "\u001b[2m\u001b[36m(RolloutWorker pid=15280)\u001b[0m reload save for track : 4\n"
     ]
    },
    {
     "name": "stderr",
     "output_type": "stream",
     "text": [
      "\u001b[2m\u001b[36m(RolloutWorker pid=15280)\u001b[0m c:\\Users\\nadir\\anaconda3\\envs\\GTAI2\\lib\\site-packages\\rtgym\\envs\\real_time_env.py:376: UserWarning: Time-step timed out. Elapsed since last time-step: 0.1577896999187942\n",
      "\u001b[2m\u001b[36m(RolloutWorker pid=15280)\u001b[0m   warnings.warn(f\"Time-step timed out. Elapsed since last time-step: {now - self.__t_end}\")\n"
     ]
    },
    {
     "name": "stdout",
     "output_type": "stream",
     "text": [
      "Loop:  663\n",
      "\u001b[2m\u001b[36m(RolloutWorker pid=15280)\u001b[0m reset triggered\n",
      "\u001b[2m\u001b[36m(RolloutWorker pid=15280)\u001b[0m reload save for track : 4\n"
     ]
    },
    {
     "name": "stderr",
     "output_type": "stream",
     "text": [
      "\u001b[2m\u001b[36m(RolloutWorker pid=15280)\u001b[0m c:\\Users\\nadir\\anaconda3\\envs\\GTAI2\\lib\\site-packages\\rtgym\\envs\\real_time_env.py:376: UserWarning: Time-step timed out. Elapsed since last time-step: 0.1491408999190753\n",
      "\u001b[2m\u001b[36m(RolloutWorker pid=15280)\u001b[0m   warnings.warn(f\"Time-step timed out. Elapsed since last time-step: {now - self.__t_end}\")\n"
     ]
    },
    {
     "name": "stdout",
     "output_type": "stream",
     "text": [
      "Loop:  664\n",
      "Loop:  665\n",
      "\u001b[2m\u001b[36m(RolloutWorker pid=15280)\u001b[0m reset triggered\n",
      "\u001b[2m\u001b[36m(RolloutWorker pid=15280)\u001b[0m reload save for track : 4\n"
     ]
    },
    {
     "name": "stderr",
     "output_type": "stream",
     "text": [
      "\u001b[2m\u001b[36m(RolloutWorker pid=15280)\u001b[0m c:\\Users\\nadir\\anaconda3\\envs\\GTAI2\\lib\\site-packages\\rtgym\\envs\\real_time_env.py:376: UserWarning: Time-step timed out. Elapsed since last time-step: 0.14353329991718056\n",
      "\u001b[2m\u001b[36m(RolloutWorker pid=15280)\u001b[0m   warnings.warn(f\"Time-step timed out. Elapsed since last time-step: {now - self.__t_end}\")\n"
     ]
    },
    {
     "name": "stdout",
     "output_type": "stream",
     "text": [
      "Loop:  666\n",
      "\u001b[2m\u001b[36m(RolloutWorker pid=15280)\u001b[0m reset triggered\n",
      "\u001b[2m\u001b[36m(RolloutWorker pid=15280)\u001b[0m reload save for track : 4\n"
     ]
    },
    {
     "name": "stderr",
     "output_type": "stream",
     "text": [
      "\u001b[2m\u001b[36m(RolloutWorker pid=15280)\u001b[0m c:\\Users\\nadir\\anaconda3\\envs\\GTAI2\\lib\\site-packages\\rtgym\\envs\\real_time_env.py:376: UserWarning: Time-step timed out. Elapsed since last time-step: 0.13653929991960467\n",
      "\u001b[2m\u001b[36m(RolloutWorker pid=15280)\u001b[0m   warnings.warn(f\"Time-step timed out. Elapsed since last time-step: {now - self.__t_end}\")\n"
     ]
    },
    {
     "name": "stdout",
     "output_type": "stream",
     "text": [
      "Loop:  667\n",
      "Loop:  668\n",
      "\u001b[2m\u001b[36m(RolloutWorker pid=15280)\u001b[0m reset triggered\n",
      "\u001b[2m\u001b[36m(RolloutWorker pid=15280)\u001b[0m reload save for track : 4\n"
     ]
    },
    {
     "name": "stderr",
     "output_type": "stream",
     "text": [
      "\u001b[2m\u001b[36m(RolloutWorker pid=15280)\u001b[0m c:\\Users\\nadir\\anaconda3\\envs\\GTAI2\\lib\\site-packages\\rtgym\\envs\\real_time_env.py:376: UserWarning: Time-step timed out. Elapsed since last time-step: 0.13265089991728019\n",
      "\u001b[2m\u001b[36m(RolloutWorker pid=15280)\u001b[0m   warnings.warn(f\"Time-step timed out. Elapsed since last time-step: {now - self.__t_end}\")\n"
     ]
    },
    {
     "name": "stdout",
     "output_type": "stream",
     "text": [
      "Loop:  669\n",
      "\u001b[2m\u001b[36m(RolloutWorker pid=15280)\u001b[0m reset triggered\n",
      "\u001b[2m\u001b[36m(RolloutWorker pid=15280)\u001b[0m reload save for track : 4\n"
     ]
    },
    {
     "name": "stderr",
     "output_type": "stream",
     "text": [
      "\u001b[2m\u001b[36m(RolloutWorker pid=15280)\u001b[0m c:\\Users\\nadir\\anaconda3\\envs\\GTAI2\\lib\\site-packages\\rtgym\\envs\\real_time_env.py:376: UserWarning: Time-step timed out. Elapsed since last time-step: 0.14781849991959461\n",
      "\u001b[2m\u001b[36m(RolloutWorker pid=15280)\u001b[0m   warnings.warn(f\"Time-step timed out. Elapsed since last time-step: {now - self.__t_end}\")\n"
     ]
    },
    {
     "name": "stdout",
     "output_type": "stream",
     "text": [
      "Loop:  670\n",
      "Saved 670\n",
      "\u001b[2m\u001b[36m(RolloutWorker pid=15280)\u001b[0m reset triggered\n",
      "\u001b[2m\u001b[36m(RolloutWorker pid=15280)\u001b[0m reload save for track : 4\n",
      "Loop:  671\n"
     ]
    },
    {
     "name": "stderr",
     "output_type": "stream",
     "text": [
      "\u001b[2m\u001b[36m(RolloutWorker pid=15280)\u001b[0m c:\\Users\\nadir\\anaconda3\\envs\\GTAI2\\lib\\site-packages\\rtgym\\envs\\real_time_env.py:376: UserWarning: Time-step timed out. Elapsed since last time-step: 0.15325369991842308\n",
      "\u001b[2m\u001b[36m(RolloutWorker pid=15280)\u001b[0m   warnings.warn(f\"Time-step timed out. Elapsed since last time-step: {now - self.__t_end}\")\n"
     ]
    },
    {
     "name": "stdout",
     "output_type": "stream",
     "text": [
      "Loop:  672\n",
      "\u001b[2m\u001b[36m(RolloutWorker pid=15280)\u001b[0m reset triggered\n",
      "\u001b[2m\u001b[36m(RolloutWorker pid=15280)\u001b[0m reload save for track : 4\n"
     ]
    },
    {
     "name": "stderr",
     "output_type": "stream",
     "text": [
      "\u001b[2m\u001b[36m(RolloutWorker pid=15280)\u001b[0m c:\\Users\\nadir\\anaconda3\\envs\\GTAI2\\lib\\site-packages\\rtgym\\envs\\real_time_env.py:376: UserWarning: Time-step timed out. Elapsed since last time-step: 0.13653789991803933\n",
      "\u001b[2m\u001b[36m(RolloutWorker pid=15280)\u001b[0m   warnings.warn(f\"Time-step timed out. Elapsed since last time-step: {now - self.__t_end}\")\n"
     ]
    },
    {
     "name": "stdout",
     "output_type": "stream",
     "text": [
      "Loop:  673\n",
      "\u001b[2m\u001b[36m(RolloutWorker pid=15280)\u001b[0m reset triggered\n",
      "\u001b[2m\u001b[36m(RolloutWorker pid=15280)\u001b[0m reload save for track : 4\n"
     ]
    },
    {
     "name": "stderr",
     "output_type": "stream",
     "text": [
      "\u001b[2m\u001b[36m(RolloutWorker pid=15280)\u001b[0m c:\\Users\\nadir\\anaconda3\\envs\\GTAI2\\lib\\site-packages\\rtgym\\envs\\real_time_env.py:376: UserWarning: Time-step timed out. Elapsed since last time-step: 0.1530755999192479\n",
      "\u001b[2m\u001b[36m(RolloutWorker pid=15280)\u001b[0m   warnings.warn(f\"Time-step timed out. Elapsed since last time-step: {now - self.__t_end}\")\n"
     ]
    },
    {
     "name": "stdout",
     "output_type": "stream",
     "text": [
      "Loop:  674\n",
      "Loop:  675\n",
      "\u001b[2m\u001b[36m(RolloutWorker pid=15280)\u001b[0m reset triggered\n",
      "\u001b[2m\u001b[36m(RolloutWorker pid=15280)\u001b[0m reload save for track : 4\n"
     ]
    },
    {
     "name": "stderr",
     "output_type": "stream",
     "text": [
      "\u001b[2m\u001b[36m(RolloutWorker pid=15280)\u001b[0m c:\\Users\\nadir\\anaconda3\\envs\\GTAI2\\lib\\site-packages\\rtgym\\envs\\real_time_env.py:376: UserWarning: Time-step timed out. Elapsed since last time-step: 0.1397762999185943\n",
      "\u001b[2m\u001b[36m(RolloutWorker pid=15280)\u001b[0m   warnings.warn(f\"Time-step timed out. Elapsed since last time-step: {now - self.__t_end}\")\n"
     ]
    },
    {
     "name": "stdout",
     "output_type": "stream",
     "text": [
      "Loop:  676\n",
      "\u001b[2m\u001b[36m(RolloutWorker pid=15280)\u001b[0m reset triggered\n",
      "\u001b[2m\u001b[36m(RolloutWorker pid=15280)\u001b[0m reload save for track : 4\n"
     ]
    },
    {
     "name": "stderr",
     "output_type": "stream",
     "text": [
      "\u001b[2m\u001b[36m(RolloutWorker pid=15280)\u001b[0m c:\\Users\\nadir\\anaconda3\\envs\\GTAI2\\lib\\site-packages\\rtgym\\envs\\real_time_env.py:376: UserWarning: Time-step timed out. Elapsed since last time-step: 0.14733239991801383\n",
      "\u001b[2m\u001b[36m(RolloutWorker pid=15280)\u001b[0m   warnings.warn(f\"Time-step timed out. Elapsed since last time-step: {now - self.__t_end}\")\n"
     ]
    },
    {
     "name": "stdout",
     "output_type": "stream",
     "text": [
      "Loop:  677\n",
      "Loop:  678\n",
      "\u001b[2m\u001b[36m(RolloutWorker pid=15280)\u001b[0m reset triggered\n",
      "\u001b[2m\u001b[36m(RolloutWorker pid=15280)\u001b[0m reload save for track : 4\n"
     ]
    },
    {
     "name": "stderr",
     "output_type": "stream",
     "text": [
      "\u001b[2m\u001b[36m(RolloutWorker pid=15280)\u001b[0m c:\\Users\\nadir\\anaconda3\\envs\\GTAI2\\lib\\site-packages\\rtgym\\envs\\real_time_env.py:376: UserWarning: Time-step timed out. Elapsed since last time-step: 0.1634030999175593\n",
      "\u001b[2m\u001b[36m(RolloutWorker pid=15280)\u001b[0m   warnings.warn(f\"Time-step timed out. Elapsed since last time-step: {now - self.__t_end}\")\n"
     ]
    },
    {
     "name": "stdout",
     "output_type": "stream",
     "text": [
      "Loop:  679\n",
      "\u001b[2m\u001b[36m(RolloutWorker pid=15280)\u001b[0m reset triggered\n",
      "\u001b[2m\u001b[36m(RolloutWorker pid=15280)\u001b[0m reload save for track : 4\n"
     ]
    },
    {
     "name": "stderr",
     "output_type": "stream",
     "text": [
      "\u001b[2m\u001b[36m(RolloutWorker pid=15280)\u001b[0m c:\\Users\\nadir\\anaconda3\\envs\\GTAI2\\lib\\site-packages\\rtgym\\envs\\real_time_env.py:376: UserWarning: Time-step timed out. Elapsed since last time-step: 0.14062999991983816\n",
      "\u001b[2m\u001b[36m(RolloutWorker pid=15280)\u001b[0m   warnings.warn(f\"Time-step timed out. Elapsed since last time-step: {now - self.__t_end}\")\n"
     ]
    },
    {
     "name": "stdout",
     "output_type": "stream",
     "text": [
      "Loop:  680\n",
      "Saved 680\n",
      "Loop:  681\n",
      "\u001b[2m\u001b[36m(RolloutWorker pid=15280)\u001b[0m reset triggered\n",
      "\u001b[2m\u001b[36m(RolloutWorker pid=15280)\u001b[0m reload save for track : 4\n"
     ]
    },
    {
     "name": "stderr",
     "output_type": "stream",
     "text": [
      "\u001b[2m\u001b[36m(RolloutWorker pid=15280)\u001b[0m c:\\Users\\nadir\\anaconda3\\envs\\GTAI2\\lib\\site-packages\\rtgym\\envs\\real_time_env.py:376: UserWarning: Time-step timed out. Elapsed since last time-step: 0.13456739991852373\n",
      "\u001b[2m\u001b[36m(RolloutWorker pid=15280)\u001b[0m   warnings.warn(f\"Time-step timed out. Elapsed since last time-step: {now - self.__t_end}\")\n"
     ]
    },
    {
     "name": "stdout",
     "output_type": "stream",
     "text": [
      "Loop:  682\n",
      "\u001b[2m\u001b[36m(RolloutWorker pid=15280)\u001b[0m reset triggered\n",
      "\u001b[2m\u001b[36m(RolloutWorker pid=15280)\u001b[0m reload save for track : 4\n"
     ]
    },
    {
     "name": "stderr",
     "output_type": "stream",
     "text": [
      "\u001b[2m\u001b[36m(RolloutWorker pid=15280)\u001b[0m c:\\Users\\nadir\\anaconda3\\envs\\GTAI2\\lib\\site-packages\\rtgym\\envs\\real_time_env.py:376: UserWarning: Time-step timed out. Elapsed since last time-step: 0.14396699991812056\n",
      "\u001b[2m\u001b[36m(RolloutWorker pid=15280)\u001b[0m   warnings.warn(f\"Time-step timed out. Elapsed since last time-step: {now - self.__t_end}\")\n"
     ]
    },
    {
     "name": "stdout",
     "output_type": "stream",
     "text": [
      "Loop:  683\n",
      "Loop:  684\n",
      "\u001b[2m\u001b[36m(RolloutWorker pid=15280)\u001b[0m reset triggered\n",
      "\u001b[2m\u001b[36m(RolloutWorker pid=15280)\u001b[0m reload save for track : 4\n"
     ]
    },
    {
     "name": "stderr",
     "output_type": "stream",
     "text": [
      "\u001b[2m\u001b[36m(RolloutWorker pid=15280)\u001b[0m c:\\Users\\nadir\\anaconda3\\envs\\GTAI2\\lib\\site-packages\\rtgym\\envs\\real_time_env.py:376: UserWarning: Time-step timed out. Elapsed since last time-step: 0.15766249991793302\n",
      "\u001b[2m\u001b[36m(RolloutWorker pid=15280)\u001b[0m   warnings.warn(f\"Time-step timed out. Elapsed since last time-step: {now - self.__t_end}\")\n"
     ]
    },
    {
     "name": "stdout",
     "output_type": "stream",
     "text": [
      "Loop:  685\n",
      "\u001b[2m\u001b[36m(RolloutWorker pid=15280)\u001b[0m reset triggered\n",
      "\u001b[2m\u001b[36m(RolloutWorker pid=15280)\u001b[0m reload save for track : 4\n"
     ]
    },
    {
     "name": "stderr",
     "output_type": "stream",
     "text": [
      "\u001b[2m\u001b[36m(RolloutWorker pid=15280)\u001b[0m c:\\Users\\nadir\\anaconda3\\envs\\GTAI2\\lib\\site-packages\\rtgym\\envs\\real_time_env.py:376: UserWarning: Time-step timed out. Elapsed since last time-step: 0.13270919991919072\n",
      "\u001b[2m\u001b[36m(RolloutWorker pid=15280)\u001b[0m   warnings.warn(f\"Time-step timed out. Elapsed since last time-step: {now - self.__t_end}\")\n"
     ]
    },
    {
     "name": "stdout",
     "output_type": "stream",
     "text": [
      "Loop:  686\n",
      "\u001b[2m\u001b[36m(RolloutWorker pid=15280)\u001b[0m reset triggered\n",
      "\u001b[2m\u001b[36m(RolloutWorker pid=15280)\u001b[0m reload save for track : 4\n"
     ]
    },
    {
     "name": "stderr",
     "output_type": "stream",
     "text": [
      "\u001b[2m\u001b[36m(RolloutWorker pid=15280)\u001b[0m c:\\Users\\nadir\\anaconda3\\envs\\GTAI2\\lib\\site-packages\\rtgym\\envs\\real_time_env.py:376: UserWarning: Time-step timed out. Elapsed since last time-step: 0.14762639991749893\n",
      "\u001b[2m\u001b[36m(RolloutWorker pid=15280)\u001b[0m   warnings.warn(f\"Time-step timed out. Elapsed since last time-step: {now - self.__t_end}\")\n"
     ]
    },
    {
     "name": "stdout",
     "output_type": "stream",
     "text": [
      "Loop:  687\n",
      "Loop:  688\n",
      "\u001b[2m\u001b[36m(RolloutWorker pid=15280)\u001b[0m reset triggered\n",
      "\u001b[2m\u001b[36m(RolloutWorker pid=15280)\u001b[0m reload save for track : 4\n"
     ]
    },
    {
     "name": "stderr",
     "output_type": "stream",
     "text": [
      "\u001b[2m\u001b[36m(RolloutWorker pid=15280)\u001b[0m c:\\Users\\nadir\\anaconda3\\envs\\GTAI2\\lib\\site-packages\\rtgym\\envs\\real_time_env.py:376: UserWarning: Time-step timed out. Elapsed since last time-step: 0.17021929992006335\n",
      "\u001b[2m\u001b[36m(RolloutWorker pid=15280)\u001b[0m   warnings.warn(f\"Time-step timed out. Elapsed since last time-step: {now - self.__t_end}\")\n"
     ]
    },
    {
     "name": "stdout",
     "output_type": "stream",
     "text": [
      "Loop:  689\n",
      "\u001b[2m\u001b[36m(RolloutWorker pid=15280)\u001b[0m reset triggered\n",
      "\u001b[2m\u001b[36m(RolloutWorker pid=15280)\u001b[0m reload save for track : 4\n"
     ]
    },
    {
     "name": "stderr",
     "output_type": "stream",
     "text": [
      "\u001b[2m\u001b[36m(RolloutWorker pid=15280)\u001b[0m c:\\Users\\nadir\\anaconda3\\envs\\GTAI2\\lib\\site-packages\\rtgym\\envs\\real_time_env.py:376: UserWarning: Time-step timed out. Elapsed since last time-step: 0.16262949991687492\n",
      "\u001b[2m\u001b[36m(RolloutWorker pid=15280)\u001b[0m   warnings.warn(f\"Time-step timed out. Elapsed since last time-step: {now - self.__t_end}\")\n"
     ]
    },
    {
     "name": "stdout",
     "output_type": "stream",
     "text": [
      "Loop:  690\n",
      "Saved 690\n",
      "Loop:  691\n",
      "\u001b[2m\u001b[36m(RolloutWorker pid=15280)\u001b[0m reset triggered\n",
      "\u001b[2m\u001b[36m(RolloutWorker pid=15280)\u001b[0m reload save for track : 4\n"
     ]
    },
    {
     "name": "stderr",
     "output_type": "stream",
     "text": [
      "\u001b[2m\u001b[36m(RolloutWorker pid=15280)\u001b[0m c:\\Users\\nadir\\anaconda3\\envs\\GTAI2\\lib\\site-packages\\rtgym\\envs\\real_time_env.py:376: UserWarning: Time-step timed out. Elapsed since last time-step: 0.14009349992011266\n",
      "\u001b[2m\u001b[36m(RolloutWorker pid=15280)\u001b[0m   warnings.warn(f\"Time-step timed out. Elapsed since last time-step: {now - self.__t_end}\")\n"
     ]
    },
    {
     "name": "stdout",
     "output_type": "stream",
     "text": [
      "Loop:  692\n",
      "\u001b[2m\u001b[36m(RolloutWorker pid=15280)\u001b[0m reset triggered\n",
      "\u001b[2m\u001b[36m(RolloutWorker pid=15280)\u001b[0m reload save for track : 4\n"
     ]
    },
    {
     "name": "stderr",
     "output_type": "stream",
     "text": [
      "\u001b[2m\u001b[36m(RolloutWorker pid=15280)\u001b[0m c:\\Users\\nadir\\anaconda3\\envs\\GTAI2\\lib\\site-packages\\rtgym\\envs\\real_time_env.py:376: UserWarning: Time-step timed out. Elapsed since last time-step: 0.13346999991699704\n",
      "\u001b[2m\u001b[36m(RolloutWorker pid=15280)\u001b[0m   warnings.warn(f\"Time-step timed out. Elapsed since last time-step: {now - self.__t_end}\")\n"
     ]
    },
    {
     "name": "stdout",
     "output_type": "stream",
     "text": [
      "Loop:  693\n",
      "Loop:  694\n",
      "\u001b[2m\u001b[36m(RolloutWorker pid=15280)\u001b[0m reset triggered\n",
      "\u001b[2m\u001b[36m(RolloutWorker pid=15280)\u001b[0m reload save for track : 4\n"
     ]
    },
    {
     "name": "stderr",
     "output_type": "stream",
     "text": [
      "\u001b[2m\u001b[36m(RolloutWorker pid=15280)\u001b[0m c:\\Users\\nadir\\anaconda3\\envs\\GTAI2\\lib\\site-packages\\rtgym\\envs\\real_time_env.py:376: UserWarning: Time-step timed out. Elapsed since last time-step: 0.15671899991866667\n",
      "\u001b[2m\u001b[36m(RolloutWorker pid=15280)\u001b[0m   warnings.warn(f\"Time-step timed out. Elapsed since last time-step: {now - self.__t_end}\")\n"
     ]
    },
    {
     "name": "stdout",
     "output_type": "stream",
     "text": [
      "Loop:  695\n",
      "\u001b[2m\u001b[36m(RolloutWorker pid=15280)\u001b[0m reset triggered\n",
      "\u001b[2m\u001b[36m(RolloutWorker pid=15280)\u001b[0m reload save for track : 4\n"
     ]
    },
    {
     "name": "stderr",
     "output_type": "stream",
     "text": [
      "\u001b[2m\u001b[36m(RolloutWorker pid=15280)\u001b[0m c:\\Users\\nadir\\anaconda3\\envs\\GTAI2\\lib\\site-packages\\rtgym\\envs\\real_time_env.py:376: UserWarning: Time-step timed out. Elapsed since last time-step: 0.14721699991969217\n",
      "\u001b[2m\u001b[36m(RolloutWorker pid=15280)\u001b[0m   warnings.warn(f\"Time-step timed out. Elapsed since last time-step: {now - self.__t_end}\")\n"
     ]
    },
    {
     "name": "stdout",
     "output_type": "stream",
     "text": [
      "Loop:  696\n",
      "Loop:  697\n",
      "\u001b[2m\u001b[36m(RolloutWorker pid=15280)\u001b[0m reset triggered\n",
      "\u001b[2m\u001b[36m(RolloutWorker pid=15280)\u001b[0m reload save for track : 4\n"
     ]
    },
    {
     "name": "stderr",
     "output_type": "stream",
     "text": [
      "\u001b[2m\u001b[36m(RolloutWorker pid=15280)\u001b[0m c:\\Users\\nadir\\anaconda3\\envs\\GTAI2\\lib\\site-packages\\rtgym\\envs\\real_time_env.py:376: UserWarning: Time-step timed out. Elapsed since last time-step: 0.13309339991792513\n",
      "\u001b[2m\u001b[36m(RolloutWorker pid=15280)\u001b[0m   warnings.warn(f\"Time-step timed out. Elapsed since last time-step: {now - self.__t_end}\")\n"
     ]
    },
    {
     "name": "stdout",
     "output_type": "stream",
     "text": [
      "Loop:  698\n",
      "\u001b[2m\u001b[36m(RolloutWorker pid=15280)\u001b[0m reset triggered\n",
      "\u001b[2m\u001b[36m(RolloutWorker pid=15280)\u001b[0m reload save for track : 4\n"
     ]
    },
    {
     "name": "stderr",
     "output_type": "stream",
     "text": [
      "\u001b[2m\u001b[36m(RolloutWorker pid=15280)\u001b[0m c:\\Users\\nadir\\anaconda3\\envs\\GTAI2\\lib\\site-packages\\rtgym\\envs\\real_time_env.py:376: UserWarning: Time-step timed out. Elapsed since last time-step: 0.15760469991801074\n",
      "\u001b[2m\u001b[36m(RolloutWorker pid=15280)\u001b[0m   warnings.warn(f\"Time-step timed out. Elapsed since last time-step: {now - self.__t_end}\")\n"
     ]
    },
    {
     "name": "stdout",
     "output_type": "stream",
     "text": [
      "Loop:  699\n",
      "\u001b[2m\u001b[36m(RolloutWorker pid=15280)\u001b[0m reset triggered\n",
      "\u001b[2m\u001b[36m(RolloutWorker pid=15280)\u001b[0m reload save for track : 4\n"
     ]
    },
    {
     "name": "stderr",
     "output_type": "stream",
     "text": [
      "\u001b[2m\u001b[36m(RolloutWorker pid=15280)\u001b[0m c:\\Users\\nadir\\anaconda3\\envs\\GTAI2\\lib\\site-packages\\rtgym\\envs\\real_time_env.py:376: UserWarning: Time-step timed out. Elapsed since last time-step: 0.14225759991859377\n",
      "\u001b[2m\u001b[36m(RolloutWorker pid=15280)\u001b[0m   warnings.warn(f\"Time-step timed out. Elapsed since last time-step: {now - self.__t_end}\")\n"
     ]
    },
    {
     "name": "stdout",
     "output_type": "stream",
     "text": [
      "Loop:  700\n",
      "Saved 700\n",
      "Loop:  701\n",
      "\u001b[2m\u001b[36m(RolloutWorker pid=15280)\u001b[0m reset triggered\n",
      "\u001b[2m\u001b[36m(RolloutWorker pid=15280)\u001b[0m reload save for track : 4\n"
     ]
    },
    {
     "name": "stderr",
     "output_type": "stream",
     "text": [
      "\u001b[2m\u001b[36m(RolloutWorker pid=15280)\u001b[0m c:\\Users\\nadir\\anaconda3\\envs\\GTAI2\\lib\\site-packages\\rtgym\\envs\\real_time_env.py:376: UserWarning: Time-step timed out. Elapsed since last time-step: 0.14992389991857635\n",
      "\u001b[2m\u001b[36m(RolloutWorker pid=15280)\u001b[0m   warnings.warn(f\"Time-step timed out. Elapsed since last time-step: {now - self.__t_end}\")\n"
     ]
    },
    {
     "name": "stdout",
     "output_type": "stream",
     "text": [
      "Loop:  702\n",
      "\u001b[2m\u001b[36m(RolloutWorker pid=15280)\u001b[0m reset triggered\n",
      "\u001b[2m\u001b[36m(RolloutWorker pid=15280)\u001b[0m reload save for track : 4\n"
     ]
    },
    {
     "name": "stderr",
     "output_type": "stream",
     "text": [
      "\u001b[2m\u001b[36m(RolloutWorker pid=15280)\u001b[0m c:\\Users\\nadir\\anaconda3\\envs\\GTAI2\\lib\\site-packages\\rtgym\\envs\\real_time_env.py:376: UserWarning: Time-step timed out. Elapsed since last time-step: 0.17541239991805924\n",
      "\u001b[2m\u001b[36m(RolloutWorker pid=15280)\u001b[0m   warnings.warn(f\"Time-step timed out. Elapsed since last time-step: {now - self.__t_end}\")\n"
     ]
    },
    {
     "name": "stdout",
     "output_type": "stream",
     "text": [
      "Loop:  703\n",
      "Loop:  704\n",
      "\u001b[2m\u001b[36m(RolloutWorker pid=15280)\u001b[0m reset triggered\n",
      "\u001b[2m\u001b[36m(RolloutWorker pid=15280)\u001b[0m reload save for track : 4\n"
     ]
    },
    {
     "name": "stderr",
     "output_type": "stream",
     "text": [
      "\u001b[2m\u001b[36m(RolloutWorker pid=15280)\u001b[0m c:\\Users\\nadir\\anaconda3\\envs\\GTAI2\\lib\\site-packages\\rtgym\\envs\\real_time_env.py:376: UserWarning: Time-step timed out. Elapsed since last time-step: 0.14198199991915317\n",
      "\u001b[2m\u001b[36m(RolloutWorker pid=15280)\u001b[0m   warnings.warn(f\"Time-step timed out. Elapsed since last time-step: {now - self.__t_end}\")\n"
     ]
    },
    {
     "name": "stdout",
     "output_type": "stream",
     "text": [
      "Loop:  705\n",
      "\u001b[2m\u001b[36m(RolloutWorker pid=15280)\u001b[0m reset triggered\n",
      "\u001b[2m\u001b[36m(RolloutWorker pid=15280)\u001b[0m reload save for track : 4\n"
     ]
    },
    {
     "name": "stderr",
     "output_type": "stream",
     "text": [
      "\u001b[2m\u001b[36m(RolloutWorker pid=15280)\u001b[0m c:\\Users\\nadir\\anaconda3\\envs\\GTAI2\\lib\\site-packages\\rtgym\\envs\\real_time_env.py:376: UserWarning: Time-step timed out. Elapsed since last time-step: 0.17049229991789616\n",
      "\u001b[2m\u001b[36m(RolloutWorker pid=15280)\u001b[0m   warnings.warn(f\"Time-step timed out. Elapsed since last time-step: {now - self.__t_end}\")\n"
     ]
    },
    {
     "name": "stdout",
     "output_type": "stream",
     "text": [
      "Loop:  706\n",
      "Loop:  707\n",
      "\u001b[2m\u001b[36m(RolloutWorker pid=15280)\u001b[0m reset triggered\n",
      "\u001b[2m\u001b[36m(RolloutWorker pid=15280)\u001b[0m reload save for track : 4\n"
     ]
    },
    {
     "name": "stderr",
     "output_type": "stream",
     "text": [
      "\u001b[2m\u001b[36m(RolloutWorker pid=15280)\u001b[0m c:\\Users\\nadir\\anaconda3\\envs\\GTAI2\\lib\\site-packages\\rtgym\\envs\\real_time_env.py:376: UserWarning: Time-step timed out. Elapsed since last time-step: 0.1424679999199725\n",
      "\u001b[2m\u001b[36m(RolloutWorker pid=15280)\u001b[0m   warnings.warn(f\"Time-step timed out. Elapsed since last time-step: {now - self.__t_end}\")\n"
     ]
    },
    {
     "name": "stdout",
     "output_type": "stream",
     "text": [
      "Loop:  708\n",
      "\u001b[2m\u001b[36m(RolloutWorker pid=15280)\u001b[0m reset triggered\n",
      "\u001b[2m\u001b[36m(RolloutWorker pid=15280)\u001b[0m reload save for track : 4\n"
     ]
    },
    {
     "name": "stderr",
     "output_type": "stream",
     "text": [
      "\u001b[2m\u001b[36m(RolloutWorker pid=15280)\u001b[0m c:\\Users\\nadir\\anaconda3\\envs\\GTAI2\\lib\\site-packages\\rtgym\\envs\\real_time_env.py:376: UserWarning: Time-step timed out. Elapsed since last time-step: 0.12989429991830548\n",
      "\u001b[2m\u001b[36m(RolloutWorker pid=15280)\u001b[0m   warnings.warn(f\"Time-step timed out. Elapsed since last time-step: {now - self.__t_end}\")\n"
     ]
    },
    {
     "name": "stdout",
     "output_type": "stream",
     "text": [
      "Loop:  709\n",
      "Loop:  710\n",
      "Saved 710\n",
      "\u001b[2m\u001b[36m(RolloutWorker pid=15280)\u001b[0m reset triggered\n",
      "\u001b[2m\u001b[36m(RolloutWorker pid=15280)\u001b[0m reload save for track : 4\n"
     ]
    },
    {
     "name": "stderr",
     "output_type": "stream",
     "text": [
      "\u001b[2m\u001b[36m(RolloutWorker pid=15280)\u001b[0m c:\\Users\\nadir\\anaconda3\\envs\\GTAI2\\lib\\site-packages\\rtgym\\envs\\real_time_env.py:376: UserWarning: Time-step timed out. Elapsed since last time-step: 0.16595649991722894\n",
      "\u001b[2m\u001b[36m(RolloutWorker pid=15280)\u001b[0m   warnings.warn(f\"Time-step timed out. Elapsed since last time-step: {now - self.__t_end}\")\n"
     ]
    },
    {
     "name": "stdout",
     "output_type": "stream",
     "text": [
      "Loop:  711\n",
      "\u001b[2m\u001b[36m(RolloutWorker pid=15280)\u001b[0m reset triggered\n",
      "\u001b[2m\u001b[36m(RolloutWorker pid=15280)\u001b[0m reload save for track : 4\n"
     ]
    },
    {
     "name": "stderr",
     "output_type": "stream",
     "text": [
      "\u001b[2m\u001b[36m(RolloutWorker pid=15280)\u001b[0m c:\\Users\\nadir\\anaconda3\\envs\\GTAI2\\lib\\site-packages\\rtgym\\envs\\real_time_env.py:376: UserWarning: Time-step timed out. Elapsed since last time-step: 0.14173069991920784\n",
      "\u001b[2m\u001b[36m(RolloutWorker pid=15280)\u001b[0m   warnings.warn(f\"Time-step timed out. Elapsed since last time-step: {now - self.__t_end}\")\n"
     ]
    },
    {
     "name": "stdout",
     "output_type": "stream",
     "text": [
      "Loop:  712\n",
      "\u001b[2m\u001b[36m(RolloutWorker pid=15280)\u001b[0m reset triggered\n",
      "\u001b[2m\u001b[36m(RolloutWorker pid=15280)\u001b[0m reload save for track : 4\n"
     ]
    },
    {
     "name": "stderr",
     "output_type": "stream",
     "text": [
      "\u001b[2m\u001b[36m(RolloutWorker pid=15280)\u001b[0m c:\\Users\\nadir\\anaconda3\\envs\\GTAI2\\lib\\site-packages\\rtgym\\envs\\real_time_env.py:376: UserWarning: Time-step timed out. Elapsed since last time-step: 0.13222019991917477\n",
      "\u001b[2m\u001b[36m(RolloutWorker pid=15280)\u001b[0m   warnings.warn(f\"Time-step timed out. Elapsed since last time-step: {now - self.__t_end}\")\n"
     ]
    },
    {
     "name": "stdout",
     "output_type": "stream",
     "text": [
      "Loop:  713\n",
      "Loop:  714\n",
      "\u001b[2m\u001b[36m(RolloutWorker pid=15280)\u001b[0m reset triggered\n",
      "\u001b[2m\u001b[36m(RolloutWorker pid=15280)\u001b[0m reload save for track : 4\n"
     ]
    },
    {
     "name": "stderr",
     "output_type": "stream",
     "text": [
      "\u001b[2m\u001b[36m(RolloutWorker pid=15280)\u001b[0m c:\\Users\\nadir\\anaconda3\\envs\\GTAI2\\lib\\site-packages\\rtgym\\envs\\real_time_env.py:376: UserWarning: Time-step timed out. Elapsed since last time-step: 0.15725339991877263\n",
      "\u001b[2m\u001b[36m(RolloutWorker pid=15280)\u001b[0m   warnings.warn(f\"Time-step timed out. Elapsed since last time-step: {now - self.__t_end}\")\n"
     ]
    },
    {
     "name": "stdout",
     "output_type": "stream",
     "text": [
      "Loop:  715\n",
      "\u001b[2m\u001b[36m(RolloutWorker pid=15280)\u001b[0m reset triggered\n",
      "\u001b[2m\u001b[36m(RolloutWorker pid=15280)\u001b[0m reload save for track : 4\n"
     ]
    },
    {
     "name": "stderr",
     "output_type": "stream",
     "text": [
      "\u001b[2m\u001b[36m(RolloutWorker pid=15280)\u001b[0m c:\\Users\\nadir\\anaconda3\\envs\\GTAI2\\lib\\site-packages\\rtgym\\envs\\real_time_env.py:376: UserWarning: Time-step timed out. Elapsed since last time-step: 0.12367139991692966\n",
      "\u001b[2m\u001b[36m(RolloutWorker pid=15280)\u001b[0m   warnings.warn(f\"Time-step timed out. Elapsed since last time-step: {now - self.__t_end}\")\n"
     ]
    },
    {
     "name": "stdout",
     "output_type": "stream",
     "text": [
      "Loop:  716\n",
      "Loop:  717\n",
      "\u001b[2m\u001b[36m(RolloutWorker pid=15280)\u001b[0m reset triggered\n",
      "\u001b[2m\u001b[36m(RolloutWorker pid=15280)\u001b[0m reload save for track : 4\n"
     ]
    },
    {
     "name": "stderr",
     "output_type": "stream",
     "text": [
      "\u001b[2m\u001b[36m(RolloutWorker pid=15280)\u001b[0m c:\\Users\\nadir\\anaconda3\\envs\\GTAI2\\lib\\site-packages\\rtgym\\envs\\real_time_env.py:376: UserWarning: Time-step timed out. Elapsed since last time-step: 0.14704209991941752\n",
      "\u001b[2m\u001b[36m(RolloutWorker pid=15280)\u001b[0m   warnings.warn(f\"Time-step timed out. Elapsed since last time-step: {now - self.__t_end}\")\n"
     ]
    },
    {
     "name": "stdout",
     "output_type": "stream",
     "text": [
      "Loop:  718\n",
      "\u001b[2m\u001b[36m(RolloutWorker pid=15280)\u001b[0m reset triggered\n",
      "\u001b[2m\u001b[36m(RolloutWorker pid=15280)\u001b[0m reload save for track : 4\n"
     ]
    },
    {
     "name": "stderr",
     "output_type": "stream",
     "text": [
      "\u001b[2m\u001b[36m(RolloutWorker pid=15280)\u001b[0m c:\\Users\\nadir\\anaconda3\\envs\\GTAI2\\lib\\site-packages\\rtgym\\envs\\real_time_env.py:376: UserWarning: Time-step timed out. Elapsed since last time-step: 0.15936019991750072\n",
      "\u001b[2m\u001b[36m(RolloutWorker pid=15280)\u001b[0m   warnings.warn(f\"Time-step timed out. Elapsed since last time-step: {now - self.__t_end}\")\n"
     ]
    },
    {
     "name": "stdout",
     "output_type": "stream",
     "text": [
      "Loop:  719\n",
      "Loop:  720\n",
      "Saved 720\n",
      "\u001b[2m\u001b[36m(RolloutWorker pid=15280)\u001b[0m reset triggered\n",
      "\u001b[2m\u001b[36m(RolloutWorker pid=15280)\u001b[0m reload save for track : 4\n"
     ]
    },
    {
     "name": "stderr",
     "output_type": "stream",
     "text": [
      "\u001b[2m\u001b[36m(RolloutWorker pid=15280)\u001b[0m c:\\Users\\nadir\\anaconda3\\envs\\GTAI2\\lib\\site-packages\\rtgym\\envs\\real_time_env.py:376: UserWarning: Time-step timed out. Elapsed since last time-step: 0.1324277999192418\n",
      "\u001b[2m\u001b[36m(RolloutWorker pid=15280)\u001b[0m   warnings.warn(f\"Time-step timed out. Elapsed since last time-step: {now - self.__t_end}\")\n"
     ]
    },
    {
     "name": "stdout",
     "output_type": "stream",
     "text": [
      "Loop:  721\n",
      "\u001b[2m\u001b[36m(RolloutWorker pid=15280)\u001b[0m reset triggered\n",
      "\u001b[2m\u001b[36m(RolloutWorker pid=15280)\u001b[0m reload save for track : 4\n"
     ]
    },
    {
     "name": "stderr",
     "output_type": "stream",
     "text": [
      "\u001b[2m\u001b[36m(RolloutWorker pid=15280)\u001b[0m c:\\Users\\nadir\\anaconda3\\envs\\GTAI2\\lib\\site-packages\\rtgym\\envs\\real_time_env.py:376: UserWarning: Time-step timed out. Elapsed since last time-step: 0.1577829999187088\n",
      "\u001b[2m\u001b[36m(RolloutWorker pid=15280)\u001b[0m   warnings.warn(f\"Time-step timed out. Elapsed since last time-step: {now - self.__t_end}\")\n"
     ]
    },
    {
     "name": "stdout",
     "output_type": "stream",
     "text": [
      "Loop:  722\n"
     ]
    },
    {
     "name": "stderr",
     "output_type": "stream",
     "text": [
      "\u001b[2m\u001b[36m(RolloutWorker pid=15280)\u001b[0m c:\\Users\\nadir\\anaconda3\\envs\\GTAI2\\lib\\site-packages\\rtgym\\envs\\real_time_env.py:376: UserWarning: Time-step timed out. Elapsed since last time-step: 0.1584550999214116\n",
      "\u001b[2m\u001b[36m(RolloutWorker pid=15280)\u001b[0m   warnings.warn(f\"Time-step timed out. Elapsed since last time-step: {now - self.__t_end}\")\n"
     ]
    },
    {
     "name": "stdout",
     "output_type": "stream",
     "text": [
      "Loop:  723\n",
      "\u001b[2m\u001b[36m(RolloutWorker pid=15280)\u001b[0m reset triggered\n",
      "\u001b[2m\u001b[36m(RolloutWorker pid=15280)\u001b[0m reload save for track : 4\n"
     ]
    },
    {
     "name": "stderr",
     "output_type": "stream",
     "text": [
      "\u001b[2m\u001b[36m(RolloutWorker pid=15280)\u001b[0m c:\\Users\\nadir\\anaconda3\\envs\\GTAI2\\lib\\site-packages\\rtgym\\envs\\real_time_env.py:376: UserWarning: Time-step timed out. Elapsed since last time-step: 0.13176829999611073\n",
      "\u001b[2m\u001b[36m(RolloutWorker pid=15280)\u001b[0m   warnings.warn(f\"Time-step timed out. Elapsed since last time-step: {now - self.__t_end}\")\n"
     ]
    },
    {
     "name": "stdout",
     "output_type": "stream",
     "text": [
      "Loop:  724\n",
      "\u001b[2m\u001b[36m(RolloutWorker pid=15280)\u001b[0m reset triggered\n",
      "\u001b[2m\u001b[36m(RolloutWorker pid=15280)\u001b[0m reload save for track : 4\n"
     ]
    },
    {
     "name": "stderr",
     "output_type": "stream",
     "text": [
      "\u001b[2m\u001b[36m(RolloutWorker pid=15280)\u001b[0m c:\\Users\\nadir\\anaconda3\\envs\\GTAI2\\lib\\site-packages\\rtgym\\envs\\real_time_env.py:376: UserWarning: Time-step timed out. Elapsed since last time-step: 0.13852279991988325\n",
      "\u001b[2m\u001b[36m(RolloutWorker pid=15280)\u001b[0m   warnings.warn(f\"Time-step timed out. Elapsed since last time-step: {now - self.__t_end}\")\n"
     ]
    },
    {
     "name": "stdout",
     "output_type": "stream",
     "text": [
      "Loop:  725\n",
      "\u001b[2m\u001b[36m(RolloutWorker pid=15280)\u001b[0m reset triggered\n",
      "\u001b[2m\u001b[36m(RolloutWorker pid=15280)\u001b[0m reload save for track : 4\n"
     ]
    },
    {
     "name": "stderr",
     "output_type": "stream",
     "text": [
      "\u001b[2m\u001b[36m(RolloutWorker pid=15280)\u001b[0m c:\\Users\\nadir\\anaconda3\\envs\\GTAI2\\lib\\site-packages\\rtgym\\envs\\real_time_env.py:376: UserWarning: Time-step timed out. Elapsed since last time-step: 0.16363189991716354\n",
      "\u001b[2m\u001b[36m(RolloutWorker pid=15280)\u001b[0m   warnings.warn(f\"Time-step timed out. Elapsed since last time-step: {now - self.__t_end}\")\n"
     ]
    },
    {
     "name": "stdout",
     "output_type": "stream",
     "text": [
      "Loop:  726\n",
      "Loop:  727\n",
      "\u001b[2m\u001b[36m(RolloutWorker pid=15280)\u001b[0m reset triggered\n",
      "\u001b[2m\u001b[36m(RolloutWorker pid=15280)\u001b[0m reload save for track : 4\n"
     ]
    },
    {
     "name": "stderr",
     "output_type": "stream",
     "text": [
      "\u001b[2m\u001b[36m(RolloutWorker pid=15280)\u001b[0m c:\\Users\\nadir\\anaconda3\\envs\\GTAI2\\lib\\site-packages\\rtgym\\envs\\real_time_env.py:376: UserWarning: Time-step timed out. Elapsed since last time-step: 0.1485464999186661\n",
      "\u001b[2m\u001b[36m(RolloutWorker pid=15280)\u001b[0m   warnings.warn(f\"Time-step timed out. Elapsed since last time-step: {now - self.__t_end}\")\n"
     ]
    },
    {
     "name": "stdout",
     "output_type": "stream",
     "text": [
      "Loop:  728\n",
      "\u001b[2m\u001b[36m(RolloutWorker pid=15280)\u001b[0m reset triggered\n",
      "\u001b[2m\u001b[36m(RolloutWorker pid=15280)\u001b[0m reload save for track : 4\n"
     ]
    },
    {
     "name": "stderr",
     "output_type": "stream",
     "text": [
      "\u001b[2m\u001b[36m(RolloutWorker pid=15280)\u001b[0m c:\\Users\\nadir\\anaconda3\\envs\\GTAI2\\lib\\site-packages\\rtgym\\envs\\real_time_env.py:376: UserWarning: Time-step timed out. Elapsed since last time-step: 0.14249949991972244\n",
      "\u001b[2m\u001b[36m(RolloutWorker pid=15280)\u001b[0m   warnings.warn(f\"Time-step timed out. Elapsed since last time-step: {now - self.__t_end}\")\n"
     ]
    },
    {
     "name": "stdout",
     "output_type": "stream",
     "text": [
      "Loop:  729\n",
      "Loop:  730\n",
      "Saved 730\n",
      "\u001b[2m\u001b[36m(RolloutWorker pid=15280)\u001b[0m reset triggered\n",
      "\u001b[2m\u001b[36m(RolloutWorker pid=15280)\u001b[0m reload save for track : 4\n"
     ]
    },
    {
     "name": "stderr",
     "output_type": "stream",
     "text": [
      "\u001b[2m\u001b[36m(RolloutWorker pid=15280)\u001b[0m c:\\Users\\nadir\\anaconda3\\envs\\GTAI2\\lib\\site-packages\\rtgym\\envs\\real_time_env.py:376: UserWarning: Time-step timed out. Elapsed since last time-step: 0.14931209991846117\n",
      "\u001b[2m\u001b[36m(RolloutWorker pid=15280)\u001b[0m   warnings.warn(f\"Time-step timed out. Elapsed since last time-step: {now - self.__t_end}\")\n"
     ]
    },
    {
     "name": "stdout",
     "output_type": "stream",
     "text": [
      "Loop:  731\n",
      "\u001b[2m\u001b[36m(RolloutWorker pid=15280)\u001b[0m reset triggered\n",
      "\u001b[2m\u001b[36m(RolloutWorker pid=15280)\u001b[0m reload save for track : 4\n"
     ]
    },
    {
     "name": "stderr",
     "output_type": "stream",
     "text": [
      "\u001b[2m\u001b[36m(RolloutWorker pid=15280)\u001b[0m c:\\Users\\nadir\\anaconda3\\envs\\GTAI2\\lib\\site-packages\\rtgym\\envs\\real_time_env.py:376: UserWarning: Time-step timed out. Elapsed since last time-step: 0.13730639991808857\n",
      "\u001b[2m\u001b[36m(RolloutWorker pid=15280)\u001b[0m   warnings.warn(f\"Time-step timed out. Elapsed since last time-step: {now - self.__t_end}\")\n"
     ]
    },
    {
     "name": "stdout",
     "output_type": "stream",
     "text": [
      "Loop:  732\n",
      "Loop:  733\n",
      "\u001b[2m\u001b[36m(RolloutWorker pid=15280)\u001b[0m reset triggered\n",
      "\u001b[2m\u001b[36m(RolloutWorker pid=15280)\u001b[0m reload save for track : 4\n"
     ]
    },
    {
     "name": "stderr",
     "output_type": "stream",
     "text": [
      "\u001b[2m\u001b[36m(RolloutWorker pid=15280)\u001b[0m c:\\Users\\nadir\\anaconda3\\envs\\GTAI2\\lib\\site-packages\\rtgym\\envs\\real_time_env.py:376: UserWarning: Time-step timed out. Elapsed since last time-step: 0.13439389991799544\n",
      "\u001b[2m\u001b[36m(RolloutWorker pid=15280)\u001b[0m   warnings.warn(f\"Time-step timed out. Elapsed since last time-step: {now - self.__t_end}\")\n"
     ]
    },
    {
     "name": "stdout",
     "output_type": "stream",
     "text": [
      "Loop:  734\n",
      "\u001b[2m\u001b[36m(RolloutWorker pid=15280)\u001b[0m reset triggered\n",
      "\u001b[2m\u001b[36m(RolloutWorker pid=15280)\u001b[0m reload save for track : 4\n"
     ]
    },
    {
     "name": "stderr",
     "output_type": "stream",
     "text": [
      "\u001b[2m\u001b[36m(RolloutWorker pid=15280)\u001b[0m c:\\Users\\nadir\\anaconda3\\envs\\GTAI2\\lib\\site-packages\\rtgym\\envs\\real_time_env.py:376: UserWarning: Time-step timed out. Elapsed since last time-step: 0.15570029991977208\n",
      "\u001b[2m\u001b[36m(RolloutWorker pid=15280)\u001b[0m   warnings.warn(f\"Time-step timed out. Elapsed since last time-step: {now - self.__t_end}\")\n"
     ]
    },
    {
     "name": "stdout",
     "output_type": "stream",
     "text": [
      "Loop:  735\n",
      "Loop:  736\n",
      "\u001b[2m\u001b[36m(RolloutWorker pid=15280)\u001b[0m reset triggered\n",
      "\u001b[2m\u001b[36m(RolloutWorker pid=15280)\u001b[0m reload save for track : 4\n"
     ]
    },
    {
     "name": "stderr",
     "output_type": "stream",
     "text": [
      "\u001b[2m\u001b[36m(RolloutWorker pid=15280)\u001b[0m c:\\Users\\nadir\\anaconda3\\envs\\GTAI2\\lib\\site-packages\\rtgym\\envs\\real_time_env.py:376: UserWarning: Time-step timed out. Elapsed since last time-step: 0.14540729991858825\n",
      "\u001b[2m\u001b[36m(RolloutWorker pid=15280)\u001b[0m   warnings.warn(f\"Time-step timed out. Elapsed since last time-step: {now - self.__t_end}\")\n"
     ]
    },
    {
     "name": "stdout",
     "output_type": "stream",
     "text": [
      "Loop:  737\n",
      "\u001b[2m\u001b[36m(RolloutWorker pid=15280)\u001b[0m reset triggered\n",
      "\u001b[2m\u001b[36m(RolloutWorker pid=15280)\u001b[0m reload save for track : 4\n"
     ]
    },
    {
     "name": "stderr",
     "output_type": "stream",
     "text": [
      "\u001b[2m\u001b[36m(RolloutWorker pid=15280)\u001b[0m c:\\Users\\nadir\\anaconda3\\envs\\GTAI2\\lib\\site-packages\\rtgym\\envs\\real_time_env.py:376: UserWarning: Time-step timed out. Elapsed since last time-step: 0.14827079991846404\n",
      "\u001b[2m\u001b[36m(RolloutWorker pid=15280)\u001b[0m   warnings.warn(f\"Time-step timed out. Elapsed since last time-step: {now - self.__t_end}\")\n"
     ]
    },
    {
     "name": "stdout",
     "output_type": "stream",
     "text": [
      "Loop:  738\n",
      "\u001b[2m\u001b[36m(RolloutWorker pid=15280)\u001b[0m reset triggered\n",
      "\u001b[2m\u001b[36m(RolloutWorker pid=15280)\u001b[0m reload save for track : 4\n"
     ]
    },
    {
     "name": "stderr",
     "output_type": "stream",
     "text": [
      "\u001b[2m\u001b[36m(RolloutWorker pid=15280)\u001b[0m c:\\Users\\nadir\\anaconda3\\envs\\GTAI2\\lib\\site-packages\\rtgym\\envs\\real_time_env.py:376: UserWarning: Time-step timed out. Elapsed since last time-step: 0.14684979991761793\n",
      "\u001b[2m\u001b[36m(RolloutWorker pid=15280)\u001b[0m   warnings.warn(f\"Time-step timed out. Elapsed since last time-step: {now - self.__t_end}\")\n"
     ]
    },
    {
     "name": "stdout",
     "output_type": "stream",
     "text": [
      "Loop:  739\n",
      "Loop:  740\n",
      "Saved 740\n",
      "\u001b[2m\u001b[36m(RolloutWorker pid=15280)\u001b[0m reset triggered\n",
      "\u001b[2m\u001b[36m(RolloutWorker pid=15280)\u001b[0m reload save for track : 4\n"
     ]
    },
    {
     "name": "stderr",
     "output_type": "stream",
     "text": [
      "\u001b[2m\u001b[36m(RolloutWorker pid=15280)\u001b[0m c:\\Users\\nadir\\anaconda3\\envs\\GTAI2\\lib\\site-packages\\rtgym\\envs\\real_time_env.py:376: UserWarning: Time-step timed out. Elapsed since last time-step: 0.16222439991906867\n",
      "\u001b[2m\u001b[36m(RolloutWorker pid=15280)\u001b[0m   warnings.warn(f\"Time-step timed out. Elapsed since last time-step: {now - self.__t_end}\")\n"
     ]
    },
    {
     "name": "stdout",
     "output_type": "stream",
     "text": [
      "Loop:  741\n"
     ]
    },
    {
     "name": "stderr",
     "output_type": "stream",
     "text": [
      "\u001b[2m\u001b[36m(RolloutWorker pid=15280)\u001b[0m c:\\Users\\nadir\\anaconda3\\envs\\GTAI2\\lib\\site-packages\\rtgym\\envs\\real_time_env.py:376: UserWarning: Time-step timed out. Elapsed since last time-step: 0.13854399991760147\n",
      "\u001b[2m\u001b[36m(RolloutWorker pid=15280)\u001b[0m   warnings.warn(f\"Time-step timed out. Elapsed since last time-step: {now - self.__t_end}\")\n"
     ]
    },
    {
     "name": "stdout",
     "output_type": "stream",
     "text": [
      "\u001b[2m\u001b[36m(RolloutWorker pid=15280)\u001b[0m reset triggered\n",
      "\u001b[2m\u001b[36m(RolloutWorker pid=15280)\u001b[0m reload save for track : 4\n",
      "Loop:  742\n",
      "Loop:  743\n",
      "\u001b[2m\u001b[36m(RolloutWorker pid=15280)\u001b[0m reset triggered\n",
      "\u001b[2m\u001b[36m(RolloutWorker pid=15280)\u001b[0m reload save for track : 4\n"
     ]
    },
    {
     "name": "stderr",
     "output_type": "stream",
     "text": [
      "\u001b[2m\u001b[36m(RolloutWorker pid=15280)\u001b[0m c:\\Users\\nadir\\anaconda3\\envs\\GTAI2\\lib\\site-packages\\rtgym\\envs\\real_time_env.py:376: UserWarning: Time-step timed out. Elapsed since last time-step: 0.1322668999182497\n",
      "\u001b[2m\u001b[36m(RolloutWorker pid=15280)\u001b[0m   warnings.warn(f\"Time-step timed out. Elapsed since last time-step: {now - self.__t_end}\")\n"
     ]
    },
    {
     "name": "stdout",
     "output_type": "stream",
     "text": [
      "Loop:  744\n",
      "\u001b[2m\u001b[36m(RolloutWorker pid=15280)\u001b[0m reset triggered\n",
      "\u001b[2m\u001b[36m(RolloutWorker pid=15280)\u001b[0m reload save for track : 4\n"
     ]
    },
    {
     "name": "stderr",
     "output_type": "stream",
     "text": [
      "\u001b[2m\u001b[36m(RolloutWorker pid=15280)\u001b[0m c:\\Users\\nadir\\anaconda3\\envs\\GTAI2\\lib\\site-packages\\rtgym\\envs\\real_time_env.py:376: UserWarning: Time-step timed out. Elapsed since last time-step: 0.13784209991899843\n",
      "\u001b[2m\u001b[36m(RolloutWorker pid=15280)\u001b[0m   warnings.warn(f\"Time-step timed out. Elapsed since last time-step: {now - self.__t_end}\")\n"
     ]
    },
    {
     "name": "stdout",
     "output_type": "stream",
     "text": [
      "Loop:  745\n",
      "Loop:  746\n",
      "\u001b[2m\u001b[36m(RolloutWorker pid=15280)\u001b[0m reset triggered\n",
      "\u001b[2m\u001b[36m(RolloutWorker pid=15280)\u001b[0m reload save for track : 4\n"
     ]
    },
    {
     "name": "stderr",
     "output_type": "stream",
     "text": [
      "\u001b[2m\u001b[36m(RolloutWorker pid=15280)\u001b[0m c:\\Users\\nadir\\anaconda3\\envs\\GTAI2\\lib\\site-packages\\rtgym\\envs\\real_time_env.py:376: UserWarning: Time-step timed out. Elapsed since last time-step: 0.14193329991940118\n",
      "\u001b[2m\u001b[36m(RolloutWorker pid=15280)\u001b[0m   warnings.warn(f\"Time-step timed out. Elapsed since last time-step: {now - self.__t_end}\")\n"
     ]
    },
    {
     "name": "stdout",
     "output_type": "stream",
     "text": [
      "Loop:  747\n",
      "\u001b[2m\u001b[36m(RolloutWorker pid=15280)\u001b[0m reset triggered\n",
      "\u001b[2m\u001b[36m(RolloutWorker pid=15280)\u001b[0m reload save for track : 4\n"
     ]
    },
    {
     "name": "stderr",
     "output_type": "stream",
     "text": [
      "\u001b[2m\u001b[36m(RolloutWorker pid=15280)\u001b[0m c:\\Users\\nadir\\anaconda3\\envs\\GTAI2\\lib\\site-packages\\rtgym\\envs\\real_time_env.py:376: UserWarning: Time-step timed out. Elapsed since last time-step: 0.14057619991763204\n",
      "\u001b[2m\u001b[36m(RolloutWorker pid=15280)\u001b[0m   warnings.warn(f\"Time-step timed out. Elapsed since last time-step: {now - self.__t_end}\")\n"
     ]
    },
    {
     "name": "stdout",
     "output_type": "stream",
     "text": [
      "Loop:  748\n",
      "Loop:  749\n",
      "\u001b[2m\u001b[36m(RolloutWorker pid=15280)\u001b[0m reset triggered\n",
      "\u001b[2m\u001b[36m(RolloutWorker pid=15280)\u001b[0m reload save for track : 4\n"
     ]
    },
    {
     "name": "stderr",
     "output_type": "stream",
     "text": [
      "\u001b[2m\u001b[36m(RolloutWorker pid=15280)\u001b[0m c:\\Users\\nadir\\anaconda3\\envs\\GTAI2\\lib\\site-packages\\rtgym\\envs\\real_time_env.py:376: UserWarning: Time-step timed out. Elapsed since last time-step: 0.13961829991785635\n",
      "\u001b[2m\u001b[36m(RolloutWorker pid=15280)\u001b[0m   warnings.warn(f\"Time-step timed out. Elapsed since last time-step: {now - self.__t_end}\")\n"
     ]
    },
    {
     "name": "stdout",
     "output_type": "stream",
     "text": [
      "Loop:  750\n",
      "Saved 750\n",
      "\u001b[2m\u001b[36m(RolloutWorker pid=15280)\u001b[0m reset triggered\n",
      "\u001b[2m\u001b[36m(RolloutWorker pid=15280)\u001b[0m reload save for track : 4\n"
     ]
    },
    {
     "name": "stderr",
     "output_type": "stream",
     "text": [
      "\u001b[2m\u001b[36m(RolloutWorker pid=15280)\u001b[0m c:\\Users\\nadir\\anaconda3\\envs\\GTAI2\\lib\\site-packages\\rtgym\\envs\\real_time_env.py:376: UserWarning: Time-step timed out. Elapsed since last time-step: 0.15043439991859486\n",
      "\u001b[2m\u001b[36m(RolloutWorker pid=15280)\u001b[0m   warnings.warn(f\"Time-step timed out. Elapsed since last time-step: {now - self.__t_end}\")\n"
     ]
    },
    {
     "name": "stdout",
     "output_type": "stream",
     "text": [
      "Loop:  751\n",
      "\u001b[2m\u001b[36m(RolloutWorker pid=15280)\u001b[0m reset triggered\n",
      "\u001b[2m\u001b[36m(RolloutWorker pid=15280)\u001b[0m reload save for track : 4\n"
     ]
    },
    {
     "name": "stderr",
     "output_type": "stream",
     "text": [
      "\u001b[2m\u001b[36m(RolloutWorker pid=15280)\u001b[0m c:\\Users\\nadir\\anaconda3\\envs\\GTAI2\\lib\\site-packages\\rtgym\\envs\\real_time_env.py:376: UserWarning: Time-step timed out. Elapsed since last time-step: 0.1465906999201252\n",
      "\u001b[2m\u001b[36m(RolloutWorker pid=15280)\u001b[0m   warnings.warn(f\"Time-step timed out. Elapsed since last time-step: {now - self.__t_end}\")\n"
     ]
    },
    {
     "name": "stdout",
     "output_type": "stream",
     "text": [
      "Loop:  752\n",
      "Loop:  753\n",
      "\u001b[2m\u001b[36m(RolloutWorker pid=15280)\u001b[0m reset triggered\n",
      "\u001b[2m\u001b[36m(RolloutWorker pid=15280)\u001b[0m reload save for track : 4\n"
     ]
    },
    {
     "name": "stderr",
     "output_type": "stream",
     "text": [
      "\u001b[2m\u001b[36m(RolloutWorker pid=15280)\u001b[0m c:\\Users\\nadir\\anaconda3\\envs\\GTAI2\\lib\\site-packages\\rtgym\\envs\\real_time_env.py:376: UserWarning: Time-step timed out. Elapsed since last time-step: 0.15860429991698766\n",
      "\u001b[2m\u001b[36m(RolloutWorker pid=15280)\u001b[0m   warnings.warn(f\"Time-step timed out. Elapsed since last time-step: {now - self.__t_end}\")\n"
     ]
    },
    {
     "name": "stdout",
     "output_type": "stream",
     "text": [
      "Loop:  754\n",
      "\u001b[2m\u001b[36m(RolloutWorker pid=15280)\u001b[0m reset triggered\n",
      "\u001b[2m\u001b[36m(RolloutWorker pid=15280)\u001b[0m reload save for track : 4\n"
     ]
    },
    {
     "name": "stderr",
     "output_type": "stream",
     "text": [
      "\u001b[2m\u001b[36m(RolloutWorker pid=15280)\u001b[0m c:\\Users\\nadir\\anaconda3\\envs\\GTAI2\\lib\\site-packages\\rtgym\\envs\\real_time_env.py:376: UserWarning: Time-step timed out. Elapsed since last time-step: 0.15454699992005771\n",
      "\u001b[2m\u001b[36m(RolloutWorker pid=15280)\u001b[0m   warnings.warn(f\"Time-step timed out. Elapsed since last time-step: {now - self.__t_end}\")\n"
     ]
    },
    {
     "name": "stdout",
     "output_type": "stream",
     "text": [
      "Loop:  755\n",
      "Loop:  756\n",
      "\u001b[2m\u001b[36m(RolloutWorker pid=15280)\u001b[0m reset triggered\n",
      "\u001b[2m\u001b[36m(RolloutWorker pid=15280)\u001b[0m reload save for track : 4\n"
     ]
    },
    {
     "name": "stderr",
     "output_type": "stream",
     "text": [
      "\u001b[2m\u001b[36m(RolloutWorker pid=15280)\u001b[0m c:\\Users\\nadir\\anaconda3\\envs\\GTAI2\\lib\\site-packages\\rtgym\\envs\\real_time_env.py:376: UserWarning: Time-step timed out. Elapsed since last time-step: 0.15797939991716703\n",
      "\u001b[2m\u001b[36m(RolloutWorker pid=15280)\u001b[0m   warnings.warn(f\"Time-step timed out. Elapsed since last time-step: {now - self.__t_end}\")\n"
     ]
    },
    {
     "name": "stdout",
     "output_type": "stream",
     "text": [
      "Loop:  757\n",
      "\u001b[2m\u001b[36m(RolloutWorker pid=15280)\u001b[0m reset triggered\n",
      "\u001b[2m\u001b[36m(RolloutWorker pid=15280)\u001b[0m reload save for track : 4\n"
     ]
    },
    {
     "name": "stderr",
     "output_type": "stream",
     "text": [
      "\u001b[2m\u001b[36m(RolloutWorker pid=15280)\u001b[0m c:\\Users\\nadir\\anaconda3\\envs\\GTAI2\\lib\\site-packages\\rtgym\\envs\\real_time_env.py:376: UserWarning: Time-step timed out. Elapsed since last time-step: 0.16969999991852092\n",
      "\u001b[2m\u001b[36m(RolloutWorker pid=15280)\u001b[0m   warnings.warn(f\"Time-step timed out. Elapsed since last time-step: {now - self.__t_end}\")\n"
     ]
    },
    {
     "name": "stdout",
     "output_type": "stream",
     "text": [
      "Loop:  758\n",
      "Loop:  759\n",
      "\u001b[2m\u001b[36m(RolloutWorker pid=15280)\u001b[0m reset triggered\n",
      "\u001b[2m\u001b[36m(RolloutWorker pid=15280)\u001b[0m reload save for track : 4\n"
     ]
    },
    {
     "name": "stderr",
     "output_type": "stream",
     "text": [
      "\u001b[2m\u001b[36m(RolloutWorker pid=15280)\u001b[0m c:\\Users\\nadir\\anaconda3\\envs\\GTAI2\\lib\\site-packages\\rtgym\\envs\\real_time_env.py:376: UserWarning: Time-step timed out. Elapsed since last time-step: 0.1319955999188096\n",
      "\u001b[2m\u001b[36m(RolloutWorker pid=15280)\u001b[0m   warnings.warn(f\"Time-step timed out. Elapsed since last time-step: {now - self.__t_end}\")\n"
     ]
    },
    {
     "name": "stdout",
     "output_type": "stream",
     "text": [
      "Loop:  760\n",
      "Saved 760\n",
      "\u001b[2m\u001b[36m(RolloutWorker pid=15280)\u001b[0m reset triggered\n",
      "\u001b[2m\u001b[36m(RolloutWorker pid=15280)\u001b[0m reload save for track : 4\n"
     ]
    },
    {
     "name": "stderr",
     "output_type": "stream",
     "text": [
      "\u001b[2m\u001b[36m(RolloutWorker pid=15280)\u001b[0m c:\\Users\\nadir\\anaconda3\\envs\\GTAI2\\lib\\site-packages\\rtgym\\envs\\real_time_env.py:376: UserWarning: Time-step timed out. Elapsed since last time-step: 0.14814809991912625\n",
      "\u001b[2m\u001b[36m(RolloutWorker pid=15280)\u001b[0m   warnings.warn(f\"Time-step timed out. Elapsed since last time-step: {now - self.__t_end}\")\n"
     ]
    },
    {
     "name": "stdout",
     "output_type": "stream",
     "text": [
      "Loop:  761\n"
     ]
    },
    {
     "name": "stderr",
     "output_type": "stream",
     "text": [
      "\u001b[2m\u001b[36m(RolloutWorker pid=15280)\u001b[0m c:\\Users\\nadir\\anaconda3\\envs\\GTAI2\\lib\\site-packages\\rtgym\\envs\\real_time_env.py:376: UserWarning: Time-step timed out. Elapsed since last time-step: 0.1222610999520839\n",
      "\u001b[2m\u001b[36m(RolloutWorker pid=15280)\u001b[0m   warnings.warn(f\"Time-step timed out. Elapsed since last time-step: {now - self.__t_end}\")\n"
     ]
    },
    {
     "name": "stdout",
     "output_type": "stream",
     "text": [
      "Loop:  762\n",
      "\u001b[2m\u001b[36m(RolloutWorker pid=15280)\u001b[0m reset triggered\n",
      "\u001b[2m\u001b[36m(RolloutWorker pid=15280)\u001b[0m reload save for track : 4\n"
     ]
    },
    {
     "name": "stderr",
     "output_type": "stream",
     "text": [
      "\u001b[2m\u001b[36m(RolloutWorker pid=15280)\u001b[0m c:\\Users\\nadir\\anaconda3\\envs\\GTAI2\\lib\\site-packages\\rtgym\\envs\\real_time_env.py:376: UserWarning: Time-step timed out. Elapsed since last time-step: 0.15811089996532246\n",
      "\u001b[2m\u001b[36m(RolloutWorker pid=15280)\u001b[0m   warnings.warn(f\"Time-step timed out. Elapsed since last time-step: {now - self.__t_end}\")\n"
     ]
    },
    {
     "name": "stdout",
     "output_type": "stream",
     "text": [
      "Loop:  763\n",
      "\u001b[2m\u001b[36m(RolloutWorker pid=15280)\u001b[0m reset triggered\n",
      "\u001b[2m\u001b[36m(RolloutWorker pid=15280)\u001b[0m reload save for track : 4\n"
     ]
    },
    {
     "name": "stderr",
     "output_type": "stream",
     "text": [
      "\u001b[2m\u001b[36m(RolloutWorker pid=15280)\u001b[0m c:\\Users\\nadir\\anaconda3\\envs\\GTAI2\\lib\\site-packages\\rtgym\\envs\\real_time_env.py:376: UserWarning: Time-step timed out. Elapsed since last time-step: 0.12255259991979983\n",
      "\u001b[2m\u001b[36m(RolloutWorker pid=15280)\u001b[0m   warnings.warn(f\"Time-step timed out. Elapsed since last time-step: {now - self.__t_end}\")\n"
     ]
    },
    {
     "name": "stdout",
     "output_type": "stream",
     "text": [
      "Loop:  764\n",
      "\u001b[2m\u001b[36m(RolloutWorker pid=15280)\u001b[0m reset triggered\n",
      "\u001b[2m\u001b[36m(RolloutWorker pid=15280)\u001b[0m reload save for track : 4\n"
     ]
    },
    {
     "name": "stderr",
     "output_type": "stream",
     "text": [
      "\u001b[2m\u001b[36m(RolloutWorker pid=15280)\u001b[0m c:\\Users\\nadir\\anaconda3\\envs\\GTAI2\\lib\\site-packages\\rtgym\\envs\\real_time_env.py:376: UserWarning: Time-step timed out. Elapsed since last time-step: 0.15721739991749928\n",
      "\u001b[2m\u001b[36m(RolloutWorker pid=15280)\u001b[0m   warnings.warn(f\"Time-step timed out. Elapsed since last time-step: {now - self.__t_end}\")\n"
     ]
    },
    {
     "name": "stdout",
     "output_type": "stream",
     "text": [
      "Loop:  765\n",
      "Loop:  766\n",
      "\u001b[2m\u001b[36m(RolloutWorker pid=15280)\u001b[0m reset triggered\n",
      "\u001b[2m\u001b[36m(RolloutWorker pid=15280)\u001b[0m reload save for track : 4\n"
     ]
    },
    {
     "name": "stderr",
     "output_type": "stream",
     "text": [
      "\u001b[2m\u001b[36m(RolloutWorker pid=15280)\u001b[0m c:\\Users\\nadir\\anaconda3\\envs\\GTAI2\\lib\\site-packages\\rtgym\\envs\\real_time_env.py:376: UserWarning: Time-step timed out. Elapsed since last time-step: 0.13236449991927657\n",
      "\u001b[2m\u001b[36m(RolloutWorker pid=15280)\u001b[0m   warnings.warn(f\"Time-step timed out. Elapsed since last time-step: {now - self.__t_end}\")\n"
     ]
    },
    {
     "name": "stdout",
     "output_type": "stream",
     "text": [
      "Loop:  767\n",
      "\u001b[2m\u001b[36m(RolloutWorker pid=15280)\u001b[0m reset triggered\n",
      "\u001b[2m\u001b[36m(RolloutWorker pid=15280)\u001b[0m reload save for track : 4\n"
     ]
    },
    {
     "name": "stderr",
     "output_type": "stream",
     "text": [
      "\u001b[2m\u001b[36m(RolloutWorker pid=15280)\u001b[0m c:\\Users\\nadir\\anaconda3\\envs\\GTAI2\\lib\\site-packages\\rtgym\\envs\\real_time_env.py:376: UserWarning: Time-step timed out. Elapsed since last time-step: 0.1481174999189534\n",
      "\u001b[2m\u001b[36m(RolloutWorker pid=15280)\u001b[0m   warnings.warn(f\"Time-step timed out. Elapsed since last time-step: {now - self.__t_end}\")\n"
     ]
    },
    {
     "name": "stdout",
     "output_type": "stream",
     "text": [
      "Loop:  768\n",
      "Loop:  769\n",
      "\u001b[2m\u001b[36m(RolloutWorker pid=15280)\u001b[0m reset triggered\n",
      "\u001b[2m\u001b[36m(RolloutWorker pid=15280)\u001b[0m reload save for track : 4\n"
     ]
    },
    {
     "name": "stderr",
     "output_type": "stream",
     "text": [
      "\u001b[2m\u001b[36m(RolloutWorker pid=15280)\u001b[0m c:\\Users\\nadir\\anaconda3\\envs\\GTAI2\\lib\\site-packages\\rtgym\\envs\\real_time_env.py:376: UserWarning: Time-step timed out. Elapsed since last time-step: 0.1695853999171959\n",
      "\u001b[2m\u001b[36m(RolloutWorker pid=15280)\u001b[0m   warnings.warn(f\"Time-step timed out. Elapsed since last time-step: {now - self.__t_end}\")\n"
     ]
    },
    {
     "name": "stdout",
     "output_type": "stream",
     "text": [
      "Loop:  770\n",
      "Saved 770\n",
      "\u001b[2m\u001b[36m(RolloutWorker pid=15280)\u001b[0m reset triggered\n",
      "\u001b[2m\u001b[36m(RolloutWorker pid=15280)\u001b[0m reload save for track : 4\n"
     ]
    },
    {
     "name": "stderr",
     "output_type": "stream",
     "text": [
      "\u001b[2m\u001b[36m(RolloutWorker pid=15280)\u001b[0m c:\\Users\\nadir\\anaconda3\\envs\\GTAI2\\lib\\site-packages\\rtgym\\envs\\real_time_env.py:376: UserWarning: Time-step timed out. Elapsed since last time-step: 0.13274069991894066\n",
      "\u001b[2m\u001b[36m(RolloutWorker pid=15280)\u001b[0m   warnings.warn(f\"Time-step timed out. Elapsed since last time-step: {now - self.__t_end}\")\n"
     ]
    },
    {
     "name": "stdout",
     "output_type": "stream",
     "text": [
      "Loop:  771\n",
      "Loop:  772\n",
      "\u001b[2m\u001b[36m(RolloutWorker pid=15280)\u001b[0m reset triggered\n",
      "\u001b[2m\u001b[36m(RolloutWorker pid=15280)\u001b[0m reload save for track : 4\n"
     ]
    },
    {
     "name": "stderr",
     "output_type": "stream",
     "text": [
      "\u001b[2m\u001b[36m(RolloutWorker pid=15280)\u001b[0m c:\\Users\\nadir\\anaconda3\\envs\\GTAI2\\lib\\site-packages\\rtgym\\envs\\real_time_env.py:376: UserWarning: Time-step timed out. Elapsed since last time-step: 0.14731849991767376\n",
      "\u001b[2m\u001b[36m(RolloutWorker pid=15280)\u001b[0m   warnings.warn(f\"Time-step timed out. Elapsed since last time-step: {now - self.__t_end}\")\n"
     ]
    },
    {
     "name": "stdout",
     "output_type": "stream",
     "text": [
      "Loop:  773\n",
      "\u001b[2m\u001b[36m(RolloutWorker pid=15280)\u001b[0m reset triggered\n",
      "\u001b[2m\u001b[36m(RolloutWorker pid=15280)\u001b[0m reload save for track : 4\n"
     ]
    },
    {
     "name": "stderr",
     "output_type": "stream",
     "text": [
      "\u001b[2m\u001b[36m(RolloutWorker pid=15280)\u001b[0m c:\\Users\\nadir\\anaconda3\\envs\\GTAI2\\lib\\site-packages\\rtgym\\envs\\real_time_env.py:376: UserWarning: Time-step timed out. Elapsed since last time-step: 0.17040959991936688\n",
      "\u001b[2m\u001b[36m(RolloutWorker pid=15280)\u001b[0m   warnings.warn(f\"Time-step timed out. Elapsed since last time-step: {now - self.__t_end}\")\n"
     ]
    },
    {
     "name": "stdout",
     "output_type": "stream",
     "text": [
      "Loop:  774\n",
      "Loop:  775\n",
      "\u001b[2m\u001b[36m(RolloutWorker pid=15280)\u001b[0m reset triggered\n",
      "\u001b[2m\u001b[36m(RolloutWorker pid=15280)\u001b[0m reload save for track : 4\n"
     ]
    },
    {
     "name": "stderr",
     "output_type": "stream",
     "text": [
      "\u001b[2m\u001b[36m(RolloutWorker pid=15280)\u001b[0m c:\\Users\\nadir\\anaconda3\\envs\\GTAI2\\lib\\site-packages\\rtgym\\envs\\real_time_env.py:376: UserWarning: Time-step timed out. Elapsed since last time-step: 0.141440499917735\n",
      "\u001b[2m\u001b[36m(RolloutWorker pid=15280)\u001b[0m   warnings.warn(f\"Time-step timed out. Elapsed since last time-step: {now - self.__t_end}\")\n"
     ]
    },
    {
     "name": "stdout",
     "output_type": "stream",
     "text": [
      "Loop:  776\n",
      "\u001b[2m\u001b[36m(RolloutWorker pid=15280)\u001b[0m reset triggered\n",
      "\u001b[2m\u001b[36m(RolloutWorker pid=15280)\u001b[0m reload save for track : 4\n"
     ]
    },
    {
     "name": "stderr",
     "output_type": "stream",
     "text": [
      "\u001b[2m\u001b[36m(RolloutWorker pid=15280)\u001b[0m c:\\Users\\nadir\\anaconda3\\envs\\GTAI2\\lib\\site-packages\\rtgym\\envs\\real_time_env.py:376: UserWarning: Time-step timed out. Elapsed since last time-step: 0.14827339992007182\n",
      "\u001b[2m\u001b[36m(RolloutWorker pid=15280)\u001b[0m   warnings.warn(f\"Time-step timed out. Elapsed since last time-step: {now - self.__t_end}\")\n"
     ]
    },
    {
     "name": "stdout",
     "output_type": "stream",
     "text": [
      "Loop:  777\n",
      "\u001b[2m\u001b[36m(RolloutWorker pid=15280)\u001b[0m reset triggered\n",
      "\u001b[2m\u001b[36m(RolloutWorker pid=15280)\u001b[0m reload save for track : 4\n"
     ]
    },
    {
     "name": "stderr",
     "output_type": "stream",
     "text": [
      "\u001b[2m\u001b[36m(RolloutWorker pid=15280)\u001b[0m c:\\Users\\nadir\\anaconda3\\envs\\GTAI2\\lib\\site-packages\\rtgym\\envs\\real_time_env.py:376: UserWarning: Time-step timed out. Elapsed since last time-step: 0.13255629991726892\n",
      "\u001b[2m\u001b[36m(RolloutWorker pid=15280)\u001b[0m   warnings.warn(f\"Time-step timed out. Elapsed since last time-step: {now - self.__t_end}\")\n"
     ]
    },
    {
     "name": "stdout",
     "output_type": "stream",
     "text": [
      "Loop:  778\n",
      "Loop:  779\n",
      "\u001b[2m\u001b[36m(RolloutWorker pid=15280)\u001b[0m reset triggered\n",
      "\u001b[2m\u001b[36m(RolloutWorker pid=15280)\u001b[0m reload save for track : 4\n"
     ]
    },
    {
     "name": "stderr",
     "output_type": "stream",
     "text": [
      "\u001b[2m\u001b[36m(RolloutWorker pid=15280)\u001b[0m c:\\Users\\nadir\\anaconda3\\envs\\GTAI2\\lib\\site-packages\\rtgym\\envs\\real_time_env.py:376: UserWarning: Time-step timed out. Elapsed since last time-step: 0.1378440999196755\n",
      "\u001b[2m\u001b[36m(RolloutWorker pid=15280)\u001b[0m   warnings.warn(f\"Time-step timed out. Elapsed since last time-step: {now - self.__t_end}\")\n"
     ]
    },
    {
     "name": "stdout",
     "output_type": "stream",
     "text": [
      "Loop:  780\n",
      "Saved 780\n",
      "\u001b[2m\u001b[36m(RolloutWorker pid=15280)\u001b[0m reset triggered\n",
      "\u001b[2m\u001b[36m(RolloutWorker pid=15280)\u001b[0m reload save for track : 4\n"
     ]
    },
    {
     "name": "stderr",
     "output_type": "stream",
     "text": [
      "\u001b[2m\u001b[36m(RolloutWorker pid=15280)\u001b[0m c:\\Users\\nadir\\anaconda3\\envs\\GTAI2\\lib\\site-packages\\rtgym\\envs\\real_time_env.py:376: UserWarning: Time-step timed out. Elapsed since last time-step: 0.14285679991735378\n",
      "\u001b[2m\u001b[36m(RolloutWorker pid=15280)\u001b[0m   warnings.warn(f\"Time-step timed out. Elapsed since last time-step: {now - self.__t_end}\")\n"
     ]
    },
    {
     "name": "stdout",
     "output_type": "stream",
     "text": [
      "Loop:  781\n",
      "Loop:  782\n",
      "\u001b[2m\u001b[36m(RolloutWorker pid=15280)\u001b[0m reset triggered\n",
      "\u001b[2m\u001b[36m(RolloutWorker pid=15280)\u001b[0m reload save for track : 4\n"
     ]
    },
    {
     "name": "stderr",
     "output_type": "stream",
     "text": [
      "\u001b[2m\u001b[36m(RolloutWorker pid=15280)\u001b[0m c:\\Users\\nadir\\anaconda3\\envs\\GTAI2\\lib\\site-packages\\rtgym\\envs\\real_time_env.py:376: UserWarning: Time-step timed out. Elapsed since last time-step: 0.14963709991934593\n",
      "\u001b[2m\u001b[36m(RolloutWorker pid=15280)\u001b[0m   warnings.warn(f\"Time-step timed out. Elapsed since last time-step: {now - self.__t_end}\")\n"
     ]
    },
    {
     "name": "stdout",
     "output_type": "stream",
     "text": [
      "Loop:  783\n",
      "\u001b[2m\u001b[36m(RolloutWorker pid=15280)\u001b[0m reset triggered\n",
      "\u001b[2m\u001b[36m(RolloutWorker pid=15280)\u001b[0m reload save for track : 4\n"
     ]
    },
    {
     "name": "stderr",
     "output_type": "stream",
     "text": [
      "\u001b[2m\u001b[36m(RolloutWorker pid=15280)\u001b[0m c:\\Users\\nadir\\anaconda3\\envs\\GTAI2\\lib\\site-packages\\rtgym\\envs\\real_time_env.py:376: UserWarning: Time-step timed out. Elapsed since last time-step: 0.1465880999185174\n",
      "\u001b[2m\u001b[36m(RolloutWorker pid=15280)\u001b[0m   warnings.warn(f\"Time-step timed out. Elapsed since last time-step: {now - self.__t_end}\")\n"
     ]
    },
    {
     "name": "stdout",
     "output_type": "stream",
     "text": [
      "Loop:  784\n",
      "Loop:  785\n",
      "\u001b[2m\u001b[36m(RolloutWorker pid=15280)\u001b[0m reset triggered\n",
      "\u001b[2m\u001b[36m(RolloutWorker pid=15280)\u001b[0m reload save for track : 4\n"
     ]
    },
    {
     "name": "stderr",
     "output_type": "stream",
     "text": [
      "\u001b[2m\u001b[36m(RolloutWorker pid=15280)\u001b[0m c:\\Users\\nadir\\anaconda3\\envs\\GTAI2\\lib\\site-packages\\rtgym\\envs\\real_time_env.py:376: UserWarning: Time-step timed out. Elapsed since last time-step: 0.12368409991722729\n",
      "\u001b[2m\u001b[36m(RolloutWorker pid=15280)\u001b[0m   warnings.warn(f\"Time-step timed out. Elapsed since last time-step: {now - self.__t_end}\")\n"
     ]
    },
    {
     "name": "stdout",
     "output_type": "stream",
     "text": [
      "Loop:  786\n",
      "\u001b[2m\u001b[36m(RolloutWorker pid=15280)\u001b[0m reset triggered\n",
      "\u001b[2m\u001b[36m(RolloutWorker pid=15280)\u001b[0m reload save for track : 4\n"
     ]
    },
    {
     "name": "stderr",
     "output_type": "stream",
     "text": [
      "\u001b[2m\u001b[36m(RolloutWorker pid=15280)\u001b[0m c:\\Users\\nadir\\anaconda3\\envs\\GTAI2\\lib\\site-packages\\rtgym\\envs\\real_time_env.py:376: UserWarning: Time-step timed out. Elapsed since last time-step: 0.15720529991995136\n",
      "\u001b[2m\u001b[36m(RolloutWorker pid=15280)\u001b[0m   warnings.warn(f\"Time-step timed out. Elapsed since last time-step: {now - self.__t_end}\")\n"
     ]
    },
    {
     "name": "stdout",
     "output_type": "stream",
     "text": [
      "Loop:  787\n",
      "Loop:  788\n",
      "\u001b[2m\u001b[36m(RolloutWorker pid=15280)\u001b[0m reset triggered\n",
      "\u001b[2m\u001b[36m(RolloutWorker pid=15280)\u001b[0m reload save for track : 4\n"
     ]
    },
    {
     "name": "stderr",
     "output_type": "stream",
     "text": [
      "\u001b[2m\u001b[36m(RolloutWorker pid=15280)\u001b[0m c:\\Users\\nadir\\anaconda3\\envs\\GTAI2\\lib\\site-packages\\rtgym\\envs\\real_time_env.py:376: UserWarning: Time-step timed out. Elapsed since last time-step: 0.17009649991814513\n",
      "\u001b[2m\u001b[36m(RolloutWorker pid=15280)\u001b[0m   warnings.warn(f\"Time-step timed out. Elapsed since last time-step: {now - self.__t_end}\")\n"
     ]
    },
    {
     "name": "stdout",
     "output_type": "stream",
     "text": [
      "Loop:  789\n",
      "\u001b[2m\u001b[36m(RolloutWorker pid=15280)\u001b[0m reset triggered\n",
      "\u001b[2m\u001b[36m(RolloutWorker pid=15280)\u001b[0m reload save for track : 4\n"
     ]
    },
    {
     "name": "stderr",
     "output_type": "stream",
     "text": [
      "\u001b[2m\u001b[36m(RolloutWorker pid=15280)\u001b[0m c:\\Users\\nadir\\anaconda3\\envs\\GTAI2\\lib\\site-packages\\rtgym\\envs\\real_time_env.py:376: UserWarning: Time-step timed out. Elapsed since last time-step: 0.14260079991800012\n",
      "\u001b[2m\u001b[36m(RolloutWorker pid=15280)\u001b[0m   warnings.warn(f\"Time-step timed out. Elapsed since last time-step: {now - self.__t_end}\")\n"
     ]
    },
    {
     "name": "stdout",
     "output_type": "stream",
     "text": [
      "Loop:  790\n",
      "Saved 790\n",
      "\u001b[2m\u001b[36m(RolloutWorker pid=15280)\u001b[0m reset triggered\n",
      "\u001b[2m\u001b[36m(RolloutWorker pid=15280)\u001b[0m reload save for track : 4\n"
     ]
    },
    {
     "name": "stderr",
     "output_type": "stream",
     "text": [
      "\u001b[2m\u001b[36m(RolloutWorker pid=15280)\u001b[0m c:\\Users\\nadir\\anaconda3\\envs\\GTAI2\\lib\\site-packages\\rtgym\\envs\\real_time_env.py:376: UserWarning: Time-step timed out. Elapsed since last time-step: 0.1578660999184649\n",
      "\u001b[2m\u001b[36m(RolloutWorker pid=15280)\u001b[0m   warnings.warn(f\"Time-step timed out. Elapsed since last time-step: {now - self.__t_end}\")\n"
     ]
    },
    {
     "name": "stdout",
     "output_type": "stream",
     "text": [
      "Loop:  791\n",
      "Loop:  792\n",
      "\u001b[2m\u001b[36m(RolloutWorker pid=15280)\u001b[0m reset triggered\n",
      "\u001b[2m\u001b[36m(RolloutWorker pid=15280)\u001b[0m reload save for track : 4\n"
     ]
    },
    {
     "name": "stderr",
     "output_type": "stream",
     "text": [
      "\u001b[2m\u001b[36m(RolloutWorker pid=15280)\u001b[0m c:\\Users\\nadir\\anaconda3\\envs\\GTAI2\\lib\\site-packages\\rtgym\\envs\\real_time_env.py:376: UserWarning: Time-step timed out. Elapsed since last time-step: 0.16940619991873973\n",
      "\u001b[2m\u001b[36m(RolloutWorker pid=15280)\u001b[0m   warnings.warn(f\"Time-step timed out. Elapsed since last time-step: {now - self.__t_end}\")\n"
     ]
    },
    {
     "name": "stdout",
     "output_type": "stream",
     "text": [
      "Loop:  793\n",
      "\u001b[2m\u001b[36m(RolloutWorker pid=15280)\u001b[0m reset triggered\n",
      "\u001b[2m\u001b[36m(RolloutWorker pid=15280)\u001b[0m reload save for track : 4\n"
     ]
    },
    {
     "name": "stderr",
     "output_type": "stream",
     "text": [
      "\u001b[2m\u001b[36m(RolloutWorker pid=15280)\u001b[0m c:\\Users\\nadir\\anaconda3\\envs\\GTAI2\\lib\\site-packages\\rtgym\\envs\\real_time_env.py:376: UserWarning: Time-step timed out. Elapsed since last time-step: 0.1322406999188388\n",
      "\u001b[2m\u001b[36m(RolloutWorker pid=15280)\u001b[0m   warnings.warn(f\"Time-step timed out. Elapsed since last time-step: {now - self.__t_end}\")\n"
     ]
    },
    {
     "name": "stdout",
     "output_type": "stream",
     "text": [
      "Loop:  794\n",
      "Loop:  795\n",
      "\u001b[2m\u001b[36m(RolloutWorker pid=15280)\u001b[0m reset triggered\n",
      "\u001b[2m\u001b[36m(RolloutWorker pid=15280)\u001b[0m reload save for track : 4\n"
     ]
    },
    {
     "name": "stderr",
     "output_type": "stream",
     "text": [
      "\u001b[2m\u001b[36m(RolloutWorker pid=15280)\u001b[0m c:\\Users\\nadir\\anaconda3\\envs\\GTAI2\\lib\\site-packages\\rtgym\\envs\\real_time_env.py:376: UserWarning: Time-step timed out. Elapsed since last time-step: 0.15810369991777407\n",
      "\u001b[2m\u001b[36m(RolloutWorker pid=15280)\u001b[0m   warnings.warn(f\"Time-step timed out. Elapsed since last time-step: {now - self.__t_end}\")\n"
     ]
    },
    {
     "name": "stdout",
     "output_type": "stream",
     "text": [
      "Loop:  796\n",
      "\u001b[2m\u001b[36m(RolloutWorker pid=15280)\u001b[0m reset triggered\n",
      "\u001b[2m\u001b[36m(RolloutWorker pid=15280)\u001b[0m reload save for track : 4\n"
     ]
    },
    {
     "name": "stderr",
     "output_type": "stream",
     "text": [
      "\u001b[2m\u001b[36m(RolloutWorker pid=15280)\u001b[0m c:\\Users\\nadir\\anaconda3\\envs\\GTAI2\\lib\\site-packages\\rtgym\\envs\\real_time_env.py:376: UserWarning: Time-step timed out. Elapsed since last time-step: 0.13301479991969245\n",
      "\u001b[2m\u001b[36m(RolloutWorker pid=15280)\u001b[0m   warnings.warn(f\"Time-step timed out. Elapsed since last time-step: {now - self.__t_end}\")\n"
     ]
    },
    {
     "name": "stdout",
     "output_type": "stream",
     "text": [
      "Loop:  797\n",
      "Loop:  798\n",
      "\u001b[2m\u001b[36m(RolloutWorker pid=15280)\u001b[0m reset triggered\n",
      "\u001b[2m\u001b[36m(RolloutWorker pid=15280)\u001b[0m reload save for track : 4\n"
     ]
    },
    {
     "name": "stderr",
     "output_type": "stream",
     "text": [
      "\u001b[2m\u001b[36m(RolloutWorker pid=15280)\u001b[0m c:\\Users\\nadir\\anaconda3\\envs\\GTAI2\\lib\\site-packages\\rtgym\\envs\\real_time_env.py:376: UserWarning: Time-step timed out. Elapsed since last time-step: 0.14704299991717562\n",
      "\u001b[2m\u001b[36m(RolloutWorker pid=15280)\u001b[0m   warnings.warn(f\"Time-step timed out. Elapsed since last time-step: {now - self.__t_end}\")\n"
     ]
    },
    {
     "name": "stdout",
     "output_type": "stream",
     "text": [
      "Loop:  799\n",
      "\u001b[2m\u001b[36m(RolloutWorker pid=15280)\u001b[0m reset triggered\n",
      "\u001b[2m\u001b[36m(RolloutWorker pid=15280)\u001b[0m reload save for track : 4\n"
     ]
    },
    {
     "name": "stderr",
     "output_type": "stream",
     "text": [
      "\u001b[2m\u001b[36m(RolloutWorker pid=15280)\u001b[0m c:\\Users\\nadir\\anaconda3\\envs\\GTAI2\\lib\\site-packages\\rtgym\\envs\\real_time_env.py:376: UserWarning: Time-step timed out. Elapsed since last time-step: 0.16003939991969673\n",
      "\u001b[2m\u001b[36m(RolloutWorker pid=15280)\u001b[0m   warnings.warn(f\"Time-step timed out. Elapsed since last time-step: {now - self.__t_end}\")\n",
      "\u001b[2m\u001b[36m(RolloutWorker pid=15280)\u001b[0m c:\\Users\\nadir\\anaconda3\\envs\\GTAI2\\lib\\site-packages\\rtgym\\envs\\real_time_env.py:376: UserWarning: Time-step timed out. Elapsed since last time-step: 0.15533869998398586\n",
      "\u001b[2m\u001b[36m(RolloutWorker pid=15280)\u001b[0m   warnings.warn(f\"Time-step timed out. Elapsed since last time-step: {now - self.__t_end}\")\n"
     ]
    },
    {
     "name": "stdout",
     "output_type": "stream",
     "text": [
      "Loop:  800\n",
      "Saved 800\n",
      "Loop:  801\n",
      "\u001b[2m\u001b[36m(RolloutWorker pid=15280)\u001b[0m reset triggered\n",
      "\u001b[2m\u001b[36m(RolloutWorker pid=15280)\u001b[0m reload save for track : 4\n"
     ]
    },
    {
     "name": "stderr",
     "output_type": "stream",
     "text": [
      "\u001b[2m\u001b[36m(RolloutWorker pid=15280)\u001b[0m c:\\Users\\nadir\\anaconda3\\envs\\GTAI2\\lib\\site-packages\\rtgym\\envs\\real_time_env.py:376: UserWarning: Time-step timed out. Elapsed since last time-step: 0.13679289993342536\n",
      "\u001b[2m\u001b[36m(RolloutWorker pid=15280)\u001b[0m   warnings.warn(f\"Time-step timed out. Elapsed since last time-step: {now - self.__t_end}\")\n"
     ]
    },
    {
     "name": "stdout",
     "output_type": "stream",
     "text": [
      "Loop:  802\n",
      "\u001b[2m\u001b[36m(RolloutWorker pid=15280)\u001b[0m reset triggered\n",
      "\u001b[2m\u001b[36m(RolloutWorker pid=15280)\u001b[0m reload save for track : 4\n"
     ]
    },
    {
     "name": "stderr",
     "output_type": "stream",
     "text": [
      "\u001b[2m\u001b[36m(RolloutWorker pid=15280)\u001b[0m c:\\Users\\nadir\\anaconda3\\envs\\GTAI2\\lib\\site-packages\\rtgym\\envs\\real_time_env.py:376: UserWarning: Time-step timed out. Elapsed since last time-step: 0.13089879991821363\n",
      "\u001b[2m\u001b[36m(RolloutWorker pid=15280)\u001b[0m   warnings.warn(f\"Time-step timed out. Elapsed since last time-step: {now - self.__t_end}\")\n"
     ]
    },
    {
     "name": "stdout",
     "output_type": "stream",
     "text": [
      "Loop:  803\n",
      "\u001b[2m\u001b[36m(RolloutWorker pid=15280)\u001b[0m reset triggered\n",
      "\u001b[2m\u001b[36m(RolloutWorker pid=15280)\u001b[0m reload save for track : 4\n"
     ]
    },
    {
     "name": "stderr",
     "output_type": "stream",
     "text": [
      "\u001b[2m\u001b[36m(RolloutWorker pid=15280)\u001b[0m c:\\Users\\nadir\\anaconda3\\envs\\GTAI2\\lib\\site-packages\\rtgym\\envs\\real_time_env.py:376: UserWarning: Time-step timed out. Elapsed since last time-step: 0.14973499991901917\n",
      "\u001b[2m\u001b[36m(RolloutWorker pid=15280)\u001b[0m   warnings.warn(f\"Time-step timed out. Elapsed since last time-step: {now - self.__t_end}\")\n"
     ]
    },
    {
     "name": "stdout",
     "output_type": "stream",
     "text": [
      "Loop:  804\n",
      "Loop:  805\n",
      "\u001b[2m\u001b[36m(RolloutWorker pid=15280)\u001b[0m reset triggered\n",
      "\u001b[2m\u001b[36m(RolloutWorker pid=15280)\u001b[0m reload save for track : 4\n"
     ]
    },
    {
     "name": "stderr",
     "output_type": "stream",
     "text": [
      "\u001b[2m\u001b[36m(RolloutWorker pid=15280)\u001b[0m c:\\Users\\nadir\\anaconda3\\envs\\GTAI2\\lib\\site-packages\\rtgym\\envs\\real_time_env.py:376: UserWarning: Time-step timed out. Elapsed since last time-step: 0.1573410999189946\n",
      "\u001b[2m\u001b[36m(RolloutWorker pid=15280)\u001b[0m   warnings.warn(f\"Time-step timed out. Elapsed since last time-step: {now - self.__t_end}\")\n"
     ]
    },
    {
     "name": "stdout",
     "output_type": "stream",
     "text": [
      "Loop:  806\n",
      "\u001b[2m\u001b[36m(RolloutWorker pid=15280)\u001b[0m reset triggered\n",
      "\u001b[2m\u001b[36m(RolloutWorker pid=15280)\u001b[0m reload save for track : 4\n"
     ]
    },
    {
     "name": "stderr",
     "output_type": "stream",
     "text": [
      "\u001b[2m\u001b[36m(RolloutWorker pid=15280)\u001b[0m c:\\Users\\nadir\\anaconda3\\envs\\GTAI2\\lib\\site-packages\\rtgym\\envs\\real_time_env.py:376: UserWarning: Time-step timed out. Elapsed since last time-step: 0.16946089991870394\n",
      "\u001b[2m\u001b[36m(RolloutWorker pid=15280)\u001b[0m   warnings.warn(f\"Time-step timed out. Elapsed since last time-step: {now - self.__t_end}\")\n"
     ]
    },
    {
     "name": "stdout",
     "output_type": "stream",
     "text": [
      "Loop:  807\n",
      "Loop:  808\n",
      "\u001b[2m\u001b[36m(RolloutWorker pid=15280)\u001b[0m reset triggered\n",
      "\u001b[2m\u001b[36m(RolloutWorker pid=15280)\u001b[0m reload save for track : 4\n"
     ]
    },
    {
     "name": "stderr",
     "output_type": "stream",
     "text": [
      "\u001b[2m\u001b[36m(RolloutWorker pid=15280)\u001b[0m c:\\Users\\nadir\\anaconda3\\envs\\GTAI2\\lib\\site-packages\\rtgym\\envs\\real_time_env.py:376: UserWarning: Time-step timed out. Elapsed since last time-step: 0.15055989991742535\n",
      "\u001b[2m\u001b[36m(RolloutWorker pid=15280)\u001b[0m   warnings.warn(f\"Time-step timed out. Elapsed since last time-step: {now - self.__t_end}\")\n"
     ]
    },
    {
     "name": "stdout",
     "output_type": "stream",
     "text": [
      "Loop:  809\n",
      "\u001b[2m\u001b[36m(RolloutWorker pid=15280)\u001b[0m reset triggered\n",
      "\u001b[2m\u001b[36m(RolloutWorker pid=15280)\u001b[0m reload save for track : 4\n"
     ]
    },
    {
     "name": "stderr",
     "output_type": "stream",
     "text": [
      "\u001b[2m\u001b[36m(RolloutWorker pid=15280)\u001b[0m c:\\Users\\nadir\\anaconda3\\envs\\GTAI2\\lib\\site-packages\\rtgym\\envs\\real_time_env.py:376: UserWarning: Time-step timed out. Elapsed since last time-step: 0.1502832999194652\n",
      "\u001b[2m\u001b[36m(RolloutWorker pid=15280)\u001b[0m   warnings.warn(f\"Time-step timed out. Elapsed since last time-step: {now - self.__t_end}\")\n"
     ]
    },
    {
     "name": "stdout",
     "output_type": "stream",
     "text": [
      "Loop:  810\n",
      "Saved 810\n",
      "Loop:  811\n",
      "\u001b[2m\u001b[36m(RolloutWorker pid=15280)\u001b[0m reset triggered\n",
      "\u001b[2m\u001b[36m(RolloutWorker pid=15280)\u001b[0m reload save for track : 4\n"
     ]
    },
    {
     "name": "stderr",
     "output_type": "stream",
     "text": [
      "\u001b[2m\u001b[36m(RolloutWorker pid=15280)\u001b[0m c:\\Users\\nadir\\anaconda3\\envs\\GTAI2\\lib\\site-packages\\rtgym\\envs\\real_time_env.py:376: UserWarning: Time-step timed out. Elapsed since last time-step: 0.12189079991912877\n",
      "\u001b[2m\u001b[36m(RolloutWorker pid=15280)\u001b[0m   warnings.warn(f\"Time-step timed out. Elapsed since last time-step: {now - self.__t_end}\")\n"
     ]
    },
    {
     "name": "stdout",
     "output_type": "stream",
     "text": [
      "Loop:  812\n",
      "\u001b[2m\u001b[36m(RolloutWorker pid=15280)\u001b[0m reset triggered\n",
      "\u001b[2m\u001b[36m(RolloutWorker pid=15280)\u001b[0m reload save for track : 4\n"
     ]
    },
    {
     "name": "stderr",
     "output_type": "stream",
     "text": [
      "\u001b[2m\u001b[36m(RolloutWorker pid=15280)\u001b[0m c:\\Users\\nadir\\anaconda3\\envs\\GTAI2\\lib\\site-packages\\rtgym\\envs\\real_time_env.py:376: UserWarning: Time-step timed out. Elapsed since last time-step: 0.14802249991771532\n",
      "\u001b[2m\u001b[36m(RolloutWorker pid=15280)\u001b[0m   warnings.warn(f\"Time-step timed out. Elapsed since last time-step: {now - self.__t_end}\")\n"
     ]
    },
    {
     "name": "stdout",
     "output_type": "stream",
     "text": [
      "Loop:  813\n",
      "Loop:  814\n",
      "\u001b[2m\u001b[36m(RolloutWorker pid=15280)\u001b[0m reset triggered\n",
      "\u001b[2m\u001b[36m(RolloutWorker pid=15280)\u001b[0m reload save for track : 4\n"
     ]
    },
    {
     "name": "stderr",
     "output_type": "stream",
     "text": [
      "\u001b[2m\u001b[36m(RolloutWorker pid=15280)\u001b[0m c:\\Users\\nadir\\anaconda3\\envs\\GTAI2\\lib\\site-packages\\rtgym\\envs\\real_time_env.py:376: UserWarning: Time-step timed out. Elapsed since last time-step: 0.13295849991845898\n",
      "\u001b[2m\u001b[36m(RolloutWorker pid=15280)\u001b[0m   warnings.warn(f\"Time-step timed out. Elapsed since last time-step: {now - self.__t_end}\")\n"
     ]
    },
    {
     "name": "stdout",
     "output_type": "stream",
     "text": [
      "Loop:  815\n",
      "\u001b[2m\u001b[36m(RolloutWorker pid=15280)\u001b[0m reset triggered\n",
      "\u001b[2m\u001b[36m(RolloutWorker pid=15280)\u001b[0m reload save for track : 4\n"
     ]
    },
    {
     "name": "stderr",
     "output_type": "stream",
     "text": [
      "\u001b[2m\u001b[36m(RolloutWorker pid=15280)\u001b[0m c:\\Users\\nadir\\anaconda3\\envs\\GTAI2\\lib\\site-packages\\rtgym\\envs\\real_time_env.py:376: UserWarning: Time-step timed out. Elapsed since last time-step: 0.14748159991904686\n",
      "\u001b[2m\u001b[36m(RolloutWorker pid=15280)\u001b[0m   warnings.warn(f\"Time-step timed out. Elapsed since last time-step: {now - self.__t_end}\")\n"
     ]
    },
    {
     "name": "stdout",
     "output_type": "stream",
     "text": [
      "Loop:  816\n",
      "\u001b[2m\u001b[36m(RolloutWorker pid=15280)\u001b[0m reset triggered\n",
      "\u001b[2m\u001b[36m(RolloutWorker pid=15280)\u001b[0m reload save for track : 4\n"
     ]
    },
    {
     "name": "stderr",
     "output_type": "stream",
     "text": [
      "\u001b[2m\u001b[36m(RolloutWorker pid=15280)\u001b[0m c:\\Users\\nadir\\anaconda3\\envs\\GTAI2\\lib\\site-packages\\rtgym\\envs\\real_time_env.py:376: UserWarning: Time-step timed out. Elapsed since last time-step: 0.14166939991810068\n",
      "\u001b[2m\u001b[36m(RolloutWorker pid=15280)\u001b[0m   warnings.warn(f\"Time-step timed out. Elapsed since last time-step: {now - self.__t_end}\")\n"
     ]
    },
    {
     "name": "stdout",
     "output_type": "stream",
     "text": [
      "Loop:  817\n",
      "Loop:  818\n",
      "\u001b[2m\u001b[36m(RolloutWorker pid=15280)\u001b[0m reset triggered\n",
      "\u001b[2m\u001b[36m(RolloutWorker pid=15280)\u001b[0m reload save for track : 4\n"
     ]
    },
    {
     "name": "stderr",
     "output_type": "stream",
     "text": [
      "\u001b[2m\u001b[36m(RolloutWorker pid=15280)\u001b[0m c:\\Users\\nadir\\anaconda3\\envs\\GTAI2\\lib\\site-packages\\rtgym\\envs\\real_time_env.py:376: UserWarning: Time-step timed out. Elapsed since last time-step: 0.14024929991865065\n",
      "\u001b[2m\u001b[36m(RolloutWorker pid=15280)\u001b[0m   warnings.warn(f\"Time-step timed out. Elapsed since last time-step: {now - self.__t_end}\")\n"
     ]
    },
    {
     "name": "stdout",
     "output_type": "stream",
     "text": [
      "Loop:  819\n",
      "\u001b[2m\u001b[36m(RolloutWorker pid=15280)\u001b[0m reset triggered\n",
      "\u001b[2m\u001b[36m(RolloutWorker pid=15280)\u001b[0m reload save for track : 4\n"
     ]
    },
    {
     "name": "stderr",
     "output_type": "stream",
     "text": [
      "\u001b[2m\u001b[36m(RolloutWorker pid=15280)\u001b[0m c:\\Users\\nadir\\anaconda3\\envs\\GTAI2\\lib\\site-packages\\rtgym\\envs\\real_time_env.py:376: UserWarning: Time-step timed out. Elapsed since last time-step: 0.15826809991813207\n",
      "\u001b[2m\u001b[36m(RolloutWorker pid=15280)\u001b[0m   warnings.warn(f\"Time-step timed out. Elapsed since last time-step: {now - self.__t_end}\")\n"
     ]
    },
    {
     "name": "stdout",
     "output_type": "stream",
     "text": [
      "Loop:  820\n",
      "Saved 820\n",
      "Loop:  821\n",
      "\u001b[2m\u001b[36m(RolloutWorker pid=15280)\u001b[0m reset triggered\n",
      "\u001b[2m\u001b[36m(RolloutWorker pid=15280)\u001b[0m reload save for track : 4\n"
     ]
    },
    {
     "name": "stderr",
     "output_type": "stream",
     "text": [
      "\u001b[2m\u001b[36m(RolloutWorker pid=15280)\u001b[0m c:\\Users\\nadir\\anaconda3\\envs\\GTAI2\\lib\\site-packages\\rtgym\\envs\\real_time_env.py:376: UserWarning: Time-step timed out. Elapsed since last time-step: 0.15241639991836564\n",
      "\u001b[2m\u001b[36m(RolloutWorker pid=15280)\u001b[0m   warnings.warn(f\"Time-step timed out. Elapsed since last time-step: {now - self.__t_end}\")\n"
     ]
    },
    {
     "name": "stdout",
     "output_type": "stream",
     "text": [
      "Loop:  822\n",
      "\u001b[2m\u001b[36m(RolloutWorker pid=15280)\u001b[0m reset triggered\n",
      "\u001b[2m\u001b[36m(RolloutWorker pid=15280)\u001b[0m reload save for track : 4\n"
     ]
    },
    {
     "name": "stderr",
     "output_type": "stream",
     "text": [
      "\u001b[2m\u001b[36m(RolloutWorker pid=15280)\u001b[0m c:\\Users\\nadir\\anaconda3\\envs\\GTAI2\\lib\\site-packages\\rtgym\\envs\\real_time_env.py:376: UserWarning: Time-step timed out. Elapsed since last time-step: 0.14665959991907584\n",
      "\u001b[2m\u001b[36m(RolloutWorker pid=15280)\u001b[0m   warnings.warn(f\"Time-step timed out. Elapsed since last time-step: {now - self.__t_end}\")\n"
     ]
    },
    {
     "name": "stdout",
     "output_type": "stream",
     "text": [
      "Loop:  823\n",
      "Loop:  824\n",
      "\u001b[2m\u001b[36m(RolloutWorker pid=15280)\u001b[0m reset triggered\n",
      "\u001b[2m\u001b[36m(RolloutWorker pid=15280)\u001b[0m reload save for track : 4\n"
     ]
    },
    {
     "name": "stderr",
     "output_type": "stream",
     "text": [
      "\u001b[2m\u001b[36m(RolloutWorker pid=15280)\u001b[0m c:\\Users\\nadir\\anaconda3\\envs\\GTAI2\\lib\\site-packages\\rtgym\\envs\\real_time_env.py:376: UserWarning: Time-step timed out. Elapsed since last time-step: 0.13226349991782627\n",
      "\u001b[2m\u001b[36m(RolloutWorker pid=15280)\u001b[0m   warnings.warn(f\"Time-step timed out. Elapsed since last time-step: {now - self.__t_end}\")\n"
     ]
    },
    {
     "name": "stdout",
     "output_type": "stream",
     "text": [
      "Loop:  825\n",
      "\u001b[2m\u001b[36m(RolloutWorker pid=15280)\u001b[0m reset triggered\n",
      "\u001b[2m\u001b[36m(RolloutWorker pid=15280)\u001b[0m reload save for track : 4\n"
     ]
    },
    {
     "name": "stderr",
     "output_type": "stream",
     "text": [
      "\u001b[2m\u001b[36m(RolloutWorker pid=15280)\u001b[0m c:\\Users\\nadir\\anaconda3\\envs\\GTAI2\\lib\\site-packages\\rtgym\\envs\\real_time_env.py:376: UserWarning: Time-step timed out. Elapsed since last time-step: 0.1413240999190748\n",
      "\u001b[2m\u001b[36m(RolloutWorker pid=15280)\u001b[0m   warnings.warn(f\"Time-step timed out. Elapsed since last time-step: {now - self.__t_end}\")\n"
     ]
    },
    {
     "name": "stdout",
     "output_type": "stream",
     "text": [
      "Loop:  826\n",
      "Loop:  827\n",
      "\u001b[2m\u001b[36m(RolloutWorker pid=15280)\u001b[0m reset triggered\n",
      "\u001b[2m\u001b[36m(RolloutWorker pid=15280)\u001b[0m reload save for track : 4\n"
     ]
    },
    {
     "name": "stderr",
     "output_type": "stream",
     "text": [
      "\u001b[2m\u001b[36m(RolloutWorker pid=15280)\u001b[0m c:\\Users\\nadir\\anaconda3\\envs\\GTAI2\\lib\\site-packages\\rtgym\\envs\\real_time_env.py:376: UserWarning: Time-step timed out. Elapsed since last time-step: 0.13491759991848085\n",
      "\u001b[2m\u001b[36m(RolloutWorker pid=15280)\u001b[0m   warnings.warn(f\"Time-step timed out. Elapsed since last time-step: {now - self.__t_end}\")\n"
     ]
    },
    {
     "name": "stdout",
     "output_type": "stream",
     "text": [
      "Loop:  828\n",
      "\u001b[2m\u001b[36m(RolloutWorker pid=15280)\u001b[0m reset triggered\n",
      "\u001b[2m\u001b[36m(RolloutWorker pid=15280)\u001b[0m reload save for track : 4\n"
     ]
    },
    {
     "name": "stderr",
     "output_type": "stream",
     "text": [
      "\u001b[2m\u001b[36m(RolloutWorker pid=15280)\u001b[0m c:\\Users\\nadir\\anaconda3\\envs\\GTAI2\\lib\\site-packages\\rtgym\\envs\\real_time_env.py:376: UserWarning: Time-step timed out. Elapsed since last time-step: 0.1419708999183058\n",
      "\u001b[2m\u001b[36m(RolloutWorker pid=15280)\u001b[0m   warnings.warn(f\"Time-step timed out. Elapsed since last time-step: {now - self.__t_end}\")\n"
     ]
    },
    {
     "name": "stdout",
     "output_type": "stream",
     "text": [
      "Loop:  829\n",
      "\u001b[2m\u001b[36m(RolloutWorker pid=15280)\u001b[0m reset triggered\n",
      "\u001b[2m\u001b[36m(RolloutWorker pid=15280)\u001b[0m reload save for track : 4\n"
     ]
    },
    {
     "name": "stderr",
     "output_type": "stream",
     "text": [
      "\u001b[2m\u001b[36m(RolloutWorker pid=15280)\u001b[0m c:\\Users\\nadir\\anaconda3\\envs\\GTAI2\\lib\\site-packages\\rtgym\\envs\\real_time_env.py:376: UserWarning: Time-step timed out. Elapsed since last time-step: 0.1231834999180137\n",
      "\u001b[2m\u001b[36m(RolloutWorker pid=15280)\u001b[0m   warnings.warn(f\"Time-step timed out. Elapsed since last time-step: {now - self.__t_end}\")\n"
     ]
    },
    {
     "name": "stdout",
     "output_type": "stream",
     "text": [
      "Loop:  830\n",
      "Saved 830\n",
      "Loop:  831\n",
      "\u001b[2m\u001b[36m(RolloutWorker pid=15280)\u001b[0m reset triggered\n",
      "\u001b[2m\u001b[36m(RolloutWorker pid=15280)\u001b[0m reload save for track : 4\n"
     ]
    },
    {
     "name": "stderr",
     "output_type": "stream",
     "text": [
      "\u001b[2m\u001b[36m(RolloutWorker pid=15280)\u001b[0m c:\\Users\\nadir\\anaconda3\\envs\\GTAI2\\lib\\site-packages\\rtgym\\envs\\real_time_env.py:376: UserWarning: Time-step timed out. Elapsed since last time-step: 0.13708649991895072\n",
      "\u001b[2m\u001b[36m(RolloutWorker pid=15280)\u001b[0m   warnings.warn(f\"Time-step timed out. Elapsed since last time-step: {now - self.__t_end}\")\n"
     ]
    },
    {
     "name": "stdout",
     "output_type": "stream",
     "text": [
      "Loop:  832\n",
      "\u001b[2m\u001b[36m(RolloutWorker pid=15280)\u001b[0m reset triggered\n",
      "\u001b[2m\u001b[36m(RolloutWorker pid=15280)\u001b[0m reload save for track : 4\n"
     ]
    },
    {
     "name": "stderr",
     "output_type": "stream",
     "text": [
      "\u001b[2m\u001b[36m(RolloutWorker pid=15280)\u001b[0m c:\\Users\\nadir\\anaconda3\\envs\\GTAI2\\lib\\site-packages\\rtgym\\envs\\real_time_env.py:376: UserWarning: Time-step timed out. Elapsed since last time-step: 0.16946429991912737\n",
      "\u001b[2m\u001b[36m(RolloutWorker pid=15280)\u001b[0m   warnings.warn(f\"Time-step timed out. Elapsed since last time-step: {now - self.__t_end}\")\n"
     ]
    },
    {
     "name": "stdout",
     "output_type": "stream",
     "text": [
      "Loop:  833\n",
      "Loop:  834\n",
      "\u001b[2m\u001b[36m(RolloutWorker pid=15280)\u001b[0m reset triggered\n",
      "\u001b[2m\u001b[36m(RolloutWorker pid=15280)\u001b[0m reload save for track : 4\n"
     ]
    },
    {
     "name": "stderr",
     "output_type": "stream",
     "text": [
      "\u001b[2m\u001b[36m(RolloutWorker pid=15280)\u001b[0m c:\\Users\\nadir\\anaconda3\\envs\\GTAI2\\lib\\site-packages\\rtgym\\envs\\real_time_env.py:376: UserWarning: Time-step timed out. Elapsed since last time-step: 0.15342199991755479\n",
      "\u001b[2m\u001b[36m(RolloutWorker pid=15280)\u001b[0m   warnings.warn(f\"Time-step timed out. Elapsed since last time-step: {now - self.__t_end}\")\n"
     ]
    },
    {
     "name": "stdout",
     "output_type": "stream",
     "text": [
      "Loop:  835\n",
      "\u001b[2m\u001b[36m(RolloutWorker pid=15280)\u001b[0m reset triggered\n",
      "\u001b[2m\u001b[36m(RolloutWorker pid=15280)\u001b[0m reload save for track : 4\n"
     ]
    },
    {
     "name": "stderr",
     "output_type": "stream",
     "text": [
      "\u001b[2m\u001b[36m(RolloutWorker pid=15280)\u001b[0m c:\\Users\\nadir\\anaconda3\\envs\\GTAI2\\lib\\site-packages\\rtgym\\envs\\real_time_env.py:376: UserWarning: Time-step timed out. Elapsed since last time-step: 0.1468335999197734\n",
      "\u001b[2m\u001b[36m(RolloutWorker pid=15280)\u001b[0m   warnings.warn(f\"Time-step timed out. Elapsed since last time-step: {now - self.__t_end}\")\n"
     ]
    },
    {
     "name": "stdout",
     "output_type": "stream",
     "text": [
      "Loop:  836\n",
      "Loop:  837\n",
      "\u001b[2m\u001b[36m(RolloutWorker pid=15280)\u001b[0m reset triggered\n",
      "\u001b[2m\u001b[36m(RolloutWorker pid=15280)\u001b[0m reload save for track : 4\n"
     ]
    },
    {
     "name": "stderr",
     "output_type": "stream",
     "text": [
      "\u001b[2m\u001b[36m(RolloutWorker pid=15280)\u001b[0m c:\\Users\\nadir\\anaconda3\\envs\\GTAI2\\lib\\site-packages\\rtgym\\envs\\real_time_env.py:376: UserWarning: Time-step timed out. Elapsed since last time-step: 0.170337999918047\n",
      "\u001b[2m\u001b[36m(RolloutWorker pid=15280)\u001b[0m   warnings.warn(f\"Time-step timed out. Elapsed since last time-step: {now - self.__t_end}\")\n"
     ]
    },
    {
     "name": "stdout",
     "output_type": "stream",
     "text": [
      "Loop:  838\n"
     ]
    },
    {
     "name": "stderr",
     "output_type": "stream",
     "text": [
      "\u001b[2m\u001b[36m(RolloutWorker pid=15280)\u001b[0m c:\\Users\\nadir\\anaconda3\\envs\\GTAI2\\lib\\site-packages\\rtgym\\envs\\real_time_env.py:376: UserWarning: Time-step timed out. Elapsed since last time-step: 0.10107109993441554\n",
      "\u001b[2m\u001b[36m(RolloutWorker pid=15280)\u001b[0m   warnings.warn(f\"Time-step timed out. Elapsed since last time-step: {now - self.__t_end}\")\n"
     ]
    },
    {
     "name": "stdout",
     "output_type": "stream",
     "text": [
      "\u001b[2m\u001b[36m(RolloutWorker pid=15280)\u001b[0m reset triggered\n",
      "\u001b[2m\u001b[36m(RolloutWorker pid=15280)\u001b[0m reload save for track : 4\n"
     ]
    },
    {
     "name": "stderr",
     "output_type": "stream",
     "text": [
      "\u001b[2m\u001b[36m(RolloutWorker pid=15280)\u001b[0m c:\\Users\\nadir\\anaconda3\\envs\\GTAI2\\lib\\site-packages\\rtgym\\envs\\real_time_env.py:376: UserWarning: Time-step timed out. Elapsed since last time-step: 0.14143969998440298\n",
      "\u001b[2m\u001b[36m(RolloutWorker pid=15280)\u001b[0m   warnings.warn(f\"Time-step timed out. Elapsed since last time-step: {now - self.__t_end}\")\n"
     ]
    },
    {
     "name": "stdout",
     "output_type": "stream",
     "text": [
      "Loop:  839\n",
      "Loop:  840\n",
      "Saved 840\n",
      "\u001b[2m\u001b[36m(RolloutWorker pid=15280)\u001b[0m reset triggered\n",
      "\u001b[2m\u001b[36m(RolloutWorker pid=15280)\u001b[0m reload save for track : 4\n"
     ]
    },
    {
     "name": "stderr",
     "output_type": "stream",
     "text": [
      "\u001b[2m\u001b[36m(RolloutWorker pid=15280)\u001b[0m c:\\Users\\nadir\\anaconda3\\envs\\GTAI2\\lib\\site-packages\\rtgym\\envs\\real_time_env.py:376: UserWarning: Time-step timed out. Elapsed since last time-step: 0.14085869991868094\n",
      "\u001b[2m\u001b[36m(RolloutWorker pid=15280)\u001b[0m   warnings.warn(f\"Time-step timed out. Elapsed since last time-step: {now - self.__t_end}\")\n"
     ]
    },
    {
     "name": "stdout",
     "output_type": "stream",
     "text": [
      "Loop:  841\n",
      "\u001b[2m\u001b[36m(RolloutWorker pid=15280)\u001b[0m reset triggered\n",
      "\u001b[2m\u001b[36m(RolloutWorker pid=15280)\u001b[0m reload save for track : 4\n"
     ]
    },
    {
     "name": "stderr",
     "output_type": "stream",
     "text": [
      "\u001b[2m\u001b[36m(RolloutWorker pid=15280)\u001b[0m c:\\Users\\nadir\\anaconda3\\envs\\GTAI2\\lib\\site-packages\\rtgym\\envs\\real_time_env.py:376: UserWarning: Time-step timed out. Elapsed since last time-step: 0.1295552999181382\n",
      "\u001b[2m\u001b[36m(RolloutWorker pid=15280)\u001b[0m   warnings.warn(f\"Time-step timed out. Elapsed since last time-step: {now - self.__t_end}\")\n"
     ]
    },
    {
     "name": "stdout",
     "output_type": "stream",
     "text": [
      "Loop:  842\n",
      "\u001b[2m\u001b[36m(RolloutWorker pid=15280)\u001b[0m reset triggered\n",
      "\u001b[2m\u001b[36m(RolloutWorker pid=15280)\u001b[0m reload save for track : 4\n"
     ]
    },
    {
     "name": "stderr",
     "output_type": "stream",
     "text": [
      "\u001b[2m\u001b[36m(RolloutWorker pid=15280)\u001b[0m c:\\Users\\nadir\\anaconda3\\envs\\GTAI2\\lib\\site-packages\\rtgym\\envs\\real_time_env.py:376: UserWarning: Time-step timed out. Elapsed since last time-step: 0.1405974999179307\n",
      "\u001b[2m\u001b[36m(RolloutWorker pid=15280)\u001b[0m   warnings.warn(f\"Time-step timed out. Elapsed since last time-step: {now - self.__t_end}\")\n"
     ]
    },
    {
     "name": "stdout",
     "output_type": "stream",
     "text": [
      "Loop:  843\n",
      "Loop:  844\n",
      "\u001b[2m\u001b[36m(RolloutWorker pid=15280)\u001b[0m reset triggered\n",
      "\u001b[2m\u001b[36m(RolloutWorker pid=15280)\u001b[0m reload save for track : 4\n"
     ]
    },
    {
     "name": "stderr",
     "output_type": "stream",
     "text": [
      "\u001b[2m\u001b[36m(RolloutWorker pid=15280)\u001b[0m c:\\Users\\nadir\\anaconda3\\envs\\GTAI2\\lib\\site-packages\\rtgym\\envs\\real_time_env.py:376: UserWarning: Time-step timed out. Elapsed since last time-step: 0.14693089991851593\n",
      "\u001b[2m\u001b[36m(RolloutWorker pid=15280)\u001b[0m   warnings.warn(f\"Time-step timed out. Elapsed since last time-step: {now - self.__t_end}\")\n"
     ]
    },
    {
     "name": "stdout",
     "output_type": "stream",
     "text": [
      "Loop:  845\n",
      "\u001b[2m\u001b[36m(RolloutWorker pid=15280)\u001b[0m reset triggered\n",
      "\u001b[2m\u001b[36m(RolloutWorker pid=15280)\u001b[0m reload save for track : 4\n"
     ]
    },
    {
     "name": "stderr",
     "output_type": "stream",
     "text": [
      "\u001b[2m\u001b[36m(RolloutWorker pid=15280)\u001b[0m c:\\Users\\nadir\\anaconda3\\envs\\GTAI2\\lib\\site-packages\\rtgym\\envs\\real_time_env.py:376: UserWarning: Time-step timed out. Elapsed since last time-step: 0.14208999991933524\n",
      "\u001b[2m\u001b[36m(RolloutWorker pid=15280)\u001b[0m   warnings.warn(f\"Time-step timed out. Elapsed since last time-step: {now - self.__t_end}\")\n"
     ]
    },
    {
     "name": "stdout",
     "output_type": "stream",
     "text": [
      "Loop:  846\n",
      "Loop:  847\n",
      "\u001b[2m\u001b[36m(RolloutWorker pid=15280)\u001b[0m reset triggered\n",
      "\u001b[2m\u001b[36m(RolloutWorker pid=15280)\u001b[0m reload save for track : 4\n"
     ]
    },
    {
     "name": "stderr",
     "output_type": "stream",
     "text": [
      "\u001b[2m\u001b[36m(RolloutWorker pid=15280)\u001b[0m c:\\Users\\nadir\\anaconda3\\envs\\GTAI2\\lib\\site-packages\\rtgym\\envs\\real_time_env.py:376: UserWarning: Time-step timed out. Elapsed since last time-step: 0.138570999917647\n",
      "\u001b[2m\u001b[36m(RolloutWorker pid=15280)\u001b[0m   warnings.warn(f\"Time-step timed out. Elapsed since last time-step: {now - self.__t_end}\")\n"
     ]
    },
    {
     "name": "stdout",
     "output_type": "stream",
     "text": [
      "Loop:  848\n",
      "\u001b[2m\u001b[36m(RolloutWorker pid=15280)\u001b[0m reset triggered\n",
      "\u001b[2m\u001b[36m(RolloutWorker pid=15280)\u001b[0m reload save for track : 4\n"
     ]
    },
    {
     "name": "stderr",
     "output_type": "stream",
     "text": [
      "\u001b[2m\u001b[36m(RolloutWorker pid=15280)\u001b[0m c:\\Users\\nadir\\anaconda3\\envs\\GTAI2\\lib\\site-packages\\rtgym\\envs\\real_time_env.py:376: UserWarning: Time-step timed out. Elapsed since last time-step: 0.16259699991860543\n",
      "\u001b[2m\u001b[36m(RolloutWorker pid=15280)\u001b[0m   warnings.warn(f\"Time-step timed out. Elapsed since last time-step: {now - self.__t_end}\")\n"
     ]
    },
    {
     "name": "stdout",
     "output_type": "stream",
     "text": [
      "Loop:  849\n",
      "Loop:  850\n",
      "Saved 850\n",
      "\u001b[2m\u001b[36m(RolloutWorker pid=15280)\u001b[0m reset triggered\n",
      "\u001b[2m\u001b[36m(RolloutWorker pid=15280)\u001b[0m reload save for track : 4\n"
     ]
    },
    {
     "name": "stderr",
     "output_type": "stream",
     "text": [
      "\u001b[2m\u001b[36m(RolloutWorker pid=15280)\u001b[0m c:\\Users\\nadir\\anaconda3\\envs\\GTAI2\\lib\\site-packages\\rtgym\\envs\\real_time_env.py:376: UserWarning: Time-step timed out. Elapsed since last time-step: 0.13682179991883459\n",
      "\u001b[2m\u001b[36m(RolloutWorker pid=15280)\u001b[0m   warnings.warn(f\"Time-step timed out. Elapsed since last time-step: {now - self.__t_end}\")\n"
     ]
    },
    {
     "name": "stdout",
     "output_type": "stream",
     "text": [
      "Loop:  851\n",
      "\u001b[2m\u001b[36m(RolloutWorker pid=15280)\u001b[0m reset triggered\n",
      "\u001b[2m\u001b[36m(RolloutWorker pid=15280)\u001b[0m reload save for track : 4\n"
     ]
    },
    {
     "name": "stderr",
     "output_type": "stream",
     "text": [
      "\u001b[2m\u001b[36m(RolloutWorker pid=15280)\u001b[0m c:\\Users\\nadir\\anaconda3\\envs\\GTAI2\\lib\\site-packages\\rtgym\\envs\\real_time_env.py:376: UserWarning: Time-step timed out. Elapsed since last time-step: 0.14214729991908825\n",
      "\u001b[2m\u001b[36m(RolloutWorker pid=15280)\u001b[0m   warnings.warn(f\"Time-step timed out. Elapsed since last time-step: {now - self.__t_end}\")\n"
     ]
    },
    {
     "name": "stdout",
     "output_type": "stream",
     "text": [
      "Loop:  852\n",
      "Loop:  853\n",
      "\u001b[2m\u001b[36m(RolloutWorker pid=15280)\u001b[0m reset triggered\n",
      "\u001b[2m\u001b[36m(RolloutWorker pid=15280)\u001b[0m reload save for track : 4\n"
     ]
    },
    {
     "name": "stderr",
     "output_type": "stream",
     "text": [
      "\u001b[2m\u001b[36m(RolloutWorker pid=15280)\u001b[0m c:\\Users\\nadir\\anaconda3\\envs\\GTAI2\\lib\\site-packages\\rtgym\\envs\\real_time_env.py:376: UserWarning: Time-step timed out. Elapsed since last time-step: 0.1399579999178968\n",
      "\u001b[2m\u001b[36m(RolloutWorker pid=15280)\u001b[0m   warnings.warn(f\"Time-step timed out. Elapsed since last time-step: {now - self.__t_end}\")\n"
     ]
    },
    {
     "name": "stdout",
     "output_type": "stream",
     "text": [
      "Loop:  854\n",
      "\u001b[2m\u001b[36m(RolloutWorker pid=15280)\u001b[0m reset triggered\n",
      "\u001b[2m\u001b[36m(RolloutWorker pid=15280)\u001b[0m reload save for track : 4\n"
     ]
    },
    {
     "name": "stderr",
     "output_type": "stream",
     "text": [
      "\u001b[2m\u001b[36m(RolloutWorker pid=15280)\u001b[0m c:\\Users\\nadir\\anaconda3\\envs\\GTAI2\\lib\\site-packages\\rtgym\\envs\\real_time_env.py:376: UserWarning: Time-step timed out. Elapsed since last time-step: 0.1486080999184196\n",
      "\u001b[2m\u001b[36m(RolloutWorker pid=15280)\u001b[0m   warnings.warn(f\"Time-step timed out. Elapsed since last time-step: {now - self.__t_end}\")\n"
     ]
    },
    {
     "name": "stdout",
     "output_type": "stream",
     "text": [
      "Loop:  855\n",
      "\u001b[2m\u001b[36m(RolloutWorker pid=15280)\u001b[0m reset triggered\n",
      "\u001b[2m\u001b[36m(RolloutWorker pid=15280)\u001b[0m reload save for track : 4\n"
     ]
    },
    {
     "name": "stderr",
     "output_type": "stream",
     "text": [
      "\u001b[2m\u001b[36m(RolloutWorker pid=15280)\u001b[0m c:\\Users\\nadir\\anaconda3\\envs\\GTAI2\\lib\\site-packages\\rtgym\\envs\\real_time_env.py:376: UserWarning: Time-step timed out. Elapsed since last time-step: 0.16255389991783886\n",
      "\u001b[2m\u001b[36m(RolloutWorker pid=15280)\u001b[0m   warnings.warn(f\"Time-step timed out. Elapsed since last time-step: {now - self.__t_end}\")\n"
     ]
    },
    {
     "name": "stdout",
     "output_type": "stream",
     "text": [
      "Loop:  856\n",
      "Loop:  857\n",
      "\u001b[2m\u001b[36m(RolloutWorker pid=15280)\u001b[0m reset triggered\n",
      "\u001b[2m\u001b[36m(RolloutWorker pid=15280)\u001b[0m reload save for track : 4\n"
     ]
    },
    {
     "name": "stderr",
     "output_type": "stream",
     "text": [
      "\u001b[2m\u001b[36m(RolloutWorker pid=15280)\u001b[0m c:\\Users\\nadir\\anaconda3\\envs\\GTAI2\\lib\\site-packages\\rtgym\\envs\\real_time_env.py:376: UserWarning: Time-step timed out. Elapsed since last time-step: 0.13962609991904174\n",
      "\u001b[2m\u001b[36m(RolloutWorker pid=15280)\u001b[0m   warnings.warn(f\"Time-step timed out. Elapsed since last time-step: {now - self.__t_end}\")\n"
     ]
    },
    {
     "name": "stdout",
     "output_type": "stream",
     "text": [
      "Loop:  858\n",
      "\u001b[2m\u001b[36m(RolloutWorker pid=15280)\u001b[0m reset triggered\n",
      "\u001b[2m\u001b[36m(RolloutWorker pid=15280)\u001b[0m reload save for track : 4\n"
     ]
    },
    {
     "name": "stderr",
     "output_type": "stream",
     "text": [
      "\u001b[2m\u001b[36m(RolloutWorker pid=15280)\u001b[0m c:\\Users\\nadir\\anaconda3\\envs\\GTAI2\\lib\\site-packages\\rtgym\\envs\\real_time_env.py:376: UserWarning: Time-step timed out. Elapsed since last time-step: 0.1575078999176185\n",
      "\u001b[2m\u001b[36m(RolloutWorker pid=15280)\u001b[0m   warnings.warn(f\"Time-step timed out. Elapsed since last time-step: {now - self.__t_end}\")\n"
     ]
    },
    {
     "name": "stdout",
     "output_type": "stream",
     "text": [
      "Loop:  859\n",
      "Loop:  860\n",
      "Saved 860\n",
      "\u001b[2m\u001b[36m(RolloutWorker pid=15280)\u001b[0m reset triggered\n",
      "\u001b[2m\u001b[36m(RolloutWorker pid=15280)\u001b[0m reload save for track : 4\n"
     ]
    },
    {
     "name": "stderr",
     "output_type": "stream",
     "text": [
      "\u001b[2m\u001b[36m(RolloutWorker pid=15280)\u001b[0m c:\\Users\\nadir\\anaconda3\\envs\\GTAI2\\lib\\site-packages\\rtgym\\envs\\real_time_env.py:376: UserWarning: Time-step timed out. Elapsed since last time-step: 0.1431398999193334\n",
      "\u001b[2m\u001b[36m(RolloutWorker pid=15280)\u001b[0m   warnings.warn(f\"Time-step timed out. Elapsed since last time-step: {now - self.__t_end}\")\n"
     ]
    },
    {
     "name": "stdout",
     "output_type": "stream",
     "text": [
      "Loop:  861\n",
      "\u001b[2m\u001b[36m(RolloutWorker pid=15280)\u001b[0m reset triggered\n",
      "\u001b[2m\u001b[36m(RolloutWorker pid=15280)\u001b[0m reload save for track : 4\n"
     ]
    },
    {
     "name": "stderr",
     "output_type": "stream",
     "text": [
      "\u001b[2m\u001b[36m(RolloutWorker pid=15280)\u001b[0m c:\\Users\\nadir\\anaconda3\\envs\\GTAI2\\lib\\site-packages\\rtgym\\envs\\real_time_env.py:376: UserWarning: Time-step timed out. Elapsed since last time-step: 0.1563260999191698\n",
      "\u001b[2m\u001b[36m(RolloutWorker pid=15280)\u001b[0m   warnings.warn(f\"Time-step timed out. Elapsed since last time-step: {now - self.__t_end}\")\n"
     ]
    },
    {
     "name": "stdout",
     "output_type": "stream",
     "text": [
      "Loop:  862\n",
      "Loop:  863\n",
      "\u001b[2m\u001b[36m(RolloutWorker pid=15280)\u001b[0m reset triggered\n",
      "\u001b[2m\u001b[36m(RolloutWorker pid=15280)\u001b[0m reload save for track : 4\n"
     ]
    },
    {
     "name": "stderr",
     "output_type": "stream",
     "text": [
      "\u001b[2m\u001b[36m(RolloutWorker pid=15280)\u001b[0m c:\\Users\\nadir\\anaconda3\\envs\\GTAI2\\lib\\site-packages\\rtgym\\envs\\real_time_env.py:376: UserWarning: Time-step timed out. Elapsed since last time-step: 0.17060249991845922\n",
      "\u001b[2m\u001b[36m(RolloutWorker pid=15280)\u001b[0m   warnings.warn(f\"Time-step timed out. Elapsed since last time-step: {now - self.__t_end}\")\n"
     ]
    },
    {
     "name": "stdout",
     "output_type": "stream",
     "text": [
      "Loop:  864\n",
      "\u001b[2m\u001b[36m(RolloutWorker pid=15280)\u001b[0m reset triggered\n",
      "\u001b[2m\u001b[36m(RolloutWorker pid=15280)\u001b[0m reload save for track : 4\n"
     ]
    },
    {
     "name": "stderr",
     "output_type": "stream",
     "text": [
      "\u001b[2m\u001b[36m(RolloutWorker pid=15280)\u001b[0m c:\\Users\\nadir\\anaconda3\\envs\\GTAI2\\lib\\site-packages\\rtgym\\envs\\real_time_env.py:376: UserWarning: Time-step timed out. Elapsed since last time-step: 0.12222449991713802\n",
      "\u001b[2m\u001b[36m(RolloutWorker pid=15280)\u001b[0m   warnings.warn(f\"Time-step timed out. Elapsed since last time-step: {now - self.__t_end}\")\n"
     ]
    },
    {
     "name": "stdout",
     "output_type": "stream",
     "text": [
      "Loop:  865\n",
      "Loop:  866\n",
      "\u001b[2m\u001b[36m(RolloutWorker pid=15280)\u001b[0m reset triggered\n",
      "\u001b[2m\u001b[36m(RolloutWorker pid=15280)\u001b[0m reload save for track : 4\n"
     ]
    },
    {
     "name": "stderr",
     "output_type": "stream",
     "text": [
      "\u001b[2m\u001b[36m(RolloutWorker pid=15280)\u001b[0m c:\\Users\\nadir\\anaconda3\\envs\\GTAI2\\lib\\site-packages\\rtgym\\envs\\real_time_env.py:376: UserWarning: Time-step timed out. Elapsed since last time-step: 0.15829859991936246\n",
      "\u001b[2m\u001b[36m(RolloutWorker pid=15280)\u001b[0m   warnings.warn(f\"Time-step timed out. Elapsed since last time-step: {now - self.__t_end}\")\n"
     ]
    },
    {
     "name": "stdout",
     "output_type": "stream",
     "text": [
      "Loop:  867\n",
      "\u001b[2m\u001b[36m(RolloutWorker pid=15280)\u001b[0m reset triggered\n",
      "\u001b[2m\u001b[36m(RolloutWorker pid=15280)\u001b[0m reload save for track : 4\n"
     ]
    },
    {
     "name": "stderr",
     "output_type": "stream",
     "text": [
      "\u001b[2m\u001b[36m(RolloutWorker pid=15280)\u001b[0m c:\\Users\\nadir\\anaconda3\\envs\\GTAI2\\lib\\site-packages\\rtgym\\envs\\real_time_env.py:376: UserWarning: Time-step timed out. Elapsed since last time-step: 0.12173179991805227\n",
      "\u001b[2m\u001b[36m(RolloutWorker pid=15280)\u001b[0m   warnings.warn(f\"Time-step timed out. Elapsed since last time-step: {now - self.__t_end}\")\n"
     ]
    },
    {
     "name": "stdout",
     "output_type": "stream",
     "text": [
      "Loop:  868\n",
      "\u001b[2m\u001b[36m(RolloutWorker pid=15280)\u001b[0m reset triggered\n",
      "\u001b[2m\u001b[36m(RolloutWorker pid=15280)\u001b[0m reload save for track : 4\n"
     ]
    },
    {
     "name": "stderr",
     "output_type": "stream",
     "text": [
      "\u001b[2m\u001b[36m(RolloutWorker pid=15280)\u001b[0m c:\\Users\\nadir\\anaconda3\\envs\\GTAI2\\lib\\site-packages\\rtgym\\envs\\real_time_env.py:376: UserWarning: Time-step timed out. Elapsed since last time-step: 0.1477332999184\n",
      "\u001b[2m\u001b[36m(RolloutWorker pid=15280)\u001b[0m   warnings.warn(f\"Time-step timed out. Elapsed since last time-step: {now - self.__t_end}\")\n"
     ]
    },
    {
     "name": "stdout",
     "output_type": "stream",
     "text": [
      "Loop:  869\n",
      "Loop:  870\n",
      "Saved 870\n",
      "\u001b[2m\u001b[36m(RolloutWorker pid=15280)\u001b[0m reset triggered\n",
      "\u001b[2m\u001b[36m(RolloutWorker pid=15280)\u001b[0m reload save for track : 4\n"
     ]
    },
    {
     "name": "stderr",
     "output_type": "stream",
     "text": [
      "\u001b[2m\u001b[36m(RolloutWorker pid=15280)\u001b[0m c:\\Users\\nadir\\anaconda3\\envs\\GTAI2\\lib\\site-packages\\rtgym\\envs\\real_time_env.py:376: UserWarning: Time-step timed out. Elapsed since last time-step: 0.1331472999190737\n",
      "\u001b[2m\u001b[36m(RolloutWorker pid=15280)\u001b[0m   warnings.warn(f\"Time-step timed out. Elapsed since last time-step: {now - self.__t_end}\")\n"
     ]
    },
    {
     "name": "stdout",
     "output_type": "stream",
     "text": [
      "Loop:  871\n",
      "\u001b[2m\u001b[36m(RolloutWorker pid=15280)\u001b[0m reset triggered\n",
      "\u001b[2m\u001b[36m(RolloutWorker pid=15280)\u001b[0m reload save for track : 4\n"
     ]
    },
    {
     "name": "stderr",
     "output_type": "stream",
     "text": [
      "\u001b[2m\u001b[36m(RolloutWorker pid=15280)\u001b[0m c:\\Users\\nadir\\anaconda3\\envs\\GTAI2\\lib\\site-packages\\rtgym\\envs\\real_time_env.py:376: UserWarning: Time-step timed out. Elapsed since last time-step: 0.15706879991921596\n",
      "\u001b[2m\u001b[36m(RolloutWorker pid=15280)\u001b[0m   warnings.warn(f\"Time-step timed out. Elapsed since last time-step: {now - self.__t_end}\")\n"
     ]
    },
    {
     "name": "stdout",
     "output_type": "stream",
     "text": [
      "Loop:  872\n",
      "Loop:  873\n",
      "\u001b[2m\u001b[36m(RolloutWorker pid=15280)\u001b[0m reset triggered\n",
      "\u001b[2m\u001b[36m(RolloutWorker pid=15280)\u001b[0m reload save for track : 4\n"
     ]
    },
    {
     "name": "stderr",
     "output_type": "stream",
     "text": [
      "\u001b[2m\u001b[36m(RolloutWorker pid=15280)\u001b[0m c:\\Users\\nadir\\anaconda3\\envs\\GTAI2\\lib\\site-packages\\rtgym\\envs\\real_time_env.py:376: UserWarning: Time-step timed out. Elapsed since last time-step: 0.15012099991690775\n",
      "\u001b[2m\u001b[36m(RolloutWorker pid=15280)\u001b[0m   warnings.warn(f\"Time-step timed out. Elapsed since last time-step: {now - self.__t_end}\")\n"
     ]
    },
    {
     "name": "stdout",
     "output_type": "stream",
     "text": [
      "Loop:  874\n",
      "\u001b[2m\u001b[36m(RolloutWorker pid=15280)\u001b[0m reset triggered\n",
      "\u001b[2m\u001b[36m(RolloutWorker pid=15280)\u001b[0m reload save for track : 4\n"
     ]
    },
    {
     "name": "stderr",
     "output_type": "stream",
     "text": [
      "\u001b[2m\u001b[36m(RolloutWorker pid=15280)\u001b[0m c:\\Users\\nadir\\anaconda3\\envs\\GTAI2\\lib\\site-packages\\rtgym\\envs\\real_time_env.py:376: UserWarning: Time-step timed out. Elapsed since last time-step: 0.16268669991950446\n",
      "\u001b[2m\u001b[36m(RolloutWorker pid=15280)\u001b[0m   warnings.warn(f\"Time-step timed out. Elapsed since last time-step: {now - self.__t_end}\")\n"
     ]
    },
    {
     "name": "stdout",
     "output_type": "stream",
     "text": [
      "Loop:  875\n",
      "Loop:  876\n",
      "\u001b[2m\u001b[36m(RolloutWorker pid=15280)\u001b[0m reset triggered\n",
      "\u001b[2m\u001b[36m(RolloutWorker pid=15280)\u001b[0m reload save for track : 4\n"
     ]
    },
    {
     "name": "stderr",
     "output_type": "stream",
     "text": [
      "\u001b[2m\u001b[36m(RolloutWorker pid=15280)\u001b[0m c:\\Users\\nadir\\anaconda3\\envs\\GTAI2\\lib\\site-packages\\rtgym\\envs\\real_time_env.py:376: UserWarning: Time-step timed out. Elapsed since last time-step: 0.15028109991908423\n",
      "\u001b[2m\u001b[36m(RolloutWorker pid=15280)\u001b[0m   warnings.warn(f\"Time-step timed out. Elapsed since last time-step: {now - self.__t_end}\")\n",
      "\u001b[2m\u001b[36m(RolloutWorker pid=15280)\u001b[0m c:\\Users\\nadir\\anaconda3\\envs\\GTAI2\\lib\\site-packages\\rtgym\\envs\\real_time_env.py:376: UserWarning: Time-step timed out. Elapsed since last time-step: 0.1589680999659322\n",
      "\u001b[2m\u001b[36m(RolloutWorker pid=15280)\u001b[0m   warnings.warn(f\"Time-step timed out. Elapsed since last time-step: {now - self.__t_end}\")\n"
     ]
    },
    {
     "name": "stdout",
     "output_type": "stream",
     "text": [
      "Loop:  877\n",
      "\u001b[2m\u001b[36m(RolloutWorker pid=15280)\u001b[0m reset triggered\n",
      "\u001b[2m\u001b[36m(RolloutWorker pid=15280)\u001b[0m reload save for track : 4\n"
     ]
    },
    {
     "name": "stderr",
     "output_type": "stream",
     "text": [
      "\u001b[2m\u001b[36m(RolloutWorker pid=15280)\u001b[0m c:\\Users\\nadir\\anaconda3\\envs\\GTAI2\\lib\\site-packages\\rtgym\\envs\\real_time_env.py:376: UserWarning: Time-step timed out. Elapsed since last time-step: 0.1314331999510614\n",
      "\u001b[2m\u001b[36m(RolloutWorker pid=15280)\u001b[0m   warnings.warn(f\"Time-step timed out. Elapsed since last time-step: {now - self.__t_end}\")\n"
     ]
    },
    {
     "name": "stdout",
     "output_type": "stream",
     "text": [
      "Loop:  878\n",
      "Loop:  879\n",
      "\u001b[2m\u001b[36m(RolloutWorker pid=15280)\u001b[0m reset triggered\n",
      "\u001b[2m\u001b[36m(RolloutWorker pid=15280)\u001b[0m reload save for track : 4\n"
     ]
    },
    {
     "name": "stderr",
     "output_type": "stream",
     "text": [
      "\u001b[2m\u001b[36m(RolloutWorker pid=15280)\u001b[0m c:\\Users\\nadir\\anaconda3\\envs\\GTAI2\\lib\\site-packages\\rtgym\\envs\\real_time_env.py:376: UserWarning: Time-step timed out. Elapsed since last time-step: 0.15624499992009078\n",
      "\u001b[2m\u001b[36m(RolloutWorker pid=15280)\u001b[0m   warnings.warn(f\"Time-step timed out. Elapsed since last time-step: {now - self.__t_end}\")\n"
     ]
    },
    {
     "name": "stdout",
     "output_type": "stream",
     "text": [
      "Loop:  880\n",
      "Saved 880\n",
      "\u001b[2m\u001b[36m(RolloutWorker pid=15280)\u001b[0m reset triggered\n",
      "\u001b[2m\u001b[36m(RolloutWorker pid=15280)\u001b[0m reload save for track : 4\n"
     ]
    },
    {
     "name": "stderr",
     "output_type": "stream",
     "text": [
      "\u001b[2m\u001b[36m(RolloutWorker pid=15280)\u001b[0m c:\\Users\\nadir\\anaconda3\\envs\\GTAI2\\lib\\site-packages\\rtgym\\envs\\real_time_env.py:376: UserWarning: Time-step timed out. Elapsed since last time-step: 0.13258109991693345\n",
      "\u001b[2m\u001b[36m(RolloutWorker pid=15280)\u001b[0m   warnings.warn(f\"Time-step timed out. Elapsed since last time-step: {now - self.__t_end}\")\n"
     ]
    },
    {
     "name": "stdout",
     "output_type": "stream",
     "text": [
      "Loop:  881\n",
      "\u001b[2m\u001b[36m(RolloutWorker pid=15280)\u001b[0m reset triggered\n",
      "\u001b[2m\u001b[36m(RolloutWorker pid=15280)\u001b[0m reload save for track : 4\n"
     ]
    },
    {
     "name": "stderr",
     "output_type": "stream",
     "text": [
      "\u001b[2m\u001b[36m(RolloutWorker pid=15280)\u001b[0m c:\\Users\\nadir\\anaconda3\\envs\\GTAI2\\lib\\site-packages\\rtgym\\envs\\real_time_env.py:376: UserWarning: Time-step timed out. Elapsed since last time-step: 0.13813949991890695\n",
      "\u001b[2m\u001b[36m(RolloutWorker pid=15280)\u001b[0m   warnings.warn(f\"Time-step timed out. Elapsed since last time-step: {now - self.__t_end}\")\n"
     ]
    },
    {
     "name": "stdout",
     "output_type": "stream",
     "text": [
      "Loop:  882\n",
      "Loop:  883\n",
      "\u001b[2m\u001b[36m(RolloutWorker pid=15280)\u001b[0m reset triggered\n",
      "\u001b[2m\u001b[36m(RolloutWorker pid=15280)\u001b[0m reload save for track : 4\n"
     ]
    },
    {
     "name": "stderr",
     "output_type": "stream",
     "text": [
      "\u001b[2m\u001b[36m(RolloutWorker pid=15280)\u001b[0m c:\\Users\\nadir\\anaconda3\\envs\\GTAI2\\lib\\site-packages\\rtgym\\envs\\real_time_env.py:376: UserWarning: Time-step timed out. Elapsed since last time-step: 0.16972919991894742\n",
      "\u001b[2m\u001b[36m(RolloutWorker pid=15280)\u001b[0m   warnings.warn(f\"Time-step timed out. Elapsed since last time-step: {now - self.__t_end}\")\n"
     ]
    },
    {
     "name": "stdout",
     "output_type": "stream",
     "text": [
      "Loop:  884\n",
      "\u001b[2m\u001b[36m(RolloutWorker pid=15280)\u001b[0m reset triggered\n",
      "\u001b[2m\u001b[36m(RolloutWorker pid=15280)\u001b[0m reload save for track : 4\n"
     ]
    },
    {
     "name": "stderr",
     "output_type": "stream",
     "text": [
      "\u001b[2m\u001b[36m(RolloutWorker pid=15280)\u001b[0m c:\\Users\\nadir\\anaconda3\\envs\\GTAI2\\lib\\site-packages\\rtgym\\envs\\real_time_env.py:376: UserWarning: Time-step timed out. Elapsed since last time-step: 0.1221645999175962\n",
      "\u001b[2m\u001b[36m(RolloutWorker pid=15280)\u001b[0m   warnings.warn(f\"Time-step timed out. Elapsed since last time-step: {now - self.__t_end}\")\n"
     ]
    },
    {
     "name": "stdout",
     "output_type": "stream",
     "text": [
      "Loop:  885\n",
      "Loop:  886\n",
      "\u001b[2m\u001b[36m(RolloutWorker pid=15280)\u001b[0m reset triggered\n",
      "\u001b[2m\u001b[36m(RolloutWorker pid=15280)\u001b[0m reload save for track : 4\n"
     ]
    },
    {
     "name": "stderr",
     "output_type": "stream",
     "text": [
      "\u001b[2m\u001b[36m(RolloutWorker pid=15280)\u001b[0m c:\\Users\\nadir\\anaconda3\\envs\\GTAI2\\lib\\site-packages\\rtgym\\envs\\real_time_env.py:376: UserWarning: Time-step timed out. Elapsed since last time-step: 0.14774729991950153\n",
      "\u001b[2m\u001b[36m(RolloutWorker pid=15280)\u001b[0m   warnings.warn(f\"Time-step timed out. Elapsed since last time-step: {now - self.__t_end}\")\n"
     ]
    },
    {
     "name": "stdout",
     "output_type": "stream",
     "text": [
      "Loop:  887\n",
      "\u001b[2m\u001b[36m(RolloutWorker pid=15280)\u001b[0m reset triggered\n",
      "\u001b[2m\u001b[36m(RolloutWorker pid=15280)\u001b[0m reload save for track : 4\n"
     ]
    },
    {
     "name": "stderr",
     "output_type": "stream",
     "text": [
      "\u001b[2m\u001b[36m(RolloutWorker pid=15280)\u001b[0m c:\\Users\\nadir\\anaconda3\\envs\\GTAI2\\lib\\site-packages\\rtgym\\envs\\real_time_env.py:376: UserWarning: Time-step timed out. Elapsed since last time-step: 0.15278029991895892\n",
      "\u001b[2m\u001b[36m(RolloutWorker pid=15280)\u001b[0m   warnings.warn(f\"Time-step timed out. Elapsed since last time-step: {now - self.__t_end}\")\n"
     ]
    },
    {
     "name": "stdout",
     "output_type": "stream",
     "text": [
      "Loop:  888\n",
      "Loop:  889\n",
      "\u001b[2m\u001b[36m(RolloutWorker pid=15280)\u001b[0m reset triggered\n",
      "\u001b[2m\u001b[36m(RolloutWorker pid=15280)\u001b[0m reload save for track : 4\n"
     ]
    },
    {
     "name": "stderr",
     "output_type": "stream",
     "text": [
      "\u001b[2m\u001b[36m(RolloutWorker pid=15280)\u001b[0m c:\\Users\\nadir\\anaconda3\\envs\\GTAI2\\lib\\site-packages\\rtgym\\envs\\real_time_env.py:376: UserWarning: Time-step timed out. Elapsed since last time-step: 0.14826399991761718\n",
      "\u001b[2m\u001b[36m(RolloutWorker pid=15280)\u001b[0m   warnings.warn(f\"Time-step timed out. Elapsed since last time-step: {now - self.__t_end}\")\n"
     ]
    },
    {
     "name": "stdout",
     "output_type": "stream",
     "text": [
      "Loop:  890\n",
      "Saved 890\n",
      "\u001b[2m\u001b[36m(RolloutWorker pid=15280)\u001b[0m reset triggered\n",
      "\u001b[2m\u001b[36m(RolloutWorker pid=15280)\u001b[0m reload save for track : 4\n"
     ]
    },
    {
     "name": "stderr",
     "output_type": "stream",
     "text": [
      "\u001b[2m\u001b[36m(RolloutWorker pid=15280)\u001b[0m c:\\Users\\nadir\\anaconda3\\envs\\GTAI2\\lib\\site-packages\\rtgym\\envs\\real_time_env.py:376: UserWarning: Time-step timed out. Elapsed since last time-step: 0.1214411999189906\n",
      "\u001b[2m\u001b[36m(RolloutWorker pid=15280)\u001b[0m   warnings.warn(f\"Time-step timed out. Elapsed since last time-step: {now - self.__t_end}\")\n"
     ]
    },
    {
     "name": "stdout",
     "output_type": "stream",
     "text": [
      "Loop:  891\n",
      "Loop:  892\n",
      "\u001b[2m\u001b[36m(RolloutWorker pid=15280)\u001b[0m reset triggered\n",
      "\u001b[2m\u001b[36m(RolloutWorker pid=15280)\u001b[0m reload save for track : 4\n"
     ]
    },
    {
     "name": "stderr",
     "output_type": "stream",
     "text": [
      "\u001b[2m\u001b[36m(RolloutWorker pid=15280)\u001b[0m c:\\Users\\nadir\\anaconda3\\envs\\GTAI2\\lib\\site-packages\\rtgym\\envs\\real_time_env.py:376: UserWarning: Time-step timed out. Elapsed since last time-step: 0.13817429991831887\n",
      "\u001b[2m\u001b[36m(RolloutWorker pid=15280)\u001b[0m   warnings.warn(f\"Time-step timed out. Elapsed since last time-step: {now - self.__t_end}\")\n"
     ]
    },
    {
     "name": "stdout",
     "output_type": "stream",
     "text": [
      "Loop:  893\n",
      "\u001b[2m\u001b[36m(RolloutWorker pid=15280)\u001b[0m reset triggered\n",
      "\u001b[2m\u001b[36m(RolloutWorker pid=15280)\u001b[0m reload save for track : 4\n"
     ]
    },
    {
     "name": "stderr",
     "output_type": "stream",
     "text": [
      "\u001b[2m\u001b[36m(RolloutWorker pid=15280)\u001b[0m c:\\Users\\nadir\\anaconda3\\envs\\GTAI2\\lib\\site-packages\\rtgym\\envs\\real_time_env.py:376: UserWarning: Time-step timed out. Elapsed since last time-step: 0.12258219991781516\n",
      "\u001b[2m\u001b[36m(RolloutWorker pid=15280)\u001b[0m   warnings.warn(f\"Time-step timed out. Elapsed since last time-step: {now - self.__t_end}\")\n"
     ]
    },
    {
     "name": "stdout",
     "output_type": "stream",
     "text": [
      "Loop:  894\n",
      "\u001b[2m\u001b[36m(RolloutWorker pid=15280)\u001b[0m reset triggered\n",
      "\u001b[2m\u001b[36m(RolloutWorker pid=15280)\u001b[0m reload save for track : 4\n"
     ]
    },
    {
     "name": "stderr",
     "output_type": "stream",
     "text": [
      "\u001b[2m\u001b[36m(RolloutWorker pid=15280)\u001b[0m c:\\Users\\nadir\\anaconda3\\envs\\GTAI2\\lib\\site-packages\\rtgym\\envs\\real_time_env.py:376: UserWarning: Time-step timed out. Elapsed since last time-step: 0.13801139991846867\n",
      "\u001b[2m\u001b[36m(RolloutWorker pid=15280)\u001b[0m   warnings.warn(f\"Time-step timed out. Elapsed since last time-step: {now - self.__t_end}\")\n"
     ]
    },
    {
     "name": "stdout",
     "output_type": "stream",
     "text": [
      "Loop:  895\n",
      "Loop:  896\n",
      "\u001b[2m\u001b[36m(RolloutWorker pid=15280)\u001b[0m reset triggered\n",
      "\u001b[2m\u001b[36m(RolloutWorker pid=15280)\u001b[0m reload save for track : 4\n"
     ]
    },
    {
     "name": "stderr",
     "output_type": "stream",
     "text": [
      "\u001b[2m\u001b[36m(RolloutWorker pid=15280)\u001b[0m c:\\Users\\nadir\\anaconda3\\envs\\GTAI2\\lib\\site-packages\\rtgym\\envs\\real_time_env.py:376: UserWarning: Time-step timed out. Elapsed since last time-step: 0.13194689991905761\n",
      "\u001b[2m\u001b[36m(RolloutWorker pid=15280)\u001b[0m   warnings.warn(f\"Time-step timed out. Elapsed since last time-step: {now - self.__t_end}\")\n"
     ]
    },
    {
     "name": "stdout",
     "output_type": "stream",
     "text": [
      "Loop:  897\n",
      "\u001b[2m\u001b[36m(RolloutWorker pid=15280)\u001b[0m reset triggered\n",
      "\u001b[2m\u001b[36m(RolloutWorker pid=15280)\u001b[0m reload save for track : 4\n"
     ]
    },
    {
     "name": "stderr",
     "output_type": "stream",
     "text": [
      "\u001b[2m\u001b[36m(RolloutWorker pid=15280)\u001b[0m c:\\Users\\nadir\\anaconda3\\envs\\GTAI2\\lib\\site-packages\\rtgym\\envs\\real_time_env.py:376: UserWarning: Time-step timed out. Elapsed since last time-step: 0.1476287999194028\n",
      "\u001b[2m\u001b[36m(RolloutWorker pid=15280)\u001b[0m   warnings.warn(f\"Time-step timed out. Elapsed since last time-step: {now - self.__t_end}\")\n"
     ]
    },
    {
     "name": "stdout",
     "output_type": "stream",
     "text": [
      "Loop:  898\n",
      "Loop:  899\n",
      "\u001b[2m\u001b[36m(RolloutWorker pid=15280)\u001b[0m reset triggered\n",
      "\u001b[2m\u001b[36m(RolloutWorker pid=15280)\u001b[0m reload save for track : 4\n"
     ]
    },
    {
     "name": "stderr",
     "output_type": "stream",
     "text": [
      "\u001b[2m\u001b[36m(RolloutWorker pid=15280)\u001b[0m c:\\Users\\nadir\\anaconda3\\envs\\GTAI2\\lib\\site-packages\\rtgym\\envs\\real_time_env.py:376: UserWarning: Time-step timed out. Elapsed since last time-step: 0.12273679991812969\n",
      "\u001b[2m\u001b[36m(RolloutWorker pid=15280)\u001b[0m   warnings.warn(f\"Time-step timed out. Elapsed since last time-step: {now - self.__t_end}\")\n"
     ]
    },
    {
     "name": "stdout",
     "output_type": "stream",
     "text": [
      "Loop:  900\n",
      "Saved 900\n",
      "\u001b[2m\u001b[36m(RolloutWorker pid=15280)\u001b[0m reset triggered\n",
      "\u001b[2m\u001b[36m(RolloutWorker pid=15280)\u001b[0m reload save for track : 4\n"
     ]
    },
    {
     "name": "stderr",
     "output_type": "stream",
     "text": [
      "\u001b[2m\u001b[36m(RolloutWorker pid=15280)\u001b[0m c:\\Users\\nadir\\anaconda3\\envs\\GTAI2\\lib\\site-packages\\rtgym\\envs\\real_time_env.py:376: UserWarning: Time-step timed out. Elapsed since last time-step: 0.1474786999187927\n",
      "\u001b[2m\u001b[36m(RolloutWorker pid=15280)\u001b[0m   warnings.warn(f\"Time-step timed out. Elapsed since last time-step: {now - self.__t_end}\")\n"
     ]
    },
    {
     "name": "stdout",
     "output_type": "stream",
     "text": [
      "Loop:  901\n",
      "Loop:  902\n",
      "\u001b[2m\u001b[36m(RolloutWorker pid=15280)\u001b[0m reset triggered\n",
      "\u001b[2m\u001b[36m(RolloutWorker pid=15280)\u001b[0m reload save for track : 4\n"
     ]
    },
    {
     "name": "stderr",
     "output_type": "stream",
     "text": [
      "\u001b[2m\u001b[36m(RolloutWorker pid=15280)\u001b[0m c:\\Users\\nadir\\anaconda3\\envs\\GTAI2\\lib\\site-packages\\rtgym\\envs\\real_time_env.py:376: UserWarning: Time-step timed out. Elapsed since last time-step: 0.16232789991772734\n",
      "\u001b[2m\u001b[36m(RolloutWorker pid=15280)\u001b[0m   warnings.warn(f\"Time-step timed out. Elapsed since last time-step: {now - self.__t_end}\")\n"
     ]
    },
    {
     "name": "stdout",
     "output_type": "stream",
     "text": [
      "Loop:  903\n",
      "\u001b[2m\u001b[36m(RolloutWorker pid=15280)\u001b[0m reset triggered\n",
      "\u001b[2m\u001b[36m(RolloutWorker pid=15280)\u001b[0m reload save for track : 4\n"
     ]
    },
    {
     "name": "stderr",
     "output_type": "stream",
     "text": [
      "\u001b[2m\u001b[36m(RolloutWorker pid=15280)\u001b[0m c:\\Users\\nadir\\anaconda3\\envs\\GTAI2\\lib\\site-packages\\rtgym\\envs\\real_time_env.py:376: UserWarning: Time-step timed out. Elapsed since last time-step: 0.14065799991840322\n",
      "\u001b[2m\u001b[36m(RolloutWorker pid=15280)\u001b[0m   warnings.warn(f\"Time-step timed out. Elapsed since last time-step: {now - self.__t_end}\")\n"
     ]
    },
    {
     "name": "stdout",
     "output_type": "stream",
     "text": [
      "Loop:  904\n",
      "Loop:  905\n",
      "\u001b[2m\u001b[36m(RolloutWorker pid=15280)\u001b[0m reset triggered\n",
      "\u001b[2m\u001b[36m(RolloutWorker pid=15280)\u001b[0m reload save for track : 4\n"
     ]
    },
    {
     "name": "stderr",
     "output_type": "stream",
     "text": [
      "\u001b[2m\u001b[36m(RolloutWorker pid=15280)\u001b[0m c:\\Users\\nadir\\anaconda3\\envs\\GTAI2\\lib\\site-packages\\rtgym\\envs\\real_time_env.py:376: UserWarning: Time-step timed out. Elapsed since last time-step: 0.1297414999189641\n",
      "\u001b[2m\u001b[36m(RolloutWorker pid=15280)\u001b[0m   warnings.warn(f\"Time-step timed out. Elapsed since last time-step: {now - self.__t_end}\")\n"
     ]
    },
    {
     "name": "stdout",
     "output_type": "stream",
     "text": [
      "Loop:  906\n",
      "\u001b[2m\u001b[36m(RolloutWorker pid=15280)\u001b[0m reset triggered\n",
      "\u001b[2m\u001b[36m(RolloutWorker pid=15280)\u001b[0m reload save for track : 4\n"
     ]
    },
    {
     "name": "stderr",
     "output_type": "stream",
     "text": [
      "\u001b[2m\u001b[36m(RolloutWorker pid=15280)\u001b[0m c:\\Users\\nadir\\anaconda3\\envs\\GTAI2\\lib\\site-packages\\rtgym\\envs\\real_time_env.py:376: UserWarning: Time-step timed out. Elapsed since last time-step: 0.13806089991885528\n",
      "\u001b[2m\u001b[36m(RolloutWorker pid=15280)\u001b[0m   warnings.warn(f\"Time-step timed out. Elapsed since last time-step: {now - self.__t_end}\")\n"
     ]
    },
    {
     "name": "stdout",
     "output_type": "stream",
     "text": [
      "Loop:  907\n",
      "Loop:  908\n",
      "\u001b[2m\u001b[36m(RolloutWorker pid=15280)\u001b[0m reset triggered\n",
      "\u001b[2m\u001b[36m(RolloutWorker pid=15280)\u001b[0m reload save for track : 4\n"
     ]
    },
    {
     "name": "stderr",
     "output_type": "stream",
     "text": [
      "\u001b[2m\u001b[36m(RolloutWorker pid=15280)\u001b[0m c:\\Users\\nadir\\anaconda3\\envs\\GTAI2\\lib\\site-packages\\rtgym\\envs\\real_time_env.py:376: UserWarning: Time-step timed out. Elapsed since last time-step: 0.14425359991764708\n",
      "\u001b[2m\u001b[36m(RolloutWorker pid=15280)\u001b[0m   warnings.warn(f\"Time-step timed out. Elapsed since last time-step: {now - self.__t_end}\")\n"
     ]
    },
    {
     "name": "stdout",
     "output_type": "stream",
     "text": [
      "Loop:  909\n",
      "\u001b[2m\u001b[36m(RolloutWorker pid=15280)\u001b[0m reset triggered\n",
      "\u001b[2m\u001b[36m(RolloutWorker pid=15280)\u001b[0m reload save for track : 4\n"
     ]
    },
    {
     "name": "stderr",
     "output_type": "stream",
     "text": [
      "\u001b[2m\u001b[36m(RolloutWorker pid=15280)\u001b[0m c:\\Users\\nadir\\anaconda3\\envs\\GTAI2\\lib\\site-packages\\rtgym\\envs\\real_time_env.py:376: UserWarning: Time-step timed out. Elapsed since last time-step: 0.167816699919058\n",
      "\u001b[2m\u001b[36m(RolloutWorker pid=15280)\u001b[0m   warnings.warn(f\"Time-step timed out. Elapsed since last time-step: {now - self.__t_end}\")\n"
     ]
    },
    {
     "name": "stdout",
     "output_type": "stream",
     "text": [
      "Loop:  910\n",
      "Saved 910\n",
      "\u001b[2m\u001b[36m(RolloutWorker pid=15280)\u001b[0m reset triggered\n",
      "\u001b[2m\u001b[36m(RolloutWorker pid=15280)\u001b[0m reload save for track : 4\n"
     ]
    },
    {
     "name": "stderr",
     "output_type": "stream",
     "text": [
      "\u001b[2m\u001b[36m(RolloutWorker pid=15280)\u001b[0m c:\\Users\\nadir\\anaconda3\\envs\\GTAI2\\lib\\site-packages\\rtgym\\envs\\real_time_env.py:376: UserWarning: Time-step timed out. Elapsed since last time-step: 0.14989689991853083\n",
      "\u001b[2m\u001b[36m(RolloutWorker pid=15280)\u001b[0m   warnings.warn(f\"Time-step timed out. Elapsed since last time-step: {now - self.__t_end}\")\n"
     ]
    },
    {
     "name": "stdout",
     "output_type": "stream",
     "text": [
      "Loop:  911\n",
      "Loop:  912\n",
      "\u001b[2m\u001b[36m(RolloutWorker pid=15280)\u001b[0m reset triggered\n",
      "\u001b[2m\u001b[36m(RolloutWorker pid=15280)\u001b[0m reload save for track : 4\n"
     ]
    },
    {
     "name": "stderr",
     "output_type": "stream",
     "text": [
      "\u001b[2m\u001b[36m(RolloutWorker pid=15280)\u001b[0m c:\\Users\\nadir\\anaconda3\\envs\\GTAI2\\lib\\site-packages\\rtgym\\envs\\real_time_env.py:376: UserWarning: Time-step timed out. Elapsed since last time-step: 0.12983749991872173\n",
      "\u001b[2m\u001b[36m(RolloutWorker pid=15280)\u001b[0m   warnings.warn(f\"Time-step timed out. Elapsed since last time-step: {now - self.__t_end}\")\n"
     ]
    },
    {
     "name": "stdout",
     "output_type": "stream",
     "text": [
      "Loop:  913\n",
      "\u001b[2m\u001b[36m(RolloutWorker pid=15280)\u001b[0m reset triggered\n",
      "\u001b[2m\u001b[36m(RolloutWorker pid=15280)\u001b[0m reload save for track : 4\n"
     ]
    },
    {
     "name": "stderr",
     "output_type": "stream",
     "text": [
      "\u001b[2m\u001b[36m(RolloutWorker pid=15280)\u001b[0m c:\\Users\\nadir\\anaconda3\\envs\\GTAI2\\lib\\site-packages\\rtgym\\envs\\real_time_env.py:376: UserWarning: Time-step timed out. Elapsed since last time-step: 0.13711849991886993\n",
      "\u001b[2m\u001b[36m(RolloutWorker pid=15280)\u001b[0m   warnings.warn(f\"Time-step timed out. Elapsed since last time-step: {now - self.__t_end}\")\n"
     ]
    },
    {
     "name": "stdout",
     "output_type": "stream",
     "text": [
      "Loop:  914\n",
      "Loop:  915\n",
      "\u001b[2m\u001b[36m(RolloutWorker pid=15280)\u001b[0m reset triggered\n",
      "\u001b[2m\u001b[36m(RolloutWorker pid=15280)\u001b[0m reload save for track : 4\n"
     ]
    },
    {
     "name": "stderr",
     "output_type": "stream",
     "text": [
      "\u001b[2m\u001b[36m(RolloutWorker pid=15280)\u001b[0m c:\\Users\\nadir\\anaconda3\\envs\\GTAI2\\lib\\site-packages\\rtgym\\envs\\real_time_env.py:376: UserWarning: Time-step timed out. Elapsed since last time-step: 0.1605058999175526\n",
      "\u001b[2m\u001b[36m(RolloutWorker pid=15280)\u001b[0m   warnings.warn(f\"Time-step timed out. Elapsed since last time-step: {now - self.__t_end}\")\n",
      "\u001b[2m\u001b[36m(RolloutWorker pid=15280)\u001b[0m c:\\Users\\nadir\\anaconda3\\envs\\GTAI2\\lib\\site-packages\\rtgym\\envs\\real_time_env.py:376: UserWarning: Time-step timed out. Elapsed since last time-step: 0.134085599998798\n",
      "\u001b[2m\u001b[36m(RolloutWorker pid=15280)\u001b[0m   warnings.warn(f\"Time-step timed out. Elapsed since last time-step: {now - self.__t_end}\")\n"
     ]
    },
    {
     "name": "stdout",
     "output_type": "stream",
     "text": [
      "Loop:  916\n",
      "\u001b[2m\u001b[36m(RolloutWorker pid=15280)\u001b[0m reset triggered\n",
      "\u001b[2m\u001b[36m(RolloutWorker pid=15280)\u001b[0m reload save for track : 4\n"
     ]
    },
    {
     "name": "stderr",
     "output_type": "stream",
     "text": [
      "\u001b[2m\u001b[36m(RolloutWorker pid=15280)\u001b[0m c:\\Users\\nadir\\anaconda3\\envs\\GTAI2\\lib\\site-packages\\rtgym\\envs\\real_time_env.py:376: UserWarning: Time-step timed out. Elapsed since last time-step: 0.14617029992041353\n",
      "\u001b[2m\u001b[36m(RolloutWorker pid=15280)\u001b[0m   warnings.warn(f\"Time-step timed out. Elapsed since last time-step: {now - self.__t_end}\")\n"
     ]
    },
    {
     "name": "stdout",
     "output_type": "stream",
     "text": [
      "Loop:  917\n",
      "Loop:  918\n",
      "\u001b[2m\u001b[36m(RolloutWorker pid=15280)\u001b[0m reset triggered\n",
      "\u001b[2m\u001b[36m(RolloutWorker pid=15280)\u001b[0m reload save for track : 4\n"
     ]
    },
    {
     "name": "stderr",
     "output_type": "stream",
     "text": [
      "\u001b[2m\u001b[36m(RolloutWorker pid=15280)\u001b[0m c:\\Users\\nadir\\anaconda3\\envs\\GTAI2\\lib\\site-packages\\rtgym\\envs\\real_time_env.py:376: UserWarning: Time-step timed out. Elapsed since last time-step: 0.14284109991785954\n",
      "\u001b[2m\u001b[36m(RolloutWorker pid=15280)\u001b[0m   warnings.warn(f\"Time-step timed out. Elapsed since last time-step: {now - self.__t_end}\")\n"
     ]
    },
    {
     "name": "stdout",
     "output_type": "stream",
     "text": [
      "Loop:  919\n",
      "\u001b[2m\u001b[36m(RolloutWorker pid=15280)\u001b[0m reset triggered\n",
      "\u001b[2m\u001b[36m(RolloutWorker pid=15280)\u001b[0m reload save for track : 4\n"
     ]
    },
    {
     "name": "stderr",
     "output_type": "stream",
     "text": [
      "\u001b[2m\u001b[36m(RolloutWorker pid=15280)\u001b[0m c:\\Users\\nadir\\anaconda3\\envs\\GTAI2\\lib\\site-packages\\rtgym\\envs\\real_time_env.py:376: UserWarning: Time-step timed out. Elapsed since last time-step: 0.15643869991799875\n",
      "\u001b[2m\u001b[36m(RolloutWorker pid=15280)\u001b[0m   warnings.warn(f\"Time-step timed out. Elapsed since last time-step: {now - self.__t_end}\")\n"
     ]
    },
    {
     "name": "stdout",
     "output_type": "stream",
     "text": [
      "Loop:  920\n",
      "Saved 920\n",
      "Loop:  921\n",
      "\u001b[2m\u001b[36m(RolloutWorker pid=15280)\u001b[0m reset triggered\n",
      "\u001b[2m\u001b[36m(RolloutWorker pid=15280)\u001b[0m reload save for track : 4\n"
     ]
    },
    {
     "name": "stderr",
     "output_type": "stream",
     "text": [
      "\u001b[2m\u001b[36m(RolloutWorker pid=15280)\u001b[0m c:\\Users\\nadir\\anaconda3\\envs\\GTAI2\\lib\\site-packages\\rtgym\\envs\\real_time_env.py:376: UserWarning: Time-step timed out. Elapsed since last time-step: 0.12436129991874623\n",
      "\u001b[2m\u001b[36m(RolloutWorker pid=15280)\u001b[0m   warnings.warn(f\"Time-step timed out. Elapsed since last time-step: {now - self.__t_end}\")\n"
     ]
    },
    {
     "name": "stdout",
     "output_type": "stream",
     "text": [
      "Loop:  922\n",
      "\u001b[2m\u001b[36m(RolloutWorker pid=15280)\u001b[0m reset triggered\n",
      "\u001b[2m\u001b[36m(RolloutWorker pid=15280)\u001b[0m reload save for track : 4\n"
     ]
    },
    {
     "name": "stderr",
     "output_type": "stream",
     "text": [
      "\u001b[2m\u001b[36m(RolloutWorker pid=15280)\u001b[0m c:\\Users\\nadir\\anaconda3\\envs\\GTAI2\\lib\\site-packages\\rtgym\\envs\\real_time_env.py:376: UserWarning: Time-step timed out. Elapsed since last time-step: 0.14635979991908243\n",
      "\u001b[2m\u001b[36m(RolloutWorker pid=15280)\u001b[0m   warnings.warn(f\"Time-step timed out. Elapsed since last time-step: {now - self.__t_end}\")\n"
     ]
    },
    {
     "name": "stdout",
     "output_type": "stream",
     "text": [
      "Loop:  923\n",
      "\u001b[2m\u001b[36m(RolloutWorker pid=15280)\u001b[0m reset triggered\n",
      "\u001b[2m\u001b[36m(RolloutWorker pid=15280)\u001b[0m reload save for track : 4\n"
     ]
    },
    {
     "name": "stderr",
     "output_type": "stream",
     "text": [
      "\u001b[2m\u001b[36m(RolloutWorker pid=15280)\u001b[0m c:\\Users\\nadir\\anaconda3\\envs\\GTAI2\\lib\\site-packages\\rtgym\\envs\\real_time_env.py:376: UserWarning: Time-step timed out. Elapsed since last time-step: 0.15058889991814794\n",
      "\u001b[2m\u001b[36m(RolloutWorker pid=15280)\u001b[0m   warnings.warn(f\"Time-step timed out. Elapsed since last time-step: {now - self.__t_end}\")\n"
     ]
    },
    {
     "name": "stdout",
     "output_type": "stream",
     "text": [
      "Loop:  924\n",
      "Loop:  925\n",
      "\u001b[2m\u001b[36m(RolloutWorker pid=15280)\u001b[0m reset triggered\n",
      "\u001b[2m\u001b[36m(RolloutWorker pid=15280)\u001b[0m reload save for track : 4\n"
     ]
    },
    {
     "name": "stderr",
     "output_type": "stream",
     "text": [
      "\u001b[2m\u001b[36m(RolloutWorker pid=15280)\u001b[0m c:\\Users\\nadir\\anaconda3\\envs\\GTAI2\\lib\\site-packages\\rtgym\\envs\\real_time_env.py:376: UserWarning: Time-step timed out. Elapsed since last time-step: 0.16161589991861547\n",
      "\u001b[2m\u001b[36m(RolloutWorker pid=15280)\u001b[0m   warnings.warn(f\"Time-step timed out. Elapsed since last time-step: {now - self.__t_end}\")\n"
     ]
    },
    {
     "name": "stdout",
     "output_type": "stream",
     "text": [
      "Loop:  926\n",
      "\u001b[2m\u001b[36m(RolloutWorker pid=15280)\u001b[0m reset triggered\n",
      "\u001b[2m\u001b[36m(RolloutWorker pid=15280)\u001b[0m reload save for track : 4\n"
     ]
    },
    {
     "name": "stderr",
     "output_type": "stream",
     "text": [
      "\u001b[2m\u001b[36m(RolloutWorker pid=15280)\u001b[0m c:\\Users\\nadir\\anaconda3\\envs\\GTAI2\\lib\\site-packages\\rtgym\\envs\\real_time_env.py:376: UserWarning: Time-step timed out. Elapsed since last time-step: 0.1507695999189309\n",
      "\u001b[2m\u001b[36m(RolloutWorker pid=15280)\u001b[0m   warnings.warn(f\"Time-step timed out. Elapsed since last time-step: {now - self.__t_end}\")\n"
     ]
    },
    {
     "name": "stdout",
     "output_type": "stream",
     "text": [
      "Loop:  927\n",
      "Loop:  928\n",
      "\u001b[2m\u001b[36m(RolloutWorker pid=15280)\u001b[0m reset triggered\n",
      "\u001b[2m\u001b[36m(RolloutWorker pid=15280)\u001b[0m reload save for track : 4\n"
     ]
    },
    {
     "name": "stderr",
     "output_type": "stream",
     "text": [
      "\u001b[2m\u001b[36m(RolloutWorker pid=15280)\u001b[0m c:\\Users\\nadir\\anaconda3\\envs\\GTAI2\\lib\\site-packages\\rtgym\\envs\\real_time_env.py:376: UserWarning: Time-step timed out. Elapsed since last time-step: 0.12956319991826604\n",
      "\u001b[2m\u001b[36m(RolloutWorker pid=15280)\u001b[0m   warnings.warn(f\"Time-step timed out. Elapsed since last time-step: {now - self.__t_end}\")\n"
     ]
    },
    {
     "name": "stdout",
     "output_type": "stream",
     "text": [
      "Loop:  929\n",
      "\u001b[2m\u001b[36m(RolloutWorker pid=15280)\u001b[0m reset triggered\n",
      "\u001b[2m\u001b[36m(RolloutWorker pid=15280)\u001b[0m reload save for track : 4\n"
     ]
    },
    {
     "name": "stderr",
     "output_type": "stream",
     "text": [
      "\u001b[2m\u001b[36m(RolloutWorker pid=15280)\u001b[0m c:\\Users\\nadir\\anaconda3\\envs\\GTAI2\\lib\\site-packages\\rtgym\\envs\\real_time_env.py:376: UserWarning: Time-step timed out. Elapsed since last time-step: 0.13974869991761807\n",
      "\u001b[2m\u001b[36m(RolloutWorker pid=15280)\u001b[0m   warnings.warn(f\"Time-step timed out. Elapsed since last time-step: {now - self.__t_end}\")\n"
     ]
    },
    {
     "name": "stdout",
     "output_type": "stream",
     "text": [
      "Loop:  930\n",
      "Saved 930\n",
      "Loop:  931\n",
      "\u001b[2m\u001b[36m(RolloutWorker pid=15280)\u001b[0m reset triggered\n",
      "\u001b[2m\u001b[36m(RolloutWorker pid=15280)\u001b[0m reload save for track : 4\n"
     ]
    },
    {
     "name": "stderr",
     "output_type": "stream",
     "text": [
      "\u001b[2m\u001b[36m(RolloutWorker pid=15280)\u001b[0m c:\\Users\\nadir\\anaconda3\\envs\\GTAI2\\lib\\site-packages\\rtgym\\envs\\real_time_env.py:376: UserWarning: Time-step timed out. Elapsed since last time-step: 0.15785369991863263\n",
      "\u001b[2m\u001b[36m(RolloutWorker pid=15280)\u001b[0m   warnings.warn(f\"Time-step timed out. Elapsed since last time-step: {now - self.__t_end}\")\n"
     ]
    },
    {
     "name": "stdout",
     "output_type": "stream",
     "text": [
      "Loop:  932\n",
      "\u001b[2m\u001b[36m(RolloutWorker pid=15280)\u001b[0m reset triggered\n",
      "\u001b[2m\u001b[36m(RolloutWorker pid=15280)\u001b[0m reload save for track : 4\n"
     ]
    },
    {
     "name": "stderr",
     "output_type": "stream",
     "text": [
      "\u001b[2m\u001b[36m(RolloutWorker pid=15280)\u001b[0m c:\\Users\\nadir\\anaconda3\\envs\\GTAI2\\lib\\site-packages\\rtgym\\envs\\real_time_env.py:376: UserWarning: Time-step timed out. Elapsed since last time-step: 0.16295039991928206\n",
      "\u001b[2m\u001b[36m(RolloutWorker pid=15280)\u001b[0m   warnings.warn(f\"Time-step timed out. Elapsed since last time-step: {now - self.__t_end}\")\n"
     ]
    },
    {
     "name": "stdout",
     "output_type": "stream",
     "text": [
      "Loop:  933\n",
      "Loop:  934\n",
      "\u001b[2m\u001b[36m(RolloutWorker pid=15280)\u001b[0m reset triggered\n",
      "\u001b[2m\u001b[36m(RolloutWorker pid=15280)\u001b[0m reload save for track : 4\n"
     ]
    },
    {
     "name": "stderr",
     "output_type": "stream",
     "text": [
      "\u001b[2m\u001b[36m(RolloutWorker pid=15280)\u001b[0m c:\\Users\\nadir\\anaconda3\\envs\\GTAI2\\lib\\site-packages\\rtgym\\envs\\real_time_env.py:376: UserWarning: Time-step timed out. Elapsed since last time-step: 0.1497636999192764\n",
      "\u001b[2m\u001b[36m(RolloutWorker pid=15280)\u001b[0m   warnings.warn(f\"Time-step timed out. Elapsed since last time-step: {now - self.__t_end}\")\n"
     ]
    },
    {
     "name": "stdout",
     "output_type": "stream",
     "text": [
      "Loop:  935\n",
      "\u001b[2m\u001b[36m(RolloutWorker pid=15280)\u001b[0m reset triggered\n",
      "\u001b[2m\u001b[36m(RolloutWorker pid=15280)\u001b[0m reload save for track : 4\n"
     ]
    },
    {
     "name": "stderr",
     "output_type": "stream",
     "text": [
      "\u001b[2m\u001b[36m(RolloutWorker pid=15280)\u001b[0m c:\\Users\\nadir\\anaconda3\\envs\\GTAI2\\lib\\site-packages\\rtgym\\envs\\real_time_env.py:376: UserWarning: Time-step timed out. Elapsed since last time-step: 0.14704359991810634\n",
      "\u001b[2m\u001b[36m(RolloutWorker pid=15280)\u001b[0m   warnings.warn(f\"Time-step timed out. Elapsed since last time-step: {now - self.__t_end}\")\n"
     ]
    },
    {
     "name": "stdout",
     "output_type": "stream",
     "text": [
      "Loop:  936\n",
      "\u001b[2m\u001b[36m(RolloutWorker pid=15280)\u001b[0m reset triggered\n",
      "\u001b[2m\u001b[36m(RolloutWorker pid=15280)\u001b[0m reload save for track : 4\n"
     ]
    },
    {
     "name": "stderr",
     "output_type": "stream",
     "text": [
      "\u001b[2m\u001b[36m(RolloutWorker pid=15280)\u001b[0m c:\\Users\\nadir\\anaconda3\\envs\\GTAI2\\lib\\site-packages\\rtgym\\envs\\real_time_env.py:376: UserWarning: Time-step timed out. Elapsed since last time-step: 0.12316219991771504\n",
      "\u001b[2m\u001b[36m(RolloutWorker pid=15280)\u001b[0m   warnings.warn(f\"Time-step timed out. Elapsed since last time-step: {now - self.__t_end}\")\n"
     ]
    },
    {
     "name": "stdout",
     "output_type": "stream",
     "text": [
      "Loop:  937\n",
      "Loop:  938\n",
      "\u001b[2m\u001b[36m(RolloutWorker pid=15280)\u001b[0m reset triggered\n",
      "\u001b[2m\u001b[36m(RolloutWorker pid=15280)\u001b[0m reload save for track : 4\n"
     ]
    },
    {
     "name": "stderr",
     "output_type": "stream",
     "text": [
      "\u001b[2m\u001b[36m(RolloutWorker pid=15280)\u001b[0m c:\\Users\\nadir\\anaconda3\\envs\\GTAI2\\lib\\site-packages\\rtgym\\envs\\real_time_env.py:376: UserWarning: Time-step timed out. Elapsed since last time-step: 0.12999379991924798\n",
      "\u001b[2m\u001b[36m(RolloutWorker pid=15280)\u001b[0m   warnings.warn(f\"Time-step timed out. Elapsed since last time-step: {now - self.__t_end}\")\n"
     ]
    },
    {
     "name": "stdout",
     "output_type": "stream",
     "text": [
      "Loop:  939\n",
      "\u001b[2m\u001b[36m(RolloutWorker pid=15280)\u001b[0m reset triggered\n",
      "\u001b[2m\u001b[36m(RolloutWorker pid=15280)\u001b[0m reload save for track : 4\n"
     ]
    },
    {
     "name": "stderr",
     "output_type": "stream",
     "text": [
      "\u001b[2m\u001b[36m(RolloutWorker pid=15280)\u001b[0m c:\\Users\\nadir\\anaconda3\\envs\\GTAI2\\lib\\site-packages\\rtgym\\envs\\real_time_env.py:376: UserWarning: Time-step timed out. Elapsed since last time-step: 0.140062499918713\n",
      "\u001b[2m\u001b[36m(RolloutWorker pid=15280)\u001b[0m   warnings.warn(f\"Time-step timed out. Elapsed since last time-step: {now - self.__t_end}\")\n"
     ]
    },
    {
     "name": "stdout",
     "output_type": "stream",
     "text": [
      "Loop:  940\n",
      "Saved 940\n",
      "Loop:  941\n",
      "\u001b[2m\u001b[36m(RolloutWorker pid=15280)\u001b[0m reset triggered\n",
      "\u001b[2m\u001b[36m(RolloutWorker pid=15280)\u001b[0m reload save for track : 4\n"
     ]
    },
    {
     "name": "stderr",
     "output_type": "stream",
     "text": [
      "\u001b[2m\u001b[36m(RolloutWorker pid=15280)\u001b[0m c:\\Users\\nadir\\anaconda3\\envs\\GTAI2\\lib\\site-packages\\rtgym\\envs\\real_time_env.py:376: UserWarning: Time-step timed out. Elapsed since last time-step: 0.15750469991871796\n",
      "\u001b[2m\u001b[36m(RolloutWorker pid=15280)\u001b[0m   warnings.warn(f\"Time-step timed out. Elapsed since last time-step: {now - self.__t_end}\")\n"
     ]
    },
    {
     "name": "stdout",
     "output_type": "stream",
     "text": [
      "Loop:  942\n",
      "\u001b[2m\u001b[36m(RolloutWorker pid=15280)\u001b[0m reset triggered\n",
      "\u001b[2m\u001b[36m(RolloutWorker pid=15280)\u001b[0m reload save for track : 4\n"
     ]
    },
    {
     "name": "stderr",
     "output_type": "stream",
     "text": [
      "\u001b[2m\u001b[36m(RolloutWorker pid=15280)\u001b[0m c:\\Users\\nadir\\anaconda3\\envs\\GTAI2\\lib\\site-packages\\rtgym\\envs\\real_time_env.py:376: UserWarning: Time-step timed out. Elapsed since last time-step: 0.15256539991787577\n",
      "\u001b[2m\u001b[36m(RolloutWorker pid=15280)\u001b[0m   warnings.warn(f\"Time-step timed out. Elapsed since last time-step: {now - self.__t_end}\")\n"
     ]
    },
    {
     "name": "stdout",
     "output_type": "stream",
     "text": [
      "Loop:  943\n",
      "Loop:  944\n",
      "\u001b[2m\u001b[36m(RolloutWorker pid=15280)\u001b[0m reset triggered\n",
      "\u001b[2m\u001b[36m(RolloutWorker pid=15280)\u001b[0m reload save for track : 4\n"
     ]
    },
    {
     "name": "stderr",
     "output_type": "stream",
     "text": [
      "\u001b[2m\u001b[36m(RolloutWorker pid=15280)\u001b[0m c:\\Users\\nadir\\anaconda3\\envs\\GTAI2\\lib\\site-packages\\rtgym\\envs\\real_time_env.py:376: UserWarning: Time-step timed out. Elapsed since last time-step: 0.15011549991868378\n",
      "\u001b[2m\u001b[36m(RolloutWorker pid=15280)\u001b[0m   warnings.warn(f\"Time-step timed out. Elapsed since last time-step: {now - self.__t_end}\")\n"
     ]
    },
    {
     "name": "stdout",
     "output_type": "stream",
     "text": [
      "Loop:  945\n",
      "\u001b[2m\u001b[36m(RolloutWorker pid=15280)\u001b[0m reset triggered\n",
      "\u001b[2m\u001b[36m(RolloutWorker pid=15280)\u001b[0m reload save for track : 4\n"
     ]
    },
    {
     "name": "stderr",
     "output_type": "stream",
     "text": [
      "\u001b[2m\u001b[36m(RolloutWorker pid=15280)\u001b[0m c:\\Users\\nadir\\anaconda3\\envs\\GTAI2\\lib\\site-packages\\rtgym\\envs\\real_time_env.py:376: UserWarning: Time-step timed out. Elapsed since last time-step: 0.14733059991885966\n",
      "\u001b[2m\u001b[36m(RolloutWorker pid=15280)\u001b[0m   warnings.warn(f\"Time-step timed out. Elapsed since last time-step: {now - self.__t_end}\")\n"
     ]
    },
    {
     "name": "stdout",
     "output_type": "stream",
     "text": [
      "Loop:  946\n",
      "Loop:  947\n",
      "\u001b[2m\u001b[36m(RolloutWorker pid=15280)\u001b[0m reset triggered\n",
      "\u001b[2m\u001b[36m(RolloutWorker pid=15280)\u001b[0m reload save for track : 4\n"
     ]
    },
    {
     "name": "stderr",
     "output_type": "stream",
     "text": [
      "\u001b[2m\u001b[36m(RolloutWorker pid=15280)\u001b[0m c:\\Users\\nadir\\anaconda3\\envs\\GTAI2\\lib\\site-packages\\rtgym\\envs\\real_time_env.py:376: UserWarning: Time-step timed out. Elapsed since last time-step: 0.12315859991758771\n",
      "\u001b[2m\u001b[36m(RolloutWorker pid=15280)\u001b[0m   warnings.warn(f\"Time-step timed out. Elapsed since last time-step: {now - self.__t_end}\")\n"
     ]
    },
    {
     "name": "stdout",
     "output_type": "stream",
     "text": [
      "Loop:  948\n",
      "\u001b[2m\u001b[36m(RolloutWorker pid=15280)\u001b[0m reset triggered\n",
      "\u001b[2m\u001b[36m(RolloutWorker pid=15280)\u001b[0m reload save for track : 4\n"
     ]
    },
    {
     "name": "stderr",
     "output_type": "stream",
     "text": [
      "\u001b[2m\u001b[36m(RolloutWorker pid=15280)\u001b[0m c:\\Users\\nadir\\anaconda3\\envs\\GTAI2\\lib\\site-packages\\rtgym\\envs\\real_time_env.py:376: UserWarning: Time-step timed out. Elapsed since last time-step: 0.1288344999193214\n",
      "\u001b[2m\u001b[36m(RolloutWorker pid=15280)\u001b[0m   warnings.warn(f\"Time-step timed out. Elapsed since last time-step: {now - self.__t_end}\")\n"
     ]
    },
    {
     "name": "stdout",
     "output_type": "stream",
     "text": [
      "Loop:  949\n",
      "\u001b[2m\u001b[36m(RolloutWorker pid=15280)\u001b[0m reset triggered\n",
      "\u001b[2m\u001b[36m(RolloutWorker pid=15280)\u001b[0m reload save for track : 4\n"
     ]
    },
    {
     "name": "stderr",
     "output_type": "stream",
     "text": [
      "\u001b[2m\u001b[36m(RolloutWorker pid=15280)\u001b[0m c:\\Users\\nadir\\anaconda3\\envs\\GTAI2\\lib\\site-packages\\rtgym\\envs\\real_time_env.py:376: UserWarning: Time-step timed out. Elapsed since last time-step: 0.14097249991755234\n",
      "\u001b[2m\u001b[36m(RolloutWorker pid=15280)\u001b[0m   warnings.warn(f\"Time-step timed out. Elapsed since last time-step: {now - self.__t_end}\")\n"
     ]
    },
    {
     "name": "stdout",
     "output_type": "stream",
     "text": [
      "Loop:  950\n",
      "Saved 950\n",
      "Loop:  951\n",
      "\u001b[2m\u001b[36m(RolloutWorker pid=15280)\u001b[0m reset triggered\n",
      "\u001b[2m\u001b[36m(RolloutWorker pid=15280)\u001b[0m reload save for track : 4\n"
     ]
    },
    {
     "name": "stderr",
     "output_type": "stream",
     "text": [
      "\u001b[2m\u001b[36m(RolloutWorker pid=15280)\u001b[0m c:\\Users\\nadir\\anaconda3\\envs\\GTAI2\\lib\\site-packages\\rtgym\\envs\\real_time_env.py:376: UserWarning: Time-step timed out. Elapsed since last time-step: 0.14002859991887817\n",
      "\u001b[2m\u001b[36m(RolloutWorker pid=15280)\u001b[0m   warnings.warn(f\"Time-step timed out. Elapsed since last time-step: {now - self.__t_end}\")\n"
     ]
    },
    {
     "name": "stdout",
     "output_type": "stream",
     "text": [
      "Loop:  952\n",
      "\u001b[2m\u001b[36m(RolloutWorker pid=15280)\u001b[0m reset triggered\n",
      "\u001b[2m\u001b[36m(RolloutWorker pid=15280)\u001b[0m reload save for track : 4\n"
     ]
    },
    {
     "name": "stderr",
     "output_type": "stream",
     "text": [
      "\u001b[2m\u001b[36m(RolloutWorker pid=15280)\u001b[0m c:\\Users\\nadir\\anaconda3\\envs\\GTAI2\\lib\\site-packages\\rtgym\\envs\\real_time_env.py:376: UserWarning: Time-step timed out. Elapsed since last time-step: 0.16018879991861468\n",
      "\u001b[2m\u001b[36m(RolloutWorker pid=15280)\u001b[0m   warnings.warn(f\"Time-step timed out. Elapsed since last time-step: {now - self.__t_end}\")\n"
     ]
    },
    {
     "name": "stdout",
     "output_type": "stream",
     "text": [
      "Loop:  953\n"
     ]
    },
    {
     "name": "stderr",
     "output_type": "stream",
     "text": [
      "\u001b[2m\u001b[36m(RolloutWorker pid=15280)\u001b[0m c:\\Users\\nadir\\anaconda3\\envs\\GTAI2\\lib\\site-packages\\rtgym\\envs\\real_time_env.py:376: UserWarning: Time-step timed out. Elapsed since last time-step: 0.13991909994911111\n",
      "\u001b[2m\u001b[36m(RolloutWorker pid=15280)\u001b[0m   warnings.warn(f\"Time-step timed out. Elapsed since last time-step: {now - self.__t_end}\")\n"
     ]
    },
    {
     "name": "stdout",
     "output_type": "stream",
     "text": [
      "Loop:  954\n",
      "\u001b[2m\u001b[36m(RolloutWorker pid=15280)\u001b[0m reset triggered\n",
      "\u001b[2m\u001b[36m(RolloutWorker pid=15280)\u001b[0m reload save for track : 4\n"
     ]
    },
    {
     "name": "stderr",
     "output_type": "stream",
     "text": [
      "\u001b[2m\u001b[36m(RolloutWorker pid=15280)\u001b[0m c:\\Users\\nadir\\anaconda3\\envs\\GTAI2\\lib\\site-packages\\rtgym\\envs\\real_time_env.py:376: UserWarning: Time-step timed out. Elapsed since last time-step: 0.13007939996896312\n",
      "\u001b[2m\u001b[36m(RolloutWorker pid=15280)\u001b[0m   warnings.warn(f\"Time-step timed out. Elapsed since last time-step: {now - self.__t_end}\")\n"
     ]
    },
    {
     "name": "stdout",
     "output_type": "stream",
     "text": [
      "Loop:  955\n",
      "\u001b[2m\u001b[36m(RolloutWorker pid=15280)\u001b[0m reset triggered\n",
      "\u001b[2m\u001b[36m(RolloutWorker pid=15280)\u001b[0m reload save for track : 4\n"
     ]
    },
    {
     "name": "stderr",
     "output_type": "stream",
     "text": [
      "\u001b[2m\u001b[36m(RolloutWorker pid=15280)\u001b[0m c:\\Users\\nadir\\anaconda3\\envs\\GTAI2\\lib\\site-packages\\rtgym\\envs\\real_time_env.py:376: UserWarning: Time-step timed out. Elapsed since last time-step: 0.13657259991850879\n",
      "\u001b[2m\u001b[36m(RolloutWorker pid=15280)\u001b[0m   warnings.warn(f\"Time-step timed out. Elapsed since last time-step: {now - self.__t_end}\")\n"
     ]
    },
    {
     "name": "stdout",
     "output_type": "stream",
     "text": [
      "Loop:  956\n",
      "Loop:  957\n",
      "\u001b[2m\u001b[36m(RolloutWorker pid=15280)\u001b[0m reset triggered\n",
      "\u001b[2m\u001b[36m(RolloutWorker pid=15280)\u001b[0m reload save for track : 4\n"
     ]
    },
    {
     "name": "stderr",
     "output_type": "stream",
     "text": [
      "\u001b[2m\u001b[36m(RolloutWorker pid=15280)\u001b[0m c:\\Users\\nadir\\anaconda3\\envs\\GTAI2\\lib\\site-packages\\rtgym\\envs\\real_time_env.py:376: UserWarning: Time-step timed out. Elapsed since last time-step: 0.12329689991929627\n",
      "\u001b[2m\u001b[36m(RolloutWorker pid=15280)\u001b[0m   warnings.warn(f\"Time-step timed out. Elapsed since last time-step: {now - self.__t_end}\")\n"
     ]
    },
    {
     "name": "stdout",
     "output_type": "stream",
     "text": [
      "Loop:  958\n",
      "\u001b[2m\u001b[36m(RolloutWorker pid=15280)\u001b[0m reset triggered\n",
      "\u001b[2m\u001b[36m(RolloutWorker pid=15280)\u001b[0m reload save for track : 4\n"
     ]
    },
    {
     "name": "stderr",
     "output_type": "stream",
     "text": [
      "\u001b[2m\u001b[36m(RolloutWorker pid=15280)\u001b[0m c:\\Users\\nadir\\anaconda3\\envs\\GTAI2\\lib\\site-packages\\rtgym\\envs\\real_time_env.py:376: UserWarning: Time-step timed out. Elapsed since last time-step: 0.14781879991824098\n",
      "\u001b[2m\u001b[36m(RolloutWorker pid=15280)\u001b[0m   warnings.warn(f\"Time-step timed out. Elapsed since last time-step: {now - self.__t_end}\")\n"
     ]
    },
    {
     "name": "stdout",
     "output_type": "stream",
     "text": [
      "Loop:  959\n",
      "Loop:  960\n",
      "Saved 960\n",
      "\u001b[2m\u001b[36m(RolloutWorker pid=15280)\u001b[0m reset triggered\n",
      "\u001b[2m\u001b[36m(RolloutWorker pid=15280)\u001b[0m reload save for track : 4\n"
     ]
    },
    {
     "name": "stderr",
     "output_type": "stream",
     "text": [
      "\u001b[2m\u001b[36m(RolloutWorker pid=15280)\u001b[0m c:\\Users\\nadir\\anaconda3\\envs\\GTAI2\\lib\\site-packages\\rtgym\\envs\\real_time_env.py:376: UserWarning: Time-step timed out. Elapsed since last time-step: 0.16186769991873007\n",
      "\u001b[2m\u001b[36m(RolloutWorker pid=15280)\u001b[0m   warnings.warn(f\"Time-step timed out. Elapsed since last time-step: {now - self.__t_end}\")\n"
     ]
    },
    {
     "name": "stdout",
     "output_type": "stream",
     "text": [
      "Loop:  961\n",
      "\u001b[2m\u001b[36m(RolloutWorker pid=15280)\u001b[0m reset triggered\n",
      "\u001b[2m\u001b[36m(RolloutWorker pid=15280)\u001b[0m reload save for track : 4\n"
     ]
    },
    {
     "name": "stderr",
     "output_type": "stream",
     "text": [
      "\u001b[2m\u001b[36m(RolloutWorker pid=15280)\u001b[0m c:\\Users\\nadir\\anaconda3\\envs\\GTAI2\\lib\\site-packages\\rtgym\\envs\\real_time_env.py:376: UserWarning: Time-step timed out. Elapsed since last time-step: 0.1406919999189995\n",
      "\u001b[2m\u001b[36m(RolloutWorker pid=15280)\u001b[0m   warnings.warn(f\"Time-step timed out. Elapsed since last time-step: {now - self.__t_end}\")\n"
     ]
    },
    {
     "name": "stdout",
     "output_type": "stream",
     "text": [
      "Loop:  962\n",
      "\u001b[2m\u001b[36m(RolloutWorker pid=15280)\u001b[0m reset triggered\n",
      "\u001b[2m\u001b[36m(RolloutWorker pid=15280)\u001b[0m reload save for track : 4\n"
     ]
    },
    {
     "name": "stderr",
     "output_type": "stream",
     "text": [
      "\u001b[2m\u001b[36m(RolloutWorker pid=15280)\u001b[0m c:\\Users\\nadir\\anaconda3\\envs\\GTAI2\\lib\\site-packages\\rtgym\\envs\\real_time_env.py:376: UserWarning: Time-step timed out. Elapsed since last time-step: 0.1391744999182265\n",
      "\u001b[2m\u001b[36m(RolloutWorker pid=15280)\u001b[0m   warnings.warn(f\"Time-step timed out. Elapsed since last time-step: {now - self.__t_end}\")\n"
     ]
    },
    {
     "name": "stdout",
     "output_type": "stream",
     "text": [
      "Loop:  963\n",
      "Loop:  964\n",
      "\u001b[2m\u001b[36m(RolloutWorker pid=15280)\u001b[0m reset triggered\n",
      "\u001b[2m\u001b[36m(RolloutWorker pid=15280)\u001b[0m reload save for track : 4\n"
     ]
    },
    {
     "name": "stderr",
     "output_type": "stream",
     "text": [
      "\u001b[2m\u001b[36m(RolloutWorker pid=15280)\u001b[0m c:\\Users\\nadir\\anaconda3\\envs\\GTAI2\\lib\\site-packages\\rtgym\\envs\\real_time_env.py:376: UserWarning: Time-step timed out. Elapsed since last time-step: 0.13793209991854383\n",
      "\u001b[2m\u001b[36m(RolloutWorker pid=15280)\u001b[0m   warnings.warn(f\"Time-step timed out. Elapsed since last time-step: {now - self.__t_end}\")\n"
     ]
    },
    {
     "name": "stdout",
     "output_type": "stream",
     "text": [
      "Loop:  965\n",
      "\u001b[2m\u001b[36m(RolloutWorker pid=15280)\u001b[0m reset triggered\n",
      "\u001b[2m\u001b[36m(RolloutWorker pid=15280)\u001b[0m reload save for track : 4\n"
     ]
    },
    {
     "name": "stderr",
     "output_type": "stream",
     "text": [
      "\u001b[2m\u001b[36m(RolloutWorker pid=15280)\u001b[0m c:\\Users\\nadir\\anaconda3\\envs\\GTAI2\\lib\\site-packages\\rtgym\\envs\\real_time_env.py:376: UserWarning: Time-step timed out. Elapsed since last time-step: 0.12313009991703439\n",
      "\u001b[2m\u001b[36m(RolloutWorker pid=15280)\u001b[0m   warnings.warn(f\"Time-step timed out. Elapsed since last time-step: {now - self.__t_end}\")\n"
     ]
    },
    {
     "name": "stdout",
     "output_type": "stream",
     "text": [
      "Loop:  966\n",
      "Loop:  967\n",
      "\u001b[2m\u001b[36m(RolloutWorker pid=15280)\u001b[0m reset triggered\n",
      "\u001b[2m\u001b[36m(RolloutWorker pid=15280)\u001b[0m reload save for track : 4\n"
     ]
    },
    {
     "name": "stderr",
     "output_type": "stream",
     "text": [
      "\u001b[2m\u001b[36m(RolloutWorker pid=15280)\u001b[0m c:\\Users\\nadir\\anaconda3\\envs\\GTAI2\\lib\\site-packages\\rtgym\\envs\\real_time_env.py:376: UserWarning: Time-step timed out. Elapsed since last time-step: 0.13655679992007208\n",
      "\u001b[2m\u001b[36m(RolloutWorker pid=15280)\u001b[0m   warnings.warn(f\"Time-step timed out. Elapsed since last time-step: {now - self.__t_end}\")\n"
     ]
    },
    {
     "name": "stdout",
     "output_type": "stream",
     "text": [
      "Loop:  968\n",
      "\u001b[2m\u001b[36m(RolloutWorker pid=15280)\u001b[0m reset triggered\n",
      "\u001b[2m\u001b[36m(RolloutWorker pid=15280)\u001b[0m reload save for track : 4\n"
     ]
    },
    {
     "name": "stderr",
     "output_type": "stream",
     "text": [
      "\u001b[2m\u001b[36m(RolloutWorker pid=15280)\u001b[0m c:\\Users\\nadir\\anaconda3\\envs\\GTAI2\\lib\\site-packages\\rtgym\\envs\\real_time_env.py:376: UserWarning: Time-step timed out. Elapsed since last time-step: 0.1431766999176034\n",
      "\u001b[2m\u001b[36m(RolloutWorker pid=15280)\u001b[0m   warnings.warn(f\"Time-step timed out. Elapsed since last time-step: {now - self.__t_end}\")\n"
     ]
    },
    {
     "name": "stdout",
     "output_type": "stream",
     "text": [
      "Loop:  969\n",
      "Loop:  970\n",
      "Saved 970\n",
      "\u001b[2m\u001b[36m(RolloutWorker pid=15280)\u001b[0m reset triggered\n",
      "\u001b[2m\u001b[36m(RolloutWorker pid=15280)\u001b[0m reload save for track : 4\n"
     ]
    },
    {
     "name": "stderr",
     "output_type": "stream",
     "text": [
      "\u001b[2m\u001b[36m(RolloutWorker pid=15280)\u001b[0m c:\\Users\\nadir\\anaconda3\\envs\\GTAI2\\lib\\site-packages\\rtgym\\envs\\real_time_env.py:376: UserWarning: Time-step timed out. Elapsed since last time-step: 0.15022719991793565\n",
      "\u001b[2m\u001b[36m(RolloutWorker pid=15280)\u001b[0m   warnings.warn(f\"Time-step timed out. Elapsed since last time-step: {now - self.__t_end}\")\n"
     ]
    },
    {
     "name": "stdout",
     "output_type": "stream",
     "text": [
      "Loop:  971\n"
     ]
    },
    {
     "name": "stderr",
     "output_type": "stream",
     "text": [
      "\u001b[2m\u001b[36m(RolloutWorker pid=15280)\u001b[0m c:\\Users\\nadir\\anaconda3\\envs\\GTAI2\\lib\\site-packages\\rtgym\\envs\\real_time_env.py:376: UserWarning: Time-step timed out. Elapsed since last time-step: 0.12946119992011518\n",
      "\u001b[2m\u001b[36m(RolloutWorker pid=15280)\u001b[0m   warnings.warn(f\"Time-step timed out. Elapsed since last time-step: {now - self.__t_end}\")\n"
     ]
    },
    {
     "name": "stdout",
     "output_type": "stream",
     "text": [
      "\u001b[2m\u001b[36m(RolloutWorker pid=15280)\u001b[0m reset triggered\n",
      "\u001b[2m\u001b[36m(RolloutWorker pid=15280)\u001b[0m reload save for track : 4\n",
      "Loop:  972\n",
      "Loop:  973\n",
      "\u001b[2m\u001b[36m(RolloutWorker pid=15280)\u001b[0m reset triggered\n",
      "\u001b[2m\u001b[36m(RolloutWorker pid=15280)\u001b[0m reload save for track : 4\n"
     ]
    },
    {
     "name": "stderr",
     "output_type": "stream",
     "text": [
      "\u001b[2m\u001b[36m(RolloutWorker pid=15280)\u001b[0m c:\\Users\\nadir\\anaconda3\\envs\\GTAI2\\lib\\site-packages\\rtgym\\envs\\real_time_env.py:376: UserWarning: Time-step timed out. Elapsed since last time-step: 0.13971449991731788\n",
      "\u001b[2m\u001b[36m(RolloutWorker pid=15280)\u001b[0m   warnings.warn(f\"Time-step timed out. Elapsed since last time-step: {now - self.__t_end}\")\n"
     ]
    },
    {
     "name": "stdout",
     "output_type": "stream",
     "text": [
      "Loop:  974\n",
      "\u001b[2m\u001b[36m(RolloutWorker pid=15280)\u001b[0m reset triggered\n",
      "\u001b[2m\u001b[36m(RolloutWorker pid=15280)\u001b[0m reload save for track : 4\n"
     ]
    },
    {
     "name": "stderr",
     "output_type": "stream",
     "text": [
      "\u001b[2m\u001b[36m(RolloutWorker pid=15280)\u001b[0m c:\\Users\\nadir\\anaconda3\\envs\\GTAI2\\lib\\site-packages\\rtgym\\envs\\real_time_env.py:376: UserWarning: Time-step timed out. Elapsed since last time-step: 0.13130969991834718\n",
      "\u001b[2m\u001b[36m(RolloutWorker pid=15280)\u001b[0m   warnings.warn(f\"Time-step timed out. Elapsed since last time-step: {now - self.__t_end}\")\n"
     ]
    },
    {
     "name": "stdout",
     "output_type": "stream",
     "text": [
      "Loop:  975\n",
      "\u001b[2m\u001b[36m(RolloutWorker pid=15280)\u001b[0m reset triggered\n",
      "\u001b[2m\u001b[36m(RolloutWorker pid=15280)\u001b[0m reload save for track : 4\n"
     ]
    },
    {
     "name": "stderr",
     "output_type": "stream",
     "text": [
      "\u001b[2m\u001b[36m(RolloutWorker pid=15280)\u001b[0m c:\\Users\\nadir\\anaconda3\\envs\\GTAI2\\lib\\site-packages\\rtgym\\envs\\real_time_env.py:376: UserWarning: Time-step timed out. Elapsed since last time-step: 0.14974029991935822\n",
      "\u001b[2m\u001b[36m(RolloutWorker pid=15280)\u001b[0m   warnings.warn(f\"Time-step timed out. Elapsed since last time-step: {now - self.__t_end}\")\n"
     ]
    },
    {
     "name": "stdout",
     "output_type": "stream",
     "text": [
      "Loop:  976\n",
      "Loop:  977\n",
      "\u001b[2m\u001b[36m(RolloutWorker pid=15280)\u001b[0m reset triggered\n",
      "\u001b[2m\u001b[36m(RolloutWorker pid=15280)\u001b[0m reload save for track : 4\n"
     ]
    },
    {
     "name": "stderr",
     "output_type": "stream",
     "text": [
      "\u001b[2m\u001b[36m(RolloutWorker pid=15280)\u001b[0m c:\\Users\\nadir\\anaconda3\\envs\\GTAI2\\lib\\site-packages\\rtgym\\envs\\real_time_env.py:376: UserWarning: Time-step timed out. Elapsed since last time-step: 0.14687639991825563\n",
      "\u001b[2m\u001b[36m(RolloutWorker pid=15280)\u001b[0m   warnings.warn(f\"Time-step timed out. Elapsed since last time-step: {now - self.__t_end}\")\n"
     ]
    },
    {
     "name": "stdout",
     "output_type": "stream",
     "text": [
      "Loop:  978\n",
      "\u001b[2m\u001b[36m(RolloutWorker pid=15280)\u001b[0m reset triggered\n",
      "\u001b[2m\u001b[36m(RolloutWorker pid=15280)\u001b[0m reload save for track : 4\n"
     ]
    },
    {
     "name": "stderr",
     "output_type": "stream",
     "text": [
      "\u001b[2m\u001b[36m(RolloutWorker pid=15280)\u001b[0m c:\\Users\\nadir\\anaconda3\\envs\\GTAI2\\lib\\site-packages\\rtgym\\envs\\real_time_env.py:376: UserWarning: Time-step timed out. Elapsed since last time-step: 0.1431381999191217\n",
      "\u001b[2m\u001b[36m(RolloutWorker pid=15280)\u001b[0m   warnings.warn(f\"Time-step timed out. Elapsed since last time-step: {now - self.__t_end}\")\n"
     ]
    },
    {
     "name": "stdout",
     "output_type": "stream",
     "text": [
      "Loop:  979\n",
      "Loop:  980\n",
      "Saved 980\n",
      "\u001b[2m\u001b[36m(RolloutWorker pid=15280)\u001b[0m reset triggered\n",
      "\u001b[2m\u001b[36m(RolloutWorker pid=15280)\u001b[0m reload save for track : 4\n"
     ]
    },
    {
     "name": "stderr",
     "output_type": "stream",
     "text": [
      "\u001b[2m\u001b[36m(RolloutWorker pid=15280)\u001b[0m c:\\Users\\nadir\\anaconda3\\envs\\GTAI2\\lib\\site-packages\\rtgym\\envs\\real_time_env.py:376: UserWarning: Time-step timed out. Elapsed since last time-step: 0.13746589991751534\n",
      "\u001b[2m\u001b[36m(RolloutWorker pid=15280)\u001b[0m   warnings.warn(f\"Time-step timed out. Elapsed since last time-step: {now - self.__t_end}\")\n"
     ]
    },
    {
     "name": "stdout",
     "output_type": "stream",
     "text": [
      "Loop:  981\n",
      "\u001b[2m\u001b[36m(RolloutWorker pid=15280)\u001b[0m reset triggered\n",
      "\u001b[2m\u001b[36m(RolloutWorker pid=15280)\u001b[0m reload save for track : 4\n"
     ]
    },
    {
     "name": "stderr",
     "output_type": "stream",
     "text": [
      "\u001b[2m\u001b[36m(RolloutWorker pid=15280)\u001b[0m c:\\Users\\nadir\\anaconda3\\envs\\GTAI2\\lib\\site-packages\\rtgym\\envs\\real_time_env.py:376: UserWarning: Time-step timed out. Elapsed since last time-step: 0.14237689991932712\n",
      "\u001b[2m\u001b[36m(RolloutWorker pid=15280)\u001b[0m   warnings.warn(f\"Time-step timed out. Elapsed since last time-step: {now - self.__t_end}\")\n"
     ]
    },
    {
     "name": "stdout",
     "output_type": "stream",
     "text": [
      "Loop:  982\n",
      "Loop:  983\n",
      "\u001b[2m\u001b[36m(RolloutWorker pid=15280)\u001b[0m reset triggered\n",
      "\u001b[2m\u001b[36m(RolloutWorker pid=15280)\u001b[0m reload save for track : 4\n"
     ]
    },
    {
     "name": "stderr",
     "output_type": "stream",
     "text": [
      "\u001b[2m\u001b[36m(RolloutWorker pid=15280)\u001b[0m c:\\Users\\nadir\\anaconda3\\envs\\GTAI2\\lib\\site-packages\\rtgym\\envs\\real_time_env.py:376: UserWarning: Time-step timed out. Elapsed since last time-step: 0.13759479991858825\n",
      "\u001b[2m\u001b[36m(RolloutWorker pid=15280)\u001b[0m   warnings.warn(f\"Time-step timed out. Elapsed since last time-step: {now - self.__t_end}\")\n"
     ]
    },
    {
     "name": "stdout",
     "output_type": "stream",
     "text": [
      "Loop:  984\n",
      "\u001b[2m\u001b[36m(RolloutWorker pid=15280)\u001b[0m reset triggered\n",
      "\u001b[2m\u001b[36m(RolloutWorker pid=15280)\u001b[0m reload save for track : 4\n"
     ]
    },
    {
     "name": "stderr",
     "output_type": "stream",
     "text": [
      "\u001b[2m\u001b[36m(RolloutWorker pid=15280)\u001b[0m c:\\Users\\nadir\\anaconda3\\envs\\GTAI2\\lib\\site-packages\\rtgym\\envs\\real_time_env.py:376: UserWarning: Time-step timed out. Elapsed since last time-step: 0.15231779991700023\n",
      "\u001b[2m\u001b[36m(RolloutWorker pid=15280)\u001b[0m   warnings.warn(f\"Time-step timed out. Elapsed since last time-step: {now - self.__t_end}\")\n"
     ]
    },
    {
     "name": "stdout",
     "output_type": "stream",
     "text": [
      "Loop:  985\n",
      "Loop:  986\n",
      "\u001b[2m\u001b[36m(RolloutWorker pid=15280)\u001b[0m reset triggered\n",
      "\u001b[2m\u001b[36m(RolloutWorker pid=15280)\u001b[0m reload save for track : 4\n"
     ]
    },
    {
     "name": "stderr",
     "output_type": "stream",
     "text": [
      "\u001b[2m\u001b[36m(RolloutWorker pid=15280)\u001b[0m c:\\Users\\nadir\\anaconda3\\envs\\GTAI2\\lib\\site-packages\\rtgym\\envs\\real_time_env.py:376: UserWarning: Time-step timed out. Elapsed since last time-step: 0.14024089992017252\n",
      "\u001b[2m\u001b[36m(RolloutWorker pid=15280)\u001b[0m   warnings.warn(f\"Time-step timed out. Elapsed since last time-step: {now - self.__t_end}\")\n"
     ]
    },
    {
     "name": "stdout",
     "output_type": "stream",
     "text": [
      "Loop:  987\n",
      "\u001b[2m\u001b[36m(RolloutWorker pid=15280)\u001b[0m reset triggered\n",
      "\u001b[2m\u001b[36m(RolloutWorker pid=15280)\u001b[0m reload save for track : 4\n"
     ]
    },
    {
     "name": "stderr",
     "output_type": "stream",
     "text": [
      "\u001b[2m\u001b[36m(RolloutWorker pid=15280)\u001b[0m c:\\Users\\nadir\\anaconda3\\envs\\GTAI2\\lib\\site-packages\\rtgym\\envs\\real_time_env.py:376: UserWarning: Time-step timed out. Elapsed since last time-step: 0.1481559999174351\n",
      "\u001b[2m\u001b[36m(RolloutWorker pid=15280)\u001b[0m   warnings.warn(f\"Time-step timed out. Elapsed since last time-step: {now - self.__t_end}\")\n"
     ]
    },
    {
     "name": "stdout",
     "output_type": "stream",
     "text": [
      "Loop:  988\n",
      "\u001b[2m\u001b[36m(RolloutWorker pid=15280)\u001b[0m reset triggered\n",
      "\u001b[2m\u001b[36m(RolloutWorker pid=15280)\u001b[0m reload save for track : 4\n"
     ]
    },
    {
     "name": "stderr",
     "output_type": "stream",
     "text": [
      "\u001b[2m\u001b[36m(RolloutWorker pid=15280)\u001b[0m c:\\Users\\nadir\\anaconda3\\envs\\GTAI2\\lib\\site-packages\\rtgym\\envs\\real_time_env.py:376: UserWarning: Time-step timed out. Elapsed since last time-step: 0.1421975999182905\n",
      "\u001b[2m\u001b[36m(RolloutWorker pid=15280)\u001b[0m   warnings.warn(f\"Time-step timed out. Elapsed since last time-step: {now - self.__t_end}\")\n"
     ]
    },
    {
     "name": "stdout",
     "output_type": "stream",
     "text": [
      "Loop:  989\n",
      "Loop:  990\n",
      "Saved 990\n",
      "\u001b[2m\u001b[36m(RolloutWorker pid=15280)\u001b[0m reset triggered\n",
      "\u001b[2m\u001b[36m(RolloutWorker pid=15280)\u001b[0m reload save for track : 4\n"
     ]
    },
    {
     "name": "stderr",
     "output_type": "stream",
     "text": [
      "\u001b[2m\u001b[36m(RolloutWorker pid=15280)\u001b[0m c:\\Users\\nadir\\anaconda3\\envs\\GTAI2\\lib\\site-packages\\rtgym\\envs\\real_time_env.py:376: UserWarning: Time-step timed out. Elapsed since last time-step: 0.13739259991962172\n",
      "\u001b[2m\u001b[36m(RolloutWorker pid=15280)\u001b[0m   warnings.warn(f\"Time-step timed out. Elapsed since last time-step: {now - self.__t_end}\")\n"
     ]
    },
    {
     "name": "stdout",
     "output_type": "stream",
     "text": [
      "Loop:  991\n",
      "\u001b[2m\u001b[36m(RolloutWorker pid=15280)\u001b[0m reset triggered\n",
      "\u001b[2m\u001b[36m(RolloutWorker pid=15280)\u001b[0m reload save for track : 4\n"
     ]
    },
    {
     "name": "stderr",
     "output_type": "stream",
     "text": [
      "\u001b[2m\u001b[36m(RolloutWorker pid=15280)\u001b[0m c:\\Users\\nadir\\anaconda3\\envs\\GTAI2\\lib\\site-packages\\rtgym\\envs\\real_time_env.py:376: UserWarning: Time-step timed out. Elapsed since last time-step: 0.1627188999173086\n",
      "\u001b[2m\u001b[36m(RolloutWorker pid=15280)\u001b[0m   warnings.warn(f\"Time-step timed out. Elapsed since last time-step: {now - self.__t_end}\")\n"
     ]
    },
    {
     "name": "stdout",
     "output_type": "stream",
     "text": [
      "Loop:  992\n",
      "Loop:  993\n",
      "\u001b[2m\u001b[36m(RolloutWorker pid=15280)\u001b[0m reset triggered\n",
      "\u001b[2m\u001b[36m(RolloutWorker pid=15280)\u001b[0m reload save for track : 4\n"
     ]
    },
    {
     "name": "stderr",
     "output_type": "stream",
     "text": [
      "\u001b[2m\u001b[36m(RolloutWorker pid=15280)\u001b[0m c:\\Users\\nadir\\anaconda3\\envs\\GTAI2\\lib\\site-packages\\rtgym\\envs\\real_time_env.py:376: UserWarning: Time-step timed out. Elapsed since last time-step: 0.16031999991901102\n",
      "\u001b[2m\u001b[36m(RolloutWorker pid=15280)\u001b[0m   warnings.warn(f\"Time-step timed out. Elapsed since last time-step: {now - self.__t_end}\")\n"
     ]
    },
    {
     "name": "stdout",
     "output_type": "stream",
     "text": [
      "Loop:  994\n",
      "\u001b[2m\u001b[36m(RolloutWorker pid=15280)\u001b[0m reset triggered\n",
      "\u001b[2m\u001b[36m(RolloutWorker pid=15280)\u001b[0m reload save for track : 4\n"
     ]
    },
    {
     "name": "stderr",
     "output_type": "stream",
     "text": [
      "\u001b[2m\u001b[36m(RolloutWorker pid=15280)\u001b[0m c:\\Users\\nadir\\anaconda3\\envs\\GTAI2\\lib\\site-packages\\rtgym\\envs\\real_time_env.py:376: UserWarning: Time-step timed out. Elapsed since last time-step: 0.15659439991941326\n",
      "\u001b[2m\u001b[36m(RolloutWorker pid=15280)\u001b[0m   warnings.warn(f\"Time-step timed out. Elapsed since last time-step: {now - self.__t_end}\")\n"
     ]
    },
    {
     "name": "stdout",
     "output_type": "stream",
     "text": [
      "Loop:  995\n",
      "Loop:  996\n",
      "\u001b[2m\u001b[36m(RolloutWorker pid=15280)\u001b[0m reset triggered\n",
      "\u001b[2m\u001b[36m(RolloutWorker pid=15280)\u001b[0m reload save for track : 4\n"
     ]
    },
    {
     "name": "stderr",
     "output_type": "stream",
     "text": [
      "\u001b[2m\u001b[36m(RolloutWorker pid=15280)\u001b[0m c:\\Users\\nadir\\anaconda3\\envs\\GTAI2\\lib\\site-packages\\rtgym\\envs\\real_time_env.py:376: UserWarning: Time-step timed out. Elapsed since last time-step: 0.14229679991694866\n",
      "\u001b[2m\u001b[36m(RolloutWorker pid=15280)\u001b[0m   warnings.warn(f\"Time-step timed out. Elapsed since last time-step: {now - self.__t_end}\")\n"
     ]
    },
    {
     "name": "stdout",
     "output_type": "stream",
     "text": [
      "Loop:  997\n",
      "\u001b[2m\u001b[36m(RolloutWorker pid=15280)\u001b[0m reset triggered\n",
      "\u001b[2m\u001b[36m(RolloutWorker pid=15280)\u001b[0m reload save for track : 4\n"
     ]
    },
    {
     "name": "stderr",
     "output_type": "stream",
     "text": [
      "\u001b[2m\u001b[36m(RolloutWorker pid=15280)\u001b[0m c:\\Users\\nadir\\anaconda3\\envs\\GTAI2\\lib\\site-packages\\rtgym\\envs\\real_time_env.py:376: UserWarning: Time-step timed out. Elapsed since last time-step: 0.15082559991969902\n",
      "\u001b[2m\u001b[36m(RolloutWorker pid=15280)\u001b[0m   warnings.warn(f\"Time-step timed out. Elapsed since last time-step: {now - self.__t_end}\")\n"
     ]
    },
    {
     "name": "stdout",
     "output_type": "stream",
     "text": [
      "Loop:  998\n",
      "Loop:  999\n",
      "\u001b[2m\u001b[36m(RolloutWorker pid=15280)\u001b[0m reset triggered\n",
      "\u001b[2m\u001b[36m(RolloutWorker pid=15280)\u001b[0m reload save for track : 4\n"
     ]
    },
    {
     "name": "stderr",
     "output_type": "stream",
     "text": [
      "\u001b[2m\u001b[36m(RolloutWorker pid=15280)\u001b[0m c:\\Users\\nadir\\anaconda3\\envs\\GTAI2\\lib\\site-packages\\rtgym\\envs\\real_time_env.py:376: UserWarning: Time-step timed out. Elapsed since last time-step: 0.1577736999188346\n",
      "\u001b[2m\u001b[36m(RolloutWorker pid=15280)\u001b[0m   warnings.warn(f\"Time-step timed out. Elapsed since last time-step: {now - self.__t_end}\")\n"
     ]
    },
    {
     "name": "stdout",
     "output_type": "stream",
     "text": [
      "Loop:  1000\n",
      "Saved 1000\n",
      "\u001b[2m\u001b[36m(RolloutWorker pid=15280)\u001b[0m reset triggered\n",
      "\u001b[2m\u001b[36m(RolloutWorker pid=15280)\u001b[0m reload save for track : 4\n"
     ]
    },
    {
     "name": "stderr",
     "output_type": "stream",
     "text": [
      "\u001b[2m\u001b[36m(RolloutWorker pid=15280)\u001b[0m c:\\Users\\nadir\\anaconda3\\envs\\GTAI2\\lib\\site-packages\\rtgym\\envs\\real_time_env.py:376: UserWarning: Time-step timed out. Elapsed since last time-step: 0.15955399991798913\n",
      "\u001b[2m\u001b[36m(RolloutWorker pid=15280)\u001b[0m   warnings.warn(f\"Time-step timed out. Elapsed since last time-step: {now - self.__t_end}\")\n"
     ]
    },
    {
     "name": "stdout",
     "output_type": "stream",
     "text": [
      "Loop:  1001\n",
      "\u001b[2m\u001b[36m(RolloutWorker pid=15280)\u001b[0m reset triggered\n",
      "\u001b[2m\u001b[36m(RolloutWorker pid=15280)\u001b[0m reload save for track : 4\n"
     ]
    },
    {
     "name": "stderr",
     "output_type": "stream",
     "text": [
      "\u001b[2m\u001b[36m(RolloutWorker pid=15280)\u001b[0m c:\\Users\\nadir\\anaconda3\\envs\\GTAI2\\lib\\site-packages\\rtgym\\envs\\real_time_env.py:376: UserWarning: Time-step timed out. Elapsed since last time-step: 0.15868719991885882\n",
      "\u001b[2m\u001b[36m(RolloutWorker pid=15280)\u001b[0m   warnings.warn(f\"Time-step timed out. Elapsed since last time-step: {now - self.__t_end}\")\n"
     ]
    },
    {
     "name": "stdout",
     "output_type": "stream",
     "text": [
      "Loop:  1002\n",
      "Loop:  1003\n",
      "\u001b[2m\u001b[36m(RolloutWorker pid=15280)\u001b[0m reset triggered\n",
      "\u001b[2m\u001b[36m(RolloutWorker pid=15280)\u001b[0m reload save for track : 4\n"
     ]
    },
    {
     "name": "stderr",
     "output_type": "stream",
     "text": [
      "\u001b[2m\u001b[36m(RolloutWorker pid=15280)\u001b[0m c:\\Users\\nadir\\anaconda3\\envs\\GTAI2\\lib\\site-packages\\rtgym\\envs\\real_time_env.py:376: UserWarning: Time-step timed out. Elapsed since last time-step: 0.15149879991804482\n",
      "\u001b[2m\u001b[36m(RolloutWorker pid=15280)\u001b[0m   warnings.warn(f\"Time-step timed out. Elapsed since last time-step: {now - self.__t_end}\")\n"
     ]
    },
    {
     "name": "stdout",
     "output_type": "stream",
     "text": [
      "Loop:  1004\n",
      "\u001b[2m\u001b[36m(RolloutWorker pid=15280)\u001b[0m reset triggered\n",
      "\u001b[2m\u001b[36m(RolloutWorker pid=15280)\u001b[0m reload save for track : 4\n"
     ]
    },
    {
     "name": "stderr",
     "output_type": "stream",
     "text": [
      "\u001b[2m\u001b[36m(RolloutWorker pid=15280)\u001b[0m c:\\Users\\nadir\\anaconda3\\envs\\GTAI2\\lib\\site-packages\\rtgym\\envs\\real_time_env.py:376: UserWarning: Time-step timed out. Elapsed since last time-step: 0.13271589991927613\n",
      "\u001b[2m\u001b[36m(RolloutWorker pid=15280)\u001b[0m   warnings.warn(f\"Time-step timed out. Elapsed since last time-step: {now - self.__t_end}\")\n"
     ]
    },
    {
     "name": "stdout",
     "output_type": "stream",
     "text": [
      "Loop:  1005\n",
      "Loop:  1006\n",
      "\u001b[2m\u001b[36m(RolloutWorker pid=15280)\u001b[0m reset triggered\n",
      "\u001b[2m\u001b[36m(RolloutWorker pid=15280)\u001b[0m reload save for track : 4\n"
     ]
    },
    {
     "name": "stderr",
     "output_type": "stream",
     "text": [
      "\u001b[2m\u001b[36m(RolloutWorker pid=15280)\u001b[0m c:\\Users\\nadir\\anaconda3\\envs\\GTAI2\\lib\\site-packages\\rtgym\\envs\\real_time_env.py:376: UserWarning: Time-step timed out. Elapsed since last time-step: 0.1500706999177055\n",
      "\u001b[2m\u001b[36m(RolloutWorker pid=15280)\u001b[0m   warnings.warn(f\"Time-step timed out. Elapsed since last time-step: {now - self.__t_end}\")\n"
     ]
    },
    {
     "name": "stdout",
     "output_type": "stream",
     "text": [
      "Loop:  1007\n",
      "\u001b[2m\u001b[36m(RolloutWorker pid=15280)\u001b[0m reset triggered\n",
      "\u001b[2m\u001b[36m(RolloutWorker pid=15280)\u001b[0m reload save for track : 4\n"
     ]
    },
    {
     "name": "stderr",
     "output_type": "stream",
     "text": [
      "\u001b[2m\u001b[36m(RolloutWorker pid=15280)\u001b[0m c:\\Users\\nadir\\anaconda3\\envs\\GTAI2\\lib\\site-packages\\rtgym\\envs\\real_time_env.py:376: UserWarning: Time-step timed out. Elapsed since last time-step: 0.14743209991866024\n",
      "\u001b[2m\u001b[36m(RolloutWorker pid=15280)\u001b[0m   warnings.warn(f\"Time-step timed out. Elapsed since last time-step: {now - self.__t_end}\")\n"
     ]
    },
    {
     "name": "stdout",
     "output_type": "stream",
     "text": [
      "Loop:  1008\n",
      "Loop:  1009\n",
      "\u001b[2m\u001b[36m(RolloutWorker pid=15280)\u001b[0m reset triggered\n",
      "\u001b[2m\u001b[36m(RolloutWorker pid=15280)\u001b[0m reload save for track : 4\n"
     ]
    },
    {
     "name": "stderr",
     "output_type": "stream",
     "text": [
      "\u001b[2m\u001b[36m(RolloutWorker pid=15280)\u001b[0m c:\\Users\\nadir\\anaconda3\\envs\\GTAI2\\lib\\site-packages\\rtgym\\envs\\real_time_env.py:376: UserWarning: Time-step timed out. Elapsed since last time-step: 0.1527398999187426\n",
      "\u001b[2m\u001b[36m(RolloutWorker pid=15280)\u001b[0m   warnings.warn(f\"Time-step timed out. Elapsed since last time-step: {now - self.__t_end}\")\n"
     ]
    },
    {
     "name": "stdout",
     "output_type": "stream",
     "text": [
      "Loop:  1010\n",
      "Saved 1010\n",
      "\u001b[2m\u001b[36m(RolloutWorker pid=15280)\u001b[0m reset triggered\n",
      "\u001b[2m\u001b[36m(RolloutWorker pid=15280)\u001b[0m reload save for track : 4\n"
     ]
    },
    {
     "name": "stderr",
     "output_type": "stream",
     "text": [
      "\u001b[2m\u001b[36m(RolloutWorker pid=15280)\u001b[0m c:\\Users\\nadir\\anaconda3\\envs\\GTAI2\\lib\\site-packages\\rtgym\\envs\\real_time_env.py:376: UserWarning: Time-step timed out. Elapsed since last time-step: 0.15001709991884127\n",
      "\u001b[2m\u001b[36m(RolloutWorker pid=15280)\u001b[0m   warnings.warn(f\"Time-step timed out. Elapsed since last time-step: {now - self.__t_end}\")\n"
     ]
    },
    {
     "name": "stdout",
     "output_type": "stream",
     "text": [
      "Loop:  1011\n",
      "Loop:  1012\n",
      "\u001b[2m\u001b[36m(RolloutWorker pid=15280)\u001b[0m reset triggered\n",
      "\u001b[2m\u001b[36m(RolloutWorker pid=15280)\u001b[0m reload save for track : 4\n"
     ]
    },
    {
     "name": "stderr",
     "output_type": "stream",
     "text": [
      "\u001b[2m\u001b[36m(RolloutWorker pid=15280)\u001b[0m c:\\Users\\nadir\\anaconda3\\envs\\GTAI2\\lib\\site-packages\\rtgym\\envs\\real_time_env.py:376: UserWarning: Time-step timed out. Elapsed since last time-step: 0.14779859991722333\n",
      "\u001b[2m\u001b[36m(RolloutWorker pid=15280)\u001b[0m   warnings.warn(f\"Time-step timed out. Elapsed since last time-step: {now - self.__t_end}\")\n"
     ]
    },
    {
     "name": "stdout",
     "output_type": "stream",
     "text": [
      "Loop:  1013\n",
      "\u001b[2m\u001b[36m(RolloutWorker pid=15280)\u001b[0m reset triggered\n",
      "\u001b[2m\u001b[36m(RolloutWorker pid=15280)\u001b[0m reload save for track : 4\n"
     ]
    },
    {
     "name": "stderr",
     "output_type": "stream",
     "text": [
      "\u001b[2m\u001b[36m(RolloutWorker pid=15280)\u001b[0m c:\\Users\\nadir\\anaconda3\\envs\\GTAI2\\lib\\site-packages\\rtgym\\envs\\real_time_env.py:376: UserWarning: Time-step timed out. Elapsed since last time-step: 0.13219649991879123\n",
      "\u001b[2m\u001b[36m(RolloutWorker pid=15280)\u001b[0m   warnings.warn(f\"Time-step timed out. Elapsed since last time-step: {now - self.__t_end}\")\n"
     ]
    },
    {
     "name": "stdout",
     "output_type": "stream",
     "text": [
      "Loop:  1014\n",
      "\u001b[2m\u001b[36m(RolloutWorker pid=15280)\u001b[0m reset triggered\n",
      "\u001b[2m\u001b[36m(RolloutWorker pid=15280)\u001b[0m reload save for track : 4\n"
     ]
    },
    {
     "name": "stderr",
     "output_type": "stream",
     "text": [
      "\u001b[2m\u001b[36m(RolloutWorker pid=15280)\u001b[0m c:\\Users\\nadir\\anaconda3\\envs\\GTAI2\\lib\\site-packages\\rtgym\\envs\\real_time_env.py:376: UserWarning: Time-step timed out. Elapsed since last time-step: 0.1475355999191379\n",
      "\u001b[2m\u001b[36m(RolloutWorker pid=15280)\u001b[0m   warnings.warn(f\"Time-step timed out. Elapsed since last time-step: {now - self.__t_end}\")\n"
     ]
    },
    {
     "name": "stdout",
     "output_type": "stream",
     "text": [
      "Loop:  1015\n",
      "Loop:  1016\n",
      "\u001b[2m\u001b[36m(RolloutWorker pid=15280)\u001b[0m reset triggered\n",
      "\u001b[2m\u001b[36m(RolloutWorker pid=15280)\u001b[0m reload save for track : 4\n"
     ]
    },
    {
     "name": "stderr",
     "output_type": "stream",
     "text": [
      "\u001b[2m\u001b[36m(RolloutWorker pid=15280)\u001b[0m c:\\Users\\nadir\\anaconda3\\envs\\GTAI2\\lib\\site-packages\\rtgym\\envs\\real_time_env.py:376: UserWarning: Time-step timed out. Elapsed since last time-step: 0.16247969991854916\n",
      "\u001b[2m\u001b[36m(RolloutWorker pid=15280)\u001b[0m   warnings.warn(f\"Time-step timed out. Elapsed since last time-step: {now - self.__t_end}\")\n"
     ]
    },
    {
     "name": "stdout",
     "output_type": "stream",
     "text": [
      "Loop:  1017\n",
      "\u001b[2m\u001b[36m(RolloutWorker pid=15280)\u001b[0m reset triggered\n",
      "\u001b[2m\u001b[36m(RolloutWorker pid=15280)\u001b[0m reload save for track : 4\n"
     ]
    },
    {
     "name": "stderr",
     "output_type": "stream",
     "text": [
      "\u001b[2m\u001b[36m(RolloutWorker pid=15280)\u001b[0m c:\\Users\\nadir\\anaconda3\\envs\\GTAI2\\lib\\site-packages\\rtgym\\envs\\real_time_env.py:376: UserWarning: Time-step timed out. Elapsed since last time-step: 0.14008689991715073\n",
      "\u001b[2m\u001b[36m(RolloutWorker pid=15280)\u001b[0m   warnings.warn(f\"Time-step timed out. Elapsed since last time-step: {now - self.__t_end}\")\n"
     ]
    },
    {
     "name": "stdout",
     "output_type": "stream",
     "text": [
      "Loop:  1018\n",
      "Loop:  1019\n",
      "\u001b[2m\u001b[36m(RolloutWorker pid=15280)\u001b[0m reset triggered\n",
      "\u001b[2m\u001b[36m(RolloutWorker pid=15280)\u001b[0m reload save for track : 4\n"
     ]
    },
    {
     "name": "stderr",
     "output_type": "stream",
     "text": [
      "\u001b[2m\u001b[36m(RolloutWorker pid=15280)\u001b[0m c:\\Users\\nadir\\anaconda3\\envs\\GTAI2\\lib\\site-packages\\rtgym\\envs\\real_time_env.py:376: UserWarning: Time-step timed out. Elapsed since last time-step: 0.13418379991890106\n",
      "\u001b[2m\u001b[36m(RolloutWorker pid=15280)\u001b[0m   warnings.warn(f\"Time-step timed out. Elapsed since last time-step: {now - self.__t_end}\")\n"
     ]
    },
    {
     "name": "stdout",
     "output_type": "stream",
     "text": [
      "Loop:  1020\n",
      "Saved 1020\n",
      "\u001b[2m\u001b[36m(RolloutWorker pid=15280)\u001b[0m reset triggered\n",
      "\u001b[2m\u001b[36m(RolloutWorker pid=15280)\u001b[0m reload save for track : 4\n"
     ]
    },
    {
     "name": "stderr",
     "output_type": "stream",
     "text": [
      "\u001b[2m\u001b[36m(RolloutWorker pid=15280)\u001b[0m c:\\Users\\nadir\\anaconda3\\envs\\GTAI2\\lib\\site-packages\\rtgym\\envs\\real_time_env.py:376: UserWarning: Time-step timed out. Elapsed since last time-step: 0.14613539991842117\n",
      "\u001b[2m\u001b[36m(RolloutWorker pid=15280)\u001b[0m   warnings.warn(f\"Time-step timed out. Elapsed since last time-step: {now - self.__t_end}\")\n"
     ]
    },
    {
     "name": "stdout",
     "output_type": "stream",
     "text": [
      "Loop:  1021\n",
      "Loop:  1022\n",
      "\u001b[2m\u001b[36m(RolloutWorker pid=15280)\u001b[0m reset triggered\n",
      "\u001b[2m\u001b[36m(RolloutWorker pid=15280)\u001b[0m reload save for track : 4\n"
     ]
    },
    {
     "name": "stderr",
     "output_type": "stream",
     "text": [
      "\u001b[2m\u001b[36m(RolloutWorker pid=15280)\u001b[0m c:\\Users\\nadir\\anaconda3\\envs\\GTAI2\\lib\\site-packages\\rtgym\\envs\\real_time_env.py:376: UserWarning: Time-step timed out. Elapsed since last time-step: 0.13024329991822015\n",
      "\u001b[2m\u001b[36m(RolloutWorker pid=15280)\u001b[0m   warnings.warn(f\"Time-step timed out. Elapsed since last time-step: {now - self.__t_end}\")\n"
     ]
    },
    {
     "name": "stdout",
     "output_type": "stream",
     "text": [
      "Loop:  1023\n",
      "\u001b[2m\u001b[36m(RolloutWorker pid=15280)\u001b[0m reset triggered\n",
      "\u001b[2m\u001b[36m(RolloutWorker pid=15280)\u001b[0m reload save for track : 4\n"
     ]
    },
    {
     "name": "stderr",
     "output_type": "stream",
     "text": [
      "\u001b[2m\u001b[36m(RolloutWorker pid=15280)\u001b[0m c:\\Users\\nadir\\anaconda3\\envs\\GTAI2\\lib\\site-packages\\rtgym\\envs\\real_time_env.py:376: UserWarning: Time-step timed out. Elapsed since last time-step: 0.13648309991913266\n",
      "\u001b[2m\u001b[36m(RolloutWorker pid=15280)\u001b[0m   warnings.warn(f\"Time-step timed out. Elapsed since last time-step: {now - self.__t_end}\")\n"
     ]
    },
    {
     "name": "stdout",
     "output_type": "stream",
     "text": [
      "Loop:  1024\n",
      "Loop:  1025\n",
      "\u001b[2m\u001b[36m(RolloutWorker pid=15280)\u001b[0m reset triggered\n",
      "\u001b[2m\u001b[36m(RolloutWorker pid=15280)\u001b[0m reload save for track : 4\n"
     ]
    },
    {
     "name": "stderr",
     "output_type": "stream",
     "text": [
      "\u001b[2m\u001b[36m(RolloutWorker pid=15280)\u001b[0m c:\\Users\\nadir\\anaconda3\\envs\\GTAI2\\lib\\site-packages\\rtgym\\envs\\real_time_env.py:376: UserWarning: Time-step timed out. Elapsed since last time-step: 0.13323029991806834\n",
      "\u001b[2m\u001b[36m(RolloutWorker pid=15280)\u001b[0m   warnings.warn(f\"Time-step timed out. Elapsed since last time-step: {now - self.__t_end}\")\n"
     ]
    },
    {
     "name": "stdout",
     "output_type": "stream",
     "text": [
      "Loop:  1026\n",
      "\u001b[2m\u001b[36m(RolloutWorker pid=15280)\u001b[0m reset triggered\n",
      "\u001b[2m\u001b[36m(RolloutWorker pid=15280)\u001b[0m reload save for track : 4\n"
     ]
    },
    {
     "name": "stderr",
     "output_type": "stream",
     "text": [
      "\u001b[2m\u001b[36m(RolloutWorker pid=15280)\u001b[0m c:\\Users\\nadir\\anaconda3\\envs\\GTAI2\\lib\\site-packages\\rtgym\\envs\\real_time_env.py:376: UserWarning: Time-step timed out. Elapsed since last time-step: 0.13995989991963143\n",
      "\u001b[2m\u001b[36m(RolloutWorker pid=15280)\u001b[0m   warnings.warn(f\"Time-step timed out. Elapsed since last time-step: {now - self.__t_end}\")\n"
     ]
    },
    {
     "name": "stdout",
     "output_type": "stream",
     "text": [
      "Loop:  1027\n",
      "\u001b[2m\u001b[36m(RolloutWorker pid=15280)\u001b[0m reset triggered\n",
      "\u001b[2m\u001b[36m(RolloutWorker pid=15280)\u001b[0m reload save for track : 4\n"
     ]
    },
    {
     "name": "stderr",
     "output_type": "stream",
     "text": [
      "\u001b[2m\u001b[36m(RolloutWorker pid=15280)\u001b[0m c:\\Users\\nadir\\anaconda3\\envs\\GTAI2\\lib\\site-packages\\rtgym\\envs\\real_time_env.py:376: UserWarning: Time-step timed out. Elapsed since last time-step: 0.14003249991765188\n",
      "\u001b[2m\u001b[36m(RolloutWorker pid=15280)\u001b[0m   warnings.warn(f\"Time-step timed out. Elapsed since last time-step: {now - self.__t_end}\")\n"
     ]
    },
    {
     "name": "stdout",
     "output_type": "stream",
     "text": [
      "Loop:  1028\n",
      "Loop:  1029\n",
      "\u001b[2m\u001b[36m(RolloutWorker pid=15280)\u001b[0m reset triggered\n",
      "\u001b[2m\u001b[36m(RolloutWorker pid=15280)\u001b[0m reload save for track : 4\n"
     ]
    },
    {
     "name": "stderr",
     "output_type": "stream",
     "text": [
      "\u001b[2m\u001b[36m(RolloutWorker pid=15280)\u001b[0m c:\\Users\\nadir\\anaconda3\\envs\\GTAI2\\lib\\site-packages\\rtgym\\envs\\real_time_env.py:376: UserWarning: Time-step timed out. Elapsed since last time-step: 0.15160739991915761\n",
      "\u001b[2m\u001b[36m(RolloutWorker pid=15280)\u001b[0m   warnings.warn(f\"Time-step timed out. Elapsed since last time-step: {now - self.__t_end}\")\n"
     ]
    },
    {
     "name": "stdout",
     "output_type": "stream",
     "text": [
      "Loop:  1030\n",
      "Saved 1030\n"
     ]
    },
    {
     "name": "stderr",
     "output_type": "stream",
     "text": [
      "\u001b[2m\u001b[36m(RolloutWorker pid=15280)\u001b[0m c:\\Users\\nadir\\anaconda3\\envs\\GTAI2\\lib\\site-packages\\rtgym\\envs\\real_time_env.py:376: UserWarning: Time-step timed out. Elapsed since last time-step: 0.13950169993040618\n",
      "\u001b[2m\u001b[36m(RolloutWorker pid=15280)\u001b[0m   warnings.warn(f\"Time-step timed out. Elapsed since last time-step: {now - self.__t_end}\")\n"
     ]
    },
    {
     "name": "stdout",
     "output_type": "stream",
     "text": [
      "\u001b[2m\u001b[36m(RolloutWorker pid=15280)\u001b[0m reset triggered\n",
      "\u001b[2m\u001b[36m(RolloutWorker pid=15280)\u001b[0m reload save for track : 4\n"
     ]
    },
    {
     "name": "stderr",
     "output_type": "stream",
     "text": [
      "\u001b[2m\u001b[36m(RolloutWorker pid=15280)\u001b[0m c:\\Users\\nadir\\anaconda3\\envs\\GTAI2\\lib\\site-packages\\rtgym\\envs\\real_time_env.py:376: UserWarning: Time-step timed out. Elapsed since last time-step: 0.15847229998871626\n",
      "\u001b[2m\u001b[36m(RolloutWorker pid=15280)\u001b[0m   warnings.warn(f\"Time-step timed out. Elapsed since last time-step: {now - self.__t_end}\")\n"
     ]
    },
    {
     "name": "stdout",
     "output_type": "stream",
     "text": [
      "Loop:  1031\n",
      "Loop:  1032\n",
      "\u001b[2m\u001b[36m(RolloutWorker pid=15280)\u001b[0m reset triggered\n",
      "\u001b[2m\u001b[36m(RolloutWorker pid=15280)\u001b[0m reload save for track : 4\n"
     ]
    },
    {
     "name": "stderr",
     "output_type": "stream",
     "text": [
      "\u001b[2m\u001b[36m(RolloutWorker pid=15280)\u001b[0m c:\\Users\\nadir\\anaconda3\\envs\\GTAI2\\lib\\site-packages\\rtgym\\envs\\real_time_env.py:376: UserWarning: Time-step timed out. Elapsed since last time-step: 0.1505515999178897\n",
      "\u001b[2m\u001b[36m(RolloutWorker pid=15280)\u001b[0m   warnings.warn(f\"Time-step timed out. Elapsed since last time-step: {now - self.__t_end}\")\n"
     ]
    },
    {
     "name": "stdout",
     "output_type": "stream",
     "text": [
      "Loop:  1033\n",
      "\u001b[2m\u001b[36m(RolloutWorker pid=15280)\u001b[0m reset triggered\n",
      "\u001b[2m\u001b[36m(RolloutWorker pid=15280)\u001b[0m reload save for track : 4\n"
     ]
    },
    {
     "name": "stderr",
     "output_type": "stream",
     "text": [
      "\u001b[2m\u001b[36m(RolloutWorker pid=15280)\u001b[0m c:\\Users\\nadir\\anaconda3\\envs\\GTAI2\\lib\\site-packages\\rtgym\\envs\\real_time_env.py:376: UserWarning: Time-step timed out. Elapsed since last time-step: 0.14782969991756545\n",
      "\u001b[2m\u001b[36m(RolloutWorker pid=15280)\u001b[0m   warnings.warn(f\"Time-step timed out. Elapsed since last time-step: {now - self.__t_end}\")\n"
     ]
    },
    {
     "name": "stdout",
     "output_type": "stream",
     "text": [
      "Loop:  1034\n",
      "Loop:  1035\n",
      "\u001b[2m\u001b[36m(RolloutWorker pid=15280)\u001b[0m reset triggered\n",
      "\u001b[2m\u001b[36m(RolloutWorker pid=15280)\u001b[0m reload save for track : 4\n"
     ]
    },
    {
     "name": "stderr",
     "output_type": "stream",
     "text": [
      "\u001b[2m\u001b[36m(RolloutWorker pid=15280)\u001b[0m c:\\Users\\nadir\\anaconda3\\envs\\GTAI2\\lib\\site-packages\\rtgym\\envs\\real_time_env.py:376: UserWarning: Time-step timed out. Elapsed since last time-step: 0.1417824999189179\n",
      "\u001b[2m\u001b[36m(RolloutWorker pid=15280)\u001b[0m   warnings.warn(f\"Time-step timed out. Elapsed since last time-step: {now - self.__t_end}\")\n"
     ]
    },
    {
     "name": "stdout",
     "output_type": "stream",
     "text": [
      "Loop:  1036\n",
      "\u001b[2m\u001b[36m(RolloutWorker pid=15280)\u001b[0m reset triggered\n",
      "\u001b[2m\u001b[36m(RolloutWorker pid=15280)\u001b[0m reload save for track : 4\n"
     ]
    },
    {
     "name": "stderr",
     "output_type": "stream",
     "text": [
      "\u001b[2m\u001b[36m(RolloutWorker pid=15280)\u001b[0m c:\\Users\\nadir\\anaconda3\\envs\\GTAI2\\lib\\site-packages\\rtgym\\envs\\real_time_env.py:376: UserWarning: Time-step timed out. Elapsed since last time-step: 0.15738049991887237\n",
      "\u001b[2m\u001b[36m(RolloutWorker pid=15280)\u001b[0m   warnings.warn(f\"Time-step timed out. Elapsed since last time-step: {now - self.__t_end}\")\n"
     ]
    },
    {
     "name": "stdout",
     "output_type": "stream",
     "text": [
      "Loop:  1037\n",
      "Loop:  1038\n",
      "\u001b[2m\u001b[36m(RolloutWorker pid=15280)\u001b[0m reset triggered\n",
      "\u001b[2m\u001b[36m(RolloutWorker pid=15280)\u001b[0m reload save for track : 4\n"
     ]
    },
    {
     "name": "stderr",
     "output_type": "stream",
     "text": [
      "\u001b[2m\u001b[36m(RolloutWorker pid=15280)\u001b[0m c:\\Users\\nadir\\anaconda3\\envs\\GTAI2\\lib\\site-packages\\rtgym\\envs\\real_time_env.py:376: UserWarning: Time-step timed out. Elapsed since last time-step: 0.16129559991895803\n",
      "\u001b[2m\u001b[36m(RolloutWorker pid=15280)\u001b[0m   warnings.warn(f\"Time-step timed out. Elapsed since last time-step: {now - self.__t_end}\")\n"
     ]
    },
    {
     "name": "stdout",
     "output_type": "stream",
     "text": [
      "Loop:  1039\n",
      "\u001b[2m\u001b[36m(RolloutWorker pid=15280)\u001b[0m reset triggered\n",
      "\u001b[2m\u001b[36m(RolloutWorker pid=15280)\u001b[0m reload save for track : 4\n"
     ]
    },
    {
     "name": "stderr",
     "output_type": "stream",
     "text": [
      "\u001b[2m\u001b[36m(RolloutWorker pid=15280)\u001b[0m c:\\Users\\nadir\\anaconda3\\envs\\GTAI2\\lib\\site-packages\\rtgym\\envs\\real_time_env.py:376: UserWarning: Time-step timed out. Elapsed since last time-step: 0.1518849999174563\n",
      "\u001b[2m\u001b[36m(RolloutWorker pid=15280)\u001b[0m   warnings.warn(f\"Time-step timed out. Elapsed since last time-step: {now - self.__t_end}\")\n"
     ]
    },
    {
     "name": "stdout",
     "output_type": "stream",
     "text": [
      "Loop:  1040\n",
      "Saved 1040\n",
      "\u001b[2m\u001b[36m(RolloutWorker pid=15280)\u001b[0m reset triggered\n",
      "\u001b[2m\u001b[36m(RolloutWorker pid=15280)\u001b[0m reload save for track : 4\n"
     ]
    },
    {
     "name": "stderr",
     "output_type": "stream",
     "text": [
      "\u001b[2m\u001b[36m(RolloutWorker pid=15280)\u001b[0m c:\\Users\\nadir\\anaconda3\\envs\\GTAI2\\lib\\site-packages\\rtgym\\envs\\real_time_env.py:376: UserWarning: Time-step timed out. Elapsed since last time-step: 0.1466793999188667\n",
      "\u001b[2m\u001b[36m(RolloutWorker pid=15280)\u001b[0m   warnings.warn(f\"Time-step timed out. Elapsed since last time-step: {now - self.__t_end}\")\n"
     ]
    },
    {
     "name": "stdout",
     "output_type": "stream",
     "text": [
      "Loop:  1041\n",
      "Loop:  1042\n",
      "\u001b[2m\u001b[36m(RolloutWorker pid=15280)\u001b[0m reset triggered\n",
      "\u001b[2m\u001b[36m(RolloutWorker pid=15280)\u001b[0m reload save for track : 4\n"
     ]
    },
    {
     "name": "stderr",
     "output_type": "stream",
     "text": [
      "\u001b[2m\u001b[36m(RolloutWorker pid=15280)\u001b[0m c:\\Users\\nadir\\anaconda3\\envs\\GTAI2\\lib\\site-packages\\rtgym\\envs\\real_time_env.py:376: UserWarning: Time-step timed out. Elapsed since last time-step: 0.1336627999189659\n",
      "\u001b[2m\u001b[36m(RolloutWorker pid=15280)\u001b[0m   warnings.warn(f\"Time-step timed out. Elapsed since last time-step: {now - self.__t_end}\")\n"
     ]
    },
    {
     "name": "stdout",
     "output_type": "stream",
     "text": [
      "Loop:  1043\n",
      "\u001b[2m\u001b[36m(RolloutWorker pid=15280)\u001b[0m reset triggered\n",
      "\u001b[2m\u001b[36m(RolloutWorker pid=15280)\u001b[0m reload save for track : 4\n"
     ]
    },
    {
     "name": "stderr",
     "output_type": "stream",
     "text": [
      "\u001b[2m\u001b[36m(RolloutWorker pid=15280)\u001b[0m c:\\Users\\nadir\\anaconda3\\envs\\GTAI2\\lib\\site-packages\\rtgym\\envs\\real_time_env.py:376: UserWarning: Time-step timed out. Elapsed since last time-step: 0.14932760018564295\n",
      "\u001b[2m\u001b[36m(RolloutWorker pid=15280)\u001b[0m   warnings.warn(f\"Time-step timed out. Elapsed since last time-step: {now - self.__t_end}\")\n"
     ]
    },
    {
     "name": "stdout",
     "output_type": "stream",
     "text": [
      "Loop:  1044\n",
      "Loop:  1045\n",
      "\u001b[2m\u001b[36m(RolloutWorker pid=15280)\u001b[0m reset triggered\n",
      "\u001b[2m\u001b[36m(RolloutWorker pid=15280)\u001b[0m reload save for track : 4\n"
     ]
    },
    {
     "name": "stderr",
     "output_type": "stream",
     "text": [
      "\u001b[2m\u001b[36m(RolloutWorker pid=15280)\u001b[0m c:\\Users\\nadir\\anaconda3\\envs\\GTAI2\\lib\\site-packages\\rtgym\\envs\\real_time_env.py:376: UserWarning: Time-step timed out. Elapsed since last time-step: 0.1481734003245947\n",
      "\u001b[2m\u001b[36m(RolloutWorker pid=15280)\u001b[0m   warnings.warn(f\"Time-step timed out. Elapsed since last time-step: {now - self.__t_end}\")\n"
     ]
    },
    {
     "name": "stdout",
     "output_type": "stream",
     "text": [
      "Loop:  1046\n",
      "\u001b[2m\u001b[36m(RolloutWorker pid=15280)\u001b[0m reset triggered\n",
      "\u001b[2m\u001b[36m(RolloutWorker pid=15280)\u001b[0m reload save for track : 4\n"
     ]
    },
    {
     "name": "stderr",
     "output_type": "stream",
     "text": [
      "\u001b[2m\u001b[36m(RolloutWorker pid=15280)\u001b[0m c:\\Users\\nadir\\anaconda3\\envs\\GTAI2\\lib\\site-packages\\rtgym\\envs\\real_time_env.py:376: UserWarning: Time-step timed out. Elapsed since last time-step: 0.1547485003247857\n",
      "\u001b[2m\u001b[36m(RolloutWorker pid=15280)\u001b[0m   warnings.warn(f\"Time-step timed out. Elapsed since last time-step: {now - self.__t_end}\")\n"
     ]
    },
    {
     "name": "stdout",
     "output_type": "stream",
     "text": [
      "Loop:  1047\n",
      "Loop:  1048\n",
      "\u001b[2m\u001b[36m(RolloutWorker pid=15280)\u001b[0m reset triggered\n",
      "\u001b[2m\u001b[36m(RolloutWorker pid=15280)\u001b[0m reload save for track : 4\n"
     ]
    },
    {
     "name": "stderr",
     "output_type": "stream",
     "text": [
      "\u001b[2m\u001b[36m(RolloutWorker pid=15280)\u001b[0m c:\\Users\\nadir\\anaconda3\\envs\\GTAI2\\lib\\site-packages\\rtgym\\envs\\real_time_env.py:376: UserWarning: Time-step timed out. Elapsed since last time-step: 0.1672061003264389\n",
      "\u001b[2m\u001b[36m(RolloutWorker pid=15280)\u001b[0m   warnings.warn(f\"Time-step timed out. Elapsed since last time-step: {now - self.__t_end}\")\n"
     ]
    },
    {
     "name": "stdout",
     "output_type": "stream",
     "text": [
      "Loop:  1049\n",
      "\u001b[2m\u001b[36m(RolloutWorker pid=15280)\u001b[0m reset triggered\n",
      "\u001b[2m\u001b[36m(RolloutWorker pid=15280)\u001b[0m reload save for track : 4\n"
     ]
    },
    {
     "name": "stderr",
     "output_type": "stream",
     "text": [
      "\u001b[2m\u001b[36m(RolloutWorker pid=15280)\u001b[0m c:\\Users\\nadir\\anaconda3\\envs\\GTAI2\\lib\\site-packages\\rtgym\\envs\\real_time_env.py:376: UserWarning: Time-step timed out. Elapsed since last time-step: 0.14830910032469546\n",
      "\u001b[2m\u001b[36m(RolloutWorker pid=15280)\u001b[0m   warnings.warn(f\"Time-step timed out. Elapsed since last time-step: {now - self.__t_end}\")\n"
     ]
    },
    {
     "name": "stdout",
     "output_type": "stream",
     "text": [
      "Loop:  1050\n",
      "Saved 1050\n",
      "Loop:  1051\n",
      "\u001b[2m\u001b[36m(RolloutWorker pid=15280)\u001b[0m reset triggered\n",
      "\u001b[2m\u001b[36m(RolloutWorker pid=15280)\u001b[0m reload save for track : 4\n"
     ]
    },
    {
     "name": "stderr",
     "output_type": "stream",
     "text": [
      "\u001b[2m\u001b[36m(RolloutWorker pid=15280)\u001b[0m c:\\Users\\nadir\\anaconda3\\envs\\GTAI2\\lib\\site-packages\\rtgym\\envs\\real_time_env.py:376: UserWarning: Time-step timed out. Elapsed since last time-step: 0.16964420032672933\n",
      "\u001b[2m\u001b[36m(RolloutWorker pid=15280)\u001b[0m   warnings.warn(f\"Time-step timed out. Elapsed since last time-step: {now - self.__t_end}\")\n"
     ]
    },
    {
     "name": "stdout",
     "output_type": "stream",
     "text": [
      "Loop:  1052\n",
      "\u001b[2m\u001b[36m(RolloutWorker pid=15280)\u001b[0m reset triggered\n",
      "\u001b[2m\u001b[36m(RolloutWorker pid=15280)\u001b[0m reload save for track : 4\n"
     ]
    },
    {
     "name": "stderr",
     "output_type": "stream",
     "text": [
      "\u001b[2m\u001b[36m(RolloutWorker pid=15280)\u001b[0m c:\\Users\\nadir\\anaconda3\\envs\\GTAI2\\lib\\site-packages\\rtgym\\envs\\real_time_env.py:376: UserWarning: Time-step timed out. Elapsed since last time-step: 0.14270120032597333\n",
      "\u001b[2m\u001b[36m(RolloutWorker pid=15280)\u001b[0m   warnings.warn(f\"Time-step timed out. Elapsed since last time-step: {now - self.__t_end}\")\n"
     ]
    },
    {
     "name": "stdout",
     "output_type": "stream",
     "text": [
      "Loop:  1053\n",
      "\u001b[2m\u001b[36m(RolloutWorker pid=15280)\u001b[0m reset triggered\n",
      "\u001b[2m\u001b[36m(RolloutWorker pid=15280)\u001b[0m reload save for track : 4\n"
     ]
    },
    {
     "name": "stderr",
     "output_type": "stream",
     "text": [
      "\u001b[2m\u001b[36m(RolloutWorker pid=15280)\u001b[0m c:\\Users\\nadir\\anaconda3\\envs\\GTAI2\\lib\\site-packages\\rtgym\\envs\\real_time_env.py:376: UserWarning: Time-step timed out. Elapsed since last time-step: 0.15799250032796408\n",
      "\u001b[2m\u001b[36m(RolloutWorker pid=15280)\u001b[0m   warnings.warn(f\"Time-step timed out. Elapsed since last time-step: {now - self.__t_end}\")\n"
     ]
    },
    {
     "name": "stdout",
     "output_type": "stream",
     "text": [
      "Loop:  1054\n",
      "Loop:  1055\n",
      "\u001b[2m\u001b[36m(RolloutWorker pid=15280)\u001b[0m reset triggered\n",
      "\u001b[2m\u001b[36m(RolloutWorker pid=15280)\u001b[0m reload save for track : 4\n"
     ]
    },
    {
     "name": "stderr",
     "output_type": "stream",
     "text": [
      "\u001b[2m\u001b[36m(RolloutWorker pid=15280)\u001b[0m c:\\Users\\nadir\\anaconda3\\envs\\GTAI2\\lib\\site-packages\\rtgym\\envs\\real_time_env.py:376: UserWarning: Time-step timed out. Elapsed since last time-step: 0.16990170032295282\n",
      "\u001b[2m\u001b[36m(RolloutWorker pid=15280)\u001b[0m   warnings.warn(f\"Time-step timed out. Elapsed since last time-step: {now - self.__t_end}\")\n"
     ]
    },
    {
     "name": "stdout",
     "output_type": "stream",
     "text": [
      "Loop:  1056\n",
      "\u001b[2m\u001b[36m(RolloutWorker pid=15280)\u001b[0m reset triggered\n",
      "\u001b[2m\u001b[36m(RolloutWorker pid=15280)\u001b[0m reload save for track : 4\n"
     ]
    },
    {
     "name": "stderr",
     "output_type": "stream",
     "text": [
      "\u001b[2m\u001b[36m(RolloutWorker pid=15280)\u001b[0m c:\\Users\\nadir\\anaconda3\\envs\\GTAI2\\lib\\site-packages\\rtgym\\envs\\real_time_env.py:376: UserWarning: Time-step timed out. Elapsed since last time-step: 0.15254810032638488\n",
      "\u001b[2m\u001b[36m(RolloutWorker pid=15280)\u001b[0m   warnings.warn(f\"Time-step timed out. Elapsed since last time-step: {now - self.__t_end}\")\n"
     ]
    },
    {
     "name": "stdout",
     "output_type": "stream",
     "text": [
      "Loop:  1057\n",
      "Loop:  1058\n",
      "\u001b[2m\u001b[36m(RolloutWorker pid=15280)\u001b[0m reset triggered\n",
      "\u001b[2m\u001b[36m(RolloutWorker pid=15280)\u001b[0m reload save for track : 4\n"
     ]
    },
    {
     "name": "stderr",
     "output_type": "stream",
     "text": [
      "\u001b[2m\u001b[36m(RolloutWorker pid=15280)\u001b[0m c:\\Users\\nadir\\anaconda3\\envs\\GTAI2\\lib\\site-packages\\rtgym\\envs\\real_time_env.py:376: UserWarning: Time-step timed out. Elapsed since last time-step: 0.1490971003258892\n",
      "\u001b[2m\u001b[36m(RolloutWorker pid=15280)\u001b[0m   warnings.warn(f\"Time-step timed out. Elapsed since last time-step: {now - self.__t_end}\")\n"
     ]
    },
    {
     "name": "stdout",
     "output_type": "stream",
     "text": [
      "Loop:  1059\n",
      "\u001b[2m\u001b[36m(RolloutWorker pid=15280)\u001b[0m reset triggered\n",
      "\u001b[2m\u001b[36m(RolloutWorker pid=15280)\u001b[0m reload save for track : 4\n"
     ]
    },
    {
     "name": "stderr",
     "output_type": "stream",
     "text": [
      "\u001b[2m\u001b[36m(RolloutWorker pid=15280)\u001b[0m c:\\Users\\nadir\\anaconda3\\envs\\GTAI2\\lib\\site-packages\\rtgym\\envs\\real_time_env.py:376: UserWarning: Time-step timed out. Elapsed since last time-step: 0.14762140032689786\n",
      "\u001b[2m\u001b[36m(RolloutWorker pid=15280)\u001b[0m   warnings.warn(f\"Time-step timed out. Elapsed since last time-step: {now - self.__t_end}\")\n"
     ]
    },
    {
     "name": "stdout",
     "output_type": "stream",
     "text": [
      "Loop:  1060\n",
      "Saved 1060\n",
      "Loop:  1061\n",
      "\u001b[2m\u001b[36m(RolloutWorker pid=15280)\u001b[0m reset triggered\n",
      "\u001b[2m\u001b[36m(RolloutWorker pid=15280)\u001b[0m reload save for track : 4\n"
     ]
    },
    {
     "name": "stderr",
     "output_type": "stream",
     "text": [
      "\u001b[2m\u001b[36m(RolloutWorker pid=15280)\u001b[0m c:\\Users\\nadir\\anaconda3\\envs\\GTAI2\\lib\\site-packages\\rtgym\\envs\\real_time_env.py:376: UserWarning: Time-step timed out. Elapsed since last time-step: 0.15044900032808073\n",
      "\u001b[2m\u001b[36m(RolloutWorker pid=15280)\u001b[0m   warnings.warn(f\"Time-step timed out. Elapsed since last time-step: {now - self.__t_end}\")\n"
     ]
    },
    {
     "name": "stdout",
     "output_type": "stream",
     "text": [
      "Loop:  1062\n",
      "\u001b[2m\u001b[36m(RolloutWorker pid=15280)\u001b[0m reset triggered\n",
      "\u001b[2m\u001b[36m(RolloutWorker pid=15280)\u001b[0m reload save for track : 4\n"
     ]
    },
    {
     "name": "stderr",
     "output_type": "stream",
     "text": [
      "\u001b[2m\u001b[36m(RolloutWorker pid=15280)\u001b[0m c:\\Users\\nadir\\anaconda3\\envs\\GTAI2\\lib\\site-packages\\rtgym\\envs\\real_time_env.py:376: UserWarning: Time-step timed out. Elapsed since last time-step: 0.15057190032530343\n",
      "\u001b[2m\u001b[36m(RolloutWorker pid=15280)\u001b[0m   warnings.warn(f\"Time-step timed out. Elapsed since last time-step: {now - self.__t_end}\")\n"
     ]
    },
    {
     "name": "stdout",
     "output_type": "stream",
     "text": [
      "Loop:  1063\n",
      "Loop:  1064\n",
      "\u001b[2m\u001b[36m(RolloutWorker pid=15280)\u001b[0m reset triggered\n",
      "\u001b[2m\u001b[36m(RolloutWorker pid=15280)\u001b[0m reload save for track : 4\n"
     ]
    },
    {
     "name": "stderr",
     "output_type": "stream",
     "text": [
      "\u001b[2m\u001b[36m(RolloutWorker pid=15280)\u001b[0m c:\\Users\\nadir\\anaconda3\\envs\\GTAI2\\lib\\site-packages\\rtgym\\envs\\real_time_env.py:376: UserWarning: Time-step timed out. Elapsed since last time-step: 0.1696523003265611\n",
      "\u001b[2m\u001b[36m(RolloutWorker pid=15280)\u001b[0m   warnings.warn(f\"Time-step timed out. Elapsed since last time-step: {now - self.__t_end}\")\n"
     ]
    },
    {
     "name": "stdout",
     "output_type": "stream",
     "text": [
      "Loop:  1065\n",
      "\u001b[2m\u001b[36m(RolloutWorker pid=15280)\u001b[0m reset triggered\n",
      "\u001b[2m\u001b[36m(RolloutWorker pid=15280)\u001b[0m reload save for track : 4\n"
     ]
    },
    {
     "name": "stderr",
     "output_type": "stream",
     "text": [
      "\u001b[2m\u001b[36m(RolloutWorker pid=15280)\u001b[0m c:\\Users\\nadir\\anaconda3\\envs\\GTAI2\\lib\\site-packages\\rtgym\\envs\\real_time_env.py:376: UserWarning: Time-step timed out. Elapsed since last time-step: 0.15997300032540807\n",
      "\u001b[2m\u001b[36m(RolloutWorker pid=15280)\u001b[0m   warnings.warn(f\"Time-step timed out. Elapsed since last time-step: {now - self.__t_end}\")\n"
     ]
    },
    {
     "name": "stdout",
     "output_type": "stream",
     "text": [
      "Loop:  1066\n",
      "\u001b[2m\u001b[36m(RolloutWorker pid=15280)\u001b[0m reset triggered\n",
      "\u001b[2m\u001b[36m(RolloutWorker pid=15280)\u001b[0m reload save for track : 4\n"
     ]
    },
    {
     "name": "stderr",
     "output_type": "stream",
     "text": [
      "\u001b[2m\u001b[36m(RolloutWorker pid=15280)\u001b[0m c:\\Users\\nadir\\anaconda3\\envs\\GTAI2\\lib\\site-packages\\rtgym\\envs\\real_time_env.py:376: UserWarning: Time-step timed out. Elapsed since last time-step: 0.14256620032392675\n",
      "\u001b[2m\u001b[36m(RolloutWorker pid=15280)\u001b[0m   warnings.warn(f\"Time-step timed out. Elapsed since last time-step: {now - self.__t_end}\")\n"
     ]
    },
    {
     "name": "stdout",
     "output_type": "stream",
     "text": [
      "Loop:  1067\n",
      "Loop:  1068\n",
      "\u001b[2m\u001b[36m(RolloutWorker pid=15280)\u001b[0m reset triggered\n",
      "\u001b[2m\u001b[36m(RolloutWorker pid=15280)\u001b[0m reload save for track : 4\n"
     ]
    },
    {
     "name": "stderr",
     "output_type": "stream",
     "text": [
      "\u001b[2m\u001b[36m(RolloutWorker pid=15280)\u001b[0m c:\\Users\\nadir\\anaconda3\\envs\\GTAI2\\lib\\site-packages\\rtgym\\envs\\real_time_env.py:376: UserWarning: Time-step timed out. Elapsed since last time-step: 0.1581785003254481\n",
      "\u001b[2m\u001b[36m(RolloutWorker pid=15280)\u001b[0m   warnings.warn(f\"Time-step timed out. Elapsed since last time-step: {now - self.__t_end}\")\n"
     ]
    },
    {
     "name": "stdout",
     "output_type": "stream",
     "text": [
      "Loop:  1069\n",
      "\u001b[2m\u001b[36m(RolloutWorker pid=15280)\u001b[0m reset triggered\n",
      "\u001b[2m\u001b[36m(RolloutWorker pid=15280)\u001b[0m reload save for track : 4\n"
     ]
    },
    {
     "name": "stderr",
     "output_type": "stream",
     "text": [
      "\u001b[2m\u001b[36m(RolloutWorker pid=15280)\u001b[0m c:\\Users\\nadir\\anaconda3\\envs\\GTAI2\\lib\\site-packages\\rtgym\\envs\\real_time_env.py:376: UserWarning: Time-step timed out. Elapsed since last time-step: 0.15962630032663583\n",
      "\u001b[2m\u001b[36m(RolloutWorker pid=15280)\u001b[0m   warnings.warn(f\"Time-step timed out. Elapsed since last time-step: {now - self.__t_end}\")\n"
     ]
    },
    {
     "name": "stdout",
     "output_type": "stream",
     "text": [
      "Loop:  1070\n",
      "Saved 1070\n",
      "Loop:  1071\n",
      "\u001b[2m\u001b[36m(RolloutWorker pid=15280)\u001b[0m reset triggered\n",
      "\u001b[2m\u001b[36m(RolloutWorker pid=15280)\u001b[0m reload save for track : 4\n"
     ]
    },
    {
     "name": "stderr",
     "output_type": "stream",
     "text": [
      "\u001b[2m\u001b[36m(RolloutWorker pid=15280)\u001b[0m c:\\Users\\nadir\\anaconda3\\envs\\GTAI2\\lib\\site-packages\\rtgym\\envs\\real_time_env.py:376: UserWarning: Time-step timed out. Elapsed since last time-step: 0.14263690032748855\n",
      "\u001b[2m\u001b[36m(RolloutWorker pid=15280)\u001b[0m   warnings.warn(f\"Time-step timed out. Elapsed since last time-step: {now - self.__t_end}\")\n"
     ]
    },
    {
     "name": "stdout",
     "output_type": "stream",
     "text": [
      "Loop:  1072\n",
      "\u001b[2m\u001b[36m(RolloutWorker pid=15280)\u001b[0m reset triggered\n",
      "\u001b[2m\u001b[36m(RolloutWorker pid=15280)\u001b[0m reload save for track : 4\n"
     ]
    },
    {
     "name": "stderr",
     "output_type": "stream",
     "text": [
      "\u001b[2m\u001b[36m(RolloutWorker pid=15280)\u001b[0m c:\\Users\\nadir\\anaconda3\\envs\\GTAI2\\lib\\site-packages\\rtgym\\envs\\real_time_env.py:376: UserWarning: Time-step timed out. Elapsed since last time-step: 0.15665600032662041\n",
      "\u001b[2m\u001b[36m(RolloutWorker pid=15280)\u001b[0m   warnings.warn(f\"Time-step timed out. Elapsed since last time-step: {now - self.__t_end}\")\n"
     ]
    },
    {
     "name": "stdout",
     "output_type": "stream",
     "text": [
      "Loop:  1073\n",
      "Loop:  1074\n",
      "\u001b[2m\u001b[36m(RolloutWorker pid=15280)\u001b[0m reset triggered\n",
      "\u001b[2m\u001b[36m(RolloutWorker pid=15280)\u001b[0m reload save for track : 4\n"
     ]
    },
    {
     "name": "stderr",
     "output_type": "stream",
     "text": [
      "\u001b[2m\u001b[36m(RolloutWorker pid=15280)\u001b[0m c:\\Users\\nadir\\anaconda3\\envs\\GTAI2\\lib\\site-packages\\rtgym\\envs\\real_time_env.py:376: UserWarning: Time-step timed out. Elapsed since last time-step: 0.17118450032285182\n",
      "\u001b[2m\u001b[36m(RolloutWorker pid=15280)\u001b[0m   warnings.warn(f\"Time-step timed out. Elapsed since last time-step: {now - self.__t_end}\")\n"
     ]
    },
    {
     "name": "stdout",
     "output_type": "stream",
     "text": [
      "Loop:  1075\n",
      "\u001b[2m\u001b[36m(RolloutWorker pid=15280)\u001b[0m reset triggered\n",
      "\u001b[2m\u001b[36m(RolloutWorker pid=15280)\u001b[0m reload save for track : 4\n"
     ]
    },
    {
     "name": "stderr",
     "output_type": "stream",
     "text": [
      "\u001b[2m\u001b[36m(RolloutWorker pid=15280)\u001b[0m c:\\Users\\nadir\\anaconda3\\envs\\GTAI2\\lib\\site-packages\\rtgym\\envs\\real_time_env.py:376: UserWarning: Time-step timed out. Elapsed since last time-step: 0.12210940032673534\n",
      "\u001b[2m\u001b[36m(RolloutWorker pid=15280)\u001b[0m   warnings.warn(f\"Time-step timed out. Elapsed since last time-step: {now - self.__t_end}\")\n"
     ]
    },
    {
     "name": "stdout",
     "output_type": "stream",
     "text": [
      "Loop:  1076\n",
      "Loop:  1077\n",
      "\u001b[2m\u001b[36m(RolloutWorker pid=15280)\u001b[0m reset triggered\n",
      "\u001b[2m\u001b[36m(RolloutWorker pid=15280)\u001b[0m reload save for track : 4\n"
     ]
    },
    {
     "name": "stderr",
     "output_type": "stream",
     "text": [
      "\u001b[2m\u001b[36m(RolloutWorker pid=15280)\u001b[0m c:\\Users\\nadir\\anaconda3\\envs\\GTAI2\\lib\\site-packages\\rtgym\\envs\\real_time_env.py:376: UserWarning: Time-step timed out. Elapsed since last time-step: 0.15718240032583708\n",
      "\u001b[2m\u001b[36m(RolloutWorker pid=15280)\u001b[0m   warnings.warn(f\"Time-step timed out. Elapsed since last time-step: {now - self.__t_end}\")\n"
     ]
    },
    {
     "name": "stdout",
     "output_type": "stream",
     "text": [
      "Loop:  1078\n",
      "\u001b[2m\u001b[36m(RolloutWorker pid=15280)\u001b[0m reset triggered\n",
      "\u001b[2m\u001b[36m(RolloutWorker pid=15280)\u001b[0m reload save for track : 4\n"
     ]
    },
    {
     "name": "stderr",
     "output_type": "stream",
     "text": [
      "\u001b[2m\u001b[36m(RolloutWorker pid=15280)\u001b[0m c:\\Users\\nadir\\anaconda3\\envs\\GTAI2\\lib\\site-packages\\rtgym\\envs\\real_time_env.py:376: UserWarning: Time-step timed out. Elapsed since last time-step: 0.12269990032655187\n",
      "\u001b[2m\u001b[36m(RolloutWorker pid=15280)\u001b[0m   warnings.warn(f\"Time-step timed out. Elapsed since last time-step: {now - self.__t_end}\")\n"
     ]
    },
    {
     "name": "stdout",
     "output_type": "stream",
     "text": [
      "Loop:  1079\n",
      "\u001b[2m\u001b[36m(RolloutWorker pid=15280)\u001b[0m reset triggered\n",
      "\u001b[2m\u001b[36m(RolloutWorker pid=15280)\u001b[0m reload save for track : 4\n"
     ]
    },
    {
     "name": "stderr",
     "output_type": "stream",
     "text": [
      "\u001b[2m\u001b[36m(RolloutWorker pid=15280)\u001b[0m c:\\Users\\nadir\\anaconda3\\envs\\GTAI2\\lib\\site-packages\\rtgym\\envs\\real_time_env.py:376: UserWarning: Time-step timed out. Elapsed since last time-step: 0.1370881003276736\n",
      "\u001b[2m\u001b[36m(RolloutWorker pid=15280)\u001b[0m   warnings.warn(f\"Time-step timed out. Elapsed since last time-step: {now - self.__t_end}\")\n"
     ]
    },
    {
     "name": "stdout",
     "output_type": "stream",
     "text": [
      "Loop:  1080\n",
      "Saved 1080\n",
      "Loop:  1081\n",
      "\u001b[2m\u001b[36m(RolloutWorker pid=15280)\u001b[0m reset triggered\n",
      "\u001b[2m\u001b[36m(RolloutWorker pid=15280)\u001b[0m reload save for track : 4\n"
     ]
    },
    {
     "name": "stderr",
     "output_type": "stream",
     "text": [
      "\u001b[2m\u001b[36m(RolloutWorker pid=15280)\u001b[0m c:\\Users\\nadir\\anaconda3\\envs\\GTAI2\\lib\\site-packages\\rtgym\\envs\\real_time_env.py:376: UserWarning: Time-step timed out. Elapsed since last time-step: 0.16346430032353965\n",
      "\u001b[2m\u001b[36m(RolloutWorker pid=15280)\u001b[0m   warnings.warn(f\"Time-step timed out. Elapsed since last time-step: {now - self.__t_end}\")\n"
     ]
    },
    {
     "name": "stdout",
     "output_type": "stream",
     "text": [
      "Loop:  1082\n",
      "\u001b[2m\u001b[36m(RolloutWorker pid=15280)\u001b[0m reset triggered\n",
      "\u001b[2m\u001b[36m(RolloutWorker pid=15280)\u001b[0m reload save for track : 4\n"
     ]
    },
    {
     "name": "stderr",
     "output_type": "stream",
     "text": [
      "\u001b[2m\u001b[36m(RolloutWorker pid=15280)\u001b[0m c:\\Users\\nadir\\anaconda3\\envs\\GTAI2\\lib\\site-packages\\rtgym\\envs\\real_time_env.py:376: UserWarning: Time-step timed out. Elapsed since last time-step: 0.1395639003276301\n",
      "\u001b[2m\u001b[36m(RolloutWorker pid=15280)\u001b[0m   warnings.warn(f\"Time-step timed out. Elapsed since last time-step: {now - self.__t_end}\")\n"
     ]
    },
    {
     "name": "stdout",
     "output_type": "stream",
     "text": [
      "Loop:  1083\n",
      "Loop:  1084\n",
      "\u001b[2m\u001b[36m(RolloutWorker pid=15280)\u001b[0m reset triggered\n",
      "\u001b[2m\u001b[36m(RolloutWorker pid=15280)\u001b[0m reload save for track : 4\n"
     ]
    },
    {
     "name": "stderr",
     "output_type": "stream",
     "text": [
      "\u001b[2m\u001b[36m(RolloutWorker pid=15280)\u001b[0m c:\\Users\\nadir\\anaconda3\\envs\\GTAI2\\lib\\site-packages\\rtgym\\envs\\real_time_env.py:376: UserWarning: Time-step timed out. Elapsed since last time-step: 0.14763000032689888\n",
      "\u001b[2m\u001b[36m(RolloutWorker pid=15280)\u001b[0m   warnings.warn(f\"Time-step timed out. Elapsed since last time-step: {now - self.__t_end}\")\n"
     ]
    },
    {
     "name": "stdout",
     "output_type": "stream",
     "text": [
      "Loop:  1085\n",
      "\u001b[2m\u001b[36m(RolloutWorker pid=15280)\u001b[0m reset triggered\n",
      "\u001b[2m\u001b[36m(RolloutWorker pid=15280)\u001b[0m reload save for track : 4\n"
     ]
    },
    {
     "name": "stderr",
     "output_type": "stream",
     "text": [
      "\u001b[2m\u001b[36m(RolloutWorker pid=15280)\u001b[0m c:\\Users\\nadir\\anaconda3\\envs\\GTAI2\\lib\\site-packages\\rtgym\\envs\\real_time_env.py:376: UserWarning: Time-step timed out. Elapsed since last time-step: 0.12293020032302593\n",
      "\u001b[2m\u001b[36m(RolloutWorker pid=15280)\u001b[0m   warnings.warn(f\"Time-step timed out. Elapsed since last time-step: {now - self.__t_end}\")\n"
     ]
    },
    {
     "name": "stdout",
     "output_type": "stream",
     "text": [
      "Loop:  1086\n",
      "Loop:  1087\n",
      "\u001b[2m\u001b[36m(RolloutWorker pid=15280)\u001b[0m reset triggered\n",
      "\u001b[2m\u001b[36m(RolloutWorker pid=15280)\u001b[0m reload save for track : 4\n"
     ]
    },
    {
     "name": "stderr",
     "output_type": "stream",
     "text": [
      "\u001b[2m\u001b[36m(RolloutWorker pid=15280)\u001b[0m c:\\Users\\nadir\\anaconda3\\envs\\GTAI2\\lib\\site-packages\\rtgym\\envs\\real_time_env.py:376: UserWarning: Time-step timed out. Elapsed since last time-step: 0.14310650032712147\n",
      "\u001b[2m\u001b[36m(RolloutWorker pid=15280)\u001b[0m   warnings.warn(f\"Time-step timed out. Elapsed since last time-step: {now - self.__t_end}\")\n"
     ]
    },
    {
     "name": "stdout",
     "output_type": "stream",
     "text": [
      "Loop:  1088\n",
      "\u001b[2m\u001b[36m(RolloutWorker pid=15280)\u001b[0m reset triggered\n",
      "\u001b[2m\u001b[36m(RolloutWorker pid=15280)\u001b[0m reload save for track : 4\n"
     ]
    },
    {
     "name": "stderr",
     "output_type": "stream",
     "text": [
      "\u001b[2m\u001b[36m(RolloutWorker pid=15280)\u001b[0m c:\\Users\\nadir\\anaconda3\\envs\\GTAI2\\lib\\site-packages\\rtgym\\envs\\real_time_env.py:376: UserWarning: Time-step timed out. Elapsed since last time-step: 0.13677440032552113\n",
      "\u001b[2m\u001b[36m(RolloutWorker pid=15280)\u001b[0m   warnings.warn(f\"Time-step timed out. Elapsed since last time-step: {now - self.__t_end}\")\n"
     ]
    },
    {
     "name": "stdout",
     "output_type": "stream",
     "text": [
      "Loop:  1089\n",
      "Loop:  1090\n",
      "Saved 1090\n",
      "\u001b[2m\u001b[36m(RolloutWorker pid=15280)\u001b[0m reset triggered\n",
      "\u001b[2m\u001b[36m(RolloutWorker pid=15280)\u001b[0m reload save for track : 4\n"
     ]
    },
    {
     "name": "stderr",
     "output_type": "stream",
     "text": [
      "\u001b[2m\u001b[36m(RolloutWorker pid=15280)\u001b[0m c:\\Users\\nadir\\anaconda3\\envs\\GTAI2\\lib\\site-packages\\rtgym\\envs\\real_time_env.py:376: UserWarning: Time-step timed out. Elapsed since last time-step: 0.15711350032506743\n",
      "\u001b[2m\u001b[36m(RolloutWorker pid=15280)\u001b[0m   warnings.warn(f\"Time-step timed out. Elapsed since last time-step: {now - self.__t_end}\")\n"
     ]
    },
    {
     "name": "stdout",
     "output_type": "stream",
     "text": [
      "Loop:  1091\n",
      "\u001b[2m\u001b[36m(RolloutWorker pid=15280)\u001b[0m reset triggered\n",
      "\u001b[2m\u001b[36m(RolloutWorker pid=15280)\u001b[0m reload save for track : 4\n"
     ]
    },
    {
     "name": "stderr",
     "output_type": "stream",
     "text": [
      "\u001b[2m\u001b[36m(RolloutWorker pid=15280)\u001b[0m c:\\Users\\nadir\\anaconda3\\envs\\GTAI2\\lib\\site-packages\\rtgym\\envs\\real_time_env.py:376: UserWarning: Time-step timed out. Elapsed since last time-step: 0.1333591003276524\n",
      "\u001b[2m\u001b[36m(RolloutWorker pid=15280)\u001b[0m   warnings.warn(f\"Time-step timed out. Elapsed since last time-step: {now - self.__t_end}\")\n"
     ]
    },
    {
     "name": "stdout",
     "output_type": "stream",
     "text": [
      "Loop:  1092\n",
      "\u001b[2m\u001b[36m(RolloutWorker pid=15280)\u001b[0m reset triggered\n",
      "\u001b[2m\u001b[36m(RolloutWorker pid=15280)\u001b[0m reload save for track : 4\n"
     ]
    },
    {
     "name": "stderr",
     "output_type": "stream",
     "text": [
      "\u001b[2m\u001b[36m(RolloutWorker pid=15280)\u001b[0m c:\\Users\\nadir\\anaconda3\\envs\\GTAI2\\lib\\site-packages\\rtgym\\envs\\real_time_env.py:376: UserWarning: Time-step timed out. Elapsed since last time-step: 0.14648210032464704\n",
      "\u001b[2m\u001b[36m(RolloutWorker pid=15280)\u001b[0m   warnings.warn(f\"Time-step timed out. Elapsed since last time-step: {now - self.__t_end}\")\n"
     ]
    },
    {
     "name": "stdout",
     "output_type": "stream",
     "text": [
      "Loop:  1093\n",
      "Loop:  1094\n",
      "\u001b[2m\u001b[36m(RolloutWorker pid=15280)\u001b[0m reset triggered\n",
      "\u001b[2m\u001b[36m(RolloutWorker pid=15280)\u001b[0m reload save for track : 4\n"
     ]
    },
    {
     "name": "stderr",
     "output_type": "stream",
     "text": [
      "\u001b[2m\u001b[36m(RolloutWorker pid=15280)\u001b[0m c:\\Users\\nadir\\anaconda3\\envs\\GTAI2\\lib\\site-packages\\rtgym\\envs\\real_time_env.py:376: UserWarning: Time-step timed out. Elapsed since last time-step: 0.17058690032718005\n",
      "\u001b[2m\u001b[36m(RolloutWorker pid=15280)\u001b[0m   warnings.warn(f\"Time-step timed out. Elapsed since last time-step: {now - self.__t_end}\")\n"
     ]
    },
    {
     "name": "stdout",
     "output_type": "stream",
     "text": [
      "Loop:  1095\n",
      "\u001b[2m\u001b[36m(RolloutWorker pid=15280)\u001b[0m reset triggered\n",
      "\u001b[2m\u001b[36m(RolloutWorker pid=15280)\u001b[0m reload save for track : 4\n"
     ]
    },
    {
     "name": "stderr",
     "output_type": "stream",
     "text": [
      "\u001b[2m\u001b[36m(RolloutWorker pid=15280)\u001b[0m c:\\Users\\nadir\\anaconda3\\envs\\GTAI2\\lib\\site-packages\\rtgym\\envs\\real_time_env.py:376: UserWarning: Time-step timed out. Elapsed since last time-step: 0.15274230032446212\n",
      "\u001b[2m\u001b[36m(RolloutWorker pid=15280)\u001b[0m   warnings.warn(f\"Time-step timed out. Elapsed since last time-step: {now - self.__t_end}\")\n"
     ]
    },
    {
     "name": "stdout",
     "output_type": "stream",
     "text": [
      "Loop:  1096\n",
      "Loop:  1097\n",
      "\u001b[2m\u001b[36m(RolloutWorker pid=15280)\u001b[0m reset triggered\n",
      "\u001b[2m\u001b[36m(RolloutWorker pid=15280)\u001b[0m reload save for track : 4\n"
     ]
    },
    {
     "name": "stderr",
     "output_type": "stream",
     "text": [
      "\u001b[2m\u001b[36m(RolloutWorker pid=15280)\u001b[0m c:\\Users\\nadir\\anaconda3\\envs\\GTAI2\\lib\\site-packages\\rtgym\\envs\\real_time_env.py:376: UserWarning: Time-step timed out. Elapsed since last time-step: 0.13703710032859817\n",
      "\u001b[2m\u001b[36m(RolloutWorker pid=15280)\u001b[0m   warnings.warn(f\"Time-step timed out. Elapsed since last time-step: {now - self.__t_end}\")\n"
     ]
    },
    {
     "name": "stdout",
     "output_type": "stream",
     "text": [
      "Loop:  1098\n",
      "\u001b[2m\u001b[36m(RolloutWorker pid=15280)\u001b[0m reset triggered\n",
      "\u001b[2m\u001b[36m(RolloutWorker pid=15280)\u001b[0m reload save for track : 4\n"
     ]
    },
    {
     "name": "stderr",
     "output_type": "stream",
     "text": [
      "\u001b[2m\u001b[36m(RolloutWorker pid=15280)\u001b[0m c:\\Users\\nadir\\anaconda3\\envs\\GTAI2\\lib\\site-packages\\rtgym\\envs\\real_time_env.py:376: UserWarning: Time-step timed out. Elapsed since last time-step: 0.17041560032521375\n",
      "\u001b[2m\u001b[36m(RolloutWorker pid=15280)\u001b[0m   warnings.warn(f\"Time-step timed out. Elapsed since last time-step: {now - self.__t_end}\")\n"
     ]
    },
    {
     "name": "stdout",
     "output_type": "stream",
     "text": [
      "Loop:  1099\n",
      "Loop:  1100\n",
      "Saved 1100\n",
      "\u001b[2m\u001b[36m(RolloutWorker pid=15280)\u001b[0m reset triggered\n",
      "\u001b[2m\u001b[36m(RolloutWorker pid=15280)\u001b[0m reload save for track : 4\n"
     ]
    },
    {
     "name": "stderr",
     "output_type": "stream",
     "text": [
      "\u001b[2m\u001b[36m(RolloutWorker pid=15280)\u001b[0m c:\\Users\\nadir\\anaconda3\\envs\\GTAI2\\lib\\site-packages\\rtgym\\envs\\real_time_env.py:376: UserWarning: Time-step timed out. Elapsed since last time-step: 0.15236040032687015\n",
      "\u001b[2m\u001b[36m(RolloutWorker pid=15280)\u001b[0m   warnings.warn(f\"Time-step timed out. Elapsed since last time-step: {now - self.__t_end}\")\n"
     ]
    },
    {
     "name": "stdout",
     "output_type": "stream",
     "text": [
      "Loop:  1101\n",
      "\u001b[2m\u001b[36m(RolloutWorker pid=15280)\u001b[0m reset triggered\n",
      "\u001b[2m\u001b[36m(RolloutWorker pid=15280)\u001b[0m reload save for track : 4\n"
     ]
    },
    {
     "name": "stderr",
     "output_type": "stream",
     "text": [
      "\u001b[2m\u001b[36m(RolloutWorker pid=15280)\u001b[0m c:\\Users\\nadir\\anaconda3\\envs\\GTAI2\\lib\\site-packages\\rtgym\\envs\\real_time_env.py:376: UserWarning: Time-step timed out. Elapsed since last time-step: 0.14780830032395897\n",
      "\u001b[2m\u001b[36m(RolloutWorker pid=15280)\u001b[0m   warnings.warn(f\"Time-step timed out. Elapsed since last time-step: {now - self.__t_end}\")\n"
     ]
    },
    {
     "name": "stdout",
     "output_type": "stream",
     "text": [
      "Loop:  1102\n",
      "Loop:  1103\n",
      "\u001b[2m\u001b[36m(RolloutWorker pid=15280)\u001b[0m reset triggered\n",
      "\u001b[2m\u001b[36m(RolloutWorker pid=15280)\u001b[0m reload save for track : 4\n"
     ]
    },
    {
     "name": "stderr",
     "output_type": "stream",
     "text": [
      "\u001b[2m\u001b[36m(RolloutWorker pid=15280)\u001b[0m c:\\Users\\nadir\\anaconda3\\envs\\GTAI2\\lib\\site-packages\\rtgym\\envs\\real_time_env.py:376: UserWarning: Time-step timed out. Elapsed since last time-step: 0.1507303003272682\n",
      "\u001b[2m\u001b[36m(RolloutWorker pid=15280)\u001b[0m   warnings.warn(f\"Time-step timed out. Elapsed since last time-step: {now - self.__t_end}\")\n"
     ]
    },
    {
     "name": "stdout",
     "output_type": "stream",
     "text": [
      "Loop:  1104\n",
      "\u001b[2m\u001b[36m(RolloutWorker pid=15280)\u001b[0m reset triggered\n",
      "\u001b[2m\u001b[36m(RolloutWorker pid=15280)\u001b[0m reload save for track : 4\n"
     ]
    },
    {
     "name": "stderr",
     "output_type": "stream",
     "text": [
      "\u001b[2m\u001b[36m(RolloutWorker pid=15280)\u001b[0m c:\\Users\\nadir\\anaconda3\\envs\\GTAI2\\lib\\site-packages\\rtgym\\envs\\real_time_env.py:376: UserWarning: Time-step timed out. Elapsed since last time-step: 0.12203270032478031\n",
      "\u001b[2m\u001b[36m(RolloutWorker pid=15280)\u001b[0m   warnings.warn(f\"Time-step timed out. Elapsed since last time-step: {now - self.__t_end}\")\n"
     ]
    },
    {
     "name": "stdout",
     "output_type": "stream",
     "text": [
      "Loop:  1105\n",
      "\u001b[2m\u001b[36m(RolloutWorker pid=15280)\u001b[0m reset triggered\n",
      "\u001b[2m\u001b[36m(RolloutWorker pid=15280)\u001b[0m reload save for track : 4\n"
     ]
    },
    {
     "name": "stderr",
     "output_type": "stream",
     "text": [
      "\u001b[2m\u001b[36m(RolloutWorker pid=15280)\u001b[0m c:\\Users\\nadir\\anaconda3\\envs\\GTAI2\\lib\\site-packages\\rtgym\\envs\\real_time_env.py:376: UserWarning: Time-step timed out. Elapsed since last time-step: 0.13983160032512387\n",
      "\u001b[2m\u001b[36m(RolloutWorker pid=15280)\u001b[0m   warnings.warn(f\"Time-step timed out. Elapsed since last time-step: {now - self.__t_end}\")\n"
     ]
    },
    {
     "name": "stdout",
     "output_type": "stream",
     "text": [
      "Loop:  1106\n",
      "Loop:  1107\n",
      "\u001b[2m\u001b[36m(RolloutWorker pid=15280)\u001b[0m reset triggered\n",
      "\u001b[2m\u001b[36m(RolloutWorker pid=15280)\u001b[0m reload save for track : 4\n"
     ]
    },
    {
     "name": "stderr",
     "output_type": "stream",
     "text": [
      "\u001b[2m\u001b[36m(RolloutWorker pid=15280)\u001b[0m c:\\Users\\nadir\\anaconda3\\envs\\GTAI2\\lib\\site-packages\\rtgym\\envs\\real_time_env.py:376: UserWarning: Time-step timed out. Elapsed since last time-step: 0.1502098003293213\n",
      "\u001b[2m\u001b[36m(RolloutWorker pid=15280)\u001b[0m   warnings.warn(f\"Time-step timed out. Elapsed since last time-step: {now - self.__t_end}\")\n",
      "\u001b[2m\u001b[36m(RolloutWorker pid=15280)\u001b[0m c:\\Users\\nadir\\anaconda3\\envs\\GTAI2\\lib\\site-packages\\rtgym\\envs\\real_time_env.py:376: UserWarning: Time-step timed out. Elapsed since last time-step: 0.13932390002082684\n",
      "\u001b[2m\u001b[36m(RolloutWorker pid=15280)\u001b[0m   warnings.warn(f\"Time-step timed out. Elapsed since last time-step: {now - self.__t_end}\")\n"
     ]
    },
    {
     "name": "stdout",
     "output_type": "stream",
     "text": [
      "Loop:  1108\n",
      "\u001b[2m\u001b[36m(RolloutWorker pid=15280)\u001b[0m reset triggered\n",
      "\u001b[2m\u001b[36m(RolloutWorker pid=15280)\u001b[0m reload save for track : 4\n"
     ]
    },
    {
     "name": "stderr",
     "output_type": "stream",
     "text": [
      "\u001b[2m\u001b[36m(RolloutWorker pid=15280)\u001b[0m c:\\Users\\nadir\\anaconda3\\envs\\GTAI2\\lib\\site-packages\\rtgym\\envs\\real_time_env.py:376: UserWarning: Time-step timed out. Elapsed since last time-step: 0.14097300030334736\n",
      "\u001b[2m\u001b[36m(RolloutWorker pid=15280)\u001b[0m   warnings.warn(f\"Time-step timed out. Elapsed since last time-step: {now - self.__t_end}\")\n"
     ]
    },
    {
     "name": "stdout",
     "output_type": "stream",
     "text": [
      "Loop:  1109\n",
      "Loop:  1110\n",
      "Saved 1110\n",
      "\u001b[2m\u001b[36m(RolloutWorker pid=15280)\u001b[0m reset triggered\n",
      "\u001b[2m\u001b[36m(RolloutWorker pid=15280)\u001b[0m reload save for track : 4\n"
     ]
    },
    {
     "name": "stderr",
     "output_type": "stream",
     "text": [
      "\u001b[2m\u001b[36m(RolloutWorker pid=15280)\u001b[0m c:\\Users\\nadir\\anaconda3\\envs\\GTAI2\\lib\\site-packages\\rtgym\\envs\\real_time_env.py:376: UserWarning: Time-step timed out. Elapsed since last time-step: 0.1463937003245519\n",
      "\u001b[2m\u001b[36m(RolloutWorker pid=15280)\u001b[0m   warnings.warn(f\"Time-step timed out. Elapsed since last time-step: {now - self.__t_end}\")\n"
     ]
    },
    {
     "name": "stdout",
     "output_type": "stream",
     "text": [
      "Loop:  1111\n",
      "\u001b[2m\u001b[36m(RolloutWorker pid=15280)\u001b[0m reset triggered\n",
      "\u001b[2m\u001b[36m(RolloutWorker pid=15280)\u001b[0m reload save for track : 4\n"
     ]
    },
    {
     "name": "stderr",
     "output_type": "stream",
     "text": [
      "\u001b[2m\u001b[36m(RolloutWorker pid=15280)\u001b[0m c:\\Users\\nadir\\anaconda3\\envs\\GTAI2\\lib\\site-packages\\rtgym\\envs\\real_time_env.py:376: UserWarning: Time-step timed out. Elapsed since last time-step: 0.14276370032894192\n",
      "\u001b[2m\u001b[36m(RolloutWorker pid=15280)\u001b[0m   warnings.warn(f\"Time-step timed out. Elapsed since last time-step: {now - self.__t_end}\")\n"
     ]
    },
    {
     "name": "stdout",
     "output_type": "stream",
     "text": [
      "Loop:  1112\n",
      "Loop:  1113\n",
      "\u001b[2m\u001b[36m(RolloutWorker pid=15280)\u001b[0m reset triggered\n",
      "\u001b[2m\u001b[36m(RolloutWorker pid=15280)\u001b[0m reload save for track : 4\n"
     ]
    },
    {
     "name": "stderr",
     "output_type": "stream",
     "text": [
      "\u001b[2m\u001b[36m(RolloutWorker pid=15280)\u001b[0m c:\\Users\\nadir\\anaconda3\\envs\\GTAI2\\lib\\site-packages\\rtgym\\envs\\real_time_env.py:376: UserWarning: Time-step timed out. Elapsed since last time-step: 0.14727860032508033\n",
      "\u001b[2m\u001b[36m(RolloutWorker pid=15280)\u001b[0m   warnings.warn(f\"Time-step timed out. Elapsed since last time-step: {now - self.__t_end}\")\n"
     ]
    },
    {
     "name": "stdout",
     "output_type": "stream",
     "text": [
      "Loop:  1114\n",
      "\u001b[2m\u001b[36m(RolloutWorker pid=15280)\u001b[0m reset triggered\n",
      "\u001b[2m\u001b[36m(RolloutWorker pid=15280)\u001b[0m reload save for track : 4\n"
     ]
    },
    {
     "name": "stderr",
     "output_type": "stream",
     "text": [
      "\u001b[2m\u001b[36m(RolloutWorker pid=15280)\u001b[0m c:\\Users\\nadir\\anaconda3\\envs\\GTAI2\\lib\\site-packages\\rtgym\\envs\\real_time_env.py:376: UserWarning: Time-step timed out. Elapsed since last time-step: 0.13304320032693795\n",
      "\u001b[2m\u001b[36m(RolloutWorker pid=15280)\u001b[0m   warnings.warn(f\"Time-step timed out. Elapsed since last time-step: {now - self.__t_end}\")\n"
     ]
    },
    {
     "name": "stdout",
     "output_type": "stream",
     "text": [
      "Loop:  1115\n",
      "Loop:  1116\n",
      "\u001b[2m\u001b[36m(RolloutWorker pid=15280)\u001b[0m reset triggered\n",
      "\u001b[2m\u001b[36m(RolloutWorker pid=15280)\u001b[0m reload save for track : 4\n"
     ]
    },
    {
     "name": "stderr",
     "output_type": "stream",
     "text": [
      "\u001b[2m\u001b[36m(RolloutWorker pid=15280)\u001b[0m c:\\Users\\nadir\\anaconda3\\envs\\GTAI2\\lib\\site-packages\\rtgym\\envs\\real_time_env.py:376: UserWarning: Time-step timed out. Elapsed since last time-step: 0.13970800032257102\n",
      "\u001b[2m\u001b[36m(RolloutWorker pid=15280)\u001b[0m   warnings.warn(f\"Time-step timed out. Elapsed since last time-step: {now - self.__t_end}\")\n"
     ]
    },
    {
     "name": "stdout",
     "output_type": "stream",
     "text": [
      "Loop:  1117\n",
      "\u001b[2m\u001b[36m(RolloutWorker pid=15280)\u001b[0m reset triggered\n",
      "\u001b[2m\u001b[36m(RolloutWorker pid=15280)\u001b[0m reload save for track : 4\n"
     ]
    },
    {
     "name": "stderr",
     "output_type": "stream",
     "text": [
      "\u001b[2m\u001b[36m(RolloutWorker pid=15280)\u001b[0m c:\\Users\\nadir\\anaconda3\\envs\\GTAI2\\lib\\site-packages\\rtgym\\envs\\real_time_env.py:376: UserWarning: Time-step timed out. Elapsed since last time-step: 0.14129400032834383\n",
      "\u001b[2m\u001b[36m(RolloutWorker pid=15280)\u001b[0m   warnings.warn(f\"Time-step timed out. Elapsed since last time-step: {now - self.__t_end}\")\n"
     ]
    },
    {
     "name": "stdout",
     "output_type": "stream",
     "text": [
      "Loop:  1118\n",
      "\u001b[2m\u001b[36m(RolloutWorker pid=15280)\u001b[0m reset triggered\n",
      "\u001b[2m\u001b[36m(RolloutWorker pid=15280)\u001b[0m reload save for track : 4\n"
     ]
    },
    {
     "name": "stderr",
     "output_type": "stream",
     "text": [
      "\u001b[2m\u001b[36m(RolloutWorker pid=15280)\u001b[0m c:\\Users\\nadir\\anaconda3\\envs\\GTAI2\\lib\\site-packages\\rtgym\\envs\\real_time_env.py:376: UserWarning: Time-step timed out. Elapsed since last time-step: 0.14978030032580136\n",
      "\u001b[2m\u001b[36m(RolloutWorker pid=15280)\u001b[0m   warnings.warn(f\"Time-step timed out. Elapsed since last time-step: {now - self.__t_end}\")\n"
     ]
    },
    {
     "name": "stdout",
     "output_type": "stream",
     "text": [
      "Loop:  1119\n",
      "Loop:  1120\n",
      "Saved 1120\n",
      "\u001b[2m\u001b[36m(RolloutWorker pid=15280)\u001b[0m reset triggered\n",
      "\u001b[2m\u001b[36m(RolloutWorker pid=15280)\u001b[0m reload save for track : 4\n"
     ]
    },
    {
     "name": "stderr",
     "output_type": "stream",
     "text": [
      "\u001b[2m\u001b[36m(RolloutWorker pid=15280)\u001b[0m c:\\Users\\nadir\\anaconda3\\envs\\GTAI2\\lib\\site-packages\\rtgym\\envs\\real_time_env.py:376: UserWarning: Time-step timed out. Elapsed since last time-step: 0.1372378003252379\n",
      "\u001b[2m\u001b[36m(RolloutWorker pid=15280)\u001b[0m   warnings.warn(f\"Time-step timed out. Elapsed since last time-step: {now - self.__t_end}\")\n"
     ]
    },
    {
     "name": "stdout",
     "output_type": "stream",
     "text": [
      "Loop:  1121\n",
      "\u001b[2m\u001b[36m(RolloutWorker pid=15280)\u001b[0m reset triggered\n",
      "\u001b[2m\u001b[36m(RolloutWorker pid=15280)\u001b[0m reload save for track : 4\n"
     ]
    },
    {
     "name": "stderr",
     "output_type": "stream",
     "text": [
      "\u001b[2m\u001b[36m(RolloutWorker pid=15280)\u001b[0m c:\\Users\\nadir\\anaconda3\\envs\\GTAI2\\lib\\site-packages\\rtgym\\envs\\real_time_env.py:376: UserWarning: Time-step timed out. Elapsed since last time-step: 0.14196270032698521\n",
      "\u001b[2m\u001b[36m(RolloutWorker pid=15280)\u001b[0m   warnings.warn(f\"Time-step timed out. Elapsed since last time-step: {now - self.__t_end}\")\n"
     ]
    },
    {
     "name": "stdout",
     "output_type": "stream",
     "text": [
      "Loop:  1122\n",
      "Loop:  1123\n",
      "\u001b[2m\u001b[36m(RolloutWorker pid=15280)\u001b[0m reset triggered\n",
      "\u001b[2m\u001b[36m(RolloutWorker pid=15280)\u001b[0m reload save for track : 4\n"
     ]
    },
    {
     "name": "stderr",
     "output_type": "stream",
     "text": [
      "\u001b[2m\u001b[36m(RolloutWorker pid=15280)\u001b[0m c:\\Users\\nadir\\anaconda3\\envs\\GTAI2\\lib\\site-packages\\rtgym\\envs\\real_time_env.py:376: UserWarning: Time-step timed out. Elapsed since last time-step: 0.14776530032395385\n",
      "\u001b[2m\u001b[36m(RolloutWorker pid=15280)\u001b[0m   warnings.warn(f\"Time-step timed out. Elapsed since last time-step: {now - self.__t_end}\")\n"
     ]
    },
    {
     "name": "stdout",
     "output_type": "stream",
     "text": [
      "Loop:  1124\n",
      "\u001b[2m\u001b[36m(RolloutWorker pid=15280)\u001b[0m reset triggered\n",
      "\u001b[2m\u001b[36m(RolloutWorker pid=15280)\u001b[0m reload save for track : 4\n"
     ]
    },
    {
     "name": "stderr",
     "output_type": "stream",
     "text": [
      "\u001b[2m\u001b[36m(RolloutWorker pid=15280)\u001b[0m c:\\Users\\nadir\\anaconda3\\envs\\GTAI2\\lib\\site-packages\\rtgym\\envs\\real_time_env.py:376: UserWarning: Time-step timed out. Elapsed since last time-step: 0.16981220032903366\n",
      "\u001b[2m\u001b[36m(RolloutWorker pid=15280)\u001b[0m   warnings.warn(f\"Time-step timed out. Elapsed since last time-step: {now - self.__t_end}\")\n"
     ]
    },
    {
     "name": "stdout",
     "output_type": "stream",
     "text": [
      "Loop:  1125\n",
      "Loop:  1126\n",
      "\u001b[2m\u001b[36m(RolloutWorker pid=15280)\u001b[0m reset triggered\n",
      "\u001b[2m\u001b[36m(RolloutWorker pid=15280)\u001b[0m reload save for track : 4\n"
     ]
    },
    {
     "name": "stderr",
     "output_type": "stream",
     "text": [
      "\u001b[2m\u001b[36m(RolloutWorker pid=15280)\u001b[0m c:\\Users\\nadir\\anaconda3\\envs\\GTAI2\\lib\\site-packages\\rtgym\\envs\\real_time_env.py:376: UserWarning: Time-step timed out. Elapsed since last time-step: 0.14351200032251654\n",
      "\u001b[2m\u001b[36m(RolloutWorker pid=15280)\u001b[0m   warnings.warn(f\"Time-step timed out. Elapsed since last time-step: {now - self.__t_end}\")\n"
     ]
    },
    {
     "name": "stdout",
     "output_type": "stream",
     "text": [
      "Loop:  1127\n",
      "\u001b[2m\u001b[36m(RolloutWorker pid=15280)\u001b[0m reset triggered\n",
      "\u001b[2m\u001b[36m(RolloutWorker pid=15280)\u001b[0m reload save for track : 4\n"
     ]
    },
    {
     "name": "stderr",
     "output_type": "stream",
     "text": [
      "\u001b[2m\u001b[36m(RolloutWorker pid=15280)\u001b[0m c:\\Users\\nadir\\anaconda3\\envs\\GTAI2\\lib\\site-packages\\rtgym\\envs\\real_time_env.py:376: UserWarning: Time-step timed out. Elapsed since last time-step: 0.13730370032862993\n",
      "\u001b[2m\u001b[36m(RolloutWorker pid=15280)\u001b[0m   warnings.warn(f\"Time-step timed out. Elapsed since last time-step: {now - self.__t_end}\")\n"
     ]
    },
    {
     "name": "stdout",
     "output_type": "stream",
     "text": [
      "Loop:  1128\n",
      "Loop:  1129\n",
      "\u001b[2m\u001b[36m(RolloutWorker pid=15280)\u001b[0m reset triggered\n",
      "\u001b[2m\u001b[36m(RolloutWorker pid=15280)\u001b[0m reload save for track : 4\n"
     ]
    },
    {
     "name": "stderr",
     "output_type": "stream",
     "text": [
      "\u001b[2m\u001b[36m(RolloutWorker pid=15280)\u001b[0m c:\\Users\\nadir\\anaconda3\\envs\\GTAI2\\lib\\site-packages\\rtgym\\envs\\real_time_env.py:376: UserWarning: Time-step timed out. Elapsed since last time-step: 0.16930110032626544\n",
      "\u001b[2m\u001b[36m(RolloutWorker pid=15280)\u001b[0m   warnings.warn(f\"Time-step timed out. Elapsed since last time-step: {now - self.__t_end}\")\n"
     ]
    },
    {
     "name": "stdout",
     "output_type": "stream",
     "text": [
      "Loop:  1130\n",
      "Saved 1130\n",
      "\u001b[2m\u001b[36m(RolloutWorker pid=15280)\u001b[0m reset triggered\n",
      "\u001b[2m\u001b[36m(RolloutWorker pid=15280)\u001b[0m reload save for track : 4\n"
     ]
    },
    {
     "name": "stderr",
     "output_type": "stream",
     "text": [
      "\u001b[2m\u001b[36m(RolloutWorker pid=15280)\u001b[0m c:\\Users\\nadir\\anaconda3\\envs\\GTAI2\\lib\\site-packages\\rtgym\\envs\\real_time_env.py:376: UserWarning: Time-step timed out. Elapsed since last time-step: 0.12962320032602292\n",
      "\u001b[2m\u001b[36m(RolloutWorker pid=15280)\u001b[0m   warnings.warn(f\"Time-step timed out. Elapsed since last time-step: {now - self.__t_end}\")\n"
     ]
    },
    {
     "name": "stdout",
     "output_type": "stream",
     "text": [
      "Loop:  1131\n",
      "Loop:  1132\n",
      "\u001b[2m\u001b[36m(RolloutWorker pid=15280)\u001b[0m reset triggered\n",
      "\u001b[2m\u001b[36m(RolloutWorker pid=15280)\u001b[0m reload save for track : 4\n"
     ]
    },
    {
     "name": "stderr",
     "output_type": "stream",
     "text": [
      "\u001b[2m\u001b[36m(RolloutWorker pid=15280)\u001b[0m c:\\Users\\nadir\\anaconda3\\envs\\GTAI2\\lib\\site-packages\\rtgym\\envs\\real_time_env.py:376: UserWarning: Time-step timed out. Elapsed since last time-step: 0.15075100032481714\n",
      "\u001b[2m\u001b[36m(RolloutWorker pid=15280)\u001b[0m   warnings.warn(f\"Time-step timed out. Elapsed since last time-step: {now - self.__t_end}\")\n"
     ]
    },
    {
     "name": "stdout",
     "output_type": "stream",
     "text": [
      "Loop:  1133\n",
      "\u001b[2m\u001b[36m(RolloutWorker pid=15280)\u001b[0m reset triggered\n",
      "\u001b[2m\u001b[36m(RolloutWorker pid=15280)\u001b[0m reload save for track : 4\n"
     ]
    },
    {
     "name": "stderr",
     "output_type": "stream",
     "text": [
      "\u001b[2m\u001b[36m(RolloutWorker pid=15280)\u001b[0m c:\\Users\\nadir\\anaconda3\\envs\\GTAI2\\lib\\site-packages\\rtgym\\envs\\real_time_env.py:376: UserWarning: Time-step timed out. Elapsed since last time-step: 0.16825490032715607\n",
      "\u001b[2m\u001b[36m(RolloutWorker pid=15280)\u001b[0m   warnings.warn(f\"Time-step timed out. Elapsed since last time-step: {now - self.__t_end}\")\n"
     ]
    },
    {
     "name": "stdout",
     "output_type": "stream",
     "text": [
      "Loop:  1134\n",
      "\u001b[2m\u001b[36m(RolloutWorker pid=15280)\u001b[0m reset triggered\n",
      "\u001b[2m\u001b[36m(RolloutWorker pid=15280)\u001b[0m reload save for track : 4\n"
     ]
    },
    {
     "name": "stderr",
     "output_type": "stream",
     "text": [
      "\u001b[2m\u001b[36m(RolloutWorker pid=15280)\u001b[0m c:\\Users\\nadir\\anaconda3\\envs\\GTAI2\\lib\\site-packages\\rtgym\\envs\\real_time_env.py:376: UserWarning: Time-step timed out. Elapsed since last time-step: 0.14450620032584993\n",
      "\u001b[2m\u001b[36m(RolloutWorker pid=15280)\u001b[0m   warnings.warn(f\"Time-step timed out. Elapsed since last time-step: {now - self.__t_end}\")\n"
     ]
    },
    {
     "name": "stdout",
     "output_type": "stream",
     "text": [
      "Loop:  1135\n",
      "Loop:  1136\n",
      "\u001b[2m\u001b[36m(RolloutWorker pid=15280)\u001b[0m reset triggered\n",
      "\u001b[2m\u001b[36m(RolloutWorker pid=15280)\u001b[0m reload save for track : 4\n"
     ]
    },
    {
     "name": "stderr",
     "output_type": "stream",
     "text": [
      "\u001b[2m\u001b[36m(RolloutWorker pid=15280)\u001b[0m c:\\Users\\nadir\\anaconda3\\envs\\GTAI2\\lib\\site-packages\\rtgym\\envs\\real_time_env.py:376: UserWarning: Time-step timed out. Elapsed since last time-step: 0.15702180032531032\n",
      "\u001b[2m\u001b[36m(RolloutWorker pid=15280)\u001b[0m   warnings.warn(f\"Time-step timed out. Elapsed since last time-step: {now - self.__t_end}\")\n"
     ]
    },
    {
     "name": "stdout",
     "output_type": "stream",
     "text": [
      "Loop:  1137\n",
      "\u001b[2m\u001b[36m(RolloutWorker pid=15280)\u001b[0m reset triggered\n",
      "\u001b[2m\u001b[36m(RolloutWorker pid=15280)\u001b[0m reload save for track : 4\n"
     ]
    },
    {
     "name": "stderr",
     "output_type": "stream",
     "text": [
      "\u001b[2m\u001b[36m(RolloutWorker pid=15280)\u001b[0m c:\\Users\\nadir\\anaconda3\\envs\\GTAI2\\lib\\site-packages\\rtgym\\envs\\real_time_env.py:376: UserWarning: Time-step timed out. Elapsed since last time-step: 0.1542819003261684\n",
      "\u001b[2m\u001b[36m(RolloutWorker pid=15280)\u001b[0m   warnings.warn(f\"Time-step timed out. Elapsed since last time-step: {now - self.__t_end}\")\n"
     ]
    },
    {
     "name": "stdout",
     "output_type": "stream",
     "text": [
      "Loop:  1138\n",
      "Loop:  1139\n",
      "\u001b[2m\u001b[36m(RolloutWorker pid=15280)\u001b[0m reset triggered\n",
      "\u001b[2m\u001b[36m(RolloutWorker pid=15280)\u001b[0m reload save for track : 4\n"
     ]
    },
    {
     "name": "stderr",
     "output_type": "stream",
     "text": [
      "\u001b[2m\u001b[36m(RolloutWorker pid=15280)\u001b[0m c:\\Users\\nadir\\anaconda3\\envs\\GTAI2\\lib\\site-packages\\rtgym\\envs\\real_time_env.py:376: UserWarning: Time-step timed out. Elapsed since last time-step: 0.15830320032546297\n",
      "\u001b[2m\u001b[36m(RolloutWorker pid=15280)\u001b[0m   warnings.warn(f\"Time-step timed out. Elapsed since last time-step: {now - self.__t_end}\")\n"
     ]
    },
    {
     "name": "stdout",
     "output_type": "stream",
     "text": [
      "Loop:  1140\n",
      "Saved 1140\n",
      "\u001b[2m\u001b[36m(RolloutWorker pid=15280)\u001b[0m reset triggered\n",
      "\u001b[2m\u001b[36m(RolloutWorker pid=15280)\u001b[0m reload save for track : 4\n"
     ]
    },
    {
     "name": "stderr",
     "output_type": "stream",
     "text": [
      "\u001b[2m\u001b[36m(RolloutWorker pid=15280)\u001b[0m c:\\Users\\nadir\\anaconda3\\envs\\GTAI2\\lib\\site-packages\\rtgym\\envs\\real_time_env.py:376: UserWarning: Time-step timed out. Elapsed since last time-step: 0.14765470032580197\n",
      "\u001b[2m\u001b[36m(RolloutWorker pid=15280)\u001b[0m   warnings.warn(f\"Time-step timed out. Elapsed since last time-step: {now - self.__t_end}\")\n"
     ]
    },
    {
     "name": "stdout",
     "output_type": "stream",
     "text": [
      "Loop:  1141\n",
      "Loop:  1142\n",
      "\u001b[2m\u001b[36m(RolloutWorker pid=15280)\u001b[0m reset triggered\n",
      "\u001b[2m\u001b[36m(RolloutWorker pid=15280)\u001b[0m reload save for track : 4\n"
     ]
    },
    {
     "name": "stderr",
     "output_type": "stream",
     "text": [
      "\u001b[2m\u001b[36m(RolloutWorker pid=15280)\u001b[0m c:\\Users\\nadir\\anaconda3\\envs\\GTAI2\\lib\\site-packages\\rtgym\\envs\\real_time_env.py:376: UserWarning: Time-step timed out. Elapsed since last time-step: 0.17100810032570735\n",
      "\u001b[2m\u001b[36m(RolloutWorker pid=15280)\u001b[0m   warnings.warn(f\"Time-step timed out. Elapsed since last time-step: {now - self.__t_end}\")\n"
     ]
    },
    {
     "name": "stdout",
     "output_type": "stream",
     "text": [
      "Loop:  1143\n",
      "\u001b[2m\u001b[36m(RolloutWorker pid=15280)\u001b[0m reset triggered\n",
      "\u001b[2m\u001b[36m(RolloutWorker pid=15280)\u001b[0m reload save for track : 4\n"
     ]
    },
    {
     "name": "stderr",
     "output_type": "stream",
     "text": [
      "\u001b[2m\u001b[36m(RolloutWorker pid=15280)\u001b[0m c:\\Users\\nadir\\anaconda3\\envs\\GTAI2\\lib\\site-packages\\rtgym\\envs\\real_time_env.py:376: UserWarning: Time-step timed out. Elapsed since last time-step: 0.13248040032704012\n",
      "\u001b[2m\u001b[36m(RolloutWorker pid=15280)\u001b[0m   warnings.warn(f\"Time-step timed out. Elapsed since last time-step: {now - self.__t_end}\")\n"
     ]
    },
    {
     "name": "stdout",
     "output_type": "stream",
     "text": [
      "Loop:  1144\n",
      "Loop:  1145\n",
      "\u001b[2m\u001b[36m(RolloutWorker pid=15280)\u001b[0m reset triggered\n",
      "\u001b[2m\u001b[36m(RolloutWorker pid=15280)\u001b[0m reload save for track : 4\n"
     ]
    },
    {
     "name": "stderr",
     "output_type": "stream",
     "text": [
      "\u001b[2m\u001b[36m(RolloutWorker pid=15280)\u001b[0m c:\\Users\\nadir\\anaconda3\\envs\\GTAI2\\lib\\site-packages\\rtgym\\envs\\real_time_env.py:376: UserWarning: Time-step timed out. Elapsed since last time-step: 0.1371712003237917\n",
      "\u001b[2m\u001b[36m(RolloutWorker pid=15280)\u001b[0m   warnings.warn(f\"Time-step timed out. Elapsed since last time-step: {now - self.__t_end}\")\n",
      "\u001b[2m\u001b[36m(RolloutWorker pid=15280)\u001b[0m c:\\Users\\nadir\\anaconda3\\envs\\GTAI2\\lib\\site-packages\\rtgym\\envs\\real_time_env.py:376: UserWarning: Time-step timed out. Elapsed since last time-step: 0.12135740022131358\n",
      "\u001b[2m\u001b[36m(RolloutWorker pid=15280)\u001b[0m   warnings.warn(f\"Time-step timed out. Elapsed since last time-step: {now - self.__t_end}\")\n"
     ]
    },
    {
     "name": "stdout",
     "output_type": "stream",
     "text": [
      "Loop:  1146\n",
      "\u001b[2m\u001b[36m(RolloutWorker pid=15280)\u001b[0m reset triggered\n",
      "\u001b[2m\u001b[36m(RolloutWorker pid=15280)\u001b[0m reload save for track : 4\n"
     ]
    },
    {
     "name": "stderr",
     "output_type": "stream",
     "text": [
      "\u001b[2m\u001b[36m(RolloutWorker pid=15280)\u001b[0m c:\\Users\\nadir\\anaconda3\\envs\\GTAI2\\lib\\site-packages\\rtgym\\envs\\real_time_env.py:376: UserWarning: Time-step timed out. Elapsed since last time-step: 0.15803300010520616\n",
      "\u001b[2m\u001b[36m(RolloutWorker pid=15280)\u001b[0m   warnings.warn(f\"Time-step timed out. Elapsed since last time-step: {now - self.__t_end}\")\n"
     ]
    },
    {
     "name": "stdout",
     "output_type": "stream",
     "text": [
      "Loop:  1147\n",
      "\u001b[2m\u001b[36m(RolloutWorker pid=15280)\u001b[0m reset triggered\n",
      "\u001b[2m\u001b[36m(RolloutWorker pid=15280)\u001b[0m reload save for track : 4\n"
     ]
    },
    {
     "name": "stderr",
     "output_type": "stream",
     "text": [
      "\u001b[2m\u001b[36m(RolloutWorker pid=15280)\u001b[0m c:\\Users\\nadir\\anaconda3\\envs\\GTAI2\\lib\\site-packages\\rtgym\\envs\\real_time_env.py:376: UserWarning: Time-step timed out. Elapsed since last time-step: 0.1230265003250679\n",
      "\u001b[2m\u001b[36m(RolloutWorker pid=15280)\u001b[0m   warnings.warn(f\"Time-step timed out. Elapsed since last time-step: {now - self.__t_end}\")\n"
     ]
    },
    {
     "name": "stdout",
     "output_type": "stream",
     "text": [
      "Loop:  1148\n",
      "Loop:  1149\n",
      "\u001b[2m\u001b[36m(RolloutWorker pid=15280)\u001b[0m reset triggered\n",
      "\u001b[2m\u001b[36m(RolloutWorker pid=15280)\u001b[0m reload save for track : 4\n"
     ]
    },
    {
     "name": "stderr",
     "output_type": "stream",
     "text": [
      "\u001b[2m\u001b[36m(RolloutWorker pid=15280)\u001b[0m c:\\Users\\nadir\\anaconda3\\envs\\GTAI2\\lib\\site-packages\\rtgym\\envs\\real_time_env.py:376: UserWarning: Time-step timed out. Elapsed since last time-step: 0.15730730032737483\n",
      "\u001b[2m\u001b[36m(RolloutWorker pid=15280)\u001b[0m   warnings.warn(f\"Time-step timed out. Elapsed since last time-step: {now - self.__t_end}\")\n"
     ]
    },
    {
     "name": "stdout",
     "output_type": "stream",
     "text": [
      "Loop:  1150\n",
      "Saved 1150\n",
      "\u001b[2m\u001b[36m(RolloutWorker pid=15280)\u001b[0m reset triggered\n",
      "\u001b[2m\u001b[36m(RolloutWorker pid=15280)\u001b[0m reload save for track : 4\n"
     ]
    },
    {
     "name": "stderr",
     "output_type": "stream",
     "text": [
      "\u001b[2m\u001b[36m(RolloutWorker pid=15280)\u001b[0m c:\\Users\\nadir\\anaconda3\\envs\\GTAI2\\lib\\site-packages\\rtgym\\envs\\real_time_env.py:376: UserWarning: Time-step timed out. Elapsed since last time-step: 0.15295300032448722\n",
      "\u001b[2m\u001b[36m(RolloutWorker pid=15280)\u001b[0m   warnings.warn(f\"Time-step timed out. Elapsed since last time-step: {now - self.__t_end}\")\n"
     ]
    },
    {
     "name": "stdout",
     "output_type": "stream",
     "text": [
      "Loop:  1151\n",
      "Loop:  1152\n",
      "\u001b[2m\u001b[36m(RolloutWorker pid=15280)\u001b[0m reset triggered\n",
      "\u001b[2m\u001b[36m(RolloutWorker pid=15280)\u001b[0m reload save for track : 4\n"
     ]
    },
    {
     "name": "stderr",
     "output_type": "stream",
     "text": [
      "\u001b[2m\u001b[36m(RolloutWorker pid=15280)\u001b[0m c:\\Users\\nadir\\anaconda3\\envs\\GTAI2\\lib\\site-packages\\rtgym\\envs\\real_time_env.py:376: UserWarning: Time-step timed out. Elapsed since last time-step: 0.1402252003281319\n",
      "\u001b[2m\u001b[36m(RolloutWorker pid=15280)\u001b[0m   warnings.warn(f\"Time-step timed out. Elapsed since last time-step: {now - self.__t_end}\")\n"
     ]
    },
    {
     "name": "stdout",
     "output_type": "stream",
     "text": [
      "Loop:  1153\n",
      "\u001b[2m\u001b[36m(RolloutWorker pid=15280)\u001b[0m reset triggered\n",
      "\u001b[2m\u001b[36m(RolloutWorker pid=15280)\u001b[0m reload save for track : 4\n"
     ]
    },
    {
     "name": "stderr",
     "output_type": "stream",
     "text": [
      "\u001b[2m\u001b[36m(RolloutWorker pid=15280)\u001b[0m c:\\Users\\nadir\\anaconda3\\envs\\GTAI2\\lib\\site-packages\\rtgym\\envs\\real_time_env.py:376: UserWarning: Time-step timed out. Elapsed since last time-step: 0.16658040032416466\n",
      "\u001b[2m\u001b[36m(RolloutWorker pid=15280)\u001b[0m   warnings.warn(f\"Time-step timed out. Elapsed since last time-step: {now - self.__t_end}\")\n"
     ]
    },
    {
     "name": "stdout",
     "output_type": "stream",
     "text": [
      "Loop:  1154\n",
      "Loop:  1155\n",
      "\u001b[2m\u001b[36m(RolloutWorker pid=15280)\u001b[0m reset triggered\n",
      "\u001b[2m\u001b[36m(RolloutWorker pid=15280)\u001b[0m reload save for track : 4\n"
     ]
    },
    {
     "name": "stderr",
     "output_type": "stream",
     "text": [
      "\u001b[2m\u001b[36m(RolloutWorker pid=15280)\u001b[0m c:\\Users\\nadir\\anaconda3\\envs\\GTAI2\\lib\\site-packages\\rtgym\\envs\\real_time_env.py:376: UserWarning: Time-step timed out. Elapsed since last time-step: 0.15385340032662498\n",
      "\u001b[2m\u001b[36m(RolloutWorker pid=15280)\u001b[0m   warnings.warn(f\"Time-step timed out. Elapsed since last time-step: {now - self.__t_end}\")\n"
     ]
    },
    {
     "name": "stdout",
     "output_type": "stream",
     "text": [
      "Loop:  1156\n",
      "\u001b[2m\u001b[36m(RolloutWorker pid=15280)\u001b[0m reset triggered\n",
      "\u001b[2m\u001b[36m(RolloutWorker pid=15280)\u001b[0m reload save for track : 4\n"
     ]
    },
    {
     "name": "stderr",
     "output_type": "stream",
     "text": [
      "\u001b[2m\u001b[36m(RolloutWorker pid=15280)\u001b[0m c:\\Users\\nadir\\anaconda3\\envs\\GTAI2\\lib\\site-packages\\rtgym\\envs\\real_time_env.py:376: UserWarning: Time-step timed out. Elapsed since last time-step: 0.14513130032719346\n",
      "\u001b[2m\u001b[36m(RolloutWorker pid=15280)\u001b[0m   warnings.warn(f\"Time-step timed out. Elapsed since last time-step: {now - self.__t_end}\")\n"
     ]
    },
    {
     "name": "stdout",
     "output_type": "stream",
     "text": [
      "Loop:  1157\n",
      "Loop:  1158\n",
      "\u001b[2m\u001b[36m(RolloutWorker pid=15280)\u001b[0m reset triggered\n",
      "\u001b[2m\u001b[36m(RolloutWorker pid=15280)\u001b[0m reload save for track : 4\n"
     ]
    },
    {
     "name": "stderr",
     "output_type": "stream",
     "text": [
      "\u001b[2m\u001b[36m(RolloutWorker pid=15280)\u001b[0m c:\\Users\\nadir\\anaconda3\\envs\\GTAI2\\lib\\site-packages\\rtgym\\envs\\real_time_env.py:376: UserWarning: Time-step timed out. Elapsed since last time-step: 0.1242526003261446\n",
      "\u001b[2m\u001b[36m(RolloutWorker pid=15280)\u001b[0m   warnings.warn(f\"Time-step timed out. Elapsed since last time-step: {now - self.__t_end}\")\n"
     ]
    },
    {
     "name": "stdout",
     "output_type": "stream",
     "text": [
      "Loop:  1159\n",
      "\u001b[2m\u001b[36m(RolloutWorker pid=15280)\u001b[0m reset triggered\n",
      "\u001b[2m\u001b[36m(RolloutWorker pid=15280)\u001b[0m reload save for track : 4\n"
     ]
    },
    {
     "name": "stderr",
     "output_type": "stream",
     "text": [
      "\u001b[2m\u001b[36m(RolloutWorker pid=15280)\u001b[0m c:\\Users\\nadir\\anaconda3\\envs\\GTAI2\\lib\\site-packages\\rtgym\\envs\\real_time_env.py:376: UserWarning: Time-step timed out. Elapsed since last time-step: 0.14201840032546897\n",
      "\u001b[2m\u001b[36m(RolloutWorker pid=15280)\u001b[0m   warnings.warn(f\"Time-step timed out. Elapsed since last time-step: {now - self.__t_end}\")\n"
     ]
    },
    {
     "name": "stdout",
     "output_type": "stream",
     "text": [
      "Loop:  1160\n",
      "Saved 1160\n",
      "\u001b[2m\u001b[36m(RolloutWorker pid=15280)\u001b[0m reset triggered\n",
      "\u001b[2m\u001b[36m(RolloutWorker pid=15280)\u001b[0m reload save for track : 4\n"
     ]
    },
    {
     "name": "stderr",
     "output_type": "stream",
     "text": [
      "\u001b[2m\u001b[36m(RolloutWorker pid=15280)\u001b[0m c:\\Users\\nadir\\anaconda3\\envs\\GTAI2\\lib\\site-packages\\rtgym\\envs\\real_time_env.py:376: UserWarning: Time-step timed out. Elapsed since last time-step: 0.16501640032583964\n",
      "\u001b[2m\u001b[36m(RolloutWorker pid=15280)\u001b[0m   warnings.warn(f\"Time-step timed out. Elapsed since last time-step: {now - self.__t_end}\")\n"
     ]
    },
    {
     "name": "stdout",
     "output_type": "stream",
     "text": [
      "Loop:  1161\n",
      "Loop:  1162\n",
      "\u001b[2m\u001b[36m(RolloutWorker pid=15280)\u001b[0m reset triggered\n",
      "\u001b[2m\u001b[36m(RolloutWorker pid=15280)\u001b[0m reload save for track : 4\n"
     ]
    },
    {
     "name": "stderr",
     "output_type": "stream",
     "text": [
      "\u001b[2m\u001b[36m(RolloutWorker pid=15280)\u001b[0m c:\\Users\\nadir\\anaconda3\\envs\\GTAI2\\lib\\site-packages\\rtgym\\envs\\real_time_env.py:376: UserWarning: Time-step timed out. Elapsed since last time-step: 0.1526266003238561\n",
      "\u001b[2m\u001b[36m(RolloutWorker pid=15280)\u001b[0m   warnings.warn(f\"Time-step timed out. Elapsed since last time-step: {now - self.__t_end}\")\n"
     ]
    },
    {
     "name": "stdout",
     "output_type": "stream",
     "text": [
      "Loop:  1163\n",
      "\u001b[2m\u001b[36m(RolloutWorker pid=15280)\u001b[0m reset triggered\n",
      "\u001b[2m\u001b[36m(RolloutWorker pid=15280)\u001b[0m reload save for track : 4\n"
     ]
    },
    {
     "name": "stderr",
     "output_type": "stream",
     "text": [
      "\u001b[2m\u001b[36m(RolloutWorker pid=15280)\u001b[0m c:\\Users\\nadir\\anaconda3\\envs\\GTAI2\\lib\\site-packages\\rtgym\\envs\\real_time_env.py:376: UserWarning: Time-step timed out. Elapsed since last time-step: 0.15110790032849764\n",
      "\u001b[2m\u001b[36m(RolloutWorker pid=15280)\u001b[0m   warnings.warn(f\"Time-step timed out. Elapsed since last time-step: {now - self.__t_end}\")\n"
     ]
    },
    {
     "name": "stdout",
     "output_type": "stream",
     "text": [
      "Loop:  1164\n",
      "Loop:  1165\n",
      "\u001b[2m\u001b[36m(RolloutWorker pid=15280)\u001b[0m reset triggered\n",
      "\u001b[2m\u001b[36m(RolloutWorker pid=15280)\u001b[0m reload save for track : 4\n"
     ]
    },
    {
     "name": "stderr",
     "output_type": "stream",
     "text": [
      "\u001b[2m\u001b[36m(RolloutWorker pid=15280)\u001b[0m c:\\Users\\nadir\\anaconda3\\envs\\GTAI2\\lib\\site-packages\\rtgym\\envs\\real_time_env.py:376: UserWarning: Time-step timed out. Elapsed since last time-step: 0.1365830003269366\n",
      "\u001b[2m\u001b[36m(RolloutWorker pid=15280)\u001b[0m   warnings.warn(f\"Time-step timed out. Elapsed since last time-step: {now - self.__t_end}\")\n"
     ]
    },
    {
     "name": "stdout",
     "output_type": "stream",
     "text": [
      "Loop:  1166\n",
      "\u001b[2m\u001b[36m(RolloutWorker pid=15280)\u001b[0m reset triggered\n",
      "\u001b[2m\u001b[36m(RolloutWorker pid=15280)\u001b[0m reload save for track : 4\n"
     ]
    },
    {
     "name": "stderr",
     "output_type": "stream",
     "text": [
      "\u001b[2m\u001b[36m(RolloutWorker pid=15280)\u001b[0m c:\\Users\\nadir\\anaconda3\\envs\\GTAI2\\lib\\site-packages\\rtgym\\envs\\real_time_env.py:376: UserWarning: Time-step timed out. Elapsed since last time-step: 0.13102510032331338\n",
      "\u001b[2m\u001b[36m(RolloutWorker pid=15280)\u001b[0m   warnings.warn(f\"Time-step timed out. Elapsed since last time-step: {now - self.__t_end}\")\n"
     ]
    },
    {
     "name": "stdout",
     "output_type": "stream",
     "text": [
      "Loop:  1167\n",
      "Loop:  1168\n",
      "\u001b[2m\u001b[36m(RolloutWorker pid=15280)\u001b[0m reset triggered\n",
      "\u001b[2m\u001b[36m(RolloutWorker pid=15280)\u001b[0m reload save for track : 4\n"
     ]
    },
    {
     "name": "stderr",
     "output_type": "stream",
     "text": [
      "\u001b[2m\u001b[36m(RolloutWorker pid=15280)\u001b[0m c:\\Users\\nadir\\anaconda3\\envs\\GTAI2\\lib\\site-packages\\rtgym\\envs\\real_time_env.py:376: UserWarning: Time-step timed out. Elapsed since last time-step: 0.13159030032693408\n",
      "\u001b[2m\u001b[36m(RolloutWorker pid=15280)\u001b[0m   warnings.warn(f\"Time-step timed out. Elapsed since last time-step: {now - self.__t_end}\")\n"
     ]
    },
    {
     "name": "stdout",
     "output_type": "stream",
     "text": [
      "Loop:  1169\n",
      "\u001b[2m\u001b[36m(RolloutWorker pid=15280)\u001b[0m reset triggered\n",
      "\u001b[2m\u001b[36m(RolloutWorker pid=15280)\u001b[0m reload save for track : 4\n"
     ]
    },
    {
     "name": "stderr",
     "output_type": "stream",
     "text": [
      "\u001b[2m\u001b[36m(RolloutWorker pid=15280)\u001b[0m c:\\Users\\nadir\\anaconda3\\envs\\GTAI2\\lib\\site-packages\\rtgym\\envs\\real_time_env.py:376: UserWarning: Time-step timed out. Elapsed since last time-step: 0.15089040032762568\n",
      "\u001b[2m\u001b[36m(RolloutWorker pid=15280)\u001b[0m   warnings.warn(f\"Time-step timed out. Elapsed since last time-step: {now - self.__t_end}\")\n"
     ]
    },
    {
     "name": "stdout",
     "output_type": "stream",
     "text": [
      "Loop:  1170\n",
      "Saved 1170\n",
      "Loop:  1171\n",
      "\u001b[2m\u001b[36m(RolloutWorker pid=15280)\u001b[0m reset triggered\n",
      "\u001b[2m\u001b[36m(RolloutWorker pid=15280)\u001b[0m reload save for track : 4\n"
     ]
    },
    {
     "name": "stderr",
     "output_type": "stream",
     "text": [
      "\u001b[2m\u001b[36m(RolloutWorker pid=15280)\u001b[0m c:\\Users\\nadir\\anaconda3\\envs\\GTAI2\\lib\\site-packages\\rtgym\\envs\\real_time_env.py:376: UserWarning: Time-step timed out. Elapsed since last time-step: 0.14748380032324349\n",
      "\u001b[2m\u001b[36m(RolloutWorker pid=15280)\u001b[0m   warnings.warn(f\"Time-step timed out. Elapsed since last time-step: {now - self.__t_end}\")\n"
     ]
    },
    {
     "name": "stdout",
     "output_type": "stream",
     "text": [
      "Loop:  1172\n",
      "\u001b[2m\u001b[36m(RolloutWorker pid=15280)\u001b[0m reset triggered\n",
      "\u001b[2m\u001b[36m(RolloutWorker pid=15280)\u001b[0m reload save for track : 4\n"
     ]
    },
    {
     "name": "stderr",
     "output_type": "stream",
     "text": [
      "\u001b[2m\u001b[36m(RolloutWorker pid=15280)\u001b[0m c:\\Users\\nadir\\anaconda3\\envs\\GTAI2\\lib\\site-packages\\rtgym\\envs\\real_time_env.py:376: UserWarning: Time-step timed out. Elapsed since last time-step: 0.1327664003256359\n",
      "\u001b[2m\u001b[36m(RolloutWorker pid=15280)\u001b[0m   warnings.warn(f\"Time-step timed out. Elapsed since last time-step: {now - self.__t_end}\")\n"
     ]
    },
    {
     "name": "stdout",
     "output_type": "stream",
     "text": [
      "Loop:  1173\n",
      "\u001b[2m\u001b[36m(RolloutWorker pid=15280)\u001b[0m reset triggered\n",
      "\u001b[2m\u001b[36m(RolloutWorker pid=15280)\u001b[0m reload save for track : 4\n"
     ]
    },
    {
     "name": "stderr",
     "output_type": "stream",
     "text": [
      "\u001b[2m\u001b[36m(RolloutWorker pid=15280)\u001b[0m c:\\Users\\nadir\\anaconda3\\envs\\GTAI2\\lib\\site-packages\\rtgym\\envs\\real_time_env.py:376: UserWarning: Time-step timed out. Elapsed since last time-step: 0.13700690032783314\n",
      "\u001b[2m\u001b[36m(RolloutWorker pid=15280)\u001b[0m   warnings.warn(f\"Time-step timed out. Elapsed since last time-step: {now - self.__t_end}\")\n"
     ]
    },
    {
     "name": "stdout",
     "output_type": "stream",
     "text": [
      "Loop:  1174\n",
      "Loop:  1175\n",
      "\u001b[2m\u001b[36m(RolloutWorker pid=15280)\u001b[0m reset triggered\n",
      "\u001b[2m\u001b[36m(RolloutWorker pid=15280)\u001b[0m reload save for track : 4\n"
     ]
    },
    {
     "name": "stderr",
     "output_type": "stream",
     "text": [
      "\u001b[2m\u001b[36m(RolloutWorker pid=15280)\u001b[0m c:\\Users\\nadir\\anaconda3\\envs\\GTAI2\\lib\\site-packages\\rtgym\\envs\\real_time_env.py:376: UserWarning: Time-step timed out. Elapsed since last time-step: 0.1294160003271827\n",
      "\u001b[2m\u001b[36m(RolloutWorker pid=15280)\u001b[0m   warnings.warn(f\"Time-step timed out. Elapsed since last time-step: {now - self.__t_end}\")\n"
     ]
    },
    {
     "name": "stdout",
     "output_type": "stream",
     "text": [
      "Loop:  1176\n",
      "\u001b[2m\u001b[36m(RolloutWorker pid=15280)\u001b[0m reset triggered\n",
      "\u001b[2m\u001b[36m(RolloutWorker pid=15280)\u001b[0m reload save for track : 4\n"
     ]
    },
    {
     "name": "stderr",
     "output_type": "stream",
     "text": [
      "\u001b[2m\u001b[36m(RolloutWorker pid=15280)\u001b[0m c:\\Users\\nadir\\anaconda3\\envs\\GTAI2\\lib\\site-packages\\rtgym\\envs\\real_time_env.py:376: UserWarning: Time-step timed out. Elapsed since last time-step: 0.15084030032448936\n",
      "\u001b[2m\u001b[36m(RolloutWorker pid=15280)\u001b[0m   warnings.warn(f\"Time-step timed out. Elapsed since last time-step: {now - self.__t_end}\")\n"
     ]
    },
    {
     "name": "stdout",
     "output_type": "stream",
     "text": [
      "Loop:  1177\n",
      "Loop:  1178\n",
      "\u001b[2m\u001b[36m(RolloutWorker pid=15280)\u001b[0m reset triggered\n",
      "\u001b[2m\u001b[36m(RolloutWorker pid=15280)\u001b[0m reload save for track : 4\n"
     ]
    },
    {
     "name": "stderr",
     "output_type": "stream",
     "text": [
      "\u001b[2m\u001b[36m(RolloutWorker pid=15280)\u001b[0m c:\\Users\\nadir\\anaconda3\\envs\\GTAI2\\lib\\site-packages\\rtgym\\envs\\real_time_env.py:376: UserWarning: Time-step timed out. Elapsed since last time-step: 0.13273870032571722\n",
      "\u001b[2m\u001b[36m(RolloutWorker pid=15280)\u001b[0m   warnings.warn(f\"Time-step timed out. Elapsed since last time-step: {now - self.__t_end}\")\n"
     ]
    },
    {
     "name": "stdout",
     "output_type": "stream",
     "text": [
      "Loop:  1179\n",
      "\u001b[2m\u001b[36m(RolloutWorker pid=15280)\u001b[0m reset triggered\n",
      "\u001b[2m\u001b[36m(RolloutWorker pid=15280)\u001b[0m reload save for track : 4\n"
     ]
    },
    {
     "name": "stderr",
     "output_type": "stream",
     "text": [
      "\u001b[2m\u001b[36m(RolloutWorker pid=15280)\u001b[0m c:\\Users\\nadir\\anaconda3\\envs\\GTAI2\\lib\\site-packages\\rtgym\\envs\\real_time_env.py:376: UserWarning: Time-step timed out. Elapsed since last time-step: 0.137343600326858\n",
      "\u001b[2m\u001b[36m(RolloutWorker pid=15280)\u001b[0m   warnings.warn(f\"Time-step timed out. Elapsed since last time-step: {now - self.__t_end}\")\n"
     ]
    },
    {
     "name": "stdout",
     "output_type": "stream",
     "text": [
      "Loop:  1180\n",
      "Saved 1180\n",
      "Loop:  1181\n",
      "\u001b[2m\u001b[36m(RolloutWorker pid=15280)\u001b[0m reset triggered\n",
      "\u001b[2m\u001b[36m(RolloutWorker pid=15280)\u001b[0m reload save for track : 4\n"
     ]
    },
    {
     "name": "stderr",
     "output_type": "stream",
     "text": [
      "\u001b[2m\u001b[36m(RolloutWorker pid=15280)\u001b[0m c:\\Users\\nadir\\anaconda3\\envs\\GTAI2\\lib\\site-packages\\rtgym\\envs\\real_time_env.py:376: UserWarning: Time-step timed out. Elapsed since last time-step: 0.15183300032367697\n",
      "\u001b[2m\u001b[36m(RolloutWorker pid=15280)\u001b[0m   warnings.warn(f\"Time-step timed out. Elapsed since last time-step: {now - self.__t_end}\")\n"
     ]
    },
    {
     "name": "stdout",
     "output_type": "stream",
     "text": [
      "Loop:  1182\n",
      "\u001b[2m\u001b[36m(RolloutWorker pid=15280)\u001b[0m reset triggered\n",
      "\u001b[2m\u001b[36m(RolloutWorker pid=15280)\u001b[0m reload save for track : 4\n"
     ]
    },
    {
     "name": "stderr",
     "output_type": "stream",
     "text": [
      "\u001b[2m\u001b[36m(RolloutWorker pid=15280)\u001b[0m c:\\Users\\nadir\\anaconda3\\envs\\GTAI2\\lib\\site-packages\\rtgym\\envs\\real_time_env.py:376: UserWarning: Time-step timed out. Elapsed since last time-step: 0.13924690032581566\n",
      "\u001b[2m\u001b[36m(RolloutWorker pid=15280)\u001b[0m   warnings.warn(f\"Time-step timed out. Elapsed since last time-step: {now - self.__t_end}\")\n"
     ]
    },
    {
     "name": "stdout",
     "output_type": "stream",
     "text": [
      "Loop:  1183\n",
      "Loop:  1184\n",
      "\u001b[2m\u001b[36m(RolloutWorker pid=15280)\u001b[0m reset triggered\n",
      "\u001b[2m\u001b[36m(RolloutWorker pid=15280)\u001b[0m reload save for track : 4\n"
     ]
    },
    {
     "name": "stderr",
     "output_type": "stream",
     "text": [
      "\u001b[2m\u001b[36m(RolloutWorker pid=15280)\u001b[0m c:\\Users\\nadir\\anaconda3\\envs\\GTAI2\\lib\\site-packages\\rtgym\\envs\\real_time_env.py:376: UserWarning: Time-step timed out. Elapsed since last time-step: 0.14192060032655718\n",
      "\u001b[2m\u001b[36m(RolloutWorker pid=15280)\u001b[0m   warnings.warn(f\"Time-step timed out. Elapsed since last time-step: {now - self.__t_end}\")\n"
     ]
    },
    {
     "name": "stdout",
     "output_type": "stream",
     "text": [
      "Loop:  1185\n",
      "\u001b[2m\u001b[36m(RolloutWorker pid=15280)\u001b[0m reset triggered\n",
      "\u001b[2m\u001b[36m(RolloutWorker pid=15280)\u001b[0m reload save for track : 4\n"
     ]
    },
    {
     "name": "stderr",
     "output_type": "stream",
     "text": [
      "\u001b[2m\u001b[36m(RolloutWorker pid=15280)\u001b[0m c:\\Users\\nadir\\anaconda3\\envs\\GTAI2\\lib\\site-packages\\rtgym\\envs\\real_time_env.py:376: UserWarning: Time-step timed out. Elapsed since last time-step: 0.13927430032708799\n",
      "\u001b[2m\u001b[36m(RolloutWorker pid=15280)\u001b[0m   warnings.warn(f\"Time-step timed out. Elapsed since last time-step: {now - self.__t_end}\")\n"
     ]
    },
    {
     "name": "stdout",
     "output_type": "stream",
     "text": [
      "Loop:  1186\n",
      "\u001b[2m\u001b[36m(RolloutWorker pid=15280)\u001b[0m reset triggered\n",
      "\u001b[2m\u001b[36m(RolloutWorker pid=15280)\u001b[0m reload save for track : 4\n"
     ]
    },
    {
     "name": "stderr",
     "output_type": "stream",
     "text": [
      "\u001b[2m\u001b[36m(RolloutWorker pid=15280)\u001b[0m c:\\Users\\nadir\\anaconda3\\envs\\GTAI2\\lib\\site-packages\\rtgym\\envs\\real_time_env.py:376: UserWarning: Time-step timed out. Elapsed since last time-step: 0.15749050032536616\n",
      "\u001b[2m\u001b[36m(RolloutWorker pid=15280)\u001b[0m   warnings.warn(f\"Time-step timed out. Elapsed since last time-step: {now - self.__t_end}\")\n"
     ]
    },
    {
     "name": "stdout",
     "output_type": "stream",
     "text": [
      "Loop:  1187\n",
      "Loop:  1188\n",
      "\u001b[2m\u001b[36m(RolloutWorker pid=15280)\u001b[0m reset triggered\n",
      "\u001b[2m\u001b[36m(RolloutWorker pid=15280)\u001b[0m reload save for track : 4\n"
     ]
    },
    {
     "name": "stderr",
     "output_type": "stream",
     "text": [
      "\u001b[2m\u001b[36m(RolloutWorker pid=15280)\u001b[0m c:\\Users\\nadir\\anaconda3\\envs\\GTAI2\\lib\\site-packages\\rtgym\\envs\\real_time_env.py:376: UserWarning: Time-step timed out. Elapsed since last time-step: 0.12259600032484741\n",
      "\u001b[2m\u001b[36m(RolloutWorker pid=15280)\u001b[0m   warnings.warn(f\"Time-step timed out. Elapsed since last time-step: {now - self.__t_end}\")\n"
     ]
    },
    {
     "name": "stdout",
     "output_type": "stream",
     "text": [
      "Loop:  1189\n",
      "\u001b[2m\u001b[36m(RolloutWorker pid=15280)\u001b[0m reset triggered\n",
      "\u001b[2m\u001b[36m(RolloutWorker pid=15280)\u001b[0m reload save for track : 4\n"
     ]
    },
    {
     "name": "stderr",
     "output_type": "stream",
     "text": [
      "\u001b[2m\u001b[36m(RolloutWorker pid=15280)\u001b[0m c:\\Users\\nadir\\anaconda3\\envs\\GTAI2\\lib\\site-packages\\rtgym\\envs\\real_time_env.py:376: UserWarning: Time-step timed out. Elapsed since last time-step: 0.1576468003258924\n",
      "\u001b[2m\u001b[36m(RolloutWorker pid=15280)\u001b[0m   warnings.warn(f\"Time-step timed out. Elapsed since last time-step: {now - self.__t_end}\")\n"
     ]
    },
    {
     "name": "stdout",
     "output_type": "stream",
     "text": [
      "Loop:  1190\n",
      "Saved 1190\n",
      "Loop:  1191\n",
      "\u001b[2m\u001b[36m(RolloutWorker pid=15280)\u001b[0m reset triggered\n",
      "\u001b[2m\u001b[36m(RolloutWorker pid=15280)\u001b[0m reload save for track : 4\n"
     ]
    },
    {
     "name": "stderr",
     "output_type": "stream",
     "text": [
      "\u001b[2m\u001b[36m(RolloutWorker pid=15280)\u001b[0m c:\\Users\\nadir\\anaconda3\\envs\\GTAI2\\lib\\site-packages\\rtgym\\envs\\real_time_env.py:376: UserWarning: Time-step timed out. Elapsed since last time-step: 0.1704866003274219\n",
      "\u001b[2m\u001b[36m(RolloutWorker pid=15280)\u001b[0m   warnings.warn(f\"Time-step timed out. Elapsed since last time-step: {now - self.__t_end}\")\n"
     ]
    },
    {
     "name": "stdout",
     "output_type": "stream",
     "text": [
      "Loop:  1192\n",
      "\u001b[2m\u001b[36m(RolloutWorker pid=15280)\u001b[0m reset triggered\n",
      "\u001b[2m\u001b[36m(RolloutWorker pid=15280)\u001b[0m reload save for track : 4\n"
     ]
    },
    {
     "name": "stderr",
     "output_type": "stream",
     "text": [
      "\u001b[2m\u001b[36m(RolloutWorker pid=15280)\u001b[0m c:\\Users\\nadir\\anaconda3\\envs\\GTAI2\\lib\\site-packages\\rtgym\\envs\\real_time_env.py:376: UserWarning: Time-step timed out. Elapsed since last time-step: 0.12974420032696798\n",
      "\u001b[2m\u001b[36m(RolloutWorker pid=15280)\u001b[0m   warnings.warn(f\"Time-step timed out. Elapsed since last time-step: {now - self.__t_end}\")\n"
     ]
    },
    {
     "name": "stdout",
     "output_type": "stream",
     "text": [
      "Loop:  1193\n",
      "Loop:  1194\n",
      "\u001b[2m\u001b[36m(RolloutWorker pid=15280)\u001b[0m reset triggered\n",
      "\u001b[2m\u001b[36m(RolloutWorker pid=15280)\u001b[0m reload save for track : 4\n"
     ]
    },
    {
     "name": "stderr",
     "output_type": "stream",
     "text": [
      "\u001b[2m\u001b[36m(RolloutWorker pid=15280)\u001b[0m c:\\Users\\nadir\\anaconda3\\envs\\GTAI2\\lib\\site-packages\\rtgym\\envs\\real_time_env.py:376: UserWarning: Time-step timed out. Elapsed since last time-step: 0.1503176003243425\n",
      "\u001b[2m\u001b[36m(RolloutWorker pid=15280)\u001b[0m   warnings.warn(f\"Time-step timed out. Elapsed since last time-step: {now - self.__t_end}\")\n"
     ]
    },
    {
     "name": "stdout",
     "output_type": "stream",
     "text": [
      "Loop:  1195\n",
      "\u001b[2m\u001b[36m(RolloutWorker pid=15280)\u001b[0m reset triggered\n",
      "\u001b[2m\u001b[36m(RolloutWorker pid=15280)\u001b[0m reload save for track : 4\n"
     ]
    },
    {
     "name": "stderr",
     "output_type": "stream",
     "text": [
      "\u001b[2m\u001b[36m(RolloutWorker pid=15280)\u001b[0m c:\\Users\\nadir\\anaconda3\\envs\\GTAI2\\lib\\site-packages\\rtgym\\envs\\real_time_env.py:376: UserWarning: Time-step timed out. Elapsed since last time-step: 0.14206270032809698\n",
      "\u001b[2m\u001b[36m(RolloutWorker pid=15280)\u001b[0m   warnings.warn(f\"Time-step timed out. Elapsed since last time-step: {now - self.__t_end}\")\n"
     ]
    },
    {
     "name": "stdout",
     "output_type": "stream",
     "text": [
      "Loop:  1196\n",
      "Loop:  1197\n",
      "\u001b[2m\u001b[36m(RolloutWorker pid=15280)\u001b[0m reset triggered\n",
      "\u001b[2m\u001b[36m(RolloutWorker pid=15280)\u001b[0m reload save for track : 4\n"
     ]
    },
    {
     "name": "stderr",
     "output_type": "stream",
     "text": [
      "\u001b[2m\u001b[36m(RolloutWorker pid=15280)\u001b[0m c:\\Users\\nadir\\anaconda3\\envs\\GTAI2\\lib\\site-packages\\rtgym\\envs\\real_time_env.py:376: UserWarning: Time-step timed out. Elapsed since last time-step: 0.14777440032412414\n",
      "\u001b[2m\u001b[36m(RolloutWorker pid=15280)\u001b[0m   warnings.warn(f\"Time-step timed out. Elapsed since last time-step: {now - self.__t_end}\")\n"
     ]
    },
    {
     "name": "stdout",
     "output_type": "stream",
     "text": [
      "Loop:  1198\n",
      "\u001b[2m\u001b[36m(RolloutWorker pid=15280)\u001b[0m reset triggered\n",
      "\u001b[2m\u001b[36m(RolloutWorker pid=15280)\u001b[0m reload save for track : 4\n"
     ]
    },
    {
     "name": "stderr",
     "output_type": "stream",
     "text": [
      "\u001b[2m\u001b[36m(RolloutWorker pid=15280)\u001b[0m c:\\Users\\nadir\\anaconda3\\envs\\GTAI2\\lib\\site-packages\\rtgym\\envs\\real_time_env.py:376: UserWarning: Time-step timed out. Elapsed since last time-step: 0.1536234003251593\n",
      "\u001b[2m\u001b[36m(RolloutWorker pid=15280)\u001b[0m   warnings.warn(f\"Time-step timed out. Elapsed since last time-step: {now - self.__t_end}\")\n"
     ]
    },
    {
     "name": "stdout",
     "output_type": "stream",
     "text": [
      "Loop:  1199\n",
      "\u001b[2m\u001b[36m(RolloutWorker pid=15280)\u001b[0m reset triggered\n",
      "\u001b[2m\u001b[36m(RolloutWorker pid=15280)\u001b[0m reload save for track : 4\n"
     ]
    },
    {
     "name": "stderr",
     "output_type": "stream",
     "text": [
      "\u001b[2m\u001b[36m(RolloutWorker pid=15280)\u001b[0m c:\\Users\\nadir\\anaconda3\\envs\\GTAI2\\lib\\site-packages\\rtgym\\envs\\real_time_env.py:376: UserWarning: Time-step timed out. Elapsed since last time-step: 0.13660210032685427\n",
      "\u001b[2m\u001b[36m(RolloutWorker pid=15280)\u001b[0m   warnings.warn(f\"Time-step timed out. Elapsed since last time-step: {now - self.__t_end}\")\n"
     ]
    },
    {
     "name": "stdout",
     "output_type": "stream",
     "text": [
      "Loop:  1200\n",
      "Saved 1200\n",
      "Loop:  1201\n",
      "\u001b[2m\u001b[36m(RolloutWorker pid=15280)\u001b[0m reset triggered\n",
      "\u001b[2m\u001b[36m(RolloutWorker pid=15280)\u001b[0m reload save for track : 4\n"
     ]
    },
    {
     "name": "stderr",
     "output_type": "stream",
     "text": [
      "\u001b[2m\u001b[36m(RolloutWorker pid=15280)\u001b[0m c:\\Users\\nadir\\anaconda3\\envs\\GTAI2\\lib\\site-packages\\rtgym\\envs\\real_time_env.py:376: UserWarning: Time-step timed out. Elapsed since last time-step: 0.13272960032554693\n",
      "\u001b[2m\u001b[36m(RolloutWorker pid=15280)\u001b[0m   warnings.warn(f\"Time-step timed out. Elapsed since last time-step: {now - self.__t_end}\")\n"
     ]
    },
    {
     "name": "stdout",
     "output_type": "stream",
     "text": [
      "Loop:  1202\n",
      "\u001b[2m\u001b[36m(RolloutWorker pid=15280)\u001b[0m reset triggered\n",
      "\u001b[2m\u001b[36m(RolloutWorker pid=15280)\u001b[0m reload save for track : 4\n"
     ]
    },
    {
     "name": "stderr",
     "output_type": "stream",
     "text": [
      "\u001b[2m\u001b[36m(RolloutWorker pid=15280)\u001b[0m c:\\Users\\nadir\\anaconda3\\envs\\GTAI2\\lib\\site-packages\\rtgym\\envs\\real_time_env.py:376: UserWarning: Time-step timed out. Elapsed since last time-step: 0.13951660032762447\n",
      "\u001b[2m\u001b[36m(RolloutWorker pid=15280)\u001b[0m   warnings.warn(f\"Time-step timed out. Elapsed since last time-step: {now - self.__t_end}\")\n"
     ]
    },
    {
     "name": "stdout",
     "output_type": "stream",
     "text": [
      "Loop:  1203\n",
      "Loop:  1204\n",
      "\u001b[2m\u001b[36m(RolloutWorker pid=15280)\u001b[0m reset triggered\n",
      "\u001b[2m\u001b[36m(RolloutWorker pid=15280)\u001b[0m reload save for track : 4\n"
     ]
    },
    {
     "name": "stderr",
     "output_type": "stream",
     "text": [
      "\u001b[2m\u001b[36m(RolloutWorker pid=15280)\u001b[0m c:\\Users\\nadir\\anaconda3\\envs\\GTAI2\\lib\\site-packages\\rtgym\\envs\\real_time_env.py:376: UserWarning: Time-step timed out. Elapsed since last time-step: 0.1482660003239289\n",
      "\u001b[2m\u001b[36m(RolloutWorker pid=15280)\u001b[0m   warnings.warn(f\"Time-step timed out. Elapsed since last time-step: {now - self.__t_end}\")\n"
     ]
    },
    {
     "name": "stdout",
     "output_type": "stream",
     "text": [
      "Loop:  1205\n",
      "\u001b[2m\u001b[36m(RolloutWorker pid=15280)\u001b[0m reset triggered\n",
      "\u001b[2m\u001b[36m(RolloutWorker pid=15280)\u001b[0m reload save for track : 4\n"
     ]
    },
    {
     "name": "stderr",
     "output_type": "stream",
     "text": [
      "\u001b[2m\u001b[36m(RolloutWorker pid=15280)\u001b[0m c:\\Users\\nadir\\anaconda3\\envs\\GTAI2\\lib\\site-packages\\rtgym\\envs\\real_time_env.py:376: UserWarning: Time-step timed out. Elapsed since last time-step: 0.13201520032816916\n",
      "\u001b[2m\u001b[36m(RolloutWorker pid=15280)\u001b[0m   warnings.warn(f\"Time-step timed out. Elapsed since last time-step: {now - self.__t_end}\")\n"
     ]
    },
    {
     "name": "stdout",
     "output_type": "stream",
     "text": [
      "Loop:  1206\n",
      "Loop:  1207\n",
      "\u001b[2m\u001b[36m(RolloutWorker pid=15280)\u001b[0m reset triggered\n",
      "\u001b[2m\u001b[36m(RolloutWorker pid=15280)\u001b[0m reload save for track : 4\n"
     ]
    },
    {
     "name": "stderr",
     "output_type": "stream",
     "text": [
      "\u001b[2m\u001b[36m(RolloutWorker pid=15280)\u001b[0m c:\\Users\\nadir\\anaconda3\\envs\\GTAI2\\lib\\site-packages\\rtgym\\envs\\real_time_env.py:376: UserWarning: Time-step timed out. Elapsed since last time-step: 0.15799900032652658\n",
      "\u001b[2m\u001b[36m(RolloutWorker pid=15280)\u001b[0m   warnings.warn(f\"Time-step timed out. Elapsed since last time-step: {now - self.__t_end}\")\n"
     ]
    },
    {
     "name": "stdout",
     "output_type": "stream",
     "text": [
      "Loop:  1208\n",
      "\u001b[2m\u001b[36m(RolloutWorker pid=15280)\u001b[0m reset triggered\n",
      "\u001b[2m\u001b[36m(RolloutWorker pid=15280)\u001b[0m reload save for track : 4\n"
     ]
    },
    {
     "name": "stderr",
     "output_type": "stream",
     "text": [
      "\u001b[2m\u001b[36m(RolloutWorker pid=15280)\u001b[0m c:\\Users\\nadir\\anaconda3\\envs\\GTAI2\\lib\\site-packages\\rtgym\\envs\\real_time_env.py:376: UserWarning: Time-step timed out. Elapsed since last time-step: 0.15159510032390244\n",
      "\u001b[2m\u001b[36m(RolloutWorker pid=15280)\u001b[0m   warnings.warn(f\"Time-step timed out. Elapsed since last time-step: {now - self.__t_end}\")\n"
     ]
    },
    {
     "name": "stdout",
     "output_type": "stream",
     "text": [
      "Loop:  1209\n",
      "Loop:  1210\n",
      "Saved 1210\n",
      "\u001b[2m\u001b[36m(RolloutWorker pid=15280)\u001b[0m reset triggered\n",
      "\u001b[2m\u001b[36m(RolloutWorker pid=15280)\u001b[0m reload save for track : 4\n"
     ]
    },
    {
     "name": "stderr",
     "output_type": "stream",
     "text": [
      "\u001b[2m\u001b[36m(RolloutWorker pid=15280)\u001b[0m c:\\Users\\nadir\\anaconda3\\envs\\GTAI2\\lib\\site-packages\\rtgym\\envs\\real_time_env.py:376: UserWarning: Time-step timed out. Elapsed since last time-step: 0.14026230032686726\n",
      "\u001b[2m\u001b[36m(RolloutWorker pid=15280)\u001b[0m   warnings.warn(f\"Time-step timed out. Elapsed since last time-step: {now - self.__t_end}\")\n"
     ]
    },
    {
     "name": "stdout",
     "output_type": "stream",
     "text": [
      "Loop:  1211\n",
      "\u001b[2m\u001b[36m(RolloutWorker pid=15280)\u001b[0m reset triggered\n",
      "\u001b[2m\u001b[36m(RolloutWorker pid=15280)\u001b[0m reload save for track : 4\n"
     ]
    },
    {
     "name": "stderr",
     "output_type": "stream",
     "text": [
      "\u001b[2m\u001b[36m(RolloutWorker pid=15280)\u001b[0m c:\\Users\\nadir\\anaconda3\\envs\\GTAI2\\lib\\site-packages\\rtgym\\envs\\real_time_env.py:376: UserWarning: Time-step timed out. Elapsed since last time-step: 0.15794960032508243\n",
      "\u001b[2m\u001b[36m(RolloutWorker pid=15280)\u001b[0m   warnings.warn(f\"Time-step timed out. Elapsed since last time-step: {now - self.__t_end}\")\n"
     ]
    },
    {
     "name": "stdout",
     "output_type": "stream",
     "text": [
      "Loop:  1212\n",
      "\u001b[2m\u001b[36m(RolloutWorker pid=15280)\u001b[0m reset triggered\n",
      "\u001b[2m\u001b[36m(RolloutWorker pid=15280)\u001b[0m reload save for track : 4\n"
     ]
    },
    {
     "name": "stderr",
     "output_type": "stream",
     "text": [
      "\u001b[2m\u001b[36m(RolloutWorker pid=15280)\u001b[0m c:\\Users\\nadir\\anaconda3\\envs\\GTAI2\\lib\\site-packages\\rtgym\\envs\\real_time_env.py:376: UserWarning: Time-step timed out. Elapsed since last time-step: 0.14280020032674656\n",
      "\u001b[2m\u001b[36m(RolloutWorker pid=15280)\u001b[0m   warnings.warn(f\"Time-step timed out. Elapsed since last time-step: {now - self.__t_end}\")\n"
     ]
    },
    {
     "name": "stdout",
     "output_type": "stream",
     "text": [
      "Loop:  1213\n",
      "Loop:  1214\n",
      "\u001b[2m\u001b[36m(RolloutWorker pid=15280)\u001b[0m reset triggered\n",
      "\u001b[2m\u001b[36m(RolloutWorker pid=15280)\u001b[0m reload save for track : 4\n"
     ]
    },
    {
     "name": "stderr",
     "output_type": "stream",
     "text": [
      "\u001b[2m\u001b[36m(RolloutWorker pid=15280)\u001b[0m c:\\Users\\nadir\\anaconda3\\envs\\GTAI2\\lib\\site-packages\\rtgym\\envs\\real_time_env.py:376: UserWarning: Time-step timed out. Elapsed since last time-step: 0.14652430032583652\n",
      "\u001b[2m\u001b[36m(RolloutWorker pid=15280)\u001b[0m   warnings.warn(f\"Time-step timed out. Elapsed since last time-step: {now - self.__t_end}\")\n"
     ]
    },
    {
     "name": "stdout",
     "output_type": "stream",
     "text": [
      "Loop:  1215\n",
      "\u001b[2m\u001b[36m(RolloutWorker pid=15280)\u001b[0m reset triggered\n",
      "\u001b[2m\u001b[36m(RolloutWorker pid=15280)\u001b[0m reload save for track : 4\n"
     ]
    },
    {
     "name": "stderr",
     "output_type": "stream",
     "text": [
      "\u001b[2m\u001b[36m(RolloutWorker pid=15280)\u001b[0m c:\\Users\\nadir\\anaconda3\\envs\\GTAI2\\lib\\site-packages\\rtgym\\envs\\real_time_env.py:376: UserWarning: Time-step timed out. Elapsed since last time-step: 0.14264120032748906\n",
      "\u001b[2m\u001b[36m(RolloutWorker pid=15280)\u001b[0m   warnings.warn(f\"Time-step timed out. Elapsed since last time-step: {now - self.__t_end}\")\n"
     ]
    },
    {
     "name": "stdout",
     "output_type": "stream",
     "text": [
      "Loop:  1216\n",
      "Loop:  1217\n",
      "\u001b[2m\u001b[36m(RolloutWorker pid=15280)\u001b[0m reset triggered\n",
      "\u001b[2m\u001b[36m(RolloutWorker pid=15280)\u001b[0m reload save for track : 4\n"
     ]
    },
    {
     "name": "stderr",
     "output_type": "stream",
     "text": [
      "\u001b[2m\u001b[36m(RolloutWorker pid=15280)\u001b[0m c:\\Users\\nadir\\anaconda3\\envs\\GTAI2\\lib\\site-packages\\rtgym\\envs\\real_time_env.py:376: UserWarning: Time-step timed out. Elapsed since last time-step: 0.15083390032305033\n",
      "\u001b[2m\u001b[36m(RolloutWorker pid=15280)\u001b[0m   warnings.warn(f\"Time-step timed out. Elapsed since last time-step: {now - self.__t_end}\")\n"
     ]
    },
    {
     "name": "stdout",
     "output_type": "stream",
     "text": [
      "Loop:  1218\n",
      "\u001b[2m\u001b[36m(RolloutWorker pid=15280)\u001b[0m reset triggered\n",
      "\u001b[2m\u001b[36m(RolloutWorker pid=15280)\u001b[0m reload save for track : 4\n"
     ]
    },
    {
     "name": "stderr",
     "output_type": "stream",
     "text": [
      "\u001b[2m\u001b[36m(RolloutWorker pid=15280)\u001b[0m c:\\Users\\nadir\\anaconda3\\envs\\GTAI2\\lib\\site-packages\\rtgym\\envs\\real_time_env.py:376: UserWarning: Time-step timed out. Elapsed since last time-step: 0.1302432003285503\n",
      "\u001b[2m\u001b[36m(RolloutWorker pid=15280)\u001b[0m   warnings.warn(f\"Time-step timed out. Elapsed since last time-step: {now - self.__t_end}\")\n"
     ]
    },
    {
     "name": "stdout",
     "output_type": "stream",
     "text": [
      "Loop:  1219\n",
      "Loop:  1220\n",
      "Saved 1220\n",
      "\u001b[2m\u001b[36m(RolloutWorker pid=15280)\u001b[0m reset triggered\n",
      "\u001b[2m\u001b[36m(RolloutWorker pid=15280)\u001b[0m reload save for track : 4\n"
     ]
    },
    {
     "name": "stderr",
     "output_type": "stream",
     "text": [
      "\u001b[2m\u001b[36m(RolloutWorker pid=15280)\u001b[0m c:\\Users\\nadir\\anaconda3\\envs\\GTAI2\\lib\\site-packages\\rtgym\\envs\\real_time_env.py:376: UserWarning: Time-step timed out. Elapsed since last time-step: 0.15023420032594004\n",
      "\u001b[2m\u001b[36m(RolloutWorker pid=15280)\u001b[0m   warnings.warn(f\"Time-step timed out. Elapsed since last time-step: {now - self.__t_end}\")\n"
     ]
    },
    {
     "name": "stdout",
     "output_type": "stream",
     "text": [
      "Loop:  1221\n",
      "\u001b[2m\u001b[36m(RolloutWorker pid=15280)\u001b[0m reset triggered\n",
      "\u001b[2m\u001b[36m(RolloutWorker pid=15280)\u001b[0m reload save for track : 4\n"
     ]
    },
    {
     "name": "stderr",
     "output_type": "stream",
     "text": [
      "\u001b[2m\u001b[36m(RolloutWorker pid=15280)\u001b[0m c:\\Users\\nadir\\anaconda3\\envs\\GTAI2\\lib\\site-packages\\rtgym\\envs\\real_time_env.py:376: UserWarning: Time-step timed out. Elapsed since last time-step: 0.16684250032631098\n",
      "\u001b[2m\u001b[36m(RolloutWorker pid=15280)\u001b[0m   warnings.warn(f\"Time-step timed out. Elapsed since last time-step: {now - self.__t_end}\")\n"
     ]
    },
    {
     "name": "stdout",
     "output_type": "stream",
     "text": [
      "Loop:  1222\n"
     ]
    },
    {
     "name": "stderr",
     "output_type": "stream",
     "text": [
      "\u001b[2m\u001b[36m(RolloutWorker pid=15280)\u001b[0m c:\\Users\\nadir\\anaconda3\\envs\\GTAI2\\lib\\site-packages\\rtgym\\envs\\real_time_env.py:376: UserWarning: Time-step timed out. Elapsed since last time-step: 0.13754400029210956\n",
      "\u001b[2m\u001b[36m(RolloutWorker pid=15280)\u001b[0m   warnings.warn(f\"Time-step timed out. Elapsed since last time-step: {now - self.__t_end}\")\n"
     ]
    },
    {
     "name": "stdout",
     "output_type": "stream",
     "text": [
      "Loop:  1223\n",
      "\u001b[2m\u001b[36m(RolloutWorker pid=15280)\u001b[0m reset triggered\n",
      "\u001b[2m\u001b[36m(RolloutWorker pid=15280)\u001b[0m reload save for track : 4\n"
     ]
    },
    {
     "name": "stderr",
     "output_type": "stream",
     "text": [
      "\u001b[2m\u001b[36m(RolloutWorker pid=15280)\u001b[0m c:\\Users\\nadir\\anaconda3\\envs\\GTAI2\\lib\\site-packages\\rtgym\\envs\\real_time_env.py:376: UserWarning: Time-step timed out. Elapsed since last time-step: 0.14259860003221547\n",
      "\u001b[2m\u001b[36m(RolloutWorker pid=15280)\u001b[0m   warnings.warn(f\"Time-step timed out. Elapsed since last time-step: {now - self.__t_end}\")\n"
     ]
    },
    {
     "name": "stdout",
     "output_type": "stream",
     "text": [
      "Loop:  1224\n",
      "\u001b[2m\u001b[36m(RolloutWorker pid=15280)\u001b[0m reset triggered\n",
      "\u001b[2m\u001b[36m(RolloutWorker pid=15280)\u001b[0m reload save for track : 4\n"
     ]
    },
    {
     "name": "stderr",
     "output_type": "stream",
     "text": [
      "\u001b[2m\u001b[36m(RolloutWorker pid=15280)\u001b[0m c:\\Users\\nadir\\anaconda3\\envs\\GTAI2\\lib\\site-packages\\rtgym\\envs\\real_time_env.py:376: UserWarning: Time-step timed out. Elapsed since last time-step: 0.17044330032513244\n",
      "\u001b[2m\u001b[36m(RolloutWorker pid=15280)\u001b[0m   warnings.warn(f\"Time-step timed out. Elapsed since last time-step: {now - self.__t_end}\")\n"
     ]
    },
    {
     "name": "stdout",
     "output_type": "stream",
     "text": [
      "Loop:  1225\n",
      "\u001b[2m\u001b[36m(RolloutWorker pid=15280)\u001b[0m reset triggered\n",
      "\u001b[2m\u001b[36m(RolloutWorker pid=15280)\u001b[0m reload save for track : 4\n"
     ]
    },
    {
     "name": "stderr",
     "output_type": "stream",
     "text": [
      "\u001b[2m\u001b[36m(RolloutWorker pid=15280)\u001b[0m c:\\Users\\nadir\\anaconda3\\envs\\GTAI2\\lib\\site-packages\\rtgym\\envs\\real_time_env.py:376: UserWarning: Time-step timed out. Elapsed since last time-step: 0.15897400032554287\n",
      "\u001b[2m\u001b[36m(RolloutWorker pid=15280)\u001b[0m   warnings.warn(f\"Time-step timed out. Elapsed since last time-step: {now - self.__t_end}\")\n"
     ]
    },
    {
     "name": "stdout",
     "output_type": "stream",
     "text": [
      "Loop:  1226\n",
      "Loop:  1227\n",
      "\u001b[2m\u001b[36m(RolloutWorker pid=15280)\u001b[0m reset triggered\n",
      "\u001b[2m\u001b[36m(RolloutWorker pid=15280)\u001b[0m reload save for track : 4\n"
     ]
    },
    {
     "name": "stderr",
     "output_type": "stream",
     "text": [
      "\u001b[2m\u001b[36m(RolloutWorker pid=15280)\u001b[0m c:\\Users\\nadir\\anaconda3\\envs\\GTAI2\\lib\\site-packages\\rtgym\\envs\\real_time_env.py:376: UserWarning: Time-step timed out. Elapsed since last time-step: 0.163662500326609\n",
      "\u001b[2m\u001b[36m(RolloutWorker pid=15280)\u001b[0m   warnings.warn(f\"Time-step timed out. Elapsed since last time-step: {now - self.__t_end}\")\n"
     ]
    },
    {
     "name": "stdout",
     "output_type": "stream",
     "text": [
      "Loop:  1228\n",
      "\u001b[2m\u001b[36m(RolloutWorker pid=15280)\u001b[0m reset triggered\n",
      "\u001b[2m\u001b[36m(RolloutWorker pid=15280)\u001b[0m reload save for track : 4\n"
     ]
    },
    {
     "name": "stderr",
     "output_type": "stream",
     "text": [
      "\u001b[2m\u001b[36m(RolloutWorker pid=15280)\u001b[0m c:\\Users\\nadir\\anaconda3\\envs\\GTAI2\\lib\\site-packages\\rtgym\\envs\\real_time_env.py:376: UserWarning: Time-step timed out. Elapsed since last time-step: 0.14708770032666507\n",
      "\u001b[2m\u001b[36m(RolloutWorker pid=15280)\u001b[0m   warnings.warn(f\"Time-step timed out. Elapsed since last time-step: {now - self.__t_end}\")\n"
     ]
    },
    {
     "name": "stdout",
     "output_type": "stream",
     "text": [
      "Loop:  1229\n",
      "Loop:  1230\n",
      "Saved 1230\n",
      "\u001b[2m\u001b[36m(RolloutWorker pid=15280)\u001b[0m reset triggered\n",
      "\u001b[2m\u001b[36m(RolloutWorker pid=15280)\u001b[0m reload save for track : 4\n"
     ]
    },
    {
     "name": "stderr",
     "output_type": "stream",
     "text": [
      "\u001b[2m\u001b[36m(RolloutWorker pid=15280)\u001b[0m c:\\Users\\nadir\\anaconda3\\envs\\GTAI2\\lib\\site-packages\\rtgym\\envs\\real_time_env.py:376: UserWarning: Time-step timed out. Elapsed since last time-step: 0.13270170032410533\n",
      "\u001b[2m\u001b[36m(RolloutWorker pid=15280)\u001b[0m   warnings.warn(f\"Time-step timed out. Elapsed since last time-step: {now - self.__t_end}\")\n"
     ]
    },
    {
     "name": "stdout",
     "output_type": "stream",
     "text": [
      "Loop:  1231\n",
      "\u001b[2m\u001b[36m(RolloutWorker pid=15280)\u001b[0m reset triggered\n",
      "\u001b[2m\u001b[36m(RolloutWorker pid=15280)\u001b[0m reload save for track : 4\n"
     ]
    },
    {
     "name": "stderr",
     "output_type": "stream",
     "text": [
      "\u001b[2m\u001b[36m(RolloutWorker pid=15280)\u001b[0m c:\\Users\\nadir\\anaconda3\\envs\\GTAI2\\lib\\site-packages\\rtgym\\envs\\real_time_env.py:376: UserWarning: Time-step timed out. Elapsed since last time-step: 0.15997230032735388\n",
      "\u001b[2m\u001b[36m(RolloutWorker pid=15280)\u001b[0m   warnings.warn(f\"Time-step timed out. Elapsed since last time-step: {now - self.__t_end}\")\n"
     ]
    },
    {
     "name": "stdout",
     "output_type": "stream",
     "text": [
      "Loop:  1232\n",
      "Loop:  1233\n",
      "\u001b[2m\u001b[36m(RolloutWorker pid=15280)\u001b[0m reset triggered\n",
      "\u001b[2m\u001b[36m(RolloutWorker pid=15280)\u001b[0m reload save for track : 4\n"
     ]
    },
    {
     "name": "stderr",
     "output_type": "stream",
     "text": [
      "\u001b[2m\u001b[36m(RolloutWorker pid=15280)\u001b[0m c:\\Users\\nadir\\anaconda3\\envs\\GTAI2\\lib\\site-packages\\rtgym\\envs\\real_time_env.py:376: UserWarning: Time-step timed out. Elapsed since last time-step: 0.15772260032463237\n",
      "\u001b[2m\u001b[36m(RolloutWorker pid=15280)\u001b[0m   warnings.warn(f\"Time-step timed out. Elapsed since last time-step: {now - self.__t_end}\")\n"
     ]
    },
    {
     "name": "stdout",
     "output_type": "stream",
     "text": [
      "Loop:  1234\n",
      "\u001b[2m\u001b[36m(RolloutWorker pid=15280)\u001b[0m reset triggered\n",
      "\u001b[2m\u001b[36m(RolloutWorker pid=15280)\u001b[0m reload save for track : 4\n"
     ]
    },
    {
     "name": "stderr",
     "output_type": "stream",
     "text": [
      "\u001b[2m\u001b[36m(RolloutWorker pid=15280)\u001b[0m c:\\Users\\nadir\\anaconda3\\envs\\GTAI2\\lib\\site-packages\\rtgym\\envs\\real_time_env.py:376: UserWarning: Time-step timed out. Elapsed since last time-step: 0.14888540032916353\n",
      "\u001b[2m\u001b[36m(RolloutWorker pid=15280)\u001b[0m   warnings.warn(f\"Time-step timed out. Elapsed since last time-step: {now - self.__t_end}\")\n"
     ]
    },
    {
     "name": "stdout",
     "output_type": "stream",
     "text": [
      "Loop:  1235\n",
      "Loop:  1236\n",
      "\u001b[2m\u001b[36m(RolloutWorker pid=15280)\u001b[0m reset triggered\n",
      "\u001b[2m\u001b[36m(RolloutWorker pid=15280)\u001b[0m reload save for track : 4\n"
     ]
    },
    {
     "name": "stderr",
     "output_type": "stream",
     "text": [
      "\u001b[2m\u001b[36m(RolloutWorker pid=15280)\u001b[0m c:\\Users\\nadir\\anaconda3\\envs\\GTAI2\\lib\\site-packages\\rtgym\\envs\\real_time_env.py:376: UserWarning: Time-step timed out. Elapsed since last time-step: 0.1432700003242644\n",
      "\u001b[2m\u001b[36m(RolloutWorker pid=15280)\u001b[0m   warnings.warn(f\"Time-step timed out. Elapsed since last time-step: {now - self.__t_end}\")\n"
     ]
    },
    {
     "name": "stdout",
     "output_type": "stream",
     "text": [
      "Loop:  1237\n",
      "\u001b[2m\u001b[36m(RolloutWorker pid=15280)\u001b[0m reset triggered\n",
      "\u001b[2m\u001b[36m(RolloutWorker pid=15280)\u001b[0m reload save for track : 4\n"
     ]
    },
    {
     "name": "stderr",
     "output_type": "stream",
     "text": [
      "\u001b[2m\u001b[36m(RolloutWorker pid=15280)\u001b[0m c:\\Users\\nadir\\anaconda3\\envs\\GTAI2\\lib\\site-packages\\rtgym\\envs\\real_time_env.py:376: UserWarning: Time-step timed out. Elapsed since last time-step: 0.1475804003275698\n",
      "\u001b[2m\u001b[36m(RolloutWorker pid=15280)\u001b[0m   warnings.warn(f\"Time-step timed out. Elapsed since last time-step: {now - self.__t_end}\")\n"
     ]
    },
    {
     "name": "stdout",
     "output_type": "stream",
     "text": [
      "Loop:  1238\n",
      "\u001b[2m\u001b[36m(RolloutWorker pid=15280)\u001b[0m reset triggered\n",
      "\u001b[2m\u001b[36m(RolloutWorker pid=15280)\u001b[0m reload save for track : 4\n"
     ]
    },
    {
     "name": "stderr",
     "output_type": "stream",
     "text": [
      "\u001b[2m\u001b[36m(RolloutWorker pid=15280)\u001b[0m c:\\Users\\nadir\\anaconda3\\envs\\GTAI2\\lib\\site-packages\\rtgym\\envs\\real_time_env.py:376: UserWarning: Time-step timed out. Elapsed since last time-step: 0.1695885003246076\n",
      "\u001b[2m\u001b[36m(RolloutWorker pid=15280)\u001b[0m   warnings.warn(f\"Time-step timed out. Elapsed since last time-step: {now - self.__t_end}\")\n"
     ]
    },
    {
     "name": "stdout",
     "output_type": "stream",
     "text": [
      "Loop:  1239\n",
      "Loop:  1240\n",
      "Saved 1240\n",
      "\u001b[2m\u001b[36m(RolloutWorker pid=15280)\u001b[0m reset triggered\n",
      "\u001b[2m\u001b[36m(RolloutWorker pid=15280)\u001b[0m reload save for track : 4\n"
     ]
    },
    {
     "name": "stderr",
     "output_type": "stream",
     "text": [
      "\u001b[2m\u001b[36m(RolloutWorker pid=15280)\u001b[0m c:\\Users\\nadir\\anaconda3\\envs\\GTAI2\\lib\\site-packages\\rtgym\\envs\\real_time_env.py:376: UserWarning: Time-step timed out. Elapsed since last time-step: 0.14332670032672468\n",
      "\u001b[2m\u001b[36m(RolloutWorker pid=15280)\u001b[0m   warnings.warn(f\"Time-step timed out. Elapsed since last time-step: {now - self.__t_end}\")\n"
     ]
    },
    {
     "name": "stdout",
     "output_type": "stream",
     "text": [
      "Loop:  1241\n",
      "\u001b[2m\u001b[36m(RolloutWorker pid=15280)\u001b[0m reset triggered\n",
      "\u001b[2m\u001b[36m(RolloutWorker pid=15280)\u001b[0m reload save for track : 4\n"
     ]
    },
    {
     "name": "stderr",
     "output_type": "stream",
     "text": [
      "\u001b[2m\u001b[36m(RolloutWorker pid=15280)\u001b[0m c:\\Users\\nadir\\anaconda3\\envs\\GTAI2\\lib\\site-packages\\rtgym\\envs\\real_time_env.py:376: UserWarning: Time-step timed out. Elapsed since last time-step: 0.13712710032632458\n",
      "\u001b[2m\u001b[36m(RolloutWorker pid=15280)\u001b[0m   warnings.warn(f\"Time-step timed out. Elapsed since last time-step: {now - self.__t_end}\")\n"
     ]
    },
    {
     "name": "stdout",
     "output_type": "stream",
     "text": [
      "Loop:  1242\n",
      "Loop:  1243\n",
      "\u001b[2m\u001b[36m(RolloutWorker pid=15280)\u001b[0m reset triggered\n",
      "\u001b[2m\u001b[36m(RolloutWorker pid=15280)\u001b[0m reload save for track : 4\n"
     ]
    },
    {
     "name": "stderr",
     "output_type": "stream",
     "text": [
      "\u001b[2m\u001b[36m(RolloutWorker pid=15280)\u001b[0m c:\\Users\\nadir\\anaconda3\\envs\\GTAI2\\lib\\site-packages\\rtgym\\envs\\real_time_env.py:376: UserWarning: Time-step timed out. Elapsed since last time-step: 0.16235970032357727\n",
      "\u001b[2m\u001b[36m(RolloutWorker pid=15280)\u001b[0m   warnings.warn(f\"Time-step timed out. Elapsed since last time-step: {now - self.__t_end}\")\n"
     ]
    },
    {
     "name": "stdout",
     "output_type": "stream",
     "text": [
      "Loop:  1244\n",
      "\u001b[2m\u001b[36m(RolloutWorker pid=15280)\u001b[0m reset triggered\n",
      "\u001b[2m\u001b[36m(RolloutWorker pid=15280)\u001b[0m reload save for track : 4\n"
     ]
    },
    {
     "name": "stderr",
     "output_type": "stream",
     "text": [
      "\u001b[2m\u001b[36m(RolloutWorker pid=15280)\u001b[0m c:\\Users\\nadir\\anaconda3\\envs\\GTAI2\\lib\\site-packages\\rtgym\\envs\\real_time_env.py:376: UserWarning: Time-step timed out. Elapsed since last time-step: 0.1509105003278819\n",
      "\u001b[2m\u001b[36m(RolloutWorker pid=15280)\u001b[0m   warnings.warn(f\"Time-step timed out. Elapsed since last time-step: {now - self.__t_end}\")\n"
     ]
    },
    {
     "name": "stdout",
     "output_type": "stream",
     "text": [
      "Loop:  1245\n",
      "Loop:  1246\n",
      "\u001b[2m\u001b[36m(RolloutWorker pid=15280)\u001b[0m reset triggered\n",
      "\u001b[2m\u001b[36m(RolloutWorker pid=15280)\u001b[0m reload save for track : 4\n"
     ]
    },
    {
     "name": "stderr",
     "output_type": "stream",
     "text": [
      "\u001b[2m\u001b[36m(RolloutWorker pid=15280)\u001b[0m c:\\Users\\nadir\\anaconda3\\envs\\GTAI2\\lib\\site-packages\\rtgym\\envs\\real_time_env.py:376: UserWarning: Time-step timed out. Elapsed since last time-step: 0.1377860003267415\n",
      "\u001b[2m\u001b[36m(RolloutWorker pid=15280)\u001b[0m   warnings.warn(f\"Time-step timed out. Elapsed since last time-step: {now - self.__t_end}\")\n"
     ]
    },
    {
     "name": "stdout",
     "output_type": "stream",
     "text": [
      "Loop:  1247\n",
      "\u001b[2m\u001b[36m(RolloutWorker pid=15280)\u001b[0m reset triggered\n",
      "\u001b[2m\u001b[36m(RolloutWorker pid=15280)\u001b[0m reload save for track : 4\n"
     ]
    },
    {
     "name": "stderr",
     "output_type": "stream",
     "text": [
      "\u001b[2m\u001b[36m(RolloutWorker pid=15280)\u001b[0m c:\\Users\\nadir\\anaconda3\\envs\\GTAI2\\lib\\site-packages\\rtgym\\envs\\real_time_env.py:376: UserWarning: Time-step timed out. Elapsed since last time-step: 0.14186860032350523\n",
      "\u001b[2m\u001b[36m(RolloutWorker pid=15280)\u001b[0m   warnings.warn(f\"Time-step timed out. Elapsed since last time-step: {now - self.__t_end}\")\n"
     ]
    },
    {
     "name": "stdout",
     "output_type": "stream",
     "text": [
      "Loop:  1248\n",
      "Loop:  1249\n",
      "\u001b[2m\u001b[36m(RolloutWorker pid=15280)\u001b[0m reset triggered\n",
      "\u001b[2m\u001b[36m(RolloutWorker pid=15280)\u001b[0m reload save for track : 4\n"
     ]
    },
    {
     "name": "stderr",
     "output_type": "stream",
     "text": [
      "\u001b[2m\u001b[36m(RolloutWorker pid=15280)\u001b[0m c:\\Users\\nadir\\anaconda3\\envs\\GTAI2\\lib\\site-packages\\rtgym\\envs\\real_time_env.py:376: UserWarning: Time-step timed out. Elapsed since last time-step: 0.14739260032729362\n",
      "\u001b[2m\u001b[36m(RolloutWorker pid=15280)\u001b[0m   warnings.warn(f\"Time-step timed out. Elapsed since last time-step: {now - self.__t_end}\")\n"
     ]
    },
    {
     "name": "stdout",
     "output_type": "stream",
     "text": [
      "Loop:  1250\n",
      "Saved 1250\n",
      "\u001b[2m\u001b[36m(RolloutWorker pid=15280)\u001b[0m reset triggered\n",
      "\u001b[2m\u001b[36m(RolloutWorker pid=15280)\u001b[0m reload save for track : 4\n"
     ]
    },
    {
     "name": "stderr",
     "output_type": "stream",
     "text": [
      "\u001b[2m\u001b[36m(RolloutWorker pid=15280)\u001b[0m c:\\Users\\nadir\\anaconda3\\envs\\GTAI2\\lib\\site-packages\\rtgym\\envs\\real_time_env.py:376: UserWarning: Time-step timed out. Elapsed since last time-step: 0.14265620032529114\n",
      "\u001b[2m\u001b[36m(RolloutWorker pid=15280)\u001b[0m   warnings.warn(f\"Time-step timed out. Elapsed since last time-step: {now - self.__t_end}\")\n"
     ]
    },
    {
     "name": "stdout",
     "output_type": "stream",
     "text": [
      "Loop:  1251\n",
      "\u001b[2m\u001b[36m(RolloutWorker pid=15280)\u001b[0m reset triggered\n",
      "\u001b[2m\u001b[36m(RolloutWorker pid=15280)\u001b[0m reload save for track : 4\n"
     ]
    },
    {
     "name": "stderr",
     "output_type": "stream",
     "text": [
      "\u001b[2m\u001b[36m(RolloutWorker pid=15280)\u001b[0m c:\\Users\\nadir\\anaconda3\\envs\\GTAI2\\lib\\site-packages\\rtgym\\envs\\real_time_env.py:376: UserWarning: Time-step timed out. Elapsed since last time-step: 0.13760530032595852\n",
      "\u001b[2m\u001b[36m(RolloutWorker pid=15280)\u001b[0m   warnings.warn(f\"Time-step timed out. Elapsed since last time-step: {now - self.__t_end}\")\n"
     ]
    },
    {
     "name": "stdout",
     "output_type": "stream",
     "text": [
      "Loop:  1252\n",
      "Loop:  1253\n",
      "\u001b[2m\u001b[36m(RolloutWorker pid=15280)\u001b[0m reset triggered\n",
      "\u001b[2m\u001b[36m(RolloutWorker pid=15280)\u001b[0m reload save for track : 4\n"
     ]
    },
    {
     "name": "stderr",
     "output_type": "stream",
     "text": [
      "\u001b[2m\u001b[36m(RolloutWorker pid=15280)\u001b[0m c:\\Users\\nadir\\anaconda3\\envs\\GTAI2\\lib\\site-packages\\rtgym\\envs\\real_time_env.py:376: UserWarning: Time-step timed out. Elapsed since last time-step: 0.14893900032620877\n",
      "\u001b[2m\u001b[36m(RolloutWorker pid=15280)\u001b[0m   warnings.warn(f\"Time-step timed out. Elapsed since last time-step: {now - self.__t_end}\")\n"
     ]
    },
    {
     "name": "stdout",
     "output_type": "stream",
     "text": [
      "Loop:  1254\n",
      "\u001b[2m\u001b[36m(RolloutWorker pid=15280)\u001b[0m reset triggered\n",
      "\u001b[2m\u001b[36m(RolloutWorker pid=15280)\u001b[0m reload save for track : 4\n"
     ]
    },
    {
     "name": "stderr",
     "output_type": "stream",
     "text": [
      "\u001b[2m\u001b[36m(RolloutWorker pid=15280)\u001b[0m c:\\Users\\nadir\\anaconda3\\envs\\GTAI2\\lib\\site-packages\\rtgym\\envs\\real_time_env.py:376: UserWarning: Time-step timed out. Elapsed since last time-step: 0.1721372003266879\n",
      "\u001b[2m\u001b[36m(RolloutWorker pid=15280)\u001b[0m   warnings.warn(f\"Time-step timed out. Elapsed since last time-step: {now - self.__t_end}\")\n"
     ]
    },
    {
     "name": "stdout",
     "output_type": "stream",
     "text": [
      "Loop:  1255\n",
      "Loop:  1256\n",
      "\u001b[2m\u001b[36m(RolloutWorker pid=15280)\u001b[0m reset triggered\n",
      "\u001b[2m\u001b[36m(RolloutWorker pid=15280)\u001b[0m reload save for track : 4\n"
     ]
    },
    {
     "name": "stderr",
     "output_type": "stream",
     "text": [
      "\u001b[2m\u001b[36m(RolloutWorker pid=15280)\u001b[0m c:\\Users\\nadir\\anaconda3\\envs\\GTAI2\\lib\\site-packages\\rtgym\\envs\\real_time_env.py:376: UserWarning: Time-step timed out. Elapsed since last time-step: 0.13827370032595354\n",
      "\u001b[2m\u001b[36m(RolloutWorker pid=15280)\u001b[0m   warnings.warn(f\"Time-step timed out. Elapsed since last time-step: {now - self.__t_end}\")\n"
     ]
    },
    {
     "name": "stdout",
     "output_type": "stream",
     "text": [
      "Loop:  1257\n",
      "\u001b[2m\u001b[36m(RolloutWorker pid=15280)\u001b[0m reset triggered\n",
      "\u001b[2m\u001b[36m(RolloutWorker pid=15280)\u001b[0m reload save for track : 4\n"
     ]
    },
    {
     "name": "stderr",
     "output_type": "stream",
     "text": [
      "\u001b[2m\u001b[36m(RolloutWorker pid=15280)\u001b[0m c:\\Users\\nadir\\anaconda3\\envs\\GTAI2\\lib\\site-packages\\rtgym\\envs\\real_time_env.py:376: UserWarning: Time-step timed out. Elapsed since last time-step: 0.13343330032512313\n",
      "\u001b[2m\u001b[36m(RolloutWorker pid=15280)\u001b[0m   warnings.warn(f\"Time-step timed out. Elapsed since last time-step: {now - self.__t_end}\")\n"
     ]
    },
    {
     "name": "stdout",
     "output_type": "stream",
     "text": [
      "Loop:  1258\n",
      "Loop:  1259\n",
      "\u001b[2m\u001b[36m(RolloutWorker pid=15280)\u001b[0m reset triggered\n",
      "\u001b[2m\u001b[36m(RolloutWorker pid=15280)\u001b[0m reload save for track : 4\n"
     ]
    },
    {
     "name": "stderr",
     "output_type": "stream",
     "text": [
      "\u001b[2m\u001b[36m(RolloutWorker pid=15280)\u001b[0m c:\\Users\\nadir\\anaconda3\\envs\\GTAI2\\lib\\site-packages\\rtgym\\envs\\real_time_env.py:376: UserWarning: Time-step timed out. Elapsed since last time-step: 0.1505142003261426\n",
      "\u001b[2m\u001b[36m(RolloutWorker pid=15280)\u001b[0m   warnings.warn(f\"Time-step timed out. Elapsed since last time-step: {now - self.__t_end}\")\n"
     ]
    },
    {
     "name": "stdout",
     "output_type": "stream",
     "text": [
      "Loop:  1260\n",
      "Saved 1260\n",
      "\u001b[2m\u001b[36m(RolloutWorker pid=15280)\u001b[0m reset triggered\n",
      "\u001b[2m\u001b[36m(RolloutWorker pid=15280)\u001b[0m reload save for track : 4\n"
     ]
    },
    {
     "name": "stderr",
     "output_type": "stream",
     "text": [
      "\u001b[2m\u001b[36m(RolloutWorker pid=15280)\u001b[0m c:\\Users\\nadir\\anaconda3\\envs\\GTAI2\\lib\\site-packages\\rtgym\\envs\\real_time_env.py:376: UserWarning: Time-step timed out. Elapsed since last time-step: 0.12915470032749\n",
      "\u001b[2m\u001b[36m(RolloutWorker pid=15280)\u001b[0m   warnings.warn(f\"Time-step timed out. Elapsed since last time-step: {now - self.__t_end}\")\n"
     ]
    },
    {
     "name": "stdout",
     "output_type": "stream",
     "text": [
      "Loop:  1261\n"
     ]
    },
    {
     "name": "stderr",
     "output_type": "stream",
     "text": [
      "\u001b[2m\u001b[36m(RolloutWorker pid=15280)\u001b[0m c:\\Users\\nadir\\anaconda3\\envs\\GTAI2\\lib\\site-packages\\rtgym\\envs\\real_time_env.py:376: UserWarning: Time-step timed out. Elapsed since last time-step: 0.14911650016438216\n",
      "\u001b[2m\u001b[36m(RolloutWorker pid=15280)\u001b[0m   warnings.warn(f\"Time-step timed out. Elapsed since last time-step: {now - self.__t_end}\")\n"
     ]
    },
    {
     "name": "stdout",
     "output_type": "stream",
     "text": [
      "Loop:  1262\n",
      "\u001b[2m\u001b[36m(RolloutWorker pid=15280)\u001b[0m reset triggered\n",
      "\u001b[2m\u001b[36m(RolloutWorker pid=15280)\u001b[0m reload save for track : 4\n"
     ]
    },
    {
     "name": "stderr",
     "output_type": "stream",
     "text": [
      "\u001b[2m\u001b[36m(RolloutWorker pid=15280)\u001b[0m c:\\Users\\nadir\\anaconda3\\envs\\GTAI2\\lib\\site-packages\\rtgym\\envs\\real_time_env.py:376: UserWarning: Time-step timed out. Elapsed since last time-step: 0.1489376001591154\n",
      "\u001b[2m\u001b[36m(RolloutWorker pid=15280)\u001b[0m   warnings.warn(f\"Time-step timed out. Elapsed since last time-step: {now - self.__t_end}\")\n"
     ]
    },
    {
     "name": "stdout",
     "output_type": "stream",
     "text": [
      "Loop:  1263\n",
      "\u001b[2m\u001b[36m(RolloutWorker pid=15280)\u001b[0m reset triggered\n",
      "\u001b[2m\u001b[36m(RolloutWorker pid=15280)\u001b[0m reload save for track : 4\n"
     ]
    },
    {
     "name": "stderr",
     "output_type": "stream",
     "text": [
      "\u001b[2m\u001b[36m(RolloutWorker pid=15280)\u001b[0m c:\\Users\\nadir\\anaconda3\\envs\\GTAI2\\lib\\site-packages\\rtgym\\envs\\real_time_env.py:376: UserWarning: Time-step timed out. Elapsed since last time-step: 0.132139900328184\n",
      "\u001b[2m\u001b[36m(RolloutWorker pid=15280)\u001b[0m   warnings.warn(f\"Time-step timed out. Elapsed since last time-step: {now - self.__t_end}\")\n"
     ]
    },
    {
     "name": "stdout",
     "output_type": "stream",
     "text": [
      "Loop:  1264\n",
      "\u001b[2m\u001b[36m(RolloutWorker pid=15280)\u001b[0m reset triggered\n",
      "\u001b[2m\u001b[36m(RolloutWorker pid=15280)\u001b[0m reload save for track : 4\n"
     ]
    },
    {
     "name": "stderr",
     "output_type": "stream",
     "text": [
      "\u001b[2m\u001b[36m(RolloutWorker pid=15280)\u001b[0m c:\\Users\\nadir\\anaconda3\\envs\\GTAI2\\lib\\site-packages\\rtgym\\envs\\real_time_env.py:376: UserWarning: Time-step timed out. Elapsed since last time-step: 0.1480559003248345\n",
      "\u001b[2m\u001b[36m(RolloutWorker pid=15280)\u001b[0m   warnings.warn(f\"Time-step timed out. Elapsed since last time-step: {now - self.__t_end}\")\n"
     ]
    },
    {
     "name": "stdout",
     "output_type": "stream",
     "text": [
      "Loop:  1265\n",
      "Loop:  1266\n",
      "\u001b[2m\u001b[36m(RolloutWorker pid=15280)\u001b[0m reset triggered\n",
      "\u001b[2m\u001b[36m(RolloutWorker pid=15280)\u001b[0m reload save for track : 4\n"
     ]
    },
    {
     "name": "stderr",
     "output_type": "stream",
     "text": [
      "\u001b[2m\u001b[36m(RolloutWorker pid=15280)\u001b[0m c:\\Users\\nadir\\anaconda3\\envs\\GTAI2\\lib\\site-packages\\rtgym\\envs\\real_time_env.py:376: UserWarning: Time-step timed out. Elapsed since last time-step: 0.14257670032748138\n",
      "\u001b[2m\u001b[36m(RolloutWorker pid=15280)\u001b[0m   warnings.warn(f\"Time-step timed out. Elapsed since last time-step: {now - self.__t_end}\")\n"
     ]
    },
    {
     "name": "stdout",
     "output_type": "stream",
     "text": [
      "Loop:  1267\n",
      "\u001b[2m\u001b[36m(RolloutWorker pid=15280)\u001b[0m reset triggered\n",
      "\u001b[2m\u001b[36m(RolloutWorker pid=15280)\u001b[0m reload save for track : 4\n"
     ]
    },
    {
     "name": "stderr",
     "output_type": "stream",
     "text": [
      "\u001b[2m\u001b[36m(RolloutWorker pid=15280)\u001b[0m c:\\Users\\nadir\\anaconda3\\envs\\GTAI2\\lib\\site-packages\\rtgym\\envs\\real_time_env.py:376: UserWarning: Time-step timed out. Elapsed since last time-step: 0.14661360032550874\n",
      "\u001b[2m\u001b[36m(RolloutWorker pid=15280)\u001b[0m   warnings.warn(f\"Time-step timed out. Elapsed since last time-step: {now - self.__t_end}\")\n"
     ]
    },
    {
     "name": "stdout",
     "output_type": "stream",
     "text": [
      "Loop:  1268\n",
      "Loop:  1269\n",
      "\u001b[2m\u001b[36m(RolloutWorker pid=15280)\u001b[0m reset triggered\n",
      "\u001b[2m\u001b[36m(RolloutWorker pid=15280)\u001b[0m reload save for track : 4\n"
     ]
    },
    {
     "name": "stderr",
     "output_type": "stream",
     "text": [
      "\u001b[2m\u001b[36m(RolloutWorker pid=15280)\u001b[0m c:\\Users\\nadir\\anaconda3\\envs\\GTAI2\\lib\\site-packages\\rtgym\\envs\\real_time_env.py:376: UserWarning: Time-step timed out. Elapsed since last time-step: 0.14338780032630893\n",
      "\u001b[2m\u001b[36m(RolloutWorker pid=15280)\u001b[0m   warnings.warn(f\"Time-step timed out. Elapsed since last time-step: {now - self.__t_end}\")\n"
     ]
    },
    {
     "name": "stdout",
     "output_type": "stream",
     "text": [
      "Loop:  1270\n",
      "Saved 1270\n",
      "\u001b[2m\u001b[36m(RolloutWorker pid=15280)\u001b[0m reset triggered\n",
      "\u001b[2m\u001b[36m(RolloutWorker pid=15280)\u001b[0m reload save for track : 4\n"
     ]
    },
    {
     "name": "stderr",
     "output_type": "stream",
     "text": [
      "\u001b[2m\u001b[36m(RolloutWorker pid=15280)\u001b[0m c:\\Users\\nadir\\anaconda3\\envs\\GTAI2\\lib\\site-packages\\rtgym\\envs\\real_time_env.py:376: UserWarning: Time-step timed out. Elapsed since last time-step: 0.15032290032468154\n",
      "\u001b[2m\u001b[36m(RolloutWorker pid=15280)\u001b[0m   warnings.warn(f\"Time-step timed out. Elapsed since last time-step: {now - self.__t_end}\")\n"
     ]
    },
    {
     "name": "stdout",
     "output_type": "stream",
     "text": [
      "Loop:  1271\n",
      "Loop:  1272\n",
      "\u001b[2m\u001b[36m(RolloutWorker pid=15280)\u001b[0m reset triggered\n",
      "\u001b[2m\u001b[36m(RolloutWorker pid=15280)\u001b[0m reload save for track : 4\n"
     ]
    },
    {
     "name": "stderr",
     "output_type": "stream",
     "text": [
      "\u001b[2m\u001b[36m(RolloutWorker pid=15280)\u001b[0m c:\\Users\\nadir\\anaconda3\\envs\\GTAI2\\lib\\site-packages\\rtgym\\envs\\real_time_env.py:376: UserWarning: Time-step timed out. Elapsed since last time-step: 0.14640550032709143\n",
      "\u001b[2m\u001b[36m(RolloutWorker pid=15280)\u001b[0m   warnings.warn(f\"Time-step timed out. Elapsed since last time-step: {now - self.__t_end}\")\n"
     ]
    },
    {
     "name": "stdout",
     "output_type": "stream",
     "text": [
      "Loop:  1273\n",
      "\u001b[2m\u001b[36m(RolloutWorker pid=15280)\u001b[0m reset triggered\n",
      "\u001b[2m\u001b[36m(RolloutWorker pid=15280)\u001b[0m reload save for track : 4\n"
     ]
    },
    {
     "name": "stderr",
     "output_type": "stream",
     "text": [
      "\u001b[2m\u001b[36m(RolloutWorker pid=15280)\u001b[0m c:\\Users\\nadir\\anaconda3\\envs\\GTAI2\\lib\\site-packages\\rtgym\\envs\\real_time_env.py:376: UserWarning: Time-step timed out. Elapsed since last time-step: 0.16325270032393746\n",
      "\u001b[2m\u001b[36m(RolloutWorker pid=15280)\u001b[0m   warnings.warn(f\"Time-step timed out. Elapsed since last time-step: {now - self.__t_end}\")\n"
     ]
    },
    {
     "name": "stdout",
     "output_type": "stream",
     "text": [
      "Loop:  1274\n",
      "Loop:  1275\n",
      "\u001b[2m\u001b[36m(RolloutWorker pid=15280)\u001b[0m reset triggered\n",
      "\u001b[2m\u001b[36m(RolloutWorker pid=15280)\u001b[0m reload save for track : 4\n"
     ]
    },
    {
     "name": "stderr",
     "output_type": "stream",
     "text": [
      "\u001b[2m\u001b[36m(RolloutWorker pid=15280)\u001b[0m c:\\Users\\nadir\\anaconda3\\envs\\GTAI2\\lib\\site-packages\\rtgym\\envs\\real_time_env.py:376: UserWarning: Time-step timed out. Elapsed since last time-step: 0.13931540032717749\n",
      "\u001b[2m\u001b[36m(RolloutWorker pid=15280)\u001b[0m   warnings.warn(f\"Time-step timed out. Elapsed since last time-step: {now - self.__t_end}\")\n"
     ]
    },
    {
     "name": "stdout",
     "output_type": "stream",
     "text": [
      "Loop:  1276\n",
      "\u001b[2m\u001b[36m(RolloutWorker pid=15280)\u001b[0m reset triggered\n",
      "\u001b[2m\u001b[36m(RolloutWorker pid=15280)\u001b[0m reload save for track : 4\n"
     ]
    },
    {
     "name": "stderr",
     "output_type": "stream",
     "text": [
      "\u001b[2m\u001b[36m(RolloutWorker pid=15280)\u001b[0m c:\\Users\\nadir\\anaconda3\\envs\\GTAI2\\lib\\site-packages\\rtgym\\envs\\real_time_env.py:376: UserWarning: Time-step timed out. Elapsed since last time-step: 0.14870320032423479\n",
      "\u001b[2m\u001b[36m(RolloutWorker pid=15280)\u001b[0m   warnings.warn(f\"Time-step timed out. Elapsed since last time-step: {now - self.__t_end}\")\n"
     ]
    },
    {
     "name": "stdout",
     "output_type": "stream",
     "text": [
      "Loop:  1277\n",
      "\u001b[2m\u001b[36m(RolloutWorker pid=15280)\u001b[0m reset triggered\n",
      "\u001b[2m\u001b[36m(RolloutWorker pid=15280)\u001b[0m reload save for track : 4\n"
     ]
    },
    {
     "name": "stderr",
     "output_type": "stream",
     "text": [
      "\u001b[2m\u001b[36m(RolloutWorker pid=15280)\u001b[0m c:\\Users\\nadir\\anaconda3\\envs\\GTAI2\\lib\\site-packages\\rtgym\\envs\\real_time_env.py:376: UserWarning: Time-step timed out. Elapsed since last time-step: 0.17046040032801102\n",
      "\u001b[2m\u001b[36m(RolloutWorker pid=15280)\u001b[0m   warnings.warn(f\"Time-step timed out. Elapsed since last time-step: {now - self.__t_end}\")\n"
     ]
    },
    {
     "name": "stdout",
     "output_type": "stream",
     "text": [
      "Loop:  1278\n",
      "Loop:  1279\n",
      "\u001b[2m\u001b[36m(RolloutWorker pid=15280)\u001b[0m reset triggered\n",
      "\u001b[2m\u001b[36m(RolloutWorker pid=15280)\u001b[0m reload save for track : 4\n"
     ]
    },
    {
     "name": "stderr",
     "output_type": "stream",
     "text": [
      "\u001b[2m\u001b[36m(RolloutWorker pid=15280)\u001b[0m c:\\Users\\nadir\\anaconda3\\envs\\GTAI2\\lib\\site-packages\\rtgym\\envs\\real_time_env.py:376: UserWarning: Time-step timed out. Elapsed since last time-step: 0.12896730032662163\n",
      "\u001b[2m\u001b[36m(RolloutWorker pid=15280)\u001b[0m   warnings.warn(f\"Time-step timed out. Elapsed since last time-step: {now - self.__t_end}\")\n"
     ]
    },
    {
     "name": "stdout",
     "output_type": "stream",
     "text": [
      "Loop:  1280\n",
      "Saved 1280\n",
      "\u001b[2m\u001b[36m(RolloutWorker pid=15280)\u001b[0m reset triggered\n",
      "\u001b[2m\u001b[36m(RolloutWorker pid=15280)\u001b[0m reload save for track : 4\n"
     ]
    },
    {
     "name": "stderr",
     "output_type": "stream",
     "text": [
      "\u001b[2m\u001b[36m(RolloutWorker pid=15280)\u001b[0m c:\\Users\\nadir\\anaconda3\\envs\\GTAI2\\lib\\site-packages\\rtgym\\envs\\real_time_env.py:376: UserWarning: Time-step timed out. Elapsed since last time-step: 0.13396610032577883\n",
      "\u001b[2m\u001b[36m(RolloutWorker pid=15280)\u001b[0m   warnings.warn(f\"Time-step timed out. Elapsed since last time-step: {now - self.__t_end}\")\n"
     ]
    },
    {
     "name": "stdout",
     "output_type": "stream",
     "text": [
      "Loop:  1281\n",
      "Loop:  1282\n",
      "\u001b[2m\u001b[36m(RolloutWorker pid=15280)\u001b[0m reset triggered\n",
      "\u001b[2m\u001b[36m(RolloutWorker pid=15280)\u001b[0m reload save for track : 4\n"
     ]
    },
    {
     "name": "stderr",
     "output_type": "stream",
     "text": [
      "\u001b[2m\u001b[36m(RolloutWorker pid=15280)\u001b[0m c:\\Users\\nadir\\anaconda3\\envs\\GTAI2\\lib\\site-packages\\rtgym\\envs\\real_time_env.py:376: UserWarning: Time-step timed out. Elapsed since last time-step: 0.14630150032462552\n",
      "\u001b[2m\u001b[36m(RolloutWorker pid=15280)\u001b[0m   warnings.warn(f\"Time-step timed out. Elapsed since last time-step: {now - self.__t_end}\")\n"
     ]
    },
    {
     "name": "stdout",
     "output_type": "stream",
     "text": [
      "Loop:  1283\n",
      "\u001b[2m\u001b[36m(RolloutWorker pid=15280)\u001b[0m reset triggered\n",
      "\u001b[2m\u001b[36m(RolloutWorker pid=15280)\u001b[0m reload save for track : 4\n"
     ]
    },
    {
     "name": "stderr",
     "output_type": "stream",
     "text": [
      "\u001b[2m\u001b[36m(RolloutWorker pid=15280)\u001b[0m c:\\Users\\nadir\\anaconda3\\envs\\GTAI2\\lib\\site-packages\\rtgym\\envs\\real_time_env.py:376: UserWarning: Time-step timed out. Elapsed since last time-step: 0.15934790032406454\n",
      "\u001b[2m\u001b[36m(RolloutWorker pid=15280)\u001b[0m   warnings.warn(f\"Time-step timed out. Elapsed since last time-step: {now - self.__t_end}\")\n"
     ]
    },
    {
     "name": "stdout",
     "output_type": "stream",
     "text": [
      "Loop:  1284\n",
      "Loop:  1285\n",
      "\u001b[2m\u001b[36m(RolloutWorker pid=15280)\u001b[0m reset triggered\n",
      "\u001b[2m\u001b[36m(RolloutWorker pid=15280)\u001b[0m reload save for track : 4\n"
     ]
    },
    {
     "name": "stderr",
     "output_type": "stream",
     "text": [
      "\u001b[2m\u001b[36m(RolloutWorker pid=15280)\u001b[0m c:\\Users\\nadir\\anaconda3\\envs\\GTAI2\\lib\\site-packages\\rtgym\\envs\\real_time_env.py:376: UserWarning: Time-step timed out. Elapsed since last time-step: 0.1534616003264091\n",
      "\u001b[2m\u001b[36m(RolloutWorker pid=15280)\u001b[0m   warnings.warn(f\"Time-step timed out. Elapsed since last time-step: {now - self.__t_end}\")\n"
     ]
    },
    {
     "name": "stdout",
     "output_type": "stream",
     "text": [
      "Loop:  1286\n",
      "\u001b[2m\u001b[36m(RolloutWorker pid=15280)\u001b[0m reset triggered\n",
      "\u001b[2m\u001b[36m(RolloutWorker pid=15280)\u001b[0m reload save for track : 4\n"
     ]
    },
    {
     "name": "stderr",
     "output_type": "stream",
     "text": [
      "\u001b[2m\u001b[36m(RolloutWorker pid=15280)\u001b[0m c:\\Users\\nadir\\anaconda3\\envs\\GTAI2\\lib\\site-packages\\rtgym\\envs\\real_time_env.py:376: UserWarning: Time-step timed out. Elapsed since last time-step: 0.15411180032606353\n",
      "\u001b[2m\u001b[36m(RolloutWorker pid=15280)\u001b[0m   warnings.warn(f\"Time-step timed out. Elapsed since last time-step: {now - self.__t_end}\")\n"
     ]
    },
    {
     "name": "stdout",
     "output_type": "stream",
     "text": [
      "Loop:  1287\n",
      "Loop:  1288\n",
      "\u001b[2m\u001b[36m(RolloutWorker pid=15280)\u001b[0m reset triggered\n",
      "\u001b[2m\u001b[36m(RolloutWorker pid=15280)\u001b[0m reload save for track : 4\n"
     ]
    },
    {
     "name": "stderr",
     "output_type": "stream",
     "text": [
      "\u001b[2m\u001b[36m(RolloutWorker pid=15280)\u001b[0m c:\\Users\\nadir\\anaconda3\\envs\\GTAI2\\lib\\site-packages\\rtgym\\envs\\real_time_env.py:376: UserWarning: Time-step timed out. Elapsed since last time-step: 0.14359110032819444\n",
      "\u001b[2m\u001b[36m(RolloutWorker pid=15280)\u001b[0m   warnings.warn(f\"Time-step timed out. Elapsed since last time-step: {now - self.__t_end}\")\n"
     ]
    },
    {
     "name": "stdout",
     "output_type": "stream",
     "text": [
      "Loop:  1289\n",
      "\u001b[2m\u001b[36m(RolloutWorker pid=15280)\u001b[0m reset triggered\n",
      "\u001b[2m\u001b[36m(RolloutWorker pid=15280)\u001b[0m reload save for track : 4\n"
     ]
    },
    {
     "name": "stderr",
     "output_type": "stream",
     "text": [
      "\u001b[2m\u001b[36m(RolloutWorker pid=15280)\u001b[0m c:\\Users\\nadir\\anaconda3\\envs\\GTAI2\\lib\\site-packages\\rtgym\\envs\\real_time_env.py:376: UserWarning: Time-step timed out. Elapsed since last time-step: 0.12224930032607517\n",
      "\u001b[2m\u001b[36m(RolloutWorker pid=15280)\u001b[0m   warnings.warn(f\"Time-step timed out. Elapsed since last time-step: {now - self.__t_end}\")\n"
     ]
    },
    {
     "name": "stdout",
     "output_type": "stream",
     "text": [
      "Loop:  1290\n",
      "Saved 1290\n",
      "\u001b[2m\u001b[36m(RolloutWorker pid=15280)\u001b[0m reset triggered\n",
      "\u001b[2m\u001b[36m(RolloutWorker pid=15280)\u001b[0m reload save for track : 4\n"
     ]
    },
    {
     "name": "stderr",
     "output_type": "stream",
     "text": [
      "\u001b[2m\u001b[36m(RolloutWorker pid=15280)\u001b[0m c:\\Users\\nadir\\anaconda3\\envs\\GTAI2\\lib\\site-packages\\rtgym\\envs\\real_time_env.py:376: UserWarning: Time-step timed out. Elapsed since last time-step: 0.16187300032470375\n",
      "\u001b[2m\u001b[36m(RolloutWorker pid=15280)\u001b[0m   warnings.warn(f\"Time-step timed out. Elapsed since last time-step: {now - self.__t_end}\")\n"
     ]
    },
    {
     "name": "stdout",
     "output_type": "stream",
     "text": [
      "Loop:  1291\n",
      "Loop:  1292\n",
      "\u001b[2m\u001b[36m(RolloutWorker pid=15280)\u001b[0m reset triggered\n",
      "\u001b[2m\u001b[36m(RolloutWorker pid=15280)\u001b[0m reload save for track : 4\n"
     ]
    },
    {
     "name": "stderr",
     "output_type": "stream",
     "text": [
      "\u001b[2m\u001b[36m(RolloutWorker pid=15280)\u001b[0m c:\\Users\\nadir\\anaconda3\\envs\\GTAI2\\lib\\site-packages\\rtgym\\envs\\real_time_env.py:376: UserWarning: Time-step timed out. Elapsed since last time-step: 0.12812950032457593\n",
      "\u001b[2m\u001b[36m(RolloutWorker pid=15280)\u001b[0m   warnings.warn(f\"Time-step timed out. Elapsed since last time-step: {now - self.__t_end}\")\n"
     ]
    },
    {
     "name": "stdout",
     "output_type": "stream",
     "text": [
      "Loop:  1293\n",
      "\u001b[2m\u001b[36m(RolloutWorker pid=15280)\u001b[0m reset triggered\n",
      "\u001b[2m\u001b[36m(RolloutWorker pid=15280)\u001b[0m reload save for track : 4\n"
     ]
    },
    {
     "name": "stderr",
     "output_type": "stream",
     "text": [
      "\u001b[2m\u001b[36m(RolloutWorker pid=15280)\u001b[0m c:\\Users\\nadir\\anaconda3\\envs\\GTAI2\\lib\\site-packages\\rtgym\\envs\\real_time_env.py:376: UserWarning: Time-step timed out. Elapsed since last time-step: 0.14796600032786955\n",
      "\u001b[2m\u001b[36m(RolloutWorker pid=15280)\u001b[0m   warnings.warn(f\"Time-step timed out. Elapsed since last time-step: {now - self.__t_end}\")\n"
     ]
    },
    {
     "name": "stdout",
     "output_type": "stream",
     "text": [
      "Loop:  1294\n",
      "Loop:  1295\n",
      "\u001b[2m\u001b[36m(RolloutWorker pid=15280)\u001b[0m reset triggered\n",
      "\u001b[2m\u001b[36m(RolloutWorker pid=15280)\u001b[0m reload save for track : 4\n"
     ]
    },
    {
     "name": "stderr",
     "output_type": "stream",
     "text": [
      "\u001b[2m\u001b[36m(RolloutWorker pid=15280)\u001b[0m c:\\Users\\nadir\\anaconda3\\envs\\GTAI2\\lib\\site-packages\\rtgym\\envs\\real_time_env.py:376: UserWarning: Time-step timed out. Elapsed since last time-step: 0.1412835003247892\n",
      "\u001b[2m\u001b[36m(RolloutWorker pid=15280)\u001b[0m   warnings.warn(f\"Time-step timed out. Elapsed since last time-step: {now - self.__t_end}\")\n"
     ]
    },
    {
     "name": "stdout",
     "output_type": "stream",
     "text": [
      "Loop:  1296\n",
      "\u001b[2m\u001b[36m(RolloutWorker pid=15280)\u001b[0m reset triggered\n",
      "\u001b[2m\u001b[36m(RolloutWorker pid=15280)\u001b[0m reload save for track : 4\n"
     ]
    },
    {
     "name": "stderr",
     "output_type": "stream",
     "text": [
      "\u001b[2m\u001b[36m(RolloutWorker pid=15280)\u001b[0m c:\\Users\\nadir\\anaconda3\\envs\\GTAI2\\lib\\site-packages\\rtgym\\envs\\real_time_env.py:376: UserWarning: Time-step timed out. Elapsed since last time-step: 0.14859300032549072\n",
      "\u001b[2m\u001b[36m(RolloutWorker pid=15280)\u001b[0m   warnings.warn(f\"Time-step timed out. Elapsed since last time-step: {now - self.__t_end}\")\n"
     ]
    },
    {
     "name": "stdout",
     "output_type": "stream",
     "text": [
      "Loop:  1297\n",
      "Loop:  1298\n",
      "\u001b[2m\u001b[36m(RolloutWorker pid=15280)\u001b[0m reset triggered\n",
      "\u001b[2m\u001b[36m(RolloutWorker pid=15280)\u001b[0m reload save for track : 4\n"
     ]
    },
    {
     "name": "stderr",
     "output_type": "stream",
     "text": [
      "\u001b[2m\u001b[36m(RolloutWorker pid=15280)\u001b[0m c:\\Users\\nadir\\anaconda3\\envs\\GTAI2\\lib\\site-packages\\rtgym\\envs\\real_time_env.py:376: UserWarning: Time-step timed out. Elapsed since last time-step: 0.1699830003271927\n",
      "\u001b[2m\u001b[36m(RolloutWorker pid=15280)\u001b[0m   warnings.warn(f\"Time-step timed out. Elapsed since last time-step: {now - self.__t_end}\")\n"
     ]
    },
    {
     "name": "stdout",
     "output_type": "stream",
     "text": [
      "Loop:  1299\n",
      "\u001b[2m\u001b[36m(RolloutWorker pid=15280)\u001b[0m reset triggered\n",
      "\u001b[2m\u001b[36m(RolloutWorker pid=15280)\u001b[0m reload save for track : 4\n"
     ]
    },
    {
     "name": "stderr",
     "output_type": "stream",
     "text": [
      "\u001b[2m\u001b[36m(RolloutWorker pid=15280)\u001b[0m c:\\Users\\nadir\\anaconda3\\envs\\GTAI2\\lib\\site-packages\\rtgym\\envs\\real_time_env.py:376: UserWarning: Time-step timed out. Elapsed since last time-step: 0.15220620032414445\n",
      "\u001b[2m\u001b[36m(RolloutWorker pid=15280)\u001b[0m   warnings.warn(f\"Time-step timed out. Elapsed since last time-step: {now - self.__t_end}\")\n",
      "\u001b[2m\u001b[36m(RolloutWorker pid=15280)\u001b[0m c:\\Users\\nadir\\anaconda3\\envs\\GTAI2\\lib\\site-packages\\rtgym\\envs\\real_time_env.py:376: UserWarning: Time-step timed out. Elapsed since last time-step: 0.13959170003727195\n",
      "\u001b[2m\u001b[36m(RolloutWorker pid=15280)\u001b[0m   warnings.warn(f\"Time-step timed out. Elapsed since last time-step: {now - self.__t_end}\")\n"
     ]
    },
    {
     "name": "stdout",
     "output_type": "stream",
     "text": [
      "Loop:  1300\n",
      "Saved 1300\n",
      "Loop:  1301\n",
      "\u001b[2m\u001b[36m(RolloutWorker pid=15280)\u001b[0m reset triggered\n",
      "\u001b[2m\u001b[36m(RolloutWorker pid=15280)\u001b[0m reload save for track : 4\n"
     ]
    },
    {
     "name": "stderr",
     "output_type": "stream",
     "text": [
      "\u001b[2m\u001b[36m(RolloutWorker pid=15280)\u001b[0m c:\\Users\\nadir\\anaconda3\\envs\\GTAI2\\lib\\site-packages\\rtgym\\envs\\real_time_env.py:376: UserWarning: Time-step timed out. Elapsed since last time-step: 0.16763030028960202\n",
      "\u001b[2m\u001b[36m(RolloutWorker pid=15280)\u001b[0m   warnings.warn(f\"Time-step timed out. Elapsed since last time-step: {now - self.__t_end}\")\n"
     ]
    },
    {
     "name": "stdout",
     "output_type": "stream",
     "text": [
      "Loop:  1302\n",
      "\u001b[2m\u001b[36m(RolloutWorker pid=15280)\u001b[0m reset triggered\n",
      "\u001b[2m\u001b[36m(RolloutWorker pid=15280)\u001b[0m reload save for track : 4\n"
     ]
    },
    {
     "name": "stderr",
     "output_type": "stream",
     "text": [
      "\u001b[2m\u001b[36m(RolloutWorker pid=15280)\u001b[0m c:\\Users\\nadir\\anaconda3\\envs\\GTAI2\\lib\\site-packages\\rtgym\\envs\\real_time_env.py:376: UserWarning: Time-step timed out. Elapsed since last time-step: 0.1533368003256328\n",
      "\u001b[2m\u001b[36m(RolloutWorker pid=15280)\u001b[0m   warnings.warn(f\"Time-step timed out. Elapsed since last time-step: {now - self.__t_end}\")\n"
     ]
    },
    {
     "name": "stdout",
     "output_type": "stream",
     "text": [
      "Loop:  1303\n",
      "\u001b[2m\u001b[36m(RolloutWorker pid=15280)\u001b[0m reset triggered\n",
      "\u001b[2m\u001b[36m(RolloutWorker pid=15280)\u001b[0m reload save for track : 4\n"
     ]
    },
    {
     "name": "stderr",
     "output_type": "stream",
     "text": [
      "\u001b[2m\u001b[36m(RolloutWorker pid=15280)\u001b[0m c:\\Users\\nadir\\anaconda3\\envs\\GTAI2\\lib\\site-packages\\rtgym\\envs\\real_time_env.py:376: UserWarning: Time-step timed out. Elapsed since last time-step: 0.14903810032774345\n",
      "\u001b[2m\u001b[36m(RolloutWorker pid=15280)\u001b[0m   warnings.warn(f\"Time-step timed out. Elapsed since last time-step: {now - self.__t_end}\")\n"
     ]
    },
    {
     "name": "stdout",
     "output_type": "stream",
     "text": [
      "Loop:  1304\n",
      "Loop:  1305\n",
      "\u001b[2m\u001b[36m(RolloutWorker pid=15280)\u001b[0m reset triggered\n",
      "\u001b[2m\u001b[36m(RolloutWorker pid=15280)\u001b[0m reload save for track : 4\n"
     ]
    },
    {
     "name": "stderr",
     "output_type": "stream",
     "text": [
      "\u001b[2m\u001b[36m(RolloutWorker pid=15280)\u001b[0m c:\\Users\\nadir\\anaconda3\\envs\\GTAI2\\lib\\site-packages\\rtgym\\envs\\real_time_env.py:376: UserWarning: Time-step timed out. Elapsed since last time-step: 0.14850960032708826\n",
      "\u001b[2m\u001b[36m(RolloutWorker pid=15280)\u001b[0m   warnings.warn(f\"Time-step timed out. Elapsed since last time-step: {now - self.__t_end}\")\n"
     ]
    },
    {
     "name": "stdout",
     "output_type": "stream",
     "text": [
      "Loop:  1306\n",
      "\u001b[2m\u001b[36m(RolloutWorker pid=15280)\u001b[0m reset triggered\n",
      "\u001b[2m\u001b[36m(RolloutWorker pid=15280)\u001b[0m reload save for track : 4\n"
     ]
    },
    {
     "name": "stderr",
     "output_type": "stream",
     "text": [
      "\u001b[2m\u001b[36m(RolloutWorker pid=15280)\u001b[0m c:\\Users\\nadir\\anaconda3\\envs\\GTAI2\\lib\\site-packages\\rtgym\\envs\\real_time_env.py:376: UserWarning: Time-step timed out. Elapsed since last time-step: 0.12232920032329275\n",
      "\u001b[2m\u001b[36m(RolloutWorker pid=15280)\u001b[0m   warnings.warn(f\"Time-step timed out. Elapsed since last time-step: {now - self.__t_end}\")\n"
     ]
    },
    {
     "name": "stdout",
     "output_type": "stream",
     "text": [
      "Loop:  1307\n",
      "Loop:  1308\n",
      "\u001b[2m\u001b[36m(RolloutWorker pid=15280)\u001b[0m reset triggered\n",
      "\u001b[2m\u001b[36m(RolloutWorker pid=15280)\u001b[0m reload save for track : 4\n"
     ]
    },
    {
     "name": "stderr",
     "output_type": "stream",
     "text": [
      "\u001b[2m\u001b[36m(RolloutWorker pid=15280)\u001b[0m c:\\Users\\nadir\\anaconda3\\envs\\GTAI2\\lib\\site-packages\\rtgym\\envs\\real_time_env.py:376: UserWarning: Time-step timed out. Elapsed since last time-step: 0.15770190032708342\n",
      "\u001b[2m\u001b[36m(RolloutWorker pid=15280)\u001b[0m   warnings.warn(f\"Time-step timed out. Elapsed since last time-step: {now - self.__t_end}\")\n"
     ]
    },
    {
     "name": "stdout",
     "output_type": "stream",
     "text": [
      "Loop:  1309\n",
      "\u001b[2m\u001b[36m(RolloutWorker pid=15280)\u001b[0m reset triggered\n",
      "\u001b[2m\u001b[36m(RolloutWorker pid=15280)\u001b[0m reload save for track : 4\n"
     ]
    },
    {
     "name": "stderr",
     "output_type": "stream",
     "text": [
      "\u001b[2m\u001b[36m(RolloutWorker pid=15280)\u001b[0m c:\\Users\\nadir\\anaconda3\\envs\\GTAI2\\lib\\site-packages\\rtgym\\envs\\real_time_env.py:376: UserWarning: Time-step timed out. Elapsed since last time-step: 0.17061030032709823\n",
      "\u001b[2m\u001b[36m(RolloutWorker pid=15280)\u001b[0m   warnings.warn(f\"Time-step timed out. Elapsed since last time-step: {now - self.__t_end}\")\n"
     ]
    },
    {
     "name": "stdout",
     "output_type": "stream",
     "text": [
      "Loop:  1310\n",
      "Saved 1310\n",
      "Loop:  1311\n",
      "\u001b[2m\u001b[36m(RolloutWorker pid=15280)\u001b[0m reset triggered\n",
      "\u001b[2m\u001b[36m(RolloutWorker pid=15280)\u001b[0m reload save for track : 4\n"
     ]
    },
    {
     "name": "stderr",
     "output_type": "stream",
     "text": [
      "\u001b[2m\u001b[36m(RolloutWorker pid=15280)\u001b[0m c:\\Users\\nadir\\anaconda3\\envs\\GTAI2\\lib\\site-packages\\rtgym\\envs\\real_time_env.py:376: UserWarning: Time-step timed out. Elapsed since last time-step: 0.16217200032406254\n",
      "\u001b[2m\u001b[36m(RolloutWorker pid=15280)\u001b[0m   warnings.warn(f\"Time-step timed out. Elapsed since last time-step: {now - self.__t_end}\")\n"
     ]
    },
    {
     "name": "stdout",
     "output_type": "stream",
     "text": [
      "Loop:  1312\n",
      "\u001b[2m\u001b[36m(RolloutWorker pid=15280)\u001b[0m reset triggered\n",
      "\u001b[2m\u001b[36m(RolloutWorker pid=15280)\u001b[0m reload save for track : 4\n"
     ]
    },
    {
     "name": "stderr",
     "output_type": "stream",
     "text": [
      "\u001b[2m\u001b[36m(RolloutWorker pid=15280)\u001b[0m c:\\Users\\nadir\\anaconda3\\envs\\GTAI2\\lib\\site-packages\\rtgym\\envs\\real_time_env.py:376: UserWarning: Time-step timed out. Elapsed since last time-step: 0.13619100032519782\n",
      "\u001b[2m\u001b[36m(RolloutWorker pid=15280)\u001b[0m   warnings.warn(f\"Time-step timed out. Elapsed since last time-step: {now - self.__t_end}\")\n"
     ]
    },
    {
     "name": "stdout",
     "output_type": "stream",
     "text": [
      "Loop:  1313\n",
      "Loop:  1314\n",
      "\u001b[2m\u001b[36m(RolloutWorker pid=15280)\u001b[0m reset triggered\n",
      "\u001b[2m\u001b[36m(RolloutWorker pid=15280)\u001b[0m reload save for track : 4\n"
     ]
    },
    {
     "name": "stderr",
     "output_type": "stream",
     "text": [
      "\u001b[2m\u001b[36m(RolloutWorker pid=15280)\u001b[0m c:\\Users\\nadir\\anaconda3\\envs\\GTAI2\\lib\\site-packages\\rtgym\\envs\\real_time_env.py:376: UserWarning: Time-step timed out. Elapsed since last time-step: 0.1434984003280988\n",
      "\u001b[2m\u001b[36m(RolloutWorker pid=15280)\u001b[0m   warnings.warn(f\"Time-step timed out. Elapsed since last time-step: {now - self.__t_end}\")\n"
     ]
    },
    {
     "name": "stdout",
     "output_type": "stream",
     "text": [
      "Loop:  1315\n",
      "\u001b[2m\u001b[36m(RolloutWorker pid=15280)\u001b[0m reset triggered\n",
      "\u001b[2m\u001b[36m(RolloutWorker pid=15280)\u001b[0m reload save for track : 4\n"
     ]
    },
    {
     "name": "stderr",
     "output_type": "stream",
     "text": [
      "\u001b[2m\u001b[36m(RolloutWorker pid=15280)\u001b[0m c:\\Users\\nadir\\anaconda3\\envs\\GTAI2\\lib\\site-packages\\rtgym\\envs\\real_time_env.py:376: UserWarning: Time-step timed out. Elapsed since last time-step: 0.1383766003236815\n",
      "\u001b[2m\u001b[36m(RolloutWorker pid=15280)\u001b[0m   warnings.warn(f\"Time-step timed out. Elapsed since last time-step: {now - self.__t_end}\")\n"
     ]
    },
    {
     "name": "stdout",
     "output_type": "stream",
     "text": [
      "Loop:  1316\n",
      "\u001b[2m\u001b[36m(RolloutWorker pid=15280)\u001b[0m reset triggered\n",
      "\u001b[2m\u001b[36m(RolloutWorker pid=15280)\u001b[0m reload save for track : 4\n"
     ]
    },
    {
     "name": "stderr",
     "output_type": "stream",
     "text": [
      "\u001b[2m\u001b[36m(RolloutWorker pid=15280)\u001b[0m c:\\Users\\nadir\\anaconda3\\envs\\GTAI2\\lib\\site-packages\\rtgym\\envs\\real_time_env.py:376: UserWarning: Time-step timed out. Elapsed since last time-step: 0.12152180032717297\n",
      "\u001b[2m\u001b[36m(RolloutWorker pid=15280)\u001b[0m   warnings.warn(f\"Time-step timed out. Elapsed since last time-step: {now - self.__t_end}\")\n"
     ]
    },
    {
     "name": "stdout",
     "output_type": "stream",
     "text": [
      "Loop:  1317\n",
      "Loop:  1318\n",
      "\u001b[2m\u001b[36m(RolloutWorker pid=15280)\u001b[0m reset triggered\n",
      "\u001b[2m\u001b[36m(RolloutWorker pid=15280)\u001b[0m reload save for track : 4\n"
     ]
    },
    {
     "name": "stderr",
     "output_type": "stream",
     "text": [
      "\u001b[2m\u001b[36m(RolloutWorker pid=15280)\u001b[0m c:\\Users\\nadir\\anaconda3\\envs\\GTAI2\\lib\\site-packages\\rtgym\\envs\\real_time_env.py:376: UserWarning: Time-step timed out. Elapsed since last time-step: 0.150486300324701\n",
      "\u001b[2m\u001b[36m(RolloutWorker pid=15280)\u001b[0m   warnings.warn(f\"Time-step timed out. Elapsed since last time-step: {now - self.__t_end}\")\n"
     ]
    },
    {
     "name": "stdout",
     "output_type": "stream",
     "text": [
      "Loop:  1319\n",
      "\u001b[2m\u001b[36m(RolloutWorker pid=15280)\u001b[0m reset triggered\n",
      "\u001b[2m\u001b[36m(RolloutWorker pid=15280)\u001b[0m reload save for track : 4\n"
     ]
    },
    {
     "name": "stderr",
     "output_type": "stream",
     "text": [
      "\u001b[2m\u001b[36m(RolloutWorker pid=15280)\u001b[0m c:\\Users\\nadir\\anaconda3\\envs\\GTAI2\\lib\\site-packages\\rtgym\\envs\\real_time_env.py:376: UserWarning: Time-step timed out. Elapsed since last time-step: 0.14011980032591964\n",
      "\u001b[2m\u001b[36m(RolloutWorker pid=15280)\u001b[0m   warnings.warn(f\"Time-step timed out. Elapsed since last time-step: {now - self.__t_end}\")\n"
     ]
    },
    {
     "name": "stdout",
     "output_type": "stream",
     "text": [
      "Loop:  1320\n",
      "Saved 1320\n",
      "Loop:  1321\n",
      "\u001b[2m\u001b[36m(RolloutWorker pid=15280)\u001b[0m reset triggered\n",
      "\u001b[2m\u001b[36m(RolloutWorker pid=15280)\u001b[0m reload save for track : 4\n"
     ]
    },
    {
     "name": "stderr",
     "output_type": "stream",
     "text": [
      "\u001b[2m\u001b[36m(RolloutWorker pid=15280)\u001b[0m c:\\Users\\nadir\\anaconda3\\envs\\GTAI2\\lib\\site-packages\\rtgym\\envs\\real_time_env.py:376: UserWarning: Time-step timed out. Elapsed since last time-step: 0.13716350032700575\n",
      "\u001b[2m\u001b[36m(RolloutWorker pid=15280)\u001b[0m   warnings.warn(f\"Time-step timed out. Elapsed since last time-step: {now - self.__t_end}\")\n"
     ]
    },
    {
     "name": "stdout",
     "output_type": "stream",
     "text": [
      "Loop:  1322\n",
      "\u001b[2m\u001b[36m(RolloutWorker pid=15280)\u001b[0m reset triggered\n",
      "\u001b[2m\u001b[36m(RolloutWorker pid=15280)\u001b[0m reload save for track : 4\n"
     ]
    },
    {
     "name": "stderr",
     "output_type": "stream",
     "text": [
      "\u001b[2m\u001b[36m(RolloutWorker pid=15280)\u001b[0m c:\\Users\\nadir\\anaconda3\\envs\\GTAI2\\lib\\site-packages\\rtgym\\envs\\real_time_env.py:376: UserWarning: Time-step timed out. Elapsed since last time-step: 0.13289680032539763\n",
      "\u001b[2m\u001b[36m(RolloutWorker pid=15280)\u001b[0m   warnings.warn(f\"Time-step timed out. Elapsed since last time-step: {now - self.__t_end}\")\n"
     ]
    },
    {
     "name": "stdout",
     "output_type": "stream",
     "text": [
      "Loop:  1323\n",
      "Loop:  1324\n",
      "\u001b[2m\u001b[36m(RolloutWorker pid=15280)\u001b[0m reset triggered\n",
      "\u001b[2m\u001b[36m(RolloutWorker pid=15280)\u001b[0m reload save for track : 4\n"
     ]
    },
    {
     "name": "stderr",
     "output_type": "stream",
     "text": [
      "\u001b[2m\u001b[36m(RolloutWorker pid=15280)\u001b[0m c:\\Users\\nadir\\anaconda3\\envs\\GTAI2\\lib\\site-packages\\rtgym\\envs\\real_time_env.py:376: UserWarning: Time-step timed out. Elapsed since last time-step: 0.13676680032585864\n",
      "\u001b[2m\u001b[36m(RolloutWorker pid=15280)\u001b[0m   warnings.warn(f\"Time-step timed out. Elapsed since last time-step: {now - self.__t_end}\")\n"
     ]
    },
    {
     "name": "stdout",
     "output_type": "stream",
     "text": [
      "Loop:  1325\n",
      "\u001b[2m\u001b[36m(RolloutWorker pid=15280)\u001b[0m reset triggered\n",
      "\u001b[2m\u001b[36m(RolloutWorker pid=15280)\u001b[0m reload save for track : 4\n"
     ]
    },
    {
     "name": "stderr",
     "output_type": "stream",
     "text": [
      "\u001b[2m\u001b[36m(RolloutWorker pid=15280)\u001b[0m c:\\Users\\nadir\\anaconda3\\envs\\GTAI2\\lib\\site-packages\\rtgym\\envs\\real_time_env.py:376: UserWarning: Time-step timed out. Elapsed since last time-step: 0.13297340032659122\n",
      "\u001b[2m\u001b[36m(RolloutWorker pid=15280)\u001b[0m   warnings.warn(f\"Time-step timed out. Elapsed since last time-step: {now - self.__t_end}\")\n"
     ]
    },
    {
     "name": "stdout",
     "output_type": "stream",
     "text": [
      "Loop:  1326\n",
      "Loop:  1327\n",
      "\u001b[2m\u001b[36m(RolloutWorker pid=15280)\u001b[0m reset triggered\n",
      "\u001b[2m\u001b[36m(RolloutWorker pid=15280)\u001b[0m reload save for track : 4\n"
     ]
    },
    {
     "name": "stderr",
     "output_type": "stream",
     "text": [
      "\u001b[2m\u001b[36m(RolloutWorker pid=15280)\u001b[0m c:\\Users\\nadir\\anaconda3\\envs\\GTAI2\\lib\\site-packages\\rtgym\\envs\\real_time_env.py:376: UserWarning: Time-step timed out. Elapsed since last time-step: 0.1502914003249316\n",
      "\u001b[2m\u001b[36m(RolloutWorker pid=15280)\u001b[0m   warnings.warn(f\"Time-step timed out. Elapsed since last time-step: {now - self.__t_end}\")\n"
     ]
    },
    {
     "name": "stdout",
     "output_type": "stream",
     "text": [
      "Loop:  1328\n",
      "\u001b[2m\u001b[36m(RolloutWorker pid=15280)\u001b[0m reset triggered\n",
      "\u001b[2m\u001b[36m(RolloutWorker pid=15280)\u001b[0m reload save for track : 4\n"
     ]
    },
    {
     "name": "stderr",
     "output_type": "stream",
     "text": [
      "\u001b[2m\u001b[36m(RolloutWorker pid=15280)\u001b[0m c:\\Users\\nadir\\anaconda3\\envs\\GTAI2\\lib\\site-packages\\rtgym\\envs\\real_time_env.py:376: UserWarning: Time-step timed out. Elapsed since last time-step: 0.1475977003283333\n",
      "\u001b[2m\u001b[36m(RolloutWorker pid=15280)\u001b[0m   warnings.warn(f\"Time-step timed out. Elapsed since last time-step: {now - self.__t_end}\")\n"
     ]
    },
    {
     "name": "stdout",
     "output_type": "stream",
     "text": [
      "Loop:  1329\n",
      "\u001b[2m\u001b[36m(RolloutWorker pid=15280)\u001b[0m reset triggered\n",
      "\u001b[2m\u001b[36m(RolloutWorker pid=15280)\u001b[0m reload save for track : 4\n"
     ]
    },
    {
     "name": "stderr",
     "output_type": "stream",
     "text": [
      "\u001b[2m\u001b[36m(RolloutWorker pid=15280)\u001b[0m c:\\Users\\nadir\\anaconda3\\envs\\GTAI2\\lib\\site-packages\\rtgym\\envs\\real_time_env.py:376: UserWarning: Time-step timed out. Elapsed since last time-step: 0.15249480032434803\n",
      "\u001b[2m\u001b[36m(RolloutWorker pid=15280)\u001b[0m   warnings.warn(f\"Time-step timed out. Elapsed since last time-step: {now - self.__t_end}\")\n"
     ]
    },
    {
     "name": "stdout",
     "output_type": "stream",
     "text": [
      "Loop:  1330\n",
      "Saved 1330\n",
      "Loop:  1331\n",
      "\u001b[2m\u001b[36m(RolloutWorker pid=15280)\u001b[0m reset triggered\n",
      "\u001b[2m\u001b[36m(RolloutWorker pid=15280)\u001b[0m reload save for track : 4\n"
     ]
    },
    {
     "name": "stderr",
     "output_type": "stream",
     "text": [
      "\u001b[2m\u001b[36m(RolloutWorker pid=15280)\u001b[0m c:\\Users\\nadir\\anaconda3\\envs\\GTAI2\\lib\\site-packages\\rtgym\\envs\\real_time_env.py:376: UserWarning: Time-step timed out. Elapsed since last time-step: 0.14975940032672952\n",
      "\u001b[2m\u001b[36m(RolloutWorker pid=15280)\u001b[0m   warnings.warn(f\"Time-step timed out. Elapsed since last time-step: {now - self.__t_end}\")\n"
     ]
    },
    {
     "name": "stdout",
     "output_type": "stream",
     "text": [
      "Loop:  1332\n",
      "\u001b[2m\u001b[36m(RolloutWorker pid=15280)\u001b[0m reset triggered\n",
      "\u001b[2m\u001b[36m(RolloutWorker pid=15280)\u001b[0m reload save for track : 4\n"
     ]
    },
    {
     "name": "stderr",
     "output_type": "stream",
     "text": [
      "\u001b[2m\u001b[36m(RolloutWorker pid=15280)\u001b[0m c:\\Users\\nadir\\anaconda3\\envs\\GTAI2\\lib\\site-packages\\rtgym\\envs\\real_time_env.py:376: UserWarning: Time-step timed out. Elapsed since last time-step: 0.14031080032509635\n",
      "\u001b[2m\u001b[36m(RolloutWorker pid=15280)\u001b[0m   warnings.warn(f\"Time-step timed out. Elapsed since last time-step: {now - self.__t_end}\")\n"
     ]
    },
    {
     "name": "stdout",
     "output_type": "stream",
     "text": [
      "Loop:  1333\n",
      "Loop:  1334\n",
      "\u001b[2m\u001b[36m(RolloutWorker pid=15280)\u001b[0m reset triggered\n",
      "\u001b[2m\u001b[36m(RolloutWorker pid=15280)\u001b[0m reload save for track : 4\n"
     ]
    },
    {
     "name": "stderr",
     "output_type": "stream",
     "text": [
      "\u001b[2m\u001b[36m(RolloutWorker pid=15280)\u001b[0m c:\\Users\\nadir\\anaconda3\\envs\\GTAI2\\lib\\site-packages\\rtgym\\envs\\real_time_env.py:376: UserWarning: Time-step timed out. Elapsed since last time-step: 0.14015690032829298\n",
      "\u001b[2m\u001b[36m(RolloutWorker pid=15280)\u001b[0m   warnings.warn(f\"Time-step timed out. Elapsed since last time-step: {now - self.__t_end}\")\n"
     ]
    },
    {
     "name": "stdout",
     "output_type": "stream",
     "text": [
      "Loop:  1335\n",
      "\u001b[2m\u001b[36m(RolloutWorker pid=15280)\u001b[0m reset triggered\n",
      "\u001b[2m\u001b[36m(RolloutWorker pid=15280)\u001b[0m reload save for track : 4\n"
     ]
    },
    {
     "name": "stderr",
     "output_type": "stream",
     "text": [
      "\u001b[2m\u001b[36m(RolloutWorker pid=15280)\u001b[0m c:\\Users\\nadir\\anaconda3\\envs\\GTAI2\\lib\\site-packages\\rtgym\\envs\\real_time_env.py:376: UserWarning: Time-step timed out. Elapsed since last time-step: 0.15727620032339473\n",
      "\u001b[2m\u001b[36m(RolloutWorker pid=15280)\u001b[0m   warnings.warn(f\"Time-step timed out. Elapsed since last time-step: {now - self.__t_end}\")\n"
     ]
    },
    {
     "name": "stdout",
     "output_type": "stream",
     "text": [
      "Loop:  1336\n",
      "Loop:  1337\n",
      "\u001b[2m\u001b[36m(RolloutWorker pid=15280)\u001b[0m reset triggered\n",
      "\u001b[2m\u001b[36m(RolloutWorker pid=15280)\u001b[0m reload save for track : 4\n"
     ]
    },
    {
     "name": "stderr",
     "output_type": "stream",
     "text": [
      "\u001b[2m\u001b[36m(RolloutWorker pid=15280)\u001b[0m c:\\Users\\nadir\\anaconda3\\envs\\GTAI2\\lib\\site-packages\\rtgym\\envs\\real_time_env.py:376: UserWarning: Time-step timed out. Elapsed since last time-step: 0.13271650032766047\n",
      "\u001b[2m\u001b[36m(RolloutWorker pid=15280)\u001b[0m   warnings.warn(f\"Time-step timed out. Elapsed since last time-step: {now - self.__t_end}\")\n"
     ]
    },
    {
     "name": "stdout",
     "output_type": "stream",
     "text": [
      "Loop:  1338\n"
     ]
    },
    {
     "name": "stderr",
     "output_type": "stream",
     "text": [
      "\u001b[2m\u001b[36m(RolloutWorker pid=15280)\u001b[0m c:\\Users\\nadir\\anaconda3\\envs\\GTAI2\\lib\\site-packages\\rtgym\\envs\\real_time_env.py:376: UserWarning: Time-step timed out. Elapsed since last time-step: 0.15288830023564515\n",
      "\u001b[2m\u001b[36m(RolloutWorker pid=15280)\u001b[0m   warnings.warn(f\"Time-step timed out. Elapsed since last time-step: {now - self.__t_end}\")\n"
     ]
    },
    {
     "name": "stdout",
     "output_type": "stream",
     "text": [
      "\u001b[2m\u001b[36m(RolloutWorker pid=15280)\u001b[0m reset triggered\n",
      "\u001b[2m\u001b[36m(RolloutWorker pid=15280)\u001b[0m reload save for track : 4\n"
     ]
    },
    {
     "name": "stderr",
     "output_type": "stream",
     "text": [
      "\u001b[2m\u001b[36m(RolloutWorker pid=15280)\u001b[0m c:\\Users\\nadir\\anaconda3\\envs\\GTAI2\\lib\\site-packages\\rtgym\\envs\\real_time_env.py:376: UserWarning: Time-step timed out. Elapsed since last time-step: 0.14630770008807303\n",
      "\u001b[2m\u001b[36m(RolloutWorker pid=15280)\u001b[0m   warnings.warn(f\"Time-step timed out. Elapsed since last time-step: {now - self.__t_end}\")\n"
     ]
    },
    {
     "name": "stdout",
     "output_type": "stream",
     "text": [
      "Loop:  1339\n",
      "Loop:  1340\n",
      "Saved 1340\n",
      "\u001b[2m\u001b[36m(RolloutWorker pid=15280)\u001b[0m reset triggered\n",
      "\u001b[2m\u001b[36m(RolloutWorker pid=15280)\u001b[0m reload save for track : 4\n"
     ]
    },
    {
     "name": "stderr",
     "output_type": "stream",
     "text": [
      "\u001b[2m\u001b[36m(RolloutWorker pid=15280)\u001b[0m c:\\Users\\nadir\\anaconda3\\envs\\GTAI2\\lib\\site-packages\\rtgym\\envs\\real_time_env.py:376: UserWarning: Time-step timed out. Elapsed since last time-step: 0.151166600327997\n",
      "\u001b[2m\u001b[36m(RolloutWorker pid=15280)\u001b[0m   warnings.warn(f\"Time-step timed out. Elapsed since last time-step: {now - self.__t_end}\")\n"
     ]
    },
    {
     "name": "stdout",
     "output_type": "stream",
     "text": [
      "Loop:  1341\n",
      "\u001b[2m\u001b[36m(RolloutWorker pid=15280)\u001b[0m reset triggered\n",
      "\u001b[2m\u001b[36m(RolloutWorker pid=15280)\u001b[0m reload save for track : 4\n"
     ]
    },
    {
     "name": "stderr",
     "output_type": "stream",
     "text": [
      "\u001b[2m\u001b[36m(RolloutWorker pid=15280)\u001b[0m c:\\Users\\nadir\\anaconda3\\envs\\GTAI2\\lib\\site-packages\\rtgym\\envs\\real_time_env.py:376: UserWarning: Time-step timed out. Elapsed since last time-step: 0.1465254003269365\n",
      "\u001b[2m\u001b[36m(RolloutWorker pid=15280)\u001b[0m   warnings.warn(f\"Time-step timed out. Elapsed since last time-step: {now - self.__t_end}\")\n"
     ]
    },
    {
     "name": "stdout",
     "output_type": "stream",
     "text": [
      "Loop:  1342\n",
      "\u001b[2m\u001b[36m(RolloutWorker pid=15280)\u001b[0m reset triggered\n",
      "\u001b[2m\u001b[36m(RolloutWorker pid=15280)\u001b[0m reload save for track : 4\n",
      "Loop:  1343\n"
     ]
    },
    {
     "name": "stderr",
     "output_type": "stream",
     "text": [
      "\u001b[2m\u001b[36m(RolloutWorker pid=15280)\u001b[0m c:\\Users\\nadir\\anaconda3\\envs\\GTAI2\\lib\\site-packages\\rtgym\\envs\\real_time_env.py:376: UserWarning: Time-step timed out. Elapsed since last time-step: 0.17089740032315603\n",
      "\u001b[2m\u001b[36m(RolloutWorker pid=15280)\u001b[0m   warnings.warn(f\"Time-step timed out. Elapsed since last time-step: {now - self.__t_end}\")\n"
     ]
    },
    {
     "name": "stdout",
     "output_type": "stream",
     "text": [
      "Loop:  1344\n",
      "\u001b[2m\u001b[36m(RolloutWorker pid=15280)\u001b[0m reset triggered\n",
      "\u001b[2m\u001b[36m(RolloutWorker pid=15280)\u001b[0m reload save for track : 4\n"
     ]
    },
    {
     "name": "stderr",
     "output_type": "stream",
     "text": [
      "\u001b[2m\u001b[36m(RolloutWorker pid=15280)\u001b[0m c:\\Users\\nadir\\anaconda3\\envs\\GTAI2\\lib\\site-packages\\rtgym\\envs\\real_time_env.py:376: UserWarning: Time-step timed out. Elapsed since last time-step: 0.1454118003275653\n",
      "\u001b[2m\u001b[36m(RolloutWorker pid=15280)\u001b[0m   warnings.warn(f\"Time-step timed out. Elapsed since last time-step: {now - self.__t_end}\")\n"
     ]
    },
    {
     "name": "stdout",
     "output_type": "stream",
     "text": [
      "Loop:  1345\n",
      "\u001b[2m\u001b[36m(RolloutWorker pid=15280)\u001b[0m reset triggered\n",
      "\u001b[2m\u001b[36m(RolloutWorker pid=15280)\u001b[0m reload save for track : 4\n"
     ]
    },
    {
     "name": "stderr",
     "output_type": "stream",
     "text": [
      "\u001b[2m\u001b[36m(RolloutWorker pid=15280)\u001b[0m c:\\Users\\nadir\\anaconda3\\envs\\GTAI2\\lib\\site-packages\\rtgym\\envs\\real_time_env.py:376: UserWarning: Time-step timed out. Elapsed since last time-step: 0.14549540032749064\n",
      "\u001b[2m\u001b[36m(RolloutWorker pid=15280)\u001b[0m   warnings.warn(f\"Time-step timed out. Elapsed since last time-step: {now - self.__t_end}\")\n"
     ]
    },
    {
     "name": "stdout",
     "output_type": "stream",
     "text": [
      "Loop:  1346\n",
      "Loop:  1347\n",
      "\u001b[2m\u001b[36m(RolloutWorker pid=15280)\u001b[0m reset triggered\n",
      "\u001b[2m\u001b[36m(RolloutWorker pid=15280)\u001b[0m reload save for track : 4\n"
     ]
    },
    {
     "name": "stderr",
     "output_type": "stream",
     "text": [
      "\u001b[2m\u001b[36m(RolloutWorker pid=15280)\u001b[0m c:\\Users\\nadir\\anaconda3\\envs\\GTAI2\\lib\\site-packages\\rtgym\\envs\\real_time_env.py:376: UserWarning: Time-step timed out. Elapsed since last time-step: 0.1415258003253257\n",
      "\u001b[2m\u001b[36m(RolloutWorker pid=15280)\u001b[0m   warnings.warn(f\"Time-step timed out. Elapsed since last time-step: {now - self.__t_end}\")\n"
     ]
    },
    {
     "name": "stdout",
     "output_type": "stream",
     "text": [
      "Loop:  1348\n",
      "\u001b[2m\u001b[36m(RolloutWorker pid=15280)\u001b[0m reset triggered\n",
      "\u001b[2m\u001b[36m(RolloutWorker pid=15280)\u001b[0m reload save for track : 4\n"
     ]
    },
    {
     "name": "stderr",
     "output_type": "stream",
     "text": [
      "\u001b[2m\u001b[36m(RolloutWorker pid=15280)\u001b[0m c:\\Users\\nadir\\anaconda3\\envs\\GTAI2\\lib\\site-packages\\rtgym\\envs\\real_time_env.py:376: UserWarning: Time-step timed out. Elapsed since last time-step: 0.1504240003268933\n",
      "\u001b[2m\u001b[36m(RolloutWorker pid=15280)\u001b[0m   warnings.warn(f\"Time-step timed out. Elapsed since last time-step: {now - self.__t_end}\")\n"
     ]
    },
    {
     "name": "stdout",
     "output_type": "stream",
     "text": [
      "Loop:  1349\n",
      "Loop:  1350\n",
      "Saved 1350\n",
      "\u001b[2m\u001b[36m(RolloutWorker pid=15280)\u001b[0m reset triggered\n",
      "\u001b[2m\u001b[36m(RolloutWorker pid=15280)\u001b[0m reload save for track : 4\n"
     ]
    },
    {
     "name": "stderr",
     "output_type": "stream",
     "text": [
      "\u001b[2m\u001b[36m(RolloutWorker pid=15280)\u001b[0m c:\\Users\\nadir\\anaconda3\\envs\\GTAI2\\lib\\site-packages\\rtgym\\envs\\real_time_env.py:376: UserWarning: Time-step timed out. Elapsed since last time-step: 0.13944620032270905\n",
      "\u001b[2m\u001b[36m(RolloutWorker pid=15280)\u001b[0m   warnings.warn(f\"Time-step timed out. Elapsed since last time-step: {now - self.__t_end}\")\n"
     ]
    },
    {
     "name": "stdout",
     "output_type": "stream",
     "text": [
      "Loop:  1351\n",
      "\u001b[2m\u001b[36m(RolloutWorker pid=15280)\u001b[0m reset triggered\n",
      "\u001b[2m\u001b[36m(RolloutWorker pid=15280)\u001b[0m reload save for track : 4\n"
     ]
    },
    {
     "name": "stderr",
     "output_type": "stream",
     "text": [
      "\u001b[2m\u001b[36m(RolloutWorker pid=15280)\u001b[0m c:\\Users\\nadir\\anaconda3\\envs\\GTAI2\\lib\\site-packages\\rtgym\\envs\\real_time_env.py:376: UserWarning: Time-step timed out. Elapsed since last time-step: 0.14063980032733525\n",
      "\u001b[2m\u001b[36m(RolloutWorker pid=15280)\u001b[0m   warnings.warn(f\"Time-step timed out. Elapsed since last time-step: {now - self.__t_end}\")\n"
     ]
    },
    {
     "name": "stdout",
     "output_type": "stream",
     "text": [
      "Loop:  1352\n",
      "Loop:  1353\n",
      "\u001b[2m\u001b[36m(RolloutWorker pid=15280)\u001b[0m reset triggered\n",
      "\u001b[2m\u001b[36m(RolloutWorker pid=15280)\u001b[0m reload save for track : 4\n"
     ]
    },
    {
     "name": "stderr",
     "output_type": "stream",
     "text": [
      "\u001b[2m\u001b[36m(RolloutWorker pid=15280)\u001b[0m c:\\Users\\nadir\\anaconda3\\envs\\GTAI2\\lib\\site-packages\\rtgym\\envs\\real_time_env.py:376: UserWarning: Time-step timed out. Elapsed since last time-step: 0.1471216003264999\n",
      "\u001b[2m\u001b[36m(RolloutWorker pid=15280)\u001b[0m   warnings.warn(f\"Time-step timed out. Elapsed since last time-step: {now - self.__t_end}\")\n"
     ]
    },
    {
     "name": "stdout",
     "output_type": "stream",
     "text": [
      "Loop:  1354\n",
      "\u001b[2m\u001b[36m(RolloutWorker pid=15280)\u001b[0m reset triggered\n",
      "\u001b[2m\u001b[36m(RolloutWorker pid=15280)\u001b[0m reload save for track : 4\n"
     ]
    },
    {
     "name": "stderr",
     "output_type": "stream",
     "text": [
      "\u001b[2m\u001b[36m(RolloutWorker pid=15280)\u001b[0m c:\\Users\\nadir\\anaconda3\\envs\\GTAI2\\lib\\site-packages\\rtgym\\envs\\real_time_env.py:376: UserWarning: Time-step timed out. Elapsed since last time-step: 0.15202960032547708\n",
      "\u001b[2m\u001b[36m(RolloutWorker pid=15280)\u001b[0m   warnings.warn(f\"Time-step timed out. Elapsed since last time-step: {now - self.__t_end}\")\n"
     ]
    },
    {
     "name": "stdout",
     "output_type": "stream",
     "text": [
      "Loop:  1355\n",
      "Loop:  1356\n",
      "\u001b[2m\u001b[36m(RolloutWorker pid=15280)\u001b[0m reset triggered\n",
      "\u001b[2m\u001b[36m(RolloutWorker pid=15280)\u001b[0m reload save for track : 4\n"
     ]
    },
    {
     "name": "stderr",
     "output_type": "stream",
     "text": [
      "\u001b[2m\u001b[36m(RolloutWorker pid=15280)\u001b[0m c:\\Users\\nadir\\anaconda3\\envs\\GTAI2\\lib\\site-packages\\rtgym\\envs\\real_time_env.py:376: UserWarning: Time-step timed out. Elapsed since last time-step: 0.15118770032495377\n",
      "\u001b[2m\u001b[36m(RolloutWorker pid=15280)\u001b[0m   warnings.warn(f\"Time-step timed out. Elapsed since last time-step: {now - self.__t_end}\")\n"
     ]
    },
    {
     "name": "stdout",
     "output_type": "stream",
     "text": [
      "Loop:  1357\n",
      "\u001b[2m\u001b[36m(RolloutWorker pid=15280)\u001b[0m reset triggered\n",
      "\u001b[2m\u001b[36m(RolloutWorker pid=15280)\u001b[0m reload save for track : 4\n"
     ]
    },
    {
     "name": "stderr",
     "output_type": "stream",
     "text": [
      "\u001b[2m\u001b[36m(RolloutWorker pid=15280)\u001b[0m c:\\Users\\nadir\\anaconda3\\envs\\GTAI2\\lib\\site-packages\\rtgym\\envs\\real_time_env.py:376: UserWarning: Time-step timed out. Elapsed since last time-step: 0.1397456003287516\n",
      "\u001b[2m\u001b[36m(RolloutWorker pid=15280)\u001b[0m   warnings.warn(f\"Time-step timed out. Elapsed since last time-step: {now - self.__t_end}\")\n"
     ]
    },
    {
     "name": "stdout",
     "output_type": "stream",
     "text": [
      "Loop:  1358\n",
      "\u001b[2m\u001b[36m(RolloutWorker pid=15280)\u001b[0m reset triggered\n",
      "\u001b[2m\u001b[36m(RolloutWorker pid=15280)\u001b[0m reload save for track : 4\n"
     ]
    },
    {
     "name": "stderr",
     "output_type": "stream",
     "text": [
      "\u001b[2m\u001b[36m(RolloutWorker pid=15280)\u001b[0m c:\\Users\\nadir\\anaconda3\\envs\\GTAI2\\lib\\site-packages\\rtgym\\envs\\real_time_env.py:376: UserWarning: Time-step timed out. Elapsed since last time-step: 0.13983520032343222\n",
      "\u001b[2m\u001b[36m(RolloutWorker pid=15280)\u001b[0m   warnings.warn(f\"Time-step timed out. Elapsed since last time-step: {now - self.__t_end}\")\n"
     ]
    },
    {
     "name": "stdout",
     "output_type": "stream",
     "text": [
      "Loop:  1359\n",
      "Loop:  1360\n",
      "Saved 1360\n",
      "\u001b[2m\u001b[36m(RolloutWorker pid=15280)\u001b[0m reset triggered\n",
      "\u001b[2m\u001b[36m(RolloutWorker pid=15280)\u001b[0m reload save for track : 4\n"
     ]
    },
    {
     "name": "stderr",
     "output_type": "stream",
     "text": [
      "\u001b[2m\u001b[36m(RolloutWorker pid=15280)\u001b[0m c:\\Users\\nadir\\anaconda3\\envs\\GTAI2\\lib\\site-packages\\rtgym\\envs\\real_time_env.py:376: UserWarning: Time-step timed out. Elapsed since last time-step: 0.15755350032850401\n",
      "\u001b[2m\u001b[36m(RolloutWorker pid=15280)\u001b[0m   warnings.warn(f\"Time-step timed out. Elapsed since last time-step: {now - self.__t_end}\")\n"
     ]
    },
    {
     "name": "stdout",
     "output_type": "stream",
     "text": [
      "Loop:  1361\n",
      "\u001b[2m\u001b[36m(RolloutWorker pid=15280)\u001b[0m reset triggered\n",
      "\u001b[2m\u001b[36m(RolloutWorker pid=15280)\u001b[0m reload save for track : 4\n"
     ]
    },
    {
     "name": "stderr",
     "output_type": "stream",
     "text": [
      "\u001b[2m\u001b[36m(RolloutWorker pid=15280)\u001b[0m c:\\Users\\nadir\\anaconda3\\envs\\GTAI2\\lib\\site-packages\\rtgym\\envs\\real_time_env.py:376: UserWarning: Time-step timed out. Elapsed since last time-step: 0.12199810032325331\n",
      "\u001b[2m\u001b[36m(RolloutWorker pid=15280)\u001b[0m   warnings.warn(f\"Time-step timed out. Elapsed since last time-step: {now - self.__t_end}\")\n"
     ]
    },
    {
     "name": "stdout",
     "output_type": "stream",
     "text": [
      "Loop:  1362\n",
      "Loop:  1363\n",
      "\u001b[2m\u001b[36m(RolloutWorker pid=15280)\u001b[0m reset triggered\n",
      "\u001b[2m\u001b[36m(RolloutWorker pid=15280)\u001b[0m reload save for track : 4\n"
     ]
    },
    {
     "name": "stderr",
     "output_type": "stream",
     "text": [
      "\u001b[2m\u001b[36m(RolloutWorker pid=15280)\u001b[0m c:\\Users\\nadir\\anaconda3\\envs\\GTAI2\\lib\\site-packages\\rtgym\\envs\\real_time_env.py:376: UserWarning: Time-step timed out. Elapsed since last time-step: 0.1481502003261994\n",
      "\u001b[2m\u001b[36m(RolloutWorker pid=15280)\u001b[0m   warnings.warn(f\"Time-step timed out. Elapsed since last time-step: {now - self.__t_end}\")\n"
     ]
    },
    {
     "name": "stdout",
     "output_type": "stream",
     "text": [
      "Loop:  1364\n",
      "\u001b[2m\u001b[36m(RolloutWorker pid=15280)\u001b[0m reset triggered\n",
      "\u001b[2m\u001b[36m(RolloutWorker pid=15280)\u001b[0m reload save for track : 4\n"
     ]
    },
    {
     "name": "stderr",
     "output_type": "stream",
     "text": [
      "\u001b[2m\u001b[36m(RolloutWorker pid=15280)\u001b[0m c:\\Users\\nadir\\anaconda3\\envs\\GTAI2\\lib\\site-packages\\rtgym\\envs\\real_time_env.py:376: UserWarning: Time-step timed out. Elapsed since last time-step: 0.13277220032614423\n",
      "\u001b[2m\u001b[36m(RolloutWorker pid=15280)\u001b[0m   warnings.warn(f\"Time-step timed out. Elapsed since last time-step: {now - self.__t_end}\")\n"
     ]
    },
    {
     "name": "stdout",
     "output_type": "stream",
     "text": [
      "Loop:  1365\n",
      "Loop:  1366\n",
      "\u001b[2m\u001b[36m(RolloutWorker pid=15280)\u001b[0m reset triggered\n",
      "\u001b[2m\u001b[36m(RolloutWorker pid=15280)\u001b[0m reload save for track : 4\n"
     ]
    },
    {
     "name": "stderr",
     "output_type": "stream",
     "text": [
      "\u001b[2m\u001b[36m(RolloutWorker pid=15280)\u001b[0m c:\\Users\\nadir\\anaconda3\\envs\\GTAI2\\lib\\site-packages\\rtgym\\envs\\real_time_env.py:376: UserWarning: Time-step timed out. Elapsed since last time-step: 0.15687470032571582\n",
      "\u001b[2m\u001b[36m(RolloutWorker pid=15280)\u001b[0m   warnings.warn(f\"Time-step timed out. Elapsed since last time-step: {now - self.__t_end}\")\n"
     ]
    },
    {
     "name": "stdout",
     "output_type": "stream",
     "text": [
      "Loop:  1367\n",
      "\u001b[2m\u001b[36m(RolloutWorker pid=15280)\u001b[0m reset triggered\n",
      "\u001b[2m\u001b[36m(RolloutWorker pid=15280)\u001b[0m reload save for track : 4\n"
     ]
    },
    {
     "name": "stderr",
     "output_type": "stream",
     "text": [
      "\u001b[2m\u001b[36m(RolloutWorker pid=15280)\u001b[0m c:\\Users\\nadir\\anaconda3\\envs\\GTAI2\\lib\\site-packages\\rtgym\\envs\\real_time_env.py:376: UserWarning: Time-step timed out. Elapsed since last time-step: 0.17094440032815328\n",
      "\u001b[2m\u001b[36m(RolloutWorker pid=15280)\u001b[0m   warnings.warn(f\"Time-step timed out. Elapsed since last time-step: {now - self.__t_end}\")\n"
     ]
    },
    {
     "name": "stdout",
     "output_type": "stream",
     "text": [
      "Loop:  1368\n",
      "Loop:  1369\n",
      "\u001b[2m\u001b[36m(RolloutWorker pid=15280)\u001b[0m reset triggered\n",
      "\u001b[2m\u001b[36m(RolloutWorker pid=15280)\u001b[0m reload save for track : 4\n"
     ]
    },
    {
     "name": "stderr",
     "output_type": "stream",
     "text": [
      "\u001b[2m\u001b[36m(RolloutWorker pid=15280)\u001b[0m c:\\Users\\nadir\\anaconda3\\envs\\GTAI2\\lib\\site-packages\\rtgym\\envs\\real_time_env.py:376: UserWarning: Time-step timed out. Elapsed since last time-step: 0.15292050032439874\n",
      "\u001b[2m\u001b[36m(RolloutWorker pid=15280)\u001b[0m   warnings.warn(f\"Time-step timed out. Elapsed since last time-step: {now - self.__t_end}\")\n"
     ]
    },
    {
     "name": "stdout",
     "output_type": "stream",
     "text": [
      "Loop:  1370\n",
      "Saved 1370\n",
      "\u001b[2m\u001b[36m(RolloutWorker pid=15280)\u001b[0m reset triggered\n",
      "\u001b[2m\u001b[36m(RolloutWorker pid=15280)\u001b[0m reload save for track : 4\n"
     ]
    },
    {
     "name": "stderr",
     "output_type": "stream",
     "text": [
      "\u001b[2m\u001b[36m(RolloutWorker pid=15280)\u001b[0m c:\\Users\\nadir\\anaconda3\\envs\\GTAI2\\lib\\site-packages\\rtgym\\envs\\real_time_env.py:376: UserWarning: Time-step timed out. Elapsed since last time-step: 0.14814770032535307\n",
      "\u001b[2m\u001b[36m(RolloutWorker pid=15280)\u001b[0m   warnings.warn(f\"Time-step timed out. Elapsed since last time-step: {now - self.__t_end}\")\n"
     ]
    },
    {
     "name": "stdout",
     "output_type": "stream",
     "text": [
      "Loop:  1371\n",
      "\u001b[2m\u001b[36m(RolloutWorker pid=15280)\u001b[0m reset triggered\n",
      "\u001b[2m\u001b[36m(RolloutWorker pid=15280)\u001b[0m reload save for track : 4\n"
     ]
    },
    {
     "name": "stderr",
     "output_type": "stream",
     "text": [
      "\u001b[2m\u001b[36m(RolloutWorker pid=15280)\u001b[0m c:\\Users\\nadir\\anaconda3\\envs\\GTAI2\\lib\\site-packages\\rtgym\\envs\\real_time_env.py:376: UserWarning: Time-step timed out. Elapsed since last time-step: 0.1311888003256172\n",
      "\u001b[2m\u001b[36m(RolloutWorker pid=15280)\u001b[0m   warnings.warn(f\"Time-step timed out. Elapsed since last time-step: {now - self.__t_end}\")\n"
     ]
    },
    {
     "name": "stdout",
     "output_type": "stream",
     "text": [
      "Loop:  1372\n",
      "Loop:  1373\n",
      "\u001b[2m\u001b[36m(RolloutWorker pid=15280)\u001b[0m reset triggered\n",
      "\u001b[2m\u001b[36m(RolloutWorker pid=15280)\u001b[0m reload save for track : 4\n"
     ]
    },
    {
     "name": "stderr",
     "output_type": "stream",
     "text": [
      "\u001b[2m\u001b[36m(RolloutWorker pid=15280)\u001b[0m c:\\Users\\nadir\\anaconda3\\envs\\GTAI2\\lib\\site-packages\\rtgym\\envs\\real_time_env.py:376: UserWarning: Time-step timed out. Elapsed since last time-step: 0.14975400032562902\n",
      "\u001b[2m\u001b[36m(RolloutWorker pid=15280)\u001b[0m   warnings.warn(f\"Time-step timed out. Elapsed since last time-step: {now - self.__t_end}\")\n"
     ]
    },
    {
     "name": "stdout",
     "output_type": "stream",
     "text": [
      "Loop:  1374\n",
      "\u001b[2m\u001b[36m(RolloutWorker pid=15280)\u001b[0m reset triggered\n",
      "\u001b[2m\u001b[36m(RolloutWorker pid=15280)\u001b[0m reload save for track : 4\n"
     ]
    },
    {
     "name": "stderr",
     "output_type": "stream",
     "text": [
      "\u001b[2m\u001b[36m(RolloutWorker pid=15280)\u001b[0m c:\\Users\\nadir\\anaconda3\\envs\\GTAI2\\lib\\site-packages\\rtgym\\envs\\real_time_env.py:376: UserWarning: Time-step timed out. Elapsed since last time-step: 0.13816740032780217\n",
      "\u001b[2m\u001b[36m(RolloutWorker pid=15280)\u001b[0m   warnings.warn(f\"Time-step timed out. Elapsed since last time-step: {now - self.__t_end}\")\n"
     ]
    },
    {
     "name": "stdout",
     "output_type": "stream",
     "text": [
      "Loop:  1375\n",
      "Loop:  1376\n",
      "\u001b[2m\u001b[36m(RolloutWorker pid=15280)\u001b[0m reset triggered\n",
      "\u001b[2m\u001b[36m(RolloutWorker pid=15280)\u001b[0m reload save for track : 4\n"
     ]
    },
    {
     "name": "stderr",
     "output_type": "stream",
     "text": [
      "\u001b[2m\u001b[36m(RolloutWorker pid=15280)\u001b[0m c:\\Users\\nadir\\anaconda3\\envs\\GTAI2\\lib\\site-packages\\rtgym\\envs\\real_time_env.py:376: UserWarning: Time-step timed out. Elapsed since last time-step: 0.14184900032705627\n",
      "\u001b[2m\u001b[36m(RolloutWorker pid=15280)\u001b[0m   warnings.warn(f\"Time-step timed out. Elapsed since last time-step: {now - self.__t_end}\")\n"
     ]
    },
    {
     "name": "stdout",
     "output_type": "stream",
     "text": [
      "Loop:  1377\n",
      "\u001b[2m\u001b[36m(RolloutWorker pid=15280)\u001b[0m reset triggered\n",
      "\u001b[2m\u001b[36m(RolloutWorker pid=15280)\u001b[0m reload save for track : 4\n"
     ]
    },
    {
     "name": "stderr",
     "output_type": "stream",
     "text": [
      "\u001b[2m\u001b[36m(RolloutWorker pid=15280)\u001b[0m c:\\Users\\nadir\\anaconda3\\envs\\GTAI2\\lib\\site-packages\\rtgym\\envs\\real_time_env.py:376: UserWarning: Time-step timed out. Elapsed since last time-step: 0.15716630032329704\n",
      "\u001b[2m\u001b[36m(RolloutWorker pid=15280)\u001b[0m   warnings.warn(f\"Time-step timed out. Elapsed since last time-step: {now - self.__t_end}\")\n"
     ]
    },
    {
     "name": "stdout",
     "output_type": "stream",
     "text": [
      "Loop:  1378\n",
      "Loop:  1379\n",
      "\u001b[2m\u001b[36m(RolloutWorker pid=15280)\u001b[0m reset triggered\n",
      "\u001b[2m\u001b[36m(RolloutWorker pid=15280)\u001b[0m reload save for track : 4\n"
     ]
    },
    {
     "name": "stderr",
     "output_type": "stream",
     "text": [
      "\u001b[2m\u001b[36m(RolloutWorker pid=15280)\u001b[0m c:\\Users\\nadir\\anaconda3\\envs\\GTAI2\\lib\\site-packages\\rtgym\\envs\\real_time_env.py:376: UserWarning: Time-step timed out. Elapsed since last time-step: 0.14293980032744003\n",
      "\u001b[2m\u001b[36m(RolloutWorker pid=15280)\u001b[0m   warnings.warn(f\"Time-step timed out. Elapsed since last time-step: {now - self.__t_end}\")\n"
     ]
    },
    {
     "name": "stdout",
     "output_type": "stream",
     "text": [
      "Loop:  1380\n",
      "Saved 1380\n",
      "\u001b[2m\u001b[36m(RolloutWorker pid=15280)\u001b[0m reset triggered\n",
      "\u001b[2m\u001b[36m(RolloutWorker pid=15280)\u001b[0m reload save for track : 4\n"
     ]
    },
    {
     "name": "stderr",
     "output_type": "stream",
     "text": [
      "\u001b[2m\u001b[36m(RolloutWorker pid=15280)\u001b[0m c:\\Users\\nadir\\anaconda3\\envs\\GTAI2\\lib\\site-packages\\rtgym\\envs\\real_time_env.py:376: UserWarning: Time-step timed out. Elapsed since last time-step: 0.14109480032493593\n",
      "\u001b[2m\u001b[36m(RolloutWorker pid=15280)\u001b[0m   warnings.warn(f\"Time-step timed out. Elapsed since last time-step: {now - self.__t_end}\")\n"
     ]
    },
    {
     "name": "stdout",
     "output_type": "stream",
     "text": [
      "Loop:  1381\n",
      "Loop:  1382\n",
      "\u001b[2m\u001b[36m(RolloutWorker pid=15280)\u001b[0m reset triggered\n",
      "\u001b[2m\u001b[36m(RolloutWorker pid=15280)\u001b[0m reload save for track : 4\n"
     ]
    },
    {
     "name": "stderr",
     "output_type": "stream",
     "text": [
      "\u001b[2m\u001b[36m(RolloutWorker pid=15280)\u001b[0m c:\\Users\\nadir\\anaconda3\\envs\\GTAI2\\lib\\site-packages\\rtgym\\envs\\real_time_env.py:376: UserWarning: Time-step timed out. Elapsed since last time-step: 0.16691950032691238\n",
      "\u001b[2m\u001b[36m(RolloutWorker pid=15280)\u001b[0m   warnings.warn(f\"Time-step timed out. Elapsed since last time-step: {now - self.__t_end}\")\n"
     ]
    },
    {
     "name": "stdout",
     "output_type": "stream",
     "text": [
      "Loop:  1383\n",
      "\u001b[2m\u001b[36m(RolloutWorker pid=15280)\u001b[0m reset triggered\n",
      "\u001b[2m\u001b[36m(RolloutWorker pid=15280)\u001b[0m reload save for track : 4\n"
     ]
    },
    {
     "name": "stderr",
     "output_type": "stream",
     "text": [
      "\u001b[2m\u001b[36m(RolloutWorker pid=15280)\u001b[0m c:\\Users\\nadir\\anaconda3\\envs\\GTAI2\\lib\\site-packages\\rtgym\\envs\\real_time_env.py:376: UserWarning: Time-step timed out. Elapsed since last time-step: 0.15227630032677553\n",
      "\u001b[2m\u001b[36m(RolloutWorker pid=15280)\u001b[0m   warnings.warn(f\"Time-step timed out. Elapsed since last time-step: {now - self.__t_end}\")\n"
     ]
    },
    {
     "name": "stdout",
     "output_type": "stream",
     "text": [
      "Loop:  1384\n",
      "\u001b[2m\u001b[36m(RolloutWorker pid=15280)\u001b[0m reset triggered\n",
      "\u001b[2m\u001b[36m(RolloutWorker pid=15280)\u001b[0m reload save for track : 4\n"
     ]
    },
    {
     "name": "stderr",
     "output_type": "stream",
     "text": [
      "\u001b[2m\u001b[36m(RolloutWorker pid=15280)\u001b[0m c:\\Users\\nadir\\anaconda3\\envs\\GTAI2\\lib\\site-packages\\rtgym\\envs\\real_time_env.py:376: UserWarning: Time-step timed out. Elapsed since last time-step: 0.15022490032424685\n",
      "\u001b[2m\u001b[36m(RolloutWorker pid=15280)\u001b[0m   warnings.warn(f\"Time-step timed out. Elapsed since last time-step: {now - self.__t_end}\")\n"
     ]
    },
    {
     "name": "stdout",
     "output_type": "stream",
     "text": [
      "Loop:  1385\n",
      "Loop:  1386\n",
      "\u001b[2m\u001b[36m(RolloutWorker pid=15280)\u001b[0m reset triggered\n",
      "\u001b[2m\u001b[36m(RolloutWorker pid=15280)\u001b[0m reload save for track : 4\n"
     ]
    },
    {
     "name": "stderr",
     "output_type": "stream",
     "text": [
      "\u001b[2m\u001b[36m(RolloutWorker pid=15280)\u001b[0m c:\\Users\\nadir\\anaconda3\\envs\\GTAI2\\lib\\site-packages\\rtgym\\envs\\real_time_env.py:376: UserWarning: Time-step timed out. Elapsed since last time-step: 0.14769000032538315\n",
      "\u001b[2m\u001b[36m(RolloutWorker pid=15280)\u001b[0m   warnings.warn(f\"Time-step timed out. Elapsed since last time-step: {now - self.__t_end}\")\n"
     ]
    },
    {
     "name": "stdout",
     "output_type": "stream",
     "text": [
      "Loop:  1387\n",
      "\u001b[2m\u001b[36m(RolloutWorker pid=15280)\u001b[0m reset triggered\n",
      "\u001b[2m\u001b[36m(RolloutWorker pid=15280)\u001b[0m reload save for track : 4\n"
     ]
    },
    {
     "name": "stderr",
     "output_type": "stream",
     "text": [
      "\u001b[2m\u001b[36m(RolloutWorker pid=15280)\u001b[0m c:\\Users\\nadir\\anaconda3\\envs\\GTAI2\\lib\\site-packages\\rtgym\\envs\\real_time_env.py:376: UserWarning: Time-step timed out. Elapsed since last time-step: 0.15175810032815207\n",
      "\u001b[2m\u001b[36m(RolloutWorker pid=15280)\u001b[0m   warnings.warn(f\"Time-step timed out. Elapsed since last time-step: {now - self.__t_end}\")\n"
     ]
    },
    {
     "name": "stdout",
     "output_type": "stream",
     "text": [
      "Loop:  1388\n",
      "Loop:  1389\n",
      "\u001b[2m\u001b[36m(RolloutWorker pid=15280)\u001b[0m reset triggered\n",
      "\u001b[2m\u001b[36m(RolloutWorker pid=15280)\u001b[0m reload save for track : 4\n"
     ]
    },
    {
     "name": "stderr",
     "output_type": "stream",
     "text": [
      "\u001b[2m\u001b[36m(RolloutWorker pid=15280)\u001b[0m c:\\Users\\nadir\\anaconda3\\envs\\GTAI2\\lib\\site-packages\\rtgym\\envs\\real_time_env.py:376: UserWarning: Time-step timed out. Elapsed since last time-step: 0.1507974003252457\n",
      "\u001b[2m\u001b[36m(RolloutWorker pid=15280)\u001b[0m   warnings.warn(f\"Time-step timed out. Elapsed since last time-step: {now - self.__t_end}\")\n"
     ]
    },
    {
     "name": "stdout",
     "output_type": "stream",
     "text": [
      "Loop:  1390\n",
      "Saved 1390\n",
      "\u001b[2m\u001b[36m(RolloutWorker pid=15280)\u001b[0m reset triggered\n",
      "\u001b[2m\u001b[36m(RolloutWorker pid=15280)\u001b[0m reload save for track : 4\n"
     ]
    },
    {
     "name": "stderr",
     "output_type": "stream",
     "text": [
      "\u001b[2m\u001b[36m(RolloutWorker pid=15280)\u001b[0m c:\\Users\\nadir\\anaconda3\\envs\\GTAI2\\lib\\site-packages\\rtgym\\envs\\real_time_env.py:376: UserWarning: Time-step timed out. Elapsed since last time-step: 0.1572477003246604\n",
      "\u001b[2m\u001b[36m(RolloutWorker pid=15280)\u001b[0m   warnings.warn(f\"Time-step timed out. Elapsed since last time-step: {now - self.__t_end}\")\n"
     ]
    },
    {
     "name": "stdout",
     "output_type": "stream",
     "text": [
      "Loop:  1391\n",
      "Loop:  1392\n",
      "\u001b[2m\u001b[36m(RolloutWorker pid=15280)\u001b[0m reset triggered\n",
      "\u001b[2m\u001b[36m(RolloutWorker pid=15280)\u001b[0m reload save for track : 4\n"
     ]
    },
    {
     "name": "stderr",
     "output_type": "stream",
     "text": [
      "\u001b[2m\u001b[36m(RolloutWorker pid=15280)\u001b[0m c:\\Users\\nadir\\anaconda3\\envs\\GTAI2\\lib\\site-packages\\rtgym\\envs\\real_time_env.py:376: UserWarning: Time-step timed out. Elapsed since last time-step: 0.14238600032695103\n",
      "\u001b[2m\u001b[36m(RolloutWorker pid=15280)\u001b[0m   warnings.warn(f\"Time-step timed out. Elapsed since last time-step: {now - self.__t_end}\")\n"
     ]
    },
    {
     "name": "stdout",
     "output_type": "stream",
     "text": [
      "Loop:  1393\n",
      "\u001b[2m\u001b[36m(RolloutWorker pid=15280)\u001b[0m reset triggered\n",
      "\u001b[2m\u001b[36m(RolloutWorker pid=15280)\u001b[0m reload save for track : 4\n"
     ]
    },
    {
     "name": "stderr",
     "output_type": "stream",
     "text": [
      "\u001b[2m\u001b[36m(RolloutWorker pid=15280)\u001b[0m c:\\Users\\nadir\\anaconda3\\envs\\GTAI2\\lib\\site-packages\\rtgym\\envs\\real_time_env.py:376: UserWarning: Time-step timed out. Elapsed since last time-step: 0.15003600032650866\n",
      "\u001b[2m\u001b[36m(RolloutWorker pid=15280)\u001b[0m   warnings.warn(f\"Time-step timed out. Elapsed since last time-step: {now - self.__t_end}\")\n"
     ]
    },
    {
     "name": "stdout",
     "output_type": "stream",
     "text": [
      "Loop:  1394\n",
      "Loop:  1395\n",
      "\u001b[2m\u001b[36m(RolloutWorker pid=15280)\u001b[0m reset triggered\n",
      "\u001b[2m\u001b[36m(RolloutWorker pid=15280)\u001b[0m reload save for track : 4\n"
     ]
    },
    {
     "name": "stderr",
     "output_type": "stream",
     "text": [
      "\u001b[2m\u001b[36m(RolloutWorker pid=15280)\u001b[0m c:\\Users\\nadir\\anaconda3\\envs\\GTAI2\\lib\\site-packages\\rtgym\\envs\\real_time_env.py:376: UserWarning: Time-step timed out. Elapsed since last time-step: 0.1407516003237106\n",
      "\u001b[2m\u001b[36m(RolloutWorker pid=15280)\u001b[0m   warnings.warn(f\"Time-step timed out. Elapsed since last time-step: {now - self.__t_end}\")\n"
     ]
    },
    {
     "name": "stdout",
     "output_type": "stream",
     "text": [
      "Loop:  1396\n",
      "\u001b[2m\u001b[36m(RolloutWorker pid=15280)\u001b[0m reset triggered\n",
      "\u001b[2m\u001b[36m(RolloutWorker pid=15280)\u001b[0m reload save for track : 4\n"
     ]
    },
    {
     "name": "stderr",
     "output_type": "stream",
     "text": [
      "\u001b[2m\u001b[36m(RolloutWorker pid=15280)\u001b[0m c:\\Users\\nadir\\anaconda3\\envs\\GTAI2\\lib\\site-packages\\rtgym\\envs\\real_time_env.py:376: UserWarning: Time-step timed out. Elapsed since last time-step: 0.13889140032915748\n",
      "\u001b[2m\u001b[36m(RolloutWorker pid=15280)\u001b[0m   warnings.warn(f\"Time-step timed out. Elapsed since last time-step: {now - self.__t_end}\")\n"
     ]
    },
    {
     "name": "stdout",
     "output_type": "stream",
     "text": [
      "Loop:  1397\n",
      "\u001b[2m\u001b[36m(RolloutWorker pid=15280)\u001b[0m reset triggered\n",
      "\u001b[2m\u001b[36m(RolloutWorker pid=15280)\u001b[0m reload save for track : 4\n"
     ]
    },
    {
     "name": "stderr",
     "output_type": "stream",
     "text": [
      "\u001b[2m\u001b[36m(RolloutWorker pid=15280)\u001b[0m c:\\Users\\nadir\\anaconda3\\envs\\GTAI2\\lib\\site-packages\\rtgym\\envs\\real_time_env.py:376: UserWarning: Time-step timed out. Elapsed since last time-step: 0.15792130032423302\n",
      "\u001b[2m\u001b[36m(RolloutWorker pid=15280)\u001b[0m   warnings.warn(f\"Time-step timed out. Elapsed since last time-step: {now - self.__t_end}\")\n"
     ]
    },
    {
     "name": "stdout",
     "output_type": "stream",
     "text": [
      "Loop:  1398\n",
      "Loop:  1399\n",
      "\u001b[2m\u001b[36m(RolloutWorker pid=15280)\u001b[0m reset triggered\n",
      "\u001b[2m\u001b[36m(RolloutWorker pid=15280)\u001b[0m reload save for track : 4\n"
     ]
    },
    {
     "name": "stderr",
     "output_type": "stream",
     "text": [
      "\u001b[2m\u001b[36m(RolloutWorker pid=15280)\u001b[0m c:\\Users\\nadir\\anaconda3\\envs\\GTAI2\\lib\\site-packages\\rtgym\\envs\\real_time_env.py:376: UserWarning: Time-step timed out. Elapsed since last time-step: 0.12317760032601655\n",
      "\u001b[2m\u001b[36m(RolloutWorker pid=15280)\u001b[0m   warnings.warn(f\"Time-step timed out. Elapsed since last time-step: {now - self.__t_end}\")\n"
     ]
    },
    {
     "name": "stdout",
     "output_type": "stream",
     "text": [
      "Loop:  1400\n",
      "Saved 1400\n",
      "\u001b[2m\u001b[36m(RolloutWorker pid=15280)\u001b[0m reset triggered\n",
      "\u001b[2m\u001b[36m(RolloutWorker pid=15280)\u001b[0m reload save for track : 4\n"
     ]
    },
    {
     "name": "stderr",
     "output_type": "stream",
     "text": [
      "\u001b[2m\u001b[36m(RolloutWorker pid=15280)\u001b[0m c:\\Users\\nadir\\anaconda3\\envs\\GTAI2\\lib\\site-packages\\rtgym\\envs\\real_time_env.py:376: UserWarning: Time-step timed out. Elapsed since last time-step: 0.15711000032752054\n",
      "\u001b[2m\u001b[36m(RolloutWorker pid=15280)\u001b[0m   warnings.warn(f\"Time-step timed out. Elapsed since last time-step: {now - self.__t_end}\")\n"
     ]
    },
    {
     "name": "stdout",
     "output_type": "stream",
     "text": [
      "Loop:  1401\n",
      "Loop:  1402\n",
      "\u001b[2m\u001b[36m(RolloutWorker pid=15280)\u001b[0m reset triggered\n",
      "\u001b[2m\u001b[36m(RolloutWorker pid=15280)\u001b[0m reload save for track : 4\n"
     ]
    },
    {
     "name": "stderr",
     "output_type": "stream",
     "text": [
      "\u001b[2m\u001b[36m(RolloutWorker pid=15280)\u001b[0m c:\\Users\\nadir\\anaconda3\\envs\\GTAI2\\lib\\site-packages\\rtgym\\envs\\real_time_env.py:376: UserWarning: Time-step timed out. Elapsed since last time-step: 0.1524484003239195\n",
      "\u001b[2m\u001b[36m(RolloutWorker pid=15280)\u001b[0m   warnings.warn(f\"Time-step timed out. Elapsed since last time-step: {now - self.__t_end}\")\n"
     ]
    },
    {
     "name": "stdout",
     "output_type": "stream",
     "text": [
      "Loop:  1403\n",
      "\u001b[2m\u001b[36m(RolloutWorker pid=15280)\u001b[0m reset triggered\n",
      "\u001b[2m\u001b[36m(RolloutWorker pid=15280)\u001b[0m reload save for track : 4\n"
     ]
    },
    {
     "name": "stderr",
     "output_type": "stream",
     "text": [
      "\u001b[2m\u001b[36m(RolloutWorker pid=15280)\u001b[0m c:\\Users\\nadir\\anaconda3\\envs\\GTAI2\\lib\\site-packages\\rtgym\\envs\\real_time_env.py:376: UserWarning: Time-step timed out. Elapsed since last time-step: 0.14484950032783672\n",
      "\u001b[2m\u001b[36m(RolloutWorker pid=15280)\u001b[0m   warnings.warn(f\"Time-step timed out. Elapsed since last time-step: {now - self.__t_end}\")\n"
     ]
    },
    {
     "name": "stdout",
     "output_type": "stream",
     "text": [
      "Loop:  1404\n",
      "Loop:  1405\n",
      "\u001b[2m\u001b[36m(RolloutWorker pid=15280)\u001b[0m reset triggered\n",
      "\u001b[2m\u001b[36m(RolloutWorker pid=15280)\u001b[0m reload save for track : 4\n"
     ]
    },
    {
     "name": "stderr",
     "output_type": "stream",
     "text": [
      "\u001b[2m\u001b[36m(RolloutWorker pid=15280)\u001b[0m c:\\Users\\nadir\\anaconda3\\envs\\GTAI2\\lib\\site-packages\\rtgym\\envs\\real_time_env.py:376: UserWarning: Time-step timed out. Elapsed since last time-step: 0.17202370032464387\n",
      "\u001b[2m\u001b[36m(RolloutWorker pid=15280)\u001b[0m   warnings.warn(f\"Time-step timed out. Elapsed since last time-step: {now - self.__t_end}\")\n"
     ]
    },
    {
     "name": "stdout",
     "output_type": "stream",
     "text": [
      "Loop:  1406\n",
      "\u001b[2m\u001b[36m(RolloutWorker pid=15280)\u001b[0m reset triggered\n",
      "\u001b[2m\u001b[36m(RolloutWorker pid=15280)\u001b[0m reload save for track : 4\n"
     ]
    },
    {
     "name": "stderr",
     "output_type": "stream",
     "text": [
      "\u001b[2m\u001b[36m(RolloutWorker pid=15280)\u001b[0m c:\\Users\\nadir\\anaconda3\\envs\\GTAI2\\lib\\site-packages\\rtgym\\envs\\real_time_env.py:376: UserWarning: Time-step timed out. Elapsed since last time-step: 0.13313690032737213\n",
      "\u001b[2m\u001b[36m(RolloutWorker pid=15280)\u001b[0m   warnings.warn(f\"Time-step timed out. Elapsed since last time-step: {now - self.__t_end}\")\n"
     ]
    },
    {
     "name": "stdout",
     "output_type": "stream",
     "text": [
      "Loop:  1407\n",
      "Loop:  1408\n",
      "\u001b[2m\u001b[36m(RolloutWorker pid=15280)\u001b[0m reset triggered\n",
      "\u001b[2m\u001b[36m(RolloutWorker pid=15280)\u001b[0m reload save for track : 4\n"
     ]
    },
    {
     "name": "stderr",
     "output_type": "stream",
     "text": [
      "\u001b[2m\u001b[36m(RolloutWorker pid=15280)\u001b[0m c:\\Users\\nadir\\anaconda3\\envs\\GTAI2\\lib\\site-packages\\rtgym\\envs\\real_time_env.py:376: UserWarning: Time-step timed out. Elapsed since last time-step: 0.17027110032358905\n",
      "\u001b[2m\u001b[36m(RolloutWorker pid=15280)\u001b[0m   warnings.warn(f\"Time-step timed out. Elapsed since last time-step: {now - self.__t_end}\")\n"
     ]
    },
    {
     "name": "stdout",
     "output_type": "stream",
     "text": [
      "Loop:  1409\n",
      "\u001b[2m\u001b[36m(RolloutWorker pid=15280)\u001b[0m reset triggered\n",
      "\u001b[2m\u001b[36m(RolloutWorker pid=15280)\u001b[0m reload save for track : 4\n"
     ]
    },
    {
     "name": "stderr",
     "output_type": "stream",
     "text": [
      "\u001b[2m\u001b[36m(RolloutWorker pid=15280)\u001b[0m c:\\Users\\nadir\\anaconda3\\envs\\GTAI2\\lib\\site-packages\\rtgym\\envs\\real_time_env.py:376: UserWarning: Time-step timed out. Elapsed since last time-step: 0.14705210032843752\n",
      "\u001b[2m\u001b[36m(RolloutWorker pid=15280)\u001b[0m   warnings.warn(f\"Time-step timed out. Elapsed since last time-step: {now - self.__t_end}\")\n"
     ]
    },
    {
     "name": "stdout",
     "output_type": "stream",
     "text": [
      "Loop:  1410\n",
      "Saved 1410\n",
      "\u001b[2m\u001b[36m(RolloutWorker pid=15280)\u001b[0m reset triggered\n",
      "\u001b[2m\u001b[36m(RolloutWorker pid=15280)\u001b[0m reload save for track : 4\n"
     ]
    },
    {
     "name": "stderr",
     "output_type": "stream",
     "text": [
      "\u001b[2m\u001b[36m(RolloutWorker pid=15280)\u001b[0m c:\\Users\\nadir\\anaconda3\\envs\\GTAI2\\lib\\site-packages\\rtgym\\envs\\real_time_env.py:376: UserWarning: Time-step timed out. Elapsed since last time-step: 0.17058540032303426\n",
      "\u001b[2m\u001b[36m(RolloutWorker pid=15280)\u001b[0m   warnings.warn(f\"Time-step timed out. Elapsed since last time-step: {now - self.__t_end}\")\n"
     ]
    },
    {
     "name": "stdout",
     "output_type": "stream",
     "text": [
      "Loop:  1411\n",
      "Loop:  1412\n",
      "\u001b[2m\u001b[36m(RolloutWorker pid=15280)\u001b[0m reset triggered\n",
      "\u001b[2m\u001b[36m(RolloutWorker pid=15280)\u001b[0m reload save for track : 4\n"
     ]
    },
    {
     "name": "stderr",
     "output_type": "stream",
     "text": [
      "\u001b[2m\u001b[36m(RolloutWorker pid=15280)\u001b[0m c:\\Users\\nadir\\anaconda3\\envs\\GTAI2\\lib\\site-packages\\rtgym\\envs\\real_time_env.py:376: UserWarning: Time-step timed out. Elapsed since last time-step: 0.14246470032594516\n",
      "\u001b[2m\u001b[36m(RolloutWorker pid=15280)\u001b[0m   warnings.warn(f\"Time-step timed out. Elapsed since last time-step: {now - self.__t_end}\")\n"
     ]
    },
    {
     "name": "stdout",
     "output_type": "stream",
     "text": [
      "Loop:  1413\n",
      "\u001b[2m\u001b[36m(RolloutWorker pid=15280)\u001b[0m reset triggered\n",
      "\u001b[2m\u001b[36m(RolloutWorker pid=15280)\u001b[0m reload save for track : 4\n"
     ]
    },
    {
     "name": "stderr",
     "output_type": "stream",
     "text": [
      "\u001b[2m\u001b[36m(RolloutWorker pid=15280)\u001b[0m c:\\Users\\nadir\\anaconda3\\envs\\GTAI2\\lib\\site-packages\\rtgym\\envs\\real_time_env.py:376: UserWarning: Time-step timed out. Elapsed since last time-step: 0.1473723003291525\n",
      "\u001b[2m\u001b[36m(RolloutWorker pid=15280)\u001b[0m   warnings.warn(f\"Time-step timed out. Elapsed since last time-step: {now - self.__t_end}\")\n"
     ]
    },
    {
     "name": "stdout",
     "output_type": "stream",
     "text": [
      "Loop:  1414\n",
      "Loop:  1415\n",
      "\u001b[2m\u001b[36m(RolloutWorker pid=15280)\u001b[0m reset triggered\n",
      "\u001b[2m\u001b[36m(RolloutWorker pid=15280)\u001b[0m reload save for track : 4\n"
     ]
    },
    {
     "name": "stderr",
     "output_type": "stream",
     "text": [
      "\u001b[2m\u001b[36m(RolloutWorker pid=15280)\u001b[0m c:\\Users\\nadir\\anaconda3\\envs\\GTAI2\\lib\\site-packages\\rtgym\\envs\\real_time_env.py:376: UserWarning: Time-step timed out. Elapsed since last time-step: 0.1424469003250124\n",
      "\u001b[2m\u001b[36m(RolloutWorker pid=15280)\u001b[0m   warnings.warn(f\"Time-step timed out. Elapsed since last time-step: {now - self.__t_end}\")\n"
     ]
    },
    {
     "name": "stdout",
     "output_type": "stream",
     "text": [
      "Loop:  1416\n",
      "\u001b[2m\u001b[36m(RolloutWorker pid=15280)\u001b[0m reset triggered\n",
      "\u001b[2m\u001b[36m(RolloutWorker pid=15280)\u001b[0m reload save for track : 4\n"
     ]
    },
    {
     "name": "stderr",
     "output_type": "stream",
     "text": [
      "\u001b[2m\u001b[36m(RolloutWorker pid=15280)\u001b[0m c:\\Users\\nadir\\anaconda3\\envs\\GTAI2\\lib\\site-packages\\rtgym\\envs\\real_time_env.py:376: UserWarning: Time-step timed out. Elapsed since last time-step: 0.1406590003243764\n",
      "\u001b[2m\u001b[36m(RolloutWorker pid=15280)\u001b[0m   warnings.warn(f\"Time-step timed out. Elapsed since last time-step: {now - self.__t_end}\")\n"
     ]
    },
    {
     "name": "stdout",
     "output_type": "stream",
     "text": [
      "Loop:  1417\n",
      "Loop:  1418\n",
      "\u001b[2m\u001b[36m(RolloutWorker pid=15280)\u001b[0m reset triggered\n",
      "\u001b[2m\u001b[36m(RolloutWorker pid=15280)\u001b[0m reload save for track : 4\n"
     ]
    },
    {
     "name": "stderr",
     "output_type": "stream",
     "text": [
      "\u001b[2m\u001b[36m(RolloutWorker pid=15280)\u001b[0m c:\\Users\\nadir\\anaconda3\\envs\\GTAI2\\lib\\site-packages\\rtgym\\envs\\real_time_env.py:376: UserWarning: Time-step timed out. Elapsed since last time-step: 0.15699490032784524\n",
      "\u001b[2m\u001b[36m(RolloutWorker pid=15280)\u001b[0m   warnings.warn(f\"Time-step timed out. Elapsed since last time-step: {now - self.__t_end}\")\n"
     ]
    },
    {
     "name": "stdout",
     "output_type": "stream",
     "text": [
      "Loop:  1419\n",
      "\u001b[2m\u001b[36m(RolloutWorker pid=15280)\u001b[0m reset triggered\n",
      "\u001b[2m\u001b[36m(RolloutWorker pid=15280)\u001b[0m reload save for track : 4\n"
     ]
    },
    {
     "name": "stderr",
     "output_type": "stream",
     "text": [
      "\u001b[2m\u001b[36m(RolloutWorker pid=15280)\u001b[0m c:\\Users\\nadir\\anaconda3\\envs\\GTAI2\\lib\\site-packages\\rtgym\\envs\\real_time_env.py:376: UserWarning: Time-step timed out. Elapsed since last time-step: 0.162826400326594\n",
      "\u001b[2m\u001b[36m(RolloutWorker pid=15280)\u001b[0m   warnings.warn(f\"Time-step timed out. Elapsed since last time-step: {now - self.__t_end}\")\n"
     ]
    },
    {
     "name": "stdout",
     "output_type": "stream",
     "text": [
      "Loop:  1420\n",
      "Saved 1420\n",
      "Loop:  1421\n",
      "\u001b[2m\u001b[36m(RolloutWorker pid=15280)\u001b[0m reset triggered\n",
      "\u001b[2m\u001b[36m(RolloutWorker pid=15280)\u001b[0m reload save for track : 4\n"
     ]
    },
    {
     "name": "stderr",
     "output_type": "stream",
     "text": [
      "\u001b[2m\u001b[36m(RolloutWorker pid=15280)\u001b[0m c:\\Users\\nadir\\anaconda3\\envs\\GTAI2\\lib\\site-packages\\rtgym\\envs\\real_time_env.py:376: UserWarning: Time-step timed out. Elapsed since last time-step: 0.14650320032524178\n",
      "\u001b[2m\u001b[36m(RolloutWorker pid=15280)\u001b[0m   warnings.warn(f\"Time-step timed out. Elapsed since last time-step: {now - self.__t_end}\")\n"
     ]
    },
    {
     "name": "stdout",
     "output_type": "stream",
     "text": [
      "Loop:  1422\n",
      "\u001b[2m\u001b[36m(RolloutWorker pid=15280)\u001b[0m reset triggered\n",
      "\u001b[2m\u001b[36m(RolloutWorker pid=15280)\u001b[0m reload save for track : 4\n"
     ]
    },
    {
     "name": "stderr",
     "output_type": "stream",
     "text": [
      "\u001b[2m\u001b[36m(RolloutWorker pid=15280)\u001b[0m c:\\Users\\nadir\\anaconda3\\envs\\GTAI2\\lib\\site-packages\\rtgym\\envs\\real_time_env.py:376: UserWarning: Time-step timed out. Elapsed since last time-step: 0.16031510032553342\n",
      "\u001b[2m\u001b[36m(RolloutWorker pid=15280)\u001b[0m   warnings.warn(f\"Time-step timed out. Elapsed since last time-step: {now - self.__t_end}\")\n"
     ]
    },
    {
     "name": "stdout",
     "output_type": "stream",
     "text": [
      "Loop:  1423\n",
      "\u001b[2m\u001b[36m(RolloutWorker pid=15280)\u001b[0m reset triggered\n",
      "\u001b[2m\u001b[36m(RolloutWorker pid=15280)\u001b[0m reload save for track : 4\n"
     ]
    },
    {
     "name": "stderr",
     "output_type": "stream",
     "text": [
      "\u001b[2m\u001b[36m(RolloutWorker pid=15280)\u001b[0m c:\\Users\\nadir\\anaconda3\\envs\\GTAI2\\lib\\site-packages\\rtgym\\envs\\real_time_env.py:376: UserWarning: Time-step timed out. Elapsed since last time-step: 0.13297680032701464\n",
      "\u001b[2m\u001b[36m(RolloutWorker pid=15280)\u001b[0m   warnings.warn(f\"Time-step timed out. Elapsed since last time-step: {now - self.__t_end}\")\n"
     ]
    },
    {
     "name": "stdout",
     "output_type": "stream",
     "text": [
      "Loop:  1424\n",
      "Loop:  1425\n",
      "\u001b[2m\u001b[36m(RolloutWorker pid=15280)\u001b[0m reset triggered\n",
      "\u001b[2m\u001b[36m(RolloutWorker pid=15280)\u001b[0m reload save for track : 4\n"
     ]
    },
    {
     "name": "stderr",
     "output_type": "stream",
     "text": [
      "\u001b[2m\u001b[36m(RolloutWorker pid=15280)\u001b[0m c:\\Users\\nadir\\anaconda3\\envs\\GTAI2\\lib\\site-packages\\rtgym\\envs\\real_time_env.py:376: UserWarning: Time-step timed out. Elapsed since last time-step: 0.16050480032572523\n",
      "\u001b[2m\u001b[36m(RolloutWorker pid=15280)\u001b[0m   warnings.warn(f\"Time-step timed out. Elapsed since last time-step: {now - self.__t_end}\")\n"
     ]
    },
    {
     "name": "stdout",
     "output_type": "stream",
     "text": [
      "Loop:  1426\n",
      "\u001b[2m\u001b[36m(RolloutWorker pid=15280)\u001b[0m reset triggered\n",
      "\u001b[2m\u001b[36m(RolloutWorker pid=15280)\u001b[0m reload save for track : 4\n"
     ]
    },
    {
     "name": "stderr",
     "output_type": "stream",
     "text": [
      "\u001b[2m\u001b[36m(RolloutWorker pid=15280)\u001b[0m c:\\Users\\nadir\\anaconda3\\envs\\GTAI2\\lib\\site-packages\\rtgym\\envs\\real_time_env.py:376: UserWarning: Time-step timed out. Elapsed since last time-step: 0.14768830032335245\n",
      "\u001b[2m\u001b[36m(RolloutWorker pid=15280)\u001b[0m   warnings.warn(f\"Time-step timed out. Elapsed since last time-step: {now - self.__t_end}\")\n"
     ]
    },
    {
     "name": "stdout",
     "output_type": "stream",
     "text": [
      "Loop:  1427\n",
      "Loop:  1428\n",
      "\u001b[2m\u001b[36m(RolloutWorker pid=15280)\u001b[0m reset triggered\n",
      "\u001b[2m\u001b[36m(RolloutWorker pid=15280)\u001b[0m reload save for track : 4\n"
     ]
    },
    {
     "name": "stderr",
     "output_type": "stream",
     "text": [
      "\u001b[2m\u001b[36m(RolloutWorker pid=15280)\u001b[0m c:\\Users\\nadir\\anaconda3\\envs\\GTAI2\\lib\\site-packages\\rtgym\\envs\\real_time_env.py:376: UserWarning: Time-step timed out. Elapsed since last time-step: 0.14211080032691825\n",
      "\u001b[2m\u001b[36m(RolloutWorker pid=15280)\u001b[0m   warnings.warn(f\"Time-step timed out. Elapsed since last time-step: {now - self.__t_end}\")\n"
     ]
    },
    {
     "name": "stdout",
     "output_type": "stream",
     "text": [
      "Loop:  1429\n",
      "\u001b[2m\u001b[36m(RolloutWorker pid=15280)\u001b[0m reset triggered\n",
      "\u001b[2m\u001b[36m(RolloutWorker pid=15280)\u001b[0m reload save for track : 4\n"
     ]
    },
    {
     "name": "stderr",
     "output_type": "stream",
     "text": [
      "\u001b[2m\u001b[36m(RolloutWorker pid=15280)\u001b[0m c:\\Users\\nadir\\anaconda3\\envs\\GTAI2\\lib\\site-packages\\rtgym\\envs\\real_time_env.py:376: UserWarning: Time-step timed out. Elapsed since last time-step: 0.15964550032731495\n",
      "\u001b[2m\u001b[36m(RolloutWorker pid=15280)\u001b[0m   warnings.warn(f\"Time-step timed out. Elapsed since last time-step: {now - self.__t_end}\")\n"
     ]
    },
    {
     "name": "stdout",
     "output_type": "stream",
     "text": [
      "Loop:  1430\n",
      "Saved 1430\n",
      "Loop:  1431\n",
      "\u001b[2m\u001b[36m(RolloutWorker pid=15280)\u001b[0m reset triggered\n",
      "\u001b[2m\u001b[36m(RolloutWorker pid=15280)\u001b[0m reload save for track : 4\n"
     ]
    },
    {
     "name": "stderr",
     "output_type": "stream",
     "text": [
      "\u001b[2m\u001b[36m(RolloutWorker pid=15280)\u001b[0m c:\\Users\\nadir\\anaconda3\\envs\\GTAI2\\lib\\site-packages\\rtgym\\envs\\real_time_env.py:376: UserWarning: Time-step timed out. Elapsed since last time-step: 0.15776480032582185\n",
      "\u001b[2m\u001b[36m(RolloutWorker pid=15280)\u001b[0m   warnings.warn(f\"Time-step timed out. Elapsed since last time-step: {now - self.__t_end}\")\n"
     ]
    },
    {
     "name": "stdout",
     "output_type": "stream",
     "text": [
      "Loop:  1432\n",
      "\u001b[2m\u001b[36m(RolloutWorker pid=15280)\u001b[0m reset triggered\n",
      "\u001b[2m\u001b[36m(RolloutWorker pid=15280)\u001b[0m reload save for track : 4\n"
     ]
    },
    {
     "name": "stderr",
     "output_type": "stream",
     "text": [
      "\u001b[2m\u001b[36m(RolloutWorker pid=15280)\u001b[0m c:\\Users\\nadir\\anaconda3\\envs\\GTAI2\\lib\\site-packages\\rtgym\\envs\\real_time_env.py:376: UserWarning: Time-step timed out. Elapsed since last time-step: 0.14234700032466208\n",
      "\u001b[2m\u001b[36m(RolloutWorker pid=15280)\u001b[0m   warnings.warn(f\"Time-step timed out. Elapsed since last time-step: {now - self.__t_end}\")\n"
     ]
    },
    {
     "name": "stdout",
     "output_type": "stream",
     "text": [
      "Loop:  1433\n",
      "Loop:  1434\n",
      "\u001b[2m\u001b[36m(RolloutWorker pid=15280)\u001b[0m reset triggered\n",
      "\u001b[2m\u001b[36m(RolloutWorker pid=15280)\u001b[0m reload save for track : 4\n"
     ]
    },
    {
     "name": "stderr",
     "output_type": "stream",
     "text": [
      "\u001b[2m\u001b[36m(RolloutWorker pid=15280)\u001b[0m c:\\Users\\nadir\\anaconda3\\envs\\GTAI2\\lib\\site-packages\\rtgym\\envs\\real_time_env.py:376: UserWarning: Time-step timed out. Elapsed since last time-step: 0.14739600032771705\n",
      "\u001b[2m\u001b[36m(RolloutWorker pid=15280)\u001b[0m   warnings.warn(f\"Time-step timed out. Elapsed since last time-step: {now - self.__t_end}\")\n"
     ]
    },
    {
     "name": "stdout",
     "output_type": "stream",
     "text": [
      "Loop:  1435\n",
      "\u001b[2m\u001b[36m(RolloutWorker pid=15280)\u001b[0m reset triggered\n",
      "\u001b[2m\u001b[36m(RolloutWorker pid=15280)\u001b[0m reload save for track : 4\n"
     ]
    },
    {
     "name": "stderr",
     "output_type": "stream",
     "text": [
      "\u001b[2m\u001b[36m(RolloutWorker pid=15280)\u001b[0m c:\\Users\\nadir\\anaconda3\\envs\\GTAI2\\lib\\site-packages\\rtgym\\envs\\real_time_env.py:376: UserWarning: Time-step timed out. Elapsed since last time-step: 0.13283110032352852\n",
      "\u001b[2m\u001b[36m(RolloutWorker pid=15280)\u001b[0m   warnings.warn(f\"Time-step timed out. Elapsed since last time-step: {now - self.__t_end}\")\n"
     ]
    },
    {
     "name": "stdout",
     "output_type": "stream",
     "text": [
      "Loop:  1436\n",
      "\u001b[2m\u001b[36m(RolloutWorker pid=15280)\u001b[0m reset triggered\n",
      "\u001b[2m\u001b[36m(RolloutWorker pid=15280)\u001b[0m reload save for track : 4\n"
     ]
    },
    {
     "name": "stderr",
     "output_type": "stream",
     "text": [
      "\u001b[2m\u001b[36m(RolloutWorker pid=15280)\u001b[0m c:\\Users\\nadir\\anaconda3\\envs\\GTAI2\\lib\\site-packages\\rtgym\\envs\\real_time_env.py:376: UserWarning: Time-step timed out. Elapsed since last time-step: 0.15030160032620188\n",
      "\u001b[2m\u001b[36m(RolloutWorker pid=15280)\u001b[0m   warnings.warn(f\"Time-step timed out. Elapsed since last time-step: {now - self.__t_end}\")\n"
     ]
    },
    {
     "name": "stdout",
     "output_type": "stream",
     "text": [
      "Loop:  1437\n",
      "Loop:  1438\n",
      "\u001b[2m\u001b[36m(RolloutWorker pid=15280)\u001b[0m reset triggered\n",
      "\u001b[2m\u001b[36m(RolloutWorker pid=15280)\u001b[0m reload save for track : 4\n"
     ]
    },
    {
     "name": "stderr",
     "output_type": "stream",
     "text": [
      "\u001b[2m\u001b[36m(RolloutWorker pid=15280)\u001b[0m c:\\Users\\nadir\\anaconda3\\envs\\GTAI2\\lib\\site-packages\\rtgym\\envs\\real_time_env.py:376: UserWarning: Time-step timed out. Elapsed since last time-step: 0.13037480032653548\n",
      "\u001b[2m\u001b[36m(RolloutWorker pid=15280)\u001b[0m   warnings.warn(f\"Time-step timed out. Elapsed since last time-step: {now - self.__t_end}\")\n"
     ]
    },
    {
     "name": "stdout",
     "output_type": "stream",
     "text": [
      "Loop:  1439\n",
      "\u001b[2m\u001b[36m(RolloutWorker pid=15280)\u001b[0m reset triggered\n",
      "\u001b[2m\u001b[36m(RolloutWorker pid=15280)\u001b[0m reload save for track : 4\n"
     ]
    },
    {
     "name": "stderr",
     "output_type": "stream",
     "text": [
      "\u001b[2m\u001b[36m(RolloutWorker pid=15280)\u001b[0m c:\\Users\\nadir\\anaconda3\\envs\\GTAI2\\lib\\site-packages\\rtgym\\envs\\real_time_env.py:376: UserWarning: Time-step timed out. Elapsed since last time-step: 0.14907970032800222\n",
      "\u001b[2m\u001b[36m(RolloutWorker pid=15280)\u001b[0m   warnings.warn(f\"Time-step timed out. Elapsed since last time-step: {now - self.__t_end}\")\n"
     ]
    },
    {
     "name": "stdout",
     "output_type": "stream",
     "text": [
      "Loop:  1440\n",
      "Saved 1440\n",
      "Loop:  1441\n",
      "\u001b[2m\u001b[36m(RolloutWorker pid=15280)\u001b[0m reset triggered\n",
      "\u001b[2m\u001b[36m(RolloutWorker pid=15280)\u001b[0m reload save for track : 4\n"
     ]
    },
    {
     "name": "stderr",
     "output_type": "stream",
     "text": [
      "\u001b[2m\u001b[36m(RolloutWorker pid=15280)\u001b[0m c:\\Users\\nadir\\anaconda3\\envs\\GTAI2\\lib\\site-packages\\rtgym\\envs\\real_time_env.py:376: UserWarning: Time-step timed out. Elapsed since last time-step: 0.14817530032451032\n",
      "\u001b[2m\u001b[36m(RolloutWorker pid=15280)\u001b[0m   warnings.warn(f\"Time-step timed out. Elapsed since last time-step: {now - self.__t_end}\")\n"
     ]
    },
    {
     "name": "stdout",
     "output_type": "stream",
     "text": [
      "Loop:  1442\n",
      "\u001b[2m\u001b[36m(RolloutWorker pid=15280)\u001b[0m reset triggered\n",
      "\u001b[2m\u001b[36m(RolloutWorker pid=15280)\u001b[0m reload save for track : 4\n"
     ]
    },
    {
     "name": "stderr",
     "output_type": "stream",
     "text": [
      "\u001b[2m\u001b[36m(RolloutWorker pid=15280)\u001b[0m c:\\Users\\nadir\\anaconda3\\envs\\GTAI2\\lib\\site-packages\\rtgym\\envs\\real_time_env.py:376: UserWarning: Time-step timed out. Elapsed since last time-step: 0.16867290032678284\n",
      "\u001b[2m\u001b[36m(RolloutWorker pid=15280)\u001b[0m   warnings.warn(f\"Time-step timed out. Elapsed since last time-step: {now - self.__t_end}\")\n"
     ]
    },
    {
     "name": "stdout",
     "output_type": "stream",
     "text": [
      "Loop:  1443\n",
      "Loop:  1444\n",
      "\u001b[2m\u001b[36m(RolloutWorker pid=15280)\u001b[0m reset triggered\n",
      "\u001b[2m\u001b[36m(RolloutWorker pid=15280)\u001b[0m reload save for track : 4\n"
     ]
    },
    {
     "name": "stderr",
     "output_type": "stream",
     "text": [
      "\u001b[2m\u001b[36m(RolloutWorker pid=15280)\u001b[0m c:\\Users\\nadir\\anaconda3\\envs\\GTAI2\\lib\\site-packages\\rtgym\\envs\\real_time_env.py:376: UserWarning: Time-step timed out. Elapsed since last time-step: 0.14184050032417872\n",
      "\u001b[2m\u001b[36m(RolloutWorker pid=15280)\u001b[0m   warnings.warn(f\"Time-step timed out. Elapsed since last time-step: {now - self.__t_end}\")\n"
     ]
    },
    {
     "name": "stdout",
     "output_type": "stream",
     "text": [
      "Loop:  1445\n",
      "\u001b[2m\u001b[36m(RolloutWorker pid=15280)\u001b[0m reset triggered\n",
      "\u001b[2m\u001b[36m(RolloutWorker pid=15280)\u001b[0m reload save for track : 4\n"
     ]
    },
    {
     "name": "stderr",
     "output_type": "stream",
     "text": [
      "\u001b[2m\u001b[36m(RolloutWorker pid=15280)\u001b[0m c:\\Users\\nadir\\anaconda3\\envs\\GTAI2\\lib\\site-packages\\rtgym\\envs\\real_time_env.py:376: UserWarning: Time-step timed out. Elapsed since last time-step: 0.16959900032816222\n",
      "\u001b[2m\u001b[36m(RolloutWorker pid=15280)\u001b[0m   warnings.warn(f\"Time-step timed out. Elapsed since last time-step: {now - self.__t_end}\")\n"
     ]
    },
    {
     "name": "stdout",
     "output_type": "stream",
     "text": [
      "Loop:  1446\n",
      "Loop:  1447\n",
      "\u001b[2m\u001b[36m(RolloutWorker pid=15280)\u001b[0m reset triggered\n",
      "\u001b[2m\u001b[36m(RolloutWorker pid=15280)\u001b[0m reload save for track : 4\n"
     ]
    },
    {
     "name": "stderr",
     "output_type": "stream",
     "text": [
      "\u001b[2m\u001b[36m(RolloutWorker pid=15280)\u001b[0m c:\\Users\\nadir\\anaconda3\\envs\\GTAI2\\lib\\site-packages\\rtgym\\envs\\real_time_env.py:376: UserWarning: Time-step timed out. Elapsed since last time-step: 0.13276180032335105\n",
      "\u001b[2m\u001b[36m(RolloutWorker pid=15280)\u001b[0m   warnings.warn(f\"Time-step timed out. Elapsed since last time-step: {now - self.__t_end}\")\n"
     ]
    },
    {
     "name": "stdout",
     "output_type": "stream",
     "text": [
      "Loop:  1448\n",
      "\u001b[2m\u001b[36m(RolloutWorker pid=15280)\u001b[0m reset triggered\n",
      "\u001b[2m\u001b[36m(RolloutWorker pid=15280)\u001b[0m reload save for track : 4\n"
     ]
    },
    {
     "name": "stderr",
     "output_type": "stream",
     "text": [
      "\u001b[2m\u001b[36m(RolloutWorker pid=15280)\u001b[0m c:\\Users\\nadir\\anaconda3\\envs\\GTAI2\\lib\\site-packages\\rtgym\\envs\\real_time_env.py:376: UserWarning: Time-step timed out. Elapsed since last time-step: 0.1373421003263502\n",
      "\u001b[2m\u001b[36m(RolloutWorker pid=15280)\u001b[0m   warnings.warn(f\"Time-step timed out. Elapsed since last time-step: {now - self.__t_end}\")\n"
     ]
    },
    {
     "name": "stdout",
     "output_type": "stream",
     "text": [
      "Loop:  1449\n",
      "\u001b[2m\u001b[36m(RolloutWorker pid=15280)\u001b[0m reset triggered\n",
      "\u001b[2m\u001b[36m(RolloutWorker pid=15280)\u001b[0m reload save for track : 4\n"
     ]
    },
    {
     "name": "stderr",
     "output_type": "stream",
     "text": [
      "\u001b[2m\u001b[36m(RolloutWorker pid=15280)\u001b[0m c:\\Users\\nadir\\anaconda3\\envs\\GTAI2\\lib\\site-packages\\rtgym\\envs\\real_time_env.py:376: UserWarning: Time-step timed out. Elapsed since last time-step: 0.14343950032707653\n",
      "\u001b[2m\u001b[36m(RolloutWorker pid=15280)\u001b[0m   warnings.warn(f\"Time-step timed out. Elapsed since last time-step: {now - self.__t_end}\")\n"
     ]
    },
    {
     "name": "stdout",
     "output_type": "stream",
     "text": [
      "Loop:  1450\n",
      "Saved 1450\n",
      "Loop:  1451\n",
      "\u001b[2m\u001b[36m(RolloutWorker pid=15280)\u001b[0m reset triggered\n",
      "\u001b[2m\u001b[36m(RolloutWorker pid=15280)\u001b[0m reload save for track : 4\n"
     ]
    },
    {
     "name": "stderr",
     "output_type": "stream",
     "text": [
      "\u001b[2m\u001b[36m(RolloutWorker pid=15280)\u001b[0m c:\\Users\\nadir\\anaconda3\\envs\\GTAI2\\lib\\site-packages\\rtgym\\envs\\real_time_env.py:376: UserWarning: Time-step timed out. Elapsed since last time-step: 0.14693000032639247\n",
      "\u001b[2m\u001b[36m(RolloutWorker pid=15280)\u001b[0m   warnings.warn(f\"Time-step timed out. Elapsed since last time-step: {now - self.__t_end}\")\n"
     ]
    },
    {
     "name": "stdout",
     "output_type": "stream",
     "text": [
      "Loop:  1452\n",
      "\u001b[2m\u001b[36m(RolloutWorker pid=15280)\u001b[0m reset triggered\n",
      "\u001b[2m\u001b[36m(RolloutWorker pid=15280)\u001b[0m reload save for track : 4\n"
     ]
    },
    {
     "name": "stderr",
     "output_type": "stream",
     "text": [
      "\u001b[2m\u001b[36m(RolloutWorker pid=15280)\u001b[0m c:\\Users\\nadir\\anaconda3\\envs\\GTAI2\\lib\\site-packages\\rtgym\\envs\\real_time_env.py:376: UserWarning: Time-step timed out. Elapsed since last time-step: 0.14936620032676728\n",
      "\u001b[2m\u001b[36m(RolloutWorker pid=15280)\u001b[0m   warnings.warn(f\"Time-step timed out. Elapsed since last time-step: {now - self.__t_end}\")\n"
     ]
    },
    {
     "name": "stdout",
     "output_type": "stream",
     "text": [
      "Loop:  1453\n"
     ]
    },
    {
     "name": "stderr",
     "output_type": "stream",
     "text": [
      "\u001b[2m\u001b[36m(RolloutWorker pid=15280)\u001b[0m c:\\Users\\nadir\\anaconda3\\envs\\GTAI2\\lib\\site-packages\\rtgym\\envs\\real_time_env.py:376: UserWarning: Time-step timed out. Elapsed since last time-step: 0.10170320018005441\n",
      "\u001b[2m\u001b[36m(RolloutWorker pid=15280)\u001b[0m   warnings.warn(f\"Time-step timed out. Elapsed since last time-step: {now - self.__t_end}\")\n"
     ]
    },
    {
     "name": "stdout",
     "output_type": "stream",
     "text": [
      "Loop:  1454\n",
      "\u001b[2m\u001b[36m(RolloutWorker pid=15280)\u001b[0m reset triggered\n",
      "\u001b[2m\u001b[36m(RolloutWorker pid=15280)\u001b[0m reload save for track : 4\n"
     ]
    },
    {
     "name": "stderr",
     "output_type": "stream",
     "text": [
      "\u001b[2m\u001b[36m(RolloutWorker pid=15280)\u001b[0m c:\\Users\\nadir\\anaconda3\\envs\\GTAI2\\lib\\site-packages\\rtgym\\envs\\real_time_env.py:376: UserWarning: Time-step timed out. Elapsed since last time-step: 0.13085980014511733\n",
      "\u001b[2m\u001b[36m(RolloutWorker pid=15280)\u001b[0m   warnings.warn(f\"Time-step timed out. Elapsed since last time-step: {now - self.__t_end}\")\n"
     ]
    },
    {
     "name": "stdout",
     "output_type": "stream",
     "text": [
      "Loop:  1455\n",
      "\u001b[2m\u001b[36m(RolloutWorker pid=15280)\u001b[0m reset triggered\n",
      "\u001b[2m\u001b[36m(RolloutWorker pid=15280)\u001b[0m reload save for track : 4\n"
     ]
    },
    {
     "name": "stderr",
     "output_type": "stream",
     "text": [
      "\u001b[2m\u001b[36m(RolloutWorker pid=15280)\u001b[0m c:\\Users\\nadir\\anaconda3\\envs\\GTAI2\\lib\\site-packages\\rtgym\\envs\\real_time_env.py:376: UserWarning: Time-step timed out. Elapsed since last time-step: 0.15860370032532956\n",
      "\u001b[2m\u001b[36m(RolloutWorker pid=15280)\u001b[0m   warnings.warn(f\"Time-step timed out. Elapsed since last time-step: {now - self.__t_end}\")\n"
     ]
    },
    {
     "name": "stdout",
     "output_type": "stream",
     "text": [
      "Loop:  1456\n",
      "Loop:  1457\n",
      "\u001b[2m\u001b[36m(RolloutWorker pid=15280)\u001b[0m reset triggered\n",
      "\u001b[2m\u001b[36m(RolloutWorker pid=15280)\u001b[0m reload save for track : 4\n"
     ]
    },
    {
     "name": "stderr",
     "output_type": "stream",
     "text": [
      "\u001b[2m\u001b[36m(RolloutWorker pid=15280)\u001b[0m c:\\Users\\nadir\\anaconda3\\envs\\GTAI2\\lib\\site-packages\\rtgym\\envs\\real_time_env.py:376: UserWarning: Time-step timed out. Elapsed since last time-step: 0.16876400032560923\n",
      "\u001b[2m\u001b[36m(RolloutWorker pid=15280)\u001b[0m   warnings.warn(f\"Time-step timed out. Elapsed since last time-step: {now - self.__t_end}\")\n"
     ]
    },
    {
     "name": "stdout",
     "output_type": "stream",
     "text": [
      "Loop:  1458\n",
      "\u001b[2m\u001b[36m(RolloutWorker pid=15280)\u001b[0m reset triggered\n",
      "\u001b[2m\u001b[36m(RolloutWorker pid=15280)\u001b[0m reload save for track : 4\n"
     ]
    },
    {
     "name": "stderr",
     "output_type": "stream",
     "text": [
      "\u001b[2m\u001b[36m(RolloutWorker pid=15280)\u001b[0m c:\\Users\\nadir\\anaconda3\\envs\\GTAI2\\lib\\site-packages\\rtgym\\envs\\real_time_env.py:376: UserWarning: Time-step timed out. Elapsed since last time-step: 0.1329983003270172\n",
      "\u001b[2m\u001b[36m(RolloutWorker pid=15280)\u001b[0m   warnings.warn(f\"Time-step timed out. Elapsed since last time-step: {now - self.__t_end}\")\n"
     ]
    },
    {
     "name": "stdout",
     "output_type": "stream",
     "text": [
      "Loop:  1459\n",
      "Loop:  1460\n",
      "Saved 1460\n",
      "\u001b[2m\u001b[36m(RolloutWorker pid=15280)\u001b[0m reset triggered\n",
      "\u001b[2m\u001b[36m(RolloutWorker pid=15280)\u001b[0m reload save for track : 4\n"
     ]
    },
    {
     "name": "stderr",
     "output_type": "stream",
     "text": [
      "\u001b[2m\u001b[36m(RolloutWorker pid=15280)\u001b[0m c:\\Users\\nadir\\anaconda3\\envs\\GTAI2\\lib\\site-packages\\rtgym\\envs\\real_time_env.py:376: UserWarning: Time-step timed out. Elapsed since last time-step: 0.15772950032624067\n",
      "\u001b[2m\u001b[36m(RolloutWorker pid=15280)\u001b[0m   warnings.warn(f\"Time-step timed out. Elapsed since last time-step: {now - self.__t_end}\")\n"
     ]
    },
    {
     "name": "stdout",
     "output_type": "stream",
     "text": [
      "Loop:  1461\n",
      "\u001b[2m\u001b[36m(RolloutWorker pid=15280)\u001b[0m reset triggered\n",
      "\u001b[2m\u001b[36m(RolloutWorker pid=15280)\u001b[0m reload save for track : 4\n"
     ]
    },
    {
     "name": "stderr",
     "output_type": "stream",
     "text": [
      "\u001b[2m\u001b[36m(RolloutWorker pid=15280)\u001b[0m c:\\Users\\nadir\\anaconda3\\envs\\GTAI2\\lib\\site-packages\\rtgym\\envs\\real_time_env.py:376: UserWarning: Time-step timed out. Elapsed since last time-step: 0.15992670032574097\n",
      "\u001b[2m\u001b[36m(RolloutWorker pid=15280)\u001b[0m   warnings.warn(f\"Time-step timed out. Elapsed since last time-step: {now - self.__t_end}\")\n"
     ]
    },
    {
     "name": "stdout",
     "output_type": "stream",
     "text": [
      "Loop:  1462\n",
      "\u001b[2m\u001b[36m(RolloutWorker pid=15280)\u001b[0m reset triggered\n",
      "\u001b[2m\u001b[36m(RolloutWorker pid=15280)\u001b[0m reload save for track : 4\n"
     ]
    },
    {
     "name": "stderr",
     "output_type": "stream",
     "text": [
      "\u001b[2m\u001b[36m(RolloutWorker pid=15280)\u001b[0m c:\\Users\\nadir\\anaconda3\\envs\\GTAI2\\lib\\site-packages\\rtgym\\envs\\real_time_env.py:376: UserWarning: Time-step timed out. Elapsed since last time-step: 0.1321207003238669\n",
      "\u001b[2m\u001b[36m(RolloutWorker pid=15280)\u001b[0m   warnings.warn(f\"Time-step timed out. Elapsed since last time-step: {now - self.__t_end}\")\n"
     ]
    },
    {
     "name": "stdout",
     "output_type": "stream",
     "text": [
      "Loop:  1463\n",
      "Loop:  1464\n",
      "\u001b[2m\u001b[36m(RolloutWorker pid=15280)\u001b[0m reset triggered\n",
      "\u001b[2m\u001b[36m(RolloutWorker pid=15280)\u001b[0m reload save for track : 4\n"
     ]
    },
    {
     "name": "stderr",
     "output_type": "stream",
     "text": [
      "\u001b[2m\u001b[36m(RolloutWorker pid=15280)\u001b[0m c:\\Users\\nadir\\anaconda3\\envs\\GTAI2\\lib\\site-packages\\rtgym\\envs\\real_time_env.py:376: UserWarning: Time-step timed out. Elapsed since last time-step: 0.13833670032545342\n",
      "\u001b[2m\u001b[36m(RolloutWorker pid=15280)\u001b[0m   warnings.warn(f\"Time-step timed out. Elapsed since last time-step: {now - self.__t_end}\")\n"
     ]
    },
    {
     "name": "stdout",
     "output_type": "stream",
     "text": [
      "Loop:  1465\n",
      "\u001b[2m\u001b[36m(RolloutWorker pid=15280)\u001b[0m reset triggered\n",
      "\u001b[2m\u001b[36m(RolloutWorker pid=15280)\u001b[0m reload save for track : 4\n"
     ]
    },
    {
     "name": "stderr",
     "output_type": "stream",
     "text": [
      "\u001b[2m\u001b[36m(RolloutWorker pid=15280)\u001b[0m c:\\Users\\nadir\\anaconda3\\envs\\GTAI2\\lib\\site-packages\\rtgym\\envs\\real_time_env.py:376: UserWarning: Time-step timed out. Elapsed since last time-step: 0.13206930032902164\n",
      "\u001b[2m\u001b[36m(RolloutWorker pid=15280)\u001b[0m   warnings.warn(f\"Time-step timed out. Elapsed since last time-step: {now - self.__t_end}\")\n"
     ]
    },
    {
     "name": "stdout",
     "output_type": "stream",
     "text": [
      "Loop:  1466\n",
      "Loop:  1467\n",
      "\u001b[2m\u001b[36m(RolloutWorker pid=15280)\u001b[0m reset triggered\n",
      "\u001b[2m\u001b[36m(RolloutWorker pid=15280)\u001b[0m reload save for track : 4\n"
     ]
    },
    {
     "name": "stderr",
     "output_type": "stream",
     "text": [
      "\u001b[2m\u001b[36m(RolloutWorker pid=15280)\u001b[0m c:\\Users\\nadir\\anaconda3\\envs\\GTAI2\\lib\\site-packages\\rtgym\\envs\\real_time_env.py:376: UserWarning: Time-step timed out. Elapsed since last time-step: 0.1385626003248035\n",
      "\u001b[2m\u001b[36m(RolloutWorker pid=15280)\u001b[0m   warnings.warn(f\"Time-step timed out. Elapsed since last time-step: {now - self.__t_end}\")\n"
     ]
    },
    {
     "name": "stdout",
     "output_type": "stream",
     "text": [
      "Loop:  1468\n",
      "\u001b[2m\u001b[36m(RolloutWorker pid=15280)\u001b[0m reset triggered\n",
      "\u001b[2m\u001b[36m(RolloutWorker pid=15280)\u001b[0m reload save for track : 4\n"
     ]
    },
    {
     "name": "stderr",
     "output_type": "stream",
     "text": [
      "\u001b[2m\u001b[36m(RolloutWorker pid=15280)\u001b[0m c:\\Users\\nadir\\anaconda3\\envs\\GTAI2\\lib\\site-packages\\rtgym\\envs\\real_time_env.py:376: UserWarning: Time-step timed out. Elapsed since last time-step: 0.1422565003267664\n",
      "\u001b[2m\u001b[36m(RolloutWorker pid=15280)\u001b[0m   warnings.warn(f\"Time-step timed out. Elapsed since last time-step: {now - self.__t_end}\")\n"
     ]
    },
    {
     "name": "stdout",
     "output_type": "stream",
     "text": [
      "Loop:  1469\n",
      "Loop:  1470\n",
      "Saved 1470\n",
      "\u001b[2m\u001b[36m(RolloutWorker pid=15280)\u001b[0m reset triggered\n",
      "\u001b[2m\u001b[36m(RolloutWorker pid=15280)\u001b[0m reload save for track : 4\n"
     ]
    },
    {
     "name": "stderr",
     "output_type": "stream",
     "text": [
      "\u001b[2m\u001b[36m(RolloutWorker pid=15280)\u001b[0m c:\\Users\\nadir\\anaconda3\\envs\\GTAI2\\lib\\site-packages\\rtgym\\envs\\real_time_env.py:376: UserWarning: Time-step timed out. Elapsed since last time-step: 0.1463820003264118\n",
      "\u001b[2m\u001b[36m(RolloutWorker pid=15280)\u001b[0m   warnings.warn(f\"Time-step timed out. Elapsed since last time-step: {now - self.__t_end}\")\n"
     ]
    },
    {
     "name": "stdout",
     "output_type": "stream",
     "text": [
      "Loop:  1471\n",
      "\u001b[2m\u001b[36m(RolloutWorker pid=15280)\u001b[0m reset triggered\n",
      "\u001b[2m\u001b[36m(RolloutWorker pid=15280)\u001b[0m reload save for track : 4\n"
     ]
    },
    {
     "name": "stderr",
     "output_type": "stream",
     "text": [
      "\u001b[2m\u001b[36m(RolloutWorker pid=15280)\u001b[0m c:\\Users\\nadir\\anaconda3\\envs\\GTAI2\\lib\\site-packages\\rtgym\\envs\\real_time_env.py:376: UserWarning: Time-step timed out. Elapsed since last time-step: 0.14274570032284828\n",
      "\u001b[2m\u001b[36m(RolloutWorker pid=15280)\u001b[0m   warnings.warn(f\"Time-step timed out. Elapsed since last time-step: {now - self.__t_end}\")\n"
     ]
    },
    {
     "name": "stdout",
     "output_type": "stream",
     "text": [
      "Loop:  1472\n",
      "Loop:  1473\n",
      "\u001b[2m\u001b[36m(RolloutWorker pid=15280)\u001b[0m reset triggered\n",
      "\u001b[2m\u001b[36m(RolloutWorker pid=15280)\u001b[0m reload save for track : 4\n"
     ]
    },
    {
     "name": "stderr",
     "output_type": "stream",
     "text": [
      "\u001b[2m\u001b[36m(RolloutWorker pid=15280)\u001b[0m c:\\Users\\nadir\\anaconda3\\envs\\GTAI2\\lib\\site-packages\\rtgym\\envs\\real_time_env.py:376: UserWarning: Time-step timed out. Elapsed since last time-step: 0.14769140032876749\n",
      "\u001b[2m\u001b[36m(RolloutWorker pid=15280)\u001b[0m   warnings.warn(f\"Time-step timed out. Elapsed since last time-step: {now - self.__t_end}\")\n"
     ]
    },
    {
     "name": "stdout",
     "output_type": "stream",
     "text": [
      "Loop:  1474\n",
      "\u001b[2m\u001b[36m(RolloutWorker pid=15280)\u001b[0m reset triggered\n",
      "\u001b[2m\u001b[36m(RolloutWorker pid=15280)\u001b[0m reload save for track : 4\n"
     ]
    },
    {
     "name": "stderr",
     "output_type": "stream",
     "text": [
      "\u001b[2m\u001b[36m(RolloutWorker pid=15280)\u001b[0m c:\\Users\\nadir\\anaconda3\\envs\\GTAI2\\lib\\site-packages\\rtgym\\envs\\real_time_env.py:376: UserWarning: Time-step timed out. Elapsed since last time-step: 0.16035510032452294\n",
      "\u001b[2m\u001b[36m(RolloutWorker pid=15280)\u001b[0m   warnings.warn(f\"Time-step timed out. Elapsed since last time-step: {now - self.__t_end}\")\n"
     ]
    },
    {
     "name": "stdout",
     "output_type": "stream",
     "text": [
      "Loop:  1475\n",
      "\u001b[2m\u001b[36m(RolloutWorker pid=15280)\u001b[0m reset triggered\n",
      "\u001b[2m\u001b[36m(RolloutWorker pid=15280)\u001b[0m reload save for track : 4\n"
     ]
    },
    {
     "name": "stderr",
     "output_type": "stream",
     "text": [
      "\u001b[2m\u001b[36m(RolloutWorker pid=15280)\u001b[0m c:\\Users\\nadir\\anaconda3\\envs\\GTAI2\\lib\\site-packages\\rtgym\\envs\\real_time_env.py:376: UserWarning: Time-step timed out. Elapsed since last time-step: 0.14273930032504722\n",
      "\u001b[2m\u001b[36m(RolloutWorker pid=15280)\u001b[0m   warnings.warn(f\"Time-step timed out. Elapsed since last time-step: {now - self.__t_end}\")\n"
     ]
    },
    {
     "name": "stdout",
     "output_type": "stream",
     "text": [
      "Loop:  1476\n",
      "Loop:  1477\n",
      "\u001b[2m\u001b[36m(RolloutWorker pid=15280)\u001b[0m reset triggered\n",
      "\u001b[2m\u001b[36m(RolloutWorker pid=15280)\u001b[0m reload save for track : 4\n"
     ]
    },
    {
     "name": "stderr",
     "output_type": "stream",
     "text": [
      "\u001b[2m\u001b[36m(RolloutWorker pid=15280)\u001b[0m c:\\Users\\nadir\\anaconda3\\envs\\GTAI2\\lib\\site-packages\\rtgym\\envs\\real_time_env.py:376: UserWarning: Time-step timed out. Elapsed since last time-step: 0.14717600032599876\n",
      "\u001b[2m\u001b[36m(RolloutWorker pid=15280)\u001b[0m   warnings.warn(f\"Time-step timed out. Elapsed since last time-step: {now - self.__t_end}\")\n"
     ]
    },
    {
     "name": "stdout",
     "output_type": "stream",
     "text": [
      "Loop:  1478\n",
      "\u001b[2m\u001b[36m(RolloutWorker pid=15280)\u001b[0m reset triggered\n",
      "\u001b[2m\u001b[36m(RolloutWorker pid=15280)\u001b[0m reload save for track : 4\n"
     ]
    },
    {
     "name": "stderr",
     "output_type": "stream",
     "text": [
      "\u001b[2m\u001b[36m(RolloutWorker pid=15280)\u001b[0m c:\\Users\\nadir\\anaconda3\\envs\\GTAI2\\lib\\site-packages\\rtgym\\envs\\real_time_env.py:376: UserWarning: Time-step timed out. Elapsed since last time-step: 0.16050580032606376\n",
      "\u001b[2m\u001b[36m(RolloutWorker pid=15280)\u001b[0m   warnings.warn(f\"Time-step timed out. Elapsed since last time-step: {now - self.__t_end}\")\n"
     ]
    },
    {
     "name": "stdout",
     "output_type": "stream",
     "text": [
      "Loop:  1479\n",
      "Loop:  1480\n",
      "Saved 1480\n",
      "\u001b[2m\u001b[36m(RolloutWorker pid=15280)\u001b[0m reset triggered\n",
      "\u001b[2m\u001b[36m(RolloutWorker pid=15280)\u001b[0m reload save for track : 4\n"
     ]
    },
    {
     "name": "stderr",
     "output_type": "stream",
     "text": [
      "\u001b[2m\u001b[36m(RolloutWorker pid=15280)\u001b[0m c:\\Users\\nadir\\anaconda3\\envs\\GTAI2\\lib\\site-packages\\rtgym\\envs\\real_time_env.py:376: UserWarning: Time-step timed out. Elapsed since last time-step: 0.1440375003257941\n",
      "\u001b[2m\u001b[36m(RolloutWorker pid=15280)\u001b[0m   warnings.warn(f\"Time-step timed out. Elapsed since last time-step: {now - self.__t_end}\")\n"
     ]
    },
    {
     "name": "stdout",
     "output_type": "stream",
     "text": [
      "Loop:  1481\n",
      "\u001b[2m\u001b[36m(RolloutWorker pid=15280)\u001b[0m reset triggered\n",
      "\u001b[2m\u001b[36m(RolloutWorker pid=15280)\u001b[0m reload save for track : 4\n"
     ]
    },
    {
     "name": "stderr",
     "output_type": "stream",
     "text": [
      "\u001b[2m\u001b[36m(RolloutWorker pid=15280)\u001b[0m c:\\Users\\nadir\\anaconda3\\envs\\GTAI2\\lib\\site-packages\\rtgym\\envs\\real_time_env.py:376: UserWarning: Time-step timed out. Elapsed since last time-step: 0.15587720032635843\n",
      "\u001b[2m\u001b[36m(RolloutWorker pid=15280)\u001b[0m   warnings.warn(f\"Time-step timed out. Elapsed since last time-step: {now - self.__t_end}\")\n"
     ]
    },
    {
     "name": "stdout",
     "output_type": "stream",
     "text": [
      "Loop:  1482\n",
      "Loop:  1483\n",
      "\u001b[2m\u001b[36m(RolloutWorker pid=15280)\u001b[0m reset triggered\n",
      "\u001b[2m\u001b[36m(RolloutWorker pid=15280)\u001b[0m reload save for track : 4\n"
     ]
    },
    {
     "name": "stderr",
     "output_type": "stream",
     "text": [
      "\u001b[2m\u001b[36m(RolloutWorker pid=15280)\u001b[0m c:\\Users\\nadir\\anaconda3\\envs\\GTAI2\\lib\\site-packages\\rtgym\\envs\\real_time_env.py:376: UserWarning: Time-step timed out. Elapsed since last time-step: 0.1426651003275765\n",
      "\u001b[2m\u001b[36m(RolloutWorker pid=15280)\u001b[0m   warnings.warn(f\"Time-step timed out. Elapsed since last time-step: {now - self.__t_end}\")\n"
     ]
    },
    {
     "name": "stdout",
     "output_type": "stream",
     "text": [
      "Loop:  1484\n",
      "\u001b[2m\u001b[36m(RolloutWorker pid=15280)\u001b[0m reset triggered\n",
      "\u001b[2m\u001b[36m(RolloutWorker pid=15280)\u001b[0m reload save for track : 4\n"
     ]
    },
    {
     "name": "stderr",
     "output_type": "stream",
     "text": [
      "\u001b[2m\u001b[36m(RolloutWorker pid=15280)\u001b[0m c:\\Users\\nadir\\anaconda3\\envs\\GTAI2\\lib\\site-packages\\rtgym\\envs\\real_time_env.py:376: UserWarning: Time-step timed out. Elapsed since last time-step: 0.15032610032358207\n",
      "\u001b[2m\u001b[36m(RolloutWorker pid=15280)\u001b[0m   warnings.warn(f\"Time-step timed out. Elapsed since last time-step: {now - self.__t_end}\")\n"
     ]
    },
    {
     "name": "stdout",
     "output_type": "stream",
     "text": [
      "Loop:  1485\n",
      "Loop:  1486\n",
      "\u001b[2m\u001b[36m(RolloutWorker pid=15280)\u001b[0m reset triggered\n",
      "\u001b[2m\u001b[36m(RolloutWorker pid=15280)\u001b[0m reload save for track : 4\n"
     ]
    },
    {
     "name": "stderr",
     "output_type": "stream",
     "text": [
      "\u001b[2m\u001b[36m(RolloutWorker pid=15280)\u001b[0m c:\\Users\\nadir\\anaconda3\\envs\\GTAI2\\lib\\site-packages\\rtgym\\envs\\real_time_env.py:376: UserWarning: Time-step timed out. Elapsed since last time-step: 0.147119200326415\n",
      "\u001b[2m\u001b[36m(RolloutWorker pid=15280)\u001b[0m   warnings.warn(f\"Time-step timed out. Elapsed since last time-step: {now - self.__t_end}\")\n"
     ]
    },
    {
     "name": "stdout",
     "output_type": "stream",
     "text": [
      "Loop:  1487\n",
      "\u001b[2m\u001b[36m(RolloutWorker pid=15280)\u001b[0m reset triggered\n",
      "\u001b[2m\u001b[36m(RolloutWorker pid=15280)\u001b[0m reload save for track : 4\n"
     ]
    },
    {
     "name": "stderr",
     "output_type": "stream",
     "text": [
      "\u001b[2m\u001b[36m(RolloutWorker pid=15280)\u001b[0m c:\\Users\\nadir\\anaconda3\\envs\\GTAI2\\lib\\site-packages\\rtgym\\envs\\real_time_env.py:376: UserWarning: Time-step timed out. Elapsed since last time-step: 0.13259180032764561\n",
      "\u001b[2m\u001b[36m(RolloutWorker pid=15280)\u001b[0m   warnings.warn(f\"Time-step timed out. Elapsed since last time-step: {now - self.__t_end}\")\n"
     ]
    },
    {
     "name": "stdout",
     "output_type": "stream",
     "text": [
      "Loop:  1488\n",
      "\u001b[2m\u001b[36m(RolloutWorker pid=15280)\u001b[0m reset triggered\n",
      "\u001b[2m\u001b[36m(RolloutWorker pid=15280)\u001b[0m reload save for track : 4\n"
     ]
    },
    {
     "name": "stderr",
     "output_type": "stream",
     "text": [
      "\u001b[2m\u001b[36m(RolloutWorker pid=15280)\u001b[0m c:\\Users\\nadir\\anaconda3\\envs\\GTAI2\\lib\\site-packages\\rtgym\\envs\\real_time_env.py:376: UserWarning: Time-step timed out. Elapsed since last time-step: 0.14694070032419404\n",
      "\u001b[2m\u001b[36m(RolloutWorker pid=15280)\u001b[0m   warnings.warn(f\"Time-step timed out. Elapsed since last time-step: {now - self.__t_end}\")\n"
     ]
    },
    {
     "name": "stdout",
     "output_type": "stream",
     "text": [
      "Loop:  1489\n",
      "Loop:  1490\n",
      "Saved 1490\n",
      "\u001b[2m\u001b[36m(RolloutWorker pid=15280)\u001b[0m reset triggered\n",
      "\u001b[2m\u001b[36m(RolloutWorker pid=15280)\u001b[0m reload save for track : 4\n"
     ]
    },
    {
     "name": "stderr",
     "output_type": "stream",
     "text": [
      "\u001b[2m\u001b[36m(RolloutWorker pid=15280)\u001b[0m c:\\Users\\nadir\\anaconda3\\envs\\GTAI2\\lib\\site-packages\\rtgym\\envs\\real_time_env.py:376: UserWarning: Time-step timed out. Elapsed since last time-step: 0.1426054003277386\n",
      "\u001b[2m\u001b[36m(RolloutWorker pid=15280)\u001b[0m   warnings.warn(f\"Time-step timed out. Elapsed since last time-step: {now - self.__t_end}\")\n"
     ]
    },
    {
     "name": "stdout",
     "output_type": "stream",
     "text": [
      "Loop:  1491\n",
      "\u001b[2m\u001b[36m(RolloutWorker pid=15280)\u001b[0m reset triggered\n",
      "\u001b[2m\u001b[36m(RolloutWorker pid=15280)\u001b[0m reload save for track : 4\n"
     ]
    },
    {
     "name": "stderr",
     "output_type": "stream",
     "text": [
      "\u001b[2m\u001b[36m(RolloutWorker pid=15280)\u001b[0m c:\\Users\\nadir\\anaconda3\\envs\\GTAI2\\lib\\site-packages\\rtgym\\envs\\real_time_env.py:376: UserWarning: Time-step timed out. Elapsed since last time-step: 0.14812240032551927\n",
      "\u001b[2m\u001b[36m(RolloutWorker pid=15280)\u001b[0m   warnings.warn(f\"Time-step timed out. Elapsed since last time-step: {now - self.__t_end}\")\n"
     ]
    },
    {
     "name": "stdout",
     "output_type": "stream",
     "text": [
      "Loop:  1492\n"
     ]
    },
    {
     "name": "stderr",
     "output_type": "stream",
     "text": [
      "\u001b[2m\u001b[36m(RolloutWorker pid=15280)\u001b[0m c:\\Users\\nadir\\anaconda3\\envs\\GTAI2\\lib\\site-packages\\rtgym\\envs\\real_time_env.py:376: UserWarning: Time-step timed out. Elapsed since last time-step: 0.11160330005077412\n",
      "\u001b[2m\u001b[36m(RolloutWorker pid=15280)\u001b[0m   warnings.warn(f\"Time-step timed out. Elapsed since last time-step: {now - self.__t_end}\")\n"
     ]
    },
    {
     "name": "stdout",
     "output_type": "stream",
     "text": [
      "Loop:  1493\n",
      "\u001b[2m\u001b[36m(RolloutWorker pid=15280)\u001b[0m reset triggered\n",
      "\u001b[2m\u001b[36m(RolloutWorker pid=15280)\u001b[0m reload save for track : 4\n"
     ]
    },
    {
     "name": "stderr",
     "output_type": "stream",
     "text": [
      "\u001b[2m\u001b[36m(RolloutWorker pid=15280)\u001b[0m c:\\Users\\nadir\\anaconda3\\envs\\GTAI2\\lib\\site-packages\\rtgym\\envs\\real_time_env.py:376: UserWarning: Time-step timed out. Elapsed since last time-step: 0.15864410027643316\n",
      "\u001b[2m\u001b[36m(RolloutWorker pid=15280)\u001b[0m   warnings.warn(f\"Time-step timed out. Elapsed since last time-step: {now - self.__t_end}\")\n"
     ]
    },
    {
     "name": "stdout",
     "output_type": "stream",
     "text": [
      "Loop:  1494\n",
      "\u001b[2m\u001b[36m(RolloutWorker pid=15280)\u001b[0m reset triggered\n",
      "\u001b[2m\u001b[36m(RolloutWorker pid=15280)\u001b[0m reload save for track : 4\n"
     ]
    },
    {
     "name": "stderr",
     "output_type": "stream",
     "text": [
      "\u001b[2m\u001b[36m(RolloutWorker pid=15280)\u001b[0m c:\\Users\\nadir\\anaconda3\\envs\\GTAI2\\lib\\site-packages\\rtgym\\envs\\real_time_env.py:376: UserWarning: Time-step timed out. Elapsed since last time-step: 0.13230280032439623\n",
      "\u001b[2m\u001b[36m(RolloutWorker pid=15280)\u001b[0m   warnings.warn(f\"Time-step timed out. Elapsed since last time-step: {now - self.__t_end}\")\n"
     ]
    },
    {
     "name": "stdout",
     "output_type": "stream",
     "text": [
      "Loop:  1495\n",
      "Loop:  1496\n",
      "\u001b[2m\u001b[36m(RolloutWorker pid=15280)\u001b[0m reset triggered\n",
      "\u001b[2m\u001b[36m(RolloutWorker pid=15280)\u001b[0m reload save for track : 4\n"
     ]
    },
    {
     "name": "stderr",
     "output_type": "stream",
     "text": [
      "\u001b[2m\u001b[36m(RolloutWorker pid=15280)\u001b[0m c:\\Users\\nadir\\anaconda3\\envs\\GTAI2\\lib\\site-packages\\rtgym\\envs\\real_time_env.py:376: UserWarning: Time-step timed out. Elapsed since last time-step: 0.15052410032512853\n",
      "\u001b[2m\u001b[36m(RolloutWorker pid=15280)\u001b[0m   warnings.warn(f\"Time-step timed out. Elapsed since last time-step: {now - self.__t_end}\")\n"
     ]
    },
    {
     "name": "stdout",
     "output_type": "stream",
     "text": [
      "Loop:  1497\n",
      "\u001b[2m\u001b[36m(RolloutWorker pid=15280)\u001b[0m reset triggered\n",
      "\u001b[2m\u001b[36m(RolloutWorker pid=15280)\u001b[0m reload save for track : 4\n"
     ]
    },
    {
     "name": "stderr",
     "output_type": "stream",
     "text": [
      "\u001b[2m\u001b[36m(RolloutWorker pid=15280)\u001b[0m c:\\Users\\nadir\\anaconda3\\envs\\GTAI2\\lib\\site-packages\\rtgym\\envs\\real_time_env.py:376: UserWarning: Time-step timed out. Elapsed since last time-step: 0.1468795003274863\n",
      "\u001b[2m\u001b[36m(RolloutWorker pid=15280)\u001b[0m   warnings.warn(f\"Time-step timed out. Elapsed since last time-step: {now - self.__t_end}\")\n"
     ]
    },
    {
     "name": "stdout",
     "output_type": "stream",
     "text": [
      "Loop:  1498\n",
      "Loop:  1499\n",
      "\u001b[2m\u001b[36m(RolloutWorker pid=15280)\u001b[0m reset triggered\n",
      "\u001b[2m\u001b[36m(RolloutWorker pid=15280)\u001b[0m reload save for track : 4\n"
     ]
    },
    {
     "name": "stderr",
     "output_type": "stream",
     "text": [
      "\u001b[2m\u001b[36m(RolloutWorker pid=15280)\u001b[0m c:\\Users\\nadir\\anaconda3\\envs\\GTAI2\\lib\\site-packages\\rtgym\\envs\\real_time_env.py:376: UserWarning: Time-step timed out. Elapsed since last time-step: 0.12925370032462524\n",
      "\u001b[2m\u001b[36m(RolloutWorker pid=15280)\u001b[0m   warnings.warn(f\"Time-step timed out. Elapsed since last time-step: {now - self.__t_end}\")\n"
     ]
    },
    {
     "name": "stdout",
     "output_type": "stream",
     "text": [
      "Loop:  1500\n",
      "Saved 1500\n",
      "\u001b[2m\u001b[36m(RolloutWorker pid=15280)\u001b[0m reset triggered\n",
      "\u001b[2m\u001b[36m(RolloutWorker pid=15280)\u001b[0m reload save for track : 4\n"
     ]
    },
    {
     "name": "stderr",
     "output_type": "stream",
     "text": [
      "\u001b[2m\u001b[36m(RolloutWorker pid=15280)\u001b[0m c:\\Users\\nadir\\anaconda3\\envs\\GTAI2\\lib\\site-packages\\rtgym\\envs\\real_time_env.py:376: UserWarning: Time-step timed out. Elapsed since last time-step: 0.12316660032593063\n",
      "\u001b[2m\u001b[36m(RolloutWorker pid=15280)\u001b[0m   warnings.warn(f\"Time-step timed out. Elapsed since last time-step: {now - self.__t_end}\")\n"
     ]
    },
    {
     "name": "stdout",
     "output_type": "stream",
     "text": [
      "Loop:  1501\n",
      "\u001b[2m\u001b[36m(RolloutWorker pid=15280)\u001b[0m reset triggered\n",
      "\u001b[2m\u001b[36m(RolloutWorker pid=15280)\u001b[0m reload save for track : 4\n"
     ]
    },
    {
     "name": "stderr",
     "output_type": "stream",
     "text": [
      "\u001b[2m\u001b[36m(RolloutWorker pid=15280)\u001b[0m c:\\Users\\nadir\\anaconda3\\envs\\GTAI2\\lib\\site-packages\\rtgym\\envs\\real_time_env.py:376: UserWarning: Time-step timed out. Elapsed since last time-step: 0.14757340032520005\n",
      "\u001b[2m\u001b[36m(RolloutWorker pid=15280)\u001b[0m   warnings.warn(f\"Time-step timed out. Elapsed since last time-step: {now - self.__t_end}\")\n"
     ]
    },
    {
     "name": "stdout",
     "output_type": "stream",
     "text": [
      "Loop:  1502\n",
      "Loop:  1503\n",
      "\u001b[2m\u001b[36m(RolloutWorker pid=15280)\u001b[0m reset triggered\n",
      "\u001b[2m\u001b[36m(RolloutWorker pid=15280)\u001b[0m reload save for track : 4\n"
     ]
    },
    {
     "name": "stderr",
     "output_type": "stream",
     "text": [
      "\u001b[2m\u001b[36m(RolloutWorker pid=15280)\u001b[0m c:\\Users\\nadir\\anaconda3\\envs\\GTAI2\\lib\\site-packages\\rtgym\\envs\\real_time_env.py:376: UserWarning: Time-step timed out. Elapsed since last time-step: 0.150250500326365\n",
      "\u001b[2m\u001b[36m(RolloutWorker pid=15280)\u001b[0m   warnings.warn(f\"Time-step timed out. Elapsed since last time-step: {now - self.__t_end}\")\n"
     ]
    },
    {
     "name": "stdout",
     "output_type": "stream",
     "text": [
      "Loop:  1504\n",
      "\u001b[2m\u001b[36m(RolloutWorker pid=15280)\u001b[0m reset triggered\n",
      "\u001b[2m\u001b[36m(RolloutWorker pid=15280)\u001b[0m reload save for track : 4\n"
     ]
    },
    {
     "name": "stderr",
     "output_type": "stream",
     "text": [
      "\u001b[2m\u001b[36m(RolloutWorker pid=15280)\u001b[0m c:\\Users\\nadir\\anaconda3\\envs\\GTAI2\\lib\\site-packages\\rtgym\\envs\\real_time_env.py:376: UserWarning: Time-step timed out. Elapsed since last time-step: 0.16260740032885224\n",
      "\u001b[2m\u001b[36m(RolloutWorker pid=15280)\u001b[0m   warnings.warn(f\"Time-step timed out. Elapsed since last time-step: {now - self.__t_end}\")\n"
     ]
    },
    {
     "name": "stdout",
     "output_type": "stream",
     "text": [
      "Loop:  1505\n",
      "Loop:  1506\n",
      "\u001b[2m\u001b[36m(RolloutWorker pid=15280)\u001b[0m reset triggered\n",
      "\u001b[2m\u001b[36m(RolloutWorker pid=15280)\u001b[0m reload save for track : 4\n"
     ]
    },
    {
     "name": "stderr",
     "output_type": "stream",
     "text": [
      "\u001b[2m\u001b[36m(RolloutWorker pid=15280)\u001b[0m c:\\Users\\nadir\\anaconda3\\envs\\GTAI2\\lib\\site-packages\\rtgym\\envs\\real_time_env.py:376: UserWarning: Time-step timed out. Elapsed since last time-step: 0.14703110032496625\n",
      "\u001b[2m\u001b[36m(RolloutWorker pid=15280)\u001b[0m   warnings.warn(f\"Time-step timed out. Elapsed since last time-step: {now - self.__t_end}\")\n"
     ]
    },
    {
     "name": "stdout",
     "output_type": "stream",
     "text": [
      "Loop:  1507\n",
      "\u001b[2m\u001b[36m(RolloutWorker pid=15280)\u001b[0m reset triggered\n",
      "\u001b[2m\u001b[36m(RolloutWorker pid=15280)\u001b[0m reload save for track : 4\n"
     ]
    },
    {
     "name": "stderr",
     "output_type": "stream",
     "text": [
      "\u001b[2m\u001b[36m(RolloutWorker pid=15280)\u001b[0m c:\\Users\\nadir\\anaconda3\\envs\\GTAI2\\lib\\site-packages\\rtgym\\envs\\real_time_env.py:376: UserWarning: Time-step timed out. Elapsed since last time-step: 0.15047120032613748\n",
      "\u001b[2m\u001b[36m(RolloutWorker pid=15280)\u001b[0m   warnings.warn(f\"Time-step timed out. Elapsed since last time-step: {now - self.__t_end}\")\n"
     ]
    },
    {
     "name": "stdout",
     "output_type": "stream",
     "text": [
      "Loop:  1508\n",
      "Loop:  1509\n",
      "\u001b[2m\u001b[36m(RolloutWorker pid=15280)\u001b[0m reset triggered\n",
      "\u001b[2m\u001b[36m(RolloutWorker pid=15280)\u001b[0m reload save for track : 4\n"
     ]
    },
    {
     "name": "stderr",
     "output_type": "stream",
     "text": [
      "\u001b[2m\u001b[36m(RolloutWorker pid=15280)\u001b[0m c:\\Users\\nadir\\anaconda3\\envs\\GTAI2\\lib\\site-packages\\rtgym\\envs\\real_time_env.py:376: UserWarning: Time-step timed out. Elapsed since last time-step: 0.1322025003246381\n",
      "\u001b[2m\u001b[36m(RolloutWorker pid=15280)\u001b[0m   warnings.warn(f\"Time-step timed out. Elapsed since last time-step: {now - self.__t_end}\")\n"
     ]
    },
    {
     "name": "stdout",
     "output_type": "stream",
     "text": [
      "Loop:  1510\n",
      "Saved 1510\n",
      "\u001b[2m\u001b[36m(RolloutWorker pid=15280)\u001b[0m reset triggered\n",
      "\u001b[2m\u001b[36m(RolloutWorker pid=15280)\u001b[0m reload save for track : 4\n"
     ]
    },
    {
     "name": "stderr",
     "output_type": "stream",
     "text": [
      "\u001b[2m\u001b[36m(RolloutWorker pid=15280)\u001b[0m c:\\Users\\nadir\\anaconda3\\envs\\GTAI2\\lib\\site-packages\\rtgym\\envs\\real_time_env.py:376: UserWarning: Time-step timed out. Elapsed since last time-step: 0.14748520032662782\n",
      "\u001b[2m\u001b[36m(RolloutWorker pid=15280)\u001b[0m   warnings.warn(f\"Time-step timed out. Elapsed since last time-step: {now - self.__t_end}\")\n"
     ]
    },
    {
     "name": "stdout",
     "output_type": "stream",
     "text": [
      "Loop:  1511\n",
      "Loop:  1512\n",
      "\u001b[2m\u001b[36m(RolloutWorker pid=15280)\u001b[0m reset triggered\n",
      "\u001b[2m\u001b[36m(RolloutWorker pid=15280)\u001b[0m reload save for track : 4\n"
     ]
    },
    {
     "name": "stderr",
     "output_type": "stream",
     "text": [
      "\u001b[2m\u001b[36m(RolloutWorker pid=15280)\u001b[0m c:\\Users\\nadir\\anaconda3\\envs\\GTAI2\\lib\\site-packages\\rtgym\\envs\\real_time_env.py:376: UserWarning: Time-step timed out. Elapsed since last time-step: 0.1435428003242123\n",
      "\u001b[2m\u001b[36m(RolloutWorker pid=15280)\u001b[0m   warnings.warn(f\"Time-step timed out. Elapsed since last time-step: {now - self.__t_end}\")\n"
     ]
    },
    {
     "name": "stdout",
     "output_type": "stream",
     "text": [
      "Loop:  1513\n",
      "\u001b[2m\u001b[36m(RolloutWorker pid=15280)\u001b[0m reset triggered\n",
      "\u001b[2m\u001b[36m(RolloutWorker pid=15280)\u001b[0m reload save for track : 4\n"
     ]
    },
    {
     "name": "stderr",
     "output_type": "stream",
     "text": [
      "\u001b[2m\u001b[36m(RolloutWorker pid=15280)\u001b[0m c:\\Users\\nadir\\anaconda3\\envs\\GTAI2\\lib\\site-packages\\rtgym\\envs\\real_time_env.py:376: UserWarning: Time-step timed out. Elapsed since last time-step: 0.16990890032684547\n",
      "\u001b[2m\u001b[36m(RolloutWorker pid=15280)\u001b[0m   warnings.warn(f\"Time-step timed out. Elapsed since last time-step: {now - self.__t_end}\")\n"
     ]
    },
    {
     "name": "stdout",
     "output_type": "stream",
     "text": [
      "Loop:  1514\n",
      "\u001b[2m\u001b[36m(RolloutWorker pid=15280)\u001b[0m reset triggered\n",
      "\u001b[2m\u001b[36m(RolloutWorker pid=15280)\u001b[0m reload save for track : 4\n"
     ]
    },
    {
     "name": "stderr",
     "output_type": "stream",
     "text": [
      "\u001b[2m\u001b[36m(RolloutWorker pid=15280)\u001b[0m c:\\Users\\nadir\\anaconda3\\envs\\GTAI2\\lib\\site-packages\\rtgym\\envs\\real_time_env.py:376: UserWarning: Time-step timed out. Elapsed since last time-step: 0.15734340032577165\n",
      "\u001b[2m\u001b[36m(RolloutWorker pid=15280)\u001b[0m   warnings.warn(f\"Time-step timed out. Elapsed since last time-step: {now - self.__t_end}\")\n"
     ]
    },
    {
     "name": "stdout",
     "output_type": "stream",
     "text": [
      "Loop:  1515\n",
      "Loop:  1516\n",
      "\u001b[2m\u001b[36m(RolloutWorker pid=15280)\u001b[0m reset triggered\n",
      "\u001b[2m\u001b[36m(RolloutWorker pid=15280)\u001b[0m reload save for track : 4\n"
     ]
    },
    {
     "name": "stderr",
     "output_type": "stream",
     "text": [
      "\u001b[2m\u001b[36m(RolloutWorker pid=15280)\u001b[0m c:\\Users\\nadir\\anaconda3\\envs\\GTAI2\\lib\\site-packages\\rtgym\\envs\\real_time_env.py:376: UserWarning: Time-step timed out. Elapsed since last time-step: 0.1424371003267879\n",
      "\u001b[2m\u001b[36m(RolloutWorker pid=15280)\u001b[0m   warnings.warn(f\"Time-step timed out. Elapsed since last time-step: {now - self.__t_end}\")\n"
     ]
    },
    {
     "name": "stdout",
     "output_type": "stream",
     "text": [
      "Loop:  1517\n",
      "\u001b[2m\u001b[36m(RolloutWorker pid=15280)\u001b[0m reset triggered\n",
      "\u001b[2m\u001b[36m(RolloutWorker pid=15280)\u001b[0m reload save for track : 4\n"
     ]
    },
    {
     "name": "stderr",
     "output_type": "stream",
     "text": [
      "\u001b[2m\u001b[36m(RolloutWorker pid=15280)\u001b[0m c:\\Users\\nadir\\anaconda3\\envs\\GTAI2\\lib\\site-packages\\rtgym\\envs\\real_time_env.py:376: UserWarning: Time-step timed out. Elapsed since last time-step: 0.1476014003274031\n",
      "\u001b[2m\u001b[36m(RolloutWorker pid=15280)\u001b[0m   warnings.warn(f\"Time-step timed out. Elapsed since last time-step: {now - self.__t_end}\")\n"
     ]
    },
    {
     "name": "stdout",
     "output_type": "stream",
     "text": [
      "Loop:  1518\n",
      "Loop:  1519\n",
      "\u001b[2m\u001b[36m(RolloutWorker pid=15280)\u001b[0m reset triggered\n",
      "\u001b[2m\u001b[36m(RolloutWorker pid=15280)\u001b[0m reload save for track : 4\n"
     ]
    },
    {
     "name": "stderr",
     "output_type": "stream",
     "text": [
      "\u001b[2m\u001b[36m(RolloutWorker pid=15280)\u001b[0m c:\\Users\\nadir\\anaconda3\\envs\\GTAI2\\lib\\site-packages\\rtgym\\envs\\real_time_env.py:376: UserWarning: Time-step timed out. Elapsed since last time-step: 0.1602600003243424\n",
      "\u001b[2m\u001b[36m(RolloutWorker pid=15280)\u001b[0m   warnings.warn(f\"Time-step timed out. Elapsed since last time-step: {now - self.__t_end}\")\n"
     ]
    },
    {
     "name": "stdout",
     "output_type": "stream",
     "text": [
      "Loop:  1520\n",
      "Saved 1520\n",
      "\u001b[2m\u001b[36m(RolloutWorker pid=15280)\u001b[0m reset triggered\n",
      "\u001b[2m\u001b[36m(RolloutWorker pid=15280)\u001b[0m reload save for track : 4\n"
     ]
    },
    {
     "name": "stderr",
     "output_type": "stream",
     "text": [
      "\u001b[2m\u001b[36m(RolloutWorker pid=15280)\u001b[0m c:\\Users\\nadir\\anaconda3\\envs\\GTAI2\\lib\\site-packages\\rtgym\\envs\\real_time_env.py:376: UserWarning: Time-step timed out. Elapsed since last time-step: 0.1516369003256841\n",
      "\u001b[2m\u001b[36m(RolloutWorker pid=15280)\u001b[0m   warnings.warn(f\"Time-step timed out. Elapsed since last time-step: {now - self.__t_end}\")\n"
     ]
    },
    {
     "name": "stdout",
     "output_type": "stream",
     "text": [
      "Loop:  1521\n",
      "Loop:  1522\n",
      "\u001b[2m\u001b[36m(RolloutWorker pid=15280)\u001b[0m reset triggered\n",
      "\u001b[2m\u001b[36m(RolloutWorker pid=15280)\u001b[0m reload save for track : 4\n"
     ]
    },
    {
     "name": "stderr",
     "output_type": "stream",
     "text": [
      "\u001b[2m\u001b[36m(RolloutWorker pid=15280)\u001b[0m c:\\Users\\nadir\\anaconda3\\envs\\GTAI2\\lib\\site-packages\\rtgym\\envs\\real_time_env.py:376: UserWarning: Time-step timed out. Elapsed since last time-step: 0.15057640032682684\n",
      "\u001b[2m\u001b[36m(RolloutWorker pid=15280)\u001b[0m   warnings.warn(f\"Time-step timed out. Elapsed since last time-step: {now - self.__t_end}\")\n"
     ]
    },
    {
     "name": "stdout",
     "output_type": "stream",
     "text": [
      "Loop:  1523\n",
      "\u001b[2m\u001b[36m(RolloutWorker pid=15280)\u001b[0m reset triggered\n",
      "\u001b[2m\u001b[36m(RolloutWorker pid=15280)\u001b[0m reload save for track : 4\n"
     ]
    },
    {
     "name": "stderr",
     "output_type": "stream",
     "text": [
      "\u001b[2m\u001b[36m(RolloutWorker pid=15280)\u001b[0m c:\\Users\\nadir\\anaconda3\\envs\\GTAI2\\lib\\site-packages\\rtgym\\envs\\real_time_env.py:376: UserWarning: Time-step timed out. Elapsed since last time-step: 0.14744700032679248\n",
      "\u001b[2m\u001b[36m(RolloutWorker pid=15280)\u001b[0m   warnings.warn(f\"Time-step timed out. Elapsed since last time-step: {now - self.__t_end}\")\n"
     ]
    },
    {
     "name": "stdout",
     "output_type": "stream",
     "text": [
      "Loop:  1524\n",
      "Loop:  1525\n",
      "\u001b[2m\u001b[36m(RolloutWorker pid=15280)\u001b[0m reset triggered\n",
      "\u001b[2m\u001b[36m(RolloutWorker pid=15280)\u001b[0m reload save for track : 4\n"
     ]
    },
    {
     "name": "stderr",
     "output_type": "stream",
     "text": [
      "\u001b[2m\u001b[36m(RolloutWorker pid=15280)\u001b[0m c:\\Users\\nadir\\anaconda3\\envs\\GTAI2\\lib\\site-packages\\rtgym\\envs\\real_time_env.py:376: UserWarning: Time-step timed out. Elapsed since last time-step: 0.14261850032562506\n",
      "\u001b[2m\u001b[36m(RolloutWorker pid=15280)\u001b[0m   warnings.warn(f\"Time-step timed out. Elapsed since last time-step: {now - self.__t_end}\")\n"
     ]
    },
    {
     "name": "stdout",
     "output_type": "stream",
     "text": [
      "Loop:  1526\n",
      "\u001b[2m\u001b[36m(RolloutWorker pid=15280)\u001b[0m reset triggered\n",
      "\u001b[2m\u001b[36m(RolloutWorker pid=15280)\u001b[0m reload save for track : 4\n"
     ]
    },
    {
     "name": "stderr",
     "output_type": "stream",
     "text": [
      "\u001b[2m\u001b[36m(RolloutWorker pid=15280)\u001b[0m c:\\Users\\nadir\\anaconda3\\envs\\GTAI2\\lib\\site-packages\\rtgym\\envs\\real_time_env.py:376: UserWarning: Time-step timed out. Elapsed since last time-step: 0.15753160032545566\n",
      "\u001b[2m\u001b[36m(RolloutWorker pid=15280)\u001b[0m   warnings.warn(f\"Time-step timed out. Elapsed since last time-step: {now - self.__t_end}\")\n"
     ]
    },
    {
     "name": "stdout",
     "output_type": "stream",
     "text": [
      "Loop:  1527\n",
      "\u001b[2m\u001b[36m(RolloutWorker pid=15280)\u001b[0m reset triggered\n",
      "\u001b[2m\u001b[36m(RolloutWorker pid=15280)\u001b[0m reload save for track : 4\n"
     ]
    },
    {
     "name": "stderr",
     "output_type": "stream",
     "text": [
      "\u001b[2m\u001b[36m(RolloutWorker pid=15280)\u001b[0m c:\\Users\\nadir\\anaconda3\\envs\\GTAI2\\lib\\site-packages\\rtgym\\envs\\real_time_env.py:376: UserWarning: Time-step timed out. Elapsed since last time-step: 0.13266190032663872\n",
      "\u001b[2m\u001b[36m(RolloutWorker pid=15280)\u001b[0m   warnings.warn(f\"Time-step timed out. Elapsed since last time-step: {now - self.__t_end}\")\n"
     ]
    },
    {
     "name": "stdout",
     "output_type": "stream",
     "text": [
      "Loop:  1528\n",
      "Loop:  1529\n",
      "\u001b[2m\u001b[36m(RolloutWorker pid=15280)\u001b[0m reset triggered\n",
      "\u001b[2m\u001b[36m(RolloutWorker pid=15280)\u001b[0m reload save for track : 4\n"
     ]
    },
    {
     "name": "stderr",
     "output_type": "stream",
     "text": [
      "\u001b[2m\u001b[36m(RolloutWorker pid=15280)\u001b[0m c:\\Users\\nadir\\anaconda3\\envs\\GTAI2\\lib\\site-packages\\rtgym\\envs\\real_time_env.py:376: UserWarning: Time-step timed out. Elapsed since last time-step: 0.1497348003249499\n",
      "\u001b[2m\u001b[36m(RolloutWorker pid=15280)\u001b[0m   warnings.warn(f\"Time-step timed out. Elapsed since last time-step: {now - self.__t_end}\")\n"
     ]
    },
    {
     "name": "stdout",
     "output_type": "stream",
     "text": [
      "Loop:  1530\n",
      "Saved 1530\n"
     ]
    },
    {
     "name": "stderr",
     "output_type": "stream",
     "text": [
      "\u001b[2m\u001b[36m(RolloutWorker pid=15280)\u001b[0m c:\\Users\\nadir\\anaconda3\\envs\\GTAI2\\lib\\site-packages\\rtgym\\envs\\real_time_env.py:376: UserWarning: Time-step timed out. Elapsed since last time-step: 0.10183540025172988\n",
      "\u001b[2m\u001b[36m(RolloutWorker pid=15280)\u001b[0m   warnings.warn(f\"Time-step timed out. Elapsed since last time-step: {now - self.__t_end}\")\n"
     ]
    },
    {
     "name": "stdout",
     "output_type": "stream",
     "text": [
      "\u001b[2m\u001b[36m(RolloutWorker pid=15280)\u001b[0m reset triggered\n",
      "\u001b[2m\u001b[36m(RolloutWorker pid=15280)\u001b[0m reload save for track : 4\n"
     ]
    },
    {
     "name": "stderr",
     "output_type": "stream",
     "text": [
      "\u001b[2m\u001b[36m(RolloutWorker pid=15280)\u001b[0m c:\\Users\\nadir\\anaconda3\\envs\\GTAI2\\lib\\site-packages\\rtgym\\envs\\real_time_env.py:376: UserWarning: Time-step timed out. Elapsed since last time-step: 0.1564325000726967\n",
      "\u001b[2m\u001b[36m(RolloutWorker pid=15280)\u001b[0m   warnings.warn(f\"Time-step timed out. Elapsed since last time-step: {now - self.__t_end}\")\n"
     ]
    },
    {
     "name": "stdout",
     "output_type": "stream",
     "text": [
      "Loop:  1531\n",
      "Loop:  1532\n",
      "\u001b[2m\u001b[36m(RolloutWorker pid=15280)\u001b[0m reset triggered\n",
      "\u001b[2m\u001b[36m(RolloutWorker pid=15280)\u001b[0m reload save for track : 4\n"
     ]
    },
    {
     "name": "stderr",
     "output_type": "stream",
     "text": [
      "\u001b[2m\u001b[36m(RolloutWorker pid=15280)\u001b[0m c:\\Users\\nadir\\anaconda3\\envs\\GTAI2\\lib\\site-packages\\rtgym\\envs\\real_time_env.py:376: UserWarning: Time-step timed out. Elapsed since last time-step: 0.12231700032862136\n",
      "\u001b[2m\u001b[36m(RolloutWorker pid=15280)\u001b[0m   warnings.warn(f\"Time-step timed out. Elapsed since last time-step: {now - self.__t_end}\")\n"
     ]
    },
    {
     "name": "stdout",
     "output_type": "stream",
     "text": [
      "Loop:  1533\n",
      "\u001b[2m\u001b[36m(RolloutWorker pid=15280)\u001b[0m reset triggered\n",
      "\u001b[2m\u001b[36m(RolloutWorker pid=15280)\u001b[0m reload save for track : 4\n"
     ]
    },
    {
     "name": "stderr",
     "output_type": "stream",
     "text": [
      "\u001b[2m\u001b[36m(RolloutWorker pid=15280)\u001b[0m c:\\Users\\nadir\\anaconda3\\envs\\GTAI2\\lib\\site-packages\\rtgym\\envs\\real_time_env.py:376: UserWarning: Time-step timed out. Elapsed since last time-step: 0.1373291003255872\n",
      "\u001b[2m\u001b[36m(RolloutWorker pid=15280)\u001b[0m   warnings.warn(f\"Time-step timed out. Elapsed since last time-step: {now - self.__t_end}\")\n"
     ]
    },
    {
     "name": "stdout",
     "output_type": "stream",
     "text": [
      "Loop:  1534\n",
      "Loop:  1535\n",
      "\u001b[2m\u001b[36m(RolloutWorker pid=15280)\u001b[0m reset triggered\n",
      "\u001b[2m\u001b[36m(RolloutWorker pid=15280)\u001b[0m reload save for track : 4\n"
     ]
    },
    {
     "name": "stderr",
     "output_type": "stream",
     "text": [
      "\u001b[2m\u001b[36m(RolloutWorker pid=15280)\u001b[0m c:\\Users\\nadir\\anaconda3\\envs\\GTAI2\\lib\\site-packages\\rtgym\\envs\\real_time_env.py:376: UserWarning: Time-step timed out. Elapsed since last time-step: 0.1419082003267249\n",
      "\u001b[2m\u001b[36m(RolloutWorker pid=15280)\u001b[0m   warnings.warn(f\"Time-step timed out. Elapsed since last time-step: {now - self.__t_end}\")\n"
     ]
    },
    {
     "name": "stdout",
     "output_type": "stream",
     "text": [
      "Loop:  1536\n",
      "\u001b[2m\u001b[36m(RolloutWorker pid=15280)\u001b[0m reset triggered\n",
      "\u001b[2m\u001b[36m(RolloutWorker pid=15280)\u001b[0m reload save for track : 4\n"
     ]
    },
    {
     "name": "stderr",
     "output_type": "stream",
     "text": [
      "\u001b[2m\u001b[36m(RolloutWorker pid=15280)\u001b[0m c:\\Users\\nadir\\anaconda3\\envs\\GTAI2\\lib\\site-packages\\rtgym\\envs\\real_time_env.py:376: UserWarning: Time-step timed out. Elapsed since last time-step: 0.14836150032351725\n",
      "\u001b[2m\u001b[36m(RolloutWorker pid=15280)\u001b[0m   warnings.warn(f\"Time-step timed out. Elapsed since last time-step: {now - self.__t_end}\")\n"
     ]
    },
    {
     "name": "stdout",
     "output_type": "stream",
     "text": [
      "Loop:  1537\n",
      "Loop:  1538\n",
      "\u001b[2m\u001b[36m(RolloutWorker pid=15280)\u001b[0m reset triggered\n",
      "\u001b[2m\u001b[36m(RolloutWorker pid=15280)\u001b[0m reload save for track : 4\n"
     ]
    },
    {
     "name": "stderr",
     "output_type": "stream",
     "text": [
      "\u001b[2m\u001b[36m(RolloutWorker pid=15280)\u001b[0m c:\\Users\\nadir\\anaconda3\\envs\\GTAI2\\lib\\site-packages\\rtgym\\envs\\real_time_env.py:376: UserWarning: Time-step timed out. Elapsed since last time-step: 0.17001500032711192\n",
      "\u001b[2m\u001b[36m(RolloutWorker pid=15280)\u001b[0m   warnings.warn(f\"Time-step timed out. Elapsed since last time-step: {now - self.__t_end}\")\n"
     ]
    },
    {
     "name": "stdout",
     "output_type": "stream",
     "text": [
      "Loop:  1539\n",
      "\u001b[2m\u001b[36m(RolloutWorker pid=15280)\u001b[0m reset triggered\n",
      "\u001b[2m\u001b[36m(RolloutWorker pid=15280)\u001b[0m reload save for track : 4\n"
     ]
    },
    {
     "name": "stderr",
     "output_type": "stream",
     "text": [
      "\u001b[2m\u001b[36m(RolloutWorker pid=15280)\u001b[0m c:\\Users\\nadir\\anaconda3\\envs\\GTAI2\\lib\\site-packages\\rtgym\\envs\\real_time_env.py:376: UserWarning: Time-step timed out. Elapsed since last time-step: 0.12175290032610064\n",
      "\u001b[2m\u001b[36m(RolloutWorker pid=15280)\u001b[0m   warnings.warn(f\"Time-step timed out. Elapsed since last time-step: {now - self.__t_end}\")\n"
     ]
    },
    {
     "name": "stdout",
     "output_type": "stream",
     "text": [
      "Loop:  1540\n",
      "Saved 1540\n",
      "\u001b[2m\u001b[36m(RolloutWorker pid=15280)\u001b[0m reset triggered\n",
      "\u001b[2m\u001b[36m(RolloutWorker pid=15280)\u001b[0m reload save for track : 4\n"
     ]
    },
    {
     "name": "stderr",
     "output_type": "stream",
     "text": [
      "\u001b[2m\u001b[36m(RolloutWorker pid=15280)\u001b[0m c:\\Users\\nadir\\anaconda3\\envs\\GTAI2\\lib\\site-packages\\rtgym\\envs\\real_time_env.py:376: UserWarning: Time-step timed out. Elapsed since last time-step: 0.14809300032720785\n",
      "\u001b[2m\u001b[36m(RolloutWorker pid=15280)\u001b[0m   warnings.warn(f\"Time-step timed out. Elapsed since last time-step: {now - self.__t_end}\")\n"
     ]
    },
    {
     "name": "stdout",
     "output_type": "stream",
     "text": [
      "Loop:  1541\n",
      "Loop:  1542\n",
      "\u001b[2m\u001b[36m(RolloutWorker pid=15280)\u001b[0m reset triggered\n",
      "\u001b[2m\u001b[36m(RolloutWorker pid=15280)\u001b[0m reload save for track : 4\n"
     ]
    },
    {
     "name": "stderr",
     "output_type": "stream",
     "text": [
      "\u001b[2m\u001b[36m(RolloutWorker pid=15280)\u001b[0m c:\\Users\\nadir\\anaconda3\\envs\\GTAI2\\lib\\site-packages\\rtgym\\envs\\real_time_env.py:376: UserWarning: Time-step timed out. Elapsed since last time-step: 0.15027610032484517\n",
      "\u001b[2m\u001b[36m(RolloutWorker pid=15280)\u001b[0m   warnings.warn(f\"Time-step timed out. Elapsed since last time-step: {now - self.__t_end}\")\n"
     ]
    },
    {
     "name": "stdout",
     "output_type": "stream",
     "text": [
      "Loop:  1543\n",
      "\u001b[2m\u001b[36m(RolloutWorker pid=15280)\u001b[0m reset triggered\n",
      "\u001b[2m\u001b[36m(RolloutWorker pid=15280)\u001b[0m reload save for track : 4\n"
     ]
    },
    {
     "name": "stderr",
     "output_type": "stream",
     "text": [
      "\u001b[2m\u001b[36m(RolloutWorker pid=15280)\u001b[0m c:\\Users\\nadir\\anaconda3\\envs\\GTAI2\\lib\\site-packages\\rtgym\\envs\\real_time_env.py:376: UserWarning: Time-step timed out. Elapsed since last time-step: 0.16201530032412848\n",
      "\u001b[2m\u001b[36m(RolloutWorker pid=15280)\u001b[0m   warnings.warn(f\"Time-step timed out. Elapsed since last time-step: {now - self.__t_end}\")\n"
     ]
    },
    {
     "name": "stdout",
     "output_type": "stream",
     "text": [
      "Loop:  1544\n",
      "Loop:  1545\n",
      "\u001b[2m\u001b[36m(RolloutWorker pid=15280)\u001b[0m reset triggered\n",
      "\u001b[2m\u001b[36m(RolloutWorker pid=15280)\u001b[0m reload save for track : 4\n"
     ]
    },
    {
     "name": "stderr",
     "output_type": "stream",
     "text": [
      "\u001b[2m\u001b[36m(RolloutWorker pid=15280)\u001b[0m c:\\Users\\nadir\\anaconda3\\envs\\GTAI2\\lib\\site-packages\\rtgym\\envs\\real_time_env.py:376: UserWarning: Time-step timed out. Elapsed since last time-step: 0.1377613003278384\n",
      "\u001b[2m\u001b[36m(RolloutWorker pid=15280)\u001b[0m   warnings.warn(f\"Time-step timed out. Elapsed since last time-step: {now - self.__t_end}\")\n"
     ]
    },
    {
     "name": "stdout",
     "output_type": "stream",
     "text": [
      "Loop:  1546\n",
      "\u001b[2m\u001b[36m(RolloutWorker pid=15280)\u001b[0m reset triggered\n",
      "\u001b[2m\u001b[36m(RolloutWorker pid=15280)\u001b[0m reload save for track : 4\n"
     ]
    },
    {
     "name": "stderr",
     "output_type": "stream",
     "text": [
      "\u001b[2m\u001b[36m(RolloutWorker pid=15280)\u001b[0m c:\\Users\\nadir\\anaconda3\\envs\\GTAI2\\lib\\site-packages\\rtgym\\envs\\real_time_env.py:376: UserWarning: Time-step timed out. Elapsed since last time-step: 0.14213870032472187\n",
      "\u001b[2m\u001b[36m(RolloutWorker pid=15280)\u001b[0m   warnings.warn(f\"Time-step timed out. Elapsed since last time-step: {now - self.__t_end}\")\n"
     ]
    },
    {
     "name": "stdout",
     "output_type": "stream",
     "text": [
      "Loop:  1547\n",
      "Loop:  1548\n",
      "\u001b[2m\u001b[36m(RolloutWorker pid=15280)\u001b[0m reset triggered\n",
      "\u001b[2m\u001b[36m(RolloutWorker pid=15280)\u001b[0m reload save for track : 4\n"
     ]
    },
    {
     "name": "stderr",
     "output_type": "stream",
     "text": [
      "\u001b[2m\u001b[36m(RolloutWorker pid=15280)\u001b[0m c:\\Users\\nadir\\anaconda3\\envs\\GTAI2\\lib\\site-packages\\rtgym\\envs\\real_time_env.py:376: UserWarning: Time-step timed out. Elapsed since last time-step: 0.15843710032640956\n",
      "\u001b[2m\u001b[36m(RolloutWorker pid=15280)\u001b[0m   warnings.warn(f\"Time-step timed out. Elapsed since last time-step: {now - self.__t_end}\")\n"
     ]
    },
    {
     "name": "stdout",
     "output_type": "stream",
     "text": [
      "Loop:  1549\n",
      "\u001b[2m\u001b[36m(RolloutWorker pid=15280)\u001b[0m reset triggered\n",
      "\u001b[2m\u001b[36m(RolloutWorker pid=15280)\u001b[0m reload save for track : 4\n"
     ]
    },
    {
     "name": "stderr",
     "output_type": "stream",
     "text": [
      "\u001b[2m\u001b[36m(RolloutWorker pid=15280)\u001b[0m c:\\Users\\nadir\\anaconda3\\envs\\GTAI2\\lib\\site-packages\\rtgym\\envs\\real_time_env.py:376: UserWarning: Time-step timed out. Elapsed since last time-step: 0.12134040032469784\n",
      "\u001b[2m\u001b[36m(RolloutWorker pid=15280)\u001b[0m   warnings.warn(f\"Time-step timed out. Elapsed since last time-step: {now - self.__t_end}\")\n"
     ]
    },
    {
     "name": "stdout",
     "output_type": "stream",
     "text": [
      "Loop:  1550\n",
      "Saved 1550\n",
      "Loop:  1551\n",
      "\u001b[2m\u001b[36m(RolloutWorker pid=15280)\u001b[0m reset triggered\n",
      "\u001b[2m\u001b[36m(RolloutWorker pid=15280)\u001b[0m reload save for track : 4\n"
     ]
    },
    {
     "name": "stderr",
     "output_type": "stream",
     "text": [
      "\u001b[2m\u001b[36m(RolloutWorker pid=15280)\u001b[0m c:\\Users\\nadir\\anaconda3\\envs\\GTAI2\\lib\\site-packages\\rtgym\\envs\\real_time_env.py:376: UserWarning: Time-step timed out. Elapsed since last time-step: 0.16110260032655788\n",
      "\u001b[2m\u001b[36m(RolloutWorker pid=15280)\u001b[0m   warnings.warn(f\"Time-step timed out. Elapsed since last time-step: {now - self.__t_end}\")\n"
     ]
    },
    {
     "name": "stdout",
     "output_type": "stream",
     "text": [
      "Loop:  1552\n",
      "\u001b[2m\u001b[36m(RolloutWorker pid=15280)\u001b[0m reset triggered\n",
      "\u001b[2m\u001b[36m(RolloutWorker pid=15280)\u001b[0m reload save for track : 4\n"
     ]
    },
    {
     "name": "stderr",
     "output_type": "stream",
     "text": [
      "\u001b[2m\u001b[36m(RolloutWorker pid=15280)\u001b[0m c:\\Users\\nadir\\anaconda3\\envs\\GTAI2\\lib\\site-packages\\rtgym\\envs\\real_time_env.py:376: UserWarning: Time-step timed out. Elapsed since last time-step: 0.1300933003258251\n",
      "\u001b[2m\u001b[36m(RolloutWorker pid=15280)\u001b[0m   warnings.warn(f\"Time-step timed out. Elapsed since last time-step: {now - self.__t_end}\")\n"
     ]
    },
    {
     "name": "stdout",
     "output_type": "stream",
     "text": [
      "Loop:  1553\n",
      "\u001b[2m\u001b[36m(RolloutWorker pid=15280)\u001b[0m reset triggered\n",
      "\u001b[2m\u001b[36m(RolloutWorker pid=15280)\u001b[0m reload save for track : 4\n"
     ]
    },
    {
     "name": "stderr",
     "output_type": "stream",
     "text": [
      "\u001b[2m\u001b[36m(RolloutWorker pid=15280)\u001b[0m c:\\Users\\nadir\\anaconda3\\envs\\GTAI2\\lib\\site-packages\\rtgym\\envs\\real_time_env.py:376: UserWarning: Time-step timed out. Elapsed since last time-step: 0.16036370032816194\n",
      "\u001b[2m\u001b[36m(RolloutWorker pid=15280)\u001b[0m   warnings.warn(f\"Time-step timed out. Elapsed since last time-step: {now - self.__t_end}\")\n"
     ]
    },
    {
     "name": "stdout",
     "output_type": "stream",
     "text": [
      "Loop:  1554\n",
      "Loop:  1555\n",
      "\u001b[2m\u001b[36m(RolloutWorker pid=15280)\u001b[0m reset triggered\n",
      "\u001b[2m\u001b[36m(RolloutWorker pid=15280)\u001b[0m reload save for track : 4\n"
     ]
    },
    {
     "name": "stderr",
     "output_type": "stream",
     "text": [
      "\u001b[2m\u001b[36m(RolloutWorker pid=15280)\u001b[0m c:\\Users\\nadir\\anaconda3\\envs\\GTAI2\\lib\\site-packages\\rtgym\\envs\\real_time_env.py:376: UserWarning: Time-step timed out. Elapsed since last time-step: 0.15701420032564783\n",
      "\u001b[2m\u001b[36m(RolloutWorker pid=15280)\u001b[0m   warnings.warn(f\"Time-step timed out. Elapsed since last time-step: {now - self.__t_end}\")\n"
     ]
    },
    {
     "name": "stdout",
     "output_type": "stream",
     "text": [
      "Loop:  1556\n",
      "\u001b[2m\u001b[36m(RolloutWorker pid=15280)\u001b[0m reset triggered\n",
      "\u001b[2m\u001b[36m(RolloutWorker pid=15280)\u001b[0m reload save for track : 4\n"
     ]
    },
    {
     "name": "stderr",
     "output_type": "stream",
     "text": [
      "\u001b[2m\u001b[36m(RolloutWorker pid=15280)\u001b[0m c:\\Users\\nadir\\anaconda3\\envs\\GTAI2\\lib\\site-packages\\rtgym\\envs\\real_time_env.py:376: UserWarning: Time-step timed out. Elapsed since last time-step: 0.1792510003251664\n",
      "\u001b[2m\u001b[36m(RolloutWorker pid=15280)\u001b[0m   warnings.warn(f\"Time-step timed out. Elapsed since last time-step: {now - self.__t_end}\")\n"
     ]
    },
    {
     "name": "stdout",
     "output_type": "stream",
     "text": [
      "Loop:  1557\n",
      "Loop:  1558\n",
      "\u001b[2m\u001b[36m(RolloutWorker pid=15280)\u001b[0m reset triggered\n",
      "\u001b[2m\u001b[36m(RolloutWorker pid=15280)\u001b[0m reload save for track : 4\n"
     ]
    },
    {
     "name": "stderr",
     "output_type": "stream",
     "text": [
      "\u001b[2m\u001b[36m(RolloutWorker pid=15280)\u001b[0m c:\\Users\\nadir\\anaconda3\\envs\\GTAI2\\lib\\site-packages\\rtgym\\envs\\real_time_env.py:376: UserWarning: Time-step timed out. Elapsed since last time-step: 0.17028490032680565\n",
      "\u001b[2m\u001b[36m(RolloutWorker pid=15280)\u001b[0m   warnings.warn(f\"Time-step timed out. Elapsed since last time-step: {now - self.__t_end}\")\n"
     ]
    },
    {
     "name": "stdout",
     "output_type": "stream",
     "text": [
      "Loop:  1559\n",
      "\u001b[2m\u001b[36m(RolloutWorker pid=15280)\u001b[0m reset triggered\n",
      "\u001b[2m\u001b[36m(RolloutWorker pid=15280)\u001b[0m reload save for track : 4\n"
     ]
    },
    {
     "name": "stderr",
     "output_type": "stream",
     "text": [
      "\u001b[2m\u001b[36m(RolloutWorker pid=15280)\u001b[0m c:\\Users\\nadir\\anaconda3\\envs\\GTAI2\\lib\\site-packages\\rtgym\\envs\\real_time_env.py:376: UserWarning: Time-step timed out. Elapsed since last time-step: 0.14362240032642148\n",
      "\u001b[2m\u001b[36m(RolloutWorker pid=15280)\u001b[0m   warnings.warn(f\"Time-step timed out. Elapsed since last time-step: {now - self.__t_end}\")\n"
     ]
    },
    {
     "name": "stdout",
     "output_type": "stream",
     "text": [
      "Loop:  1560\n",
      "Saved 1560\n",
      "Loop:  1561\n",
      "\u001b[2m\u001b[36m(RolloutWorker pid=15280)\u001b[0m reset triggered\n",
      "\u001b[2m\u001b[36m(RolloutWorker pid=15280)\u001b[0m reload save for track : 4\n"
     ]
    },
    {
     "name": "stderr",
     "output_type": "stream",
     "text": [
      "\u001b[2m\u001b[36m(RolloutWorker pid=15280)\u001b[0m c:\\Users\\nadir\\anaconda3\\envs\\GTAI2\\lib\\site-packages\\rtgym\\envs\\real_time_env.py:376: UserWarning: Time-step timed out. Elapsed since last time-step: 0.13626990032571484\n",
      "\u001b[2m\u001b[36m(RolloutWorker pid=15280)\u001b[0m   warnings.warn(f\"Time-step timed out. Elapsed since last time-step: {now - self.__t_end}\")\n"
     ]
    },
    {
     "name": "stdout",
     "output_type": "stream",
     "text": [
      "Loop:  1562\n",
      "\u001b[2m\u001b[36m(RolloutWorker pid=15280)\u001b[0m reset triggered\n",
      "\u001b[2m\u001b[36m(RolloutWorker pid=15280)\u001b[0m reload save for track : 4\n"
     ]
    },
    {
     "name": "stderr",
     "output_type": "stream",
     "text": [
      "\u001b[2m\u001b[36m(RolloutWorker pid=15280)\u001b[0m c:\\Users\\nadir\\anaconda3\\envs\\GTAI2\\lib\\site-packages\\rtgym\\envs\\real_time_env.py:376: UserWarning: Time-step timed out. Elapsed since last time-step: 0.1341375003248686\n",
      "\u001b[2m\u001b[36m(RolloutWorker pid=15280)\u001b[0m   warnings.warn(f\"Time-step timed out. Elapsed since last time-step: {now - self.__t_end}\")\n"
     ]
    },
    {
     "name": "stdout",
     "output_type": "stream",
     "text": [
      "Loop:  1563\n",
      "Loop:  1564\n",
      "\u001b[2m\u001b[36m(RolloutWorker pid=15280)\u001b[0m reset triggered\n",
      "\u001b[2m\u001b[36m(RolloutWorker pid=15280)\u001b[0m reload save for track : 4\n"
     ]
    },
    {
     "name": "stderr",
     "output_type": "stream",
     "text": [
      "\u001b[2m\u001b[36m(RolloutWorker pid=15280)\u001b[0m c:\\Users\\nadir\\anaconda3\\envs\\GTAI2\\lib\\site-packages\\rtgym\\envs\\real_time_env.py:376: UserWarning: Time-step timed out. Elapsed since last time-step: 0.15673170032459893\n",
      "\u001b[2m\u001b[36m(RolloutWorker pid=15280)\u001b[0m   warnings.warn(f\"Time-step timed out. Elapsed since last time-step: {now - self.__t_end}\")\n"
     ]
    },
    {
     "name": "stdout",
     "output_type": "stream",
     "text": [
      "Loop:  1565\n",
      "\u001b[2m\u001b[36m(RolloutWorker pid=15280)\u001b[0m reset triggered\n",
      "\u001b[2m\u001b[36m(RolloutWorker pid=15280)\u001b[0m reload save for track : 4\n"
     ]
    },
    {
     "name": "stderr",
     "output_type": "stream",
     "text": [
      "\u001b[2m\u001b[36m(RolloutWorker pid=15280)\u001b[0m c:\\Users\\nadir\\anaconda3\\envs\\GTAI2\\lib\\site-packages\\rtgym\\envs\\real_time_env.py:376: UserWarning: Time-step timed out. Elapsed since last time-step: 0.16957940032807528\n",
      "\u001b[2m\u001b[36m(RolloutWorker pid=15280)\u001b[0m   warnings.warn(f\"Time-step timed out. Elapsed since last time-step: {now - self.__t_end}\")\n"
     ]
    },
    {
     "name": "stdout",
     "output_type": "stream",
     "text": [
      "Loop:  1566\n",
      "\u001b[2m\u001b[36m(RolloutWorker pid=15280)\u001b[0m reset triggered\n",
      "\u001b[2m\u001b[36m(RolloutWorker pid=15280)\u001b[0m reload save for track : 4\n",
      "Loop:  1567\n"
     ]
    },
    {
     "name": "stderr",
     "output_type": "stream",
     "text": [
      "\u001b[2m\u001b[36m(RolloutWorker pid=15280)\u001b[0m c:\\Users\\nadir\\anaconda3\\envs\\GTAI2\\lib\\site-packages\\rtgym\\envs\\real_time_env.py:376: UserWarning: Time-step timed out. Elapsed since last time-step: 0.1333544003246061\n",
      "\u001b[2m\u001b[36m(RolloutWorker pid=15280)\u001b[0m   warnings.warn(f\"Time-step timed out. Elapsed since last time-step: {now - self.__t_end}\")\n"
     ]
    },
    {
     "name": "stdout",
     "output_type": "stream",
     "text": [
      "Loop:  1568\n",
      "\u001b[2m\u001b[36m(RolloutWorker pid=15280)\u001b[0m reset triggered\n",
      "\u001b[2m\u001b[36m(RolloutWorker pid=15280)\u001b[0m reload save for track : 4\n"
     ]
    },
    {
     "name": "stderr",
     "output_type": "stream",
     "text": [
      "\u001b[2m\u001b[36m(RolloutWorker pid=15280)\u001b[0m c:\\Users\\nadir\\anaconda3\\envs\\GTAI2\\lib\\site-packages\\rtgym\\envs\\real_time_env.py:376: UserWarning: Time-step timed out. Elapsed since last time-step: 0.14755820032587508\n",
      "\u001b[2m\u001b[36m(RolloutWorker pid=15280)\u001b[0m   warnings.warn(f\"Time-step timed out. Elapsed since last time-step: {now - self.__t_end}\")\n",
      "\u001b[2m\u001b[36m(RolloutWorker pid=15280)\u001b[0m c:\\Users\\nadir\\anaconda3\\envs\\GTAI2\\lib\\site-packages\\rtgym\\envs\\real_time_env.py:376: UserWarning: Time-step timed out. Elapsed since last time-step: 0.10951440012286184\n",
      "\u001b[2m\u001b[36m(RolloutWorker pid=15280)\u001b[0m   warnings.warn(f\"Time-step timed out. Elapsed since last time-step: {now - self.__t_end}\")\n"
     ]
    },
    {
     "name": "stdout",
     "output_type": "stream",
     "text": [
      "Loop:  1569\n",
      "\u001b[2m\u001b[36m(RolloutWorker pid=15280)\u001b[0m reset triggered\n",
      "\u001b[2m\u001b[36m(RolloutWorker pid=15280)\u001b[0m reload save for track : 4\n"
     ]
    },
    {
     "name": "stderr",
     "output_type": "stream",
     "text": [
      "\u001b[2m\u001b[36m(RolloutWorker pid=15280)\u001b[0m c:\\Users\\nadir\\anaconda3\\envs\\GTAI2\\lib\\site-packages\\rtgym\\envs\\real_time_env.py:376: UserWarning: Time-step timed out. Elapsed since last time-step: 0.15251600020565093\n",
      "\u001b[2m\u001b[36m(RolloutWorker pid=15280)\u001b[0m   warnings.warn(f\"Time-step timed out. Elapsed since last time-step: {now - self.__t_end}\")\n"
     ]
    },
    {
     "name": "stdout",
     "output_type": "stream",
     "text": [
      "Loop:  1570\n",
      "Saved 1570\n",
      "Loop:  1571\n",
      "\u001b[2m\u001b[36m(RolloutWorker pid=15280)\u001b[0m reset triggered\n",
      "\u001b[2m\u001b[36m(RolloutWorker pid=15280)\u001b[0m reload save for track : 4\n"
     ]
    },
    {
     "name": "stderr",
     "output_type": "stream",
     "text": [
      "\u001b[2m\u001b[36m(RolloutWorker pid=15280)\u001b[0m c:\\Users\\nadir\\anaconda3\\envs\\GTAI2\\lib\\site-packages\\rtgym\\envs\\real_time_env.py:376: UserWarning: Time-step timed out. Elapsed since last time-step: 0.15052490032394417\n",
      "\u001b[2m\u001b[36m(RolloutWorker pid=15280)\u001b[0m   warnings.warn(f\"Time-step timed out. Elapsed since last time-step: {now - self.__t_end}\")\n"
     ]
    },
    {
     "name": "stdout",
     "output_type": "stream",
     "text": [
      "Loop:  1572\n",
      "\u001b[2m\u001b[36m(RolloutWorker pid=15280)\u001b[0m reset triggered\n",
      "\u001b[2m\u001b[36m(RolloutWorker pid=15280)\u001b[0m reload save for track : 4\n"
     ]
    },
    {
     "name": "stderr",
     "output_type": "stream",
     "text": [
      "\u001b[2m\u001b[36m(RolloutWorker pid=15280)\u001b[0m c:\\Users\\nadir\\anaconda3\\envs\\GTAI2\\lib\\site-packages\\rtgym\\envs\\real_time_env.py:376: UserWarning: Time-step timed out. Elapsed since last time-step: 0.14719310032523936\n",
      "\u001b[2m\u001b[36m(RolloutWorker pid=15280)\u001b[0m   warnings.warn(f\"Time-step timed out. Elapsed since last time-step: {now - self.__t_end}\")\n"
     ]
    },
    {
     "name": "stdout",
     "output_type": "stream",
     "text": [
      "Loop:  1573\n",
      "Loop:  1574\n",
      "\u001b[2m\u001b[36m(RolloutWorker pid=15280)\u001b[0m reset triggered\n",
      "\u001b[2m\u001b[36m(RolloutWorker pid=15280)\u001b[0m reload save for track : 4\n"
     ]
    },
    {
     "name": "stderr",
     "output_type": "stream",
     "text": [
      "\u001b[2m\u001b[36m(RolloutWorker pid=15280)\u001b[0m c:\\Users\\nadir\\anaconda3\\envs\\GTAI2\\lib\\site-packages\\rtgym\\envs\\real_time_env.py:376: UserWarning: Time-step timed out. Elapsed since last time-step: 0.17014910032594344\n",
      "\u001b[2m\u001b[36m(RolloutWorker pid=15280)\u001b[0m   warnings.warn(f\"Time-step timed out. Elapsed since last time-step: {now - self.__t_end}\")\n"
     ]
    },
    {
     "name": "stdout",
     "output_type": "stream",
     "text": [
      "Loop:  1575\n",
      "\u001b[2m\u001b[36m(RolloutWorker pid=15280)\u001b[0m reset triggered\n",
      "\u001b[2m\u001b[36m(RolloutWorker pid=15280)\u001b[0m reload save for track : 4\n"
     ]
    },
    {
     "name": "stderr",
     "output_type": "stream",
     "text": [
      "\u001b[2m\u001b[36m(RolloutWorker pid=15280)\u001b[0m c:\\Users\\nadir\\anaconda3\\envs\\GTAI2\\lib\\site-packages\\rtgym\\envs\\real_time_env.py:376: UserWarning: Time-step timed out. Elapsed since last time-step: 0.14211790032641147\n",
      "\u001b[2m\u001b[36m(RolloutWorker pid=15280)\u001b[0m   warnings.warn(f\"Time-step timed out. Elapsed since last time-step: {now - self.__t_end}\")\n"
     ]
    },
    {
     "name": "stdout",
     "output_type": "stream",
     "text": [
      "Loop:  1576\n",
      "Loop:  1577\n",
      "\u001b[2m\u001b[36m(RolloutWorker pid=15280)\u001b[0m reset triggered\n",
      "\u001b[2m\u001b[36m(RolloutWorker pid=15280)\u001b[0m reload save for track : 4\n"
     ]
    },
    {
     "name": "stderr",
     "output_type": "stream",
     "text": [
      "\u001b[2m\u001b[36m(RolloutWorker pid=15280)\u001b[0m c:\\Users\\nadir\\anaconda3\\envs\\GTAI2\\lib\\site-packages\\rtgym\\envs\\real_time_env.py:376: UserWarning: Time-step timed out. Elapsed since last time-step: 0.14032120032788953\n",
      "\u001b[2m\u001b[36m(RolloutWorker pid=15280)\u001b[0m   warnings.warn(f\"Time-step timed out. Elapsed since last time-step: {now - self.__t_end}\")\n"
     ]
    },
    {
     "name": "stdout",
     "output_type": "stream",
     "text": [
      "Loop:  1578\n",
      "\u001b[2m\u001b[36m(RolloutWorker pid=15280)\u001b[0m reset triggered\n",
      "\u001b[2m\u001b[36m(RolloutWorker pid=15280)\u001b[0m reload save for track : 4\n"
     ]
    },
    {
     "name": "stderr",
     "output_type": "stream",
     "text": [
      "\u001b[2m\u001b[36m(RolloutWorker pid=15280)\u001b[0m c:\\Users\\nadir\\anaconda3\\envs\\GTAI2\\lib\\site-packages\\rtgym\\envs\\real_time_env.py:376: UserWarning: Time-step timed out. Elapsed since last time-step: 0.14071270032582106\n",
      "\u001b[2m\u001b[36m(RolloutWorker pid=15280)\u001b[0m   warnings.warn(f\"Time-step timed out. Elapsed since last time-step: {now - self.__t_end}\")\n"
     ]
    },
    {
     "name": "stdout",
     "output_type": "stream",
     "text": [
      "Loop:  1579\n",
      "Loop:  1580\n",
      "Saved 1580\n",
      "\u001b[2m\u001b[36m(RolloutWorker pid=15280)\u001b[0m reset triggered\n",
      "\u001b[2m\u001b[36m(RolloutWorker pid=15280)\u001b[0m reload save for track : 4\n"
     ]
    },
    {
     "name": "stderr",
     "output_type": "stream",
     "text": [
      "\u001b[2m\u001b[36m(RolloutWorker pid=15280)\u001b[0m c:\\Users\\nadir\\anaconda3\\envs\\GTAI2\\lib\\site-packages\\rtgym\\envs\\real_time_env.py:376: UserWarning: Time-step timed out. Elapsed since last time-step: 0.16118550032479106\n",
      "\u001b[2m\u001b[36m(RolloutWorker pid=15280)\u001b[0m   warnings.warn(f\"Time-step timed out. Elapsed since last time-step: {now - self.__t_end}\")\n"
     ]
    },
    {
     "name": "stdout",
     "output_type": "stream",
     "text": [
      "Loop:  1581\n",
      "\u001b[2m\u001b[36m(RolloutWorker pid=15280)\u001b[0m reset triggered\n",
      "\u001b[2m\u001b[36m(RolloutWorker pid=15280)\u001b[0m reload save for track : 4\n"
     ]
    },
    {
     "name": "stderr",
     "output_type": "stream",
     "text": [
      "\u001b[2m\u001b[36m(RolloutWorker pid=15280)\u001b[0m c:\\Users\\nadir\\anaconda3\\envs\\GTAI2\\lib\\site-packages\\rtgym\\envs\\real_time_env.py:376: UserWarning: Time-step timed out. Elapsed since last time-step: 0.15568440032438957\n",
      "\u001b[2m\u001b[36m(RolloutWorker pid=15280)\u001b[0m   warnings.warn(f\"Time-step timed out. Elapsed since last time-step: {now - self.__t_end}\")\n"
     ]
    },
    {
     "name": "stdout",
     "output_type": "stream",
     "text": [
      "Loop:  1582\n",
      "\u001b[2m\u001b[36m(RolloutWorker pid=15280)\u001b[0m reset triggered\n",
      "\u001b[2m\u001b[36m(RolloutWorker pid=15280)\u001b[0m reload save for track : 4\n"
     ]
    },
    {
     "name": "stderr",
     "output_type": "stream",
     "text": [
      "\u001b[2m\u001b[36m(RolloutWorker pid=15280)\u001b[0m c:\\Users\\nadir\\anaconda3\\envs\\GTAI2\\lib\\site-packages\\rtgym\\envs\\real_time_env.py:376: UserWarning: Time-step timed out. Elapsed since last time-step: 0.1505099003261421\n",
      "\u001b[2m\u001b[36m(RolloutWorker pid=15280)\u001b[0m   warnings.warn(f\"Time-step timed out. Elapsed since last time-step: {now - self.__t_end}\")\n"
     ]
    },
    {
     "name": "stdout",
     "output_type": "stream",
     "text": [
      "Loop:  1583\n",
      "Loop:  1584\n",
      "\u001b[2m\u001b[36m(RolloutWorker pid=15280)\u001b[0m reset triggered\n",
      "\u001b[2m\u001b[36m(RolloutWorker pid=15280)\u001b[0m reload save for track : 4\n"
     ]
    },
    {
     "name": "stderr",
     "output_type": "stream",
     "text": [
      "\u001b[2m\u001b[36m(RolloutWorker pid=15280)\u001b[0m c:\\Users\\nadir\\anaconda3\\envs\\GTAI2\\lib\\site-packages\\rtgym\\envs\\real_time_env.py:376: UserWarning: Time-step timed out. Elapsed since last time-step: 0.1422180003282847\n",
      "\u001b[2m\u001b[36m(RolloutWorker pid=15280)\u001b[0m   warnings.warn(f\"Time-step timed out. Elapsed since last time-step: {now - self.__t_end}\")\n"
     ]
    },
    {
     "name": "stdout",
     "output_type": "stream",
     "text": [
      "Loop:  1585\n",
      "\u001b[2m\u001b[36m(RolloutWorker pid=15280)\u001b[0m reset triggered\n",
      "\u001b[2m\u001b[36m(RolloutWorker pid=15280)\u001b[0m reload save for track : 4\n"
     ]
    },
    {
     "name": "stderr",
     "output_type": "stream",
     "text": [
      "\u001b[2m\u001b[36m(RolloutWorker pid=15280)\u001b[0m c:\\Users\\nadir\\anaconda3\\envs\\GTAI2\\lib\\site-packages\\rtgym\\envs\\real_time_env.py:376: UserWarning: Time-step timed out. Elapsed since last time-step: 0.1466775003245857\n",
      "\u001b[2m\u001b[36m(RolloutWorker pid=15280)\u001b[0m   warnings.warn(f\"Time-step timed out. Elapsed since last time-step: {now - self.__t_end}\")\n"
     ]
    },
    {
     "name": "stdout",
     "output_type": "stream",
     "text": [
      "Loop:  1586\n",
      "Loop:  1587\n",
      "\u001b[2m\u001b[36m(RolloutWorker pid=15280)\u001b[0m reset triggered\n",
      "\u001b[2m\u001b[36m(RolloutWorker pid=15280)\u001b[0m reload save for track : 4\n"
     ]
    },
    {
     "name": "stderr",
     "output_type": "stream",
     "text": [
      "\u001b[2m\u001b[36m(RolloutWorker pid=15280)\u001b[0m c:\\Users\\nadir\\anaconda3\\envs\\GTAI2\\lib\\site-packages\\rtgym\\envs\\real_time_env.py:376: UserWarning: Time-step timed out. Elapsed since last time-step: 0.13342140032546013\n",
      "\u001b[2m\u001b[36m(RolloutWorker pid=15280)\u001b[0m   warnings.warn(f\"Time-step timed out. Elapsed since last time-step: {now - self.__t_end}\")\n"
     ]
    },
    {
     "name": "stdout",
     "output_type": "stream",
     "text": [
      "Loop:  1588\n",
      "\u001b[2m\u001b[36m(RolloutWorker pid=15280)\u001b[0m reset triggered\n",
      "\u001b[2m\u001b[36m(RolloutWorker pid=15280)\u001b[0m reload save for track : 4\n"
     ]
    },
    {
     "name": "stderr",
     "output_type": "stream",
     "text": [
      "\u001b[2m\u001b[36m(RolloutWorker pid=15280)\u001b[0m c:\\Users\\nadir\\anaconda3\\envs\\GTAI2\\lib\\site-packages\\rtgym\\envs\\real_time_env.py:376: UserWarning: Time-step timed out. Elapsed since last time-step: 0.15746740032773232\n",
      "\u001b[2m\u001b[36m(RolloutWorker pid=15280)\u001b[0m   warnings.warn(f\"Time-step timed out. Elapsed since last time-step: {now - self.__t_end}\")\n"
     ]
    },
    {
     "name": "stdout",
     "output_type": "stream",
     "text": [
      "Loop:  1589\n",
      "Loop:  1590\n",
      "Saved 1590\n",
      "\u001b[2m\u001b[36m(RolloutWorker pid=15280)\u001b[0m reset triggered\n",
      "\u001b[2m\u001b[36m(RolloutWorker pid=15280)\u001b[0m reload save for track : 4\n"
     ]
    },
    {
     "name": "stderr",
     "output_type": "stream",
     "text": [
      "\u001b[2m\u001b[36m(RolloutWorker pid=15280)\u001b[0m c:\\Users\\nadir\\anaconda3\\envs\\GTAI2\\lib\\site-packages\\rtgym\\envs\\real_time_env.py:376: UserWarning: Time-step timed out. Elapsed since last time-step: 0.14335490032681264\n",
      "\u001b[2m\u001b[36m(RolloutWorker pid=15280)\u001b[0m   warnings.warn(f\"Time-step timed out. Elapsed since last time-step: {now - self.__t_end}\")\n"
     ]
    },
    {
     "name": "stdout",
     "output_type": "stream",
     "text": [
      "Loop:  1591\n",
      "\u001b[2m\u001b[36m(RolloutWorker pid=15280)\u001b[0m reset triggered\n",
      "\u001b[2m\u001b[36m(RolloutWorker pid=15280)\u001b[0m reload save for track : 4\n"
     ]
    },
    {
     "name": "stderr",
     "output_type": "stream",
     "text": [
      "\u001b[2m\u001b[36m(RolloutWorker pid=15280)\u001b[0m c:\\Users\\nadir\\anaconda3\\envs\\GTAI2\\lib\\site-packages\\rtgym\\envs\\real_time_env.py:376: UserWarning: Time-step timed out. Elapsed since last time-step: 0.14032730032340623\n",
      "\u001b[2m\u001b[36m(RolloutWorker pid=15280)\u001b[0m   warnings.warn(f\"Time-step timed out. Elapsed since last time-step: {now - self.__t_end}\")\n"
     ]
    },
    {
     "name": "stdout",
     "output_type": "stream",
     "text": [
      "Loop:  1592\n",
      "Loop:  1593\n",
      "\u001b[2m\u001b[36m(RolloutWorker pid=15280)\u001b[0m reset triggered\n",
      "\u001b[2m\u001b[36m(RolloutWorker pid=15280)\u001b[0m reload save for track : 4\n"
     ]
    },
    {
     "name": "stderr",
     "output_type": "stream",
     "text": [
      "\u001b[2m\u001b[36m(RolloutWorker pid=15280)\u001b[0m c:\\Users\\nadir\\anaconda3\\envs\\GTAI2\\lib\\site-packages\\rtgym\\envs\\real_time_env.py:376: UserWarning: Time-step timed out. Elapsed since last time-step: 0.12851880032758345\n",
      "\u001b[2m\u001b[36m(RolloutWorker pid=15280)\u001b[0m   warnings.warn(f\"Time-step timed out. Elapsed since last time-step: {now - self.__t_end}\")\n"
     ]
    },
    {
     "name": "stdout",
     "output_type": "stream",
     "text": [
      "Loop:  1594\n",
      "\u001b[2m\u001b[36m(RolloutWorker pid=15280)\u001b[0m reset triggered\n",
      "\u001b[2m\u001b[36m(RolloutWorker pid=15280)\u001b[0m reload save for track : 4\n"
     ]
    },
    {
     "name": "stderr",
     "output_type": "stream",
     "text": [
      "\u001b[2m\u001b[36m(RolloutWorker pid=15280)\u001b[0m c:\\Users\\nadir\\anaconda3\\envs\\GTAI2\\lib\\site-packages\\rtgym\\envs\\real_time_env.py:376: UserWarning: Time-step timed out. Elapsed since last time-step: 0.14060540032369317\n",
      "\u001b[2m\u001b[36m(RolloutWorker pid=15280)\u001b[0m   warnings.warn(f\"Time-step timed out. Elapsed since last time-step: {now - self.__t_end}\")\n"
     ]
    },
    {
     "name": "stdout",
     "output_type": "stream",
     "text": [
      "Loop:  1595\n",
      "\u001b[2m\u001b[36m(RolloutWorker pid=15280)\u001b[0m reset triggered\n",
      "\u001b[2m\u001b[36m(RolloutWorker pid=15280)\u001b[0m reload save for track : 4\n"
     ]
    },
    {
     "name": "stderr",
     "output_type": "stream",
     "text": [
      "\u001b[2m\u001b[36m(RolloutWorker pid=15280)\u001b[0m c:\\Users\\nadir\\anaconda3\\envs\\GTAI2\\lib\\site-packages\\rtgym\\envs\\real_time_env.py:376: UserWarning: Time-step timed out. Elapsed since last time-step: 0.15737860032822937\n",
      "\u001b[2m\u001b[36m(RolloutWorker pid=15280)\u001b[0m   warnings.warn(f\"Time-step timed out. Elapsed since last time-step: {now - self.__t_end}\")\n"
     ]
    },
    {
     "name": "stdout",
     "output_type": "stream",
     "text": [
      "Loop:  1596\n",
      "Loop:  1597\n",
      "\u001b[2m\u001b[36m(RolloutWorker pid=15280)\u001b[0m reset triggered\n",
      "\u001b[2m\u001b[36m(RolloutWorker pid=15280)\u001b[0m reload save for track : 4\n"
     ]
    },
    {
     "name": "stderr",
     "output_type": "stream",
     "text": [
      "\u001b[2m\u001b[36m(RolloutWorker pid=15280)\u001b[0m c:\\Users\\nadir\\anaconda3\\envs\\GTAI2\\lib\\site-packages\\rtgym\\envs\\real_time_env.py:376: UserWarning: Time-step timed out. Elapsed since last time-step: 0.14205910032615066\n",
      "\u001b[2m\u001b[36m(RolloutWorker pid=15280)\u001b[0m   warnings.warn(f\"Time-step timed out. Elapsed since last time-step: {now - self.__t_end}\")\n"
     ]
    },
    {
     "name": "stdout",
     "output_type": "stream",
     "text": [
      "Loop:  1598\n",
      "\u001b[2m\u001b[36m(RolloutWorker pid=15280)\u001b[0m reset triggered\n",
      "\u001b[2m\u001b[36m(RolloutWorker pid=15280)\u001b[0m reload save for track : 4\n"
     ]
    },
    {
     "name": "stderr",
     "output_type": "stream",
     "text": [
      "\u001b[2m\u001b[36m(RolloutWorker pid=15280)\u001b[0m c:\\Users\\nadir\\anaconda3\\envs\\GTAI2\\lib\\site-packages\\rtgym\\envs\\real_time_env.py:376: UserWarning: Time-step timed out. Elapsed since last time-step: 0.14800560032381327\n",
      "\u001b[2m\u001b[36m(RolloutWorker pid=15280)\u001b[0m   warnings.warn(f\"Time-step timed out. Elapsed since last time-step: {now - self.__t_end}\")\n"
     ]
    },
    {
     "name": "stdout",
     "output_type": "stream",
     "text": [
      "Loop:  1599\n",
      "Loop:  1600\n",
      "Saved 1600\n",
      "\u001b[2m\u001b[36m(RolloutWorker pid=15280)\u001b[0m reset triggered\n",
      "\u001b[2m\u001b[36m(RolloutWorker pid=15280)\u001b[0m reload save for track : 4\n"
     ]
    },
    {
     "name": "stderr",
     "output_type": "stream",
     "text": [
      "\u001b[2m\u001b[36m(RolloutWorker pid=15280)\u001b[0m c:\\Users\\nadir\\anaconda3\\envs\\GTAI2\\lib\\site-packages\\rtgym\\envs\\real_time_env.py:376: UserWarning: Time-step timed out. Elapsed since last time-step: 0.1330749003282108\n",
      "\u001b[2m\u001b[36m(RolloutWorker pid=15280)\u001b[0m   warnings.warn(f\"Time-step timed out. Elapsed since last time-step: {now - self.__t_end}\")\n"
     ]
    },
    {
     "name": "stdout",
     "output_type": "stream",
     "text": [
      "Loop:  1601\n",
      "\u001b[2m\u001b[36m(RolloutWorker pid=15280)\u001b[0m reset triggered\n",
      "\u001b[2m\u001b[36m(RolloutWorker pid=15280)\u001b[0m reload save for track : 4\n"
     ]
    },
    {
     "name": "stderr",
     "output_type": "stream",
     "text": [
      "\u001b[2m\u001b[36m(RolloutWorker pid=15280)\u001b[0m c:\\Users\\nadir\\anaconda3\\envs\\GTAI2\\lib\\site-packages\\rtgym\\envs\\real_time_env.py:376: UserWarning: Time-step timed out. Elapsed since last time-step: 0.14673690032577724\n",
      "\u001b[2m\u001b[36m(RolloutWorker pid=15280)\u001b[0m   warnings.warn(f\"Time-step timed out. Elapsed since last time-step: {now - self.__t_end}\")\n"
     ]
    },
    {
     "name": "stdout",
     "output_type": "stream",
     "text": [
      "Loop:  1602\n",
      "Loop:  1603\n",
      "\u001b[2m\u001b[36m(RolloutWorker pid=15280)\u001b[0m reset triggered\n",
      "\u001b[2m\u001b[36m(RolloutWorker pid=15280)\u001b[0m reload save for track : 4\n"
     ]
    },
    {
     "name": "stderr",
     "output_type": "stream",
     "text": [
      "\u001b[2m\u001b[36m(RolloutWorker pid=15280)\u001b[0m c:\\Users\\nadir\\anaconda3\\envs\\GTAI2\\lib\\site-packages\\rtgym\\envs\\real_time_env.py:376: UserWarning: Time-step timed out. Elapsed since last time-step: 0.13283270032479777\n",
      "\u001b[2m\u001b[36m(RolloutWorker pid=15280)\u001b[0m   warnings.warn(f\"Time-step timed out. Elapsed since last time-step: {now - self.__t_end}\")\n"
     ]
    },
    {
     "name": "stdout",
     "output_type": "stream",
     "text": [
      "Loop:  1604\n",
      "\u001b[2m\u001b[36m(RolloutWorker pid=15280)\u001b[0m reset triggered\n",
      "\u001b[2m\u001b[36m(RolloutWorker pid=15280)\u001b[0m reload save for track : 4\n"
     ]
    },
    {
     "name": "stderr",
     "output_type": "stream",
     "text": [
      "\u001b[2m\u001b[36m(RolloutWorker pid=15280)\u001b[0m c:\\Users\\nadir\\anaconda3\\envs\\GTAI2\\lib\\site-packages\\rtgym\\envs\\real_time_env.py:376: UserWarning: Time-step timed out. Elapsed since last time-step: 0.159650800327654\n",
      "\u001b[2m\u001b[36m(RolloutWorker pid=15280)\u001b[0m   warnings.warn(f\"Time-step timed out. Elapsed since last time-step: {now - self.__t_end}\")\n"
     ]
    },
    {
     "name": "stdout",
     "output_type": "stream",
     "text": [
      "Loop:  1605\n",
      "Loop:  1606\n",
      "\u001b[2m\u001b[36m(RolloutWorker pid=15280)\u001b[0m reset triggered\n",
      "\u001b[2m\u001b[36m(RolloutWorker pid=15280)\u001b[0m reload save for track : 4\n"
     ]
    },
    {
     "name": "stderr",
     "output_type": "stream",
     "text": [
      "\u001b[2m\u001b[36m(RolloutWorker pid=15280)\u001b[0m c:\\Users\\nadir\\anaconda3\\envs\\GTAI2\\lib\\site-packages\\rtgym\\envs\\real_time_env.py:376: UserWarning: Time-step timed out. Elapsed since last time-step: 0.15847710032539908\n",
      "\u001b[2m\u001b[36m(RolloutWorker pid=15280)\u001b[0m   warnings.warn(f\"Time-step timed out. Elapsed since last time-step: {now - self.__t_end}\")\n"
     ]
    },
    {
     "name": "stdout",
     "output_type": "stream",
     "text": [
      "Loop:  1607\n"
     ]
    },
    {
     "name": "stderr",
     "output_type": "stream",
     "text": [
      "\u001b[2m\u001b[36m(RolloutWorker pid=15280)\u001b[0m c:\\Users\\nadir\\anaconda3\\envs\\GTAI2\\lib\\site-packages\\rtgym\\envs\\real_time_env.py:376: UserWarning: Time-step timed out. Elapsed since last time-step: 0.15077690032194369\n",
      "\u001b[2m\u001b[36m(RolloutWorker pid=15280)\u001b[0m   warnings.warn(f\"Time-step timed out. Elapsed since last time-step: {now - self.__t_end}\")\n"
     ]
    },
    {
     "name": "stdout",
     "output_type": "stream",
     "text": [
      "\u001b[2m\u001b[36m(RolloutWorker pid=15280)\u001b[0m reset triggered\n",
      "\u001b[2m\u001b[36m(RolloutWorker pid=15280)\u001b[0m reload save for track : 4\n"
     ]
    },
    {
     "name": "stderr",
     "output_type": "stream",
     "text": [
      "\u001b[2m\u001b[36m(RolloutWorker pid=15280)\u001b[0m c:\\Users\\nadir\\anaconda3\\envs\\GTAI2\\lib\\site-packages\\rtgym\\envs\\real_time_env.py:376: UserWarning: Time-step timed out. Elapsed since last time-step: 0.14148200000272482\n",
      "\u001b[2m\u001b[36m(RolloutWorker pid=15280)\u001b[0m   warnings.warn(f\"Time-step timed out. Elapsed since last time-step: {now - self.__t_end}\")\n"
     ]
    },
    {
     "name": "stdout",
     "output_type": "stream",
     "text": [
      "Loop:  1608\n",
      "\u001b[2m\u001b[36m(RolloutWorker pid=15280)\u001b[0m reset triggered\n",
      "\u001b[2m\u001b[36m(RolloutWorker pid=15280)\u001b[0m reload save for track : 4\n"
     ]
    },
    {
     "name": "stderr",
     "output_type": "stream",
     "text": [
      "\u001b[2m\u001b[36m(RolloutWorker pid=15280)\u001b[0m c:\\Users\\nadir\\anaconda3\\envs\\GTAI2\\lib\\site-packages\\rtgym\\envs\\real_time_env.py:376: UserWarning: Time-step timed out. Elapsed since last time-step: 0.13772590032749576\n",
      "\u001b[2m\u001b[36m(RolloutWorker pid=15280)\u001b[0m   warnings.warn(f\"Time-step timed out. Elapsed since last time-step: {now - self.__t_end}\")\n"
     ]
    },
    {
     "name": "stdout",
     "output_type": "stream",
     "text": [
      "Loop:  1609\n",
      "Loop:  1610\n",
      "Saved 1610\n",
      "\u001b[2m\u001b[36m(RolloutWorker pid=15280)\u001b[0m reset triggered\n",
      "\u001b[2m\u001b[36m(RolloutWorker pid=15280)\u001b[0m reload save for track : 4\n"
     ]
    },
    {
     "name": "stderr",
     "output_type": "stream",
     "text": [
      "\u001b[2m\u001b[36m(RolloutWorker pid=15280)\u001b[0m c:\\Users\\nadir\\anaconda3\\envs\\GTAI2\\lib\\site-packages\\rtgym\\envs\\real_time_env.py:376: UserWarning: Time-step timed out. Elapsed since last time-step: 0.1420480003253033\n",
      "\u001b[2m\u001b[36m(RolloutWorker pid=15280)\u001b[0m   warnings.warn(f\"Time-step timed out. Elapsed since last time-step: {now - self.__t_end}\")\n"
     ]
    },
    {
     "name": "stdout",
     "output_type": "stream",
     "text": [
      "Loop:  1611\n",
      "\u001b[2m\u001b[36m(RolloutWorker pid=15280)\u001b[0m reset triggered\n",
      "\u001b[2m\u001b[36m(RolloutWorker pid=15280)\u001b[0m reload save for track : 4\n"
     ]
    },
    {
     "name": "stderr",
     "output_type": "stream",
     "text": [
      "\u001b[2m\u001b[36m(RolloutWorker pid=15280)\u001b[0m c:\\Users\\nadir\\anaconda3\\envs\\GTAI2\\lib\\site-packages\\rtgym\\envs\\real_time_env.py:376: UserWarning: Time-step timed out. Elapsed since last time-step: 0.14784740032700938\n",
      "\u001b[2m\u001b[36m(RolloutWorker pid=15280)\u001b[0m   warnings.warn(f\"Time-step timed out. Elapsed since last time-step: {now - self.__t_end}\")\n"
     ]
    },
    {
     "name": "stdout",
     "output_type": "stream",
     "text": [
      "Loop:  1612\n",
      "Loop:  1613\n",
      "\u001b[2m\u001b[36m(RolloutWorker pid=15280)\u001b[0m reset triggered\n",
      "\u001b[2m\u001b[36m(RolloutWorker pid=15280)\u001b[0m reload save for track : 4\n"
     ]
    },
    {
     "name": "stderr",
     "output_type": "stream",
     "text": [
      "\u001b[2m\u001b[36m(RolloutWorker pid=15280)\u001b[0m c:\\Users\\nadir\\anaconda3\\envs\\GTAI2\\lib\\site-packages\\rtgym\\envs\\real_time_env.py:376: UserWarning: Time-step timed out. Elapsed since last time-step: 0.1415818003260938\n",
      "\u001b[2m\u001b[36m(RolloutWorker pid=15280)\u001b[0m   warnings.warn(f\"Time-step timed out. Elapsed since last time-step: {now - self.__t_end}\")\n"
     ]
    },
    {
     "name": "stdout",
     "output_type": "stream",
     "text": [
      "Loop:  1614\n",
      "\u001b[2m\u001b[36m(RolloutWorker pid=15280)\u001b[0m reset triggered\n",
      "\u001b[2m\u001b[36m(RolloutWorker pid=15280)\u001b[0m reload save for track : 4\n"
     ]
    },
    {
     "name": "stderr",
     "output_type": "stream",
     "text": [
      "\u001b[2m\u001b[36m(RolloutWorker pid=15280)\u001b[0m c:\\Users\\nadir\\anaconda3\\envs\\GTAI2\\lib\\site-packages\\rtgym\\envs\\real_time_env.py:376: UserWarning: Time-step timed out. Elapsed since last time-step: 0.14739900032509468\n",
      "\u001b[2m\u001b[36m(RolloutWorker pid=15280)\u001b[0m   warnings.warn(f\"Time-step timed out. Elapsed since last time-step: {now - self.__t_end}\")\n"
     ]
    },
    {
     "name": "stdout",
     "output_type": "stream",
     "text": [
      "Loop:  1615\n",
      "Loop:  1616\n",
      "\u001b[2m\u001b[36m(RolloutWorker pid=15280)\u001b[0m reset triggered\n",
      "\u001b[2m\u001b[36m(RolloutWorker pid=15280)\u001b[0m reload save for track : 4\n"
     ]
    },
    {
     "name": "stderr",
     "output_type": "stream",
     "text": [
      "\u001b[2m\u001b[36m(RolloutWorker pid=15280)\u001b[0m c:\\Users\\nadir\\anaconda3\\envs\\GTAI2\\lib\\site-packages\\rtgym\\envs\\real_time_env.py:376: UserWarning: Time-step timed out. Elapsed since last time-step: 0.1437232003263489\n",
      "\u001b[2m\u001b[36m(RolloutWorker pid=15280)\u001b[0m   warnings.warn(f\"Time-step timed out. Elapsed since last time-step: {now - self.__t_end}\")\n"
     ]
    },
    {
     "name": "stdout",
     "output_type": "stream",
     "text": [
      "Loop:  1617\n",
      "\u001b[2m\u001b[36m(RolloutWorker pid=15280)\u001b[0m reset triggered\n",
      "\u001b[2m\u001b[36m(RolloutWorker pid=15280)\u001b[0m reload save for track : 4\n"
     ]
    },
    {
     "name": "stderr",
     "output_type": "stream",
     "text": [
      "\u001b[2m\u001b[36m(RolloutWorker pid=15280)\u001b[0m c:\\Users\\nadir\\anaconda3\\envs\\GTAI2\\lib\\site-packages\\rtgym\\envs\\real_time_env.py:376: UserWarning: Time-step timed out. Elapsed since last time-step: 0.14020520032499917\n",
      "\u001b[2m\u001b[36m(RolloutWorker pid=15280)\u001b[0m   warnings.warn(f\"Time-step timed out. Elapsed since last time-step: {now - self.__t_end}\")\n"
     ]
    },
    {
     "name": "stdout",
     "output_type": "stream",
     "text": [
      "Loop:  1618\n",
      "Loop:  1619\n",
      "\u001b[2m\u001b[36m(RolloutWorker pid=15280)\u001b[0m reset triggered\n",
      "\u001b[2m\u001b[36m(RolloutWorker pid=15280)\u001b[0m reload save for track : 4\n"
     ]
    },
    {
     "name": "stderr",
     "output_type": "stream",
     "text": [
      "\u001b[2m\u001b[36m(RolloutWorker pid=15280)\u001b[0m c:\\Users\\nadir\\anaconda3\\envs\\GTAI2\\lib\\site-packages\\rtgym\\envs\\real_time_env.py:376: UserWarning: Time-step timed out. Elapsed since last time-step: 0.1570415003261587\n",
      "\u001b[2m\u001b[36m(RolloutWorker pid=15280)\u001b[0m   warnings.warn(f\"Time-step timed out. Elapsed since last time-step: {now - self.__t_end}\")\n"
     ]
    },
    {
     "name": "stdout",
     "output_type": "stream",
     "text": [
      "Loop:  1620\n",
      "Saved 1620\n",
      "\u001b[2m\u001b[36m(RolloutWorker pid=15280)\u001b[0m reset triggered\n",
      "\u001b[2m\u001b[36m(RolloutWorker pid=15280)\u001b[0m reload save for track : 4\n"
     ]
    },
    {
     "name": "stderr",
     "output_type": "stream",
     "text": [
      "\u001b[2m\u001b[36m(RolloutWorker pid=15280)\u001b[0m c:\\Users\\nadir\\anaconda3\\envs\\GTAI2\\lib\\site-packages\\rtgym\\envs\\real_time_env.py:376: UserWarning: Time-step timed out. Elapsed since last time-step: 0.14261680032723234\n",
      "\u001b[2m\u001b[36m(RolloutWorker pid=15280)\u001b[0m   warnings.warn(f\"Time-step timed out. Elapsed since last time-step: {now - self.__t_end}\")\n"
     ]
    },
    {
     "name": "stdout",
     "output_type": "stream",
     "text": [
      "Loop:  1621\n",
      "\u001b[2m\u001b[36m(RolloutWorker pid=15280)\u001b[0m reset triggered\n",
      "\u001b[2m\u001b[36m(RolloutWorker pid=15280)\u001b[0m reload save for track : 4\n"
     ]
    },
    {
     "name": "stderr",
     "output_type": "stream",
     "text": [
      "\u001b[2m\u001b[36m(RolloutWorker pid=15280)\u001b[0m c:\\Users\\nadir\\anaconda3\\envs\\GTAI2\\lib\\site-packages\\rtgym\\envs\\real_time_env.py:376: UserWarning: Time-step timed out. Elapsed since last time-step: 0.1478818003233755\n",
      "\u001b[2m\u001b[36m(RolloutWorker pid=15280)\u001b[0m   warnings.warn(f\"Time-step timed out. Elapsed since last time-step: {now - self.__t_end}\")\n"
     ]
    },
    {
     "name": "stdout",
     "output_type": "stream",
     "text": [
      "Loop:  1622\n",
      "Loop:  1623\n",
      "\u001b[2m\u001b[36m(RolloutWorker pid=15280)\u001b[0m reset triggered\n",
      "\u001b[2m\u001b[36m(RolloutWorker pid=15280)\u001b[0m reload save for track : 4\n"
     ]
    },
    {
     "name": "stderr",
     "output_type": "stream",
     "text": [
      "\u001b[2m\u001b[36m(RolloutWorker pid=15280)\u001b[0m c:\\Users\\nadir\\anaconda3\\envs\\GTAI2\\lib\\site-packages\\rtgym\\envs\\real_time_env.py:376: UserWarning: Time-step timed out. Elapsed since last time-step: 0.18314970032588462\n",
      "\u001b[2m\u001b[36m(RolloutWorker pid=15280)\u001b[0m   warnings.warn(f\"Time-step timed out. Elapsed since last time-step: {now - self.__t_end}\")\n"
     ]
    },
    {
     "name": "stdout",
     "output_type": "stream",
     "text": [
      "Loop:  1624\n",
      "\u001b[2m\u001b[36m(RolloutWorker pid=15280)\u001b[0m reset triggered\n",
      "\u001b[2m\u001b[36m(RolloutWorker pid=15280)\u001b[0m reload save for track : 4\n"
     ]
    },
    {
     "name": "stderr",
     "output_type": "stream",
     "text": [
      "\u001b[2m\u001b[36m(RolloutWorker pid=15280)\u001b[0m c:\\Users\\nadir\\anaconda3\\envs\\GTAI2\\lib\\site-packages\\rtgym\\envs\\real_time_env.py:376: UserWarning: Time-step timed out. Elapsed since last time-step: 0.1566080003285606\n",
      "\u001b[2m\u001b[36m(RolloutWorker pid=15280)\u001b[0m   warnings.warn(f\"Time-step timed out. Elapsed since last time-step: {now - self.__t_end}\")\n"
     ]
    },
    {
     "name": "stdout",
     "output_type": "stream",
     "text": [
      "Loop:  1625\n",
      "Loop:  1626\n",
      "\u001b[2m\u001b[36m(RolloutWorker pid=15280)\u001b[0m reset triggered\n",
      "\u001b[2m\u001b[36m(RolloutWorker pid=15280)\u001b[0m reload save for track : 4\n"
     ]
    },
    {
     "name": "stderr",
     "output_type": "stream",
     "text": [
      "\u001b[2m\u001b[36m(RolloutWorker pid=15280)\u001b[0m c:\\Users\\nadir\\anaconda3\\envs\\GTAI2\\lib\\site-packages\\rtgym\\envs\\real_time_env.py:376: UserWarning: Time-step timed out. Elapsed since last time-step: 0.12205260032351362\n",
      "\u001b[2m\u001b[36m(RolloutWorker pid=15280)\u001b[0m   warnings.warn(f\"Time-step timed out. Elapsed since last time-step: {now - self.__t_end}\")\n"
     ]
    },
    {
     "name": "stdout",
     "output_type": "stream",
     "text": [
      "Loop:  1627\n",
      "\u001b[2m\u001b[36m(RolloutWorker pid=15280)\u001b[0m reset triggered\n",
      "\u001b[2m\u001b[36m(RolloutWorker pid=15280)\u001b[0m reload save for track : 4\n"
     ]
    },
    {
     "name": "stderr",
     "output_type": "stream",
     "text": [
      "\u001b[2m\u001b[36m(RolloutWorker pid=15280)\u001b[0m c:\\Users\\nadir\\anaconda3\\envs\\GTAI2\\lib\\site-packages\\rtgym\\envs\\real_time_env.py:376: UserWarning: Time-step timed out. Elapsed since last time-step: 0.15736350032602786\n",
      "\u001b[2m\u001b[36m(RolloutWorker pid=15280)\u001b[0m   warnings.warn(f\"Time-step timed out. Elapsed since last time-step: {now - self.__t_end}\")\n"
     ]
    },
    {
     "name": "stdout",
     "output_type": "stream",
     "text": [
      "Loop:  1628\n",
      "Loop:  1629\n",
      "\u001b[2m\u001b[36m(RolloutWorker pid=15280)\u001b[0m reset triggered\n",
      "\u001b[2m\u001b[36m(RolloutWorker pid=15280)\u001b[0m reload save for track : 4\n"
     ]
    },
    {
     "name": "stderr",
     "output_type": "stream",
     "text": [
      "\u001b[2m\u001b[36m(RolloutWorker pid=15280)\u001b[0m c:\\Users\\nadir\\anaconda3\\envs\\GTAI2\\lib\\site-packages\\rtgym\\envs\\real_time_env.py:376: UserWarning: Time-step timed out. Elapsed since last time-step: 0.13363970032514771\n",
      "\u001b[2m\u001b[36m(RolloutWorker pid=15280)\u001b[0m   warnings.warn(f\"Time-step timed out. Elapsed since last time-step: {now - self.__t_end}\")\n"
     ]
    },
    {
     "name": "stdout",
     "output_type": "stream",
     "text": [
      "Loop:  1630\n",
      "Saved 1630\n",
      "\u001b[2m\u001b[36m(RolloutWorker pid=15280)\u001b[0m reset triggered\n",
      "\u001b[2m\u001b[36m(RolloutWorker pid=15280)\u001b[0m reload save for track : 4\n"
     ]
    },
    {
     "name": "stderr",
     "output_type": "stream",
     "text": [
      "\u001b[2m\u001b[36m(RolloutWorker pid=15280)\u001b[0m c:\\Users\\nadir\\anaconda3\\envs\\GTAI2\\lib\\site-packages\\rtgym\\envs\\real_time_env.py:376: UserWarning: Time-step timed out. Elapsed since last time-step: 0.15763840032741427\n",
      "\u001b[2m\u001b[36m(RolloutWorker pid=15280)\u001b[0m   warnings.warn(f\"Time-step timed out. Elapsed since last time-step: {now - self.__t_end}\")\n"
     ]
    },
    {
     "name": "stdout",
     "output_type": "stream",
     "text": [
      "Loop:  1631\n",
      "Loop:  1632\n",
      "\u001b[2m\u001b[36m(RolloutWorker pid=15280)\u001b[0m reset triggered\n",
      "\u001b[2m\u001b[36m(RolloutWorker pid=15280)\u001b[0m reload save for track : 4\n"
     ]
    },
    {
     "name": "stderr",
     "output_type": "stream",
     "text": [
      "\u001b[2m\u001b[36m(RolloutWorker pid=15280)\u001b[0m c:\\Users\\nadir\\anaconda3\\envs\\GTAI2\\lib\\site-packages\\rtgym\\envs\\real_time_env.py:376: UserWarning: Time-step timed out. Elapsed since last time-step: 0.1319195003270579\n",
      "\u001b[2m\u001b[36m(RolloutWorker pid=15280)\u001b[0m   warnings.warn(f\"Time-step timed out. Elapsed since last time-step: {now - self.__t_end}\")\n"
     ]
    },
    {
     "name": "stdout",
     "output_type": "stream",
     "text": [
      "Loop:  1633\n",
      "\u001b[2m\u001b[36m(RolloutWorker pid=15280)\u001b[0m reset triggered\n",
      "\u001b[2m\u001b[36m(RolloutWorker pid=15280)\u001b[0m reload save for track : 4\n"
     ]
    },
    {
     "name": "stderr",
     "output_type": "stream",
     "text": [
      "\u001b[2m\u001b[36m(RolloutWorker pid=15280)\u001b[0m c:\\Users\\nadir\\anaconda3\\envs\\GTAI2\\lib\\site-packages\\rtgym\\envs\\real_time_env.py:376: UserWarning: Time-step timed out. Elapsed since last time-step: 0.14757490032570786\n",
      "\u001b[2m\u001b[36m(RolloutWorker pid=15280)\u001b[0m   warnings.warn(f\"Time-step timed out. Elapsed since last time-step: {now - self.__t_end}\")\n"
     ]
    },
    {
     "name": "stdout",
     "output_type": "stream",
     "text": [
      "Loop:  1634\n",
      "\u001b[2m\u001b[36m(RolloutWorker pid=15280)\u001b[0m reset triggered\n",
      "\u001b[2m\u001b[36m(RolloutWorker pid=15280)\u001b[0m reload save for track : 4\n"
     ]
    },
    {
     "name": "stderr",
     "output_type": "stream",
     "text": [
      "\u001b[2m\u001b[36m(RolloutWorker pid=15280)\u001b[0m c:\\Users\\nadir\\anaconda3\\envs\\GTAI2\\lib\\site-packages\\rtgym\\envs\\real_time_env.py:376: UserWarning: Time-step timed out. Elapsed since last time-step: 0.17045710032471106\n",
      "\u001b[2m\u001b[36m(RolloutWorker pid=15280)\u001b[0m   warnings.warn(f\"Time-step timed out. Elapsed since last time-step: {now - self.__t_end}\")\n"
     ]
    },
    {
     "name": "stdout",
     "output_type": "stream",
     "text": [
      "Loop:  1635\n",
      "Loop:  1636\n",
      "\u001b[2m\u001b[36m(RolloutWorker pid=15280)\u001b[0m reset triggered\n",
      "\u001b[2m\u001b[36m(RolloutWorker pid=15280)\u001b[0m reload save for track : 4\n"
     ]
    },
    {
     "name": "stderr",
     "output_type": "stream",
     "text": [
      "\u001b[2m\u001b[36m(RolloutWorker pid=15280)\u001b[0m c:\\Users\\nadir\\anaconda3\\envs\\GTAI2\\lib\\site-packages\\rtgym\\envs\\real_time_env.py:376: UserWarning: Time-step timed out. Elapsed since last time-step: 0.12195430032807053\n",
      "\u001b[2m\u001b[36m(RolloutWorker pid=15280)\u001b[0m   warnings.warn(f\"Time-step timed out. Elapsed since last time-step: {now - self.__t_end}\")\n"
     ]
    },
    {
     "name": "stdout",
     "output_type": "stream",
     "text": [
      "Loop:  1637\n",
      "\u001b[2m\u001b[36m(RolloutWorker pid=15280)\u001b[0m reset triggered\n",
      "\u001b[2m\u001b[36m(RolloutWorker pid=15280)\u001b[0m reload save for track : 4\n"
     ]
    },
    {
     "name": "stderr",
     "output_type": "stream",
     "text": [
      "\u001b[2m\u001b[36m(RolloutWorker pid=15280)\u001b[0m c:\\Users\\nadir\\anaconda3\\envs\\GTAI2\\lib\\site-packages\\rtgym\\envs\\real_time_env.py:376: UserWarning: Time-step timed out. Elapsed since last time-step: 0.14762910032368382\n",
      "\u001b[2m\u001b[36m(RolloutWorker pid=15280)\u001b[0m   warnings.warn(f\"Time-step timed out. Elapsed since last time-step: {now - self.__t_end}\")\n"
     ]
    },
    {
     "name": "stdout",
     "output_type": "stream",
     "text": [
      "Loop:  1638\n",
      "Loop:  1639\n",
      "\u001b[2m\u001b[36m(RolloutWorker pid=15280)\u001b[0m reset triggered\n",
      "\u001b[2m\u001b[36m(RolloutWorker pid=15280)\u001b[0m reload save for track : 4\n"
     ]
    },
    {
     "name": "stderr",
     "output_type": "stream",
     "text": [
      "\u001b[2m\u001b[36m(RolloutWorker pid=15280)\u001b[0m c:\\Users\\nadir\\anaconda3\\envs\\GTAI2\\lib\\site-packages\\rtgym\\envs\\real_time_env.py:376: UserWarning: Time-step timed out. Elapsed since last time-step: 0.15211880032802583\n",
      "\u001b[2m\u001b[36m(RolloutWorker pid=15280)\u001b[0m   warnings.warn(f\"Time-step timed out. Elapsed since last time-step: {now - self.__t_end}\")\n"
     ]
    },
    {
     "name": "stdout",
     "output_type": "stream",
     "text": [
      "Loop:  1640\n",
      "Saved 1640\n",
      "\u001b[2m\u001b[36m(RolloutWorker pid=15280)\u001b[0m reset triggered\n",
      "\u001b[2m\u001b[36m(RolloutWorker pid=15280)\u001b[0m reload save for track : 4\n"
     ]
    },
    {
     "name": "stderr",
     "output_type": "stream",
     "text": [
      "\u001b[2m\u001b[36m(RolloutWorker pid=15280)\u001b[0m c:\\Users\\nadir\\anaconda3\\envs\\GTAI2\\lib\\site-packages\\rtgym\\envs\\real_time_env.py:376: UserWarning: Time-step timed out. Elapsed since last time-step: 0.1503779003251111\n",
      "\u001b[2m\u001b[36m(RolloutWorker pid=15280)\u001b[0m   warnings.warn(f\"Time-step timed out. Elapsed since last time-step: {now - self.__t_end}\")\n"
     ]
    },
    {
     "name": "stdout",
     "output_type": "stream",
     "text": [
      "Loop:  1641\n",
      "Loop:  1642\n",
      "\u001b[2m\u001b[36m(RolloutWorker pid=15280)\u001b[0m reset triggered\n",
      "\u001b[2m\u001b[36m(RolloutWorker pid=15280)\u001b[0m reload save for track : 4\n"
     ]
    },
    {
     "name": "stderr",
     "output_type": "stream",
     "text": [
      "\u001b[2m\u001b[36m(RolloutWorker pid=15280)\u001b[0m c:\\Users\\nadir\\anaconda3\\envs\\GTAI2\\lib\\site-packages\\rtgym\\envs\\real_time_env.py:376: UserWarning: Time-step timed out. Elapsed since last time-step: 0.1578733003261732\n",
      "\u001b[2m\u001b[36m(RolloutWorker pid=15280)\u001b[0m   warnings.warn(f\"Time-step timed out. Elapsed since last time-step: {now - self.__t_end}\")\n"
     ]
    },
    {
     "name": "stdout",
     "output_type": "stream",
     "text": [
      "Loop:  1643\n",
      "\u001b[2m\u001b[36m(RolloutWorker pid=15280)\u001b[0m reset triggered\n",
      "\u001b[2m\u001b[36m(RolloutWorker pid=15280)\u001b[0m reload save for track : 4\n"
     ]
    },
    {
     "name": "stderr",
     "output_type": "stream",
     "text": [
      "\u001b[2m\u001b[36m(RolloutWorker pid=15280)\u001b[0m c:\\Users\\nadir\\anaconda3\\envs\\GTAI2\\lib\\site-packages\\rtgym\\envs\\real_time_env.py:376: UserWarning: Time-step timed out. Elapsed since last time-step: 0.1699045003260835\n",
      "\u001b[2m\u001b[36m(RolloutWorker pid=15280)\u001b[0m   warnings.warn(f\"Time-step timed out. Elapsed since last time-step: {now - self.__t_end}\")\n"
     ]
    },
    {
     "name": "stdout",
     "output_type": "stream",
     "text": [
      "Loop:  1644\n",
      "Loop:  1645\n",
      "\u001b[2m\u001b[36m(RolloutWorker pid=15280)\u001b[0m reset triggered\n",
      "\u001b[2m\u001b[36m(RolloutWorker pid=15280)\u001b[0m reload save for track : 4\n"
     ]
    },
    {
     "name": "stderr",
     "output_type": "stream",
     "text": [
      "\u001b[2m\u001b[36m(RolloutWorker pid=15280)\u001b[0m c:\\Users\\nadir\\anaconda3\\envs\\GTAI2\\lib\\site-packages\\rtgym\\envs\\real_time_env.py:376: UserWarning: Time-step timed out. Elapsed since last time-step: 0.16223580032601603\n",
      "\u001b[2m\u001b[36m(RolloutWorker pid=15280)\u001b[0m   warnings.warn(f\"Time-step timed out. Elapsed since last time-step: {now - self.__t_end}\")\n",
      "\u001b[2m\u001b[36m(RolloutWorker pid=15280)\u001b[0m c:\\Users\\nadir\\anaconda3\\envs\\GTAI2\\lib\\site-packages\\rtgym\\envs\\real_time_env.py:376: UserWarning: Time-step timed out. Elapsed since last time-step: 0.12979020018974552\n",
      "\u001b[2m\u001b[36m(RolloutWorker pid=15280)\u001b[0m   warnings.warn(f\"Time-step timed out. Elapsed since last time-step: {now - self.__t_end}\")\n"
     ]
    },
    {
     "name": "stdout",
     "output_type": "stream",
     "text": [
      "Loop:  1646\n",
      "\u001b[2m\u001b[36m(RolloutWorker pid=15280)\u001b[0m reset triggered\n",
      "\u001b[2m\u001b[36m(RolloutWorker pid=15280)\u001b[0m reload save for track : 4\n"
     ]
    },
    {
     "name": "stderr",
     "output_type": "stream",
     "text": [
      "\u001b[2m\u001b[36m(RolloutWorker pid=15280)\u001b[0m c:\\Users\\nadir\\anaconda3\\envs\\GTAI2\\lib\\site-packages\\rtgym\\envs\\real_time_env.py:376: UserWarning: Time-step timed out. Elapsed since last time-step: 0.14265950013577822\n",
      "\u001b[2m\u001b[36m(RolloutWorker pid=15280)\u001b[0m   warnings.warn(f\"Time-step timed out. Elapsed since last time-step: {now - self.__t_end}\")\n"
     ]
    },
    {
     "name": "stdout",
     "output_type": "stream",
     "text": [
      "Loop:  1647\n",
      "\u001b[2m\u001b[36m(RolloutWorker pid=15280)\u001b[0m reset triggered\n",
      "\u001b[2m\u001b[36m(RolloutWorker pid=15280)\u001b[0m reload save for track : 4\n"
     ]
    },
    {
     "name": "stderr",
     "output_type": "stream",
     "text": [
      "\u001b[2m\u001b[36m(RolloutWorker pid=15280)\u001b[0m c:\\Users\\nadir\\anaconda3\\envs\\GTAI2\\lib\\site-packages\\rtgym\\envs\\real_time_env.py:376: UserWarning: Time-step timed out. Elapsed since last time-step: 0.14556760032428429\n",
      "\u001b[2m\u001b[36m(RolloutWorker pid=15280)\u001b[0m   warnings.warn(f\"Time-step timed out. Elapsed since last time-step: {now - self.__t_end}\")\n"
     ]
    },
    {
     "name": "stdout",
     "output_type": "stream",
     "text": [
      "Loop:  1648\n",
      "Loop:  1649\n",
      "\u001b[2m\u001b[36m(RolloutWorker pid=15280)\u001b[0m reset triggered\n",
      "\u001b[2m\u001b[36m(RolloutWorker pid=15280)\u001b[0m reload save for track : 4\n"
     ]
    },
    {
     "name": "stderr",
     "output_type": "stream",
     "text": [
      "\u001b[2m\u001b[36m(RolloutWorker pid=15280)\u001b[0m c:\\Users\\nadir\\anaconda3\\envs\\GTAI2\\lib\\site-packages\\rtgym\\envs\\real_time_env.py:376: UserWarning: Time-step timed out. Elapsed since last time-step: 0.13252510032907594\n",
      "\u001b[2m\u001b[36m(RolloutWorker pid=15280)\u001b[0m   warnings.warn(f\"Time-step timed out. Elapsed since last time-step: {now - self.__t_end}\")\n"
     ]
    },
    {
     "name": "stdout",
     "output_type": "stream",
     "text": [
      "Loop:  1650\n",
      "Saved 1650\n",
      "\u001b[2m\u001b[36m(RolloutWorker pid=15280)\u001b[0m reset triggered\n",
      "\u001b[2m\u001b[36m(RolloutWorker pid=15280)\u001b[0m reload save for track : 4\n"
     ]
    },
    {
     "name": "stderr",
     "output_type": "stream",
     "text": [
      "\u001b[2m\u001b[36m(RolloutWorker pid=15280)\u001b[0m c:\\Users\\nadir\\anaconda3\\envs\\GTAI2\\lib\\site-packages\\rtgym\\envs\\real_time_env.py:376: UserWarning: Time-step timed out. Elapsed since last time-step: 0.1495503003243357\n",
      "\u001b[2m\u001b[36m(RolloutWorker pid=15280)\u001b[0m   warnings.warn(f\"Time-step timed out. Elapsed since last time-step: {now - self.__t_end}\")\n"
     ]
    },
    {
     "name": "stdout",
     "output_type": "stream",
     "text": [
      "Loop:  1651\n",
      "Loop:  1652\n",
      "\u001b[2m\u001b[36m(RolloutWorker pid=15280)\u001b[0m reset triggered\n",
      "\u001b[2m\u001b[36m(RolloutWorker pid=15280)\u001b[0m reload save for track : 4\n"
     ]
    },
    {
     "name": "stderr",
     "output_type": "stream",
     "text": [
      "\u001b[2m\u001b[36m(RolloutWorker pid=15280)\u001b[0m c:\\Users\\nadir\\anaconda3\\envs\\GTAI2\\lib\\site-packages\\rtgym\\envs\\real_time_env.py:376: UserWarning: Time-step timed out. Elapsed since last time-step: 0.14796910032600863\n",
      "\u001b[2m\u001b[36m(RolloutWorker pid=15280)\u001b[0m   warnings.warn(f\"Time-step timed out. Elapsed since last time-step: {now - self.__t_end}\")\n"
     ]
    },
    {
     "name": "stdout",
     "output_type": "stream",
     "text": [
      "Loop:  1653\n",
      "\u001b[2m\u001b[36m(RolloutWorker pid=15280)\u001b[0m reset triggered\n",
      "\u001b[2m\u001b[36m(RolloutWorker pid=15280)\u001b[0m reload save for track : 4\n"
     ]
    },
    {
     "name": "stderr",
     "output_type": "stream",
     "text": [
      "\u001b[2m\u001b[36m(RolloutWorker pid=15280)\u001b[0m c:\\Users\\nadir\\anaconda3\\envs\\GTAI2\\lib\\site-packages\\rtgym\\envs\\real_time_env.py:376: UserWarning: Time-step timed out. Elapsed since last time-step: 0.12203800032511936\n",
      "\u001b[2m\u001b[36m(RolloutWorker pid=15280)\u001b[0m   warnings.warn(f\"Time-step timed out. Elapsed since last time-step: {now - self.__t_end}\")\n"
     ]
    },
    {
     "name": "stdout",
     "output_type": "stream",
     "text": [
      "Loop:  1654\n",
      "Loop:  1655\n",
      "\u001b[2m\u001b[36m(RolloutWorker pid=15280)\u001b[0m reset triggered\n",
      "\u001b[2m\u001b[36m(RolloutWorker pid=15280)\u001b[0m reload save for track : 4\n"
     ]
    },
    {
     "name": "stderr",
     "output_type": "stream",
     "text": [
      "\u001b[2m\u001b[36m(RolloutWorker pid=15280)\u001b[0m c:\\Users\\nadir\\anaconda3\\envs\\GTAI2\\lib\\site-packages\\rtgym\\envs\\real_time_env.py:376: UserWarning: Time-step timed out. Elapsed since last time-step: 0.15792530032558716\n",
      "\u001b[2m\u001b[36m(RolloutWorker pid=15280)\u001b[0m   warnings.warn(f\"Time-step timed out. Elapsed since last time-step: {now - self.__t_end}\")\n"
     ]
    },
    {
     "name": "stdout",
     "output_type": "stream",
     "text": [
      "Loop:  1656\n",
      "\u001b[2m\u001b[36m(RolloutWorker pid=15280)\u001b[0m reset triggered\n",
      "\u001b[2m\u001b[36m(RolloutWorker pid=15280)\u001b[0m reload save for track : 4\n"
     ]
    },
    {
     "name": "stderr",
     "output_type": "stream",
     "text": [
      "\u001b[2m\u001b[36m(RolloutWorker pid=15280)\u001b[0m c:\\Users\\nadir\\anaconda3\\envs\\GTAI2\\lib\\site-packages\\rtgym\\envs\\real_time_env.py:376: UserWarning: Time-step timed out. Elapsed since last time-step: 0.1630858003263711\n",
      "\u001b[2m\u001b[36m(RolloutWorker pid=15280)\u001b[0m   warnings.warn(f\"Time-step timed out. Elapsed since last time-step: {now - self.__t_end}\")\n"
     ]
    },
    {
     "name": "stdout",
     "output_type": "stream",
     "text": [
      "Loop:  1657\n",
      "Loop:  1658\n",
      "\u001b[2m\u001b[36m(RolloutWorker pid=15280)\u001b[0m reset triggered\n",
      "\u001b[2m\u001b[36m(RolloutWorker pid=15280)\u001b[0m reload save for track : 4\n"
     ]
    },
    {
     "name": "stderr",
     "output_type": "stream",
     "text": [
      "\u001b[2m\u001b[36m(RolloutWorker pid=15280)\u001b[0m c:\\Users\\nadir\\anaconda3\\envs\\GTAI2\\lib\\site-packages\\rtgym\\envs\\real_time_env.py:376: UserWarning: Time-step timed out. Elapsed since last time-step: 0.13942650032549864\n",
      "\u001b[2m\u001b[36m(RolloutWorker pid=15280)\u001b[0m   warnings.warn(f\"Time-step timed out. Elapsed since last time-step: {now - self.__t_end}\")\n"
     ]
    },
    {
     "name": "stdout",
     "output_type": "stream",
     "text": [
      "Loop:  1659\n",
      "\u001b[2m\u001b[36m(RolloutWorker pid=15280)\u001b[0m reset triggered\n",
      "\u001b[2m\u001b[36m(RolloutWorker pid=15280)\u001b[0m reload save for track : 4\n"
     ]
    },
    {
     "name": "stderr",
     "output_type": "stream",
     "text": [
      "\u001b[2m\u001b[36m(RolloutWorker pid=15280)\u001b[0m c:\\Users\\nadir\\anaconda3\\envs\\GTAI2\\lib\\site-packages\\rtgym\\envs\\real_time_env.py:376: UserWarning: Time-step timed out. Elapsed since last time-step: 0.14795560032871435\n",
      "\u001b[2m\u001b[36m(RolloutWorker pid=15280)\u001b[0m   warnings.warn(f\"Time-step timed out. Elapsed since last time-step: {now - self.__t_end}\")\n"
     ]
    },
    {
     "name": "stdout",
     "output_type": "stream",
     "text": [
      "Loop:  1660\n",
      "Saved 1660\n",
      "\u001b[2m\u001b[36m(RolloutWorker pid=15280)\u001b[0m reset triggered\n",
      "\u001b[2m\u001b[36m(RolloutWorker pid=15280)\u001b[0m reload save for track : 4\n"
     ]
    },
    {
     "name": "stderr",
     "output_type": "stream",
     "text": [
      "\u001b[2m\u001b[36m(RolloutWorker pid=15280)\u001b[0m c:\\Users\\nadir\\anaconda3\\envs\\GTAI2\\lib\\site-packages\\rtgym\\envs\\real_time_env.py:376: UserWarning: Time-step timed out. Elapsed since last time-step: 0.16552000032606884\n",
      "\u001b[2m\u001b[36m(RolloutWorker pid=15280)\u001b[0m   warnings.warn(f\"Time-step timed out. Elapsed since last time-step: {now - self.__t_end}\")\n"
     ]
    },
    {
     "name": "stdout",
     "output_type": "stream",
     "text": [
      "Loop:  1661\n",
      "Loop:  1662\n",
      "\u001b[2m\u001b[36m(RolloutWorker pid=15280)\u001b[0m reset triggered\n",
      "\u001b[2m\u001b[36m(RolloutWorker pid=15280)\u001b[0m reload save for track : 4\n"
     ]
    },
    {
     "name": "stderr",
     "output_type": "stream",
     "text": [
      "\u001b[2m\u001b[36m(RolloutWorker pid=15280)\u001b[0m c:\\Users\\nadir\\anaconda3\\envs\\GTAI2\\lib\\site-packages\\rtgym\\envs\\real_time_env.py:376: UserWarning: Time-step timed out. Elapsed since last time-step: 0.13626530032342998\n",
      "\u001b[2m\u001b[36m(RolloutWorker pid=15280)\u001b[0m   warnings.warn(f\"Time-step timed out. Elapsed since last time-step: {now - self.__t_end}\")\n"
     ]
    },
    {
     "name": "stdout",
     "output_type": "stream",
     "text": [
      "Loop:  1663\n",
      "\u001b[2m\u001b[36m(RolloutWorker pid=15280)\u001b[0m reset triggered\n",
      "\u001b[2m\u001b[36m(RolloutWorker pid=15280)\u001b[0m reload save for track : 4\n"
     ]
    },
    {
     "name": "stderr",
     "output_type": "stream",
     "text": [
      "\u001b[2m\u001b[36m(RolloutWorker pid=15280)\u001b[0m c:\\Users\\nadir\\anaconda3\\envs\\GTAI2\\lib\\site-packages\\rtgym\\envs\\real_time_env.py:376: UserWarning: Time-step timed out. Elapsed since last time-step: 0.1310311003253446\n",
      "\u001b[2m\u001b[36m(RolloutWorker pid=15280)\u001b[0m   warnings.warn(f\"Time-step timed out. Elapsed since last time-step: {now - self.__t_end}\")\n"
     ]
    },
    {
     "name": "stdout",
     "output_type": "stream",
     "text": [
      "Loop:  1664\n",
      "Loop:  1665\n",
      "\u001b[2m\u001b[36m(RolloutWorker pid=15280)\u001b[0m reset triggered\n",
      "\u001b[2m\u001b[36m(RolloutWorker pid=15280)\u001b[0m reload save for track : 4\n"
     ]
    },
    {
     "name": "stderr",
     "output_type": "stream",
     "text": [
      "\u001b[2m\u001b[36m(RolloutWorker pid=15280)\u001b[0m c:\\Users\\nadir\\anaconda3\\envs\\GTAI2\\lib\\site-packages\\rtgym\\envs\\real_time_env.py:376: UserWarning: Time-step timed out. Elapsed since last time-step: 0.15930650032896665\n",
      "\u001b[2m\u001b[36m(RolloutWorker pid=15280)\u001b[0m   warnings.warn(f\"Time-step timed out. Elapsed since last time-step: {now - self.__t_end}\")\n"
     ]
    },
    {
     "name": "stdout",
     "output_type": "stream",
     "text": [
      "Loop:  1666\n",
      "\u001b[2m\u001b[36m(RolloutWorker pid=15280)\u001b[0m reset triggered\n",
      "\u001b[2m\u001b[36m(RolloutWorker pid=15280)\u001b[0m reload save for track : 4\n"
     ]
    },
    {
     "name": "stderr",
     "output_type": "stream",
     "text": [
      "\u001b[2m\u001b[36m(RolloutWorker pid=15280)\u001b[0m c:\\Users\\nadir\\anaconda3\\envs\\GTAI2\\lib\\site-packages\\rtgym\\envs\\real_time_env.py:376: UserWarning: Time-step timed out. Elapsed since last time-step: 0.14736090032602078\n",
      "\u001b[2m\u001b[36m(RolloutWorker pid=15280)\u001b[0m   warnings.warn(f\"Time-step timed out. Elapsed since last time-step: {now - self.__t_end}\")\n"
     ]
    },
    {
     "name": "stdout",
     "output_type": "stream",
     "text": [
      "Loop:  1667\n",
      "Loop:  1668\n",
      "\u001b[2m\u001b[36m(RolloutWorker pid=15280)\u001b[0m reset triggered\n",
      "\u001b[2m\u001b[36m(RolloutWorker pid=15280)\u001b[0m reload save for track : 4\n"
     ]
    },
    {
     "name": "stderr",
     "output_type": "stream",
     "text": [
      "\u001b[2m\u001b[36m(RolloutWorker pid=15280)\u001b[0m c:\\Users\\nadir\\anaconda3\\envs\\GTAI2\\lib\\site-packages\\rtgym\\envs\\real_time_env.py:376: UserWarning: Time-step timed out. Elapsed since last time-step: 0.14284240032429807\n",
      "\u001b[2m\u001b[36m(RolloutWorker pid=15280)\u001b[0m   warnings.warn(f\"Time-step timed out. Elapsed since last time-step: {now - self.__t_end}\")\n"
     ]
    },
    {
     "name": "stdout",
     "output_type": "stream",
     "text": [
      "Loop:  1669\n",
      "\u001b[2m\u001b[36m(RolloutWorker pid=15280)\u001b[0m reset triggered\n",
      "\u001b[2m\u001b[36m(RolloutWorker pid=15280)\u001b[0m reload save for track : 4\n"
     ]
    },
    {
     "name": "stderr",
     "output_type": "stream",
     "text": [
      "\u001b[2m\u001b[36m(RolloutWorker pid=15280)\u001b[0m c:\\Users\\nadir\\anaconda3\\envs\\GTAI2\\lib\\site-packages\\rtgym\\envs\\real_time_env.py:376: UserWarning: Time-step timed out. Elapsed since last time-step: 0.14819550032552797\n",
      "\u001b[2m\u001b[36m(RolloutWorker pid=15280)\u001b[0m   warnings.warn(f\"Time-step timed out. Elapsed since last time-step: {now - self.__t_end}\")\n"
     ]
    },
    {
     "name": "stdout",
     "output_type": "stream",
     "text": [
      "Loop:  1670\n",
      "Saved 1670\n",
      "Loop:  1671\n",
      "\u001b[2m\u001b[36m(RolloutWorker pid=15280)\u001b[0m reset triggered\n",
      "\u001b[2m\u001b[36m(RolloutWorker pid=15280)\u001b[0m reload save for track : 4\n"
     ]
    },
    {
     "name": "stderr",
     "output_type": "stream",
     "text": [
      "\u001b[2m\u001b[36m(RolloutWorker pid=15280)\u001b[0m c:\\Users\\nadir\\anaconda3\\envs\\GTAI2\\lib\\site-packages\\rtgym\\envs\\real_time_env.py:376: UserWarning: Time-step timed out. Elapsed since last time-step: 0.14187790032519842\n",
      "\u001b[2m\u001b[36m(RolloutWorker pid=15280)\u001b[0m   warnings.warn(f\"Time-step timed out. Elapsed since last time-step: {now - self.__t_end}\")\n"
     ]
    },
    {
     "name": "stdout",
     "output_type": "stream",
     "text": [
      "Loop:  1672\n",
      "\u001b[2m\u001b[36m(RolloutWorker pid=15280)\u001b[0m reset triggered\n",
      "\u001b[2m\u001b[36m(RolloutWorker pid=15280)\u001b[0m reload save for track : 4\n"
     ]
    },
    {
     "name": "stderr",
     "output_type": "stream",
     "text": [
      "\u001b[2m\u001b[36m(RolloutWorker pid=15280)\u001b[0m c:\\Users\\nadir\\anaconda3\\envs\\GTAI2\\lib\\site-packages\\rtgym\\envs\\real_time_env.py:376: UserWarning: Time-step timed out. Elapsed since last time-step: 0.1580578003267874\n",
      "\u001b[2m\u001b[36m(RolloutWorker pid=15280)\u001b[0m   warnings.warn(f\"Time-step timed out. Elapsed since last time-step: {now - self.__t_end}\")\n"
     ]
    },
    {
     "name": "stdout",
     "output_type": "stream",
     "text": [
      "Loop:  1673\n",
      "\u001b[2m\u001b[36m(RolloutWorker pid=15280)\u001b[0m reset triggered\n",
      "\u001b[2m\u001b[36m(RolloutWorker pid=15280)\u001b[0m reload save for track : 4\n"
     ]
    },
    {
     "name": "stderr",
     "output_type": "stream",
     "text": [
      "\u001b[2m\u001b[36m(RolloutWorker pid=15280)\u001b[0m c:\\Users\\nadir\\anaconda3\\envs\\GTAI2\\lib\\site-packages\\rtgym\\envs\\real_time_env.py:376: UserWarning: Time-step timed out. Elapsed since last time-step: 0.16276510032548686\n",
      "\u001b[2m\u001b[36m(RolloutWorker pid=15280)\u001b[0m   warnings.warn(f\"Time-step timed out. Elapsed since last time-step: {now - self.__t_end}\")\n"
     ]
    },
    {
     "name": "stdout",
     "output_type": "stream",
     "text": [
      "Loop:  1674\n",
      "Loop:  1675\n",
      "\u001b[2m\u001b[36m(RolloutWorker pid=15280)\u001b[0m reset triggered\n",
      "\u001b[2m\u001b[36m(RolloutWorker pid=15280)\u001b[0m reload save for track : 4\n"
     ]
    },
    {
     "name": "stderr",
     "output_type": "stream",
     "text": [
      "\u001b[2m\u001b[36m(RolloutWorker pid=15280)\u001b[0m c:\\Users\\nadir\\anaconda3\\envs\\GTAI2\\lib\\site-packages\\rtgym\\envs\\real_time_env.py:376: UserWarning: Time-step timed out. Elapsed since last time-step: 0.14572450032574125\n",
      "\u001b[2m\u001b[36m(RolloutWorker pid=15280)\u001b[0m   warnings.warn(f\"Time-step timed out. Elapsed since last time-step: {now - self.__t_end}\")\n"
     ]
    },
    {
     "name": "stdout",
     "output_type": "stream",
     "text": [
      "Loop:  1676\n",
      "\u001b[2m\u001b[36m(RolloutWorker pid=15280)\u001b[0m reset triggered\n",
      "\u001b[2m\u001b[36m(RolloutWorker pid=15280)\u001b[0m reload save for track : 4\n"
     ]
    },
    {
     "name": "stderr",
     "output_type": "stream",
     "text": [
      "\u001b[2m\u001b[36m(RolloutWorker pid=15280)\u001b[0m c:\\Users\\nadir\\anaconda3\\envs\\GTAI2\\lib\\site-packages\\rtgym\\envs\\real_time_env.py:376: UserWarning: Time-step timed out. Elapsed since last time-step: 0.1335110003274167\n",
      "\u001b[2m\u001b[36m(RolloutWorker pid=15280)\u001b[0m   warnings.warn(f\"Time-step timed out. Elapsed since last time-step: {now - self.__t_end}\")\n"
     ]
    },
    {
     "name": "stdout",
     "output_type": "stream",
     "text": [
      "Loop:  1677\n",
      "Loop:  1678\n",
      "\u001b[2m\u001b[36m(RolloutWorker pid=15280)\u001b[0m reset triggered\n",
      "\u001b[2m\u001b[36m(RolloutWorker pid=15280)\u001b[0m reload save for track : 4\n"
     ]
    },
    {
     "name": "stderr",
     "output_type": "stream",
     "text": [
      "\u001b[2m\u001b[36m(RolloutWorker pid=15280)\u001b[0m c:\\Users\\nadir\\anaconda3\\envs\\GTAI2\\lib\\site-packages\\rtgym\\envs\\real_time_env.py:376: UserWarning: Time-step timed out. Elapsed since last time-step: 0.12993530032690614\n",
      "\u001b[2m\u001b[36m(RolloutWorker pid=15280)\u001b[0m   warnings.warn(f\"Time-step timed out. Elapsed since last time-step: {now - self.__t_end}\")\n"
     ]
    },
    {
     "name": "stdout",
     "output_type": "stream",
     "text": [
      "Loop:  1679\n",
      "\u001b[2m\u001b[36m(RolloutWorker pid=15280)\u001b[0m reset triggered\n",
      "\u001b[2m\u001b[36m(RolloutWorker pid=15280)\u001b[0m reload save for track : 4\n"
     ]
    },
    {
     "name": "stderr",
     "output_type": "stream",
     "text": [
      "\u001b[2m\u001b[36m(RolloutWorker pid=15280)\u001b[0m c:\\Users\\nadir\\anaconda3\\envs\\GTAI2\\lib\\site-packages\\rtgym\\envs\\real_time_env.py:376: UserWarning: Time-step timed out. Elapsed since last time-step: 0.140720400326245\n",
      "\u001b[2m\u001b[36m(RolloutWorker pid=15280)\u001b[0m   warnings.warn(f\"Time-step timed out. Elapsed since last time-step: {now - self.__t_end}\")\n",
      "NaN or Inf found in input tensor.\n",
      "2023-05-24 15:47:04,924\tERROR actor_manager.py:507 -- Ray error, taking actor 1 out of service. \u001b[36mray::RolloutWorker.apply()\u001b[39m (pid=15280, ip=127.0.0.1, repr=<ray.rllib.evaluation.rollout_worker.RolloutWorker object at 0x00000203096B31C0>)\n",
      "  File \"python\\ray\\_raylet.pyx\", line 877, in ray._raylet.execute_task\n",
      "  File \"python\\ray\\_raylet.pyx\", line 881, in ray._raylet.execute_task\n",
      "  File \"python\\ray\\_raylet.pyx\", line 821, in ray._raylet.execute_task.function_executor\n",
      "  File \"c:\\Users\\nadir\\anaconda3\\envs\\GTAI2\\lib\\site-packages\\ray\\_private\\function_manager.py\", line 670, in actor_method_executor\n",
      "    return method(__ray_actor, *args, **kwargs)\n",
      "  File \"c:\\Users\\nadir\\anaconda3\\envs\\GTAI2\\lib\\site-packages\\ray\\util\\tracing\\tracing_helper.py\", line 460, in _resume_span\n",
      "    return method(self, *_args, **_kwargs)\n",
      "  File \"c:\\Users\\nadir\\anaconda3\\envs\\GTAI2\\lib\\site-packages\\ray\\rllib\\utils\\actor_manager.py\", line 185, in apply\n",
      "    raise e\n",
      "  File \"c:\\Users\\nadir\\anaconda3\\envs\\GTAI2\\lib\\site-packages\\ray\\rllib\\utils\\actor_manager.py\", line 176, in apply\n",
      "    return func(self, *args, **kwargs)\n",
      "  File \"c:\\Users\\nadir\\anaconda3\\envs\\GTAI2\\lib\\site-packages\\ray\\rllib\\execution\\rollout_ops.py\", line 86, in <lambda>\n",
      "    lambda w: w.sample(), local_worker=False, healthy_only=True\n",
      "  File \"c:\\Users\\nadir\\anaconda3\\envs\\GTAI2\\lib\\site-packages\\ray\\util\\tracing\\tracing_helper.py\", line 460, in _resume_span\n",
      "    return method(self, *_args, **_kwargs)\n",
      "  File \"c:\\Users\\nadir\\anaconda3\\envs\\GTAI2\\lib\\site-packages\\ray\\rllib\\evaluation\\rollout_worker.py\", line 915, in sample\n",
      "    batches = [self.input_reader.next()]\n",
      "  File \"c:\\Users\\nadir\\anaconda3\\envs\\GTAI2\\lib\\site-packages\\ray\\rllib\\evaluation\\sampler.py\", line 92, in next\n",
      "    batches = [self.get_data()]\n",
      "  File \"c:\\Users\\nadir\\anaconda3\\envs\\GTAI2\\lib\\site-packages\\ray\\rllib\\evaluation\\sampler.py\", line 277, in get_data\n",
      "    item = next(self._env_runner)\n",
      "  File \"c:\\Users\\nadir\\anaconda3\\envs\\GTAI2\\lib\\site-packages\\ray\\rllib\\evaluation\\env_runner_v2.py\", line 323, in run\n",
      "    outputs = self.step()\n",
      "  File \"c:\\Users\\nadir\\anaconda3\\envs\\GTAI2\\lib\\site-packages\\ray\\rllib\\evaluation\\env_runner_v2.py\", line 361, in step\n",
      "    eval_results = self._do_policy_eval(to_eval=to_eval)\n",
      "  File \"c:\\Users\\nadir\\anaconda3\\envs\\GTAI2\\lib\\site-packages\\ray\\rllib\\evaluation\\env_runner_v2.py\", line 1049, in _do_policy_eval\n",
      "    eval_results[policy_id] = policy.compute_actions_from_input_dict(\n",
      "  File \"c:\\Users\\nadir\\anaconda3\\envs\\GTAI2\\lib\\site-packages\\ray\\rllib\\policy\\torch_policy_v2.py\", line 522, in compute_actions_from_input_dict\n",
      "    return self._compute_action_helper(\n",
      "  File \"c:\\Users\\nadir\\anaconda3\\envs\\GTAI2\\lib\\site-packages\\ray\\rllib\\utils\\threading.py\", line 24, in wrapper\n",
      "    return func(self, *a, **k)\n",
      "  File \"c:\\Users\\nadir\\anaconda3\\envs\\GTAI2\\lib\\site-packages\\ray\\rllib\\policy\\torch_policy_v2.py\", line 1153, in _compute_action_helper\n",
      "    action_dist = dist_class(dist_inputs, self.model)\n",
      "  File \"c:\\Users\\nadir\\anaconda3\\envs\\GTAI2\\lib\\site-packages\\ray\\rllib\\models\\torch\\torch_action_dist.py\", line 250, in __init__\n",
      "    self.dist = torch.distributions.normal.Normal(mean, torch.exp(log_std))\n",
      "  File \"c:\\Users\\nadir\\anaconda3\\envs\\GTAI2\\lib\\site-packages\\torch\\distributions\\normal.py\", line 54, in __init__\n",
      "    super(Normal, self).__init__(batch_shape, validate_args=validate_args)\n",
      "  File \"c:\\Users\\nadir\\anaconda3\\envs\\GTAI2\\lib\\site-packages\\torch\\distributions\\distribution.py\", line 55, in __init__\n",
      "    raise ValueError(\n",
      "ValueError: Expected parameter loc (Tensor of shape (1, 3)) of distribution Normal(loc: torch.Size([1, 3]), scale: torch.Size([1, 3])) to satisfy the constraint Real(), but found invalid values:\n",
      "tensor([[nan, nan, nan]])\n"
     ]
    },
    {
     "name": "stdout",
     "output_type": "stream",
     "text": [
      "Loop:  1680\n",
      "Saved 1680\n"
     ]
    },
    {
     "ename": "RayTaskError(ValueError)",
     "evalue": "\u001b[36mray::RolloutWorker.apply()\u001b[39m (pid=15280, ip=127.0.0.1, repr=<ray.rllib.evaluation.rollout_worker.RolloutWorker object at 0x00000203096B31C0>)\n  File \"python\\ray\\_raylet.pyx\", line 877, in ray._raylet.execute_task\n  File \"python\\ray\\_raylet.pyx\", line 881, in ray._raylet.execute_task\n  File \"python\\ray\\_raylet.pyx\", line 821, in ray._raylet.execute_task.function_executor\n  File \"c:\\Users\\nadir\\anaconda3\\envs\\GTAI2\\lib\\site-packages\\ray\\_private\\function_manager.py\", line 670, in actor_method_executor\n    return method(__ray_actor, *args, **kwargs)\n  File \"c:\\Users\\nadir\\anaconda3\\envs\\GTAI2\\lib\\site-packages\\ray\\util\\tracing\\tracing_helper.py\", line 460, in _resume_span\n    return method(self, *_args, **_kwargs)\n  File \"c:\\Users\\nadir\\anaconda3\\envs\\GTAI2\\lib\\site-packages\\ray\\rllib\\utils\\actor_manager.py\", line 185, in apply\n    raise e\n  File \"c:\\Users\\nadir\\anaconda3\\envs\\GTAI2\\lib\\site-packages\\ray\\rllib\\utils\\actor_manager.py\", line 176, in apply\n    return func(self, *args, **kwargs)\n  File \"c:\\Users\\nadir\\anaconda3\\envs\\GTAI2\\lib\\site-packages\\ray\\rllib\\execution\\rollout_ops.py\", line 86, in <lambda>\n    lambda w: w.sample(), local_worker=False, healthy_only=True\n  File \"c:\\Users\\nadir\\anaconda3\\envs\\GTAI2\\lib\\site-packages\\ray\\util\\tracing\\tracing_helper.py\", line 460, in _resume_span\n    return method(self, *_args, **_kwargs)\n  File \"c:\\Users\\nadir\\anaconda3\\envs\\GTAI2\\lib\\site-packages\\ray\\rllib\\evaluation\\rollout_worker.py\", line 915, in sample\n    batches = [self.input_reader.next()]\n  File \"c:\\Users\\nadir\\anaconda3\\envs\\GTAI2\\lib\\site-packages\\ray\\rllib\\evaluation\\sampler.py\", line 92, in next\n    batches = [self.get_data()]\n  File \"c:\\Users\\nadir\\anaconda3\\envs\\GTAI2\\lib\\site-packages\\ray\\rllib\\evaluation\\sampler.py\", line 277, in get_data\n    item = next(self._env_runner)\n  File \"c:\\Users\\nadir\\anaconda3\\envs\\GTAI2\\lib\\site-packages\\ray\\rllib\\evaluation\\env_runner_v2.py\", line 323, in run\n    outputs = self.step()\n  File \"c:\\Users\\nadir\\anaconda3\\envs\\GTAI2\\lib\\site-packages\\ray\\rllib\\evaluation\\env_runner_v2.py\", line 361, in step\n    eval_results = self._do_policy_eval(to_eval=to_eval)\n  File \"c:\\Users\\nadir\\anaconda3\\envs\\GTAI2\\lib\\site-packages\\ray\\rllib\\evaluation\\env_runner_v2.py\", line 1049, in _do_policy_eval\n    eval_results[policy_id] = policy.compute_actions_from_input_dict(\n  File \"c:\\Users\\nadir\\anaconda3\\envs\\GTAI2\\lib\\site-packages\\ray\\rllib\\policy\\torch_policy_v2.py\", line 522, in compute_actions_from_input_dict\n    return self._compute_action_helper(\n  File \"c:\\Users\\nadir\\anaconda3\\envs\\GTAI2\\lib\\site-packages\\ray\\rllib\\utils\\threading.py\", line 24, in wrapper\n    return func(self, *a, **k)\n  File \"c:\\Users\\nadir\\anaconda3\\envs\\GTAI2\\lib\\site-packages\\ray\\rllib\\policy\\torch_policy_v2.py\", line 1153, in _compute_action_helper\n    action_dist = dist_class(dist_inputs, self.model)\n  File \"c:\\Users\\nadir\\anaconda3\\envs\\GTAI2\\lib\\site-packages\\ray\\rllib\\models\\torch\\torch_action_dist.py\", line 250, in __init__\n    self.dist = torch.distributions.normal.Normal(mean, torch.exp(log_std))\n  File \"c:\\Users\\nadir\\anaconda3\\envs\\GTAI2\\lib\\site-packages\\torch\\distributions\\normal.py\", line 54, in __init__\n    super(Normal, self).__init__(batch_shape, validate_args=validate_args)\n  File \"c:\\Users\\nadir\\anaconda3\\envs\\GTAI2\\lib\\site-packages\\torch\\distributions\\distribution.py\", line 55, in __init__\n    raise ValueError(\nValueError: Expected parameter loc (Tensor of shape (1, 3)) of distribution Normal(loc: torch.Size([1, 3]), scale: torch.Size([1, 3])) to satisfy the constraint Real(), but found invalid values:\ntensor([[nan, nan, nan]])",
     "output_type": "error",
     "traceback": [
      "\u001b[1;31m---------------------------------------------------------------------------\u001b[0m",
      "\u001b[1;31mRayTaskError(ValueError)\u001b[0m                  Traceback (most recent call last)",
      "\u001b[1;32mj:\\git\\TensorFlowPSX\\Py\\rrlib_experiments_A2C_mode4_Supra_Drag_Torch.ipynb Cell 9\u001b[0m in \u001b[0;36m5\n\u001b[0;32m      <a href='vscode-notebook-cell:/j%3A/git/TensorFlowPSX/Py/rrlib_experiments_A2C_mode4_Supra_Drag_Torch.ipynb#X11sZmlsZQ%3D%3D?line=1'>2</a>\u001b[0m N \u001b[39m=\u001b[39m \u001b[39m2000\u001b[39m\n\u001b[0;32m      <a href='vscode-notebook-cell:/j%3A/git/TensorFlowPSX/Py/rrlib_experiments_A2C_mode4_Supra_Drag_Torch.ipynb#X11sZmlsZQ%3D%3D?line=3'>4</a>\u001b[0m \u001b[39mfor\u001b[39;00m n \u001b[39min\u001b[39;00m \u001b[39mrange\u001b[39m(N):\n\u001b[1;32m----> <a href='vscode-notebook-cell:/j%3A/git/TensorFlowPSX/Py/rrlib_experiments_A2C_mode4_Supra_Drag_Torch.ipynb#X11sZmlsZQ%3D%3D?line=4'>5</a>\u001b[0m     result \u001b[39m=\u001b[39m algo\u001b[39m.\u001b[39;49mtrain()\n\u001b[0;32m      <a href='vscode-notebook-cell:/j%3A/git/TensorFlowPSX/Py/rrlib_experiments_A2C_mode4_Supra_Drag_Torch.ipynb#X11sZmlsZQ%3D%3D?line=5'>6</a>\u001b[0m     \u001b[39mprint\u001b[39m(\u001b[39m\"\u001b[39m\u001b[39mLoop: \u001b[39m\u001b[39m\"\u001b[39m, n)\n\u001b[0;32m      <a href='vscode-notebook-cell:/j%3A/git/TensorFlowPSX/Py/rrlib_experiments_A2C_mode4_Supra_Drag_Torch.ipynb#X11sZmlsZQ%3D%3D?line=6'>7</a>\u001b[0m     \u001b[39mif\u001b[39;00m n \u001b[39m%\u001b[39m \u001b[39m10\u001b[39m \u001b[39m==\u001b[39m \u001b[39m0\u001b[39m:\n",
      "File \u001b[1;32mc:\\Users\\nadir\\anaconda3\\envs\\GTAI2\\lib\\site-packages\\ray\\tune\\trainable\\trainable.py:384\u001b[0m, in \u001b[0;36mTrainable.train\u001b[1;34m(self)\u001b[0m\n\u001b[0;32m    382\u001b[0m \u001b[39mexcept\u001b[39;00m \u001b[39mException\u001b[39;00m \u001b[39mas\u001b[39;00m e:\n\u001b[0;32m    383\u001b[0m     skipped \u001b[39m=\u001b[39m skip_exceptions(e)\n\u001b[1;32m--> 384\u001b[0m     \u001b[39mraise\u001b[39;00m skipped \u001b[39mfrom\u001b[39;00m \u001b[39mexception_cause\u001b[39;00m(skipped)\n\u001b[0;32m    386\u001b[0m \u001b[39massert\u001b[39;00m \u001b[39misinstance\u001b[39m(result, \u001b[39mdict\u001b[39m), \u001b[39m\"\u001b[39m\u001b[39mstep() needs to return a dict.\u001b[39m\u001b[39m\"\u001b[39m\n\u001b[0;32m    388\u001b[0m \u001b[39m# We do not modify internal state nor update this result if duplicate.\u001b[39;00m\n",
      "File \u001b[1;32mc:\\Users\\nadir\\anaconda3\\envs\\GTAI2\\lib\\site-packages\\ray\\tune\\trainable\\trainable.py:381\u001b[0m, in \u001b[0;36mTrainable.train\u001b[1;34m(self)\u001b[0m\n\u001b[0;32m    379\u001b[0m start \u001b[39m=\u001b[39m time\u001b[39m.\u001b[39mtime()\n\u001b[0;32m    380\u001b[0m \u001b[39mtry\u001b[39;00m:\n\u001b[1;32m--> 381\u001b[0m     result \u001b[39m=\u001b[39m \u001b[39mself\u001b[39;49m\u001b[39m.\u001b[39;49mstep()\n\u001b[0;32m    382\u001b[0m \u001b[39mexcept\u001b[39;00m \u001b[39mException\u001b[39;00m \u001b[39mas\u001b[39;00m e:\n\u001b[0;32m    383\u001b[0m     skipped \u001b[39m=\u001b[39m skip_exceptions(e)\n",
      "File \u001b[1;32mc:\\Users\\nadir\\anaconda3\\envs\\GTAI2\\lib\\site-packages\\ray\\rllib\\algorithms\\algorithm.py:792\u001b[0m, in \u001b[0;36mAlgorithm.step\u001b[1;34m(self)\u001b[0m\n\u001b[0;32m    784\u001b[0m     (\n\u001b[0;32m    785\u001b[0m         results,\n\u001b[0;32m    786\u001b[0m         train_iter_ctx,\n\u001b[0;32m    787\u001b[0m     ) \u001b[39m=\u001b[39m \u001b[39mself\u001b[39m\u001b[39m.\u001b[39m_run_one_training_iteration_and_evaluation_in_parallel()\n\u001b[0;32m    788\u001b[0m \u001b[39m# - No evaluation necessary, just run the next training iteration.\u001b[39;00m\n\u001b[0;32m    789\u001b[0m \u001b[39m# - We have to evaluate in this training iteration, but no parallelism ->\u001b[39;00m\n\u001b[0;32m    790\u001b[0m \u001b[39m#   evaluate after the training iteration is entirely done.\u001b[39;00m\n\u001b[0;32m    791\u001b[0m \u001b[39melse\u001b[39;00m:\n\u001b[1;32m--> 792\u001b[0m     results, train_iter_ctx \u001b[39m=\u001b[39m \u001b[39mself\u001b[39;49m\u001b[39m.\u001b[39;49m_run_one_training_iteration()\n\u001b[0;32m    794\u001b[0m \u001b[39m# Sequential: Train (already done above), then evaluate.\u001b[39;00m\n\u001b[0;32m    795\u001b[0m \u001b[39mif\u001b[39;00m evaluate_this_iter \u001b[39mand\u001b[39;00m \u001b[39mnot\u001b[39;00m \u001b[39mself\u001b[39m\u001b[39m.\u001b[39mconfig\u001b[39m.\u001b[39mevaluation_parallel_to_training:\n",
      "File \u001b[1;32mc:\\Users\\nadir\\anaconda3\\envs\\GTAI2\\lib\\site-packages\\ray\\rllib\\algorithms\\algorithm.py:2811\u001b[0m, in \u001b[0;36mAlgorithm._run_one_training_iteration\u001b[1;34m(self)\u001b[0m\n\u001b[0;32m   2809\u001b[0m \u001b[39mwith\u001b[39;00m \u001b[39mself\u001b[39m\u001b[39m.\u001b[39m_timers[TRAINING_ITERATION_TIMER]:\n\u001b[0;32m   2810\u001b[0m     \u001b[39mif\u001b[39;00m \u001b[39mself\u001b[39m\u001b[39m.\u001b[39mconfig\u001b[39m.\u001b[39m_disable_execution_plan_api:\n\u001b[1;32m-> 2811\u001b[0m         results \u001b[39m=\u001b[39m \u001b[39mself\u001b[39;49m\u001b[39m.\u001b[39;49mtraining_step()\n\u001b[0;32m   2812\u001b[0m     \u001b[39melse\u001b[39;00m:\n\u001b[0;32m   2813\u001b[0m         results \u001b[39m=\u001b[39m \u001b[39mnext\u001b[39m(\u001b[39mself\u001b[39m\u001b[39m.\u001b[39mtrain_exec_impl)\n",
      "File \u001b[1;32mc:\\Users\\nadir\\anaconda3\\envs\\GTAI2\\lib\\site-packages\\ray\\rllib\\algorithms\\a2c\\a2c.py:174\u001b[0m, in \u001b[0;36mA2C.training_step\u001b[1;34m(self)\u001b[0m\n\u001b[0;32m    167\u001b[0m \u001b[39m@override\u001b[39m(A3C)\n\u001b[0;32m    168\u001b[0m \u001b[39mdef\u001b[39;00m \u001b[39mtraining_step\u001b[39m(\u001b[39mself\u001b[39m) \u001b[39m-\u001b[39m\u001b[39m>\u001b[39m ResultDict:\n\u001b[0;32m    169\u001b[0m     \u001b[39m# Fallback to Algorithm.training_step() and A3C policies (loss_fn etc).\u001b[39;00m\n\u001b[0;32m    170\u001b[0m     \u001b[39m# W/o microbatching: Identical to Algorithm's default implementation.\u001b[39;00m\n\u001b[0;32m    171\u001b[0m     \u001b[39m# Only difference to a default Algorithm being the value function loss term\u001b[39;00m\n\u001b[0;32m    172\u001b[0m     \u001b[39m# and its value computations alongside each action.\u001b[39;00m\n\u001b[0;32m    173\u001b[0m     \u001b[39mif\u001b[39;00m \u001b[39mself\u001b[39m\u001b[39m.\u001b[39mconfig\u001b[39m.\u001b[39mmicrobatch_size \u001b[39mis\u001b[39;00m \u001b[39mNone\u001b[39;00m:\n\u001b[1;32m--> 174\u001b[0m         \u001b[39mreturn\u001b[39;00m Algorithm\u001b[39m.\u001b[39;49mtraining_step(\u001b[39mself\u001b[39;49m)\n\u001b[0;32m    176\u001b[0m     \u001b[39m# In microbatch mode, we want to compute gradients on experience\u001b[39;00m\n\u001b[0;32m    177\u001b[0m     \u001b[39m# microbatches, average a number of these microbatches, and then\u001b[39;00m\n\u001b[0;32m    178\u001b[0m     \u001b[39m# apply the averaged gradient in one SGD step. This conserves GPU\u001b[39;00m\n\u001b[0;32m    179\u001b[0m     \u001b[39m# memory, allowing for extremely large experience batches to be\u001b[39;00m\n\u001b[0;32m    180\u001b[0m     \u001b[39m# used.\u001b[39;00m\n\u001b[0;32m    181\u001b[0m     \u001b[39mwith\u001b[39;00m \u001b[39mself\u001b[39m\u001b[39m.\u001b[39m_timers[SAMPLE_TIMER]:\n",
      "File \u001b[1;32mc:\\Users\\nadir\\anaconda3\\envs\\GTAI2\\lib\\site-packages\\ray\\rllib\\algorithms\\algorithm.py:1359\u001b[0m, in \u001b[0;36mAlgorithm.training_step\u001b[1;34m(self)\u001b[0m\n\u001b[0;32m   1354\u001b[0m         train_batch \u001b[39m=\u001b[39m synchronous_parallel_sample(\n\u001b[0;32m   1355\u001b[0m             worker_set\u001b[39m=\u001b[39m\u001b[39mself\u001b[39m\u001b[39m.\u001b[39mworkers,\n\u001b[0;32m   1356\u001b[0m             max_agent_steps\u001b[39m=\u001b[39m\u001b[39mself\u001b[39m\u001b[39m.\u001b[39mconfig\u001b[39m.\u001b[39mtrain_batch_size,\n\u001b[0;32m   1357\u001b[0m         )\n\u001b[0;32m   1358\u001b[0m     \u001b[39melse\u001b[39;00m:\n\u001b[1;32m-> 1359\u001b[0m         train_batch \u001b[39m=\u001b[39m synchronous_parallel_sample(\n\u001b[0;32m   1360\u001b[0m             worker_set\u001b[39m=\u001b[39;49m\u001b[39mself\u001b[39;49m\u001b[39m.\u001b[39;49mworkers, max_env_steps\u001b[39m=\u001b[39;49m\u001b[39mself\u001b[39;49m\u001b[39m.\u001b[39;49mconfig\u001b[39m.\u001b[39;49mtrain_batch_size\n\u001b[0;32m   1361\u001b[0m         )\n\u001b[0;32m   1362\u001b[0m train_batch \u001b[39m=\u001b[39m train_batch\u001b[39m.\u001b[39mas_multi_agent()\n\u001b[0;32m   1363\u001b[0m \u001b[39mself\u001b[39m\u001b[39m.\u001b[39m_counters[NUM_AGENT_STEPS_SAMPLED] \u001b[39m+\u001b[39m\u001b[39m=\u001b[39m train_batch\u001b[39m.\u001b[39magent_steps()\n",
      "File \u001b[1;32mc:\\Users\\nadir\\anaconda3\\envs\\GTAI2\\lib\\site-packages\\ray\\rllib\\execution\\rollout_ops.py:85\u001b[0m, in \u001b[0;36msynchronous_parallel_sample\u001b[1;34m(worker_set, max_agent_steps, max_env_steps, concat)\u001b[0m\n\u001b[0;32m     82\u001b[0m     sample_batches \u001b[39m=\u001b[39m [worker_set\u001b[39m.\u001b[39mlocal_worker()\u001b[39m.\u001b[39msample()]\n\u001b[0;32m     83\u001b[0m \u001b[39m# Loop over remote workers' `sample()` method in parallel.\u001b[39;00m\n\u001b[0;32m     84\u001b[0m \u001b[39melse\u001b[39;00m:\n\u001b[1;32m---> 85\u001b[0m     sample_batches \u001b[39m=\u001b[39m worker_set\u001b[39m.\u001b[39;49mforeach_worker(\n\u001b[0;32m     86\u001b[0m         \u001b[39mlambda\u001b[39;49;00m w: w\u001b[39m.\u001b[39;49msample(), local_worker\u001b[39m=\u001b[39;49m\u001b[39mFalse\u001b[39;49;00m, healthy_only\u001b[39m=\u001b[39;49m\u001b[39mTrue\u001b[39;49;00m\n\u001b[0;32m     87\u001b[0m     )\n\u001b[0;32m     88\u001b[0m     \u001b[39mif\u001b[39;00m worker_set\u001b[39m.\u001b[39mnum_healthy_remote_workers() \u001b[39m<\u001b[39m\u001b[39m=\u001b[39m \u001b[39m0\u001b[39m:\n\u001b[0;32m     89\u001b[0m         \u001b[39m# There is no point staying in this loop, since we will not be able to\u001b[39;00m\n\u001b[0;32m     90\u001b[0m         \u001b[39m# get any new samples if we don't have any healthy remote workers left.\u001b[39;00m\n\u001b[0;32m     91\u001b[0m         \u001b[39mbreak\u001b[39;00m\n",
      "File \u001b[1;32mc:\\Users\\nadir\\anaconda3\\envs\\GTAI2\\lib\\site-packages\\ray\\rllib\\evaluation\\worker_set.py:722\u001b[0m, in \u001b[0;36mWorkerSet.foreach_worker\u001b[1;34m(self, func, local_worker, healthy_only, remote_worker_ids, timeout_seconds, return_obj_refs, mark_healthy)\u001b[0m\n\u001b[0;32m    711\u001b[0m     local_result \u001b[39m=\u001b[39m [func(\u001b[39mself\u001b[39m\u001b[39m.\u001b[39mlocal_worker())]\n\u001b[0;32m    713\u001b[0m remote_results \u001b[39m=\u001b[39m \u001b[39mself\u001b[39m\u001b[39m.\u001b[39m__worker_manager\u001b[39m.\u001b[39mforeach_actor(\n\u001b[0;32m    714\u001b[0m     func,\n\u001b[0;32m    715\u001b[0m     healthy_only\u001b[39m=\u001b[39mhealthy_only,\n\u001b[1;32m   (...)\u001b[0m\n\u001b[0;32m    719\u001b[0m     mark_healthy\u001b[39m=\u001b[39mmark_healthy,\n\u001b[0;32m    720\u001b[0m )\n\u001b[1;32m--> 722\u001b[0m handle_remote_call_result_errors(remote_results, \u001b[39mself\u001b[39;49m\u001b[39m.\u001b[39;49m_ignore_worker_failures)\n\u001b[0;32m    724\u001b[0m \u001b[39m# With application errors handled, return good results.\u001b[39;00m\n\u001b[0;32m    725\u001b[0m remote_results \u001b[39m=\u001b[39m [r\u001b[39m.\u001b[39mget() \u001b[39mfor\u001b[39;00m r \u001b[39min\u001b[39;00m remote_results\u001b[39m.\u001b[39mignore_errors()]\n",
      "File \u001b[1;32mc:\\Users\\nadir\\anaconda3\\envs\\GTAI2\\lib\\site-packages\\ray\\rllib\\evaluation\\worker_set.py:75\u001b[0m, in \u001b[0;36mhandle_remote_call_result_errors\u001b[1;34m(results, ignore_worker_failures)\u001b[0m\n\u001b[0;32m     73\u001b[0m     logger\u001b[39m.\u001b[39mexception(r\u001b[39m.\u001b[39mget())\n\u001b[0;32m     74\u001b[0m \u001b[39melse\u001b[39;00m:\n\u001b[1;32m---> 75\u001b[0m     \u001b[39mraise\u001b[39;00m r\u001b[39m.\u001b[39mget()\n",
      "\u001b[1;31mRayTaskError(ValueError)\u001b[0m: \u001b[36mray::RolloutWorker.apply()\u001b[39m (pid=15280, ip=127.0.0.1, repr=<ray.rllib.evaluation.rollout_worker.RolloutWorker object at 0x00000203096B31C0>)\n  File \"python\\ray\\_raylet.pyx\", line 877, in ray._raylet.execute_task\n  File \"python\\ray\\_raylet.pyx\", line 881, in ray._raylet.execute_task\n  File \"python\\ray\\_raylet.pyx\", line 821, in ray._raylet.execute_task.function_executor\n  File \"c:\\Users\\nadir\\anaconda3\\envs\\GTAI2\\lib\\site-packages\\ray\\_private\\function_manager.py\", line 670, in actor_method_executor\n    return method(__ray_actor, *args, **kwargs)\n  File \"c:\\Users\\nadir\\anaconda3\\envs\\GTAI2\\lib\\site-packages\\ray\\util\\tracing\\tracing_helper.py\", line 460, in _resume_span\n    return method(self, *_args, **_kwargs)\n  File \"c:\\Users\\nadir\\anaconda3\\envs\\GTAI2\\lib\\site-packages\\ray\\rllib\\utils\\actor_manager.py\", line 185, in apply\n    raise e\n  File \"c:\\Users\\nadir\\anaconda3\\envs\\GTAI2\\lib\\site-packages\\ray\\rllib\\utils\\actor_manager.py\", line 176, in apply\n    return func(self, *args, **kwargs)\n  File \"c:\\Users\\nadir\\anaconda3\\envs\\GTAI2\\lib\\site-packages\\ray\\rllib\\execution\\rollout_ops.py\", line 86, in <lambda>\n    lambda w: w.sample(), local_worker=False, healthy_only=True\n  File \"c:\\Users\\nadir\\anaconda3\\envs\\GTAI2\\lib\\site-packages\\ray\\util\\tracing\\tracing_helper.py\", line 460, in _resume_span\n    return method(self, *_args, **_kwargs)\n  File \"c:\\Users\\nadir\\anaconda3\\envs\\GTAI2\\lib\\site-packages\\ray\\rllib\\evaluation\\rollout_worker.py\", line 915, in sample\n    batches = [self.input_reader.next()]\n  File \"c:\\Users\\nadir\\anaconda3\\envs\\GTAI2\\lib\\site-packages\\ray\\rllib\\evaluation\\sampler.py\", line 92, in next\n    batches = [self.get_data()]\n  File \"c:\\Users\\nadir\\anaconda3\\envs\\GTAI2\\lib\\site-packages\\ray\\rllib\\evaluation\\sampler.py\", line 277, in get_data\n    item = next(self._env_runner)\n  File \"c:\\Users\\nadir\\anaconda3\\envs\\GTAI2\\lib\\site-packages\\ray\\rllib\\evaluation\\env_runner_v2.py\", line 323, in run\n    outputs = self.step()\n  File \"c:\\Users\\nadir\\anaconda3\\envs\\GTAI2\\lib\\site-packages\\ray\\rllib\\evaluation\\env_runner_v2.py\", line 361, in step\n    eval_results = self._do_policy_eval(to_eval=to_eval)\n  File \"c:\\Users\\nadir\\anaconda3\\envs\\GTAI2\\lib\\site-packages\\ray\\rllib\\evaluation\\env_runner_v2.py\", line 1049, in _do_policy_eval\n    eval_results[policy_id] = policy.compute_actions_from_input_dict(\n  File \"c:\\Users\\nadir\\anaconda3\\envs\\GTAI2\\lib\\site-packages\\ray\\rllib\\policy\\torch_policy_v2.py\", line 522, in compute_actions_from_input_dict\n    return self._compute_action_helper(\n  File \"c:\\Users\\nadir\\anaconda3\\envs\\GTAI2\\lib\\site-packages\\ray\\rllib\\utils\\threading.py\", line 24, in wrapper\n    return func(self, *a, **k)\n  File \"c:\\Users\\nadir\\anaconda3\\envs\\GTAI2\\lib\\site-packages\\ray\\rllib\\policy\\torch_policy_v2.py\", line 1153, in _compute_action_helper\n    action_dist = dist_class(dist_inputs, self.model)\n  File \"c:\\Users\\nadir\\anaconda3\\envs\\GTAI2\\lib\\site-packages\\ray\\rllib\\models\\torch\\torch_action_dist.py\", line 250, in __init__\n    self.dist = torch.distributions.normal.Normal(mean, torch.exp(log_std))\n  File \"c:\\Users\\nadir\\anaconda3\\envs\\GTAI2\\lib\\site-packages\\torch\\distributions\\normal.py\", line 54, in __init__\n    super(Normal, self).__init__(batch_shape, validate_args=validate_args)\n  File \"c:\\Users\\nadir\\anaconda3\\envs\\GTAI2\\lib\\site-packages\\torch\\distributions\\distribution.py\", line 55, in __init__\n    raise ValueError(\nValueError: Expected parameter loc (Tensor of shape (1, 3)) of distribution Normal(loc: torch.Size([1, 3]), scale: torch.Size([1, 3])) to satisfy the constraint Real(), but found invalid values:\ntensor([[nan, nan, nan]])"
     ]
    }
   ],
   "source": [
    "if not debugAsGym and not testResult:\n",
    "    N = 2000\n",
    "\n",
    "    for n in range(N):\n",
    "        result = algo.train()\n",
    "        print(\"Loop: \", n)\n",
    "        if n % 10 == 0:\n",
    "            print(\"Saved\", n)\n",
    "            algo.save()\n",
    "            \n",
    "    algo.save()\n"
   ]
  },
  {
   "cell_type": "code",
   "execution_count": null,
   "metadata": {},
   "outputs": [],
   "source": [
    "if not debugAsGym and not testResult:\n",
    "    N = 2000\n",
    "\n",
    "    for n in range(N):\n",
    "        result = algo.train()\n",
    "        print(\"Loop: \", n)\n",
    "        if n % 50 == 0:\n",
    "            print(\"Saved\", n)\n",
    "            algo.save()\n",
    "            \n",
    "    algo.save()"
   ]
  },
  {
   "cell_type": "code",
   "execution_count": null,
   "metadata": {},
   "outputs": [],
   "source": [
    "from myRTClass import MyGranTurismoRTGYM, DEFAULT_CONFIG_DICT\n",
    "import gymnasium\n",
    "\n",
    "my_config = DEFAULT_CONFIG_DICT\n",
    "my_config[\"interface\"] = MyGranTurismoRTGYM\n",
    "my_config[\"time_step_duration\"] = 0.1\n",
    "my_config[\"start_obs_capture\"] = 0.1\n",
    "my_config[\"time_step_timeout_factor\"] = 1.0\n",
    "#my_config[\"ep_max_length\"] = 224\n",
    "my_config[\"act_buf_len\"] = 3\n",
    "my_config[\"reset_act_buf\"] = False\n",
    "my_config[\"benchmark\"] = True\n",
    "my_config[\"benchmark_polyak\"] = 0.2\n",
    "\n",
    "my_config[\"interface_kwargs\"] = {\n",
    "  'debugFlag': False, # do not use render() while True\n",
    "  'img_hist_len': 3,\n",
    "  'modelMode': 4,\n",
    "  'agent' : 'PPO',\n",
    "  #  [42, 42, K], [84, 84, K], [10, 10, K], [240, 320, K] and  [480, 640, K]\n",
    "  'imageWidth' : 42, # there is a default Cov layer for PPO with 240 x 320\n",
    "  'imageHeight' : 42,\n",
    "  'trackChoice' : 3, # 1 is High Speed Ring, 2 is 0-400m, \n",
    "}"
   ]
  },
  {
   "cell_type": "code",
   "execution_count": null,
   "metadata": {},
   "outputs": [],
   "source": [
    "if not debugAsGym and testResult:\n",
    "    def env_creator(env_config):\n",
    "        env = gymnasium.make(\"real-time-gym-v1\", config=env_config)\n",
    "        return env  # return an env instance\n",
    "\n",
    "    from ray.tune.registry import register_env\n",
    "    register_env(\"gt-rtgym-env-v1\", lambda config: env_creator(my_config)) "
   ]
  },
  {
   "cell_type": "code",
   "execution_count": null,
   "metadata": {},
   "outputs": [],
   "source": [
    "if not debugAsGym and testResult:\n",
    "    from ray.rllib.algorithms.algorithm import Algorithm\n",
    "    algo = Algorithm.from_checkpoint(\"C:/Users/nadir/ray_results/PPO_gt-rtgym-env-v1_2023-05-19_07-37-37z3d6v2w2/checkpoint_000061\")\n",
    "    #algo = Algorithm.from_checkpoint(\"C:/Users/nadir/ray_results/PPO_gt-rtgym-env-v1_2023-05-19_07-37-37z3d6v2w2/checkpoint_002000\")"
   ]
  },
  {
   "cell_type": "code",
   "execution_count": 8,
   "metadata": {},
   "outputs": [],
   "source": [
    "if not debugAsGym and testResult:\n",
    "    result = algo.train()"
   ]
  },
  {
   "cell_type": "code",
   "execution_count": null,
   "metadata": {},
   "outputs": [],
   "source": [
    "if not debugAsGym and testResult:\n",
    "\n",
    "    policy = algo.get_policy()\n",
    "    #print(policy.model)\n",
    "    model = policy.model\n",
    "    print(model)"
   ]
  }
 ],
 "metadata": {
  "kernelspec": {
   "display_name": "GTAI2",
   "language": "python",
   "name": "python3"
  },
  "language_info": {
   "codemirror_mode": {
    "name": "ipython",
    "version": 3
   },
   "file_extension": ".py",
   "mimetype": "text/x-python",
   "name": "python",
   "nbconvert_exporter": "python",
   "pygments_lexer": "ipython3",
   "version": "3.9.9"
  },
  "orig_nbformat": 4
 },
 "nbformat": 4,
 "nbformat_minor": 2
}

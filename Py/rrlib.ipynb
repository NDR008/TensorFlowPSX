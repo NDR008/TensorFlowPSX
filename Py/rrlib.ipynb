{
 "cells": [
  {
   "attachments": {},
   "cell_type": "markdown",
   "metadata": {},
   "source": [
    "# Initial AI Agent PPO"
   ]
  },
  {
   "cell_type": "code",
   "execution_count": null,
   "metadata": {},
   "outputs": [],
   "source": [
    "# to read later: https://raw.githubusercontent.com/ray-project/ray/master/rllib/examples/unity3d_env_local.py\n",
    "\n",
    "\n",
    "from myRTClass import MyGranTurismoRTGYM, DEFAULT_CONFIG_DICT\n",
    "import gymnasium\n",
    "import ray\n",
    "from ray.rllib.algorithms import ppo\n",
    "from ray.rllib.algorithms.ppo import PPOConfig\n",
    "from ray.rllib.algorithms.sac import SACConfig\n",
    "from ray import tune\n",
    "import json\n",
    "import numpy as np\n",
    "\n",
    "ray.shutdown()\n",
    "\n",
    "my_config = DEFAULT_CONFIG_DICT\n",
    "my_config[\"interface\"] = MyGranTurismoRTGYM\n",
    "my_config[\"time_step_duration\"] = 0.05\n",
    "my_config[\"start_obs_capture\"] = 0.05\n",
    "my_config[\"time_step_timeout_factor\"] = 1.0\n",
    "my_config[\"ep_max_length\"] = 1024\n",
    "my_config[\"act_buf_len\"] = 3\n",
    "my_config[\"reset_act_buf\"] = False\n",
    "my_config[\"benchmark\"] = True\n",
    "my_config[\"benchmark_polyak\"] = 0.2\n",
    "\n",
    "\n",
    "def env_creator(env_config):\n",
    "  env = gymnasium.make(\"real-time-gym-v1\", config=my_config)\n",
    "  return env  # return an env instance\n",
    "\n",
    "from ray.tune.registry import register_env\n",
    "register_env(\"gt-rtgym-env-v1\", env_creator)\n",
    "\n",
    "ray.init()\n",
    "\n",
    "#agent = ppo.PPO(env=\"gt-rtgym-env-v1\", config=ppoconfig)\n",
    "\n",
    "algo = (\n",
    "    PPOConfig()\n",
    "    #SACConfig()\n",
    "    .resources(\n",
    "        num_gpus=1\n",
    "        )\n",
    "    .rollouts(\n",
    "        num_rollout_workers=1,\n",
    "        #batch_mode=\"truncate_episodes\",\n",
    "        #rollout_fragment_length=128\n",
    "        )\n",
    "    .framework(\"torch\")\n",
    "    .environment(\n",
    "        env=\"gt-rtgym-env-v1\",\n",
    "        disable_env_checking=True,\n",
    "        render_env=False,\n",
    "        )\n",
    "    .training(\n",
    "            #lr=0.0003,\n",
    "            #lambda_=0.95,\n",
    "            #gamma=0.99,\n",
    "            sgd_minibatch_size=128,\n",
    "            train_batch_size=1024,\n",
    "            #num_sgd_iter=8,\n",
    "            #clip_param=0.2,\n",
    "            model={\"fcnet_hiddens\": [12, 12]},\n",
    "        )\n",
    "    .build()\n",
    ")\n",
    "\n",
    "N = 500\n",
    "results = []\n",
    "episode_data = []\n",
    "episode_json = []\n",
    "\n",
    "\n",
    "for n in range(N):\n",
    "    result = algo.train()\n",
    "    results.append(result)\n",
    "  \n",
    "    episode = {\n",
    "        \"n\": n,\n",
    "        \"episode_reward_mean\": result[\"episode_reward_mean\"], \n",
    "        \"episode_reward_max\":  result[\"episode_reward_max\"],  \n",
    "        \"episode_len_mean\":    result[\"episode_len_mean\"],\n",
    "    }\n",
    "\n",
    "    episode_data.append(episode)\n",
    "    episode_json.append(json.dumps(episode))\n",
    "    \n",
    "    print('Loop: ', n, 'Max reward: ', {episode[\"episode_reward_max\"]})\n",
    "    \n",
    "path_to_checkpoint = algo.save()\n",
    "print(\n",
    "    \"An Algorithm checkpoint has been created inside directory: \"\n",
    "    f\"'{path_to_checkpoint}'.\"\n",
    ")\n",
    "\n",
    "ray.shutdown()"
   ]
  },
  {
   "cell_type": "code",
   "execution_count": null,
   "metadata": {},
   "outputs": [],
   "source": [
    "from ray.rllib.algorithms.algorithm import Algorithm\n",
    "from myRTClass import MyGranTurismoRTGYM, DEFAULT_CONFIG_DICT\n",
    "import gymnasium\n",
    "import ray\n",
    "from ray.rllib.algorithms import ppo\n",
    "from ray.rllib.algorithms.ppo import PPOConfig\n",
    "from ray.rllib.algorithms.sac import SACConfig\n",
    "import json\n",
    "import numpy as np\n",
    "\n",
    "my_config = DEFAULT_CONFIG_DICT\n",
    "my_config[\"interface\"] = MyGranTurismoRTGYM\n",
    "my_config[\"time_step_duration\"] = 0.05\n",
    "my_config[\"start_obs_capture\"] = 0.05\n",
    "my_config[\"time_step_timeout_factor\"] = 1.0\n",
    "my_config[\"ep_max_length\"] = 256\n",
    "my_config[\"act_buf_len\"] = 3\n",
    "my_config[\"reset_act_buf\"] = False\n",
    "my_config[\"benchmark\"] = True\n",
    "my_config[\"benchmark_polyak\"] = 0.2\n",
    "\n",
    "def env_creator(env_config):\n",
    "  env = gymnasium.make(\"real-time-gym-v1\", config=my_config)\n",
    "  return env  # return an env instance\n",
    "\n",
    "from ray.tune.registry import register_env\n",
    "register_env(\"gt-rtgym-env-v1\", env_creator)\n",
    "\n",
    "# Use the Algorithm's `from_checkpoint` utility to get a new algo instance\n",
    "# that has the exact same state as the old one, from which the checkpoint was\n",
    "# created in the first place:\n",
    "loadedAlgo = Algorithm.from_checkpoint(path_to_checkpoint)"
   ]
  },
  {
   "cell_type": "code",
   "execution_count": null,
   "metadata": {},
   "outputs": [],
   "source": [
    "\n",
    "N = 300\n",
    "results = []\n",
    "episode_data = []\n",
    "episode_json = []\n",
    "\n",
    "\n",
    "for n in range(N):\n",
    "    result = loadedAlgo.train()\n",
    "    results.append(result)\n",
    "  \n",
    "    episode = {\n",
    "        \"n\": n,\n",
    "        \"episode_reward_mean\": result[\"episode_reward_mean\"], \n",
    "        \"episode_reward_max\":  result[\"episode_reward_max\"],  \n",
    "        \"episode_len_mean\":    result[\"episode_len_mean\"],\n",
    "    }\n",
    "\n",
    "    episode_data.append(episode)\n",
    "    episode_json.append(json.dumps(episode))\n",
    "    \n",
    "    print('Loop: ', n, 'Max reward: ', {episode[\"episode_reward_max\"]})"
   ]
  },
  {
   "cell_type": "code",
   "execution_count": null,
   "metadata": {},
   "outputs": [],
   "source": [
    "path_to_checkpoint = algo.save()\n",
    "print(\n",
    "    \"An Algorithm checkpoint has been created inside directory: \"\n",
    "    f\"'{path_to_checkpoint}'.\"\n",
    ")"
   ]
  },
  {
   "cell_type": "code",
   "execution_count": null,
   "metadata": {},
   "outputs": [],
   "source": [
    "ray.shutdown()"
   ]
  },
  {
   "attachments": {},
   "cell_type": "markdown",
   "metadata": {},
   "source": [
    "# SAC Current Developing"
   ]
  },
  {
   "cell_type": "code",
   "execution_count": 2,
   "metadata": {},
   "outputs": [
    {
     "name": "stderr",
     "output_type": "stream",
     "text": [
      "2023-05-08 23:34:47,275\tINFO worker.py:1544 -- Started a local Ray instance. View the dashboard at \u001b[1m\u001b[32m127.0.0.1:8265 \u001b[39m\u001b[22m\n"
     ]
    },
    {
     "name": "stdout",
     "output_type": "stream",
     "text": [
      "\u001b[2m\u001b[36m(RolloutWorker pid=10332)\u001b[0m GT Real Time instantiated\n",
      "\u001b[2m\u001b[36m(RolloutWorker pid=10332)\u001b[0m GT AI Server instantiated for rtgym\n",
      "\u001b[2m\u001b[36m(RolloutWorker pid=10332)\u001b[0m starting up on localhost port 9999\n",
      "\u001b[2m\u001b[36m(RolloutWorker pid=10332)\u001b[0m Waiting for a connection\n",
      "\u001b[2m\u001b[36m(RolloutWorker pid=10332)\u001b[0m Connection from ('127.0.0.1', 49279)\n",
      "\u001b[2m\u001b[36m(RolloutWorker pid=10332)\u001b[0m default SAC action\n"
     ]
    },
    {
     "name": "stderr",
     "output_type": "stream",
     "text": [
      "2023-05-08 23:35:02,844\tINFO trainable.py:172 -- Trainable.setup took 13.980 seconds. If your trainable is slow to initialize, consider setting reuse_actors=True to reduce actor creation overheads.\n",
      "2023-05-08 23:35:02,846\tWARNING util.py:67 -- Install gputil for GPU system monitoring.\n"
     ]
    },
    {
     "name": "stdout",
     "output_type": "stream",
     "text": [
      "\u001b[2m\u001b[36m(RolloutWorker pid=10332)\u001b[0m reset triggered\n",
      "\u001b[2m\u001b[36m(RolloutWorker pid=10332)\u001b[0m reload save\n"
     ]
    },
    {
     "name": "stderr",
     "output_type": "stream",
     "text": [
      "\u001b[2m\u001b[36m(RolloutWorker pid=10332)\u001b[0m c:\\Users\\nadir\\anaconda3\\envs\\GTAI2\\lib\\site-packages\\rtgym\\envs\\real_time_env.py:376: UserWarning: Time-step timed out. Elapsed since last time-step: 0.16870019999999997\n",
      "\u001b[2m\u001b[36m(RolloutWorker pid=10332)\u001b[0m   warnings.warn(f\"Time-step timed out. Elapsed since last time-step: {now - self.__t_end}\")\n"
     ]
    },
    {
     "name": "stdout",
     "output_type": "stream",
     "text": [
      "Saved 0\n"
     ]
    },
    {
     "name": "stderr",
     "output_type": "stream",
     "text": [
      "\u001b[2m\u001b[36m(RolloutWorker pid=10332)\u001b[0m c:\\Users\\nadir\\anaconda3\\envs\\GTAI2\\lib\\site-packages\\rtgym\\envs\\real_time_env.py:376: UserWarning: Time-step timed out. Elapsed since last time-step: 0.10170439999988545\n",
      "\u001b[2m\u001b[36m(RolloutWorker pid=10332)\u001b[0m   warnings.warn(f\"Time-step timed out. Elapsed since last time-step: {now - self.__t_end}\")\n"
     ]
    },
    {
     "name": "stdout",
     "output_type": "stream",
     "text": [
      "\u001b[2m\u001b[36m(RolloutWorker pid=10332)\u001b[0m reset triggered\n",
      "\u001b[2m\u001b[36m(RolloutWorker pid=10332)\u001b[0m reload save\n"
     ]
    },
    {
     "name": "stderr",
     "output_type": "stream",
     "text": [
      "\u001b[2m\u001b[36m(RolloutWorker pid=10332)\u001b[0m c:\\Users\\nadir\\anaconda3\\envs\\GTAI2\\lib\\site-packages\\rtgym\\envs\\real_time_env.py:376: UserWarning: Time-step timed out. Elapsed since last time-step: 0.14425849999996387\n",
      "\u001b[2m\u001b[36m(RolloutWorker pid=10332)\u001b[0m   warnings.warn(f\"Time-step timed out. Elapsed since last time-step: {now - self.__t_end}\")\n"
     ]
    },
    {
     "name": "stdout",
     "output_type": "stream",
     "text": [
      "\u001b[2m\u001b[36m(RolloutWorker pid=10332)\u001b[0m reset triggered\n",
      "\u001b[2m\u001b[36m(RolloutWorker pid=10332)\u001b[0m reload save\n"
     ]
    },
    {
     "name": "stderr",
     "output_type": "stream",
     "text": [
      "\u001b[2m\u001b[36m(RolloutWorker pid=10332)\u001b[0m c:\\Users\\nadir\\anaconda3\\envs\\GTAI2\\lib\\site-packages\\rtgym\\envs\\real_time_env.py:376: UserWarning: Time-step timed out. Elapsed since last time-step: 0.14429939999982366\n",
      "\u001b[2m\u001b[36m(RolloutWorker pid=10332)\u001b[0m   warnings.warn(f\"Time-step timed out. Elapsed since last time-step: {now - self.__t_end}\")\n"
     ]
    },
    {
     "name": "stdout",
     "output_type": "stream",
     "text": [
      "\u001b[2m\u001b[36m(RolloutWorker pid=10332)\u001b[0m reset triggered\n",
      "\u001b[2m\u001b[36m(RolloutWorker pid=10332)\u001b[0m reload save\n"
     ]
    },
    {
     "name": "stderr",
     "output_type": "stream",
     "text": [
      "\u001b[2m\u001b[36m(RolloutWorker pid=10332)\u001b[0m c:\\Users\\nadir\\anaconda3\\envs\\GTAI2\\lib\\site-packages\\rtgym\\envs\\real_time_env.py:376: UserWarning: Time-step timed out. Elapsed since last time-step: 0.13317899999981364\n",
      "\u001b[2m\u001b[36m(RolloutWorker pid=10332)\u001b[0m   warnings.warn(f\"Time-step timed out. Elapsed since last time-step: {now - self.__t_end}\")\n"
     ]
    },
    {
     "name": "stdout",
     "output_type": "stream",
     "text": [
      "\u001b[2m\u001b[36m(RolloutWorker pid=10332)\u001b[0m reset triggered\n",
      "\u001b[2m\u001b[36m(RolloutWorker pid=10332)\u001b[0m reload save\n"
     ]
    },
    {
     "name": "stderr",
     "output_type": "stream",
     "text": [
      "\u001b[2m\u001b[36m(RolloutWorker pid=10332)\u001b[0m c:\\Users\\nadir\\anaconda3\\envs\\GTAI2\\lib\\site-packages\\rtgym\\envs\\real_time_env.py:376: UserWarning: Time-step timed out. Elapsed since last time-step: 0.1512438999999688\n",
      "\u001b[2m\u001b[36m(RolloutWorker pid=10332)\u001b[0m   warnings.warn(f\"Time-step timed out. Elapsed since last time-step: {now - self.__t_end}\")\n"
     ]
    },
    {
     "name": "stdout",
     "output_type": "stream",
     "text": [
      "Saved 5\n",
      "\u001b[2m\u001b[36m(RolloutWorker pid=10332)\u001b[0m reset triggered\n",
      "\u001b[2m\u001b[36m(RolloutWorker pid=10332)\u001b[0m reload save\n"
     ]
    },
    {
     "name": "stderr",
     "output_type": "stream",
     "text": [
      "\u001b[2m\u001b[36m(RolloutWorker pid=10332)\u001b[0m c:\\Users\\nadir\\anaconda3\\envs\\GTAI2\\lib\\site-packages\\rtgym\\envs\\real_time_env.py:376: UserWarning: Time-step timed out. Elapsed since last time-step: 0.1397826000007285\n",
      "\u001b[2m\u001b[36m(RolloutWorker pid=10332)\u001b[0m   warnings.warn(f\"Time-step timed out. Elapsed since last time-step: {now - self.__t_end}\")\n"
     ]
    },
    {
     "name": "stdout",
     "output_type": "stream",
     "text": [
      "\u001b[2m\u001b[36m(RolloutWorker pid=10332)\u001b[0m reset triggered\n",
      "\u001b[2m\u001b[36m(RolloutWorker pid=10332)\u001b[0m reload save\n"
     ]
    },
    {
     "name": "stderr",
     "output_type": "stream",
     "text": [
      "\u001b[2m\u001b[36m(RolloutWorker pid=10332)\u001b[0m c:\\Users\\nadir\\anaconda3\\envs\\GTAI2\\lib\\site-packages\\rtgym\\envs\\real_time_env.py:376: UserWarning: Time-step timed out. Elapsed since last time-step: 0.13766500000072313\n",
      "\u001b[2m\u001b[36m(RolloutWorker pid=10332)\u001b[0m   warnings.warn(f\"Time-step timed out. Elapsed since last time-step: {now - self.__t_end}\")\n"
     ]
    },
    {
     "name": "stdout",
     "output_type": "stream",
     "text": [
      "\u001b[2m\u001b[36m(RolloutWorker pid=10332)\u001b[0m reset triggered\n",
      "\u001b[2m\u001b[36m(RolloutWorker pid=10332)\u001b[0m reload save\n"
     ]
    },
    {
     "name": "stderr",
     "output_type": "stream",
     "text": [
      "\u001b[2m\u001b[36m(RolloutWorker pid=10332)\u001b[0m c:\\Users\\nadir\\anaconda3\\envs\\GTAI2\\lib\\site-packages\\rtgym\\envs\\real_time_env.py:376: UserWarning: Time-step timed out. Elapsed since last time-step: 0.14346560000072373\n",
      "\u001b[2m\u001b[36m(RolloutWorker pid=10332)\u001b[0m   warnings.warn(f\"Time-step timed out. Elapsed since last time-step: {now - self.__t_end}\")\n"
     ]
    },
    {
     "name": "stdout",
     "output_type": "stream",
     "text": [
      "\u001b[2m\u001b[36m(RolloutWorker pid=10332)\u001b[0m reset triggered\n",
      "\u001b[2m\u001b[36m(RolloutWorker pid=10332)\u001b[0m reload save\n"
     ]
    },
    {
     "name": "stderr",
     "output_type": "stream",
     "text": [
      "\u001b[2m\u001b[36m(RolloutWorker pid=10332)\u001b[0m c:\\Users\\nadir\\anaconda3\\envs\\GTAI2\\lib\\site-packages\\rtgym\\envs\\real_time_env.py:376: UserWarning: Time-step timed out. Elapsed since last time-step: 0.12755680000073255\n",
      "\u001b[2m\u001b[36m(RolloutWorker pid=10332)\u001b[0m   warnings.warn(f\"Time-step timed out. Elapsed since last time-step: {now - self.__t_end}\")\n"
     ]
    },
    {
     "name": "stdout",
     "output_type": "stream",
     "text": [
      "Saved 10\n",
      "\u001b[2m\u001b[36m(RolloutWorker pid=10332)\u001b[0m reset triggered\n",
      "\u001b[2m\u001b[36m(RolloutWorker pid=10332)\u001b[0m reload save\n"
     ]
    },
    {
     "name": "stderr",
     "output_type": "stream",
     "text": [
      "\u001b[2m\u001b[36m(RolloutWorker pid=10332)\u001b[0m c:\\Users\\nadir\\anaconda3\\envs\\GTAI2\\lib\\site-packages\\rtgym\\envs\\real_time_env.py:376: UserWarning: Time-step timed out. Elapsed since last time-step: 0.1367872000007253\n",
      "\u001b[2m\u001b[36m(RolloutWorker pid=10332)\u001b[0m   warnings.warn(f\"Time-step timed out. Elapsed since last time-step: {now - self.__t_end}\")\n"
     ]
    },
    {
     "name": "stdout",
     "output_type": "stream",
     "text": [
      "\u001b[2m\u001b[36m(RolloutWorker pid=10332)\u001b[0m reset triggered\n",
      "\u001b[2m\u001b[36m(RolloutWorker pid=10332)\u001b[0m reload save\n"
     ]
    },
    {
     "name": "stderr",
     "output_type": "stream",
     "text": [
      "\u001b[2m\u001b[36m(RolloutWorker pid=10332)\u001b[0m c:\\Users\\nadir\\anaconda3\\envs\\GTAI2\\lib\\site-packages\\rtgym\\envs\\real_time_env.py:376: UserWarning: Time-step timed out. Elapsed since last time-step: 0.15433140000072854\n",
      "\u001b[2m\u001b[36m(RolloutWorker pid=10332)\u001b[0m   warnings.warn(f\"Time-step timed out. Elapsed since last time-step: {now - self.__t_end}\")\n"
     ]
    },
    {
     "name": "stdout",
     "output_type": "stream",
     "text": [
      "\u001b[2m\u001b[36m(RolloutWorker pid=10332)\u001b[0m reset triggered\n",
      "\u001b[2m\u001b[36m(RolloutWorker pid=10332)\u001b[0m reload save\n"
     ]
    },
    {
     "name": "stderr",
     "output_type": "stream",
     "text": [
      "\u001b[2m\u001b[36m(RolloutWorker pid=10332)\u001b[0m c:\\Users\\nadir\\anaconda3\\envs\\GTAI2\\lib\\site-packages\\rtgym\\envs\\real_time_env.py:376: UserWarning: Time-step timed out. Elapsed since last time-step: 0.13303800000073807\n",
      "\u001b[2m\u001b[36m(RolloutWorker pid=10332)\u001b[0m   warnings.warn(f\"Time-step timed out. Elapsed since last time-step: {now - self.__t_end}\")\n",
      "\u001b[2m\u001b[36m(RolloutWorker pid=10332)\u001b[0m c:\\Users\\nadir\\anaconda3\\envs\\GTAI2\\lib\\site-packages\\rtgym\\envs\\real_time_env.py:376: UserWarning: Time-step timed out. Elapsed since last time-step: 0.4403126000005386\n",
      "\u001b[2m\u001b[36m(RolloutWorker pid=10332)\u001b[0m   warnings.warn(f\"Time-step timed out. Elapsed since last time-step: {now - self.__t_end}\")\n",
      "\u001b[2m\u001b[36m(RolloutWorker pid=10332)\u001b[0m c:\\Users\\nadir\\anaconda3\\envs\\GTAI2\\lib\\site-packages\\rtgym\\envs\\real_time_env.py:376: UserWarning: Time-step timed out. Elapsed since last time-step: 0.32144270000000574\n",
      "\u001b[2m\u001b[36m(RolloutWorker pid=10332)\u001b[0m   warnings.warn(f\"Time-step timed out. Elapsed since last time-step: {now - self.__t_end}\")\n",
      "\u001b[2m\u001b[36m(RolloutWorker pid=10332)\u001b[0m c:\\Users\\nadir\\anaconda3\\envs\\GTAI2\\lib\\site-packages\\rtgym\\envs\\real_time_env.py:376: UserWarning: Time-step timed out. Elapsed since last time-step: 0.31257980000000885\n",
      "\u001b[2m\u001b[36m(RolloutWorker pid=10332)\u001b[0m   warnings.warn(f\"Time-step timed out. Elapsed since last time-step: {now - self.__t_end}\")\n",
      "\u001b[2m\u001b[36m(RolloutWorker pid=10332)\u001b[0m c:\\Users\\nadir\\anaconda3\\envs\\GTAI2\\lib\\site-packages\\rtgym\\envs\\real_time_env.py:376: UserWarning: Time-step timed out. Elapsed since last time-step: 0.3189974999999947\n",
      "\u001b[2m\u001b[36m(RolloutWorker pid=10332)\u001b[0m   warnings.warn(f\"Time-step timed out. Elapsed since last time-step: {now - self.__t_end}\")\n",
      "\u001b[2m\u001b[36m(RolloutWorker pid=10332)\u001b[0m c:\\Users\\nadir\\anaconda3\\envs\\GTAI2\\lib\\site-packages\\rtgym\\envs\\real_time_env.py:376: UserWarning: Time-step timed out. Elapsed since last time-step: 0.3214568000000213\n",
      "\u001b[2m\u001b[36m(RolloutWorker pid=10332)\u001b[0m   warnings.warn(f\"Time-step timed out. Elapsed since last time-step: {now - self.__t_end}\")\n",
      "\u001b[2m\u001b[36m(RolloutWorker pid=10332)\u001b[0m c:\\Users\\nadir\\anaconda3\\envs\\GTAI2\\lib\\site-packages\\rtgym\\envs\\real_time_env.py:376: UserWarning: Time-step timed out. Elapsed since last time-step: 0.3508852999999874\n",
      "\u001b[2m\u001b[36m(RolloutWorker pid=10332)\u001b[0m   warnings.warn(f\"Time-step timed out. Elapsed since last time-step: {now - self.__t_end}\")\n",
      "\u001b[2m\u001b[36m(RolloutWorker pid=10332)\u001b[0m c:\\Users\\nadir\\anaconda3\\envs\\GTAI2\\lib\\site-packages\\rtgym\\envs\\real_time_env.py:376: UserWarning: Time-step timed out. Elapsed since last time-step: 0.35394730000001573\n",
      "\u001b[2m\u001b[36m(RolloutWorker pid=10332)\u001b[0m   warnings.warn(f\"Time-step timed out. Elapsed since last time-step: {now - self.__t_end}\")\n",
      "\u001b[2m\u001b[36m(RolloutWorker pid=10332)\u001b[0m c:\\Users\\nadir\\anaconda3\\envs\\GTAI2\\lib\\site-packages\\rtgym\\envs\\real_time_env.py:376: UserWarning: Time-step timed out. Elapsed since last time-step: 0.35160600000000386\n",
      "\u001b[2m\u001b[36m(RolloutWorker pid=10332)\u001b[0m   warnings.warn(f\"Time-step timed out. Elapsed since last time-step: {now - self.__t_end}\")\n",
      "\u001b[2m\u001b[36m(RolloutWorker pid=10332)\u001b[0m c:\\Users\\nadir\\anaconda3\\envs\\GTAI2\\lib\\site-packages\\rtgym\\envs\\real_time_env.py:376: UserWarning: Time-step timed out. Elapsed since last time-step: 0.3486746000000096\n",
      "\u001b[2m\u001b[36m(RolloutWorker pid=10332)\u001b[0m   warnings.warn(f\"Time-step timed out. Elapsed since last time-step: {now - self.__t_end}\")\n",
      "\u001b[2m\u001b[36m(RolloutWorker pid=10332)\u001b[0m c:\\Users\\nadir\\anaconda3\\envs\\GTAI2\\lib\\site-packages\\rtgym\\envs\\real_time_env.py:376: UserWarning: Time-step timed out. Elapsed since last time-step: 0.31308089999998856\n",
      "\u001b[2m\u001b[36m(RolloutWorker pid=10332)\u001b[0m   warnings.warn(f\"Time-step timed out. Elapsed since last time-step: {now - self.__t_end}\")\n",
      "\u001b[2m\u001b[36m(RolloutWorker pid=10332)\u001b[0m c:\\Users\\nadir\\anaconda3\\envs\\GTAI2\\lib\\site-packages\\rtgym\\envs\\real_time_env.py:376: UserWarning: Time-step timed out. Elapsed since last time-step: 0.3131552000000113\n",
      "\u001b[2m\u001b[36m(RolloutWorker pid=10332)\u001b[0m   warnings.warn(f\"Time-step timed out. Elapsed since last time-step: {now - self.__t_end}\")\n",
      "\u001b[2m\u001b[36m(RolloutWorker pid=10332)\u001b[0m c:\\Users\\nadir\\anaconda3\\envs\\GTAI2\\lib\\site-packages\\rtgym\\envs\\real_time_env.py:376: UserWarning: Time-step timed out. Elapsed since last time-step: 0.3121395000000007\n",
      "\u001b[2m\u001b[36m(RolloutWorker pid=10332)\u001b[0m   warnings.warn(f\"Time-step timed out. Elapsed since last time-step: {now - self.__t_end}\")\n",
      "\u001b[2m\u001b[36m(RolloutWorker pid=10332)\u001b[0m c:\\Users\\nadir\\anaconda3\\envs\\GTAI2\\lib\\site-packages\\rtgym\\envs\\real_time_env.py:376: UserWarning: Time-step timed out. Elapsed since last time-step: 0.3193234000000018\n",
      "\u001b[2m\u001b[36m(RolloutWorker pid=10332)\u001b[0m   warnings.warn(f\"Time-step timed out. Elapsed since last time-step: {now - self.__t_end}\")\n",
      "\u001b[2m\u001b[36m(RolloutWorker pid=10332)\u001b[0m c:\\Users\\nadir\\anaconda3\\envs\\GTAI2\\lib\\site-packages\\rtgym\\envs\\real_time_env.py:376: UserWarning: Time-step timed out. Elapsed since last time-step: 0.37808510000002116\n",
      "\u001b[2m\u001b[36m(RolloutWorker pid=10332)\u001b[0m   warnings.warn(f\"Time-step timed out. Elapsed since last time-step: {now - self.__t_end}\")\n",
      "\u001b[2m\u001b[36m(RolloutWorker pid=10332)\u001b[0m c:\\Users\\nadir\\anaconda3\\envs\\GTAI2\\lib\\site-packages\\rtgym\\envs\\real_time_env.py:376: UserWarning: Time-step timed out. Elapsed since last time-step: 0.34122870000001626\n",
      "\u001b[2m\u001b[36m(RolloutWorker pid=10332)\u001b[0m   warnings.warn(f\"Time-step timed out. Elapsed since last time-step: {now - self.__t_end}\")\n",
      "\u001b[2m\u001b[36m(RolloutWorker pid=10332)\u001b[0m c:\\Users\\nadir\\anaconda3\\envs\\GTAI2\\lib\\site-packages\\rtgym\\envs\\real_time_env.py:376: UserWarning: Time-step timed out. Elapsed since last time-step: 0.34361139999998613\n",
      "\u001b[2m\u001b[36m(RolloutWorker pid=10332)\u001b[0m   warnings.warn(f\"Time-step timed out. Elapsed since last time-step: {now - self.__t_end}\")\n",
      "\u001b[2m\u001b[36m(RolloutWorker pid=10332)\u001b[0m c:\\Users\\nadir\\anaconda3\\envs\\GTAI2\\lib\\site-packages\\rtgym\\envs\\real_time_env.py:376: UserWarning: Time-step timed out. Elapsed since last time-step: 0.3277273000000207\n",
      "\u001b[2m\u001b[36m(RolloutWorker pid=10332)\u001b[0m   warnings.warn(f\"Time-step timed out. Elapsed since last time-step: {now - self.__t_end}\")\n",
      "\u001b[2m\u001b[36m(RolloutWorker pid=10332)\u001b[0m c:\\Users\\nadir\\anaconda3\\envs\\GTAI2\\lib\\site-packages\\rtgym\\envs\\real_time_env.py:376: UserWarning: Time-step timed out. Elapsed since last time-step: 0.3204945999999893\n",
      "\u001b[2m\u001b[36m(RolloutWorker pid=10332)\u001b[0m   warnings.warn(f\"Time-step timed out. Elapsed since last time-step: {now - self.__t_end}\")\n",
      "\u001b[2m\u001b[36m(RolloutWorker pid=10332)\u001b[0m c:\\Users\\nadir\\anaconda3\\envs\\GTAI2\\lib\\site-packages\\rtgym\\envs\\real_time_env.py:376: UserWarning: Time-step timed out. Elapsed since last time-step: 0.31801800000002345\n",
      "\u001b[2m\u001b[36m(RolloutWorker pid=10332)\u001b[0m   warnings.warn(f\"Time-step timed out. Elapsed since last time-step: {now - self.__t_end}\")\n",
      "\u001b[2m\u001b[36m(RolloutWorker pid=10332)\u001b[0m c:\\Users\\nadir\\anaconda3\\envs\\GTAI2\\lib\\site-packages\\rtgym\\envs\\real_time_env.py:376: UserWarning: Time-step timed out. Elapsed since last time-step: 0.31650410000000306\n",
      "\u001b[2m\u001b[36m(RolloutWorker pid=10332)\u001b[0m   warnings.warn(f\"Time-step timed out. Elapsed since last time-step: {now - self.__t_end}\")\n",
      "\u001b[2m\u001b[36m(RolloutWorker pid=10332)\u001b[0m c:\\Users\\nadir\\anaconda3\\envs\\GTAI2\\lib\\site-packages\\rtgym\\envs\\real_time_env.py:376: UserWarning: Time-step timed out. Elapsed since last time-step: 0.3817168999999865\n",
      "\u001b[2m\u001b[36m(RolloutWorker pid=10332)\u001b[0m   warnings.warn(f\"Time-step timed out. Elapsed since last time-step: {now - self.__t_end}\")\n",
      "\u001b[2m\u001b[36m(RolloutWorker pid=10332)\u001b[0m c:\\Users\\nadir\\anaconda3\\envs\\GTAI2\\lib\\site-packages\\rtgym\\envs\\real_time_env.py:376: UserWarning: Time-step timed out. Elapsed since last time-step: 0.36018300000000636\n",
      "\u001b[2m\u001b[36m(RolloutWorker pid=10332)\u001b[0m   warnings.warn(f\"Time-step timed out. Elapsed since last time-step: {now - self.__t_end}\")\n",
      "\u001b[2m\u001b[36m(RolloutWorker pid=10332)\u001b[0m c:\\Users\\nadir\\anaconda3\\envs\\GTAI2\\lib\\site-packages\\rtgym\\envs\\real_time_env.py:376: UserWarning: Time-step timed out. Elapsed since last time-step: 0.32154620000002865\n",
      "\u001b[2m\u001b[36m(RolloutWorker pid=10332)\u001b[0m   warnings.warn(f\"Time-step timed out. Elapsed since last time-step: {now - self.__t_end}\")\n",
      "\u001b[2m\u001b[36m(RolloutWorker pid=10332)\u001b[0m c:\\Users\\nadir\\anaconda3\\envs\\GTAI2\\lib\\site-packages\\rtgym\\envs\\real_time_env.py:376: UserWarning: Time-step timed out. Elapsed since last time-step: 0.3128003999999862\n",
      "\u001b[2m\u001b[36m(RolloutWorker pid=10332)\u001b[0m   warnings.warn(f\"Time-step timed out. Elapsed since last time-step: {now - self.__t_end}\")\n",
      "\u001b[2m\u001b[36m(RolloutWorker pid=10332)\u001b[0m c:\\Users\\nadir\\anaconda3\\envs\\GTAI2\\lib\\site-packages\\rtgym\\envs\\real_time_env.py:376: UserWarning: Time-step timed out. Elapsed since last time-step: 0.3140940000000114\n",
      "\u001b[2m\u001b[36m(RolloutWorker pid=10332)\u001b[0m   warnings.warn(f\"Time-step timed out. Elapsed since last time-step: {now - self.__t_end}\")\n",
      "\u001b[2m\u001b[36m(RolloutWorker pid=10332)\u001b[0m c:\\Users\\nadir\\anaconda3\\envs\\GTAI2\\lib\\site-packages\\rtgym\\envs\\real_time_env.py:376: UserWarning: Time-step timed out. Elapsed since last time-step: 0.31886389999999665\n",
      "\u001b[2m\u001b[36m(RolloutWorker pid=10332)\u001b[0m   warnings.warn(f\"Time-step timed out. Elapsed since last time-step: {now - self.__t_end}\")\n",
      "\u001b[2m\u001b[36m(RolloutWorker pid=10332)\u001b[0m c:\\Users\\nadir\\anaconda3\\envs\\GTAI2\\lib\\site-packages\\rtgym\\envs\\real_time_env.py:376: UserWarning: Time-step timed out. Elapsed since last time-step: 0.36778150000000664\n",
      "\u001b[2m\u001b[36m(RolloutWorker pid=10332)\u001b[0m   warnings.warn(f\"Time-step timed out. Elapsed since last time-step: {now - self.__t_end}\")\n",
      "\u001b[2m\u001b[36m(RolloutWorker pid=10332)\u001b[0m c:\\Users\\nadir\\anaconda3\\envs\\GTAI2\\lib\\site-packages\\rtgym\\envs\\real_time_env.py:376: UserWarning: Time-step timed out. Elapsed since last time-step: 0.3747296000000233\n",
      "\u001b[2m\u001b[36m(RolloutWorker pid=10332)\u001b[0m   warnings.warn(f\"Time-step timed out. Elapsed since last time-step: {now - self.__t_end}\")\n",
      "\u001b[2m\u001b[36m(RolloutWorker pid=10332)\u001b[0m c:\\Users\\nadir\\anaconda3\\envs\\GTAI2\\lib\\site-packages\\rtgym\\envs\\real_time_env.py:376: UserWarning: Time-step timed out. Elapsed since last time-step: 0.31392120000001\n",
      "\u001b[2m\u001b[36m(RolloutWorker pid=10332)\u001b[0m   warnings.warn(f\"Time-step timed out. Elapsed since last time-step: {now - self.__t_end}\")\n",
      "\u001b[2m\u001b[36m(RolloutWorker pid=10332)\u001b[0m c:\\Users\\nadir\\anaconda3\\envs\\GTAI2\\lib\\site-packages\\rtgym\\envs\\real_time_env.py:376: UserWarning: Time-step timed out. Elapsed since last time-step: 0.31551319999999805\n",
      "\u001b[2m\u001b[36m(RolloutWorker pid=10332)\u001b[0m   warnings.warn(f\"Time-step timed out. Elapsed since last time-step: {now - self.__t_end}\")\n",
      "\u001b[2m\u001b[36m(RolloutWorker pid=10332)\u001b[0m c:\\Users\\nadir\\anaconda3\\envs\\GTAI2\\lib\\site-packages\\rtgym\\envs\\real_time_env.py:376: UserWarning: Time-step timed out. Elapsed since last time-step: 0.3359274999999968\n",
      "\u001b[2m\u001b[36m(RolloutWorker pid=10332)\u001b[0m   warnings.warn(f\"Time-step timed out. Elapsed since last time-step: {now - self.__t_end}\")\n",
      "\u001b[2m\u001b[36m(RolloutWorker pid=10332)\u001b[0m c:\\Users\\nadir\\anaconda3\\envs\\GTAI2\\lib\\site-packages\\rtgym\\envs\\real_time_env.py:376: UserWarning: Time-step timed out. Elapsed since last time-step: 0.32124440000001186\n",
      "\u001b[2m\u001b[36m(RolloutWorker pid=10332)\u001b[0m   warnings.warn(f\"Time-step timed out. Elapsed since last time-step: {now - self.__t_end}\")\n",
      "\u001b[2m\u001b[36m(RolloutWorker pid=10332)\u001b[0m c:\\Users\\nadir\\anaconda3\\envs\\GTAI2\\lib\\site-packages\\rtgym\\envs\\real_time_env.py:376: UserWarning: Time-step timed out. Elapsed since last time-step: 0.3931560999999988\n",
      "\u001b[2m\u001b[36m(RolloutWorker pid=10332)\u001b[0m   warnings.warn(f\"Time-step timed out. Elapsed since last time-step: {now - self.__t_end}\")\n"
     ]
    },
    {
     "name": "stdout",
     "output_type": "stream",
     "text": [
      "\u001b[2m\u001b[36m(RolloutWorker pid=10332)\u001b[0m reset triggered\n",
      "\u001b[2m\u001b[36m(RolloutWorker pid=10332)\u001b[0m reload save\n"
     ]
    },
    {
     "name": "stderr",
     "output_type": "stream",
     "text": [
      "\u001b[2m\u001b[36m(RolloutWorker pid=10332)\u001b[0m c:\\Users\\nadir\\anaconda3\\envs\\GTAI2\\lib\\site-packages\\rtgym\\envs\\real_time_env.py:376: UserWarning: Time-step timed out. Elapsed since last time-step: 0.8000255999999979\n",
      "\u001b[2m\u001b[36m(RolloutWorker pid=10332)\u001b[0m   warnings.warn(f\"Time-step timed out. Elapsed since last time-step: {now - self.__t_end}\")\n",
      "\u001b[2m\u001b[36m(RolloutWorker pid=10332)\u001b[0m c:\\Users\\nadir\\anaconda3\\envs\\GTAI2\\lib\\site-packages\\rtgym\\envs\\real_time_env.py:376: UserWarning: Time-step timed out. Elapsed since last time-step: 0.3302042000000256\n",
      "\u001b[2m\u001b[36m(RolloutWorker pid=10332)\u001b[0m   warnings.warn(f\"Time-step timed out. Elapsed since last time-step: {now - self.__t_end}\")\n",
      "\u001b[2m\u001b[36m(RolloutWorker pid=10332)\u001b[0m c:\\Users\\nadir\\anaconda3\\envs\\GTAI2\\lib\\site-packages\\rtgym\\envs\\real_time_env.py:376: UserWarning: Time-step timed out. Elapsed since last time-step: 0.32327340000000504\n",
      "\u001b[2m\u001b[36m(RolloutWorker pid=10332)\u001b[0m   warnings.warn(f\"Time-step timed out. Elapsed since last time-step: {now - self.__t_end}\")\n",
      "\u001b[2m\u001b[36m(RolloutWorker pid=10332)\u001b[0m c:\\Users\\nadir\\anaconda3\\envs\\GTAI2\\lib\\site-packages\\rtgym\\envs\\real_time_env.py:376: UserWarning: Time-step timed out. Elapsed since last time-step: 0.5446730000000173\n",
      "\u001b[2m\u001b[36m(RolloutWorker pid=10332)\u001b[0m   warnings.warn(f\"Time-step timed out. Elapsed since last time-step: {now - self.__t_end}\")\n",
      "\u001b[2m\u001b[36m(RolloutWorker pid=10332)\u001b[0m c:\\Users\\nadir\\anaconda3\\envs\\GTAI2\\lib\\site-packages\\rtgym\\envs\\real_time_env.py:376: UserWarning: Time-step timed out. Elapsed since last time-step: 0.3573748999999964\n",
      "\u001b[2m\u001b[36m(RolloutWorker pid=10332)\u001b[0m   warnings.warn(f\"Time-step timed out. Elapsed since last time-step: {now - self.__t_end}\")\n",
      "\u001b[2m\u001b[36m(RolloutWorker pid=10332)\u001b[0m c:\\Users\\nadir\\anaconda3\\envs\\GTAI2\\lib\\site-packages\\rtgym\\envs\\real_time_env.py:376: UserWarning: Time-step timed out. Elapsed since last time-step: 0.34715810000000147\n",
      "\u001b[2m\u001b[36m(RolloutWorker pid=10332)\u001b[0m   warnings.warn(f\"Time-step timed out. Elapsed since last time-step: {now - self.__t_end}\")\n",
      "\u001b[2m\u001b[36m(RolloutWorker pid=10332)\u001b[0m c:\\Users\\nadir\\anaconda3\\envs\\GTAI2\\lib\\site-packages\\rtgym\\envs\\real_time_env.py:376: UserWarning: Time-step timed out. Elapsed since last time-step: 0.3475399000000152\n",
      "\u001b[2m\u001b[36m(RolloutWorker pid=10332)\u001b[0m   warnings.warn(f\"Time-step timed out. Elapsed since last time-step: {now - self.__t_end}\")\n",
      "\u001b[2m\u001b[36m(RolloutWorker pid=10332)\u001b[0m c:\\Users\\nadir\\anaconda3\\envs\\GTAI2\\lib\\site-packages\\rtgym\\envs\\real_time_env.py:376: UserWarning: Time-step timed out. Elapsed since last time-step: 0.31267990000000623\n",
      "\u001b[2m\u001b[36m(RolloutWorker pid=10332)\u001b[0m   warnings.warn(f\"Time-step timed out. Elapsed since last time-step: {now - self.__t_end}\")\n",
      "\u001b[2m\u001b[36m(RolloutWorker pid=10332)\u001b[0m c:\\Users\\nadir\\anaconda3\\envs\\GTAI2\\lib\\site-packages\\rtgym\\envs\\real_time_env.py:376: UserWarning: Time-step timed out. Elapsed since last time-step: 0.3219172999999955\n",
      "\u001b[2m\u001b[36m(RolloutWorker pid=10332)\u001b[0m   warnings.warn(f\"Time-step timed out. Elapsed since last time-step: {now - self.__t_end}\")\n",
      "\u001b[2m\u001b[36m(RolloutWorker pid=10332)\u001b[0m c:\\Users\\nadir\\anaconda3\\envs\\GTAI2\\lib\\site-packages\\rtgym\\envs\\real_time_env.py:376: UserWarning: Time-step timed out. Elapsed since last time-step: 0.3162755000000175\n",
      "\u001b[2m\u001b[36m(RolloutWorker pid=10332)\u001b[0m   warnings.warn(f\"Time-step timed out. Elapsed since last time-step: {now - self.__t_end}\")\n",
      "\u001b[2m\u001b[36m(RolloutWorker pid=10332)\u001b[0m c:\\Users\\nadir\\anaconda3\\envs\\GTAI2\\lib\\site-packages\\rtgym\\envs\\real_time_env.py:376: UserWarning: Time-step timed out. Elapsed since last time-step: 0.3149257000000034\n",
      "\u001b[2m\u001b[36m(RolloutWorker pid=10332)\u001b[0m   warnings.warn(f\"Time-step timed out. Elapsed since last time-step: {now - self.__t_end}\")\n",
      "\u001b[2m\u001b[36m(RolloutWorker pid=10332)\u001b[0m c:\\Users\\nadir\\anaconda3\\envs\\GTAI2\\lib\\site-packages\\rtgym\\envs\\real_time_env.py:376: UserWarning: Time-step timed out. Elapsed since last time-step: 0.365542099999999\n",
      "\u001b[2m\u001b[36m(RolloutWorker pid=10332)\u001b[0m   warnings.warn(f\"Time-step timed out. Elapsed since last time-step: {now - self.__t_end}\")\n",
      "\u001b[2m\u001b[36m(RolloutWorker pid=10332)\u001b[0m c:\\Users\\nadir\\anaconda3\\envs\\GTAI2\\lib\\site-packages\\rtgym\\envs\\real_time_env.py:376: UserWarning: Time-step timed out. Elapsed since last time-step: 0.3166007000000093\n",
      "\u001b[2m\u001b[36m(RolloutWorker pid=10332)\u001b[0m   warnings.warn(f\"Time-step timed out. Elapsed since last time-step: {now - self.__t_end}\")\n",
      "\u001b[2m\u001b[36m(RolloutWorker pid=10332)\u001b[0m c:\\Users\\nadir\\anaconda3\\envs\\GTAI2\\lib\\site-packages\\rtgym\\envs\\real_time_env.py:376: UserWarning: Time-step timed out. Elapsed since last time-step: 0.3614043000000038\n",
      "\u001b[2m\u001b[36m(RolloutWorker pid=10332)\u001b[0m   warnings.warn(f\"Time-step timed out. Elapsed since last time-step: {now - self.__t_end}\")\n",
      "\u001b[2m\u001b[36m(RolloutWorker pid=10332)\u001b[0m c:\\Users\\nadir\\anaconda3\\envs\\GTAI2\\lib\\site-packages\\rtgym\\envs\\real_time_env.py:376: UserWarning: Time-step timed out. Elapsed since last time-step: 0.3386276999999893\n",
      "\u001b[2m\u001b[36m(RolloutWorker pid=10332)\u001b[0m   warnings.warn(f\"Time-step timed out. Elapsed since last time-step: {now - self.__t_end}\")\n",
      "\u001b[2m\u001b[36m(RolloutWorker pid=10332)\u001b[0m c:\\Users\\nadir\\anaconda3\\envs\\GTAI2\\lib\\site-packages\\rtgym\\envs\\real_time_env.py:376: UserWarning: Time-step timed out. Elapsed since last time-step: 0.3149595000000147\n",
      "\u001b[2m\u001b[36m(RolloutWorker pid=10332)\u001b[0m   warnings.warn(f\"Time-step timed out. Elapsed since last time-step: {now - self.__t_end}\")\n",
      "\u001b[2m\u001b[36m(RolloutWorker pid=10332)\u001b[0m c:\\Users\\nadir\\anaconda3\\envs\\GTAI2\\lib\\site-packages\\rtgym\\envs\\real_time_env.py:376: UserWarning: Time-step timed out. Elapsed since last time-step: 0.31529890000001615\n",
      "\u001b[2m\u001b[36m(RolloutWorker pid=10332)\u001b[0m   warnings.warn(f\"Time-step timed out. Elapsed since last time-step: {now - self.__t_end}\")\n",
      "\u001b[2m\u001b[36m(RolloutWorker pid=10332)\u001b[0m c:\\Users\\nadir\\anaconda3\\envs\\GTAI2\\lib\\site-packages\\rtgym\\envs\\real_time_env.py:376: UserWarning: Time-step timed out. Elapsed since last time-step: 0.31623559999999884\n",
      "\u001b[2m\u001b[36m(RolloutWorker pid=10332)\u001b[0m   warnings.warn(f\"Time-step timed out. Elapsed since last time-step: {now - self.__t_end}\")\n",
      "\u001b[2m\u001b[36m(RolloutWorker pid=10332)\u001b[0m c:\\Users\\nadir\\anaconda3\\envs\\GTAI2\\lib\\site-packages\\rtgym\\envs\\real_time_env.py:376: UserWarning: Time-step timed out. Elapsed since last time-step: 0.31698670000000106\n",
      "\u001b[2m\u001b[36m(RolloutWorker pid=10332)\u001b[0m   warnings.warn(f\"Time-step timed out. Elapsed since last time-step: {now - self.__t_end}\")\n",
      "\u001b[2m\u001b[36m(RolloutWorker pid=10332)\u001b[0m c:\\Users\\nadir\\anaconda3\\envs\\GTAI2\\lib\\site-packages\\rtgym\\envs\\real_time_env.py:376: UserWarning: Time-step timed out. Elapsed since last time-step: 0.36961460000000557\n",
      "\u001b[2m\u001b[36m(RolloutWorker pid=10332)\u001b[0m   warnings.warn(f\"Time-step timed out. Elapsed since last time-step: {now - self.__t_end}\")\n",
      "\u001b[2m\u001b[36m(RolloutWorker pid=10332)\u001b[0m c:\\Users\\nadir\\anaconda3\\envs\\GTAI2\\lib\\site-packages\\rtgym\\envs\\real_time_env.py:376: UserWarning: Time-step timed out. Elapsed since last time-step: 0.3716765000000066\n",
      "\u001b[2m\u001b[36m(RolloutWorker pid=10332)\u001b[0m   warnings.warn(f\"Time-step timed out. Elapsed since last time-step: {now - self.__t_end}\")\n",
      "\u001b[2m\u001b[36m(RolloutWorker pid=10332)\u001b[0m c:\\Users\\nadir\\anaconda3\\envs\\GTAI2\\lib\\site-packages\\rtgym\\envs\\real_time_env.py:376: UserWarning: Time-step timed out. Elapsed since last time-step: 0.3145463000000177\n",
      "\u001b[2m\u001b[36m(RolloutWorker pid=10332)\u001b[0m   warnings.warn(f\"Time-step timed out. Elapsed since last time-step: {now - self.__t_end}\")\n",
      "\u001b[2m\u001b[36m(RolloutWorker pid=10332)\u001b[0m c:\\Users\\nadir\\anaconda3\\envs\\GTAI2\\lib\\site-packages\\rtgym\\envs\\real_time_env.py:376: UserWarning: Time-step timed out. Elapsed since last time-step: 0.31557269999998994\n",
      "\u001b[2m\u001b[36m(RolloutWorker pid=10332)\u001b[0m   warnings.warn(f\"Time-step timed out. Elapsed since last time-step: {now - self.__t_end}\")\n",
      "\u001b[2m\u001b[36m(RolloutWorker pid=10332)\u001b[0m c:\\Users\\nadir\\anaconda3\\envs\\GTAI2\\lib\\site-packages\\rtgym\\envs\\real_time_env.py:376: UserWarning: Time-step timed out. Elapsed since last time-step: 0.3301750000000254\n",
      "\u001b[2m\u001b[36m(RolloutWorker pid=10332)\u001b[0m   warnings.warn(f\"Time-step timed out. Elapsed since last time-step: {now - self.__t_end}\")\n",
      "\u001b[2m\u001b[36m(RolloutWorker pid=10332)\u001b[0m c:\\Users\\nadir\\anaconda3\\envs\\GTAI2\\lib\\site-packages\\rtgym\\envs\\real_time_env.py:376: UserWarning: Time-step timed out. Elapsed since last time-step: 0.3245155999999838\n",
      "\u001b[2m\u001b[36m(RolloutWorker pid=10332)\u001b[0m   warnings.warn(f\"Time-step timed out. Elapsed since last time-step: {now - self.__t_end}\")\n",
      "\u001b[2m\u001b[36m(RolloutWorker pid=10332)\u001b[0m c:\\Users\\nadir\\anaconda3\\envs\\GTAI2\\lib\\site-packages\\rtgym\\envs\\real_time_env.py:376: UserWarning: Time-step timed out. Elapsed since last time-step: 0.32565920000001825\n",
      "\u001b[2m\u001b[36m(RolloutWorker pid=10332)\u001b[0m   warnings.warn(f\"Time-step timed out. Elapsed since last time-step: {now - self.__t_end}\")\n",
      "\u001b[2m\u001b[36m(RolloutWorker pid=10332)\u001b[0m c:\\Users\\nadir\\anaconda3\\envs\\GTAI2\\lib\\site-packages\\rtgym\\envs\\real_time_env.py:376: UserWarning: Time-step timed out. Elapsed since last time-step: 0.31495649999999387\n",
      "\u001b[2m\u001b[36m(RolloutWorker pid=10332)\u001b[0m   warnings.warn(f\"Time-step timed out. Elapsed since last time-step: {now - self.__t_end}\")\n",
      "\u001b[2m\u001b[36m(RolloutWorker pid=10332)\u001b[0m c:\\Users\\nadir\\anaconda3\\envs\\GTAI2\\lib\\site-packages\\rtgym\\envs\\real_time_env.py:376: UserWarning: Time-step timed out. Elapsed since last time-step: 0.31075680000000716\n",
      "\u001b[2m\u001b[36m(RolloutWorker pid=10332)\u001b[0m   warnings.warn(f\"Time-step timed out. Elapsed since last time-step: {now - self.__t_end}\")\n",
      "\u001b[2m\u001b[36m(RolloutWorker pid=10332)\u001b[0m c:\\Users\\nadir\\anaconda3\\envs\\GTAI2\\lib\\site-packages\\rtgym\\envs\\real_time_env.py:376: UserWarning: Time-step timed out. Elapsed since last time-step: 0.31337310000000684\n",
      "\u001b[2m\u001b[36m(RolloutWorker pid=10332)\u001b[0m   warnings.warn(f\"Time-step timed out. Elapsed since last time-step: {now - self.__t_end}\")\n",
      "\u001b[2m\u001b[36m(RolloutWorker pid=10332)\u001b[0m c:\\Users\\nadir\\anaconda3\\envs\\GTAI2\\lib\\site-packages\\rtgym\\envs\\real_time_env.py:376: UserWarning: Time-step timed out. Elapsed since last time-step: 0.31058810000001813\n",
      "\u001b[2m\u001b[36m(RolloutWorker pid=10332)\u001b[0m   warnings.warn(f\"Time-step timed out. Elapsed since last time-step: {now - self.__t_end}\")\n",
      "\u001b[2m\u001b[36m(RolloutWorker pid=10332)\u001b[0m c:\\Users\\nadir\\anaconda3\\envs\\GTAI2\\lib\\site-packages\\rtgym\\envs\\real_time_env.py:376: UserWarning: Time-step timed out. Elapsed since last time-step: 0.35408899999998766\n",
      "\u001b[2m\u001b[36m(RolloutWorker pid=10332)\u001b[0m   warnings.warn(f\"Time-step timed out. Elapsed since last time-step: {now - self.__t_end}\")\n",
      "\u001b[2m\u001b[36m(RolloutWorker pid=10332)\u001b[0m c:\\Users\\nadir\\anaconda3\\envs\\GTAI2\\lib\\site-packages\\rtgym\\envs\\real_time_env.py:376: UserWarning: Time-step timed out. Elapsed since last time-step: 0.3609688000000233\n",
      "\u001b[2m\u001b[36m(RolloutWorker pid=10332)\u001b[0m   warnings.warn(f\"Time-step timed out. Elapsed since last time-step: {now - self.__t_end}\")\n",
      "\u001b[2m\u001b[36m(RolloutWorker pid=10332)\u001b[0m c:\\Users\\nadir\\anaconda3\\envs\\GTAI2\\lib\\site-packages\\rtgym\\envs\\real_time_env.py:376: UserWarning: Time-step timed out. Elapsed since last time-step: 0.31602150000000506\n",
      "\u001b[2m\u001b[36m(RolloutWorker pid=10332)\u001b[0m   warnings.warn(f\"Time-step timed out. Elapsed since last time-step: {now - self.__t_end}\")\n",
      "\u001b[2m\u001b[36m(RolloutWorker pid=10332)\u001b[0m c:\\Users\\nadir\\anaconda3\\envs\\GTAI2\\lib\\site-packages\\rtgym\\envs\\real_time_env.py:376: UserWarning: Time-step timed out. Elapsed since last time-step: 0.3106548000000089\n",
      "\u001b[2m\u001b[36m(RolloutWorker pid=10332)\u001b[0m   warnings.warn(f\"Time-step timed out. Elapsed since last time-step: {now - self.__t_end}\")\n",
      "\u001b[2m\u001b[36m(RolloutWorker pid=10332)\u001b[0m c:\\Users\\nadir\\anaconda3\\envs\\GTAI2\\lib\\site-packages\\rtgym\\envs\\real_time_env.py:376: UserWarning: Time-step timed out. Elapsed since last time-step: 0.31182580000000826\n",
      "\u001b[2m\u001b[36m(RolloutWorker pid=10332)\u001b[0m   warnings.warn(f\"Time-step timed out. Elapsed since last time-step: {now - self.__t_end}\")\n",
      "\u001b[2m\u001b[36m(RolloutWorker pid=10332)\u001b[0m c:\\Users\\nadir\\anaconda3\\envs\\GTAI2\\lib\\site-packages\\rtgym\\envs\\real_time_env.py:376: UserWarning: Time-step timed out. Elapsed since last time-step: 0.31122859999999264\n",
      "\u001b[2m\u001b[36m(RolloutWorker pid=10332)\u001b[0m   warnings.warn(f\"Time-step timed out. Elapsed since last time-step: {now - self.__t_end}\")\n",
      "\u001b[2m\u001b[36m(RolloutWorker pid=10332)\u001b[0m c:\\Users\\nadir\\anaconda3\\envs\\GTAI2\\lib\\site-packages\\rtgym\\envs\\real_time_env.py:376: UserWarning: Time-step timed out. Elapsed since last time-step: 0.37103620000002024\n",
      "\u001b[2m\u001b[36m(RolloutWorker pid=10332)\u001b[0m   warnings.warn(f\"Time-step timed out. Elapsed since last time-step: {now - self.__t_end}\")\n",
      "\u001b[2m\u001b[36m(RolloutWorker pid=10332)\u001b[0m c:\\Users\\nadir\\anaconda3\\envs\\GTAI2\\lib\\site-packages\\rtgym\\envs\\real_time_env.py:376: UserWarning: Time-step timed out. Elapsed since last time-step: 0.3555264999999963\n",
      "\u001b[2m\u001b[36m(RolloutWorker pid=10332)\u001b[0m   warnings.warn(f\"Time-step timed out. Elapsed since last time-step: {now - self.__t_end}\")\n",
      "\u001b[2m\u001b[36m(RolloutWorker pid=10332)\u001b[0m c:\\Users\\nadir\\anaconda3\\envs\\GTAI2\\lib\\site-packages\\rtgym\\envs\\real_time_env.py:376: UserWarning: Time-step timed out. Elapsed since last time-step: 0.3125411999999983\n",
      "\u001b[2m\u001b[36m(RolloutWorker pid=10332)\u001b[0m   warnings.warn(f\"Time-step timed out. Elapsed since last time-step: {now - self.__t_end}\")\n",
      "\u001b[2m\u001b[36m(RolloutWorker pid=10332)\u001b[0m c:\\Users\\nadir\\anaconda3\\envs\\GTAI2\\lib\\site-packages\\rtgym\\envs\\real_time_env.py:376: UserWarning: Time-step timed out. Elapsed since last time-step: 0.3143014999999991\n",
      "\u001b[2m\u001b[36m(RolloutWorker pid=10332)\u001b[0m   warnings.warn(f\"Time-step timed out. Elapsed since last time-step: {now - self.__t_end}\")\n",
      "\u001b[2m\u001b[36m(RolloutWorker pid=10332)\u001b[0m c:\\Users\\nadir\\anaconda3\\envs\\GTAI2\\lib\\site-packages\\rtgym\\envs\\real_time_env.py:376: UserWarning: Time-step timed out. Elapsed since last time-step: 0.3139064000000076\n",
      "\u001b[2m\u001b[36m(RolloutWorker pid=10332)\u001b[0m   warnings.warn(f\"Time-step timed out. Elapsed since last time-step: {now - self.__t_end}\")\n",
      "\u001b[2m\u001b[36m(RolloutWorker pid=10332)\u001b[0m c:\\Users\\nadir\\anaconda3\\envs\\GTAI2\\lib\\site-packages\\rtgym\\envs\\real_time_env.py:376: UserWarning: Time-step timed out. Elapsed since last time-step: 0.31218980000002716\n",
      "\u001b[2m\u001b[36m(RolloutWorker pid=10332)\u001b[0m   warnings.warn(f\"Time-step timed out. Elapsed since last time-step: {now - self.__t_end}\")\n",
      "\u001b[2m\u001b[36m(RolloutWorker pid=10332)\u001b[0m c:\\Users\\nadir\\anaconda3\\envs\\GTAI2\\lib\\site-packages\\rtgym\\envs\\real_time_env.py:376: UserWarning: Time-step timed out. Elapsed since last time-step: 0.37379179999999224\n",
      "\u001b[2m\u001b[36m(RolloutWorker pid=10332)\u001b[0m   warnings.warn(f\"Time-step timed out. Elapsed since last time-step: {now - self.__t_end}\")\n",
      "\u001b[2m\u001b[36m(RolloutWorker pid=10332)\u001b[0m c:\\Users\\nadir\\anaconda3\\envs\\GTAI2\\lib\\site-packages\\rtgym\\envs\\real_time_env.py:376: UserWarning: Time-step timed out. Elapsed since last time-step: 0.3708198000000209\n",
      "\u001b[2m\u001b[36m(RolloutWorker pid=10332)\u001b[0m   warnings.warn(f\"Time-step timed out. Elapsed since last time-step: {now - self.__t_end}\")\n",
      "\u001b[2m\u001b[36m(RolloutWorker pid=10332)\u001b[0m c:\\Users\\nadir\\anaconda3\\envs\\GTAI2\\lib\\site-packages\\rtgym\\envs\\real_time_env.py:376: UserWarning: Time-step timed out. Elapsed since last time-step: 0.35108839999998054\n",
      "\u001b[2m\u001b[36m(RolloutWorker pid=10332)\u001b[0m   warnings.warn(f\"Time-step timed out. Elapsed since last time-step: {now - self.__t_end}\")\n",
      "\u001b[2m\u001b[36m(RolloutWorker pid=10332)\u001b[0m c:\\Users\\nadir\\anaconda3\\envs\\GTAI2\\lib\\site-packages\\rtgym\\envs\\real_time_env.py:376: UserWarning: Time-step timed out. Elapsed since last time-step: 0.37223430000003077\n",
      "\u001b[2m\u001b[36m(RolloutWorker pid=10332)\u001b[0m   warnings.warn(f\"Time-step timed out. Elapsed since last time-step: {now - self.__t_end}\")\n",
      "\u001b[2m\u001b[36m(RolloutWorker pid=10332)\u001b[0m c:\\Users\\nadir\\anaconda3\\envs\\GTAI2\\lib\\site-packages\\rtgym\\envs\\real_time_env.py:376: UserWarning: Time-step timed out. Elapsed since last time-step: 0.3433039999999892\n",
      "\u001b[2m\u001b[36m(RolloutWorker pid=10332)\u001b[0m   warnings.warn(f\"Time-step timed out. Elapsed since last time-step: {now - self.__t_end}\")\n",
      "\u001b[2m\u001b[36m(RolloutWorker pid=10332)\u001b[0m c:\\Users\\nadir\\anaconda3\\envs\\GTAI2\\lib\\site-packages\\rtgym\\envs\\real_time_env.py:376: UserWarning: Time-step timed out. Elapsed since last time-step: 0.3134702000000118\n",
      "\u001b[2m\u001b[36m(RolloutWorker pid=10332)\u001b[0m   warnings.warn(f\"Time-step timed out. Elapsed since last time-step: {now - self.__t_end}\")\n",
      "\u001b[2m\u001b[36m(RolloutWorker pid=10332)\u001b[0m c:\\Users\\nadir\\anaconda3\\envs\\GTAI2\\lib\\site-packages\\rtgym\\envs\\real_time_env.py:376: UserWarning: Time-step timed out. Elapsed since last time-step: 0.3157555999999886\n",
      "\u001b[2m\u001b[36m(RolloutWorker pid=10332)\u001b[0m   warnings.warn(f\"Time-step timed out. Elapsed since last time-step: {now - self.__t_end}\")\n",
      "\u001b[2m\u001b[36m(RolloutWorker pid=10332)\u001b[0m c:\\Users\\nadir\\anaconda3\\envs\\GTAI2\\lib\\site-packages\\rtgym\\envs\\real_time_env.py:376: UserWarning: Time-step timed out. Elapsed since last time-step: 0.3122351000000094\n",
      "\u001b[2m\u001b[36m(RolloutWorker pid=10332)\u001b[0m   warnings.warn(f\"Time-step timed out. Elapsed since last time-step: {now - self.__t_end}\")\n",
      "\u001b[2m\u001b[36m(RolloutWorker pid=10332)\u001b[0m c:\\Users\\nadir\\anaconda3\\envs\\GTAI2\\lib\\site-packages\\rtgym\\envs\\real_time_env.py:376: UserWarning: Time-step timed out. Elapsed since last time-step: 0.31931430000000205\n",
      "\u001b[2m\u001b[36m(RolloutWorker pid=10332)\u001b[0m   warnings.warn(f\"Time-step timed out. Elapsed since last time-step: {now - self.__t_end}\")\n",
      "\u001b[2m\u001b[36m(RolloutWorker pid=10332)\u001b[0m c:\\Users\\nadir\\anaconda3\\envs\\GTAI2\\lib\\site-packages\\rtgym\\envs\\real_time_env.py:376: UserWarning: Time-step timed out. Elapsed since last time-step: 0.35694040000001337\n",
      "\u001b[2m\u001b[36m(RolloutWorker pid=10332)\u001b[0m   warnings.warn(f\"Time-step timed out. Elapsed since last time-step: {now - self.__t_end}\")\n",
      "\u001b[2m\u001b[36m(RolloutWorker pid=10332)\u001b[0m c:\\Users\\nadir\\anaconda3\\envs\\GTAI2\\lib\\site-packages\\rtgym\\envs\\real_time_env.py:376: UserWarning: Time-step timed out. Elapsed since last time-step: 0.34186720000002424\n",
      "\u001b[2m\u001b[36m(RolloutWorker pid=10332)\u001b[0m   warnings.warn(f\"Time-step timed out. Elapsed since last time-step: {now - self.__t_end}\")\n",
      "\u001b[2m\u001b[36m(RolloutWorker pid=10332)\u001b[0m c:\\Users\\nadir\\anaconda3\\envs\\GTAI2\\lib\\site-packages\\rtgym\\envs\\real_time_env.py:376: UserWarning: Time-step timed out. Elapsed since last time-step: 0.3996049999999798\n",
      "\u001b[2m\u001b[36m(RolloutWorker pid=10332)\u001b[0m   warnings.warn(f\"Time-step timed out. Elapsed since last time-step: {now - self.__t_end}\")\n",
      "\u001b[2m\u001b[36m(RolloutWorker pid=10332)\u001b[0m c:\\Users\\nadir\\anaconda3\\envs\\GTAI2\\lib\\site-packages\\rtgym\\envs\\real_time_env.py:376: UserWarning: Time-step timed out. Elapsed since last time-step: 0.3213855000000194\n",
      "\u001b[2m\u001b[36m(RolloutWorker pid=10332)\u001b[0m   warnings.warn(f\"Time-step timed out. Elapsed since last time-step: {now - self.__t_end}\")\n",
      "\u001b[2m\u001b[36m(RolloutWorker pid=10332)\u001b[0m c:\\Users\\nadir\\anaconda3\\envs\\GTAI2\\lib\\site-packages\\rtgym\\envs\\real_time_env.py:376: UserWarning: Time-step timed out. Elapsed since last time-step: 0.3102243000000158\n",
      "\u001b[2m\u001b[36m(RolloutWorker pid=10332)\u001b[0m   warnings.warn(f\"Time-step timed out. Elapsed since last time-step: {now - self.__t_end}\")\n",
      "\u001b[2m\u001b[36m(RolloutWorker pid=10332)\u001b[0m c:\\Users\\nadir\\anaconda3\\envs\\GTAI2\\lib\\site-packages\\rtgym\\envs\\real_time_env.py:376: UserWarning: Time-step timed out. Elapsed since last time-step: 0.313234499999993\n",
      "\u001b[2m\u001b[36m(RolloutWorker pid=10332)\u001b[0m   warnings.warn(f\"Time-step timed out. Elapsed since last time-step: {now - self.__t_end}\")\n",
      "\u001b[2m\u001b[36m(RolloutWorker pid=10332)\u001b[0m c:\\Users\\nadir\\anaconda3\\envs\\GTAI2\\lib\\site-packages\\rtgym\\envs\\real_time_env.py:376: UserWarning: Time-step timed out. Elapsed since last time-step: 0.34028449999999566\n",
      "\u001b[2m\u001b[36m(RolloutWorker pid=10332)\u001b[0m   warnings.warn(f\"Time-step timed out. Elapsed since last time-step: {now - self.__t_end}\")\n",
      "\u001b[2m\u001b[36m(RolloutWorker pid=10332)\u001b[0m c:\\Users\\nadir\\anaconda3\\envs\\GTAI2\\lib\\site-packages\\rtgym\\envs\\real_time_env.py:376: UserWarning: Time-step timed out. Elapsed since last time-step: 0.5701175000000092\n",
      "\u001b[2m\u001b[36m(RolloutWorker pid=10332)\u001b[0m   warnings.warn(f\"Time-step timed out. Elapsed since last time-step: {now - self.__t_end}\")\n",
      "\u001b[2m\u001b[36m(RolloutWorker pid=10332)\u001b[0m c:\\Users\\nadir\\anaconda3\\envs\\GTAI2\\lib\\site-packages\\rtgym\\envs\\real_time_env.py:376: UserWarning: Time-step timed out. Elapsed since last time-step: 0.31380400000000463\n",
      "\u001b[2m\u001b[36m(RolloutWorker pid=10332)\u001b[0m   warnings.warn(f\"Time-step timed out. Elapsed since last time-step: {now - self.__t_end}\")\n",
      "\u001b[2m\u001b[36m(RolloutWorker pid=10332)\u001b[0m c:\\Users\\nadir\\anaconda3\\envs\\GTAI2\\lib\\site-packages\\rtgym\\envs\\real_time_env.py:376: UserWarning: Time-step timed out. Elapsed since last time-step: 0.313566800000018\n",
      "\u001b[2m\u001b[36m(RolloutWorker pid=10332)\u001b[0m   warnings.warn(f\"Time-step timed out. Elapsed since last time-step: {now - self.__t_end}\")\n",
      "\u001b[2m\u001b[36m(RolloutWorker pid=10332)\u001b[0m c:\\Users\\nadir\\anaconda3\\envs\\GTAI2\\lib\\site-packages\\rtgym\\envs\\real_time_env.py:376: UserWarning: Time-step timed out. Elapsed since last time-step: 0.30911890000001563\n",
      "\u001b[2m\u001b[36m(RolloutWorker pid=10332)\u001b[0m   warnings.warn(f\"Time-step timed out. Elapsed since last time-step: {now - self.__t_end}\")\n",
      "\u001b[2m\u001b[36m(RolloutWorker pid=10332)\u001b[0m c:\\Users\\nadir\\anaconda3\\envs\\GTAI2\\lib\\site-packages\\rtgym\\envs\\real_time_env.py:376: UserWarning: Time-step timed out. Elapsed since last time-step: 0.3134505999999817\n",
      "\u001b[2m\u001b[36m(RolloutWorker pid=10332)\u001b[0m   warnings.warn(f\"Time-step timed out. Elapsed since last time-step: {now - self.__t_end}\")\n",
      "\u001b[2m\u001b[36m(RolloutWorker pid=10332)\u001b[0m c:\\Users\\nadir\\anaconda3\\envs\\GTAI2\\lib\\site-packages\\rtgym\\envs\\real_time_env.py:376: UserWarning: Time-step timed out. Elapsed since last time-step: 0.3652345000000139\n",
      "\u001b[2m\u001b[36m(RolloutWorker pid=10332)\u001b[0m   warnings.warn(f\"Time-step timed out. Elapsed since last time-step: {now - self.__t_end}\")\n",
      "\u001b[2m\u001b[36m(RolloutWorker pid=10332)\u001b[0m c:\\Users\\nadir\\anaconda3\\envs\\GTAI2\\lib\\site-packages\\rtgym\\envs\\real_time_env.py:376: UserWarning: Time-step timed out. Elapsed since last time-step: 0.32022960000000467\n",
      "\u001b[2m\u001b[36m(RolloutWorker pid=10332)\u001b[0m   warnings.warn(f\"Time-step timed out. Elapsed since last time-step: {now - self.__t_end}\")\n"
     ]
    },
    {
     "name": "stdout",
     "output_type": "stream",
     "text": [
      "Saved 15\n"
     ]
    },
    {
     "name": "stderr",
     "output_type": "stream",
     "text": [
      "\u001b[2m\u001b[36m(RolloutWorker pid=10332)\u001b[0m c:\\Users\\nadir\\anaconda3\\envs\\GTAI2\\lib\\site-packages\\rtgym\\envs\\real_time_env.py:376: UserWarning: Time-step timed out. Elapsed since last time-step: 0.430445600000013\n",
      "\u001b[2m\u001b[36m(RolloutWorker pid=10332)\u001b[0m   warnings.warn(f\"Time-step timed out. Elapsed since last time-step: {now - self.__t_end}\")\n",
      "\u001b[2m\u001b[36m(RolloutWorker pid=10332)\u001b[0m c:\\Users\\nadir\\anaconda3\\envs\\GTAI2\\lib\\site-packages\\rtgym\\envs\\real_time_env.py:376: UserWarning: Time-step timed out. Elapsed since last time-step: 0.3343477999999891\n",
      "\u001b[2m\u001b[36m(RolloutWorker pid=10332)\u001b[0m   warnings.warn(f\"Time-step timed out. Elapsed since last time-step: {now - self.__t_end}\")\n",
      "\u001b[2m\u001b[36m(RolloutWorker pid=10332)\u001b[0m c:\\Users\\nadir\\anaconda3\\envs\\GTAI2\\lib\\site-packages\\rtgym\\envs\\real_time_env.py:376: UserWarning: Time-step timed out. Elapsed since last time-step: 0.3332873000000234\n",
      "\u001b[2m\u001b[36m(RolloutWorker pid=10332)\u001b[0m   warnings.warn(f\"Time-step timed out. Elapsed since last time-step: {now - self.__t_end}\")\n",
      "\u001b[2m\u001b[36m(RolloutWorker pid=10332)\u001b[0m c:\\Users\\nadir\\anaconda3\\envs\\GTAI2\\lib\\site-packages\\rtgym\\envs\\real_time_env.py:376: UserWarning: Time-step timed out. Elapsed since last time-step: 0.38259089999999674\n",
      "\u001b[2m\u001b[36m(RolloutWorker pid=10332)\u001b[0m   warnings.warn(f\"Time-step timed out. Elapsed since last time-step: {now - self.__t_end}\")\n",
      "\u001b[2m\u001b[36m(RolloutWorker pid=10332)\u001b[0m c:\\Users\\nadir\\anaconda3\\envs\\GTAI2\\lib\\site-packages\\rtgym\\envs\\real_time_env.py:376: UserWarning: Time-step timed out. Elapsed since last time-step: 0.3969701000000043\n",
      "\u001b[2m\u001b[36m(RolloutWorker pid=10332)\u001b[0m   warnings.warn(f\"Time-step timed out. Elapsed since last time-step: {now - self.__t_end}\")\n",
      "\u001b[2m\u001b[36m(RolloutWorker pid=10332)\u001b[0m c:\\Users\\nadir\\anaconda3\\envs\\GTAI2\\lib\\site-packages\\rtgym\\envs\\real_time_env.py:376: UserWarning: Time-step timed out. Elapsed since last time-step: 0.38204420000002415\n",
      "\u001b[2m\u001b[36m(RolloutWorker pid=10332)\u001b[0m   warnings.warn(f\"Time-step timed out. Elapsed since last time-step: {now - self.__t_end}\")\n",
      "\u001b[2m\u001b[36m(RolloutWorker pid=10332)\u001b[0m c:\\Users\\nadir\\anaconda3\\envs\\GTAI2\\lib\\site-packages\\rtgym\\envs\\real_time_env.py:376: UserWarning: Time-step timed out. Elapsed since last time-step: 0.3245667999999853\n",
      "\u001b[2m\u001b[36m(RolloutWorker pid=10332)\u001b[0m   warnings.warn(f\"Time-step timed out. Elapsed since last time-step: {now - self.__t_end}\")\n",
      "\u001b[2m\u001b[36m(RolloutWorker pid=10332)\u001b[0m c:\\Users\\nadir\\anaconda3\\envs\\GTAI2\\lib\\site-packages\\rtgym\\envs\\real_time_env.py:376: UserWarning: Time-step timed out. Elapsed since last time-step: 0.31590600000001245\n",
      "\u001b[2m\u001b[36m(RolloutWorker pid=10332)\u001b[0m   warnings.warn(f\"Time-step timed out. Elapsed since last time-step: {now - self.__t_end}\")\n",
      "\u001b[2m\u001b[36m(RolloutWorker pid=10332)\u001b[0m c:\\Users\\nadir\\anaconda3\\envs\\GTAI2\\lib\\site-packages\\rtgym\\envs\\real_time_env.py:376: UserWarning: Time-step timed out. Elapsed since last time-step: 0.3109536999999989\n",
      "\u001b[2m\u001b[36m(RolloutWorker pid=10332)\u001b[0m   warnings.warn(f\"Time-step timed out. Elapsed since last time-step: {now - self.__t_end}\")\n",
      "\u001b[2m\u001b[36m(RolloutWorker pid=10332)\u001b[0m c:\\Users\\nadir\\anaconda3\\envs\\GTAI2\\lib\\site-packages\\rtgym\\envs\\real_time_env.py:376: UserWarning: Time-step timed out. Elapsed since last time-step: 0.3185206000000278\n",
      "\u001b[2m\u001b[36m(RolloutWorker pid=10332)\u001b[0m   warnings.warn(f\"Time-step timed out. Elapsed since last time-step: {now - self.__t_end}\")\n",
      "\u001b[2m\u001b[36m(RolloutWorker pid=10332)\u001b[0m c:\\Users\\nadir\\anaconda3\\envs\\GTAI2\\lib\\site-packages\\rtgym\\envs\\real_time_env.py:376: UserWarning: Time-step timed out. Elapsed since last time-step: 0.378541499999983\n",
      "\u001b[2m\u001b[36m(RolloutWorker pid=10332)\u001b[0m   warnings.warn(f\"Time-step timed out. Elapsed since last time-step: {now - self.__t_end}\")\n",
      "\u001b[2m\u001b[36m(RolloutWorker pid=10332)\u001b[0m c:\\Users\\nadir\\anaconda3\\envs\\GTAI2\\lib\\site-packages\\rtgym\\envs\\real_time_env.py:376: UserWarning: Time-step timed out. Elapsed since last time-step: 0.3219522000000268\n",
      "\u001b[2m\u001b[36m(RolloutWorker pid=10332)\u001b[0m   warnings.warn(f\"Time-step timed out. Elapsed since last time-step: {now - self.__t_end}\")\n",
      "\u001b[2m\u001b[36m(RolloutWorker pid=10332)\u001b[0m c:\\Users\\nadir\\anaconda3\\envs\\GTAI2\\lib\\site-packages\\rtgym\\envs\\real_time_env.py:376: UserWarning: Time-step timed out. Elapsed since last time-step: 0.32020520000000374\n",
      "\u001b[2m\u001b[36m(RolloutWorker pid=10332)\u001b[0m   warnings.warn(f\"Time-step timed out. Elapsed since last time-step: {now - self.__t_end}\")\n",
      "\u001b[2m\u001b[36m(RolloutWorker pid=10332)\u001b[0m c:\\Users\\nadir\\anaconda3\\envs\\GTAI2\\lib\\site-packages\\rtgym\\envs\\real_time_env.py:376: UserWarning: Time-step timed out. Elapsed since last time-step: 0.33887039999999047\n",
      "\u001b[2m\u001b[36m(RolloutWorker pid=10332)\u001b[0m   warnings.warn(f\"Time-step timed out. Elapsed since last time-step: {now - self.__t_end}\")\n",
      "\u001b[2m\u001b[36m(RolloutWorker pid=10332)\u001b[0m c:\\Users\\nadir\\anaconda3\\envs\\GTAI2\\lib\\site-packages\\rtgym\\envs\\real_time_env.py:376: UserWarning: Time-step timed out. Elapsed since last time-step: 0.3222872000000052\n",
      "\u001b[2m\u001b[36m(RolloutWorker pid=10332)\u001b[0m   warnings.warn(f\"Time-step timed out. Elapsed since last time-step: {now - self.__t_end}\")\n",
      "\u001b[2m\u001b[36m(RolloutWorker pid=10332)\u001b[0m c:\\Users\\nadir\\anaconda3\\envs\\GTAI2\\lib\\site-packages\\rtgym\\envs\\real_time_env.py:376: UserWarning: Time-step timed out. Elapsed since last time-step: 0.5039029000000141\n",
      "\u001b[2m\u001b[36m(RolloutWorker pid=10332)\u001b[0m   warnings.warn(f\"Time-step timed out. Elapsed since last time-step: {now - self.__t_end}\")\n",
      "\u001b[2m\u001b[36m(RolloutWorker pid=10332)\u001b[0m c:\\Users\\nadir\\anaconda3\\envs\\GTAI2\\lib\\site-packages\\rtgym\\envs\\real_time_env.py:376: UserWarning: Time-step timed out. Elapsed since last time-step: 0.31244720000000825\n",
      "\u001b[2m\u001b[36m(RolloutWorker pid=10332)\u001b[0m   warnings.warn(f\"Time-step timed out. Elapsed since last time-step: {now - self.__t_end}\")\n",
      "\u001b[2m\u001b[36m(RolloutWorker pid=10332)\u001b[0m c:\\Users\\nadir\\anaconda3\\envs\\GTAI2\\lib\\site-packages\\rtgym\\envs\\real_time_env.py:376: UserWarning: Time-step timed out. Elapsed since last time-step: 0.3090210000000013\n",
      "\u001b[2m\u001b[36m(RolloutWorker pid=10332)\u001b[0m   warnings.warn(f\"Time-step timed out. Elapsed since last time-step: {now - self.__t_end}\")\n",
      "\u001b[2m\u001b[36m(RolloutWorker pid=10332)\u001b[0m c:\\Users\\nadir\\anaconda3\\envs\\GTAI2\\lib\\site-packages\\rtgym\\envs\\real_time_env.py:376: UserWarning: Time-step timed out. Elapsed since last time-step: 0.31833819999999946\n",
      "\u001b[2m\u001b[36m(RolloutWorker pid=10332)\u001b[0m   warnings.warn(f\"Time-step timed out. Elapsed since last time-step: {now - self.__t_end}\")\n",
      "\u001b[2m\u001b[36m(RolloutWorker pid=10332)\u001b[0m c:\\Users\\nadir\\anaconda3\\envs\\GTAI2\\lib\\site-packages\\rtgym\\envs\\real_time_env.py:376: UserWarning: Time-step timed out. Elapsed since last time-step: 0.32261790000001156\n",
      "\u001b[2m\u001b[36m(RolloutWorker pid=10332)\u001b[0m   warnings.warn(f\"Time-step timed out. Elapsed since last time-step: {now - self.__t_end}\")\n",
      "\u001b[2m\u001b[36m(RolloutWorker pid=10332)\u001b[0m c:\\Users\\nadir\\anaconda3\\envs\\GTAI2\\lib\\site-packages\\rtgym\\envs\\real_time_env.py:376: UserWarning: Time-step timed out. Elapsed since last time-step: 0.3218014999999923\n",
      "\u001b[2m\u001b[36m(RolloutWorker pid=10332)\u001b[0m   warnings.warn(f\"Time-step timed out. Elapsed since last time-step: {now - self.__t_end}\")\n",
      "\u001b[2m\u001b[36m(RolloutWorker pid=10332)\u001b[0m c:\\Users\\nadir\\anaconda3\\envs\\GTAI2\\lib\\site-packages\\rtgym\\envs\\real_time_env.py:376: UserWarning: Time-step timed out. Elapsed since last time-step: 0.39884560000001557\n",
      "\u001b[2m\u001b[36m(RolloutWorker pid=10332)\u001b[0m   warnings.warn(f\"Time-step timed out. Elapsed since last time-step: {now - self.__t_end}\")\n",
      "\u001b[2m\u001b[36m(RolloutWorker pid=10332)\u001b[0m c:\\Users\\nadir\\anaconda3\\envs\\GTAI2\\lib\\site-packages\\rtgym\\envs\\real_time_env.py:376: UserWarning: Time-step timed out. Elapsed since last time-step: 0.39831230000001483\n",
      "\u001b[2m\u001b[36m(RolloutWorker pid=10332)\u001b[0m   warnings.warn(f\"Time-step timed out. Elapsed since last time-step: {now - self.__t_end}\")\n",
      "\u001b[2m\u001b[36m(RolloutWorker pid=10332)\u001b[0m c:\\Users\\nadir\\anaconda3\\envs\\GTAI2\\lib\\site-packages\\rtgym\\envs\\real_time_env.py:376: UserWarning: Time-step timed out. Elapsed since last time-step: 0.3145416000000125\n",
      "\u001b[2m\u001b[36m(RolloutWorker pid=10332)\u001b[0m   warnings.warn(f\"Time-step timed out. Elapsed since last time-step: {now - self.__t_end}\")\n",
      "\u001b[2m\u001b[36m(RolloutWorker pid=10332)\u001b[0m c:\\Users\\nadir\\anaconda3\\envs\\GTAI2\\lib\\site-packages\\rtgym\\envs\\real_time_env.py:376: UserWarning: Time-step timed out. Elapsed since last time-step: 0.31554969999999116\n",
      "\u001b[2m\u001b[36m(RolloutWorker pid=10332)\u001b[0m   warnings.warn(f\"Time-step timed out. Elapsed since last time-step: {now - self.__t_end}\")\n",
      "\u001b[2m\u001b[36m(RolloutWorker pid=10332)\u001b[0m c:\\Users\\nadir\\anaconda3\\envs\\GTAI2\\lib\\site-packages\\rtgym\\envs\\real_time_env.py:376: UserWarning: Time-step timed out. Elapsed since last time-step: 0.3129656000000125\n",
      "\u001b[2m\u001b[36m(RolloutWorker pid=10332)\u001b[0m   warnings.warn(f\"Time-step timed out. Elapsed since last time-step: {now - self.__t_end}\")\n",
      "\u001b[2m\u001b[36m(RolloutWorker pid=10332)\u001b[0m c:\\Users\\nadir\\anaconda3\\envs\\GTAI2\\lib\\site-packages\\rtgym\\envs\\real_time_env.py:376: UserWarning: Time-step timed out. Elapsed since last time-step: 0.31501049999999964\n",
      "\u001b[2m\u001b[36m(RolloutWorker pid=10332)\u001b[0m   warnings.warn(f\"Time-step timed out. Elapsed since last time-step: {now - self.__t_end}\")\n",
      "\u001b[2m\u001b[36m(RolloutWorker pid=10332)\u001b[0m c:\\Users\\nadir\\anaconda3\\envs\\GTAI2\\lib\\site-packages\\rtgym\\envs\\real_time_env.py:376: UserWarning: Time-step timed out. Elapsed since last time-step: 0.3975708000000111\n",
      "\u001b[2m\u001b[36m(RolloutWorker pid=10332)\u001b[0m   warnings.warn(f\"Time-step timed out. Elapsed since last time-step: {now - self.__t_end}\")\n",
      "\u001b[2m\u001b[36m(RolloutWorker pid=10332)\u001b[0m c:\\Users\\nadir\\anaconda3\\envs\\GTAI2\\lib\\site-packages\\rtgym\\envs\\real_time_env.py:376: UserWarning: Time-step timed out. Elapsed since last time-step: 0.36618649999999775\n",
      "\u001b[2m\u001b[36m(RolloutWorker pid=10332)\u001b[0m   warnings.warn(f\"Time-step timed out. Elapsed since last time-step: {now - self.__t_end}\")\n",
      "\u001b[2m\u001b[36m(RolloutWorker pid=10332)\u001b[0m c:\\Users\\nadir\\anaconda3\\envs\\GTAI2\\lib\\site-packages\\rtgym\\envs\\real_time_env.py:376: UserWarning: Time-step timed out. Elapsed since last time-step: 0.33118280000002187\n",
      "\u001b[2m\u001b[36m(RolloutWorker pid=10332)\u001b[0m   warnings.warn(f\"Time-step timed out. Elapsed since last time-step: {now - self.__t_end}\")\n",
      "\u001b[2m\u001b[36m(RolloutWorker pid=10332)\u001b[0m c:\\Users\\nadir\\anaconda3\\envs\\GTAI2\\lib\\site-packages\\rtgym\\envs\\real_time_env.py:376: UserWarning: Time-step timed out. Elapsed since last time-step: 0.3226882999999816\n",
      "\u001b[2m\u001b[36m(RolloutWorker pid=10332)\u001b[0m   warnings.warn(f\"Time-step timed out. Elapsed since last time-step: {now - self.__t_end}\")\n",
      "\u001b[2m\u001b[36m(RolloutWorker pid=10332)\u001b[0m c:\\Users\\nadir\\anaconda3\\envs\\GTAI2\\lib\\site-packages\\rtgym\\envs\\real_time_env.py:376: UserWarning: Time-step timed out. Elapsed since last time-step: 0.32575990000000843\n",
      "\u001b[2m\u001b[36m(RolloutWorker pid=10332)\u001b[0m   warnings.warn(f\"Time-step timed out. Elapsed since last time-step: {now - self.__t_end}\")\n",
      "\u001b[2m\u001b[36m(RolloutWorker pid=10332)\u001b[0m c:\\Users\\nadir\\anaconda3\\envs\\GTAI2\\lib\\site-packages\\rtgym\\envs\\real_time_env.py:376: UserWarning: Time-step timed out. Elapsed since last time-step: 0.33530710000002273\n",
      "\u001b[2m\u001b[36m(RolloutWorker pid=10332)\u001b[0m   warnings.warn(f\"Time-step timed out. Elapsed since last time-step: {now - self.__t_end}\")\n",
      "\u001b[2m\u001b[36m(RolloutWorker pid=10332)\u001b[0m c:\\Users\\nadir\\anaconda3\\envs\\GTAI2\\lib\\site-packages\\rtgym\\envs\\real_time_env.py:376: UserWarning: Time-step timed out. Elapsed since last time-step: 0.5030057999999826\n",
      "\u001b[2m\u001b[36m(RolloutWorker pid=10332)\u001b[0m   warnings.warn(f\"Time-step timed out. Elapsed since last time-step: {now - self.__t_end}\")\n",
      "\u001b[2m\u001b[36m(RolloutWorker pid=10332)\u001b[0m c:\\Users\\nadir\\anaconda3\\envs\\GTAI2\\lib\\site-packages\\rtgym\\envs\\real_time_env.py:376: UserWarning: Time-step timed out. Elapsed since last time-step: 0.40215790000002016\n",
      "\u001b[2m\u001b[36m(RolloutWorker pid=10332)\u001b[0m   warnings.warn(f\"Time-step timed out. Elapsed since last time-step: {now - self.__t_end}\")\n",
      "\u001b[2m\u001b[36m(RolloutWorker pid=10332)\u001b[0m c:\\Users\\nadir\\anaconda3\\envs\\GTAI2\\lib\\site-packages\\rtgym\\envs\\real_time_env.py:376: UserWarning: Time-step timed out. Elapsed since last time-step: 0.32594349999999395\n",
      "\u001b[2m\u001b[36m(RolloutWorker pid=10332)\u001b[0m   warnings.warn(f\"Time-step timed out. Elapsed since last time-step: {now - self.__t_end}\")\n",
      "\u001b[2m\u001b[36m(RolloutWorker pid=10332)\u001b[0m c:\\Users\\nadir\\anaconda3\\envs\\GTAI2\\lib\\site-packages\\rtgym\\envs\\real_time_env.py:376: UserWarning: Time-step timed out. Elapsed since last time-step: 0.32033660000001873\n",
      "\u001b[2m\u001b[36m(RolloutWorker pid=10332)\u001b[0m   warnings.warn(f\"Time-step timed out. Elapsed since last time-step: {now - self.__t_end}\")\n",
      "\u001b[2m\u001b[36m(RolloutWorker pid=10332)\u001b[0m c:\\Users\\nadir\\anaconda3\\envs\\GTAI2\\lib\\site-packages\\rtgym\\envs\\real_time_env.py:376: UserWarning: Time-step timed out. Elapsed since last time-step: 0.31567359999999667\n",
      "\u001b[2m\u001b[36m(RolloutWorker pid=10332)\u001b[0m   warnings.warn(f\"Time-step timed out. Elapsed since last time-step: {now - self.__t_end}\")\n",
      "\u001b[2m\u001b[36m(RolloutWorker pid=10332)\u001b[0m c:\\Users\\nadir\\anaconda3\\envs\\GTAI2\\lib\\site-packages\\rtgym\\envs\\real_time_env.py:376: UserWarning: Time-step timed out. Elapsed since last time-step: 0.31434670000001574\n",
      "\u001b[2m\u001b[36m(RolloutWorker pid=10332)\u001b[0m   warnings.warn(f\"Time-step timed out. Elapsed since last time-step: {now - self.__t_end}\")\n",
      "\u001b[2m\u001b[36m(RolloutWorker pid=10332)\u001b[0m c:\\Users\\nadir\\anaconda3\\envs\\GTAI2\\lib\\site-packages\\rtgym\\envs\\real_time_env.py:376: UserWarning: Time-step timed out. Elapsed since last time-step: 0.32202780000000075\n",
      "\u001b[2m\u001b[36m(RolloutWorker pid=10332)\u001b[0m   warnings.warn(f\"Time-step timed out. Elapsed since last time-step: {now - self.__t_end}\")\n",
      "\u001b[2m\u001b[36m(RolloutWorker pid=10332)\u001b[0m c:\\Users\\nadir\\anaconda3\\envs\\GTAI2\\lib\\site-packages\\rtgym\\envs\\real_time_env.py:376: UserWarning: Time-step timed out. Elapsed since last time-step: 0.32943700000001286\n",
      "\u001b[2m\u001b[36m(RolloutWorker pid=10332)\u001b[0m   warnings.warn(f\"Time-step timed out. Elapsed since last time-step: {now - self.__t_end}\")\n",
      "\u001b[2m\u001b[36m(RolloutWorker pid=10332)\u001b[0m c:\\Users\\nadir\\anaconda3\\envs\\GTAI2\\lib\\site-packages\\rtgym\\envs\\real_time_env.py:376: UserWarning: Time-step timed out. Elapsed since last time-step: 0.35088460000000055\n",
      "\u001b[2m\u001b[36m(RolloutWorker pid=10332)\u001b[0m   warnings.warn(f\"Time-step timed out. Elapsed since last time-step: {now - self.__t_end}\")\n",
      "\u001b[2m\u001b[36m(RolloutWorker pid=10332)\u001b[0m c:\\Users\\nadir\\anaconda3\\envs\\GTAI2\\lib\\site-packages\\rtgym\\envs\\real_time_env.py:376: UserWarning: Time-step timed out. Elapsed since last time-step: 0.45995970000001307\n",
      "\u001b[2m\u001b[36m(RolloutWorker pid=10332)\u001b[0m   warnings.warn(f\"Time-step timed out. Elapsed since last time-step: {now - self.__t_end}\")\n",
      "\u001b[2m\u001b[36m(RolloutWorker pid=10332)\u001b[0m c:\\Users\\nadir\\anaconda3\\envs\\GTAI2\\lib\\site-packages\\rtgym\\envs\\real_time_env.py:376: UserWarning: Time-step timed out. Elapsed since last time-step: 0.30993369999998777\n",
      "\u001b[2m\u001b[36m(RolloutWorker pid=10332)\u001b[0m   warnings.warn(f\"Time-step timed out. Elapsed since last time-step: {now - self.__t_end}\")\n",
      "\u001b[2m\u001b[36m(RolloutWorker pid=10332)\u001b[0m c:\\Users\\nadir\\anaconda3\\envs\\GTAI2\\lib\\site-packages\\rtgym\\envs\\real_time_env.py:376: UserWarning: Time-step timed out. Elapsed since last time-step: 0.31389600000002815\n",
      "\u001b[2m\u001b[36m(RolloutWorker pid=10332)\u001b[0m   warnings.warn(f\"Time-step timed out. Elapsed since last time-step: {now - self.__t_end}\")\n",
      "\u001b[2m\u001b[36m(RolloutWorker pid=10332)\u001b[0m c:\\Users\\nadir\\anaconda3\\envs\\GTAI2\\lib\\site-packages\\rtgym\\envs\\real_time_env.py:376: UserWarning: Time-step timed out. Elapsed since last time-step: 0.31301650000000336\n",
      "\u001b[2m\u001b[36m(RolloutWorker pid=10332)\u001b[0m   warnings.warn(f\"Time-step timed out. Elapsed since last time-step: {now - self.__t_end}\")\n",
      "\u001b[2m\u001b[36m(RolloutWorker pid=10332)\u001b[0m c:\\Users\\nadir\\anaconda3\\envs\\GTAI2\\lib\\site-packages\\rtgym\\envs\\real_time_env.py:376: UserWarning: Time-step timed out. Elapsed since last time-step: 0.31080639999998994\n",
      "\u001b[2m\u001b[36m(RolloutWorker pid=10332)\u001b[0m   warnings.warn(f\"Time-step timed out. Elapsed since last time-step: {now - self.__t_end}\")\n",
      "\u001b[2m\u001b[36m(RolloutWorker pid=10332)\u001b[0m c:\\Users\\nadir\\anaconda3\\envs\\GTAI2\\lib\\site-packages\\rtgym\\envs\\real_time_env.py:376: UserWarning: Time-step timed out. Elapsed since last time-step: 0.34522900000001755\n",
      "\u001b[2m\u001b[36m(RolloutWorker pid=10332)\u001b[0m   warnings.warn(f\"Time-step timed out. Elapsed since last time-step: {now - self.__t_end}\")\n",
      "\u001b[2m\u001b[36m(RolloutWorker pid=10332)\u001b[0m c:\\Users\\nadir\\anaconda3\\envs\\GTAI2\\lib\\site-packages\\rtgym\\envs\\real_time_env.py:376: UserWarning: Time-step timed out. Elapsed since last time-step: 0.3719787999999937\n",
      "\u001b[2m\u001b[36m(RolloutWorker pid=10332)\u001b[0m   warnings.warn(f\"Time-step timed out. Elapsed since last time-step: {now - self.__t_end}\")\n",
      "\u001b[2m\u001b[36m(RolloutWorker pid=10332)\u001b[0m c:\\Users\\nadir\\anaconda3\\envs\\GTAI2\\lib\\site-packages\\rtgym\\envs\\real_time_env.py:376: UserWarning: Time-step timed out. Elapsed since last time-step: 0.3104816000000028\n",
      "\u001b[2m\u001b[36m(RolloutWorker pid=10332)\u001b[0m   warnings.warn(f\"Time-step timed out. Elapsed since last time-step: {now - self.__t_end}\")\n",
      "\u001b[2m\u001b[36m(RolloutWorker pid=10332)\u001b[0m c:\\Users\\nadir\\anaconda3\\envs\\GTAI2\\lib\\site-packages\\rtgym\\envs\\real_time_env.py:376: UserWarning: Time-step timed out. Elapsed since last time-step: 0.3155745000000252\n",
      "\u001b[2m\u001b[36m(RolloutWorker pid=10332)\u001b[0m   warnings.warn(f\"Time-step timed out. Elapsed since last time-step: {now - self.__t_end}\")\n",
      "\u001b[2m\u001b[36m(RolloutWorker pid=10332)\u001b[0m c:\\Users\\nadir\\anaconda3\\envs\\GTAI2\\lib\\site-packages\\rtgym\\envs\\real_time_env.py:376: UserWarning: Time-step timed out. Elapsed since last time-step: 0.31680769999999825\n",
      "\u001b[2m\u001b[36m(RolloutWorker pid=10332)\u001b[0m   warnings.warn(f\"Time-step timed out. Elapsed since last time-step: {now - self.__t_end}\")\n",
      "\u001b[2m\u001b[36m(RolloutWorker pid=10332)\u001b[0m c:\\Users\\nadir\\anaconda3\\envs\\GTAI2\\lib\\site-packages\\rtgym\\envs\\real_time_env.py:376: UserWarning: Time-step timed out. Elapsed since last time-step: 0.3135767999999928\n",
      "\u001b[2m\u001b[36m(RolloutWorker pid=10332)\u001b[0m   warnings.warn(f\"Time-step timed out. Elapsed since last time-step: {now - self.__t_end}\")\n",
      "\u001b[2m\u001b[36m(RolloutWorker pid=10332)\u001b[0m c:\\Users\\nadir\\anaconda3\\envs\\GTAI2\\lib\\site-packages\\rtgym\\envs\\real_time_env.py:376: UserWarning: Time-step timed out. Elapsed since last time-step: 0.330377000000027\n",
      "\u001b[2m\u001b[36m(RolloutWorker pid=10332)\u001b[0m   warnings.warn(f\"Time-step timed out. Elapsed since last time-step: {now - self.__t_end}\")\n",
      "\u001b[2m\u001b[36m(RolloutWorker pid=10332)\u001b[0m c:\\Users\\nadir\\anaconda3\\envs\\GTAI2\\lib\\site-packages\\rtgym\\envs\\real_time_env.py:376: UserWarning: Time-step timed out. Elapsed since last time-step: 0.320992700000005\n",
      "\u001b[2m\u001b[36m(RolloutWorker pid=10332)\u001b[0m   warnings.warn(f\"Time-step timed out. Elapsed since last time-step: {now - self.__t_end}\")\n",
      "\u001b[2m\u001b[36m(RolloutWorker pid=10332)\u001b[0m c:\\Users\\nadir\\anaconda3\\envs\\GTAI2\\lib\\site-packages\\rtgym\\envs\\real_time_env.py:376: UserWarning: Time-step timed out. Elapsed since last time-step: 0.3567318000000057\n",
      "\u001b[2m\u001b[36m(RolloutWorker pid=10332)\u001b[0m   warnings.warn(f\"Time-step timed out. Elapsed since last time-step: {now - self.__t_end}\")\n",
      "\u001b[2m\u001b[36m(RolloutWorker pid=10332)\u001b[0m c:\\Users\\nadir\\anaconda3\\envs\\GTAI2\\lib\\site-packages\\rtgym\\envs\\real_time_env.py:376: UserWarning: Time-step timed out. Elapsed since last time-step: 0.3582700999999986\n",
      "\u001b[2m\u001b[36m(RolloutWorker pid=10332)\u001b[0m   warnings.warn(f\"Time-step timed out. Elapsed since last time-step: {now - self.__t_end}\")\n",
      "\u001b[2m\u001b[36m(RolloutWorker pid=10332)\u001b[0m c:\\Users\\nadir\\anaconda3\\envs\\GTAI2\\lib\\site-packages\\rtgym\\envs\\real_time_env.py:376: UserWarning: Time-step timed out. Elapsed since last time-step: 0.3623986000000059\n",
      "\u001b[2m\u001b[36m(RolloutWorker pid=10332)\u001b[0m   warnings.warn(f\"Time-step timed out. Elapsed since last time-step: {now - self.__t_end}\")\n",
      "\u001b[2m\u001b[36m(RolloutWorker pid=10332)\u001b[0m c:\\Users\\nadir\\anaconda3\\envs\\GTAI2\\lib\\site-packages\\rtgym\\envs\\real_time_env.py:376: UserWarning: Time-step timed out. Elapsed since last time-step: 0.34510819999999853\n",
      "\u001b[2m\u001b[36m(RolloutWorker pid=10332)\u001b[0m   warnings.warn(f\"Time-step timed out. Elapsed since last time-step: {now - self.__t_end}\")\n",
      "\u001b[2m\u001b[36m(RolloutWorker pid=10332)\u001b[0m c:\\Users\\nadir\\anaconda3\\envs\\GTAI2\\lib\\site-packages\\rtgym\\envs\\real_time_env.py:376: UserWarning: Time-step timed out. Elapsed since last time-step: 0.3176888000000133\n",
      "\u001b[2m\u001b[36m(RolloutWorker pid=10332)\u001b[0m   warnings.warn(f\"Time-step timed out. Elapsed since last time-step: {now - self.__t_end}\")\n",
      "\u001b[2m\u001b[36m(RolloutWorker pid=10332)\u001b[0m c:\\Users\\nadir\\anaconda3\\envs\\GTAI2\\lib\\site-packages\\rtgym\\envs\\real_time_env.py:376: UserWarning: Time-step timed out. Elapsed since last time-step: 0.3141075999999998\n",
      "\u001b[2m\u001b[36m(RolloutWorker pid=10332)\u001b[0m   warnings.warn(f\"Time-step timed out. Elapsed since last time-step: {now - self.__t_end}\")\n",
      "\u001b[2m\u001b[36m(RolloutWorker pid=10332)\u001b[0m c:\\Users\\nadir\\anaconda3\\envs\\GTAI2\\lib\\site-packages\\rtgym\\envs\\real_time_env.py:376: UserWarning: Time-step timed out. Elapsed since last time-step: 0.31551760000002105\n",
      "\u001b[2m\u001b[36m(RolloutWorker pid=10332)\u001b[0m   warnings.warn(f\"Time-step timed out. Elapsed since last time-step: {now - self.__t_end}\")\n"
     ]
    },
    {
     "name": "stdout",
     "output_type": "stream",
     "text": [
      "\u001b[2m\u001b[36m(RolloutWorker pid=10332)\u001b[0m reset triggered\n",
      "\u001b[2m\u001b[36m(RolloutWorker pid=10332)\u001b[0m reload save\n"
     ]
    },
    {
     "name": "stderr",
     "output_type": "stream",
     "text": [
      "\u001b[2m\u001b[36m(RolloutWorker pid=10332)\u001b[0m c:\\Users\\nadir\\anaconda3\\envs\\GTAI2\\lib\\site-packages\\rtgym\\envs\\real_time_env.py:376: UserWarning: Time-step timed out. Elapsed since last time-step: 0.8538044999999954\n",
      "\u001b[2m\u001b[36m(RolloutWorker pid=10332)\u001b[0m   warnings.warn(f\"Time-step timed out. Elapsed since last time-step: {now - self.__t_end}\")\n",
      "\u001b[2m\u001b[36m(RolloutWorker pid=10332)\u001b[0m c:\\Users\\nadir\\anaconda3\\envs\\GTAI2\\lib\\site-packages\\rtgym\\envs\\real_time_env.py:376: UserWarning: Time-step timed out. Elapsed since last time-step: 0.37082430000000954\n",
      "\u001b[2m\u001b[36m(RolloutWorker pid=10332)\u001b[0m   warnings.warn(f\"Time-step timed out. Elapsed since last time-step: {now - self.__t_end}\")\n",
      "\u001b[2m\u001b[36m(RolloutWorker pid=10332)\u001b[0m c:\\Users\\nadir\\anaconda3\\envs\\GTAI2\\lib\\site-packages\\rtgym\\envs\\real_time_env.py:376: UserWarning: Time-step timed out. Elapsed since last time-step: 0.36751160000000027\n",
      "\u001b[2m\u001b[36m(RolloutWorker pid=10332)\u001b[0m   warnings.warn(f\"Time-step timed out. Elapsed since last time-step: {now - self.__t_end}\")\n",
      "\u001b[2m\u001b[36m(RolloutWorker pid=10332)\u001b[0m c:\\Users\\nadir\\anaconda3\\envs\\GTAI2\\lib\\site-packages\\rtgym\\envs\\real_time_env.py:376: UserWarning: Time-step timed out. Elapsed since last time-step: 0.35296429999999646\n",
      "\u001b[2m\u001b[36m(RolloutWorker pid=10332)\u001b[0m   warnings.warn(f\"Time-step timed out. Elapsed since last time-step: {now - self.__t_end}\")\n",
      "\u001b[2m\u001b[36m(RolloutWorker pid=10332)\u001b[0m c:\\Users\\nadir\\anaconda3\\envs\\GTAI2\\lib\\site-packages\\rtgym\\envs\\real_time_env.py:376: UserWarning: Time-step timed out. Elapsed since last time-step: 0.3198238000000231\n",
      "\u001b[2m\u001b[36m(RolloutWorker pid=10332)\u001b[0m   warnings.warn(f\"Time-step timed out. Elapsed since last time-step: {now - self.__t_end}\")\n",
      "\u001b[2m\u001b[36m(RolloutWorker pid=10332)\u001b[0m c:\\Users\\nadir\\anaconda3\\envs\\GTAI2\\lib\\site-packages\\rtgym\\envs\\real_time_env.py:376: UserWarning: Time-step timed out. Elapsed since last time-step: 0.313178999999991\n",
      "\u001b[2m\u001b[36m(RolloutWorker pid=10332)\u001b[0m   warnings.warn(f\"Time-step timed out. Elapsed since last time-step: {now - self.__t_end}\")\n",
      "\u001b[2m\u001b[36m(RolloutWorker pid=10332)\u001b[0m c:\\Users\\nadir\\anaconda3\\envs\\GTAI2\\lib\\site-packages\\rtgym\\envs\\real_time_env.py:376: UserWarning: Time-step timed out. Elapsed since last time-step: 0.31393380000002935\n",
      "\u001b[2m\u001b[36m(RolloutWorker pid=10332)\u001b[0m   warnings.warn(f\"Time-step timed out. Elapsed since last time-step: {now - self.__t_end}\")\n",
      "\u001b[2m\u001b[36m(RolloutWorker pid=10332)\u001b[0m c:\\Users\\nadir\\anaconda3\\envs\\GTAI2\\lib\\site-packages\\rtgym\\envs\\real_time_env.py:376: UserWarning: Time-step timed out. Elapsed since last time-step: 0.3154519999999934\n",
      "\u001b[2m\u001b[36m(RolloutWorker pid=10332)\u001b[0m   warnings.warn(f\"Time-step timed out. Elapsed since last time-step: {now - self.__t_end}\")\n",
      "\u001b[2m\u001b[36m(RolloutWorker pid=10332)\u001b[0m c:\\Users\\nadir\\anaconda3\\envs\\GTAI2\\lib\\site-packages\\rtgym\\envs\\real_time_env.py:376: UserWarning: Time-step timed out. Elapsed since last time-step: 0.35959439999999177\n",
      "\u001b[2m\u001b[36m(RolloutWorker pid=10332)\u001b[0m   warnings.warn(f\"Time-step timed out. Elapsed since last time-step: {now - self.__t_end}\")\n",
      "\u001b[2m\u001b[36m(RolloutWorker pid=10332)\u001b[0m c:\\Users\\nadir\\anaconda3\\envs\\GTAI2\\lib\\site-packages\\rtgym\\envs\\real_time_env.py:376: UserWarning: Time-step timed out. Elapsed since last time-step: 0.367315700000006\n",
      "\u001b[2m\u001b[36m(RolloutWorker pid=10332)\u001b[0m   warnings.warn(f\"Time-step timed out. Elapsed since last time-step: {now - self.__t_end}\")\n",
      "\u001b[2m\u001b[36m(RolloutWorker pid=10332)\u001b[0m c:\\Users\\nadir\\anaconda3\\envs\\GTAI2\\lib\\site-packages\\rtgym\\envs\\real_time_env.py:376: UserWarning: Time-step timed out. Elapsed since last time-step: 0.3927621000000272\n",
      "\u001b[2m\u001b[36m(RolloutWorker pid=10332)\u001b[0m   warnings.warn(f\"Time-step timed out. Elapsed since last time-step: {now - self.__t_end}\")\n",
      "\u001b[2m\u001b[36m(RolloutWorker pid=10332)\u001b[0m c:\\Users\\nadir\\anaconda3\\envs\\GTAI2\\lib\\site-packages\\rtgym\\envs\\real_time_env.py:376: UserWarning: Time-step timed out. Elapsed since last time-step: 0.31017940000000976\n",
      "\u001b[2m\u001b[36m(RolloutWorker pid=10332)\u001b[0m   warnings.warn(f\"Time-step timed out. Elapsed since last time-step: {now - self.__t_end}\")\n",
      "\u001b[2m\u001b[36m(RolloutWorker pid=10332)\u001b[0m c:\\Users\\nadir\\anaconda3\\envs\\GTAI2\\lib\\site-packages\\rtgym\\envs\\real_time_env.py:376: UserWarning: Time-step timed out. Elapsed since last time-step: 0.31180999999997994\n",
      "\u001b[2m\u001b[36m(RolloutWorker pid=10332)\u001b[0m   warnings.warn(f\"Time-step timed out. Elapsed since last time-step: {now - self.__t_end}\")\n",
      "\u001b[2m\u001b[36m(RolloutWorker pid=10332)\u001b[0m c:\\Users\\nadir\\anaconda3\\envs\\GTAI2\\lib\\site-packages\\rtgym\\envs\\real_time_env.py:376: UserWarning: Time-step timed out. Elapsed since last time-step: 0.48634500000002845\n",
      "\u001b[2m\u001b[36m(RolloutWorker pid=10332)\u001b[0m   warnings.warn(f\"Time-step timed out. Elapsed since last time-step: {now - self.__t_end}\")\n",
      "\u001b[2m\u001b[36m(RolloutWorker pid=10332)\u001b[0m c:\\Users\\nadir\\anaconda3\\envs\\GTAI2\\lib\\site-packages\\rtgym\\envs\\real_time_env.py:376: UserWarning: Time-step timed out. Elapsed since last time-step: 0.335569200000009\n",
      "\u001b[2m\u001b[36m(RolloutWorker pid=10332)\u001b[0m   warnings.warn(f\"Time-step timed out. Elapsed since last time-step: {now - self.__t_end}\")\n",
      "\u001b[2m\u001b[36m(RolloutWorker pid=10332)\u001b[0m c:\\Users\\nadir\\anaconda3\\envs\\GTAI2\\lib\\site-packages\\rtgym\\envs\\real_time_env.py:376: UserWarning: Time-step timed out. Elapsed since last time-step: 0.35828349999999887\n",
      "\u001b[2m\u001b[36m(RolloutWorker pid=10332)\u001b[0m   warnings.warn(f\"Time-step timed out. Elapsed since last time-step: {now - self.__t_end}\")\n",
      "\u001b[2m\u001b[36m(RolloutWorker pid=10332)\u001b[0m c:\\Users\\nadir\\anaconda3\\envs\\GTAI2\\lib\\site-packages\\rtgym\\envs\\real_time_env.py:376: UserWarning: Time-step timed out. Elapsed since last time-step: 0.34293519999999944\n",
      "\u001b[2m\u001b[36m(RolloutWorker pid=10332)\u001b[0m   warnings.warn(f\"Time-step timed out. Elapsed since last time-step: {now - self.__t_end}\")\n",
      "\u001b[2m\u001b[36m(RolloutWorker pid=10332)\u001b[0m c:\\Users\\nadir\\anaconda3\\envs\\GTAI2\\lib\\site-packages\\rtgym\\envs\\real_time_env.py:376: UserWarning: Time-step timed out. Elapsed since last time-step: 0.33338150000000155\n",
      "\u001b[2m\u001b[36m(RolloutWorker pid=10332)\u001b[0m   warnings.warn(f\"Time-step timed out. Elapsed since last time-step: {now - self.__t_end}\")\n",
      "\u001b[2m\u001b[36m(RolloutWorker pid=10332)\u001b[0m c:\\Users\\nadir\\anaconda3\\envs\\GTAI2\\lib\\site-packages\\rtgym\\envs\\real_time_env.py:376: UserWarning: Time-step timed out. Elapsed since last time-step: 0.31274120000000494\n",
      "\u001b[2m\u001b[36m(RolloutWorker pid=10332)\u001b[0m   warnings.warn(f\"Time-step timed out. Elapsed since last time-step: {now - self.__t_end}\")\n",
      "\u001b[2m\u001b[36m(RolloutWorker pid=10332)\u001b[0m c:\\Users\\nadir\\anaconda3\\envs\\GTAI2\\lib\\site-packages\\rtgym\\envs\\real_time_env.py:376: UserWarning: Time-step timed out. Elapsed since last time-step: 0.3123774000000026\n",
      "\u001b[2m\u001b[36m(RolloutWorker pid=10332)\u001b[0m   warnings.warn(f\"Time-step timed out. Elapsed since last time-step: {now - self.__t_end}\")\n",
      "\u001b[2m\u001b[36m(RolloutWorker pid=10332)\u001b[0m c:\\Users\\nadir\\anaconda3\\envs\\GTAI2\\lib\\site-packages\\rtgym\\envs\\real_time_env.py:376: UserWarning: Time-step timed out. Elapsed since last time-step: 0.3126981999999998\n",
      "\u001b[2m\u001b[36m(RolloutWorker pid=10332)\u001b[0m   warnings.warn(f\"Time-step timed out. Elapsed since last time-step: {now - self.__t_end}\")\n",
      "\u001b[2m\u001b[36m(RolloutWorker pid=10332)\u001b[0m c:\\Users\\nadir\\anaconda3\\envs\\GTAI2\\lib\\site-packages\\rtgym\\envs\\real_time_env.py:376: UserWarning: Time-step timed out. Elapsed since last time-step: 0.31895720000002825\n",
      "\u001b[2m\u001b[36m(RolloutWorker pid=10332)\u001b[0m   warnings.warn(f\"Time-step timed out. Elapsed since last time-step: {now - self.__t_end}\")\n",
      "\u001b[2m\u001b[36m(RolloutWorker pid=10332)\u001b[0m c:\\Users\\nadir\\anaconda3\\envs\\GTAI2\\lib\\site-packages\\rtgym\\envs\\real_time_env.py:376: UserWarning: Time-step timed out. Elapsed since last time-step: 0.36306279999999447\n",
      "\u001b[2m\u001b[36m(RolloutWorker pid=10332)\u001b[0m   warnings.warn(f\"Time-step timed out. Elapsed since last time-step: {now - self.__t_end}\")\n",
      "\u001b[2m\u001b[36m(RolloutWorker pid=10332)\u001b[0m c:\\Users\\nadir\\anaconda3\\envs\\GTAI2\\lib\\site-packages\\rtgym\\envs\\real_time_env.py:376: UserWarning: Time-step timed out. Elapsed since last time-step: 0.35484400000001415\n",
      "\u001b[2m\u001b[36m(RolloutWorker pid=10332)\u001b[0m   warnings.warn(f\"Time-step timed out. Elapsed since last time-step: {now - self.__t_end}\")\n",
      "\u001b[2m\u001b[36m(RolloutWorker pid=10332)\u001b[0m c:\\Users\\nadir\\anaconda3\\envs\\GTAI2\\lib\\site-packages\\rtgym\\envs\\real_time_env.py:376: UserWarning: Time-step timed out. Elapsed since last time-step: 0.3519359999999949\n",
      "\u001b[2m\u001b[36m(RolloutWorker pid=10332)\u001b[0m   warnings.warn(f\"Time-step timed out. Elapsed since last time-step: {now - self.__t_end}\")\n",
      "\u001b[2m\u001b[36m(RolloutWorker pid=10332)\u001b[0m c:\\Users\\nadir\\anaconda3\\envs\\GTAI2\\lib\\site-packages\\rtgym\\envs\\real_time_env.py:376: UserWarning: Time-step timed out. Elapsed since last time-step: 0.39499690000002374\n",
      "\u001b[2m\u001b[36m(RolloutWorker pid=10332)\u001b[0m   warnings.warn(f\"Time-step timed out. Elapsed since last time-step: {now - self.__t_end}\")\n",
      "\u001b[2m\u001b[36m(RolloutWorker pid=10332)\u001b[0m c:\\Users\\nadir\\anaconda3\\envs\\GTAI2\\lib\\site-packages\\rtgym\\envs\\real_time_env.py:376: UserWarning: Time-step timed out. Elapsed since last time-step: 0.31766009999998346\n",
      "\u001b[2m\u001b[36m(RolloutWorker pid=10332)\u001b[0m   warnings.warn(f\"Time-step timed out. Elapsed since last time-step: {now - self.__t_end}\")\n",
      "\u001b[2m\u001b[36m(RolloutWorker pid=10332)\u001b[0m c:\\Users\\nadir\\anaconda3\\envs\\GTAI2\\lib\\site-packages\\rtgym\\envs\\real_time_env.py:376: UserWarning: Time-step timed out. Elapsed since last time-step: 0.3137347000000261\n",
      "\u001b[2m\u001b[36m(RolloutWorker pid=10332)\u001b[0m   warnings.warn(f\"Time-step timed out. Elapsed since last time-step: {now - self.__t_end}\")\n",
      "\u001b[2m\u001b[36m(RolloutWorker pid=10332)\u001b[0m c:\\Users\\nadir\\anaconda3\\envs\\GTAI2\\lib\\site-packages\\rtgym\\envs\\real_time_env.py:376: UserWarning: Time-step timed out. Elapsed since last time-step: 0.31363880000000677\n",
      "\u001b[2m\u001b[36m(RolloutWorker pid=10332)\u001b[0m   warnings.warn(f\"Time-step timed out. Elapsed since last time-step: {now - self.__t_end}\")\n",
      "\u001b[2m\u001b[36m(RolloutWorker pid=10332)\u001b[0m c:\\Users\\nadir\\anaconda3\\envs\\GTAI2\\lib\\site-packages\\rtgym\\envs\\real_time_env.py:376: UserWarning: Time-step timed out. Elapsed since last time-step: 0.3110769999999832\n",
      "\u001b[2m\u001b[36m(RolloutWorker pid=10332)\u001b[0m   warnings.warn(f\"Time-step timed out. Elapsed since last time-step: {now - self.__t_end}\")\n",
      "\u001b[2m\u001b[36m(RolloutWorker pid=10332)\u001b[0m c:\\Users\\nadir\\anaconda3\\envs\\GTAI2\\lib\\site-packages\\rtgym\\envs\\real_time_env.py:376: UserWarning: Time-step timed out. Elapsed since last time-step: 0.3616319000000203\n",
      "\u001b[2m\u001b[36m(RolloutWorker pid=10332)\u001b[0m   warnings.warn(f\"Time-step timed out. Elapsed since last time-step: {now - self.__t_end}\")\n",
      "\u001b[2m\u001b[36m(RolloutWorker pid=10332)\u001b[0m c:\\Users\\nadir\\anaconda3\\envs\\GTAI2\\lib\\site-packages\\rtgym\\envs\\real_time_env.py:376: UserWarning: Time-step timed out. Elapsed since last time-step: 0.35325059999999553\n",
      "\u001b[2m\u001b[36m(RolloutWorker pid=10332)\u001b[0m   warnings.warn(f\"Time-step timed out. Elapsed since last time-step: {now - self.__t_end}\")\n",
      "\u001b[2m\u001b[36m(RolloutWorker pid=10332)\u001b[0m c:\\Users\\nadir\\anaconda3\\envs\\GTAI2\\lib\\site-packages\\rtgym\\envs\\real_time_env.py:376: UserWarning: Time-step timed out. Elapsed since last time-step: 0.35428830000000744\n",
      "\u001b[2m\u001b[36m(RolloutWorker pid=10332)\u001b[0m   warnings.warn(f\"Time-step timed out. Elapsed since last time-step: {now - self.__t_end}\")\n",
      "\u001b[2m\u001b[36m(RolloutWorker pid=10332)\u001b[0m c:\\Users\\nadir\\anaconda3\\envs\\GTAI2\\lib\\site-packages\\rtgym\\envs\\real_time_env.py:376: UserWarning: Time-step timed out. Elapsed since last time-step: 0.30977180000002136\n",
      "\u001b[2m\u001b[36m(RolloutWorker pid=10332)\u001b[0m   warnings.warn(f\"Time-step timed out. Elapsed since last time-step: {now - self.__t_end}\")\n",
      "\u001b[2m\u001b[36m(RolloutWorker pid=10332)\u001b[0m c:\\Users\\nadir\\anaconda3\\envs\\GTAI2\\lib\\site-packages\\rtgym\\envs\\real_time_env.py:376: UserWarning: Time-step timed out. Elapsed since last time-step: 0.3145925000000034\n",
      "\u001b[2m\u001b[36m(RolloutWorker pid=10332)\u001b[0m   warnings.warn(f\"Time-step timed out. Elapsed since last time-step: {now - self.__t_end}\")\n",
      "\u001b[2m\u001b[36m(RolloutWorker pid=10332)\u001b[0m c:\\Users\\nadir\\anaconda3\\envs\\GTAI2\\lib\\site-packages\\rtgym\\envs\\real_time_env.py:376: UserWarning: Time-step timed out. Elapsed since last time-step: 0.3167957999999942\n",
      "\u001b[2m\u001b[36m(RolloutWorker pid=10332)\u001b[0m   warnings.warn(f\"Time-step timed out. Elapsed since last time-step: {now - self.__t_end}\")\n",
      "\u001b[2m\u001b[36m(RolloutWorker pid=10332)\u001b[0m c:\\Users\\nadir\\anaconda3\\envs\\GTAI2\\lib\\site-packages\\rtgym\\envs\\real_time_env.py:376: UserWarning: Time-step timed out. Elapsed since last time-step: 0.3187362000000178\n",
      "\u001b[2m\u001b[36m(RolloutWorker pid=10332)\u001b[0m   warnings.warn(f\"Time-step timed out. Elapsed since last time-step: {now - self.__t_end}\")\n",
      "\u001b[2m\u001b[36m(RolloutWorker pid=10332)\u001b[0m c:\\Users\\nadir\\anaconda3\\envs\\GTAI2\\lib\\site-packages\\rtgym\\envs\\real_time_env.py:376: UserWarning: Time-step timed out. Elapsed since last time-step: 0.38874490000000606\n",
      "\u001b[2m\u001b[36m(RolloutWorker pid=10332)\u001b[0m   warnings.warn(f\"Time-step timed out. Elapsed since last time-step: {now - self.__t_end}\")\n",
      "\u001b[2m\u001b[36m(RolloutWorker pid=10332)\u001b[0m c:\\Users\\nadir\\anaconda3\\envs\\GTAI2\\lib\\site-packages\\rtgym\\envs\\real_time_env.py:376: UserWarning: Time-step timed out. Elapsed since last time-step: 0.36195889999999054\n",
      "\u001b[2m\u001b[36m(RolloutWorker pid=10332)\u001b[0m   warnings.warn(f\"Time-step timed out. Elapsed since last time-step: {now - self.__t_end}\")\n",
      "\u001b[2m\u001b[36m(RolloutWorker pid=10332)\u001b[0m c:\\Users\\nadir\\anaconda3\\envs\\GTAI2\\lib\\site-packages\\rtgym\\envs\\real_time_env.py:376: UserWarning: Time-step timed out. Elapsed since last time-step: 0.35026849999999854\n",
      "\u001b[2m\u001b[36m(RolloutWorker pid=10332)\u001b[0m   warnings.warn(f\"Time-step timed out. Elapsed since last time-step: {now - self.__t_end}\")\n",
      "\u001b[2m\u001b[36m(RolloutWorker pid=10332)\u001b[0m c:\\Users\\nadir\\anaconda3\\envs\\GTAI2\\lib\\site-packages\\rtgym\\envs\\real_time_env.py:376: UserWarning: Time-step timed out. Elapsed since last time-step: 0.3154896000000065\n",
      "\u001b[2m\u001b[36m(RolloutWorker pid=10332)\u001b[0m   warnings.warn(f\"Time-step timed out. Elapsed since last time-step: {now - self.__t_end}\")\n",
      "\u001b[2m\u001b[36m(RolloutWorker pid=10332)\u001b[0m c:\\Users\\nadir\\anaconda3\\envs\\GTAI2\\lib\\site-packages\\rtgym\\envs\\real_time_env.py:376: UserWarning: Time-step timed out. Elapsed since last time-step: 0.3152382999999759\n",
      "\u001b[2m\u001b[36m(RolloutWorker pid=10332)\u001b[0m   warnings.warn(f\"Time-step timed out. Elapsed since last time-step: {now - self.__t_end}\")\n",
      "\u001b[2m\u001b[36m(RolloutWorker pid=10332)\u001b[0m c:\\Users\\nadir\\anaconda3\\envs\\GTAI2\\lib\\site-packages\\rtgym\\envs\\real_time_env.py:376: UserWarning: Time-step timed out. Elapsed since last time-step: 0.32166839999996455\n",
      "\u001b[2m\u001b[36m(RolloutWorker pid=10332)\u001b[0m   warnings.warn(f\"Time-step timed out. Elapsed since last time-step: {now - self.__t_end}\")\n",
      "\u001b[2m\u001b[36m(RolloutWorker pid=10332)\u001b[0m c:\\Users\\nadir\\anaconda3\\envs\\GTAI2\\lib\\site-packages\\rtgym\\envs\\real_time_env.py:376: UserWarning: Time-step timed out. Elapsed since last time-step: 0.310087899999985\n",
      "\u001b[2m\u001b[36m(RolloutWorker pid=10332)\u001b[0m   warnings.warn(f\"Time-step timed out. Elapsed since last time-step: {now - self.__t_end}\")\n",
      "\u001b[2m\u001b[36m(RolloutWorker pid=10332)\u001b[0m c:\\Users\\nadir\\anaconda3\\envs\\GTAI2\\lib\\site-packages\\rtgym\\envs\\real_time_env.py:376: UserWarning: Time-step timed out. Elapsed since last time-step: 0.35727489999999307\n",
      "\u001b[2m\u001b[36m(RolloutWorker pid=10332)\u001b[0m   warnings.warn(f\"Time-step timed out. Elapsed since last time-step: {now - self.__t_end}\")\n",
      "\u001b[2m\u001b[36m(RolloutWorker pid=10332)\u001b[0m c:\\Users\\nadir\\anaconda3\\envs\\GTAI2\\lib\\site-packages\\rtgym\\envs\\real_time_env.py:376: UserWarning: Time-step timed out. Elapsed since last time-step: 0.36334759999999733\n",
      "\u001b[2m\u001b[36m(RolloutWorker pid=10332)\u001b[0m   warnings.warn(f\"Time-step timed out. Elapsed since last time-step: {now - self.__t_end}\")\n",
      "\u001b[2m\u001b[36m(RolloutWorker pid=10332)\u001b[0m c:\\Users\\nadir\\anaconda3\\envs\\GTAI2\\lib\\site-packages\\rtgym\\envs\\real_time_env.py:376: UserWarning: Time-step timed out. Elapsed since last time-step: 0.35201939999996057\n",
      "\u001b[2m\u001b[36m(RolloutWorker pid=10332)\u001b[0m   warnings.warn(f\"Time-step timed out. Elapsed since last time-step: {now - self.__t_end}\")\n",
      "\u001b[2m\u001b[36m(RolloutWorker pid=10332)\u001b[0m c:\\Users\\nadir\\anaconda3\\envs\\GTAI2\\lib\\site-packages\\rtgym\\envs\\real_time_env.py:376: UserWarning: Time-step timed out. Elapsed since last time-step: 0.33985119999999824\n",
      "\u001b[2m\u001b[36m(RolloutWorker pid=10332)\u001b[0m   warnings.warn(f\"Time-step timed out. Elapsed since last time-step: {now - self.__t_end}\")\n",
      "\u001b[2m\u001b[36m(RolloutWorker pid=10332)\u001b[0m c:\\Users\\nadir\\anaconda3\\envs\\GTAI2\\lib\\site-packages\\rtgym\\envs\\real_time_env.py:376: UserWarning: Time-step timed out. Elapsed since last time-step: 0.31834519999995337\n",
      "\u001b[2m\u001b[36m(RolloutWorker pid=10332)\u001b[0m   warnings.warn(f\"Time-step timed out. Elapsed since last time-step: {now - self.__t_end}\")\n",
      "\u001b[2m\u001b[36m(RolloutWorker pid=10332)\u001b[0m c:\\Users\\nadir\\anaconda3\\envs\\GTAI2\\lib\\site-packages\\rtgym\\envs\\real_time_env.py:376: UserWarning: Time-step timed out. Elapsed since last time-step: 0.31263369999999213\n",
      "\u001b[2m\u001b[36m(RolloutWorker pid=10332)\u001b[0m   warnings.warn(f\"Time-step timed out. Elapsed since last time-step: {now - self.__t_end}\")\n",
      "\u001b[2m\u001b[36m(RolloutWorker pid=10332)\u001b[0m c:\\Users\\nadir\\anaconda3\\envs\\GTAI2\\lib\\site-packages\\rtgym\\envs\\real_time_env.py:376: UserWarning: Time-step timed out. Elapsed since last time-step: 0.31510729999996556\n",
      "\u001b[2m\u001b[36m(RolloutWorker pid=10332)\u001b[0m   warnings.warn(f\"Time-step timed out. Elapsed since last time-step: {now - self.__t_end}\")\n",
      "\u001b[2m\u001b[36m(RolloutWorker pid=10332)\u001b[0m c:\\Users\\nadir\\anaconda3\\envs\\GTAI2\\lib\\site-packages\\rtgym\\envs\\real_time_env.py:376: UserWarning: Time-step timed out. Elapsed since last time-step: 0.3121600999999714\n",
      "\u001b[2m\u001b[36m(RolloutWorker pid=10332)\u001b[0m   warnings.warn(f\"Time-step timed out. Elapsed since last time-step: {now - self.__t_end}\")\n",
      "\u001b[2m\u001b[36m(RolloutWorker pid=10332)\u001b[0m c:\\Users\\nadir\\anaconda3\\envs\\GTAI2\\lib\\site-packages\\rtgym\\envs\\real_time_env.py:376: UserWarning: Time-step timed out. Elapsed since last time-step: 0.3645252999999684\n",
      "\u001b[2m\u001b[36m(RolloutWorker pid=10332)\u001b[0m   warnings.warn(f\"Time-step timed out. Elapsed since last time-step: {now - self.__t_end}\")\n",
      "\u001b[2m\u001b[36m(RolloutWorker pid=10332)\u001b[0m c:\\Users\\nadir\\anaconda3\\envs\\GTAI2\\lib\\site-packages\\rtgym\\envs\\real_time_env.py:376: UserWarning: Time-step timed out. Elapsed since last time-step: 0.3559240000000159\n",
      "\u001b[2m\u001b[36m(RolloutWorker pid=10332)\u001b[0m   warnings.warn(f\"Time-step timed out. Elapsed since last time-step: {now - self.__t_end}\")\n",
      "\u001b[2m\u001b[36m(RolloutWorker pid=10332)\u001b[0m c:\\Users\\nadir\\anaconda3\\envs\\GTAI2\\lib\\site-packages\\rtgym\\envs\\real_time_env.py:376: UserWarning: Time-step timed out. Elapsed since last time-step: 0.3486303999999336\n",
      "\u001b[2m\u001b[36m(RolloutWorker pid=10332)\u001b[0m   warnings.warn(f\"Time-step timed out. Elapsed since last time-step: {now - self.__t_end}\")\n",
      "\u001b[2m\u001b[36m(RolloutWorker pid=10332)\u001b[0m c:\\Users\\nadir\\anaconda3\\envs\\GTAI2\\lib\\site-packages\\rtgym\\envs\\real_time_env.py:376: UserWarning: Time-step timed out. Elapsed since last time-step: 0.34351700000001983\n",
      "\u001b[2m\u001b[36m(RolloutWorker pid=10332)\u001b[0m   warnings.warn(f\"Time-step timed out. Elapsed since last time-step: {now - self.__t_end}\")\n",
      "\u001b[2m\u001b[36m(RolloutWorker pid=10332)\u001b[0m c:\\Users\\nadir\\anaconda3\\envs\\GTAI2\\lib\\site-packages\\rtgym\\envs\\real_time_env.py:376: UserWarning: Time-step timed out. Elapsed since last time-step: 0.3784559999999715\n",
      "\u001b[2m\u001b[36m(RolloutWorker pid=10332)\u001b[0m   warnings.warn(f\"Time-step timed out. Elapsed since last time-step: {now - self.__t_end}\")\n",
      "\u001b[2m\u001b[36m(RolloutWorker pid=10332)\u001b[0m c:\\Users\\nadir\\anaconda3\\envs\\GTAI2\\lib\\site-packages\\rtgym\\envs\\real_time_env.py:376: UserWarning: Time-step timed out. Elapsed since last time-step: 0.31342469999998457\n",
      "\u001b[2m\u001b[36m(RolloutWorker pid=10332)\u001b[0m   warnings.warn(f\"Time-step timed out. Elapsed since last time-step: {now - self.__t_end}\")\n",
      "\u001b[2m\u001b[36m(RolloutWorker pid=10332)\u001b[0m c:\\Users\\nadir\\anaconda3\\envs\\GTAI2\\lib\\site-packages\\rtgym\\envs\\real_time_env.py:376: UserWarning: Time-step timed out. Elapsed since last time-step: 0.3110247999999274\n",
      "\u001b[2m\u001b[36m(RolloutWorker pid=10332)\u001b[0m   warnings.warn(f\"Time-step timed out. Elapsed since last time-step: {now - self.__t_end}\")\n",
      "\u001b[2m\u001b[36m(RolloutWorker pid=10332)\u001b[0m c:\\Users\\nadir\\anaconda3\\envs\\GTAI2\\lib\\site-packages\\rtgym\\envs\\real_time_env.py:376: UserWarning: Time-step timed out. Elapsed since last time-step: 0.3154739999999947\n",
      "\u001b[2m\u001b[36m(RolloutWorker pid=10332)\u001b[0m   warnings.warn(f\"Time-step timed out. Elapsed since last time-step: {now - self.__t_end}\")\n",
      "\u001b[2m\u001b[36m(RolloutWorker pid=10332)\u001b[0m c:\\Users\\nadir\\anaconda3\\envs\\GTAI2\\lib\\site-packages\\rtgym\\envs\\real_time_env.py:376: UserWarning: Time-step timed out. Elapsed since last time-step: 0.3197644999999625\n",
      "\u001b[2m\u001b[36m(RolloutWorker pid=10332)\u001b[0m   warnings.warn(f\"Time-step timed out. Elapsed since last time-step: {now - self.__t_end}\")\n",
      "\u001b[2m\u001b[36m(RolloutWorker pid=10332)\u001b[0m c:\\Users\\nadir\\anaconda3\\envs\\GTAI2\\lib\\site-packages\\rtgym\\envs\\real_time_env.py:376: UserWarning: Time-step timed out. Elapsed since last time-step: 0.3635418999999729\n",
      "\u001b[2m\u001b[36m(RolloutWorker pid=10332)\u001b[0m   warnings.warn(f\"Time-step timed out. Elapsed since last time-step: {now - self.__t_end}\")\n",
      "\u001b[2m\u001b[36m(RolloutWorker pid=10332)\u001b[0m c:\\Users\\nadir\\anaconda3\\envs\\GTAI2\\lib\\site-packages\\rtgym\\envs\\real_time_env.py:376: UserWarning: Time-step timed out. Elapsed since last time-step: 0.3528623000000266\n",
      "\u001b[2m\u001b[36m(RolloutWorker pid=10332)\u001b[0m   warnings.warn(f\"Time-step timed out. Elapsed since last time-step: {now - self.__t_end}\")\n",
      "\u001b[2m\u001b[36m(RolloutWorker pid=10332)\u001b[0m c:\\Users\\nadir\\anaconda3\\envs\\GTAI2\\lib\\site-packages\\rtgym\\envs\\real_time_env.py:376: UserWarning: Time-step timed out. Elapsed since last time-step: 0.3600485999999705\n",
      "\u001b[2m\u001b[36m(RolloutWorker pid=10332)\u001b[0m   warnings.warn(f\"Time-step timed out. Elapsed since last time-step: {now - self.__t_end}\")\n",
      "\u001b[2m\u001b[36m(RolloutWorker pid=10332)\u001b[0m c:\\Users\\nadir\\anaconda3\\envs\\GTAI2\\lib\\site-packages\\rtgym\\envs\\real_time_env.py:376: UserWarning: Time-step timed out. Elapsed since last time-step: 0.3439447999999743\n",
      "\u001b[2m\u001b[36m(RolloutWorker pid=10332)\u001b[0m   warnings.warn(f\"Time-step timed out. Elapsed since last time-step: {now - self.__t_end}\")\n",
      "\u001b[2m\u001b[36m(RolloutWorker pid=10332)\u001b[0m c:\\Users\\nadir\\anaconda3\\envs\\GTAI2\\lib\\site-packages\\rtgym\\envs\\real_time_env.py:376: UserWarning: Time-step timed out. Elapsed since last time-step: 0.31183339999995496\n",
      "\u001b[2m\u001b[36m(RolloutWorker pid=10332)\u001b[0m   warnings.warn(f\"Time-step timed out. Elapsed since last time-step: {now - self.__t_end}\")\n",
      "\u001b[2m\u001b[36m(RolloutWorker pid=10332)\u001b[0m c:\\Users\\nadir\\anaconda3\\envs\\GTAI2\\lib\\site-packages\\rtgym\\envs\\real_time_env.py:376: UserWarning: Time-step timed out. Elapsed since last time-step: 0.3150651999999923\n",
      "\u001b[2m\u001b[36m(RolloutWorker pid=10332)\u001b[0m   warnings.warn(f\"Time-step timed out. Elapsed since last time-step: {now - self.__t_end}\")\n",
      "\u001b[2m\u001b[36m(RolloutWorker pid=10332)\u001b[0m c:\\Users\\nadir\\anaconda3\\envs\\GTAI2\\lib\\site-packages\\rtgym\\envs\\real_time_env.py:376: UserWarning: Time-step timed out. Elapsed since last time-step: 0.31918099999995775\n",
      "\u001b[2m\u001b[36m(RolloutWorker pid=10332)\u001b[0m   warnings.warn(f\"Time-step timed out. Elapsed since last time-step: {now - self.__t_end}\")\n",
      "\u001b[2m\u001b[36m(RolloutWorker pid=10332)\u001b[0m c:\\Users\\nadir\\anaconda3\\envs\\GTAI2\\lib\\site-packages\\rtgym\\envs\\real_time_env.py:376: UserWarning: Time-step timed out. Elapsed since last time-step: 0.3145139999999742\n",
      "\u001b[2m\u001b[36m(RolloutWorker pid=10332)\u001b[0m   warnings.warn(f\"Time-step timed out. Elapsed since last time-step: {now - self.__t_end}\")\n",
      "\u001b[2m\u001b[36m(RolloutWorker pid=10332)\u001b[0m c:\\Users\\nadir\\anaconda3\\envs\\GTAI2\\lib\\site-packages\\rtgym\\envs\\real_time_env.py:376: UserWarning: Time-step timed out. Elapsed since last time-step: 0.36839420000001155\n",
      "\u001b[2m\u001b[36m(RolloutWorker pid=10332)\u001b[0m   warnings.warn(f\"Time-step timed out. Elapsed since last time-step: {now - self.__t_end}\")\n",
      "\u001b[2m\u001b[36m(RolloutWorker pid=10332)\u001b[0m c:\\Users\\nadir\\anaconda3\\envs\\GTAI2\\lib\\site-packages\\rtgym\\envs\\real_time_env.py:376: UserWarning: Time-step timed out. Elapsed since last time-step: 0.35767559999993637\n",
      "\u001b[2m\u001b[36m(RolloutWorker pid=10332)\u001b[0m   warnings.warn(f\"Time-step timed out. Elapsed since last time-step: {now - self.__t_end}\")\n",
      "\u001b[2m\u001b[36m(RolloutWorker pid=10332)\u001b[0m c:\\Users\\nadir\\anaconda3\\envs\\GTAI2\\lib\\site-packages\\rtgym\\envs\\real_time_env.py:376: UserWarning: Time-step timed out. Elapsed since last time-step: 0.35007400000000644\n",
      "\u001b[2m\u001b[36m(RolloutWorker pid=10332)\u001b[0m   warnings.warn(f\"Time-step timed out. Elapsed since last time-step: {now - self.__t_end}\")\n",
      "\u001b[2m\u001b[36m(RolloutWorker pid=10332)\u001b[0m c:\\Users\\nadir\\anaconda3\\envs\\GTAI2\\lib\\site-packages\\rtgym\\envs\\real_time_env.py:376: UserWarning: Time-step timed out. Elapsed since last time-step: 0.3503499999999917\n",
      "\u001b[2m\u001b[36m(RolloutWorker pid=10332)\u001b[0m   warnings.warn(f\"Time-step timed out. Elapsed since last time-step: {now - self.__t_end}\")\n",
      "\u001b[2m\u001b[36m(RolloutWorker pid=10332)\u001b[0m c:\\Users\\nadir\\anaconda3\\envs\\GTAI2\\lib\\site-packages\\rtgym\\envs\\real_time_env.py:376: UserWarning: Time-step timed out. Elapsed since last time-step: 0.3647838999999635\n",
      "\u001b[2m\u001b[36m(RolloutWorker pid=10332)\u001b[0m   warnings.warn(f\"Time-step timed out. Elapsed since last time-step: {now - self.__t_end}\")\n",
      "\u001b[2m\u001b[36m(RolloutWorker pid=10332)\u001b[0m c:\\Users\\nadir\\anaconda3\\envs\\GTAI2\\lib\\site-packages\\rtgym\\envs\\real_time_env.py:376: UserWarning: Time-step timed out. Elapsed since last time-step: 0.3127717999999504\n",
      "\u001b[2m\u001b[36m(RolloutWorker pid=10332)\u001b[0m   warnings.warn(f\"Time-step timed out. Elapsed since last time-step: {now - self.__t_end}\")\n",
      "\u001b[2m\u001b[36m(RolloutWorker pid=10332)\u001b[0m c:\\Users\\nadir\\anaconda3\\envs\\GTAI2\\lib\\site-packages\\rtgym\\envs\\real_time_env.py:376: UserWarning: Time-step timed out. Elapsed since last time-step: 0.3134188000000222\n",
      "\u001b[2m\u001b[36m(RolloutWorker pid=10332)\u001b[0m   warnings.warn(f\"Time-step timed out. Elapsed since last time-step: {now - self.__t_end}\")\n",
      "\u001b[2m\u001b[36m(RolloutWorker pid=10332)\u001b[0m c:\\Users\\nadir\\anaconda3\\envs\\GTAI2\\lib\\site-packages\\rtgym\\envs\\real_time_env.py:376: UserWarning: Time-step timed out. Elapsed since last time-step: 0.312591599999962\n",
      "\u001b[2m\u001b[36m(RolloutWorker pid=10332)\u001b[0m   warnings.warn(f\"Time-step timed out. Elapsed since last time-step: {now - self.__t_end}\")\n",
      "\u001b[2m\u001b[36m(RolloutWorker pid=10332)\u001b[0m c:\\Users\\nadir\\anaconda3\\envs\\GTAI2\\lib\\site-packages\\rtgym\\envs\\real_time_env.py:376: UserWarning: Time-step timed out. Elapsed since last time-step: 0.3175317999999834\n",
      "\u001b[2m\u001b[36m(RolloutWorker pid=10332)\u001b[0m   warnings.warn(f\"Time-step timed out. Elapsed since last time-step: {now - self.__t_end}\")\n",
      "\u001b[2m\u001b[36m(RolloutWorker pid=10332)\u001b[0m c:\\Users\\nadir\\anaconda3\\envs\\GTAI2\\lib\\site-packages\\rtgym\\envs\\real_time_env.py:376: UserWarning: Time-step timed out. Elapsed since last time-step: 0.36553059999994275\n",
      "\u001b[2m\u001b[36m(RolloutWorker pid=10332)\u001b[0m   warnings.warn(f\"Time-step timed out. Elapsed since last time-step: {now - self.__t_end}\")\n"
     ]
    },
    {
     "ename": "KeyboardInterrupt",
     "evalue": "",
     "output_type": "error",
     "traceback": [
      "\u001b[1;31m---------------------------------------------------------------------------\u001b[0m",
      "\u001b[1;31mKeyboardInterrupt\u001b[0m                         Traceback (most recent call last)",
      "\u001b[1;32mj:\\git\\TensorFlowPSX\\Py\\rrlib.ipynb Cell 8\u001b[0m in \u001b[0;36m6\n\u001b[0;32m     <a href='vscode-notebook-cell:/j%3A/git/TensorFlowPSX/Py/rrlib.ipynb#X10sZmlsZQ%3D%3D?line=63'>64</a>\u001b[0m N \u001b[39m=\u001b[39m \u001b[39m50\u001b[39m\n\u001b[0;32m     <a href='vscode-notebook-cell:/j%3A/git/TensorFlowPSX/Py/rrlib.ipynb#X10sZmlsZQ%3D%3D?line=65'>66</a>\u001b[0m \u001b[39mfor\u001b[39;00m n \u001b[39min\u001b[39;00m \u001b[39mrange\u001b[39m(N):\n\u001b[1;32m---> <a href='vscode-notebook-cell:/j%3A/git/TensorFlowPSX/Py/rrlib.ipynb#X10sZmlsZQ%3D%3D?line=66'>67</a>\u001b[0m     result \u001b[39m=\u001b[39m algo\u001b[39m.\u001b[39;49mtrain()\n\u001b[0;32m     <a href='vscode-notebook-cell:/j%3A/git/TensorFlowPSX/Py/rrlib.ipynb#X10sZmlsZQ%3D%3D?line=67'>68</a>\u001b[0m     \u001b[39mif\u001b[39;00m n \u001b[39m%\u001b[39m \u001b[39m5\u001b[39m \u001b[39m==\u001b[39m \u001b[39m0\u001b[39m:\n\u001b[0;32m     <a href='vscode-notebook-cell:/j%3A/git/TensorFlowPSX/Py/rrlib.ipynb#X10sZmlsZQ%3D%3D?line=68'>69</a>\u001b[0m         \u001b[39mprint\u001b[39m(\u001b[39m\"\u001b[39m\u001b[39mSaved\u001b[39m\u001b[39m\"\u001b[39m, n)\n",
      "File \u001b[1;32mc:\\Users\\nadir\\anaconda3\\envs\\GTAI2\\lib\\site-packages\\ray\\tune\\trainable\\trainable.py:365\u001b[0m, in \u001b[0;36mTrainable.train\u001b[1;34m(self)\u001b[0m\n\u001b[0;32m    363\u001b[0m start \u001b[39m=\u001b[39m time\u001b[39m.\u001b[39mtime()\n\u001b[0;32m    364\u001b[0m \u001b[39mtry\u001b[39;00m:\n\u001b[1;32m--> 365\u001b[0m     result \u001b[39m=\u001b[39m \u001b[39mself\u001b[39;49m\u001b[39m.\u001b[39;49mstep()\n\u001b[0;32m    366\u001b[0m \u001b[39mexcept\u001b[39;00m \u001b[39mException\u001b[39;00m \u001b[39mas\u001b[39;00m e:\n\u001b[0;32m    367\u001b[0m     skipped \u001b[39m=\u001b[39m skip_exceptions(e)\n",
      "File \u001b[1;32mc:\\Users\\nadir\\anaconda3\\envs\\GTAI2\\lib\\site-packages\\ray\\rllib\\algorithms\\algorithm.py:782\u001b[0m, in \u001b[0;36mAlgorithm.step\u001b[1;34m(self)\u001b[0m\n\u001b[0;32m    774\u001b[0m     (\n\u001b[0;32m    775\u001b[0m         results,\n\u001b[0;32m    776\u001b[0m         train_iter_ctx,\n\u001b[0;32m    777\u001b[0m     ) \u001b[39m=\u001b[39m \u001b[39mself\u001b[39m\u001b[39m.\u001b[39m_run_one_training_iteration_and_evaluation_in_parallel()\n\u001b[0;32m    778\u001b[0m \u001b[39m# - No evaluation necessary, just run the next training iteration.\u001b[39;00m\n\u001b[0;32m    779\u001b[0m \u001b[39m# - We have to evaluate in this training iteration, but no parallelism ->\u001b[39;00m\n\u001b[0;32m    780\u001b[0m \u001b[39m#   evaluate after the training iteration is entirely done.\u001b[39;00m\n\u001b[0;32m    781\u001b[0m \u001b[39melse\u001b[39;00m:\n\u001b[1;32m--> 782\u001b[0m     results, train_iter_ctx \u001b[39m=\u001b[39m \u001b[39mself\u001b[39;49m\u001b[39m.\u001b[39;49m_run_one_training_iteration()\n\u001b[0;32m    784\u001b[0m \u001b[39m# Sequential: Train (already done above), then evaluate.\u001b[39;00m\n\u001b[0;32m    785\u001b[0m \u001b[39mif\u001b[39;00m evaluate_this_iter \u001b[39mand\u001b[39;00m \u001b[39mnot\u001b[39;00m \u001b[39mself\u001b[39m\u001b[39m.\u001b[39mconfig\u001b[39m.\u001b[39mevaluation_parallel_to_training:\n",
      "File \u001b[1;32mc:\\Users\\nadir\\anaconda3\\envs\\GTAI2\\lib\\site-packages\\ray\\rllib\\algorithms\\algorithm.py:2713\u001b[0m, in \u001b[0;36mAlgorithm._run_one_training_iteration\u001b[1;34m(self)\u001b[0m\n\u001b[0;32m   2711\u001b[0m \u001b[39mwith\u001b[39;00m \u001b[39mself\u001b[39m\u001b[39m.\u001b[39m_timers[TRAINING_ITERATION_TIMER]:\n\u001b[0;32m   2712\u001b[0m     \u001b[39mif\u001b[39;00m \u001b[39mself\u001b[39m\u001b[39m.\u001b[39mconfig\u001b[39m.\u001b[39m_disable_execution_plan_api:\n\u001b[1;32m-> 2713\u001b[0m         results \u001b[39m=\u001b[39m \u001b[39mself\u001b[39;49m\u001b[39m.\u001b[39;49mtraining_step()\n\u001b[0;32m   2714\u001b[0m     \u001b[39melse\u001b[39;00m:\n\u001b[0;32m   2715\u001b[0m         results \u001b[39m=\u001b[39m \u001b[39mnext\u001b[39m(\u001b[39mself\u001b[39m\u001b[39m.\u001b[39mtrain_exec_impl)\n",
      "File \u001b[1;32mc:\\Users\\nadir\\anaconda3\\envs\\GTAI2\\lib\\site-packages\\ray\\rllib\\algorithms\\dqn\\dqn.py:405\u001b[0m, in \u001b[0;36mDQN.training_step\u001b[1;34m(self)\u001b[0m\n\u001b[0;32m    401\u001b[0m store_weight, sample_and_train_weight \u001b[39m=\u001b[39m calculate_rr_weights(\u001b[39mself\u001b[39m\u001b[39m.\u001b[39mconfig)\n\u001b[0;32m    403\u001b[0m \u001b[39mfor\u001b[39;00m _ \u001b[39min\u001b[39;00m \u001b[39mrange\u001b[39m(store_weight):\n\u001b[0;32m    404\u001b[0m     \u001b[39m# Sample (MultiAgentBatch) from workers.\u001b[39;00m\n\u001b[1;32m--> 405\u001b[0m     new_sample_batch \u001b[39m=\u001b[39m synchronous_parallel_sample(\n\u001b[0;32m    406\u001b[0m         worker_set\u001b[39m=\u001b[39;49m\u001b[39mself\u001b[39;49m\u001b[39m.\u001b[39;49mworkers, concat\u001b[39m=\u001b[39;49m\u001b[39mTrue\u001b[39;49;00m\n\u001b[0;32m    407\u001b[0m     )\n\u001b[0;32m    409\u001b[0m     \u001b[39m# Update counters\u001b[39;00m\n\u001b[0;32m    410\u001b[0m     \u001b[39mself\u001b[39m\u001b[39m.\u001b[39m_counters[NUM_AGENT_STEPS_SAMPLED] \u001b[39m+\u001b[39m\u001b[39m=\u001b[39m new_sample_batch\u001b[39m.\u001b[39magent_steps()\n",
      "File \u001b[1;32mc:\\Users\\nadir\\anaconda3\\envs\\GTAI2\\lib\\site-packages\\ray\\rllib\\execution\\rollout_ops.py:85\u001b[0m, in \u001b[0;36msynchronous_parallel_sample\u001b[1;34m(worker_set, max_agent_steps, max_env_steps, concat)\u001b[0m\n\u001b[0;32m     82\u001b[0m     sample_batches \u001b[39m=\u001b[39m [worker_set\u001b[39m.\u001b[39mlocal_worker()\u001b[39m.\u001b[39msample()]\n\u001b[0;32m     83\u001b[0m \u001b[39m# Loop over remote workers' `sample()` method in parallel.\u001b[39;00m\n\u001b[0;32m     84\u001b[0m \u001b[39melse\u001b[39;00m:\n\u001b[1;32m---> 85\u001b[0m     sample_batches \u001b[39m=\u001b[39m worker_set\u001b[39m.\u001b[39;49mforeach_worker(\n\u001b[0;32m     86\u001b[0m         \u001b[39mlambda\u001b[39;49;00m w: w\u001b[39m.\u001b[39;49msample(), local_worker\u001b[39m=\u001b[39;49m\u001b[39mFalse\u001b[39;49;00m, healthy_only\u001b[39m=\u001b[39;49m\u001b[39mTrue\u001b[39;49;00m\n\u001b[0;32m     87\u001b[0m     )\n\u001b[0;32m     88\u001b[0m     \u001b[39mif\u001b[39;00m worker_set\u001b[39m.\u001b[39mnum_healthy_remote_workers() \u001b[39m<\u001b[39m\u001b[39m=\u001b[39m \u001b[39m0\u001b[39m:\n\u001b[0;32m     89\u001b[0m         \u001b[39m# There is no point staying in this loop, since we will not be able to\u001b[39;00m\n\u001b[0;32m     90\u001b[0m         \u001b[39m# get any new samples if we don't have any healthy remote workers left.\u001b[39;00m\n\u001b[0;32m     91\u001b[0m         \u001b[39mbreak\u001b[39;00m\n",
      "File \u001b[1;32mc:\\Users\\nadir\\anaconda3\\envs\\GTAI2\\lib\\site-packages\\ray\\rllib\\evaluation\\worker_set.py:692\u001b[0m, in \u001b[0;36mWorkerSet.foreach_worker\u001b[1;34m(self, func, local_worker, healthy_only, remote_worker_ids, timeout_seconds, return_obj_refs, mark_healthy)\u001b[0m\n\u001b[0;32m    689\u001b[0m \u001b[39mif\u001b[39;00m local_worker \u001b[39mand\u001b[39;00m \u001b[39mself\u001b[39m\u001b[39m.\u001b[39mlocal_worker() \u001b[39mis\u001b[39;00m \u001b[39mnot\u001b[39;00m \u001b[39mNone\u001b[39;00m:\n\u001b[0;32m    690\u001b[0m     local_result \u001b[39m=\u001b[39m [func(\u001b[39mself\u001b[39m\u001b[39m.\u001b[39mlocal_worker())]\n\u001b[1;32m--> 692\u001b[0m remote_results \u001b[39m=\u001b[39m \u001b[39mself\u001b[39;49m\u001b[39m.\u001b[39;49m__worker_manager\u001b[39m.\u001b[39;49mforeach_actor(\n\u001b[0;32m    693\u001b[0m     func,\n\u001b[0;32m    694\u001b[0m     healthy_only\u001b[39m=\u001b[39;49mhealthy_only,\n\u001b[0;32m    695\u001b[0m     remote_actor_ids\u001b[39m=\u001b[39;49mremote_worker_ids,\n\u001b[0;32m    696\u001b[0m     timeout_seconds\u001b[39m=\u001b[39;49mtimeout_seconds,\n\u001b[0;32m    697\u001b[0m     return_obj_refs\u001b[39m=\u001b[39;49mreturn_obj_refs,\n\u001b[0;32m    698\u001b[0m     mark_healthy\u001b[39m=\u001b[39;49mmark_healthy,\n\u001b[0;32m    699\u001b[0m )\n\u001b[0;32m    701\u001b[0m handle_remote_call_result_errors(remote_results, \u001b[39mself\u001b[39m\u001b[39m.\u001b[39m_ignore_worker_failures)\n\u001b[0;32m    703\u001b[0m \u001b[39m# With application errors handled, return good results.\u001b[39;00m\n",
      "File \u001b[1;32mc:\\Users\\nadir\\anaconda3\\envs\\GTAI2\\lib\\site-packages\\ray\\rllib\\utils\\actor_manager.py:588\u001b[0m, in \u001b[0;36mFaultTolerantActorManager.foreach_actor\u001b[1;34m(self, func, healthy_only, remote_actor_ids, timeout_seconds, return_obj_refs, mark_healthy)\u001b[0m\n\u001b[0;32m    579\u001b[0m     func, remote_actor_ids \u001b[39m=\u001b[39m \u001b[39mself\u001b[39m\u001b[39m.\u001b[39m_filter_func_and_remote_actor_id_by_state(\n\u001b[0;32m    580\u001b[0m         func, remote_actor_ids\n\u001b[0;32m    581\u001b[0m     )\n\u001b[0;32m    583\u001b[0m remote_calls \u001b[39m=\u001b[39m \u001b[39mself\u001b[39m\u001b[39m.\u001b[39m__call_actors(\n\u001b[0;32m    584\u001b[0m     func\u001b[39m=\u001b[39mfunc,\n\u001b[0;32m    585\u001b[0m     remote_actor_ids\u001b[39m=\u001b[39mremote_actor_ids,\n\u001b[0;32m    586\u001b[0m )\n\u001b[1;32m--> 588\u001b[0m _, remote_results \u001b[39m=\u001b[39m \u001b[39mself\u001b[39;49m\u001b[39m.\u001b[39;49m__fetch_result(\n\u001b[0;32m    589\u001b[0m     remote_actor_ids\u001b[39m=\u001b[39;49mremote_actor_ids,\n\u001b[0;32m    590\u001b[0m     remote_calls\u001b[39m=\u001b[39;49mremote_calls,\n\u001b[0;32m    591\u001b[0m     timeout_seconds\u001b[39m=\u001b[39;49mtimeout_seconds,\n\u001b[0;32m    592\u001b[0m     return_obj_refs\u001b[39m=\u001b[39;49mreturn_obj_refs,\n\u001b[0;32m    593\u001b[0m     mark_healthy\u001b[39m=\u001b[39;49mmark_healthy,\n\u001b[0;32m    594\u001b[0m )\n\u001b[0;32m    596\u001b[0m \u001b[39mreturn\u001b[39;00m remote_results\n",
      "File \u001b[1;32mc:\\Users\\nadir\\anaconda3\\envs\\GTAI2\\lib\\site-packages\\ray\\rllib\\utils\\actor_manager.py:457\u001b[0m, in \u001b[0;36mFaultTolerantActorManager.__fetch_result\u001b[1;34m(self, remote_actor_ids, remote_calls, timeout_seconds, return_obj_refs, mark_healthy)\u001b[0m\n\u001b[0;32m    453\u001b[0m \u001b[39m# Notice that we do not return the refs to any unfinished calls to the\u001b[39;00m\n\u001b[0;32m    454\u001b[0m \u001b[39m# user, since it is not safe to handle such remote actor calls outside the\u001b[39;00m\n\u001b[0;32m    455\u001b[0m \u001b[39m# context of this actor manager. These requests are simply dropped.\u001b[39;00m\n\u001b[0;32m    456\u001b[0m timeout \u001b[39m=\u001b[39m \u001b[39mfloat\u001b[39m(timeout_seconds) \u001b[39mif\u001b[39;00m timeout_seconds \u001b[39mis\u001b[39;00m \u001b[39mnot\u001b[39;00m \u001b[39mNone\u001b[39;00m \u001b[39melse\u001b[39;00m \u001b[39mNone\u001b[39;00m\n\u001b[1;32m--> 457\u001b[0m ready, _ \u001b[39m=\u001b[39m ray\u001b[39m.\u001b[39;49mwait(\n\u001b[0;32m    458\u001b[0m     remote_calls,\n\u001b[0;32m    459\u001b[0m     num_returns\u001b[39m=\u001b[39;49m\u001b[39mlen\u001b[39;49m(remote_calls),\n\u001b[0;32m    460\u001b[0m     timeout\u001b[39m=\u001b[39;49mtimeout,\n\u001b[0;32m    461\u001b[0m     \u001b[39m# Make sure remote results are fetched locally in parallel.\u001b[39;49;00m\n\u001b[0;32m    462\u001b[0m     fetch_local\u001b[39m=\u001b[39;49m\u001b[39mnot\u001b[39;49;00m return_obj_refs,\n\u001b[0;32m    463\u001b[0m )\n\u001b[0;32m    465\u001b[0m \u001b[39m# Remote data should already be fetched to local object store at this point.\u001b[39;00m\n\u001b[0;32m    466\u001b[0m remote_results \u001b[39m=\u001b[39m RemoteCallResults()\n",
      "File \u001b[1;32mc:\\Users\\nadir\\anaconda3\\envs\\GTAI2\\lib\\site-packages\\ray\\_private\\client_mode_hook.py:105\u001b[0m, in \u001b[0;36mclient_mode_hook.<locals>.wrapper\u001b[1;34m(*args, **kwargs)\u001b[0m\n\u001b[0;32m    103\u001b[0m     \u001b[39mif\u001b[39;00m func\u001b[39m.\u001b[39m\u001b[39m__name__\u001b[39m \u001b[39m!=\u001b[39m \u001b[39m\"\u001b[39m\u001b[39minit\u001b[39m\u001b[39m\"\u001b[39m \u001b[39mor\u001b[39;00m is_client_mode_enabled_by_default:\n\u001b[0;32m    104\u001b[0m         \u001b[39mreturn\u001b[39;00m \u001b[39mgetattr\u001b[39m(ray, func\u001b[39m.\u001b[39m\u001b[39m__name__\u001b[39m)(\u001b[39m*\u001b[39margs, \u001b[39m*\u001b[39m\u001b[39m*\u001b[39mkwargs)\n\u001b[1;32m--> 105\u001b[0m \u001b[39mreturn\u001b[39;00m func(\u001b[39m*\u001b[39margs, \u001b[39m*\u001b[39m\u001b[39m*\u001b[39mkwargs)\n",
      "File \u001b[1;32mc:\\Users\\nadir\\anaconda3\\envs\\GTAI2\\lib\\site-packages\\ray\\_private\\worker.py:2578\u001b[0m, in \u001b[0;36mwait\u001b[1;34m(object_refs, num_returns, timeout, fetch_local)\u001b[0m\n\u001b[0;32m   2576\u001b[0m timeout \u001b[39m=\u001b[39m timeout \u001b[39mif\u001b[39;00m timeout \u001b[39mis\u001b[39;00m \u001b[39mnot\u001b[39;00m \u001b[39mNone\u001b[39;00m \u001b[39melse\u001b[39;00m \u001b[39m10\u001b[39m\u001b[39m*\u001b[39m\u001b[39m*\u001b[39m\u001b[39m6\u001b[39m\n\u001b[0;32m   2577\u001b[0m timeout_milliseconds \u001b[39m=\u001b[39m \u001b[39mint\u001b[39m(timeout \u001b[39m*\u001b[39m \u001b[39m1000\u001b[39m)\n\u001b[1;32m-> 2578\u001b[0m ready_ids, remaining_ids \u001b[39m=\u001b[39m worker\u001b[39m.\u001b[39;49mcore_worker\u001b[39m.\u001b[39;49mwait(\n\u001b[0;32m   2579\u001b[0m     object_refs,\n\u001b[0;32m   2580\u001b[0m     num_returns,\n\u001b[0;32m   2581\u001b[0m     timeout_milliseconds,\n\u001b[0;32m   2582\u001b[0m     worker\u001b[39m.\u001b[39;49mcurrent_task_id,\n\u001b[0;32m   2583\u001b[0m     fetch_local,\n\u001b[0;32m   2584\u001b[0m )\n\u001b[0;32m   2585\u001b[0m \u001b[39mreturn\u001b[39;00m ready_ids, remaining_ids\n",
      "\u001b[1;31mKeyboardInterrupt\u001b[0m: "
     ]
    },
    {
     "name": "stderr",
     "output_type": "stream",
     "text": [
      "\u001b[2m\u001b[36m(RolloutWorker pid=10332)\u001b[0m c:\\Users\\nadir\\anaconda3\\envs\\GTAI2\\lib\\site-packages\\rtgym\\envs\\real_time_env.py:376: UserWarning: Time-step timed out. Elapsed since last time-step: 0.3249324000000229\n",
      "\u001b[2m\u001b[36m(RolloutWorker pid=10332)\u001b[0m   warnings.warn(f\"Time-step timed out. Elapsed since last time-step: {now - self.__t_end}\")\n"
     ]
    }
   ],
   "source": [
    "# to read later: https://raw.githubusercontent.com/ray-project/ray/master/rllib/examples/unity3d_env_local.py\n",
    "from myRTClass import MyGranTurismoRTGYM, DEFAULT_CONFIG_DICT\n",
    "import gymnasium\n",
    "import ray\n",
    "from ray import tune, air\n",
    "from ray.rllib.algorithms import ppo\n",
    "from ray.rllib.algorithms.ppo import PPOConfig\n",
    "from ray.rllib.algorithms.sac import SACConfig\n",
    "from ray.rllib.algorithms.a3c import A3CConfig\n",
    "import json\n",
    "import numpy as np\n",
    "from time import sleep\n",
    "ray.shutdown()\n",
    "\n",
    "my_config = DEFAULT_CONFIG_DICT\n",
    "my_config[\"interface\"] = MyGranTurismoRTGYM\n",
    "my_config[\"time_step_duration\"] = 0.1\n",
    "my_config[\"start_obs_capture\"] = 0.1\n",
    "my_config[\"time_step_timeout_factor\"] = 1.0\n",
    "my_config[\"ep_max_length\"] = 128\n",
    "my_config[\"act_buf_len\"] = 3\n",
    "my_config[\"reset_act_buf\"] = False\n",
    "my_config[\"benchmark\"] = True\n",
    "my_config[\"benchmark_polyak\"] = 0.2\n",
    "\n",
    "def env_creator(env_config):\n",
    "  env = gymnasium.make(\"real-time-gym-v1\", config=my_config)\n",
    "  return env  # return an env instance\n",
    "\n",
    "from ray.tune.registry import register_env\n",
    "register_env(\"gt-rtgym-env-v1\", env_creator)\n",
    "ray.init()\n",
    "\n",
    "algo = (\n",
    "    #PPOConfig()\n",
    "    SACConfig()\n",
    "    .resources(\n",
    "        num_gpus=1\n",
    "        )\n",
    "    .rollouts(\n",
    "        num_rollout_workers=1,\n",
    "        # batch_mode=\"truncate_episodes\",\n",
    "        # rollout_fragment_length=128,\n",
    "        )\n",
    "    .framework(\"torch\")\n",
    "    .environment(\n",
    "        env=\"gt-rtgym-env-v1\",\n",
    "        disable_env_checking=True,\n",
    "        render_env=False,\n",
    "        )\n",
    "    .training(\n",
    "            #lr=tune.grid_search([0.01, 0.001, 0.0001])\n",
    "            #lambda_=0.95,\n",
    "            #gamma=0.99,\n",
    "            #sgd_minibatch_size=128,\n",
    "            #train_batch_size=1024,\n",
    "            #num_sgd_iter=8,\n",
    "            #clip_param=0.2,\n",
    "            #model={\"fcnet_hiddens\": [12, 12]},\n",
    "        )\n",
    "    .build()\n",
    ")\n",
    "\n",
    "N = 50\n",
    "\n",
    "for n in range(N):\n",
    "    result = algo.train()\n",
    "    if n % 5 == 0:\n",
    "        print(\"Saved\", n)\n",
    "        algo.save()\n",
    "path_to_checkpoint = algo.save()\n",
    "print(\n",
    "    \"An Algorithm checkpoint has been created inside directory: \"\n",
    "    f\"'{path_to_checkpoint}'.\"\n",
    ")\n",
    "\n",
    "ray.shutdown()"
   ]
  },
  {
   "attachments": {},
   "cell_type": "markdown",
   "metadata": {},
   "source": [
    "# A3C Method"
   ]
  },
  {
   "cell_type": "code",
   "execution_count": 2,
   "metadata": {},
   "outputs": [
    {
     "name": "stderr",
     "output_type": "stream",
     "text": [
      "2023-05-13 00:13:02,460\tINFO worker.py:1544 -- Started a local Ray instance. View the dashboard at \u001b[1m\u001b[32m127.0.0.1:8265 \u001b[39m\u001b[22m\n"
     ]
    },
    {
     "name": "stdout",
     "output_type": "stream",
     "text": [
      "\u001b[2m\u001b[36m(RolloutWorker pid=3128)\u001b[0m GT Real Time instantiated\n",
      "\u001b[2m\u001b[36m(RolloutWorker pid=3128)\u001b[0m GT AI Server instantiated for rtgym\n",
      "\u001b[2m\u001b[36m(RolloutWorker pid=3128)\u001b[0m starting up on localhost port 9999\n",
      "\u001b[2m\u001b[36m(RolloutWorker pid=3128)\u001b[0m Waiting for a connection\n"
     ]
    },
    {
     "name": "stderr",
     "output_type": "stream",
     "text": [
      "2023-05-13 00:13:17,479\tINFO trainable.py:172 -- Trainable.setup took 13.503 seconds. If your trainable is slow to initialize, consider setting reuse_actors=True to reduce actor creation overheads.\n",
      "2023-05-13 00:13:17,481\tWARNING util.py:67 -- Install gputil for GPU system monitoring.\n"
     ]
    },
    {
     "name": "stdout",
     "output_type": "stream",
     "text": [
      "\u001b[2m\u001b[36m(RolloutWorker pid=3128)\u001b[0m Connection from ('127.0.0.1', 51697)\n",
      "\u001b[2m\u001b[36m(RolloutWorker pid=3128)\u001b[0m default SAC action\n",
      "\u001b[2m\u001b[36m(RolloutWorker pid=3128)\u001b[0m reset triggered\n",
      "\u001b[2m\u001b[36m(RolloutWorker pid=3128)\u001b[0m reload save\n"
     ]
    },
    {
     "name": "stderr",
     "output_type": "stream",
     "text": [
      "\u001b[2m\u001b[36m(RolloutWorker pid=3128)\u001b[0m c:\\Users\\nadir\\anaconda3\\envs\\GTAI2\\lib\\site-packages\\rtgym\\envs\\real_time_env.py:376: UserWarning: Time-step timed out. Elapsed since last time-step: 0.3142609999999273\n",
      "\u001b[2m\u001b[36m(RolloutWorker pid=3128)\u001b[0m   warnings.warn(f\"Time-step timed out. Elapsed since last time-step: {now - self.__t_end}\")\n",
      "\u001b[2m\u001b[36m(RolloutWorker pid=3128)\u001b[0m c:\\Users\\nadir\\anaconda3\\envs\\GTAI2\\lib\\site-packages\\rtgym\\envs\\real_time_env.py:376: UserWarning: Time-step timed out. Elapsed since last time-step: 0.6693763999999938\n",
      "\u001b[2m\u001b[36m(RolloutWorker pid=3128)\u001b[0m   warnings.warn(f\"Time-step timed out. Elapsed since last time-step: {now - self.__t_end}\")\n"
     ]
    },
    {
     "name": "stdout",
     "output_type": "stream",
     "text": [
      "Saved 0\n"
     ]
    },
    {
     "name": "stderr",
     "output_type": "stream",
     "text": [
      "\u001b[2m\u001b[36m(RolloutWorker pid=3128)\u001b[0m c:\\Users\\nadir\\anaconda3\\envs\\GTAI2\\lib\\site-packages\\rtgym\\envs\\real_time_env.py:376: UserWarning: Time-step timed out. Elapsed since last time-step: 1.362116499999992\n",
      "\u001b[2m\u001b[36m(RolloutWorker pid=3128)\u001b[0m   warnings.warn(f\"Time-step timed out. Elapsed since last time-step: {now - self.__t_end}\")\n",
      "\u001b[2m\u001b[36m(RolloutWorker pid=3128)\u001b[0m c:\\Users\\nadir\\anaconda3\\envs\\GTAI2\\lib\\site-packages\\rtgym\\envs\\real_time_env.py:376: UserWarning: Time-step timed out. Elapsed since last time-step: 0.4873443999999161\n",
      "\u001b[2m\u001b[36m(RolloutWorker pid=3128)\u001b[0m   warnings.warn(f\"Time-step timed out. Elapsed since last time-step: {now - self.__t_end}\")\n",
      "\u001b[2m\u001b[36m(RolloutWorker pid=3128)\u001b[0m c:\\Users\\nadir\\anaconda3\\envs\\GTAI2\\lib\\site-packages\\rtgym\\envs\\real_time_env.py:376: UserWarning: Time-step timed out. Elapsed since last time-step: 0.5332982999999913\n",
      "\u001b[2m\u001b[36m(RolloutWorker pid=3128)\u001b[0m   warnings.warn(f\"Time-step timed out. Elapsed since last time-step: {now - self.__t_end}\")\n",
      "\u001b[2m\u001b[36m(RolloutWorker pid=3128)\u001b[0m c:\\Users\\nadir\\anaconda3\\envs\\GTAI2\\lib\\site-packages\\rtgym\\envs\\real_time_env.py:376: UserWarning: Time-step timed out. Elapsed since last time-step: 0.5579203999999933\n",
      "\u001b[2m\u001b[36m(RolloutWorker pid=3128)\u001b[0m   warnings.warn(f\"Time-step timed out. Elapsed since last time-step: {now - self.__t_end}\")\n",
      "\u001b[2m\u001b[36m(RolloutWorker pid=3128)\u001b[0m c:\\Users\\nadir\\anaconda3\\envs\\GTAI2\\lib\\site-packages\\rtgym\\envs\\real_time_env.py:376: UserWarning: Time-step timed out. Elapsed since last time-step: 1.1434232000001785\n",
      "\u001b[2m\u001b[36m(RolloutWorker pid=3128)\u001b[0m   warnings.warn(f\"Time-step timed out. Elapsed since last time-step: {now - self.__t_end}\")\n",
      "\u001b[2m\u001b[36m(RolloutWorker pid=3128)\u001b[0m c:\\Users\\nadir\\anaconda3\\envs\\GTAI2\\lib\\site-packages\\rtgym\\envs\\real_time_env.py:376: UserWarning: Time-step timed out. Elapsed since last time-step: 0.21790960000006265\n",
      "\u001b[2m\u001b[36m(RolloutWorker pid=3128)\u001b[0m   warnings.warn(f\"Time-step timed out. Elapsed since last time-step: {now - self.__t_end}\")\n",
      "\u001b[2m\u001b[36m(RolloutWorker pid=3128)\u001b[0m c:\\Users\\nadir\\anaconda3\\envs\\GTAI2\\lib\\site-packages\\rtgym\\envs\\real_time_env.py:376: UserWarning: Time-step timed out. Elapsed since last time-step: 0.7016360000003132\n",
      "\u001b[2m\u001b[36m(RolloutWorker pid=3128)\u001b[0m   warnings.warn(f\"Time-step timed out. Elapsed since last time-step: {now - self.__t_end}\")\n",
      "\u001b[2m\u001b[36m(RolloutWorker pid=3128)\u001b[0m c:\\Users\\nadir\\anaconda3\\envs\\GTAI2\\lib\\site-packages\\rtgym\\envs\\real_time_env.py:376: UserWarning: Time-step timed out. Elapsed since last time-step: 0.2359660000000261\n",
      "\u001b[2m\u001b[36m(RolloutWorker pid=3128)\u001b[0m   warnings.warn(f\"Time-step timed out. Elapsed since last time-step: {now - self.__t_end}\")\n"
     ]
    },
    {
     "name": "stdout",
     "output_type": "stream",
     "text": [
      "\u001b[2m\u001b[36m(RolloutWorker pid=3128)\u001b[0m reset triggered\n",
      "\u001b[2m\u001b[36m(RolloutWorker pid=3128)\u001b[0m reload save\n"
     ]
    },
    {
     "name": "stderr",
     "output_type": "stream",
     "text": [
      "\u001b[2m\u001b[36m(RolloutWorker pid=3128)\u001b[0m c:\\Users\\nadir\\anaconda3\\envs\\GTAI2\\lib\\site-packages\\rtgym\\envs\\real_time_env.py:376: UserWarning: Time-step timed out. Elapsed since last time-step: 0.8997226000000254\n",
      "\u001b[2m\u001b[36m(RolloutWorker pid=3128)\u001b[0m   warnings.warn(f\"Time-step timed out. Elapsed since last time-step: {now - self.__t_end}\")\n",
      "\u001b[2m\u001b[36m(RolloutWorker pid=3128)\u001b[0m c:\\Users\\nadir\\anaconda3\\envs\\GTAI2\\lib\\site-packages\\rtgym\\envs\\real_time_env.py:376: UserWarning: Time-step timed out. Elapsed since last time-step: 0.6548489000003457\n",
      "\u001b[2m\u001b[36m(RolloutWorker pid=3128)\u001b[0m   warnings.warn(f\"Time-step timed out. Elapsed since last time-step: {now - self.__t_end}\")\n",
      "\u001b[2m\u001b[36m(RolloutWorker pid=3128)\u001b[0m c:\\Users\\nadir\\anaconda3\\envs\\GTAI2\\lib\\site-packages\\rtgym\\envs\\real_time_env.py:376: UserWarning: Time-step timed out. Elapsed since last time-step: 1.548070000000024\n",
      "\u001b[2m\u001b[36m(RolloutWorker pid=3128)\u001b[0m   warnings.warn(f\"Time-step timed out. Elapsed since last time-step: {now - self.__t_end}\")\n"
     ]
    },
    {
     "ename": "KeyboardInterrupt",
     "evalue": "",
     "output_type": "error",
     "traceback": [
      "\u001b[1;31m---------------------------------------------------------------------------\u001b[0m",
      "\u001b[1;31mKeyboardInterrupt\u001b[0m                         Traceback (most recent call last)",
      "\u001b[1;32mj:\\git\\TensorFlowPSX\\Py\\rrlib.ipynb Cell 10\u001b[0m in \u001b[0;36m6\n\u001b[0;32m     <a href='vscode-notebook-cell:/j%3A/git/TensorFlowPSX/Py/rrlib.ipynb#X12sZmlsZQ%3D%3D?line=64'>65</a>\u001b[0m N \u001b[39m=\u001b[39m \u001b[39m2000\u001b[39m\n\u001b[0;32m     <a href='vscode-notebook-cell:/j%3A/git/TensorFlowPSX/Py/rrlib.ipynb#X12sZmlsZQ%3D%3D?line=66'>67</a>\u001b[0m \u001b[39mfor\u001b[39;00m n \u001b[39min\u001b[39;00m \u001b[39mrange\u001b[39m(N):\n\u001b[1;32m---> <a href='vscode-notebook-cell:/j%3A/git/TensorFlowPSX/Py/rrlib.ipynb#X12sZmlsZQ%3D%3D?line=67'>68</a>\u001b[0m     result \u001b[39m=\u001b[39m algo\u001b[39m.\u001b[39;49mtrain()\n\u001b[0;32m     <a href='vscode-notebook-cell:/j%3A/git/TensorFlowPSX/Py/rrlib.ipynb#X12sZmlsZQ%3D%3D?line=68'>69</a>\u001b[0m     \u001b[39mif\u001b[39;00m n \u001b[39m%\u001b[39m \u001b[39m10\u001b[39m \u001b[39m==\u001b[39m \u001b[39m0\u001b[39m:\n\u001b[0;32m     <a href='vscode-notebook-cell:/j%3A/git/TensorFlowPSX/Py/rrlib.ipynb#X12sZmlsZQ%3D%3D?line=69'>70</a>\u001b[0m         \u001b[39mprint\u001b[39m(\u001b[39m\"\u001b[39m\u001b[39mSaved\u001b[39m\u001b[39m\"\u001b[39m, n)\n",
      "File \u001b[1;32mc:\\Users\\nadir\\anaconda3\\envs\\GTAI2\\lib\\site-packages\\ray\\tune\\trainable\\trainable.py:365\u001b[0m, in \u001b[0;36mTrainable.train\u001b[1;34m(self)\u001b[0m\n\u001b[0;32m    363\u001b[0m start \u001b[39m=\u001b[39m time\u001b[39m.\u001b[39mtime()\n\u001b[0;32m    364\u001b[0m \u001b[39mtry\u001b[39;00m:\n\u001b[1;32m--> 365\u001b[0m     result \u001b[39m=\u001b[39m \u001b[39mself\u001b[39;49m\u001b[39m.\u001b[39;49mstep()\n\u001b[0;32m    366\u001b[0m \u001b[39mexcept\u001b[39;00m \u001b[39mException\u001b[39;00m \u001b[39mas\u001b[39;00m e:\n\u001b[0;32m    367\u001b[0m     skipped \u001b[39m=\u001b[39m skip_exceptions(e)\n",
      "File \u001b[1;32mc:\\Users\\nadir\\anaconda3\\envs\\GTAI2\\lib\\site-packages\\ray\\rllib\\algorithms\\algorithm.py:782\u001b[0m, in \u001b[0;36mAlgorithm.step\u001b[1;34m(self)\u001b[0m\n\u001b[0;32m    774\u001b[0m     (\n\u001b[0;32m    775\u001b[0m         results,\n\u001b[0;32m    776\u001b[0m         train_iter_ctx,\n\u001b[0;32m    777\u001b[0m     ) \u001b[39m=\u001b[39m \u001b[39mself\u001b[39m\u001b[39m.\u001b[39m_run_one_training_iteration_and_evaluation_in_parallel()\n\u001b[0;32m    778\u001b[0m \u001b[39m# - No evaluation necessary, just run the next training iteration.\u001b[39;00m\n\u001b[0;32m    779\u001b[0m \u001b[39m# - We have to evaluate in this training iteration, but no parallelism ->\u001b[39;00m\n\u001b[0;32m    780\u001b[0m \u001b[39m#   evaluate after the training iteration is entirely done.\u001b[39;00m\n\u001b[0;32m    781\u001b[0m \u001b[39melse\u001b[39;00m:\n\u001b[1;32m--> 782\u001b[0m     results, train_iter_ctx \u001b[39m=\u001b[39m \u001b[39mself\u001b[39;49m\u001b[39m.\u001b[39;49m_run_one_training_iteration()\n\u001b[0;32m    784\u001b[0m \u001b[39m# Sequential: Train (already done above), then evaluate.\u001b[39;00m\n\u001b[0;32m    785\u001b[0m \u001b[39mif\u001b[39;00m evaluate_this_iter \u001b[39mand\u001b[39;00m \u001b[39mnot\u001b[39;00m \u001b[39mself\u001b[39m\u001b[39m.\u001b[39mconfig\u001b[39m.\u001b[39mevaluation_parallel_to_training:\n",
      "File \u001b[1;32mc:\\Users\\nadir\\anaconda3\\envs\\GTAI2\\lib\\site-packages\\ray\\rllib\\algorithms\\algorithm.py:2713\u001b[0m, in \u001b[0;36mAlgorithm._run_one_training_iteration\u001b[1;34m(self)\u001b[0m\n\u001b[0;32m   2711\u001b[0m \u001b[39mwith\u001b[39;00m \u001b[39mself\u001b[39m\u001b[39m.\u001b[39m_timers[TRAINING_ITERATION_TIMER]:\n\u001b[0;32m   2712\u001b[0m     \u001b[39mif\u001b[39;00m \u001b[39mself\u001b[39m\u001b[39m.\u001b[39mconfig\u001b[39m.\u001b[39m_disable_execution_plan_api:\n\u001b[1;32m-> 2713\u001b[0m         results \u001b[39m=\u001b[39m \u001b[39mself\u001b[39;49m\u001b[39m.\u001b[39;49mtraining_step()\n\u001b[0;32m   2714\u001b[0m     \u001b[39melse\u001b[39;00m:\n\u001b[0;32m   2715\u001b[0m         results \u001b[39m=\u001b[39m \u001b[39mnext\u001b[39m(\u001b[39mself\u001b[39m\u001b[39m.\u001b[39mtrain_exec_impl)\n",
      "File \u001b[1;32mc:\\Users\\nadir\\anaconda3\\envs\\GTAI2\\lib\\site-packages\\ray\\rllib\\algorithms\\a3c\\a3c.py:247\u001b[0m, in \u001b[0;36mA3C.training_step\u001b[1;34m(self)\u001b[0m\n\u001b[0;32m    244\u001b[0m \u001b[39m# Synch updated weights back to the particular worker\u001b[39;00m\n\u001b[0;32m    245\u001b[0m \u001b[39m# (only those policies that are trainable).\u001b[39;00m\n\u001b[0;32m    246\u001b[0m \u001b[39mwith\u001b[39;00m \u001b[39mself\u001b[39m\u001b[39m.\u001b[39m_timers[SYNCH_WORKER_WEIGHTS_TIMER]:\n\u001b[1;32m--> 247\u001b[0m     \u001b[39mself\u001b[39;49m\u001b[39m.\u001b[39;49mworkers\u001b[39m.\u001b[39;49msync_weights(\n\u001b[0;32m    248\u001b[0m         policies\u001b[39m=\u001b[39;49mlocal_worker\u001b[39m.\u001b[39;49mget_policies_to_train(),\n\u001b[0;32m    249\u001b[0m         to_worker_indices\u001b[39m=\u001b[39;49m\u001b[39mlist\u001b[39;49m(to_sync_workers),\n\u001b[0;32m    250\u001b[0m         global_vars\u001b[39m=\u001b[39;49mglobal_vars,\n\u001b[0;32m    251\u001b[0m     )\n\u001b[0;32m    253\u001b[0m \u001b[39mreturn\u001b[39;00m learner_info_builder\u001b[39m.\u001b[39mfinalize()\n",
      "File \u001b[1;32mc:\\Users\\nadir\\anaconda3\\envs\\GTAI2\\lib\\site-packages\\ray\\rllib\\evaluation\\worker_set.py:422\u001b[0m, in \u001b[0;36mWorkerSet.sync_weights\u001b[1;34m(self, policies, from_worker, to_worker_indices, global_vars, timeout_seconds)\u001b[0m\n\u001b[0;32m    419\u001b[0m         w\u001b[39m.\u001b[39mset_weights(weights, global_vars)\n\u001b[0;32m    421\u001b[0m     \u001b[39m# Sync to specified remote workers in this WorkerSet.\u001b[39;00m\n\u001b[1;32m--> 422\u001b[0m     \u001b[39mself\u001b[39;49m\u001b[39m.\u001b[39;49mforeach_worker(\n\u001b[0;32m    423\u001b[0m         func\u001b[39m=\u001b[39;49mset_weight,\n\u001b[0;32m    424\u001b[0m         local_worker\u001b[39m=\u001b[39;49m\u001b[39mFalse\u001b[39;49;00m,  \u001b[39m# Do not sync back to local worker.\u001b[39;49;00m\n\u001b[0;32m    425\u001b[0m         remote_worker_ids\u001b[39m=\u001b[39;49mto_worker_indices,\n\u001b[0;32m    426\u001b[0m         \u001b[39m# We can only sync to healthy remote workers.\u001b[39;49;00m\n\u001b[0;32m    427\u001b[0m         \u001b[39m# Restored workers need to have local work state synced over first,\u001b[39;49;00m\n\u001b[0;32m    428\u001b[0m         \u001b[39m# before they will have all the policies to receive these weights.\u001b[39;49;00m\n\u001b[0;32m    429\u001b[0m         healthy_only\u001b[39m=\u001b[39;49m\u001b[39mTrue\u001b[39;49;00m,\n\u001b[0;32m    430\u001b[0m         timeout_seconds\u001b[39m=\u001b[39;49mtimeout_seconds,\n\u001b[0;32m    431\u001b[0m     )\n\u001b[0;32m    433\u001b[0m \u001b[39m# If `from_worker` is provided, also sync to this WorkerSet's\u001b[39;00m\n\u001b[0;32m    434\u001b[0m \u001b[39m# local worker.\u001b[39;00m\n\u001b[0;32m    435\u001b[0m \u001b[39mif\u001b[39;00m \u001b[39mself\u001b[39m\u001b[39m.\u001b[39mlocal_worker() \u001b[39mis\u001b[39;00m \u001b[39mnot\u001b[39;00m \u001b[39mNone\u001b[39;00m:\n",
      "File \u001b[1;32mc:\\Users\\nadir\\anaconda3\\envs\\GTAI2\\lib\\site-packages\\ray\\rllib\\evaluation\\worker_set.py:692\u001b[0m, in \u001b[0;36mWorkerSet.foreach_worker\u001b[1;34m(self, func, local_worker, healthy_only, remote_worker_ids, timeout_seconds, return_obj_refs, mark_healthy)\u001b[0m\n\u001b[0;32m    689\u001b[0m \u001b[39mif\u001b[39;00m local_worker \u001b[39mand\u001b[39;00m \u001b[39mself\u001b[39m\u001b[39m.\u001b[39mlocal_worker() \u001b[39mis\u001b[39;00m \u001b[39mnot\u001b[39;00m \u001b[39mNone\u001b[39;00m:\n\u001b[0;32m    690\u001b[0m     local_result \u001b[39m=\u001b[39m [func(\u001b[39mself\u001b[39m\u001b[39m.\u001b[39mlocal_worker())]\n\u001b[1;32m--> 692\u001b[0m remote_results \u001b[39m=\u001b[39m \u001b[39mself\u001b[39;49m\u001b[39m.\u001b[39;49m__worker_manager\u001b[39m.\u001b[39;49mforeach_actor(\n\u001b[0;32m    693\u001b[0m     func,\n\u001b[0;32m    694\u001b[0m     healthy_only\u001b[39m=\u001b[39;49mhealthy_only,\n\u001b[0;32m    695\u001b[0m     remote_actor_ids\u001b[39m=\u001b[39;49mremote_worker_ids,\n\u001b[0;32m    696\u001b[0m     timeout_seconds\u001b[39m=\u001b[39;49mtimeout_seconds,\n\u001b[0;32m    697\u001b[0m     return_obj_refs\u001b[39m=\u001b[39;49mreturn_obj_refs,\n\u001b[0;32m    698\u001b[0m     mark_healthy\u001b[39m=\u001b[39;49mmark_healthy,\n\u001b[0;32m    699\u001b[0m )\n\u001b[0;32m    701\u001b[0m handle_remote_call_result_errors(remote_results, \u001b[39mself\u001b[39m\u001b[39m.\u001b[39m_ignore_worker_failures)\n\u001b[0;32m    703\u001b[0m \u001b[39m# With application errors handled, return good results.\u001b[39;00m\n",
      "File \u001b[1;32mc:\\Users\\nadir\\anaconda3\\envs\\GTAI2\\lib\\site-packages\\ray\\rllib\\utils\\actor_manager.py:583\u001b[0m, in \u001b[0;36mFaultTolerantActorManager.foreach_actor\u001b[1;34m(self, func, healthy_only, remote_actor_ids, timeout_seconds, return_obj_refs, mark_healthy)\u001b[0m\n\u001b[0;32m    578\u001b[0m \u001b[39mif\u001b[39;00m healthy_only:\n\u001b[0;32m    579\u001b[0m     func, remote_actor_ids \u001b[39m=\u001b[39m \u001b[39mself\u001b[39m\u001b[39m.\u001b[39m_filter_func_and_remote_actor_id_by_state(\n\u001b[0;32m    580\u001b[0m         func, remote_actor_ids\n\u001b[0;32m    581\u001b[0m     )\n\u001b[1;32m--> 583\u001b[0m remote_calls \u001b[39m=\u001b[39m \u001b[39mself\u001b[39;49m\u001b[39m.\u001b[39;49m__call_actors(\n\u001b[0;32m    584\u001b[0m     func\u001b[39m=\u001b[39;49mfunc,\n\u001b[0;32m    585\u001b[0m     remote_actor_ids\u001b[39m=\u001b[39;49mremote_actor_ids,\n\u001b[0;32m    586\u001b[0m )\n\u001b[0;32m    588\u001b[0m _, remote_results \u001b[39m=\u001b[39m \u001b[39mself\u001b[39m\u001b[39m.\u001b[39m__fetch_result(\n\u001b[0;32m    589\u001b[0m     remote_actor_ids\u001b[39m=\u001b[39mremote_actor_ids,\n\u001b[0;32m    590\u001b[0m     remote_calls\u001b[39m=\u001b[39mremote_calls,\n\u001b[1;32m   (...)\u001b[0m\n\u001b[0;32m    593\u001b[0m     mark_healthy\u001b[39m=\u001b[39mmark_healthy,\n\u001b[0;32m    594\u001b[0m )\n\u001b[0;32m    596\u001b[0m \u001b[39mreturn\u001b[39;00m remote_results\n",
      "File \u001b[1;32mc:\\Users\\nadir\\anaconda3\\envs\\GTAI2\\lib\\site-packages\\ray\\rllib\\utils\\actor_manager.py:422\u001b[0m, in \u001b[0;36mFaultTolerantActorManager.__call_actors\u001b[1;34m(self, func, remote_actor_ids)\u001b[0m\n\u001b[0;32m    418\u001b[0m     calls \u001b[39m=\u001b[39m [\n\u001b[0;32m    419\u001b[0m         \u001b[39mself\u001b[39m\u001b[39m.\u001b[39m__actors[i]\u001b[39m.\u001b[39mapply\u001b[39m.\u001b[39mremote(f) \u001b[39mfor\u001b[39;00m i, f \u001b[39min\u001b[39;00m \u001b[39mzip\u001b[39m(remote_actor_ids, func)\n\u001b[0;32m    420\u001b[0m     ]\n\u001b[0;32m    421\u001b[0m \u001b[39melse\u001b[39;00m:\n\u001b[1;32m--> 422\u001b[0m     calls \u001b[39m=\u001b[39m [\u001b[39mself\u001b[39m\u001b[39m.\u001b[39m__actors[i]\u001b[39m.\u001b[39mapply\u001b[39m.\u001b[39mremote(func) \u001b[39mfor\u001b[39;00m i \u001b[39min\u001b[39;00m remote_actor_ids]\n\u001b[0;32m    424\u001b[0m \u001b[39mreturn\u001b[39;00m calls\n",
      "File \u001b[1;32mc:\\Users\\nadir\\anaconda3\\envs\\GTAI2\\lib\\site-packages\\ray\\rllib\\utils\\actor_manager.py:422\u001b[0m, in \u001b[0;36m<listcomp>\u001b[1;34m(.0)\u001b[0m\n\u001b[0;32m    418\u001b[0m     calls \u001b[39m=\u001b[39m [\n\u001b[0;32m    419\u001b[0m         \u001b[39mself\u001b[39m\u001b[39m.\u001b[39m__actors[i]\u001b[39m.\u001b[39mapply\u001b[39m.\u001b[39mremote(f) \u001b[39mfor\u001b[39;00m i, f \u001b[39min\u001b[39;00m \u001b[39mzip\u001b[39m(remote_actor_ids, func)\n\u001b[0;32m    420\u001b[0m     ]\n\u001b[0;32m    421\u001b[0m \u001b[39melse\u001b[39;00m:\n\u001b[1;32m--> 422\u001b[0m     calls \u001b[39m=\u001b[39m [\u001b[39mself\u001b[39;49m\u001b[39m.\u001b[39;49m__actors[i]\u001b[39m.\u001b[39;49mapply\u001b[39m.\u001b[39;49mremote(func) \u001b[39mfor\u001b[39;00m i \u001b[39min\u001b[39;00m remote_actor_ids]\n\u001b[0;32m    424\u001b[0m \u001b[39mreturn\u001b[39;00m calls\n",
      "File \u001b[1;32mc:\\Users\\nadir\\anaconda3\\envs\\GTAI2\\lib\\site-packages\\ray\\actor.py:138\u001b[0m, in \u001b[0;36mActorMethod.remote\u001b[1;34m(self, *args, **kwargs)\u001b[0m\n\u001b[0;32m    137\u001b[0m \u001b[39mdef\u001b[39;00m \u001b[39mremote\u001b[39m(\u001b[39mself\u001b[39m, \u001b[39m*\u001b[39margs, \u001b[39m*\u001b[39m\u001b[39m*\u001b[39mkwargs):\n\u001b[1;32m--> 138\u001b[0m     \u001b[39mreturn\u001b[39;00m \u001b[39mself\u001b[39;49m\u001b[39m.\u001b[39;49m_remote(args, kwargs)\n",
      "File \u001b[1;32mc:\\Users\\nadir\\anaconda3\\envs\\GTAI2\\lib\\site-packages\\ray\\util\\tracing\\tracing_helper.py:425\u001b[0m, in \u001b[0;36m_tracing_actor_method_invocation.<locals>._start_span\u001b[1;34m(self, args, kwargs, *_args, **_kwargs)\u001b[0m\n\u001b[0;32m    423\u001b[0m     \u001b[39mif\u001b[39;00m kwargs \u001b[39mis\u001b[39;00m \u001b[39mnot\u001b[39;00m \u001b[39mNone\u001b[39;00m:\n\u001b[0;32m    424\u001b[0m         \u001b[39massert\u001b[39;00m \u001b[39m\"\u001b[39m\u001b[39m_ray_trace_ctx\u001b[39m\u001b[39m\"\u001b[39m \u001b[39mnot\u001b[39;00m \u001b[39min\u001b[39;00m kwargs\n\u001b[1;32m--> 425\u001b[0m     \u001b[39mreturn\u001b[39;00m method(\u001b[39mself\u001b[39m, args, kwargs, \u001b[39m*\u001b[39m_args, \u001b[39m*\u001b[39m\u001b[39m*\u001b[39m_kwargs)\n\u001b[0;32m    427\u001b[0m class_name \u001b[39m=\u001b[39m (\n\u001b[0;32m    428\u001b[0m     \u001b[39mself\u001b[39m\u001b[39m.\u001b[39m_actor_ref()\u001b[39m.\u001b[39m_ray_actor_creation_function_descriptor\u001b[39m.\u001b[39mclass_name\n\u001b[0;32m    429\u001b[0m )\n\u001b[0;32m    430\u001b[0m method_name \u001b[39m=\u001b[39m \u001b[39mself\u001b[39m\u001b[39m.\u001b[39m_method_name\n",
      "File \u001b[1;32mc:\\Users\\nadir\\anaconda3\\envs\\GTAI2\\lib\\site-packages\\ray\\actor.py:184\u001b[0m, in \u001b[0;36mActorMethod._remote\u001b[1;34m(self, args, kwargs, name, num_returns, concurrency_group)\u001b[0m\n\u001b[0;32m    181\u001b[0m \u001b[39mif\u001b[39;00m \u001b[39mself\u001b[39m\u001b[39m.\u001b[39m_decorator \u001b[39mis\u001b[39;00m \u001b[39mnot\u001b[39;00m \u001b[39mNone\u001b[39;00m:\n\u001b[0;32m    182\u001b[0m     invocation \u001b[39m=\u001b[39m \u001b[39mself\u001b[39m\u001b[39m.\u001b[39m_decorator(invocation)\n\u001b[1;32m--> 184\u001b[0m \u001b[39mreturn\u001b[39;00m invocation(args, kwargs)\n",
      "File \u001b[1;32mc:\\Users\\nadir\\anaconda3\\envs\\GTAI2\\lib\\site-packages\\ray\\actor.py:171\u001b[0m, in \u001b[0;36mActorMethod._remote.<locals>.invocation\u001b[1;34m(args, kwargs)\u001b[0m\n\u001b[0;32m    169\u001b[0m \u001b[39mif\u001b[39;00m actor \u001b[39mis\u001b[39;00m \u001b[39mNone\u001b[39;00m:\n\u001b[0;32m    170\u001b[0m     \u001b[39mraise\u001b[39;00m \u001b[39mRuntimeError\u001b[39;00m(\u001b[39m\"\u001b[39m\u001b[39mLost reference to actor\u001b[39m\u001b[39m\"\u001b[39m)\n\u001b[1;32m--> 171\u001b[0m \u001b[39mreturn\u001b[39;00m actor\u001b[39m.\u001b[39;49m_actor_method_call(\n\u001b[0;32m    172\u001b[0m     \u001b[39mself\u001b[39;49m\u001b[39m.\u001b[39;49m_method_name,\n\u001b[0;32m    173\u001b[0m     args\u001b[39m=\u001b[39;49margs,\n\u001b[0;32m    174\u001b[0m     kwargs\u001b[39m=\u001b[39;49mkwargs,\n\u001b[0;32m    175\u001b[0m     name\u001b[39m=\u001b[39;49mname,\n\u001b[0;32m    176\u001b[0m     num_returns\u001b[39m=\u001b[39;49mnum_returns,\n\u001b[0;32m    177\u001b[0m     concurrency_group_name\u001b[39m=\u001b[39;49mconcurrency_group,\n\u001b[0;32m    178\u001b[0m )\n",
      "File \u001b[1;32mc:\\Users\\nadir\\anaconda3\\envs\\GTAI2\\lib\\site-packages\\ray\\actor.py:1169\u001b[0m, in \u001b[0;36mActorHandle._actor_method_call\u001b[1;34m(self, method_name, args, kwargs, name, num_returns, concurrency_group_name)\u001b[0m\n\u001b[0;32m   1166\u001b[0m \u001b[39mif\u001b[39;00m num_returns \u001b[39m==\u001b[39m \u001b[39m\"\u001b[39m\u001b[39mdynamic\u001b[39m\u001b[39m\"\u001b[39m:\n\u001b[0;32m   1167\u001b[0m     num_returns \u001b[39m=\u001b[39m \u001b[39m-\u001b[39m\u001b[39m1\u001b[39m\n\u001b[1;32m-> 1169\u001b[0m object_refs \u001b[39m=\u001b[39m worker\u001b[39m.\u001b[39;49mcore_worker\u001b[39m.\u001b[39;49msubmit_actor_task(\n\u001b[0;32m   1170\u001b[0m     \u001b[39mself\u001b[39;49m\u001b[39m.\u001b[39;49m_ray_actor_language,\n\u001b[0;32m   1171\u001b[0m     \u001b[39mself\u001b[39;49m\u001b[39m.\u001b[39;49m_ray_actor_id,\n\u001b[0;32m   1172\u001b[0m     function_descriptor,\n\u001b[0;32m   1173\u001b[0m     list_args,\n\u001b[0;32m   1174\u001b[0m     name,\n\u001b[0;32m   1175\u001b[0m     num_returns,\n\u001b[0;32m   1176\u001b[0m     \u001b[39mself\u001b[39;49m\u001b[39m.\u001b[39;49m_ray_actor_method_cpus,\n\u001b[0;32m   1177\u001b[0m     concurrency_group_name \u001b[39mif\u001b[39;49;00m concurrency_group_name \u001b[39mis\u001b[39;49;00m \u001b[39mnot\u001b[39;49;00m \u001b[39mNone\u001b[39;49;00m \u001b[39melse\u001b[39;49;00m \u001b[39mb\u001b[39;49m\u001b[39m\"\u001b[39;49m\u001b[39m\"\u001b[39;49m,\n\u001b[0;32m   1178\u001b[0m )\n\u001b[0;32m   1180\u001b[0m \u001b[39mif\u001b[39;00m \u001b[39mlen\u001b[39m(object_refs) \u001b[39m==\u001b[39m \u001b[39m1\u001b[39m:\n\u001b[0;32m   1181\u001b[0m     object_refs \u001b[39m=\u001b[39m object_refs[\u001b[39m0\u001b[39m]\n",
      "\u001b[1;31mKeyboardInterrupt\u001b[0m: "
     ]
    }
   ],
   "source": [
    "# to read later: https://raw.githubusercontent.com/ray-project/ray/master/rllib/examples/unity3d_env_local.py\n",
    "from myRTClass import MyGranTurismoRTGYM, DEFAULT_CONFIG_DICT\n",
    "import gymnasium\n",
    "import ray\n",
    "from ray import tune, air\n",
    "from ray.rllib.algorithms import ppo\n",
    "from ray.rllib.algorithms.ppo import PPOConfig\n",
    "from ray.rllib.algorithms.sac import SACConfig\n",
    "from ray.rllib.algorithms.a3c import A3CConfig\n",
    "import json\n",
    "import numpy as np\n",
    "from time import sleep\n",
    "ray.shutdown()\n",
    "\n",
    "my_config = DEFAULT_CONFIG_DICT\n",
    "my_config[\"interface\"] = MyGranTurismoRTGYM\n",
    "my_config[\"time_step_duration\"] = 0.05\n",
    "my_config[\"start_obs_capture\"] = 0.05\n",
    "my_config[\"time_step_timeout_factor\"] = 1.0\n",
    "my_config[\"ep_max_length\"] = 512\n",
    "my_config[\"act_buf_len\"] = 3\n",
    "my_config[\"reset_act_buf\"] = False\n",
    "my_config[\"benchmark\"] = True\n",
    "my_config[\"benchmark_polyak\"] = 0.2\n",
    "\n",
    "def env_creator(env_config):\n",
    "  env = gymnasium.make(\"real-time-gym-v1\", config=my_config)\n",
    "  return env  # return an env instance\n",
    "\n",
    "from ray.tune.registry import register_env\n",
    "register_env(\"gt-rtgym-env-v1\", env_creator)\n",
    "ray.init()\n",
    "\n",
    "algo = (\n",
    "    #PPOConfig()\n",
    "    #SACConfig()\n",
    "    A3CConfig()\n",
    "    .resources(\n",
    "        #num_gpus=1\n",
    "        )\n",
    "    .rollouts(\n",
    "        num_rollout_workers=1,\n",
    "        # batch_mode=\"truncate_episodes\",\n",
    "        # rollout_fragment_length=128,\n",
    "        )\n",
    "    .framework(\"torch\")\n",
    "    .environment(\n",
    "        env=\"gt-rtgym-env-v1\",\n",
    "        disable_env_checking=True,\n",
    "        render_env=False,\n",
    "        )\n",
    "    .training(\n",
    "            #lr=tune.grid_search([0.01, 0.001, 0.0001])\n",
    "            #lambda_=0.95,\n",
    "            #gamma=0.99,\n",
    "            #sgd_minibatch_size=128,\n",
    "            #train_batch_size=1024,\n",
    "            #num_sgd_iter=8,\n",
    "            #clip_param=0.2,\n",
    "            #model={\"fcnet_hiddens\": [12, 12]},\n",
    "        )\n",
    "    .build()\n",
    ")\n",
    "\n",
    "N = 2000\n",
    "\n",
    "for n in range(N):\n",
    "    result = algo.train()\n",
    "    if n % 10 == 0:\n",
    "        print(\"Saved\", n)\n",
    "        algo.save()\n",
    "path_to_checkpoint = algo.save()\n",
    "print(\n",
    "    \"An Algorithm checkpoint has been created inside directory: \"\n",
    "    f\"'{path_to_checkpoint}'.\"\n",
    ")\n",
    "\n",
    "ray.shutdown()"
   ]
  },
  {
   "cell_type": "code",
   "execution_count": null,
   "metadata": {},
   "outputs": [],
   "source": [
    "# to read later: https://raw.githubusercontent.com/ray-project/ray/master/rllib/examples/unity3d_env_local.py\n",
    "from myRTClass import MyGranTurismoRTGYM, DEFAULT_CONFIG_DICT\n",
    "import gymnasium\n",
    "import ray\n",
    "from ray.rllib.algorithms import ppo\n",
    "from ray.rllib.algorithms.algorithm import Algorithm\n",
    "from ray.rllib.algorithms.ppo import PPOConfig\n",
    "from ray.rllib.algorithms.sac import SACConfig\n",
    "from ray.rllib.algorithms.a3c import A3CConfig\n",
    "import json\n",
    "import numpy as np\n",
    "from time import sleep\n",
    "\n",
    "ray.shutdown()\n",
    "\n",
    "my_config = DEFAULT_CONFIG_DICT\n",
    "my_config[\"interface\"] = MyGranTurismoRTGYM\n",
    "my_config[\"time_step_duration\"] = 0.05\n",
    "my_config[\"start_obs_capture\"] = 0.05\n",
    "my_config[\"time_step_timeout_factor\"] = 1.0\n",
    "#my_config[\"ep_max_length\"] = 512\n",
    "my_config[\"act_buf_len\"] = 3\n",
    "my_config[\"reset_act_buf\"] = False\n",
    "my_config[\"benchmark\"] = True\n",
    "my_config[\"benchmark_polyak\"] = 0.2\n",
    "\n",
    "\n",
    "def env_creator(env_config):\n",
    "  env = gymnasium.make(\"real-time-gym-v1\", config=my_config)\n",
    "  return env  # return an env instance\n",
    "\n",
    "from ray.tune.registry import register_env\n",
    "register_env(\"gt-rtgym-env-v1\", env_creator)\n",
    "\n",
    "loadedAlgo = Algorithm.from_checkpoint(path_to_checkpoint)\n",
    "\n",
    "loadedAlgo.train()"
   ]
  },
  {
   "cell_type": "code",
   "execution_count": null,
   "metadata": {},
   "outputs": [],
   "source": [
    "import ray\n",
    "from ray import air, tune\n",
    "ray.shutdown()\n",
    "ray.init()\n",
    "\n",
    "\n",
    "config = PPOConfig().training(lr=tune.grid_search([0.01, 0.001, 0.0001])).environment(env=\"CartPole-v1\")\n",
    "\n",
    "tuner = tune.Tuner(\n",
    "    \"PPO\",\n",
    "    run_config=air.RunConfig(\n",
    "        stop={\"episode_reward_mean\": 150},\n",
    "    ),\n",
    "    param_space=config,\n",
    ")\n",
    "\n",
    "tuner.fit()"
   ]
  },
  {
   "attachments": {},
   "cell_type": "markdown",
   "metadata": {},
   "source": [
    "# PPO with checkpoints"
   ]
  },
  {
   "cell_type": "code",
   "execution_count": 1,
   "metadata": {},
   "outputs": [
    {
     "name": "stderr",
     "output_type": "stream",
     "text": [
      "2023-05-13 23:47:03,333\tINFO worker.py:1544 -- Started a local Ray instance. View the dashboard at \u001b[1m\u001b[32m127.0.0.1:8266 \u001b[39m\u001b[22m\n",
      "2023-05-13 23:47:05,035\tINFO algorithm.py:506 -- Current log_level is WARN. For more information, set 'log_level': 'INFO' / 'DEBUG' or use the -v and -vv flags.\n"
     ]
    },
    {
     "name": "stdout",
     "output_type": "stream",
     "text": [
      "\u001b[2m\u001b[36m(RolloutWorker pid=20424)\u001b[0m GT Real Time instantiated\n",
      "\u001b[2m\u001b[36m(RolloutWorker pid=20424)\u001b[0m GT AI Server instantiated for rtgym\n",
      "\u001b[2m\u001b[36m(RolloutWorker pid=20424)\u001b[0m starting up on localhost port 9999\n",
      "\u001b[2m\u001b[36m(RolloutWorker pid=20424)\u001b[0m Waiting for a connection\n"
     ]
    },
    {
     "name": "stderr",
     "output_type": "stream",
     "text": [
      "2023-05-13 23:47:25,264\tINFO trainable.py:172 -- Trainable.setup took 20.230 seconds. If your trainable is slow to initialize, consider setting reuse_actors=True to reduce actor creation overheads.\n",
      "2023-05-13 23:47:25,265\tWARNING util.py:67 -- Install gputil for GPU system monitoring.\n"
     ]
    },
    {
     "name": "stdout",
     "output_type": "stream",
     "text": [
      "\u001b[2m\u001b[36m(RolloutWorker pid=20424)\u001b[0m Connection from ('127.0.0.1', 54862)\n",
      "\u001b[2m\u001b[36m(RolloutWorker pid=20424)\u001b[0m default SAC action\n",
      "\u001b[2m\u001b[36m(RolloutWorker pid=20424)\u001b[0m reset triggered\n",
      "\u001b[2m\u001b[36m(RolloutWorker pid=20424)\u001b[0m reload save\n",
      "\u001b[2m\u001b[36m(RolloutWorker pid=20424)\u001b[0m reset triggered\n",
      "\u001b[2m\u001b[36m(RolloutWorker pid=20424)\u001b[0m reload save\n"
     ]
    },
    {
     "name": "stderr",
     "output_type": "stream",
     "text": [
      "\u001b[2m\u001b[36m(RolloutWorker pid=20424)\u001b[0m c:\\Users\\nadir\\anaconda3\\envs\\GTAI2\\lib\\site-packages\\rtgym\\envs\\real_time_env.py:376: UserWarning: Time-step timed out. Elapsed since last time-step: 0.16650020000062682\n",
      "\u001b[2m\u001b[36m(RolloutWorker pid=20424)\u001b[0m   warnings.warn(f\"Time-step timed out. Elapsed since last time-step: {now - self.__t_end}\")\n",
      "\u001b[2m\u001b[36m(RolloutWorker pid=20424)\u001b[0m c:\\Users\\nadir\\anaconda3\\envs\\GTAI2\\lib\\site-packages\\rtgym\\envs\\real_time_env.py:376: UserWarning: Time-step timed out. Elapsed since last time-step: 19.085009000001435\n",
      "\u001b[2m\u001b[36m(RolloutWorker pid=20424)\u001b[0m   warnings.warn(f\"Time-step timed out. Elapsed since last time-step: {now - self.__t_end}\")\n"
     ]
    },
    {
     "name": "stdout",
     "output_type": "stream",
     "text": [
      "\u001b[2m\u001b[36m(RolloutWorker pid=20424)\u001b[0m reset triggered\n",
      "\u001b[2m\u001b[36m(RolloutWorker pid=20424)\u001b[0m reload save\n"
     ]
    },
    {
     "name": "stderr",
     "output_type": "stream",
     "text": [
      "\u001b[2m\u001b[36m(RolloutWorker pid=20424)\u001b[0m c:\\Users\\nadir\\anaconda3\\envs\\GTAI2\\lib\\site-packages\\rtgym\\envs\\real_time_env.py:376: UserWarning: Time-step timed out. Elapsed since last time-step: 0.16042960000001472\n",
      "\u001b[2m\u001b[36m(RolloutWorker pid=20424)\u001b[0m   warnings.warn(f\"Time-step timed out. Elapsed since last time-step: {now - self.__t_end}\")\n"
     ]
    },
    {
     "name": "stdout",
     "output_type": "stream",
     "text": [
      "\u001b[2m\u001b[36m(RolloutWorker pid=20424)\u001b[0m reset triggered\n",
      "\u001b[2m\u001b[36m(RolloutWorker pid=20424)\u001b[0m reload save\n"
     ]
    },
    {
     "name": "stderr",
     "output_type": "stream",
     "text": [
      "\u001b[2m\u001b[36m(RolloutWorker pid=20424)\u001b[0m c:\\Users\\nadir\\anaconda3\\envs\\GTAI2\\lib\\site-packages\\rtgym\\envs\\real_time_env.py:376: UserWarning: Time-step timed out. Elapsed since last time-step: 0.15158170000145788\n",
      "\u001b[2m\u001b[36m(RolloutWorker pid=20424)\u001b[0m   warnings.warn(f\"Time-step timed out. Elapsed since last time-step: {now - self.__t_end}\")\n"
     ]
    },
    {
     "ename": "KeyboardInterrupt",
     "evalue": "",
     "output_type": "error",
     "traceback": [
      "\u001b[1;31m---------------------------------------------------------------------------\u001b[0m",
      "\u001b[1;31mKeyboardInterrupt\u001b[0m                         Traceback (most recent call last)",
      "\u001b[1;32mj:\\git\\TensorFlowPSX\\Py\\rrlib.ipynb Cell 14\u001b[0m in \u001b[0;36m6\n\u001b[0;32m     <a href='vscode-notebook-cell:/j%3A/git/TensorFlowPSX/Py/rrlib.ipynb#X16sZmlsZQ%3D%3D?line=64'>65</a>\u001b[0m N \u001b[39m=\u001b[39m \u001b[39m1\u001b[39m\n\u001b[0;32m     <a href='vscode-notebook-cell:/j%3A/git/TensorFlowPSX/Py/rrlib.ipynb#X16sZmlsZQ%3D%3D?line=66'>67</a>\u001b[0m \u001b[39mfor\u001b[39;00m n \u001b[39min\u001b[39;00m \u001b[39mrange\u001b[39m(N):\n\u001b[1;32m---> <a href='vscode-notebook-cell:/j%3A/git/TensorFlowPSX/Py/rrlib.ipynb#X16sZmlsZQ%3D%3D?line=67'>68</a>\u001b[0m     result \u001b[39m=\u001b[39m algo\u001b[39m.\u001b[39;49mtrain()\n\u001b[0;32m     <a href='vscode-notebook-cell:/j%3A/git/TensorFlowPSX/Py/rrlib.ipynb#X16sZmlsZQ%3D%3D?line=68'>69</a>\u001b[0m     \u001b[39mif\u001b[39;00m n \u001b[39m%\u001b[39m \u001b[39m1\u001b[39m \u001b[39m==\u001b[39m \u001b[39m0\u001b[39m:\n\u001b[0;32m     <a href='vscode-notebook-cell:/j%3A/git/TensorFlowPSX/Py/rrlib.ipynb#X16sZmlsZQ%3D%3D?line=69'>70</a>\u001b[0m         \u001b[39mprint\u001b[39m(\u001b[39m\"\u001b[39m\u001b[39mSaved\u001b[39m\u001b[39m\"\u001b[39m, n)\n",
      "File \u001b[1;32mc:\\Users\\nadir\\anaconda3\\envs\\GTAI2\\lib\\site-packages\\ray\\tune\\trainable\\trainable.py:365\u001b[0m, in \u001b[0;36mTrainable.train\u001b[1;34m(self)\u001b[0m\n\u001b[0;32m    363\u001b[0m start \u001b[39m=\u001b[39m time\u001b[39m.\u001b[39mtime()\n\u001b[0;32m    364\u001b[0m \u001b[39mtry\u001b[39;00m:\n\u001b[1;32m--> 365\u001b[0m     result \u001b[39m=\u001b[39m \u001b[39mself\u001b[39;49m\u001b[39m.\u001b[39;49mstep()\n\u001b[0;32m    366\u001b[0m \u001b[39mexcept\u001b[39;00m \u001b[39mException\u001b[39;00m \u001b[39mas\u001b[39;00m e:\n\u001b[0;32m    367\u001b[0m     skipped \u001b[39m=\u001b[39m skip_exceptions(e)\n",
      "File \u001b[1;32mc:\\Users\\nadir\\anaconda3\\envs\\GTAI2\\lib\\site-packages\\ray\\rllib\\algorithms\\algorithm.py:782\u001b[0m, in \u001b[0;36mAlgorithm.step\u001b[1;34m(self)\u001b[0m\n\u001b[0;32m    774\u001b[0m     (\n\u001b[0;32m    775\u001b[0m         results,\n\u001b[0;32m    776\u001b[0m         train_iter_ctx,\n\u001b[0;32m    777\u001b[0m     ) \u001b[39m=\u001b[39m \u001b[39mself\u001b[39m\u001b[39m.\u001b[39m_run_one_training_iteration_and_evaluation_in_parallel()\n\u001b[0;32m    778\u001b[0m \u001b[39m# - No evaluation necessary, just run the next training iteration.\u001b[39;00m\n\u001b[0;32m    779\u001b[0m \u001b[39m# - We have to evaluate in this training iteration, but no parallelism ->\u001b[39;00m\n\u001b[0;32m    780\u001b[0m \u001b[39m#   evaluate after the training iteration is entirely done.\u001b[39;00m\n\u001b[0;32m    781\u001b[0m \u001b[39melse\u001b[39;00m:\n\u001b[1;32m--> 782\u001b[0m     results, train_iter_ctx \u001b[39m=\u001b[39m \u001b[39mself\u001b[39;49m\u001b[39m.\u001b[39;49m_run_one_training_iteration()\n\u001b[0;32m    784\u001b[0m \u001b[39m# Sequential: Train (already done above), then evaluate.\u001b[39;00m\n\u001b[0;32m    785\u001b[0m \u001b[39mif\u001b[39;00m evaluate_this_iter \u001b[39mand\u001b[39;00m \u001b[39mnot\u001b[39;00m \u001b[39mself\u001b[39m\u001b[39m.\u001b[39mconfig\u001b[39m.\u001b[39mevaluation_parallel_to_training:\n",
      "File \u001b[1;32mc:\\Users\\nadir\\anaconda3\\envs\\GTAI2\\lib\\site-packages\\ray\\rllib\\algorithms\\algorithm.py:2713\u001b[0m, in \u001b[0;36mAlgorithm._run_one_training_iteration\u001b[1;34m(self)\u001b[0m\n\u001b[0;32m   2711\u001b[0m \u001b[39mwith\u001b[39;00m \u001b[39mself\u001b[39m\u001b[39m.\u001b[39m_timers[TRAINING_ITERATION_TIMER]:\n\u001b[0;32m   2712\u001b[0m     \u001b[39mif\u001b[39;00m \u001b[39mself\u001b[39m\u001b[39m.\u001b[39mconfig\u001b[39m.\u001b[39m_disable_execution_plan_api:\n\u001b[1;32m-> 2713\u001b[0m         results \u001b[39m=\u001b[39m \u001b[39mself\u001b[39;49m\u001b[39m.\u001b[39;49mtraining_step()\n\u001b[0;32m   2714\u001b[0m     \u001b[39melse\u001b[39;00m:\n\u001b[0;32m   2715\u001b[0m         results \u001b[39m=\u001b[39m \u001b[39mnext\u001b[39m(\u001b[39mself\u001b[39m\u001b[39m.\u001b[39mtrain_exec_impl)\n",
      "File \u001b[1;32mc:\\Users\\nadir\\anaconda3\\envs\\GTAI2\\lib\\site-packages\\ray\\rllib\\algorithms\\ppo\\ppo.py:358\u001b[0m, in \u001b[0;36mPPO.training_step\u001b[1;34m(self)\u001b[0m\n\u001b[0;32m    353\u001b[0m     train_batch \u001b[39m=\u001b[39m synchronous_parallel_sample(\n\u001b[0;32m    354\u001b[0m         worker_set\u001b[39m=\u001b[39m\u001b[39mself\u001b[39m\u001b[39m.\u001b[39mworkers,\n\u001b[0;32m    355\u001b[0m         max_agent_steps\u001b[39m=\u001b[39m\u001b[39mself\u001b[39m\u001b[39m.\u001b[39mconfig\u001b[39m.\u001b[39mtrain_batch_size,\n\u001b[0;32m    356\u001b[0m     )\n\u001b[0;32m    357\u001b[0m \u001b[39melse\u001b[39;00m:\n\u001b[1;32m--> 358\u001b[0m     train_batch \u001b[39m=\u001b[39m synchronous_parallel_sample(\n\u001b[0;32m    359\u001b[0m         worker_set\u001b[39m=\u001b[39;49m\u001b[39mself\u001b[39;49m\u001b[39m.\u001b[39;49mworkers, max_env_steps\u001b[39m=\u001b[39;49m\u001b[39mself\u001b[39;49m\u001b[39m.\u001b[39;49mconfig\u001b[39m.\u001b[39;49mtrain_batch_size\n\u001b[0;32m    360\u001b[0m     )\n\u001b[0;32m    361\u001b[0m train_batch \u001b[39m=\u001b[39m train_batch\u001b[39m.\u001b[39mas_multi_agent()\n\u001b[0;32m    362\u001b[0m \u001b[39mself\u001b[39m\u001b[39m.\u001b[39m_counters[NUM_AGENT_STEPS_SAMPLED] \u001b[39m+\u001b[39m\u001b[39m=\u001b[39m train_batch\u001b[39m.\u001b[39magent_steps()\n",
      "File \u001b[1;32mc:\\Users\\nadir\\anaconda3\\envs\\GTAI2\\lib\\site-packages\\ray\\rllib\\execution\\rollout_ops.py:85\u001b[0m, in \u001b[0;36msynchronous_parallel_sample\u001b[1;34m(worker_set, max_agent_steps, max_env_steps, concat)\u001b[0m\n\u001b[0;32m     82\u001b[0m     sample_batches \u001b[39m=\u001b[39m [worker_set\u001b[39m.\u001b[39mlocal_worker()\u001b[39m.\u001b[39msample()]\n\u001b[0;32m     83\u001b[0m \u001b[39m# Loop over remote workers' `sample()` method in parallel.\u001b[39;00m\n\u001b[0;32m     84\u001b[0m \u001b[39melse\u001b[39;00m:\n\u001b[1;32m---> 85\u001b[0m     sample_batches \u001b[39m=\u001b[39m worker_set\u001b[39m.\u001b[39;49mforeach_worker(\n\u001b[0;32m     86\u001b[0m         \u001b[39mlambda\u001b[39;49;00m w: w\u001b[39m.\u001b[39;49msample(), local_worker\u001b[39m=\u001b[39;49m\u001b[39mFalse\u001b[39;49;00m, healthy_only\u001b[39m=\u001b[39;49m\u001b[39mTrue\u001b[39;49;00m\n\u001b[0;32m     87\u001b[0m     )\n\u001b[0;32m     88\u001b[0m     \u001b[39mif\u001b[39;00m worker_set\u001b[39m.\u001b[39mnum_healthy_remote_workers() \u001b[39m<\u001b[39m\u001b[39m=\u001b[39m \u001b[39m0\u001b[39m:\n\u001b[0;32m     89\u001b[0m         \u001b[39m# There is no point staying in this loop, since we will not be able to\u001b[39;00m\n\u001b[0;32m     90\u001b[0m         \u001b[39m# get any new samples if we don't have any healthy remote workers left.\u001b[39;00m\n\u001b[0;32m     91\u001b[0m         \u001b[39mbreak\u001b[39;00m\n",
      "File \u001b[1;32mc:\\Users\\nadir\\anaconda3\\envs\\GTAI2\\lib\\site-packages\\ray\\rllib\\evaluation\\worker_set.py:692\u001b[0m, in \u001b[0;36mWorkerSet.foreach_worker\u001b[1;34m(self, func, local_worker, healthy_only, remote_worker_ids, timeout_seconds, return_obj_refs, mark_healthy)\u001b[0m\n\u001b[0;32m    689\u001b[0m \u001b[39mif\u001b[39;00m local_worker \u001b[39mand\u001b[39;00m \u001b[39mself\u001b[39m\u001b[39m.\u001b[39mlocal_worker() \u001b[39mis\u001b[39;00m \u001b[39mnot\u001b[39;00m \u001b[39mNone\u001b[39;00m:\n\u001b[0;32m    690\u001b[0m     local_result \u001b[39m=\u001b[39m [func(\u001b[39mself\u001b[39m\u001b[39m.\u001b[39mlocal_worker())]\n\u001b[1;32m--> 692\u001b[0m remote_results \u001b[39m=\u001b[39m \u001b[39mself\u001b[39;49m\u001b[39m.\u001b[39;49m__worker_manager\u001b[39m.\u001b[39;49mforeach_actor(\n\u001b[0;32m    693\u001b[0m     func,\n\u001b[0;32m    694\u001b[0m     healthy_only\u001b[39m=\u001b[39;49mhealthy_only,\n\u001b[0;32m    695\u001b[0m     remote_actor_ids\u001b[39m=\u001b[39;49mremote_worker_ids,\n\u001b[0;32m    696\u001b[0m     timeout_seconds\u001b[39m=\u001b[39;49mtimeout_seconds,\n\u001b[0;32m    697\u001b[0m     return_obj_refs\u001b[39m=\u001b[39;49mreturn_obj_refs,\n\u001b[0;32m    698\u001b[0m     mark_healthy\u001b[39m=\u001b[39;49mmark_healthy,\n\u001b[0;32m    699\u001b[0m )\n\u001b[0;32m    701\u001b[0m handle_remote_call_result_errors(remote_results, \u001b[39mself\u001b[39m\u001b[39m.\u001b[39m_ignore_worker_failures)\n\u001b[0;32m    703\u001b[0m \u001b[39m# With application errors handled, return good results.\u001b[39;00m\n",
      "File \u001b[1;32mc:\\Users\\nadir\\anaconda3\\envs\\GTAI2\\lib\\site-packages\\ray\\rllib\\utils\\actor_manager.py:588\u001b[0m, in \u001b[0;36mFaultTolerantActorManager.foreach_actor\u001b[1;34m(self, func, healthy_only, remote_actor_ids, timeout_seconds, return_obj_refs, mark_healthy)\u001b[0m\n\u001b[0;32m    579\u001b[0m     func, remote_actor_ids \u001b[39m=\u001b[39m \u001b[39mself\u001b[39m\u001b[39m.\u001b[39m_filter_func_and_remote_actor_id_by_state(\n\u001b[0;32m    580\u001b[0m         func, remote_actor_ids\n\u001b[0;32m    581\u001b[0m     )\n\u001b[0;32m    583\u001b[0m remote_calls \u001b[39m=\u001b[39m \u001b[39mself\u001b[39m\u001b[39m.\u001b[39m__call_actors(\n\u001b[0;32m    584\u001b[0m     func\u001b[39m=\u001b[39mfunc,\n\u001b[0;32m    585\u001b[0m     remote_actor_ids\u001b[39m=\u001b[39mremote_actor_ids,\n\u001b[0;32m    586\u001b[0m )\n\u001b[1;32m--> 588\u001b[0m _, remote_results \u001b[39m=\u001b[39m \u001b[39mself\u001b[39;49m\u001b[39m.\u001b[39;49m__fetch_result(\n\u001b[0;32m    589\u001b[0m     remote_actor_ids\u001b[39m=\u001b[39;49mremote_actor_ids,\n\u001b[0;32m    590\u001b[0m     remote_calls\u001b[39m=\u001b[39;49mremote_calls,\n\u001b[0;32m    591\u001b[0m     timeout_seconds\u001b[39m=\u001b[39;49mtimeout_seconds,\n\u001b[0;32m    592\u001b[0m     return_obj_refs\u001b[39m=\u001b[39;49mreturn_obj_refs,\n\u001b[0;32m    593\u001b[0m     mark_healthy\u001b[39m=\u001b[39;49mmark_healthy,\n\u001b[0;32m    594\u001b[0m )\n\u001b[0;32m    596\u001b[0m \u001b[39mreturn\u001b[39;00m remote_results\n",
      "File \u001b[1;32mc:\\Users\\nadir\\anaconda3\\envs\\GTAI2\\lib\\site-packages\\ray\\rllib\\utils\\actor_manager.py:457\u001b[0m, in \u001b[0;36mFaultTolerantActorManager.__fetch_result\u001b[1;34m(self, remote_actor_ids, remote_calls, timeout_seconds, return_obj_refs, mark_healthy)\u001b[0m\n\u001b[0;32m    453\u001b[0m \u001b[39m# Notice that we do not return the refs to any unfinished calls to the\u001b[39;00m\n\u001b[0;32m    454\u001b[0m \u001b[39m# user, since it is not safe to handle such remote actor calls outside the\u001b[39;00m\n\u001b[0;32m    455\u001b[0m \u001b[39m# context of this actor manager. These requests are simply dropped.\u001b[39;00m\n\u001b[0;32m    456\u001b[0m timeout \u001b[39m=\u001b[39m \u001b[39mfloat\u001b[39m(timeout_seconds) \u001b[39mif\u001b[39;00m timeout_seconds \u001b[39mis\u001b[39;00m \u001b[39mnot\u001b[39;00m \u001b[39mNone\u001b[39;00m \u001b[39melse\u001b[39;00m \u001b[39mNone\u001b[39;00m\n\u001b[1;32m--> 457\u001b[0m ready, _ \u001b[39m=\u001b[39m ray\u001b[39m.\u001b[39;49mwait(\n\u001b[0;32m    458\u001b[0m     remote_calls,\n\u001b[0;32m    459\u001b[0m     num_returns\u001b[39m=\u001b[39;49m\u001b[39mlen\u001b[39;49m(remote_calls),\n\u001b[0;32m    460\u001b[0m     timeout\u001b[39m=\u001b[39;49mtimeout,\n\u001b[0;32m    461\u001b[0m     \u001b[39m# Make sure remote results are fetched locally in parallel.\u001b[39;49;00m\n\u001b[0;32m    462\u001b[0m     fetch_local\u001b[39m=\u001b[39;49m\u001b[39mnot\u001b[39;49;00m return_obj_refs,\n\u001b[0;32m    463\u001b[0m )\n\u001b[0;32m    465\u001b[0m \u001b[39m# Remote data should already be fetched to local object store at this point.\u001b[39;00m\n\u001b[0;32m    466\u001b[0m remote_results \u001b[39m=\u001b[39m RemoteCallResults()\n",
      "File \u001b[1;32mc:\\Users\\nadir\\anaconda3\\envs\\GTAI2\\lib\\site-packages\\ray\\_private\\client_mode_hook.py:105\u001b[0m, in \u001b[0;36mclient_mode_hook.<locals>.wrapper\u001b[1;34m(*args, **kwargs)\u001b[0m\n\u001b[0;32m    103\u001b[0m     \u001b[39mif\u001b[39;00m func\u001b[39m.\u001b[39m\u001b[39m__name__\u001b[39m \u001b[39m!=\u001b[39m \u001b[39m\"\u001b[39m\u001b[39minit\u001b[39m\u001b[39m\"\u001b[39m \u001b[39mor\u001b[39;00m is_client_mode_enabled_by_default:\n\u001b[0;32m    104\u001b[0m         \u001b[39mreturn\u001b[39;00m \u001b[39mgetattr\u001b[39m(ray, func\u001b[39m.\u001b[39m\u001b[39m__name__\u001b[39m)(\u001b[39m*\u001b[39margs, \u001b[39m*\u001b[39m\u001b[39m*\u001b[39mkwargs)\n\u001b[1;32m--> 105\u001b[0m \u001b[39mreturn\u001b[39;00m func(\u001b[39m*\u001b[39margs, \u001b[39m*\u001b[39m\u001b[39m*\u001b[39mkwargs)\n",
      "File \u001b[1;32mc:\\Users\\nadir\\anaconda3\\envs\\GTAI2\\lib\\site-packages\\ray\\_private\\worker.py:2578\u001b[0m, in \u001b[0;36mwait\u001b[1;34m(object_refs, num_returns, timeout, fetch_local)\u001b[0m\n\u001b[0;32m   2576\u001b[0m timeout \u001b[39m=\u001b[39m timeout \u001b[39mif\u001b[39;00m timeout \u001b[39mis\u001b[39;00m \u001b[39mnot\u001b[39;00m \u001b[39mNone\u001b[39;00m \u001b[39melse\u001b[39;00m \u001b[39m10\u001b[39m\u001b[39m*\u001b[39m\u001b[39m*\u001b[39m\u001b[39m6\u001b[39m\n\u001b[0;32m   2577\u001b[0m timeout_milliseconds \u001b[39m=\u001b[39m \u001b[39mint\u001b[39m(timeout \u001b[39m*\u001b[39m \u001b[39m1000\u001b[39m)\n\u001b[1;32m-> 2578\u001b[0m ready_ids, remaining_ids \u001b[39m=\u001b[39m worker\u001b[39m.\u001b[39;49mcore_worker\u001b[39m.\u001b[39;49mwait(\n\u001b[0;32m   2579\u001b[0m     object_refs,\n\u001b[0;32m   2580\u001b[0m     num_returns,\n\u001b[0;32m   2581\u001b[0m     timeout_milliseconds,\n\u001b[0;32m   2582\u001b[0m     worker\u001b[39m.\u001b[39;49mcurrent_task_id,\n\u001b[0;32m   2583\u001b[0m     fetch_local,\n\u001b[0;32m   2584\u001b[0m )\n\u001b[0;32m   2585\u001b[0m \u001b[39mreturn\u001b[39;00m ready_ids, remaining_ids\n",
      "File \u001b[1;32mpython\\ray\\_raylet.pyx:1833\u001b[0m, in \u001b[0;36mray._raylet.CoreWorker.wait\u001b[1;34m()\u001b[0m\n",
      "File \u001b[1;32mpython\\ray\\_raylet.pyx:199\u001b[0m, in \u001b[0;36mray._raylet.check_status\u001b[1;34m()\u001b[0m\n",
      "\u001b[1;31mKeyboardInterrupt\u001b[0m: "
     ]
    }
   ],
   "source": [
    "# to read later: https://raw.githubusercontent.com/ray-project/ray/master/rllib/examples/unity3d_env_local.py\n",
    "from myRTClass import MyGranTurismoRTGYM, DEFAULT_CONFIG_DICT\n",
    "import gymnasium\n",
    "import ray\n",
    "from ray import tune, air\n",
    "from ray.rllib.algorithms import ppo\n",
    "from ray.rllib.algorithms.ppo import PPOConfig\n",
    "import json\n",
    "import numpy as np\n",
    "from time import sleep\n",
    "ray.shutdown()\n",
    "\n",
    "my_config = DEFAULT_CONFIG_DICT\n",
    "my_config[\"interface\"] = MyGranTurismoRTGYM\n",
    "my_config[\"time_step_duration\"] = 0.05\n",
    "my_config[\"start_obs_capture\"] = 0.05\n",
    "my_config[\"time_step_timeout_factor\"] = 1.0\n",
    "my_config[\"ep_max_length\"] = 512\n",
    "my_config[\"act_buf_len\"] = 3\n",
    "my_config[\"reset_act_buf\"] = False\n",
    "my_config[\"benchmark\"] = True\n",
    "my_config[\"benchmark_polyak\"] = 0.2\n",
    "\n",
    "def env_creator(env_config):\n",
    "  env = gymnasium.make(\"real-time-gym-v1\", config=env_config)\n",
    "  return env  # return an env instance\n",
    "\n",
    "from ray.tune.registry import register_env\n",
    "register_env(\"gt-rtgym-env-v1\", lambda config: env_creator(my_config)) # better way\n",
    "\n",
    "ray.init()\n",
    "\n",
    "algo = (\n",
    "    PPOConfig()\n",
    "    .resources(\n",
    "        #num_gpus=1\n",
    "        )\n",
    "    .rollouts(\n",
    "        num_rollout_workers=1,\n",
    "        enable_connectors=True,\n",
    "        # batch_mode=\"truncate_episodes\",\n",
    "        # rollout_fragment_length=128,\n",
    "        )\n",
    "    .framework(\"torch\")\n",
    "    .environment(\n",
    "        env=\"gt-rtgym-env-v1\",\n",
    "        disable_env_checking=True,\n",
    "        render_env=False,\n",
    "        )\n",
    "    .training(\n",
    "            #lr=tune.grid_search([0.01, 0.001, 0.0001])\n",
    "            #lambda_=0.95,\n",
    "            #gamma=0.99,\n",
    "            #sgd_minibatch_size=128,\n",
    "            #train_batch_size=1024,\n",
    "            #num_sgd_iter=8,\n",
    "            #clip_param=0.2,\n",
    "            #model={\"fcnet_hiddens\": [12, 12]},\n",
    "        )\n",
    "    .build()\n",
    ")\n",
    "\n",
    "N = 500\n",
    "\n",
    "for n in range(N):\n",
    "    result = algo.train()\n",
    "    if n % 1 == 0:\n",
    "        print(\"Saved\", n)\n",
    "        algo.save()\n",
    "path_to_checkpoint = algo.save()\n",
    "print(\n",
    "    \"An Algorithm checkpoint has been created inside directory: \"\n",
    "    f\"'{path_to_checkpoint}'.\"\n",
    ")\n",
    "\n",
    "ray.shutdown()"
   ]
  },
  {
   "attachments": {},
   "cell_type": "markdown",
   "metadata": {},
   "source": [
    "# Continue Training"
   ]
  },
  {
   "cell_type": "code",
   "execution_count": 1,
   "metadata": {},
   "outputs": [
    {
     "name": "stderr",
     "output_type": "stream",
     "text": [
      "2023-05-13 23:51:00,859\tINFO worker.py:1544 -- Started a local Ray instance. View the dashboard at \u001b[1m\u001b[32m127.0.0.1:8266 \u001b[39m\u001b[22m\n",
      "2023-05-13 23:51:02,454\tINFO algorithm.py:506 -- Current log_level is WARN. For more information, set 'log_level': 'INFO' / 'DEBUG' or use the -v and -vv flags.\n"
     ]
    },
    {
     "name": "stdout",
     "output_type": "stream",
     "text": [
      "\u001b[2m\u001b[36m(RolloutWorker pid=23896)\u001b[0m GT Real Time instantiated\n",
      "\u001b[2m\u001b[36m(RolloutWorker pid=23896)\u001b[0m GT AI Server instantiated for rtgym\n",
      "\u001b[2m\u001b[36m(RolloutWorker pid=23896)\u001b[0m starting up on localhost port 9999\n",
      "\u001b[2m\u001b[36m(RolloutWorker pid=23896)\u001b[0m Waiting for a connection\n"
     ]
    },
    {
     "name": "stderr",
     "output_type": "stream",
     "text": [
      "2023-05-13 23:51:13,722\tINFO trainable.py:172 -- Trainable.setup took 11.269 seconds. If your trainable is slow to initialize, consider setting reuse_actors=True to reduce actor creation overheads.\n",
      "2023-05-13 23:51:13,724\tWARNING util.py:67 -- Install gputil for GPU system monitoring.\n"
     ]
    },
    {
     "name": "stdout",
     "output_type": "stream",
     "text": [
      "\u001b[2m\u001b[36m(RolloutWorker pid=23896)\u001b[0m Connection from ('127.0.0.1', 55182)\n",
      "\u001b[2m\u001b[36m(RolloutWorker pid=23896)\u001b[0m default SAC action\n"
     ]
    }
   ],
   "source": [
    "from myRTClass import MyGranTurismoRTGYM, DEFAULT_CONFIG_DICT\n",
    "import gymnasium\n",
    "import ray\n",
    "from ray import tune, air\n",
    "from ray.rllib.algorithms import ppo\n",
    "from ray.rllib.algorithms.ppo import PPOConfig\n",
    "import json\n",
    "import numpy as np\n",
    "from time import sleep\n",
    "ray.shutdown()\n",
    "\n",
    "my_config = DEFAULT_CONFIG_DICT\n",
    "my_config[\"interface\"] = MyGranTurismoRTGYM\n",
    "my_config[\"time_step_duration\"] = 0.05\n",
    "my_config[\"start_obs_capture\"] = 0.05\n",
    "my_config[\"time_step_timeout_factor\"] = 1.0\n",
    "my_config[\"ep_max_length\"] = 512\n",
    "my_config[\"act_buf_len\"] = 3\n",
    "my_config[\"reset_act_buf\"] = False\n",
    "my_config[\"benchmark\"] = True\n",
    "my_config[\"benchmark_polyak\"] = 0.2\n",
    "\n",
    "def env_creator(env_config):\n",
    "  env = gymnasium.make(\"real-time-gym-v1\", config=env_config)\n",
    "  return env  # return an env instance\n",
    "\n",
    "from ray.tune.registry import register_env\n",
    "register_env(\"gt-rtgym-env-v1\", lambda config: env_creator(my_config)) # better way\n",
    "\n",
    "ray.init()\n",
    "\n",
    "from ray.rllib.algorithms.algorithm import Algorithm\n",
    "algo = Algorithm.from_checkpoint(\"C:/Users/nadir/ray_results/PPO_gt-rtgym-env-v1_2023-05-13_00-31-13_kmaa6ii/checkpoint_000161\")"
   ]
  },
  {
   "cell_type": "code",
   "execution_count": 2,
   "metadata": {},
   "outputs": [
    {
     "name": "stdout",
     "output_type": "stream",
     "text": [
      "\u001b[2m\u001b[36m(RolloutWorker pid=23896)\u001b[0m reset triggered\n",
      "\u001b[2m\u001b[36m(RolloutWorker pid=23896)\u001b[0m reload save\n"
     ]
    },
    {
     "name": "stderr",
     "output_type": "stream",
     "text": [
      "\u001b[2m\u001b[36m(RolloutWorker pid=23896)\u001b[0m c:\\Users\\nadir\\anaconda3\\envs\\GTAI2\\lib\\site-packages\\rtgym\\envs\\real_time_env.py:376: UserWarning: Time-step timed out. Elapsed since last time-step: 0.3807117000000204\n",
      "\u001b[2m\u001b[36m(RolloutWorker pid=23896)\u001b[0m   warnings.warn(f\"Time-step timed out. Elapsed since last time-step: {now - self.__t_end}\")\n"
     ]
    },
    {
     "name": "stdout",
     "output_type": "stream",
     "text": [
      "\u001b[2m\u001b[36m(RolloutWorker pid=23896)\u001b[0m reset triggered\n",
      "\u001b[2m\u001b[36m(RolloutWorker pid=23896)\u001b[0m reload save\n"
     ]
    },
    {
     "name": "stderr",
     "output_type": "stream",
     "text": [
      "\u001b[2m\u001b[36m(RolloutWorker pid=23896)\u001b[0m c:\\Users\\nadir\\anaconda3\\envs\\GTAI2\\lib\\site-packages\\rtgym\\envs\\real_time_env.py:376: UserWarning: Time-step timed out. Elapsed since last time-step: 0.1701696000001789\n",
      "\u001b[2m\u001b[36m(RolloutWorker pid=23896)\u001b[0m   warnings.warn(f\"Time-step timed out. Elapsed since last time-step: {now - self.__t_end}\")\n",
      "\u001b[2m\u001b[36m(RolloutWorker pid=23896)\u001b[0m c:\\Users\\nadir\\anaconda3\\envs\\GTAI2\\lib\\site-packages\\rtgym\\envs\\real_time_env.py:376: UserWarning: Time-step timed out. Elapsed since last time-step: 0.1677496000014429\n",
      "\u001b[2m\u001b[36m(RolloutWorker pid=23896)\u001b[0m   warnings.warn(f\"Time-step timed out. Elapsed since last time-step: {now - self.__t_end}\")\n"
     ]
    },
    {
     "name": "stdout",
     "output_type": "stream",
     "text": [
      "\u001b[2m\u001b[36m(RolloutWorker pid=23896)\u001b[0m reset triggered\n",
      "\u001b[2m\u001b[36m(RolloutWorker pid=23896)\u001b[0m reload save\n",
      "\u001b[2m\u001b[36m(RolloutWorker pid=23896)\u001b[0m reset triggered\n",
      "\u001b[2m\u001b[36m(RolloutWorker pid=23896)\u001b[0m reload save\n"
     ]
    },
    {
     "name": "stderr",
     "output_type": "stream",
     "text": [
      "\u001b[2m\u001b[36m(RolloutWorker pid=23896)\u001b[0m c:\\Users\\nadir\\anaconda3\\envs\\GTAI2\\lib\\site-packages\\rtgym\\envs\\real_time_env.py:376: UserWarning: Time-step timed out. Elapsed since last time-step: 0.16404320000116002\n",
      "\u001b[2m\u001b[36m(RolloutWorker pid=23896)\u001b[0m   warnings.warn(f\"Time-step timed out. Elapsed since last time-step: {now - self.__t_end}\")\n",
      "\u001b[2m\u001b[36m(RolloutWorker pid=23896)\u001b[0m c:\\Users\\nadir\\anaconda3\\envs\\GTAI2\\lib\\site-packages\\rtgym\\envs\\real_time_env.py:376: UserWarning: Time-step timed out. Elapsed since last time-step: 0.14084650000107501\n",
      "\u001b[2m\u001b[36m(RolloutWorker pid=23896)\u001b[0m   warnings.warn(f\"Time-step timed out. Elapsed since last time-step: {now - self.__t_end}\")\n"
     ]
    },
    {
     "name": "stdout",
     "output_type": "stream",
     "text": [
      "\u001b[2m\u001b[36m(RolloutWorker pid=23896)\u001b[0m reset triggered\n",
      "\u001b[2m\u001b[36m(RolloutWorker pid=23896)\u001b[0m reload save\n",
      "\u001b[2m\u001b[36m(RolloutWorker pid=23896)\u001b[0m reset triggered\n",
      "\u001b[2m\u001b[36m(RolloutWorker pid=23896)\u001b[0m reload save\n"
     ]
    },
    {
     "name": "stderr",
     "output_type": "stream",
     "text": [
      "\u001b[2m\u001b[36m(RolloutWorker pid=23896)\u001b[0m c:\\Users\\nadir\\anaconda3\\envs\\GTAI2\\lib\\site-packages\\rtgym\\envs\\real_time_env.py:376: UserWarning: Time-step timed out. Elapsed since last time-step: 0.16736340000105088\n",
      "\u001b[2m\u001b[36m(RolloutWorker pid=23896)\u001b[0m   warnings.warn(f\"Time-step timed out. Elapsed since last time-step: {now - self.__t_end}\")\n"
     ]
    },
    {
     "name": "stdout",
     "output_type": "stream",
     "text": [
      "\u001b[2m\u001b[36m(RolloutWorker pid=23896)\u001b[0m reset triggered\n",
      "\u001b[2m\u001b[36m(RolloutWorker pid=23896)\u001b[0m reload save\n"
     ]
    },
    {
     "name": "stderr",
     "output_type": "stream",
     "text": [
      "\u001b[2m\u001b[36m(RolloutWorker pid=23896)\u001b[0m c:\\Users\\nadir\\anaconda3\\envs\\GTAI2\\lib\\site-packages\\rtgym\\envs\\real_time_env.py:376: UserWarning: Time-step timed out. Elapsed since last time-step: 0.16450739999660868\n",
      "\u001b[2m\u001b[36m(RolloutWorker pid=23896)\u001b[0m   warnings.warn(f\"Time-step timed out. Elapsed since last time-step: {now - self.__t_end}\")\n"
     ]
    }
   ],
   "source": [
    "N = 50\n",
    "\n",
    "for n in range(N):\n",
    "    result = algo.train()\n",
    "    if n % 5 == 0:\n",
    "        print(\"Saved\", n)\n",
    "        algo.save()\n",
    "path_to_checkpoint = algo.save()\n",
    "print(\n",
    "    \"An Algorithm checkpoint has been created inside directory: \"\n",
    "    f\"'{path_to_checkpoint}'.\"\n",
    ")"
   ]
  },
  {
   "attachments": {},
   "cell_type": "markdown",
   "metadata": {},
   "source": [
    "Test Agent"
   ]
  },
  {
   "cell_type": "code",
   "execution_count": 2,
   "metadata": {},
   "outputs": [
    {
     "name": "stderr",
     "output_type": "stream",
     "text": [
      "2023-05-13 23:42:33,654\tINFO worker.py:1544 -- Started a local Ray instance. View the dashboard at \u001b[1m\u001b[32m127.0.0.1:8266 \u001b[39m\u001b[22m\n",
      "2023-05-13 23:42:35,210\tINFO algorithm.py:506 -- Current log_level is WARN. For more information, set 'log_level': 'INFO' / 'DEBUG' or use the -v and -vv flags.\n"
     ]
    },
    {
     "name": "stdout",
     "output_type": "stream",
     "text": [
      "\u001b[2m\u001b[36m(RolloutWorker pid=20848)\u001b[0m GT Real Time instantiated\n",
      "\u001b[2m\u001b[36m(RolloutWorker pid=20848)\u001b[0m GT AI Server instantiated for rtgym\n",
      "\u001b[2m\u001b[36m(RolloutWorker pid=20848)\u001b[0m starting up on localhost port 9999\n",
      "\u001b[2m\u001b[36m(RolloutWorker pid=20848)\u001b[0m Waiting for a connection\n"
     ]
    },
    {
     "name": "stderr",
     "output_type": "stream",
     "text": [
      "2023-05-13 23:42:42,528\tWARNING util.py:67 -- Install gputil for GPU system monitoring.\n"
     ]
    },
    {
     "name": "stdout",
     "output_type": "stream",
     "text": [
      "\u001b[2m\u001b[36m(RolloutWorker pid=20848)\u001b[0m Connection from ('127.0.0.1', 54273)\n",
      "\u001b[2m\u001b[36m(RolloutWorker pid=20848)\u001b[0m default SAC action\n"
     ]
    }
   ],
   "source": [
    "from ray.rllib.algorithms.algorithm import Algorithm\n",
    "import ray\n",
    "from myRTClass import MyGranTurismoRTGYM, DEFAULT_CONFIG_DICT\n",
    "import gymnasium\n",
    "\n",
    "ray.shutdown()\n",
    "\n",
    "my_config = DEFAULT_CONFIG_DICT\n",
    "my_config[\"interface\"] = MyGranTurismoRTGYM\n",
    "my_config[\"time_step_duration\"] = 0.05\n",
    "my_config[\"start_obs_capture\"] = 0.05\n",
    "my_config[\"time_step_timeout_factor\"] = 1.0\n",
    "my_config[\"act_buf_len\"] = 3\n",
    "my_config[\"reset_act_buf\"] = False\n",
    "my_config[\"benchmark\"] = True\n",
    "my_config[\"benchmark_polyak\"] = 0.2\n",
    "\n",
    "def env_creator(env_config):\n",
    "  env = gymnasium.make(\"real-time-gym-v1\", config=env_config)\n",
    "  return env  # return an env instance\n",
    "\n",
    "from ray.tune.registry import register_env\n",
    "register_env(\"gt-rtgym-env-v1\", lambda config: env_creator(my_config)) # better way\n",
    "#register_env(\"gt-rtgym-env-v1\", env_creator)\n",
    "\n",
    "\n",
    "\n",
    "ray.init()\n",
    "\n",
    "# env = gymnasium.make(\"real-time-gym-v1\")\n",
    "algo = Algorithm.from_checkpoint(\"C:/Users/nadir/ray_results/PPO_gt-rtgym-env-v1_2023-05-13_00-31-13_kmaa6ii/checkpoint_000161\")\n"
   ]
  },
  {
   "cell_type": "code",
   "execution_count": 3,
   "metadata": {},
   "outputs": [],
   "source": [
    "algo.stop()"
   ]
  },
  {
   "cell_type": "code",
   "execution_count": 4,
   "metadata": {},
   "outputs": [],
   "source": [
    "policy = algo.get_policy()\n",
    "model = policy.model"
   ]
  },
  {
   "cell_type": "code",
   "execution_count": 5,
   "metadata": {},
   "outputs": [],
   "source": [
    "new_config = {\n",
    "    # Indicate that the Algorithm we setup here doesn't need an actual env.\n",
    "    \"env\": None,\n",
    "    \"observation_space\": model.obs_space,\n",
    "    \"action_space\": model.action_space,\n",
    "    # ...\n",
    "}"
   ]
  },
  {
   "cell_type": "code",
   "execution_count": 6,
   "metadata": {},
   "outputs": [],
   "source": [
    "algo.config = new_config"
   ]
  },
  {
   "cell_type": "code",
   "execution_count": 1,
   "metadata": {},
   "outputs": [
    {
     "ename": "NameError",
     "evalue": "name 'gymnasium' is not defined",
     "output_type": "error",
     "traceback": [
      "\u001b[1;31m---------------------------------------------------------------------------\u001b[0m",
      "\u001b[1;31mNameError\u001b[0m                                 Traceback (most recent call last)",
      "\u001b[1;32mj:\\git\\TensorFlowPSX\\Py\\rrlib.ipynb Cell 24\u001b[0m in \u001b[0;36m1\n\u001b[1;32m----> <a href='vscode-notebook-cell:/j%3A/git/TensorFlowPSX/Py/rrlib.ipynb#X32sZmlsZQ%3D%3D?line=0'>1</a>\u001b[0m env \u001b[39m=\u001b[39m gymnasium\u001b[39m.\u001b[39mmake(\u001b[39m\"\u001b[39m\u001b[39mreal-time-gym-v1\u001b[39m\u001b[39m\"\u001b[39m, config\u001b[39m=\u001b[39mmy_config)\n",
      "\u001b[1;31mNameError\u001b[0m: name 'gymnasium' is not defined"
     ]
    }
   ],
   "source": [
    "env = gymnasium.make(\"real-time-gym-v1\", config=my_config)"
   ]
  },
  {
   "cell_type": "code",
   "execution_count": null,
   "metadata": {},
   "outputs": [],
   "source": [
    "episode_reward = 0\n",
    "terminated = truncated = False\n",
    "obs, info = env.reset()\n",
    "\n",
    "while not terminated and not truncated:\n",
    "    action = algo.compute_single_action(obs)\n",
    "    obs, reward, terminated, truncated, info = env.step(action)\n",
    "    episode_reward += reward"
   ]
  },
  {
   "cell_type": "code",
   "execution_count": 7,
   "metadata": {},
   "outputs": [],
   "source": [
    "import gymnasium.spaces as spaces\n",
    "import numpy as np\n",
    "\n",
    "def get_observation_space():\n",
    "    eClutch = spaces.Box(low=0, high=3, shape=(1,), dtype='float32')\n",
    "    eSpeed = spaces.Box(low=0, high=10000, shape=(1,), dtype='float32')\n",
    "    eGear =  spaces.Box(low=0, high=6, shape=(1,), dtype='float32')\n",
    "    vSpeed = spaces.Box(low=0, high=500, shape=(1,), dtype='float32')\n",
    "    rState = spaces.Box(low=0, high=5, shape=(1,), dtype='float32')\n",
    "    vDir = spaces.Box(low=0, high=3, shape=(1,), dtype='float32')\n",
    "    return spaces.Tuple((rState, eClutch, eSpeed, eGear, vSpeed, vDir))\n",
    "    \n",
    "def get_action_space():\n",
    "    #return spaces.Box(low=-1.0, high=1.0, shape=(3,))\n",
    "    return spaces.Box(low=np.array([0.0, 0.0, -1.0]), high=np.array([1.0, 1.0, 1.0]), dtype='float64')"
   ]
  },
  {
   "cell_type": "code",
   "execution_count": 8,
   "metadata": {},
   "outputs": [],
   "source": [
    "new_config2 = {\n",
    "    # Indicate that the Algorithm we setup here doesn't need an actual env.\n",
    "    \"env\": None,\n",
    "    \"observation_space\": get_observation_space(),\n",
    "    \"action_space\": get_action_space(),\n",
    "    # ...\n",
    "}"
   ]
  },
  {
   "cell_type": "code",
   "execution_count": 9,
   "metadata": {},
   "outputs": [
    {
     "name": "stdout",
     "output_type": "stream",
     "text": [
      "GT Real Time instantiated\n",
      "GT AI Server instantiated for rtgym\n",
      "starting up on localhost port 9999\n",
      "Waiting for a connection\n",
      "Connection from ('127.0.0.1', 54304)\n",
      "default SAC action\n"
     ]
    }
   ],
   "source": [
    "env = gymnasium.make(\"real-time-gym-v1\", config=my_config)"
   ]
  },
  {
   "cell_type": "code",
   "execution_count": 12,
   "metadata": {},
   "outputs": [],
   "source": [
    "algo.config = new_config"
   ]
  },
  {
   "cell_type": "code",
   "execution_count": 13,
   "metadata": {},
   "outputs": [
    {
     "name": "stdout",
     "output_type": "stream",
     "text": [
      "reset triggered\n",
      "reload save\n"
     ]
    },
    {
     "ename": "AttributeError",
     "evalue": "'dict' object has no attribute 'normalize_actions'",
     "output_type": "error",
     "traceback": [
      "\u001b[1;31m---------------------------------------------------------------------------\u001b[0m",
      "\u001b[1;31mAttributeError\u001b[0m                            Traceback (most recent call last)",
      "\u001b[1;32mj:\\git\\TensorFlowPSX\\Py\\rrlib.ipynb Cell 27\u001b[0m in \u001b[0;36m6\n\u001b[0;32m      <a href='vscode-notebook-cell:/j%3A/git/TensorFlowPSX/Py/rrlib.ipynb#X46sZmlsZQ%3D%3D?line=2'>3</a>\u001b[0m obs, info \u001b[39m=\u001b[39m env\u001b[39m.\u001b[39mreset()\n\u001b[0;32m      <a href='vscode-notebook-cell:/j%3A/git/TensorFlowPSX/Py/rrlib.ipynb#X46sZmlsZQ%3D%3D?line=4'>5</a>\u001b[0m \u001b[39mwhile\u001b[39;00m \u001b[39mnot\u001b[39;00m terminated \u001b[39mand\u001b[39;00m \u001b[39mnot\u001b[39;00m truncated:\n\u001b[1;32m----> <a href='vscode-notebook-cell:/j%3A/git/TensorFlowPSX/Py/rrlib.ipynb#X46sZmlsZQ%3D%3D?line=5'>6</a>\u001b[0m     action \u001b[39m=\u001b[39m algo\u001b[39m.\u001b[39;49mcompute_single_action(obs)\n\u001b[0;32m      <a href='vscode-notebook-cell:/j%3A/git/TensorFlowPSX/Py/rrlib.ipynb#X46sZmlsZQ%3D%3D?line=6'>7</a>\u001b[0m     obs, reward, terminated, truncated, info \u001b[39m=\u001b[39m env\u001b[39m.\u001b[39mstep(action)\n\u001b[0;32m      <a href='vscode-notebook-cell:/j%3A/git/TensorFlowPSX/Py/rrlib.ipynb#X46sZmlsZQ%3D%3D?line=7'>8</a>\u001b[0m     episode_reward \u001b[39m+\u001b[39m\u001b[39m=\u001b[39m reward\n",
      "File \u001b[1;32mc:\\Users\\nadir\\anaconda3\\envs\\GTAI2\\lib\\site-packages\\ray\\rllib\\algorithms\\algorithm.py:1488\u001b[0m, in \u001b[0;36mAlgorithm.compute_single_action\u001b[1;34m(self, observation, state, prev_action, prev_reward, info, input_dict, policy_id, full_fetch, explore, timestep, episode, unsquash_action, clip_action, unsquash_actions, clip_actions, **kwargs)\u001b[0m\n\u001b[0;32m   1486\u001b[0m \u001b[39m# `unsquash_action` is None: Use value of config['normalize_actions'].\u001b[39;00m\n\u001b[0;32m   1487\u001b[0m \u001b[39mif\u001b[39;00m unsquash_action \u001b[39mis\u001b[39;00m \u001b[39mNone\u001b[39;00m:\n\u001b[1;32m-> 1488\u001b[0m     unsquash_action \u001b[39m=\u001b[39m \u001b[39mself\u001b[39;49m\u001b[39m.\u001b[39;49mconfig\u001b[39m.\u001b[39;49mnormalize_actions\n\u001b[0;32m   1489\u001b[0m \u001b[39m# `clip_action` is None: Use value of config['clip_actions'].\u001b[39;00m\n\u001b[0;32m   1490\u001b[0m \u001b[39melif\u001b[39;00m clip_action \u001b[39mis\u001b[39;00m \u001b[39mNone\u001b[39;00m:\n",
      "\u001b[1;31mAttributeError\u001b[0m: 'dict' object has no attribute 'normalize_actions'"
     ]
    },
    {
     "name": "stderr",
     "output_type": "stream",
     "text": [
      "c:\\Users\\nadir\\anaconda3\\envs\\GTAI2\\lib\\site-packages\\rtgym\\envs\\real_time_env.py:376: UserWarning: Time-step timed out. Elapsed since last time-step: 56.27680129999999\n",
      "  warnings.warn(f\"Time-step timed out. Elapsed since last time-step: {now - self.__t_end}\")\n"
     ]
    }
   ],
   "source": [
    "episode_reward = 0\n",
    "terminated = truncated = False\n",
    "obs, info = env.reset()\n",
    "\n",
    "while not terminated and not truncated:\n",
    "    action = algo.compute_single_action(obs)\n",
    "    obs, reward, terminated, truncated, info = env.step(action)\n",
    "    episode_reward += reward"
   ]
  },
  {
   "attachments": {},
   "cell_type": "markdown",
   "metadata": {},
   "source": [
    "Try using savepoints"
   ]
  },
  {
   "cell_type": "code",
   "execution_count": 22,
   "metadata": {},
   "outputs": [
    {
     "name": "stderr",
     "output_type": "stream",
     "text": [
      "2023-05-13 23:15:03,727\tINFO algorithm.py:506 -- Current log_level is WARN. For more information, set 'log_level': 'INFO' / 'DEBUG' or use the -v and -vv flags.\n",
      "2023-05-13 23:15:06,293\tINFO worker.py:1544 -- Started a local Ray instance. View the dashboard at \u001b[1m\u001b[32m127.0.0.1:8266 \u001b[39m\u001b[22m\n",
      "2023-05-13 23:15:13,439\tERROR actor_manager.py:496 -- Ray error, taking actor 1 out of service. The actor died because of an error raised in its creation task, \u001b[36mray::RolloutWorker.__init__()\u001b[39m (pid=21412, ip=127.0.0.1, repr=<ray.rllib.evaluation.rollout_worker.RolloutWorker object at 0x00000254018892E0>)\n",
      "  File \"c:\\Users\\nadir\\anaconda3\\envs\\GTAI2\\lib\\site-packages\\gymnasium\\envs\\registration.py\", line 569, in make\n",
      "    _check_version_exists(ns, name, version)\n",
      "  File \"c:\\Users\\nadir\\anaconda3\\envs\\GTAI2\\lib\\site-packages\\gymnasium\\envs\\registration.py\", line 219, in _check_version_exists\n",
      "    _check_name_exists(ns, name)\n",
      "  File \"c:\\Users\\nadir\\anaconda3\\envs\\GTAI2\\lib\\site-packages\\gymnasium\\envs\\registration.py\", line 197, in _check_name_exists\n",
      "    raise error.NameNotFound(\n",
      "gymnasium.error.NameNotFound: Environment gt-rtgym-env doesn't exist. \n",
      "\n",
      "During handling of the above exception, another exception occurred:\n",
      "\n",
      "\u001b[36mray::RolloutWorker.__init__()\u001b[39m (pid=21412, ip=127.0.0.1, repr=<ray.rllib.evaluation.rollout_worker.RolloutWorker object at 0x00000254018892E0>)\n",
      "  File \"python\\ray\\_raylet.pyx\", line 850, in ray._raylet.execute_task\n",
      "  File \"python\\ray\\_raylet.pyx\", line 902, in ray._raylet.execute_task\n",
      "  File \"python\\ray\\_raylet.pyx\", line 857, in ray._raylet.execute_task\n",
      "  File \"python\\ray\\_raylet.pyx\", line 861, in ray._raylet.execute_task\n",
      "  File \"python\\ray\\_raylet.pyx\", line 803, in ray._raylet.execute_task.function_executor\n",
      "  File \"c:\\Users\\nadir\\anaconda3\\envs\\GTAI2\\lib\\site-packages\\ray\\_private\\function_manager.py\", line 674, in actor_method_executor\n",
      "    return method(__ray_actor, *args, **kwargs)\n",
      "  File \"c:\\Users\\nadir\\anaconda3\\envs\\GTAI2\\lib\\site-packages\\ray\\util\\tracing\\tracing_helper.py\", line 466, in _resume_span\n",
      "    return method(self, *_args, **_kwargs)\n",
      "  File \"c:\\Users\\nadir\\anaconda3\\envs\\GTAI2\\lib\\site-packages\\ray\\rllib\\evaluation\\rollout_worker.py\", line 607, in __init__\n",
      "    self.env = env_creator(copy.deepcopy(self.env_context))\n",
      "  File \"c:\\Users\\nadir\\anaconda3\\envs\\GTAI2\\lib\\site-packages\\ray\\rllib\\env\\utils.py\", line 178, in _gym_env_creator\n",
      "    raise EnvError(ERR_MSG_INVALID_ENV_DESCRIPTOR.format(env_descriptor))\n",
      "ray.rllib.utils.error.EnvError: The env string you provided ('gt-rtgym-env-v1') is:\n",
      "a) Not a supported/installed environment.\n",
      "b) Not a tune-registered environment creator.\n",
      "c) Not a valid env class string.\n",
      "\n",
      "Try one of the following:\n",
      "a) For Atari support: `pip install gym[atari] autorom[accept-rom-license]`.\n",
      "   For VizDoom support: Install VizDoom\n",
      "   (https://github.com/mwydmuch/ViZDoom/blob/master/doc/Building.md) and\n",
      "   `pip install vizdoomgym`.\n",
      "   For PyBullet support: `pip install pybullet`.\n",
      "b) To register your custom env, do `from ray import tune;\n",
      "   tune.register('[name]', lambda cfg: [return env obj from here using cfg])`.\n",
      "   Then in your config, do `config['env'] = [name]`.\n",
      "c) Make sure you provide a fully qualified classpath, e.g.:\n",
      "   `ray.rllib.examples.env.repeat_after_me_env.RepeatAfterMeEnv`\n",
      "\u001b[2m\u001b[36m(RolloutWorker pid=21412)\u001b[0m 2023-05-13 23:15:13,432\tERROR worker.py:772 -- Exception raised in creation task: The actor died because of an error raised in its creation task, \u001b[36mray::RolloutWorker.__init__()\u001b[39m (pid=21412, ip=127.0.0.1, repr=<ray.rllib.evaluation.rollout_worker.RolloutWorker object at 0x00000254018892E0>)\n",
      "\u001b[2m\u001b[36m(RolloutWorker pid=21412)\u001b[0m   File \"c:\\Users\\nadir\\anaconda3\\envs\\GTAI2\\lib\\site-packages\\gymnasium\\envs\\registration.py\", line 569, in make\n",
      "\u001b[2m\u001b[36m(RolloutWorker pid=21412)\u001b[0m     _check_version_exists(ns, name, version)\n",
      "\u001b[2m\u001b[36m(RolloutWorker pid=21412)\u001b[0m   File \"c:\\Users\\nadir\\anaconda3\\envs\\GTAI2\\lib\\site-packages\\gymnasium\\envs\\registration.py\", line 219, in _check_version_exists\n",
      "\u001b[2m\u001b[36m(RolloutWorker pid=21412)\u001b[0m     _check_name_exists(ns, name)\n",
      "\u001b[2m\u001b[36m(RolloutWorker pid=21412)\u001b[0m   File \"c:\\Users\\nadir\\anaconda3\\envs\\GTAI2\\lib\\site-packages\\gymnasium\\envs\\registration.py\", line 197, in _check_name_exists\n",
      "\u001b[2m\u001b[36m(RolloutWorker pid=21412)\u001b[0m     raise error.NameNotFound(\n",
      "\u001b[2m\u001b[36m(RolloutWorker pid=21412)\u001b[0m gymnasium.error.NameNotFound: Environment gt-rtgym-env doesn't exist. \n",
      "\u001b[2m\u001b[36m(RolloutWorker pid=21412)\u001b[0m \n",
      "\u001b[2m\u001b[36m(RolloutWorker pid=21412)\u001b[0m During handling of the above exception, another exception occurred:\n",
      "\u001b[2m\u001b[36m(RolloutWorker pid=21412)\u001b[0m \n",
      "\u001b[2m\u001b[36m(RolloutWorker pid=21412)\u001b[0m \u001b[36mray::RolloutWorker.__init__()\u001b[39m (pid=21412, ip=127.0.0.1, repr=<ray.rllib.evaluation.rollout_worker.RolloutWorker object at 0x00000254018892E0>)\n",
      "\u001b[2m\u001b[36m(RolloutWorker pid=21412)\u001b[0m   File \"python\\ray\\_raylet.pyx\", line 850, in ray._raylet.execute_task\n",
      "\u001b[2m\u001b[36m(RolloutWorker pid=21412)\u001b[0m   File \"python\\ray\\_raylet.pyx\", line 902, in ray._raylet.execute_task\n",
      "\u001b[2m\u001b[36m(RolloutWorker pid=21412)\u001b[0m   File \"python\\ray\\_raylet.pyx\", line 857, in ray._raylet.execute_task\n",
      "\u001b[2m\u001b[36m(RolloutWorker pid=21412)\u001b[0m   File \"python\\ray\\_raylet.pyx\", line 861, in ray._raylet.execute_task\n",
      "\u001b[2m\u001b[36m(RolloutWorker pid=21412)\u001b[0m   File \"python\\ray\\_raylet.pyx\", line 803, in ray._raylet.execute_task.function_executor\n",
      "\u001b[2m\u001b[36m(RolloutWorker pid=21412)\u001b[0m   File \"c:\\Users\\nadir\\anaconda3\\envs\\GTAI2\\lib\\site-packages\\ray\\_private\\function_manager.py\", line 674, in actor_method_executor\n",
      "\u001b[2m\u001b[36m(RolloutWorker pid=21412)\u001b[0m     return method(__ray_actor, *args, **kwargs)\n",
      "\u001b[2m\u001b[36m(RolloutWorker pid=21412)\u001b[0m   File \"c:\\Users\\nadir\\anaconda3\\envs\\GTAI2\\lib\\site-packages\\ray\\util\\tracing\\tracing_helper.py\", line 466, in _resume_span\n",
      "\u001b[2m\u001b[36m(RolloutWorker pid=21412)\u001b[0m     return method(self, *_args, **_kwargs)\n",
      "\u001b[2m\u001b[36m(RolloutWorker pid=21412)\u001b[0m   File \"c:\\Users\\nadir\\anaconda3\\envs\\GTAI2\\lib\\site-packages\\ray\\rllib\\evaluation\\rollout_worker.py\", line 607, in __init__\n",
      "\u001b[2m\u001b[36m(RolloutWorker pid=21412)\u001b[0m     self.env = env_creator(copy.deepcopy(self.env_context))\n",
      "\u001b[2m\u001b[36m(RolloutWorker pid=21412)\u001b[0m   File \"c:\\Users\\nadir\\anaconda3\\envs\\GTAI2\\lib\\site-packages\\ray\\rllib\\env\\utils.py\", line 178, in _gym_env_creator\n",
      "\u001b[2m\u001b[36m(RolloutWorker pid=21412)\u001b[0m     raise EnvError(ERR_MSG_INVALID_ENV_DESCRIPTOR.format(env_descriptor))\n",
      "\u001b[2m\u001b[36m(RolloutWorker pid=21412)\u001b[0m ray.rllib.utils.error.EnvError: The env string you provided ('gt-rtgym-env-v1') is:\n",
      "\u001b[2m\u001b[36m(RolloutWorker pid=21412)\u001b[0m a) Not a supported/installed environment.\n",
      "\u001b[2m\u001b[36m(RolloutWorker pid=21412)\u001b[0m b) Not a tune-registered environment creator.\n",
      "\u001b[2m\u001b[36m(RolloutWorker pid=21412)\u001b[0m c) Not a valid env class string.\n",
      "\u001b[2m\u001b[36m(RolloutWorker pid=21412)\u001b[0m \n",
      "\u001b[2m\u001b[36m(RolloutWorker pid=21412)\u001b[0m Try one of the following:\n",
      "\u001b[2m\u001b[36m(RolloutWorker pid=21412)\u001b[0m a) For Atari support: `pip install gym[atari] autorom[accept-rom-license]`.\n",
      "\u001b[2m\u001b[36m(RolloutWorker pid=21412)\u001b[0m    For VizDoom support: Install VizDoom\n",
      "\u001b[2m\u001b[36m(RolloutWorker pid=21412)\u001b[0m    (https://github.com/mwydmuch/ViZDoom/blob/master/doc/Building.md) and\n",
      "\u001b[2m\u001b[36m(RolloutWorker pid=21412)\u001b[0m    `pip install vizdoomgym`.\n",
      "\u001b[2m\u001b[36m(RolloutWorker pid=21412)\u001b[0m    For PyBullet support: `pip install pybullet`.\n",
      "\u001b[2m\u001b[36m(RolloutWorker pid=21412)\u001b[0m b) To register your custom env, do `from ray import tune;\n",
      "\u001b[2m\u001b[36m(RolloutWorker pid=21412)\u001b[0m    tune.register('[name]', lambda cfg: [return env obj from here using cfg])`.\n",
      "\u001b[2m\u001b[36m(RolloutWorker pid=21412)\u001b[0m    Then in your config, do `config['env'] = [name]`.\n",
      "\u001b[2m\u001b[36m(RolloutWorker pid=21412)\u001b[0m c) Make sure you provide a fully qualified classpath, e.g.:\n",
      "\u001b[2m\u001b[36m(RolloutWorker pid=21412)\u001b[0m    `ray.rllib.examples.env.repeat_after_me_env.RepeatAfterMeEnv`\n"
     ]
    },
    {
     "ename": "EnvError",
     "evalue": "The env string you provided ('gt-rtgym-env-v1') is:\na) Not a supported/installed environment.\nb) Not a tune-registered environment creator.\nc) Not a valid env class string.\n\nTry one of the following:\na) For Atari support: `pip install gym[atari] autorom[accept-rom-license]`.\n   For VizDoom support: Install VizDoom\n   (https://github.com/mwydmuch/ViZDoom/blob/master/doc/Building.md) and\n   `pip install vizdoomgym`.\n   For PyBullet support: `pip install pybullet`.\nb) To register your custom env, do `from ray import tune;\n   tune.register('[name]', lambda cfg: [return env obj from here using cfg])`.\n   Then in your config, do `config['env'] = [name]`.\nc) Make sure you provide a fully qualified classpath, e.g.:\n   `ray.rllib.examples.env.repeat_after_me_env.RepeatAfterMeEnv`\n",
     "output_type": "error",
     "traceback": [
      "\u001b[1;31m---------------------------------------------------------------------------\u001b[0m",
      "\u001b[1;31mRayActorError\u001b[0m                             Traceback (most recent call last)",
      "File \u001b[1;32mc:\\Users\\nadir\\anaconda3\\envs\\GTAI2\\lib\\site-packages\\ray\\rllib\\evaluation\\worker_set.py:170\u001b[0m, in \u001b[0;36mWorkerSet.__init__\u001b[1;34m(self, env_creator, validate_env, default_policy_class, config, num_workers, local_worker, logdir, _setup, policy_class, trainer_config)\u001b[0m\n\u001b[0;32m    169\u001b[0m \u001b[39mtry\u001b[39;00m:\n\u001b[1;32m--> 170\u001b[0m     \u001b[39mself\u001b[39;49m\u001b[39m.\u001b[39;49m_setup(\n\u001b[0;32m    171\u001b[0m         validate_env\u001b[39m=\u001b[39;49mvalidate_env,\n\u001b[0;32m    172\u001b[0m         config\u001b[39m=\u001b[39;49mconfig,\n\u001b[0;32m    173\u001b[0m         num_workers\u001b[39m=\u001b[39;49mnum_workers,\n\u001b[0;32m    174\u001b[0m         local_worker\u001b[39m=\u001b[39;49mlocal_worker,\n\u001b[0;32m    175\u001b[0m     )\n\u001b[0;32m    176\u001b[0m \u001b[39m# WorkerSet creation possibly fails, if some (remote) workers cannot\u001b[39;00m\n\u001b[0;32m    177\u001b[0m \u001b[39m# be initialized properly (due to some errors in the RolloutWorker's\u001b[39;00m\n\u001b[0;32m    178\u001b[0m \u001b[39m# constructor).\u001b[39;00m\n",
      "File \u001b[1;32mc:\\Users\\nadir\\anaconda3\\envs\\GTAI2\\lib\\site-packages\\ray\\rllib\\evaluation\\worker_set.py:240\u001b[0m, in \u001b[0;36mWorkerSet._setup\u001b[1;34m(self, validate_env, config, num_workers, local_worker)\u001b[0m\n\u001b[0;32m    239\u001b[0m \u001b[39m# Create a number of @ray.remote workers.\u001b[39;00m\n\u001b[1;32m--> 240\u001b[0m \u001b[39mself\u001b[39;49m\u001b[39m.\u001b[39;49madd_workers(\n\u001b[0;32m    241\u001b[0m     num_workers,\n\u001b[0;32m    242\u001b[0m     validate\u001b[39m=\u001b[39;49mconfig\u001b[39m.\u001b[39;49mvalidate_workers_after_construction,\n\u001b[0;32m    243\u001b[0m )\n\u001b[0;32m    245\u001b[0m \u001b[39m# If num_workers > 0 and we don't have an env on the local worker,\u001b[39;00m\n\u001b[0;32m    246\u001b[0m \u001b[39m# get the observation- and action spaces for each policy from\u001b[39;00m\n\u001b[0;32m    247\u001b[0m \u001b[39m# the first remote worker (which does have an env).\u001b[39;00m\n",
      "File \u001b[1;32mc:\\Users\\nadir\\anaconda3\\envs\\GTAI2\\lib\\site-packages\\ray\\rllib\\evaluation\\worker_set.py:614\u001b[0m, in \u001b[0;36mWorkerSet.add_workers\u001b[1;34m(self, num_workers, validate)\u001b[0m\n\u001b[0;32m    613\u001b[0m \u001b[39mif\u001b[39;00m \u001b[39mnot\u001b[39;00m result\u001b[39m.\u001b[39mok:\n\u001b[1;32m--> 614\u001b[0m     \u001b[39mraise\u001b[39;00m result\u001b[39m.\u001b[39mget()\n",
      "File \u001b[1;32mc:\\Users\\nadir\\anaconda3\\envs\\GTAI2\\lib\\site-packages\\ray\\rllib\\utils\\actor_manager.py:477\u001b[0m, in \u001b[0;36mFaultTolerantActorManager.__fetch_result\u001b[1;34m(self, remote_actor_ids, remote_calls, timeout_seconds, return_obj_refs, mark_healthy)\u001b[0m\n\u001b[0;32m    476\u001b[0m \u001b[39mtry\u001b[39;00m:\n\u001b[1;32m--> 477\u001b[0m     result \u001b[39m=\u001b[39m ray\u001b[39m.\u001b[39;49mget(r)\n\u001b[0;32m    478\u001b[0m     remote_results\u001b[39m.\u001b[39madd_result(actor_id, ResultOrError(result\u001b[39m=\u001b[39mresult))\n",
      "File \u001b[1;32mc:\\Users\\nadir\\anaconda3\\envs\\GTAI2\\lib\\site-packages\\ray\\_private\\client_mode_hook.py:105\u001b[0m, in \u001b[0;36mclient_mode_hook.<locals>.wrapper\u001b[1;34m(*args, **kwargs)\u001b[0m\n\u001b[0;32m    104\u001b[0m         \u001b[39mreturn\u001b[39;00m \u001b[39mgetattr\u001b[39m(ray, func\u001b[39m.\u001b[39m\u001b[39m__name__\u001b[39m)(\u001b[39m*\u001b[39margs, \u001b[39m*\u001b[39m\u001b[39m*\u001b[39mkwargs)\n\u001b[1;32m--> 105\u001b[0m \u001b[39mreturn\u001b[39;00m func(\u001b[39m*\u001b[39margs, \u001b[39m*\u001b[39m\u001b[39m*\u001b[39mkwargs)\n",
      "File \u001b[1;32mc:\\Users\\nadir\\anaconda3\\envs\\GTAI2\\lib\\site-packages\\ray\\_private\\worker.py:2382\u001b[0m, in \u001b[0;36mget\u001b[1;34m(object_refs, timeout)\u001b[0m\n\u001b[0;32m   2381\u001b[0m         \u001b[39melse\u001b[39;00m:\n\u001b[1;32m-> 2382\u001b[0m             \u001b[39mraise\u001b[39;00m value\n\u001b[0;32m   2384\u001b[0m \u001b[39mif\u001b[39;00m is_individual_id:\n",
      "\u001b[1;31mRayActorError\u001b[0m: The actor died because of an error raised in its creation task, \u001b[36mray::RolloutWorker.__init__()\u001b[39m (pid=21412, ip=127.0.0.1, repr=<ray.rllib.evaluation.rollout_worker.RolloutWorker object at 0x00000254018892E0>)\n  File \"c:\\Users\\nadir\\anaconda3\\envs\\GTAI2\\lib\\site-packages\\gymnasium\\envs\\registration.py\", line 569, in make\n    _check_version_exists(ns, name, version)\n  File \"c:\\Users\\nadir\\anaconda3\\envs\\GTAI2\\lib\\site-packages\\gymnasium\\envs\\registration.py\", line 219, in _check_version_exists\n    _check_name_exists(ns, name)\n  File \"c:\\Users\\nadir\\anaconda3\\envs\\GTAI2\\lib\\site-packages\\gymnasium\\envs\\registration.py\", line 197, in _check_name_exists\n    raise error.NameNotFound(\ngymnasium.error.NameNotFound: Environment gt-rtgym-env doesn't exist. \n\nDuring handling of the above exception, another exception occurred:\n\n\u001b[36mray::RolloutWorker.__init__()\u001b[39m (pid=21412, ip=127.0.0.1, repr=<ray.rllib.evaluation.rollout_worker.RolloutWorker object at 0x00000254018892E0>)\n  File \"python\\ray\\_raylet.pyx\", line 850, in ray._raylet.execute_task\n  File \"python\\ray\\_raylet.pyx\", line 902, in ray._raylet.execute_task\n  File \"python\\ray\\_raylet.pyx\", line 857, in ray._raylet.execute_task\n  File \"python\\ray\\_raylet.pyx\", line 861, in ray._raylet.execute_task\n  File \"python\\ray\\_raylet.pyx\", line 803, in ray._raylet.execute_task.function_executor\n  File \"c:\\Users\\nadir\\anaconda3\\envs\\GTAI2\\lib\\site-packages\\ray\\_private\\function_manager.py\", line 674, in actor_method_executor\n    return method(__ray_actor, *args, **kwargs)\n  File \"c:\\Users\\nadir\\anaconda3\\envs\\GTAI2\\lib\\site-packages\\ray\\util\\tracing\\tracing_helper.py\", line 466, in _resume_span\n    return method(self, *_args, **_kwargs)\n  File \"c:\\Users\\nadir\\anaconda3\\envs\\GTAI2\\lib\\site-packages\\ray\\rllib\\evaluation\\rollout_worker.py\", line 607, in __init__\n    self.env = env_creator(copy.deepcopy(self.env_context))\n  File \"c:\\Users\\nadir\\anaconda3\\envs\\GTAI2\\lib\\site-packages\\ray\\rllib\\env\\utils.py\", line 178, in _gym_env_creator\n    raise EnvError(ERR_MSG_INVALID_ENV_DESCRIPTOR.format(env_descriptor))\nray.rllib.utils.error.EnvError: The env string you provided ('gt-rtgym-env-v1') is:\na) Not a supported/installed environment.\nb) Not a tune-registered environment creator.\nc) Not a valid env class string.\n\nTry one of the following:\na) For Atari support: `pip install gym[atari] autorom[accept-rom-license]`.\n   For VizDoom support: Install VizDoom\n   (https://github.com/mwydmuch/ViZDoom/blob/master/doc/Building.md) and\n   `pip install vizdoomgym`.\n   For PyBullet support: `pip install pybullet`.\nb) To register your custom env, do `from ray import tune;\n   tune.register('[name]', lambda cfg: [return env obj from here using cfg])`.\n   Then in your config, do `config['env'] = [name]`.\nc) Make sure you provide a fully qualified classpath, e.g.:\n   `ray.rllib.examples.env.repeat_after_me_env.RepeatAfterMeEnv`",
      "\nDuring handling of the above exception, another exception occurred:\n",
      "\u001b[1;31mEnvError\u001b[0m                                  Traceback (most recent call last)",
      "\u001b[1;32mj:\\git\\TensorFlowPSX\\Py\\rrlib.ipynb Cell 18\u001b[0m in \u001b[0;36m2\n\u001b[0;32m      <a href='vscode-notebook-cell:/j%3A/git/TensorFlowPSX/Py/rrlib.ipynb#X32sZmlsZQ%3D%3D?line=0'>1</a>\u001b[0m \u001b[39mfrom\u001b[39;00m \u001b[39mray\u001b[39;00m\u001b[39m.\u001b[39;00m\u001b[39mrllib\u001b[39;00m\u001b[39m.\u001b[39;00m\u001b[39malgorithms\u001b[39;00m\u001b[39m.\u001b[39;00m\u001b[39malgorithm\u001b[39;00m \u001b[39mimport\u001b[39;00m Algorithm\n\u001b[1;32m----> <a href='vscode-notebook-cell:/j%3A/git/TensorFlowPSX/Py/rrlib.ipynb#X32sZmlsZQ%3D%3D?line=1'>2</a>\u001b[0m agent \u001b[39m=\u001b[39m Algorithm\u001b[39m.\u001b[39;49mfrom_checkpoint(\u001b[39m\"\u001b[39;49m\u001b[39mC:/Users/nadir/ray_results/PPO_gt-rtgym-env-v1_2023-05-13_00-31-13_kmaa6ii/checkpoint_000161\u001b[39;49m\u001b[39m\"\u001b[39;49m)\n",
      "File \u001b[1;32mc:\\Users\\nadir\\anaconda3\\envs\\GTAI2\\lib\\site-packages\\ray\\rllib\\algorithms\\algorithm.py:281\u001b[0m, in \u001b[0;36mAlgorithm.from_checkpoint\u001b[1;34m(checkpoint, policy_ids, policy_mapping_fn, policies_to_train)\u001b[0m\n\u001b[0;32m    268\u001b[0m     \u001b[39mraise\u001b[39;00m \u001b[39mValueError\u001b[39;00m(\n\u001b[0;32m    269\u001b[0m         \u001b[39m\"\u001b[39m\u001b[39m`checkpoint_info[\u001b[39m\u001b[39m'\u001b[39m\u001b[39mcheckpoint_version\u001b[39m\u001b[39m'\u001b[39m\u001b[39m]` in `Algorithm.from_checkpoint\u001b[39m\u001b[39m\"\u001b[39m\n\u001b[0;32m    270\u001b[0m         \u001b[39m\"\u001b[39m\u001b[39m()` must be 1.0 or later! You are using a checkpoint with \u001b[39m\u001b[39m\"\u001b[39m\n\u001b[0;32m    271\u001b[0m         \u001b[39mf\u001b[39m\u001b[39m\"\u001b[39m\u001b[39mversion v\u001b[39m\u001b[39m{\u001b[39;00mcheckpoint_info[\u001b[39m'\u001b[39m\u001b[39mcheckpoint_version\u001b[39m\u001b[39m'\u001b[39m]\u001b[39m}\u001b[39;00m\u001b[39m.\u001b[39m\u001b[39m\"\u001b[39m\n\u001b[0;32m    272\u001b[0m     )\n\u001b[0;32m    274\u001b[0m state \u001b[39m=\u001b[39m Algorithm\u001b[39m.\u001b[39m_checkpoint_info_to_algorithm_state(\n\u001b[0;32m    275\u001b[0m     checkpoint_info\u001b[39m=\u001b[39mcheckpoint_info,\n\u001b[0;32m    276\u001b[0m     policy_ids\u001b[39m=\u001b[39mpolicy_ids,\n\u001b[0;32m    277\u001b[0m     policy_mapping_fn\u001b[39m=\u001b[39mpolicy_mapping_fn,\n\u001b[0;32m    278\u001b[0m     policies_to_train\u001b[39m=\u001b[39mpolicies_to_train,\n\u001b[0;32m    279\u001b[0m )\n\u001b[1;32m--> 281\u001b[0m \u001b[39mreturn\u001b[39;00m Algorithm\u001b[39m.\u001b[39;49mfrom_state(state)\n",
      "File \u001b[1;32mc:\\Users\\nadir\\anaconda3\\envs\\GTAI2\\lib\\site-packages\\ray\\rllib\\algorithms\\algorithm.py:309\u001b[0m, in \u001b[0;36mAlgorithm.from_state\u001b[1;34m(state)\u001b[0m\n\u001b[0;32m    307\u001b[0m \u001b[39mif\u001b[39;00m \u001b[39mnot\u001b[39;00m config:\n\u001b[0;32m    308\u001b[0m     \u001b[39mraise\u001b[39;00m \u001b[39mValueError\u001b[39;00m(\u001b[39m\"\u001b[39m\u001b[39mNo `config` found in given Algorithm state!\u001b[39m\u001b[39m\"\u001b[39m)\n\u001b[1;32m--> 309\u001b[0m new_algo \u001b[39m=\u001b[39m algorithm_class(config\u001b[39m=\u001b[39;49mconfig)\n\u001b[0;32m    310\u001b[0m \u001b[39m# Set the new algo's state.\u001b[39;00m\n\u001b[0;32m    311\u001b[0m new_algo\u001b[39m.\u001b[39m__setstate__(state)\n",
      "File \u001b[1;32mc:\\Users\\nadir\\anaconda3\\envs\\GTAI2\\lib\\site-packages\\ray\\rllib\\algorithms\\algorithm.py:445\u001b[0m, in \u001b[0;36mAlgorithm.__init__\u001b[1;34m(self, config, env, logger_creator, **kwargs)\u001b[0m\n\u001b[0;32m    433\u001b[0m \u001b[39m# Initialize common evaluation_metrics to nan, before they become\u001b[39;00m\n\u001b[0;32m    434\u001b[0m \u001b[39m# available. We want to make sure the metrics are always present\u001b[39;00m\n\u001b[0;32m    435\u001b[0m \u001b[39m# (although their values may be nan), so that Tune does not complain\u001b[39;00m\n\u001b[0;32m    436\u001b[0m \u001b[39m# when we use these as stopping criteria.\u001b[39;00m\n\u001b[0;32m    437\u001b[0m \u001b[39mself\u001b[39m\u001b[39m.\u001b[39mevaluation_metrics \u001b[39m=\u001b[39m {\n\u001b[0;32m    438\u001b[0m     \u001b[39m\"\u001b[39m\u001b[39mevaluation\u001b[39m\u001b[39m\"\u001b[39m: {\n\u001b[0;32m    439\u001b[0m         \u001b[39m\"\u001b[39m\u001b[39mepisode_reward_max\u001b[39m\u001b[39m\"\u001b[39m: np\u001b[39m.\u001b[39mnan,\n\u001b[1;32m   (...)\u001b[0m\n\u001b[0;32m    442\u001b[0m     }\n\u001b[0;32m    443\u001b[0m }\n\u001b[1;32m--> 445\u001b[0m \u001b[39msuper\u001b[39m()\u001b[39m.\u001b[39m\u001b[39m__init__\u001b[39m(\n\u001b[0;32m    446\u001b[0m     config\u001b[39m=\u001b[39mconfig,\n\u001b[0;32m    447\u001b[0m     logger_creator\u001b[39m=\u001b[39mlogger_creator,\n\u001b[0;32m    448\u001b[0m     \u001b[39m*\u001b[39m\u001b[39m*\u001b[39mkwargs,\n\u001b[0;32m    449\u001b[0m )\n\u001b[0;32m    451\u001b[0m \u001b[39m# Check, whether `training_iteration` is still a tune.Trainable property\u001b[39;00m\n\u001b[0;32m    452\u001b[0m \u001b[39m# and has not been overridden by the user in the attempt to implement the\u001b[39;00m\n\u001b[0;32m    453\u001b[0m \u001b[39m# algos logic (this should be done now inside `training_step`).\u001b[39;00m\n\u001b[0;32m    454\u001b[0m \u001b[39mtry\u001b[39;00m:\n",
      "File \u001b[1;32mc:\\Users\\nadir\\anaconda3\\envs\\GTAI2\\lib\\site-packages\\ray\\tune\\trainable\\trainable.py:169\u001b[0m, in \u001b[0;36mTrainable.__init__\u001b[1;34m(self, config, logger_creator, remote_checkpoint_dir, custom_syncer, sync_timeout)\u001b[0m\n\u001b[0;32m    167\u001b[0m start_time \u001b[39m=\u001b[39m time\u001b[39m.\u001b[39mtime()\n\u001b[0;32m    168\u001b[0m \u001b[39mself\u001b[39m\u001b[39m.\u001b[39m_local_ip \u001b[39m=\u001b[39m ray\u001b[39m.\u001b[39mutil\u001b[39m.\u001b[39mget_node_ip_address()\n\u001b[1;32m--> 169\u001b[0m \u001b[39mself\u001b[39;49m\u001b[39m.\u001b[39;49msetup(copy\u001b[39m.\u001b[39;49mdeepcopy(\u001b[39mself\u001b[39;49m\u001b[39m.\u001b[39;49mconfig))\n\u001b[0;32m    170\u001b[0m setup_time \u001b[39m=\u001b[39m time\u001b[39m.\u001b[39mtime() \u001b[39m-\u001b[39m start_time\n\u001b[0;32m    171\u001b[0m \u001b[39mif\u001b[39;00m setup_time \u001b[39m>\u001b[39m SETUP_TIME_THRESHOLD:\n",
      "File \u001b[1;32mc:\\Users\\nadir\\anaconda3\\envs\\GTAI2\\lib\\site-packages\\ray\\rllib\\algorithms\\algorithm.py:571\u001b[0m, in \u001b[0;36mAlgorithm.setup\u001b[1;34m(self, config)\u001b[0m\n\u001b[0;32m    564\u001b[0m \u001b[39m# Only if user did not override `_init()`:\u001b[39;00m\n\u001b[0;32m    565\u001b[0m \u001b[39mif\u001b[39;00m _init \u001b[39mis\u001b[39;00m \u001b[39mFalse\u001b[39;00m:\n\u001b[0;32m    566\u001b[0m     \u001b[39m# - Create rollout workers here automatically.\u001b[39;00m\n\u001b[0;32m    567\u001b[0m     \u001b[39m# - Run the execution plan to create the local iterator to `next()`\u001b[39;00m\n\u001b[0;32m    568\u001b[0m     \u001b[39m#   in each training iteration.\u001b[39;00m\n\u001b[0;32m    569\u001b[0m     \u001b[39m# This matches the behavior of using `build_trainer()`, which\u001b[39;00m\n\u001b[0;32m    570\u001b[0m     \u001b[39m# has been deprecated.\u001b[39;00m\n\u001b[1;32m--> 571\u001b[0m     \u001b[39mself\u001b[39m\u001b[39m.\u001b[39mworkers \u001b[39m=\u001b[39m WorkerSet(\n\u001b[0;32m    572\u001b[0m         env_creator\u001b[39m=\u001b[39;49m\u001b[39mself\u001b[39;49m\u001b[39m.\u001b[39;49menv_creator,\n\u001b[0;32m    573\u001b[0m         validate_env\u001b[39m=\u001b[39;49m\u001b[39mself\u001b[39;49m\u001b[39m.\u001b[39;49mvalidate_env,\n\u001b[0;32m    574\u001b[0m         default_policy_class\u001b[39m=\u001b[39;49m\u001b[39mself\u001b[39;49m\u001b[39m.\u001b[39;49mget_default_policy_class(\u001b[39mself\u001b[39;49m\u001b[39m.\u001b[39;49mconfig),\n\u001b[0;32m    575\u001b[0m         config\u001b[39m=\u001b[39;49m\u001b[39mself\u001b[39;49m\u001b[39m.\u001b[39;49mconfig,\n\u001b[0;32m    576\u001b[0m         num_workers\u001b[39m=\u001b[39;49m\u001b[39mself\u001b[39;49m\u001b[39m.\u001b[39;49mconfig\u001b[39m.\u001b[39;49mnum_rollout_workers,\n\u001b[0;32m    577\u001b[0m         local_worker\u001b[39m=\u001b[39;49m\u001b[39mTrue\u001b[39;49;00m,\n\u001b[0;32m    578\u001b[0m         logdir\u001b[39m=\u001b[39;49m\u001b[39mself\u001b[39;49m\u001b[39m.\u001b[39;49mlogdir,\n\u001b[0;32m    579\u001b[0m     )\n\u001b[0;32m    581\u001b[0m     \u001b[39m# TODO (avnishn): Remove the execution plan API by q1 2023\u001b[39;00m\n\u001b[0;32m    582\u001b[0m     \u001b[39m# Function defining one single training iteration's behavior.\u001b[39;00m\n\u001b[0;32m    583\u001b[0m     \u001b[39mif\u001b[39;00m \u001b[39mself\u001b[39m\u001b[39m.\u001b[39mconfig\u001b[39m.\u001b[39m_disable_execution_plan_api:\n\u001b[0;32m    584\u001b[0m         \u001b[39m# Ensure remote workers are initially in sync with the local worker.\u001b[39;00m\n",
      "File \u001b[1;32mc:\\Users\\nadir\\anaconda3\\envs\\GTAI2\\lib\\site-packages\\ray\\rllib\\evaluation\\worker_set.py:192\u001b[0m, in \u001b[0;36mWorkerSet.__init__\u001b[1;34m(self, env_creator, validate_env, default_policy_class, config, num_workers, local_worker, logdir, _setup, policy_class, trainer_config)\u001b[0m\n\u001b[0;32m    179\u001b[0m \u001b[39mexcept\u001b[39;00m RayActorError \u001b[39mas\u001b[39;00m e:\n\u001b[0;32m    180\u001b[0m     \u001b[39m# In case of an actor (remote worker) init failure, the remote worker\u001b[39;00m\n\u001b[0;32m    181\u001b[0m     \u001b[39m# may still exist and will be accessible, however, e.g. calling\u001b[39;00m\n\u001b[0;32m    182\u001b[0m     \u001b[39m# its `sample.remote()` would result in strange \"property not found\"\u001b[39;00m\n\u001b[0;32m    183\u001b[0m     \u001b[39m# errors.\u001b[39;00m\n\u001b[0;32m    184\u001b[0m     \u001b[39mif\u001b[39;00m e\u001b[39m.\u001b[39mactor_init_failed:\n\u001b[0;32m    185\u001b[0m         \u001b[39m# Raise the original error here that the RolloutWorker raised\u001b[39;00m\n\u001b[0;32m    186\u001b[0m         \u001b[39m# during its construction process. This is to enforce transparency\u001b[39;00m\n\u001b[1;32m   (...)\u001b[0m\n\u001b[0;32m    190\u001b[0m         \u001b[39m# - e.args[0].args[2]: The original Exception (e.g. a ValueError due\u001b[39;00m\n\u001b[0;32m    191\u001b[0m         \u001b[39m# to a config mismatch) thrown inside the actor.\u001b[39;00m\n\u001b[1;32m--> 192\u001b[0m         \u001b[39mraise\u001b[39;00m e\u001b[39m.\u001b[39margs[\u001b[39m0\u001b[39m]\u001b[39m.\u001b[39margs[\u001b[39m2\u001b[39m]\n\u001b[0;32m    193\u001b[0m     \u001b[39m# In any other case, raise the RayActorError as-is.\u001b[39;00m\n\u001b[0;32m    194\u001b[0m     \u001b[39melse\u001b[39;00m:\n\u001b[0;32m    195\u001b[0m         \u001b[39mraise\u001b[39;00m e\n",
      "\u001b[1;31mEnvError\u001b[0m: The env string you provided ('gt-rtgym-env-v1') is:\na) Not a supported/installed environment.\nb) Not a tune-registered environment creator.\nc) Not a valid env class string.\n\nTry one of the following:\na) For Atari support: `pip install gym[atari] autorom[accept-rom-license]`.\n   For VizDoom support: Install VizDoom\n   (https://github.com/mwydmuch/ViZDoom/blob/master/doc/Building.md) and\n   `pip install vizdoomgym`.\n   For PyBullet support: `pip install pybullet`.\nb) To register your custom env, do `from ray import tune;\n   tune.register('[name]', lambda cfg: [return env obj from here using cfg])`.\n   Then in your config, do `config['env'] = [name]`.\nc) Make sure you provide a fully qualified classpath, e.g.:\n   `ray.rllib.examples.env.repeat_after_me_env.RepeatAfterMeEnv`\n"
     ]
    }
   ],
   "source": [
    "from ray.rllib.algorithms.algorithm import Algorithm\n",
    "agent = Algorithm.from_checkpoint(\"C:/Users/nadir/ray_results/PPO_gt-rtgym-env-v1_2023-05-13_00-31-13_kmaa6ii/checkpoint_000161\")"
   ]
  },
  {
   "cell_type": "code",
   "execution_count": 19,
   "metadata": {},
   "outputs": [
    {
     "name": "stderr",
     "output_type": "stream",
     "text": [
      "2023-05-13 23:10:41,887\tINFO policy.py:1214 -- Policy (worker=local) running on CPU.\n",
      "2023-05-13 23:10:41,887\tINFO torch_policy_v2.py:110 -- Found 1 visible cuda devices.\n"
     ]
    },
    {
     "name": "stdout",
     "output_type": "stream",
     "text": [
      "next\n"
     ]
    }
   ],
   "source": [
    "from ray.rllib.policy.policy import Policy\n",
    "\n",
    "# env = gymnasium.make(\"real-time-gym-v1\")\n",
    "my_restored_policy = Policy.from_checkpoint(\"C:/Users/nadir/ray_results/PPO_gt-rtgym-env-v1_2023-05-13_00-31-13_kmaa6ii/checkpoint_000161\")\n",
    "\n",
    "print(\"next\")\n",
    "\n"
   ]
  },
  {
   "cell_type": "code",
   "execution_count": 3,
   "metadata": {},
   "outputs": [
    {
     "name": "stderr",
     "output_type": "stream",
     "text": [
      "2023-05-13 22:59:01,352\tINFO worker.py:1544 -- Started a local Ray instance. View the dashboard at \u001b[1m\u001b[32m127.0.0.1:8265 \u001b[39m\u001b[22m\n"
     ]
    },
    {
     "data": {
      "text/html": [
       "<div>\n",
       "    <div style=\"margin-left: 50px;display: flex;flex-direction: row;align-items: center\">\n",
       "        <h3 style=\"color: var(--jp-ui-font-color0)\">Ray</h3>\n",
       "        <svg version=\"1.1\" id=\"ray\" width=\"3em\" viewBox=\"0 0 144.5 144.6\" style=\"margin-left: 3em;margin-right: 3em\">\n",
       "            <g id=\"layer-1\">\n",
       "                <path fill=\"#00a2e9\" class=\"st0\" d=\"M97.3,77.2c-3.8-1.1-6.2,0.9-8.3,5.1c-3.5,6.8-9.9,9.9-17.4,9.6S58,88.1,54.8,81.2c-1.4-3-3-4-6.3-4.1\n",
       "                    c-5.6-0.1-9.9,0.1-13.1,6.4c-3.8,7.6-13.6,10.2-21.8,7.6C5.2,88.4-0.4,80.5,0,71.7c0.1-8.4,5.7-15.8,13.8-18.2\n",
       "                    c8.4-2.6,17.5,0.7,22.3,8c1.3,1.9,1.3,5.2,3.6,5.6c3.9,0.6,8,0.2,12,0.2c1.8,0,1.9-1.6,2.4-2.8c3.5-7.8,9.7-11.8,18-11.9\n",
       "                    c8.2-0.1,14.4,3.9,17.8,11.4c1.3,2.8,2.9,3.6,5.7,3.3c1-0.1,2,0.1,3,0c2.8-0.5,6.4,1.7,8.1-2.7s-2.3-5.5-4.1-7.5\n",
       "                    c-5.1-5.7-10.9-10.8-16.1-16.3C84,38,81.9,37.1,78,38.3C66.7,42,56.2,35.7,53,24.1C50.3,14,57.3,2.8,67.7,0.5\n",
       "                    C78.4-2,89,4.7,91.5,15.3c0.1,0.3,0.1,0.5,0.2,0.8c0.7,3.4,0.7,6.9-0.8,9.8c-1.7,3.2-0.8,5,1.5,7.2c6.7,6.5,13.3,13,19.8,19.7\n",
       "                    c1.8,1.8,3,2.1,5.5,1.2c9.1-3.4,17.9-0.6,23.4,7c4.8,6.9,4.6,16.1-0.4,22.9c-5.4,7.2-14.2,9.9-23.1,6.5c-2.3-0.9-3.5-0.6-5.1,1.1\n",
       "                    c-6.7,6.9-13.6,13.7-20.5,20.4c-1.8,1.8-2.5,3.2-1.4,5.9c3.5,8.7,0.3,18.6-7.7,23.6c-7.9,5-18.2,3.8-24.8-2.9\n",
       "                    c-6.4-6.4-7.4-16.2-2.5-24.3c4.9-7.8,14.5-11,23.1-7.8c3,1.1,4.7,0.5,6.9-1.7C91.7,98.4,98,92.3,104.2,86c1.6-1.6,4.1-2.7,2.6-6.2\n",
       "                    c-1.4-3.3-3.8-2.5-6.2-2.6C99.8,77.2,98.9,77.2,97.3,77.2z M72.1,29.7c5.5,0.1,9.9-4.3,10-9.8c0-0.1,0-0.2,0-0.3\n",
       "                    C81.8,14,77,9.8,71.5,10.2c-5,0.3-9,4.2-9.3,9.2c-0.2,5.5,4,10.1,9.5,10.3C71.8,29.7,72,29.7,72.1,29.7z M72.3,62.3\n",
       "                    c-5.4-0.1-9.9,4.2-10.1,9.7c0,0.2,0,0.3,0,0.5c0.2,5.4,4.5,9.7,9.9,10c5.1,0.1,9.9-4.7,10.1-9.8c0.2-5.5-4-10-9.5-10.3\n",
       "                    C72.6,62.3,72.4,62.3,72.3,62.3z M115,72.5c0.1,5.4,4.5,9.7,9.8,9.9c5.6-0.2,10-4.8,10-10.4c-0.2-5.4-4.6-9.7-10-9.7\n",
       "                    c-5.3-0.1-9.8,4.2-9.9,9.5C115,72.1,115,72.3,115,72.5z M19.5,62.3c-5.4,0.1-9.8,4.4-10,9.8c-0.1,5.1,5.2,10.4,10.2,10.3\n",
       "                    c5.6-0.2,10-4.9,9.8-10.5c-0.1-5.4-4.5-9.7-9.9-9.6C19.6,62.3,19.5,62.3,19.5,62.3z M71.8,134.6c5.9,0.2,10.3-3.9,10.4-9.6\n",
       "                    c0.5-5.5-3.6-10.4-9.1-10.8c-5.5-0.5-10.4,3.6-10.8,9.1c0,0.5,0,0.9,0,1.4c-0.2,5.3,4,9.8,9.3,10\n",
       "                    C71.6,134.6,71.7,134.6,71.8,134.6z\"/>\n",
       "            </g>\n",
       "        </svg>\n",
       "        <table>\n",
       "            <tr>\n",
       "                <td style=\"text-align: left\"><b>Python version:</b></td>\n",
       "                <td style=\"text-align: left\"><b>3.9.9</b></td>\n",
       "            </tr>\n",
       "            <tr>\n",
       "                <td style=\"text-align: left\"><b>Ray version:</b></td>\n",
       "                <td style=\"text-align: left\"><b> 2.3.0</b></td>\n",
       "            </tr>\n",
       "            <tr>\n",
       "    <td style=\"text-align: left\"><b>Dashboard:</b></td>\n",
       "    <td style=\"text-align: left\"><b><a href=\"http://127.0.0.1:8265\" target=\"_blank\">http://127.0.0.1:8265</a></b></td>\n",
       "</tr>\n",
       "\n",
       "        </table>\n",
       "    </div>\n",
       "</div>\n"
      ],
      "text/plain": [
       "RayContext(dashboard_url='127.0.0.1:8265', python_version='3.9.9', ray_version='2.3.0', ray_commit='{{RAY_COMMIT_SHA}}', address_info={'node_ip_address': '127.0.0.1', 'raylet_ip_address': '127.0.0.1', 'redis_address': None, 'object_store_address': 'tcp://127.0.0.1:64900', 'raylet_socket_name': 'tcp://127.0.0.1:61982', 'webui_url': '127.0.0.1:8265', 'session_dir': 'C:\\\\Users\\\\nadir\\\\AppData\\\\Local\\\\Temp\\\\ray\\\\session_2023-05-13_22-58-59_187212_17828', 'metrics_export_port': 62797, 'gcs_address': '127.0.0.1:54813', 'address': '127.0.0.1:54813', 'dashboard_agent_listen_port': 52365, 'node_id': 'b8bf1ee44677b1bea157757361c9bae1cb7868773df4333086d09990'})"
      ]
     },
     "execution_count": 3,
     "metadata": {},
     "output_type": "execute_result"
    }
   ],
   "source": [
    "ray.init()"
   ]
  },
  {
   "cell_type": "code",
   "execution_count": 4,
   "metadata": {},
   "outputs": [
    {
     "name": "stdout",
     "output_type": "stream",
     "text": [
      "GT Real Time instantiated\n",
      "GT AI Server instantiated for rtgym\n",
      "starting up on localhost port 9999\n",
      "Waiting for a connection\n",
      "Connection from ('127.0.0.1', 51390)\n",
      "default SAC action\n"
     ]
    }
   ],
   "source": [
    "env = gymnasium.make(\"real-time-gym-v1\", config=my_config)"
   ]
  },
  {
   "cell_type": "code",
   "execution_count": 20,
   "metadata": {},
   "outputs": [
    {
     "name": "stdout",
     "output_type": "stream",
     "text": [
      "reset triggered\n",
      "reload save\n"
     ]
    },
    {
     "name": "stderr",
     "output_type": "stream",
     "text": [
      "c:\\Users\\nadir\\anaconda3\\envs\\GTAI2\\lib\\site-packages\\rtgym\\envs\\real_time_env.py:376: UserWarning: Time-step timed out. Elapsed since last time-step: 354.792402\n",
      "  warnings.warn(f\"Time-step timed out. Elapsed since last time-step: {now - self.__t_end}\")\n"
     ]
    }
   ],
   "source": [
    "episode_reward = 0\n",
    "terminated = truncated = False\n",
    "obs, info = env.reset()"
   ]
  },
  {
   "cell_type": "code",
   "execution_count": 21,
   "metadata": {},
   "outputs": [
    {
     "ename": "AttributeError",
     "evalue": "'dict' object has no attribute 'compute_single_action'",
     "output_type": "error",
     "traceback": [
      "\u001b[1;31m---------------------------------------------------------------------------\u001b[0m",
      "\u001b[1;31mAttributeError\u001b[0m                            Traceback (most recent call last)",
      "\u001b[1;32mj:\\git\\TensorFlowPSX\\Py\\rrlib.ipynb Cell 22\u001b[0m in \u001b[0;36m2\n\u001b[0;32m      <a href='vscode-notebook-cell:/j%3A/git/TensorFlowPSX/Py/rrlib.ipynb#X24sZmlsZQ%3D%3D?line=0'>1</a>\u001b[0m \u001b[39mwhile\u001b[39;00m \u001b[39mnot\u001b[39;00m terminated \u001b[39mand\u001b[39;00m \u001b[39mnot\u001b[39;00m truncated:\n\u001b[1;32m----> <a href='vscode-notebook-cell:/j%3A/git/TensorFlowPSX/Py/rrlib.ipynb#X24sZmlsZQ%3D%3D?line=1'>2</a>\u001b[0m     action \u001b[39m=\u001b[39m my_restored_policy\u001b[39m.\u001b[39;49mcompute_single_action(obs)\n\u001b[0;32m      <a href='vscode-notebook-cell:/j%3A/git/TensorFlowPSX/Py/rrlib.ipynb#X24sZmlsZQ%3D%3D?line=2'>3</a>\u001b[0m     obs, reward, terminated, truncated, info \u001b[39m=\u001b[39m env\u001b[39m.\u001b[39mstep(action)\n\u001b[0;32m      <a href='vscode-notebook-cell:/j%3A/git/TensorFlowPSX/Py/rrlib.ipynb#X24sZmlsZQ%3D%3D?line=3'>4</a>\u001b[0m     episode_reward \u001b[39m+\u001b[39m\u001b[39m=\u001b[39m reward\n",
      "\u001b[1;31mAttributeError\u001b[0m: 'dict' object has no attribute 'compute_single_action'"
     ]
    }
   ],
   "source": [
    "while not terminated and not truncated:\n",
    "    action = my_restored_policy.compute_single_action(obs)\n",
    "    obs, reward, terminated, truncated, info = env.step(action)\n",
    "    episode_reward += reward"
   ]
  }
 ],
 "metadata": {
  "kernelspec": {
   "display_name": "GTAI2",
   "language": "python",
   "name": "python3"
  },
  "language_info": {
   "codemirror_mode": {
    "name": "ipython",
    "version": 3
   },
   "file_extension": ".py",
   "mimetype": "text/x-python",
   "name": "python",
   "nbconvert_exporter": "python",
   "pygments_lexer": "ipython3",
   "version": "3.9.9"
  },
  "orig_nbformat": 4
 },
 "nbformat": 4,
 "nbformat_minor": 2
}

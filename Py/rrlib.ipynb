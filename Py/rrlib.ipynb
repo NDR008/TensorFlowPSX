{
 "cells": [
  {
   "attachments": {},
   "cell_type": "markdown",
   "metadata": {},
   "source": [
    "# Initial AI Agent PPO"
   ]
  },
  {
   "cell_type": "code",
   "execution_count": null,
   "metadata": {},
   "outputs": [],
   "source": [
    "# to read later: https://raw.githubusercontent.com/ray-project/ray/master/rllib/examples/unity3d_env_local.py\n",
    "\n",
    "\n",
    "from myRTClass import MyGranTurismoRTGYM, DEFAULT_CONFIG_DICT\n",
    "import gymnasium\n",
    "import ray\n",
    "from ray.rllib.algorithms import ppo\n",
    "from ray.rllib.algorithms.ppo import PPOConfig\n",
    "from ray.rllib.algorithms.sac import SACConfig\n",
    "from ray import tune\n",
    "import json\n",
    "import numpy as np\n",
    "\n",
    "ray.shutdown()\n",
    "\n",
    "my_config = DEFAULT_CONFIG_DICT\n",
    "my_config[\"interface\"] = MyGranTurismoRTGYM\n",
    "my_config[\"time_step_duration\"] = 0.05\n",
    "my_config[\"start_obs_capture\"] = 0.05\n",
    "my_config[\"time_step_timeout_factor\"] = 1.0\n",
    "my_config[\"ep_max_length\"] = 1024\n",
    "my_config[\"act_buf_len\"] = 3\n",
    "my_config[\"reset_act_buf\"] = False\n",
    "my_config[\"benchmark\"] = True\n",
    "my_config[\"benchmark_polyak\"] = 0.2\n",
    "\n",
    "\n",
    "def env_creator(env_config):\n",
    "  env = gymnasium.make(\"real-time-gym-v1\", config=my_config)\n",
    "  return env  # return an env instance\n",
    "\n",
    "from ray.tune.registry import register_env\n",
    "register_env(\"gt-rtgym-env-v1\", env_creator)\n",
    "\n",
    "ray.init()\n",
    "\n",
    "#agent = ppo.PPO(env=\"gt-rtgym-env-v1\", config=ppoconfig)\n",
    "\n",
    "algo = (\n",
    "    PPOConfig()\n",
    "    #SACConfig()\n",
    "    .resources(\n",
    "        num_gpus=1\n",
    "        )\n",
    "    .rollouts(\n",
    "        num_rollout_workers=1,\n",
    "        #batch_mode=\"truncate_episodes\",\n",
    "        #rollout_fragment_length=128\n",
    "        )\n",
    "    .framework(\"torch\")\n",
    "    .environment(\n",
    "        env=\"gt-rtgym-env-v1\",\n",
    "        disable_env_checking=True,\n",
    "        render_env=False,\n",
    "        )\n",
    "    .training(\n",
    "            #lr=0.0003,\n",
    "            #lambda_=0.95,\n",
    "            #gamma=0.99,\n",
    "            sgd_minibatch_size=128,\n",
    "            train_batch_size=1024,\n",
    "            #num_sgd_iter=8,\n",
    "            #clip_param=0.2,\n",
    "            model={\"fcnet_hiddens\": [12, 12]},\n",
    "        )\n",
    "    .build()\n",
    ")\n",
    "\n",
    "N = 500\n",
    "results = []\n",
    "episode_data = []\n",
    "episode_json = []\n",
    "\n",
    "\n",
    "for n in range(N):\n",
    "    result = algo.train()\n",
    "    results.append(result)\n",
    "  \n",
    "    episode = {\n",
    "        \"n\": n,\n",
    "        \"episode_reward_mean\": result[\"episode_reward_mean\"], \n",
    "        \"episode_reward_max\":  result[\"episode_reward_max\"],  \n",
    "        \"episode_len_mean\":    result[\"episode_len_mean\"],\n",
    "    }\n",
    "\n",
    "    episode_data.append(episode)\n",
    "    episode_json.append(json.dumps(episode))\n",
    "    \n",
    "    print('Loop: ', n, 'Max reward: ', {episode[\"episode_reward_max\"]})\n",
    "    \n",
    "path_to_checkpoint = algo.save()\n",
    "print(\n",
    "    \"An Algorithm checkpoint has been created inside directory: \"\n",
    "    f\"'{path_to_checkpoint}'.\"\n",
    ")\n",
    "\n",
    "ray.shutdown()"
   ]
  },
  {
   "cell_type": "code",
   "execution_count": null,
   "metadata": {},
   "outputs": [],
   "source": [
    "from ray.rllib.algorithms.algorithm import Algorithm\n",
    "from myRTClass import MyGranTurismoRTGYM, DEFAULT_CONFIG_DICT\n",
    "import gymnasium\n",
    "import ray\n",
    "from ray.rllib.algorithms import ppo\n",
    "from ray.rllib.algorithms.ppo import PPOConfig\n",
    "from ray.rllib.algorithms.sac import SACConfig\n",
    "import json\n",
    "import numpy as np\n",
    "\n",
    "my_config = DEFAULT_CONFIG_DICT\n",
    "my_config[\"interface\"] = MyGranTurismoRTGYM\n",
    "my_config[\"time_step_duration\"] = 0.05\n",
    "my_config[\"start_obs_capture\"] = 0.05\n",
    "my_config[\"time_step_timeout_factor\"] = 1.0\n",
    "my_config[\"ep_max_length\"] = 256\n",
    "my_config[\"act_buf_len\"] = 3\n",
    "my_config[\"reset_act_buf\"] = False\n",
    "my_config[\"benchmark\"] = True\n",
    "my_config[\"benchmark_polyak\"] = 0.2\n",
    "\n",
    "def env_creator(env_config):\n",
    "  env = gymnasium.make(\"real-time-gym-v1\", config=my_config)\n",
    "  return env  # return an env instance\n",
    "\n",
    "from ray.tune.registry import register_env\n",
    "register_env(\"gt-rtgym-env-v1\", env_creator)\n",
    "\n",
    "# Use the Algorithm's `from_checkpoint` utility to get a new algo instance\n",
    "# that has the exact same state as the old one, from which the checkpoint was\n",
    "# created in the first place:\n",
    "loadedAlgo = Algorithm.from_checkpoint(path_to_checkpoint)"
   ]
  },
  {
   "cell_type": "code",
   "execution_count": null,
   "metadata": {},
   "outputs": [],
   "source": [
    "\n",
    "N = 300\n",
    "results = []\n",
    "episode_data = []\n",
    "episode_json = []\n",
    "\n",
    "\n",
    "for n in range(N):\n",
    "    result = loadedAlgo.train()\n",
    "    results.append(result)\n",
    "  \n",
    "    episode = {\n",
    "        \"n\": n,\n",
    "        \"episode_reward_mean\": result[\"episode_reward_mean\"], \n",
    "        \"episode_reward_max\":  result[\"episode_reward_max\"],  \n",
    "        \"episode_len_mean\":    result[\"episode_len_mean\"],\n",
    "    }\n",
    "\n",
    "    episode_data.append(episode)\n",
    "    episode_json.append(json.dumps(episode))\n",
    "    \n",
    "    print('Loop: ', n, 'Max reward: ', {episode[\"episode_reward_max\"]})"
   ]
  },
  {
   "cell_type": "code",
   "execution_count": null,
   "metadata": {},
   "outputs": [],
   "source": [
    "path_to_checkpoint = algo.save()\n",
    "print(\n",
    "    \"An Algorithm checkpoint has been created inside directory: \"\n",
    "    f\"'{path_to_checkpoint}'.\"\n",
    ")"
   ]
  },
  {
   "cell_type": "code",
   "execution_count": null,
   "metadata": {},
   "outputs": [],
   "source": [
    "ray.shutdown()"
   ]
  },
  {
   "attachments": {},
   "cell_type": "markdown",
   "metadata": {},
   "source": [
    "# SAC Current Developing"
   ]
  },
  {
   "cell_type": "code",
   "execution_count": 2,
   "metadata": {},
   "outputs": [
    {
     "name": "stderr",
     "output_type": "stream",
     "text": [
      "2023-05-08 23:34:47,275\tINFO worker.py:1544 -- Started a local Ray instance. View the dashboard at \u001b[1m\u001b[32m127.0.0.1:8265 \u001b[39m\u001b[22m\n"
     ]
    },
    {
     "name": "stdout",
     "output_type": "stream",
     "text": [
      "\u001b[2m\u001b[36m(RolloutWorker pid=10332)\u001b[0m GT Real Time instantiated\n",
      "\u001b[2m\u001b[36m(RolloutWorker pid=10332)\u001b[0m GT AI Server instantiated for rtgym\n",
      "\u001b[2m\u001b[36m(RolloutWorker pid=10332)\u001b[0m starting up on localhost port 9999\n",
      "\u001b[2m\u001b[36m(RolloutWorker pid=10332)\u001b[0m Waiting for a connection\n",
      "\u001b[2m\u001b[36m(RolloutWorker pid=10332)\u001b[0m Connection from ('127.0.0.1', 49279)\n",
      "\u001b[2m\u001b[36m(RolloutWorker pid=10332)\u001b[0m default SAC action\n"
     ]
    },
    {
     "name": "stderr",
     "output_type": "stream",
     "text": [
      "2023-05-08 23:35:02,844\tINFO trainable.py:172 -- Trainable.setup took 13.980 seconds. If your trainable is slow to initialize, consider setting reuse_actors=True to reduce actor creation overheads.\n",
      "2023-05-08 23:35:02,846\tWARNING util.py:67 -- Install gputil for GPU system monitoring.\n"
     ]
    },
    {
     "name": "stdout",
     "output_type": "stream",
     "text": [
      "\u001b[2m\u001b[36m(RolloutWorker pid=10332)\u001b[0m reset triggered\n",
      "\u001b[2m\u001b[36m(RolloutWorker pid=10332)\u001b[0m reload save\n"
     ]
    },
    {
     "name": "stderr",
     "output_type": "stream",
     "text": [
      "\u001b[2m\u001b[36m(RolloutWorker pid=10332)\u001b[0m c:\\Users\\nadir\\anaconda3\\envs\\GTAI2\\lib\\site-packages\\rtgym\\envs\\real_time_env.py:376: UserWarning: Time-step timed out. Elapsed since last time-step: 0.16870019999999997\n",
      "\u001b[2m\u001b[36m(RolloutWorker pid=10332)\u001b[0m   warnings.warn(f\"Time-step timed out. Elapsed since last time-step: {now - self.__t_end}\")\n"
     ]
    },
    {
     "name": "stdout",
     "output_type": "stream",
     "text": [
      "Saved 0\n"
     ]
    },
    {
     "name": "stderr",
     "output_type": "stream",
     "text": [
      "\u001b[2m\u001b[36m(RolloutWorker pid=10332)\u001b[0m c:\\Users\\nadir\\anaconda3\\envs\\GTAI2\\lib\\site-packages\\rtgym\\envs\\real_time_env.py:376: UserWarning: Time-step timed out. Elapsed since last time-step: 0.10170439999988545\n",
      "\u001b[2m\u001b[36m(RolloutWorker pid=10332)\u001b[0m   warnings.warn(f\"Time-step timed out. Elapsed since last time-step: {now - self.__t_end}\")\n"
     ]
    },
    {
     "name": "stdout",
     "output_type": "stream",
     "text": [
      "\u001b[2m\u001b[36m(RolloutWorker pid=10332)\u001b[0m reset triggered\n",
      "\u001b[2m\u001b[36m(RolloutWorker pid=10332)\u001b[0m reload save\n"
     ]
    },
    {
     "name": "stderr",
     "output_type": "stream",
     "text": [
      "\u001b[2m\u001b[36m(RolloutWorker pid=10332)\u001b[0m c:\\Users\\nadir\\anaconda3\\envs\\GTAI2\\lib\\site-packages\\rtgym\\envs\\real_time_env.py:376: UserWarning: Time-step timed out. Elapsed since last time-step: 0.14425849999996387\n",
      "\u001b[2m\u001b[36m(RolloutWorker pid=10332)\u001b[0m   warnings.warn(f\"Time-step timed out. Elapsed since last time-step: {now - self.__t_end}\")\n"
     ]
    },
    {
     "name": "stdout",
     "output_type": "stream",
     "text": [
      "\u001b[2m\u001b[36m(RolloutWorker pid=10332)\u001b[0m reset triggered\n",
      "\u001b[2m\u001b[36m(RolloutWorker pid=10332)\u001b[0m reload save\n"
     ]
    },
    {
     "name": "stderr",
     "output_type": "stream",
     "text": [
      "\u001b[2m\u001b[36m(RolloutWorker pid=10332)\u001b[0m c:\\Users\\nadir\\anaconda3\\envs\\GTAI2\\lib\\site-packages\\rtgym\\envs\\real_time_env.py:376: UserWarning: Time-step timed out. Elapsed since last time-step: 0.14429939999982366\n",
      "\u001b[2m\u001b[36m(RolloutWorker pid=10332)\u001b[0m   warnings.warn(f\"Time-step timed out. Elapsed since last time-step: {now - self.__t_end}\")\n"
     ]
    },
    {
     "name": "stdout",
     "output_type": "stream",
     "text": [
      "\u001b[2m\u001b[36m(RolloutWorker pid=10332)\u001b[0m reset triggered\n",
      "\u001b[2m\u001b[36m(RolloutWorker pid=10332)\u001b[0m reload save\n"
     ]
    },
    {
     "name": "stderr",
     "output_type": "stream",
     "text": [
      "\u001b[2m\u001b[36m(RolloutWorker pid=10332)\u001b[0m c:\\Users\\nadir\\anaconda3\\envs\\GTAI2\\lib\\site-packages\\rtgym\\envs\\real_time_env.py:376: UserWarning: Time-step timed out. Elapsed since last time-step: 0.13317899999981364\n",
      "\u001b[2m\u001b[36m(RolloutWorker pid=10332)\u001b[0m   warnings.warn(f\"Time-step timed out. Elapsed since last time-step: {now - self.__t_end}\")\n"
     ]
    },
    {
     "name": "stdout",
     "output_type": "stream",
     "text": [
      "\u001b[2m\u001b[36m(RolloutWorker pid=10332)\u001b[0m reset triggered\n",
      "\u001b[2m\u001b[36m(RolloutWorker pid=10332)\u001b[0m reload save\n"
     ]
    },
    {
     "name": "stderr",
     "output_type": "stream",
     "text": [
      "\u001b[2m\u001b[36m(RolloutWorker pid=10332)\u001b[0m c:\\Users\\nadir\\anaconda3\\envs\\GTAI2\\lib\\site-packages\\rtgym\\envs\\real_time_env.py:376: UserWarning: Time-step timed out. Elapsed since last time-step: 0.1512438999999688\n",
      "\u001b[2m\u001b[36m(RolloutWorker pid=10332)\u001b[0m   warnings.warn(f\"Time-step timed out. Elapsed since last time-step: {now - self.__t_end}\")\n"
     ]
    },
    {
     "name": "stdout",
     "output_type": "stream",
     "text": [
      "Saved 5\n",
      "\u001b[2m\u001b[36m(RolloutWorker pid=10332)\u001b[0m reset triggered\n",
      "\u001b[2m\u001b[36m(RolloutWorker pid=10332)\u001b[0m reload save\n"
     ]
    },
    {
     "name": "stderr",
     "output_type": "stream",
     "text": [
      "\u001b[2m\u001b[36m(RolloutWorker pid=10332)\u001b[0m c:\\Users\\nadir\\anaconda3\\envs\\GTAI2\\lib\\site-packages\\rtgym\\envs\\real_time_env.py:376: UserWarning: Time-step timed out. Elapsed since last time-step: 0.1397826000007285\n",
      "\u001b[2m\u001b[36m(RolloutWorker pid=10332)\u001b[0m   warnings.warn(f\"Time-step timed out. Elapsed since last time-step: {now - self.__t_end}\")\n"
     ]
    },
    {
     "name": "stdout",
     "output_type": "stream",
     "text": [
      "\u001b[2m\u001b[36m(RolloutWorker pid=10332)\u001b[0m reset triggered\n",
      "\u001b[2m\u001b[36m(RolloutWorker pid=10332)\u001b[0m reload save\n"
     ]
    },
    {
     "name": "stderr",
     "output_type": "stream",
     "text": [
      "\u001b[2m\u001b[36m(RolloutWorker pid=10332)\u001b[0m c:\\Users\\nadir\\anaconda3\\envs\\GTAI2\\lib\\site-packages\\rtgym\\envs\\real_time_env.py:376: UserWarning: Time-step timed out. Elapsed since last time-step: 0.13766500000072313\n",
      "\u001b[2m\u001b[36m(RolloutWorker pid=10332)\u001b[0m   warnings.warn(f\"Time-step timed out. Elapsed since last time-step: {now - self.__t_end}\")\n"
     ]
    },
    {
     "name": "stdout",
     "output_type": "stream",
     "text": [
      "\u001b[2m\u001b[36m(RolloutWorker pid=10332)\u001b[0m reset triggered\n",
      "\u001b[2m\u001b[36m(RolloutWorker pid=10332)\u001b[0m reload save\n"
     ]
    },
    {
     "name": "stderr",
     "output_type": "stream",
     "text": [
      "\u001b[2m\u001b[36m(RolloutWorker pid=10332)\u001b[0m c:\\Users\\nadir\\anaconda3\\envs\\GTAI2\\lib\\site-packages\\rtgym\\envs\\real_time_env.py:376: UserWarning: Time-step timed out. Elapsed since last time-step: 0.14346560000072373\n",
      "\u001b[2m\u001b[36m(RolloutWorker pid=10332)\u001b[0m   warnings.warn(f\"Time-step timed out. Elapsed since last time-step: {now - self.__t_end}\")\n"
     ]
    },
    {
     "name": "stdout",
     "output_type": "stream",
     "text": [
      "\u001b[2m\u001b[36m(RolloutWorker pid=10332)\u001b[0m reset triggered\n",
      "\u001b[2m\u001b[36m(RolloutWorker pid=10332)\u001b[0m reload save\n"
     ]
    },
    {
     "name": "stderr",
     "output_type": "stream",
     "text": [
      "\u001b[2m\u001b[36m(RolloutWorker pid=10332)\u001b[0m c:\\Users\\nadir\\anaconda3\\envs\\GTAI2\\lib\\site-packages\\rtgym\\envs\\real_time_env.py:376: UserWarning: Time-step timed out. Elapsed since last time-step: 0.12755680000073255\n",
      "\u001b[2m\u001b[36m(RolloutWorker pid=10332)\u001b[0m   warnings.warn(f\"Time-step timed out. Elapsed since last time-step: {now - self.__t_end}\")\n"
     ]
    },
    {
     "name": "stdout",
     "output_type": "stream",
     "text": [
      "Saved 10\n",
      "\u001b[2m\u001b[36m(RolloutWorker pid=10332)\u001b[0m reset triggered\n",
      "\u001b[2m\u001b[36m(RolloutWorker pid=10332)\u001b[0m reload save\n"
     ]
    },
    {
     "name": "stderr",
     "output_type": "stream",
     "text": [
      "\u001b[2m\u001b[36m(RolloutWorker pid=10332)\u001b[0m c:\\Users\\nadir\\anaconda3\\envs\\GTAI2\\lib\\site-packages\\rtgym\\envs\\real_time_env.py:376: UserWarning: Time-step timed out. Elapsed since last time-step: 0.1367872000007253\n",
      "\u001b[2m\u001b[36m(RolloutWorker pid=10332)\u001b[0m   warnings.warn(f\"Time-step timed out. Elapsed since last time-step: {now - self.__t_end}\")\n"
     ]
    },
    {
     "name": "stdout",
     "output_type": "stream",
     "text": [
      "\u001b[2m\u001b[36m(RolloutWorker pid=10332)\u001b[0m reset triggered\n",
      "\u001b[2m\u001b[36m(RolloutWorker pid=10332)\u001b[0m reload save\n"
     ]
    },
    {
     "name": "stderr",
     "output_type": "stream",
     "text": [
      "\u001b[2m\u001b[36m(RolloutWorker pid=10332)\u001b[0m c:\\Users\\nadir\\anaconda3\\envs\\GTAI2\\lib\\site-packages\\rtgym\\envs\\real_time_env.py:376: UserWarning: Time-step timed out. Elapsed since last time-step: 0.15433140000072854\n",
      "\u001b[2m\u001b[36m(RolloutWorker pid=10332)\u001b[0m   warnings.warn(f\"Time-step timed out. Elapsed since last time-step: {now - self.__t_end}\")\n"
     ]
    },
    {
     "name": "stdout",
     "output_type": "stream",
     "text": [
      "\u001b[2m\u001b[36m(RolloutWorker pid=10332)\u001b[0m reset triggered\n",
      "\u001b[2m\u001b[36m(RolloutWorker pid=10332)\u001b[0m reload save\n"
     ]
    },
    {
     "name": "stderr",
     "output_type": "stream",
     "text": [
      "\u001b[2m\u001b[36m(RolloutWorker pid=10332)\u001b[0m c:\\Users\\nadir\\anaconda3\\envs\\GTAI2\\lib\\site-packages\\rtgym\\envs\\real_time_env.py:376: UserWarning: Time-step timed out. Elapsed since last time-step: 0.13303800000073807\n",
      "\u001b[2m\u001b[36m(RolloutWorker pid=10332)\u001b[0m   warnings.warn(f\"Time-step timed out. Elapsed since last time-step: {now - self.__t_end}\")\n",
      "\u001b[2m\u001b[36m(RolloutWorker pid=10332)\u001b[0m c:\\Users\\nadir\\anaconda3\\envs\\GTAI2\\lib\\site-packages\\rtgym\\envs\\real_time_env.py:376: UserWarning: Time-step timed out. Elapsed since last time-step: 0.4403126000005386\n",
      "\u001b[2m\u001b[36m(RolloutWorker pid=10332)\u001b[0m   warnings.warn(f\"Time-step timed out. Elapsed since last time-step: {now - self.__t_end}\")\n",
      "\u001b[2m\u001b[36m(RolloutWorker pid=10332)\u001b[0m c:\\Users\\nadir\\anaconda3\\envs\\GTAI2\\lib\\site-packages\\rtgym\\envs\\real_time_env.py:376: UserWarning: Time-step timed out. Elapsed since last time-step: 0.32144270000000574\n",
      "\u001b[2m\u001b[36m(RolloutWorker pid=10332)\u001b[0m   warnings.warn(f\"Time-step timed out. Elapsed since last time-step: {now - self.__t_end}\")\n",
      "\u001b[2m\u001b[36m(RolloutWorker pid=10332)\u001b[0m c:\\Users\\nadir\\anaconda3\\envs\\GTAI2\\lib\\site-packages\\rtgym\\envs\\real_time_env.py:376: UserWarning: Time-step timed out. Elapsed since last time-step: 0.31257980000000885\n",
      "\u001b[2m\u001b[36m(RolloutWorker pid=10332)\u001b[0m   warnings.warn(f\"Time-step timed out. Elapsed since last time-step: {now - self.__t_end}\")\n",
      "\u001b[2m\u001b[36m(RolloutWorker pid=10332)\u001b[0m c:\\Users\\nadir\\anaconda3\\envs\\GTAI2\\lib\\site-packages\\rtgym\\envs\\real_time_env.py:376: UserWarning: Time-step timed out. Elapsed since last time-step: 0.3189974999999947\n",
      "\u001b[2m\u001b[36m(RolloutWorker pid=10332)\u001b[0m   warnings.warn(f\"Time-step timed out. Elapsed since last time-step: {now - self.__t_end}\")\n",
      "\u001b[2m\u001b[36m(RolloutWorker pid=10332)\u001b[0m c:\\Users\\nadir\\anaconda3\\envs\\GTAI2\\lib\\site-packages\\rtgym\\envs\\real_time_env.py:376: UserWarning: Time-step timed out. Elapsed since last time-step: 0.3214568000000213\n",
      "\u001b[2m\u001b[36m(RolloutWorker pid=10332)\u001b[0m   warnings.warn(f\"Time-step timed out. Elapsed since last time-step: {now - self.__t_end}\")\n",
      "\u001b[2m\u001b[36m(RolloutWorker pid=10332)\u001b[0m c:\\Users\\nadir\\anaconda3\\envs\\GTAI2\\lib\\site-packages\\rtgym\\envs\\real_time_env.py:376: UserWarning: Time-step timed out. Elapsed since last time-step: 0.3508852999999874\n",
      "\u001b[2m\u001b[36m(RolloutWorker pid=10332)\u001b[0m   warnings.warn(f\"Time-step timed out. Elapsed since last time-step: {now - self.__t_end}\")\n",
      "\u001b[2m\u001b[36m(RolloutWorker pid=10332)\u001b[0m c:\\Users\\nadir\\anaconda3\\envs\\GTAI2\\lib\\site-packages\\rtgym\\envs\\real_time_env.py:376: UserWarning: Time-step timed out. Elapsed since last time-step: 0.35394730000001573\n",
      "\u001b[2m\u001b[36m(RolloutWorker pid=10332)\u001b[0m   warnings.warn(f\"Time-step timed out. Elapsed since last time-step: {now - self.__t_end}\")\n",
      "\u001b[2m\u001b[36m(RolloutWorker pid=10332)\u001b[0m c:\\Users\\nadir\\anaconda3\\envs\\GTAI2\\lib\\site-packages\\rtgym\\envs\\real_time_env.py:376: UserWarning: Time-step timed out. Elapsed since last time-step: 0.35160600000000386\n",
      "\u001b[2m\u001b[36m(RolloutWorker pid=10332)\u001b[0m   warnings.warn(f\"Time-step timed out. Elapsed since last time-step: {now - self.__t_end}\")\n",
      "\u001b[2m\u001b[36m(RolloutWorker pid=10332)\u001b[0m c:\\Users\\nadir\\anaconda3\\envs\\GTAI2\\lib\\site-packages\\rtgym\\envs\\real_time_env.py:376: UserWarning: Time-step timed out. Elapsed since last time-step: 0.3486746000000096\n",
      "\u001b[2m\u001b[36m(RolloutWorker pid=10332)\u001b[0m   warnings.warn(f\"Time-step timed out. Elapsed since last time-step: {now - self.__t_end}\")\n",
      "\u001b[2m\u001b[36m(RolloutWorker pid=10332)\u001b[0m c:\\Users\\nadir\\anaconda3\\envs\\GTAI2\\lib\\site-packages\\rtgym\\envs\\real_time_env.py:376: UserWarning: Time-step timed out. Elapsed since last time-step: 0.31308089999998856\n",
      "\u001b[2m\u001b[36m(RolloutWorker pid=10332)\u001b[0m   warnings.warn(f\"Time-step timed out. Elapsed since last time-step: {now - self.__t_end}\")\n",
      "\u001b[2m\u001b[36m(RolloutWorker pid=10332)\u001b[0m c:\\Users\\nadir\\anaconda3\\envs\\GTAI2\\lib\\site-packages\\rtgym\\envs\\real_time_env.py:376: UserWarning: Time-step timed out. Elapsed since last time-step: 0.3131552000000113\n",
      "\u001b[2m\u001b[36m(RolloutWorker pid=10332)\u001b[0m   warnings.warn(f\"Time-step timed out. Elapsed since last time-step: {now - self.__t_end}\")\n",
      "\u001b[2m\u001b[36m(RolloutWorker pid=10332)\u001b[0m c:\\Users\\nadir\\anaconda3\\envs\\GTAI2\\lib\\site-packages\\rtgym\\envs\\real_time_env.py:376: UserWarning: Time-step timed out. Elapsed since last time-step: 0.3121395000000007\n",
      "\u001b[2m\u001b[36m(RolloutWorker pid=10332)\u001b[0m   warnings.warn(f\"Time-step timed out. Elapsed since last time-step: {now - self.__t_end}\")\n",
      "\u001b[2m\u001b[36m(RolloutWorker pid=10332)\u001b[0m c:\\Users\\nadir\\anaconda3\\envs\\GTAI2\\lib\\site-packages\\rtgym\\envs\\real_time_env.py:376: UserWarning: Time-step timed out. Elapsed since last time-step: 0.3193234000000018\n",
      "\u001b[2m\u001b[36m(RolloutWorker pid=10332)\u001b[0m   warnings.warn(f\"Time-step timed out. Elapsed since last time-step: {now - self.__t_end}\")\n",
      "\u001b[2m\u001b[36m(RolloutWorker pid=10332)\u001b[0m c:\\Users\\nadir\\anaconda3\\envs\\GTAI2\\lib\\site-packages\\rtgym\\envs\\real_time_env.py:376: UserWarning: Time-step timed out. Elapsed since last time-step: 0.37808510000002116\n",
      "\u001b[2m\u001b[36m(RolloutWorker pid=10332)\u001b[0m   warnings.warn(f\"Time-step timed out. Elapsed since last time-step: {now - self.__t_end}\")\n",
      "\u001b[2m\u001b[36m(RolloutWorker pid=10332)\u001b[0m c:\\Users\\nadir\\anaconda3\\envs\\GTAI2\\lib\\site-packages\\rtgym\\envs\\real_time_env.py:376: UserWarning: Time-step timed out. Elapsed since last time-step: 0.34122870000001626\n",
      "\u001b[2m\u001b[36m(RolloutWorker pid=10332)\u001b[0m   warnings.warn(f\"Time-step timed out. Elapsed since last time-step: {now - self.__t_end}\")\n",
      "\u001b[2m\u001b[36m(RolloutWorker pid=10332)\u001b[0m c:\\Users\\nadir\\anaconda3\\envs\\GTAI2\\lib\\site-packages\\rtgym\\envs\\real_time_env.py:376: UserWarning: Time-step timed out. Elapsed since last time-step: 0.34361139999998613\n",
      "\u001b[2m\u001b[36m(RolloutWorker pid=10332)\u001b[0m   warnings.warn(f\"Time-step timed out. Elapsed since last time-step: {now - self.__t_end}\")\n",
      "\u001b[2m\u001b[36m(RolloutWorker pid=10332)\u001b[0m c:\\Users\\nadir\\anaconda3\\envs\\GTAI2\\lib\\site-packages\\rtgym\\envs\\real_time_env.py:376: UserWarning: Time-step timed out. Elapsed since last time-step: 0.3277273000000207\n",
      "\u001b[2m\u001b[36m(RolloutWorker pid=10332)\u001b[0m   warnings.warn(f\"Time-step timed out. Elapsed since last time-step: {now - self.__t_end}\")\n",
      "\u001b[2m\u001b[36m(RolloutWorker pid=10332)\u001b[0m c:\\Users\\nadir\\anaconda3\\envs\\GTAI2\\lib\\site-packages\\rtgym\\envs\\real_time_env.py:376: UserWarning: Time-step timed out. Elapsed since last time-step: 0.3204945999999893\n",
      "\u001b[2m\u001b[36m(RolloutWorker pid=10332)\u001b[0m   warnings.warn(f\"Time-step timed out. Elapsed since last time-step: {now - self.__t_end}\")\n",
      "\u001b[2m\u001b[36m(RolloutWorker pid=10332)\u001b[0m c:\\Users\\nadir\\anaconda3\\envs\\GTAI2\\lib\\site-packages\\rtgym\\envs\\real_time_env.py:376: UserWarning: Time-step timed out. Elapsed since last time-step: 0.31801800000002345\n",
      "\u001b[2m\u001b[36m(RolloutWorker pid=10332)\u001b[0m   warnings.warn(f\"Time-step timed out. Elapsed since last time-step: {now - self.__t_end}\")\n",
      "\u001b[2m\u001b[36m(RolloutWorker pid=10332)\u001b[0m c:\\Users\\nadir\\anaconda3\\envs\\GTAI2\\lib\\site-packages\\rtgym\\envs\\real_time_env.py:376: UserWarning: Time-step timed out. Elapsed since last time-step: 0.31650410000000306\n",
      "\u001b[2m\u001b[36m(RolloutWorker pid=10332)\u001b[0m   warnings.warn(f\"Time-step timed out. Elapsed since last time-step: {now - self.__t_end}\")\n",
      "\u001b[2m\u001b[36m(RolloutWorker pid=10332)\u001b[0m c:\\Users\\nadir\\anaconda3\\envs\\GTAI2\\lib\\site-packages\\rtgym\\envs\\real_time_env.py:376: UserWarning: Time-step timed out. Elapsed since last time-step: 0.3817168999999865\n",
      "\u001b[2m\u001b[36m(RolloutWorker pid=10332)\u001b[0m   warnings.warn(f\"Time-step timed out. Elapsed since last time-step: {now - self.__t_end}\")\n",
      "\u001b[2m\u001b[36m(RolloutWorker pid=10332)\u001b[0m c:\\Users\\nadir\\anaconda3\\envs\\GTAI2\\lib\\site-packages\\rtgym\\envs\\real_time_env.py:376: UserWarning: Time-step timed out. Elapsed since last time-step: 0.36018300000000636\n",
      "\u001b[2m\u001b[36m(RolloutWorker pid=10332)\u001b[0m   warnings.warn(f\"Time-step timed out. Elapsed since last time-step: {now - self.__t_end}\")\n",
      "\u001b[2m\u001b[36m(RolloutWorker pid=10332)\u001b[0m c:\\Users\\nadir\\anaconda3\\envs\\GTAI2\\lib\\site-packages\\rtgym\\envs\\real_time_env.py:376: UserWarning: Time-step timed out. Elapsed since last time-step: 0.32154620000002865\n",
      "\u001b[2m\u001b[36m(RolloutWorker pid=10332)\u001b[0m   warnings.warn(f\"Time-step timed out. Elapsed since last time-step: {now - self.__t_end}\")\n",
      "\u001b[2m\u001b[36m(RolloutWorker pid=10332)\u001b[0m c:\\Users\\nadir\\anaconda3\\envs\\GTAI2\\lib\\site-packages\\rtgym\\envs\\real_time_env.py:376: UserWarning: Time-step timed out. Elapsed since last time-step: 0.3128003999999862\n",
      "\u001b[2m\u001b[36m(RolloutWorker pid=10332)\u001b[0m   warnings.warn(f\"Time-step timed out. Elapsed since last time-step: {now - self.__t_end}\")\n",
      "\u001b[2m\u001b[36m(RolloutWorker pid=10332)\u001b[0m c:\\Users\\nadir\\anaconda3\\envs\\GTAI2\\lib\\site-packages\\rtgym\\envs\\real_time_env.py:376: UserWarning: Time-step timed out. Elapsed since last time-step: 0.3140940000000114\n",
      "\u001b[2m\u001b[36m(RolloutWorker pid=10332)\u001b[0m   warnings.warn(f\"Time-step timed out. Elapsed since last time-step: {now - self.__t_end}\")\n",
      "\u001b[2m\u001b[36m(RolloutWorker pid=10332)\u001b[0m c:\\Users\\nadir\\anaconda3\\envs\\GTAI2\\lib\\site-packages\\rtgym\\envs\\real_time_env.py:376: UserWarning: Time-step timed out. Elapsed since last time-step: 0.31886389999999665\n",
      "\u001b[2m\u001b[36m(RolloutWorker pid=10332)\u001b[0m   warnings.warn(f\"Time-step timed out. Elapsed since last time-step: {now - self.__t_end}\")\n",
      "\u001b[2m\u001b[36m(RolloutWorker pid=10332)\u001b[0m c:\\Users\\nadir\\anaconda3\\envs\\GTAI2\\lib\\site-packages\\rtgym\\envs\\real_time_env.py:376: UserWarning: Time-step timed out. Elapsed since last time-step: 0.36778150000000664\n",
      "\u001b[2m\u001b[36m(RolloutWorker pid=10332)\u001b[0m   warnings.warn(f\"Time-step timed out. Elapsed since last time-step: {now - self.__t_end}\")\n",
      "\u001b[2m\u001b[36m(RolloutWorker pid=10332)\u001b[0m c:\\Users\\nadir\\anaconda3\\envs\\GTAI2\\lib\\site-packages\\rtgym\\envs\\real_time_env.py:376: UserWarning: Time-step timed out. Elapsed since last time-step: 0.3747296000000233\n",
      "\u001b[2m\u001b[36m(RolloutWorker pid=10332)\u001b[0m   warnings.warn(f\"Time-step timed out. Elapsed since last time-step: {now - self.__t_end}\")\n",
      "\u001b[2m\u001b[36m(RolloutWorker pid=10332)\u001b[0m c:\\Users\\nadir\\anaconda3\\envs\\GTAI2\\lib\\site-packages\\rtgym\\envs\\real_time_env.py:376: UserWarning: Time-step timed out. Elapsed since last time-step: 0.31392120000001\n",
      "\u001b[2m\u001b[36m(RolloutWorker pid=10332)\u001b[0m   warnings.warn(f\"Time-step timed out. Elapsed since last time-step: {now - self.__t_end}\")\n",
      "\u001b[2m\u001b[36m(RolloutWorker pid=10332)\u001b[0m c:\\Users\\nadir\\anaconda3\\envs\\GTAI2\\lib\\site-packages\\rtgym\\envs\\real_time_env.py:376: UserWarning: Time-step timed out. Elapsed since last time-step: 0.31551319999999805\n",
      "\u001b[2m\u001b[36m(RolloutWorker pid=10332)\u001b[0m   warnings.warn(f\"Time-step timed out. Elapsed since last time-step: {now - self.__t_end}\")\n",
      "\u001b[2m\u001b[36m(RolloutWorker pid=10332)\u001b[0m c:\\Users\\nadir\\anaconda3\\envs\\GTAI2\\lib\\site-packages\\rtgym\\envs\\real_time_env.py:376: UserWarning: Time-step timed out. Elapsed since last time-step: 0.3359274999999968\n",
      "\u001b[2m\u001b[36m(RolloutWorker pid=10332)\u001b[0m   warnings.warn(f\"Time-step timed out. Elapsed since last time-step: {now - self.__t_end}\")\n",
      "\u001b[2m\u001b[36m(RolloutWorker pid=10332)\u001b[0m c:\\Users\\nadir\\anaconda3\\envs\\GTAI2\\lib\\site-packages\\rtgym\\envs\\real_time_env.py:376: UserWarning: Time-step timed out. Elapsed since last time-step: 0.32124440000001186\n",
      "\u001b[2m\u001b[36m(RolloutWorker pid=10332)\u001b[0m   warnings.warn(f\"Time-step timed out. Elapsed since last time-step: {now - self.__t_end}\")\n",
      "\u001b[2m\u001b[36m(RolloutWorker pid=10332)\u001b[0m c:\\Users\\nadir\\anaconda3\\envs\\GTAI2\\lib\\site-packages\\rtgym\\envs\\real_time_env.py:376: UserWarning: Time-step timed out. Elapsed since last time-step: 0.3931560999999988\n",
      "\u001b[2m\u001b[36m(RolloutWorker pid=10332)\u001b[0m   warnings.warn(f\"Time-step timed out. Elapsed since last time-step: {now - self.__t_end}\")\n"
     ]
    },
    {
     "name": "stdout",
     "output_type": "stream",
     "text": [
      "\u001b[2m\u001b[36m(RolloutWorker pid=10332)\u001b[0m reset triggered\n",
      "\u001b[2m\u001b[36m(RolloutWorker pid=10332)\u001b[0m reload save\n"
     ]
    },
    {
     "name": "stderr",
     "output_type": "stream",
     "text": [
      "\u001b[2m\u001b[36m(RolloutWorker pid=10332)\u001b[0m c:\\Users\\nadir\\anaconda3\\envs\\GTAI2\\lib\\site-packages\\rtgym\\envs\\real_time_env.py:376: UserWarning: Time-step timed out. Elapsed since last time-step: 0.8000255999999979\n",
      "\u001b[2m\u001b[36m(RolloutWorker pid=10332)\u001b[0m   warnings.warn(f\"Time-step timed out. Elapsed since last time-step: {now - self.__t_end}\")\n",
      "\u001b[2m\u001b[36m(RolloutWorker pid=10332)\u001b[0m c:\\Users\\nadir\\anaconda3\\envs\\GTAI2\\lib\\site-packages\\rtgym\\envs\\real_time_env.py:376: UserWarning: Time-step timed out. Elapsed since last time-step: 0.3302042000000256\n",
      "\u001b[2m\u001b[36m(RolloutWorker pid=10332)\u001b[0m   warnings.warn(f\"Time-step timed out. Elapsed since last time-step: {now - self.__t_end}\")\n",
      "\u001b[2m\u001b[36m(RolloutWorker pid=10332)\u001b[0m c:\\Users\\nadir\\anaconda3\\envs\\GTAI2\\lib\\site-packages\\rtgym\\envs\\real_time_env.py:376: UserWarning: Time-step timed out. Elapsed since last time-step: 0.32327340000000504\n",
      "\u001b[2m\u001b[36m(RolloutWorker pid=10332)\u001b[0m   warnings.warn(f\"Time-step timed out. Elapsed since last time-step: {now - self.__t_end}\")\n",
      "\u001b[2m\u001b[36m(RolloutWorker pid=10332)\u001b[0m c:\\Users\\nadir\\anaconda3\\envs\\GTAI2\\lib\\site-packages\\rtgym\\envs\\real_time_env.py:376: UserWarning: Time-step timed out. Elapsed since last time-step: 0.5446730000000173\n",
      "\u001b[2m\u001b[36m(RolloutWorker pid=10332)\u001b[0m   warnings.warn(f\"Time-step timed out. Elapsed since last time-step: {now - self.__t_end}\")\n",
      "\u001b[2m\u001b[36m(RolloutWorker pid=10332)\u001b[0m c:\\Users\\nadir\\anaconda3\\envs\\GTAI2\\lib\\site-packages\\rtgym\\envs\\real_time_env.py:376: UserWarning: Time-step timed out. Elapsed since last time-step: 0.3573748999999964\n",
      "\u001b[2m\u001b[36m(RolloutWorker pid=10332)\u001b[0m   warnings.warn(f\"Time-step timed out. Elapsed since last time-step: {now - self.__t_end}\")\n",
      "\u001b[2m\u001b[36m(RolloutWorker pid=10332)\u001b[0m c:\\Users\\nadir\\anaconda3\\envs\\GTAI2\\lib\\site-packages\\rtgym\\envs\\real_time_env.py:376: UserWarning: Time-step timed out. Elapsed since last time-step: 0.34715810000000147\n",
      "\u001b[2m\u001b[36m(RolloutWorker pid=10332)\u001b[0m   warnings.warn(f\"Time-step timed out. Elapsed since last time-step: {now - self.__t_end}\")\n",
      "\u001b[2m\u001b[36m(RolloutWorker pid=10332)\u001b[0m c:\\Users\\nadir\\anaconda3\\envs\\GTAI2\\lib\\site-packages\\rtgym\\envs\\real_time_env.py:376: UserWarning: Time-step timed out. Elapsed since last time-step: 0.3475399000000152\n",
      "\u001b[2m\u001b[36m(RolloutWorker pid=10332)\u001b[0m   warnings.warn(f\"Time-step timed out. Elapsed since last time-step: {now - self.__t_end}\")\n",
      "\u001b[2m\u001b[36m(RolloutWorker pid=10332)\u001b[0m c:\\Users\\nadir\\anaconda3\\envs\\GTAI2\\lib\\site-packages\\rtgym\\envs\\real_time_env.py:376: UserWarning: Time-step timed out. Elapsed since last time-step: 0.31267990000000623\n",
      "\u001b[2m\u001b[36m(RolloutWorker pid=10332)\u001b[0m   warnings.warn(f\"Time-step timed out. Elapsed since last time-step: {now - self.__t_end}\")\n",
      "\u001b[2m\u001b[36m(RolloutWorker pid=10332)\u001b[0m c:\\Users\\nadir\\anaconda3\\envs\\GTAI2\\lib\\site-packages\\rtgym\\envs\\real_time_env.py:376: UserWarning: Time-step timed out. Elapsed since last time-step: 0.3219172999999955\n",
      "\u001b[2m\u001b[36m(RolloutWorker pid=10332)\u001b[0m   warnings.warn(f\"Time-step timed out. Elapsed since last time-step: {now - self.__t_end}\")\n",
      "\u001b[2m\u001b[36m(RolloutWorker pid=10332)\u001b[0m c:\\Users\\nadir\\anaconda3\\envs\\GTAI2\\lib\\site-packages\\rtgym\\envs\\real_time_env.py:376: UserWarning: Time-step timed out. Elapsed since last time-step: 0.3162755000000175\n",
      "\u001b[2m\u001b[36m(RolloutWorker pid=10332)\u001b[0m   warnings.warn(f\"Time-step timed out. Elapsed since last time-step: {now - self.__t_end}\")\n",
      "\u001b[2m\u001b[36m(RolloutWorker pid=10332)\u001b[0m c:\\Users\\nadir\\anaconda3\\envs\\GTAI2\\lib\\site-packages\\rtgym\\envs\\real_time_env.py:376: UserWarning: Time-step timed out. Elapsed since last time-step: 0.3149257000000034\n",
      "\u001b[2m\u001b[36m(RolloutWorker pid=10332)\u001b[0m   warnings.warn(f\"Time-step timed out. Elapsed since last time-step: {now - self.__t_end}\")\n",
      "\u001b[2m\u001b[36m(RolloutWorker pid=10332)\u001b[0m c:\\Users\\nadir\\anaconda3\\envs\\GTAI2\\lib\\site-packages\\rtgym\\envs\\real_time_env.py:376: UserWarning: Time-step timed out. Elapsed since last time-step: 0.365542099999999\n",
      "\u001b[2m\u001b[36m(RolloutWorker pid=10332)\u001b[0m   warnings.warn(f\"Time-step timed out. Elapsed since last time-step: {now - self.__t_end}\")\n",
      "\u001b[2m\u001b[36m(RolloutWorker pid=10332)\u001b[0m c:\\Users\\nadir\\anaconda3\\envs\\GTAI2\\lib\\site-packages\\rtgym\\envs\\real_time_env.py:376: UserWarning: Time-step timed out. Elapsed since last time-step: 0.3166007000000093\n",
      "\u001b[2m\u001b[36m(RolloutWorker pid=10332)\u001b[0m   warnings.warn(f\"Time-step timed out. Elapsed since last time-step: {now - self.__t_end}\")\n",
      "\u001b[2m\u001b[36m(RolloutWorker pid=10332)\u001b[0m c:\\Users\\nadir\\anaconda3\\envs\\GTAI2\\lib\\site-packages\\rtgym\\envs\\real_time_env.py:376: UserWarning: Time-step timed out. Elapsed since last time-step: 0.3614043000000038\n",
      "\u001b[2m\u001b[36m(RolloutWorker pid=10332)\u001b[0m   warnings.warn(f\"Time-step timed out. Elapsed since last time-step: {now - self.__t_end}\")\n",
      "\u001b[2m\u001b[36m(RolloutWorker pid=10332)\u001b[0m c:\\Users\\nadir\\anaconda3\\envs\\GTAI2\\lib\\site-packages\\rtgym\\envs\\real_time_env.py:376: UserWarning: Time-step timed out. Elapsed since last time-step: 0.3386276999999893\n",
      "\u001b[2m\u001b[36m(RolloutWorker pid=10332)\u001b[0m   warnings.warn(f\"Time-step timed out. Elapsed since last time-step: {now - self.__t_end}\")\n",
      "\u001b[2m\u001b[36m(RolloutWorker pid=10332)\u001b[0m c:\\Users\\nadir\\anaconda3\\envs\\GTAI2\\lib\\site-packages\\rtgym\\envs\\real_time_env.py:376: UserWarning: Time-step timed out. Elapsed since last time-step: 0.3149595000000147\n",
      "\u001b[2m\u001b[36m(RolloutWorker pid=10332)\u001b[0m   warnings.warn(f\"Time-step timed out. Elapsed since last time-step: {now - self.__t_end}\")\n",
      "\u001b[2m\u001b[36m(RolloutWorker pid=10332)\u001b[0m c:\\Users\\nadir\\anaconda3\\envs\\GTAI2\\lib\\site-packages\\rtgym\\envs\\real_time_env.py:376: UserWarning: Time-step timed out. Elapsed since last time-step: 0.31529890000001615\n",
      "\u001b[2m\u001b[36m(RolloutWorker pid=10332)\u001b[0m   warnings.warn(f\"Time-step timed out. Elapsed since last time-step: {now - self.__t_end}\")\n",
      "\u001b[2m\u001b[36m(RolloutWorker pid=10332)\u001b[0m c:\\Users\\nadir\\anaconda3\\envs\\GTAI2\\lib\\site-packages\\rtgym\\envs\\real_time_env.py:376: UserWarning: Time-step timed out. Elapsed since last time-step: 0.31623559999999884\n",
      "\u001b[2m\u001b[36m(RolloutWorker pid=10332)\u001b[0m   warnings.warn(f\"Time-step timed out. Elapsed since last time-step: {now - self.__t_end}\")\n",
      "\u001b[2m\u001b[36m(RolloutWorker pid=10332)\u001b[0m c:\\Users\\nadir\\anaconda3\\envs\\GTAI2\\lib\\site-packages\\rtgym\\envs\\real_time_env.py:376: UserWarning: Time-step timed out. Elapsed since last time-step: 0.31698670000000106\n",
      "\u001b[2m\u001b[36m(RolloutWorker pid=10332)\u001b[0m   warnings.warn(f\"Time-step timed out. Elapsed since last time-step: {now - self.__t_end}\")\n",
      "\u001b[2m\u001b[36m(RolloutWorker pid=10332)\u001b[0m c:\\Users\\nadir\\anaconda3\\envs\\GTAI2\\lib\\site-packages\\rtgym\\envs\\real_time_env.py:376: UserWarning: Time-step timed out. Elapsed since last time-step: 0.36961460000000557\n",
      "\u001b[2m\u001b[36m(RolloutWorker pid=10332)\u001b[0m   warnings.warn(f\"Time-step timed out. Elapsed since last time-step: {now - self.__t_end}\")\n",
      "\u001b[2m\u001b[36m(RolloutWorker pid=10332)\u001b[0m c:\\Users\\nadir\\anaconda3\\envs\\GTAI2\\lib\\site-packages\\rtgym\\envs\\real_time_env.py:376: UserWarning: Time-step timed out. Elapsed since last time-step: 0.3716765000000066\n",
      "\u001b[2m\u001b[36m(RolloutWorker pid=10332)\u001b[0m   warnings.warn(f\"Time-step timed out. Elapsed since last time-step: {now - self.__t_end}\")\n",
      "\u001b[2m\u001b[36m(RolloutWorker pid=10332)\u001b[0m c:\\Users\\nadir\\anaconda3\\envs\\GTAI2\\lib\\site-packages\\rtgym\\envs\\real_time_env.py:376: UserWarning: Time-step timed out. Elapsed since last time-step: 0.3145463000000177\n",
      "\u001b[2m\u001b[36m(RolloutWorker pid=10332)\u001b[0m   warnings.warn(f\"Time-step timed out. Elapsed since last time-step: {now - self.__t_end}\")\n",
      "\u001b[2m\u001b[36m(RolloutWorker pid=10332)\u001b[0m c:\\Users\\nadir\\anaconda3\\envs\\GTAI2\\lib\\site-packages\\rtgym\\envs\\real_time_env.py:376: UserWarning: Time-step timed out. Elapsed since last time-step: 0.31557269999998994\n",
      "\u001b[2m\u001b[36m(RolloutWorker pid=10332)\u001b[0m   warnings.warn(f\"Time-step timed out. Elapsed since last time-step: {now - self.__t_end}\")\n",
      "\u001b[2m\u001b[36m(RolloutWorker pid=10332)\u001b[0m c:\\Users\\nadir\\anaconda3\\envs\\GTAI2\\lib\\site-packages\\rtgym\\envs\\real_time_env.py:376: UserWarning: Time-step timed out. Elapsed since last time-step: 0.3301750000000254\n",
      "\u001b[2m\u001b[36m(RolloutWorker pid=10332)\u001b[0m   warnings.warn(f\"Time-step timed out. Elapsed since last time-step: {now - self.__t_end}\")\n",
      "\u001b[2m\u001b[36m(RolloutWorker pid=10332)\u001b[0m c:\\Users\\nadir\\anaconda3\\envs\\GTAI2\\lib\\site-packages\\rtgym\\envs\\real_time_env.py:376: UserWarning: Time-step timed out. Elapsed since last time-step: 0.3245155999999838\n",
      "\u001b[2m\u001b[36m(RolloutWorker pid=10332)\u001b[0m   warnings.warn(f\"Time-step timed out. Elapsed since last time-step: {now - self.__t_end}\")\n",
      "\u001b[2m\u001b[36m(RolloutWorker pid=10332)\u001b[0m c:\\Users\\nadir\\anaconda3\\envs\\GTAI2\\lib\\site-packages\\rtgym\\envs\\real_time_env.py:376: UserWarning: Time-step timed out. Elapsed since last time-step: 0.32565920000001825\n",
      "\u001b[2m\u001b[36m(RolloutWorker pid=10332)\u001b[0m   warnings.warn(f\"Time-step timed out. Elapsed since last time-step: {now - self.__t_end}\")\n",
      "\u001b[2m\u001b[36m(RolloutWorker pid=10332)\u001b[0m c:\\Users\\nadir\\anaconda3\\envs\\GTAI2\\lib\\site-packages\\rtgym\\envs\\real_time_env.py:376: UserWarning: Time-step timed out. Elapsed since last time-step: 0.31495649999999387\n",
      "\u001b[2m\u001b[36m(RolloutWorker pid=10332)\u001b[0m   warnings.warn(f\"Time-step timed out. Elapsed since last time-step: {now - self.__t_end}\")\n",
      "\u001b[2m\u001b[36m(RolloutWorker pid=10332)\u001b[0m c:\\Users\\nadir\\anaconda3\\envs\\GTAI2\\lib\\site-packages\\rtgym\\envs\\real_time_env.py:376: UserWarning: Time-step timed out. Elapsed since last time-step: 0.31075680000000716\n",
      "\u001b[2m\u001b[36m(RolloutWorker pid=10332)\u001b[0m   warnings.warn(f\"Time-step timed out. Elapsed since last time-step: {now - self.__t_end}\")\n",
      "\u001b[2m\u001b[36m(RolloutWorker pid=10332)\u001b[0m c:\\Users\\nadir\\anaconda3\\envs\\GTAI2\\lib\\site-packages\\rtgym\\envs\\real_time_env.py:376: UserWarning: Time-step timed out. Elapsed since last time-step: 0.31337310000000684\n",
      "\u001b[2m\u001b[36m(RolloutWorker pid=10332)\u001b[0m   warnings.warn(f\"Time-step timed out. Elapsed since last time-step: {now - self.__t_end}\")\n",
      "\u001b[2m\u001b[36m(RolloutWorker pid=10332)\u001b[0m c:\\Users\\nadir\\anaconda3\\envs\\GTAI2\\lib\\site-packages\\rtgym\\envs\\real_time_env.py:376: UserWarning: Time-step timed out. Elapsed since last time-step: 0.31058810000001813\n",
      "\u001b[2m\u001b[36m(RolloutWorker pid=10332)\u001b[0m   warnings.warn(f\"Time-step timed out. Elapsed since last time-step: {now - self.__t_end}\")\n",
      "\u001b[2m\u001b[36m(RolloutWorker pid=10332)\u001b[0m c:\\Users\\nadir\\anaconda3\\envs\\GTAI2\\lib\\site-packages\\rtgym\\envs\\real_time_env.py:376: UserWarning: Time-step timed out. Elapsed since last time-step: 0.35408899999998766\n",
      "\u001b[2m\u001b[36m(RolloutWorker pid=10332)\u001b[0m   warnings.warn(f\"Time-step timed out. Elapsed since last time-step: {now - self.__t_end}\")\n",
      "\u001b[2m\u001b[36m(RolloutWorker pid=10332)\u001b[0m c:\\Users\\nadir\\anaconda3\\envs\\GTAI2\\lib\\site-packages\\rtgym\\envs\\real_time_env.py:376: UserWarning: Time-step timed out. Elapsed since last time-step: 0.3609688000000233\n",
      "\u001b[2m\u001b[36m(RolloutWorker pid=10332)\u001b[0m   warnings.warn(f\"Time-step timed out. Elapsed since last time-step: {now - self.__t_end}\")\n",
      "\u001b[2m\u001b[36m(RolloutWorker pid=10332)\u001b[0m c:\\Users\\nadir\\anaconda3\\envs\\GTAI2\\lib\\site-packages\\rtgym\\envs\\real_time_env.py:376: UserWarning: Time-step timed out. Elapsed since last time-step: 0.31602150000000506\n",
      "\u001b[2m\u001b[36m(RolloutWorker pid=10332)\u001b[0m   warnings.warn(f\"Time-step timed out. Elapsed since last time-step: {now - self.__t_end}\")\n",
      "\u001b[2m\u001b[36m(RolloutWorker pid=10332)\u001b[0m c:\\Users\\nadir\\anaconda3\\envs\\GTAI2\\lib\\site-packages\\rtgym\\envs\\real_time_env.py:376: UserWarning: Time-step timed out. Elapsed since last time-step: 0.3106548000000089\n",
      "\u001b[2m\u001b[36m(RolloutWorker pid=10332)\u001b[0m   warnings.warn(f\"Time-step timed out. Elapsed since last time-step: {now - self.__t_end}\")\n",
      "\u001b[2m\u001b[36m(RolloutWorker pid=10332)\u001b[0m c:\\Users\\nadir\\anaconda3\\envs\\GTAI2\\lib\\site-packages\\rtgym\\envs\\real_time_env.py:376: UserWarning: Time-step timed out. Elapsed since last time-step: 0.31182580000000826\n",
      "\u001b[2m\u001b[36m(RolloutWorker pid=10332)\u001b[0m   warnings.warn(f\"Time-step timed out. Elapsed since last time-step: {now - self.__t_end}\")\n",
      "\u001b[2m\u001b[36m(RolloutWorker pid=10332)\u001b[0m c:\\Users\\nadir\\anaconda3\\envs\\GTAI2\\lib\\site-packages\\rtgym\\envs\\real_time_env.py:376: UserWarning: Time-step timed out. Elapsed since last time-step: 0.31122859999999264\n",
      "\u001b[2m\u001b[36m(RolloutWorker pid=10332)\u001b[0m   warnings.warn(f\"Time-step timed out. Elapsed since last time-step: {now - self.__t_end}\")\n",
      "\u001b[2m\u001b[36m(RolloutWorker pid=10332)\u001b[0m c:\\Users\\nadir\\anaconda3\\envs\\GTAI2\\lib\\site-packages\\rtgym\\envs\\real_time_env.py:376: UserWarning: Time-step timed out. Elapsed since last time-step: 0.37103620000002024\n",
      "\u001b[2m\u001b[36m(RolloutWorker pid=10332)\u001b[0m   warnings.warn(f\"Time-step timed out. Elapsed since last time-step: {now - self.__t_end}\")\n",
      "\u001b[2m\u001b[36m(RolloutWorker pid=10332)\u001b[0m c:\\Users\\nadir\\anaconda3\\envs\\GTAI2\\lib\\site-packages\\rtgym\\envs\\real_time_env.py:376: UserWarning: Time-step timed out. Elapsed since last time-step: 0.3555264999999963\n",
      "\u001b[2m\u001b[36m(RolloutWorker pid=10332)\u001b[0m   warnings.warn(f\"Time-step timed out. Elapsed since last time-step: {now - self.__t_end}\")\n",
      "\u001b[2m\u001b[36m(RolloutWorker pid=10332)\u001b[0m c:\\Users\\nadir\\anaconda3\\envs\\GTAI2\\lib\\site-packages\\rtgym\\envs\\real_time_env.py:376: UserWarning: Time-step timed out. Elapsed since last time-step: 0.3125411999999983\n",
      "\u001b[2m\u001b[36m(RolloutWorker pid=10332)\u001b[0m   warnings.warn(f\"Time-step timed out. Elapsed since last time-step: {now - self.__t_end}\")\n",
      "\u001b[2m\u001b[36m(RolloutWorker pid=10332)\u001b[0m c:\\Users\\nadir\\anaconda3\\envs\\GTAI2\\lib\\site-packages\\rtgym\\envs\\real_time_env.py:376: UserWarning: Time-step timed out. Elapsed since last time-step: 0.3143014999999991\n",
      "\u001b[2m\u001b[36m(RolloutWorker pid=10332)\u001b[0m   warnings.warn(f\"Time-step timed out. Elapsed since last time-step: {now - self.__t_end}\")\n",
      "\u001b[2m\u001b[36m(RolloutWorker pid=10332)\u001b[0m c:\\Users\\nadir\\anaconda3\\envs\\GTAI2\\lib\\site-packages\\rtgym\\envs\\real_time_env.py:376: UserWarning: Time-step timed out. Elapsed since last time-step: 0.3139064000000076\n",
      "\u001b[2m\u001b[36m(RolloutWorker pid=10332)\u001b[0m   warnings.warn(f\"Time-step timed out. Elapsed since last time-step: {now - self.__t_end}\")\n",
      "\u001b[2m\u001b[36m(RolloutWorker pid=10332)\u001b[0m c:\\Users\\nadir\\anaconda3\\envs\\GTAI2\\lib\\site-packages\\rtgym\\envs\\real_time_env.py:376: UserWarning: Time-step timed out. Elapsed since last time-step: 0.31218980000002716\n",
      "\u001b[2m\u001b[36m(RolloutWorker pid=10332)\u001b[0m   warnings.warn(f\"Time-step timed out. Elapsed since last time-step: {now - self.__t_end}\")\n",
      "\u001b[2m\u001b[36m(RolloutWorker pid=10332)\u001b[0m c:\\Users\\nadir\\anaconda3\\envs\\GTAI2\\lib\\site-packages\\rtgym\\envs\\real_time_env.py:376: UserWarning: Time-step timed out. Elapsed since last time-step: 0.37379179999999224\n",
      "\u001b[2m\u001b[36m(RolloutWorker pid=10332)\u001b[0m   warnings.warn(f\"Time-step timed out. Elapsed since last time-step: {now - self.__t_end}\")\n",
      "\u001b[2m\u001b[36m(RolloutWorker pid=10332)\u001b[0m c:\\Users\\nadir\\anaconda3\\envs\\GTAI2\\lib\\site-packages\\rtgym\\envs\\real_time_env.py:376: UserWarning: Time-step timed out. Elapsed since last time-step: 0.3708198000000209\n",
      "\u001b[2m\u001b[36m(RolloutWorker pid=10332)\u001b[0m   warnings.warn(f\"Time-step timed out. Elapsed since last time-step: {now - self.__t_end}\")\n",
      "\u001b[2m\u001b[36m(RolloutWorker pid=10332)\u001b[0m c:\\Users\\nadir\\anaconda3\\envs\\GTAI2\\lib\\site-packages\\rtgym\\envs\\real_time_env.py:376: UserWarning: Time-step timed out. Elapsed since last time-step: 0.35108839999998054\n",
      "\u001b[2m\u001b[36m(RolloutWorker pid=10332)\u001b[0m   warnings.warn(f\"Time-step timed out. Elapsed since last time-step: {now - self.__t_end}\")\n",
      "\u001b[2m\u001b[36m(RolloutWorker pid=10332)\u001b[0m c:\\Users\\nadir\\anaconda3\\envs\\GTAI2\\lib\\site-packages\\rtgym\\envs\\real_time_env.py:376: UserWarning: Time-step timed out. Elapsed since last time-step: 0.37223430000003077\n",
      "\u001b[2m\u001b[36m(RolloutWorker pid=10332)\u001b[0m   warnings.warn(f\"Time-step timed out. Elapsed since last time-step: {now - self.__t_end}\")\n",
      "\u001b[2m\u001b[36m(RolloutWorker pid=10332)\u001b[0m c:\\Users\\nadir\\anaconda3\\envs\\GTAI2\\lib\\site-packages\\rtgym\\envs\\real_time_env.py:376: UserWarning: Time-step timed out. Elapsed since last time-step: 0.3433039999999892\n",
      "\u001b[2m\u001b[36m(RolloutWorker pid=10332)\u001b[0m   warnings.warn(f\"Time-step timed out. Elapsed since last time-step: {now - self.__t_end}\")\n",
      "\u001b[2m\u001b[36m(RolloutWorker pid=10332)\u001b[0m c:\\Users\\nadir\\anaconda3\\envs\\GTAI2\\lib\\site-packages\\rtgym\\envs\\real_time_env.py:376: UserWarning: Time-step timed out. Elapsed since last time-step: 0.3134702000000118\n",
      "\u001b[2m\u001b[36m(RolloutWorker pid=10332)\u001b[0m   warnings.warn(f\"Time-step timed out. Elapsed since last time-step: {now - self.__t_end}\")\n",
      "\u001b[2m\u001b[36m(RolloutWorker pid=10332)\u001b[0m c:\\Users\\nadir\\anaconda3\\envs\\GTAI2\\lib\\site-packages\\rtgym\\envs\\real_time_env.py:376: UserWarning: Time-step timed out. Elapsed since last time-step: 0.3157555999999886\n",
      "\u001b[2m\u001b[36m(RolloutWorker pid=10332)\u001b[0m   warnings.warn(f\"Time-step timed out. Elapsed since last time-step: {now - self.__t_end}\")\n",
      "\u001b[2m\u001b[36m(RolloutWorker pid=10332)\u001b[0m c:\\Users\\nadir\\anaconda3\\envs\\GTAI2\\lib\\site-packages\\rtgym\\envs\\real_time_env.py:376: UserWarning: Time-step timed out. Elapsed since last time-step: 0.3122351000000094\n",
      "\u001b[2m\u001b[36m(RolloutWorker pid=10332)\u001b[0m   warnings.warn(f\"Time-step timed out. Elapsed since last time-step: {now - self.__t_end}\")\n",
      "\u001b[2m\u001b[36m(RolloutWorker pid=10332)\u001b[0m c:\\Users\\nadir\\anaconda3\\envs\\GTAI2\\lib\\site-packages\\rtgym\\envs\\real_time_env.py:376: UserWarning: Time-step timed out. Elapsed since last time-step: 0.31931430000000205\n",
      "\u001b[2m\u001b[36m(RolloutWorker pid=10332)\u001b[0m   warnings.warn(f\"Time-step timed out. Elapsed since last time-step: {now - self.__t_end}\")\n",
      "\u001b[2m\u001b[36m(RolloutWorker pid=10332)\u001b[0m c:\\Users\\nadir\\anaconda3\\envs\\GTAI2\\lib\\site-packages\\rtgym\\envs\\real_time_env.py:376: UserWarning: Time-step timed out. Elapsed since last time-step: 0.35694040000001337\n",
      "\u001b[2m\u001b[36m(RolloutWorker pid=10332)\u001b[0m   warnings.warn(f\"Time-step timed out. Elapsed since last time-step: {now - self.__t_end}\")\n",
      "\u001b[2m\u001b[36m(RolloutWorker pid=10332)\u001b[0m c:\\Users\\nadir\\anaconda3\\envs\\GTAI2\\lib\\site-packages\\rtgym\\envs\\real_time_env.py:376: UserWarning: Time-step timed out. Elapsed since last time-step: 0.34186720000002424\n",
      "\u001b[2m\u001b[36m(RolloutWorker pid=10332)\u001b[0m   warnings.warn(f\"Time-step timed out. Elapsed since last time-step: {now - self.__t_end}\")\n",
      "\u001b[2m\u001b[36m(RolloutWorker pid=10332)\u001b[0m c:\\Users\\nadir\\anaconda3\\envs\\GTAI2\\lib\\site-packages\\rtgym\\envs\\real_time_env.py:376: UserWarning: Time-step timed out. Elapsed since last time-step: 0.3996049999999798\n",
      "\u001b[2m\u001b[36m(RolloutWorker pid=10332)\u001b[0m   warnings.warn(f\"Time-step timed out. Elapsed since last time-step: {now - self.__t_end}\")\n",
      "\u001b[2m\u001b[36m(RolloutWorker pid=10332)\u001b[0m c:\\Users\\nadir\\anaconda3\\envs\\GTAI2\\lib\\site-packages\\rtgym\\envs\\real_time_env.py:376: UserWarning: Time-step timed out. Elapsed since last time-step: 0.3213855000000194\n",
      "\u001b[2m\u001b[36m(RolloutWorker pid=10332)\u001b[0m   warnings.warn(f\"Time-step timed out. Elapsed since last time-step: {now - self.__t_end}\")\n",
      "\u001b[2m\u001b[36m(RolloutWorker pid=10332)\u001b[0m c:\\Users\\nadir\\anaconda3\\envs\\GTAI2\\lib\\site-packages\\rtgym\\envs\\real_time_env.py:376: UserWarning: Time-step timed out. Elapsed since last time-step: 0.3102243000000158\n",
      "\u001b[2m\u001b[36m(RolloutWorker pid=10332)\u001b[0m   warnings.warn(f\"Time-step timed out. Elapsed since last time-step: {now - self.__t_end}\")\n",
      "\u001b[2m\u001b[36m(RolloutWorker pid=10332)\u001b[0m c:\\Users\\nadir\\anaconda3\\envs\\GTAI2\\lib\\site-packages\\rtgym\\envs\\real_time_env.py:376: UserWarning: Time-step timed out. Elapsed since last time-step: 0.313234499999993\n",
      "\u001b[2m\u001b[36m(RolloutWorker pid=10332)\u001b[0m   warnings.warn(f\"Time-step timed out. Elapsed since last time-step: {now - self.__t_end}\")\n",
      "\u001b[2m\u001b[36m(RolloutWorker pid=10332)\u001b[0m c:\\Users\\nadir\\anaconda3\\envs\\GTAI2\\lib\\site-packages\\rtgym\\envs\\real_time_env.py:376: UserWarning: Time-step timed out. Elapsed since last time-step: 0.34028449999999566\n",
      "\u001b[2m\u001b[36m(RolloutWorker pid=10332)\u001b[0m   warnings.warn(f\"Time-step timed out. Elapsed since last time-step: {now - self.__t_end}\")\n",
      "\u001b[2m\u001b[36m(RolloutWorker pid=10332)\u001b[0m c:\\Users\\nadir\\anaconda3\\envs\\GTAI2\\lib\\site-packages\\rtgym\\envs\\real_time_env.py:376: UserWarning: Time-step timed out. Elapsed since last time-step: 0.5701175000000092\n",
      "\u001b[2m\u001b[36m(RolloutWorker pid=10332)\u001b[0m   warnings.warn(f\"Time-step timed out. Elapsed since last time-step: {now - self.__t_end}\")\n",
      "\u001b[2m\u001b[36m(RolloutWorker pid=10332)\u001b[0m c:\\Users\\nadir\\anaconda3\\envs\\GTAI2\\lib\\site-packages\\rtgym\\envs\\real_time_env.py:376: UserWarning: Time-step timed out. Elapsed since last time-step: 0.31380400000000463\n",
      "\u001b[2m\u001b[36m(RolloutWorker pid=10332)\u001b[0m   warnings.warn(f\"Time-step timed out. Elapsed since last time-step: {now - self.__t_end}\")\n",
      "\u001b[2m\u001b[36m(RolloutWorker pid=10332)\u001b[0m c:\\Users\\nadir\\anaconda3\\envs\\GTAI2\\lib\\site-packages\\rtgym\\envs\\real_time_env.py:376: UserWarning: Time-step timed out. Elapsed since last time-step: 0.313566800000018\n",
      "\u001b[2m\u001b[36m(RolloutWorker pid=10332)\u001b[0m   warnings.warn(f\"Time-step timed out. Elapsed since last time-step: {now - self.__t_end}\")\n",
      "\u001b[2m\u001b[36m(RolloutWorker pid=10332)\u001b[0m c:\\Users\\nadir\\anaconda3\\envs\\GTAI2\\lib\\site-packages\\rtgym\\envs\\real_time_env.py:376: UserWarning: Time-step timed out. Elapsed since last time-step: 0.30911890000001563\n",
      "\u001b[2m\u001b[36m(RolloutWorker pid=10332)\u001b[0m   warnings.warn(f\"Time-step timed out. Elapsed since last time-step: {now - self.__t_end}\")\n",
      "\u001b[2m\u001b[36m(RolloutWorker pid=10332)\u001b[0m c:\\Users\\nadir\\anaconda3\\envs\\GTAI2\\lib\\site-packages\\rtgym\\envs\\real_time_env.py:376: UserWarning: Time-step timed out. Elapsed since last time-step: 0.3134505999999817\n",
      "\u001b[2m\u001b[36m(RolloutWorker pid=10332)\u001b[0m   warnings.warn(f\"Time-step timed out. Elapsed since last time-step: {now - self.__t_end}\")\n",
      "\u001b[2m\u001b[36m(RolloutWorker pid=10332)\u001b[0m c:\\Users\\nadir\\anaconda3\\envs\\GTAI2\\lib\\site-packages\\rtgym\\envs\\real_time_env.py:376: UserWarning: Time-step timed out. Elapsed since last time-step: 0.3652345000000139\n",
      "\u001b[2m\u001b[36m(RolloutWorker pid=10332)\u001b[0m   warnings.warn(f\"Time-step timed out. Elapsed since last time-step: {now - self.__t_end}\")\n",
      "\u001b[2m\u001b[36m(RolloutWorker pid=10332)\u001b[0m c:\\Users\\nadir\\anaconda3\\envs\\GTAI2\\lib\\site-packages\\rtgym\\envs\\real_time_env.py:376: UserWarning: Time-step timed out. Elapsed since last time-step: 0.32022960000000467\n",
      "\u001b[2m\u001b[36m(RolloutWorker pid=10332)\u001b[0m   warnings.warn(f\"Time-step timed out. Elapsed since last time-step: {now - self.__t_end}\")\n"
     ]
    },
    {
     "name": "stdout",
     "output_type": "stream",
     "text": [
      "Saved 15\n"
     ]
    },
    {
     "name": "stderr",
     "output_type": "stream",
     "text": [
      "\u001b[2m\u001b[36m(RolloutWorker pid=10332)\u001b[0m c:\\Users\\nadir\\anaconda3\\envs\\GTAI2\\lib\\site-packages\\rtgym\\envs\\real_time_env.py:376: UserWarning: Time-step timed out. Elapsed since last time-step: 0.430445600000013\n",
      "\u001b[2m\u001b[36m(RolloutWorker pid=10332)\u001b[0m   warnings.warn(f\"Time-step timed out. Elapsed since last time-step: {now - self.__t_end}\")\n",
      "\u001b[2m\u001b[36m(RolloutWorker pid=10332)\u001b[0m c:\\Users\\nadir\\anaconda3\\envs\\GTAI2\\lib\\site-packages\\rtgym\\envs\\real_time_env.py:376: UserWarning: Time-step timed out. Elapsed since last time-step: 0.3343477999999891\n",
      "\u001b[2m\u001b[36m(RolloutWorker pid=10332)\u001b[0m   warnings.warn(f\"Time-step timed out. Elapsed since last time-step: {now - self.__t_end}\")\n",
      "\u001b[2m\u001b[36m(RolloutWorker pid=10332)\u001b[0m c:\\Users\\nadir\\anaconda3\\envs\\GTAI2\\lib\\site-packages\\rtgym\\envs\\real_time_env.py:376: UserWarning: Time-step timed out. Elapsed since last time-step: 0.3332873000000234\n",
      "\u001b[2m\u001b[36m(RolloutWorker pid=10332)\u001b[0m   warnings.warn(f\"Time-step timed out. Elapsed since last time-step: {now - self.__t_end}\")\n",
      "\u001b[2m\u001b[36m(RolloutWorker pid=10332)\u001b[0m c:\\Users\\nadir\\anaconda3\\envs\\GTAI2\\lib\\site-packages\\rtgym\\envs\\real_time_env.py:376: UserWarning: Time-step timed out. Elapsed since last time-step: 0.38259089999999674\n",
      "\u001b[2m\u001b[36m(RolloutWorker pid=10332)\u001b[0m   warnings.warn(f\"Time-step timed out. Elapsed since last time-step: {now - self.__t_end}\")\n",
      "\u001b[2m\u001b[36m(RolloutWorker pid=10332)\u001b[0m c:\\Users\\nadir\\anaconda3\\envs\\GTAI2\\lib\\site-packages\\rtgym\\envs\\real_time_env.py:376: UserWarning: Time-step timed out. Elapsed since last time-step: 0.3969701000000043\n",
      "\u001b[2m\u001b[36m(RolloutWorker pid=10332)\u001b[0m   warnings.warn(f\"Time-step timed out. Elapsed since last time-step: {now - self.__t_end}\")\n",
      "\u001b[2m\u001b[36m(RolloutWorker pid=10332)\u001b[0m c:\\Users\\nadir\\anaconda3\\envs\\GTAI2\\lib\\site-packages\\rtgym\\envs\\real_time_env.py:376: UserWarning: Time-step timed out. Elapsed since last time-step: 0.38204420000002415\n",
      "\u001b[2m\u001b[36m(RolloutWorker pid=10332)\u001b[0m   warnings.warn(f\"Time-step timed out. Elapsed since last time-step: {now - self.__t_end}\")\n",
      "\u001b[2m\u001b[36m(RolloutWorker pid=10332)\u001b[0m c:\\Users\\nadir\\anaconda3\\envs\\GTAI2\\lib\\site-packages\\rtgym\\envs\\real_time_env.py:376: UserWarning: Time-step timed out. Elapsed since last time-step: 0.3245667999999853\n",
      "\u001b[2m\u001b[36m(RolloutWorker pid=10332)\u001b[0m   warnings.warn(f\"Time-step timed out. Elapsed since last time-step: {now - self.__t_end}\")\n",
      "\u001b[2m\u001b[36m(RolloutWorker pid=10332)\u001b[0m c:\\Users\\nadir\\anaconda3\\envs\\GTAI2\\lib\\site-packages\\rtgym\\envs\\real_time_env.py:376: UserWarning: Time-step timed out. Elapsed since last time-step: 0.31590600000001245\n",
      "\u001b[2m\u001b[36m(RolloutWorker pid=10332)\u001b[0m   warnings.warn(f\"Time-step timed out. Elapsed since last time-step: {now - self.__t_end}\")\n",
      "\u001b[2m\u001b[36m(RolloutWorker pid=10332)\u001b[0m c:\\Users\\nadir\\anaconda3\\envs\\GTAI2\\lib\\site-packages\\rtgym\\envs\\real_time_env.py:376: UserWarning: Time-step timed out. Elapsed since last time-step: 0.3109536999999989\n",
      "\u001b[2m\u001b[36m(RolloutWorker pid=10332)\u001b[0m   warnings.warn(f\"Time-step timed out. Elapsed since last time-step: {now - self.__t_end}\")\n",
      "\u001b[2m\u001b[36m(RolloutWorker pid=10332)\u001b[0m c:\\Users\\nadir\\anaconda3\\envs\\GTAI2\\lib\\site-packages\\rtgym\\envs\\real_time_env.py:376: UserWarning: Time-step timed out. Elapsed since last time-step: 0.3185206000000278\n",
      "\u001b[2m\u001b[36m(RolloutWorker pid=10332)\u001b[0m   warnings.warn(f\"Time-step timed out. Elapsed since last time-step: {now - self.__t_end}\")\n",
      "\u001b[2m\u001b[36m(RolloutWorker pid=10332)\u001b[0m c:\\Users\\nadir\\anaconda3\\envs\\GTAI2\\lib\\site-packages\\rtgym\\envs\\real_time_env.py:376: UserWarning: Time-step timed out. Elapsed since last time-step: 0.378541499999983\n",
      "\u001b[2m\u001b[36m(RolloutWorker pid=10332)\u001b[0m   warnings.warn(f\"Time-step timed out. Elapsed since last time-step: {now - self.__t_end}\")\n",
      "\u001b[2m\u001b[36m(RolloutWorker pid=10332)\u001b[0m c:\\Users\\nadir\\anaconda3\\envs\\GTAI2\\lib\\site-packages\\rtgym\\envs\\real_time_env.py:376: UserWarning: Time-step timed out. Elapsed since last time-step: 0.3219522000000268\n",
      "\u001b[2m\u001b[36m(RolloutWorker pid=10332)\u001b[0m   warnings.warn(f\"Time-step timed out. Elapsed since last time-step: {now - self.__t_end}\")\n",
      "\u001b[2m\u001b[36m(RolloutWorker pid=10332)\u001b[0m c:\\Users\\nadir\\anaconda3\\envs\\GTAI2\\lib\\site-packages\\rtgym\\envs\\real_time_env.py:376: UserWarning: Time-step timed out. Elapsed since last time-step: 0.32020520000000374\n",
      "\u001b[2m\u001b[36m(RolloutWorker pid=10332)\u001b[0m   warnings.warn(f\"Time-step timed out. Elapsed since last time-step: {now - self.__t_end}\")\n",
      "\u001b[2m\u001b[36m(RolloutWorker pid=10332)\u001b[0m c:\\Users\\nadir\\anaconda3\\envs\\GTAI2\\lib\\site-packages\\rtgym\\envs\\real_time_env.py:376: UserWarning: Time-step timed out. Elapsed since last time-step: 0.33887039999999047\n",
      "\u001b[2m\u001b[36m(RolloutWorker pid=10332)\u001b[0m   warnings.warn(f\"Time-step timed out. Elapsed since last time-step: {now - self.__t_end}\")\n",
      "\u001b[2m\u001b[36m(RolloutWorker pid=10332)\u001b[0m c:\\Users\\nadir\\anaconda3\\envs\\GTAI2\\lib\\site-packages\\rtgym\\envs\\real_time_env.py:376: UserWarning: Time-step timed out. Elapsed since last time-step: 0.3222872000000052\n",
      "\u001b[2m\u001b[36m(RolloutWorker pid=10332)\u001b[0m   warnings.warn(f\"Time-step timed out. Elapsed since last time-step: {now - self.__t_end}\")\n",
      "\u001b[2m\u001b[36m(RolloutWorker pid=10332)\u001b[0m c:\\Users\\nadir\\anaconda3\\envs\\GTAI2\\lib\\site-packages\\rtgym\\envs\\real_time_env.py:376: UserWarning: Time-step timed out. Elapsed since last time-step: 0.5039029000000141\n",
      "\u001b[2m\u001b[36m(RolloutWorker pid=10332)\u001b[0m   warnings.warn(f\"Time-step timed out. Elapsed since last time-step: {now - self.__t_end}\")\n",
      "\u001b[2m\u001b[36m(RolloutWorker pid=10332)\u001b[0m c:\\Users\\nadir\\anaconda3\\envs\\GTAI2\\lib\\site-packages\\rtgym\\envs\\real_time_env.py:376: UserWarning: Time-step timed out. Elapsed since last time-step: 0.31244720000000825\n",
      "\u001b[2m\u001b[36m(RolloutWorker pid=10332)\u001b[0m   warnings.warn(f\"Time-step timed out. Elapsed since last time-step: {now - self.__t_end}\")\n",
      "\u001b[2m\u001b[36m(RolloutWorker pid=10332)\u001b[0m c:\\Users\\nadir\\anaconda3\\envs\\GTAI2\\lib\\site-packages\\rtgym\\envs\\real_time_env.py:376: UserWarning: Time-step timed out. Elapsed since last time-step: 0.3090210000000013\n",
      "\u001b[2m\u001b[36m(RolloutWorker pid=10332)\u001b[0m   warnings.warn(f\"Time-step timed out. Elapsed since last time-step: {now - self.__t_end}\")\n",
      "\u001b[2m\u001b[36m(RolloutWorker pid=10332)\u001b[0m c:\\Users\\nadir\\anaconda3\\envs\\GTAI2\\lib\\site-packages\\rtgym\\envs\\real_time_env.py:376: UserWarning: Time-step timed out. Elapsed since last time-step: 0.31833819999999946\n",
      "\u001b[2m\u001b[36m(RolloutWorker pid=10332)\u001b[0m   warnings.warn(f\"Time-step timed out. Elapsed since last time-step: {now - self.__t_end}\")\n",
      "\u001b[2m\u001b[36m(RolloutWorker pid=10332)\u001b[0m c:\\Users\\nadir\\anaconda3\\envs\\GTAI2\\lib\\site-packages\\rtgym\\envs\\real_time_env.py:376: UserWarning: Time-step timed out. Elapsed since last time-step: 0.32261790000001156\n",
      "\u001b[2m\u001b[36m(RolloutWorker pid=10332)\u001b[0m   warnings.warn(f\"Time-step timed out. Elapsed since last time-step: {now - self.__t_end}\")\n",
      "\u001b[2m\u001b[36m(RolloutWorker pid=10332)\u001b[0m c:\\Users\\nadir\\anaconda3\\envs\\GTAI2\\lib\\site-packages\\rtgym\\envs\\real_time_env.py:376: UserWarning: Time-step timed out. Elapsed since last time-step: 0.3218014999999923\n",
      "\u001b[2m\u001b[36m(RolloutWorker pid=10332)\u001b[0m   warnings.warn(f\"Time-step timed out. Elapsed since last time-step: {now - self.__t_end}\")\n",
      "\u001b[2m\u001b[36m(RolloutWorker pid=10332)\u001b[0m c:\\Users\\nadir\\anaconda3\\envs\\GTAI2\\lib\\site-packages\\rtgym\\envs\\real_time_env.py:376: UserWarning: Time-step timed out. Elapsed since last time-step: 0.39884560000001557\n",
      "\u001b[2m\u001b[36m(RolloutWorker pid=10332)\u001b[0m   warnings.warn(f\"Time-step timed out. Elapsed since last time-step: {now - self.__t_end}\")\n",
      "\u001b[2m\u001b[36m(RolloutWorker pid=10332)\u001b[0m c:\\Users\\nadir\\anaconda3\\envs\\GTAI2\\lib\\site-packages\\rtgym\\envs\\real_time_env.py:376: UserWarning: Time-step timed out. Elapsed since last time-step: 0.39831230000001483\n",
      "\u001b[2m\u001b[36m(RolloutWorker pid=10332)\u001b[0m   warnings.warn(f\"Time-step timed out. Elapsed since last time-step: {now - self.__t_end}\")\n",
      "\u001b[2m\u001b[36m(RolloutWorker pid=10332)\u001b[0m c:\\Users\\nadir\\anaconda3\\envs\\GTAI2\\lib\\site-packages\\rtgym\\envs\\real_time_env.py:376: UserWarning: Time-step timed out. Elapsed since last time-step: 0.3145416000000125\n",
      "\u001b[2m\u001b[36m(RolloutWorker pid=10332)\u001b[0m   warnings.warn(f\"Time-step timed out. Elapsed since last time-step: {now - self.__t_end}\")\n",
      "\u001b[2m\u001b[36m(RolloutWorker pid=10332)\u001b[0m c:\\Users\\nadir\\anaconda3\\envs\\GTAI2\\lib\\site-packages\\rtgym\\envs\\real_time_env.py:376: UserWarning: Time-step timed out. Elapsed since last time-step: 0.31554969999999116\n",
      "\u001b[2m\u001b[36m(RolloutWorker pid=10332)\u001b[0m   warnings.warn(f\"Time-step timed out. Elapsed since last time-step: {now - self.__t_end}\")\n",
      "\u001b[2m\u001b[36m(RolloutWorker pid=10332)\u001b[0m c:\\Users\\nadir\\anaconda3\\envs\\GTAI2\\lib\\site-packages\\rtgym\\envs\\real_time_env.py:376: UserWarning: Time-step timed out. Elapsed since last time-step: 0.3129656000000125\n",
      "\u001b[2m\u001b[36m(RolloutWorker pid=10332)\u001b[0m   warnings.warn(f\"Time-step timed out. Elapsed since last time-step: {now - self.__t_end}\")\n",
      "\u001b[2m\u001b[36m(RolloutWorker pid=10332)\u001b[0m c:\\Users\\nadir\\anaconda3\\envs\\GTAI2\\lib\\site-packages\\rtgym\\envs\\real_time_env.py:376: UserWarning: Time-step timed out. Elapsed since last time-step: 0.31501049999999964\n",
      "\u001b[2m\u001b[36m(RolloutWorker pid=10332)\u001b[0m   warnings.warn(f\"Time-step timed out. Elapsed since last time-step: {now - self.__t_end}\")\n",
      "\u001b[2m\u001b[36m(RolloutWorker pid=10332)\u001b[0m c:\\Users\\nadir\\anaconda3\\envs\\GTAI2\\lib\\site-packages\\rtgym\\envs\\real_time_env.py:376: UserWarning: Time-step timed out. Elapsed since last time-step: 0.3975708000000111\n",
      "\u001b[2m\u001b[36m(RolloutWorker pid=10332)\u001b[0m   warnings.warn(f\"Time-step timed out. Elapsed since last time-step: {now - self.__t_end}\")\n",
      "\u001b[2m\u001b[36m(RolloutWorker pid=10332)\u001b[0m c:\\Users\\nadir\\anaconda3\\envs\\GTAI2\\lib\\site-packages\\rtgym\\envs\\real_time_env.py:376: UserWarning: Time-step timed out. Elapsed since last time-step: 0.36618649999999775\n",
      "\u001b[2m\u001b[36m(RolloutWorker pid=10332)\u001b[0m   warnings.warn(f\"Time-step timed out. Elapsed since last time-step: {now - self.__t_end}\")\n",
      "\u001b[2m\u001b[36m(RolloutWorker pid=10332)\u001b[0m c:\\Users\\nadir\\anaconda3\\envs\\GTAI2\\lib\\site-packages\\rtgym\\envs\\real_time_env.py:376: UserWarning: Time-step timed out. Elapsed since last time-step: 0.33118280000002187\n",
      "\u001b[2m\u001b[36m(RolloutWorker pid=10332)\u001b[0m   warnings.warn(f\"Time-step timed out. Elapsed since last time-step: {now - self.__t_end}\")\n",
      "\u001b[2m\u001b[36m(RolloutWorker pid=10332)\u001b[0m c:\\Users\\nadir\\anaconda3\\envs\\GTAI2\\lib\\site-packages\\rtgym\\envs\\real_time_env.py:376: UserWarning: Time-step timed out. Elapsed since last time-step: 0.3226882999999816\n",
      "\u001b[2m\u001b[36m(RolloutWorker pid=10332)\u001b[0m   warnings.warn(f\"Time-step timed out. Elapsed since last time-step: {now - self.__t_end}\")\n",
      "\u001b[2m\u001b[36m(RolloutWorker pid=10332)\u001b[0m c:\\Users\\nadir\\anaconda3\\envs\\GTAI2\\lib\\site-packages\\rtgym\\envs\\real_time_env.py:376: UserWarning: Time-step timed out. Elapsed since last time-step: 0.32575990000000843\n",
      "\u001b[2m\u001b[36m(RolloutWorker pid=10332)\u001b[0m   warnings.warn(f\"Time-step timed out. Elapsed since last time-step: {now - self.__t_end}\")\n",
      "\u001b[2m\u001b[36m(RolloutWorker pid=10332)\u001b[0m c:\\Users\\nadir\\anaconda3\\envs\\GTAI2\\lib\\site-packages\\rtgym\\envs\\real_time_env.py:376: UserWarning: Time-step timed out. Elapsed since last time-step: 0.33530710000002273\n",
      "\u001b[2m\u001b[36m(RolloutWorker pid=10332)\u001b[0m   warnings.warn(f\"Time-step timed out. Elapsed since last time-step: {now - self.__t_end}\")\n",
      "\u001b[2m\u001b[36m(RolloutWorker pid=10332)\u001b[0m c:\\Users\\nadir\\anaconda3\\envs\\GTAI2\\lib\\site-packages\\rtgym\\envs\\real_time_env.py:376: UserWarning: Time-step timed out. Elapsed since last time-step: 0.5030057999999826\n",
      "\u001b[2m\u001b[36m(RolloutWorker pid=10332)\u001b[0m   warnings.warn(f\"Time-step timed out. Elapsed since last time-step: {now - self.__t_end}\")\n",
      "\u001b[2m\u001b[36m(RolloutWorker pid=10332)\u001b[0m c:\\Users\\nadir\\anaconda3\\envs\\GTAI2\\lib\\site-packages\\rtgym\\envs\\real_time_env.py:376: UserWarning: Time-step timed out. Elapsed since last time-step: 0.40215790000002016\n",
      "\u001b[2m\u001b[36m(RolloutWorker pid=10332)\u001b[0m   warnings.warn(f\"Time-step timed out. Elapsed since last time-step: {now - self.__t_end}\")\n",
      "\u001b[2m\u001b[36m(RolloutWorker pid=10332)\u001b[0m c:\\Users\\nadir\\anaconda3\\envs\\GTAI2\\lib\\site-packages\\rtgym\\envs\\real_time_env.py:376: UserWarning: Time-step timed out. Elapsed since last time-step: 0.32594349999999395\n",
      "\u001b[2m\u001b[36m(RolloutWorker pid=10332)\u001b[0m   warnings.warn(f\"Time-step timed out. Elapsed since last time-step: {now - self.__t_end}\")\n",
      "\u001b[2m\u001b[36m(RolloutWorker pid=10332)\u001b[0m c:\\Users\\nadir\\anaconda3\\envs\\GTAI2\\lib\\site-packages\\rtgym\\envs\\real_time_env.py:376: UserWarning: Time-step timed out. Elapsed since last time-step: 0.32033660000001873\n",
      "\u001b[2m\u001b[36m(RolloutWorker pid=10332)\u001b[0m   warnings.warn(f\"Time-step timed out. Elapsed since last time-step: {now - self.__t_end}\")\n",
      "\u001b[2m\u001b[36m(RolloutWorker pid=10332)\u001b[0m c:\\Users\\nadir\\anaconda3\\envs\\GTAI2\\lib\\site-packages\\rtgym\\envs\\real_time_env.py:376: UserWarning: Time-step timed out. Elapsed since last time-step: 0.31567359999999667\n",
      "\u001b[2m\u001b[36m(RolloutWorker pid=10332)\u001b[0m   warnings.warn(f\"Time-step timed out. Elapsed since last time-step: {now - self.__t_end}\")\n",
      "\u001b[2m\u001b[36m(RolloutWorker pid=10332)\u001b[0m c:\\Users\\nadir\\anaconda3\\envs\\GTAI2\\lib\\site-packages\\rtgym\\envs\\real_time_env.py:376: UserWarning: Time-step timed out. Elapsed since last time-step: 0.31434670000001574\n",
      "\u001b[2m\u001b[36m(RolloutWorker pid=10332)\u001b[0m   warnings.warn(f\"Time-step timed out. Elapsed since last time-step: {now - self.__t_end}\")\n",
      "\u001b[2m\u001b[36m(RolloutWorker pid=10332)\u001b[0m c:\\Users\\nadir\\anaconda3\\envs\\GTAI2\\lib\\site-packages\\rtgym\\envs\\real_time_env.py:376: UserWarning: Time-step timed out. Elapsed since last time-step: 0.32202780000000075\n",
      "\u001b[2m\u001b[36m(RolloutWorker pid=10332)\u001b[0m   warnings.warn(f\"Time-step timed out. Elapsed since last time-step: {now - self.__t_end}\")\n",
      "\u001b[2m\u001b[36m(RolloutWorker pid=10332)\u001b[0m c:\\Users\\nadir\\anaconda3\\envs\\GTAI2\\lib\\site-packages\\rtgym\\envs\\real_time_env.py:376: UserWarning: Time-step timed out. Elapsed since last time-step: 0.32943700000001286\n",
      "\u001b[2m\u001b[36m(RolloutWorker pid=10332)\u001b[0m   warnings.warn(f\"Time-step timed out. Elapsed since last time-step: {now - self.__t_end}\")\n",
      "\u001b[2m\u001b[36m(RolloutWorker pid=10332)\u001b[0m c:\\Users\\nadir\\anaconda3\\envs\\GTAI2\\lib\\site-packages\\rtgym\\envs\\real_time_env.py:376: UserWarning: Time-step timed out. Elapsed since last time-step: 0.35088460000000055\n",
      "\u001b[2m\u001b[36m(RolloutWorker pid=10332)\u001b[0m   warnings.warn(f\"Time-step timed out. Elapsed since last time-step: {now - self.__t_end}\")\n",
      "\u001b[2m\u001b[36m(RolloutWorker pid=10332)\u001b[0m c:\\Users\\nadir\\anaconda3\\envs\\GTAI2\\lib\\site-packages\\rtgym\\envs\\real_time_env.py:376: UserWarning: Time-step timed out. Elapsed since last time-step: 0.45995970000001307\n",
      "\u001b[2m\u001b[36m(RolloutWorker pid=10332)\u001b[0m   warnings.warn(f\"Time-step timed out. Elapsed since last time-step: {now - self.__t_end}\")\n",
      "\u001b[2m\u001b[36m(RolloutWorker pid=10332)\u001b[0m c:\\Users\\nadir\\anaconda3\\envs\\GTAI2\\lib\\site-packages\\rtgym\\envs\\real_time_env.py:376: UserWarning: Time-step timed out. Elapsed since last time-step: 0.30993369999998777\n",
      "\u001b[2m\u001b[36m(RolloutWorker pid=10332)\u001b[0m   warnings.warn(f\"Time-step timed out. Elapsed since last time-step: {now - self.__t_end}\")\n",
      "\u001b[2m\u001b[36m(RolloutWorker pid=10332)\u001b[0m c:\\Users\\nadir\\anaconda3\\envs\\GTAI2\\lib\\site-packages\\rtgym\\envs\\real_time_env.py:376: UserWarning: Time-step timed out. Elapsed since last time-step: 0.31389600000002815\n",
      "\u001b[2m\u001b[36m(RolloutWorker pid=10332)\u001b[0m   warnings.warn(f\"Time-step timed out. Elapsed since last time-step: {now - self.__t_end}\")\n",
      "\u001b[2m\u001b[36m(RolloutWorker pid=10332)\u001b[0m c:\\Users\\nadir\\anaconda3\\envs\\GTAI2\\lib\\site-packages\\rtgym\\envs\\real_time_env.py:376: UserWarning: Time-step timed out. Elapsed since last time-step: 0.31301650000000336\n",
      "\u001b[2m\u001b[36m(RolloutWorker pid=10332)\u001b[0m   warnings.warn(f\"Time-step timed out. Elapsed since last time-step: {now - self.__t_end}\")\n",
      "\u001b[2m\u001b[36m(RolloutWorker pid=10332)\u001b[0m c:\\Users\\nadir\\anaconda3\\envs\\GTAI2\\lib\\site-packages\\rtgym\\envs\\real_time_env.py:376: UserWarning: Time-step timed out. Elapsed since last time-step: 0.31080639999998994\n",
      "\u001b[2m\u001b[36m(RolloutWorker pid=10332)\u001b[0m   warnings.warn(f\"Time-step timed out. Elapsed since last time-step: {now - self.__t_end}\")\n",
      "\u001b[2m\u001b[36m(RolloutWorker pid=10332)\u001b[0m c:\\Users\\nadir\\anaconda3\\envs\\GTAI2\\lib\\site-packages\\rtgym\\envs\\real_time_env.py:376: UserWarning: Time-step timed out. Elapsed since last time-step: 0.34522900000001755\n",
      "\u001b[2m\u001b[36m(RolloutWorker pid=10332)\u001b[0m   warnings.warn(f\"Time-step timed out. Elapsed since last time-step: {now - self.__t_end}\")\n",
      "\u001b[2m\u001b[36m(RolloutWorker pid=10332)\u001b[0m c:\\Users\\nadir\\anaconda3\\envs\\GTAI2\\lib\\site-packages\\rtgym\\envs\\real_time_env.py:376: UserWarning: Time-step timed out. Elapsed since last time-step: 0.3719787999999937\n",
      "\u001b[2m\u001b[36m(RolloutWorker pid=10332)\u001b[0m   warnings.warn(f\"Time-step timed out. Elapsed since last time-step: {now - self.__t_end}\")\n",
      "\u001b[2m\u001b[36m(RolloutWorker pid=10332)\u001b[0m c:\\Users\\nadir\\anaconda3\\envs\\GTAI2\\lib\\site-packages\\rtgym\\envs\\real_time_env.py:376: UserWarning: Time-step timed out. Elapsed since last time-step: 0.3104816000000028\n",
      "\u001b[2m\u001b[36m(RolloutWorker pid=10332)\u001b[0m   warnings.warn(f\"Time-step timed out. Elapsed since last time-step: {now - self.__t_end}\")\n",
      "\u001b[2m\u001b[36m(RolloutWorker pid=10332)\u001b[0m c:\\Users\\nadir\\anaconda3\\envs\\GTAI2\\lib\\site-packages\\rtgym\\envs\\real_time_env.py:376: UserWarning: Time-step timed out. Elapsed since last time-step: 0.3155745000000252\n",
      "\u001b[2m\u001b[36m(RolloutWorker pid=10332)\u001b[0m   warnings.warn(f\"Time-step timed out. Elapsed since last time-step: {now - self.__t_end}\")\n",
      "\u001b[2m\u001b[36m(RolloutWorker pid=10332)\u001b[0m c:\\Users\\nadir\\anaconda3\\envs\\GTAI2\\lib\\site-packages\\rtgym\\envs\\real_time_env.py:376: UserWarning: Time-step timed out. Elapsed since last time-step: 0.31680769999999825\n",
      "\u001b[2m\u001b[36m(RolloutWorker pid=10332)\u001b[0m   warnings.warn(f\"Time-step timed out. Elapsed since last time-step: {now - self.__t_end}\")\n",
      "\u001b[2m\u001b[36m(RolloutWorker pid=10332)\u001b[0m c:\\Users\\nadir\\anaconda3\\envs\\GTAI2\\lib\\site-packages\\rtgym\\envs\\real_time_env.py:376: UserWarning: Time-step timed out. Elapsed since last time-step: 0.3135767999999928\n",
      "\u001b[2m\u001b[36m(RolloutWorker pid=10332)\u001b[0m   warnings.warn(f\"Time-step timed out. Elapsed since last time-step: {now - self.__t_end}\")\n",
      "\u001b[2m\u001b[36m(RolloutWorker pid=10332)\u001b[0m c:\\Users\\nadir\\anaconda3\\envs\\GTAI2\\lib\\site-packages\\rtgym\\envs\\real_time_env.py:376: UserWarning: Time-step timed out. Elapsed since last time-step: 0.330377000000027\n",
      "\u001b[2m\u001b[36m(RolloutWorker pid=10332)\u001b[0m   warnings.warn(f\"Time-step timed out. Elapsed since last time-step: {now - self.__t_end}\")\n",
      "\u001b[2m\u001b[36m(RolloutWorker pid=10332)\u001b[0m c:\\Users\\nadir\\anaconda3\\envs\\GTAI2\\lib\\site-packages\\rtgym\\envs\\real_time_env.py:376: UserWarning: Time-step timed out. Elapsed since last time-step: 0.320992700000005\n",
      "\u001b[2m\u001b[36m(RolloutWorker pid=10332)\u001b[0m   warnings.warn(f\"Time-step timed out. Elapsed since last time-step: {now - self.__t_end}\")\n",
      "\u001b[2m\u001b[36m(RolloutWorker pid=10332)\u001b[0m c:\\Users\\nadir\\anaconda3\\envs\\GTAI2\\lib\\site-packages\\rtgym\\envs\\real_time_env.py:376: UserWarning: Time-step timed out. Elapsed since last time-step: 0.3567318000000057\n",
      "\u001b[2m\u001b[36m(RolloutWorker pid=10332)\u001b[0m   warnings.warn(f\"Time-step timed out. Elapsed since last time-step: {now - self.__t_end}\")\n",
      "\u001b[2m\u001b[36m(RolloutWorker pid=10332)\u001b[0m c:\\Users\\nadir\\anaconda3\\envs\\GTAI2\\lib\\site-packages\\rtgym\\envs\\real_time_env.py:376: UserWarning: Time-step timed out. Elapsed since last time-step: 0.3582700999999986\n",
      "\u001b[2m\u001b[36m(RolloutWorker pid=10332)\u001b[0m   warnings.warn(f\"Time-step timed out. Elapsed since last time-step: {now - self.__t_end}\")\n",
      "\u001b[2m\u001b[36m(RolloutWorker pid=10332)\u001b[0m c:\\Users\\nadir\\anaconda3\\envs\\GTAI2\\lib\\site-packages\\rtgym\\envs\\real_time_env.py:376: UserWarning: Time-step timed out. Elapsed since last time-step: 0.3623986000000059\n",
      "\u001b[2m\u001b[36m(RolloutWorker pid=10332)\u001b[0m   warnings.warn(f\"Time-step timed out. Elapsed since last time-step: {now - self.__t_end}\")\n",
      "\u001b[2m\u001b[36m(RolloutWorker pid=10332)\u001b[0m c:\\Users\\nadir\\anaconda3\\envs\\GTAI2\\lib\\site-packages\\rtgym\\envs\\real_time_env.py:376: UserWarning: Time-step timed out. Elapsed since last time-step: 0.34510819999999853\n",
      "\u001b[2m\u001b[36m(RolloutWorker pid=10332)\u001b[0m   warnings.warn(f\"Time-step timed out. Elapsed since last time-step: {now - self.__t_end}\")\n",
      "\u001b[2m\u001b[36m(RolloutWorker pid=10332)\u001b[0m c:\\Users\\nadir\\anaconda3\\envs\\GTAI2\\lib\\site-packages\\rtgym\\envs\\real_time_env.py:376: UserWarning: Time-step timed out. Elapsed since last time-step: 0.3176888000000133\n",
      "\u001b[2m\u001b[36m(RolloutWorker pid=10332)\u001b[0m   warnings.warn(f\"Time-step timed out. Elapsed since last time-step: {now - self.__t_end}\")\n",
      "\u001b[2m\u001b[36m(RolloutWorker pid=10332)\u001b[0m c:\\Users\\nadir\\anaconda3\\envs\\GTAI2\\lib\\site-packages\\rtgym\\envs\\real_time_env.py:376: UserWarning: Time-step timed out. Elapsed since last time-step: 0.3141075999999998\n",
      "\u001b[2m\u001b[36m(RolloutWorker pid=10332)\u001b[0m   warnings.warn(f\"Time-step timed out. Elapsed since last time-step: {now - self.__t_end}\")\n",
      "\u001b[2m\u001b[36m(RolloutWorker pid=10332)\u001b[0m c:\\Users\\nadir\\anaconda3\\envs\\GTAI2\\lib\\site-packages\\rtgym\\envs\\real_time_env.py:376: UserWarning: Time-step timed out. Elapsed since last time-step: 0.31551760000002105\n",
      "\u001b[2m\u001b[36m(RolloutWorker pid=10332)\u001b[0m   warnings.warn(f\"Time-step timed out. Elapsed since last time-step: {now - self.__t_end}\")\n"
     ]
    },
    {
     "name": "stdout",
     "output_type": "stream",
     "text": [
      "\u001b[2m\u001b[36m(RolloutWorker pid=10332)\u001b[0m reset triggered\n",
      "\u001b[2m\u001b[36m(RolloutWorker pid=10332)\u001b[0m reload save\n"
     ]
    },
    {
     "name": "stderr",
     "output_type": "stream",
     "text": [
      "\u001b[2m\u001b[36m(RolloutWorker pid=10332)\u001b[0m c:\\Users\\nadir\\anaconda3\\envs\\GTAI2\\lib\\site-packages\\rtgym\\envs\\real_time_env.py:376: UserWarning: Time-step timed out. Elapsed since last time-step: 0.8538044999999954\n",
      "\u001b[2m\u001b[36m(RolloutWorker pid=10332)\u001b[0m   warnings.warn(f\"Time-step timed out. Elapsed since last time-step: {now - self.__t_end}\")\n",
      "\u001b[2m\u001b[36m(RolloutWorker pid=10332)\u001b[0m c:\\Users\\nadir\\anaconda3\\envs\\GTAI2\\lib\\site-packages\\rtgym\\envs\\real_time_env.py:376: UserWarning: Time-step timed out. Elapsed since last time-step: 0.37082430000000954\n",
      "\u001b[2m\u001b[36m(RolloutWorker pid=10332)\u001b[0m   warnings.warn(f\"Time-step timed out. Elapsed since last time-step: {now - self.__t_end}\")\n",
      "\u001b[2m\u001b[36m(RolloutWorker pid=10332)\u001b[0m c:\\Users\\nadir\\anaconda3\\envs\\GTAI2\\lib\\site-packages\\rtgym\\envs\\real_time_env.py:376: UserWarning: Time-step timed out. Elapsed since last time-step: 0.36751160000000027\n",
      "\u001b[2m\u001b[36m(RolloutWorker pid=10332)\u001b[0m   warnings.warn(f\"Time-step timed out. Elapsed since last time-step: {now - self.__t_end}\")\n",
      "\u001b[2m\u001b[36m(RolloutWorker pid=10332)\u001b[0m c:\\Users\\nadir\\anaconda3\\envs\\GTAI2\\lib\\site-packages\\rtgym\\envs\\real_time_env.py:376: UserWarning: Time-step timed out. Elapsed since last time-step: 0.35296429999999646\n",
      "\u001b[2m\u001b[36m(RolloutWorker pid=10332)\u001b[0m   warnings.warn(f\"Time-step timed out. Elapsed since last time-step: {now - self.__t_end}\")\n",
      "\u001b[2m\u001b[36m(RolloutWorker pid=10332)\u001b[0m c:\\Users\\nadir\\anaconda3\\envs\\GTAI2\\lib\\site-packages\\rtgym\\envs\\real_time_env.py:376: UserWarning: Time-step timed out. Elapsed since last time-step: 0.3198238000000231\n",
      "\u001b[2m\u001b[36m(RolloutWorker pid=10332)\u001b[0m   warnings.warn(f\"Time-step timed out. Elapsed since last time-step: {now - self.__t_end}\")\n",
      "\u001b[2m\u001b[36m(RolloutWorker pid=10332)\u001b[0m c:\\Users\\nadir\\anaconda3\\envs\\GTAI2\\lib\\site-packages\\rtgym\\envs\\real_time_env.py:376: UserWarning: Time-step timed out. Elapsed since last time-step: 0.313178999999991\n",
      "\u001b[2m\u001b[36m(RolloutWorker pid=10332)\u001b[0m   warnings.warn(f\"Time-step timed out. Elapsed since last time-step: {now - self.__t_end}\")\n",
      "\u001b[2m\u001b[36m(RolloutWorker pid=10332)\u001b[0m c:\\Users\\nadir\\anaconda3\\envs\\GTAI2\\lib\\site-packages\\rtgym\\envs\\real_time_env.py:376: UserWarning: Time-step timed out. Elapsed since last time-step: 0.31393380000002935\n",
      "\u001b[2m\u001b[36m(RolloutWorker pid=10332)\u001b[0m   warnings.warn(f\"Time-step timed out. Elapsed since last time-step: {now - self.__t_end}\")\n",
      "\u001b[2m\u001b[36m(RolloutWorker pid=10332)\u001b[0m c:\\Users\\nadir\\anaconda3\\envs\\GTAI2\\lib\\site-packages\\rtgym\\envs\\real_time_env.py:376: UserWarning: Time-step timed out. Elapsed since last time-step: 0.3154519999999934\n",
      "\u001b[2m\u001b[36m(RolloutWorker pid=10332)\u001b[0m   warnings.warn(f\"Time-step timed out. Elapsed since last time-step: {now - self.__t_end}\")\n",
      "\u001b[2m\u001b[36m(RolloutWorker pid=10332)\u001b[0m c:\\Users\\nadir\\anaconda3\\envs\\GTAI2\\lib\\site-packages\\rtgym\\envs\\real_time_env.py:376: UserWarning: Time-step timed out. Elapsed since last time-step: 0.35959439999999177\n",
      "\u001b[2m\u001b[36m(RolloutWorker pid=10332)\u001b[0m   warnings.warn(f\"Time-step timed out. Elapsed since last time-step: {now - self.__t_end}\")\n",
      "\u001b[2m\u001b[36m(RolloutWorker pid=10332)\u001b[0m c:\\Users\\nadir\\anaconda3\\envs\\GTAI2\\lib\\site-packages\\rtgym\\envs\\real_time_env.py:376: UserWarning: Time-step timed out. Elapsed since last time-step: 0.367315700000006\n",
      "\u001b[2m\u001b[36m(RolloutWorker pid=10332)\u001b[0m   warnings.warn(f\"Time-step timed out. Elapsed since last time-step: {now - self.__t_end}\")\n",
      "\u001b[2m\u001b[36m(RolloutWorker pid=10332)\u001b[0m c:\\Users\\nadir\\anaconda3\\envs\\GTAI2\\lib\\site-packages\\rtgym\\envs\\real_time_env.py:376: UserWarning: Time-step timed out. Elapsed since last time-step: 0.3927621000000272\n",
      "\u001b[2m\u001b[36m(RolloutWorker pid=10332)\u001b[0m   warnings.warn(f\"Time-step timed out. Elapsed since last time-step: {now - self.__t_end}\")\n",
      "\u001b[2m\u001b[36m(RolloutWorker pid=10332)\u001b[0m c:\\Users\\nadir\\anaconda3\\envs\\GTAI2\\lib\\site-packages\\rtgym\\envs\\real_time_env.py:376: UserWarning: Time-step timed out. Elapsed since last time-step: 0.31017940000000976\n",
      "\u001b[2m\u001b[36m(RolloutWorker pid=10332)\u001b[0m   warnings.warn(f\"Time-step timed out. Elapsed since last time-step: {now - self.__t_end}\")\n",
      "\u001b[2m\u001b[36m(RolloutWorker pid=10332)\u001b[0m c:\\Users\\nadir\\anaconda3\\envs\\GTAI2\\lib\\site-packages\\rtgym\\envs\\real_time_env.py:376: UserWarning: Time-step timed out. Elapsed since last time-step: 0.31180999999997994\n",
      "\u001b[2m\u001b[36m(RolloutWorker pid=10332)\u001b[0m   warnings.warn(f\"Time-step timed out. Elapsed since last time-step: {now - self.__t_end}\")\n",
      "\u001b[2m\u001b[36m(RolloutWorker pid=10332)\u001b[0m c:\\Users\\nadir\\anaconda3\\envs\\GTAI2\\lib\\site-packages\\rtgym\\envs\\real_time_env.py:376: UserWarning: Time-step timed out. Elapsed since last time-step: 0.48634500000002845\n",
      "\u001b[2m\u001b[36m(RolloutWorker pid=10332)\u001b[0m   warnings.warn(f\"Time-step timed out. Elapsed since last time-step: {now - self.__t_end}\")\n",
      "\u001b[2m\u001b[36m(RolloutWorker pid=10332)\u001b[0m c:\\Users\\nadir\\anaconda3\\envs\\GTAI2\\lib\\site-packages\\rtgym\\envs\\real_time_env.py:376: UserWarning: Time-step timed out. Elapsed since last time-step: 0.335569200000009\n",
      "\u001b[2m\u001b[36m(RolloutWorker pid=10332)\u001b[0m   warnings.warn(f\"Time-step timed out. Elapsed since last time-step: {now - self.__t_end}\")\n",
      "\u001b[2m\u001b[36m(RolloutWorker pid=10332)\u001b[0m c:\\Users\\nadir\\anaconda3\\envs\\GTAI2\\lib\\site-packages\\rtgym\\envs\\real_time_env.py:376: UserWarning: Time-step timed out. Elapsed since last time-step: 0.35828349999999887\n",
      "\u001b[2m\u001b[36m(RolloutWorker pid=10332)\u001b[0m   warnings.warn(f\"Time-step timed out. Elapsed since last time-step: {now - self.__t_end}\")\n",
      "\u001b[2m\u001b[36m(RolloutWorker pid=10332)\u001b[0m c:\\Users\\nadir\\anaconda3\\envs\\GTAI2\\lib\\site-packages\\rtgym\\envs\\real_time_env.py:376: UserWarning: Time-step timed out. Elapsed since last time-step: 0.34293519999999944\n",
      "\u001b[2m\u001b[36m(RolloutWorker pid=10332)\u001b[0m   warnings.warn(f\"Time-step timed out. Elapsed since last time-step: {now - self.__t_end}\")\n",
      "\u001b[2m\u001b[36m(RolloutWorker pid=10332)\u001b[0m c:\\Users\\nadir\\anaconda3\\envs\\GTAI2\\lib\\site-packages\\rtgym\\envs\\real_time_env.py:376: UserWarning: Time-step timed out. Elapsed since last time-step: 0.33338150000000155\n",
      "\u001b[2m\u001b[36m(RolloutWorker pid=10332)\u001b[0m   warnings.warn(f\"Time-step timed out. Elapsed since last time-step: {now - self.__t_end}\")\n",
      "\u001b[2m\u001b[36m(RolloutWorker pid=10332)\u001b[0m c:\\Users\\nadir\\anaconda3\\envs\\GTAI2\\lib\\site-packages\\rtgym\\envs\\real_time_env.py:376: UserWarning: Time-step timed out. Elapsed since last time-step: 0.31274120000000494\n",
      "\u001b[2m\u001b[36m(RolloutWorker pid=10332)\u001b[0m   warnings.warn(f\"Time-step timed out. Elapsed since last time-step: {now - self.__t_end}\")\n",
      "\u001b[2m\u001b[36m(RolloutWorker pid=10332)\u001b[0m c:\\Users\\nadir\\anaconda3\\envs\\GTAI2\\lib\\site-packages\\rtgym\\envs\\real_time_env.py:376: UserWarning: Time-step timed out. Elapsed since last time-step: 0.3123774000000026\n",
      "\u001b[2m\u001b[36m(RolloutWorker pid=10332)\u001b[0m   warnings.warn(f\"Time-step timed out. Elapsed since last time-step: {now - self.__t_end}\")\n",
      "\u001b[2m\u001b[36m(RolloutWorker pid=10332)\u001b[0m c:\\Users\\nadir\\anaconda3\\envs\\GTAI2\\lib\\site-packages\\rtgym\\envs\\real_time_env.py:376: UserWarning: Time-step timed out. Elapsed since last time-step: 0.3126981999999998\n",
      "\u001b[2m\u001b[36m(RolloutWorker pid=10332)\u001b[0m   warnings.warn(f\"Time-step timed out. Elapsed since last time-step: {now - self.__t_end}\")\n",
      "\u001b[2m\u001b[36m(RolloutWorker pid=10332)\u001b[0m c:\\Users\\nadir\\anaconda3\\envs\\GTAI2\\lib\\site-packages\\rtgym\\envs\\real_time_env.py:376: UserWarning: Time-step timed out. Elapsed since last time-step: 0.31895720000002825\n",
      "\u001b[2m\u001b[36m(RolloutWorker pid=10332)\u001b[0m   warnings.warn(f\"Time-step timed out. Elapsed since last time-step: {now - self.__t_end}\")\n",
      "\u001b[2m\u001b[36m(RolloutWorker pid=10332)\u001b[0m c:\\Users\\nadir\\anaconda3\\envs\\GTAI2\\lib\\site-packages\\rtgym\\envs\\real_time_env.py:376: UserWarning: Time-step timed out. Elapsed since last time-step: 0.36306279999999447\n",
      "\u001b[2m\u001b[36m(RolloutWorker pid=10332)\u001b[0m   warnings.warn(f\"Time-step timed out. Elapsed since last time-step: {now - self.__t_end}\")\n",
      "\u001b[2m\u001b[36m(RolloutWorker pid=10332)\u001b[0m c:\\Users\\nadir\\anaconda3\\envs\\GTAI2\\lib\\site-packages\\rtgym\\envs\\real_time_env.py:376: UserWarning: Time-step timed out. Elapsed since last time-step: 0.35484400000001415\n",
      "\u001b[2m\u001b[36m(RolloutWorker pid=10332)\u001b[0m   warnings.warn(f\"Time-step timed out. Elapsed since last time-step: {now - self.__t_end}\")\n",
      "\u001b[2m\u001b[36m(RolloutWorker pid=10332)\u001b[0m c:\\Users\\nadir\\anaconda3\\envs\\GTAI2\\lib\\site-packages\\rtgym\\envs\\real_time_env.py:376: UserWarning: Time-step timed out. Elapsed since last time-step: 0.3519359999999949\n",
      "\u001b[2m\u001b[36m(RolloutWorker pid=10332)\u001b[0m   warnings.warn(f\"Time-step timed out. Elapsed since last time-step: {now - self.__t_end}\")\n",
      "\u001b[2m\u001b[36m(RolloutWorker pid=10332)\u001b[0m c:\\Users\\nadir\\anaconda3\\envs\\GTAI2\\lib\\site-packages\\rtgym\\envs\\real_time_env.py:376: UserWarning: Time-step timed out. Elapsed since last time-step: 0.39499690000002374\n",
      "\u001b[2m\u001b[36m(RolloutWorker pid=10332)\u001b[0m   warnings.warn(f\"Time-step timed out. Elapsed since last time-step: {now - self.__t_end}\")\n",
      "\u001b[2m\u001b[36m(RolloutWorker pid=10332)\u001b[0m c:\\Users\\nadir\\anaconda3\\envs\\GTAI2\\lib\\site-packages\\rtgym\\envs\\real_time_env.py:376: UserWarning: Time-step timed out. Elapsed since last time-step: 0.31766009999998346\n",
      "\u001b[2m\u001b[36m(RolloutWorker pid=10332)\u001b[0m   warnings.warn(f\"Time-step timed out. Elapsed since last time-step: {now - self.__t_end}\")\n",
      "\u001b[2m\u001b[36m(RolloutWorker pid=10332)\u001b[0m c:\\Users\\nadir\\anaconda3\\envs\\GTAI2\\lib\\site-packages\\rtgym\\envs\\real_time_env.py:376: UserWarning: Time-step timed out. Elapsed since last time-step: 0.3137347000000261\n",
      "\u001b[2m\u001b[36m(RolloutWorker pid=10332)\u001b[0m   warnings.warn(f\"Time-step timed out. Elapsed since last time-step: {now - self.__t_end}\")\n",
      "\u001b[2m\u001b[36m(RolloutWorker pid=10332)\u001b[0m c:\\Users\\nadir\\anaconda3\\envs\\GTAI2\\lib\\site-packages\\rtgym\\envs\\real_time_env.py:376: UserWarning: Time-step timed out. Elapsed since last time-step: 0.31363880000000677\n",
      "\u001b[2m\u001b[36m(RolloutWorker pid=10332)\u001b[0m   warnings.warn(f\"Time-step timed out. Elapsed since last time-step: {now - self.__t_end}\")\n",
      "\u001b[2m\u001b[36m(RolloutWorker pid=10332)\u001b[0m c:\\Users\\nadir\\anaconda3\\envs\\GTAI2\\lib\\site-packages\\rtgym\\envs\\real_time_env.py:376: UserWarning: Time-step timed out. Elapsed since last time-step: 0.3110769999999832\n",
      "\u001b[2m\u001b[36m(RolloutWorker pid=10332)\u001b[0m   warnings.warn(f\"Time-step timed out. Elapsed since last time-step: {now - self.__t_end}\")\n",
      "\u001b[2m\u001b[36m(RolloutWorker pid=10332)\u001b[0m c:\\Users\\nadir\\anaconda3\\envs\\GTAI2\\lib\\site-packages\\rtgym\\envs\\real_time_env.py:376: UserWarning: Time-step timed out. Elapsed since last time-step: 0.3616319000000203\n",
      "\u001b[2m\u001b[36m(RolloutWorker pid=10332)\u001b[0m   warnings.warn(f\"Time-step timed out. Elapsed since last time-step: {now - self.__t_end}\")\n",
      "\u001b[2m\u001b[36m(RolloutWorker pid=10332)\u001b[0m c:\\Users\\nadir\\anaconda3\\envs\\GTAI2\\lib\\site-packages\\rtgym\\envs\\real_time_env.py:376: UserWarning: Time-step timed out. Elapsed since last time-step: 0.35325059999999553\n",
      "\u001b[2m\u001b[36m(RolloutWorker pid=10332)\u001b[0m   warnings.warn(f\"Time-step timed out. Elapsed since last time-step: {now - self.__t_end}\")\n",
      "\u001b[2m\u001b[36m(RolloutWorker pid=10332)\u001b[0m c:\\Users\\nadir\\anaconda3\\envs\\GTAI2\\lib\\site-packages\\rtgym\\envs\\real_time_env.py:376: UserWarning: Time-step timed out. Elapsed since last time-step: 0.35428830000000744\n",
      "\u001b[2m\u001b[36m(RolloutWorker pid=10332)\u001b[0m   warnings.warn(f\"Time-step timed out. Elapsed since last time-step: {now - self.__t_end}\")\n",
      "\u001b[2m\u001b[36m(RolloutWorker pid=10332)\u001b[0m c:\\Users\\nadir\\anaconda3\\envs\\GTAI2\\lib\\site-packages\\rtgym\\envs\\real_time_env.py:376: UserWarning: Time-step timed out. Elapsed since last time-step: 0.30977180000002136\n",
      "\u001b[2m\u001b[36m(RolloutWorker pid=10332)\u001b[0m   warnings.warn(f\"Time-step timed out. Elapsed since last time-step: {now - self.__t_end}\")\n",
      "\u001b[2m\u001b[36m(RolloutWorker pid=10332)\u001b[0m c:\\Users\\nadir\\anaconda3\\envs\\GTAI2\\lib\\site-packages\\rtgym\\envs\\real_time_env.py:376: UserWarning: Time-step timed out. Elapsed since last time-step: 0.3145925000000034\n",
      "\u001b[2m\u001b[36m(RolloutWorker pid=10332)\u001b[0m   warnings.warn(f\"Time-step timed out. Elapsed since last time-step: {now - self.__t_end}\")\n",
      "\u001b[2m\u001b[36m(RolloutWorker pid=10332)\u001b[0m c:\\Users\\nadir\\anaconda3\\envs\\GTAI2\\lib\\site-packages\\rtgym\\envs\\real_time_env.py:376: UserWarning: Time-step timed out. Elapsed since last time-step: 0.3167957999999942\n",
      "\u001b[2m\u001b[36m(RolloutWorker pid=10332)\u001b[0m   warnings.warn(f\"Time-step timed out. Elapsed since last time-step: {now - self.__t_end}\")\n",
      "\u001b[2m\u001b[36m(RolloutWorker pid=10332)\u001b[0m c:\\Users\\nadir\\anaconda3\\envs\\GTAI2\\lib\\site-packages\\rtgym\\envs\\real_time_env.py:376: UserWarning: Time-step timed out. Elapsed since last time-step: 0.3187362000000178\n",
      "\u001b[2m\u001b[36m(RolloutWorker pid=10332)\u001b[0m   warnings.warn(f\"Time-step timed out. Elapsed since last time-step: {now - self.__t_end}\")\n",
      "\u001b[2m\u001b[36m(RolloutWorker pid=10332)\u001b[0m c:\\Users\\nadir\\anaconda3\\envs\\GTAI2\\lib\\site-packages\\rtgym\\envs\\real_time_env.py:376: UserWarning: Time-step timed out. Elapsed since last time-step: 0.38874490000000606\n",
      "\u001b[2m\u001b[36m(RolloutWorker pid=10332)\u001b[0m   warnings.warn(f\"Time-step timed out. Elapsed since last time-step: {now - self.__t_end}\")\n",
      "\u001b[2m\u001b[36m(RolloutWorker pid=10332)\u001b[0m c:\\Users\\nadir\\anaconda3\\envs\\GTAI2\\lib\\site-packages\\rtgym\\envs\\real_time_env.py:376: UserWarning: Time-step timed out. Elapsed since last time-step: 0.36195889999999054\n",
      "\u001b[2m\u001b[36m(RolloutWorker pid=10332)\u001b[0m   warnings.warn(f\"Time-step timed out. Elapsed since last time-step: {now - self.__t_end}\")\n",
      "\u001b[2m\u001b[36m(RolloutWorker pid=10332)\u001b[0m c:\\Users\\nadir\\anaconda3\\envs\\GTAI2\\lib\\site-packages\\rtgym\\envs\\real_time_env.py:376: UserWarning: Time-step timed out. Elapsed since last time-step: 0.35026849999999854\n",
      "\u001b[2m\u001b[36m(RolloutWorker pid=10332)\u001b[0m   warnings.warn(f\"Time-step timed out. Elapsed since last time-step: {now - self.__t_end}\")\n",
      "\u001b[2m\u001b[36m(RolloutWorker pid=10332)\u001b[0m c:\\Users\\nadir\\anaconda3\\envs\\GTAI2\\lib\\site-packages\\rtgym\\envs\\real_time_env.py:376: UserWarning: Time-step timed out. Elapsed since last time-step: 0.3154896000000065\n",
      "\u001b[2m\u001b[36m(RolloutWorker pid=10332)\u001b[0m   warnings.warn(f\"Time-step timed out. Elapsed since last time-step: {now - self.__t_end}\")\n",
      "\u001b[2m\u001b[36m(RolloutWorker pid=10332)\u001b[0m c:\\Users\\nadir\\anaconda3\\envs\\GTAI2\\lib\\site-packages\\rtgym\\envs\\real_time_env.py:376: UserWarning: Time-step timed out. Elapsed since last time-step: 0.3152382999999759\n",
      "\u001b[2m\u001b[36m(RolloutWorker pid=10332)\u001b[0m   warnings.warn(f\"Time-step timed out. Elapsed since last time-step: {now - self.__t_end}\")\n",
      "\u001b[2m\u001b[36m(RolloutWorker pid=10332)\u001b[0m c:\\Users\\nadir\\anaconda3\\envs\\GTAI2\\lib\\site-packages\\rtgym\\envs\\real_time_env.py:376: UserWarning: Time-step timed out. Elapsed since last time-step: 0.32166839999996455\n",
      "\u001b[2m\u001b[36m(RolloutWorker pid=10332)\u001b[0m   warnings.warn(f\"Time-step timed out. Elapsed since last time-step: {now - self.__t_end}\")\n",
      "\u001b[2m\u001b[36m(RolloutWorker pid=10332)\u001b[0m c:\\Users\\nadir\\anaconda3\\envs\\GTAI2\\lib\\site-packages\\rtgym\\envs\\real_time_env.py:376: UserWarning: Time-step timed out. Elapsed since last time-step: 0.310087899999985\n",
      "\u001b[2m\u001b[36m(RolloutWorker pid=10332)\u001b[0m   warnings.warn(f\"Time-step timed out. Elapsed since last time-step: {now - self.__t_end}\")\n",
      "\u001b[2m\u001b[36m(RolloutWorker pid=10332)\u001b[0m c:\\Users\\nadir\\anaconda3\\envs\\GTAI2\\lib\\site-packages\\rtgym\\envs\\real_time_env.py:376: UserWarning: Time-step timed out. Elapsed since last time-step: 0.35727489999999307\n",
      "\u001b[2m\u001b[36m(RolloutWorker pid=10332)\u001b[0m   warnings.warn(f\"Time-step timed out. Elapsed since last time-step: {now - self.__t_end}\")\n",
      "\u001b[2m\u001b[36m(RolloutWorker pid=10332)\u001b[0m c:\\Users\\nadir\\anaconda3\\envs\\GTAI2\\lib\\site-packages\\rtgym\\envs\\real_time_env.py:376: UserWarning: Time-step timed out. Elapsed since last time-step: 0.36334759999999733\n",
      "\u001b[2m\u001b[36m(RolloutWorker pid=10332)\u001b[0m   warnings.warn(f\"Time-step timed out. Elapsed since last time-step: {now - self.__t_end}\")\n",
      "\u001b[2m\u001b[36m(RolloutWorker pid=10332)\u001b[0m c:\\Users\\nadir\\anaconda3\\envs\\GTAI2\\lib\\site-packages\\rtgym\\envs\\real_time_env.py:376: UserWarning: Time-step timed out. Elapsed since last time-step: 0.35201939999996057\n",
      "\u001b[2m\u001b[36m(RolloutWorker pid=10332)\u001b[0m   warnings.warn(f\"Time-step timed out. Elapsed since last time-step: {now - self.__t_end}\")\n",
      "\u001b[2m\u001b[36m(RolloutWorker pid=10332)\u001b[0m c:\\Users\\nadir\\anaconda3\\envs\\GTAI2\\lib\\site-packages\\rtgym\\envs\\real_time_env.py:376: UserWarning: Time-step timed out. Elapsed since last time-step: 0.33985119999999824\n",
      "\u001b[2m\u001b[36m(RolloutWorker pid=10332)\u001b[0m   warnings.warn(f\"Time-step timed out. Elapsed since last time-step: {now - self.__t_end}\")\n",
      "\u001b[2m\u001b[36m(RolloutWorker pid=10332)\u001b[0m c:\\Users\\nadir\\anaconda3\\envs\\GTAI2\\lib\\site-packages\\rtgym\\envs\\real_time_env.py:376: UserWarning: Time-step timed out. Elapsed since last time-step: 0.31834519999995337\n",
      "\u001b[2m\u001b[36m(RolloutWorker pid=10332)\u001b[0m   warnings.warn(f\"Time-step timed out. Elapsed since last time-step: {now - self.__t_end}\")\n",
      "\u001b[2m\u001b[36m(RolloutWorker pid=10332)\u001b[0m c:\\Users\\nadir\\anaconda3\\envs\\GTAI2\\lib\\site-packages\\rtgym\\envs\\real_time_env.py:376: UserWarning: Time-step timed out. Elapsed since last time-step: 0.31263369999999213\n",
      "\u001b[2m\u001b[36m(RolloutWorker pid=10332)\u001b[0m   warnings.warn(f\"Time-step timed out. Elapsed since last time-step: {now - self.__t_end}\")\n",
      "\u001b[2m\u001b[36m(RolloutWorker pid=10332)\u001b[0m c:\\Users\\nadir\\anaconda3\\envs\\GTAI2\\lib\\site-packages\\rtgym\\envs\\real_time_env.py:376: UserWarning: Time-step timed out. Elapsed since last time-step: 0.31510729999996556\n",
      "\u001b[2m\u001b[36m(RolloutWorker pid=10332)\u001b[0m   warnings.warn(f\"Time-step timed out. Elapsed since last time-step: {now - self.__t_end}\")\n",
      "\u001b[2m\u001b[36m(RolloutWorker pid=10332)\u001b[0m c:\\Users\\nadir\\anaconda3\\envs\\GTAI2\\lib\\site-packages\\rtgym\\envs\\real_time_env.py:376: UserWarning: Time-step timed out. Elapsed since last time-step: 0.3121600999999714\n",
      "\u001b[2m\u001b[36m(RolloutWorker pid=10332)\u001b[0m   warnings.warn(f\"Time-step timed out. Elapsed since last time-step: {now - self.__t_end}\")\n",
      "\u001b[2m\u001b[36m(RolloutWorker pid=10332)\u001b[0m c:\\Users\\nadir\\anaconda3\\envs\\GTAI2\\lib\\site-packages\\rtgym\\envs\\real_time_env.py:376: UserWarning: Time-step timed out. Elapsed since last time-step: 0.3645252999999684\n",
      "\u001b[2m\u001b[36m(RolloutWorker pid=10332)\u001b[0m   warnings.warn(f\"Time-step timed out. Elapsed since last time-step: {now - self.__t_end}\")\n",
      "\u001b[2m\u001b[36m(RolloutWorker pid=10332)\u001b[0m c:\\Users\\nadir\\anaconda3\\envs\\GTAI2\\lib\\site-packages\\rtgym\\envs\\real_time_env.py:376: UserWarning: Time-step timed out. Elapsed since last time-step: 0.3559240000000159\n",
      "\u001b[2m\u001b[36m(RolloutWorker pid=10332)\u001b[0m   warnings.warn(f\"Time-step timed out. Elapsed since last time-step: {now - self.__t_end}\")\n",
      "\u001b[2m\u001b[36m(RolloutWorker pid=10332)\u001b[0m c:\\Users\\nadir\\anaconda3\\envs\\GTAI2\\lib\\site-packages\\rtgym\\envs\\real_time_env.py:376: UserWarning: Time-step timed out. Elapsed since last time-step: 0.3486303999999336\n",
      "\u001b[2m\u001b[36m(RolloutWorker pid=10332)\u001b[0m   warnings.warn(f\"Time-step timed out. Elapsed since last time-step: {now - self.__t_end}\")\n",
      "\u001b[2m\u001b[36m(RolloutWorker pid=10332)\u001b[0m c:\\Users\\nadir\\anaconda3\\envs\\GTAI2\\lib\\site-packages\\rtgym\\envs\\real_time_env.py:376: UserWarning: Time-step timed out. Elapsed since last time-step: 0.34351700000001983\n",
      "\u001b[2m\u001b[36m(RolloutWorker pid=10332)\u001b[0m   warnings.warn(f\"Time-step timed out. Elapsed since last time-step: {now - self.__t_end}\")\n",
      "\u001b[2m\u001b[36m(RolloutWorker pid=10332)\u001b[0m c:\\Users\\nadir\\anaconda3\\envs\\GTAI2\\lib\\site-packages\\rtgym\\envs\\real_time_env.py:376: UserWarning: Time-step timed out. Elapsed since last time-step: 0.3784559999999715\n",
      "\u001b[2m\u001b[36m(RolloutWorker pid=10332)\u001b[0m   warnings.warn(f\"Time-step timed out. Elapsed since last time-step: {now - self.__t_end}\")\n",
      "\u001b[2m\u001b[36m(RolloutWorker pid=10332)\u001b[0m c:\\Users\\nadir\\anaconda3\\envs\\GTAI2\\lib\\site-packages\\rtgym\\envs\\real_time_env.py:376: UserWarning: Time-step timed out. Elapsed since last time-step: 0.31342469999998457\n",
      "\u001b[2m\u001b[36m(RolloutWorker pid=10332)\u001b[0m   warnings.warn(f\"Time-step timed out. Elapsed since last time-step: {now - self.__t_end}\")\n",
      "\u001b[2m\u001b[36m(RolloutWorker pid=10332)\u001b[0m c:\\Users\\nadir\\anaconda3\\envs\\GTAI2\\lib\\site-packages\\rtgym\\envs\\real_time_env.py:376: UserWarning: Time-step timed out. Elapsed since last time-step: 0.3110247999999274\n",
      "\u001b[2m\u001b[36m(RolloutWorker pid=10332)\u001b[0m   warnings.warn(f\"Time-step timed out. Elapsed since last time-step: {now - self.__t_end}\")\n",
      "\u001b[2m\u001b[36m(RolloutWorker pid=10332)\u001b[0m c:\\Users\\nadir\\anaconda3\\envs\\GTAI2\\lib\\site-packages\\rtgym\\envs\\real_time_env.py:376: UserWarning: Time-step timed out. Elapsed since last time-step: 0.3154739999999947\n",
      "\u001b[2m\u001b[36m(RolloutWorker pid=10332)\u001b[0m   warnings.warn(f\"Time-step timed out. Elapsed since last time-step: {now - self.__t_end}\")\n",
      "\u001b[2m\u001b[36m(RolloutWorker pid=10332)\u001b[0m c:\\Users\\nadir\\anaconda3\\envs\\GTAI2\\lib\\site-packages\\rtgym\\envs\\real_time_env.py:376: UserWarning: Time-step timed out. Elapsed since last time-step: 0.3197644999999625\n",
      "\u001b[2m\u001b[36m(RolloutWorker pid=10332)\u001b[0m   warnings.warn(f\"Time-step timed out. Elapsed since last time-step: {now - self.__t_end}\")\n",
      "\u001b[2m\u001b[36m(RolloutWorker pid=10332)\u001b[0m c:\\Users\\nadir\\anaconda3\\envs\\GTAI2\\lib\\site-packages\\rtgym\\envs\\real_time_env.py:376: UserWarning: Time-step timed out. Elapsed since last time-step: 0.3635418999999729\n",
      "\u001b[2m\u001b[36m(RolloutWorker pid=10332)\u001b[0m   warnings.warn(f\"Time-step timed out. Elapsed since last time-step: {now - self.__t_end}\")\n",
      "\u001b[2m\u001b[36m(RolloutWorker pid=10332)\u001b[0m c:\\Users\\nadir\\anaconda3\\envs\\GTAI2\\lib\\site-packages\\rtgym\\envs\\real_time_env.py:376: UserWarning: Time-step timed out. Elapsed since last time-step: 0.3528623000000266\n",
      "\u001b[2m\u001b[36m(RolloutWorker pid=10332)\u001b[0m   warnings.warn(f\"Time-step timed out. Elapsed since last time-step: {now - self.__t_end}\")\n",
      "\u001b[2m\u001b[36m(RolloutWorker pid=10332)\u001b[0m c:\\Users\\nadir\\anaconda3\\envs\\GTAI2\\lib\\site-packages\\rtgym\\envs\\real_time_env.py:376: UserWarning: Time-step timed out. Elapsed since last time-step: 0.3600485999999705\n",
      "\u001b[2m\u001b[36m(RolloutWorker pid=10332)\u001b[0m   warnings.warn(f\"Time-step timed out. Elapsed since last time-step: {now - self.__t_end}\")\n",
      "\u001b[2m\u001b[36m(RolloutWorker pid=10332)\u001b[0m c:\\Users\\nadir\\anaconda3\\envs\\GTAI2\\lib\\site-packages\\rtgym\\envs\\real_time_env.py:376: UserWarning: Time-step timed out. Elapsed since last time-step: 0.3439447999999743\n",
      "\u001b[2m\u001b[36m(RolloutWorker pid=10332)\u001b[0m   warnings.warn(f\"Time-step timed out. Elapsed since last time-step: {now - self.__t_end}\")\n",
      "\u001b[2m\u001b[36m(RolloutWorker pid=10332)\u001b[0m c:\\Users\\nadir\\anaconda3\\envs\\GTAI2\\lib\\site-packages\\rtgym\\envs\\real_time_env.py:376: UserWarning: Time-step timed out. Elapsed since last time-step: 0.31183339999995496\n",
      "\u001b[2m\u001b[36m(RolloutWorker pid=10332)\u001b[0m   warnings.warn(f\"Time-step timed out. Elapsed since last time-step: {now - self.__t_end}\")\n",
      "\u001b[2m\u001b[36m(RolloutWorker pid=10332)\u001b[0m c:\\Users\\nadir\\anaconda3\\envs\\GTAI2\\lib\\site-packages\\rtgym\\envs\\real_time_env.py:376: UserWarning: Time-step timed out. Elapsed since last time-step: 0.3150651999999923\n",
      "\u001b[2m\u001b[36m(RolloutWorker pid=10332)\u001b[0m   warnings.warn(f\"Time-step timed out. Elapsed since last time-step: {now - self.__t_end}\")\n",
      "\u001b[2m\u001b[36m(RolloutWorker pid=10332)\u001b[0m c:\\Users\\nadir\\anaconda3\\envs\\GTAI2\\lib\\site-packages\\rtgym\\envs\\real_time_env.py:376: UserWarning: Time-step timed out. Elapsed since last time-step: 0.31918099999995775\n",
      "\u001b[2m\u001b[36m(RolloutWorker pid=10332)\u001b[0m   warnings.warn(f\"Time-step timed out. Elapsed since last time-step: {now - self.__t_end}\")\n",
      "\u001b[2m\u001b[36m(RolloutWorker pid=10332)\u001b[0m c:\\Users\\nadir\\anaconda3\\envs\\GTAI2\\lib\\site-packages\\rtgym\\envs\\real_time_env.py:376: UserWarning: Time-step timed out. Elapsed since last time-step: 0.3145139999999742\n",
      "\u001b[2m\u001b[36m(RolloutWorker pid=10332)\u001b[0m   warnings.warn(f\"Time-step timed out. Elapsed since last time-step: {now - self.__t_end}\")\n",
      "\u001b[2m\u001b[36m(RolloutWorker pid=10332)\u001b[0m c:\\Users\\nadir\\anaconda3\\envs\\GTAI2\\lib\\site-packages\\rtgym\\envs\\real_time_env.py:376: UserWarning: Time-step timed out. Elapsed since last time-step: 0.36839420000001155\n",
      "\u001b[2m\u001b[36m(RolloutWorker pid=10332)\u001b[0m   warnings.warn(f\"Time-step timed out. Elapsed since last time-step: {now - self.__t_end}\")\n",
      "\u001b[2m\u001b[36m(RolloutWorker pid=10332)\u001b[0m c:\\Users\\nadir\\anaconda3\\envs\\GTAI2\\lib\\site-packages\\rtgym\\envs\\real_time_env.py:376: UserWarning: Time-step timed out. Elapsed since last time-step: 0.35767559999993637\n",
      "\u001b[2m\u001b[36m(RolloutWorker pid=10332)\u001b[0m   warnings.warn(f\"Time-step timed out. Elapsed since last time-step: {now - self.__t_end}\")\n",
      "\u001b[2m\u001b[36m(RolloutWorker pid=10332)\u001b[0m c:\\Users\\nadir\\anaconda3\\envs\\GTAI2\\lib\\site-packages\\rtgym\\envs\\real_time_env.py:376: UserWarning: Time-step timed out. Elapsed since last time-step: 0.35007400000000644\n",
      "\u001b[2m\u001b[36m(RolloutWorker pid=10332)\u001b[0m   warnings.warn(f\"Time-step timed out. Elapsed since last time-step: {now - self.__t_end}\")\n",
      "\u001b[2m\u001b[36m(RolloutWorker pid=10332)\u001b[0m c:\\Users\\nadir\\anaconda3\\envs\\GTAI2\\lib\\site-packages\\rtgym\\envs\\real_time_env.py:376: UserWarning: Time-step timed out. Elapsed since last time-step: 0.3503499999999917\n",
      "\u001b[2m\u001b[36m(RolloutWorker pid=10332)\u001b[0m   warnings.warn(f\"Time-step timed out. Elapsed since last time-step: {now - self.__t_end}\")\n",
      "\u001b[2m\u001b[36m(RolloutWorker pid=10332)\u001b[0m c:\\Users\\nadir\\anaconda3\\envs\\GTAI2\\lib\\site-packages\\rtgym\\envs\\real_time_env.py:376: UserWarning: Time-step timed out. Elapsed since last time-step: 0.3647838999999635\n",
      "\u001b[2m\u001b[36m(RolloutWorker pid=10332)\u001b[0m   warnings.warn(f\"Time-step timed out. Elapsed since last time-step: {now - self.__t_end}\")\n",
      "\u001b[2m\u001b[36m(RolloutWorker pid=10332)\u001b[0m c:\\Users\\nadir\\anaconda3\\envs\\GTAI2\\lib\\site-packages\\rtgym\\envs\\real_time_env.py:376: UserWarning: Time-step timed out. Elapsed since last time-step: 0.3127717999999504\n",
      "\u001b[2m\u001b[36m(RolloutWorker pid=10332)\u001b[0m   warnings.warn(f\"Time-step timed out. Elapsed since last time-step: {now - self.__t_end}\")\n",
      "\u001b[2m\u001b[36m(RolloutWorker pid=10332)\u001b[0m c:\\Users\\nadir\\anaconda3\\envs\\GTAI2\\lib\\site-packages\\rtgym\\envs\\real_time_env.py:376: UserWarning: Time-step timed out. Elapsed since last time-step: 0.3134188000000222\n",
      "\u001b[2m\u001b[36m(RolloutWorker pid=10332)\u001b[0m   warnings.warn(f\"Time-step timed out. Elapsed since last time-step: {now - self.__t_end}\")\n",
      "\u001b[2m\u001b[36m(RolloutWorker pid=10332)\u001b[0m c:\\Users\\nadir\\anaconda3\\envs\\GTAI2\\lib\\site-packages\\rtgym\\envs\\real_time_env.py:376: UserWarning: Time-step timed out. Elapsed since last time-step: 0.312591599999962\n",
      "\u001b[2m\u001b[36m(RolloutWorker pid=10332)\u001b[0m   warnings.warn(f\"Time-step timed out. Elapsed since last time-step: {now - self.__t_end}\")\n",
      "\u001b[2m\u001b[36m(RolloutWorker pid=10332)\u001b[0m c:\\Users\\nadir\\anaconda3\\envs\\GTAI2\\lib\\site-packages\\rtgym\\envs\\real_time_env.py:376: UserWarning: Time-step timed out. Elapsed since last time-step: 0.3175317999999834\n",
      "\u001b[2m\u001b[36m(RolloutWorker pid=10332)\u001b[0m   warnings.warn(f\"Time-step timed out. Elapsed since last time-step: {now - self.__t_end}\")\n",
      "\u001b[2m\u001b[36m(RolloutWorker pid=10332)\u001b[0m c:\\Users\\nadir\\anaconda3\\envs\\GTAI2\\lib\\site-packages\\rtgym\\envs\\real_time_env.py:376: UserWarning: Time-step timed out. Elapsed since last time-step: 0.36553059999994275\n",
      "\u001b[2m\u001b[36m(RolloutWorker pid=10332)\u001b[0m   warnings.warn(f\"Time-step timed out. Elapsed since last time-step: {now - self.__t_end}\")\n"
     ]
    },
    {
     "ename": "KeyboardInterrupt",
     "evalue": "",
     "output_type": "error",
     "traceback": [
      "\u001b[1;31m---------------------------------------------------------------------------\u001b[0m",
      "\u001b[1;31mKeyboardInterrupt\u001b[0m                         Traceback (most recent call last)",
      "\u001b[1;32mj:\\git\\TensorFlowPSX\\Py\\rrlib.ipynb Cell 8\u001b[0m in \u001b[0;36m6\n\u001b[0;32m     <a href='vscode-notebook-cell:/j%3A/git/TensorFlowPSX/Py/rrlib.ipynb#X10sZmlsZQ%3D%3D?line=63'>64</a>\u001b[0m N \u001b[39m=\u001b[39m \u001b[39m50\u001b[39m\n\u001b[0;32m     <a href='vscode-notebook-cell:/j%3A/git/TensorFlowPSX/Py/rrlib.ipynb#X10sZmlsZQ%3D%3D?line=65'>66</a>\u001b[0m \u001b[39mfor\u001b[39;00m n \u001b[39min\u001b[39;00m \u001b[39mrange\u001b[39m(N):\n\u001b[1;32m---> <a href='vscode-notebook-cell:/j%3A/git/TensorFlowPSX/Py/rrlib.ipynb#X10sZmlsZQ%3D%3D?line=66'>67</a>\u001b[0m     result \u001b[39m=\u001b[39m algo\u001b[39m.\u001b[39;49mtrain()\n\u001b[0;32m     <a href='vscode-notebook-cell:/j%3A/git/TensorFlowPSX/Py/rrlib.ipynb#X10sZmlsZQ%3D%3D?line=67'>68</a>\u001b[0m     \u001b[39mif\u001b[39;00m n \u001b[39m%\u001b[39m \u001b[39m5\u001b[39m \u001b[39m==\u001b[39m \u001b[39m0\u001b[39m:\n\u001b[0;32m     <a href='vscode-notebook-cell:/j%3A/git/TensorFlowPSX/Py/rrlib.ipynb#X10sZmlsZQ%3D%3D?line=68'>69</a>\u001b[0m         \u001b[39mprint\u001b[39m(\u001b[39m\"\u001b[39m\u001b[39mSaved\u001b[39m\u001b[39m\"\u001b[39m, n)\n",
      "File \u001b[1;32mc:\\Users\\nadir\\anaconda3\\envs\\GTAI2\\lib\\site-packages\\ray\\tune\\trainable\\trainable.py:365\u001b[0m, in \u001b[0;36mTrainable.train\u001b[1;34m(self)\u001b[0m\n\u001b[0;32m    363\u001b[0m start \u001b[39m=\u001b[39m time\u001b[39m.\u001b[39mtime()\n\u001b[0;32m    364\u001b[0m \u001b[39mtry\u001b[39;00m:\n\u001b[1;32m--> 365\u001b[0m     result \u001b[39m=\u001b[39m \u001b[39mself\u001b[39;49m\u001b[39m.\u001b[39;49mstep()\n\u001b[0;32m    366\u001b[0m \u001b[39mexcept\u001b[39;00m \u001b[39mException\u001b[39;00m \u001b[39mas\u001b[39;00m e:\n\u001b[0;32m    367\u001b[0m     skipped \u001b[39m=\u001b[39m skip_exceptions(e)\n",
      "File \u001b[1;32mc:\\Users\\nadir\\anaconda3\\envs\\GTAI2\\lib\\site-packages\\ray\\rllib\\algorithms\\algorithm.py:782\u001b[0m, in \u001b[0;36mAlgorithm.step\u001b[1;34m(self)\u001b[0m\n\u001b[0;32m    774\u001b[0m     (\n\u001b[0;32m    775\u001b[0m         results,\n\u001b[0;32m    776\u001b[0m         train_iter_ctx,\n\u001b[0;32m    777\u001b[0m     ) \u001b[39m=\u001b[39m \u001b[39mself\u001b[39m\u001b[39m.\u001b[39m_run_one_training_iteration_and_evaluation_in_parallel()\n\u001b[0;32m    778\u001b[0m \u001b[39m# - No evaluation necessary, just run the next training iteration.\u001b[39;00m\n\u001b[0;32m    779\u001b[0m \u001b[39m# - We have to evaluate in this training iteration, but no parallelism ->\u001b[39;00m\n\u001b[0;32m    780\u001b[0m \u001b[39m#   evaluate after the training iteration is entirely done.\u001b[39;00m\n\u001b[0;32m    781\u001b[0m \u001b[39melse\u001b[39;00m:\n\u001b[1;32m--> 782\u001b[0m     results, train_iter_ctx \u001b[39m=\u001b[39m \u001b[39mself\u001b[39;49m\u001b[39m.\u001b[39;49m_run_one_training_iteration()\n\u001b[0;32m    784\u001b[0m \u001b[39m# Sequential: Train (already done above), then evaluate.\u001b[39;00m\n\u001b[0;32m    785\u001b[0m \u001b[39mif\u001b[39;00m evaluate_this_iter \u001b[39mand\u001b[39;00m \u001b[39mnot\u001b[39;00m \u001b[39mself\u001b[39m\u001b[39m.\u001b[39mconfig\u001b[39m.\u001b[39mevaluation_parallel_to_training:\n",
      "File \u001b[1;32mc:\\Users\\nadir\\anaconda3\\envs\\GTAI2\\lib\\site-packages\\ray\\rllib\\algorithms\\algorithm.py:2713\u001b[0m, in \u001b[0;36mAlgorithm._run_one_training_iteration\u001b[1;34m(self)\u001b[0m\n\u001b[0;32m   2711\u001b[0m \u001b[39mwith\u001b[39;00m \u001b[39mself\u001b[39m\u001b[39m.\u001b[39m_timers[TRAINING_ITERATION_TIMER]:\n\u001b[0;32m   2712\u001b[0m     \u001b[39mif\u001b[39;00m \u001b[39mself\u001b[39m\u001b[39m.\u001b[39mconfig\u001b[39m.\u001b[39m_disable_execution_plan_api:\n\u001b[1;32m-> 2713\u001b[0m         results \u001b[39m=\u001b[39m \u001b[39mself\u001b[39;49m\u001b[39m.\u001b[39;49mtraining_step()\n\u001b[0;32m   2714\u001b[0m     \u001b[39melse\u001b[39;00m:\n\u001b[0;32m   2715\u001b[0m         results \u001b[39m=\u001b[39m \u001b[39mnext\u001b[39m(\u001b[39mself\u001b[39m\u001b[39m.\u001b[39mtrain_exec_impl)\n",
      "File \u001b[1;32mc:\\Users\\nadir\\anaconda3\\envs\\GTAI2\\lib\\site-packages\\ray\\rllib\\algorithms\\dqn\\dqn.py:405\u001b[0m, in \u001b[0;36mDQN.training_step\u001b[1;34m(self)\u001b[0m\n\u001b[0;32m    401\u001b[0m store_weight, sample_and_train_weight \u001b[39m=\u001b[39m calculate_rr_weights(\u001b[39mself\u001b[39m\u001b[39m.\u001b[39mconfig)\n\u001b[0;32m    403\u001b[0m \u001b[39mfor\u001b[39;00m _ \u001b[39min\u001b[39;00m \u001b[39mrange\u001b[39m(store_weight):\n\u001b[0;32m    404\u001b[0m     \u001b[39m# Sample (MultiAgentBatch) from workers.\u001b[39;00m\n\u001b[1;32m--> 405\u001b[0m     new_sample_batch \u001b[39m=\u001b[39m synchronous_parallel_sample(\n\u001b[0;32m    406\u001b[0m         worker_set\u001b[39m=\u001b[39;49m\u001b[39mself\u001b[39;49m\u001b[39m.\u001b[39;49mworkers, concat\u001b[39m=\u001b[39;49m\u001b[39mTrue\u001b[39;49;00m\n\u001b[0;32m    407\u001b[0m     )\n\u001b[0;32m    409\u001b[0m     \u001b[39m# Update counters\u001b[39;00m\n\u001b[0;32m    410\u001b[0m     \u001b[39mself\u001b[39m\u001b[39m.\u001b[39m_counters[NUM_AGENT_STEPS_SAMPLED] \u001b[39m+\u001b[39m\u001b[39m=\u001b[39m new_sample_batch\u001b[39m.\u001b[39magent_steps()\n",
      "File \u001b[1;32mc:\\Users\\nadir\\anaconda3\\envs\\GTAI2\\lib\\site-packages\\ray\\rllib\\execution\\rollout_ops.py:85\u001b[0m, in \u001b[0;36msynchronous_parallel_sample\u001b[1;34m(worker_set, max_agent_steps, max_env_steps, concat)\u001b[0m\n\u001b[0;32m     82\u001b[0m     sample_batches \u001b[39m=\u001b[39m [worker_set\u001b[39m.\u001b[39mlocal_worker()\u001b[39m.\u001b[39msample()]\n\u001b[0;32m     83\u001b[0m \u001b[39m# Loop over remote workers' `sample()` method in parallel.\u001b[39;00m\n\u001b[0;32m     84\u001b[0m \u001b[39melse\u001b[39;00m:\n\u001b[1;32m---> 85\u001b[0m     sample_batches \u001b[39m=\u001b[39m worker_set\u001b[39m.\u001b[39;49mforeach_worker(\n\u001b[0;32m     86\u001b[0m         \u001b[39mlambda\u001b[39;49;00m w: w\u001b[39m.\u001b[39;49msample(), local_worker\u001b[39m=\u001b[39;49m\u001b[39mFalse\u001b[39;49;00m, healthy_only\u001b[39m=\u001b[39;49m\u001b[39mTrue\u001b[39;49;00m\n\u001b[0;32m     87\u001b[0m     )\n\u001b[0;32m     88\u001b[0m     \u001b[39mif\u001b[39;00m worker_set\u001b[39m.\u001b[39mnum_healthy_remote_workers() \u001b[39m<\u001b[39m\u001b[39m=\u001b[39m \u001b[39m0\u001b[39m:\n\u001b[0;32m     89\u001b[0m         \u001b[39m# There is no point staying in this loop, since we will not be able to\u001b[39;00m\n\u001b[0;32m     90\u001b[0m         \u001b[39m# get any new samples if we don't have any healthy remote workers left.\u001b[39;00m\n\u001b[0;32m     91\u001b[0m         \u001b[39mbreak\u001b[39;00m\n",
      "File \u001b[1;32mc:\\Users\\nadir\\anaconda3\\envs\\GTAI2\\lib\\site-packages\\ray\\rllib\\evaluation\\worker_set.py:692\u001b[0m, in \u001b[0;36mWorkerSet.foreach_worker\u001b[1;34m(self, func, local_worker, healthy_only, remote_worker_ids, timeout_seconds, return_obj_refs, mark_healthy)\u001b[0m\n\u001b[0;32m    689\u001b[0m \u001b[39mif\u001b[39;00m local_worker \u001b[39mand\u001b[39;00m \u001b[39mself\u001b[39m\u001b[39m.\u001b[39mlocal_worker() \u001b[39mis\u001b[39;00m \u001b[39mnot\u001b[39;00m \u001b[39mNone\u001b[39;00m:\n\u001b[0;32m    690\u001b[0m     local_result \u001b[39m=\u001b[39m [func(\u001b[39mself\u001b[39m\u001b[39m.\u001b[39mlocal_worker())]\n\u001b[1;32m--> 692\u001b[0m remote_results \u001b[39m=\u001b[39m \u001b[39mself\u001b[39;49m\u001b[39m.\u001b[39;49m__worker_manager\u001b[39m.\u001b[39;49mforeach_actor(\n\u001b[0;32m    693\u001b[0m     func,\n\u001b[0;32m    694\u001b[0m     healthy_only\u001b[39m=\u001b[39;49mhealthy_only,\n\u001b[0;32m    695\u001b[0m     remote_actor_ids\u001b[39m=\u001b[39;49mremote_worker_ids,\n\u001b[0;32m    696\u001b[0m     timeout_seconds\u001b[39m=\u001b[39;49mtimeout_seconds,\n\u001b[0;32m    697\u001b[0m     return_obj_refs\u001b[39m=\u001b[39;49mreturn_obj_refs,\n\u001b[0;32m    698\u001b[0m     mark_healthy\u001b[39m=\u001b[39;49mmark_healthy,\n\u001b[0;32m    699\u001b[0m )\n\u001b[0;32m    701\u001b[0m handle_remote_call_result_errors(remote_results, \u001b[39mself\u001b[39m\u001b[39m.\u001b[39m_ignore_worker_failures)\n\u001b[0;32m    703\u001b[0m \u001b[39m# With application errors handled, return good results.\u001b[39;00m\n",
      "File \u001b[1;32mc:\\Users\\nadir\\anaconda3\\envs\\GTAI2\\lib\\site-packages\\ray\\rllib\\utils\\actor_manager.py:588\u001b[0m, in \u001b[0;36mFaultTolerantActorManager.foreach_actor\u001b[1;34m(self, func, healthy_only, remote_actor_ids, timeout_seconds, return_obj_refs, mark_healthy)\u001b[0m\n\u001b[0;32m    579\u001b[0m     func, remote_actor_ids \u001b[39m=\u001b[39m \u001b[39mself\u001b[39m\u001b[39m.\u001b[39m_filter_func_and_remote_actor_id_by_state(\n\u001b[0;32m    580\u001b[0m         func, remote_actor_ids\n\u001b[0;32m    581\u001b[0m     )\n\u001b[0;32m    583\u001b[0m remote_calls \u001b[39m=\u001b[39m \u001b[39mself\u001b[39m\u001b[39m.\u001b[39m__call_actors(\n\u001b[0;32m    584\u001b[0m     func\u001b[39m=\u001b[39mfunc,\n\u001b[0;32m    585\u001b[0m     remote_actor_ids\u001b[39m=\u001b[39mremote_actor_ids,\n\u001b[0;32m    586\u001b[0m )\n\u001b[1;32m--> 588\u001b[0m _, remote_results \u001b[39m=\u001b[39m \u001b[39mself\u001b[39;49m\u001b[39m.\u001b[39;49m__fetch_result(\n\u001b[0;32m    589\u001b[0m     remote_actor_ids\u001b[39m=\u001b[39;49mremote_actor_ids,\n\u001b[0;32m    590\u001b[0m     remote_calls\u001b[39m=\u001b[39;49mremote_calls,\n\u001b[0;32m    591\u001b[0m     timeout_seconds\u001b[39m=\u001b[39;49mtimeout_seconds,\n\u001b[0;32m    592\u001b[0m     return_obj_refs\u001b[39m=\u001b[39;49mreturn_obj_refs,\n\u001b[0;32m    593\u001b[0m     mark_healthy\u001b[39m=\u001b[39;49mmark_healthy,\n\u001b[0;32m    594\u001b[0m )\n\u001b[0;32m    596\u001b[0m \u001b[39mreturn\u001b[39;00m remote_results\n",
      "File \u001b[1;32mc:\\Users\\nadir\\anaconda3\\envs\\GTAI2\\lib\\site-packages\\ray\\rllib\\utils\\actor_manager.py:457\u001b[0m, in \u001b[0;36mFaultTolerantActorManager.__fetch_result\u001b[1;34m(self, remote_actor_ids, remote_calls, timeout_seconds, return_obj_refs, mark_healthy)\u001b[0m\n\u001b[0;32m    453\u001b[0m \u001b[39m# Notice that we do not return the refs to any unfinished calls to the\u001b[39;00m\n\u001b[0;32m    454\u001b[0m \u001b[39m# user, since it is not safe to handle such remote actor calls outside the\u001b[39;00m\n\u001b[0;32m    455\u001b[0m \u001b[39m# context of this actor manager. These requests are simply dropped.\u001b[39;00m\n\u001b[0;32m    456\u001b[0m timeout \u001b[39m=\u001b[39m \u001b[39mfloat\u001b[39m(timeout_seconds) \u001b[39mif\u001b[39;00m timeout_seconds \u001b[39mis\u001b[39;00m \u001b[39mnot\u001b[39;00m \u001b[39mNone\u001b[39;00m \u001b[39melse\u001b[39;00m \u001b[39mNone\u001b[39;00m\n\u001b[1;32m--> 457\u001b[0m ready, _ \u001b[39m=\u001b[39m ray\u001b[39m.\u001b[39;49mwait(\n\u001b[0;32m    458\u001b[0m     remote_calls,\n\u001b[0;32m    459\u001b[0m     num_returns\u001b[39m=\u001b[39;49m\u001b[39mlen\u001b[39;49m(remote_calls),\n\u001b[0;32m    460\u001b[0m     timeout\u001b[39m=\u001b[39;49mtimeout,\n\u001b[0;32m    461\u001b[0m     \u001b[39m# Make sure remote results are fetched locally in parallel.\u001b[39;49;00m\n\u001b[0;32m    462\u001b[0m     fetch_local\u001b[39m=\u001b[39;49m\u001b[39mnot\u001b[39;49;00m return_obj_refs,\n\u001b[0;32m    463\u001b[0m )\n\u001b[0;32m    465\u001b[0m \u001b[39m# Remote data should already be fetched to local object store at this point.\u001b[39;00m\n\u001b[0;32m    466\u001b[0m remote_results \u001b[39m=\u001b[39m RemoteCallResults()\n",
      "File \u001b[1;32mc:\\Users\\nadir\\anaconda3\\envs\\GTAI2\\lib\\site-packages\\ray\\_private\\client_mode_hook.py:105\u001b[0m, in \u001b[0;36mclient_mode_hook.<locals>.wrapper\u001b[1;34m(*args, **kwargs)\u001b[0m\n\u001b[0;32m    103\u001b[0m     \u001b[39mif\u001b[39;00m func\u001b[39m.\u001b[39m\u001b[39m__name__\u001b[39m \u001b[39m!=\u001b[39m \u001b[39m\"\u001b[39m\u001b[39minit\u001b[39m\u001b[39m\"\u001b[39m \u001b[39mor\u001b[39;00m is_client_mode_enabled_by_default:\n\u001b[0;32m    104\u001b[0m         \u001b[39mreturn\u001b[39;00m \u001b[39mgetattr\u001b[39m(ray, func\u001b[39m.\u001b[39m\u001b[39m__name__\u001b[39m)(\u001b[39m*\u001b[39margs, \u001b[39m*\u001b[39m\u001b[39m*\u001b[39mkwargs)\n\u001b[1;32m--> 105\u001b[0m \u001b[39mreturn\u001b[39;00m func(\u001b[39m*\u001b[39margs, \u001b[39m*\u001b[39m\u001b[39m*\u001b[39mkwargs)\n",
      "File \u001b[1;32mc:\\Users\\nadir\\anaconda3\\envs\\GTAI2\\lib\\site-packages\\ray\\_private\\worker.py:2578\u001b[0m, in \u001b[0;36mwait\u001b[1;34m(object_refs, num_returns, timeout, fetch_local)\u001b[0m\n\u001b[0;32m   2576\u001b[0m timeout \u001b[39m=\u001b[39m timeout \u001b[39mif\u001b[39;00m timeout \u001b[39mis\u001b[39;00m \u001b[39mnot\u001b[39;00m \u001b[39mNone\u001b[39;00m \u001b[39melse\u001b[39;00m \u001b[39m10\u001b[39m\u001b[39m*\u001b[39m\u001b[39m*\u001b[39m\u001b[39m6\u001b[39m\n\u001b[0;32m   2577\u001b[0m timeout_milliseconds \u001b[39m=\u001b[39m \u001b[39mint\u001b[39m(timeout \u001b[39m*\u001b[39m \u001b[39m1000\u001b[39m)\n\u001b[1;32m-> 2578\u001b[0m ready_ids, remaining_ids \u001b[39m=\u001b[39m worker\u001b[39m.\u001b[39;49mcore_worker\u001b[39m.\u001b[39;49mwait(\n\u001b[0;32m   2579\u001b[0m     object_refs,\n\u001b[0;32m   2580\u001b[0m     num_returns,\n\u001b[0;32m   2581\u001b[0m     timeout_milliseconds,\n\u001b[0;32m   2582\u001b[0m     worker\u001b[39m.\u001b[39;49mcurrent_task_id,\n\u001b[0;32m   2583\u001b[0m     fetch_local,\n\u001b[0;32m   2584\u001b[0m )\n\u001b[0;32m   2585\u001b[0m \u001b[39mreturn\u001b[39;00m ready_ids, remaining_ids\n",
      "\u001b[1;31mKeyboardInterrupt\u001b[0m: "
     ]
    },
    {
     "name": "stderr",
     "output_type": "stream",
     "text": [
      "\u001b[2m\u001b[36m(RolloutWorker pid=10332)\u001b[0m c:\\Users\\nadir\\anaconda3\\envs\\GTAI2\\lib\\site-packages\\rtgym\\envs\\real_time_env.py:376: UserWarning: Time-step timed out. Elapsed since last time-step: 0.3249324000000229\n",
      "\u001b[2m\u001b[36m(RolloutWorker pid=10332)\u001b[0m   warnings.warn(f\"Time-step timed out. Elapsed since last time-step: {now - self.__t_end}\")\n"
     ]
    }
   ],
   "source": [
    "# to read later: https://raw.githubusercontent.com/ray-project/ray/master/rllib/examples/unity3d_env_local.py\n",
    "from myRTClass import MyGranTurismoRTGYM, DEFAULT_CONFIG_DICT\n",
    "import gymnasium\n",
    "import ray\n",
    "from ray import tune, air\n",
    "from ray.rllib.algorithms import ppo\n",
    "from ray.rllib.algorithms.ppo import PPOConfig\n",
    "from ray.rllib.algorithms.sac import SACConfig\n",
    "from ray.rllib.algorithms.a3c import A3CConfig\n",
    "import json\n",
    "import numpy as np\n",
    "from time import sleep\n",
    "ray.shutdown()\n",
    "\n",
    "my_config = DEFAULT_CONFIG_DICT\n",
    "my_config[\"interface\"] = MyGranTurismoRTGYM\n",
    "my_config[\"time_step_duration\"] = 0.1\n",
    "my_config[\"start_obs_capture\"] = 0.1\n",
    "my_config[\"time_step_timeout_factor\"] = 1.0\n",
    "my_config[\"ep_max_length\"] = 128\n",
    "my_config[\"act_buf_len\"] = 3\n",
    "my_config[\"reset_act_buf\"] = False\n",
    "my_config[\"benchmark\"] = True\n",
    "my_config[\"benchmark_polyak\"] = 0.2\n",
    "\n",
    "def env_creator(env_config):\n",
    "  env = gymnasium.make(\"real-time-gym-v1\", config=my_config)\n",
    "  return env  # return an env instance\n",
    "\n",
    "from ray.tune.registry import register_env\n",
    "register_env(\"gt-rtgym-env-v1\", env_creator)\n",
    "ray.init()\n",
    "\n",
    "algo = (\n",
    "    #PPOConfig()\n",
    "    SACConfig()\n",
    "    .resources(\n",
    "        num_gpus=1\n",
    "        )\n",
    "    .rollouts(\n",
    "        num_rollout_workers=1,\n",
    "        # batch_mode=\"truncate_episodes\",\n",
    "        # rollout_fragment_length=128,\n",
    "        )\n",
    "    .framework(\"torch\")\n",
    "    .environment(\n",
    "        env=\"gt-rtgym-env-v1\",\n",
    "        disable_env_checking=True,\n",
    "        render_env=False,\n",
    "        )\n",
    "    .training(\n",
    "            #lr=tune.grid_search([0.01, 0.001, 0.0001])\n",
    "            #lambda_=0.95,\n",
    "            #gamma=0.99,\n",
    "            #sgd_minibatch_size=128,\n",
    "            #train_batch_size=1024,\n",
    "            #num_sgd_iter=8,\n",
    "            #clip_param=0.2,\n",
    "            #model={\"fcnet_hiddens\": [12, 12]},\n",
    "        )\n",
    "    .build()\n",
    ")\n",
    "\n",
    "N = 50\n",
    "\n",
    "for n in range(N):\n",
    "    result = algo.train()\n",
    "    if n % 5 == 0:\n",
    "        print(\"Saved\", n)\n",
    "        algo.save()\n",
    "path_to_checkpoint = algo.save()\n",
    "print(\n",
    "    \"An Algorithm checkpoint has been created inside directory: \"\n",
    "    f\"'{path_to_checkpoint}'.\"\n",
    ")\n",
    "\n",
    "ray.shutdown()"
   ]
  },
  {
   "attachments": {},
   "cell_type": "markdown",
   "metadata": {},
   "source": [
    "# A3C Method"
   ]
  },
  {
   "cell_type": "code",
   "execution_count": 3,
   "metadata": {},
   "outputs": [
    {
     "name": "stderr",
     "output_type": "stream",
     "text": [
      "2023-05-08 23:39:53,959\tINFO worker.py:1544 -- Started a local Ray instance. View the dashboard at \u001b[1m\u001b[32m127.0.0.1:8265 \u001b[39m\u001b[22m\n"
     ]
    },
    {
     "name": "stdout",
     "output_type": "stream",
     "text": [
      "\u001b[2m\u001b[36m(RolloutWorker pid=13724)\u001b[0m GT Real Time instantiated\n",
      "\u001b[2m\u001b[36m(RolloutWorker pid=13724)\u001b[0m GT AI Server instantiated for rtgym\n",
      "\u001b[2m\u001b[36m(RolloutWorker pid=13724)\u001b[0m starting up on localhost port 9999\n",
      "\u001b[2m\u001b[36m(RolloutWorker pid=13724)\u001b[0m Waiting for a connection\n"
     ]
    },
    {
     "name": "stderr",
     "output_type": "stream",
     "text": [
      "2023-05-08 23:40:02,079\tWARNING util.py:67 -- Install gputil for GPU system monitoring.\n"
     ]
    },
    {
     "name": "stdout",
     "output_type": "stream",
     "text": [
      "\u001b[2m\u001b[36m(RolloutWorker pid=13724)\u001b[0m Connection from ('127.0.0.1', 49928)\n",
      "\u001b[2m\u001b[36m(RolloutWorker pid=13724)\u001b[0m default SAC action\n",
      "\u001b[2m\u001b[36m(RolloutWorker pid=13724)\u001b[0m reset triggered\n",
      "\u001b[2m\u001b[36m(RolloutWorker pid=13724)\u001b[0m reload save\n",
      "Saved 0\n",
      "\u001b[2m\u001b[36m(RolloutWorker pid=13724)\u001b[0m reset triggered\n",
      "\u001b[2m\u001b[36m(RolloutWorker pid=13724)\u001b[0m reload save\n"
     ]
    },
    {
     "name": "stderr",
     "output_type": "stream",
     "text": [
      "\u001b[2m\u001b[36m(RolloutWorker pid=13724)\u001b[0m c:\\Users\\nadir\\anaconda3\\envs\\GTAI2\\lib\\site-packages\\rtgym\\envs\\real_time_env.py:376: UserWarning: Time-step timed out. Elapsed since last time-step: 0.14768359999998637\n",
      "\u001b[2m\u001b[36m(RolloutWorker pid=13724)\u001b[0m   warnings.warn(f\"Time-step timed out. Elapsed since last time-step: {now - self.__t_end}\")\n"
     ]
    },
    {
     "name": "stdout",
     "output_type": "stream",
     "text": [
      "\u001b[2m\u001b[36m(RolloutWorker pid=13724)\u001b[0m reset triggered\n",
      "\u001b[2m\u001b[36m(RolloutWorker pid=13724)\u001b[0m reload save\n"
     ]
    },
    {
     "name": "stderr",
     "output_type": "stream",
     "text": [
      "\u001b[2m\u001b[36m(RolloutWorker pid=13724)\u001b[0m c:\\Users\\nadir\\anaconda3\\envs\\GTAI2\\lib\\site-packages\\rtgym\\envs\\real_time_env.py:376: UserWarning: Time-step timed out. Elapsed since last time-step: 0.1434498999998226\n",
      "\u001b[2m\u001b[36m(RolloutWorker pid=13724)\u001b[0m   warnings.warn(f\"Time-step timed out. Elapsed since last time-step: {now - self.__t_end}\")\n"
     ]
    },
    {
     "name": "stdout",
     "output_type": "stream",
     "text": [
      "\u001b[2m\u001b[36m(RolloutWorker pid=13724)\u001b[0m reset triggered\n",
      "\u001b[2m\u001b[36m(RolloutWorker pid=13724)\u001b[0m reload save\n"
     ]
    },
    {
     "name": "stderr",
     "output_type": "stream",
     "text": [
      "\u001b[2m\u001b[36m(RolloutWorker pid=13724)\u001b[0m c:\\Users\\nadir\\anaconda3\\envs\\GTAI2\\lib\\site-packages\\rtgym\\envs\\real_time_env.py:376: UserWarning: Time-step timed out. Elapsed since last time-step: 0.13865889999981817\n",
      "\u001b[2m\u001b[36m(RolloutWorker pid=13724)\u001b[0m   warnings.warn(f\"Time-step timed out. Elapsed since last time-step: {now - self.__t_end}\")\n"
     ]
    },
    {
     "name": "stdout",
     "output_type": "stream",
     "text": [
      "Saved 5\n",
      "\u001b[2m\u001b[36m(RolloutWorker pid=13724)\u001b[0m reset triggered\n",
      "\u001b[2m\u001b[36m(RolloutWorker pid=13724)\u001b[0m reload save\n"
     ]
    },
    {
     "name": "stderr",
     "output_type": "stream",
     "text": [
      "\u001b[2m\u001b[36m(RolloutWorker pid=13724)\u001b[0m c:\\Users\\nadir\\anaconda3\\envs\\GTAI2\\lib\\site-packages\\rtgym\\envs\\real_time_env.py:376: UserWarning: Time-step timed out. Elapsed since last time-step: 0.15279349999981662\n",
      "\u001b[2m\u001b[36m(RolloutWorker pid=13724)\u001b[0m   warnings.warn(f\"Time-step timed out. Elapsed since last time-step: {now - self.__t_end}\")\n"
     ]
    },
    {
     "name": "stdout",
     "output_type": "stream",
     "text": [
      "\u001b[2m\u001b[36m(RolloutWorker pid=13724)\u001b[0m reset triggered\n",
      "\u001b[2m\u001b[36m(RolloutWorker pid=13724)\u001b[0m reload save\n"
     ]
    },
    {
     "name": "stderr",
     "output_type": "stream",
     "text": [
      "\u001b[2m\u001b[36m(RolloutWorker pid=13724)\u001b[0m c:\\Users\\nadir\\anaconda3\\envs\\GTAI2\\lib\\site-packages\\rtgym\\envs\\real_time_env.py:376: UserWarning: Time-step timed out. Elapsed since last time-step: 0.14950360000032958\n",
      "\u001b[2m\u001b[36m(RolloutWorker pid=13724)\u001b[0m   warnings.warn(f\"Time-step timed out. Elapsed since last time-step: {now - self.__t_end}\")\n"
     ]
    },
    {
     "name": "stdout",
     "output_type": "stream",
     "text": [
      "Saved 10\n",
      "\u001b[2m\u001b[36m(RolloutWorker pid=13724)\u001b[0m reset triggered\n",
      "\u001b[2m\u001b[36m(RolloutWorker pid=13724)\u001b[0m reload save\n"
     ]
    },
    {
     "name": "stderr",
     "output_type": "stream",
     "text": [
      "\u001b[2m\u001b[36m(RolloutWorker pid=13724)\u001b[0m c:\\Users\\nadir\\anaconda3\\envs\\GTAI2\\lib\\site-packages\\rtgym\\envs\\real_time_env.py:376: UserWarning: Time-step timed out. Elapsed since last time-step: 0.15839440000071647\n",
      "\u001b[2m\u001b[36m(RolloutWorker pid=13724)\u001b[0m   warnings.warn(f\"Time-step timed out. Elapsed since last time-step: {now - self.__t_end}\")\n"
     ]
    },
    {
     "name": "stdout",
     "output_type": "stream",
     "text": [
      "\u001b[2m\u001b[36m(RolloutWorker pid=13724)\u001b[0m reset triggered\n",
      "\u001b[2m\u001b[36m(RolloutWorker pid=13724)\u001b[0m reload save\n"
     ]
    },
    {
     "name": "stderr",
     "output_type": "stream",
     "text": [
      "\u001b[2m\u001b[36m(RolloutWorker pid=13724)\u001b[0m c:\\Users\\nadir\\anaconda3\\envs\\GTAI2\\lib\\site-packages\\rtgym\\envs\\real_time_env.py:376: UserWarning: Time-step timed out. Elapsed since last time-step: 0.16983120000072915\n",
      "\u001b[2m\u001b[36m(RolloutWorker pid=13724)\u001b[0m   warnings.warn(f\"Time-step timed out. Elapsed since last time-step: {now - self.__t_end}\")\n"
     ]
    },
    {
     "name": "stdout",
     "output_type": "stream",
     "text": [
      "\u001b[2m\u001b[36m(RolloutWorker pid=13724)\u001b[0m reset triggered\n",
      "\u001b[2m\u001b[36m(RolloutWorker pid=13724)\u001b[0m reload save\n"
     ]
    },
    {
     "name": "stderr",
     "output_type": "stream",
     "text": [
      "\u001b[2m\u001b[36m(RolloutWorker pid=13724)\u001b[0m c:\\Users\\nadir\\anaconda3\\envs\\GTAI2\\lib\\site-packages\\rtgym\\envs\\real_time_env.py:376: UserWarning: Time-step timed out. Elapsed since last time-step: 0.1434251000007265\n",
      "\u001b[2m\u001b[36m(RolloutWorker pid=13724)\u001b[0m   warnings.warn(f\"Time-step timed out. Elapsed since last time-step: {now - self.__t_end}\")\n"
     ]
    },
    {
     "name": "stdout",
     "output_type": "stream",
     "text": [
      "Saved 15\n",
      "\u001b[2m\u001b[36m(RolloutWorker pid=13724)\u001b[0m reset triggered\n",
      "\u001b[2m\u001b[36m(RolloutWorker pid=13724)\u001b[0m reload save\n"
     ]
    },
    {
     "name": "stderr",
     "output_type": "stream",
     "text": [
      "\u001b[2m\u001b[36m(RolloutWorker pid=13724)\u001b[0m c:\\Users\\nadir\\anaconda3\\envs\\GTAI2\\lib\\site-packages\\rtgym\\envs\\real_time_env.py:376: UserWarning: Time-step timed out. Elapsed since last time-step: 0.12164220000073556\n",
      "\u001b[2m\u001b[36m(RolloutWorker pid=13724)\u001b[0m   warnings.warn(f\"Time-step timed out. Elapsed since last time-step: {now - self.__t_end}\")\n"
     ]
    },
    {
     "name": "stdout",
     "output_type": "stream",
     "text": [
      "\u001b[2m\u001b[36m(RolloutWorker pid=13724)\u001b[0m reset triggered\n",
      "\u001b[2m\u001b[36m(RolloutWorker pid=13724)\u001b[0m reload save\n"
     ]
    },
    {
     "name": "stderr",
     "output_type": "stream",
     "text": [
      "\u001b[2m\u001b[36m(RolloutWorker pid=13724)\u001b[0m c:\\Users\\nadir\\anaconda3\\envs\\GTAI2\\lib\\site-packages\\rtgym\\envs\\real_time_env.py:376: UserWarning: Time-step timed out. Elapsed since last time-step: 0.15107420000072125\n",
      "\u001b[2m\u001b[36m(RolloutWorker pid=13724)\u001b[0m   warnings.warn(f\"Time-step timed out. Elapsed since last time-step: {now - self.__t_end}\")\n"
     ]
    },
    {
     "name": "stdout",
     "output_type": "stream",
     "text": [
      "\u001b[2m\u001b[36m(RolloutWorker pid=13724)\u001b[0m reset triggered\n",
      "\u001b[2m\u001b[36m(RolloutWorker pid=13724)\u001b[0m reload save\n"
     ]
    },
    {
     "name": "stderr",
     "output_type": "stream",
     "text": [
      "\u001b[2m\u001b[36m(RolloutWorker pid=13724)\u001b[0m c:\\Users\\nadir\\anaconda3\\envs\\GTAI2\\lib\\site-packages\\rtgym\\envs\\real_time_env.py:376: UserWarning: Time-step timed out. Elapsed since last time-step: 0.15598100000070758\n",
      "\u001b[2m\u001b[36m(RolloutWorker pid=13724)\u001b[0m   warnings.warn(f\"Time-step timed out. Elapsed since last time-step: {now - self.__t_end}\")\n"
     ]
    },
    {
     "name": "stdout",
     "output_type": "stream",
     "text": [
      "Saved 20\n",
      "\u001b[2m\u001b[36m(RolloutWorker pid=13724)\u001b[0m reset triggered\n",
      "\u001b[2m\u001b[36m(RolloutWorker pid=13724)\u001b[0m reload save\n"
     ]
    },
    {
     "name": "stderr",
     "output_type": "stream",
     "text": [
      "\u001b[2m\u001b[36m(RolloutWorker pid=13724)\u001b[0m c:\\Users\\nadir\\anaconda3\\envs\\GTAI2\\lib\\site-packages\\rtgym\\envs\\real_time_env.py:376: UserWarning: Time-step timed out. Elapsed since last time-step: 0.13456740000074774\n",
      "\u001b[2m\u001b[36m(RolloutWorker pid=13724)\u001b[0m   warnings.warn(f\"Time-step timed out. Elapsed since last time-step: {now - self.__t_end}\")\n"
     ]
    },
    {
     "name": "stdout",
     "output_type": "stream",
     "text": [
      "\u001b[2m\u001b[36m(RolloutWorker pid=13724)\u001b[0m reset triggered\n",
      "\u001b[2m\u001b[36m(RolloutWorker pid=13724)\u001b[0m reload save\n"
     ]
    },
    {
     "name": "stderr",
     "output_type": "stream",
     "text": [
      "\u001b[2m\u001b[36m(RolloutWorker pid=13724)\u001b[0m c:\\Users\\nadir\\anaconda3\\envs\\GTAI2\\lib\\site-packages\\rtgym\\envs\\real_time_env.py:376: UserWarning: Time-step timed out. Elapsed since last time-step: 0.16101950000071952\n",
      "\u001b[2m\u001b[36m(RolloutWorker pid=13724)\u001b[0m   warnings.warn(f\"Time-step timed out. Elapsed since last time-step: {now - self.__t_end}\")\n"
     ]
    },
    {
     "name": "stdout",
     "output_type": "stream",
     "text": [
      "Saved 25\n"
     ]
    },
    {
     "name": "stderr",
     "output_type": "stream",
     "text": [
      "\u001b[2m\u001b[36m(RolloutWorker pid=13724)\u001b[0m c:\\Users\\nadir\\anaconda3\\envs\\GTAI2\\lib\\site-packages\\rtgym\\envs\\real_time_env.py:376: UserWarning: Time-step timed out. Elapsed since last time-step: 0.11962540000072863\n",
      "\u001b[2m\u001b[36m(RolloutWorker pid=13724)\u001b[0m   warnings.warn(f\"Time-step timed out. Elapsed since last time-step: {now - self.__t_end}\")\n"
     ]
    },
    {
     "name": "stdout",
     "output_type": "stream",
     "text": [
      "\u001b[2m\u001b[36m(RolloutWorker pid=13724)\u001b[0m reset triggered\n",
      "\u001b[2m\u001b[36m(RolloutWorker pid=13724)\u001b[0m reload save\n",
      "\u001b[2m\u001b[36m(RolloutWorker pid=13724)\u001b[0m reset triggered\n",
      "\u001b[2m\u001b[36m(RolloutWorker pid=13724)\u001b[0m reload save\n"
     ]
    },
    {
     "name": "stderr",
     "output_type": "stream",
     "text": [
      "\u001b[2m\u001b[36m(RolloutWorker pid=13724)\u001b[0m c:\\Users\\nadir\\anaconda3\\envs\\GTAI2\\lib\\site-packages\\rtgym\\envs\\real_time_env.py:376: UserWarning: Time-step timed out. Elapsed since last time-step: 0.1503588000007312\n",
      "\u001b[2m\u001b[36m(RolloutWorker pid=13724)\u001b[0m   warnings.warn(f\"Time-step timed out. Elapsed since last time-step: {now - self.__t_end}\")\n"
     ]
    },
    {
     "name": "stdout",
     "output_type": "stream",
     "text": [
      "\u001b[2m\u001b[36m(RolloutWorker pid=13724)\u001b[0m reset triggered\n",
      "\u001b[2m\u001b[36m(RolloutWorker pid=13724)\u001b[0m reload save\n"
     ]
    },
    {
     "name": "stderr",
     "output_type": "stream",
     "text": [
      "\u001b[2m\u001b[36m(RolloutWorker pid=13724)\u001b[0m c:\\Users\\nadir\\anaconda3\\envs\\GTAI2\\lib\\site-packages\\rtgym\\envs\\real_time_env.py:376: UserWarning: Time-step timed out. Elapsed since last time-step: 0.14746580000073095\n",
      "\u001b[2m\u001b[36m(RolloutWorker pid=13724)\u001b[0m   warnings.warn(f\"Time-step timed out. Elapsed since last time-step: {now - self.__t_end}\")\n"
     ]
    },
    {
     "name": "stdout",
     "output_type": "stream",
     "text": [
      "Saved 30\n",
      "\u001b[2m\u001b[36m(RolloutWorker pid=13724)\u001b[0m reset triggered\n",
      "\u001b[2m\u001b[36m(RolloutWorker pid=13724)\u001b[0m reload save\n"
     ]
    },
    {
     "name": "stderr",
     "output_type": "stream",
     "text": [
      "\u001b[2m\u001b[36m(RolloutWorker pid=13724)\u001b[0m c:\\Users\\nadir\\anaconda3\\envs\\GTAI2\\lib\\site-packages\\rtgym\\envs\\real_time_env.py:376: UserWarning: Time-step timed out. Elapsed since last time-step: 0.14337850000072194\n",
      "\u001b[2m\u001b[36m(RolloutWorker pid=13724)\u001b[0m   warnings.warn(f\"Time-step timed out. Elapsed since last time-step: {now - self.__t_end}\")\n"
     ]
    },
    {
     "name": "stdout",
     "output_type": "stream",
     "text": [
      "\u001b[2m\u001b[36m(RolloutWorker pid=13724)\u001b[0m reset triggered\n",
      "\u001b[2m\u001b[36m(RolloutWorker pid=13724)\u001b[0m reload save\n"
     ]
    },
    {
     "name": "stderr",
     "output_type": "stream",
     "text": [
      "\u001b[2m\u001b[36m(RolloutWorker pid=13724)\u001b[0m c:\\Users\\nadir\\anaconda3\\envs\\GTAI2\\lib\\site-packages\\rtgym\\envs\\real_time_env.py:376: UserWarning: Time-step timed out. Elapsed since last time-step: 0.1207958000007352\n",
      "\u001b[2m\u001b[36m(RolloutWorker pid=13724)\u001b[0m   warnings.warn(f\"Time-step timed out. Elapsed since last time-step: {now - self.__t_end}\")\n"
     ]
    },
    {
     "name": "stdout",
     "output_type": "stream",
     "text": [
      "\u001b[2m\u001b[36m(RolloutWorker pid=13724)\u001b[0m reset triggered\n",
      "\u001b[2m\u001b[36m(RolloutWorker pid=13724)\u001b[0m reload save\n"
     ]
    },
    {
     "name": "stderr",
     "output_type": "stream",
     "text": [
      "\u001b[2m\u001b[36m(RolloutWorker pid=13724)\u001b[0m c:\\Users\\nadir\\anaconda3\\envs\\GTAI2\\lib\\site-packages\\rtgym\\envs\\real_time_env.py:376: UserWarning: Time-step timed out. Elapsed since last time-step: 0.14046320000070978\n",
      "\u001b[2m\u001b[36m(RolloutWorker pid=13724)\u001b[0m   warnings.warn(f\"Time-step timed out. Elapsed since last time-step: {now - self.__t_end}\")\n"
     ]
    },
    {
     "name": "stdout",
     "output_type": "stream",
     "text": [
      "Saved 35\n",
      "\u001b[2m\u001b[36m(RolloutWorker pid=13724)\u001b[0m reset triggered\n",
      "\u001b[2m\u001b[36m(RolloutWorker pid=13724)\u001b[0m reload save\n"
     ]
    },
    {
     "name": "stderr",
     "output_type": "stream",
     "text": [
      "\u001b[2m\u001b[36m(RolloutWorker pid=13724)\u001b[0m c:\\Users\\nadir\\anaconda3\\envs\\GTAI2\\lib\\site-packages\\rtgym\\envs\\real_time_env.py:376: UserWarning: Time-step timed out. Elapsed since last time-step: 0.1482300999981021\n",
      "\u001b[2m\u001b[36m(RolloutWorker pid=13724)\u001b[0m   warnings.warn(f\"Time-step timed out. Elapsed since last time-step: {now - self.__t_end}\")\n"
     ]
    },
    {
     "name": "stdout",
     "output_type": "stream",
     "text": [
      "\u001b[2m\u001b[36m(RolloutWorker pid=13724)\u001b[0m reset triggered\n",
      "\u001b[2m\u001b[36m(RolloutWorker pid=13724)\u001b[0m reload save\n"
     ]
    },
    {
     "name": "stderr",
     "output_type": "stream",
     "text": [
      "\u001b[2m\u001b[36m(RolloutWorker pid=13724)\u001b[0m c:\\Users\\nadir\\anaconda3\\envs\\GTAI2\\lib\\site-packages\\rtgym\\envs\\real_time_env.py:376: UserWarning: Time-step timed out. Elapsed since last time-step: 0.15297619999705603\n",
      "\u001b[2m\u001b[36m(RolloutWorker pid=13724)\u001b[0m   warnings.warn(f\"Time-step timed out. Elapsed since last time-step: {now - self.__t_end}\")\n"
     ]
    },
    {
     "name": "stdout",
     "output_type": "stream",
     "text": [
      "Saved 40\n",
      "\u001b[2m\u001b[36m(RolloutWorker pid=13724)\u001b[0m reset triggered\n",
      "\u001b[2m\u001b[36m(RolloutWorker pid=13724)\u001b[0m reload save\n"
     ]
    },
    {
     "name": "stderr",
     "output_type": "stream",
     "text": [
      "\u001b[2m\u001b[36m(RolloutWorker pid=13724)\u001b[0m c:\\Users\\nadir\\anaconda3\\envs\\GTAI2\\lib\\site-packages\\rtgym\\envs\\real_time_env.py:376: UserWarning: Time-step timed out. Elapsed since last time-step: 0.1276647999970919\n",
      "\u001b[2m\u001b[36m(RolloutWorker pid=13724)\u001b[0m   warnings.warn(f\"Time-step timed out. Elapsed since last time-step: {now - self.__t_end}\")\n"
     ]
    },
    {
     "name": "stdout",
     "output_type": "stream",
     "text": [
      "\u001b[2m\u001b[36m(RolloutWorker pid=13724)\u001b[0m reset triggered\n",
      "\u001b[2m\u001b[36m(RolloutWorker pid=13724)\u001b[0m reload save\n"
     ]
    },
    {
     "name": "stderr",
     "output_type": "stream",
     "text": [
      "\u001b[2m\u001b[36m(RolloutWorker pid=13724)\u001b[0m c:\\Users\\nadir\\anaconda3\\envs\\GTAI2\\lib\\site-packages\\rtgym\\envs\\real_time_env.py:376: UserWarning: Time-step timed out. Elapsed since last time-step: 0.14393259999712882\n",
      "\u001b[2m\u001b[36m(RolloutWorker pid=13724)\u001b[0m   warnings.warn(f\"Time-step timed out. Elapsed since last time-step: {now - self.__t_end}\")\n"
     ]
    },
    {
     "name": "stdout",
     "output_type": "stream",
     "text": [
      "\u001b[2m\u001b[36m(RolloutWorker pid=13724)\u001b[0m reset triggered\n",
      "\u001b[2m\u001b[36m(RolloutWorker pid=13724)\u001b[0m reload save\n"
     ]
    },
    {
     "name": "stderr",
     "output_type": "stream",
     "text": [
      "\u001b[2m\u001b[36m(RolloutWorker pid=13724)\u001b[0m c:\\Users\\nadir\\anaconda3\\envs\\GTAI2\\lib\\site-packages\\rtgym\\envs\\real_time_env.py:376: UserWarning: Time-step timed out. Elapsed since last time-step: 0.14658629999706818\n",
      "\u001b[2m\u001b[36m(RolloutWorker pid=13724)\u001b[0m   warnings.warn(f\"Time-step timed out. Elapsed since last time-step: {now - self.__t_end}\")\n"
     ]
    },
    {
     "name": "stdout",
     "output_type": "stream",
     "text": [
      "Saved 45\n",
      "\u001b[2m\u001b[36m(RolloutWorker pid=13724)\u001b[0m reset triggered\n",
      "\u001b[2m\u001b[36m(RolloutWorker pid=13724)\u001b[0m reload save\n"
     ]
    },
    {
     "name": "stderr",
     "output_type": "stream",
     "text": [
      "\u001b[2m\u001b[36m(RolloutWorker pid=13724)\u001b[0m c:\\Users\\nadir\\anaconda3\\envs\\GTAI2\\lib\\site-packages\\rtgym\\envs\\real_time_env.py:376: UserWarning: Time-step timed out. Elapsed since last time-step: 0.15976909999710642\n",
      "\u001b[2m\u001b[36m(RolloutWorker pid=13724)\u001b[0m   warnings.warn(f\"Time-step timed out. Elapsed since last time-step: {now - self.__t_end}\")\n"
     ]
    },
    {
     "name": "stdout",
     "output_type": "stream",
     "text": [
      "\u001b[2m\u001b[36m(RolloutWorker pid=13724)\u001b[0m reset triggered\n",
      "\u001b[2m\u001b[36m(RolloutWorker pid=13724)\u001b[0m reload save\n"
     ]
    },
    {
     "name": "stderr",
     "output_type": "stream",
     "text": [
      "\u001b[2m\u001b[36m(RolloutWorker pid=13724)\u001b[0m c:\\Users\\nadir\\anaconda3\\envs\\GTAI2\\lib\\site-packages\\rtgym\\envs\\real_time_env.py:376: UserWarning: Time-step timed out. Elapsed since last time-step: 0.13489609999709273\n",
      "\u001b[2m\u001b[36m(RolloutWorker pid=13724)\u001b[0m   warnings.warn(f\"Time-step timed out. Elapsed since last time-step: {now - self.__t_end}\")\n"
     ]
    },
    {
     "name": "stdout",
     "output_type": "stream",
     "text": [
      "An Algorithm checkpoint has been created inside directory: 'C:\\Users\\nadir/ray_results\\A3C_gt-rtgym-env-v1_2023-05-08_23-39-55p4qfi8ak\\checkpoint_000050'.\n"
     ]
    }
   ],
   "source": [
    "# to read later: https://raw.githubusercontent.com/ray-project/ray/master/rllib/examples/unity3d_env_local.py\n",
    "from myRTClass import MyGranTurismoRTGYM, DEFAULT_CONFIG_DICT\n",
    "import gymnasium\n",
    "import ray\n",
    "from ray import tune, air\n",
    "from ray.rllib.algorithms import ppo\n",
    "from ray.rllib.algorithms.ppo import PPOConfig\n",
    "from ray.rllib.algorithms.sac import SACConfig\n",
    "from ray.rllib.algorithms.a3c import A3CConfig\n",
    "import json\n",
    "import numpy as np\n",
    "from time import sleep\n",
    "ray.shutdown()\n",
    "\n",
    "my_config = DEFAULT_CONFIG_DICT\n",
    "my_config[\"interface\"] = MyGranTurismoRTGYM\n",
    "my_config[\"time_step_duration\"] = 0.1\n",
    "my_config[\"start_obs_capture\"] = 0.1\n",
    "my_config[\"time_step_timeout_factor\"] = 1.0\n",
    "my_config[\"ep_max_length\"] = 256\n",
    "my_config[\"act_buf_len\"] = 3\n",
    "my_config[\"reset_act_buf\"] = False\n",
    "my_config[\"benchmark\"] = True\n",
    "my_config[\"benchmark_polyak\"] = 0.2\n",
    "\n",
    "def env_creator(env_config):\n",
    "  env = gymnasium.make(\"real-time-gym-v1\", config=my_config)\n",
    "  return env  # return an env instance\n",
    "\n",
    "from ray.tune.registry import register_env\n",
    "register_env(\"gt-rtgym-env-v1\", env_creator)\n",
    "ray.init()\n",
    "\n",
    "algo = (\n",
    "    #PPOConfig()\n",
    "    #SACConfig()\n",
    "    A3CConfig()\n",
    "    .resources(\n",
    "        num_gpus=1\n",
    "        )\n",
    "    .rollouts(\n",
    "        num_rollout_workers=1,\n",
    "        # batch_mode=\"truncate_episodes\",\n",
    "        # rollout_fragment_length=128,\n",
    "        )\n",
    "    .framework(\"torch\")\n",
    "    .environment(\n",
    "        env=\"gt-rtgym-env-v1\",\n",
    "        disable_env_checking=True,\n",
    "        render_env=False,\n",
    "        )\n",
    "    .training(\n",
    "            #lr=tune.grid_search([0.01, 0.001, 0.0001])\n",
    "            #lambda_=0.95,\n",
    "            #gamma=0.99,\n",
    "            #sgd_minibatch_size=128,\n",
    "            #train_batch_size=1024,\n",
    "            #num_sgd_iter=8,\n",
    "            #clip_param=0.2,\n",
    "            #model={\"fcnet_hiddens\": [12, 12]},\n",
    "        )\n",
    "    .build()\n",
    ")\n",
    "\n",
    "N = 200\n",
    "\n",
    "for n in range(N):\n",
    "    result = algo.train()\n",
    "    if n % 5 == 0:\n",
    "        print(\"Saved\", n)\n",
    "        algo.save()\n",
    "path_to_checkpoint = algo.save()\n",
    "print(\n",
    "    \"An Algorithm checkpoint has been created inside directory: \"\n",
    "    f\"'{path_to_checkpoint}'.\"\n",
    ")\n",
    "\n",
    "ray.shutdown()"
   ]
  },
  {
   "cell_type": "code",
   "execution_count": null,
   "metadata": {},
   "outputs": [],
   "source": [
    "# to read later: https://raw.githubusercontent.com/ray-project/ray/master/rllib/examples/unity3d_env_local.py\n",
    "from myRTClass import MyGranTurismoRTGYM, DEFAULT_CONFIG_DICT\n",
    "import gymnasium\n",
    "import ray\n",
    "from ray.rllib.algorithms import ppo\n",
    "from ray.rllib.algorithms.algorithm import Algorithm\n",
    "from ray.rllib.algorithms.ppo import PPOConfig\n",
    "from ray.rllib.algorithms.sac import SACConfig\n",
    "from ray.rllib.algorithms.a3c import A3CConfig\n",
    "import json\n",
    "import numpy as np\n",
    "from time import sleep\n",
    "\n",
    "ray.shutdown()\n",
    "\n",
    "my_config = DEFAULT_CONFIG_DICT\n",
    "my_config[\"interface\"] = MyGranTurismoRTGYM\n",
    "my_config[\"time_step_duration\"] = 0.05\n",
    "my_config[\"start_obs_capture\"] = 0.05\n",
    "my_config[\"time_step_timeout_factor\"] = 1.0\n",
    "#my_config[\"ep_max_length\"] = 512\n",
    "my_config[\"act_buf_len\"] = 3\n",
    "my_config[\"reset_act_buf\"] = False\n",
    "my_config[\"benchmark\"] = True\n",
    "my_config[\"benchmark_polyak\"] = 0.2\n",
    "\n",
    "\n",
    "def env_creator(env_config):\n",
    "  env = gymnasium.make(\"real-time-gym-v1\", config=my_config)\n",
    "  return env  # return an env instance\n",
    "\n",
    "from ray.tune.registry import register_env\n",
    "register_env(\"gt-rtgym-env-v1\", env_creator)\n",
    "\n",
    "loadedAlgo = Algorithm.from_checkpoint(path_to_checkpoint)\n",
    "\n",
    "loadedAlgo.train()"
   ]
  },
  {
   "cell_type": "code",
   "execution_count": null,
   "metadata": {},
   "outputs": [],
   "source": [
    "import ray\n",
    "from ray import air, tune\n",
    "ray.shutdown()\n",
    "ray.init()\n",
    "\n",
    "\n",
    "config = PPOConfig().training(lr=tune.grid_search([0.01, 0.001, 0.0001])).environment(env=\"CartPole-v1\")\n",
    "\n",
    "tuner = tune.Tuner(\n",
    "    \"PPO\",\n",
    "    run_config=air.RunConfig(\n",
    "        stop={\"episode_reward_mean\": 150},\n",
    "    ),\n",
    "    param_space=config,\n",
    ")\n",
    "\n",
    "tuner.fit()"
   ]
  }
 ],
 "metadata": {
  "kernelspec": {
   "display_name": "GTAI2",
   "language": "python",
   "name": "python3"
  },
  "language_info": {
   "codemirror_mode": {
    "name": "ipython",
    "version": 3
   },
   "file_extension": ".py",
   "mimetype": "text/x-python",
   "name": "python",
   "nbconvert_exporter": "python",
   "pygments_lexer": "ipython3",
   "version": "3.9.9"
  },
  "orig_nbformat": 4
 },
 "nbformat": 4,
 "nbformat_minor": 2
}

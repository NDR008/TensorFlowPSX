{
 "cells": [
  {
   "cell_type": "markdown",
   "metadata": {},
   "source": [
    "# Initial AI Agent PPO w/o\n",
    "NN (working) MR2 Drag Disc"
   ]
  },
  {
   "cell_type": "code",
   "execution_count": null,
   "metadata": {},
   "outputs": [],
   "source": [
    "import torch\n",
    "\n",
    "if torch.cuda.is_available():\n",
    "    print(\"GPU is available\")\n",
    "else:\n",
    "    print(\"GPU is not available\")"
   ]
  },
  {
   "cell_type": "code",
   "execution_count": 1,
   "metadata": {},
   "outputs": [],
   "source": [
    "from myRTClass import MyGranTurismoRTGYM, DEFAULT_CONFIG_DICT\n",
    "import numpy as np\n",
    "import gymnasium\n",
    "from time import sleep\n",
    "\n",
    "my_config = DEFAULT_CONFIG_DICT\n",
    "my_config[\"interface\"] = MyGranTurismoRTGYM\n",
    "my_config[\"time_step_duration\"] = 0.05\n",
    "my_config[\"start_obs_capture\"] = 0.05\n",
    "my_config[\"time_step_timeout_factor\"] = 1.0\n",
    "my_config[\"ep_max_length\"] = 600\n",
    "my_config[\"act_buf_len\"] = 4\n",
    "my_config[\"reset_act_buf\"] = True\n",
    "my_config[\"benchmark\"] = False\n",
    "my_config[\"benchmark_polyak\"] = 0.2\n",
    "\n",
    "my_config[\"interface_kwargs\"] = {\n",
    "  'debugFlag': False, # do not use render() while True\n",
    "  'discreteAccel' : True,\n",
    "  'accelAndBrake' : False,\n",
    "  'discSteer' : True,\n",
    "  'contAccelOnly' : False,\n",
    "  'discAccelOnly' : False,\n",
    "  'modelMode': 13,\n",
    "  #  [42, 42, K], [84, 84, K], [10, 10, K], [240, 320, K] and  [480, 640, K]\n",
    "  'imageWidth' : 42, # there is a default Cov layer for PPO with 240 x 320\n",
    "  'imageHeight' : 42,\n",
    "  'trackChoice' : 1, # 0 is HS, 1 is 400m\n",
    "  'carChoice' : 0, # 0 is MR2, 1 is Supra, 2 is Civic\n",
    "  'rewardMode' : \"simplex\"\n",
    "}"
   ]
  },
  {
   "cell_type": "code",
   "execution_count": 2,
   "metadata": {},
   "outputs": [
    {
     "name": "stderr",
     "output_type": "stream",
     "text": [
      "2023-10-22 13:03:13,595\tINFO worker.py:1616 -- Started a local Ray instance. View the dashboard at \u001b[1m\u001b[32m127.0.0.1:8265 \u001b[39m\u001b[22m\n"
     ]
    },
    {
     "data": {
      "text/html": [
       "<div>\n",
       "    <div style=\"margin-left: 50px;display: flex;flex-direction: row;align-items: center\">\n",
       "        <h3 style=\"color: var(--jp-ui-font-color0)\">Ray</h3>\n",
       "        <svg version=\"1.1\" id=\"ray\" width=\"3em\" viewBox=\"0 0 144.5 144.6\" style=\"margin-left: 3em;margin-right: 3em\">\n",
       "            <g id=\"layer-1\">\n",
       "                <path fill=\"#00a2e9\" class=\"st0\" d=\"M97.3,77.2c-3.8-1.1-6.2,0.9-8.3,5.1c-3.5,6.8-9.9,9.9-17.4,9.6S58,88.1,54.8,81.2c-1.4-3-3-4-6.3-4.1\n",
       "                    c-5.6-0.1-9.9,0.1-13.1,6.4c-3.8,7.6-13.6,10.2-21.8,7.6C5.2,88.4-0.4,80.5,0,71.7c0.1-8.4,5.7-15.8,13.8-18.2\n",
       "                    c8.4-2.6,17.5,0.7,22.3,8c1.3,1.9,1.3,5.2,3.6,5.6c3.9,0.6,8,0.2,12,0.2c1.8,0,1.9-1.6,2.4-2.8c3.5-7.8,9.7-11.8,18-11.9\n",
       "                    c8.2-0.1,14.4,3.9,17.8,11.4c1.3,2.8,2.9,3.6,5.7,3.3c1-0.1,2,0.1,3,0c2.8-0.5,6.4,1.7,8.1-2.7s-2.3-5.5-4.1-7.5\n",
       "                    c-5.1-5.7-10.9-10.8-16.1-16.3C84,38,81.9,37.1,78,38.3C66.7,42,56.2,35.7,53,24.1C50.3,14,57.3,2.8,67.7,0.5\n",
       "                    C78.4-2,89,4.7,91.5,15.3c0.1,0.3,0.1,0.5,0.2,0.8c0.7,3.4,0.7,6.9-0.8,9.8c-1.7,3.2-0.8,5,1.5,7.2c6.7,6.5,13.3,13,19.8,19.7\n",
       "                    c1.8,1.8,3,2.1,5.5,1.2c9.1-3.4,17.9-0.6,23.4,7c4.8,6.9,4.6,16.1-0.4,22.9c-5.4,7.2-14.2,9.9-23.1,6.5c-2.3-0.9-3.5-0.6-5.1,1.1\n",
       "                    c-6.7,6.9-13.6,13.7-20.5,20.4c-1.8,1.8-2.5,3.2-1.4,5.9c3.5,8.7,0.3,18.6-7.7,23.6c-7.9,5-18.2,3.8-24.8-2.9\n",
       "                    c-6.4-6.4-7.4-16.2-2.5-24.3c4.9-7.8,14.5-11,23.1-7.8c3,1.1,4.7,0.5,6.9-1.7C91.7,98.4,98,92.3,104.2,86c1.6-1.6,4.1-2.7,2.6-6.2\n",
       "                    c-1.4-3.3-3.8-2.5-6.2-2.6C99.8,77.2,98.9,77.2,97.3,77.2z M72.1,29.7c5.5,0.1,9.9-4.3,10-9.8c0-0.1,0-0.2,0-0.3\n",
       "                    C81.8,14,77,9.8,71.5,10.2c-5,0.3-9,4.2-9.3,9.2c-0.2,5.5,4,10.1,9.5,10.3C71.8,29.7,72,29.7,72.1,29.7z M72.3,62.3\n",
       "                    c-5.4-0.1-9.9,4.2-10.1,9.7c0,0.2,0,0.3,0,0.5c0.2,5.4,4.5,9.7,9.9,10c5.1,0.1,9.9-4.7,10.1-9.8c0.2-5.5-4-10-9.5-10.3\n",
       "                    C72.6,62.3,72.4,62.3,72.3,62.3z M115,72.5c0.1,5.4,4.5,9.7,9.8,9.9c5.6-0.2,10-4.8,10-10.4c-0.2-5.4-4.6-9.7-10-9.7\n",
       "                    c-5.3-0.1-9.8,4.2-9.9,9.5C115,72.1,115,72.3,115,72.5z M19.5,62.3c-5.4,0.1-9.8,4.4-10,9.8c-0.1,5.1,5.2,10.4,10.2,10.3\n",
       "                    c5.6-0.2,10-4.9,9.8-10.5c-0.1-5.4-4.5-9.7-9.9-9.6C19.6,62.3,19.5,62.3,19.5,62.3z M71.8,134.6c5.9,0.2,10.3-3.9,10.4-9.6\n",
       "                    c0.5-5.5-3.6-10.4-9.1-10.8c-5.5-0.5-10.4,3.6-10.8,9.1c0,0.5,0,0.9,0,1.4c-0.2,5.3,4,9.8,9.3,10\n",
       "                    C71.6,134.6,71.7,134.6,71.8,134.6z\"/>\n",
       "            </g>\n",
       "        </svg>\n",
       "        <table>\n",
       "            <tr>\n",
       "                <td style=\"text-align: left\"><b>Python version:</b></td>\n",
       "                <td style=\"text-align: left\"><b>3.9.9</b></td>\n",
       "            </tr>\n",
       "            <tr>\n",
       "                <td style=\"text-align: left\"><b>Ray version:</b></td>\n",
       "                <td style=\"text-align: left\"><b> 2.4.0</b></td>\n",
       "            </tr>\n",
       "            <tr>\n",
       "    <td style=\"text-align: left\"><b>Dashboard:</b></td>\n",
       "    <td style=\"text-align: left\"><b><a href=\"http://127.0.0.1:8265\" target=\"_blank\">http://127.0.0.1:8265</a></b></td>\n",
       "</tr>\n",
       "\n",
       "        </table>\n",
       "    </div>\n",
       "</div>\n"
      ],
      "text/plain": [
       "RayContext(dashboard_url='127.0.0.1:8265', python_version='3.9.9', ray_version='2.4.0', ray_commit='4479f66d4db967d3c9dd0af2572061276ba926ba', address_info={'node_ip_address': '127.0.0.1', 'raylet_ip_address': '127.0.0.1', 'redis_address': None, 'object_store_address': 'tcp://127.0.0.1:62634', 'raylet_socket_name': 'tcp://127.0.0.1:55988', 'webui_url': '127.0.0.1:8265', 'session_dir': 'C:\\\\Users\\\\nadir\\\\AppData\\\\Local\\\\Temp\\\\ray\\\\session_2023-10-22_13-03-11_262895_17016', 'metrics_export_port': 57679, 'gcs_address': '127.0.0.1:57422', 'address': '127.0.0.1:57422', 'dashboard_agent_listen_port': 52365, 'node_id': '03c04c29b920e125ad716e0a68b7b832cffaa39870803b71c32cafd3'})"
      ]
     },
     "execution_count": 2,
     "metadata": {},
     "output_type": "execute_result"
    }
   ],
   "source": [
    "import ray\n",
    "ray.shutdown()\n",
    "ray.init()"
   ]
  },
  {
   "cell_type": "code",
   "execution_count": 3,
   "metadata": {},
   "outputs": [],
   "source": [
    "def env_creator(env_config):\n",
    "    env = gymnasium.make(\"real-time-gym-v1\", config=env_config)\n",
    "    return env  # return an env instance\n",
    "\n",
    "from ray.tune.registry import register_env\n",
    "register_env(\"gt-rtgym-env-v1\", lambda config: env_creator(my_config)) # better way"
   ]
  },
  {
   "cell_type": "code",
   "execution_count": null,
   "metadata": {},
   "outputs": [],
   "source": [
    "from ray.rllib.algorithms.ppo import PPOConfig\n",
    "config = (\n",
    "    PPOConfig()\n",
    "    .resources(\n",
    "        num_gpus=1\n",
    "        )\n",
    "    .rollouts(\n",
    "        num_rollout_workers=1,\n",
    "        enable_connectors=True,\n",
    "        batch_mode=\"truncate_episodes\",\n",
    "        #batch_mode=\"completed_episodes\",\n",
    "        )\n",
    "    .framework(\n",
    "        framework=\"torch\",\n",
    "        )\n",
    "    .environment(\n",
    "        env=\"gt-rtgym-env-v1\",\n",
    "        disable_env_checking=True,\n",
    "        render_env=False,\n",
    "        )\n",
    "    .training(\n",
    "        train_batch_size=600,\n",
    "        )\n",
    ")"
   ]
  },
  {
   "cell_type": "code",
   "execution_count": null,
   "metadata": {},
   "outputs": [],
   "source": [
    "import json\n",
    "\n",
    "class CustomEncoder(json.JSONEncoder):\n",
    "    def default(self, obj):\n",
    "        try:\n",
    "            json.dumps(obj)\n",
    "        except TypeError:\n",
    "            return \"Not serializable object!\"\n",
    "        return obj\n",
    "\n",
    "config_dict = config.to_dict()\n",
    "\n",
    "print(json.dumps(config_dict, sort_keys=True, indent=4, cls=CustomEncoder))"
   ]
  },
  {
   "cell_type": "code",
   "execution_count": null,
   "metadata": {},
   "outputs": [],
   "source": [
    "algo = config.build()"
   ]
  },
  {
   "cell_type": "code",
   "execution_count": null,
   "metadata": {},
   "outputs": [],
   "source": [
    "# algo.get_policy().model"
   ]
  },
  {
   "cell_type": "code",
   "execution_count": null,
   "metadata": {},
   "outputs": [],
   "source": [
    "algo.train()"
   ]
  },
  {
   "cell_type": "code",
   "execution_count": null,
   "metadata": {},
   "outputs": [],
   "source": [
    "save = algo.save()"
   ]
  },
  {
   "cell_type": "code",
   "execution_count": null,
   "metadata": {},
   "outputs": [],
   "source": [
    "path_to_checkpoint = save.checkpoint.path"
   ]
  },
  {
   "cell_type": "code",
   "execution_count": null,
   "metadata": {},
   "outputs": [],
   "source": []
  },
  {
   "cell_type": "code",
   "execution_count": null,
   "metadata": {
    "scrolled": false
   },
   "outputs": [],
   "source": [
    "N = 3000\n",
    "\n",
    "for n in range(N):\n",
    "    result = algo.train()\n",
    "    print(\"Loop: \", n)\n",
    "    if n % 10 == 0:\n",
    "        print(\"Saved\", n)\n",
    "        algo.save()\n",
    "        \n",
    "algo.save()"
   ]
  },
  {
   "cell_type": "markdown",
   "metadata": {},
   "source": [
    "#Works!"
   ]
  },
  {
   "cell_type": "code",
   "execution_count": 4,
   "metadata": {},
   "outputs": [
    {
     "name": "stderr",
     "output_type": "stream",
     "text": [
      "2023-10-22 13:03:25,509\tWARNING checkpoints.py:109 -- No `rllib_checkpoint.json` file found in checkpoint directory C:/Users/nadir/ray_results/PPO_gt-rtgym-env-v1_2023-10-21_21-02-14mxhz6gxj/checkpoint_000771! Trying to extract checkpoint info from other files found in that dir.\n",
      "2023-10-22 13:03:25,601\tINFO algorithm.py:527 -- Current log_level is WARN. For more information, set 'log_level': 'INFO' / 'DEBUG' or use the -v and -vv flags.\n"
     ]
    },
    {
     "name": "stdout",
     "output_type": "stream",
     "text": [
      "\u001b[2m\u001b[36m(RolloutWorker pid=7532)\u001b[0m GT Real Time instantiated\n",
      "\u001b[2m\u001b[36m(RolloutWorker pid=7532)\u001b[0m GT AI Server instantiated for rtgym\n",
      "\u001b[2m\u001b[36m(RolloutWorker pid=7532)\u001b[0m starting up on localhost port 9999\n",
      "\u001b[2m\u001b[36m(RolloutWorker pid=7532)\u001b[0m Waiting for a connection\n",
      "\u001b[2m\u001b[36m(RolloutWorker pid=7532)\u001b[0m Connection from ('127.0.0.1', 51057)\n",
      "\u001b[2m\u001b[36m(RolloutWorker pid=7532)\u001b[0m J:\\git\\TensorFlowPSX\\Py\\dragSpaced.csv\n",
      "\u001b[2m\u001b[36m(RolloutWorker pid=7532)\u001b[0m Discrete Accel or Brake (cannot left foot) and Discrete Steering 2\n"
     ]
    },
    {
     "name": "stderr",
     "output_type": "stream",
     "text": [
      "2023-10-22 13:03:35,912\tINFO trainable.py:172 -- Trainable.setup took 10.312 seconds. If your trainable is slow to initialize, consider setting reuse_actors=True to reduce actor creation overheads.\n"
     ]
    }
   ],
   "source": [
    "from ray.rllib.algorithms.algorithm import Algorithm\n",
    "algo = Algorithm.from_checkpoint(\"C:/Users/nadir/ray_results/PPO_gt-rtgym-env-v1_2023-10-21_21-02-14mxhz6gxj/checkpoint_000771\")"
   ]
  },
  {
   "cell_type": "code",
   "execution_count": 5,
   "metadata": {},
   "outputs": [
    {
     "name": "stdout",
     "output_type": "stream",
     "text": [
      "\u001b[2m\u001b[36m(RolloutWorker pid=7532)\u001b[0m reset triggered\n",
      "\u001b[2m\u001b[36m(RolloutWorker pid=7532)\u001b[0m reload save for track : 72\n",
      "\u001b[2m\u001b[36m(RolloutWorker pid=7532)\u001b[0m reset triggered\n",
      "\u001b[2m\u001b[36m(RolloutWorker pid=7532)\u001b[0m reload save for track : 72\n"
     ]
    },
    {
     "name": "stderr",
     "output_type": "stream",
     "text": [
      "\u001b[2m\u001b[36m(RolloutWorker pid=7532)\u001b[0m c:\\Users\\nadir\\anaconda3\\envs\\GTRay2.4.0\\lib\\site-packages\\rtgym\\envs\\real_time_env.py:376: UserWarning: Time-step timed out. Elapsed since last time-step: 0.2008818000001611\n",
      "\u001b[2m\u001b[36m(RolloutWorker pid=7532)\u001b[0m   warnings.warn(f\"Time-step timed out. Elapsed since last time-step: {now - self.__t_end}\")\n"
     ]
    },
    {
     "name": "stdout",
     "output_type": "stream",
     "text": [
      "Loop:  0\n",
      "Saved 0\n"
     ]
    },
    {
     "name": "stderr",
     "output_type": "stream",
     "text": [
      "\u001b[2m\u001b[36m(RolloutWorker pid=7532)\u001b[0m c:\\Users\\nadir\\anaconda3\\envs\\GTRay2.4.0\\lib\\site-packages\\rtgym\\envs\\real_time_env.py:376: UserWarning: Time-step timed out. Elapsed since last time-step: 2.222619200000011\n",
      "\u001b[2m\u001b[36m(RolloutWorker pid=7532)\u001b[0m   warnings.warn(f\"Time-step timed out. Elapsed since last time-step: {now - self.__t_end}\")\n"
     ]
    },
    {
     "name": "stdout",
     "output_type": "stream",
     "text": [
      "\u001b[2m\u001b[36m(RolloutWorker pid=7532)\u001b[0m reset triggered\n",
      "\u001b[2m\u001b[36m(RolloutWorker pid=7532)\u001b[0m reload save for track : 72\n"
     ]
    },
    {
     "name": "stderr",
     "output_type": "stream",
     "text": [
      "\u001b[2m\u001b[36m(RolloutWorker pid=7532)\u001b[0m c:\\Users\\nadir\\anaconda3\\envs\\GTRay2.4.0\\lib\\site-packages\\rtgym\\envs\\real_time_env.py:376: UserWarning: Time-step timed out. Elapsed since last time-step: 0.18319290000133037\n",
      "\u001b[2m\u001b[36m(RolloutWorker pid=7532)\u001b[0m   warnings.warn(f\"Time-step timed out. Elapsed since last time-step: {now - self.__t_end}\")\n"
     ]
    },
    {
     "name": "stdout",
     "output_type": "stream",
     "text": [
      "Loop:  1\n"
     ]
    },
    {
     "name": "stderr",
     "output_type": "stream",
     "text": [
      "\u001b[2m\u001b[36m(RolloutWorker pid=7532)\u001b[0m c:\\Users\\nadir\\anaconda3\\envs\\GTRay2.4.0\\lib\\site-packages\\rtgym\\envs\\real_time_env.py:376: UserWarning: Time-step timed out. Elapsed since last time-step: 2.291964400000367\n",
      "\u001b[2m\u001b[36m(RolloutWorker pid=7532)\u001b[0m   warnings.warn(f\"Time-step timed out. Elapsed since last time-step: {now - self.__t_end}\")\n"
     ]
    },
    {
     "name": "stdout",
     "output_type": "stream",
     "text": [
      "\u001b[2m\u001b[36m(RolloutWorker pid=7532)\u001b[0m reset triggered\n",
      "\u001b[2m\u001b[36m(RolloutWorker pid=7532)\u001b[0m reload save for track : 72\n"
     ]
    },
    {
     "name": "stderr",
     "output_type": "stream",
     "text": [
      "\u001b[2m\u001b[36m(RolloutWorker pid=7532)\u001b[0m c:\\Users\\nadir\\anaconda3\\envs\\GTRay2.4.0\\lib\\site-packages\\rtgym\\envs\\real_time_env.py:376: UserWarning: Time-step timed out. Elapsed since last time-step: 0.12827090000067187\n",
      "\u001b[2m\u001b[36m(RolloutWorker pid=7532)\u001b[0m   warnings.warn(f\"Time-step timed out. Elapsed since last time-step: {now - self.__t_end}\")\n",
      "\u001b[2m\u001b[36m(RolloutWorker pid=7532)\u001b[0m c:\\Users\\nadir\\anaconda3\\envs\\GTRay2.4.0\\lib\\site-packages\\rtgym\\envs\\real_time_env.py:376: UserWarning: Time-step timed out. Elapsed since last time-step: 0.0577702000010305\n",
      "\u001b[2m\u001b[36m(RolloutWorker pid=7532)\u001b[0m   warnings.warn(f\"Time-step timed out. Elapsed since last time-step: {now - self.__t_end}\")\n"
     ]
    },
    {
     "name": "stdout",
     "output_type": "stream",
     "text": [
      "Loop:  2\n"
     ]
    },
    {
     "name": "stderr",
     "output_type": "stream",
     "text": [
      "\u001b[2m\u001b[36m(RolloutWorker pid=7532)\u001b[0m c:\\Users\\nadir\\anaconda3\\envs\\GTRay2.4.0\\lib\\site-packages\\rtgym\\envs\\real_time_env.py:376: UserWarning: Time-step timed out. Elapsed since last time-step: 2.0864845000000116\n",
      "\u001b[2m\u001b[36m(RolloutWorker pid=7532)\u001b[0m   warnings.warn(f\"Time-step timed out. Elapsed since last time-step: {now - self.__t_end}\")\n",
      "\u001b[2m\u001b[36m(RolloutWorker pid=7532)\u001b[0m c:\\Users\\nadir\\anaconda3\\envs\\GTRay2.4.0\\lib\\site-packages\\rtgym\\envs\\real_time_env.py:376: UserWarning: Time-step timed out. Elapsed since last time-step: 0.12543450000066514\n",
      "\u001b[2m\u001b[36m(RolloutWorker pid=7532)\u001b[0m   warnings.warn(f\"Time-step timed out. Elapsed since last time-step: {now - self.__t_end}\")\n"
     ]
    },
    {
     "name": "stdout",
     "output_type": "stream",
     "text": [
      "\u001b[2m\u001b[36m(RolloutWorker pid=7532)\u001b[0m reset triggered\n",
      "\u001b[2m\u001b[36m(RolloutWorker pid=7532)\u001b[0m reload save for track : 72\n"
     ]
    },
    {
     "name": "stderr",
     "output_type": "stream",
     "text": [
      "\u001b[2m\u001b[36m(RolloutWorker pid=7532)\u001b[0m c:\\Users\\nadir\\anaconda3\\envs\\GTRay2.4.0\\lib\\site-packages\\rtgym\\envs\\real_time_env.py:376: UserWarning: Time-step timed out. Elapsed since last time-step: 0.051212099998281246\n",
      "\u001b[2m\u001b[36m(RolloutWorker pid=7532)\u001b[0m   warnings.warn(f\"Time-step timed out. Elapsed since last time-step: {now - self.__t_end}\")\n"
     ]
    },
    {
     "name": "stdout",
     "output_type": "stream",
     "text": [
      "Loop:  3\n"
     ]
    },
    {
     "name": "stderr",
     "output_type": "stream",
     "text": [
      "\u001b[2m\u001b[36m(RolloutWorker pid=7532)\u001b[0m c:\\Users\\nadir\\anaconda3\\envs\\GTRay2.4.0\\lib\\site-packages\\rtgym\\envs\\real_time_env.py:376: UserWarning: Time-step timed out. Elapsed since last time-step: 2.0701954999999828\n",
      "\u001b[2m\u001b[36m(RolloutWorker pid=7532)\u001b[0m   warnings.warn(f\"Time-step timed out. Elapsed since last time-step: {now - self.__t_end}\")\n",
      "\u001b[2m\u001b[36m(RolloutWorker pid=7532)\u001b[0m c:\\Users\\nadir\\anaconda3\\envs\\GTRay2.4.0\\lib\\site-packages\\rtgym\\envs\\real_time_env.py:376: UserWarning: Time-step timed out. Elapsed since last time-step: 0.12237949999735065\n",
      "\u001b[2m\u001b[36m(RolloutWorker pid=7532)\u001b[0m   warnings.warn(f\"Time-step timed out. Elapsed since last time-step: {now - self.__t_end}\")\n"
     ]
    },
    {
     "name": "stdout",
     "output_type": "stream",
     "text": [
      "\u001b[2m\u001b[36m(RolloutWorker pid=7532)\u001b[0m reset triggered\n",
      "\u001b[2m\u001b[36m(RolloutWorker pid=7532)\u001b[0m reload save for track : 72\n"
     ]
    },
    {
     "name": "stderr",
     "output_type": "stream",
     "text": [
      "\u001b[2m\u001b[36m(RolloutWorker pid=7532)\u001b[0m c:\\Users\\nadir\\anaconda3\\envs\\GTRay2.4.0\\lib\\site-packages\\rtgym\\envs\\real_time_env.py:376: UserWarning: Time-step timed out. Elapsed since last time-step: 0.05656579999583755\n",
      "\u001b[2m\u001b[36m(RolloutWorker pid=7532)\u001b[0m   warnings.warn(f\"Time-step timed out. Elapsed since last time-step: {now - self.__t_end}\")\n"
     ]
    },
    {
     "name": "stdout",
     "output_type": "stream",
     "text": [
      "Loop:  4\n"
     ]
    },
    {
     "name": "stderr",
     "output_type": "stream",
     "text": [
      "\u001b[2m\u001b[36m(RolloutWorker pid=7532)\u001b[0m c:\\Users\\nadir\\anaconda3\\envs\\GTRay2.4.0\\lib\\site-packages\\rtgym\\envs\\real_time_env.py:376: UserWarning: Time-step timed out. Elapsed since last time-step: 2.2636112999999796\n",
      "\u001b[2m\u001b[36m(RolloutWorker pid=7532)\u001b[0m   warnings.warn(f\"Time-step timed out. Elapsed since last time-step: {now - self.__t_end}\")\n"
     ]
    },
    {
     "name": "stdout",
     "output_type": "stream",
     "text": [
      "\u001b[2m\u001b[36m(RolloutWorker pid=7532)\u001b[0m reset triggered\n",
      "\u001b[2m\u001b[36m(RolloutWorker pid=7532)\u001b[0m reload save for track : 72\n"
     ]
    },
    {
     "name": "stderr",
     "output_type": "stream",
     "text": [
      "\u001b[2m\u001b[36m(RolloutWorker pid=7532)\u001b[0m c:\\Users\\nadir\\anaconda3\\envs\\GTRay2.4.0\\lib\\site-packages\\rtgym\\envs\\real_time_env.py:376: UserWarning: Time-step timed out. Elapsed since last time-step: 0.14408039999736388\n",
      "\u001b[2m\u001b[36m(RolloutWorker pid=7532)\u001b[0m   warnings.warn(f\"Time-step timed out. Elapsed since last time-step: {now - self.__t_end}\")\n"
     ]
    },
    {
     "name": "stdout",
     "output_type": "stream",
     "text": [
      "Loop:  5\n"
     ]
    },
    {
     "name": "stderr",
     "output_type": "stream",
     "text": [
      "\u001b[2m\u001b[36m(RolloutWorker pid=7532)\u001b[0m c:\\Users\\nadir\\anaconda3\\envs\\GTRay2.4.0\\lib\\site-packages\\rtgym\\envs\\real_time_env.py:376: UserWarning: Time-step timed out. Elapsed since last time-step: 2.229143499995814\n",
      "\u001b[2m\u001b[36m(RolloutWorker pid=7532)\u001b[0m   warnings.warn(f\"Time-step timed out. Elapsed since last time-step: {now - self.__t_end}\")\n"
     ]
    },
    {
     "name": "stdout",
     "output_type": "stream",
     "text": [
      "\u001b[2m\u001b[36m(RolloutWorker pid=7532)\u001b[0m reset triggered\n",
      "\u001b[2m\u001b[36m(RolloutWorker pid=7532)\u001b[0m reload save for track : 72\n"
     ]
    },
    {
     "name": "stderr",
     "output_type": "stream",
     "text": [
      "\u001b[2m\u001b[36m(RolloutWorker pid=7532)\u001b[0m c:\\Users\\nadir\\anaconda3\\envs\\GTRay2.4.0\\lib\\site-packages\\rtgym\\envs\\real_time_env.py:376: UserWarning: Time-step timed out. Elapsed since last time-step: 0.11786479999736343\n",
      "\u001b[2m\u001b[36m(RolloutWorker pid=7532)\u001b[0m   warnings.warn(f\"Time-step timed out. Elapsed since last time-step: {now - self.__t_end}\")\n"
     ]
    },
    {
     "name": "stdout",
     "output_type": "stream",
     "text": [
      "Loop:  6\n"
     ]
    },
    {
     "name": "stderr",
     "output_type": "stream",
     "text": [
      "\u001b[2m\u001b[36m(RolloutWorker pid=7532)\u001b[0m c:\\Users\\nadir\\anaconda3\\envs\\GTRay2.4.0\\lib\\site-packages\\rtgym\\envs\\real_time_env.py:376: UserWarning: Time-step timed out. Elapsed since last time-step: 2.193994299995836\n",
      "\u001b[2m\u001b[36m(RolloutWorker pid=7532)\u001b[0m   warnings.warn(f\"Time-step timed out. Elapsed since last time-step: {now - self.__t_end}\")\n"
     ]
    },
    {
     "name": "stdout",
     "output_type": "stream",
     "text": [
      "\u001b[2m\u001b[36m(RolloutWorker pid=7532)\u001b[0m reset triggered\n",
      "\u001b[2m\u001b[36m(RolloutWorker pid=7532)\u001b[0m reload save for track : 72\n"
     ]
    },
    {
     "name": "stderr",
     "output_type": "stream",
     "text": [
      "\u001b[2m\u001b[36m(RolloutWorker pid=7532)\u001b[0m c:\\Users\\nadir\\anaconda3\\envs\\GTRay2.4.0\\lib\\site-packages\\rtgym\\envs\\real_time_env.py:376: UserWarning: Time-step timed out. Elapsed since last time-step: 0.12483839999734414\n",
      "\u001b[2m\u001b[36m(RolloutWorker pid=7532)\u001b[0m   warnings.warn(f\"Time-step timed out. Elapsed since last time-step: {now - self.__t_end}\")\n"
     ]
    },
    {
     "name": "stdout",
     "output_type": "stream",
     "text": [
      "Loop:  7\n"
     ]
    },
    {
     "name": "stderr",
     "output_type": "stream",
     "text": [
      "\u001b[2m\u001b[36m(RolloutWorker pid=7532)\u001b[0m c:\\Users\\nadir\\anaconda3\\envs\\GTRay2.4.0\\lib\\site-packages\\rtgym\\envs\\real_time_env.py:376: UserWarning: Time-step timed out. Elapsed since last time-step: 2.1010047999958488\n",
      "\u001b[2m\u001b[36m(RolloutWorker pid=7532)\u001b[0m   warnings.warn(f\"Time-step timed out. Elapsed since last time-step: {now - self.__t_end}\")\n"
     ]
    },
    {
     "name": "stdout",
     "output_type": "stream",
     "text": [
      "\u001b[2m\u001b[36m(RolloutWorker pid=7532)\u001b[0m reset triggered\n",
      "\u001b[2m\u001b[36m(RolloutWorker pid=7532)\u001b[0m reload save for track : 72\n"
     ]
    },
    {
     "name": "stderr",
     "output_type": "stream",
     "text": [
      "\u001b[2m\u001b[36m(RolloutWorker pid=7532)\u001b[0m c:\\Users\\nadir\\anaconda3\\envs\\GTRay2.4.0\\lib\\site-packages\\rtgym\\envs\\real_time_env.py:376: UserWarning: Time-step timed out. Elapsed since last time-step: 0.1394551999973146\n",
      "\u001b[2m\u001b[36m(RolloutWorker pid=7532)\u001b[0m   warnings.warn(f\"Time-step timed out. Elapsed since last time-step: {now - self.__t_end}\")\n"
     ]
    },
    {
     "name": "stdout",
     "output_type": "stream",
     "text": [
      "\u001b[2m\u001b[36m(RolloutWorker pid=7532)\u001b[0m reset triggered\n",
      "\u001b[2m\u001b[36m(RolloutWorker pid=7532)\u001b[0m reload save for track : 72\n"
     ]
    },
    {
     "name": "stderr",
     "output_type": "stream",
     "text": [
      "\u001b[2m\u001b[36m(RolloutWorker pid=7532)\u001b[0m c:\\Users\\nadir\\anaconda3\\envs\\GTRay2.4.0\\lib\\site-packages\\rtgym\\envs\\real_time_env.py:376: UserWarning: Time-step timed out. Elapsed since last time-step: 0.1463719999959494\n",
      "\u001b[2m\u001b[36m(RolloutWorker pid=7532)\u001b[0m   warnings.warn(f\"Time-step timed out. Elapsed since last time-step: {now - self.__t_end}\")\n"
     ]
    },
    {
     "name": "stdout",
     "output_type": "stream",
     "text": [
      "Loop:  8\n"
     ]
    },
    {
     "name": "stderr",
     "output_type": "stream",
     "text": [
      "\u001b[2m\u001b[36m(RolloutWorker pid=7532)\u001b[0m c:\\Users\\nadir\\anaconda3\\envs\\GTRay2.4.0\\lib\\site-packages\\rtgym\\envs\\real_time_env.py:376: UserWarning: Time-step timed out. Elapsed since last time-step: 2.089267399999869\n",
      "\u001b[2m\u001b[36m(RolloutWorker pid=7532)\u001b[0m   warnings.warn(f\"Time-step timed out. Elapsed since last time-step: {now - self.__t_end}\")\n",
      "\u001b[2m\u001b[36m(RolloutWorker pid=7532)\u001b[0m c:\\Users\\nadir\\anaconda3\\envs\\GTRay2.4.0\\lib\\site-packages\\rtgym\\envs\\real_time_env.py:376: UserWarning: Time-step timed out. Elapsed since last time-step: 0.1808840999933068\n",
      "\u001b[2m\u001b[36m(RolloutWorker pid=7532)\u001b[0m   warnings.warn(f\"Time-step timed out. Elapsed since last time-step: {now - self.__t_end}\")\n"
     ]
    },
    {
     "name": "stdout",
     "output_type": "stream",
     "text": [
      "\u001b[2m\u001b[36m(RolloutWorker pid=7532)\u001b[0m reset triggered\n",
      "\u001b[2m\u001b[36m(RolloutWorker pid=7532)\u001b[0m reload save for track : 72\n",
      "Loop:  9\n"
     ]
    },
    {
     "name": "stderr",
     "output_type": "stream",
     "text": [
      "\u001b[2m\u001b[36m(RolloutWorker pid=7532)\u001b[0m c:\\Users\\nadir\\anaconda3\\envs\\GTRay2.4.0\\lib\\site-packages\\rtgym\\envs\\real_time_env.py:376: UserWarning: Time-step timed out. Elapsed since last time-step: 2.200483899999881\n",
      "\u001b[2m\u001b[36m(RolloutWorker pid=7532)\u001b[0m   warnings.warn(f\"Time-step timed out. Elapsed since last time-step: {now - self.__t_end}\")\n"
     ]
    },
    {
     "name": "stdout",
     "output_type": "stream",
     "text": [
      "\u001b[2m\u001b[36m(RolloutWorker pid=7532)\u001b[0m reset triggered\n",
      "\u001b[2m\u001b[36m(RolloutWorker pid=7532)\u001b[0m reload save for track : 72\n"
     ]
    },
    {
     "name": "stderr",
     "output_type": "stream",
     "text": [
      "\u001b[2m\u001b[36m(RolloutWorker pid=7532)\u001b[0m c:\\Users\\nadir\\anaconda3\\envs\\GTRay2.4.0\\lib\\site-packages\\rtgym\\envs\\real_time_env.py:376: UserWarning: Time-step timed out. Elapsed since last time-step: 0.13466239999655727\n",
      "\u001b[2m\u001b[36m(RolloutWorker pid=7532)\u001b[0m   warnings.warn(f\"Time-step timed out. Elapsed since last time-step: {now - self.__t_end}\")\n"
     ]
    },
    {
     "name": "stdout",
     "output_type": "stream",
     "text": [
      "Loop:  10\n",
      "Saved 10\n"
     ]
    },
    {
     "name": "stderr",
     "output_type": "stream",
     "text": [
      "\u001b[2m\u001b[36m(RolloutWorker pid=7532)\u001b[0m c:\\Users\\nadir\\anaconda3\\envs\\GTRay2.4.0\\lib\\site-packages\\rtgym\\envs\\real_time_env.py:376: UserWarning: Time-step timed out. Elapsed since last time-step: 2.3234279999966247\n",
      "\u001b[2m\u001b[36m(RolloutWorker pid=7532)\u001b[0m   warnings.warn(f\"Time-step timed out. Elapsed since last time-step: {now - self.__t_end}\")\n"
     ]
    },
    {
     "name": "stdout",
     "output_type": "stream",
     "text": [
      "\u001b[2m\u001b[36m(RolloutWorker pid=7532)\u001b[0m reset triggered\n",
      "\u001b[2m\u001b[36m(RolloutWorker pid=7532)\u001b[0m reload save for track : 72\n"
     ]
    },
    {
     "name": "stderr",
     "output_type": "stream",
     "text": [
      "\u001b[2m\u001b[36m(RolloutWorker pid=7532)\u001b[0m c:\\Users\\nadir\\anaconda3\\envs\\GTRay2.4.0\\lib\\site-packages\\rtgym\\envs\\real_time_env.py:376: UserWarning: Time-step timed out. Elapsed since last time-step: 0.16147009999656348\n",
      "\u001b[2m\u001b[36m(RolloutWorker pid=7532)\u001b[0m   warnings.warn(f\"Time-step timed out. Elapsed since last time-step: {now - self.__t_end}\")\n"
     ]
    },
    {
     "name": "stdout",
     "output_type": "stream",
     "text": [
      "Loop:  11\n"
     ]
    },
    {
     "name": "stderr",
     "output_type": "stream",
     "text": [
      "\u001b[2m\u001b[36m(RolloutWorker pid=7532)\u001b[0m c:\\Users\\nadir\\anaconda3\\envs\\GTRay2.4.0\\lib\\site-packages\\rtgym\\envs\\real_time_env.py:376: UserWarning: Time-step timed out. Elapsed since last time-step: 2.2102513999966504\n",
      "\u001b[2m\u001b[36m(RolloutWorker pid=7532)\u001b[0m   warnings.warn(f\"Time-step timed out. Elapsed since last time-step: {now - self.__t_end}\")\n"
     ]
    },
    {
     "name": "stdout",
     "output_type": "stream",
     "text": [
      "\u001b[2m\u001b[36m(RolloutWorker pid=7532)\u001b[0m reset triggered\n",
      "\u001b[2m\u001b[36m(RolloutWorker pid=7532)\u001b[0m reload save for track : 72\n"
     ]
    },
    {
     "name": "stderr",
     "output_type": "stream",
     "text": [
      "\u001b[2m\u001b[36m(RolloutWorker pid=7532)\u001b[0m c:\\Users\\nadir\\anaconda3\\envs\\GTRay2.4.0\\lib\\site-packages\\rtgym\\envs\\real_time_env.py:376: UserWarning: Time-step timed out. Elapsed since last time-step: 0.09357439999854478\n",
      "\u001b[2m\u001b[36m(RolloutWorker pid=7532)\u001b[0m   warnings.warn(f\"Time-step timed out. Elapsed since last time-step: {now - self.__t_end}\")\n",
      "\u001b[2m\u001b[36m(RolloutWorker pid=7532)\u001b[0m c:\\Users\\nadir\\anaconda3\\envs\\GTRay2.4.0\\lib\\site-packages\\rtgym\\envs\\real_time_env.py:376: UserWarning: Time-step timed out. Elapsed since last time-step: 0.06073539999459854\n",
      "\u001b[2m\u001b[36m(RolloutWorker pid=7532)\u001b[0m   warnings.warn(f\"Time-step timed out. Elapsed since last time-step: {now - self.__t_end}\")\n"
     ]
    },
    {
     "name": "stdout",
     "output_type": "stream",
     "text": [
      "Loop:  12\n"
     ]
    },
    {
     "name": "stderr",
     "output_type": "stream",
     "text": [
      "\u001b[2m\u001b[36m(RolloutWorker pid=7532)\u001b[0m c:\\Users\\nadir\\anaconda3\\envs\\GTRay2.4.0\\lib\\site-packages\\rtgym\\envs\\real_time_env.py:376: UserWarning: Time-step timed out. Elapsed since last time-step: 2.145093099999997\n",
      "\u001b[2m\u001b[36m(RolloutWorker pid=7532)\u001b[0m   warnings.warn(f\"Time-step timed out. Elapsed since last time-step: {now - self.__t_end}\")\n",
      "\u001b[2m\u001b[36m(RolloutWorker pid=7532)\u001b[0m c:\\Users\\nadir\\anaconda3\\envs\\GTRay2.4.0\\lib\\site-packages\\rtgym\\envs\\real_time_env.py:376: UserWarning: Time-step timed out. Elapsed since last time-step: 0.11015269999853672\n",
      "\u001b[2m\u001b[36m(RolloutWorker pid=7532)\u001b[0m   warnings.warn(f\"Time-step timed out. Elapsed since last time-step: {now - self.__t_end}\")\n"
     ]
    },
    {
     "name": "stdout",
     "output_type": "stream",
     "text": [
      "\u001b[2m\u001b[36m(RolloutWorker pid=7532)\u001b[0m reset triggered\n",
      "\u001b[2m\u001b[36m(RolloutWorker pid=7532)\u001b[0m reload save for track : 72\n",
      "Loop:  13\n"
     ]
    },
    {
     "name": "stderr",
     "output_type": "stream",
     "text": [
      "\u001b[2m\u001b[36m(RolloutWorker pid=7532)\u001b[0m c:\\Users\\nadir\\anaconda3\\envs\\GTRay2.4.0\\lib\\site-packages\\rtgym\\envs\\real_time_env.py:376: UserWarning: Time-step timed out. Elapsed since last time-step: 2.0528643999946325\n",
      "\u001b[2m\u001b[36m(RolloutWorker pid=7532)\u001b[0m   warnings.warn(f\"Time-step timed out. Elapsed since last time-step: {now - self.__t_end}\")\n"
     ]
    },
    {
     "name": "stdout",
     "output_type": "stream",
     "text": [
      "\u001b[2m\u001b[36m(RolloutWorker pid=7532)\u001b[0m reset triggered\n",
      "\u001b[2m\u001b[36m(RolloutWorker pid=7532)\u001b[0m reload save for track : 72\n"
     ]
    },
    {
     "name": "stderr",
     "output_type": "stream",
     "text": [
      "\u001b[2m\u001b[36m(RolloutWorker pid=7532)\u001b[0m c:\\Users\\nadir\\anaconda3\\envs\\GTRay2.4.0\\lib\\site-packages\\rtgym\\envs\\real_time_env.py:376: UserWarning: Time-step timed out. Elapsed since last time-step: 0.1022091999994359\n",
      "\u001b[2m\u001b[36m(RolloutWorker pid=7532)\u001b[0m   warnings.warn(f\"Time-step timed out. Elapsed since last time-step: {now - self.__t_end}\")\n"
     ]
    },
    {
     "name": "stdout",
     "output_type": "stream",
     "text": [
      "\u001b[2m\u001b[36m(RolloutWorker pid=7532)\u001b[0m reset triggered\n",
      "\u001b[2m\u001b[36m(RolloutWorker pid=7532)\u001b[0m reload save for track : 72\n"
     ]
    },
    {
     "name": "stderr",
     "output_type": "stream",
     "text": [
      "\u001b[2m\u001b[36m(RolloutWorker pid=7532)\u001b[0m c:\\Users\\nadir\\anaconda3\\envs\\GTRay2.4.0\\lib\\site-packages\\rtgym\\envs\\real_time_env.py:376: UserWarning: Time-step timed out. Elapsed since last time-step: 0.15917379999569903\n",
      "\u001b[2m\u001b[36m(RolloutWorker pid=7532)\u001b[0m   warnings.warn(f\"Time-step timed out. Elapsed since last time-step: {now - self.__t_end}\")\n"
     ]
    },
    {
     "name": "stdout",
     "output_type": "stream",
     "text": [
      "Loop:  14\n"
     ]
    },
    {
     "name": "stderr",
     "output_type": "stream",
     "text": [
      "\u001b[2m\u001b[36m(RolloutWorker pid=7532)\u001b[0m c:\\Users\\nadir\\anaconda3\\envs\\GTRay2.4.0\\lib\\site-packages\\rtgym\\envs\\real_time_env.py:376: UserWarning: Time-step timed out. Elapsed since last time-step: 2.2803948999980435\n",
      "\u001b[2m\u001b[36m(RolloutWorker pid=7532)\u001b[0m   warnings.warn(f\"Time-step timed out. Elapsed since last time-step: {now - self.__t_end}\")\n"
     ]
    },
    {
     "name": "stdout",
     "output_type": "stream",
     "text": [
      "\u001b[2m\u001b[36m(RolloutWorker pid=7532)\u001b[0m reset triggered\n",
      "\u001b[2m\u001b[36m(RolloutWorker pid=7532)\u001b[0m reload save for track : 72\n"
     ]
    },
    {
     "name": "stderr",
     "output_type": "stream",
     "text": [
      "\u001b[2m\u001b[36m(RolloutWorker pid=7532)\u001b[0m c:\\Users\\nadir\\anaconda3\\envs\\GTRay2.4.0\\lib\\site-packages\\rtgym\\envs\\real_time_env.py:376: UserWarning: Time-step timed out. Elapsed since last time-step: 0.1393864999976131\n",
      "\u001b[2m\u001b[36m(RolloutWorker pid=7532)\u001b[0m   warnings.warn(f\"Time-step timed out. Elapsed since last time-step: {now - self.__t_end}\")\n"
     ]
    },
    {
     "name": "stdout",
     "output_type": "stream",
     "text": [
      "Loop:  15\n"
     ]
    },
    {
     "name": "stderr",
     "output_type": "stream",
     "text": [
      "\u001b[2m\u001b[36m(RolloutWorker pid=7532)\u001b[0m c:\\Users\\nadir\\anaconda3\\envs\\GTRay2.4.0\\lib\\site-packages\\rtgym\\envs\\real_time_env.py:376: UserWarning: Time-step timed out. Elapsed since last time-step: 2.080367300011403\n",
      "\u001b[2m\u001b[36m(RolloutWorker pid=7532)\u001b[0m   warnings.warn(f\"Time-step timed out. Elapsed since last time-step: {now - self.__t_end}\")\n"
     ]
    },
    {
     "name": "stdout",
     "output_type": "stream",
     "text": [
      "\u001b[2m\u001b[36m(RolloutWorker pid=7532)\u001b[0m reset triggered\n",
      "\u001b[2m\u001b[36m(RolloutWorker pid=7532)\u001b[0m reload save for track : 72\n"
     ]
    },
    {
     "name": "stderr",
     "output_type": "stream",
     "text": [
      "\u001b[2m\u001b[36m(RolloutWorker pid=7532)\u001b[0m c:\\Users\\nadir\\anaconda3\\envs\\GTRay2.4.0\\lib\\site-packages\\rtgym\\envs\\real_time_env.py:376: UserWarning: Time-step timed out. Elapsed since last time-step: 0.1210185000097681\n",
      "\u001b[2m\u001b[36m(RolloutWorker pid=7532)\u001b[0m   warnings.warn(f\"Time-step timed out. Elapsed since last time-step: {now - self.__t_end}\")\n",
      "\u001b[2m\u001b[36m(RolloutWorker pid=7532)\u001b[0m c:\\Users\\nadir\\anaconda3\\envs\\GTRay2.4.0\\lib\\site-packages\\rtgym\\envs\\real_time_env.py:376: UserWarning: Time-step timed out. Elapsed since last time-step: 0.06622720001746529\n",
      "\u001b[2m\u001b[36m(RolloutWorker pid=7532)\u001b[0m   warnings.warn(f\"Time-step timed out. Elapsed since last time-step: {now - self.__t_end}\")\n"
     ]
    },
    {
     "name": "stdout",
     "output_type": "stream",
     "text": [
      "Loop:  16\n"
     ]
    },
    {
     "name": "stderr",
     "output_type": "stream",
     "text": [
      "\u001b[2m\u001b[36m(RolloutWorker pid=7532)\u001b[0m c:\\Users\\nadir\\anaconda3\\envs\\GTRay2.4.0\\lib\\site-packages\\rtgym\\envs\\real_time_env.py:376: UserWarning: Time-step timed out. Elapsed since last time-step: 2.197801300000151\n",
      "\u001b[2m\u001b[36m(RolloutWorker pid=7532)\u001b[0m   warnings.warn(f\"Time-step timed out. Elapsed since last time-step: {now - self.__t_end}\")\n"
     ]
    },
    {
     "name": "stdout",
     "output_type": "stream",
     "text": [
      "\u001b[2m\u001b[36m(RolloutWorker pid=7532)\u001b[0m reset triggered\n",
      "\u001b[2m\u001b[36m(RolloutWorker pid=7532)\u001b[0m reload save for track : 72\n"
     ]
    },
    {
     "name": "stderr",
     "output_type": "stream",
     "text": [
      "\u001b[2m\u001b[36m(RolloutWorker pid=7532)\u001b[0m c:\\Users\\nadir\\anaconda3\\envs\\GTRay2.4.0\\lib\\site-packages\\rtgym\\envs\\real_time_env.py:376: UserWarning: Time-step timed out. Elapsed since last time-step: 0.1307315000096878\n",
      "\u001b[2m\u001b[36m(RolloutWorker pid=7532)\u001b[0m   warnings.warn(f\"Time-step timed out. Elapsed since last time-step: {now - self.__t_end}\")\n",
      "\u001b[2m\u001b[36m(RolloutWorker pid=7532)\u001b[0m c:\\Users\\nadir\\anaconda3\\envs\\GTRay2.4.0\\lib\\site-packages\\rtgym\\envs\\real_time_env.py:376: UserWarning: Time-step timed out. Elapsed since last time-step: 0.14061690001506122\n",
      "\u001b[2m\u001b[36m(RolloutWorker pid=7532)\u001b[0m   warnings.warn(f\"Time-step timed out. Elapsed since last time-step: {now - self.__t_end}\")\n"
     ]
    },
    {
     "name": "stdout",
     "output_type": "stream",
     "text": [
      "\u001b[2m\u001b[36m(RolloutWorker pid=7532)\u001b[0m reset triggered\n",
      "\u001b[2m\u001b[36m(RolloutWorker pid=7532)\u001b[0m reload save for track : 72\n"
     ]
    },
    {
     "name": "stderr",
     "output_type": "stream",
     "text": [
      "\u001b[2m\u001b[36m(RolloutWorker pid=7532)\u001b[0m c:\\Users\\nadir\\anaconda3\\envs\\GTRay2.4.0\\lib\\site-packages\\rtgym\\envs\\real_time_env.py:376: UserWarning: Time-step timed out. Elapsed since last time-step: 0.14335930000231656\n",
      "\u001b[2m\u001b[36m(RolloutWorker pid=7532)\u001b[0m   warnings.warn(f\"Time-step timed out. Elapsed since last time-step: {now - self.__t_end}\")\n"
     ]
    },
    {
     "name": "stdout",
     "output_type": "stream",
     "text": [
      "Loop:  17\n"
     ]
    },
    {
     "name": "stderr",
     "output_type": "stream",
     "text": [
      "\u001b[2m\u001b[36m(RolloutWorker pid=7532)\u001b[0m c:\\Users\\nadir\\anaconda3\\envs\\GTRay2.4.0\\lib\\site-packages\\rtgym\\envs\\real_time_env.py:376: UserWarning: Time-step timed out. Elapsed since last time-step: 2.0692599000001337\n",
      "\u001b[2m\u001b[36m(RolloutWorker pid=7532)\u001b[0m   warnings.warn(f\"Time-step timed out. Elapsed since last time-step: {now - self.__t_end}\")\n"
     ]
    },
    {
     "name": "stdout",
     "output_type": "stream",
     "text": [
      "\u001b[2m\u001b[36m(RolloutWorker pid=7532)\u001b[0m reset triggered\n",
      "\u001b[2m\u001b[36m(RolloutWorker pid=7532)\u001b[0m reload save for track : 72\n"
     ]
    },
    {
     "name": "stderr",
     "output_type": "stream",
     "text": [
      "\u001b[2m\u001b[36m(RolloutWorker pid=7532)\u001b[0m c:\\Users\\nadir\\anaconda3\\envs\\GTRay2.4.0\\lib\\site-packages\\rtgym\\envs\\real_time_env.py:376: UserWarning: Time-step timed out. Elapsed since last time-step: 0.1768353000170464\n",
      "\u001b[2m\u001b[36m(RolloutWorker pid=7532)\u001b[0m   warnings.warn(f\"Time-step timed out. Elapsed since last time-step: {now - self.__t_end}\")\n"
     ]
    },
    {
     "name": "stdout",
     "output_type": "stream",
     "text": [
      "Loop:  18\n"
     ]
    },
    {
     "name": "stderr",
     "output_type": "stream",
     "text": [
      "\u001b[2m\u001b[36m(RolloutWorker pid=7532)\u001b[0m c:\\Users\\nadir\\anaconda3\\envs\\GTRay2.4.0\\lib\\site-packages\\rtgym\\envs\\real_time_env.py:376: UserWarning: Time-step timed out. Elapsed since last time-step: 2.1406535000102167\n",
      "\u001b[2m\u001b[36m(RolloutWorker pid=7532)\u001b[0m   warnings.warn(f\"Time-step timed out. Elapsed since last time-step: {now - self.__t_end}\")\n"
     ]
    },
    {
     "name": "stdout",
     "output_type": "stream",
     "text": [
      "\u001b[2m\u001b[36m(RolloutWorker pid=7532)\u001b[0m reset triggered\n",
      "\u001b[2m\u001b[36m(RolloutWorker pid=7532)\u001b[0m reload save for track : 72\n"
     ]
    },
    {
     "name": "stderr",
     "output_type": "stream",
     "text": [
      "\u001b[2m\u001b[36m(RolloutWorker pid=7532)\u001b[0m c:\\Users\\nadir\\anaconda3\\envs\\GTRay2.4.0\\lib\\site-packages\\rtgym\\envs\\real_time_env.py:376: UserWarning: Time-step timed out. Elapsed since last time-step: 0.1404129000170542\n",
      "\u001b[2m\u001b[36m(RolloutWorker pid=7532)\u001b[0m   warnings.warn(f\"Time-step timed out. Elapsed since last time-step: {now - self.__t_end}\")\n",
      "\u001b[2m\u001b[36m(RolloutWorker pid=7532)\u001b[0m c:\\Users\\nadir\\anaconda3\\envs\\GTRay2.4.0\\lib\\site-packages\\rtgym\\envs\\real_time_env.py:376: UserWarning: Time-step timed out. Elapsed since last time-step: 0.050828700010242756\n",
      "\u001b[2m\u001b[36m(RolloutWorker pid=7532)\u001b[0m   warnings.warn(f\"Time-step timed out. Elapsed since last time-step: {now - self.__t_end}\")\n"
     ]
    },
    {
     "name": "stdout",
     "output_type": "stream",
     "text": [
      "Loop:  19\n"
     ]
    },
    {
     "name": "stderr",
     "output_type": "stream",
     "text": [
      "\u001b[2m\u001b[36m(RolloutWorker pid=7532)\u001b[0m c:\\Users\\nadir\\anaconda3\\envs\\GTRay2.4.0\\lib\\site-packages\\rtgym\\envs\\real_time_env.py:376: UserWarning: Time-step timed out. Elapsed since last time-step: 2.3165489000000434\n",
      "\u001b[2m\u001b[36m(RolloutWorker pid=7532)\u001b[0m   warnings.warn(f\"Time-step timed out. Elapsed since last time-step: {now - self.__t_end}\")\n"
     ]
    },
    {
     "name": "stdout",
     "output_type": "stream",
     "text": [
      "\u001b[2m\u001b[36m(RolloutWorker pid=7532)\u001b[0m reset triggered\n",
      "\u001b[2m\u001b[36m(RolloutWorker pid=7532)\u001b[0m reload save for track : 72\n"
     ]
    },
    {
     "name": "stderr",
     "output_type": "stream",
     "text": [
      "\u001b[2m\u001b[36m(RolloutWorker pid=7532)\u001b[0m c:\\Users\\nadir\\anaconda3\\envs\\GTRay2.4.0\\lib\\site-packages\\rtgym\\envs\\real_time_env.py:376: UserWarning: Time-step timed out. Elapsed since last time-step: 0.13189820000627606\n",
      "\u001b[2m\u001b[36m(RolloutWorker pid=7532)\u001b[0m   warnings.warn(f\"Time-step timed out. Elapsed since last time-step: {now - self.__t_end}\")\n",
      "\u001b[2m\u001b[36m(RolloutWorker pid=7532)\u001b[0m c:\\Users\\nadir\\anaconda3\\envs\\GTRay2.4.0\\lib\\site-packages\\rtgym\\envs\\real_time_env.py:376: UserWarning: Time-step timed out. Elapsed since last time-step: 0.06557820002092285\n",
      "\u001b[2m\u001b[36m(RolloutWorker pid=7532)\u001b[0m   warnings.warn(f\"Time-step timed out. Elapsed since last time-step: {now - self.__t_end}\")\n"
     ]
    },
    {
     "name": "stdout",
     "output_type": "stream",
     "text": [
      "Loop:  20\n",
      "Saved 20\n"
     ]
    },
    {
     "name": "stderr",
     "output_type": "stream",
     "text": [
      "\u001b[2m\u001b[36m(RolloutWorker pid=7532)\u001b[0m c:\\Users\\nadir\\anaconda3\\envs\\GTRay2.4.0\\lib\\site-packages\\rtgym\\envs\\real_time_env.py:376: UserWarning: Time-step timed out. Elapsed since last time-step: 2.1018518000000768\n",
      "\u001b[2m\u001b[36m(RolloutWorker pid=7532)\u001b[0m   warnings.warn(f\"Time-step timed out. Elapsed since last time-step: {now - self.__t_end}\")\n"
     ]
    },
    {
     "name": "stdout",
     "output_type": "stream",
     "text": [
      "\u001b[2m\u001b[36m(RolloutWorker pid=7532)\u001b[0m reset triggered\n",
      "\u001b[2m\u001b[36m(RolloutWorker pid=7532)\u001b[0m reload save for track : 72\n"
     ]
    },
    {
     "name": "stderr",
     "output_type": "stream",
     "text": [
      "\u001b[2m\u001b[36m(RolloutWorker pid=7532)\u001b[0m c:\\Users\\nadir\\anaconda3\\envs\\GTRay2.4.0\\lib\\site-packages\\rtgym\\envs\\real_time_env.py:376: UserWarning: Time-step timed out. Elapsed since last time-step: 0.12599310000632613\n",
      "\u001b[2m\u001b[36m(RolloutWorker pid=7532)\u001b[0m   warnings.warn(f\"Time-step timed out. Elapsed since last time-step: {now - self.__t_end}\")\n",
      "\u001b[2m\u001b[36m(RolloutWorker pid=7532)\u001b[0m c:\\Users\\nadir\\anaconda3\\envs\\GTRay2.4.0\\lib\\site-packages\\rtgym\\envs\\real_time_env.py:376: UserWarning: Time-step timed out. Elapsed since last time-step: 0.06801410002094599\n",
      "\u001b[2m\u001b[36m(RolloutWorker pid=7532)\u001b[0m   warnings.warn(f\"Time-step timed out. Elapsed since last time-step: {now - self.__t_end}\")\n"
     ]
    },
    {
     "name": "stdout",
     "output_type": "stream",
     "text": [
      "Loop:  21\n"
     ]
    },
    {
     "name": "stderr",
     "output_type": "stream",
     "text": [
      "\u001b[2m\u001b[36m(RolloutWorker pid=7532)\u001b[0m c:\\Users\\nadir\\anaconda3\\envs\\GTRay2.4.0\\lib\\site-packages\\rtgym\\envs\\real_time_env.py:376: UserWarning: Time-step timed out. Elapsed since last time-step: 1.9861484000000473\n",
      "\u001b[2m\u001b[36m(RolloutWorker pid=7532)\u001b[0m   warnings.warn(f\"Time-step timed out. Elapsed since last time-step: {now - self.__t_end}\")\n",
      "\u001b[2m\u001b[36m(RolloutWorker pid=7532)\u001b[0m c:\\Users\\nadir\\anaconda3\\envs\\GTRay2.4.0\\lib\\site-packages\\rtgym\\envs\\real_time_env.py:376: UserWarning: Time-step timed out. Elapsed since last time-step: 0.12889970000628637\n",
      "\u001b[2m\u001b[36m(RolloutWorker pid=7532)\u001b[0m   warnings.warn(f\"Time-step timed out. Elapsed since last time-step: {now - self.__t_end}\")\n"
     ]
    },
    {
     "name": "stdout",
     "output_type": "stream",
     "text": [
      "\u001b[2m\u001b[36m(RolloutWorker pid=7532)\u001b[0m reset triggered\n",
      "\u001b[2m\u001b[36m(RolloutWorker pid=7532)\u001b[0m reload save for track : 72\n"
     ]
    },
    {
     "name": "stderr",
     "output_type": "stream",
     "text": [
      "\u001b[2m\u001b[36m(RolloutWorker pid=7532)\u001b[0m c:\\Users\\nadir\\anaconda3\\envs\\GTRay2.4.0\\lib\\site-packages\\rtgym\\envs\\real_time_env.py:376: UserWarning: Time-step timed out. Elapsed since last time-step: 0.07296760002088831\n",
      "\u001b[2m\u001b[36m(RolloutWorker pid=7532)\u001b[0m   warnings.warn(f\"Time-step timed out. Elapsed since last time-step: {now - self.__t_end}\")\n"
     ]
    },
    {
     "name": "stdout",
     "output_type": "stream",
     "text": [
      "Loop:  22\n"
     ]
    },
    {
     "name": "stderr",
     "output_type": "stream",
     "text": [
      "\u001b[2m\u001b[36m(RolloutWorker pid=7532)\u001b[0m c:\\Users\\nadir\\anaconda3\\envs\\GTRay2.4.0\\lib\\site-packages\\rtgym\\envs\\real_time_env.py:376: UserWarning: Time-step timed out. Elapsed since last time-step: 2.049518100000114\n",
      "\u001b[2m\u001b[36m(RolloutWorker pid=7532)\u001b[0m   warnings.warn(f\"Time-step timed out. Elapsed since last time-step: {now - self.__t_end}\")\n",
      "\u001b[2m\u001b[36m(RolloutWorker pid=7532)\u001b[0m c:\\Users\\nadir\\anaconda3\\envs\\GTRay2.4.0\\lib\\site-packages\\rtgym\\envs\\real_time_env.py:376: UserWarning: Time-step timed out. Elapsed since last time-step: 0.13154030000623607\n",
      "\u001b[2m\u001b[36m(RolloutWorker pid=7532)\u001b[0m   warnings.warn(f\"Time-step timed out. Elapsed since last time-step: {now - self.__t_end}\")\n"
     ]
    },
    {
     "name": "stdout",
     "output_type": "stream",
     "text": [
      "\u001b[2m\u001b[36m(RolloutWorker pid=7532)\u001b[0m reset triggered\n",
      "\u001b[2m\u001b[36m(RolloutWorker pid=7532)\u001b[0m reload save for track : 72\n"
     ]
    },
    {
     "name": "stderr",
     "output_type": "stream",
     "text": [
      "\u001b[2m\u001b[36m(RolloutWorker pid=7532)\u001b[0m c:\\Users\\nadir\\anaconda3\\envs\\GTRay2.4.0\\lib\\site-packages\\rtgym\\envs\\real_time_env.py:376: UserWarning: Time-step timed out. Elapsed since last time-step: 0.06400440002096275\n",
      "\u001b[2m\u001b[36m(RolloutWorker pid=7532)\u001b[0m   warnings.warn(f\"Time-step timed out. Elapsed since last time-step: {now - self.__t_end}\")\n"
     ]
    },
    {
     "name": "stdout",
     "output_type": "stream",
     "text": [
      "Loop:  23\n"
     ]
    },
    {
     "name": "stderr",
     "output_type": "stream",
     "text": [
      "\u001b[2m\u001b[36m(RolloutWorker pid=7532)\u001b[0m c:\\Users\\nadir\\anaconda3\\envs\\GTRay2.4.0\\lib\\site-packages\\rtgym\\envs\\real_time_env.py:376: UserWarning: Time-step timed out. Elapsed since last time-step: 2.3018654000001106\n",
      "\u001b[2m\u001b[36m(RolloutWorker pid=7532)\u001b[0m   warnings.warn(f\"Time-step timed out. Elapsed since last time-step: {now - self.__t_end}\")\n",
      "\u001b[2m\u001b[36m(RolloutWorker pid=7532)\u001b[0m c:\\Users\\nadir\\anaconda3\\envs\\GTRay2.4.0\\lib\\site-packages\\rtgym\\envs\\real_time_env.py:376: UserWarning: Time-step timed out. Elapsed since last time-step: 0.11756320000392861\n",
      "\u001b[2m\u001b[36m(RolloutWorker pid=7532)\u001b[0m   warnings.warn(f\"Time-step timed out. Elapsed since last time-step: {now - self.__t_end}\")\n"
     ]
    },
    {
     "name": "stdout",
     "output_type": "stream",
     "text": [
      "\u001b[2m\u001b[36m(RolloutWorker pid=7532)\u001b[0m reset triggered\n",
      "\u001b[2m\u001b[36m(RolloutWorker pid=7532)\u001b[0m reload save for track : 72\n"
     ]
    },
    {
     "name": "stderr",
     "output_type": "stream",
     "text": [
      "\u001b[2m\u001b[36m(RolloutWorker pid=7532)\u001b[0m c:\\Users\\nadir\\anaconda3\\envs\\GTRay2.4.0\\lib\\site-packages\\rtgym\\envs\\real_time_env.py:376: UserWarning: Time-step timed out. Elapsed since last time-step: 0.053939300010597435\n",
      "\u001b[2m\u001b[36m(RolloutWorker pid=7532)\u001b[0m   warnings.warn(f\"Time-step timed out. Elapsed since last time-step: {now - self.__t_end}\")\n",
      "\u001b[2m\u001b[36m(RolloutWorker pid=7532)\u001b[0m c:\\Users\\nadir\\anaconda3\\envs\\GTRay2.4.0\\lib\\site-packages\\rtgym\\envs\\real_time_env.py:376: UserWarning: Time-step timed out. Elapsed since last time-step: 0.06953820001263011\n",
      "\u001b[2m\u001b[36m(RolloutWorker pid=7532)\u001b[0m   warnings.warn(f\"Time-step timed out. Elapsed since last time-step: {now - self.__t_end}\")\n"
     ]
    },
    {
     "name": "stdout",
     "output_type": "stream",
     "text": [
      "Loop:  24\n"
     ]
    },
    {
     "name": "stderr",
     "output_type": "stream",
     "text": [
      "\u001b[2m\u001b[36m(RolloutWorker pid=7532)\u001b[0m c:\\Users\\nadir\\anaconda3\\envs\\GTRay2.4.0\\lib\\site-packages\\rtgym\\envs\\real_time_env.py:376: UserWarning: Time-step timed out. Elapsed since last time-step: 1.9556299000000763\n",
      "\u001b[2m\u001b[36m(RolloutWorker pid=7532)\u001b[0m   warnings.warn(f\"Time-step timed out. Elapsed since last time-step: {now - self.__t_end}\")\n"
     ]
    },
    {
     "name": "stdout",
     "output_type": "stream",
     "text": [
      "\u001b[2m\u001b[36m(RolloutWorker pid=7532)\u001b[0m reset triggered\n",
      "\u001b[2m\u001b[36m(RolloutWorker pid=7532)\u001b[0m reload save for track : 72\n"
     ]
    },
    {
     "name": "stderr",
     "output_type": "stream",
     "text": [
      "\u001b[2m\u001b[36m(RolloutWorker pid=7532)\u001b[0m c:\\Users\\nadir\\anaconda3\\envs\\GTRay2.4.0\\lib\\site-packages\\rtgym\\envs\\real_time_env.py:376: UserWarning: Time-step timed out. Elapsed since last time-step: 0.11088000000404463\n",
      "\u001b[2m\u001b[36m(RolloutWorker pid=7532)\u001b[0m   warnings.warn(f\"Time-step timed out. Elapsed since last time-step: {now - self.__t_end}\")\n",
      "\u001b[2m\u001b[36m(RolloutWorker pid=7532)\u001b[0m c:\\Users\\nadir\\anaconda3\\envs\\GTRay2.4.0\\lib\\site-packages\\rtgym\\envs\\real_time_env.py:376: UserWarning: Time-step timed out. Elapsed since last time-step: 0.061857900023142065\n",
      "\u001b[2m\u001b[36m(RolloutWorker pid=7532)\u001b[0m   warnings.warn(f\"Time-step timed out. Elapsed since last time-step: {now - self.__t_end}\")\n"
     ]
    },
    {
     "name": "stdout",
     "output_type": "stream",
     "text": [
      "Loop:  25\n"
     ]
    },
    {
     "name": "stderr",
     "output_type": "stream",
     "text": [
      "\u001b[2m\u001b[36m(RolloutWorker pid=7532)\u001b[0m c:\\Users\\nadir\\anaconda3\\envs\\GTRay2.4.0\\lib\\site-packages\\rtgym\\envs\\real_time_env.py:376: UserWarning: Time-step timed out. Elapsed since last time-step: 1.9660444000001007\n",
      "\u001b[2m\u001b[36m(RolloutWorker pid=7532)\u001b[0m   warnings.warn(f\"Time-step timed out. Elapsed since last time-step: {now - self.__t_end}\")\n"
     ]
    },
    {
     "name": "stdout",
     "output_type": "stream",
     "text": [
      "\u001b[2m\u001b[36m(RolloutWorker pid=7532)\u001b[0m reset triggered\n",
      "\u001b[2m\u001b[36m(RolloutWorker pid=7532)\u001b[0m reload save for track : 72\n"
     ]
    },
    {
     "name": "stderr",
     "output_type": "stream",
     "text": [
      "\u001b[2m\u001b[36m(RolloutWorker pid=7532)\u001b[0m c:\\Users\\nadir\\anaconda3\\envs\\GTRay2.4.0\\lib\\site-packages\\rtgym\\envs\\real_time_env.py:376: UserWarning: Time-step timed out. Elapsed since last time-step: 0.11467890000403713\n",
      "\u001b[2m\u001b[36m(RolloutWorker pid=7532)\u001b[0m   warnings.warn(f\"Time-step timed out. Elapsed since last time-step: {now - self.__t_end}\")\n",
      "\u001b[2m\u001b[36m(RolloutWorker pid=7532)\u001b[0m c:\\Users\\nadir\\anaconda3\\envs\\GTRay2.4.0\\lib\\site-packages\\rtgym\\envs\\real_time_env.py:376: UserWarning: Time-step timed out. Elapsed since last time-step: 0.1572129000184077\n",
      "\u001b[2m\u001b[36m(RolloutWorker pid=7532)\u001b[0m   warnings.warn(f\"Time-step timed out. Elapsed since last time-step: {now - self.__t_end}\")\n"
     ]
    },
    {
     "name": "stdout",
     "output_type": "stream",
     "text": [
      "\u001b[2m\u001b[36m(RolloutWorker pid=7532)\u001b[0m reset triggered\n",
      "\u001b[2m\u001b[36m(RolloutWorker pid=7532)\u001b[0m reload save for track : 72\n",
      "Loop:  26\n"
     ]
    },
    {
     "name": "stderr",
     "output_type": "stream",
     "text": [
      "\u001b[2m\u001b[36m(RolloutWorker pid=7532)\u001b[0m c:\\Users\\nadir\\anaconda3\\envs\\GTRay2.4.0\\lib\\site-packages\\rtgym\\envs\\real_time_env.py:376: UserWarning: Time-step timed out. Elapsed since last time-step: 2.2232493000047953\n",
      "\u001b[2m\u001b[36m(RolloutWorker pid=7532)\u001b[0m   warnings.warn(f\"Time-step timed out. Elapsed since last time-step: {now - self.__t_end}\")\n"
     ]
    },
    {
     "name": "stdout",
     "output_type": "stream",
     "text": [
      "\u001b[2m\u001b[36m(RolloutWorker pid=7532)\u001b[0m reset triggered\n",
      "\u001b[2m\u001b[36m(RolloutWorker pid=7532)\u001b[0m reload save for track : 72\n"
     ]
    },
    {
     "name": "stderr",
     "output_type": "stream",
     "text": [
      "\u001b[2m\u001b[36m(RolloutWorker pid=7532)\u001b[0m c:\\Users\\nadir\\anaconda3\\envs\\GTRay2.4.0\\lib\\site-packages\\rtgym\\envs\\real_time_env.py:376: UserWarning: Time-step timed out. Elapsed since last time-step: 0.11812620001160212\n",
      "\u001b[2m\u001b[36m(RolloutWorker pid=7532)\u001b[0m   warnings.warn(f\"Time-step timed out. Elapsed since last time-step: {now - self.__t_end}\")\n",
      "\u001b[2m\u001b[36m(RolloutWorker pid=7532)\u001b[0m c:\\Users\\nadir\\anaconda3\\envs\\GTRay2.4.0\\lib\\site-packages\\rtgym\\envs\\real_time_env.py:376: UserWarning: Time-step timed out. Elapsed since last time-step: 0.14861370001494834\n",
      "\u001b[2m\u001b[36m(RolloutWorker pid=7532)\u001b[0m   warnings.warn(f\"Time-step timed out. Elapsed since last time-step: {now - self.__t_end}\")\n"
     ]
    },
    {
     "name": "stdout",
     "output_type": "stream",
     "text": [
      "\u001b[2m\u001b[36m(RolloutWorker pid=7532)\u001b[0m reset triggered\n",
      "\u001b[2m\u001b[36m(RolloutWorker pid=7532)\u001b[0m reload save for track : 72\n",
      "Loop:  27\n"
     ]
    },
    {
     "name": "stderr",
     "output_type": "stream",
     "text": [
      "\u001b[2m\u001b[36m(RolloutWorker pid=7532)\u001b[0m c:\\Users\\nadir\\anaconda3\\envs\\GTRay2.4.0\\lib\\site-packages\\rtgym\\envs\\real_time_env.py:376: UserWarning: Time-step timed out. Elapsed since last time-step: 2.122261100000742\n",
      "\u001b[2m\u001b[36m(RolloutWorker pid=7532)\u001b[0m   warnings.warn(f\"Time-step timed out. Elapsed since last time-step: {now - self.__t_end}\")\n"
     ]
    },
    {
     "name": "stdout",
     "output_type": "stream",
     "text": [
      "\u001b[2m\u001b[36m(RolloutWorker pid=7532)\u001b[0m reset triggered\n",
      "\u001b[2m\u001b[36m(RolloutWorker pid=7532)\u001b[0m reload save for track : 72\n"
     ]
    },
    {
     "name": "stderr",
     "output_type": "stream",
     "text": [
      "\u001b[2m\u001b[36m(RolloutWorker pid=7532)\u001b[0m c:\\Users\\nadir\\anaconda3\\envs\\GTRay2.4.0\\lib\\site-packages\\rtgym\\envs\\real_time_env.py:376: UserWarning: Time-step timed out. Elapsed since last time-step: 0.187852800026576\n",
      "\u001b[2m\u001b[36m(RolloutWorker pid=7532)\u001b[0m   warnings.warn(f\"Time-step timed out. Elapsed since last time-step: {now - self.__t_end}\")\n"
     ]
    },
    {
     "name": "stdout",
     "output_type": "stream",
     "text": [
      "Loop:  28\n"
     ]
    },
    {
     "name": "stderr",
     "output_type": "stream",
     "text": [
      "\u001b[2m\u001b[36m(RolloutWorker pid=7532)\u001b[0m c:\\Users\\nadir\\anaconda3\\envs\\GTRay2.4.0\\lib\\site-packages\\rtgym\\envs\\real_time_env.py:376: UserWarning: Time-step timed out. Elapsed since last time-step: 2.201805100000797\n",
      "\u001b[2m\u001b[36m(RolloutWorker pid=7532)\u001b[0m   warnings.warn(f\"Time-step timed out. Elapsed since last time-step: {now - self.__t_end}\")\n"
     ]
    },
    {
     "name": "stdout",
     "output_type": "stream",
     "text": [
      "\u001b[2m\u001b[36m(RolloutWorker pid=7532)\u001b[0m reset triggered\n",
      "\u001b[2m\u001b[36m(RolloutWorker pid=7532)\u001b[0m reload save for track : 72\n"
     ]
    },
    {
     "name": "stderr",
     "output_type": "stream",
     "text": [
      "\u001b[2m\u001b[36m(RolloutWorker pid=7532)\u001b[0m c:\\Users\\nadir\\anaconda3\\envs\\GTRay2.4.0\\lib\\site-packages\\rtgym\\envs\\real_time_env.py:376: UserWarning: Time-step timed out. Elapsed since last time-step: 0.1949425000265137\n",
      "\u001b[2m\u001b[36m(RolloutWorker pid=7532)\u001b[0m   warnings.warn(f\"Time-step timed out. Elapsed since last time-step: {now - self.__t_end}\")\n"
     ]
    },
    {
     "name": "stdout",
     "output_type": "stream",
     "text": [
      "Loop:  29\n"
     ]
    },
    {
     "name": "stderr",
     "output_type": "stream",
     "text": [
      "\u001b[2m\u001b[36m(RolloutWorker pid=7532)\u001b[0m c:\\Users\\nadir\\anaconda3\\envs\\GTRay2.4.0\\lib\\site-packages\\rtgym\\envs\\real_time_env.py:376: UserWarning: Time-step timed out. Elapsed since last time-step: 2.2226908000006915\n",
      "\u001b[2m\u001b[36m(RolloutWorker pid=7532)\u001b[0m   warnings.warn(f\"Time-step timed out. Elapsed since last time-step: {now - self.__t_end}\")\n",
      "\u001b[2m\u001b[36m(RolloutWorker pid=7532)\u001b[0m c:\\Users\\nadir\\anaconda3\\envs\\GTRay2.4.0\\lib\\site-packages\\rtgym\\envs\\real_time_env.py:376: UserWarning: Time-step timed out. Elapsed since last time-step: 0.15077240001937753\n",
      "\u001b[2m\u001b[36m(RolloutWorker pid=7532)\u001b[0m   warnings.warn(f\"Time-step timed out. Elapsed since last time-step: {now - self.__t_end}\")\n"
     ]
    },
    {
     "name": "stdout",
     "output_type": "stream",
     "text": [
      "\u001b[2m\u001b[36m(RolloutWorker pid=7532)\u001b[0m reset triggered\n",
      "\u001b[2m\u001b[36m(RolloutWorker pid=7532)\u001b[0m reload save for track : 72\n",
      "Loop:  30\n",
      "Saved 30\n"
     ]
    },
    {
     "name": "stderr",
     "output_type": "stream",
     "text": [
      "\u001b[2m\u001b[36m(RolloutWorker pid=7532)\u001b[0m c:\\Users\\nadir\\anaconda3\\envs\\GTRay2.4.0\\lib\\site-packages\\rtgym\\envs\\real_time_env.py:376: UserWarning: Time-step timed out. Elapsed since last time-step: 2.294782700007886\n",
      "\u001b[2m\u001b[36m(RolloutWorker pid=7532)\u001b[0m   warnings.warn(f\"Time-step timed out. Elapsed since last time-step: {now - self.__t_end}\")\n",
      "\u001b[2m\u001b[36m(RolloutWorker pid=7532)\u001b[0m c:\\Users\\nadir\\anaconda3\\envs\\GTRay2.4.0\\lib\\site-packages\\rtgym\\envs\\real_time_env.py:376: UserWarning: Time-step timed out. Elapsed since last time-step: 0.151712400019278\n",
      "\u001b[2m\u001b[36m(RolloutWorker pid=7532)\u001b[0m   warnings.warn(f\"Time-step timed out. Elapsed since last time-step: {now - self.__t_end}\")\n"
     ]
    },
    {
     "name": "stdout",
     "output_type": "stream",
     "text": [
      "\u001b[2m\u001b[36m(RolloutWorker pid=7532)\u001b[0m reset triggered\n",
      "\u001b[2m\u001b[36m(RolloutWorker pid=7532)\u001b[0m reload save for track : 72\n",
      "Loop:  31\n"
     ]
    },
    {
     "name": "stderr",
     "output_type": "stream",
     "text": [
      "\u001b[2m\u001b[36m(RolloutWorker pid=7532)\u001b[0m c:\\Users\\nadir\\anaconda3\\envs\\GTRay2.4.0\\lib\\site-packages\\rtgym\\envs\\real_time_env.py:376: UserWarning: Time-step timed out. Elapsed since last time-step: 2.210715100007974\n",
      "\u001b[2m\u001b[36m(RolloutWorker pid=7532)\u001b[0m   warnings.warn(f\"Time-step timed out. Elapsed since last time-step: {now - self.__t_end}\")\n"
     ]
    },
    {
     "name": "stdout",
     "output_type": "stream",
     "text": [
      "\u001b[2m\u001b[36m(RolloutWorker pid=7532)\u001b[0m reset triggered\n",
      "\u001b[2m\u001b[36m(RolloutWorker pid=7532)\u001b[0m reload save for track : 72\n"
     ]
    },
    {
     "name": "stderr",
     "output_type": "stream",
     "text": [
      "\u001b[2m\u001b[36m(RolloutWorker pid=7532)\u001b[0m c:\\Users\\nadir\\anaconda3\\envs\\GTRay2.4.0\\lib\\site-packages\\rtgym\\envs\\real_time_env.py:376: UserWarning: Time-step timed out. Elapsed since last time-step: 0.17269050001937103\n",
      "\u001b[2m\u001b[36m(RolloutWorker pid=7532)\u001b[0m   warnings.warn(f\"Time-step timed out. Elapsed since last time-step: {now - self.__t_end}\")\n"
     ]
    },
    {
     "name": "stdout",
     "output_type": "stream",
     "text": [
      "Loop:  32\n"
     ]
    },
    {
     "name": "stderr",
     "output_type": "stream",
     "text": [
      "\u001b[2m\u001b[36m(RolloutWorker pid=7532)\u001b[0m c:\\Users\\nadir\\anaconda3\\envs\\GTRay2.4.0\\lib\\site-packages\\rtgym\\envs\\real_time_env.py:376: UserWarning: Time-step timed out. Elapsed since last time-step: 2.1967128000078446\n",
      "\u001b[2m\u001b[36m(RolloutWorker pid=7532)\u001b[0m   warnings.warn(f\"Time-step timed out. Elapsed since last time-step: {now - self.__t_end}\")\n"
     ]
    },
    {
     "name": "stdout",
     "output_type": "stream",
     "text": [
      "\u001b[2m\u001b[36m(RolloutWorker pid=7532)\u001b[0m reset triggered\n",
      "\u001b[2m\u001b[36m(RolloutWorker pid=7532)\u001b[0m reload save for track : 72\n"
     ]
    },
    {
     "name": "stderr",
     "output_type": "stream",
     "text": [
      "\u001b[2m\u001b[36m(RolloutWorker pid=7532)\u001b[0m c:\\Users\\nadir\\anaconda3\\envs\\GTRay2.4.0\\lib\\site-packages\\rtgym\\envs\\real_time_env.py:376: UserWarning: Time-step timed out. Elapsed since last time-step: 0.1335885000110011\n",
      "\u001b[2m\u001b[36m(RolloutWorker pid=7532)\u001b[0m   warnings.warn(f\"Time-step timed out. Elapsed since last time-step: {now - self.__t_end}\")\n"
     ]
    },
    {
     "name": "stdout",
     "output_type": "stream",
     "text": [
      "Loop:  33\n"
     ]
    },
    {
     "name": "stderr",
     "output_type": "stream",
     "text": [
      "\u001b[2m\u001b[36m(RolloutWorker pid=7532)\u001b[0m c:\\Users\\nadir\\anaconda3\\envs\\GTRay2.4.0\\lib\\site-packages\\rtgym\\envs\\real_time_env.py:376: UserWarning: Time-step timed out. Elapsed since last time-step: 2.2147294000162674\n",
      "\u001b[2m\u001b[36m(RolloutWorker pid=7532)\u001b[0m   warnings.warn(f\"Time-step timed out. Elapsed since last time-step: {now - self.__t_end}\")\n"
     ]
    },
    {
     "name": "stdout",
     "output_type": "stream",
     "text": [
      "\u001b[2m\u001b[36m(RolloutWorker pid=7532)\u001b[0m reset triggered\n",
      "\u001b[2m\u001b[36m(RolloutWorker pid=7532)\u001b[0m reload save for track : 72\n"
     ]
    },
    {
     "name": "stderr",
     "output_type": "stream",
     "text": [
      "\u001b[2m\u001b[36m(RolloutWorker pid=7532)\u001b[0m c:\\Users\\nadir\\anaconda3\\envs\\GTRay2.4.0\\lib\\site-packages\\rtgym\\envs\\real_time_env.py:376: UserWarning: Time-step timed out. Elapsed since last time-step: 0.13154520001103265\n",
      "\u001b[2m\u001b[36m(RolloutWorker pid=7532)\u001b[0m   warnings.warn(f\"Time-step timed out. Elapsed since last time-step: {now - self.__t_end}\")\n"
     ]
    },
    {
     "name": "stdout",
     "output_type": "stream",
     "text": [
      "Loop:  34\n"
     ]
    },
    {
     "name": "stderr",
     "output_type": "stream",
     "text": [
      "\u001b[2m\u001b[36m(RolloutWorker pid=7532)\u001b[0m c:\\Users\\nadir\\anaconda3\\envs\\GTRay2.4.0\\lib\\site-packages\\rtgym\\envs\\real_time_env.py:376: UserWarning: Time-step timed out. Elapsed since last time-step: 2.0402369000162253\n",
      "\u001b[2m\u001b[36m(RolloutWorker pid=7532)\u001b[0m   warnings.warn(f\"Time-step timed out. Elapsed since last time-step: {now - self.__t_end}\")\n"
     ]
    },
    {
     "name": "stdout",
     "output_type": "stream",
     "text": [
      "\u001b[2m\u001b[36m(RolloutWorker pid=7532)\u001b[0m reset triggered\n",
      "\u001b[2m\u001b[36m(RolloutWorker pid=7532)\u001b[0m reload save for track : 72\n"
     ]
    },
    {
     "name": "stderr",
     "output_type": "stream",
     "text": [
      "\u001b[2m\u001b[36m(RolloutWorker pid=7532)\u001b[0m c:\\Users\\nadir\\anaconda3\\envs\\GTRay2.4.0\\lib\\site-packages\\rtgym\\envs\\real_time_env.py:376: UserWarning: Time-step timed out. Elapsed since last time-step: 0.12957060001122045\n",
      "\u001b[2m\u001b[36m(RolloutWorker pid=7532)\u001b[0m   warnings.warn(f\"Time-step timed out. Elapsed since last time-step: {now - self.__t_end}\")\n"
     ]
    },
    {
     "name": "stdout",
     "output_type": "stream",
     "text": [
      "Loop:  35\n"
     ]
    },
    {
     "name": "stderr",
     "output_type": "stream",
     "text": [
      "\u001b[2m\u001b[36m(RolloutWorker pid=7532)\u001b[0m c:\\Users\\nadir\\anaconda3\\envs\\GTRay2.4.0\\lib\\site-packages\\rtgym\\envs\\real_time_env.py:376: UserWarning: Time-step timed out. Elapsed since last time-step: 1.9930826000161233\n",
      "\u001b[2m\u001b[36m(RolloutWorker pid=7532)\u001b[0m   warnings.warn(f\"Time-step timed out. Elapsed since last time-step: {now - self.__t_end}\")\n",
      "\u001b[2m\u001b[36m(RolloutWorker pid=7532)\u001b[0m c:\\Users\\nadir\\anaconda3\\envs\\GTRay2.4.0\\lib\\site-packages\\rtgym\\envs\\real_time_env.py:376: UserWarning: Time-step timed out. Elapsed since last time-step: 0.12090770001100282\n",
      "\u001b[2m\u001b[36m(RolloutWorker pid=7532)\u001b[0m   warnings.warn(f\"Time-step timed out. Elapsed since last time-step: {now - self.__t_end}\")\n"
     ]
    },
    {
     "name": "stdout",
     "output_type": "stream",
     "text": [
      "\u001b[2m\u001b[36m(RolloutWorker pid=7532)\u001b[0m reset triggered\n",
      "\u001b[2m\u001b[36m(RolloutWorker pid=7532)\u001b[0m reload save for track : 72\n"
     ]
    },
    {
     "name": "stderr",
     "output_type": "stream",
     "text": [
      "\u001b[2m\u001b[36m(RolloutWorker pid=7532)\u001b[0m c:\\Users\\nadir\\anaconda3\\envs\\GTRay2.4.0\\lib\\site-packages\\rtgym\\envs\\real_time_env.py:376: UserWarning: Time-step timed out. Elapsed since last time-step: 0.10924680000084663\n",
      "\u001b[2m\u001b[36m(RolloutWorker pid=7532)\u001b[0m   warnings.warn(f\"Time-step timed out. Elapsed since last time-step: {now - self.__t_end}\")\n"
     ]
    },
    {
     "name": "stdout",
     "output_type": "stream",
     "text": [
      "Loop:  36\n"
     ]
    },
    {
     "name": "stderr",
     "output_type": "stream",
     "text": [
      "\u001b[2m\u001b[36m(RolloutWorker pid=7532)\u001b[0m c:\\Users\\nadir\\anaconda3\\envs\\GTRay2.4.0\\lib\\site-packages\\rtgym\\envs\\real_time_env.py:376: UserWarning: Time-step timed out. Elapsed since last time-step: 2.2071886000153427\n",
      "\u001b[2m\u001b[36m(RolloutWorker pid=7532)\u001b[0m   warnings.warn(f\"Time-step timed out. Elapsed since last time-step: {now - self.__t_end}\")\n",
      "\u001b[2m\u001b[36m(RolloutWorker pid=7532)\u001b[0m c:\\Users\\nadir\\anaconda3\\envs\\GTRay2.4.0\\lib\\site-packages\\rtgym\\envs\\real_time_env.py:376: UserWarning: Time-step timed out. Elapsed since last time-step: 0.1072244000029059\n",
      "\u001b[2m\u001b[36m(RolloutWorker pid=7532)\u001b[0m   warnings.warn(f\"Time-step timed out. Elapsed since last time-step: {now - self.__t_end}\")\n"
     ]
    },
    {
     "name": "stdout",
     "output_type": "stream",
     "text": [
      "\u001b[2m\u001b[36m(RolloutWorker pid=7532)\u001b[0m reset triggered\n",
      "\u001b[2m\u001b[36m(RolloutWorker pid=7532)\u001b[0m reload save for track : 72\n",
      "\u001b[2m\u001b[36m(RolloutWorker pid=7532)\u001b[0m reset triggered\n",
      "\u001b[2m\u001b[36m(RolloutWorker pid=7532)\u001b[0m reload save for track : 72\n"
     ]
    },
    {
     "name": "stderr",
     "output_type": "stream",
     "text": [
      "\u001b[2m\u001b[36m(RolloutWorker pid=7532)\u001b[0m c:\\Users\\nadir\\anaconda3\\envs\\GTRay2.4.0\\lib\\site-packages\\rtgym\\envs\\real_time_env.py:376: UserWarning: Time-step timed out. Elapsed since last time-step: 0.146224800019354\n",
      "\u001b[2m\u001b[36m(RolloutWorker pid=7532)\u001b[0m   warnings.warn(f\"Time-step timed out. Elapsed since last time-step: {now - self.__t_end}\")\n"
     ]
    },
    {
     "name": "stdout",
     "output_type": "stream",
     "text": [
      "Loop:  37\n"
     ]
    },
    {
     "name": "stderr",
     "output_type": "stream",
     "text": [
      "\u001b[2m\u001b[36m(RolloutWorker pid=7532)\u001b[0m c:\\Users\\nadir\\anaconda3\\envs\\GTRay2.4.0\\lib\\site-packages\\rtgym\\envs\\real_time_env.py:376: UserWarning: Time-step timed out. Elapsed since last time-step: 2.2081049000050825\n",
      "\u001b[2m\u001b[36m(RolloutWorker pid=7532)\u001b[0m   warnings.warn(f\"Time-step timed out. Elapsed since last time-step: {now - self.__t_end}\")\n"
     ]
    },
    {
     "name": "stdout",
     "output_type": "stream",
     "text": [
      "\u001b[2m\u001b[36m(RolloutWorker pid=7532)\u001b[0m reset triggered\n",
      "\u001b[2m\u001b[36m(RolloutWorker pid=7532)\u001b[0m reload save for track : 72\n"
     ]
    },
    {
     "name": "stderr",
     "output_type": "stream",
     "text": [
      "\u001b[2m\u001b[36m(RolloutWorker pid=7532)\u001b[0m c:\\Users\\nadir\\anaconda3\\envs\\GTRay2.4.0\\lib\\site-packages\\rtgym\\envs\\real_time_env.py:376: UserWarning: Time-step timed out. Elapsed since last time-step: 0.13193870001828145\n",
      "\u001b[2m\u001b[36m(RolloutWorker pid=7532)\u001b[0m   warnings.warn(f\"Time-step timed out. Elapsed since last time-step: {now - self.__t_end}\")\n"
     ]
    },
    {
     "name": "stdout",
     "output_type": "stream",
     "text": [
      "Loop:  38\n"
     ]
    },
    {
     "name": "stderr",
     "output_type": "stream",
     "text": [
      "\u001b[2m\u001b[36m(RolloutWorker pid=7532)\u001b[0m c:\\Users\\nadir\\anaconda3\\envs\\GTRay2.4.0\\lib\\site-packages\\rtgym\\envs\\real_time_env.py:376: UserWarning: Time-step timed out. Elapsed since last time-step: 1.9924416000089877\n",
      "\u001b[2m\u001b[36m(RolloutWorker pid=7532)\u001b[0m   warnings.warn(f\"Time-step timed out. Elapsed since last time-step: {now - self.__t_end}\")\n"
     ]
    },
    {
     "name": "stdout",
     "output_type": "stream",
     "text": [
      "\u001b[2m\u001b[36m(RolloutWorker pid=7532)\u001b[0m reset triggered\n",
      "\u001b[2m\u001b[36m(RolloutWorker pid=7532)\u001b[0m reload save for track : 72\n"
     ]
    },
    {
     "name": "stderr",
     "output_type": "stream",
     "text": [
      "\u001b[2m\u001b[36m(RolloutWorker pid=7532)\u001b[0m c:\\Users\\nadir\\anaconda3\\envs\\GTRay2.4.0\\lib\\site-packages\\rtgym\\envs\\real_time_env.py:376: UserWarning: Time-step timed out. Elapsed since last time-step: 0.09779340001114178\n",
      "\u001b[2m\u001b[36m(RolloutWorker pid=7532)\u001b[0m   warnings.warn(f\"Time-step timed out. Elapsed since last time-step: {now - self.__t_end}\")\n"
     ]
    },
    {
     "name": "stdout",
     "output_type": "stream",
     "text": [
      "Loop:  39\n"
     ]
    },
    {
     "name": "stderr",
     "output_type": "stream",
     "text": [
      "\u001b[2m\u001b[36m(RolloutWorker pid=7532)\u001b[0m c:\\Users\\nadir\\anaconda3\\envs\\GTRay2.4.0\\lib\\site-packages\\rtgym\\envs\\real_time_env.py:376: UserWarning: Time-step timed out. Elapsed since last time-step: 1.9706706000163194\n",
      "\u001b[2m\u001b[36m(RolloutWorker pid=7532)\u001b[0m   warnings.warn(f\"Time-step timed out. Elapsed since last time-step: {now - self.__t_end}\")\n"
     ]
    },
    {
     "name": "stdout",
     "output_type": "stream",
     "text": [
      "\u001b[2m\u001b[36m(RolloutWorker pid=7532)\u001b[0m reset triggered\n",
      "\u001b[2m\u001b[36m(RolloutWorker pid=7532)\u001b[0m reload save for track : 72\n"
     ]
    },
    {
     "name": "stderr",
     "output_type": "stream",
     "text": [
      "\u001b[2m\u001b[36m(RolloutWorker pid=7532)\u001b[0m c:\\Users\\nadir\\anaconda3\\envs\\GTRay2.4.0\\lib\\site-packages\\rtgym\\envs\\real_time_env.py:376: UserWarning: Time-step timed out. Elapsed since last time-step: 0.10926380000364588\n",
      "\u001b[2m\u001b[36m(RolloutWorker pid=7532)\u001b[0m   warnings.warn(f\"Time-step timed out. Elapsed since last time-step: {now - self.__t_end}\")\n"
     ]
    },
    {
     "name": "stdout",
     "output_type": "stream",
     "text": [
      "\u001b[2m\u001b[36m(RolloutWorker pid=7532)\u001b[0m reset triggered\n",
      "\u001b[2m\u001b[36m(RolloutWorker pid=7532)\u001b[0m reload save for track : 72\n"
     ]
    },
    {
     "name": "stderr",
     "output_type": "stream",
     "text": [
      "\u001b[2m\u001b[36m(RolloutWorker pid=7532)\u001b[0m c:\\Users\\nadir\\anaconda3\\envs\\GTRay2.4.0\\lib\\site-packages\\rtgym\\envs\\real_time_env.py:376: UserWarning: Time-step timed out. Elapsed since last time-step: 0.146322500015458\n",
      "\u001b[2m\u001b[36m(RolloutWorker pid=7532)\u001b[0m   warnings.warn(f\"Time-step timed out. Elapsed since last time-step: {now - self.__t_end}\")\n"
     ]
    },
    {
     "name": "stdout",
     "output_type": "stream",
     "text": [
      "Loop:  40\n",
      "Saved 40\n"
     ]
    },
    {
     "name": "stderr",
     "output_type": "stream",
     "text": [
      "\u001b[2m\u001b[36m(RolloutWorker pid=7532)\u001b[0m c:\\Users\\nadir\\anaconda3\\envs\\GTRay2.4.0\\lib\\site-packages\\rtgym\\envs\\real_time_env.py:376: UserWarning: Time-step timed out. Elapsed since last time-step: 2.1583113000081084\n",
      "\u001b[2m\u001b[36m(RolloutWorker pid=7532)\u001b[0m   warnings.warn(f\"Time-step timed out. Elapsed since last time-step: {now - self.__t_end}\")\n"
     ]
    },
    {
     "name": "stdout",
     "output_type": "stream",
     "text": [
      "\u001b[2m\u001b[36m(RolloutWorker pid=7532)\u001b[0m reset triggered\n",
      "\u001b[2m\u001b[36m(RolloutWorker pid=7532)\u001b[0m reload save for track : 72\n"
     ]
    },
    {
     "name": "stderr",
     "output_type": "stream",
     "text": [
      "\u001b[2m\u001b[36m(RolloutWorker pid=7532)\u001b[0m c:\\Users\\nadir\\anaconda3\\envs\\GTRay2.4.0\\lib\\site-packages\\rtgym\\envs\\real_time_env.py:376: UserWarning: Time-step timed out. Elapsed since last time-step: 0.1351891000088017\n",
      "\u001b[2m\u001b[36m(RolloutWorker pid=7532)\u001b[0m   warnings.warn(f\"Time-step timed out. Elapsed since last time-step: {now - self.__t_end}\")\n"
     ]
    },
    {
     "name": "stdout",
     "output_type": "stream",
     "text": [
      "Loop:  41\n"
     ]
    },
    {
     "name": "stderr",
     "output_type": "stream",
     "text": [
      "\u001b[2m\u001b[36m(RolloutWorker pid=7532)\u001b[0m c:\\Users\\nadir\\anaconda3\\envs\\GTRay2.4.0\\lib\\site-packages\\rtgym\\envs\\real_time_env.py:376: UserWarning: Time-step timed out. Elapsed since last time-step: 2.109626600018373\n",
      "\u001b[2m\u001b[36m(RolloutWorker pid=7532)\u001b[0m   warnings.warn(f\"Time-step timed out. Elapsed since last time-step: {now - self.__t_end}\")\n"
     ]
    },
    {
     "name": "stdout",
     "output_type": "stream",
     "text": [
      "\u001b[2m\u001b[36m(RolloutWorker pid=7532)\u001b[0m reset triggered\n",
      "\u001b[2m\u001b[36m(RolloutWorker pid=7532)\u001b[0m reload save for track : 72\n"
     ]
    },
    {
     "name": "stderr",
     "output_type": "stream",
     "text": [
      "\u001b[2m\u001b[36m(RolloutWorker pid=7532)\u001b[0m c:\\Users\\nadir\\anaconda3\\envs\\GTRay2.4.0\\lib\\site-packages\\rtgym\\envs\\real_time_env.py:376: UserWarning: Time-step timed out. Elapsed since last time-step: 0.10692250000556669\n",
      "\u001b[2m\u001b[36m(RolloutWorker pid=7532)\u001b[0m   warnings.warn(f\"Time-step timed out. Elapsed since last time-step: {now - self.__t_end}\")\n",
      "\u001b[2m\u001b[36m(RolloutWorker pid=7532)\u001b[0m c:\\Users\\nadir\\anaconda3\\envs\\GTRay2.4.0\\lib\\site-packages\\rtgym\\envs\\real_time_env.py:376: UserWarning: Time-step timed out. Elapsed since last time-step: 0.05960060002166756\n",
      "\u001b[2m\u001b[36m(RolloutWorker pid=7532)\u001b[0m   warnings.warn(f\"Time-step timed out. Elapsed since last time-step: {now - self.__t_end}\")\n"
     ]
    },
    {
     "name": "stdout",
     "output_type": "stream",
     "text": [
      "Loop:  42\n"
     ]
    },
    {
     "name": "stderr",
     "output_type": "stream",
     "text": [
      "\u001b[2m\u001b[36m(RolloutWorker pid=7532)\u001b[0m c:\\Users\\nadir\\anaconda3\\envs\\GTRay2.4.0\\lib\\site-packages\\rtgym\\envs\\real_time_env.py:376: UserWarning: Time-step timed out. Elapsed since last time-step: 2.0381517000000713\n",
      "\u001b[2m\u001b[36m(RolloutWorker pid=7532)\u001b[0m   warnings.warn(f\"Time-step timed out. Elapsed since last time-step: {now - self.__t_end}\")\n"
     ]
    },
    {
     "name": "stdout",
     "output_type": "stream",
     "text": [
      "\u001b[2m\u001b[36m(RolloutWorker pid=7532)\u001b[0m reset triggered\n",
      "\u001b[2m\u001b[36m(RolloutWorker pid=7532)\u001b[0m reload save for track : 72\n"
     ]
    },
    {
     "name": "stderr",
     "output_type": "stream",
     "text": [
      "\u001b[2m\u001b[36m(RolloutWorker pid=7532)\u001b[0m c:\\Users\\nadir\\anaconda3\\envs\\GTRay2.4.0\\lib\\site-packages\\rtgym\\envs\\real_time_env.py:376: UserWarning: Time-step timed out. Elapsed since last time-step: 0.116030100005446\n",
      "\u001b[2m\u001b[36m(RolloutWorker pid=7532)\u001b[0m   warnings.warn(f\"Time-step timed out. Elapsed since last time-step: {now - self.__t_end}\")\n",
      "\u001b[2m\u001b[36m(RolloutWorker pid=7532)\u001b[0m c:\\Users\\nadir\\anaconda3\\envs\\GTRay2.4.0\\lib\\site-packages\\rtgym\\envs\\real_time_env.py:376: UserWarning: Time-step timed out. Elapsed since last time-step: 0.05854210002189575\n",
      "\u001b[2m\u001b[36m(RolloutWorker pid=7532)\u001b[0m   warnings.warn(f\"Time-step timed out. Elapsed since last time-step: {now - self.__t_end}\")\n"
     ]
    },
    {
     "name": "stdout",
     "output_type": "stream",
     "text": [
      "Loop:  43\n"
     ]
    },
    {
     "name": "stderr",
     "output_type": "stream",
     "text": [
      "\u001b[2m\u001b[36m(RolloutWorker pid=7532)\u001b[0m c:\\Users\\nadir\\anaconda3\\envs\\GTRay2.4.0\\lib\\site-packages\\rtgym\\envs\\real_time_env.py:376: UserWarning: Time-step timed out. Elapsed since last time-step: 2.0043135000000802\n",
      "\u001b[2m\u001b[36m(RolloutWorker pid=7532)\u001b[0m   warnings.warn(f\"Time-step timed out. Elapsed since last time-step: {now - self.__t_end}\")\n"
     ]
    },
    {
     "name": "stdout",
     "output_type": "stream",
     "text": [
      "\u001b[2m\u001b[36m(RolloutWorker pid=7532)\u001b[0m reset triggered\n",
      "\u001b[2m\u001b[36m(RolloutWorker pid=7532)\u001b[0m reload save for track : 72\n"
     ]
    },
    {
     "name": "stderr",
     "output_type": "stream",
     "text": [
      "\u001b[2m\u001b[36m(RolloutWorker pid=7532)\u001b[0m c:\\Users\\nadir\\anaconda3\\envs\\GTRay2.4.0\\lib\\site-packages\\rtgym\\envs\\real_time_env.py:376: UserWarning: Time-step timed out. Elapsed since last time-step: 0.13739150000537848\n",
      "\u001b[2m\u001b[36m(RolloutWorker pid=7532)\u001b[0m   warnings.warn(f\"Time-step timed out. Elapsed since last time-step: {now - self.__t_end}\")\n",
      "\u001b[2m\u001b[36m(RolloutWorker pid=7532)\u001b[0m c:\\Users\\nadir\\anaconda3\\envs\\GTRay2.4.0\\lib\\site-packages\\rtgym\\envs\\real_time_env.py:376: UserWarning: Time-step timed out. Elapsed since last time-step: 0.06619930002170804\n",
      "\u001b[2m\u001b[36m(RolloutWorker pid=7532)\u001b[0m   warnings.warn(f\"Time-step timed out. Elapsed since last time-step: {now - self.__t_end}\")\n"
     ]
    },
    {
     "name": "stdout",
     "output_type": "stream",
     "text": [
      "Loop:  44\n"
     ]
    },
    {
     "name": "stderr",
     "output_type": "stream",
     "text": [
      "\u001b[2m\u001b[36m(RolloutWorker pid=7532)\u001b[0m c:\\Users\\nadir\\anaconda3\\envs\\GTRay2.4.0\\lib\\site-packages\\rtgym\\envs\\real_time_env.py:376: UserWarning: Time-step timed out. Elapsed since last time-step: 2.014395800000102\n",
      "\u001b[2m\u001b[36m(RolloutWorker pid=7532)\u001b[0m   warnings.warn(f\"Time-step timed out. Elapsed since last time-step: {now - self.__t_end}\")\n",
      "\u001b[2m\u001b[36m(RolloutWorker pid=7532)\u001b[0m c:\\Users\\nadir\\anaconda3\\envs\\GTRay2.4.0\\lib\\site-packages\\rtgym\\envs\\real_time_env.py:376: UserWarning: Time-step timed out. Elapsed since last time-step: 0.08925780000549821\n",
      "\u001b[2m\u001b[36m(RolloutWorker pid=7532)\u001b[0m   warnings.warn(f\"Time-step timed out. Elapsed since last time-step: {now - self.__t_end}\")\n"
     ]
    },
    {
     "name": "stdout",
     "output_type": "stream",
     "text": [
      "\u001b[2m\u001b[36m(RolloutWorker pid=7532)\u001b[0m reset triggered\n",
      "\u001b[2m\u001b[36m(RolloutWorker pid=7532)\u001b[0m reload save for track : 72\n"
     ]
    },
    {
     "name": "stderr",
     "output_type": "stream",
     "text": [
      "\u001b[2m\u001b[36m(RolloutWorker pid=7532)\u001b[0m c:\\Users\\nadir\\anaconda3\\envs\\GTRay2.4.0\\lib\\site-packages\\rtgym\\envs\\real_time_env.py:376: UserWarning: Time-step timed out. Elapsed since last time-step: 0.05699890002165375\n",
      "\u001b[2m\u001b[36m(RolloutWorker pid=7532)\u001b[0m   warnings.warn(f\"Time-step timed out. Elapsed since last time-step: {now - self.__t_end}\")\n"
     ]
    },
    {
     "name": "stdout",
     "output_type": "stream",
     "text": [
      "Loop:  45\n"
     ]
    },
    {
     "name": "stderr",
     "output_type": "stream",
     "text": [
      "\u001b[2m\u001b[36m(RolloutWorker pid=7532)\u001b[0m c:\\Users\\nadir\\anaconda3\\envs\\GTRay2.4.0\\lib\\site-packages\\rtgym\\envs\\real_time_env.py:376: UserWarning: Time-step timed out. Elapsed since last time-step: 2.0796968000001925\n",
      "\u001b[2m\u001b[36m(RolloutWorker pid=7532)\u001b[0m   warnings.warn(f\"Time-step timed out. Elapsed since last time-step: {now - self.__t_end}\")\n"
     ]
    },
    {
     "name": "stdout",
     "output_type": "stream",
     "text": [
      "\u001b[2m\u001b[36m(RolloutWorker pid=7532)\u001b[0m reset triggered\n",
      "\u001b[2m\u001b[36m(RolloutWorker pid=7532)\u001b[0m reload save for track : 72\n"
     ]
    },
    {
     "name": "stderr",
     "output_type": "stream",
     "text": [
      "\u001b[2m\u001b[36m(RolloutWorker pid=7532)\u001b[0m c:\\Users\\nadir\\anaconda3\\envs\\GTRay2.4.0\\lib\\site-packages\\rtgym\\envs\\real_time_env.py:376: UserWarning: Time-step timed out. Elapsed since last time-step: 0.1434518000053231\n",
      "\u001b[2m\u001b[36m(RolloutWorker pid=7532)\u001b[0m   warnings.warn(f\"Time-step timed out. Elapsed since last time-step: {now - self.__t_end}\")\n",
      "\u001b[2m\u001b[36m(RolloutWorker pid=7532)\u001b[0m c:\\Users\\nadir\\anaconda3\\envs\\GTRay2.4.0\\lib\\site-packages\\rtgym\\envs\\real_time_env.py:376: UserWarning: Time-step timed out. Elapsed since last time-step: 0.07573500002195033\n",
      "\u001b[2m\u001b[36m(RolloutWorker pid=7532)\u001b[0m   warnings.warn(f\"Time-step timed out. Elapsed since last time-step: {now - self.__t_end}\")\n"
     ]
    },
    {
     "name": "stdout",
     "output_type": "stream",
     "text": [
      "Loop:  46\n"
     ]
    },
    {
     "name": "stderr",
     "output_type": "stream",
     "text": [
      "\u001b[2m\u001b[36m(RolloutWorker pid=7532)\u001b[0m c:\\Users\\nadir\\anaconda3\\envs\\GTRay2.4.0\\lib\\site-packages\\rtgym\\envs\\real_time_env.py:376: UserWarning: Time-step timed out. Elapsed since last time-step: 2.1680357999998705\n",
      "\u001b[2m\u001b[36m(RolloutWorker pid=7532)\u001b[0m   warnings.warn(f\"Time-step timed out. Elapsed since last time-step: {now - self.__t_end}\")\n"
     ]
    },
    {
     "name": "stdout",
     "output_type": "stream",
     "text": [
      "\u001b[2m\u001b[36m(RolloutWorker pid=7532)\u001b[0m reset triggered\n",
      "\u001b[2m\u001b[36m(RolloutWorker pid=7532)\u001b[0m reload save for track : 72\n"
     ]
    },
    {
     "name": "stderr",
     "output_type": "stream",
     "text": [
      "\u001b[2m\u001b[36m(RolloutWorker pid=7532)\u001b[0m c:\\Users\\nadir\\anaconda3\\envs\\GTRay2.4.0\\lib\\site-packages\\rtgym\\envs\\real_time_env.py:376: UserWarning: Time-step timed out. Elapsed since last time-step: 0.10649370000555791\n",
      "\u001b[2m\u001b[36m(RolloutWorker pid=7532)\u001b[0m   warnings.warn(f\"Time-step timed out. Elapsed since last time-step: {now - self.__t_end}\")\n"
     ]
    },
    {
     "name": "stdout",
     "output_type": "stream",
     "text": [
      "\u001b[2m\u001b[36m(RolloutWorker pid=7532)\u001b[0m reset triggered\n",
      "\u001b[2m\u001b[36m(RolloutWorker pid=7532)\u001b[0m reload save for track : 72\n"
     ]
    },
    {
     "name": "stderr",
     "output_type": "stream",
     "text": [
      "\u001b[2m\u001b[36m(RolloutWorker pid=7532)\u001b[0m c:\\Users\\nadir\\anaconda3\\envs\\GTRay2.4.0\\lib\\site-packages\\rtgym\\envs\\real_time_env.py:376: UserWarning: Time-step timed out. Elapsed since last time-step: 0.14607640001713662\n",
      "\u001b[2m\u001b[36m(RolloutWorker pid=7532)\u001b[0m   warnings.warn(f\"Time-step timed out. Elapsed since last time-step: {now - self.__t_end}\")\n"
     ]
    },
    {
     "name": "stdout",
     "output_type": "stream",
     "text": [
      "Loop:  47\n"
     ]
    },
    {
     "name": "stderr",
     "output_type": "stream",
     "text": [
      "\u001b[2m\u001b[36m(RolloutWorker pid=7532)\u001b[0m c:\\Users\\nadir\\anaconda3\\envs\\GTRay2.4.0\\lib\\site-packages\\rtgym\\envs\\real_time_env.py:376: UserWarning: Time-step timed out. Elapsed since last time-step: 2.064908600004628\n",
      "\u001b[2m\u001b[36m(RolloutWorker pid=7532)\u001b[0m   warnings.warn(f\"Time-step timed out. Elapsed since last time-step: {now - self.__t_end}\")\n"
     ]
    },
    {
     "name": "stdout",
     "output_type": "stream",
     "text": [
      "\u001b[2m\u001b[36m(RolloutWorker pid=7532)\u001b[0m reset triggered\n",
      "\u001b[2m\u001b[36m(RolloutWorker pid=7532)\u001b[0m reload save for track : 72\n"
     ]
    },
    {
     "name": "stderr",
     "output_type": "stream",
     "text": [
      "\u001b[2m\u001b[36m(RolloutWorker pid=7532)\u001b[0m c:\\Users\\nadir\\anaconda3\\envs\\GTRay2.4.0\\lib\\site-packages\\rtgym\\envs\\real_time_env.py:376: UserWarning: Time-step timed out. Elapsed since last time-step: 0.13936570000987558\n",
      "\u001b[2m\u001b[36m(RolloutWorker pid=7532)\u001b[0m   warnings.warn(f\"Time-step timed out. Elapsed since last time-step: {now - self.__t_end}\")\n"
     ]
    },
    {
     "name": "stdout",
     "output_type": "stream",
     "text": [
      "Loop:  48\n"
     ]
    },
    {
     "name": "stderr",
     "output_type": "stream",
     "text": [
      "\u001b[2m\u001b[36m(RolloutWorker pid=7532)\u001b[0m c:\\Users\\nadir\\anaconda3\\envs\\GTRay2.4.0\\lib\\site-packages\\rtgym\\envs\\real_time_env.py:376: UserWarning: Time-step timed out. Elapsed since last time-step: 2.086105800017549\n",
      "\u001b[2m\u001b[36m(RolloutWorker pid=7532)\u001b[0m   warnings.warn(f\"Time-step timed out. Elapsed since last time-step: {now - self.__t_end}\")\n"
     ]
    },
    {
     "name": "stdout",
     "output_type": "stream",
     "text": [
      "\u001b[2m\u001b[36m(RolloutWorker pid=7532)\u001b[0m reset triggered\n",
      "\u001b[2m\u001b[36m(RolloutWorker pid=7532)\u001b[0m reload save for track : 72\n"
     ]
    },
    {
     "name": "stderr",
     "output_type": "stream",
     "text": [
      "\u001b[2m\u001b[36m(RolloutWorker pid=7532)\u001b[0m c:\\Users\\nadir\\anaconda3\\envs\\GTRay2.4.0\\lib\\site-packages\\rtgym\\envs\\real_time_env.py:376: UserWarning: Time-step timed out. Elapsed since last time-step: 0.11351220000165085\n",
      "\u001b[2m\u001b[36m(RolloutWorker pid=7532)\u001b[0m   warnings.warn(f\"Time-step timed out. Elapsed since last time-step: {now - self.__t_end}\")\n",
      "\u001b[2m\u001b[36m(RolloutWorker pid=7532)\u001b[0m c:\\Users\\nadir\\anaconda3\\envs\\GTRay2.4.0\\lib\\site-packages\\rtgym\\envs\\real_time_env.py:376: UserWarning: Time-step timed out. Elapsed since last time-step: 0.07547960002557375\n",
      "\u001b[2m\u001b[36m(RolloutWorker pid=7532)\u001b[0m   warnings.warn(f\"Time-step timed out. Elapsed since last time-step: {now - self.__t_end}\")\n"
     ]
    },
    {
     "name": "stdout",
     "output_type": "stream",
     "text": [
      "Loop:  49\n"
     ]
    },
    {
     "name": "stderr",
     "output_type": "stream",
     "text": [
      "\u001b[2m\u001b[36m(RolloutWorker pid=7532)\u001b[0m c:\\Users\\nadir\\anaconda3\\envs\\GTRay2.4.0\\lib\\site-packages\\rtgym\\envs\\real_time_env.py:376: UserWarning: Time-step timed out. Elapsed since last time-step: 1.966986899999938\n",
      "\u001b[2m\u001b[36m(RolloutWorker pid=7532)\u001b[0m   warnings.warn(f\"Time-step timed out. Elapsed since last time-step: {now - self.__t_end}\")\n"
     ]
    },
    {
     "name": "stdout",
     "output_type": "stream",
     "text": [
      "\u001b[2m\u001b[36m(RolloutWorker pid=7532)\u001b[0m reset triggered\n",
      "\u001b[2m\u001b[36m(RolloutWorker pid=7532)\u001b[0m reload save for track : 72\n"
     ]
    },
    {
     "name": "stderr",
     "output_type": "stream",
     "text": [
      "\u001b[2m\u001b[36m(RolloutWorker pid=7532)\u001b[0m c:\\Users\\nadir\\anaconda3\\envs\\GTRay2.4.0\\lib\\site-packages\\rtgym\\envs\\real_time_env.py:376: UserWarning: Time-step timed out. Elapsed since last time-step: 0.12735750000183543\n",
      "\u001b[2m\u001b[36m(RolloutWorker pid=7532)\u001b[0m   warnings.warn(f\"Time-step timed out. Elapsed since last time-step: {now - self.__t_end}\")\n",
      "\u001b[2m\u001b[36m(RolloutWorker pid=7532)\u001b[0m c:\\Users\\nadir\\anaconda3\\envs\\GTRay2.4.0\\lib\\site-packages\\rtgym\\envs\\real_time_env.py:376: UserWarning: Time-step timed out. Elapsed since last time-step: 0.1700960000212035\n",
      "\u001b[2m\u001b[36m(RolloutWorker pid=7532)\u001b[0m   warnings.warn(f\"Time-step timed out. Elapsed since last time-step: {now - self.__t_end}\")\n"
     ]
    },
    {
     "name": "stdout",
     "output_type": "stream",
     "text": [
      "\u001b[2m\u001b[36m(RolloutWorker pid=7532)\u001b[0m reset triggered\n",
      "\u001b[2m\u001b[36m(RolloutWorker pid=7532)\u001b[0m reload save for track : 72\n",
      "Loop:  50\n",
      "Saved 50\n"
     ]
    },
    {
     "name": "stderr",
     "output_type": "stream",
     "text": [
      "\u001b[2m\u001b[36m(RolloutWorker pid=7532)\u001b[0m c:\\Users\\nadir\\anaconda3\\envs\\GTRay2.4.0\\lib\\site-packages\\rtgym\\envs\\real_time_env.py:376: UserWarning: Time-step timed out. Elapsed since last time-step: 2.1969308000043384\n",
      "\u001b[2m\u001b[36m(RolloutWorker pid=7532)\u001b[0m   warnings.warn(f\"Time-step timed out. Elapsed since last time-step: {now - self.__t_end}\")\n"
     ]
    },
    {
     "name": "stdout",
     "output_type": "stream",
     "text": [
      "\u001b[2m\u001b[36m(RolloutWorker pid=7532)\u001b[0m reset triggered\n",
      "\u001b[2m\u001b[36m(RolloutWorker pid=7532)\u001b[0m reload save for track : 72\n"
     ]
    },
    {
     "name": "stderr",
     "output_type": "stream",
     "text": [
      "\u001b[2m\u001b[36m(RolloutWorker pid=7532)\u001b[0m c:\\Users\\nadir\\anaconda3\\envs\\GTRay2.4.0\\lib\\site-packages\\rtgym\\envs\\real_time_env.py:376: UserWarning: Time-step timed out. Elapsed since last time-step: 0.13209540001071218\n",
      "\u001b[2m\u001b[36m(RolloutWorker pid=7532)\u001b[0m   warnings.warn(f\"Time-step timed out. Elapsed since last time-step: {now - self.__t_end}\")\n",
      "\u001b[2m\u001b[36m(RolloutWorker pid=7532)\u001b[0m c:\\Users\\nadir\\anaconda3\\envs\\GTRay2.4.0\\lib\\site-packages\\rtgym\\envs\\real_time_env.py:376: UserWarning: Time-step timed out. Elapsed since last time-step: 0.05574970001657675\n",
      "\u001b[2m\u001b[36m(RolloutWorker pid=7532)\u001b[0m   warnings.warn(f\"Time-step timed out. Elapsed since last time-step: {now - self.__t_end}\")\n"
     ]
    },
    {
     "name": "stdout",
     "output_type": "stream",
     "text": [
      "Loop:  51\n"
     ]
    },
    {
     "name": "stderr",
     "output_type": "stream",
     "text": [
      "\u001b[2m\u001b[36m(RolloutWorker pid=7532)\u001b[0m c:\\Users\\nadir\\anaconda3\\envs\\GTRay2.4.0\\lib\\site-packages\\rtgym\\envs\\real_time_env.py:376: UserWarning: Time-step timed out. Elapsed since last time-step: 2.2157210000000305\n",
      "\u001b[2m\u001b[36m(RolloutWorker pid=7532)\u001b[0m   warnings.warn(f\"Time-step timed out. Elapsed since last time-step: {now - self.__t_end}\")\n"
     ]
    },
    {
     "name": "stdout",
     "output_type": "stream",
     "text": [
      "\u001b[2m\u001b[36m(RolloutWorker pid=7532)\u001b[0m reset triggered\n",
      "\u001b[2m\u001b[36m(RolloutWorker pid=7532)\u001b[0m reload save for track : 72\n"
     ]
    },
    {
     "name": "stderr",
     "output_type": "stream",
     "text": [
      "\u001b[2m\u001b[36m(RolloutWorker pid=7532)\u001b[0m c:\\Users\\nadir\\anaconda3\\envs\\GTRay2.4.0\\lib\\site-packages\\rtgym\\envs\\real_time_env.py:376: UserWarning: Time-step timed out. Elapsed since last time-step: 0.11949310001068625\n",
      "\u001b[2m\u001b[36m(RolloutWorker pid=7532)\u001b[0m   warnings.warn(f\"Time-step timed out. Elapsed since last time-step: {now - self.__t_end}\")\n"
     ]
    },
    {
     "name": "stdout",
     "output_type": "stream",
     "text": [
      "Loop:  52\n"
     ]
    },
    {
     "name": "stderr",
     "output_type": "stream",
     "text": [
      "\u001b[2m\u001b[36m(RolloutWorker pid=7532)\u001b[0m c:\\Users\\nadir\\anaconda3\\envs\\GTRay2.4.0\\lib\\site-packages\\rtgym\\envs\\real_time_env.py:376: UserWarning: Time-step timed out. Elapsed since last time-step: 2.1344611000165514\n",
      "\u001b[2m\u001b[36m(RolloutWorker pid=7532)\u001b[0m   warnings.warn(f\"Time-step timed out. Elapsed since last time-step: {now - self.__t_end}\")\n",
      "\u001b[2m\u001b[36m(RolloutWorker pid=7532)\u001b[0m c:\\Users\\nadir\\anaconda3\\envs\\GTRay2.4.0\\lib\\site-packages\\rtgym\\envs\\real_time_env.py:376: UserWarning: Time-step timed out. Elapsed since last time-step: 0.08644880000497324\n",
      "\u001b[2m\u001b[36m(RolloutWorker pid=7532)\u001b[0m   warnings.warn(f\"Time-step timed out. Elapsed since last time-step: {now - self.__t_end}\")\n"
     ]
    },
    {
     "name": "stdout",
     "output_type": "stream",
     "text": [
      "\u001b[2m\u001b[36m(RolloutWorker pid=7532)\u001b[0m reset triggered\n",
      "\u001b[2m\u001b[36m(RolloutWorker pid=7532)\u001b[0m reload save for track : 72\n",
      "\u001b[2m\u001b[36m(RolloutWorker pid=7532)\u001b[0m reset triggered\n",
      "\u001b[2m\u001b[36m(RolloutWorker pid=7532)\u001b[0m reload save for track : 72\n"
     ]
    },
    {
     "name": "stderr",
     "output_type": "stream",
     "text": [
      "\u001b[2m\u001b[36m(RolloutWorker pid=7532)\u001b[0m c:\\Users\\nadir\\anaconda3\\envs\\GTRay2.4.0\\lib\\site-packages\\rtgym\\envs\\real_time_env.py:376: UserWarning: Time-step timed out. Elapsed since last time-step: 0.1978524000185189\n",
      "\u001b[2m\u001b[36m(RolloutWorker pid=7532)\u001b[0m   warnings.warn(f\"Time-step timed out. Elapsed since last time-step: {now - self.__t_end}\")\n"
     ]
    },
    {
     "name": "stdout",
     "output_type": "stream",
     "text": [
      "Loop:  53\n"
     ]
    },
    {
     "name": "stderr",
     "output_type": "stream",
     "text": [
      "\u001b[2m\u001b[36m(RolloutWorker pid=7532)\u001b[0m c:\\Users\\nadir\\anaconda3\\envs\\GTRay2.4.0\\lib\\site-packages\\rtgym\\envs\\real_time_env.py:376: UserWarning: Time-step timed out. Elapsed since last time-step: 2.1577804000037304\n",
      "\u001b[2m\u001b[36m(RolloutWorker pid=7532)\u001b[0m   warnings.warn(f\"Time-step timed out. Elapsed since last time-step: {now - self.__t_end}\")\n",
      "\u001b[2m\u001b[36m(RolloutWorker pid=7532)\u001b[0m c:\\Users\\nadir\\anaconda3\\envs\\GTRay2.4.0\\lib\\site-packages\\rtgym\\envs\\real_time_env.py:376: UserWarning: Time-step timed out. Elapsed since last time-step: 0.15372780002348918\n",
      "\u001b[2m\u001b[36m(RolloutWorker pid=7532)\u001b[0m   warnings.warn(f\"Time-step timed out. Elapsed since last time-step: {now - self.__t_end}\")\n"
     ]
    },
    {
     "name": "stdout",
     "output_type": "stream",
     "text": [
      "\u001b[2m\u001b[36m(RolloutWorker pid=7532)\u001b[0m reset triggered\n",
      "\u001b[2m\u001b[36m(RolloutWorker pid=7532)\u001b[0m reload save for track : 72\n",
      "Loop:  54\n"
     ]
    },
    {
     "name": "stderr",
     "output_type": "stream",
     "text": [
      "\u001b[2m\u001b[36m(RolloutWorker pid=7532)\u001b[0m c:\\Users\\nadir\\anaconda3\\envs\\GTRay2.4.0\\lib\\site-packages\\rtgym\\envs\\real_time_env.py:376: UserWarning: Time-step timed out. Elapsed since last time-step: 2.2614270000037777\n",
      "\u001b[2m\u001b[36m(RolloutWorker pid=7532)\u001b[0m   warnings.warn(f\"Time-step timed out. Elapsed since last time-step: {now - self.__t_end}\")\n",
      "\u001b[2m\u001b[36m(RolloutWorker pid=7532)\u001b[0m c:\\Users\\nadir\\anaconda3\\envs\\GTRay2.4.0\\lib\\site-packages\\rtgym\\envs\\real_time_env.py:376: UserWarning: Time-step timed out. Elapsed since last time-step: 0.1748669000235168\n",
      "\u001b[2m\u001b[36m(RolloutWorker pid=7532)\u001b[0m   warnings.warn(f\"Time-step timed out. Elapsed since last time-step: {now - self.__t_end}\")\n"
     ]
    },
    {
     "name": "stdout",
     "output_type": "stream",
     "text": [
      "\u001b[2m\u001b[36m(RolloutWorker pid=7532)\u001b[0m reset triggered\n",
      "\u001b[2m\u001b[36m(RolloutWorker pid=7532)\u001b[0m reload save for track : 72\n",
      "Loop:  55\n"
     ]
    },
    {
     "name": "stderr",
     "output_type": "stream",
     "text": [
      "\u001b[2m\u001b[36m(RolloutWorker pid=7532)\u001b[0m c:\\Users\\nadir\\anaconda3\\envs\\GTRay2.4.0\\lib\\site-packages\\rtgym\\envs\\real_time_env.py:376: UserWarning: Time-step timed out. Elapsed since last time-step: 2.005425900003729\n",
      "\u001b[2m\u001b[36m(RolloutWorker pid=7532)\u001b[0m   warnings.warn(f\"Time-step timed out. Elapsed since last time-step: {now - self.__t_end}\")\n"
     ]
    },
    {
     "name": "stdout",
     "output_type": "stream",
     "text": [
      "\u001b[2m\u001b[36m(RolloutWorker pid=7532)\u001b[0m reset triggered\n",
      "\u001b[2m\u001b[36m(RolloutWorker pid=7532)\u001b[0m reload save for track : 72\n"
     ]
    },
    {
     "name": "stderr",
     "output_type": "stream",
     "text": [
      "\u001b[2m\u001b[36m(RolloutWorker pid=7532)\u001b[0m c:\\Users\\nadir\\anaconda3\\envs\\GTRay2.4.0\\lib\\site-packages\\rtgym\\envs\\real_time_env.py:376: UserWarning: Time-step timed out. Elapsed since last time-step: 0.18822670002350606\n",
      "\u001b[2m\u001b[36m(RolloutWorker pid=7532)\u001b[0m   warnings.warn(f\"Time-step timed out. Elapsed since last time-step: {now - self.__t_end}\")\n"
     ]
    },
    {
     "name": "stdout",
     "output_type": "stream",
     "text": [
      "Loop:  56\n"
     ]
    },
    {
     "name": "stderr",
     "output_type": "stream",
     "text": [
      "\u001b[2m\u001b[36m(RolloutWorker pid=7532)\u001b[0m c:\\Users\\nadir\\anaconda3\\envs\\GTRay2.4.0\\lib\\site-packages\\rtgym\\envs\\real_time_env.py:376: UserWarning: Time-step timed out. Elapsed since last time-step: 2.156705500003909\n",
      "\u001b[2m\u001b[36m(RolloutWorker pid=7532)\u001b[0m   warnings.warn(f\"Time-step timed out. Elapsed since last time-step: {now - self.__t_end}\")\n",
      "\u001b[2m\u001b[36m(RolloutWorker pid=7532)\u001b[0m c:\\Users\\nadir\\anaconda3\\envs\\GTRay2.4.0\\lib\\site-packages\\rtgym\\envs\\real_time_env.py:376: UserWarning: Time-step timed out. Elapsed since last time-step: 0.07409200001643512\n",
      "\u001b[2m\u001b[36m(RolloutWorker pid=7532)\u001b[0m   warnings.warn(f\"Time-step timed out. Elapsed since last time-step: {now - self.__t_end}\")\n",
      "\u001b[2m\u001b[36m(RolloutWorker pid=7532)\u001b[0m c:\\Users\\nadir\\anaconda3\\envs\\GTRay2.4.0\\lib\\site-packages\\rtgym\\envs\\real_time_env.py:376: UserWarning: Time-step timed out. Elapsed since last time-step: 0.1491939000070488\n",
      "\u001b[2m\u001b[36m(RolloutWorker pid=7532)\u001b[0m   warnings.warn(f\"Time-step timed out. Elapsed since last time-step: {now - self.__t_end}\")\n"
     ]
    },
    {
     "name": "stdout",
     "output_type": "stream",
     "text": [
      "\u001b[2m\u001b[36m(RolloutWorker pid=7532)\u001b[0m reset triggered\n",
      "\u001b[2m\u001b[36m(RolloutWorker pid=7532)\u001b[0m reload save for track : 72\n",
      "Loop:  57\n"
     ]
    },
    {
     "name": "stderr",
     "output_type": "stream",
     "text": [
      "\u001b[2m\u001b[36m(RolloutWorker pid=7532)\u001b[0m c:\\Users\\nadir\\anaconda3\\envs\\GTRay2.4.0\\lib\\site-packages\\rtgym\\envs\\real_time_env.py:376: UserWarning: Time-step timed out. Elapsed since last time-step: 1.9338591000037013\n",
      "\u001b[2m\u001b[36m(RolloutWorker pid=7532)\u001b[0m   warnings.warn(f\"Time-step timed out. Elapsed since last time-step: {now - self.__t_end}\")\n"
     ]
    },
    {
     "name": "stdout",
     "output_type": "stream",
     "text": [
      "\u001b[2m\u001b[36m(RolloutWorker pid=7532)\u001b[0m reset triggered\n",
      "\u001b[2m\u001b[36m(RolloutWorker pid=7532)\u001b[0m reload save for track : 72\n"
     ]
    },
    {
     "name": "stderr",
     "output_type": "stream",
     "text": [
      "\u001b[2m\u001b[36m(RolloutWorker pid=7532)\u001b[0m c:\\Users\\nadir\\anaconda3\\envs\\GTRay2.4.0\\lib\\site-packages\\rtgym\\envs\\real_time_env.py:376: UserWarning: Time-step timed out. Elapsed since last time-step: 0.149101600023414\n",
      "\u001b[2m\u001b[36m(RolloutWorker pid=7532)\u001b[0m   warnings.warn(f\"Time-step timed out. Elapsed since last time-step: {now - self.__t_end}\")\n"
     ]
    },
    {
     "name": "stdout",
     "output_type": "stream",
     "text": [
      "Loop:  58\n"
     ]
    },
    {
     "name": "stderr",
     "output_type": "stream",
     "text": [
      "\u001b[2m\u001b[36m(RolloutWorker pid=7532)\u001b[0m c:\\Users\\nadir\\anaconda3\\envs\\GTRay2.4.0\\lib\\site-packages\\rtgym\\envs\\real_time_env.py:376: UserWarning: Time-step timed out. Elapsed since last time-step: 1.9307770000039\n",
      "\u001b[2m\u001b[36m(RolloutWorker pid=7532)\u001b[0m   warnings.warn(f\"Time-step timed out. Elapsed since last time-step: {now - self.__t_end}\")\n"
     ]
    },
    {
     "name": "stdout",
     "output_type": "stream",
     "text": [
      "\u001b[2m\u001b[36m(RolloutWorker pid=7532)\u001b[0m reset triggered\n",
      "\u001b[2m\u001b[36m(RolloutWorker pid=7532)\u001b[0m reload save for track : 72\n"
     ]
    },
    {
     "name": "stderr",
     "output_type": "stream",
     "text": [
      "\u001b[2m\u001b[36m(RolloutWorker pid=7532)\u001b[0m c:\\Users\\nadir\\anaconda3\\envs\\GTRay2.4.0\\lib\\site-packages\\rtgym\\envs\\real_time_env.py:376: UserWarning: Time-step timed out. Elapsed since last time-step: 0.1675956000235601\n",
      "\u001b[2m\u001b[36m(RolloutWorker pid=7532)\u001b[0m   warnings.warn(f\"Time-step timed out. Elapsed since last time-step: {now - self.__t_end}\")\n"
     ]
    },
    {
     "name": "stdout",
     "output_type": "stream",
     "text": [
      "Loop:  59\n"
     ]
    },
    {
     "name": "stderr",
     "output_type": "stream",
     "text": [
      "\u001b[2m\u001b[36m(RolloutWorker pid=7532)\u001b[0m c:\\Users\\nadir\\anaconda3\\envs\\GTRay2.4.0\\lib\\site-packages\\rtgym\\envs\\real_time_env.py:376: UserWarning: Time-step timed out. Elapsed since last time-step: 2.0402060000037636\n",
      "\u001b[2m\u001b[36m(RolloutWorker pid=7532)\u001b[0m   warnings.warn(f\"Time-step timed out. Elapsed since last time-step: {now - self.__t_end}\")\n"
     ]
    },
    {
     "name": "stdout",
     "output_type": "stream",
     "text": [
      "\u001b[2m\u001b[36m(RolloutWorker pid=7532)\u001b[0m reset triggered\n",
      "\u001b[2m\u001b[36m(RolloutWorker pid=7532)\u001b[0m reload save for track : 72\n"
     ]
    },
    {
     "name": "stderr",
     "output_type": "stream",
     "text": [
      "\u001b[2m\u001b[36m(RolloutWorker pid=7532)\u001b[0m c:\\Users\\nadir\\anaconda3\\envs\\GTRay2.4.0\\lib\\site-packages\\rtgym\\envs\\real_time_env.py:376: UserWarning: Time-step timed out. Elapsed since last time-step: 0.19498880002333863\n",
      "\u001b[2m\u001b[36m(RolloutWorker pid=7532)\u001b[0m   warnings.warn(f\"Time-step timed out. Elapsed since last time-step: {now - self.__t_end}\")\n"
     ]
    },
    {
     "name": "stdout",
     "output_type": "stream",
     "text": [
      "Loop:  60\n",
      "Saved 60\n"
     ]
    },
    {
     "name": "stderr",
     "output_type": "stream",
     "text": [
      "\u001b[2m\u001b[36m(RolloutWorker pid=7532)\u001b[0m c:\\Users\\nadir\\anaconda3\\envs\\GTRay2.4.0\\lib\\site-packages\\rtgym\\envs\\real_time_env.py:376: UserWarning: Time-step timed out. Elapsed since last time-step: 2.0713042000038513\n",
      "\u001b[2m\u001b[36m(RolloutWorker pid=7532)\u001b[0m   warnings.warn(f\"Time-step timed out. Elapsed since last time-step: {now - self.__t_end}\")\n",
      "\u001b[2m\u001b[36m(RolloutWorker pid=7532)\u001b[0m c:\\Users\\nadir\\anaconda3\\envs\\GTRay2.4.0\\lib\\site-packages\\rtgym\\envs\\real_time_env.py:376: UserWarning: Time-step timed out. Elapsed since last time-step: 0.14876550001554278\n",
      "\u001b[2m\u001b[36m(RolloutWorker pid=7532)\u001b[0m   warnings.warn(f\"Time-step timed out. Elapsed since last time-step: {now - self.__t_end}\")\n"
     ]
    },
    {
     "name": "stdout",
     "output_type": "stream",
     "text": [
      "\u001b[2m\u001b[36m(RolloutWorker pid=7532)\u001b[0m reset triggered\n",
      "\u001b[2m\u001b[36m(RolloutWorker pid=7532)\u001b[0m reload save for track : 72\n",
      "Loop:  61\n"
     ]
    },
    {
     "name": "stderr",
     "output_type": "stream",
     "text": [
      "\u001b[2m\u001b[36m(RolloutWorker pid=7532)\u001b[0m c:\\Users\\nadir\\anaconda3\\envs\\GTRay2.4.0\\lib\\site-packages\\rtgym\\envs\\real_time_env.py:376: UserWarning: Time-step timed out. Elapsed since last time-step: 2.1880607000118744\n",
      "\u001b[2m\u001b[36m(RolloutWorker pid=7532)\u001b[0m   warnings.warn(f\"Time-step timed out. Elapsed since last time-step: {now - self.__t_end}\")\n"
     ]
    },
    {
     "name": "stdout",
     "output_type": "stream",
     "text": [
      "\u001b[2m\u001b[36m(RolloutWorker pid=7532)\u001b[0m reset triggered\n",
      "\u001b[2m\u001b[36m(RolloutWorker pid=7532)\u001b[0m reload save for track : 72\n"
     ]
    },
    {
     "name": "stderr",
     "output_type": "stream",
     "text": [
      "\u001b[2m\u001b[36m(RolloutWorker pid=7532)\u001b[0m c:\\Users\\nadir\\anaconda3\\envs\\GTRay2.4.0\\lib\\site-packages\\rtgym\\envs\\real_time_env.py:376: UserWarning: Time-step timed out. Elapsed since last time-step: 0.13615960001538951\n",
      "\u001b[2m\u001b[36m(RolloutWorker pid=7532)\u001b[0m   warnings.warn(f\"Time-step timed out. Elapsed since last time-step: {now - self.__t_end}\")\n"
     ]
    },
    {
     "name": "stdout",
     "output_type": "stream",
     "text": [
      "Loop:  62\n"
     ]
    },
    {
     "name": "stderr",
     "output_type": "stream",
     "text": [
      "\u001b[2m\u001b[36m(RolloutWorker pid=7532)\u001b[0m c:\\Users\\nadir\\anaconda3\\envs\\GTRay2.4.0\\lib\\site-packages\\rtgym\\envs\\real_time_env.py:376: UserWarning: Time-step timed out. Elapsed since last time-step: 2.2623599000119157\n",
      "\u001b[2m\u001b[36m(RolloutWorker pid=7532)\u001b[0m   warnings.warn(f\"Time-step timed out. Elapsed since last time-step: {now - self.__t_end}\")\n"
     ]
    },
    {
     "name": "stdout",
     "output_type": "stream",
     "text": [
      "\u001b[2m\u001b[36m(RolloutWorker pid=7532)\u001b[0m reset triggered\n",
      "\u001b[2m\u001b[36m(RolloutWorker pid=7532)\u001b[0m reload save for track : 72\n"
     ]
    },
    {
     "name": "stderr",
     "output_type": "stream",
     "text": [
      "\u001b[2m\u001b[36m(RolloutWorker pid=7532)\u001b[0m c:\\Users\\nadir\\anaconda3\\envs\\GTRay2.4.0\\lib\\site-packages\\rtgym\\envs\\real_time_env.py:376: UserWarning: Time-step timed out. Elapsed since last time-step: 0.12360539998508102\n",
      "\u001b[2m\u001b[36m(RolloutWorker pid=7532)\u001b[0m   warnings.warn(f\"Time-step timed out. Elapsed since last time-step: {now - self.__t_end}\")\n",
      "\u001b[2m\u001b[36m(RolloutWorker pid=7532)\u001b[0m c:\\Users\\nadir\\anaconda3\\envs\\GTRay2.4.0\\lib\\site-packages\\rtgym\\envs\\real_time_env.py:376: UserWarning: Time-step timed out. Elapsed since last time-step: 0.06598589991335757\n",
      "\u001b[2m\u001b[36m(RolloutWorker pid=7532)\u001b[0m   warnings.warn(f\"Time-step timed out. Elapsed since last time-step: {now - self.__t_end}\")\n"
     ]
    },
    {
     "name": "stdout",
     "output_type": "stream",
     "text": [
      "Loop:  63\n"
     ]
    },
    {
     "name": "stderr",
     "output_type": "stream",
     "text": [
      "\u001b[2m\u001b[36m(RolloutWorker pid=7532)\u001b[0m c:\\Users\\nadir\\anaconda3\\envs\\GTRay2.4.0\\lib\\site-packages\\rtgym\\envs\\real_time_env.py:376: UserWarning: Time-step timed out. Elapsed since last time-step: 1.9065528999994967\n",
      "\u001b[2m\u001b[36m(RolloutWorker pid=7532)\u001b[0m   warnings.warn(f\"Time-step timed out. Elapsed since last time-step: {now - self.__t_end}\")\n"
     ]
    },
    {
     "name": "stdout",
     "output_type": "stream",
     "text": [
      "\u001b[2m\u001b[36m(RolloutWorker pid=7532)\u001b[0m reset triggered\n",
      "\u001b[2m\u001b[36m(RolloutWorker pid=7532)\u001b[0m reload save for track : 72\n"
     ]
    },
    {
     "name": "stderr",
     "output_type": "stream",
     "text": [
      "\u001b[2m\u001b[36m(RolloutWorker pid=7532)\u001b[0m c:\\Users\\nadir\\anaconda3\\envs\\GTRay2.4.0\\lib\\site-packages\\rtgym\\envs\\real_time_env.py:376: UserWarning: Time-step timed out. Elapsed since last time-step: 0.09114579997822148\n",
      "\u001b[2m\u001b[36m(RolloutWorker pid=7532)\u001b[0m   warnings.warn(f\"Time-step timed out. Elapsed since last time-step: {now - self.__t_end}\")\n"
     ]
    },
    {
     "name": "stdout",
     "output_type": "stream",
     "text": [
      "\u001b[2m\u001b[36m(RolloutWorker pid=7532)\u001b[0m reset triggered\n",
      "\u001b[2m\u001b[36m(RolloutWorker pid=7532)\u001b[0m reload save for track : 72\n"
     ]
    },
    {
     "name": "stderr",
     "output_type": "stream",
     "text": [
      "\u001b[2m\u001b[36m(RolloutWorker pid=7532)\u001b[0m c:\\Users\\nadir\\anaconda3\\envs\\GTRay2.4.0\\lib\\site-packages\\rtgym\\envs\\real_time_env.py:376: UserWarning: Time-step timed out. Elapsed since last time-step: 0.14013839993458532\n",
      "\u001b[2m\u001b[36m(RolloutWorker pid=7532)\u001b[0m   warnings.warn(f\"Time-step timed out. Elapsed since last time-step: {now - self.__t_end}\")\n"
     ]
    },
    {
     "name": "stdout",
     "output_type": "stream",
     "text": [
      "Loop:  64\n"
     ]
    },
    {
     "name": "stderr",
     "output_type": "stream",
     "text": [
      "\u001b[2m\u001b[36m(RolloutWorker pid=7532)\u001b[0m c:\\Users\\nadir\\anaconda3\\envs\\GTRay2.4.0\\lib\\site-packages\\rtgym\\envs\\real_time_env.py:376: UserWarning: Time-step timed out. Elapsed since last time-step: 2.2453568999781055\n",
      "\u001b[2m\u001b[36m(RolloutWorker pid=7532)\u001b[0m   warnings.warn(f\"Time-step timed out. Elapsed since last time-step: {now - self.__t_end}\")\n",
      "\u001b[2m\u001b[36m(RolloutWorker pid=7532)\u001b[0m c:\\Users\\nadir\\anaconda3\\envs\\GTRay2.4.0\\lib\\site-packages\\rtgym\\envs\\real_time_env.py:376: UserWarning: Time-step timed out. Elapsed since last time-step: 0.15109909993952897\n",
      "\u001b[2m\u001b[36m(RolloutWorker pid=7532)\u001b[0m   warnings.warn(f\"Time-step timed out. Elapsed since last time-step: {now - self.__t_end}\")\n"
     ]
    },
    {
     "name": "stdout",
     "output_type": "stream",
     "text": [
      "\u001b[2m\u001b[36m(RolloutWorker pid=7532)\u001b[0m reset triggered\n",
      "\u001b[2m\u001b[36m(RolloutWorker pid=7532)\u001b[0m reload save for track : 72\n",
      "Loop:  65\n"
     ]
    },
    {
     "name": "stderr",
     "output_type": "stream",
     "text": [
      "\u001b[2m\u001b[36m(RolloutWorker pid=7532)\u001b[0m c:\\Users\\nadir\\anaconda3\\envs\\GTRay2.4.0\\lib\\site-packages\\rtgym\\envs\\real_time_env.py:376: UserWarning: Time-step timed out. Elapsed since last time-step: 2.1323609999512882\n",
      "\u001b[2m\u001b[36m(RolloutWorker pid=7532)\u001b[0m   warnings.warn(f\"Time-step timed out. Elapsed since last time-step: {now - self.__t_end}\")\n"
     ]
    },
    {
     "name": "stdout",
     "output_type": "stream",
     "text": [
      "\u001b[2m\u001b[36m(RolloutWorker pid=7532)\u001b[0m reset triggered\n",
      "\u001b[2m\u001b[36m(RolloutWorker pid=7532)\u001b[0m reload save for track : 72\n"
     ]
    },
    {
     "name": "stderr",
     "output_type": "stream",
     "text": [
      "\u001b[2m\u001b[36m(RolloutWorker pid=7532)\u001b[0m c:\\Users\\nadir\\anaconda3\\envs\\GTRay2.4.0\\lib\\site-packages\\rtgym\\envs\\real_time_env.py:376: UserWarning: Time-step timed out. Elapsed since last time-step: 0.14752219993988547\n",
      "\u001b[2m\u001b[36m(RolloutWorker pid=7532)\u001b[0m   warnings.warn(f\"Time-step timed out. Elapsed since last time-step: {now - self.__t_end}\")\n"
     ]
    },
    {
     "name": "stdout",
     "output_type": "stream",
     "text": [
      "Loop:  66\n"
     ]
    },
    {
     "name": "stderr",
     "output_type": "stream",
     "text": [
      "\u001b[2m\u001b[36m(RolloutWorker pid=7532)\u001b[0m c:\\Users\\nadir\\anaconda3\\envs\\GTRay2.4.0\\lib\\site-packages\\rtgym\\envs\\real_time_env.py:376: UserWarning: Time-step timed out. Elapsed since last time-step: 2.068288699951154\n",
      "\u001b[2m\u001b[36m(RolloutWorker pid=7532)\u001b[0m   warnings.warn(f\"Time-step timed out. Elapsed since last time-step: {now - self.__t_end}\")\n",
      "\u001b[2m\u001b[36m(RolloutWorker pid=7532)\u001b[0m c:\\Users\\nadir\\anaconda3\\envs\\GTRay2.4.0\\lib\\site-packages\\rtgym\\envs\\real_time_env.py:376: UserWarning: Time-step timed out. Elapsed since last time-step: 0.05337979999012532\n",
      "\u001b[2m\u001b[36m(RolloutWorker pid=7532)\u001b[0m   warnings.warn(f\"Time-step timed out. Elapsed since last time-step: {now - self.__t_end}\")\n"
     ]
    },
    {
     "name": "stdout",
     "output_type": "stream",
     "text": [
      "\u001b[2m\u001b[36m(RolloutWorker pid=7532)\u001b[0m reset triggered\n",
      "\u001b[2m\u001b[36m(RolloutWorker pid=7532)\u001b[0m reload save for track : 72\n"
     ]
    },
    {
     "name": "stderr",
     "output_type": "stream",
     "text": [
      "\u001b[2m\u001b[36m(RolloutWorker pid=7532)\u001b[0m c:\\Users\\nadir\\anaconda3\\envs\\GTRay2.4.0\\lib\\site-packages\\rtgym\\envs\\real_time_env.py:376: UserWarning: Time-step timed out. Elapsed since last time-step: 0.12850499997739462\n",
      "\u001b[2m\u001b[36m(RolloutWorker pid=7532)\u001b[0m   warnings.warn(f\"Time-step timed out. Elapsed since last time-step: {now - self.__t_end}\")\n",
      "\u001b[2m\u001b[36m(RolloutWorker pid=7532)\u001b[0m c:\\Users\\nadir\\anaconda3\\envs\\GTRay2.4.0\\lib\\site-packages\\rtgym\\envs\\real_time_env.py:376: UserWarning: Time-step timed out. Elapsed since last time-step: 0.05015029996184239\n",
      "\u001b[2m\u001b[36m(RolloutWorker pid=7532)\u001b[0m   warnings.warn(f\"Time-step timed out. Elapsed since last time-step: {now - self.__t_end}\")\n"
     ]
    },
    {
     "name": "stdout",
     "output_type": "stream",
     "text": [
      "Loop:  67\n"
     ]
    },
    {
     "name": "stderr",
     "output_type": "stream",
     "text": [
      "\u001b[2m\u001b[36m(RolloutWorker pid=7532)\u001b[0m c:\\Users\\nadir\\anaconda3\\envs\\GTRay2.4.0\\lib\\site-packages\\rtgym\\envs\\real_time_env.py:376: UserWarning: Time-step timed out. Elapsed since last time-step: 2.177845799961233\n",
      "\u001b[2m\u001b[36m(RolloutWorker pid=7532)\u001b[0m   warnings.warn(f\"Time-step timed out. Elapsed since last time-step: {now - self.__t_end}\")\n"
     ]
    },
    {
     "name": "stdout",
     "output_type": "stream",
     "text": [
      "\u001b[2m\u001b[36m(RolloutWorker pid=7532)\u001b[0m reset triggered\n",
      "\u001b[2m\u001b[36m(RolloutWorker pid=7532)\u001b[0m reload save for track : 72\n"
     ]
    },
    {
     "name": "stderr",
     "output_type": "stream",
     "text": [
      "\u001b[2m\u001b[36m(RolloutWorker pid=7532)\u001b[0m c:\\Users\\nadir\\anaconda3\\envs\\GTRay2.4.0\\lib\\site-packages\\rtgym\\envs\\real_time_env.py:376: UserWarning: Time-step timed out. Elapsed since last time-step: 0.12180569996780832\n",
      "\u001b[2m\u001b[36m(RolloutWorker pid=7532)\u001b[0m   warnings.warn(f\"Time-step timed out. Elapsed since last time-step: {now - self.__t_end}\")\n"
     ]
    },
    {
     "name": "stdout",
     "output_type": "stream",
     "text": [
      "\u001b[2m\u001b[36m(RolloutWorker pid=7532)\u001b[0m reset triggered\n",
      "\u001b[2m\u001b[36m(RolloutWorker pid=7532)\u001b[0m reload save for track : 72\n"
     ]
    },
    {
     "name": "stderr",
     "output_type": "stream",
     "text": [
      "\u001b[2m\u001b[36m(RolloutWorker pid=7532)\u001b[0m c:\\Users\\nadir\\anaconda3\\envs\\GTRay2.4.0\\lib\\site-packages\\rtgym\\envs\\real_time_env.py:376: UserWarning: Time-step timed out. Elapsed since last time-step: 0.1501599999305654\n",
      "\u001b[2m\u001b[36m(RolloutWorker pid=7532)\u001b[0m   warnings.warn(f\"Time-step timed out. Elapsed since last time-step: {now - self.__t_end}\")\n"
     ]
    },
    {
     "name": "stdout",
     "output_type": "stream",
     "text": [
      "Loop:  68\n"
     ]
    },
    {
     "name": "stderr",
     "output_type": "stream",
     "text": [
      "\u001b[2m\u001b[36m(RolloutWorker pid=7532)\u001b[0m c:\\Users\\nadir\\anaconda3\\envs\\GTRay2.4.0\\lib\\site-packages\\rtgym\\envs\\real_time_env.py:376: UserWarning: Time-step timed out. Elapsed since last time-step: 2.098060499992698\n",
      "\u001b[2m\u001b[36m(RolloutWorker pid=7532)\u001b[0m   warnings.warn(f\"Time-step timed out. Elapsed since last time-step: {now - self.__t_end}\")\n",
      "\u001b[2m\u001b[36m(RolloutWorker pid=7532)\u001b[0m c:\\Users\\nadir\\anaconda3\\envs\\GTRay2.4.0\\lib\\site-packages\\rtgym\\envs\\real_time_env.py:376: UserWarning: Time-step timed out. Elapsed since last time-step: 0.1971602998983144\n",
      "\u001b[2m\u001b[36m(RolloutWorker pid=7532)\u001b[0m   warnings.warn(f\"Time-step timed out. Elapsed since last time-step: {now - self.__t_end}\")\n"
     ]
    },
    {
     "name": "stdout",
     "output_type": "stream",
     "text": [
      "\u001b[2m\u001b[36m(RolloutWorker pid=7532)\u001b[0m reset triggered\n",
      "\u001b[2m\u001b[36m(RolloutWorker pid=7532)\u001b[0m reload save for track : 72\n",
      "Loop:  69\n"
     ]
    },
    {
     "name": "stderr",
     "output_type": "stream",
     "text": [
      "\u001b[2m\u001b[36m(RolloutWorker pid=7532)\u001b[0m c:\\Users\\nadir\\anaconda3\\envs\\GTRay2.4.0\\lib\\site-packages\\rtgym\\envs\\real_time_env.py:376: UserWarning: Time-step timed out. Elapsed since last time-step: 2.1337996999923234\n",
      "\u001b[2m\u001b[36m(RolloutWorker pid=7532)\u001b[0m   warnings.warn(f\"Time-step timed out. Elapsed since last time-step: {now - self.__t_end}\")\n"
     ]
    },
    {
     "name": "stdout",
     "output_type": "stream",
     "text": [
      "\u001b[2m\u001b[36m(RolloutWorker pid=7532)\u001b[0m reset triggered\n",
      "\u001b[2m\u001b[36m(RolloutWorker pid=7532)\u001b[0m reload save for track : 72\n"
     ]
    },
    {
     "name": "stderr",
     "output_type": "stream",
     "text": [
      "\u001b[2m\u001b[36m(RolloutWorker pid=7532)\u001b[0m c:\\Users\\nadir\\anaconda3\\envs\\GTRay2.4.0\\lib\\site-packages\\rtgym\\envs\\real_time_env.py:376: UserWarning: Time-step timed out. Elapsed since last time-step: 0.17481349989839146\n",
      "\u001b[2m\u001b[36m(RolloutWorker pid=7532)\u001b[0m   warnings.warn(f\"Time-step timed out. Elapsed since last time-step: {now - self.__t_end}\")\n"
     ]
    },
    {
     "name": "stdout",
     "output_type": "stream",
     "text": [
      "Loop:  70\n",
      "Saved 70\n"
     ]
    },
    {
     "name": "stderr",
     "output_type": "stream",
     "text": [
      "\u001b[2m\u001b[36m(RolloutWorker pid=7532)\u001b[0m c:\\Users\\nadir\\anaconda3\\envs\\GTRay2.4.0\\lib\\site-packages\\rtgym\\envs\\real_time_env.py:376: UserWarning: Time-step timed out. Elapsed since last time-step: 2.160543399992548\n",
      "\u001b[2m\u001b[36m(RolloutWorker pid=7532)\u001b[0m   warnings.warn(f\"Time-step timed out. Elapsed since last time-step: {now - self.__t_end}\")\n"
     ]
    },
    {
     "name": "stdout",
     "output_type": "stream",
     "text": [
      "\u001b[2m\u001b[36m(RolloutWorker pid=7532)\u001b[0m reset triggered\n",
      "\u001b[2m\u001b[36m(RolloutWorker pid=7532)\u001b[0m reload save for track : 72\n"
     ]
    },
    {
     "name": "stderr",
     "output_type": "stream",
     "text": [
      "\u001b[2m\u001b[36m(RolloutWorker pid=7532)\u001b[0m c:\\Users\\nadir\\anaconda3\\envs\\GTRay2.4.0\\lib\\site-packages\\rtgym\\envs\\real_time_env.py:376: UserWarning: Time-step timed out. Elapsed since last time-step: 0.16341889989826086\n",
      "\u001b[2m\u001b[36m(RolloutWorker pid=7532)\u001b[0m   warnings.warn(f\"Time-step timed out. Elapsed since last time-step: {now - self.__t_end}\")\n"
     ]
    },
    {
     "name": "stdout",
     "output_type": "stream",
     "text": [
      "Loop:  71\n"
     ]
    },
    {
     "name": "stderr",
     "output_type": "stream",
     "text": [
      "\u001b[2m\u001b[36m(RolloutWorker pid=7532)\u001b[0m c:\\Users\\nadir\\anaconda3\\envs\\GTRay2.4.0\\lib\\site-packages\\rtgym\\envs\\real_time_env.py:376: UserWarning: Time-step timed out. Elapsed since last time-step: 2.2707415999925615\n",
      "\u001b[2m\u001b[36m(RolloutWorker pid=7532)\u001b[0m   warnings.warn(f\"Time-step timed out. Elapsed since last time-step: {now - self.__t_end}\")\n",
      "\u001b[2m\u001b[36m(RolloutWorker pid=7532)\u001b[0m c:\\Users\\nadir\\anaconda3\\envs\\GTRay2.4.0\\lib\\site-packages\\rtgym\\envs\\real_time_env.py:376: UserWarning: Time-step timed out. Elapsed since last time-step: 0.05470309995644129\n",
      "\u001b[2m\u001b[36m(RolloutWorker pid=7532)\u001b[0m   warnings.warn(f\"Time-step timed out. Elapsed since last time-step: {now - self.__t_end}\")\n",
      "\u001b[2m\u001b[36m(RolloutWorker pid=7532)\u001b[0m c:\\Users\\nadir\\anaconda3\\envs\\GTRay2.4.0\\lib\\site-packages\\rtgym\\envs\\real_time_env.py:376: UserWarning: Time-step timed out. Elapsed since last time-step: 0.19079699994199473\n",
      "\u001b[2m\u001b[36m(RolloutWorker pid=7532)\u001b[0m   warnings.warn(f\"Time-step timed out. Elapsed since last time-step: {now - self.__t_end}\")\n"
     ]
    },
    {
     "name": "stdout",
     "output_type": "stream",
     "text": [
      "\u001b[2m\u001b[36m(RolloutWorker pid=7532)\u001b[0m reset triggered\n",
      "\u001b[2m\u001b[36m(RolloutWorker pid=7532)\u001b[0m reload save for track : 72\n",
      "Loop:  72\n"
     ]
    },
    {
     "name": "stderr",
     "output_type": "stream",
     "text": [
      "\u001b[2m\u001b[36m(RolloutWorker pid=7532)\u001b[0m c:\\Users\\nadir\\anaconda3\\envs\\GTRay2.4.0\\lib\\site-packages\\rtgym\\envs\\real_time_env.py:376: UserWarning: Time-step timed out. Elapsed since last time-step: 2.177199499992639\n",
      "\u001b[2m\u001b[36m(RolloutWorker pid=7532)\u001b[0m   warnings.warn(f\"Time-step timed out. Elapsed since last time-step: {now - self.__t_end}\")\n",
      "\u001b[2m\u001b[36m(RolloutWorker pid=7532)\u001b[0m c:\\Users\\nadir\\anaconda3\\envs\\GTRay2.4.0\\lib\\site-packages\\rtgym\\envs\\real_time_env.py:376: UserWarning: Time-step timed out. Elapsed since last time-step: 0.1787004999337114\n",
      "\u001b[2m\u001b[36m(RolloutWorker pid=7532)\u001b[0m   warnings.warn(f\"Time-step timed out. Elapsed since last time-step: {now - self.__t_end}\")\n",
      "\u001b[2m\u001b[36m(RolloutWorker pid=7532)\u001b[0m c:\\Users\\nadir\\anaconda3\\envs\\GTRay2.4.0\\lib\\site-packages\\rtgym\\envs\\real_time_env.py:376: UserWarning: Time-step timed out. Elapsed since last time-step: 0.18457759996454115\n",
      "\u001b[2m\u001b[36m(RolloutWorker pid=7532)\u001b[0m   warnings.warn(f\"Time-step timed out. Elapsed since last time-step: {now - self.__t_end}\")\n"
     ]
    },
    {
     "name": "stdout",
     "output_type": "stream",
     "text": [
      "\u001b[2m\u001b[36m(RolloutWorker pid=7532)\u001b[0m reset triggered\n",
      "\u001b[2m\u001b[36m(RolloutWorker pid=7532)\u001b[0m reload save for track : 72\n",
      "Loop:  73\n"
     ]
    },
    {
     "name": "stderr",
     "output_type": "stream",
     "text": [
      "\u001b[2m\u001b[36m(RolloutWorker pid=7532)\u001b[0m c:\\Users\\nadir\\anaconda3\\envs\\GTRay2.4.0\\lib\\site-packages\\rtgym\\envs\\real_time_env.py:376: UserWarning: Time-step timed out. Elapsed since last time-step: 2.1585885999925267\n",
      "\u001b[2m\u001b[36m(RolloutWorker pid=7532)\u001b[0m   warnings.warn(f\"Time-step timed out. Elapsed since last time-step: {now - self.__t_end}\")\n"
     ]
    },
    {
     "name": "stdout",
     "output_type": "stream",
     "text": [
      "\u001b[2m\u001b[36m(RolloutWorker pid=7532)\u001b[0m reset triggered\n",
      "\u001b[2m\u001b[36m(RolloutWorker pid=7532)\u001b[0m reload save for track : 72\n"
     ]
    },
    {
     "name": "stderr",
     "output_type": "stream",
     "text": [
      "\u001b[2m\u001b[36m(RolloutWorker pid=7532)\u001b[0m c:\\Users\\nadir\\anaconda3\\envs\\GTRay2.4.0\\lib\\site-packages\\rtgym\\envs\\real_time_env.py:376: UserWarning: Time-step timed out. Elapsed since last time-step: 0.1946617998983129\n",
      "\u001b[2m\u001b[36m(RolloutWorker pid=7532)\u001b[0m   warnings.warn(f\"Time-step timed out. Elapsed since last time-step: {now - self.__t_end}\")\n"
     ]
    },
    {
     "name": "stdout",
     "output_type": "stream",
     "text": [
      "Loop:  74\n"
     ]
    },
    {
     "name": "stderr",
     "output_type": "stream",
     "text": [
      "\u001b[2m\u001b[36m(RolloutWorker pid=7532)\u001b[0m c:\\Users\\nadir\\anaconda3\\envs\\GTRay2.4.0\\lib\\site-packages\\rtgym\\envs\\real_time_env.py:376: UserWarning: Time-step timed out. Elapsed since last time-step: 2.296024099992792\n",
      "\u001b[2m\u001b[36m(RolloutWorker pid=7532)\u001b[0m   warnings.warn(f\"Time-step timed out. Elapsed since last time-step: {now - self.__t_end}\")\n",
      "\u001b[2m\u001b[36m(RolloutWorker pid=7532)\u001b[0m c:\\Users\\nadir\\anaconda3\\envs\\GTRay2.4.0\\lib\\site-packages\\rtgym\\envs\\real_time_env.py:376: UserWarning: Time-step timed out. Elapsed since last time-step: 0.0786030999470313\n",
      "\u001b[2m\u001b[36m(RolloutWorker pid=7532)\u001b[0m   warnings.warn(f\"Time-step timed out. Elapsed since last time-step: {now - self.__t_end}\")\n"
     ]
    },
    {
     "name": "stdout",
     "output_type": "stream",
     "text": [
      "\u001b[2m\u001b[36m(RolloutWorker pid=7532)\u001b[0m reset triggered\n",
      "\u001b[2m\u001b[36m(RolloutWorker pid=7532)\u001b[0m reload save for track : 72\n"
     ]
    },
    {
     "name": "stderr",
     "output_type": "stream",
     "text": [
      "\u001b[2m\u001b[36m(RolloutWorker pid=7532)\u001b[0m c:\\Users\\nadir\\anaconda3\\envs\\GTRay2.4.0\\lib\\site-packages\\rtgym\\envs\\real_time_env.py:376: UserWarning: Time-step timed out. Elapsed since last time-step: 0.1817509999509639\n",
      "\u001b[2m\u001b[36m(RolloutWorker pid=7532)\u001b[0m   warnings.warn(f\"Time-step timed out. Elapsed since last time-step: {now - self.__t_end}\")\n"
     ]
    },
    {
     "name": "stdout",
     "output_type": "stream",
     "text": [
      "Loop:  75\n"
     ]
    },
    {
     "name": "stderr",
     "output_type": "stream",
     "text": [
      "\u001b[2m\u001b[36m(RolloutWorker pid=7532)\u001b[0m c:\\Users\\nadir\\anaconda3\\envs\\GTRay2.4.0\\lib\\site-packages\\rtgym\\envs\\real_time_env.py:376: UserWarning: Time-step timed out. Elapsed since last time-step: 2.4030538999927558\n",
      "\u001b[2m\u001b[36m(RolloutWorker pid=7532)\u001b[0m   warnings.warn(f\"Time-step timed out. Elapsed since last time-step: {now - self.__t_end}\")\n"
     ]
    },
    {
     "name": "stdout",
     "output_type": "stream",
     "text": [
      "\u001b[2m\u001b[36m(RolloutWorker pid=7532)\u001b[0m reset triggered\n",
      "\u001b[2m\u001b[36m(RolloutWorker pid=7532)\u001b[0m reload save for track : 72\n"
     ]
    },
    {
     "name": "stderr",
     "output_type": "stream",
     "text": [
      "\u001b[2m\u001b[36m(RolloutWorker pid=7532)\u001b[0m c:\\Users\\nadir\\anaconda3\\envs\\GTRay2.4.0\\lib\\site-packages\\rtgym\\envs\\real_time_env.py:376: UserWarning: Time-step timed out. Elapsed since last time-step: 0.18725199989785324\n",
      "\u001b[2m\u001b[36m(RolloutWorker pid=7532)\u001b[0m   warnings.warn(f\"Time-step timed out. Elapsed since last time-step: {now - self.__t_end}\")\n"
     ]
    },
    {
     "name": "stdout",
     "output_type": "stream",
     "text": [
      "Loop:  76\n"
     ]
    },
    {
     "name": "stderr",
     "output_type": "stream",
     "text": [
      "\u001b[2m\u001b[36m(RolloutWorker pid=7532)\u001b[0m c:\\Users\\nadir\\anaconda3\\envs\\GTRay2.4.0\\lib\\site-packages\\rtgym\\envs\\real_time_env.py:376: UserWarning: Time-step timed out. Elapsed since last time-step: 2.232089999992695\n",
      "\u001b[2m\u001b[36m(RolloutWorker pid=7532)\u001b[0m   warnings.warn(f\"Time-step timed out. Elapsed since last time-step: {now - self.__t_end}\")\n"
     ]
    },
    {
     "name": "stdout",
     "output_type": "stream",
     "text": [
      "\u001b[2m\u001b[36m(RolloutWorker pid=7532)\u001b[0m reset triggered\n",
      "\u001b[2m\u001b[36m(RolloutWorker pid=7532)\u001b[0m reload save for track : 72\n"
     ]
    },
    {
     "name": "stderr",
     "output_type": "stream",
     "text": [
      "\u001b[2m\u001b[36m(RolloutWorker pid=7532)\u001b[0m c:\\Users\\nadir\\anaconda3\\envs\\GTRay2.4.0\\lib\\site-packages\\rtgym\\envs\\real_time_env.py:376: UserWarning: Time-step timed out. Elapsed since last time-step: 0.13876299993762586\n",
      "\u001b[2m\u001b[36m(RolloutWorker pid=7532)\u001b[0m   warnings.warn(f\"Time-step timed out. Elapsed since last time-step: {now - self.__t_end}\")\n"
     ]
    },
    {
     "name": "stdout",
     "output_type": "stream",
     "text": [
      "Loop:  77\n"
     ]
    },
    {
     "name": "stderr",
     "output_type": "stream",
     "text": [
      "\u001b[2m\u001b[36m(RolloutWorker pid=7532)\u001b[0m c:\\Users\\nadir\\anaconda3\\envs\\GTRay2.4.0\\lib\\site-packages\\rtgym\\envs\\real_time_env.py:376: UserWarning: Time-step timed out. Elapsed since last time-step: 2.287544499953583\n",
      "\u001b[2m\u001b[36m(RolloutWorker pid=7532)\u001b[0m   warnings.warn(f\"Time-step timed out. Elapsed since last time-step: {now - self.__t_end}\")\n"
     ]
    },
    {
     "name": "stdout",
     "output_type": "stream",
     "text": [
      "\u001b[2m\u001b[36m(RolloutWorker pid=7532)\u001b[0m reset triggered\n",
      "\u001b[2m\u001b[36m(RolloutWorker pid=7532)\u001b[0m reload save for track : 72\n"
     ]
    },
    {
     "name": "stderr",
     "output_type": "stream",
     "text": [
      "\u001b[2m\u001b[36m(RolloutWorker pid=7532)\u001b[0m c:\\Users\\nadir\\anaconda3\\envs\\GTRay2.4.0\\lib\\site-packages\\rtgym\\envs\\real_time_env.py:376: UserWarning: Time-step timed out. Elapsed since last time-step: 0.24121849996799938\n",
      "\u001b[2m\u001b[36m(RolloutWorker pid=7532)\u001b[0m   warnings.warn(f\"Time-step timed out. Elapsed since last time-step: {now - self.__t_end}\")\n",
      "\u001b[2m\u001b[36m(RolloutWorker pid=7532)\u001b[0m c:\\Users\\nadir\\anaconda3\\envs\\GTRay2.4.0\\lib\\site-packages\\rtgym\\envs\\real_time_env.py:376: UserWarning: Time-step timed out. Elapsed since last time-step: 0.05451899992522158\n",
      "\u001b[2m\u001b[36m(RolloutWorker pid=7532)\u001b[0m   warnings.warn(f\"Time-step timed out. Elapsed since last time-step: {now - self.__t_end}\")\n",
      "\u001b[2m\u001b[36m(RolloutWorker pid=7532)\u001b[0m c:\\Users\\nadir\\anaconda3\\envs\\GTRay2.4.0\\lib\\site-packages\\rtgym\\envs\\real_time_env.py:376: UserWarning: Time-step timed out. Elapsed since last time-step: 0.057140899997648376\n",
      "\u001b[2m\u001b[36m(RolloutWorker pid=7532)\u001b[0m   warnings.warn(f\"Time-step timed out. Elapsed since last time-step: {now - self.__t_end}\")\n"
     ]
    },
    {
     "name": "stdout",
     "output_type": "stream",
     "text": [
      "Loop:  78\n"
     ]
    },
    {
     "name": "stderr",
     "output_type": "stream",
     "text": [
      "\u001b[2m\u001b[36m(RolloutWorker pid=7532)\u001b[0m c:\\Users\\nadir\\anaconda3\\envs\\GTRay2.4.0\\lib\\site-packages\\rtgym\\envs\\real_time_env.py:376: UserWarning: Time-step timed out. Elapsed since last time-step: 2.472870099999909\n",
      "\u001b[2m\u001b[36m(RolloutWorker pid=7532)\u001b[0m   warnings.warn(f\"Time-step timed out. Elapsed since last time-step: {now - self.__t_end}\")\n"
     ]
    },
    {
     "name": "stdout",
     "output_type": "stream",
     "text": [
      "\u001b[2m\u001b[36m(RolloutWorker pid=7532)\u001b[0m reset triggered\n",
      "\u001b[2m\u001b[36m(RolloutWorker pid=7532)\u001b[0m reload save for track : 72\n"
     ]
    },
    {
     "name": "stderr",
     "output_type": "stream",
     "text": [
      "\u001b[2m\u001b[36m(RolloutWorker pid=7532)\u001b[0m c:\\Users\\nadir\\anaconda3\\envs\\GTRay2.4.0\\lib\\site-packages\\rtgym\\envs\\real_time_env.py:376: UserWarning: Time-step timed out. Elapsed since last time-step: 0.2461419999908685\n",
      "\u001b[2m\u001b[36m(RolloutWorker pid=7532)\u001b[0m   warnings.warn(f\"Time-step timed out. Elapsed since last time-step: {now - self.__t_end}\")\n",
      "\u001b[2m\u001b[36m(RolloutWorker pid=7532)\u001b[0m c:\\Users\\nadir\\anaconda3\\envs\\GTRay2.4.0\\lib\\site-packages\\rtgym\\envs\\real_time_env.py:376: UserWarning: Time-step timed out. Elapsed since last time-step: 0.09011049990022002\n",
      "\u001b[2m\u001b[36m(RolloutWorker pid=7532)\u001b[0m   warnings.warn(f\"Time-step timed out. Elapsed since last time-step: {now - self.__t_end}\")\n"
     ]
    },
    {
     "name": "stdout",
     "output_type": "stream",
     "text": [
      "Loop:  79\n"
     ]
    },
    {
     "name": "stderr",
     "output_type": "stream",
     "text": [
      "\u001b[2m\u001b[36m(RolloutWorker pid=7532)\u001b[0m c:\\Users\\nadir\\anaconda3\\envs\\GTRay2.4.0\\lib\\site-packages\\rtgym\\envs\\real_time_env.py:376: UserWarning: Time-step timed out. Elapsed since last time-step: 2.214850899999874\n",
      "\u001b[2m\u001b[36m(RolloutWorker pid=7532)\u001b[0m   warnings.warn(f\"Time-step timed out. Elapsed since last time-step: {now - self.__t_end}\")\n"
     ]
    },
    {
     "name": "stdout",
     "output_type": "stream",
     "text": [
      "\u001b[2m\u001b[36m(RolloutWorker pid=7532)\u001b[0m reset triggered\n",
      "\u001b[2m\u001b[36m(RolloutWorker pid=7532)\u001b[0m reload save for track : 72\n"
     ]
    },
    {
     "name": "stderr",
     "output_type": "stream",
     "text": [
      "\u001b[2m\u001b[36m(RolloutWorker pid=7532)\u001b[0m c:\\Users\\nadir\\anaconda3\\envs\\GTRay2.4.0\\lib\\site-packages\\rtgym\\envs\\real_time_env.py:376: UserWarning: Time-step timed out. Elapsed since last time-step: 0.44502469999088135\n",
      "\u001b[2m\u001b[36m(RolloutWorker pid=7532)\u001b[0m   warnings.warn(f\"Time-step timed out. Elapsed since last time-step: {now - self.__t_end}\")\n"
     ]
    },
    {
     "name": "stdout",
     "output_type": "stream",
     "text": [
      "\u001b[2m\u001b[36m(RolloutWorker pid=7532)\u001b[0m reset triggered\n",
      "\u001b[2m\u001b[36m(RolloutWorker pid=7532)\u001b[0m reload save for track : 72\n"
     ]
    },
    {
     "name": "stderr",
     "output_type": "stream",
     "text": [
      "\u001b[2m\u001b[36m(RolloutWorker pid=7532)\u001b[0m c:\\Users\\nadir\\anaconda3\\envs\\GTRay2.4.0\\lib\\site-packages\\rtgym\\envs\\real_time_env.py:376: UserWarning: Time-step timed out. Elapsed since last time-step: 0.18026289991667\n",
      "\u001b[2m\u001b[36m(RolloutWorker pid=7532)\u001b[0m   warnings.warn(f\"Time-step timed out. Elapsed since last time-step: {now - self.__t_end}\")\n"
     ]
    },
    {
     "name": "stdout",
     "output_type": "stream",
     "text": [
      "Loop:  80\n",
      "Saved 80\n"
     ]
    },
    {
     "name": "stderr",
     "output_type": "stream",
     "text": [
      "\u001b[2m\u001b[36m(RolloutWorker pid=7532)\u001b[0m c:\\Users\\nadir\\anaconda3\\envs\\GTRay2.4.0\\lib\\site-packages\\rtgym\\envs\\real_time_env.py:376: UserWarning: Time-step timed out. Elapsed since last time-step: 2.2871676999830015\n",
      "\u001b[2m\u001b[36m(RolloutWorker pid=7532)\u001b[0m   warnings.warn(f\"Time-step timed out. Elapsed since last time-step: {now - self.__t_end}\")\n"
     ]
    },
    {
     "name": "stdout",
     "output_type": "stream",
     "text": [
      "\u001b[2m\u001b[36m(RolloutWorker pid=7532)\u001b[0m reset triggered\n",
      "\u001b[2m\u001b[36m(RolloutWorker pid=7532)\u001b[0m reload save for track : 72\n"
     ]
    },
    {
     "name": "stderr",
     "output_type": "stream",
     "text": [
      "\u001b[2m\u001b[36m(RolloutWorker pid=7532)\u001b[0m c:\\Users\\nadir\\anaconda3\\envs\\GTRay2.4.0\\lib\\site-packages\\rtgym\\envs\\real_time_env.py:376: UserWarning: Time-step timed out. Elapsed since last time-step: 0.18251949990781213\n",
      "\u001b[2m\u001b[36m(RolloutWorker pid=7532)\u001b[0m   warnings.warn(f\"Time-step timed out. Elapsed since last time-step: {now - self.__t_end}\")\n"
     ]
    },
    {
     "name": "stdout",
     "output_type": "stream",
     "text": [
      "Loop:  81\n"
     ]
    },
    {
     "name": "stderr",
     "output_type": "stream",
     "text": [
      "\u001b[2m\u001b[36m(RolloutWorker pid=7532)\u001b[0m c:\\Users\\nadir\\anaconda3\\envs\\GTRay2.4.0\\lib\\site-packages\\rtgym\\envs\\real_time_env.py:376: UserWarning: Time-step timed out. Elapsed since last time-step: 2.400136499983091\n",
      "\u001b[2m\u001b[36m(RolloutWorker pid=7532)\u001b[0m   warnings.warn(f\"Time-step timed out. Elapsed since last time-step: {now - self.__t_end}\")\n"
     ]
    },
    {
     "name": "stdout",
     "output_type": "stream",
     "text": [
      "\u001b[2m\u001b[36m(RolloutWorker pid=7532)\u001b[0m reset triggered\n",
      "\u001b[2m\u001b[36m(RolloutWorker pid=7532)\u001b[0m reload save for track : 72\n"
     ]
    },
    {
     "name": "stderr",
     "output_type": "stream",
     "text": [
      "\u001b[2m\u001b[36m(RolloutWorker pid=7532)\u001b[0m c:\\Users\\nadir\\anaconda3\\envs\\GTRay2.4.0\\lib\\site-packages\\rtgym\\envs\\real_time_env.py:376: UserWarning: Time-step timed out. Elapsed since last time-step: 0.1602163999405093\n",
      "\u001b[2m\u001b[36m(RolloutWorker pid=7532)\u001b[0m   warnings.warn(f\"Time-step timed out. Elapsed since last time-step: {now - self.__t_end}\")\n"
     ]
    },
    {
     "name": "stdout",
     "output_type": "stream",
     "text": [
      "Loop:  82\n"
     ]
    },
    {
     "name": "stderr",
     "output_type": "stream",
     "text": [
      "\u001b[2m\u001b[36m(RolloutWorker pid=7532)\u001b[0m c:\\Users\\nadir\\anaconda3\\envs\\GTRay2.4.0\\lib\\site-packages\\rtgym\\envs\\real_time_env.py:376: UserWarning: Time-step timed out. Elapsed since last time-step: 2.364590899950599\n",
      "\u001b[2m\u001b[36m(RolloutWorker pid=7532)\u001b[0m   warnings.warn(f\"Time-step timed out. Elapsed since last time-step: {now - self.__t_end}\")\n",
      "\u001b[2m\u001b[36m(RolloutWorker pid=7532)\u001b[0m c:\\Users\\nadir\\anaconda3\\envs\\GTRay2.4.0\\lib\\site-packages\\rtgym\\envs\\real_time_env.py:376: UserWarning: Time-step timed out. Elapsed since last time-step: 0.10538169997698787\n",
      "\u001b[2m\u001b[36m(RolloutWorker pid=7532)\u001b[0m   warnings.warn(f\"Time-step timed out. Elapsed since last time-step: {now - self.__t_end}\")\n"
     ]
    },
    {
     "name": "stdout",
     "output_type": "stream",
     "text": [
      "\u001b[2m\u001b[36m(RolloutWorker pid=7532)\u001b[0m reset triggered\n",
      "\u001b[2m\u001b[36m(RolloutWorker pid=7532)\u001b[0m reload save for track : 72\n",
      "Loop:  83\n"
     ]
    },
    {
     "name": "stderr",
     "output_type": "stream",
     "text": [
      "\u001b[2m\u001b[36m(RolloutWorker pid=7532)\u001b[0m c:\\Users\\nadir\\anaconda3\\envs\\GTRay2.4.0\\lib\\site-packages\\rtgym\\envs\\real_time_env.py:376: UserWarning: Time-step timed out. Elapsed since last time-step: 2.1987475999135313\n",
      "\u001b[2m\u001b[36m(RolloutWorker pid=7532)\u001b[0m   warnings.warn(f\"Time-step timed out. Elapsed since last time-step: {now - self.__t_end}\")\n",
      "\u001b[2m\u001b[36m(RolloutWorker pid=7532)\u001b[0m c:\\Users\\nadir\\anaconda3\\envs\\GTRay2.4.0\\lib\\site-packages\\rtgym\\envs\\real_time_env.py:376: UserWarning: Time-step timed out. Elapsed since last time-step: 0.1109113999773399\n",
      "\u001b[2m\u001b[36m(RolloutWorker pid=7532)\u001b[0m   warnings.warn(f\"Time-step timed out. Elapsed since last time-step: {now - self.__t_end}\")\n"
     ]
    },
    {
     "name": "stdout",
     "output_type": "stream",
     "text": [
      "\u001b[2m\u001b[36m(RolloutWorker pid=7532)\u001b[0m reset triggered\n",
      "\u001b[2m\u001b[36m(RolloutWorker pid=7532)\u001b[0m reload save for track : 72\n"
     ]
    },
    {
     "name": "stderr",
     "output_type": "stream",
     "text": [
      "\u001b[2m\u001b[36m(RolloutWorker pid=7532)\u001b[0m c:\\Users\\nadir\\anaconda3\\envs\\GTRay2.4.0\\lib\\site-packages\\rtgym\\envs\\real_time_env.py:376: UserWarning: Time-step timed out. Elapsed since last time-step: 0.073107399914079\n",
      "\u001b[2m\u001b[36m(RolloutWorker pid=7532)\u001b[0m   warnings.warn(f\"Time-step timed out. Elapsed since last time-step: {now - self.__t_end}\")\n"
     ]
    },
    {
     "name": "stdout",
     "output_type": "stream",
     "text": [
      "Loop:  84\n"
     ]
    },
    {
     "name": "stderr",
     "output_type": "stream",
     "text": [
      "\u001b[2m\u001b[36m(RolloutWorker pid=7532)\u001b[0m c:\\Users\\nadir\\anaconda3\\envs\\GTRay2.4.0\\lib\\site-packages\\rtgym\\envs\\real_time_env.py:376: UserWarning: Time-step timed out. Elapsed since last time-step: 2.3157812999997986\n",
      "\u001b[2m\u001b[36m(RolloutWorker pid=7532)\u001b[0m   warnings.warn(f\"Time-step timed out. Elapsed since last time-step: {now - self.__t_end}\")\n",
      "\u001b[2m\u001b[36m(RolloutWorker pid=7532)\u001b[0m c:\\Users\\nadir\\anaconda3\\envs\\GTRay2.4.0\\lib\\site-packages\\rtgym\\envs\\real_time_env.py:376: UserWarning: Time-step timed out. Elapsed since last time-step: 0.053077099990787246\n",
      "\u001b[2m\u001b[36m(RolloutWorker pid=7532)\u001b[0m   warnings.warn(f\"Time-step timed out. Elapsed since last time-step: {now - self.__t_end}\")\n",
      "\u001b[2m\u001b[36m(RolloutWorker pid=7532)\u001b[0m c:\\Users\\nadir\\anaconda3\\envs\\GTRay2.4.0\\lib\\site-packages\\rtgym\\envs\\real_time_env.py:376: UserWarning: Time-step timed out. Elapsed since last time-step: 0.11947829998962334\n",
      "\u001b[2m\u001b[36m(RolloutWorker pid=7532)\u001b[0m   warnings.warn(f\"Time-step timed out. Elapsed since last time-step: {now - self.__t_end}\")\n"
     ]
    },
    {
     "name": "stdout",
     "output_type": "stream",
     "text": [
      "\u001b[2m\u001b[36m(RolloutWorker pid=7532)\u001b[0m reset triggered\n",
      "\u001b[2m\u001b[36m(RolloutWorker pid=7532)\u001b[0m reload save for track : 72\n"
     ]
    },
    {
     "name": "stderr",
     "output_type": "stream",
     "text": [
      "\u001b[2m\u001b[36m(RolloutWorker pid=7532)\u001b[0m c:\\Users\\nadir\\anaconda3\\envs\\GTRay2.4.0\\lib\\site-packages\\rtgym\\envs\\real_time_env.py:376: UserWarning: Time-step timed out. Elapsed since last time-step: 0.07484099991052062\n",
      "\u001b[2m\u001b[36m(RolloutWorker pid=7532)\u001b[0m   warnings.warn(f\"Time-step timed out. Elapsed since last time-step: {now - self.__t_end}\")\n"
     ]
    },
    {
     "name": "stdout",
     "output_type": "stream",
     "text": [
      "Loop:  85\n"
     ]
    },
    {
     "name": "stderr",
     "output_type": "stream",
     "text": [
      "\u001b[2m\u001b[36m(RolloutWorker pid=7532)\u001b[0m c:\\Users\\nadir\\anaconda3\\envs\\GTRay2.4.0\\lib\\site-packages\\rtgym\\envs\\real_time_env.py:376: UserWarning: Time-step timed out. Elapsed since last time-step: 2.334524599999895\n",
      "\u001b[2m\u001b[36m(RolloutWorker pid=7532)\u001b[0m   warnings.warn(f\"Time-step timed out. Elapsed since last time-step: {now - self.__t_end}\")\n"
     ]
    },
    {
     "name": "stdout",
     "output_type": "stream",
     "text": [
      "\u001b[2m\u001b[36m(RolloutWorker pid=7532)\u001b[0m reset triggered\n",
      "\u001b[2m\u001b[36m(RolloutWorker pid=7532)\u001b[0m reload save for track : 72\n"
     ]
    },
    {
     "name": "stderr",
     "output_type": "stream",
     "text": [
      "\u001b[2m\u001b[36m(RolloutWorker pid=7532)\u001b[0m c:\\Users\\nadir\\anaconda3\\envs\\GTRay2.4.0\\lib\\site-packages\\rtgym\\envs\\real_time_env.py:376: UserWarning: Time-step timed out. Elapsed since last time-step: 0.10944499999186519\n",
      "\u001b[2m\u001b[36m(RolloutWorker pid=7532)\u001b[0m   warnings.warn(f\"Time-step timed out. Elapsed since last time-step: {now - self.__t_end}\")\n",
      "\u001b[2m\u001b[36m(RolloutWorker pid=7532)\u001b[0m c:\\Users\\nadir\\anaconda3\\envs\\GTRay2.4.0\\lib\\site-packages\\rtgym\\envs\\real_time_env.py:376: UserWarning: Time-step timed out. Elapsed since last time-step: 0.07151339989923144\n",
      "\u001b[2m\u001b[36m(RolloutWorker pid=7532)\u001b[0m   warnings.warn(f\"Time-step timed out. Elapsed since last time-step: {now - self.__t_end}\")\n"
     ]
    },
    {
     "name": "stdout",
     "output_type": "stream",
     "text": [
      "Loop:  86\n"
     ]
    },
    {
     "name": "stderr",
     "output_type": "stream",
     "text": [
      "\u001b[2m\u001b[36m(RolloutWorker pid=7532)\u001b[0m c:\\Users\\nadir\\anaconda3\\envs\\GTRay2.4.0\\lib\\site-packages\\rtgym\\envs\\real_time_env.py:376: UserWarning: Time-step timed out. Elapsed since last time-step: 2.15725459999976\n",
      "\u001b[2m\u001b[36m(RolloutWorker pid=7532)\u001b[0m   warnings.warn(f\"Time-step timed out. Elapsed since last time-step: {now - self.__t_end}\")\n"
     ]
    },
    {
     "name": "stdout",
     "output_type": "stream",
     "text": [
      "\u001b[2m\u001b[36m(RolloutWorker pid=7532)\u001b[0m reset triggered\n",
      "\u001b[2m\u001b[36m(RolloutWorker pid=7532)\u001b[0m reload save for track : 72\n"
     ]
    },
    {
     "name": "stderr",
     "output_type": "stream",
     "text": [
      "\u001b[2m\u001b[36m(RolloutWorker pid=7532)\u001b[0m c:\\Users\\nadir\\anaconda3\\envs\\GTRay2.4.0\\lib\\site-packages\\rtgym\\envs\\real_time_env.py:376: UserWarning: Time-step timed out. Elapsed since last time-step: 0.10715139999456369\n",
      "\u001b[2m\u001b[36m(RolloutWorker pid=7532)\u001b[0m   warnings.warn(f\"Time-step timed out. Elapsed since last time-step: {now - self.__t_end}\")\n",
      "\u001b[2m\u001b[36m(RolloutWorker pid=7532)\u001b[0m c:\\Users\\nadir\\anaconda3\\envs\\GTRay2.4.0\\lib\\site-packages\\rtgym\\envs\\real_time_env.py:376: UserWarning: Time-step timed out. Elapsed since last time-step: 0.05226179989904267\n",
      "\u001b[2m\u001b[36m(RolloutWorker pid=7532)\u001b[0m   warnings.warn(f\"Time-step timed out. Elapsed since last time-step: {now - self.__t_end}\")\n",
      "\u001b[2m\u001b[36m(RolloutWorker pid=7532)\u001b[0m c:\\Users\\nadir\\anaconda3\\envs\\GTRay2.4.0\\lib\\site-packages\\rtgym\\envs\\real_time_env.py:376: UserWarning: Time-step timed out. Elapsed since last time-step: 0.08203409999714495\n",
      "\u001b[2m\u001b[36m(RolloutWorker pid=7532)\u001b[0m   warnings.warn(f\"Time-step timed out. Elapsed since last time-step: {now - self.__t_end}\")\n"
     ]
    },
    {
     "name": "stdout",
     "output_type": "stream",
     "text": [
      "Loop:  87\n"
     ]
    },
    {
     "name": "stderr",
     "output_type": "stream",
     "text": [
      "\u001b[2m\u001b[36m(RolloutWorker pid=7532)\u001b[0m c:\\Users\\nadir\\anaconda3\\envs\\GTRay2.4.0\\lib\\site-packages\\rtgym\\envs\\real_time_env.py:376: UserWarning: Time-step timed out. Elapsed since last time-step: 2.1249619000000166\n",
      "\u001b[2m\u001b[36m(RolloutWorker pid=7532)\u001b[0m   warnings.warn(f\"Time-step timed out. Elapsed since last time-step: {now - self.__t_end}\")\n"
     ]
    },
    {
     "name": "stdout",
     "output_type": "stream",
     "text": [
      "\u001b[2m\u001b[36m(RolloutWorker pid=7532)\u001b[0m reset triggered\n",
      "\u001b[2m\u001b[36m(RolloutWorker pid=7532)\u001b[0m reload save for track : 72\n"
     ]
    },
    {
     "name": "stderr",
     "output_type": "stream",
     "text": [
      "\u001b[2m\u001b[36m(RolloutWorker pid=7532)\u001b[0m c:\\Users\\nadir\\anaconda3\\envs\\GTRay2.4.0\\lib\\site-packages\\rtgym\\envs\\real_time_env.py:376: UserWarning: Time-step timed out. Elapsed since last time-step: 0.11524149999468136\n",
      "\u001b[2m\u001b[36m(RolloutWorker pid=7532)\u001b[0m   warnings.warn(f\"Time-step timed out. Elapsed since last time-step: {now - self.__t_end}\")\n"
     ]
    },
    {
     "name": "stdout",
     "output_type": "stream",
     "text": [
      "\u001b[2m\u001b[36m(RolloutWorker pid=7532)\u001b[0m reset triggered\n",
      "\u001b[2m\u001b[36m(RolloutWorker pid=7532)\u001b[0m reload save for track : 72\n"
     ]
    },
    {
     "name": "stderr",
     "output_type": "stream",
     "text": [
      "\u001b[2m\u001b[36m(RolloutWorker pid=7532)\u001b[0m c:\\Users\\nadir\\anaconda3\\envs\\GTRay2.4.0\\lib\\site-packages\\rtgym\\envs\\real_time_env.py:376: UserWarning: Time-step timed out. Elapsed since last time-step: 0.16932789992870312\n",
      "\u001b[2m\u001b[36m(RolloutWorker pid=7532)\u001b[0m   warnings.warn(f\"Time-step timed out. Elapsed since last time-step: {now - self.__t_end}\")\n"
     ]
    },
    {
     "name": "stdout",
     "output_type": "stream",
     "text": [
      "Loop:  88\n"
     ]
    },
    {
     "name": "stderr",
     "output_type": "stream",
     "text": [
      "\u001b[2m\u001b[36m(RolloutWorker pid=7532)\u001b[0m c:\\Users\\nadir\\anaconda3\\envs\\GTRay2.4.0\\lib\\site-packages\\rtgym\\envs\\real_time_env.py:376: UserWarning: Time-step timed out. Elapsed since last time-step: 2.18965109996725\n",
      "\u001b[2m\u001b[36m(RolloutWorker pid=7532)\u001b[0m   warnings.warn(f\"Time-step timed out. Elapsed since last time-step: {now - self.__t_end}\")\n"
     ]
    },
    {
     "name": "stdout",
     "output_type": "stream",
     "text": [
      "\u001b[2m\u001b[36m(RolloutWorker pid=7532)\u001b[0m reset triggered\n",
      "\u001b[2m\u001b[36m(RolloutWorker pid=7532)\u001b[0m reload save for track : 72\n"
     ]
    },
    {
     "name": "stderr",
     "output_type": "stream",
     "text": [
      "\u001b[2m\u001b[36m(RolloutWorker pid=7532)\u001b[0m c:\\Users\\nadir\\anaconda3\\envs\\GTRay2.4.0\\lib\\site-packages\\rtgym\\envs\\real_time_env.py:376: UserWarning: Time-step timed out. Elapsed since last time-step: 0.14062369994326218\n",
      "\u001b[2m\u001b[36m(RolloutWorker pid=7532)\u001b[0m   warnings.warn(f\"Time-step timed out. Elapsed since last time-step: {now - self.__t_end}\")\n",
      "\u001b[2m\u001b[36m(RolloutWorker pid=7532)\u001b[0m c:\\Users\\nadir\\anaconda3\\envs\\GTRay2.4.0\\lib\\site-packages\\rtgym\\envs\\real_time_env.py:376: UserWarning: Time-step timed out. Elapsed since last time-step: 0.05037609994815284\n",
      "\u001b[2m\u001b[36m(RolloutWorker pid=7532)\u001b[0m   warnings.warn(f\"Time-step timed out. Elapsed since last time-step: {now - self.__t_end}\")\n"
     ]
    },
    {
     "name": "stdout",
     "output_type": "stream",
     "text": [
      "Loop:  89\n"
     ]
    },
    {
     "name": "stderr",
     "output_type": "stream",
     "text": [
      "\u001b[2m\u001b[36m(RolloutWorker pid=7532)\u001b[0m c:\\Users\\nadir\\anaconda3\\envs\\GTRay2.4.0\\lib\\site-packages\\rtgym\\envs\\real_time_env.py:376: UserWarning: Time-step timed out. Elapsed since last time-step: 2.211960299999646\n",
      "\u001b[2m\u001b[36m(RolloutWorker pid=7532)\u001b[0m   warnings.warn(f\"Time-step timed out. Elapsed since last time-step: {now - self.__t_end}\")\n",
      "\u001b[2m\u001b[36m(RolloutWorker pid=7532)\u001b[0m c:\\Users\\nadir\\anaconda3\\envs\\GTRay2.4.0\\lib\\site-packages\\rtgym\\envs\\real_time_env.py:376: UserWarning: Time-step timed out. Elapsed since last time-step: 0.11399489997256751\n",
      "\u001b[2m\u001b[36m(RolloutWorker pid=7532)\u001b[0m   warnings.warn(f\"Time-step timed out. Elapsed since last time-step: {now - self.__t_end}\")\n"
     ]
    },
    {
     "name": "stdout",
     "output_type": "stream",
     "text": [
      "\u001b[2m\u001b[36m(RolloutWorker pid=7532)\u001b[0m reset triggered\n",
      "\u001b[2m\u001b[36m(RolloutWorker pid=7532)\u001b[0m reload save for track : 72\n"
     ]
    },
    {
     "name": "stderr",
     "output_type": "stream",
     "text": [
      "\u001b[2m\u001b[36m(RolloutWorker pid=7532)\u001b[0m c:\\Users\\nadir\\anaconda3\\envs\\GTRay2.4.0\\lib\\site-packages\\rtgym\\envs\\real_time_env.py:376: UserWarning: Time-step timed out. Elapsed since last time-step: 0.07543569993049459\n",
      "\u001b[2m\u001b[36m(RolloutWorker pid=7532)\u001b[0m   warnings.warn(f\"Time-step timed out. Elapsed since last time-step: {now - self.__t_end}\")\n",
      "\u001b[2m\u001b[36m(RolloutWorker pid=7532)\u001b[0m c:\\Users\\nadir\\anaconda3\\envs\\GTRay2.4.0\\lib\\site-packages\\rtgym\\envs\\real_time_env.py:376: UserWarning: Time-step timed out. Elapsed since last time-step: 0.13871129999688492\n",
      "\u001b[2m\u001b[36m(RolloutWorker pid=7532)\u001b[0m   warnings.warn(f\"Time-step timed out. Elapsed since last time-step: {now - self.__t_end}\")\n"
     ]
    },
    {
     "name": "stdout",
     "output_type": "stream",
     "text": [
      "\u001b[2m\u001b[36m(RolloutWorker pid=7532)\u001b[0m reset triggered\n",
      "\u001b[2m\u001b[36m(RolloutWorker pid=7532)\u001b[0m reload save for track : 72\n",
      "Loop:  90\n",
      "Saved 90\n"
     ]
    },
    {
     "name": "stderr",
     "output_type": "stream",
     "text": [
      "\u001b[2m\u001b[36m(RolloutWorker pid=7532)\u001b[0m c:\\Users\\nadir\\anaconda3\\envs\\GTRay2.4.0\\lib\\site-packages\\rtgym\\envs\\real_time_env.py:376: UserWarning: Time-step timed out. Elapsed since last time-step: 2.1269507999909365\n",
      "\u001b[2m\u001b[36m(RolloutWorker pid=7532)\u001b[0m   warnings.warn(f\"Time-step timed out. Elapsed since last time-step: {now - self.__t_end}\")\n",
      "\u001b[2m\u001b[36m(RolloutWorker pid=7532)\u001b[0m c:\\Users\\nadir\\anaconda3\\envs\\GTRay2.4.0\\lib\\site-packages\\rtgym\\envs\\real_time_env.py:376: UserWarning: Time-step timed out. Elapsed since last time-step: 0.1426499999488442\n",
      "\u001b[2m\u001b[36m(RolloutWorker pid=7532)\u001b[0m   warnings.warn(f\"Time-step timed out. Elapsed since last time-step: {now - self.__t_end}\")\n"
     ]
    },
    {
     "name": "stdout",
     "output_type": "stream",
     "text": [
      "\u001b[2m\u001b[36m(RolloutWorker pid=7532)\u001b[0m reset triggered\n",
      "\u001b[2m\u001b[36m(RolloutWorker pid=7532)\u001b[0m reload save for track : 72\n",
      "Loop:  91\n"
     ]
    },
    {
     "name": "stderr",
     "output_type": "stream",
     "text": [
      "\u001b[2m\u001b[36m(RolloutWorker pid=7532)\u001b[0m c:\\Users\\nadir\\anaconda3\\envs\\GTRay2.4.0\\lib\\site-packages\\rtgym\\envs\\real_time_env.py:376: UserWarning: Time-step timed out. Elapsed since last time-step: 2.1927135999421807\n",
      "\u001b[2m\u001b[36m(RolloutWorker pid=7532)\u001b[0m   warnings.warn(f\"Time-step timed out. Elapsed since last time-step: {now - self.__t_end}\")\n",
      "\u001b[2m\u001b[36m(RolloutWorker pid=7532)\u001b[0m c:\\Users\\nadir\\anaconda3\\envs\\GTRay2.4.0\\lib\\site-packages\\rtgym\\envs\\real_time_env.py:376: UserWarning: Time-step timed out. Elapsed since last time-step: 0.14486359999773413\n",
      "\u001b[2m\u001b[36m(RolloutWorker pid=7532)\u001b[0m   warnings.warn(f\"Time-step timed out. Elapsed since last time-step: {now - self.__t_end}\")\n",
      "\u001b[2m\u001b[36m(RolloutWorker pid=7532)\u001b[0m c:\\Users\\nadir\\anaconda3\\envs\\GTRay2.4.0\\lib\\site-packages\\rtgym\\envs\\real_time_env.py:376: UserWarning: Time-step timed out. Elapsed since last time-step: 0.1131712999786032\n",
      "\u001b[2m\u001b[36m(RolloutWorker pid=7532)\u001b[0m   warnings.warn(f\"Time-step timed out. Elapsed since last time-step: {now - self.__t_end}\")\n"
     ]
    },
    {
     "name": "stdout",
     "output_type": "stream",
     "text": [
      "\u001b[2m\u001b[36m(RolloutWorker pid=7532)\u001b[0m reset triggered\n",
      "\u001b[2m\u001b[36m(RolloutWorker pid=7532)\u001b[0m reload save for track : 72\n"
     ]
    },
    {
     "name": "stderr",
     "output_type": "stream",
     "text": [
      "\u001b[2m\u001b[36m(RolloutWorker pid=7532)\u001b[0m c:\\Users\\nadir\\anaconda3\\envs\\GTRay2.4.0\\lib\\site-packages\\rtgym\\envs\\real_time_env.py:376: UserWarning: Time-step timed out. Elapsed since last time-step: 0.06743639991464079\n",
      "\u001b[2m\u001b[36m(RolloutWorker pid=7532)\u001b[0m   warnings.warn(f\"Time-step timed out. Elapsed since last time-step: {now - self.__t_end}\")\n"
     ]
    },
    {
     "name": "stdout",
     "output_type": "stream",
     "text": [
      "Loop:  92\n"
     ]
    },
    {
     "name": "stderr",
     "output_type": "stream",
     "text": [
      "\u001b[2m\u001b[36m(RolloutWorker pid=7532)\u001b[0m c:\\Users\\nadir\\anaconda3\\envs\\GTRay2.4.0\\lib\\site-packages\\rtgym\\envs\\real_time_env.py:376: UserWarning: Time-step timed out. Elapsed since last time-step: 1.8837368999998034\n",
      "\u001b[2m\u001b[36m(RolloutWorker pid=7532)\u001b[0m   warnings.warn(f\"Time-step timed out. Elapsed since last time-step: {now - self.__t_end}\")\n"
     ]
    },
    {
     "name": "stdout",
     "output_type": "stream",
     "text": [
      "\u001b[2m\u001b[36m(RolloutWorker pid=7532)\u001b[0m reset triggered\n",
      "\u001b[2m\u001b[36m(RolloutWorker pid=7532)\u001b[0m reload save for track : 72\n"
     ]
    },
    {
     "name": "stderr",
     "output_type": "stream",
     "text": [
      "\u001b[2m\u001b[36m(RolloutWorker pid=7532)\u001b[0m c:\\Users\\nadir\\anaconda3\\envs\\GTRay2.4.0\\lib\\site-packages\\rtgym\\envs\\real_time_env.py:376: UserWarning: Time-step timed out. Elapsed since last time-step: 0.10813619997634305\n",
      "\u001b[2m\u001b[36m(RolloutWorker pid=7532)\u001b[0m   warnings.warn(f\"Time-step timed out. Elapsed since last time-step: {now - self.__t_end}\")\n",
      "\u001b[2m\u001b[36m(RolloutWorker pid=7532)\u001b[0m c:\\Users\\nadir\\anaconda3\\envs\\GTRay2.4.0\\lib\\site-packages\\rtgym\\envs\\real_time_env.py:376: UserWarning: Time-step timed out. Elapsed since last time-step: 0.13994829992907398\n",
      "\u001b[2m\u001b[36m(RolloutWorker pid=7532)\u001b[0m   warnings.warn(f\"Time-step timed out. Elapsed since last time-step: {now - self.__t_end}\")\n"
     ]
    },
    {
     "name": "stdout",
     "output_type": "stream",
     "text": [
      "\u001b[2m\u001b[36m(RolloutWorker pid=7532)\u001b[0m reset triggered\n",
      "\u001b[2m\u001b[36m(RolloutWorker pid=7532)\u001b[0m reload save for track : 72\n",
      "Loop:  93\n"
     ]
    },
    {
     "name": "stderr",
     "output_type": "stream",
     "text": [
      "\u001b[2m\u001b[36m(RolloutWorker pid=7532)\u001b[0m c:\\Users\\nadir\\anaconda3\\envs\\GTRay2.4.0\\lib\\site-packages\\rtgym\\envs\\real_time_env.py:376: UserWarning: Time-step timed out. Elapsed since last time-step: 2.116993199985245\n",
      "\u001b[2m\u001b[36m(RolloutWorker pid=7532)\u001b[0m   warnings.warn(f\"Time-step timed out. Elapsed since last time-step: {now - self.__t_end}\")\n",
      "\u001b[2m\u001b[36m(RolloutWorker pid=7532)\u001b[0m c:\\Users\\nadir\\anaconda3\\envs\\GTRay2.4.0\\lib\\site-packages\\rtgym\\envs\\real_time_env.py:376: UserWarning: Time-step timed out. Elapsed since last time-step: 0.15375319990562275\n",
      "\u001b[2m\u001b[36m(RolloutWorker pid=7532)\u001b[0m   warnings.warn(f\"Time-step timed out. Elapsed since last time-step: {now - self.__t_end}\")\n"
     ]
    },
    {
     "name": "stdout",
     "output_type": "stream",
     "text": [
      "\u001b[2m\u001b[36m(RolloutWorker pid=7532)\u001b[0m reset triggered\n",
      "\u001b[2m\u001b[36m(RolloutWorker pid=7532)\u001b[0m reload save for track : 72\n",
      "Loop:  94\n"
     ]
    },
    {
     "name": "stderr",
     "output_type": "stream",
     "text": [
      "\u001b[2m\u001b[36m(RolloutWorker pid=7532)\u001b[0m c:\\Users\\nadir\\anaconda3\\envs\\GTRay2.4.0\\lib\\site-packages\\rtgym\\envs\\real_time_env.py:376: UserWarning: Time-step timed out. Elapsed since last time-step: 2.124634699985563\n",
      "\u001b[2m\u001b[36m(RolloutWorker pid=7532)\u001b[0m   warnings.warn(f\"Time-step timed out. Elapsed since last time-step: {now - self.__t_end}\")\n",
      "\u001b[2m\u001b[36m(RolloutWorker pid=7532)\u001b[0m c:\\Users\\nadir\\anaconda3\\envs\\GTRay2.4.0\\lib\\site-packages\\rtgym\\envs\\real_time_env.py:376: UserWarning: Time-step timed out. Elapsed since last time-step: 0.05855909997535491\n",
      "\u001b[2m\u001b[36m(RolloutWorker pid=7532)\u001b[0m   warnings.warn(f\"Time-step timed out. Elapsed since last time-step: {now - self.__t_end}\")\n"
     ]
    },
    {
     "name": "stdout",
     "output_type": "stream",
     "text": [
      "\u001b[2m\u001b[36m(RolloutWorker pid=7532)\u001b[0m reset triggered\n",
      "\u001b[2m\u001b[36m(RolloutWorker pid=7532)\u001b[0m reload save for track : 72\n"
     ]
    },
    {
     "name": "stderr",
     "output_type": "stream",
     "text": [
      "\u001b[2m\u001b[36m(RolloutWorker pid=7532)\u001b[0m c:\\Users\\nadir\\anaconda3\\envs\\GTRay2.4.0\\lib\\site-packages\\rtgym\\envs\\real_time_env.py:376: UserWarning: Time-step timed out. Elapsed since last time-step: 0.19622439992963336\n",
      "\u001b[2m\u001b[36m(RolloutWorker pid=7532)\u001b[0m   warnings.warn(f\"Time-step timed out. Elapsed since last time-step: {now - self.__t_end}\")\n"
     ]
    },
    {
     "name": "stdout",
     "output_type": "stream",
     "text": [
      "Loop:  95\n"
     ]
    },
    {
     "name": "stderr",
     "output_type": "stream",
     "text": [
      "\u001b[2m\u001b[36m(RolloutWorker pid=7532)\u001b[0m c:\\Users\\nadir\\anaconda3\\envs\\GTRay2.4.0\\lib\\site-packages\\rtgym\\envs\\real_time_env.py:376: UserWarning: Time-step timed out. Elapsed since last time-step: 2.0364596999856985\n",
      "\u001b[2m\u001b[36m(RolloutWorker pid=7532)\u001b[0m   warnings.warn(f\"Time-step timed out. Elapsed since last time-step: {now - self.__t_end}\")\n"
     ]
    },
    {
     "name": "stdout",
     "output_type": "stream",
     "text": [
      "\u001b[2m\u001b[36m(RolloutWorker pid=7532)\u001b[0m reset triggered\n",
      "\u001b[2m\u001b[36m(RolloutWorker pid=7532)\u001b[0m reload save for track : 72\n"
     ]
    },
    {
     "name": "stderr",
     "output_type": "stream",
     "text": [
      "\u001b[2m\u001b[36m(RolloutWorker pid=7532)\u001b[0m c:\\Users\\nadir\\anaconda3\\envs\\GTRay2.4.0\\lib\\site-packages\\rtgym\\envs\\real_time_env.py:376: UserWarning: Time-step timed out. Elapsed since last time-step: 0.1596188999055812\n",
      "\u001b[2m\u001b[36m(RolloutWorker pid=7532)\u001b[0m   warnings.warn(f\"Time-step timed out. Elapsed since last time-step: {now - self.__t_end}\")\n"
     ]
    },
    {
     "name": "stdout",
     "output_type": "stream",
     "text": [
      "Loop:  96\n"
     ]
    },
    {
     "name": "stderr",
     "output_type": "stream",
     "text": [
      "\u001b[2m\u001b[36m(RolloutWorker pid=7532)\u001b[0m c:\\Users\\nadir\\anaconda3\\envs\\GTRay2.4.0\\lib\\site-packages\\rtgym\\envs\\real_time_env.py:376: UserWarning: Time-step timed out. Elapsed since last time-step: 2.0518687999851863\n",
      "\u001b[2m\u001b[36m(RolloutWorker pid=7532)\u001b[0m   warnings.warn(f\"Time-step timed out. Elapsed since last time-step: {now - self.__t_end}\")\n",
      "\u001b[2m\u001b[36m(RolloutWorker pid=7532)\u001b[0m c:\\Users\\nadir\\anaconda3\\envs\\GTRay2.4.0\\lib\\site-packages\\rtgym\\envs\\real_time_env.py:376: UserWarning: Time-step timed out. Elapsed since last time-step: 0.12194459995635043\n",
      "\u001b[2m\u001b[36m(RolloutWorker pid=7532)\u001b[0m   warnings.warn(f\"Time-step timed out. Elapsed since last time-step: {now - self.__t_end}\")\n"
     ]
    },
    {
     "name": "stdout",
     "output_type": "stream",
     "text": [
      "\u001b[2m\u001b[36m(RolloutWorker pid=7532)\u001b[0m reset triggered\n",
      "\u001b[2m\u001b[36m(RolloutWorker pid=7532)\u001b[0m reload save for track : 72\n",
      "Loop:  97\n"
     ]
    },
    {
     "name": "stderr",
     "output_type": "stream",
     "text": [
      "\u001b[2m\u001b[36m(RolloutWorker pid=7532)\u001b[0m c:\\Users\\nadir\\anaconda3\\envs\\GTRay2.4.0\\lib\\site-packages\\rtgym\\envs\\real_time_env.py:376: UserWarning: Time-step timed out. Elapsed since last time-step: 2.069189299934351\n",
      "\u001b[2m\u001b[36m(RolloutWorker pid=7532)\u001b[0m   warnings.warn(f\"Time-step timed out. Elapsed since last time-step: {now - self.__t_end}\")\n"
     ]
    },
    {
     "name": "stdout",
     "output_type": "stream",
     "text": [
      "\u001b[2m\u001b[36m(RolloutWorker pid=7532)\u001b[0m reset triggered\n",
      "\u001b[2m\u001b[36m(RolloutWorker pid=7532)\u001b[0m reload save for track : 72\n"
     ]
    },
    {
     "name": "stderr",
     "output_type": "stream",
     "text": [
      "\u001b[2m\u001b[36m(RolloutWorker pid=7532)\u001b[0m c:\\Users\\nadir\\anaconda3\\envs\\GTRay2.4.0\\lib\\site-packages\\rtgym\\envs\\real_time_env.py:376: UserWarning: Time-step timed out. Elapsed since last time-step: 0.12077899996302222\n",
      "\u001b[2m\u001b[36m(RolloutWorker pid=7532)\u001b[0m   warnings.warn(f\"Time-step timed out. Elapsed since last time-step: {now - self.__t_end}\")\n"
     ]
    },
    {
     "name": "stdout",
     "output_type": "stream",
     "text": [
      "Loop:  98\n",
      "\u001b[2m\u001b[36m(RolloutWorker pid=7532)\u001b[0m reset triggered\n",
      "\u001b[2m\u001b[36m(RolloutWorker pid=7532)\u001b[0m reload save for track : 72\n"
     ]
    },
    {
     "name": "stderr",
     "output_type": "stream",
     "text": [
      "\u001b[2m\u001b[36m(RolloutWorker pid=7532)\u001b[0m c:\\Users\\nadir\\anaconda3\\envs\\GTRay2.4.0\\lib\\site-packages\\rtgym\\envs\\real_time_env.py:376: UserWarning: Time-step timed out. Elapsed since last time-step: 2.1282976999282255\n",
      "\u001b[2m\u001b[36m(RolloutWorker pid=7532)\u001b[0m   warnings.warn(f\"Time-step timed out. Elapsed since last time-step: {now - self.__t_end}\")\n",
      "\u001b[2m\u001b[36m(RolloutWorker pid=7532)\u001b[0m c:\\Users\\nadir\\anaconda3\\envs\\GTRay2.4.0\\lib\\site-packages\\rtgym\\envs\\real_time_env.py:376: UserWarning: Time-step timed out. Elapsed since last time-step: 0.10445319999962521\n",
      "\u001b[2m\u001b[36m(RolloutWorker pid=7532)\u001b[0m   warnings.warn(f\"Time-step timed out. Elapsed since last time-step: {now - self.__t_end}\")\n",
      "\u001b[2m\u001b[36m(RolloutWorker pid=7532)\u001b[0m c:\\Users\\nadir\\anaconda3\\envs\\GTRay2.4.0\\lib\\site-packages\\rtgym\\envs\\real_time_env.py:376: UserWarning: Time-step timed out. Elapsed since last time-step: 0.08474939989127961\n",
      "\u001b[2m\u001b[36m(RolloutWorker pid=7532)\u001b[0m   warnings.warn(f\"Time-step timed out. Elapsed since last time-step: {now - self.__t_end}\")\n"
     ]
    },
    {
     "name": "stdout",
     "output_type": "stream",
     "text": [
      "Loop:  99\n",
      "\u001b[2m\u001b[36m(RolloutWorker pid=7532)\u001b[0m reset triggered\n",
      "\u001b[2m\u001b[36m(RolloutWorker pid=7532)\u001b[0m reload save for track : 72\n"
     ]
    },
    {
     "name": "stderr",
     "output_type": "stream",
     "text": [
      "\u001b[2m\u001b[36m(RolloutWorker pid=7532)\u001b[0m c:\\Users\\nadir\\anaconda3\\envs\\GTRay2.4.0\\lib\\site-packages\\rtgym\\envs\\real_time_env.py:376: UserWarning: Time-step timed out. Elapsed since last time-step: 2.17436459999999\n",
      "\u001b[2m\u001b[36m(RolloutWorker pid=7532)\u001b[0m   warnings.warn(f\"Time-step timed out. Elapsed since last time-step: {now - self.__t_end}\")\n",
      "\u001b[2m\u001b[36m(RolloutWorker pid=7532)\u001b[0m c:\\Users\\nadir\\anaconda3\\envs\\GTRay2.4.0\\lib\\site-packages\\rtgym\\envs\\real_time_env.py:376: UserWarning: Time-step timed out. Elapsed since last time-step: 0.11858499999971173\n",
      "\u001b[2m\u001b[36m(RolloutWorker pid=7532)\u001b[0m   warnings.warn(f\"Time-step timed out. Elapsed since last time-step: {now - self.__t_end}\")\n"
     ]
    },
    {
     "name": "stdout",
     "output_type": "stream",
     "text": [
      "\u001b[2m\u001b[36m(RolloutWorker pid=7532)\u001b[0m reset triggered\n",
      "\u001b[2m\u001b[36m(RolloutWorker pid=7532)\u001b[0m reload save for track : 72\n"
     ]
    },
    {
     "name": "stderr",
     "output_type": "stream",
     "text": [
      "\u001b[2m\u001b[36m(RolloutWorker pid=7532)\u001b[0m c:\\Users\\nadir\\anaconda3\\envs\\GTRay2.4.0\\lib\\site-packages\\rtgym\\envs\\real_time_env.py:376: UserWarning: Time-step timed out. Elapsed since last time-step: 0.17996929991431898\n",
      "\u001b[2m\u001b[36m(RolloutWorker pid=7532)\u001b[0m   warnings.warn(f\"Time-step timed out. Elapsed since last time-step: {now - self.__t_end}\")\n"
     ]
    },
    {
     "name": "stdout",
     "output_type": "stream",
     "text": [
      "Loop:  100\n",
      "Saved 100\n"
     ]
    },
    {
     "name": "stderr",
     "output_type": "stream",
     "text": [
      "\u001b[2m\u001b[36m(RolloutWorker pid=7532)\u001b[0m c:\\Users\\nadir\\anaconda3\\envs\\GTRay2.4.0\\lib\\site-packages\\rtgym\\envs\\real_time_env.py:376: UserWarning: Time-step timed out. Elapsed since last time-step: 2.159438499976659\n",
      "\u001b[2m\u001b[36m(RolloutWorker pid=7532)\u001b[0m   warnings.warn(f\"Time-step timed out. Elapsed since last time-step: {now - self.__t_end}\")\n"
     ]
    },
    {
     "name": "stdout",
     "output_type": "stream",
     "text": [
      "\u001b[2m\u001b[36m(RolloutWorker pid=7532)\u001b[0m reset triggered\n",
      "\u001b[2m\u001b[36m(RolloutWorker pid=7532)\u001b[0m reload save for track : 72\n"
     ]
    },
    {
     "name": "stderr",
     "output_type": "stream",
     "text": [
      "\u001b[2m\u001b[36m(RolloutWorker pid=7532)\u001b[0m c:\\Users\\nadir\\anaconda3\\envs\\GTRay2.4.0\\lib\\site-packages\\rtgym\\envs\\real_time_env.py:376: UserWarning: Time-step timed out. Elapsed since last time-step: 0.15044649991386905\n",
      "\u001b[2m\u001b[36m(RolloutWorker pid=7532)\u001b[0m   warnings.warn(f\"Time-step timed out. Elapsed since last time-step: {now - self.__t_end}\")\n"
     ]
    },
    {
     "name": "stdout",
     "output_type": "stream",
     "text": [
      "Loop:  101\n"
     ]
    },
    {
     "name": "stderr",
     "output_type": "stream",
     "text": [
      "\u001b[2m\u001b[36m(RolloutWorker pid=7532)\u001b[0m c:\\Users\\nadir\\anaconda3\\envs\\GTRay2.4.0\\lib\\site-packages\\rtgym\\envs\\real_time_env.py:376: UserWarning: Time-step timed out. Elapsed since last time-step: 2.1727747999771054\n",
      "\u001b[2m\u001b[36m(RolloutWorker pid=7532)\u001b[0m   warnings.warn(f\"Time-step timed out. Elapsed since last time-step: {now - self.__t_end}\")\n"
     ]
    },
    {
     "name": "stdout",
     "output_type": "stream",
     "text": [
      "\u001b[2m\u001b[36m(RolloutWorker pid=7532)\u001b[0m reset triggered\n",
      "\u001b[2m\u001b[36m(RolloutWorker pid=7532)\u001b[0m reload save for track : 72\n"
     ]
    },
    {
     "name": "stderr",
     "output_type": "stream",
     "text": [
      "\u001b[2m\u001b[36m(RolloutWorker pid=7532)\u001b[0m c:\\Users\\nadir\\anaconda3\\envs\\GTRay2.4.0\\lib\\site-packages\\rtgym\\envs\\real_time_env.py:376: UserWarning: Time-step timed out. Elapsed since last time-step: 0.1072106999558855\n",
      "\u001b[2m\u001b[36m(RolloutWorker pid=7532)\u001b[0m   warnings.warn(f\"Time-step timed out. Elapsed since last time-step: {now - self.__t_end}\")\n",
      "\u001b[2m\u001b[36m(RolloutWorker pid=7532)\u001b[0m c:\\Users\\nadir\\anaconda3\\envs\\GTRay2.4.0\\lib\\site-packages\\rtgym\\envs\\real_time_env.py:376: UserWarning: Time-step timed out. Elapsed since last time-step: 0.05443749999085412\n",
      "\u001b[2m\u001b[36m(RolloutWorker pid=7532)\u001b[0m   warnings.warn(f\"Time-step timed out. Elapsed since last time-step: {now - self.__t_end}\")\n"
     ]
    },
    {
     "name": "stdout",
     "output_type": "stream",
     "text": [
      "Loop:  102\n"
     ]
    },
    {
     "name": "stderr",
     "output_type": "stream",
     "text": [
      "\u001b[2m\u001b[36m(RolloutWorker pid=7532)\u001b[0m c:\\Users\\nadir\\anaconda3\\envs\\GTRay2.4.0\\lib\\site-packages\\rtgym\\envs\\real_time_env.py:376: UserWarning: Time-step timed out. Elapsed since last time-step: 2.245615899943914\n",
      "\u001b[2m\u001b[36m(RolloutWorker pid=7532)\u001b[0m   warnings.warn(f\"Time-step timed out. Elapsed since last time-step: {now - self.__t_end}\")\n"
     ]
    },
    {
     "name": "stdout",
     "output_type": "stream",
     "text": [
      "\u001b[2m\u001b[36m(RolloutWorker pid=7532)\u001b[0m reset triggered\n",
      "\u001b[2m\u001b[36m(RolloutWorker pid=7532)\u001b[0m reload save for track : 72\n"
     ]
    },
    {
     "name": "stderr",
     "output_type": "stream",
     "text": [
      "\u001b[2m\u001b[36m(RolloutWorker pid=7532)\u001b[0m c:\\Users\\nadir\\anaconda3\\envs\\GTRay2.4.0\\lib\\site-packages\\rtgym\\envs\\real_time_env.py:376: UserWarning: Time-step timed out. Elapsed since last time-step: 0.12632599995640703\n",
      "\u001b[2m\u001b[36m(RolloutWorker pid=7532)\u001b[0m   warnings.warn(f\"Time-step timed out. Elapsed since last time-step: {now - self.__t_end}\")\n"
     ]
    },
    {
     "name": "stdout",
     "output_type": "stream",
     "text": [
      "Loop:  103\n"
     ]
    },
    {
     "name": "stderr",
     "output_type": "stream",
     "text": [
      "\u001b[2m\u001b[36m(RolloutWorker pid=7532)\u001b[0m c:\\Users\\nadir\\anaconda3\\envs\\GTRay2.4.0\\lib\\site-packages\\rtgym\\envs\\real_time_env.py:376: UserWarning: Time-step timed out. Elapsed since last time-step: 2.168217599934451\n",
      "\u001b[2m\u001b[36m(RolloutWorker pid=7532)\u001b[0m   warnings.warn(f\"Time-step timed out. Elapsed since last time-step: {now - self.__t_end}\")\n"
     ]
    },
    {
     "name": "stdout",
     "output_type": "stream",
     "text": [
      "\u001b[2m\u001b[36m(RolloutWorker pid=7532)\u001b[0m reset triggered\n",
      "\u001b[2m\u001b[36m(RolloutWorker pid=7532)\u001b[0m reload save for track : 72\n"
     ]
    },
    {
     "name": "stderr",
     "output_type": "stream",
     "text": [
      "\u001b[2m\u001b[36m(RolloutWorker pid=7532)\u001b[0m c:\\Users\\nadir\\anaconda3\\envs\\GTRay2.4.0\\lib\\site-packages\\rtgym\\envs\\real_time_env.py:376: UserWarning: Time-step timed out. Elapsed since last time-step: 0.12532129995634023\n",
      "\u001b[2m\u001b[36m(RolloutWorker pid=7532)\u001b[0m   warnings.warn(f\"Time-step timed out. Elapsed since last time-step: {now - self.__t_end}\")\n"
     ]
    },
    {
     "name": "stdout",
     "output_type": "stream",
     "text": [
      "Loop:  104\n"
     ]
    },
    {
     "name": "stderr",
     "output_type": "stream",
     "text": [
      "\u001b[2m\u001b[36m(RolloutWorker pid=7532)\u001b[0m c:\\Users\\nadir\\anaconda3\\envs\\GTRay2.4.0\\lib\\site-packages\\rtgym\\envs\\real_time_env.py:376: UserWarning: Time-step timed out. Elapsed since last time-step: 2.0835730999347106\n",
      "\u001b[2m\u001b[36m(RolloutWorker pid=7532)\u001b[0m   warnings.warn(f\"Time-step timed out. Elapsed since last time-step: {now - self.__t_end}\")\n"
     ]
    },
    {
     "name": "stdout",
     "output_type": "stream",
     "text": [
      "\u001b[2m\u001b[36m(RolloutWorker pid=7532)\u001b[0m reset triggered\n",
      "\u001b[2m\u001b[36m(RolloutWorker pid=7532)\u001b[0m reload save for track : 72\n"
     ]
    },
    {
     "name": "stderr",
     "output_type": "stream",
     "text": [
      "\u001b[2m\u001b[36m(RolloutWorker pid=7532)\u001b[0m c:\\Users\\nadir\\anaconda3\\envs\\GTRay2.4.0\\lib\\site-packages\\rtgym\\envs\\real_time_env.py:376: UserWarning: Time-step timed out. Elapsed since last time-step: 0.13304709999738407\n",
      "\u001b[2m\u001b[36m(RolloutWorker pid=7532)\u001b[0m   warnings.warn(f\"Time-step timed out. Elapsed since last time-step: {now - self.__t_end}\")\n",
      "\u001b[2m\u001b[36m(RolloutWorker pid=7532)\u001b[0m c:\\Users\\nadir\\anaconda3\\envs\\GTRay2.4.0\\lib\\site-packages\\rtgym\\envs\\real_time_env.py:376: UserWarning: Time-step timed out. Elapsed since last time-step: 0.10058029989340866\n",
      "\u001b[2m\u001b[36m(RolloutWorker pid=7532)\u001b[0m   warnings.warn(f\"Time-step timed out. Elapsed since last time-step: {now - self.__t_end}\")\n"
     ]
    },
    {
     "name": "stdout",
     "output_type": "stream",
     "text": [
      "Loop:  105\n"
     ]
    },
    {
     "name": "stderr",
     "output_type": "stream",
     "text": [
      "\u001b[2m\u001b[36m(RolloutWorker pid=7532)\u001b[0m c:\\Users\\nadir\\anaconda3\\envs\\GTRay2.4.0\\lib\\site-packages\\rtgym\\envs\\real_time_env.py:376: UserWarning: Time-step timed out. Elapsed since last time-step: 2.1893190999999206\n",
      "\u001b[2m\u001b[36m(RolloutWorker pid=7532)\u001b[0m   warnings.warn(f\"Time-step timed out. Elapsed since last time-step: {now - self.__t_end}\")\n"
     ]
    },
    {
     "name": "stdout",
     "output_type": "stream",
     "text": [
      "\u001b[2m\u001b[36m(RolloutWorker pid=7532)\u001b[0m reset triggered\n",
      "\u001b[2m\u001b[36m(RolloutWorker pid=7532)\u001b[0m reload save for track : 72\n"
     ]
    },
    {
     "name": "stderr",
     "output_type": "stream",
     "text": [
      "\u001b[2m\u001b[36m(RolloutWorker pid=7532)\u001b[0m c:\\Users\\nadir\\anaconda3\\envs\\GTRay2.4.0\\lib\\site-packages\\rtgym\\envs\\real_time_env.py:376: UserWarning: Time-step timed out. Elapsed since last time-step: 0.10363469999765584\n",
      "\u001b[2m\u001b[36m(RolloutWorker pid=7532)\u001b[0m   warnings.warn(f\"Time-step timed out. Elapsed since last time-step: {now - self.__t_end}\")\n",
      "\u001b[2m\u001b[36m(RolloutWorker pid=7532)\u001b[0m c:\\Users\\nadir\\anaconda3\\envs\\GTRay2.4.0\\lib\\site-packages\\rtgym\\envs\\real_time_env.py:376: UserWarning: Time-step timed out. Elapsed since last time-step: 0.09047899989354846\n",
      "\u001b[2m\u001b[36m(RolloutWorker pid=7532)\u001b[0m   warnings.warn(f\"Time-step timed out. Elapsed since last time-step: {now - self.__t_end}\")\n"
     ]
    },
    {
     "name": "stdout",
     "output_type": "stream",
     "text": [
      "Loop:  106\n"
     ]
    },
    {
     "name": "stderr",
     "output_type": "stream",
     "text": [
      "\u001b[2m\u001b[36m(RolloutWorker pid=7532)\u001b[0m c:\\Users\\nadir\\anaconda3\\envs\\GTRay2.4.0\\lib\\site-packages\\rtgym\\envs\\real_time_env.py:376: UserWarning: Time-step timed out. Elapsed since last time-step: 2.214409899999737\n",
      "\u001b[2m\u001b[36m(RolloutWorker pid=7532)\u001b[0m   warnings.warn(f\"Time-step timed out. Elapsed since last time-step: {now - self.__t_end}\")\n"
     ]
    },
    {
     "name": "stdout",
     "output_type": "stream",
     "text": [
      "\u001b[2m\u001b[36m(RolloutWorker pid=7532)\u001b[0m reset triggered\n",
      "\u001b[2m\u001b[36m(RolloutWorker pid=7532)\u001b[0m reload save for track : 72\n"
     ]
    },
    {
     "name": "stderr",
     "output_type": "stream",
     "text": [
      "\u001b[2m\u001b[36m(RolloutWorker pid=7532)\u001b[0m c:\\Users\\nadir\\anaconda3\\envs\\GTRay2.4.0\\lib\\site-packages\\rtgym\\envs\\real_time_env.py:376: UserWarning: Time-step timed out. Elapsed since last time-step: 0.10802039999771296\n",
      "\u001b[2m\u001b[36m(RolloutWorker pid=7532)\u001b[0m   warnings.warn(f\"Time-step timed out. Elapsed since last time-step: {now - self.__t_end}\")\n"
     ]
    },
    {
     "name": "stdout",
     "output_type": "stream",
     "text": [
      "\u001b[2m\u001b[36m(RolloutWorker pid=7532)\u001b[0m reset triggered\n",
      "\u001b[2m\u001b[36m(RolloutWorker pid=7532)\u001b[0m reload save for track : 72\n"
     ]
    },
    {
     "name": "stderr",
     "output_type": "stream",
     "text": [
      "\u001b[2m\u001b[36m(RolloutWorker pid=7532)\u001b[0m c:\\Users\\nadir\\anaconda3\\envs\\GTRay2.4.0\\lib\\site-packages\\rtgym\\envs\\real_time_env.py:376: UserWarning: Time-step timed out. Elapsed since last time-step: 0.13740639993056902\n",
      "\u001b[2m\u001b[36m(RolloutWorker pid=7532)\u001b[0m   warnings.warn(f\"Time-step timed out. Elapsed since last time-step: {now - self.__t_end}\")\n"
     ]
    },
    {
     "name": "stdout",
     "output_type": "stream",
     "text": [
      "Loop:  107\n"
     ]
    },
    {
     "name": "stderr",
     "output_type": "stream",
     "text": [
      "\u001b[2m\u001b[36m(RolloutWorker pid=7532)\u001b[0m c:\\Users\\nadir\\anaconda3\\envs\\GTRay2.4.0\\lib\\site-packages\\rtgym\\envs\\real_time_env.py:376: UserWarning: Time-step timed out. Elapsed since last time-step: 2.0540943999626506\n",
      "\u001b[2m\u001b[36m(RolloutWorker pid=7532)\u001b[0m   warnings.warn(f\"Time-step timed out. Elapsed since last time-step: {now - self.__t_end}\")\n"
     ]
    },
    {
     "name": "stdout",
     "output_type": "stream",
     "text": [
      "\u001b[2m\u001b[36m(RolloutWorker pid=7532)\u001b[0m reset triggered\n",
      "\u001b[2m\u001b[36m(RolloutWorker pid=7532)\u001b[0m reload save for track : 72\n"
     ]
    },
    {
     "name": "stderr",
     "output_type": "stream",
     "text": [
      "\u001b[2m\u001b[36m(RolloutWorker pid=7532)\u001b[0m c:\\Users\\nadir\\anaconda3\\envs\\GTRay2.4.0\\lib\\site-packages\\rtgym\\envs\\real_time_env.py:376: UserWarning: Time-step timed out. Elapsed since last time-step: 0.15692139992825105\n",
      "\u001b[2m\u001b[36m(RolloutWorker pid=7532)\u001b[0m   warnings.warn(f\"Time-step timed out. Elapsed since last time-step: {now - self.__t_end}\")\n"
     ]
    },
    {
     "name": "stdout",
     "output_type": "stream",
     "text": [
      "Loop:  108\n"
     ]
    },
    {
     "name": "stderr",
     "output_type": "stream",
     "text": [
      "\u001b[2m\u001b[36m(RolloutWorker pid=7532)\u001b[0m c:\\Users\\nadir\\anaconda3\\envs\\GTRay2.4.0\\lib\\site-packages\\rtgym\\envs\\real_time_env.py:376: UserWarning: Time-step timed out. Elapsed since last time-step: 2.0479808999625675\n",
      "\u001b[2m\u001b[36m(RolloutWorker pid=7532)\u001b[0m   warnings.warn(f\"Time-step timed out. Elapsed since last time-step: {now - self.__t_end}\")\n"
     ]
    },
    {
     "name": "stdout",
     "output_type": "stream",
     "text": [
      "\u001b[2m\u001b[36m(RolloutWorker pid=7532)\u001b[0m reset triggered\n",
      "\u001b[2m\u001b[36m(RolloutWorker pid=7532)\u001b[0m reload save for track : 72\n"
     ]
    },
    {
     "name": "stderr",
     "output_type": "stream",
     "text": [
      "\u001b[2m\u001b[36m(RolloutWorker pid=7532)\u001b[0m c:\\Users\\nadir\\anaconda3\\envs\\GTRay2.4.0\\lib\\site-packages\\rtgym\\envs\\real_time_env.py:376: UserWarning: Time-step timed out. Elapsed since last time-step: 0.14202389995125486\n",
      "\u001b[2m\u001b[36m(RolloutWorker pid=7532)\u001b[0m   warnings.warn(f\"Time-step timed out. Elapsed since last time-step: {now - self.__t_end}\")\n"
     ]
    },
    {
     "name": "stdout",
     "output_type": "stream",
     "text": [
      "Loop:  109\n"
     ]
    },
    {
     "name": "stderr",
     "output_type": "stream",
     "text": [
      "\u001b[2m\u001b[36m(RolloutWorker pid=7532)\u001b[0m c:\\Users\\nadir\\anaconda3\\envs\\GTRay2.4.0\\lib\\site-packages\\rtgym\\envs\\real_time_env.py:376: UserWarning: Time-step timed out. Elapsed since last time-step: 2.047733499939568\n",
      "\u001b[2m\u001b[36m(RolloutWorker pid=7532)\u001b[0m   warnings.warn(f\"Time-step timed out. Elapsed since last time-step: {now - self.__t_end}\")\n"
     ]
    },
    {
     "name": "stdout",
     "output_type": "stream",
     "text": [
      "\u001b[2m\u001b[36m(RolloutWorker pid=7532)\u001b[0m reset triggered\n",
      "\u001b[2m\u001b[36m(RolloutWorker pid=7532)\u001b[0m reload save for track : 72\n"
     ]
    },
    {
     "name": "stderr",
     "output_type": "stream",
     "text": [
      "\u001b[2m\u001b[36m(RolloutWorker pid=7532)\u001b[0m c:\\Users\\nadir\\anaconda3\\envs\\GTRay2.4.0\\lib\\site-packages\\rtgym\\envs\\real_time_env.py:376: UserWarning: Time-step timed out. Elapsed since last time-step: 0.13127709996660997\n",
      "\u001b[2m\u001b[36m(RolloutWorker pid=7532)\u001b[0m   warnings.warn(f\"Time-step timed out. Elapsed since last time-step: {now - self.__t_end}\")\n",
      "\u001b[2m\u001b[36m(RolloutWorker pid=7532)\u001b[0m c:\\Users\\nadir\\anaconda3\\envs\\GTRay2.4.0\\lib\\site-packages\\rtgym\\envs\\real_time_env.py:376: UserWarning: Time-step timed out. Elapsed since last time-step: 0.12793049996344052\n",
      "\u001b[2m\u001b[36m(RolloutWorker pid=7532)\u001b[0m   warnings.warn(f\"Time-step timed out. Elapsed since last time-step: {now - self.__t_end}\")\n",
      "\u001b[2m\u001b[36m(RolloutWorker pid=7532)\u001b[0m c:\\Users\\nadir\\anaconda3\\envs\\GTRay2.4.0\\lib\\site-packages\\rtgym\\envs\\real_time_env.py:376: UserWarning: Time-step timed out. Elapsed since last time-step: 0.06030809996082098\n",
      "\u001b[2m\u001b[36m(RolloutWorker pid=7532)\u001b[0m   warnings.warn(f\"Time-step timed out. Elapsed since last time-step: {now - self.__t_end}\")\n"
     ]
    },
    {
     "name": "stdout",
     "output_type": "stream",
     "text": [
      "Loop:  110\n",
      "Saved 110\n"
     ]
    },
    {
     "name": "stderr",
     "output_type": "stream",
     "text": [
      "\u001b[2m\u001b[36m(RolloutWorker pid=7532)\u001b[0m c:\\Users\\nadir\\anaconda3\\envs\\GTRay2.4.0\\lib\\site-packages\\rtgym\\envs\\real_time_env.py:376: UserWarning: Time-step timed out. Elapsed since last time-step: 2.1474654999997256\n",
      "\u001b[2m\u001b[36m(RolloutWorker pid=7532)\u001b[0m   warnings.warn(f\"Time-step timed out. Elapsed since last time-step: {now - self.__t_end}\")\n"
     ]
    },
    {
     "name": "stdout",
     "output_type": "stream",
     "text": [
      "\u001b[2m\u001b[36m(RolloutWorker pid=7532)\u001b[0m reset triggered\n",
      "\u001b[2m\u001b[36m(RolloutWorker pid=7532)\u001b[0m reload save for track : 72\n"
     ]
    },
    {
     "name": "stderr",
     "output_type": "stream",
     "text": [
      "\u001b[2m\u001b[36m(RolloutWorker pid=7532)\u001b[0m c:\\Users\\nadir\\anaconda3\\envs\\GTRay2.4.0\\lib\\site-packages\\rtgym\\envs\\real_time_env.py:376: UserWarning: Time-step timed out. Elapsed since last time-step: 0.12499059996707729\n",
      "\u001b[2m\u001b[36m(RolloutWorker pid=7532)\u001b[0m   warnings.warn(f\"Time-step timed out. Elapsed since last time-step: {now - self.__t_end}\")\n",
      "\u001b[2m\u001b[36m(RolloutWorker pid=7532)\u001b[0m c:\\Users\\nadir\\anaconda3\\envs\\GTRay2.4.0\\lib\\site-packages\\rtgym\\envs\\real_time_env.py:376: UserWarning: Time-step timed out. Elapsed since last time-step: 0.06532199992398091\n",
      "\u001b[2m\u001b[36m(RolloutWorker pid=7532)\u001b[0m   warnings.warn(f\"Time-step timed out. Elapsed since last time-step: {now - self.__t_end}\")\n"
     ]
    },
    {
     "name": "stdout",
     "output_type": "stream",
     "text": [
      "Loop:  111\n"
     ]
    },
    {
     "name": "stderr",
     "output_type": "stream",
     "text": [
      "\u001b[2m\u001b[36m(RolloutWorker pid=7532)\u001b[0m c:\\Users\\nadir\\anaconda3\\envs\\GTRay2.4.0\\lib\\site-packages\\rtgym\\envs\\real_time_env.py:376: UserWarning: Time-step timed out. Elapsed since last time-step: 2.1425107000000025\n",
      "\u001b[2m\u001b[36m(RolloutWorker pid=7532)\u001b[0m   warnings.warn(f\"Time-step timed out. Elapsed since last time-step: {now - self.__t_end}\")\n"
     ]
    },
    {
     "name": "stdout",
     "output_type": "stream",
     "text": [
      "\u001b[2m\u001b[36m(RolloutWorker pid=7532)\u001b[0m reset triggered\n",
      "\u001b[2m\u001b[36m(RolloutWorker pid=7532)\u001b[0m reload save for track : 72\n"
     ]
    },
    {
     "name": "stderr",
     "output_type": "stream",
     "text": [
      "\u001b[2m\u001b[36m(RolloutWorker pid=7532)\u001b[0m c:\\Users\\nadir\\anaconda3\\envs\\GTRay2.4.0\\lib\\site-packages\\rtgym\\envs\\real_time_env.py:376: UserWarning: Time-step timed out. Elapsed since last time-step: 0.1318782999665018\n",
      "\u001b[2m\u001b[36m(RolloutWorker pid=7532)\u001b[0m   warnings.warn(f\"Time-step timed out. Elapsed since last time-step: {now - self.__t_end}\")\n",
      "\u001b[2m\u001b[36m(RolloutWorker pid=7532)\u001b[0m c:\\Users\\nadir\\anaconda3\\envs\\GTRay2.4.0\\lib\\site-packages\\rtgym\\envs\\real_time_env.py:376: UserWarning: Time-step timed out. Elapsed since last time-step: 0.06542929992474456\n",
      "\u001b[2m\u001b[36m(RolloutWorker pid=7532)\u001b[0m   warnings.warn(f\"Time-step timed out. Elapsed since last time-step: {now - self.__t_end}\")\n"
     ]
    },
    {
     "name": "stdout",
     "output_type": "stream",
     "text": [
      "Loop:  112\n"
     ]
    },
    {
     "name": "stderr",
     "output_type": "stream",
     "text": [
      "\u001b[2m\u001b[36m(RolloutWorker pid=7532)\u001b[0m c:\\Users\\nadir\\anaconda3\\envs\\GTRay2.4.0\\lib\\site-packages\\rtgym\\envs\\real_time_env.py:376: UserWarning: Time-step timed out. Elapsed since last time-step: 2.0437468999994053\n",
      "\u001b[2m\u001b[36m(RolloutWorker pid=7532)\u001b[0m   warnings.warn(f\"Time-step timed out. Elapsed since last time-step: {now - self.__t_end}\")\n",
      "\u001b[2m\u001b[36m(RolloutWorker pid=7532)\u001b[0m c:\\Users\\nadir\\anaconda3\\envs\\GTRay2.4.0\\lib\\site-packages\\rtgym\\envs\\real_time_env.py:376: UserWarning: Time-step timed out. Elapsed since last time-step: 0.1266419999669779\n",
      "\u001b[2m\u001b[36m(RolloutWorker pid=7532)\u001b[0m   warnings.warn(f\"Time-step timed out. Elapsed since last time-step: {now - self.__t_end}\")\n"
     ]
    },
    {
     "name": "stdout",
     "output_type": "stream",
     "text": [
      "\u001b[2m\u001b[36m(RolloutWorker pid=7532)\u001b[0m reset triggered\n",
      "\u001b[2m\u001b[36m(RolloutWorker pid=7532)\u001b[0m reload save for track : 72\n"
     ]
    },
    {
     "name": "stderr",
     "output_type": "stream",
     "text": [
      "\u001b[2m\u001b[36m(RolloutWorker pid=7532)\u001b[0m c:\\Users\\nadir\\anaconda3\\envs\\GTRay2.4.0\\lib\\site-packages\\rtgym\\envs\\real_time_env.py:376: UserWarning: Time-step timed out. Elapsed since last time-step: 0.06576469992432976\n",
      "\u001b[2m\u001b[36m(RolloutWorker pid=7532)\u001b[0m   warnings.warn(f\"Time-step timed out. Elapsed since last time-step: {now - self.__t_end}\")\n"
     ]
    },
    {
     "name": "stdout",
     "output_type": "stream",
     "text": [
      "Loop:  113\n"
     ]
    },
    {
     "name": "stderr",
     "output_type": "stream",
     "text": [
      "\u001b[2m\u001b[36m(RolloutWorker pid=7532)\u001b[0m c:\\Users\\nadir\\anaconda3\\envs\\GTRay2.4.0\\lib\\site-packages\\rtgym\\envs\\real_time_env.py:376: UserWarning: Time-step timed out. Elapsed since last time-step: 2.1132198999998764\n",
      "\u001b[2m\u001b[36m(RolloutWorker pid=7532)\u001b[0m   warnings.warn(f\"Time-step timed out. Elapsed since last time-step: {now - self.__t_end}\")\n",
      "\u001b[2m\u001b[36m(RolloutWorker pid=7532)\u001b[0m c:\\Users\\nadir\\anaconda3\\envs\\GTRay2.4.0\\lib\\site-packages\\rtgym\\envs\\real_time_env.py:376: UserWarning: Time-step timed out. Elapsed since last time-step: 0.11133479999625706\n",
      "\u001b[2m\u001b[36m(RolloutWorker pid=7532)\u001b[0m   warnings.warn(f\"Time-step timed out. Elapsed since last time-step: {now - self.__t_end}\")\n"
     ]
    },
    {
     "name": "stdout",
     "output_type": "stream",
     "text": [
      "\u001b[2m\u001b[36m(RolloutWorker pid=7532)\u001b[0m reset triggered\n",
      "\u001b[2m\u001b[36m(RolloutWorker pid=7532)\u001b[0m reload save for track : 72\n"
     ]
    },
    {
     "name": "stderr",
     "output_type": "stream",
     "text": [
      "\u001b[2m\u001b[36m(RolloutWorker pid=7532)\u001b[0m c:\\Users\\nadir\\anaconda3\\envs\\GTRay2.4.0\\lib\\site-packages\\rtgym\\envs\\real_time_env.py:376: UserWarning: Time-step timed out. Elapsed since last time-step: 0.07876599989458555\n",
      "\u001b[2m\u001b[36m(RolloutWorker pid=7532)\u001b[0m   warnings.warn(f\"Time-step timed out. Elapsed since last time-step: {now - self.__t_end}\")\n"
     ]
    },
    {
     "name": "stdout",
     "output_type": "stream",
     "text": [
      "Loop:  114\n"
     ]
    },
    {
     "name": "stderr",
     "output_type": "stream",
     "text": [
      "\u001b[2m\u001b[36m(RolloutWorker pid=7532)\u001b[0m c:\\Users\\nadir\\anaconda3\\envs\\GTRay2.4.0\\lib\\site-packages\\rtgym\\envs\\real_time_env.py:376: UserWarning: Time-step timed out. Elapsed since last time-step: 2.177785800000038\n",
      "\u001b[2m\u001b[36m(RolloutWorker pid=7532)\u001b[0m   warnings.warn(f\"Time-step timed out. Elapsed since last time-step: {now - self.__t_end}\")\n"
     ]
    },
    {
     "name": "stdout",
     "output_type": "stream",
     "text": [
      "\u001b[2m\u001b[36m(RolloutWorker pid=7532)\u001b[0m reset triggered\n",
      "\u001b[2m\u001b[36m(RolloutWorker pid=7532)\u001b[0m reload save for track : 72\n"
     ]
    },
    {
     "name": "stderr",
     "output_type": "stream",
     "text": [
      "\u001b[2m\u001b[36m(RolloutWorker pid=7532)\u001b[0m c:\\Users\\nadir\\anaconda3\\envs\\GTRay2.4.0\\lib\\site-packages\\rtgym\\envs\\real_time_env.py:376: UserWarning: Time-step timed out. Elapsed since last time-step: 0.1172993999962273\n",
      "\u001b[2m\u001b[36m(RolloutWorker pid=7532)\u001b[0m   warnings.warn(f\"Time-step timed out. Elapsed since last time-step: {now - self.__t_end}\")\n",
      "\u001b[2m\u001b[36m(RolloutWorker pid=7532)\u001b[0m c:\\Users\\nadir\\anaconda3\\envs\\GTRay2.4.0\\lib\\site-packages\\rtgym\\envs\\real_time_env.py:376: UserWarning: Time-step timed out. Elapsed since last time-step: 0.08752449989469824\n",
      "\u001b[2m\u001b[36m(RolloutWorker pid=7532)\u001b[0m   warnings.warn(f\"Time-step timed out. Elapsed since last time-step: {now - self.__t_end}\")\n"
     ]
    },
    {
     "name": "stdout",
     "output_type": "stream",
     "text": [
      "Loop:  115\n"
     ]
    },
    {
     "name": "stderr",
     "output_type": "stream",
     "text": [
      "\u001b[2m\u001b[36m(RolloutWorker pid=7532)\u001b[0m c:\\Users\\nadir\\anaconda3\\envs\\GTRay2.4.0\\lib\\site-packages\\rtgym\\envs\\real_time_env.py:376: UserWarning: Time-step timed out. Elapsed since last time-step: 2.020669799999723\n",
      "\u001b[2m\u001b[36m(RolloutWorker pid=7532)\u001b[0m   warnings.warn(f\"Time-step timed out. Elapsed since last time-step: {now - self.__t_end}\")\n",
      "\u001b[2m\u001b[36m(RolloutWorker pid=7532)\u001b[0m c:\\Users\\nadir\\anaconda3\\envs\\GTRay2.4.0\\lib\\site-packages\\rtgym\\envs\\real_time_env.py:376: UserWarning: Time-step timed out. Elapsed since last time-step: 0.10172569999622283\n",
      "\u001b[2m\u001b[36m(RolloutWorker pid=7532)\u001b[0m   warnings.warn(f\"Time-step timed out. Elapsed since last time-step: {now - self.__t_end}\")\n"
     ]
    },
    {
     "name": "stdout",
     "output_type": "stream",
     "text": [
      "\u001b[2m\u001b[36m(RolloutWorker pid=7532)\u001b[0m reset triggered\n",
      "\u001b[2m\u001b[36m(RolloutWorker pid=7532)\u001b[0m reload save for track : 72\n",
      "\u001b[2m\u001b[36m(RolloutWorker pid=7532)\u001b[0m reset triggered\n",
      "\u001b[2m\u001b[36m(RolloutWorker pid=7532)\u001b[0m reload save for track : 72\n"
     ]
    },
    {
     "name": "stderr",
     "output_type": "stream",
     "text": [
      "\u001b[2m\u001b[36m(RolloutWorker pid=7532)\u001b[0m c:\\Users\\nadir\\anaconda3\\envs\\GTRay2.4.0\\lib\\site-packages\\rtgym\\envs\\real_time_env.py:376: UserWarning: Time-step timed out. Elapsed since last time-step: 0.18001679991539277\n",
      "\u001b[2m\u001b[36m(RolloutWorker pid=7532)\u001b[0m   warnings.warn(f\"Time-step timed out. Elapsed since last time-step: {now - self.__t_end}\")\n"
     ]
    },
    {
     "name": "stdout",
     "output_type": "stream",
     "text": [
      "Loop:  116\n"
     ]
    },
    {
     "name": "stderr",
     "output_type": "stream",
     "text": [
      "\u001b[2m\u001b[36m(RolloutWorker pid=7532)\u001b[0m c:\\Users\\nadir\\anaconda3\\envs\\GTRay2.4.0\\lib\\site-packages\\rtgym\\envs\\real_time_env.py:376: UserWarning: Time-step timed out. Elapsed since last time-step: 2.10686019997911\n",
      "\u001b[2m\u001b[36m(RolloutWorker pid=7532)\u001b[0m   warnings.warn(f\"Time-step timed out. Elapsed since last time-step: {now - self.__t_end}\")\n"
     ]
    },
    {
     "name": "stdout",
     "output_type": "stream",
     "text": [
      "\u001b[2m\u001b[36m(RolloutWorker pid=7532)\u001b[0m reset triggered\n",
      "\u001b[2m\u001b[36m(RolloutWorker pid=7532)\u001b[0m reload save for track : 72\n"
     ]
    },
    {
     "name": "stderr",
     "output_type": "stream",
     "text": [
      "\u001b[2m\u001b[36m(RolloutWorker pid=7532)\u001b[0m c:\\Users\\nadir\\anaconda3\\envs\\GTRay2.4.0\\lib\\site-packages\\rtgym\\envs\\real_time_env.py:376: UserWarning: Time-step timed out. Elapsed since last time-step: 0.15308599995660188\n",
      "\u001b[2m\u001b[36m(RolloutWorker pid=7532)\u001b[0m   warnings.warn(f\"Time-step timed out. Elapsed since last time-step: {now - self.__t_end}\")\n"
     ]
    },
    {
     "name": "stdout",
     "output_type": "stream",
     "text": [
      "Loop:  117\n"
     ]
    },
    {
     "name": "stderr",
     "output_type": "stream",
     "text": [
      "\u001b[2m\u001b[36m(RolloutWorker pid=7532)\u001b[0m c:\\Users\\nadir\\anaconda3\\envs\\GTRay2.4.0\\lib\\site-packages\\rtgym\\envs\\real_time_env.py:376: UserWarning: Time-step timed out. Elapsed since last time-step: 2.076449899934687\n",
      "\u001b[2m\u001b[36m(RolloutWorker pid=7532)\u001b[0m   warnings.warn(f\"Time-step timed out. Elapsed since last time-step: {now - self.__t_end}\")\n"
     ]
    },
    {
     "name": "stdout",
     "output_type": "stream",
     "text": [
      "\u001b[2m\u001b[36m(RolloutWorker pid=7532)\u001b[0m reset triggered\n",
      "\u001b[2m\u001b[36m(RolloutWorker pid=7532)\u001b[0m reload save for track : 72\n"
     ]
    },
    {
     "name": "stderr",
     "output_type": "stream",
     "text": [
      "\u001b[2m\u001b[36m(RolloutWorker pid=7532)\u001b[0m c:\\Users\\nadir\\anaconda3\\envs\\GTRay2.4.0\\lib\\site-packages\\rtgym\\envs\\real_time_env.py:376: UserWarning: Time-step timed out. Elapsed since last time-step: 0.1335958999561626\n",
      "\u001b[2m\u001b[36m(RolloutWorker pid=7532)\u001b[0m   warnings.warn(f\"Time-step timed out. Elapsed since last time-step: {now - self.__t_end}\")\n"
     ]
    },
    {
     "name": "stdout",
     "output_type": "stream",
     "text": [
      "Loop:  118\n"
     ]
    },
    {
     "name": "stderr",
     "output_type": "stream",
     "text": [
      "\u001b[2m\u001b[36m(RolloutWorker pid=7532)\u001b[0m c:\\Users\\nadir\\anaconda3\\envs\\GTRay2.4.0\\lib\\site-packages\\rtgym\\envs\\real_time_env.py:376: UserWarning: Time-step timed out. Elapsed since last time-step: 2.0259388999343173\n",
      "\u001b[2m\u001b[36m(RolloutWorker pid=7532)\u001b[0m   warnings.warn(f\"Time-step timed out. Elapsed since last time-step: {now - self.__t_end}\")\n"
     ]
    },
    {
     "name": "stdout",
     "output_type": "stream",
     "text": [
      "\u001b[2m\u001b[36m(RolloutWorker pid=7532)\u001b[0m reset triggered\n",
      "\u001b[2m\u001b[36m(RolloutWorker pid=7532)\u001b[0m reload save for track : 72\n"
     ]
    },
    {
     "name": "stderr",
     "output_type": "stream",
     "text": [
      "\u001b[2m\u001b[36m(RolloutWorker pid=7532)\u001b[0m c:\\Users\\nadir\\anaconda3\\envs\\GTRay2.4.0\\lib\\site-packages\\rtgym\\envs\\real_time_env.py:376: UserWarning: Time-step timed out. Elapsed since last time-step: 0.12422139995669568\n",
      "\u001b[2m\u001b[36m(RolloutWorker pid=7532)\u001b[0m   warnings.warn(f\"Time-step timed out. Elapsed since last time-step: {now - self.__t_end}\")\n"
     ]
    },
    {
     "name": "stdout",
     "output_type": "stream",
     "text": [
      "Loop:  119\n"
     ]
    },
    {
     "name": "stderr",
     "output_type": "stream",
     "text": [
      "\u001b[2m\u001b[36m(RolloutWorker pid=7532)\u001b[0m c:\\Users\\nadir\\anaconda3\\envs\\GTRay2.4.0\\lib\\site-packages\\rtgym\\envs\\real_time_env.py:376: UserWarning: Time-step timed out. Elapsed since last time-step: 2.0332592999343433\n",
      "\u001b[2m\u001b[36m(RolloutWorker pid=7532)\u001b[0m   warnings.warn(f\"Time-step timed out. Elapsed since last time-step: {now - self.__t_end}\")\n"
     ]
    },
    {
     "name": "stdout",
     "output_type": "stream",
     "text": [
      "\u001b[2m\u001b[36m(RolloutWorker pid=7532)\u001b[0m reset triggered\n",
      "\u001b[2m\u001b[36m(RolloutWorker pid=7532)\u001b[0m reload save for track : 72\n"
     ]
    },
    {
     "name": "stderr",
     "output_type": "stream",
     "text": [
      "\u001b[2m\u001b[36m(RolloutWorker pid=7532)\u001b[0m c:\\Users\\nadir\\anaconda3\\envs\\GTRay2.4.0\\lib\\site-packages\\rtgym\\envs\\real_time_env.py:376: UserWarning: Time-step timed out. Elapsed since last time-step: 0.11305879999918034\n",
      "\u001b[2m\u001b[36m(RolloutWorker pid=7532)\u001b[0m   warnings.warn(f\"Time-step timed out. Elapsed since last time-step: {now - self.__t_end}\")\n",
      "\u001b[2m\u001b[36m(RolloutWorker pid=7532)\u001b[0m c:\\Users\\nadir\\anaconda3\\envs\\GTRay2.4.0\\lib\\site-packages\\rtgym\\envs\\real_time_env.py:376: UserWarning: Time-step timed out. Elapsed since last time-step: 0.08544519989163746\n",
      "\u001b[2m\u001b[36m(RolloutWorker pid=7532)\u001b[0m   warnings.warn(f\"Time-step timed out. Elapsed since last time-step: {now - self.__t_end}\")\n"
     ]
    },
    {
     "name": "stdout",
     "output_type": "stream",
     "text": [
      "Loop:  120\n",
      "Saved 120\n"
     ]
    },
    {
     "name": "stderr",
     "output_type": "stream",
     "text": [
      "\u001b[2m\u001b[36m(RolloutWorker pid=7532)\u001b[0m c:\\Users\\nadir\\anaconda3\\envs\\GTRay2.4.0\\lib\\site-packages\\rtgym\\envs\\real_time_env.py:376: UserWarning: Time-step timed out. Elapsed since last time-step: 2.136598900000081\n",
      "\u001b[2m\u001b[36m(RolloutWorker pid=7532)\u001b[0m   warnings.warn(f\"Time-step timed out. Elapsed since last time-step: {now - self.__t_end}\")\n"
     ]
    },
    {
     "name": "stdout",
     "output_type": "stream",
     "text": [
      "\u001b[2m\u001b[36m(RolloutWorker pid=7532)\u001b[0m reset triggered\n",
      "\u001b[2m\u001b[36m(RolloutWorker pid=7532)\u001b[0m reload save for track : 72\n"
     ]
    },
    {
     "name": "stderr",
     "output_type": "stream",
     "text": [
      "\u001b[2m\u001b[36m(RolloutWorker pid=7532)\u001b[0m c:\\Users\\nadir\\anaconda3\\envs\\GTRay2.4.0\\lib\\site-packages\\rtgym\\envs\\real_time_env.py:376: UserWarning: Time-step timed out. Elapsed since last time-step: 0.11192509999909817\n",
      "\u001b[2m\u001b[36m(RolloutWorker pid=7532)\u001b[0m   warnings.warn(f\"Time-step timed out. Elapsed since last time-step: {now - self.__t_end}\")\n",
      "\u001b[2m\u001b[36m(RolloutWorker pid=7532)\u001b[0m c:\\Users\\nadir\\anaconda3\\envs\\GTRay2.4.0\\lib\\site-packages\\rtgym\\envs\\real_time_env.py:376: UserWarning: Time-step timed out. Elapsed since last time-step: 0.08708349989183262\n",
      "\u001b[2m\u001b[36m(RolloutWorker pid=7532)\u001b[0m   warnings.warn(f\"Time-step timed out. Elapsed since last time-step: {now - self.__t_end}\")\n"
     ]
    },
    {
     "name": "stdout",
     "output_type": "stream",
     "text": [
      "Loop:  121\n"
     ]
    },
    {
     "name": "stderr",
     "output_type": "stream",
     "text": [
      "\u001b[2m\u001b[36m(RolloutWorker pid=7532)\u001b[0m c:\\Users\\nadir\\anaconda3\\envs\\GTRay2.4.0\\lib\\site-packages\\rtgym\\envs\\real_time_env.py:376: UserWarning: Time-step timed out. Elapsed since last time-step: 2.1102461999998923\n",
      "\u001b[2m\u001b[36m(RolloutWorker pid=7532)\u001b[0m   warnings.warn(f\"Time-step timed out. Elapsed since last time-step: {now - self.__t_end}\")\n"
     ]
    },
    {
     "name": "stdout",
     "output_type": "stream",
     "text": [
      "\u001b[2m\u001b[36m(RolloutWorker pid=7532)\u001b[0m reset triggered\n",
      "\u001b[2m\u001b[36m(RolloutWorker pid=7532)\u001b[0m reload save for track : 72\n"
     ]
    },
    {
     "name": "stderr",
     "output_type": "stream",
     "text": [
      "\u001b[2m\u001b[36m(RolloutWorker pid=7532)\u001b[0m c:\\Users\\nadir\\anaconda3\\envs\\GTRay2.4.0\\lib\\site-packages\\rtgym\\envs\\real_time_env.py:376: UserWarning: Time-step timed out. Elapsed since last time-step: 0.1263486999991983\n",
      "\u001b[2m\u001b[36m(RolloutWorker pid=7532)\u001b[0m   warnings.warn(f\"Time-step timed out. Elapsed since last time-step: {now - self.__t_end}\")\n",
      "\u001b[2m\u001b[36m(RolloutWorker pid=7532)\u001b[0m c:\\Users\\nadir\\anaconda3\\envs\\GTRay2.4.0\\lib\\site-packages\\rtgym\\envs\\real_time_env.py:376: UserWarning: Time-step timed out. Elapsed since last time-step: 0.10309209989191004\n",
      "\u001b[2m\u001b[36m(RolloutWorker pid=7532)\u001b[0m   warnings.warn(f\"Time-step timed out. Elapsed since last time-step: {now - self.__t_end}\")\n"
     ]
    },
    {
     "name": "stdout",
     "output_type": "stream",
     "text": [
      "Loop:  122\n"
     ]
    },
    {
     "name": "stderr",
     "output_type": "stream",
     "text": [
      "\u001b[2m\u001b[36m(RolloutWorker pid=7532)\u001b[0m c:\\Users\\nadir\\anaconda3\\envs\\GTRay2.4.0\\lib\\site-packages\\rtgym\\envs\\real_time_env.py:376: UserWarning: Time-step timed out. Elapsed since last time-step: 2.1365160999998807\n",
      "\u001b[2m\u001b[36m(RolloutWorker pid=7532)\u001b[0m   warnings.warn(f\"Time-step timed out. Elapsed since last time-step: {now - self.__t_end}\")\n"
     ]
    },
    {
     "name": "stdout",
     "output_type": "stream",
     "text": [
      "\u001b[2m\u001b[36m(RolloutWorker pid=7532)\u001b[0m reset triggered\n",
      "\u001b[2m\u001b[36m(RolloutWorker pid=7532)\u001b[0m reload save for track : 72\n"
     ]
    },
    {
     "name": "stderr",
     "output_type": "stream",
     "text": [
      "\u001b[2m\u001b[36m(RolloutWorker pid=7532)\u001b[0m c:\\Users\\nadir\\anaconda3\\envs\\GTRay2.4.0\\lib\\site-packages\\rtgym\\envs\\real_time_env.py:376: UserWarning: Time-step timed out. Elapsed since last time-step: 0.11297649999914938\n",
      "\u001b[2m\u001b[36m(RolloutWorker pid=7532)\u001b[0m   warnings.warn(f\"Time-step timed out. Elapsed since last time-step: {now - self.__t_end}\")\n",
      "\u001b[2m\u001b[36m(RolloutWorker pid=7532)\u001b[0m c:\\Users\\nadir\\anaconda3\\envs\\GTRay2.4.0\\lib\\site-packages\\rtgym\\envs\\real_time_env.py:376: UserWarning: Time-step timed out. Elapsed since last time-step: 0.08083479989181797\n",
      "\u001b[2m\u001b[36m(RolloutWorker pid=7532)\u001b[0m   warnings.warn(f\"Time-step timed out. Elapsed since last time-step: {now - self.__t_end}\")\n"
     ]
    },
    {
     "name": "stdout",
     "output_type": "stream",
     "text": [
      "Loop:  123\n"
     ]
    },
    {
     "name": "stderr",
     "output_type": "stream",
     "text": [
      "\u001b[2m\u001b[36m(RolloutWorker pid=7532)\u001b[0m c:\\Users\\nadir\\anaconda3\\envs\\GTRay2.4.0\\lib\\site-packages\\rtgym\\envs\\real_time_env.py:376: UserWarning: Time-step timed out. Elapsed since last time-step: 2.0191877999995995\n",
      "\u001b[2m\u001b[36m(RolloutWorker pid=7532)\u001b[0m   warnings.warn(f\"Time-step timed out. Elapsed since last time-step: {now - self.__t_end}\")\n"
     ]
    },
    {
     "name": "stdout",
     "output_type": "stream",
     "text": [
      "\u001b[2m\u001b[36m(RolloutWorker pid=7532)\u001b[0m reset triggered\n",
      "\u001b[2m\u001b[36m(RolloutWorker pid=7532)\u001b[0m reload save for track : 72\n"
     ]
    },
    {
     "name": "stderr",
     "output_type": "stream",
     "text": [
      "\u001b[2m\u001b[36m(RolloutWorker pid=7532)\u001b[0m c:\\Users\\nadir\\anaconda3\\envs\\GTRay2.4.0\\lib\\site-packages\\rtgym\\envs\\real_time_env.py:376: UserWarning: Time-step timed out. Elapsed since last time-step: 0.10600539999950342\n",
      "\u001b[2m\u001b[36m(RolloutWorker pid=7532)\u001b[0m   warnings.warn(f\"Time-step timed out. Elapsed since last time-step: {now - self.__t_end}\")\n"
     ]
    },
    {
     "name": "stdout",
     "output_type": "stream",
     "text": [
      "\u001b[2m\u001b[36m(RolloutWorker pid=7532)\u001b[0m reset triggered\n",
      "\u001b[2m\u001b[36m(RolloutWorker pid=7532)\u001b[0m reload save for track : 72\n"
     ]
    },
    {
     "name": "stderr",
     "output_type": "stream",
     "text": [
      "\u001b[2m\u001b[36m(RolloutWorker pid=7532)\u001b[0m c:\\Users\\nadir\\anaconda3\\envs\\GTRay2.4.0\\lib\\site-packages\\rtgym\\envs\\real_time_env.py:376: UserWarning: Time-step timed out. Elapsed since last time-step: 0.1777028998994865\n",
      "\u001b[2m\u001b[36m(RolloutWorker pid=7532)\u001b[0m   warnings.warn(f\"Time-step timed out. Elapsed since last time-step: {now - self.__t_end}\")\n"
     ]
    },
    {
     "name": "stdout",
     "output_type": "stream",
     "text": [
      "Loop:  124\n"
     ]
    },
    {
     "name": "stderr",
     "output_type": "stream",
     "text": [
      "\u001b[2m\u001b[36m(RolloutWorker pid=7532)\u001b[0m c:\\Users\\nadir\\anaconda3\\envs\\GTRay2.4.0\\lib\\site-packages\\rtgym\\envs\\real_time_env.py:376: UserWarning: Time-step timed out. Elapsed since last time-step: 2.1138179999920794\n",
      "\u001b[2m\u001b[36m(RolloutWorker pid=7532)\u001b[0m   warnings.warn(f\"Time-step timed out. Elapsed since last time-step: {now - self.__t_end}\")\n"
     ]
    },
    {
     "name": "stdout",
     "output_type": "stream",
     "text": [
      "\u001b[2m\u001b[36m(RolloutWorker pid=7532)\u001b[0m reset triggered\n",
      "\u001b[2m\u001b[36m(RolloutWorker pid=7532)\u001b[0m reload save for track : 72\n"
     ]
    },
    {
     "name": "stderr",
     "output_type": "stream",
     "text": [
      "\u001b[2m\u001b[36m(RolloutWorker pid=7532)\u001b[0m c:\\Users\\nadir\\anaconda3\\envs\\GTRay2.4.0\\lib\\site-packages\\rtgym\\envs\\real_time_env.py:376: UserWarning: Time-step timed out. Elapsed since last time-step: 0.1261072999523094\n",
      "\u001b[2m\u001b[36m(RolloutWorker pid=7532)\u001b[0m   warnings.warn(f\"Time-step timed out. Elapsed since last time-step: {now - self.__t_end}\")\n"
     ]
    },
    {
     "name": "stdout",
     "output_type": "stream",
     "text": [
      "Loop:  125\n"
     ]
    },
    {
     "name": "stderr",
     "output_type": "stream",
     "text": [
      "\u001b[2m\u001b[36m(RolloutWorker pid=7532)\u001b[0m c:\\Users\\nadir\\anaconda3\\envs\\GTRay2.4.0\\lib\\site-packages\\rtgym\\envs\\real_time_env.py:376: UserWarning: Time-step timed out. Elapsed since last time-step: 2.038980199938578\n",
      "\u001b[2m\u001b[36m(RolloutWorker pid=7532)\u001b[0m   warnings.warn(f\"Time-step timed out. Elapsed since last time-step: {now - self.__t_end}\")\n",
      "\u001b[2m\u001b[36m(RolloutWorker pid=7532)\u001b[0m c:\\Users\\nadir\\anaconda3\\envs\\GTRay2.4.0\\lib\\site-packages\\rtgym\\envs\\real_time_env.py:376: UserWarning: Time-step timed out. Elapsed since last time-step: 0.25897369995891495\n",
      "\u001b[2m\u001b[36m(RolloutWorker pid=7532)\u001b[0m   warnings.warn(f\"Time-step timed out. Elapsed since last time-step: {now - self.__t_end}\")\n",
      "\u001b[2m\u001b[36m(RolloutWorker pid=7532)\u001b[0m c:\\Users\\nadir\\anaconda3\\envs\\GTRay2.4.0\\lib\\site-packages\\rtgym\\envs\\real_time_env.py:376: UserWarning: Time-step timed out. Elapsed since last time-step: 0.12855219999346446\n",
      "\u001b[2m\u001b[36m(RolloutWorker pid=7532)\u001b[0m   warnings.warn(f\"Time-step timed out. Elapsed since last time-step: {now - self.__t_end}\")\n"
     ]
    },
    {
     "name": "stdout",
     "output_type": "stream",
     "text": [
      "\u001b[2m\u001b[36m(RolloutWorker pid=7532)\u001b[0m reset triggered\n",
      "\u001b[2m\u001b[36m(RolloutWorker pid=7532)\u001b[0m reload save for track : 72\n",
      "Loop:  126\n"
     ]
    },
    {
     "name": "stderr",
     "output_type": "stream",
     "text": [
      "\u001b[2m\u001b[36m(RolloutWorker pid=7532)\u001b[0m c:\\Users\\nadir\\anaconda3\\envs\\GTRay2.4.0\\lib\\site-packages\\rtgym\\envs\\real_time_env.py:376: UserWarning: Time-step timed out. Elapsed since last time-step: 2.183107899938477\n",
      "\u001b[2m\u001b[36m(RolloutWorker pid=7532)\u001b[0m   warnings.warn(f\"Time-step timed out. Elapsed since last time-step: {now - self.__t_end}\")\n",
      "\u001b[2m\u001b[36m(RolloutWorker pid=7532)\u001b[0m c:\\Users\\nadir\\anaconda3\\envs\\GTRay2.4.0\\lib\\site-packages\\rtgym\\envs\\real_time_env.py:376: UserWarning: Time-step timed out. Elapsed since last time-step: 0.12036729995270434\n",
      "\u001b[2m\u001b[36m(RolloutWorker pid=7532)\u001b[0m   warnings.warn(f\"Time-step timed out. Elapsed since last time-step: {now - self.__t_end}\")\n"
     ]
    },
    {
     "name": "stdout",
     "output_type": "stream",
     "text": [
      "\u001b[2m\u001b[36m(RolloutWorker pid=7532)\u001b[0m reset triggered\n",
      "\u001b[2m\u001b[36m(RolloutWorker pid=7532)\u001b[0m reload save for track : 72\n",
      "Loop:  127\n"
     ]
    },
    {
     "name": "stderr",
     "output_type": "stream",
     "text": [
      "\u001b[2m\u001b[36m(RolloutWorker pid=7532)\u001b[0m c:\\Users\\nadir\\anaconda3\\envs\\GTRay2.4.0\\lib\\site-packages\\rtgym\\envs\\real_time_env.py:376: UserWarning: Time-step timed out. Elapsed since last time-step: 2.119976899937683\n",
      "\u001b[2m\u001b[36m(RolloutWorker pid=7532)\u001b[0m   warnings.warn(f\"Time-step timed out. Elapsed since last time-step: {now - self.__t_end}\")\n",
      "\u001b[2m\u001b[36m(RolloutWorker pid=7532)\u001b[0m c:\\Users\\nadir\\anaconda3\\envs\\GTRay2.4.0\\lib\\site-packages\\rtgym\\envs\\real_time_env.py:376: UserWarning: Time-step timed out. Elapsed since last time-step: 0.1101040999756151\n",
      "\u001b[2m\u001b[36m(RolloutWorker pid=7532)\u001b[0m   warnings.warn(f\"Time-step timed out. Elapsed since last time-step: {now - self.__t_end}\")\n"
     ]
    },
    {
     "name": "stdout",
     "output_type": "stream",
     "text": [
      "\u001b[2m\u001b[36m(RolloutWorker pid=7532)\u001b[0m reset triggered\n",
      "\u001b[2m\u001b[36m(RolloutWorker pid=7532)\u001b[0m reload save for track : 72\n",
      "Loop:  128\n"
     ]
    },
    {
     "name": "stderr",
     "output_type": "stream",
     "text": [
      "\u001b[2m\u001b[36m(RolloutWorker pid=7532)\u001b[0m c:\\Users\\nadir\\anaconda3\\envs\\GTRay2.4.0\\lib\\site-packages\\rtgym\\envs\\real_time_env.py:376: UserWarning: Time-step timed out. Elapsed since last time-step: 2.037612699915371\n",
      "\u001b[2m\u001b[36m(RolloutWorker pid=7532)\u001b[0m   warnings.warn(f\"Time-step timed out. Elapsed since last time-step: {now - self.__t_end}\")\n",
      "\u001b[2m\u001b[36m(RolloutWorker pid=7532)\u001b[0m c:\\Users\\nadir\\anaconda3\\envs\\GTRay2.4.0\\lib\\site-packages\\rtgym\\envs\\real_time_env.py:376: UserWarning: Time-step timed out. Elapsed since last time-step: 0.16096059997926204\n",
      "\u001b[2m\u001b[36m(RolloutWorker pid=7532)\u001b[0m   warnings.warn(f\"Time-step timed out. Elapsed since last time-step: {now - self.__t_end}\")\n"
     ]
    },
    {
     "name": "stdout",
     "output_type": "stream",
     "text": [
      "\u001b[2m\u001b[36m(RolloutWorker pid=7532)\u001b[0m reset triggered\n",
      "\u001b[2m\u001b[36m(RolloutWorker pid=7532)\u001b[0m reload save for track : 72\n"
     ]
    },
    {
     "name": "stderr",
     "output_type": "stream",
     "text": [
      "\u001b[2m\u001b[36m(RolloutWorker pid=7532)\u001b[0m c:\\Users\\nadir\\anaconda3\\envs\\GTRay2.4.0\\lib\\site-packages\\rtgym\\envs\\real_time_env.py:376: UserWarning: Time-step timed out. Elapsed since last time-step: 0.14154129999678844\n",
      "\u001b[2m\u001b[36m(RolloutWorker pid=7532)\u001b[0m   warnings.warn(f\"Time-step timed out. Elapsed since last time-step: {now - self.__t_end}\")\n",
      "\u001b[2m\u001b[36m(RolloutWorker pid=7532)\u001b[0m c:\\Users\\nadir\\anaconda3\\envs\\GTRay2.4.0\\lib\\site-packages\\rtgym\\envs\\real_time_env.py:376: UserWarning: Time-step timed out. Elapsed since last time-step: 0.06502669991550647\n",
      "\u001b[2m\u001b[36m(RolloutWorker pid=7532)\u001b[0m   warnings.warn(f\"Time-step timed out. Elapsed since last time-step: {now - self.__t_end}\")\n"
     ]
    },
    {
     "name": "stdout",
     "output_type": "stream",
     "text": [
      "Loop:  129\n"
     ]
    },
    {
     "name": "stderr",
     "output_type": "stream",
     "text": [
      "\u001b[2m\u001b[36m(RolloutWorker pid=7532)\u001b[0m c:\\Users\\nadir\\anaconda3\\envs\\GTRay2.4.0\\lib\\site-packages\\rtgym\\envs\\real_time_env.py:376: UserWarning: Time-step timed out. Elapsed since last time-step: 2.032538599999498\n",
      "\u001b[2m\u001b[36m(RolloutWorker pid=7532)\u001b[0m   warnings.warn(f\"Time-step timed out. Elapsed since last time-step: {now - self.__t_end}\")\n"
     ]
    },
    {
     "name": "stdout",
     "output_type": "stream",
     "text": [
      "\u001b[2m\u001b[36m(RolloutWorker pid=7532)\u001b[0m reset triggered\n",
      "\u001b[2m\u001b[36m(RolloutWorker pid=7532)\u001b[0m reload save for track : 72\n"
     ]
    },
    {
     "name": "stderr",
     "output_type": "stream",
     "text": [
      "\u001b[2m\u001b[36m(RolloutWorker pid=7532)\u001b[0m c:\\Users\\nadir\\anaconda3\\envs\\GTRay2.4.0\\lib\\site-packages\\rtgym\\envs\\real_time_env.py:376: UserWarning: Time-step timed out. Elapsed since last time-step: 0.14538189997529116\n",
      "\u001b[2m\u001b[36m(RolloutWorker pid=7532)\u001b[0m   warnings.warn(f\"Time-step timed out. Elapsed since last time-step: {now - self.__t_end}\")\n",
      "\u001b[2m\u001b[36m(RolloutWorker pid=7532)\u001b[0m c:\\Users\\nadir\\anaconda3\\envs\\GTRay2.4.0\\lib\\site-packages\\rtgym\\envs\\real_time_env.py:376: UserWarning: Time-step timed out. Elapsed since last time-step: 0.06089619991598738\n",
      "\u001b[2m\u001b[36m(RolloutWorker pid=7532)\u001b[0m   warnings.warn(f\"Time-step timed out. Elapsed since last time-step: {now - self.__t_end}\")\n"
     ]
    },
    {
     "name": "stdout",
     "output_type": "stream",
     "text": [
      "Loop:  130\n",
      "Saved 130\n"
     ]
    },
    {
     "name": "stderr",
     "output_type": "stream",
     "text": [
      "\u001b[2m\u001b[36m(RolloutWorker pid=7532)\u001b[0m c:\\Users\\nadir\\anaconda3\\envs\\GTRay2.4.0\\lib\\site-packages\\rtgym\\envs\\real_time_env.py:376: UserWarning: Time-step timed out. Elapsed since last time-step: 2.0511876000000484\n",
      "\u001b[2m\u001b[36m(RolloutWorker pid=7532)\u001b[0m   warnings.warn(f\"Time-step timed out. Elapsed since last time-step: {now - self.__t_end}\")\n"
     ]
    },
    {
     "name": "stdout",
     "output_type": "stream",
     "text": [
      "\u001b[2m\u001b[36m(RolloutWorker pid=7532)\u001b[0m reset triggered\n",
      "\u001b[2m\u001b[36m(RolloutWorker pid=7532)\u001b[0m reload save for track : 72\n"
     ]
    },
    {
     "name": "stderr",
     "output_type": "stream",
     "text": [
      "\u001b[2m\u001b[36m(RolloutWorker pid=7532)\u001b[0m c:\\Users\\nadir\\anaconda3\\envs\\GTRay2.4.0\\lib\\site-packages\\rtgym\\envs\\real_time_env.py:376: UserWarning: Time-step timed out. Elapsed since last time-step: 0.09616999999252585\n",
      "\u001b[2m\u001b[36m(RolloutWorker pid=7532)\u001b[0m   warnings.warn(f\"Time-step timed out. Elapsed since last time-step: {now - self.__t_end}\")\n",
      "\u001b[2m\u001b[36m(RolloutWorker pid=7532)\u001b[0m c:\\Users\\nadir\\anaconda3\\envs\\GTRay2.4.0\\lib\\site-packages\\rtgym\\envs\\real_time_env.py:376: UserWarning: Time-step timed out. Elapsed since last time-step: 0.1088674998982242\n",
      "\u001b[2m\u001b[36m(RolloutWorker pid=7532)\u001b[0m   warnings.warn(f\"Time-step timed out. Elapsed since last time-step: {now - self.__t_end}\")\n"
     ]
    },
    {
     "name": "stdout",
     "output_type": "stream",
     "text": [
      "Loop:  131\n"
     ]
    },
    {
     "name": "stderr",
     "output_type": "stream",
     "text": [
      "\u001b[2m\u001b[36m(RolloutWorker pid=7532)\u001b[0m c:\\Users\\nadir\\anaconda3\\envs\\GTRay2.4.0\\lib\\site-packages\\rtgym\\envs\\real_time_env.py:376: UserWarning: Time-step timed out. Elapsed since last time-step: 2.1185999999997875\n",
      "\u001b[2m\u001b[36m(RolloutWorker pid=7532)\u001b[0m   warnings.warn(f\"Time-step timed out. Elapsed since last time-step: {now - self.__t_end}\")\n"
     ]
    },
    {
     "name": "stdout",
     "output_type": "stream",
     "text": [
      "\u001b[2m\u001b[36m(RolloutWorker pid=7532)\u001b[0m reset triggered\n",
      "\u001b[2m\u001b[36m(RolloutWorker pid=7532)\u001b[0m reload save for track : 72\n"
     ]
    },
    {
     "name": "stderr",
     "output_type": "stream",
     "text": [
      "\u001b[2m\u001b[36m(RolloutWorker pid=7532)\u001b[0m c:\\Users\\nadir\\anaconda3\\envs\\GTRay2.4.0\\lib\\site-packages\\rtgym\\envs\\real_time_env.py:376: UserWarning: Time-step timed out. Elapsed since last time-step: 0.10378839999248157\n",
      "\u001b[2m\u001b[36m(RolloutWorker pid=7532)\u001b[0m   warnings.warn(f\"Time-step timed out. Elapsed since last time-step: {now - self.__t_end}\")\n",
      "\u001b[2m\u001b[36m(RolloutWorker pid=7532)\u001b[0m c:\\Users\\nadir\\anaconda3\\envs\\GTRay2.4.0\\lib\\site-packages\\rtgym\\envs\\real_time_env.py:376: UserWarning: Time-step timed out. Elapsed since last time-step: 0.16817329990226426\n",
      "\u001b[2m\u001b[36m(RolloutWorker pid=7532)\u001b[0m   warnings.warn(f\"Time-step timed out. Elapsed since last time-step: {now - self.__t_end}\")\n"
     ]
    },
    {
     "name": "stdout",
     "output_type": "stream",
     "text": [
      "\u001b[2m\u001b[36m(RolloutWorker pid=7532)\u001b[0m reset triggered\n",
      "\u001b[2m\u001b[36m(RolloutWorker pid=7532)\u001b[0m reload save for track : 72\n",
      "Loop:  132\n"
     ]
    },
    {
     "name": "stderr",
     "output_type": "stream",
     "text": [
      "\u001b[2m\u001b[36m(RolloutWorker pid=7532)\u001b[0m c:\\Users\\nadir\\anaconda3\\envs\\GTRay2.4.0\\lib\\site-packages\\rtgym\\envs\\real_time_env.py:376: UserWarning: Time-step timed out. Elapsed since last time-step: 2.085964399995646\n",
      "\u001b[2m\u001b[36m(RolloutWorker pid=7532)\u001b[0m   warnings.warn(f\"Time-step timed out. Elapsed since last time-step: {now - self.__t_end}\")\n"
     ]
    },
    {
     "name": "stdout",
     "output_type": "stream",
     "text": [
      "\u001b[2m\u001b[36m(RolloutWorker pid=7532)\u001b[0m reset triggered\n",
      "\u001b[2m\u001b[36m(RolloutWorker pid=7532)\u001b[0m reload save for track : 72\n"
     ]
    },
    {
     "name": "stderr",
     "output_type": "stream",
     "text": [
      "\u001b[2m\u001b[36m(RolloutWorker pid=7532)\u001b[0m c:\\Users\\nadir\\anaconda3\\envs\\GTRay2.4.0\\lib\\site-packages\\rtgym\\envs\\real_time_env.py:376: UserWarning: Time-step timed out. Elapsed since last time-step: 0.15981149994422594\n",
      "\u001b[2m\u001b[36m(RolloutWorker pid=7532)\u001b[0m   warnings.warn(f\"Time-step timed out. Elapsed since last time-step: {now - self.__t_end}\")\n"
     ]
    },
    {
     "name": "stdout",
     "output_type": "stream",
     "text": [
      "Loop:  133\n"
     ]
    },
    {
     "name": "stderr",
     "output_type": "stream",
     "text": [
      "\u001b[2m\u001b[36m(RolloutWorker pid=7532)\u001b[0m c:\\Users\\nadir\\anaconda3\\envs\\GTRay2.4.0\\lib\\site-packages\\rtgym\\envs\\real_time_env.py:376: UserWarning: Time-step timed out. Elapsed since last time-step: 2.025632899946686\n",
      "\u001b[2m\u001b[36m(RolloutWorker pid=7532)\u001b[0m   warnings.warn(f\"Time-step timed out. Elapsed since last time-step: {now - self.__t_end}\")\n"
     ]
    },
    {
     "name": "stdout",
     "output_type": "stream",
     "text": [
      "\u001b[2m\u001b[36m(RolloutWorker pid=7532)\u001b[0m reset triggered\n",
      "\u001b[2m\u001b[36m(RolloutWorker pid=7532)\u001b[0m reload save for track : 72\n"
     ]
    },
    {
     "name": "stderr",
     "output_type": "stream",
     "text": [
      "\u001b[2m\u001b[36m(RolloutWorker pid=7532)\u001b[0m c:\\Users\\nadir\\anaconda3\\envs\\GTRay2.4.0\\lib\\site-packages\\rtgym\\envs\\real_time_env.py:376: UserWarning: Time-step timed out. Elapsed since last time-step: 0.13910779994876066\n",
      "\u001b[2m\u001b[36m(RolloutWorker pid=7532)\u001b[0m   warnings.warn(f\"Time-step timed out. Elapsed since last time-step: {now - self.__t_end}\")\n"
     ]
    },
    {
     "name": "stdout",
     "output_type": "stream",
     "text": [
      "Loop:  134\n"
     ]
    },
    {
     "name": "stderr",
     "output_type": "stream",
     "text": [
      "\u001b[2m\u001b[36m(RolloutWorker pid=7532)\u001b[0m c:\\Users\\nadir\\anaconda3\\envs\\GTRay2.4.0\\lib\\site-packages\\rtgym\\envs\\real_time_env.py:376: UserWarning: Time-step timed out. Elapsed since last time-step: 2.099296799942749\n",
      "\u001b[2m\u001b[36m(RolloutWorker pid=7532)\u001b[0m   warnings.warn(f\"Time-step timed out. Elapsed since last time-step: {now - self.__t_end}\")\n",
      "\u001b[2m\u001b[36m(RolloutWorker pid=7532)\u001b[0m c:\\Users\\nadir\\anaconda3\\envs\\GTRay2.4.0\\lib\\site-packages\\rtgym\\envs\\real_time_env.py:376: UserWarning: Time-step timed out. Elapsed since last time-step: 0.10006609998163185\n",
      "\u001b[2m\u001b[36m(RolloutWorker pid=7532)\u001b[0m   warnings.warn(f\"Time-step timed out. Elapsed since last time-step: {now - self.__t_end}\")\n"
     ]
    },
    {
     "name": "stdout",
     "output_type": "stream",
     "text": [
      "\u001b[2m\u001b[36m(RolloutWorker pid=7532)\u001b[0m reset triggered\n",
      "\u001b[2m\u001b[36m(RolloutWorker pid=7532)\u001b[0m reload save for track : 72\n",
      "\u001b[2m\u001b[36m(RolloutWorker pid=7532)\u001b[0m reset triggered\n",
      "\u001b[2m\u001b[36m(RolloutWorker pid=7532)\u001b[0m reload save for track : 72\n"
     ]
    },
    {
     "name": "stderr",
     "output_type": "stream",
     "text": [
      "\u001b[2m\u001b[36m(RolloutWorker pid=7532)\u001b[0m c:\\Users\\nadir\\anaconda3\\envs\\GTRay2.4.0\\lib\\site-packages\\rtgym\\envs\\real_time_env.py:376: UserWarning: Time-step timed out. Elapsed since last time-step: 0.14991569991252618\n",
      "\u001b[2m\u001b[36m(RolloutWorker pid=7532)\u001b[0m   warnings.warn(f\"Time-step timed out. Elapsed since last time-step: {now - self.__t_end}\")\n"
     ]
    },
    {
     "name": "stdout",
     "output_type": "stream",
     "text": [
      "Loop:  135\n"
     ]
    },
    {
     "name": "stderr",
     "output_type": "stream",
     "text": [
      "\u001b[2m\u001b[36m(RolloutWorker pid=7532)\u001b[0m c:\\Users\\nadir\\anaconda3\\envs\\GTRay2.4.0\\lib\\site-packages\\rtgym\\envs\\real_time_env.py:376: UserWarning: Time-step timed out. Elapsed since last time-step: 2.1257313999967664\n",
      "\u001b[2m\u001b[36m(RolloutWorker pid=7532)\u001b[0m   warnings.warn(f\"Time-step timed out. Elapsed since last time-step: {now - self.__t_end}\")\n"
     ]
    },
    {
     "name": "stdout",
     "output_type": "stream",
     "text": [
      "\u001b[2m\u001b[36m(RolloutWorker pid=7532)\u001b[0m reset triggered\n",
      "\u001b[2m\u001b[36m(RolloutWorker pid=7532)\u001b[0m reload save for track : 72\n"
     ]
    },
    {
     "name": "stderr",
     "output_type": "stream",
     "text": [
      "\u001b[2m\u001b[36m(RolloutWorker pid=7532)\u001b[0m c:\\Users\\nadir\\anaconda3\\envs\\GTRay2.4.0\\lib\\site-packages\\rtgym\\envs\\real_time_env.py:376: UserWarning: Time-step timed out. Elapsed since last time-step: 0.15299329993285937\n",
      "\u001b[2m\u001b[36m(RolloutWorker pid=7532)\u001b[0m   warnings.warn(f\"Time-step timed out. Elapsed since last time-step: {now - self.__t_end}\")\n"
     ]
    },
    {
     "name": "stdout",
     "output_type": "stream",
     "text": [
      "Loop:  136\n"
     ]
    },
    {
     "name": "stderr",
     "output_type": "stream",
     "text": [
      "\u001b[2m\u001b[36m(RolloutWorker pid=7532)\u001b[0m c:\\Users\\nadir\\anaconda3\\envs\\GTRay2.4.0\\lib\\site-packages\\rtgym\\envs\\real_time_env.py:376: UserWarning: Time-step timed out. Elapsed since last time-step: 2.0142298999580817\n",
      "\u001b[2m\u001b[36m(RolloutWorker pid=7532)\u001b[0m   warnings.warn(f\"Time-step timed out. Elapsed since last time-step: {now - self.__t_end}\")\n",
      "\u001b[2m\u001b[36m(RolloutWorker pid=7532)\u001b[0m c:\\Users\\nadir\\anaconda3\\envs\\GTRay2.4.0\\lib\\site-packages\\rtgym\\envs\\real_time_env.py:376: UserWarning: Time-step timed out. Elapsed since last time-step: 0.10809269997116644\n",
      "\u001b[2m\u001b[36m(RolloutWorker pid=7532)\u001b[0m   warnings.warn(f\"Time-step timed out. Elapsed since last time-step: {now - self.__t_end}\")\n"
     ]
    },
    {
     "name": "stdout",
     "output_type": "stream",
     "text": [
      "\u001b[2m\u001b[36m(RolloutWorker pid=7532)\u001b[0m reset triggered\n",
      "\u001b[2m\u001b[36m(RolloutWorker pid=7532)\u001b[0m reload save for track : 72\n"
     ]
    },
    {
     "name": "stderr",
     "output_type": "stream",
     "text": [
      "\u001b[2m\u001b[36m(RolloutWorker pid=7532)\u001b[0m c:\\Users\\nadir\\anaconda3\\envs\\GTRay2.4.0\\lib\\site-packages\\rtgym\\envs\\real_time_env.py:376: UserWarning: Time-step timed out. Elapsed since last time-step: 0.05449149991909508\n",
      "\u001b[2m\u001b[36m(RolloutWorker pid=7532)\u001b[0m   warnings.warn(f\"Time-step timed out. Elapsed since last time-step: {now - self.__t_end}\")\n"
     ]
    },
    {
     "name": "stdout",
     "output_type": "stream",
     "text": [
      "Loop:  137\n"
     ]
    },
    {
     "name": "stderr",
     "output_type": "stream",
     "text": [
      "\u001b[2m\u001b[36m(RolloutWorker pid=7532)\u001b[0m c:\\Users\\nadir\\anaconda3\\envs\\GTRay2.4.0\\lib\\site-packages\\rtgym\\envs\\real_time_env.py:376: UserWarning: Time-step timed out. Elapsed since last time-step: 2.0292836999997235\n",
      "\u001b[2m\u001b[36m(RolloutWorker pid=7532)\u001b[0m   warnings.warn(f\"Time-step timed out. Elapsed since last time-step: {now - self.__t_end}\")\n"
     ]
    },
    {
     "name": "stdout",
     "output_type": "stream",
     "text": [
      "\u001b[2m\u001b[36m(RolloutWorker pid=7532)\u001b[0m reset triggered\n",
      "\u001b[2m\u001b[36m(RolloutWorker pid=7532)\u001b[0m reload save for track : 72\n"
     ]
    },
    {
     "name": "stderr",
     "output_type": "stream",
     "text": [
      "\u001b[2m\u001b[36m(RolloutWorker pid=7532)\u001b[0m c:\\Users\\nadir\\anaconda3\\envs\\GTRay2.4.0\\lib\\site-packages\\rtgym\\envs\\real_time_env.py:376: UserWarning: Time-step timed out. Elapsed since last time-step: 0.1258608999723947\n",
      "\u001b[2m\u001b[36m(RolloutWorker pid=7532)\u001b[0m   warnings.warn(f\"Time-step timed out. Elapsed since last time-step: {now - self.__t_end}\")\n",
      "\u001b[2m\u001b[36m(RolloutWorker pid=7532)\u001b[0m c:\\Users\\nadir\\anaconda3\\envs\\GTRay2.4.0\\lib\\site-packages\\rtgym\\envs\\real_time_env.py:376: UserWarning: Time-step timed out. Elapsed since last time-step: 0.06022039991876227\n",
      "\u001b[2m\u001b[36m(RolloutWorker pid=7532)\u001b[0m   warnings.warn(f\"Time-step timed out. Elapsed since last time-step: {now - self.__t_end}\")\n"
     ]
    },
    {
     "name": "stdout",
     "output_type": "stream",
     "text": [
      "Loop:  138\n"
     ]
    },
    {
     "name": "stderr",
     "output_type": "stream",
     "text": [
      "\u001b[2m\u001b[36m(RolloutWorker pid=7532)\u001b[0m c:\\Users\\nadir\\anaconda3\\envs\\GTRay2.4.0\\lib\\site-packages\\rtgym\\envs\\real_time_env.py:376: UserWarning: Time-step timed out. Elapsed since last time-step: 1.9823268999998618\n",
      "\u001b[2m\u001b[36m(RolloutWorker pid=7532)\u001b[0m   warnings.warn(f\"Time-step timed out. Elapsed since last time-step: {now - self.__t_end}\")\n"
     ]
    },
    {
     "name": "stdout",
     "output_type": "stream",
     "text": [
      "\u001b[2m\u001b[36m(RolloutWorker pid=7532)\u001b[0m reset triggered\n",
      "\u001b[2m\u001b[36m(RolloutWorker pid=7532)\u001b[0m reload save for track : 72\n"
     ]
    },
    {
     "name": "stderr",
     "output_type": "stream",
     "text": [
      "\u001b[2m\u001b[36m(RolloutWorker pid=7532)\u001b[0m c:\\Users\\nadir\\anaconda3\\envs\\GTRay2.4.0\\lib\\site-packages\\rtgym\\envs\\real_time_env.py:376: UserWarning: Time-step timed out. Elapsed since last time-step: 0.1267254999720535\n",
      "\u001b[2m\u001b[36m(RolloutWorker pid=7532)\u001b[0m   warnings.warn(f\"Time-step timed out. Elapsed since last time-step: {now - self.__t_end}\")\n"
     ]
    },
    {
     "name": "stdout",
     "output_type": "stream",
     "text": [
      "\u001b[2m\u001b[36m(RolloutWorker pid=7532)\u001b[0m reset triggered\n",
      "\u001b[2m\u001b[36m(RolloutWorker pid=7532)\u001b[0m reload save for track : 72\n"
     ]
    },
    {
     "name": "stderr",
     "output_type": "stream",
     "text": [
      "\u001b[2m\u001b[36m(RolloutWorker pid=7532)\u001b[0m c:\\Users\\nadir\\anaconda3\\envs\\GTRay2.4.0\\lib\\site-packages\\rtgym\\envs\\real_time_env.py:376: UserWarning: Time-step timed out. Elapsed since last time-step: 0.18477189992972853\n",
      "\u001b[2m\u001b[36m(RolloutWorker pid=7532)\u001b[0m   warnings.warn(f\"Time-step timed out. Elapsed since last time-step: {now - self.__t_end}\")\n"
     ]
    },
    {
     "name": "stdout",
     "output_type": "stream",
     "text": [
      "Loop:  139\n"
     ]
    },
    {
     "name": "stderr",
     "output_type": "stream",
     "text": [
      "\u001b[2m\u001b[36m(RolloutWorker pid=7532)\u001b[0m c:\\Users\\nadir\\anaconda3\\envs\\GTRay2.4.0\\lib\\site-packages\\rtgym\\envs\\real_time_env.py:376: UserWarning: Time-step timed out. Elapsed since last time-step: 2.0859355999891704\n",
      "\u001b[2m\u001b[36m(RolloutWorker pid=7532)\u001b[0m   warnings.warn(f\"Time-step timed out. Elapsed since last time-step: {now - self.__t_end}\")\n",
      "\u001b[2m\u001b[36m(RolloutWorker pid=7532)\u001b[0m c:\\Users\\nadir\\anaconda3\\envs\\GTRay2.4.0\\lib\\site-packages\\rtgym\\envs\\real_time_env.py:376: UserWarning: Time-step timed out. Elapsed since last time-step: 0.16948299990144733\n",
      "\u001b[2m\u001b[36m(RolloutWorker pid=7532)\u001b[0m   warnings.warn(f\"Time-step timed out. Elapsed since last time-step: {now - self.__t_end}\")\n"
     ]
    },
    {
     "name": "stdout",
     "output_type": "stream",
     "text": [
      "\u001b[2m\u001b[36m(RolloutWorker pid=7532)\u001b[0m reset triggered\n",
      "\u001b[2m\u001b[36m(RolloutWorker pid=7532)\u001b[0m reload save for track : 72\n",
      "Loop:  140\n",
      "Saved 140\n"
     ]
    },
    {
     "name": "stderr",
     "output_type": "stream",
     "text": [
      "\u001b[2m\u001b[36m(RolloutWorker pid=7532)\u001b[0m c:\\Users\\nadir\\anaconda3\\envs\\GTRay2.4.0\\lib\\site-packages\\rtgym\\envs\\real_time_env.py:376: UserWarning: Time-step timed out. Elapsed since last time-step: 2.1210306999892055\n",
      "\u001b[2m\u001b[36m(RolloutWorker pid=7532)\u001b[0m   warnings.warn(f\"Time-step timed out. Elapsed since last time-step: {now - self.__t_end}\")\n"
     ]
    },
    {
     "name": "stdout",
     "output_type": "stream",
     "text": [
      "\u001b[2m\u001b[36m(RolloutWorker pid=7532)\u001b[0m reset triggered\n",
      "\u001b[2m\u001b[36m(RolloutWorker pid=7532)\u001b[0m reload save for track : 72\n"
     ]
    },
    {
     "name": "stderr",
     "output_type": "stream",
     "text": [
      "\u001b[2m\u001b[36m(RolloutWorker pid=7532)\u001b[0m c:\\Users\\nadir\\anaconda3\\envs\\GTRay2.4.0\\lib\\site-packages\\rtgym\\envs\\real_time_env.py:376: UserWarning: Time-step timed out. Elapsed since last time-step: 0.1451358999374861\n",
      "\u001b[2m\u001b[36m(RolloutWorker pid=7532)\u001b[0m   warnings.warn(f\"Time-step timed out. Elapsed since last time-step: {now - self.__t_end}\")\n"
     ]
    },
    {
     "name": "stdout",
     "output_type": "stream",
     "text": [
      "Loop:  141\n"
     ]
    },
    {
     "name": "stderr",
     "output_type": "stream",
     "text": [
      "\u001b[2m\u001b[36m(RolloutWorker pid=7532)\u001b[0m c:\\Users\\nadir\\anaconda3\\envs\\GTRay2.4.0\\lib\\site-packages\\rtgym\\envs\\real_time_env.py:376: UserWarning: Time-step timed out. Elapsed since last time-step: 2.1904253999537104\n",
      "\u001b[2m\u001b[36m(RolloutWorker pid=7532)\u001b[0m   warnings.warn(f\"Time-step timed out. Elapsed since last time-step: {now - self.__t_end}\")\n"
     ]
    },
    {
     "name": "stdout",
     "output_type": "stream",
     "text": [
      "\u001b[2m\u001b[36m(RolloutWorker pid=7532)\u001b[0m reset triggered\n",
      "\u001b[2m\u001b[36m(RolloutWorker pid=7532)\u001b[0m reload save for track : 72\n"
     ]
    },
    {
     "name": "stderr",
     "output_type": "stream",
     "text": [
      "\u001b[2m\u001b[36m(RolloutWorker pid=7532)\u001b[0m c:\\Users\\nadir\\anaconda3\\envs\\GTRay2.4.0\\lib\\site-packages\\rtgym\\envs\\real_time_env.py:376: UserWarning: Time-step timed out. Elapsed since last time-step: 0.16983549993710767\n",
      "\u001b[2m\u001b[36m(RolloutWorker pid=7532)\u001b[0m   warnings.warn(f\"Time-step timed out. Elapsed since last time-step: {now - self.__t_end}\")\n"
     ]
    },
    {
     "name": "stdout",
     "output_type": "stream",
     "text": [
      "Loop:  142\n"
     ]
    },
    {
     "name": "stderr",
     "output_type": "stream",
     "text": [
      "\u001b[2m\u001b[36m(RolloutWorker pid=7532)\u001b[0m c:\\Users\\nadir\\anaconda3\\envs\\GTRay2.4.0\\lib\\site-packages\\rtgym\\envs\\real_time_env.py:376: UserWarning: Time-step timed out. Elapsed since last time-step: 2.173235099953672\n",
      "\u001b[2m\u001b[36m(RolloutWorker pid=7532)\u001b[0m   warnings.warn(f\"Time-step timed out. Elapsed since last time-step: {now - self.__t_end}\")\n"
     ]
    },
    {
     "name": "stdout",
     "output_type": "stream",
     "text": [
      "\u001b[2m\u001b[36m(RolloutWorker pid=7532)\u001b[0m reset triggered\n",
      "\u001b[2m\u001b[36m(RolloutWorker pid=7532)\u001b[0m reload save for track : 72\n"
     ]
    },
    {
     "name": "stderr",
     "output_type": "stream",
     "text": [
      "\u001b[2m\u001b[36m(RolloutWorker pid=7532)\u001b[0m c:\\Users\\nadir\\anaconda3\\envs\\GTRay2.4.0\\lib\\site-packages\\rtgym\\envs\\real_time_env.py:376: UserWarning: Time-step timed out. Elapsed since last time-step: 0.11155899997174856\n",
      "\u001b[2m\u001b[36m(RolloutWorker pid=7532)\u001b[0m   warnings.warn(f\"Time-step timed out. Elapsed since last time-step: {now - self.__t_end}\")\n",
      "\u001b[2m\u001b[36m(RolloutWorker pid=7532)\u001b[0m c:\\Users\\nadir\\anaconda3\\envs\\GTRay2.4.0\\lib\\site-packages\\rtgym\\envs\\real_time_env.py:376: UserWarning: Time-step timed out. Elapsed since last time-step: 0.07206199991924223\n",
      "\u001b[2m\u001b[36m(RolloutWorker pid=7532)\u001b[0m   warnings.warn(f\"Time-step timed out. Elapsed since last time-step: {now - self.__t_end}\")\n"
     ]
    },
    {
     "name": "stdout",
     "output_type": "stream",
     "text": [
      "Loop:  143\n"
     ]
    },
    {
     "name": "stderr",
     "output_type": "stream",
     "text": [
      "\u001b[2m\u001b[36m(RolloutWorker pid=7532)\u001b[0m c:\\Users\\nadir\\anaconda3\\envs\\GTRay2.4.0\\lib\\site-packages\\rtgym\\envs\\real_time_env.py:376: UserWarning: Time-step timed out. Elapsed since last time-step: 2.0400315999995655\n",
      "\u001b[2m\u001b[36m(RolloutWorker pid=7532)\u001b[0m   warnings.warn(f\"Time-step timed out. Elapsed since last time-step: {now - self.__t_end}\")\n"
     ]
    },
    {
     "name": "stdout",
     "output_type": "stream",
     "text": [
      "\u001b[2m\u001b[36m(RolloutWorker pid=7532)\u001b[0m reset triggered\n",
      "\u001b[2m\u001b[36m(RolloutWorker pid=7532)\u001b[0m reload save for track : 72\n"
     ]
    },
    {
     "name": "stderr",
     "output_type": "stream",
     "text": [
      "\u001b[2m\u001b[36m(RolloutWorker pid=7532)\u001b[0m c:\\Users\\nadir\\anaconda3\\envs\\GTRay2.4.0\\lib\\site-packages\\rtgym\\envs\\real_time_env.py:376: UserWarning: Time-step timed out. Elapsed since last time-step: 0.15315549997285416\n",
      "\u001b[2m\u001b[36m(RolloutWorker pid=7532)\u001b[0m   warnings.warn(f\"Time-step timed out. Elapsed since last time-step: {now - self.__t_end}\")\n"
     ]
    },
    {
     "name": "stdout",
     "output_type": "stream",
     "text": [
      "\u001b[2m\u001b[36m(RolloutWorker pid=7532)\u001b[0m reset triggered\n",
      "\u001b[2m\u001b[36m(RolloutWorker pid=7532)\u001b[0m reload save for track : 72\n"
     ]
    },
    {
     "name": "stderr",
     "output_type": "stream",
     "text": [
      "\u001b[2m\u001b[36m(RolloutWorker pid=7532)\u001b[0m c:\\Users\\nadir\\anaconda3\\envs\\GTRay2.4.0\\lib\\site-packages\\rtgym\\envs\\real_time_env.py:376: UserWarning: Time-step timed out. Elapsed since last time-step: 0.18023819992777135\n",
      "\u001b[2m\u001b[36m(RolloutWorker pid=7532)\u001b[0m   warnings.warn(f\"Time-step timed out. Elapsed since last time-step: {now - self.__t_end}\")\n"
     ]
    },
    {
     "name": "stdout",
     "output_type": "stream",
     "text": [
      "Loop:  144\n"
     ]
    },
    {
     "name": "stderr",
     "output_type": "stream",
     "text": [
      "\u001b[2m\u001b[36m(RolloutWorker pid=7532)\u001b[0m c:\\Users\\nadir\\anaconda3\\envs\\GTRay2.4.0\\lib\\site-packages\\rtgym\\envs\\real_time_env.py:376: UserWarning: Time-step timed out. Elapsed since last time-step: 2.018708599990532\n",
      "\u001b[2m\u001b[36m(RolloutWorker pid=7532)\u001b[0m   warnings.warn(f\"Time-step timed out. Elapsed since last time-step: {now - self.__t_end}\")\n"
     ]
    },
    {
     "name": "stdout",
     "output_type": "stream",
     "text": [
      "\u001b[2m\u001b[36m(RolloutWorker pid=7532)\u001b[0m reset triggered\n",
      "\u001b[2m\u001b[36m(RolloutWorker pid=7532)\u001b[0m reload save for track : 72\n"
     ]
    },
    {
     "name": "stderr",
     "output_type": "stream",
     "text": [
      "\u001b[2m\u001b[36m(RolloutWorker pid=7532)\u001b[0m c:\\Users\\nadir\\anaconda3\\envs\\GTRay2.4.0\\lib\\site-packages\\rtgym\\envs\\real_time_env.py:376: UserWarning: Time-step timed out. Elapsed since last time-step: 0.18277569992733333\n",
      "\u001b[2m\u001b[36m(RolloutWorker pid=7532)\u001b[0m   warnings.warn(f\"Time-step timed out. Elapsed since last time-step: {now - self.__t_end}\")\n"
     ]
    },
    {
     "name": "stdout",
     "output_type": "stream",
     "text": [
      "Loop:  145\n"
     ]
    },
    {
     "name": "stderr",
     "output_type": "stream",
     "text": [
      "\u001b[2m\u001b[36m(RolloutWorker pid=7532)\u001b[0m c:\\Users\\nadir\\anaconda3\\envs\\GTRay2.4.0\\lib\\site-packages\\rtgym\\envs\\real_time_env.py:376: UserWarning: Time-step timed out. Elapsed since last time-step: 2.0150386999639522\n",
      "\u001b[2m\u001b[36m(RolloutWorker pid=7532)\u001b[0m   warnings.warn(f\"Time-step timed out. Elapsed since last time-step: {now - self.__t_end}\")\n",
      "\u001b[2m\u001b[36m(RolloutWorker pid=7532)\u001b[0m c:\\Users\\nadir\\anaconda3\\envs\\GTRay2.4.0\\lib\\site-packages\\rtgym\\envs\\real_time_env.py:376: UserWarning: Time-step timed out. Elapsed since last time-step: 0.0790436999332087\n",
      "\u001b[2m\u001b[36m(RolloutWorker pid=7532)\u001b[0m   warnings.warn(f\"Time-step timed out. Elapsed since last time-step: {now - self.__t_end}\")\n",
      "\u001b[2m\u001b[36m(RolloutWorker pid=7532)\u001b[0m c:\\Users\\nadir\\anaconda3\\envs\\GTRay2.4.0\\lib\\site-packages\\rtgym\\envs\\real_time_env.py:376: UserWarning: Time-step timed out. Elapsed since last time-step: 0.15888089999407384\n",
      "\u001b[2m\u001b[36m(RolloutWorker pid=7532)\u001b[0m   warnings.warn(f\"Time-step timed out. Elapsed since last time-step: {now - self.__t_end}\")\n"
     ]
    },
    {
     "name": "stdout",
     "output_type": "stream",
     "text": [
      "\u001b[2m\u001b[36m(RolloutWorker pid=7532)\u001b[0m reset triggered\n",
      "\u001b[2m\u001b[36m(RolloutWorker pid=7532)\u001b[0m reload save for track : 72\n",
      "Loop:  146\n"
     ]
    },
    {
     "name": "stderr",
     "output_type": "stream",
     "text": [
      "\u001b[2m\u001b[36m(RolloutWorker pid=7532)\u001b[0m c:\\Users\\nadir\\anaconda3\\envs\\GTRay2.4.0\\lib\\site-packages\\rtgym\\envs\\real_time_env.py:376: UserWarning: Time-step timed out. Elapsed since last time-step: 2.32165459996304\n",
      "\u001b[2m\u001b[36m(RolloutWorker pid=7532)\u001b[0m   warnings.warn(f\"Time-step timed out. Elapsed since last time-step: {now - self.__t_end}\")\n",
      "\u001b[2m\u001b[36m(RolloutWorker pid=7532)\u001b[0m c:\\Users\\nadir\\anaconda3\\envs\\GTRay2.4.0\\lib\\site-packages\\rtgym\\envs\\real_time_env.py:376: UserWarning: Time-step timed out. Elapsed since last time-step: 0.052874199966026936\n",
      "\u001b[2m\u001b[36m(RolloutWorker pid=7532)\u001b[0m   warnings.warn(f\"Time-step timed out. Elapsed since last time-step: {now - self.__t_end}\")\n"
     ]
    },
    {
     "name": "stdout",
     "output_type": "stream",
     "text": [
      "\u001b[2m\u001b[36m(RolloutWorker pid=7532)\u001b[0m reset triggered\n",
      "\u001b[2m\u001b[36m(RolloutWorker pid=7532)\u001b[0m reload save for track : 72\n"
     ]
    },
    {
     "name": "stderr",
     "output_type": "stream",
     "text": [
      "\u001b[2m\u001b[36m(RolloutWorker pid=7532)\u001b[0m c:\\Users\\nadir\\anaconda3\\envs\\GTRay2.4.0\\lib\\site-packages\\rtgym\\envs\\real_time_env.py:376: UserWarning: Time-step timed out. Elapsed since last time-step: 0.13447439999981725\n",
      "\u001b[2m\u001b[36m(RolloutWorker pid=7532)\u001b[0m   warnings.warn(f\"Time-step timed out. Elapsed since last time-step: {now - self.__t_end}\")\n",
      "\u001b[2m\u001b[36m(RolloutWorker pid=7532)\u001b[0m c:\\Users\\nadir\\anaconda3\\envs\\GTRay2.4.0\\lib\\site-packages\\rtgym\\envs\\real_time_env.py:376: UserWarning: Time-step timed out. Elapsed since last time-step: 0.14883969994662039\n",
      "\u001b[2m\u001b[36m(RolloutWorker pid=7532)\u001b[0m   warnings.warn(f\"Time-step timed out. Elapsed since last time-step: {now - self.__t_end}\")\n",
      "\u001b[2m\u001b[36m(RolloutWorker pid=7532)\u001b[0m c:\\Users\\nadir\\anaconda3\\envs\\GTRay2.4.0\\lib\\site-packages\\rtgym\\envs\\real_time_env.py:376: UserWarning: Time-step timed out. Elapsed since last time-step: 0.06528699997852527\n",
      "\u001b[2m\u001b[36m(RolloutWorker pid=7532)\u001b[0m   warnings.warn(f\"Time-step timed out. Elapsed since last time-step: {now - self.__t_end}\")\n"
     ]
    },
    {
     "name": "stdout",
     "output_type": "stream",
     "text": [
      "Loop:  147\n"
     ]
    },
    {
     "name": "stderr",
     "output_type": "stream",
     "text": [
      "\u001b[2m\u001b[36m(RolloutWorker pid=7532)\u001b[0m c:\\Users\\nadir\\anaconda3\\envs\\GTRay2.4.0\\lib\\site-packages\\rtgym\\envs\\real_time_env.py:376: UserWarning: Time-step timed out. Elapsed since last time-step: 2.0397429000004195\n",
      "\u001b[2m\u001b[36m(RolloutWorker pid=7532)\u001b[0m   warnings.warn(f\"Time-step timed out. Elapsed since last time-step: {now - self.__t_end}\")\n"
     ]
    },
    {
     "name": "stdout",
     "output_type": "stream",
     "text": [
      "\u001b[2m\u001b[36m(RolloutWorker pid=7532)\u001b[0m reset triggered\n",
      "\u001b[2m\u001b[36m(RolloutWorker pid=7532)\u001b[0m reload save for track : 72\n"
     ]
    },
    {
     "name": "stderr",
     "output_type": "stream",
     "text": [
      "\u001b[2m\u001b[36m(RolloutWorker pid=7532)\u001b[0m c:\\Users\\nadir\\anaconda3\\envs\\GTRay2.4.0\\lib\\site-packages\\rtgym\\envs\\real_time_env.py:376: UserWarning: Time-step timed out. Elapsed since last time-step: 0.10625119996529975\n",
      "\u001b[2m\u001b[36m(RolloutWorker pid=7532)\u001b[0m   warnings.warn(f\"Time-step timed out. Elapsed since last time-step: {now - self.__t_end}\")\n"
     ]
    },
    {
     "name": "stdout",
     "output_type": "stream",
     "text": [
      "Loop:  148\n"
     ]
    },
    {
     "name": "stderr",
     "output_type": "stream",
     "text": [
      "\u001b[2m\u001b[36m(RolloutWorker pid=7532)\u001b[0m c:\\Users\\nadir\\anaconda3\\envs\\GTRay2.4.0\\lib\\site-packages\\rtgym\\envs\\real_time_env.py:376: UserWarning: Time-step timed out. Elapsed since last time-step: 2.037480099925233\n",
      "\u001b[2m\u001b[36m(RolloutWorker pid=7532)\u001b[0m   warnings.warn(f\"Time-step timed out. Elapsed since last time-step: {now - self.__t_end}\")\n"
     ]
    },
    {
     "name": "stdout",
     "output_type": "stream",
     "text": [
      "\u001b[2m\u001b[36m(RolloutWorker pid=7532)\u001b[0m reset triggered\n",
      "\u001b[2m\u001b[36m(RolloutWorker pid=7532)\u001b[0m reload save for track : 72\n"
     ]
    },
    {
     "name": "stderr",
     "output_type": "stream",
     "text": [
      "\u001b[2m\u001b[36m(RolloutWorker pid=7532)\u001b[0m c:\\Users\\nadir\\anaconda3\\envs\\GTRay2.4.0\\lib\\site-packages\\rtgym\\envs\\real_time_env.py:376: UserWarning: Time-step timed out. Elapsed since last time-step: 0.10922159998153802\n",
      "\u001b[2m\u001b[36m(RolloutWorker pid=7532)\u001b[0m   warnings.warn(f\"Time-step timed out. Elapsed since last time-step: {now - self.__t_end}\")\n",
      "\u001b[2m\u001b[36m(RolloutWorker pid=7532)\u001b[0m c:\\Users\\nadir\\anaconda3\\envs\\GTRay2.4.0\\lib\\site-packages\\rtgym\\envs\\real_time_env.py:376: UserWarning: Time-step timed out. Elapsed since last time-step: 0.050407099959556945\n",
      "\u001b[2m\u001b[36m(RolloutWorker pid=7532)\u001b[0m   warnings.warn(f\"Time-step timed out. Elapsed since last time-step: {now - self.__t_end}\")\n"
     ]
    },
    {
     "name": "stdout",
     "output_type": "stream",
     "text": [
      "\u001b[2m\u001b[36m(RolloutWorker pid=7532)\u001b[0m reset triggered\n",
      "\u001b[2m\u001b[36m(RolloutWorker pid=7532)\u001b[0m reload save for track : 72\n"
     ]
    },
    {
     "name": "stderr",
     "output_type": "stream",
     "text": [
      "\u001b[2m\u001b[36m(RolloutWorker pid=7532)\u001b[0m c:\\Users\\nadir\\anaconda3\\envs\\GTRay2.4.0\\lib\\site-packages\\rtgym\\envs\\real_time_env.py:376: UserWarning: Time-step timed out. Elapsed since last time-step: 0.16307959996356658\n",
      "\u001b[2m\u001b[36m(RolloutWorker pid=7532)\u001b[0m   warnings.warn(f\"Time-step timed out. Elapsed since last time-step: {now - self.__t_end}\")\n"
     ]
    },
    {
     "name": "stdout",
     "output_type": "stream",
     "text": [
      "Loop:  149\n"
     ]
    },
    {
     "name": "stderr",
     "output_type": "stream",
     "text": [
      "\u001b[2m\u001b[36m(RolloutWorker pid=7532)\u001b[0m c:\\Users\\nadir\\anaconda3\\envs\\GTRay2.4.0\\lib\\site-packages\\rtgym\\envs\\real_time_env.py:376: UserWarning: Time-step timed out. Elapsed since last time-step: 2.088021699985802\n",
      "\u001b[2m\u001b[36m(RolloutWorker pid=7532)\u001b[0m   warnings.warn(f\"Time-step timed out. Elapsed since last time-step: {now - self.__t_end}\")\n"
     ]
    },
    {
     "name": "stdout",
     "output_type": "stream",
     "text": [
      "\u001b[2m\u001b[36m(RolloutWorker pid=7532)\u001b[0m reset triggered\n",
      "\u001b[2m\u001b[36m(RolloutWorker pid=7532)\u001b[0m reload save for track : 72\n"
     ]
    },
    {
     "name": "stderr",
     "output_type": "stream",
     "text": [
      "\u001b[2m\u001b[36m(RolloutWorker pid=7532)\u001b[0m c:\\Users\\nadir\\anaconda3\\envs\\GTRay2.4.0\\lib\\site-packages\\rtgym\\envs\\real_time_env.py:376: UserWarning: Time-step timed out. Elapsed since last time-step: 0.18232489990532486\n",
      "\u001b[2m\u001b[36m(RolloutWorker pid=7532)\u001b[0m   warnings.warn(f\"Time-step timed out. Elapsed since last time-step: {now - self.__t_end}\")\n"
     ]
    },
    {
     "name": "stdout",
     "output_type": "stream",
     "text": [
      "Loop:  150\n",
      "Saved 150\n"
     ]
    },
    {
     "name": "stderr",
     "output_type": "stream",
     "text": [
      "\u001b[2m\u001b[36m(RolloutWorker pid=7532)\u001b[0m c:\\Users\\nadir\\anaconda3\\envs\\GTRay2.4.0\\lib\\site-packages\\rtgym\\envs\\real_time_env.py:376: UserWarning: Time-step timed out. Elapsed since last time-step: 2.0593029999863575\n",
      "\u001b[2m\u001b[36m(RolloutWorker pid=7532)\u001b[0m   warnings.warn(f\"Time-step timed out. Elapsed since last time-step: {now - self.__t_end}\")\n"
     ]
    },
    {
     "name": "stdout",
     "output_type": "stream",
     "text": [
      "\u001b[2m\u001b[36m(RolloutWorker pid=7532)\u001b[0m reset triggered\n",
      "\u001b[2m\u001b[36m(RolloutWorker pid=7532)\u001b[0m reload save for track : 72\n"
     ]
    },
    {
     "name": "stderr",
     "output_type": "stream",
     "text": [
      "\u001b[2m\u001b[36m(RolloutWorker pid=7532)\u001b[0m c:\\Users\\nadir\\anaconda3\\envs\\GTRay2.4.0\\lib\\site-packages\\rtgym\\envs\\real_time_env.py:376: UserWarning: Time-step timed out. Elapsed since last time-step: 0.13047269994331145\n",
      "\u001b[2m\u001b[36m(RolloutWorker pid=7532)\u001b[0m   warnings.warn(f\"Time-step timed out. Elapsed since last time-step: {now - self.__t_end}\")\n"
     ]
    },
    {
     "name": "stdout",
     "output_type": "stream",
     "text": [
      "Loop:  151\n"
     ]
    },
    {
     "name": "stderr",
     "output_type": "stream",
     "text": [
      "\u001b[2m\u001b[36m(RolloutWorker pid=7532)\u001b[0m c:\\Users\\nadir\\anaconda3\\envs\\GTRay2.4.0\\lib\\site-packages\\rtgym\\envs\\real_time_env.py:376: UserWarning: Time-step timed out. Elapsed since last time-step: 2.045867799946791\n",
      "\u001b[2m\u001b[36m(RolloutWorker pid=7532)\u001b[0m   warnings.warn(f\"Time-step timed out. Elapsed since last time-step: {now - self.__t_end}\")\n"
     ]
    },
    {
     "name": "stdout",
     "output_type": "stream",
     "text": [
      "\u001b[2m\u001b[36m(RolloutWorker pid=7532)\u001b[0m reset triggered\n",
      "\u001b[2m\u001b[36m(RolloutWorker pid=7532)\u001b[0m reload save for track : 72\n"
     ]
    },
    {
     "name": "stderr",
     "output_type": "stream",
     "text": [
      "\u001b[2m\u001b[36m(RolloutWorker pid=7532)\u001b[0m c:\\Users\\nadir\\anaconda3\\envs\\GTRay2.4.0\\lib\\site-packages\\rtgym\\envs\\real_time_env.py:376: UserWarning: Time-step timed out. Elapsed since last time-step: 0.1242411999601245\n",
      "\u001b[2m\u001b[36m(RolloutWorker pid=7532)\u001b[0m   warnings.warn(f\"Time-step timed out. Elapsed since last time-step: {now - self.__t_end}\")\n",
      "\u001b[2m\u001b[36m(RolloutWorker pid=7532)\u001b[0m c:\\Users\\nadir\\anaconda3\\envs\\GTRay2.4.0\\lib\\site-packages\\rtgym\\envs\\real_time_env.py:376: UserWarning: Time-step timed out. Elapsed since last time-step: 0.06698179993145459\n",
      "\u001b[2m\u001b[36m(RolloutWorker pid=7532)\u001b[0m   warnings.warn(f\"Time-step timed out. Elapsed since last time-step: {now - self.__t_end}\")\n"
     ]
    },
    {
     "name": "stdout",
     "output_type": "stream",
     "text": [
      "Loop:  152\n"
     ]
    },
    {
     "name": "stderr",
     "output_type": "stream",
     "text": [
      "\u001b[2m\u001b[36m(RolloutWorker pid=7532)\u001b[0m c:\\Users\\nadir\\anaconda3\\envs\\GTRay2.4.0\\lib\\site-packages\\rtgym\\envs\\real_time_env.py:376: UserWarning: Time-step timed out. Elapsed since last time-step: 2.0204985000000306\n",
      "\u001b[2m\u001b[36m(RolloutWorker pid=7532)\u001b[0m   warnings.warn(f\"Time-step timed out. Elapsed since last time-step: {now - self.__t_end}\")\n",
      "\u001b[2m\u001b[36m(RolloutWorker pid=7532)\u001b[0m c:\\Users\\nadir\\anaconda3\\envs\\GTRay2.4.0\\lib\\site-packages\\rtgym\\envs\\real_time_env.py:376: UserWarning: Time-step timed out. Elapsed since last time-step: 0.054967499991107616\n",
      "\u001b[2m\u001b[36m(RolloutWorker pid=7532)\u001b[0m   warnings.warn(f\"Time-step timed out. Elapsed since last time-step: {now - self.__t_end}\")\n",
      "\u001b[2m\u001b[36m(RolloutWorker pid=7532)\u001b[0m c:\\Users\\nadir\\anaconda3\\envs\\GTRay2.4.0\\lib\\site-packages\\rtgym\\envs\\real_time_env.py:376: UserWarning: Time-step timed out. Elapsed since last time-step: 0.05303079997065652\n",
      "\u001b[2m\u001b[36m(RolloutWorker pid=7532)\u001b[0m   warnings.warn(f\"Time-step timed out. Elapsed since last time-step: {now - self.__t_end}\")\n",
      "\u001b[2m\u001b[36m(RolloutWorker pid=7532)\u001b[0m c:\\Users\\nadir\\anaconda3\\envs\\GTRay2.4.0\\lib\\site-packages\\rtgym\\envs\\real_time_env.py:376: UserWarning: Time-step timed out. Elapsed since last time-step: 0.13556619999781105\n",
      "\u001b[2m\u001b[36m(RolloutWorker pid=7532)\u001b[0m   warnings.warn(f\"Time-step timed out. Elapsed since last time-step: {now - self.__t_end}\")\n"
     ]
    },
    {
     "name": "stdout",
     "output_type": "stream",
     "text": [
      "\u001b[2m\u001b[36m(RolloutWorker pid=7532)\u001b[0m reset triggered\n",
      "\u001b[2m\u001b[36m(RolloutWorker pid=7532)\u001b[0m reload save for track : 72\n",
      "Loop:  153\n"
     ]
    },
    {
     "name": "stderr",
     "output_type": "stream",
     "text": [
      "\u001b[2m\u001b[36m(RolloutWorker pid=7532)\u001b[0m c:\\Users\\nadir\\anaconda3\\envs\\GTRay2.4.0\\lib\\site-packages\\rtgym\\envs\\real_time_env.py:376: UserWarning: Time-step timed out. Elapsed since last time-step: 2.107609799931197\n",
      "\u001b[2m\u001b[36m(RolloutWorker pid=7532)\u001b[0m   warnings.warn(f\"Time-step timed out. Elapsed since last time-step: {now - self.__t_end}\")\n"
     ]
    },
    {
     "name": "stdout",
     "output_type": "stream",
     "text": [
      "\u001b[2m\u001b[36m(RolloutWorker pid=7532)\u001b[0m reset triggered\n",
      "\u001b[2m\u001b[36m(RolloutWorker pid=7532)\u001b[0m reload save for track : 72\n"
     ]
    },
    {
     "name": "stderr",
     "output_type": "stream",
     "text": [
      "\u001b[2m\u001b[36m(RolloutWorker pid=7532)\u001b[0m c:\\Users\\nadir\\anaconda3\\envs\\GTRay2.4.0\\lib\\site-packages\\rtgym\\envs\\real_time_env.py:376: UserWarning: Time-step timed out. Elapsed since last time-step: 0.11758909996024158\n",
      "\u001b[2m\u001b[36m(RolloutWorker pid=7532)\u001b[0m   warnings.warn(f\"Time-step timed out. Elapsed since last time-step: {now - self.__t_end}\")\n",
      "\u001b[2m\u001b[36m(RolloutWorker pid=7532)\u001b[0m c:\\Users\\nadir\\anaconda3\\envs\\GTRay2.4.0\\lib\\site-packages\\rtgym\\envs\\real_time_env.py:376: UserWarning: Time-step timed out. Elapsed since last time-step: 0.05119749993082223\n",
      "\u001b[2m\u001b[36m(RolloutWorker pid=7532)\u001b[0m   warnings.warn(f\"Time-step timed out. Elapsed since last time-step: {now - self.__t_end}\")\n"
     ]
    },
    {
     "name": "stdout",
     "output_type": "stream",
     "text": [
      "Loop:  154\n"
     ]
    },
    {
     "name": "stderr",
     "output_type": "stream",
     "text": [
      "\u001b[2m\u001b[36m(RolloutWorker pid=7532)\u001b[0m c:\\Users\\nadir\\anaconda3\\envs\\GTRay2.4.0\\lib\\site-packages\\rtgym\\envs\\real_time_env.py:376: UserWarning: Time-step timed out. Elapsed since last time-step: 1.9895130999993853\n",
      "\u001b[2m\u001b[36m(RolloutWorker pid=7532)\u001b[0m   warnings.warn(f\"Time-step timed out. Elapsed since last time-step: {now - self.__t_end}\")\n"
     ]
    },
    {
     "name": "stdout",
     "output_type": "stream",
     "text": [
      "\u001b[2m\u001b[36m(RolloutWorker pid=7532)\u001b[0m reset triggered\n",
      "\u001b[2m\u001b[36m(RolloutWorker pid=7532)\u001b[0m reload save for track : 72\n"
     ]
    },
    {
     "name": "stderr",
     "output_type": "stream",
     "text": [
      "\u001b[2m\u001b[36m(RolloutWorker pid=7532)\u001b[0m c:\\Users\\nadir\\anaconda3\\envs\\GTRay2.4.0\\lib\\site-packages\\rtgym\\envs\\real_time_env.py:376: UserWarning: Time-step timed out. Elapsed since last time-step: 0.0929801999927804\n",
      "\u001b[2m\u001b[36m(RolloutWorker pid=7532)\u001b[0m   warnings.warn(f\"Time-step timed out. Elapsed since last time-step: {now - self.__t_end}\")\n",
      "\u001b[2m\u001b[36m(RolloutWorker pid=7532)\u001b[0m c:\\Users\\nadir\\anaconda3\\envs\\GTRay2.4.0\\lib\\site-packages\\rtgym\\envs\\real_time_env.py:376: UserWarning: Time-step timed out. Elapsed since last time-step: 0.08981509989826009\n",
      "\u001b[2m\u001b[36m(RolloutWorker pid=7532)\u001b[0m   warnings.warn(f\"Time-step timed out. Elapsed since last time-step: {now - self.__t_end}\")\n"
     ]
    },
    {
     "name": "stdout",
     "output_type": "stream",
     "text": [
      "Loop:  155\n"
     ]
    },
    {
     "name": "stderr",
     "output_type": "stream",
     "text": [
      "\u001b[2m\u001b[36m(RolloutWorker pid=7532)\u001b[0m c:\\Users\\nadir\\anaconda3\\envs\\GTRay2.4.0\\lib\\site-packages\\rtgym\\envs\\real_time_env.py:376: UserWarning: Time-step timed out. Elapsed since last time-step: 2.014600900000005\n",
      "\u001b[2m\u001b[36m(RolloutWorker pid=7532)\u001b[0m   warnings.warn(f\"Time-step timed out. Elapsed since last time-step: {now - self.__t_end}\")\n"
     ]
    },
    {
     "name": "stdout",
     "output_type": "stream",
     "text": [
      "\u001b[2m\u001b[36m(RolloutWorker pid=7532)\u001b[0m reset triggered\n",
      "\u001b[2m\u001b[36m(RolloutWorker pid=7532)\u001b[0m reload save for track : 72\n"
     ]
    },
    {
     "name": "stderr",
     "output_type": "stream",
     "text": [
      "\u001b[2m\u001b[36m(RolloutWorker pid=7532)\u001b[0m c:\\Users\\nadir\\anaconda3\\envs\\GTRay2.4.0\\lib\\site-packages\\rtgym\\envs\\real_time_env.py:376: UserWarning: Time-step timed out. Elapsed since last time-step: 0.10792229999242409\n",
      "\u001b[2m\u001b[36m(RolloutWorker pid=7532)\u001b[0m   warnings.warn(f\"Time-step timed out. Elapsed since last time-step: {now - self.__t_end}\")\n"
     ]
    },
    {
     "name": "stdout",
     "output_type": "stream",
     "text": [
      "\u001b[2m\u001b[36m(RolloutWorker pid=7532)\u001b[0m reset triggered\n",
      "\u001b[2m\u001b[36m(RolloutWorker pid=7532)\u001b[0m reload save for track : 72\n"
     ]
    },
    {
     "name": "stderr",
     "output_type": "stream",
     "text": [
      "\u001b[2m\u001b[36m(RolloutWorker pid=7532)\u001b[0m c:\\Users\\nadir\\anaconda3\\envs\\GTRay2.4.0\\lib\\site-packages\\rtgym\\envs\\real_time_env.py:376: UserWarning: Time-step timed out. Elapsed since last time-step: 0.14859339993290632\n",
      "\u001b[2m\u001b[36m(RolloutWorker pid=7532)\u001b[0m   warnings.warn(f\"Time-step timed out. Elapsed since last time-step: {now - self.__t_end}\")\n"
     ]
    },
    {
     "name": "stdout",
     "output_type": "stream",
     "text": [
      "Loop:  156\n"
     ]
    },
    {
     "name": "stderr",
     "output_type": "stream",
     "text": [
      "\u001b[2m\u001b[36m(RolloutWorker pid=7532)\u001b[0m c:\\Users\\nadir\\anaconda3\\envs\\GTRay2.4.0\\lib\\site-packages\\rtgym\\envs\\real_time_env.py:376: UserWarning: Time-step timed out. Elapsed since last time-step: 2.172314699965682\n",
      "\u001b[2m\u001b[36m(RolloutWorker pid=7532)\u001b[0m   warnings.warn(f\"Time-step timed out. Elapsed since last time-step: {now - self.__t_end}\")\n"
     ]
    },
    {
     "name": "stdout",
     "output_type": "stream",
     "text": [
      "\u001b[2m\u001b[36m(RolloutWorker pid=7532)\u001b[0m reset triggered\n",
      "\u001b[2m\u001b[36m(RolloutWorker pid=7532)\u001b[0m reload save for track : 72\n"
     ]
    },
    {
     "name": "stderr",
     "output_type": "stream",
     "text": [
      "\u001b[2m\u001b[36m(RolloutWorker pid=7532)\u001b[0m c:\\Users\\nadir\\anaconda3\\envs\\GTRay2.4.0\\lib\\site-packages\\rtgym\\envs\\real_time_env.py:376: UserWarning: Time-step timed out. Elapsed since last time-step: 0.1368293999485104\n",
      "\u001b[2m\u001b[36m(RolloutWorker pid=7532)\u001b[0m   warnings.warn(f\"Time-step timed out. Elapsed since last time-step: {now - self.__t_end}\")\n"
     ]
    },
    {
     "name": "stdout",
     "output_type": "stream",
     "text": [
      "Loop:  157\n"
     ]
    },
    {
     "name": "stderr",
     "output_type": "stream",
     "text": [
      "\u001b[2m\u001b[36m(RolloutWorker pid=7532)\u001b[0m c:\\Users\\nadir\\anaconda3\\envs\\GTRay2.4.0\\lib\\site-packages\\rtgym\\envs\\real_time_env.py:376: UserWarning: Time-step timed out. Elapsed since last time-step: 2.060956599942074\n",
      "\u001b[2m\u001b[36m(RolloutWorker pid=7532)\u001b[0m   warnings.warn(f\"Time-step timed out. Elapsed since last time-step: {now - self.__t_end}\")\n"
     ]
    },
    {
     "name": "stdout",
     "output_type": "stream",
     "text": [
      "\u001b[2m\u001b[36m(RolloutWorker pid=7532)\u001b[0m reset triggered\n",
      "\u001b[2m\u001b[36m(RolloutWorker pid=7532)\u001b[0m reload save for track : 72\n"
     ]
    },
    {
     "name": "stderr",
     "output_type": "stream",
     "text": [
      "\u001b[2m\u001b[36m(RolloutWorker pid=7532)\u001b[0m c:\\Users\\nadir\\anaconda3\\envs\\GTRay2.4.0\\lib\\site-packages\\rtgym\\envs\\real_time_env.py:376: UserWarning: Time-step timed out. Elapsed since last time-step: 0.16548929994860373\n",
      "\u001b[2m\u001b[36m(RolloutWorker pid=7532)\u001b[0m   warnings.warn(f\"Time-step timed out. Elapsed since last time-step: {now - self.__t_end}\")\n"
     ]
    },
    {
     "name": "stdout",
     "output_type": "stream",
     "text": [
      "Loop:  158\n"
     ]
    },
    {
     "name": "stderr",
     "output_type": "stream",
     "text": [
      "\u001b[2m\u001b[36m(RolloutWorker pid=7532)\u001b[0m c:\\Users\\nadir\\anaconda3\\envs\\GTRay2.4.0\\lib\\site-packages\\rtgym\\envs\\real_time_env.py:376: UserWarning: Time-step timed out. Elapsed since last time-step: 2.0417896999424556\n",
      "\u001b[2m\u001b[36m(RolloutWorker pid=7532)\u001b[0m   warnings.warn(f\"Time-step timed out. Elapsed since last time-step: {now - self.__t_end}\")\n"
     ]
    },
    {
     "name": "stdout",
     "output_type": "stream",
     "text": [
      "\u001b[2m\u001b[36m(RolloutWorker pid=7532)\u001b[0m reset triggered\n",
      "\u001b[2m\u001b[36m(RolloutWorker pid=7532)\u001b[0m reload save for track : 72\n"
     ]
    },
    {
     "name": "stderr",
     "output_type": "stream",
     "text": [
      "\u001b[2m\u001b[36m(RolloutWorker pid=7532)\u001b[0m c:\\Users\\nadir\\anaconda3\\envs\\GTRay2.4.0\\lib\\site-packages\\rtgym\\envs\\real_time_env.py:376: UserWarning: Time-step timed out. Elapsed since last time-step: 0.15230739994876785\n",
      "\u001b[2m\u001b[36m(RolloutWorker pid=7532)\u001b[0m   warnings.warn(f\"Time-step timed out. Elapsed since last time-step: {now - self.__t_end}\")\n"
     ]
    },
    {
     "name": "stdout",
     "output_type": "stream",
     "text": [
      "Loop:  159\n"
     ]
    },
    {
     "name": "stderr",
     "output_type": "stream",
     "text": [
      "\u001b[2m\u001b[36m(RolloutWorker pid=7532)\u001b[0m c:\\Users\\nadir\\anaconda3\\envs\\GTRay2.4.0\\lib\\site-packages\\rtgym\\envs\\real_time_env.py:376: UserWarning: Time-step timed out. Elapsed since last time-step: 2.172824299941567\n",
      "\u001b[2m\u001b[36m(RolloutWorker pid=7532)\u001b[0m   warnings.warn(f\"Time-step timed out. Elapsed since last time-step: {now - self.__t_end}\")\n",
      "\u001b[2m\u001b[36m(RolloutWorker pid=7532)\u001b[0m c:\\Users\\nadir\\anaconda3\\envs\\GTRay2.4.0\\lib\\site-packages\\rtgym\\envs\\real_time_env.py:376: UserWarning: Time-step timed out. Elapsed since last time-step: 0.15463479995196394\n",
      "\u001b[2m\u001b[36m(RolloutWorker pid=7532)\u001b[0m   warnings.warn(f\"Time-step timed out. Elapsed since last time-step: {now - self.__t_end}\")\n"
     ]
    },
    {
     "name": "stdout",
     "output_type": "stream",
     "text": [
      "\u001b[2m\u001b[36m(RolloutWorker pid=7532)\u001b[0m reset triggered\n",
      "\u001b[2m\u001b[36m(RolloutWorker pid=7532)\u001b[0m reload save for track : 72\n",
      "Loop:  160\n",
      "Saved 160\n"
     ]
    },
    {
     "name": "stderr",
     "output_type": "stream",
     "text": [
      "\u001b[2m\u001b[36m(RolloutWorker pid=7532)\u001b[0m c:\\Users\\nadir\\anaconda3\\envs\\GTRay2.4.0\\lib\\site-packages\\rtgym\\envs\\real_time_env.py:376: UserWarning: Time-step timed out. Elapsed since last time-step: 2.0784258999392478\n",
      "\u001b[2m\u001b[36m(RolloutWorker pid=7532)\u001b[0m   warnings.warn(f\"Time-step timed out. Elapsed since last time-step: {now - self.__t_end}\")\n"
     ]
    },
    {
     "name": "stdout",
     "output_type": "stream",
     "text": [
      "\u001b[2m\u001b[36m(RolloutWorker pid=7532)\u001b[0m reset triggered\n",
      "\u001b[2m\u001b[36m(RolloutWorker pid=7532)\u001b[0m reload save for track : 72\n"
     ]
    },
    {
     "name": "stderr",
     "output_type": "stream",
     "text": [
      "\u001b[2m\u001b[36m(RolloutWorker pid=7532)\u001b[0m c:\\Users\\nadir\\anaconda3\\envs\\GTRay2.4.0\\lib\\site-packages\\rtgym\\envs\\real_time_env.py:376: UserWarning: Time-step timed out. Elapsed since last time-step: 0.1341488999514695\n",
      "\u001b[2m\u001b[36m(RolloutWorker pid=7532)\u001b[0m   warnings.warn(f\"Time-step timed out. Elapsed since last time-step: {now - self.__t_end}\")\n"
     ]
    },
    {
     "name": "stdout",
     "output_type": "stream",
     "text": [
      "Loop:  161\n"
     ]
    },
    {
     "name": "stderr",
     "output_type": "stream",
     "text": [
      "\u001b[2m\u001b[36m(RolloutWorker pid=7532)\u001b[0m c:\\Users\\nadir\\anaconda3\\envs\\GTRay2.4.0\\lib\\site-packages\\rtgym\\envs\\real_time_env.py:376: UserWarning: Time-step timed out. Elapsed since last time-step: 1.997363799939194\n",
      "\u001b[2m\u001b[36m(RolloutWorker pid=7532)\u001b[0m   warnings.warn(f\"Time-step timed out. Elapsed since last time-step: {now - self.__t_end}\")\n"
     ]
    },
    {
     "name": "stdout",
     "output_type": "stream",
     "text": [
      "\u001b[2m\u001b[36m(RolloutWorker pid=7532)\u001b[0m reset triggered\n",
      "\u001b[2m\u001b[36m(RolloutWorker pid=7532)\u001b[0m reload save for track : 72\n"
     ]
    },
    {
     "name": "stderr",
     "output_type": "stream",
     "text": [
      "\u001b[2m\u001b[36m(RolloutWorker pid=7532)\u001b[0m c:\\Users\\nadir\\anaconda3\\envs\\GTRay2.4.0\\lib\\site-packages\\rtgym\\envs\\real_time_env.py:376: UserWarning: Time-step timed out. Elapsed since last time-step: 0.13446489995203592\n",
      "\u001b[2m\u001b[36m(RolloutWorker pid=7532)\u001b[0m   warnings.warn(f\"Time-step timed out. Elapsed since last time-step: {now - self.__t_end}\")\n"
     ]
    },
    {
     "name": "stdout",
     "output_type": "stream",
     "text": [
      "Loop:  162\n"
     ]
    },
    {
     "name": "stderr",
     "output_type": "stream",
     "text": [
      "\u001b[2m\u001b[36m(RolloutWorker pid=7532)\u001b[0m c:\\Users\\nadir\\anaconda3\\envs\\GTRay2.4.0\\lib\\site-packages\\rtgym\\envs\\real_time_env.py:376: UserWarning: Time-step timed out. Elapsed since last time-step: 2.096872999939478\n",
      "\u001b[2m\u001b[36m(RolloutWorker pid=7532)\u001b[0m   warnings.warn(f\"Time-step timed out. Elapsed since last time-step: {now - self.__t_end}\")\n"
     ]
    },
    {
     "name": "stdout",
     "output_type": "stream",
     "text": [
      "\u001b[2m\u001b[36m(RolloutWorker pid=7532)\u001b[0m reset triggered\n",
      "\u001b[2m\u001b[36m(RolloutWorker pid=7532)\u001b[0m reload save for track : 72\n"
     ]
    },
    {
     "name": "stderr",
     "output_type": "stream",
     "text": [
      "\u001b[2m\u001b[36m(RolloutWorker pid=7532)\u001b[0m c:\\Users\\nadir\\anaconda3\\envs\\GTRay2.4.0\\lib\\site-packages\\rtgym\\envs\\real_time_env.py:376: UserWarning: Time-step timed out. Elapsed since last time-step: 0.12749799997709488\n",
      "\u001b[2m\u001b[36m(RolloutWorker pid=7532)\u001b[0m   warnings.warn(f\"Time-step timed out. Elapsed since last time-step: {now - self.__t_end}\")\n"
     ]
    },
    {
     "name": "stdout",
     "output_type": "stream",
     "text": [
      "\u001b[2m\u001b[36m(RolloutWorker pid=7532)\u001b[0m reset triggered\n",
      "\u001b[2m\u001b[36m(RolloutWorker pid=7532)\u001b[0m reload save for track : 72\n"
     ]
    },
    {
     "name": "stderr",
     "output_type": "stream",
     "text": [
      "\u001b[2m\u001b[36m(RolloutWorker pid=7532)\u001b[0m c:\\Users\\nadir\\anaconda3\\envs\\GTRay2.4.0\\lib\\site-packages\\rtgym\\envs\\real_time_env.py:376: UserWarning: Time-step timed out. Elapsed since last time-step: 0.16368779992353666\n",
      "\u001b[2m\u001b[36m(RolloutWorker pid=7532)\u001b[0m   warnings.warn(f\"Time-step timed out. Elapsed since last time-step: {now - self.__t_end}\")\n"
     ]
    },
    {
     "name": "stdout",
     "output_type": "stream",
     "text": [
      "Loop:  163\n"
     ]
    },
    {
     "name": "stderr",
     "output_type": "stream",
     "text": [
      "\u001b[2m\u001b[36m(RolloutWorker pid=7532)\u001b[0m c:\\Users\\nadir\\anaconda3\\envs\\GTRay2.4.0\\lib\\site-packages\\rtgym\\envs\\real_time_env.py:376: UserWarning: Time-step timed out. Elapsed since last time-step: 2.1370868999902086\n",
      "\u001b[2m\u001b[36m(RolloutWorker pid=7532)\u001b[0m   warnings.warn(f\"Time-step timed out. Elapsed since last time-step: {now - self.__t_end}\")\n",
      "\u001b[2m\u001b[36m(RolloutWorker pid=7532)\u001b[0m c:\\Users\\nadir\\anaconda3\\envs\\GTRay2.4.0\\lib\\site-packages\\rtgym\\envs\\real_time_env.py:376: UserWarning: Time-step timed out. Elapsed since last time-step: 0.14022329996987537\n",
      "\u001b[2m\u001b[36m(RolloutWorker pid=7532)\u001b[0m   warnings.warn(f\"Time-step timed out. Elapsed since last time-step: {now - self.__t_end}\")\n"
     ]
    },
    {
     "name": "stdout",
     "output_type": "stream",
     "text": [
      "\u001b[2m\u001b[36m(RolloutWorker pid=7532)\u001b[0m reset triggered\n",
      "\u001b[2m\u001b[36m(RolloutWorker pid=7532)\u001b[0m reload save for track : 72\n",
      "\u001b[2m\u001b[36m(RolloutWorker pid=7532)\u001b[0m reset triggered\n",
      "\u001b[2m\u001b[36m(RolloutWorker pid=7532)\u001b[0m reload save for track : 72\n"
     ]
    },
    {
     "name": "stderr",
     "output_type": "stream",
     "text": [
      "\u001b[2m\u001b[36m(RolloutWorker pid=7532)\u001b[0m c:\\Users\\nadir\\anaconda3\\envs\\GTRay2.4.0\\lib\\site-packages\\rtgym\\envs\\real_time_env.py:376: UserWarning: Time-step timed out. Elapsed since last time-step: 0.1534816999328541\n",
      "\u001b[2m\u001b[36m(RolloutWorker pid=7532)\u001b[0m   warnings.warn(f\"Time-step timed out. Elapsed since last time-step: {now - self.__t_end}\")\n"
     ]
    },
    {
     "name": "stdout",
     "output_type": "stream",
     "text": [
      "Loop:  164\n"
     ]
    },
    {
     "name": "stderr",
     "output_type": "stream",
     "text": [
      "\u001b[2m\u001b[36m(RolloutWorker pid=7532)\u001b[0m c:\\Users\\nadir\\anaconda3\\envs\\GTRay2.4.0\\lib\\site-packages\\rtgym\\envs\\real_time_env.py:376: UserWarning: Time-step timed out. Elapsed since last time-step: 2.0395007999877635\n",
      "\u001b[2m\u001b[36m(RolloutWorker pid=7532)\u001b[0m   warnings.warn(f\"Time-step timed out. Elapsed since last time-step: {now - self.__t_end}\")\n",
      "\u001b[2m\u001b[36m(RolloutWorker pid=7532)\u001b[0m c:\\Users\\nadir\\anaconda3\\envs\\GTRay2.4.0\\lib\\site-packages\\rtgym\\envs\\real_time_env.py:376: UserWarning: Time-step timed out. Elapsed since last time-step: 0.05233389998193161\n",
      "\u001b[2m\u001b[36m(RolloutWorker pid=7532)\u001b[0m   warnings.warn(f\"Time-step timed out. Elapsed since last time-step: {now - self.__t_end}\")\n"
     ]
    },
    {
     "name": "stdout",
     "output_type": "stream",
     "text": [
      "\u001b[2m\u001b[36m(RolloutWorker pid=7532)\u001b[0m reset triggered\n",
      "\u001b[2m\u001b[36m(RolloutWorker pid=7532)\u001b[0m reload save for track : 72\n"
     ]
    },
    {
     "name": "stderr",
     "output_type": "stream",
     "text": [
      "\u001b[2m\u001b[36m(RolloutWorker pid=7532)\u001b[0m c:\\Users\\nadir\\anaconda3\\envs\\GTRay2.4.0\\lib\\site-packages\\rtgym\\envs\\real_time_env.py:376: UserWarning: Time-step timed out. Elapsed since last time-step: 0.17749669993281714\n",
      "\u001b[2m\u001b[36m(RolloutWorker pid=7532)\u001b[0m   warnings.warn(f\"Time-step timed out. Elapsed since last time-step: {now - self.__t_end}\")\n"
     ]
    },
    {
     "name": "stdout",
     "output_type": "stream",
     "text": [
      "Loop:  165\n"
     ]
    },
    {
     "name": "stderr",
     "output_type": "stream",
     "text": [
      "\u001b[2m\u001b[36m(RolloutWorker pid=7532)\u001b[0m c:\\Users\\nadir\\anaconda3\\envs\\GTRay2.4.0\\lib\\site-packages\\rtgym\\envs\\real_time_env.py:376: UserWarning: Time-step timed out. Elapsed since last time-step: 2.155936999975893\n",
      "\u001b[2m\u001b[36m(RolloutWorker pid=7532)\u001b[0m   warnings.warn(f\"Time-step timed out. Elapsed since last time-step: {now - self.__t_end}\")\n",
      "\u001b[2m\u001b[36m(RolloutWorker pid=7532)\u001b[0m c:\\Users\\nadir\\anaconda3\\envs\\GTRay2.4.0\\lib\\site-packages\\rtgym\\envs\\real_time_env.py:376: UserWarning: Time-step timed out. Elapsed since last time-step: 0.15121649995944608\n",
      "\u001b[2m\u001b[36m(RolloutWorker pid=7532)\u001b[0m   warnings.warn(f\"Time-step timed out. Elapsed since last time-step: {now - self.__t_end}\")\n"
     ]
    },
    {
     "name": "stdout",
     "output_type": "stream",
     "text": [
      "\u001b[2m\u001b[36m(RolloutWorker pid=7532)\u001b[0m reset triggered\n",
      "\u001b[2m\u001b[36m(RolloutWorker pid=7532)\u001b[0m reload save for track : 72\n"
     ]
    },
    {
     "name": "stderr",
     "output_type": "stream",
     "text": [
      "\u001b[2m\u001b[36m(RolloutWorker pid=7532)\u001b[0m c:\\Users\\nadir\\anaconda3\\envs\\GTRay2.4.0\\lib\\site-packages\\rtgym\\envs\\real_time_env.py:376: UserWarning: Time-step timed out. Elapsed since last time-step: 0.16907579995495325\n",
      "\u001b[2m\u001b[36m(RolloutWorker pid=7532)\u001b[0m   warnings.warn(f\"Time-step timed out. Elapsed since last time-step: {now - self.__t_end}\")\n"
     ]
    },
    {
     "name": "stdout",
     "output_type": "stream",
     "text": [
      "Loop:  166\n"
     ]
    },
    {
     "name": "stderr",
     "output_type": "stream",
     "text": [
      "\u001b[2m\u001b[36m(RolloutWorker pid=7532)\u001b[0m c:\\Users\\nadir\\anaconda3\\envs\\GTRay2.4.0\\lib\\site-packages\\rtgym\\envs\\real_time_env.py:376: UserWarning: Time-step timed out. Elapsed since last time-step: 2.3633333999769093\n",
      "\u001b[2m\u001b[36m(RolloutWorker pid=7532)\u001b[0m   warnings.warn(f\"Time-step timed out. Elapsed since last time-step: {now - self.__t_end}\")\n"
     ]
    },
    {
     "name": "stdout",
     "output_type": "stream",
     "text": [
      "\u001b[2m\u001b[36m(RolloutWorker pid=7532)\u001b[0m reset triggered\n",
      "\u001b[2m\u001b[36m(RolloutWorker pid=7532)\u001b[0m reload save for track : 72\n"
     ]
    },
    {
     "name": "stderr",
     "output_type": "stream",
     "text": [
      "\u001b[2m\u001b[36m(RolloutWorker pid=7532)\u001b[0m c:\\Users\\nadir\\anaconda3\\envs\\GTRay2.4.0\\lib\\site-packages\\rtgym\\envs\\real_time_env.py:376: UserWarning: Time-step timed out. Elapsed since last time-step: 0.12669529996037454\n",
      "\u001b[2m\u001b[36m(RolloutWorker pid=7532)\u001b[0m   warnings.warn(f\"Time-step timed out. Elapsed since last time-step: {now - self.__t_end}\")\n",
      "\u001b[2m\u001b[36m(RolloutWorker pid=7532)\u001b[0m c:\\Users\\nadir\\anaconda3\\envs\\GTRay2.4.0\\lib\\site-packages\\rtgym\\envs\\real_time_env.py:376: UserWarning: Time-step timed out. Elapsed since last time-step: 0.058936399930644257\n",
      "\u001b[2m\u001b[36m(RolloutWorker pid=7532)\u001b[0m   warnings.warn(f\"Time-step timed out. Elapsed since last time-step: {now - self.__t_end}\")\n"
     ]
    },
    {
     "name": "stdout",
     "output_type": "stream",
     "text": [
      "Loop:  167\n"
     ]
    },
    {
     "name": "stderr",
     "output_type": "stream",
     "text": [
      "\u001b[2m\u001b[36m(RolloutWorker pid=7532)\u001b[0m c:\\Users\\nadir\\anaconda3\\envs\\GTRay2.4.0\\lib\\site-packages\\rtgym\\envs\\real_time_env.py:376: UserWarning: Time-step timed out. Elapsed since last time-step: 2.1436217999998917\n",
      "\u001b[2m\u001b[36m(RolloutWorker pid=7532)\u001b[0m   warnings.warn(f\"Time-step timed out. Elapsed since last time-step: {now - self.__t_end}\")\n",
      "\u001b[2m\u001b[36m(RolloutWorker pid=7532)\u001b[0m c:\\Users\\nadir\\anaconda3\\envs\\GTRay2.4.0\\lib\\site-packages\\rtgym\\envs\\real_time_env.py:376: UserWarning: Time-step timed out. Elapsed since last time-step: 0.12269779996040597\n",
      "\u001b[2m\u001b[36m(RolloutWorker pid=7532)\u001b[0m   warnings.warn(f\"Time-step timed out. Elapsed since last time-step: {now - self.__t_end}\")\n"
     ]
    },
    {
     "name": "stdout",
     "output_type": "stream",
     "text": [
      "\u001b[2m\u001b[36m(RolloutWorker pid=7532)\u001b[0m reset triggered\n",
      "\u001b[2m\u001b[36m(RolloutWorker pid=7532)\u001b[0m reload save for track : 72\n"
     ]
    },
    {
     "name": "stderr",
     "output_type": "stream",
     "text": [
      "\u001b[2m\u001b[36m(RolloutWorker pid=7532)\u001b[0m c:\\Users\\nadir\\anaconda3\\envs\\GTRay2.4.0\\lib\\site-packages\\rtgym\\envs\\real_time_env.py:376: UserWarning: Time-step timed out. Elapsed since last time-step: 0.06007909993059002\n",
      "\u001b[2m\u001b[36m(RolloutWorker pid=7532)\u001b[0m   warnings.warn(f\"Time-step timed out. Elapsed since last time-step: {now - self.__t_end}\")\n"
     ]
    },
    {
     "name": "stdout",
     "output_type": "stream",
     "text": [
      "Loop:  168\n"
     ]
    },
    {
     "name": "stderr",
     "output_type": "stream",
     "text": [
      "\u001b[2m\u001b[36m(RolloutWorker pid=7532)\u001b[0m c:\\Users\\nadir\\anaconda3\\envs\\GTRay2.4.0\\lib\\site-packages\\rtgym\\envs\\real_time_env.py:376: UserWarning: Time-step timed out. Elapsed since last time-step: 2.049087999999756\n",
      "\u001b[2m\u001b[36m(RolloutWorker pid=7532)\u001b[0m   warnings.warn(f\"Time-step timed out. Elapsed since last time-step: {now - self.__t_end}\")\n",
      "\u001b[2m\u001b[36m(RolloutWorker pid=7532)\u001b[0m c:\\Users\\nadir\\anaconda3\\envs\\GTRay2.4.0\\lib\\site-packages\\rtgym\\envs\\real_time_env.py:376: UserWarning: Time-step timed out. Elapsed since last time-step: 0.11934269996072544\n",
      "\u001b[2m\u001b[36m(RolloutWorker pid=7532)\u001b[0m   warnings.warn(f\"Time-step timed out. Elapsed since last time-step: {now - self.__t_end}\")\n"
     ]
    },
    {
     "name": "stdout",
     "output_type": "stream",
     "text": [
      "\u001b[2m\u001b[36m(RolloutWorker pid=7532)\u001b[0m reset triggered\n",
      "\u001b[2m\u001b[36m(RolloutWorker pid=7532)\u001b[0m reload save for track : 72\n",
      "Loop:  169\n"
     ]
    },
    {
     "name": "stderr",
     "output_type": "stream",
     "text": [
      "\u001b[2m\u001b[36m(RolloutWorker pid=7532)\u001b[0m c:\\Users\\nadir\\anaconda3\\envs\\GTRay2.4.0\\lib\\site-packages\\rtgym\\envs\\real_time_env.py:376: UserWarning: Time-step timed out. Elapsed since last time-step: 2.0149803999302094\n",
      "\u001b[2m\u001b[36m(RolloutWorker pid=7532)\u001b[0m   warnings.warn(f\"Time-step timed out. Elapsed since last time-step: {now - self.__t_end}\")\n",
      "\u001b[2m\u001b[36m(RolloutWorker pid=7532)\u001b[0m c:\\Users\\nadir\\anaconda3\\envs\\GTRay2.4.0\\lib\\site-packages\\rtgym\\envs\\real_time_env.py:376: UserWarning: Time-step timed out. Elapsed since last time-step: 0.12326199996005016\n",
      "\u001b[2m\u001b[36m(RolloutWorker pid=7532)\u001b[0m   warnings.warn(f\"Time-step timed out. Elapsed since last time-step: {now - self.__t_end}\")\n"
     ]
    },
    {
     "name": "stdout",
     "output_type": "stream",
     "text": [
      "\u001b[2m\u001b[36m(RolloutWorker pid=7532)\u001b[0m reset triggered\n",
      "\u001b[2m\u001b[36m(RolloutWorker pid=7532)\u001b[0m reload save for track : 72\n"
     ]
    },
    {
     "name": "stderr",
     "output_type": "stream",
     "text": [
      "\u001b[2m\u001b[36m(RolloutWorker pid=7532)\u001b[0m c:\\Users\\nadir\\anaconda3\\envs\\GTRay2.4.0\\lib\\site-packages\\rtgym\\envs\\real_time_env.py:376: UserWarning: Time-step timed out. Elapsed since last time-step: 0.05237099993064476\n",
      "\u001b[2m\u001b[36m(RolloutWorker pid=7532)\u001b[0m   warnings.warn(f\"Time-step timed out. Elapsed since last time-step: {now - self.__t_end}\")\n"
     ]
    },
    {
     "name": "stdout",
     "output_type": "stream",
     "text": [
      "Loop:  170\n",
      "Saved 170\n"
     ]
    },
    {
     "name": "stderr",
     "output_type": "stream",
     "text": [
      "\u001b[2m\u001b[36m(RolloutWorker pid=7532)\u001b[0m c:\\Users\\nadir\\anaconda3\\envs\\GTRay2.4.0\\lib\\site-packages\\rtgym\\envs\\real_time_env.py:376: UserWarning: Time-step timed out. Elapsed since last time-step: 2.060855200000333\n",
      "\u001b[2m\u001b[36m(RolloutWorker pid=7532)\u001b[0m   warnings.warn(f\"Time-step timed out. Elapsed since last time-step: {now - self.__t_end}\")\n"
     ]
    },
    {
     "name": "stdout",
     "output_type": "stream",
     "text": [
      "\u001b[2m\u001b[36m(RolloutWorker pid=7532)\u001b[0m reset triggered\n",
      "\u001b[2m\u001b[36m(RolloutWorker pid=7532)\u001b[0m reload save for track : 72\n"
     ]
    },
    {
     "name": "stderr",
     "output_type": "stream",
     "text": [
      "\u001b[2m\u001b[36m(RolloutWorker pid=7532)\u001b[0m c:\\Users\\nadir\\anaconda3\\envs\\GTRay2.4.0\\lib\\site-packages\\rtgym\\envs\\real_time_env.py:376: UserWarning: Time-step timed out. Elapsed since last time-step: 0.12913099999695987\n",
      "\u001b[2m\u001b[36m(RolloutWorker pid=7532)\u001b[0m   warnings.warn(f\"Time-step timed out. Elapsed since last time-step: {now - self.__t_end}\")\n",
      "\u001b[2m\u001b[36m(RolloutWorker pid=7532)\u001b[0m c:\\Users\\nadir\\anaconda3\\envs\\GTRay2.4.0\\lib\\site-packages\\rtgym\\envs\\real_time_env.py:376: UserWarning: Time-step timed out. Elapsed since last time-step: 0.052629099945988855\n",
      "\u001b[2m\u001b[36m(RolloutWorker pid=7532)\u001b[0m   warnings.warn(f\"Time-step timed out. Elapsed since last time-step: {now - self.__t_end}\")\n"
     ]
    },
    {
     "name": "stdout",
     "output_type": "stream",
     "text": [
      "\u001b[2m\u001b[36m(RolloutWorker pid=7532)\u001b[0m reset triggered\n",
      "\u001b[2m\u001b[36m(RolloutWorker pid=7532)\u001b[0m reload save for track : 72\n"
     ]
    },
    {
     "name": "stderr",
     "output_type": "stream",
     "text": [
      "\u001b[2m\u001b[36m(RolloutWorker pid=7532)\u001b[0m c:\\Users\\nadir\\anaconda3\\envs\\GTRay2.4.0\\lib\\site-packages\\rtgym\\envs\\real_time_env.py:376: UserWarning: Time-step timed out. Elapsed since last time-step: 0.18807929996273742\n",
      "\u001b[2m\u001b[36m(RolloutWorker pid=7532)\u001b[0m   warnings.warn(f\"Time-step timed out. Elapsed since last time-step: {now - self.__t_end}\")\n"
     ]
    },
    {
     "name": "stdout",
     "output_type": "stream",
     "text": [
      "Loop:  171\n"
     ]
    },
    {
     "name": "stderr",
     "output_type": "stream",
     "text": [
      "\u001b[2m\u001b[36m(RolloutWorker pid=7532)\u001b[0m c:\\Users\\nadir\\anaconda3\\envs\\GTRay2.4.0\\lib\\site-packages\\rtgym\\envs\\real_time_env.py:376: UserWarning: Time-step timed out. Elapsed since last time-step: 2.2281322999842814\n",
      "\u001b[2m\u001b[36m(RolloutWorker pid=7532)\u001b[0m   warnings.warn(f\"Time-step timed out. Elapsed since last time-step: {now - self.__t_end}\")\n",
      "\u001b[2m\u001b[36m(RolloutWorker pid=7532)\u001b[0m c:\\Users\\nadir\\anaconda3\\envs\\GTRay2.4.0\\lib\\site-packages\\rtgym\\envs\\real_time_env.py:376: UserWarning: Time-step timed out. Elapsed since last time-step: 0.052325599963296554\n",
      "\u001b[2m\u001b[36m(RolloutWorker pid=7532)\u001b[0m   warnings.warn(f\"Time-step timed out. Elapsed since last time-step: {now - self.__t_end}\")\n",
      "\u001b[2m\u001b[36m(RolloutWorker pid=7532)\u001b[0m c:\\Users\\nadir\\anaconda3\\envs\\GTRay2.4.0\\lib\\site-packages\\rtgym\\envs\\real_time_env.py:376: UserWarning: Time-step timed out. Elapsed since last time-step: 0.16884769994339877\n",
      "\u001b[2m\u001b[36m(RolloutWorker pid=7532)\u001b[0m   warnings.warn(f\"Time-step timed out. Elapsed since last time-step: {now - self.__t_end}\")\n"
     ]
    },
    {
     "name": "stdout",
     "output_type": "stream",
     "text": [
      "\u001b[2m\u001b[36m(RolloutWorker pid=7532)\u001b[0m reset triggered\n",
      "\u001b[2m\u001b[36m(RolloutWorker pid=7532)\u001b[0m reload save for track : 72\n",
      "Loop:  172\n"
     ]
    },
    {
     "name": "stderr",
     "output_type": "stream",
     "text": [
      "\u001b[2m\u001b[36m(RolloutWorker pid=7532)\u001b[0m c:\\Users\\nadir\\anaconda3\\envs\\GTRay2.4.0\\lib\\site-packages\\rtgym\\envs\\real_time_env.py:376: UserWarning: Time-step timed out. Elapsed since last time-step: 2.101295799984655\n",
      "\u001b[2m\u001b[36m(RolloutWorker pid=7532)\u001b[0m   warnings.warn(f\"Time-step timed out. Elapsed since last time-step: {now - self.__t_end}\")\n",
      "\u001b[2m\u001b[36m(RolloutWorker pid=7532)\u001b[0m c:\\Users\\nadir\\anaconda3\\envs\\GTRay2.4.0\\lib\\site-packages\\rtgym\\envs\\real_time_env.py:376: UserWarning: Time-step timed out. Elapsed since last time-step: 0.1783770999063563\n",
      "\u001b[2m\u001b[36m(RolloutWorker pid=7532)\u001b[0m   warnings.warn(f\"Time-step timed out. Elapsed since last time-step: {now - self.__t_end}\")\n"
     ]
    },
    {
     "name": "stdout",
     "output_type": "stream",
     "text": [
      "\u001b[2m\u001b[36m(RolloutWorker pid=7532)\u001b[0m reset triggered\n",
      "\u001b[2m\u001b[36m(RolloutWorker pid=7532)\u001b[0m reload save for track : 72\n",
      "Loop:  173\n"
     ]
    },
    {
     "name": "stderr",
     "output_type": "stream",
     "text": [
      "\u001b[2m\u001b[36m(RolloutWorker pid=7532)\u001b[0m c:\\Users\\nadir\\anaconda3\\envs\\GTRay2.4.0\\lib\\site-packages\\rtgym\\envs\\real_time_env.py:376: UserWarning: Time-step timed out. Elapsed since last time-step: 2.0611263999844596\n",
      "\u001b[2m\u001b[36m(RolloutWorker pid=7532)\u001b[0m   warnings.warn(f\"Time-step timed out. Elapsed since last time-step: {now - self.__t_end}\")\n",
      "\u001b[2m\u001b[36m(RolloutWorker pid=7532)\u001b[0m c:\\Users\\nadir\\anaconda3\\envs\\GTRay2.4.0\\lib\\site-packages\\rtgym\\envs\\real_time_env.py:376: UserWarning: Time-step timed out. Elapsed since last time-step: 0.1355863999469875\n",
      "\u001b[2m\u001b[36m(RolloutWorker pid=7532)\u001b[0m   warnings.warn(f\"Time-step timed out. Elapsed since last time-step: {now - self.__t_end}\")\n"
     ]
    },
    {
     "name": "stdout",
     "output_type": "stream",
     "text": [
      "\u001b[2m\u001b[36m(RolloutWorker pid=7532)\u001b[0m reset triggered\n",
      "\u001b[2m\u001b[36m(RolloutWorker pid=7532)\u001b[0m reload save for track : 72\n",
      "Loop:  174\n"
     ]
    },
    {
     "name": "stderr",
     "output_type": "stream",
     "text": [
      "\u001b[2m\u001b[36m(RolloutWorker pid=7532)\u001b[0m c:\\Users\\nadir\\anaconda3\\envs\\GTRay2.4.0\\lib\\site-packages\\rtgym\\envs\\real_time_env.py:376: UserWarning: Time-step timed out. Elapsed since last time-step: 2.0094790999437464\n",
      "\u001b[2m\u001b[36m(RolloutWorker pid=7532)\u001b[0m   warnings.warn(f\"Time-step timed out. Elapsed since last time-step: {now - self.__t_end}\")\n"
     ]
    },
    {
     "name": "stdout",
     "output_type": "stream",
     "text": [
      "\u001b[2m\u001b[36m(RolloutWorker pid=7532)\u001b[0m reset triggered\n",
      "\u001b[2m\u001b[36m(RolloutWorker pid=7532)\u001b[0m reload save for track : 72\n"
     ]
    },
    {
     "name": "stderr",
     "output_type": "stream",
     "text": [
      "\u001b[2m\u001b[36m(RolloutWorker pid=7532)\u001b[0m c:\\Users\\nadir\\anaconda3\\envs\\GTRay2.4.0\\lib\\site-packages\\rtgym\\envs\\real_time_env.py:376: UserWarning: Time-step timed out. Elapsed since last time-step: 0.133998599946608\n",
      "\u001b[2m\u001b[36m(RolloutWorker pid=7532)\u001b[0m   warnings.warn(f\"Time-step timed out. Elapsed since last time-step: {now - self.__t_end}\")\n"
     ]
    },
    {
     "name": "stdout",
     "output_type": "stream",
     "text": [
      "Loop:  175\n"
     ]
    },
    {
     "name": "stderr",
     "output_type": "stream",
     "text": [
      "\u001b[2m\u001b[36m(RolloutWorker pid=7532)\u001b[0m c:\\Users\\nadir\\anaconda3\\envs\\GTRay2.4.0\\lib\\site-packages\\rtgym\\envs\\real_time_env.py:376: UserWarning: Time-step timed out. Elapsed since last time-step: 2.0184266999440297\n",
      "\u001b[2m\u001b[36m(RolloutWorker pid=7532)\u001b[0m   warnings.warn(f\"Time-step timed out. Elapsed since last time-step: {now - self.__t_end}\")\n",
      "\u001b[2m\u001b[36m(RolloutWorker pid=7532)\u001b[0m c:\\Users\\nadir\\anaconda3\\envs\\GTRay2.4.0\\lib\\site-packages\\rtgym\\envs\\real_time_env.py:376: UserWarning: Time-step timed out. Elapsed since last time-step: 0.15158379995318683\n",
      "\u001b[2m\u001b[36m(RolloutWorker pid=7532)\u001b[0m   warnings.warn(f\"Time-step timed out. Elapsed since last time-step: {now - self.__t_end}\")\n"
     ]
    },
    {
     "name": "stdout",
     "output_type": "stream",
     "text": [
      "\u001b[2m\u001b[36m(RolloutWorker pid=7532)\u001b[0m reset triggered\n",
      "\u001b[2m\u001b[36m(RolloutWorker pid=7532)\u001b[0m reload save for track : 72\n",
      "Loop:  176\n"
     ]
    },
    {
     "name": "stderr",
     "output_type": "stream",
     "text": [
      "\u001b[2m\u001b[36m(RolloutWorker pid=7532)\u001b[0m c:\\Users\\nadir\\anaconda3\\envs\\GTRay2.4.0\\lib\\site-packages\\rtgym\\envs\\real_time_env.py:376: UserWarning: Time-step timed out. Elapsed since last time-step: 2.110229399938362\n",
      "\u001b[2m\u001b[36m(RolloutWorker pid=7532)\u001b[0m   warnings.warn(f\"Time-step timed out. Elapsed since last time-step: {now - self.__t_end}\")\n"
     ]
    },
    {
     "name": "stdout",
     "output_type": "stream",
     "text": [
      "\u001b[2m\u001b[36m(RolloutWorker pid=7532)\u001b[0m reset triggered\n",
      "\u001b[2m\u001b[36m(RolloutWorker pid=7532)\u001b[0m reload save for track : 72\n"
     ]
    },
    {
     "name": "stderr",
     "output_type": "stream",
     "text": [
      "\u001b[2m\u001b[36m(RolloutWorker pid=7532)\u001b[0m c:\\Users\\nadir\\anaconda3\\envs\\GTRay2.4.0\\lib\\site-packages\\rtgym\\envs\\real_time_env.py:376: UserWarning: Time-step timed out. Elapsed since last time-step: 0.1261364999527359\n",
      "\u001b[2m\u001b[36m(RolloutWorker pid=7532)\u001b[0m   warnings.warn(f\"Time-step timed out. Elapsed since last time-step: {now - self.__t_end}\")\n"
     ]
    },
    {
     "name": "stdout",
     "output_type": "stream",
     "text": [
      "Loop:  177\n"
     ]
    },
    {
     "name": "stderr",
     "output_type": "stream",
     "text": [
      "\u001b[2m\u001b[36m(RolloutWorker pid=7532)\u001b[0m c:\\Users\\nadir\\anaconda3\\envs\\GTRay2.4.0\\lib\\site-packages\\rtgym\\envs\\real_time_env.py:376: UserWarning: Time-step timed out. Elapsed since last time-step: 2.0243238999373716\n",
      "\u001b[2m\u001b[36m(RolloutWorker pid=7532)\u001b[0m   warnings.warn(f\"Time-step timed out. Elapsed since last time-step: {now - self.__t_end}\")\n"
     ]
    },
    {
     "name": "stdout",
     "output_type": "stream",
     "text": [
      "\u001b[2m\u001b[36m(RolloutWorker pid=7532)\u001b[0m reset triggered\n",
      "\u001b[2m\u001b[36m(RolloutWorker pid=7532)\u001b[0m reload save for track : 72\n"
     ]
    },
    {
     "name": "stderr",
     "output_type": "stream",
     "text": [
      "\u001b[2m\u001b[36m(RolloutWorker pid=7532)\u001b[0m c:\\Users\\nadir\\anaconda3\\envs\\GTRay2.4.0\\lib\\site-packages\\rtgym\\envs\\real_time_env.py:376: UserWarning: Time-step timed out. Elapsed since last time-step: 0.1558142999529082\n",
      "\u001b[2m\u001b[36m(RolloutWorker pid=7532)\u001b[0m   warnings.warn(f\"Time-step timed out. Elapsed since last time-step: {now - self.__t_end}\")\n",
      "\u001b[2m\u001b[36m(RolloutWorker pid=7532)\u001b[0m c:\\Users\\nadir\\anaconda3\\envs\\GTRay2.4.0\\lib\\site-packages\\rtgym\\envs\\real_time_env.py:376: UserWarning: Time-step timed out. Elapsed since last time-step: 0.05782249993899313\n",
      "\u001b[2m\u001b[36m(RolloutWorker pid=7532)\u001b[0m   warnings.warn(f\"Time-step timed out. Elapsed since last time-step: {now - self.__t_end}\")\n"
     ]
    },
    {
     "name": "stdout",
     "output_type": "stream",
     "text": [
      "Loop:  178\n"
     ]
    },
    {
     "name": "stderr",
     "output_type": "stream",
     "text": [
      "\u001b[2m\u001b[36m(RolloutWorker pid=7532)\u001b[0m c:\\Users\\nadir\\anaconda3\\envs\\GTRay2.4.0\\lib\\site-packages\\rtgym\\envs\\real_time_env.py:376: UserWarning: Time-step timed out. Elapsed since last time-step: 2.0198505999996996\n",
      "\u001b[2m\u001b[36m(RolloutWorker pid=7532)\u001b[0m   warnings.warn(f\"Time-step timed out. Elapsed since last time-step: {now - self.__t_end}\")\n"
     ]
    },
    {
     "name": "stdout",
     "output_type": "stream",
     "text": [
      "\u001b[2m\u001b[36m(RolloutWorker pid=7532)\u001b[0m reset triggered\n",
      "\u001b[2m\u001b[36m(RolloutWorker pid=7532)\u001b[0m reload save for track : 72\n"
     ]
    },
    {
     "name": "stderr",
     "output_type": "stream",
     "text": [
      "\u001b[2m\u001b[36m(RolloutWorker pid=7532)\u001b[0m c:\\Users\\nadir\\anaconda3\\envs\\GTRay2.4.0\\lib\\site-packages\\rtgym\\envs\\real_time_env.py:376: UserWarning: Time-step timed out. Elapsed since last time-step: 0.11650979996647948\n",
      "\u001b[2m\u001b[36m(RolloutWorker pid=7532)\u001b[0m   warnings.warn(f\"Time-step timed out. Elapsed since last time-step: {now - self.__t_end}\")\n",
      "\u001b[2m\u001b[36m(RolloutWorker pid=7532)\u001b[0m c:\\Users\\nadir\\anaconda3\\envs\\GTRay2.4.0\\lib\\site-packages\\rtgym\\envs\\real_time_env.py:376: UserWarning: Time-step timed out. Elapsed since last time-step: 0.06200099992383912\n",
      "\u001b[2m\u001b[36m(RolloutWorker pid=7532)\u001b[0m   warnings.warn(f\"Time-step timed out. Elapsed since last time-step: {now - self.__t_end}\")\n"
     ]
    },
    {
     "name": "stdout",
     "output_type": "stream",
     "text": [
      "Loop:  179\n"
     ]
    },
    {
     "name": "stderr",
     "output_type": "stream",
     "text": [
      "\u001b[2m\u001b[36m(RolloutWorker pid=7532)\u001b[0m c:\\Users\\nadir\\anaconda3\\envs\\GTRay2.4.0\\lib\\site-packages\\rtgym\\envs\\real_time_env.py:376: UserWarning: Time-step timed out. Elapsed since last time-step: 2.021600000000035\n",
      "\u001b[2m\u001b[36m(RolloutWorker pid=7532)\u001b[0m   warnings.warn(f\"Time-step timed out. Elapsed since last time-step: {now - self.__t_end}\")\n"
     ]
    },
    {
     "name": "stdout",
     "output_type": "stream",
     "text": [
      "\u001b[2m\u001b[36m(RolloutWorker pid=7532)\u001b[0m reset triggered\n",
      "\u001b[2m\u001b[36m(RolloutWorker pid=7532)\u001b[0m reload save for track : 72\n"
     ]
    },
    {
     "name": "stderr",
     "output_type": "stream",
     "text": [
      "\u001b[2m\u001b[36m(RolloutWorker pid=7532)\u001b[0m c:\\Users\\nadir\\anaconda3\\envs\\GTRay2.4.0\\lib\\site-packages\\rtgym\\envs\\real_time_env.py:376: UserWarning: Time-step timed out. Elapsed since last time-step: 0.12561439996716217\n",
      "\u001b[2m\u001b[36m(RolloutWorker pid=7532)\u001b[0m   warnings.warn(f\"Time-step timed out. Elapsed since last time-step: {now - self.__t_end}\")\n",
      "\u001b[2m\u001b[36m(RolloutWorker pid=7532)\u001b[0m c:\\Users\\nadir\\anaconda3\\envs\\GTRay2.4.0\\lib\\site-packages\\rtgym\\envs\\real_time_env.py:376: UserWarning: Time-step timed out. Elapsed since last time-step: 0.062365499924453616\n",
      "\u001b[2m\u001b[36m(RolloutWorker pid=7532)\u001b[0m   warnings.warn(f\"Time-step timed out. Elapsed since last time-step: {now - self.__t_end}\")\n"
     ]
    },
    {
     "name": "stdout",
     "output_type": "stream",
     "text": [
      "Loop:  180\n",
      "Saved 180\n"
     ]
    },
    {
     "name": "stderr",
     "output_type": "stream",
     "text": [
      "\u001b[2m\u001b[36m(RolloutWorker pid=7532)\u001b[0m c:\\Users\\nadir\\anaconda3\\envs\\GTRay2.4.0\\lib\\site-packages\\rtgym\\envs\\real_time_env.py:376: UserWarning: Time-step timed out. Elapsed since last time-step: 2.224129599999287\n",
      "\u001b[2m\u001b[36m(RolloutWorker pid=7532)\u001b[0m   warnings.warn(f\"Time-step timed out. Elapsed since last time-step: {now - self.__t_end}\")\n"
     ]
    },
    {
     "name": "stdout",
     "output_type": "stream",
     "text": [
      "\u001b[2m\u001b[36m(RolloutWorker pid=7532)\u001b[0m reset triggered\n",
      "\u001b[2m\u001b[36m(RolloutWorker pid=7532)\u001b[0m reload save for track : 72\n"
     ]
    },
    {
     "name": "stderr",
     "output_type": "stream",
     "text": [
      "\u001b[2m\u001b[36m(RolloutWorker pid=7532)\u001b[0m c:\\Users\\nadir\\anaconda3\\envs\\GTRay2.4.0\\lib\\site-packages\\rtgym\\envs\\real_time_env.py:376: UserWarning: Time-step timed out. Elapsed since last time-step: 0.134380199966472\n",
      "\u001b[2m\u001b[36m(RolloutWorker pid=7532)\u001b[0m   warnings.warn(f\"Time-step timed out. Elapsed since last time-step: {now - self.__t_end}\")\n",
      "\u001b[2m\u001b[36m(RolloutWorker pid=7532)\u001b[0m c:\\Users\\nadir\\anaconda3\\envs\\GTRay2.4.0\\lib\\site-packages\\rtgym\\envs\\real_time_env.py:376: UserWarning: Time-step timed out. Elapsed since last time-step: 0.0638347999247344\n",
      "\u001b[2m\u001b[36m(RolloutWorker pid=7532)\u001b[0m   warnings.warn(f\"Time-step timed out. Elapsed since last time-step: {now - self.__t_end}\")\n"
     ]
    },
    {
     "name": "stdout",
     "output_type": "stream",
     "text": [
      "Loop:  181\n"
     ]
    },
    {
     "name": "stderr",
     "output_type": "stream",
     "text": [
      "\u001b[2m\u001b[36m(RolloutWorker pid=7532)\u001b[0m c:\\Users\\nadir\\anaconda3\\envs\\GTRay2.4.0\\lib\\site-packages\\rtgym\\envs\\real_time_env.py:376: UserWarning: Time-step timed out. Elapsed since last time-step: 2.1166410999994696\n",
      "\u001b[2m\u001b[36m(RolloutWorker pid=7532)\u001b[0m   warnings.warn(f\"Time-step timed out. Elapsed since last time-step: {now - self.__t_end}\")\n",
      "\u001b[2m\u001b[36m(RolloutWorker pid=7532)\u001b[0m c:\\Users\\nadir\\anaconda3\\envs\\GTRay2.4.0\\lib\\site-packages\\rtgym\\envs\\real_time_env.py:376: UserWarning: Time-step timed out. Elapsed since last time-step: 0.10531679997529864\n",
      "\u001b[2m\u001b[36m(RolloutWorker pid=7532)\u001b[0m   warnings.warn(f\"Time-step timed out. Elapsed since last time-step: {now - self.__t_end}\")\n"
     ]
    },
    {
     "name": "stdout",
     "output_type": "stream",
     "text": [
      "\u001b[2m\u001b[36m(RolloutWorker pid=7532)\u001b[0m reset triggered\n",
      "\u001b[2m\u001b[36m(RolloutWorker pid=7532)\u001b[0m reload save for track : 72\n"
     ]
    },
    {
     "name": "stderr",
     "output_type": "stream",
     "text": [
      "\u001b[2m\u001b[36m(RolloutWorker pid=7532)\u001b[0m c:\\Users\\nadir\\anaconda3\\envs\\GTRay2.4.0\\lib\\site-packages\\rtgym\\envs\\real_time_env.py:376: UserWarning: Time-step timed out. Elapsed since last time-step: 0.06174989991632174\n",
      "\u001b[2m\u001b[36m(RolloutWorker pid=7532)\u001b[0m   warnings.warn(f\"Time-step timed out. Elapsed since last time-step: {now - self.__t_end}\")\n"
     ]
    },
    {
     "name": "stdout",
     "output_type": "stream",
     "text": [
      "Loop:  182\n"
     ]
    },
    {
     "name": "stderr",
     "output_type": "stream",
     "text": [
      "\u001b[2m\u001b[36m(RolloutWorker pid=7532)\u001b[0m c:\\Users\\nadir\\anaconda3\\envs\\GTRay2.4.0\\lib\\site-packages\\rtgym\\envs\\real_time_env.py:376: UserWarning: Time-step timed out. Elapsed since last time-step: 2.020317299999988\n",
      "\u001b[2m\u001b[36m(RolloutWorker pid=7532)\u001b[0m   warnings.warn(f\"Time-step timed out. Elapsed since last time-step: {now - self.__t_end}\")\n"
     ]
    },
    {
     "name": "stdout",
     "output_type": "stream",
     "text": [
      "\u001b[2m\u001b[36m(RolloutWorker pid=7532)\u001b[0m reset triggered\n",
      "\u001b[2m\u001b[36m(RolloutWorker pid=7532)\u001b[0m reload save for track : 72\n"
     ]
    },
    {
     "name": "stderr",
     "output_type": "stream",
     "text": [
      "\u001b[2m\u001b[36m(RolloutWorker pid=7532)\u001b[0m c:\\Users\\nadir\\anaconda3\\envs\\GTRay2.4.0\\lib\\site-packages\\rtgym\\envs\\real_time_env.py:376: UserWarning: Time-step timed out. Elapsed since last time-step: 0.13204739997490833\n",
      "\u001b[2m\u001b[36m(RolloutWorker pid=7532)\u001b[0m   warnings.warn(f\"Time-step timed out. Elapsed since last time-step: {now - self.__t_end}\")\n",
      "\u001b[2m\u001b[36m(RolloutWorker pid=7532)\u001b[0m c:\\Users\\nadir\\anaconda3\\envs\\GTRay2.4.0\\lib\\site-packages\\rtgym\\envs\\real_time_env.py:376: UserWarning: Time-step timed out. Elapsed since last time-step: 0.057525599938344385\n",
      "\u001b[2m\u001b[36m(RolloutWorker pid=7532)\u001b[0m   warnings.warn(f\"Time-step timed out. Elapsed since last time-step: {now - self.__t_end}\")\n",
      "\u001b[2m\u001b[36m(RolloutWorker pid=7532)\u001b[0m c:\\Users\\nadir\\anaconda3\\envs\\GTRay2.4.0\\lib\\site-packages\\rtgym\\envs\\real_time_env.py:376: UserWarning: Time-step timed out. Elapsed since last time-step: 0.07488989997727913\n",
      "\u001b[2m\u001b[36m(RolloutWorker pid=7532)\u001b[0m   warnings.warn(f\"Time-step timed out. Elapsed since last time-step: {now - self.__t_end}\")\n"
     ]
    },
    {
     "name": "stdout",
     "output_type": "stream",
     "text": [
      "Loop:  183\n"
     ]
    },
    {
     "name": "stderr",
     "output_type": "stream",
     "text": [
      "\u001b[2m\u001b[36m(RolloutWorker pid=7532)\u001b[0m c:\\Users\\nadir\\anaconda3\\envs\\GTRay2.4.0\\lib\\site-packages\\rtgym\\envs\\real_time_env.py:376: UserWarning: Time-step timed out. Elapsed since last time-step: 2.152226399999563\n",
      "\u001b[2m\u001b[36m(RolloutWorker pid=7532)\u001b[0m   warnings.warn(f\"Time-step timed out. Elapsed since last time-step: {now - self.__t_end}\")\n",
      "\u001b[2m\u001b[36m(RolloutWorker pid=7532)\u001b[0m c:\\Users\\nadir\\anaconda3\\envs\\GTRay2.4.0\\lib\\site-packages\\rtgym\\envs\\real_time_env.py:376: UserWarning: Time-step timed out. Elapsed since last time-step: 0.14128829997480352\n",
      "\u001b[2m\u001b[36m(RolloutWorker pid=7532)\u001b[0m   warnings.warn(f\"Time-step timed out. Elapsed since last time-step: {now - self.__t_end}\")\n"
     ]
    },
    {
     "name": "stdout",
     "output_type": "stream",
     "text": [
      "\u001b[2m\u001b[36m(RolloutWorker pid=7532)\u001b[0m reset triggered\n",
      "\u001b[2m\u001b[36m(RolloutWorker pid=7532)\u001b[0m reload save for track : 72\n"
     ]
    },
    {
     "name": "stderr",
     "output_type": "stream",
     "text": [
      "\u001b[2m\u001b[36m(RolloutWorker pid=7532)\u001b[0m c:\\Users\\nadir\\anaconda3\\envs\\GTRay2.4.0\\lib\\site-packages\\rtgym\\envs\\real_time_env.py:376: UserWarning: Time-step timed out. Elapsed since last time-step: 0.13610529991638032\n",
      "\u001b[2m\u001b[36m(RolloutWorker pid=7532)\u001b[0m   warnings.warn(f\"Time-step timed out. Elapsed since last time-step: {now - self.__t_end}\")\n",
      "\u001b[2m\u001b[36m(RolloutWorker pid=7532)\u001b[0m c:\\Users\\nadir\\anaconda3\\envs\\GTRay2.4.0\\lib\\site-packages\\rtgym\\envs\\real_time_env.py:376: UserWarning: Time-step timed out. Elapsed since last time-step: 0.06247200000052544\n",
      "\u001b[2m\u001b[36m(RolloutWorker pid=7532)\u001b[0m   warnings.warn(f\"Time-step timed out. Elapsed since last time-step: {now - self.__t_end}\")\n"
     ]
    },
    {
     "name": "stdout",
     "output_type": "stream",
     "text": [
      "Loop:  184\n"
     ]
    },
    {
     "name": "stderr",
     "output_type": "stream",
     "text": [
      "\u001b[2m\u001b[36m(RolloutWorker pid=7532)\u001b[0m c:\\Users\\nadir\\anaconda3\\envs\\GTRay2.4.0\\lib\\site-packages\\rtgym\\envs\\real_time_env.py:376: UserWarning: Time-step timed out. Elapsed since last time-step: 2.0122486999998728\n",
      "\u001b[2m\u001b[36m(RolloutWorker pid=7532)\u001b[0m   warnings.warn(f\"Time-step timed out. Elapsed since last time-step: {now - self.__t_end}\")\n"
     ]
    },
    {
     "name": "stdout",
     "output_type": "stream",
     "text": [
      "\u001b[2m\u001b[36m(RolloutWorker pid=7532)\u001b[0m reset triggered\n",
      "\u001b[2m\u001b[36m(RolloutWorker pid=7532)\u001b[0m reload save for track : 72\n"
     ]
    },
    {
     "name": "stderr",
     "output_type": "stream",
     "text": [
      "\u001b[2m\u001b[36m(RolloutWorker pid=7532)\u001b[0m c:\\Users\\nadir\\anaconda3\\envs\\GTRay2.4.0\\lib\\site-packages\\rtgym\\envs\\real_time_env.py:376: UserWarning: Time-step timed out. Elapsed since last time-step: 0.10358989997439494\n",
      "\u001b[2m\u001b[36m(RolloutWorker pid=7532)\u001b[0m   warnings.warn(f\"Time-step timed out. Elapsed since last time-step: {now - self.__t_end}\")\n",
      "\u001b[2m\u001b[36m(RolloutWorker pid=7532)\u001b[0m c:\\Users\\nadir\\anaconda3\\envs\\GTRay2.4.0\\lib\\site-packages\\rtgym\\envs\\real_time_env.py:376: UserWarning: Time-step timed out. Elapsed since last time-step: 0.05246999993323698\n",
      "\u001b[2m\u001b[36m(RolloutWorker pid=7532)\u001b[0m   warnings.warn(f\"Time-step timed out. Elapsed since last time-step: {now - self.__t_end}\")\n"
     ]
    },
    {
     "name": "stdout",
     "output_type": "stream",
     "text": [
      "\u001b[2m\u001b[36m(RolloutWorker pid=7532)\u001b[0m reset triggered\n",
      "\u001b[2m\u001b[36m(RolloutWorker pid=7532)\u001b[0m reload save for track : 72\n"
     ]
    },
    {
     "name": "stderr",
     "output_type": "stream",
     "text": [
      "\u001b[2m\u001b[36m(RolloutWorker pid=7532)\u001b[0m c:\\Users\\nadir\\anaconda3\\envs\\GTRay2.4.0\\lib\\site-packages\\rtgym\\envs\\real_time_env.py:376: UserWarning: Time-step timed out. Elapsed since last time-step: 0.15678129998923396\n",
      "\u001b[2m\u001b[36m(RolloutWorker pid=7532)\u001b[0m   warnings.warn(f\"Time-step timed out. Elapsed since last time-step: {now - self.__t_end}\")\n"
     ]
    },
    {
     "name": "stdout",
     "output_type": "stream",
     "text": [
      "Loop:  185\n"
     ]
    },
    {
     "name": "stderr",
     "output_type": "stream",
     "text": [
      "\u001b[2m\u001b[36m(RolloutWorker pid=7532)\u001b[0m c:\\Users\\nadir\\anaconda3\\envs\\GTRay2.4.0\\lib\\site-packages\\rtgym\\envs\\real_time_env.py:376: UserWarning: Time-step timed out. Elapsed since last time-step: 2.1134185999935653\n",
      "\u001b[2m\u001b[36m(RolloutWorker pid=7532)\u001b[0m   warnings.warn(f\"Time-step timed out. Elapsed since last time-step: {now - self.__t_end}\")\n"
     ]
    },
    {
     "name": "stdout",
     "output_type": "stream",
     "text": [
      "\u001b[2m\u001b[36m(RolloutWorker pid=7532)\u001b[0m reset triggered\n",
      "\u001b[2m\u001b[36m(RolloutWorker pid=7532)\u001b[0m reload save for track : 72\n"
     ]
    },
    {
     "name": "stderr",
     "output_type": "stream",
     "text": [
      "\u001b[2m\u001b[36m(RolloutWorker pid=7532)\u001b[0m c:\\Users\\nadir\\anaconda3\\envs\\GTRay2.4.0\\lib\\site-packages\\rtgym\\envs\\real_time_env.py:376: UserWarning: Time-step timed out. Elapsed since last time-step: 0.17656459989666473\n",
      "\u001b[2m\u001b[36m(RolloutWorker pid=7532)\u001b[0m   warnings.warn(f\"Time-step timed out. Elapsed since last time-step: {now - self.__t_end}\")\n"
     ]
    },
    {
     "name": "stdout",
     "output_type": "stream",
     "text": [
      "Loop:  186\n"
     ]
    },
    {
     "name": "stderr",
     "output_type": "stream",
     "text": [
      "\u001b[2m\u001b[36m(RolloutWorker pid=7532)\u001b[0m c:\\Users\\nadir\\anaconda3\\envs\\GTRay2.4.0\\lib\\site-packages\\rtgym\\envs\\real_time_env.py:376: UserWarning: Time-step timed out. Elapsed since last time-step: 2.0046628999944005\n",
      "\u001b[2m\u001b[36m(RolloutWorker pid=7532)\u001b[0m   warnings.warn(f\"Time-step timed out. Elapsed since last time-step: {now - self.__t_end}\")\n",
      "\u001b[2m\u001b[36m(RolloutWorker pid=7532)\u001b[0m c:\\Users\\nadir\\anaconda3\\envs\\GTRay2.4.0\\lib\\site-packages\\rtgym\\envs\\real_time_env.py:376: UserWarning: Time-step timed out. Elapsed since last time-step: 0.15548549990944593\n",
      "\u001b[2m\u001b[36m(RolloutWorker pid=7532)\u001b[0m   warnings.warn(f\"Time-step timed out. Elapsed since last time-step: {now - self.__t_end}\")\n"
     ]
    },
    {
     "name": "stdout",
     "output_type": "stream",
     "text": [
      "\u001b[2m\u001b[36m(RolloutWorker pid=7532)\u001b[0m reset triggered\n",
      "\u001b[2m\u001b[36m(RolloutWorker pid=7532)\u001b[0m reload save for track : 72\n",
      "Loop:  187\n"
     ]
    },
    {
     "name": "stderr",
     "output_type": "stream",
     "text": [
      "\u001b[2m\u001b[36m(RolloutWorker pid=7532)\u001b[0m c:\\Users\\nadir\\anaconda3\\envs\\GTRay2.4.0\\lib\\site-packages\\rtgym\\envs\\real_time_env.py:376: UserWarning: Time-step timed out. Elapsed since last time-step: 1.9949720999811689\n",
      "\u001b[2m\u001b[36m(RolloutWorker pid=7532)\u001b[0m   warnings.warn(f\"Time-step timed out. Elapsed since last time-step: {now - self.__t_end}\")\n"
     ]
    },
    {
     "name": "stdout",
     "output_type": "stream",
     "text": [
      "\u001b[2m\u001b[36m(RolloutWorker pid=7532)\u001b[0m reset triggered\n",
      "\u001b[2m\u001b[36m(RolloutWorker pid=7532)\u001b[0m reload save for track : 72\n"
     ]
    },
    {
     "name": "stderr",
     "output_type": "stream",
     "text": [
      "\u001b[2m\u001b[36m(RolloutWorker pid=7532)\u001b[0m c:\\Users\\nadir\\anaconda3\\envs\\GTRay2.4.0\\lib\\site-packages\\rtgym\\envs\\real_time_env.py:376: UserWarning: Time-step timed out. Elapsed since last time-step: 0.20552389990916708\n",
      "\u001b[2m\u001b[36m(RolloutWorker pid=7532)\u001b[0m   warnings.warn(f\"Time-step timed out. Elapsed since last time-step: {now - self.__t_end}\")\n"
     ]
    },
    {
     "name": "stdout",
     "output_type": "stream",
     "text": [
      "Loop:  188\n"
     ]
    },
    {
     "name": "stderr",
     "output_type": "stream",
     "text": [
      "\u001b[2m\u001b[36m(RolloutWorker pid=7532)\u001b[0m c:\\Users\\nadir\\anaconda3\\envs\\GTRay2.4.0\\lib\\site-packages\\rtgym\\envs\\real_time_env.py:376: UserWarning: Time-step timed out. Elapsed since last time-step: 2.0075059999817313\n",
      "\u001b[2m\u001b[36m(RolloutWorker pid=7532)\u001b[0m   warnings.warn(f\"Time-step timed out. Elapsed since last time-step: {now - self.__t_end}\")\n"
     ]
    },
    {
     "name": "stdout",
     "output_type": "stream",
     "text": [
      "\u001b[2m\u001b[36m(RolloutWorker pid=7532)\u001b[0m reset triggered\n",
      "\u001b[2m\u001b[36m(RolloutWorker pid=7532)\u001b[0m reload save for track : 72\n"
     ]
    },
    {
     "name": "stderr",
     "output_type": "stream",
     "text": [
      "\u001b[2m\u001b[36m(RolloutWorker pid=7532)\u001b[0m c:\\Users\\nadir\\anaconda3\\envs\\GTRay2.4.0\\lib\\site-packages\\rtgym\\envs\\real_time_env.py:376: UserWarning: Time-step timed out. Elapsed since last time-step: 0.16430099990975577\n",
      "\u001b[2m\u001b[36m(RolloutWorker pid=7532)\u001b[0m   warnings.warn(f\"Time-step timed out. Elapsed since last time-step: {now - self.__t_end}\")\n"
     ]
    },
    {
     "name": "stdout",
     "output_type": "stream",
     "text": [
      "Loop:  189\n"
     ]
    },
    {
     "name": "stderr",
     "output_type": "stream",
     "text": [
      "\u001b[2m\u001b[36m(RolloutWorker pid=7532)\u001b[0m c:\\Users\\nadir\\anaconda3\\envs\\GTRay2.4.0\\lib\\site-packages\\rtgym\\envs\\real_time_env.py:376: UserWarning: Time-step timed out. Elapsed since last time-step: 1.8680467999811299\n",
      "\u001b[2m\u001b[36m(RolloutWorker pid=7532)\u001b[0m   warnings.warn(f\"Time-step timed out. Elapsed since last time-step: {now - self.__t_end}\")\n",
      "\u001b[2m\u001b[36m(RolloutWorker pid=7532)\u001b[0m c:\\Users\\nadir\\anaconda3\\envs\\GTRay2.4.0\\lib\\site-packages\\rtgym\\envs\\real_time_env.py:376: UserWarning: Time-step timed out. Elapsed since last time-step: 0.20784839990938053\n",
      "\u001b[2m\u001b[36m(RolloutWorker pid=7532)\u001b[0m   warnings.warn(f\"Time-step timed out. Elapsed since last time-step: {now - self.__t_end}\")\n"
     ]
    },
    {
     "ename": "KeyboardInterrupt",
     "evalue": "",
     "output_type": "error",
     "traceback": [
      "\u001b[1;31m---------------------------------------------------------------------------\u001b[0m",
      "\u001b[1;31mKeyboardInterrupt\u001b[0m                         Traceback (most recent call last)",
      "\u001b[1;32mj:\\git\\TensorFlowPSX\\Py\\rrlibIPPO_MR2_Drag_disc.ipynb Cell 17\u001b[0m line \u001b[0;36m4\n\u001b[0;32m      <a href='vscode-notebook-cell:/j%3A/git/TensorFlowPSX/Py/rrlibIPPO_MR2_Drag_disc.ipynb#X22sZmlsZQ%3D%3D?line=0'>1</a>\u001b[0m N \u001b[39m=\u001b[39m \u001b[39m3000\u001b[39m\n\u001b[0;32m      <a href='vscode-notebook-cell:/j%3A/git/TensorFlowPSX/Py/rrlibIPPO_MR2_Drag_disc.ipynb#X22sZmlsZQ%3D%3D?line=2'>3</a>\u001b[0m \u001b[39mfor\u001b[39;00m n \u001b[39min\u001b[39;00m \u001b[39mrange\u001b[39m(N):\n\u001b[1;32m----> <a href='vscode-notebook-cell:/j%3A/git/TensorFlowPSX/Py/rrlibIPPO_MR2_Drag_disc.ipynb#X22sZmlsZQ%3D%3D?line=3'>4</a>\u001b[0m     result \u001b[39m=\u001b[39m algo\u001b[39m.\u001b[39;49mtrain()\n\u001b[0;32m      <a href='vscode-notebook-cell:/j%3A/git/TensorFlowPSX/Py/rrlibIPPO_MR2_Drag_disc.ipynb#X22sZmlsZQ%3D%3D?line=4'>5</a>\u001b[0m     \u001b[39mprint\u001b[39m(\u001b[39m\"\u001b[39m\u001b[39mLoop: \u001b[39m\u001b[39m\"\u001b[39m, n)\n\u001b[0;32m      <a href='vscode-notebook-cell:/j%3A/git/TensorFlowPSX/Py/rrlibIPPO_MR2_Drag_disc.ipynb#X22sZmlsZQ%3D%3D?line=5'>6</a>\u001b[0m     \u001b[39mif\u001b[39;00m n \u001b[39m%\u001b[39m \u001b[39m10\u001b[39m \u001b[39m==\u001b[39m \u001b[39m0\u001b[39m:\n",
      "File \u001b[1;32mc:\\Users\\nadir\\anaconda3\\envs\\GTRay2.4.0\\lib\\site-packages\\ray\\tune\\trainable\\trainable.py:381\u001b[0m, in \u001b[0;36mTrainable.train\u001b[1;34m(self)\u001b[0m\n\u001b[0;32m    379\u001b[0m start \u001b[39m=\u001b[39m time\u001b[39m.\u001b[39mtime()\n\u001b[0;32m    380\u001b[0m \u001b[39mtry\u001b[39;00m:\n\u001b[1;32m--> 381\u001b[0m     result \u001b[39m=\u001b[39m \u001b[39mself\u001b[39;49m\u001b[39m.\u001b[39;49mstep()\n\u001b[0;32m    382\u001b[0m \u001b[39mexcept\u001b[39;00m \u001b[39mException\u001b[39;00m \u001b[39mas\u001b[39;00m e:\n\u001b[0;32m    383\u001b[0m     skipped \u001b[39m=\u001b[39m skip_exceptions(e)\n",
      "File \u001b[1;32mc:\\Users\\nadir\\anaconda3\\envs\\GTRay2.4.0\\lib\\site-packages\\ray\\rllib\\algorithms\\algorithm.py:792\u001b[0m, in \u001b[0;36mAlgorithm.step\u001b[1;34m(self)\u001b[0m\n\u001b[0;32m    784\u001b[0m     (\n\u001b[0;32m    785\u001b[0m         results,\n\u001b[0;32m    786\u001b[0m         train_iter_ctx,\n\u001b[0;32m    787\u001b[0m     ) \u001b[39m=\u001b[39m \u001b[39mself\u001b[39m\u001b[39m.\u001b[39m_run_one_training_iteration_and_evaluation_in_parallel()\n\u001b[0;32m    788\u001b[0m \u001b[39m# - No evaluation necessary, just run the next training iteration.\u001b[39;00m\n\u001b[0;32m    789\u001b[0m \u001b[39m# - We have to evaluate in this training iteration, but no parallelism ->\u001b[39;00m\n\u001b[0;32m    790\u001b[0m \u001b[39m#   evaluate after the training iteration is entirely done.\u001b[39;00m\n\u001b[0;32m    791\u001b[0m \u001b[39melse\u001b[39;00m:\n\u001b[1;32m--> 792\u001b[0m     results, train_iter_ctx \u001b[39m=\u001b[39m \u001b[39mself\u001b[39;49m\u001b[39m.\u001b[39;49m_run_one_training_iteration()\n\u001b[0;32m    794\u001b[0m \u001b[39m# Sequential: Train (already done above), then evaluate.\u001b[39;00m\n\u001b[0;32m    795\u001b[0m \u001b[39mif\u001b[39;00m evaluate_this_iter \u001b[39mand\u001b[39;00m \u001b[39mnot\u001b[39;00m \u001b[39mself\u001b[39m\u001b[39m.\u001b[39mconfig\u001b[39m.\u001b[39mevaluation_parallel_to_training:\n",
      "File \u001b[1;32mc:\\Users\\nadir\\anaconda3\\envs\\GTRay2.4.0\\lib\\site-packages\\ray\\rllib\\algorithms\\algorithm.py:2811\u001b[0m, in \u001b[0;36mAlgorithm._run_one_training_iteration\u001b[1;34m(self)\u001b[0m\n\u001b[0;32m   2809\u001b[0m \u001b[39mwith\u001b[39;00m \u001b[39mself\u001b[39m\u001b[39m.\u001b[39m_timers[TRAINING_ITERATION_TIMER]:\n\u001b[0;32m   2810\u001b[0m     \u001b[39mif\u001b[39;00m \u001b[39mself\u001b[39m\u001b[39m.\u001b[39mconfig\u001b[39m.\u001b[39m_disable_execution_plan_api:\n\u001b[1;32m-> 2811\u001b[0m         results \u001b[39m=\u001b[39m \u001b[39mself\u001b[39;49m\u001b[39m.\u001b[39;49mtraining_step()\n\u001b[0;32m   2812\u001b[0m     \u001b[39melse\u001b[39;00m:\n\u001b[0;32m   2813\u001b[0m         results \u001b[39m=\u001b[39m \u001b[39mnext\u001b[39m(\u001b[39mself\u001b[39m\u001b[39m.\u001b[39mtrain_exec_impl)\n",
      "File \u001b[1;32mc:\\Users\\nadir\\anaconda3\\envs\\GTRay2.4.0\\lib\\site-packages\\ray\\rllib\\algorithms\\ppo\\ppo.py:403\u001b[0m, in \u001b[0;36mPPO.training_step\u001b[1;34m(self)\u001b[0m\n\u001b[0;32m    398\u001b[0m         train_batch \u001b[39m=\u001b[39m synchronous_parallel_sample(\n\u001b[0;32m    399\u001b[0m             worker_set\u001b[39m=\u001b[39m\u001b[39mself\u001b[39m\u001b[39m.\u001b[39mworkers,\n\u001b[0;32m    400\u001b[0m             max_agent_steps\u001b[39m=\u001b[39m\u001b[39mself\u001b[39m\u001b[39m.\u001b[39mconfig\u001b[39m.\u001b[39mtrain_batch_size,\n\u001b[0;32m    401\u001b[0m         )\n\u001b[0;32m    402\u001b[0m     \u001b[39melse\u001b[39;00m:\n\u001b[1;32m--> 403\u001b[0m         train_batch \u001b[39m=\u001b[39m synchronous_parallel_sample(\n\u001b[0;32m    404\u001b[0m             worker_set\u001b[39m=\u001b[39;49m\u001b[39mself\u001b[39;49m\u001b[39m.\u001b[39;49mworkers, max_env_steps\u001b[39m=\u001b[39;49m\u001b[39mself\u001b[39;49m\u001b[39m.\u001b[39;49mconfig\u001b[39m.\u001b[39;49mtrain_batch_size\n\u001b[0;32m    405\u001b[0m         )\n\u001b[0;32m    407\u001b[0m train_batch \u001b[39m=\u001b[39m train_batch\u001b[39m.\u001b[39mas_multi_agent()\n\u001b[0;32m    408\u001b[0m \u001b[39mself\u001b[39m\u001b[39m.\u001b[39m_counters[NUM_AGENT_STEPS_SAMPLED] \u001b[39m+\u001b[39m\u001b[39m=\u001b[39m train_batch\u001b[39m.\u001b[39magent_steps()\n",
      "File \u001b[1;32mc:\\Users\\nadir\\anaconda3\\envs\\GTRay2.4.0\\lib\\site-packages\\ray\\rllib\\execution\\rollout_ops.py:85\u001b[0m, in \u001b[0;36msynchronous_parallel_sample\u001b[1;34m(worker_set, max_agent_steps, max_env_steps, concat)\u001b[0m\n\u001b[0;32m     82\u001b[0m     sample_batches \u001b[39m=\u001b[39m [worker_set\u001b[39m.\u001b[39mlocal_worker()\u001b[39m.\u001b[39msample()]\n\u001b[0;32m     83\u001b[0m \u001b[39m# Loop over remote workers' `sample()` method in parallel.\u001b[39;00m\n\u001b[0;32m     84\u001b[0m \u001b[39melse\u001b[39;00m:\n\u001b[1;32m---> 85\u001b[0m     sample_batches \u001b[39m=\u001b[39m worker_set\u001b[39m.\u001b[39;49mforeach_worker(\n\u001b[0;32m     86\u001b[0m         \u001b[39mlambda\u001b[39;49;00m w: w\u001b[39m.\u001b[39;49msample(), local_worker\u001b[39m=\u001b[39;49m\u001b[39mFalse\u001b[39;49;00m, healthy_only\u001b[39m=\u001b[39;49m\u001b[39mTrue\u001b[39;49;00m\n\u001b[0;32m     87\u001b[0m     )\n\u001b[0;32m     88\u001b[0m     \u001b[39mif\u001b[39;00m worker_set\u001b[39m.\u001b[39mnum_healthy_remote_workers() \u001b[39m<\u001b[39m\u001b[39m=\u001b[39m \u001b[39m0\u001b[39m:\n\u001b[0;32m     89\u001b[0m         \u001b[39m# There is no point staying in this loop, since we will not be able to\u001b[39;00m\n\u001b[0;32m     90\u001b[0m         \u001b[39m# get any new samples if we don't have any healthy remote workers left.\u001b[39;00m\n\u001b[0;32m     91\u001b[0m         \u001b[39mbreak\u001b[39;00m\n",
      "File \u001b[1;32mc:\\Users\\nadir\\anaconda3\\envs\\GTRay2.4.0\\lib\\site-packages\\ray\\rllib\\evaluation\\worker_set.py:713\u001b[0m, in \u001b[0;36mWorkerSet.foreach_worker\u001b[1;34m(self, func, local_worker, healthy_only, remote_worker_ids, timeout_seconds, return_obj_refs, mark_healthy)\u001b[0m\n\u001b[0;32m    710\u001b[0m \u001b[39mif\u001b[39;00m local_worker \u001b[39mand\u001b[39;00m \u001b[39mself\u001b[39m\u001b[39m.\u001b[39mlocal_worker() \u001b[39mis\u001b[39;00m \u001b[39mnot\u001b[39;00m \u001b[39mNone\u001b[39;00m:\n\u001b[0;32m    711\u001b[0m     local_result \u001b[39m=\u001b[39m [func(\u001b[39mself\u001b[39m\u001b[39m.\u001b[39mlocal_worker())]\n\u001b[1;32m--> 713\u001b[0m remote_results \u001b[39m=\u001b[39m \u001b[39mself\u001b[39;49m\u001b[39m.\u001b[39;49m__worker_manager\u001b[39m.\u001b[39;49mforeach_actor(\n\u001b[0;32m    714\u001b[0m     func,\n\u001b[0;32m    715\u001b[0m     healthy_only\u001b[39m=\u001b[39;49mhealthy_only,\n\u001b[0;32m    716\u001b[0m     remote_actor_ids\u001b[39m=\u001b[39;49mremote_worker_ids,\n\u001b[0;32m    717\u001b[0m     timeout_seconds\u001b[39m=\u001b[39;49mtimeout_seconds,\n\u001b[0;32m    718\u001b[0m     return_obj_refs\u001b[39m=\u001b[39;49mreturn_obj_refs,\n\u001b[0;32m    719\u001b[0m     mark_healthy\u001b[39m=\u001b[39;49mmark_healthy,\n\u001b[0;32m    720\u001b[0m )\n\u001b[0;32m    722\u001b[0m handle_remote_call_result_errors(remote_results, \u001b[39mself\u001b[39m\u001b[39m.\u001b[39m_ignore_worker_failures)\n\u001b[0;32m    724\u001b[0m \u001b[39m# With application errors handled, return good results.\u001b[39;00m\n",
      "File \u001b[1;32mc:\\Users\\nadir\\anaconda3\\envs\\GTRay2.4.0\\lib\\site-packages\\ray\\rllib\\utils\\actor_manager.py:599\u001b[0m, in \u001b[0;36mFaultTolerantActorManager.foreach_actor\u001b[1;34m(self, func, healthy_only, remote_actor_ids, timeout_seconds, return_obj_refs, mark_healthy)\u001b[0m\n\u001b[0;32m    590\u001b[0m     func, remote_actor_ids \u001b[39m=\u001b[39m \u001b[39mself\u001b[39m\u001b[39m.\u001b[39m_filter_func_and_remote_actor_id_by_state(\n\u001b[0;32m    591\u001b[0m         func, remote_actor_ids\n\u001b[0;32m    592\u001b[0m     )\n\u001b[0;32m    594\u001b[0m remote_calls \u001b[39m=\u001b[39m \u001b[39mself\u001b[39m\u001b[39m.\u001b[39m__call_actors(\n\u001b[0;32m    595\u001b[0m     func\u001b[39m=\u001b[39mfunc,\n\u001b[0;32m    596\u001b[0m     remote_actor_ids\u001b[39m=\u001b[39mremote_actor_ids,\n\u001b[0;32m    597\u001b[0m )\n\u001b[1;32m--> 599\u001b[0m _, remote_results \u001b[39m=\u001b[39m \u001b[39mself\u001b[39;49m\u001b[39m.\u001b[39;49m__fetch_result(\n\u001b[0;32m    600\u001b[0m     remote_actor_ids\u001b[39m=\u001b[39;49mremote_actor_ids,\n\u001b[0;32m    601\u001b[0m     remote_calls\u001b[39m=\u001b[39;49mremote_calls,\n\u001b[0;32m    602\u001b[0m     tags\u001b[39m=\u001b[39;49m[\u001b[39mNone\u001b[39;49;00m] \u001b[39m*\u001b[39;49m \u001b[39mlen\u001b[39;49m(remote_calls),\n\u001b[0;32m    603\u001b[0m     timeout_seconds\u001b[39m=\u001b[39;49mtimeout_seconds,\n\u001b[0;32m    604\u001b[0m     return_obj_refs\u001b[39m=\u001b[39;49mreturn_obj_refs,\n\u001b[0;32m    605\u001b[0m     mark_healthy\u001b[39m=\u001b[39;49mmark_healthy,\n\u001b[0;32m    606\u001b[0m )\n\u001b[0;32m    608\u001b[0m \u001b[39mreturn\u001b[39;00m remote_results\n",
      "File \u001b[1;32mc:\\Users\\nadir\\anaconda3\\envs\\GTRay2.4.0\\lib\\site-packages\\ray\\rllib\\utils\\actor_manager.py:467\u001b[0m, in \u001b[0;36mFaultTolerantActorManager.__fetch_result\u001b[1;34m(self, remote_actor_ids, remote_calls, tags, timeout_seconds, return_obj_refs, mark_healthy)\u001b[0m\n\u001b[0;32m    464\u001b[0m \u001b[39mif\u001b[39;00m \u001b[39mnot\u001b[39;00m remote_calls:\n\u001b[0;32m    465\u001b[0m     \u001b[39mreturn\u001b[39;00m [], RemoteCallResults()\n\u001b[1;32m--> 467\u001b[0m ready, _ \u001b[39m=\u001b[39m ray\u001b[39m.\u001b[39;49mwait(\n\u001b[0;32m    468\u001b[0m     remote_calls,\n\u001b[0;32m    469\u001b[0m     num_returns\u001b[39m=\u001b[39;49m\u001b[39mlen\u001b[39;49m(remote_calls),\n\u001b[0;32m    470\u001b[0m     timeout\u001b[39m=\u001b[39;49mtimeout,\n\u001b[0;32m    471\u001b[0m     \u001b[39m# Make sure remote results are fetched locally in parallel.\u001b[39;49;00m\n\u001b[0;32m    472\u001b[0m     fetch_local\u001b[39m=\u001b[39;49m\u001b[39mnot\u001b[39;49;00m return_obj_refs,\n\u001b[0;32m    473\u001b[0m )\n\u001b[0;32m    475\u001b[0m \u001b[39m# Remote data should already be fetched to local object store at this point.\u001b[39;00m\n\u001b[0;32m    476\u001b[0m remote_results \u001b[39m=\u001b[39m RemoteCallResults()\n",
      "File \u001b[1;32mc:\\Users\\nadir\\anaconda3\\envs\\GTRay2.4.0\\lib\\site-packages\\ray\\_private\\client_mode_hook.py:105\u001b[0m, in \u001b[0;36mclient_mode_hook.<locals>.wrapper\u001b[1;34m(*args, **kwargs)\u001b[0m\n\u001b[0;32m    103\u001b[0m     \u001b[39mif\u001b[39;00m func\u001b[39m.\u001b[39m\u001b[39m__name__\u001b[39m \u001b[39m!=\u001b[39m \u001b[39m\"\u001b[39m\u001b[39minit\u001b[39m\u001b[39m\"\u001b[39m \u001b[39mor\u001b[39;00m is_client_mode_enabled_by_default:\n\u001b[0;32m    104\u001b[0m         \u001b[39mreturn\u001b[39;00m \u001b[39mgetattr\u001b[39m(ray, func\u001b[39m.\u001b[39m\u001b[39m__name__\u001b[39m)(\u001b[39m*\u001b[39margs, \u001b[39m*\u001b[39m\u001b[39m*\u001b[39mkwargs)\n\u001b[1;32m--> 105\u001b[0m \u001b[39mreturn\u001b[39;00m func(\u001b[39m*\u001b[39margs, \u001b[39m*\u001b[39m\u001b[39m*\u001b[39mkwargs)\n",
      "File \u001b[1;32mc:\\Users\\nadir\\anaconda3\\envs\\GTRay2.4.0\\lib\\site-packages\\ray\\_private\\worker.py:2719\u001b[0m, in \u001b[0;36mwait\u001b[1;34m(object_refs, num_returns, timeout, fetch_local)\u001b[0m\n\u001b[0;32m   2717\u001b[0m timeout \u001b[39m=\u001b[39m timeout \u001b[39mif\u001b[39;00m timeout \u001b[39mis\u001b[39;00m \u001b[39mnot\u001b[39;00m \u001b[39mNone\u001b[39;00m \u001b[39melse\u001b[39;00m \u001b[39m10\u001b[39m\u001b[39m*\u001b[39m\u001b[39m*\u001b[39m\u001b[39m6\u001b[39m\n\u001b[0;32m   2718\u001b[0m timeout_milliseconds \u001b[39m=\u001b[39m \u001b[39mint\u001b[39m(timeout \u001b[39m*\u001b[39m \u001b[39m1000\u001b[39m)\n\u001b[1;32m-> 2719\u001b[0m ready_ids, remaining_ids \u001b[39m=\u001b[39m worker\u001b[39m.\u001b[39;49mcore_worker\u001b[39m.\u001b[39;49mwait(\n\u001b[0;32m   2720\u001b[0m     object_refs,\n\u001b[0;32m   2721\u001b[0m     num_returns,\n\u001b[0;32m   2722\u001b[0m     timeout_milliseconds,\n\u001b[0;32m   2723\u001b[0m     worker\u001b[39m.\u001b[39;49mcurrent_task_id,\n\u001b[0;32m   2724\u001b[0m     fetch_local,\n\u001b[0;32m   2725\u001b[0m )\n\u001b[0;32m   2726\u001b[0m \u001b[39mreturn\u001b[39;00m ready_ids, remaining_ids\n",
      "File \u001b[1;32mpython\\ray\\_raylet.pyx:1870\u001b[0m, in \u001b[0;36mray._raylet.CoreWorker.wait\u001b[1;34m()\u001b[0m\n",
      "File \u001b[1;32mpython\\ray\\_raylet.pyx:201\u001b[0m, in \u001b[0;36mray._raylet.check_status\u001b[1;34m()\u001b[0m\n",
      "\u001b[1;31mKeyboardInterrupt\u001b[0m: "
     ]
    }
   ],
   "source": [
    "N = 3000\n",
    "\n",
    "for n in range(N):\n",
    "    result = algo.train()\n",
    "    print(\"Loop: \", n)\n",
    "    if n % 10 == 0:\n",
    "        print(\"Saved\", n)\n",
    "        algo.save()\n",
    "        \n",
    "algo.save()"
   ]
  },
  {
   "cell_type": "code",
   "execution_count": null,
   "metadata": {},
   "outputs": [],
   "source": [
    "# result = algo.train() #single try"
   ]
  }
 ],
 "metadata": {
  "kernelspec": {
   "display_name": "Python 3",
   "language": "python",
   "name": "python3"
  },
  "language_info": {
   "codemirror_mode": {
    "name": "ipython",
    "version": 3
   },
   "file_extension": ".py",
   "mimetype": "text/x-python",
   "name": "python",
   "nbconvert_exporter": "python",
   "pygments_lexer": "ipython3",
   "version": "3.9.9"
  }
 },
 "nbformat": 4,
 "nbformat_minor": 2
}

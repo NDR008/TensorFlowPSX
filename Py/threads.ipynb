{
 "cells": [
  {
   "cell_type": "code",
   "execution_count": 14,
   "metadata": {},
   "outputs": [
    {
     "name": "stdout",
     "output_type": "stream",
     "text": [
      "haha\n",
      "Waiting for the thread to finish\n",
      "This is coming from another thread\n"
     ]
    }
   ],
   "source": [
    "# SuperFastPython.com\n",
    "# example of extending the Thread class\n",
    "from time import sleep\n",
    "from threading import Thread\n",
    " \n",
    "# custom thread class\n",
    "class CustomThread(Thread):\n",
    "    # override the run function\n",
    "    def run(self):\n",
    "        # block for a moment\n",
    "        sleep(1)\n",
    "        # display a message\n",
    "        print('This is coming from another thread')\n",
    "    def boop(self):\n",
    "        print(\"haha\")\n",
    " \n",
    "# create the thread\n",
    "thread = CustomThread()\n",
    "# start the thread\n",
    "thread.start()\n",
    "# wait for the thread to finish\n",
    "thread.boop()\n",
    "print('Waiting for the thread to finish')\n",
    "thread.join()"
   ]
  },
  {
   "cell_type": "code",
   "execution_count": 15,
   "metadata": {},
   "outputs": [
    {
     "name": "stdout",
     "output_type": "stream",
     "text": [
      "GT AI Server instantiated for rtgym\n",
      "woop\n"
     ]
    }
   ],
   "source": [
    "from myRTClass import MyRealTimeInterface\n",
    "from threading import Thread\n",
    "        \n",
    "agent = MyRealTimeInterface()\n",
    "agent.init_control()\n",
    "\n",
    "print(\"woop\")\n"
   ]
  },
  {
   "cell_type": "code",
   "execution_count": 33,
   "metadata": {},
   "outputs": [
    {
     "ename": "AttributeError",
     "evalue": "'server' object has no attribute 'start'",
     "output_type": "error",
     "traceback": [
      "\u001b[1;31m---------------------------------------------------------------------------\u001b[0m",
      "\u001b[1;31mAttributeError\u001b[0m                            Traceback (most recent call last)",
      "\u001b[1;32mj:\\git\\TensorFlowPSX\\Py\\threads.ipynb Cell 3\u001b[0m in \u001b[0;36m1\n\u001b[1;32m----> <a href='vscode-notebook-cell:/j%3A/git/TensorFlowPSX/Py/threads.ipynb#W4sZmlsZQ%3D%3D?line=0'>1</a>\u001b[0m agent\u001b[39m.\u001b[39;49mserver\u001b[39m.\u001b[39;49mstart()\n",
      "\u001b[1;31mAttributeError\u001b[0m: 'server' object has no attribute 'start'"
     ]
    }
   ],
   "source": [
    "agent.server.start()"
   ]
  },
  {
   "cell_type": "code",
   "execution_count": 5,
   "metadata": {},
   "outputs": [
    {
     "name": "stdout",
     "output_type": "stream",
     "text": [
      "WTF\n"
     ]
    }
   ],
   "source": [
    "\n",
    "from threading import Thread\n",
    "\n",
    "class myClass(Thread):\n",
    "    def __init__(self):\n",
    "        super().__init__()\n",
    "        self.a = 1\n",
    "        self.b = 2\n",
    "    def run(self):\n",
    "        print(\"WTF\")\n",
    "        \n",
    "\n",
    "myThread = myClass()\n",
    "myThread.start()"
   ]
  },
  {
   "cell_type": "code",
   "execution_count": 2,
   "metadata": {},
   "outputs": [
    {
     "name": "stdout",
     "output_type": "stream",
     "text": [
      "GT AI Server instantiated for rtgym\n"
     ]
    },
    {
     "ename": "OSError",
     "evalue": "[WinError 10048] Only one usage of each socket address (protocol/network address/port) is normally permitted",
     "output_type": "error",
     "traceback": [
      "\u001b[1;31m---------------------------------------------------------------------------\u001b[0m",
      "\u001b[1;31mOSError\u001b[0m                                   Traceback (most recent call last)",
      "\u001b[1;32mj:\\git\\TensorFlowPSX\\Py\\threads.ipynb Cell 5\u001b[0m in \u001b[0;36m4\n\u001b[0;32m      <a href='vscode-notebook-cell:/j%3A/git/TensorFlowPSX/Py/threads.ipynb#W4sZmlsZQ%3D%3D?line=0'>1</a>\u001b[0m \u001b[39mfrom\u001b[39;00m \u001b[39mserverClass\u001b[39;00m \u001b[39mimport\u001b[39;00m server\n\u001b[0;32m      <a href='vscode-notebook-cell:/j%3A/git/TensorFlowPSX/Py/threads.ipynb#W4sZmlsZQ%3D%3D?line=2'>3</a>\u001b[0m serv \u001b[39m=\u001b[39m server()\n\u001b[1;32m----> <a href='vscode-notebook-cell:/j%3A/git/TensorFlowPSX/Py/threads.ipynb#W4sZmlsZQ%3D%3D?line=3'>4</a>\u001b[0m serv\u001b[39m.\u001b[39;49mrun()\n",
      "File \u001b[1;32mj:\\git\\TensorFlowPSX\\Py\\serverClass.py:144\u001b[0m, in \u001b[0;36mserver.run\u001b[1;34m(self)\u001b[0m\n\u001b[0;32m    143\u001b[0m \u001b[39mdef\u001b[39;00m \u001b[39mrun\u001b[39m(\u001b[39mself\u001b[39m):\n\u001b[1;32m--> 144\u001b[0m     \u001b[39mself\u001b[39;49m\u001b[39m.\u001b[39;49mstartServer()\n\u001b[0;32m    145\u001b[0m     \u001b[39mself\u001b[39m\u001b[39m.\u001b[39mreceiveClient()\n\u001b[0;32m    146\u001b[0m     \u001b[39m# while True:\u001b[39;00m\n",
      "File \u001b[1;32mj:\\git\\TensorFlowPSX\\Py\\serverClass.py:53\u001b[0m, in \u001b[0;36mserver.startServer\u001b[1;34m(self)\u001b[0m\n\u001b[0;32m     51\u001b[0m serverAddress \u001b[39m=\u001b[39m(\u001b[39mself\u001b[39m\u001b[39m.\u001b[39mip, \u001b[39mself\u001b[39m\u001b[39m.\u001b[39mport)\n\u001b[0;32m     52\u001b[0m \u001b[39m# self.sock.setblocking(False)\u001b[39;00m\n\u001b[1;32m---> 53\u001b[0m \u001b[39mself\u001b[39;49m\u001b[39m.\u001b[39;49msock\u001b[39m.\u001b[39;49mbind(serverAddress)\n\u001b[0;32m     54\u001b[0m \u001b[39mself\u001b[39m\u001b[39m.\u001b[39msock\u001b[39m.\u001b[39mlisten(\u001b[39m1\u001b[39m)\n\u001b[0;32m     55\u001b[0m \u001b[39mprint\u001b[39m(\u001b[39m'\u001b[39m\u001b[39mstarting up on \u001b[39m\u001b[39m{}\u001b[39;00m\u001b[39m port \u001b[39m\u001b[39m{}\u001b[39;00m\u001b[39m'\u001b[39m\u001b[39m.\u001b[39mformat(\u001b[39m*\u001b[39mserverAddress))\n",
      "\u001b[1;31mOSError\u001b[0m: [WinError 10048] Only one usage of each socket address (protocol/network address/port) is normally permitted"
     ]
    }
   ],
   "source": [
    "from serverClass import server\n",
    "\n",
    "serv = server()\n",
    "serv.run()"
   ]
  }
 ],
 "metadata": {
  "kernelspec": {
   "display_name": "GTAI2",
   "language": "python",
   "name": "python3"
  },
  "language_info": {
   "codemirror_mode": {
    "name": "ipython",
    "version": 3
   },
   "file_extension": ".py",
   "mimetype": "text/x-python",
   "name": "python",
   "nbconvert_exporter": "python",
   "pygments_lexer": "ipython3",
   "version": "3.9.9"
  },
  "orig_nbformat": 4
 },
 "nbformat": 4,
 "nbformat_minor": 2
}

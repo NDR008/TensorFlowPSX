{
 "cells": [
  {
   "cell_type": "code",
   "execution_count": 1,
   "metadata": {},
   "outputs": [
    {
     "name": "stdout",
     "output_type": "stream",
     "text": [
      "position 1\n",
      "position 2\n",
      "22 83 753 631\n"
     ]
    }
   ],
   "source": [
    "# just to find screen limits\n",
    "screenXY = []\n",
    "\n",
    "import pyautogui as py\n",
    "import time\n",
    "for i in range(0, 2):\n",
    "    print(\"position\", i+1)\n",
    "    time.sleep(3)\n",
    "    screenXY.append(py.position())\n",
    "x1,y1 = screenXY[0]\n",
    "x2,y2 = screenXY[1]\n",
    "print(x1,y1,x2,y2)"
   ]
  },
  {
   "cell_type": "code",
   "execution_count": 2,
   "metadata": {},
   "outputs": [],
   "source": [
    "x1=25\n",
    "y1=84\n",
    "x2=565 \n",
    "y2=486"
   ]
  },
  {
   "cell_type": "code",
   "execution_count": 3,
   "metadata": {},
   "outputs": [],
   "source": [
    "import numpy as np\n",
    "import d3dshot\n",
    "import cv2\n",
    "from time import time\n",
    "\n",
    "\n",
    "def screen_record_d3dshot_play():\n",
    "    screen_buffer = d3dshot.create(\n",
    "        capture_output=\"numpy\")\n",
    "    screen_buffer.display = screen_buffer.displays[0]\n",
    "    start_time = time()\n",
    "    while (True):\n",
    "        printscreen = screen_buffer.screenshot(region=(x1, y1, x2, y2))\n",
    "        grey = cv2.GaussianBlur(printscreen, (5, 5), 0)\n",
    "        canny = cv2.Canny(grey, threshold1=50, threshold2=100)\n",
    "        enhanced = cv2.equalizeHist(canny)\n",
    "        cv2.imshow('window', cv2.cvtColor(enhanced, cv2.COLOR_BGR2RGB))\n",
    "        if cv2.waitKey(1) & 0xFF == ord('q'):\n",
    "            cv2.destroyAllWindows()\n",
    "            break\n",
    "    end_time = time()\n",
    "    cv2.destroyAllWindows()\n",
    "    screen_buffer.stop()\n",
    "    return (end_time - start_time)\n"
   ]
  },
  {
   "cell_type": "code",
   "execution_count": 4,
   "metadata": {},
   "outputs": [
    {
     "data": {
      "text/plain": [
       "18.47872018814087"
      ]
     },
     "execution_count": 4,
     "metadata": {},
     "output_type": "execute_result"
    }
   ],
   "source": [
    "screen_record_d3dshot_play()"
   ]
  },
  {
   "cell_type": "code",
   "execution_count": 2,
   "metadata": {},
   "outputs": [],
   "source": [
    "x1=25\n",
    "y1=84\n",
    "x2=565 \n",
    "y2=486"
   ]
  },
  {
   "cell_type": "code",
   "execution_count": 9,
   "metadata": {},
   "outputs": [],
   "source": [
    "import numpy as np\n",
    "import d3dshot\n",
    "import cv2\n",
    "\n",
    "\n",
    "def gray_equal_blur_canny():\n",
    "    screen_buffer = d3dshot.create(\n",
    "        capture_output=\"numpy\")\n",
    "    screen_buffer.display = screen_buffer.displays[0]\n",
    "    while (True):\n",
    "        printscreen = screen_buffer.screenshot(region=(x1, y1, x2, y2))\n",
    "        grey = cv2.cvtColor(printscreen, cv2.COLOR_BGR2GRAY)\n",
    "        enhanced = cv2.equalizeHist(grey)\n",
    "        blur = cv2.GaussianBlur(enhanced, (5, 5), 0)\n",
    "        canny = cv2.Canny(blur, threshold1=50, threshold2=100)\n",
    "        cv2.imshow('window', cv2.cvtColor(canny, cv2.COLOR_BGR2RGB))\n",
    "        if cv2.waitKey(1) & 0xFF == ord('q'):\n",
    "            cv2.destroyAllWindows()\n",
    "            break\n",
    "    cv2.destroyAllWindows()\n",
    "    screen_buffer.stop()\n",
    "\n",
    "\n",
    "def gray_blur_canny():\n",
    "    screen_buffer = d3dshot.create(\n",
    "        capture_output=\"numpy\")\n",
    "    screen_buffer.display = screen_buffer.displays[0]\n",
    "    while (True):\n",
    "        printscreen = screen_buffer.screenshot(region=(x1, y1, x2, y2))\n",
    "        grey = cv2.cvtColor(printscreen, cv2.COLOR_BGR2GRAY)\n",
    "        blur = cv2.GaussianBlur(grey, (5, 5), 0)\n",
    "        canny = cv2.Canny(blur, threshold1=50, threshold2=100)\n",
    "        cv2.imshow('window', cv2.cvtColor(canny, cv2.COLOR_BGR2RGB))\n",
    "        if cv2.waitKey(1) & 0xFF == ord('q'):\n",
    "            cv2.destroyAllWindows()\n",
    "            break\n",
    "    cv2.destroyAllWindows()\n",
    "    screen_buffer.stop()\n",
    "\n",
    "\n",
    "def gray_equ_canny():\n",
    "    screen_buffer = d3dshot.create(\n",
    "        capture_output=\"numpy\")\n",
    "    screen_buffer.display = screen_buffer.displays[0]\n",
    "    while (True):\n",
    "        printscreen = screen_buffer.screenshot(region=(x1, y1, x2, y2))\n",
    "        grey = cv2.cvtColor(printscreen, cv2.COLOR_BGR2GRAY)\n",
    "        enhanced = cv2.equalizeHist(grey)\n",
    "        canny = cv2.Canny(enhanced, threshold1=50, threshold2=100)\n",
    "        cv2.imshow('window', cv2.cvtColor(canny, cv2.COLOR_BGR2RGB))\n",
    "        if cv2.waitKey(1) & 0xFF == ord('q'):\n",
    "            cv2.destroyAllWindows()\n",
    "            break\n",
    "    cv2.destroyAllWindows()\n",
    "    screen_buffer.stop()\n",
    "\n",
    "\n",
    "def gray_canny():\n",
    "    screen_buffer = d3dshot.create(\n",
    "        capture_output=\"numpy\")\n",
    "    screen_buffer.display = screen_buffer.displays[0]\n",
    "    while (True):\n",
    "        printscreen = screen_buffer.screenshot(region=(x1, y1, x2, y2))\n",
    "        grey = cv2.cvtColor(printscreen, cv2.COLOR_BGR2GRAY)\n",
    "        canny = cv2.Canny(grey, threshold1=50, threshold2=100)\n",
    "        cv2.imshow('window', cv2.cvtColor(canny, cv2.COLOR_BGR2RGB))\n",
    "        if cv2.waitKey(1) & 0xFF == ord('q'):\n",
    "            cv2.destroyAllWindows()\n",
    "            break\n",
    "    cv2.destroyAllWindows()\n",
    "    screen_buffer.stop()\n",
    "    \n",
    "    \n",
    "def gray_blur_equ_canny():\n",
    "    screen_buffer = d3dshot.create(\n",
    "        capture_output=\"numpy\")\n",
    "    screen_buffer.display = screen_buffer.displays[0]\n",
    "    while (True):\n",
    "        printscreen = screen_buffer.screenshot(region=(x1, y1, x2, y2))\n",
    "        grey = cv2.cvtColor(printscreen, cv2.COLOR_BGR2GRAY)\n",
    "        blur = cv2.GaussianBlur(grey, (3, 3), 0)\n",
    "        enhanced = cv2.equalizeHist(blur)\n",
    "        canny = cv2.Canny(enhanced, threshold1=50, threshold2=100)\n",
    "        cv2.imshow('window', cv2.cvtColor(canny, cv2.COLOR_BGR2RGB))\n",
    "        if cv2.waitKey(1) & 0xFF == ord('q'):\n",
    "            cv2.destroyAllWindows()\n",
    "            break\n",
    "    cv2.destroyAllWindows()\n",
    "    screen_buffer.stop()\n"
   ]
  },
  {
   "cell_type": "code",
   "execution_count": 29,
   "metadata": {},
   "outputs": [
    {
     "name": "stdout",
     "output_type": "stream",
     "text": [
      "gray_equal_blur_canny()\n",
      "Only 1 instance of D3DShot is allowed per process! Returning the existing instance...\n",
      "gray_equ_canny()\n",
      "Only 1 instance of D3DShot is allowed per process! Returning the existing instance...\n",
      "gray_canny()\n",
      "Only 1 instance of D3DShot is allowed per process! Returning the existing instance...\n",
      "gray_blur_equ_canny\n",
      "Only 1 instance of D3DShot is allowed per process! Returning the existing instance...\n"
     ]
    }
   ],
   "source": [
    "print(\"gray_equal_blur_canny()\")\n",
    "gray_blur_canny()\n",
    "\n",
    "print(\"gray_equ_canny()\")\n",
    "gray_equ_canny()\n",
    "\n",
    "print(\"gray_canny()\")\n",
    "gray_canny()\n",
    "\n",
    "print(\"gray_blur_equ_canny\")\n",
    "gray_blur_equ_canny()\n"
   ]
  },
  {
   "cell_type": "code",
   "execution_count": 3,
   "metadata": {},
   "outputs": [
    {
     "name": "stdout",
     "output_type": "stream",
     "text": [
      "Only 1 instance of D3DShot is allowed per process! Returning the existing instance...\n"
     ]
    }
   ],
   "source": [
    "import numpy as np\n",
    "import d3dshot\n",
    "import cv2\n",
    "\n",
    "def gray_canny():\n",
    "    screen_buffer = d3dshot.create(\n",
    "        capture_output=\"numpy\")\n",
    "    screen_buffer.display = screen_buffer.displays[0]\n",
    "    while (True):\n",
    "        printscreen = screen_buffer.screenshot(region=(x1, y1, x2, y2))\n",
    "        grey = cv2.cvtColor(printscreen, cv2.COLOR_BGR2GRAY)\n",
    "        canny = cv2.Canny(grey, threshold1=50, threshold2=100)\n",
    "        cv2.imshow('grey', cv2.cvtColor(grey, cv2.COLOR_BGR2RGB))\n",
    "        cv2.imshow('canny', cv2.cvtColor(canny, cv2.COLOR_BGR2RGB))\n",
    "        if cv2.waitKey(1) & 0xFF == ord('q'):\n",
    "            cv2.destroyAllWindows()\n",
    "            break\n",
    "    cv2.destroyAllWindows()\n",
    "    screen_buffer.stop()\n",
    "    \n",
    "gray_canny()\n"
   ]
  },
  {
   "cell_type": "code",
   "execution_count": 2,
   "metadata": {},
   "outputs": [],
   "source": [
    "import numpy as np\n",
    "import d3dshot\n",
    "import cv2\n",
    "\n",
    "\n",
    "def trial_canny():\n",
    "    screen_buffer = d3dshot.create(\n",
    "        capture_output=\"numpy\")\n",
    "    screen_buffer.display = screen_buffer.displays[0]\n",
    "    while (True):\n",
    "        printscreen = screen_buffer.screenshot(region=(x1, y1, x2, y2))\n",
    "        hsv = cv2.cvtColor(printscreen, cv2.COLOR_BGR2HSV)\n",
    "        \n",
    "        # Threshold of blue in HSV space\n",
    "        lower_blue = np.array([60, 35, 140])\n",
    "        upper_blue = np.array([180, 255, 255])\n",
    "        mask = cv2.inRange(hsv, lower_blue, upper_blue)\n",
    "        \n",
    "        grey = cv2.cvtColor(printscreen, cv2.COLOR_BGR2GRAY)\n",
    "        canny = cv2.Canny(grey, threshold1=50, threshold2=100)\n",
    "        \n",
    "        result = cv2.bitwise_and(printscreen, printscreen, mask=mask)\n",
    "        \n",
    "        cv2.imshow('grey', cv2.cvtColor(grey, cv2.COLOR_BGR2RGB))\n",
    "        cv2.imshow('canny', cv2.cvtColor(canny, cv2.COLOR_BGR2RGB))\n",
    "        cv2.imshow('mask', cv2.cvtColor(mask, cv2.COLOR_BGR2RGB))\n",
    "        cv2.imshow('blue', cv2.cvtColor(result, cv2.COLOR_BGR2RGB))\n",
    "        \n",
    "        if cv2.waitKey(1) & 0xFF == ord('q'):\n",
    "            cv2.destroyAllWindows()\n",
    "            break\n",
    "    cv2.destroyAllWindows()\n",
    "    screen_buffer.stop()\n",
    "\n",
    "\n",
    "trial_canny()\n",
    "\n"
   ]
  },
  {
   "cell_type": "markdown",
   "metadata": {},
   "source": [
    "GT2 Optimum Tahiti"
   ]
  },
  {
   "cell_type": "code",
   "execution_count": 6,
   "metadata": {},
   "outputs": [
    {
     "name": "stdout",
     "output_type": "stream",
     "text": [
      "Only 1 instance of D3DShot is allowed per process! Returning the existing instance...\n"
     ]
    }
   ],
   "source": [
    "import numpy as np\n",
    "import d3dshot\n",
    "import cv2\n",
    "\n",
    "\n",
    "def gray_canny():\n",
    "    screen_buffer = d3dshot.create(\n",
    "        capture_output=\"numpy\")\n",
    "    screen_buffer.display = screen_buffer.displays[0]\n",
    "    while (True):\n",
    "        printscreen = screen_buffer.screenshot(region=(x1, y1, x2, y2))\n",
    "        grey = cv2.cvtColor(printscreen, cv2.COLOR_BGR2GRAY)\n",
    "        canny = cv2.Canny(grey, threshold1=150, threshold2=200)\n",
    "        cv2.imshow('grey', cv2.cvtColor(grey, cv2.COLOR_BGR2RGB))\n",
    "        cv2.imshow('canny', cv2.cvtColor(canny, cv2.COLOR_BGR2RGB))\n",
    "        if cv2.waitKey(1) & 0xFF == ord('q'):\n",
    "            cv2.destroyAllWindows()\n",
    "            break\n",
    "    cv2.destroyAllWindows()\n",
    "    screen_buffer.stop()\n",
    "\n",
    "\n",
    "gray_canny()\n"
   ]
  },
  {
   "cell_type": "markdown",
   "metadata": {},
   "source": [
    "Not working yet, but redux has an option to overwrite vram, so it could be possible to substitute textures"
   ]
  },
  {
   "cell_type": "code",
   "execution_count": 4,
   "metadata": {},
   "outputs": [
    {
     "ename": "TypeError",
     "evalue": "a bytes-like object is required, not 'Image'",
     "output_type": "error",
     "traceback": [
      "\u001b[1;31m---------------------------------------------------------------------------\u001b[0m",
      "\u001b[1;31mTypeError\u001b[0m                                 Traceback (most recent call last)",
      "\u001b[1;32mj:\\git\\TensorFlowPSX\\Part4\\part4.ipynb Cell 12'\u001b[0m in \u001b[0;36m<cell line: 9>\u001b[1;34m()\u001b[0m\n\u001b[0;32m      <a href='vscode-notebook-cell:/j%3A/git/TensorFlowPSX/Part4/part4.ipynb#ch0000011?line=6'>7</a>\u001b[0m \u001b[39m# pix_val = list(gray_image.getdata())\u001b[39;00m\n\u001b[0;32m      <a href='vscode-notebook-cell:/j%3A/git/TensorFlowPSX/Part4/part4.ipynb#ch0000011?line=7'>8</a>\u001b[0m pix_val \u001b[39m=\u001b[39m gray_image\n\u001b[1;32m----> <a href='vscode-notebook-cell:/j%3A/git/TensorFlowPSX/Part4/part4.ipynb#ch0000011?line=8'>9</a>\u001b[0m response \u001b[39m=\u001b[39m requests\u001b[39m.\u001b[39;49mpost(\n\u001b[0;32m     <a href='vscode-notebook-cell:/j%3A/git/TensorFlowPSX/Part4/part4.ipynb#ch0000011?line=9'>10</a>\u001b[0m     \u001b[39m'\u001b[39;49m\u001b[39mhttp://localhost:8080/api/v1/gpu/vram/raw?x=120&y=150&width=420&height=420\u001b[39;49m\u001b[39m'\u001b[39;49m, files\u001b[39m=\u001b[39;49m\u001b[39mdict\u001b[39;49m(pixels\u001b[39m=\u001b[39;49mpix_val))\n",
      "File \u001b[1;32mc:\\Users\\nadir\\anaconda3\\envs\\GTAI\\lib\\site-packages\\requests\\api.py:117\u001b[0m, in \u001b[0;36mpost\u001b[1;34m(url, data, json, **kwargs)\u001b[0m\n\u001b[0;32m    <a href='file:///c%3A/Users/nadir/anaconda3/envs/GTAI/lib/site-packages/requests/api.py?line=104'>105</a>\u001b[0m \u001b[39mdef\u001b[39;00m \u001b[39mpost\u001b[39m(url, data\u001b[39m=\u001b[39m\u001b[39mNone\u001b[39;00m, json\u001b[39m=\u001b[39m\u001b[39mNone\u001b[39;00m, \u001b[39m*\u001b[39m\u001b[39m*\u001b[39mkwargs):\n\u001b[0;32m    <a href='file:///c%3A/Users/nadir/anaconda3/envs/GTAI/lib/site-packages/requests/api.py?line=105'>106</a>\u001b[0m     \u001b[39mr\u001b[39m\u001b[39m\"\"\"Sends a POST request.\u001b[39;00m\n\u001b[0;32m    <a href='file:///c%3A/Users/nadir/anaconda3/envs/GTAI/lib/site-packages/requests/api.py?line=106'>107</a>\u001b[0m \n\u001b[0;32m    <a href='file:///c%3A/Users/nadir/anaconda3/envs/GTAI/lib/site-packages/requests/api.py?line=107'>108</a>\u001b[0m \u001b[39m    :param url: URL for the new :class:`Request` object.\u001b[39;00m\n\u001b[1;32m   (...)\u001b[0m\n\u001b[0;32m    <a href='file:///c%3A/Users/nadir/anaconda3/envs/GTAI/lib/site-packages/requests/api.py?line=113'>114</a>\u001b[0m \u001b[39m    :rtype: requests.Response\u001b[39;00m\n\u001b[0;32m    <a href='file:///c%3A/Users/nadir/anaconda3/envs/GTAI/lib/site-packages/requests/api.py?line=114'>115</a>\u001b[0m \u001b[39m    \"\"\"\u001b[39;00m\n\u001b[1;32m--> <a href='file:///c%3A/Users/nadir/anaconda3/envs/GTAI/lib/site-packages/requests/api.py?line=116'>117</a>\u001b[0m     \u001b[39mreturn\u001b[39;00m request(\u001b[39m'\u001b[39;49m\u001b[39mpost\u001b[39;49m\u001b[39m'\u001b[39;49m, url, data\u001b[39m=\u001b[39;49mdata, json\u001b[39m=\u001b[39;49mjson, \u001b[39m*\u001b[39;49m\u001b[39m*\u001b[39;49mkwargs)\n",
      "File \u001b[1;32mc:\\Users\\nadir\\anaconda3\\envs\\GTAI\\lib\\site-packages\\requests\\api.py:61\u001b[0m, in \u001b[0;36mrequest\u001b[1;34m(method, url, **kwargs)\u001b[0m\n\u001b[0;32m     <a href='file:///c%3A/Users/nadir/anaconda3/envs/GTAI/lib/site-packages/requests/api.py?line=56'>57</a>\u001b[0m \u001b[39m# By using the 'with' statement we are sure the session is closed, thus we\u001b[39;00m\n\u001b[0;32m     <a href='file:///c%3A/Users/nadir/anaconda3/envs/GTAI/lib/site-packages/requests/api.py?line=57'>58</a>\u001b[0m \u001b[39m# avoid leaving sockets open which can trigger a ResourceWarning in some\u001b[39;00m\n\u001b[0;32m     <a href='file:///c%3A/Users/nadir/anaconda3/envs/GTAI/lib/site-packages/requests/api.py?line=58'>59</a>\u001b[0m \u001b[39m# cases, and look like a memory leak in others.\u001b[39;00m\n\u001b[0;32m     <a href='file:///c%3A/Users/nadir/anaconda3/envs/GTAI/lib/site-packages/requests/api.py?line=59'>60</a>\u001b[0m \u001b[39mwith\u001b[39;00m sessions\u001b[39m.\u001b[39mSession() \u001b[39mas\u001b[39;00m session:\n\u001b[1;32m---> <a href='file:///c%3A/Users/nadir/anaconda3/envs/GTAI/lib/site-packages/requests/api.py?line=60'>61</a>\u001b[0m     \u001b[39mreturn\u001b[39;00m session\u001b[39m.\u001b[39;49mrequest(method\u001b[39m=\u001b[39;49mmethod, url\u001b[39m=\u001b[39;49murl, \u001b[39m*\u001b[39;49m\u001b[39m*\u001b[39;49mkwargs)\n",
      "File \u001b[1;32mc:\\Users\\nadir\\anaconda3\\envs\\GTAI\\lib\\site-packages\\requests\\sessions.py:515\u001b[0m, in \u001b[0;36mSession.request\u001b[1;34m(self, method, url, params, data, headers, cookies, files, auth, timeout, allow_redirects, proxies, hooks, stream, verify, cert, json)\u001b[0m\n\u001b[0;32m    <a href='file:///c%3A/Users/nadir/anaconda3/envs/GTAI/lib/site-packages/requests/sessions.py?line=501'>502</a>\u001b[0m \u001b[39m# Create the Request.\u001b[39;00m\n\u001b[0;32m    <a href='file:///c%3A/Users/nadir/anaconda3/envs/GTAI/lib/site-packages/requests/sessions.py?line=502'>503</a>\u001b[0m req \u001b[39m=\u001b[39m Request(\n\u001b[0;32m    <a href='file:///c%3A/Users/nadir/anaconda3/envs/GTAI/lib/site-packages/requests/sessions.py?line=503'>504</a>\u001b[0m     method\u001b[39m=\u001b[39mmethod\u001b[39m.\u001b[39mupper(),\n\u001b[0;32m    <a href='file:///c%3A/Users/nadir/anaconda3/envs/GTAI/lib/site-packages/requests/sessions.py?line=504'>505</a>\u001b[0m     url\u001b[39m=\u001b[39murl,\n\u001b[1;32m   (...)\u001b[0m\n\u001b[0;32m    <a href='file:///c%3A/Users/nadir/anaconda3/envs/GTAI/lib/site-packages/requests/sessions.py?line=512'>513</a>\u001b[0m     hooks\u001b[39m=\u001b[39mhooks,\n\u001b[0;32m    <a href='file:///c%3A/Users/nadir/anaconda3/envs/GTAI/lib/site-packages/requests/sessions.py?line=513'>514</a>\u001b[0m )\n\u001b[1;32m--> <a href='file:///c%3A/Users/nadir/anaconda3/envs/GTAI/lib/site-packages/requests/sessions.py?line=514'>515</a>\u001b[0m prep \u001b[39m=\u001b[39m \u001b[39mself\u001b[39;49m\u001b[39m.\u001b[39;49mprepare_request(req)\n\u001b[0;32m    <a href='file:///c%3A/Users/nadir/anaconda3/envs/GTAI/lib/site-packages/requests/sessions.py?line=516'>517</a>\u001b[0m proxies \u001b[39m=\u001b[39m proxies \u001b[39mor\u001b[39;00m {}\n\u001b[0;32m    <a href='file:///c%3A/Users/nadir/anaconda3/envs/GTAI/lib/site-packages/requests/sessions.py?line=518'>519</a>\u001b[0m settings \u001b[39m=\u001b[39m \u001b[39mself\u001b[39m\u001b[39m.\u001b[39mmerge_environment_settings(\n\u001b[0;32m    <a href='file:///c%3A/Users/nadir/anaconda3/envs/GTAI/lib/site-packages/requests/sessions.py?line=519'>520</a>\u001b[0m     prep\u001b[39m.\u001b[39murl, proxies, stream, verify, cert\n\u001b[0;32m    <a href='file:///c%3A/Users/nadir/anaconda3/envs/GTAI/lib/site-packages/requests/sessions.py?line=520'>521</a>\u001b[0m )\n",
      "File \u001b[1;32mc:\\Users\\nadir\\anaconda3\\envs\\GTAI\\lib\\site-packages\\requests\\sessions.py:443\u001b[0m, in \u001b[0;36mSession.prepare_request\u001b[1;34m(self, request)\u001b[0m\n\u001b[0;32m    <a href='file:///c%3A/Users/nadir/anaconda3/envs/GTAI/lib/site-packages/requests/sessions.py?line=439'>440</a>\u001b[0m     auth \u001b[39m=\u001b[39m get_netrc_auth(request\u001b[39m.\u001b[39murl)\n\u001b[0;32m    <a href='file:///c%3A/Users/nadir/anaconda3/envs/GTAI/lib/site-packages/requests/sessions.py?line=441'>442</a>\u001b[0m p \u001b[39m=\u001b[39m PreparedRequest()\n\u001b[1;32m--> <a href='file:///c%3A/Users/nadir/anaconda3/envs/GTAI/lib/site-packages/requests/sessions.py?line=442'>443</a>\u001b[0m p\u001b[39m.\u001b[39;49mprepare(\n\u001b[0;32m    <a href='file:///c%3A/Users/nadir/anaconda3/envs/GTAI/lib/site-packages/requests/sessions.py?line=443'>444</a>\u001b[0m     method\u001b[39m=\u001b[39;49mrequest\u001b[39m.\u001b[39;49mmethod\u001b[39m.\u001b[39;49mupper(),\n\u001b[0;32m    <a href='file:///c%3A/Users/nadir/anaconda3/envs/GTAI/lib/site-packages/requests/sessions.py?line=444'>445</a>\u001b[0m     url\u001b[39m=\u001b[39;49mrequest\u001b[39m.\u001b[39;49murl,\n\u001b[0;32m    <a href='file:///c%3A/Users/nadir/anaconda3/envs/GTAI/lib/site-packages/requests/sessions.py?line=445'>446</a>\u001b[0m     files\u001b[39m=\u001b[39;49mrequest\u001b[39m.\u001b[39;49mfiles,\n\u001b[0;32m    <a href='file:///c%3A/Users/nadir/anaconda3/envs/GTAI/lib/site-packages/requests/sessions.py?line=446'>447</a>\u001b[0m     data\u001b[39m=\u001b[39;49mrequest\u001b[39m.\u001b[39;49mdata,\n\u001b[0;32m    <a href='file:///c%3A/Users/nadir/anaconda3/envs/GTAI/lib/site-packages/requests/sessions.py?line=447'>448</a>\u001b[0m     json\u001b[39m=\u001b[39;49mrequest\u001b[39m.\u001b[39;49mjson,\n\u001b[0;32m    <a href='file:///c%3A/Users/nadir/anaconda3/envs/GTAI/lib/site-packages/requests/sessions.py?line=448'>449</a>\u001b[0m     headers\u001b[39m=\u001b[39;49mmerge_setting(request\u001b[39m.\u001b[39;49mheaders, \u001b[39mself\u001b[39;49m\u001b[39m.\u001b[39;49mheaders, dict_class\u001b[39m=\u001b[39;49mCaseInsensitiveDict),\n\u001b[0;32m    <a href='file:///c%3A/Users/nadir/anaconda3/envs/GTAI/lib/site-packages/requests/sessions.py?line=449'>450</a>\u001b[0m     params\u001b[39m=\u001b[39;49mmerge_setting(request\u001b[39m.\u001b[39;49mparams, \u001b[39mself\u001b[39;49m\u001b[39m.\u001b[39;49mparams),\n\u001b[0;32m    <a href='file:///c%3A/Users/nadir/anaconda3/envs/GTAI/lib/site-packages/requests/sessions.py?line=450'>451</a>\u001b[0m     auth\u001b[39m=\u001b[39;49mmerge_setting(auth, \u001b[39mself\u001b[39;49m\u001b[39m.\u001b[39;49mauth),\n\u001b[0;32m    <a href='file:///c%3A/Users/nadir/anaconda3/envs/GTAI/lib/site-packages/requests/sessions.py?line=451'>452</a>\u001b[0m     cookies\u001b[39m=\u001b[39;49mmerged_cookies,\n\u001b[0;32m    <a href='file:///c%3A/Users/nadir/anaconda3/envs/GTAI/lib/site-packages/requests/sessions.py?line=452'>453</a>\u001b[0m     hooks\u001b[39m=\u001b[39;49mmerge_hooks(request\u001b[39m.\u001b[39;49mhooks, \u001b[39mself\u001b[39;49m\u001b[39m.\u001b[39;49mhooks),\n\u001b[0;32m    <a href='file:///c%3A/Users/nadir/anaconda3/envs/GTAI/lib/site-packages/requests/sessions.py?line=453'>454</a>\u001b[0m )\n\u001b[0;32m    <a href='file:///c%3A/Users/nadir/anaconda3/envs/GTAI/lib/site-packages/requests/sessions.py?line=454'>455</a>\u001b[0m \u001b[39mreturn\u001b[39;00m p\n",
      "File \u001b[1;32mc:\\Users\\nadir\\anaconda3\\envs\\GTAI\\lib\\site-packages\\requests\\models.py:321\u001b[0m, in \u001b[0;36mPreparedRequest.prepare\u001b[1;34m(self, method, url, headers, files, data, params, auth, cookies, hooks, json)\u001b[0m\n\u001b[0;32m    <a href='file:///c%3A/Users/nadir/anaconda3/envs/GTAI/lib/site-packages/requests/models.py?line=318'>319</a>\u001b[0m \u001b[39mself\u001b[39m\u001b[39m.\u001b[39mprepare_headers(headers)\n\u001b[0;32m    <a href='file:///c%3A/Users/nadir/anaconda3/envs/GTAI/lib/site-packages/requests/models.py?line=319'>320</a>\u001b[0m \u001b[39mself\u001b[39m\u001b[39m.\u001b[39mprepare_cookies(cookies)\n\u001b[1;32m--> <a href='file:///c%3A/Users/nadir/anaconda3/envs/GTAI/lib/site-packages/requests/models.py?line=320'>321</a>\u001b[0m \u001b[39mself\u001b[39;49m\u001b[39m.\u001b[39;49mprepare_body(data, files, json)\n\u001b[0;32m    <a href='file:///c%3A/Users/nadir/anaconda3/envs/GTAI/lib/site-packages/requests/models.py?line=321'>322</a>\u001b[0m \u001b[39mself\u001b[39m\u001b[39m.\u001b[39mprepare_auth(auth, url)\n\u001b[0;32m    <a href='file:///c%3A/Users/nadir/anaconda3/envs/GTAI/lib/site-packages/requests/models.py?line=323'>324</a>\u001b[0m \u001b[39m# Note that prepare_auth must be last to enable authentication schemes\u001b[39;00m\n\u001b[0;32m    <a href='file:///c%3A/Users/nadir/anaconda3/envs/GTAI/lib/site-packages/requests/models.py?line=324'>325</a>\u001b[0m \u001b[39m# such as OAuth to work on a fully prepared request.\u001b[39;00m\n\u001b[0;32m    <a href='file:///c%3A/Users/nadir/anaconda3/envs/GTAI/lib/site-packages/requests/models.py?line=325'>326</a>\u001b[0m \n\u001b[0;32m    <a href='file:///c%3A/Users/nadir/anaconda3/envs/GTAI/lib/site-packages/requests/models.py?line=326'>327</a>\u001b[0m \u001b[39m# This MUST go after prepare_auth. Authenticators could add a hook\u001b[39;00m\n",
      "File \u001b[1;32mc:\\Users\\nadir\\anaconda3\\envs\\GTAI\\lib\\site-packages\\requests\\models.py:514\u001b[0m, in \u001b[0;36mPreparedRequest.prepare_body\u001b[1;34m(self, data, files, json)\u001b[0m\n\u001b[0;32m    <a href='file:///c%3A/Users/nadir/anaconda3/envs/GTAI/lib/site-packages/requests/models.py?line=510'>511</a>\u001b[0m \u001b[39melse\u001b[39;00m:\n\u001b[0;32m    <a href='file:///c%3A/Users/nadir/anaconda3/envs/GTAI/lib/site-packages/requests/models.py?line=511'>512</a>\u001b[0m     \u001b[39m# Multi-part file uploads.\u001b[39;00m\n\u001b[0;32m    <a href='file:///c%3A/Users/nadir/anaconda3/envs/GTAI/lib/site-packages/requests/models.py?line=512'>513</a>\u001b[0m     \u001b[39mif\u001b[39;00m files:\n\u001b[1;32m--> <a href='file:///c%3A/Users/nadir/anaconda3/envs/GTAI/lib/site-packages/requests/models.py?line=513'>514</a>\u001b[0m         (body, content_type) \u001b[39m=\u001b[39m \u001b[39mself\u001b[39;49m\u001b[39m.\u001b[39;49m_encode_files(files, data)\n\u001b[0;32m    <a href='file:///c%3A/Users/nadir/anaconda3/envs/GTAI/lib/site-packages/requests/models.py?line=514'>515</a>\u001b[0m     \u001b[39melse\u001b[39;00m:\n\u001b[0;32m    <a href='file:///c%3A/Users/nadir/anaconda3/envs/GTAI/lib/site-packages/requests/models.py?line=515'>516</a>\u001b[0m         \u001b[39mif\u001b[39;00m data:\n",
      "File \u001b[1;32mc:\\Users\\nadir\\anaconda3\\envs\\GTAI\\lib\\site-packages\\requests\\models.py:171\u001b[0m, in \u001b[0;36mRequestEncodingMixin._encode_files\u001b[1;34m(files, data)\u001b[0m\n\u001b[0;32m    <a href='file:///c%3A/Users/nadir/anaconda3/envs/GTAI/lib/site-packages/requests/models.py?line=167'>168</a>\u001b[0m     rf\u001b[39m.\u001b[39mmake_multipart(content_type\u001b[39m=\u001b[39mft)\n\u001b[0;32m    <a href='file:///c%3A/Users/nadir/anaconda3/envs/GTAI/lib/site-packages/requests/models.py?line=168'>169</a>\u001b[0m     new_fields\u001b[39m.\u001b[39mappend(rf)\n\u001b[1;32m--> <a href='file:///c%3A/Users/nadir/anaconda3/envs/GTAI/lib/site-packages/requests/models.py?line=170'>171</a>\u001b[0m body, content_type \u001b[39m=\u001b[39m encode_multipart_formdata(new_fields)\n\u001b[0;32m    <a href='file:///c%3A/Users/nadir/anaconda3/envs/GTAI/lib/site-packages/requests/models.py?line=172'>173</a>\u001b[0m \u001b[39mreturn\u001b[39;00m body, content_type\n",
      "File \u001b[1;32mc:\\Users\\nadir\\anaconda3\\envs\\GTAI\\lib\\site-packages\\urllib3\\filepost.py:90\u001b[0m, in \u001b[0;36mencode_multipart_formdata\u001b[1;34m(fields, boundary)\u001b[0m\n\u001b[0;32m     <a href='file:///c%3A/Users/nadir/anaconda3/envs/GTAI/lib/site-packages/urllib3/filepost.py?line=87'>88</a>\u001b[0m         writer(body)\u001b[39m.\u001b[39mwrite(data)\n\u001b[0;32m     <a href='file:///c%3A/Users/nadir/anaconda3/envs/GTAI/lib/site-packages/urllib3/filepost.py?line=88'>89</a>\u001b[0m     \u001b[39melse\u001b[39;00m:\n\u001b[1;32m---> <a href='file:///c%3A/Users/nadir/anaconda3/envs/GTAI/lib/site-packages/urllib3/filepost.py?line=89'>90</a>\u001b[0m         body\u001b[39m.\u001b[39;49mwrite(data)\n\u001b[0;32m     <a href='file:///c%3A/Users/nadir/anaconda3/envs/GTAI/lib/site-packages/urllib3/filepost.py?line=91'>92</a>\u001b[0m     body\u001b[39m.\u001b[39mwrite(\u001b[39mb\u001b[39m\u001b[39m\"\u001b[39m\u001b[39m\\r\u001b[39;00m\u001b[39m\\n\u001b[39;00m\u001b[39m\"\u001b[39m)\n\u001b[0;32m     <a href='file:///c%3A/Users/nadir/anaconda3/envs/GTAI/lib/site-packages/urllib3/filepost.py?line=93'>94</a>\u001b[0m body\u001b[39m.\u001b[39mwrite(b(\u001b[39m\"\u001b[39m\u001b[39m--\u001b[39m\u001b[39m%s\u001b[39;00m\u001b[39m--\u001b[39m\u001b[39m\\r\u001b[39;00m\u001b[39m\\n\u001b[39;00m\u001b[39m\"\u001b[39m \u001b[39m%\u001b[39m (boundary)))\n",
      "\u001b[1;31mTypeError\u001b[0m: a bytes-like object is required, not 'Image'"
     ]
    }
   ],
   "source": [
    "import requests\n",
    "import numpy as np\n",
    "from PIL import Image, ImageOps\n",
    "\n",
    "image = Image.open(\"crap.bmp\")\n",
    "gray_image = ImageOps.grayscale(image)\n",
    "# pix_val = list(gray_image.getdata())\n",
    "pix_val = gray_image\n",
    "response = requests.post(\n",
    "    'http://localhost:8080/api/v1/gpu/vram/raw?x=120&y=150&width=420&height=420', files=dict(pixels=pix_val))\n"
   ]
  },
  {
   "cell_type": "code",
   "execution_count": null,
   "metadata": {},
   "outputs": [],
   "source": []
  }
 ],
 "metadata": {
  "interpreter": {
   "hash": "6aef3a745e1466696f27a5a5f71385f9214d0aa2f1ae3808408da853c63885ad"
  },
  "kernelspec": {
   "display_name": "Python 3.8.13 ('GTAI')",
   "language": "python",
   "name": "python3"
  },
  "language_info": {
   "codemirror_mode": {
    "name": "ipython",
    "version": 3
   },
   "file_extension": ".py",
   "mimetype": "text/x-python",
   "name": "python",
   "nbconvert_exporter": "python",
   "pygments_lexer": "ipython3",
   "version": "3.8.13"
  },
  "orig_nbformat": 4
 },
 "nbformat": 4,
 "nbformat_minor": 2
}

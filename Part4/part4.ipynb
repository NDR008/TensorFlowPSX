{
 "cells": [
  {
   "cell_type": "code",
   "execution_count": 2,
   "metadata": {},
   "outputs": [
    {
     "name": "stdout",
     "output_type": "stream",
     "text": [
      "position 1\n",
      "position 2\n",
      "26 84 565 486\n"
     ]
    }
   ],
   "source": [
    "# just to find screen limits\n",
    "screenXY = []\n",
    "\n",
    "import pyautogui as py\n",
    "import time\n",
    "for i in range(0, 2):\n",
    "    print(\"position\", i+1)\n",
    "    time.sleep(3)\n",
    "    screenXY.append(py.position())\n",
    "x1,y1 = screenXY[0]\n",
    "x2,y2 = screenXY[1]\n",
    "print(x1,y1,x2,y2)"
   ]
  },
  {
   "cell_type": "code",
   "execution_count": 2,
   "metadata": {},
   "outputs": [],
   "source": [
    "x1=25\n",
    "y1=84\n",
    "x2=565 \n",
    "y2=486"
   ]
  },
  {
   "cell_type": "code",
   "execution_count": 3,
   "metadata": {},
   "outputs": [],
   "source": [
    "import numpy as np\n",
    "import d3dshot\n",
    "import cv2\n",
    "from time import time\n",
    "\n",
    "\n",
    "def screen_record_d3dshot_play():\n",
    "    screen_buffer = d3dshot.create(\n",
    "        capture_output=\"numpy\")\n",
    "    screen_buffer.display = screen_buffer.displays[0]\n",
    "    start_time = time()\n",
    "    while (True):\n",
    "        printscreen = screen_buffer.screenshot(region=(x1, y1, x2, y2))\n",
    "        grey = cv2.GaussianBlur(printscreen, (5, 5), 0)\n",
    "        canny = cv2.Canny(grey, threshold1=50, threshold2=100)\n",
    "        enhanced = cv2.equalizeHist(canny)\n",
    "        cv2.imshow('window', cv2.cvtColor(enhanced, cv2.COLOR_BGR2RGB))\n",
    "        if cv2.waitKey(1) & 0xFF == ord('q'):\n",
    "            cv2.destroyAllWindows()\n",
    "            break\n",
    "    end_time = time()\n",
    "    cv2.destroyAllWindows()\n",
    "    screen_buffer.stop()\n",
    "    return (end_time - start_time)\n"
   ]
  },
  {
   "cell_type": "code",
   "execution_count": 4,
   "metadata": {},
   "outputs": [
    {
     "data": {
      "text/plain": [
       "18.47872018814087"
      ]
     },
     "execution_count": 4,
     "metadata": {},
     "output_type": "execute_result"
    }
   ],
   "source": [
    "screen_record_d3dshot_play()"
   ]
  },
  {
   "cell_type": "code",
   "execution_count": 2,
   "metadata": {},
   "outputs": [],
   "source": [
    "x1=25\n",
    "y1=84\n",
    "x2=565 \n",
    "y2=486"
   ]
  },
  {
   "cell_type": "code",
   "execution_count": 9,
   "metadata": {},
   "outputs": [],
   "source": [
    "import numpy as np\n",
    "import d3dshot\n",
    "import cv2\n",
    "\n",
    "\n",
    "def gray_equal_blur_canny():\n",
    "    screen_buffer = d3dshot.create(\n",
    "        capture_output=\"numpy\")\n",
    "    screen_buffer.display = screen_buffer.displays[0]\n",
    "    while (True):\n",
    "        printscreen = screen_buffer.screenshot(region=(x1, y1, x2, y2))\n",
    "        grey = cv2.cvtColor(printscreen, cv2.COLOR_BGR2GRAY)\n",
    "        enhanced = cv2.equalizeHist(grey)\n",
    "        blur = cv2.GaussianBlur(enhanced, (5, 5), 0)\n",
    "        canny = cv2.Canny(blur, threshold1=50, threshold2=100)\n",
    "        cv2.imshow('window', cv2.cvtColor(canny, cv2.COLOR_BGR2RGB))\n",
    "        if cv2.waitKey(1) & 0xFF == ord('q'):\n",
    "            cv2.destroyAllWindows()\n",
    "            break\n",
    "    cv2.destroyAllWindows()\n",
    "    screen_buffer.stop()\n",
    "\n",
    "\n",
    "def gray_blur_canny():\n",
    "    screen_buffer = d3dshot.create(\n",
    "        capture_output=\"numpy\")\n",
    "    screen_buffer.display = screen_buffer.displays[0]\n",
    "    while (True):\n",
    "        printscreen = screen_buffer.screenshot(region=(x1, y1, x2, y2))\n",
    "        grey = cv2.cvtColor(printscreen, cv2.COLOR_BGR2GRAY)\n",
    "        blur = cv2.GaussianBlur(grey, (5, 5), 0)\n",
    "        canny = cv2.Canny(blur, threshold1=50, threshold2=100)\n",
    "        cv2.imshow('window', cv2.cvtColor(canny, cv2.COLOR_BGR2RGB))\n",
    "        if cv2.waitKey(1) & 0xFF == ord('q'):\n",
    "            cv2.destroyAllWindows()\n",
    "            break\n",
    "    cv2.destroyAllWindows()\n",
    "    screen_buffer.stop()\n",
    "\n",
    "\n",
    "def gray_equ_canny():\n",
    "    screen_buffer = d3dshot.create(\n",
    "        capture_output=\"numpy\")\n",
    "    screen_buffer.display = screen_buffer.displays[0]\n",
    "    while (True):\n",
    "        printscreen = screen_buffer.screenshot(region=(x1, y1, x2, y2))\n",
    "        grey = cv2.cvtColor(printscreen, cv2.COLOR_BGR2GRAY)\n",
    "        enhanced = cv2.equalizeHist(grey)\n",
    "        canny = cv2.Canny(enhanced, threshold1=50, threshold2=100)\n",
    "        cv2.imshow('window', cv2.cvtColor(canny, cv2.COLOR_BGR2RGB))\n",
    "        if cv2.waitKey(1) & 0xFF == ord('q'):\n",
    "            cv2.destroyAllWindows()\n",
    "            break\n",
    "    cv2.destroyAllWindows()\n",
    "    screen_buffer.stop()\n",
    "\n",
    "\n",
    "def gray_canny():\n",
    "    screen_buffer = d3dshot.create(\n",
    "        capture_output=\"numpy\")\n",
    "    screen_buffer.display = screen_buffer.displays[0]\n",
    "    while (True):\n",
    "        printscreen = screen_buffer.screenshot(region=(x1, y1, x2, y2))\n",
    "        grey = cv2.cvtColor(printscreen, cv2.COLOR_BGR2GRAY)\n",
    "        canny = cv2.Canny(grey, threshold1=50, threshold2=100)\n",
    "        cv2.imshow('window', cv2.cvtColor(canny, cv2.COLOR_BGR2RGB))\n",
    "        if cv2.waitKey(1) & 0xFF == ord('q'):\n",
    "            cv2.destroyAllWindows()\n",
    "            break\n",
    "    cv2.destroyAllWindows()\n",
    "    screen_buffer.stop()\n",
    "    \n",
    "    \n",
    "def gray_blur_equ_canny():\n",
    "    screen_buffer = d3dshot.create(\n",
    "        capture_output=\"numpy\")\n",
    "    screen_buffer.display = screen_buffer.displays[0]\n",
    "    while (True):\n",
    "        printscreen = screen_buffer.screenshot(region=(x1, y1, x2, y2))\n",
    "        grey = cv2.cvtColor(printscreen, cv2.COLOR_BGR2GRAY)\n",
    "        blur = cv2.GaussianBlur(grey, (3, 3), 0)\n",
    "        enhanced = cv2.equalizeHist(blur)\n",
    "        canny = cv2.Canny(enhanced, threshold1=50, threshold2=100)\n",
    "        cv2.imshow('window', cv2.cvtColor(canny, cv2.COLOR_BGR2RGB))\n",
    "        if cv2.waitKey(1) & 0xFF == ord('q'):\n",
    "            cv2.destroyAllWindows()\n",
    "            break\n",
    "    cv2.destroyAllWindows()\n",
    "    screen_buffer.stop()\n"
   ]
  },
  {
   "cell_type": "code",
   "execution_count": null,
   "metadata": {},
   "outputs": [],
   "source": [
    "print(\"gray_equal_blur_canny()\")\n",
    "gray_blur_canny()\n",
    "\n",
    "print(\"gray_equ_canny()\")\n",
    "gray_equ_canny()\n",
    "\n",
    "print(\"gray_canny())\n",
    "gray_canny()\n",
    "\n",
    "print(\"gray_blur_equ_canny\")\n",
    "gray_blur_equ_canny()\n"
   ]
  },
  {
   "cell_type": "code",
   "execution_count": 24,
   "metadata": {},
   "outputs": [
    {
     "name": "stdout",
     "output_type": "stream",
     "text": [
      "Only 1 instance of D3DShot is allowed per process! Returning the existing instance...\n"
     ]
    }
   ],
   "source": [
    "import numpy as np\n",
    "import d3dshot\n",
    "import cv2\n",
    "\n",
    "def gray_canny():\n",
    "    screen_buffer = d3dshot.create(\n",
    "        capture_output=\"numpy\")\n",
    "    screen_buffer.display = screen_buffer.displays[0]\n",
    "    while (True):\n",
    "        printscreen = screen_buffer.screenshot(region=(x1, y1, x2, y2))\n",
    "        grey = cv2.cvtColor(printscreen, cv2.COLOR_BGR2GRAY)\n",
    "        canny = cv2.Canny(grey, threshold1=50, threshold2=100)\n",
    "        cv2.imshow('grey', cv2.cvtColor(grey, cv2.COLOR_BGR2RGB))\n",
    "        cv2.imshow('canny', cv2.cvtColor(canny, cv2.COLOR_BGR2RGB))\n",
    "        if cv2.waitKey(1) & 0xFF == ord('q'):\n",
    "            cv2.destroyAllWindows()\n",
    "            break\n",
    "    cv2.destroyAllWindows()\n",
    "    screen_buffer.stop()\n",
    "    \n",
    "gray_canny()\n"
   ]
  },
  {
   "cell_type": "code",
   "execution_count": 26,
   "metadata": {},
   "outputs": [
    {
     "ename": "KeyboardInterrupt",
     "evalue": "",
     "output_type": "error",
     "traceback": [
      "\u001b[1;31m---------------------------------------------------------------------------\u001b[0m",
      "\u001b[1;31mKeyError\u001b[0m                                  Traceback (most recent call last)",
      "File \u001b[1;32m_pydevd_bundle/pydevd_cython.pyx:1697\u001b[0m, in \u001b[0;36m_pydevd_bundle.pydevd_cython.ThreadTracer.__call__\u001b[1;34m()\u001b[0m\n",
      "\u001b[1;31mKeyError\u001b[0m: 'c:\\\\Users\\\\nadir\\\\anaconda3\\\\envs\\\\GTAI\\\\lib\\\\site-packages\\\\d3dshot\\\\__init__.py'",
      "\nDuring handling of the above exception, another exception occurred:\n",
      "\u001b[1;31mKeyError\u001b[0m                                  Traceback (most recent call last)",
      "File \u001b[1;32mc:\\Users\\nadir\\anaconda3\\envs\\GTAI\\lib\\site-packages\\debugpy\\_vendored\\pydevd\\pydevd_file_utils.py:851\u001b[0m, in \u001b[0;36mget_abs_path_real_path_and_base_from_frame\u001b[1;34m(frame, NORM_PATHS_AND_BASE_CONTAINER)\u001b[0m\n\u001b[0;32m    <a href='file:///c%3A/Users/nadir/anaconda3/envs/GTAI/lib/site-packages/debugpy/_vendored/pydevd/pydevd_file_utils.py?line=849'>850</a>\u001b[0m \u001b[39mtry\u001b[39;00m:\n\u001b[1;32m--> <a href='file:///c%3A/Users/nadir/anaconda3/envs/GTAI/lib/site-packages/debugpy/_vendored/pydevd/pydevd_file_utils.py?line=850'>851</a>\u001b[0m     \u001b[39mreturn\u001b[39;00m NORM_PATHS_AND_BASE_CONTAINER[frame\u001b[39m.\u001b[39;49mf_code\u001b[39m.\u001b[39;49mco_filename]\n\u001b[0;32m    <a href='file:///c%3A/Users/nadir/anaconda3/envs/GTAI/lib/site-packages/debugpy/_vendored/pydevd/pydevd_file_utils.py?line=851'>852</a>\u001b[0m \u001b[39mexcept\u001b[39;00m:\n\u001b[0;32m    <a href='file:///c%3A/Users/nadir/anaconda3/envs/GTAI/lib/site-packages/debugpy/_vendored/pydevd/pydevd_file_utils.py?line=852'>853</a>\u001b[0m     \u001b[39m# This one is just internal (so, does not need any kind of client-server translation)\u001b[39;00m\n",
      "\u001b[1;31mKeyError\u001b[0m: 'c:\\\\Users\\\\nadir\\\\anaconda3\\\\envs\\\\GTAI\\\\lib\\\\site-packages\\\\d3dshot\\\\__init__.py'",
      "\nDuring handling of the above exception, another exception occurred:\n",
      "\u001b[1;31mKeyError\u001b[0m                                  Traceback (most recent call last)",
      "File \u001b[1;32mc:\\Users\\nadir\\anaconda3\\envs\\GTAI\\lib\\site-packages\\debugpy\\_vendored\\pydevd\\pydevd_file_utils.py:815\u001b[0m, in \u001b[0;36mget_abs_path_real_path_and_base_from_file\u001b[1;34m(filename, NORM_PATHS_AND_BASE_CONTAINER)\u001b[0m\n\u001b[0;32m    <a href='file:///c%3A/Users/nadir/anaconda3/envs/GTAI/lib/site-packages/debugpy/_vendored/pydevd/pydevd_file_utils.py?line=813'>814</a>\u001b[0m \u001b[39mtry\u001b[39;00m:\n\u001b[1;32m--> <a href='file:///c%3A/Users/nadir/anaconda3/envs/GTAI/lib/site-packages/debugpy/_vendored/pydevd/pydevd_file_utils.py?line=814'>815</a>\u001b[0m     \u001b[39mreturn\u001b[39;00m NORM_PATHS_AND_BASE_CONTAINER[filename]\n\u001b[0;32m    <a href='file:///c%3A/Users/nadir/anaconda3/envs/GTAI/lib/site-packages/debugpy/_vendored/pydevd/pydevd_file_utils.py?line=815'>816</a>\u001b[0m \u001b[39mexcept\u001b[39;00m:\n",
      "\u001b[1;31mKeyError\u001b[0m: 'c:\\\\Users\\\\nadir\\\\anaconda3\\\\envs\\\\GTAI\\\\lib\\\\site-packages\\\\d3dshot\\\\__init__.py'",
      "\nDuring handling of the above exception, another exception occurred:\n",
      "\u001b[1;31mKeyError\u001b[0m                                  Traceback (most recent call last)",
      "File \u001b[1;32mc:\\Users\\nadir\\anaconda3\\envs\\GTAI\\lib\\site-packages\\debugpy\\_vendored\\pydevd\\pydevd_file_utils.py:380\u001b[0m, in \u001b[0;36m_abs_and_canonical_path\u001b[1;34m(filename, NORM_PATHS_CONTAINER)\u001b[0m\n\u001b[0;32m    <a href='file:///c%3A/Users/nadir/anaconda3/envs/GTAI/lib/site-packages/debugpy/_vendored/pydevd/pydevd_file_utils.py?line=378'>379</a>\u001b[0m \u001b[39mtry\u001b[39;00m:\n\u001b[1;32m--> <a href='file:///c%3A/Users/nadir/anaconda3/envs/GTAI/lib/site-packages/debugpy/_vendored/pydevd/pydevd_file_utils.py?line=379'>380</a>\u001b[0m     \u001b[39mreturn\u001b[39;00m NORM_PATHS_CONTAINER[filename]\n\u001b[0;32m    <a href='file:///c%3A/Users/nadir/anaconda3/envs/GTAI/lib/site-packages/debugpy/_vendored/pydevd/pydevd_file_utils.py?line=380'>381</a>\u001b[0m \u001b[39mexcept\u001b[39;00m:\n",
      "\u001b[1;31mKeyError\u001b[0m: 'c:\\\\Users\\\\nadir\\\\anaconda3\\\\envs\\\\GTAI\\\\lib\\\\site-packages\\\\d3dshot\\\\__init__.py'",
      "\nDuring handling of the above exception, another exception occurred:\n",
      "\u001b[1;31mKeyboardInterrupt\u001b[0m                         Traceback (most recent call last)",
      "\u001b[1;32mj:\\git\\TensorFlowPSX\\Part4\\part4.ipynb Cell 8'\u001b[0m in \u001b[0;36m<cell line: 36>\u001b[1;34m()\u001b[0m\n\u001b[0;32m     <a href='vscode-notebook-cell:/j%3A/git/TensorFlowPSX/Part4/part4.ipynb#ch0000014?line=31'>32</a>\u001b[0m     cv2\u001b[39m.\u001b[39mdestroyAllWindows()\n\u001b[0;32m     <a href='vscode-notebook-cell:/j%3A/git/TensorFlowPSX/Part4/part4.ipynb#ch0000014?line=32'>33</a>\u001b[0m     screen_buffer\u001b[39m.\u001b[39mstop()\n\u001b[1;32m---> <a href='vscode-notebook-cell:/j%3A/git/TensorFlowPSX/Part4/part4.ipynb#ch0000014?line=35'>36</a>\u001b[0m trial_canny()\n",
      "\u001b[1;32mj:\\git\\TensorFlowPSX\\Part4\\part4.ipynb Cell 8'\u001b[0m in \u001b[0;36mtrial_canny\u001b[1;34m()\u001b[0m\n\u001b[0;32m      <a href='vscode-notebook-cell:/j%3A/git/TensorFlowPSX/Part4/part4.ipynb#ch0000014?line=5'>6</a>\u001b[0m \u001b[39mdef\u001b[39;00m \u001b[39mtrial_canny\u001b[39m():\n\u001b[1;32m----> <a href='vscode-notebook-cell:/j%3A/git/TensorFlowPSX/Part4/part4.ipynb#ch0000014?line=6'>7</a>\u001b[0m     screen_buffer \u001b[39m=\u001b[39m d3dshot\u001b[39m.\u001b[39;49mcreate(\n\u001b[0;32m      <a href='vscode-notebook-cell:/j%3A/git/TensorFlowPSX/Part4/part4.ipynb#ch0000014?line=7'>8</a>\u001b[0m         capture_output\u001b[39m=\u001b[39;49m\u001b[39m\"\u001b[39;49m\u001b[39mnumpy\u001b[39;49m\u001b[39m\"\u001b[39;49m)\n\u001b[0;32m      <a href='vscode-notebook-cell:/j%3A/git/TensorFlowPSX/Part4/part4.ipynb#ch0000014?line=8'>9</a>\u001b[0m     screen_buffer\u001b[39m.\u001b[39mdisplay \u001b[39m=\u001b[39m screen_buffer\u001b[39m.\u001b[39mdisplays[\u001b[39m0\u001b[39m]\n\u001b[0;32m     <a href='vscode-notebook-cell:/j%3A/git/TensorFlowPSX/Part4/part4.ipynb#ch0000014?line=9'>10</a>\u001b[0m     \u001b[39mwhile\u001b[39;00m (\u001b[39mTrue\u001b[39;00m):\n",
      "File \u001b[1;32mc:\\Users\\nadir\\anaconda3\\envs\\GTAI\\lib\\site-packages\\d3dshot\\__init__.py:64\u001b[0m, in \u001b[0;36mcreate\u001b[1;34m(capture_output, frame_buffer_size)\u001b[0m\n\u001b[0;32m     <a href='file:///c%3A/Users/nadir/anaconda3/envs/GTAI/lib/site-packages/d3dshot/__init__.py?line=58'>59</a>\u001b[0m         available_capture_outputs\u001b[39m.\u001b[39mappend(CaptureOutputs\u001b[39m.\u001b[39mPYTORCH_FLOAT_GPU)\n\u001b[0;32m     <a href='file:///c%3A/Users/nadir/anaconda3/envs/GTAI/lib/site-packages/d3dshot/__init__.py?line=60'>61</a>\u001b[0m     \u001b[39mreturn\u001b[39;00m available_capture_outputs\n\u001b[1;32m---> <a href='file:///c%3A/Users/nadir/anaconda3/envs/GTAI/lib/site-packages/d3dshot/__init__.py?line=63'>64</a>\u001b[0m \u001b[39mdef\u001b[39;00m \u001b[39mcreate\u001b[39m(capture_output\u001b[39m=\u001b[39m\u001b[39m\"\u001b[39m\u001b[39mpil\u001b[39m\u001b[39m\"\u001b[39m, frame_buffer_size\u001b[39m=\u001b[39m\u001b[39m60\u001b[39m):\n\u001b[0;32m     <a href='file:///c%3A/Users/nadir/anaconda3/envs/GTAI/lib/site-packages/d3dshot/__init__.py?line=64'>65</a>\u001b[0m     capture_output \u001b[39m=\u001b[39m _validate_capture_output(capture_output)\n\u001b[0;32m     <a href='file:///c%3A/Users/nadir/anaconda3/envs/GTAI/lib/site-packages/d3dshot/__init__.py?line=65'>66</a>\u001b[0m     frame_buffer_size \u001b[39m=\u001b[39m _validate_frame_buffer_size(frame_buffer_size)\n",
      "File \u001b[1;32m_pydevd_bundle/pydevd_cython.pyx:1366\u001b[0m, in \u001b[0;36m_pydevd_bundle.pydevd_cython.SafeCallWrapper.__call__\u001b[1;34m()\u001b[0m\n",
      "File \u001b[1;32m_pydevd_bundle/pydevd_cython.pyx:1699\u001b[0m, in \u001b[0;36m_pydevd_bundle.pydevd_cython.ThreadTracer.__call__\u001b[1;34m()\u001b[0m\n",
      "File \u001b[1;32mc:\\Users\\nadir\\anaconda3\\envs\\GTAI\\lib\\site-packages\\debugpy\\_vendored\\pydevd\\pydevd_file_utils.py:869\u001b[0m, in \u001b[0;36mget_abs_path_real_path_and_base_from_frame\u001b[1;34m(frame, NORM_PATHS_AND_BASE_CONTAINER)\u001b[0m\n\u001b[0;32m    <a href='file:///c%3A/Users/nadir/anaconda3/envs/GTAI/lib/site-packages/debugpy/_vendored/pydevd/pydevd_file_utils.py?line=865'>866</a>\u001b[0m     i \u001b[39m=\u001b[39m \u001b[39mmax\u001b[39m(f\u001b[39m.\u001b[39mrfind(\u001b[39m'\u001b[39m\u001b[39m/\u001b[39m\u001b[39m'\u001b[39m), f\u001b[39m.\u001b[39mrfind(\u001b[39m'\u001b[39m\u001b[39m\\\\\u001b[39;00m\u001b[39m'\u001b[39m))\n\u001b[0;32m    <a href='file:///c%3A/Users/nadir/anaconda3/envs/GTAI/lib/site-packages/debugpy/_vendored/pydevd/pydevd_file_utils.py?line=866'>867</a>\u001b[0m     \u001b[39mreturn\u001b[39;00m f, f, f[i \u001b[39m+\u001b[39m \u001b[39m1\u001b[39m:]\n\u001b[1;32m--> <a href='file:///c%3A/Users/nadir/anaconda3/envs/GTAI/lib/site-packages/debugpy/_vendored/pydevd/pydevd_file_utils.py?line=868'>869</a>\u001b[0m ret \u001b[39m=\u001b[39m get_abs_path_real_path_and_base_from_file(f)\n\u001b[0;32m    <a href='file:///c%3A/Users/nadir/anaconda3/envs/GTAI/lib/site-packages/debugpy/_vendored/pydevd/pydevd_file_utils.py?line=869'>870</a>\u001b[0m \u001b[39m# Also cache based on the frame.f_code.co_filename (if we had it inside build/bdist it can make a difference).\u001b[39;00m\n\u001b[0;32m    <a href='file:///c%3A/Users/nadir/anaconda3/envs/GTAI/lib/site-packages/debugpy/_vendored/pydevd/pydevd_file_utils.py?line=870'>871</a>\u001b[0m NORM_PATHS_AND_BASE_CONTAINER[frame\u001b[39m.\u001b[39mf_code\u001b[39m.\u001b[39mco_filename] \u001b[39m=\u001b[39m ret\n",
      "File \u001b[1;32mc:\\Users\\nadir\\anaconda3\\envs\\GTAI\\lib\\site-packages\\debugpy\\_vendored\\pydevd\\pydevd_file_utils.py:836\u001b[0m, in \u001b[0;36mget_abs_path_real_path_and_base_from_file\u001b[1;34m(filename, NORM_PATHS_AND_BASE_CONTAINER)\u001b[0m\n\u001b[0;32m    <a href='file:///c%3A/Users/nadir/anaconda3/envs/GTAI/lib/site-packages/debugpy/_vendored/pydevd/pydevd_file_utils.py?line=832'>833</a>\u001b[0m     \u001b[39melif\u001b[39;00m f\u001b[39m.\u001b[39mendswith(\u001b[39m'\u001b[39m\u001b[39m$py.class\u001b[39m\u001b[39m'\u001b[39m):\n\u001b[0;32m    <a href='file:///c%3A/Users/nadir/anaconda3/envs/GTAI/lib/site-packages/debugpy/_vendored/pydevd/pydevd_file_utils.py?line=833'>834</a>\u001b[0m         f \u001b[39m=\u001b[39m f[:\u001b[39m-\u001b[39m\u001b[39mlen\u001b[39m(\u001b[39m'\u001b[39m\u001b[39m$py.class\u001b[39m\u001b[39m'\u001b[39m)] \u001b[39m+\u001b[39m \u001b[39m'\u001b[39m\u001b[39m.py\u001b[39m\u001b[39m'\u001b[39m\n\u001b[1;32m--> <a href='file:///c%3A/Users/nadir/anaconda3/envs/GTAI/lib/site-packages/debugpy/_vendored/pydevd/pydevd_file_utils.py?line=835'>836</a>\u001b[0m abs_path, canonical_normalized_filename \u001b[39m=\u001b[39m _abs_and_canonical_path(f)\n\u001b[0;32m    <a href='file:///c%3A/Users/nadir/anaconda3/envs/GTAI/lib/site-packages/debugpy/_vendored/pydevd/pydevd_file_utils.py?line=837'>838</a>\u001b[0m \u001b[39mtry\u001b[39;00m:\n\u001b[0;32m    <a href='file:///c%3A/Users/nadir/anaconda3/envs/GTAI/lib/site-packages/debugpy/_vendored/pydevd/pydevd_file_utils.py?line=838'>839</a>\u001b[0m     base \u001b[39m=\u001b[39m os_path_basename(canonical_normalized_filename)\n",
      "File \u001b[1;32mc:\\Users\\nadir\\anaconda3\\envs\\GTAI\\lib\\site-packages\\debugpy\\_vendored\\pydevd\\pydevd_file_utils.py:403\u001b[0m, in \u001b[0;36m_abs_and_canonical_path\u001b[1;34m(filename, NORM_PATHS_CONTAINER)\u001b[0m\n\u001b[0;32m    <a href='file:///c%3A/Users/nadir/anaconda3/envs/GTAI/lib/site-packages/debugpy/_vendored/pydevd/pydevd_file_utils.py?line=399'>400</a>\u001b[0m abs_path \u001b[39m=\u001b[39m _apply_func_and_normalize_case(filename, os_path_abspath, isabs, normalize)\n\u001b[0;32m    <a href='file:///c%3A/Users/nadir/anaconda3/envs/GTAI/lib/site-packages/debugpy/_vendored/pydevd/pydevd_file_utils.py?line=401'>402</a>\u001b[0m normalize \u001b[39m=\u001b[39m \u001b[39mTrue\u001b[39;00m\n\u001b[1;32m--> <a href='file:///c%3A/Users/nadir/anaconda3/envs/GTAI/lib/site-packages/debugpy/_vendored/pydevd/pydevd_file_utils.py?line=402'>403</a>\u001b[0m real_path \u001b[39m=\u001b[39m _apply_func_and_normalize_case(filename, os_path_real_path, isabs, normalize)\n\u001b[0;32m    <a href='file:///c%3A/Users/nadir/anaconda3/envs/GTAI/lib/site-packages/debugpy/_vendored/pydevd/pydevd_file_utils.py?line=404'>405</a>\u001b[0m \u001b[39m# cache it for fast access later\u001b[39;00m\n\u001b[0;32m    <a href='file:///c%3A/Users/nadir/anaconda3/envs/GTAI/lib/site-packages/debugpy/_vendored/pydevd/pydevd_file_utils.py?line=405'>406</a>\u001b[0m NORM_PATHS_CONTAINER[filename] \u001b[39m=\u001b[39m abs_path, real_path\n",
      "File \u001b[1;32mc:\\Users\\nadir\\anaconda3\\envs\\GTAI\\lib\\site-packages\\debugpy\\_vendored\\pydevd\\pydevd_file_utils.py:430\u001b[0m, in \u001b[0;36m_apply_func_and_normalize_case\u001b[1;34m(filename, func, isabs, normalize_case, os_path_exists, join)\u001b[0m\n\u001b[0;32m    <a href='file:///c%3A/Users/nadir/anaconda3/envs/GTAI/lib/site-packages/debugpy/_vendored/pydevd/pydevd_file_utils.py?line=424'>425</a>\u001b[0m \u001b[39mif\u001b[39;00m filename\u001b[39m.\u001b[39mstartswith(\u001b[39m'\u001b[39m\u001b[39m<\u001b[39m\u001b[39m'\u001b[39m):\n\u001b[0;32m    <a href='file:///c%3A/Users/nadir/anaconda3/envs/GTAI/lib/site-packages/debugpy/_vendored/pydevd/pydevd_file_utils.py?line=425'>426</a>\u001b[0m     \u001b[39m# Not really a file, rather a synthetic name like <string> or <ipython-...>;\u001b[39;00m\n\u001b[0;32m    <a href='file:///c%3A/Users/nadir/anaconda3/envs/GTAI/lib/site-packages/debugpy/_vendored/pydevd/pydevd_file_utils.py?line=426'>427</a>\u001b[0m     \u001b[39m# shouldn't be normalized.\u001b[39;00m\n\u001b[0;32m    <a href='file:///c%3A/Users/nadir/anaconda3/envs/GTAI/lib/site-packages/debugpy/_vendored/pydevd/pydevd_file_utils.py?line=427'>428</a>\u001b[0m     \u001b[39mreturn\u001b[39;00m filename\n\u001b[1;32m--> <a href='file:///c%3A/Users/nadir/anaconda3/envs/GTAI/lib/site-packages/debugpy/_vendored/pydevd/pydevd_file_utils.py?line=429'>430</a>\u001b[0m r \u001b[39m=\u001b[39m func(filename)\n\u001b[0;32m    <a href='file:///c%3A/Users/nadir/anaconda3/envs/GTAI/lib/site-packages/debugpy/_vendored/pydevd/pydevd_file_utils.py?line=431'>432</a>\u001b[0m \u001b[39mif\u001b[39;00m \u001b[39mnot\u001b[39;00m isabs:\n\u001b[0;32m    <a href='file:///c%3A/Users/nadir/anaconda3/envs/GTAI/lib/site-packages/debugpy/_vendored/pydevd/pydevd_file_utils.py?line=432'>433</a>\u001b[0m     \u001b[39mif\u001b[39;00m \u001b[39mnot\u001b[39;00m os_path_exists(r):\n",
      "File \u001b[1;32mc:\\Users\\nadir\\anaconda3\\envs\\GTAI\\lib\\ntpath.py:647\u001b[0m, in \u001b[0;36mrealpath\u001b[1;34m(path)\u001b[0m\n\u001b[0;32m    <a href='file:///c%3A/Users/nadir/anaconda3/envs/GTAI/lib/ntpath.py?line=644'>645</a>\u001b[0m     path \u001b[39m=\u001b[39m join(cwd, path)\n\u001b[0;32m    <a href='file:///c%3A/Users/nadir/anaconda3/envs/GTAI/lib/ntpath.py?line=645'>646</a>\u001b[0m \u001b[39mtry\u001b[39;00m:\n\u001b[1;32m--> <a href='file:///c%3A/Users/nadir/anaconda3/envs/GTAI/lib/ntpath.py?line=646'>647</a>\u001b[0m     path \u001b[39m=\u001b[39m _getfinalpathname(path)\n\u001b[0;32m    <a href='file:///c%3A/Users/nadir/anaconda3/envs/GTAI/lib/ntpath.py?line=647'>648</a>\u001b[0m     initial_winerror \u001b[39m=\u001b[39m \u001b[39m0\u001b[39m\n\u001b[0;32m    <a href='file:///c%3A/Users/nadir/anaconda3/envs/GTAI/lib/ntpath.py?line=648'>649</a>\u001b[0m \u001b[39mexcept\u001b[39;00m \u001b[39mOSError\u001b[39;00m \u001b[39mas\u001b[39;00m ex:\n",
      "\u001b[1;31mKeyboardInterrupt\u001b[0m: "
     ]
    }
   ],
   "source": [
    "import numpy as np\n",
    "import d3dshot\n",
    "import cv2\n",
    "\n",
    "\n",
    "def trial_canny():\n",
    "    screen_buffer = d3dshot.create(\n",
    "        capture_output=\"numpy\")\n",
    "    screen_buffer.display = screen_buffer.displays[0]\n",
    "    while (True):\n",
    "        printscreen = screen_buffer.screenshot(region=(x1, y1, x2, y2))\n",
    "        hsv = cv2.cvtColor(printscreen, cv2.COLOR_BGR2HSV)\n",
    "        \n",
    "        # Threshold of blue in HSV space\n",
    "        lower_blue = np.array([60, 35, 140])\n",
    "        upper_blue = np.array([180, 255, 255])\n",
    "        mask = cv2.inRange(hsv, lower_blue, upper_blue)\n",
    "        \n",
    "        grey = cv2.cvtColor(printscreen, cv2.COLOR_BGR2GRAY)\n",
    "        canny = cv2.Canny(grey, threshold1=50, threshold2=100)\n",
    "        \n",
    "        result = cv2.bitwise_and(printscreen, printscreen, mask=mask)\n",
    "        \n",
    "        cv2.imshow('grey', cv2.cvtColor(grey, cv2.COLOR_BGR2RGB))\n",
    "        cv2.imshow('canny', cv2.cvtColor(canny, cv2.COLOR_BGR2RGB))\n",
    "        cv2.imshow('mask', cv2.cvtColor(mask, cv2.COLOR_BGR2RGB))\n",
    "        cv2.imshow('blue', cv2.cvtColor(result, cv2.COLOR_BGR2RGB))\n",
    "        \n",
    "        if cv2.waitKey(1) & 0xFF == ord('q'):\n",
    "            cv2.destroyAllWindows()\n",
    "            break\n",
    "    cv2.destroyAllWindows()\n",
    "    screen_buffer.stop()\n",
    "\n",
    "\n",
    "trial_canny()\n",
    "\n"
   ]
  },
  {
   "cell_type": "code",
   "execution_count": null,
   "metadata": {},
   "outputs": [],
   "source": []
  }
 ],
 "metadata": {
  "interpreter": {
   "hash": "6aef3a745e1466696f27a5a5f71385f9214d0aa2f1ae3808408da853c63885ad"
  },
  "kernelspec": {
   "display_name": "Python 3.8.13 ('GTAI')",
   "language": "python",
   "name": "python3"
  },
  "language_info": {
   "codemirror_mode": {
    "name": "ipython",
    "version": 3
   },
   "file_extension": ".py",
   "mimetype": "text/x-python",
   "name": "python",
   "nbconvert_exporter": "python",
   "pygments_lexer": "ipython3",
   "version": "3.8.13"
  },
  "orig_nbformat": 4
 },
 "nbformat": 4,
 "nbformat_minor": 2
}

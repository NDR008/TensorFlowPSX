{
 "cells": [
  {
   "cell_type": "code",
   "execution_count": 2,
   "metadata": {},
   "outputs": [
    {
     "name": "stdout",
     "output_type": "stream",
     "text": [
      "position 1\n",
      "position 2\n",
      "26 84 565 486\n"
     ]
    }
   ],
   "source": [
    "# just to find screen limits\n",
    "screenXY = []\n",
    "\n",
    "import pyautogui as py\n",
    "import time\n",
    "for i in range(0, 2):\n",
    "    print(\"position\", i+1)\n",
    "    time.sleep(3)\n",
    "    screenXY.append(py.position())\n",
    "x1,y1 = screenXY[0]\n",
    "x2,y2 = screenXY[1]\n",
    "print(x1,y1,x2,y2)"
   ]
  },
  {
   "cell_type": "code",
   "execution_count": 2,
   "metadata": {},
   "outputs": [],
   "source": [
    "x1=25\n",
    "y1=84\n",
    "x2=565 \n",
    "y2=486"
   ]
  },
  {
   "cell_type": "code",
   "execution_count": 3,
   "metadata": {},
   "outputs": [],
   "source": [
    "import numpy as np\n",
    "import d3dshot\n",
    "import cv2\n",
    "from time import time\n",
    "\n",
    "\n",
    "def screen_record_d3dshot_play():\n",
    "    screen_buffer = d3dshot.create(\n",
    "        capture_output=\"numpy\")\n",
    "    screen_buffer.display = screen_buffer.displays[0]\n",
    "    start_time = time()\n",
    "    while (True):\n",
    "        printscreen = screen_buffer.screenshot(region=(x1, y1, x2, y2))\n",
    "        grey = cv2.GaussianBlur(printscreen, (5, 5), 0)\n",
    "        canny = cv2.Canny(grey, threshold1=50, threshold2=100)\n",
    "        enhanced = cv2.equalizeHist(canny)\n",
    "        cv2.imshow('window', cv2.cvtColor(enhanced, cv2.COLOR_BGR2RGB))\n",
    "        if cv2.waitKey(1) & 0xFF == ord('q'):\n",
    "            cv2.destroyAllWindows()\n",
    "            break\n",
    "    end_time = time()\n",
    "    cv2.destroyAllWindows()\n",
    "    screen_buffer.stop()\n",
    "    return (end_time - start_time)\n"
   ]
  },
  {
   "cell_type": "code",
   "execution_count": 4,
   "metadata": {},
   "outputs": [
    {
     "data": {
      "text/plain": [
       "18.47872018814087"
      ]
     },
     "execution_count": 4,
     "metadata": {},
     "output_type": "execute_result"
    }
   ],
   "source": [
    "screen_record_d3dshot_play()"
   ]
  },
  {
   "cell_type": "code",
   "execution_count": 2,
   "metadata": {},
   "outputs": [],
   "source": [
    "x1=25\n",
    "y1=84\n",
    "x2=565 \n",
    "y2=486"
   ]
  },
  {
   "cell_type": "code",
   "execution_count": 9,
   "metadata": {},
   "outputs": [],
   "source": [
    "import numpy as np\n",
    "import d3dshot\n",
    "import cv2\n",
    "\n",
    "\n",
    "def gray_equal_blur_canny():\n",
    "    screen_buffer = d3dshot.create(\n",
    "        capture_output=\"numpy\")\n",
    "    screen_buffer.display = screen_buffer.displays[0]\n",
    "    while (True):\n",
    "        printscreen = screen_buffer.screenshot(region=(x1, y1, x2, y2))\n",
    "        grey = cv2.cvtColor(printscreen, cv2.COLOR_BGR2GRAY)\n",
    "        enhanced = cv2.equalizeHist(grey)\n",
    "        blur = cv2.GaussianBlur(enhanced, (5, 5), 0)\n",
    "        canny = cv2.Canny(blur, threshold1=50, threshold2=100)\n",
    "        cv2.imshow('window', cv2.cvtColor(canny, cv2.COLOR_BGR2RGB))\n",
    "        if cv2.waitKey(1) & 0xFF == ord('q'):\n",
    "            cv2.destroyAllWindows()\n",
    "            break\n",
    "    cv2.destroyAllWindows()\n",
    "    screen_buffer.stop()\n",
    "\n",
    "\n",
    "def gray_blur_canny():\n",
    "    screen_buffer = d3dshot.create(\n",
    "        capture_output=\"numpy\")\n",
    "    screen_buffer.display = screen_buffer.displays[0]\n",
    "    while (True):\n",
    "        printscreen = screen_buffer.screenshot(region=(x1, y1, x2, y2))\n",
    "        grey = cv2.cvtColor(printscreen, cv2.COLOR_BGR2GRAY)\n",
    "        blur = cv2.GaussianBlur(grey, (5, 5), 0)\n",
    "        canny = cv2.Canny(blur, threshold1=50, threshold2=100)\n",
    "        cv2.imshow('window', cv2.cvtColor(canny, cv2.COLOR_BGR2RGB))\n",
    "        if cv2.waitKey(1) & 0xFF == ord('q'):\n",
    "            cv2.destroyAllWindows()\n",
    "            break\n",
    "    cv2.destroyAllWindows()\n",
    "    screen_buffer.stop()\n",
    "\n",
    "\n",
    "def gray_equ_canny():\n",
    "    screen_buffer = d3dshot.create(\n",
    "        capture_output=\"numpy\")\n",
    "    screen_buffer.display = screen_buffer.displays[0]\n",
    "    while (True):\n",
    "        printscreen = screen_buffer.screenshot(region=(x1, y1, x2, y2))\n",
    "        grey = cv2.cvtColor(printscreen, cv2.COLOR_BGR2GRAY)\n",
    "        enhanced = cv2.equalizeHist(grey)\n",
    "        canny = cv2.Canny(enhanced, threshold1=50, threshold2=100)\n",
    "        cv2.imshow('window', cv2.cvtColor(canny, cv2.COLOR_BGR2RGB))\n",
    "        if cv2.waitKey(1) & 0xFF == ord('q'):\n",
    "            cv2.destroyAllWindows()\n",
    "            break\n",
    "    cv2.destroyAllWindows()\n",
    "    screen_buffer.stop()\n",
    "\n",
    "\n",
    "def gray_canny():\n",
    "    screen_buffer = d3dshot.create(\n",
    "        capture_output=\"numpy\")\n",
    "    screen_buffer.display = screen_buffer.displays[0]\n",
    "    while (True):\n",
    "        printscreen = screen_buffer.screenshot(region=(x1, y1, x2, y2))\n",
    "        grey = cv2.cvtColor(printscreen, cv2.COLOR_BGR2GRAY)\n",
    "        canny = cv2.Canny(grey, threshold1=50, threshold2=100)\n",
    "        cv2.imshow('window', cv2.cvtColor(canny, cv2.COLOR_BGR2RGB))\n",
    "        if cv2.waitKey(1) & 0xFF == ord('q'):\n",
    "            cv2.destroyAllWindows()\n",
    "            break\n",
    "    cv2.destroyAllWindows()\n",
    "    screen_buffer.stop()\n",
    "    \n",
    "    \n",
    "def gray_blur_equ_canny():\n",
    "    screen_buffer = d3dshot.create(\n",
    "        capture_output=\"numpy\")\n",
    "    screen_buffer.display = screen_buffer.displays[0]\n",
    "    while (True):\n",
    "        printscreen = screen_buffer.screenshot(region=(x1, y1, x2, y2))\n",
    "        grey = cv2.cvtColor(printscreen, cv2.COLOR_BGR2GRAY)\n",
    "        blur = cv2.GaussianBlur(grey, (3, 3), 0)\n",
    "        enhanced = cv2.equalizeHist(blur)\n",
    "        canny = cv2.Canny(enhanced, threshold1=50, threshold2=100)\n",
    "        cv2.imshow('window', cv2.cvtColor(canny, cv2.COLOR_BGR2RGB))\n",
    "        if cv2.waitKey(1) & 0xFF == ord('q'):\n",
    "            cv2.destroyAllWindows()\n",
    "            break\n",
    "    cv2.destroyAllWindows()\n",
    "    screen_buffer.stop()\n"
   ]
  },
  {
   "cell_type": "code",
   "execution_count": 29,
   "metadata": {},
   "outputs": [
    {
     "name": "stdout",
     "output_type": "stream",
     "text": [
      "gray_equal_blur_canny()\n",
      "Only 1 instance of D3DShot is allowed per process! Returning the existing instance...\n",
      "gray_equ_canny()\n",
      "Only 1 instance of D3DShot is allowed per process! Returning the existing instance...\n",
      "gray_canny()\n",
      "Only 1 instance of D3DShot is allowed per process! Returning the existing instance...\n",
      "gray_blur_equ_canny\n",
      "Only 1 instance of D3DShot is allowed per process! Returning the existing instance...\n"
     ]
    }
   ],
   "source": [
    "print(\"gray_equal_blur_canny()\")\n",
    "gray_blur_canny()\n",
    "\n",
    "print(\"gray_equ_canny()\")\n",
    "gray_equ_canny()\n",
    "\n",
    "print(\"gray_canny()\")\n",
    "gray_canny()\n",
    "\n",
    "print(\"gray_blur_equ_canny\")\n",
    "gray_blur_equ_canny()\n"
   ]
  },
  {
   "cell_type": "code",
   "execution_count": 24,
   "metadata": {},
   "outputs": [
    {
     "name": "stdout",
     "output_type": "stream",
     "text": [
      "Only 1 instance of D3DShot is allowed per process! Returning the existing instance...\n"
     ]
    }
   ],
   "source": [
    "import numpy as np\n",
    "import d3dshot\n",
    "import cv2\n",
    "\n",
    "def gray_canny():\n",
    "    screen_buffer = d3dshot.create(\n",
    "        capture_output=\"numpy\")\n",
    "    screen_buffer.display = screen_buffer.displays[0]\n",
    "    while (True):\n",
    "        printscreen = screen_buffer.screenshot(region=(x1, y1, x2, y2))\n",
    "        grey = cv2.cvtColor(printscreen, cv2.COLOR_BGR2GRAY)\n",
    "        canny = cv2.Canny(grey, threshold1=50, threshold2=100)\n",
    "        cv2.imshow('grey', cv2.cvtColor(grey, cv2.COLOR_BGR2RGB))\n",
    "        cv2.imshow('canny', cv2.cvtColor(canny, cv2.COLOR_BGR2RGB))\n",
    "        if cv2.waitKey(1) & 0xFF == ord('q'):\n",
    "            cv2.destroyAllWindows()\n",
    "            break\n",
    "    cv2.destroyAllWindows()\n",
    "    screen_buffer.stop()\n",
    "    \n",
    "gray_canny()\n"
   ]
  },
  {
   "cell_type": "code",
   "execution_count": 27,
   "metadata": {},
   "outputs": [
    {
     "name": "stdout",
     "output_type": "stream",
     "text": [
      "Only 1 instance of D3DShot is allowed per process! Returning the existing instance...\n"
     ]
    }
   ],
   "source": [
    "import numpy as np\n",
    "import d3dshot\n",
    "import cv2\n",
    "\n",
    "\n",
    "def trial_canny():\n",
    "    screen_buffer = d3dshot.create(\n",
    "        capture_output=\"numpy\")\n",
    "    screen_buffer.display = screen_buffer.displays[0]\n",
    "    while (True):\n",
    "        printscreen = screen_buffer.screenshot(region=(x1, y1, x2, y2))\n",
    "        hsv = cv2.cvtColor(printscreen, cv2.COLOR_BGR2HSV)\n",
    "        \n",
    "        # Threshold of blue in HSV space\n",
    "        lower_blue = np.array([60, 35, 140])\n",
    "        upper_blue = np.array([180, 255, 255])\n",
    "        mask = cv2.inRange(hsv, lower_blue, upper_blue)\n",
    "        \n",
    "        grey = cv2.cvtColor(printscreen, cv2.COLOR_BGR2GRAY)\n",
    "        canny = cv2.Canny(grey, threshold1=50, threshold2=100)\n",
    "        \n",
    "        result = cv2.bitwise_and(printscreen, printscreen, mask=mask)\n",
    "        \n",
    "        cv2.imshow('grey', cv2.cvtColor(grey, cv2.COLOR_BGR2RGB))\n",
    "        cv2.imshow('canny', cv2.cvtColor(canny, cv2.COLOR_BGR2RGB))\n",
    "        cv2.imshow('mask', cv2.cvtColor(mask, cv2.COLOR_BGR2RGB))\n",
    "        cv2.imshow('blue', cv2.cvtColor(result, cv2.COLOR_BGR2RGB))\n",
    "        \n",
    "        if cv2.waitKey(1) & 0xFF == ord('q'):\n",
    "            cv2.destroyAllWindows()\n",
    "            break\n",
    "    cv2.destroyAllWindows()\n",
    "    screen_buffer.stop()\n",
    "\n",
    "\n",
    "trial_canny()\n",
    "\n"
   ]
  },
  {
   "cell_type": "code",
   "execution_count": null,
   "metadata": {},
   "outputs": [],
   "source": []
  }
 ],
 "metadata": {
  "interpreter": {
   "hash": "6aef3a745e1466696f27a5a5f71385f9214d0aa2f1ae3808408da853c63885ad"
  },
  "kernelspec": {
   "display_name": "Python 3.8.13 ('GTAI')",
   "language": "python",
   "name": "python3"
  },
  "language_info": {
   "codemirror_mode": {
    "name": "ipython",
    "version": 3
   },
   "file_extension": ".py",
   "mimetype": "text/x-python",
   "name": "python",
   "nbconvert_exporter": "python",
   "pygments_lexer": "ipython3",
   "version": "3.8.13"
  },
  "orig_nbformat": 4
 },
 "nbformat": 4,
 "nbformat_minor": 2
}

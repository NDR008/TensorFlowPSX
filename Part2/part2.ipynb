{
 "cells": [
  {
   "cell_type": "code",
   "execution_count": 7,
   "metadata": {},
   "outputs": [
    {
     "name": "stdout",
     "output_type": "stream",
     "text": [
      "position 1\n",
      "position 2\n",
      "112 100 877 657\n"
     ]
    }
   ],
   "source": [
    "# just to find screen limits\n",
    "\n",
    "screenXY = []\n",
    "\n",
    "import pyautogui as py\n",
    "import time\n",
    "for i in range(0, 2):\n",
    "    print(\"position\", i+1)\n",
    "    time.sleep(3)\n",
    "    screenXY.append(py.position())\n",
    "x1,y1 = screenXY[0]\n",
    "x2,y2 = screenXY[1]\n",
    "print(x1,y1,x2,y2)"
   ]
  },
  {
   "cell_type": "code",
   "execution_count": 5,
   "metadata": {},
   "outputs": [],
   "source": [
    "Frames = 120"
   ]
  },
  {
   "cell_type": "code",
   "execution_count": 8,
   "metadata": {},
   "outputs": [
    {
     "name": "stdout",
     "output_type": "stream",
     "text": [
      "5.975224494934082\n",
      "9.28847074508667\n",
      "9.220142602920532\n",
      "12.956604480743408\n",
      "13.192422866821289\n"
     ]
    }
   ],
   "source": [
    "import numpy as np\n",
    "from PIL import ImageGrab\n",
    "import cv2\n",
    "from time import process_time_ns, time\n",
    "\n",
    "tests = [1, 5, 20, 50, 60]\n",
    "\n",
    "for test in tests:\n",
    "    start_time = time()\n",
    "    for i in range(0, 120):\n",
    "        printscreen = np.array(ImageGrab.grab(bbox=(x1, y1, x2, y2)))\n",
    "        cv2.imshow('window', cv2.cvtColor(printscreen, cv2.COLOR_BGR2RGB))\n",
    "        if cv2.waitKey(test) & 0xFF == ord('q'):\n",
    "            cv2.destroyAllWindows()\n",
    "            break\n",
    "    end_time = time()\n",
    "    cv2.destroyAllWindows()\n",
    "    print (end_time - start_time)\n"
   ]
  },
  {
   "cell_type": "code",
   "execution_count": 9,
   "metadata": {},
   "outputs": [],
   "source": [
    "# Main loop for screen grab and checking performance\n",
    "# Using PIL\n",
    "\n",
    "import numpy as np\n",
    "from PIL import ImageGrab\n",
    "import cv2\n",
    "from time import process_time_ns, time\n",
    "\n",
    "def screen_record_pil():\n",
    "    start_time = time()\n",
    "    for i in range(0, Frames):\n",
    "        printscreen = np.array(ImageGrab.grab(bbox=(x1, y1, x2, y2)))\n",
    "        cv2.imshow('window', cv2.cvtColor(printscreen, cv2.COLOR_BGR2RGB))\n",
    "        if cv2.waitKey(1) & 0xFF == ord('q'):\n",
    "            cv2.destroyAllWindows()\n",
    "            break\n",
    "    end_time = time()\n",
    "    cv2.destroyAllWindows()\n",
    "    return (end_time - start_time)"
   ]
  },
  {
   "cell_type": "code",
   "execution_count": 10,
   "metadata": {},
   "outputs": [],
   "source": [
    "# Main loop for screen grab and checking performance\n",
    "# Using pyautogui\n",
    "\n",
    "import numpy as np\n",
    "import pyautogui\n",
    "import cv2\n",
    "from time import process_time_ns, time\n",
    "\n",
    "\n",
    "def screen_record_py():\n",
    "    start_time = time()\n",
    "    for i in range(0, Frames):\n",
    "        printscreen = np.array(pyautogui.screenshot(region=(x1, y1, x2, y2)))\n",
    "        cv2.imshow('window', cv2.cvtColor(printscreen, cv2.COLOR_BGR2RGB))\n",
    "        if cv2.waitKey(1) & 0xFF == ord('q'):\n",
    "            cv2.destroyAllWindows()\n",
    "            break\n",
    "    end_time = time()\n",
    "    cv2.destroyAllWindows()\n",
    "    return (end_time - start_time)"
   ]
  },
  {
   "cell_type": "code",
   "execution_count": 11,
   "metadata": {},
   "outputs": [],
   "source": [
    "# Main loop for screen grab and checking performance\n",
    "# Using mss\n",
    "\n",
    "import numpy as np\n",
    "import mss\n",
    "import cv2\n",
    "from time import time\n",
    "\n",
    "\n",
    "def screen_record_mss():\n",
    "    start_time = time()\n",
    "    bbox = (x1, y1, x2, y2)\n",
    "    for i in range(0, Frames):\n",
    "        with mss.mss() as sct:\n",
    "            printscreen = np.array(sct.grab(bbox))\n",
    "            cv2.imshow('window', printscreen)\n",
    "        if cv2.waitKey(1) & 0xFF == ord('q'):\n",
    "            cv2.destroyAllWindows()\n",
    "            break\n",
    "    end_time = time()\n",
    "    cv2.destroyAllWindows()\n",
    "    return (end_time - start_time)\n"
   ]
  },
  {
   "cell_type": "code",
   "execution_count": 12,
   "metadata": {},
   "outputs": [],
   "source": [
    "# Main loop for screen grab and checking performance\n",
    "# Using d3dshot\n",
    "\n",
    "import numpy as np\n",
    "import d3dshot\n",
    "import cv2\n",
    "from time import time\n",
    "\n",
    "\n",
    "\n",
    "def screen_record_d3dshot_sc():\n",
    "    screen_buffer = d3dshot.create(\n",
    "        capture_output=\"numpy\")\n",
    "    screen_buffer.display = screen_buffer.displays[0]\n",
    "    start_time = time()\n",
    "    for i in range(0, Frames):\n",
    "        printscreen = screen_buffer.screenshot(region=(x1, y1, x2, y2))\n",
    "        cv2.imshow('window', cv2.cvtColor(printscreen, cv2.COLOR_BGR2RGB))\n",
    "        if cv2.waitKey(1) & 0xFF == ord('q'):\n",
    "            cv2.destroyAllWindows()\n",
    "            break\n",
    "    end_time = time()\n",
    "    cv2.destroyAllWindows()\n",
    "    screen_buffer.stop()\n",
    "    return (end_time - start_time)\n",
    "\n",
    "\n",
    "def screen_record_d3dshot_buff():\n",
    "    screen_buffer = d3dshot.create(\n",
    "        capture_output=\"numpy\", frame_buffer_size=20)\n",
    "    screen_buffer.display = screen_buffer.displays[0]\n",
    "    screen_buffer.capture(region=(x1, y1, x2, y2))\n",
    "    start_time = time()\n",
    "    for i in range(0, Frames):\n",
    "        printscreen = screen_buffer.get_latest_frame()\n",
    "        cv2.imshow('window', cv2.cvtColor(printscreen, cv2.COLOR_BGR2RGB))\n",
    "        if cv2.waitKey(1) & 0xFF == ord('q'):\n",
    "            cv2.destroyAllWindows()\n",
    "            break\n",
    "    end_time = time()\n",
    "    cv2.destroyAllWindows()\n",
    "    screen_buffer.stop()\n",
    "    return (end_time - start_time)\n",
    "    \n"
   ]
  },
  {
   "cell_type": "code",
   "execution_count": 13,
   "metadata": {},
   "outputs": [
    {
     "name": "stdout",
     "output_type": "stream",
     "text": [
      "PIL:  26.603017432889175\n",
      "pyautogui:  25.482013745255944\n",
      "mss:  40.77198698968235\n"
     ]
    }
   ],
   "source": [
    "print(\"PIL: \", 1/(screen_record_pil()/Frames))\n",
    "print(\"pyautogui: \", 1/(screen_record_py()/Frames))\n",
    "print(\"mss: \", 1/(screen_record_mss()/Frames))\n",
    "\n"
   ]
  },
  {
   "cell_type": "code",
   "execution_count": 16,
   "metadata": {},
   "outputs": [
    {
     "name": "stdout",
     "output_type": "stream",
     "text": [
      "Only 1 instance of D3DShot is allowed per process! Returning the existing instance...\n",
      "d3d_sc:  53.605228154507934\n"
     ]
    }
   ],
   "source": [
    "print(\"d3d_sc: \", 1/(screen_record_d3dshot_sc()/Frames))"
   ]
  },
  {
   "cell_type": "code",
   "execution_count": 18,
   "metadata": {},
   "outputs": [
    {
     "name": "stdout",
     "output_type": "stream",
     "text": [
      "Only 1 instance of D3DShot is allowed per process! Returning the existing instance...\n",
      "Only 1 instance of D3DShot is allowed per process! Returning the existing instance...\n",
      "d3d_buff:  20.21228752794509\n"
     ]
    }
   ],
   "source": [
    "print(\"d3d_buff: \", 1/(screen_record_d3dshot_buff()/Frames))"
   ]
  },
  {
   "cell_type": "code",
   "execution_count": 20,
   "metadata": {},
   "outputs": [
    {
     "name": "stdout",
     "output_type": "stream",
     "text": [
      "Only 1 instance of D3DShot is allowed per process! Returning the existing instance...\n"
     ]
    },
    {
     "data": {
      "text/plain": [
       "64.46888375282288"
      ]
     },
     "execution_count": 20,
     "metadata": {},
     "output_type": "execute_result"
    }
   ],
   "source": [
    "import numpy as np\n",
    "import d3dshot\n",
    "import cv2\n",
    "from time import time\n",
    "\n",
    "\n",
    "def screen_record_d3dshot_play():\n",
    "    screen_buffer = d3dshot.create(\n",
    "        capture_output=\"numpy\")\n",
    "    screen_buffer.display = screen_buffer.displays[0]\n",
    "    start_time = time()\n",
    "    while (True):\n",
    "        printscreen = screen_buffer.screenshot(region=(x1, y1, x2, y2))\n",
    "        cv2.imshow('window', cv2.cvtColor(printscreen, cv2.COLOR_BGR2RGB))\n",
    "        if cv2.waitKey(1) & 0xFF == ord('q'):\n",
    "            cv2.destroyAllWindows()\n",
    "            break\n",
    "    end_time = time()\n",
    "    cv2.destroyAllWindows()\n",
    "    screen_buffer.stop()\n",
    "    return (end_time - start_time)\n",
    "\n",
    "\n",
    "screen_record_d3dshot_play()"
   ]
  },
  {
   "cell_type": "code",
   "execution_count": 1,
   "metadata": {},
   "outputs": [],
   "source": [
    "import vgamepad as vg\n",
    "import time\n",
    "\n",
    "gamepad = vg.VDS4Gamepad()\n",
    "\n",
    "# press a button to wake the device up\n",
    "gamepad.press_button(button=vg.DS4_BUTTONS.DS4_BUTTON_TRIANGLE)\n",
    "gamepad.update()\n",
    "time.sleep(0.5)\n",
    "gamepad.release_button(button=vg.DS4_BUTTONS.DS4_BUTTON_TRIANGLE)\n",
    "gamepad.update()\n",
    "time.sleep(0.5)\n",
    "\n",
    "# press buttons and things\n",
    "gamepad.press_button(button=vg.DS4_BUTTONS.DS4_BUTTON_TRIANGLE)\n",
    "gamepad.press_button(button=vg.DS4_BUTTONS.DS4_BUTTON_CIRCLE)\n",
    "gamepad.press_button(button=vg.DS4_BUTTONS.DS4_BUTTON_THUMB_RIGHT)\n",
    "gamepad.press_button(button=vg.DS4_BUTTONS.DS4_BUTTON_TRIGGER_LEFT)\n",
    "gamepad.press_special_button(\n",
    "    special_button=vg.DS4_SPECIAL_BUTTONS.DS4_SPECIAL_BUTTON_TOUCHPAD)\n",
    "gamepad.left_trigger_float(value_float=0.5)\n",
    "gamepad.right_trigger_float(value_float=0.5)\n",
    "gamepad.left_joystick_float(x_value_float=0.0, y_value_float=0.2)\n",
    "gamepad.right_joystick_float(x_value_float=-1.0, y_value_float=1.0)\n",
    "\n",
    "gamepad.update()\n",
    "\n",
    "time.sleep(5.0)\n",
    "\n",
    "# release buttons and things\n",
    "gamepad.release_button(button=vg.DS4_BUTTONS.DS4_BUTTON_TRIANGLE)\n",
    "gamepad.right_trigger_float(value_float=0.0)\n",
    "gamepad.right_joystick_float(x_value_float=0.0, y_value_float=0.0)\n",
    "\n",
    "gamepad.update()\n",
    "\n",
    "time.sleep(1.0)\n",
    "\n",
    "# reset gamepad to default state\n",
    "gamepad.reset()\n",
    "\n",
    "gamepad.update()\n",
    "\n",
    "time.sleep(1.0)\n"
   ]
  }
 ],
 "metadata": {
  "interpreter": {
   "hash": "6aef3a745e1466696f27a5a5f71385f9214d0aa2f1ae3808408da853c63885ad"
  },
  "kernelspec": {
   "display_name": "Python 3.8.13 ('GTAI')",
   "language": "python",
   "name": "python3"
  },
  "language_info": {
   "codemirror_mode": {
    "name": "ipython",
    "version": 3
   },
   "file_extension": ".py",
   "mimetype": "text/x-python",
   "name": "python",
   "nbconvert_exporter": "python",
   "pygments_lexer": "ipython3",
   "version": "3.8.13"
  },
  "orig_nbformat": 4
 },
 "nbformat": 4,
 "nbformat_minor": 2
}

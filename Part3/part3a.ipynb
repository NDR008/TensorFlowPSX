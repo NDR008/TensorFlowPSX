{
 "cells": [
  {
   "cell_type": "markdown",
   "metadata": {},
   "source": [
    "The vgamepad method works on Duckstation but not PCSX-Redux... bummer"
   ]
  },
  {
   "cell_type": "code",
   "execution_count": null,
   "metadata": {},
   "outputs": [],
   "source": [
    "import vgamepad as vg\n",
    "import time\n",
    "\n",
    "gamepad = vg.VDS4Gamepad()\n",
    "\n",
    "# press a button to wake the device up\n",
    "gamepad.press_button(button=vg.DS4_BUTTONS.DS4_BUTTON_CROSS)\n",
    "gamepad.update()\n",
    "time.sleep(0.5)\n",
    "gamepad.release_button(button=vg.DS4_BUTTONS.DS4_BUTTON_CROSS)\n",
    "gamepad.update()\n",
    "time.sleep(15)\n",
    "\n",
    "while True:\n",
    "    # press buttons and things\n",
    "    gamepad.press_button(button=vg.DS4_BUTTONS.DS4_BUTTON_CROSS)\n",
    "    gamepad.update()\n",
    "    time.sleep(0.5)\n",
    "\n",
    "    # release buttons and things\n",
    "    gamepad.release_button(button=vg.DS4_BUTTONS.DS4_BUTTON_CROSS)\n",
    "    gamepad.update()\n",
    "    time.sleep(1.0)\n",
    "\n",
    "# reset gamepad to default state\n",
    "gamepad.reset()\n"
   ]
  },
  {
   "cell_type": "code",
   "execution_count": null,
   "metadata": {},
   "outputs": [],
   "source": [
    "import vgamepad as vg\n",
    "import time\n",
    "\n",
    "gamepad = vg.VX360Gamepad()\n",
    "\n",
    "# press a button to wake the device up\n",
    "gamepad.press_button(button=vg.XUSB_BUTTON.XUSB_GAMEPAD_A)\n",
    "gamepad.update()\n",
    "time.sleep(0.5)\n",
    "gamepad.release_button(button=vg.XUSB_BUTTON.XUSB_GAMEPAD_A)\n",
    "gamepad.update()\n",
    "time.sleep(15)\n",
    "\n",
    "while True:\n",
    "    # press buttons and things\n",
    "    gamepad.press_button(button=vg.XUSB_BUTTON.XUSB_GAMEPAD_A)\n",
    "    gamepad.update()\n",
    "    time.sleep(0.5)\n",
    "\n",
    "    # release buttons and things\n",
    "    gamepad.release_button(button=vg.XUSB_BUTTON.XUSB_GAMEPAD_A)\n",
    "    gamepad.update()\n",
    "    time.sleep(1.0)\n",
    "\n",
    "# reset gamepad to default state\n",
    "gamepad.reset()"
   ]
  }
 ],
 "metadata": {
  "interpreter": {
   "hash": "6aef3a745e1466696f27a5a5f71385f9214d0aa2f1ae3808408da853c63885ad"
  },
  "kernelspec": {
   "display_name": "Python 3.8.13 ('GTAI')",
   "language": "python",
   "name": "python3"
  },
  "language_info": {
   "codemirror_mode": {
    "name": "ipython",
    "version": 3
   },
   "file_extension": ".py",
   "mimetype": "text/x-python",
   "name": "python",
   "nbconvert_exporter": "python",
   "pygments_lexer": "ipython3",
   "version": "3.8.13"
  },
  "orig_nbformat": 4
 },
 "nbformat": 4,
 "nbformat_minor": 2
}

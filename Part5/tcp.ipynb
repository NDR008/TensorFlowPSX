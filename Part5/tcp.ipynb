{
 "cells": [
  {
   "cell_type": "code",
   "execution_count": 2,
   "metadata": {},
   "outputs": [
    {
     "name": "stdout",
     "output_type": "stream",
     "text": [
      "127.0.0.1 wrote:\n",
      "b''\n",
      "127.0.0.1 wrote:\n",
      "b''\n"
     ]
    }
   ],
   "source": [
    "import socketserver\n",
    "\n",
    "\n",
    "class MyTCPHandler(socketserver.BaseRequestHandler):\n",
    "    \"\"\"\n",
    "    The request handler class for our server.\n",
    "\n",
    "    It is instantiated once per connection to the server, and must\n",
    "    override the handle() method to implement communication to the\n",
    "    client.\n",
    "    \"\"\"\n",
    "\n",
    "    def handle(self):\n",
    "        # self.request is the TCP socket connected to the client\n",
    "        self.data = self.request.recv(1024).strip()\n",
    "        print(\"{} wrote:\".format(self.client_address[0]))\n",
    "        print(self.data)\n",
    "        # just send back the same data, but upper-cased\n",
    "        self.request.sendall(self.data.upper())\n",
    "        # here you can do self.request.sendall(use the os library and display the ls command)\n",
    "\n",
    "\n",
    "if __name__ == \"__main__\":\n",
    "    HOST, PORT = \"localhost\", 9999\n",
    "\n",
    "    # Create the server, binding to localhost on port 9999\n",
    "    with socketserver.TCPServer((HOST, PORT), MyTCPHandler) as server:\n",
    "        # Activate the server; this will keep running until you\n",
    "        # interrupt the program with Ctrl-C\n",
    "        server.serve_forever()\n"
   ]
  }
 ],
 "metadata": {
  "kernelspec": {
   "display_name": "Python 3.8.13 ('GTAI')",
   "language": "python",
   "name": "python3"
  },
  "language_info": {
   "codemirror_mode": {
    "name": "ipython",
    "version": 3
   },
   "file_extension": ".py",
   "mimetype": "text/x-python",
   "name": "python",
   "nbconvert_exporter": "python",
   "pygments_lexer": "ipython3",
   "version": "3.8.13"
  },
  "orig_nbformat": 4,
  "vscode": {
   "interpreter": {
    "hash": "6aef3a745e1466696f27a5a5f71385f9214d0aa2f1ae3808408da853c63885ad"
   }
  }
 },
 "nbformat": 4,
 "nbformat_minor": 2
}

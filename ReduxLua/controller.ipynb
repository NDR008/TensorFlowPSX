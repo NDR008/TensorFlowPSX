{
 "cells": [
  {
   "cell_type": "code",
   "execution_count": 1,
   "metadata": {},
   "outputs": [],
   "source": [
    "import vgamepad as vg\n",
    "import time\n",
    "\n",
    "gamepad = vg.VDS4Gamepad()"
   ]
  },
  {
   "cell_type": "code",
   "execution_count": 2,
   "metadata": {},
   "outputs": [
    {
     "ename": "KeyboardInterrupt",
     "evalue": "",
     "output_type": "error",
     "traceback": [
      "\u001b[1;31m---------------------------------------------------------------------------\u001b[0m",
      "\u001b[1;31mKeyboardInterrupt\u001b[0m                         Traceback (most recent call last)",
      "Cell \u001b[1;32mIn [2], line 6\u001b[0m\n\u001b[0;32m      4\u001b[0m gamepad\u001b[39m.\u001b[39mpress_button(button\u001b[39m=\u001b[39mvg\u001b[39m.\u001b[39mDS4_BUTTONS\u001b[39m.\u001b[39mDS4_BUTTON_CROSS )\n\u001b[0;32m      5\u001b[0m gamepad\u001b[39m.\u001b[39mupdate()\n\u001b[1;32m----> 6\u001b[0m time\u001b[39m.\u001b[39;49msleep(\u001b[39m1.5\u001b[39;49m)\n\u001b[0;32m      7\u001b[0m \u001b[39m# (...)\u001b[39;00m\n\u001b[0;32m      8\u001b[0m time\u001b[39m.\u001b[39msleep(\u001b[39m0.2\u001b[39m)\n",
      "\u001b[1;31mKeyboardInterrupt\u001b[0m: "
     ]
    }
   ],
   "source": [
    "\n",
    "time.sleep(5.0)\n",
    "while True:\n",
    "    \n",
    "    gamepad.press_button(button=vg.DS4_BUTTONS.DS4_BUTTON_CROSS )\n",
    "    gamepad.update()\n",
    "    time.sleep(0.05)\n",
    "    # (...)\n",
    "    time.sleep(0.2)\n",
    "    gamepad.release_button(button=vg.DS4_BUTTONS.DS4_BUTTON_CROSS )\n",
    "    gamepad.update()\n",
    "    time.sleep(0.05)"
   ]
  }
 ],
 "metadata": {
  "kernelspec": {
   "display_name": "Python 3.9.9 ('GTAI2')",
   "language": "python",
   "name": "python3"
  },
  "language_info": {
   "codemirror_mode": {
    "name": "ipython",
    "version": 3
   },
   "file_extension": ".py",
   "mimetype": "text/x-python",
   "name": "python",
   "nbconvert_exporter": "python",
   "pygments_lexer": "ipython3",
   "version": "3.9.9"
  },
  "orig_nbformat": 4,
  "vscode": {
   "interpreter": {
    "hash": "dcc65f9b7d515ed427f6a959a8b908e35cc53d933b40bc021105556ab53999de"
   }
  }
 },
 "nbformat": 4,
 "nbformat_minor": 2
}
